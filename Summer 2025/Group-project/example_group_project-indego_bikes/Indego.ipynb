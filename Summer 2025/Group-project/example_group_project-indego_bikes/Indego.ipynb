{
 "cells": [
  {
   "cell_type": "markdown",
   "id": "b8b23bdc-9a66-4bba-8b0b-7c9e22fd9153",
   "metadata": {
    "tags": []
   },
   "source": [
    "# Indego Bikes: Do electric bikes tempt riders to go faster?\n",
    "\n",
    "<center><b>Abstract</b></center>\n",
    "\n",
    "Bike shares programs are increasingly popular in cities around the world. Following the success of programs in Amsterdam, Paris, and Copenhagen, the City of Philadelphia launched Indego Bikes in 2015. Indego currently maintains a fleet of over 2,000 bicycles, more than half of which are electric bicycles. Urban cycling can be dangerous. To investigate whether riders travel faster on electric bicycles, we compared the duration of trips made using standard and electric bicycles between a pair of stations two miles apart in downtown Philadelphia. Based on a sample size of 142 trips made in the third quarter of 2023 (94 electric, 48 standard), we found that trips on electric bicycles averaged 0.64 minutes shorter (12.34 versus 12.98 minutes) than on standard bicycles. While the difference in trip duration is statistically significant at a 90% confidence level (p = 0.82), it is too small to conclude that riders of electric bicycles are at greater risk.\n",
    "    \n"
   ]
  },
  {
   "cell_type": "markdown",
   "id": "83b08eec-e947-4a72-b8e9-9bcf20218c9f",
   "metadata": {},
   "source": [
    "![Indego riders](Indego_riders.jpg)\n",
    "You are probably all familiar with [Indego Bikes](https://www.rideindego.com/), the Philly bike-share program. What you may not know is that Indego makes ridership data available on their [trip data](https://www.rideindego.com/about/data/) website. \n",
    "\n",
    "In this sample project, we will:\n",
    "* Explore trip data for the third quarter of 2023\n",
    "* Make data visualizations\n",
    "* Formulate an hypothesis\n",
    "* Test the hypothesis using simulation"
   ]
  },
  {
   "cell_type": "code",
   "execution_count": 1,
   "id": "23151c95-3550-4c03-8e91-0d1b0fbde487",
   "metadata": {
    "tags": []
   },
   "outputs": [],
   "source": [
    "import numpy as np\n",
    "from datascience import *\n",
    "import matplotlib.pyplot as plt\n",
    "plt.style.use('fivethirtyeight')\n",
    "%matplotlib inline"
   ]
  },
  {
   "cell_type": "markdown",
   "id": "d1b81b72-9ab5-46f4-8a0e-d77b4cf684cd",
   "metadata": {},
   "source": [
    "## Load the data"
   ]
  },
  {
   "cell_type": "code",
   "execution_count": 2,
   "id": "9814ca0d-7904-4981-955a-38e4810f861a",
   "metadata": {
    "tags": []
   },
   "outputs": [],
   "source": [
    "# Note: this is a large data, hence the low_memory flag.\n",
    "indego = Table.read_table('indego-trips-2023-q3-2.csv', low_memory=False)"
   ]
  },
  {
   "cell_type": "markdown",
   "id": "42eadfae-ffde-4a70-9eae-6df14794ed50",
   "metadata": {},
   "source": [
    "## Exploratory Data Analysis"
   ]
  },
  {
   "cell_type": "code",
   "execution_count": 3,
   "id": "eca2284a-6304-4560-99ed-cafa2eb22430",
   "metadata": {
    "tags": []
   },
   "outputs": [
    {
     "data": {
      "text/html": [
       "<table border=\"1\" class=\"dataframe\">\n",
       "    <thead>\n",
       "        <tr>\n",
       "            <th>trip_id</th> <th>duration</th> <th>start_time</th> <th>end_time</th> <th>start_station</th> <th>start_lat</th> <th>start_lon</th> <th>end_station</th> <th>end_lat</th> <th>end_lon</th> <th>bike_id</th> <th>plan_duration</th> <th>trip_route_category</th> <th>passholder_type</th> <th>bike_type</th>\n",
       "        </tr>\n",
       "    </thead>\n",
       "    <tbody>\n",
       "        <tr>\n",
       "            <td>677293140</td> <td>2       </td> <td>7/1/2023 0:00</td> <td>7/1/2023 0:02</td> <td>3271         </td> <td>39.9476  </td> <td>-75.2295 </td> <td>3246       </td> <td>39.9478</td> <td>-75.223 </td> <td>25775  </td> <td>30           </td> <td>One Way            </td> <td>Indego30       </td> <td>electric </td>\n",
       "        </tr>\n",
       "        <tr>\n",
       "            <td>677304406</td> <td>27      </td> <td>7/1/2023 0:00</td> <td>7/1/2023 0:27</td> <td>3060         </td> <td>39.9592  </td> <td>-75.1704 </td> <td>3255       </td> <td>39.951 </td> <td>-75.1644</td> <td>14583  </td> <td>30           </td> <td>One Way            </td> <td>Indego30       </td> <td>standard </td>\n",
       "        </tr>\n",
       "        <tr>\n",
       "            <td>677304584</td> <td>32      </td> <td>7/1/2023 0:00</td> <td>7/1/2023 0:32</td> <td>3057         </td> <td>39.9644  </td> <td>-75.1799 </td> <td>3165       </td> <td>39.9582</td> <td>-75.1782</td> <td>5191   </td> <td>1            </td> <td>One Way            </td> <td>Day Pass       </td> <td>standard </td>\n",
       "        </tr>\n",
       "    </tbody>\n",
       "</table>\n",
       "<p>... (353253 rows omitted)</p>"
      ],
      "text/plain": [
       "<IPython.core.display.HTML object>"
      ]
     },
     "metadata": {},
     "output_type": "display_data"
    }
   ],
   "source": [
    "indego.show(3)"
   ]
  },
  {
   "cell_type": "code",
   "execution_count": 4,
   "id": "bdfd0823-00da-4895-8ee9-582ff7d4f0e9",
   "metadata": {
    "tags": []
   },
   "outputs": [
    {
     "data": {
      "text/plain": [
       "353256"
      ]
     },
     "execution_count": 4,
     "metadata": {},
     "output_type": "execute_result"
    }
   ],
   "source": [
    "indego.num_rows"
   ]
  },
  {
   "cell_type": "markdown",
   "id": "1a800bbd-e0f7-46b9-9b35-15d82c798e3d",
   "metadata": {},
   "source": [
    "**That is a lot of bike trips!**"
   ]
  },
  {
   "cell_type": "markdown",
   "id": "db95fc77-9931-4d36-8d41-e254327e5763",
   "metadata": {},
   "source": [
    "### Trip Duration\n",
    "The data set includes the trip durations, which is measured in minutes according to the [website](https://www.rideindego.com/about/data/). Let's see how this variable is distributed. "
   ]
  },
  {
   "cell_type": "code",
   "execution_count": 5,
   "id": "6a89e8a0-e85a-403e-92db-cb51f19416e5",
   "metadata": {
    "tags": []
   },
   "outputs": [
    {
     "name": "stdout",
     "output_type": "stream",
     "text": [
      " The longest trip was 1440 minutes.\n",
      " The shortest trip was 1 minutes.\n"
     ]
    }
   ],
   "source": [
    "min_duration = min(indego.column('duration'))\n",
    "max_duration = max(indego.column('duration'))\n",
    "print(f\" The longest trip was {max_duration} minutes.\")\n",
    "print(f\" The shortest trip was {min_duration} minutes.\")"
   ]
  },
  {
   "cell_type": "markdown",
   "id": "ba8aa396-e70e-4d5a-b2ea-a22ad3607c38",
   "metadata": {},
   "source": [
    "The Indego site says trips below 1 minute are removed. Probably, the rider changed their mind and put the bike back. **But honestly, can you go anywhere in one minute?  Let's see.**\n",
    "\n",
    "There is a field \"trip_route_category\" that is either \"Round Trip\" or \"One Way.\" If a 1-minute trip is round trip, clearly the bike never left the station. Are their any one way trips?"
   ]
  },
  {
   "cell_type": "code",
   "execution_count": 6,
   "id": "ce3002f0-a009-4244-96d6-6e6a05d9ca58",
   "metadata": {
    "tags": []
   },
   "outputs": [
    {
     "data": {
      "text/html": [
       "<table border=\"1\" class=\"dataframe\">\n",
       "    <thead>\n",
       "        <tr>\n",
       "            <th>trip_id</th> <th>duration</th> <th>start_time</th> <th>end_time</th> <th>start_station</th> <th>start_lat</th> <th>start_lon</th> <th>end_station</th> <th>end_lat</th> <th>end_lon</th> <th>bike_id</th> <th>plan_duration</th> <th>trip_route_category</th> <th>passholder_type</th> <th>bike_type</th>\n",
       "        </tr>\n",
       "    </thead>\n",
       "    <tbody>\n",
       "        <tr>\n",
       "            <td>677454652</td> <td>1       </td> <td>7/1/2023 7:54 </td> <td>7/1/2023 7:55 </td> <td>3061         </td> <td>39.9543  </td> <td>-75.1776 </td> <td>3161       </td> <td>39.9549</td> <td>-75.1809</td> <td>14717  </td> <td>30           </td> <td>One Way            </td> <td>Indego30       </td> <td>standard </td>\n",
       "        </tr>\n",
       "        <tr>\n",
       "            <td>677507754</td> <td>1       </td> <td>7/1/2023 9:48 </td> <td>7/1/2023 9:49 </td> <td>3124         </td> <td>39.9537  </td> <td>-75.1396 </td> <td>3169       </td> <td>39.9538</td> <td>-75.1426</td> <td>14598  </td> <td>30           </td> <td>One Way            </td> <td>Indego30       </td> <td>standard </td>\n",
       "        </tr>\n",
       "        <tr>\n",
       "            <td>677597704</td> <td>1       </td> <td>7/1/2023 12:48</td> <td>7/1/2023 12:49</td> <td>3190         </td> <td>39.9489  </td> <td>-75.1699 </td> <td>3000       </td> <td>nan    </td> <td>nan     </td> <td>26260  </td> <td>365          </td> <td>One Way            </td> <td>Indego365      </td> <td>electric </td>\n",
       "        </tr>\n",
       "        <tr>\n",
       "            <td>677630041</td> <td>1       </td> <td>7/1/2023 13:53</td> <td>7/1/2023 13:54</td> <td>3208         </td> <td>39.9505  </td> <td>-75.1932 </td> <td>3020       </td> <td>39.9486</td> <td>-75.1901</td> <td>22610  </td> <td>30           </td> <td>One Way            </td> <td>Indego30       </td> <td>electric </td>\n",
       "        </tr>\n",
       "        <tr>\n",
       "            <td>677719554</td> <td>1       </td> <td>7/1/2023 14:29</td> <td>7/1/2023 14:30</td> <td>3330         </td> <td>39.9538  </td> <td>-75.1647 </td> <td>3000       </td> <td>nan    </td> <td>nan     </td> <td>22127  </td> <td>1            </td> <td>One Way            </td> <td>Day Pass       </td> <td>electric </td>\n",
       "        </tr>\n",
       "    </tbody>\n",
       "</table>\n",
       "<p>... (1092 rows omitted)</p>"
      ],
      "text/plain": [
       "<IPython.core.display.HTML object>"
      ]
     },
     "metadata": {},
     "output_type": "display_data"
    }
   ],
   "source": [
    "quick_trips = indego.where('duration', 1).where('trip_route_category', 'One Way')\n",
    "quick_trips.show(5)"
   ]
  },
  {
   "cell_type": "markdown",
   "id": "bb66a680-e005-4aff-b9ec-2987600dce57",
   "metadata": {},
   "source": [
    "**Wow!** Yes, there are some really fast trips! How is that possible? Let's looks at the start and end stations for the first of these trips in the table above:\n",
    "\n",
    "start_station is 3061\n",
    "\n",
    "end_station is 3161\n",
    "\n",
    "We need to know the station names. Fortunately, Indego provides this in a separate CSV file."
   ]
  },
  {
   "cell_type": "markdown",
   "id": "0cc7e4c5-a489-4d70-a8c2-a4017fdfdfce",
   "metadata": {},
   "source": [
    "### Load Station Name Data"
   ]
  },
  {
   "cell_type": "code",
   "execution_count": 7,
   "id": "d19a21ce-a4c3-4d98-b84e-4b4d5b92f6c5",
   "metadata": {
    "tags": []
   },
   "outputs": [
    {
     "data": {
      "text/html": [
       "<table border=\"1\" class=\"dataframe\">\n",
       "    <thead>\n",
       "        <tr>\n",
       "            <th>Station_ID</th> <th>Station_Name</th> <th>Day of Go_live_date</th> <th>Status</th> <th>Unnamed: 4</th> <th>Unnamed: 5</th> <th>Unnamed: 6</th> <th>Unnamed: 7</th> <th>Unnamed: 8</th> <th>Unnamed: 9</th>\n",
       "        </tr>\n",
       "    </thead>\n",
       "    <tbody>\n",
       "        <tr>\n",
       "            <td>3000      </td> <td>Virtual Station                  </td> <td>4/23/2015          </td> <td>Active  </td> <td>nan       </td> <td>nan       </td> <td>nan       </td> <td>nan       </td> <td>nan       </td> <td>nan       </td>\n",
       "        </tr>\n",
       "        <tr>\n",
       "            <td>3004      </td> <td>Municipal Services Building Plaza</td> <td>4/23/2015          </td> <td>Inactive</td> <td>nan       </td> <td>nan       </td> <td>nan       </td> <td>nan       </td> <td>nan       </td> <td>nan       </td>\n",
       "        </tr>\n",
       "        <tr>\n",
       "            <td>3005      </td> <td>Welcome Park, NPS                </td> <td>4/23/2015          </td> <td>Active  </td> <td>nan       </td> <td>nan       </td> <td>nan       </td> <td>nan       </td> <td>nan       </td> <td>nan       </td>\n",
       "        </tr>\n",
       "    </tbody>\n",
       "</table>\n",
       "<p>... (262 rows omitted)</p>"
      ],
      "text/plain": [
       "<IPython.core.display.HTML object>"
      ]
     },
     "metadata": {},
     "output_type": "display_data"
    }
   ],
   "source": [
    "station_names = Table.read_table('indego-stations-2023-10-01.csv', low_memory=False)\n",
    "station_names.show(3)"
   ]
  },
  {
   "cell_type": "code",
   "execution_count": 8,
   "id": "bd680551-e050-4f6d-b375-551a73b907db",
   "metadata": {
    "tags": []
   },
   "outputs": [
    {
     "name": "stdout",
     "output_type": "stream",
     "text": [
      "Start Station\n",
      "Station_ID | Station_Name\n",
      "3061       | 23rd & Market\n",
      "\n",
      "End Station\n",
      "Station_ID | Station_Name\n",
      "3161       | 30th Street Station East\n"
     ]
    }
   ],
   "source": [
    "# We just need the first two columns\n",
    "station_names = station_names.select('Station_ID', 'Station_Name')\n",
    "print('Start Station')\n",
    "print(station_names.where('Station_ID', 3061))\n",
    "print()\n",
    "print('End Station')\n",
    "print(station_names.where('Station_ID', 3161))"
   ]
  },
  {
   "cell_type": "markdown",
   "id": "2429db26-9d58-4b2c-ab66-6decfac7bd96",
   "metadata": {},
   "source": [
    "![Quick bike trip](quick_trip.jpg)\n",
    "\n",
    "If you put these addresses into Google Maps, it says this is a two-minute ride. I can imagine a Penn or Drexel student getting off the train at 30th street station and making this ride in double-quick time, as it is only a third of a mile. Alternatively, the clocks at the two stations might not be perfectly in sync. Or it could be a rounding down a minute and 29 seconds. Anyway, it appears feasible.\n",
    "\n",
    "Now let's look at the overall distribution of ride durations."
   ]
  },
  {
   "cell_type": "code",
   "execution_count": 9,
   "id": "f828b32a-ebe9-447d-9da9-949d88c228a6",
   "metadata": {
    "tags": []
   },
   "outputs": [
    {
     "data": {
      "image/png": "[encoded data removed]",
      "text/plain": [
       "<Figure size 600x400 with 1 Axes>"
      ]
     },
     "metadata": {},
     "output_type": "display_data"
    }
   ],
   "source": [
    "indego.hist('duration', bins=np.arange(0, 80, 5))"
   ]
  },
  {
   "cell_type": "markdown",
   "id": "8747145c-9051-4f3b-9472-8d6f479ac8d7",
   "metadata": {},
   "source": [
    "We see most trips are short, the peak being 5-10 minutes. Very few are over an hour."
   ]
  },
  {
   "cell_type": "markdown",
   "id": "e544c14b-bf8f-43a0-b610-6c46ac672703",
   "metadata": {},
   "source": [
    "### Trips by Time of Day\n",
    "\n",
    "Let's look at what the distribution of rides by time of day. This requires parsing the hour from strings such as the following."
   ]
  },
  {
   "cell_type": "code",
   "execution_count": 10,
   "id": "71e74c75-747a-4978-933b-37978e8cdc33",
   "metadata": {
    "tags": []
   },
   "outputs": [
    {
     "data": {
      "text/plain": [
       "'7/1/2023 1:29'"
      ]
     },
     "execution_count": 10,
     "metadata": {},
     "output_type": "execute_result"
    }
   ],
   "source": [
    "st = indego.column(\"start_time\")\n",
    "example = st[100]\n",
    "example"
   ]
  },
  {
   "cell_type": "markdown",
   "id": "32c771f8-11c0-43b1-a131-b53b352bf517",
   "metadata": {},
   "source": [
    "To extract the hour, we can split first split the date and time on the space."
   ]
  },
  {
   "cell_type": "code",
   "execution_count": 11,
   "id": "3a23eed6-905e-4d88-91d4-9ef19a9b42de",
   "metadata": {
    "tags": []
   },
   "outputs": [
    {
     "data": {
      "text/plain": [
       "['7/1/2023', '1:29']"
      ]
     },
     "execution_count": 11,
     "metadata": {},
     "output_type": "execute_result"
    }
   ],
   "source": [
    "example.split()"
   ]
  },
  {
   "cell_type": "markdown",
   "id": "29a2ef8c-2cba-44e2-9ee0-06a31d510c6f",
   "metadata": {},
   "source": [
    "Then we keep the second term and split on the colon.\n",
    "example.split()[1].split(:)"
   ]
  },
  {
   "cell_type": "code",
   "execution_count": 12,
   "id": "c12b8abb-6894-4c1d-bf3d-4a0550bf4987",
   "metadata": {
    "tags": []
   },
   "outputs": [
    {
     "data": {
      "text/plain": [
       "['1', '29']"
      ]
     },
     "execution_count": 12,
     "metadata": {},
     "output_type": "execute_result"
    }
   ],
   "source": [
    "example.split()[1].split(\":\")"
   ]
  },
  {
   "cell_type": "markdown",
   "id": "a8caadde-038b-4dd5-86e0-36223c508275",
   "metadata": {},
   "source": [
    "Hour is the first element after this second split. Finally, we convert the hour from a string to an integer so we can plot the distribution."
   ]
  },
  {
   "cell_type": "code",
   "execution_count": 13,
   "id": "8f7fb81a-467d-4fd9-b461-67d0386b7548",
   "metadata": {
    "tags": []
   },
   "outputs": [
    {
     "data": {
      "text/plain": [
       "1"
      ]
     },
     "execution_count": 13,
     "metadata": {},
     "output_type": "execute_result"
    }
   ],
   "source": [
    "hour = example.split()[1].split(\":\")[0]\n",
    "hour = int(hour)\n",
    "hour"
   ]
  },
  {
   "cell_type": "markdown",
   "id": "40f73fc4-aa62-4015-9082-43af2799ab39",
   "metadata": {},
   "source": [
    "Put this in a function."
   ]
  },
  {
   "cell_type": "code",
   "execution_count": 14,
   "id": "e48b3a56-d823-474a-aedf-2cf90e41f136",
   "metadata": {
    "tags": []
   },
   "outputs": [],
   "source": [
    "def extract_hour(date_time_string):\n",
    "    '''\n",
    "    This function expects a datetime string in the form\n",
    "    '7/1/2023 1:29' and returns just the hour.\n",
    "    '''\n",
    "    hour = date_time_string.split()[1].split(\":\")[0]\n",
    "    return int(hour)"
   ]
  },
  {
   "cell_type": "code",
   "execution_count": 15,
   "id": "ea80a180-91d2-41eb-8184-6ca87b5314f0",
   "metadata": {
    "tags": []
   },
   "outputs": [
    {
     "name": "stdout",
     "output_type": "stream",
     "text": [
      "7/2/2023 16:57\n",
      "16\n"
     ]
    }
   ],
   "source": [
    "# Test our function\n",
    "test_datetime = st[5000]\n",
    "print(test_datetime)\n",
    "print(extract_hour(test_datetime))"
   ]
  },
  {
   "cell_type": "markdown",
   "id": "60cea7a3-cc40-480b-8356-1d468b064dd9",
   "metadata": {},
   "source": [
    "Now use our function to add a \"start_hour\" column to our data table."
   ]
  },
  {
   "cell_type": "code",
   "execution_count": 16,
   "id": "b88ff9e9-f7a2-4849-bb77-db7fb05cca15",
   "metadata": {
    "tags": []
   },
   "outputs": [
    {
     "data": {
      "text/html": [
       "<table border=\"1\" class=\"dataframe\">\n",
       "    <thead>\n",
       "        <tr>\n",
       "            <th>trip_id</th> <th>duration</th> <th>start_time</th> <th>end_time</th> <th>start_station</th> <th>start_lat</th> <th>start_lon</th> <th>end_station</th> <th>end_lat</th> <th>end_lon</th> <th>bike_id</th> <th>plan_duration</th> <th>trip_route_category</th> <th>passholder_type</th> <th>bike_type</th> <th>start_hour</th>\n",
       "        </tr>\n",
       "    </thead>\n",
       "    <tbody>\n",
       "        <tr>\n",
       "            <td>677293140</td> <td>2       </td> <td>7/1/2023 0:00</td> <td>7/1/2023 0:02</td> <td>3271         </td> <td>39.9476  </td> <td>-75.2295 </td> <td>3246       </td> <td>39.9478</td> <td>-75.223 </td> <td>25775  </td> <td>30           </td> <td>One Way            </td> <td>Indego30       </td> <td>electric </td> <td>0         </td>\n",
       "        </tr>\n",
       "        <tr>\n",
       "            <td>677304406</td> <td>27      </td> <td>7/1/2023 0:00</td> <td>7/1/2023 0:27</td> <td>3060         </td> <td>39.9592  </td> <td>-75.1704 </td> <td>3255       </td> <td>39.951 </td> <td>-75.1644</td> <td>14583  </td> <td>30           </td> <td>One Way            </td> <td>Indego30       </td> <td>standard </td> <td>0         </td>\n",
       "        </tr>\n",
       "        <tr>\n",
       "            <td>677304584</td> <td>32      </td> <td>7/1/2023 0:00</td> <td>7/1/2023 0:32</td> <td>3057         </td> <td>39.9644  </td> <td>-75.1799 </td> <td>3165       </td> <td>39.9582</td> <td>-75.1782</td> <td>5191   </td> <td>1            </td> <td>One Way            </td> <td>Day Pass       </td> <td>standard </td> <td>0         </td>\n",
       "        </tr>\n",
       "    </tbody>\n",
       "</table>\n",
       "<p>... (353253 rows omitted)</p>"
      ],
      "text/plain": [
       "<IPython.core.display.HTML object>"
      ]
     },
     "metadata": {},
     "output_type": "display_data"
    }
   ],
   "source": [
    "indego = indego.with_column('start_hour', indego.apply(extract_hour, 'start_time'))\n",
    "indego.show(3)"
   ]
  },
  {
   "cell_type": "code",
   "execution_count": 17,
   "id": "131a8db6-ebc3-40cb-95e9-76222b4f0805",
   "metadata": {
    "tags": []
   },
   "outputs": [
    {
     "data": {
      "image/png": "[encoded data removed]",
      "text/plain": [
       "<Figure size 600x400 with 1 Axes>"
      ]
     },
     "metadata": {},
     "output_type": "display_data"
    }
   ],
   "source": [
    "# Use 24 bins for the 24 hours in a day.\n",
    "indego.hist('start_hour', bins=24)"
   ]
  },
  {
   "cell_type": "markdown",
   "id": "60e24216-6559-4055-a656-9ccb522472a7",
   "metadata": {},
   "source": [
    "So the least likely time to start an Indego ride is 3 AM (Hmmm, I wonder why :-), and peak ridership is in the late afternoon and evening with the maximum to about 6 PM (18:00 hours)."
   ]
  },
  {
   "cell_type": "markdown",
   "id": "bafe7379-f448-42dd-9099-8dce2395118a",
   "metadata": {},
   "source": [
    "### Ride by type of bicycle.\n",
    "Indego offers two types of bikes: standard and electric. Let's see which constitutes the majority of the rides."
   ]
  },
  {
   "cell_type": "code",
   "execution_count": 18,
   "id": "98a8bd48-30e1-4e34-a0f9-8779e10a9965",
   "metadata": {
    "tags": []
   },
   "outputs": [
    {
     "data": {
      "text/html": [
       "<table border=\"1\" class=\"dataframe\">\n",
       "    <thead>\n",
       "        <tr>\n",
       "            <th>bike_type</th> <th>count</th>\n",
       "        </tr>\n",
       "    </thead>\n",
       "    <tbody>\n",
       "        <tr>\n",
       "            <td>electric </td> <td>191142</td>\n",
       "        </tr>\n",
       "        <tr>\n",
       "            <td>standard </td> <td>162114</td>\n",
       "        </tr>\n",
       "    </tbody>\n",
       "</table>"
      ],
      "text/plain": [
       "bike_type | count\n",
       "electric  | 191142\n",
       "standard  | 162114"
      ]
     },
     "execution_count": 18,
     "metadata": {},
     "output_type": "execute_result"
    }
   ],
   "source": [
    "indego_grp = indego.group('bike_type')\n",
    "indego_grp"
   ]
  },
  {
   "cell_type": "markdown",
   "id": "ef1e785a-9a84-4707-aa39-eab07aa2c358",
   "metadata": {
    "tags": []
   },
   "source": [
    "Wow! The ebikes, which Indego introduced only a few year ago, now account for slightly more than half of the rides.\n",
    "\n",
    "This begs the question: are more riders choosing ebikes because they perfer them, or is it a simple matter of availabilty? To answer this, we need to know what fraction of the bike fleet is ebikes. We can get this using the bike ID in concert with the bike type."
   ]
  },
  {
   "cell_type": "code",
   "execution_count": 19,
   "id": "894fcc97-1ddf-4eeb-903d-f101fc748a17",
   "metadata": {
    "tags": []
   },
   "outputs": [
    {
     "name": "stdout",
     "output_type": "stream",
     "text": [
      "The number of ebikes is: 1230\n",
      "The number of standard bikes is: 918\n"
     ]
    }
   ],
   "source": [
    "ebike = indego.where('bike_type', 'electric')\n",
    "ebike_id = np.unique(ebike.column('bike_id'))\n",
    "num_ebikes = len(ebike_id)\n",
    "\n",
    "standard = indego.where('bike_type', 'standard')\n",
    "standard_id = np.unique(standard.column('bike_id'))\n",
    "num_standard = len(standard_id)\n",
    "\n",
    "print(\"The number of ebikes is:\", num_ebikes)\n",
    "print(\"The number of standard bikes is:\", num_standard)"
   ]
  },
  {
   "cell_type": "markdown",
   "id": "bf13cbd9-ef43-46e1-aa00-1c8ebdc05472",
   "metadata": {},
   "source": [
    "So there are more ebikes in the fleet. Compare ratios."
   ]
  },
  {
   "cell_type": "code",
   "execution_count": 20,
   "id": "8317dc5e-eac7-470f-b39b-fb3969d0d672",
   "metadata": {
    "tags": []
   },
   "outputs": [
    {
     "data": {
      "text/plain": [
       "155.4"
      ]
     },
     "execution_count": 20,
     "metadata": {},
     "output_type": "execute_result"
    }
   ],
   "source": [
    "rides_per_ebike = indego_grp.column('count').item(0) / num_ebikes\n",
    "rides_per_ebike"
   ]
  },
  {
   "cell_type": "code",
   "execution_count": 21,
   "id": "04e8c96d-61c0-4798-9718-9774a2ecac26",
   "metadata": {
    "tags": []
   },
   "outputs": [
    {
     "data": {
      "text/plain": [
       "176.59477124183007"
      ]
     },
     "execution_count": 21,
     "metadata": {},
     "output_type": "execute_result"
    }
   ],
   "source": [
    "rides_per_standard = indego_grp.column('count').item(1) / num_standard\n",
    "rides_per_standard"
   ]
  },
  {
   "cell_type": "markdown",
   "id": "320fa3ca-2f99-4def-96ba-4c11793a1e90",
   "metadata": {},
   "source": [
    "So even though there are more ebikes, riders show a slight preference for standard bikes. Why? Probably simple economics. The ebikes cost an extre 20 cents a minute to ride. Here is the current [pricing information.](https://www.rideindego.com/buy-a-pass/#/)"
   ]
  },
  {
   "cell_type": "markdown",
   "id": "8aa65921-ad85-4060-a560-e25aaf61ec2e",
   "metadata": {},
   "source": [
    "## Hypothesis\n",
    "While thinking about ebikes and standard bikes, and interesting hypothesis occured to me. I wondered whether riders rode faster on ebikes than standard bikes. If so, this could make ebikes more dangerous, particularly in an urban environment.\n",
    "\n",
    "Here is are some references on this topic:\n",
    "\n",
    "```\n",
    "Langford, B. C., Chen, J., & Cherry, C. R. (2015). Risky riding: Naturalistic methods comparing safety behavior from conventional bicycle riders and electric bike riders. Accident Analysis & Prevention, 82, 220-226.\n",
    "\n",
    "Gogola, M. (2018, April). Are the e-bikes more dangerous than traditional bicycles?. In 2018 XI International Science-Technical Conference Automotive Safety (pp. 1-4). IEEE.\n",
    "\n",
    "Siman-Tov, M. (2018). A look at electric bike casualties: do they differ from the mechanical bicycle? J Transp Heal 11 (October): 176–182.\n",
    "```\n",
    "\n",
    "\n"
   ]
  },
  {
   "cell_type": "markdown",
   "id": "9cde23af-7b06-4c97-9697-7fa767a8a116",
   "metadata": {},
   "source": [
    "**Hypothesis: Riders bike at higher speeds on ebikes.**\n",
    "\n",
    "**Null Hypothesis: There is no difference in mean ride speed by type of bike.**\n",
    "\n",
    "To test this hypothesis, we can compare mean trip duration by bicycle type where all of the the trips start and end at the same two bike stations. Presumably, the time taken to check out and return the bikes would be roughly the same, so any difference would be attributable to ride speed. Clearly, we need stations reasonably far apart so the ride isn't too short, and a pair of stations with a lot of trips to furnish an adequate sample size."
   ]
  },
  {
   "cell_type": "markdown",
   "id": "475f95f4-6939-4ff0-acbf-d91a933cfc46",
   "metadata": {},
   "source": [
    "### Finding rides of reasonable duration\n",
    "If the ride is too short, it will be hard to tell if there is a speed difference between standard and ebike riders. Let's find rides between 10 and 20 minutes long."
   ]
  },
  {
   "cell_type": "code",
   "execution_count": 22,
   "id": "51504c7a-1b2c-437a-b47e-4f140ea98834",
   "metadata": {
    "tags": []
   },
   "outputs": [],
   "source": [
    "rides_10to20min = indego.where('duration', are.between(10, 20))"
   ]
  },
  {
   "cell_type": "markdown",
   "id": "ab517523-13dd-4671-a06e-f76a7315216d",
   "metadata": {},
   "source": [
    "### Find the most popular starting station"
   ]
  },
  {
   "cell_type": "code",
   "execution_count": 23,
   "id": "d88c1a8c-8ce5-490b-b983-f170e277aa9a",
   "metadata": {
    "tags": []
   },
   "outputs": [
    {
     "data": {
      "text/html": [
       "<table border=\"1\" class=\"dataframe\">\n",
       "    <thead>\n",
       "        <tr>\n",
       "            <th>start_station</th> <th>count</th>\n",
       "        </tr>\n",
       "    </thead>\n",
       "    <tbody>\n",
       "        <tr>\n",
       "            <td>3010         </td> <td>1984 </td>\n",
       "        </tr>\n",
       "        <tr>\n",
       "            <td>3295         </td> <td>1954 </td>\n",
       "        </tr>\n",
       "        <tr>\n",
       "            <td>3190         </td> <td>1630 </td>\n",
       "        </tr>\n",
       "        <tr>\n",
       "            <td>3208         </td> <td>1590 </td>\n",
       "        </tr>\n",
       "        <tr>\n",
       "            <td>3032         </td> <td>1542 </td>\n",
       "        </tr>\n",
       "    </tbody>\n",
       "</table>\n",
       "<p>... (232 rows omitted)</p>"
      ],
      "text/plain": [
       "<IPython.core.display.HTML object>"
      ]
     },
     "metadata": {},
     "output_type": "display_data"
    }
   ],
   "source": [
    "rides_10to20min.select('start_station', 'end_station').group('start_station').sort('count', descending=True).show(5)"
   ]
  },
  {
   "cell_type": "markdown",
   "id": "1e592073-f559-4c35-99a8-a8146f5345b8",
   "metadata": {},
   "source": [
    "### Find the most popular destinations from the most popular starting station, which is 3010"
   ]
  },
  {
   "cell_type": "code",
   "execution_count": 24,
   "id": "0541cc05-c74c-4595-8d00-3ffcac68270b",
   "metadata": {
    "tags": []
   },
   "outputs": [
    {
     "data": {
      "text/html": [
       "<table border=\"1\" class=\"dataframe\">\n",
       "    <thead>\n",
       "        <tr>\n",
       "            <th>Station_ID</th> <th>Station_Name</th>\n",
       "        </tr>\n",
       "    </thead>\n",
       "    <tbody>\n",
       "        <tr>\n",
       "            <td>3010      </td> <td>15th & Spruce</td>\n",
       "        </tr>\n",
       "    </tbody>\n",
       "</table>"
      ],
      "text/plain": [
       "Station_ID | Station_Name\n",
       "3010       | 15th & Spruce"
      ]
     },
     "execution_count": 24,
     "metadata": {},
     "output_type": "execute_result"
    }
   ],
   "source": [
    "station_names.where('Station_ID', 3010)"
   ]
  },
  {
   "cell_type": "code",
   "execution_count": 25,
   "id": "97c7cf2f-6046-4509-befd-72d5edf5d9e3",
   "metadata": {
    "tags": []
   },
   "outputs": [
    {
     "data": {
      "text/html": [
       "<table border=\"1\" class=\"dataframe\">\n",
       "    <thead>\n",
       "        <tr>\n",
       "            <th>end_station</th> <th>count</th>\n",
       "        </tr>\n",
       "    </thead>\n",
       "    <tbody>\n",
       "        <tr>\n",
       "            <td>3053       </td> <td>77   </td>\n",
       "        </tr>\n",
       "        <tr>\n",
       "            <td>3028       </td> <td>60   </td>\n",
       "        </tr>\n",
       "        <tr>\n",
       "            <td>3029       </td> <td>51   </td>\n",
       "        </tr>\n",
       "        <tr>\n",
       "            <td>3100       </td> <td>51   </td>\n",
       "        </tr>\n",
       "        <tr>\n",
       "            <td>3038       </td> <td>48   </td>\n",
       "        </tr>\n",
       "    </tbody>\n",
       "</table>\n",
       "<p>... (169 rows omitted)</p>"
      ],
      "text/plain": [
       "<IPython.core.display.HTML object>"
      ]
     },
     "metadata": {},
     "output_type": "display_data"
    }
   ],
   "source": [
    "starts = rides_10to20min.where('start_station', 3010)\n",
    "starts.group('end_station').sort('count', descending=True).show(5)"
   ]
  },
  {
   "cell_type": "markdown",
   "id": "d68ca3ff-4fdc-4472-9613-7353afee4e2b",
   "metadata": {},
   "source": [
    "The most popular destination not counting round-trips (which would be back to station 3010) is:"
   ]
  },
  {
   "cell_type": "code",
   "execution_count": 44,
   "id": "72ea1cad-2787-46ab-aec6-ce52f1764983",
   "metadata": {
    "tags": []
   },
   "outputs": [
    {
     "data": {
      "text/html": [
       "<table border=\"1\" class=\"dataframe\">\n",
       "    <thead>\n",
       "        <tr>\n",
       "            <th>Station_ID</th> <th>Station_Name</th>\n",
       "        </tr>\n",
       "    </thead>\n",
       "    <tbody>\n",
       "        <tr>\n",
       "            <td>3053      </td> <td>Point Breeze & Tasker</td>\n",
       "        </tr>\n",
       "    </tbody>\n",
       "</table>"
      ],
      "text/plain": [
       "Station_ID | Station_Name\n",
       "3053       | Point Breeze & Tasker"
      ]
     },
     "execution_count": 44,
     "metadata": {},
     "output_type": "execute_result"
    }
   ],
   "source": [
    "station_names.where('Station_ID', 3053)"
   ]
  },
  {
   "cell_type": "markdown",
   "id": "d6498dac-b959-415c-b72e-e56b1fc1eacb",
   "metadata": {},
   "source": [
    "We want to include trips in both directions to enlarge the sample size."
   ]
  },
  {
   "cell_type": "code",
   "execution_count": 27,
   "id": "0af5922e-667c-4e96-9af7-09ef2b90f63c",
   "metadata": {
    "tags": []
   },
   "outputs": [
    {
     "data": {
      "text/plain": [
       "77"
      ]
     },
     "execution_count": 27,
     "metadata": {},
     "output_type": "execute_result"
    }
   ],
   "source": [
    "common_trip = rides_10to20min.where('start_station', 3010).where('end_station', 3053)\n",
    "common_trip.num_rows"
   ]
  },
  {
   "cell_type": "code",
   "execution_count": 28,
   "id": "afdca7e5-8d14-4831-86cd-d17dbe22cb11",
   "metadata": {
    "tags": []
   },
   "outputs": [
    {
     "data": {
      "text/plain": [
       "65"
      ]
     },
     "execution_count": 28,
     "metadata": {},
     "output_type": "execute_result"
    }
   ],
   "source": [
    "reverse_trip = rides_10to20min.where('start_station', 3053).where('end_station', 3010)\n",
    "reverse_trip.num_rows"
   ]
  },
  {
   "cell_type": "code",
   "execution_count": 29,
   "id": "963570be-2ef7-4760-8446-409ed3285a0b",
   "metadata": {
    "tags": []
   },
   "outputs": [
    {
     "data": {
      "text/plain": [
       "142"
      ]
     },
     "execution_count": 29,
     "metadata": {},
     "output_type": "execute_result"
    }
   ],
   "source": [
    "trip = common_trip.append(reverse_trip)\n",
    "trip.num_rows"
   ]
  },
  {
   "cell_type": "markdown",
   "id": "5a044506-e492-48ac-bf11-b8c2adc32371",
   "metadata": {},
   "source": [
    "So we have a data set with 142 trips between these two stations. The possible routes are shown below, again courtesy of Google Maps.\n",
    "\n",
    "![bike_route from Google Maps](bike_route.jpg)"
   ]
  },
  {
   "cell_type": "markdown",
   "id": "064779e0-92a2-4fcb-af44-d005c36b60af",
   "metadata": {},
   "source": [
    "### Check for Outliers\n",
    "Make a Box Plot (You can learn more about Box Plots [here.](https://statisticsbyjim.com/graphs/box-plot/))"
   ]
  },
  {
   "cell_type": "code",
   "execution_count": 30,
   "id": "e9ac81c8-0b16-4434-9905-9d382f7d9041",
   "metadata": {
    "tags": []
   },
   "outputs": [
    {
     "data": {
      "image/png": "[encoded data removed]",
      "text/plain": [
       "<Figure size 640x480 with 1 Axes>"
      ]
     },
     "metadata": {},
     "output_type": "display_data"
    }
   ],
   "source": [
    "trip.select('duration').boxplot()"
   ]
  },
  {
   "cell_type": "markdown",
   "id": "6d663509-2067-4339-8c04-99bfe6862d4e",
   "metadata": {},
   "source": [
    "According to Google Maps, this ride is 2.0 miles and should take about 13 minutes by bike. Long rides may mean the rider went somewhere in between stat, but our longest ride is about 19 minutes. It is debatable whether or not to keep this point, but I'll keep it assuming one slow rider."
   ]
  },
  {
   "cell_type": "markdown",
   "id": "c65fcbe5-b1be-44e9-a6f1-30d7288d63d3",
   "metadata": {},
   "source": [
    "Notice that the median ride speed is 12 minutes, a minutes faster than Google predicts, but as any frequent bike rider will tell you, Google Maps tends to be conservative."
   ]
  },
  {
   "cell_type": "markdown",
   "id": "84785a0f-f42a-4b1c-88c1-23032fa0a6e2",
   "metadata": {},
   "source": [
    "### Compare standard and ebike histograms"
   ]
  },
  {
   "cell_type": "code",
   "execution_count": 31,
   "id": "87528353-e99c-4f4f-91a6-15d7f9d9c0c0",
   "metadata": {
    "tags": []
   },
   "outputs": [
    {
     "data": {
      "text/html": [
       "<table border=\"1\" class=\"dataframe\">\n",
       "    <thead>\n",
       "        <tr>\n",
       "            <th>bike_type</th> <th>count</th>\n",
       "        </tr>\n",
       "    </thead>\n",
       "    <tbody>\n",
       "        <tr>\n",
       "            <td>electric </td> <td>94   </td>\n",
       "        </tr>\n",
       "        <tr>\n",
       "            <td>standard </td> <td>48   </td>\n",
       "        </tr>\n",
       "    </tbody>\n",
       "</table>"
      ],
      "text/plain": [
       "bike_type | count\n",
       "electric  | 94\n",
       "standard  | 48"
      ]
     },
     "execution_count": 31,
     "metadata": {},
     "output_type": "execute_result"
    }
   ],
   "source": [
    "type_count = trip.group('bike_type')\n",
    "type_count"
   ]
  },
  {
   "cell_type": "code",
   "execution_count": 32,
   "id": "f07fead4-e9fa-478d-b126-bae38a9326d2",
   "metadata": {
    "tags": []
   },
   "outputs": [],
   "source": [
    "num_standard = type_count.column('count').item(0)\n",
    "num_ebike = type_count.column('count').item(1)"
   ]
  },
  {
   "cell_type": "code",
   "execution_count": 33,
   "id": "25b04e85-9d03-4490-bcd8-110f977b966d",
   "metadata": {
    "tags": []
   },
   "outputs": [
    {
     "name": "stdout",
     "output_type": "stream",
     "text": [
      "Our total sample size is 142 trips.\n"
     ]
    }
   ],
   "source": [
    "print(f\"Our total sample size is {num_standard + num_ebike} trips.\")"
   ]
  },
  {
   "cell_type": "code",
   "execution_count": 34,
   "id": "3c58df14-5cea-4505-9899-805cfdd4fd63",
   "metadata": {},
   "outputs": [
    {
     "data": {
      "image/png": "[encoded data removed]",
      "text/plain": [
       "<Figure size 600x400 with 1 Axes>"
      ]
     },
     "metadata": {},
     "output_type": "display_data"
    }
   ],
   "source": [
    "trip.where('bike_type', 'standard').hist('duration')\n",
    "plt.title(\"Standard bikes\");"
   ]
  },
  {
   "cell_type": "code",
   "execution_count": 35,
   "id": "a3ea265a-4873-4912-921c-a7aba253ecce",
   "metadata": {
    "tags": []
   },
   "outputs": [
    {
     "data": {
      "image/png": "[encoded data removed]",
      "text/plain": [
       "<Figure size 600x400 with 1 Axes>"
      ]
     },
     "metadata": {},
     "output_type": "display_data"
    }
   ],
   "source": [
    "trip.where('bike_type', 'electric').hist('duration')\n",
    "plt.title(\"Electric Bikes\");"
   ]
  },
  {
   "cell_type": "markdown",
   "id": "a623e0d7-2a15-4ed0-a465-8bd56e03aa16",
   "metadata": {},
   "source": [
    "It certainly appears the ebike riders are a bit quicker, but is the different statistically significant?\n",
    "\n",
    "Our test statistic will be the difference in the means."
   ]
  },
  {
   "cell_type": "code",
   "execution_count": 36,
   "id": "4e5b9470-ad5e-45cd-bdb9-59b57d7c5537",
   "metadata": {
    "tags": []
   },
   "outputs": [
    {
     "name": "stdout",
     "output_type": "stream",
     "text": [
      "The average trip on a standard bike takes 12.98 minutes.\n",
      "The average trip on an electric bike takes 12.34 minutes.\n",
      "\n",
      "The difference in means is 0.64 minutes\n"
     ]
    }
   ],
   "source": [
    "standard_mean_duration = np.mean(trip.where('bike_type', 'standard').column('duration'))\n",
    "ebike_mean_duration = np.mean(trip.where('bike_type', 'electric').column('duration'))\n",
    "print(f\"The average trip on a standard bike takes {np.round(standard_mean_duration, 2)} minutes.\")\n",
    "print(f\"The average trip on an electric bike takes {np.round(ebike_mean_duration, 2)} minutes.\")\n",
    "print()\n",
    "print(f\"The difference in means is {np.round(standard_mean_duration - ebike_mean_duration, 2)} minutes\")"
   ]
  },
  {
   "cell_type": "code",
   "execution_count": 37,
   "id": "0c80faf2-5e74-4d4c-9ba7-064c73c8186e",
   "metadata": {
    "tags": []
   },
   "outputs": [],
   "source": [
    "test_statistic = np.abs(standard_mean_duration - ebike_mean_duration)"
   ]
  },
  {
   "cell_type": "markdown",
   "id": "ef6f9458-6062-4814-872a-21acd0a88d91",
   "metadata": {},
   "source": [
    "So the average difference is less than a minute. Could this be random? Run a simulation!"
   ]
  },
  {
   "cell_type": "markdown",
   "id": "3035ff0d-952b-4284-bf54-651e008d0f47",
   "metadata": {},
   "source": [
    "### Simulation Under the Null Hypothesis\n",
    "If the null hypothesis is true, then all of the trip durations come from the same distribution. So we repeatedly sample this distribution and calculate the difference in means."
   ]
  },
  {
   "cell_type": "code",
   "execution_count": 38,
   "id": "11a584b2-4dbc-4dda-bd67-8fc9d8724f1b",
   "metadata": {},
   "outputs": [],
   "source": [
    "def compare_means(tbl, num_standard, num_electric):\n",
    "    sample1 = tbl.sample(num_standard)\n",
    "    sample2 = tbl.sample(num_ebike)\n",
    "    sample1_mean = np.mean(sample1.column('duration'))\n",
    "    sample2_mean = np.mean(sample2.column('duration'))\n",
    "    return abs(sample1_mean - sample2_mean)"
   ]
  },
  {
   "cell_type": "code",
   "execution_count": 39,
   "id": "7129a3cb-5d27-4266-a449-ba3f4c26b600",
   "metadata": {},
   "outputs": [
    {
     "data": {
      "text/plain": [
       "0.19813829787234027"
      ]
     },
     "execution_count": 39,
     "metadata": {},
     "output_type": "execute_result"
    }
   ],
   "source": [
    "# Test function\n",
    "test = compare_means(trip, num_standard, num_ebikes)\n",
    "test"
   ]
  },
  {
   "cell_type": "markdown",
   "id": "c2712514-3baf-413e-afb9-2a56b8e1185a",
   "metadata": {},
   "source": [
    "So for a single simulation the difference is small, but we need to run the simulation many time to find the distribution."
   ]
  },
  {
   "cell_type": "code",
   "execution_count": 40,
   "id": "3a814889-08d2-4360-857b-741f12acaa8e",
   "metadata": {
    "tags": []
   },
   "outputs": [],
   "source": [
    "def simulate(num_sim):\n",
    "    means = make_array()\n",
    "    for i in np.arange(num_sim):\n",
    "        m = compare_means(trip, num_standard, num_ebikes)\n",
    "        means = np.append(means, m)\n",
    "    return means"
   ]
  },
  {
   "cell_type": "code",
   "execution_count": 41,
   "id": "f90fbf42-dce0-43bb-acd4-e486009ec2e5",
   "metadata": {
    "tags": []
   },
   "outputs": [],
   "source": [
    "num_simulations = 5000\n",
    "means = simulate(num_simulations)\n",
    "results = Table().with_column(\"Means\", means)"
   ]
  },
  {
   "cell_type": "code",
   "execution_count": 42,
   "id": "bdb3a60c-5a92-40b6-92d6-a902aa6a2f89",
   "metadata": {
    "tags": []
   },
   "outputs": [
    {
     "data": {
      "text/plain": [
       "Text(0.5, 1.0, 'Simulated Differences in Means')"
      ]
     },
     "execution_count": 42,
     "metadata": {},
     "output_type": "execute_result"
    },
    {
     "data": {
      "image/png": "[encoded data removed]",
      "text/plain": [
       "<Figure size 600x400 with 1 Axes>"
      ]
     },
     "metadata": {},
     "output_type": "display_data"
    }
   ],
   "source": [
    "results.hist('Means')\n",
    "plt.scatter(test_statistic, 0, color='red', s=200);\n",
    "plt.title('Simulated Differences in Means')"
   ]
  },
  {
   "cell_type": "code",
   "execution_count": 43,
   "id": "45bd77b5-4eb9-4a0e-9964-48dbad04b938",
   "metadata": {
    "tags": []
   },
   "outputs": [
    {
     "data": {
      "text/plain": [
       "0.0868"
      ]
     },
     "execution_count": 43,
     "metadata": {},
     "output_type": "execute_result"
    }
   ],
   "source": [
    "p = np.count_nonzero(results.column('Means') >= test_statistic) / num_simulations\n",
    "p"
   ]
  },
  {
   "cell_type": "markdown",
   "id": "e5bb2b27-fab2-4e7e-bf70-27942302d4de",
   "metadata": {},
   "source": [
    "## Conclusions\n",
    "\n",
    "The distributions hinted that the riders might be slightly quicker on electric bikes, but the P-value is not <0.05, so cannot reject the null hypothesis with 95% confidence, but it is significant with 90% confidence. Thus, we conclude the riders might be significantly faster on electric bikes, at least for a two mile ride in the city.\n",
    "\n",
    "Is is possible the difference would prove significant with 95% confidence if we had more data? Absolutely! We could easily obtain more data by analyzing more station pairs and by downloading more data from the Indego site. (An exercise for the reader ;-)\n",
    "\n",
    "The **effect size**, however appears to be small. Does anyone care if we shave 40 seconds off of a two-mile commuter ride? Unlikely. Sometimes even results that are \"statistically signficant\" do not have practical importance. It does not appear the ebike riders are taking greater risks."
   ]
  },
  {
   "cell_type": "markdown",
   "id": "efed0ead-01f5-4bea-8618-57b436ef51fa",
   "metadata": {
    "tags": []
   },
   "source": [
    "## Future Work\n",
    "Any good scientific study ends with a reflection on possibilities for further study. There a there many ideas we could pursue:\n",
    "\n",
    "* How does ridership change with the weather? We could download Philly weather data and compare ridership on warm, sunny days versus cold, rainy ones.\n",
    "* How does ridership change with the academic calendar? Do students dominate the ridership near universities? \n",
    "* Which stations still show activity in the wee hours of the morning? Where are people riding at 3 AM?\n",
    "* How has the balance between standard and ebikes changed over the last few years?\n",
    "* Are there parts of the city that are under-served and could use more stations?\n",
    "\n",
    "**Just a few of many ideas for follow-up research!**\n"
   ]
  },
  {
   "cell_type": "code",
   "execution_count": null,
   "id": "7ef8e5a7-659f-4770-bed1-ace8165446dc",
   "metadata": {},
   "outputs": [],
   "source": []
  }
 ],
 "metadata": {
  "kernelspec": {
   "display_name": "Python 3 (ipykernel)",
   "language": "python",
   "name": "python3"
  },
  "language_info": {
   "codemirror_mode": {
    "name": "ipython",
    "version": 3
   },
   "file_extension": ".py",
   "mimetype": "text/x-python",
   "name": "python",
   "nbconvert_exporter": "python",
   "pygments_lexer": "ipython3",
   "version": "3.10.11"
  }
 },
 "nbformat": 4,
 "nbformat_minor": 5
}
