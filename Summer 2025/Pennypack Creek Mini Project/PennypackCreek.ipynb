{
 "cells": [
  {
   "cell_type": "markdown",
   "id": "de105cd1-2071-4505-8f2c-9b150c0d78b5",
   "metadata": {},
   "source": [
    "# Mini-Project: How Clean is Pennypack Creek?\n",
    "<font color='red'>**Read all of the instructions and background material carefully!** </font>"
   ]
  },
  {
   "cell_type": "markdown",
   "id": "647ec2bf-8ca7-482f-9e8f-d5ff240003fa",
   "metadata": {},
   "source": [
    "## Mini-Project Goals\n",
    "At the end of the semester, you'll engage in a group project where you'll choose a data set, analyze it, formulate and test a hypothesis, evaluate your results, and suggest future work. Think of this mini-project as a dry-run where you will be coached through this process. There will be none of the usual checks, but lots of hints and some (not all) of the code is provided. \n",
    "\n",
    "**Remember:** Proficiency in Python coding is a secondary goal of this course; the primary goal is to hone your skills in data analysis. That includes data interpretation and communication of your results. **How well you do on this assignment depends as much on what you write in the markdown cells as it does on your code.** Scientists must write!\n",
    "\n",
    "Read everything carefully, and <span style=\"color: blue;\">pay particular attention to instructions in blue. </span>\n",
    "\n",
    "## Data Analysis Steps\n",
    "While your approach may vary depending on the dataset, here are the typical fundamental steps:\n",
    "* Understanding the Data Context\n",
    "* Cleaning the data\n",
    "* Univariate Exploration\n",
    "* Correlation Analysis\n",
    "* Hypothesis Testing or Modeling\n",
    "* Interpreting the Results\n",
    "* Understanding the Limitations\n",
    "* Thinking About Future Work\n",
    "\n",
    "Together, we will work through all of these steps. Let's begin!"
   ]
  },
  {
   "cell_type": "markdown",
   "id": "0112aed7-d0a4-4f06-a0fc-4b0e1b47c42f",
   "metadata": {},
   "source": [
    "## Part1: Understanding the Data Context\n",
    "\n",
    "### Motivation\n",
    "Sir Isaac Newton, the famous scientist and mathematician, once said, “If I have seen further, it is by standing on the shoulders of giants.” Every scientific study builds on the work of others. You don't want to reinvent the wheel. You also need domain knowledge -- you wouldn't expect a biologist to analyze data from the Hubble telescope, or an astronomer to report on DNA sequencing. At least not without reading up on the topic. So before you begin exploring your data, you need to *read.* Scientific journal articles always begin with a literature review that discusses previous research and points the reader to related studies. The literature review puts the current paper in context.\n",
    "\n",
    "We'll begin the miniproject with some background information. You are encouraged to dig deeper on your own to explore any related resources. The less you know about a topic, the more background reading you need to do.\n",
    "\n",
    "### Background: Pennypack Creek Water Quality\n",
    "The data set you will be analyzing was provided by Dr. Laura Toran of Temple's Department of Earth and Environmental Science. Much of Dr. Toran's research has focused on how the urban environment affects the water quality of streams in Philadelphia and the surrounding suburbs. She has conducted this research with the help of numerous Temple graduate students, and undergraduate researchers like the ones in the photos below, all photographed while sampling Pennypack Creek.\n",
    "\n",
    "![Undergrad researcher sampling the Pennypack](./data/sampling_side_by_side.png)\n",
    "\n",
    "Pennypack Creek is a small stream that begins in the suburbs north of Philadelphia, flows through the northeast portion of the city and discharges into the Delaware River. The data set you will be working with is a \"synoptic sample.\" In environmental science, synoptic sampling refers to the process of collecting samples from different locations within a study area during a single, short time period—essentially taking a “snapshot” of conditions across space, rather than over time. So you will be looking at data from water samples all collected on the same day but at points spanning the length of the stream. Your goal will be to examine how the geochemistry of the stream varies from the headwaters to where it discharges to the Delaware.\n",
    "\n",
    "Many natural tributaries contribute to the flow of Pennypack Creek, but you will focus on a manmade source, a wastewater treatment plant run by the Upper Moreland Hatboro Joint Sewer Authority. You can read more about the plant [here.](https://www.umhjsa.org/about.html#:~:text=Recent%20plant%20upgrades,environmental%20compliance). The aerial image below shows the location of the treatment plant relative to the creek, and the photo shows the plant discharging into the Pennypack.\n",
    "\n",
    "![Treatment Plant](./data/wwtp_combined_side_by_side.png)"
   ]
  },
  {
   "cell_type": "markdown",
   "id": "6ac88592-a98d-4e95-9ca8-19a71e853eca",
   "metadata": {},
   "source": [
    "### Watch this video on wastewater treatment plants\n",
    "\n",
    "[Link to Wastewater Treatment video on YouTube](https://www.youtube.com/watch?v=FvPakzqM3h8)"
   ]
  },
  {
   "cell_type": "markdown",
   "id": "6c3ba7ce-b4a8-4512-84cc-f479f1a760a6",
   "metadata": {},
   "source": [
    "<span style=\"color: blue;\">Write a paragraph or two about what you found most interesting about this video. Also discuss what impact you think discharging treated wastewater might have on the Pennypack Creek data.</span>"
   ]
  },
  {
   "cell_type": "markdown",
   "id": "6ee27085-d271-49e6-ac4e-355ff1bb0131",
   "metadata": {},
   "source": [
    "Answer here ...\n"
   ]
  },
  {
   "cell_type": "markdown",
   "id": "6b0f8d5b-6f4f-498f-81ca-1988d0384142",
   "metadata": {},
   "source": [
    "### A First Look at the Data"
   ]
  },
  {
   "cell_type": "code",
   "execution_count": 5,
   "id": "3ea1c7e5-bdcc-4efb-b806-c6f58c511242",
   "metadata": {},
   "outputs": [],
   "source": [
    "# Import the Python modules needed for the analysis\n",
    "import numpy as np\n",
    "from datascience import *\n",
    "%matplotlib inline\n",
    "import matplotlib.pyplot as plt\n",
    "plt.style.use('ggplot')\n",
    "import os\n",
    "user = os.getenv('JUPYTERHUB_USER')"
   ]
  },
  {
   "cell_type": "code",
   "execution_count": 6,
   "id": "a5b726d4-1d13-4cd7-8834-62d51111001d",
   "metadata": {},
   "outputs": [
    {
     "data": {
      "text/html": [
       "<table border=\"1\" class=\"dataframe\">\n",
       "    <thead>\n",
       "        <tr>\n",
       "            <th>SiteCode</th> <th>X_dec_deg</th> <th>Y_dec_deg</th> <th>km downstream</th> <th>Cl (mg/L)</th> <th>NO3-N (mg/L)</th> <th>SO4 (mg/L)</th>\n",
       "        </tr>\n",
       "    </thead>\n",
       "    <tbody>\n",
       "        <tr>\n",
       "            <td>PP1-1   </td> <td>-75.1555 </td> <td>40.1778  </td> <td>0.93         </td> <td>52.77    </td> <td>1.18        </td> <td>19.53     </td>\n",
       "        </tr>\n",
       "        <tr>\n",
       "            <td>PP1-2   </td> <td>-75.142  </td> <td>40.1791  </td> <td>2.18         </td> <td>80.05    </td> <td>1.3         </td> <td>23.34     </td>\n",
       "        </tr>\n",
       "        <tr>\n",
       "            <td>PP1-3   </td> <td>-75.1339 </td> <td>40.1799  </td> <td>2.96         </td> <td>87.15    </td> <td>1.19        </td> <td>23.09     </td>\n",
       "        </tr>\n",
       "        <tr>\n",
       "            <td>PP1-4   </td> <td>-75.1278 </td> <td>40.1785  </td> <td>3.56         </td> <td>116.08   </td> <td>1.3         </td> <td>23.14     </td>\n",
       "        </tr>\n",
       "        <tr>\n",
       "            <td>PP1-5   </td> <td>-75.1219 </td> <td>40.1774  </td> <td>4.12         </td> <td>114.89   </td> <td>1.17        </td> <td>21.91     </td>\n",
       "        </tr>\n",
       "        <tr>\n",
       "            <td>PP1-6   </td> <td>-75.1164 </td> <td>40.177   </td> <td>4.75         </td> <td>120.32   </td> <td>1.17        </td> <td>21.96     </td>\n",
       "        </tr>\n",
       "        <tr>\n",
       "            <td>PP1-7   </td> <td>-75.1108 </td> <td>40.1727  </td> <td>5.62         </td> <td>157.79   </td> <td>1.22        </td> <td>22.15     </td>\n",
       "        </tr>\n",
       "        <tr>\n",
       "            <td>PP1-8   </td> <td>-75.1065 </td> <td>40.1664  </td> <td>6.5          </td> <td>159.72   </td> <td>1.21        </td> <td>22.36     </td>\n",
       "        </tr>\n",
       "        <tr>\n",
       "            <td>PP1-9   </td> <td>-75.1061 </td> <td>40.1596  </td> <td>7.37         </td> <td>280.6    </td> <td>1.06        </td> <td>22.87     </td>\n",
       "        </tr>\n",
       "    </tbody>\n",
       "</table>\n",
       "<p>... (30 rows omitted)</p>"
      ],
      "text/plain": [
       "<IPython.core.display.HTML object>"
      ]
     },
     "metadata": {},
     "output_type": "display_data"
    }
   ],
   "source": [
    "# Load the dataset\n",
    "import pandas as pd\n",
    "pp = Table.read_table('data/Pennypack_anions_2022-03-22.csv')\n",
    "pp.show(9)"
   ]
  },
  {
   "cell_type": "markdown",
   "id": "67dbb37d-3c6a-405a-94c3-2be26fdfc0c6",
   "metadata": {},
   "source": [
    "### Metadata\n",
    "Metadata is data about the data. Here is a description of each of the columns:\n",
    "These samples were collect on March 22, 2022 by four teams of students along with Dr. Toran.\n",
    "* SiteCode: Simply an identifier. PP is short for Pennypack. PP1 is team 1, PP2 is team 2, etc., for the four sampling teams, followed by the sample number. So PP2-3 would be the third sample collect by Team 2.\n",
    "* X_dec_deg: The x-location (longitude) of the sample collection point in decimal degrees.\n",
    "* Y_dec_deg: The y-location (latitude) of the sample collection point in decimal degrees.\n",
    "* km downstream: The distance along the stream of each collection point from the start of the stream.\n",
    "* Cl (mg/L): The measured chloride ion concentration in milligrams/liter.\n",
    "* NO3-N (mg/L): “NO3-N” specifically quantifies only the nitrogen portion of the nitrate molecule, not the entire mass of the nitrate ion.\n",
    "* SO4 (mg/L): Measured sulfate ion concentration.\n",
    "\n",
    "Technical Note: Concentrations are reported in mg (mass) per liter of water. Reporting as Nitrate-N means that nitrogen (atmomic weight = 14) is used for nitrate instead of NO3 (atomic weight = 62). Nitrogen can exist in several forms (nitrate, nitrite, ammonia, organic nitrogen), but nitrate is the main form discharged by the wastewater treatment plant."
   ]
  },
  {
   "cell_type": "markdown",
   "id": "03e0f91c-b704-4765-b7b0-e1de9cc94716",
   "metadata": {},
   "source": [
    "## Part1: Mapping the Data\n",
    "To further your understanding of the data, it helps to map the stream the sample collection points. To do this, we will load the data and create an interactive map -- something that can be done quite easilty with our datascience module.\n",
    "\n",
    "You are encouraged to review this section of the textbook: [8.5.2. Drawing Maps](https://inferentialthinking.com/chapters/08/5/Bike_Sharing_in_the_Bay_Area.html#852-drawing-maps)"
   ]
  },
  {
   "cell_type": "code",
   "execution_count": 7,
   "id": "f0a54acf-3fa5-4835-8cee-240f0ff46e2e",
   "metadata": {},
   "outputs": [
    {
     "data": {
      "text/html": [
       "<table border=\"1\" class=\"dataframe\">\n",
       "    <thead>\n",
       "        <tr>\n",
       "            <th>Y_dec_deg</th> <th>X_dec_deg</th> <th>labels</th>\n",
       "        </tr>\n",
       "    </thead>\n",
       "    <tbody>\n",
       "        <tr>\n",
       "            <td>40.1778  </td> <td>-75.1555 </td> <td>PP1-1 </td>\n",
       "        </tr>\n",
       "        <tr>\n",
       "            <td>40.1791  </td> <td>-75.142  </td> <td>PP1-2 </td>\n",
       "        </tr>\n",
       "        <tr>\n",
       "            <td>40.1799  </td> <td>-75.1339 </td> <td>PP1-3 </td>\n",
       "        </tr>\n",
       "    </tbody>\n",
       "</table>\n",
       "<p>... (36 rows omitted)</p>"
      ],
      "text/plain": [
       "<IPython.core.display.HTML object>"
      ]
     },
     "metadata": {},
     "output_type": "display_data"
    }
   ],
   "source": [
    "# Prepare to map the sample points\n",
    "# Note that the Circle function expects the datatable column with the labels to be named 'labels'\n",
    "# hence we create a new table with three columns.\n",
    "# Also note that Circle expects latitude (y) before longitude (x)\n",
    "map_data = pp.select('Y_dec_deg', 'X_dec_deg', 'SiteCode').relabel('SiteCode', 'labels')\n",
    "map_data.show(3)"
   ]
  },
  {
   "cell_type": "markdown",
   "id": "0737afe7-4528-428c-94c2-42dcf199a288",
   "metadata": {},
   "source": [
    "#### Stupid Historical Tradition: Why give latitude (y) before longitude (x)?\n",
    "Early mapmakers and navigators established the habit of listing latitude first. Latitude was easier to determine accurately (using the angle of the sun or stars above the horizon), so it became the primary coordinate for navigation. Longitude, which required precise timekeeping, was much harder to measure until the 18th century.\n",
    "\n",
    "International standards, such as those from the International Organization for Standardization (ISO), specify that coordinates should be written as (latitude, longitude). This is also the default in many global positioning systems (GPS) and mapping APIs."
   ]
  },
  {
   "cell_type": "markdown",
   "id": "e2fe69d2-95b4-496a-9aff-c228c4ecfacd",
   "metadata": {},
   "source": [
    "### Explore the map (you can easily zoom and pan, or click on a circle for the ID)"
   ]
  },
  {
   "cell_type": "code",
   "execution_count": 8,
   "id": "d0cf2d7d-8ebc-4b45-b954-7799aaddf1c0",
   "metadata": {},
   "outputs": [
    {
     "data": {
      "text/html": [
       "<div style=\"width:100%;\"><div style=\"position:relative;width:100%;height:0;padding-bottom:60%;\"><span style=\"color:#565656\">Make this Notebook Trusted to load map: File -> Trust Notebook</span><iframe srcdoc=\"&lt;!DOCTYPE html&gt;\n",
       "&lt;html&gt;\n",
       "&lt;head&gt;\n",
       "    \n",
       "    &lt;meta http-equiv=&quot;content-type&quot; content=&quot;text/html; charset=UTF-8&quot; /&gt;\n",
       "    \n",
       "        &lt;script&gt;\n",
       "            L_NO_TOUCH = false;\n",
       "            L_DISABLE_3D = false;\n",
       "        &lt;/script&gt;\n",
       "    \n",
       "    &lt;style&gt;html, body {width: 100%;height: 100%;margin: 0;padding: 0;}&lt;/style&gt;\n",
       "    &lt;style&gt;#map {position:absolute;top:0;bottom:0;right:0;left:0;}&lt;/style&gt;\n",
       "    &lt;script src=&quot;https://cdn.jsdelivr.net/npm/leaflet@1.9.3/dist/leaflet.js&quot;&gt;&lt;/script&gt;\n",
       "    &lt;script src=&quot;https://code.jquery.com/jquery-3.7.1.min.js&quot;&gt;&lt;/script&gt;\n",
       "    &lt;script src=&quot;https://cdn.jsdelivr.net/npm/bootstrap@5.2.2/dist/js/bootstrap.bundle.min.js&quot;&gt;&lt;/script&gt;\n",
       "    &lt;script src=&quot;https://cdnjs.cloudflare.com/ajax/libs/Leaflet.awesome-markers/2.0.2/leaflet.awesome-markers.js&quot;&gt;&lt;/script&gt;\n",
       "    &lt;link rel=&quot;stylesheet&quot; href=&quot;https://cdn.jsdelivr.net/npm/leaflet@1.9.3/dist/leaflet.css&quot;/&gt;\n",
       "    &lt;link rel=&quot;stylesheet&quot; href=&quot;https://cdn.jsdelivr.net/npm/bootstrap@5.2.2/dist/css/bootstrap.min.css&quot;/&gt;\n",
       "    &lt;link rel=&quot;stylesheet&quot; href=&quot;https://netdna.bootstrapcdn.com/bootstrap/3.0.0/css/bootstrap-glyphicons.css&quot;/&gt;\n",
       "    &lt;link rel=&quot;stylesheet&quot; href=&quot;https://cdn.jsdelivr.net/npm/@fortawesome/fontawesome-free@6.2.0/css/all.min.css&quot;/&gt;\n",
       "    &lt;link rel=&quot;stylesheet&quot; href=&quot;https://cdnjs.cloudflare.com/ajax/libs/Leaflet.awesome-markers/2.0.2/leaflet.awesome-markers.css&quot;/&gt;\n",
       "    &lt;link rel=&quot;stylesheet&quot; href=&quot;https://cdn.jsdelivr.net/gh/python-visualization/folium/folium/templates/leaflet.awesome.rotate.min.css&quot;/&gt;\n",
       "    \n",
       "            &lt;meta name=&quot;viewport&quot; content=&quot;width=device-width,\n",
       "                initial-scale=1.0, maximum-scale=1.0, user-scalable=no&quot; /&gt;\n",
       "            &lt;style&gt;\n",
       "                #map_dccf0bacb156413cc7496746d1290d08 {\n",
       "                    position: relative;\n",
       "                    width: 960.0px;\n",
       "                    height: 500.0px;\n",
       "                    left: 0.0%;\n",
       "                    top: 0.0%;\n",
       "                }\n",
       "                .leaflet-container { font-size: 1rem; }\n",
       "            &lt;/style&gt;\n",
       "        \n",
       "&lt;/head&gt;\n",
       "&lt;body&gt;\n",
       "    \n",
       "    \n",
       "            &lt;div class=&quot;folium-map&quot; id=&quot;map_dccf0bacb156413cc7496746d1290d08&quot; &gt;&lt;/div&gt;\n",
       "        \n",
       "&lt;/body&gt;\n",
       "&lt;script&gt;\n",
       "    \n",
       "    \n",
       "            var map_dccf0bacb156413cc7496746d1290d08 = L.map(\n",
       "                &quot;map_dccf0bacb156413cc7496746d1290d08&quot;,\n",
       "                {\n",
       "                    center: [40.113599750000006, -75.09376385],\n",
       "                    crs: L.CRS.EPSG3857,\n",
       "                    ...{\n",
       "  &quot;zoom&quot;: 10,\n",
       "  &quot;zoomControl&quot;: true,\n",
       "  &quot;preferCanvas&quot;: false,\n",
       "  &quot;clusteredMarker&quot;: false,\n",
       "  &quot;includeColorScaleOutliers&quot;: true,\n",
       "  &quot;radiusInMeters&quot;: false,\n",
       "}\n",
       "\n",
       "                }\n",
       "            );\n",
       "\n",
       "            \n",
       "\n",
       "        \n",
       "    \n",
       "            var tile_layer_d62b9cebd32b768007d5d5d5822e3f38 = L.tileLayer(\n",
       "                &quot;https://tile.openstreetmap.org/{z}/{x}/{y}.png&quot;,\n",
       "                {\n",
       "  &quot;minZoom&quot;: 8,\n",
       "  &quot;maxZoom&quot;: 17,\n",
       "  &quot;maxNativeZoom&quot;: 17,\n",
       "  &quot;noWrap&quot;: false,\n",
       "  &quot;attribution&quot;: &quot;\\u0026copy; \\u003ca href=\\&quot;https://www.openstreetmap.org/copyright\\&quot;\\u003eOpenStreetMap\\u003c/a\\u003e contributors&quot;,\n",
       "  &quot;subdomains&quot;: &quot;abc&quot;,\n",
       "  &quot;detectRetina&quot;: false,\n",
       "  &quot;tms&quot;: false,\n",
       "  &quot;opacity&quot;: 1,\n",
       "}\n",
       "\n",
       "            );\n",
       "        \n",
       "    \n",
       "            tile_layer_d62b9cebd32b768007d5d5d5822e3f38.addTo(map_dccf0bacb156413cc7496746d1290d08);\n",
       "        \n",
       "    \n",
       "            var circle_marker_b427af59ae0bd815848a629f09e5dda7 = L.circleMarker(\n",
       "                [40.177825, -75.15553],\n",
       "                {&quot;bubblingMouseEvents&quot;: true, &quot;color&quot;: &quot;green&quot;, &quot;dashArray&quot;: null, &quot;dashOffset&quot;: null, &quot;fill&quot;: true, &quot;fillColor&quot;: &quot;green&quot;, &quot;fillOpacity&quot;: 0.2, &quot;fillRule&quot;: &quot;evenodd&quot;, &quot;lineCap&quot;: &quot;round&quot;, &quot;lineJoin&quot;: &quot;round&quot;, &quot;opacity&quot;: 1.0, &quot;radius&quot;: 10.0, &quot;stroke&quot;: true, &quot;weight&quot;: 3}\n",
       "            ).addTo(map_dccf0bacb156413cc7496746d1290d08);\n",
       "        \n",
       "    \n",
       "        var popup_ce6779a5465c0584fbc40fc2f6a05da3 = L.popup({\n",
       "  &quot;maxWidth&quot;: &quot;100%&quot;,\n",
       "});\n",
       "\n",
       "        \n",
       "            \n",
       "                var html_330896c5a300adc7d53ee54ab22d11dc = $(`&lt;div id=&quot;html_330896c5a300adc7d53ee54ab22d11dc&quot; style=&quot;width: 100.0%; height: 100.0%;&quot;&gt;PP1-1&lt;/div&gt;`)[0];\n",
       "                popup_ce6779a5465c0584fbc40fc2f6a05da3.setContent(html_330896c5a300adc7d53ee54ab22d11dc);\n",
       "            \n",
       "        \n",
       "\n",
       "        circle_marker_b427af59ae0bd815848a629f09e5dda7.bindPopup(popup_ce6779a5465c0584fbc40fc2f6a05da3)\n",
       "        ;\n",
       "\n",
       "        \n",
       "    \n",
       "    \n",
       "            var circle_marker_708d9a83c312d9718e0d5dd27ba1ff5c = L.circleMarker(\n",
       "                [40.1791, -75.1419983],\n",
       "                {&quot;bubblingMouseEvents&quot;: true, &quot;color&quot;: &quot;green&quot;, &quot;dashArray&quot;: null, &quot;dashOffset&quot;: null, &quot;fill&quot;: true, &quot;fillColor&quot;: &quot;green&quot;, &quot;fillOpacity&quot;: 0.2, &quot;fillRule&quot;: &quot;evenodd&quot;, &quot;lineCap&quot;: &quot;round&quot;, &quot;lineJoin&quot;: &quot;round&quot;, &quot;opacity&quot;: 1.0, &quot;radius&quot;: 10.0, &quot;stroke&quot;: true, &quot;weight&quot;: 3}\n",
       "            ).addTo(map_dccf0bacb156413cc7496746d1290d08);\n",
       "        \n",
       "    \n",
       "        var popup_e3f7eb28bcad368edb607bd281dfdedf = L.popup({\n",
       "  &quot;maxWidth&quot;: &quot;100%&quot;,\n",
       "});\n",
       "\n",
       "        \n",
       "            \n",
       "                var html_467d0de130273fe56ffa87b036dd7e8d = $(`&lt;div id=&quot;html_467d0de130273fe56ffa87b036dd7e8d&quot; style=&quot;width: 100.0%; height: 100.0%;&quot;&gt;PP1-2&lt;/div&gt;`)[0];\n",
       "                popup_e3f7eb28bcad368edb607bd281dfdedf.setContent(html_467d0de130273fe56ffa87b036dd7e8d);\n",
       "            \n",
       "        \n",
       "\n",
       "        circle_marker_708d9a83c312d9718e0d5dd27ba1ff5c.bindPopup(popup_e3f7eb28bcad368edb607bd281dfdedf)\n",
       "        ;\n",
       "\n",
       "        \n",
       "    \n",
       "    \n",
       "            var circle_marker_1b5a14d9389a40a87dcb06ccbc9ecc6c = L.circleMarker(\n",
       "                [40.1799011, -75.1339035],\n",
       "                {&quot;bubblingMouseEvents&quot;: true, &quot;color&quot;: &quot;green&quot;, &quot;dashArray&quot;: null, &quot;dashOffset&quot;: null, &quot;fill&quot;: true, &quot;fillColor&quot;: &quot;green&quot;, &quot;fillOpacity&quot;: 0.2, &quot;fillRule&quot;: &quot;evenodd&quot;, &quot;lineCap&quot;: &quot;round&quot;, &quot;lineJoin&quot;: &quot;round&quot;, &quot;opacity&quot;: 1.0, &quot;radius&quot;: 10.0, &quot;stroke&quot;: true, &quot;weight&quot;: 3}\n",
       "            ).addTo(map_dccf0bacb156413cc7496746d1290d08);\n",
       "        \n",
       "    \n",
       "        var popup_d4956daa7bf23b4ab4ccc1236ec24e63 = L.popup({\n",
       "  &quot;maxWidth&quot;: &quot;100%&quot;,\n",
       "});\n",
       "\n",
       "        \n",
       "            \n",
       "                var html_fdd64b5d999c6c3d18bb5240c88528c1 = $(`&lt;div id=&quot;html_fdd64b5d999c6c3d18bb5240c88528c1&quot; style=&quot;width: 100.0%; height: 100.0%;&quot;&gt;PP1-3&lt;/div&gt;`)[0];\n",
       "                popup_d4956daa7bf23b4ab4ccc1236ec24e63.setContent(html_fdd64b5d999c6c3d18bb5240c88528c1);\n",
       "            \n",
       "        \n",
       "\n",
       "        circle_marker_1b5a14d9389a40a87dcb06ccbc9ecc6c.bindPopup(popup_d4956daa7bf23b4ab4ccc1236ec24e63)\n",
       "        ;\n",
       "\n",
       "        \n",
       "    \n",
       "    \n",
       "            var circle_marker_c45e3d777b451c4129fd74d6e25b4c95 = L.circleMarker(\n",
       "                [40.1785011, -75.1278],\n",
       "                {&quot;bubblingMouseEvents&quot;: true, &quot;color&quot;: &quot;green&quot;, &quot;dashArray&quot;: null, &quot;dashOffset&quot;: null, &quot;fill&quot;: true, &quot;fillColor&quot;: &quot;green&quot;, &quot;fillOpacity&quot;: 0.2, &quot;fillRule&quot;: &quot;evenodd&quot;, &quot;lineCap&quot;: &quot;round&quot;, &quot;lineJoin&quot;: &quot;round&quot;, &quot;opacity&quot;: 1.0, &quot;radius&quot;: 10.0, &quot;stroke&quot;: true, &quot;weight&quot;: 3}\n",
       "            ).addTo(map_dccf0bacb156413cc7496746d1290d08);\n",
       "        \n",
       "    \n",
       "        var popup_85bf8f7b2e85440c6b63c68951d88616 = L.popup({\n",
       "  &quot;maxWidth&quot;: &quot;100%&quot;,\n",
       "});\n",
       "\n",
       "        \n",
       "            \n",
       "                var html_e03337f6ac3332e9729a21b773fb7c86 = $(`&lt;div id=&quot;html_e03337f6ac3332e9729a21b773fb7c86&quot; style=&quot;width: 100.0%; height: 100.0%;&quot;&gt;PP1-4&lt;/div&gt;`)[0];\n",
       "                popup_85bf8f7b2e85440c6b63c68951d88616.setContent(html_e03337f6ac3332e9729a21b773fb7c86);\n",
       "            \n",
       "        \n",
       "\n",
       "        circle_marker_c45e3d777b451c4129fd74d6e25b4c95.bindPopup(popup_85bf8f7b2e85440c6b63c68951d88616)\n",
       "        ;\n",
       "\n",
       "        \n",
       "    \n",
       "    \n",
       "            var circle_marker_53bb030046cb00b238877aaf1affb294 = L.circleMarker(\n",
       "                [40.1773987, -75.1219025],\n",
       "                {&quot;bubblingMouseEvents&quot;: true, &quot;color&quot;: &quot;green&quot;, &quot;dashArray&quot;: null, &quot;dashOffset&quot;: null, &quot;fill&quot;: true, &quot;fillColor&quot;: &quot;green&quot;, &quot;fillOpacity&quot;: 0.2, &quot;fillRule&quot;: &quot;evenodd&quot;, &quot;lineCap&quot;: &quot;round&quot;, &quot;lineJoin&quot;: &quot;round&quot;, &quot;opacity&quot;: 1.0, &quot;radius&quot;: 10.0, &quot;stroke&quot;: true, &quot;weight&quot;: 3}\n",
       "            ).addTo(map_dccf0bacb156413cc7496746d1290d08);\n",
       "        \n",
       "    \n",
       "        var popup_c03879938bd88f1d55493ee59c6748b7 = L.popup({\n",
       "  &quot;maxWidth&quot;: &quot;100%&quot;,\n",
       "});\n",
       "\n",
       "        \n",
       "            \n",
       "                var html_61413155ef87c9d449730bb4ae550cbf = $(`&lt;div id=&quot;html_61413155ef87c9d449730bb4ae550cbf&quot; style=&quot;width: 100.0%; height: 100.0%;&quot;&gt;PP1-5&lt;/div&gt;`)[0];\n",
       "                popup_c03879938bd88f1d55493ee59c6748b7.setContent(html_61413155ef87c9d449730bb4ae550cbf);\n",
       "            \n",
       "        \n",
       "\n",
       "        circle_marker_53bb030046cb00b238877aaf1affb294.bindPopup(popup_c03879938bd88f1d55493ee59c6748b7)\n",
       "        ;\n",
       "\n",
       "        \n",
       "    \n",
       "    \n",
       "            var circle_marker_a15115d60af714d27eb01877e46b6a4b = L.circleMarker(\n",
       "                [40.1769981, -75.1164017],\n",
       "                {&quot;bubblingMouseEvents&quot;: true, &quot;color&quot;: &quot;green&quot;, &quot;dashArray&quot;: null, &quot;dashOffset&quot;: null, &quot;fill&quot;: true, &quot;fillColor&quot;: &quot;green&quot;, &quot;fillOpacity&quot;: 0.2, &quot;fillRule&quot;: &quot;evenodd&quot;, &quot;lineCap&quot;: &quot;round&quot;, &quot;lineJoin&quot;: &quot;round&quot;, &quot;opacity&quot;: 1.0, &quot;radius&quot;: 10.0, &quot;stroke&quot;: true, &quot;weight&quot;: 3}\n",
       "            ).addTo(map_dccf0bacb156413cc7496746d1290d08);\n",
       "        \n",
       "    \n",
       "        var popup_8348a9a2af6c927d24bc09504c73d6ea = L.popup({\n",
       "  &quot;maxWidth&quot;: &quot;100%&quot;,\n",
       "});\n",
       "\n",
       "        \n",
       "            \n",
       "                var html_4e6e5fab02be5e19c4ef3df6d72ee311 = $(`&lt;div id=&quot;html_4e6e5fab02be5e19c4ef3df6d72ee311&quot; style=&quot;width: 100.0%; height: 100.0%;&quot;&gt;PP1-6&lt;/div&gt;`)[0];\n",
       "                popup_8348a9a2af6c927d24bc09504c73d6ea.setContent(html_4e6e5fab02be5e19c4ef3df6d72ee311);\n",
       "            \n",
       "        \n",
       "\n",
       "        circle_marker_a15115d60af714d27eb01877e46b6a4b.bindPopup(popup_8348a9a2af6c927d24bc09504c73d6ea)\n",
       "        ;\n",
       "\n",
       "        \n",
       "    \n",
       "    \n",
       "            var circle_marker_479e4476bc84cabcfa622d7fb09c1804 = L.circleMarker(\n",
       "                [40.172699, -75.1108017],\n",
       "                {&quot;bubblingMouseEvents&quot;: true, &quot;color&quot;: &quot;green&quot;, &quot;dashArray&quot;: null, &quot;dashOffset&quot;: null, &quot;fill&quot;: true, &quot;fillColor&quot;: &quot;green&quot;, &quot;fillOpacity&quot;: 0.2, &quot;fillRule&quot;: &quot;evenodd&quot;, &quot;lineCap&quot;: &quot;round&quot;, &quot;lineJoin&quot;: &quot;round&quot;, &quot;opacity&quot;: 1.0, &quot;radius&quot;: 10.0, &quot;stroke&quot;: true, &quot;weight&quot;: 3}\n",
       "            ).addTo(map_dccf0bacb156413cc7496746d1290d08);\n",
       "        \n",
       "    \n",
       "        var popup_ee17ce01077db6bfa43f0cd6af171e4f = L.popup({\n",
       "  &quot;maxWidth&quot;: &quot;100%&quot;,\n",
       "});\n",
       "\n",
       "        \n",
       "            \n",
       "                var html_0cf7c73296a601a22d728c046a786594 = $(`&lt;div id=&quot;html_0cf7c73296a601a22d728c046a786594&quot; style=&quot;width: 100.0%; height: 100.0%;&quot;&gt;PP1-7&lt;/div&gt;`)[0];\n",
       "                popup_ee17ce01077db6bfa43f0cd6af171e4f.setContent(html_0cf7c73296a601a22d728c046a786594);\n",
       "            \n",
       "        \n",
       "\n",
       "        circle_marker_479e4476bc84cabcfa622d7fb09c1804.bindPopup(popup_ee17ce01077db6bfa43f0cd6af171e4f)\n",
       "        ;\n",
       "\n",
       "        \n",
       "    \n",
       "    \n",
       "            var circle_marker_105aa82347332d1ca97b09a2d85f5a1c = L.circleMarker(\n",
       "                [40.1664009, -75.1064987],\n",
       "                {&quot;bubblingMouseEvents&quot;: true, &quot;color&quot;: &quot;green&quot;, &quot;dashArray&quot;: null, &quot;dashOffset&quot;: null, &quot;fill&quot;: true, &quot;fillColor&quot;: &quot;green&quot;, &quot;fillOpacity&quot;: 0.2, &quot;fillRule&quot;: &quot;evenodd&quot;, &quot;lineCap&quot;: &quot;round&quot;, &quot;lineJoin&quot;: &quot;round&quot;, &quot;opacity&quot;: 1.0, &quot;radius&quot;: 10.0, &quot;stroke&quot;: true, &quot;weight&quot;: 3}\n",
       "            ).addTo(map_dccf0bacb156413cc7496746d1290d08);\n",
       "        \n",
       "    \n",
       "        var popup_4290d8fa92a14c1eef8383827f5136b1 = L.popup({\n",
       "  &quot;maxWidth&quot;: &quot;100%&quot;,\n",
       "});\n",
       "\n",
       "        \n",
       "            \n",
       "                var html_c51c9083a17660dc63f5db609ad83ed4 = $(`&lt;div id=&quot;html_c51c9083a17660dc63f5db609ad83ed4&quot; style=&quot;width: 100.0%; height: 100.0%;&quot;&gt;PP1-8&lt;/div&gt;`)[0];\n",
       "                popup_4290d8fa92a14c1eef8383827f5136b1.setContent(html_c51c9083a17660dc63f5db609ad83ed4);\n",
       "            \n",
       "        \n",
       "\n",
       "        circle_marker_105aa82347332d1ca97b09a2d85f5a1c.bindPopup(popup_4290d8fa92a14c1eef8383827f5136b1)\n",
       "        ;\n",
       "\n",
       "        \n",
       "    \n",
       "    \n",
       "            var circle_marker_944e9661d0917651e49f4527064d1914 = L.circleMarker(\n",
       "                [40.1595993, -75.106102],\n",
       "                {&quot;bubblingMouseEvents&quot;: true, &quot;color&quot;: &quot;green&quot;, &quot;dashArray&quot;: null, &quot;dashOffset&quot;: null, &quot;fill&quot;: true, &quot;fillColor&quot;: &quot;green&quot;, &quot;fillOpacity&quot;: 0.2, &quot;fillRule&quot;: &quot;evenodd&quot;, &quot;lineCap&quot;: &quot;round&quot;, &quot;lineJoin&quot;: &quot;round&quot;, &quot;opacity&quot;: 1.0, &quot;radius&quot;: 10.0, &quot;stroke&quot;: true, &quot;weight&quot;: 3}\n",
       "            ).addTo(map_dccf0bacb156413cc7496746d1290d08);\n",
       "        \n",
       "    \n",
       "        var popup_735c6a41e51b7f74c77caaa57eecaf9e = L.popup({\n",
       "  &quot;maxWidth&quot;: &quot;100%&quot;,\n",
       "});\n",
       "\n",
       "        \n",
       "            \n",
       "                var html_a9ac5b5fdaf10ed0f7309d7c4e8ae82d = $(`&lt;div id=&quot;html_a9ac5b5fdaf10ed0f7309d7c4e8ae82d&quot; style=&quot;width: 100.0%; height: 100.0%;&quot;&gt;PP1-9&lt;/div&gt;`)[0];\n",
       "                popup_735c6a41e51b7f74c77caaa57eecaf9e.setContent(html_a9ac5b5fdaf10ed0f7309d7c4e8ae82d);\n",
       "            \n",
       "        \n",
       "\n",
       "        circle_marker_944e9661d0917651e49f4527064d1914.bindPopup(popup_735c6a41e51b7f74c77caaa57eecaf9e)\n",
       "        ;\n",
       "\n",
       "        \n",
       "    \n",
       "    \n",
       "            var circle_marker_03bbd513c6c18706a0adae17c5a2056c = L.circleMarker(\n",
       "                [40.1580009, -75.0995026],\n",
       "                {&quot;bubblingMouseEvents&quot;: true, &quot;color&quot;: &quot;green&quot;, &quot;dashArray&quot;: null, &quot;dashOffset&quot;: null, &quot;fill&quot;: true, &quot;fillColor&quot;: &quot;green&quot;, &quot;fillOpacity&quot;: 0.2, &quot;fillRule&quot;: &quot;evenodd&quot;, &quot;lineCap&quot;: &quot;round&quot;, &quot;lineJoin&quot;: &quot;round&quot;, &quot;opacity&quot;: 1.0, &quot;radius&quot;: 10.0, &quot;stroke&quot;: true, &quot;weight&quot;: 3}\n",
       "            ).addTo(map_dccf0bacb156413cc7496746d1290d08);\n",
       "        \n",
       "    \n",
       "        var popup_b73f23abe90fe2266cd723834a353af9 = L.popup({\n",
       "  &quot;maxWidth&quot;: &quot;100%&quot;,\n",
       "});\n",
       "\n",
       "        \n",
       "            \n",
       "                var html_cd4ac408d1ec6c45eaf2831bff14f796 = $(`&lt;div id=&quot;html_cd4ac408d1ec6c45eaf2831bff14f796&quot; style=&quot;width: 100.0%; height: 100.0%;&quot;&gt;PP1-10&lt;/div&gt;`)[0];\n",
       "                popup_b73f23abe90fe2266cd723834a353af9.setContent(html_cd4ac408d1ec6c45eaf2831bff14f796);\n",
       "            \n",
       "        \n",
       "\n",
       "        circle_marker_03bbd513c6c18706a0adae17c5a2056c.bindPopup(popup_b73f23abe90fe2266cd723834a353af9)\n",
       "        ;\n",
       "\n",
       "        \n",
       "    \n",
       "    \n",
       "            var circle_marker_16631cc82206e6bd8fb5a1e7a3b28a3a = L.circleMarker(\n",
       "                [40.1561012, -75.0902023],\n",
       "                {&quot;bubblingMouseEvents&quot;: true, &quot;color&quot;: &quot;green&quot;, &quot;dashArray&quot;: null, &quot;dashOffset&quot;: null, &quot;fill&quot;: true, &quot;fillColor&quot;: &quot;green&quot;, &quot;fillOpacity&quot;: 0.2, &quot;fillRule&quot;: &quot;evenodd&quot;, &quot;lineCap&quot;: &quot;round&quot;, &quot;lineJoin&quot;: &quot;round&quot;, &quot;opacity&quot;: 1.0, &quot;radius&quot;: 10.0, &quot;stroke&quot;: true, &quot;weight&quot;: 3}\n",
       "            ).addTo(map_dccf0bacb156413cc7496746d1290d08);\n",
       "        \n",
       "    \n",
       "        var popup_f76d244722d211936aec25b2fd0f7eb0 = L.popup({\n",
       "  &quot;maxWidth&quot;: &quot;100%&quot;,\n",
       "});\n",
       "\n",
       "        \n",
       "            \n",
       "                var html_225ea65db3e7bc28cfc856320ad47c25 = $(`&lt;div id=&quot;html_225ea65db3e7bc28cfc856320ad47c25&quot; style=&quot;width: 100.0%; height: 100.0%;&quot;&gt;PP1-11&lt;/div&gt;`)[0];\n",
       "                popup_f76d244722d211936aec25b2fd0f7eb0.setContent(html_225ea65db3e7bc28cfc856320ad47c25);\n",
       "            \n",
       "        \n",
       "\n",
       "        circle_marker_16631cc82206e6bd8fb5a1e7a3b28a3a.bindPopup(popup_f76d244722d211936aec25b2fd0f7eb0)\n",
       "        ;\n",
       "\n",
       "        \n",
       "    \n",
       "    \n",
       "            var circle_marker_dfce5175048c6692b58bd0a69bc84424 = L.circleMarker(\n",
       "                [40.1567993, -75.0803986],\n",
       "                {&quot;bubblingMouseEvents&quot;: true, &quot;color&quot;: &quot;green&quot;, &quot;dashArray&quot;: null, &quot;dashOffset&quot;: null, &quot;fill&quot;: true, &quot;fillColor&quot;: &quot;green&quot;, &quot;fillOpacity&quot;: 0.2, &quot;fillRule&quot;: &quot;evenodd&quot;, &quot;lineCap&quot;: &quot;round&quot;, &quot;lineJoin&quot;: &quot;round&quot;, &quot;opacity&quot;: 1.0, &quot;radius&quot;: 10.0, &quot;stroke&quot;: true, &quot;weight&quot;: 3}\n",
       "            ).addTo(map_dccf0bacb156413cc7496746d1290d08);\n",
       "        \n",
       "    \n",
       "        var popup_28870bebbcad1d75b6db4e2cf8a3a838 = L.popup({\n",
       "  &quot;maxWidth&quot;: &quot;100%&quot;,\n",
       "});\n",
       "\n",
       "        \n",
       "            \n",
       "                var html_92dda6f421ca6beb87a0922df7097c46 = $(`&lt;div id=&quot;html_92dda6f421ca6beb87a0922df7097c46&quot; style=&quot;width: 100.0%; height: 100.0%;&quot;&gt;PP1-12&lt;/div&gt;`)[0];\n",
       "                popup_28870bebbcad1d75b6db4e2cf8a3a838.setContent(html_92dda6f421ca6beb87a0922df7097c46);\n",
       "            \n",
       "        \n",
       "\n",
       "        circle_marker_dfce5175048c6692b58bd0a69bc84424.bindPopup(popup_28870bebbcad1d75b6db4e2cf8a3a838)\n",
       "        ;\n",
       "\n",
       "        \n",
       "    \n",
       "    \n",
       "            var circle_marker_f29fe36ec5ea85cf364584325575212d = L.circleMarker(\n",
       "                [40.1544991, -75.0768967],\n",
       "                {&quot;bubblingMouseEvents&quot;: true, &quot;color&quot;: &quot;green&quot;, &quot;dashArray&quot;: null, &quot;dashOffset&quot;: null, &quot;fill&quot;: true, &quot;fillColor&quot;: &quot;green&quot;, &quot;fillOpacity&quot;: 0.2, &quot;fillRule&quot;: &quot;evenodd&quot;, &quot;lineCap&quot;: &quot;round&quot;, &quot;lineJoin&quot;: &quot;round&quot;, &quot;opacity&quot;: 1.0, &quot;radius&quot;: 10.0, &quot;stroke&quot;: true, &quot;weight&quot;: 3}\n",
       "            ).addTo(map_dccf0bacb156413cc7496746d1290d08);\n",
       "        \n",
       "    \n",
       "        var popup_d14c85e50ddadda6cf76c77e542708a0 = L.popup({\n",
       "  &quot;maxWidth&quot;: &quot;100%&quot;,\n",
       "});\n",
       "\n",
       "        \n",
       "            \n",
       "                var html_ff0db2db93c468d675b53fc6e28789dc = $(`&lt;div id=&quot;html_ff0db2db93c468d675b53fc6e28789dc&quot; style=&quot;width: 100.0%; height: 100.0%;&quot;&gt;PP1-13&lt;/div&gt;`)[0];\n",
       "                popup_d14c85e50ddadda6cf76c77e542708a0.setContent(html_ff0db2db93c468d675b53fc6e28789dc);\n",
       "            \n",
       "        \n",
       "\n",
       "        circle_marker_f29fe36ec5ea85cf364584325575212d.bindPopup(popup_d14c85e50ddadda6cf76c77e542708a0)\n",
       "        ;\n",
       "\n",
       "        \n",
       "    \n",
       "    \n",
       "            var circle_marker_772d596e4f6210be6a7d44a4f4d42616 = L.circleMarker(\n",
       "                [40.151227, -75.075945],\n",
       "                {&quot;bubblingMouseEvents&quot;: true, &quot;color&quot;: &quot;green&quot;, &quot;dashArray&quot;: null, &quot;dashOffset&quot;: null, &quot;fill&quot;: true, &quot;fillColor&quot;: &quot;green&quot;, &quot;fillOpacity&quot;: 0.2, &quot;fillRule&quot;: &quot;evenodd&quot;, &quot;lineCap&quot;: &quot;round&quot;, &quot;lineJoin&quot;: &quot;round&quot;, &quot;opacity&quot;: 1.0, &quot;radius&quot;: 10.0, &quot;stroke&quot;: true, &quot;weight&quot;: 3}\n",
       "            ).addTo(map_dccf0bacb156413cc7496746d1290d08);\n",
       "        \n",
       "    \n",
       "        var popup_0fd17cde76cb289a5f4e660e7f93fbe0 = L.popup({\n",
       "  &quot;maxWidth&quot;: &quot;100%&quot;,\n",
       "});\n",
       "\n",
       "        \n",
       "            \n",
       "                var html_2a9c599bc9eaa75cf9d49261dddca45e = $(`&lt;div id=&quot;html_2a9c599bc9eaa75cf9d49261dddca45e&quot; style=&quot;width: 100.0%; height: 100.0%;&quot;&gt;PP1-14&lt;/div&gt;`)[0];\n",
       "                popup_0fd17cde76cb289a5f4e660e7f93fbe0.setContent(html_2a9c599bc9eaa75cf9d49261dddca45e);\n",
       "            \n",
       "        \n",
       "\n",
       "        circle_marker_772d596e4f6210be6a7d44a4f4d42616.bindPopup(popup_0fd17cde76cb289a5f4e660e7f93fbe0)\n",
       "        ;\n",
       "\n",
       "        \n",
       "    \n",
       "    \n",
       "            var circle_marker_40ce390fef9cbd6dc655a9c7bf3278fa = L.circleMarker(\n",
       "                [40.1453018, -75.0766983],\n",
       "                {&quot;bubblingMouseEvents&quot;: true, &quot;color&quot;: &quot;green&quot;, &quot;dashArray&quot;: null, &quot;dashOffset&quot;: null, &quot;fill&quot;: true, &quot;fillColor&quot;: &quot;green&quot;, &quot;fillOpacity&quot;: 0.2, &quot;fillRule&quot;: &quot;evenodd&quot;, &quot;lineCap&quot;: &quot;round&quot;, &quot;lineJoin&quot;: &quot;round&quot;, &quot;opacity&quot;: 1.0, &quot;radius&quot;: 10.0, &quot;stroke&quot;: true, &quot;weight&quot;: 3}\n",
       "            ).addTo(map_dccf0bacb156413cc7496746d1290d08);\n",
       "        \n",
       "    \n",
       "        var popup_32330abe57b874b3712e0b4e565edacf = L.popup({\n",
       "  &quot;maxWidth&quot;: &quot;100%&quot;,\n",
       "});\n",
       "\n",
       "        \n",
       "            \n",
       "                var html_57762504838197afc06de630633200a2 = $(`&lt;div id=&quot;html_57762504838197afc06de630633200a2&quot; style=&quot;width: 100.0%; height: 100.0%;&quot;&gt;PP2-1&lt;/div&gt;`)[0];\n",
       "                popup_32330abe57b874b3712e0b4e565edacf.setContent(html_57762504838197afc06de630633200a2);\n",
       "            \n",
       "        \n",
       "\n",
       "        circle_marker_40ce390fef9cbd6dc655a9c7bf3278fa.bindPopup(popup_32330abe57b874b3712e0b4e565edacf)\n",
       "        ;\n",
       "\n",
       "        \n",
       "    \n",
       "    \n",
       "            var circle_marker_2d7d9fb88c64c35534c88ae33e80ddf8 = L.circleMarker(\n",
       "                [40.1399994, -75.0742035],\n",
       "                {&quot;bubblingMouseEvents&quot;: true, &quot;color&quot;: &quot;green&quot;, &quot;dashArray&quot;: null, &quot;dashOffset&quot;: null, &quot;fill&quot;: true, &quot;fillColor&quot;: &quot;green&quot;, &quot;fillOpacity&quot;: 0.2, &quot;fillRule&quot;: &quot;evenodd&quot;, &quot;lineCap&quot;: &quot;round&quot;, &quot;lineJoin&quot;: &quot;round&quot;, &quot;opacity&quot;: 1.0, &quot;radius&quot;: 10.0, &quot;stroke&quot;: true, &quot;weight&quot;: 3}\n",
       "            ).addTo(map_dccf0bacb156413cc7496746d1290d08);\n",
       "        \n",
       "    \n",
       "        var popup_d7e7de90f9d252d466fd636001f91ec9 = L.popup({\n",
       "  &quot;maxWidth&quot;: &quot;100%&quot;,\n",
       "});\n",
       "\n",
       "        \n",
       "            \n",
       "                var html_ffcb0bc1df9aa3edbbc223e2ec762957 = $(`&lt;div id=&quot;html_ffcb0bc1df9aa3edbbc223e2ec762957&quot; style=&quot;width: 100.0%; height: 100.0%;&quot;&gt;PP2-2&lt;/div&gt;`)[0];\n",
       "                popup_d7e7de90f9d252d466fd636001f91ec9.setContent(html_ffcb0bc1df9aa3edbbc223e2ec762957);\n",
       "            \n",
       "        \n",
       "\n",
       "        circle_marker_2d7d9fb88c64c35534c88ae33e80ddf8.bindPopup(popup_d7e7de90f9d252d466fd636001f91ec9)\n",
       "        ;\n",
       "\n",
       "        \n",
       "    \n",
       "    \n",
       "            var circle_marker_44f43feb036576dce7e827a08866b155 = L.circleMarker(\n",
       "                [40.1346016, -75.0718002],\n",
       "                {&quot;bubblingMouseEvents&quot;: true, &quot;color&quot;: &quot;green&quot;, &quot;dashArray&quot;: null, &quot;dashOffset&quot;: null, &quot;fill&quot;: true, &quot;fillColor&quot;: &quot;green&quot;, &quot;fillOpacity&quot;: 0.2, &quot;fillRule&quot;: &quot;evenodd&quot;, &quot;lineCap&quot;: &quot;round&quot;, &quot;lineJoin&quot;: &quot;round&quot;, &quot;opacity&quot;: 1.0, &quot;radius&quot;: 10.0, &quot;stroke&quot;: true, &quot;weight&quot;: 3}\n",
       "            ).addTo(map_dccf0bacb156413cc7496746d1290d08);\n",
       "        \n",
       "    \n",
       "        var popup_dfe5e565c0ae5eaf45a3331f17c697c4 = L.popup({\n",
       "  &quot;maxWidth&quot;: &quot;100%&quot;,\n",
       "});\n",
       "\n",
       "        \n",
       "            \n",
       "                var html_4411f1b53ec071abdefc9f9d92114f98 = $(`&lt;div id=&quot;html_4411f1b53ec071abdefc9f9d92114f98&quot; style=&quot;width: 100.0%; height: 100.0%;&quot;&gt;PP2-3&lt;/div&gt;`)[0];\n",
       "                popup_dfe5e565c0ae5eaf45a3331f17c697c4.setContent(html_4411f1b53ec071abdefc9f9d92114f98);\n",
       "            \n",
       "        \n",
       "\n",
       "        circle_marker_44f43feb036576dce7e827a08866b155.bindPopup(popup_dfe5e565c0ae5eaf45a3331f17c697c4)\n",
       "        ;\n",
       "\n",
       "        \n",
       "    \n",
       "    \n",
       "            var circle_marker_e608ed8a38ba2bc306a3896c240b60e3 = L.circleMarker(\n",
       "                [40.1297989, -75.071701],\n",
       "                {&quot;bubblingMouseEvents&quot;: true, &quot;color&quot;: &quot;green&quot;, &quot;dashArray&quot;: null, &quot;dashOffset&quot;: null, &quot;fill&quot;: true, &quot;fillColor&quot;: &quot;green&quot;, &quot;fillOpacity&quot;: 0.2, &quot;fillRule&quot;: &quot;evenodd&quot;, &quot;lineCap&quot;: &quot;round&quot;, &quot;lineJoin&quot;: &quot;round&quot;, &quot;opacity&quot;: 1.0, &quot;radius&quot;: 10.0, &quot;stroke&quot;: true, &quot;weight&quot;: 3}\n",
       "            ).addTo(map_dccf0bacb156413cc7496746d1290d08);\n",
       "        \n",
       "    \n",
       "        var popup_6e79bb685ed2fd5010e9c019a80f9773 = L.popup({\n",
       "  &quot;maxWidth&quot;: &quot;100%&quot;,\n",
       "});\n",
       "\n",
       "        \n",
       "            \n",
       "                var html_0bd6c4e6d61827bc8320b66be27bc695 = $(`&lt;div id=&quot;html_0bd6c4e6d61827bc8320b66be27bc695&quot; style=&quot;width: 100.0%; height: 100.0%;&quot;&gt;PP2-4&lt;/div&gt;`)[0];\n",
       "                popup_6e79bb685ed2fd5010e9c019a80f9773.setContent(html_0bd6c4e6d61827bc8320b66be27bc695);\n",
       "            \n",
       "        \n",
       "\n",
       "        circle_marker_e608ed8a38ba2bc306a3896c240b60e3.bindPopup(popup_6e79bb685ed2fd5010e9c019a80f9773)\n",
       "        ;\n",
       "\n",
       "        \n",
       "    \n",
       "    \n",
       "            var circle_marker_8fb8097ea7ba693dd7e009799ac22e31 = L.circleMarker(\n",
       "                [40.1254997, -75.0733032],\n",
       "                {&quot;bubblingMouseEvents&quot;: true, &quot;color&quot;: &quot;green&quot;, &quot;dashArray&quot;: null, &quot;dashOffset&quot;: null, &quot;fill&quot;: true, &quot;fillColor&quot;: &quot;green&quot;, &quot;fillOpacity&quot;: 0.2, &quot;fillRule&quot;: &quot;evenodd&quot;, &quot;lineCap&quot;: &quot;round&quot;, &quot;lineJoin&quot;: &quot;round&quot;, &quot;opacity&quot;: 1.0, &quot;radius&quot;: 10.0, &quot;stroke&quot;: true, &quot;weight&quot;: 3}\n",
       "            ).addTo(map_dccf0bacb156413cc7496746d1290d08);\n",
       "        \n",
       "    \n",
       "        var popup_0cb98da335474b8fc20e383ee00b9b35 = L.popup({\n",
       "  &quot;maxWidth&quot;: &quot;100%&quot;,\n",
       "});\n",
       "\n",
       "        \n",
       "            \n",
       "                var html_c8740c1ce764197b52019b15863c128b = $(`&lt;div id=&quot;html_c8740c1ce764197b52019b15863c128b&quot; style=&quot;width: 100.0%; height: 100.0%;&quot;&gt;PP2-5&lt;/div&gt;`)[0];\n",
       "                popup_0cb98da335474b8fc20e383ee00b9b35.setContent(html_c8740c1ce764197b52019b15863c128b);\n",
       "            \n",
       "        \n",
       "\n",
       "        circle_marker_8fb8097ea7ba693dd7e009799ac22e31.bindPopup(popup_0cb98da335474b8fc20e383ee00b9b35)\n",
       "        ;\n",
       "\n",
       "        \n",
       "    \n",
       "    \n",
       "            var circle_marker_363de7b8c9230884735c1fd459ce01b6 = L.circleMarker(\n",
       "                [40.1211014, -75.0726013],\n",
       "                {&quot;bubblingMouseEvents&quot;: true, &quot;color&quot;: &quot;green&quot;, &quot;dashArray&quot;: null, &quot;dashOffset&quot;: null, &quot;fill&quot;: true, &quot;fillColor&quot;: &quot;green&quot;, &quot;fillOpacity&quot;: 0.2, &quot;fillRule&quot;: &quot;evenodd&quot;, &quot;lineCap&quot;: &quot;round&quot;, &quot;lineJoin&quot;: &quot;round&quot;, &quot;opacity&quot;: 1.0, &quot;radius&quot;: 10.0, &quot;stroke&quot;: true, &quot;weight&quot;: 3}\n",
       "            ).addTo(map_dccf0bacb156413cc7496746d1290d08);\n",
       "        \n",
       "    \n",
       "        var popup_575f0a511c7d9aae0e90d06cdf609647 = L.popup({\n",
       "  &quot;maxWidth&quot;: &quot;100%&quot;,\n",
       "});\n",
       "\n",
       "        \n",
       "            \n",
       "                var html_c000d3cc27235a3290bf4aece28d0cad = $(`&lt;div id=&quot;html_c000d3cc27235a3290bf4aece28d0cad&quot; style=&quot;width: 100.0%; height: 100.0%;&quot;&gt;PP2-6&lt;/div&gt;`)[0];\n",
       "                popup_575f0a511c7d9aae0e90d06cdf609647.setContent(html_c000d3cc27235a3290bf4aece28d0cad);\n",
       "            \n",
       "        \n",
       "\n",
       "        circle_marker_363de7b8c9230884735c1fd459ce01b6.bindPopup(popup_575f0a511c7d9aae0e90d06cdf609647)\n",
       "        ;\n",
       "\n",
       "        \n",
       "    \n",
       "    \n",
       "            var circle_marker_0d6056d70619497c6aca04da0b664562 = L.circleMarker(\n",
       "                [40.1181984, -75.0698013],\n",
       "                {&quot;bubblingMouseEvents&quot;: true, &quot;color&quot;: &quot;green&quot;, &quot;dashArray&quot;: null, &quot;dashOffset&quot;: null, &quot;fill&quot;: true, &quot;fillColor&quot;: &quot;green&quot;, &quot;fillOpacity&quot;: 0.2, &quot;fillRule&quot;: &quot;evenodd&quot;, &quot;lineCap&quot;: &quot;round&quot;, &quot;lineJoin&quot;: &quot;round&quot;, &quot;opacity&quot;: 1.0, &quot;radius&quot;: 10.0, &quot;stroke&quot;: true, &quot;weight&quot;: 3}\n",
       "            ).addTo(map_dccf0bacb156413cc7496746d1290d08);\n",
       "        \n",
       "    \n",
       "        var popup_114a5f64956514183915d53a91211afb = L.popup({\n",
       "  &quot;maxWidth&quot;: &quot;100%&quot;,\n",
       "});\n",
       "\n",
       "        \n",
       "            \n",
       "                var html_2c662ed4aebb2e77ec8db90c6cf5c534 = $(`&lt;div id=&quot;html_2c662ed4aebb2e77ec8db90c6cf5c534&quot; style=&quot;width: 100.0%; height: 100.0%;&quot;&gt;PP2-7&lt;/div&gt;`)[0];\n",
       "                popup_114a5f64956514183915d53a91211afb.setContent(html_2c662ed4aebb2e77ec8db90c6cf5c534);\n",
       "            \n",
       "        \n",
       "\n",
       "        circle_marker_0d6056d70619497c6aca04da0b664562.bindPopup(popup_114a5f64956514183915d53a91211afb)\n",
       "        ;\n",
       "\n",
       "        \n",
       "    \n",
       "    \n",
       "            var circle_marker_c06f54113696b5c2bcd42d4d1021d27e = L.circleMarker(\n",
       "                [40.1127014, -75.072403],\n",
       "                {&quot;bubblingMouseEvents&quot;: true, &quot;color&quot;: &quot;green&quot;, &quot;dashArray&quot;: null, &quot;dashOffset&quot;: null, &quot;fill&quot;: true, &quot;fillColor&quot;: &quot;green&quot;, &quot;fillOpacity&quot;: 0.2, &quot;fillRule&quot;: &quot;evenodd&quot;, &quot;lineCap&quot;: &quot;round&quot;, &quot;lineJoin&quot;: &quot;round&quot;, &quot;opacity&quot;: 1.0, &quot;radius&quot;: 10.0, &quot;stroke&quot;: true, &quot;weight&quot;: 3}\n",
       "            ).addTo(map_dccf0bacb156413cc7496746d1290d08);\n",
       "        \n",
       "    \n",
       "        var popup_9067753089a40c6c42c0e15c3b0d177d = L.popup({\n",
       "  &quot;maxWidth&quot;: &quot;100%&quot;,\n",
       "});\n",
       "\n",
       "        \n",
       "            \n",
       "                var html_3b6d489d0c02ca4912e44d12f63f8d82 = $(`&lt;div id=&quot;html_3b6d489d0c02ca4912e44d12f63f8d82&quot; style=&quot;width: 100.0%; height: 100.0%;&quot;&gt;PP2-8&lt;/div&gt;`)[0];\n",
       "                popup_9067753089a40c6c42c0e15c3b0d177d.setContent(html_3b6d489d0c02ca4912e44d12f63f8d82);\n",
       "            \n",
       "        \n",
       "\n",
       "        circle_marker_c06f54113696b5c2bcd42d4d1021d27e.bindPopup(popup_9067753089a40c6c42c0e15c3b0d177d)\n",
       "        ;\n",
       "\n",
       "        \n",
       "    \n",
       "    \n",
       "            var circle_marker_4fa8f32933e81bf431debd180846b63c = L.circleMarker(\n",
       "                [40.1085014, -75.0735016],\n",
       "                {&quot;bubblingMouseEvents&quot;: true, &quot;color&quot;: &quot;green&quot;, &quot;dashArray&quot;: null, &quot;dashOffset&quot;: null, &quot;fill&quot;: true, &quot;fillColor&quot;: &quot;green&quot;, &quot;fillOpacity&quot;: 0.2, &quot;fillRule&quot;: &quot;evenodd&quot;, &quot;lineCap&quot;: &quot;round&quot;, &quot;lineJoin&quot;: &quot;round&quot;, &quot;opacity&quot;: 1.0, &quot;radius&quot;: 10.0, &quot;stroke&quot;: true, &quot;weight&quot;: 3}\n",
       "            ).addTo(map_dccf0bacb156413cc7496746d1290d08);\n",
       "        \n",
       "    \n",
       "        var popup_9d9bbf2952a85d50e357e1c37cf1a526 = L.popup({\n",
       "  &quot;maxWidth&quot;: &quot;100%&quot;,\n",
       "});\n",
       "\n",
       "        \n",
       "            \n",
       "                var html_93c65b011d4f7c1cea14fb132cf3099b = $(`&lt;div id=&quot;html_93c65b011d4f7c1cea14fb132cf3099b&quot; style=&quot;width: 100.0%; height: 100.0%;&quot;&gt;PP2-9&lt;/div&gt;`)[0];\n",
       "                popup_9d9bbf2952a85d50e357e1c37cf1a526.setContent(html_93c65b011d4f7c1cea14fb132cf3099b);\n",
       "            \n",
       "        \n",
       "\n",
       "        circle_marker_4fa8f32933e81bf431debd180846b63c.bindPopup(popup_9d9bbf2952a85d50e357e1c37cf1a526)\n",
       "        ;\n",
       "\n",
       "        \n",
       "    \n",
       "    \n",
       "            var circle_marker_42f668d754aaf93a16bf3c9ff459a56b = L.circleMarker(\n",
       "                [40.1044006, -75.0734024],\n",
       "                {&quot;bubblingMouseEvents&quot;: true, &quot;color&quot;: &quot;green&quot;, &quot;dashArray&quot;: null, &quot;dashOffset&quot;: null, &quot;fill&quot;: true, &quot;fillColor&quot;: &quot;green&quot;, &quot;fillOpacity&quot;: 0.2, &quot;fillRule&quot;: &quot;evenodd&quot;, &quot;lineCap&quot;: &quot;round&quot;, &quot;lineJoin&quot;: &quot;round&quot;, &quot;opacity&quot;: 1.0, &quot;radius&quot;: 10.0, &quot;stroke&quot;: true, &quot;weight&quot;: 3}\n",
       "            ).addTo(map_dccf0bacb156413cc7496746d1290d08);\n",
       "        \n",
       "    \n",
       "        var popup_fa4739a2730e7e2cc22540cff985518e = L.popup({\n",
       "  &quot;maxWidth&quot;: &quot;100%&quot;,\n",
       "});\n",
       "\n",
       "        \n",
       "            \n",
       "                var html_440b3e9f2e614e349b3aaf0aee299846 = $(`&lt;div id=&quot;html_440b3e9f2e614e349b3aaf0aee299846&quot; style=&quot;width: 100.0%; height: 100.0%;&quot;&gt;PP3-1&lt;/div&gt;`)[0];\n",
       "                popup_fa4739a2730e7e2cc22540cff985518e.setContent(html_440b3e9f2e614e349b3aaf0aee299846);\n",
       "            \n",
       "        \n",
       "\n",
       "        circle_marker_42f668d754aaf93a16bf3c9ff459a56b.bindPopup(popup_fa4739a2730e7e2cc22540cff985518e)\n",
       "        ;\n",
       "\n",
       "        \n",
       "    \n",
       "    \n",
       "            var circle_marker_2d3bd41f1c1336e07b77fa987cb411eb = L.circleMarker(\n",
       "                [40.0988007, -75.071701],\n",
       "                {&quot;bubblingMouseEvents&quot;: true, &quot;color&quot;: &quot;green&quot;, &quot;dashArray&quot;: null, &quot;dashOffset&quot;: null, &quot;fill&quot;: true, &quot;fillColor&quot;: &quot;green&quot;, &quot;fillOpacity&quot;: 0.2, &quot;fillRule&quot;: &quot;evenodd&quot;, &quot;lineCap&quot;: &quot;round&quot;, &quot;lineJoin&quot;: &quot;round&quot;, &quot;opacity&quot;: 1.0, &quot;radius&quot;: 10.0, &quot;stroke&quot;: true, &quot;weight&quot;: 3}\n",
       "            ).addTo(map_dccf0bacb156413cc7496746d1290d08);\n",
       "        \n",
       "    \n",
       "        var popup_0d4a2b9621f68bb5ddd3e527e7d49261 = L.popup({\n",
       "  &quot;maxWidth&quot;: &quot;100%&quot;,\n",
       "});\n",
       "\n",
       "        \n",
       "            \n",
       "                var html_fe314f5c1c14347e09e30b5b8c9a9564 = $(`&lt;div id=&quot;html_fe314f5c1c14347e09e30b5b8c9a9564&quot; style=&quot;width: 100.0%; height: 100.0%;&quot;&gt;PP3-2&lt;/div&gt;`)[0];\n",
       "                popup_0d4a2b9621f68bb5ddd3e527e7d49261.setContent(html_fe314f5c1c14347e09e30b5b8c9a9564);\n",
       "            \n",
       "        \n",
       "\n",
       "        circle_marker_2d3bd41f1c1336e07b77fa987cb411eb.bindPopup(popup_0d4a2b9621f68bb5ddd3e527e7d49261)\n",
       "        ;\n",
       "\n",
       "        \n",
       "    \n",
       "    \n",
       "            var circle_marker_2b53fd955debf6be470bc46071531c16 = L.circleMarker(\n",
       "                [40.0904007, -75.0695038],\n",
       "                {&quot;bubblingMouseEvents&quot;: true, &quot;color&quot;: &quot;green&quot;, &quot;dashArray&quot;: null, &quot;dashOffset&quot;: null, &quot;fill&quot;: true, &quot;fillColor&quot;: &quot;green&quot;, &quot;fillOpacity&quot;: 0.2, &quot;fillRule&quot;: &quot;evenodd&quot;, &quot;lineCap&quot;: &quot;round&quot;, &quot;lineJoin&quot;: &quot;round&quot;, &quot;opacity&quot;: 1.0, &quot;radius&quot;: 10.0, &quot;stroke&quot;: true, &quot;weight&quot;: 3}\n",
       "            ).addTo(map_dccf0bacb156413cc7496746d1290d08);\n",
       "        \n",
       "    \n",
       "        var popup_c57037941ffda9d184287832bdc42439 = L.popup({\n",
       "  &quot;maxWidth&quot;: &quot;100%&quot;,\n",
       "});\n",
       "\n",
       "        \n",
       "            \n",
       "                var html_96c25b7a7aa422b6d74182bb883c8d8b = $(`&lt;div id=&quot;html_96c25b7a7aa422b6d74182bb883c8d8b&quot; style=&quot;width: 100.0%; height: 100.0%;&quot;&gt;PP3-3&lt;/div&gt;`)[0];\n",
       "                popup_c57037941ffda9d184287832bdc42439.setContent(html_96c25b7a7aa422b6d74182bb883c8d8b);\n",
       "            \n",
       "        \n",
       "\n",
       "        circle_marker_2b53fd955debf6be470bc46071531c16.bindPopup(popup_c57037941ffda9d184287832bdc42439)\n",
       "        ;\n",
       "\n",
       "        \n",
       "    \n",
       "    \n",
       "            var circle_marker_9f69fa380194bf08d284656d23236c25 = L.circleMarker(\n",
       "                [40.0861015, -75.066597],\n",
       "                {&quot;bubblingMouseEvents&quot;: true, &quot;color&quot;: &quot;green&quot;, &quot;dashArray&quot;: null, &quot;dashOffset&quot;: null, &quot;fill&quot;: true, &quot;fillColor&quot;: &quot;green&quot;, &quot;fillOpacity&quot;: 0.2, &quot;fillRule&quot;: &quot;evenodd&quot;, &quot;lineCap&quot;: &quot;round&quot;, &quot;lineJoin&quot;: &quot;round&quot;, &quot;opacity&quot;: 1.0, &quot;radius&quot;: 10.0, &quot;stroke&quot;: true, &quot;weight&quot;: 3}\n",
       "            ).addTo(map_dccf0bacb156413cc7496746d1290d08);\n",
       "        \n",
       "    \n",
       "        var popup_cb86378f7607efc781c5316c089c9e87 = L.popup({\n",
       "  &quot;maxWidth&quot;: &quot;100%&quot;,\n",
       "});\n",
       "\n",
       "        \n",
       "            \n",
       "                var html_4fc0adadd6db071b6c629ec19ed3089d = $(`&lt;div id=&quot;html_4fc0adadd6db071b6c629ec19ed3089d&quot; style=&quot;width: 100.0%; height: 100.0%;&quot;&gt;PP3-4&lt;/div&gt;`)[0];\n",
       "                popup_cb86378f7607efc781c5316c089c9e87.setContent(html_4fc0adadd6db071b6c629ec19ed3089d);\n",
       "            \n",
       "        \n",
       "\n",
       "        circle_marker_9f69fa380194bf08d284656d23236c25.bindPopup(popup_cb86378f7607efc781c5316c089c9e87)\n",
       "        ;\n",
       "\n",
       "        \n",
       "    \n",
       "    \n",
       "            var circle_marker_dbfc959f7c79c099240f7b0bf9c095e5 = L.circleMarker(\n",
       "                [40.0886002, -75.0597992],\n",
       "                {&quot;bubblingMouseEvents&quot;: true, &quot;color&quot;: &quot;green&quot;, &quot;dashArray&quot;: null, &quot;dashOffset&quot;: null, &quot;fill&quot;: true, &quot;fillColor&quot;: &quot;green&quot;, &quot;fillOpacity&quot;: 0.2, &quot;fillRule&quot;: &quot;evenodd&quot;, &quot;lineCap&quot;: &quot;round&quot;, &quot;lineJoin&quot;: &quot;round&quot;, &quot;opacity&quot;: 1.0, &quot;radius&quot;: 10.0, &quot;stroke&quot;: true, &quot;weight&quot;: 3}\n",
       "            ).addTo(map_dccf0bacb156413cc7496746d1290d08);\n",
       "        \n",
       "    \n",
       "        var popup_0d3af11f56f7d0cb80a2c4ae582f76d0 = L.popup({\n",
       "  &quot;maxWidth&quot;: &quot;100%&quot;,\n",
       "});\n",
       "\n",
       "        \n",
       "            \n",
       "                var html_428997e09e0041bf060506eb78dbc31d = $(`&lt;div id=&quot;html_428997e09e0041bf060506eb78dbc31d&quot; style=&quot;width: 100.0%; height: 100.0%;&quot;&gt;PP3-5&lt;/div&gt;`)[0];\n",
       "                popup_0d3af11f56f7d0cb80a2c4ae582f76d0.setContent(html_428997e09e0041bf060506eb78dbc31d);\n",
       "            \n",
       "        \n",
       "\n",
       "        circle_marker_dbfc959f7c79c099240f7b0bf9c095e5.bindPopup(popup_0d3af11f56f7d0cb80a2c4ae582f76d0)\n",
       "        ;\n",
       "\n",
       "        \n",
       "    \n",
       "    \n",
       "            var circle_marker_6b61c3ce94891a6a5f9025fe768c2495 = L.circleMarker(\n",
       "                [40.0853996, -75.0597],\n",
       "                {&quot;bubblingMouseEvents&quot;: true, &quot;color&quot;: &quot;green&quot;, &quot;dashArray&quot;: null, &quot;dashOffset&quot;: null, &quot;fill&quot;: true, &quot;fillColor&quot;: &quot;green&quot;, &quot;fillOpacity&quot;: 0.2, &quot;fillRule&quot;: &quot;evenodd&quot;, &quot;lineCap&quot;: &quot;round&quot;, &quot;lineJoin&quot;: &quot;round&quot;, &quot;opacity&quot;: 1.0, &quot;radius&quot;: 10.0, &quot;stroke&quot;: true, &quot;weight&quot;: 3}\n",
       "            ).addTo(map_dccf0bacb156413cc7496746d1290d08);\n",
       "        \n",
       "    \n",
       "        var popup_bf0c3e99a920b721c204547cfb0765f1 = L.popup({\n",
       "  &quot;maxWidth&quot;: &quot;100%&quot;,\n",
       "});\n",
       "\n",
       "        \n",
       "            \n",
       "                var html_8539f7c24e6a266ca8771f40c01a5164 = $(`&lt;div id=&quot;html_8539f7c24e6a266ca8771f40c01a5164&quot; style=&quot;width: 100.0%; height: 100.0%;&quot;&gt;PP3-6&lt;/div&gt;`)[0];\n",
       "                popup_bf0c3e99a920b721c204547cfb0765f1.setContent(html_8539f7c24e6a266ca8771f40c01a5164);\n",
       "            \n",
       "        \n",
       "\n",
       "        circle_marker_6b61c3ce94891a6a5f9025fe768c2495.bindPopup(popup_bf0c3e99a920b721c204547cfb0765f1)\n",
       "        ;\n",
       "\n",
       "        \n",
       "    \n",
       "    \n",
       "            var circle_marker_16ef3feba774ae40899bf2b454b36215 = L.circleMarker(\n",
       "                [40.0806007, -75.0591965],\n",
       "                {&quot;bubblingMouseEvents&quot;: true, &quot;color&quot;: &quot;green&quot;, &quot;dashArray&quot;: null, &quot;dashOffset&quot;: null, &quot;fill&quot;: true, &quot;fillColor&quot;: &quot;green&quot;, &quot;fillOpacity&quot;: 0.2, &quot;fillRule&quot;: &quot;evenodd&quot;, &quot;lineCap&quot;: &quot;round&quot;, &quot;lineJoin&quot;: &quot;round&quot;, &quot;opacity&quot;: 1.0, &quot;radius&quot;: 10.0, &quot;stroke&quot;: true, &quot;weight&quot;: 3}\n",
       "            ).addTo(map_dccf0bacb156413cc7496746d1290d08);\n",
       "        \n",
       "    \n",
       "        var popup_34fdcfcc04fcdebf583a373d79436595 = L.popup({\n",
       "  &quot;maxWidth&quot;: &quot;100%&quot;,\n",
       "});\n",
       "\n",
       "        \n",
       "            \n",
       "                var html_91632c94f1570c013d670d14413173d7 = $(`&lt;div id=&quot;html_91632c94f1570c013d670d14413173d7&quot; style=&quot;width: 100.0%; height: 100.0%;&quot;&gt;PP3-7&lt;/div&gt;`)[0];\n",
       "                popup_34fdcfcc04fcdebf583a373d79436595.setContent(html_91632c94f1570c013d670d14413173d7);\n",
       "            \n",
       "        \n",
       "\n",
       "        circle_marker_16ef3feba774ae40899bf2b454b36215.bindPopup(popup_34fdcfcc04fcdebf583a373d79436595)\n",
       "        ;\n",
       "\n",
       "        \n",
       "    \n",
       "    \n",
       "            var circle_marker_c613878f7170c3b1a653792f1a0558fb = L.circleMarker(\n",
       "                [40.0750008, -75.063797],\n",
       "                {&quot;bubblingMouseEvents&quot;: true, &quot;color&quot;: &quot;green&quot;, &quot;dashArray&quot;: null, &quot;dashOffset&quot;: null, &quot;fill&quot;: true, &quot;fillColor&quot;: &quot;green&quot;, &quot;fillOpacity&quot;: 0.2, &quot;fillRule&quot;: &quot;evenodd&quot;, &quot;lineCap&quot;: &quot;round&quot;, &quot;lineJoin&quot;: &quot;round&quot;, &quot;opacity&quot;: 1.0, &quot;radius&quot;: 10.0, &quot;stroke&quot;: true, &quot;weight&quot;: 3}\n",
       "            ).addTo(map_dccf0bacb156413cc7496746d1290d08);\n",
       "        \n",
       "    \n",
       "        var popup_01bddaf7a08073c20319c7a8d6e080ad = L.popup({\n",
       "  &quot;maxWidth&quot;: &quot;100%&quot;,\n",
       "});\n",
       "\n",
       "        \n",
       "            \n",
       "                var html_10a4b70861c601e7e1a765b3d57b2f96 = $(`&lt;div id=&quot;html_10a4b70861c601e7e1a765b3d57b2f96&quot; style=&quot;width: 100.0%; height: 100.0%;&quot;&gt;PP3-8&lt;/div&gt;`)[0];\n",
       "                popup_01bddaf7a08073c20319c7a8d6e080ad.setContent(html_10a4b70861c601e7e1a765b3d57b2f96);\n",
       "            \n",
       "        \n",
       "\n",
       "        circle_marker_c613878f7170c3b1a653792f1a0558fb.bindPopup(popup_01bddaf7a08073c20319c7a8d6e080ad)\n",
       "        ;\n",
       "\n",
       "        \n",
       "    \n",
       "    \n",
       "            var circle_marker_57470f2ec42e1d978bfdf309bd477334 = L.circleMarker(\n",
       "                [40.0758018, -75.0544968],\n",
       "                {&quot;bubblingMouseEvents&quot;: true, &quot;color&quot;: &quot;green&quot;, &quot;dashArray&quot;: null, &quot;dashOffset&quot;: null, &quot;fill&quot;: true, &quot;fillColor&quot;: &quot;green&quot;, &quot;fillOpacity&quot;: 0.2, &quot;fillRule&quot;: &quot;evenodd&quot;, &quot;lineCap&quot;: &quot;round&quot;, &quot;lineJoin&quot;: &quot;round&quot;, &quot;opacity&quot;: 1.0, &quot;radius&quot;: 10.0, &quot;stroke&quot;: true, &quot;weight&quot;: 3}\n",
       "            ).addTo(map_dccf0bacb156413cc7496746d1290d08);\n",
       "        \n",
       "    \n",
       "        var popup_5aaa463a5ff9e8321ad9cf113d844e2e = L.popup({\n",
       "  &quot;maxWidth&quot;: &quot;100%&quot;,\n",
       "});\n",
       "\n",
       "        \n",
       "            \n",
       "                var html_5deb5ab0cab2d21343d081a20c86788b = $(`&lt;div id=&quot;html_5deb5ab0cab2d21343d081a20c86788b&quot; style=&quot;width: 100.0%; height: 100.0%;&quot;&gt;PP3-9&lt;/div&gt;`)[0];\n",
       "                popup_5aaa463a5ff9e8321ad9cf113d844e2e.setContent(html_5deb5ab0cab2d21343d081a20c86788b);\n",
       "            \n",
       "        \n",
       "\n",
       "        circle_marker_57470f2ec42e1d978bfdf309bd477334.bindPopup(popup_5aaa463a5ff9e8321ad9cf113d844e2e)\n",
       "        ;\n",
       "\n",
       "        \n",
       "    \n",
       "    \n",
       "            var circle_marker_ec8315b89368d34968a96a2a8cc0e667 = L.circleMarker(\n",
       "                [40.0764008, -75.0442963],\n",
       "                {&quot;bubblingMouseEvents&quot;: true, &quot;color&quot;: &quot;green&quot;, &quot;dashArray&quot;: null, &quot;dashOffset&quot;: null, &quot;fill&quot;: true, &quot;fillColor&quot;: &quot;green&quot;, &quot;fillOpacity&quot;: 0.2, &quot;fillRule&quot;: &quot;evenodd&quot;, &quot;lineCap&quot;: &quot;round&quot;, &quot;lineJoin&quot;: &quot;round&quot;, &quot;opacity&quot;: 1.0, &quot;radius&quot;: 10.0, &quot;stroke&quot;: true, &quot;weight&quot;: 3}\n",
       "            ).addTo(map_dccf0bacb156413cc7496746d1290d08);\n",
       "        \n",
       "    \n",
       "        var popup_a8fd830ea89fd9558fd55910374de94a = L.popup({\n",
       "  &quot;maxWidth&quot;: &quot;100%&quot;,\n",
       "});\n",
       "\n",
       "        \n",
       "            \n",
       "                var html_0af5c9e565b6bcf789032c35e992229e = $(`&lt;div id=&quot;html_0af5c9e565b6bcf789032c35e992229e&quot; style=&quot;width: 100.0%; height: 100.0%;&quot;&gt;PP4-1&lt;/div&gt;`)[0];\n",
       "                popup_a8fd830ea89fd9558fd55910374de94a.setContent(html_0af5c9e565b6bcf789032c35e992229e);\n",
       "            \n",
       "        \n",
       "\n",
       "        circle_marker_ec8315b89368d34968a96a2a8cc0e667.bindPopup(popup_a8fd830ea89fd9558fd55910374de94a)\n",
       "        ;\n",
       "\n",
       "        \n",
       "    \n",
       "    \n",
       "            var circle_marker_56bc63ceeab92173691e7083bdcd5836 = L.circleMarker(\n",
       "                [40.0702019, -75.0430984],\n",
       "                {&quot;bubblingMouseEvents&quot;: true, &quot;color&quot;: &quot;green&quot;, &quot;dashArray&quot;: null, &quot;dashOffset&quot;: null, &quot;fill&quot;: true, &quot;fillColor&quot;: &quot;green&quot;, &quot;fillOpacity&quot;: 0.2, &quot;fillRule&quot;: &quot;evenodd&quot;, &quot;lineCap&quot;: &quot;round&quot;, &quot;lineJoin&quot;: &quot;round&quot;, &quot;opacity&quot;: 1.0, &quot;radius&quot;: 10.0, &quot;stroke&quot;: true, &quot;weight&quot;: 3}\n",
       "            ).addTo(map_dccf0bacb156413cc7496746d1290d08);\n",
       "        \n",
       "    \n",
       "        var popup_f20ec20048065084e196ada0bd72f646 = L.popup({\n",
       "  &quot;maxWidth&quot;: &quot;100%&quot;,\n",
       "});\n",
       "\n",
       "        \n",
       "            \n",
       "                var html_df77aec713e66880a6d2897ec753ffd8 = $(`&lt;div id=&quot;html_df77aec713e66880a6d2897ec753ffd8&quot; style=&quot;width: 100.0%; height: 100.0%;&quot;&gt;PP4-2&lt;/div&gt;`)[0];\n",
       "                popup_f20ec20048065084e196ada0bd72f646.setContent(html_df77aec713e66880a6d2897ec753ffd8);\n",
       "            \n",
       "        \n",
       "\n",
       "        circle_marker_56bc63ceeab92173691e7083bdcd5836.bindPopup(popup_f20ec20048065084e196ada0bd72f646)\n",
       "        ;\n",
       "\n",
       "        \n",
       "    \n",
       "    \n",
       "            var circle_marker_56d402e41c183b78b9dbf212d87f2ba8 = L.circleMarker(\n",
       "                [40.0639992, -75.0379028],\n",
       "                {&quot;bubblingMouseEvents&quot;: true, &quot;color&quot;: &quot;green&quot;, &quot;dashArray&quot;: null, &quot;dashOffset&quot;: null, &quot;fill&quot;: true, &quot;fillColor&quot;: &quot;green&quot;, &quot;fillOpacity&quot;: 0.2, &quot;fillRule&quot;: &quot;evenodd&quot;, &quot;lineCap&quot;: &quot;round&quot;, &quot;lineJoin&quot;: &quot;round&quot;, &quot;opacity&quot;: 1.0, &quot;radius&quot;: 10.0, &quot;stroke&quot;: true, &quot;weight&quot;: 3}\n",
       "            ).addTo(map_dccf0bacb156413cc7496746d1290d08);\n",
       "        \n",
       "    \n",
       "        var popup_56bfbc23dd40876071a6f0c40ca0887f = L.popup({\n",
       "  &quot;maxWidth&quot;: &quot;100%&quot;,\n",
       "});\n",
       "\n",
       "        \n",
       "            \n",
       "                var html_1e80955e7a909166cd10e7e8e6637312 = $(`&lt;div id=&quot;html_1e80955e7a909166cd10e7e8e6637312&quot; style=&quot;width: 100.0%; height: 100.0%;&quot;&gt;PP4-3&lt;/div&gt;`)[0];\n",
       "                popup_56bfbc23dd40876071a6f0c40ca0887f.setContent(html_1e80955e7a909166cd10e7e8e6637312);\n",
       "            \n",
       "        \n",
       "\n",
       "        circle_marker_56d402e41c183b78b9dbf212d87f2ba8.bindPopup(popup_56bfbc23dd40876071a6f0c40ca0887f)\n",
       "        ;\n",
       "\n",
       "        \n",
       "    \n",
       "    \n",
       "            var circle_marker_5ac0936ccd299bd1d1958357ff87f8eb = L.circleMarker(\n",
       "                [40.0577011, -75.0363007],\n",
       "                {&quot;bubblingMouseEvents&quot;: true, &quot;color&quot;: &quot;green&quot;, &quot;dashArray&quot;: null, &quot;dashOffset&quot;: null, &quot;fill&quot;: true, &quot;fillColor&quot;: &quot;green&quot;, &quot;fillOpacity&quot;: 0.2, &quot;fillRule&quot;: &quot;evenodd&quot;, &quot;lineCap&quot;: &quot;round&quot;, &quot;lineJoin&quot;: &quot;round&quot;, &quot;opacity&quot;: 1.0, &quot;radius&quot;: 10.0, &quot;stroke&quot;: true, &quot;weight&quot;: 3}\n",
       "            ).addTo(map_dccf0bacb156413cc7496746d1290d08);\n",
       "        \n",
       "    \n",
       "        var popup_17f1afe713b01459f220310fb09f1ab0 = L.popup({\n",
       "  &quot;maxWidth&quot;: &quot;100%&quot;,\n",
       "});\n",
       "\n",
       "        \n",
       "            \n",
       "                var html_91090199d57551bcf4817a0a4f6ccbd4 = $(`&lt;div id=&quot;html_91090199d57551bcf4817a0a4f6ccbd4&quot; style=&quot;width: 100.0%; height: 100.0%;&quot;&gt;PP4-4&lt;/div&gt;`)[0];\n",
       "                popup_17f1afe713b01459f220310fb09f1ab0.setContent(html_91090199d57551bcf4817a0a4f6ccbd4);\n",
       "            \n",
       "        \n",
       "\n",
       "        circle_marker_5ac0936ccd299bd1d1958357ff87f8eb.bindPopup(popup_17f1afe713b01459f220310fb09f1ab0)\n",
       "        ;\n",
       "\n",
       "        \n",
       "    \n",
       "    \n",
       "            var circle_marker_eb7461fa22e88034a3cb0b5bf18bf5c0 = L.circleMarker(\n",
       "                [40.0527992, -75.0390015],\n",
       "                {&quot;bubblingMouseEvents&quot;: true, &quot;color&quot;: &quot;green&quot;, &quot;dashArray&quot;: null, &quot;dashOffset&quot;: null, &quot;fill&quot;: true, &quot;fillColor&quot;: &quot;green&quot;, &quot;fillOpacity&quot;: 0.2, &quot;fillRule&quot;: &quot;evenodd&quot;, &quot;lineCap&quot;: &quot;round&quot;, &quot;lineJoin&quot;: &quot;round&quot;, &quot;opacity&quot;: 1.0, &quot;radius&quot;: 10.0, &quot;stroke&quot;: true, &quot;weight&quot;: 3}\n",
       "            ).addTo(map_dccf0bacb156413cc7496746d1290d08);\n",
       "        \n",
       "    \n",
       "        var popup_4e435639e3d5153a5f60ea8f128dfd8d = L.popup({\n",
       "  &quot;maxWidth&quot;: &quot;100%&quot;,\n",
       "});\n",
       "\n",
       "        \n",
       "            \n",
       "                var html_973b35f2c8954ded6932606056e4bbb7 = $(`&lt;div id=&quot;html_973b35f2c8954ded6932606056e4bbb7&quot; style=&quot;width: 100.0%; height: 100.0%;&quot;&gt;PP4-5&lt;/div&gt;`)[0];\n",
       "                popup_4e435639e3d5153a5f60ea8f128dfd8d.setContent(html_973b35f2c8954ded6932606056e4bbb7);\n",
       "            \n",
       "        \n",
       "\n",
       "        circle_marker_eb7461fa22e88034a3cb0b5bf18bf5c0.bindPopup(popup_4e435639e3d5153a5f60ea8f128dfd8d)\n",
       "        ;\n",
       "\n",
       "        \n",
       "    \n",
       "    \n",
       "            var circle_marker_9ed8ac387e53db405279a8518df59c84 = L.circleMarker(\n",
       "                [40.0472984, -75.0373001],\n",
       "                {&quot;bubblingMouseEvents&quot;: true, &quot;color&quot;: &quot;green&quot;, &quot;dashArray&quot;: null, &quot;dashOffset&quot;: null, &quot;fill&quot;: true, &quot;fillColor&quot;: &quot;green&quot;, &quot;fillOpacity&quot;: 0.2, &quot;fillRule&quot;: &quot;evenodd&quot;, &quot;lineCap&quot;: &quot;round&quot;, &quot;lineJoin&quot;: &quot;round&quot;, &quot;opacity&quot;: 1.0, &quot;radius&quot;: 10.0, &quot;stroke&quot;: true, &quot;weight&quot;: 3}\n",
       "            ).addTo(map_dccf0bacb156413cc7496746d1290d08);\n",
       "        \n",
       "    \n",
       "        var popup_320790a6dc83ef9b6f9975f77b26a1d6 = L.popup({\n",
       "  &quot;maxWidth&quot;: &quot;100%&quot;,\n",
       "});\n",
       "\n",
       "        \n",
       "            \n",
       "                var html_c3fdec4481a138d43c37e38dac06dd47 = $(`&lt;div id=&quot;html_c3fdec4481a138d43c37e38dac06dd47&quot; style=&quot;width: 100.0%; height: 100.0%;&quot;&gt;PP4-6&lt;/div&gt;`)[0];\n",
       "                popup_320790a6dc83ef9b6f9975f77b26a1d6.setContent(html_c3fdec4481a138d43c37e38dac06dd47);\n",
       "            \n",
       "        \n",
       "\n",
       "        circle_marker_9ed8ac387e53db405279a8518df59c84.bindPopup(popup_320790a6dc83ef9b6f9975f77b26a1d6)\n",
       "        ;\n",
       "\n",
       "        \n",
       "    \n",
       "    \n",
       "            var circle_marker_42a334c87f8383974877f897b9c7c30e = L.circleMarker(\n",
       "                [40.0502014, -75.0319977],\n",
       "                {&quot;bubblingMouseEvents&quot;: true, &quot;color&quot;: &quot;green&quot;, &quot;dashArray&quot;: null, &quot;dashOffset&quot;: null, &quot;fill&quot;: true, &quot;fillColor&quot;: &quot;green&quot;, &quot;fillOpacity&quot;: 0.2, &quot;fillRule&quot;: &quot;evenodd&quot;, &quot;lineCap&quot;: &quot;round&quot;, &quot;lineJoin&quot;: &quot;round&quot;, &quot;opacity&quot;: 1.0, &quot;radius&quot;: 10.0, &quot;stroke&quot;: true, &quot;weight&quot;: 3}\n",
       "            ).addTo(map_dccf0bacb156413cc7496746d1290d08);\n",
       "        \n",
       "    \n",
       "        var popup_eec1fc932c5a7ffd1e2b5a88b1d49c36 = L.popup({\n",
       "  &quot;maxWidth&quot;: &quot;100%&quot;,\n",
       "});\n",
       "\n",
       "        \n",
       "            \n",
       "                var html_4f760dcd50ed1664a80eeccbb21c527d = $(`&lt;div id=&quot;html_4f760dcd50ed1664a80eeccbb21c527d&quot; style=&quot;width: 100.0%; height: 100.0%;&quot;&gt;PP4-7&lt;/div&gt;`)[0];\n",
       "                popup_eec1fc932c5a7ffd1e2b5a88b1d49c36.setContent(html_4f760dcd50ed1664a80eeccbb21c527d);\n",
       "            \n",
       "        \n",
       "\n",
       "        circle_marker_42a334c87f8383974877f897b9c7c30e.bindPopup(popup_eec1fc932c5a7ffd1e2b5a88b1d49c36)\n",
       "        ;\n",
       "\n",
       "        \n",
       "    \n",
       "&lt;/script&gt;\n",
       "&lt;/html&gt;\" style=\"position:absolute;width:100%;height:100%;left:0;top:0;border:none !important;\" allowfullscreen webkitallowfullscreen mozallowfullscreen></iframe></div></div>"
      ],
      "text/plain": [
       "<datascience.maps.Map at 0x79c90a5bdc50>"
      ]
     },
     "execution_count": 8,
     "metadata": {},
     "output_type": "execute_result"
    }
   ],
   "source": [
    "# Map the data\n",
    "Circle.map_table(map_data, color='green')"
   ]
  },
  {
   "cell_type": "markdown",
   "id": "bf01ccfb-3088-4cb6-90fe-39294c75d38a",
   "metadata": {},
   "source": [
    "The map above uses OpenStreetMap as a background, but  you can also open a browser tab with Google Maps and turn on the satellite imagery to see what the stream looks like. For example, below is a screen capture of the headwaters of Pennypack Creek captured from the map above, and roughly the same area from Google Maps. The first sample was collected just downstream of the pond labeled the source of the Pennypack in the aerial image below.\n",
    "\n",
    "![map](data/side_by_side_headwaters.png)\n"
   ]
  },
  {
   "cell_type": "markdown",
   "id": "ed1b9bcb-44b6-411b-b9d1-fbd16f59d3cd",
   "metadata": {},
   "source": [
    "#### Some questions to answer based on  your map exploration include:\n",
    "A \"tributary\" is smaller stream that feeds into larger stream, river, or lake.\n",
    "<span style=\"color: blue;\">How many small tributaries do you see in the headwaters of the Pennypack Creek? Use the interactive map to zoom in on the headwaters.</span> *Hint: PP1-1, the first sampling point is located on one of the tributaries.*"
   ]
  },
  {
   "cell_type": "markdown",
   "id": "14fa0ae8-8989-43e8-8983-348897ea02e4",
   "metadata": {},
   "source": [
    "**Answer in this cell:**<br>\n",
    "...\n"
   ]
  },
  {
   "cell_type": "markdown",
   "id": "1758a08b-1c25-4acb-965c-da9169199192",
   "metadata": {},
   "source": [
    "A riparian zone is the area of land directly adjacent to a body of flowing water, such as a river, stream, or creek. Streams are typically healthier if they have a large buffer of vegetation rather than flowing directly through developed areas. <br>\n",
    "\n",
    "<span style=\"color: blue;\">\n",
    "    \n",
    "* Give a sample point ID for a section of the Pennypack with a well-vegetated riparian zone.\n",
    "* Contrast this with one where the stream runs through a developed area.\n",
    "\n",
    "</span>"
   ]
  },
  {
   "cell_type": "markdown",
   "id": "d74ca63f-209c-412f-9c9b-aa68ec40417c",
   "metadata": {},
   "source": [
    "**Answer in this cell:**<br>\n",
    "..."
   ]
  },
  {
   "cell_type": "markdown",
   "id": "b4671402-b66e-4430-b429-79b11b526ccb",
   "metadata": {},
   "source": [
    "More data is often desirable.\n",
    "\n",
    "<span style=\"color: blue;\">If you could add one additional sample point, where would you add it and why? (There is no single right answer.)</span>"
   ]
  },
  {
   "cell_type": "markdown",
   "id": "4923ae5e-e692-44a8-a59f-96eb0e0d811b",
   "metadata": {},
   "source": [
    "**Answer in this cell:**<br>\n",
    "..."
   ]
  },
  {
   "cell_type": "markdown",
   "id": "1df4f200-ccdb-4a1c-ad9d-17a22582b9cc",
   "metadata": {},
   "source": [
    "## Part 2: Cleaning the Data\n",
    "***Write code to answer these questions:***"
   ]
  },
  {
   "cell_type": "markdown",
   "id": "af53c844-4d67-4bcc-8113-2fd93c2d5b1c",
   "metadata": {},
   "source": [
    "<span style=\"color: blue;\">\n",
    "How many sample points are there? (hint: num_rows)<br>\n",
    "</span>"
   ]
  },
  {
   "cell_type": "code",
   "execution_count": null,
   "id": "15c6f3ba-1ab6-4d2f-bd59-a5b5f97537dd",
   "metadata": {},
   "outputs": [],
   "source": []
  },
  {
   "cell_type": "code",
   "execution_count": 9,
   "id": "6929c113-0ca8-495f-a7a1-b5b4188c76ce",
   "metadata": {},
   "outputs": [
    {
     "name": "stdout",
     "output_type": "stream",
     "text": [
      "The number of data points is: 39\n"
     ]
    }
   ],
   "source": [
    "#SOLUTION\n",
    "print(f\"The number of data points is: {pp.num_rows}\")"
   ]
  },
  {
   "cell_type": "markdown",
   "id": "4c619609-737f-42a6-a5d1-890395cdd0da",
   "metadata": {},
   "source": [
    "**What are the data types?**<br>\n",
    "This is tricky, so the code is provided."
   ]
  },
  {
   "cell_type": "code",
   "execution_count": 10,
   "id": "519c1c51-a45e-4689-893e-ab23f2fbe1c3",
   "metadata": {},
   "outputs": [
    {
     "name": "stdout",
     "output_type": "stream",
     "text": [
      "The data type of SiteCode is <class 'numpy.str_'>\n",
      "The data type of X_dec_deg is <class 'numpy.float64'>\n",
      "The data type of Y_dec_deg is <class 'numpy.float64'>\n",
      "The data type of km downstream is <class 'numpy.float64'>\n",
      "The data type of Cl (mg/L) is <class 'numpy.float64'>\n",
      "The data type of NO3-N (mg/L) is <class 'numpy.float64'>\n",
      "The data type of SO4 (mg/L) is <class 'numpy.float64'>\n"
     ]
    }
   ],
   "source": [
    "for col in pp.labels:\n",
    "    print(f\"The data type of {col} is {type(pp.column(col)[0])}\")"
   ]
  },
  {
   "cell_type": "markdown",
   "id": "65b4777d-3e51-4c5e-8417-38ac53cda233",
   "metadata": {},
   "source": [
    "<span style=\"color: blue;\">What are the two types of data in the pp datatable?</span><br> Answer in this cell:<br>\n",
    "..."
   ]
  },
  {
   "cell_type": "markdown",
   "id": "e6666528-fa2e-4695-bcb4-af4e2a4627f4",
   "metadata": {},
   "source": [
    "<span style=\"color: blue;\">Are there any missing values?</span>\n",
    "\n",
    "It is common for datasets to have missing values, so ALWAYS check. Unfortunately, datatables do not have any built-in methods for doing this. Pandas \"dataframes (something you will learn to use if you continue in Python datascience) are much more powerful, but they are also complex. Data tables provide an easy way to convert a datatable to a dataframe and back again. ***Watch how it is done and remember this trick for later.***\n",
    "\n"
   ]
  },
  {
   "cell_type": "code",
   "execution_count": null,
   "id": "11841bfc-3e40-42e3-b9c6-9ff5488bd585",
   "metadata": {},
   "outputs": [],
   "source": [
    "# Convert a datatable to a dataframe\n",
    "df = pp.to_df()\n",
    "df"
   ]
  },
  {
   "cell_type": "code",
   "execution_count": null,
   "id": "e3ecd52b-57de-4294-9b0d-cd99fb81c3c9",
   "metadata": {},
   "outputs": [],
   "source": [
    "print(df.isnull().sum())"
   ]
  },
  {
   "cell_type": "markdown",
   "id": "4c1d6132-1c86-418b-ab28-9b741aef188d",
   "metadata": {},
   "source": [
    "<span style=\"color: blue;\">Are there any missing values?</span>\n",
    "\n",
    "Answer here  ...."
   ]
  },
  {
   "cell_type": "markdown",
   "id": "ffe97b61-14c6-4eca-aa08-436316907caf",
   "metadata": {},
   "source": [
    "## Part 3: Univariate Exploration\n",
    "\"Univariate\" means one variable. We have three anions of interest: Cl, Nitrate-N, and SO4. In this section we will explore them one at a time. Later we will look at them in combination (\"multivariate\").\n",
    "\n",
    "But first, lets provide some more background.\n",
    "\n",
    "**Cl is chloride:** typically a measure of the salinity (NaCl) of the water. In urban streams, elevated salinity is mainly caused by road salt runoff and wastewater. The concentration is reported in mg/L (milligrams per liter). A liter of water has a mass of 1,000 grams, and a milligram is one thousandth of a gram, so 1 mg/L is equivalent 1 part in a million or 1 ppm. While not usually a health risk at the current concentrations, water that is too salty it is bad for aquatic life and tastes lousy. **The EPA drinking water standard for chloride is 250 mg/L.**\n",
    "\n",
    "**Nitrate-N:** When you see “Nitrate-N” (or “NO₃-N”) in water quality data, it means the concentration is reported as the mass of nitrogen (N) contained within the nitrate ion, rather than the total mass of the nitrate molecule. Reporting as Nitrate-N allows for direct comparison between different forms of nitrogen (like nitrate, nitrite, or ammonia), since all are expressed as the mass of nitrogen. This is important for regulatory standards and health guidelines, which are typically based on the nitrogen content, not the full molecule. **[Drinking water standards](https://www.epa.gov/sdwa/drinking-water-regulations-and-contaminants) (such as the EPA’s 10 mg/L limit for nitrate-N for adults and 5 mg/L for children) are based on the nitrogen portion, making it easier to compare risks from different nitrogen compounds.⁠ High nitrate level are a particular problem for infants, causing \"Blue Baby Syndrome\" as it can interfere with the blood's ability to carry oxygen.**\n",
    "\n",
    "**SO4:** is sulfate. It can occur naturally from rock weathering and decay of organic matter, or through human actions such as fertilizer runoff, acid rain, weathering of concrete, and municipal wastewater from sewage treatment plants. Apart from creating an unpleasant taste, really high levels of sulfate (>500 mg/L) can cause diarrhea and other digestive issues. **The EPA drinking water standard for sulfate is 250 mg/L.**"
   ]
  },
  {
   "cell_type": "markdown",
   "id": "2fe34c4c-093b-46c3-9970-88e3ee6309bc",
   "metadata": {},
   "source": [
    "### The five number summary\n",
    "We begin our univariate data exploration by creating a function that will give us a five number summary for any numeric column in a table. "
   ]
  },
  {
   "cell_type": "code",
   "execution_count": null,
   "id": "9406e49e-1866-4148-a3ff-3dc37a74d401",
   "metadata": {},
   "outputs": [],
   "source": [
    "def five_num_table(table, column):\n",
    "    array = table.column(column)\n",
    "    summary = Table().with_columns(\n",
    "        \"Statistic\", [\"Min\", \"Max\", \"Mean\", \"Median\", \"Std\"],\n",
    "        \"Value\", [\n",
    "            np.min(array),\n",
    "            np.max(array),\n",
    "            np.mean(array),\n",
    "            np.median(array),\n",
    "            round(np.std(array), 2)\n",
    "        ]\n",
    "    )\n",
    "    return summary"
   ]
  },
  {
   "cell_type": "markdown",
   "id": "a33177de-c54d-4447-aef4-e246b53e5088",
   "metadata": {},
   "source": [
    "Let's apply the function to chloride."
   ]
  },
  {
   "cell_type": "markdown",
   "id": "80efcf6a-3a45-47eb-812c-6842ab16fd6c",
   "metadata": {},
   "source": [
    "### Chloride"
   ]
  },
  {
   "cell_type": "code",
   "execution_count": null,
   "id": "c90a829b-54fd-47a2-8a88-e8920a44e2b3",
   "metadata": {},
   "outputs": [],
   "source": [
    "five_num_table(pp, 'Cl (mg/L)')"
   ]
  },
  {
   "cell_type": "markdown",
   "id": "5657f8eb-38c9-4a5a-8e5f-fb3d8010e683",
   "metadata": {},
   "source": [
    "The mean and median give us an idea of how the data are centered. The max and min give us the range of values. The standard deviation tells us how tightly the values are clustered around the mean.\n",
    "\n",
    "To visualize the distribution, we make a histogram. Be sure to compare the numbers in the five_num_table with the histogram below."
   ]
  },
  {
   "cell_type": "code",
   "execution_count": null,
   "id": "9b6d6531-b88f-4446-ae44-4cc353295a76",
   "metadata": {},
   "outputs": [],
   "source": [
    "pp.hist('Cl (mg/L)')"
   ]
  },
  {
   "cell_type": "markdown",
   "id": "a32213b3-9dae-4f0f-b3a4-0a67859a352d",
   "metadata": {},
   "source": [
    "<span style=\"color: blue;\"> \n",
    "\n",
    "* Using the histogram, what can you conclude about the Chloride levels in the Pennypack creek? \n",
    "* What are typical chloride levels in pristine streams? \n",
    "* Do any of the chloride values in the Pennypack exceed the drinking water standard?\n",
    "* Would you advise people to drink this creek water?\n",
    "  \n",
    "</span>"
   ]
  },
  {
   "cell_type": "markdown",
   "id": "2eb93411-4cc0-45f9-9155-498e8f0dc6bb",
   "metadata": {},
   "source": [
    "**Answer in this cell:**<br>\n",
    "..."
   ]
  },
  {
   "cell_type": "markdown",
   "id": "9745e56d-fa30-41e0-8748-7db131dac6e4",
   "metadata": {},
   "source": [
    "<span style=\"color: blue;\">Any outliers?</span><br>\n",
    "While you are conducting your univariate analysis you should check for any outliers. An outlier could be real, or it could be the result of an error in measurement or in recording the data. Either way, outliers deserve attention. What is an outlier is somewhat subjective, but points that are  more than two standard deviations away are worth a second look, and points that are three or more standard deviations from the mean are certainly outliers.\n",
    "\n",
    "In the case of chloride, how many standard deviations away from the mean are the maximum and minimum concentrations? <span style=\"color: blue;\">Create code to calculate this using the values from the five-number summary.</span>"
   ]
  },
  {
   "cell_type": "code",
   "execution_count": null,
   "id": "aaff157a-106c-4fd5-999c-4ed55525ae66",
   "metadata": {},
   "outputs": [],
   "source": []
  },
  {
   "cell_type": "markdown",
   "id": "5baabe7a-9d08-4ac9-90dc-ed4b66906749",
   "metadata": {},
   "source": [
    "<span style=\"color: blue;\">Are there any chloride values you would label as outliers?</span> <br>\n",
    "...."
   ]
  },
  {
   "cell_type": "code",
   "execution_count": null,
   "id": "1f465655-6ff8-4751-aad7-9db942488d7b",
   "metadata": {},
   "outputs": [],
   "source": [
    "# Solution\n",
    "mean_val = 184\n",
    "max_val = 281\n",
    "min_val = 53\n",
    "std = 49\n",
    "print(f\"The maximum chloride value is {(max_val - mean_val) / std} standard deviations above the mean.\")\n",
    "print(f\"The minimum chloride value is {(mean_val - min_val) / std} standard deviations below the mean.\")"
   ]
  },
  {
   "cell_type": "markdown",
   "id": "d18d2136-ea50-4ee8-af29-604192c79c89",
   "metadata": {},
   "source": [
    "<span style=\"color: blue;\">Now create both a five-number summary and a histogram for nitrogen and sulfate and comment on your results in each case. Add code and markdown cells as needed."
   ]
  },
  {
   "cell_type": "markdown",
   "id": "c65d2b4d-0bd1-4872-a3a7-3e6b3c6352ef",
   "metadata": {},
   "source": [
    "### Nitrogen"
   ]
  },
  {
   "cell_type": "code",
   "execution_count": null,
   "id": "4408120c-be1c-4911-a8eb-eed7b99f6e40",
   "metadata": {},
   "outputs": [],
   "source": []
  },
  {
   "cell_type": "code",
   "execution_count": null,
   "id": "2ceb3991-8ab6-4903-8efc-3a7bb7b2b03c",
   "metadata": {},
   "outputs": [],
   "source": []
  },
  {
   "cell_type": "markdown",
   "id": "59099a16-ecd0-4a8b-8f68-658f581b3e23",
   "metadata": {},
   "source": [
    "### Sulfate"
   ]
  },
  {
   "cell_type": "code",
   "execution_count": null,
   "id": "62dfbb86-262d-450e-9334-3a368593bcea",
   "metadata": {},
   "outputs": [],
   "source": []
  },
  {
   "cell_type": "code",
   "execution_count": null,
   "id": "432dd71e-9b6a-4a29-af94-f2b4d39d3b4f",
   "metadata": {},
   "outputs": [],
   "source": []
  },
  {
   "cell_type": "markdown",
   "id": "ad27ae43-048d-47ff-84c3-6e797695cedd",
   "metadata": {},
   "source": [
    "## Part 4: Multivariate Analysis\n",
    "We've looked at one variable at a time. Now it is time to look at combinations. \n",
    "\n",
    "### Changes from headwaters to outflow?\n",
    "The first, and most important, variable to add is distance along the stream. After all, the whole point of synoptic sampling is to snapshot the spatial variation of stream geochemistry at an instant in time. Up to this point, you've been looking at the distribution of the data independent of stream location, but one would expect changing values as the water flows from its headwaters to where it finally discharges into the Delaware river."
   ]
  },
  {
   "cell_type": "code",
   "execution_count": null,
   "id": "6fa52b43-e518-491d-b2a5-6b8b1644320e",
   "metadata": {},
   "outputs": [],
   "source": [
    "# Scatterplot of Cl vs. distance downstream\n",
    "plt.figure(figsize=(10,5))\n",
    "pp.scatter('km downstream', 'Cl (mg/L)', width=12, height=5)\n",
    "plt.title('Chloride Concentration With Distance from Headwaters')"
   ]
  },
  {
   "cell_type": "markdown",
   "id": "208f062f-500b-4474-991f-32579b7f32c6",
   "metadata": {},
   "source": [
    "<span style=\"color: blue;\"> Interpret this chloride scatterplot. How does the concentration level vary from the headwaters to where the Pennypack empties into the Delaware?</span>"
   ]
  },
  {
   "cell_type": "markdown",
   "id": "16b17e97-bdc8-4391-8d96-4e9c90ef3cb0",
   "metadata": {},
   "source": [
    "Answer here ..."
   ]
  },
  {
   "cell_type": "markdown",
   "id": "b61e7b1c-811e-4d3b-b874-446269c262a0",
   "metadata": {},
   "source": [
    "Let's repeat the plot but add a vertical line where the wastewater treatment plant discharges into the creek, just downstream of point PP1-9 at about 7.5 km from the headwaters. "
   ]
  },
  {
   "cell_type": "code",
   "execution_count": null,
   "id": "18aef8c8-a865-441c-aa7b-fcb4b5fad01b",
   "metadata": {},
   "outputs": [],
   "source": [
    "# Scatterplot of Cl vs. distance downstream\n",
    "plt.figure(figsize=(10,5))\n",
    "pp.scatter('km downstream', 'Cl (mg/L)', width=12, height=5)\n",
    "plt.axvline(7.5)\n",
    "plt.title('Chloride Concentration With Distance from Headwaters')"
   ]
  },
  {
   "cell_type": "markdown",
   "id": "89b0bb51-eb9d-4166-800a-94c792ad3d4c",
   "metadata": {},
   "source": [
    "Clearly the chloride concentration increases steadily from the source, seems to spike just upstream of the treatment plant. While this treatment plant does contribute chloride, the main source to streams in northern US cities is roadsalt runoff.\n",
    "\n",
    "<span style=\"color: blue;\">Look at the interactive map again to see if you can identify the probable chloride source.</span>"
   ]
  },
  {
   "cell_type": "markdown",
   "id": "1fca10d4-7395-411b-805a-02011646c533",
   "metadata": {},
   "source": [
    "Answer here ..."
   ]
  },
  {
   "cell_type": "markdown",
   "id": "b851f9ca-95bf-46c5-83de-0d1790e4edd5",
   "metadata": {},
   "source": [
    "<span style=\"color: blue;\">Make a similar plot for both nitrogen and sulfate.|</span>"
   ]
  },
  {
   "cell_type": "code",
   "execution_count": null,
   "id": "b34f7747-3bce-4424-a0cb-486b0a808948",
   "metadata": {},
   "outputs": [],
   "source": []
  },
  {
   "cell_type": "code",
   "execution_count": null,
   "id": "634c20de-1609-4c7f-b7fc-959b935a782f",
   "metadata": {},
   "outputs": [],
   "source": [
    "# SOLUTION\n",
    "# Scatterplot of NO3 vs. distance downstream\n",
    "plt.figure(figsize=(10,5))\n",
    "pp.scatter('km downstream', 'NO3-N (mg/L)', width=12, height=5)\n",
    "plt.axvline(7.5)\n",
    "plt.title('Nitrogen Concentration With Distance from Headwaters')"
   ]
  },
  {
   "cell_type": "code",
   "execution_count": null,
   "id": "bece3692-667d-416d-881e-d512319a7066",
   "metadata": {},
   "outputs": [],
   "source": [
    "#SOLUTION\n",
    "# Scatterplot of Cl vs. distance downstream\n",
    "plt.figure(figsize=(10,5))\n",
    "pp.scatter('km downstream', 'SO4 (mg/L)', width=12, height=5)\n",
    "plt.axvline(7.5)\n",
    "plt.title('Sulfate Concentration With Distance from Headwaters')"
   ]
  },
  {
   "cell_type": "markdown",
   "id": "4a489094-01d2-4997-b6a0-e977b84e8343",
   "metadata": {},
   "source": [
    "Compare and contrast the three plots of anion concentrations along the stream.\n",
    "\n",
    "<span style=\"color: blue;\">\n",
    "    \n",
    "* Which anions do you think are most affected by the treatment plant?\n",
    "* Does this make sense given the nature of treated wastewater (do a some research).\n",
    "* What additional data might you collect to test your conclusions?\n",
    "\n",
    "</span>"
   ]
  },
  {
   "cell_type": "markdown",
   "id": "778a2e51-a764-4535-887e-11cb2d07f764",
   "metadata": {},
   "source": [
    "Essay answer\n",
    "..."
   ]
  },
  {
   "cell_type": "markdown",
   "id": "163acbb3-ec1a-4da2-89fa-96c7be727724",
   "metadata": {},
   "source": [
    "## Correlation Analysis\n",
    "Let's examine how the different anions compare with each other. When the concentration of one increases, does the concentration of the other also increase (positive correlation)? Or does one decrease when the other increases (negative correlation)? Or maybe there is no relationship (no correlation)."
   ]
  },
  {
   "cell_type": "code",
   "execution_count": null,
   "id": "7528c799-7309-4a77-93ed-a344d5a6bed5",
   "metadata": {},
   "outputs": [],
   "source": [
    "# Scatterplot of Cl vs. N\n",
    "plt.figure(figsize=(10,5))\n",
    "pp.scatter('Cl (mg/L)', 'NO3-N (mg/L)', width=5, height=5)"
   ]
  },
  {
   "cell_type": "markdown",
   "id": "c0b7c88c-e4d7-4f4f-bc6f-8daac415de8b",
   "metadata": {},
   "source": [
    "<span style=\"color: blue;\">\n",
    "\n",
    "* Is there a correlation? (Positive or negative? Strong or weak?)\n",
    "* Do you see any sign any indication that the correlation might be different for different sections of the stream?\n",
    "\n",
    "</span>"
   ]
  },
  {
   "cell_type": "markdown",
   "id": "c1a03208-a0e2-4275-b0c3-f2d4f0de8534",
   "metadata": {},
   "source": [
    "Answer here ..."
   ]
  },
  {
   "cell_type": "markdown",
   "id": "356c348e-4dc1-4a06-a375-838e47a91305",
   "metadata": {},
   "source": [
    "How can we figure this out? Since the points are in order, we can split the data at any point and plot the upstream points in one color and the downstream points in another."
   ]
  },
  {
   "cell_type": "code",
   "execution_count": null,
   "id": "299bef6f-1b48-476d-84fb-861b65b87266",
   "metadata": {},
   "outputs": [],
   "source": [
    "# Divide data into upstream and downstream of the wastewater treatment plant (WWTP).\n",
    "upstream_wwtp = pp.where(\"km downstream\", are.below(8))\n",
    "downstream_wwtp = pp.where(\"km downstream\", are.above_or_equal_to(8))\n",
    "\n",
    "# We have to use matplotlib directly to put both on the same plot\n",
    "# To do this we must extract the x and y arrays from the tables\n",
    "xcol = 'Cl (mg/L)'\n",
    "ycol = 'NO3-N (mg/L)'\n",
    "plt.figure(figsize=(6, 6))\n",
    "plt.scatter(upstream_wwtp.column(xcol), upstream_wwtp.column(ycol), label = 'upstream')\n",
    "plt.scatter(downstream_wwtp.column(xcol), downstream_wwtp.column(ycol), label = 'downstream')\n",
    "plt.xlabel(xcol)\n",
    "plt.ylabel(ycol)\n",
    "plt.title(f\"{xcol} vs {ycol}\")\n",
    "plt.legend();"
   ]
  },
  {
   "cell_type": "markdown",
   "id": "e63fd12f-b717-40df-85c7-4e7987e7bad5",
   "metadata": {},
   "source": [
    "<span style=\"color: blue;\">Make similar plots for the other two combinations:</span>\n",
    "* CL vs SO4\n",
    "* N vs SO4"
   ]
  },
  {
   "cell_type": "code",
   "execution_count": null,
   "id": "4d735ad2-b2a4-40c7-beb5-56efb8ef3cf1",
   "metadata": {},
   "outputs": [],
   "source": [
    "# SOLUTION\n",
    "xcol = 'Cl (mg/L)'\n",
    "ycol = 'SO4 (mg/L)'\n",
    "plt.figure(figsize=(6, 6))\n",
    "plt.scatter(upstream_wwtp.column(xcol), upstream_wwtp.column(ycol), label = 'upstream')\n",
    "plt.scatter(downstream_wwtp.column(xcol), downstream_wwtp.column(ycol), label = 'downstream')\n",
    "plt.xlabel(xcol)\n",
    "plt.ylabel(ycol)\n",
    "plt.title(f\"{xcol} vs {ycol}\")\n",
    "plt.legend();"
   ]
  },
  {
   "cell_type": "code",
   "execution_count": null,
   "id": "13cd5e03-f653-4329-9cdc-34e12f7b3296",
   "metadata": {},
   "outputs": [],
   "source": [
    "# SOLUTION\n",
    "xcol = 'NO3-N (mg/L)'\n",
    "ycol = 'SO4 (mg/L)'\n",
    "plt.figure(figsize=(6, 6))\n",
    "plt.scatter(upstream_wwtp.column(xcol), upstream_wwtp.column(ycol), label = 'upstream')\n",
    "plt.scatter(downstream_wwtp.column(xcol), downstream_wwtp.column(ycol), label = 'downstream')\n",
    "plt.xlabel(xcol)\n",
    "plt.ylabel(ycol)\n",
    "plt.title(f\"{xcol} vs {ycol}\")\n",
    "plt.legend();"
   ]
  },
  {
   "cell_type": "markdown",
   "id": "c25e1d49-2f05-4447-af43-6368390b78a9",
   "metadata": {},
   "source": [
    "<span style=\"color: blue;\">\n",
    "    \n",
    "* What inferences do you draw from these three correleation plots? \n",
    "* Do you think you could use the concentration of one anion to predict another? \n",
    "* How about if you fit the data separately upstream and downstream of the wastewater treatment plant?</span><br>\n",
    "Answer here..."
   ]
  },
  {
   "cell_type": "markdown",
   "id": "843d1d37-1dd2-43fc-b7a2-3620f432036c",
   "metadata": {},
   "source": [
    "## Part 5: Hypothesis Testing: Nitrate and the WWTP\n",
    "\n",
    "Going into this study, Dr. Toran hypothesized that the wastewater treatment plant would be a major source of nitrogen. Although as you saw in the video, treatment of seweage includes the breakdown of compounds by bacteria, 10 mg/L total nitrogen is a common standard for wastewater treatment plant discharge in the U.S., which is greater that the concentrations measured Pennypack Creek, but we would expect the treatment plant discharge to be diluted by the creek waters.\n",
    "\n",
    "**The statistical question is whether or not there is a difference in the mean concentration of Nitrate-N above and below the treatment plant that is unlikely to be the result of random variation.**\n",
    "\n",
    "<span style=\"color: blue;\">State the null hypothesis and the alternative hypothesis.</span>"
   ]
  },
  {
   "cell_type": "markdown",
   "id": "94c553b9-646c-4103-896c-e4e05d42385c",
   "metadata": {},
   "source": [
    "**Null Hypothesis**\n",
    "\n",
    "...\n",
    "\n",
    "\n",
    "**Alternative Hypothesis**\n",
    "\n",
    "...\n",
    "\n"
   ]
  },
  {
   "cell_type": "markdown",
   "id": "c7a0c014-8292-4fa6-9f8a-aa32dbb4cff1",
   "metadata": {},
   "source": [
    "### Test Statisic -- The difference in mean concentrations\n",
    "We start by calculating the actual difference in mean Nitrate-N concentrations above and below the wastewater treatment plant"
   ]
  },
  {
   "cell_type": "code",
   "execution_count": null,
   "id": "99bef3ff-2c8f-4148-8e93-1371447e5a08",
   "metadata": {},
   "outputs": [],
   "source": [
    "mean_N_upstream = ...\n",
    "mean_N_downstream = ...\n",
    "test_statistic = np.abs(mean_N_above - mean_N_below)\n",
    "test_statistic"
   ]
  },
  {
   "cell_type": "code",
   "execution_count": null,
   "id": "4e2caca2-e5eb-481b-b092-0c0c37c8b67a",
   "metadata": {},
   "outputs": [],
   "source": [
    "# Solution\n",
    "mean_N_upstream = np.mean(upstream_wwtp.column('NO3-N (mg/L)'))\n",
    "mean_N_downstream = np.mean(downstream_wwtp.column('NO3-N (mg/L)'))\n",
    "test_statistic_N = np.abs(mean_N_upstream - mean_N_downstream)\n",
    "test_statistic_N"
   ]
  },
  {
   "cell_type": "markdown",
   "id": "18a3d741-590e-40a3-b2ca-b6c4823918c0",
   "metadata": {},
   "source": [
    "### One simulation\n",
    "If the null hypothesis is true, it doesn't matter whether a sample is labeled upstream or downstream. So we extract the full array of N-nitrate values, shuffle the order, label the first nine values \"upstream\" and the rest \"downstream\" and compute the difference in means"
   ]
  },
  {
   "cell_type": "code",
   "execution_count": null,
   "id": "bcf81ab1-78b1-450f-bf39-86bce85711d5",
   "metadata": {},
   "outputs": [],
   "source": [
    "# Extract all of the N values\n",
    "N = pp.column('NO3-N (mg/L)')\n",
    "N"
   ]
  },
  {
   "cell_type": "code",
   "execution_count": null,
   "id": "c994ac4f-d3ec-4990-b87b-d4025e1b584f",
   "metadata": {},
   "outputs": [],
   "source": [
    "# Shuffle the array\n",
    "np.random.shuffle(N)\n",
    "N"
   ]
  },
  {
   "cell_type": "code",
   "execution_count": null,
   "id": "ca9d7af5-3e58-4148-99af-c95142ce96db",
   "metadata": {},
   "outputs": [],
   "source": [
    "# Calculate the difference in the means\n",
    "sim_statistic = np.abs(np.mean(N[:9]) - np.mean(N[9:]))\n",
    "sim_statistic"
   ]
  },
  {
   "cell_type": "markdown",
   "id": "43750e78-5653-4d9d-841f-96db2b544acd",
   "metadata": {},
   "source": [
    "### Full simulation\n",
    "For the full simulation, we repeatly shuffle, draw values, and compute \"upstream\" and \"downstream\" means to build up a distribution of the test statistic under the null hypothesis."
   ]
  },
  {
   "cell_type": "code",
   "execution_count": null,
   "id": "00dbb138-2e82-4eb6-81f3-cbb5031987a9",
   "metadata": {},
   "outputs": [],
   "source": [
    "sim_statistics = []\n",
    "num_simulations = 10_000\n",
    "for i in np.arange(num_simulations):\n",
    "    np.random.shuffle(N)\n",
    "    sim_statistic = ...\n",
    "    sim_statistics.append(sim_statistic)"
   ]
  },
  {
   "cell_type": "code",
   "execution_count": null,
   "id": "2fd2abe2-8c8b-4135-ac60-13d2b2c5d1d8",
   "metadata": {},
   "outputs": [],
   "source": [
    "# SOLUTION\n",
    "sim_statistics = []\n",
    "num_simulations = 10_000\n",
    "for i in np.arange(num_simulations):\n",
    "    np.random.shuffle(N)\n",
    "    sim_statistic = np.abs(np.mean(N[:9]) - np.mean(N[9:]))\n",
    "    sim_statistics.append(sim_statistic)"
   ]
  },
  {
   "cell_type": "code",
   "execution_count": null,
   "id": "9aa42e09-e415-4dd0-8d48-4ecdf58a4136",
   "metadata": {},
   "outputs": [],
   "source": [
    "plt.hist(sim_statistics)\n",
    "plt.xlim((0,5))\n",
    "plt.axvline(test_statistic_N, color='red', linestyle='--', linewidth=2, label='Test Statistic')\n",
    "plt.title(\"Simulated Mean Differences Under the Null Hypothesis\")\n",
    "plt.show()"
   ]
  },
  {
   "cell_type": "markdown",
   "id": "c8e86632-a6cd-48f8-b628-5ffd2d3582c9",
   "metadata": {},
   "source": [
    "<span style=\"color: blue;\">Calculate the p-value as the fraction of the simulations where the simulated test statistic is greater than or equal to the actual test statistic. </span>"
   ]
  },
  {
   "cell_type": "code",
   "execution_count": null,
   "id": "e452e170-67d7-45a9-9df4-7029f7a02544",
   "metadata": {},
   "outputs": [],
   "source": [
    "p = ..."
   ]
  },
  {
   "cell_type": "code",
   "execution_count": null,
   "id": "c03794bf-a9bf-4a7a-b076-ab52f9043cb4",
   "metadata": {},
   "outputs": [],
   "source": [
    "# SOLUTION\n",
    "p = np.count_nonzero(sim_statistics >= test_statistic_N) / num_simulations\n",
    "p"
   ]
  },
  {
   "cell_type": "markdown",
   "id": "cf124d84-5985-4fdd-b4c4-01bf3e136b33",
   "metadata": {},
   "source": [
    "<span style=\"color: blue;\">What is your conclusion?</span>"
   ]
  },
  {
   "cell_type": "markdown",
   "id": "f62e1c41-4621-481f-97b6-8d1be29e9010",
   "metadata": {},
   "source": [
    "Answer here ..."
   ]
  },
  {
   "cell_type": "markdown",
   "id": "18dd6969-b26e-4e6a-a4aa-78ef678e4e37",
   "metadata": {},
   "source": [
    "<span style=\"color: blue;\"> Perform a similar hypothesis test for mean sulfate concentrations above and below the treatment plant.</span>"
   ]
  },
  {
   "cell_type": "code",
   "execution_count": null,
   "id": "6e711ed8-8c87-4b1e-8c2b-f2f81a20562d",
   "metadata": {},
   "outputs": [],
   "source": [
    "test_statistic_S = ..."
   ]
  },
  {
   "cell_type": "code",
   "execution_count": null,
   "id": "c72ed8e6-ea38-42a5-9b58-5c83f9f90725",
   "metadata": {},
   "outputs": [],
   "source": [
    "# SOLUTION\n",
    "\n",
    "mean_S_upstream = np.mean(upstream_wwtp.column('SO4 (mg/L)'))\n",
    "mean_S_downstream = np.mean(downstream_wwtp.column('SO4 (mg/L)'))\n",
    "test_statistic_S = np.abs(mean_S_upstream - mean_S_downstream)\n",
    "\n",
    "S = pp.column('SO4 (mg/L)')\n",
    "\n",
    "sim_statistics = []\n",
    "num_simulations = 10_000\n",
    "for i in np.arange(num_simulations):\n",
    "    np.random.shuffle(S)\n",
    "    sim_statistic = np.abs(np.mean(S[:9]) - np.mean(S[9:]))\n",
    "    sim_statistics.append(sim_statistic)\n",
    "\n",
    "plt.hist(sim_statistics)\n",
    "plt.xlim((0,5))\n",
    "plt.axvline(test_statistic_S, color='red', linestyle='--', linewidth=2, label='Test Statistic')\n",
    "plt.title(\"Simulated Mean Differences Under the Null Hypothesis\")\n",
    "plt.show()\n",
    "\n",
    "p = np.count_nonzero(sim_statistics >= test_statistic_S) / num_simulations\n",
    "p"
   ]
  },
  {
   "cell_type": "markdown",
   "id": "54303e04-9dac-4173-818e-b7a17c1bc421",
   "metadata": {},
   "source": [
    "## Changes Over Time\n",
    "Everything you've looked at so far involved synoptic sampling -- samples collected all on the same day. Streams are dynamic, and while it isn't practical to sample dozens of locations hourly for days on end, it is possible to put out a nitrate logger that automatically records readings at regular intervals but only at one location at a time because Dr. Toran has only one nitrate logger -- they cost tens of thousands of dollars! Dr. Toran chose to deploy the nitrate logger just downstream of the water treatment plant to look at how concentrations varied over time. \n",
    "\n",
    "NOTE: Datascience datatables are not great for plotting time series data, so again we'll dip into pandas dataframes to read and plot these data. You can just observe; you are not expected to learn Pandas in this class."
   ]
  },
  {
   "cell_type": "code",
   "execution_count": null,
   "id": "a47d3010-6f1c-4e38-b308-5303c965ae5c",
   "metadata": {},
   "outputs": [],
   "source": [
    "import pandas as pd\n",
    "\n",
    "df = pd.read_csv('./data/WWTP_N.csv', usecols=[0, 1], skiprows=1, parse_dates=True)\n",
    "df = df.set_index(\"Date\")\n",
    "df.index = pd.to_datetime(df.index, format='%m/%d/%y %H:%M')\n",
    "df.head()"
   ]
  },
  {
   "cell_type": "markdown",
   "id": "bba1d63b-9fbe-4154-87b6-60dd337b4df6",
   "metadata": {},
   "source": [
    "Notice that the data is hourly."
   ]
  },
  {
   "cell_type": "code",
   "execution_count": null,
   "id": "3d4a4826-2218-4446-82e5-76f73ad97177",
   "metadata": {},
   "outputs": [],
   "source": [
    "df.plot(figsize=(15, 5));"
   ]
  },
  {
   "cell_type": "markdown",
   "id": "8d37d722-a614-4ea4-b30c-d30ff2551319",
   "metadata": {},
   "source": [
    "There is clearly a daily cycle."
   ]
  },
  {
   "cell_type": "markdown",
   "id": "c26b624d-bb7e-47a9-9ab9-6ab546388957",
   "metadata": {},
   "source": [
    "Let's zoom in on a day."
   ]
  },
  {
   "cell_type": "code",
   "execution_count": null,
   "id": "bf4d74d9-7598-4749-b42a-b79e6e6c8c1c",
   "metadata": {},
   "outputs": [],
   "source": [
    "# Plot one daily cycle from 3 AM to 3 AM on Wednesday 2015-04-29\n",
    "start = pd.to_datetime('2015-04-29 03:00:00')\n",
    "end = pd.to_datetime('2015-04-30 03:00:00')\n",
    "df.loc[start:end].plot()\n",
    "plt.show()"
   ]
  },
  {
   "cell_type": "markdown",
   "id": "3cf55f5f-9bb1-4edd-aa6f-b6d676f83ed3",
   "metadata": {},
   "source": [
    "<span style=\"color: blue;\">How would you interpret this daily trend?</span>\n",
    "\n",
    "Answer ..."
   ]
  },
  {
   "cell_type": "markdown",
   "id": "603b4907-38a1-4b66-8b46-c7a483fbc6e1",
   "metadata": {},
   "source": [
    "The plot above was for a weekday (Wednesday). Let's compare with a Saturday."
   ]
  },
  {
   "cell_type": "code",
   "execution_count": null,
   "id": "c552849a-ca74-4459-9e66-61e3de295cdd",
   "metadata": {},
   "outputs": [],
   "source": [
    "# Plot one daily cycle from 3 AM to 3 AM on Saturday 2015-05-02\n",
    "start = pd.to_datetime('2015-05-02 03:00:00')\n",
    "end = pd.to_datetime('2015-05-03 03:00:00')\n",
    "df.loc[start:end].plot()\n",
    "plt.show()"
   ]
  },
  {
   "cell_type": "markdown",
   "id": "77ab921f-db58-49d7-b675-00088bf9565d",
   "metadata": {},
   "source": [
    "<span style=\"color: blue;\">Do you see any difference in the timing of the increase in nitrate? If so, why?</span>"
   ]
  },
  {
   "cell_type": "markdown",
   "id": "97f14e30-1e64-4738-8ee7-eb172e49d04f",
   "metadata": {},
   "source": [
    "Answer here ..."
   ]
  },
  {
   "cell_type": "markdown",
   "id": "f9a04f83-50ce-495c-a2c1-08bd804bbc2e",
   "metadata": {},
   "source": [
    "## Reflection\n",
    "We've covered a lot of ground in this mini project take a moment to reflect on what you have learned.\n",
    "\n",
    "<span style=\"color: blue;\">Write a one or two paragraph summary. Discuss:</span>\n",
    "\n",
    "* How clean is Pennypack Creek?\n",
    "* What human activities impact this creek?\n",
    "* What ideas to you have for improving the water quality?\n",
    "* Include an idea for future work.\n",
    "\n"
   ]
  },
  {
   "cell_type": "markdown",
   "id": "da2058b5-bdf3-48f3-a2bc-06d502d56bce",
   "metadata": {},
   "source": [
    "Summary\n",
    "..."
   ]
  },
  {
   "cell_type": "markdown",
   "id": "71c7203e-7949-4e6c-ae36-8fea82c17af7",
   "metadata": {},
   "source": [
    "### <font color=blue> **Feedback** </font>\n",
    "\n",
    "Please include a reflection. \n",
    "* How did this mini-project go?\n",
    "* What was the most interesting or surprising thing you learned?\n",
    "* Was it difficult to write code without a template?\n",
    "* Did you seek help from any of the instructors or class assistants?\n",
    "* Were there questions using techniques you found especially challenging you would like your instructor to review in class? \n",
    "* How long did the project take you to complete?\n",
    "\n",
    "  \n",
    "Share your feedback so we can continue to improve this class!"
   ]
  },
  {
   "cell_type": "code",
   "execution_count": null,
   "id": "554ace49-9748-4ba5-b9cf-b3307aefde70",
   "metadata": {},
   "outputs": [],
   "source": []
  }
 ],
 "metadata": {
  "kernelspec": {
   "display_name": "Python 3 (ipykernel)",
   "language": "python",
   "name": "python3"
  },
  "language_info": {
   "codemirror_mode": {
    "name": "ipython",
    "version": 3
   },
   "file_extension": ".py",
   "mimetype": "text/x-python",
   "name": "python",
   "nbconvert_exporter": "python",
   "pygments_lexer": "ipython3",
   "version": "3.11.6"
  }
 },
 "nbformat": 4,
 "nbformat_minor": 5
}
