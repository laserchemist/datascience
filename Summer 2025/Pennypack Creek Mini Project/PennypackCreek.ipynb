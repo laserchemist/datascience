{
 "cells": [
  {
   "cell_type": "markdown",
   "id": "de105cd1-2071-4505-8f2c-9b150c0d78b5",
   "metadata": {},
   "source": [
    "# Mini-Project: Pennypack Creek Water Quality\n",
    "<font color='red'>**Read all of the instructions and background material carefully!** </font>"
   ]
  },
  {
   "cell_type": "markdown",
   "id": "647ec2bf-8ca7-482f-9e8f-d5ff240003fa",
   "metadata": {},
   "source": [
    "## Mini-Project Goals\n",
    "At the end of the semester, you'll engage in a group project where you'll choose a data set, analyze it, formulate and test a hypothesis, evaluate your results, and suggest future work. Think of this mini-project as a dry-run where you will be coached through this process. There will be none of the usual checks, but lots of hints and some (not all) of the code is provided. \n",
    "\n",
    "**Remember:** Proficiency in Python coding is a secondary goal of this course; the primary goal is to hone you skills in data analysis. That includes data interpretation and communication of your results. **How well you do on this assignment depends as much on what you write in the markdown cells as it does on your code.** Scientists must write!\n",
    "\n",
    "Read everything carefully, and <span style=\"color: blue;\">pay particular attention to instructions in blue. </span>\n",
    "\n",
    "## Data Analysis Steps\n",
    "While your approach may vary depending on the dataset, here are the typical fundamental steps:\n",
    "* Understanding the Data Context\n",
    "* Cleaning the data\n",
    "* Univariate Exploration\n",
    "* Correlation Analysis\n",
    "* Hypothesis Testing or Modeling\n",
    "* Interpreting the Results\n",
    "* Understanding the Limitations\n",
    "* Thinking About Future Work\n",
    "\n",
    "Together, we will work though all of this steps. Let's begin!"
   ]
  },
  {
   "cell_type": "markdown",
   "id": "0112aed7-d0a4-4f06-a0fc-4b0e1b47c42f",
   "metadata": {},
   "source": [
    "## Part1: Understanding the Data Context\n",
    "\n",
    "### Motivation\n",
    "Sir Isaac Newton, the famous scientist and mathematician, once said, “If I have seen further, it is by standing on the shoulders of giants.” Every scientific study builds on the work of others. You don't want to reinvent the wheel. You also need domain knowledge -- you wouldn't expect a biologist to analyze data from the Hubble telescope, or an astronomer to report on DNA sequencing. At least not without reading up on the topic. So before you begin exploring your data, you need to *read.* Scientific journal articles always begin with a literature review that discussed previous research and points the reader to related studies. The literature review puts the current paper in context.\n",
    "\n",
    "We'll begin the miniproject with some background information. You are encouraged to dig deeper on your own to explore any related resources. The less you know about a topic, the more background reading you need to do.\n",
    "\n",
    "### Background: Pennypack Creek Water Quality\n",
    "The data set you will be analyzing was provided by Dr. Laura Toran of Temple's Department of Earth and Environmental Science. Much of Dr. Toran's research has focused on how the urban environment affects the water quality of streams in Philadelphia and the surrounding suburbs. She has conducted this research with the help of numerous Temple graduate students, and undergraduate researchers like the ones in the photos below, all photographed while sampling Pennypack Creek.\n",
    "\n",
    "![Undergrad researcher sampling the Pennypack](./data/sampling_side_by_side.png)\n",
    "\n",
    "Pennypack Creek is a small stream that begins in the suburbs north of Phildelphia, flows through the northeast portion of the city and discharges into the Delaware River. The data set you will be working with is a \"synoptic sample.\" In environmental science, synoptic sampling refers to the process of collecting samples from different locations within a study area during a single, short time period—essentially taking a “snapshot” of conditions across space, rather than over time. So you will be looking at data from water samples all collected on the same day but at points spanning the length of the stream. Your goal will be to examine how the geochemistry of the stream varies from the headwaters to where it discharges to the Delaware.\n",
    "\n",
    "Many natural tributaries contribute to the flow of Pennypack Creek, but you will focus on a manmade source, a wastewater treatment plant run by the Upper Moreland Hatburo Joint Sewer Authority. You can read more about the plant [here.](https://www.umhjsa.org/about.html#:~:text=Recent%20plant%20upgrades,environmental%20compliance). The aerial image below shows the location of the treatment plant relative to the creek, and the photo shows the plant discharging into the Pennypack.\n",
    "\n",
    "![Treatment Plant](./data/wwtp_combined_side_by_side.png)"
   ]
  },
  {
   "cell_type": "markdown",
   "id": "6ac88592-a98d-4e95-9ca8-19a71e853eca",
   "metadata": {},
   "source": [
    "### Watch this video on waterwater treatment plants\n",
    "\n",
    "[Link to Wastewater Treatment video on YouTube](https://www.youtube.com/watch?v=FvPakzqM3h8)"
   ]
  },
  {
   "cell_type": "markdown",
   "id": "6c3ba7ce-b4a8-4512-84cc-f479f1a760a6",
   "metadata": {},
   "source": [
    "<span style=\"color: blue;\">Write a paragraph or two about what you found most interesting about this video. Also discuss what impact you think discharging treated wastewater might have on the Pennypack Creek data.</span>"
   ]
  },
  {
   "cell_type": "markdown",
   "id": "6ee27085-d271-49e6-ac4e-355ff1bb0131",
   "metadata": {},
   "source": [
    "Answer here ...\n"
   ]
  },
  {
   "cell_type": "markdown",
   "id": "6b0f8d5b-6f4f-498f-81ca-1988d0384142",
   "metadata": {},
   "source": [
    "### A First Look at the Data"
   ]
  },
  {
   "cell_type": "code",
   "execution_count": null,
   "id": "3ea1c7e5-bdcc-4efb-b806-c6f58c511242",
   "metadata": {},
   "outputs": [],
   "source": [
    "# Import the Python modules needed for the analysis\n",
    "import numpy as np\n",
    "from datascience import *\n",
    "%matplotlib inline\n",
    "import matplotlib.pyplot as plt\n",
    "plt.style.use('ggplot')\n",
    "import os\n",
    "user = os.getenv('JUPYTERHUB_USER')"
   ]
  },
  {
   "cell_type": "code",
   "execution_count": null,
   "id": "a5b726d4-1d13-4cd7-8834-62d51111001d",
   "metadata": {},
   "outputs": [],
   "source": [
    "# Load the dataset\n",
    "import pandas as pd\n",
    "pp = Table.read_table('data/Pennypack_anions_2022-03-22.csv')\n",
    "pp.show(9)"
   ]
  },
  {
   "cell_type": "markdown",
   "id": "67dbb37d-3c6a-405a-94c3-2be26fdfc0c6",
   "metadata": {},
   "source": [
    "### Metadata\n",
    "Metadata is data about the data. Here is a description of each of the columns:\n",
    "These samples were collect on March 22, 2022 by four teams of students along with Dr. Toran.\n",
    "* SiteCode: Simply an identifier. PP is short for Pennypack. PP1 is team 1, PP1 is team 2, etc., for the four teams, followed by the sample number. So PP2-3 would be the third sample collect by Team 2.\n",
    "* X_dec_deg: The x-location (longitude) of the sample collection point in decimal degrees.\n",
    "* Y_dec_deg: The y-location (latitude) of the sample collection point in decimal degrees.\n",
    "* km downstream: The distance along the stream of each collection point from the start of the stream.\n",
    "* Cl (mg/L): The measured chloride ion concentration in milligrams/liter.\n",
    "* NO3-N (mg/L): “NO3-N” specifically quantifies only the nitrogen portion of the nitrate molecule, not the entire mass of the nitrate ion.\n",
    "* SO4 (mg/L): Measured sulfate ion concentration.\n",
    "\n",
    "Note: Reporting as Nitrate-N means that nitrogen (atmomic weight = 14) is used for nitrate instead of NO3 (atomic weight = 62). Nitrogen can exist in several forms (nitrate, nitrite, ammonia, organic nitrogen), but nitrate is the main form discharged by the wastewater treatment plant.|"
   ]
  },
  {
   "cell_type": "markdown",
   "id": "03e0f91c-b704-4765-b7b0-e1de9cc94716",
   "metadata": {},
   "source": [
    "## Part1: Mapping the Data\n",
    "To further your understanding of the data, it helps to map the stream the sample collection points. To do this, we will load the data and create an interactive map -- something that can be done quite easilty with our datascience module.\n",
    "\n",
    "You are encouraged to review this section of the textbook: [8.5.2. Drawing Maps](https://inferentialthinking.com/chapters/08/5/Bike_Sharing_in_the_Bay_Area.html#852-drawing-maps)"
   ]
  },
  {
   "cell_type": "code",
   "execution_count": null,
   "id": "f0a54acf-3fa5-4835-8cee-240f0ff46e2e",
   "metadata": {},
   "outputs": [],
   "source": [
    "# Prepare to map the sample points\n",
    "# Note that the Circle function expects the datatable column with the labels to be named 'labels'\n",
    "# hence we create a new table with three columns.\n",
    "# Also note that Circle expects latitude (y) before longitude (x)\n",
    "map_data = pp.select('Y_dec_deg', 'X_dec_deg', 'SiteCode').relabel('SiteCode', 'labels')\n",
    "map_data.show(3)"
   ]
  },
  {
   "cell_type": "markdown",
   "id": "0737afe7-4528-428c-94c2-42dcf199a288",
   "metadata": {},
   "source": [
    "#### Stupid Historical Tradition: Why give latitude (y) before longitude (x)?\n",
    "Early mapmakers and navigators established the habit of listing latitude first. Latitude was easier to determine accurately (using the angle of the sun or stars above the horizon), so it became the primary coordinate for navigation. Longitude, which required precise timekeeping, was much harder to measure until the 18th century.\n",
    "\n",
    "International standards, such as those from the International Organization for Standardization (ISO), specify that coordinates should be written as (latitude, longitude). This is also the default in many global positioning systems (GPS) and mapping APIs."
   ]
  },
  {
   "cell_type": "markdown",
   "id": "e2fe69d2-95b4-496a-9aff-c228c4ecfacd",
   "metadata": {},
   "source": [
    "### Explore the map (you can easily zoom and pan, or click on a circle for the ID)"
   ]
  },
  {
   "cell_type": "code",
   "execution_count": null,
   "id": "d0cf2d7d-8ebc-4b45-b954-7799aaddf1c0",
   "metadata": {},
   "outputs": [],
   "source": [
    "# Map the data\n",
    "Circle.map_table(map_data, color='green')"
   ]
  },
  {
   "cell_type": "markdown",
   "id": "bf01ccfb-3088-4cb6-90fe-39294c75d38a",
   "metadata": {},
   "source": [
    "The map above uses OpenStreetMap as a background, but  you can also open a browser tab with Google Maps and turn on the satellite imagery to see what the stream looks like. For example, below is a screen capture of the headwaters of Pennypack Creek captured from the map above, and roughly the same area from Google Maps. The first sample was collected just downstream of the pond labeled the source of the Pennypack in the aerial image below.\n",
    "\n",
    "![map](data/side_by_side_headwaters.png)\n"
   ]
  },
  {
   "cell_type": "markdown",
   "id": "ed1b9bcb-44b6-411b-b9d1-fbd16f59d3cd",
   "metadata": {},
   "source": [
    "#### Some questions to answer based on  your map exploration include:\n",
    "<span style=\"color: blue;\">How many small tributaries do you see in the headwaters of the Pennypack Creek? Use the interactive map to zoom in on the headwaters.</span>"
   ]
  },
  {
   "cell_type": "markdown",
   "id": "14fa0ae8-8989-43e8-8983-348897ea02e4",
   "metadata": {},
   "source": [
    "**Answer in this cell:**<br>\n",
    "...\n"
   ]
  },
  {
   "cell_type": "markdown",
   "id": "1758a08b-1c25-4acb-965c-da9169199192",
   "metadata": {},
   "source": [
    "A riparian zone is the area of land directly adjacent to a body of flowing water, such as a river, stream, or creek. Streams are typically healthier if they have a large buffer of vegetation rather than flowing directly through developed areas. <br>\n",
    "\n",
    "<span style=\"color: blue;\"> Give a sample point ID for for a section of the Pennypack with a well-vegetated riparian zone and contrast this with one where the stream runs through a developed area.</span>"
   ]
  },
  {
   "cell_type": "markdown",
   "id": "d74ca63f-209c-412f-9c9b-aa68ec40417c",
   "metadata": {},
   "source": [
    "**Answer in this cell:**<br>\n",
    "..."
   ]
  },
  {
   "cell_type": "markdown",
   "id": "b4671402-b66e-4430-b429-79b11b526ccb",
   "metadata": {},
   "source": [
    "More data is often desirable.\n",
    "\n",
    "<span style=\"color: blue;\">If you could add one additional sample point, where would you add it and why? (There is no single right answer.)</span>"
   ]
  },
  {
   "cell_type": "markdown",
   "id": "4923ae5e-e692-44a8-a59f-96eb0e0d811b",
   "metadata": {},
   "source": [
    "**Answer in this cell:**<br>\n",
    "..."
   ]
  },
  {
   "cell_type": "markdown",
   "id": "1df4f200-ccdb-4a1c-ad9d-17a22582b9cc",
   "metadata": {},
   "source": [
    "## Part 2: Cleaning the Data\n",
    "***Write code to answer these questions:***"
   ]
  },
  {
   "cell_type": "markdown",
   "id": "af53c844-4d67-4bcc-8113-2fd93c2d5b1c",
   "metadata": {},
   "source": [
    "<span style=\"color: blue;\">\n",
    "How many sample points are there? (hint: num_rows)<br>\n",
    "</span>"
   ]
  },
  {
   "cell_type": "code",
   "execution_count": null,
   "id": "15c6f3ba-1ab6-4d2f-bd59-a5b5f97537dd",
   "metadata": {},
   "outputs": [],
   "source": []
  },
  {
   "cell_type": "code",
   "execution_count": null,
   "id": "6929c113-0ca8-495f-a7a1-b5b4188c76ce",
   "metadata": {},
   "outputs": [],
   "source": [
    "#SOLUTION\n",
    "print(f\"The number of data points is: {data.num_rows}\")"
   ]
  },
  {
   "cell_type": "markdown",
   "id": "4c619609-737f-42a6-a5d1-890395cdd0da",
   "metadata": {},
   "source": [
    "**What are the data types?**<br>\n",
    "This is tricky, so the code is provided."
   ]
  },
  {
   "cell_type": "code",
   "execution_count": null,
   "id": "519c1c51-a45e-4689-893e-ab23f2fbe1c3",
   "metadata": {},
   "outputs": [],
   "source": [
    "for col in pp.labels:\n",
    "    print(f\"The data type of {col} is {type(data.column(col)[0])}\")"
   ]
  },
  {
   "cell_type": "markdown",
   "id": "65b4777d-3e51-4c5e-8417-38ac53cda233",
   "metadata": {},
   "source": [
    "<span style=\"color: blue;\">How does the code above work?</span><br> Answer in this cell:<br>\n",
    "..."
   ]
  },
  {
   "cell_type": "markdown",
   "id": "e6666528-fa2e-4695-bcb4-af4e2a4627f4",
   "metadata": {},
   "source": [
    "<span style=\"color: blue;\">Are there any missing values?</span>\n",
    "\n",
    "It is common for datasets to have missing values, so ALWAYS check. Unfortunately, datatables do not have any builtin methods for doing this. Pandas \"dataframes (something you will learn to use if you continue in Python datascience are much more powerful, but they area also complex. Data tables provide an easy way to convert a datatable to a dataframe and back again. ***Watch how it is done and remember this trick for later.***\n",
    "\n"
   ]
  },
  {
   "cell_type": "code",
   "execution_count": null,
   "id": "11841bfc-3e40-42e3-b9c6-9ff5488bd585",
   "metadata": {},
   "outputs": [],
   "source": [
    "# Convert a datatable to a dataframe\n",
    "df = pp.to_df()\n",
    "df"
   ]
  },
  {
   "cell_type": "code",
   "execution_count": null,
   "id": "e3ecd52b-57de-4294-9b0d-cd99fb81c3c9",
   "metadata": {},
   "outputs": [],
   "source": [
    "print(df.isnull().sum())"
   ]
  },
  {
   "cell_type": "markdown",
   "id": "4c1d6132-1c86-418b-ab28-9b741aef188d",
   "metadata": {},
   "source": [
    "<span style=\"color: blue;\">Are there any missing values?</span>\n",
    "\n",
    "Answer here  ...."
   ]
  },
  {
   "cell_type": "markdown",
   "id": "6791a9a3-0cd7-4051-9aaa-16cb75a2f26f",
   "metadata": {},
   "source": [
    "We checked and found one sample point with no date. We then created a new datatable, pp, with no missing value."
   ]
  },
  {
   "cell_type": "markdown",
   "id": "ffe97b61-14c6-4eca-aa08-436316907caf",
   "metadata": {},
   "source": [
    "## Part 3: Univariate Exploration\n",
    "\"Univariate\" means one variable. We have three anions of interest: Cl, Nitrate-N, and SO4. In this section we will explore them one at a time. Later we will look at them in combination (\"multivariate\").\n",
    "\n",
    "But first, lets provide some more background.\n",
    "\n",
    "**Cl is chloride:** typically a measure of the salinity (NaCl) of the water. In urban streams, elevated salinity is mainly caused by road salt runoff and wastewater. The concentration is reported in mg/L (milligrams per liter). A liter of water has a mass of 1,000 grams, and a milligram is one thousandth of a gram, so 1 mg/L is equivalent 1 part in a million or 1 ppm. While not usually a health risk at the current concentrations, water that is too salty it is bad for aquatic life and tastes lousy. **The EPA drinking water standard for chloride is 250 mg/L.**\n",
    "\n",
    "**Nitrate-N:** When you see “Nitrate-N” (or “NO₃-N”) in water quality data, it means the concentration is reported as the mass of nitrogen (N) contained within the nitrate ion, rather than the total mass of the nitrate molecule. Reporting as Nitrate-N allows for direct comparison between different forms of nitrogen (like nitrate, nitrite, or ammonia), since all are expressed as the mass of nitrogen. This is important for regulatory standards and health guidelines, which are typically based on the nitrogen content, not the full molecule. **[Drinking water standards](https://www.epa.gov/sdwa/drinking-water-regulations-and-contaminants) (such as the EPA’s 10 mg/L limit for nitrate-N for adults and 5 mg/L for children) are based on the nitrogen portion, making it easier to compare risks from different nitrogen compounds.⁠ High nitrate level are a particular problem for infants, causing \"Blue Baby Syndrome\" as it can interfere with the blood's ability to carry oxygen.**\n",
    "\n",
    "**SO4:** is sulfate. It can occur naturally from rock weathering and decay of organic matter, or through human actions such as fertilizer runoff, acid rain, weathering of concrete, and municipal wastewater from sewage treatment plants. Apart from creating an unpleasant taste, really high levels of sulfate (>500 mg/L) can cause diarrhea and other digestive issues. **The EPA drinking water standard for sulfate is 250 mg/L.**"
   ]
  },
  {
   "cell_type": "markdown",
   "id": "2fe34c4c-093b-46c3-9970-88e3ee6309bc",
   "metadata": {},
   "source": [
    "### The five number summary\n",
    "We begin our univariate data exloration by creating a function that will give us a five number summary for any numeric column in a table. "
   ]
  },
  {
   "cell_type": "code",
   "execution_count": null,
   "id": "9406e49e-1866-4148-a3ff-3dc37a74d401",
   "metadata": {},
   "outputs": [],
   "source": [
    "def five_num_table(table, column):\n",
    "    array = table.column(column)\n",
    "    summary = Table().with_columns(\n",
    "        \"Statistic\", [\"Min\", \"Max\", \"Mean\", \"Median\", \"Std\"],\n",
    "        \"Value\", [\n",
    "            np.min(array),\n",
    "            np.max(array),\n",
    "            np.mean(array),\n",
    "            np.median(array),\n",
    "            round(np.std(array), 2)\n",
    "        ]\n",
    "    )\n",
    "    return summary"
   ]
  },
  {
   "cell_type": "markdown",
   "id": "a33177de-c54d-4447-aef4-e246b53e5088",
   "metadata": {},
   "source": [
    "Let's apply the function to chloride."
   ]
  },
  {
   "cell_type": "markdown",
   "id": "80efcf6a-3a45-47eb-812c-6842ab16fd6c",
   "metadata": {},
   "source": [
    "### Chloride"
   ]
  },
  {
   "cell_type": "code",
   "execution_count": null,
   "id": "c90a829b-54fd-47a2-8a88-e8920a44e2b3",
   "metadata": {},
   "outputs": [],
   "source": [
    "five_num_table(pp, 'Cl (mg/L)')"
   ]
  },
  {
   "cell_type": "markdown",
   "id": "5657f8eb-38c9-4a5a-8e5f-fb3d8010e683",
   "metadata": {},
   "source": [
    "The mean and median give us an idea of how the data are centered. The max and min give us the range of values. The standard deviation tells us how tightly the values are clustered around the mean.\n",
    "\n",
    "To visualize the distribution, we make a histogram. Be sure to compare the numbers in the five_num_table with the histogram below."
   ]
  },
  {
   "cell_type": "code",
   "execution_count": null,
   "id": "9b6d6531-b88f-4446-ae44-4cc353295a76",
   "metadata": {},
   "outputs": [],
   "source": [
    "pp.hist('Cl (mg/L)')"
   ]
  },
  {
   "cell_type": "markdown",
   "id": "a32213b3-9dae-4f0f-b3a4-0a67859a352d",
   "metadata": {},
   "source": [
    "Do a little research.\n",
    "\n",
    "<span style=\"color: blue;\"> \n",
    "    \n",
    "* What are typical chloride levels in pristine streams? \n",
    "* How does the Pennypack Creek compare?\n",
    "* Do any of the chloride values exceed the drinking water standard?\n",
    "  \n",
    "</span>"
   ]
  },
  {
   "cell_type": "markdown",
   "id": "2eb93411-4cc0-45f9-9155-498e8f0dc6bb",
   "metadata": {},
   "source": [
    "**Answer in this cell:**<br>\n",
    "..."
   ]
  },
  {
   "cell_type": "markdown",
   "id": "9745e56d-fa30-41e0-8748-7db131dac6e4",
   "metadata": {},
   "source": [
    "<span style=\"color: blue;\">Any outliers?</span><br>\n",
    "While you are conducting your univariate analysis you should check for any outliers. An outlier could be real, or it could be the result of an error in measurement or in recording the data. Either way, outliers deserve attention. What is an outlier is somewhat subjective, but points that are  more than two standard deviations away are worth a second look, and points that are three or more standard deviations from the mean are certainly outliers.\n",
    "\n",
    "In the case of chloride, how many standard deviations away from the mean are the maximum and minimum concentrations? <span style=\"color: blue;\">Create code to calculate this using the values from the five-number summary.</span>"
   ]
  },
  {
   "cell_type": "code",
   "execution_count": null,
   "id": "aaff157a-106c-4fd5-999c-4ed55525ae66",
   "metadata": {},
   "outputs": [],
   "source": []
  },
  {
   "cell_type": "markdown",
   "id": "5baabe7a-9d08-4ac9-90dc-ed4b66906749",
   "metadata": {},
   "source": [
    "<span style=\"color: blue;\">Are there any chloride values you would label as outliers?</span> <br>\n",
    "...."
   ]
  },
  {
   "cell_type": "code",
   "execution_count": 108,
   "id": "1f465655-6ff8-4751-aad7-9db942488d7b",
   "metadata": {},
   "outputs": [
    {
     "name": "stdout",
     "output_type": "stream",
     "text": [
      "The maximum chloride value is 1.9795918367346939 standard deviations above the mean.\n",
      "The minimum chloride value is 2.673469387755102 standard deviations below the mean.\n"
     ]
    }
   ],
   "source": [
    "# Solution\n",
    "mean_val = 184\n",
    "max_val = 281\n",
    "min_val = 53\n",
    "std = 49\n",
    "print(f\"The maximum chloride value is {(max_val - mean_val) / std} standard deviations above the mean.\")\n",
    "print(f\"The minimum chloride value is {(mean_val - min_val) / std} standard deviations below the mean.\")"
   ]
  },
  {
   "cell_type": "markdown",
   "id": "d18d2136-ea50-4ee8-af29-604192c79c89",
   "metadata": {},
   "source": [
    "<span style=\"color: blue;\">Now create both a five-number summary and a histogram for nitrogen and sulfate and comment on your results in each case. Add code and markdown cells as needed."
   ]
  },
  {
   "cell_type": "markdown",
   "id": "c65d2b4d-0bd1-4872-a3a7-3e6b3c6352ef",
   "metadata": {},
   "source": [
    "### Nitrogen"
   ]
  },
  {
   "cell_type": "code",
   "execution_count": null,
   "id": "4408120c-be1c-4911-a8eb-eed7b99f6e40",
   "metadata": {},
   "outputs": [],
   "source": []
  },
  {
   "cell_type": "code",
   "execution_count": null,
   "id": "2ceb3991-8ab6-4903-8efc-3a7bb7b2b03c",
   "metadata": {},
   "outputs": [],
   "source": []
  },
  {
   "cell_type": "markdown",
   "id": "59099a16-ecd0-4a8b-8f68-658f581b3e23",
   "metadata": {},
   "source": [
    "### Sulfate"
   ]
  },
  {
   "cell_type": "code",
   "execution_count": null,
   "id": "62dfbb86-262d-450e-9334-3a368593bcea",
   "metadata": {},
   "outputs": [],
   "source": []
  },
  {
   "cell_type": "code",
   "execution_count": null,
   "id": "432dd71e-9b6a-4a29-af94-f2b4d39d3b4f",
   "metadata": {},
   "outputs": [],
   "source": []
  },
  {
   "cell_type": "markdown",
   "id": "ad27ae43-048d-47ff-84c3-6e797695cedd",
   "metadata": {},
   "source": [
    "## Part 4: Multivariate Analysis\n",
    "We've looked at one variable at a time. Now it is time to look at combinations. \n",
    "\n",
    "### Changes from headwaters to outflow?\n",
    "The first, and most important, variable to add is distance along the stream. After all, the whole point of synoptic sampling is to snapshot the spatial variation of stream geochemistry at an instant in time. Up to this point, you've been looking at the distribution of the data independent of stream location, but one would expect changing values as the water flows from its headwaters to where it finally discharges into the Delaware river."
   ]
  },
  {
   "cell_type": "code",
   "execution_count": null,
   "id": "6fa52b43-e518-491d-b2a5-6b8b1644320e",
   "metadata": {},
   "outputs": [],
   "source": [
    "# Scatterplot of Cl vs. distance downstream\n",
    "plt.figure(figsize=(10,5))\n",
    "pp.scatter('km downstream', 'Cl (mg/L)', width=12, height=5)\n",
    "plt.title('Chloride Concentration With Distance from Headwaters')"
   ]
  },
  {
   "cell_type": "markdown",
   "id": "b61e7b1c-811e-4d3b-b874-446269c262a0",
   "metadata": {},
   "source": [
    "**Interesting!** Clearly, the chloride concentration changes, with the lowest value in the headwaters, a gradual increase with a surge at PP1-9, at around 7.4 km, and then it falls at around 13 km and stabilizes over the last 10 km.\n",
    "\n",
    "Let's repeat the plot but add a vertical line where the wastewater treatment plant discharges into the creek, just downstream of point PP1-9 at about 7.5 km from the headwaters. "
   ]
  },
  {
   "cell_type": "code",
   "execution_count": null,
   "id": "18aef8c8-a865-441c-aa7b-fcb4b5fad01b",
   "metadata": {},
   "outputs": [],
   "source": [
    "# Scatterplot of Cl vs. distance downstream\n",
    "plt.figure(figsize=(10,5))\n",
    "pp.scatter('km downstream', 'Cl (mg/L)', width=12, height=5)\n",
    "plt.axvline(7.5)\n",
    "plt.title('Chloride Concentration With Distance from Headwaters')"
   ]
  },
  {
   "cell_type": "markdown",
   "id": "89b0bb51-eb9d-4166-800a-94c792ad3d4c",
   "metadata": {},
   "source": [
    "Clearly the chloride concentration increases steadily from the source, seems to spike just upstream of the treatment plant. While this treatment plant does contribute chloride, the main source to streams in northern US cities is roadsalt runoff.\n",
    "\n",
    "<span style=\"color: blue;\">Look at the interactive map again to see if you can identify the probable chloride source.</span>"
   ]
  },
  {
   "cell_type": "markdown",
   "id": "1fca10d4-7395-411b-805a-02011646c533",
   "metadata": {},
   "source": [
    "Answer here ..."
   ]
  },
  {
   "cell_type": "markdown",
   "id": "b851f9ca-95bf-46c5-83de-0d1790e4edd5",
   "metadata": {},
   "source": [
    "<span style=\"color: blue;\">Make a similar plot for both nitrogen and sulfate.|</span>"
   ]
  },
  {
   "cell_type": "code",
   "execution_count": null,
   "id": "b34f7747-3bce-4424-a0cb-486b0a808948",
   "metadata": {},
   "outputs": [],
   "source": []
  },
  {
   "cell_type": "code",
   "execution_count": null,
   "id": "634c20de-1609-4c7f-b7fc-959b935a782f",
   "metadata": {},
   "outputs": [],
   "source": [
    "# SOLUTION\n",
    "# Scatterplot of NO3 vs. distance downstream\n",
    "plt.figure(figsize=(10,5))\n",
    "data.scatter('km downstream', 'NO3-N (mg/L)', width=12, height=5)\n",
    "plt.axvline(7.5)\n",
    "plt.title('Nitrogen Concentration With Distance from Headwaters')"
   ]
  },
  {
   "cell_type": "code",
   "execution_count": null,
   "id": "bece3692-667d-416d-881e-d512319a7066",
   "metadata": {},
   "outputs": [],
   "source": [
    "#SOLUTION\n",
    "# Scatterplot of Cl vs. distance downstream\n",
    "plt.figure(figsize=(10,5))\n",
    "data.scatter('km downstream', 'SO4 (mg/L)', width=12, height=5)\n",
    "plt.axvline(7.5)\n",
    "plt.title('Sulfate Concentration With Distance from Headwaters')"
   ]
  },
  {
   "cell_type": "markdown",
   "id": "4a489094-01d2-4997-b6a0-e977b84e8343",
   "metadata": {},
   "source": [
    "Compare and contrast the three plots of anion concentrations along the stream.\n",
    "\n",
    "<span style=\"color: blue;\">\n",
    "    \n",
    "* Which anions do you think are most affected by the treatment plant?\n",
    "* Does this make sense given the nature of treated wastewater (do a some research).\n",
    "* What additional data might you collect to test your conclusions?\n",
    "\n",
    "</span>"
   ]
  },
  {
   "cell_type": "markdown",
   "id": "778a2e51-a764-4535-887e-11cb2d07f764",
   "metadata": {},
   "source": [
    "Essay answer\n",
    "..."
   ]
  },
  {
   "cell_type": "markdown",
   "id": "163acbb3-ec1a-4da2-89fa-96c7be727724",
   "metadata": {},
   "source": [
    "## Correlation Analysis\n",
    "Let's examine how the different anions compare with each other. When the concentration of one increases, does the concentration of the other also increase (positive correlation)? Or does one decrease when the other increases (negative correlation)? Or maybe there is no relationship (no correlation)."
   ]
  },
  {
   "cell_type": "code",
   "execution_count": null,
   "id": "7528c799-7309-4a77-93ed-a344d5a6bed5",
   "metadata": {},
   "outputs": [],
   "source": [
    "# Scatterplot of Cl vs. N\n",
    "plt.figure(figsize=(10,5))\n",
    "data.scatter('Cl (mg/L)', 'NO3-N (mg/L)', width=5, height=5)"
   ]
  },
  {
   "cell_type": "markdown",
   "id": "c0b7c88c-e4d7-4f4f-bc6f-8daac415de8b",
   "metadata": {},
   "source": [
    "What do we see? While there is clearly a positive correlation, it is by no means perfect. Rather there appears to be three clusters. **Could these clusters be related to the sample locations along the stream?**\n",
    "\n",
    "How can we figure this out? Since the points are in order, we can split the data at any point and plot the upstream points in one color and the downstream points in another."
   ]
  },
  {
   "cell_type": "code",
   "execution_count": null,
   "id": "299bef6f-1b48-476d-84fb-861b65b87266",
   "metadata": {},
   "outputs": [],
   "source": [
    "# Divide data into upstream and downstream of the wastewater treatment plant (WWTP).\n",
    "upstream_wwtp = pp.where(\"km downstream\", are.below(8))\n",
    "downstream_wwtp = pp.where(\"km downstream\", are.above_or_equal_to(8))\n",
    "\n",
    "# We have to use matplotlib directly to put both on the same plot\n",
    "# To do this we must extract the x and y arrays from the tables\n",
    "xcol = 'Cl (mg/L)'\n",
    "ycol = 'NO3-N (mg/L)'\n",
    "plt.figure(figsize=(6, 6))\n",
    "plt.scatter(upstream_wwtp.column(xcol), upstream_wwtp.column(ycol), label = 'upstream')\n",
    "plt.scatter(downstream_wwtp.column(xcol), downstream_wwtp.column(ycol), label = 'downstream')\n",
    "plt.xlabel(xcol)\n",
    "plt.ylabel(ycol)\n",
    "plt.title(f\"{xcol} vs {ycol}\")\n",
    "plt.legend();"
   ]
  },
  {
   "cell_type": "markdown",
   "id": "e63fd12f-b717-40df-85c7-4e7987e7bad5",
   "metadata": {},
   "source": [
    "<span style=\"color: blue;\">Make similar plots for the other two combinations:</span>\n",
    "* CL vs SO4\n",
    "* N vs SO4"
   ]
  },
  {
   "cell_type": "code",
   "execution_count": null,
   "id": "4d735ad2-b2a4-40c7-beb5-56efb8ef3cf1",
   "metadata": {},
   "outputs": [],
   "source": [
    "# SOLUTION\n",
    "xcol = 'Cl (mg/L)'\n",
    "ycol = 'SO4 (mg/L)'\n",
    "plt.figure(figsize=(6, 6))\n",
    "plt.scatter(upstream_wwtp.column(xcol), upstream_wwtp.column(ycol), label = 'upstream')\n",
    "plt.scatter(downstream_wwtp.column(xcol), downstream_wwtp.column(ycol), label = 'downstream')\n",
    "plt.xlabel(xcol)\n",
    "plt.ylabel(ycol)\n",
    "plt.title(f\"{xcol} vs {ycol}\")\n",
    "plt.legend();"
   ]
  },
  {
   "cell_type": "code",
   "execution_count": null,
   "id": "13cd5e03-f653-4329-9cdc-34e12f7b3296",
   "metadata": {},
   "outputs": [],
   "source": [
    "# SOLUTION\n",
    "xcol = 'NO3-N (mg/L)'\n",
    "ycol = 'SO4 (mg/L)'\n",
    "plt.figure(figsize=(6, 6))\n",
    "plt.scatter(upstream_wwtp.column(xcol), upstream_wwtp.column(ycol), label = 'upstream')\n",
    "plt.scatter(downstream_wwtp.column(xcol), downstream_wwtp.column(ycol), label = 'downstream')\n",
    "plt.xlabel(xcol)\n",
    "plt.ylabel(ycol)\n",
    "plt.title(f\"{xcol} vs {ycol}\")\n",
    "plt.legend();"
   ]
  },
  {
   "cell_type": "markdown",
   "id": "c25e1d49-2f05-4447-af43-6368390b78a9",
   "metadata": {},
   "source": [
    "<span style=\"color: blue;\">\n",
    "    \n",
    "* What inferences do you draw from these three correleation plots? \n",
    "* Do you think you could use the concentration of one anion to predict another? \n",
    "* How about if you fit the data separately upstream and downstream of the wastewater treatment plant?</span><br>\n",
    "Answer here..."
   ]
  },
  {
   "cell_type": "markdown",
   "id": "843d1d37-1dd2-43fc-b7a2-3620f432036c",
   "metadata": {},
   "source": [
    "## Part 5: Hypothesis Testing: Nitrate and the WWTP\n",
    "\n",
    "Going into this study, Dr. Toran hypothesized that the wastewater treatment plant would be a major source of nitrogen. Although as you saw in the video, treatment of seweage includes the breakdown of compounds by bacteria, 10 mg/L total nitrogen is a common standard for wastewater treatment plant discharge in the U.S., which is greater that the concentrations measured Pennypack Creek, but we would expect the treatment plant discharge to be diluted by the creek waters.\n",
    "\n",
    "**The statistical question is whether or not there is a real difference in the mean concentration of Nitrate-N above and below the treatment plant.**\n",
    "\n",
    "<span style=\"color: blue;\">State the null hypothesis and the alternative hypothesis.</span>"
   ]
  },
  {
   "cell_type": "markdown",
   "id": "94c553b9-646c-4103-896c-e4e05d42385c",
   "metadata": {},
   "source": [
    "**Null Hypothesis**\n",
    "\n",
    "...\n",
    "\n",
    "\n",
    "**Alternative Hypothesis**\n",
    "\n",
    "...\n",
    "\n"
   ]
  },
  {
   "cell_type": "markdown",
   "id": "c7a0c014-8292-4fa6-9f8a-aa32dbb4cff1",
   "metadata": {},
   "source": [
    "### Test Statisic -- The difference in mean concentrations\n",
    "We start by calculating the actual difference in mean Nitrate-N concentrations above and below the wastewater treatment plant"
   ]
  },
  {
   "cell_type": "code",
   "execution_count": null,
   "id": "99bef3ff-2c8f-4148-8e93-1371447e5a08",
   "metadata": {},
   "outputs": [],
   "source": [
    "mean_N_upstream = ...\n",
    "mean_N_downstream = ...\n",
    "test_statistic = np.abs(mean_N_above - mean_N_below)\n",
    "test_statistic"
   ]
  },
  {
   "cell_type": "code",
   "execution_count": null,
   "id": "4e2caca2-e5eb-481b-b092-0c0c37c8b67a",
   "metadata": {},
   "outputs": [],
   "source": [
    "# Solution\n",
    "mean_N_upstream = np.mean(upstream_wwtp.column('NO3-N (mg/L)'))\n",
    "mean_N_downstream = np.mean(downstream_wwtp.column('NO3-N (mg/L)'))\n",
    "test_statistic_N = np.abs(mean_N_upstream - mean_N_downstream)\n",
    "test_statistic_N"
   ]
  },
  {
   "cell_type": "markdown",
   "id": "18a3d741-590e-40a3-b2ca-b6c4823918c0",
   "metadata": {},
   "source": [
    "### One simulation\n",
    "If the null hypothesis is true, it doesn't matter whether a sample is labeled upstream or downstream. So we extract the full array of N-nitrate values, shuffle the order, label the first nine values \"upstream\" and the rest \"downstream\" and compute the difference in means"
   ]
  },
  {
   "cell_type": "code",
   "execution_count": null,
   "id": "bcf81ab1-78b1-450f-bf39-86bce85711d5",
   "metadata": {},
   "outputs": [],
   "source": [
    "# Extract all of the N values\n",
    "N = pp.column('NO3-N (mg/L)')\n",
    "N"
   ]
  },
  {
   "cell_type": "code",
   "execution_count": null,
   "id": "c994ac4f-d3ec-4990-b87b-d4025e1b584f",
   "metadata": {},
   "outputs": [],
   "source": [
    "# Shuffle the array\n",
    "np.random.shuffle(N)\n",
    "N"
   ]
  },
  {
   "cell_type": "code",
   "execution_count": null,
   "id": "ca9d7af5-3e58-4148-99af-c95142ce96db",
   "metadata": {},
   "outputs": [],
   "source": [
    "# Calculate the difference in the means\n",
    "sim_statistic = np.abs(np.mean(N[:9]) - np.mean(N[9:]))\n",
    "sim_statistic"
   ]
  },
  {
   "cell_type": "markdown",
   "id": "43750e78-5653-4d9d-841f-96db2b544acd",
   "metadata": {},
   "source": [
    "### Full simulation\n",
    "For the full simulation, we repeatly shuffle, draw values, and compute \"upstream\" and \"downstream\" means to build up a distribution of the test statistic under the null hypothesis."
   ]
  },
  {
   "cell_type": "code",
   "execution_count": null,
   "id": "00dbb138-2e82-4eb6-81f3-cbb5031987a9",
   "metadata": {},
   "outputs": [],
   "source": [
    "sim_statistics = []\n",
    "num_simulations = 10_000\n",
    "for i in np.arange(num_simulations):\n",
    "    np.random.shuffle(N)\n",
    "    sim_statistic = ...\n",
    "    sim_statistics.append(sim_statistic)"
   ]
  },
  {
   "cell_type": "code",
   "execution_count": null,
   "id": "2fd2abe2-8c8b-4135-ac60-13d2b2c5d1d8",
   "metadata": {},
   "outputs": [],
   "source": [
    "# SOLUTION\n",
    "sim_statistics = []\n",
    "num_simulations = 10_000\n",
    "for i in np.arange(num_simulations):\n",
    "    np.random.shuffle(N)\n",
    "    sim_statistic = np.abs(np.mean(N[:9]) - np.mean(N[9:]))\n",
    "    sim_statistics.append(sim_statistic)"
   ]
  },
  {
   "cell_type": "code",
   "execution_count": null,
   "id": "9aa42e09-e415-4dd0-8d48-4ecdf58a4136",
   "metadata": {},
   "outputs": [],
   "source": [
    "plt.hist(sim_statistics)\n",
    "plt.xlim((0,5))\n",
    "plt.axvline(test_statistic_N, color='red', linestyle='--', linewidth=2, label='Test Statistic')\n",
    "plt.title(\"Simulated Mean Differences Under the Null Hypothesis\")\n",
    "plt.show()"
   ]
  },
  {
   "cell_type": "markdown",
   "id": "c8e86632-a6cd-48f8-b628-5ffd2d3582c9",
   "metadata": {},
   "source": [
    "<span style=\"color: blue;\">Calculate the p-value as the fraction of the simulations where the simulated test statistic is greater than or equal to the actual test statistic. </span>"
   ]
  },
  {
   "cell_type": "code",
   "execution_count": null,
   "id": "e452e170-67d7-45a9-9df4-7029f7a02544",
   "metadata": {},
   "outputs": [],
   "source": [
    "p = ..."
   ]
  },
  {
   "cell_type": "code",
   "execution_count": null,
   "id": "c03794bf-a9bf-4a7a-b076-ab52f9043cb4",
   "metadata": {},
   "outputs": [],
   "source": [
    "# SOLUTION\n",
    "p = np.count_nonzero(sim_statistics >= test_statistic) / num_simulations\n",
    "p"
   ]
  },
  {
   "cell_type": "markdown",
   "id": "cf124d84-5985-4fdd-b4c4-01bf3e136b33",
   "metadata": {},
   "source": [
    "<span style=\"color: blue;\">What is your conclusion?</span>"
   ]
  },
  {
   "cell_type": "markdown",
   "id": "f62e1c41-4621-481f-97b6-8d1be29e9010",
   "metadata": {},
   "source": [
    "Answer here ..."
   ]
  },
  {
   "cell_type": "markdown",
   "id": "18dd6969-b26e-4e6a-a4aa-78ef678e4e37",
   "metadata": {},
   "source": [
    "<span style=\"color: blue;\"> Perform a similar hypothesis test for mean sulfate concentrations above and below the treatment plant.</span>"
   ]
  },
  {
   "cell_type": "code",
   "execution_count": null,
   "id": "6e711ed8-8c87-4b1e-8c2b-f2f81a20562d",
   "metadata": {},
   "outputs": [],
   "source": [
    "test_statistic"
   ]
  },
  {
   "cell_type": "code",
   "execution_count": null,
   "id": "c72ed8e6-ea38-42a5-9b58-5c83f9f90725",
   "metadata": {},
   "outputs": [],
   "source": [
    "# SOLUTION\n",
    "\n",
    "mean_S_upstream = np.mean(upstream_wwtp.column('SO4 (mg/L)'))\n",
    "mean_S_downstream = np.mean(downstream_wwtp.column('SO4 (mg/L)'))\n",
    "test_statistic_S = np.abs(mean_S_upstream - mean_S_downstream)\n",
    "\n",
    "S = pp.column('SO4 (mg/L)')\n",
    "\n",
    "sSim_statistics = []\n",
    "num_simulations = 10_000\n",
    "for i in np.arange(num_simulations):\n",
    "    np.random.shuffle(S)\n",
    "    sim_statistic = np.abs(np.mean(S[:9]) - np.mean(S[9:]))\n",
    "    sim_statistics.append(sim_statistic)\n",
    "\n",
    "plt.hist(sim_statistics)\n",
    "plt.xlim((0,5))\n",
    "plt.axvline(test_statistic_S, color='red', linestyle='--', linewidth=2, label='Test Statistic')\n",
    "plt.title(\"Simulated Mean Differences Under the Null Hypothesis\")\n",
    "plt.show()\n",
    "\n",
    "p = np.count_nonzero(sim_statistics >= test_statistic) / num_simulations\n",
    "p"
   ]
  },
  {
   "cell_type": "markdown",
   "id": "54303e04-9dac-4173-818e-b7a17c1bc421",
   "metadata": {},
   "source": [
    "## Changes Over Time\n",
    "Everything you've looked at so far involved synoptic sampling -- samples collected all on the same day. Streams are dynamic, and while it isn't practical to sample dozens of locations hourly for days on end, it is possible to put out equipment that logs readings at regular intervals a few locations. Dr. Toran deployed a nitrate logger just downstream of the water treatment plant to look at how concentrations varied over time.\n",
    "\n",
    "NOTE: Datascience datatables are not great for plotting time series data, so again we'll dip into pandas dataframes to read and plot these data. You can just observe; you are not expected to learn Pandas in this class."
   ]
  },
  {
   "cell_type": "code",
   "execution_count": null,
   "id": "a47d3010-6f1c-4e38-b308-5303c965ae5c",
   "metadata": {},
   "outputs": [],
   "source": [
    "import pandas as pd\n",
    "\n",
    "df = pd.read_csv('./data/WWTP_N.csv', usecols=[0, 1], skiprows=1, parse_dates=True)\n",
    "df = df.set_index(\"Date\")\n",
    "df.index = pd.to_datetime(df.index, format='%m/%d/%y %H:%M')\n",
    "df.head()"
   ]
  },
  {
   "cell_type": "markdown",
   "id": "bba1d63b-9fbe-4154-87b6-60dd337b4df6",
   "metadata": {},
   "source": [
    "Notice that the data is hourly."
   ]
  },
  {
   "cell_type": "code",
   "execution_count": null,
   "id": "3d4a4826-2218-4446-82e5-76f73ad97177",
   "metadata": {},
   "outputs": [],
   "source": [
    "df.plot(figsize=(15, 5));"
   ]
  },
  {
   "cell_type": "markdown",
   "id": "8d37d722-a614-4ea4-b30c-d30ff2551319",
   "metadata": {},
   "source": [
    "There is clearly a daily cycle."
   ]
  },
  {
   "cell_type": "markdown",
   "id": "c26b624d-bb7e-47a9-9ab9-6ab546388957",
   "metadata": {},
   "source": [
    "Let's zoom in on a day."
   ]
  },
  {
   "cell_type": "code",
   "execution_count": null,
   "id": "bf4d74d9-7598-4749-b42a-b79e6e6c8c1c",
   "metadata": {},
   "outputs": [],
   "source": [
    "# Plot one daily cycle from 3 AM to 3 AM on Wednesday 2015-04-29\n",
    "start = pd.to_datetime('2015-04-29 03:00:00')\n",
    "end = pd.to_datetime('2015-04-30 03:00:00')\n",
    "df.loc[start:end].plot()\n",
    "plt.show()"
   ]
  },
  {
   "cell_type": "markdown",
   "id": "3cf55f5f-9bb1-4edd-aa6f-b6d676f83ed3",
   "metadata": {},
   "source": [
    "<span style=\"color: blue;\">How would you interpret this daily trend?</span>\n",
    "\n",
    "Answer ..."
   ]
  },
  {
   "cell_type": "markdown",
   "id": "603b4907-38a1-4b66-8b46-c7a483fbc6e1",
   "metadata": {},
   "source": [
    "The plot above was for a weekday (Wednesday). Let's compare with a Saturday."
   ]
  },
  {
   "cell_type": "code",
   "execution_count": null,
   "id": "c552849a-ca74-4459-9e66-61e3de295cdd",
   "metadata": {},
   "outputs": [],
   "source": [
    "# Plot one daily cycle from 3 AM to 3 AM on Saturday 2015-05-02\n",
    "start = pd.to_datetime('2015-05-02 03:00:00')\n",
    "end = pd.to_datetime('2015-05-03 03:00:00')\n",
    "df.loc[start:end].plot()\n",
    "plt.show()"
   ]
  },
  {
   "cell_type": "markdown",
   "id": "77ab921f-db58-49d7-b675-00088bf9565d",
   "metadata": {},
   "source": [
    "<span style=\"color: blue;\">Do you see any difference in the timing of the increase in nitrate? If so, why?</span>"
   ]
  },
  {
   "cell_type": "markdown",
   "id": "97f14e30-1e64-4738-8ee7-eb172e49d04f",
   "metadata": {},
   "source": [
    "Answer here ..."
   ]
  },
  {
   "cell_type": "markdown",
   "id": "f9a04f83-50ce-495c-a2c1-08bd804bbc2e",
   "metadata": {},
   "source": [
    "## Reflection\n",
    "We've covered a lot of ground in this mini project take a moment to reflect on what you have learned.\n",
    "\n",
    "<span style=\"color: blue;\">Write a one or two paragraph summary. Include an idea for future work.</span>"
   ]
  },
  {
   "cell_type": "markdown",
   "id": "da2058b5-bdf3-48f3-a2bc-06d502d56bce",
   "metadata": {},
   "source": [
    "Summary\n",
    "..."
   ]
  },
  {
   "cell_type": "markdown",
   "id": "70187b7a-8947-4c56-88b8-9f30e0f43d65",
   "metadata": {},
   "source": []
  },
  {
   "cell_type": "markdown",
   "id": "71c7203e-7949-4e6c-ae36-8fea82c17af7",
   "metadata": {},
   "source": [
    "### <font color=blue> **Feedback** </font>\n",
    "\n",
    "Please include a reflection. \n",
    "* How did this mini-project go?\n",
    "* What was the most interesting or surpising thing you learned?\n",
    "* Was it difficult to write code without a template?\n",
    "* Did you seek help from any of the instructors or class assistants?\n",
    "* Were there questions using techniques you found especially challenging you would like your instructor to review in class? \n",
    "* How long did the project take you to complete?\n",
    "\n",
    "  \n",
    "Share your feedback so we can continue to improve this class!"
   ]
  }
 ],
 "metadata": {
  "kernelspec": {
   "display_name": "Python 3 (ipykernel)",
   "language": "python",
   "name": "python3"
  },
  "language_info": {
   "codemirror_mode": {
    "name": "ipython",
    "version": 3
   },
   "file_extension": ".py",
   "mimetype": "text/x-python",
   "name": "python",
   "nbconvert_exporter": "python",
   "pygments_lexer": "ipython3",
   "version": "3.11.6"
  }
 },
 "nbformat": 4,
 "nbformat_minor": 5
}
