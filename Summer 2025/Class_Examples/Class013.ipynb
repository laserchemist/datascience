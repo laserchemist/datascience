{
 "cells": [
  {
   "cell_type": "markdown",
   "metadata": {},
   "source": [
    "### Randomness\n",
    "Elements of Data Science Week 7"
   ]
  },
  {
   "cell_type": "markdown",
   "metadata": {
    "tags": []
   },
   "source": [
    "## Simulation Learning Goals\n",
    "Simulate a task dependent on probability such as a die roll, repeat to get distribution and characteristics (mean, ...)\n",
    "- Probability\n",
    "    - np.random.choice()\n",
    "- Simulation: Sample the distribution\n",
    "    - Repeat and collect outcomes\n",
    "    - Iteration: \n",
    "        `for i in np.arange(samples)`\n",
    "- Examine resulting distribution of outcomes\n",
    "    - Probability distribution\n",
    "    - Uncertainty"
   ]
  },
  {
   "cell_type": "markdown",
   "metadata": {},
   "source": [
    "#### A random distributions play a large role in statistical inference"
   ]
  },
  {
   "cell_type": "code",
   "execution_count": 1,
   "metadata": {},
   "outputs": [],
   "source": [
    "import numpy as np\n",
    "from datascience import *"
   ]
  },
  {
   "cell_type": "code",
   "execution_count": 2,
   "metadata": {},
   "outputs": [],
   "source": [
    "%matplotlib inline\n",
    "import matplotlib.pyplot as plt\n",
    "plt.style.use('fivethirtyeight')"
   ]
  },
  {
   "cell_type": "markdown",
   "metadata": {},
   "source": [
    "## Coin toss"
   ]
  },
  {
   "cell_type": "code",
   "execution_count": 41,
   "metadata": {},
   "outputs": [
    {
     "data": {
      "text/plain": [
       "array(['Heads', 'Tails', 'Heads', 'Heads', 'Heads', 'Tails', 'Tails',\n",
       "       'Heads', 'Tails', 'Heads', 'Tails', 'Tails', 'Heads', 'Heads',\n",
       "       'Heads', 'Tails', 'Heads', 'Heads', 'Tails', 'Heads', 'Heads',\n",
       "       'Heads', 'Tails', 'Heads', 'Heads', 'Tails', 'Heads', 'Heads',\n",
       "       'Tails', 'Heads', 'Heads', 'Heads', 'Heads', 'Heads', 'Tails',\n",
       "       'Heads', 'Heads', 'Tails', 'Tails', 'Heads', 'Heads', 'Heads',\n",
       "       'Heads', 'Tails', 'Tails', 'Tails', 'Tails', 'Heads', 'Heads',\n",
       "       'Heads', 'Heads', 'Tails', 'Tails', 'Tails', 'Heads', 'Tails',\n",
       "       'Tails', 'Heads', 'Tails', 'Tails', 'Heads', 'Heads', 'Heads',\n",
       "       'Tails', 'Heads', 'Heads', 'Heads', 'Tails', 'Tails', 'Heads',\n",
       "       'Heads', 'Heads', 'Heads', 'Heads', 'Heads', 'Heads', 'Tails',\n",
       "       'Heads', 'Tails', 'Heads', 'Tails', 'Heads', 'Tails', 'Tails',\n",
       "       'Tails', 'Heads', 'Heads', 'Tails', 'Heads', 'Tails', 'Heads',\n",
       "       'Heads', 'Heads', 'Heads', 'Tails', 'Tails', 'Tails', 'Tails',\n",
       "       'Heads', 'Tails'],\n",
       "      dtype='<U5')"
      ]
     },
     "execution_count": 41,
     "metadata": {},
     "output_type": "execute_result"
    }
   ],
   "source": [
    "toss = np.array(['Heads', 'Tails'])\n",
    "tosses=np.random.choice(toss,100)\n",
    "tosses"
   ]
  },
  {
   "cell_type": "code",
   "execution_count": 42,
   "metadata": {},
   "outputs": [
    {
     "data": {
      "text/plain": [
       "array([ True, False,  True,  True,  True, False, False,  True, False,\n",
       "        True, False, False,  True,  True,  True, False,  True,  True,\n",
       "       False,  True,  True,  True, False,  True,  True, False,  True,\n",
       "        True, False,  True,  True,  True,  True,  True, False,  True,\n",
       "        True, False, False,  True,  True,  True,  True, False, False,\n",
       "       False, False,  True,  True,  True,  True, False, False, False,\n",
       "        True, False, False,  True, False, False,  True,  True,  True,\n",
       "       False,  True,  True,  True, False, False,  True,  True,  True,\n",
       "        True,  True,  True,  True, False,  True, False,  True, False,\n",
       "        True, False, False, False,  True,  True, False,  True, False,\n",
       "        True,  True,  True,  True, False, False, False, False,  True, False], dtype=bool)"
      ]
     },
     "execution_count": 42,
     "metadata": {},
     "output_type": "execute_result"
    }
   ],
   "source": [
    "tosses != 'Tails'"
   ]
  },
  {
   "cell_type": "code",
   "execution_count": 44,
   "metadata": {},
   "outputs": [
    {
     "data": {
      "text/plain": [
       "59.0"
      ]
     },
     "execution_count": 44,
     "metadata": {},
     "output_type": "execute_result"
    }
   ],
   "source": [
    "np.count_nonzero(tosses == 'Heads')/len(tosses)*100"
   ]
  },
  {
   "cell_type": "markdown",
   "metadata": {},
   "source": [
    "### Simulate\n",
    "- Simulate a set of 100 coin tosses, how many heads?\n",
    "- Repeat simulation 20,000 times"
   ]
  },
  {
   "cell_type": "code",
   "execution_count": 45,
   "metadata": {},
   "outputs": [],
   "source": [
    "def one_simulated_value(num_tosses):\n",
    "    outcomes = np.random.choice(toss, num_tosses)\n",
    "    return np.count_nonzero(outcomes == 'Heads')"
   ]
  },
  {
   "cell_type": "code",
   "execution_count": 49,
   "metadata": {},
   "outputs": [],
   "source": [
    "num_repetitions = 20000   # number of repetitions\n",
    "\n",
    "heads = make_array() # empty collection array\n",
    "\n",
    "for i in np.arange(num_repetitions):   # repeat the process num_repetitions times\n",
    "    new_value = one_simulated_value(100)  # simulate one value using the function defined\n",
    "    heads = np.append(heads, new_value) # augment the collection array with the simulated value\n",
    "\n",
    "# That's it! The simulation is done."
   ]
  },
  {
   "cell_type": "code",
   "execution_count": 50,
   "metadata": {},
   "outputs": [],
   "source": [
    "simulation_results = Table().with_columns(\n",
    "    'Repetition', np.arange(1, num_repetitions + 1),\n",
    "    'Number of Heads', heads\n",
    ")"
   ]
  },
  {
   "cell_type": "code",
   "execution_count": 51,
   "metadata": {},
   "outputs": [
    {
     "data": {
      "text/html": [
       "<table border=\"1\" class=\"dataframe\">\n",
       "    <thead>\n",
       "        <tr>\n",
       "            <th>Repetition</th> <th>Number of Heads</th>\n",
       "        </tr>\n",
       "    </thead>\n",
       "    <tbody>\n",
       "        <tr>\n",
       "            <td>1         </td> <td>54             </td>\n",
       "        </tr>\n",
       "        <tr>\n",
       "            <td>2         </td> <td>44             </td>\n",
       "        </tr>\n",
       "        <tr>\n",
       "            <td>3         </td> <td>46             </td>\n",
       "        </tr>\n",
       "    </tbody>\n",
       "</table>\n",
       "<p>... (19997 rows omitted)</p>"
      ],
      "text/plain": [
       "<IPython.core.display.HTML object>"
      ]
     },
     "metadata": {},
     "output_type": "display_data"
    }
   ],
   "source": [
    "simulation_results.show(3)"
   ]
  },
  {
   "cell_type": "code",
   "execution_count": 52,
   "metadata": {},
   "outputs": [
    {
     "data": {
      "image/png": "[encoded data removed]",
      "text/plain": [
       "<Figure size 600x400 with 1 Axes>"
      ]
     },
     "metadata": {},
     "output_type": "display_data"
    }
   ],
   "source": [
    "simulation_results.hist('Number of Heads', bins = np.arange(30.5, 69.6, 1))\n",
    "plt.title('Simulation of 100 Coin Tosses')\n",
    "plt.savefig('Simcoin.png')"
   ]
  },
  {
   "cell_type": "markdown",
   "metadata": {},
   "source": [
    "## Die roll betting simulation\n",
    "Bet a dollar on a single die roll\n",
    "Outcomes. See [Inferential Thinking](https://inferentialthinking.com/chapters/09/Randomness.html)"
   ]
  },
  {
   "cell_type": "markdown",
   "metadata": {},
   "source": [
    "    - 0 or 1: lose a dollar (-$1)\n",
    "    - 2 or 3: no change (0)\n",
    "    - 4 or 5: gain a dollar (+$1)"
   ]
  },
  {
   "cell_type": "code",
   "execution_count": null,
   "metadata": {},
   "outputs": [],
   "source": [
    "def bet_on_one_roll():\n",
    "    \"\"\"Returns my net gain on one bet\"\"\"\n",
    "    x = np.random.choice(np.arange(1, 7))  # roll a die once and record the number of spots\n",
    "    if x <= 2:\n",
    "        return -1\n",
    "    elif x <= 4:\n",
    "        return 0\n",
    "    elif x <= 6:\n",
    "        return 1"
   ]
  },
  {
   "cell_type": "code",
   "execution_count": null,
   "metadata": {},
   "outputs": [],
   "source": [
    "outcomes = np.array([])\n",
    "\n",
    "for i in np.arange(600):\n",
    "    outcome_of_bet = bet_on_one_roll()\n",
    "    outcomes = np.append(outcomes, outcome_of_bet)\n",
    "    \n",
    "print(outcomes[0:10])\n",
    "len(outcomes)"
   ]
  },
  {
   "cell_type": "code",
   "execution_count": null,
   "metadata": {},
   "outputs": [],
   "source": [
    "outcome_table = Table().with_column('Outcome', outcomes)\n",
    "outcome_table.group('Outcome').barh(0)"
   ]
  },
  {
   "cell_type": "markdown",
   "metadata": {},
   "source": [
    "## Sampling"
   ]
  },
  {
   "cell_type": "code",
   "execution_count": 53,
   "metadata": {},
   "outputs": [
    {
     "data": {
      "text/plain": [
       "array(['green', 'purple', 'green', 'green', 'green', 'green', 'green',\n",
       "       'green', 'green', 'green', 'green', 'purple', 'green', 'green',\n",
       "       'green', 'purple', 'green', 'green', 'green', 'green', 'purple',\n",
       "       'purple', 'purple', 'green', 'green', 'purple', 'purple', 'green',\n",
       "       'purple', 'green', 'purple', 'purple', 'green', 'purple', 'purple',\n",
       "       'purple', 'green', 'green', 'green', 'green', 'green', 'purple',\n",
       "       'purple', 'green', 'green', 'green', 'purple', 'green', 'green',\n",
       "       'green', 'green', 'green', 'green', 'purple', 'green', 'purple',\n",
       "       'green', 'purple', 'green', 'green', 'green', 'purple', 'purple',\n",
       "       'purple', 'purple', 'purple', 'green', 'purple', 'green', 'purple',\n",
       "       'green', 'purple', 'green', 'green', 'purple', 'purple', 'green',\n",
       "       'green', 'purple', 'purple', 'purple', 'green', 'purple', 'green',\n",
       "       'purple', 'purple', 'green', 'green', 'purple', 'purple', 'purple',\n",
       "       'purple', 'green', 'green', 'purple', 'green', 'green', 'green',\n",
       "       'purple', 'purple'],\n",
       "      dtype='<U6')"
      ]
     },
     "execution_count": 53,
     "metadata": {},
     "output_type": "execute_result"
    }
   ],
   "source": [
    "marbles = np.random.choice(['purple','green'],100)\n",
    "marbles"
   ]
  },
  {
   "cell_type": "code",
   "execution_count": 54,
   "metadata": {
    "tags": []
   },
   "outputs": [
    {
     "data": {
      "text/html": [
       "<table border=\"1\" class=\"dataframe\">\n",
       "    <thead>\n",
       "        <tr>\n",
       "            <th>Color</th>\n",
       "        </tr>\n",
       "    </thead>\n",
       "    <tbody>\n",
       "        <tr>\n",
       "            <td>green </td>\n",
       "        </tr>\n",
       "        <tr>\n",
       "            <td>purple</td>\n",
       "        </tr>\n",
       "        <tr>\n",
       "            <td>green </td>\n",
       "        </tr>\n",
       "        <tr>\n",
       "            <td>green </td>\n",
       "        </tr>\n",
       "        <tr>\n",
       "            <td>green </td>\n",
       "        </tr>\n",
       "        <tr>\n",
       "            <td>green </td>\n",
       "        </tr>\n",
       "        <tr>\n",
       "            <td>green </td>\n",
       "        </tr>\n",
       "        <tr>\n",
       "            <td>green </td>\n",
       "        </tr>\n",
       "        <tr>\n",
       "            <td>green </td>\n",
       "        </tr>\n",
       "        <tr>\n",
       "            <td>green </td>\n",
       "        </tr>\n",
       "    </tbody>\n",
       "</table>\n",
       "<p>... (90 rows omitted)</p>"
      ],
      "text/plain": [
       "Color\n",
       "green\n",
       "purple\n",
       "green\n",
       "green\n",
       "green\n",
       "green\n",
       "green\n",
       "green\n",
       "green\n",
       "green\n",
       "... (90 rows omitted)"
      ]
     },
     "execution_count": 54,
     "metadata": {},
     "output_type": "execute_result"
    }
   ],
   "source": [
    "population = Table().with_columns('Color',marbles)\n",
    "population"
   ]
  },
  {
   "cell_type": "code",
   "execution_count": 55,
   "metadata": {},
   "outputs": [
    {
     "data": {
      "text/plain": [
       "0.43"
      ]
     },
     "execution_count": 55,
     "metadata": {},
     "output_type": "execute_result"
    }
   ],
   "source": [
    "population.where('Color','purple').num_rows/population.num_rows"
   ]
  },
  {
   "cell_type": "code",
   "execution_count": 59,
   "metadata": {},
   "outputs": [
    {
     "data": {
      "text/html": [
       "<table border=\"1\" class=\"dataframe\">\n",
       "    <thead>\n",
       "        <tr>\n",
       "            <th>Color</th>\n",
       "        </tr>\n",
       "    </thead>\n",
       "    <tbody>\n",
       "        <tr>\n",
       "            <td>green </td>\n",
       "        </tr>\n",
       "        <tr>\n",
       "            <td>purple</td>\n",
       "        </tr>\n",
       "        <tr>\n",
       "            <td>purple</td>\n",
       "        </tr>\n",
       "        <tr>\n",
       "            <td>purple</td>\n",
       "        </tr>\n",
       "        <tr>\n",
       "            <td>green </td>\n",
       "        </tr>\n",
       "    </tbody>\n",
       "</table>"
      ],
      "text/plain": [
       "Color\n",
       "green\n",
       "purple\n",
       "purple\n",
       "purple\n",
       "green"
      ]
     },
     "execution_count": 59,
     "metadata": {},
     "output_type": "execute_result"
    }
   ],
   "source": [
    "sample = population.sample(5)\n",
    "sample"
   ]
  },
  {
   "cell_type": "code",
   "execution_count": 60,
   "metadata": {},
   "outputs": [
    {
     "data": {
      "text/plain": [
       "0.6"
      ]
     },
     "execution_count": 60,
     "metadata": {},
     "output_type": "execute_result"
    }
   ],
   "source": [
    "sample.where('Color','purple').num_rows/sample.num_rows"
   ]
  },
  {
   "cell_type": "code",
   "execution_count": 61,
   "metadata": {},
   "outputs": [
    {
     "name": "stdout",
     "output_type": "stream",
     "text": [
      "[ 0.5  0.4  0.4  0.5  0.5  0.5  0.5  0.5  0.7  0.4]\n"
     ]
    },
    {
     "data": {
      "text/plain": [
       "1000"
      ]
     },
     "execution_count": 61,
     "metadata": {},
     "output_type": "execute_result"
    }
   ],
   "source": [
    "outcomes = np.array([])\n",
    "\n",
    "for i in np.arange(1000):\n",
    "    outcome = population.sample(10).where('Color','purple').num_rows/10\n",
    "    outcomes = np.append(outcomes, outcome)\n",
    "    \n",
    "print(outcomes[0:10])\n",
    "len(outcomes)"
   ]
  },
  {
   "cell_type": "code",
   "execution_count": 62,
   "metadata": {},
   "outputs": [
    {
     "data": {
      "text/plain": [
       "0.42419999999999997"
      ]
     },
     "execution_count": 62,
     "metadata": {},
     "output_type": "execute_result"
    }
   ],
   "source": [
    "outcomes.mean()"
   ]
  },
  {
   "cell_type": "code",
   "execution_count": 63,
   "metadata": {},
   "outputs": [
    {
     "data": {
      "text/html": [
       "<table border=\"1\" class=\"dataframe\">\n",
       "    <thead>\n",
       "        <tr>\n",
       "            <th>Outcome</th>\n",
       "        </tr>\n",
       "    </thead>\n",
       "    <tbody>\n",
       "        <tr>\n",
       "            <td>0.5    </td>\n",
       "        </tr>\n",
       "        <tr>\n",
       "            <td>0.4    </td>\n",
       "        </tr>\n",
       "        <tr>\n",
       "            <td>0.4    </td>\n",
       "        </tr>\n",
       "        <tr>\n",
       "            <td>0.5    </td>\n",
       "        </tr>\n",
       "        <tr>\n",
       "            <td>0.5    </td>\n",
       "        </tr>\n",
       "        <tr>\n",
       "            <td>0.5    </td>\n",
       "        </tr>\n",
       "        <tr>\n",
       "            <td>0.5    </td>\n",
       "        </tr>\n",
       "        <tr>\n",
       "            <td>0.5    </td>\n",
       "        </tr>\n",
       "        <tr>\n",
       "            <td>0.7    </td>\n",
       "        </tr>\n",
       "        <tr>\n",
       "            <td>0.4    </td>\n",
       "        </tr>\n",
       "    </tbody>\n",
       "</table>\n",
       "<p>... (990 rows omitted)</p>"
      ],
      "text/plain": [
       "Outcome\n",
       "0.5\n",
       "0.4\n",
       "0.4\n",
       "0.5\n",
       "0.5\n",
       "0.5\n",
       "0.5\n",
       "0.5\n",
       "0.7\n",
       "0.4\n",
       "... (990 rows omitted)"
      ]
     },
     "execution_count": 63,
     "metadata": {},
     "output_type": "execute_result"
    }
   ],
   "source": [
    "outcome_table = Table().with_column('Outcome', outcomes)\n",
    "outcome_table"
   ]
  },
  {
   "cell_type": "code",
   "execution_count": 64,
   "metadata": {},
   "outputs": [
    {
     "data": {
      "image/png": "[encoded data removed]",
      "text/plain": [
       "<Figure size 600x400 with 1 Axes>"
      ]
     },
     "metadata": {},
     "output_type": "display_data"
    }
   ],
   "source": [
    "outcome_table.hist(0, )"
   ]
  },
  {
   "cell_type": "markdown",
   "metadata": {},
   "source": [
    "## Text sampling"
   ]
  },
  {
   "cell_type": "code",
   "execution_count": 3,
   "metadata": {
    "tags": []
   },
   "outputs": [],
   "source": [
    "acid_string = open('data/acidbase_wikipedia.txt',encoding='utf-8').read()"
   ]
  },
  {
   "cell_type": "code",
   "execution_count": 4,
   "metadata": {
    "tags": []
   },
   "outputs": [
    {
     "data": {
      "text/plain": [
       "['In',\n",
       " 'chemistry,',\n",
       " 'an',\n",
       " 'acid–base',\n",
       " 'reaction',\n",
       " 'is',\n",
       " 'a',\n",
       " 'chemical',\n",
       " 'reaction',\n",
       " 'that']"
      ]
     },
     "execution_count": 4,
     "metadata": {},
     "output_type": "execute_result"
    }
   ],
   "source": [
    "acid_words = acid_string.split()\n",
    "acid_words[:10]"
   ]
  },
  {
   "cell_type": "code",
   "execution_count": 5,
   "metadata": {
    "tags": []
   },
   "outputs": [],
   "source": [
    "def word_freq(words):\n",
    "    f = {} # Create an empty dictionary to store letters and their count found in words\n",
    "    for word in words:\n",
    "            word = word.lower()\n",
    "            if word.isalpha(): # avoid punctuation\n",
    "                f[word] = f.get(word,0) + 1 # Using Python dictionary\n",
    "    return f"
   ]
  },
  {
   "cell_type": "code",
   "execution_count": 6,
   "metadata": {},
   "outputs": [],
   "source": [
    "word_dictionary = word_freq(acid_words)\n"
   ]
  },
  {
   "cell_type": "code",
   "execution_count": 7,
   "metadata": {
    "tags": []
   },
   "outputs": [
    {
     "data": {
      "text/plain": [
       "dict_keys(['in', 'an', 'reaction', 'is', 'a', 'chemical', 'that', 'occurs', 'between', 'acid', 'and', 'it', 'can', 'be', 'used', 'to', 'determine', 'ph', 'via', 'several', 'theoretical', 'frameworks', 'provide', 'alternative', 'conceptions', 'of', 'the', 'mechanisms', 'their', 'application', 'solving', 'related', 'these', 'are', 'called', 'for', 'importance', 'becomes', 'apparent', 'analyzing', 'reactions', 'gaseous', 'or', 'liquid', 'when', 'base', 'character', 'may', 'somewhat', 'less', 'first', 'concepts', 'was', 'provided', 'by', 'french', 'chemist', 'antoine', 'around', 'important', 'think', 'models', 'as', 'theories', 'complement', 'each', 'current', 'lewis', 'model', 'has', 'broadest', 'definition', 'what', 'with', 'theory', 'being', 'subset', 'acids', 'bases', 'arrhenius', 'most'])"
      ]
     },
     "execution_count": 7,
     "metadata": {},
     "output_type": "execute_result"
    }
   ],
   "source": [
    "word_dictionary.keys()"
   ]
  },
  {
   "cell_type": "code",
   "execution_count": 8,
   "metadata": {
    "tags": []
   },
   "outputs": [],
   "source": [
    "percent_word = np.array(list(word_dictionary.values())/np.sum(np.array(list(word_dictionary.values()))))*100"
   ]
  },
  {
   "cell_type": "code",
   "execution_count": 9,
   "metadata": {
    "tags": []
   },
   "outputs": [
    {
     "data": {
      "text/html": [
       "<table border=\"1\" class=\"dataframe\">\n",
       "    <thead>\n",
       "        <tr>\n",
       "            <th>word</th> <th>count</th> <th>percent</th>\n",
       "        </tr>\n",
       "    </thead>\n",
       "    <tbody>\n",
       "        <tr>\n",
       "            <td>the     </td> <td>10   </td> <td>8.06452</td>\n",
       "        </tr>\n",
       "        <tr>\n",
       "            <td>and     </td> <td>5    </td> <td>4.03226</td>\n",
       "        </tr>\n",
       "        <tr>\n",
       "            <td>of      </td> <td>5    </td> <td>4.03226</td>\n",
       "        </tr>\n",
       "        <tr>\n",
       "            <td>reaction</td> <td>4    </td> <td>3.22581</td>\n",
       "        </tr>\n",
       "        <tr>\n",
       "            <td>in      </td> <td>3    </td> <td>2.41935</td>\n",
       "        </tr>\n",
       "        <tr>\n",
       "            <td>an      </td> <td>3    </td> <td>2.41935</td>\n",
       "        </tr>\n",
       "        <tr>\n",
       "            <td>a       </td> <td>3    </td> <td>2.41935</td>\n",
       "        </tr>\n",
       "        <tr>\n",
       "            <td>acid    </td> <td>3    </td> <td>2.41935</td>\n",
       "        </tr>\n",
       "        <tr>\n",
       "            <td>for     </td> <td>3    </td> <td>2.41935</td>\n",
       "        </tr>\n",
       "        <tr>\n",
       "            <td>or      </td> <td>3    </td> <td>2.41935</td>\n",
       "        </tr>\n",
       "        <tr>\n",
       "            <td>is      </td> <td>2    </td> <td>1.6129 </td>\n",
       "        </tr>\n",
       "        <tr>\n",
       "            <td>that    </td> <td>2    </td> <td>1.6129 </td>\n",
       "        </tr>\n",
       "        <tr>\n",
       "            <td>it      </td> <td>2    </td> <td>1.6129 </td>\n",
       "        </tr>\n",
       "        <tr>\n",
       "            <td>be      </td> <td>2    </td> <td>1.6129 </td>\n",
       "        </tr>\n",
       "        <tr>\n",
       "            <td>to      </td> <td>2    </td> <td>1.6129 </td>\n",
       "        </tr>\n",
       "        <tr>\n",
       "            <td>their   </td> <td>2    </td> <td>1.6129 </td>\n",
       "        </tr>\n",
       "        <tr>\n",
       "            <td>these   </td> <td>2    </td> <td>1.6129 </td>\n",
       "        </tr>\n",
       "        <tr>\n",
       "            <td>base    </td> <td>2    </td> <td>1.6129 </td>\n",
       "        </tr>\n",
       "        <tr>\n",
       "            <td>what    </td> <td>2    </td> <td>1.6129 </td>\n",
       "        </tr>\n",
       "        <tr>\n",
       "            <td>theory  </td> <td>2    </td> <td>1.6129 </td>\n",
       "        </tr>\n",
       "    </tbody>\n",
       "</table>\n",
       "<p>... (61 rows omitted)</p>"
      ],
      "text/plain": [
       "<IPython.core.display.HTML object>"
      ]
     },
     "metadata": {},
     "output_type": "display_data"
    }
   ],
   "source": [
    "Table().with_columns('word',word_dictionary.keys(),'count',word_dictionary.values(), \\\n",
    "                     'percent',percent_word).sort('count',descending=True).show(20)"
   ]
  },
  {
   "cell_type": "code",
   "execution_count": null,
   "metadata": {
    "tags": []
   },
   "outputs": [],
   "source": [
    "list(word_dictionary.values())"
   ]
  },
  {
   "cell_type": "code",
   "execution_count": 21,
   "metadata": {},
   "outputs": [
    {
     "name": "stdout",
     "output_type": "stream",
     "text": [
      "Requirement already satisfied: nltk in /opt/conda/lib/python3.10/site-packages (3.9.1)\n",
      "Requirement already satisfied: click in /opt/conda/lib/python3.10/site-packages (from nltk) (8.1.3)\n",
      "Requirement already satisfied: joblib in /opt/conda/lib/python3.10/site-packages (from nltk) (1.2.0)\n",
      "Requirement already satisfied: regex>=2021.8.3 in /opt/conda/lib/python3.10/site-packages (from nltk) (2024.9.11)\n",
      "Requirement already satisfied: tqdm in /opt/conda/lib/python3.10/site-packages (from nltk) (4.65.0)\n"
     ]
    },
    {
     "data": {
      "text/plain": [
       "['i', 'me', 'my', 'myself', 'we', 'our', 'ours', 'ourselves', 'you', \"you're\"]"
      ]
     },
     "execution_count": 21,
     "metadata": {},
     "output_type": "execute_result"
    }
   ],
   "source": [
    "!pip install nltk\n",
    "from nltk.corpus import stopwords\n",
    "stop = stopwords.words('english')\n",
    "stop[:10]"
   ]
  },
  {
   "cell_type": "code",
   "execution_count": 22,
   "metadata": {
    "tags": []
   },
   "outputs": [
    {
     "data": {
      "text/plain": [
       "False"
      ]
     },
     "execution_count": 22,
     "metadata": {},
     "output_type": "execute_result"
    }
   ],
   "source": [
    "'in' not in stop"
   ]
  },
  {
   "cell_type": "code",
   "execution_count": 31,
   "metadata": {
    "tags": []
   },
   "outputs": [
    {
     "data": {
      "text/plain": [
       "['chemistry,',\n",
       " 'acid–base',\n",
       " 'reaction',\n",
       " 'chemical',\n",
       " 'reaction',\n",
       " 'occurs',\n",
       " 'acid',\n",
       " 'base.',\n",
       " 'used',\n",
       " 'determine',\n",
       " 'pH',\n",
       " 'via',\n",
       " 'titration.',\n",
       " 'Several',\n",
       " 'theoretical',\n",
       " 'frameworks',\n",
       " 'provide',\n",
       " 'alternative',\n",
       " 'conceptions',\n",
       " 'reaction',\n",
       " 'mechanisms',\n",
       " 'application',\n",
       " 'solving',\n",
       " 'related',\n",
       " 'problems;',\n",
       " 'called',\n",
       " 'acid–base',\n",
       " 'theories,',\n",
       " 'example,',\n",
       " 'Brønsted–Lowry',\n",
       " 'acid–base',\n",
       " 'theory.',\n",
       " 'importance',\n",
       " 'becomes',\n",
       " 'apparent',\n",
       " 'analyzing',\n",
       " 'acid–base',\n",
       " 'reactions',\n",
       " 'gaseous',\n",
       " 'liquid',\n",
       " 'species,',\n",
       " 'acid',\n",
       " 'base',\n",
       " 'character',\n",
       " 'may',\n",
       " 'somewhat',\n",
       " 'less',\n",
       " 'apparent.',\n",
       " 'first',\n",
       " 'concepts',\n",
       " 'provided',\n",
       " 'French',\n",
       " 'chemist',\n",
       " 'Antoine',\n",
       " 'Lavoisier,',\n",
       " 'around',\n",
       " '1776.',\n",
       " 'important',\n",
       " 'think',\n",
       " 'acid–base',\n",
       " 'reaction',\n",
       " 'models',\n",
       " 'theories',\n",
       " 'complement',\n",
       " 'other.',\n",
       " 'example,',\n",
       " 'current',\n",
       " 'Lewis',\n",
       " 'model',\n",
       " 'broadest',\n",
       " 'definition',\n",
       " 'acid',\n",
       " 'base',\n",
       " 'are,',\n",
       " 'Brønsted–Lowry',\n",
       " 'theory',\n",
       " 'subset',\n",
       " 'acids',\n",
       " 'bases',\n",
       " 'are,',\n",
       " 'Arrhenius',\n",
       " 'theory',\n",
       " 'restrictive.']"
      ]
     },
     "execution_count": 31,
     "metadata": {},
     "output_type": "execute_result"
    }
   ],
   "source": [
    "words_clean = [word for word in acid_words if word.lower() not in stop]\n",
    "words_clean"
   ]
  },
  {
   "cell_type": "code",
   "execution_count": 32,
   "metadata": {
    "tags": []
   },
   "outputs": [],
   "source": [
    "word_dictionary_clean = word_freq(words_clean)"
   ]
  },
  {
   "cell_type": "code",
   "execution_count": 33,
   "metadata": {
    "tags": []
   },
   "outputs": [],
   "source": [
    "percent_word = np.array(list(word_dictionary_clean.values())/np.sum(np.array(list(word_dictionary_clean.values()))))*100"
   ]
  },
  {
   "cell_type": "code",
   "execution_count": 34,
   "metadata": {
    "tags": []
   },
   "outputs": [
    {
     "data": {
      "text/html": [
       "<table border=\"1\" class=\"dataframe\">\n",
       "    <thead>\n",
       "        <tr>\n",
       "            <th>word</th> <th>count</th> <th>percent</th>\n",
       "        </tr>\n",
       "    </thead>\n",
       "    <tbody>\n",
       "        <tr>\n",
       "            <td>reaction   </td> <td>4    </td> <td>6.66667</td>\n",
       "        </tr>\n",
       "        <tr>\n",
       "            <td>acid       </td> <td>3    </td> <td>5      </td>\n",
       "        </tr>\n",
       "        <tr>\n",
       "            <td>base       </td> <td>2    </td> <td>3.33333</td>\n",
       "        </tr>\n",
       "        <tr>\n",
       "            <td>theory     </td> <td>2    </td> <td>3.33333</td>\n",
       "        </tr>\n",
       "        <tr>\n",
       "            <td>chemical   </td> <td>1    </td> <td>1.66667</td>\n",
       "        </tr>\n",
       "        <tr>\n",
       "            <td>occurs     </td> <td>1    </td> <td>1.66667</td>\n",
       "        </tr>\n",
       "        <tr>\n",
       "            <td>used       </td> <td>1    </td> <td>1.66667</td>\n",
       "        </tr>\n",
       "        <tr>\n",
       "            <td>determine  </td> <td>1    </td> <td>1.66667</td>\n",
       "        </tr>\n",
       "        <tr>\n",
       "            <td>ph         </td> <td>1    </td> <td>1.66667</td>\n",
       "        </tr>\n",
       "        <tr>\n",
       "            <td>via        </td> <td>1    </td> <td>1.66667</td>\n",
       "        </tr>\n",
       "        <tr>\n",
       "            <td>several    </td> <td>1    </td> <td>1.66667</td>\n",
       "        </tr>\n",
       "        <tr>\n",
       "            <td>theoretical</td> <td>1    </td> <td>1.66667</td>\n",
       "        </tr>\n",
       "        <tr>\n",
       "            <td>frameworks </td> <td>1    </td> <td>1.66667</td>\n",
       "        </tr>\n",
       "        <tr>\n",
       "            <td>provide    </td> <td>1    </td> <td>1.66667</td>\n",
       "        </tr>\n",
       "        <tr>\n",
       "            <td>alternative</td> <td>1    </td> <td>1.66667</td>\n",
       "        </tr>\n",
       "        <tr>\n",
       "            <td>conceptions</td> <td>1    </td> <td>1.66667</td>\n",
       "        </tr>\n",
       "        <tr>\n",
       "            <td>mechanisms </td> <td>1    </td> <td>1.66667</td>\n",
       "        </tr>\n",
       "        <tr>\n",
       "            <td>application</td> <td>1    </td> <td>1.66667</td>\n",
       "        </tr>\n",
       "        <tr>\n",
       "            <td>solving    </td> <td>1    </td> <td>1.66667</td>\n",
       "        </tr>\n",
       "        <tr>\n",
       "            <td>related    </td> <td>1    </td> <td>1.66667</td>\n",
       "        </tr>\n",
       "    </tbody>\n",
       "</table>\n",
       "<p>... (33 rows omitted)</p>"
      ],
      "text/plain": [
       "<IPython.core.display.HTML object>"
      ]
     },
     "metadata": {},
     "output_type": "display_data"
    }
   ],
   "source": [
    "Table().with_columns('word',word_dictionary_clean.keys(),'count',word_dictionary_clean.values(), \\\n",
    "                     'percent',percent_word).sort('count',descending=True).show(20)"
   ]
  },
  {
   "cell_type": "code",
   "execution_count": null,
   "metadata": {},
   "outputs": [],
   "source": []
  }
 ],
 "metadata": {
  "kernelspec": {
   "display_name": "Python 3 (ipykernel)",
   "language": "python",
   "name": "python3"
  },
  "language_info": {
   "codemirror_mode": {
    "name": "ipython",
    "version": 3
   },
   "file_extension": ".py",
   "mimetype": "text/x-python",
   "name": "python",
   "nbconvert_exporter": "python",
   "pygments_lexer": "ipython3",
   "version": "3.10.11"
  }
 },
 "nbformat": 4,
 "nbformat_minor": 4
}
