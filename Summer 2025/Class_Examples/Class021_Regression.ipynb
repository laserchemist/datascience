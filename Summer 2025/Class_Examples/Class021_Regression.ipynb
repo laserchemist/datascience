{
 "cells": [
  {
   "cell_type": "markdown",
   "metadata": {},
   "source": [
    "### Regression Analysis\n",
    "Elements Of Data Science"
   ]
  },
  {
   "cell_type": "code",
   "execution_count": null,
   "metadata": {
    "tags": []
   },
   "outputs": [],
   "source": [
    "# Import Numpy and Datascience modules.\n",
    "import numpy as np\n",
    "from datascience import *\n",
    "import pandas as pd\n",
    "\n",
    "# Plotting \n",
    "import matplotlib\n",
    "%matplotlib inline\n",
    "import matplotlib.pyplot as plt\n",
    "plt.style.use('fivethirtyeight')\n",
    "import warnings\n",
    "warnings.simplefilter('ignore', UserWarning)\n",
    "import collections as collections\n",
    "import collections.abc as abc\n",
    "collections.Iterable = abc.Iterable"
   ]
  },
  {
   "cell_type": "markdown",
   "metadata": {
    "tags": []
   },
   "source": [
    "### Correlation"
   ]
  },
  {
   "cell_type": "code",
   "execution_count": null,
   "metadata": {
    "tags": []
   },
   "outputs": [],
   "source": [
    "faithful = Table.read_table(\"../Lab08/faithful-new.csv\")"
   ]
  },
  {
   "cell_type": "code",
   "execution_count": null,
   "metadata": {
    "tags": []
   },
   "outputs": [],
   "source": [
    "faithful.stats() "
   ]
  },
  {
   "cell_type": "code",
   "execution_count": null,
   "metadata": {
    "tags": []
   },
   "outputs": [],
   "source": [
    "faithful.scatter('duration','wait')"
   ]
  },
  {
   "cell_type": "code",
   "execution_count": null,
   "metadata": {
    "tags": []
   },
   "outputs": [],
   "source": [
    "# Now plot\n",
    "plt.style.use('ggplot')\n",
    "plt.scatter(faithful.column('duration'),faithful.column('wait'))\n",
    "#faithful.scatter('duration','wait') #\n",
    "plt.title(\"Old Faithful\")\n",
    "plt.xlabel(\"duration (minutes)\")\n",
    "plt.ylabel(\"wait (minutes)\")\n",
    "plt.savefig(\"scatter.png\") # Helpful way to save figure\n",
    "plt.show()"
   ]
  },
  {
   "cell_type": "markdown",
   "metadata": {},
   "source": [
    "***\n",
    "Standard Units\n",
    "***\n",
    "$\\bar{x}$=mean$(x)$<br>\n",
    "<br>variance=mean$((x-\\bar{x})^2)$<br>\n",
    "<br>SD = $\\sqrt{<(x-\\bar{x})^2>}$<br>\n",
    "<br>Z = ${\\frac{(x-\\bar{x})}{SD}}$"
   ]
  },
  {
   "cell_type": "code",
   "execution_count": null,
   "metadata": {
    "tags": []
   },
   "outputs": [],
   "source": [
    "duration_mean =  np.mean(faithful[\"duration\"])\n",
    "duration_std = np.std(faithful.column(\"duration\"))\n",
    "wait_mean =  np.mean(faithful.column(\"wait\"))\n",
    "wait_std = np.std(faithful.column(\"wait\"))\n",
    "\n",
    "faithful_standard = Table().with_columns(\n",
    "    \"duration (standard units)\", (faithful.column(\"duration\") - duration_mean) / duration_std,\n",
    "    \"wait (standard units)\", (faithful.column(\"wait\") - wait_mean) / wait_std)\n",
    "faithful_standard"
   ]
  },
  {
   "cell_type": "code",
   "execution_count": null,
   "metadata": {
    "tags": []
   },
   "outputs": [],
   "source": [
    "faithful_standard.scatter(\"duration (standard units)\",'wait (standard units)')"
   ]
  },
  {
   "cell_type": "code",
   "execution_count": null,
   "metadata": {
    "tags": []
   },
   "outputs": [],
   "source": [
    "faithful_standard.hist('wait (standard units)')"
   ]
  },
  {
   "cell_type": "code",
   "execution_count": null,
   "metadata": {},
   "outputs": [],
   "source": []
  },
  {
   "cell_type": "code",
   "execution_count": null,
   "metadata": {
    "tags": []
   },
   "outputs": [],
   "source": [
    "np.round(np.mean(faithful_standard[\"wait (standard units)\"]),5)"
   ]
  },
  {
   "cell_type": "code",
   "execution_count": null,
   "metadata": {
    "tags": []
   },
   "outputs": [],
   "source": [
    "np.round(np.std(faithful_standard[\"duration (standard units)\"]),5)"
   ]
  },
  {
   "cell_type": "code",
   "execution_count": null,
   "metadata": {
    "tags": []
   },
   "outputs": [],
   "source": [
    "faithful_standard.scatter(\"duration (standard units)\", \"wait (standard units)\")"
   ]
  },
  {
   "cell_type": "code",
   "execution_count": null,
   "metadata": {
    "tags": []
   },
   "outputs": [],
   "source": [
    "r = ..."
   ]
  },
  {
   "cell_type": "code",
   "execution_count": null,
   "metadata": {
    "tags": []
   },
   "outputs": [],
   "source": [
    "r = np.mean(faithful_standard[\"duration (standard units)\"]*faithful_standard[\"wait (standard units)\"])\n",
    "r "
   ]
  },
  {
   "cell_type": "code",
   "execution_count": null,
   "metadata": {
    "tags": []
   },
   "outputs": [],
   "source": [
    "def plot_data_and_line(dataset, x, y, point_0, point_1):\n",
    "    \"\"\"Makes a scatter plot of the dataset, along with a line passing through two points. x and y are strings containing column labels\"\"\"\n",
    "    xdata = dataset.column(x)\n",
    "    ydata = dataset.column(y)\n",
    "    plt.scatter(xdata, ydata, label=\"data\")\n",
    "    xs, ys = zip(point_0, point_1)\n",
    "    plt.plot(xs, ys, label=\"regression line\")\n",
    "    plt.legend(bbox_to_anchor=(1.5,.8))"
   ]
  },
  {
   "cell_type": "code",
   "execution_count": null,
   "metadata": {
    "tags": []
   },
   "outputs": [],
   "source": [
    "plot_data_and_line(faithful_standard, \n",
    "                   \"duration (standard units)\", \n",
    "                   \"wait (standard units)\", \n",
    "                   [-2, -2*r], \n",
    "                   [2, 2*r])"
   ]
  },
  {
   "cell_type": "code",
   "execution_count": null,
   "metadata": {},
   "outputs": [],
   "source": []
  },
  {
   "cell_type": "markdown",
   "metadata": {},
   "source": [
    "### Alcohol boiling point data"
   ]
  },
  {
   "cell_type": "code",
   "execution_count": null,
   "metadata": {
    "tags": []
   },
   "outputs": [],
   "source": [
    "data_file = '../Lab08/ROH_data.csv'\n",
    "ROH_data = Table().read_table(data_file)\n",
    "ROH_data"
   ]
  },
  {
   "cell_type": "code",
   "execution_count": null,
   "metadata": {
    "tags": []
   },
   "outputs": [],
   "source": [
    "ROH_data.scatter('MW','bp')"
   ]
  },
  {
   "cell_type": "code",
   "execution_count": null,
   "metadata": {
    "tags": []
   },
   "outputs": [],
   "source": [
    "def standard_units(xyz):\n",
    "    \"Convert any array of numbers to standard units.\"\n",
    "    return (xyz - np.mean(xyz))/np.std(xyz)  \n",
    "def correlation(t, label_x, label_y):\n",
    "    return np.mean(standard_units(t.column(label_x))*standard_units(t.column(label_y)))\n",
    "# Regression\n",
    "def slope(t, label_x, label_y):\n",
    "    r = correlation(t, label_x, label_y)\n",
    "    return r*np.std(t.column(label_y))/np.std(t.column(label_x))\n",
    "def intercept(t, label_x, label_y):\n",
    "    return np.mean(t.column(label_y)) - slope(t, label_x, label_y)*np.mean(t.column(label_x))"
   ]
  },
  {
   "cell_type": "code",
   "execution_count": null,
   "metadata": {
    "tags": []
   },
   "outputs": [],
   "source": [
    "r = np.mean(standard_units(ROH_data.column('MW'))*standard_units(ROH_data['bp']))\n",
    "r"
   ]
  },
  {
   "cell_type": "code",
   "execution_count": null,
   "metadata": {
    "tags": []
   },
   "outputs": [],
   "source": [
    "slope(ROH_data,'MW','bp')"
   ]
  },
  {
   "cell_type": "markdown",
   "metadata": {
    "tags": []
   },
   "source": [
    "#### Slope\n",
    "***\n",
    "\n",
    "slope of the regression line $= r \\cdot\n",
    "\\frac{SD_y}{SD_x}$<br>\n",
    "intercept of the regression line $=\n",
    "\\bar{y} - slope \\cdot \\bar{x}$\n"
   ]
  },
  {
   "cell_type": "markdown",
   "metadata": {},
   "source": [
    "## Variability of the Sample Mean\n",
    "\n",
    "By the Central Limit Theorem, the probability distribution of the mean of a large random sample is roughly normal. The bell curve is centered at the population mean.\n",
    "\n",
    "<img src='sampling_mean.png' width=\"500\" height=\"340\">"
   ]
  },
  {
   "cell_type": "markdown",
   "metadata": {},
   "source": [
    "### Variability of meaning with Philadelphia voting data"
   ]
  },
  {
   "cell_type": "code",
   "execution_count": null,
   "metadata": {
    "tags": []
   },
   "outputs": [],
   "source": [
    "pres_ward_PHL_2020 = Table().read_table('data/pres_ward_PHL_2020.csv')"
   ]
  },
  {
   "cell_type": "code",
   "execution_count": null,
   "metadata": {
    "tags": []
   },
   "outputs": [],
   "source": [
    "pres_ward_PHL_2020.select('WARD','Registered Voters*','% turnout')"
   ]
  },
  {
   "cell_type": "code",
   "execution_count": null,
   "metadata": {
    "tags": []
   },
   "outputs": [],
   "source": [
    "pres_ward_PHL_2020.hist('% turnout')\n",
    "plt.title('Philadelphia 2020 Presidential turnout by ward')\n",
    "plt.vlines(np.mean(pres_ward_PHL_2020.column('% turnout')),0,.04, label='mean % turnout '+str(round(np.mean(pres_ward_PHL_2020.column('% turnout')),1))+'%')\n",
    "plt.legend(loc='best')\n",
    "plt.savefig('2020_turnout.png', bbox_inches='tight')"
   ]
  },
  {
   "cell_type": "code",
   "execution_count": null,
   "metadata": {
    "tags": []
   },
   "outputs": [],
   "source": [
    "sample_PHL_2020 = pres_ward_PHL_2020.sample()\n",
    "sample_PHL_2020.hist('% turnout')\n",
    "plt.title('Philadelphia 2020 Presidential turnout by ward, sample')\n",
    "plt.vlines(np.mean(sample_PHL_2020.column('% turnout')),0,.04, label='mean % turnout '+str(round(np.mean(sample_PHL_2020.column('% turnout')),1))+'%')\n",
    "plt.legend(loc='best')\n",
    "plt.savefig('2020_turnout.png', bbox_inches='tight')"
   ]
  },
  {
   "cell_type": "markdown",
   "metadata": {},
   "source": [
    "### Bootstrap sampling"
   ]
  },
  {
   "cell_type": "code",
   "execution_count": null,
   "metadata": {
    "tags": []
   },
   "outputs": [],
   "source": [
    "means = []\n",
    "for i in np.arange(1000):\n",
    "    new_sample = pres_ward_PHL_2020.sample()\n",
    "    new_sample_mean = np.mean(new_sample.column('% turnout'))\n",
    "    means.append(new_sample_mean)"
   ]
  },
  {
   "cell_type": "code",
   "execution_count": null,
   "metadata": {
    "tags": []
   },
   "outputs": [],
   "source": [
    "plt.hist(np.array(means),bins=25, label='% turnout mean')\n",
    "plt.xlabel('% turnout')\n",
    "plt.xlim(50,75)\n",
    "plt.title('Bootstrap sampled mean turnout')\n",
    "plt.legend(loc='best')\n",
    "plt.savefig('2020_turnout_mean.png', bbox_inches='tight')"
   ]
  },
  {
   "cell_type": "markdown",
   "metadata": {},
   "source": [
    "#### Empirical distribution of random sample means"
   ]
  },
  {
   "cell_type": "code",
   "execution_count": null,
   "metadata": {},
   "outputs": [],
   "source": [
    "def simulate_sample_mean(table, label, sample_size, repetitions):\n",
    "    \n",
    "    means = []\n",
    "\n",
    "    for i in np.arange(repetitions):\n",
    "        new_sample = np.random.choice(table.column(label), sample_size)\n",
    "        new_sample_mean = np.mean(new_sample)\n",
    "        means.append(new_sample_mean)\n",
    "\n",
    "    sample_means = Table().with_column('Sample Means', means)\n",
    "    \n",
    "    # Display empirical histogram and print all relevant quantities – don't change this!\n",
    "    fig, ax = plt.subplots()\n",
    "    ax.hist(means, bins=20)\n",
    "    plt.xlabel('Sample Means')\n",
    "    plt.title('Sample Size ' + str(sample_size))\n",
    "    \n",
    "    textstr = '\\n'.join((\n",
    "    r'SampleSize=' % (sample_size, ),\n",
    "    r'PopulationMean=' % (np.mean(table.column(label)), ),\n",
    "    r'AverageOfSampleMeans=' % (np.mean(means), ), \n",
    "    r'PopulationSD=' % (np.std(table.column(label)), ),\n",
    "    r'SDOfSampleMeans=' % (np.std(means), )))\n",
    "\n",
    "    # these are matplotlib.patch.Patch properties\n",
    "    props = dict(boxstyle='round', facecolor='wheat', alpha=0.5)\n",
    "\n",
    "    # place a text box in upper left in axes coords\n",
    "    ax.text(0.95, 0.75, textstr, transform=ax.transAxes, fontsize=14,\n",
    "            verticalalignment='top', bbox=props)\n",
    "    \n",
    "    return means"
   ]
  },
  {
   "cell_type": "markdown",
   "metadata": {},
   "source": [
    "### Bootstrap: [Inferential Thinking](https://inferentialthinking.com/chapters/13/2/Bootstrap.html?highlight=bootstrap#the-bootstrap)"
   ]
  },
  {
   "cell_type": "markdown",
   "metadata": {},
   "source": [
    "#### Correlation and regression tools"
   ]
  },
  {
   "cell_type": "code",
   "execution_count": null,
   "metadata": {},
   "outputs": [],
   "source": [
    "def standard_units(xyz):\n",
    "    \"Convert any array of numbers to standard units.\"\n",
    "    return (xyz - np.mean(xyz))/np.std(xyz)  \n",
    "def correlation(t, label_x, label_y):\n",
    "    return np.mean(standard_units(t.column(label_x))*standard_units(t.column(label_y)))\n",
    "# Regression\n",
    "def slope(t, label_x, label_y):\n",
    "    r = correlation(t, label_x, label_y)\n",
    "    return r*np.std(t.column(label_y))/np.std(t.column(label_x))\n",
    "def intercept(t, label_x, label_y):\n",
    "    return np.mean(t.column(label_y)) - slope(t, label_x, label_y)*np.mean(t.column(label_x))"
   ]
  },
  {
   "cell_type": "markdown",
   "metadata": {},
   "source": [
    "##### Apply tools to hybrid car data"
   ]
  },
  {
   "cell_type": "code",
   "execution_count": null,
   "metadata": {},
   "outputs": [],
   "source": [
    "import pandas as pd\n",
    "url = \"hybrid_reg.csv\"\n",
    "hybrid_df = pd.read_csv(url)\n",
    "hybrid_T = Table.from_df(hybrid_df) # Reading and converting using pandas dataframe\n",
    "hybrid = Table.read_table(url)\n",
    "hybrid\n",
    "hybrid_T"
   ]
  },
  {
   "cell_type": "code",
   "execution_count": null,
   "metadata": {},
   "outputs": [],
   "source": [
    "hybrid.scatter('accelrate', 'msrp')"
   ]
  },
  {
   "cell_type": "code",
   "execution_count": null,
   "metadata": {},
   "outputs": [],
   "source": [
    "hybrid.scatter('mpg', 'msrp')"
   ]
  },
  {
   "cell_type": "code",
   "execution_count": null,
   "metadata": {},
   "outputs": [],
   "source": [
    "plt.scatter(standard_units(hybrid.column('accelrate')), standard_units(hybrid.column('msrp')), label=\"data\")"
   ]
  },
  {
   "cell_type": "code",
   "execution_count": null,
   "metadata": {},
   "outputs": [],
   "source": [
    "def plot_data_and_regress(dataset, x, y):\n",
    "    \"\"\"Makes a scatter plot of the dataset, and a regression line.\"\"\"\n",
    "    xdata, ydata = dataset.column(x), dataset.column(y)\n",
    "    plt.scatter(standard_units(xdata), standard_units(ydata), label=\"data in standard units\")\n",
    "    r = correlation(dataset,x,y)\n",
    "    print(\"Correlation, r: \",np.round(r,6))\n",
    "    slp = np.round(slope(dataset,x,y))\n",
    "    print('Slope of Regression Line:    ', slp, 'y per x')\n",
    "    intercp = np.round(intercept(dataset,x,y))\n",
    "    print('Intercept of Regression Line:', intercp, 'y')\n",
    "    xs, ys = zip([-2, -2*r], [2, 2*r])\n",
    "    plt.plot(xs, ys, 'r',label=\"regression line\")\n",
    "    plt.legend(bbox_to_anchor=(1.0,.8))\n",
    "    dataset.scatter(x,y, label=\"data in original units\")\n",
    "    xs, ys = zip([xdata.min(), xdata.min()*slp+intercp], [xdata.max(), xdata.max()*slp+intercp])\n",
    "    plt.plot(xs, ys, 'g',label=\"regression line\")\n",
    "    plt.legend(bbox_to_anchor=(1.07,0.8))"
   ]
  },
  {
   "cell_type": "code",
   "execution_count": null,
   "metadata": {
    "scrolled": true
   },
   "outputs": [],
   "source": [
    "plot_data_and_regress(hybrid,'accelrate','msrp')"
   ]
  },
  {
   "cell_type": "code",
   "execution_count": null,
   "metadata": {},
   "outputs": [],
   "source": [
    "def rmse(dataset,x,y):\n",
    "    xdata, ydata = dataset.column(x), dataset.column(y)\n",
    "    slp = np.round(slope(dataset,x,y))\n",
    "    print('Slope of Regression Line:    ', slp, 'y per x')\n",
    "    intercp = np.round(intercept(dataset,x,y))\n",
    "    print('Intercept of Regression Line:', intercp, 'y')\n",
    "    fitted = slp * xdata + intercp\n",
    "    mse = np.mean((ydata - fitted) ** 2)\n",
    "    print(\"Root mean squared error:\", mse ** 0.5)"
   ]
  },
  {
   "cell_type": "code",
   "execution_count": null,
   "metadata": {},
   "outputs": [],
   "source": [
    "rmse(hybrid,'accelrate','msrp')"
   ]
  },
  {
   "cell_type": "code",
   "execution_count": null,
   "metadata": {},
   "outputs": [],
   "source": [
    "def lw_mse(any_slope, any_intercept):\n",
    "    x = little_women.column('Periods')\n",
    "    y = little_women.column('Characters')\n",
    "    fitted = any_slope*x + any_intercept\n",
    "    return np.mean((y - fitted) ** 2)"
   ]
  },
  {
   "cell_type": "code",
   "execution_count": null,
   "metadata": {},
   "outputs": [],
   "source": [
    "def lw_mse(any_slope,any_intercept):\n",
    "    xdata, ydata = hybrid.column('accelrate'), hybrid.column('msrp')\n",
    "    fitted = any_slope * xdata + any_intercept\n",
    "    mse = np.mean((ydata - fitted) ** 2)\n",
    "    print(\"Root mean squared error:\", mse ** 0.5)\n",
    "    return mse"
   ]
  },
  {
   "cell_type": "code",
   "execution_count": null,
   "metadata": {},
   "outputs": [],
   "source": [
    "best = minimize(lw_mse)\n",
    "best"
   ]
  },
  {
   "cell_type": "markdown",
   "metadata": {},
   "source": [
    "### Values from minimization and regression\n",
    "### Minimization\n",
    "any_slope = 4704.56749136  any_intercept = -16588.5276729\n",
    "### Regression\n",
    "Slope of Regression Line:     5068.0 y per x\n",
    "Intercept of Regression Line: -21282.0 y"
   ]
  },
  {
   "cell_type": "code",
   "execution_count": null,
   "metadata": {},
   "outputs": [],
   "source": []
  }
 ],
 "metadata": {
  "kernelspec": {
   "display_name": "Python 3 (ipykernel)",
   "language": "python",
   "name": "python3"
  },
  "language_info": {
   "codemirror_mode": {
    "name": "ipython",
    "version": 3
   },
   "file_extension": ".py",
   "mimetype": "text/x-python",
   "name": "python",
   "nbconvert_exporter": "python",
   "pygments_lexer": "ipython3",
   "version": "3.9.19"
  }
 },
 "nbformat": 4,
 "nbformat_minor": 4
}
