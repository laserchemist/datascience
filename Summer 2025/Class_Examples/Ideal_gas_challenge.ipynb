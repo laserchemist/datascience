{
 "cells": [
  {
   "cell_type": "markdown",
   "id": "2b231cd3-d83b-41f5-b464-19b0f035b885",
   "metadata": {},
   "source": [
    "## Group Challenge: Code an ideal gas II\n",
    "lists"
   ]
  },
  {
   "cell_type": "markdown",
   "id": "0ea9e5eb-c013-4e8a-8e70-026c5486244a",
   "metadata": {},
   "source": [
    "An ideal gas is the simplest description of the way gas molecules and atoms interact and the relationship between temperature, volume, pressure, and number of molecules. See:[Open Stax](https://openstax.org/books/chemistry-atoms-first-2e/pages/8-2-relating-pressure-volume-amount-and-temperature-the-ideal-gas-law)\n",
    "P V = n R T \n",
    "<br> <br>\n",
    "P = pressure in atm <br>\n",
    "V = volume in liter <br>\n",
    "n = number of moles <br>\n",
    "R = gas constant = 0.082057 L atm / mol K <br>\n",
    "T = temperature in Kelvin"
   ]
  },
  {
   "cell_type": "markdown",
   "id": "0c09e091-c958-481c-85ef-665a381f1750",
   "metadata": {},
   "source": [
    "Challenge: Compute the volume of 1 mole of gas at 1 atm and the follwing temperatures T = 298 K (room remperature), 310 K, 273 K"
   ]
  },
  {
   "cell_type": "code",
   "execution_count": 16,
   "id": "f2a38c20-cfee-461d-b1be-3110fcdfceb4",
   "metadata": {},
   "outputs": [],
   "source": [
    "T = [273, 298, 310]"
   ]
  },
  {
   "cell_type": "code",
   "execution_count": 17,
   "id": "0c9d8a9b-34ce-4a1b-83ec-b7005555d05a",
   "metadata": {},
   "outputs": [],
   "source": [
    "P = 1.0\n",
    "n = 1.0\n",
    "R = 0.082057\n",
    "\n"
   ]
  },
  {
   "cell_type": "code",
   "execution_count": 18,
   "id": "f5c7e809-45ac-4b47-a066-7d1fe5713d08",
   "metadata": {},
   "outputs": [],
   "source": [
    "V = [str(n*R*temp/P)+'L' for temp in T]"
   ]
  },
  {
   "cell_type": "code",
   "execution_count": 19,
   "id": "96aa4b39-a673-4538-be73-a45484eff58e",
   "metadata": {},
   "outputs": [
    {
     "data": {
      "text/plain": [
       "['22.401561L', '24.452986000000003L', '25.43767L']"
      ]
     },
     "execution_count": 19,
     "metadata": {},
     "output_type": "execute_result"
    }
   ],
   "source": [
    "V"
   ]
  },
  {
   "cell_type": "markdown",
   "id": "dada95d2-a798-4df7-abc3-11a9f700b809",
   "metadata": {},
   "source": [
    "Now make larger list using np.arange"
   ]
  },
  {
   "cell_type": "code",
   "execution_count": 8,
   "id": "77a5c28c-6b5a-4b61-b801-9ce4e0a4dbf4",
   "metadata": {},
   "outputs": [],
   "source": [
    "import numpy as np"
   ]
  },
  {
   "cell_type": "code",
   "execution_count": 21,
   "id": "c6073fc3-8b50-4e1b-a845-d3170c9c3e79",
   "metadata": {},
   "outputs": [
    {
     "data": {
      "text/plain": [
       "[200,\n",
       " 210,\n",
       " 220,\n",
       " 230,\n",
       " 240,\n",
       " 250,\n",
       " 260,\n",
       " 270,\n",
       " 280,\n",
       " 290,\n",
       " 300,\n",
       " 310,\n",
       " 320,\n",
       " 330,\n",
       " 340,\n",
       " 350,\n",
       " 360,\n",
       " 370,\n",
       " 380,\n",
       " 390]"
      ]
     },
     "execution_count": 21,
     "metadata": {},
     "output_type": "execute_result"
    }
   ],
   "source": [
    "T =list(np.arange(200,400,10))\n",
    "T"
   ]
  },
  {
   "cell_type": "code",
   "execution_count": 22,
   "id": "a97250fc-bb0a-4ba7-acd3-4813b8212b88",
   "metadata": {},
   "outputs": [
    {
     "data": {
      "text/plain": [
       "['16.4114L',\n",
       " '17.23197L',\n",
       " '18.05254L',\n",
       " '18.87311L',\n",
       " '19.69368L',\n",
       " '20.51425L',\n",
       " '21.33482L',\n",
       " '22.15539L',\n",
       " '22.97596L',\n",
       " '23.79653L',\n",
       " '24.6171L',\n",
       " '25.43767L',\n",
       " '26.25824L',\n",
       " '27.07881L',\n",
       " '27.89938L',\n",
       " '28.71995L',\n",
       " '29.54052L',\n",
       " '30.36109L',\n",
       " '31.18166L',\n",
       " '32.002230000000004L']"
      ]
     },
     "execution_count": 22,
     "metadata": {},
     "output_type": "execute_result"
    }
   ],
   "source": [
    "V = [str(n*R*temp/P)+'L' for temp in T]\n",
    "V"
   ]
  },
  {
   "cell_type": "code",
   "execution_count": 23,
   "id": "2c1f8581-d0af-4b4b-ac60-7c248c59cee8",
   "metadata": {},
   "outputs": [],
   "source": [
    "T = [str(temp)+'K' for temp in T]"
   ]
  },
  {
   "cell_type": "code",
   "execution_count": 24,
   "id": "b321b1d2-8c67-444f-aeb7-bed8cdd31ae8",
   "metadata": {},
   "outputs": [
    {
     "data": {
      "text/plain": [
       "['200K',\n",
       " '210K',\n",
       " '220K',\n",
       " '230K',\n",
       " '240K',\n",
       " '250K',\n",
       " '260K',\n",
       " '270K',\n",
       " '280K',\n",
       " '290K',\n",
       " '300K',\n",
       " '310K',\n",
       " '320K',\n",
       " '330K',\n",
       " '340K',\n",
       " '350K',\n",
       " '360K',\n",
       " '370K',\n",
       " '380K',\n",
       " '390K']"
      ]
     },
     "execution_count": 24,
     "metadata": {},
     "output_type": "execute_result"
    }
   ],
   "source": [
    "T"
   ]
  },
  {
   "cell_type": "code",
   "execution_count": 26,
   "id": "eb11053c-01f2-4b6b-8ce1-5c41f2a7949d",
   "metadata": {},
   "outputs": [
    {
     "data": {
      "text/plain": [
       "'16.41L, 200K'"
      ]
     },
     "execution_count": 26,
     "metadata": {},
     "output_type": "execute_result"
    }
   ],
   "source": [
    "gasdata = '24.6171L, 300K'\n",
    "gasdata"
   ]
  },
  {
   "cell_type": "code",
   "execution_count": null,
   "id": "ffc642c5-6d84-4e0a-8d78-a008e0e50ee6",
   "metadata": {},
   "outputs": [],
   "source": []
  }
 ],
 "metadata": {
  "kernelspec": {
   "display_name": "Python 3 (ipykernel)",
   "language": "python",
   "name": "python3"
  },
  "language_info": {
   "codemirror_mode": {
    "name": "ipython",
    "version": 3
   },
   "file_extension": ".py",
   "mimetype": "text/x-python",
   "name": "python",
   "nbconvert_exporter": "python",
   "pygments_lexer": "ipython3",
   "version": "3.9.12"
  }
 },
 "nbformat": 4,
 "nbformat_minor": 5
}
