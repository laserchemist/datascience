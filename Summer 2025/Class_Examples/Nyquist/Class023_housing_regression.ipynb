{
 "cells": [
  {
   "cell_type": "markdown",
   "id": "ccf7e952-a369-4af9-958a-52b1b335c471",
   "metadata": {},
   "source": [
    "# Linear Regression: Predicting House Rental Prices\n",
    "\n",
    "This example parallels [Chapter 16 in Inferential Thinking](https://inferentialthinking.com/chapters/16/Inference_for_Regression.html)"
   ]
  },
  {
   "cell_type": "code",
   "execution_count": null,
   "id": "d3e999e9-d0d3-402d-bda9-4a53540bcc27",
   "metadata": {
    "tags": []
   },
   "outputs": [],
   "source": [
    "import numpy as np\n",
    "from datascience import *\n",
    "%matplotlib inline\n",
    "import matplotlib.pyplot as plt\n",
    "plt.style.use('ggplot')"
   ]
  },
  {
   "cell_type": "markdown",
   "id": "cdf54b3c-63d8-4eff-9241-37733cbcbba5",
   "metadata": {},
   "source": [
    "**The following description is copied from this [Kaggle dataset](https://www.kaggle.com/datasets/iamsouravbanerjee/house-rent-prediction-dataset/data)**\n",
    "\n",
    "### Context\n",
    "The spectrum of housing options in India is incredibly diverse, spanning from the opulent palaces once inhabited by maharajas of yore, to the contemporary high-rise apartment complexes in bustling metropolitan areas, and even to the humble abodes in remote villages, consisting of modest huts. This wide-ranging tapestry of residential choices reflects the significant expansion witnessed in India's housing sector, which has paralleled the upward trajectory of income levels in the country. According to the findings of the Human Rights Measurement Initiative, India currently achieves 60.9% of what is theoretically attainable, considering its current income levels, in ensuring the fundamental right to housing for its citizens. In the realm of housing arrangements, renting, known interchangeably as hiring or letting, constitutes an agreement wherein compensation is provided for the temporary utilization of a resource, service, or property owned by another party. Within this arrangement, a gross lease is one where the tenant is obligated to pay a fixed rental amount, and the landlord assumes responsibility for covering all ongoing property-related expenses. The concept of renting also aligns with the principles of the sharing economy, as it fosters the utilization of assets and resources among individuals or entities, promoting efficiency and access to housing solutions for a broad spectrum of individuals.\n",
    "\n",
    "### Content\n",
    "Within this dataset, you will find a comprehensive collection of data pertaining to nearly 4700+ available residential properties, encompassing houses, apartments, and flats offered for rent. This dataset is rich with various attributes, including the number of bedrooms (BHK), rental rates, property size, number of floors, area type, locality, city, furnishing status, tenant preferences, bathroom count, and contact information for the respective point of contact.\n",
    "\n",
    "### Dataset Glossary (Column-Wise)\n",
    "* BHK: Number of Bedrooms, Hall, Kitchen.\n",
    "* Rent: Rent of the Houses/Apartments/Flats.\n",
    "* Size: Size of the Houses/Apartments/Flats in Square Feet.\n",
    "* Floor: Houses/Apartments/Flats situated in which Floor and Total Number of Floors (Example: Ground out of 2, 3 out of 5, etc.)\n",
    "* Area Type: Size of the Houses/Apartments/Flats calculated on either Super Area or Carpet Area or Build Area.\n",
    "* Area Locality: Locality of the Houses/Apartments/Flats.\n",
    "* City: City where the Houses/Apartments/Flats are Located.\n",
    "* Furnishing Status: Furnishing Status of the Houses/Apartments/Flats, either it is Furnished or Semi-Furnished or Unfurnished.\n",
    "* Tenant Preferred: Type of Tenant Preferred by the Owner or Agent.\n",
    "* Bathroom: Number of Bathrooms.\n",
    "* Point of Contact: Whom should you contact for more information regarding the Houses/Apartments/Flats."
   ]
  },
  {
   "cell_type": "code",
   "execution_count": null,
   "id": "3b2a7351-c70b-48c8-ac44-ba1c9c3c9ae3",
   "metadata": {
    "tags": []
   },
   "outputs": [],
   "source": [
    "# Load the Data\n",
    "house = Table().read_table('data/House_Rent_Dataset.csv')\n",
    "house"
   ]
  },
  {
   "cell_type": "code",
   "execution_count": null,
   "id": "b7177067-9a89-45d7-89ce-f24079e33ad6",
   "metadata": {
    "tags": []
   },
   "outputs": [],
   "source": [
    "house.stats()"
   ]
  },
  {
   "cell_type": "code",
   "execution_count": null,
   "id": "ce0de17f-66d4-410b-bbbb-ffdf44c4edd9",
   "metadata": {
    "tags": []
   },
   "outputs": [],
   "source": [
    "# Explore likely predictor of rental price: the size of the house\n",
    "plt.scatter(house['Size'], house['Rent'])\n",
    "plt.xlabel('Size')\n",
    "plt.ylabel('Rent');"
   ]
  },
  {
   "cell_type": "code",
   "execution_count": null,
   "id": "a8ba07d9-ba4f-496e-b840-b7cb7432af2b",
   "metadata": {
    "tags": []
   },
   "outputs": [],
   "source": [
    "np.unique(house.column('City'))"
   ]
  },
  {
   "cell_type": "code",
   "execution_count": null,
   "id": "78fca8a0-2cdc-489f-bc1c-2556c81d8335",
   "metadata": {
    "tags": []
   },
   "outputs": [],
   "source": [
    "# Choose a particular city. Prices probably vary by city.\n",
    "kolkata = house.where('City', are.equal_to('Kolkata'))\n",
    "plt.scatter(kolkata['Size'], kolkata['Rent'])\n",
    "plt.xlabel('Size')\n",
    "plt.ylabel('Rent');"
   ]
  },
  {
   "cell_type": "code",
   "execution_count": null,
   "id": "63b3c30a-bf7a-46aa-a1df-389440d14ef6",
   "metadata": {
    "tags": []
   },
   "outputs": [],
   "source": [
    "# Remove the one extreme outlier. \n",
    "# Though it might be interesting to know why this small a house rents to high\n",
    "kolkata = kolkata.where('Rent', are.below(100000))\n",
    "plt.scatter(kolkata['Size'], kolkata['Rent'])\n",
    "plt.xlabel('Size')\n",
    "plt.ylabel('Rent');"
   ]
  },
  {
   "cell_type": "markdown",
   "id": "0be6de3b-ea51-416a-b92e-736ef67d3807",
   "metadata": {},
   "source": [
    "Clearly, there is a positive relationship between house size and rental price."
   ]
  },
  {
   "cell_type": "code",
   "execution_count": null,
   "id": "bd8c8a4d-3448-4f01-8d18-b7b4730a28d4",
   "metadata": {
    "tags": []
   },
   "outputs": [],
   "source": [
    "def standard_units(xyz):\n",
    "    \"Convert any array of numbers to standard units.\"\n",
    "    return (xyz - np.mean(xyz)) / np.std(xyz)\n",
    "\n",
    "\n",
    "def correlation(t, label_x, label_y):\n",
    "    return np.mean(\n",
    "        standard_units(t.column(label_x)) * standard_units(t.column(label_y))\n",
    "    )\n",
    "\n",
    "\n",
    "# Regression\n",
    "def slope(t, label_x, label_y):\n",
    "    r = correlation(t, label_x, label_y)\n",
    "    return r * np.std(t.column(label_y)) / np.std(t.column(label_x))\n",
    "\n",
    "\n",
    "def intercept(t, label_x, label_y):\n",
    "    return np.mean(t.column(label_y)) - slope(t, label_x, label_y) * np.mean(\n",
    "        t.column(label_x)\n",
    "    )\n",
    "\n",
    "def fit(table, x, y):\n",
    "    \"\"\"Return the height of the regression line at each x value.\"\"\"\n",
    "    a = slope(table, x, y)\n",
    "    b = intercept(table, x, y)\n",
    "    return a * table.column(x) + b"
   ]
  },
  {
   "cell_type": "code",
   "execution_count": null,
   "id": "cf4bc019-5eaa-4188-bf4b-08920b7bc072",
   "metadata": {
    "tags": []
   },
   "outputs": [],
   "source": [
    "# Find the correlation coefficient\n",
    "correlation(kolkata, \"Size\", \"Rent\")"
   ]
  },
  {
   "cell_type": "code",
   "execution_count": null,
   "id": "75581c23-1058-4b1d-a645-e4d69d420f3a",
   "metadata": {
    "tags": []
   },
   "outputs": [],
   "source": [
    "kolkata.scatter('Size', 'Rent')\n",
    "slp = slope(kolkata, 'Size', 'Rent')\n",
    "inter = intercept(kolkata,'Size','Rent')\n",
    "print(\"Slope: %4.2f Intercept:  %4.2f\" % (slp, inter))\n",
    "plt.scatter(0,inter)\n",
    "plt.plot(kolkata.column('Size'), fit(kolkata, 'Size', 'Rent'), lw=4, color='gold')\n",
    "plt.show()"
   ]
  },
  {
   "cell_type": "markdown",
   "id": "662a843d-0e7b-480d-9af8-66474270dd8f",
   "metadata": {},
   "source": [
    "## Bootstrap to find the confidence interval for the slope"
   ]
  },
  {
   "cell_type": "code",
   "execution_count": null,
   "id": "c1040f8b-321e-4ece-9f5e-aab9ed1a91b8",
   "metadata": {
    "tags": []
   },
   "outputs": [],
   "source": [
    "slopes = make_array()\n",
    "for i in np.arange(5000):\n",
    "    bootstrap_sample = kolkata.sample()\n",
    "    bootstrap_slope = slope(bootstrap_sample, 'Size', 'Rent')\n",
    "    slopes = np.append(slopes, bootstrap_slope)\n",
    "Table().with_column('Bootstrap Slopes', slopes).hist(bins=20)"
   ]
  },
  {
   "cell_type": "markdown",
   "id": "22607084-e804-49d2-a4e2-b8fc539c3354",
   "metadata": {},
   "source": [
    "## Find the 95% interval"
   ]
  },
  {
   "cell_type": "code",
   "execution_count": null,
   "id": "42d975e1-cd35-4667-af07-beec586869c8",
   "metadata": {
    "tags": []
   },
   "outputs": [],
   "source": [
    "left = percentile(2.5, slopes)\n",
    "right = percentile(97.5, slopes)\n",
    "left, right"
   ]
  },
  {
   "cell_type": "markdown",
   "id": "fd60d321-38a9-44b3-8569-4dbc7748ab08",
   "metadata": {},
   "source": [
    "## Prediction Interval\n",
    "\n",
    "Suppose we want to know the price we would predict for a house size of 1500 sq ft, along with the 95% confidence interval."
   ]
  },
  {
   "cell_type": "code",
   "execution_count": null,
   "id": "ed24ad2a-ebd2-4010-8959-4544153ef58f",
   "metadata": {
    "tags": []
   },
   "outputs": [],
   "source": [
    "def fitted_value(table, x, y, given_x):\n",
    "    a = slope(table, x, y)\n",
    "    b = intercept(table, x, y)\n",
    "    return a * given_x  + b"
   ]
  },
  {
   "cell_type": "code",
   "execution_count": null,
   "id": "d341ffd5-4bfc-48b3-a57c-6ea1362cd4cb",
   "metadata": {
    "tags": []
   },
   "outputs": [],
   "source": [
    "kolkata.scatter('Size', 'Rent')\n",
    "slp = slope(kolkata, 'Size', 'Rent')\n",
    "plt.scatter(0,inter)\n",
    "plt.plot(kolkata.column('Size'), fit(kolkata, 'Size', 'Rent'), lw=4, color='gold')\n",
    "plt.plot([1500, 1500], [0, fitted_value(kolkata, 'Size', 'Rent', 1500)], lw=4)\n",
    "plt.show()"
   ]
  },
  {
   "cell_type": "code",
   "execution_count": null,
   "id": "06df6d49-04eb-4fd4-bed3-a1942029f85b",
   "metadata": {
    "tags": []
   },
   "outputs": [],
   "source": [
    "# Bootstrap prediction of variable y at new_x\n",
    "# Data contained in table; prediction by regression of y based on x\n",
    "# repetitions = number of bootstrap replications of the original scatter plot\n",
    "\n",
    "def bootstrap_prediction(table, x, y, new_x, repetitions):\n",
    "    \n",
    "    # For each repetition:\n",
    "    # Bootstrap the scatter; \n",
    "    # get the regression prediction at new_x; \n",
    "    # augment the predictions list\n",
    "    predictions = make_array()\n",
    "    for i in np.arange(repetitions):\n",
    "        bootstrap_sample = table.sample()\n",
    "        bootstrap_prediction = fitted_value(bootstrap_sample, x, y, new_x)\n",
    "        predictions = np.append(predictions, bootstrap_prediction)\n",
    "        \n",
    "    # Find the ends of the approximate 95% prediction interval\n",
    "    left = percentile(2.5, predictions)\n",
    "    right = percentile(97.5, predictions)\n",
    "    \n",
    "    # Prediction based on original sample\n",
    "    original = fitted_value(table, x, y, new_x)\n",
    "    \n",
    "    # Display results\n",
    "    Table().with_column('Prediction', predictions).hist(bins=20)\n",
    "    plt.xlabel('predictions at x='+str(new_x))\n",
    "    plt.plot(make_array(left, right), make_array(0, 0), color='yellow', lw=8);\n",
    "    print('Height of regression line at x='+str(new_x)+':', original)\n",
    "    print('Approximate 95%-confidence interval:')\n",
    "    print(left, right)"
   ]
  },
  {
   "cell_type": "code",
   "execution_count": null,
   "id": "a57a1fc7-dc38-4eb5-bde3-648948fd4920",
   "metadata": {
    "tags": []
   },
   "outputs": [],
   "source": [
    "bootstrap_prediction(kolkata, 'Size', 'Rent', 1500, 5000)"
   ]
  },
  {
   "cell_type": "code",
   "execution_count": null,
   "id": "e1bbc56d-3006-4b3d-96b9-02ac57424512",
   "metadata": {
    "tags": []
   },
   "outputs": [],
   "source": [
    "kolkata.scatter('Size', 'Rent')\n",
    "slp = slope(kolkata, 'Size', 'Rent')\n",
    "plt.scatter(0,inter)\n",
    "plt.plot(kolkata.column('Size'), fit(kolkata, 'Size', 'Rent'), lw=4, color='gold')\n",
    "plt.plot([1500, 1500], [18172., 22654.], lw=4)\n",
    "plt.show()"
   ]
  },
  {
   "cell_type": "code",
   "execution_count": null,
   "id": "05c79d2c-28b3-4746-8663-3bfdc66d032c",
   "metadata": {},
   "outputs": [],
   "source": []
  }
 ],
 "metadata": {
  "kernelspec": {
   "display_name": "Python 3 (ipykernel)",
   "language": "python",
   "name": "python3"
  },
  "language_info": {
   "codemirror_mode": {
    "name": "ipython",
    "version": 3
   },
   "file_extension": ".py",
   "mimetype": "text/x-python",
   "name": "python",
   "nbconvert_exporter": "python",
   "pygments_lexer": "ipython3",
   "version": "3.10.11"
  }
 },
 "nbformat": 4,
 "nbformat_minor": 5
}
