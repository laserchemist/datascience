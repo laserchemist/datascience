{
 "cells": [
  {
   "cell_type": "code",
   "execution_count": null,
   "id": "fff2113c-271f-456b-a79a-6b3d2e2599c8",
   "metadata": {
    "tags": []
   },
   "outputs": [],
   "source": [
    "import numpy as np\n",
    "from datascience import *"
   ]
  },
  {
   "cell_type": "markdown",
   "id": "b80ad75e-b24f-4464-82f1-f08af20a5051",
   "metadata": {},
   "source": [
    "# Dictionaries\n",
    "\n",
    "Python has a number of built-in data structures. In this class we will be working mostly with arrays and datatables, however, there are other useful data structures you should know. One that doesn't come up as often as array in numerical analysis but is still important is the `dictionary.`\n",
    "\n",
    "A python dictionary consists of pairs of keys and values. You use the key to look up the corresponding value -- just like you look up a word in a physical dictionary (remember those?) to find its definition."
   ]
  },
  {
   "cell_type": "markdown",
   "id": "f7f579cb-5bb2-4780-81cd-c46d2c0668a6",
   "metadata": {},
   "source": [
    "## Creating dictionaries\n",
    "\n",
    "### Method 1"
   ]
  },
  {
   "cell_type": "code",
   "execution_count": null,
   "id": "b18bb81b-b85c-4edc-873b-d66c969c1276",
   "metadata": {
    "tags": []
   },
   "outputs": [],
   "source": [
    "student_ages = {\"Sally\":18, \"Mark\":21, \"Rashid\":20}\n",
    "student_ages"
   ]
  },
  {
   "cell_type": "markdown",
   "id": "9bfe437d-cc9c-4f21-910a-fc291b328cad",
   "metadata": {},
   "source": [
    "Notice the use of curly brackets.\n",
    "\n",
    "Now to find the `value` Rashid's age, we use the `key`."
   ]
  },
  {
   "cell_type": "code",
   "execution_count": null,
   "id": "8a6eb68c-cc1a-4a17-92b5-e694b243e22c",
   "metadata": {
    "tags": []
   },
   "outputs": [],
   "source": [
    "student_ages[\"Rashid\"]"
   ]
  },
  {
   "cell_type": "markdown",
   "id": "a0a58c8f-e0bf-4d7f-bfc7-cc3c228ca5a2",
   "metadata": {},
   "source": [
    "Notice that we used the usual square bracket to retrieve a value from a dictionary, the same as we do for lists and arrays.\n",
    "\n",
    "### Method 2\n",
    "Here is a second way to create a dictionary, using `dict().` Once again, you provide key, value pairs."
   ]
  },
  {
   "cell_type": "code",
   "execution_count": null,
   "id": "11fbf837-f89c-4c38-a199-d663bf2defcb",
   "metadata": {
    "tags": []
   },
   "outputs": [],
   "source": [
    "alice_info = dict(name=\"Alice\", age=30, city=\"New York\")\n",
    "alice_info"
   ]
  },
  {
   "cell_type": "code",
   "execution_count": null,
   "id": "b7c614c3-2060-4709-8b1f-495cca7c9de2",
   "metadata": {
    "tags": []
   },
   "outputs": [],
   "source": [
    "alice_info['city']"
   ]
  },
  {
   "cell_type": "markdown",
   "id": "72b703e5-889d-40ec-b2e2-fe5ecce5d214",
   "metadata": {},
   "source": [
    "## Retrieving keys and values"
   ]
  },
  {
   "cell_type": "code",
   "execution_count": null,
   "id": "e5818f18-9510-488e-b562-5320ee924faf",
   "metadata": {
    "tags": []
   },
   "outputs": [],
   "source": [
    "# Here are all of the dictionary keys\n",
    "alice_info.keys()"
   ]
  },
  {
   "cell_type": "code",
   "execution_count": null,
   "id": "1ddd9b13-091f-4ac7-9440-7849f0d5074a",
   "metadata": {
    "tags": []
   },
   "outputs": [],
   "source": [
    "# And here are all of the values\n",
    "alice_info.values()"
   ]
  },
  {
   "cell_type": "markdown",
   "id": "78cb9166-57e0-41b6-813f-a0cb20fe6b02",
   "metadata": {},
   "source": [
    "You can convert these into regular python lists."
   ]
  },
  {
   "cell_type": "code",
   "execution_count": null,
   "id": "4cadfbb3-dcae-404e-8ebf-ee72659f07f2",
   "metadata": {
    "tags": []
   },
   "outputs": [],
   "source": [
    "list(alice_info.keys())"
   ]
  },
  {
   "cell_type": "code",
   "execution_count": null,
   "id": "582a2ca8-1fcb-4d2f-82c3-e8338bd843ef",
   "metadata": {
    "tags": []
   },
   "outputs": [],
   "source": [
    "list(alice_info.values())"
   ]
  },
  {
   "cell_type": "markdown",
   "id": "1ce52d35-686b-41c8-9fda-920afd299e5a",
   "metadata": {},
   "source": [
    "## Looping over a list"
   ]
  },
  {
   "cell_type": "code",
   "execution_count": null,
   "id": "80e8f2ec-d3b9-424e-a6a6-65d25717878c",
   "metadata": {
    "tags": []
   },
   "outputs": [],
   "source": [
    "# Note that .item() returns a key, value pair\n",
    "for key, value in alice_info.items():\n",
    "    print(f\" for key={key}, value={value}\")"
   ]
  },
  {
   "cell_type": "markdown",
   "id": "aab362af-f299-41f5-992f-83ef4ea8ca27",
   "metadata": {},
   "source": [
    "## Turning a dictionary into a datatable\n",
    "To create a table where one column has the keys and another has the value, you will need to extract them into lists and then use `Table().with_columns(),` which, if you recall, takes pairs of column names and associated column values.\n",
    "\n",
    "An example will make this clear."
   ]
  },
  {
   "cell_type": "code",
   "execution_count": null,
   "id": "4c871182-bb03-422c-8cda-90ffd8f7f2ad",
   "metadata": {},
   "outputs": [],
   "source": [
    "# Create a dictionary of mountain heights\n",
    "mountains = {'Mount Marcy':1629,'Algonquin Peak':1559,'Mount Haystack':1512,'Mount Skylight':1501}\n",
    "mountains"
   ]
  },
  {
   "cell_type": "code",
   "execution_count": null,
   "id": "815ae465-c50f-48dd-9a30-5b766e83aab4",
   "metadata": {
    "tags": []
   },
   "outputs": [],
   "source": [
    "peaks = Table().with_columns(\"Name\", list(mountains.keys()), \"Height_m\", list(mountains.values()))\n",
    "peaks"
   ]
  },
  {
   "cell_type": "markdown",
   "id": "7dfef12c-4cb5-4f91-b827-edcd2620dbe4",
   "metadata": {},
   "source": [
    "## Bonus\n",
    "Let's add a column to this table with the heights in ft.\n",
    "\n",
    "Create a function, then apply it."
   ]
  },
  {
   "cell_type": "code",
   "execution_count": null,
   "id": "98660be2-c473-4826-87ea-d8e865a973a8",
   "metadata": {
    "tags": []
   },
   "outputs": [],
   "source": [
    "def m_to_ft(x):\n",
    "    '''Convert meters to feet'''\n",
    "    return x * 3.048"
   ]
  },
  {
   "cell_type": "code",
   "execution_count": null,
   "id": "02a44a0e-7b8f-4c30-b07b-81ad66d96495",
   "metadata": {
    "tags": []
   },
   "outputs": [],
   "source": [
    "# Test the function\n",
    "m_to_ft(3)"
   ]
  },
  {
   "cell_type": "code",
   "execution_count": null,
   "id": "e45d6301-4a62-4f42-82cb-9e67e355d73d",
   "metadata": {
    "tags": []
   },
   "outputs": [],
   "source": [
    "# Apply the function\n",
    "peaks = peaks.with_column(\"Height_ft\", peaks.apply(m_to_ft, \"Height_m\"))\n",
    "peaks"
   ]
  },
  {
   "cell_type": "code",
   "execution_count": null,
   "id": "b6c58723-eb2c-479e-b573-5b48a39e7d73",
   "metadata": {},
   "outputs": [],
   "source": []
  }
 ],
 "metadata": {
  "kernelspec": {
   "display_name": "Python 3 (ipykernel)",
   "language": "python",
   "name": "python3"
  },
  "language_info": {
   "codemirror_mode": {
    "name": "ipython",
    "version": 3
   },
   "file_extension": ".py",
   "mimetype": "text/x-python",
   "name": "python",
   "nbconvert_exporter": "python",
   "pygments_lexer": "ipython3",
   "version": "3.10.11"
  }
 },
 "nbformat": 4,
 "nbformat_minor": 5
}
