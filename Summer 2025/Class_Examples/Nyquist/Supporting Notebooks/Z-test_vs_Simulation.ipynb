{
 "cells": [
  {
   "cell_type": "markdown",
   "id": "75d9b374-e70b-4b1a-b415-c50efa941c6b",
   "metadata": {},
   "source": [
    "# Comparison of a Z-test (parametric) and a Simulation Approach\n",
    "\n",
    "## Average Male Height \n",
    "The average height of men in the United States is roughly 70 inches with a standard deviation of 3 inches (5 foot 10, plus or minus 3 inches). Assume we had a population of men who had received some sort of growth hormone that on average made them grow an inch taller.  \n",
    "\n",
    "Could we reliably detect this difference with a sample size of 30? How about 50, 100, or 150?"
   ]
  },
  {
   "cell_type": "code",
   "execution_count": null,
   "id": "8fbde6fc-a09b-4a5f-9ab0-b76a1f1f75d9",
   "metadata": {},
   "outputs": [],
   "source": [
    "import numpy as np\n",
    "import scipy.stats as stats\n",
    "\n",
    "# Parameters for the normal distribution\n",
    "mu = 70  # Mean\n",
    "sigma = 3  # Standard deviation\n",
    "sample_size = 150\n",
    "\n",
    "# Height shift\n",
    "shift = 1\n",
    "\n",
    "# Create the normal distribution\n",
    "normal_dist = stats.norm(loc=mu, scale=sigma)\n",
    "normal_dist_shifted = stats.norm(loc=mu+shift, scale=sigma)\n",
    "\n",
    "# Sample 40 values from the normal distribution\n",
    "sample = normal_dist_shifted.rvs(size=sample_size)\n",
    "\n",
    "\n",
    "# Calculate the sample mean\n",
    "sample_mean = np.mean(sample)\n",
    "\n",
    "print(f\"Sample Mean: {sample_mean}\")"
   ]
  },
  {
   "cell_type": "markdown",
   "id": "f9db5a74-bf1a-47a1-a836-0cc6afd0b648",
   "metadata": {},
   "source": [
    "## Z-score approach"
   ]
  },
  {
   "cell_type": "code",
   "execution_count": null,
   "id": "5181b827-60f4-459d-b451-c9bdb9a85e08",
   "metadata": {},
   "outputs": [],
   "source": [
    "# Z-test (classical approach)\n",
    "# Calculate the standard error of the mean\n",
    "standard_error = sigma / np.sqrt(sample_size)\n",
    "\n",
    "# Calculate the z-score\n",
    "z_score = (sample_mean - mu) / standard_error\n",
    "\n",
    "# Calculate the p-value (one-tailed, right-tailed test)\n",
    "p_value_z = stats.norm.sf(z_score)\n",
    "\n",
    "print(f\"Z-score: {z_score}\")\n",
    "print(f\"P-value (Z-test): {p_value_z}\")"
   ]
  },
  {
   "cell_type": "markdown",
   "id": "3fc56868-b66e-4fbc-8226-72ab7a5aa80e",
   "metadata": {},
   "source": [
    "## Simulation approach"
   ]
  },
  {
   "cell_type": "code",
   "execution_count": null,
   "id": "120e7e0e-f5cd-49f8-ba37-1788f26c3857",
   "metadata": {},
   "outputs": [],
   "source": [
    "# Resampling approach (permutation test)\n",
    "num_resamples = 10000\n",
    "resampled_means = []\n",
    "\n",
    "for _ in range(num_resamples):\n",
    "    resampled_sample = normal_dist.rvs(size=sample_size)\n",
    "    resampled_mean = np.mean(resampled_sample)\n",
    "    resampled_means.append(resampled_mean)\n",
    "\n",
    "# Calculate the p-value (proportion of resampled means >= sample mean)\n",
    "p_value_resampling = np.count_nonzero(np.array(resampled_means) >= sample_mean) / num_resamples\n",
    "\n",
    "print(f\"P-value (Simulation): {p_value_resampling}\")"
   ]
  },
  {
   "cell_type": "markdown",
   "id": "4f645fd2-65b4-4646-97df-8d5de7fe1d3e",
   "metadata": {},
   "source": [
    "## Plot the results"
   ]
  },
  {
   "cell_type": "code",
   "execution_count": null,
   "id": "54515681-7d76-4415-9a13-8703ba8f036d",
   "metadata": {},
   "outputs": [],
   "source": [
    "# Optional: Visualize the results\n",
    "import matplotlib.pyplot as plt\n",
    "\n",
    "plt.figure(figsize=(12, 6))\n",
    "\n",
    "# Original sample histogram\n",
    "plt.subplot(1, 2, 1)\n",
    "plt.hist(sample, bins=10, alpha=0.6, label='Sample')\n",
    "plt.axvline(sample_mean, color='red', linestyle='dashed', linewidth=2, label=f'Sample Mean: {sample_mean:.2f}')\n",
    "plt.axvline(mu, color='green', linestyle='dashed', linewidth=2, label=f'Population Mean: {mu}')\n",
    "plt.title('Sample Distribution')\n",
    "plt.xlabel('Value')\n",
    "plt.ylabel('Frequency')\n",
    "plt.legend()\n",
    "\n",
    "# Resampled means histogram\n",
    "plt.subplot(1, 2, 2)\n",
    "plt.hist(resampled_means, bins=30, alpha=0.6, label='Simulation Means')\n",
    "plt.axvline(sample_mean, color='red', linestyle='dashed', linewidth=2, label=f'Sample Mean: {sample_mean:.2f}')\n",
    "plt.title('Simulation Means Distribution (Null Hypothesis)')\n",
    "plt.xlabel('Simulation Mean')\n",
    "plt.ylabel('Frequency')\n",
    "plt.legend()\n",
    "\n",
    "plt.tight_layout()\n",
    "plt.show()"
   ]
  },
  {
   "cell_type": "code",
   "execution_count": null,
   "id": "8f506774-f440-4949-a8bd-a6cae302cc3d",
   "metadata": {},
   "outputs": [],
   "source": []
  }
 ],
 "metadata": {
  "kernelspec": {
   "display_name": "Python 3 (ipykernel)",
   "language": "python",
   "name": "python3"
  },
  "language_info": {
   "codemirror_mode": {
    "name": "ipython",
    "version": 3
   },
   "file_extension": ".py",
   "mimetype": "text/x-python",
   "name": "python",
   "nbconvert_exporter": "python",
   "pygments_lexer": "ipython3",
   "version": "3.11.6"
  }
 },
 "nbformat": 4,
 "nbformat_minor": 5
}
