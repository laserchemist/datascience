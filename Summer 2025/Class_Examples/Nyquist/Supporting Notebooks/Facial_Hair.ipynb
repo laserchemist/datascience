{
 "cells": [
  {
   "cell_type": "markdown",
   "id": "703f2ccf-17e2-49cd-8ebe-ba7fd3844e00",
   "metadata": {},
   "source": [
    "# Does a beard protect you in combat?\n",
    "\n",
    "The data come from this paper: [Impact Protection Potential of Mammalian Hair: Testing the Pugilism Hypothesis for the Evolution of Human Facial Hair](https://academic.oup.com/iob/article/2/1/obaa005/5799080)\n",
    "\n",
    "### Abstract\n",
    "Because facial hair is one of the most sexually dimorphic features of humans (Homo sapiens) and is often perceived as an indicator of masculinity and social dominance, human facial hair has been suggested to play a role in male contest competition. Some authors have proposed that the beard may function similar to the long hair of a lion’s mane, serving to protect vital areas like the throat and jaw from lethal attacks. This is consistent with the observation that the mandible, which is superficially covered by the beard, is one of the most commonly fractured facial bones in interpersonal violence. We hypothesized that beards protect the skin and bones of the face when human males fight by absorbing and dispersing the energy of a blunt impact. We tested this hypothesis by measuring impact force and energy absorbed by a fiber epoxy composite, which served as a bone analog, when it was covered with skin that had thick hair (referred to here as “furred”) versus skin with no hair (referred to here as “sheared” and “plucked”). We covered the epoxy composite with segments of skin dissected from domestic sheep (Ovis aries), and used a drop weight impact tester affixed with a load cell to collect force versus time data. Tissue samples were prepared in three conditions: furred (n = 20), plucked (n = 20), and sheared (n = 20). We found that fully furred samples were capable of absorbing more energy than plucked and sheared samples. For example, peak force was 16% greater and total energy absorbed was 37% greater in the furred compared to the plucked samples. These differences were due in part to a longer time frame of force delivery in the furred samples. These data support the hypothesis that human beards protect vulnerable regions of the facial skeleton from damaging strikes.\n",
    "\n",
    "![Image of experimental setup](data/striker.png)"
   ]
  },
  {
   "cell_type": "markdown",
   "id": "63c5c581-ff7a-4624-a784-af898998efed",
   "metadata": {},
   "source": [
    "We will look at just one of the measurements. \n",
    "\n",
    "*The greatest differences between the furred and plucked or sheared samples were observed in times to reach peak force and peak energy absorption.*\n",
    "\n",
    "We will compare this time to peak force (measured in milliseconds) to verify that the difference is statistically significant."
   ]
  },
  {
   "cell_type": "code",
   "execution_count": null,
   "id": "2bfc96df-abba-4247-b61a-ad779b580f84",
   "metadata": {},
   "outputs": [],
   "source": [
    "import numpy as np\n",
    "from datascience import *\n",
    "import matplotlib.pyplot as plt\n",
    "%matplotlib inline"
   ]
  },
  {
   "cell_type": "code",
   "execution_count": null,
   "id": "d4beffd7-8e58-4c15-a05a-d955dd3ab786",
   "metadata": {},
   "outputs": [],
   "source": [
    "H_peak_force_ms = make_array(\n",
    "    5.395507813, 5.090332031, 13.85498047, 5.676269531, 15.41748047, 9.729003906, 11.87744141,\n",
    "    6.73828125, 12.43896484, 8.166503906, 8.483886719, 12.07275391, 13.36669922, 12.86621094,\n",
    "    6.750488281, 10.07080078, 23.74267578,\n",
    "    12.19482422, 5.95703125, 6.091308594\n",
    ")\n",
    "S_peak_force_ms = make_array(\n",
    "    3.601074219, 5.883789063, 4.809570313, 5.310058594, 5.505371094, 5.456542969, 5.334472656,\n",
    "    5.786132813, 5.17578125, 5.151367188, 4.174804688, 4.479980469, 4.479980469, 5.932617188,\n",
    "    5.346679688, 4.418945313, 5.322265625, 4.235839844, 12.08496094, 4.638671875\n",
    ")\n",
    "time_to_peak_force = Table().with_columns(\n",
    "    \"Hairy\", H_peak_force_ms,\n",
    "    \"Shaved\", S_peak_force_ms\n",
    ")\n",
    "time_to_peak_force.show(3)"
   ]
  },
  {
   "cell_type": "code",
   "execution_count": null,
   "id": "2e2f36f2-f66f-41d6-aba8-5b555adb9f03",
   "metadata": {},
   "outputs": [],
   "source": [
    "time_to_peak_force.hist(['Hairy', 'Shaved'])\n",
    "plt.xlabel(\"Time to Peak Force (milliseconds)\");"
   ]
  },
  {
   "cell_type": "markdown",
   "id": "238d5c3c-34db-48a4-a930-773bfa7454b2",
   "metadata": {},
   "source": [
    "## Is there a significant different in the means?\n",
    "\n",
    "Under the Null Hypothesis it doesn't matter whether a data point is labeled \"hairy\" or \"shaved\" because the assumption is that there is no difference in protection. \n",
    "\n",
    "The Recipe:\n",
    "1. Pool all all of the data into one array.\n",
    "2. Shuffle the data and assign hairy or smooth\n",
    "3. Calculate the difference in the means between two new groups\n",
    "4. Repeat steps 1-3 over and over to build up a distribution\n",
    "5. Look to see where the measured difference in means plots on this distribution\n",
    "6. Calculate the p-value."
   ]
  },
  {
   "cell_type": "code",
   "execution_count": null,
   "id": "7c468cd6-888c-4bd6-a4b6-97e95d8a63b1",
   "metadata": {},
   "outputs": [],
   "source": [
    "# Step 1: Pool all all of the data into one array.\n",
    "pooled_data = np.concatenate((H_peak_force_ms, S_peak_force_ms))"
   ]
  },
  {
   "cell_type": "code",
   "execution_count": null,
   "id": "e5ac75ab-91ec-4efc-88b4-7ad789e6d897",
   "metadata": {},
   "outputs": [],
   "source": [
    "# 2. Shuffle the data and assign hairy or smooth\n",
    "# Shuffle\n",
    "np.random.shuffle(pooled_data)\n",
    "\n",
    "# Find the total number of points\n",
    "n = len(pooled_data)\n",
    "\n",
    "# Split the array into two equal halves\n",
    "hairy, smooth = np.split(pooled_data, 2)"
   ]
  },
  {
   "cell_type": "code",
   "execution_count": null,
   "id": "4c95144a-f618-478e-b085-cc115af56068",
   "metadata": {},
   "outputs": [],
   "source": [
    "# Step 3. Calculate the difference in the means between two new groups\n",
    "np.abs(np.mean(hairy) - np.mean(smooth))"
   ]
  },
  {
   "cell_type": "code",
   "execution_count": null,
   "id": "344de2f3-ec67-44c3-9de7-40a03aeb5bfa",
   "metadata": {},
   "outputs": [],
   "source": [
    "# Step 4. Repeat steps 1-3 over and over to build up a distribution\n",
    "sim_mean_diffs = []\n",
    "num_simulations = 10000\n",
    "for i in np.arange(num_simulations):\n",
    "    np.random.shuffle(pooled_data)\n",
    "    hairy, smooth = np.split(pooled_data, 2)\n",
    "    sim_mean_diffs.append(np.abs(np.mean(hairy) - np.mean(smooth)))\n",
    "\n",
    "# Convert the list into an array for efficiency\n",
    "sim_mean_diffs = make_array(sim_mean_diffs)"
   ]
  },
  {
   "cell_type": "code",
   "execution_count": null,
   "id": "fd9a2b36-2947-49a0-ad94-a48eb8ed6deb",
   "metadata": {},
   "outputs": [],
   "source": [
    "# Step 5. Look to see where the measured difference in means plots on this distribution\n",
    "measured_diff = np.abs(np.mean(H_peak_force_ms) - np.mean(S_peak_force_ms))\n",
    "measured_diff"
   ]
  },
  {
   "cell_type": "code",
   "execution_count": null,
   "id": "019435ca-0236-4693-8c4a-d936bc30044b",
   "metadata": {},
   "outputs": [],
   "source": [
    "plt.hist(sim_mean_diffs, bins=30)\n",
    "plt.plot(measured_diff, 0, 'r^', markersize=20);"
   ]
  },
  {
   "cell_type": "code",
   "execution_count": null,
   "id": "267d35e7-4488-4623-bb92-2f313ec6ec49",
   "metadata": {},
   "outputs": [],
   "source": [
    "# Step 6: Calculate the p-value.\n",
    "p_value = np.count_nonzero(sim_mean_diffs > measured_diff) / num_simulations\n",
    "p_value"
   ]
  },
  {
   "cell_type": "markdown",
   "id": "1a568ce1-045b-4c8d-9d4e-5ce10046ad53",
   "metadata": {},
   "source": [
    "*These protective functions of beards may provide an advantage in male contest competition, and therefore be selectively favored. This may also explain why facial hair is associated with high masculinity, social dominance, and behavioral aggressiveness, as it may function as a true indicator of level of invulnerablity to facial injury.*"
   ]
  }
 ],
 "metadata": {
  "kernelspec": {
   "display_name": "Python 3 (ipykernel)",
   "language": "python",
   "name": "python3"
  },
  "language_info": {
   "codemirror_mode": {
    "name": "ipython",
    "version": 3
   },
   "file_extension": ".py",
   "mimetype": "text/x-python",
   "name": "python",
   "nbconvert_exporter": "python",
   "pygments_lexer": "ipython3",
   "version": "3.11.6"
  }
 },
 "nbformat": 4,
 "nbformat_minor": 5
}
