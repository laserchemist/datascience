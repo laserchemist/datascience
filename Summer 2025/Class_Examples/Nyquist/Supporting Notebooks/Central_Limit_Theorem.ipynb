{
 "cells": [
  {
   "cell_type": "markdown",
   "id": "6bcc8eb5-3c1b-4478-ba05-8c3e3b2cc1a2",
   "metadata": {},
   "source": [
    "# The Central Limit Theorem"
   ]
  },
  {
   "cell_type": "code",
   "execution_count": null,
   "id": "409ed167-05c2-42ff-888d-440b33b08982",
   "metadata": {
    "tags": []
   },
   "outputs": [],
   "source": [
    "import numpy as np\n",
    "import matplotlib.pyplot as plt\n",
    "%matplotlib inline"
   ]
  },
  {
   "cell_type": "code",
   "execution_count": null,
   "id": "e9b9ed46-031c-4204-b4a4-3dcd105b3b02",
   "metadata": {
    "tags": []
   },
   "outputs": [],
   "source": [
    "possible_rolls = np.arange(1, 7)\n",
    "\n",
    "# Assign relative probabilities of each number on the die\n",
    "roll_prob = np.array([1, 1, 1, 1, 1, 1])\n",
    "\n",
    "# Normalize so the probabilities sum to 1\n",
    "roll_prob = roll_prob / np.sum(roll_prob)\n",
    "\n",
    "# Express as percents\n",
    "roll_prob * 100"
   ]
  },
  {
   "cell_type": "code",
   "execution_count": null,
   "id": "53630373-d737-4dc5-b52c-2fba336c1e25",
   "metadata": {
    "tags": []
   },
   "outputs": [],
   "source": [
    "# Double check the probabilites sum to 1\n",
    "np.sum(roll_prob)"
   ]
  },
  {
   "cell_type": "code",
   "execution_count": null,
   "id": "ea9a5dc7-2ff6-405c-9208-f3e36f64ad75",
   "metadata": {
    "tags": []
   },
   "outputs": [],
   "source": [
    "# Set the sample size\n",
    "num_rolls = 10\n",
    "\n",
    "# To a single simulation as a test\n",
    "np.random.choice(possible_rolls, num_rolls, replace=True, p=roll_prob)"
   ]
  },
  {
   "cell_type": "code",
   "execution_count": null,
   "id": "e0e25702-8383-46a6-84a6-0e6140be4547",
   "metadata": {
    "tags": []
   },
   "outputs": [],
   "source": [
    "# Perform the actual simulation\n",
    "num_rolls = 10\n",
    "num_simulations = 1000\n",
    "roll_mean = []\n",
    "for i in np.arange(num_simulations):\n",
    "    sim = np.random.choice(possible_rolls, num_rolls, replace=True, p=roll_prob)\n",
    "    roll_mean.append(np.mean(sim))\n",
    "plt.hist(roll_mean, bins=20);"
   ]
  },
  {
   "cell_type": "code",
   "execution_count": null,
   "id": "82c55759-2dd9-489a-b1a1-4bd6e70e6399",
   "metadata": {},
   "outputs": [],
   "source": []
  }
 ],
 "metadata": {
  "kernelspec": {
   "display_name": "Python 3 (ipykernel)",
   "language": "python",
   "name": "python3"
  },
  "language_info": {
   "codemirror_mode": {
    "name": "ipython",
    "version": 3
   },
   "file_extension": ".py",
   "mimetype": "text/x-python",
   "name": "python",
   "nbconvert_exporter": "python",
   "pygments_lexer": "ipython3",
   "version": "3.10.11"
  }
 },
 "nbformat": 4,
 "nbformat_minor": 5
}
