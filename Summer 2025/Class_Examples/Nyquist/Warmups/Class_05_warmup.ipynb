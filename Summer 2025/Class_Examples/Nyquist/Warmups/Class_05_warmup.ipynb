{
 "cells": [
  {
   "cell_type": "markdown",
   "id": "862afbfa-14f2-4a12-bc8a-780f186349d9",
   "metadata": {},
   "source": [
    "# Class 05 Warm up exercise\n",
    "\n",
    "![nuclear subs](data/nuc_subs.png)"
   ]
  },
  {
   "cell_type": "code",
   "execution_count": 4,
   "id": "8793f197-4538-4c8d-a27b-d676d7a42bd2",
   "metadata": {
    "tags": []
   },
   "outputs": [
    {
     "data": {
      "text/plain": [
       "array([66, 31, 12, 10,  9,  2])"
      ]
     },
     "execution_count": 4,
     "metadata": {},
     "output_type": "execute_result"
    }
   ],
   "source": [
    "import numpy as np\n",
    "from datascience import *\n",
    "\n",
    "#Create an array with that data from the table above.\n",
    "subs = make_array(66, 31, 12, 10, 9, 2)\n",
    "subs"
   ]
  },
  {
   "cell_type": "markdown",
   "id": "61ee69b9-5267-4a98-8f47-6ccee470fac5",
   "metadata": {},
   "source": [
    "#### Q1: Use numpy functions to calculate the following:\n",
    "\n",
    "* Total number of nuclear submarines\n",
    "* The average\n",
    "* The median\n",
    "* The max and the min"
   ]
  },
  {
   "cell_type": "markdown",
   "id": "9f27c770-dd7e-4577-bafe-2538a40ff00f",
   "metadata": {},
   "source": [
    "#### Q2:What percentage of the nuclear subs in the world are American?"
   ]
  },
  {
   "cell_type": "code",
   "execution_count": null,
   "id": "51d853ef-13c0-4b96-bd6c-92319c6775de",
   "metadata": {},
   "outputs": [],
   "source": []
  },
  {
   "cell_type": "markdown",
   "id": "0e39fe28-e1af-45cb-b0c1-db6626e7a74f",
   "metadata": {},
   "source": [
    "The total U.S. sea-based nuclear arsenal is estimated to be around 960 warheads. An estimate suggests the total yield of the U.S. submarine-based nuclear arsenal is approximately 141,600 kilotons or 141.6 megatons. The bomb the U.S. dropped on Hiroshima at the end of WWII had yield of 15 kilotons of TNT. \n",
    "\n",
    "#### Q3: What is the equivalent number of Hiroshima-sized bombs carried by the U.S. nuclear fleet?"
   ]
  },
  {
   "cell_type": "code",
   "execution_count": null,
   "id": "07e7f493-87af-4558-aa84-af8db95a1c95",
   "metadata": {},
   "outputs": [],
   "source": []
  },
  {
   "cell_type": "markdown",
   "id": "00ce82fa-8c83-4d10-9852-0e5f04e4fe3e",
   "metadata": {},
   "source": [
    "![chicxulub](data/ChicxulubAirblast.jpg)\n",
    "\n",
    "The asteroid impact that killed the dinosaurs, [the Chicxulub impact event](https://www.lpi.usra.edu/science/kring/Chicxulub/regional-effects/#:~:text=The%20Chicxulub%20impact%20event%20was,in%20excess%20of%2010%2C000%20degrees.), was an ~100 million megaton blast that devastated the Gulf of Mexico region.\n",
    "\n",
    "#### Q4: How many Hiroshima-sized bombs is that?"
   ]
  },
  {
   "cell_type": "code",
   "execution_count": null,
   "id": "c86dd049-3d93-46d9-91d7-c713ff970d73",
   "metadata": {},
   "outputs": [],
   "source": []
  }
 ],
 "metadata": {
  "kernelspec": {
   "display_name": "Python 3 (ipykernel)",
   "language": "python",
   "name": "python3"
  },
  "language_info": {
   "codemirror_mode": {
    "name": "ipython",
    "version": 3
   },
   "file_extension": ".py",
   "mimetype": "text/x-python",
   "name": "python",
   "nbconvert_exporter": "python",
   "pygments_lexer": "ipython3",
   "version": "3.10.11"
  }
 },
 "nbformat": 4,
 "nbformat_minor": 5
}
