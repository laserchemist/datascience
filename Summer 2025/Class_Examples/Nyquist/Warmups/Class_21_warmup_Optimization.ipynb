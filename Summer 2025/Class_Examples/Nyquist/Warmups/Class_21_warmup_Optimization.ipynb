{
 "cells": [
  {
   "cell_type": "code",
   "execution_count": null,
   "id": "c361896d-1612-4d0d-925b-e4e26c801866",
   "metadata": {
    "tags": []
   },
   "outputs": [],
   "source": [
    "## import statements\n",
    "import numpy as np\n",
    "from datascience import *\n",
    "import matplotlib.pyplot as plt\n",
    "\n",
    "plt.style.use('ggplot')\n",
    "%matplotlib inline"
   ]
  },
  {
   "cell_type": "markdown",
   "id": "37e4bc3b-09fa-46f5-8cce-ffb9d8d2fd8e",
   "metadata": {},
   "source": [
    "# Optimization\n",
    "\n",
    "<img src=\"data/optimal_swim.jpg\" width=\"700\" height=\"400\" alt=\"Swim Optimization Problem\">"
   ]
  },
  {
   "cell_type": "code",
   "execution_count": null,
   "id": "86586c0c-aca3-47c5-80cc-5e95470bcf2c",
   "metadata": {
    "tags": []
   },
   "outputs": [],
   "source": [
    "def f(x):\n",
    "    '''Function to return the trip time given x'''\n",
    "    v_swim = 2\n",
    "    v_walk = 4\n",
    "    t = np.sqrt(1 + x**2)/v_swim + (3 - x)/v_walk\n",
    "    return t"
   ]
  },
  {
   "cell_type": "code",
   "execution_count": null,
   "id": "e6028c7a-46cf-4774-a4cc-02a2b0974550",
   "metadata": {
    "tags": []
   },
   "outputs": [],
   "source": [
    "x = np.arange(0, 3, .1)\n",
    "y = f(x)\n",
    "\n",
    "plt.plot(x, y);"
   ]
  },
  {
   "cell_type": "code",
   "execution_count": null,
   "id": "d28780d2-6856-4a0e-bb20-b6b9505574c4",
   "metadata": {
    "tags": []
   },
   "outputs": [],
   "source": [
    "minimize(f)"
   ]
  },
  {
   "cell_type": "code",
   "execution_count": null,
   "id": "336f4f8e-836e-4c8f-906a-11e6d8e81ac5",
   "metadata": {
    "tags": []
   },
   "outputs": [],
   "source": [
    "# Solution from calculus\n",
    "np.sqrt(3)/3"
   ]
  },
  {
   "cell_type": "code",
   "execution_count": null,
   "id": "ae53ece2-c8bb-40b8-ae45-2b48dcfc4aa7",
   "metadata": {
    "tags": []
   },
   "outputs": [],
   "source": [
    "x = np.arange(0, 3, .1)\n",
    "y = f(x)\n",
    "\n",
    "plt.plot(x, y)\n",
    "\n",
    "# Add a vertical line at solution\n",
    "plt.axvline(x=np.sqrt(3)/3, color='r', linestyle='--')"
   ]
  },
  {
   "cell_type": "code",
   "execution_count": null,
   "id": "2a901bd2-69eb-4daa-b93e-8b9dde4fb57e",
   "metadata": {
    "tags": []
   },
   "outputs": [],
   "source": [
    "help(minimize)"
   ]
  },
  {
   "cell_type": "code",
   "execution_count": null,
   "id": "e253a748-582b-4795-b8b3-2b6ced040c5a",
   "metadata": {},
   "outputs": [],
   "source": []
  }
 ],
 "metadata": {
  "kernelspec": {
   "display_name": "Python 3 (ipykernel)",
   "language": "python",
   "name": "python3"
  },
  "language_info": {
   "codemirror_mode": {
    "name": "ipython",
    "version": 3
   },
   "file_extension": ".py",
   "mimetype": "text/x-python",
   "name": "python",
   "nbconvert_exporter": "python",
   "pygments_lexer": "ipython3",
   "version": "3.10.11"
  }
 },
 "nbformat": 4,
 "nbformat_minor": 5
}
