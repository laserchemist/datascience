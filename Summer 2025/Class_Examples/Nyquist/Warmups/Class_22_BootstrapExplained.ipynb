{
 "cells": [
  {
   "cell_type": "code",
   "execution_count": null,
   "id": "189754a6-377f-4312-8d75-d9212767a060",
   "metadata": {
    "tags": []
   },
   "outputs": [],
   "source": [
    "import numpy as np\n",
    "import matplotlib.pyplot as plt\n",
    "from datascience import *\n",
    "%matplotlib inline"
   ]
  },
  {
   "cell_type": "markdown",
   "id": "b29f5f0f-9ea5-4d51-90cf-93edfe374385",
   "metadata": {},
   "source": [
    "# What is Bootstrapping?\n",
    "\n",
    "To understand bootstrapping, let's work though an easy example. We roll a six-sided die 50 times and calculate the mean."
   ]
  },
  {
   "cell_type": "code",
   "execution_count": null,
   "id": "f44ecb11-40d8-4466-838d-03e9cc3daeba",
   "metadata": {
    "tags": []
   },
   "outputs": [],
   "source": [
    "possible_rolls = np.arange(1,7)\n",
    "num_rolls = 50\n",
    "sample_rolls = np.random.choice(possible_rolls, num_rolls)\n",
    "avg_roll = np.mean(sample_rolls)\n",
    "print(f\"The average of {num_rolls} is {avg_roll}\")"
   ]
  },
  {
   "cell_type": "markdown",
   "id": "afc41807-055f-47b4-b5cf-9791e4168005",
   "metadata": {},
   "source": [
    "## What is the 95% confidence interval?\n",
    "\n",
    "We have an average based on our sample of 50 rolls, but we know that this is only approximate. To find the true average, we would have to average millions of rolls. How good is an estimate based on a sample size of 50?\n",
    "\n",
    "One way to answer this would be to take many, many samples of 50 and look at the distribution of means. Let's try that."
   ]
  },
  {
   "cell_type": "code",
   "execution_count": null,
   "id": "a6b767fb-ce9a-4445-be0d-179720d74e98",
   "metadata": {
    "tags": []
   },
   "outputs": [],
   "source": [
    "means = []\n",
    "for i in np.arange(10000):\n",
    "    sample_rolls = np.random.choice(possible_rolls, num_rolls)\n",
    "    avg_roll = np.mean(sample_rolls)\n",
    "    means.append(avg_roll)\n",
    "\n",
    "plt.hist(means, bins=30);"
   ]
  },
  {
   "cell_type": "markdown",
   "id": "8e74fd79-1d52-4ecb-abfa-709a8e3b7591",
   "metadata": {},
   "source": [
    "To find the 95% confidence interval, we just figure out the interval that contains 95% our our results. The datascience module has a handy function for this: `percentile.` The 95% confidence interval would be all the value above the bottom 2.5% and below the top 2.5%."
   ]
  },
  {
   "cell_type": "code",
   "execution_count": null,
   "id": "180d382c-1d4d-4772-b992-f78c21b32262",
   "metadata": {
    "tags": []
   },
   "outputs": [],
   "source": [
    "left = percentile(2.5, means)\n",
    "right = percentile(97.5, means)\n",
    "print(f\"The 95% confidence interval ranges from {left} to {right}\")"
   ]
  },
  {
   "cell_type": "markdown",
   "id": "d54702ac-6e1f-438a-bd30-e88688ebf159",
   "metadata": {},
   "source": [
    "So we have an estimate of the mean based on 50 rolls and we are 95% confident that the true mean lies within this range.\n",
    "\n",
    "**But in the real world we cannot replicate our experiment thousands of times!** \n",
    "\n",
    "So, if we only have the one sample of 50, how do we estimate a confidence interval for the mean?\n",
    "\n",
    "Pay close attention, but this is where the magic happens. First, we assume that the sample we have is a reasonable reflection of the true population as a whole. So instead of generating another new set of data by rolling the die again, or by performing the experiment again, **we sample from our sample.**  In this case, we draw 50 rolls, with replacement after each draw, to create a new sample of 50. We calculate the mean of this new sample. We do this again and again, to get a distribution of means based on our sample."
   ]
  },
  {
   "cell_type": "code",
   "execution_count": null,
   "id": "0ef58dd9-82b2-4365-970e-90889616333e",
   "metadata": {
    "tags": []
   },
   "outputs": [],
   "source": [
    "bootstrap_means = []\n",
    "for i in np.arange(10000):\n",
    "    bootstrap_sample = np.random.choice(sample_rolls, size=num_rolls, replace=True)\n",
    "    avg_roll = np.mean(bootstrap_sample)\n",
    "    bootstrap_means.append(avg_roll)\n",
    "\n",
    "plt.hist(bootstrap_means, bins=30);"
   ]
  },
  {
   "cell_type": "code",
   "execution_count": null,
   "id": "7ac0be7d-4354-4dd2-851a-f4f81243108b",
   "metadata": {
    "tags": []
   },
   "outputs": [],
   "source": [
    "left = percentile(2.5, bootstrap_means)\n",
    "right = percentile(97.5, bootstrap_means)\n",
    "print(f\"The 95% confidence interval based on bootstrapping ranges from {left} to {right}\")"
   ]
  },
  {
   "cell_type": "markdown",
   "id": "ef9f2faa-6d2e-4fe9-85f2-92e742b3a44d",
   "metadata": {},
   "source": [
    "This confidence interval is **very close** to the estimate we got replicating the experiment thousands of times without actually collecting any new data.\n",
    "\n",
    "## Student Challenge\n",
    "What assumption unlies bootstapping? When do you think it is likely to work well, and when not?"
   ]
  },
  {
   "cell_type": "markdown",
   "id": "0976d260-5c11-461f-8217-a32a838d47bb",
   "metadata": {},
   "source": []
  }
 ],
 "metadata": {
  "kernelspec": {
   "display_name": "Python 3 (ipykernel)",
   "language": "python",
   "name": "python3"
  },
  "language_info": {
   "codemirror_mode": {
    "name": "ipython",
    "version": 3
   },
   "file_extension": ".py",
   "mimetype": "text/x-python",
   "name": "python",
   "nbconvert_exporter": "python",
   "pygments_lexer": "ipython3",
   "version": "3.10.11"
  }
 },
 "nbformat": 4,
 "nbformat_minor": 5
}
