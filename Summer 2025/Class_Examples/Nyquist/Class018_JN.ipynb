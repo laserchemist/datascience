{
 "cells": [
  {
   "cell_type": "markdown",
   "metadata": {},
   "source": [
    "### Hypothesis testing: Lab 7\n",
    "\n",
    "Elements of Data Science"
   ]
  },
  {
   "cell_type": "code",
   "execution_count": null,
   "metadata": {
    "tags": []
   },
   "outputs": [],
   "source": [
    "import numpy as np\n",
    "from datascience import *"
   ]
  },
  {
   "cell_type": "code",
   "execution_count": null,
   "metadata": {
    "tags": []
   },
   "outputs": [],
   "source": [
    "%matplotlib inline\n",
    "import matplotlib.pyplot as plt\n",
    "plt.style.use('fivethirtyeight')\n",
    "# Fix for datascience plots\n",
    "import collections as collections\n",
    "import collections.abc as abc\n",
    "collections.Iterable = abc.Iterable"
   ]
  },
  {
   "cell_type": "markdown",
   "metadata": {},
   "source": [
    "## Hypothesis Testing"
   ]
  },
  {
   "cell_type": "markdown",
   "metadata": {},
   "source": [
    "**Question 7: Complete the simulation below, which samples num_changes increases/decreases at random many times and forms an empirical distribution of your test statistic under the null hypothesis.** \n",
    "\n",
    "Your job is to:\n",
    "fill in the function simulate_under_null, which simulates a single sample under the null hypothesis, and\n",
    "fill in its argument when it's called below.\n",
    "**As a hint, num_changes should be approximately the number of countries times the number of time comparisons (you can find the number of year comparisons by using diff_n().**\n"
   ]
  },
  {
   "cell_type": "raw",
   "metadata": {},
   "source": [
    "def simulate_under_null(num_chances_to_change):\n",
    "    \"\"\"Simulates some number changing several times, with an equal\n",
    "    chance to increase or decrease.  Returns the value of your\n",
    "    test statistic for these simulated changes.\n",
    "    \n",
    "    num_chances_to_change is the number of times the number changes.\n",
    "    \"\"\"\n",
    "    uniform = Table().with_columns(\n",
    "        \"Change\", make_array('Increase', 'Decrease'),\n",
    "        \"Chance\", make_array(0.5,        0.5))\n",
    "    sample = ... \n",
    "    \n",
    "    ... \n",
    "    \n",
    "    return ...\n"
   ]
  },
  {
   "cell_type": "raw",
   "metadata": {},
   "source": [
    "def empirical_distribution(tbl):\n",
    "    num_changes = ...\n",
    "    samples = make_array()\n",
    "    for i in np.arange(10000):\n",
    "        samples = np.append(samples, simulate_under_null(...)) \n",
    "    Table().with_column('Test statistic under null', samples).hist(bins=np.arange(0, max(samples) + max(samples) * 0.1, 2))\n",
    "    return samples"
   ]
  },
  {
   "cell_type": "raw",
   "metadata": {},
   "source": [
    "samples = empirical_distribution(...) "
   ]
  },
  {
   "cell_type": "markdown",
   "metadata": {},
   "source": [
    "## How to approach the problem"
   ]
  },
  {
   "cell_type": "markdown",
   "metadata": {},
   "source": [
    "### Step 1: Make sure you understand the part of the function that was given to you."
   ]
  },
  {
   "cell_type": "code",
   "execution_count": null,
   "metadata": {
    "tags": []
   },
   "outputs": [],
   "source": [
    "uniform = Table().with_columns(\n",
    "    \"Change\", make_array('Increase', 'Decrease'),\n",
    "    \"Chance\", make_array(0.5,        0.5))\n",
    "\n",
    "uniform"
   ]
  },
  {
   "cell_type": "markdown",
   "metadata": {},
   "source": [
    "### Step 2: Try the sample the sample_from_distribution method of datatables."
   ]
  },
  {
   "cell_type": "code",
   "execution_count": null,
   "metadata": {
    "tags": []
   },
   "outputs": [],
   "source": [
    "sample = uniform.sample_from_distribution('Chance', 20)\n",
    "sample"
   ]
  },
  {
   "cell_type": "markdown",
   "metadata": {},
   "source": [
    "### Step 3: Add this to your function\n",
    "For the each sample created by the simulation we have to simulate having the same amount of data as in our observation."
   ]
  },
  {
   "cell_type": "code",
   "execution_count": null,
   "metadata": {
    "tags": []
   },
   "outputs": [],
   "source": [
    "def simulate_under_null(num_chances_to_change):\n",
    "    \"\"\"Simulates some number changing several times, with an equal\n",
    "    chance to increase or decrease.  Returns the value of your\n",
    "    test statistic for these simulated changes.\n",
    "    \n",
    "    num_chances_to_change is the number of times the number changes.\n",
    "    \"\"\"\n",
    "    uniform = Table().with_columns(\n",
    "        \"Change\", make_array('Increase', 'Decrease'),\n",
    "        \"Chance\", make_array(0.5,        0.5))\n",
    "    sample = uniform.sample_from_distribution('Chance', num_chances_to_change)\n",
    "    return sample"
   ]
  },
  {
   "cell_type": "code",
   "execution_count": null,
   "metadata": {
    "tags": []
   },
   "outputs": [],
   "source": [
    "sample = simulate_under_null(10)\n",
    "sample"
   ]
  },
  {
   "cell_type": "markdown",
   "metadata": {},
   "source": [
    "## Step 4: We want to return the net positive increases"
   ]
  },
  {
   "cell_type": "code",
   "execution_count": null,
   "metadata": {
    "tags": []
   },
   "outputs": [],
   "source": [
    "sample.column('Chance sample')"
   ]
  },
  {
   "cell_type": "code",
   "execution_count": null,
   "metadata": {
    "tags": []
   },
   "outputs": [],
   "source": [
    "net = sample.column('Chance sample')[0] - sample.column('Chance sample')[1]\n",
    "net"
   ]
  },
  {
   "cell_type": "markdown",
   "metadata": {},
   "source": [
    "## Step 5: Add this to you function, too."
   ]
  },
  {
   "cell_type": "code",
   "execution_count": null,
   "metadata": {
    "tags": []
   },
   "outputs": [],
   "source": [
    "def simulate_under_null(num_chances_to_change):\n",
    "    \"\"\"Simulates some number changing several times, with an equal\n",
    "    chance to increase or decrease.  Returns the value of your\n",
    "    test statistic for these simulated changes.\n",
    "    \n",
    "    num_chances_to_change is the number of times the number changes.\n",
    "    \"\"\"\n",
    "    uniform = Table().with_columns(\n",
    "        \"Change\", make_array('Increase', 'Decrease'),\n",
    "        \"Chance\", make_array(0.5,        0.5))\n",
    "    sample = uniform.sample_from_distribution('Chance', num_chances_to_change)\n",
    "    net = sample.column('Chance sample')[0] - sample.column('Chance sample')[1]\n",
    "    return net"
   ]
  },
  {
   "cell_type": "code",
   "execution_count": null,
   "metadata": {
    "tags": []
   },
   "outputs": [],
   "source": [
    "sample = simulate_under_null(10)\n",
    "sample"
   ]
  },
  {
   "cell_type": "markdown",
   "metadata": {},
   "source": [
    "## Step 6: Look at the second function"
   ]
  },
  {
   "cell_type": "raw",
   "metadata": {},
   "source": [
    "def empirical_distribution(tbl):\n",
    "    num_changes = ...\n",
    "    samples = make_array()\n",
    "    for i in np.arange(10000):\n",
    "        samples = np.append(samples, simulate_under_null(...)) \n",
    "    Table().with_column('Test statistic under null', samples).hist(bins=np.arange(0, max(samples) + max(samples) * 0.1, 2))\n",
    "    return samples"
   ]
  },
  {
   "cell_type": "markdown",
   "metadata": {},
   "source": [
    "The function is nearly complete. It just wants your to figure out the correct value for num_changes. **Look back at the hint!**\n",
    "\"As a hint, num_changes should be approximately the number of countries times the number of time comparisons (you can find the number of year comparisons by using diff_n().\"\n",
    "\n",
    "**Okay, this is not a great hint.**\n",
    "\n",
    "Let't look at a test table to figure this out."
   ]
  },
  {
   "cell_type": "code",
   "execution_count": null,
   "metadata": {
    "tags": []
   },
   "outputs": [],
   "source": [
    "# Example Table\n",
    "example = Table().with_columns(\n",
    "    \"year\",\n",
    "    make_array(2000, 2001, 2002, 2003, 2000, 2001, 2002, 2003),\n",
    "    \"country\",\n",
    "    make_array(\"France\", \"France\", \"France\", \"France\", \"England\", \"England\", \"England\", \"England\"),\n",
    "    \"avg T\",\n",
    "    make_array(23, 24, 24, 25, 19, 21, 23, 23)\n",
    ")\n",
    "example"
   ]
  },
  {
   "cell_type": "markdown",
   "metadata": {},
   "source": [
    "How many comparisons do we have? If the time step is 1 year, there will be three for France and\n",
    "three for England. The number of comparisons is one less then the number of rows for each country. \n",
    "\n",
    "The number of comparisons is roughly the number of countries times the number of years, and as the size of the table increases this become a very close approximation. Using the diff_n function only changes the answer a little bit."
   ]
  },
  {
   "cell_type": "code",
   "execution_count": null,
   "metadata": {
    "tags": []
   },
   "outputs": [],
   "source": [
    "def diff_n(values, n):\n",
    "    return np.array(values)[n:] - np.array(values)[:-n]\n",
    "\n",
    "diff_n(make_array(1, 10, 100, 1000, 10000), 2)"
   ]
  },
  {
   "cell_type": "markdown",
   "metadata": {},
   "source": [
    "Notice that the number of changes if the step size is 2 is just two less than the number of values in the array, so using the number of values in the array will be close.\n",
    "\n",
    "So how do we find the number of countries and the number of years of data?"
   ]
  },
  {
   "cell_type": "code",
   "execution_count": null,
   "metadata": {
    "tags": []
   },
   "outputs": [],
   "source": [
    "np.unique(example.column('country'))"
   ]
  },
  {
   "cell_type": "code",
   "execution_count": null,
   "metadata": {},
   "outputs": [],
   "source": [
    "num_countries = len(np.unique(example.column('country')))\n",
    "num_years = len(np.unique(example.column('year')))\n",
    "num_changes = num_countries * num_years\n",
    "num_changes"
   ]
  },
  {
   "cell_type": "markdown",
   "metadata": {},
   "source": [
    "So, for our table `temps`\n",
    "\n",
    "```python\n",
    "num_countries = len(np.unique(temps.column('country')))\n",
    "num_years = len(np.unique(temps.column('year')))\n",
    "num_changes = num_countries * num_years\n",
    "num_changes\n",
    "```\n",
    "\n",
    "Which we can use in the function below.\n",
    "\n",
    "Or we can just use the number of rows in the table."
   ]
  },
  {
   "cell_type": "code",
   "execution_count": null,
   "metadata": {
    "tags": []
   },
   "outputs": [],
   "source": [
    "example.num_rows"
   ]
  },
  {
   "cell_type": "code",
   "execution_count": null,
   "metadata": {
    "tags": []
   },
   "outputs": [],
   "source": [
    "def empirical_distribution(tbl):\n",
    "    num_changes = ...\n",
    "    samples = make_array()\n",
    "    for i in np.arange(10000):\n",
    "        samples = np.append(samples, simulate_under_null(...)) \n",
    "    Table().with_column('Test statistic under null', samples).hist(bins=np.arange(0, max(samples) + max(samples) * 0.1, 2))\n",
    "    return samples"
   ]
  },
  {
   "cell_type": "markdown",
   "metadata": {},
   "source": [
    "This function is ready for you to pass in the table: changes_by_country after you fix num_changes."
   ]
  },
  {
   "cell_type": "markdown",
   "metadata": {},
   "source": [
    "## HINTS: Mount St. Helens Mini-project"
   ]
  },
  {
   "cell_type": "code",
   "execution_count": null,
   "metadata": {
    "tags": []
   },
   "outputs": [],
   "source": [
    "# Plot description dataset\n",
    "datafile = \"../../Mini Project II/data/MSH_PLOT_DESCRIPTORS2.csv\"\n",
    "MSH_PLOT = Table.read_table(datafile)\n",
    "MSH_PLOT.where('PLOT_CODE','ABPL10')"
   ]
  },
  {
   "cell_type": "code",
   "execution_count": null,
   "metadata": {
    "tags": []
   },
   "outputs": [],
   "source": [
    "np.unique(MSH_PLOT['PLOT_CODE'])"
   ]
  },
  {
   "cell_type": "code",
   "execution_count": null,
   "metadata": {
    "tags": []
   },
   "outputs": [],
   "source": [
    "MSH_PLOT = MSH_PLOT.with_columns('NLONG', -1*(MSH_PLOT.column('LONG')))\n",
    "MSH_map = MSH_PLOT.select('LAT', 'NLONG', 'PLOT_CODE').relabel('PLOT_CODE', 'labels')\n",
    "Circle.map_table(MSH_map, color='blue',area=200)"
   ]
  },
  {
   "cell_type": "code",
   "execution_count": null,
   "metadata": {
    "tags": []
   },
   "outputs": [],
   "source": [
    "datafile = \"../../Mini Project II/data/MSH_STRUCTURE_PLOT_YEAR.csv\"\n",
    "MSH_YEAR = Table.read_table(datafile)\n",
    "MSH_YEAR.show(4)"
   ]
  },
  {
   "cell_type": "code",
   "execution_count": null,
   "metadata": {
    "tags": []
   },
   "outputs": [],
   "source": [
    "np.unique(MSH_YEAR['PLOT_NAME'])"
   ]
  },
  {
   "cell_type": "markdown",
   "metadata": {},
   "source": [
    "## Comparing plots"
   ]
  },
  {
   "cell_type": "code",
   "execution_count": null,
   "metadata": {
    "tags": []
   },
   "outputs": [],
   "source": [
    "MSH_YEAR.where('PLOT_NAME','ABPL').scatter(\"YEAR\",\"COVER_%\")"
   ]
  },
  {
   "cell_type": "code",
   "execution_count": null,
   "metadata": {
    "tags": []
   },
   "outputs": [],
   "source": [
    "MSH_YEAR.where('PLOT_NAME','STRD').scatter(\"YEAR\",\"COVER_%\")"
   ]
  },
  {
   "cell_type": "markdown",
   "metadata": {},
   "source": [
    "### Maybe compare average COVER_% for a given year?"
   ]
  },
  {
   "cell_type": "code",
   "execution_count": null,
   "metadata": {
    "tags": []
   },
   "outputs": [],
   "source": [
    "abpl_2000 = MSH_YEAR.where(\"YEAR\", are.equal_to(2000)).where(\"PLOT_NAME\", are.equal_to(\"ABPL\"))\n",
    "abpl_2000.show(3)"
   ]
  },
  {
   "cell_type": "code",
   "execution_count": null,
   "metadata": {
    "tags": []
   },
   "outputs": [],
   "source": [
    "strd_2000 = MSH_YEAR.where(\"YEAR\", are.equal_to(2000)).where(\"PLOT_NAME\", are.equal_to(\"STRD\"))\n",
    "strd_2000.show(3)"
   ]
  },
  {
   "cell_type": "code",
   "execution_count": null,
   "metadata": {
    "tags": []
   },
   "outputs": [],
   "source": [
    "two_plots = abpl_2000.append(strd_2000)\n",
    "two_plots.hist(\"RICHNESS\", group=\"PLOT_NAME\", bins = 20)"
   ]
  },
  {
   "cell_type": "code",
   "execution_count": null,
   "metadata": {
    "tags": []
   },
   "outputs": [],
   "source": [
    "two_plots.group(\"PLOT_NAME\", np.mean)"
   ]
  },
  {
   "cell_type": "markdown",
   "metadata": {},
   "source": [
    "### Is the difference in average richness between the two plot you chose statistically significant?"
   ]
  },
  {
   "cell_type": "markdown",
   "metadata": {},
   "source": [
    "# Trends over time"
   ]
  },
  {
   "cell_type": "code",
   "execution_count": null,
   "metadata": {
    "tags": []
   },
   "outputs": [],
   "source": [
    "MSH_YEAR.where('PLOT_NAME','ABPL').group(\"YEAR\",np.mean)"
   ]
  },
  {
   "cell_type": "code",
   "execution_count": null,
   "metadata": {
    "tags": []
   },
   "outputs": [],
   "source": [
    "MSH_YEAR.where('PLOT_NAME','ABPL').group(\"YEAR\",np.mean).scatter(\"YEAR\", \"COVER_% mean\", color='green')\n",
    "plt.xlim(1995,2010)"
   ]
  },
  {
   "cell_type": "markdown",
   "metadata": {},
   "source": [
    "## Is this trend random or non-random?  (Same idea as Lab07)"
   ]
  },
  {
   "cell_type": "code",
   "execution_count": null,
   "metadata": {},
   "outputs": [],
   "source": []
  }
 ],
 "metadata": {
  "kernelspec": {
   "display_name": "Python 3 (ipykernel)",
   "language": "python",
   "name": "python3"
  },
  "language_info": {
   "codemirror_mode": {
    "name": "ipython",
    "version": 3
   },
   "file_extension": ".py",
   "mimetype": "text/x-python",
   "name": "python",
   "nbconvert_exporter": "python",
   "pygments_lexer": "ipython3",
   "version": "3.10.11"
  }
 },
 "nbformat": 4,
 "nbformat_minor": 4
}
