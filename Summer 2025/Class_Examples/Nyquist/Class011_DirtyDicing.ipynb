{
 "cells": [
  {
   "cell_type": "markdown",
   "id": "6698cbaa-e748-41ff-8368-4465eb5760e5",
   "metadata": {},
   "source": [
    "# Did the Jupyter Juggernauts Cheat?\n",
    "<img src=\"data/scoundrels_dicing.jpg\" alt=\"\"/>"
   ]
  },
  {
   "cell_type": "code",
   "execution_count": null,
   "id": "9a63d188-5b32-41e3-bae3-c32b503f16ba",
   "metadata": {},
   "outputs": [],
   "source": [
    "import numpy as np\n",
    "from datascience import *\n",
    "import matplotlib.pyplot as plt\n",
    "%matplotlib inline"
   ]
  },
  {
   "cell_type": "code",
   "execution_count": null,
   "id": "52bb2b0c-1b80-4134-a66c-de46aae1f43c",
   "metadata": {},
   "outputs": [],
   "source": [
    "dice_rolls = Table().read_table(\"data/Roll_Results_Spring_2025.csv\")\n",
    "dice_rolls.show(3)"
   ]
  },
  {
   "cell_type": "code",
   "execution_count": null,
   "id": "56a4a8d3-c190-4cbc-bafe-41d1971aba2e",
   "metadata": {},
   "outputs": [],
   "source": [
    "dice_rolls.labels"
   ]
  },
  {
   "cell_type": "code",
   "execution_count": null,
   "id": "b97d1f14-2dc3-4ba5-8a9e-e683421ef457",
   "metadata": {},
   "outputs": [],
   "source": [
    "for label in dice_rolls.labels:\n",
    "    average = np.mean(dice_rolls.column(label))\n",
    "    print(f\"The {label} had an average roll of {average}\")"
   ]
  },
  {
   "cell_type": "code",
   "execution_count": null,
   "id": "603e925e-9513-44ef-bcb2-237dd7be66ec",
   "metadata": {},
   "outputs": [],
   "source": [
    "fig, axes = plt.subplots(2, 3, figsize=(8, 6))\n",
    "\n",
    "# Define the teams\n",
    "teams = [\n",
    "    \"Data Detectives\",\n",
    "    \"Statistical Sorcerers\",\n",
    "    \"Algorithm Avengers\",\n",
    "    \"Jupyter Juggernauts\",\n",
    "    \"Outlier Outlaws\"\n",
    "]\n",
    "bins = np.arange(1.5, 13)\n",
    "# Set common limits\n",
    "xmin, xmax = 0, 14  # Adjust based on your dice roll range\n",
    "ymin, ymax = 0, 14  # Adjust based on expected frequencies\n",
    "\n",
    "# Plot histograms\n",
    "for ax, team in zip(axes.flat, teams):\n",
    "    ax.hist(dice_rolls.column(team), alpha=0.5, bins=bins, edgecolor=\"black\")\n",
    "    ax.set_title(team)\n",
    "    ax.set_xlim(xmin, xmax)\n",
    "    ax.set_ylim(ymin, ymax)\n",
    "\n",
    "# Make the last subplot blank\n",
    "axes[1,2].axis(\"off\")\n",
    "\n",
    "plt.tight_layout()\n",
    "plt.show()"
   ]
  },
  {
   "cell_type": "markdown",
   "id": "8a3c3bcd-7a75-4290-9788-dc69a1e2532c",
   "metadata": {},
   "source": [
    "## Expected mean total is 7\n",
    "The test statistics is the difference between the sample mean and the theortical mean."
   ]
  },
  {
   "cell_type": "code",
   "execution_count": null,
   "id": "b2269652-ead1-4d8f-9dc3-c4738b923178",
   "metadata": {},
   "outputs": [],
   "source": [
    "expected_value = 7\n",
    "test_statistic = np.mean(dice_rolls.column(\"Jupyter Juggernauts\")) - expected_value\n",
    "test_statistic"
   ]
  },
  {
   "cell_type": "markdown",
   "id": "381fc309-bbf9-4ec6-bf28-a6662b0a230c",
   "metadata": {},
   "source": [
    "### Null Hypothesis\n",
    "#### Jupyter Juggernauts did not cheat. They got a higher average purely by chance.\n",
    "\n",
    "### Alternative Hypothesis\n",
    "#### Jupyter Juggernauts were could not have done so well by chance."
   ]
  },
  {
   "cell_type": "markdown",
   "id": "7e6c71d6-3216-44ae-806a-cb97674e3ee4",
   "metadata": {},
   "source": [
    "## Simulating rolling dice 50 times"
   ]
  },
  {
   "cell_type": "code",
   "execution_count": null,
   "id": "2d313d09-36da-4535-86da-bdd9a45f0ee7",
   "metadata": {},
   "outputs": [],
   "source": [
    "np.arange(1, 7)"
   ]
  },
  {
   "cell_type": "code",
   "execution_count": null,
   "id": "131f1e80-81a6-4f97-b163-5e62c3ff3f5a",
   "metadata": {},
   "outputs": [],
   "source": [
    "np.random.choice(np.arange(1, 7))"
   ]
  },
  {
   "cell_type": "code",
   "execution_count": null,
   "id": "4c29f83c-7b2e-4896-a71a-492f89613634",
   "metadata": {},
   "outputs": [],
   "source": [
    "np.random.choice(np.arange(1, 7), 50)"
   ]
  },
  {
   "cell_type": "code",
   "execution_count": null,
   "id": "77f7a3b4-5b82-4d18-b8fc-a6433246a7e4",
   "metadata": {},
   "outputs": [],
   "source": [
    "sim_result = np.random.choice(np.arange(1, 7), 50) + np.random.choice(np.arange(1, 7), 50)\n",
    "sim_result"
   ]
  },
  {
   "cell_type": "markdown",
   "id": "801732a4-dcf6-448c-941f-f563e7e8630f",
   "metadata": {},
   "source": [
    "## Conduct out simulation ten thousand times"
   ]
  },
  {
   "cell_type": "code",
   "execution_count": null,
   "id": "7b351ecc-c4bf-4f3b-b16f-fbaf75181615",
   "metadata": {},
   "outputs": [],
   "source": [
    "num_sim = 10_000\n",
    "results = []\n",
    "for i in np.arange(num_sim):\n",
    "    sim_result = np.random.choice(np.arange(1, 7), 50) + np.random.choice(np.arange(1, 7), 50)\n",
    "    sim_mean = np.average(sim_result)\n",
    "    results.append(sim_mean - 7)"
   ]
  },
  {
   "cell_type": "code",
   "execution_count": null,
   "id": "7bdc63b9-031c-40e8-9e84-b1631b7ad174",
   "metadata": {},
   "outputs": [],
   "source": [
    "results[0:10]"
   ]
  },
  {
   "cell_type": "code",
   "execution_count": null,
   "id": "067dadcf-4a26-44da-8949-d1ae80aa8bdf",
   "metadata": {},
   "outputs": [],
   "source": [
    "plt.hist(results, bins=20, alpha=0.5, edgecolor=\"black\")\n",
    "plt.scatter(test_statistic, 0, marker=\"^\", s=400, color=\"red\")\n",
    "plt.xlabel(\"Difference from expected value\");"
   ]
  },
  {
   "cell_type": "markdown",
   "id": "cdb64cef-cecc-4221-bf6b-ffefcbbafb7a",
   "metadata": {},
   "source": [
    "## p-value\n",
    "The p-value is the simple the probability of getting a result greater than or equal to the test statisic by chance."
   ]
  },
  {
   "cell_type": "code",
   "execution_count": null,
   "id": "c8a3e6fe-d715-4ef1-9b27-4c13453cd888",
   "metadata": {},
   "outputs": [],
   "source": [
    "results = make_array(results)\n",
    "np.sum(results > test_statistic) / num_sim"
   ]
  },
  {
   "cell_type": "markdown",
   "id": "01012400-3aef-4464-9257-91c7f9139541",
   "metadata": {},
   "source": [
    "What did we just do to calculate the p-value?"
   ]
  },
  {
   "cell_type": "code",
   "execution_count": null,
   "id": "cb89023b-370f-4b7e-890a-2b2155002e56",
   "metadata": {},
   "outputs": [],
   "source": [
    "x = make_array(1, 4, 8, 2, 5)\n",
    "x > 4"
   ]
  },
  {
   "cell_type": "code",
   "execution_count": null,
   "id": "f95e277d-0dfd-4128-83a5-a137502f432c",
   "metadata": {},
   "outputs": [],
   "source": [
    "# True is 1, False is 0, so...\n",
    "np.sum(x > 4)"
   ]
  },
  {
   "cell_type": "code",
   "execution_count": null,
   "id": "4413cbd5-8dd2-444d-8912-48d714edf962",
   "metadata": {},
   "outputs": [],
   "source": [
    "np.max(dice_rolls.column(\"Statistical Sorcerers\"))"
   ]
  },
  {
   "cell_type": "code",
   "execution_count": null,
   "id": "fa360073-6d53-43e2-9d6d-2097c29722e1",
   "metadata": {},
   "outputs": [],
   "source": []
  }
 ],
 "metadata": {
  "kernelspec": {
   "display_name": "Python 3 (ipykernel)",
   "language": "python",
   "name": "python3"
  },
  "language_info": {
   "codemirror_mode": {
    "name": "ipython",
    "version": 3
   },
   "file_extension": ".py",
   "mimetype": "text/x-python",
   "name": "python",
   "nbconvert_exporter": "python",
   "pygments_lexer": "ipython3",
   "version": "3.11.6"
  }
 },
 "nbformat": 4,
 "nbformat_minor": 5
}
