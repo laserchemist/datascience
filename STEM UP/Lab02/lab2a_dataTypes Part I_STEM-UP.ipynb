{
 "cells": [
  {
   "cell_type": "markdown",
   "metadata": {},
   "source": [
    "# Lab 2a: Data Types Part I\n",
    "\n",
    "Welcome to Lab 2a!  \n",
    "\n",
    "Last time, we had our first look at Python and Jupyter notebooks. \n",
    "\n",
    "In this lab, we are going to look at a few different data types including numbers and text.  A piece of text is called a *string* in Python.\n",
    "\n",
    "Last, you'll learn more about working with datasets in Python."
   ]
  },
  {
   "cell_type": "markdown",
   "metadata": {},
   "source": [
    "First, initialize the grader. Each time you come back to this site to work on the lab, you will need to run this cell again."
   ]
  },
  {
   "cell_type": "code",
   "execution_count": null,
   "metadata": {
    "tags": []
   },
   "outputs": [],
   "source": [
    "from gofer.ok import check"
   ]
  },
  {
   "cell_type": "code",
   "execution_count": null,
   "metadata": {
    "tags": []
   },
   "outputs": [],
   "source": [
    "# Enter your name as a string\n",
    "# Example\n",
    "dogname = \"Phineas\"\n",
    "# Your name\n",
    "name = ..."
   ]
  },
  {
   "cell_type": "markdown",
   "metadata": {
    "tags": []
   },
   "source": [
    "## 1. Data Types and Variables\n",
    "\n",
    "Variables (names) are central to coding in any programming language and can store numbers, strings such as `\"Hello World\"`, and even whole data sets. It is important that we understand the concept of data type because in coding the functions that we can use to alter the values stored in variables depend on the data type."
   ]
  },
  {
   "cell_type": "code",
   "execution_count": null,
   "metadata": {
    "tags": []
   },
   "outputs": [],
   "source": [
    "number = 6.75"
   ]
  },
  {
   "cell_type": "markdown",
   "metadata": {},
   "source": [
    "The `type` function in Python has a variable name as the argument and returns the data type"
   ]
  },
  {
   "cell_type": "code",
   "execution_count": null,
   "metadata": {
    "tags": []
   },
   "outputs": [],
   "source": [
    "type(number)"
   ]
  },
  {
   "cell_type": "markdown",
   "metadata": {},
   "source": [
    "The variable, `number` contains a value with a datatype of `float` meaning floating point number. A float can be converted to an integer with the `int` Python function."
   ]
  },
  {
   "cell_type": "code",
   "execution_count": null,
   "metadata": {
    "tags": []
   },
   "outputs": [],
   "source": [
    "int(number)"
   ]
  },
  {
   "cell_type": "code",
   "execution_count": null,
   "metadata": {
    "tags": []
   },
   "outputs": [],
   "source": [
    "inumber = int(number)"
   ]
  },
  {
   "cell_type": "markdown",
   "metadata": {},
   "source": [
    "Below determine the type of `inumber`"
   ]
  },
  {
   "cell_type": "code",
   "execution_count": null,
   "metadata": {
    "tags": []
   },
   "outputs": [],
   "source": [
    "type(inumber)"
   ]
  },
  {
   "cell_type": "markdown",
   "metadata": {},
   "source": [
    "A string is another data type, test this out by checking the type of `dogname` defined above."
   ]
  },
  {
   "cell_type": "code",
   "execution_count": null,
   "metadata": {
    "tags": []
   },
   "outputs": [],
   "source": [
    "type(dogname)"
   ]
  },
  {
   "cell_type": "markdown",
   "metadata": {},
   "source": [
    "### 2.1 Application: A physics experiment\n",
    "\n",
    "On the Apollo 15 mission to the Moon, astronaut David Scott famously replicated Galileo's physics experiment in which he showed that gravity accelerates objects of different mass at the same rate. Because there is no air resistance for a falling object on the surface of the Moon, even two objects with very different masses and densities should fall at the same rate. David Scott compared a feather and a hammer.\n",
    "\n",
    "You can run the following cell to watch a video of the experiment."
   ]
  },
  {
   "cell_type": "code",
   "execution_count": null,
   "metadata": {
    "tags": []
   },
   "outputs": [],
   "source": [
    "from IPython.display import YouTubeVideo\n",
    "# The original URL is:\n",
    "#   https://www.youtube.com/watch?v=U7db6ZeLR5s\n",
    "YouTubeVideo(\"U7db6ZeLR5s\")"
   ]
  },
  {
   "cell_type": "markdown",
   "metadata": {},
   "source": [
    "Here's the transcript of the video:\n",
    "\n",
    "**167:22:06 Scott**: Well, in my left hand, I have a feather; in my right hand, a hammer. And I guess one of the reasons we got here today was because of a gentleman named Galileo, a long time ago, who made a rather significant discovery about falling objects in gravity fields. And we thought where would be a better place to confirm his findings than on the Moon. And so we thought we'd try it here for you. The feather happens to be, appropriately, a falcon feather for our Falcon. And I'll drop the two of them here and, hopefully, they'll hit the ground at the same time. \n",
    "\n",
    "**167:22:43 Scott**: How about that!\n",
    "\n",
    "**167:22:45 Allen**: How about that! (Applause in Houston)\n",
    "\n",
    "**167:22:46 Scott**: Which proves that Mr. Galileo was correct in his findings."
   ]
  },
  {
   "cell_type": "markdown",
   "metadata": {},
   "source": [
    "**Newton's Law.** Using this footage, we can also attempt to confirm another famous bit of physics: Newton's law of universal gravitation. Newton's laws predict that any object dropped near the surface of the Moon should fall\n",
    "\n",
    "$$\\frac{1}{2} G \\frac{M}{R^2} t^2 \\text{ meters}$$\n",
    "\n",
    "after $t$ seconds, where $G$ is a universal constant, $M$ is the moon's mass in kilograms, and $R$ is the moon's radius in meters.  So if we know $G$, $M$, and $R$, then Newton's laws let us predict how far an object will fall over any amount of time.\n",
    "\n",
    "To verify the accuracy of this law, we will calculate the difference between the predicted distance the hammer drops and the actual distance.  (If they are different, it might be because Newton's laws are wrong, or because our measurements are imprecise, or because there are other factors affecting the hammer for which we haven't accounted.)\n",
    "\n",
    "Someone studied the video and estimated that the hammer was dropped 113 cm from the surface. Counting frames in the video, the hammer falls for 1.2 seconds (36 frames)."
   ]
  },
  {
   "cell_type": "markdown",
   "metadata": {},
   "source": [
    "**Question 3** <br /> Complete the code in the next cell to fill in the *data* from the experiment."
   ]
  },
  {
   "cell_type": "code",
   "execution_count": null,
   "metadata": {
    "tags": []
   },
   "outputs": [],
   "source": [
    "# t, the duration of the fall in the experiment, in seconds.\n",
    "# Fill this in.\n",
    "time = ...\n",
    "\n",
    "# The estimated distance the hammer actually fell, in meters.\n",
    "# Fill this in.\n",
    "estimated_distance_m = ..."
   ]
  },
  {
   "cell_type": "code",
   "execution_count": null,
   "metadata": {
    "tags": []
   },
   "outputs": [],
   "source": [
    "check('tests/q3.py')"
   ]
  },
  {
   "cell_type": "markdown",
   "metadata": {},
   "source": [
    "**Question 4** <br /> Now, complete the code in the next cell to compute the difference between the predicted and estimated distances (in meters) that the hammer fell in this experiment.\n",
    "\n",
    "This just means translating the formula above ($\\frac{1}{2}G\\frac{M}{R^2}t^2$) into Python code.  You'll have to replace each variable in the math formula with the name we gave that number in Python code."
   ]
  },
  {
   "cell_type": "code",
   "execution_count": null,
   "metadata": {
    "tags": []
   },
   "outputs": [],
   "source": [
    "# First, we've written down the values of the 3 universal\n",
    "# constants that show up in Newton's formula.\n",
    "\n",
    "# G, the universal constant measuring the strength of gravity.\n",
    "gravity_constant = 6.674 * 10**-11\n",
    "\n",
    "# M, the moon's mass, in kilograms.\n",
    "moon_mass_kg = 7.34767309 * 10**22\n",
    "\n",
    "# R, the radius of the moon, in meters.\n",
    "moon_radius_m = 1.737 * 10**6\n",
    "\n",
    "# The distance the hammer should have fallen over the\n",
    "# duration of the fall, in meters, according to Newton's\n",
    "# law of gravity.  The text above describes the formula\n",
    "# for this distance given by Newton's law.\n",
    "# **YOU FILL THIS PART IN.**\n",
    "predicted_distance_m = ...\n",
    "\n",
    "# Here we've computed the difference between the predicted\n",
    "# fall distance and the distance we actually measured.\n",
    "# If you've filled in the above code, this should just work.\n",
    "difference = predicted_distance_m - estimated_distance_m\n",
    "difference"
   ]
  },
  {
   "cell_type": "code",
   "execution_count": null,
   "metadata": {},
   "outputs": [],
   "source": [
    "check('tests/q4.py')"
   ]
  },
  {
   "cell_type": "markdown",
   "metadata": {},
   "source": [
    "## 3. Text\n",
    "Programming doesn't just concern numbers. Text is one of the most common types of values used in programs. \n",
    "\n",
    "A snippet of text is represented by a **string value** in Python. The word \"*string*\" is a programming term for a sequence of characters. A string might contain a single character, a word, a sentence, or a whole book.\n",
    "\n",
    "To distinguish text data from actual code, we demarcate strings by putting quotation marks around them. Single quotes (`'`) and double quotes (`\"`) are both valid, but the types of opening and closing quotation marks must match. The contents can be any sequence of characters, including numbers and symbols. \n",
    "\n",
    "Just like names can be given to numbers, names can be given to string values.  The names and strings aren't required to be similar in any way. Any name can be assigned to any string."
   ]
  },
  {
   "cell_type": "code",
   "execution_count": null,
   "metadata": {},
   "outputs": [],
   "source": [
    "one = 'two'\n",
    "plus = '*'\n",
    "print(one, plus, one)"
   ]
  },
  {
   "cell_type": "markdown",
   "metadata": {},
   "source": [
    "**Question 5** <br/> Yuri Gagarin was the first person to travel through outer space.  When he emerged from his capsule upon landing on Earth, he [reportedly](https://en.wikiquote.org/wiki/Yuri_Gagarin) had the following conversation with a woman and girl who saw the landing:\n",
    "\n",
    "    The woman asked: \"Can it be that you have come from outer space?\"\n",
    "    Gagarin replied: \"As a matter of fact, I have!\"\n",
    "\n",
    "The cell below contains unfinished code.  Fill in the `...`s so that it prints out this conversation *exactly* as it appears above."
   ]
  },
  {
   "cell_type": "code",
   "execution_count": null,
   "metadata": {},
   "outputs": [],
   "source": [
    "woman_asking = ...\n",
    "woman_quote = '\"Can it be that you have come from outer space?\"'\n",
    "gagarin_reply = 'Gagarin replied:'\n",
    "gagarin_quote = ...\n",
    "\n",
    "print(woman_asking, woman_quote)\n",
    "print(gagarin_reply, gagarin_quote)"
   ]
  },
  {
   "cell_type": "code",
   "execution_count": null,
   "metadata": {},
   "outputs": [],
   "source": [
    "check('tests/q5.py')"
   ]
  },
  {
   "cell_type": "markdown",
   "metadata": {},
   "source": [
    "## 4. Calling functions\n",
    "\n",
    "The most common way to combine or manipulate values in Python is by calling functions. Python comes with many built-in functions that perform common operations.\n",
    "\n",
    "For example, the `abs` function takes a single number as its argument and returns the absolute value of that number.  The absolute value of a number is its distance from 0 on the number line, so `abs(5)` is 5 and `abs(-5)` is also 5."
   ]
  },
  {
   "cell_type": "markdown",
   "metadata": {},
   "source": [
    "### 4.1. Application: Computing walking distances\n",
    "Chunhua is on the corner of 7th Avenue and 42nd Street in Midtown Manhattan, and she wants to know far she'd have to walk to get to Gramercy School on the corner of 10th Avenue and 34th Street.\n",
    "\n",
    "She can't cut across blocks diagonally, since there are buildings in the way.  She has to walk along the sidewalks.  Using the map below, she sees she'd have to walk 3 avenues (long blocks) and 8 streets (short blocks).  In terms of the given numbers, she computed 3 as the difference between 7 and 10, *in absolute value*, and 8 similarly.  \n",
    "\n",
    "Chunhua also knows that blocks in Manhattan are all about 80m by 274m (avenues are farther apart than streets).  So in total, she'd have to walk $(80 \\times |42 - 34| + 274 \\times |7 - 10|)$ meters to get to the park.\n",
    "\n",
    "<img src=\"map.jpg\" alt=\"visual map about distance calculation\"/>\n",
    "\n",
    "**Question 6** <br /> Finish the line `num_avenues_away = ...` in the next cell so that the cell calculates the distance Chunhua must walk and gives it the name `manhattan_distance`.  Everything else has been filled in for you.  **Use the `abs` function.**"
   ]
  },
  {
   "cell_type": "code",
   "execution_count": null,
   "metadata": {},
   "outputs": [],
   "source": [
    "# Here's the number of streets away:\n",
    "num_streets_away = abs(42-34)\n",
    "\n",
    "# Compute the number of avenues away in a similar way:\n",
    "num_avenues_away = ...\n",
    "\n",
    "street_length_m = 80\n",
    "avenue_length_m = 274\n",
    "\n",
    "# Now we compute the total distance Chunhua must walk.\n",
    "manhattan_distance = street_length_m*num_streets_away + avenue_length_m*num_avenues_away\n",
    "\n",
    "# We've included this line so that you see the distance\n",
    "# you've computed when you run this cell.  You don't need\n",
    "# to change it, but you can if you want.\n",
    "manhattan_distance"
   ]
  },
  {
   "cell_type": "markdown",
   "metadata": {},
   "source": [
    "Be sure to run the next cell to test your code."
   ]
  },
  {
   "cell_type": "code",
   "execution_count": null,
   "metadata": {},
   "outputs": [],
   "source": [
    "check('tests/q6.py')"
   ]
  },
  {
   "cell_type": "markdown",
   "metadata": {},
   "source": [
    "##### Multiple arguments\n",
    "Some functions take multiple arguments, separated by commas. For example, the built-in `max` function returns the maximum argument passed to it."
   ]
  },
  {
   "cell_type": "code",
   "execution_count": null,
   "metadata": {},
   "outputs": [],
   "source": [
    "max(2, -3, 4, -5)"
   ]
  },
  {
   "cell_type": "markdown",
   "metadata": {},
   "source": [
    "### 4.2 Understanding nested expressions\n",
    "Function calls and arithmetic expressions can themselves contain expressions.  You saw an example in the last question:\n",
    "\n",
    "    abs(42-34)\n",
    "\n",
    "has 2 number expressions in a subtraction expression in a function call expression.  And you probably wrote something like `abs(7-10)` to compute `num_avenues_away`.\n",
    "\n",
    "Nested expressions can turn into complicated-looking code. However, the way in which complicated expressions break down is very regular."
   ]
  },
  {
   "cell_type": "markdown",
   "metadata": {},
   "source": [
    "**Question 7** <br /> Given the heights of the Splash Triplets from the Golden State Warriors, write an expression that computes the smallest difference between any of the three heights. Your expression shouldn't have any numbers in it, only function calls and the names `klay`, `steph`, and `kevin`. Give the value of your expression the name `min_height_difference`."
   ]
  },
  {
   "cell_type": "code",
   "execution_count": null,
   "metadata": {},
   "outputs": [],
   "source": [
    "# The three players' heights, in meters:\n",
    "klay =  2.01 # Klay Thompson is 6'7\"\n",
    "steph = 1.91 # Steph Curry is 6'3\"\n",
    "kevin = 2.06 # Kevin Durant is officially 6'9\", but many suspect that he is taller.\n",
    "             # (Further complicating matters, membership of the \"Splash Triplets\" \n",
    "             #  is disputed, since it was originally used in reference to \n",
    "             #  Klay Thompson, Steph Curry, and Draymond Green.)\n",
    "\n",
    "# We'd like to look at all 3 pairs of heights, compute the absolute\n",
    "# difference between each pair, and then find the smallest of those\n",
    "# 3 absolute differences.  This is left to you!  If you're stuck,\n",
    "# try computing the value for each step of the process (like the\n",
    "# difference between Klay's heigh and Steph's height) on a separate\n",
    "# line and giving it a name (like klay_steph_height_diff).\n",
    "min_height_difference = ..."
   ]
  },
  {
   "cell_type": "code",
   "execution_count": null,
   "metadata": {},
   "outputs": [],
   "source": [
    "check('tests/q7.py')"
   ]
  },
  {
   "cell_type": "markdown",
   "metadata": {},
   "source": [
    "## 6. Success! \n",
    "\n",
    "Congratulations, you're done with lab 2a!  Be sure to \n",
    "- **run all the tests and verify that they all pass** (the next cell has a shortcut for that), \n",
    "- **Save and Checkpoint** from the `File` menu,\n",
    "- **Download as a html or ipynb**!"
   ]
  },
  {
   "cell_type": "code",
   "execution_count": 1,
   "metadata": {},
   "outputs": [
    {
     "name": "stdout",
     "output_type": "stream",
     "text": [
      "Testing question 3: \n"
     ]
    },
    {
     "data": {
      "text/html": [
       "\n",
       "    \n",
       "    \n",
       "        <p>0 of 1 tests passed</p>\n",
       "        \n",
       "        \n",
       "        <p> <strong>Tests failed: </strong>\n",
       "            <ul>\n",
       "            \n",
       "                <li> \n",
       "    <p><strong style='color: red;'>tests/q3.py</strong></p>\n",
       "\n",
       "    <p><strong>Test code:</strong><pre><div class=\"highlight\" style=\"background: #f8f8f8\"><pre style=\"line-height: 125%;\"><span></span><span style=\"color: #000080; font-weight: bold\">&gt;&gt;&gt; </span><span style=\"color: #3D7B7B; font-style: italic\"># Fill in the row</span>\n",
       "<span style=\"color: #000080; font-weight: bold\">&gt;&gt;&gt; </span><span style=\"color: #3D7B7B; font-style: italic\">#   time = ...</span>\n",
       "<span style=\"color: #000080; font-weight: bold\">&gt;&gt;&gt; </span><span style=\"color: #3D7B7B; font-style: italic\"># with something like:</span>\n",
       "<span style=\"color: #000080; font-weight: bold\">&gt;&gt;&gt; </span><span style=\"color: #3D7B7B; font-style: italic\">#   time = 4.567</span>\n",
       "<span style=\"color: #000080; font-weight: bold\">&gt;&gt;&gt; </span><span style=\"color: #3D7B7B; font-style: italic\"># (except with the right number).</span>\n",
       "<span style=\"color: #000080; font-weight: bold\">&gt;&gt;&gt; </span>time <span style=\"color: #666666\">!=</span> <span style=\"color: #666666\">...</span>\n",
       "<span style=\"color: #717171\">True</span>\n",
       "</pre></div>\n",
       "</pre></p>\n",
       "\n",
       "    <p><strong>Test result:</strong><pre>Trying:\n",
       "    time != ...\n",
       "Expecting:\n",
       "    True\n",
       "**********************************************************************\n",
       "Line 7, in tests/q3.py 0\n",
       "Failed example:\n",
       "    time != ...\n",
       "Exception raised:\n",
       "    Traceback (most recent call last):\n",
       "      File \"/opt/conda/lib/python3.10/doctest.py\", line 1350, in __run\n",
       "        exec(compile(example.source, filename, \"single\",\n",
       "      File \"<doctest tests/q3.py 0[0]>\", line 1, in <module>\n",
       "        time != ...\n",
       "    NameError: name 'time' is not defined\n",
       "</pre></p>\n",
       "     </li>\n",
       "            \n",
       "            </ul>\n",
       "        \n",
       "    \n",
       "    "
      ],
      "text/plain": [
       "<gofer.ok.OKTestsResult at 0x7f9baa247670>"
      ]
     },
     "metadata": {},
     "output_type": "display_data"
    },
    {
     "name": "stdout",
     "output_type": "stream",
     "text": [
      "Testing question 4: \n"
     ]
    },
    {
     "data": {
      "text/html": [
       "\n",
       "    \n",
       "    \n",
       "        <p>0 of 1 tests passed</p>\n",
       "        \n",
       "        \n",
       "        <p> <strong>Tests failed: </strong>\n",
       "            <ul>\n",
       "            \n",
       "                <li> \n",
       "    <p><strong style='color: red;'>tests/q4.py</strong></p>\n",
       "\n",
       "    <p><strong>Test code:</strong><pre><div class=\"highlight\" style=\"background: #f8f8f8\"><pre style=\"line-height: 125%;\"><span></span><span style=\"color: #000080; font-weight: bold\">&gt;&gt;&gt; </span><span style=\"color: #3D7B7B; font-style: italic\"># Fill in the line that currently says</span>\n",
       "<span style=\"color: #000080; font-weight: bold\">&gt;&gt;&gt; </span><span style=\"color: #3D7B7B; font-style: italic\">#   predicted_distance_m = ...</span>\n",
       "<span style=\"color: #000080; font-weight: bold\">&gt;&gt;&gt; </span><span style=\"color: #3D7B7B; font-style: italic\"># in the cell above.</span>\n",
       "<span style=\"color: #000080; font-weight: bold\">&gt;&gt;&gt; </span>predicted_distance_m <span style=\"color: #666666\">!=</span> <span style=\"color: #666666\">...</span>\n",
       "<span style=\"color: #717171\">True</span>\n",
       "</pre></div>\n",
       "</pre></p>\n",
       "\n",
       "    <p><strong>Test result:</strong><pre>Trying:\n",
       "    predicted_distance_m != ...\n",
       "Expecting:\n",
       "    True\n",
       "**********************************************************************\n",
       "Line 5, in tests/q4.py 0\n",
       "Failed example:\n",
       "    predicted_distance_m != ...\n",
       "Exception raised:\n",
       "    Traceback (most recent call last):\n",
       "      File \"/opt/conda/lib/python3.10/doctest.py\", line 1350, in __run\n",
       "        exec(compile(example.source, filename, \"single\",\n",
       "      File \"<doctest tests/q4.py 0[0]>\", line 1, in <module>\n",
       "        predicted_distance_m != ...\n",
       "    NameError: name 'predicted_distance_m' is not defined\n",
       "</pre></p>\n",
       "     </li>\n",
       "            \n",
       "            </ul>\n",
       "        \n",
       "    \n",
       "    "
      ],
      "text/plain": [
       "<gofer.ok.OKTestsResult at 0x7f9baa247400>"
      ]
     },
     "metadata": {},
     "output_type": "display_data"
    },
    {
     "name": "stdout",
     "output_type": "stream",
     "text": [
      "Testing question 5: \n"
     ]
    },
    {
     "data": {
      "text/html": [
       "\n",
       "    \n",
       "    \n",
       "        <p>0 of 1 tests passed</p>\n",
       "        \n",
       "        \n",
       "        <p> <strong>Tests failed: </strong>\n",
       "            <ul>\n",
       "            \n",
       "                <li> \n",
       "    <p><strong style='color: red;'>tests/q5.py</strong></p>\n",
       "\n",
       "    <p><strong>Test code:</strong><pre><div class=\"highlight\" style=\"background: #f8f8f8\"><pre style=\"line-height: 125%;\"><span></span><span style=\"color: #000080; font-weight: bold\">&gt;&gt;&gt; </span>woman_asking\n",
       "<span style=\"color: #717171\">&#39;The woman asked:&#39;</span>\n",
       "<span style=\"color: #000080; font-weight: bold\">&gt;&gt;&gt; </span>gagarin_quote\n",
       "<span style=\"color: #717171\">&#39;&quot;As a matter of fact, I have!&quot;&#39;</span>\n",
       "</pre></div>\n",
       "</pre></p>\n",
       "\n",
       "    <p><strong>Test result:</strong><pre>Trying:\n",
       "    woman_asking\n",
       "Expecting:\n",
       "    'The woman asked:'\n",
       "**********************************************************************\n",
       "Line 2, in tests/q5.py 0\n",
       "Failed example:\n",
       "    woman_asking\n",
       "Exception raised:\n",
       "    Traceback (most recent call last):\n",
       "      File \"/opt/conda/lib/python3.10/doctest.py\", line 1350, in __run\n",
       "        exec(compile(example.source, filename, \"single\",\n",
       "      File \"<doctest tests/q5.py 0[0]>\", line 1, in <module>\n",
       "        woman_asking\n",
       "    NameError: name 'woman_asking' is not defined\n",
       "Trying:\n",
       "    gagarin_quote\n",
       "Expecting:\n",
       "    '\"As a matter of fact, I have!\"'\n",
       "**********************************************************************\n",
       "Line 4, in tests/q5.py 0\n",
       "Failed example:\n",
       "    gagarin_quote\n",
       "Exception raised:\n",
       "    Traceback (most recent call last):\n",
       "      File \"/opt/conda/lib/python3.10/doctest.py\", line 1350, in __run\n",
       "        exec(compile(example.source, filename, \"single\",\n",
       "      File \"<doctest tests/q5.py 0[1]>\", line 1, in <module>\n",
       "        gagarin_quote\n",
       "    NameError: name 'gagarin_quote' is not defined\n",
       "</pre></p>\n",
       "     </li>\n",
       "            \n",
       "            </ul>\n",
       "        \n",
       "    \n",
       "    "
      ],
      "text/plain": [
       "<gofer.ok.OKTestsResult at 0x7f9baa216d10>"
      ]
     },
     "metadata": {},
     "output_type": "display_data"
    },
    {
     "name": "stdout",
     "output_type": "stream",
     "text": [
      "Testing question 6: \n"
     ]
    },
    {
     "data": {
      "text/html": [
       "\n",
       "    \n",
       "    \n",
       "        <p>0 of 1 tests passed</p>\n",
       "        \n",
       "        \n",
       "        <p> <strong>Tests failed: </strong>\n",
       "            <ul>\n",
       "            \n",
       "                <li> \n",
       "    <p><strong style='color: red;'>tests/q6.py</strong></p>\n",
       "\n",
       "    <p><strong>Test code:</strong><pre><div class=\"highlight\" style=\"background: #f8f8f8\"><pre style=\"line-height: 125%;\"><span></span><span style=\"color: #000080; font-weight: bold\">&gt;&gt;&gt; </span><span style=\"color: #3D7B7B; font-style: italic\"># Fill in the line</span>\n",
       "<span style=\"color: #000080; font-weight: bold\">&gt;&gt;&gt; </span><span style=\"color: #3D7B7B; font-style: italic\">#   num_avenues_away = ...</span>\n",
       "<span style=\"color: #000080; font-weight: bold\">&gt;&gt;&gt; </span><span style=\"color: #3D7B7B; font-style: italic\"># in the cell above. </span>\n",
       "<span style=\"color: #000080; font-weight: bold\">&gt;&gt;&gt; </span>num_avenues_away <span style=\"color: #666666\">!=</span> <span style=\"color: #666666\">...</span>\n",
       "<span style=\"color: #717171\">True</span>\n",
       "</pre></div>\n",
       "</pre></p>\n",
       "\n",
       "    <p><strong>Test result:</strong><pre>Trying:\n",
       "    num_avenues_away != ...\n",
       "Expecting:\n",
       "    True\n",
       "**********************************************************************\n",
       "Line 5, in tests/q6.py 0\n",
       "Failed example:\n",
       "    num_avenues_away != ...\n",
       "Exception raised:\n",
       "    Traceback (most recent call last):\n",
       "      File \"/opt/conda/lib/python3.10/doctest.py\", line 1350, in __run\n",
       "        exec(compile(example.source, filename, \"single\",\n",
       "      File \"<doctest tests/q6.py 0[0]>\", line 1, in <module>\n",
       "        num_avenues_away != ...\n",
       "    NameError: name 'num_avenues_away' is not defined\n",
       "</pre></p>\n",
       "     </li>\n",
       "            \n",
       "            </ul>\n",
       "        \n",
       "    \n",
       "    "
      ],
      "text/plain": [
       "<gofer.ok.OKTestsResult at 0x7f9baa247400>"
      ]
     },
     "metadata": {},
     "output_type": "display_data"
    },
    {
     "name": "stdout",
     "output_type": "stream",
     "text": [
      "Testing question 7: \n"
     ]
    },
    {
     "data": {
      "text/html": [
       "\n",
       "    \n",
       "    \n",
       "        <p>0 of 1 tests passed</p>\n",
       "        \n",
       "        \n",
       "        <p> <strong>Tests failed: </strong>\n",
       "            <ul>\n",
       "            \n",
       "                <li> \n",
       "    <p><strong style='color: red;'>tests/q7.py</strong></p>\n",
       "\n",
       "    <p><strong>Test code:</strong><pre><div class=\"highlight\" style=\"background: #f8f8f8\"><pre style=\"line-height: 125%;\"><span></span><span style=\"color: #000080; font-weight: bold\">&gt;&gt;&gt; </span><span style=\"color: #008000\">round</span>(min_height_difference, <span style=\"color: #666666\">5</span>)\n",
       "<span style=\"color: #717171\">0.05</span>\n",
       "</pre></div>\n",
       "</pre></p>\n",
       "\n",
       "    <p><strong>Test result:</strong><pre>Trying:\n",
       "    round(min_height_difference, 5)\n",
       "Expecting:\n",
       "    0.05\n",
       "**********************************************************************\n",
       "Line 2, in tests/q7.py 0\n",
       "Failed example:\n",
       "    round(min_height_difference, 5)\n",
       "Exception raised:\n",
       "    Traceback (most recent call last):\n",
       "      File \"/opt/conda/lib/python3.10/doctest.py\", line 1350, in __run\n",
       "        exec(compile(example.source, filename, \"single\",\n",
       "      File \"<doctest tests/q7.py 0[0]>\", line 1, in <module>\n",
       "        round(min_height_difference, 5)\n",
       "    NameError: name 'min_height_difference' is not defined\n",
       "</pre></p>\n",
       "     </li>\n",
       "            \n",
       "            </ul>\n",
       "        \n",
       "    \n",
       "    "
      ],
      "text/plain": [
       "<gofer.ok.OKTestsResult at 0x7f9baa247400>"
      ]
     },
     "metadata": {},
     "output_type": "display_data"
    },
    {
     "name": "stdout",
     "output_type": "stream",
     "text": [
      "Testing question 8: \n"
     ]
    },
    {
     "data": {
      "text/html": [
       "\n",
       "    \n",
       "    \n",
       "        <p>0 of 1 tests passed</p>\n",
       "        \n",
       "        \n",
       "        <p> <strong>Tests failed: </strong>\n",
       "            <ul>\n",
       "            \n",
       "                <li> \n",
       "    <p><strong style='color: red;'>tests/q8.py</strong></p>\n",
       "\n",
       "    <p><strong>Test code:</strong><pre><div class=\"highlight\" style=\"background: #f8f8f8\"><pre style=\"line-height: 125%;\"><span></span><span style=\"color: #000080; font-weight: bold\">&gt;&gt;&gt; </span><span style=\"color: #3D7B7B; font-style: italic\"># Hint 1: Try to make the word &quot;bookkeeper&quot;!</span>\n",
       "<span style=\"color: #000080; font-weight: bold\">&gt;&gt;&gt; </span><span style=\"color: #3D7B7B; font-style: italic\"># </span>\n",
       "<span style=\"color: #000080; font-weight: bold\">&gt;&gt;&gt; </span><span style=\"color: #3D7B7B; font-style: italic\"># Hint 2: After writing this:</span>\n",
       "<span style=\"color: #000080; font-weight: bold\">&gt;&gt;&gt; </span><span style=\"color: #3D7B7B; font-style: italic\">#   you = &#39;keep&#39;</span>\n",
       "<span style=\"color: #000080; font-weight: bold\">&gt;&gt;&gt; </span><span style=\"color: #3D7B7B; font-style: italic\"># the value of the variable named &#39;the&#39; will be</span>\n",
       "<span style=\"color: #000080; font-weight: bold\">&gt;&gt;&gt; </span><span style=\"color: #3D7B7B; font-style: italic\">#   &#39;beekeeper&#39;</span>\n",
       "<span style=\"color: #000080; font-weight: bold\">&gt;&gt;&gt; </span><span style=\"color: #BA2121\">&#39;beeper&#39;</span><span style=\"color: #666666\">.</span>replace(<span style=\"color: #BA2121\">&#39;p&#39;</span>, you)<span style=\"color: #666666\">.</span>replace(<span style=\"color: #BA2121\">&#39;bee&#39;</span>, this)[::<span style=\"color: #666666\">-1</span>]\n",
       "<span style=\"color: #717171\">&#39;repeekkoob&#39;</span>\n",
       "</pre></div>\n",
       "</pre></p>\n",
       "\n",
       "    <p><strong>Test result:</strong><pre>Trying:\n",
       "    'beeper'.replace('p', you).replace('bee', this)[::-1]\n",
       "Expecting:\n",
       "    'repeekkoob'\n",
       "**********************************************************************\n",
       "Line 8, in tests/q8.py 0\n",
       "Failed example:\n",
       "    'beeper'.replace('p', you).replace('bee', this)[::-1]\n",
       "Exception raised:\n",
       "    Traceback (most recent call last):\n",
       "      File \"/opt/conda/lib/python3.10/doctest.py\", line 1350, in __run\n",
       "        exec(compile(example.source, filename, \"single\",\n",
       "      File \"<doctest tests/q8.py 0[0]>\", line 1, in <module>\n",
       "        'beeper'.replace('p', you).replace('bee', this)[::-1]\n",
       "    NameError: name 'you' is not defined\n",
       "</pre></p>\n",
       "     </li>\n",
       "            \n",
       "            </ul>\n",
       "        \n",
       "    \n",
       "    "
      ],
      "text/plain": [
       "<gofer.ok.OKTestsResult at 0x7f9baa216d10>"
      ]
     },
     "metadata": {},
     "output_type": "display_data"
    },
    {
     "name": "stdout",
     "output_type": "stream",
     "text": [
      "Testing question 9: \n"
     ]
    },
    {
     "data": {
      "text/html": [
       "\n",
       "    \n",
       "    \n",
       "        <p>0 of 1 tests passed</p>\n",
       "        \n",
       "        \n",
       "        <p> <strong>Tests failed: </strong>\n",
       "            <ul>\n",
       "            \n",
       "                <li> \n",
       "    <p><strong style='color: red;'>tests/q9.py</strong></p>\n",
       "\n",
       "    <p><strong>Test code:</strong><pre><div class=\"highlight\" style=\"background: #f8f8f8\"><pre style=\"line-height: 125%;\"><span></span><span style=\"color: #000080; font-weight: bold\">&gt;&gt;&gt; </span>sentence_length\n",
       "<span style=\"color: #717171\">896</span>\n",
       "</pre></div>\n",
       "</pre></p>\n",
       "\n",
       "    <p><strong>Test result:</strong><pre>Trying:\n",
       "    sentence_length\n",
       "Expecting:\n",
       "    896\n",
       "**********************************************************************\n",
       "Line 2, in tests/q9.py 0\n",
       "Failed example:\n",
       "    sentence_length\n",
       "Exception raised:\n",
       "    Traceback (most recent call last):\n",
       "      File \"/opt/conda/lib/python3.10/doctest.py\", line 1350, in __run\n",
       "        exec(compile(example.source, filename, \"single\",\n",
       "      File \"<doctest tests/q9.py 0[0]>\", line 1, in <module>\n",
       "        sentence_length\n",
       "    NameError: name 'sentence_length' is not defined\n",
       "</pre></p>\n",
       "     </li>\n",
       "            \n",
       "            </ul>\n",
       "        \n",
       "    \n",
       "    "
      ],
      "text/plain": [
       "<gofer.ok.OKTestsResult at 0x7f9baa247400>"
      ]
     },
     "metadata": {},
     "output_type": "display_data"
    },
    {
     "name": "stdout",
     "output_type": "stream",
     "text": [
      "Testing question 10: \n"
     ]
    },
    {
     "data": {
      "text/html": [
       "\n",
       "    \n",
       "    \n",
       "        <p>0 of 1 tests passed</p>\n",
       "        \n",
       "        \n",
       "        <p> <strong>Tests failed: </strong>\n",
       "            <ul>\n",
       "            \n",
       "                <li> \n",
       "    <p><strong style='color: red;'>tests/q10.py</strong></p>\n",
       "\n",
       "    <p><strong>Test code:</strong><pre><div class=\"highlight\" style=\"background: #f8f8f8\"><pre style=\"line-height: 125%;\"><span></span><span style=\"color: #000080; font-weight: bold\">&gt;&gt;&gt; </span><span style=\"color: #3D7B7B; font-style: italic\"># Try assigning start to a negative integer based on invented.</span>\n",
       "<span style=\"color: #000080; font-weight: bold\">&gt;&gt;&gt; </span><span style=\"color: #3D7B7B; font-style: italic\">#   start = int(invented.replace(&#39;BC &#39;, &#39;-&#39;))</span>\n",
       "<span style=\"color: #000080; font-weight: bold\">&gt;&gt;&gt; </span>start <span style=\"color: #AA22FF; font-weight: bold\">in</span> (<span style=\"color: #666666\">-106</span>, <span style=\"color: #666666\">-105</span>)\n",
       "<span style=\"color: #717171\">True</span>\n",
       "</pre></div>\n",
       "</pre></p>\n",
       "\n",
       "    <p><strong>Test result:</strong><pre>Trying:\n",
       "    start in (-106, -105)\n",
       "Expecting:\n",
       "    True\n",
       "**********************************************************************\n",
       "Line 4, in tests/q10.py 0\n",
       "Failed example:\n",
       "    start in (-106, -105)\n",
       "Exception raised:\n",
       "    Traceback (most recent call last):\n",
       "      File \"/opt/conda/lib/python3.10/doctest.py\", line 1350, in __run\n",
       "        exec(compile(example.source, filename, \"single\",\n",
       "      File \"<doctest tests/q10.py 0[0]>\", line 1, in <module>\n",
       "        start in (-106, -105)\n",
       "    NameError: name 'start' is not defined\n",
       "</pre></p>\n",
       "     </li>\n",
       "            \n",
       "            </ul>\n",
       "        \n",
       "    \n",
       "    "
      ],
      "text/plain": [
       "<gofer.ok.OKTestsResult at 0x7f9baa216d10>"
      ]
     },
     "metadata": {},
     "output_type": "display_data"
    },
    {
     "name": "stdout",
     "output_type": "stream",
     "text": [
      "Testing question 11: \n"
     ]
    },
    {
     "data": {
      "text/html": [
       "\n",
       "    \n",
       "    \n",
       "        <p>0 of 1 tests passed</p>\n",
       "        \n",
       "        \n",
       "        <p> <strong>Tests failed: </strong>\n",
       "            <ul>\n",
       "            \n",
       "                <li> \n",
       "    <p><strong style='color: red;'>tests/q11.py</strong></p>\n",
       "\n",
       "    <p><strong>Test code:</strong><pre><div class=\"highlight\" style=\"background: #f8f8f8\"><pre style=\"line-height: 125%;\"><span></span><span style=\"color: #000080; font-weight: bold\">&gt;&gt;&gt; </span><span style=\"color: #3D7B7B; font-style: italic\"># Hint: You can write the sine of 1.5*pi as:</span>\n",
       "<span style=\"color: #000080; font-weight: bold\">&gt;&gt;&gt; </span><span style=\"color: #3D7B7B; font-style: italic\">#   math.sin(1.5 * math.pi)</span>\n",
       "<span style=\"color: #000080; font-weight: bold\">&gt;&gt;&gt; </span><span style=\"color: #008000; font-weight: bold\">import</span> <span style=\"color: #0000FF; font-weight: bold\">math</span>\n",
       "<span style=\"color: #000080; font-weight: bold\">&gt;&gt;&gt; </span><span style=\"color: #008000\">round</span>(sine_of_pi_over_four, <span style=\"color: #666666\">8</span>)\n",
       "<span style=\"color: #717171\">0.70710678</span>\n",
       "</pre></div>\n",
       "</pre></p>\n",
       "\n",
       "    <p><strong>Test result:</strong><pre>Trying:\n",
       "    import math\n",
       "Expecting nothing\n",
       "ok\n",
       "Trying:\n",
       "    round(sine_of_pi_over_four, 8)\n",
       "Expecting:\n",
       "    0.70710678\n",
       "**********************************************************************\n",
       "Line 5, in tests/q11.py 0\n",
       "Failed example:\n",
       "    round(sine_of_pi_over_four, 8)\n",
       "Exception raised:\n",
       "    Traceback (most recent call last):\n",
       "      File \"/opt/conda/lib/python3.10/doctest.py\", line 1350, in __run\n",
       "        exec(compile(example.source, filename, \"single\",\n",
       "      File \"<doctest tests/q11.py 0[1]>\", line 1, in <module>\n",
       "        round(sine_of_pi_over_four, 8)\n",
       "    NameError: name 'sine_of_pi_over_four' is not defined\n",
       "</pre></p>\n",
       "     </li>\n",
       "            \n",
       "            </ul>\n",
       "        \n",
       "    \n",
       "    "
      ],
      "text/plain": [
       "<gofer.ok.OKTestsResult at 0x7f9baa247400>"
      ]
     },
     "metadata": {},
     "output_type": "display_data"
    },
    {
     "name": "stdout",
     "output_type": "stream",
     "text": [
      "Testing question 12: \n"
     ]
    },
    {
     "data": {
      "text/html": [
       "\n",
       "    \n",
       "    \n",
       "        <p>0 of 1 tests passed</p>\n",
       "        \n",
       "        \n",
       "        <p> <strong>Tests failed: </strong>\n",
       "            <ul>\n",
       "            \n",
       "                <li> \n",
       "    <p><strong style='color: red;'>tests/q12.py</strong></p>\n",
       "\n",
       "    <p><strong>Test code:</strong><pre><div class=\"highlight\" style=\"background: #f8f8f8\"><pre style=\"line-height: 125%;\"><span></span><span style=\"color: #000080; font-weight: bold\">&gt;&gt;&gt; </span><span style=\"color: #008000; font-weight: bold\">import</span> <span style=\"color: #0000FF; font-weight: bold\">numpy</span> <span style=\"color: #008000; font-weight: bold\">as</span> <span style=\"color: #0000FF; font-weight: bold\">np</span>\n",
       "<span style=\"color: #000080; font-weight: bold\">&gt;&gt;&gt; </span><span style=\"color: #008000\">type</span>(interesting_numbers) <span style=\"color: #666666\">==</span> np<span style=\"color: #666666\">.</span>ndarray\n",
       "<span style=\"color: #717171\">True</span>\n",
       "</pre></div>\n",
       "</pre></p>\n",
       "\n",
       "    <p><strong>Test result:</strong><pre>Trying:\n",
       "    import numpy as np\n",
       "Expecting nothing\n",
       "ok\n",
       "Trying:\n",
       "    type(interesting_numbers) == np.ndarray\n",
       "Expecting:\n",
       "    True\n",
       "**********************************************************************\n",
       "Line 3, in tests/q12.py 0\n",
       "Failed example:\n",
       "    type(interesting_numbers) == np.ndarray\n",
       "Exception raised:\n",
       "    Traceback (most recent call last):\n",
       "      File \"/opt/conda/lib/python3.10/doctest.py\", line 1350, in __run\n",
       "        exec(compile(example.source, filename, \"single\",\n",
       "      File \"<doctest tests/q12.py 0[1]>\", line 1, in <module>\n",
       "        type(interesting_numbers) == np.ndarray\n",
       "    NameError: name 'interesting_numbers' is not defined\n",
       "</pre></p>\n",
       "     </li>\n",
       "            \n",
       "            </ul>\n",
       "        \n",
       "    \n",
       "    "
      ],
      "text/plain": [
       "<gofer.ok.OKTestsResult at 0x7f9baa216d10>"
      ]
     },
     "metadata": {},
     "output_type": "display_data"
    },
    {
     "name": "stdout",
     "output_type": "stream",
     "text": [
      "Testing question 13: \n"
     ]
    },
    {
     "data": {
      "text/html": [
       "\n",
       "    \n",
       "    \n",
       "        <p>0 of 1 tests passed</p>\n",
       "        \n",
       "        \n",
       "        <p> <strong>Tests failed: </strong>\n",
       "            <ul>\n",
       "            \n",
       "                <li> \n",
       "    <p><strong style='color: red;'>tests/q13.py</strong></p>\n",
       "\n",
       "    <p><strong>Test code:</strong><pre><div class=\"highlight\" style=\"background: #f8f8f8\"><pre style=\"line-height: 125%;\"><span></span><span style=\"color: #000080; font-weight: bold\">&gt;&gt;&gt; </span><span style=\"color: #008000\">type</span>(multiples_of_99) <span style=\"color: #666666\">==</span> np<span style=\"color: #666666\">.</span>ndarray\n",
       "<span style=\"color: #717171\">True</span>\n",
       "</pre></div>\n",
       "</pre></p>\n",
       "\n",
       "    <p><strong>Test result:</strong><pre>Trying:\n",
       "    type(multiples_of_99) == np.ndarray\n",
       "Expecting:\n",
       "    True\n",
       "**********************************************************************\n",
       "Line 2, in tests/q13.py 0\n",
       "Failed example:\n",
       "    type(multiples_of_99) == np.ndarray\n",
       "Exception raised:\n",
       "    Traceback (most recent call last):\n",
       "      File \"/opt/conda/lib/python3.10/doctest.py\", line 1350, in __run\n",
       "        exec(compile(example.source, filename, \"single\",\n",
       "      File \"<doctest tests/q13.py 0[0]>\", line 1, in <module>\n",
       "        type(multiples_of_99) == np.ndarray\n",
       "    NameError: name 'multiples_of_99' is not defined\n",
       "</pre></p>\n",
       "     </li>\n",
       "            \n",
       "            </ul>\n",
       "        \n",
       "    \n",
       "    "
      ],
      "text/plain": [
       "<gofer.ok.OKTestsResult at 0x7f9b98066650>"
      ]
     },
     "metadata": {},
     "output_type": "display_data"
    },
    {
     "name": "stdout",
     "output_type": "stream",
     "text": [
      "Testing question 14: \n"
     ]
    },
    {
     "data": {
      "text/html": [
       "\n",
       "    \n",
       "    \n",
       "        <p>0 of 1 tests passed</p>\n",
       "        \n",
       "        \n",
       "        <p> <strong>Tests failed: </strong>\n",
       "            <ul>\n",
       "            \n",
       "                <li> \n",
       "    <p><strong style='color: red;'>tests/q14.py</strong></p>\n",
       "\n",
       "    <p><strong>Test code:</strong><pre><div class=\"highlight\" style=\"background: #f8f8f8\"><pre style=\"line-height: 125%;\"><span></span><span style=\"color: #000080; font-weight: bold\">&gt;&gt;&gt; </span><span style=\"color: #008000\">type</span>(collection_times) <span style=\"color: #666666\">==</span> np<span style=\"color: #666666\">.</span>ndarray\n",
       "<span style=\"color: #717171\">True</span>\n",
       "</pre></div>\n",
       "</pre></p>\n",
       "\n",
       "    <p><strong>Test result:</strong><pre>Trying:\n",
       "    type(collection_times) == np.ndarray\n",
       "Expecting:\n",
       "    True\n",
       "**********************************************************************\n",
       "Line 2, in tests/q14.py 0\n",
       "Failed example:\n",
       "    type(collection_times) == np.ndarray\n",
       "Exception raised:\n",
       "    Traceback (most recent call last):\n",
       "      File \"/opt/conda/lib/python3.10/doctest.py\", line 1350, in __run\n",
       "        exec(compile(example.source, filename, \"single\",\n",
       "      File \"<doctest tests/q14.py 0[0]>\", line 1, in <module>\n",
       "        type(collection_times) == np.ndarray\n",
       "    NameError: name 'collection_times' is not defined\n",
       "</pre></p>\n",
       "     </li>\n",
       "            \n",
       "            </ul>\n",
       "        \n",
       "    \n",
       "    "
      ],
      "text/plain": [
       "<gofer.ok.OKTestsResult at 0x7f9b98f6ea40>"
      ]
     },
     "metadata": {},
     "output_type": "display_data"
    },
    {
     "name": "stdout",
     "output_type": "stream",
     "text": [
      "Testing question 15: \n"
     ]
    },
    {
     "data": {
      "text/html": [
       "\n",
       "    \n",
       "    \n",
       "        <p>0 of 1 tests passed</p>\n",
       "        \n",
       "        \n",
       "        <p> <strong>Tests failed: </strong>\n",
       "            <ul>\n",
       "            \n",
       "                <li> \n",
       "    <p><strong style='color: red;'>tests/q15.py</strong></p>\n",
       "\n",
       "    <p><strong>Test code:</strong><pre><div class=\"highlight\" style=\"background: #f8f8f8\"><pre style=\"line-height: 125%;\"><span></span><span style=\"color: #000080; font-weight: bold\">&gt;&gt;&gt; </span><span style=\"color: #008000\">all</span>(powers_of_2 <span style=\"color: #666666\">==</span> <span style=\"color: #666666\">2</span> <span style=\"color: #666666\">**</span> np<span style=\"color: #666666\">.</span>arange(<span style=\"color: #666666\">15</span>))\n",
       "<span style=\"color: #717171\">True</span>\n",
       "</pre></div>\n",
       "</pre></p>\n",
       "\n",
       "    <p><strong>Test result:</strong><pre>Trying:\n",
       "    all(powers_of_2 == 2 ** np.arange(15))\n",
       "Expecting:\n",
       "    True\n",
       "**********************************************************************\n",
       "Line 2, in tests/q15.py 0\n",
       "Failed example:\n",
       "    all(powers_of_2 == 2 ** np.arange(15))\n",
       "Exception raised:\n",
       "    Traceback (most recent call last):\n",
       "      File \"/opt/conda/lib/python3.10/doctest.py\", line 1350, in __run\n",
       "        exec(compile(example.source, filename, \"single\",\n",
       "      File \"<doctest tests/q15.py 0[0]>\", line 1, in <module>\n",
       "        all(powers_of_2 == 2 ** np.arange(15))\n",
       "    NameError: name 'powers_of_2' is not defined\n",
       "</pre></p>\n",
       "     </li>\n",
       "            \n",
       "            </ul>\n",
       "        \n",
       "    \n",
       "    "
      ],
      "text/plain": [
       "<gofer.ok.OKTestsResult at 0x7f9b98f6d450>"
      ]
     },
     "metadata": {},
     "output_type": "display_data"
    }
   ],
   "source": [
    "import glob\n",
    "from gofer.ok import check\n",
    "for x in range(3, 16):\n",
    "    print('Testing question {}: '.format(str(x)))\n",
    "    display(check('tests/q{}.py'.format(str(x))))"
   ]
  },
  {
   "cell_type": "code",
   "execution_count": null,
   "metadata": {},
   "outputs": [],
   "source": []
  }
 ],
 "metadata": {
  "kernelspec": {
   "display_name": "Python 3 (ipykernel)",
   "language": "python",
   "name": "python3"
  },
  "language_info": {
   "codemirror_mode": {
    "name": "ipython",
    "version": 3
   },
   "file_extension": ".py",
   "mimetype": "text/x-python",
   "name": "python",
   "nbconvert_exporter": "python",
   "pygments_lexer": "ipython3",
   "version": "3.10.11"
  }
 },
 "nbformat": 4,
 "nbformat_minor": 4
}
