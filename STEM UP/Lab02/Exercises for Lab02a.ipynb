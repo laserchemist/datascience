{
 "cells": [
  {
   "cell_type": "markdown",
   "id": "bab3e20a-47f5-4874-94fe-ff8b8d6cf27e",
   "metadata": {},
   "source": [
    "# Jupyter Notebook exercise for Lab 2a"
   ]
  },
  {
   "cell_type": "code",
   "execution_count": null,
   "id": "eef35b4e-1d6d-410c-995a-7a2b47e06a34",
   "metadata": {
    "tags": []
   },
   "outputs": [],
   "source": [
    "Your_name = \"...\" # input your first name here.\n",
    "Your_name"
   ]
  },
  {
   "attachments": {
    "0d38c305-27c4-45df-a5e8-e9fac5e74a58.png": {
     "image/png": "[encoded data removed]"
    }
   },
   "cell_type": "markdown",
   "id": "bc824f76-643b-461e-92ee-7b4512fb0e46",
   "metadata": {},
   "source": [
    "**Question 1**\n",
    "\n",
    "![Picture1.png](attachment:0d38c305-27c4-45df-a5e8-e9fac5e74a58.png)\n",
    "\n",
    "Write this mathematical expression in code."
   ]
  },
  {
   "cell_type": "code",
   "execution_count": null,
   "id": "68f0975c-2d90-41c4-8823-f232b1af03ef",
   "metadata": {},
   "outputs": [],
   "source": []
  },
  {
   "attachments": {
    "17f1a06a-85c9-459b-82e8-62c5078086c8.png": {
     "image/png": "[encoded data removed]"
    }
   },
   "cell_type": "markdown",
   "id": "60364b76-dcea-4fc6-bcad-0321481e4f43",
   "metadata": {
    "tags": []
   },
   "source": [
    "**Question 2**\n",
    "\n",
    "![download.png](attachment:17f1a06a-85c9-459b-82e8-62c5078086c8.png)\n",
    "\n",
    "Let *A* represent the total money in an account that has continuously compounded interest. Let *P* represent the principal amount (i.e. the amount of money in the account when it started out), let *e* represent the constant 2.718..., let *r* represent the interest rate, and let *t* represent the time that has passed since the account began. The total money in an account had a principal amount of *P* = $135 and an interest rate of *r* = 0.03 after *t* = 2 years."
   ]
  },
  {
   "cell_type": "code",
   "execution_count": null,
   "id": "f4b95f82-edd3-45ff-bdf1-9a704d142d19",
   "metadata": {
    "tags": []
   },
   "outputs": [],
   "source": [
    "import math\n",
    "P = ...\n",
    "e = math.e\n",
    "r = ...\n",
    "t = ...\n",
    "\n",
    "A = ...\n",
    "print(A)"
   ]
  },
  {
   "cell_type": "markdown",
   "id": "8e07fb1b-a767-4b7f-ba53-ec9600fac702",
   "metadata": {},
   "source": [
    "**Question 3**"
   ]
  },
  {
   "cell_type": "code",
   "execution_count": null,
   "id": "98b1925e-1418-43fa-96dd-130e606a56dc",
   "metadata": {
    "tags": []
   },
   "outputs": [],
   "source": [
    "#Find the type of variables below:\n",
    "var_one = 'pie'\n",
    "var_two = 3.14159265359\n",
    "\n",
    "var_one_type = ...\n",
    "var_two_type = ..."
   ]
  },
  {
   "cell_type": "markdown",
   "id": "93d83ac0-d01f-48f5-afa5-015101cb120f",
   "metadata": {},
   "source": [
    "**Question 4**"
   ]
  },
  {
   "cell_type": "code",
   "execution_count": null,
   "id": "25a7a88d-3775-47f5-aa5a-0785bda0e37b",
   "metadata": {},
   "outputs": [],
   "source": [
    "#James want to send a message about the number of pie he wants.\n",
    "#James want 3.14 pies. Complete the following code:\n",
    "\n",
    "pi = 3.14\n",
    "print(\"I want some pies today, how about \" + ... + \" many pies\")"
   ]
  },
  {
   "cell_type": "markdown",
   "id": "7d23072b-64b4-4a4c-a72c-4f0c6aefca4a",
   "metadata": {},
   "source": [
    "**Question 5**"
   ]
  },
  {
   "cell_type": "markdown",
   "id": "72fa53e5-89f7-414a-b1fa-a03cf50d41ea",
   "metadata": {},
   "source": [
    "## Function\n",
    "In this activity, we will define a function called calculate_shipping_cost that takes two arguments representing the weight of the package (in kilograms) and the distance of the shipment (in kilometers). Inside the function, we will use the abs function to ensure positive values for weight and distance. We will then calculate the total shipping cost in USD based on the given shipping rate per kilogram and the flat shipping fee. Finally, the function with a sample shipment to compute the total shipping cost will be tested. This activity practices calling functions with multiple arguments and using Python functions effectively to solve practical problems like calculating shipping costs for different packages and distances."
   ]
  },
  {
   "cell_type": "code",
   "execution_count": null,
   "id": "00918a64-9875-4b37-9798-3ab6815c0ae5",
   "metadata": {
    "tags": []
   },
   "outputs": [],
   "source": [
    "# Define a function to calculate shipping cost\n",
    "def calculate_shipping_cost(weight_kg, distance_km):\n",
    "    shipping_rate_per_kg = 5.75\n",
    "    flat_shipping_fee = 50\n",
    "\n",
    "    # Calculate the absolute value of weight and distance\n",
    "    abs_weight_kg = ...\n",
    "    abs_distance_km = ...\n",
    "\n",
    "    # Calculate the total shipping cost\n",
    "    total_cost = shipping_rate_per_kg * ... + ... * ...\n",
    "\n",
    "    return total_cost\n",
    "\n",
    "# Test the function with a sample shipment\n",
    "package_weight_kg = ...\n",
    "shipment_distance_km = ...\n",
    "shipping_cost = calculate_shipping_cost(..., ...)\n",
    "print(\"Total Shipping Cost: $\", round(shipping_cost, 2), \"USD\")"
   ]
  },
  {
   "cell_type": "code",
   "execution_count": null,
   "id": "9686efc0-5707-495e-b31f-e3ffa45c5e6b",
   "metadata": {
    "tags": []
   },
   "outputs": [],
   "source": [
    "print(\"Good job,\", Your_name+\"!\")"
   ]
  },
  {
   "cell_type": "markdown",
   "id": "9d9d8986-6b52-4ed8-8600-ae8f023baa51",
   "metadata": {},
   "source": [
    "### Answer keys"
   ]
  },
  {
   "cell_type": "code",
   "execution_count": null,
   "id": "2cd1d7af-537f-4df5-8fe7-82c475e6002a",
   "metadata": {
    "tags": []
   },
   "outputs": [],
   "source": [
    "# Correct answer for Question 1:\n",
    "(3/5)**4-(2**3/7)**2"
   ]
  },
  {
   "cell_type": "code",
   "execution_count": null,
   "id": "26fd6e8f-4693-4a80-8595-c8d29455bdd8",
   "metadata": {
    "tags": []
   },
   "outputs": [],
   "source": [
    "# Correct answer for Question 2:\n",
    "P = 135\n",
    "e = math.e\n",
    "r = 0.03\n",
    "t = 2\n",
    "\n",
    "A = P*(e**(r*t))\n",
    "print(A)\n",
    "print(\"$\",round(A, 2)) # rounding to two decimal places"
   ]
  },
  {
   "cell_type": "code",
   "execution_count": null,
   "id": "19deb00d-7bdc-497f-8e4a-664959dd258a",
   "metadata": {
    "tags": []
   },
   "outputs": [],
   "source": [
    "# Correct answer for Question 3:\n",
    "\n",
    "#Find the type of variables below:\n",
    "var_one = 'pie'\n",
    "var_two = 3.14159265359\n",
    "\n",
    "var_one_type = type(var_one)\n",
    "print(var_one_type)\n",
    "var_two_type = type(var_two)\n",
    "print(var_two_type)"
   ]
  },
  {
   "cell_type": "code",
   "execution_count": null,
   "id": "97f157f1-b4c9-4f41-9bfb-d3e0fb6865e7",
   "metadata": {
    "tags": []
   },
   "outputs": [],
   "source": [
    "# Correct answer for Question 3:\n",
    "#James want to send a message about the number of pie he wants.\n",
    "#James want 3.14 pies. Complete the following code:\n",
    "\n",
    "pi = 3.14\n",
    "print(\"I want some pies today, how about \" + str(pi) + \" many pies\")"
   ]
  },
  {
   "cell_type": "code",
   "execution_count": null,
   "id": "f67a6384-6b01-4d00-b9d1-4448662cb3c9",
   "metadata": {
    "tags": []
   },
   "outputs": [],
   "source": [
    "# Correct answer for Question 5:\n",
    "# Define a function to calculate shipping cost\n",
    "def calculate_shipping_cost(weight_kg, distance_km):\n",
    "    shipping_rate_per_kg = 5.75\n",
    "    flat_shipping_fee = 50\n",
    "\n",
    "    # Calculate the absolute value of weight and distance\n",
    "    abs_weight_kg = abs(weight_kg)\n",
    "    abs_distance_km = abs(distance_km)\n",
    "\n",
    "    # Calculate the total shipping cost\n",
    "    total_cost = shipping_rate_per_kg * abs_weight_kg + flat_shipping_fee * abs_distance_km\n",
    "\n",
    "    return total_cost\n",
    "\n",
    "# Test the function with a sample shipment\n",
    "package_weight_kg = 2.5\n",
    "shipment_distance_km = 120\n",
    "shipping_cost = calculate_shipping_cost(package_weight_kg, shipment_distance_km)\n",
    "print(\"Total Shipping Cost: $\", round(shipping_cost,2), \"USD\")"
   ]
  },
  {
   "cell_type": "code",
   "execution_count": null,
   "id": "f89503ac-7d94-43af-a098-2294f60c6126",
   "metadata": {},
   "outputs": [],
   "source": []
  }
 ],
 "metadata": {
  "kernelspec": {
   "display_name": "Python 3 (ipykernel)",
   "language": "python",
   "name": "python3"
  },
  "language_info": {
   "codemirror_mode": {
    "name": "ipython",
    "version": 3
   },
   "file_extension": ".py",
   "mimetype": "text/x-python",
   "name": "python",
   "nbconvert_exporter": "python",
   "pygments_lexer": "ipython3",
   "version": "3.10.11"
  }
 },
 "nbformat": 4,
 "nbformat_minor": 5
}
