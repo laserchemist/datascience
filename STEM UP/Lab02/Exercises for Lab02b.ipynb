{
 "cells": [
  {
   "cell_type": "markdown",
   "id": "ea00dabe-d8fd-4252-9e51-3e86793486db",
   "metadata": {},
   "source": [
    "# Jupyter Notebook exercise for Lab 2b"
   ]
  },
  {
   "cell_type": "markdown",
   "id": "c5739ff2-d55b-4d48-80c3-4e35d6d9e7c5",
   "metadata": {},
   "source": [
    "**Question 1**\n",
    "\n",
    "Use the `arange` method from the numpy package to make an array containing all multiples of 7 between 700 and 800."
   ]
  },
  {
   "cell_type": "code",
   "execution_count": null,
   "id": "2df77c2c-6cb4-4994-9df4-9de34a45351a",
   "metadata": {
    "tags": []
   },
   "outputs": [],
   "source": [
    "import numpy as np\n",
    "np.arange(..., ..., ...)"
   ]
  },
  {
   "cell_type": "markdown",
   "id": "4e767ed8-f75c-4bfc-907d-7a75e9cde7d3",
   "metadata": {
    "tags": []
   },
   "source": [
    "**Question 2**"
   ]
  },
  {
   "cell_type": "markdown",
   "id": "f4f3a1cc-8281-4e54-8493-2c9446c9cf6e",
   "metadata": {},
   "source": [
    "##### This activity demonstrates the practical usage of np.arange in generating an array of even numbers. It showcases how to use the function to create a sequence of numbers with a specific step size, allowing us to obtain a series of even numbers conveniently. This activity is beneficial for beginners learning NumPy and Python programming as it introduces them to the concept of generating arrays with np.arange and reinforces their understanding of even numbers and the array data structure. By going through this activity, learners can enhance their skills in using NumPy functions and manipulating arrays, which are fundamental concepts in data science and scientific computing."
   ]
  },
  {
   "cell_type": "code",
   "execution_count": null,
   "id": "6ba8d4b4-1325-4d7d-bdf6-6f75c5c6d679",
   "metadata": {
    "tags": []
   },
   "outputs": [],
   "source": [
    "import numpy as np\n",
    "\n",
    "# Function to generate an array of 'n' even numbers\n",
    "def generate_even_numbers(n):\n",
    "    # Use np.arange to create an array of even numbers\n",
    "    even_numbers = np.arange(0, n * 2, 2)\n",
    "    return even_numbers"
   ]
  },
  {
   "cell_type": "markdown",
   "id": "a1c7c3a9-f6ed-48cc-820b-82630bad6d77",
   "metadata": {},
   "source": [
    "##### Use the function generate_even_numbers(n) to print the output \"The first 5 even numbers: [0 2 4 6 8]\"."
   ]
  },
  {
   "cell_type": "code",
   "execution_count": null,
   "id": "91f08026-c76a-4b79-b0b2-c385db8a40b2",
   "metadata": {},
   "outputs": [],
   "source": []
  },
  {
   "cell_type": "markdown",
   "id": "9b594cae-a326-4f4c-a7db-4259fe9a59fc",
   "metadata": {
    "tags": []
   },
   "source": [
    "**Question 3**"
   ]
  },
  {
   "cell_type": "code",
   "execution_count": null,
   "id": "ab2e1c6d-30fd-4d29-8860-381b3f0e4051",
   "metadata": {
    "tags": []
   },
   "outputs": [],
   "source": [
    "# Fix the word so the pattern continues\n",
    "flawed_word = 'pipipipfpipipipipitipipipipi'\n",
    "fixed_word = flawed_word.replace( '...', '...').replace( '...', '...')\n",
    "print(fixed_word)"
   ]
  },
  {
   "cell_type": "markdown",
   "id": "9a342e87-5b6b-4009-afd5-cc69cc75d5da",
   "metadata": {},
   "source": [
    "**Question 4**"
   ]
  },
  {
   "cell_type": "markdown",
   "id": "562d1c2b-9396-4a81-ae8c-e182075d86e9",
   "metadata": {},
   "source": [
    "##### Use np.arange method to create an array([ 1,  5,  9, 13, 17])"
   ]
  },
  {
   "cell_type": "code",
   "execution_count": null,
   "id": "8face2d4-4cd0-40e3-8d4a-65e9a8347d42",
   "metadata": {
    "tags": []
   },
   "outputs": [],
   "source": [
    "import numpy as np\n",
    "by_four_to_20 = np.arange(..., ..., ...)\n",
    "by_four_to_20"
   ]
  },
  {
   "cell_type": "markdown",
   "id": "c2bbe644-80e7-49d5-b907-5f72a153b8f4",
   "metadata": {},
   "source": [
    "**Question 5**\n",
    "\n",
    "Use np.arange method to make an array([ 3,  9, 27, 81])"
   ]
  },
  {
   "cell_type": "code",
   "execution_count": null,
   "id": "a99ef532-a30e-4e72-b736-4bb419775d43",
   "metadata": {
    "tags": []
   },
   "outputs": [],
   "source": [
    "powers_of_3 = ...\n",
    "powers_of_3"
   ]
  },
  {
   "cell_type": "markdown",
   "id": "c18ad6c5-c4f5-4f46-8488-dd130c22d7eb",
   "metadata": {},
   "source": [
    "**Extra**\n",
    "\n",
    "Use the documentation to find out what the function `math.ceil(x)` does."
   ]
  },
  {
   "cell_type": "code",
   "execution_count": null,
   "id": "fd5ed975-bcd2-4c78-8cf0-69d638a10e7d",
   "metadata": {
    "tags": []
   },
   "outputs": [],
   "source": [
    "import math # Import math library\n",
    "# Correct answer:\n",
    "math.ceil?"
   ]
  },
  {
   "cell_type": "code",
   "execution_count": null,
   "id": "33011ec1-c529-40c8-97d2-93f85ac1fdb7",
   "metadata": {
    "tags": []
   },
   "outputs": [],
   "source": [
    "# Round a number upward to its nearest integer\n",
    "print(math.ceil(2.5))\n",
    "print(math.ceil(6.2))\n",
    "print(math.ceil(-5.6))\n",
    "print(math.ceil(23.7))\n",
    "print(math.ceil(10.0))"
   ]
  },
  {
   "cell_type": "markdown",
   "id": "3a40c14e-fe2c-48ba-bddb-a385d6d6b562",
   "metadata": {},
   "source": [
    "### Answer keys to questions\n",
    "Suggest to try solving the questions first before looking at the answers."
   ]
  },
  {
   "cell_type": "code",
   "execution_count": null,
   "id": "1418ebc2-9b64-4668-a53e-1efe7d4c7867",
   "metadata": {
    "tags": []
   },
   "outputs": [],
   "source": [
    "# Answer for Question 1\n",
    "import numpy as np\n",
    "np.arange(700, 800, 7)"
   ]
  },
  {
   "cell_type": "code",
   "execution_count": null,
   "id": "2d8ab46b-25e3-4a34-a0a7-f250acb74b93",
   "metadata": {
    "tags": []
   },
   "outputs": [],
   "source": [
    "# Answer for Question 2\n",
    "# Test the function to generate the first 5 even numbers\n",
    "n_elements = 5\n",
    "even_numbers = generate_even_numbers(n_elements)\n",
    "\n",
    "print(\"The first\", n_elements, \"even numbers:\", even_numbers)"
   ]
  },
  {
   "cell_type": "code",
   "execution_count": null,
   "id": "3c776ef1-d3eb-4af7-9a8d-1cf393c45ea2",
   "metadata": {
    "tags": []
   },
   "outputs": [],
   "source": [
    "# Answer for Question 3\n",
    "#Fix the word so the pattern continues\n",
    "flawed_word = 'pipipipfpipipipipitipipipipi'\n",
    "fixed_word = flawed_word.replace( 'f', 'i').replace( 't', 'p')\n",
    "print(fixed_word)"
   ]
  },
  {
   "cell_type": "code",
   "execution_count": null,
   "id": "10b57507-9ac0-4b4a-b56a-8a5422815a2a",
   "metadata": {
    "tags": []
   },
   "outputs": [],
   "source": [
    "# Answer for Question 4\n",
    "import numpy as np\n",
    "by_four_to_20 = np.arange(1, 20, 4)\n",
    "by_four_to_20"
   ]
  },
  {
   "cell_type": "code",
   "execution_count": null,
   "id": "4ca3c4ae-ee35-4de2-86b6-c460d9abcb1b",
   "metadata": {
    "tags": []
   },
   "outputs": [],
   "source": [
    "# Answer for Question 5\n",
    "powers_of_3 = 3**np.arange(1,5)\n",
    "powers_of_3"
   ]
  }
 ],
 "metadata": {
  "kernelspec": {
   "display_name": "Python 3 (ipykernel)",
   "language": "python",
   "name": "python3"
  },
  "language_info": {
   "codemirror_mode": {
    "name": "ipython",
    "version": 3
   },
   "file_extension": ".py",
   "mimetype": "text/x-python",
   "name": "python",
   "nbconvert_exporter": "python",
   "pygments_lexer": "ipython3",
   "version": "3.10.11"
  }
 },
 "nbformat": 4,
 "nbformat_minor": 5
}
