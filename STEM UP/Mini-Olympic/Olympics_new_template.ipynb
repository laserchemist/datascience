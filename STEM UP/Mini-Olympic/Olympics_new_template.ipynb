{
 "cells": [
  {
   "cell_type": "markdown",
   "id": "7582dd01-fb4a-4b83-b913-c3141eb74aab",
   "metadata": {},
   "source": [
    "## Olympics Data mini-project\n",
    "Temple Elements of Data Science\n",
    "In this mini-project you will draw on your new found skills from Module 1 of the course, Have Fun!\n",
    "The description of the mini-project and it's goals is given [here](https://sites.temple.edu/eds8/files/2022/09/Olympic_Lab_Mini_project.pdf)"
   ]
  },
  {
   "cell_type": "code",
   "execution_count": null,
   "id": "0669759c-539d-418e-9b4a-bb4308f6f47f",
   "metadata": {},
   "outputs": [],
   "source": [
    "# Enter your name as a string\n",
    "name = ..."
   ]
  },
  {
   "cell_type": "code",
   "execution_count": null,
   "id": "742e0e08-c659-4fc2-b690-2a7a21c57206",
   "metadata": {},
   "outputs": [],
   "source": [
    "# Extra Python functionality to import\n",
    "from datascience import *  # datascience Table \n",
    "\n",
    "import numpy as np\n",
    "import pandas as pd\n",
    "%matplotlib inline\n",
    "import matplotlib.pyplot as plt\n",
    "plt.style.use('fivethirtyeight')\n",
    "# Fix for datascience plots\n",
    "import collections as collections\n",
    "import collections.abc as abc\n",
    "collections.Iterable = abc.Iterable"
   ]
  },
  {
   "cell_type": "markdown",
   "id": "1d8d5c53-41ba-459a-8e85-cb9e3499fdb7",
   "metadata": {},
   "source": [
    "### Data Sets\n",
    "Athletes: Olympic_Data/athlete_events.csv\n",
    "Source: Kaggle https://www.kaggle.com/heesoo37/120-years-of-olympic-history-athletes-and-results"
   ]
  },
  {
   "cell_type": "code",
   "execution_count": null,
   "id": "51ec1d19-eac2-4cf7-979a-f2088537248d",
   "metadata": {},
   "outputs": [],
   "source": [
    "datafile = \"Olympic_Data/winter_athletes.csv\"\n",
    "athletes = Table.read_table(datafile).sort(\"Year\",descending=True).where(\"Season\",\"Winter\")\n",
    "athletes"
   ]
  },
  {
   "cell_type": "markdown",
   "id": "0585b622-e1ed-4752-b9f6-b99de9e9d1d3",
   "metadata": {},
   "source": [
    "## Mini-Project\n",
    "Now develop your project to address goals given in the [linked document](https://sites.temple.edu/eds8/files/2023/02/Olympic_Lab_Mini_project.pdf). Feel free to expand the project to explore ideas of interest."
   ]
  },
  {
   "cell_type": "markdown",
   "id": "2de3900e-a066-4a6c-a9f9-61d6e9cbc66c",
   "metadata": {},
   "source": [
    "### Stage 1: Data exploration"
   ]
  },
  {
   "cell_type": "markdown",
   "id": "db6ad1d2-8711-451d-ac44-e5a8f4e1e8ea",
   "metadata": {},
   "source": [
    "### Ages of Athletes\n",
    "Some ages are entered as <i>nan</i>.  <i>nan</i> is hard to work with as we saw in a previous lab. One way to think of this is <i>nan</i> is a very large number like infinity so if we use where to get ride of ages above any reasonable Olympic athletes age such as 99 we will remove the <i>nan</i> as below. "
   ]
  },
  {
   "cell_type": "code",
   "execution_count": null,
   "id": "29dd62f1-c486-4f41-a5a5-eab4ebae3fa8",
   "metadata": {},
   "outputs": [],
   "source": [
    "age_athletes = athletes.where(\"Age\",are.below(99)).where(\"Age\",are.above(0))\n",
    "age_athletes"
   ]
  },
  {
   "cell_type": "markdown",
   "id": "b9fff84a-6213-41d7-b099-230545ea5c38",
   "metadata": {},
   "source": [
    "#### Question 1 "
   ]
  },
  {
   "cell_type": "code",
   "execution_count": null,
   "id": "9cac8947-0def-4927-9c1a-88a9a2cab0ee",
   "metadata": {},
   "outputs": [],
   "source": []
  },
  {
   "cell_type": "markdown",
   "id": "691bae78-9b2d-487a-a561-2d4f233b437c",
   "metadata": {},
   "source": [
    "\n"
   ]
  },
  {
   "cell_type": "markdown",
   "id": "31d98101-7f3a-4a3c-b1c5-ad2039c3e6a3",
   "metadata": {},
   "source": [
    "#### Question 2: Age distribution and min, max, median, mean, and standard deviation of age (five number summary)"
   ]
  },
  {
   "cell_type": "code",
   "execution_count": null,
   "id": "5a3673e1-39fb-41f8-a96d-1e54cc6c5caa",
   "metadata": {},
   "outputs": [],
   "source": []
  },
  {
   "cell_type": "markdown",
   "id": "167b9756-8e33-493a-a84f-520c6b481c77",
   "metadata": {},
   "source": [
    "### Stage 2: Time trends and comparative results"
   ]
  },
  {
   "cell_type": "markdown",
   "id": "c37a904a-54da-43a5-8d43-470043d00bed",
   "metadata": {},
   "source": [
    "#### Question 7. Use a scatter to plot the number of athletes for each country versus the number of medals.\n",
    "Use the below datascience Table approach to create a column for whether an athletes has a medal, True or False."
   ]
  },
  {
   "cell_type": "markdown",
   "id": "865f026a-c23c-4692-826d-c0357dd4e6bb",
   "metadata": {},
   "source": [
    "##### To get a table with just US athletes, create the same for Norway and use the Table .append method to create a Table with only these two countries."
   ]
  },
  {
   "cell_type": "code",
   "execution_count": null,
   "id": "184813e5-2e37-4e6e-8e5b-c7c67c6b6cb1",
   "metadata": {},
   "outputs": [],
   "source": [
    "US = athletes.where('Team',are.equal_to(\"United States\"))"
   ]
  },
  {
   "cell_type": "code",
   "execution_count": null,
   "id": "87b5a077-54bc-409a-b826-478d15b15579",
   "metadata": {
    "tags": []
   },
   "outputs": [],
   "source": [
    "athletes_NORUSA=athletes_NORUSA.with_columns(\"Medal num\",athletes_NORUSA.column(\"Medal\")!=\"nan\",\"Athlete Number\",1)\n",
    "athletes_NORUSA"
   ]
  },
  {
   "cell_type": "code",
   "execution_count": null,
   "id": "714fa397-811c-4f30-8bee-65560dd46ba4",
   "metadata": {},
   "outputs": [],
   "source": [
    "athletes_NORUSA.pivot(\"Medal num\",\"Year\")"
   ]
  }
 ],
 "metadata": {
  "kernelspec": {
   "display_name": "Python 3 (ipykernel)",
   "language": "python",
   "name": "python3"
  },
  "language_info": {
   "codemirror_mode": {
    "name": "ipython",
    "version": 3
   },
   "file_extension": ".py",
   "mimetype": "text/x-python",
   "name": "python",
   "nbconvert_exporter": "python",
   "pygments_lexer": "ipython3",
   "version": "3.10.8"
  }
 },
 "nbformat": 4,
 "nbformat_minor": 5
}
