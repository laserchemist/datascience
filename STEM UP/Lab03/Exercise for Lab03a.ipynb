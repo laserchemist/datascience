{
 "cells": [
  {
   "cell_type": "markdown",
   "id": "60018b4b-44b1-4d85-9bc9-2e291c743764",
   "metadata": {},
   "source": [
    "# Jupyter Notebook Exercises for Lab03a"
   ]
  },
  {
   "cell_type": "code",
   "execution_count": null,
   "id": "677ddefb-0355-4b6a-83f0-6d20784f4283",
   "metadata": {
    "tags": []
   },
   "outputs": [],
   "source": [
    "from datascience import *"
   ]
  },
  {
   "cell_type": "markdown",
   "id": "32e1eaf1-434c-432b-ba7f-3f4314497998",
   "metadata": {},
   "source": [
    "**Question 1**\n",
    "\n",
    "First, make an array containing the following quantities: 5, 7.56, 13.0, and 4.3. Next, make a list containing the same quantities."
   ]
  },
  {
   "cell_type": "code",
   "execution_count": null,
   "id": "0552bcd5-8628-482b-9cf2-1b4659b7ff61",
   "metadata": {
    "tags": []
   },
   "outputs": [],
   "source": [
    "array = ...\n",
    "print(array)\n",
    "\n",
    "list = ...\n",
    "print(list)"
   ]
  },
  {
   "cell_type": "markdown",
   "id": "dea6bb3b-7033-4a82-9fc7-5cfcbbff35e7",
   "metadata": {},
   "source": [
    "**Question 2**\n",
    "\n",
    "Determine the type of the first entry in the array and list you just made. Explain the result."
   ]
  },
  {
   "cell_type": "code",
   "execution_count": null,
   "id": "2776b67f-4808-4798-ba66-b5ccda61de30",
   "metadata": {
    "tags": []
   },
   "outputs": [],
   "source": [
    "...(5.)"
   ]
  },
  {
   "cell_type": "code",
   "execution_count": null,
   "id": "fc7274a7-406b-4922-9b4b-84ce3d682466",
   "metadata": {
    "tags": []
   },
   "outputs": [],
   "source": [
    "...(5)"
   ]
  },
  {
   "cell_type": "markdown",
   "id": "d7a2240a-a183-4578-a0c9-08f2d4cd62cc",
   "metadata": {},
   "source": [
    "**Question 3**"
   ]
  },
  {
   "cell_type": "code",
   "execution_count": null,
   "id": "fc60922c-220f-4d93-9aa2-3a48c917b79e",
   "metadata": {
    "tags": []
   },
   "outputs": [],
   "source": [
    "# Complete to create a table of students' grades \n",
    "# Provided data for students' grades\n",
    "names = make_...(\"Alice\", \"Bob\", \"Charlie\", \"David\", \"Eva\")\n",
    "assignments = make_...(95, 87, 78, 92, 89)\n",
    "quizzes = make_...(88, 92, 84, 79, 95)\n",
    "exams = make_...(90, 85, 88, 92, 87)\n",
    "\n",
    "# Create an empty table\n",
    "grades = Table()\n",
    "\n",
    "# Add columns to the table using with_columns\n",
    "grades = grades.with_columns(\n",
    "    \"Name\", ...,\n",
    "    \"Assignments\", ...,\n",
    "    \"Quizzes\", ...,\n",
    "    \"Exams\", ...\n",
    ")\n",
    "\n",
    "# Display the grades table\n",
    "print(grades)\n"
   ]
  },
  {
   "cell_type": "markdown",
   "id": "89c28996-5334-48aa-930a-83be7b534ef5",
   "metadata": {},
   "source": [
    "**Question 3.1**\n",
    "\n",
    "In Question 3, who has the highest exam score? Use the .sort and .take(0) table methods. "
   ]
  },
  {
   "cell_type": "code",
   "execution_count": null,
   "id": "c22bbac7-9de7-4e86-acef-9413e89db72e",
   "metadata": {},
   "outputs": [],
   "source": []
  },
  {
   "cell_type": "markdown",
   "id": "6e54f2d6-913c-4c21-abd3-a55d892be04b",
   "metadata": {
    "tags": []
   },
   "source": [
    "**Question 3.2**\n",
    "\n",
    "In Question 3, who has the lowest exam score? Use the .sort and .take(0) table methods. "
   ]
  },
  {
   "cell_type": "code",
   "execution_count": null,
   "id": "2ea1cf1b-5b50-4179-a63c-9a3f75890c06",
   "metadata": {},
   "outputs": [],
   "source": []
  },
  {
   "cell_type": "markdown",
   "id": "aa7fa493-1101-4be7-9eee-93aa3fe4552f",
   "metadata": {},
   "source": [
    "**Question 4**\n",
    "\n",
    "Add a new column of \"Color\" with an array ('pink', 'yellow', 'red') to the table flowers. (Hint: use .with_column table method.)"
   ]
  },
  {
   "cell_type": "code",
   "execution_count": null,
   "id": "c6e19a50-0547-464a-be5d-cddd98cd419b",
   "metadata": {
    "tags": []
   },
   "outputs": [],
   "source": [
    "flowers = Table().with_columns(\n",
    "    'Number of petals', make_array(8, 34, 5),\n",
    "    'Name', make_array('lotus', 'sunflower', 'rose')\n",
    ")\n",
    "... ..."
   ]
  },
  {
   "cell_type": "markdown",
   "id": "6c231c38-596d-47af-8aa1-0f5790281ddf",
   "metadata": {},
   "source": [
    "**Question 5**\n",
    "\n",
    "In the table from Question 4, which flower has the most number of petals? Use the .sort and .take(0) table methods. "
   ]
  },
  {
   "cell_type": "code",
   "execution_count": null,
   "id": "5ff99eda-8e5b-440e-a821-fd087dc0ce1b",
   "metadata": {},
   "outputs": [],
   "source": []
  },
  {
   "cell_type": "markdown",
   "id": "cfcddaae-5a53-477d-bf1e-8064cfeaa93b",
   "metadata": {},
   "source": [
    "### Answer keys\n",
    "\n",
    "Suggest to try solving the questions first before looking at the answers."
   ]
  },
  {
   "cell_type": "code",
   "execution_count": 44,
   "id": "10d51f7a-fc35-4809-999c-b612ff7edeae",
   "metadata": {
    "tags": []
   },
   "outputs": [
    {
     "name": "stdout",
     "output_type": "stream",
     "text": [
      "[  5.     7.56  13.     4.3 ]\n",
      "[5, 7.56, 13.0, 4.3]\n"
     ]
    }
   ],
   "source": [
    "# Correct answer for Question 1:\n",
    "\n",
    "array = make_array(5, 7.56, 13.0, 4.3)\n",
    "print(array)\n",
    "\n",
    "list = [5, 7.56, 13.0, 4.3]\n",
    "print(list)"
   ]
  },
  {
   "cell_type": "code",
   "execution_count": 45,
   "id": "88a7964f-19e4-4228-946d-0bb127122f23",
   "metadata": {
    "tags": []
   },
   "outputs": [
    {
     "data": {
      "text/plain": [
       "float"
      ]
     },
     "execution_count": 45,
     "metadata": {},
     "output_type": "execute_result"
    }
   ],
   "source": [
    "# Correct answer for Question 2:\n",
    "type(5.)"
   ]
  },
  {
   "cell_type": "code",
   "execution_count": null,
   "id": "8bbfd345-f487-4526-99d1-1ce923ea77cf",
   "metadata": {
    "tags": []
   },
   "outputs": [],
   "source": [
    "type(5)"
   ]
  },
  {
   "cell_type": "markdown",
   "id": "4b81c8f6-4907-416d-b7f1-51b468df0652",
   "metadata": {},
   "source": [
    "In a list, different entries can have different data types, so 5 remains as an integer. In an array, all entries must have the same data type, so 5 becomes a float."
   ]
  },
  {
   "cell_type": "code",
   "execution_count": null,
   "id": "f5e0701c-d275-4e93-b3c4-30146f624ed9",
   "metadata": {
    "tags": []
   },
   "outputs": [],
   "source": [
    "# Answer for Question 3\n",
    "# Provided data for students' grades\n",
    "names = make_array(\"Alice\", \"Bob\", \"Charlie\", \"David\", \"Eva\")\n",
    "assignments = make_array(95, 87, 78, 92, 89)\n",
    "quizzes = make_array(88, 92, 84, 79, 95)\n",
    "exams = make_array(90, 85, 88, 92, 87)\n",
    "\n",
    "# Create an empty table\n",
    "grades = Table()\n",
    "\n",
    "# Add columns to the table using with_columns\n",
    "grades = grades.with_columns(\n",
    "    \"Name\", names,\n",
    "    \"Assignments\", assignments,\n",
    "    \"Quizzes\", quizzes,\n",
    "    \"Exams\", exams\n",
    ")\n",
    "\n",
    "# Display the grades table\n",
    "print(grades)\n"
   ]
  },
  {
   "cell_type": "code",
   "execution_count": null,
   "id": "c9ae14de-6e44-408e-ac98-a7e40cd947dc",
   "metadata": {
    "tags": []
   },
   "outputs": [],
   "source": [
    "# Answer for Question 3.1\n",
    "\n",
    "grades.sort(\"Exams\", descending = True).take(0)"
   ]
  },
  {
   "cell_type": "code",
   "execution_count": null,
   "id": "1eaaa171-bd36-433c-b0f8-53720e2b8100",
   "metadata": {
    "tags": []
   },
   "outputs": [],
   "source": [
    "# Answer for Question 3.2\n",
    "\n",
    "grades.sort(\"Exams\").take(0)"
   ]
  },
  {
   "cell_type": "code",
   "execution_count": null,
   "id": "a414ffba-e4ab-423e-853f-0931b1dcb515",
   "metadata": {
    "tags": []
   },
   "outputs": [],
   "source": [
    "# Answer for Question 4\n",
    "\n",
    "flowers = Table().with_columns(\n",
    "    'Number of petals', make_array(8, 34, 5),\n",
    "    'Name', make_array('lotus', 'sunflower', 'rose')\n",
    ")\n",
    "\n",
    "flowers_table = flowers.with_column(\n",
    "    'Color', make_array('pink', 'yellow', 'red')\n",
    ")\n",
    "flowers_table"
   ]
  },
  {
   "cell_type": "code",
   "execution_count": null,
   "id": "33fd09f1-76f6-4a21-bad2-f7caae1bbe99",
   "metadata": {
    "tags": []
   },
   "outputs": [],
   "source": [
    "# Answer for Question 5\n",
    "flowers_table.sort('Number of petals', descending = True).take(0)"
   ]
  }
 ],
 "metadata": {
  "kernelspec": {
   "display_name": "Python 3 (ipykernel)",
   "language": "python",
   "name": "python3"
  },
  "language_info": {
   "codemirror_mode": {
    "name": "ipython",
    "version": 3
   },
   "file_extension": ".py",
   "mimetype": "text/x-python",
   "name": "python",
   "nbconvert_exporter": "python",
   "pygments_lexer": "ipython3",
   "version": "3.10.11"
  }
 },
 "nbformat": 4,
 "nbformat_minor": 5
}
