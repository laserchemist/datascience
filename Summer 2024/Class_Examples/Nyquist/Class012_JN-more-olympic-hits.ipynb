{
 "cells": [
  {
   "cell_type": "markdown",
   "metadata": {},
   "source": [
    "# More Olympic Hints"
   ]
  },
  {
   "cell_type": "code",
   "execution_count": null,
   "metadata": {},
   "outputs": [],
   "source": [
    "import numpy as np\n",
    "from datascience import *"
   ]
  },
  {
   "cell_type": "code",
   "execution_count": null,
   "metadata": {},
   "outputs": [],
   "source": [
    "%matplotlib inline\n",
    "import matplotlib.pyplot as plt\n",
    "plt.style.use('fivethirtyeight')\n",
    "# Fix for datascience plots\n",
    "import collections as collections\n",
    "import collections.abc as abc\n",
    "collections.Iterable = abc.Iterable"
   ]
  },
  {
   "cell_type": "markdown",
   "metadata": {},
   "source": [
    "## Formatted Strings (f-strings)\n",
    "f-strings are a nice way to substitude python variable values within a print statement."
   ]
  },
  {
   "cell_type": "code",
   "execution_count": null,
   "metadata": {
    "tags": []
   },
   "outputs": [],
   "source": [
    "x = 12\n",
    "print(f'The value of x is {x}.')"
   ]
  },
  {
   "cell_type": "code",
   "execution_count": null,
   "metadata": {
    "tags": []
   },
   "outputs": [],
   "source": [
    "# Example of f-string in a function.\n",
    "\n",
    "def greeting(name):\n",
    "    print(f'Hello {name}, how are you today?')\n",
    "    \n",
    "greeting('Dan')\n",
    "greeting('Amanda')"
   ]
  },
  {
   "cell_type": "markdown",
   "metadata": {},
   "source": [
    "## Creating a datatable column from other columns"
   ]
  },
  {
   "cell_type": "code",
   "execution_count": null,
   "metadata": {
    "tags": []
   },
   "outputs": [],
   "source": [
    "scores = Table().with_columns(\n",
    "    \"Name\",  make_array('Dan', 'Amanda', 'Udoka'),\n",
    "    \"Lab 1\", make_array(9, 6, 8),\n",
    "    \"Lab 2\", make_array(2, 3, 0),\n",
    "    \"Lab 3\", make_array(10, 8, 10)\n",
    ")\n",
    "scores"
   ]
  },
  {
   "cell_type": "markdown",
   "metadata": {},
   "source": [
    "The goal is to create a column \"Average\" with the sume of the three lab scores."
   ]
  },
  {
   "cell_type": "markdown",
   "metadata": {},
   "source": [
    "### Method 1: Extract the data. Do the math. Put it back in the table."
   ]
  },
  {
   "cell_type": "code",
   "execution_count": null,
   "metadata": {
    "tags": []
   },
   "outputs": [],
   "source": [
    "lab1 = scores.column('Lab 1')\n",
    "lab2 = scores.column('Lab 2')\n",
    "lab3 = scores.column('Lab 3')\n",
    "\n",
    "lab1"
   ]
  },
  {
   "cell_type": "code",
   "execution_count": null,
   "metadata": {
    "tags": []
   },
   "outputs": [],
   "source": [
    "total = lab1 + lab2 + lab3\n",
    "total"
   ]
  },
  {
   "cell_type": "code",
   "execution_count": null,
   "metadata": {
    "tags": []
   },
   "outputs": [],
   "source": [
    "scores_with_total = scores.with_column(\"Total\", total)\n",
    "scores_with_total"
   ]
  },
  {
   "cell_type": "markdown",
   "metadata": {},
   "source": [
    "### Method 2: Make a function and apply it to the table."
   ]
  },
  {
   "cell_type": "code",
   "execution_count": null,
   "metadata": {
    "tags": []
   },
   "outputs": [],
   "source": [
    "def add_three(a, b, c):\n",
    "    return a + b + c\n",
    "\n",
    "# Test it\n",
    "add_three(1, 2, 3)"
   ]
  },
  {
   "cell_type": "code",
   "execution_count": null,
   "metadata": {
    "tags": []
   },
   "outputs": [],
   "source": [
    "scores_with_total = scores.with_column(\"Total\", scores.apply(add_three, \"Lab 1\", \"Lab 2\", \"Lab 3\"))\n",
    "scores_with_total"
   ]
  },
  {
   "cell_type": "markdown",
   "metadata": {},
   "source": [
    "## Dropping rows based on part of a string."
   ]
  },
  {
   "cell_type": "code",
   "execution_count": null,
   "metadata": {
    "tags": []
   },
   "outputs": [],
   "source": [
    "fav_flavor = Table().with_columns(\n",
    "    \"Name\",\n",
    "    make_array(\"Roger\", \"Sarina\", \"Dominic\", \"Lili\", \"Shinobu\"),\n",
    "    \"Ice Cream Flavor\",\n",
    "    make_array(\"Vanilla\", \"Strawberry\", \"Cookies 'n Cream\", \"Strawberry Ripple\", \"Mint Chip\")\n",
    ")\n",
    "fav_flavor"
   ]
  },
  {
   "cell_type": "markdown",
   "metadata": {},
   "source": [
    "How do we drop any row containing mention of strawberry?"
   ]
  },
  {
   "cell_type": "code",
   "execution_count": null,
   "metadata": {
    "tags": []
   },
   "outputs": [],
   "source": [
    "fav_flavor.where(\"Ice Cream Flavor\", are.not_containing(\"Strawberry\"))"
   ]
  },
  {
   "cell_type": "markdown",
   "metadata": {},
   "source": [
    "This looks for the substring \"Strawberry\" anywhere in the column entry, so it finds both \"Strawberry\" and \"Strawberry Ripple\""
   ]
  },
  {
   "cell_type": "markdown",
   "metadata": {},
   "source": [
    "## Making a Scatter Plot"
   ]
  },
  {
   "cell_type": "code",
   "execution_count": null,
   "metadata": {
    "tags": []
   },
   "outputs": [],
   "source": [
    "x = np.arange(1, 20)\n",
    "y1 = -(x**2)\n",
    "y2 = x\n",
    "y3 = x**2\n",
    "\n",
    "polys = Table().with_columns(\n",
    "    'x', x,\n",
    "    'y1', y1,\n",
    "    'y2', y2,\n",
    "    'y3', y3\n",
    ")\n",
    "polys"
   ]
  },
  {
   "cell_type": "code",
   "execution_count": null,
   "metadata": {
    "tags": []
   },
   "outputs": [],
   "source": [
    "polys.scatter('x', 'y3')"
   ]
  },
  {
   "cell_type": "code",
   "execution_count": null,
   "metadata": {
    "tags": []
   },
   "outputs": [],
   "source": [
    "polys.scatter('x', 'y3', fit_line=True)"
   ]
  },
  {
   "cell_type": "code",
   "execution_count": null,
   "metadata": {
    "tags": []
   },
   "outputs": [],
   "source": [
    "polys.scatter('x', ['y1', 'y2', 'y3'])"
   ]
  },
  {
   "cell_type": "markdown",
   "metadata": {},
   "source": [
    "## A Brief Introduction to matplotlib\n",
    "\n",
    "All of the plotting methods built into datatables are actually \"syntactic sugar\" -- shortcuts to using matplotlib. Here is an example of creating a [matplotlib](https://matplotlib.org) plot from scratch."
   ]
  },
  {
   "cell_type": "code",
   "execution_count": null,
   "metadata": {
    "tags": []
   },
   "outputs": [],
   "source": [
    "import matplotlib.pyplot as plt"
   ]
  },
  {
   "cell_type": "code",
   "execution_count": null,
   "metadata": {
    "tags": []
   },
   "outputs": [],
   "source": [
    "# Start by creating figure and axis objects\n",
    "# In this case our figure has only one axis object, but you can create figures with multiple subplots\n",
    "fig, ax = plt.subplots()\n",
    "\n",
    "# Now we add to the axis our three scatter plots\n",
    "ax.scatter(x, y1, label='y1')\n",
    "ax.scatter(x, y2, label='y2')\n",
    "ax.scatter(x, y3, label='y3')\n",
    "\n",
    "# We modify the axes by setting the X and Y labels\n",
    "ax.set_xlabel('X-Axis')\n",
    "ax.set_ylabel('Y-Axis')\n",
    "\n",
    "# Finally, we add the legend, which will using the labes we set in the calls to ax.scatter()\n",
    "ax.legend()"
   ]
  },
  {
   "cell_type": "markdown",
   "metadata": {},
   "source": [
    "Working with matplotlib means writing more lines of code to construct the plot, but it also gives you much more control over the final appearance of the plot.\n",
    "\n",
    "For example:\n",
    "* specify marker colors\n",
    "* specify marker symbols\n",
    "* change the legend font\n",
    "* adding a title"
   ]
  },
  {
   "cell_type": "code",
   "execution_count": null,
   "metadata": {
    "tags": []
   },
   "outputs": [],
   "source": [
    "fig, ax = plt.subplots()\n",
    "ax.scatter(x, y1, color='red', marker='o', label='y1')\n",
    "ax.scatter(x, y2, color='green', marker='v', label='y2')\n",
    "ax.scatter(x, y3, color='blue', marker='*', label='y3')\n",
    "ax.set_xlabel('X-Axis')\n",
    "ax.set_ylabel('Y-Axis')\n",
    "ax.set_title('Made using matplotlib')\n",
    "plt.legend()"
   ]
  },
  {
   "cell_type": "markdown",
   "metadata": {},
   "source": [
    "Because the plots made using the datatable methods are matploblib plots behind the scene, we can use matplotlib to modify them after they are created. We just need to get the axis variable created by the datatable method."
   ]
  },
  {
   "cell_type": "code",
   "execution_count": null,
   "metadata": {
    "tags": []
   },
   "outputs": [],
   "source": [
    "# Create the plot using the datatable method\n",
    "polys.scatter('x', ['y1', 'y2', 'y3'])\n",
    "\n",
    "# Get the plot axis\n",
    "# gca stands for \"get current axis\"\n",
    "ax = plt.gca()\n",
    "\n",
    "# Use matplotlib functions to customize the figure\n",
    "\n",
    "# Add a title\n",
    "ax.set_title(\"Poly Plot\")\n",
    "\n",
    "# Just for fun, let's also change the font and text of the axis labels\n",
    "ax.set_xlabel('X-Axis', fontname='DejaVu Serif')\n",
    "ax.set_ylabel('Y-Axis', fontname='DejaVu Serif')\n",
    "\n",
    "# And a text and arrow pointing to a particular point\n",
    "ax.annotate('Fav!', xy=(13, 20), xytext=(15,150), arrowprops=dict(facecolor='black'))"
   ]
  },
  {
   "cell_type": "markdown",
   "metadata": {},
   "source": [
    "It can be tedious to figure out how, but you you can do almost anything to a matplotlib imaginable! Fortunately, the defaults are generally all you need for this course."
   ]
  },
  {
   "cell_type": "code",
   "execution_count": null,
   "metadata": {},
   "outputs": [],
   "source": []
  },
  {
   "cell_type": "code",
   "execution_count": null,
   "metadata": {},
   "outputs": [],
   "source": []
  }
 ],
 "metadata": {
  "kernelspec": {
   "display_name": "Python 3 (ipykernel)",
   "language": "python",
   "name": "python3"
  },
  "language_info": {
   "codemirror_mode": {
    "name": "ipython",
    "version": 3
   },
   "file_extension": ".py",
   "mimetype": "text/x-python",
   "name": "python",
   "nbconvert_exporter": "python",
   "pygments_lexer": "ipython3",
   "version": "3.10.11"
  }
 },
 "nbformat": 4,
 "nbformat_minor": 4
}
