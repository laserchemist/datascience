{
 "cells": [
  {
   "cell_type": "markdown",
   "id": "f9302cc6-3ec1-416f-9064-f482a98075c4",
   "metadata": {
    "jp-MarkdownHeadingCollapsed": true,
    "tags": []
   },
   "source": [
    "## Class 005\n",
    "*Working with data*: datascience Table"
   ]
  },
  {
   "cell_type": "markdown",
   "id": "36bcf723-8571-4e8f-95af-ba3f07a0744b",
   "metadata": {},
   "source": [
    "## Learning Goals for Lab 03\n",
    "### Loading Data Sets and Exploratory Data Analysis\n",
    "*neccessary*: \n",
    "`from datascience import *`\n",
    "- Table is a new Variable & Data Types\n",
    "    - Strings\n",
    "    - Integer\n",
    "    - float\n",
    "    - list [ ]\n",
    "    - numpy.array\n",
    "    - datascience.tables.Table\n",
    "- arrays: from datascience import *\n",
    "    - `make_array(0.125, 4.75, -1.3)` \n",
    "- arrays: import numpy as np\n",
    "    - `np.array([0, 1, -1, math.pi, math.e])`\n",
    "    - `np.arange(1,13)` \n",
    "- lists: [1, 2, 3, 4]\n",
    "#### Table\n",
    "- `T=Table().with_columns('Month',np.arange(1,13))`\n",
    "- `Table.read_table(data)`\n"
   ]
  },
  {
   "cell_type": "markdown",
   "id": "48fcc9e7-acf3-4370-841c-152e50070b71",
   "metadata": {},
   "source": [
    "#### Initialize with imported new functionality for plotting data."
   ]
  },
  {
   "cell_type": "code",
   "execution_count": null,
   "id": "8b570ee0-306d-4fad-8ffa-e4b3b356922e",
   "metadata": {
    "tags": []
   },
   "outputs": [],
   "source": [
    "# import for plotting\n",
    "import matplotlib.pyplot as plt\n",
    "plt.style.use('fivethirtyeight')\n",
    "\n",
    "%matplotlib inline"
   ]
  },
  {
   "cell_type": "markdown",
   "id": "21329f9b-126e-4efd-9076-432c5bce1ad1",
   "metadata": {},
   "source": [
    "### First data table"
   ]
  },
  {
   "cell_type": "code",
   "execution_count": null,
   "id": "cbb1a72d-9dc0-4a3d-8d09-a16def7346f6",
   "metadata": {
    "tags": []
   },
   "outputs": [],
   "source": [
    "from datascience import *\n",
    "import numpy as np\n",
    "\n",
    "# Creates a table with one column\n",
    "T=Table().with_columns('Month',np.arange(1,13))\n",
    "T"
   ]
  },
  {
   "cell_type": "code",
   "execution_count": null,
   "id": "3cccb1ee-fb44-40bc-943e-b0943efa931d",
   "metadata": {
    "tags": []
   },
   "outputs": [],
   "source": [
    "# Adds a another column to the existing table\n",
    "T=T.with_columns('Average_SnowFall (inch)',make_array(5.6,5.6,2.4,0.1,0,0,0,0,0,0,0.1,3.2))"
   ]
  },
  {
   "cell_type": "code",
   "execution_count": null,
   "id": "7e4654c5-3c27-4230-bb55-fce1450dbd13",
   "metadata": {
    "tags": []
   },
   "outputs": [],
   "source": [
    "T.show()"
   ]
  },
  {
   "cell_type": "markdown",
   "id": "d3f40464-7cbf-4daf-be18-5b71a216edf8",
   "metadata": {},
   "source": [
    "## Back to our first table"
   ]
  },
  {
   "cell_type": "code",
   "execution_count": null,
   "id": "d0df4fa2-a077-449c-b910-2ad5bef76745",
   "metadata": {
    "tags": []
   },
   "outputs": [],
   "source": [
    "m = [\n",
    " 'January',\n",
    " 'February',\n",
    " 'March',\n",
    " 'April',\n",
    " 'May',\n",
    " 'June',\n",
    " 'July',\n",
    " 'August',\n",
    " 'September',\n",
    " 'October',\n",
    " 'November',\n",
    " 'December']\n",
    "m"
   ]
  },
  {
   "cell_type": "code",
   "execution_count": null,
   "id": "12cae7f0-b5c3-41dc-9a80-48a89762361e",
   "metadata": {
    "tags": []
   },
   "outputs": [],
   "source": [
    "# Replace the column with month names instead of numbers\n",
    "T=T.with_columns('Month',m)\n",
    "T.show()"
   ]
  },
  {
   "cell_type": "code",
   "execution_count": null,
   "id": "b6d64c05-245d-4249-9cce-32b333f889ea",
   "metadata": {
    "tags": []
   },
   "outputs": [],
   "source": [
    "# Sort months by snowfall amounts\n",
    "# Notice the use of the keyword argument to change the sort order\n",
    "T.sort('Average_SnowFall (inch)', descending=True)"
   ]
  },
  {
   "cell_type": "code",
   "execution_count": null,
   "id": "f277f70d-10fd-4b14-8e79-47315c9afc44",
   "metadata": {
    "tags": []
   },
   "outputs": [],
   "source": [
    "# Create a horizontal bar chart:  table.barh(Category, values)\n",
    "T.barh('Month', 'Average_SnowFall (inch)')"
   ]
  },
  {
   "cell_type": "markdown",
   "id": "b81b1987-aad6-4494-9ab1-7d668d7901d6",
   "metadata": {},
   "source": [
    "### Census data example\n",
    "#### For your own exploration"
   ]
  },
  {
   "cell_type": "code",
   "execution_count": null,
   "id": "0c46d4bd-1a53-4fcd-9193-c1d9e3f63c4c",
   "metadata": {
    "tags": []
   },
   "outputs": [],
   "source": [
    "data = 'http://www2.census.gov/programs-surveys/popest/datasets/2010-2020/national/asrh/nc-est2020-agesex-res.csv'\n",
    "# A local copy can be accessed here in case census.gov moves the file:\n",
    "# data = path_data + 'nc-est2015-agesex-res.csv'\n",
    "\n",
    "full_census_table = Table.read_table(data)\n",
    "full_census_table"
   ]
  },
  {
   "cell_type": "markdown",
   "id": "d2b07d2a-7490-4856-bc71-b73e27e25a43",
   "metadata": {},
   "source": [
    "### Making a new table with a subset of the columns"
   ]
  },
  {
   "cell_type": "code",
   "execution_count": null,
   "id": "b7082ced-593c-42f2-8a85-bdf28490f5ac",
   "metadata": {
    "tags": []
   },
   "outputs": [],
   "source": [
    "partial_census_table = full_census_table.select('SEX', 'AGE', 'POPESTIMATE2010', 'POPESTIMATE2020')\n",
    "partial_census_table"
   ]
  },
  {
   "cell_type": "markdown",
   "id": "4970a6e2-de67-4b75-b3a0-7003df7c219e",
   "metadata": {},
   "source": [
    "### Extract the data from a particular table column as an array"
   ]
  },
  {
   "cell_type": "code",
   "execution_count": null,
   "id": "702a04b4-c776-49f8-b8b0-e2eaa9c361e6",
   "metadata": {
    "tags": []
   },
   "outputs": [],
   "source": [
    "partial_census_table.column(\"AGE\")"
   ]
  },
  {
   "cell_type": "markdown",
   "id": "9fdd0f86-44e9-42ba-bccf-2bf838219944",
   "metadata": {
    "tags": []
   },
   "source": [
    "### You can perform math operation on an entire array at once.\n",
    "This is called \"broadcasting\" the operation to all of the array elements."
   ]
  },
  {
   "cell_type": "code",
   "execution_count": null,
   "id": "587dd336-4bf0-4b72-9522-714d15ba2344",
   "metadata": {
    "tags": []
   },
   "outputs": [],
   "source": [
    "3*partial_census_table.column(\"AGE\")"
   ]
  },
  {
   "cell_type": "markdown",
   "id": "e42107d3-abe0-4105-85e6-3a1bcd72dc97",
   "metadata": {},
   "source": [
    "### Chaining methods: applying each method successively on the result of the previous method.\n",
    "The innermost operation is applied first."
   ]
  },
  {
   "cell_type": "code",
   "execution_count": null,
   "id": "4dcc5207-4254-4c77-b035-699a9577963f",
   "metadata": {
    "tags": []
   },
   "outputs": [],
   "source": [
    "us_pop = partial_census_table.relabeled('POPESTIMATE2010', '2010').relabeled('POPESTIMATE2020', '2020').relabeled('SEX','GENDER')\n",
    "us_pop"
   ]
  },
  {
   "cell_type": "markdown",
   "id": "07ca1855-bd73-46aa-8f0e-f518faad353f",
   "metadata": {
    "tags": []
   },
   "source": [
    "### Using .where() method \n",
    "[see:http://data8.org/datascience/reference-nb/datascience-reference.html#tbl.where() ]\n",
    "This selects rows from a table that satisfy some condition."
   ]
  },
  {
   "cell_type": "code",
   "execution_count": null,
   "id": "879c50f2-7222-41b8-85db-51fda3c5a5e9",
   "metadata": {
    "tags": []
   },
   "outputs": [],
   "source": [
    "us_pop.where('GENDER',0)"
   ]
  },
  {
   "cell_type": "code",
   "execution_count": null,
   "id": "9d2465c0-c77c-4e18-b1d8-1d9b942c6adb",
   "metadata": {
    "tags": []
   },
   "outputs": [],
   "source": [
    "# Chaining where() filters\n",
    "popdata = us_pop.where('GENDER',0).where('AGE',are.below(99))\n",
    "popdata"
   ]
  },
  {
   "cell_type": "markdown",
   "id": "a1ff3cb8-6906-4f6a-8629-6b659f4471d6",
   "metadata": {
    "tags": []
   },
   "source": [
    "### Tables have built-in plotting methods\n",
    "This plot shows how the age distribution in the US changed between 2010 and 2020."
   ]
  },
  {
   "cell_type": "code",
   "execution_count": null,
   "id": "7b3b9d57-8b60-4fd3-a8cc-6c22a80db7e5",
   "metadata": {
    "tags": []
   },
   "outputs": [],
   "source": [
    "popdata.select('AGE','2010','2020').plot('AGE')"
   ]
  },
  {
   "cell_type": "markdown",
   "id": "f556f11c-83d7-4a2e-bf05-a07a8c180980",
   "metadata": {},
   "source": [
    "### Importing the Minard Data"
   ]
  },
  {
   "cell_type": "code",
   "execution_count": null,
   "id": "464574b0-3560-4566-9f64-500d14e85e58",
   "metadata": {
    "tags": []
   },
   "outputs": [],
   "source": [
    "minard = Table.read_table(\"data/minard.csv\")\n",
    "minard"
   ]
  },
  {
   "cell_type": "markdown",
   "id": "e11c8265-786f-459e-9439-5ea897416878",
   "metadata": {},
   "source": [
    "### Importing the Actor Data"
   ]
  },
  {
   "cell_type": "code",
   "execution_count": null,
   "id": "de09eff1-8aef-42e9-9fa3-a2b1d78879ac",
   "metadata": {
    "tags": []
   },
   "outputs": [],
   "source": [
    "actors = Table.read_table(\"data/actors.csv\")\n",
    "actors"
   ]
  },
  {
   "cell_type": "code",
   "execution_count": null,
   "id": "ae228d2f-f1c3-482f-8172-24173d798326",
   "metadata": {},
   "outputs": [],
   "source": []
  }
 ],
 "metadata": {
  "kernelspec": {
   "display_name": "Python 3 (ipykernel)",
   "language": "python",
   "name": "python3"
  },
  "language_info": {
   "codemirror_mode": {
    "name": "ipython",
    "version": 3
   },
   "file_extension": ".py",
   "mimetype": "text/x-python",
   "name": "python",
   "nbconvert_exporter": "python",
   "pygments_lexer": "ipython3",
   "version": "3.10.11"
  }
 },
 "nbformat": 4,
 "nbformat_minor": 5
}
