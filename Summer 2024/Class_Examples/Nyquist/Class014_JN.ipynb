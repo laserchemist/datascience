{
 "cells": [
  {
   "cell_type": "markdown",
   "metadata": {},
   "source": [
    "# Randomness and Code Review\n",
    "Elements of Data Science"
   ]
  },
  {
   "cell_type": "markdown",
   "metadata": {
    "tags": []
   },
   "source": [
    "## Simulation Learning Goals\n",
    "Simulate a task dependent on probability such as a die roll, repeat to get distribution and characteristics (mean, ...)\n",
    "- Probability\n",
    "    - np.random.choice()\n",
    "- Simulation: Sample the distribution\n",
    "    - Repeat and collect outcomes\n",
    "    - Iteration: \n",
    "        `for i in np.arange(samples)`\n",
    "- Examine resulting distribution of outcomes\n",
    "    - Probability distribution\n",
    "    - Uncertainty"
   ]
  },
  {
   "cell_type": "code",
   "execution_count": null,
   "metadata": {
    "tags": []
   },
   "outputs": [],
   "source": [
    "import numpy as np\n",
    "from datascience import *"
   ]
  },
  {
   "cell_type": "code",
   "execution_count": null,
   "metadata": {
    "tags": []
   },
   "outputs": [],
   "source": [
    "%matplotlib inline\n",
    "import matplotlib.pyplot as plt\n",
    "plt.style.use('fivethirtyeight')\n",
    "# Fix for datascience plots\n",
    "import collections as collections\n",
    "import collections.abc as abc\n",
    "collections.Iterable = abc.Iterable"
   ]
  },
  {
   "cell_type": "markdown",
   "metadata": {},
   "source": [
    "## Coding review"
   ]
  },
  {
   "cell_type": "markdown",
   "metadata": {},
   "source": [
    "#### Data types\n",
    "Important also because different types have different methods"
   ]
  },
  {
   "cell_type": "code",
   "execution_count": null,
   "metadata": {
    "tags": []
   },
   "outputs": [],
   "source": [
    "x = \"Groundhog\"\n",
    "type(x)"
   ]
  },
  {
   "cell_type": "code",
   "execution_count": null,
   "metadata": {
    "tags": []
   },
   "outputs": [],
   "source": [
    "x = np.random.choice(np.arange(1,7))\n",
    "x"
   ]
  },
  {
   "cell_type": "code",
   "execution_count": null,
   "metadata": {
    "tags": []
   },
   "outputs": [],
   "source": [
    "type(x)"
   ]
  },
  {
   "cell_type": "code",
   "execution_count": null,
   "metadata": {
    "tags": []
   },
   "outputs": [],
   "source": [
    "x = Table().with_columns('data', np.random.choice(np.arange(1,7)))\n",
    "print(type(x))\n",
    "x"
   ]
  },
  {
   "cell_type": "markdown",
   "metadata": {},
   "source": [
    "#### Iteration\n",
    "Loop through lines of code to repeat process\n",
    "Note: the \"for\" statement will work with anything iterable. For a string, it will iterate over the letters. Technically, an interable is anything with a .__getitem__() method."
   ]
  },
  {
   "cell_type": "code",
   "execution_count": null,
   "metadata": {
    "tags": []
   },
   "outputs": [],
   "source": [
    "fruit = \"apple\"\n",
    "fruit_iter = fruit.__iter__()\n",
    "print(fruit_iter.__next__())\n",
    "print(fruit_iter.__next__())"
   ]
  },
  {
   "cell_type": "code",
   "execution_count": null,
   "metadata": {
    "tags": []
   },
   "outputs": [],
   "source": [
    "type(fruit_iter)"
   ]
  },
  {
   "cell_type": "code",
   "execution_count": null,
   "metadata": {
    "tags": []
   },
   "outputs": [],
   "source": [
    "names = []\n",
    "count = 0\n",
    "for letter in 'Dogs':\n",
    "    count += 1\n",
    "    names.append(letter)\n",
    "    print(letter)\n",
    "print(count, names)"
   ]
  },
  {
   "cell_type": "code",
   "execution_count": null,
   "metadata": {
    "tags": []
   },
   "outputs": [],
   "source": [
    "my_favs = [\"apples\", \"grapes\", \"mangos\"]\n",
    "my_favs_iter = my_favs.__iter__()\n",
    "print(my_favs_iter.__next__())\n",
    "print(my_favs_iter.__next__())"
   ]
  },
  {
   "cell_type": "code",
   "execution_count": null,
   "metadata": {
    "tags": []
   },
   "outputs": [],
   "source": [
    "names = []\n",
    "count = 0\n",
    "for fruit in my_favs:\n",
    "    count += 1\n",
    "    names.append(fruit)\n",
    "    print(fruit)\n",
    "print(count, names)"
   ]
  },
  {
   "cell_type": "markdown",
   "metadata": {},
   "source": [
    "#### Conditional"
   ]
  },
  {
   "cell_type": "code",
   "execution_count": null,
   "metadata": {
    "tags": []
   },
   "outputs": [],
   "source": [
    "best_animal ='Groundhog'\n",
    "for animal in make_array('Horse','Dog', 'Groundhog'):\n",
    "    print(f\"---{animal}---\")\n",
    "    if animal == 'Groundhog':\n",
    "        print(\"Best animal found!\")\n",
    "    elif animal == 'Horse':\n",
    "        print(\"I like horses.\")\n",
    "    else:\n",
    "        print(\"Not my favorite animal...\")"
   ]
  },
  {
   "cell_type": "markdown",
   "metadata": {},
   "source": [
    "## A different Bernoulli Trial\n",
    "\n",
    "A Bernoulli trial is a random experirment with only two possible outcomes. All our examples so far have been with flipping a coin. Let's try a different one: After you shuffle a deck of cards, what is the chance the top card is an ace?\n",
    "\n",
    "Chance of success = 4/52 = 1/13\n",
    "\n",
    "Chance of failture = 48/52 = 12/13\n",
    "\n",
    "So, if we shuffled the deck 100 times, we'd expect 100/13 = 7.69 aces on average, consistant with a probabilty of 1/13 = 0.077"
   ]
  },
  {
   "cell_type": "code",
   "execution_count": null,
   "metadata": {
    "tags": []
   },
   "outputs": [],
   "source": [
    "card = np.array(['Ace', 'King', 'Queen', 'Jack', 'Ten', 'Nine', 'Eight', 'Seven', 'Six', 'Five', 'Four', 'Three', 'Two'])\n",
    "\n",
    "def simulate_shuffles(n_shuffles):\n",
    "    outcomes = np.random.choice(card, n_shuffles)\n",
    "    return np.count_nonzero(outcomes == 'Ace')"
   ]
  },
  {
   "cell_type": "code",
   "execution_count": null,
   "metadata": {
    "tags": []
   },
   "outputs": [],
   "source": [
    "n = 100\n",
    "simulate_shuffles(n)"
   ]
  },
  {
   "cell_type": "code",
   "execution_count": null,
   "metadata": {
    "tags": []
   },
   "outputs": [],
   "source": [
    "num_repetitions = 20000   # number of repetitions\n",
    "\n",
    "draws = make_array() # empty collection array\n",
    "\n",
    "n = 100\n",
    "for i in np.arange(num_repetitions):   # repeat the process num_repetitions times\n",
    "    new_value = simulate_shuffles(n)  # simulate one value using the function defined\n",
    "    draws = np.append(draws, new_value) # augment the collection array with the simulated value\n",
    "\n",
    "# That's it! The simulation is done."
   ]
  },
  {
   "cell_type": "code",
   "execution_count": null,
   "metadata": {
    "tags": []
   },
   "outputs": [],
   "source": [
    "simulation_results = Table().with_columns(\n",
    "    'Repetition', np.arange(1, num_repetitions + 1),\n",
    "    'Fraction Aces', draws/n\n",
    ")\n",
    "\n",
    "simulation_results.hist('Fraction Aces', bins=20)\n",
    "plt.title(f'Simulation of {n} Shuffles') # Notice the matplotlib call to add a title\n",
    "ax = plt.gca()\n",
    "ax.set_xlim((0.0, 0.17))"
   ]
  },
  {
   "cell_type": "code",
   "execution_count": null,
   "metadata": {
    "tags": []
   },
   "outputs": [],
   "source": [
    "num_repetitions = 20000   # number of repetitions\n",
    "draws = make_array() # empty collection array\n",
    "\n",
    "n = 1000\n",
    "for i in np.arange(num_repetitions):   # repeat the process num_repetitions times\n",
    "    new_value = simulate_shuffles(n)  # simulate one value using the function defined\n",
    "    draws = np.append(draws, new_value) # augment the collection array with the simulated value\n",
    "\n",
    "simulation_results = Table().with_columns(\n",
    "    'Repetition', np.arange(1, num_repetitions + 1),\n",
    "    'Fraction Aces', draws/n\n",
    ")\n",
    "\n",
    "simulation_results.hist('Fraction Aces', bins=20)\n",
    "plt.title(f'Simulation of {n} Shuffles') # Notice the matplotlib call to add a title\n",
    "ax = plt.gca()\n",
    "ax.set_xlim((0.0, 0.17))"
   ]
  },
  {
   "cell_type": "markdown",
   "metadata": {},
   "source": [
    "### Key Point\n",
    "As the sample size increases, the width of the standard deviation decreases. The sample mean becomes a better estimate of the population mean."
   ]
  },
  {
   "cell_type": "markdown",
   "metadata": {},
   "source": [
    "## Random numbers and simulation - a fun digression!\n",
    "\n",
    "Suppose we start at (x,y) = (0,0).  We flip a coin. Heads, we add 1 to y. Tails, we subtract 1 from y, but either way we add 1 to x.  What is our position after 1,000 rolls? You might think that the y-value would always fluctuate around zero, but in fact it will drift quite a bit over time. This is the so-called \"random walk\" or \"drunkard's walk\" as the drunk staggers left or right with each step. (Figure from: https://people.duke.edu/~rnau/411rand.htm)\n",
    "![Random Walk](https://people.duke.edu/~rnau/411rand_files/image008.jpg)"
   ]
  },
  {
   "cell_type": "code",
   "execution_count": null,
   "metadata": {
    "tags": []
   },
   "outputs": [],
   "source": [
    "toss = make_array('Heads', 'Tails')\n",
    "\n",
    "nflips = 1000\n",
    "x = np.arange(nflips)\n",
    "y = make_array(0)\n",
    "y_current = 0\n",
    "for i in x[1:]:\n",
    "    flip = np.random.choice(toss)\n",
    "    if flip == 'Heads':\n",
    "        y_current += 1\n",
    "    else:\n",
    "        y_current -= 1\n",
    "    y = np.append(y, y_current)\n",
    "    \n",
    "random_walk = Table().with_columns('x', x, 'y', y)\n",
    "random_walk.plot('x', 'y')\n",
    "fig = plt.gcf()\n",
    "fig.set_figwidth(15)"
   ]
  },
  {
   "cell_type": "markdown",
   "metadata": {},
   "source": [
    "Try running the cell above a number of times so see the different random pathways.\n",
    "\n",
    "Interestingly, you cannot predict a random walk you can provide a confidence interval. The standard error of a k-step-ahead forcast is:\n",
    "$$ 0.00778 \\sqrt{k}$$"
   ]
  },
  {
   "cell_type": "code",
   "execution_count": null,
   "metadata": {
    "tags": []
   },
   "outputs": [],
   "source": [
    "n_confidence_steps = 500 # Project ahead this many steps\n",
    "x_confidence = np.arange(n_confidence_steps) + nflips\n",
    "\n",
    "# 50% confidence interval\n",
    "y_confidence_pos = y[-1] +  2/3 * np.sqrt(np.arange(n_confidence_steps))\n",
    "y_confidence_neg = y[-1] -  2/3 * np.sqrt(np.arange(n_confidence_steps))"
   ]
  },
  {
   "cell_type": "code",
   "execution_count": null,
   "metadata": {
    "tags": []
   },
   "outputs": [],
   "source": [
    "random_walk.plot('x', 'y')\n",
    "fig = plt.gcf()\n",
    "fig.set_figwidth(15)\n",
    "plt.plot(x_confidence, y_confidence_pos, color='red')\n",
    "plt.plot(x_confidence, y_confidence_neg, color='red')\n",
    "plt.title(\"Red lines show the 50% confidence interval\");"
   ]
  },
  {
   "cell_type": "code",
   "execution_count": null,
   "metadata": {},
   "outputs": [],
   "source": []
  }
 ],
 "metadata": {
  "kernelspec": {
   "display_name": "Python 3 (ipykernel)",
   "language": "python",
   "name": "python3"
  },
  "language_info": {
   "codemirror_mode": {
    "name": "ipython",
    "version": 3
   },
   "file_extension": ".py",
   "mimetype": "text/x-python",
   "name": "python",
   "nbconvert_exporter": "python",
   "pygments_lexer": "ipython3",
   "version": "3.10.11"
  }
 },
 "nbformat": 4,
 "nbformat_minor": 4
}
