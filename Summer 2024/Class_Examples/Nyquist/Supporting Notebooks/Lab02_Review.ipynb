{
 "cells": [
  {
   "cell_type": "markdown",
   "id": "4caf9d1f-97bf-4e07-9904-c9b41d111c9e",
   "metadata": {},
   "source": [
    "# Review of some Lab 02 questions"
   ]
  },
  {
   "cell_type": "code",
   "execution_count": null,
   "id": "22beb845-05f0-4b9a-aab3-7ea0bb840d3a",
   "metadata": {
    "tags": []
   },
   "outputs": [],
   "source": [
    "from datascience import *\n",
    "import numpy as np\n",
    "import math"
   ]
  },
  {
   "cell_type": "markdown",
   "id": "df08dd7d-06e2-4ba0-961b-b16c9a33b96a",
   "metadata": {
    "tags": []
   },
   "source": [
    "<font color=blue> **Question 5.** </font><br />  Given the heights of the Splash Triplets from the Golden State Warriors, write an expression that computes the smallest difference between any of the three heights. <font color=red> Your expression shouldn't have any numbers in it, only function calls and the names `klay`, `steph`, and `kevin`. </font> Give the value of your expression the name `min_height_difference`."
   ]
  },
  {
   "cell_type": "code",
   "execution_count": null,
   "id": "866539fe-6497-42f8-bf15-095281876c2b",
   "metadata": {
    "tags": []
   },
   "outputs": [],
   "source": [
    "# The three players' heights, in meters:\n",
    "klay =  2.01 # Klay Thompson is 6'7\"\n",
    "steph = 1.91 # Steph Curry is 6'3\"\n",
    "kevin = 2.06 # Kevin Durant is officially 6'9\", but many suspect that he is taller.\n",
    "             # (Further complicating matters, membership of the \"Splash Triplets\" \n",
    "             #  is disputed, since it was originally used in reference to \n",
    "             #  Klay Thompson, Steph Curry, and Draymond Green.)"
   ]
  },
  {
   "cell_type": "code",
   "execution_count": null,
   "id": "290ac1a9-c5bf-4657-9ab8-f03a20708958",
   "metadata": {
    "tags": []
   },
   "outputs": [],
   "source": [
    "# Find the minimum of all of the differences\n",
    "min_height_difference = min(abs(klay - steph), abs(steph - kevin), abs(klay - kevin))\n",
    "min_height_difference"
   ]
  },
  {
   "cell_type": "markdown",
   "id": "da3c800a-5c78-4911-8882-a90a2c1d8884",
   "metadata": {},
   "source": [
    "<font color=blue> Bonus Question: </font> Why isn't the answer exactly 0.05?"
   ]
  },
  {
   "cell_type": "markdown",
   "id": "8c65a950-c8e5-415a-8e76-c2bf9dbe2585",
   "metadata": {
    "tags": []
   },
   "source": [
    "<font color=blue> **Question 9.** </font><br />Use `replace` and `eval` together to convert our gas data so that volumes are numbers in milliliter (mL) and temperatures are in Celsius (C).  Do not to use any numbers other than conversion factors in your solution, but instead manipulate the strings that are provided.\n"
   ]
  },
  {
   "cell_type": "code",
   "execution_count": null,
   "id": "35ce502c-2243-4ce8-82ac-34d251ea5f6d",
   "metadata": {
    "tags": []
   },
   "outputs": [],
   "source": [
    "gasdata = '300K, 24.6171L'\n",
    "gasdata"
   ]
  },
  {
   "cell_type": "code",
   "execution_count": null,
   "id": "a29609a8-3c66-425b-8208-98611a8c43fc",
   "metadata": {
    "tags": []
   },
   "outputs": [],
   "source": [
    "gasdata_convert=gasdata.replace('K','-273.15')\n",
    "gasdata_convert=gasdata_convert.replace('L', ' * 1000')\n",
    "gasdata_convert"
   ]
  },
  {
   "cell_type": "code",
   "execution_count": null,
   "id": "43923db1-602b-4973-8310-1254a86cb468",
   "metadata": {
    "tags": []
   },
   "outputs": [],
   "source": [
    "gasdata_convert = eval(gasdata_convert)\n",
    "gasdata_convert # gasdata_convert is actually now a tuple another type of Python sequence"
   ]
  },
  {
   "cell_type": "code",
   "execution_count": null,
   "id": "68ca6eb5-a8e0-48a7-be8c-941850d74e35",
   "metadata": {
    "tags": []
   },
   "outputs": [],
   "source": [
    "print('The original gas data is', gasdata, 'and now after converting volume to mL and temperature to Celsius is ', gasdata_convert)"
   ]
  },
  {
   "cell_type": "markdown",
   "id": "8182b8a0-a352-4d59-8969-0109e81b5436",
   "metadata": {},
   "source": [
    "<font color=blue> **Question 12a.** </font><br /> The list below contains the height in meters of the 4 tallest mountains in the Adirondack Mountains ([see Highpeaks](https://en.wikipedia.org/wiki/Adirondack_High_Peaks)). Use list comprehension to convert these heights (elevation) to feet."
   ]
  },
  {
   "cell_type": "code",
   "execution_count": null,
   "id": "96459aa5-66f7-40ca-83bf-a22c49953eb8",
   "metadata": {
    "tags": []
   },
   "outputs": [],
   "source": [
    "ADK_highpeaks = [1629,1559,1512,1501]\n",
    "ADK_highpeaks"
   ]
  },
  {
   "cell_type": "code",
   "execution_count": null,
   "id": "3efb25c8-61ad-42cf-87c5-f55281097db4",
   "metadata": {
    "tags": []
   },
   "outputs": [],
   "source": [
    "m_to_ft = 3.28084 # Find and place the conversion from meters to feet here"
   ]
  },
  {
   "cell_type": "code",
   "execution_count": null,
   "id": "70f26675-33b3-460b-bcb1-c0cd06b56a0f",
   "metadata": {
    "tags": []
   },
   "outputs": [],
   "source": [
    "ADK_highpeaks_ft = [m_to_ft * meter for meter in ADK_highpeaks]\n",
    "ADK_highpeaks_ft"
   ]
  },
  {
   "cell_type": "markdown",
   "id": "901578f0-53aa-4316-b83a-6c8fd8d88874",
   "metadata": {},
   "source": [
    "### 5.3. Application: Temperature readings\n",
    "NOAA (the US National Oceanic and Atmospheric Administration) operates weather stations that measure surface temperatures at different sites around the United States.  The hourly readings are [publicly available](http://www.ncdc.noaa.gov/qclcd/QCLCD?prior=N).\n",
    "\n",
    "Suppose we download all the hourly data from the Oakland, California site for the month of December 2015.  To analyze the data, we want to know when each reading was taken, but we find that the data don't include the timestamps of the readings (the time at which each one was taken).\n",
    "\n",
    "However, we know the first reading was taken at the first instant of December 2015 (midnight on December 1st) and each subsequent reading was taken exactly 1 hour after the last.\n",
    "\n",
    "<font color=blue> **Question 14.** </font><br />Create an array of the *time, in seconds, since the start of the month* at which each hourly reading was taken.  Name it `collection_times`.\n",
    "\n",
    "*Hint 1:* There were 31 days in December, which is equivalent to ($31 \\times 24$) hours or ($31 \\times 24 \\times 60 \\times 60$) seconds.  So your array should have $31 \\times 24$ elements in it.\n",
    "\n",
    "*Hint 2:* The `len` function works on arrays, too.  If your `collection_times` isn't passing the tests, check its length and make sure it has $31 \\times 24$ elements."
   ]
  },
  {
   "cell_type": "code",
   "execution_count": null,
   "id": "bb92bf88-9507-43f3-8b3c-52fe012fe57e",
   "metadata": {
    "tags": []
   },
   "outputs": [],
   "source": [
    "sec_per_hr = 60 * 60\n",
    "num_days = 31\n",
    "num_hours = 24\n",
    "total_sec = num_days * num_hours * sec_per_hr\n",
    "collection_times = np.arange(0, total_sec, sec_per_hr)\n",
    "collection_times"
   ]
  },
  {
   "cell_type": "code",
   "execution_count": null,
   "id": "2cd94886-b92b-404d-819a-ad307e319f75",
   "metadata": {
    "tags": []
   },
   "outputs": [],
   "source": [
    "len(collection_times)"
   ]
  },
  {
   "cell_type": "code",
   "execution_count": null,
   "id": "3ec3ec4d-adfc-436a-9065-c03b65f529b5",
   "metadata": {
    "tags": []
   },
   "outputs": [],
   "source": [
    "31 * 24"
   ]
  },
  {
   "cell_type": "code",
   "execution_count": null,
   "id": "8fbf3109-7262-4ee8-bca3-5bb669c0928f",
   "metadata": {
    "tags": []
   },
   "outputs": [],
   "source": [
    "len(collection_times) == 31 * 24"
   ]
  },
  {
   "cell_type": "code",
   "execution_count": null,
   "id": "9ef75dfc-0cb2-485b-aa87-76e55618bc3e",
   "metadata": {},
   "outputs": [],
   "source": []
  }
 ],
 "metadata": {
  "kernelspec": {
   "display_name": "Python 3 (ipykernel)",
   "language": "python",
   "name": "python3"
  },
  "language_info": {
   "codemirror_mode": {
    "name": "ipython",
    "version": 3
   },
   "file_extension": ".py",
   "mimetype": "text/x-python",
   "name": "python",
   "nbconvert_exporter": "python",
   "pygments_lexer": "ipython3",
   "version": "3.10.11"
  }
 },
 "nbformat": 4,
 "nbformat_minor": 5
}
