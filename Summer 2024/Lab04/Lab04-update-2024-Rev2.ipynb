{
 "cells": [
  {
   "cell_type": "markdown",
   "metadata": {},
   "source": [
    "# Lab 04 Functions and Visualization\n",
    "\n",
    "<i>Elements of Data Science</i><br><br>\n",
    "Welcome to lab 4!\n",
    "This week, we will focus on functions and visualization. <br>Functions are described in [Chapter 8](https://inferentialthinking.com/chapters/08/Functions_and_Tables.html) of the Inferential Thinking text. <br>Visualizations is covered in [Chapter 7](https://inferentialthinking.com/chapters/07/Visualization.html).\n",
    "<br>**<center>Learning Goals**\n",
    "|Area|Concept|\n",
    "|---|---|\n",
    "|Tables|Load and analyze data sets. |\n",
    "|Time Trends|Using EDS module to examine and plot time trends in datascience Tables|\n",
    "|Visualization|Line plot and scatter plots using matplotlib and `EDS.ptrend`\n",
    "|Functions|Learn to define your own functions and apply them to arrays and Table columns|"
   ]
  },
  {
   "cell_type": "markdown",
   "metadata": {},
   "source": [
    "First, set up the tests and imports by running the cell below."
   ]
  },
  {
   "cell_type": "code",
   "execution_count": 1,
   "metadata": {},
   "outputs": [],
   "source": [
    "# Enter your name as a string\n",
    "name = ..."
   ]
  },
  {
   "cell_type": "code",
   "execution_count": 3,
   "metadata": {},
   "outputs": [],
   "source": [
    "import numpy as np\n",
    "from datascience import *\n",
    "%matplotlib inline\n",
    "import matplotlib.pyplot as plt\n",
    "plt.style.use('ggplot')\n",
    "import matplotlib.dates as mdates\n",
    "from matplotlib import ticker\n",
    "from gofer.ok import check # This line loads the tests.\n",
    "import os\n",
    "user = os.getenv('JUPYTERHUB_USER')\n",
    "import EDS"
   ]
  },
  {
   "cell_type": "markdown",
   "metadata": {},
   "source": [
    "### Let's explore the most recent COVID data from the New York Times\n",
    "This data is updated and stored at GitHub: https://github.com/nytimes/covid-19-data <br>\n",
    "US rolling average: https://raw.githubusercontent.com/nytimes/covid-19-data/master/rolling-averages/us.csv <br>\n",
    "US States rolling average: https://raw.githubusercontent.com/nytimes/covid-19-data/master/rolling-averages/us-states.csv <br>\n",
    "US Wastewater Surveillance: [https://covid.cdc.gov/covid-data-tracker/#wastewater-surveillance](https://covid.cdc.gov/covid-data-tracker/#wastewater-surveillance) "
   ]
  },
  {
   "cell_type": "code",
   "execution_count": 3,
   "metadata": {},
   "outputs": [],
   "source": [
    "COVID_data = 'https://raw.githubusercontent.com/nytimes/covid-19-data/master/rolling-averages/us.csv'\n",
    "COVID=Table.read_table(COVID_data)"
   ]
  },
  {
   "cell_type": "markdown",
   "metadata": {},
   "source": [
    "Now we can sort the data by date. Since the data starts at the beginning of the pandemic we see very few cases."
   ]
  },
  {
   "cell_type": "code",
   "execution_count": 5,
   "metadata": {},
   "outputs": [
    {
     "data": {
      "text/html": [
       "<table border=\"1\" class=\"dataframe\">\n",
       "    <thead>\n",
       "        <tr>\n",
       "            <th>date</th> <th>geoid</th> <th>cases</th> <th>cases_avg</th> <th>cases_avg_per_100k</th> <th>deaths</th> <th>deaths_avg</th> <th>deaths_avg_per_100k</th>\n",
       "        </tr>\n",
       "    </thead>\n",
       "    <tbody>\n",
       "        <tr>\n",
       "            <td>2023-03-23</td> <td>USA  </td> <td>45146 </td> <td>19507.8  </td> <td>5.88              </td> <td>430   </td> <td>255.3     </td> <td>0.08               </td>\n",
       "        </tr>\n",
       "        <tr>\n",
       "            <td>2023-03-22</td> <td>USA  </td> <td>51812 </td> <td>20771.2  </td> <td>6.26              </td> <td>736   </td> <td>257.28    </td> <td>0.08               </td>\n",
       "        </tr>\n",
       "        <tr>\n",
       "            <td>2023-03-21</td> <td>USA  </td> <td>18373 </td> <td>22390.5  </td> <td>6.75              </td> <td>213   </td> <td>282.61    </td> <td>0.09               </td>\n",
       "        </tr>\n",
       "        <tr>\n",
       "            <td>2023-03-20</td> <td>USA  </td> <td>9787  </td> <td>22590.7  </td> <td>6.81              </td> <td>138   </td> <td>289.82    </td> <td>0.09               </td>\n",
       "        </tr>\n",
       "        <tr>\n",
       "            <td>2023-03-19</td> <td>USA  </td> <td>1424  </td> <td>22338.3  </td> <td>6.73              </td> <td>0     </td> <td>333.64    </td> <td>0.1                </td>\n",
       "        </tr>\n",
       "        <tr>\n",
       "            <td>2023-03-18</td> <td>USA  </td> <td>1175  </td> <td>23049.4  </td> <td>6.95              </td> <td>2     </td> <td>333.64    </td> <td>0.1                </td>\n",
       "        </tr>\n",
       "        <tr>\n",
       "            <td>2023-03-17</td> <td>USA  </td> <td>18756 </td> <td>23068.4  </td> <td>6.95              </td> <td>363   </td> <td>333.49    </td> <td>0.1                </td>\n",
       "        </tr>\n",
       "        <tr>\n",
       "            <td>2023-03-16</td> <td>USA  </td> <td>54460 </td> <td>26496.4  </td> <td>7.99              </td> <td>439   </td> <td>353.42    </td> <td>0.11               </td>\n",
       "        </tr>\n",
       "        <tr>\n",
       "            <td>2023-03-15</td> <td>USA  </td> <td>137629</td> <td>27441.5  </td> <td>8.27              </td> <td>712   </td> <td>413.6     </td> <td>0.12               </td>\n",
       "        </tr>\n",
       "        <tr>\n",
       "            <td>2023-03-14</td> <td>USA  </td> <td>20174 </td> <td>28312.9  </td> <td>8.53              </td> <td>239   </td> <td>386.95    </td> <td>0.12               </td>\n",
       "        </tr>\n",
       "    </tbody>\n",
       "</table>\n",
       "<p>... (1148 rows omitted)</p>"
      ],
      "text/plain": [
       "date       | geoid | cases  | cases_avg | cases_avg_per_100k | deaths | deaths_avg | deaths_avg_per_100k\n",
       "2023-03-23 | USA   | 45146  | 19507.8   | 5.88               | 430    | 255.3      | 0.08\n",
       "2023-03-22 | USA   | 51812  | 20771.2   | 6.26               | 736    | 257.28     | 0.08\n",
       "2023-03-21 | USA   | 18373  | 22390.5   | 6.75               | 213    | 282.61     | 0.09\n",
       "2023-03-20 | USA   | 9787   | 22590.7   | 6.81               | 138    | 289.82     | 0.09\n",
       "2023-03-19 | USA   | 1424   | 22338.3   | 6.73               | 0      | 333.64     | 0.1\n",
       "2023-03-18 | USA   | 1175   | 23049.4   | 6.95               | 2      | 333.64     | 0.1\n",
       "2023-03-17 | USA   | 18756  | 23068.4   | 6.95               | 363    | 333.49     | 0.1\n",
       "2023-03-16 | USA   | 54460  | 26496.4   | 7.99               | 439    | 353.42     | 0.11\n",
       "2023-03-15 | USA   | 137629 | 27441.5   | 8.27               | 712    | 413.6      | 0.12\n",
       "2023-03-14 | USA   | 20174  | 28312.9   | 8.53               | 239    | 386.95     | 0.12\n",
       "... (1148 rows omitted)"
      ]
     },
     "execution_count": 5,
     "metadata": {},
     "output_type": "execute_result"
    }
   ],
   "source": [
    "COVID.sort(\"date\",descending=True) # Display oldest data first"
   ]
  },
  {
   "cell_type": "markdown",
   "metadata": {},
   "source": [
    "Try sorting the data by cases to find the date with the highest number of cases. Hint: use the above code as a model and replace the \"date\" with \"cases\" and adjust the descending=? to get the largest number at the top."
   ]
  },
  {
   "cell_type": "code",
   "execution_count": null,
   "metadata": {},
   "outputs": [],
   "source": [
    "COVID.sort(...)"
   ]
  },
  {
   "cell_type": "markdown",
   "metadata": {},
   "source": [
    "### <font color=blue> **What do you observe?** </font>"
   ]
  },
  {
   "cell_type": "markdown",
   "metadata": {},
   "source": []
  },
  {
   "cell_type": "markdown",
   "metadata": {},
   "source": [
    "### Use where to select data from November - December 2021\n",
    "Here are the possible arguments for the <i>where</i> Table method:<br>\n",
    "\n",
    "|Predicate|Example|Result|\n",
    "|-|-|-|\n",
    "|`are.equal_to`|`are.equal_to(50)`|Find rows with values equal to 50|\n",
    "|`are.not_equal_to`|`are.not_equal_to(50)`|Find rows with values not equal to 50|\n",
    "|`are.above`|`are.above(50)`|Find rows with values above (and not equal to) 50|\n",
    "|`are.above_or_equal_to`|`are.above_or_equal_to(50)`|Find rows with values above 50 or equal to 50|\n",
    "|`are.below`|`are.below(50)`|Find rows with values below 50|\n",
    "|`are.between`|`are.between(2, 10)`|Find rows with values above or equal to 2 and below 10|"
   ]
  },
  {
   "cell_type": "code",
   "execution_count": null,
   "metadata": {},
   "outputs": [],
   "source": [
    "COVID.where(\"deaths\",are.between(0,1))"
   ]
  },
  {
   "cell_type": "markdown",
   "metadata": {},
   "source": [
    "One way to select a particular date we can use where with the appropriate strings to select certain dates, for example for January of 2021 we can use the below code."
   ]
  },
  {
   "cell_type": "code",
   "execution_count": null,
   "metadata": {},
   "outputs": [],
   "source": [
    "COVID.where('date', are.containing(\"2021\")).where('date', are.containing(\"-01-\"))"
   ]
  },
  {
   "cell_type": "markdown",
   "metadata": {},
   "source": [
    "#### Time Trends and Dates with Data Science Tables"
   ]
  },
  {
   "cell_type": "markdown",
   "metadata": {},
   "source": [
    "We will use the EDS module to handle dates in Tables. There are two tasks.\n",
    "1. Filter the Table between two dates, use `EDS.FilterTdate(tbl_variable,'01/01/2020','02/01/2021')`\n",
    "2. Plot a time trend using EDS, use `ptrend(tbl_variable,\"date\",\"deaths_avg_per_100k\",fmtdate=\"%b-%Y\")`"
   ]
  },
  {
   "cell_type": "markdown",
   "metadata": {},
   "source": [
    "##### Examples\n",
    "Using the 5 year Google Trend search volume for Chemistry, Biology, and Nobel Prize"
   ]
  },
  {
   "cell_type": "code",
   "execution_count": 7,
   "metadata": {},
   "outputs": [
    {
     "data": {
      "text/html": [
       "<table border=\"1\" class=\"dataframe\">\n",
       "    <thead>\n",
       "        <tr>\n",
       "            <th>Week</th> <th>Chemistry: (United States)</th> <th>Biology: (United States)</th> <th>Nobel Prize: (United States)</th>\n",
       "        </tr>\n",
       "    </thead>\n",
       "    <tbody>\n",
       "        <tr>\n",
       "            <td>2019-02-03</td> <td>42                        </td> <td>40                      </td> <td>4                           </td>\n",
       "        </tr>\n",
       "        <tr>\n",
       "            <td>2019-02-10</td> <td>42                        </td> <td>38                      </td> <td>5                           </td>\n",
       "        </tr>\n",
       "        <tr>\n",
       "            <td>2019-02-17</td> <td>36                        </td> <td>33                      </td> <td>6                           </td>\n",
       "        </tr>\n",
       "        <tr>\n",
       "            <td>2019-02-24</td> <td>39                        </td> <td>37                      </td> <td>5                           </td>\n",
       "        </tr>\n",
       "        <tr>\n",
       "            <td>2019-03-03</td> <td>39                        </td> <td>37                      </td> <td>4                           </td>\n",
       "        </tr>\n",
       "        <tr>\n",
       "            <td>2019-03-10</td> <td>33                        </td> <td>31                      </td> <td>4                           </td>\n",
       "        </tr>\n",
       "        <tr>\n",
       "            <td>2019-03-17</td> <td>34                        </td> <td>32                      </td> <td>4                           </td>\n",
       "        </tr>\n",
       "        <tr>\n",
       "            <td>2019-03-24</td> <td>35                        </td> <td>33                      </td> <td>3                           </td>\n",
       "        </tr>\n",
       "        <tr>\n",
       "            <td>2019-03-31</td> <td>37                        </td> <td>36                      </td> <td>3                           </td>\n",
       "        </tr>\n",
       "        <tr>\n",
       "            <td>2019-04-07</td> <td>38                        </td> <td>36                      </td> <td>3                           </td>\n",
       "        </tr>\n",
       "    </tbody>\n",
       "</table>\n",
       "<p>... (250 rows omitted)</p>"
      ],
      "text/plain": [
       "Week       | Chemistry: (United States) | Biology: (United States) | Nobel Prize: (United States)\n",
       "2019-02-03 | 42                         | 40                       | 4\n",
       "2019-02-10 | 42                         | 38                       | 5\n",
       "2019-02-17 | 36                         | 33                       | 6\n",
       "2019-02-24 | 39                         | 37                       | 5\n",
       "2019-03-03 | 39                         | 37                       | 4\n",
       "2019-03-10 | 33                         | 31                       | 4\n",
       "2019-03-17 | 34                         | 32                       | 4\n",
       "2019-03-24 | 35                         | 33                       | 3\n",
       "2019-03-31 | 37                         | 36                       | 3\n",
       "2019-04-07 | 38                         | 36                       | 3\n",
       "... (250 rows omitted)"
      ]
     },
     "execution_count": 7,
     "metadata": {},
     "output_type": "execute_result"
    }
   ],
   "source": [
    "Nobel = Table().read_table(\"ChemBioNobelTrend.csv\") # 5 years data\n",
    "Nobel"
   ]
  },
  {
   "cell_type": "markdown",
   "metadata": {},
   "source": [
    "Filter for Semptember-December 2020"
   ]
  },
  {
   "cell_type": "code",
   "execution_count": 8,
   "metadata": {},
   "outputs": [
    {
     "name": "stdout",
     "output_type": "stream",
     "text": [
      "Filtering Table dates between 10/01/2020 10/31/2021\n"
     ]
    }
   ],
   "source": [
    "Nobel_October = EDS.FilterTdate(Nobel,'10/01/2020','10/31/2021')"
   ]
  },
  {
   "cell_type": "code",
   "execution_count": 9,
   "metadata": {},
   "outputs": [
    {
     "data": {
      "text/plain": [
       "385.0"
      ]
     },
     "execution_count": 9,
     "metadata": {},
     "output_type": "execute_result"
    },
    {
     "data": {
      "image/png": "[encoded data removed]",
      "text/plain": [
       "<Figure size 640x480 with 1 Axes>"
      ]
     },
     "metadata": {},
     "output_type": "display_data"
    }
   ],
   "source": [
    "EDS.ptrend(Nobel_October,\"Week\",\"Nobel Prize: (United States)\",fmtdate=\"%b-%Y\")"
   ]
  },
  {
   "cell_type": "markdown",
   "metadata": {
    "tags": []
   },
   "source": [
    "### <font color=blue> **Question 1. Tools for examining time trend data** </font>\n",
    "In preparing to look at COVID data we will first plot Chemistry and Biology [Google Trend](https://trends.google.com/trends/) search volumes for the five year period included in the Nobel data above. The Google Trend data gives the relative search volume as a function of day or week over a time period. An example of Google Trend data is searching for the trend of Turkey, Thanksgiving and Football as shown below.\n",
    "\n",
    "![Turkey Google Trend](turkey_trend.png \"Turkey Google Trend\")\n",
    "Examine this data for the Nobel prize and Biology. Nobel prizes are announced early October annually and awarded December 10 at 7:00 AM in honor of Alfred Nobel's death."
   ]
  },
  {
   "cell_type": "markdown",
   "metadata": {},
   "source": [
    "**Chemistry**"
   ]
  },
  {
   "cell_type": "code",
   "execution_count": null,
   "metadata": {},
   "outputs": [],
   "source": [
    "EDS.ptrend(Nobel,\"Week\",...,fmtdate=\"%b-%Y\")"
   ]
  },
  {
   "cell_type": "markdown",
   "metadata": {},
   "source": [
    "**Biology**"
   ]
  },
  {
   "cell_type": "code",
   "execution_count": null,
   "metadata": {},
   "outputs": [],
   "source": [
    "EDS.ptrend(...)"
   ]
  },
  {
   "cell_type": "markdown",
   "metadata": {},
   "source": [
    "Next we will create a new table which is subset of the original Table containing only data for 2023."
   ]
  },
  {
   "cell_type": "code",
   "execution_count": null,
   "metadata": {},
   "outputs": [],
   "source": [
    "Nobel_2023 = EDS.FilterTdate(Nobel,'01/01/2023','12/31/2023')\n",
    "Nobel_2023"
   ]
  },
  {
   "cell_type": "markdown",
   "metadata": {},
   "source": [
    "**Biology in 2023**\n",
    "Now plot the data just for 2023 using the new table `Nobel_2023`"
   ]
  },
  {
   "cell_type": "code",
   "execution_count": null,
   "metadata": {},
   "outputs": [],
   "source": [
    "testcheck = EDS.ptrend(...,...,...,fmtdate=\"%b-%Y\")"
   ]
  },
  {
   "cell_type": "code",
   "execution_count": null,
   "metadata": {},
   "outputs": [],
   "source": [
    "check('tests/q1new.py')"
   ]
  },
  {
   "cell_type": "markdown",
   "metadata": {},
   "source": [
    "### <font color=blue> **Question 2. Back to COVID Data Analysis** </font><br />\n",
    "Now let's create and look at late 2023 COVID data. Now use the Nobel example above to define a subset of the data to examine trends during all of November and December of 2021."
   ]
  },
  {
   "cell_type": "code",
   "execution_count": null,
   "metadata": {},
   "outputs": [],
   "source": [
    "COVID # Complete COVID data from above"
   ]
  },
  {
   "cell_type": "code",
   "execution_count": null,
   "metadata": {},
   "outputs": [],
   "source": [
    "Late2021 = EDS.FilterTdate(...)\n",
    "Late2021"
   ]
  },
  {
   "cell_type": "code",
   "execution_count": null,
   "metadata": {},
   "outputs": [],
   "source": [
    "check('tests/q2new.py')"
   ]
  },
  {
   "cell_type": "markdown",
   "metadata": {},
   "source": [
    "### Plot\n",
    "If we attempt to plot using the 'date' column the bottom axis has starnge numbers which are multiplied by 1e9 ($1\\cdot 10^9$) as shown in the lower right corner of the plot. These are the number of seconds from the epoch (January 1, 1970).  Another name for this time unit is UNIX time which has an [interesting history](https://en.wikipedia.org/wiki/Unix_time#:~:text=History,-Learn%20more&text=The%20earliest%20versions%20of%20Unix,two%20and%20a%20quarter%20years.). This unit of time is a way that is convenient for computers to store time as an integer but not at all convenient for us as data scientists! Using the `EDS.ptrend` function will alleviate this problem."
   ]
  },
  {
   "cell_type": "code",
   "execution_count": null,
   "metadata": {},
   "outputs": [],
   "source": [
    "Late2021.plot(\"date\", \"cases_avg_per_100k\")"
   ]
  },
  {
   "cell_type": "markdown",
   "metadata": {},
   "source": [
    "#### Now use EDS.ptrend"
   ]
  },
  {
   "cell_type": "code",
   "execution_count": null,
   "metadata": {},
   "outputs": [],
   "source": [
    "EDS.ptrend(Late2021,\"date\",\"cases_avg_per_100k\",fmtdate=\"%b-%Y\")"
   ]
  },
  {
   "cell_type": "markdown",
   "metadata": {},
   "source": [
    "#### Now change format to get days\n",
    "This is in the last part, `fmtdate=\"%b-%Y\"` This type of format string is common in coding and this particular one relates to a variety of codes for parts of a date.\n",
    "|Code|What|Example|\n",
    "|---|---|---|\n",
    "|%b|Month abbreviated|Dec|\n",
    "|%B|Month|December|\n",
    "|%y|Year abbreviated|24|\n",
    "|%Y|Year|2024|\n",
    "|%d|Day of month|06|\n",
    "|%a|Weekday abbreviated|Fri|\n",
    "|%A|Weekday|Friday|\n",
    "|%j|Day number 001-366|143|\n",
    "|%W|Week number of year|41|\n",
    "|%H|Hour of day (24)|17|\n",
    "|%h|Hour of day (12)|5|\n"
   ]
  },
  {
   "cell_type": "markdown",
   "metadata": {},
   "source": [
    "**Now get ptrend to plot using month-day-year format**. This is helpful since we are now only looking at two months, the day becomes more important."
   ]
  },
  {
   "cell_type": "code",
   "execution_count": null,
   "metadata": {},
   "outputs": [],
   "source": [
    "EDS.ptrend(Late2021,\"date\",\"cases_avg_per_100k\",fmtdate=\"...\")"
   ]
  },
  {
   "cell_type": "markdown",
   "metadata": {},
   "source": [
    "### Histogram\n",
    "Many of the matplotlib plot are available as methods availabe to data tables. A histogram method, for example, is realized by appending .hist('column name')"
   ]
  },
  {
   "cell_type": "code",
   "execution_count": null,
   "metadata": {},
   "outputs": [],
   "source": [
    "Late2021.hist('deaths')"
   ]
  },
  {
   "cell_type": "markdown",
   "metadata": {},
   "source": [
    "We can also access summary statistics for the datascience table"
   ]
  },
  {
   "cell_type": "code",
   "execution_count": null,
   "metadata": {},
   "outputs": [],
   "source": [
    "Late2021.stats()"
   ]
  },
  {
   "cell_type": "markdown",
   "metadata": {},
   "source": [
    "### <font color=blue> **Question 3.** </font><br />\n",
    "Construct a histogram and stats for November - December 2020 and compare this to those from November - December 2021 in a markdown cell below the histogram and statistics."
   ]
  },
  {
   "cell_type": "code",
   "execution_count": null,
   "metadata": {},
   "outputs": [],
   "source": [
    "Late2020 = ...\n",
    "Late2020"
   ]
  },
  {
   "cell_type": "markdown",
   "metadata": {},
   "source": [
    "The `.hist()` Table method has additional arguments to get more bins and change the range for the histogram among other arguments as shown below."
   ]
  },
  {
   "cell_type": "code",
   "execution_count": null,
   "metadata": {},
   "outputs": [],
   "source": [
    "Late2020.hist('deaths',bins = 30, range =[0,4000])\n",
    "Late2021.hist('deaths', bins = 30, range =[0,4000])"
   ]
  },
  {
   "cell_type": "markdown",
   "metadata": {},
   "source": [
    "#### <font color=blue> Write your comparison between Late2020 and Late2021 histograms in this markdown cell (double click to edit) </font>\n",
    "\n",
    "..."
   ]
  },
  {
   "cell_type": "code",
   "execution_count": null,
   "metadata": {},
   "outputs": [],
   "source": [
    "check('tests/q3a.py')"
   ]
  },
  {
   "cell_type": "markdown",
   "metadata": {},
   "source": [
    "### <font color=blue> **Question 4.** </font><br />\n",
    "Now use the EDS.ptrend() function plot your Late2020 data and then the Late2020.  In the markdown cell below, describe the differences in the line graphs between 2020 and 2021.  "
   ]
  },
  {
   "cell_type": "code",
   "execution_count": null,
   "metadata": {},
   "outputs": [],
   "source": []
  },
  {
   "cell_type": "markdown",
   "metadata": {},
   "source": [
    "#### <font color=blue> Write your comparison in this markdown cell (double click to edit)</font>\n",
    "\n",
    "..."
   ]
  },
  {
   "cell_type": "code",
   "execution_count": null,
   "metadata": {},
   "outputs": [],
   "source": [
    "check('tests/q4a.py')"
   ]
  },
  {
   "cell_type": "markdown",
   "metadata": {},
   "source": [
    "## 2. Defining functions\n",
    "\n",
    "Functions return a value(s) for values of one or more variables or arguments. In algebra we develop the concept of functions such as the following:\n",
    "$$ f(x) = 3 \\cdot x-5 $$\n",
    "If we substitute the value:\n",
    "$$ x = 3$$\n",
    "$$f(3) = 3 \\cdot 3-5 = 4$$\n",
    "\n",
    "This function can be coded in Python in the following straightforward way:\n",
    "```python\n",
    "def f(x):\n",
    "    result = 3*x - 5\n",
    "    return result\n",
    "```\n",
    "To compute the value of the function f(x) at x = 3:\n",
    "```python\n",
    "f(3)\n",
    "4\n",
    "```"
   ]
  },
  {
   "cell_type": "markdown",
   "metadata": {},
   "source": [
    "### <font color=blue> **Question 5A.** </font>"
   ]
  },
  {
   "cell_type": "markdown",
   "metadata": {},
   "source": [
    "Define a Python function for the following algebraic function:\n",
    "$$ f(x) = 2 \\cdot x + 5 $$"
   ]
  },
  {
   "cell_type": "code",
   "execution_count": 2,
   "metadata": {},
   "outputs": [],
   "source": [
    "def f(x):\n",
    "    ...\n",
    "    return ..."
   ]
  },
  {
   "cell_type": "markdown",
   "metadata": {},
   "source": [
    "Use your function to evaluate the function f(x) at x = 4"
   ]
  },
  {
   "cell_type": "code",
   "execution_count": null,
   "metadata": {},
   "outputs": [],
   "source": [
    "f(...) # test function"
   ]
  },
  {
   "cell_type": "code",
   "execution_count": null,
   "metadata": {},
   "outputs": [],
   "source": [
    "check('tests/q5a.py')"
   ]
  },
  {
   "cell_type": "markdown",
   "metadata": {},
   "source": [
    "### Visualizing functions\n",
    "We can use the matplotlib plot function to visualize your above function. In the EDS module there is a function to plot functions which takes three arguments, the function name, the x axis range, the y axis range. The axis range is given as a list with the minimum and maximum values given, [-5,5] provide the range from -5 to 5."
   ]
  },
  {
   "cell_type": "code",
   "execution_count": 6,
   "metadata": {},
   "outputs": [
    {
     "data": {
      "image/png": "[encoded data removed]",
      "text/plain": [
       "<Figure size 640x480 with 1 Axes>"
      ]
     },
     "metadata": {},
     "output_type": "display_data"
    },
    {
     "data": {
      "text/plain": [
       "True"
      ]
     },
     "execution_count": 6,
     "metadata": {},
     "output_type": "execute_result"
    }
   ],
   "source": [
    "EDS.fplot(f,[-10,10],[-10,10])"
   ]
  },
  {
   "cell_type": "code",
   "execution_count": 24,
   "metadata": {},
   "outputs": [
    {
     "data": {
      "image/png": "[encoded data removed]",
      "text/plain": [
       "<Figure size 640x480 with 1 Axes>"
      ]
     },
     "metadata": {},
     "output_type": "display_data"
    },
    {
     "data": {
      "text/plain": [
       "True"
      ]
     },
     "execution_count": 24,
     "metadata": {},
     "output_type": "execute_result"
    }
   ],
   "source": [
    "EDS.fplot(f,[-20,20],[-20,20])"
   ]
  },
  {
   "cell_type": "markdown",
   "metadata": {},
   "source": [
    "#### New function\n",
    "The below function, g(x), is a quadratic function whose plotted shaep is known as a parabola. See the [OpenStax Algebra text](https://openstax.org/books/algebra-and-trigonometry-2e/pages/5-1-quadratic-functions) for more detailed information.\n",
    "$$ g(x) = x^2 $$"
   ]
  },
  {
   "cell_type": "code",
   "execution_count": 4,
   "metadata": {},
   "outputs": [],
   "source": [
    "def g(x):\n",
    "    result = x**2\n",
    "    return result"
   ]
  },
  {
   "cell_type": "code",
   "execution_count": 5,
   "metadata": {},
   "outputs": [
    {
     "data": {
      "image/png": "[encoded data removed]",
      "text/plain": [
       "<Figure size 640x480 with 1 Axes>"
      ]
     },
     "metadata": {},
     "output_type": "display_data"
    },
    {
     "data": {
      "text/plain": [
       "True"
      ]
     },
     "execution_count": 5,
     "metadata": {},
     "output_type": "execute_result"
    }
   ],
   "source": [
    "EDS.fplot(g,[-10,10],[-10,10])"
   ]
  },
  {
   "cell_type": "markdown",
   "metadata": {},
   "source": [
    "<font color='green'>Now create a new version of the above g(x) function that shifts the function downward by 4 units on the y-axis as in the figure below.</font><br>\n",
    "<img src='parabola.png' style=\"width:550px;\"/>\n"
   ]
  },
  {
   "cell_type": "code",
   "execution_count": 6,
   "metadata": {},
   "outputs": [],
   "source": [
    "def g(x):\n",
    "    result = ...\n",
    "    return result"
   ]
  },
  {
   "cell_type": "code",
   "execution_count": null,
   "metadata": {},
   "outputs": [],
   "source": [
    "g(...) # test function"
   ]
  },
  {
   "cell_type": "code",
   "execution_count": null,
   "metadata": {},
   "outputs": [],
   "source": [
    "EDS.fplot(g,[-10,10],[-10,10])"
   ]
  },
  {
   "cell_type": "code",
   "execution_count": null,
   "metadata": {},
   "outputs": [],
   "source": [
    "check('tests/q5ab.py')"
   ]
  },
  {
   "cell_type": "markdown",
   "metadata": {},
   "source": [
    "### Simple Percentage Function Example\n",
    "Let's write a very simple function that converts a proportion to a percentage by multiplying it by 100.  For example, the value of `to_percentage(.5)` should be the number 50.  (No percent sign.)\n",
    "\n",
    "A function definition has a few parts.\n",
    "\n",
    "##### `def`\n",
    "It always starts with `def` (short for **def**ine):\n",
    "\n",
    "    def\n",
    "\n",
    "##### Name\n",
    "Next comes the name of the function.  Let's call our function `to_percentage`.\n",
    "    \n",
    "    def to_percentage\n",
    "\n",
    "##### Signature\n",
    "Next comes something called the *signature* of the function.  This tells Python how many arguments your function should have, and what names you'll use to refer to those arguments in the function's code.  `to_percentage` should take one argument, and we'll call that argument `proportion` since it should be a proportion.\n",
    "    '''\n",
    "    def to_percentage(proportion)\n",
    "    '''\n",
    "\n",
    "We put a colon after the signature to tell Python it's over.\n",
    "\n",
    "    def to_percentage(proportion):\n",
    "\n",
    "##### Documentation\n",
    "Functions can do complicated things, so you should write an explanation of what your function does.  For small functions, this is less important, but it's a good habit to learn from the start.  Conventionally, Python functions are documented by writing a triple-quoted string:\n",
    "\n",
    "    def to_percentage(proportion):\n",
    "        \"\"\"Converts a proportion to a percentage.\"\"\"\n",
    "    \n",
    "    \n",
    "##### Body\n",
    "Now we start writing code that runs when the function is called.  This is called the *body* of the function.  We can write anything we could write anywhere else.  First let's give a name to the number we multiply a proportion by to get a percentage. Note that all of the lines of code in the body of the function must be indented by the same amount, typically four spaces. Python knows it has reached the end of the function when the indentation stops.\n",
    "\n",
    "    def to_percentage(proportion):\n",
    "        \"\"\"Converts a proportion to a percentage.\"\"\"\n",
    "        factor = 100\n",
    "\n",
    "##### `return`\n",
    "The special instruction `return` in a function's body tells Python to make the value of the function call equal to whatever comes right after `return`. The function will *return* that value to the main body of the code. We want the value of `to_percentage(.5)` to be the proportion .5 times the factor 100, so we write:\n",
    "\n",
    "    def to_percentage(proportion):\n",
    "        \"\"\"Converts a proportion to a percentage.\"\"\"\n",
    "        factor = 100\n",
    "        return proportion * factor"
   ]
  },
  {
   "cell_type": "markdown",
   "metadata": {},
   "source": [
    "### <font color=blue> **Question 5B.** </font>\n",
    "\n",
    "Define `to_percentage` in the cell below.  Call your function to convert the proportion 0.20 to a percentage.  Name that percentage `twenty_percent`."
   ]
  },
  {
   "cell_type": "code",
   "execution_count": null,
   "metadata": {},
   "outputs": [],
   "source": [
    "def ...\n",
    "    \"\"\" ... \"\"\"\n",
    "    ... = ...\n",
    "    return ..."
   ]
  },
  {
   "cell_type": "code",
   "execution_count": null,
   "metadata": {},
   "outputs": [],
   "source": [
    "twenty_percent = ...\n",
    "twenty_percent"
   ]
  },
  {
   "cell_type": "code",
   "execution_count": null,
   "metadata": {},
   "outputs": [],
   "source": [
    "check('tests/q5a.py')"
   ]
  },
  {
   "cell_type": "markdown",
   "metadata": {},
   "source": [
    "Write a second function which computes the density of an ideal gas off a given molecular weight, temperature, pressure. \n",
    "$$ PV = nRT $$\n",
    "$$ \\frac{n}{V} = \\frac{P}{RT} $$\n",
    "To convert to grams from number of moles we use the molecular mass, $ M $. <br>Water has a molecular mass of $ M = 18.0 \\frac{g}{mol}$ <br>\n",
    "density is given the symbol $\\rho $ and has units of $ \\frac{g}{L} $ <br><br>\n",
    "$$  \\rho = \\frac{M\\cdot P}{R\\cdot T} $$\n",
    "\n"
   ]
  },
  {
   "cell_type": "code",
   "execution_count": null,
   "metadata": {},
   "outputs": [],
   "source": [
    "def density(P, T, M):\n",
    "    \"\"\"  ...    \"\"\"   \n",
    "    R = 0.082057\n",
    "    ...\n",
    "    ...\n",
    "    return ..."
   ]
  },
  {
   "cell_type": "code",
   "execution_count": null,
   "metadata": {},
   "outputs": [],
   "source": [
    "density(...,...,...)"
   ]
  },
  {
   "cell_type": "markdown",
   "metadata": {},
   "source": [
    "Test the function by calculating the density of water vapor (gas, $ M = 18.0 \\frac{g}{mol}$ ) at 1 atm and 298 K. R is the gas constant.<br> $$ R = 0.082057 $$"
   ]
  },
  {
   "cell_type": "code",
   "execution_count": null,
   "metadata": {},
   "outputs": [],
   "source": []
  },
  {
   "cell_type": "markdown",
   "metadata": {},
   "source": [
    "Now create an array with temperatures in Kelvin from freezing, 273.15, to 313 (40 $\\degree$ C) in 1.0 degree steps With the array, create a new array using the above `density` function. Use a scatter plot of these arrays."
   ]
  },
  {
   "cell_type": "code",
   "execution_count": null,
   "metadata": {},
   "outputs": [],
   "source": []
  },
  {
   "cell_type": "code",
   "execution_count": null,
   "metadata": {},
   "outputs": [],
   "source": [
    "check('tests/q5b.py')"
   ]
  },
  {
   "cell_type": "markdown",
   "metadata": {},
   "source": [
    "Matplotlib can generate a variety of figures and given how we initialize it in this lab is referenced with the plt. prefix. The traditional .plot() is also known as a line plot. A scatter plot is useful for exploring the relationship bewteen two or more variables and uses markers for data points. Matplotlib takes one or more numpy arrays as arguments to plot. Matplotlib can also use lists as arguments.  An example is shown below."
   ]
  },
  {
   "cell_type": "code",
   "execution_count": null,
   "metadata": {},
   "outputs": [],
   "source": [
    "x = np.array([3, 8, 5, 6, 1, 9, 6, 7, 2, 1, 8])\n",
    "y = np.array([4, 5, 2, 4, 6, 1, 4, 6, 5, 2, 3])\n",
    "color = \"red\"\n",
    "plt.scatter(x, y, c = color, label = color)"
   ]
  },
  {
   "cell_type": "markdown",
   "metadata": {},
   "source": [
    "Same scatter plot with lists:"
   ]
  },
  {
   "cell_type": "code",
   "execution_count": null,
   "metadata": {},
   "outputs": [],
   "source": [
    "x = [3, 8, 5, 6, 1, 9, 6, 7, 2, 1, 8]\n",
    "y = [4, 5, 2, 4, 6, 1, 4, 6, 5, 2, 3]\n",
    "color = \"orange\"\n",
    "plt.scatter(x, y, c = color, label = color)"
   ]
  },
  {
   "cell_type": "markdown",
   "metadata": {},
   "source": [
    "Use the same approach to plot the density computer with your function versus the temperature. Hint: you can use list comprehension to create a list with densities for given temperatures."
   ]
  },
  {
   "cell_type": "code",
   "execution_count": null,
   "metadata": {},
   "outputs": [],
   "source": []
  },
  {
   "cell_type": "code",
   "execution_count": null,
   "metadata": {},
   "outputs": [],
   "source": []
  },
  {
   "cell_type": "code",
   "execution_count": null,
   "metadata": {},
   "outputs": [],
   "source": [
    "plt.scatter(..., ...)"
   ]
  },
  {
   "cell_type": "markdown",
   "metadata": {},
   "source": [
    "### <font color=blue> **Question 6.** </font>\n",
    "\n",
    "Now define another function which takes the ratio of two number and then uses the *'to_percentage'* function above to convert it into a percentage. One issue is when the denominator is zero we get a result which is not a number or `nan` in Python. This can be changed to a zero as a place holder with a little trick shown below that can be incorporated as two lines of your code."
   ]
  },
  {
   "cell_type": "code",
   "execution_count": null,
   "metadata": {},
   "outputs": [],
   "source": [
    "# First approach to deal with dividing by zero\n",
    "from math import nan\n",
    "\n",
    "z = nan\n",
    "print(\"First: \", z)\n",
    "# Use this part in your function\n",
    "if z != z:  # if conditional statement\n",
    "    z = 0\n",
    "# Up to here\n",
    "print(\"Now: \", z)"
   ]
  },
  {
   "cell_type": "code",
   "execution_count": null,
   "metadata": {},
   "outputs": [],
   "source": [
    "# Now your function...\n",
    "def ratio(x1,x2):\n",
    "    \"\"\" Computes a ratio of x1 to x2 \"\"\"\n",
    "    ...\n",
    "    r = to_percentage(z)\n",
    "    return r"
   ]
  },
  {
   "cell_type": "code",
   "execution_count": null,
   "metadata": {},
   "outputs": [],
   "source": [
    "check('tests/q6a.py')"
   ]
  },
  {
   "cell_type": "markdown",
   "metadata": {},
   "source": [
    "### COVID cases leading to bad outcomes\n",
    "Now we will apply the function to our COVID data. Here we will need to use the *with_columns* method of a Table object to add the result of applying the ratio function with two columns as arguments. These columns will be *deaths* and *cases*. The percentage return by the function will create a new column.<br>\n",
    "<br>See Inferential Thinking 8.1.1 for inspiration: <br> https://inferentialthinking.com/chapters/08/1/Applying_a_Function_to_a_Column.html"
   ]
  },
  {
   "cell_type": "markdown",
   "metadata": {},
   "source": [
    "### <font color=blue> **Question 7.** </font> \n",
    "\n",
    "Now apply your function to create a new column, *deathrate*. Examine the histogram for deathrate. Now plot the trend for *deathrate* for the entire timeperiod of the dataset. Remember the special codes from above to define the x ('date') and y ('deathrate') data to plot. Discuss the results in the markdown cell below."
   ]
  },
  {
   "cell_type": "code",
   "execution_count": null,
   "metadata": {},
   "outputs": [],
   "source": [
    "COVID = COVID.with_columns(\"deathrate\",...).sort(\"deathrate\")\n",
    "# Check that there are no nan...\n",
    "COVID"
   ]
  },
  {
   "cell_type": "code",
   "execution_count": null,
   "metadata": {},
   "outputs": [],
   "source": [
    "# Histogram\n",
    "..."
   ]
  },
  {
   "cell_type": "markdown",
   "metadata": {},
   "source": [
    "Use `EDS.ptrend()` to plot the deathrate."
   ]
  },
  {
   "cell_type": "code",
   "execution_count": null,
   "metadata": {},
   "outputs": [],
   "source": []
  },
  {
   "cell_type": "markdown",
   "metadata": {},
   "source": [
    "#### <font color=blue> Your discussion of results from question 7 in this markdown cell (double click to edit)</font>\n",
    "\n",
    " <font color='blue'>.............</font>"
   ]
  },
  {
   "cell_type": "code",
   "execution_count": null,
   "metadata": {},
   "outputs": [],
   "source": [
    "check('tests/q7a.py')"
   ]
  },
  {
   "cell_type": "markdown",
   "metadata": {},
   "source": [
    "### <font color=blue> **Question 8.** </font>\n",
    "\n",
    "At the end of each lab, please include a reflection. \n",
    "* How did this lab go? \n",
    "* What aspects of visualization or functions do you find confusing?\n",
    "* Were there questions you found especially challenging you would like your instructor to review in class? \n",
    "* How long did the lab take you to complete?\n",
    "\n",
    "Share your feedback so we can continue to improve this class!\n",
    "\n",
    "**Insert a markdown cell below this one and write your reflection on this lab.**"
   ]
  },
  {
   "cell_type": "markdown",
   "metadata": {},
   "source": [
    "**Congratulations** , you're done with lab 4! Be sure to\n",
    "run all the tests and verify that they all pass (the next cell has a shortcut for that),\n",
    "Save and Checkpoint from the File menu\n",
    "Run the last two cells for partial grading. Comments and markdown will be graded separately. "
   ]
  },
  {
   "cell_type": "code",
   "execution_count": null,
   "metadata": {},
   "outputs": [],
   "source": [
    "# For your convenience, you can run this cell to run all the tests at once!\n",
    "import glob\n",
    "from gofer.ok import check\n",
    "correct = 0\n",
    "for x in ['q1new','q2new','q3a','q4a','q6a', 'q7a'] :\n",
    "    print('Testing question {}: '.format(str(x)))\n",
    "    g = check('tests/{}.py'.format(str(x)))\n",
    "    if g.grade == 1.0:\n",
    "        print(\"Passed\")\n",
    "        correct += 1\n",
    "    else:\n",
    "        print('Failed')\n",
    "        display(g)\n",
    "\n",
    "print('Grade:  {}'.format(str(correct/6)))"
   ]
  },
  {
   "cell_type": "code",
   "execution_count": null,
   "metadata": {},
   "outputs": [],
   "source": [
    "print(\"Nice work \",name, user)\n",
    "import time;\n",
    "localtime = time.asctime( time.localtime(time.time()) )\n",
    "print(\"Submitted @ \", localtime)"
   ]
  }
 ],
 "metadata": {
  "kernelspec": {
   "display_name": "Python 3 (ipykernel)",
   "language": "python",
   "name": "python3"
  },
  "language_info": {
   "codemirror_mode": {
    "name": "ipython",
    "version": 3
   },
   "file_extension": ".py",
   "mimetype": "text/x-python",
   "name": "python",
   "nbconvert_exporter": "python",
   "pygments_lexer": "ipython3",
   "version": "3.9.19"
  }
 },
 "nbformat": 4,
 "nbformat_minor": 4
}
