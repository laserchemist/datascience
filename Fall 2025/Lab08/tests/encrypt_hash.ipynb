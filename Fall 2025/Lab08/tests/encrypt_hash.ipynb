{
 "cells": [
  {
   "cell_type": "code",
   "execution_count": 1,
   "id": "4d1a681b-7fcd-444a-b51b-0604f44e5cf5",
   "metadata": {},
   "outputs": [
    {
     "ename": "TypeError",
     "evalue": "Strings must be encoded before hashing",
     "output_type": "error",
     "traceback": [
      "\u001b[0;31m---------------------------------------------------------------------------\u001b[0m",
      "\u001b[0;31mTypeError\u001b[0m                                 Traceback (most recent call last)",
      "Cell \u001b[0;32mIn[1], line 2\u001b[0m\n\u001b[1;32m      1\u001b[0m \u001b[38;5;28;01mimport\u001b[39;00m \u001b[38;5;21;01mhashlib\u001b[39;00m\n\u001b[0;32m----> 2\u001b[0m encoded \u001b[38;5;241m=\u001b[39m \u001b[43mhashlib\u001b[49m\u001b[38;5;241;43m.\u001b[39;49m\u001b[43msha1\u001b[49m\u001b[43m(\u001b[49m\u001b[38;5;124;43m\"\u001b[39;49m\u001b[38;5;124;43mabcdef\u001b[39;49m\u001b[38;5;124;43m\"\u001b[39;49m\u001b[43m)\u001b[49m \u001b[38;5;66;03m# \"abcdef\" is the password\u001b[39;00m\n\u001b[1;32m      3\u001b[0m encoded\u001b[38;5;241m.\u001b[39mhexdigest()\n",
      "\u001b[0;31mTypeError\u001b[0m: Strings must be encoded before hashing"
     ]
    }
   ],
   "source": [
    "import hashlib\n",
    "encoded = hashlib.sha1(\"abcdef\") # \"abcdef\" is the password\n",
    "encoded.hexdigest()"
   ]
  },
  {
   "cell_type": "code",
   "execution_count": 3,
   "id": "ef84645e-5484-4ec0-864f-93b277557766",
   "metadata": {},
   "outputs": [
    {
     "name": "stdout",
     "output_type": "stream",
     "text": [
      "Hash:86b4985ce902442af649967dcf037d3eae4dc17f86b37a2b7acb45a3f3602455\n"
     ]
    }
   ],
   "source": [
    "# importing hashlib for getting sha256() hash function\n",
    "import hashlib\n",
    "\n",
    "\n",
    "def hashfile(file):\n",
    "\n",
    "    # A arbitrary (but fixed) buffer size\n",
    "    # 65536 = 65536 bytes = 64 kilobytes\n",
    "    BUF_SIZE = 65536\n",
    "\n",
    "    # Initializing the sha256() method\n",
    "    sha256 = hashlib.sha256()\n",
    "\n",
    "    # Opening the file provided as the first \n",
    "    # commandline argument\n",
    "    with open(\"q1.txt\", 'rb') as f:\n",
    "        while True:\n",
    "            # reading data = BUF_SIZE from the \n",
    "            # file and saving it in a variable\n",
    "            data = f.read(BUF_SIZE)\n",
    "\n",
    "            # True if eof = 1\n",
    "            if not data:\n",
    "                break\n",
    "\n",
    "            # Passing that data to that sh256 hash \n",
    "            # function (updating the function with that data)\n",
    "            sha256.update(data)\n",
    "\n",
    "    # sha256.hexdigest() hashes all the input data passed\n",
    "    # to the sha256() via sha256.update()\n",
    "    # Acts as a finalize method, after which \n",
    "    # all the input data gets hashed\n",
    "    # hexdigest() hashes the data, and returns \n",
    "    # the output in hexadecimal format\n",
    "    return sha256.hexdigest()\n",
    "\n",
    "\n",
    "# Calling hashfile() function to obtain hash of the file \n",
    "# and saving the result in a variable\n",
    "file_hash = hashfile(sys.argv[1])\n",
    "\n",
    "print(f\"Hash:{file_hash}\")"
   ]
  },
  {
   "cell_type": "code",
   "execution_count": 43,
   "id": "d8c55bde-c82c-4e6c-8126-b82204444c5f",
   "metadata": {},
   "outputs": [
    {
     "name": "stdout",
     "output_type": "stream",
     "text": [
      "There is a correlation between wait time and duration. If we were to do a regression we would find a positive slope when plotting duration on the x axis and wait time on the y axis.\n",
      "key:  b'qcpYzFmlnKxfx6aKI7TdubfghunxQXi0RebBPC5dvss='\n",
      "original string:  There is a correlation between wait time and duration. If we were to do a regression we would find a positive slope when plotting duration on the x axis and wait time on the y axis.\n",
      "encrypted string:  b'gAAAAABnGSaVo5PLZ7ZYHDYc6cD8cFaS0sD0LzL6CKkiGlSFbyztwqvJ3rtoCId2AUfumjfokE35izwTl54mpYT4vzgPgULC4vNeoPeMTG962oH29HRzaGh1eC0PDqKjyHpKs3-fwjCaJ6WccfVHslWwToQf9XLBlOF2AysKJZLqN9lmoLsOfsge8WkyQU94oc6uA9zS3MGCs2oJj1eE1WzHdg7mgGPw5yRN5QYSbpLz-5nUtIR4EZPVec_jJQAtSijinFc8fDS4A6Ezsio8IykRvXu2xOae4is-p6cbgSd0cEpwp4dO1zwP2iTHvAzzH5mCn570WF1I'\n",
      "decrypted string:  There is a correlation between wait time and duration. If we were to do a regression we would find a positive slope when plotting duration on the x axis and wait time on the y axis.\n",
      "\n",
      "decrypted string from file:\n",
      "  There is a correlation between wait time and duration. If we were to do a regression we would find a positive slope when plotting duration on the x axis and wait time on the y axis.\n"
     ]
    }
   ],
   "source": [
    "from cryptography.fernet import Fernet\n",
    "# we will be encrypting the below string.\n",
    "with open(\"q1.txt\", 'r') as f:\n",
    "            message = f.read()\n",
    "print(message)\n",
    "\n",
    "# generate a key for encryption and decryption\n",
    "# You can use fernet to generate \n",
    "# the key or use random key generator\n",
    "# here I'm using fernet to generate key\n",
    "\n",
    "key = Fernet.generate_key()\n",
    "print('key: ',key)\n",
    "# Instance the Fernet class with the key\n",
    "\n",
    "fernet = Fernet(key)\n",
    "\n",
    "# then use the Fernet class instance \n",
    "# to encrypt the string string must\n",
    "# be encoded to byte string before encryption\n",
    "encMessage = fernet.encrypt(message.encode())\n",
    "\n",
    "print(\"original string: \", message)\n",
    "print(\"encrypted string: \", encMessage)\n",
    "\n",
    "with open(\"q1_enc.txt\", \"wb\") as file:\n",
    "    file.write(encMessage)\n",
    "# decrypt the encrypted string with the \n",
    "# Fernet instance of the key,\n",
    "# that was used for encrypting the string\n",
    "# encoded byte string is returned by decrypt method,\n",
    "# so decode it to string with decode methods\n",
    "decMessage = fernet.decrypt(encMessage).decode()\n",
    "\n",
    "print(\"decrypted string: \", decMessage)\n",
    "\n",
    "with open(\"q1_enc.txt\", 'rb') as f:\n",
    "            encmessage = f.read()\n",
    "decMessage = fernet.decrypt(encMessage).decode()\n",
    "\n",
    "print(\"\\ndecrypted string from file:\\n \", decMessage)"
   ]
  },
  {
   "cell_type": "code",
   "execution_count": 44,
   "id": "d83eac7f-817e-485c-8bf1-7778e720d6ce",
   "metadata": {},
   "outputs": [
    {
     "name": "stdout",
     "output_type": "stream",
     "text": [
      "Test sentence: I learned how to apply regression models to data.\n",
      "\n",
      "For The data appeared to be corrupted\n",
      "Similarity Score = 0.17233974768756344 \n",
      "\n",
      "For We used statistical analysis to find a good value\n",
      "Similarity Score = 0.36856285052563553 \n",
      "\n",
      "For The line was straight\n",
      "Similarity Score = 0.08502143874828338 \n",
      "\n",
      "For   \n",
      "Similarity Score = 0.0935596851575281 \n"
     ]
    }
   ],
   "source": [
    "#!pip install -U sentence-transformers\n",
    "\n",
    "from scipy.spatial import distance\n",
    "from sentence_transformers import SentenceTransformer\n",
    "model = SentenceTransformer('all-MiniLM-L6-v2')\n",
    "\n",
    "# Sample sentence\n",
    "sentences = [\"The data appeared to be corrupted\",\n",
    "                        \"We used statistical analysis to find a good value\",\n",
    "                        \"The line was straight\", \"  \"]\n",
    "\n",
    "\n",
    "test = \"I learned how to apply regression models to data.\"\n",
    "print('Test sentence:',test)\n",
    "test_vec = model.encode([test])[0]\n",
    "\n",
    "\n",
    "for sent in sentences:\n",
    "        similarity_score = 1-distance.cosine(test_vec, model.encode([sent])[0])\n",
    "        print(f'\\nFor {sent}\\nSimilarity Score = {similarity_score} ')\n",
    "\n",
    "\n",
    "\n"
   ]
  },
  {
   "cell_type": "code",
   "execution_count": null,
   "id": "f11b3e1a-1458-4758-9298-7ee9146e6974",
   "metadata": {},
   "outputs": [],
   "source": []
  },
  {
   "cell_type": "code",
   "execution_count": 54,
   "id": "f2320216-de4a-4864-8313-b348561b869d",
   "metadata": {},
   "outputs": [
    {
     "data": {
      "text/plain": [
       "array([6., 0.], dtype=float32)"
      ]
     },
     "execution_count": 54,
     "metadata": {},
     "output_type": "execute_result"
    }
   ],
   "source": [
    "from sentence_transformers import CrossEncoder\n",
    "import torch\n",
    "model = CrossEncoder(\"cross-encoder/ms-marco-MiniLM-L-12-v2\", default_activation_function=torch.nn.ReLU6())\n",
    "#model = CrossEncoder(\"cross-encoder/ms-marco-MiniLM-L-12-v2\", default_activation_function=torch.nn.Sigmoid())\n",
    "#model = CrossEncoder(\"cross-encoder/ms-marco-MiniLM-L-12-v2\", default_activation_function=torch.nn.ReLU())\n",
    "scores = model.predict([\n",
    "    (\"How many people live in Berlin?\", \"Berlin had a population of 3,520,031 registered inhabitants in an area of 891.82 square kilometers.\"),\n",
    "    (\"How many people live in Berlin?\", \"Berlin is well known for its museums.\"),\n",
    "])\n",
    "# => array([0.9998173 , 0.01312432], dtype=float32)\n",
    "scores"
   ]
  },
  {
   "cell_type": "code",
   "execution_count": 55,
   "id": "7ef19a3d-ad7f-4e03-b774-d9d2bf01dd5f",
   "metadata": {},
   "outputs": [
    {
     "data": {
      "text/plain": [
       "array([6., 0.], dtype=float32)"
      ]
     },
     "execution_count": 55,
     "metadata": {},
     "output_type": "execute_result"
    }
   ],
   "source": [
    "scores"
   ]
  },
  {
   "cell_type": "code",
   "execution_count": 58,
   "id": "17a23bac-2421-4b36-8f6a-6fe4d3910111",
   "metadata": {},
   "outputs": [
    {
     "name": "stdout",
     "output_type": "stream",
     "text": [
      "++++++\n",
      " There is a correlation between wait time and duration. If we were to do a regression we would find a positive slope when plotting duration on the x axis and wait time on the y axis. \n",
      "++++\n",
      "\n",
      "The data appeared to be corrupted\n",
      " score: 0.24462664127349854\n",
      "----\n",
      "We used statistical analysis to find a good value\n",
      " score: 0.48777047793070477\n",
      "----\n",
      "The line was straight with a positive slope\n",
      " score: 0.7215702533721924\n",
      "----\n",
      "Today is a nice day\n",
      " score: 0.2027327617009481\n",
      "----\n",
      "Confused\n",
      " score: 0.30788413683573407\n",
      "----\n",
      "There is a correlation between wait time and duration.\n",
      " score: 1.0\n",
      "----\n"
     ]
    },
    {
     "data": {
      "text/plain": [
       "array([0.24462664, 0.48777048, 0.72157025, 0.20273276, 0.30788414,\n",
       "       1.        ])"
      ]
     },
     "execution_count": 58,
     "metadata": {},
     "output_type": "execute_result"
    }
   ],
   "source": [
    "scores = model.predict([\n",
    "    (decMessage, sentences[0]),\n",
    "    (decMessage, \"Berlin is well known for its museums.\"),\n",
    "])\n",
    "question = 'What trend do you see in the data? Discuss and include an estimate of the the slope'\n",
    "sentences = [\"The data appeared to be corrupted\",\n",
    "                        \"We used statistical analysis to find a good value\",\n",
    "                        \"The line was straight with a positive slope\",\"Today is a nice day\",\"Confused\",\"There is a correlation between wait time and duration.\"]\n",
    "\n",
    "scores = []\n",
    "print('++++++\\n',decMessage,'\\n++++\\n')\n",
    "for sent in sentences:\n",
    "    score = model.predict((decMessage, sent))/6\n",
    "    print(f'{sent}\\n score: {score}\\n----')\n",
    "    scores.append(score)\n",
    "scores/max(scores)"
   ]
  },
  {
   "cell_type": "code",
   "execution_count": null,
   "id": "8054bba1-5fbc-436d-978d-131ede42346b",
   "metadata": {},
   "outputs": [],
   "source": []
  }
 ],
 "metadata": {
  "kernelspec": {
   "display_name": "Python 3 (ipykernel)",
   "language": "python",
   "name": "python3"
  },
  "language_info": {
   "codemirror_mode": {
    "name": "ipython",
    "version": 3
   },
   "file_extension": ".py",
   "mimetype": "text/x-python",
   "name": "python",
   "nbconvert_exporter": "python",
   "pygments_lexer": "ipython3",
   "version": "3.9.19"
  }
 },
 "nbformat": 4,
 "nbformat_minor": 5
}
