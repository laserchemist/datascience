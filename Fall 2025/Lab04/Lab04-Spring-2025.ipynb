{
 "cells": [
  {
   "cell_type": "markdown",
   "metadata": {},
   "source": [
    "# Lab 04 Functions and Visualization\n",
    "\n",
    "<i>Elements of Data Science</i><br><br>\n",
    "Welcome to lab 4!\n",
    "This week, we will focus on functions and visualization. <br>Functions are described in [Chapter 8](https://inferentialthinking.com/chapters/08/Functions_and_Tables.html) of the Inferential Thinking text. <br>Visualizations is covered in [Chapter 7](https://inferentialthinking.com/chapters/07/Visualization.html).\n",
    "<br>**<center>Learning Goals**\n",
    "|Area|Concept|\n",
    "|---|---|\n",
    "|Tables|Load and analyze data sets. |\n",
    "|Time Trends|Using EDS module to examine and plot time trends in datascience Tables|\n",
    "|Visualization|Line plot and scatter plots using matplotlib and `ptrend`\n",
    "|Functions|Learn to define your own functions and apply them to arrays and Table columns|"
   ]
  },
  {
   "cell_type": "markdown",
   "metadata": {},
   "source": [
    "First, set up the tests and imports by running the cell below."
   ]
  },
  {
   "cell_type": "markdown",
   "metadata": {},
   "source": [
    "**Enter your name as a string**"
   ]
  },
  {
   "cell_type": "code",
   "execution_count": null,
   "metadata": {
    "tags": []
   },
   "outputs": [],
   "source": [
    "name = "
   ]
  },
  {
   "cell_type": "code",
   "execution_count": null,
   "metadata": {
    "tags": []
   },
   "outputs": [],
   "source": [
    "import numpy as np\n",
    "from datascience import *\n",
    "%matplotlib inline\n",
    "import matplotlib.pyplot as plt\n",
    "plt.style.use('ggplot')\n",
    "import matplotlib.dates as mdates\n",
    "from matplotlib import ticker\n",
    "from gofer.ok import check # This line loads the tests.\n",
    "import os\n",
    "user = os.getenv('JUPYTERHUB_USER')\n",
    "\n",
    "from EDS_mod.EDS_mod import *\n",
    "from gofer.ok import check\n",
    "notebooks = glob.glob('*.ipynb')\n",
    "notebook = max(notebooks, key=os.path.getmtime)"
   ]
  },
  {
   "cell_type": "markdown",
   "metadata": {},
   "source": [
    "## Part 1: A quick review of tables\n",
    "### Creating a data table\n",
    "We will begin by creating a simple data table. Most of the time, we will read the data from a file, but for this demonstration table we will create it from scratch using the `with_columns` method. Recall that a table is comprised of columns. Each column had a label (the column header) and an an associated array of data (string or numeric) and that all of the columns must be the same length."
   ]
  },
  {
   "cell_type": "code",
   "execution_count": null,
   "metadata": {},
   "outputs": [],
   "source": [
    "# Define the data\n",
    "animal_data = Table().with_columns(\n",
    "    \"Animal\", [\"Elephant\", \"Giraffe\", \"Lion\", \"Tiger\", \"Zebra\"],\n",
    "    \"Weight (kg)\", [6000, 1600, 200, 300, 350],\n",
    "    \"Height (cm)\", [300, 550, 120, 100, 140],\n",
    "    \"Lifespan (years)\", [70, 25, 15, 20, 25]\n",
    ")\n",
    "animal_data"
   ]
  },
  {
   "cell_type": "markdown",
   "metadata": {},
   "source": [
    "### Some common table methods\n",
    "\n",
    "|Method|Example|Result|\n",
    "|-|-|-|\n",
    "|show()|show(3)| Display the first 3 rows of a table|\n",
    "|drop()|drop[\"Height (cm)\"| Returns a new table without the \"Height (cm)\" column|\n",
    "|select()|select([\"Animal\", \"Weight(kg)\"])| Returns a new table with just the two columns specified|\n",
    "|column()|column(\"Lifespan (years)\")| Returns that data array from the specified column|\n",
    "\n",
    "All of these methods and more can be found in the [online data tables reference](https://www.data8.org/datascience/tables.html).\n",
    "\n",
    "A common point of confusion is `select` versus `column.`"
   ]
  },
  {
   "cell_type": "code",
   "execution_count": null,
   "metadata": {},
   "outputs": [],
   "source": [
    "# Returns a table of the one or more selected columns\n",
    "animal_data.select(\"Lifespan (years)\")"
   ]
  },
  {
   "cell_type": "markdown",
   "metadata": {},
   "source": [
    "<font color=blue> **Question 1. Extracting an array from a table** </font><br />\n",
    "Extract the array of animal weights from the data table."
   ]
  },
  {
   "cell_type": "code",
   "execution_count": null,
   "metadata": {},
   "outputs": [],
   "source": [
    "weights = ...\n",
    "weights"
   ]
  },
  {
   "cell_type": "code",
   "execution_count": null,
   "metadata": {},
   "outputs": [],
   "source": [
    "check('tests/q1n.py')"
   ]
  },
  {
   "cell_type": "markdown",
   "metadata": {},
   "source": [
    "We often extract data a data column when we want to calculate some value from the data. For example, if we wanted to know the maximum weight."
   ]
  },
  {
   "cell_type": "code",
   "execution_count": null,
   "metadata": {},
   "outputs": [],
   "source": [
    "max(weights)"
   ]
  },
  {
   "cell_type": "markdown",
   "metadata": {},
   "source": [
    "We often want to calculate basic statistics on data table, so there is a method for this. "
   ]
  },
  {
   "cell_type": "code",
   "execution_count": null,
   "metadata": {},
   "outputs": [],
   "source": [
    "animal_data.stats()"
   ]
  },
  {
   "cell_type": "markdown",
   "metadata": {},
   "source": [
    "The `stats()` method gives us the minimum, maximum, median, and sum for each column. For the column containing string data (animal names) the min and max are the first and last entries alphabetically, respectively. The median and sum have no meaning for string data, so they are blank.\n",
    "\n",
    "There are also method for finding the number of rows and columns in a table. These come in handy for large data tables."
   ]
  },
  {
   "cell_type": "code",
   "execution_count": null,
   "metadata": {},
   "outputs": [],
   "source": [
    "animal_data.num_rows"
   ]
  },
  {
   "cell_type": "code",
   "execution_count": null,
   "metadata": {},
   "outputs": [],
   "source": [
    "animal_data.num_columns"
   ]
  },
  {
   "cell_type": "markdown",
   "metadata": {},
   "source": [
    "Do you remember how to sort the table? Let's sort by Lifespan."
   ]
  },
  {
   "cell_type": "code",
   "execution_count": null,
   "metadata": {},
   "outputs": [],
   "source": [
    "animal_data.sort(\"Lifespan (years)\")"
   ]
  },
  {
   "cell_type": "markdown",
   "metadata": {},
   "source": [
    "<font color=blue> **Question 2. Sort Descending** </font><br />\n",
    "Sort the data by weight, but in ascending order from lightest to heaviest.<br>\n",
    "*Hint*: You need the `descending=False` option in your sort method."
   ]
  },
  {
   "cell_type": "code",
   "execution_count": null,
   "metadata": {},
   "outputs": [],
   "source": [
    "animal_data_heavy_to_light = ..."
   ]
  },
  {
   "cell_type": "code",
   "execution_count": null,
   "metadata": {},
   "outputs": [],
   "source": [
    "check('tests/q2n.py')"
   ]
  },
  {
   "cell_type": "markdown",
   "metadata": {},
   "source": [
    "#### Save our important animal data for latter!\n",
    "Saving data to a file is as important as creating and analyzing data. A `.csv` or comma separated value file is the most standard format since computer code and spreadsheet programs can read this text format. Below replace the `...` with your own filename. Note that we add or what we call \"append\" a `.csv` file ending to be sure the file is recognizable as data."
   ]
  },
  {
   "cell_type": "code",
   "execution_count": null,
   "metadata": {},
   "outputs": [],
   "source": [
    "myanimalfile = \"...\" + \".csv\"\n",
    "print(\"File name = \",myanimalfile)\n",
    "animal_data.to_csv(myanimalfile)"
   ]
  },
  {
   "cell_type": "code",
   "execution_count": null,
   "metadata": {},
   "outputs": [],
   "source": [
    "check('tests/q3n.py')"
   ]
  },
  {
   "cell_type": "markdown",
   "metadata": {},
   "source": [
    "## Part 2: Writing Functions\n",
    "\n",
    "Until now, you have just been using functions, starting way back in Lab01 when you learned to use the `print()` function. Now it is time to graduate from function user to function creator. You will continue to use functions, but you will also write your own! By breaking down complex problems into smaller, well-defined functions, you enhance code readability and make your code easier to understand, debug, and modify.\n",
    "\n",
    "Functions will seem complicated at first, but they actually follow a simple pattern. We will start with super-simple function and gradually add complexity to imprint this pattern into your Python DNA."
   ]
  },
  {
   "cell_type": "markdown",
   "metadata": {},
   "source": [
    "### Function 1: A super simple function. No parameters, no return value."
   ]
  },
  {
   "cell_type": "code",
   "execution_count": null,
   "metadata": {},
   "outputs": [],
   "source": [
    "def print_one_dad_joke():\n",
    "    print(\"What did one plant say to the other? Aloe! Long thyme no see.\")"
   ]
  },
  {
   "cell_type": "markdown",
   "metadata": {},
   "source": [
    "- `def` is short for \"define.\" You have to define a function before you can use it\n",
    "- Then you give the function a name. Function names follow the same rules as Python variables. This function is named `print_one_dad_joke`.\n",
    "- Right after the function name you put any variables that will be passed to the function inside parenthesis. These are called the function's parameters, or arguments. This function has none, so the parentheses are empty: `()`. We'll come back to this later.\n",
    "- After the parentheses we put a colon to mark the start of the body of the function. This is where the function does its work.\n",
    "- All the lines that comprise the body of the function must be indented. When you stop indenting, Python knows you have finished defining your function. This function has only one line, a print statement.\n",
    "\n",
    "Now that the function has been defined, we can use it."
   ]
  },
  {
   "cell_type": "code",
   "execution_count": null,
   "metadata": {},
   "outputs": [],
   "source": [
    "print_one_dad_joke()"
   ]
  },
  {
   "cell_type": "markdown",
   "metadata": {},
   "source": [
    "## Function 2: Add a function parameter.\n",
    "\n",
    "Our super simple function has no flexibility. Everytime you call it, it tells the same joke. (Hmmm. That is rather dad-like...)\n",
    "Let's add an argument to the function to allow it to print whatever dad joke we pass it."
   ]
  },
  {
   "cell_type": "code",
   "execution_count": null,
   "metadata": {},
   "outputs": [],
   "source": [
    "def print_any_dad_joke(joke):\n",
    "    print(\"Dad joke: \", joke)"
   ]
  },
  {
   "cell_type": "code",
   "execution_count": null,
   "metadata": {},
   "outputs": [],
   "source": [
    "dad_joke1 = \"I only seem to get sick on weekdays. I must have a weekend immune system\"\n",
    "dad_joke2 = \"What brand of underwear do do chemists wear? Kelvin Klein.\"\n",
    "\n",
    "print_any_dad_joke(dad_joke1)\n",
    "print_any_dad_joke(dad_joke2)"
   ]
  },
  {
   "cell_type": "markdown",
   "metadata": {},
   "source": [
    "This new function takes one parameter, `joke`, and uses it in a print statement. Notice that the name of the variable you pass the function doesn't matter. Whatever you pass it will be renamed 'joke' inside the function. When we called the function with the statement `print_any_dad_joke(dad_joke1)` the variable `dad_joke1` was passed to the function where it became a new variable `joke` that exists only inside the function. If the variable joke is changed inside the function, it doesn't alter any of the variables outside of the function.\n",
    "\n",
    "Let's test this."
   ]
  },
  {
   "cell_type": "code",
   "execution_count": null,
   "metadata": {},
   "outputs": [],
   "source": [
    "def print_any_dad_joke(joke):\n",
    "    print(\"Dad joke: \", joke)\n",
    "    joke = \"I hate my job—all I do is crush cans all day. It’s soda pressing.\"\n",
    "\n",
    "joke = \"How do cows stay up to date? They read the Moo-spaper.\"\n",
    "print_any_dad_joke(joke)\n",
    "print(joke)"
   ]
  },
  {
   "cell_type": "markdown",
   "metadata": {},
   "source": [
    "In this version of the function, the variable joke was changed inside the function, but not outside of the function, so even after you run the function the variable `joke` contains the first joke. *This is actually very important.*  When you write a function for others to use, you have no idea what variables they might already have in their program; you don't want any variables you define in your function to accidentally change some value in their program. **What is happens in a function stays in a function.**\n",
    "\n",
    "What if you **want** to get something back from the function? Then you need to add a `return` statement."
   ]
  },
  {
   "cell_type": "markdown",
   "metadata": {},
   "source": [
    "### Function 3: Return a value from a function.\n",
    "\n",
    "Let's write a function that accepts a dad joke (well actually, any string) and returns it in all capital letters."
   ]
  },
  {
   "cell_type": "code",
   "execution_count": null,
   "metadata": {},
   "outputs": [],
   "source": [
    "def capitalize_dad_joke(joke):\n",
    "    return joke.upper()"
   ]
  },
  {
   "cell_type": "code",
   "execution_count": null,
   "metadata": {},
   "outputs": [],
   "source": [
    "dad_joke = \"Where do pirates get their hooks? Second hand stores.\"\n",
    "\n",
    "joke = capitalize_dad_joke(dad_joke)\n",
    "print(joke)"
   ]
  },
  {
   "cell_type": "markdown",
   "metadata": {},
   "source": [
    "This function no longer prints the joke, it just return a capitalized verion. "
   ]
  },
  {
   "cell_type": "markdown",
   "metadata": {},
   "source": [
    "## Function 4: A function that takes more than one input parameter.\n",
    "Your function can be designed to accept more than one input parameter. Let's write a function that accepts two, yes two, dad jokes and returns the total number of characters in the two jokes combined."
   ]
  },
  {
   "cell_type": "code",
   "execution_count": null,
   "metadata": {},
   "outputs": [],
   "source": [
    "def total_joke_length(joke1, joke2):\n",
    "    length_joke1 = len(joke1)\n",
    "    length_joke2 = len(joke2)\n",
    "    return length_joke1 + length_joke2"
   ]
  },
  {
   "cell_type": "code",
   "execution_count": null,
   "metadata": {},
   "outputs": [],
   "source": [
    "dad_joke1 = \"What do you call a beehive without an exit? Unbelievable.\"\n",
    "dad_joke2 = \"Did you know that the first french fries weren’t cooked in France? They were cooked in Greece.\"\n",
    "\n",
    "total_joke_length(dad_joke1, dad_joke2)"
   ]
  },
  {
   "cell_type": "markdown",
   "metadata": {},
   "source": [
    "There are a couple of things to notice here:\n",
    "- First, as mentioned before, the variables inside the function have the names given in the function definition, not the names passed to the function.\n",
    "- Second, we used the `return` statement to pass back total number of characters in the two jokes.\n",
    "- Third, these jokes are killing me!"
   ]
  },
  {
   "cell_type": "markdown",
   "metadata": {},
   "source": [
    "### Function 4: A function can return more than one value\n",
    "Just as a function can be defined to accept multiple input parameters, functions can return multiple output parameters. Let's modify this last function to return the length of the both jokes rather than the total."
   ]
  },
  {
   "cell_type": "code",
   "execution_count": null,
   "metadata": {},
   "outputs": [],
   "source": [
    "def joke_length(joke1, joke2):\n",
    "    length_joke1 = len(joke1)\n",
    "    length_joke2 = len(joke2)\n",
    "    return length_joke1, length_joke2"
   ]
  },
  {
   "cell_type": "code",
   "execution_count": null,
   "metadata": {},
   "outputs": [],
   "source": [
    "dad_joke1 = \"If prisoners could take their own mug shots…They’d be called cellfies.\"\n",
    "dad_joke2 = \"I just broke up with my mathematician girlfriend. She was obsessed with an X.\"\n",
    "\n",
    "length1, length2 = joke_length(dad_joke1, dad_joke2)\n",
    "print(\"Length of joke 1: \", length1)\n",
    "print(\"Length of joke 2: \", length2)"
   ]
  },
  {
   "cell_type": "markdown",
   "metadata": {},
   "source": [
    "The function returns two values, so when calling the function you can put two variable on the left of the `=` to receive the return values."
   ]
  },
  {
   "cell_type": "markdown",
   "metadata": {},
   "source": [
    "### Function 5: Keyword parameters\n",
    "Sometimes you want a function that has options. You want to give the user choices in how to use the function without having to write multiple versions of the same function. This can be accomplished using `keyword parameters.` These parameters have default values that will be used if the user doesn't change them.\n",
    "\n",
    "Let's write a function that takes a dad joke and returns the length of the joke, but gives the user the option of also printing the joke, or not."
   ]
  },
  {
   "cell_type": "code",
   "execution_count": null,
   "metadata": {},
   "outputs": [],
   "source": [
    "def joke_length_with_optional_print(joke, print_joke=False):\n",
    "    if print_joke == True:\n",
    "        print(joke)\n",
    "    return len(joke)"
   ]
  },
  {
   "cell_type": "code",
   "execution_count": null,
   "metadata": {},
   "outputs": [],
   "source": [
    "dad_joke = \"If a pig loses its voice…does it become disgruntled?\"\n",
    "joke_length_with_optional_print(dad_joke)"
   ]
  },
  {
   "cell_type": "markdown",
   "metadata": {},
   "source": [
    "We called the function without supplying the keyword parameter, so it used the default value of `False`, and did not print the joke. (You will learn about `if` statements and other conditionals in the next lab.)"
   ]
  },
  {
   "cell_type": "code",
   "execution_count": null,
   "metadata": {},
   "outputs": [],
   "source": [
    "joke_length_with_optional_print(dad_joke, print_joke=True)"
   ]
  },
  {
   "cell_type": "markdown",
   "metadata": {},
   "source": [
    "This time we changed the value of the keyword parameter to `True`, so the function printed the joke. You might recognise that you have used keyword parameters before, such as when you used the Table sort method with `descending=True`, which changed the default sort behavior for a table.\n",
    "\n",
    "**Important point: In Python functions, keyword parameters must come after regular parameters**, so in `joke_length_with_optional_print(joke, print_joke=False):` joke came before print_joke. This is true both when defining and when calling the function."
   ]
  },
  {
   "cell_type": "markdown",
   "metadata": {},
   "source": [
    "## Functions and algebra\n",
    "\n",
    "Functions return a value(s) for values of one or more variables or arguments. In algebra we develop the concept of functions such as the following:\n",
    "$$ f(x) = 3 \\cdot x-5 $$\n",
    "If we substitute the value:\n",
    "$$ x = 3$$\n",
    "$$f(3) = 3 \\cdot 3-5 = 4$$\n",
    "\n",
    "This function can be coded in Python in the following straightforward way:\n",
    "```python\n",
    "def f(x):\n",
    "    result = 3*x - 5\n",
    "    return result\n",
    "```\n",
    "To compute the value of the function f(x) at x = 3:\n",
    "```python\n",
    "f(3)\n",
    "4\n",
    "```"
   ]
  },
  {
   "cell_type": "markdown",
   "metadata": {},
   "source": [
    "<font color=blue> **Question 3. Functions and algebra** </font><br />"
   ]
  },
  {
   "cell_type": "markdown",
   "metadata": {},
   "source": [
    "Define a Python function for the following algebraic function:\n",
    "$$ f(x) = 2 \\cdot x + 5 $$"
   ]
  },
  {
   "cell_type": "code",
   "execution_count": null,
   "metadata": {},
   "outputs": [],
   "source": [
    "def f(x):\n",
    "    ...\n",
    "    return ..."
   ]
  },
  {
   "cell_type": "markdown",
   "metadata": {},
   "source": [
    "Use your function to evaluate the function f(x) at x = 4"
   ]
  },
  {
   "cell_type": "code",
   "execution_count": null,
   "metadata": {},
   "outputs": [],
   "source": [
    "f(...) # test function"
   ]
  },
  {
   "cell_type": "code",
   "execution_count": null,
   "metadata": {},
   "outputs": [],
   "source": [
    "check('tests/q3a.py')"
   ]
  },
  {
   "cell_type": "markdown",
   "metadata": {},
   "source": [
    "Note something special. If you call the function with an input parameter that contains multiple values, such as an array, it will compute the function on all of those values automatically. How cool is that?"
   ]
  },
  {
   "cell_type": "code",
   "execution_count": null,
   "metadata": {
    "tags": []
   },
   "outputs": [],
   "source": [
    "some_numbers = np.array([1, 3, 5, 7, 9])\n",
    "f(some_numbers)"
   ]
  },
  {
   "cell_type": "markdown",
   "metadata": {},
   "source": [
    "## Part 3: Plotting Data\n",
    "\n",
    "We often want to visualize our data, particularly when we have a data table with a large number of points. There are many data visualization packages available for Python, but in this course we will mainly stick with one of the oldest and best known: `matplotlib.` If you look back at the start of the lab where we import the module you will see a the line:\n",
    "\n",
    "import matplotlib.pyplot as plt\n",
    "\n",
    "We aliased the library as plt so that instead of typing `matplotlib.pyplot` can access the plotting commands with just the `plt.` prefix. \n",
    "\n",
    "The plotting commands in matplotlib expect array or lists of data, not tables so we have to extract the data arrays from the tables to make our plot. For example, let's make a scatter plot of animal height vs weight."
   ]
  },
  {
   "cell_type": "markdown",
   "metadata": {},
   "source": [
    "**Read back the animal data**\n",
    "The `.readtable()` method of datascience Tables is the way to read comma separated value (`.csv`) files into a Table variable. "
   ]
  },
  {
   "cell_type": "code",
   "execution_count": null,
   "metadata": {},
   "outputs": [],
   "source": [
    "animal_data = Table().read_table(myanimalfile)\n",
    "print(\"Loaded my data Table from the file: \",myanimalfile) "
   ]
  },
  {
   "cell_type": "code",
   "execution_count": null,
   "metadata": {},
   "outputs": [],
   "source": [
    "# Extract the data arrays\n",
    "height = animal_data.column(\"Height (cm)\")\n",
    "weight = animal_data.column(\"Weight (kg)\")\n",
    "\n",
    "# Make the plot\n",
    "plt.scatter(height, weight)"
   ]
  },
  {
   "cell_type": "markdown",
   "metadata": {},
   "source": [
    "By default, matplotlib scales the axes to match the data ranges, and choose the symbol and color for you. All of this can be customized, and you can add axes labels, a graph title, and much more."
   ]
  },
  {
   "cell_type": "code",
   "execution_count": null,
   "metadata": {},
   "outputs": [],
   "source": [
    "# Extract the data arrays\n",
    "height = animal_data.column(\"Height (cm)\")\n",
    "weight = animal_data.column(\"Weight (kg)\")\n",
    "\n",
    "# Change the color of the points\n",
    "plt.scatter(height, weight, color=\"blue\") \n",
    "\n",
    "# Label the axes\n",
    "plt.xlabel(\"Height (cm)\")\n",
    "plt.ylabel(\"Weight (kg)\")\n",
    "\n",
    "# Add a title\n",
    "plt.title(\"Animal Weight vs. Height\")"
   ]
  },
  {
   "cell_type": "markdown",
   "metadata": {},
   "source": [
    "Scatter plots are not the only option. You can make a line plot, which connects the points. Line plots are useful for data showing a trend, but here connecting the points doesn't make much sense."
   ]
  },
  {
   "cell_type": "code",
   "execution_count": null,
   "metadata": {},
   "outputs": [],
   "source": [
    "# Extract the data arrays\n",
    "height = animal_data.column(\"Height (cm)\")\n",
    "weight = animal_data.column(\"Weight (kg)\")\n",
    "\n",
    "# Line plot\n",
    "plt.plot(height, weight)\n",
    "\n",
    "# Title\n",
    "plt.title(\"Connecting the dots makes no sense in this case\")"
   ]
  },
  {
   "cell_type": "markdown",
   "metadata": {},
   "source": [
    "Or you can make a bar chart, which is useful to plot numbers versus a category."
   ]
  },
  {
   "cell_type": "code",
   "execution_count": null,
   "metadata": {},
   "outputs": [],
   "source": [
    "# Extract the arrays\n",
    "animal = animal_data.column(\"Animal\")\n",
    "weight = animal_data.column(\"Weight (kg)\")\n",
    "\n",
    "# Bar chart\n",
    "plt.bar(animal, weight)\n",
    "\n",
    "# Label y-axis\n",
    "plt.ylabel(\"Weight (kg)\")"
   ]
  },
  {
   "cell_type": "markdown",
   "metadata": {},
   "source": [
    "What if we wanted the bar chart to display the weights in order from lightest to heaviest? Then we would first sort the table before extracting the data columns."
   ]
  },
  {
   "cell_type": "code",
   "execution_count": null,
   "metadata": {},
   "outputs": [],
   "source": [
    "# Sort the data\n",
    "animals_light2heavy = animal_data.sort(\"Weight (kg)\")\n",
    "\n",
    "# Extract the arrays\n",
    "animal = animals_light2heavy.column(\"Animal\")\n",
    "weight = animals_light2heavy.column(\"Weight (kg)\")\n",
    "\n",
    "# Bar chart\n",
    "plt.bar(animal, weight)\n",
    "\n",
    "# Label y-axis\n",
    "plt.ylabel(\"Weight (kg)\")"
   ]
  },
  {
   "cell_type": "markdown",
   "metadata": {},
   "source": [
    "### Table plot commands\n",
    "Because plotting table data is so common, there are plotting methods built into tables, but you should know that these convience methods are calling matplotlib behind the scenes. "
   ]
  },
  {
   "cell_type": "code",
   "execution_count": null,
   "metadata": {},
   "outputs": [],
   "source": [
    "# Using the table scatter() method, you just pass the column names\n",
    "animal_data.scatter(\"Height (cm)\", \"Weight (kg)\")"
   ]
  },
  {
   "cell_type": "markdown",
   "metadata": {},
   "source": [
    "Notice that the `scatter` method for tables was smart enough to use the column labels to label the axes. "
   ]
  },
  {
   "cell_type": "code",
   "execution_count": null,
   "metadata": {},
   "outputs": [],
   "source": [
    "# This also works for bar charts\n",
    "animal_data.bar(\"Animal\", \"Weight (kg)\")"
   ]
  },
  {
   "cell_type": "markdown",
   "metadata": {},
   "source": [
    "**Why not always use the convenience functions built into tables?** In a word -- flexibility. If you are happy with the defaults, you can use the table plotting functions, but somtimes to customize you need work directly with matplotlib. Matplotlib is also a logical choice if your data is not already in a data table.\n",
    "\n",
    "You will see many examples of both approaches in subsequent labs."
   ]
  },
  {
   "cell_type": "markdown",
   "metadata": {},
   "source": [
    "<font color=blue> **Question 4. Make your own plot** </font><br />\n",
    "Get creative. Make any type of plot you choose using `animal_data`. \n",
    "\n",
    "**Note:** There is no automatic check in this case."
   ]
  },
  {
   "cell_type": "code",
   "execution_count": null,
   "metadata": {},
   "outputs": [],
   "source": []
  },
  {
   "cell_type": "markdown",
   "metadata": {},
   "source": [
    "### Putting it all together\n",
    "Let us, however reluctantly, leave the world of dad jokes, and write a function that illustrates many of these concepts in mathmatical context.\n",
    "\n",
    "Write a function that:\n",
    "- Plots a polynomial $ y = ax^2 + bx + c $\n",
    "- Input parameters are the coefficients a, b, and c.\n",
    "- Optional input parameters are the starting x and ending x value (two keyword parameters with default values specified)"
   ]
  },
  {
   "cell_type": "code",
   "execution_count": null,
   "metadata": {},
   "outputs": [],
   "source": [
    "def poly_wants_a_nomial(a, b, c, xlo=-10, xhi=10):\n",
    "    \"\"\"Plot a polynomial\"\"\"\n",
    "    x = np.arange(xlo, xhi, 0.5)\n",
    "    y = a * x**2 + b * x + c\n",
    "    plt.plot(x, y, '-*')\n",
    "    return y"
   ]
  },
  {
   "cell_type": "code",
   "execution_count": null,
   "metadata": {},
   "outputs": [],
   "source": [
    "# Call the function accepting the default values for the keyword parameters\n",
    "y = poly_wants_a_nomial(2, 10, 3)"
   ]
  },
  {
   "cell_type": "code",
   "execution_count": null,
   "metadata": {},
   "outputs": [],
   "source": [
    "y = poly_wants_a_nomial(2, 10, 3, xlo=-15)"
   ]
  },
  {
   "cell_type": "code",
   "execution_count": null,
   "metadata": {
    "scrolled": true
   },
   "outputs": [],
   "source": [
    "# Call the function overriding the default values for xlo and xhi\n",
    "y = poly_wants_a_nomial(2, 10, 3, xlo=-15, xhi=20)"
   ]
  },
  {
   "cell_type": "markdown",
   "metadata": {},
   "source": [
    "<font color=blue> **Question 5. Ideal gas density function** </font><br />\n",
    "You will define a function to compute the density of an ideal gas from the parameters pressure, P, temperature, T, and molecular mass, M, and then plot a computed array of densities given an array of temperatures for a fixed pressure and the molecular mass of water."
   ]
  },
  {
   "cell_type": "markdown",
   "metadata": {},
   "source": [
    "Write a function which computes the density of an ideal gas off a given molecular weight, temperature, pressure. \n",
    "$$ PV = nRT $$\n",
    "$$ \\frac{n}{V} = \\frac{P}{RT} $$\n",
    "To convert to grams from number of moles we use the molecular mass, $ M $. <br>Water has a molecular mass of $ M = 18.0 \\frac{g}{mol}$ <br>\n",
    "density is given the symbol $\\rho $ and has units of $ \\frac{g}{L} $ <br><br>\n",
    "$$  \\rho = \\frac{M\\cdot P}{R\\cdot T} $$\n",
    "\n"
   ]
  },
  {
   "cell_type": "code",
   "execution_count": null,
   "metadata": {},
   "outputs": [],
   "source": [
    "def density(P, T, M):\n",
    "    \"\"\" Computes density of a gas with parameters:\n",
    "        pressure, P, temperature, T, in K\n",
    "        and molecular mass, M \"\"\"  \n",
    "    \n",
    "    R = 0.082057\n",
    "    ...\n",
    "    return ..."
   ]
  },
  {
   "cell_type": "markdown",
   "metadata": {},
   "source": [
    "Test the function by calculating the density of water vapor (gas, $ M = 18.0 \\frac{g}{mol}$ ) at `P = 1` (atm) and 298 K. R is the gas constant.<br> $$ R = 0.082057 \\frac{L\\cdot atm}{K\\cdot mol}$$"
   ]
  },
  {
   "cell_type": "code",
   "execution_count": null,
   "metadata": {},
   "outputs": [],
   "source": [
    "# Substitute values for P, T, and M\n",
    "P = ...\n",
    "T = ...\n",
    "M = ...\n",
    "\n",
    "waterdensity = density(P,...,...)\n",
    "\n",
    "print(f'Water density at {T}K, Pressure of {P} atm is {waterdensity:.2f} g/L')"
   ]
  },
  {
   "cell_type": "code",
   "execution_count": null,
   "metadata": {},
   "outputs": [],
   "source": [
    "check('tests/q5a.py')"
   ]
  },
  {
   "cell_type": "markdown",
   "metadata": {},
   "source": [
    "Now create an array with temperatures in Kelvin from freezing, 273.15, to 313 ($40^\\circ$ C) in 1.0 degree steps With the array, create a new array using the above `density` function. Make a scatter plot of these arrays."
   ]
  },
  {
   "cell_type": "code",
   "execution_count": null,
   "metadata": {},
   "outputs": [],
   "source": [
    "temperatures = np.arange(...,...,...)"
   ]
  },
  {
   "cell_type": "markdown",
   "metadata": {},
   "source": [
    "Use the same approach to plot the density computed with your function versus the temperature. Hint: you can create an array of temperatures and pass this to your density function to compute densities for given temperatures or use list comprehension like with the ADK peaks in Lab 02."
   ]
  },
  {
   "cell_type": "code",
   "execution_count": null,
   "metadata": {},
   "outputs": [],
   "source": [
    "densities = [density(P, ..., M) for ... in temperatures]"
   ]
  },
  {
   "cell_type": "code",
   "execution_count": null,
   "metadata": {},
   "outputs": [],
   "source": [
    "plt.scatter(temperatures, ...)\n",
    "\n",
    "plt.xlabel('Temperature [K]')\n",
    "plt.ylabel('Density [g/L]')\n",
    "plt.title('Water Vapor Density [g/L]')"
   ]
  },
  {
   "cell_type": "markdown",
   "metadata": {},
   "source": [
    "### Time Trends and Dates with Data Science Tables"
   ]
  },
  {
   "cell_type": "markdown",
   "metadata": {},
   "source": [
    "We will use the EDS module to handle dates in Tables. The EDS module is just a collection of predefined functions\n",
    "to save you writing the same code over and over. \n",
    "\n",
    "Date formatting is a challenge when creating a plot of the data over time. We will see below that the standard Table and matplotlib functions can not correctly interpret dates.\n",
    "- To plot a time trend using EDS, use `ptrend(tbl_variable, date column label string, data column label string)`"
   ]
  },
  {
   "cell_type": "markdown",
   "metadata": {},
   "source": [
    "#### Examples\n",
    "Using the 5 year Google Trend search volume for Chemistry, Biology, and Nobel Prize. "
   ]
  },
  {
   "cell_type": "markdown",
   "metadata": {},
   "source": [
    "#### Like before, we read a CSV file."
   ]
  },
  {
   "cell_type": "code",
   "execution_count": null,
   "metadata": {
    "tags": []
   },
   "outputs": [],
   "source": [
    "Nobel = Table().read_table(\"data/Nobel_2023.csv\") \n",
    "Nobel"
   ]
  },
  {
   "cell_type": "code",
   "execution_count": null,
   "metadata": {},
   "outputs": [],
   "source": [
    "prize = Nobel.column(\"Nobel Prize: (United States)\")\n",
    "chem = Nobel.column(\"Chemistry: (United States)\")\n",
    "bio  = Nobel.column(\"Biology: (United States)\")\n",
    "\n",
    "plt.plot(prize)"
   ]
  },
  {
   "cell_type": "markdown",
   "metadata": {},
   "source": [
    "#### <font color=green> We see there is a peak of Google search interest in the pattern but the date of the peak is hard to identify at a bit less then 40(?). What does 40 mean? The 41st data point."
   ]
  },
  {
   "cell_type": "markdown",
   "metadata": {
    "tags": []
   },
   "source": [
    "#### Use ptrend (short for plot trend) to plot this data.\n",
    "- This function expects you to provide a table name, and the time column label and column label to be plotted."
   ]
  },
  {
   "cell_type": "markdown",
   "metadata": {},
   "source": [
    "We can use the `ptrend` function to plot the Google Trend Level for topics related to the Nobel Prize to see if there is a relationship with the date on which the award notifications are made each Fall and with some topical areas of Nobel Prize awards.<br>\n",
    "Plot a time trend using EDS, use `ptrend(tbl_variable, date column label string, data column label string)`\n",
    "- date column label string = \"Week\"\n",
    "- data column label string = \"Nobel Prize: (United States)\""
   ]
  },
  {
   "cell_type": "code",
   "execution_count": null,
   "metadata": {
    "tags": []
   },
   "outputs": [],
   "source": [
    "ptrend(Nobel,\"Week\",\"Nobel Prize: (United States)\")"
   ]
  },
  {
   "cell_type": "markdown",
   "metadata": {},
   "source": [
    "#### <font color=green> Now we can see the peak is around October of 2023 when the prize is regularly awarded."
   ]
  },
  {
   "cell_type": "markdown",
   "metadata": {
    "tags": []
   },
   "source": [
    "<font color=blue> **Question 6. Plotting Nobel prize and related science topic time trends** </font><br />\n",
    "In preparing to look at disease trend data including COVID data we will first plot Chemistry and Biology [Google Trend](https://trends.google.com/trends/) search volumes for the period included in the Nobel data above. The Google Trend data gives the relative search volume as a function of day or week over a time period. An example of Google Trend data is searching for the trend of Turkey, Thanksgiving and Football as shown below.\n",
    "\n",
    "\n",
    "<img src=\"turkey_trend.png\" alt=\"Turkey Google Trend\" style=\"width: 800px;\"/>\n",
    "\n",
    "Examine this data for the Nobel prize and Biology. Nobel prizes are announced early October annually and awarded December 10 at 7:00 AM in honor of Alfred Nobel's death.  Look for the very small peak around this date in the Nobel Prize Google search volums data."
   ]
  },
  {
   "cell_type": "markdown",
   "metadata": {},
   "source": [
    "**Chemistry**<br>\n",
    "Use column labeled, `'Chemistry: (United States)'` to plot Chemistry Nobel prize search volume in `Nobel` Table. We can overlay two plots by placing the `ptrend` functions on susequent lines as below."
   ]
  },
  {
   "cell_type": "code",
   "execution_count": null,
   "metadata": {},
   "outputs": [],
   "source": [
    "# Replace the ... with column name.\n",
    "# Use the example above as a model."
   ]
  },
  {
   "cell_type": "code",
   "execution_count": null,
   "metadata": {},
   "outputs": [],
   "source": [
    "ptrend(Nobel,\"Week\", \"Nobel Prize: (United States)\")\n",
    "ptrend(Nobel,\"Week\", ...)"
   ]
  },
  {
   "cell_type": "markdown",
   "metadata": {},
   "source": [
    "**Biology**"
   ]
  },
  {
   "cell_type": "code",
   "execution_count": null,
   "metadata": {},
   "outputs": [],
   "source": [
    "# Now try filling in all of the missing fuction arguments.\n",
    "# This time plotting Biology Nobel prize winners.\n",
    "ptrend(Nobel,\"Week\", \"Nobel Prize: (United States)\")\n",
    "plotcheck = ptrend(...)"
   ]
  },
  {
   "cell_type": "code",
   "execution_count": null,
   "metadata": {},
   "outputs": [],
   "source": [
    "check('tests/q6new.py')"
   ]
  },
  {
   "cell_type": "markdown",
   "metadata": {},
   "source": [
    "## Part 3 Application: Data Tables for Tracking Disease\n"
   ]
  },
  {
   "cell_type": "markdown",
   "metadata": {},
   "source": [
    "### Now we are ready use our datascience toolbox including Tables to explore real data!\n",
    "**Let's explore data from the COVID pandemic**<br>\n",
    "This data is updated and stored at GitHub: https://github.com/nytimes/covid-19-data <br>\n",
    "US rolling average: https://raw.githubusercontent.com/nytimes/covid-19-data/master/rolling-averages/us.csv <br>\n",
    "US States rolling average: https://raw.githubusercontent.com/nytimes/covid-19-data/master/rolling-averages/us-states.csv <br>\n",
    "US Wastewater Surveillance: [https://covid.cdc.gov/covid-data-tracker/#wastewater-surveillance](https://covid.cdc.gov/covid-data-tracker/#wastewater-surveillance) "
   ]
  },
  {
   "cell_type": "markdown",
   "metadata": {},
   "source": [
    "#### Set a variable to contain the path to the data file on the internet.\n",
    "- `.csv` is a CSV file, which stands for \"comma separated variables,\" which\n",
    "is a common human-readable for format for data files as described above with our animal data."
   ]
  },
  {
   "cell_type": "code",
   "execution_count": null,
   "metadata": {
    "tags": []
   },
   "outputs": [],
   "source": [
    "COVID_data = 'https://raw.githubusercontent.com/nytimes/covid-19-data/master/rolling-averages/us.csv'"
   ]
  },
  {
   "cell_type": "markdown",
   "metadata": {},
   "source": [
    "#### Read the data file into a data table assigned the name \"COVID\""
   ]
  },
  {
   "cell_type": "code",
   "execution_count": null,
   "metadata": {
    "tags": []
   },
   "outputs": [],
   "source": [
    "COVID = Table.read_table(COVID_data)"
   ]
  },
  {
   "cell_type": "markdown",
   "metadata": {},
   "source": [
    "#### Show data table show() method to display the first three rows of the data table"
   ]
  },
  {
   "cell_type": "code",
   "execution_count": null,
   "metadata": {
    "scrolled": true,
    "tags": []
   },
   "outputs": [],
   "source": [
    "COVID.show(3)"
   ]
  },
  {
   "cell_type": "markdown",
   "metadata": {},
   "source": [
    "Now we can sort the data by date. Since the data starts at the beginning of the pandemic we see very few cases."
   ]
  },
  {
   "cell_type": "markdown",
   "metadata": {},
   "source": [
    "### Plot\n",
    "If we attempt to plot using the 'date' column the bottom axis has starnge numbers which are multiplied by 1e9 ($1\\cdot 10^9$) as shown in the lower right corner of the plot. These are the number of seconds from the epoch (January 1, 1970).  Another name for this time unit is UNIX time which has an [interesting history](https://en.wikipedia.org/wiki/Unix_time#:~:text=History,-Learn%20more&text=The%20earliest%20versions%20of%20Unix,two%20and%20a%20quarter%20years.). This unit of time is a way that is convenient for computers to store time as an integer but not at all convenient for us as data scientists! Using the `ptrend` function from the EDS module will alleviate this problem."
   ]
  },
  {
   "cell_type": "markdown",
   "metadata": {},
   "source": [
    "##### This example uses the built in plot() method of data tables,\n",
    "- the date is in seconds -- not very human-friendly.\n",
    "- The datascience module wasn't created with time series data in mind."
   ]
  },
  {
   "cell_type": "code",
   "execution_count": null,
   "metadata": {},
   "outputs": [],
   "source": [
    "COVID.plot(\"date\", \"cases_avg_per_100k\")"
   ]
  },
  {
   "cell_type": "markdown",
   "metadata": {},
   "source": [
    "#### Now use ptrend"
   ]
  },
  {
   "cell_type": "markdown",
   "metadata": {},
   "source": [
    "#### The `ptrend()` method described above in Question 8 using dates -- much nicer!"
   ]
  },
  {
   "cell_type": "code",
   "execution_count": null,
   "metadata": {},
   "outputs": [],
   "source": [
    "ptrend(COVID,\"date\",\"cases_avg_per_100k\")"
   ]
  },
  {
   "cell_type": "markdown",
   "metadata": {},
   "source": [
    "**Approximately when was the peak date for COVID cases?**\n",
    "\n",
    "---"
   ]
  },
  {
   "cell_type": "markdown",
   "metadata": {},
   "source": [
    "ANSWER"
   ]
  },
  {
   "cell_type": "code",
   "execution_count": null,
   "metadata": {},
   "outputs": [],
   "source": [
    "# BE SURE TO SAVE YOUR NOTEBOOK BEFORE RUNNGING THIS TEST\n",
    "check(\"tests/q9a_open_ended.py\")"
   ]
  },
  {
   "cell_type": "markdown",
   "metadata": {},
   "source": [
    "### Histogram\n",
    "Many of the matplotlib plot are available as methods availabe to data tables. A histogram method, for example, is realized by appending .hist('column name')"
   ]
  },
  {
   "cell_type": "markdown",
   "metadata": {},
   "source": [
    "**Data tables have a built-in histogram method, `.hist()`**<br>\n",
    "Let's use this function to look at the average daily US deaths during the pandemic"
   ]
  },
  {
   "cell_type": "code",
   "execution_count": null,
   "metadata": {},
   "outputs": [],
   "source": [
    "COVID.hist('deaths_avg')"
   ]
  },
  {
   "cell_type": "markdown",
   "metadata": {},
   "source": [
    "<font color=blue> **Question 9.** </font>\n",
    "\n",
    "In order to study the true impact of the COVID pandemic we need a measure of the fraction of cases which result in death. To do this we will define a function which takes the ratio of two numbers or arrays which we will ultimately use to create a new column to study this fraction of cases that result in deaths. First we examine the range of values for cases, cases_avg, deaths, and deaths_avg using `COVID.stats()`"
   ]
  },
  {
   "cell_type": "markdown",
   "metadata": {},
   "source": [
    "#### First let's check on the range of our data"
   ]
  },
  {
   "cell_type": "code",
   "execution_count": null,
   "metadata": {},
   "outputs": [],
   "source": [
    "COVID.stats()"
   ]
  },
  {
   "cell_type": "markdown",
   "metadata": {},
   "source": [
    "#### After running the `.stats()` what do you notice? Are there some anomolous minimum values? Can we use the deaths_avg and cases_avg instead of deaths and cases?\n",
    "\n",
    "---"
   ]
  },
  {
   "cell_type": "markdown",
   "metadata": {},
   "source": [
    "ANSWER"
   ]
  },
  {
   "cell_type": "code",
   "execution_count": null,
   "metadata": {},
   "outputs": [],
   "source": [
    "# BE SURE TO SAVE YOUR NOTEBOOK BEFORE RUNNGING THIS TEST\n",
    "check(\"tests/q9a_open_ended.py\")"
   ]
  },
  {
   "cell_type": "markdown",
   "metadata": {},
   "source": [
    "To examine the COVID data more carefully it is useful to think about which cases lead to death and if the deaths per case changes as better treatments are available.  We will need to compute the ratio of `deaths_avg` to `cases_avg`. Ratio is the same as dividing two numbers. On January 3, 2021, `deaths_avg` was 2606.68 and `cases_avg` was 212412 so the deathrate = 2606.68/212412 = 0.0123."
   ]
  },
  {
   "cell_type": "markdown",
   "metadata": {},
   "source": [
    "**Now create a function `ratio()` that returns the ratio of two numbers**"
   ]
  },
  {
   "cell_type": "code",
   "execution_count": null,
   "metadata": {},
   "outputs": [],
   "source": [
    "def ratio(x,y):\n",
    "    \"\"\" Returns a ratio of x/y \"\"\"\n",
    "    r = ...\n",
    "    return r"
   ]
  },
  {
   "cell_type": "code",
   "execution_count": null,
   "metadata": {},
   "outputs": [],
   "source": [
    "check('tests/q9b.py')"
   ]
  },
  {
   "cell_type": "markdown",
   "metadata": {},
   "source": [
    "<font color=blue> **Question 10. deathrate** </font> <br>\n",
    "How many cases were fatal? A better way to look at this is the fraction of cases that were fatal.<br>\n",
    "\n",
    "Now apply your function to create a new column, *deathrate*. Examine the histogram for deathrate. Now plot the trend for *deathrate* for the entire timeperiod of the dataset.  Discuss the results in the markdown cell below."
   ]
  },
  {
   "cell_type": "markdown",
   "metadata": {},
   "source": [
    "### COVID cases leading to bad outcomes\n",
    "Now we will use the function with our COVID data to explore the deathrate throughout the pandemic. \n",
    "1. Create arrays from the `\"deaths_avg\"` and `\"cases_avg\"` columns.\n",
    "2. We will compute a new numpy array which will store the result of using the ratio function on the arrays extracted from the Table.\n",
    "3. We will use the *with_columns* method of a Table object to place the new `deathrate` array in a new column. "
   ]
  },
  {
   "cell_type": "markdown",
   "metadata": {},
   "source": [
    "**First create an array, `deathrate`, that stores the ratio of the `deaths_avg` and the `cases_avg`**"
   ]
  },
  {
   "cell_type": "code",
   "execution_count": null,
   "metadata": {},
   "outputs": [],
   "source": [
    "deaths_avg = COVID.column('deaths_avg')\n",
    "cases_avg = COVID.column('cases_avg')\n",
    "\n",
    "deathrate = ratio(deaths_avg, ...)"
   ]
  },
  {
   "cell_type": "markdown",
   "metadata": {},
   "source": [
    "**What is the maximum and minumum deathrate in the Table? What does a deathrate of 1.0 mean?**<br> Use code and then answer below.<br>Hint: use `max()` and `min()` functions<br>code:"
   ]
  },
  {
   "cell_type": "code",
   "execution_count": null,
   "metadata": {},
   "outputs": [],
   "source": []
  },
  {
   "cell_type": "markdown",
   "metadata": {},
   "source": [
    "Answer below:\n",
    "\n",
    "---"
   ]
  },
  {
   "cell_type": "markdown",
   "metadata": {},
   "source": [
    "ANSWER"
   ]
  },
  {
   "cell_type": "code",
   "execution_count": null,
   "metadata": {},
   "outputs": [],
   "source": [
    "# BE SURE TO SAVE YOUR NOTEBOOK BEFORE RUNNGING THIS TEST\n",
    "check(\"tests/q10_open_ended.py\")"
   ]
  },
  {
   "cell_type": "markdown",
   "metadata": {},
   "source": [
    "**Now use `.with_columns()`, to put `deathrate` array into Table as a new column labelled 'deathrate'**"
   ]
  },
  {
   "cell_type": "code",
   "execution_count": null,
   "metadata": {},
   "outputs": [],
   "source": [
    "COVID = ...\n",
    "COVID"
   ]
  },
  {
   "cell_type": "markdown",
   "metadata": {},
   "source": [
    "This new column of data in the COVID table contains the deathrate, we can now proceed with the visualization.<br>\n",
    "**Prepare a time series plot of deathrate using `ptrend`**<br>\n",
    "Hint: See above for plot of time trend for original COVID data Table and above that for Nobel prize data"
   ]
  },
  {
   "cell_type": "code",
   "execution_count": null,
   "metadata": {},
   "outputs": [],
   "source": [
    "..."
   ]
  },
  {
   "cell_type": "code",
   "execution_count": null,
   "metadata": {},
   "outputs": [],
   "source": [
    "check('tests/q10a.py')"
   ]
  },
  {
   "cell_type": "markdown",
   "metadata": {},
   "source": [
    "**When was the COVID deathrate highest? Approximately what was the deathrate on that date?**\n",
    "\n",
    "---"
   ]
  },
  {
   "cell_type": "markdown",
   "metadata": {},
   "source": [
    "ANSWER"
   ]
  },
  {
   "cell_type": "code",
   "execution_count": null,
   "metadata": {},
   "outputs": [],
   "source": [
    "# BE SURE TO SAVE YOUR NOTEBOOK BEFORE RUNNGING THIS TEST\n",
    "check(\"tests/q10b_open_ended.py\")"
   ]
  },
  {
   "cell_type": "markdown",
   "metadata": {},
   "source": [
    "## Comparison with recent data based on the Centers for Disease Control (CDC) Wastewater analysis\n",
    "Wastewater monitoring has become the statndard for epidemiological monitoring: \n",
    "[CDC Wastewater Program](https://www.cdc.gov/nwss/wastewater-surveillance.html)"
   ]
  },
  {
   "cell_type": "code",
   "execution_count": null,
   "metadata": {},
   "outputs": [],
   "source": [
    "COVID_waste_water = 'data/CDC_COVID_Waste_Water.csv'"
   ]
  },
  {
   "cell_type": "code",
   "execution_count": null,
   "metadata": {},
   "outputs": [],
   "source": [
    "COVID_waste = Table().read_table(COVID_waste_water)\n",
    "COVID_waste"
   ]
  },
  {
   "cell_type": "markdown",
   "metadata": {},
   "source": [
    "**Look at the National trend**"
   ]
  },
  {
   "cell_type": "code",
   "execution_count": null,
   "metadata": {},
   "outputs": [],
   "source": [
    "ptrend(COVID_waste,'date','National')"
   ]
  },
  {
   "cell_type": "markdown",
   "metadata": {},
   "source": [
    "**Now let's overlay the COVID deathrate column with the wastewater data**<br>Wastewater monitoring is the new standard but did not start until late in the pandemic and does not include data on deaths since the wastewater signature of COVID is indirect and related to viral particles from sewage. The scale of the two data sets may not overlay given our maximum deathrate of 1.0 and a larger value for wastewater values."
   ]
  },
  {
   "cell_type": "code",
   "execution_count": null,
   "metadata": {},
   "outputs": [],
   "source": [
    "ptrend(COVID_waste,'date','National')\n",
    "ptrend(COVID,'date','deathrate')"
   ]
  },
  {
   "cell_type": "markdown",
   "metadata": {},
   "source": [
    "**Create new COVID data column which is %**<br>\n",
    "To plot both trends on the same scale we can create a column which is the percentage by multiplying our original deathrate column by 100."
   ]
  },
  {
   "cell_type": "code",
   "execution_count": null,
   "metadata": {},
   "outputs": [],
   "source": [
    "COVID = COVID.with_columns('death%', deathrate * ...)"
   ]
  },
  {
   "cell_type": "markdown",
   "metadata": {},
   "source": [
    "**Now let's overlay the COVID death% column with the wastewater data**<br>Wastewater monitoring is the new standard but did not start until late in the pandemic and does not include data on deaths since the wastewater signature of COVID is indirect and related to viral particles from sewage. "
   ]
  },
  {
   "cell_type": "code",
   "execution_count": null,
   "metadata": {},
   "outputs": [],
   "source": [
    "ptrend(COVID_waste,'date','National')\n",
    "ptrend(COVID,'date','death%')"
   ]
  },
  {
   "cell_type": "markdown",
   "metadata": {},
   "source": [
    "**What do you notice? Why might the first wastewater peak in January 2022 be earlier then the deathrate peak?**\n",
    "\n",
    "---"
   ]
  },
  {
   "cell_type": "markdown",
   "metadata": {},
   "source": [
    "ANSWER"
   ]
  },
  {
   "cell_type": "code",
   "execution_count": null,
   "metadata": {},
   "outputs": [],
   "source": [
    "# BE SURE TO SAVE YOUR NOTEBOOK BEFORE RUNNGING THIS TEST\n",
    "check(\"tests/q10c_open_ended.py\")"
   ]
  },
  {
   "cell_type": "markdown",
   "metadata": {},
   "source": [
    "#### A quick look at newer CDC COVID death data compared to wastewater data"
   ]
  },
  {
   "cell_type": "code",
   "execution_count": null,
   "metadata": {},
   "outputs": [],
   "source": [
    "COVID_deaths_CDC = 'data/CDC_COVID_deaths.csv'"
   ]
  },
  {
   "cell_type": "code",
   "execution_count": null,
   "metadata": {},
   "outputs": [],
   "source": [
    "COVID_deaths = Table().read_table(COVID_deaths_CDC)\n",
    "COVID_deaths"
   ]
  },
  {
   "cell_type": "code",
   "execution_count": null,
   "metadata": {},
   "outputs": [],
   "source": [
    "ptrend(COVID_deaths,'Date','Weekly Deaths')"
   ]
  },
  {
   "cell_type": "code",
   "execution_count": null,
   "metadata": {},
   "outputs": [],
   "source": [
    "ptrend(COVID_deaths,'Date','Weekly Deaths')\n",
    "ptrend(COVID,\"date\",'deaths_avg')"
   ]
  },
  {
   "cell_type": "code",
   "execution_count": null,
   "metadata": {},
   "outputs": [],
   "source": [
    "ptrend(COVID_deaths,'Date','Weekly Deaths')\n",
    "ptrend(COVID,\"date\",'deaths_avg',7) # CDC data is weekly so we use a feature of ptrends to multiply by 7 to match amplitude"
   ]
  },
  {
   "cell_type": "markdown",
   "metadata": {},
   "source": [
    "### RSV monitoring now also carried out"
   ]
  },
  {
   "cell_type": "code",
   "execution_count": null,
   "metadata": {},
   "outputs": [],
   "source": [
    "RSV_waste_water = 'data/CDC_RSV_Waste_Water.csv'"
   ]
  },
  {
   "cell_type": "code",
   "execution_count": null,
   "metadata": {},
   "outputs": [],
   "source": [
    "RSV_waste = Table.read_table(RSV_waste_water)\n",
    "RSV_waste"
   ]
  },
  {
   "cell_type": "code",
   "execution_count": null,
   "metadata": {},
   "outputs": [],
   "source": [
    "ptrend(RSV_waste,'date','National')"
   ]
  },
  {
   "cell_type": "markdown",
   "metadata": {},
   "source": [
    "**What can be said about the annual trends in RSV?**<br>\n",
    "RSV (Respiratory Syncytial Virus) is particularly dangerous for infants and older adults.\n",
    "\n",
    "---"
   ]
  },
  {
   "cell_type": "markdown",
   "metadata": {},
   "source": [
    "ANSWER"
   ]
  },
  {
   "cell_type": "code",
   "execution_count": null,
   "metadata": {},
   "outputs": [],
   "source": [
    "# BE SURE TO SAVE YOUR NOTEBOOK BEFORE RUNNGING THIS TEST\n",
    "check(\"tests/q10d_open_ended.py\")"
   ]
  },
  {
   "cell_type": "markdown",
   "metadata": {},
   "source": [
    "#### <font color=blue> Your discussion of results from COVID and waster monitoring of diseases:</font>\n",
    " What are your overall findings when comparing COVID data from various sources? Is the wastewater data reliable based on your observations? CDC is adding Mpox and and Influenza A as well, is this a good idea?<br>\n",
    " Replace the `ANSWER`  with as many lines of text as you need for your answer.\n",
    "\n",
    " ---"
   ]
  },
  {
   "cell_type": "markdown",
   "metadata": {
    "tags": []
   },
   "source": [
    "ANSWER"
   ]
  },
  {
   "cell_type": "code",
   "execution_count": null,
   "metadata": {
    "tags": []
   },
   "outputs": [],
   "source": [
    "# BE SURE TO SAVE YOUR NOTEBOOK BEFORE RUNNING THIS TEST\n",
    "check('tests/q10e_open_ended.py')"
   ]
  },
  {
   "cell_type": "markdown",
   "metadata": {},
   "source": [
    "### <font color=blue> **Question 11.** </font>\n",
    "\n",
    "At the end of each lab, please include a reflection. \n",
    "* How did this lab go?\n",
    "* What did you learn?\n",
    "* What aspects of visualization or functions do you find confusing?\n",
    "* Were there questions you found especially challenging you would like your instructor to review in class? \n",
    "* How long did the lab take you to complete?\n",
    "\n",
    "Share your feedback so we can continue to improve this class!\n",
    "\n",
    "**Provide your feedback in the cell below. Replace the ... lines with as many lines of test as you need.**\n",
    "\n",
    "---"
   ]
  },
  {
   "cell_type": "markdown",
   "metadata": {
    "tags": []
   },
   "source": [
    "YOUR FEEDBACK...\n"
   ]
  },
  {
   "cell_type": "code",
   "execution_count": null,
   "metadata": {},
   "outputs": [],
   "source": [
    "# BE SURE TO SAVE YOUR NOTEBOOK BEFORE RUNNING THIS TEST\n",
    "check(\"tests/q11_open_ended.py\")"
   ]
  },
  {
   "cell_type": "markdown",
   "metadata": {},
   "source": [
    "### <font color=blue> Success! \n",
    "\n",
    "Congratulations, you're done with lab 4!  Be sure to \n",
    "- **run all the tests and verify that they all pass (the next cell needs to be executed),**\n",
    "- **and that you have answered any questions requiring a written response.**\n",
    "- **Save and Export as, HTML** from the `File` menu,\n",
    "- **Right click on file name to download noteook** \n",
    "- **Upload and Submit your files to Canvas** under the corresponding assignment ."
   ]
  },
  {
   "cell_type": "code",
   "execution_count": null,
   "metadata": {
    "tags": []
   },
   "outputs": [],
   "source": [
    "import glob\n",
    "from gofer.ok import check\n",
    "correct = 0\n",
    "questions = [\n",
    "    \"1n\",\n",
    "    \"2n\",\n",
    "    \"3n\",\n",
    "    \"3a\",\n",
    "    \"5a\",\n",
    "    \"6new\",\n",
    "    \"9a_open_ended\",\n",
    "    \"9b\",\n",
    "    \"10_open_ended\",\n",
    "    \"10a\",\n",
    "    \"10b_open_ended\",\n",
    "    \"10c_open_ended\",\n",
    "    \"10d_open_ended\",\n",
    "    \"10e_open_ended\",\n",
    "    \"11_open_ended\",\n",
    "]\n",
    "for x in questions:\n",
    "    print(\"Testing question {}: \".format(x))\n",
    "    display(check(\"tests/q{}.py\".format(x)))\n",
    "    score = check('tests/q{}.py'.format(str(x)))\n",
    "    if score.grade == 1.0:\n",
    "        correct += 1"
   ]
  },
  {
   "cell_type": "code",
   "execution_count": null,
   "metadata": {},
   "outputs": [],
   "source": [
    "perc_correct = correct/len(questions)*100\n",
    "if perc_correct < 80:\n",
    "    msg = 'look over your work again, seek help, some errors!!!'\n",
    "else:\n",
    "    msg = 'nice work!'\n",
    "print(f\"----\\n{name} {msg}\\n----\\nusername: {user}\")\n",
    "import time;\n",
    "localtime = time.asctime( time.localtime(time.time()) )\n",
    "print(\"Submitted @ \", localtime)\n",
    "print(f'Score: {correct/len(questions)*100:.1f}%')"
   ]
  }
 ],
 "metadata": {
  "kernelspec": {
   "display_name": "Python 3 (ipykernel)",
   "language": "python",
   "name": "python3"
  },
  "language_info": {
   "codemirror_mode": {
    "name": "ipython",
    "version": 3
   },
   "file_extension": ".py",
   "mimetype": "text/x-python",
   "name": "python",
   "nbconvert_exporter": "python",
   "pygments_lexer": "ipython3",
   "version": "3.11.6"
  }
 },
 "nbformat": 4,
 "nbformat_minor": 4
}
