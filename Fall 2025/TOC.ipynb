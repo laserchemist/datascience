{
 "cells": [
  {
   "cell_type": "markdown",
   "id": "b8c4cb9f-cd16-4ac7-b38d-64721d46a863",
   "metadata": {},
   "source": [
    "## Elements of Data Science for the Life and Physical Sciences\n",
    "### Fall 2025"
   ]
  },
  {
   "cell_type": "markdown",
   "id": "ea6a1f25-afab-43ba-b3a5-cf7cc6a196b7",
   "metadata": {},
   "source": [
    "<img src=\"Temple_flag_morn.png\" alt=\"Temple Powered\" style=\"width: 200px;\"/>"
   ]
  },
  {
   "cell_type": "markdown",
   "id": "a73c3d7b-4a3a-4a51-814b-0dad926b1cb7",
   "metadata": {},
   "source": [
    "## Resources\n",
    "- [Inferential Thinking Online Text](https://inferentialthinking.com/chapters/intro.html)\n",
    "- [Datascience Table Reference](http://data8.org/datascience/index.html)\n",
    "- [Data Science Primer BETA](https://laserchemist.github.io/dprimer/intro.html)\n",
    "- [EDS Course Website and Resources](https://sites.temple.edu/data/)\n",
    "\n",
    "## Weekly Topics and Laboratory Links\t\t\n",
    "### M1\tProgramming and data visualization\t\n",
    "1. \tCourse introduction & \n",
    "Python Bootcamp Week 1 \t\n",
    "- Lab 00: [Link](https://temple.2i2c.cloud/hub/user-redirect/lab/tree/datascience/Fall%202025/Lab00/lab00_intro.ipynb) (Practice with Jupyter Notebooks)\n",
    "- Lab 01: [Link](https://temple.2i2c.cloud/hub/user-redirect/lab/tree/datascience/Fall%202025/Lab01/lab01_firstcode.ipynb) (Introduction to Python Coding) \n",
    "\n",
    "2. \tPython Bootcamp Week 2\n",
    "(Data Types, Tables, Functions)\t\n",
    "(Data Types): Acceleration of Gravity on the Moon\n",
    "- Lab 02: updated [Link](https://temple.2i2c.cloud/hub/user-redirect/lab/tree/datascience/Fall%202025/Lab02/lab2_dataTypes.ipynb)\n",
    "\n",
    "3. \tUnderstanding Data with Table Methods\t\n",
    "- Lab 03 [Link](https://temple.2i2c.cloud/hub/user-redirect/lab/tree/datascience/Fall%202025/Lab03/lab03_tables.ipynb)(Data Tables): Environmental Protection Index and Sustainability\n",
    "\n",
    "4. \tVisualizing Data\t\n",
    "- Lab 04 [Link](https://temple.2i2c.cloud/hub/user-redirect/lab/tree/datascience/Fall%202025/Lab04/Lab04-Functions.ipynb) (Functions and Visualization): COVID data\n",
    "\n",
    "\n",
    "5.\tSummary: Module 1\t\n",
    "\n",
    "### M2\tStatistical inference\t\n",
    "6. \tIteration and Probability\t\n",
    "- Lab 05 [Link](https://temple.2i2c.cloud/hub/user-redirect/lab/tree/datascience/Fall%202025/Lab05/lab5_probability%20%26%20simulation.ipynb) (Probability & Randomization): Groundhog Weather Prognostication\n",
    "\n",
    "7. \tHypothesis Testing (Sampling, Simulation)\t\n",
    "- Lab 06 [Link](https://temple.2i2c.cloud/hub/user-redirect/lab/tree/datascience/Fall%202025/Lab06/lab06_simulation.ipynb)(Sampling & Simulation): DNA GC Content and Wordle\n",
    "\n",
    "8. \tInference & Causality\t\n",
    "- Lab 07 (Inference) [Link](https://temple.2i2c.cloud/hub/user-redirect/lab/tree/datascience/Fall%202025/Lab07/lab7_statistical_inference.ipynb):Global Climate Change\n",
    "\n",
    "9. \tSummary: Module 2\n",
    "    \n",
    "### PennyPack Creek Mini project\n",
    "\n",
    "### M3\tPrediction and machine learning\t\n",
    "10. \tNormal Distribution (Mean, Standard Deviation)\t\n",
    "- Lab 08 (Variance of Sample Means and Correlation): Old Faithful Eruption Data [link](https://temple.2i2c.cloud/hub/user-redirect/lab/tree/datascience/Fall%202025/Lab08/lab8_Variation%26Correlation.ipynb)\n",
    "\n",
    "11. \tRegression & Regression Inference\t\n",
    "- Lab 09 (Regression): Estimation of the Age of the Universe [link](https://temple.2i2c.cloud/hub/user-redirect/lab/tree/datascience/Fall%202025/Lab09/lab09-AgeUniverse.ipynb)\n",
    "\n",
    "12. \tClassifiers and Classification\t\n",
    "- Lab 10 (Machine Learning, Classification, & Chemistry): Alcohol boiling point prediction and Molecular Acidity Prediction <br>[Spring 2025 link](https://temple.2i2c.cloud/hub/user-redirect/lab/tree/datascience/Fall%202025/Lab10/Machine%20Learning%20and%20Chemistry-Spring-2025.ipynb)\n",
    "\n",
    "13. \tGroup Projects: \n",
    "- [Suggested Data Sets](https://temple.2i2c.cloud/hub/user-redirect/lab/tree/datascience/Fall%202025/Group-project/Group_Project_Datasets_Fall-2024.ipynb)\n",
    "- [Example Project](https://temple.2i2c.cloud/hub/user-redirect/lab/tree/datascience/Fall%202025/Group-project/example_group_project-indego_bikes/Indego.ipynb)\n",
    "- [Project Details](https://temple.2i2c.cloud/hub/user-redirect/lab/tree/datascience/Fall%202025/Group-project/Group_Project_Description.pdf)\n",
    "\n",
    "14. \tProject Presentations \t\n",
    "- Group Project Presentations"
   ]
  },
  {
   "cell_type": "code",
   "execution_count": null,
   "id": "d448a740-32be-4ca1-9079-cb4824e2612f",
   "metadata": {},
   "outputs": [],
   "source": []
  }
 ],
 "metadata": {
  "kernelspec": {
   "display_name": "Python 3 (ipykernel)",
   "language": "python",
   "name": "python3"
  },
  "language_info": {
   "codemirror_mode": {
    "name": "ipython",
    "version": 3
   },
   "file_extension": ".py",
   "mimetype": "text/x-python",
   "name": "python",
   "nbconvert_exporter": "python",
   "pygments_lexer": "ipython3",
   "version": "3.11.6"
  }
 },
 "nbformat": 4,
 "nbformat_minor": 5
}
