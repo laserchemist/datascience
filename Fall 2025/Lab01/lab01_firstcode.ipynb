{
 "cells": [
  {
   "cell_type": "markdown",
   "metadata": {},
   "source": [
    "# Lab 1: Introduction to Python Coding"
   ]
  },
  {
   "cell_type": "markdown",
   "metadata": {},
   "source": [
    "### Concepts of Coding  \n",
    "Each week you will complete a lab assignment like this one. You can't learn technical subjects without hands-on practice, so labs are an important part of the course.  \n",
    "\n",
    "In Lab 1, you will carry out some initial coding practice. You follow the instructions in the notebook to complete the assignment. Once you have completed all sections and annotated your code (# Comments and markdown, to be explained) you will download a copy in .html and .ipynb format for submission to Canvas.\n",
    "\n",
    "Discussion of questions on labs is more than okay -- it's encouraged! You should rarely be stuck for an inordinate amount of time on questions in labs, so ask a neighbor, course assistant, or an instructor for help. (Explaining things is beneficial, too -- the best way to solidify your knowledge of a subject is to explain it.) **Please don't just share answers, though**. Pushing to understand coding and data challenges using class resources, online texts, and even Web searches can help build a stronger understanding. Everyone finds challenges in completing some parts of the laboratories. This is a natural part of the learning process but you will become more fluent in the tools and concepts of Data Science with perseverance!\n",
    "\n",
    "### Resources\n",
    "1. [EDS Web site](https://sites.temple.edu/data/)\n",
    "1. [Data Science Primer (Tips)](https://laserchemist.github.io/dprimer/intro.html)\n",
    "1. [Inferential Thinking (Online Text)](https://inferentialthinking.com/chapters/intro.html)\n",
    "\n",
    "Let's get started!"
   ]
  },
  {
   "cell_type": "markdown",
   "metadata": {},
   "source": [
    "## 0. Coding Concepts\n",
    "Before starting with datasets we will develop some fundamental early concepts of coding within this Jupyter notebook.\n",
    "\n",
    "**Reminders for navigating Jupyter Notebooks**\n",
    "### Cells\n",
    "In a notebook, each rectangle containing text or code is called a *cell*.\n",
    "#### Markdown cells\n",
    "Text cells (like this one) can be edited by double-clicking on them. They're written in a simple format called [Markdown](http://daringfireball.net/projects/markdown/syntax) to add formatting and section headings.  You don't need to learn Markdown, but you might want to.\n",
    "#### Code cells\n",
    "Code cells are, as the name implies, where we put the computer code. In code each command needs to be typed in a specific way known as syntax. Everything matters here. Capitalization must match that of the given command or previously defined variable; every period, comma or any character matters and can determine the difference between smoothly running code and hours of errors!\n",
    "\n",
    "#### Executing cells\n",
    "After you edit a text cell, select the \"run cell\" button at the top that looks like ▶| to confirm any changes.  You can also use a keyboard shortcut to run a cell by holding down the Ctrl key and pressing Enter.  "
   ]
  },
  {
   "cell_type": "markdown",
   "metadata": {},
   "source": [
    "<font color=blue> **Question 0.** </font><br />\n",
    "`print` is a Python function and the argument(s) belong inside parenthesis. The `print` function takes a string argument such as 'This dog is my pet'. Type a meaningful message inside of quotes in place of the ellipsis in the below code cell and execute. Select the \"run cell\" ▶| button on the top to execute, or with the cell selection use the keyboard shortcut `shift-enter.`"
   ]
  },
  {
   "cell_type": "code",
   "execution_count": null,
   "metadata": {
    "tags": []
   },
   "outputs": [],
   "source": [
    "print(\"...\")"
   ]
  },
  {
   "cell_type": "markdown",
   "metadata": {},
   "source": [
    "### Initialize\n",
    "We always will load external modules to extend the functionality of the standard Python available in the Jupyter notebook. You will learn more about loading modules later. For now, just be sure to run all of the cells so that the functions needed will be loaded."
   ]
  },
  {
   "cell_type": "code",
   "execution_count": null,
   "metadata": {
    "tags": []
   },
   "outputs": [],
   "source": [
    "# import numpy package use for many math operations in python\n",
    "import numpy as np \n",
    "\n",
    "# Brings into Python the datascience Table object\n",
    "from datascience import * \n",
    "\n",
    "# These lines load the tests/checks.\n",
    "# THIS TAKES A MINUTE...\n",
    "from gofer.ok import check\n",
    "import json\n",
    "import os\n",
    "from jupyterquiz import display_quiz\n",
    "from EDS_mod.EDS import *\n",
    "notebook = os.path.basename(globals()['__session__'])\n",
    "import glob\n",
    "notebooks = glob.glob('*.ipynb')\n",
    "notebook = max(notebooks, key=os.path.getmtime)\n",
    "user = os.getenv('JUPYTERHUB_USER')"
   ]
  },
  {
   "cell_type": "markdown",
   "metadata": {},
   "source": [
    "### First variable is `name` and stores your name"
   ]
  },
  {
   "cell_type": "code",
   "execution_count": null,
   "metadata": {
    "tags": []
   },
   "outputs": [],
   "source": [
    "# Enter your name as a string\n",
    "# Example\n",
    "dogname = \"Fido\"\n",
    "\n",
    "# Your name\n",
    "name = \"...\"  # Replace the ... with your name!"
   ]
  },
  {
   "cell_type": "code",
   "execution_count": null,
   "metadata": {},
   "outputs": [],
   "source": [
    "check('tests/q1a.py')"
   ]
  },
  {
   "cell_type": "markdown",
   "metadata": {},
   "source": [
    "## 1. Strings\n",
    "The sharp-eyed student will have noticed that you can define a string variable (which, you will recall, is a string of characters) in Python with either single or double quotes. Fill in the examples below. Replace the `...` with your first and last name in quotes."
   ]
  },
  {
   "cell_type": "code",
   "execution_count": null,
   "metadata": {
    "tags": []
   },
   "outputs": [],
   "source": [
    "first_name = ...\n",
    "last_name = ...\n",
    "print(first_name, last_name)"
   ]
  },
  {
   "cell_type": "code",
   "execution_count": null,
   "metadata": {
    "scrolled": true
   },
   "outputs": [],
   "source": [
    "check('tests/q1b.py')"
   ]
  },
  {
   "cell_type": "markdown",
   "metadata": {},
   "source": [
    "Being able to define strings two ways allows for including either type of quote in the string itself. You can use a single quote insides strings defined with double quotes and vice versa. "
   ]
  },
  {
   "cell_type": "markdown",
   "metadata": {},
   "source": [
    "### print: our first built-in function\n",
    "- A function has a name and in this case it is `print`\n",
    "- A function takes arguments which are included in parenthesis, `print(argument)`\n",
    "- The argument is the input to the function upon which it processes and produces some type of output.\n",
    "- the `print` function can take one or more arguments separated by a `,`."
   ]
  },
  {
   "cell_type": "markdown",
   "metadata": {},
   "source": [
    "one argument, variable define above, `first_name`"
   ]
  },
  {
   "cell_type": "code",
   "execution_count": null,
   "metadata": {},
   "outputs": [],
   "source": [
    "print(last_name)"
   ]
  },
  {
   "cell_type": "markdown",
   "metadata": {},
   "source": [
    "two arguments separated by a `,`"
   ]
  },
  {
   "cell_type": "code",
   "execution_count": null,
   "metadata": {
    "tags": []
   },
   "outputs": [],
   "source": [
    "print(\"Your last name is\", last_name)"
   ]
  },
  {
   "cell_type": "code",
   "execution_count": null,
   "metadata": {},
   "outputs": [],
   "source": [
    "print(first_name, 'Mark Twain observed that: \"The secret of getting ahead is getting started.\"')"
   ]
  },
  {
   "cell_type": "markdown",
   "metadata": {
    "tags": []
   },
   "source": [
    "## 2. Numbers\n",
    "\n",
    "Quantitative information arises everywhere in data science. In addition to representing commands to print out lines, expressions can represent numbers and methods of combining numbers. The expression `3.2500` evaluates to the number 3.25. (Run the cell and see.)"
   ]
  },
  {
   "cell_type": "code",
   "execution_count": null,
   "metadata": {
    "tags": []
   },
   "outputs": [],
   "source": [
    "3.2500"
   ]
  },
  {
   "cell_type": "markdown",
   "metadata": {},
   "source": [
    "Notice that we didn't have to `print`. When you run a notebook cell, if the last line has a value, then Jupyter helpfully prints out that value for you. However, it won't print out prior lines automatically. If you want to print out a prior line, you need to add the `print` statement. Run the cell below to check."
   ]
  },
  {
   "cell_type": "code",
   "execution_count": null,
   "metadata": {
    "tags": []
   },
   "outputs": [],
   "source": [
    "print(2)\n",
    "3\n",
    "4"
   ]
  },
  {
   "cell_type": "markdown",
   "metadata": {},
   "source": [
    "Above, you should see that 4 is the value of the last expression, 2 is printed, but 3 is lost forever because it was neither printed nor last."
   ]
  },
  {
   "cell_type": "markdown",
   "metadata": {},
   "source": [
    "#### A couple quick review questions about what we have learned below, select the best answer (multiple tries ok). Execute the below cell to reveal the self-check quiz."
   ]
  },
  {
   "cell_type": "code",
   "execution_count": null,
   "metadata": {
    "tags": []
   },
   "outputs": [],
   "source": [
    "with open(\"questions01B.json\", \"r\") as file:\n",
    "    questions=json.load(file)    \n",
    "display_quiz(questions)"
   ]
  },
  {
   "cell_type": "markdown",
   "metadata": {},
   "source": [
    "### 2.1. Arithmetic\n",
    "The line in the next cell subtracts.  Its value is what you'd expect.  Run it."
   ]
  },
  {
   "cell_type": "code",
   "execution_count": null,
   "metadata": {
    "tags": []
   },
   "outputs": [],
   "source": [
    "3.25 - 1.5"
   ]
  },
  {
   "cell_type": "markdown",
   "metadata": {},
   "source": [
    "Many basic arithmetic operations are built in to Python.  The [Inferential Thinking textbook](https://inferentialthinking.com/chapters/intro.html) section on [Expressions](https://inferentialthinking.com/chapters/03/1/Expressions.html) describes all the arithmetic operators used in the course.  The common operator that differs from typical math notation is `**`, which raises one number to the power of the other. So, `2**3` stands for $2^3$ and evaluates to 8. \n",
    "\n",
    "The order of operations is what you learned in elementary school, and Python also has parentheses.  Do you remember the mnemonic for keeping track of the order of operations: **PEMDAS?** **P**arentheses, **E**xponentiation, **M**ultiplication/**D**ivision, **A**ddition/**S**ubtraction.\n",
    "\n",
    "For example, compare the outputs of the cells below. "
   ]
  },
  {
   "cell_type": "code",
   "execution_count": null,
   "metadata": {
    "tags": []
   },
   "outputs": [],
   "source": [
    "6 + 6 * 5 - 6 * 3**2 * 2**3 /4 * 7"
   ]
  },
  {
   "cell_type": "code",
   "execution_count": null,
   "metadata": {
    "tags": []
   },
   "outputs": [],
   "source": [
    "6 + (6 * 5 - (6 * 3))**2 * ((2**3) / 4 * 7)"
   ]
  },
  {
   "cell_type": "markdown",
   "metadata": {},
   "source": [
    "In standard math notation, the first expression is\n",
    "\n",
    "$$6 + 6 \\times 5 - 6 \\times 3^2 \\times \\frac{2^3}{4} \\times 7,$$\n",
    "\n",
    "while the second expression is\n",
    "\n",
    "$$6 + (6 \\times 5 - (6 \\times 3))^2 \\times (\\frac{(2^3)}{4} \\times 7).$$"
   ]
  },
  {
   "cell_type": "markdown",
   "metadata": {},
   "source": [
    "### Break long expressions into steps\n",
    "In Question 1 below you will be asked to write a Python expression to calculate:  \n",
    "\n",
    "$$5 \\times (4 \\frac{10}{11}) - 49 \\frac{1}{3} + 2^{.5 \\times 22} + \\frac{26}{33} + 1$$  \n",
    "\n",
    "That's five times four and ten elevenths, minus 49 and a third, plus two to the power of half of 22, plus 26 33rds plus 1.  By \"$4 \\frac{10}{11}$\" we mean $4+\\frac{10}{11}$, not $4 \\times \\frac{10}{11}$.\n",
    "\n",
    "If you try to write this all at once you will likely make a mistake. \n",
    "\n",
    "**So let's break it into steps:**\n",
    "\n",
    "Write a Python expression to add the fraction $\\frac{10}{11}$ to the number 4.\\\n",
    "Answer: 4 + 10/11\n",
    "\n",
    "Write a Python expression to multiply 5 by the sum of 4 and $\\frac{10}{11}$.\\\n",
    "Answer: 5 * (4 + 10/11)\n",
    "\n",
    "Write a Python expression to subtract $49 \\frac{1}{3}$ from the previous result. (Hint: $49 \\frac{1}{3}$ can be written as $49 + \\frac{1}{3}$)\\\n",
    "Answer: 5 * (4 + 10/11) - (49 + 1/3)\n",
    "\n",
    "Write a Python expression to calculate $2^{0.5 * 22}$.\\\n",
    "Answer: 2**(0.5 * 22)\n",
    "\n",
    "Write a Python expression to add the result of $2^{11}$ to the previous result.\\\n",
    "Answer: 5 * (4 + 10/11) - (49 + 1/3) + 2**(0.5 * 22)\n",
    "\n",
    "Write a Python expression to add the result of $2^{11}$ to the previous result.\\\n",
    "Answer: 5 * (4 + 10/11) - (49 + 1/3) + 2**(0.5 * 22)\n",
    "\n",
    "Write a Python expression to add $\\frac{26}{33}$ to the previous result.\\\n",
    "Answer: 5 * (4 + 10/11) - (49 + 1/3) + 2**(0.5 * 22) + 26/33\n",
    "\n",
    "Write a Python expression to add 1 to the previous result.\\\n",
    "Answer: 5 * (4 + 10/11) - (49 + 1/3) + 2**(0.5 * 22) + 26/33 + 1\n",
    "\n",
    "Do not just cut an paste this solution. Stop and make sure you understand each step. Breaking hard problems into a series of simpler steps is the key to learning to program (and anything else, really). "
   ]
  },
  {
   "cell_type": "markdown",
   "metadata": {},
   "source": [
    "<font color=blue> **Question 1.** </font><br /> Write a Python expression in this next cell that's equal to $5 \\times (4 \\frac{10}{11}) - 49 \\frac{1}{3} + 2^{.5 \\times 22} + \\frac{26}{33} + 1$  \n",
    "\n",
    "That's five times four and ten elevenths, minus 49 and a third, plus two to the power of half of 22, plus 26 33rds plus 1.  By \"$4 \\frac{10}{11}$\" we mean $4+\\frac{10}{11}$, not $4 \\times \\frac{10}{11}$.\n",
    "\n",
    "Replace the ellipses (`...`) with your expression.  Try to use parentheses only when necessary.\n",
    "\n",
    "*Hint:* The correct output should be a familiar number."
   ]
  },
  {
   "cell_type": "code",
   "execution_count": null,
   "metadata": {},
   "outputs": [],
   "source": [
    "expression = ...\n",
    "expression"
   ]
  },
  {
   "cell_type": "code",
   "execution_count": null,
   "metadata": {},
   "outputs": [],
   "source": [
    "# Test cell; please do not change!\n",
    "check('tests/q1.py')"
   ]
  },
  {
   "cell_type": "markdown",
   "metadata": {},
   "source": [
    "## 3. Names (referred to as variables)\n",
    "In natural language, we have terminology that lets us quickly reference very complicated concepts.  We don't say, \"That's a large mammal with brown fur and sharp teeth!\"  Instead, we just say, \"Bear!\"\n",
    "\n",
    "Similarly, an effective strategy for writing code is to define names for data as we compute it, like a lawyer would define terms for complex ideas at the start of a legal document to simplify the rest of the writing.\n",
    "\n",
    "In Python, we do this with *assignment statements*. An assignment statement has a name on the left side of an `=` sign and an expression to be evaluated on the right."
   ]
  },
  {
   "cell_type": "code",
   "execution_count": null,
   "metadata": {
    "tags": []
   },
   "outputs": [],
   "source": [
    "ten = 3 * 2 + 4"
   ]
  },
  {
   "cell_type": "markdown",
   "metadata": {},
   "source": [
    "When you run that cell, Python first evaluates the first line.  It computes the value of the expression `3 * 2 + 4`, which is the number 10.  Then it finishes by pointing the variable name `ten` at the result. \n",
    "\n",
    "After you run that cell, the value 10 is bound to the name `ten`:"
   ]
  },
  {
   "cell_type": "code",
   "execution_count": null,
   "metadata": {
    "tags": []
   },
   "outputs": [],
   "source": [
    "ten"
   ]
  },
  {
   "cell_type": "markdown",
   "metadata": {},
   "source": [
    "The statement `ten = 3 * 2 + 4` is not asserting that `ten` is already equal to `3 * 2 + 4`, as we might expect by analogy with math notation.  Rather, that line of code changes what `ten` means; it now refers to the value 10, whereas before it meant nothing at all.\n",
    "\n",
    "If the designers of Python had been ruthlessly pedantic, they might have made us write\n",
    "\n",
    "    define the name ten to hereafter have the value of 3 * 2 + 4 \n",
    "\n",
    "instead.  You will probably appreciate the brevity of \"`=`\"!  But keep in mind that this is the real meaning."
   ]
  },
  {
   "cell_type": "markdown",
   "metadata": {},
   "source": [
    "### 3.1 Syntax and Style"
   ]
  },
  {
   "cell_type": "markdown",
   "metadata": {},
   "source": [
    "A common pattern in Jupyter notebooks is to assign a value to a name and then immediately evaluate the name in the last line in the cell so that the value is displayed as output. "
   ]
  },
  {
   "cell_type": "code",
   "execution_count": null,
   "metadata": {
    "tags": []
   },
   "outputs": [],
   "source": [
    "close_to_pi = 355 / 113\n",
    "close_to_pi"
   ]
  },
  {
   "cell_type": "markdown",
   "metadata": {},
   "source": [
    "Another common pattern is that a series of lines in a single cell will build up a complex computation in stages, naming the intermediate results.  This is good style, particularly when beginning as it allows for easy reading and identification of steps in problem solving.\n",
    "\n",
    "In the cell below, we calculate the annual salary for someone who is paid $840 bimonthly (twice a month). Notice how the calculation is broken in to steps, with the results of intermediate calculations stored in variables with names that should be clear to someone reading the code."
   ]
  },
  {
   "cell_type": "code",
   "execution_count": null,
   "metadata": {
    "tags": []
   },
   "outputs": [],
   "source": [
    "bimonthly_salary = 840\n",
    "monthly_salary = 2 * bimonthly_salary\n",
    "number_of_months_in_a_year = 12\n",
    "yearly_salary = number_of_months_in_a_year * monthly_salary\n",
    "yearly_salary"
   ]
  },
  {
   "cell_type": "markdown",
   "metadata": {},
   "source": [
    "Note you could have named these variables however you wanted, as long as the name started out with a letter.  \n",
    "\n",
    "**However**, names are very important for making your code *readable* to yourself and others.\n",
    "According to a famous joke among computer scientists, naming things is one of the two hardest problems in computer science.  (The other two are cache invalidation and \"off-by-one\" errors.  And people say computer scientists have an odd sense of humor...)"
   ]
  },
  {
   "cell_type": "markdown",
   "metadata": {},
   "source": [
    "To illustrate the advantages of building up a computation in stages, let's return to Question 1, where you were asked to write a Python expression in this next cell that's equal to \n",
    "\n",
    "$$5 \\times (4 \\frac{10}{11}) - 49\\frac{1}{3} + 2^{.5 \\times 22} + \\frac{26}{33}$$\n",
    "\n",
    "Again, we will do it in stages, but this time we will use intermediate variables."
   ]
  },
  {
   "cell_type": "code",
   "execution_count": null,
   "metadata": {
    "tags": []
   },
   "outputs": [],
   "source": [
    "term1 = 5 * (4 + 10 / 11)\n",
    "term2 = 49 + (1 / 3)\n",
    "term3 = 2 ** (0.5 * 22)\n",
    "term4 = 26 / 33\n",
    "\n",
    "answer = term1 - term2 + term3 + term4 + 1\n",
    "print(answer)"
   ]
  },
  {
   "cell_type": "markdown",
   "metadata": {},
   "source": [
    "**Never feel like you have to answer a lab question with a single line of code. Not only does breaking any task into steps make your code easier to understand, it makes it much easier to debug when you don't get the expected result.**\n",
    "\n",
    "This is such an important point it bears repeating. Trying to write the solution to a coding problem with one long statement is like trying to carry all your food, drinks and dishes to the table in one trip -- a foolish attempt at effienciecy likely to end in disaster. “Nothing is particularly hard if you divide it into small jobs” ― Henry Ford"
   ]
  },
  {
   "cell_type": "markdown",
   "metadata": {},
   "source": [
    "<font color=blue> **Question 2.** </font><br /> Assign the name `seconds_since_2000` to the number of seconds between midnight January 1, 2000 and midnight January 1, 2022. Use Python to perform any required arithmetic. \n",
    "\n",
    "*Note:* There are 6 leap years between 2000 and 2022.  \n",
    "\n",
    "The key to solving this kind of problem is to break it down into smaller, more manageable steps. Think about the units of time involved:\n",
    "* Seconds make up minutes.\n",
    "* Minutes make up hours.\n",
    "* Hours make up days.\n",
    "* Days make up years.\n",
    "\n",
    "We also need to consider leap years, which have an extra day.\n",
    "\n",
    "Consider creating intermediate variables such as: second_per_minute, minutes_per_hour, hours_per_day, and days_per_year, then put them all together.\n",
    "\n",
    "**Remember:** you can add as many additional code cells as you wish.\n",
    "\n",
    "DO NOT JUST USE A CALCULATOR! Later on the problems will not be doable on a calculator, so learn coding by solving each step with Python."
   ]
  },
  {
   "cell_type": "code",
   "execution_count": null,
   "metadata": {},
   "outputs": [],
   "source": [
    "# Change the next line so that it computes the number of\n",
    "# seconds in the last 22 years and assigns that number the name\n",
    "# seconds_since_2000\n",
    "\n",
    "seconds_since_2000 = ...\n",
    "\n",
    "# We've put this line in this cell so that it will print\n",
    "# the value you've given to seconds_since_2000 when you\n",
    "# run it.  You don't need to change this.\n",
    "\n",
    "seconds_since_2000"
   ]
  },
  {
   "cell_type": "markdown",
   "metadata": {},
   "source": [
    "Running the following cell below will test whether you have assigned `seconds_since_2000` correctly in Question 2. \n",
    "\n",
    "Sometimes the tests will give hints about what went wrong. If the test doesn't pass, read the output, adjust your answer to the question, run the answer cell again to update the name `seconds_since_2000`, then run this test cell again.\n",
    "\n",
    "Sometimes the tests will tell you the answer. Rather than copying the answer, try to understand how it was reached. "
   ]
  },
  {
   "cell_type": "code",
   "execution_count": null,
   "metadata": {},
   "outputs": [],
   "source": [
    "# Test cell; please do not change!\n",
    "check('tests/q2.py')"
   ]
  },
  {
   "cell_type": "markdown",
   "metadata": {
    "tags": []
   },
   "source": [
    "<font color=blue> **Question 3.** </font><br />\n",
    "In addition to learning Python's syntax, a critical skill is learning to translate the problem you want to solve into code. You just did that to solve Question 2. Here is one more example for practice.\n",
    "\n",
    "Assume a sheet of paper is 0.1 mm thick. If you could fold it in half 27 times, how high would the resulting bundle of paper reach in kilometers? (Note: Mt Everest is only 8.8 km tall).\n",
    "\n",
    "*Hint 1: Watch your units! You'll need to convert millimeters to kilometers. So how many millimeters are in a meter, and how many meters are in a kilometer?*\n",
    "\n",
    "*Hint 2: Each time you fold the paper you double the thickness, right? So, if you folded it three times you would be doubling it three times, which is the original thickness x 2 x 2 x 2, or  thickness x $2^3$.*"
   ]
  },
  {
   "cell_type": "code",
   "execution_count": null,
   "metadata": {
    "tags": []
   },
   "outputs": [],
   "source": [
    "bundle_height_km = ...\n",
    "bundle_height_km "
   ]
  },
  {
   "cell_type": "code",
   "execution_count": null,
   "metadata": {},
   "outputs": [],
   "source": [
    "# Test cell; please do not change!\n",
    "check('tests/q3.py')"
   ]
  },
  {
   "cell_type": "markdown",
   "metadata": {},
   "source": [
    "<font color=blue> **Question 4.** </font><br />\n",
    "At the end of each lab, please include a reflection. \n",
    "* How did this lab go? \n",
    "* Did you find the seconds_since_2000 question tricky? Did you break the calculation into steps?\n",
    "* Were there questions you found especially challenging you would like your instructor to review in class? \n",
    "* How long did the lab take you to complete?\n",
    "\n",
    "Share your feedback so we can continue to improve this class!\n",
    "\n",
    "**Put your answer in the markdown cell below. Just double-click the cell to edit.**\n",
    "\n",
    "---"
   ]
  },
  {
   "cell_type": "markdown",
   "metadata": {
    "tags": []
   },
   "source": [
    "Your feedback ...\n"
   ]
  },
  {
   "cell_type": "code",
   "execution_count": null,
   "metadata": {},
   "outputs": [],
   "source": [
    "# BE SURE TO SAVE YOUR NOTEBOOK BEFORE RUNNGING THIS TEST\n",
    "check(\"tests/q4_open_ended.py\")"
   ]
  },
  {
   "cell_type": "markdown",
   "metadata": {},
   "source": [
    "## 4. Success! \n",
    "\n",
    "Congratulations, you're done with lab 1!  Be sure to \n",
    "- **run all the tests and verify that they all pass (the next cell needs to be executed),**\n",
    "- **and that you have answered any questions requiring a written response.**\n",
    "- **Save and Export as, HTML** from the `File` menu,\n",
    "- **Right click on file name to download noteook** \n",
    "- **Upload and Submit your files to Canvas** under the corresponding assignment ."
   ]
  },
  {
   "cell_type": "code",
   "execution_count": null,
   "metadata": {
    "tags": []
   },
   "outputs": [],
   "source": [
    "import glob\n",
    "from gofer.ok import check\n",
    "correct = 0\n",
    "questions = [\"1a\",\"1b\", \"1\", \"2\", \"3\", \"4_open_ended\"]\n",
    "for x in questions:\n",
    "    print(\"Testing question {}: \".format(x))\n",
    "    display(check(\"tests/q{}.py\".format(x)))\n",
    "    score = check('tests/q{}.py'.format(str(x)))\n",
    "    if score.grade == 1.0:\n",
    "        correct += 1"
   ]
  },
  {
   "cell_type": "code",
   "execution_count": null,
   "metadata": {},
   "outputs": [],
   "source": [
    "perc_correct = correct/len(questions)*100\n",
    "if perc_correct < 80:\n",
    "    msg = 'look over your work again, seek help, some errors!!!'\n",
    "else:\n",
    "    msg = 'nice work!'\n",
    "print(f\"----\\n{name} {msg}\\n----\\nusername: {user}\")\n",
    "import time;\n",
    "localtime = time.asctime( time.localtime(time.time()) )\n",
    "print(\"Submitted @ \", localtime)\n",
    "print(f'Score: {correct/len(questions)*100:.1f}%')"
   ]
  }
 ],
 "metadata": {
  "kernelspec": {
   "display_name": "Python 3 (ipykernel)",
   "language": "python",
   "name": "python3"
  },
  "language_info": {
   "codemirror_mode": {
    "name": "ipython",
    "version": 3
   },
   "file_extension": ".py",
   "mimetype": "text/x-python",
   "name": "python",
   "nbconvert_exporter": "python",
   "pygments_lexer": "ipython3",
   "version": "3.11.6"
  }
 },
 "nbformat": 4,
 "nbformat_minor": 4
}
