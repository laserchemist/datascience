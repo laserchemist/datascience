{
 "cells": [
  {
   "cell_type": "markdown",
   "id": "d21a9bed-380f-420b-97a7-f8559e398f96",
   "metadata": {},
   "source": [
    "## Atomic Grab Simulation\n",
    "Sample population of atoms by repeatedly grabbing samples of 4 atoms"
   ]
  },
  {
   "cell_type": "markdown",
   "id": "fda1fef3-437a-4be1-a456-4ad905795ecb",
   "metadata": {},
   "source": [
    "<img src='atomic_grab.png' alt='Atoms in a bag to grab' style=\"width:300px\">"
   ]
  },
  {
   "cell_type": "markdown",
   "id": "faf37f1e-2fcf-407f-ae6c-29e3fa161413",
   "metadata": {},
   "source": [
    "Simulation if 50/50 blue to yellow"
   ]
  },
  {
   "cell_type": "code",
   "execution_count": 1,
   "id": "795d290b-908c-40d1-9b6c-904b0db6e621",
   "metadata": {},
   "outputs": [],
   "source": [
    "import numpy as np"
   ]
  },
  {
   "cell_type": "code",
   "execution_count": 2,
   "id": "7c836874-674b-4df4-ba14-00632c1fc84b",
   "metadata": {},
   "outputs": [],
   "source": [
    "atomcolors = ['blue','yellow']"
   ]
  },
  {
   "cell_type": "markdown",
   "id": "45ae0433-c0f1-4921-90aa-0ede7e340093",
   "metadata": {},
   "source": [
    "One grab"
   ]
  },
  {
   "cell_type": "code",
   "execution_count": 5,
   "id": "c4aafc68-0ab5-47de-87a2-70f895aee649",
   "metadata": {},
   "outputs": [
    {
     "data": {
      "text/plain": [
       "array(['yellow', 'yellow', 'yellow', 'blue'], dtype='<U6')"
      ]
     },
     "execution_count": 5,
     "metadata": {},
     "output_type": "execute_result"
    }
   ],
   "source": [
    "grab = np.random.choice(atomcolors,4)\n",
    "grab"
   ]
  },
  {
   "cell_type": "markdown",
   "id": "93edeb50-e5d7-4fdd-afeb-7a8b51c09b00",
   "metadata": {},
   "source": [
    "Use Boolean expression to get ratio"
   ]
  },
  {
   "cell_type": "code",
   "execution_count": 6,
   "id": "9247aa3f-b078-4fa4-a5c0-763cb3a937da",
   "metadata": {},
   "outputs": [
    {
     "data": {
      "text/plain": [
       "1"
      ]
     },
     "execution_count": 6,
     "metadata": {},
     "output_type": "execute_result"
    }
   ],
   "source": [
    "blue = np.sum(grab == 'blue')\n",
    "blue"
   ]
  },
  {
   "cell_type": "code",
   "execution_count": 7,
   "id": "a5ea20de-078f-4576-8657-2753d2f8ef16",
   "metadata": {},
   "outputs": [
    {
     "data": {
      "text/plain": [
       "3"
      ]
     },
     "execution_count": 7,
     "metadata": {},
     "output_type": "execute_result"
    }
   ],
   "source": [
    "yellow = np.sum(grab == 'yellow')\n",
    "yellow"
   ]
  },
  {
   "cell_type": "code",
   "execution_count": 25,
   "id": "19dba53d-3fde-4f97-8714-11e887236611",
   "metadata": {},
   "outputs": [
    {
     "data": {
      "text/plain": [
       "25.0"
      ]
     },
     "execution_count": 25,
     "metadata": {},
     "output_type": "execute_result"
    }
   ],
   "source": [
    "percentage = blue/(blue + yellow)*100\n",
    "percentage"
   ]
  },
  {
   "cell_type": "markdown",
   "id": "fbcb5d01-f2db-4709-b0b4-9ab82af46694",
   "metadata": {},
   "source": [
    "### Now make a function to automate"
   ]
  },
  {
   "cell_type": "code",
   "execution_count": 44,
   "id": "aa331638-153a-4dd5-9d4a-7a28ee3526d7",
   "metadata": {},
   "outputs": [],
   "source": [
    "def grab(num, prob=[.5,.5]):\n",
    "    atomcolors = ['blue','yellow']\n",
    "    random_grab = np.random.choice(atomcolors,num, p=prob)\n",
    "    yellow = np.sum(random_grab == 'yellow')\n",
    "    blue = np.sum(random_grab == 'blue')\n",
    "    percent = blue/(yellow+blue)*100\n",
    "    return percent"
   ]
  },
  {
   "cell_type": "code",
   "execution_count": 45,
   "id": "13debed6-22b5-4124-8a2e-d50c3ffbd4bb",
   "metadata": {},
   "outputs": [
    {
     "data": {
      "text/plain": [
       "50.0"
      ]
     },
     "execution_count": 45,
     "metadata": {},
     "output_type": "execute_result"
    }
   ],
   "source": [
    "grab(4)"
   ]
  },
  {
   "cell_type": "markdown",
   "id": "7d030ff4-afde-4253-92ad-47ff6ecc312e",
   "metadata": {},
   "source": [
    "### Simulate\n",
    "average of 10 grabs"
   ]
  },
  {
   "cell_type": "code",
   "execution_count": 53,
   "id": "cc99c8c4-db54-44ac-86a6-25066f03e8b0",
   "metadata": {},
   "outputs": [],
   "source": [
    "grab_avg = []\n",
    "for i in np.arange(10000):\n",
    "    grabs = []\n",
    "    for j in np.arange(10):\n",
    "        grabs.append(grab(4))\n",
    "    grab_avg.append(np.mean(grabs))"
   ]
  },
  {
   "cell_type": "code",
   "execution_count": 54,
   "id": "9b3a12b3-e55c-4801-8ad9-33bbb4a711dc",
   "metadata": {},
   "outputs": [],
   "source": [
    "%matplotlib inline\n",
    "import matplotlib.pyplot as plt\n",
    "plt.style.use('ggplot')"
   ]
  },
  {
   "cell_type": "code",
   "execution_count": 60,
   "id": "f7a3fcc8-ca44-4441-8b9a-4ff3c54212ce",
   "metadata": {},
   "outputs": [
    {
     "data": {
      "text/plain": [
       "<matplotlib.lines.Line2D at 0x7818ad893f90>"
      ]
     },
     "execution_count": 60,
     "metadata": {},
     "output_type": "execute_result"
    },
    {
     "data": {
      "image/png": "[encoded data removed]",
      "text/plain": [
       "<Figure size 640x480 with 1 Axes>"
      ]
     },
     "metadata": {},
     "output_type": "display_data"
    }
   ],
   "source": [
    "plt.hist(grab_avg, bins=np.arange(0,101,2.5), edgecolor='black', alpha=0.7)\n",
    "plt.axvline(x=50, color='blue')"
   ]
  }
 ],
 "metadata": {
  "kernelspec": {
   "display_name": "Python 3 (ipykernel)",
   "language": "python",
   "name": "python3"
  },
  "language_info": {
   "codemirror_mode": {
    "name": "ipython",
    "version": 3
   },
   "file_extension": ".py",
   "mimetype": "text/x-python",
   "name": "python",
   "nbconvert_exporter": "python",
   "pygments_lexer": "ipython3",
   "version": "3.11.6"
  }
 },
 "nbformat": 4,
 "nbformat_minor": 5
}
