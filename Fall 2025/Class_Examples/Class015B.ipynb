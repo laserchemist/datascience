{
 "cells": [
  {
   "cell_type": "markdown",
   "metadata": {},
   "source": [
    "### Hypothesis testing\n",
    "Elements of Data Science"
   ]
  },
  {
   "cell_type": "markdown",
   "metadata": {
    "tags": []
   },
   "source": [
    "## Hypothesis Testing Learning Goals\n",
    "Develop and test an hypothesis\n",
    "- Hypothesis\n",
    "    - testable hypothesis\n",
    "    - statistic\n",
    "- Simulation: Sample the distribution\n",
    "    - Repeat and collect outcomes\n",
    "    - Iteration: \n",
    "        `for i in np.arange(samples)`\n",
    "- Examine resulting distribution of outcomes\n",
    "    - Probability distribution\n",
    "    - Uncertainty\n",
    "- p-test"
   ]
  },
  {
   "cell_type": "code",
   "execution_count": 1,
   "metadata": {
    "tags": []
   },
   "outputs": [],
   "source": [
    "import numpy as np\n",
    "from datascience import *"
   ]
  },
  {
   "cell_type": "code",
   "execution_count": 2,
   "metadata": {
    "tags": []
   },
   "outputs": [],
   "source": [
    "%matplotlib inline\n",
    "import matplotlib.pyplot as plt\n",
    "plt.style.use('ggplot')"
   ]
  },
  {
   "cell_type": "markdown",
   "metadata": {},
   "source": [
    "### Functions and dice simulation"
   ]
  },
  {
   "cell_type": "markdown",
   "metadata": {},
   "source": [
    "Simulate rolls of a six-sided die"
   ]
  },
  {
   "cell_type": "code",
   "execution_count": null,
   "metadata": {
    "tags": []
   },
   "outputs": [],
   "source": [
    "possible_rolls = np.arange(1,7)\n",
    "possible_rolls"
   ]
  },
  {
   "cell_type": "code",
   "execution_count": null,
   "metadata": {
    "tags": []
   },
   "outputs": [],
   "source": [
    "def sim_roll(mod,num):\n",
    "    '''Simulate six-sided die rolls'''\n",
    "    rolls = np.random.choice(possible_rolls, num) + mod\n",
    "    return rolls"
   ]
  },
  {
   "cell_type": "code",
   "execution_count": null,
   "metadata": {
    "tags": []
   },
   "outputs": [],
   "source": [
    "sim_roll(0,10)"
   ]
  },
  {
   "cell_type": "code",
   "execution_count": null,
   "metadata": {
    "tags": []
   },
   "outputs": [],
   "source": [
    "plt.hist(sim_roll(0,100),bins=np.arange(0,10));"
   ]
  },
  {
   "cell_type": "code",
   "execution_count": null,
   "metadata": {
    "tags": []
   },
   "outputs": [],
   "source": [
    "plt.hist(sim_roll(2,100),bins=np.arange(0,10))"
   ]
  },
  {
   "cell_type": "code",
   "execution_count": null,
   "metadata": {
    "tags": []
   },
   "outputs": [],
   "source": [
    "np.mean(sim_roll(0,1000))"
   ]
  },
  {
   "cell_type": "code",
   "execution_count": null,
   "metadata": {
    "tags": []
   },
   "outputs": [],
   "source": [
    "np.mean(np.arange(1,7))"
   ]
  },
  {
   "cell_type": "markdown",
   "metadata": {},
   "source": [
    "### Python Dictionary Example\n",
    "A Python dictionary is another important sequence data type in Python"
   ]
  },
  {
   "cell_type": "code",
   "execution_count": null,
   "metadata": {
    "tags": []
   },
   "outputs": [],
   "source": [
    "car = {\n",
    "  \"brand\": \"Ford\",\n",
    "  \"model\": \"Mustang\",\n",
    "  \"year\": 1964\n",
    "}\n",
    "\n",
    "x = car.get(\"model\")\n",
    "\n",
    "print(x)"
   ]
  },
  {
   "cell_type": "code",
   "execution_count": null,
   "metadata": {
    "tags": []
   },
   "outputs": [],
   "source": [
    "car['mpg']=car.get('mpg',0)+1"
   ]
  },
  {
   "cell_type": "code",
   "execution_count": null,
   "metadata": {
    "tags": []
   },
   "outputs": [],
   "source": [
    "car"
   ]
  },
  {
   "cell_type": "code",
   "execution_count": null,
   "metadata": {
    "tags": []
   },
   "outputs": [],
   "source": [
    "darwin_string = open('data/darwin_origin_species.txt', encoding='utf-8').read()\n",
    "darwin_words = np.array(darwin_string.split())\n",
    "darwin_words"
   ]
  },
  {
   "cell_type": "code",
   "execution_count": null,
   "metadata": {
    "tags": []
   },
   "outputs": [],
   "source": [
    "darwin_dictionary = {}\n",
    "for word in darwin_words:\n",
    "    word = word.lower()\n",
    "    darwin_dictionary[word] = darwin_dictionary.get(word,0)+1"
   ]
  },
  {
   "cell_type": "code",
   "execution_count": null,
   "metadata": {},
   "outputs": [],
   "source": [
    "darwin_dictionary['birds']"
   ]
  },
  {
   "cell_type": "markdown",
   "metadata": {},
   "source": [
    "## Hypothesis Testing"
   ]
  },
  {
   "cell_type": "markdown",
   "metadata": {},
   "source": [
    "#### Ground Hog\n"
   ]
  },
  {
   "cell_type": "code",
   "execution_count": 5,
   "metadata": {
    "tags": []
   },
   "outputs": [
    {
     "data": {
      "text/html": [
       "<table border=\"1\" class=\"dataframe\">\n",
       "    <thead>\n",
       "        <tr>\n",
       "            <th>hogID</th> <th>year</th> <th>shadowPres</th> <th>dateSample</th> <th>julDay</th> <th>GDD</th> <th>cGDD</th> <th>numObs</th> <th>meanJulSpringDay</th> <th>sdJulSpringDay</th> <th>seJulSpringDay</th> <th>earlyOrLate</th>\n",
       "        </tr>\n",
       "    </thead>\n",
       "    <tbody>\n",
       "        <tr>\n",
       "            <td>BC   </td> <td>2018</td> <td>yes       </td> <td>2018-04-11</td> <td>101   </td> <td>3.05556 </td> <td>127.222</td> <td>30    </td> <td>85.8667         </td> <td>12.4367       </td> <td>2.27062       </td> <td>late       </td>\n",
       "        </tr>\n",
       "        <tr>\n",
       "            <td>BC   </td> <td>2019</td> <td>no        </td> <td>2019-04-06</td> <td>96    </td> <td>8.33333 </td> <td>123.889</td> <td>30    </td> <td>85.8667         </td> <td>12.4367       </td> <td>2.27062       </td> <td>late       </td>\n",
       "        </tr>\n",
       "        <tr>\n",
       "            <td>BECK </td> <td>2006</td> <td>yes       </td> <td>2006-02-15</td> <td>46    </td> <td>7.22222 </td> <td>127.006</td> <td>30    </td> <td>72.4333         </td> <td>14.6586       </td> <td>2.67628       </td> <td>early      </td>\n",
       "        </tr>\n",
       "        <tr>\n",
       "            <td>BECK </td> <td>2007</td> <td>no        </td> <td>2007-03-14</td> <td>73    </td> <td>14.1667 </td> <td>129.167</td> <td>30    </td> <td>72.4333         </td> <td>14.6586       </td> <td>2.67628       </td> <td>late       </td>\n",
       "        </tr>\n",
       "        <tr>\n",
       "            <td>BECK </td> <td>2008</td> <td>no        </td> <td>2008-03-17</td> <td>77    </td> <td>0.833333</td> <td>128.611</td> <td>30    </td> <td>72.4333         </td> <td>14.6586       </td> <td>2.67628       </td> <td>late       </td>\n",
       "        </tr>\n",
       "        <tr>\n",
       "            <td>BECK </td> <td>2009</td> <td>yes       </td> <td>2009-03-10</td> <td>69    </td> <td>12.2222 </td> <td>130    </td> <td>30    </td> <td>72.4333         </td> <td>14.6586       </td> <td>2.67628       </td> <td>early      </td>\n",
       "        </tr>\n",
       "        <tr>\n",
       "            <td>BECK </td> <td>2010</td> <td>no        </td> <td>2010-03-21</td> <td>80    </td> <td>7.22222 </td> <td>129.444</td> <td>30    </td> <td>72.4333         </td> <td>14.6586       </td> <td>2.67628       </td> <td>late       </td>\n",
       "        </tr>\n",
       "        <tr>\n",
       "            <td>BECK </td> <td>2011</td> <td>no        </td> <td>2011-03-20</td> <td>79    </td> <td>7.77778 </td> <td>133.611</td> <td>30    </td> <td>72.4333         </td> <td>14.6586       </td> <td>2.67628       </td> <td>late       </td>\n",
       "        </tr>\n",
       "        <tr>\n",
       "            <td>BECK </td> <td>2012</td> <td>no        </td> <td>2012-03-07</td> <td>67    </td> <td>13.3333 </td> <td>129.444</td> <td>30    </td> <td>72.4333         </td> <td>14.6586       </td> <td>2.67628       </td> <td>early      </td>\n",
       "        </tr>\n",
       "        <tr>\n",
       "            <td>BECK </td> <td>2013</td> <td>no        </td> <td>2013-03-30</td> <td>89    </td> <td>3.88889 </td> <td>128.611</td> <td>30    </td> <td>72.4333         </td> <td>14.6586       </td> <td>2.67628       </td> <td>late       </td>\n",
       "        </tr>\n",
       "    </tbody>\n",
       "</table>\n",
       "<p>... (520 rows omitted)</p>"
      ],
      "text/plain": [
       "hogID | year | shadowPres | dateSample | julDay | GDD      | cGDD    | numObs | meanJulSpringDay | sdJulSpringDay | seJulSpringDay | earlyOrLate\n",
       "BC    | 2018 | yes        | 2018-04-11 | 101    | 3.05556  | 127.222 | 30     | 85.8667          | 12.4367        | 2.27062        | late\n",
       "BC    | 2019 | no         | 2019-04-06 | 96     | 8.33333  | 123.889 | 30     | 85.8667          | 12.4367        | 2.27062        | late\n",
       "BECK  | 2006 | yes        | 2006-02-15 | 46     | 7.22222  | 127.006 | 30     | 72.4333          | 14.6586        | 2.67628        | early\n",
       "BECK  | 2007 | no         | 2007-03-14 | 73     | 14.1667  | 129.167 | 30     | 72.4333          | 14.6586        | 2.67628        | late\n",
       "BECK  | 2008 | no         | 2008-03-17 | 77     | 0.833333 | 128.611 | 30     | 72.4333          | 14.6586        | 2.67628        | late\n",
       "BECK  | 2009 | yes        | 2009-03-10 | 69     | 12.2222  | 130     | 30     | 72.4333          | 14.6586        | 2.67628        | early\n",
       "BECK  | 2010 | no         | 2010-03-21 | 80     | 7.22222  | 129.444 | 30     | 72.4333          | 14.6586        | 2.67628        | late\n",
       "BECK  | 2011 | no         | 2011-03-20 | 79     | 7.77778  | 133.611 | 30     | 72.4333          | 14.6586        | 2.67628        | late\n",
       "BECK  | 2012 | no         | 2012-03-07 | 67     | 13.3333  | 129.444 | 30     | 72.4333          | 14.6586        | 2.67628        | early\n",
       "BECK  | 2013 | no         | 2013-03-30 | 89     | 3.88889  | 128.611 | 30     | 72.4333          | 14.6586        | 2.67628        | late\n",
       "... (520 rows omitted)"
      ]
     },
     "execution_count": 5,
     "metadata": {},
     "output_type": "execute_result"
    }
   ],
   "source": [
    "groundhogdata = Table.read_table('../Lab05/GroundHogData/summarizedGroundhogData_20210326.csv')\n",
    "groundhogdata"
   ]
  },
  {
   "cell_type": "code",
   "execution_count": 6,
   "metadata": {
    "tags": []
   },
   "outputs": [],
   "source": [
    "yes_late = groundhogdata.where('shadowPres', 'yes').where('earlyOrLate', 'late')\n",
    "no_early = groundhogdata.where('shadowPres', 'no').where('earlyOrLate', 'early')\n",
    "\n",
    "correct_tbl = yes_late.append(no_early)"
   ]
  },
  {
   "cell_type": "code",
   "execution_count": 7,
   "metadata": {},
   "outputs": [
    {
     "data": {
      "text/plain": [
       "51.132075471698116"
      ]
     },
     "execution_count": 7,
     "metadata": {},
     "output_type": "execute_result"
    }
   ],
   "source": [
    "num_correct = correct_tbl.num_rows / groundhogdata.num_rows * 100\n",
    "num_correct\n"
   ]
  },
  {
   "cell_type": "code",
   "execution_count": 8,
   "metadata": {},
   "outputs": [],
   "source": [
    "shadow_options = make_array('yes', 'no')\n",
    "spring_options = make_array('late', 'early')\n",
    "num_observations = groundhogdata.num_rows"
   ]
  },
  {
   "cell_type": "code",
   "execution_count": 9,
   "metadata": {},
   "outputs": [
    {
     "data": {
      "text/plain": [
       "0.5226415094339623"
      ]
     },
     "execution_count": 9,
     "metadata": {},
     "output_type": "execute_result"
    }
   ],
   "source": [
    "right = 0 \n",
    "wrong = 0\n",
    "\n",
    "for obs in range(num_observations):\n",
    "    shadow = np.random.choice(shadow_options)\n",
    "    spring = np.random.choice(spring_options)\n",
    "    \n",
    "    if shadow == 'yes' and spring == 'late':\n",
    "        right += 1\n",
    "    elif shadow == 'no' and spring == 'early':\n",
    "        right += 1\n",
    "    else:\n",
    "        wrong += 1\n",
    "\n",
    "simulated_num_correct = right / num_observations\n",
    "simulated_num_correct"
   ]
  },
  {
   "cell_type": "code",
   "execution_count": 10,
   "metadata": {},
   "outputs": [],
   "source": [
    "def sim_ground(repeats):\n",
    "    correct_obs = []\n",
    "    for i in np.arange(repeats):\n",
    "        right = 0 \n",
    "        wrong = 0\n",
    "        for obs in range(num_observations):\n",
    "            shadow = np.random.choice(shadow_options)\n",
    "            spring = np.random.choice(spring_options)\n",
    "            if shadow == 'yes' and spring == 'late':\n",
    "                right += 1\n",
    "            elif shadow == 'no' and spring == 'early':\n",
    "                right += 1\n",
    "            else:\n",
    "                wrong += 1\n",
    "        simulated_num_correct = right / num_observations\n",
    "        correct_obs.append(simulated_num_correct)\n",
    "    return correct_obs        "
   ]
  },
  {
   "cell_type": "code",
   "execution_count": 13,
   "metadata": {},
   "outputs": [
    {
     "data": {
      "image/png": "[encoded data removed]",
      "text/plain": [
       "<Figure size 640x480 with 1 Axes>"
      ]
     },
     "metadata": {},
     "output_type": "display_data"
    }
   ],
   "source": [
    "\n",
    "plt.hist(sim_ground(1000),bins=np.arange(0.4,0.6,.01),color = \"skyblue\", ec=\"red\")\n",
    "plt.title('Simulated Groundhog outcomes')\n",
    "plt.savefig('sim_ground.png')\n",
    "plt.show()"
   ]
  },
  {
   "cell_type": "code",
   "execution_count": 73,
   "metadata": {},
   "outputs": [
    {
     "name": "stdout",
     "output_type": "stream",
     "text": [
      "51.132075471698116\n"
     ]
    },
    {
     "data": {
      "image/png": "[encoded data removed]",
      "text/plain": [
       "<Figure size 640x480 with 1 Axes>"
      ]
     },
     "metadata": {},
     "output_type": "display_data"
    }
   ],
   "source": [
    "print(num_correct)\n",
    "num_repeats = 3500\n",
    "sample = np.array(sim_ground(num_repeats))\n",
    "sample1 = sample[sample < num_correct/100]\n",
    "sample2 = sample[sample >= num_correct/100]\n",
    "plt.ylim((0,num_repeats/12))\n",
    "plt.hist(sample1, label='null distribution < '+str(round(num_correct/100,2)), bins = np.arange(0.37,num_correct/100,.0037),color='skyblue',alpha=0.5, edgecolor='red', linewidth=1.2)\n",
    "plt.ylim((0,num_repeats/12))\n",
    "plt.hist(sample2, label='null distribution >= '+str(round(num_correct/100,2)), bins = np.arange(num_correct/100,.6,.0037),color='yellow',alpha=0.5, edgecolor='red', linewidth=1.2)\n",
    "plt.scatter(num_correct/100,0, s=100, label='test statistic = '+str(round(num_correct/100,2)),marker='o', \n",
    "            c='red',alpha=0.8, edgecolors='blue')\n",
    "pval=np.count_nonzero(np.array(sample) >= num_correct/100)/len(sample)\n",
    "plt.annotate(f'p-value: {pval:.2f}',xy =(num_correct/100, 0), \n",
    "                xytext =(num_correct/100+.01, num_repeats/17),  \n",
    "                arrowprops = dict(facecolor ='grey', \n",
    "                                  shrink = 0.02, alpha=0.4),)\n",
    "plt.legend(loc='center left', bbox_to_anchor=(1.1, 0.5), labelspacing=3)\n",
    "plt.title('Ground Hog Prediction')\n",
    "plt.savefig('Groundhog_pvalue.png')\n",
    "plt.show()"
   ]
  },
  {
   "cell_type": "code",
   "execution_count": 41,
   "metadata": {},
   "outputs": [
    {
     "data": {
      "image/png": "[encoded data removed]",
      "text/plain": [
       "<Figure size 640x480 with 1 Axes>"
      ]
     },
     "metadata": {},
     "output_type": "display_data"
    }
   ],
   "source": [
    "\n",
    "plt.hist(sim_ground(1000),bins=np.arange(0.4,0.6,.01),color = \"skyblue\", ec=\"red\")\n",
    "plt.title('Simulated Groundhog outcomes')\n",
    "plt.savefig('sim_ground.png')\n",
    "plt.show()"
   ]
  },
  {
   "cell_type": "code",
   "execution_count": null,
   "metadata": {},
   "outputs": [],
   "source": [
    "hogsimdata = Table().with_columns(\"Correct\",sim_ground(1500))\n",
    "hogsimdata"
   ]
  },
  {
   "cell_type": "code",
   "execution_count": null,
   "metadata": {},
   "outputs": [],
   "source": [
    "hogsimdata.hist(0,bins=np.arange(0.4,0.6,.01))\n",
    "plt.scatter(num_correct/100, 0, color='red', s=200);\n",
    "plt.title('Simulated Groundhog outcomes')\n",
    "plt.savefig('sim_ground_correct.png')\n",
    "plt.show()"
   ]
  },
  {
   "cell_type": "code",
   "execution_count": null,
   "metadata": {},
   "outputs": [],
   "source": [
    "np.count_nonzero(hogsimdata.column('Correct') >= num_correct/100) / 1500"
   ]
  },
  {
   "cell_type": "markdown",
   "metadata": {},
   "source": [
    "#### Essex Ed"
   ]
  },
  {
   "cell_type": "code",
   "execution_count": null,
   "metadata": {},
   "outputs": [],
   "source": [
    "groundhogdata.where('hogID',\"EE\")"
   ]
  },
  {
   "cell_type": "code",
   "execution_count": null,
   "metadata": {},
   "outputs": [],
   "source": [
    "correct_tbl.where('hogID',\"EE\")"
   ]
  },
  {
   "cell_type": "code",
   "execution_count": null,
   "metadata": {},
   "outputs": [],
   "source": [
    "num_correct = correct_tbl.where('hogID',\"EE\").num_rows / groundhogdata.where('hogID',\"EE\").num_rows * 100\n",
    "num_correct"
   ]
  },
  {
   "cell_type": "code",
   "execution_count": null,
   "metadata": {},
   "outputs": [],
   "source": [
    "hogsimdata.hist(0,bins=np.arange(0.4,0.6,.01))\n",
    "plt.scatter(num_correct/100, 0, color='red', s=200);\n",
    "plt.title('Simulated Groundhog outcomes')\n",
    "plt.savefig('sim_ground_correct.png')\n",
    "plt.show()"
   ]
  },
  {
   "cell_type": "code",
   "execution_count": null,
   "metadata": {
    "jupyter": {
     "source_hidden": true
    }
   },
   "outputs": [],
   "source": [
    "np.count_nonzero(hogsimdata.column('Correct') >= num_correct/100) / 1500"
   ]
  },
  {
   "cell_type": "markdown",
   "metadata": {},
   "source": [
    "# Acknowledgement in the Groundhog paper\n",
    "This study was the result of a truly laboratory-driven effort that started over speculation on a Friday at the campus pub and has led to a cumulative effort of students in the Community Ecology and Energetics Laboratory at Lakehead University over several years. "
   ]
  },
  {
   "cell_type": "code",
   "execution_count": null,
   "metadata": {},
   "outputs": [],
   "source": []
  }
 ],
 "metadata": {
  "kernelspec": {
   "display_name": "Python 3 (ipykernel)",
   "language": "python",
   "name": "python3"
  },
  "language_info": {
   "codemirror_mode": {
    "name": "ipython",
    "version": 3
   },
   "file_extension": ".py",
   "mimetype": "text/x-python",
   "name": "python",
   "nbconvert_exporter": "python",
   "pygments_lexer": "ipython3",
   "version": "3.9.19"
  }
 },
 "nbformat": 4,
 "nbformat_minor": 4
}
