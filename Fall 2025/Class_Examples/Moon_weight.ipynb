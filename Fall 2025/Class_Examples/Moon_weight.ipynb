{
 "cells": [
  {
   "cell_type": "markdown",
   "id": "1b03744d-f4f4-4189-b43c-ba1a41def911",
   "metadata": {},
   "source": [
    "# Determining weight on Moon"
   ]
  },
  {
   "cell_type": "markdown",
   "id": "3ab775f3-a2a0-4781-b029-40b566b4d63b",
   "metadata": {},
   "source": [
    "Provide your weight on Earth"
   ]
  },
  {
   "cell_type": "code",
   "execution_count": 3,
   "id": "72cf9419-98ac-4f7c-a135-808906e2641b",
   "metadata": {},
   "outputs": [],
   "source": [
    "weight_Earth_lb = 105.4"
   ]
  },
  {
   "cell_type": "markdown",
   "id": "b055c16a-8dff-4afd-a453-6bbdd281aa42",
   "metadata": {},
   "source": [
    "Weight is the force created by the mass accelerated by gravity.\n",
    "- pound (traditional unit), can be force or mass\n",
    "- Newton (SI unit) = 4.44822 pounds\n",
    "- kilogram (SI unit) mass"
   ]
  },
  {
   "cell_type": "code",
   "execution_count": 4,
   "id": "eee14609-50ba-4d70-be44-bc37b4216fe9",
   "metadata": {},
   "outputs": [],
   "source": [
    "lb_to_N = 4.44822"
   ]
  },
  {
   "cell_type": "code",
   "execution_count": 5,
   "id": "d6270f4c-3791-4093-93d4-e905687dbbb7",
   "metadata": {},
   "outputs": [],
   "source": [
    "weight_Earth_N = weight_Earth_lb * lb_to_N"
   ]
  },
  {
   "cell_type": "markdown",
   "id": "deb499eb-93a4-4593-ac29-1ce382405576",
   "metadata": {},
   "source": [
    "Here is a formatted print statement after a trditional statement, notice the pattern! `:.2f` provides 2 decimals of floating point."
   ]
  },
  {
   "cell_type": "code",
   "execution_count": 8,
   "id": "922652d9-6d83-4b64-87db-66a57585a8e6",
   "metadata": {},
   "outputs": [
    {
     "name": "stdout",
     "output_type": "stream",
     "text": [
      "468.842388\n"
     ]
    }
   ],
   "source": [
    "print(weight_Earth_N)"
   ]
  },
  {
   "cell_type": "code",
   "execution_count": 9,
   "id": "837cb6d9-42c3-4d3e-a743-297c4667b17d",
   "metadata": {},
   "outputs": [
    {
     "name": "stdout",
     "output_type": "stream",
     "text": [
      "Weight on Earth in Newtons: 468.84\n"
     ]
    }
   ],
   "source": [
    "print(f'Weight on Earth in Newtons: {weight_Earth_N:.2f}')"
   ]
  },
  {
   "cell_type": "markdown",
   "id": "1ff1ee50-a864-49bc-bc07-f310eca0a4de",
   "metadata": {},
   "source": [
    "Where did this force come from?\n",
    "\n",
    "$$ force = m \\cdot a $$\n",
    "\n",
    "$$ weight = m \\cdot g $$\n",
    "$$ g_{Earth} = 9.81$$\n",
    "$$ g_{Moon} = 1.62$$\n",
    "$$ g_{Mercury} = 3.70$$\n",
    "$$ g_{Jupyter} = 24.79$$"
   ]
  },
  {
   "cell_type": "markdown",
   "id": "25a059f0-d45c-460c-871e-a9e33caa9f30",
   "metadata": {},
   "source": [
    "Mass (constant across planets and Moon)\n",
    "\n",
    "$$m = \\frac{force}{a}$$"
   ]
  },
  {
   "cell_type": "code",
   "execution_count": 10,
   "id": "d8054a3d-ad39-4cdb-9da4-c1574b4cb4cf",
   "metadata": {},
   "outputs": [],
   "source": [
    "g_Earth = 9.81"
   ]
  },
  {
   "cell_type": "code",
   "execution_count": 11,
   "id": "7bdf2b57-3ff6-4fd7-a66c-58af6df027c8",
   "metadata": {},
   "outputs": [],
   "source": [
    "mass_kg = weight_Earth_N/g_Earth"
   ]
  },
  {
   "cell_type": "code",
   "execution_count": 12,
   "id": "afb9b96e-1504-46b1-9725-12b1f6adda50",
   "metadata": {},
   "outputs": [
    {
     "name": "stdout",
     "output_type": "stream",
     "text": [
      "Mass in kg: 47.79\n"
     ]
    }
   ],
   "source": [
    "print(f'Mass in kg: {mass_kg:.2f}')"
   ]
  },
  {
   "cell_type": "code",
   "execution_count": 13,
   "id": "ea0e48f4-b914-4bd9-af36-9c760d04ad0e",
   "metadata": {},
   "outputs": [],
   "source": [
    "g_Jupyter = 24.79"
   ]
  },
  {
   "cell_type": "code",
   "execution_count": 14,
   "id": "ee497af9-cdc7-4787-91ac-3123eeb321a6",
   "metadata": {},
   "outputs": [],
   "source": [
    "weight_Jupyter_N = mass_kg * g_Jupyter"
   ]
  },
  {
   "cell_type": "code",
   "execution_count": 15,
   "id": "83c697f6-fcd8-41e1-b22c-f7359790235c",
   "metadata": {},
   "outputs": [
    {
     "name": "stdout",
     "output_type": "stream",
     "text": [
      "Weight on Jupyter in Newtons: 1184.77\n"
     ]
    }
   ],
   "source": [
    "print(f'Weight on Jupyter in Newtons: {weight_Jupyter_N:.2f}')"
   ]
  },
  {
   "cell_type": "code",
   "execution_count": 16,
   "id": "467710a4-4bc9-4aa1-bad0-037a1b44b9e5",
   "metadata": {},
   "outputs": [],
   "source": [
    "weight_Jupyter_lb = weight_Jupyter_N / lb_to_N"
   ]
  },
  {
   "cell_type": "code",
   "execution_count": 17,
   "id": "b181b546-eb6c-48cd-9834-69728eae6c36",
   "metadata": {},
   "outputs": [
    {
     "name": "stdout",
     "output_type": "stream",
     "text": [
      "Weight on Jupyter in Pounds: 266.35\n"
     ]
    }
   ],
   "source": [
    "print(f'Weight on Jupyter in Pounds: {weight_Jupyter_lb:.2f}')"
   ]
  },
  {
   "cell_type": "code",
   "execution_count": null,
   "id": "2ead61bb-113a-4ce4-abd4-4a89a4518624",
   "metadata": {},
   "outputs": [],
   "source": []
  }
 ],
 "metadata": {
  "kernelspec": {
   "display_name": "Python 3 (ipykernel)",
   "language": "python",
   "name": "python3"
  },
  "language_info": {
   "codemirror_mode": {
    "name": "ipython",
    "version": 3
   },
   "file_extension": ".py",
   "mimetype": "text/x-python",
   "name": "python",
   "nbconvert_exporter": "python",
   "pygments_lexer": "ipython3",
   "version": "3.12.3"
  }
 },
 "nbformat": 4,
 "nbformat_minor": 5
}
