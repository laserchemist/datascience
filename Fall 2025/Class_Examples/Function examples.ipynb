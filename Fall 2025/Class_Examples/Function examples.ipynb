{
 "cells": [
  {
   "cell_type": "markdown",
   "metadata": {},
   "source": [
    "## Learning Goals for Lab 04\n",
    "Functions and Visualization\n",
    "- Functions\n",
    "    - customize Python\n",
    "    - syntax\n",
    "        - def\n",
    "        - return\n",
    "     - arguments\n",
    "     - local variables\n",
    "- Visualization\n",
    "    - datascience Table\n",
    "        - plot\n",
    "        - scatter\n",
    "        - hist\n",
    "     - arrays\n",
    "         - from data columns\n",
    "         - matplotlib\n",
    "         - plotly"
   ]
  },
  {
   "cell_type": "markdown",
   "metadata": {},
   "source": [
    "# Functions\n",
    "Thousands of functions are built into the Python computer language and still others can be loaded by using the `import` Python command. This is very powerful and provides almost limitless capability to the Python language. However, there are many times when a custom function may be needed and this is a very powerful way to automate repetitive data handling and analysis tasks in a reproducible manner. Functions take arguments given in paretheses *()* directly following the name. For instance below is the built-in Python print function:"
   ]
  },
  {
   "cell_type": "code",
   "execution_count": null,
   "metadata": {},
   "outputs": [],
   "source": [
    "dogname = \"Phineas\" # Define `dogname` variable\n",
    "print(dogname)      # `dogname` is the argument for the function, print"
   ]
  },
  {
   "cell_type": "markdown",
   "metadata": {},
   "source": [
    "Now let's give this a try by learning how to write our own functions."
   ]
  },
  {
   "cell_type": "code",
   "execution_count": null,
   "metadata": {},
   "outputs": [],
   "source": [
    "def double(xtra):\n",
    "    \"\"\" Doubles my first function \"\"\"\n",
    "    return 2*xtra"
   ]
  },
  {
   "cell_type": "code",
   "execution_count": null,
   "metadata": {},
   "outputs": [],
   "source": [
    "def triple(x):\n",
    "    \"\"\" triples \"\"\"\n",
    "    return 2*x"
   ]
  },
  {
   "cell_type": "code",
   "execution_count": null,
   "metadata": {},
   "outputs": [],
   "source": [
    "x=triple(6)*double(2)\n",
    "x"
   ]
  },
  {
   "cell_type": "code",
   "execution_count": null,
   "metadata": {},
   "outputs": [],
   "source": [
    "double(x)"
   ]
  },
  {
   "cell_type": "code",
   "execution_count": null,
   "metadata": {},
   "outputs": [],
   "source": [
    "type(double)"
   ]
  },
  {
   "cell_type": "code",
   "execution_count": null,
   "metadata": {},
   "outputs": [],
   "source": [
    "?double"
   ]
  },
  {
   "cell_type": "code",
   "execution_count": null,
   "metadata": {},
   "outputs": [],
   "source": [
    "double(10)"
   ]
  },
  {
   "cell_type": "markdown",
   "metadata": {},
   "source": [
    "## Defining functions\n",
    "\n",
    "Here is a very simple function that converts a proportion to a percentage by multiplying it by 100.  For example, the value of `to_percentage(.5)` should be the number 50.  (No percent sign.)\n",
    "\n",
    "A function definition has a few parts.\n",
    "\n",
    "##### `def`\n",
    "It always starts with `def` (short for **def**ine):\n",
    "```\n",
    "    def\n",
    "```\n",
    "\n",
    "##### Name\n",
    "Next comes the name of the function.  Let's call our function `to_percentage`.\n",
    "```\n",
    "    \n",
    "    def to_percentage\n",
    "```\n",
    "##### Signature\n",
    "Next comes something called the *signature* of the function.  This tells Python how many arguments your function should have, and what names you'll use to refer to those arguments in the function's code.  `to_percentage` should take one argument, and we'll call that argument `proportion` since it should be a proportion.\n",
    "```\n",
    "    def to_percentage(proportion)\n",
    "```\n",
    "\n",
    "We put a colon after the signature to tell Python it's over.\n",
    "```\n",
    "\n",
    "    def to_percentage(proportion):\n",
    "```\n",
    "\n",
    "##### Documentation\n",
    "Functions can do complicated things, so you should write an explanation of what your function does.  For small functions, this is less important, but it's a good habit to learn from the start.  Conventionally, Python functions are documented by writing a triple-quoted string:\n",
    "```\n",
    "    def to_percentage(proportion):\n",
    "        \"\"\"Converts a proportion to a percentage.\"\"\"\n",
    "```\n",
    "    \n",
    "    \n",
    "##### Body\n",
    "Now we start writing code that runs when the function is called.  This is called the *body* of the function.  We can write anything we could write anywhere else.  First let's give a name to the number we multiply a proportion by to get a percentage.\n",
    "```\n",
    "    def to_percentage(proportion):\n",
    "        \"\"\"Converts a proportion to a percentage.\"\"\"\n",
    "        factor = 100\n",
    "```\n",
    "\n",
    "##### `return`\n",
    "The special instruction `return` in a function's body tells Python to make the value of the function call equal to whatever comes right after `return`.  We want the value of `to_percentage(.5)` to be the proportion .5 times the factor 100, so we write:\n",
    "```\n",
    "    def to_percentage(proportion):\n",
    "        \"\"\"Converts a proportion to a percentage.\"\"\"\n",
    "        factor = 100\n",
    "        return proportion * factor\n",
    "```"
   ]
  },
  {
   "cell_type": "code",
   "execution_count": 1,
   "metadata": {},
   "outputs": [],
   "source": [
    "def to_percentage(proportion):\n",
    "        \"\"\"Converts a proportion to a percentage.\"\"\"\n",
    "        factor = 100\n",
    "        return proportion * factor"
   ]
  },
  {
   "cell_type": "code",
   "execution_count": 2,
   "metadata": {},
   "outputs": [
    {
     "name": "stdout",
     "output_type": "stream",
     "text": [
      "45.0 %\n"
     ]
    }
   ],
   "source": [
    "print(to_percentage(0.45),\"%\")"
   ]
  },
  {
   "cell_type": "markdown",
   "metadata": {},
   "source": [
    "#### For [unicode emojis](https://unicode.org/emoji/charts-14.0/full-emoji-list.html)\n",
    "(https://unicode.org/emoji/charts-14.0/full-emoji-list.html)[https://unicode.org/emoji/charts-14.0/full-emoji-list.html]"
   ]
  },
  {
   "cell_type": "code",
   "execution_count": null,
   "metadata": {},
   "outputs": [],
   "source": [
    "# CLDR\n",
    "print(\"\\N{grinning face with smiling eyes}\")"
   ]
  },
  {
   "cell_type": "code",
   "execution_count": null,
   "metadata": {},
   "outputs": [],
   "source": [
    "import numpy as np\n",
    "def happy_print(n):\n",
    "    \"\"\" Prints happy n times \"\"\"\n",
    "    for i in np.arange(n):\n",
    "        # print(i+1)\n",
    "        print(i+1,\"\\N{grinning face with smiling eyes}\")\n",
    "    return n "
   ]
  },
  {
   "cell_type": "code",
   "execution_count": null,
   "metadata": {},
   "outputs": [],
   "source": [
    "happy_print(60)"
   ]
  },
  {
   "cell_type": "markdown",
   "metadata": {},
   "source": [
    "#### Now try more complex function"
   ]
  },
  {
   "cell_type": "code",
   "execution_count": 4,
   "metadata": {},
   "outputs": [],
   "source": [
    "import numpy as np\n",
    "# Compute the ratio as a percentage\n",
    "\n",
    "def per_change(x,y):\n",
    "    \"\"\" Takes ratio of x to y and\n",
    "    converts to a % change by subtracting 1\n",
    "     >>> per_change(20, 16)\n",
    "    0.2500\n",
    "    \n",
    "    \"\"\"\n",
    "    return np.round(x/y-1,2)"
   ]
  },
  {
   "cell_type": "code",
   "execution_count": 8,
   "metadata": {},
   "outputs": [
    {
     "name": "stdout",
     "output_type": "stream",
     "text": [
      "0.05\n"
     ]
    }
   ],
   "source": [
    "print(f'{per_change(3.89,3.69):.2f}')"
   ]
  },
  {
   "cell_type": "markdown",
   "metadata": {},
   "source": [
    "#### Now use apply to compute new Table column"
   ]
  },
  {
   "cell_type": "code",
   "execution_count": 3,
   "metadata": {},
   "outputs": [
    {
     "data": {
      "text/html": [
       "<table border=\"1\" class=\"dataframe\">\n",
       "    <thead>\n",
       "        <tr>\n",
       "            <th>GENDER</th> <th>AGE</th> <th>2010</th> <th>2020</th>\n",
       "        </tr>\n",
       "    </thead>\n",
       "    <tbody>\n",
       "        <tr>\n",
       "            <td>0     </td> <td>0   </td> <td>3951495</td> <td>3735010</td>\n",
       "        </tr>\n",
       "        <tr>\n",
       "            <td>0     </td> <td>1   </td> <td>3957904</td> <td>3773884</td>\n",
       "        </tr>\n",
       "        <tr>\n",
       "            <td>0     </td> <td>2   </td> <td>4090799</td> <td>3853025</td>\n",
       "        </tr>\n",
       "        <tr>\n",
       "            <td>0     </td> <td>3   </td> <td>4111869</td> <td>3921526</td>\n",
       "        </tr>\n",
       "        <tr>\n",
       "            <td>0     </td> <td>4   </td> <td>4077511</td> <td>4017847</td>\n",
       "        </tr>\n",
       "        <tr>\n",
       "            <td>0     </td> <td>5   </td> <td>4064653</td> <td>4054336</td>\n",
       "        </tr>\n",
       "        <tr>\n",
       "            <td>0     </td> <td>6   </td> <td>4073031</td> <td>4040169</td>\n",
       "        </tr>\n",
       "        <tr>\n",
       "            <td>0     </td> <td>7   </td> <td>4043100</td> <td>4029753</td>\n",
       "        </tr>\n",
       "        <tr>\n",
       "            <td>0     </td> <td>8   </td> <td>4025624</td> <td>4034785</td>\n",
       "        </tr>\n",
       "        <tr>\n",
       "            <td>0     </td> <td>9   </td> <td>4125413</td> <td>4078668</td>\n",
       "        </tr>\n",
       "    </tbody>\n",
       "</table>\n",
       "<p>... (296 rows omitted)</p>"
      ],
      "text/plain": [
       "GENDER | AGE  | 2010    | 2020\n",
       "0      | 0    | 3951495 | 3735010\n",
       "0      | 1    | 3957904 | 3773884\n",
       "0      | 2    | 4090799 | 3853025\n",
       "0      | 3    | 4111869 | 3921526\n",
       "0      | 4    | 4077511 | 4017847\n",
       "0      | 5    | 4064653 | 4054336\n",
       "0      | 6    | 4073031 | 4040169\n",
       "0      | 7    | 4043100 | 4029753\n",
       "0      | 8    | 4025624 | 4034785\n",
       "0      | 9    | 4125413 | 4078668\n",
       "... (296 rows omitted)"
      ]
     },
     "execution_count": 3,
     "metadata": {},
     "output_type": "execute_result"
    }
   ],
   "source": [
    "from datascience import *\n",
    "data = 'http://www2.census.gov/programs-surveys/popest/datasets/2010-2020/national/asrh/nc-est2020-agesex-res.csv'\n",
    "full_census_table = Table.read_table(data)\n",
    "partial_census_table = full_census_table.select('SEX', 'AGE', 'POPESTIMATE2010', 'POPESTIMATE2020')\n",
    "partial_census_table = partial_census_table.relabeled('SEX', 'GENDER').relabeled('POPESTIMATE2010', '2010').relabeled('POPESTIMATE2020', '2020')\n",
    "partial_census_table"
   ]
  },
  {
   "cell_type": "code",
   "execution_count": 10,
   "metadata": {},
   "outputs": [],
   "source": [
    "census_perchange = partial_census_table.with_columns('% change', per_change(partial_census_table.column('2020'),partial_census_table.column('2010')))"
   ]
  },
  {
   "cell_type": "code",
   "execution_count": 11,
   "metadata": {},
   "outputs": [
    {
     "data": {
      "text/html": [
       "<table border=\"1\" class=\"dataframe\">\n",
       "    <thead>\n",
       "        <tr>\n",
       "            <th>GENDER</th> <th>AGE</th> <th>2010</th> <th>2020</th> <th>% change</th>\n",
       "        </tr>\n",
       "    </thead>\n",
       "    <tbody>\n",
       "        <tr>\n",
       "            <td>0     </td> <td>0   </td> <td>3951495</td> <td>3735010</td> <td>-0.05   </td>\n",
       "        </tr>\n",
       "        <tr>\n",
       "            <td>0     </td> <td>1   </td> <td>3957904</td> <td>3773884</td> <td>-0.05   </td>\n",
       "        </tr>\n",
       "        <tr>\n",
       "            <td>0     </td> <td>2   </td> <td>4090799</td> <td>3853025</td> <td>-0.06   </td>\n",
       "        </tr>\n",
       "        <tr>\n",
       "            <td>0     </td> <td>3   </td> <td>4111869</td> <td>3921526</td> <td>-0.05   </td>\n",
       "        </tr>\n",
       "        <tr>\n",
       "            <td>0     </td> <td>4   </td> <td>4077511</td> <td>4017847</td> <td>-0.01   </td>\n",
       "        </tr>\n",
       "        <tr>\n",
       "            <td>0     </td> <td>5   </td> <td>4064653</td> <td>4054336</td> <td>-0      </td>\n",
       "        </tr>\n",
       "        <tr>\n",
       "            <td>0     </td> <td>6   </td> <td>4073031</td> <td>4040169</td> <td>-0.01   </td>\n",
       "        </tr>\n",
       "        <tr>\n",
       "            <td>0     </td> <td>7   </td> <td>4043100</td> <td>4029753</td> <td>-0      </td>\n",
       "        </tr>\n",
       "        <tr>\n",
       "            <td>0     </td> <td>8   </td> <td>4025624</td> <td>4034785</td> <td>0       </td>\n",
       "        </tr>\n",
       "        <tr>\n",
       "            <td>0     </td> <td>9   </td> <td>4125413</td> <td>4078668</td> <td>-0.01   </td>\n",
       "        </tr>\n",
       "    </tbody>\n",
       "</table>\n",
       "<p>... (296 rows omitted)</p>"
      ],
      "text/plain": [
       "GENDER | AGE  | 2010    | 2020    | % change\n",
       "0      | 0    | 3951495 | 3735010 | -0.05\n",
       "0      | 1    | 3957904 | 3773884 | -0.05\n",
       "0      | 2    | 4090799 | 3853025 | -0.06\n",
       "0      | 3    | 4111869 | 3921526 | -0.05\n",
       "0      | 4    | 4077511 | 4017847 | -0.01\n",
       "0      | 5    | 4064653 | 4054336 | -0\n",
       "0      | 6    | 4073031 | 4040169 | -0.01\n",
       "0      | 7    | 4043100 | 4029753 | -0\n",
       "0      | 8    | 4025624 | 4034785 | 0\n",
       "0      | 9    | 4125413 | 4078668 | -0.01\n",
       "... (296 rows omitted)"
      ]
     },
     "execution_count": 11,
     "metadata": {},
     "output_type": "execute_result"
    }
   ],
   "source": [
    "census_perchange"
   ]
  },
  {
   "cell_type": "code",
   "execution_count": 13,
   "metadata": {},
   "outputs": [],
   "source": [
    "from datascience import *\n",
    "import matplotlib.pyplot as plt\n",
    "%matplotlib inline"
   ]
  },
  {
   "cell_type": "code",
   "execution_count": 20,
   "metadata": {},
   "outputs": [
    {
     "data": {
      "text/plain": [
       "5"
      ]
     },
     "execution_count": 20,
     "metadata": {},
     "output_type": "execute_result"
    }
   ],
   "source": [
    "len(census_perchange)"
   ]
  },
  {
   "cell_type": "code",
   "execution_count": 22,
   "metadata": {},
   "outputs": [
    {
     "data": {
      "text/plain": [
       "244.8"
      ]
     },
     "execution_count": 22,
     "metadata": {},
     "output_type": "execute_result"
    }
   ],
   "source": [
    ".8*census_perchange.num_rows"
   ]
  },
  {
   "cell_type": "code",
   "execution_count": 24,
   "metadata": {},
   "outputs": [
    {
     "data": {
      "text/plain": [
       "(GENDER | AGE  | 2010    | 2020    | % change\n",
       " 1      | 43   | 2030710 | 1967767 | -0.03\n",
       " 1      | 29   | 2112185 | 2458730 | 0.16\n",
       " 2      | 32   | 1981289 | 2228352 | 0.12\n",
       " 0      | 44   | 4177954 | 3846684 | -0.08\n",
       " 1      | 57   | 1909846 | 2104702 | 0.1\n",
       " 1      | 63   | 1753818 | 1960712 | 0.12\n",
       " 1      | 44   | 2074290 | 1907940 | -0.08\n",
       " 2      | 4    | 1993216 | 1964865 | -0.01\n",
       " 1      | 72   | 862491  | 1398098 | 0.62\n",
       " 1      | 81   | 496003  | 604941  | 0.22\n",
       " ... (234 rows omitted),\n",
       " GENDER | AGE  | 2010    | 2020    | % change\n",
       " 1      | 1    | 2020320 | 1926654 | -0.05\n",
       " 0      | 12   | 4113297 | 4200977 | 0.02\n",
       " 2      | 20   | 2236473 | 2123140 | -0.05\n",
       " 2      | 83   | 658356  | 676482  | 0.03\n",
       " 0      | 49   | 4598599 | 4265569 | -0.07\n",
       " 2      | 16   | 2098173 | 2051722 | -0.02\n",
       " 1      | 20   | 2331674 | 2221432 | -0.05\n",
       " 0      | 15   | 4230914 | 4175920 | -0.01\n",
       " 2      | 68   | 1254057 | 1813435 | 0.45\n",
       " 2      | 14   | 2022654 | 2047865 | 0.01\n",
       " ... (52 rows omitted))"
      ]
     },
     "execution_count": 24,
     "metadata": {},
     "output_type": "execute_result"
    }
   ],
   "source": [
    "census_perchange.split(244)"
   ]
  },
  {
   "cell_type": "code",
   "execution_count": 19,
   "metadata": {},
   "outputs": [
    {
     "data": {
      "image/png": "[encoded data removed]",
      "text/plain": [
       "<Figure size 500x500 with 1 Axes>"
      ]
     },
     "metadata": {},
     "output_type": "display_data"
    }
   ],
   "source": [
    "census_perchange.where('AGE',are.below(99)).where('GENDER',0).scatter('AGE','% change')"
   ]
  },
  {
   "cell_type": "code",
   "execution_count": null,
   "metadata": {},
   "outputs": [],
   "source": [
    "census=partial_census_table.where(0,0).where('AGE',are.below(99))\n",
    "census=census.with_columns(\n",
    "    \"% change\",census.apply(per_change,'2020','2010')\n",
    ")\n",
    "census.set_format('% change',PercentFormatter)"
   ]
  },
  {
   "cell_type": "code",
   "execution_count": null,
   "metadata": {},
   "outputs": [],
   "source": []
  },
  {
   "cell_type": "markdown",
   "metadata": {},
   "source": [
    "Need to import these to plot"
   ]
  },
  {
   "cell_type": "code",
   "execution_count": null,
   "metadata": {},
   "outputs": [],
   "source": [
    "import numpy as np\n",
    "%matplotlib inline\n",
    "import matplotlib.pyplot as plt\n",
    "plt.style.use('fivethirtyeight')\n",
    "# Fix for datascience plots\n",
    "import collections as collections\n",
    "import collections.abc as abc\n",
    "collections.Iterable = abc.Iterable"
   ]
  },
  {
   "cell_type": "code",
   "execution_count": null,
   "metadata": {},
   "outputs": [],
   "source": [
    "census.select('AGE','% change').plot('AGE')"
   ]
  },
  {
   "cell_type": "markdown",
   "metadata": {},
   "source": [
    "Select proper columns"
   ]
  },
  {
   "cell_type": "code",
   "execution_count": null,
   "metadata": {},
   "outputs": [],
   "source": [
    "census.select('AGE','2010','2020').plot('AGE')"
   ]
  },
  {
   "cell_type": "markdown",
   "metadata": {},
   "source": [
    "### scatter depicts relationship between two variables"
   ]
  },
  {
   "cell_type": "code",
   "execution_count": null,
   "metadata": {},
   "outputs": [],
   "source": [
    "census.scatter('2010','2020')"
   ]
  },
  {
   "cell_type": "code",
   "execution_count": null,
   "metadata": {},
   "outputs": [],
   "source": [
    "import plotly.express as px\n",
    "\n",
    "series1 = census.column('2010')\n",
    "age = census.column('AGE')\n",
    "fig = px.line(x=age, y=[series1])\n",
    "\n",
    "fig.show()"
   ]
  },
  {
   "cell_type": "code",
   "execution_count": null,
   "metadata": {},
   "outputs": [],
   "source": [
    "census.hist('% change')"
   ]
  },
  {
   "cell_type": "code",
   "execution_count": null,
   "metadata": {},
   "outputs": [],
   "source": []
  },
  {
   "cell_type": "code",
   "execution_count": null,
   "metadata": {},
   "outputs": [],
   "source": []
  }
 ],
 "metadata": {
  "kernelspec": {
   "display_name": "Python 3 (ipykernel)",
   "language": "python",
   "name": "python3"
  },
  "language_info": {
   "codemirror_mode": {
    "name": "ipython",
    "version": 3
   },
   "file_extension": ".py",
   "mimetype": "text/x-python",
   "name": "python",
   "nbconvert_exporter": "python",
   "pygments_lexer": "ipython3",
   "version": "3.9.19"
  }
 },
 "nbformat": 4,
 "nbformat_minor": 4
}
