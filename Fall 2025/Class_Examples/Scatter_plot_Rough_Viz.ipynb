{
 "cells": [
  {
   "cell_type": "markdown",
   "id": "270326cb-78f6-4b41-9c51-d17d2de19ac1",
   "metadata": {},
   "source": [
    "### Rough Viz Example Scatter Plot"
   ]
  },
  {
   "cell_type": "code",
   "execution_count": 5,
   "id": "3aff056b-9f3f-4d64-8c98-8002f51195b0",
   "metadata": {},
   "outputs": [],
   "source": [
    "from gofer.ok import check\n",
    "import numpy as np\n",
    "from datascience import *\n",
    "import pandas as pd\n",
    "import matplotlib\n",
    "from matplotlib import patches\n",
    "%matplotlib inline\n",
    "import matplotlib.pyplot as plt\n",
    "import seaborn as sns\n",
    "import warnings\n",
    "warnings.simplefilter('ignore', FutureWarning)\n",
    "plt.style.use('fivethirtyeight')"
   ]
  },
  {
   "cell_type": "code",
   "execution_count": 6,
   "id": "8e668db8-7725-477d-88f2-f2bdb5417acf",
   "metadata": {},
   "outputs": [
    {
     "name": "stdout",
     "output_type": "stream",
     "text": [
      "Requirement already satisfied: py-roughviz in /Users/jmsmith1/anaconda3/lib/python3.9/site-packages (0.5.1)\n",
      "Requirement already satisfied: ipython in /Users/jmsmith1/anaconda3/lib/python3.9/site-packages (from py-roughviz) (8.3.0)\n",
      "Requirement already satisfied: jinja2 in /Users/jmsmith1/anaconda3/lib/python3.9/site-packages (from py-roughviz) (3.1.2)\n",
      "Requirement already satisfied: pandas in /Users/jmsmith1/anaconda3/lib/python3.9/site-packages (from py-roughviz) (1.4.2)\n",
      "Requirement already satisfied: backcall in /Users/jmsmith1/anaconda3/lib/python3.9/site-packages (from ipython->py-roughviz) (0.2.0)\n",
      "Requirement already satisfied: appnope in /Users/jmsmith1/anaconda3/lib/python3.9/site-packages (from ipython->py-roughviz) (0.1.2)\n",
      "Requirement already satisfied: traitlets>=5 in /Users/jmsmith1/anaconda3/lib/python3.9/site-packages (from ipython->py-roughviz) (5.13.0)\n",
      "Requirement already satisfied: prompt-toolkit!=3.0.0,!=3.0.1,<3.1.0,>=2.0.0 in /Users/jmsmith1/anaconda3/lib/python3.9/site-packages (from ipython->py-roughviz) (3.0.20)\n",
      "Requirement already satisfied: stack-data in /Users/jmsmith1/anaconda3/lib/python3.9/site-packages (from ipython->py-roughviz) (0.2.0)\n",
      "Requirement already satisfied: decorator in /Users/jmsmith1/anaconda3/lib/python3.9/site-packages (from ipython->py-roughviz) (5.1.1)\n",
      "Requirement already satisfied: pickleshare in /Users/jmsmith1/anaconda3/lib/python3.9/site-packages (from ipython->py-roughviz) (0.7.5)\n",
      "Requirement already satisfied: pexpect>4.3 in /Users/jmsmith1/anaconda3/lib/python3.9/site-packages (from ipython->py-roughviz) (4.8.0)\n",
      "Requirement already satisfied: setuptools>=18.5 in /Users/jmsmith1/anaconda3/lib/python3.9/site-packages (from ipython->py-roughviz) (61.2.0)\n",
      "Requirement already satisfied: pygments>=2.4.0 in /Users/jmsmith1/anaconda3/lib/python3.9/site-packages (from ipython->py-roughviz) (2.11.2)\n",
      "Requirement already satisfied: jedi>=0.16 in /Users/jmsmith1/anaconda3/lib/python3.9/site-packages (from ipython->py-roughviz) (0.18.1)\n",
      "Requirement already satisfied: matplotlib-inline in /Users/jmsmith1/anaconda3/lib/python3.9/site-packages (from ipython->py-roughviz) (0.1.2)\n",
      "Requirement already satisfied: parso<0.9.0,>=0.8.0 in /Users/jmsmith1/anaconda3/lib/python3.9/site-packages (from jedi>=0.16->ipython->py-roughviz) (0.8.3)\n",
      "Requirement already satisfied: ptyprocess>=0.5 in /Users/jmsmith1/anaconda3/lib/python3.9/site-packages (from pexpect>4.3->ipython->py-roughviz) (0.7.0)\n",
      "Requirement already satisfied: wcwidth in /Users/jmsmith1/anaconda3/lib/python3.9/site-packages (from prompt-toolkit!=3.0.0,!=3.0.1,<3.1.0,>=2.0.0->ipython->py-roughviz) (0.2.5)\n",
      "Requirement already satisfied: MarkupSafe>=2.0 in /Users/jmsmith1/anaconda3/lib/python3.9/site-packages (from jinja2->py-roughviz) (2.0.1)\n",
      "Requirement already satisfied: python-dateutil>=2.8.1 in /Users/jmsmith1/anaconda3/lib/python3.9/site-packages (from pandas->py-roughviz) (2.8.2)\n",
      "Requirement already satisfied: pytz>=2020.1 in /Users/jmsmith1/anaconda3/lib/python3.9/site-packages (from pandas->py-roughviz) (2021.3)\n",
      "Requirement already satisfied: numpy>=1.20.0 in /Users/jmsmith1/anaconda3/lib/python3.9/site-packages (from pandas->py-roughviz) (1.26.1)\n",
      "Requirement already satisfied: six>=1.5 in /Users/jmsmith1/anaconda3/lib/python3.9/site-packages (from python-dateutil>=2.8.1->pandas->py-roughviz) (1.16.0)\n",
      "Requirement already satisfied: pure-eval in /Users/jmsmith1/anaconda3/lib/python3.9/site-packages (from stack-data->ipython->py-roughviz) (0.2.2)\n",
      "Requirement already satisfied: executing in /Users/jmsmith1/anaconda3/lib/python3.9/site-packages (from stack-data->ipython->py-roughviz) (0.8.3)\n",
      "Requirement already satisfied: asttokens in /Users/jmsmith1/anaconda3/lib/python3.9/site-packages (from stack-data->ipython->py-roughviz) (2.0.5)\n"
     ]
    }
   ],
   "source": [
    "!pip install py-roughviz\n",
    "from roughviz.charts.scatter import Scatter"
   ]
  },
  {
   "cell_type": "code",
   "execution_count": 8,
   "id": "60b6f70c-fe7a-4277-ae6a-4f7283cf73ca",
   "metadata": {},
   "outputs": [
    {
     "data": {
      "image/png": "[encoded data removed]",
      "text/plain": [
       "<Figure size 432x288 with 1 Axes>"
      ]
     },
     "metadata": {},
     "output_type": "display_data"
    },
    {
     "data": {
      "text/html": [
       "<table border=\"1\" class=\"dataframe\">\n",
       "    <thead>\n",
       "        <tr>\n",
       "            <th>Speed (parsecs/year)</th> <th>Distance (million parsecs)</th>\n",
       "        </tr>\n",
       "    </thead>\n",
       "    <tbody>\n",
       "        <tr>\n",
       "            <td>0.00873361          </td> <td>117.305                   </td>\n",
       "        </tr>\n",
       "        <tr>\n",
       "            <td>0.0153418           </td> <td>217.007                   </td>\n",
       "        </tr>\n",
       "        <tr>\n",
       "            <td>0.0162256           </td> <td>230.961                   </td>\n",
       "        </tr>\n",
       "        <tr>\n",
       "            <td>0.00528131          </td> <td>85.2853                   </td>\n",
       "        </tr>\n",
       "        <tr>\n",
       "            <td>0.0129474           </td> <td>185.051                   </td>\n",
       "        </tr>\n",
       "        <tr>\n",
       "            <td>0.0138862           </td> <td>212.841                   </td>\n",
       "        </tr>\n",
       "        <tr>\n",
       "            <td>0.0111837           </td> <td>151.728                   </td>\n",
       "        </tr>\n",
       "        <tr>\n",
       "            <td>0.0060085           </td> <td>82.6121                   </td>\n",
       "        </tr>\n",
       "        <tr>\n",
       "            <td>0.00838228          </td> <td>104.029                   </td>\n",
       "        </tr>\n",
       "        <tr>\n",
       "            <td>0.00812078          </td> <td>124.778                   </td>\n",
       "        </tr>\n",
       "    </tbody>\n",
       "</table>\n",
       "<p>... (146 rows omitted)</p>"
      ],
      "text/plain": [
       "Speed (parsecs/year) | Distance (million parsecs)\n",
       "0.00873361           | 117.305\n",
       "0.0153418            | 217.007\n",
       "0.0162256            | 230.961\n",
       "0.00528131           | 85.2853\n",
       "0.0129474            | 185.051\n",
       "0.0138862            | 212.841\n",
       "0.0111837            | 151.728\n",
       "0.0060085            | 82.6121\n",
       "0.00838228           | 104.029\n",
       "0.00812078           | 124.778\n",
       "... (146 rows omitted)"
      ]
     },
     "execution_count": 8,
     "metadata": {},
     "output_type": "execute_result"
    }
   ],
   "source": [
    "# Just run this cell.\n",
    "close_novas = Table.read_table(\"data/close_novas.csv\")\n",
    "close_novae = close_novas\n",
    "\n",
    "\n",
    "xn,yn = close_novae.column(\"Speed (parsecs/year)\"),close_novae.column(\"Distance (million parsecs)\")\n",
    "sns.regplot(x=xn, y=yn)\n",
    "plt.show()\n",
    "\n",
    "close_novas"
   ]
  },
  {
   "cell_type": "code",
   "execution_count": 10,
   "id": "7140f4d6-c65f-4870-b1da-146a856a1298",
   "metadata": {},
   "outputs": [
    {
     "data": {
      "text/html": [
       "<html>\n",
       "<body>\n",
       "\n",
       "<div id=c6dd0cd273344fffbcebecc2f4a58fa3></div>\n",
       "\n",
       "<script src=\"https://requirejs.org/docs/release/2.3.6/minified/require.js\"></script>\n",
       "<script>\n",
       "require.config({paths: {roughViz: \"https://unpkg.com/rough-viz@1.0.5/dist/roughviz.min\"}});\n",
       "require([\"roughViz\"], function(roughViz) {\n",
       "\n",
       "new roughViz.Scatter(\n",
       "  {\"x\": \"x\", \"y\": \"y\", \"data\": {\"x\": [0.0087336121322099, 0.0153417632663642, 0.0162256092287751, 0.0052813091898898, 0.0129474389630589, 0.0138861612443292, 0.0111837324692158, 0.0060084970576798, 0.0083822810628645, 0.0081207754763447, 0.0153046681011017, 0.0093823176668826, 0.005011109538976, 0.0047323314011665, 0.0093593247958522, 0.0075186688269604, 0.0073433098639014, 0.0079825116785482, 0.0150060673493195, 0.0074539822164614, 0.0046494650939727, 0.0109507380427738, 0.0149662130395333, 0.0067384458832419, 0.0110365780946208, 0.0050035553078418, 0.0051289430978613, 0.0084307193778353, 0.0066811151782242, 0.0050431030460142, 0.0071149140116655, 0.0111766813220998, 0.0059057955670771, 0.0053971932598833, 0.0096655898379779, 0.0072154695009721, 0.0051329285288399, 0.0164659613739468, 0.0052089582890473, 0.0085426180168502, 0.0052647543227478, 0.0091833526895657, 0.0050765193519118, 0.004598574206092, 0.016677495787427, 0.0120482644199611, 0.017873125081011, 0.0094730628645495, 0.0124468075178224, 0.0046598885288399, 0.006867204147764, 0.0049051458198314, 0.0110978924173687, 0.0053036889176928, 0.0095650343486714, 0.0067752326636422, 0.0049051458198314, 0.0076336331821127, 0.0092891198963058, 0.0086759766688269, 0.0046598885288399, 0.0105767206740116, 0.0110365780946208, 0.0076029760207388, 0.0089518911211924, 0.0049971173039533, 0.005732889176928, 0.0059781464679196, 0.0078482333117303, 0.01033146338302, 0.0167388101101749, 0.0073577187297472, 0.0103008062216461, 0.0104540920285158, 0.0080015191186001, 0.0064686610499027, 0.0098409488010369, 0.0067752326636422, 0.0102394918988982, 0.0104540920285158, 0.0129066649384316, 0.0176585249513933, 0.0062847180816591, 0.0123241788723266, 0.0079708619572261, 0.0079402047958522, 0.0073270615683732, 0.0199578120544394, 0.0070204899546338, 0.0096570058327932, 0.0065912896953985, 0.0078175761503564, 0.0099635774465327, 0.0094424057031756, 0.0100248917692806, 0.0129679792611795, 0.0046905456902138, 0.0071431186001296, 0.0150526662346079, 0.0130292935839274, 0.0058861749837977, 0.0094424057031756, 0.0064993182112767, 0.0084920337005832, 0.0102701490602721, 0.0063766895657809, 0.0053036889176928, 0.0110365780946208, 0.0071431186001296, 0.0180570680492547, 0.017873125081011, 0.0098409488010369, 0.0160030382372002, 0.0094424057031756, 0.0100862060920285, 0.0070511471160077, 0.004598574206092, 0.0098409488010369, 0.0197125547634478, 0.0098102916396629, 0.0064073467271548, 0.0067139183408943, 0.0098102916396629, 0.0046292313674659, 0.0058861749837977, 0.0081548049254698, 0.0115577498379779, 0.0075723188593648, 0.0074190330524951, 0.0112205210628645, 0.0070204899546338, 0.0095650343486714, 0.004598574206092, 0.0104540920285158, 0.0076949475048606, 0.0057942034996759, 0.0091364892026241, 0.0098513774051306, 0.0084517887912457, 0.014398851566146, 0.0056149302413506, 0.0074145261677885, 0.0046068647496462, 0.0087054157634214, 0.013788571103078, 0.010089998716471, 0.0062463121786285, 0.0070423079139285, 0.0082189389346569, 0.0054972224768919, 0.0148356734347634, 0.0173775113164307, 0.0195789151987978, 0.013402977246269, 0.0189570901689923, 0.0203687137714894], \"y\": [117.30504178865594, 217.0069200306996, 230.9607870873569, 85.28526241119799, 185.0512016847286, 212.8405806831852, 151.7275317882393, 82.61206655325827, 104.02869215801088, 124.77771831520133, 205.77598731771684, 128.83906127575548, 64.38809186989043, 61.40301261119208, 131.7798909178574, 102.7150620823282, 98.5693914941736, 118.4274596974189, 221.98287903867745, 105.17172881034048, 66.1200727954754, 155.63530752005397, 188.97404323916584, 93.4533064112383, 145.94977141597215, 63.603969817691365, 70.0273083842455, 134.87801991474294, 98.8000977439896, 68.58975588160807, 104.01801061811751, 168.59575096559973, 97.84141983515129, 73.91952017550705, 139.8793982303369, 108.12343084378772, 63.17504508395156, 197.37298031698856, 75.1197893575317, 104.39403056718508, 71.14334673328936, 156.47737987876027, 73.92081754456905, 68.03004797398411, 245.97279841643572, 184.8753473530876, 254.9916935859124, 153.42445032907784, 187.554299828348, 63.58883373454176, 97.59272406243204, 68.36016129458244, 157.5339345236011, 70.78593283837073, 133.46332887221502, 96.00855905725555, 58.1998382429231, 91.35691283552153, 133.55257604507062, 127.0732070898514, 71.06797792617175, 156.9093765572674, 136.72626066011668, 112.52149706232797, 157.94771845150387, 77.74108227821158, 102.2492119312542, 89.40922614712696, 137.0706141461012, 147.4818793602567, 209.8513188300593, 108.45189773587016, 158.8835409495731, 147.36045018466805, 118.0547749019768, 85.5349584044274, 151.0771955603342, 96.47745094857456, 149.96436064708192, 154.35054534776145, 190.5868821937552, 260.6461602424757, 83.84091587845738, 188.3244100827669, 119.19516674576984, 121.11382997664064, 101.62365921522398, 289.2931560952498, 109.48974228623986, 134.96689867426625, 96.94987771724443, 139.3267886591602, 145.41803874769258, 133.59683257308737, 165.51350768284053, 189.91758502679448, 87.38505135090256, 94.71652037835791, 221.83352300458512, 153.32760881171518, 88.5800029230465, 143.16183252323813, 93.20235933232566, 138.35687827080818, 156.59089554761084, 91.01045238977612, 70.14766332704271, 169.53515676892715, 109.56490938822846, 264.44143342394096, 258.0225303294134, 134.77687012887068, 216.20360038702304, 131.43191763993138, 154.29565931804828, 103.30670289573874, 75.15442578563514, 149.3043175841655, 272.333108696172, 146.33164958109498, 87.21269356759504, 93.28205309896607, 131.12921605378966, 80.38500768520501, 79.12477109690309, 116.0643164317582, 144.2257767181537, 96.10335859421544, 109.1129045183477, 156.40770038775258, 106.59214800580176, 150.16603454390395, 66.41744929244929, 142.59193181056582, 97.64613263688544, 74.97911879243263, 124.2179455329433, 119.02154324222704, 124.47850468061384, 199.01356951637155, 74.87743864111296, 102.43888789487087, 61.664938181463, 128.7151579254837, 204.21097702335396, 156.16021687127738, 85.36675427750049, 106.35957424698384, 112.7275602977065, 74.12487952925873, 217.35361938308884, 247.0157318995716, 290.5282194219225, 189.37088254199, 266.8080299478921, 298.14052436476084]}, \"title\": \"Scatter Plot\", \"margin\": {\"top\": 50, \"right\": 20, \"bottom\": 70, \"left\": 100}, \"width\": 800, \"height\": 600, \"interactive\": true, \"bowing\": 0.2, \"fillStyle\": \"cross-hatch\", \"fillWeight\": 0, \"strokeWidth\": 1, \"roughness\": 1, \"tooltipFontSize\": \"0.95rem\", \"titleFontSize\": \"3rem\", \"colors\": [\"coral\", \"skyblue\", \"#66c2a5\", \"tan\", \"#8da0cb\", \"#e78ac3\", \"#a6d854\", \"#ffd92f\", \"tan\", \"orange\"], \"xLabel\": \"X\", \"yLabel\": \"Y\", \"axisFontSize\": \"1.5rem\", \"labelFontSize\": \"2rem\", \"colorZero\": false, \"font\": \"Gaegu\", \"radius\": 8, \"axisRoughness\": 0.5, \"axisStrokeWidth\": 0.5, \"highlight\": \"coral\", \"innerStrokeWidth\": 0, \"simplification\": 0.2, \"stroke\": \"black\", \"element\": \"#c6dd0cd273344fffbcebecc2f4a58fa3\"}\n",
       ");\n",
       "\tvar text = document.querySelectorAll(\".xAxisc6dd0cd273344fffbcebecc2f4a58fa3 .tick text\");\n",
       "\tvar i;\n",
       "\tfor (i = 0; i < text.length; i++) {\n",
       "\t\ttext[i].setAttribute(\"transform\", \"rotate(0)\");\n",
       "\t\ttext[i].style.textAnchor=\"middle\";\n",
       "\t}\n",
       "\tdocument.getElementById(\"c6dd0cd273344fffbcebecc2f4a58fa3\").style.height = \"px\";\n",
       "\tdocument.querySelector(\"#c6dd0cd273344fffbcebecc2f4a58fa3 svg\").style.height = \"px\";\n",
       "});\n",
       "</script>\n",
       "\n",
       "</body>\n",
       "</html>"
      ],
      "text/plain": [
       "<IPython.core.display.HTML object>"
      ]
     },
     "metadata": {},
     "output_type": "display_data"
    }
   ],
   "source": [
    "import pandas as pd\n",
    "#scatter = Scatter(data=\"example_datasets/vis1.csv\", x=\"a\", y=\"b\")\n",
    "df = pd.DataFrame({\"x\": list(xn), \"y\": list(yn)})\n",
    "scatter = Scatter(data=df, x=\"x\", y=\"y\")\n",
    "scatter.set_title(\"Scatter Plot\", fontsize=3)\n",
    "scatter.set_xlabel(\"X\", fontsize=2)\n",
    "scatter.set_ylabel(\"Y\", fontsize=2)\n",
    "\n",
    "scatter.show()"
   ]
  },
  {
   "cell_type": "code",
   "execution_count": null,
   "id": "e66daade-fa75-4662-a351-d4d8341b830a",
   "metadata": {},
   "outputs": [],
   "source": []
  }
 ],
 "metadata": {
  "kernelspec": {
   "display_name": "Python 3 (ipykernel)",
   "language": "python",
   "name": "python3"
  },
  "language_info": {
   "codemirror_mode": {
    "name": "ipython",
    "version": 3
   },
   "file_extension": ".py",
   "mimetype": "text/x-python",
   "name": "python",
   "nbconvert_exporter": "python",
   "pygments_lexer": "ipython3",
   "version": "3.9.12"
  }
 },
 "nbformat": 4,
 "nbformat_minor": 5
}
