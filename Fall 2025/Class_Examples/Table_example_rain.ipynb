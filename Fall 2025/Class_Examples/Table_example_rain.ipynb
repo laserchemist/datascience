{
 "cells": [
  {
   "cell_type": "code",
   "execution_count": 2,
   "id": "4c4f1e88-c2e3-4a16-8f4c-3b87f1f576ff",
   "metadata": {},
   "outputs": [],
   "source": [
    "from datascience import *\n",
    "import numpy as np"
   ]
  },
  {
   "cell_type": "markdown",
   "id": "d723eb1b-2fba-4025-b98d-93af131ea1bc",
   "metadata": {},
   "source": [
    "Let us create a Table with monthly rainfall data (inch) for Philadelphia "
   ]
  },
  {
   "cell_type": "code",
   "execution_count": 9,
   "id": "98aa3bc4-ba15-4d03-86a2-a9724db05c33",
   "metadata": {},
   "outputs": [],
   "source": [
    "mytable_1 = Table().with_columns('Month',np.arange(1,13),'Rainfall',[3.13, 2.75,3.96,3.47,3.34,4.04,4.38,4.29,4.40,3.47,2.91,3.97])"
   ]
  },
  {
   "cell_type": "code",
   "execution_count": 12,
   "id": "f1999851-3479-480b-8db3-6bea959ef7ec",
   "metadata": {},
   "outputs": [
    {
     "data": {
      "text/html": [
       "<table border=\"1\" class=\"dataframe\">\n",
       "    <thead>\n",
       "        <tr>\n",
       "            <th>Month</th> <th>Rainfall</th>\n",
       "        </tr>\n",
       "    </thead>\n",
       "    <tbody>\n",
       "        <tr>\n",
       "            <td>1    </td> <td>3.13    </td>\n",
       "        </tr>\n",
       "        <tr>\n",
       "            <td>2    </td> <td>2.75    </td>\n",
       "        </tr>\n",
       "        <tr>\n",
       "            <td>3    </td> <td>3.96    </td>\n",
       "        </tr>\n",
       "        <tr>\n",
       "            <td>4    </td> <td>3.47    </td>\n",
       "        </tr>\n",
       "        <tr>\n",
       "            <td>5    </td> <td>3.34    </td>\n",
       "        </tr>\n",
       "        <tr>\n",
       "            <td>6    </td> <td>4.04    </td>\n",
       "        </tr>\n",
       "        <tr>\n",
       "            <td>7    </td> <td>4.38    </td>\n",
       "        </tr>\n",
       "        <tr>\n",
       "            <td>8    </td> <td>4.29    </td>\n",
       "        </tr>\n",
       "        <tr>\n",
       "            <td>9    </td> <td>4.4     </td>\n",
       "        </tr>\n",
       "        <tr>\n",
       "            <td>10   </td> <td>3.47    </td>\n",
       "        </tr>\n",
       "    </tbody>\n",
       "</table>\n",
       "<p>... (2 rows omitted)</p>"
      ],
      "text/plain": [
       "Month | Rainfall\n",
       "1     | 3.13\n",
       "2     | 2.75\n",
       "3     | 3.96\n",
       "4     | 3.47\n",
       "5     | 3.34\n",
       "6     | 4.04\n",
       "7     | 4.38\n",
       "8     | 4.29\n",
       "9     | 4.4\n",
       "10    | 3.47\n",
       "... (2 rows omitted)"
      ]
     },
     "execution_count": 12,
     "metadata": {},
     "output_type": "execute_result"
    }
   ],
   "source": [
    "mytable_1"
   ]
  },
  {
   "cell_type": "markdown",
   "id": "7e445991-98c1-4617-9a71-d52be4238e24",
   "metadata": {},
   "source": [
    "Extract column of rainfall in inches"
   ]
  },
  {
   "cell_type": "code",
   "execution_count": 14,
   "id": "b70a9662-916c-49fd-85e7-746b6d3eb3bf",
   "metadata": {},
   "outputs": [
    {
     "data": {
      "text/plain": [
       "array([ 3.13,  2.75,  3.96,  3.47,  3.34,  4.04,  4.38,  4.29,  4.4 ,\n",
       "        3.47,  2.91,  3.97])"
      ]
     },
     "execution_count": 14,
     "metadata": {},
     "output_type": "execute_result"
    }
   ],
   "source": [
    "rain = mytable_1.column('Rainfall')\n",
    "rain"
   ]
  },
  {
   "cell_type": "code",
   "execution_count": 15,
   "id": "90c21fad-c250-4cce-9262-4fe1d8779fe2",
   "metadata": {},
   "outputs": [],
   "source": [
    "cm_to_inch = 2.54 "
   ]
  },
  {
   "cell_type": "code",
   "execution_count": 16,
   "id": "4fd0851f-a30d-44bc-a19a-20cffc47cf39",
   "metadata": {},
   "outputs": [
    {
     "data": {
      "text/plain": [
       "array([  7.9502,   6.985 ,  10.0584,   8.8138,   8.4836,  10.2616,\n",
       "        11.1252,  10.8966,  11.176 ,   8.8138,   7.3914,  10.0838])"
      ]
     },
     "execution_count": 16,
     "metadata": {},
     "output_type": "execute_result"
    }
   ],
   "source": [
    "rain_in_cm = rain * cm_to_inch\n",
    "rain_in_cm"
   ]
  },
  {
   "cell_type": "code",
   "execution_count": 18,
   "id": "995dcc2d-7985-4962-ae1e-170d723ec5e2",
   "metadata": {},
   "outputs": [],
   "source": [
    "mytable_1 = mytable_1.with_columns('Rainfall (cm)', rain_in_cm)"
   ]
  },
  {
   "cell_type": "code",
   "execution_count": 23,
   "id": "3d05f502-fd59-4010-9964-73f0bfb9ccb3",
   "metadata": {},
   "outputs": [
    {
     "data": {
      "text/plain": [
       "array([  7.9502,   6.985 ,  10.0584,   8.8138,   8.4836,  10.2616,\n",
       "        11.1252,  10.8966,  11.176 ,   8.8138,   7.3914,  10.0838])"
      ]
     },
     "execution_count": 23,
     "metadata": {},
     "output_type": "execute_result"
    }
   ],
   "source": [
    "myrainarray = mytable_1.column('Rainfall (cm)')\n",
    "myrainarray"
   ]
  },
  {
   "cell_type": "code",
   "execution_count": 24,
   "id": "4f3e6874-1d9f-485d-a5ba-d676ef428bd3",
   "metadata": {},
   "outputs": [
    {
     "data": {
      "text/plain": [
       "numpy.ndarray"
      ]
     },
     "execution_count": 24,
     "metadata": {},
     "output_type": "execute_result"
    }
   ],
   "source": [
    "type(myrainarray)"
   ]
  },
  {
   "cell_type": "code",
   "execution_count": 25,
   "id": "fac0ba58-f8f4-4e01-ac55-ef274603aa91",
   "metadata": {},
   "outputs": [
    {
     "data": {
      "text/plain": [
       "datascience.tables.Table"
      ]
     },
     "execution_count": 25,
     "metadata": {},
     "output_type": "execute_result"
    }
   ],
   "source": [
    "type(mytable_1)"
   ]
  },
  {
   "cell_type": "code",
   "execution_count": 26,
   "id": "3025332c-6cb5-4c7d-a4c4-a5019f0ce61b",
   "metadata": {},
   "outputs": [
    {
     "data": {
      "text/plain": [
       "[3.13, 2.75, 3.96, 3.47, 3.34, 4.04, 4.38, 4.29, 4.4, 3.47, 2.91, 3.97]"
      ]
     },
     "execution_count": 26,
     "metadata": {},
     "output_type": "execute_result"
    }
   ],
   "source": [
    "myrain_list = [3.13, 2.75,3.96,3.47,3.34,4.04,4.38,4.29,4.40,3.47,2.91,3.97]\n",
    "myrain_list\n"
   ]
  },
  {
   "cell_type": "code",
   "execution_count": 31,
   "id": "d77f74cd-d0e5-4719-b870-4c67060611d8",
   "metadata": {},
   "outputs": [
    {
     "data": {
      "text/plain": [
       "[3.13, 2.75, 3.96, 3.47, 3.34, 4.04, 4.38, 4.29, 4.4, 3.47, 2.91, 3.97]"
      ]
     },
     "execution_count": 31,
     "metadata": {},
     "output_type": "execute_result"
    }
   ],
   "source": [
    "[ z    for z in myrain_list  ]"
   ]
  },
  {
   "cell_type": "code",
   "execution_count": 32,
   "id": "48449e3c-de6c-47b5-9088-6dbe803d399d",
   "metadata": {},
   "outputs": [
    {
     "data": {
      "text/html": [
       "<table border=\"1\" class=\"dataframe\">\n",
       "    <thead>\n",
       "        <tr>\n",
       "            <th>Month</th> <th>Rainfall</th> <th>Rainfall (cm)</th>\n",
       "        </tr>\n",
       "    </thead>\n",
       "    <tbody>\n",
       "        <tr>\n",
       "            <td>1    </td> <td>3.13    </td> <td>7.9502       </td>\n",
       "        </tr>\n",
       "        <tr>\n",
       "            <td>2    </td> <td>2.75    </td> <td>6.985        </td>\n",
       "        </tr>\n",
       "        <tr>\n",
       "            <td>3    </td> <td>3.96    </td> <td>10.0584      </td>\n",
       "        </tr>\n",
       "        <tr>\n",
       "            <td>4    </td> <td>3.47    </td> <td>8.8138       </td>\n",
       "        </tr>\n",
       "        <tr>\n",
       "            <td>5    </td> <td>3.34    </td> <td>8.4836       </td>\n",
       "        </tr>\n",
       "        <tr>\n",
       "            <td>6    </td> <td>4.04    </td> <td>10.2616      </td>\n",
       "        </tr>\n",
       "        <tr>\n",
       "            <td>7    </td> <td>4.38    </td> <td>11.1252      </td>\n",
       "        </tr>\n",
       "        <tr>\n",
       "            <td>8    </td> <td>4.29    </td> <td>10.8966      </td>\n",
       "        </tr>\n",
       "        <tr>\n",
       "            <td>9    </td> <td>4.4     </td> <td>11.176       </td>\n",
       "        </tr>\n",
       "        <tr>\n",
       "            <td>10   </td> <td>3.47    </td> <td>8.8138       </td>\n",
       "        </tr>\n",
       "    </tbody>\n",
       "</table>\n",
       "<p>... (2 rows omitted)</p>"
      ],
      "text/plain": [
       "Month | Rainfall | Rainfall (cm)\n",
       "1     | 3.13     | 7.9502\n",
       "2     | 2.75     | 6.985\n",
       "3     | 3.96     | 10.0584\n",
       "4     | 3.47     | 8.8138\n",
       "5     | 3.34     | 8.4836\n",
       "6     | 4.04     | 10.2616\n",
       "7     | 4.38     | 11.1252\n",
       "8     | 4.29     | 10.8966\n",
       "9     | 4.4      | 11.176\n",
       "10    | 3.47     | 8.8138\n",
       "... (2 rows omitted)"
      ]
     },
     "execution_count": 32,
     "metadata": {},
     "output_type": "execute_result"
    }
   ],
   "source": [
    "mytable_1"
   ]
  },
  {
   "cell_type": "code",
   "execution_count": 36,
   "id": "223ae4ea-0273-4483-9157-5bf66fac9b19",
   "metadata": {},
   "outputs": [
    {
     "data": {
      "text/html": [
       "<table border=\"1\" class=\"dataframe\">\n",
       "    <thead>\n",
       "        <tr>\n",
       "            <th>Month</th> <th>Rainfall</th> <th>Rainfall (cm)</th>\n",
       "        </tr>\n",
       "    </thead>\n",
       "    <tbody>\n",
       "        <tr>\n",
       "            <td>9    </td> <td>4.4     </td> <td>11.176       </td>\n",
       "        </tr>\n",
       "        <tr>\n",
       "            <td>7    </td> <td>4.38    </td> <td>11.1252      </td>\n",
       "        </tr>\n",
       "        <tr>\n",
       "            <td>8    </td> <td>4.29    </td> <td>10.8966      </td>\n",
       "        </tr>\n",
       "        <tr>\n",
       "            <td>6    </td> <td>4.04    </td> <td>10.2616      </td>\n",
       "        </tr>\n",
       "        <tr>\n",
       "            <td>12   </td> <td>3.97    </td> <td>10.0838      </td>\n",
       "        </tr>\n",
       "        <tr>\n",
       "            <td>3    </td> <td>3.96    </td> <td>10.0584      </td>\n",
       "        </tr>\n",
       "        <tr>\n",
       "            <td>4    </td> <td>3.47    </td> <td>8.8138       </td>\n",
       "        </tr>\n",
       "        <tr>\n",
       "            <td>10   </td> <td>3.47    </td> <td>8.8138       </td>\n",
       "        </tr>\n",
       "        <tr>\n",
       "            <td>5    </td> <td>3.34    </td> <td>8.4836       </td>\n",
       "        </tr>\n",
       "        <tr>\n",
       "            <td>1    </td> <td>3.13    </td> <td>7.9502       </td>\n",
       "        </tr>\n",
       "    </tbody>\n",
       "</table>\n",
       "<p>... (2 rows omitted)</p>"
      ],
      "text/plain": [
       "Month | Rainfall | Rainfall (cm)\n",
       "9     | 4.4      | 11.176\n",
       "7     | 4.38     | 11.1252\n",
       "8     | 4.29     | 10.8966\n",
       "6     | 4.04     | 10.2616\n",
       "12    | 3.97     | 10.0838\n",
       "3     | 3.96     | 10.0584\n",
       "4     | 3.47     | 8.8138\n",
       "10    | 3.47     | 8.8138\n",
       "5     | 3.34     | 8.4836\n",
       "1     | 3.13     | 7.9502\n",
       "... (2 rows omitted)"
      ]
     },
     "execution_count": 36,
     "metadata": {},
     "output_type": "execute_result"
    }
   ],
   "source": [
    "mytable_1 = mytable_1.sort('Rainfall (cm)' ,descending=True  )\n",
    "mytable_1"
   ]
  },
  {
   "cell_type": "code",
   "execution_count": 51,
   "id": "156871fe-b11f-40b8-91e4-013ebbca343a",
   "metadata": {},
   "outputs": [
    {
     "data": {
      "text/plain": [
       "array([ 9,  7,  8,  6, 12,  3,  4, 10,  5,  1, 11,  2])"
      ]
     },
     "execution_count": 51,
     "metadata": {},
     "output_type": "execute_result"
    }
   ],
   "source": [
    "mytable_1.sort('Rainfall (cm)' ,descending=True  ).column('Month')"
   ]
  },
  {
   "cell_type": "code",
   "execution_count": 52,
   "id": "62375896-f236-4ffb-995e-190468bc3737",
   "metadata": {},
   "outputs": [
    {
     "data": {
      "text/plain": [
       "9"
      ]
     },
     "execution_count": 52,
     "metadata": {},
     "output_type": "execute_result"
    }
   ],
   "source": [
    "mytable_1.sort('Rainfall (cm)' ,descending=True  ).column('Month').item(0)"
   ]
  },
  {
   "cell_type": "code",
   "execution_count": 39,
   "id": "16926b6e-3f11-4780-aee6-baea034053a0",
   "metadata": {},
   "outputs": [
    {
     "data": {
      "text/plain": [
       "7"
      ]
     },
     "execution_count": 39,
     "metadata": {},
     "output_type": "execute_result"
    }
   ],
   "source": [
    "mytable_1.column('Month').item(0)"
   ]
  },
  {
   "cell_type": "code",
   "execution_count": 43,
   "id": "6a1f6d20-58ee-4175-8e4b-a8eea1776b8f",
   "metadata": {},
   "outputs": [
    {
     "data": {
      "text/html": [
       "<table border=\"1\" class=\"dataframe\">\n",
       "    <thead>\n",
       "        <tr>\n",
       "            <th>Month</th> <th>Rainfall</th> <th>Rainfall (cm)</th>\n",
       "        </tr>\n",
       "    </thead>\n",
       "    <tbody>\n",
       "        <tr>\n",
       "            <td>7    </td> <td>4.38    </td> <td>11.1252      </td>\n",
       "        </tr>\n",
       "        <tr>\n",
       "            <td>8    </td> <td>4.29    </td> <td>10.8966      </td>\n",
       "        </tr>\n",
       "        <tr>\n",
       "            <td>9    </td> <td>4.4     </td> <td>11.176       </td>\n",
       "        </tr>\n",
       "        <tr>\n",
       "            <td>10   </td> <td>3.47    </td> <td>8.8138       </td>\n",
       "        </tr>\n",
       "        <tr>\n",
       "            <td>11   </td> <td>2.91    </td> <td>7.3914       </td>\n",
       "        </tr>\n",
       "        <tr>\n",
       "            <td>12   </td> <td>3.97    </td> <td>10.0838      </td>\n",
       "        </tr>\n",
       "    </tbody>\n",
       "</table>"
      ],
      "text/plain": [
       "Month | Rainfall | Rainfall (cm)\n",
       "7     | 4.38     | 11.1252\n",
       "8     | 4.29     | 10.8966\n",
       "9     | 4.4      | 11.176\n",
       "10    | 3.47     | 8.8138\n",
       "11    | 2.91     | 7.3914\n",
       "12    | 3.97     | 10.0838"
      ]
     },
     "execution_count": 43,
     "metadata": {},
     "output_type": "execute_result"
    }
   ],
   "source": [
    "mytable_1.where('Month', are.above(6)).sort('Month')"
   ]
  },
  {
   "cell_type": "code",
   "execution_count": 45,
   "id": "a346e9cf-b091-4b27-9c94-8e4ad8e87342",
   "metadata": {},
   "outputs": [
    {
     "data": {
      "text/plain": [
       "112.0394"
      ]
     },
     "execution_count": 45,
     "metadata": {},
     "output_type": "execute_result"
    }
   ],
   "source": [
    "np.sum(myrainarray)"
   ]
  },
  {
   "cell_type": "code",
   "execution_count": 46,
   "id": "cd757dce-2174-4c7b-b618-58522b61742f",
   "metadata": {},
   "outputs": [
    {
     "data": {
      "text/plain": [
       "9.3366166666666661"
      ]
     },
     "execution_count": 46,
     "metadata": {},
     "output_type": "execute_result"
    }
   ],
   "source": [
    "np.mean(myrainarray)"
   ]
  },
  {
   "cell_type": "code",
   "execution_count": 47,
   "id": "e99fdb40-c0c1-44f4-b0b7-cc77ec270633",
   "metadata": {},
   "outputs": [
    {
     "data": {
      "text/plain": [
       "11.176000000000002"
      ]
     },
     "execution_count": 47,
     "metadata": {},
     "output_type": "execute_result"
    }
   ],
   "source": [
    "max(myrainarray)"
   ]
  },
  {
   "cell_type": "code",
   "execution_count": 48,
   "id": "6ad9fc60-0512-42de-b59d-f58b9787171a",
   "metadata": {},
   "outputs": [
    {
     "data": {
      "text/plain": [
       "6.9850000000000003"
      ]
     },
     "execution_count": 48,
     "metadata": {},
     "output_type": "execute_result"
    }
   ],
   "source": [
    "min(myrainarray)"
   ]
  },
  {
   "cell_type": "code",
   "execution_count": 50,
   "id": "25a270ce-309e-4a17-abf3-31edbc942a05",
   "metadata": {},
   "outputs": [
    {
     "data": {
      "text/plain": [
       "6.9850000000000003"
      ]
     },
     "execution_count": 50,
     "metadata": {},
     "output_type": "execute_result"
    }
   ],
   "source": [
    "min(mytable_1.column('Rainfall (cm)'))"
   ]
  },
  {
   "cell_type": "code",
   "execution_count": null,
   "id": "bb6e56e9-dccf-4525-817a-b4911714ae57",
   "metadata": {},
   "outputs": [],
   "source": []
  }
 ],
 "metadata": {
  "kernelspec": {
   "display_name": "Python 3 (ipykernel)",
   "language": "python",
   "name": "python3"
  },
  "language_info": {
   "codemirror_mode": {
    "name": "ipython",
    "version": 3
   },
   "file_extension": ".py",
   "mimetype": "text/x-python",
   "name": "python",
   "nbconvert_exporter": "python",
   "pygments_lexer": "ipython3",
   "version": "3.11.6"
  }
 },
 "nbformat": 4,
 "nbformat_minor": 5
}
