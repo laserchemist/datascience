{
 "cells": [
  {
   "cell_type": "markdown",
   "id": "3770f213-472e-4034-8c3b-c07cab983e4e",
   "metadata": {},
   "source": [
    "## DICE EXAMPLE"
   ]
  },
  {
   "cell_type": "code",
   "execution_count": 12,
   "id": "3581aaee-4ebc-42cb-97db-300d8f977ca8",
   "metadata": {},
   "outputs": [],
   "source": [
    "import numpy as np\n",
    "#from datascience import *\n",
    "%matplotlib inline\n",
    "import matplotlib.pyplot as plt"
   ]
  },
  {
   "cell_type": "code",
   "execution_count": 5,
   "id": "f9e24d29-cc9d-4e74-be03-a5b19a3a8797",
   "metadata": {},
   "outputs": [
    {
     "name": "stdout",
     "output_type": "stream",
     "text": [
      "[1, 2, 3, 4, 5, 6]\n"
     ]
    }
   ],
   "source": [
    "possible_rolls = [1,2,3,4,5,6]\n",
    "print(possible_rolls)"
   ]
  },
  {
   "cell_type": "markdown",
   "id": "e1394834-d5e6-4130-bb5b-889d65aab541",
   "metadata": {},
   "source": [
    "### Multiple roll example"
   ]
  },
  {
   "cell_type": "code",
   "execution_count": 20,
   "id": "64302981-32e2-455e-aa3c-9c08f379c83c",
   "metadata": {},
   "outputs": [
    {
     "name": "stdout",
     "output_type": "stream",
     "text": [
      "[ 7  9  9  8  7  8  6  5  7  5  7  9  9  7  8  9  3  7 11  7  7  2  6  8\n",
      "  3  7  3  6 10  8  7  7  6  9  8  5  5  5  8  8  8  8  8  4  7  7  9  7\n",
      " 10  4  7  4  7  6  5  8  9  7  9  7  9  5 10  7 12  5  7  6  2 12  6 10\n",
      "  9  8  8  9  5  5  4  9  5 11  7  9  2  5 11 10  9  4  5 12  7  5  5  7\n",
      "  5  7  7  7]\n"
     ]
    }
   ],
   "source": [
    "test_rolls = np.random.choice(possible_rolls,100)+np.random.choice(possible_rolls,100)\n",
    "print(test_rolls)"
   ]
  },
  {
   "cell_type": "code",
   "execution_count": 21,
   "id": "6afdca74-8456-4dcd-93e5-b9a65b7359b6",
   "metadata": {},
   "outputs": [
    {
     "data": {
      "image/png": "[encoded data removed]",
      "text/plain": [
       "<Figure size 640x480 with 1 Axes>"
      ]
     },
     "metadata": {},
     "output_type": "display_data"
    }
   ],
   "source": [
    "plt.hist(test_rolls,bins=[0.5,1.5,2.5,3.5,4.5,5.5,6.5])\n",
    "plt.xrange=[0,7]"
   ]
  },
  {
   "cell_type": "markdown",
   "id": "07993487-60b0-47ca-a7cf-58df540ed85f",
   "metadata": {},
   "source": [
    "### OUR GROUP WORK"
   ]
  },
  {
   "cell_type": "code",
   "execution_count": null,
   "id": "f05541de-d7db-419d-890c-71f77b8bceaf",
   "metadata": {},
   "outputs": [],
   "source": [
    "possible_rolls = [1,2,3,4,5,6]"
   ]
  },
  {
   "cell_type": "markdown",
   "id": "bf71c6f9-d517-4ee3-bb6c-0fcaca8d7bd6",
   "metadata": {},
   "source": [
    "#### One die role in silico"
   ]
  },
  {
   "cell_type": "code",
   "execution_count": null,
   "id": "93213f5e-9389-4f42-8a0e-d758d3f6dd9c",
   "metadata": {},
   "outputs": [],
   "source": [
    "np.random.choice(possible_rolls) "
   ]
  },
  {
   "cell_type": "markdown",
   "id": "6840268a-c65f-478f-a0a8-dd4345cdff82",
   "metadata": {},
   "source": [
    "#### Two die role in silico"
   ]
  },
  {
   "cell_type": "code",
   "execution_count": 18,
   "id": "52e8e1bc-d358-4e1e-b8a4-6abe0b00477a",
   "metadata": {},
   "outputs": [
    {
     "data": {
      "text/plain": [
       "6"
      ]
     },
     "execution_count": 18,
     "metadata": {},
     "output_type": "execute_result"
    }
   ],
   "source": [
    "np.random.choice(possible_rolls) + np.random.choice(possible_rolls) "
   ]
  },
  {
   "cell_type": "markdown",
   "id": "eb5780b1-e768-408e-9295-c7e0f87ddb20",
   "metadata": {},
   "source": [
    "### List to store results, edit"
   ]
  },
  {
   "cell_type": "code",
   "execution_count": null,
   "id": "4ffbdbe2-66ad-4784-92e6-78d834d97506",
   "metadata": {},
   "outputs": [],
   "source": [
    "rolls = [3,7,4]"
   ]
  },
  {
   "cell_type": "markdown",
   "id": "ea169523-be0f-499f-af1e-ddb5a38806a9",
   "metadata": {},
   "source": [
    "##### Histogram plot command"
   ]
  },
  {
   "cell_type": "code",
   "execution_count": null,
   "id": "12eaa497-5cec-42df-8136-e519dce0c96b",
   "metadata": {},
   "outputs": [],
   "source": [
    "plt.hist(rolls,bins=[1.5,2.5,2.5,3.5,4.5,5.5,6.5,7.5,8.5,9.5,10.5,11.5])\n",
    "plt.xrange=[0,13]"
   ]
  },
  {
   "cell_type": "code",
   "execution_count": null,
   "id": "6a88d9a9-2590-4642-8531-87438331e2e3",
   "metadata": {},
   "outputs": [],
   "source": [
    "np.sum(rolls)"
   ]
  },
  {
   "cell_type": "code",
   "execution_count": null,
   "id": "56776dde-bdb9-491a-9b89-e60fb7cc3b78",
   "metadata": {},
   "outputs": [],
   "source": [
    "np.average(rolls)"
   ]
  },
  {
   "cell_type": "code",
   "execution_count": null,
   "id": "9ad106f4-0c3b-4ba4-8a59-60bf89c3b09f",
   "metadata": {},
   "outputs": [],
   "source": []
  }
 ],
 "metadata": {
  "kernelspec": {
   "display_name": "Python 3 (ipykernel)",
   "language": "python",
   "name": "python3"
  },
  "language_info": {
   "codemirror_mode": {
    "name": "ipython",
    "version": 3
   },
   "file_extension": ".py",
   "mimetype": "text/x-python",
   "name": "python",
   "nbconvert_exporter": "python",
   "pygments_lexer": "ipython3",
   "version": "3.12.3"
  }
 },
 "nbformat": 4,
 "nbformat_minor": 5
}
