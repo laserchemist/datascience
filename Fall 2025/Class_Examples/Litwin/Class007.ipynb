{
 "cells": [
  {
   "cell_type": "markdown",
   "metadata": {},
   "source": [
    "## Learning Goals for Lab 04\n",
    "Loops, Functions and Visualization\n",
    "- Loops\n",
    "- Functions\n",
    "    - customize Python\n",
    "    - syntax\n",
    "        - def\n",
    "        - return\n",
    "     - arguments\n",
    "     - local variables\n",
    "- Visualization\n",
    "    - datascience Table\n",
    "        - plot\n",
    "        - scatter\n",
    "        - hist\n",
    "     - arrays\n",
    "         - from data columns\n",
    "         - matplotlib\n",
    "         - plotly"
   ]
  },
  {
   "cell_type": "markdown",
   "metadata": {},
   "source": [
    "# Loops\n",
    "Computers are great at doing the same thing over and over really, really fast. To have a computer repeat an operation you need to create a loop. One of the simplest is a \"for\" loop.\n",
    "\n",
    "Let's look at some examples:"
   ]
  },
  {
   "cell_type": "code",
   "execution_count": null,
   "metadata": {
    "tags": []
   },
   "outputs": [],
   "source": [
    "# Create a list\n",
    "CST_departments = [\n",
    "    'Earth & Environmental Science',\n",
    "    'Biology',\n",
    "    'Chemistry',\n",
    "    'Physics',\n",
    "    'Computer & Information Sciences',\n",
    "    'Mathematics'\n",
    "]\n",
    "\n",
    "# Now loop over each element and print it.\n",
    "for dept in CST_departments:\n",
    "    print(dept)"
   ]
  },
  {
   "cell_type": "markdown",
   "metadata": {},
   "source": [
    "The loop start with \"for\"\n",
    "The vartiable \"dept\" (we could use any variable name\" will be set to each value in \"CST_departments\" Then will end when every member of the list has been used.\n",
    "The body of the loop starts after the colon and is indented. Only the statements in the indented portion will be looped over.\n",
    "\n",
    "Let's look at another example."
   ]
  },
  {
   "cell_type": "code",
   "execution_count": null,
   "metadata": {
    "tags": []
   },
   "outputs": [],
   "source": [
    "from datascience import *\n",
    "import math\n",
    "import numpy as np\n",
    "%matplotlib inline\n",
    "import matplotlib.pyplot as plots\n",
    "plots.style.use('fivethirtyeight')\n",
    "import EDS\n",
    "\n",
    "# Looping over the elements of an array\n",
    "cool_numbers = make_array(1, 0, -1, math.pi, math.e)\n",
    "for number in cool_numbers:\n",
    "    print(f\"{number} is a cool number!\")"
   ]
  },
  {
   "cell_type": "markdown",
   "metadata": {},
   "source": [
    "In this case, the variable number is iteratively set to each element in the array \"cool_numbers\"\n",
    "\n",
    "You can have as many statments as you desire in the body of the loop. Suppose we wanted to calulate the total of these cool numbers. We start by creating a variable to hold the sum outside the loop and add the value of each element as we loop through the array."
   ]
  },
  {
   "cell_type": "code",
   "execution_count": null,
   "metadata": {
    "tags": []
   },
   "outputs": [],
   "source": [
    "totally_cool = 0.0\n",
    "for number in cool_numbers:\n",
    "    totally_cool += number\n",
    "print(f\"The sum of these cool numbers is {totally_cool}\")"
   ]
  },
  {
   "cell_type": "markdown",
   "metadata": {},
   "source": [
    "Of course, we could have just used the sum() function."
   ]
  },
  {
   "cell_type": "code",
   "execution_count": null,
   "metadata": {
    "tags": []
   },
   "outputs": [],
   "source": [
    "sum(cool_numbers)"
   ]
  },
  {
   "cell_type": "markdown",
   "metadata": {},
   "source": [
    "To loop a specific number of times, use the np.arange() function to create the array to loop over."
   ]
  },
  {
   "cell_type": "code",
   "execution_count": null,
   "metadata": {
    "tags": []
   },
   "outputs": [],
   "source": [
    "# Print \"hello\" five times\n",
    "for i in np.arange(5):\n",
    "    print(\"Hello\")"
   ]
  },
  {
   "cell_type": "code",
   "execution_count": null,
   "metadata": {},
   "outputs": [],
   "source": [
    "# Student challenge: print the numbers 1 to 10 in a loop.\n",
    "\n"
   ]
  },
  {
   "cell_type": "markdown",
   "metadata": {},
   "source": [
    "# Trends - Time Series Data"
   ]
  },
  {
   "cell_type": "code",
   "execution_count": null,
   "metadata": {
    "tags": []
   },
   "outputs": [],
   "source": [
    "file = \"./data/FallThings_GT_1.csv\"\n",
    "fall = Table().read_table(file,skiprows=2)\n",
    "fall"
   ]
  },
  {
   "cell_type": "code",
   "execution_count": null,
   "metadata": {
    "tags": []
   },
   "outputs": [],
   "source": [
    "import EDS\n",
    "# Use ptrend (short for plot trend) to plot this data.\n",
    "# This function expects you to provide a table name, and the x and y column names\n",
    "# Optionally, you can format the dates on the x-axis\n",
    "# fmtdate=\"%b-%Y\" tell it to use short-version month names (%b), hyphen, then year (%Y).\n",
    "EDS.ptrend(fall,\"Week\", \"pumpkin spice: (United States)\",fmtdate=\"%b-%Y\")"
   ]
  },
  {
   "cell_type": "markdown",
   "metadata": {},
   "source": [
    "#### Can overlay by issuing multiple ptrend in same cell"
   ]
  },
  {
   "cell_type": "code",
   "execution_count": null,
   "metadata": {
    "tags": []
   },
   "outputs": [],
   "source": [
    "EDS.ptrend(fall,\"Week\", \"pumpkin spice: (United States)\",fmtdate=\"%b-%Y\")\n",
    "EDS.ptrend(fall,\"Week\", \"corn maze: (United States)\",fmtdate=\"%b-%Y\")"
   ]
  },
  {
   "cell_type": "code",
   "execution_count": null,
   "metadata": {
    "tags": []
   },
   "outputs": [],
   "source": [
    "# Use the FilterTDate function from the EDS module.\n",
    "# The function expects you to provide a table name along with the start and end dates.\n",
    "# It will return a new table with only the rows in the date range you specified.\n",
    "season_2024 = EDS.FilterTdate(fall, '6/01/2024', '12/31/2024')"
   ]
  },
  {
   "cell_type": "code",
   "execution_count": null,
   "metadata": {
    "tags": []
   },
   "outputs": [],
   "source": [
    "EDS.ptrend(season_2024,\"Week\", \"pumpkin spice: (United States)\",fmtdate=\"%b-%Y\")\n",
    "EDS.ptrend(season_2024,\"Week\", \"corn maze: (United States)\",fmtdate=\"%b-%Y\")"
   ]
  },
  {
   "cell_type": "markdown",
   "metadata": {},
   "source": [
    "# More Data visualization"
   ]
  },
  {
   "cell_type": "markdown",
   "metadata": {},
   "source": [
    "Need to import these module to plot"
   ]
  },
  {
   "cell_type": "code",
   "execution_count": null,
   "metadata": {
    "tags": []
   },
   "outputs": [],
   "source": [
    "import numpy as np\n",
    "%matplotlib inline\n",
    "import matplotlib.pyplot as plt\n",
    "plt.style.use('fivethirtyeight')"
   ]
  },
  {
   "cell_type": "markdown",
   "metadata": {},
   "source": [
    "## Line Plots"
   ]
  },
  {
   "cell_type": "code",
   "execution_count": null,
   "metadata": {
    "tags": []
   },
   "outputs": [],
   "source": [
    "from datascience import *\n",
    "data = 'http://www2.census.gov/programs-surveys/popest/datasets/2010-2020/national/asrh/nc-est2020-agesex-res.csv'\n",
    "full_census_table = Table.read_table(data)\n",
    "partial_census_table = full_census_table.select('SEX', 'AGE', 'POPESTIMATE2010', 'POPESTIMATE2020')\n",
    "partial_census_table = partial_census_table.relabeled('SEX', 'GENDER').relabeled('POPESTIMATE2010', '2010').relabeled('POPESTIMATE2020', '2020')\n",
    "partial_census_table"
   ]
  },
  {
   "cell_type": "code",
   "execution_count": null,
   "metadata": {
    "tags": []
   },
   "outputs": [],
   "source": [
    "census=partial_census_table.where(0,0).where('AGE',are.below(99))"
   ]
  },
  {
   "cell_type": "markdown",
   "metadata": {},
   "source": [
    "Select proper columns"
   ]
  },
  {
   "cell_type": "code",
   "execution_count": null,
   "metadata": {
    "tags": []
   },
   "outputs": [],
   "source": [
    "census.select('AGE','2010','2020').plot('AGE')"
   ]
  },
  {
   "cell_type": "markdown",
   "metadata": {},
   "source": [
    "## Scatter Plots depicts relationship between two variables"
   ]
  },
  {
   "cell_type": "code",
   "execution_count": null,
   "metadata": {
    "tags": []
   },
   "outputs": [],
   "source": [
    "census.scatter('2010','2020')"
   ]
  },
  {
   "cell_type": "code",
   "execution_count": null,
   "metadata": {},
   "outputs": [],
   "source": []
  }
 ],
 "metadata": {
  "kernelspec": {
   "display_name": "Python 3 (ipykernel)",
   "language": "python",
   "name": "python3"
  },
  "language_info": {
   "codemirror_mode": {
    "name": "ipython",
    "version": 3
   },
   "file_extension": ".py",
   "mimetype": "text/x-python",
   "name": "python",
   "nbconvert_exporter": "python",
   "pygments_lexer": "ipython3",
   "version": "3.11.6"
  }
 },
 "nbformat": 4,
 "nbformat_minor": 4
}
