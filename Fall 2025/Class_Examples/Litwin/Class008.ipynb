{
 "cells": [
  {
   "cell_type": "markdown",
   "metadata": {},
   "source": [
    "# Class08 Examples"
   ]
  },
  {
   "cell_type": "markdown",
   "metadata": {},
   "source": [
    "# Review of Tricky Table Operations"
   ]
  },
  {
   "cell_type": "code",
   "execution_count": null,
   "metadata": {
    "tags": []
   },
   "outputs": [],
   "source": [
    "from datascience import *\n",
    "import numpy as np\n",
    "from matplotlib import pyplot as plt\n",
    "%matplotlib inline"
   ]
  },
  {
   "cell_type": "markdown",
   "metadata": {},
   "source": [
    "## Load a table from a file"
   ]
  },
  {
   "cell_type": "code",
   "execution_count": null,
   "metadata": {
    "tags": []
   },
   "outputs": [],
   "source": [
    "file_path = \"data/BenJerryData.csv\"\n",
    "ice_cream = Table().read_table(file_path)\n",
    "ice_cream"
   ]
  },
  {
   "cell_type": "markdown",
   "metadata": {},
   "source": [
    "## Running a statistic on a table column\n",
    "A table is comprised of columns. Each column has a label and then an array of data. We use the .column() method to extract the data from a table column.\n",
    "\n",
    "### Task: Find the average protein content\n",
    "\n",
    "First pull out the data array."
   ]
  },
  {
   "cell_type": "code",
   "execution_count": null,
   "metadata": {
    "tags": []
   },
   "outputs": [],
   "source": [
    "protein = ice_cream.column('protein (g)')\n",
    "protein"
   ]
  },
  {
   "cell_type": "markdown",
   "metadata": {},
   "source": [
    "Once you have the array, you can using any of the numpy functions."
   ]
  },
  {
   "cell_type": "code",
   "execution_count": null,
   "metadata": {
    "tags": []
   },
   "outputs": [],
   "source": [
    "avg_protein = np.average(protein)\n",
    "max_protein = np.max(protein)\n",
    "min_protein = np.min(protein)\n",
    "\n",
    "print(f\" The max protein is {max_protein}, the min is {min_protein}, the average is {avg_protein} grams\")"
   ]
  },
  {
   "cell_type": "markdown",
   "metadata": {},
   "source": [
    "## Returning the top value of a column\n",
    "### Task: Print the flavor with the highest calorie content"
   ]
  },
  {
   "cell_type": "code",
   "execution_count": null,
   "metadata": {
    "tags": []
   },
   "outputs": [],
   "source": [
    "# Step 1: Sort the table\n",
    "ice_cream_sorted = ice_cream.sort('Calories (kcal)', descending=True)\n",
    "ice_cream_sorted"
   ]
  },
  {
   "cell_type": "code",
   "execution_count": null,
   "metadata": {
    "tags": []
   },
   "outputs": [],
   "source": [
    "# Step 2: Extract the array for the column of interest\n",
    "sorted_flavors = ice_cream_sorted.column('Flavor')\n",
    "sorted_flavors"
   ]
  },
  {
   "cell_type": "code",
   "execution_count": null,
   "metadata": {
    "tags": []
   },
   "outputs": [],
   "source": [
    "# Step 3: Pull out the first element of this array.\n",
    "sorted_flavors.item(0)"
   ]
  },
  {
   "cell_type": "code",
   "execution_count": null,
   "metadata": {
    "tags": []
   },
   "outputs": [],
   "source": [
    "# Note: This steps can be combined into one operation\n",
    "# But honestly, I wouldn't chain operations until you really understand each step\n",
    "ice_cream.sort('Calories (kcal)', descending=True).column('Flavor').item(0)"
   ]
  },
  {
   "cell_type": "markdown",
   "metadata": {},
   "source": [
    "## Filtering rows in a table based on a condition\n",
    "### Task: Create a table with only the flavors of ice cream that have fewer then 25 grams of fat."
   ]
  },
  {
   "cell_type": "code",
   "execution_count": null,
   "metadata": {
    "tags": []
   },
   "outputs": [],
   "source": [
    "# Need to filter? Use .where with the appropriate predicate\n",
    "ice_cream.where('fat (g)', are.below(25))"
   ]
  },
  {
   "cell_type": "markdown",
   "metadata": {},
   "source": [
    "## Adding a column to a table based on a mathematical combination of other columns\n",
    "### Task: Add a column that is the ratio of protein to carbohydrates (I'm not saying this is nutritionally useful).\n",
    "The steps are:\n",
    "- Extract the data arrays from the columns\n",
    "- Do the math\n",
    "- Put the result in a new column"
   ]
  },
  {
   "cell_type": "code",
   "execution_count": null,
   "metadata": {
    "tags": []
   },
   "outputs": [],
   "source": [
    "# Extract the arrays\n",
    "protein = ice_cream.column('protein (g)')\n",
    "carbs = ice_cream.column('carbohydrates (g)')\n",
    "\n",
    "# Do the math\n",
    "ratio = protein / carbs\n",
    "\n",
    "# Create the new column\n",
    "ice_cream_with_ratio = ice_cream.with_columns('protein/carbs', ratio)\n",
    "ice_cream_with_ratio"
   ]
  },
  {
   "cell_type": "code",
   "execution_count": null,
   "metadata": {
    "tags": []
   },
   "outputs": [],
   "source": [
    "# Again, the operations can be combined into a single line.\n",
    "# You don't need to do this, but you should understand it.\n",
    "ice_cream_with_ratio2 = ice_cream.with_columns('protein/carbs)', ice_cream.column('protein (g)') / ice_cream.column('carbohydrates (g)'))\n",
    "ice_cream_with_ratio2"
   ]
  },
  {
   "cell_type": "markdown",
   "metadata": {},
   "source": [
    "**Bonus question: What are the units of the protein/carbs ratio?**"
   ]
  },
  {
   "cell_type": "markdown",
   "metadata": {
    "tags": []
   },
   "source": [
    "# Functions\n",
    "Thousands of functions are built into the Python computer language and still others can be loaded by using the `import` Python command. This is very powerful and provides almost limitless capability to the Python language. However, there are many times when a custom function may be needed and this is a very powerful way to automate repetitive data handling and analysis tasks in a reproducible manner. Functions take arguments given in paretheses *()* directly following the name. For instance below is the built-in Python print function:"
   ]
  },
  {
   "cell_type": "markdown",
   "metadata": {},
   "source": [
    "## Adding a table column based on a calculation using other columns\n",
    "\n",
    "### Task: Add a column to the ice_cream table "
   ]
  },
  {
   "cell_type": "code",
   "execution_count": null,
   "metadata": {},
   "outputs": [],
   "source": [
    "def double(x):\n",
    "    \"\"\" doubles \"\"\"\n",
    "    return 2*x"
   ]
  },
  {
   "cell_type": "code",
   "execution_count": null,
   "metadata": {
    "tags": []
   },
   "outputs": [],
   "source": [
    "help(double)"
   ]
  },
  {
   "cell_type": "code",
   "execution_count": null,
   "metadata": {},
   "outputs": [],
   "source": [
    "def triple(xtra):\n",
    "    \"\"\" triples \"\"\"\n",
    "    return 3*xtra"
   ]
  },
  {
   "cell_type": "code",
   "execution_count": null,
   "metadata": {},
   "outputs": [],
   "source": [
    "x = double(4)*triple(4)\n",
    "x"
   ]
  },
  {
   "cell_type": "markdown",
   "metadata": {},
   "source": [
    "# Applying functions to Tables\n",
    "\n",
    "Suppose we were give a table of x1, y1, x2, y2 coordinates pairs."
   ]
  },
  {
   "cell_type": "code",
   "execution_count": null,
   "metadata": {
    "tags": []
   },
   "outputs": [],
   "source": [
    "from datascience import *\n",
    "import numpy as np\n",
    "%matplotlib inline\n",
    "\n",
    "x1 = make_array(1, 3, 6, 0)\n",
    "x2 = make_array(2, 4, 1, 4)\n",
    "y1 = make_array(3, 5, 1, 0)\n",
    "y2 = make_array(3, 2, 4, 3)\n",
    "coordinate_pairs = Table().with_columns(\"x1\", x1, \"y1\", y1, \"x2\", x2, \"y2\", y2)\n",
    "coordinate_pairs"
   ]
  },
  {
   "cell_type": "markdown",
   "metadata": {
    "tags": []
   },
   "source": [
    "Now suppose we want to add a column that contain the distance between the (x1, y1) and (x2, y2) pairs.\n",
    "\n",
    "$$ distance = \\sqrt{(x_1 - x_2)^2 + (y_1 - y_2)^2} $$\n",
    "\n",
    "FIRST: Create a function to calculate distance."
   ]
  },
  {
   "cell_type": "code",
   "execution_count": null,
   "metadata": {
    "tags": []
   },
   "outputs": [],
   "source": [
    "def distance(x1, y1, x2, y2):\n",
    "    \"\"\" \n",
    "    This function takes two pairs of (x,y) coordinates\n",
    "    and calulates the Euclidean distance using the\n",
    "    Pythagorean theorem.\n",
    "    \"\"\"\n",
    "    delta_x = x1 - x2\n",
    "    delta_y = y1 - y2\n",
    "    dist = np.sqrt(delta_x**2 + delta_y**2)\n",
    "    return dist"
   ]
  },
  {
   "cell_type": "code",
   "execution_count": null,
   "metadata": {
    "tags": []
   },
   "outputs": [],
   "source": [
    "# Test our function with a 3, 4, 5 triangle\n",
    "x1 = 0\n",
    "x2 = 4\n",
    "y1 = 0\n",
    "y2 = 3\n",
    "distance(x1, y1, x2, y2) # result should be 5"
   ]
  },
  {
   "cell_type": "markdown",
   "metadata": {},
   "source": [
    "#### We could do this the way we've learned before:"
   ]
  },
  {
   "cell_type": "code",
   "execution_count": null,
   "metadata": {},
   "outputs": [],
   "source": [
    "X1 = coordinate_pairs.column('x1') # extract data array for column\n",
    "X2 = coordinate_pairs.column('x2')\n",
    "Y1 = coordinate_pairs.column('y1')\n",
    "Y2 = coordinate_pairs.column('y2')\n",
    "dist = distance(X1, X2, Y1, Y2) # calculate distance\n",
    "new_table = coordinate_pairs.with_columns(\"distance\", dist) # add distance to Table\n",
    "new_table\n"
   ]
  },
  {
   "cell_type": "markdown",
   "metadata": {},
   "source": [
    "#### But more effective to use \"Apply\" to compute new Table column"
   ]
  },
  {
   "cell_type": "code",
   "execution_count": null,
   "metadata": {
    "tags": []
   },
   "outputs": [],
   "source": [
    "coordinate_pairs = coordinate_pairs.with_columns(\n",
    "    \"distance\", coordinate_pairs.apply(distance, 'x1', 'y1', 'x2', 'y2')\n",
    ")\n",
    "\n",
    "coordinate_pairs"
   ]
  },
  {
   "cell_type": "markdown",
   "metadata": {
    "tags": []
   },
   "source": [
    "# Visualize Table Data"
   ]
  },
  {
   "cell_type": "markdown",
   "metadata": {},
   "source": [
    "### Scatter depicts relationship between two variables"
   ]
  },
  {
   "cell_type": "code",
   "execution_count": null,
   "metadata": {},
   "outputs": [],
   "source": [
    "coordinate_pairs.scatter('x1', 'y1')"
   ]
  },
  {
   "cell_type": "markdown",
   "metadata": {},
   "source": [
    "## Histograms"
   ]
  },
  {
   "cell_type": "code",
   "execution_count": null,
   "metadata": {
    "tags": []
   },
   "outputs": [],
   "source": [
    "# Instead of using real names, we will use a python package that generates fake name.\n",
    "# This is an excellent way to anonymize personal data.\n",
    "\n",
    "!pip install faker"
   ]
  },
  {
   "cell_type": "code",
   "execution_count": null,
   "metadata": {
    "tags": []
   },
   "outputs": [],
   "source": [
    "from faker import Faker\n",
    "fake = Faker()\n",
    "fake.name()"
   ]
  },
  {
   "cell_type": "code",
   "execution_count": null,
   "metadata": {
    "tags": []
   },
   "outputs": [],
   "source": [
    "names = []\n",
    "for i in np.arange(28):\n",
    "    names.append(fake.name())\n",
    "names = np.array(names)\n",
    "names"
   ]
  },
  {
   "cell_type": "code",
   "execution_count": null,
   "metadata": {
    "tags": []
   },
   "outputs": [],
   "source": [
    "scores = make_array(\n",
    "    1.00,\n",
    "    3.50,\n",
    "    2.50,\n",
    "    4.00,\n",
    "    6.00,\n",
    "    5.50,\n",
    "    4.00,\n",
    "    2.50,\n",
    "    2.50,\n",
    "    2.00,\n",
    "    1.00,\n",
    "    3.50,\n",
    "    4.50,\n",
    "    3.00,\n",
    "    1.00,\n",
    "    4.50,\n",
    "    5.00,\n",
    "    6.00,\n",
    "    4.00,\n",
    "    5.00,\n",
    "    3.50,\n",
    "    4.00,\n",
    "    3.00,\n",
    "    2.00,\n",
    "    3.00,\n",
    "    6.00,\n",
    "    4.00,\n",
    "    4.00\n",
    ")\n",
    "\n",
    "scores"
   ]
  },
  {
   "cell_type": "code",
   "execution_count": null,
   "metadata": {
    "tags": []
   },
   "outputs": [],
   "source": [
    "quiz2 = Table().with_columns(\"Name\", names, \"Score\", scores)\n",
    "quiz2"
   ]
  },
  {
   "cell_type": "code",
   "execution_count": null,
   "metadata": {
    "tags": []
   },
   "outputs": [],
   "source": [
    "help(quiz2.stats)"
   ]
  },
  {
   "cell_type": "code",
   "execution_count": null,
   "metadata": {
    "tags": []
   },
   "outputs": [],
   "source": [
    "quiz2.stats((np.min, np.max, np.mean, np.median, np.std))"
   ]
  },
  {
   "cell_type": "code",
   "execution_count": null,
   "metadata": {
    "tags": []
   },
   "outputs": [],
   "source": [
    "quiz2.hist('Score')"
   ]
  },
  {
   "cell_type": "markdown",
   "metadata": {},
   "source": [
    "## To understand the units on the vertical scale\n",
    "Read: https://www.stat.berkeley.edu/~stark/SticiGui/Text/histograms.htm"
   ]
  },
  {
   "cell_type": "markdown",
   "metadata": {},
   "source": [
    "# Understanding function documentation\n",
    "http://www.data8.org/datascience/_autosummary/datascience.tables.Table.hist.html"
   ]
  },
  {
   "cell_type": "code",
   "execution_count": null,
   "metadata": {
    "tags": []
   },
   "outputs": [],
   "source": [
    "# Try one of the options shown in the documentation.\n",
    "quiz2.hist('Score', bins = [0, 1, 2, 3, 4, 5, 6])"
   ]
  },
  {
   "cell_type": "markdown",
   "metadata": {},
   "source": [
    "## Bar plot"
   ]
  },
  {
   "cell_type": "code",
   "execution_count": null,
   "metadata": {
    "tags": []
   },
   "outputs": [],
   "source": [
    "quiz2.bar('Name','Score')"
   ]
  },
  {
   "cell_type": "markdown",
   "metadata": {
    "tags": []
   },
   "source": [
    "## When we need to customize the plot we have to reach into the underlying matplotlib plotting library."
   ]
  },
  {
   "cell_type": "code",
   "execution_count": null,
   "metadata": {
    "tags": []
   },
   "outputs": [],
   "source": [
    "quiz2.bar('Name','Score', width=20)\n",
    "ax = plt.gca()\n",
    "ax.set_xticklabels(ax.get_xticklabels(), rotation=90, ha='right')"
   ]
  },
  {
   "cell_type": "code",
   "execution_count": null,
   "metadata": {
    "tags": []
   },
   "outputs": [],
   "source": [
    "quiz2.bar('Name','Score', width=20)\n",
    "ax = plt.gca()\n",
    "ax.set_xticks(np.arange(len(quiz2.column('Name'))))\n",
    "ax.set_xticklabels(names, rotation=90, ha='right');"
   ]
  },
  {
   "cell_type": "code",
   "execution_count": null,
   "metadata": {
    "tags": []
   },
   "outputs": [],
   "source": [
    "quiz2_sorted = quiz2.sort('Score', descending=True)\n",
    "quiz2_sorted"
   ]
  },
  {
   "cell_type": "code",
   "execution_count": null,
   "metadata": {
    "tags": []
   },
   "outputs": [],
   "source": [
    "quiz2_sorted.bar('Name','Score', width=20)"
   ]
  },
  {
   "cell_type": "code",
   "execution_count": null,
   "metadata": {
    "tags": []
   },
   "outputs": [],
   "source": [
    "quiz2_sorted.bar('Name','Score', width=20)\n",
    "names = quiz2_sorted.column('Name')\n",
    "ax = plt.gca()\n",
    "ax.set_xticks(np.arange(len(quiz2.column('Name'))))\n",
    "ax.set_xticklabels(names, rotation=90, ha='right');"
   ]
  }
 ],
 "metadata": {
  "kernelspec": {
   "display_name": "Python 3 (ipykernel)",
   "language": "python",
   "name": "python3"
  },
  "language_info": {
   "codemirror_mode": {
    "name": "ipython",
    "version": 3
   },
   "file_extension": ".py",
   "mimetype": "text/x-python",
   "name": "python",
   "nbconvert_exporter": "python",
   "pygments_lexer": "ipython3",
   "version": "3.11.6"
  }
 },
 "nbformat": 4,
 "nbformat_minor": 4
}
