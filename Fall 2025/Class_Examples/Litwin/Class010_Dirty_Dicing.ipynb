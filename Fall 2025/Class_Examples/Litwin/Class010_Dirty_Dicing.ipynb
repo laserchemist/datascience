{
 "cells": [
  {
   "cell_type": "markdown",
   "id": "6698cbaa-e748-41ff-8368-4465eb5760e5",
   "metadata": {},
   "source": [
    "# Were any of the teams using loaded dice?\n",
    "<img src=\"data/scoundrels_dicing.jpg\" alt=\"\"/>"
   ]
  },
  {
   "cell_type": "code",
   "execution_count": null,
   "id": "9a63d188-5b32-41e3-bae3-c32b503f16ba",
   "metadata": {},
   "outputs": [],
   "source": [
    "import numpy as np\n",
    "from datascience import *\n",
    "import matplotlib.pyplot as plt\n",
    "%matplotlib inline"
   ]
  },
  {
   "cell_type": "code",
   "execution_count": null,
   "id": "52bb2b0c-1b80-4134-a66c-de46aae1f43c",
   "metadata": {},
   "outputs": [],
   "source": [
    "# Read the data into a datatable\n",
    "dice_rolls = Table().read_table(\"data/dice_Fall2025.csv\")\n",
    "dice_rolls.show(3)"
   ]
  },
  {
   "cell_type": "code",
   "execution_count": null,
   "id": "56a4a8d3-c190-4cbc-bafe-41d1971aba2e",
   "metadata": {},
   "outputs": [],
   "source": [
    "dice_rolls.labels"
   ]
  },
  {
   "cell_type": "markdown",
   "id": "97f56d6e-511e-4888-a67c-c94196742390",
   "metadata": {},
   "source": [
    "## Expected mean total is 7\n",
    "**What we did the teams actually measure?**"
   ]
  },
  {
   "cell_type": "code",
   "execution_count": null,
   "id": "b97d1f14-2dc3-4ba5-8a9e-e683421ef457",
   "metadata": {},
   "outputs": [],
   "source": [
    "for label in dice_rolls.labels:\n",
    "    average = np.mean(dice_rolls.column(label))\n",
    "    print(f\"The {label} had an average roll of {average}\")"
   ]
  },
  {
   "cell_type": "markdown",
   "id": "e1eac92d-8ded-49e1-8f30-9c2b9c92c855",
   "metadata": {},
   "source": [
    "**Let's look at the distribution of rolls. Anything suspicious?**"
   ]
  },
  {
   "cell_type": "code",
   "execution_count": null,
   "id": "9648fc19-fdd3-4f68-b71f-20928b697884",
   "metadata": {},
   "outputs": [],
   "source": [
    "for label in dice_rolls.labels:\n",
    "    dice_rolls.hist(label, bins=np.arange(1.5,13))"
   ]
  },
  {
   "cell_type": "markdown",
   "id": "8a3c3bcd-7a75-4290-9788-dc69a1e2532c",
   "metadata": {},
   "source": [
    "## Create a test statistic\n",
    "The test statistics is the difference between the sample mean and the theortical mean."
   ]
  },
  {
   "cell_type": "code",
   "execution_count": null,
   "id": "b2269652-ead1-4d8f-9dc3-c4738b923178",
   "metadata": {},
   "outputs": [],
   "source": [
    "expected_value = 7\n",
    "test_statistic = np.mean(dice_rolls.column(\"Team 2\")) - expected_value\n",
    "test_statistic"
   ]
  },
  {
   "cell_type": "markdown",
   "id": "381fc309-bbf9-4ec6-bf28-a6662b0a230c",
   "metadata": {},
   "source": [
    "### Null Hypothesis\n",
    "#### Teams did not cheat. They got a higher average purely by chance.\n",
    "\n",
    "### Alternative Hypothesis\n",
    "#### Teams 2 was unlikey to have done so well by chance."
   ]
  },
  {
   "cell_type": "markdown",
   "id": "7e6c71d6-3216-44ae-806a-cb97674e3ee4",
   "metadata": {},
   "source": [
    "## Simulating rolling dice 50 times\n",
    "In a nutshell: we will simulate our experiment -- rolling a pair of dice 50 times -- over and over, each time recording the mean. In some simulations it will be greater than 7, in others less than 7. In the process, we will build up a distribution of possible outcomes of the experiment. We will then see how likely we are to get a sample mean as from the from the expected value as found by Team 2."
   ]
  },
  {
   "cell_type": "code",
   "execution_count": null,
   "id": "2d313d09-36da-4535-86da-bdd9a45f0ee7",
   "metadata": {},
   "outputs": [],
   "source": [
    "# Create an array to represent the possible outcomes of a single dice roll\n",
    "np.arange(1, 7)"
   ]
  },
  {
   "cell_type": "code",
   "execution_count": null,
   "id": "131f1e80-81a6-4f97-b163-5e62c3ff3f5a",
   "metadata": {},
   "outputs": [],
   "source": [
    "# To simulate a roll, we make a random choice from this array.\n",
    "np.random.choice(np.arange(1, 7))"
   ]
  },
  {
   "cell_type": "code",
   "execution_count": null,
   "id": "4c29f83c-7b2e-4896-a71a-492f89613634",
   "metadata": {},
   "outputs": [],
   "source": [
    "# To simulate 50 rolls, we just pass 50 as the second parameter to np.random.choice\n",
    "np.random.choice(np.arange(1, 7), 50)"
   ]
  },
  {
   "cell_type": "code",
   "execution_count": null,
   "id": "77f7a3b4-5b82-4d18-b8fc-a6433246a7e4",
   "metadata": {},
   "outputs": [],
   "source": [
    "# Now we will simulate rolling two dice and summing the result, fifty times.\n",
    "sim_result = np.random.choice(np.arange(1, 7), 50) + np.random.choice(np.arange(1, 7), 50)\n",
    "sim_result"
   ]
  },
  {
   "cell_type": "markdown",
   "id": "ef851eb4-690e-4e04-8248-b579f34fece4",
   "metadata": {},
   "source": [
    "The result above is one simulation of 50 rolls."
   ]
  },
  {
   "cell_type": "markdown",
   "id": "801732a4-dcf6-448c-941f-f563e7e8630f",
   "metadata": {},
   "source": [
    "## Conduct our simulation of 50 rolls ten thousand times\n",
    "To do this, we create an empty list hold our results. Then we loop 10,000 times. Each pass throught the loop we simulate 50 rolls and append the difference of the mean and the expected value to our list of results."
   ]
  },
  {
   "cell_type": "code",
   "execution_count": null,
   "id": "7b351ecc-c4bf-4f3b-b16f-fbaf75181615",
   "metadata": {},
   "outputs": [],
   "source": [
    "num_sim = 10_000\n",
    "expected_value = 7\n",
    "results = []\n",
    "for i in np.arange(num_sim):\n",
    "    sim_result = np.random.choice(np.arange(1, 7), 50) + np.random.choice(np.arange(1, 7), 50)\n",
    "    sim_mean = np.average(sim_result)\n",
    "    results.append(sim_mean - expected_value)"
   ]
  },
  {
   "cell_type": "code",
   "execution_count": null,
   "id": "7bdc63b9-031c-40e8-9e84-b1631b7ad174",
   "metadata": {},
   "outputs": [],
   "source": [
    "# Examine the first few results\n",
    "results[0:10]"
   ]
  },
  {
   "cell_type": "markdown",
   "id": "cc9476a6-e678-44d3-879a-78946f68cd3d",
   "metadata": {},
   "source": [
    "## Plot the distribution of our the simulated differences from the expected value"
   ]
  },
  {
   "cell_type": "code",
   "execution_count": null,
   "id": "067dadcf-4a26-44da-8949-d1ae80aa8bdf",
   "metadata": {},
   "outputs": [],
   "source": [
    "plt.hist(results, bins=20, alpha=0.5, edgecolor=\"black\")\n",
    "plt.scatter(test_statistic, 0, marker=\"^\", s=400, color=\"red\")\n",
    "plt.xlabel(\"Difference from expected value\");"
   ]
  },
  {
   "cell_type": "markdown",
   "id": "0c133e6a-54aa-48b1-8119-5d3615f3671d",
   "metadata": {},
   "source": [
    "You can see that most of the simulations yielded means within plus or minus 1 of the expected value. The value reported by Team 2 (red triangle) is out on the fringes."
   ]
  },
  {
   "cell_type": "markdown",
   "id": "cdb64cef-cecc-4221-bf6b-ffefcbbafb7a",
   "metadata": {},
   "source": [
    "## p-value\n",
    "The p-value is the simply the probability of getting a result greater than or equal to the test statisic by chance. So we calculate what fraction of our simulations yielded differences from the expected value as large or larger as the value Team 2 reported."
   ]
  },
  {
   "cell_type": "code",
   "execution_count": null,
   "id": "c8a3e6fe-d715-4ef1-9b27-4c13453cd888",
   "metadata": {},
   "outputs": [],
   "source": [
    "results = np.array(results)\n",
    "p_value = np.count_nonzero(results >= test_statistic) / num_sim\n",
    "p_value"
   ]
  },
  {
   "cell_type": "markdown",
   "id": "01012400-3aef-4464-9257-91c7f9139541",
   "metadata": {},
   "source": [
    "What did we just do to calculate the p-value?"
   ]
  },
  {
   "cell_type": "markdown",
   "id": "511d7230-dbe6-4f38-914c-a7cad4ba3b13",
   "metadata": {},
   "source": [
    "## What does thie p-value mean?\n",
    "In 10,000 simulations of rolling fair dice 50 times, we never got an average this far from the expected value of 7. We can say with great confidence that something is fishy about the dice used by Team 2."
   ]
  },
  {
   "cell_type": "markdown",
   "id": "3c3cafe4-a653-47e2-a36c-0734680c7b83",
   "metadata": {},
   "source": [
    "Here is a quick explanation of how the count_nonzero worked."
   ]
  },
  {
   "cell_type": "code",
   "execution_count": null,
   "id": "cb89023b-370f-4b7e-890a-2b2155002e56",
   "metadata": {},
   "outputs": [],
   "source": [
    "x = make_array(1, 4, 8, 2, 5)\n",
    "x > 4"
   ]
  },
  {
   "cell_type": "code",
   "execution_count": null,
   "id": "f95e277d-0dfd-4128-83a5-a137502f432c",
   "metadata": {},
   "outputs": [],
   "source": [
    "# True is 1, False is 0, so...\n",
    "np.count_nonzero(x > 4)"
   ]
  },
  {
   "cell_type": "markdown",
   "id": "28350906-9706-4b07-817a-ae87eab61430",
   "metadata": {},
   "source": [
    "## What about Team 4?\n",
    "Team 4 had a mean of 7.32, the next furtherest from the expected value of 7. Is this difference significant?"
   ]
  },
  {
   "cell_type": "code",
   "execution_count": null,
   "id": "afe1f874-7c49-4a49-84d7-9840b30ec89b",
   "metadata": {},
   "outputs": [],
   "source": [
    "# New test statistic\n",
    "test_statistic = 7.32 - 7.0\n",
    "test_statistic"
   ]
  },
  {
   "cell_type": "code",
   "execution_count": null,
   "id": "a55f169d-f89c-4ef2-ad0d-7b17831f79b1",
   "metadata": {},
   "outputs": [],
   "source": [
    "plt.hist(results, bins=20, alpha=0.5, edgecolor=\"black\")\n",
    "plt.scatter(test_statistic, 0, marker=\"^\", s=400, color=\"red\")\n",
    "plt.xlabel(\"Difference from expected value\");"
   ]
  },
  {
   "cell_type": "markdown",
   "id": "8326b30f-75f4-411d-a604-54362a6f1ade",
   "metadata": {},
   "source": [
    "This time the red triangle is well within the distribution of simulated values. Let's check the p-value."
   ]
  },
  {
   "cell_type": "code",
   "execution_count": null,
   "id": "9f227c19-de70-4708-95f7-6367e1e1372f",
   "metadata": {},
   "outputs": [],
   "source": [
    "p_value = np.count_nonzero(results > test_statistic) / num_sim\n",
    "p_value"
   ]
  },
  {
   "cell_type": "markdown",
   "id": "4835b12d-ceb8-48f2-a232-c3f3c5b67eab",
   "metadata": {},
   "source": [
    "There is a greater than 15% chance of getting a value as far from the expected value as Team 4's result. We don't have sufficient evidence to reject the Null Hypothesis, so we cannot say that Team 4's result shows evidence of foul play.\n",
    "\n",
    "This doesn't *prove* that dice they used are fair, but the data are consistent with what we'd expect. Team 2, however, well they were clearly up to something shady."
   ]
  }
 ],
 "metadata": {
  "kernelspec": {
   "display_name": "Python 3 (ipykernel)",
   "language": "python",
   "name": "python3"
  },
  "language_info": {
   "codemirror_mode": {
    "name": "ipython",
    "version": 3
   },
   "file_extension": ".py",
   "mimetype": "text/x-python",
   "name": "python",
   "nbconvert_exporter": "python",
   "pygments_lexer": "ipython3",
   "version": "3.11.6"
  }
 },
 "nbformat": 4,
 "nbformat_minor": 5
}
