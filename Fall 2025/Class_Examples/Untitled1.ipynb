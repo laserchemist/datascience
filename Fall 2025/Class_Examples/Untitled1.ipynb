{
 "cells": [
  {
   "cell_type": "markdown",
   "id": "1b03744d-f4f4-4189-b43c-ba1a41def911",
   "metadata": {},
   "source": [
    "# Determining weight on Moon"
   ]
  },
  {
   "cell_type": "markdown",
   "id": "3ab775f3-a2a0-4781-b029-40b566b4d63b",
   "metadata": {},
   "source": [
    "Provide your weight on Earth"
   ]
  },
  {
   "cell_type": "code",
   "execution_count": 1,
   "id": "72cf9419-98ac-4f7c-a135-808906e2641b",
   "metadata": {},
   "outputs": [],
   "source": [
    "weight_Earth_lb = 105.4"
   ]
  },
  {
   "cell_type": "code",
   "execution_count": null,
   "id": "8724dd60-ceb1-4937-ab0a-0377140146bf",
   "metadata": {},
   "outputs": [],
   "source": []
  }
 ],
 "metadata": {
  "kernelspec": {
   "display_name": "Python 3 (ipykernel)",
   "language": "python",
   "name": "python3"
  },
  "language_info": {
   "codemirror_mode": {
    "name": "ipython",
    "version": 3
   },
   "file_extension": ".py",
   "mimetype": "text/x-python",
   "name": "python",
   "nbconvert_exporter": "python",
   "pygments_lexer": "ipython3",
   "version": "3.12.3"
  }
 },
 "nbformat": 4,
 "nbformat_minor": 5
}
