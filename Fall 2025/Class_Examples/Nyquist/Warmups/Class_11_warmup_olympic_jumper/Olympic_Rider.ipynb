{
 "cells": [
  {
   "cell_type": "code",
   "execution_count": 1,
   "id": "fc60188c-fe3a-4235-b3f2-8f65a856d630",
   "metadata": {
    "tags": []
   },
   "outputs": [
    {
     "name": "stdout",
     "output_type": "stream",
     "text": [
      "Collecting lossrider\n",
      "  Using cached lossrider-0.0.3-py3-none-any.whl (7.9 kB)\n",
      "Requirement already satisfied: pandas in /opt/conda/lib/python3.10/site-packages (from lossrider) (2.0.1)\n",
      "Requirement already satisfied: python-dateutil>=2.8.2 in /opt/conda/lib/python3.10/site-packages (from pandas->lossrider) (2.8.2)\n",
      "Requirement already satisfied: pytz>=2020.1 in /opt/conda/lib/python3.10/site-packages (from pandas->lossrider) (2023.3)\n",
      "Requirement already satisfied: tzdata>=2022.1 in /opt/conda/lib/python3.10/site-packages (from pandas->lossrider) (2023.3)\n",
      "Requirement already satisfied: numpy>=1.21.0 in /opt/conda/lib/python3.10/site-packages (from pandas->lossrider) (1.23.5)\n",
      "Requirement already satisfied: six>=1.5 in /opt/conda/lib/python3.10/site-packages (from python-dateutil>=2.8.2->pandas->lossrider) (1.16.0)\n",
      "Installing collected packages: lossrider\n",
      "Successfully installed lossrider-0.0.3\n"
     ]
    }
   ],
   "source": [
    "!pip install lossrider"
   ]
  },
  {
   "cell_type": "code",
   "execution_count": 2,
   "id": "e7807c30-ab58-4122-a527-ff742c937d9a",
   "metadata": {
    "tags": []
   },
   "outputs": [
    {
     "data": {
      "text/html": [
       "\n",
       "        <iframe\n",
       "            width=\"900\"\n",
       "            height=\"600\"\n",
       "            src=\"https://www.linerider.com/\"\n",
       "            frameborder=\"0\"\n",
       "            allowfullscreen\n",
       "            \n",
       "        ></iframe>\n",
       "        "
      ],
      "text/plain": [
       "<IPython.lib.display.IFrame at 0x7f20d538dab0>"
      ]
     },
     "execution_count": 2,
     "metadata": {},
     "output_type": "execute_result"
    }
   ],
   "source": [
    "import pandas as pd\n",
    "from lossrider import lossrider\n",
    "\n",
    "# Load a csv that contains columns named \"Validation Loss\", \"Run Count\" and \"model_type\"\n",
    "data = pd.read_csv(\"sweep_df.csv\")\n",
    "\n",
    "# Plot it!\n",
    "lossrider(\n",
    "    data,\n",
    "    x=\"Run Count\", \n",
    "    y=\"Validation Loss\",\n",
    "    hue=\"model_type\",\n",
    "    xlim=(0.6, 340),\n",
    "    ylim=(3.2, 3.8),\n",
    "    xticks=(1, 10, 100), \n",
    "    yticks=[x/10 for x in range(32, 39)],\n",
    "    width=1000, height=500, fontsize=30,\n",
    "    logx=True, grid=False,\n",
    "    legend=True, legend_loc=(.65, 1),\n",
    "    outfile='sweep_strategies',\n",
    ")"
   ]
  },
  {
   "cell_type": "code",
   "execution_count": 4,
   "id": "8fe20db1-3236-45d8-90cd-2b488a5d146c",
   "metadata": {
    "tags": []
   },
   "outputs": [
    {
     "name": "stdout",
     "output_type": "stream",
     "text": [
      "Help on function lossrider in module lossrider.lossridersrc:\n",
      "\n",
      "lossrider(df, x, y, hue=None, outfile='lossrider.save', width=3000, height=1000, xlim=(None, None), ylim=(None, None), logy=False, logx=False, xlabel=None, ylabel=None, xticks=(), yticks=(), xticklabels=(), yticklabels=(), palette=('#fd4f38Red', '#06a725Green', '#3995fdBlue', '#ffd54bYellow', '#62dad4Cyan', '#d171dfMagenta'), grid=True, legend=False, legend_loc=(1, 1), fontsize=100, tick_fontsize=None, label_fontsize=None, legend_fontsize=None)\n",
      "\n"
     ]
    }
   ],
   "source": [
    "help(lossrider)"
   ]
  },
  {
   "cell_type": "code",
   "execution_count": null,
   "id": "e8f48500-a015-421f-88a6-c93c3418d14a",
   "metadata": {},
   "outputs": [],
   "source": []
  }
 ],
 "metadata": {
  "kernelspec": {
   "display_name": "Python 3 (ipykernel)",
   "language": "python",
   "name": "python3"
  },
  "language_info": {
   "codemirror_mode": {
    "name": "ipython",
    "version": 3
   },
   "file_extension": ".py",
   "mimetype": "text/x-python",
   "name": "python",
   "nbconvert_exporter": "python",
   "pygments_lexer": "ipython3",
   "version": "3.10.11"
  }
 },
 "nbformat": 4,
 "nbformat_minor": 5
}
