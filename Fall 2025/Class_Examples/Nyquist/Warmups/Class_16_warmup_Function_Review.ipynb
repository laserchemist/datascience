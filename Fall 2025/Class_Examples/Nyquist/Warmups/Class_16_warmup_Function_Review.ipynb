{
 "cells": [
  {
   "cell_type": "markdown",
   "id": "d33b0641-a8e6-4398-a3fd-172b8dd24389",
   "metadata": {},
   "source": [
    "# Phone Number Letters to Digits\n",
    "Let write a function that will take phone numbers that contain letters and convert them to purely numeric.\n",
    "\n",
    "![](./data/phone_numbers.gif)\n",
    "\n",
    "### Use a dictionary to map letters to numbers"
   ]
  },
  {
   "cell_type": "code",
   "execution_count": 8,
   "id": "8a4c32b5-96d5-4fb2-b487-ee935387c768",
   "metadata": {
    "tags": []
   },
   "outputs": [],
   "source": [
    "# Dictionary to map letters to their corresponding digits\n",
    "letter_to_digit = {\n",
    "    'A': '2', 'B': '2', 'C': '2',\n",
    "    'D': '3', 'E': '3', 'F': '3',\n",
    "    'G': '4', 'H': '4', 'I': '4',\n",
    "    'J': '5', 'K': '5', 'L': '5',\n",
    "    'M': '6', 'N': '6', 'O': '6',\n",
    "    'P': '7', 'Q': '7', 'R': '7', 'S': '7',\n",
    "    'T': '8', 'U': '8', 'V': '8',\n",
    "    'W': '9', 'X': '9', 'Y': '9', 'Z': '9'\n",
    "}"
   ]
  },
  {
   "cell_type": "code",
   "execution_count": 9,
   "id": "6944788f-ff6e-466b-af3d-2c36033ec3f6",
   "metadata": {
    "tags": []
   },
   "outputs": [
    {
     "data": {
      "text/plain": [
       "'7'"
      ]
     },
     "execution_count": 9,
     "metadata": {},
     "output_type": "execute_result"
    }
   ],
   "source": [
    "# Try the dictionary\n",
    "\n",
    "letter_to_digit[\"R\"]"
   ]
  },
  {
   "cell_type": "markdown",
   "id": "1e1f6c39-19d7-44d1-ab22-263d02ec6f5c",
   "metadata": {},
   "source": [
    "## Student task 1\n",
    "You try using the dictionary for some other letters."
   ]
  },
  {
   "cell_type": "code",
   "execution_count": null,
   "id": "0d372f6f-dda0-43ec-aa15-d62eb344e3df",
   "metadata": {},
   "outputs": [],
   "source": []
  },
  {
   "cell_type": "code",
   "execution_count": null,
   "id": "21570c11-8730-47ba-ac64-adbf1e667cef",
   "metadata": {},
   "outputs": [],
   "source": []
  },
  {
   "cell_type": "markdown",
   "id": "e7d4ed34-b55e-4bd4-a4b1-5717c2cab5fb",
   "metadata": {},
   "source": [
    "### Looping over the charcters in a phone number"
   ]
  },
  {
   "cell_type": "code",
   "execution_count": 11,
   "id": "b542a633-fc75-4a5d-8ddc-221f29b20d94",
   "metadata": {
    "tags": []
   },
   "outputs": [
    {
     "name": "stdout",
     "output_type": "stream",
     "text": [
      "1\n",
      "-\n",
      "8\n",
      "0\n",
      "0\n",
      "-\n",
      "C\n",
      "O\n",
      "N\n",
      "T\n",
      "A\n",
      "C\n",
      "T\n",
      "S\n"
     ]
    }
   ],
   "source": [
    "phone_num = \"1-800-CONTACTS\"\n",
    "\n",
    "for char in phone_num:\n",
    "    print(char)"
   ]
  },
  {
   "cell_type": "markdown",
   "id": "c0679979-e24d-4d31-852c-74013bd7924c",
   "metadata": {},
   "source": [
    "### Checking to see if a charater is an number"
   ]
  },
  {
   "cell_type": "code",
   "execution_count": 14,
   "id": "1616d3bb-d6c5-410b-b5a8-89aa202a9cf9",
   "metadata": {
    "tags": []
   },
   "outputs": [
    {
     "name": "stdout",
     "output_type": "stream",
     "text": [
      "1 is a number\n",
      "- in not a letter or a number\n",
      "8 is a number\n",
      "0 is a number\n",
      "0 is a number\n",
      "- in not a letter or a number\n",
      "C is a letter\n",
      "O is a letter\n",
      "N is a letter\n",
      "T is a letter\n",
      "A is a letter\n",
      "C is a letter\n",
      "T is a letter\n",
      "S is a letter\n"
     ]
    }
   ],
   "source": [
    "for char in phone_num:\n",
    "    if char.isdigit():\n",
    "        print(char, \"is a number\")\n",
    "    elif char.isalpha():\n",
    "        print(char, \"is a letter\")\n",
    "    else:\n",
    "        print(char, \"in not a letter or a number\")"
   ]
  },
  {
   "cell_type": "markdown",
   "id": "8a0436bb-fd1e-49ed-9b76-a22f228784c3",
   "metadata": {},
   "source": [
    "## Student task 2\n",
    "Does the loop above work for phone numbers with spaces? Parentheses around the area code? Periods instead of hyphens?"
   ]
  },
  {
   "cell_type": "markdown",
   "id": "047c0506-9a15-4510-bd19-91946add38d1",
   "metadata": {},
   "source": []
  },
  {
   "cell_type": "markdown",
   "id": "2c6bebe1-6cd7-4466-9d21-d54955ed747a",
   "metadata": {},
   "source": [
    "## Student task 3 \n",
    "\n",
    "Recall that you can \"add\" strings. Try adding \"hello\" + \"world\"\n",
    "\n",
    "What happens if you use the += operator with strings? For example: \"cat\" += \"s\""
   ]
  },
  {
   "cell_type": "code",
   "execution_count": null,
   "id": "4ded6800-7f07-46a3-9976-10db4aa1ea86",
   "metadata": {},
   "outputs": [],
   "source": []
  },
  {
   "cell_type": "markdown",
   "id": "476e2dfd-85ff-46cb-9cdd-832d1e3aaeea",
   "metadata": {},
   "source": [
    "### Put it all in a function"
   ]
  },
  {
   "cell_type": "code",
   "execution_count": 3,
   "id": "958b7a8a-6c12-46a4-9bc1-d37e5dcdc296",
   "metadata": {
    "tags": []
   },
   "outputs": [],
   "source": [
    "def convert_phone_number(phone_number):\n",
    "    # Dictionary to map letters to their corresponding digits\n",
    "    letter_to_digit = {\n",
    "        'A': '2', 'B': '2', 'C': '2',\n",
    "        'D': '3', 'E': '3', 'F': '3',\n",
    "        'G': '4', 'H': '4', 'I': '4',\n",
    "        'J': '5', 'K': '5', 'L': '5',\n",
    "        'M': '6', 'N': '6', 'O': '6',\n",
    "        'P': '7', 'Q': '7', 'R': '7', 'S': '7',\n",
    "        'T': '8', 'U': '8', 'V': '8',\n",
    "        'W': '9', 'X': '9', 'Y': '9', 'Z': '9'\n",
    "    }\n",
    "\n",
    "    # Convert the phone number to uppercase\n",
    "    phone_number = phone_number.upper()\n",
    "\n",
    "    # Initialize an empty string for the result\n",
    "    result = \"\"\n",
    "\n",
    "    # Iterate through each character in the phone number\n",
    "    for char in phone_number:\n",
    "        if char.isdigit():\n",
    "            # If it's already a digit, add it to the result\n",
    "            result += char\n",
    "        elif char.isalpha():\n",
    "            # If it's a letter, convert it to the corresponding digit\n",
    "            result += letter_to_digit.get(char, '')\n",
    "        # Ignore any other characters (like hyphens or spaces)\n",
    "\n",
    "    return result\n"
   ]
  },
  {
   "cell_type": "code",
   "execution_count": 6,
   "id": "37eeb272-f2b6-422d-88ee-4bc5d66f1326",
   "metadata": {
    "tags": []
   },
   "outputs": [
    {
     "data": {
      "text/plain": [
       "'86646734636'"
      ]
     },
     "execution_count": 6,
     "metadata": {},
     "output_type": "execute_result"
    }
   ],
   "source": [
    "phone_num = \"866-HOPE-4-MEN\"\n",
    "convert_phone_number(phone_num)"
   ]
  },
  {
   "cell_type": "code",
   "execution_count": 5,
   "id": "7dcc1ef0-73b2-477a-894a-d75e61c91cf7",
   "metadata": {
    "tags": []
   },
   "outputs": [
    {
     "data": {
      "text/plain": [
       "'18004685865'"
      ]
     },
     "execution_count": 5,
     "metadata": {},
     "output_type": "execute_result"
    }
   ],
   "source": [
    "phone_num = \"1-800-GOT-JUNK\"\n",
    "convert_phone_number(phone_num)"
   ]
  },
  {
   "cell_type": "markdown",
   "id": "5db9b159-3242-4046-9cdc-116b749816bb",
   "metadata": {},
   "source": [
    "## Student task 4:\n",
    "\n",
    "Try this function with other phone numbers you can think of that include letters."
   ]
  },
  {
   "cell_type": "code",
   "execution_count": null,
   "id": "54dbdd1f-e5f8-409d-b5c2-ee6c2b4c8cb8",
   "metadata": {},
   "outputs": [],
   "source": []
  },
  {
   "cell_type": "code",
   "execution_count": null,
   "id": "93702ef6-2fc7-4ff1-ad4b-432625d278fc",
   "metadata": {},
   "outputs": [],
   "source": []
  },
  {
   "cell_type": "code",
   "execution_count": null,
   "id": "9657d7f8-77e8-4642-b5b4-853d5de45f49",
   "metadata": {},
   "outputs": [],
   "source": []
  }
 ],
 "metadata": {
  "kernelspec": {
   "display_name": "Python 3 (ipykernel)",
   "language": "python",
   "name": "python3"
  },
  "language_info": {
   "codemirror_mode": {
    "name": "ipython",
    "version": 3
   },
   "file_extension": ".py",
   "mimetype": "text/x-python",
   "name": "python",
   "nbconvert_exporter": "python",
   "pygments_lexer": "ipython3",
   "version": "3.10.11"
  }
 },
 "nbformat": 4,
 "nbformat_minor": 5
}
