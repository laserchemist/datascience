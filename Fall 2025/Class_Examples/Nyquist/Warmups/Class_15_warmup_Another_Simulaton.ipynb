{
 "cells": [
  {
   "cell_type": "markdown",
   "id": "b745b360-d8a4-4fe4-b356-7c0672a72370",
   "metadata": {},
   "source": [
    "# Class 15 Warm-up: Another Simulation Example"
   ]
  },
  {
   "cell_type": "code",
   "execution_count": null,
   "id": "77222ace-a8d1-4007-937d-b0e0ffe993be",
   "metadata": {
    "tags": []
   },
   "outputs": [],
   "source": [
    "import numpy as np\n",
    "from datascience import *\n",
    "%matplotlib inline\n",
    "import matplotlib.pyplot as plt\n",
    "plt.style.use('ggplot')"
   ]
  },
  {
   "cell_type": "markdown",
   "id": "12c56ce3-1f0b-4188-bf70-01ca03580d5e",
   "metadata": {},
   "source": [
    "# The Question that Started Probability Theory\n",
    "\n",
    "\"De Méré's problem is a question posed in the mid-seventeenth century to Blaise Pascal by a French nobleman and inveterate gambler, the Chevalier de Méré, which marked the birth of probability theory. One of de Méré's favorite bets was that at least one six would appear during a total of four rolls of a die. From past experience, he knew that this gamble paid off more often than not. Then, for a change, he started betting that he would get a double-six on 24 rolls of two dice. However, he soon realized that his old approach to the game was more profitable. He asked his friend Pascal why. Pascal showed that the probability of getting at least one six in four rolls of a die is 1 - (5/6)4 ~ 0.5177, which is slightly higher than the probability of at least one double-six in 24 throws of two dice, 1 - (35/36)24 ~ 0.4914.\"\n",
    "\n",
    "https://www.daviddarling.info/encyclopedia/D/de_Meres_problem.html"
   ]
  },
  {
   "cell_type": "markdown",
   "id": "5ae2f08a-31e2-4148-8bab-ddaf745dd313",
   "metadata": {},
   "source": [
    "# Solving by Simulation\n",
    "In this case, calculating the odds of getting a six is four rolls in easy. Instead of using the formula, let's solve the problem using simulation. \n",
    "\n",
    "## Step One: Simulate rolling a six-side die.\n",
    "Try running the cell below a number of times to convince yourself it works."
   ]
  },
  {
   "cell_type": "code",
   "execution_count": null,
   "id": "ea3227cd-d995-48f2-8c80-05fe1017080f",
   "metadata": {},
   "outputs": [],
   "source": [
    "# Generate a random integer from 1 up to, but not including, 7.\n",
    "np.random.randint(1, 7)"
   ]
  },
  {
   "cell_type": "markdown",
   "id": "462b6ec3-b6bf-42d0-bdec-238c82bba70f",
   "metadata": {
    "tags": []
   },
   "source": [
    "## Step Two: Four Rolls\n",
    "Create a function that \"rolls\" the die 4 times and returns True if any of the rolls is a six, False otherwise.\n",
    "\n",
    "**You fill in the ...**"
   ]
  },
  {
   "cell_type": "code",
   "execution_count": null,
   "id": "8f7c4d25-4f10-420d-b1b0-4454784ad0d4",
   "metadata": {
    "tags": []
   },
   "outputs": [],
   "source": [
    "def six_in_four_roll():\n",
    "    got_a_six = False\n",
    "    for i in np.arange(4):\n",
    "        if np.random.randint(1, 7) == 6:\n",
    "            got_a_six = ...\n",
    "    return got_a_six"
   ]
  },
  {
   "cell_type": "markdown",
   "id": "724e55ca-9928-461f-a0c3-9393537de3c9",
   "metadata": {},
   "source": [
    "## Step Three: Test that the function works"
   ]
  },
  {
   "cell_type": "code",
   "execution_count": null,
   "id": "f5e10728-e51f-49e4-ac3b-db81b397eeed",
   "metadata": {
    "tags": []
   },
   "outputs": [],
   "source": [
    "# Run the function once\n",
    "..."
   ]
  },
  {
   "cell_type": "markdown",
   "id": "37220d93-d2e0-447b-aae6-d9409e04084f",
   "metadata": {},
   "source": [
    "## Step Four: Call the function repeatedly\n",
    "We start with just ten calls to see that our loop works."
   ]
  },
  {
   "cell_type": "code",
   "execution_count": null,
   "id": "b2f423f8-e74a-4008-a613-17a9a1e53cda",
   "metadata": {
    "tags": []
   },
   "outputs": [],
   "source": [
    "num_simulations = 10\n",
    "results = []\n",
    "for _ in np.arange(num_simulations):\n",
    "    results.append(six_in_four_roll())\n",
    "results"
   ]
  },
  {
   "cell_type": "markdown",
   "id": "8b99b508-0dd7-40df-9dbb-592172075fe1",
   "metadata": {},
   "source": [
    "Remember: In Python True = 1 and False = 0. So if we sum up all the elements of our list we get the number of Trues."
   ]
  },
  {
   "cell_type": "code",
   "execution_count": null,
   "id": "aeaa3530-75c3-4155-874c-805a3de4eb85",
   "metadata": {
    "tags": []
   },
   "outputs": [],
   "source": [
    "sum(results)"
   ]
  },
  {
   "cell_type": "markdown",
   "id": "3bb21dac-d7bd-4a99-86c9-45ae137a4dfb",
   "metadata": {},
   "source": [
    "## Step 5: Perform the simulation thousands of times"
   ]
  },
  {
   "cell_type": "code",
   "execution_count": null,
   "id": "31d8a9bc-05b8-4798-ac8e-5555ab5e55e3",
   "metadata": {
    "tags": []
   },
   "outputs": [],
   "source": [
    "num_simulations = 200000\n",
    "results = []\n",
    "for _ in np.arange(num_simulations):\n",
    "    results.append(six_in_four_roll())\n",
    "sum(results) / num_simulations"
   ]
  },
  {
   "cell_type": "markdown",
   "id": "be1f66aa-704a-4513-a838-561f9142e117",
   "metadata": {},
   "source": [
    "## How many simulation are needed to get the correct answer to 3 decimal places?"
   ]
  },
  {
   "cell_type": "code",
   "execution_count": null,
   "id": "82ca595a-4fbe-4fc7-92db-a43924e8ea3f",
   "metadata": {
    "tags": []
   },
   "outputs": [],
   "source": [
    "correct_answer = 1 - (5/6)**4\n",
    "correct_answer"
   ]
  },
  {
   "cell_type": "markdown",
   "id": "8727371d-dc65-4f72-8d47-1f06d2fb4131",
   "metadata": {},
   "source": [
    "## Challenge Questions\n",
    "\n",
    "### Question 1\n",
    "Assuming De Méré, who loved to gamble, played this game a lot and offered his opponents even odds. For every bet, he wins if a 6 turns up in the four rolls he wins and he loses if it doesn't. Suppose, over the course of a year he bet \\\\$100,000, what would be his expected winnings?"
   ]
  },
  {
   "cell_type": "markdown",
   "id": "62358429-9f4f-4365-9a16-53e721820af5",
   "metadata": {},
   "source": []
  },
  {
   "cell_type": "markdown",
   "id": "fb222f82-2261-470e-8759-f79400724d5b",
   "metadata": {},
   "source": [
    "### Question 2\n",
    "Given that the odds are in his favor, would he have a better chances of coming out ahead if he gambled \\\\$100 at a time, or if he put the whole \\\\$100,00 down as a single bet?"
   ]
  },
  {
   "cell_type": "markdown",
   "id": "7f02fba0-4262-486d-8ce9-e78bddc29021",
   "metadata": {},
   "source": []
  }
 ],
 "metadata": {
  "kernelspec": {
   "display_name": "Python 3 (ipykernel)",
   "language": "python",
   "name": "python3"
  },
  "language_info": {
   "codemirror_mode": {
    "name": "ipython",
    "version": 3
   },
   "file_extension": ".py",
   "mimetype": "text/x-python",
   "name": "python",
   "nbconvert_exporter": "python",
   "pygments_lexer": "ipython3",
   "version": "3.10.11"
  }
 },
 "nbformat": 4,
 "nbformat_minor": 5
}
