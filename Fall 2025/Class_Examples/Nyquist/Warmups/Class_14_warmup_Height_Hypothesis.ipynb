{
 "cells": [
  {
   "cell_type": "markdown",
   "id": "038cb373-64bd-412f-b80b-49492e02ca84",
   "metadata": {},
   "source": [
    "# Class 14 Warm-up: Populations and Sampling continued... Hypothesis Testing\n",
    "\n",
    "This activity will build on the one from Class 13, Tuesday's class.\n",
    "\n",
    "If we have a sammple of only 20 height measurements, can we show a statistically significant difference between the average height of men and women?"
   ]
  },
  {
   "cell_type": "code",
   "execution_count": null,
   "id": "9f102a88-ebb7-4629-b477-c06a3f94dd9d",
   "metadata": {},
   "outputs": [],
   "source": [
    "import numpy as np\n",
    "from datascience import *\n",
    "import matplotlib.pyplot as plt\n",
    "%matplotlib inline"
   ]
  },
  {
   "cell_type": "markdown",
   "id": "38fac14f-78c6-40aa-914e-d9c600507fbf",
   "metadata": {},
   "source": [
    "## Weight and Height Data\n",
    "Let's load our table again."
   ]
  },
  {
   "cell_type": "code",
   "execution_count": null,
   "id": "ba151c99-0792-44de-a281-ff2245170cd4",
   "metadata": {},
   "outputs": [],
   "source": [
    "population = Table.read_table(\"./data/weight-height.csv\")\n",
    "population.show(5)"
   ]
  },
  {
   "cell_type": "markdown",
   "id": "ee95aa46-dc5c-4bab-8305-4f95dda73bab",
   "metadata": {},
   "source": [
    "Let's just focus on height."
   ]
  },
  {
   "cell_type": "code",
   "execution_count": null,
   "id": "d4b45db6-58e5-41b2-8fc7-ba94db8fab0d",
   "metadata": {},
   "outputs": [],
   "source": [
    "pop_ht = population.select(\"Gender\", \"Height\")\n",
    "pop_ht.show(5)"
   ]
  },
  {
   "cell_type": "markdown",
   "id": "0278aeef-fa0a-4bd9-a883-71b8e2c8eaa1",
   "metadata": {},
   "source": [
    "## Plot the distribution by gender for the full 10,000 samples"
   ]
  },
  {
   "cell_type": "code",
   "execution_count": null,
   "id": "4fe242ff-ac9c-43b6-9b22-4b7e1a71c305",
   "metadata": {},
   "outputs": [],
   "source": [
    "male_heights = pop_ht.where(\"Gender\", \"Male\").column(\"Height\")\n",
    "female_heights = pop_ht.where(\"Gender\", \"Female\").column(\"Height\")\n",
    "\n",
    "all_heights = pop_ht.column(\"Height\")\n",
    "bins = np.linspace(np.min(all_heights), np.max(all_heights), 30)\n",
    "\n",
    "plt.figure(figsize=(8, 5))\n",
    "\n",
    "# Plot overlapped histograms with transparency\n",
    "plt.hist(male_heights, bins=bins, color=\"steelblue\", alpha=0.6, label=\"Male\", edgecolor=\"white\")\n",
    "plt.hist(female_heights, bins=bins, color=\"tomato\", alpha=0.6, label=\"Female\", edgecolor=\"white\")\n",
    "\n",
    "plt.title(\"Height Distribution by Gender\")\n",
    "plt.xlabel(\"Height (inches)\")\n",
    "plt.ylabel(\"Count\")\n",
    "plt.legend()\n",
    "plt.tight_layout()\n",
    "plt.show()"
   ]
  },
  {
   "cell_type": "markdown",
   "id": "6dde3959-3bd2-4353-8629-950d7e134ab3",
   "metadata": {},
   "source": [
    "## Challenge #1: Describe in words what the this plot shows."
   ]
  },
  {
   "cell_type": "markdown",
   "id": "cf848ebe-5149-47a4-b1cb-4fb7e2ee94af",
   "metadata": {},
   "source": []
  },
  {
   "cell_type": "markdown",
   "id": "701ca005-e790-4fc8-8f2f-e936157f14e7",
   "metadata": {},
   "source": [
    "## Sampling\n",
    "Data table have a built-in method for random sampling, but there ia trick to ensure you are all working with the same \"random\" sample. We just need to seed the random number generator, which tells it where to start in it's random sequence.\n",
    "\n",
    "Even if you run the cell below multiple times, you'll get the same sample."
   ]
  },
  {
   "cell_type": "code",
   "execution_count": null,
   "id": "6bc8878a-6746-4600-837c-e5e063be705b",
   "metadata": {},
   "outputs": [],
   "source": [
    "np.random.seed(42)  # you can pick any integer seed, but don't change it\n",
    "pop_ht_sample = pop_ht.sample(20)  # reproducible sample\n",
    "pop_ht_sample"
   ]
  },
  {
   "cell_type": "code",
   "execution_count": null,
   "id": "8a55410c-b71b-419f-abae-a470262decfa",
   "metadata": {},
   "outputs": [],
   "source": [
    "# Split the sample by gender\n",
    "men_sample = pop_ht_sample.where(\"Gender\", \"Male\").column(\"Height\")\n",
    "women_sample = pop_ht_sample.where(\"Gender\", \"Female\").column(\"Height\")"
   ]
  },
  {
   "cell_type": "markdown",
   "id": "d59e3380-0f9d-498d-91bc-2c9358860046",
   "metadata": {},
   "source": [
    "A sample of 20 is really to small to make a separate histogram of men's and womens's heights, so let's compare them with a scatter plot. We add a little bit of jitter to the x-values so the points with the same height don't plot of top of each other."
   ]
  },
  {
   "cell_type": "code",
   "execution_count": null,
   "id": "d7b5a9f8-3250-473c-8c67-5f9c74e0ccb5",
   "metadata": {},
   "outputs": [],
   "source": [
    "    # Scatter individual points for each group with slight jitter\n",
    "    jitter = 0.07\n",
    "    plt.scatter(np.full(len(men_sample), 1) + np.random.uniform(-jitter, jitter, len(men_sample)),\n",
    "                men_sample, color=\"steelblue\", alpha=0.8, edgecolors=\"white\", linewidths=0.5)\n",
    "    plt.scatter(np.full(len(women_sample), 2) + np.random.uniform(-jitter, jitter, len(women_sample)),\n",
    "                women_sample, color=\"tomato\", alpha=0.8, edgecolors=\"white\", linewidths=0.5)\n",
    "\n",
    "    plt.xticks([1, 2], [f\"Male (n={len(men_sample)})\", f\"Female (n={len(women_sample)})\"])\n",
    "    plt.ylabel(\"Height (inches)\")\n",
    "    plt.title(\"Sample (n=20) Height Distributions by Gender — Violin + Points\")\n",
    "    plt.tight_layout()\n",
    "    plt.show()"
   ]
  },
  {
   "cell_type": "markdown",
   "id": "11fe41b0-11cb-4cf3-9620-d3c585f8dc19",
   "metadata": {},
   "source": [
    "## Challenge #2: \n",
    "**What does this plot tell you about the sample data?**\n",
    "\n",
    "**Do you think it is representative of the whole population?**"
   ]
  },
  {
   "cell_type": "markdown",
   "id": "bdc0ff74-989b-44c3-a4f0-e002b17e0a6d",
   "metadata": {},
   "source": []
  },
  {
   "cell_type": "markdown",
   "id": "005ed860-4bbc-4be5-a837-e99e98d847de",
   "metadata": {},
   "source": [
    "## Create the test statistic\n",
    "The test statistic will be the difference in the mean height of the men and the women."
   ]
  },
  {
   "cell_type": "code",
   "execution_count": null,
   "id": "90ab0df1-bb94-4ab4-a01d-f1e4729cc20f",
   "metadata": {},
   "outputs": [],
   "source": [
    "test_statistic = np.mean(male_heights) - np.mean(female_heights)\n",
    "test_statistic"
   ]
  },
  {
   "cell_type": "markdown",
   "id": "a0bea2dc-100f-4e4b-8148-74291f21bc70",
   "metadata": {},
   "source": [
    "So for our sample, the men are on average 5.3 inches taller than the women. Could this be just a matter of random variation?  After all, both the men and women range widely in height, and there are certainly women taller than some of the men."
   ]
  },
  {
   "cell_type": "markdown",
   "id": "27952360-de85-49e3-baea-a86430452d9d",
   "metadata": {},
   "source": [
    "## Challenge #3: Hypothesis Test Thought Experiment\n",
    "\n",
    "State the null hypothesis and the alternative hypothesis."
   ]
  },
  {
   "cell_type": "markdown",
   "id": "58ced257-751d-4cf3-968e-f93271491283",
   "metadata": {},
   "source": [
    "NULL Hypothesis:\n",
    "\n",
    "\n",
    "Alternative Hypothesis:"
   ]
  },
  {
   "cell_type": "markdown",
   "id": "42cb6845-9166-45b5-b066-adf74b6e3392",
   "metadata": {},
   "source": [
    "## Simulating the Null Hypothesis\n",
    "**Here is the key idea -- pay attention!**\n",
    "\n",
    "*If Null Hypothesis is true, then it doesn't matter if we change the male and female labels. The distbution of height by gender will be the same as long as we keep the number of males and females the same.*\n",
    "\n",
    "So, to simulate this we just keep shuffling the gender labels and computing the difference in means between the new \"males\" and \"females.\""
   ]
  },
  {
   "cell_type": "code",
   "execution_count": null,
   "id": "b81a261f-6992-410c-b067-2985ab1d785d",
   "metadata": {},
   "outputs": [],
   "source": [
    "# Here is an example of how we shuffle the labels\n",
    "gender_labels = pop_ht_sample.column(\"Gender\")\n",
    "new_gender_labels = pop_ht_sample.sample(with_replacement=False).column (\"Gender\")\n",
    "pop_ht_sample_shuffled = pop_ht_sample.with_columns(\"Shuffle Gender\", new_gender_labels)\n",
    "pop_ht_sample_shuffled.show(5)"
   ]
  },
  {
   "cell_type": "markdown",
   "id": "8a0b918d-ed50-4e18-9bc1-e56d22642d8c",
   "metadata": {},
   "source": [
    "**To perform the simulation we:**\n",
    "* Loop many times\n",
    "* shuffle the gender labels each time\n",
    "* calculate the test statistic each time\n",
    "* Store the result\n",
    "  \n",
    "This builds up the distibution of mean height differences under the Null that we can then use to calculate the p-value."
   ]
  },
  {
   "cell_type": "code",
   "execution_count": null,
   "id": "ea903b4f-868e-43d9-9e42-743d289d1531",
   "metadata": {},
   "outputs": [],
   "source": [
    "num_simulations = 5000\n",
    "sim_test_statistics = []\n",
    "for i in np.arange(num_simulations):\n",
    "    new_gender_labels = pop_ht_sample.sample(with_replacement=False).column(\"Gender\")\n",
    "    pop_ht_sample_shuffled = pop_ht_sample.with_columns(\"Shuffle Gender\", new_gender_labels)\n",
    "    male_shuffled = pop_ht_sample_shuffled.where(\"Shuffle Gender\", \"Male\")\n",
    "    female_shuffled = pop_ht_sample_shuffled.where(\"Shuffle Gender\", \"Female\")        \n",
    "    mean_male_ht = np.mean(male_shuffled.column(\"Height\"))\n",
    "    mean_female_ht = np.mean(female_shuffled.column(\"Height\"))\n",
    "    sim_test_statistics.append(mean_male_ht - mean_female_ht)"
   ]
  },
  {
   "cell_type": "code",
   "execution_count": null,
   "id": "8b30fe2b-b2f6-44cb-89cd-d171d19cd298",
   "metadata": {},
   "outputs": [],
   "source": [
    "# Show the first ten simulated average height differences\n",
    "sim_test_statistics[0:10]"
   ]
  },
  {
   "cell_type": "code",
   "execution_count": null,
   "id": "ded9cd87-9986-421e-827c-2689ab787e88",
   "metadata": {},
   "outputs": [],
   "source": [
    "plt.hist(sim_test_statistics, bins=30)\n",
    "plt.scatter(test_statistic, 0, color=\"red\", s=300, marker=\"^\");"
   ]
  },
  {
   "cell_type": "markdown",
   "id": "b3de0bdc-2698-41c6-9084-fbf315781685",
   "metadata": {},
   "source": [
    "## Challenge #5: Conclusions\n",
    "**What is your p-value?**\n",
    "\n",
    "**Can you reject the Null Hypothesis**"
   ]
  }
 ],
 "metadata": {
  "kernelspec": {
   "display_name": "Python 3 (ipykernel)",
   "language": "python",
   "name": "python3"
  },
  "language_info": {
   "codemirror_mode": {
    "name": "ipython",
    "version": 3
   },
   "file_extension": ".py",
   "mimetype": "text/x-python",
   "name": "python",
   "nbconvert_exporter": "python",
   "pygments_lexer": "ipython3",
   "version": "3.11.6"
  }
 },
 "nbformat": 4,
 "nbformat_minor": 5
}
