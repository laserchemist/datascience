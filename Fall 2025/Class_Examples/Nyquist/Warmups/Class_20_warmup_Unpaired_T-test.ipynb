{
 "cells": [
  {
   "cell_type": "markdown",
   "id": "4bd35959-0e18-4324-81d2-625d12cd24e8",
   "metadata": {},
   "source": [
    "# Class 20 Warmup - Unpaired t-test by simulation"
   ]
  },
  {
   "cell_type": "code",
   "execution_count": null,
   "id": "fd2cca3f-8ed4-4467-bd52-e983d232705a",
   "metadata": {
    "tags": []
   },
   "outputs": [],
   "source": [
    "import numpy as np\n",
    "from datascience import *\n",
    "%matplotlib inline\n",
    "import matplotlib.pyplot as plt\n",
    "plt.style.use('fivethirtyeight')"
   ]
  },
  {
   "cell_type": "markdown",
   "id": "b5248f80-1fff-4a78-9904-b7b2653df45a",
   "metadata": {},
   "source": [
    "Question 5 from the Mt. St. Helens mini-project asked you to compare the recovery of two different plots to see if, on average, one plot location has recovered more than another. You were told:\n",
    "\n",
    "\"Independent samples, unpaired, t-test\\\n",
    "Assumptions, differs from paired test used above and in Lab 07. The main difference is that we are comparing two different groups of plots as compared to the question 4 test which was applied to the same plots undergoing a 'treatment' of time passage following the eruption (paired).\"\n",
    "\n",
    "**You were directed to use the formula-based approach. But how would we tackle this using simulation?**\n",
    "\n",
    "## Step One: Load the data"
   ]
  },
  {
   "cell_type": "code",
   "execution_count": null,
   "id": "c4ed54fa-a57a-4d41-b4aa-9593aa78b833",
   "metadata": {
    "tags": []
   },
   "outputs": [],
   "source": [
    "# Read the data\n",
    "datafile = \"../../../Mini Project II/data/MSH_STRUCTURE_PLOT_YEAR.csv\"\n",
    "MSH_YEAR = Table.read_table(datafile)\n",
    "MSH_YEAR.show(2)"
   ]
  },
  {
   "cell_type": "markdown",
   "id": "46585e71-242a-45b0-bf73-3fb82c4e5c81",
   "metadata": {},
   "source": [
    "## Step Two: Pick two plots to compare"
   ]
  },
  {
   "cell_type": "code",
   "execution_count": null,
   "id": "11b92c65-04f7-4ba5-be22-94171452b197",
   "metadata": {
    "tags": []
   },
   "outputs": [],
   "source": [
    "# Compare plots\n",
    "MSH_YEAR.group(\"PLOT_NAME\", np.mean)"
   ]
  },
  {
   "cell_type": "markdown",
   "id": "6cd3be50-2a35-455c-bb69-dd3238a27b4c",
   "metadata": {},
   "source": [
    "It is pretty obvious that, for example, the percent cover at BUCA is much greater than for ABPl, but some of the plots are much closer. To make this interesting, let's pick to plot that at first glance have similar percent cover to see if the diffent is statistically significant. \n",
    "\n",
    "Let's pick plot1 = ABPL and plot2 = LAHR"
   ]
  },
  {
   "cell_type": "code",
   "execution_count": null,
   "id": "aa366112-b2a3-4b47-9ef8-11870a4185b8",
   "metadata": {
    "tags": []
   },
   "outputs": [],
   "source": [
    "# Extract the data for each plot into a table\n",
    "plot1 = MSH_YEAR.where(\"PLOT_NAME\", \"ABPL\")\n",
    "plot2 = MSH_YEAR.where(\"PLOT_NAME\", \"LAHR\")"
   ]
  },
  {
   "cell_type": "code",
   "execution_count": null,
   "id": "cd53abd5-0f31-414a-9f8f-80e56aa5de71",
   "metadata": {
    "tags": []
   },
   "outputs": [],
   "source": [
    "# Check the years and number of subplots for each plot\n",
    "plot1.group(\"YEAR\").show()"
   ]
  },
  {
   "cell_type": "code",
   "execution_count": null,
   "id": "fab37e31-3790-480c-94ce-1b4ca031b180",
   "metadata": {
    "tags": []
   },
   "outputs": [],
   "source": [
    "plot2.group(\"YEAR\").show()"
   ]
  },
  {
   "cell_type": "markdown",
   "id": "eeade9b5-aff5-489b-9454-76fa6ed1598b",
   "metadata": {},
   "source": [
    "ABPL has more subplots. LAHR spans more years. How do we perform a comparison?\n",
    "\n",
    "The first year we have data for both plots is 1995, and the last year we have data for both is 2009. So we will compare the two plots between 1996 and 2009. Let's test for a different in the average percent cover. The same approach would work for richness.\n",
    "\n",
    "## Step Three: Calculate our test statistic\n",
    "Our test test statistic is the difference in the averge percent cover between 1996 and 2009 for APBL versus LAHR."
   ]
  },
  {
   "cell_type": "code",
   "execution_count": null,
   "id": "2a3253b7-c191-43d7-9b40-e5b4a26600a5",
   "metadata": {
    "tags": []
   },
   "outputs": [],
   "source": [
    "# Restrict the data to common years\n",
    "plot1 = plot1.where(\"YEAR\", are.between_or_equal_to(1996, 2009))\n",
    "plot2 = plot2.where(\"YEAR\", are.between_or_equal_to(1996, 2009))"
   ]
  },
  {
   "cell_type": "code",
   "execution_count": null,
   "id": "1450e3c8-1a45-4ca7-b81e-7845ab6b98e8",
   "metadata": {
    "tags": []
   },
   "outputs": [],
   "source": [
    "plot1.hist(\"COVER_%\", bins=np.arange(0, 60, 5))"
   ]
  },
  {
   "cell_type": "code",
   "execution_count": null,
   "id": "23278689-b57a-4bd7-9659-95ad1f41ff55",
   "metadata": {
    "tags": []
   },
   "outputs": [],
   "source": [
    "plot2.hist(\"COVER_%\", bins=np.arange(0, 60, 5))"
   ]
  },
  {
   "cell_type": "code",
   "execution_count": null,
   "id": "bad743c3-c51b-4b9b-806d-974aa69bb094",
   "metadata": {
    "tags": []
   },
   "outputs": [],
   "source": [
    "plot1_mean_cover = np.mean(plot1.column(\"COVER_%\"))\n",
    "plot2_mean_cover = np.mean(plot2.column(\"COVER_%\"))\n",
    "test_statistic = abs(plot1_mean_cover - plot2_mean_cover)\n",
    "\n",
    "print(\"The average percent cover for ABPL was: \", plot1_mean_cover)\n",
    "print(\"The average percent cover for LAHR was: \", plot2_mean_cover)\n",
    "print(\"The test statistic is the difference in means: \", test_statistic)"
   ]
  },
  {
   "cell_type": "markdown",
   "id": "1d749e4c-46f3-4d1d-b673-095addda98ba",
   "metadata": {
    "tags": []
   },
   "source": [
    "## Step Four: Formulate our Hypotheses\n",
    "\n",
    "### Null Hypothesis\n",
    "The difference in the percent cover between the two plots is due to random variation.\n",
    "\n",
    "### Alternative Hypothesis\n",
    "The difference in percent cover is too large to be random. The two plot have a statistically significant different in percent cover during the recovery period of 1996-2009.\n",
    "\n",
    "## Step Five: Simulate the Null Hypothesis\n",
    "If the null hypothesis is true, if would not matter if a plot was labelled ABPL or LAHR because there is no difference. So to test this we need to randomly permute the labels while keeping the number of plots in each category the same. The we calculate the difference in the means between the two relabeled groups. We do this over and over to build up a distribution of difference in the mean under the null hypothesis."
   ]
  },
  {
   "cell_type": "code",
   "execution_count": null,
   "id": "1b1ee23e-1e4f-4498-8f5b-41bc411d762b",
   "metadata": {
    "tags": []
   },
   "outputs": [],
   "source": [
    "# Select just the columns we need\n",
    "plot1 = plot1.select(\"PLOT_NAME\", \"COVER_%\")\n",
    "plot2.show(3)"
   ]
  },
  {
   "cell_type": "code",
   "execution_count": null,
   "id": "f96b4758-d3ab-46bb-9ce8-d36f3fa3ce69",
   "metadata": {
    "tags": []
   },
   "outputs": [],
   "source": [
    "plot2 = plot2.select(\"PLOT_NAME\", \"COVER_%\")\n",
    "plot2.show(3)"
   ]
  },
  {
   "cell_type": "code",
   "execution_count": null,
   "id": "9d37ff45-20a9-439d-a415-cb456a24cc38",
   "metadata": {
    "tags": []
   },
   "outputs": [],
   "source": [
    "# Combine into one table\n",
    "plot1_plot2 = plot1.append(plot2)\n",
    "\n",
    "# We should get the same result as above\n",
    "plot1_plot2.group(\"PLOT_NAME\", np.mean)"
   ]
  },
  {
   "cell_type": "code",
   "execution_count": null,
   "id": "6a2c25f7-55a1-4de5-be3d-317e6aefe3c8",
   "metadata": {
    "tags": []
   },
   "outputs": [],
   "source": [
    "def difference_of_means(table, label):\n",
    "    \"\"\"\n",
    "    Takes: the name of a table and returns mean difference in cover_% of the two groups\n",
    "    \"\"\"\n",
    "    means_table = table.group(label, np.mean)\n",
    "    means = means_table.column(\"COVER_% mean\")\n",
    "    return means.item(1) - means.item(0)"
   ]
  },
  {
   "cell_type": "code",
   "execution_count": null,
   "id": "a091730e-b8b3-46b5-84f8-6dd42e23e05e",
   "metadata": {
    "tags": []
   },
   "outputs": [],
   "source": [
    "# Test the function\n",
    "difference_of_means(plot1_plot2, \"PLOT_NAME\")"
   ]
  },
  {
   "cell_type": "code",
   "execution_count": null,
   "id": "89c54b7b-94fa-48c1-be47-246883241104",
   "metadata": {
    "tags": []
   },
   "outputs": [],
   "source": [
    "def one_simulated_difference_of_means(tbl, label):\n",
    "    \"\"\"\n",
    "    Returns: Difference between mean after shuffling labels\n",
    "    \"\"\"\n",
    "    \n",
    "    # array of shuffled labels\n",
    "    shuffled_labels = tbl.sample(with_replacement=False).column(label)\n",
    "    \n",
    "    # table of grades and shuffled labels\n",
    "    shuffled_table = tbl.select('COVER_%').with_column(\n",
    "        'Shuffled Label', shuffled_labels)\n",
    "    \n",
    "    return difference_of_means(shuffled_table, 'Shuffled Label') "
   ]
  },
  {
   "cell_type": "code",
   "execution_count": null,
   "id": "6a5dad91-1e78-4350-81e2-29a3e7f0c933",
   "metadata": {
    "tags": []
   },
   "outputs": [],
   "source": [
    "# Test our functions\n",
    "one_simulated_difference_of_means(plot1_plot2, \"PLOT_NAME\")"
   ]
  },
  {
   "cell_type": "code",
   "execution_count": null,
   "id": "cf436e54-699f-4432-9899-77fb180c6fb6",
   "metadata": {
    "tags": []
   },
   "outputs": [],
   "source": [
    "# Run the simulation\n",
    "differences = []\n",
    "repetitions = 3000\n",
    "for i in np.arange(repetitions):\n",
    "    new_difference = one_simulated_difference_of_means(plot1_plot2, \"PLOT_NAME\")\n",
    "    differences.append(new_difference)\n",
    "difference = np.array(differences)"
   ]
  },
  {
   "cell_type": "code",
   "execution_count": null,
   "id": "50640414-1a7b-4593-a1b9-db9569e5609e",
   "metadata": {
    "tags": []
   },
   "outputs": [],
   "source": [
    "# Plot the simulation results\n",
    "Table().with_column('Difference Between Group Means', differences).hist(bins=30)\n",
    "ax = plt.gca()\n",
    "ax.plot(test_statistic, 0,  marker='^', markersize=40, mec='red')\n",
    "ax.set_title('Prediction Under the Null Hypothesis');"
   ]
  },
  {
   "cell_type": "code",
   "execution_count": null,
   "id": "72bbf58d-9eb9-4fc7-8c71-981e18de70ec",
   "metadata": {
    "tags": []
   },
   "outputs": [],
   "source": [
    "p_value = np.count_nonzero(differences > test_statistic) / repetitions\n",
    "p_value"
   ]
  },
  {
   "cell_type": "code",
   "execution_count": null,
   "id": "7142c0aa-c4be-4f4f-8640-20f4dcdfc4d7",
   "metadata": {},
   "outputs": [],
   "source": []
  }
 ],
 "metadata": {
  "kernelspec": {
   "display_name": "Python 3 (ipykernel)",
   "language": "python",
   "name": "python3"
  },
  "language_info": {
   "codemirror_mode": {
    "name": "ipython",
    "version": 3
   },
   "file_extension": ".py",
   "mimetype": "text/x-python",
   "name": "python",
   "nbconvert_exporter": "python",
   "pygments_lexer": "ipython3",
   "version": "3.10.11"
  }
 },
 "nbformat": 4,
 "nbformat_minor": 5
}
