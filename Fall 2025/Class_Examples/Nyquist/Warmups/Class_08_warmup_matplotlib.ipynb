{
 "cells": [
  {
   "cell_type": "markdown",
   "id": "90ab0223-d216-4245-bd66-dbbefeb0723f",
   "metadata": {},
   "source": [
    "# Plotting with matplotlib\n",
    "\n",
    "One of the most commonly used Python plotting libraries is matplotlib. It is powerful and complex, but not hard to learn for basic plotting.\n",
    "\n",
    "Let's start by importing the modules we'll need."
   ]
  },
  {
   "cell_type": "code",
   "execution_count": null,
   "id": "762f86da-b30c-4e6e-9e06-f56872062701",
   "metadata": {
    "tags": []
   },
   "outputs": [],
   "source": [
    "from datascience import *\n",
    "import numpy as np\n",
    "import matplotlib.pyplot as plt\n",
    "\n",
    "%matplotlib inline"
   ]
  },
  {
   "cell_type": "markdown",
   "id": "c0152649-93f6-4435-953c-a46dea868d50",
   "metadata": {},
   "source": [
    "Notice that we only needed to import pyplot, a piece of the extensive matplotlib package, and that we gave in the nickname \"plt\" to save on typing. This is standard, just like the np nickname for numpy. Also note the \"%matplotlib inline\" command. Commands starting with % are not Python, but control the Jupyter notebook interface, here telling it to put the plots we make into the notebook.\n",
    "\n",
    "Now let's create a simple set of x, y data."
   ]
  },
  {
   "cell_type": "code",
   "execution_count": null,
   "id": "fae46784-145b-4985-9290-0d2aaa67a7a6",
   "metadata": {
    "tags": []
   },
   "outputs": [],
   "source": [
    "# Generate a parabola\n",
    "x = np.arange(-10, 11)\n",
    "y = x ** 2"
   ]
  },
  {
   "cell_type": "code",
   "execution_count": null,
   "id": "4d25fd4a-3a25-4f0e-a90c-b8acbe4646c0",
   "metadata": {
    "tags": []
   },
   "outputs": [],
   "source": [
    "# Plot the data\n",
    "plt.plot(x, y)"
   ]
  },
  {
   "cell_type": "markdown",
   "id": "5623e88a-f09d-4274-b1dd-b4a1f6787e4b",
   "metadata": {},
   "source": [
    "First we create and figure and axis objects, the we call the plot method. By default we get a simple connected line with no plot markers and no axis lablel. The plot is automatically scaled to fit the data range.\n",
    "\n",
    "We can easily add labels:"
   ]
  },
  {
   "cell_type": "code",
   "execution_count": null,
   "id": "61f33aaf-e584-4462-b078-b5ba819d5b2a",
   "metadata": {
    "tags": []
   },
   "outputs": [],
   "source": [
    "plt.plot(x, y)\n",
    "plt.xlabel(\"x - axis\")\n",
    "plt.ylabel(\"y - axis\")\n",
    "plt.title(\"A parabola\")"
   ]
  },
  {
   "cell_type": "markdown",
   "id": "966839e8-f8dd-464c-8994-8ed961c12b3f",
   "metadata": {},
   "source": [
    "Now let's add point markers. Notice the additional parameter to the plot command, \"-o\". The hypthen means connect the points, the o means use filled circles as point markers."
   ]
  },
  {
   "cell_type": "code",
   "execution_count": null,
   "id": "8bdfea32-62f1-4854-9e52-e8ad77a6f773",
   "metadata": {
    "tags": []
   },
   "outputs": [],
   "source": [
    "plt.plot(x, y, \"-o\")\n",
    "plt.xlabel(\"x - axis\")\n",
    "plt.ylabel(\"y - axis\")\n",
    "plt.title(\"A parabola\")"
   ]
  },
  {
   "cell_type": "code",
   "execution_count": null,
   "id": "a584f04b-eebb-49c9-b1a8-49db003ed7d7",
   "metadata": {
    "tags": []
   },
   "outputs": [],
   "source": [
    "fig, ax = plt.subplots()\n",
    "ax.plot(x, y, \"-ro\")\n",
    "ax.set_xlabel(\"x - axis\")\n",
    "ax.set_ylabel(\"y - axis\")\n",
    "ax.set_title(\"A parabola\")"
   ]
  },
  {
   "cell_type": "markdown",
   "id": "85abd1dd-99b0-4cf6-a7b1-d72b54c75d38",
   "metadata": {
    "jp-MarkdownHeadingCollapsed": true
   },
   "source": [
    "What just happened? \"-ro\" means the same thing as \"-o\" except the r means use red instead of the default color.\n",
    "\n",
    "Matplotlib provides a set of single-letter color abbreviations that can be used to quickly specify common colors. Here is the list of color abbreviations in Matplotlib:\n",
    "- 'b': blue\n",
    "- 'g': green\n",
    "- 'r': red\n",
    "- 'c': cyan\n",
    "- 'm': magenta\n",
    "- 'y': yellow\n",
    "- 'k': black\n",
    "- 'w': white\n",
    "\n",
    "Here is a list of commonly used marker symbols in Matplotlib:\n",
    "- 'o': Circle\n",
    "- 's': Square\n",
    "- 'D': Diamond\n",
    "- '^': Triangle up\n",
    "- 'v': Triangle down\n",
    "- '<': Triangle left\n",
    "- '>': Triangle right\n",
    "- 'p': Pentagon\n",
    "- '*': Star\n",
    "- 'h': Hexagon\n",
    "- '+': Plus\n",
    "\n",
    "## Challenge #1: See what happens if you omit the \"-\" and just use \"ro\" and change the marker symbol"
   ]
  },
  {
   "cell_type": "code",
   "execution_count": null,
   "id": "95d270f5-9994-4d50-9741-d05bbddcc51a",
   "metadata": {},
   "outputs": [],
   "source": []
  },
  {
   "cell_type": "markdown",
   "id": "f677a341-0044-4931-a348-5707bffb507c",
   "metadata": {
    "tags": []
   },
   "source": [
    "## Plotting more than one line\n",
    "\n",
    "Let's create another variable and add it to our plot."
   ]
  },
  {
   "cell_type": "code",
   "execution_count": null,
   "id": "a9dcf6bf-140c-4f9f-bf51-51278e180811",
   "metadata": {
    "tags": []
   },
   "outputs": [],
   "source": [
    "# Generate a parabola and a cubic\n",
    "x = np.arange(-10, 11)\n",
    "y1 = x ** 2\n",
    "y2 = x ** 3"
   ]
  },
  {
   "cell_type": "code",
   "execution_count": null,
   "id": "5af11099-51fa-4505-8306-e86e6840f33b",
   "metadata": {
    "tags": []
   },
   "outputs": [],
   "source": [
    "plt.plot(x, y1)\n",
    "plt.plot(x, y2)"
   ]
  },
  {
   "cell_type": "markdown",
   "id": "8fa0b827-413c-41a8-8906-e3f3a58fca15",
   "metadata": {},
   "source": [
    "## Challenge #2: Modify the plot above\n",
    "Add axis labels and a new title and a different marker for each line."
   ]
  },
  {
   "cell_type": "code",
   "execution_count": null,
   "id": "9c09f680-bdef-4f6c-92d1-f8342e573d7c",
   "metadata": {},
   "outputs": [],
   "source": []
  },
  {
   "cell_type": "markdown",
   "id": "301b968d-f36a-4b28-9634-bd3c47e3bca2",
   "metadata": {},
   "source": [
    "## Plotting data in data tables\n",
    "Let's put our data into a data table and use some of the built-in plotting commands. We can build the table using the arrays we already created. We use with_columns and provide label, array, label, array..."
   ]
  },
  {
   "cell_type": "code",
   "execution_count": null,
   "id": "a964d729-be2b-4784-b631-f41763971205",
   "metadata": {
    "tags": []
   },
   "outputs": [],
   "source": [
    "poly = Table().with_columns(\"x\", x, \"y1\", y1, \"y2\", y2)\n",
    "poly"
   ]
  },
  {
   "cell_type": "code",
   "execution_count": null,
   "id": "bcdb360a-cf1e-4a96-a2a7-a8ad0a140661",
   "metadata": {
    "tags": []
   },
   "outputs": [],
   "source": [
    "poly.plot(\"x\", \"y1\")"
   ]
  },
  {
   "cell_type": "markdown",
   "id": "eb4c96c2-6476-48df-95d0-7ce64de858f9",
   "metadata": {},
   "source": [
    "Behind the scenes, the data table is called matplotlib. It creates a figure and axis object, plots the data, and uses the column names to label the axes. How convenient!"
   ]
  },
  {
   "cell_type": "code",
   "execution_count": null,
   "id": "4a924c39-e1ca-414b-b267-699ffcba87c7",
   "metadata": {
    "tags": []
   },
   "outputs": [],
   "source": [
    "poly.plot(\"x\", [\"y1\", \"y2\"])"
   ]
  },
  {
   "cell_type": "markdown",
   "id": "bd7e6e87-e881-4ff9-a9f6-644a0c5d7f62",
   "metadata": {},
   "source": [
    "Notice that to plot x versus the two y-columns we put the two y-columns into a list.\n",
    "\n",
    "**I know what you are thinking.** Why bother to learn about matplotlib if I can just use the builting tables plotting commands? And you are right, if you are happy with all of the default choices you may never need matplotlib, but if you want to change something in the plot you need it.\n",
    "\n",
    "For example, how do I add a title to this figure?"
   ]
  },
  {
   "cell_type": "code",
   "execution_count": null,
   "id": "47756123-3e41-41e5-b3d4-93d8641606ed",
   "metadata": {
    "tags": []
   },
   "outputs": [],
   "source": [
    "# Make the plot using the table\n",
    "poly.plot(\"x\", [\"y1\", \"y2\"])\n",
    "\n",
    "# gca = get current axis so we have the axis object\n",
    "ax = plt.gca()\n",
    "\n",
    "# Now we can add a title\n",
    "ax.set_title(\"Parabola and Cubic\")"
   ]
  },
  {
   "cell_type": "markdown",
   "id": "2c08df4c-332f-44d3-9ad6-5b29fee5507d",
   "metadata": {},
   "source": [
    "Or maybe you want to change the dimensions of the figure"
   ]
  },
  {
   "cell_type": "code",
   "execution_count": null,
   "id": "3fc5743d-9607-4740-a3cc-6d202a671889",
   "metadata": {
    "tags": []
   },
   "outputs": [],
   "source": [
    "# Make the plot using the table\n",
    "poly.plot(\"x\", [\"y1\", \"y2\"])\n",
    "\n",
    "# gca = get current axis so we have the axis object\n",
    "ax = plt.gca()\n",
    "\n",
    "# Now we can add a title\n",
    "ax.set_title(\"Parabola and Cubic\")\n",
    "\n",
    "# gcf = get current figure \n",
    "fig = plt.gcf()\n",
    "\n",
    "fig.set_size_inches(8, 3)"
   ]
  },
  {
   "cell_type": "markdown",
   "id": "2d130234-b537-4fe2-89c9-bc0219abde63",
   "metadata": {},
   "source": [
    "## One last example\n",
    "This one is tricky. What if we want to add markers to one of the lines and change the color of the other? To do so we have to retrieve the lines from the axis object."
   ]
  },
  {
   "cell_type": "code",
   "execution_count": null,
   "id": "9fedba20-9a37-4fe5-9d36-0fd9cb358ace",
   "metadata": {
    "tags": []
   },
   "outputs": [],
   "source": [
    "# Make the plot using the table\n",
    "poly.plot(\"x\", [\"y1\", \"y2\"])\n",
    "\n",
    "# gca = get current axis so we have the axis object\n",
    "ax = plt.gca()\n",
    "\n",
    "# Now we can add a title\n",
    "ax.set_title(\"Parabola and Cubic\")\n",
    "\n",
    "# gcf = get current figure \n",
    "fig = plt.gcf()\n",
    "\n",
    "# Change the figure size\n",
    "fig.set_size_inches(8, 3)\n",
    "\n",
    "# Get the lines drawn on the current axes\n",
    "lines = ax.get_lines()\n",
    "\n",
    "# Add markers to the first line (remember Python starts counting from zero)\n",
    "lines[0].set_marker('*')"
   ]
  },
  {
   "cell_type": "markdown",
   "id": "482ec2dd-aafd-4d7d-9521-66913883da63",
   "metadata": {},
   "source": [
    "## Challenge # 3: Add hexagon markers to the cubic line."
   ]
  },
  {
   "cell_type": "code",
   "execution_count": null,
   "id": "dfcc1a9a-7c45-477f-ad1a-efbfe1a894fc",
   "metadata": {},
   "outputs": [],
   "source": []
  },
  {
   "cell_type": "markdown",
   "id": "4106500c-dd15-4814-9450-122631d73fc9",
   "metadata": {},
   "source": [
    "## Summary: \n",
    "We've only touched the surface of matplotlib, and you may not need to know much more than plot commands built into the data tables for this class, but it helps to have some understanding of what is happening behind the scenes."
   ]
  }
 ],
 "metadata": {
  "kernelspec": {
   "display_name": "Python 3 (ipykernel)",
   "language": "python",
   "name": "python3"
  },
  "language_info": {
   "codemirror_mode": {
    "name": "ipython",
    "version": 3
   },
   "file_extension": ".py",
   "mimetype": "text/x-python",
   "name": "python",
   "nbconvert_exporter": "python",
   "pygments_lexer": "ipython3",
   "version": "3.11.6"
  }
 },
 "nbformat": 4,
 "nbformat_minor": 5
}
