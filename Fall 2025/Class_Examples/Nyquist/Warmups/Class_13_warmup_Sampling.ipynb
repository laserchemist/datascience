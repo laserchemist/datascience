{
 "cells": [
  {
   "cell_type": "markdown",
   "id": "038cb373-64bd-412f-b80b-49492e02ca84",
   "metadata": {},
   "source": [
    "# Class 13 Warm-up: Populations and Sampling\n",
    "\n",
    "As discussed in class, we are unlikely to have the time and money to measure an entire population, such as measuring the blood presssure of everyone in the world. So instead, we collect what we hope is a representative sample and use it to infer the proproperties of the population as a whole. \n",
    "\n",
    "A common example is an opinion poll. We cannot collect *everyone's* opinion, so we take a sample and use that to draw conclusions the everyone else."
   ]
  },
  {
   "cell_type": "code",
   "execution_count": null,
   "id": "9f102a88-ebb7-4629-b477-c06a3f94dd9d",
   "metadata": {},
   "outputs": [],
   "source": [
    "import numpy as np\n",
    "from datascience import *\n",
    "import matplotlib.pyplot as plt\n",
    "%matplotlib inline"
   ]
  },
  {
   "cell_type": "markdown",
   "id": "38fac14f-78c6-40aa-914e-d9c600507fbf",
   "metadata": {},
   "source": [
    "## Weight and Height Data\n",
    "We are going to look at some weight and height data from [Kaggle](https://www.kaggle.com/). This is probably simulated data, so do not place too much stock in the actual values, but it will work for our purposes.\n",
    "\n",
    "Let's start by loading the data into a table."
   ]
  },
  {
   "cell_type": "code",
   "execution_count": null,
   "id": "ba151c99-0792-44de-a281-ff2245170cd4",
   "metadata": {},
   "outputs": [],
   "source": [
    "population = Table.read_table(\"./data/weight-height.csv\")\n",
    "population.show(5)"
   ]
  },
  {
   "cell_type": "code",
   "execution_count": null,
   "id": "1c9c5de5-ad1e-402b-a3b7-662ab5e9fe6a",
   "metadata": {},
   "outputs": [],
   "source": [
    "population.num_rows"
   ]
  },
  {
   "cell_type": "markdown",
   "id": "70315150-45db-4ef4-bc86-bb3393e18937",
   "metadata": {},
   "source": [
    "We will assume that the 10,000 rows in this table make up the entire population. Let's on the height."
   ]
  },
  {
   "cell_type": "markdown",
   "id": "ee95aa46-dc5c-4bab-8305-4f95dda73bab",
   "metadata": {},
   "source": [
    "Let' just focus on height."
   ]
  },
  {
   "cell_type": "code",
   "execution_count": null,
   "id": "d4b45db6-58e5-41b2-8fc7-ba94db8fab0d",
   "metadata": {},
   "outputs": [],
   "source": [
    "pop_ht = population.select(\"Gender\", \"Height\")\n",
    "pop_ht.show(5)"
   ]
  },
  {
   "cell_type": "code",
   "execution_count": null,
   "id": "3205de44-a5ae-40f4-9520-563153dcef2e",
   "metadata": {},
   "outputs": [],
   "source": [
    "# Find the minimum, maximum, median, mean, and standard deviation\n",
    "pop_ht.select(\"Height\").stats(ops=[min, max, np.median, np.mean, np.std])"
   ]
  },
  {
   "cell_type": "markdown",
   "id": "c96e0c27-55ea-443b-8aad-7a75fdec0e77",
   "metadata": {},
   "source": [
    "So the average height of the entire population is 66.3 inches."
   ]
  },
  {
   "cell_type": "code",
   "execution_count": null,
   "id": "18402745-c8df-4607-8442-0ed0d209d0ad",
   "metadata": {},
   "outputs": [],
   "source": [
    "men_ht.hist('Height')"
   ]
  },
  {
   "cell_type": "markdown",
   "id": "701ca005-e790-4fc8-8f2f-e936157f14e7",
   "metadata": {},
   "source": [
    "## Sampling\n",
    "Data table have a built-in method for random sampling. Let's assume from this \"true\" population of 5,000 men, we have a sample of 20."
   ]
  },
  {
   "cell_type": "code",
   "execution_count": null,
   "id": "6bc8878a-6746-4600-837c-e5e063be705b",
   "metadata": {},
   "outputs": [],
   "source": [
    "pop_ht_sample = pop_ht.sample(20)\n",
    "pop_ht_sample"
   ]
  },
  {
   "cell_type": "markdown",
   "id": "6dde3959-3bd2-4353-8629-950d7e134ab3",
   "metadata": {},
   "source": [
    "## Challenge #1: What is the mean height of the sample and how different is this from the population mean?"
   ]
  },
  {
   "cell_type": "code",
   "execution_count": null,
   "id": "e9f96d28-e679-4dd6-bedb-9ba760f41821",
   "metadata": {},
   "outputs": [],
   "source": [
    "np.mean(pop_ht_sample.column(\"Height\"))"
   ]
  },
  {
   "cell_type": "markdown",
   "id": "11fe41b0-11cb-4cf3-9620-d3c585f8dc19",
   "metadata": {},
   "source": [
    "## Challenge #2: Repeat this sampling above 5 times. What are the highest and lowest sample means?|"
   ]
  },
  {
   "cell_type": "code",
   "execution_count": null,
   "id": "8c786fde-baee-419d-86a9-c3909b275d20",
   "metadata": {},
   "outputs": [],
   "source": []
  },
  {
   "cell_type": "markdown",
   "id": "1e3c3da2-9bdd-49f2-996d-5793bc2567b6",
   "metadata": {},
   "source": [
    "## Challenge #3: Convenience Sample\n",
    "Now imagine that the idiot you sent to collect the sample of 20 heights took a convenience sample at a local all boys school. So, in this case, your should take a sample of 20 from only the male population.\n",
    "\n",
    "**What is the mean height of the sample and how much is it different from the population mean?**\n",
    "\n",
    "**How much bias did the convenience sample introduce?**"
   ]
  },
  {
   "cell_type": "markdown",
   "id": "27952360-de85-49e3-baea-a86430452d9d",
   "metadata": {},
   "source": [
    "## Challenge #4: Hypothesis Test Thought Experiment\n",
    "\n",
    "Describe the steps you would follow to test whether the men in the sample of 20 from the general population are on average taller than the women."
   ]
  },
  {
   "cell_type": "markdown",
   "id": "58ced257-751d-4cf3-968e-f93271491283",
   "metadata": {},
   "source": []
  },
  {
   "cell_type": "markdown",
   "id": "b3de0bdc-2698-41c6-9084-fbf315781685",
   "metadata": {},
   "source": [
    "## Challenge #5: (Optional) If you finish challenges 1-4 early, perform the hypothesis test from challenge 4.\n",
    "**What is your p-value?**"
   ]
  },
  {
   "cell_type": "code",
   "execution_count": null,
   "id": "8a5ab432-4df5-434d-b097-85a19d16c253",
   "metadata": {},
   "outputs": [],
   "source": []
  }
 ],
 "metadata": {
  "kernelspec": {
   "display_name": "Python 3 (ipykernel)",
   "language": "python",
   "name": "python3"
  },
  "language_info": {
   "codemirror_mode": {
    "name": "ipython",
    "version": 3
   },
   "file_extension": ".py",
   "mimetype": "text/x-python",
   "name": "python",
   "nbconvert_exporter": "python",
   "pygments_lexer": "ipython3",
   "version": "3.11.6"
  }
 },
 "nbformat": 4,
 "nbformat_minor": 5
}
