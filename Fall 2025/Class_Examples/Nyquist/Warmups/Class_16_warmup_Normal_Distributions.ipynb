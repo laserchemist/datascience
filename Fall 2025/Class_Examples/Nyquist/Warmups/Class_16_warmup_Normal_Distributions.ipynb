{
 "cells": [
  {
   "cell_type": "markdown",
   "id": "038cb373-64bd-412f-b80b-49492e02ca84",
   "metadata": {},
   "source": [
    "# Class 16 Warm-up: Normal Distributions and Data Standardization"
   ]
  },
  {
   "cell_type": "code",
   "execution_count": null,
   "id": "9f102a88-ebb7-4629-b477-c06a3f94dd9d",
   "metadata": {},
   "outputs": [],
   "source": [
    "import numpy as np\n",
    "from datascience import *\n",
    "import matplotlib.pyplot as plt\n",
    "%matplotlib inline"
   ]
  },
  {
   "cell_type": "markdown",
   "id": "38fac14f-78c6-40aa-914e-d9c600507fbf",
   "metadata": {},
   "source": [
    "## Weight and Height Data\n",
    "Let's load our table again."
   ]
  },
  {
   "cell_type": "code",
   "execution_count": null,
   "id": "ba151c99-0792-44de-a281-ff2245170cd4",
   "metadata": {},
   "outputs": [],
   "source": [
    "population = Table.read_table(\"./data/weight-height.csv\")\n",
    "population.show(5)"
   ]
  },
  {
   "cell_type": "markdown",
   "id": "ee95aa46-dc5c-4bab-8305-4f95dda73bab",
   "metadata": {},
   "source": [
    "Let's just focus on height."
   ]
  },
  {
   "cell_type": "code",
   "execution_count": null,
   "id": "d4b45db6-58e5-41b2-8fc7-ba94db8fab0d",
   "metadata": {},
   "outputs": [],
   "source": [
    "pop_ht = population.select(\"Gender\", \"Height\")\n",
    "pop_ht.show(5)"
   ]
  },
  {
   "cell_type": "markdown",
   "id": "0278aeef-fa0a-4bd9-a883-71b8e2c8eaa1",
   "metadata": {},
   "source": [
    "## Plot the distribution by gender for the full 10,000 samples"
   ]
  },
  {
   "cell_type": "code",
   "execution_count": null,
   "id": "4fe242ff-ac9c-43b6-9b22-4b7e1a71c305",
   "metadata": {},
   "outputs": [],
   "source": [
    "male_heights = pop_ht.where(\"Gender\", \"Male\").column(\"Height\")\n",
    "female_heights = pop_ht.where(\"Gender\", \"Female\").column(\"Height\")\n",
    "\n",
    "all_heights = pop_ht.column(\"Height\")\n",
    "bins = np.linspace(np.min(all_heights), np.max(all_heights), 30)\n",
    "\n",
    "plt.figure(figsize=(8, 5))\n",
    "\n",
    "# Plot overlapped histograms with transparency\n",
    "plt.hist(male_heights, bins=bins, color=\"steelblue\", alpha=0.6, label=\"Male\", edgecolor=\"white\")\n",
    "plt.hist(female_heights, bins=bins, color=\"tomato\", alpha=0.6, label=\"Female\", edgecolor=\"white\")\n",
    "\n",
    "plt.title(\"Height Distribution by Gender\")\n",
    "plt.xlabel(\"Height (inches)\")\n",
    "plt.ylabel(\"Count\")\n",
    "plt.legend()\n",
    "plt.tight_layout()\n",
    "plt.show()"
   ]
  },
  {
   "cell_type": "markdown",
   "id": "a2936469-12a5-43ac-90b9-1f21c250fc2c",
   "metadata": {},
   "source": [
    "## Let's look at just the men."
   ]
  },
  {
   "cell_type": "code",
   "execution_count": null,
   "id": "5daefa0e-df35-40e3-bda2-9bf5ef60d27f",
   "metadata": {},
   "outputs": [],
   "source": [
    "from scipy.stats import norm\n",
    "plt.figure(figsize=(8, 5))\n",
    "plt.hist(male_heights, bins=bins, color=\"steelblue\", alpha=0.6, label=\"Male\", edgecolor=\"white\")\n",
    "plt.title(\"Height Distribution of Men\")\n",
    "plt.xlabel(\"Height (inches)\")\n",
    "plt.ylabel(\"Count\")\n",
    "plt.tight_layout()\n",
    "plt.show()"
   ]
  },
  {
   "cell_type": "markdown",
   "id": "77363970-0244-465a-8f25-d9e61fc53132",
   "metadata": {},
   "source": [
    "## Instead of counts, express the y-axis as fraction of the total"
   ]
  },
  {
   "cell_type": "code",
   "execution_count": null,
   "id": "9409615e-0acd-43cf-b69b-91140c36e373",
   "metadata": {},
   "outputs": [],
   "source": [
    "plt.figure(figsize=(8, 5))\n",
    "\n",
    "# density=True tells the histogram function to normalize the distibution to sum to 1, making it a probability density function\n",
    "plt.hist(male_heights, density=True, bins=bins, color=\"steelblue\", alpha=0.6, label=\"Male\", edgecolor=\"white\")\n",
    "\n",
    "plt.title(\"Height Distribution of Men as Fraction\")\n",
    "plt.xlabel(\"Height (inches)\")\n",
    "plt.ylabel(\"Probability\")\n",
    "plt.tight_layout()\n",
    "plt.show()"
   ]
  },
  {
   "cell_type": "markdown",
   "id": "c8ac0925-d3ed-4185-95af-dd1a8a8201c3",
   "metadata": {},
   "source": [
    "## If the data are normally distributed the mean and standard deviation are all you need to characterize the PDF"
   ]
  },
  {
   "cell_type": "code",
   "execution_count": null,
   "id": "044155ed-f92e-4bd7-acce-a8c65b020f1b",
   "metadata": {},
   "outputs": [],
   "source": [
    "from scipy.stats import norm\n",
    "\n",
    "male_ht_avg = np.mean(male_heights)\n",
    "male_ht_std = np.std(male_heights)\n",
    "\n",
    "# Plot the normal distribution on top of the histogram\n",
    "# The function \"norm\" create a normal distribution object where loc is the mean, and scale is the standard deviation\n",
    "dist = norm(loc=male_ht_avg, scale=male_ht_std)\n",
    "\n",
    "# Generate x values\n",
    "x = np.arange(55, 80, 0.1)\n",
    "\n",
    "# Generate y values using the PDF of the distribution object we created\n",
    "y = dist.pdf(x)\n",
    "\n",
    "plt.figure(figsize=(8, 5))\n",
    "plt.hist(male_heights, density=True, bins=bins, color=\"steelblue\", alpha=0.6, label=\"Male\", edgecolor=\"white\")\n",
    "plt.plot(x, y, color='k')\n",
    "plt.title(\"Height Distribution of Men as Fraction of the Population\")\n",
    "plt.xlabel(\"Height (inches)\")\n",
    "plt.ylabel(\"Probability\")\n",
    "plt.tight_layout()\n",
    "plt.show()"
   ]
  },
  {
   "cell_type": "markdown",
   "id": "6dde3959-3bd2-4353-8629-950d7e134ab3",
   "metadata": {},
   "source": [
    "## Challenge #1: How well do you think that this normal distribution reflects the true height distribution of the population?"
   ]
  },
  {
   "cell_type": "markdown",
   "id": "f5d961b9-822e-4f80-b4b2-534279634397",
   "metadata": {},
   "source": [
    "Answer:"
   ]
  },
  {
   "cell_type": "markdown",
   "id": "bf34f393-611b-494c-b13e-f085d93802d5",
   "metadata": {},
   "source": [
    "#### If the population is normally distributed, we can answer all sorts of questions directly from the probability density and cumulative distribution functions.\n",
    "\n",
    "**For example, what fraction of the male population has a height between 70 and 75 inches?**"
   ]
  },
  {
   "cell_type": "code",
   "execution_count": null,
   "id": "f385aff2-b4fa-4edb-b577-4fb19403114c",
   "metadata": {},
   "outputs": [],
   "source": [
    "# Method 1: Direct Count\n",
    "male_hts = pop_ht.where(\"Gender\", \"Male\")\n",
    "between70_75 = male_hts.where(\"Height\", are.between(70, 75))\n",
    "fraction = between70_75.num_rows / male_hts.num_rows\n",
    "fraction"
   ]
  },
  {
   "cell_type": "code",
   "execution_count": null,
   "id": "fea573da-3c6f-4211-b1f3-57f0a10dbd3d",
   "metadata": {},
   "outputs": [],
   "source": [
    "# Method 2: Use normal distribution's CDF (cummulative distribution function)"
   ]
  },
  {
   "cell_type": "code",
   "execution_count": null,
   "id": "3429c24a-fb36-4978-a6f9-5ced28263f26",
   "metadata": {},
   "outputs": [],
   "source": [
    "fraction_norm = dist.cdf(75) - dist.cdf(70)\n",
    "fraction_norm"
   ]
  },
  {
   "cell_type": "code",
   "execution_count": null,
   "id": "1343fab4-4061-4609-88b2-9ccb1dc0fe96",
   "metadata": {},
   "outputs": [],
   "source": [
    "# Shade the band between 70 and 75 inches on the PDF\n",
    "lower, upper = 70, 75\n",
    "\n",
    "plt.figure(figsize=(8, 5))\n",
    "# Density histogram\n",
    "plt.hist(male_heights, density=True, bins=bins, color=\"steelblue\", alpha=0.6, edgecolor=\"white\", label=\"Male (density)\")\n",
    "\n",
    "# Fitted normal curve\n",
    "plt.plot(x, y, color='k', lw=2, label='Normal fit')\n",
    "\n",
    "# Create x values inside the band and fill under the PDF\n",
    "x_band = np.linspace(lower, upper, 200)\n",
    "y_band = dist.pdf(x_band)\n",
    "plt.fill_between(x_band, y_band, color='orange', alpha=0.35, label='70–75 in band')\n",
    "\n",
    "# Reference lines\n",
    "plt.axvline(lower, color='orange', linestyle='--', alpha=0.8)\n",
    "plt.axvline(upper, color='orange', linestyle='--', alpha=0.8)\n",
    "\n",
    "# Annotate with fraction from the normal model\n",
    "fraction_norm = dist.cdf(upper) - dist.cdf(lower)\n",
    "plt.text(0.99, 0.95, f\"P(70 ≤ H ≤ 75) ≈ {fraction_norm:.3f}\",\n",
    "         transform=plt.gca().transAxes, ha='right', va='top')\n",
    "\n",
    "plt.title(\"Male Height — Density, Normal Fit, and 70–75 in Band\")\n",
    "plt.xlabel(\"Height (inches)\")\n",
    "plt.ylabel(\"Density\")\n",
    "plt.legend()\n",
    "plt.tight_layout()\n",
    "plt.show()\n"
   ]
  },
  {
   "cell_type": "markdown",
   "id": "5c9dda48-1b3f-4d4d-a615-c51acbc9e48e",
   "metadata": {},
   "source": [
    "## Challenge 2: What fraction of women are between 5 ft 2 inches and 5 ft 5 inches tall?\n",
    "You can use either of the two methods shown above."
   ]
  },
  {
   "cell_type": "markdown",
   "id": "775adc0a-2996-4ac5-899b-0036459ba793",
   "metadata": {},
   "source": [
    "## Standardizing Data\n",
    "\n",
    "To standardize a data set, you simply subtract the average from each point and divide by the standard deviation. The standardized data will then have a mean of zero and a standard deviation of one.\n",
    "\n",
    "$$ z = \\frac{x - \\bar{x}}{\\sigma} $$\n",
    "\n",
    "**Let's stardize the male and female height separately and plot on the same plot.**"
   ]
  },
  {
   "cell_type": "code",
   "execution_count": null,
   "id": "b701523e-5ebd-4a08-8374-e743dda68619",
   "metadata": {},
   "outputs": [],
   "source": [
    "male_hts = pop_ht.where(\"Gender\", \"Male\")\n",
    "men = male_hts.column(\"Height\")\n",
    "men_avg = np.mean(men)\n",
    "men_std = np.std(men)\n",
    "\n",
    "male_hts = male_hts.with_columns(\"Male Height Standardized\", (men - men_avg) / men_std)"
   ]
  },
  {
   "cell_type": "code",
   "execution_count": null,
   "id": "f730965f-4138-4278-aa5e-c52cbe4429e7",
   "metadata": {},
   "outputs": [],
   "source": [
    "male_hts"
   ]
  },
  {
   "cell_type": "code",
   "execution_count": null,
   "id": "f9287741-ad8b-4ef8-b02a-bd93f97b133a",
   "metadata": {},
   "outputs": [],
   "source": [
    "male_hts.hist(\"Male Height Standardized\", bins=20)"
   ]
  },
  {
   "cell_type": "markdown",
   "id": "706c09e9-08b3-413a-9575-5b5ff0f883e8",
   "metadata": {},
   "source": [
    "## Challenge 3: \n",
    "Explain in words what the units are on the x-axis of this plot."
   ]
  },
  {
   "cell_type": "markdown",
   "id": "79fa6247-d4aa-4c61-b1e4-7c27f7808156",
   "metadata": {},
   "source": [
    "## Challenge 4: \n",
    "Plot the standardized height for the women. How does this distribution compare with that of the men?"
   ]
  },
  {
   "cell_type": "code",
   "execution_count": null,
   "id": "9a864e72-37ed-47a0-b025-ec17dac1bcac",
   "metadata": {},
   "outputs": [],
   "source": []
  },
  {
   "cell_type": "markdown",
   "id": "777b66b8-2879-42e5-81f2-69a01e8456a1",
   "metadata": {},
   "source": [
    "Answer:"
   ]
  }
 ],
 "metadata": {
  "kernelspec": {
   "display_name": "Python 3 (ipykernel)",
   "language": "python",
   "name": "python3"
  },
  "language_info": {
   "codemirror_mode": {
    "name": "ipython",
    "version": 3
   },
   "file_extension": ".py",
   "mimetype": "text/x-python",
   "name": "python",
   "nbconvert_exporter": "python",
   "pygments_lexer": "ipython3",
   "version": "3.11.6"
  }
 },
 "nbformat": 4,
 "nbformat_minor": 5
}
