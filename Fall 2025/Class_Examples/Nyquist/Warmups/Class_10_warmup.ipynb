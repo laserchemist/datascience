{
 "cells": [
  {
   "cell_type": "markdown",
   "id": "5fe2a912-4284-45d2-9364-0c4a603f8f10",
   "metadata": {},
   "source": [
    "# Class 10 Warmup\n",
    "\n",
    "This is a paper-based acivity. No Jupyter notebook required."
   ]
  }
 ],
 "metadata": {
  "kernelspec": {
   "display_name": "Python 3 (ipykernel)",
   "language": "python",
   "name": "python3"
  },
  "language_info": {
   "codemirror_mode": {
    "name": "ipython",
    "version": 3
   },
   "file_extension": ".py",
   "mimetype": "text/x-python",
   "name": "python",
   "nbconvert_exporter": "python",
   "pygments_lexer": "ipython3",
   "version": "3.11.6"
  }
 },
 "nbformat": 4,
 "nbformat_minor": 5
}
