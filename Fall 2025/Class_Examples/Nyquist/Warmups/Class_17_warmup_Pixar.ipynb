{
 "cells": [
  {
   "cell_type": "code",
   "execution_count": 33,
   "id": "0cc974d2-8ab2-4afb-a0e2-ac737a0137e6",
   "metadata": {},
   "outputs": [],
   "source": [
    "import numpy as np\n",
    "from datascience import *\n",
    "import matplotlib.pyplot as plt\n",
    "\n",
    "%matplotlib inline"
   ]
  },
  {
   "cell_type": "markdown",
   "id": "7f6d7e59-e996-49b8-980e-9fde2d0346f9",
   "metadata": {},
   "source": [
    "# Class 17 Warm Up -- Data Standarization and Correlation\n",
    "For this exercise, we'll be working with ratings of Pixar movies.\n",
    "The goals are:\n",
    "* Learn how to standarize data\n",
    "* Use the standarized data to calculation correlation coefficents"
   ]
  },
  {
   "cell_type": "markdown",
   "id": "4125fa9b-3165-4165-a8fb-d8ebe980a37d",
   "metadata": {},
   "source": [
    "## Load the data"
   ]
  },
  {
   "cell_type": "code",
   "execution_count": 34,
   "id": "81eb2352-fbc5-48ce-819d-64af8bdd9342",
   "metadata": {},
   "outputs": [
    {
     "data": {
      "text/html": [
       "<table border=\"1\" class=\"dataframe\">\n",
       "    <thead>\n",
       "        <tr>\n",
       "            <th>film</th> <th>rotten_tomatoes</th> <th>metacritic</th> <th>cinema_score</th> <th>critics_choice</th>\n",
       "        </tr>\n",
       "    </thead>\n",
       "    <tbody>\n",
       "        <tr>\n",
       "            <td>Toy Story   </td> <td>100            </td> <td>95        </td> <td>A           </td> <td>nan           </td>\n",
       "        </tr>\n",
       "        <tr>\n",
       "            <td>A Bug's Life</td> <td>92             </td> <td>77        </td> <td>A           </td> <td>nan           </td>\n",
       "        </tr>\n",
       "        <tr>\n",
       "            <td>Toy Story 2 </td> <td>100            </td> <td>88        </td> <td>A+          </td> <td>100           </td>\n",
       "        </tr>\n",
       "    </tbody>\n",
       "</table>\n",
       "<p>... (21 rows omitted)</p>"
      ],
      "text/plain": [
       "<IPython.core.display.HTML object>"
      ]
     },
     "metadata": {},
     "output_type": "display_data"
    }
   ],
   "source": [
    "url = 'https://raw.githubusercontent.com/rfordatascience/tidytuesday/main/data/2025/2025-03-11/public_response.csv'\n",
    "ratings = Table.read_table(url)\n",
    "ratings.show(3)"
   ]
  },
  {
   "cell_type": "markdown",
   "id": "ee3a7070-caab-4cd2-877d-e83e85ee0e40",
   "metadata": {},
   "source": [
    "A couple of the rows have nan (not a number) markers indicating missing data. The tables in the datascience module we use to not have any built-in methods for removing these, but Pandas dataframes do. So we will transform the table to a dataframe, drop the rows with nan's, then transform the dataframe back to a table.\n",
    "\n",
    "Remember this trick. It may come in handy for the final project."
   ]
  },
  {
   "cell_type": "code",
   "execution_count": 35,
   "id": "40e5fc10-18c1-47a3-b8c3-666ebe504116",
   "metadata": {},
   "outputs": [],
   "source": [
    "df = ratings.to_df().dropna() \n",
    "ratings = Table().from_df(df)"
   ]
  },
  {
   "cell_type": "markdown",
   "id": "3675ff1b-7500-4dda-b9df-12dd7b1e893e",
   "metadata": {},
   "source": [
    "Now create a new table with just the numeric ratings."
   ]
  },
  {
   "cell_type": "code",
   "execution_count": 36,
   "id": "adfc0a0d-56b2-4bda-9657-7205bd603e64",
   "metadata": {},
   "outputs": [
    {
     "data": {
      "text/html": [
       "<table border=\"1\" class=\"dataframe\">\n",
       "    <thead>\n",
       "        <tr>\n",
       "            <th>rotten_tomatoes</th> <th>metacritic</th> <th>critics_choice</th>\n",
       "        </tr>\n",
       "    </thead>\n",
       "    <tbody>\n",
       "        <tr>\n",
       "            <td>100            </td> <td>88        </td> <td>100           </td>\n",
       "        </tr>\n",
       "        <tr>\n",
       "            <td>96             </td> <td>79        </td> <td>92            </td>\n",
       "        </tr>\n",
       "        <tr>\n",
       "            <td>99             </td> <td>90        </td> <td>97            </td>\n",
       "        </tr>\n",
       "    </tbody>\n",
       "</table>\n",
       "<p>... (18 rows omitted)</p>"
      ],
      "text/plain": [
       "<IPython.core.display.HTML object>"
      ]
     },
     "metadata": {},
     "output_type": "display_data"
    }
   ],
   "source": [
    "rmc = ratings.select(\"rotten_tomatoes\", \"metacritic\", \"critics_choice\")\n",
    "rmc.show(3)"
   ]
  },
  {
   "cell_type": "markdown",
   "id": "32a9fcdf-3cbf-4b73-98a1-84e3dcffbc87",
   "metadata": {},
   "source": [
    "## Scatter Plot\n",
    "Let's look at how well the two of the different rating services track each other."
   ]
  },
  {
   "cell_type": "code",
   "execution_count": 37,
   "id": "e26b4836-ada0-4a36-a38d-43ef62498513",
   "metadata": {},
   "outputs": [
    {
     "data": {
      "image/png": "[encoded data removed]",
      "text/plain": [
       "<Figure size 500x500 with 1 Axes>"
      ]
     },
     "metadata": {},
     "output_type": "display_data"
    }
   ],
   "source": [
    "rmc.scatter(\"metacritic\", \"critics_choice\")"
   ]
  },
  {
   "cell_type": "markdown",
   "id": "3b0b37ba-3107-4813-aac8-2df1613b1a2b",
   "metadata": {},
   "source": [
    "### Student Challenge #1\n",
    "Describe what you see in this graph. Do you think there is a correlation? Positive or negative. Strong, moderate or weak?"
   ]
  },
  {
   "cell_type": "markdown",
   "id": "6a571e1e-e4de-4679-8167-c998d95d4e06",
   "metadata": {},
   "source": []
  },
  {
   "cell_type": "markdown",
   "id": "b593785f-9730-4f22-b6cc-34965b4b5352",
   "metadata": {},
   "source": [
    "## Standardizing the ratings\n",
    "\n",
    "To standardize a data set, you simply subtract the average from each point and divide by the standard deviation. The standarizded data will then have a mean of zero and a standard deviation of one.\n",
    "\n",
    "$$ z = \\frac{x - \\bar{x}}{\\sigma} $$\n",
    "\n",
    "Let's create a function to do this."
   ]
  },
  {
   "cell_type": "code",
   "execution_count": 38,
   "id": "d2c6af21-2d57-4787-a86d-75bf9e3801d7",
   "metadata": {},
   "outputs": [],
   "source": [
    "def standard_units(any_numbers):\n",
    "    \"Convert any array of numbers to standard units.\"\n",
    "    return (any_numbers - np.mean(any_numbers)) / np.std(any_numbers)  "
   ]
  },
  {
   "cell_type": "code",
   "execution_count": 39,
   "id": "6bf5ff25-dc8e-44e1-8931-bfbc8a8b9066",
   "metadata": {},
   "outputs": [
    {
     "name": "stdout",
     "output_type": "stream",
     "text": [
      "The mean of y is 9.516197353929913e-17\n",
      "The standard deviation of y is 1.0\n"
     ]
    }
   ],
   "source": [
    "# Test the function\n",
    "x = make_array(1, 3, 2, 8, 3, 4, 11)\n",
    "y = standard_units(x)\n",
    "print(f\"The mean of y is {np.mean(y)}\")\n",
    "print(f\"The standard deviation of y is {np.std(y)}\")"
   ]
  },
  {
   "cell_type": "markdown",
   "id": "f502f524-cae2-44e8-958a-22a8e873dd58",
   "metadata": {},
   "source": [
    "### Student Challenge #2\n",
    "Explain why this last cell shows the function is working."
   ]
  },
  {
   "cell_type": "markdown",
   "id": "a786d93e-fb35-4e3f-9415-e2505df77c65",
   "metadata": {},
   "source": []
  },
  {
   "cell_type": "markdown",
   "id": "a466b8bf-76d5-4b5f-b809-a9959a4745af",
   "metadata": {},
   "source": [
    "Now we will loop over all of the column names, and for each, standardize the data and add it to the table."
   ]
  },
  {
   "cell_type": "code",
   "execution_count": 40,
   "id": "595b0f95-65e9-4750-a310-5bb23d530078",
   "metadata": {},
   "outputs": [
    {
     "data": {
      "text/html": [
       "<table border=\"1\" class=\"dataframe\">\n",
       "    <thead>\n",
       "        <tr>\n",
       "            <th>rotten_tomatoes</th> <th>metacritic</th> <th>critics_choice</th> <th>rotten_tomatoes_standardized</th> <th>metacritic_standardized</th> <th>critics_choice_standardized</th>\n",
       "        </tr>\n",
       "    </thead>\n",
       "    <tbody>\n",
       "        <tr>\n",
       "            <td>100            </td> <td>88        </td> <td>100           </td> <td>0.804505                    </td> <td>0.709515               </td> <td>1.40181                    </td>\n",
       "        </tr>\n",
       "        <tr>\n",
       "            <td>96             </td> <td>79        </td> <td>92            </td> <td>0.524097                    </td> <td>-0.0313598             </td> <td>0.529572                   </td>\n",
       "        </tr>\n",
       "        <tr>\n",
       "            <td>99             </td> <td>90        </td> <td>97            </td> <td>0.734403                    </td> <td>0.874154               </td> <td>1.07472                    </td>\n",
       "        </tr>\n",
       "        <tr>\n",
       "            <td>97             </td> <td>90        </td> <td>88            </td> <td>0.594199                    </td> <td>0.874154               </td> <td>0.0934539                  </td>\n",
       "        </tr>\n",
       "        <tr>\n",
       "            <td>74             </td> <td>73        </td> <td>89            </td> <td>-1.01815                    </td> <td>-0.525276              </td> <td>0.202483                   </td>\n",
       "        </tr>\n",
       "    </tbody>\n",
       "</table>\n",
       "<p>... (16 rows omitted)</p>"
      ],
      "text/plain": [
       "<IPython.core.display.HTML object>"
      ]
     },
     "metadata": {},
     "output_type": "display_data"
    }
   ],
   "source": [
    "for col in rmc.labels:\n",
    "    rmc = rmc.with_columns(col + \"_standardized\", standard_units(rmc.column(col)))\n",
    "rmc.show(5)"
   ]
  },
  {
   "cell_type": "code",
   "execution_count": 41,
   "id": "d4728253-635f-4832-a403-6db89a648133",
   "metadata": {},
   "outputs": [
    {
     "data": {
      "image/png": "[encoded data removed]",
      "text/plain": [
       "<Figure size 500x500 with 1 Axes>"
      ]
     },
     "metadata": {},
     "output_type": "display_data"
    }
   ],
   "source": [
    "rmc.scatter(\"metacritic_standardized\", \"critics_choice_standardized\")"
   ]
  },
  {
   "cell_type": "markdown",
   "id": "3119ba01-5e5c-42ba-a6d0-35f97b892a70",
   "metadata": {},
   "source": [
    "### Student Challenge 3\n",
    "Does standardizing the data change the pattern of the relationship between the two variables?\n",
    "If so, how. If not, why not?"
   ]
  },
  {
   "cell_type": "markdown",
   "id": "efbce1fb-6ca6-4dce-af14-791c5edcad94",
   "metadata": {},
   "source": [
    "## Calculating the Correlation Coefficient\n",
    "\n",
    "The correlation coefficent *r* is just the average of the product of the values in once they are put in standard units."
   ]
  },
  {
   "cell_type": "code",
   "execution_count": 45,
   "id": "2e7eb64a-cf95-4647-80fb-bed7af05af26",
   "metadata": {},
   "outputs": [
    {
     "name": "stdout",
     "output_type": "stream",
     "text": [
      "The correlation coefficent is 0.86\n"
     ]
    }
   ],
   "source": [
    "x = rmc.column(\"metacritic_standardized\")\n",
    "y = rmc.column(\"critics_choice_standardized\")\n",
    "r = np.mean(x * y)\n",
    "print(f\"The correlation coefficent is {round(r,2)}\")"
   ]
  },
  {
   "cell_type": "markdown",
   "id": "72f1c455-c207-484a-a437-e851c55dcace",
   "metadata": {},
   "source": [
    "### Student Challenge #4\n",
    "Calculate the correlation between the ratings by Metacritice and Rotten Tomatoes. Is this correlation stronger or weaker? Is that what you ex"
   ]
  },
  {
   "cell_type": "markdown",
   "id": "31b042b5-f5e3-4d6b-a8a6-63dd7e69778f",
   "metadata": {},
   "source": []
  }
 ],
 "metadata": {
  "kernelspec": {
   "display_name": "Python 3 (ipykernel)",
   "language": "python",
   "name": "python3"
  },
  "language_info": {
   "codemirror_mode": {
    "name": "ipython",
    "version": 3
   },
   "file_extension": ".py",
   "mimetype": "text/x-python",
   "name": "python",
   "nbconvert_exporter": "python",
   "pygments_lexer": "ipython3",
   "version": "3.11.6"
  }
 },
 "nbformat": 4,
 "nbformat_minor": 5
}
