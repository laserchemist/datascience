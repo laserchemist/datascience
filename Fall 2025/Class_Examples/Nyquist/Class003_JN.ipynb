{
 "cells": [
  {
   "cell_type": "markdown",
   "id": "f6b8a30b-536a-4f66-8750-26a3c3302663",
   "metadata": {},
   "source": [
    "# Always run all cells, starting with module imports such as in the cell below"
   ]
  },
  {
   "cell_type": "code",
   "execution_count": 1,
   "id": "c7763a93-22ac-4813-ad7e-cee5ee053d93",
   "metadata": {},
   "outputs": [],
   "source": [
    "import numpy as np\n",
    "from datascience import * "
   ]
  },
  {
   "cell_type": "markdown",
   "id": "c76b455d-24fb-4abe-989c-05538e3aa90a",
   "metadata": {},
   "source": [
    "## Learning from Lab 00/01\n",
    "Working with Jupyter Notebooks\n",
    "- Expressions\n",
    "- Variables & upcoming Data Types\n",
    "    - Strings\n",
    "    - Integer\n",
    "    - Float\n",
    "- built-in functions: print(\"Hello World\")\n",
    "- Kernel\n",
    "- errors\n",
    "- check work with check('tests/q2_1.py')\n",
    "- Shortcuts\n",
    "- Exporting your notebook to HTML\n",
    "- Running the tests\n",
    "- Code vs Markdown cells"
   ]
  },
  {
   "cell_type": "markdown",
   "id": "cb2057ad-c32c-42e0-b76c-8d4f301bb14c",
   "metadata": {},
   "source": [
    "### Expressions"
   ]
  },
  {
   "cell_type": "code",
   "execution_count": 1,
   "id": "05f2f0f8-7c63-4ffc-8be5-3b4b009d32c8",
   "metadata": {
    "tags": []
   },
   "outputs": [
    {
     "data": {
      "text/plain": [
       "12.838709677419356"
      ]
     },
     "execution_count": 1,
     "metadata": {},
     "output_type": "execute_result"
    }
   ],
   "source": [
    "# This code below is an expression.\n",
    "# It assigns a value to the variable c\n",
    "c = 212 / 31 + 6\n",
    "c"
   ]
  },
  {
   "cell_type": "markdown",
   "id": "5e8e6ab4-e81f-46cd-abc2-338ce26d5914",
   "metadata": {},
   "source": [
    "### Variables\n",
    "#### Strings\n",
    "Strings variables hold text as a string of characters."
   ]
  },
  {
   "cell_type": "code",
   "execution_count": 2,
   "id": "9fadc20a-d010-40c8-a7ef-a2030ece255c",
   "metadata": {
    "tags": []
   },
   "outputs": [
    {
     "name": "stdout",
     "output_type": "stream",
     "text": [
      "Darth Vadar\n"
     ]
    }
   ],
   "source": [
    "first_name = \"Darth\"\n",
    "last_name = \"Vadar\"\n",
    "\n",
    "# The print function can take any number of arguments.\n",
    "print(first_name, last_name)"
   ]
  },
  {
   "cell_type": "markdown",
   "id": "b89d59e2-b50b-41a0-8acc-056a651b7854",
   "metadata": {},
   "source": [
    "#### Integers"
   ]
  },
  {
   "cell_type": "code",
   "execution_count": 4,
   "id": "dfc5583b-be4d-461c-b03b-836ba1cf3c49",
   "metadata": {
    "tags": []
   },
   "outputs": [
    {
     "data": {
      "text/plain": [
       "4"
      ]
     },
     "execution_count": 4,
     "metadata": {},
     "output_type": "execute_result"
    }
   ],
   "source": [
    "two = 2\n",
    "two + two"
   ]
  },
  {
   "cell_type": "code",
   "execution_count": 5,
   "id": "86289aba-9504-4a4a-9331-9194c7b16ba6",
   "metadata": {
    "tags": []
   },
   "outputs": [
    {
     "data": {
      "text/plain": [
       "int"
      ]
     },
     "execution_count": 5,
     "metadata": {},
     "output_type": "execute_result"
    }
   ],
   "source": [
    "# The type() function returns the data type of a variable\n",
    "type(two)"
   ]
  },
  {
   "cell_type": "code",
   "execution_count": 6,
   "id": "54a4cf53-b19d-4f7d-a4d6-0864fd109da1",
   "metadata": {},
   "outputs": [
    {
     "data": {
      "text/plain": [
       "str"
      ]
     },
     "execution_count": 6,
     "metadata": {},
     "output_type": "execute_result"
    }
   ],
   "source": [
    "type(first_name)"
   ]
  },
  {
   "cell_type": "markdown",
   "id": "4cba3969-2fb7-4e57-b17d-9d9621473ab7",
   "metadata": {},
   "source": [
    "### Floating point numbers\n",
    "Floating point numbers have a decimal place."
   ]
  },
  {
   "cell_type": "code",
   "execution_count": 7,
   "id": "950e4e1e-ae36-4286-935b-3a7850b8605e",
   "metadata": {
    "tags": []
   },
   "outputs": [
    {
     "name": "stdout",
     "output_type": "stream",
     "text": [
      "3.142857142857143\n",
      "<class 'float'>\n"
     ]
    }
   ],
   "source": [
    "approx_pi = 22 / 7\n",
    "print(approx_pi)\n",
    "print(type(approx_pi))"
   ]
  },
  {
   "cell_type": "markdown",
   "id": "39ef0432-fcd8-427f-af77-d755063a2d9d",
   "metadata": {},
   "source": [
    "### More built-in functions"
   ]
  },
  {
   "cell_type": "code",
   "execution_count": 8,
   "id": "676d5160-6423-4201-af3d-41d30234aaf7",
   "metadata": {},
   "outputs": [
    {
     "data": {
      "text/plain": [
       "4.4"
      ]
     },
     "execution_count": 8,
     "metadata": {},
     "output_type": "execute_result"
    }
   ],
   "source": [
    "maximum_number = max(3, 4.4)\n",
    "maximum_number"
   ]
  },
  {
   "cell_type": "markdown",
   "id": "705e0987-f22f-4ceb-8a51-0ead2f92efc9",
   "metadata": {},
   "source": [
    "### Importing modules to add functionality"
   ]
  },
  {
   "cell_type": "code",
   "execution_count": 9,
   "id": "de71d933-28b7-460b-a4f2-7a6ef89d75e3",
   "metadata": {},
   "outputs": [
    {
     "name": "stdout",
     "output_type": "stream",
     "text": [
      "50.26548245743669\n"
     ]
    }
   ],
   "source": [
    "import math\n",
    "radius = 4\n",
    "area_of_circle = math.pi * radius**2 \n",
    "print(area_of_circle)"
   ]
  },
  {
   "cell_type": "code",
   "execution_count": 10,
   "id": "6aa7abb6-4dd2-4672-bb77-87306e4f35c2",
   "metadata": {},
   "outputs": [
    {
     "data": {
      "text/plain": [
       "2.718281828459045"
      ]
     },
     "execution_count": 10,
     "metadata": {},
     "output_type": "execute_result"
    }
   ],
   "source": [
    "math.e"
   ]
  },
  {
   "cell_type": "markdown",
   "id": "283c44ef-4f40-48c3-9785-35fb8ac27dad",
   "metadata": {},
   "source": [
    "### The different ways to import and the risk of using import *"
   ]
  },
  {
   "cell_type": "code",
   "execution_count": 8,
   "id": "a6330d17-0c79-4f14-b508-98e0c43b8d5c",
   "metadata": {
    "tags": []
   },
   "outputs": [
    {
     "data": {
      "text/plain": [
       "3.141592653589793"
      ]
     },
     "execution_count": 8,
     "metadata": {},
     "output_type": "execute_result"
    }
   ],
   "source": [
    "# Plain, vanilla import\n",
    "import math\n",
    "\n",
    "# Must preface functions with the whole module name\n",
    "math.pi"
   ]
  },
  {
   "cell_type": "code",
   "execution_count": 13,
   "id": "8c93fa5f-a633-4021-b427-5cdd9744099e",
   "metadata": {
    "tags": []
   },
   "outputs": [
    {
     "data": {
      "text/plain": [
       "3.141592653589793"
      ]
     },
     "execution_count": 13,
     "metadata": {},
     "output_type": "execute_result"
    }
   ],
   "source": [
    "# Renaming, often to abbreviate, on import\n",
    "import math as m\n",
    "\n",
    "# Now you preface functions with the shorter name\n",
    "m.pi"
   ]
  },
  {
   "cell_type": "code",
   "execution_count": 14,
   "id": "f3ad9493-9bbe-4560-aabb-fd08260500c4",
   "metadata": {
    "tags": []
   },
   "outputs": [
    {
     "data": {
      "text/plain": [
       "3.141592653589793"
      ]
     },
     "execution_count": 14,
     "metadata": {},
     "output_type": "execute_result"
    }
   ],
   "source": [
    "# Bringing all of the modules functions into your working namespace\n",
    "from math import *\n",
    "\n",
    "# Now you don't need any preface to call the functions\n",
    "pi"
   ]
  },
  {
   "cell_type": "code",
   "execution_count": 15,
   "id": "10413203-bb2c-4348-820a-20f2787830ab",
   "metadata": {},
   "outputs": [
    {
     "data": {
      "text/plain": [
       "'My favorite is pumpkin!'"
      ]
     },
     "execution_count": 15,
     "metadata": {},
     "output_type": "execute_result"
    }
   ],
   "source": [
    "# The danger of import *\n",
    "# What if I have a variable name pi\n",
    "pi = \"My favorite is pumpkin!\"\n",
    "pi"
   ]
  },
  {
   "cell_type": "code",
   "execution_count": 16,
   "id": "b634f16c-e8c1-400f-83f0-6ffc4a20e5d7",
   "metadata": {
    "tags": []
   },
   "outputs": [
    {
     "data": {
      "text/plain": [
       "3.141592653589793"
      ]
     },
     "execution_count": 16,
     "metadata": {},
     "output_type": "execute_result"
    }
   ],
   "source": [
    "# Now I import the math module\n",
    "from math import *\n",
    "pi"
   ]
  },
  {
   "cell_type": "code",
   "execution_count": 17,
   "id": "a4501987-35c9-4085-bd8b-b547c446506e",
   "metadata": {
    "tags": []
   },
   "outputs": [
    {
     "name": "stdout",
     "output_type": "stream",
     "text": [
      "My favorite is pumpkin!\n",
      "3.141592653589793\n"
     ]
    }
   ],
   "source": [
    "# The math module ate my pi!\n",
    "# If I import the other ways, the variables remain distinct\n",
    "import math\n",
    "pi = \"My favorite is pumpkin!\"\n",
    "print(pi)\n",
    "print(math.pi)\n",
    "\n",
    "# The morale of the story is be careful with import * or you might lose your pi!"
   ]
  },
  {
   "cell_type": "code",
   "execution_count": 18,
   "id": "3b633c60-f920-47f9-84cb-35b3140b3f17",
   "metadata": {
    "tags": []
   },
   "outputs": [
    {
     "data": {
      "text/plain": [
       "['__doc__',\n",
       " '__file__',\n",
       " '__loader__',\n",
       " '__name__',\n",
       " '__package__',\n",
       " '__spec__',\n",
       " 'acos',\n",
       " 'acosh',\n",
       " 'asin',\n",
       " 'asinh',\n",
       " 'atan',\n",
       " 'atan2',\n",
       " 'atanh',\n",
       " 'cbrt',\n",
       " 'ceil',\n",
       " 'comb',\n",
       " 'copysign',\n",
       " 'cos',\n",
       " 'cosh',\n",
       " 'degrees',\n",
       " 'dist',\n",
       " 'e',\n",
       " 'erf',\n",
       " 'erfc',\n",
       " 'exp',\n",
       " 'exp2',\n",
       " 'expm1',\n",
       " 'fabs',\n",
       " 'factorial',\n",
       " 'floor',\n",
       " 'fmod',\n",
       " 'frexp',\n",
       " 'fsum',\n",
       " 'gamma',\n",
       " 'gcd',\n",
       " 'hypot',\n",
       " 'inf',\n",
       " 'isclose',\n",
       " 'isfinite',\n",
       " 'isinf',\n",
       " 'isnan',\n",
       " 'isqrt',\n",
       " 'lcm',\n",
       " 'ldexp',\n",
       " 'lgamma',\n",
       " 'log',\n",
       " 'log10',\n",
       " 'log1p',\n",
       " 'log2',\n",
       " 'modf',\n",
       " 'nan',\n",
       " 'nextafter',\n",
       " 'perm',\n",
       " 'pi',\n",
       " 'pow',\n",
       " 'prod',\n",
       " 'radians',\n",
       " 'remainder',\n",
       " 'sin',\n",
       " 'sinh',\n",
       " 'sqrt',\n",
       " 'tan',\n",
       " 'tanh',\n",
       " 'tau',\n",
       " 'trunc',\n",
       " 'ulp']"
      ]
     },
     "execution_count": 18,
     "metadata": {},
     "output_type": "execute_result"
    }
   ],
   "source": [
    "# You can check to see what names will be imported\n",
    "import math\n",
    "dir(math)"
   ]
  },
  {
   "cell_type": "markdown",
   "id": "a23a70af-95b2-4aaf-a804-47c6d2b0fa32",
   "metadata": {},
   "source": [
    "Learning how different functions behave is an important part of learning a programming language. A Jupyter notebook can assist in remembering the names and effects of different functions. When editing a code cell, press the tab key after typing the beginning of a name to bring up a list of ways to complete that name. For example, press tab after math. to see all of the functions available in the math module. Typing will narrow down the list of options. To learn more about a function, place a ? after its name. For example, typing math.log? will bring up a description of the log function in the math module."
   ]
  },
  {
   "cell_type": "code",
   "execution_count": 19,
   "id": "454c9296-1039-4a57-89b2-d163ca57ada6",
   "metadata": {},
   "outputs": [
    {
     "ename": "SyntaxError",
     "evalue": "invalid syntax (3171735483.py, line 1)",
     "output_type": "error",
     "traceback": [
      "\u001b[0;36m  Cell \u001b[0;32mIn[19], line 1\u001b[0;36m\u001b[0m\n\u001b[0;31m    math.\u001b[0m\n\u001b[0m         ^\u001b[0m\n\u001b[0;31mSyntaxError\u001b[0m\u001b[0;31m:\u001b[0m invalid syntax\n"
     ]
    }
   ],
   "source": [
    "math."
   ]
  },
  {
   "cell_type": "code",
   "execution_count": 20,
   "id": "3fa63168-4e23-4a27-9119-2fb833e23c86",
   "metadata": {},
   "outputs": [
    {
     "data": {
      "text/plain": [
       "\u001b[0;31mDocstring:\u001b[0m\n",
       "log(x, [base=math.e])\n",
       "Return the logarithm of x to the given base.\n",
       "\n",
       "If the base not specified, returns the natural logarithm (base e) of x.\n",
       "\u001b[0;31mType:\u001b[0m      builtin_function_or_method"
      ]
     },
     "metadata": {},
     "output_type": "display_data"
    }
   ],
   "source": [
    "math.log?"
   ]
  },
  {
   "cell_type": "markdown",
   "id": "1de8bb07-594c-458c-b4b1-0ed143a9bda5",
   "metadata": {},
   "source": [
    "### The datascience module"
   ]
  },
  {
   "cell_type": "code",
   "execution_count": 23,
   "id": "2a372b70-b4b8-44f9-9e1e-532bbb34cc6d",
   "metadata": {
    "tags": []
   },
   "outputs": [
    {
     "data": {
      "text/plain": [
       "['Circle',\n",
       " 'CurrencyFormatter',\n",
       " 'DateFormatter',\n",
       " 'DistributionFormatter',\n",
       " 'Formatter',\n",
       " 'Map',\n",
       " 'Marker',\n",
       " 'NumberFormatter',\n",
       " 'PercentFormatter',\n",
       " 'Region',\n",
       " 'Table',\n",
       " '__builtins__',\n",
       " '__cached__',\n",
       " '__doc__',\n",
       " '__file__',\n",
       " '__loader__',\n",
       " '__name__',\n",
       " '__package__',\n",
       " '__path__',\n",
       " '__spec__',\n",
       " '__version__',\n",
       " 'are',\n",
       " 'default_formatter',\n",
       " 'formats',\n",
       " 'get_coordinates',\n",
       " 'is_non_string_iterable',\n",
       " 'make_array',\n",
       " 'maps',\n",
       " 'minimize',\n",
       " 'percentile',\n",
       " 'plot_cdf_area',\n",
       " 'plot_normal_cdf',\n",
       " 'predicates',\n",
       " 'proportions_from_distribution',\n",
       " 'sample_proportions',\n",
       " 'table_apply',\n",
       " 'tables',\n",
       " 'util',\n",
       " 'version']"
      ]
     },
     "execution_count": 23,
     "metadata": {},
     "output_type": "execute_result"
    }
   ],
   "source": [
    "import datascience\n",
    "dir(datascience)"
   ]
  },
  {
   "cell_type": "code",
   "execution_count": 9,
   "id": "fc4f1abd-2a91-48df-828e-4a8941ffc26f",
   "metadata": {
    "tags": []
   },
   "outputs": [],
   "source": [
    "# We use this in our class because not that many names are imported,\n",
    "# and they are names we are unlikely to use ourselves, so the \n",
    "# convenience outweighs the risk\n",
    "from datascience import *"
   ]
  },
  {
   "cell_type": "markdown",
   "id": "a1a93771-a234-4a8b-b759-e4542695983b",
   "metadata": {},
   "source": [
    "### Arrays\n",
    "Arrays are sequences of data stored in a variable. All the data in the sequence must be the same data type. The `make_array` function is part of the datascience module."
   ]
  },
  {
   "cell_type": "code",
   "execution_count": 25,
   "id": "141748a9-e935-478c-8f51-e48da31ca485",
   "metadata": {
    "tags": []
   },
   "outputs": [
    {
     "data": {
      "text/plain": [
       "array([[2, 4, 6, 8]], dtype=object)"
      ]
     },
     "execution_count": 25,
     "metadata": {},
     "output_type": "execute_result"
    }
   ],
   "source": [
    "x = make_array([2, 4, 6, 8])\n",
    "x"
   ]
  },
  {
   "cell_type": "code",
   "execution_count": 26,
   "id": "a47e203a-7dbf-460a-8c5b-ebbc44f8e7ef",
   "metadata": {
    "tags": []
   },
   "outputs": [
    {
     "data": {
      "text/plain": [
       "array([['tacos', 'burritoes', 'enchiladas']], dtype=object)"
      ]
     },
     "execution_count": 26,
     "metadata": {},
     "output_type": "execute_result"
    }
   ],
   "source": [
    "names = make_array([\"tacos\", \"burritoes\", \"enchiladas\"])\n",
    "names"
   ]
  },
  {
   "cell_type": "code",
   "execution_count": 27,
   "id": "e597bb9b-d212-458e-92e3-ae3d9ea5e482",
   "metadata": {
    "tags": []
   },
   "outputs": [
    {
     "data": {
      "text/plain": [
       "array([[12, 14, 16, 18]], dtype=object)"
      ]
     },
     "execution_count": 27,
     "metadata": {},
     "output_type": "execute_result"
    }
   ],
   "source": [
    "# Arrays are so useful because we can operate on all of the elements in an array at once\n",
    "x + 10"
   ]
  },
  {
   "cell_type": "code",
   "execution_count": 28,
   "id": "f8b143d8-adf0-41e5-8c58-73f4330061e8",
   "metadata": {
    "tags": []
   },
   "outputs": [
    {
     "data": {
      "text/plain": [
       "array([[4, 16, 36, 64]], dtype=object)"
      ]
     },
     "execution_count": 28,
     "metadata": {},
     "output_type": "execute_result"
    }
   ],
   "source": [
    "# Square every element in the array\n",
    "y = x**2\n",
    "y"
   ]
  },
  {
   "cell_type": "markdown",
   "id": "4fd08c01-0299-4f6d-ade9-84db90a7a643",
   "metadata": {},
   "source": [
    "### Lists\n",
    "Lists are another Python data type that can store a sequence, but the elements of a list do not all have to be the same data type. You cannot operate on all of the elements of a list, like with an array, but they can be useful when your data is heterogeneous."
   ]
  },
  {
   "cell_type": "code",
   "execution_count": 29,
   "id": "e3841001-86f2-4a12-ab0a-47d2d4a63f62",
   "metadata": {
    "tags": []
   },
   "outputs": [
    {
     "data": {
      "text/plain": [
       "['Jonathan', 'ate', 100, 'pumpkin pies']"
      ]
     },
     "execution_count": 29,
     "metadata": {},
     "output_type": "execute_result"
    }
   ],
   "source": [
    "sample_list = ['Jonathan', 'ate', 100, 'pumpkin pies']\n",
    "sample_list"
   ]
  },
  {
   "cell_type": "code",
   "execution_count": 30,
   "id": "a1123af1-ebc9-4d3d-a359-1eb031004ac1",
   "metadata": {
    "tags": []
   },
   "outputs": [
    {
     "data": {
      "text/plain": [
       "array([[2, 4, 6, 8]], dtype=object)"
      ]
     },
     "execution_count": 30,
     "metadata": {},
     "output_type": "execute_result"
    }
   ],
   "source": [
    "# Notice that we make arrays by passing a list comprised of one type of data to the make_array() function\n",
    "x = make_array([2, 4, 6, 8])\n",
    "x"
   ]
  },
  {
   "cell_type": "markdown",
   "id": "a0448267-cbd2-4657-9b59-9814d5b13396",
   "metadata": {},
   "source": [
    "## Numpy (short for Numerical Python) \n",
    "Numpy is a module that add a lot of functionality for working with array. As scientists, we will us it in virtually every Jupyter notebook. In fact, it is used so commonly that everyone imports it using the abbreviated name np."
   ]
  },
  {
   "cell_type": "code",
   "execution_count": 31,
   "id": "0c14f9c8-ebaa-4019-b7fc-ca8523a09498",
   "metadata": {
    "tags": []
   },
   "outputs": [],
   "source": [
    "import numpy as np"
   ]
  },
  {
   "cell_type": "code",
   "execution_count": 32,
   "id": "c7831932-5c3e-4b93-b828-d49f99145533",
   "metadata": {
    "tags": []
   },
   "outputs": [],
   "source": [
    "# You can also use numpy to create arrays\n",
    "key_math_constants = np.array([0, 1, -1, math.pi, math.e])"
   ]
  },
  {
   "cell_type": "code",
   "execution_count": 33,
   "id": "ab8f71a0-4669-49bf-96ce-6962f10bdc92",
   "metadata": {
    "tags": []
   },
   "outputs": [
    {
     "data": {
      "text/plain": [
       "5.8598744820488378"
      ]
     },
     "execution_count": 33,
     "metadata": {},
     "output_type": "execute_result"
    }
   ],
   "source": [
    "# importing numpy adds hundreds of functions.\n",
    "# Here is one example that adds up all the elements of the array\n",
    "np.sum(key_math_constants)"
   ]
  },
  {
   "cell_type": "markdown",
   "id": "d92ed156-0db1-4c29-81b3-b9401c858fa9",
   "metadata": {
    "tags": []
   },
   "source": [
    "### Parenthesis () and PEMDAS\n",
    "In standard math notation, the first expression below is\n",
    "\n",
    "$$6 + 6 \\times 5 - 6 \\times 3^2 \\times \\frac{2^3}{4} \\times 7,$$\n",
    "\n",
    "while the second expression below is\n",
    "\n",
    "$$6 + (6 \\times 5 - (6 \\times 3))^2 \\times (\\frac{(2^3)}{4} \\times 7).$$\n",
    "\n"
   ]
  },
  {
   "cell_type": "code",
   "execution_count": 21,
   "id": "a233b689-5e1f-4f7f-b399-c50aad592a4b",
   "metadata": {},
   "outputs": [
    {
     "data": {
      "text/plain": [
       "-720.0"
      ]
     },
     "execution_count": 21,
     "metadata": {},
     "output_type": "execute_result"
    }
   ],
   "source": [
    "6 + 6*5 - 6 * 3**2 * 2**3 / 4 * 7"
   ]
  },
  {
   "cell_type": "code",
   "execution_count": 22,
   "id": "8ed7a57e-a69f-4388-940a-372e068e71a1",
   "metadata": {},
   "outputs": [
    {
     "data": {
      "text/plain": [
       "2022.0"
      ]
     },
     "execution_count": 22,
     "metadata": {},
     "output_type": "execute_result"
    }
   ],
   "source": [
    "6 + (6*5 - (6*3))**2 * ((2**3)/4 * 7)"
   ]
  }
 ],
 "metadata": {
  "kernelspec": {
   "display_name": "Python 3 (ipykernel)",
   "language": "python",
   "name": "python3"
  },
  "language_info": {
   "codemirror_mode": {
    "name": "ipython",
    "version": 3
   },
   "file_extension": ".py",
   "mimetype": "text/x-python",
   "name": "python",
   "nbconvert_exporter": "python",
   "pygments_lexer": "ipython3",
   "version": "3.11.6"
  }
 },
 "nbformat": 4,
 "nbformat_minor": 5
}
