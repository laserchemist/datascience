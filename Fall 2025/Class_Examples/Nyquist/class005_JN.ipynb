{
 "cells": [
  {
   "cell_type": "markdown",
   "id": "f9302cc6-3ec1-416f-9064-f482a98075c4",
   "metadata": {
    "jp-MarkdownHeadingCollapsed": true,
    "tags": []
   },
   "source": [
    "## Class 005\n",
    "*Working with data*: datascience Table"
   ]
  },
  {
   "cell_type": "markdown",
   "id": "36bcf723-8571-4e8f-95af-ba3f07a0744b",
   "metadata": {},
   "source": [
    "## Learning Goals for Lab 03\n",
    "### Loading Data Sets and Exploratory Data Analysis\n",
    "*neccessary*: \n",
    "`from datascience import *`\n",
    "- Table is a new Variable & Data Types\n",
    "    - Strings\n",
    "    - Integer\n",
    "    - float\n",
    "    - list [ ]\n",
    "    - numpy.array\n",
    "    - datascience.tables.Table\n",
    "- arrays: from datascience import *\n",
    "    - `make_array(0.125, 4.75, -1.3)` \n",
    "- arrays: import numpy as np\n",
    "    - `np.array([0, 1, -1, math.pi, math.e])`\n",
    "    - `np.arange(1,13)` \n",
    "- lists: [1, 2, 3, 4]\n",
    "#### Table\n",
    "- `T=Table().with_columns('Month',np.arange(1,13))`\n",
    "- `Table.read_table(data)`\n"
   ]
  },
  {
   "cell_type": "markdown",
   "id": "48fcc9e7-acf3-4370-841c-152e50070b71",
   "metadata": {},
   "source": [
    "#### Initialize with imported new functionality"
   ]
  },
  {
   "cell_type": "code",
   "execution_count": null,
   "id": "8b570ee0-306d-4fad-8ffa-e4b3b356922e",
   "metadata": {},
   "outputs": [],
   "source": [
    "from datascience import *\n",
    "\n",
    "# import for plotting\n",
    "%matplotlib inline\n",
    "import matplotlib.pyplot as plt\n",
    "plt.style.use('fivethirtyeight')\n",
    "# Fix for datascience plots\n",
    "import collections as collections\n",
    "import collections.abc as abc\n",
    "collections.Iterable = abc.Iterable"
   ]
  },
  {
   "cell_type": "markdown",
   "id": "69ab5d57-4f32-4adb-bc52-89df574cd857",
   "metadata": {},
   "source": [
    "## Loops and List Comprehensions\n",
    "A loop runs through all of the elements in a collection."
   ]
  },
  {
   "cell_type": "code",
   "execution_count": null,
   "id": "2e1d85ef-f08c-4477-aeb8-a23ecffe512a",
   "metadata": {},
   "outputs": [],
   "source": [
    "# Here the collection is a list\n",
    "science_bldgs = ['Beury', 'Biolife', 'SERC']\n",
    "for bldg in science_bldgs:\n",
    "    print(bldg)"
   ]
  },
  {
   "cell_type": "code",
   "execution_count": null,
   "id": "edefc8a4-7a1f-48e4-90ea-023805d41eca",
   "metadata": {},
   "outputs": [],
   "source": [
    "x = np.arange(5)\n",
    "x"
   ]
  },
  {
   "cell_type": "code",
   "execution_count": null,
   "id": "223bdfbc-30ab-4ccc-b805-71a2049c3a23",
   "metadata": {},
   "outputs": [],
   "source": [
    "# Here the collection is an array\n",
    "for x in np.arange(5):\n",
    "    print(x)"
   ]
  },
  {
   "cell_type": "code",
   "execution_count": null,
   "id": "605182e2-8f04-4dcb-a1e2-d008dec3555a",
   "metadata": {},
   "outputs": [],
   "source": [
    "# You can have any number of lines in the body of the loop\n",
    "for x in np.arange(5):\n",
    "    print(\"When x =\", x, \"then x-squared is:\", x**2)\n",
    "    print(\"--------------------------------\")"
   ]
  },
  {
   "cell_type": "markdown",
   "id": "3e7ba245-a40c-4911-8d2a-0ceeb5b91c62",
   "metadata": {},
   "source": [
    "**A list comprehension is a short cut for using a loop to make a new list.**"
   ]
  },
  {
   "cell_type": "code",
   "execution_count": null,
   "id": "5caf2639-4e7e-4ecb-89e4-c7e60f5cf8a8",
   "metadata": {},
   "outputs": [],
   "source": [
    "# The regular way\n",
    "pets = \"dog\", \"cat\", \"hamster\", \"goldfish\"\n",
    "upper_case_pets = []\n",
    "for pet in pets:\n",
    "    upper_case_pets.append(pet.upper())\n",
    "upper_case_pets"
   ]
  },
  {
   "cell_type": "code",
   "execution_count": null,
   "id": "ea594e12-6ea3-471d-b1c5-e09896e31d1d",
   "metadata": {},
   "outputs": [],
   "source": [
    "# Using a list comprehension\n",
    "upper_case_pets = [pet.upper() for pet in pets]\n",
    "upper_case_pets"
   ]
  },
  {
   "cell_type": "markdown",
   "id": "23d569ec-163f-45cd-8a1b-80aad3d3b0c3",
   "metadata": {},
   "source": [
    "### First data table"
   ]
  },
  {
   "cell_type": "code",
   "execution_count": null,
   "id": "cbb1a72d-9dc0-4a3d-8d09-a16def7346f6",
   "metadata": {},
   "outputs": [],
   "source": [
    "from datascience import *\n",
    "import numpy as np\n",
    "\n",
    "T=Table().with_columns('Month',np.arange(1,13))"
   ]
  },
  {
   "cell_type": "code",
   "execution_count": null,
   "id": "3cccb1ee-fb44-40bc-943e-b0943efa931d",
   "metadata": {},
   "outputs": [],
   "source": [
    "T=T.with_columns('Average_SnowFall (inch)',make_array(5.6, 5.6, 2.4, 0.1, 0, 0, 0, 0, 0, 0, 0.1, 3.2))"
   ]
  },
  {
   "cell_type": "code",
   "execution_count": null,
   "id": "7e4654c5-3c27-4230-bb55-fce1450dbd13",
   "metadata": {},
   "outputs": [],
   "source": [
    "T.show()"
   ]
  },
  {
   "cell_type": "code",
   "execution_count": null,
   "id": "d0df4fa2-a077-449c-b910-2ad5bef76745",
   "metadata": {},
   "outputs": [],
   "source": [
    "# Little nice trick to get months in list\n",
    "import calendar\n",
    "m=[calendar.month_name[i] for i in range(1,13)]\n",
    "m"
   ]
  },
  {
   "cell_type": "code",
   "execution_count": null,
   "id": "12cae7f0-b5c3-41dc-9a80-48a89762361e",
   "metadata": {},
   "outputs": [],
   "source": [
    "T=T.with_columns('Month',m)\n",
    "T.show()"
   ]
  },
  {
   "cell_type": "markdown",
   "id": "8a69a989-72db-4e96-8cc1-675dfedd1288",
   "metadata": {},
   "source": [
    "### Environmental Performance Index (EPI)\n",
    "[epi.yale.edu](epi.yale.edu)"
   ]
  },
  {
   "cell_type": "code",
   "execution_count": null,
   "id": "9bad08a8-c6d4-4132-9772-4ba320980120",
   "metadata": {},
   "outputs": [],
   "source": [
    "path = 'data/'\n",
    "data = path + 'epi2022results05302022.csv'\n",
    "epi = Table.read_table(data)\n",
    "epi"
   ]
  },
  {
   "cell_type": "code",
   "execution_count": null,
   "id": "c2a40d4e-89e3-4051-9ef0-1aafbd8de1db",
   "metadata": {},
   "outputs": [],
   "source": [
    "# Select creates a new table with just the selected columns\n",
    "# sort() sorts all of the rows in the table by a values of a column\n",
    "episcore = epi.select(\"country\",\"EPI.new\")\n",
    "episcore.sort(\"EPI.new\",descending=True)"
   ]
  },
  {
   "cell_type": "markdown",
   "id": "b81b1987-aad6-4494-9ab1-7d668d7901d6",
   "metadata": {},
   "source": [
    "### Census data example\n",
    "#### For your own exploration"
   ]
  },
  {
   "cell_type": "code",
   "execution_count": null,
   "id": "0c46d4bd-1a53-4fcd-9193-c1d9e3f63c4c",
   "metadata": {},
   "outputs": [],
   "source": [
    "data = 'http://www2.census.gov/programs-surveys/popest/datasets/2010-2020/national/asrh/nc-est2020-agesex-res.csv'\n",
    "# A local copy can be accessed here in case census.gov moves the file:\n",
    "# data = path_data + 'nc-est2015-agesex-res.csv'\n",
    "\n",
    "full_census_table = Table.read_table(data)\n",
    "full_census_table"
   ]
  },
  {
   "cell_type": "code",
   "execution_count": null,
   "id": "b7082ced-593c-42f2-8a85-bdf28490f5ac",
   "metadata": {},
   "outputs": [],
   "source": [
    "# Use select to pick the desired columns\n",
    "partial_census_table = full_census_table.select('SEX', 'AGE', 'POPESTIMATE2010', 'POPESTIMATE2020')\n",
    "partial_census_table"
   ]
  },
  {
   "cell_type": "code",
   "execution_count": null,
   "id": "587dd336-4bf0-4b72-9522-714d15ba2344",
   "metadata": {},
   "outputs": [],
   "source": [
    "partial_census_table.column(\"AGE\")"
   ]
  },
  {
   "cell_type": "code",
   "execution_count": null,
   "id": "4dcc5207-4254-4c77-b035-699a9577963f",
   "metadata": {},
   "outputs": [],
   "source": [
    "# Change a column name using relabeled(oldname, newname)\n",
    "us_pop = partial_census_table.relabeled('POPESTIMATE2010', '2010').relabeled('POPESTIMATE2020', '2020').relabeled('SEX','GENDER')\n",
    "us_pop"
   ]
  },
  {
   "cell_type": "code",
   "execution_count": null,
   "id": "b85f01c9-f11d-478d-838d-3b4b4cf11c78",
   "metadata": {},
   "outputs": [],
   "source": [
    "# Using .where() method to filter data [see:http://data8.org/datascience/reference-nb/datascience-reference.html#tbl.where() ]\n",
    "us_pop.where('GENDER', 0)"
   ]
  },
  {
   "cell_type": "code",
   "execution_count": null,
   "id": "9d2465c0-c77c-4e18-b1d8-1d9b942c6adb",
   "metadata": {},
   "outputs": [],
   "source": [
    "# Chaining methods - They are applied left to right\n",
    "popdata = us_pop.where('GENDER',0).where('AGE',are.below(99))\n",
    "popdata"
   ]
  },
  {
   "cell_type": "code",
   "execution_count": null,
   "id": "169e9ca0-80c3-43f4-8149-94cd42b6f762",
   "metadata": {},
   "outputs": [],
   "source": [
    "# Plot to see offset\n",
    "popdata.select('AGE','2010','2020').plot('AGE')"
   ]
  },
  {
   "cell_type": "markdown",
   "id": "2a1afd82-4694-424d-81a3-5758a32feb6c",
   "metadata": {},
   "source": [
    "# Read Chapter 6!\n",
    "https://inferentialthinking.com/chapters/06/Tables.html#\n",
    "\n",
    "**Tables are the essential data structure for this class and there is a lot to learn, so read!**"
   ]
  },
  {
   "cell_type": "code",
   "execution_count": null,
   "id": "45a747a2-6cea-439a-8492-7adf85dfc71f",
   "metadata": {},
   "outputs": [],
   "source": []
  }
 ],
 "metadata": {
  "kernelspec": {
   "display_name": "Python 3 (ipykernel)",
   "language": "python",
   "name": "python3"
  },
  "language_info": {
   "codemirror_mode": {
    "name": "ipython",
    "version": 3
   },
   "file_extension": ".py",
   "mimetype": "text/x-python",
   "name": "python",
   "nbconvert_exporter": "python",
   "pygments_lexer": "ipython3",
   "version": "3.11.6"
  }
 },
 "nbformat": 4,
 "nbformat_minor": 5
}
