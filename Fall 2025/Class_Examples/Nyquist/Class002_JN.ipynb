{
 "cells": [
  {
   "cell_type": "markdown",
   "id": "84dbd6f6-ff61-408f-b270-d56a6d2c2bec",
   "metadata": {},
   "source": [
    "# Two types of cells: code and markdown"
   ]
  },
  {
   "cell_type": "markdown",
   "id": "70ced2be-9c47-4965-9982-858ee5682d01",
   "metadata": {},
   "source": [
    "## Markdown cells are where you put plain text answers to questions\n",
    "You will often be asked as part of lab to comment or your results, or to explain a concept. The way to answer these questions is by typing into a markdown cell in the notebook."
   ]
  },
  {
   "cell_type": "markdown",
   "id": "896036e8-fe28-4a9f-a362-ef89182d59d5",
   "metadata": {},
   "source": [
    "**Student Challege #1:**\n",
    "* Add a cell below.\n",
    "* Change it to markdown\n",
    "* Write what you had for breakfast this morning."
   ]
  },
  {
   "cell_type": "markdown",
   "id": "0780e0a6-87e0-49cd-9711-62d5c8ee3efe",
   "metadata": {},
   "source": [
    "## Markdown cells can include formatting instructions\n",
    "Markdown is a formatting language. Instead of clicking a button to make text bold or italic, for example, you include special the formatting instructions as plain text. To make text italic, enclose in astericks. To make it bold, enclose in double asteriks.\n",
    "\n",
    "**Student Challenge #2** <br>\n",
    "Edit the markdown cell below to make the text bold."
   ]
  },
  {
   "cell_type": "markdown",
   "id": "bce11138-af68-428c-9343-4c2796d8625b",
   "metadata": {},
   "source": [
    "This a a bold statement"
   ]
  },
  {
   "cell_type": "markdown",
   "id": "124b8ee2-8615-4b05-bc9b-de6f18cdf481",
   "metadata": {},
   "source": [
    "## Advanced formatting \n",
    "\n",
    "Markdown cells can include equations, such as the Pythagorian Theorem:\n",
    "$$ a^2 + b^2 = c^2$$\n",
    "\n",
    "Or hyperlinks: [Quote of the Day](https://www.brainyquote.com/quote_of_the_day)\n",
    "\n",
    "Or even images and videos, by linking to the file, such as with this cartoon:\n",
    "\n",
    "![bob](data/bob.jpg)"
   ]
  },
  {
   "cell_type": "markdown",
   "id": "784c2c16-9a4b-461b-87cf-2e2e1eeb50ee",
   "metadata": {},
   "source": [
    "## You can stick with plain text most of the time.\n",
    "While you are welcome to try fancier formatting (just google markdown). Most of the time, all you'll\n",
    "need for this class is the ability to add a markdown cell and type in your answer."
   ]
  },
  {
   "cell_type": "markdown",
   "id": "1e673b36-a9d5-4549-a3ad-a408429005ef",
   "metadata": {},
   "source": [
    "## Code cells contain the python commands you want to run"
   ]
  },
  {
   "cell_type": "code",
   "execution_count": 1,
   "id": "b6c3df29-4acf-439d-8044-2117996b7aab",
   "metadata": {
    "tags": []
   },
   "outputs": [
    {
     "name": "stdout",
     "output_type": "stream",
     "text": [
      "Hello, world!\n"
     ]
    }
   ],
   "source": [
    "# This is a code cell\n",
    "# You can include text in comments\n",
    "# Any line starting with # will be ignored by the Python kernel\n",
    "# But any other line will be iterpreted as python code\n",
    "# The results will appear in the output cell under the code cell.\n",
    "\n",
    "greeting = \"Hello, world!\"\n",
    "print(greeting)"
   ]
  },
  {
   "cell_type": "markdown",
   "id": "3db944b9-d503-4ec8-bba1-1d0ac0ae1767",
   "metadata": {},
   "source": [
    "## Markdown and code: a powerful combination\n",
    "One of the reasons Jupyter notebooks are so popular in science is that the combination of markdown and code makes it possible to create an interactive document that tells a story. A story with data, methods, results, figures, discussion, conclusions and references -- all documented in a way that any reader can check themselves. \n",
    "\n",
    "**Reproducibility is the key to good science!**"
   ]
  },
  {
   "cell_type": "markdown",
   "id": "37d1a39c-982c-43c4-87af-5e5f0963dc4c",
   "metadata": {},
   "source": [
    "## Calculating the Mean\n",
    "\n",
    "As a first demonstration of Python and statistics, lets talk about calculating the mean of a set of numbers. The \"mean\" is also commonly called the average. The term \"mean\" derives from the Latin word \"medius,\" which means \"middle.\"\n",
    "\n",
    "The mean is calculated by summing the data and dividing by the number of points. We often write the mean of a variable as the variable name with a bar over it:\n",
    "\n",
    "$$ \\bar x =  \\frac{1}{N} \\sum_{i=1}^{N} x_i$$\n",
    "\n",
    "If x = {1, 5, 6, 9}, the mean of x is\n",
    "\n",
    "$$ \\frac{1 + 5 + 6 + 9}{4} $$\n",
    "\n",
    "In Python we could calculate it this way:"
   ]
  },
  {
   "cell_type": "code",
   "execution_count": null,
   "id": "290c549b-2a36-438f-91ac-8c3c5927877b",
   "metadata": {
    "tags": []
   },
   "outputs": [],
   "source": [
    "(1 + 5 + 6 + 9) / 4"
   ]
  },
  {
   "cell_type": "markdown",
   "id": "82a30c25-502b-4684-b210-e23c490d716c",
   "metadata": {},
   "source": [
    "Python has a math library call \"numpy\" that we will use a lot in this class. It has a function to calculate the mean."
   ]
  },
  {
   "cell_type": "code",
   "execution_count": 2,
   "id": "2bf80926-ad8c-4df8-8485-342d23e25d39",
   "metadata": {
    "tags": []
   },
   "outputs": [
    {
     "data": {
      "text/plain": [
       "5.25"
      ]
     },
     "execution_count": 2,
     "metadata": {},
     "output_type": "execute_result"
    }
   ],
   "source": [
    "# Load the numpy library with the nickanme np for short\n",
    "import numpy as np\n",
    "\n",
    "np.mean([1, 5, 6, 9])"
   ]
  },
  {
   "cell_type": "markdown",
   "id": "69744fb9-4b5c-45b3-b3ee-f343102dd668",
   "metadata": {},
   "source": [
    "## The Power of Zero - A cautionary tale, and a first lesson in statistics\n",
    "\n",
    "The mean is strongly affected by really high and really low values. A couple of zeros can devastate your average grade.\n",
    "\n",
    "Consider the lab scores of the two hypothetical students, Joe and Moe. Joe is brilliant but lazy. When he does the work, he scores perfectly. Moe is less gifted but a hard worker who never fails to submit assignments on time.\n",
    "\n",
    "Look at the score below. Who do you think finishes the class with a better final average?"
   ]
  },
  {
   "cell_type": "code",
   "execution_count": 3,
   "id": "8b094537-793d-4eae-b4e5-a3cfc26fd18b",
   "metadata": {
    "tags": []
   },
   "outputs": [],
   "source": [
    "# The entries sepearated by commas and enclosed in square brackets are python lists\n",
    "# We will create two lists: one for each student's assignment scores\n",
    "\n",
    "Moes_scores = [ 100, 100,  0, 100,  0,  0, 100, 100, 100,  0]\n",
    "Joes_scores = [  83,  91, 79,  84, 82, 90,  78,  87,  85, 89]"
   ]
  },
  {
   "cell_type": "code",
   "execution_count": 4,
   "id": "8280b777-0e37-4336-995e-53ec80126a66",
   "metadata": {
    "tags": []
   },
   "outputs": [
    {
     "data": {
      "text/plain": [
       "60.0"
      ]
     },
     "execution_count": 4,
     "metadata": {},
     "output_type": "execute_result"
    }
   ],
   "source": [
    "np.mean(Moes_scores)"
   ]
  },
  {
   "cell_type": "code",
   "execution_count": 5,
   "id": "11dcb354-4906-4a7e-9eaf-51007318a684",
   "metadata": {
    "tags": []
   },
   "outputs": [
    {
     "data": {
      "text/plain": [
       "84.8"
      ]
     },
     "execution_count": 5,
     "metadata": {},
     "output_type": "execute_result"
    }
   ],
   "source": [
    "np.mean(Joes_scores)"
   ]
  },
  {
   "cell_type": "markdown",
   "id": "be6172aa-bf83-49ae-9a56-72e2885b020c",
   "metadata": {},
   "source": [
    "## What if Moe had handed in *something?*\n",
    "\n",
    "What would have happened if on Moe's lazy days he had still handed in something, say, good enough to score 50/100 (which is a failing grade on the assignment.) How much better is  \"junk on time\" than nothing?"
   ]
  },
  {
   "cell_type": "code",
   "execution_count": 6,
   "id": "b3870743-1a02-4ebd-819b-62ee03baa872",
   "metadata": {
    "tags": []
   },
   "outputs": [
    {
     "data": {
      "text/plain": [
       "80.0"
      ]
     },
     "execution_count": 6,
     "metadata": {},
     "output_type": "execute_result"
    }
   ],
   "source": [
    "Moes_scores = [ 100, 100,  50, 100,  50,  50, 100, 100, 100,  50]\n",
    "np.mean(Moes_scores)"
   ]
  },
  {
   "cell_type": "markdown",
   "id": "40b65e45-0d3c-448a-8109-f11c55ab4a52",
   "metadata": {},
   "source": [
    "## Morale of the Story: submit your assignments even if they are not your best work\n",
    "You cannot get partial credit if you don't submit, and partial credit is often the difference between success and failure.\n",
    "\n",
    "## Python as a calculator\n",
    "Let's solve some simple math problems with Python\n",
    "\n",
    "**Sudent Challenge #3:**\n",
    "A triangle has a base of 10 and a height of 5. What is its area? (*Hint:* Recall that the area of a triangle is one half base times height.)"
   ]
  },
  {
   "cell_type": "code",
   "execution_count": null,
   "id": "cdb4c3ee-6a81-4bbb-b2ac-3b3b56244462",
   "metadata": {},
   "outputs": [],
   "source": []
  },
  {
   "cell_type": "markdown",
   "id": "14b5b55c-f932-45d1-a8ef-010d8cd14850",
   "metadata": {},
   "source": [
    "**Student Challenge #4:** A right triangle has sides of lenths 3 and 4, what is the length of the hypotenuse? (*Hint:* Use the Pythagorean Theorem given above.)"
   ]
  },
  {
   "cell_type": "code",
   "execution_count": null,
   "id": "12862bcb-c96b-4c90-9732-7f1eaa0dee3e",
   "metadata": {},
   "outputs": [],
   "source": []
  },
  {
   "cell_type": "markdown",
   "id": "f053b5a6-32bb-49a2-b658-799aa13d7b00",
   "metadata": {},
   "source": [
    "**Student Challenge #5:** \n",
    "The equation of a line is $$y = mx + b$$\n",
    "where m is the slope and b is the intercept. If the slope of a line is 2 and the intercept is 4, what is the value of y at x=10?"
   ]
  },
  {
   "cell_type": "markdown",
   "id": "5c723c11-fd64-4b31-8844-480a02bccf76",
   "metadata": {},
   "source": [
    "**Student Challenge #6:** The formula for Body Mass Index is\n",
    "$$ BMI = \\frac{weight_{lb}}{height_{in}^{2}} \\times 703 $$\n",
    "\n",
    "What is the BMI of a person who is 6 ft tall and weights 197 pounds?"
   ]
  },
  {
   "cell_type": "markdown",
   "id": "754d4a4f-9a8b-4a5c-8f37-841aa84171c6",
   "metadata": {},
   "source": [
    "## Summary\n",
    "Jupyter notebooks can contain both **markdown** and **code** cell. The code cell are where you to the programming work. The markdown cells are where you put the narrative. Markdown and Code cell combine can be using to tell the story of your research in a way that is not only easy to follow, but is fully reproducible as the reader has both the instructions and the code."
   ]
  },
  {
   "cell_type": "code",
   "execution_count": null,
   "id": "e538c966-65fa-478c-a66f-a67043412223",
   "metadata": {},
   "outputs": [],
   "source": []
  }
 ],
 "metadata": {
  "kernelspec": {
   "display_name": "Python 3 (ipykernel)",
   "language": "python",
   "name": "python3"
  },
  "language_info": {
   "codemirror_mode": {
    "name": "ipython",
    "version": 3
   },
   "file_extension": ".py",
   "mimetype": "text/x-python",
   "name": "python",
   "nbconvert_exporter": "python",
   "pygments_lexer": "ipython3",
   "version": "3.11.6"
  }
 },
 "nbformat": 4,
 "nbformat_minor": 5
}
