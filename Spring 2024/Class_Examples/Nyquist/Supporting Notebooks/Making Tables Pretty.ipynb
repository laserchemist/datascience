{
 "cells": [
  {
   "cell_type": "markdown",
   "id": "8ffbc0aa-1ddc-4538-9312-e2e7f7b82c93",
   "metadata": {},
   "source": [
    "# Making Tables Pretty (and sometimes more useful)\n",
    "\n",
    "Data tables have a number of build-in formatters to make tables look pretty. The full reference list is [here.](https://www.data8.org/datascience/formats.html)\n",
    "\n",
    "In this notebook we will review a few of the most useful."
   ]
  },
  {
   "cell_type": "code",
   "execution_count": null,
   "id": "3f2fc3f4-0cb6-45ec-a3f0-82b4d013d117",
   "metadata": {
    "tags": []
   },
   "outputs": [],
   "source": [
    "import numpy as np\n",
    "from datascience import *\n",
    "import matplotlib.pyplot as plt\n",
    "%matplotlib inline"
   ]
  },
  {
   "cell_type": "code",
   "execution_count": null,
   "id": "d249fac4-c1ac-4431-bde8-06882591a83a",
   "metadata": {
    "tags": []
   },
   "outputs": [],
   "source": [
    "# Load some data for the demonstration\n",
    "COVID_data = 'https://raw.githubusercontent.com/nytimes/covid-19-data/master/rolling-averages/us.csv'\n",
    "COVID=Table.read_table(COVID_data)\n",
    "COVID.show(3)"
   ]
  },
  {
   "cell_type": "markdown",
   "id": "b2c3a8bf-1eac-4fe7-84a9-747e533f4784",
   "metadata": {},
   "source": [
    "## Dateformatter\n",
    "\n",
    "This dataset has a `date` column, but the values were actually read in as strings."
   ]
  },
  {
   "cell_type": "code",
   "execution_count": null,
   "id": "2e3829de-e097-48be-ba19-c94a94e09d73",
   "metadata": {
    "tags": []
   },
   "outputs": [],
   "source": [
    "COVID.column('date')"
   ]
  },
  {
   "cell_type": "markdown",
   "id": "7ea8a824-97d3-400b-be54-7aaa4fbd5978",
   "metadata": {},
   "source": [
    "Python doesn't know they are dates. That means have no easy was to select a particular date range. How could we find the data for just March, 2020, for example?\n",
    "\n",
    "We need to format this column so Python knows these are dates."
   ]
  },
  {
   "cell_type": "code",
   "execution_count": null,
   "id": "19357fd6-b60a-492c-85ee-cd2d7789beba",
   "metadata": {
    "tags": []
   },
   "outputs": [],
   "source": [
    "COVID = COVID.set_format('date', DateFormatter(format='%Y-%m-%d',))\n",
    "COVID.show(3)"
   ]
  },
  {
   "cell_type": "markdown",
   "id": "40bdef94-4865-4552-b74e-a9747d787866",
   "metadata": {},
   "source": [
    "Looks the same, right? But let's see what type of data is stored in the `data` column now."
   ]
  },
  {
   "cell_type": "code",
   "execution_count": null,
   "id": "71d06dc2-1f20-48b3-a00c-acb5328816c4",
   "metadata": {
    "tags": []
   },
   "outputs": [],
   "source": [
    "COVID.column('date')"
   ]
  },
  {
   "cell_type": "markdown",
   "id": "69713f93-7531-4f83-8b29-f54c9ed9414f",
   "metadata": {},
   "source": [
    "The array contains numbers that are actually time stamps. Now we can select a date range."
   ]
  },
  {
   "cell_type": "code",
   "execution_count": null,
   "id": "3c58d161-be07-4195-81d4-5e964b277cd6",
   "metadata": {
    "tags": []
   },
   "outputs": [],
   "source": [
    "import time                # Python time functions\n",
    "from time import strptime \n",
    "#time.time() # Seconds since common epoch\n",
    "\n",
    "time1 = time.mktime(strptime('2020-03-01', '%Y-%m-%d'))\n",
    "time2 = time.mktime(strptime('2020-03-31', '%Y-%m-%d')) # Seconds since epoch\n",
    "\n",
    "Jan2022 = COVID.where('date',are.between(time1,time2))\n",
    "Jan2022.show(3)"
   ]
  },
  {
   "cell_type": "markdown",
   "id": "0109d510-07c3-4746-9e32-f0e9e7c4c531",
   "metadata": {},
   "source": [
    "## NumberFormatter\n",
    "Suppose we want a column to display with a particular number of decimal places. Let's say we want `deaths_avg` to three decimal places."
   ]
  },
  {
   "cell_type": "code",
   "execution_count": null,
   "id": "7b9273d7-5575-4395-a1c2-fbaeba514976",
   "metadata": {
    "tags": []
   },
   "outputs": [],
   "source": [
    "Jan2022 = Jan2022.set_format('deaths_avg', NumberFormatter(decimals=3))\n",
    "Jan2022.show(3)"
   ]
  },
  {
   "cell_type": "markdown",
   "id": "8febcdbb-2259-4b30-8ce2-e1c8e2627c52",
   "metadata": {},
   "source": [
    "Number formatter has additional super powers. Suppose we had a table such as this one:"
   ]
  },
  {
   "cell_type": "code",
   "execution_count": null,
   "id": "1a227d51-2797-45c1-aa74-8bc318bd3d9f",
   "metadata": {
    "tags": []
   },
   "outputs": [],
   "source": [
    "numbers = make_array('23,000', '32,134', '12,112', '34,244')\n",
    "comma_numbers = Table().with_columns('some_numbers', numbers)\n",
    "comma_numbers"
   ]
  },
  {
   "cell_type": "markdown",
   "id": "faf4d204-f8b6-465d-8b79-c0d213f05e8a",
   "metadata": {},
   "source": [
    "It is not unusal to obtain data with numbers using commas like this example. The column has an array of strings, but we want actual numbers. NumberFormatter to the rescue!"
   ]
  },
  {
   "cell_type": "code",
   "execution_count": null,
   "id": "523a48b7-5da6-4a67-850f-7970bc3a9640",
   "metadata": {
    "tags": []
   },
   "outputs": [],
   "source": [
    "comma_numbers = comma_numbers.set_format('some_numbers', NumberFormatter())\n",
    "comma_numbers"
   ]
  },
  {
   "cell_type": "markdown",
   "id": "e9974748-d832-462e-9ca1-2583a4c71a74",
   "metadata": {},
   "source": [
    "The numbers are still displayed with commas, but now the array hold numbers, not strings."
   ]
  },
  {
   "cell_type": "code",
   "execution_count": null,
   "id": "b86418f2-8a85-42b5-b8f6-5784276d08b4",
   "metadata": {
    "tags": []
   },
   "outputs": [],
   "source": [
    "comma_numbers.column('some_numbers')"
   ]
  },
  {
   "cell_type": "markdown",
   "id": "9aaf1b87-f6b2-4632-a73f-2f9fd29f9cc3",
   "metadata": {},
   "source": [
    "What if you don't like commas in your numbers? You change the `separator` from ',' to the empty string ''"
   ]
  },
  {
   "cell_type": "code",
   "execution_count": null,
   "id": "8f252200-cefb-4b09-b739-04bea5cab671",
   "metadata": {
    "tags": []
   },
   "outputs": [],
   "source": [
    "comma_numbers = comma_numbers.set_format('some_numbers', NumberFormatter(separator=''))\n",
    "comma_numbers"
   ]
  },
  {
   "cell_type": "markdown",
   "id": "3e30f65d-afbf-446c-b4d1-eeec8fb566e3",
   "metadata": {},
   "source": [
    "## CurrencyFormatter\n",
    "What if those numbers represented currency. We'd like to display a dollar sign in front of each number."
   ]
  },
  {
   "cell_type": "code",
   "execution_count": null,
   "id": "bf9dae02-5a55-444d-99a3-30c9f8a45fca",
   "metadata": {
    "tags": []
   },
   "outputs": [],
   "source": [
    "comma_numbers = comma_numbers.set_format('some_numbers', CurrencyFormatter())\n",
    "comma_numbers"
   ]
  },
  {
   "cell_type": "markdown",
   "id": "288f42c0-a268-4a00-952a-596d192eee4a",
   "metadata": {},
   "source": [
    "Notice that for currency, the commas were put back in place. It looks better that way. The actual array is still just numbers."
   ]
  },
  {
   "cell_type": "code",
   "execution_count": null,
   "id": "c5376148-c392-4330-82a1-2bd1a594585b",
   "metadata": {
    "tags": []
   },
   "outputs": [],
   "source": [
    "comma_numbers.column('some_numbers')"
   ]
  },
  {
   "cell_type": "markdown",
   "id": "35e0d18f-a5fc-4caf-abca-4c1ad5e5dc5e",
   "metadata": {},
   "source": [
    "## PercentFormater\n",
    "We often hava a column of floating point numbers that represent percentages. Let's create simple example."
   ]
  },
  {
   "cell_type": "code",
   "execution_count": null,
   "id": "a81c2c3e-c92c-4055-a8a2-8988e4f6cb8d",
   "metadata": {
    "tags": []
   },
   "outputs": [],
   "source": [
    "netflix = Table().with_columns(\n",
    "    'Time', make_array('Time spent looking for a movie', 'Time spent watching a movie'),\n",
    "    'Percentage', make_array(.95, .5)\n",
    ")\n",
    "netflix"
   ]
  },
  {
   "cell_type": "markdown",
   "id": "4c40c5ac-e495-4c99-b996-4b49a0a043ea",
   "metadata": {},
   "source": [
    "Display numbers as percentages."
   ]
  },
  {
   "cell_type": "code",
   "execution_count": null,
   "id": "c189dd24-5d77-4ae6-bedd-4d6a1e56f35d",
   "metadata": {
    "tags": []
   },
   "outputs": [],
   "source": [
    "netflix = netflix.set_format('Percentage', PercentFormatter)\n",
    "netflix"
   ]
  },
  {
   "cell_type": "markdown",
   "id": "92ca72a4-eaca-414c-b712-07c641edbd77",
   "metadata": {},
   "source": [
    "**That is a good start. You can look at the documentation to find other formatting options. I'm going to end this tutorial on formatting and go look for a movie to watch.**"
   ]
  },
  {
   "cell_type": "code",
   "execution_count": null,
   "id": "33be6f57-beac-48a7-99fa-a7b385d0b220",
   "metadata": {},
   "outputs": [],
   "source": []
  }
 ],
 "metadata": {
  "kernelspec": {
   "display_name": "Python 3 (ipykernel)",
   "language": "python",
   "name": "python3"
  },
  "language_info": {
   "codemirror_mode": {
    "name": "ipython",
    "version": 3
   },
   "file_extension": ".py",
   "mimetype": "text/x-python",
   "name": "python",
   "nbconvert_exporter": "python",
   "pygments_lexer": "ipython3",
   "version": "3.10.11"
  }
 },
 "nbformat": 4,
 "nbformat_minor": 5
}
