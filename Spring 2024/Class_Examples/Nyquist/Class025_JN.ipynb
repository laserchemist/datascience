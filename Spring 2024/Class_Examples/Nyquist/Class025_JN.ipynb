{
 "cells": [
  {
   "cell_type": "code",
   "execution_count": 1,
   "id": "47517f09-8e9c-493a-927c-c54cad1c9f40",
   "metadata": {
    "tags": []
   },
   "outputs": [],
   "source": [
    "# Import Numpy and Datascience modules.\n",
    "import numpy as np\n",
    "from datascience import *\n",
    "import pandas as pd\n",
    "\n",
    "# Plotting \n",
    "import matplotlib\n",
    "import matplotlib.pyplot as plt\n",
    "plt.style.use('fivethirtyeight')\n",
    "%matplotlib inline"
   ]
  },
  {
   "cell_type": "markdown",
   "id": "b132e5f2-26f4-4db2-b313-dff055c44cc5",
   "metadata": {},
   "source": [
    "# Data Munging\n",
    "\n",
    "\"Data munging is a set of concepts and a methodology for taking data from unusable and erroneous forms to the new levels of structure and quality required by modern analytics processes and consumers.\" [Ref](https://www.talend.com/resources/what-is-data-munging/)"
   ]
  },
  {
   "cell_type": "markdown",
   "id": "a11bb7de-6ec8-4fd2-93d3-6900b2d8bbe1",
   "metadata": {},
   "source": [
    "## Dealing with missing data\n",
    "\n",
    "Often dataset have missing values, which when loaded into python can result in nan's (Not A Number)."
   ]
  },
  {
   "cell_type": "code",
   "execution_count": 2,
   "id": "bf64abd0-8389-4edb-ad03-b3ff4a1abbd5",
   "metadata": {
    "tags": []
   },
   "outputs": [],
   "source": [
    "ramen = Table().read_table(\"ramen-ratings.csv\")"
   ]
  },
  {
   "cell_type": "code",
   "execution_count": 3,
   "id": "4025d1e7-0197-4cf6-a38d-4f3eee1fcc21",
   "metadata": {
    "tags": []
   },
   "outputs": [
    {
     "data": {
      "text/html": [
       "<table border=\"1\" class=\"dataframe\">\n",
       "    <thead>\n",
       "        <tr>\n",
       "            <th>Review #</th> <th>Brand</th> <th>Variety</th> <th>Style</th> <th>Country</th> <th>Stars</th> <th>Top Ten</th>\n",
       "        </tr>\n",
       "    </thead>\n",
       "    <tbody>\n",
       "        <tr>\n",
       "            <td>2580    </td> <td>New Touch     </td> <td>T's Restaurant Tantanmen                                   </td> <td>Cup  </td> <td>Japan      </td> <td>3.75 </td> <td>nan    </td>\n",
       "        </tr>\n",
       "        <tr>\n",
       "            <td>2579    </td> <td>Just Way      </td> <td>Noodles Spicy Hot Sesame Spicy Hot Sesame Guan-miao Noodles</td> <td>Pack </td> <td>Taiwan     </td> <td>1    </td> <td>nan    </td>\n",
       "        </tr>\n",
       "        <tr>\n",
       "            <td>2578    </td> <td>Nissin        </td> <td>Cup Noodles Chicken Vegetable                              </td> <td>Cup  </td> <td>USA        </td> <td>2.25 </td> <td>nan    </td>\n",
       "        </tr>\n",
       "        <tr>\n",
       "            <td>2577    </td> <td>Wei Lih       </td> <td>GGE Ramen Snack Tomato Flavor                              </td> <td>Pack </td> <td>Taiwan     </td> <td>2.75 </td> <td>nan    </td>\n",
       "        </tr>\n",
       "        <tr>\n",
       "            <td>2576    </td> <td>Ching's Secret</td> <td>Singapore Curry                                            </td> <td>Pack </td> <td>India      </td> <td>3.75 </td> <td>nan    </td>\n",
       "        </tr>\n",
       "        <tr>\n",
       "            <td>2575    </td> <td>Samyang Foods </td> <td>Kimchi song Song Ramen                                     </td> <td>Pack </td> <td>South Korea</td> <td>4.75 </td> <td>nan    </td>\n",
       "        </tr>\n",
       "        <tr>\n",
       "            <td>2574    </td> <td>Acecook       </td> <td>Spice Deli Tantan Men With Cilantro                        </td> <td>Cup  </td> <td>Japan      </td> <td>4    </td> <td>nan    </td>\n",
       "        </tr>\n",
       "        <tr>\n",
       "            <td>2573    </td> <td>Ikeda Shoku   </td> <td>Nabeyaki Kitsune Udon                                      </td> <td>Tray </td> <td>Japan      </td> <td>3.75 </td> <td>nan    </td>\n",
       "        </tr>\n",
       "        <tr>\n",
       "            <td>2572    </td> <td>Ripe'n'Dry    </td> <td>Hokkaido Soy Sauce Ramen                                   </td> <td>Pack </td> <td>Japan      </td> <td>0.25 </td> <td>nan    </td>\n",
       "        </tr>\n",
       "        <tr>\n",
       "            <td>2571    </td> <td>KOKA          </td> <td>The Original Spicy Stir-Fried Noodles                      </td> <td>Pack </td> <td>Singapore  </td> <td>2.5  </td> <td>nan    </td>\n",
       "        </tr>\n",
       "    </tbody>\n",
       "</table>\n",
       "<p>... (2570 rows omitted)</p>"
      ],
      "text/plain": [
       "Review # | Brand          | Variety                                                     | Style | Country     | Stars | Top Ten\n",
       "2580     | New Touch      | T's Restaurant Tantanmen                                    | Cup   | Japan       | 3.75  | nan\n",
       "2579     | Just Way       | Noodles Spicy Hot Sesame Spicy Hot Sesame Guan-miao Noodles | Pack  | Taiwan      | 1     | nan\n",
       "2578     | Nissin         | Cup Noodles Chicken Vegetable                               | Cup   | USA         | 2.25  | nan\n",
       "2577     | Wei Lih        | GGE Ramen Snack Tomato Flavor                               | Pack  | Taiwan      | 2.75  | nan\n",
       "2576     | Ching's Secret | Singapore Curry                                             | Pack  | India       | 3.75  | nan\n",
       "2575     | Samyang Foods  | Kimchi song Song Ramen                                      | Pack  | South Korea | 4.75  | nan\n",
       "2574     | Acecook        | Spice Deli Tantan Men With Cilantro                         | Cup   | Japan       | 4     | nan\n",
       "2573     | Ikeda Shoku    | Nabeyaki Kitsune Udon                                       | Tray  | Japan       | 3.75  | nan\n",
       "2572     | Ripe'n'Dry     | Hokkaido Soy Sauce Ramen                                    | Pack  | Japan       | 0.25  | nan\n",
       "2571     | KOKA           | The Original Spicy Stir-Fried Noodles                       | Pack  | Singapore   | 2.5   | nan\n",
       "... (2570 rows omitted)"
      ]
     },
     "execution_count": 3,
     "metadata": {},
     "output_type": "execute_result"
    }
   ],
   "source": [
    "ramen"
   ]
  },
  {
   "cell_type": "markdown",
   "id": "c79254fd-0365-4319-8773-98ad436f29ef",
   "metadata": {},
   "source": [
    "If you look at the CSV file, you will see that the column \"Top Ten\" only has ten entries; the rest of the column values are blank. Although it appears that there is also at least one entry with just a carriage return ('\\n')."
   ]
  },
  {
   "cell_type": "code",
   "execution_count": 4,
   "id": "6fbf9723-b6bc-4bf6-bd7a-2ed664da6a6b",
   "metadata": {
    "tags": []
   },
   "outputs": [
    {
     "data": {
      "text/plain": [
       "array(['\\n', '2012 #1', '2012 #10', '2012 #2', '2012 #3', '2012 #4',\n",
       "       '2012 #5', '2012 #6', '2012 #7', '2012 #9', '2013 #1', '2013 #10',\n",
       "       '2013 #2', '2013 #3', '2013 #4', '2013 #6', '2013 #9', '2014 #1',\n",
       "       '2014 #10', '2014 #4', '2014 #5', '2014 #6', '2014 #7', '2014 #8',\n",
       "       '2014 #9', '2015 #1', '2015 #10', '2015 #4', '2015 #6', '2015 #7',\n",
       "       '2015 #8', '2015 #9', '2016 #1', '2016 #10', '2016 #5', '2016 #7',\n",
       "       '2016 #8', '2016 #9', 'nan'],\n",
       "      dtype='<U32')"
      ]
     },
     "execution_count": 4,
     "metadata": {},
     "output_type": "execute_result"
    }
   ],
   "source": [
    "# Print all the unique entries in the column\n",
    "np.unique(ramen.column(\"Top Ten\"))"
   ]
  },
  {
   "cell_type": "markdown",
   "id": "c9754cf9-6544-4807-9d57-ef9657d0ab63",
   "metadata": {},
   "source": [
    "**Important point:** These are not true numpy nans, but just the string 'nan' so we can find and replace them with the where command."
   ]
  },
  {
   "cell_type": "markdown",
   "id": "4358bae9-0eab-456b-902d-02ef73759018",
   "metadata": {},
   "source": [
    "Suppose we want to replace all of the lines that have nans or '\\n' with the string \"Not in top 10\" "
   ]
  },
  {
   "cell_type": "code",
   "execution_count": 5,
   "id": "072babd2-5afb-4ff5-8611-ed2321d84cbe",
   "metadata": {
    "tags": []
   },
   "outputs": [],
   "source": [
    "# create a function that accepts a single value\n",
    "def replace_nan(x):\n",
    "    if x == 'nan':\n",
    "        return \"Not in top 10\"\n",
    "    elif x == '\\n':\n",
    "        return \"Not in top 10\"\n",
    "    else:\n",
    "        return x"
   ]
  },
  {
   "cell_type": "code",
   "execution_count": 6,
   "id": "e62e1293-39be-442d-8f19-d30375c5e537",
   "metadata": {
    "tags": []
   },
   "outputs": [
    {
     "data": {
      "text/html": [
       "<table border=\"1\" class=\"dataframe\">\n",
       "    <thead>\n",
       "        <tr>\n",
       "            <th>Review #</th> <th>Brand</th> <th>Variety</th> <th>Style</th> <th>Country</th> <th>Stars</th> <th>Top Ten</th>\n",
       "        </tr>\n",
       "    </thead>\n",
       "    <tbody>\n",
       "        <tr>\n",
       "            <td>2580    </td> <td>New Touch</td> <td>T's Restaurant Tantanmen                                   </td> <td>Cup  </td> <td>Japan  </td> <td>3.75 </td> <td>Not in top 10</td>\n",
       "        </tr>\n",
       "        <tr>\n",
       "            <td>2579    </td> <td>Just Way </td> <td>Noodles Spicy Hot Sesame Spicy Hot Sesame Guan-miao Noodles</td> <td>Pack </td> <td>Taiwan </td> <td>1    </td> <td>Not in top 10</td>\n",
       "        </tr>\n",
       "        <tr>\n",
       "            <td>2578    </td> <td>Nissin   </td> <td>Cup Noodles Chicken Vegetable                              </td> <td>Cup  </td> <td>USA    </td> <td>2.25 </td> <td>Not in top 10</td>\n",
       "        </tr>\n",
       "    </tbody>\n",
       "</table>\n",
       "<p>... (2577 rows omitted)</p>"
      ],
      "text/plain": [
       "<IPython.core.display.HTML object>"
      ]
     },
     "metadata": {},
     "output_type": "display_data"
    }
   ],
   "source": [
    "# Use our function to replace values in the Top Ten column using apply()\n",
    "ramen = ramen.with_column('Top Ten', ramen.apply(replace_nan, 'Top Ten') )\n",
    "ramen.show(3)"
   ]
  },
  {
   "cell_type": "markdown",
   "id": "db2a99b9-3435-4f0a-be1b-b0c4fbf28334",
   "metadata": {},
   "source": [
    "**Mission Accomplished!**"
   ]
  },
  {
   "cell_type": "markdown",
   "id": "655c027f-8053-4c4e-9d20-974618432574",
   "metadata": {},
   "source": [
    "### What if we have true np.nan values in our data set?"
   ]
  },
  {
   "cell_type": "code",
   "execution_count": 7,
   "id": "61302293-219d-4109-ad71-fbf35c1b50f6",
   "metadata": {
    "tags": []
   },
   "outputs": [
    {
     "data": {
      "text/html": [
       "<table border=\"1\" class=\"dataframe\">\n",
       "    <thead>\n",
       "        <tr>\n",
       "            <th>X</th> <th>Y</th> <th>OBJECTID</th> <th>SITE_NAME</th> <th>SITE_ID</th> <th>SITE_TYPE</th> <th>SITE_ADDRESS</th> <th>CARBON_MONOXIDE_PPM</th> <th>NITROGEN_DIOXIDE_PPM</th> <th>OZONE_PPM</th> <th>PM10_UG_M3</th> <th>PM25_UG_M3</th> <th>SULFUR_DIOXIDE_PPB</th> <th>SAMPLE_TIMESTAMP</th> <th>SAMPLE_HOUR</th>\n",
       "        </tr>\n",
       "    </thead>\n",
       "    <tbody>\n",
       "        <tr>\n",
       "            <td>-74.9852</td> <td>40.0542</td> <td>706768  </td> <td>TOR      </td> <td>421010075</td> <td>nan      </td> <td>4901 GRANT AVENUE & JAMES STREET             </td> <td>0.246012           </td> <td>8.8731              </td> <td>nan      </td> <td>nan       </td> <td>7.09269   </td> <td>nan               </td> <td>2023/11/29 06:00:00+00</td> <td>1 - 2      </td>\n",
       "        </tr>\n",
       "        <tr>\n",
       "            <td>-75.1869</td> <td>39.9229</td> <td>706769  </td> <td>RIT      </td> <td>421010055</td> <td>nan      </td> <td>24TH ST. & RITNER ST., PHILADELPHIA, PA 19145</td> <td>nan                </td> <td>nan                 </td> <td>nan      </td> <td>nan       </td> <td>5.13439   </td> <td>0.166194          </td> <td>2023/11/29 06:00:00+00</td> <td>1 - 2      </td>\n",
       "        </tr>\n",
       "        <tr>\n",
       "            <td>-75.1424</td> <td>39.9603</td> <td>706770  </td> <td>FAB      </td> <td>421010057</td> <td>nan      </td> <td>240 SPRING GARDEN STREET                     </td> <td>nan                </td> <td>nan                 </td> <td>nan      </td> <td>nan       </td> <td>5.35704   </td> <td>nan               </td> <td>2023/11/29 06:00:00+00</td> <td>1 - 2      </td>\n",
       "        </tr>\n",
       "    </tbody>\n",
       "</table>\n",
       "<p>... (4 rows omitted)</p>"
      ],
      "text/plain": [
       "<IPython.core.display.HTML object>"
      ]
     },
     "metadata": {},
     "output_type": "display_data"
    }
   ],
   "source": [
    "# Load one of the candidate group project data sets. This one is about air quality.\n",
    "url = \"https://opendata.arcgis.com/api/v3/datasets/3899a065577747fbb824f0a21afc2e7c_0/downloads/data?format=csv&spatialRefId=4326\"\n",
    "air = Table.read_table(url)\n",
    "air.show(3)"
   ]
  },
  {
   "cell_type": "code",
   "execution_count": 8,
   "id": "12def9f6-20a1-4ddf-9c8d-7651dd84bbc6",
   "metadata": {
    "tags": []
   },
   "outputs": [
    {
     "data": {
      "text/plain": [
       "array([ 22.7624426,  25.5883331,  28.8483429,         nan])"
      ]
     },
     "execution_count": 8,
     "metadata": {},
     "output_type": "execute_result"
    }
   ],
   "source": [
    "ozone_values = np.unique(air.column('OZONE_PPM'))\n",
    "ozone_values"
   ]
  },
  {
   "cell_type": "code",
   "execution_count": 9,
   "id": "6bf61fbf-48d4-40d5-b348-a235f5319038",
   "metadata": {
    "tags": []
   },
   "outputs": [
    {
     "data": {
      "text/plain": [
       "True"
      ]
     },
     "execution_count": 9,
     "metadata": {},
     "output_type": "execute_result"
    }
   ],
   "source": [
    "np.isnan(ozone_values[3])"
   ]
  },
  {
   "cell_type": "markdown",
   "id": "ca5001bc-4fe4-44b4-9d5f-7ad45c345802",
   "metadata": {},
   "source": [
    "Yup! That is a true nan value. We cannot remove these with the where() method because Equality doesn't work for nans."
   ]
  },
  {
   "cell_type": "code",
   "execution_count": 10,
   "id": "b2acfe6d-94eb-493b-a446-906728c238dc",
   "metadata": {
    "tags": []
   },
   "outputs": [
    {
     "data": {
      "text/plain": [
       "False"
      ]
     },
     "execution_count": 10,
     "metadata": {},
     "output_type": "execute_result"
    }
   ],
   "source": [
    "np.nan == np.nan"
   ]
  },
  {
   "cell_type": "markdown",
   "id": "2f14fc71-e8ba-42ec-a0e9-07c9668c1807",
   "metadata": {},
   "source": [
    "Wow! That is confusing. It turns out you cannot test for equality with nans, but you can identify them. Numpy has a method for this."
   ]
  },
  {
   "cell_type": "code",
   "execution_count": 11,
   "id": "d708ec3e-cef2-491f-b5b4-2b86521137e5",
   "metadata": {
    "tags": []
   },
   "outputs": [
    {
     "data": {
      "text/plain": [
       "array([  5.,   8.,  12.,  nan,   2.,   1.])"
      ]
     },
     "execution_count": 11,
     "metadata": {},
     "output_type": "execute_result"
    }
   ],
   "source": [
    "test = make_array( 5, 8, 12, np.nan, 2, 1)\n",
    "test"
   ]
  },
  {
   "cell_type": "code",
   "execution_count": 12,
   "id": "df7f3112-15f6-48e0-9464-29474f8ee653",
   "metadata": {
    "tags": []
   },
   "outputs": [
    {
     "data": {
      "text/plain": [
       "array([False, False, False,  True, False, False], dtype=bool)"
      ]
     },
     "execution_count": 12,
     "metadata": {},
     "output_type": "execute_result"
    }
   ],
   "source": [
    "np.isnan(test)"
   ]
  },
  {
   "cell_type": "markdown",
   "id": "842c3174-f709-426c-a604-64b69fe964f7",
   "metadata": {},
   "source": [
    "We can use this to replace the nans in our data table. Let's say we wanted to replace all the OZONE_PPM values that are nan with zeros. How do we do this? Again, we can start by writing a function."
   ]
  },
  {
   "cell_type": "code",
   "execution_count": 13,
   "id": "672d31cc-1ccf-4a4d-b19d-c63add1e2c48",
   "metadata": {
    "tags": []
   },
   "outputs": [],
   "source": [
    "# create a function that accepts a single value\n",
    "def replace_true_nan(x):\n",
    "    if np.isnan(x):\n",
    "        return 0\n",
    "    else:\n",
    "        return x"
   ]
  },
  {
   "cell_type": "code",
   "execution_count": 14,
   "id": "1f9a7004-0a3e-47e4-9ec2-ef0e2cde5921",
   "metadata": {
    "tags": []
   },
   "outputs": [
    {
     "name": "stdout",
     "output_type": "stream",
     "text": [
      "5.0\n",
      "8.0\n",
      "12.0\n",
      "0\n",
      "2.0\n",
      "1.0\n"
     ]
    }
   ],
   "source": [
    "# Test the function\n",
    "for x in test:\n",
    "    print(replace_true_nan(x))"
   ]
  },
  {
   "cell_type": "code",
   "execution_count": 15,
   "id": "a0eb5b94-9c16-4f30-bb99-ed4d4ff61301",
   "metadata": {
    "tags": []
   },
   "outputs": [
    {
     "data": {
      "text/html": [
       "<table border=\"1\" class=\"dataframe\">\n",
       "    <thead>\n",
       "        <tr>\n",
       "            <th>X</th> <th>Y</th> <th>OBJECTID</th> <th>SITE_NAME</th> <th>SITE_ID</th> <th>SITE_TYPE</th> <th>SITE_ADDRESS</th> <th>CARBON_MONOXIDE_PPM</th> <th>NITROGEN_DIOXIDE_PPM</th> <th>OZONE_PPM</th> <th>PM10_UG_M3</th> <th>PM25_UG_M3</th> <th>SULFUR_DIOXIDE_PPB</th> <th>SAMPLE_TIMESTAMP</th> <th>SAMPLE_HOUR</th>\n",
       "        </tr>\n",
       "    </thead>\n",
       "    <tbody>\n",
       "        <tr>\n",
       "            <td>-74.9852</td> <td>40.0542</td> <td>706768  </td> <td>TOR      </td> <td>421010075</td> <td>nan      </td> <td>4901 GRANT AVENUE & JAMES STREET             </td> <td>0.246012           </td> <td>8.8731              </td> <td>0        </td> <td>nan       </td> <td>7.09269   </td> <td>nan               </td> <td>2023/11/29 06:00:00+00</td> <td>1 - 2      </td>\n",
       "        </tr>\n",
       "        <tr>\n",
       "            <td>-75.1869</td> <td>39.9229</td> <td>706769  </td> <td>RIT      </td> <td>421010055</td> <td>nan      </td> <td>24TH ST. & RITNER ST., PHILADELPHIA, PA 19145</td> <td>nan                </td> <td>nan                 </td> <td>0        </td> <td>nan       </td> <td>5.13439   </td> <td>0.166194          </td> <td>2023/11/29 06:00:00+00</td> <td>1 - 2      </td>\n",
       "        </tr>\n",
       "        <tr>\n",
       "            <td>-75.1424</td> <td>39.9603</td> <td>706770  </td> <td>FAB      </td> <td>421010057</td> <td>nan      </td> <td>240 SPRING GARDEN STREET                     </td> <td>nan                </td> <td>nan                 </td> <td>0        </td> <td>nan       </td> <td>5.35704   </td> <td>nan               </td> <td>2023/11/29 06:00:00+00</td> <td>1 - 2      </td>\n",
       "        </tr>\n",
       "    </tbody>\n",
       "</table>\n",
       "<p>... (4 rows omitted)</p>"
      ],
      "text/plain": [
       "<IPython.core.display.HTML object>"
      ]
     },
     "metadata": {},
     "output_type": "display_data"
    }
   ],
   "source": [
    "# Use our function to replace values in the Top Ten column using apply()\n",
    "air2 = air.with_column('OZONE_PPM', air.apply(replace_true_nan, 'OZONE_PPM'))\n",
    "air2.show(3)"
   ]
  },
  {
   "cell_type": "markdown",
   "id": "ee3dd8c7-e232-4aa1-a999-330822192a93",
   "metadata": {},
   "source": [
    "### ... or you can use Pandas\n",
    "What I just demonstrated is how to deal with nan's within the world of Data 8's data tables. Outside this class, Pandas dateframes are the weapon of choice for pythonistas working with tabular data. Pandas had many built in methods for dealing with missing data, and you'll need to learn pandas as you continue your python journey.\n",
    "\n",
    "Let's repeat the same operation of replacing nan's in the OZONE_PPM column using pandas."
   ]
  },
  {
   "cell_type": "code",
   "execution_count": 16,
   "id": "9cc71f0a-1cee-4f97-99d3-463498173f23",
   "metadata": {
    "tags": []
   },
   "outputs": [
    {
     "data": {
      "text/html": [
       "<table border=\"1\" class=\"dataframe\">\n",
       "    <thead>\n",
       "        <tr>\n",
       "            <th>X</th> <th>Y</th> <th>OBJECTID</th> <th>SITE_NAME</th> <th>SITE_ID</th> <th>SITE_TYPE</th> <th>SITE_ADDRESS</th> <th>CARBON_MONOXIDE_PPM</th> <th>NITROGEN_DIOXIDE_PPM</th> <th>OZONE_PPM</th> <th>PM10_UG_M3</th> <th>PM25_UG_M3</th> <th>SULFUR_DIOXIDE_PPB</th> <th>SAMPLE_TIMESTAMP</th> <th>SAMPLE_HOUR</th>\n",
       "        </tr>\n",
       "    </thead>\n",
       "    <tbody>\n",
       "        <tr>\n",
       "            <td>-74.9852</td> <td>40.0542</td> <td>706768  </td> <td>TOR      </td> <td>421010075</td> <td>nan      </td> <td>4901 GRANT AVENUE & JAMES STREET             </td> <td>0.246012           </td> <td>8.8731              </td> <td>0        </td> <td>nan       </td> <td>7.09269   </td> <td>nan               </td> <td>2023/11/29 06:00:00+00</td> <td>1 - 2      </td>\n",
       "        </tr>\n",
       "        <tr>\n",
       "            <td>-75.1869</td> <td>39.9229</td> <td>706769  </td> <td>RIT      </td> <td>421010055</td> <td>nan      </td> <td>24TH ST. & RITNER ST., PHILADELPHIA, PA 19145</td> <td>nan                </td> <td>nan                 </td> <td>0        </td> <td>nan       </td> <td>5.13439   </td> <td>0.166194          </td> <td>2023/11/29 06:00:00+00</td> <td>1 - 2      </td>\n",
       "        </tr>\n",
       "        <tr>\n",
       "            <td>-75.1424</td> <td>39.9603</td> <td>706770  </td> <td>FAB      </td> <td>421010057</td> <td>nan      </td> <td>240 SPRING GARDEN STREET                     </td> <td>nan                </td> <td>nan                 </td> <td>0        </td> <td>nan       </td> <td>5.35704   </td> <td>nan               </td> <td>2023/11/29 06:00:00+00</td> <td>1 - 2      </td>\n",
       "        </tr>\n",
       "    </tbody>\n",
       "</table>\n",
       "<p>... (4 rows omitted)</p>"
      ],
      "text/plain": [
       "<IPython.core.display.HTML object>"
      ]
     },
     "metadata": {},
     "output_type": "display_data"
    }
   ],
   "source": [
    "import pandas as pd\n",
    "\n",
    "# Convert the data table to a pandas dataframe\n",
    "df = air.to_df()\n",
    "\n",
    "# Replace the nans in a column\n",
    "df['OZONE_PPM'] = df['OZONE_PPM'].replace(np.nan, 0)\n",
    "\n",
    "# Convert the pandas dataframe back into a data table\n",
    "air3 = Table().from_df(df)\n",
    "air3.show(3)"
   ]
  },
  {
   "cell_type": "markdown",
   "id": "a1206862-985a-4587-8a33-c5a75dec32fe",
   "metadata": {},
   "source": [
    "Pandas had many other methods for dealing with nans, including dropping those row, filling with a value, and intepolating between neighboring value. You can read all about it [here](https://pandas.pydata.org/docs/user_guide/missing_data.html)."
   ]
  },
  {
   "cell_type": "markdown",
   "id": "c4521bf9-8e1f-4df6-a9bb-850f325a9033",
   "metadata": {},
   "source": [
    "## Data Parsing \n",
    "\n",
    "Let's take a quick look at another one of the suggested data sets or the Group Project: Near Earth Objects."
   ]
  },
  {
   "cell_type": "code",
   "execution_count": 17,
   "id": "9cbd0ae8-c7ea-4f05-8f91-a5b6f806afbc",
   "metadata": {
    "tags": []
   },
   "outputs": [
    {
     "data": {
      "text/html": [
       "<table border=\"1\" class=\"dataframe\">\n",
       "    <thead>\n",
       "        <tr>\n",
       "            <th>Object</th> <th>Close-Approach (CA) Date</th> <th>CA Distance Nominal (LD | au)</th> <th>CA Distance Minimum (LD | au)</th> <th>V relative (km/s)</th> <th>V infinity (km/s)</th> <th>H (mag)</th> <th>Diameter</th> <th>Unnamed: 8</th>\n",
       "        </tr>\n",
       "    </thead>\n",
       "    <tbody>\n",
       "        <tr>\n",
       "            <td>509352 (2007 AG)     </td> <td>1900-Jan-04 22:25 ±    00:02</td> <td>3.75 | 0.00963               </td> <td>3.75 | 0.00962               </td> <td>8.69             </td> <td>8.65             </td> <td>20.1   </td> <td>250 m -  570 m</td> <td>a0509352  </td>\n",
       "        </tr>\n",
       "        <tr>\n",
       "            <td>(2014 SC324)         </td> <td>1900-Jan-11 01:07 ±    00:18</td> <td>15.55 | 0.03997              </td> <td>15.53 | 0.03991              </td> <td>10.65            </td> <td>10.65            </td> <td>24.3   </td> <td>37 m -   82 m </td> <td>bK14SW4C  </td>\n",
       "        </tr>\n",
       "        <tr>\n",
       "            <td>(2012 UK171)         </td> <td>1900-Jan-12 23:07 ±    00:13</td> <td>19.39 | 0.04982              </td> <td>19.26 | 0.04950              </td> <td>7.16             </td> <td>7.15             </td> <td>24.4   </td> <td>34 m -   77 m </td> <td>bK12UH1K  </td>\n",
       "        </tr>\n",
       "        <tr>\n",
       "            <td>4660 Nereus (1982 DB)</td> <td>1900-Jan-29 18:10 ±    00:35</td> <td>8.09 | 0.02080               </td> <td>8.08 | 0.02077               </td> <td>5.54             </td> <td>5.52             </td> <td>18.6   </td> <td>0.33±0.05 km  </td> <td>a0004660  </td>\n",
       "        </tr>\n",
       "        <tr>\n",
       "            <td>(2015 RW83)          </td> <td>1900-Feb-04 03:50 ±    14:49</td> <td>12.89 | 0.03312              </td> <td>12.68 | 0.03258              </td> <td>3.14             </td> <td>3.12             </td> <td>24.1   </td> <td>40 m -   90 m </td> <td>bK15R83W  </td>\n",
       "        </tr>\n",
       "        <tr>\n",
       "            <td>(2009 BW2)           </td> <td>1900-Feb-04 06:16 ± 3_02:30 </td> <td>6.40 | 0.01646               </td> <td>6.40 | 0.01644               </td> <td>4.44             </td> <td>4.41             </td> <td>25.1   </td> <td>25 m -   57 m </td> <td>bK09B02W  </td>\n",
       "        </tr>\n",
       "        <tr>\n",
       "            <td>(2002 LY1)           </td> <td>1900-Feb-05 22:08 ± < 00:01 </td> <td>19.09 | 0.04904              </td> <td>19.08 | 0.04903              </td> <td>10.97            </td> <td>10.97            </td> <td>22.3   </td> <td>92 m -  210 m </td> <td>bK02L01Y  </td>\n",
       "        </tr>\n",
       "        <tr>\n",
       "            <td>348306 (2005 AY28)   </td> <td>1900-Feb-05 23:42 ± < 00:01 </td> <td>13.27 | 0.03409              </td> <td>13.27 | 0.03409              </td> <td>17.36            </td> <td>17.36            </td> <td>21.5   </td> <td>130 m -  290 m</td> <td>a0348306  </td>\n",
       "        </tr>\n",
       "        <tr>\n",
       "            <td>378160 (2006 WX1)    </td> <td>1900-Feb-10 05:07 ±    00:02</td> <td>14.35 | 0.03688              </td> <td>14.32 | 0.03680              </td> <td>10.36            </td> <td>10.35            </td> <td>19.6   </td> <td>320 m -  710 m</td> <td>a0378160  </td>\n",
       "        </tr>\n",
       "        <tr>\n",
       "            <td>(2020 DK)            </td> <td>1900-Feb-10 17:56 ± 9_08:41 </td> <td>8.30 | 0.02132               </td> <td>2.87 | 0.00738               </td> <td>9.9              </td> <td>9.89             </td> <td>26.1   </td> <td>16 m -   36 m </td> <td>bK20D00K  </td>\n",
       "        </tr>\n",
       "    </tbody>\n",
       "</table>\n",
       "<p>... (32365 rows omitted)</p>"
      ],
      "text/plain": [
       "Object                | Close-Approach (CA) Date     | CA Distance Nominal (LD | au) | CA Distance Minimum (LD | au) | V relative (km/s) | V infinity (km/s) | H (mag) | Diameter       | Unnamed: 8\n",
       "509352 (2007 AG)      | 1900-Jan-04 22:25 ±    00:02 | 3.75 | 0.00963                | 3.75 | 0.00962                | 8.69              | 8.65              | 20.1    | 250 m -  570 m | a0509352\n",
       "(2014 SC324)          | 1900-Jan-11 01:07 ±    00:18 | 15.55 | 0.03997               | 15.53 | 0.03991               | 10.65             | 10.65             | 24.3    | 37 m -   82 m  | bK14SW4C\n",
       "(2012 UK171)          | 1900-Jan-12 23:07 ±    00:13 | 19.39 | 0.04982               | 19.26 | 0.04950               | 7.16              | 7.15              | 24.4    | 34 m -   77 m  | bK12UH1K\n",
       "4660 Nereus (1982 DB) | 1900-Jan-29 18:10 ±    00:35 | 8.09 | 0.02080                | 8.08 | 0.02077                | 5.54              | 5.52              | 18.6    | 0.33±0.05 km   | a0004660\n",
       "(2015 RW83)           | 1900-Feb-04 03:50 ±    14:49 | 12.89 | 0.03312               | 12.68 | 0.03258               | 3.14              | 3.12              | 24.1    | 40 m -   90 m  | bK15R83W\n",
       "(2009 BW2)            | 1900-Feb-04 06:16 ± 3_02:30  | 6.40 | 0.01646                | 6.40 | 0.01644                | 4.44              | 4.41              | 25.1    | 25 m -   57 m  | bK09B02W\n",
       "(2002 LY1)            | 1900-Feb-05 22:08 ± < 00:01  | 19.09 | 0.04904               | 19.08 | 0.04903               | 10.97             | 10.97             | 22.3    | 92 m -  210 m  | bK02L01Y\n",
       "348306 (2005 AY28)    | 1900-Feb-05 23:42 ± < 00:01  | 13.27 | 0.03409               | 13.27 | 0.03409               | 17.36             | 17.36             | 21.5    | 130 m -  290 m | a0348306\n",
       "378160 (2006 WX1)     | 1900-Feb-10 05:07 ±    00:02 | 14.35 | 0.03688               | 14.32 | 0.03680               | 10.36             | 10.35             | 19.6    | 320 m -  710 m | a0378160\n",
       "(2020 DK)             | 1900-Feb-10 17:56 ± 9_08:41  | 8.30 | 0.02132                | 2.87 | 0.00738                | 9.9               | 9.89              | 26.1    | 16 m -   36 m  | bK20D00K\n",
       "... (32365 rows omitted)"
      ]
     },
     "execution_count": 17,
     "metadata": {},
     "output_type": "execute_result"
    }
   ],
   "source": [
    "url = '../Group-project/data/cneos_closeapproach_data.csv'\n",
    "neo = Table.read_table(url)\n",
    "neo"
   ]
  },
  {
   "cell_type": "markdown",
   "id": "ea83c4ad-eb42-4199-9297-be9b65d7e419",
   "metadata": {},
   "source": [
    "This is a really cool data set! Asteroids that may or may not be on a collision path with Earth. What's not to love? Well, the way the data are formatted, for one. Suppose we wanted to make a histogram of asteroid diameters. Look what we have to work with!"
   ]
  },
  {
   "cell_type": "code",
   "execution_count": 38,
   "id": "a32e8e1d-49e7-4514-97c7-3f6858f0a402",
   "metadata": {
    "tags": []
   },
   "outputs": [
    {
     "data": {
      "text/plain": [
       "array(['250 m -  570 m', '37 m -   82 m', '34 m -   77 m', '0.33±0.05 km',\n",
       "       '40 m -   90 m', '25 m -   57 m', '92 m -  210 m', '130 m -  290 m',\n",
       "       '320 m -  710 m', '16 m -   36 m', '250 m -  570 m',\n",
       "       '36 m -   79 m', '16 m -   36 m', '46 m -  100 m', '5.6 m -   12 m',\n",
       "       '0.459±0.004 km', '16 m -   36 m', '23 m -   51 m',\n",
       "       '170 m -  380 m', '13 m -   29 m', '10 m -   23 m', '10 m -   22 m',\n",
       "       '67 m -  150 m', '160 m -  350 m', '8.8 m -   20 m',\n",
       "       '64 m -  140 m', '180 m -  390 m', '21 m -   47 m', '92 m -  210 m',\n",
       "       '19 m -   42 m'],\n",
       "      dtype='<U32')"
      ]
     },
     "execution_count": 38,
     "metadata": {},
     "output_type": "execute_result"
    }
   ],
   "source": [
    "neo.column('Diameter')[0:30]"
   ]
  },
  {
   "cell_type": "markdown",
   "id": "0956d4fe-78ac-458b-b989-d61d12509953",
   "metadata": {},
   "source": [
    "UGH!  Sometimes the diameter is given in meters. Sometimes in kilometers. For some a range is given. For other, it is a value with a +/-. \n",
    "\n",
    "**What do we do with this?**\n",
    "\n",
    "We need to make a plan, and document it as we go. Here it what I choose to do:\n",
    "\n",
    "1. If a range is given, find the average.\n",
    "2. Drop any +/-.\n",
    "3. Convert the value from a string to an number.\n",
    "4. Convert all diameters to meters.\n",
    "\n",
    "Rather than just give you the final function, I will walk you through the creation process."
   ]
  },
  {
   "cell_type": "code",
   "execution_count": 19,
   "id": "5cf156ab-7bed-46f8-8898-3e220f0eed14",
   "metadata": {
    "tags": []
   },
   "outputs": [],
   "source": [
    "# Create test cases\n",
    "test1 = '250 m -  570 m'\n",
    "test2 = '0.459±0.004 km'"
   ]
  },
  {
   "cell_type": "markdown",
   "id": "1ed2c515-1f49-49fe-8580-d74be18e4bf5",
   "metadata": {},
   "source": [
    "**For test 1:**\n",
    "\n",
    "Notice that the first element in the string is the lower bound on the diameter and the second to last element is the upper bound. We can split the string (which returns a list of the values split on the spaces."
   ]
  },
  {
   "cell_type": "code",
   "execution_count": 20,
   "id": "38371b7a-36bb-45eb-b908-883562451843",
   "metadata": {
    "tags": []
   },
   "outputs": [],
   "source": [
    "def convert_diameter(x):\n",
    "    if '-' in x:\n",
    "        x = x.split()\n",
    "        print(x[0], x[-2])"
   ]
  },
  {
   "cell_type": "code",
   "execution_count": 21,
   "id": "e11e88f7-7cfa-4bed-8d6a-17f8bf66f2bc",
   "metadata": {
    "tags": []
   },
   "outputs": [
    {
     "name": "stdout",
     "output_type": "stream",
     "text": [
      "250 570\n"
     ]
    }
   ],
   "source": [
    "convert_diameter(test1)"
   ]
  },
  {
   "cell_type": "markdown",
   "id": "b62bacb9-7774-4662-a13a-554d08158e1c",
   "metadata": {},
   "source": [
    "That is a good start. Now make the function return the average."
   ]
  },
  {
   "cell_type": "code",
   "execution_count": 22,
   "id": "fbce21b1-9bcc-44a9-aa6c-705f40e3fc42",
   "metadata": {
    "tags": []
   },
   "outputs": [],
   "source": [
    "def convert_diameter(x):\n",
    "    if '-' in x:\n",
    "        x = x.split()\n",
    "        return np.mean([float(x[0]), float(x[-2])])"
   ]
  },
  {
   "cell_type": "code",
   "execution_count": 23,
   "id": "5bc6c8bc-e93b-47fb-be7c-854da7864793",
   "metadata": {
    "tags": []
   },
   "outputs": [
    {
     "data": {
      "text/plain": [
       "410.0"
      ]
     },
     "execution_count": 23,
     "metadata": {},
     "output_type": "execute_result"
    }
   ],
   "source": [
    "convert_diameter(test1)"
   ]
  },
  {
   "cell_type": "markdown",
   "id": "54267d2b-5912-4e5c-b3b9-db49386fd530",
   "metadata": {},
   "source": [
    "Looks good. Now let's tackle the second case. Instead of splitting on spaces, we will split on the '±', keeping the first element."
   ]
  },
  {
   "cell_type": "code",
   "execution_count": 24,
   "id": "35f30f7f-1f74-4816-8171-c259f3820e36",
   "metadata": {
    "tags": []
   },
   "outputs": [],
   "source": [
    "def convert_diameter(x):\n",
    "    if '-' in x:\n",
    "        x = x.split()\n",
    "        return np.mean([float(x[0]), float(x[-2])])\n",
    "    elif '±' in x:\n",
    "        x = x.split('±')\n",
    "        print(x[0])"
   ]
  },
  {
   "cell_type": "code",
   "execution_count": 25,
   "id": "52e51ee4-c11e-4f23-b0ff-3d6360034da7",
   "metadata": {
    "tags": []
   },
   "outputs": [
    {
     "name": "stdout",
     "output_type": "stream",
     "text": [
      "0.459\n"
     ]
    }
   ],
   "source": [
    "convert_diameter(test2)"
   ]
  },
  {
   "cell_type": "markdown",
   "id": "cd17d080-c709-4289-94c9-b4e3a40464d9",
   "metadata": {},
   "source": [
    "Great! But we need to convert this to a number and from kilometers to meters."
   ]
  },
  {
   "cell_type": "code",
   "execution_count": 26,
   "id": "6ef4b405-a0bc-49f0-9ff4-42e1a4f06f65",
   "metadata": {
    "tags": []
   },
   "outputs": [],
   "source": [
    "def convert_diameter(x):\n",
    "    if '-' in x:\n",
    "        x = x.split()\n",
    "        return np.mean([float(x[0]), float(x[-2])])\n",
    "    elif '±' in x:\n",
    "        x = x.split('±')[0]\n",
    "        return 1000 * float(x)"
   ]
  },
  {
   "cell_type": "code",
   "execution_count": 27,
   "id": "f504e870-6fb4-42a5-8679-ca54808e0d42",
   "metadata": {
    "tags": []
   },
   "outputs": [
    {
     "data": {
      "text/plain": [
       "459.0"
      ]
     },
     "execution_count": 27,
     "metadata": {},
     "output_type": "execute_result"
    }
   ],
   "source": [
    "convert_diameter(test2)"
   ]
  },
  {
   "cell_type": "markdown",
   "id": "0af714be-5590-4133-aaba-9ea56d81bf50",
   "metadata": {},
   "source": [
    "Bingo! But what if there is number somewhere in the diameter column that does not fit either of our two type cases? Better check."
   ]
  },
  {
   "cell_type": "code",
   "execution_count": 28,
   "id": "a03c54c1-ff2c-4863-8078-4c60d746a5f5",
   "metadata": {
    "tags": []
   },
   "outputs": [],
   "source": [
    "def convert_diameter(x):\n",
    "    if '-' in x:\n",
    "        x = x.split()\n",
    "        return np.mean([float(x[0]), float(x[-2])])\n",
    "    elif '±' in x:\n",
    "        x = x.split('±')[0]\n",
    "        return 1000 * float(x)\n",
    "    else:\n",
    "        print(\"This value is unexpected:\", x)"
   ]
  },
  {
   "cell_type": "markdown",
   "id": "9c02c8a6-2bb9-4b4d-9425-ea949b0b363a",
   "metadata": {},
   "source": [
    "Fingers crossed, we will apply this function to the entire column in the data table."
   ]
  },
  {
   "cell_type": "code",
   "execution_count": 29,
   "id": "28810161-61ec-4603-a954-31865c85dbae",
   "metadata": {
    "tags": []
   },
   "outputs": [
    {
     "name": "stdout",
     "output_type": "stream",
     "text": [
      "This value is unexpected: 0.7 km\n",
      "This value is unexpected: 0.33 km\n",
      "This value is unexpected: 0.03 km\n",
      "This value is unexpected: 0.33 km\n",
      "This value is unexpected: 0.5 km\n",
      "This value is unexpected: 1.4 km\n",
      "This value is unexpected: 0.03 km\n",
      "This value is unexpected: 0.7 km\n",
      "This value is unexpected: nan\n",
      "This value is unexpected: 0.4 km\n",
      "This value is unexpected: 0.3 km\n",
      "This value is unexpected: 0.55 km\n",
      "This value is unexpected: 5.2 km\n",
      "This value is unexpected: 0.7 km\n",
      "This value is unexpected: 1.5 km\n",
      "This value is unexpected: 0.03 km\n",
      "This value is unexpected: 0.6 km\n",
      "This value is unexpected: 0.472 km\n",
      "This value is unexpected: 0.3 km\n",
      "This value is unexpected: 0.472 km\n",
      "This value is unexpected: 0.3 km\n",
      "This value is unexpected: 0.33 km\n",
      "This value is unexpected: 1.9 km\n",
      "This value is unexpected: 0.3 km\n",
      "This value is unexpected: 0.4 km\n",
      "This value is unexpected: 0.33 km\n",
      "This value is unexpected: 0.4 km\n",
      "This value is unexpected: 3.4 km\n",
      "This value is unexpected: nan\n",
      "This value is unexpected: 1.8 km\n",
      "This value is unexpected: 0.4 km\n",
      "This value is unexpected: 0.4 km\n",
      "This value is unexpected: 0.9 km\n",
      "This value is unexpected: 0.55 km\n",
      "This value is unexpected: 0.03 km\n",
      "This value is unexpected: 0.7 km\n",
      "This value is unexpected: 0.472 km\n",
      "This value is unexpected: 0.4 km\n",
      "This value is unexpected: 0.472 km\n",
      "This value is unexpected: 1.0 km\n",
      "This value is unexpected: 0.3 km\n",
      "This value is unexpected: 0.3 km\n",
      "This value is unexpected: 0.3 km\n",
      "This value is unexpected: 0.5 km\n",
      "This value is unexpected: 0.7 km\n",
      "This value is unexpected: 1.5 km\n",
      "This value is unexpected: 0.6 km\n",
      "This value is unexpected: 0.03 km\n",
      "This value is unexpected: 0.9 km\n",
      "This value is unexpected: 0.4 km\n",
      "This value is unexpected: 1.4 km\n",
      "This value is unexpected: 0.3 km\n",
      "This value is unexpected: 1.4 km\n",
      "This value is unexpected: 0.7 km\n",
      "This value is unexpected: 0.4 km\n",
      "This value is unexpected: 0.4 km\n",
      "This value is unexpected: 0.03 km\n",
      "This value is unexpected: 0.55 km\n",
      "This value is unexpected: 5.4 km\n",
      "This value is unexpected: 5.4 km\n",
      "This value is unexpected: 1.9 km\n",
      "This value is unexpected: 0.03 km\n",
      "This value is unexpected: nan\n",
      "This value is unexpected: 0.33 km\n",
      "This value is unexpected: 0.4 km\n",
      "This value is unexpected: nan\n",
      "This value is unexpected: 0.33 km\n",
      "This value is unexpected: 5.4 km\n",
      "This value is unexpected: 0.472 km\n",
      "This value is unexpected: 0.4 km\n",
      "This value is unexpected: 0.4 km\n",
      "This value is unexpected: 5.4 km\n",
      "This value is unexpected: 0.4 km\n",
      "This value is unexpected: 0.3 km\n",
      "This value is unexpected: 0.472 km\n",
      "This value is unexpected: nan\n",
      "This value is unexpected: nan\n",
      "This value is unexpected: 0.55 km\n",
      "This value is unexpected: 4.9 km\n",
      "This value is unexpected: 0.4 km\n",
      "This value is unexpected: 0.3 km\n",
      "This value is unexpected: 1.8 km\n",
      "This value is unexpected: 0.03 km\n",
      "This value is unexpected: 0.3 km\n",
      "This value is unexpected: 0.6 km\n",
      "This value is unexpected: 0.33 km\n",
      "This value is unexpected: 0.7 km\n",
      "This value is unexpected: 0.3 km\n",
      "This value is unexpected: 1.4 km\n",
      "This value is unexpected: 1.5 km\n",
      "This value is unexpected: 1.5 km\n",
      "This value is unexpected: 0.3 km\n",
      "This value is unexpected: 0.4 km\n",
      "This value is unexpected: 0.4 km\n",
      "This value is unexpected: 4.9 km\n",
      "This value is unexpected: nan\n",
      "This value is unexpected: 0.472 km\n",
      "This value is unexpected: 0.472 km\n",
      "This value is unexpected: 1.0 km\n",
      "This value is unexpected: 1.9 km\n",
      "This value is unexpected: 0.3 km\n",
      "This value is unexpected: 5.4 km\n",
      "This value is unexpected: 0.33 km\n",
      "This value is unexpected: 0.4 km\n",
      "This value is unexpected: 0.03 km\n",
      "This value is unexpected: 0.33 km\n",
      "This value is unexpected: 0.5 km\n",
      "This value is unexpected: 0.4 km\n",
      "This value is unexpected: 0.4 km\n",
      "This value is unexpected: 0.3 km\n",
      "This value is unexpected: 0.7 km\n",
      "This value is unexpected: 1.5 km\n",
      "This value is unexpected: 1.5 km\n",
      "This value is unexpected: 0.3 km\n",
      "This value is unexpected: 0.4 km\n",
      "This value is unexpected: 1.0 km\n",
      "This value is unexpected: 0.3 km\n",
      "This value is unexpected: 1.9 km\n",
      "This value is unexpected: 0.03 km\n",
      "This value is unexpected: 0.4 km\n",
      "This value is unexpected: 0.6 km\n",
      "This value is unexpected: 0.4 km\n",
      "This value is unexpected: 0.33 km\n",
      "This value is unexpected: 0.3 km\n",
      "This value is unexpected: 0.7 km\n",
      "This value is unexpected: nan\n",
      "This value is unexpected: 0.7 km\n",
      "This value is unexpected: 0.7 km\n",
      "This value is unexpected: 0.4 km\n",
      "This value is unexpected: 1.4 km\n",
      "This value is unexpected: 0.03 km\n",
      "This value is unexpected: 2 km\n",
      "This value is unexpected: 0.4 km\n",
      "This value is unexpected: 0.4 km\n",
      "This value is unexpected: 1.4 km\n",
      "This value is unexpected: 0.4 km\n",
      "This value is unexpected: 3.4 km\n",
      "This value is unexpected: 0.4 km\n",
      "This value is unexpected: 0.3 km\n",
      "This value is unexpected: 1.1 km\n",
      "This value is unexpected: 1.1 km\n",
      "This value is unexpected: 0.03 km\n",
      "This value is unexpected: 0.472 km\n",
      "This value is unexpected: 1.0 km\n",
      "This value is unexpected: 0.6 km\n",
      "This value is unexpected: 0.3 km\n",
      "This value is unexpected: 0.4 km\n",
      "This value is unexpected: 1.5 km\n",
      "This value is unexpected: 1.9 km\n",
      "This value is unexpected: 1.5 km\n",
      "This value is unexpected: 0.3 km\n",
      "This value is unexpected: 0.3 km\n",
      "This value is unexpected: 0.55 km\n",
      "This value is unexpected: 0.3 km\n",
      "This value is unexpected: 0.5 km\n",
      "This value is unexpected: 0.4 km\n",
      "This value is unexpected: 0.33 km\n",
      "This value is unexpected: 0.7 km\n",
      "This value is unexpected: 2.22 km\n",
      "This value is unexpected: 0.6 km\n",
      "This value is unexpected: 0.472 km\n",
      "This value is unexpected: 0.4 km\n",
      "This value is unexpected: 0.472 km\n",
      "This value is unexpected: 1.4 km\n",
      "This value is unexpected: 0.3 km\n",
      "This value is unexpected: 0.4 km\n",
      "This value is unexpected: 0.33 km\n",
      "This value is unexpected: 0.3 km\n",
      "This value is unexpected: 0.03 km\n"
     ]
    }
   ],
   "source": [
    "neo2 = neo.with_column('Diameter', neo.apply(convert_diameter, 'Diameter'))"
   ]
  },
  {
   "cell_type": "markdown",
   "id": "0d57f1f0-9fbb-4717-aaf6-d87468a8947c",
   "metadata": {},
   "source": [
    "*DARN!!* It turn out there are two more test cases needed."
   ]
  },
  {
   "cell_type": "code",
   "execution_count": 30,
   "id": "7be45930-ff32-4aec-a9dd-31a45ae700dc",
   "metadata": {
    "tags": []
   },
   "outputs": [],
   "source": [
    "# Create test cases\n",
    "test1 = '250 m -  570 m'\n",
    "test2 = '0.459±0.004 km'\n",
    "test3 = '1.4 km'"
   ]
  },
  {
   "cell_type": "markdown",
   "id": "f7ebff98-5758-4e49-a092-275960db3223",
   "metadata": {},
   "source": [
    "For test case three, we are looking for strings that contain 'km', but not '±'. Since we already check for '±', we just need to add a check for 'km' after it."
   ]
  },
  {
   "cell_type": "code",
   "execution_count": 31,
   "id": "e0fe211c-d52e-44e0-834b-6c96a46ea268",
   "metadata": {
    "tags": []
   },
   "outputs": [],
   "source": [
    "def convert_diameter(x):\n",
    "    if '-' in x:\n",
    "        x = x.split()\n",
    "        return np.mean([float(x[0]), float(x[-2])])\n",
    "    elif '±' in x:\n",
    "        x = x.split('±')[0]\n",
    "        return 1000 * float(x)\n",
    "    elif 'km' in x:\n",
    "        x = x.split()[0]\n",
    "        return 1000 * float(x)\n",
    "    else:\n",
    "        print(\"This value is unexpected:\", x)"
   ]
  },
  {
   "cell_type": "code",
   "execution_count": 32,
   "id": "3e364b36-c00f-426b-8117-524cf35bccea",
   "metadata": {
    "tags": []
   },
   "outputs": [
    {
     "data": {
      "text/plain": [
       "1400.0"
      ]
     },
     "execution_count": 32,
     "metadata": {},
     "output_type": "execute_result"
    }
   ],
   "source": [
    "convert_diameter(test3)"
   ]
  },
  {
   "cell_type": "markdown",
   "id": "be7b4343-34c8-4511-8c94-08f4b3a9796b",
   "metadata": {},
   "source": [
    "Finally, we have to decide what to do about nans. These are the asteroids for which the diameter is unknown. If we change them to some default number, they could affect the distribution, so we should filter them out with the where() method  before with apply our function."
   ]
  },
  {
   "cell_type": "code",
   "execution_count": 33,
   "id": "9147a913-0a1a-40c0-b059-ff227c3ae542",
   "metadata": {
    "tags": []
   },
   "outputs": [
    {
     "data": {
      "text/html": [
       "<table border=\"1\" class=\"dataframe\">\n",
       "    <thead>\n",
       "        <tr>\n",
       "            <th>Diameter</th>\n",
       "        </tr>\n",
       "    </thead>\n",
       "    <tbody>\n",
       "        <tr>\n",
       "            <td>250 m -  570 m</td>\n",
       "        </tr>\n",
       "        <tr>\n",
       "            <td>37 m -   82 m </td>\n",
       "        </tr>\n",
       "        <tr>\n",
       "            <td>34 m -   77 m </td>\n",
       "        </tr>\n",
       "    </tbody>\n",
       "</table>\n",
       "<p>... (32364 rows omitted)</p>"
      ],
      "text/plain": [
       "<IPython.core.display.HTML object>"
      ]
     },
     "metadata": {},
     "output_type": "display_data"
    }
   ],
   "source": [
    "diameter = neo.select('Diameter').where('Diameter', are.not_equal_to('nan'))\n",
    "diameter.show(3)"
   ]
  },
  {
   "cell_type": "code",
   "execution_count": 34,
   "id": "1d49d0b3-09a6-44dd-937f-4faa99ee2cc1",
   "metadata": {
    "tags": []
   },
   "outputs": [
    {
     "data": {
      "text/html": [
       "<table border=\"1\" class=\"dataframe\">\n",
       "    <thead>\n",
       "        <tr>\n",
       "            <th>Diameter</th>\n",
       "        </tr>\n",
       "    </thead>\n",
       "    <tbody>\n",
       "        <tr>\n",
       "            <td>410     </td>\n",
       "        </tr>\n",
       "        <tr>\n",
       "            <td>59.5    </td>\n",
       "        </tr>\n",
       "        <tr>\n",
       "            <td>55.5    </td>\n",
       "        </tr>\n",
       "    </tbody>\n",
       "</table>\n",
       "<p>... (32364 rows omitted)</p>"
      ],
      "text/plain": [
       "<IPython.core.display.HTML object>"
      ]
     },
     "metadata": {},
     "output_type": "display_data"
    }
   ],
   "source": [
    "diameter_no_nan = Table().with_column('Diameter', diameter.apply(convert_diameter, 'Diameter'))\n",
    "diameter_no_nan.show(3)"
   ]
  },
  {
   "cell_type": "code",
   "execution_count": 35,
   "id": "d9d6e01e-bb54-4292-bc22-f0c40cf249f8",
   "metadata": {
    "tags": []
   },
   "outputs": [
    {
     "data": {
      "image/png": "[encoded data removed]",
      "text/plain": [
       "<Figure size 600x400 with 1 Axes>"
      ]
     },
     "metadata": {},
     "output_type": "display_data"
    }
   ],
   "source": [
    "diameter_no_nan.hist('Diameter')"
   ]
  },
  {
   "cell_type": "markdown",
   "id": "64ed90a7-7083-40d6-a160-53c4a7d8dbe0",
   "metadata": {},
   "source": [
    "Well, it worked, but what a boring histogram!  There must be a few large asteroids and many, many, small ones."
   ]
  },
  {
   "cell_type": "code",
   "execution_count": 36,
   "id": "78ab4d33-104b-41a2-b58e-dcebabdc867f",
   "metadata": {
    "tags": []
   },
   "outputs": [
    {
     "data": {
      "text/plain": [
       "7000.0"
      ]
     },
     "execution_count": 36,
     "metadata": {},
     "output_type": "execute_result"
    }
   ],
   "source": [
    "max(diameter_no_nan.column('Diameter'))"
   ]
  },
  {
   "cell_type": "markdown",
   "id": "4ec1fd91-7c23-4366-9b0c-0b3064bd1a56",
   "metadata": {},
   "source": [
    "Let's limit our histogram to asteoroids under 1000 meters in diameter."
   ]
  },
  {
   "cell_type": "code",
   "execution_count": 41,
   "id": "a75beb86-9ed6-4cc3-af63-16be96929cab",
   "metadata": {
    "tags": []
   },
   "outputs": [
    {
     "data": {
      "image/png": "[encoded data removed]",
      "text/plain": [
       "<Figure size 600x400 with 1 Axes>"
      ]
     },
     "metadata": {},
     "output_type": "display_data"
    }
   ],
   "source": [
    "diameter_no_nan.where('Diameter', are.below(1000)).hist('Diameter', bins=20)\n",
    "plt.title(\"Near-Earth Objects Diameters less than 1000 m\");"
   ]
  },
  {
   "cell_type": "markdown",
   "id": "ade04ea1-8d70-4fd7-be20-de8138bffe18",
   "metadata": {},
   "source": [
    "# Concluding Remarks"
   ]
  },
  {
   "cell_type": "markdown",
   "id": "20e41487-f6d0-46f4-ab11-b0250c72876f",
   "metadata": {},
   "source": [
    "Well, we did it, but it was a lot of work. \n",
    "\n",
    "Here is a very telling quote [ref](https://www.appier.com/en/blog/means-data-scientist-today):\n",
    "\n",
    ">What Makes for a Good Data Scientist\n",
    "\n",
    ">Of course, every job has some less lovable bits and the burden of the data scientist is data cleaning! In most cases, the data we gather is ‘dirty’, with errors and discrepancies in it. For example, data showing that sales of a product have dropped dramatically may simply mean that malfunctioning machines have failed to capture the data accurately.\n",
    "\n",
    ">Most data scientists will agree that data cleaning is the most boring part of this job. Our inside joke is that data science is 80 percent cleaning of data and 20 percent complaining about it!\n",
    "\n",
    ">But jokes aside, data cleaning is painstaking but important work. If not done right, it can have a huge impact on the accuracy and reliability of insights."
   ]
  }
 ],
 "metadata": {
  "kernelspec": {
   "display_name": "Python 3 (ipykernel)",
   "language": "python",
   "name": "python3"
  },
  "language_info": {
   "codemirror_mode": {
    "name": "ipython",
    "version": 3
   },
   "file_extension": ".py",
   "mimetype": "text/x-python",
   "name": "python",
   "nbconvert_exporter": "python",
   "pygments_lexer": "ipython3",
   "version": "3.10.11"
  }
 },
 "nbformat": 4,
 "nbformat_minor": 5
}
