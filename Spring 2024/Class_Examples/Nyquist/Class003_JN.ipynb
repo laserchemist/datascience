{
 "cells": [
  {
   "cell_type": "markdown",
   "id": "f6b8a30b-536a-4f66-8750-26a3c3302663",
   "metadata": {},
   "source": [
    "# Always run all cells, starting with module imports such as in the cell below"
   ]
  },
  {
   "cell_type": "code",
   "execution_count": null,
   "id": "c7763a93-22ac-4813-ad7e-cee5ee053d93",
   "metadata": {},
   "outputs": [],
   "source": [
    "import numpy as np\n",
    "from datascience import * # Brings into Python the datascience Table object\n",
    "\n",
    "# This lines load the tests.\n",
    "from gofer.ok import check"
   ]
  },
  {
   "cell_type": "markdown",
   "id": "c76b455d-24fb-4abe-989c-05538e3aa90a",
   "metadata": {},
   "source": [
    "## Learning from Lab 00/01\n",
    "Working with Jupyter Notebooks\n",
    "- Expressions\n",
    "- Variables & upcoming Data Types\n",
    "    - Strings\n",
    "    - Integer\n",
    "    - Float\n",
    "- built-in functions: print(\"Hello World\")\n",
    "- Kernel\n",
    "- errors\n",
    "- check work with check('tests/q2_1.py')\n",
    "- Shortcuts\n",
    "- Renaming your notebook and exporting to HTML\n",
    "- Running the tests\n",
    "- Code vs Markdown cells"
   ]
  },
  {
   "cell_type": "markdown",
   "id": "cb2057ad-c32c-42e0-b76c-8d4f301bb14c",
   "metadata": {},
   "source": [
    "### Expressions"
   ]
  },
  {
   "cell_type": "code",
   "execution_count": null,
   "id": "05f2f0f8-7c63-4ffc-8be5-3b4b009d32c8",
   "metadata": {
    "tags": []
   },
   "outputs": [],
   "source": [
    "# This code below is an expression\n",
    "c = 212 / 31 + 6"
   ]
  },
  {
   "cell_type": "markdown",
   "id": "5e8e6ab4-e81f-46cd-abc2-338ce26d5914",
   "metadata": {},
   "source": [
    "### Variables\n",
    "#### Strings"
   ]
  },
  {
   "cell_type": "code",
   "execution_count": null,
   "id": "9fadc20a-d010-40c8-a7ef-a2030ece255c",
   "metadata": {
    "tags": []
   },
   "outputs": [],
   "source": [
    "first_name = \"Darth\"\n",
    "last_name = \"Vadar\"\n",
    "\n",
    "print(first_name, last_name)"
   ]
  },
  {
   "cell_type": "markdown",
   "id": "b89d59e2-b50b-41a0-8acc-056a651b7854",
   "metadata": {},
   "source": [
    "#### Integers"
   ]
  },
  {
   "cell_type": "code",
   "execution_count": null,
   "id": "dfc5583b-be4d-461c-b03b-836ba1cf3c49",
   "metadata": {
    "tags": []
   },
   "outputs": [],
   "source": [
    "two = 2\n",
    "two + two"
   ]
  },
  {
   "cell_type": "code",
   "execution_count": null,
   "id": "86289aba-9504-4a4a-9331-9194c7b16ba6",
   "metadata": {
    "tags": []
   },
   "outputs": [],
   "source": [
    "type(two)"
   ]
  },
  {
   "cell_type": "markdown",
   "id": "4cba3969-2fb7-4e57-b17d-9d9621473ab7",
   "metadata": {},
   "source": [
    "### Floating point numbers"
   ]
  },
  {
   "cell_type": "code",
   "execution_count": null,
   "id": "950e4e1e-ae36-4286-935b-3a7850b8605e",
   "metadata": {
    "tags": []
   },
   "outputs": [],
   "source": [
    "approx_pi = 22 / 7\n",
    "print(approx_pi)\n",
    "print(type(approx_pi))"
   ]
  },
  {
   "cell_type": "markdown",
   "id": "2c553afe-afdd-45e4-9477-0b94199283b4",
   "metadata": {},
   "source": [
    "### Built-in print() function."
   ]
  },
  {
   "cell_type": "code",
   "execution_count": null,
   "id": "44061d12-7d30-43df-8420-c0c3c159ba49",
   "metadata": {},
   "outputs": [],
   "source": [
    "print(\"Welcome to Elements of Data Science!\")"
   ]
  },
  {
   "cell_type": "markdown",
   "id": "fc4f1a2f-94e0-4b5a-baf4-5862031ac0fe",
   "metadata": {},
   "source": [
    "## Upcoming Learning Goals from Lab 02\n",
    "Data Types: See video of same name\n",
    "- Expressions & numbers revisited\n",
    "- Variables & Data Types\n",
    "    - Strings\n",
    "    - Integer\n",
    "    - Float\n",
    "- more built-in functions: max(), min(), abs(), pow(), round()\n",
    "- Translating science into Python formulas: Newton's equations\n",
    "- importing code functionality: import math\n",
    "    - math.pi()\n",
    "    - math.sqrt()\n",
    "    - math.log()\n",
    "    - math.factorial()\n",
    "- parentheses and order of operations (PEMDAS)\n",
    "- arrays: from datascience import *\n",
    "    - make_array(0.125, 4.75, -1.3)\n",
    "- arrays: import numpy as np\n",
    "    - np.array([0, 1, -1, math.pi, math.e])\n",
    "- lists: [1, 2, 3, 4]"
   ]
  },
  {
   "cell_type": "markdown",
   "id": "39ef0432-fcd8-427f-af77-d755063a2d9d",
   "metadata": {},
   "source": [
    "### More built-in functions"
   ]
  },
  {
   "cell_type": "code",
   "execution_count": null,
   "id": "676d5160-6423-4201-af3d-41d30234aaf7",
   "metadata": {},
   "outputs": [],
   "source": [
    "maximum_number=max(3,4.4)\n",
    "maximum_number"
   ]
  },
  {
   "cell_type": "markdown",
   "id": "705e0987-f22f-4ceb-8a51-0ead2f92efc9",
   "metadata": {},
   "source": [
    "### Importing modules to add functionality"
   ]
  },
  {
   "cell_type": "code",
   "execution_count": null,
   "id": "de71d933-28b7-460b-a4f2-7a6ef89d75e3",
   "metadata": {},
   "outputs": [],
   "source": [
    "import math\n",
    "radius = 4\n",
    "area_of_circle = math.pi * radius**2 \n",
    "print(area_of_circle)"
   ]
  },
  {
   "cell_type": "code",
   "execution_count": null,
   "id": "6aa7abb6-4dd2-4672-bb77-87306e4f35c2",
   "metadata": {},
   "outputs": [],
   "source": [
    "math.e"
   ]
  },
  {
   "cell_type": "code",
   "execution_count": null,
   "id": "4ef87b1d-5e1b-42e2-8a01-f40160df5287",
   "metadata": {},
   "outputs": [],
   "source": [
    "area_of_circle = radius**2 * math.pi\n",
    "area_of_circle"
   ]
  },
  {
   "cell_type": "markdown",
   "id": "283c44ef-4f40-48c3-9785-35fb8ac27dad",
   "metadata": {},
   "source": [
    "### Different ways to import and the risk in using import *"
   ]
  },
  {
   "cell_type": "code",
   "execution_count": null,
   "id": "a6330d17-0c79-4f14-b508-98e0c43b8d5c",
   "metadata": {
    "tags": []
   },
   "outputs": [],
   "source": [
    "# Plain, vanilla import\n",
    "import math\n",
    "\n",
    "# Must preface functions with the whole module name\n",
    "math.pi"
   ]
  },
  {
   "cell_type": "code",
   "execution_count": null,
   "id": "8c93fa5f-a633-4021-b427-5cdd9744099e",
   "metadata": {
    "tags": []
   },
   "outputs": [],
   "source": [
    "# Renaming, often to abbreviate, on import\n",
    "import math as m\n",
    "\n",
    "# Now you preface functions with the shorter name\n",
    "m.pi"
   ]
  },
  {
   "cell_type": "code",
   "execution_count": null,
   "id": "f3ad9493-9bbe-4560-aabb-fd08260500c4",
   "metadata": {
    "tags": []
   },
   "outputs": [],
   "source": [
    "# Bringing all of the modules functions into your working namespace\n",
    "from math import *\n",
    "\n",
    "# Now you don't need any preface to call the functions\n",
    "pi"
   ]
  },
  {
   "cell_type": "code",
   "execution_count": null,
   "id": "10413203-bb2c-4348-820a-20f2787830ab",
   "metadata": {},
   "outputs": [],
   "source": [
    "# The danger of import *\n",
    "# What if I have a variable name pi\n",
    "pi = \"My favorite is pumpkin!\"\n",
    "pi"
   ]
  },
  {
   "cell_type": "code",
   "execution_count": null,
   "id": "b634f16c-e8c1-400f-83f0-6ffc4a20e5d7",
   "metadata": {
    "tags": []
   },
   "outputs": [],
   "source": [
    "# Now I import the math module\n",
    "from math import *\n",
    "\n",
    "pi"
   ]
  },
  {
   "cell_type": "code",
   "execution_count": null,
   "id": "a4501987-35c9-4085-bd8b-b547c446506e",
   "metadata": {
    "tags": []
   },
   "outputs": [],
   "source": [
    "# The math module ate my pi!\n",
    "# I import the other ways, the variable remain distinct\n",
    "import math\n",
    "\n",
    "pi = \"My favorite is pumpkin!\"\n",
    "\n",
    "print(pi)\n",
    "print(math.pi)\n",
    "\n",
    "# The morale of the story is be careful with import * or you might lose your pi!"
   ]
  },
  {
   "cell_type": "code",
   "execution_count": null,
   "id": "3b633c60-f920-47f9-84cb-35b3140b3f17",
   "metadata": {
    "tags": []
   },
   "outputs": [],
   "source": [
    "# You can check to see what names will be imported\n",
    "import math\n",
    "dir(math)"
   ]
  },
  {
   "cell_type": "markdown",
   "id": "d92ed156-0db1-4c29-81b3-b9401c858fa9",
   "metadata": {
    "tags": []
   },
   "source": [
    "### Parenthesis () and PEMDAS\n",
    "In standard math notation, the first expression below is\n",
    "\n",
    "$$6 + 6 \\times 5 - 6 \\times 3^2 \\times \\frac{2^3}{4} \\times 7,$$\n",
    "\n",
    "while the second expression below is\n",
    "\n",
    "$$6 + (6 \\times 5 - (6 \\times 3))^2 \\times (\\frac{(2^3)}{4} \\times 7).$$\n",
    "\n"
   ]
  },
  {
   "cell_type": "code",
   "execution_count": null,
   "id": "a233b689-5e1f-4f7f-b399-c50aad592a4b",
   "metadata": {},
   "outputs": [],
   "source": [
    "6+6*5-6*3**2*2**3/4*7"
   ]
  },
  {
   "cell_type": "code",
   "execution_count": null,
   "id": "8ed7a57e-a69f-4388-940a-372e068e71a1",
   "metadata": {},
   "outputs": [],
   "source": [
    "6+(6*5-(6*3))**2*((2**3)/4*7)"
   ]
  },
  {
   "cell_type": "markdown",
   "id": "1de8bb07-594c-458c-b4b1-0ed143a9bda5",
   "metadata": {},
   "source": [
    "### The datascience module"
   ]
  },
  {
   "cell_type": "code",
   "execution_count": null,
   "id": "2a372b70-b4b8-44f9-9e1e-532bbb34cc6d",
   "metadata": {
    "tags": []
   },
   "outputs": [],
   "source": [
    "import datascience\n",
    "dir(datascience)"
   ]
  },
  {
   "cell_type": "code",
   "execution_count": null,
   "id": "fc4f1abd-2a91-48df-828e-4a8941ffc26f",
   "metadata": {
    "tags": []
   },
   "outputs": [],
   "source": [
    "# We use this in our class because not that many names are imported,\n",
    "# and they are names we are unlikely to use ourselves, so the \n",
    "# convenience outweighs the risk\n",
    "from datascience import *"
   ]
  },
  {
   "cell_type": "markdown",
   "id": "a1a93771-a234-4a8b-b759-e4542695983b",
   "metadata": {},
   "source": [
    "### Arrays\n",
    "Arrays are sequences of data stored in a variable. All the data in the sequence must be the same data type."
   ]
  },
  {
   "cell_type": "code",
   "execution_count": null,
   "id": "141748a9-e935-478c-8f51-e48da31ca485",
   "metadata": {
    "tags": []
   },
   "outputs": [],
   "source": [
    "x = make_array([2, 4, 6, 8])\n",
    "x"
   ]
  },
  {
   "cell_type": "code",
   "execution_count": null,
   "id": "a47e203a-7dbf-460a-8c5b-ebbc44f8e7ef",
   "metadata": {
    "tags": []
   },
   "outputs": [],
   "source": [
    "names = make_array([\"tacos\", \"burritoes\", \"enchiladas\"])\n",
    "names"
   ]
  },
  {
   "cell_type": "code",
   "execution_count": null,
   "id": "e597bb9b-d212-458e-92e3-ae3d9ea5e482",
   "metadata": {
    "tags": []
   },
   "outputs": [],
   "source": [
    "# Arrays are so useful because we can operate on all of the elements in an array at once\n",
    "x + 10"
   ]
  },
  {
   "cell_type": "markdown",
   "id": "4fd08c01-0299-4f6d-ade9-84db90a7a643",
   "metadata": {},
   "source": [
    "### Lists\n",
    "Lists are another Python data type that can store a sequence, but the elements of a list do not all have to be the same data type. You cannot operate on all of the elements of a list, like with an array, but they can be useful when your data is heterogeneous."
   ]
  },
  {
   "cell_type": "code",
   "execution_count": null,
   "id": "e3841001-86f2-4a12-ab0a-47d2d4a63f62",
   "metadata": {
    "tags": []
   },
   "outputs": [],
   "source": [
    "sample_list = ['Jonathan', 'ate', 100, 'pumpkin pies']\n",
    "sample_list"
   ]
  },
  {
   "cell_type": "code",
   "execution_count": null,
   "id": "a1123af1-ebc9-4d3d-a359-1eb031004ac1",
   "metadata": {
    "tags": []
   },
   "outputs": [],
   "source": [
    "# Notice that we make arrays by passing a list comprised of one type of data to the make_array() function\n",
    "x = make_array([2, 4, 6, 8])\n",
    "x"
   ]
  },
  {
   "cell_type": "markdown",
   "id": "a0448267-cbd2-4657-9b59-9814d5b13396",
   "metadata": {},
   "source": [
    "## Numpy (short for Numerical Python) \n",
    "Numpy is a module that add a lot of functionality for working with array. As scientists, we will us it in virtually every Jupyter notebook. In fact, it is used so commonly that everyone imports it using the abbreviated name np."
   ]
  },
  {
   "cell_type": "code",
   "execution_count": null,
   "id": "0c14f9c8-ebaa-4019-b7fc-ca8523a09498",
   "metadata": {
    "tags": []
   },
   "outputs": [],
   "source": [
    "import numpy as np"
   ]
  },
  {
   "cell_type": "code",
   "execution_count": null,
   "id": "c7831932-5c3e-4b93-b828-d49f99145533",
   "metadata": {
    "tags": []
   },
   "outputs": [],
   "source": [
    "# You can also use numpy to create arrays\n",
    "key_math_constants = np.array([0, 1, -1, math.pi, math.e])"
   ]
  },
  {
   "cell_type": "code",
   "execution_count": null,
   "id": "ab8f71a0-4669-49bf-96ce-6962f10bdc92",
   "metadata": {
    "tags": []
   },
   "outputs": [],
   "source": [
    "# importing numpy adds hundreds of functions.\n",
    "# Here is one example that adds up all the elements of the array\n",
    "np.sum(key_math_constants)"
   ]
  }
 ],
 "metadata": {
  "kernelspec": {
   "display_name": "Python 3 (ipykernel)",
   "language": "python",
   "name": "python3"
  },
  "language_info": {
   "codemirror_mode": {
    "name": "ipython",
    "version": 3
   },
   "file_extension": ".py",
   "mimetype": "text/x-python",
   "name": "python",
   "nbconvert_exporter": "python",
   "pygments_lexer": "ipython3",
   "version": "3.10.11"
  }
 },
 "nbformat": 4,
 "nbformat_minor": 5
}
