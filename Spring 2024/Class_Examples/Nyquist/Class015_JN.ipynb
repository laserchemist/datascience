{
 "cells": [
  {
   "cell_type": "markdown",
   "metadata": {},
   "source": [
    "# Hypothesis testing\n",
    "Elements of Data Science"
   ]
  },
  {
   "cell_type": "markdown",
   "metadata": {
    "tags": []
   },
   "source": [
    "## Hypothesis Testing Learning Goals\n",
    "Develop and test an hypothesis\n",
    "- Hypothesis\n",
    "    - testable hypothesis\n",
    "    - statistic\n",
    "- Simulation: Sample the distribution\n",
    "    - Repeat and collect outcomes\n",
    "    - Iteration: \n",
    "        `for i in np.arange(samples)`\n",
    "- Examine resulting distribution of outcomes\n",
    "    - Probability distribution\n",
    "    - Uncertainty\n",
    "- p-test"
   ]
  },
  {
   "cell_type": "code",
   "execution_count": 24,
   "metadata": {
    "tags": []
   },
   "outputs": [],
   "source": [
    "import numpy as np\n",
    "from datascience import *"
   ]
  },
  {
   "cell_type": "code",
   "execution_count": 25,
   "metadata": {
    "tags": []
   },
   "outputs": [],
   "source": [
    "%matplotlib inline\n",
    "import matplotlib.pyplot as plt\n",
    "plt.style.use('fivethirtyeight')\n",
    "# Fix for datascience plots\n",
    "import collections as collections\n",
    "import collections.abc as abc\n",
    "collections.Iterable = abc.Iterable"
   ]
  },
  {
   "cell_type": "markdown",
   "metadata": {},
   "source": [
    "## A digression -- python formatting\n",
    "\n",
    "You know Python has a few formatting rules. Indentation is critical for defining structure in loops, functions, and conditional statements, for example. Beyond that, you can pretty much do as you like. The following formatting conventions, however, will make your code more readable.\n",
    "\n",
    "Black is a Python tool for checking formatting. You can actually install and run it to check your code, or you can simply paste some code you have written into the [Black Playground](https://black.vercel.app) to see the suggested format."
   ]
  },
  {
   "cell_type": "code",
   "execution_count": 26,
   "metadata": {
    "tags": []
   },
   "outputs": [
    {
     "name": "stdout",
     "output_type": "stream",
     "text": [
      "5\n"
     ]
    }
   ],
   "source": [
    "# First Example: Paste into the playground. Note: the code will run as written\n",
    "\n",
    "a=2\n",
    "b=3\n",
    "c=a+b\n",
    "print( c)"
   ]
  },
  {
   "cell_type": "code",
   "execution_count": 27,
   "metadata": {},
   "outputs": [
    {
     "name": "stdout",
     "output_type": "stream",
     "text": [
      "5\n"
     ]
    }
   ],
   "source": [
    "# Paste the foratted code below:\n",
    "# First Example: Paste into the playground. Note: the code will run as written\n",
    "\n",
    "\n",
    "a = 2\n",
    "b = 3\n",
    "c = a + b\n",
    "print(c)\n"
   ]
  },
  {
   "cell_type": "code",
   "execution_count": 28,
   "metadata": {
    "tags": []
   },
   "outputs": [
    {
     "name": "stdout",
     "output_type": "stream",
     "text": [
      "Earth & Environmental Science\n",
      "Biology\n",
      "Chemistry\n",
      "Physics\n",
      "Computer & Information Sciences\n",
      "Mathematics\n"
     ]
    }
   ],
   "source": [
    "# Second example: Again, the code as written will run without error. But long lines are hard to read.\n",
    "# Create a list\n",
    "CST_departments = ['Earth & Environmental Science','Biology','Chemistry','Physics','Computer & Information Sciences','Mathematics']\n",
    "\n",
    "# Now loop over each element and print it.\n",
    "for dept in CST_departments:\n",
    "    print(dept)"
   ]
  },
  {
   "cell_type": "code",
   "execution_count": 29,
   "metadata": {},
   "outputs": [],
   "source": [
    "# Paste the foratted code below:\n",
    "\n"
   ]
  },
  {
   "cell_type": "code",
   "execution_count": 30,
   "metadata": {
    "tags": []
   },
   "outputs": [
    {
     "data": {
      "text/html": [
       "<table border=\"1\" class=\"dataframe\">\n",
       "    <thead>\n",
       "        <tr>\n",
       "            <th>GENDER</th> <th>AGE</th> <th>2010</th> <th>2020</th>\n",
       "        </tr>\n",
       "    </thead>\n",
       "    <tbody>\n",
       "        <tr>\n",
       "            <td>0     </td> <td>0   </td> <td>3951495</td> <td>3735010</td>\n",
       "        </tr>\n",
       "        <tr>\n",
       "            <td>0     </td> <td>1   </td> <td>3957904</td> <td>3773884</td>\n",
       "        </tr>\n",
       "        <tr>\n",
       "            <td>0     </td> <td>2   </td> <td>4090799</td> <td>3853025</td>\n",
       "        </tr>\n",
       "    </tbody>\n",
       "</table>\n",
       "<p>... (303 rows omitted)</p>"
      ],
      "text/plain": [
       "<IPython.core.display.HTML object>"
      ]
     },
     "metadata": {},
     "output_type": "display_data"
    }
   ],
   "source": [
    "# Formatting complex statements\n",
    "from datascience import *\n",
    "data = 'http://www2.census.gov/programs-surveys/popest/datasets/2010-2020/national/asrh/nc-est2020-agesex-res.csv'\n",
    "full_census_table = Table.read_table(data)\n",
    "partial_census_table = full_census_table.select('SEX', 'AGE', 'POPESTIMATE2010', 'POPESTIMATE2020')\n",
    "partial_census_table = partial_census_table.relabeled('SEX', 'GENDER').relabeled('POPESTIMATE2010', '2010').relabeled('POPESTIMATE2020', '2020')\n",
    "partial_census_table.show(3)"
   ]
  },
  {
   "cell_type": "code",
   "execution_count": 31,
   "metadata": {},
   "outputs": [],
   "source": [
    "# Paste the foratted code below:\n",
    "\n"
   ]
  },
  {
   "cell_type": "markdown",
   "metadata": {},
   "source": [
    "Black makes some opinionated choices. You do not have to follow all of its formatting suggestions, but you should pick a consistant way to format your code and Black uses what many pythonistas consider to be best practice."
   ]
  },
  {
   "cell_type": "markdown",
   "metadata": {},
   "source": [
    "## End of digression..."
   ]
  },
  {
   "cell_type": "markdown",
   "metadata": {},
   "source": [
    "## Olympics Review"
   ]
  },
  {
   "cell_type": "code",
   "execution_count": 32,
   "metadata": {
    "tags": []
   },
   "outputs": [],
   "source": [
    "datafile = \"/home/jovyan/datascience/Spring 2024/Mini Project I/Olympic_Data/winter_athletes.csv\"\n",
    "athletes = Table.read_table(datafile).sort(\"Year\",descending=True).where(\"Season\",\"Winter\")\n",
    "age_athletes = athletes.where(\"Age\",are.below(99)).where(\"Age\",are.above(0))"
   ]
  },
  {
   "cell_type": "markdown",
   "metadata": {},
   "source": [
    "5. What are the top ten countries in number of Gold, silver, bronze medals, and total medals? You should have four sets of top ten countries for each of the scenarios. Generate the **five number summary** for each medal type for all countries.\n",
    "Hint: `.where(\"Medal\",are.not_equal_to(\"nan\"))` to get only medal winners. Consider how to create a column for the sum of the three medal categories."
   ]
  },
  {
   "cell_type": "code",
   "execution_count": 33,
   "metadata": {
    "tags": []
   },
   "outputs": [
    {
     "data": {
      "text/html": [
       "<table border=\"1\" class=\"dataframe\">\n",
       "    <thead>\n",
       "        <tr>\n",
       "            <th>Team</th> <th>Bronze</th> <th>Gold</th> <th>Silver</th>\n",
       "        </tr>\n",
       "    </thead>\n",
       "    <tbody>\n",
       "        <tr>\n",
       "            <td>Australia</td> <td>7     </td> <td>6   </td> <td>3     </td>\n",
       "        </tr>\n",
       "        <tr>\n",
       "            <td>Austria  </td> <td>97    </td> <td>67  </td> <td>80    </td>\n",
       "        </tr>\n",
       "        <tr>\n",
       "            <td>Austria-1</td> <td>4     </td> <td>12  </td> <td>16    </td>\n",
       "        </tr>\n",
       "        <tr>\n",
       "            <td>Austria-2</td> <td>2     </td> <td>0   </td> <td>2     </td>\n",
       "        </tr>\n",
       "        <tr>\n",
       "            <td>Belarus  </td> <td>5     </td> <td>6   </td> <td>4     </td>\n",
       "        </tr>\n",
       "    </tbody>\n",
       "</table>\n",
       "<p>... (72 rows omitted)</p>"
      ],
      "text/plain": [
       "<IPython.core.display.HTML object>"
      ]
     },
     "metadata": {},
     "output_type": "display_data"
    }
   ],
   "source": [
    "medals = athletes.where(\"Medal\", are.not_equal_to(\"nan\")).select(\"Team\", \"Medal\").pivot(\"Medal\", \"Team\")\n",
    "medals.show(5)"
   ]
  },
  {
   "cell_type": "code",
   "execution_count": 34,
   "metadata": {
    "tags": []
   },
   "outputs": [
    {
     "data": {
      "text/html": [
       "<table border=\"1\" class=\"dataframe\">\n",
       "    <thead>\n",
       "        <tr>\n",
       "            <th>Team</th> <th>Bronze</th> <th>Gold</th> <th>Silver</th> <th>Total Medals</th>\n",
       "        </tr>\n",
       "    </thead>\n",
       "    <tbody>\n",
       "        <tr>\n",
       "            <td>Australia</td> <td>7     </td> <td>6   </td> <td>3     </td> <td>16          </td>\n",
       "        </tr>\n",
       "        <tr>\n",
       "            <td>Austria  </td> <td>97    </td> <td>67  </td> <td>80    </td> <td>244         </td>\n",
       "        </tr>\n",
       "        <tr>\n",
       "            <td>Austria-1</td> <td>4     </td> <td>12  </td> <td>16    </td> <td>32          </td>\n",
       "        </tr>\n",
       "        <tr>\n",
       "            <td>Austria-2</td> <td>2     </td> <td>0   </td> <td>2     </td> <td>4           </td>\n",
       "        </tr>\n",
       "        <tr>\n",
       "            <td>Belarus  </td> <td>5     </td> <td>6   </td> <td>4     </td> <td>15          </td>\n",
       "        </tr>\n",
       "    </tbody>\n",
       "</table>\n",
       "<p>... (72 rows omitted)</p>"
      ],
      "text/plain": [
       "<IPython.core.display.HTML object>"
      ]
     },
     "metadata": {},
     "output_type": "display_data"
    }
   ],
   "source": [
    "total_medals = medals.column(\"Gold\") + medals.column(\"Silver\") + medals.column(\"Bronze\")\n",
    "medals = medals.with_column(\"Total Medals\", total_medals)\n",
    "medals.show(5)"
   ]
  },
  {
   "cell_type": "code",
   "execution_count": 35,
   "metadata": {
    "tags": []
   },
   "outputs": [
    {
     "data": {
      "text/html": [
       "<table border=\"1\" class=\"dataframe\">\n",
       "    <thead>\n",
       "        <tr>\n",
       "            <th>Team</th> <th>Gold</th>\n",
       "        </tr>\n",
       "    </thead>\n",
       "    <tbody>\n",
       "        <tr>\n",
       "            <td>Canada       </td> <td>289 </td>\n",
       "        </tr>\n",
       "        <tr>\n",
       "            <td>Soviet Union </td> <td>228 </td>\n",
       "        </tr>\n",
       "        <tr>\n",
       "            <td>Norway       </td> <td>151 </td>\n",
       "        </tr>\n",
       "        <tr>\n",
       "            <td>United States</td> <td>141 </td>\n",
       "        </tr>\n",
       "        <tr>\n",
       "            <td>Sweden       </td> <td>125 </td>\n",
       "        </tr>\n",
       "        <tr>\n",
       "            <td>Germany      </td> <td>115 </td>\n",
       "        </tr>\n",
       "        <tr>\n",
       "            <td>Russia       </td> <td>72  </td>\n",
       "        </tr>\n",
       "        <tr>\n",
       "            <td>Austria      </td> <td>67  </td>\n",
       "        </tr>\n",
       "        <tr>\n",
       "            <td>Finland      </td> <td>66  </td>\n",
       "        </tr>\n",
       "        <tr>\n",
       "            <td>South Korea  </td> <td>50  </td>\n",
       "        </tr>\n",
       "    </tbody>\n",
       "</table>"
      ],
      "text/plain": [
       "Team          | Gold\n",
       "Canada        | 289\n",
       "Soviet Union  | 228\n",
       "Norway        | 151\n",
       "United States | 141\n",
       "Sweden        | 125\n",
       "Germany       | 115\n",
       "Russia        | 72\n",
       "Austria       | 67\n",
       "Finland       | 66\n",
       "South Korea   | 50"
      ]
     },
     "execution_count": 35,
     "metadata": {},
     "output_type": "execute_result"
    }
   ],
   "source": [
    "# Top ten gold\n",
    "medals.sort(\"Gold\", descending=True).select(\"Team\", \"Gold\").take(np.arange(10))"
   ]
  },
  {
   "cell_type": "markdown",
   "metadata": {},
   "source": [
    "7. Which sports (top 5) awarded the most medals in Lake Placid, New York (1980,\n",
    "https://www.lakeplacid.com/do/activities/olympic-sites )."
   ]
  },
  {
   "cell_type": "code",
   "execution_count": 36,
   "metadata": {
    "tags": []
   },
   "outputs": [
    {
     "data": {
      "text/html": [
       "<table border=\"1\" class=\"dataframe\">\n",
       "    <thead>\n",
       "        <tr>\n",
       "            <th>Sport</th> <th>count</th>\n",
       "        </tr>\n",
       "    </thead>\n",
       "    <tbody>\n",
       "        <tr>\n",
       "            <td>Ice Hockey          </td> <td>59   </td>\n",
       "        </tr>\n",
       "        <tr>\n",
       "            <td>Cross Country Skiing</td> <td>38   </td>\n",
       "        </tr>\n",
       "        <tr>\n",
       "            <td>Speed Skating       </td> <td>28   </td>\n",
       "        </tr>\n",
       "        <tr>\n",
       "            <td>Alpine Skiing       </td> <td>18   </td>\n",
       "        </tr>\n",
       "        <tr>\n",
       "            <td>Biathlon            </td> <td>18   </td>\n",
       "        </tr>\n",
       "    </tbody>\n",
       "</table>"
      ],
      "text/plain": [
       "Sport                | count\n",
       "Ice Hockey           | 59\n",
       "Cross Country Skiing | 38\n",
       "Speed Skating        | 28\n",
       "Alpine Skiing        | 18\n",
       "Biathlon             | 18"
      ]
     },
     "execution_count": 36,
     "metadata": {},
     "output_type": "execute_result"
    }
   ],
   "source": [
    "# Sports that awarded the most medals in 1980\n",
    "medals_sport = athletes.where(\"Medal\", are.not_equal_to(\"nan\"))\n",
    "medals_sport.where(\"Year\", 1980).group(\"Sport\").sort(\"count\", descending=True).take(np.arange(5))"
   ]
  },
  {
   "cell_type": "markdown",
   "metadata": {},
   "source": [
    "12. Plot the yearly trend in number of sports. Think of a strategy to code this. What is the trend? "
   ]
  },
  {
   "cell_type": "code",
   "execution_count": 37,
   "metadata": {
    "tags": []
   },
   "outputs": [
    {
     "data": {
      "text/html": [
       "<table border=\"1\" class=\"dataframe\">\n",
       "    <thead>\n",
       "        <tr>\n",
       "            <th>Year</th> <th>count</th>\n",
       "        </tr>\n",
       "    </thead>\n",
       "    <tbody>\n",
       "        <tr>\n",
       "            <td>1924</td> <td>17   </td>\n",
       "        </tr>\n",
       "        <tr>\n",
       "            <td>1928</td> <td>14   </td>\n",
       "        </tr>\n",
       "        <tr>\n",
       "            <td>1932</td> <td>14   </td>\n",
       "        </tr>\n",
       "        <tr>\n",
       "            <td>1936</td> <td>17   </td>\n",
       "        </tr>\n",
       "        <tr>\n",
       "            <td>1948</td> <td>22   </td>\n",
       "        </tr>\n",
       "        <tr>\n",
       "            <td>1952</td> <td>22   </td>\n",
       "        </tr>\n",
       "        <tr>\n",
       "            <td>1956</td> <td>24   </td>\n",
       "        </tr>\n",
       "        <tr>\n",
       "            <td>1960</td> <td>27   </td>\n",
       "        </tr>\n",
       "        <tr>\n",
       "            <td>1964</td> <td>34   </td>\n",
       "        </tr>\n",
       "        <tr>\n",
       "            <td>1968</td> <td>35   </td>\n",
       "        </tr>\n",
       "    </tbody>\n",
       "</table>\n",
       "<p>... (12 rows omitted)</p>"
      ],
      "text/plain": [
       "Year | count\n",
       "1924 | 17\n",
       "1928 | 14\n",
       "1932 | 14\n",
       "1936 | 17\n",
       "1948 | 22\n",
       "1952 | 22\n",
       "1956 | 24\n",
       "1960 | 27\n",
       "1964 | 34\n",
       "1968 | 35\n",
       "... (12 rows omitted)"
      ]
     },
     "execution_count": 37,
     "metadata": {},
     "output_type": "execute_result"
    }
   ],
   "source": [
    "athletes.group([\"Year\", \"Event\"]).group(\"Year\")"
   ]
  },
  {
   "cell_type": "code",
   "execution_count": 38,
   "metadata": {
    "tags": []
   },
   "outputs": [
    {
     "data": {
      "image/png": "[encoded data removed]",
      "text/plain": [
       "<Figure size 600x600 with 1 Axes>"
      ]
     },
     "metadata": {},
     "output_type": "display_data"
    }
   ],
   "source": [
    "athletes.group([\"Year\", \"Event\"]).group(\"Year\").relabel(\"count\", \"Number of Events\").plot(\"Year\", \"Number of Events\")"
   ]
  },
  {
   "cell_type": "markdown",
   "metadata": {},
   "source": [
    "13. Plot an overlay of gold, silver, and bronze medals as a function of year on the same plot excluding hockey. What is the trend? Are the medals awarded at a similar rate?"
   ]
  },
  {
   "cell_type": "code",
   "execution_count": 39,
   "metadata": {
    "tags": []
   },
   "outputs": [
    {
     "data": {
      "text/html": [
       "<table border=\"1\" class=\"dataframe\">\n",
       "    <thead>\n",
       "        <tr>\n",
       "            <th>Year</th> <th>Bronze</th> <th>Gold</th> <th>Silver</th>\n",
       "        </tr>\n",
       "    </thead>\n",
       "    <tbody>\n",
       "        <tr>\n",
       "            <td>1924</td> <td>27    </td> <td>46  </td> <td>29    </td>\n",
       "        </tr>\n",
       "        <tr>\n",
       "            <td>1928</td> <td>19    </td> <td>18  </td> <td>16    </td>\n",
       "        </tr>\n",
       "        <tr>\n",
       "            <td>1932</td> <td>18    </td> <td>18  </td> <td>18    </td>\n",
       "        </tr>\n",
       "    </tbody>\n",
       "</table>\n",
       "<p>... (19 rows omitted)</p>"
      ],
      "text/plain": [
       "<IPython.core.display.HTML object>"
      ]
     },
     "metadata": {},
     "output_type": "display_data"
    }
   ],
   "source": [
    "medals_per_year = athletes.where(\"Event\", are.not_containing(\"Hockey\")).pivot(\"Medal\", \"Year\").drop(\"nan\")\n",
    "medals_per_year.show(3)"
   ]
  },
  {
   "cell_type": "code",
   "execution_count": 40,
   "metadata": {
    "tags": []
   },
   "outputs": [
    {
     "data": {
      "image/png": "[encoded data removed]",
      "text/plain": [
       "<Figure size 600x600 with 1 Axes>"
      ]
     },
     "metadata": {},
     "output_type": "display_data"
    }
   ],
   "source": [
    "medals_per_year.drop(\"Total Medals\").plot(\"Year\")\n",
    "ax = plt.gca()\n",
    "ax.set_ylabel(\"Medals per Year\");"
   ]
  },
  {
   "cell_type": "markdown",
   "metadata": {},
   "source": [
    "## LAB 06 TIPS"
   ]
  },
  {
   "cell_type": "code",
   "execution_count": 41,
   "metadata": {
    "tags": []
   },
   "outputs": [
    {
     "data": {
      "text/plain": [
       "Ellipsis"
      ]
     },
     "execution_count": 41,
     "metadata": {},
     "output_type": "execute_result"
    }
   ],
   "source": [
    "modifier = 11\n",
    "num_observations = 7\n",
    "\n",
    "def simulate_observations(modifier, num_observations):\n",
    "    \"\"\"Produces an array of 7 simulated modified die rolls\"\"\"\n",
    "    ...\n",
    "\n",
    "observations = ...\n",
    "observations"
   ]
  },
  {
   "cell_type": "code",
   "execution_count": 42,
   "metadata": {
    "tags": []
   },
   "outputs": [
    {
     "data": {
      "text/plain": [
       "array([], dtype=float64)"
      ]
     },
     "execution_count": 42,
     "metadata": {},
     "output_type": "execute_result"
    }
   ],
   "source": [
    "# How to make an empty array and append values\n",
    "test = make_array()\n",
    "np.append(test, 5)\n",
    "test"
   ]
  },
  {
   "cell_type": "markdown",
   "metadata": {},
   "source": [
    "# Back to Groundhogs\n",
    "![](https://i.natgeofe.com/n/fb6f0b10-50e0-4857-9246-012bbef02614/groundhog.jpg?w=1200)"
   ]
  },
  {
   "cell_type": "markdown",
   "metadata": {},
   "source": [
    "## Hypothesis Testing"
   ]
  },
  {
   "cell_type": "markdown",
   "metadata": {},
   "source": [
    "#### Ground Hog\n"
   ]
  },
  {
   "cell_type": "code",
   "execution_count": 43,
   "metadata": {
    "tags": []
   },
   "outputs": [
    {
     "data": {
      "text/html": [
       "<table border=\"1\" class=\"dataframe\">\n",
       "    <thead>\n",
       "        <tr>\n",
       "            <th>hogID</th> <th>year</th> <th>shadowPres</th> <th>dateSample</th> <th>julDay</th> <th>GDD</th> <th>cGDD</th> <th>numObs</th> <th>meanJulSpringDay</th> <th>sdJulSpringDay</th> <th>seJulSpringDay</th> <th>earlyOrLate</th>\n",
       "        </tr>\n",
       "    </thead>\n",
       "    <tbody>\n",
       "        <tr>\n",
       "            <td>BC   </td> <td>2018</td> <td>yes       </td> <td>2018-04-11</td> <td>101   </td> <td>3.05556 </td> <td>127.222</td> <td>30    </td> <td>85.8667         </td> <td>12.4367       </td> <td>2.27062       </td> <td>late       </td>\n",
       "        </tr>\n",
       "        <tr>\n",
       "            <td>BC   </td> <td>2019</td> <td>no        </td> <td>2019-04-06</td> <td>96    </td> <td>8.33333 </td> <td>123.889</td> <td>30    </td> <td>85.8667         </td> <td>12.4367       </td> <td>2.27062       </td> <td>late       </td>\n",
       "        </tr>\n",
       "        <tr>\n",
       "            <td>BECK </td> <td>2006</td> <td>yes       </td> <td>2006-02-15</td> <td>46    </td> <td>7.22222 </td> <td>127.006</td> <td>30    </td> <td>72.4333         </td> <td>14.6586       </td> <td>2.67628       </td> <td>early      </td>\n",
       "        </tr>\n",
       "        <tr>\n",
       "            <td>BECK </td> <td>2007</td> <td>no        </td> <td>2007-03-14</td> <td>73    </td> <td>14.1667 </td> <td>129.167</td> <td>30    </td> <td>72.4333         </td> <td>14.6586       </td> <td>2.67628       </td> <td>late       </td>\n",
       "        </tr>\n",
       "        <tr>\n",
       "            <td>BECK </td> <td>2008</td> <td>no        </td> <td>2008-03-17</td> <td>77    </td> <td>0.833333</td> <td>128.611</td> <td>30    </td> <td>72.4333         </td> <td>14.6586       </td> <td>2.67628       </td> <td>late       </td>\n",
       "        </tr>\n",
       "        <tr>\n",
       "            <td>BECK </td> <td>2009</td> <td>yes       </td> <td>2009-03-10</td> <td>69    </td> <td>12.2222 </td> <td>130    </td> <td>30    </td> <td>72.4333         </td> <td>14.6586       </td> <td>2.67628       </td> <td>early      </td>\n",
       "        </tr>\n",
       "        <tr>\n",
       "            <td>BECK </td> <td>2010</td> <td>no        </td> <td>2010-03-21</td> <td>80    </td> <td>7.22222 </td> <td>129.444</td> <td>30    </td> <td>72.4333         </td> <td>14.6586       </td> <td>2.67628       </td> <td>late       </td>\n",
       "        </tr>\n",
       "        <tr>\n",
       "            <td>BECK </td> <td>2011</td> <td>no        </td> <td>2011-03-20</td> <td>79    </td> <td>7.77778 </td> <td>133.611</td> <td>30    </td> <td>72.4333         </td> <td>14.6586       </td> <td>2.67628       </td> <td>late       </td>\n",
       "        </tr>\n",
       "        <tr>\n",
       "            <td>BECK </td> <td>2012</td> <td>no        </td> <td>2012-03-07</td> <td>67    </td> <td>13.3333 </td> <td>129.444</td> <td>30    </td> <td>72.4333         </td> <td>14.6586       </td> <td>2.67628       </td> <td>early      </td>\n",
       "        </tr>\n",
       "        <tr>\n",
       "            <td>BECK </td> <td>2013</td> <td>no        </td> <td>2013-03-30</td> <td>89    </td> <td>3.88889 </td> <td>128.611</td> <td>30    </td> <td>72.4333         </td> <td>14.6586       </td> <td>2.67628       </td> <td>late       </td>\n",
       "        </tr>\n",
       "    </tbody>\n",
       "</table>\n",
       "<p>... (520 rows omitted)</p>"
      ],
      "text/plain": [
       "hogID | year | shadowPres | dateSample | julDay | GDD      | cGDD    | numObs | meanJulSpringDay | sdJulSpringDay | seJulSpringDay | earlyOrLate\n",
       "BC    | 2018 | yes        | 2018-04-11 | 101    | 3.05556  | 127.222 | 30     | 85.8667          | 12.4367        | 2.27062        | late\n",
       "BC    | 2019 | no         | 2019-04-06 | 96     | 8.33333  | 123.889 | 30     | 85.8667          | 12.4367        | 2.27062        | late\n",
       "BECK  | 2006 | yes        | 2006-02-15 | 46     | 7.22222  | 127.006 | 30     | 72.4333          | 14.6586        | 2.67628        | early\n",
       "BECK  | 2007 | no         | 2007-03-14 | 73     | 14.1667  | 129.167 | 30     | 72.4333          | 14.6586        | 2.67628        | late\n",
       "BECK  | 2008 | no         | 2008-03-17 | 77     | 0.833333 | 128.611 | 30     | 72.4333          | 14.6586        | 2.67628        | late\n",
       "BECK  | 2009 | yes        | 2009-03-10 | 69     | 12.2222  | 130     | 30     | 72.4333          | 14.6586        | 2.67628        | early\n",
       "BECK  | 2010 | no         | 2010-03-21 | 80     | 7.22222  | 129.444 | 30     | 72.4333          | 14.6586        | 2.67628        | late\n",
       "BECK  | 2011 | no         | 2011-03-20 | 79     | 7.77778  | 133.611 | 30     | 72.4333          | 14.6586        | 2.67628        | late\n",
       "BECK  | 2012 | no         | 2012-03-07 | 67     | 13.3333  | 129.444 | 30     | 72.4333          | 14.6586        | 2.67628        | early\n",
       "BECK  | 2013 | no         | 2013-03-30 | 89     | 3.88889  | 128.611 | 30     | 72.4333          | 14.6586        | 2.67628        | late\n",
       "... (520 rows omitted)"
      ]
     },
     "execution_count": 43,
     "metadata": {},
     "output_type": "execute_result"
    }
   ],
   "source": [
    "groundhogdata = Table.read_table('../../Lab05/GroundHogData/summarizedGroundhogData_20210326.csv')\n",
    "groundhogdata"
   ]
  },
  {
   "cell_type": "code",
   "execution_count": 44,
   "metadata": {
    "tags": []
   },
   "outputs": [],
   "source": [
    "yes_late = groundhogdata.where('shadowPres', 'yes').where('earlyOrLate', 'late')\n",
    "no_early = groundhogdata.where('shadowPres', 'no').where('earlyOrLate', 'early')\n",
    "\n",
    "correct_tbl = yes_late.append(no_early)"
   ]
  },
  {
   "cell_type": "code",
   "execution_count": 45,
   "metadata": {
    "tags": []
   },
   "outputs": [
    {
     "name": "stdout",
     "output_type": "stream",
     "text": [
      "The groundhogs were correct 51.1 percent of the time.\n"
     ]
    }
   ],
   "source": [
    "num_correct = correct_tbl.num_rows / groundhogdata.num_rows * 100\n",
    "print(f\"The groundhogs were correct {num_correct:0.1f} percent of the time.\")"
   ]
  },
  {
   "cell_type": "markdown",
   "metadata": {},
   "source": [
    "## Is 51.1% is correct \"significantly\" better than random guessing?\n",
    "\n",
    "To answer this question we need to simulate guessing randomly 520 times (the size of our data set) and see what fractionof the time we do this much better than 50-50 by guessing."
   ]
  },
  {
   "cell_type": "code",
   "execution_count": 46,
   "metadata": {
    "tags": []
   },
   "outputs": [
    {
     "data": {
      "text/plain": [
       "530"
      ]
     },
     "execution_count": 46,
     "metadata": {},
     "output_type": "execute_result"
    }
   ],
   "source": [
    "shadow_options = make_array('yes', 'no')\n",
    "spring_options = make_array('late', 'early')\n",
    "num_observations = groundhogdata.num_rows\n",
    "num_simulations = 1500\n",
    "num_observations"
   ]
  },
  {
   "cell_type": "code",
   "execution_count": 47,
   "metadata": {
    "tags": []
   },
   "outputs": [
    {
     "data": {
      "text/plain": [
       "0.182"
      ]
     },
     "execution_count": 47,
     "metadata": {},
     "output_type": "execute_result"
    }
   ],
   "source": [
    "# Simulate by guessing -- this is a single trial.\n",
    "\n",
    "right = 0 \n",
    "wrong = 0\n",
    "\n",
    "for obs in range(num_observations):\n",
    "    shadow = np.random.choice(shadow_options)\n",
    "    spring = np.random.choice(spring_options)\n",
    "    \n",
    "    if shadow == 'yes' and spring == 'late':\n",
    "        right += 1\n",
    "    elif shadow == 'no' and spring == 'early':\n",
    "        right += 1\n",
    "    else:\n",
    "        wrong += 1\n",
    "\n",
    "simulated_num_correct = right / num_simulations\n",
    "simulated_num_correct"
   ]
  },
  {
   "cell_type": "code",
   "execution_count": 48,
   "metadata": {
    "tags": []
   },
   "outputs": [],
   "source": [
    "# Create a function so we can generate many trials.\n",
    "def sim_ground(repeats):\n",
    "    correct_obs = []\n",
    "    for i in np.arange(repeats):\n",
    "        right = 0 \n",
    "        wrong = 0\n",
    "        for obs in range(num_observations):\n",
    "            shadow = np.random.choice(shadow_options)\n",
    "            spring = np.random.choice(spring_options)\n",
    "            if shadow == 'yes' and spring == 'late':\n",
    "                right += 1\n",
    "            elif shadow == 'no' and spring == 'early':\n",
    "                right += 1\n",
    "            else:\n",
    "                wrong += 1\n",
    "        simulated_num_correct = right / num_observations\n",
    "        correct_obs.append(simulated_num_correct)\n",
    "    return correct_obs        "
   ]
  },
  {
   "cell_type": "code",
   "execution_count": 49,
   "metadata": {
    "tags": []
   },
   "outputs": [
    {
     "data": {
      "image/png": "[encoded data removed]",
      "text/plain": [
       "<Figure size 640x480 with 1 Axes>"
      ]
     },
     "metadata": {},
     "output_type": "display_data"
    }
   ],
   "source": [
    "# Plot the histogram of 1500 trials\n",
    "plt.hist(sim_ground(num_observations),bins=np.arange(0.4,0.6,.01),color = \"skyblue\", ec=\"red\")\n",
    "plt.title('Simulated Groundhog outcomes')\n",
    "plt.savefig('sim_ground.png')\n",
    "plt.show()"
   ]
  },
  {
   "cell_type": "code",
   "execution_count": 50,
   "metadata": {
    "tags": []
   },
   "outputs": [
    {
     "data": {
      "text/html": [
       "<table border=\"1\" class=\"dataframe\">\n",
       "    <thead>\n",
       "        <tr>\n",
       "            <th>Correct</th>\n",
       "        </tr>\n",
       "    </thead>\n",
       "    <tbody>\n",
       "        <tr>\n",
       "            <td>0.513208</td>\n",
       "        </tr>\n",
       "        <tr>\n",
       "            <td>0.503774</td>\n",
       "        </tr>\n",
       "        <tr>\n",
       "            <td>0.5     </td>\n",
       "        </tr>\n",
       "        <tr>\n",
       "            <td>0.496226</td>\n",
       "        </tr>\n",
       "        <tr>\n",
       "            <td>0.464151</td>\n",
       "        </tr>\n",
       "        <tr>\n",
       "            <td>0.498113</td>\n",
       "        </tr>\n",
       "        <tr>\n",
       "            <td>0.483019</td>\n",
       "        </tr>\n",
       "        <tr>\n",
       "            <td>0.503774</td>\n",
       "        </tr>\n",
       "        <tr>\n",
       "            <td>0.5     </td>\n",
       "        </tr>\n",
       "        <tr>\n",
       "            <td>0.473585</td>\n",
       "        </tr>\n",
       "    </tbody>\n",
       "</table>\n",
       "<p>... (1490 rows omitted)</p>"
      ],
      "text/plain": [
       "Correct\n",
       "0.513208\n",
       "0.503774\n",
       "0.5\n",
       "0.496226\n",
       "0.464151\n",
       "0.498113\n",
       "0.483019\n",
       "0.503774\n",
       "0.5\n",
       "0.473585\n",
       "... (1490 rows omitted)"
      ]
     },
     "execution_count": 50,
     "metadata": {},
     "output_type": "execute_result"
    }
   ],
   "source": [
    "hogsimdata = Table().with_columns(\"Correct\",sim_ground(num_simulations))\n",
    "hogsimdata"
   ]
  },
  {
   "cell_type": "code",
   "execution_count": 51,
   "metadata": {
    "tags": []
   },
   "outputs": [
    {
     "data": {
      "image/png": "[encoded data removed]",
      "text/plain": [
       "<Figure size 600x400 with 1 Axes>"
      ]
     },
     "metadata": {},
     "output_type": "display_data"
    }
   ],
   "source": [
    "# The red dot shows the groundhog prediction accuracy\n",
    "hogsimdata.hist(0,bins=np.arange(0.4,0.6,.01))\n",
    "plt.scatter(num_correct/100, 0, color='red', s=200);\n",
    "plt.title('Simulated Groundhog outcomes')\n",
    "plt.savefig('sim_ground_correct.png')\n",
    "plt.show()"
   ]
  },
  {
   "cell_type": "code",
   "execution_count": 52,
   "metadata": {
    "tags": []
   },
   "outputs": [
    {
     "data": {
      "text/plain": [
       "0.30933333333333335"
      ]
     },
     "execution_count": 52,
     "metadata": {},
     "output_type": "execute_result"
    }
   ],
   "source": [
    "# What is the probabilty of doing better than the groundhogs with random guessing?\n",
    "np.count_nonzero(hogsimdata.column('Correct') >= num_correct/100) / num_simulations"
   ]
  },
  {
   "cell_type": "markdown",
   "metadata": {},
   "source": [
    "#### Essex Ed"
   ]
  },
  {
   "cell_type": "code",
   "execution_count": 53,
   "metadata": {},
   "outputs": [
    {
     "data": {
      "text/html": [
       "<table border=\"1\" class=\"dataframe\">\n",
       "    <thead>\n",
       "        <tr>\n",
       "            <th>hogID</th> <th>year</th> <th>shadowPres</th> <th>dateSample</th> <th>julDay</th> <th>GDD</th> <th>cGDD</th> <th>numObs</th> <th>meanJulSpringDay</th> <th>sdJulSpringDay</th> <th>seJulSpringDay</th> <th>earlyOrLate</th>\n",
       "        </tr>\n",
       "    </thead>\n",
       "    <tbody>\n",
       "        <tr>\n",
       "            <td>EE   </td> <td>2011</td> <td>yes       </td> <td>2011-03-05</td> <td>64    </td> <td>11.9444</td> <td>135.556</td> <td>30    </td> <td>50.8333         </td> <td>15.7329       </td> <td>2.87241       </td> <td>late       </td>\n",
       "        </tr>\n",
       "        <tr>\n",
       "            <td>EE   </td> <td>2012</td> <td>no        </td> <td>2012-02-01</td> <td>32    </td> <td>12.7778</td> <td>131.111</td> <td>30    </td> <td>50.8333         </td> <td>15.7329       </td> <td>2.87241       </td> <td>early      </td>\n",
       "        </tr>\n",
       "        <tr>\n",
       "            <td>EE   </td> <td>2013</td> <td>no        </td> <td>2013-02-15</td> <td>46    </td> <td>6.94444</td> <td>129.167</td> <td>30    </td> <td>50.8333         </td> <td>15.7329       </td> <td>2.87241       </td> <td>early      </td>\n",
       "        </tr>\n",
       "        <tr>\n",
       "            <td>EE   </td> <td>2014</td> <td>yes       </td> <td>2014-03-15</td> <td>74    </td> <td>10.8333</td> <td>133.611</td> <td>30    </td> <td>50.8333         </td> <td>15.7329       </td> <td>2.87241       </td> <td>late       </td>\n",
       "        </tr>\n",
       "        <tr>\n",
       "            <td>EE   </td> <td>2015</td> <td>yes       </td> <td>2015-03-27</td> <td>86    </td> <td>6.38889</td> <td>130.278</td> <td>30    </td> <td>50.8333         </td> <td>15.7329       </td> <td>2.87241       </td> <td>late       </td>\n",
       "        </tr>\n",
       "        <tr>\n",
       "            <td>EE   </td> <td>2016</td> <td>yes       </td> <td>2016-02-21</td> <td>52    </td> <td>8.33333</td> <td>131.667</td> <td>30    </td> <td>50.8333         </td> <td>15.7329       </td> <td>2.87241       </td> <td>late       </td>\n",
       "        </tr>\n",
       "        <tr>\n",
       "            <td>EE   </td> <td>2017</td> <td>yes       </td> <td>2017-02-01</td> <td>32    </td> <td>3.88889</td> <td>129.722</td> <td>30    </td> <td>50.8333         </td> <td>15.7329       </td> <td>2.87241       </td> <td>early      </td>\n",
       "        </tr>\n",
       "        <tr>\n",
       "            <td>EE   </td> <td>2018</td> <td>no        </td> <td>2018-02-16</td> <td>47    </td> <td>8.61111</td> <td>134.167</td> <td>30    </td> <td>50.8333         </td> <td>15.7329       </td> <td>2.87241       </td> <td>early      </td>\n",
       "        </tr>\n",
       "        <tr>\n",
       "            <td>EE   </td> <td>2019</td> <td>no        </td> <td>2019-02-22</td> <td>53    </td> <td>4.72222</td> <td>131.667</td> <td>30    </td> <td>50.8333         </td> <td>15.7329       </td> <td>2.87241       </td> <td>late       </td>\n",
       "        </tr>\n",
       "    </tbody>\n",
       "</table>"
      ],
      "text/plain": [
       "hogID | year | shadowPres | dateSample | julDay | GDD     | cGDD    | numObs | meanJulSpringDay | sdJulSpringDay | seJulSpringDay | earlyOrLate\n",
       "EE    | 2011 | yes        | 2011-03-05 | 64     | 11.9444 | 135.556 | 30     | 50.8333          | 15.7329        | 2.87241        | late\n",
       "EE    | 2012 | no         | 2012-02-01 | 32     | 12.7778 | 131.111 | 30     | 50.8333          | 15.7329        | 2.87241        | early\n",
       "EE    | 2013 | no         | 2013-02-15 | 46     | 6.94444 | 129.167 | 30     | 50.8333          | 15.7329        | 2.87241        | early\n",
       "EE    | 2014 | yes        | 2014-03-15 | 74     | 10.8333 | 133.611 | 30     | 50.8333          | 15.7329        | 2.87241        | late\n",
       "EE    | 2015 | yes        | 2015-03-27 | 86     | 6.38889 | 130.278 | 30     | 50.8333          | 15.7329        | 2.87241        | late\n",
       "EE    | 2016 | yes        | 2016-02-21 | 52     | 8.33333 | 131.667 | 30     | 50.8333          | 15.7329        | 2.87241        | late\n",
       "EE    | 2017 | yes        | 2017-02-01 | 32     | 3.88889 | 129.722 | 30     | 50.8333          | 15.7329        | 2.87241        | early\n",
       "EE    | 2018 | no         | 2018-02-16 | 47     | 8.61111 | 134.167 | 30     | 50.8333          | 15.7329        | 2.87241        | early\n",
       "EE    | 2019 | no         | 2019-02-22 | 53     | 4.72222 | 131.667 | 30     | 50.8333          | 15.7329        | 2.87241        | late"
      ]
     },
     "execution_count": 53,
     "metadata": {},
     "output_type": "execute_result"
    }
   ],
   "source": [
    "groundhogdata.where('hogID',\"EE\")"
   ]
  },
  {
   "cell_type": "code",
   "execution_count": 54,
   "metadata": {},
   "outputs": [
    {
     "data": {
      "text/html": [
       "<table border=\"1\" class=\"dataframe\">\n",
       "    <thead>\n",
       "        <tr>\n",
       "            <th>hogID</th> <th>year</th> <th>shadowPres</th> <th>dateSample</th> <th>julDay</th> <th>GDD</th> <th>cGDD</th> <th>numObs</th> <th>meanJulSpringDay</th> <th>sdJulSpringDay</th> <th>seJulSpringDay</th> <th>earlyOrLate</th>\n",
       "        </tr>\n",
       "    </thead>\n",
       "    <tbody>\n",
       "        <tr>\n",
       "            <td>EE   </td> <td>2011</td> <td>yes       </td> <td>2011-03-05</td> <td>64    </td> <td>11.9444</td> <td>135.556</td> <td>30    </td> <td>50.8333         </td> <td>15.7329       </td> <td>2.87241       </td> <td>late       </td>\n",
       "        </tr>\n",
       "        <tr>\n",
       "            <td>EE   </td> <td>2012</td> <td>no        </td> <td>2012-02-01</td> <td>32    </td> <td>12.7778</td> <td>131.111</td> <td>30    </td> <td>50.8333         </td> <td>15.7329       </td> <td>2.87241       </td> <td>early      </td>\n",
       "        </tr>\n",
       "        <tr>\n",
       "            <td>EE   </td> <td>2013</td> <td>no        </td> <td>2013-02-15</td> <td>46    </td> <td>6.94444</td> <td>129.167</td> <td>30    </td> <td>50.8333         </td> <td>15.7329       </td> <td>2.87241       </td> <td>early      </td>\n",
       "        </tr>\n",
       "        <tr>\n",
       "            <td>EE   </td> <td>2014</td> <td>yes       </td> <td>2014-03-15</td> <td>74    </td> <td>10.8333</td> <td>133.611</td> <td>30    </td> <td>50.8333         </td> <td>15.7329       </td> <td>2.87241       </td> <td>late       </td>\n",
       "        </tr>\n",
       "        <tr>\n",
       "            <td>EE   </td> <td>2015</td> <td>yes       </td> <td>2015-03-27</td> <td>86    </td> <td>6.38889</td> <td>130.278</td> <td>30    </td> <td>50.8333         </td> <td>15.7329       </td> <td>2.87241       </td> <td>late       </td>\n",
       "        </tr>\n",
       "        <tr>\n",
       "            <td>EE   </td> <td>2016</td> <td>yes       </td> <td>2016-02-21</td> <td>52    </td> <td>8.33333</td> <td>131.667</td> <td>30    </td> <td>50.8333         </td> <td>15.7329       </td> <td>2.87241       </td> <td>late       </td>\n",
       "        </tr>\n",
       "        <tr>\n",
       "            <td>EE   </td> <td>2018</td> <td>no        </td> <td>2018-02-16</td> <td>47    </td> <td>8.61111</td> <td>134.167</td> <td>30    </td> <td>50.8333         </td> <td>15.7329       </td> <td>2.87241       </td> <td>early      </td>\n",
       "        </tr>\n",
       "    </tbody>\n",
       "</table>"
      ],
      "text/plain": [
       "hogID | year | shadowPres | dateSample | julDay | GDD     | cGDD    | numObs | meanJulSpringDay | sdJulSpringDay | seJulSpringDay | earlyOrLate\n",
       "EE    | 2011 | yes        | 2011-03-05 | 64     | 11.9444 | 135.556 | 30     | 50.8333          | 15.7329        | 2.87241        | late\n",
       "EE    | 2012 | no         | 2012-02-01 | 32     | 12.7778 | 131.111 | 30     | 50.8333          | 15.7329        | 2.87241        | early\n",
       "EE    | 2013 | no         | 2013-02-15 | 46     | 6.94444 | 129.167 | 30     | 50.8333          | 15.7329        | 2.87241        | early\n",
       "EE    | 2014 | yes        | 2014-03-15 | 74     | 10.8333 | 133.611 | 30     | 50.8333          | 15.7329        | 2.87241        | late\n",
       "EE    | 2015 | yes        | 2015-03-27 | 86     | 6.38889 | 130.278 | 30     | 50.8333          | 15.7329        | 2.87241        | late\n",
       "EE    | 2016 | yes        | 2016-02-21 | 52     | 8.33333 | 131.667 | 30     | 50.8333          | 15.7329        | 2.87241        | late\n",
       "EE    | 2018 | no         | 2018-02-16 | 47     | 8.61111 | 134.167 | 30     | 50.8333          | 15.7329        | 2.87241        | early"
      ]
     },
     "execution_count": 54,
     "metadata": {},
     "output_type": "execute_result"
    }
   ],
   "source": [
    "correct_tbl.where('hogID',\"EE\").sort('year')"
   ]
  },
  {
   "cell_type": "code",
   "execution_count": 55,
   "metadata": {},
   "outputs": [
    {
     "data": {
      "text/plain": [
       "77.77777777777779"
      ]
     },
     "execution_count": 55,
     "metadata": {},
     "output_type": "execute_result"
    }
   ],
   "source": [
    "num_correct = correct_tbl.where('hogID',\"EE\").num_rows / groundhogdata.where('hogID',\"EE\").num_rows * 100\n",
    "num_correct"
   ]
  },
  {
   "cell_type": "code",
   "execution_count": 56,
   "metadata": {},
   "outputs": [
    {
     "data": {
      "image/png": "[encoded data removed]",
      "text/plain": [
       "<Figure size 600x400 with 1 Axes>"
      ]
     },
     "metadata": {},
     "output_type": "display_data"
    }
   ],
   "source": [
    "hogsimdata.hist(0,bins=np.arange(0.4,0.6,.01))\n",
    "plt.scatter(num_correct/100, 0, color='red', s=200);\n",
    "plt.title('Simulated Groundhog outcomes')\n",
    "plt.savefig('sim_ground_correct.png')\n",
    "plt.show()"
   ]
  },
  {
   "cell_type": "code",
   "execution_count": 57,
   "metadata": {},
   "outputs": [
    {
     "data": {
      "text/plain": [
       "0.0"
      ]
     },
     "execution_count": 57,
     "metadata": {},
     "output_type": "execute_result"
    }
   ],
   "source": [
    "np.count_nonzero(hogsimdata.column('Correct') >= num_correct/100) / num_simulations"
   ]
  },
  {
   "cell_type": "code",
   "execution_count": 58,
   "metadata": {
    "tags": []
   },
   "outputs": [
    {
     "data": {
      "text/html": [
       "<table border=\"1\" class=\"dataframe\">\n",
       "    <thead>\n",
       "        <tr>\n",
       "            <th>Correct</th>\n",
       "        </tr>\n",
       "    </thead>\n",
       "    <tbody>\n",
       "        <tr>\n",
       "            <td>0.857143</td>\n",
       "        </tr>\n",
       "        <tr>\n",
       "            <td>0.571429</td>\n",
       "        </tr>\n",
       "        <tr>\n",
       "            <td>0.142857</td>\n",
       "        </tr>\n",
       "        <tr>\n",
       "            <td>0.714286</td>\n",
       "        </tr>\n",
       "        <tr>\n",
       "            <td>0.285714</td>\n",
       "        </tr>\n",
       "        <tr>\n",
       "            <td>0.857143</td>\n",
       "        </tr>\n",
       "        <tr>\n",
       "            <td>0.428571</td>\n",
       "        </tr>\n",
       "        <tr>\n",
       "            <td>0.571429</td>\n",
       "        </tr>\n",
       "        <tr>\n",
       "            <td>0.428571</td>\n",
       "        </tr>\n",
       "        <tr>\n",
       "            <td>0.428571</td>\n",
       "        </tr>\n",
       "    </tbody>\n",
       "</table>\n",
       "<p>... (1490 rows omitted)</p>"
      ],
      "text/plain": [
       "Correct\n",
       "0.857143\n",
       "0.571429\n",
       "0.142857\n",
       "0.714286\n",
       "0.285714\n",
       "0.857143\n",
       "0.428571\n",
       "0.571429\n",
       "0.428571\n",
       "0.428571\n",
       "... (1490 rows omitted)"
      ]
     },
     "execution_count": 58,
     "metadata": {},
     "output_type": "execute_result"
    }
   ],
   "source": [
    "num_observations = 7\n",
    "hogsimdata = Table().with_columns(\"Correct\",sim_ground(num_simulations))\n",
    "hogsimdata"
   ]
  },
  {
   "cell_type": "code",
   "execution_count": 59,
   "metadata": {
    "tags": []
   },
   "outputs": [
    {
     "data": {
      "image/png": "[encoded data removed]",
      "text/plain": [
       "<Figure size 600x400 with 1 Axes>"
      ]
     },
     "metadata": {},
     "output_type": "display_data"
    }
   ],
   "source": [
    "#hogsimdata.hist(0,bins=np.arange(0.1,0.9,.01))\n",
    "hogsimdata.hist(bins=15)\n",
    "plt.scatter(num_correct/100, 0, color='red', s=200);\n",
    "plt.title('Simulated Groundhog outcomes')\n",
    "plt.savefig('sim_ground_correct.png')\n",
    "plt.show()"
   ]
  },
  {
   "cell_type": "markdown",
   "metadata": {},
   "source": [
    "# Acknowledgement in the paper\n",
    "This study was the result of a truly laboratory-driven effort that started over speculation on a Friday at the campus pub and has led to a cumulative effort of students in the Community Ecology and Energetics Laboratory at Lakehead University over several years. "
   ]
  },
  {
   "cell_type": "code",
   "execution_count": null,
   "metadata": {},
   "outputs": [],
   "source": []
  }
 ],
 "metadata": {
  "kernelspec": {
   "display_name": "Python 3 (ipykernel)",
   "language": "python",
   "name": "python3"
  },
  "language_info": {
   "codemirror_mode": {
    "name": "ipython",
    "version": 3
   },
   "file_extension": ".py",
   "mimetype": "text/x-python",
   "name": "python",
   "nbconvert_exporter": "python",
   "pygments_lexer": "ipython3",
   "version": "3.10.11"
  }
 },
 "nbformat": 4,
 "nbformat_minor": 4
}
