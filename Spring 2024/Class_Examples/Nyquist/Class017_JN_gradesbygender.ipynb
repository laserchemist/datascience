{
 "cells": [
  {
   "cell_type": "code",
   "execution_count": null,
   "id": "27ad70cd-518c-4cd9-bf27-c9917e0cd3f5",
   "metadata": {
    "tags": []
   },
   "outputs": [],
   "source": [
    "# Import Numpy and Datascience modules.\n",
    "import numpy as np\n",
    "import pandas as pd\n",
    "from datascience import *\n",
    "\n",
    "# Plotting modules\n",
    "import matplotlib\n",
    "%matplotlib inline\n",
    "import matplotlib.pyplot as plt\n",
    "plt.style.use('fivethirtyeight')\n",
    "import warnings\n",
    "warnings.simplefilter('ignore', UserWarning)"
   ]
  },
  {
   "cell_type": "markdown",
   "id": "e035f558-96a8-493f-a735-37ab260006ed",
   "metadata": {},
   "source": [
    "# Hypothesis: Female CST students get better grades than  male students\n",
    "\n",
    "**Disclaimer:** The following data set and analysis is purely a demonstration of hypothesis testing,and does not represent a systematic analysis of grades by gender at Temple. The dataset represents one CST class for one semester only."
   ]
  },
  {
   "cell_type": "code",
   "execution_count": null,
   "id": "044e17cc-c311-4658-82c4-a08ddd72aaaa",
   "metadata": {
    "tags": []
   },
   "outputs": [],
   "source": [
    "# Load the data\n",
    "grades = Table.read_table(\"data/Gender.csv\")\n",
    "grades.show(3)"
   ]
  },
  {
   "cell_type": "code",
   "execution_count": null,
   "id": "339c0cf5-1104-4840-9f75-bea5b74a019f",
   "metadata": {
    "tags": []
   },
   "outputs": [],
   "source": [
    "# Find gender choices\n",
    "np.unique(grades.column(\"Gender\"))"
   ]
  },
  {
   "cell_type": "code",
   "execution_count": null,
   "id": "55e633a2-b47a-44ae-8706-1a503485f435",
   "metadata": {
    "tags": []
   },
   "outputs": [],
   "source": [
    "# Find grade choices\n",
    "np.unique(grades.column(\"Current Grade\"))"
   ]
  },
  {
   "cell_type": "code",
   "execution_count": null,
   "id": "e3b92cca-335d-4611-9e41-812acfd496af",
   "metadata": {
    "tags": []
   },
   "outputs": [],
   "source": [
    "# Filter out withdrawals. Examine only students who received a final grade.\n",
    "grades = grades.where(\"Current Grade\", are.not_equal_to(\"W\")).where(\"Current Grade\", are.not_equal_to(\"WE\"))"
   ]
  },
  {
   "cell_type": "code",
   "execution_count": null,
   "id": "788a1c5b-1d15-40ba-959d-e5c9a5bedb79",
   "metadata": {
    "tags": []
   },
   "outputs": [],
   "source": [
    "np.unique(grades.column(\"Current Grade\"))"
   ]
  },
  {
   "cell_type": "code",
   "execution_count": null,
   "id": "eaec2327-3a90-45e1-96a6-8dcc6b9d23f4",
   "metadata": {
    "tags": []
   },
   "outputs": [],
   "source": [
    "# Convert letter grade to numerical equivalent\n",
    "def grade_letter2number(letter_grade):\n",
    "    if letter_grade == \"A\":\n",
    "        numerical_grade = 4.0\n",
    "    elif letter_grade == \"A-\":\n",
    "        numerical_grade = 3.67\n",
    "    elif letter_grade == \"B+\":\n",
    "        numerical_grade = 3.33\n",
    "    elif letter_grade == \"B\":\n",
    "        numerical_grade = 3.0\n",
    "    elif letter_grade == \"B-\":\n",
    "        numerical_grade = 2.67\n",
    "    elif letter_grade == \"C+\":\n",
    "        numerical_grade = 2.33\n",
    "    elif letter_grade == \"C\":\n",
    "        numerical_grade = 2.0\n",
    "    elif letter_grade == \"C-\":\n",
    "        numerical_grade = 1.67\n",
    "    elif letter_grade == \"D+\":\n",
    "        numerical_grade = 1.33\n",
    "    elif letter_grade == \"D\":\n",
    "        numerical_grade = 1.0\n",
    "    elif letter_grade == \"D-\":\n",
    "        numerical_grade = 0.67\n",
    "    else:\n",
    "        numerical_grade = 0.0  # Default for any other grade\n",
    "    return numerical_grade"
   ]
  },
  {
   "cell_type": "code",
   "execution_count": null,
   "id": "b977a531-cdb2-4f87-a505-5434fd4c3cce",
   "metadata": {
    "tags": []
   },
   "outputs": [],
   "source": [
    "# Add the numerical grade column to the table\n",
    "grades = grades.with_columns(\"Numerical Grade\", grades.apply(grade_letter2number, \"Current Grade\"))\n",
    "grades"
   ]
  },
  {
   "cell_type": "code",
   "execution_count": null,
   "id": "609b0231-f24b-4bcc-8ac8-6b1efc1320e9",
   "metadata": {
    "tags": []
   },
   "outputs": [],
   "source": [
    "# Find the mean grade difference between genders\n",
    "mean_grade_by_gender = grades.select(\"Gender\", \"Numerical Grade\").group(\"Gender\", np.mean)\n",
    "mean_grade_by_gender"
   ]
  },
  {
   "cell_type": "code",
   "execution_count": null,
   "id": "f7c3f6ad-0076-4e48-b16b-20f6204e0236",
   "metadata": {
    "tags": []
   },
   "outputs": [],
   "source": [
    "observed_difference = (mean_grade_by_gender.column(\"Numerical Grade mean\").item(0) \n",
    "                      - mean_grade_by_gender.column(\"Numerical Grade mean\").item(1))\n",
    "observed_difference"
   ]
  },
  {
   "cell_type": "code",
   "execution_count": null,
   "id": "29ca3cd7-b46d-4bca-8f85-557a119b9f92",
   "metadata": {
    "tags": []
   },
   "outputs": [],
   "source": [
    "# Find the sample size\n",
    "N = grades.num_rows\n",
    "N"
   ]
  },
  {
   "cell_type": "code",
   "execution_count": null,
   "id": "9962ac5e-0012-4761-9058-b61e43890a1d",
   "metadata": {
    "tags": []
   },
   "outputs": [],
   "source": [
    "# Find the gender breakdown\n",
    "N_male = grades.where(\"Gender\", \"M\").num_rows\n",
    "N_female = grades.where(\"Gender\", \"F\").num_rows\n",
    "print(f\"Of the {N} students, {N_male} are male and {N_female} are female.\")                       "
   ]
  },
  {
   "cell_type": "code",
   "execution_count": null,
   "id": "dbf28cb7-61aa-49af-9de3-79ad3d635e8a",
   "metadata": {
    "tags": []
   },
   "outputs": [],
   "source": [
    "# Pivot to find the count of each grade by gender\n",
    "pivot = grades.pivot(\"Gender\", \"Numerical Grade\")\n",
    "pivot"
   ]
  },
  {
   "cell_type": "code",
   "execution_count": null,
   "id": "6bb06f6b-e007-4d6b-b81d-73d0ce527269",
   "metadata": {
    "tags": []
   },
   "outputs": [],
   "source": [
    "# Plot the distribution\n",
    "pivot.barh(\"Numerical Grade\")"
   ]
  },
  {
   "cell_type": "code",
   "execution_count": null,
   "id": "cdfee6c1-ada3-4215-aa9b-53203269cb54",
   "metadata": {
    "tags": []
   },
   "outputs": [],
   "source": [
    "# Do it again, this time by percentage\n",
    "pivot = pivot.with_columns(\"F%\", 100 * pivot.column(\"F\") / N_female).with_columns(\"M%\", 100 * pivot.column(\"M\") / N_male)\n",
    "pivot"
   ]
  },
  {
   "cell_type": "code",
   "execution_count": null,
   "id": "21302901-aeb8-4df3-b1f2-17505be847d2",
   "metadata": {
    "tags": []
   },
   "outputs": [],
   "source": [
    "pivot.select(\"Numerical Grade\", \"F%\", \"M%\").barh(\"Numerical Grade\")"
   ]
  },
  {
   "cell_type": "code",
   "execution_count": null,
   "id": "175565a1-9577-46be-a4c6-17e0193fecbb",
   "metadata": {
    "tags": []
   },
   "outputs": [],
   "source": [
    "def difference_of_means(table, group_label):\n",
    "    \"\"\"\n",
    "    Takes: the name of a table and column label that indicates the group to which the row belongs\n",
    "    Returns: Difference of mean grades of the two groups\n",
    "    \"\"\"\n",
    "    reduced = table.select('Numerical Grade', group_label)\n",
    "    means_table = reduced.group(group_label, np.average)\n",
    "    means = means_table.column(1)\n",
    "    return means.item(1) - means.item(0)"
   ]
  },
  {
   "cell_type": "code",
   "execution_count": null,
   "id": "71541100-7f20-4bd0-a6a1-5ea9af628219",
   "metadata": {
    "tags": []
   },
   "outputs": [],
   "source": [
    "def one_simulated_difference_of_means():\n",
    "    \"\"\"\n",
    "    Returns: Difference between mean grades by gender after shuffling labels\n",
    "    \"\"\"\n",
    "    \n",
    "    # array of shuffled labels\n",
    "    shuffled_labels = grades.sample(with_replacement=False).column('Gender')\n",
    "    \n",
    "    # table of grades and shuffled labels\n",
    "    shuffled_table = grades.select('Numerical Grade').with_column(\n",
    "        'Shuffled Label', shuffled_labels)\n",
    "    \n",
    "    return difference_of_means(shuffled_table, 'Shuffled Label') "
   ]
  },
  {
   "cell_type": "code",
   "execution_count": null,
   "id": "2645d2fe-de89-4f44-bc5a-73ec466b0732",
   "metadata": {
    "tags": []
   },
   "outputs": [],
   "source": [
    "# Test our functions\n",
    "one_simulated_difference_of_means()"
   ]
  },
  {
   "cell_type": "code",
   "execution_count": null,
   "id": "f9eef485-2a93-4b6a-8c86-03dd42f6fb0a",
   "metadata": {
    "tags": []
   },
   "outputs": [],
   "source": [
    "# Run the simulation\n",
    "differences = make_array()\n",
    "repetitions = 10000\n",
    "for i in np.arange(repetitions):\n",
    "    new_difference = one_simulated_difference_of_means()\n",
    "    differences = np.append(differences, new_difference)    "
   ]
  },
  {
   "cell_type": "code",
   "execution_count": null,
   "id": "13b41ecf-3882-48c2-b8c0-fff0b1030a29",
   "metadata": {
    "tags": []
   },
   "outputs": [],
   "source": [
    "# Plot the simulation results\n",
    "Table().with_column('Difference Between Group Means', differences).hist(bins=30)\n",
    "print('Observed Difference:', observed_difference)\n",
    "ax = plt.gca()\n",
    "ax.plot(observed_difference, 0,  marker='^', markersize=40, mec='red')\n",
    "ax.set_title('Prediction Under the Null Hypothesis');"
   ]
  },
  {
   "cell_type": "code",
   "execution_count": null,
   "id": "4a0522b3-3d6f-49fe-a10f-7ff437f81e34",
   "metadata": {
    "tags": []
   },
   "outputs": [],
   "source": [
    "# Calculate the p-value as the fraction of simulations exceeding observed difference\n",
    "p_value = np.count_nonzero(differences >= observed_difference) / repetitions\n",
    "print(\"The p-value is :\", p_value)"
   ]
  },
  {
   "cell_type": "markdown",
   "id": "d1060ff9-ac11-4007-83da-de4a0640bcd4",
   "metadata": {},
   "source": [
    "## Conclusion\n",
    "\n",
    "There is a 15.5% chance that the observed difference between male and female grades in this class occurred purely by chance. Thus, we cannot reject the null hypothesis with 99% or even 95% confidence. The difference between male and female performance in this class is not statistically significant."
   ]
  },
  {
   "cell_type": "code",
   "execution_count": null,
   "id": "a471be8e-ebea-46fa-87e3-53a696624f60",
   "metadata": {},
   "outputs": [],
   "source": []
  }
 ],
 "metadata": {
  "kernelspec": {
   "display_name": "Python 3 (ipykernel)",
   "language": "python",
   "name": "python3"
  },
  "language_info": {
   "codemirror_mode": {
    "name": "ipython",
    "version": 3
   },
   "file_extension": ".py",
   "mimetype": "text/x-python",
   "name": "python",
   "nbconvert_exporter": "python",
   "pygments_lexer": "ipython3",
   "version": "3.10.11"
  }
 },
 "nbformat": 4,
 "nbformat_minor": 5
}
