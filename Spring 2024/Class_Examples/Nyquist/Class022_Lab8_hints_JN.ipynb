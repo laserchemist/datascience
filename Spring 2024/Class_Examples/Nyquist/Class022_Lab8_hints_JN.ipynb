{
 "cells": [
  {
   "cell_type": "markdown",
   "id": "c63edf8c-a3f7-42da-9598-25eca6bdfc74",
   "metadata": {},
   "source": [
    "# Minimize Errors"
   ]
  },
  {
   "cell_type": "code",
   "execution_count": null,
   "id": "be2faff1-3b54-418f-894b-83111e017443",
   "metadata": {
    "tags": []
   },
   "outputs": [],
   "source": [
    "## import statements\n",
    "# These lines load the tests. \n",
    "from gofer.ok import check\n",
    "import numpy as np\n",
    "from datascience import *\n",
    "import pandas as pd\n",
    "import matplotlib\n",
    "from matplotlib import patches\n",
    "%matplotlib inline\n",
    "import matplotlib.pyplot as plt\n",
    "import seaborn as sns\n",
    "import warnings\n",
    "warnings.simplefilter('ignore', FutureWarning)\n",
    "plt.style.use('ggplot')\n",
    "from ipywidgets import interact, interactive, fixed\n",
    "import ipywidgets as widgets\n",
    "# Fix for datascience collections Iterable\n",
    "import collections as collections\n",
    "import collections.abc as abc\n",
    "collections.Iterable = abc.Iterable"
   ]
  },
  {
   "cell_type": "markdown",
   "id": "0ed68015-c432-476c-b02d-f2c8134afae6",
   "metadata": {},
   "source": [
    "## Load and plot the data"
   ]
  },
  {
   "cell_type": "code",
   "execution_count": null,
   "id": "d3f46859-298a-4a03-b316-17b1c642dbfd",
   "metadata": {
    "tags": []
   },
   "outputs": [],
   "source": [
    "faithful = Table.read_table(\"../Lab08/faithful-new.csv\")\n",
    "faithful.scatter('duration','wait')"
   ]
  },
  {
   "cell_type": "markdown",
   "id": "f72e5056-adf7-47fa-ad6b-74f0862fb20b",
   "metadata": {},
   "source": [
    "## Define useful functions"
   ]
  },
  {
   "cell_type": "code",
   "execution_count": null,
   "id": "58cfa7af-e9c9-4da6-8915-5d72a61e5196",
   "metadata": {
    "tags": []
   },
   "outputs": [],
   "source": [
    "def standard_units(xyz):\n",
    "    \"Convert any array of numbers to standard units.\"\n",
    "    return (xyz - np.mean(xyz))/np.std(xyz)  \n",
    "\n",
    "\n",
    "def correlation(t, label_x, label_y):\n",
    "    return np.mean(standard_units(t.column(label_x))*standard_units(t.column(label_y)))\n",
    "\n",
    "\n",
    "# Regression\n",
    "def slope(t, label_x, label_y):\n",
    "    r = correlation(t, label_x, label_y)\n",
    "    return r*np.std(t.column(label_y))/np.std(t.column(label_x))\n",
    "\n",
    "\n",
    "def intercept(t, label_x, label_y):\n",
    "    return np.mean(t.column(label_y)) - slope(t, label_x, label_y)*np.mean(t.column(label_x))"
   ]
  },
  {
   "cell_type": "markdown",
   "id": "b4622579-f17e-473f-b7f1-e29151130888",
   "metadata": {},
   "source": [
    "## Calculate the correlation and fit a regression line"
   ]
  },
  {
   "cell_type": "code",
   "execution_count": null,
   "id": "79ebe28f-f5ed-4ed1-9e51-ca7fcb688683",
   "metadata": {
    "tags": []
   },
   "outputs": [],
   "source": [
    "correlation(faithful,\"duration\",\"wait\")"
   ]
  },
  {
   "cell_type": "code",
   "execution_count": null,
   "id": "53366537-eeaa-4b03-b5ca-a55fbe636cb3",
   "metadata": {
    "tags": []
   },
   "outputs": [],
   "source": [
    "faithful.scatter('duration','wait')\n",
    "slp = slope(faithful, 'duration','wait')\n",
    "inter = intercept(faithful,'duration','wait')\n",
    "print(\"Slope: %4.2f Intercept:  %4.2f\" % (slp, inter))\n",
    "plt.scatter(0,inter)\n",
    "xs = [0, 7]\n",
    "ys = [inter, slp * 7 + inter]\n",
    "plt.plot(xs,ys, color='blue')\n",
    "plt.savefig('faithful_regress.png')\n",
    "plt.show()"
   ]
  },
  {
   "cell_type": "code",
   "execution_count": null,
   "id": "58751e08-cf94-4d81-9b3b-f1c6b575b04b",
   "metadata": {
    "tags": []
   },
   "outputs": [],
   "source": [
    "def mse_c(any_slope,any_intercept):\n",
    "    tbl = faithful\n",
    "    xlabel = 'duration'\n",
    "    ylabel = 'wait'\n",
    "    xdata, ydata = tbl.column(xlabel), tbl.column(ylabel)\n",
    "    fitted = any_slope * xdata + any_intercept\n",
    "    mse = np.mean((ydata - fitted) ** 2)\n",
    "    print(\"Root mean squared error:\", mse ** 0.5)\n",
    "    return mse"
   ]
  },
  {
   "cell_type": "code",
   "execution_count": null,
   "id": "8545f68d-b255-4fed-aaa4-7fb1ba7be513",
   "metadata": {
    "tags": []
   },
   "outputs": [],
   "source": [
    "def plot_fit(any_slope, any_intercept):\n",
    "    faithful.scatter('duration','wait')\n",
    "    slp = any_slope\n",
    "    inter = any_intercept\n",
    "    print(\"Slope: %4.2f Intercept:  %4.2f\" % (slp, inter))\n",
    "    plt.scatter(0,inter)\n",
    "    xs = [0, 7]\n",
    "    ys = [inter, slp * 7 + inter]\n",
    "    plt.plot(xs,ys, color='blue')\n",
    "    plt.savefig('faithful_regress.png')\n",
    "    plt.show()"
   ]
  },
  {
   "cell_type": "code",
   "execution_count": null,
   "id": "96f96f30-88ac-443e-a172-91ecc2c7dd69",
   "metadata": {
    "tags": []
   },
   "outputs": [],
   "source": [
    "mse = mse_c(5,5)"
   ]
  },
  {
   "cell_type": "code",
   "execution_count": null,
   "id": "2eb613cf-0974-40fa-9097-271d3f60978e",
   "metadata": {
    "tags": []
   },
   "outputs": [],
   "source": [
    "plot_fit(5,5)"
   ]
  },
  {
   "cell_type": "code",
   "execution_count": null,
   "id": "33a2128a-7450-4de6-8d4b-6ece76c79723",
   "metadata": {
    "tags": []
   },
   "outputs": [],
   "source": [
    "mse = mse_c(8.73, 33.47)"
   ]
  },
  {
   "cell_type": "code",
   "execution_count": null,
   "id": "5bf0fe88-f76f-48c8-87d6-50fd767bdd53",
   "metadata": {
    "tags": []
   },
   "outputs": [],
   "source": [
    "plot_fit(8.73, 33.47)"
   ]
  },
  {
   "cell_type": "code",
   "execution_count": null,
   "id": "02473247-1c37-4ac7-88ea-bf396816a7e7",
   "metadata": {
    "tags": []
   },
   "outputs": [],
   "source": [
    "m_slope, m_intercept = minimize(mse_c)"
   ]
  },
  {
   "cell_type": "code",
   "execution_count": null,
   "id": "723aee96-d878-4efe-946d-b36bc28d6a23",
   "metadata": {
    "tags": []
   },
   "outputs": [],
   "source": [
    "plot_fit(m_slope, m_intercept)"
   ]
  },
  {
   "cell_type": "code",
   "execution_count": null,
   "id": "69d6f9e6-d63c-45fd-a37a-84ab6c8540e8",
   "metadata": {
    "tags": []
   },
   "outputs": [],
   "source": [
    "help(minimize)"
   ]
  }
 ],
 "metadata": {
  "kernelspec": {
   "display_name": "Python 3 (ipykernel)",
   "language": "python",
   "name": "python3"
  },
  "language_info": {
   "codemirror_mode": {
    "name": "ipython",
    "version": 3
   },
   "file_extension": ".py",
   "mimetype": "text/x-python",
   "name": "python",
   "nbconvert_exporter": "python",
   "pygments_lexer": "ipython3",
   "version": "3.10.11"
  }
 },
 "nbformat": 4,
 "nbformat_minor": 5
}
