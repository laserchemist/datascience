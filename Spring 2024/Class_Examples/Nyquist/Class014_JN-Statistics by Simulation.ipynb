{
 "cells": [
  {
   "cell_type": "code",
   "execution_count": 2,
   "id": "91381634-c6f6-471d-98f2-cab87effa37d",
   "metadata": {
    "tags": []
   },
   "outputs": [],
   "source": [
    "from datascience import *\n",
    "import numpy as np\n",
    "import matplotlib.pyplot as plt\n",
    "from matplotlib.patches import FancyArrowPatch\n",
    "import seaborn as sns\n",
    "%matplotlib inline "
   ]
  },
  {
   "cell_type": "markdown",
   "id": "a7a5cf26-be83-4580-b5de-94751f6039a1",
   "metadata": {},
   "source": [
    "# What is \"Statistical Significance\" and how do we test it?\n",
    "\n",
    "Below is a small data set -- just seven patients -- where it *seems* that those who received a new treatment recoverer sooner."
   ]
  },
  {
   "cell_type": "code",
   "execution_count": 3,
   "id": "1f456cc3-4f5d-4f1b-b2c1-cae3b13cb355",
   "metadata": {
    "tags": []
   },
   "outputs": [
    {
     "data": {
      "text/html": [
       "<table border=\"1\" class=\"dataframe\">\n",
       "    <thead>\n",
       "        <tr>\n",
       "            <th>Patients</th> <th>Recovery Time (days)</th>\n",
       "        </tr>\n",
       "    </thead>\n",
       "    <tbody>\n",
       "        <tr>\n",
       "            <td>Control </td> <td>22                  </td>\n",
       "        </tr>\n",
       "        <tr>\n",
       "            <td>Control </td> <td>33                  </td>\n",
       "        </tr>\n",
       "        <tr>\n",
       "            <td>Control </td> <td>40                  </td>\n",
       "        </tr>\n",
       "        <tr>\n",
       "            <td>Treated </td> <td>19                  </td>\n",
       "        </tr>\n",
       "        <tr>\n",
       "            <td>Treated </td> <td>22                  </td>\n",
       "        </tr>\n",
       "        <tr>\n",
       "            <td>Treated </td> <td>25                  </td>\n",
       "        </tr>\n",
       "        <tr>\n",
       "            <td>Treated </td> <td>26                  </td>\n",
       "        </tr>\n",
       "    </tbody>\n",
       "</table>"
      ],
      "text/plain": [
       "Patients | Recovery Time (days)\n",
       "Control  | 22\n",
       "Control  | 33\n",
       "Control  | 40\n",
       "Treated  | 19\n",
       "Treated  | 22\n",
       "Treated  | 25\n",
       "Treated  | 26"
      ]
     },
     "execution_count": 3,
     "metadata": {},
     "output_type": "execute_result"
    }
   ],
   "source": [
    "experiment = Table().with_columns(\n",
    "    \"Patients\", make_array(\"Control\", \"Control\", \"Control\", \"Treated\", \"Treated\", \"Treated\", \"Treated\"),\n",
    "    \"Recovery Time (days)\", make_array(22, 33, 40,19, 22, 25, 26)\n",
    ")\n",
    "experiment"
   ]
  },
  {
   "cell_type": "markdown",
   "id": "d5103fe6-a43f-431b-871d-a64e5ff53b83",
   "metadata": {},
   "source": [
    "## Compare the means of the two groups"
   ]
  },
  {
   "cell_type": "code",
   "execution_count": 4,
   "id": "b9ecdd16-da14-42bd-8510-e6558cf0f331",
   "metadata": {
    "tags": []
   },
   "outputs": [
    {
     "data": {
      "text/html": [
       "<table border=\"1\" class=\"dataframe\">\n",
       "    <thead>\n",
       "        <tr>\n",
       "            <th>Patients</th> <th>Recovery Time (days) mean</th>\n",
       "        </tr>\n",
       "    </thead>\n",
       "    <tbody>\n",
       "        <tr>\n",
       "            <td>Control </td> <td>31.6667                  </td>\n",
       "        </tr>\n",
       "        <tr>\n",
       "            <td>Treated </td> <td>23                       </td>\n",
       "        </tr>\n",
       "    </tbody>\n",
       "</table>"
      ],
      "text/plain": [
       "Patients | Recovery Time (days) mean\n",
       "Control  | 31.6667\n",
       "Treated  | 23"
      ]
     },
     "execution_count": 4,
     "metadata": {},
     "output_type": "execute_result"
    }
   ],
   "source": [
    "experiment.group(\"Patients\", np.mean)"
   ]
  },
  {
   "cell_type": "code",
   "execution_count": 5,
   "id": "5635cc08-59f0-4a50-b635-d217314d5a62",
   "metadata": {
    "tags": []
   },
   "outputs": [
    {
     "data": {
      "text/html": [
       "<table border=\"1\" class=\"dataframe\">\n",
       "    <thead>\n",
       "        <tr>\n",
       "            <th>Patients</th> <th>Recovery Time (days) std</th>\n",
       "        </tr>\n",
       "    </thead>\n",
       "    <tbody>\n",
       "        <tr>\n",
       "            <td>Control </td> <td>7.4087                  </td>\n",
       "        </tr>\n",
       "        <tr>\n",
       "            <td>Treated </td> <td>2.73861                 </td>\n",
       "        </tr>\n",
       "    </tbody>\n",
       "</table>"
      ],
      "text/plain": [
       "Patients | Recovery Time (days) std\n",
       "Control  | 7.4087\n",
       "Treated  | 2.73861"
      ]
     },
     "execution_count": 5,
     "metadata": {},
     "output_type": "execute_result"
    }
   ],
   "source": [
    "experiment.group(\"Patients\", np.std)"
   ]
  },
  {
   "cell_type": "markdown",
   "id": "e0057f98-e3a1-494b-b2ca-d8c78f94bd65",
   "metadata": {},
   "source": [
    "## Plot the distributions"
   ]
  },
  {
   "cell_type": "code",
   "execution_count": 6,
   "id": "1e507f27-6b02-4991-8a1a-3060b21e740d",
   "metadata": {
    "tags": []
   },
   "outputs": [
    {
     "data": {
      "image/png": "[encoded data removed]",
      "text/plain": [
       "<Figure size 500x500 with 1 Axes>"
      ]
     },
     "metadata": {},
     "output_type": "display_data"
    }
   ],
   "source": [
    "control_mean = 31.7\n",
    "treated_mean = 23\n",
    "\n",
    "sns.catplot(data=experiment.to_df(), x=\"Patients\", y=\"Recovery Time (days)\")\n",
    "ax = plt.gca()\n",
    "ax.set_ylim((0, 45))\n",
    "ticks = ax.get_xticks()\n",
    "w = 0.1\n",
    "xmin, xmax = ax.get_xlim()\n",
    "ax.hlines(control_mean, ticks[0]-w, ticks[0]+w)\n",
    "ax.hlines(treated_mean, ticks[1]-w, ticks[1]+w)\n",
    "ax.hlines(control_mean, ticks[0]+w, xmax, linestyles='dotted')\n",
    "ax.hlines(treated_mean, ticks[1]+w, xmax, linestyles='dotted')\n",
    "ax.vlines(xmax, treated_mean, control_mean,)\n",
    "my_arrow = FancyArrowPatch(posA=(xmax, treated_mean),\n",
    "                          posB=(xmax, control_mean), \n",
    "                          arrowstyle='<|-|>', color=\"0.5\",\n",
    "                          mutation_scale=10, shrinkA=0, shrinkB=0)\n",
    "ax.add_artist(my_arrow)\n",
    "ax.text(xmax-w, 20, \"AVG DIFF 8.67\")\n",
    "plt.show();"
   ]
  },
  {
   "cell_type": "markdown",
   "id": "2504f391-db7f-454e-ac9b-8707538cbca1",
   "metadata": {},
   "source": [
    "It sure **seems** that the treated group recovered sooner, but there is that one annoying untreated patient who recovered just as quickly. What can we conclude? Did the treatment help?"
   ]
  },
  {
   "cell_type": "markdown",
   "id": "1f1f68f7-0603-41cb-a3b3-4cf6b1351252",
   "metadata": {},
   "source": [
    "## Hypothesis: The treatment helped patients recover more quickly.\n",
    "## Null Hypothesis: The treatment did nothing.\n",
    "\n",
    "Under the Null Hypothesis, the treatment did nothing. To test this, take our seven patients and randomly assign them to \"treatment\" and \"control\" and measure the different between the average recovery time of the two groups. We do this over and over and keep track of the differences between the averages.\n",
    "\n",
    "We then compare difference in recovery times simulated assuming the treatment did nothing with the actual difference between the two groups."
   ]
  },
  {
   "cell_type": "code",
   "execution_count": 7,
   "id": "78910a95-afd9-4890-a742-8118c47f84ef",
   "metadata": {
    "tags": []
   },
   "outputs": [
    {
     "data": {
      "text/html": [
       "<table border=\"1\" class=\"dataframe\">\n",
       "    <thead>\n",
       "        <tr>\n",
       "            <th>Patients</th> <th>Recovery Time (days)</th>\n",
       "        </tr>\n",
       "    </thead>\n",
       "    <tbody>\n",
       "        <tr>\n",
       "            <td>Control </td> <td>22                  </td>\n",
       "        </tr>\n",
       "        <tr>\n",
       "            <td>Control </td> <td>33                  </td>\n",
       "        </tr>\n",
       "        <tr>\n",
       "            <td>Control </td> <td>40                  </td>\n",
       "        </tr>\n",
       "        <tr>\n",
       "            <td>Treated </td> <td>19                  </td>\n",
       "        </tr>\n",
       "        <tr>\n",
       "            <td>Treated </td> <td>22                  </td>\n",
       "        </tr>\n",
       "        <tr>\n",
       "            <td>Treated </td> <td>25                  </td>\n",
       "        </tr>\n",
       "        <tr>\n",
       "            <td>Treated </td> <td>26                  </td>\n",
       "        </tr>\n",
       "    </tbody>\n",
       "</table>"
      ],
      "text/plain": [
       "Patients | Recovery Time (days)\n",
       "Control  | 22\n",
       "Control  | 33\n",
       "Control  | 40\n",
       "Treated  | 19\n",
       "Treated  | 22\n",
       "Treated  | 25\n",
       "Treated  | 26"
      ]
     },
     "execution_count": 7,
     "metadata": {},
     "output_type": "execute_result"
    }
   ],
   "source": [
    "experiment"
   ]
  },
  {
   "cell_type": "code",
   "execution_count": 8,
   "id": "f60e4505-028d-4da5-b8b0-88c1329a18cb",
   "metadata": {},
   "outputs": [
    {
     "name": "stdout",
     "output_type": "stream",
     "text": [
      "P-value from simulation: 0.0855\n"
     ]
    }
   ],
   "source": [
    "num_simulations = 100000\n",
    "diff_means = 8.67\n",
    "simulated_diffs = []\n",
    "recovery = experiment.column(\"Recovery Time (days)\")\n",
    "for _ in np.arange(num_simulations):\n",
    "    np.random.shuffle(recovery)\n",
    "    new_diff = np.mean(recovery[:3]) - np.mean(recovery[3:])\n",
    "    simulated_diffs.append(new_diff)\n",
    "p_val_simulation = np.sum(np.abs(simulated_diffs) >= diff_means) / num_simulations\n",
    "print(f\"P-value from simulation: {p_val_simulation}\")"
   ]
  },
  {
   "cell_type": "code",
   "execution_count": 9,
   "id": "52690a2c-b003-49ad-8696-ce6535dd30f4",
   "metadata": {
    "tags": []
   },
   "outputs": [
    {
     "data": {
      "image/png": "[encoded data removed]",
      "text/plain": [
       "<Figure size 600x400 with 1 Axes>"
      ]
     },
     "metadata": {},
     "output_type": "display_data"
    }
   ],
   "source": [
    "recovery_simulations = Table().with_columns(\"Simulated Diffs\", simulated_diffs)\n",
    "recovery_simulations.hist(bins=np.arange(-10,12,.3), density=False)\n",
    "ax = plt.gca()\n",
    "ax.plot(8.67, 0, 'rd', ms=10);"
   ]
  },
  {
   "cell_type": "markdown",
   "id": "f556b1f3-a772-4a59-a230-16e883cd7f64",
   "metadata": {},
   "source": [
    "## What is the p-value?\n",
    "\n",
    "The p-value is simple the probability you would see a difference as least as large as the one observed if, in truth, the treatment did nothing. That is to say, the null hypothesis is true. If this probably turns out to be very small, then we reject the null hypothesis and claim that the results of our experiement are \"statistically significant.\"\n",
    "\n",
    "## Our p-value was 0.085, is that small enough?\n",
    "Good question! What we have found is that there is an 8.5% chance of getting our experimental result by chance, or about one chance in 12. Typically we say that p-value below 0.05 is highly likely to be significant, but we don't have real confidence in the result unless the p-value is less than 0.01, or one percent. \n",
    "\n",
    "## What can we conclude?\n",
    "The results of our tiny experiment are suggestive, but not statistically significant. I hope you are all screaming that we need more data! This is part where you apply to NIH for another grant so you can conduct larger trials, prove your treatment works, create a start-up company, and get rich when you are acquired by big pharma. Just remember to give generously to Temple. :-)"
   ]
  },
  {
   "cell_type": "markdown",
   "id": "58feacfa-b945-44cb-a905-c263f2f44795",
   "metadata": {},
   "source": [
    "## Postscript: Did we need to simulate?\n",
    "With only seven patients, we can actully try all of the combinations directly. It turns out that there are exactly 35 ways to assign seven patients to into a groups of four and three. Consequently, we can try all of the combinations by brute force."
   ]
  },
  {
   "cell_type": "code",
   "execution_count": 23,
   "id": "43b15a9c-987e-4668-840f-831fe86abd5a",
   "metadata": {
    "tags": []
   },
   "outputs": [
    {
     "name": "stdout",
     "output_type": "stream",
     "text": [
      "(33, 25, 26) [40, 22, 22, 19] 2.25\n",
      "(33, 25, 40) [26, 22, 22, 19] 10.4166666667\n",
      "(33, 25, 22) [26, 40, 22, 19] -0.0833333333333\n",
      "(33, 25, 22) [26, 40, 22, 19] -0.0833333333333\n",
      "(33, 25, 19) [26, 40, 22, 22] -1.83333333333\n",
      "(33, 26, 40) [25, 22, 22, 19] 11.0\n",
      "(33, 26, 22) [25, 40, 22, 19] 0.5\n",
      "(33, 26, 22) [25, 40, 22, 19] 0.5\n",
      "(33, 26, 19) [25, 40, 22, 22] -1.25\n",
      "(33, 40, 22) [25, 26, 22, 19] 8.66666666667\n",
      "(33, 40, 22) [25, 26, 22, 19] 8.66666666667\n",
      "(33, 40, 19) [25, 26, 22, 22] 6.91666666667\n",
      "(33, 22, 22) [25, 26, 40, 19] -1.83333333333\n",
      "(33, 22, 19) [25, 26, 40, 22] -3.58333333333\n",
      "(33, 22, 19) [25, 26, 40, 22] -3.58333333333\n",
      "(25, 26, 40) [33, 22, 22, 19] 6.33333333333\n",
      "(25, 26, 22) [33, 40, 22, 19] -4.16666666667\n",
      "(25, 26, 22) [33, 40, 22, 19] -4.16666666667\n",
      "(25, 26, 19) [33, 40, 22, 22] -5.91666666667\n",
      "(25, 40, 22) [33, 26, 22, 19] 4.0\n",
      "(25, 40, 22) [33, 26, 22, 19] 4.0\n",
      "(25, 40, 19) [33, 26, 22, 22] 2.25\n",
      "(25, 22, 22) [33, 26, 40, 19] -6.5\n",
      "(25, 22, 19) [33, 26, 40, 22] -8.25\n",
      "(25, 22, 19) [33, 26, 40, 22] -8.25\n",
      "(26, 40, 22) [33, 25, 22, 19] 4.58333333333\n",
      "(26, 40, 22) [33, 25, 22, 19] 4.58333333333\n",
      "(26, 40, 19) [33, 25, 22, 22] 2.83333333333\n",
      "(26, 22, 22) [33, 25, 40, 19] -5.91666666667\n",
      "(26, 22, 19) [33, 25, 40, 22] -7.66666666667\n",
      "(26, 22, 19) [33, 25, 40, 22] -7.66666666667\n",
      "(40, 22, 22) [33, 25, 26, 19] 2.25\n",
      "(40, 22, 19) [33, 25, 26, 22] 0.5\n",
      "(40, 22, 19) [33, 25, 26, 22] 0.5\n",
      "(22, 22, 19) [33, 25, 26, 40] -10.0\n"
     ]
    }
   ],
   "source": [
    "from itertools import combinations\n",
    "\n",
    "items = list(experiment.column(\"Recovery Time (days)\"))\n",
    "mean_diffs = []\n",
    "\n",
    "# Generate all combinations of three items\n",
    "combinations_of_three = list(combinations(items, 3))\n",
    "\n",
    "# Print each combination of three and its corresponding group of four\n",
    "for i, combo_3 in enumerate(combinations_of_three):\n",
    "    # Create a copy of the items list and remove the items in the current combination of three\n",
    "    combo_4 = items[:]\n",
    "    for item in combo_3:\n",
    "        combo_4.remove(item)\n",
    "    mean_diff = np.mean(combo_3) - np.mean(combo_4)\n",
    "    mean_diffs.append(mean_diff)\n",
    "    print(combo_3, combo_4, mean_diff)"
   ]
  },
  {
   "cell_type": "code",
   "execution_count": 29,
   "id": "48e91c74-4efa-4f2d-8e4c-d39923251627",
   "metadata": {
    "tags": []
   },
   "outputs": [
    {
     "data": {
      "text/plain": [
       "0.085714285714285715"
      ]
     },
     "execution_count": 29,
     "metadata": {},
     "output_type": "execute_result"
    }
   ],
   "source": [
    "p_val = np.sum(np.abs(mean_diffs) >= diff_means) / len(combinations_of_three)\n",
    "p_val"
   ]
  },
  {
   "cell_type": "markdown",
   "id": "b9fafa78-7407-4b7a-b783-217eab544861",
   "metadata": {},
   "source": [
    "This is the exact p-value, without running tens of thousands of simulations. So why simulate? Well, as the experiment size grows, the number of possible combinations increases dramatically.\n",
    "\n",
    "There were only 35 combinations of 3 and 4 out of 7 patients. We wanted to chose groups of 30 and 40 out of 70 patients the number of combinations would be huge. Let's calculate it. The equation for the number of ways you can choose k out of n items is:\n",
    "\n",
    "$$\\binom{n}{k} = \\frac{n!}{k!(n-k)!}$$\n",
    "\n",
    "This equation uses factorials. You knew they had to be good for something!"
   ]
  },
  {
   "cell_type": "code",
   "execution_count": 34,
   "id": "7a56753a-71cb-4c30-89ea-ffaf3cbf4ad9",
   "metadata": {
    "tags": []
   },
   "outputs": [
    {
     "data": {
      "text/plain": [
       "35.0"
      ]
     },
     "execution_count": 34,
     "metadata": {},
     "output_type": "execute_result"
    }
   ],
   "source": [
    "import math\n",
    "\n",
    "# Combinations of 3 and 4 out of 7\n",
    "math.factorial(7) / (math.factorial(3) * math.factorial(4))"
   ]
  },
  {
   "cell_type": "code",
   "execution_count": 35,
   "id": "f17e585d-1e19-4efa-94e8-fdfcc921b416",
   "metadata": {
    "tags": []
   },
   "outputs": [
    {
     "data": {
      "text/plain": [
       "5.534774005814351e+19"
      ]
     },
     "execution_count": 35,
     "metadata": {},
     "output_type": "execute_result"
    }
   ],
   "source": [
    "# Combinations of 30 and 40 out of 70\n",
    "math.factorial(70) / (math.factorial(30) * math.factorial(40))"
   ]
  },
  {
   "cell_type": "markdown",
   "id": "27945ceb-5490-43ed-9b97-f5e92533a052",
   "metadata": {},
   "source": [
    "Yup, that is 5.5 with nineteen zeros behind it! You cannot solve this by looping over **all** possible combinations. Instead, you simulate a large number of possible combinations to get close to the exact answer."
   ]
  },
  {
   "cell_type": "code",
   "execution_count": null,
   "id": "f14722c1-9043-43ab-baeb-25a42200c45b",
   "metadata": {},
   "outputs": [],
   "source": []
  }
 ],
 "metadata": {
  "kernelspec": {
   "display_name": "Python 3 (ipykernel)",
   "language": "python",
   "name": "python3"
  },
  "language_info": {
   "codemirror_mode": {
    "name": "ipython",
    "version": 3
   },
   "file_extension": ".py",
   "mimetype": "text/x-python",
   "name": "python",
   "nbconvert_exporter": "python",
   "pygments_lexer": "ipython3",
   "version": "3.10.11"
  }
 },
 "nbformat": 4,
 "nbformat_minor": 5
}
