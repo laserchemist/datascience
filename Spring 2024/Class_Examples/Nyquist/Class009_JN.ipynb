{
 "cells": [
  {
   "cell_type": "markdown",
   "metadata": {},
   "source": [
    "# Class 09: Today's Data Wrangling Example \n",
    "![Heart](data/valentines-day-2023-6753651837109573.3-law.gif)"
   ]
  },
  {
   "cell_type": "markdown",
   "metadata": {},
   "source": [
    "Data from Kaggle see [https://www.kaggle.com/datasets/johnsmith88/heart-disease-dataset](https://www.kaggle.com/datasets/johnsmith88/heart-disease-dataset)\n",
    "You can find out more about the original dataset [here.](https://archive.ics.uci.edu/dataset/45/heart+disease)\n",
    "1. age\n",
    "2. sex\n",
    "3. chest pain type (4 values)\n",
    "4. resting blood pressure\n",
    "5. serum cholestoral in mg/dl\n",
    "6. fasting blood sugar > 120 mg/dl (1=yes, 0=no)\n",
    "7. resting electrocardiographic results (values 0,1,2)\n",
    "8. maximum heart rate achieved\n",
    "9. exercise induced angina (1=yes, 0=no)\n",
    "10. oldpeak = ST depression induced by exercise relative to rest\n",
    "11. the slope of the peak exercise ST segment\n",
    "12. number of major vessels (0-3) colored by flourosopy\n",
    "13. thal:  A blood disorder called thalassemia 0 = normal; 1 = fixed defect; 2 = reversable defect\n",
    "\n",
    "The names and social security numbers of the patients were recently removed from the database, replaced with dummy values.\n",
    "\n",
    "*target* (0 = no heart disease and 1 = heart disease)\n",
    "\n",
    "<img src=\"https://www.wikidoc.org/images/5/53/SinusRhythmLabels.png\" alt=\"EKG Image\" width=500, height=\"auto\" class=\"blog-image\">"
   ]
  },
  {
   "cell_type": "code",
   "execution_count": 1,
   "metadata": {
    "tags": []
   },
   "outputs": [],
   "source": [
    "from datascience import *\n",
    "import numpy as np\n",
    "# import for plotting\n",
    "%matplotlib inline\n",
    "import matplotlib.pyplot as plt\n",
    "plt.style.use('fivethirtyeight')\n",
    "# Fix for datascience plots\n",
    "import collections as collections\n",
    "import collections.abc as abc\n",
    "collections.Iterable = abc.Iterable"
   ]
  },
  {
   "cell_type": "code",
   "execution_count": 2,
   "metadata": {
    "tags": []
   },
   "outputs": [
    {
     "data": {
      "text/html": [
       "<table border=\"1\" class=\"dataframe\">\n",
       "    <thead>\n",
       "        <tr>\n",
       "            <th>age</th> <th>sex</th> <th>cp</th> <th>trestbps</th> <th>chol</th> <th>fbs</th> <th>restecg</th> <th>thalach</th> <th>exang</th> <th>oldpeak</th> <th>slope</th> <th>ca</th> <th>thal</th> <th>target</th>\n",
       "        </tr>\n",
       "    </thead>\n",
       "    <tbody>\n",
       "        <tr>\n",
       "            <td>52  </td> <td>1   </td> <td>0   </td> <td>125     </td> <td>212 </td> <td>0   </td> <td>1      </td> <td>168    </td> <td>0    </td> <td>1      </td> <td>2    </td> <td>2   </td> <td>3   </td> <td>0     </td>\n",
       "        </tr>\n",
       "        <tr>\n",
       "            <td>53  </td> <td>1   </td> <td>0   </td> <td>140     </td> <td>203 </td> <td>1   </td> <td>0      </td> <td>155    </td> <td>1    </td> <td>3.1    </td> <td>0    </td> <td>0   </td> <td>3   </td> <td>0     </td>\n",
       "        </tr>\n",
       "        <tr>\n",
       "            <td>70  </td> <td>1   </td> <td>0   </td> <td>145     </td> <td>174 </td> <td>0   </td> <td>1      </td> <td>125    </td> <td>1    </td> <td>2.6    </td> <td>0    </td> <td>0   </td> <td>3   </td> <td>0     </td>\n",
       "        </tr>\n",
       "        <tr>\n",
       "            <td>61  </td> <td>1   </td> <td>0   </td> <td>148     </td> <td>203 </td> <td>0   </td> <td>1      </td> <td>161    </td> <td>0    </td> <td>0      </td> <td>2    </td> <td>1   </td> <td>3   </td> <td>0     </td>\n",
       "        </tr>\n",
       "        <tr>\n",
       "            <td>62  </td> <td>0   </td> <td>0   </td> <td>138     </td> <td>294 </td> <td>1   </td> <td>1      </td> <td>106    </td> <td>0    </td> <td>1.9    </td> <td>1    </td> <td>3   </td> <td>2   </td> <td>0     </td>\n",
       "        </tr>\n",
       "        <tr>\n",
       "            <td>58  </td> <td>0   </td> <td>0   </td> <td>100     </td> <td>248 </td> <td>0   </td> <td>0      </td> <td>122    </td> <td>0    </td> <td>1      </td> <td>1    </td> <td>0   </td> <td>2   </td> <td>1     </td>\n",
       "        </tr>\n",
       "        <tr>\n",
       "            <td>58  </td> <td>1   </td> <td>0   </td> <td>114     </td> <td>318 </td> <td>0   </td> <td>2      </td> <td>140    </td> <td>0    </td> <td>4.4    </td> <td>0    </td> <td>3   </td> <td>1   </td> <td>0     </td>\n",
       "        </tr>\n",
       "        <tr>\n",
       "            <td>55  </td> <td>1   </td> <td>0   </td> <td>160     </td> <td>289 </td> <td>0   </td> <td>0      </td> <td>145    </td> <td>1    </td> <td>0.8    </td> <td>1    </td> <td>1   </td> <td>3   </td> <td>0     </td>\n",
       "        </tr>\n",
       "        <tr>\n",
       "            <td>46  </td> <td>1   </td> <td>0   </td> <td>120     </td> <td>249 </td> <td>0   </td> <td>0      </td> <td>144    </td> <td>0    </td> <td>0.8    </td> <td>2    </td> <td>0   </td> <td>3   </td> <td>0     </td>\n",
       "        </tr>\n",
       "        <tr>\n",
       "            <td>54  </td> <td>1   </td> <td>0   </td> <td>122     </td> <td>286 </td> <td>0   </td> <td>0      </td> <td>116    </td> <td>1    </td> <td>3.2    </td> <td>1    </td> <td>2   </td> <td>2   </td> <td>0     </td>\n",
       "        </tr>\n",
       "    </tbody>\n",
       "</table>\n",
       "<p>... (1015 rows omitted)</p>"
      ],
      "text/plain": [
       "age  | sex  | cp   | trestbps | chol | fbs  | restecg | thalach | exang | oldpeak | slope | ca   | thal | target\n",
       "52   | 1    | 0    | 125      | 212  | 0    | 1       | 168     | 0     | 1       | 2     | 2    | 3    | 0\n",
       "53   | 1    | 0    | 140      | 203  | 1    | 0       | 155     | 1     | 3.1     | 0     | 0    | 3    | 0\n",
       "70   | 1    | 0    | 145      | 174  | 0    | 1       | 125     | 1     | 2.6     | 0     | 0    | 3    | 0\n",
       "61   | 1    | 0    | 148      | 203  | 0    | 1       | 161     | 0     | 0       | 2     | 1    | 3    | 0\n",
       "62   | 0    | 0    | 138      | 294  | 1    | 1       | 106     | 0     | 1.9     | 1     | 3    | 2    | 0\n",
       "58   | 0    | 0    | 100      | 248  | 0    | 0       | 122     | 0     | 1       | 1     | 0    | 2    | 1\n",
       "58   | 1    | 0    | 114      | 318  | 0    | 2       | 140     | 0     | 4.4     | 0     | 3    | 1    | 0\n",
       "55   | 1    | 0    | 160      | 289  | 0    | 0       | 145     | 1     | 0.8     | 1     | 1    | 3    | 0\n",
       "46   | 1    | 0    | 120      | 249  | 0    | 0       | 144     | 0     | 0.8     | 2     | 0    | 3    | 0\n",
       "54   | 1    | 0    | 122      | 286  | 0    | 0       | 116     | 1     | 3.2     | 1     | 2    | 2    | 0\n",
       "... (1015 rows omitted)"
      ]
     },
     "execution_count": 2,
     "metadata": {},
     "output_type": "execute_result"
    }
   ],
   "source": [
    "path = 'data/'\n",
    "data = path + 'heart.csv'\n",
    "heart = Table.read_table(data)\n",
    "heart"
   ]
  },
  {
   "cell_type": "markdown",
   "metadata": {},
   "source": [
    "# group(): Grouping is a way to summarize rows around one or more quantities\n",
    "\n",
    " Table.group(column_or_label, collect=None)\n",
    " \n",
    " collect: a function applied to values in other columns for each group\n",
    " \n",
    " ### Grouping by age\n",
    "We would expect the incidence of heart disease to increase with age"
   ]
  },
  {
   "cell_type": "code",
   "execution_count": 3,
   "metadata": {
    "tags": []
   },
   "outputs": [
    {
     "data": {
      "text/html": [
       "<table border=\"1\" class=\"dataframe\">\n",
       "    <thead>\n",
       "        <tr>\n",
       "            <th>age</th> <th>count</th>\n",
       "        </tr>\n",
       "    </thead>\n",
       "    <tbody>\n",
       "        <tr>\n",
       "            <td>29  </td> <td>4    </td>\n",
       "        </tr>\n",
       "        <tr>\n",
       "            <td>34  </td> <td>6    </td>\n",
       "        </tr>\n",
       "        <tr>\n",
       "            <td>35  </td> <td>15   </td>\n",
       "        </tr>\n",
       "        <tr>\n",
       "            <td>37  </td> <td>6    </td>\n",
       "        </tr>\n",
       "        <tr>\n",
       "            <td>38  </td> <td>12   </td>\n",
       "        </tr>\n",
       "        <tr>\n",
       "            <td>39  </td> <td>14   </td>\n",
       "        </tr>\n",
       "        <tr>\n",
       "            <td>40  </td> <td>11   </td>\n",
       "        </tr>\n",
       "        <tr>\n",
       "            <td>41  </td> <td>32   </td>\n",
       "        </tr>\n",
       "        <tr>\n",
       "            <td>42  </td> <td>26   </td>\n",
       "        </tr>\n",
       "        <tr>\n",
       "            <td>43  </td> <td>26   </td>\n",
       "        </tr>\n",
       "    </tbody>\n",
       "</table>\n",
       "<p>... (31 rows omitted)</p>"
      ],
      "text/plain": [
       "age  | count\n",
       "29   | 4\n",
       "34   | 6\n",
       "35   | 15\n",
       "37   | 6\n",
       "38   | 12\n",
       "39   | 14\n",
       "40   | 11\n",
       "41   | 32\n",
       "42   | 26\n",
       "43   | 26\n",
       "... (31 rows omitted)"
      ]
     },
     "execution_count": 3,
     "metadata": {},
     "output_type": "execute_result"
    }
   ],
   "source": [
    "# The default operation when grouping is count()\n",
    "# The column you group becomes rows, one for each distinct value.\n",
    "by_age = heart.group(\"age\")\n",
    "by_age"
   ]
  },
  {
   "cell_type": "code",
   "execution_count": 4,
   "metadata": {
    "tags": []
   },
   "outputs": [
    {
     "data": {
      "text/html": [
       "<table border=\"1\" class=\"dataframe\">\n",
       "    <thead>\n",
       "        <tr>\n",
       "            <th>age</th> <th>count</th>\n",
       "        </tr>\n",
       "    </thead>\n",
       "    <tbody>\n",
       "        <tr>\n",
       "            <td>29  </td> <td>4    </td>\n",
       "        </tr>\n",
       "        <tr>\n",
       "            <td>34  </td> <td>6    </td>\n",
       "        </tr>\n",
       "        <tr>\n",
       "            <td>35  </td> <td>15   </td>\n",
       "        </tr>\n",
       "        <tr>\n",
       "            <td>37  </td> <td>6    </td>\n",
       "        </tr>\n",
       "        <tr>\n",
       "            <td>38  </td> <td>12   </td>\n",
       "        </tr>\n",
       "        <tr>\n",
       "            <td>39  </td> <td>14   </td>\n",
       "        </tr>\n",
       "        <tr>\n",
       "            <td>40  </td> <td>11   </td>\n",
       "        </tr>\n",
       "        <tr>\n",
       "            <td>41  </td> <td>32   </td>\n",
       "        </tr>\n",
       "        <tr>\n",
       "            <td>42  </td> <td>26   </td>\n",
       "        </tr>\n",
       "        <tr>\n",
       "            <td>43  </td> <td>26   </td>\n",
       "        </tr>\n",
       "    </tbody>\n",
       "</table>\n",
       "<p>... (31 rows omitted)</p>"
      ],
      "text/plain": [
       "age  | count\n",
       "29   | 4\n",
       "34   | 6\n",
       "35   | 15\n",
       "37   | 6\n",
       "38   | 12\n",
       "39   | 14\n",
       "40   | 11\n",
       "41   | 32\n",
       "42   | 26\n",
       "43   | 26\n",
       "... (31 rows omitted)"
      ]
     },
     "execution_count": 4,
     "metadata": {},
     "output_type": "execute_result"
    }
   ],
   "source": [
    "# Returns only one column because the count is the same for all features.\n",
    "by_age.sort('age') "
   ]
  },
  {
   "cell_type": "code",
   "execution_count": 5,
   "metadata": {
    "tags": []
   },
   "outputs": [
    {
     "data": {
      "text/html": [
       "<table border=\"1\" class=\"dataframe\">\n",
       "    <thead>\n",
       "        <tr>\n",
       "            <th>age</th> <th>sex median</th> <th>cp median</th> <th>trestbps median</th> <th>chol median</th> <th>fbs median</th> <th>restecg median</th> <th>thalach median</th> <th>exang median</th> <th>oldpeak median</th> <th>slope median</th> <th>ca median</th> <th>thal median</th> <th>target median</th>\n",
       "        </tr>\n",
       "    </thead>\n",
       "    <tbody>\n",
       "        <tr>\n",
       "            <td>29  </td> <td>1         </td> <td>1        </td> <td>130            </td> <td>204        </td> <td>0         </td> <td>0             </td> <td>202           </td> <td>0           </td> <td>0             </td> <td>2           </td> <td>0        </td> <td>2          </td> <td>1            </td>\n",
       "        </tr>\n",
       "        <tr>\n",
       "            <td>34  </td> <td>0.5       </td> <td>2        </td> <td>118            </td> <td>196        </td> <td>0         </td> <td>0.5           </td> <td>183           </td> <td>0           </td> <td>0.35          </td> <td>2           </td> <td>0        </td> <td>2          </td> <td>1            </td>\n",
       "        </tr>\n",
       "        <tr>\n",
       "            <td>35  </td> <td>1         </td> <td>0        </td> <td>122            </td> <td>192        </td> <td>0         </td> <td>1             </td> <td>174           </td> <td>0           </td> <td>1.4           </td> <td>2           </td> <td>0        </td> <td>2          </td> <td>1            </td>\n",
       "        </tr>\n",
       "        <tr>\n",
       "            <td>37  </td> <td>0.5       </td> <td>2        </td> <td>125            </td> <td>232.5      </td> <td>0         </td> <td>1             </td> <td>178.5         </td> <td>0           </td> <td>1.75          </td> <td>1           </td> <td>0        </td> <td>2          </td> <td>1            </td>\n",
       "        </tr>\n",
       "        <tr>\n",
       "            <td>38  </td> <td>1         </td> <td>2        </td> <td>138            </td> <td>175        </td> <td>0         </td> <td>1             </td> <td>173           </td> <td>0           </td> <td>0             </td> <td>2           </td> <td>4        </td> <td>2          </td> <td>1            </td>\n",
       "        </tr>\n",
       "        <tr>\n",
       "            <td>39  </td> <td>0.5       </td> <td>2        </td> <td>128            </td> <td>219.5      </td> <td>0         </td> <td>1             </td> <td>152           </td> <td>0           </td> <td>0             </td> <td>1           </td> <td>0        </td> <td>2          </td> <td>1            </td>\n",
       "        </tr>\n",
       "        <tr>\n",
       "            <td>40  </td> <td>1         </td> <td>0        </td> <td>140            </td> <td>199        </td> <td>0         </td> <td>1             </td> <td>178           </td> <td>1           </td> <td>1.4           </td> <td>2           </td> <td>0        </td> <td>3          </td> <td>0            </td>\n",
       "        </tr>\n",
       "        <tr>\n",
       "            <td>41  </td> <td>1         </td> <td>1        </td> <td>120            </td> <td>204        </td> <td>0         </td> <td>1             </td> <td>168           </td> <td>0           </td> <td>0             </td> <td>2           </td> <td>0        </td> <td>2          </td> <td>1            </td>\n",
       "        </tr>\n",
       "        <tr>\n",
       "            <td>42  </td> <td>1         </td> <td>1.5      </td> <td>130            </td> <td>242        </td> <td>0         </td> <td>1             </td> <td>162           </td> <td>0           </td> <td>0.3           </td> <td>1.5         </td> <td>0        </td> <td>2          </td> <td>1            </td>\n",
       "        </tr>\n",
       "        <tr>\n",
       "            <td>43  </td> <td>1         </td> <td>0        </td> <td>126            </td> <td>247        </td> <td>0         </td> <td>1             </td> <td>161           </td> <td>0           </td> <td>1.5           </td> <td>1           </td> <td>0        </td> <td>3          </td> <td>1            </td>\n",
       "        </tr>\n",
       "    </tbody>\n",
       "</table>\n",
       "<p>... (31 rows omitted)</p>"
      ],
      "text/plain": [
       "age  | sex median | cp median | trestbps median | chol median | fbs median | restecg median | thalach median | exang median | oldpeak median | slope median | ca median | thal median | target median\n",
       "29   | 1          | 1         | 130             | 204         | 0          | 0              | 202            | 0            | 0              | 2            | 0         | 2           | 1\n",
       "34   | 0.5        | 2         | 118             | 196         | 0          | 0.5            | 183            | 0            | 0.35           | 2            | 0         | 2           | 1\n",
       "35   | 1          | 0         | 122             | 192         | 0          | 1              | 174            | 0            | 1.4            | 2            | 0         | 2           | 1\n",
       "37   | 0.5        | 2         | 125             | 232.5       | 0          | 1              | 178.5          | 0            | 1.75           | 1            | 0         | 2           | 1\n",
       "38   | 1          | 2         | 138             | 175         | 0          | 1              | 173            | 0            | 0              | 2            | 4         | 2           | 1\n",
       "39   | 0.5        | 2         | 128             | 219.5       | 0          | 1              | 152            | 0            | 0              | 1            | 0         | 2           | 1\n",
       "40   | 1          | 0         | 140             | 199         | 0          | 1              | 178            | 1            | 1.4            | 2            | 0         | 3           | 0\n",
       "41   | 1          | 1         | 120             | 204         | 0          | 1              | 168            | 0            | 0              | 2            | 0         | 2           | 1\n",
       "42   | 1          | 1.5       | 130             | 242         | 0          | 1              | 162            | 0            | 0.3            | 1.5          | 0         | 2           | 1\n",
       "43   | 1          | 0         | 126             | 247         | 0          | 1              | 161            | 0            | 1.5            | 1            | 0         | 3           | 1\n",
       "... (31 rows omitted)"
      ]
     },
     "execution_count": 5,
     "metadata": {},
     "output_type": "execute_result"
    }
   ],
   "source": [
    "# The default operation when grouping is count(), but here we ask for median.\n",
    "import numpy as np\n",
    "\n",
    "# We get back multiple columns because each feature will have different values\n",
    "heart.group(\"age\", np.median)"
   ]
  },
  {
   "cell_type": "markdown",
   "metadata": {
    "tags": []
   },
   "source": [
    "## Does the median value of cholestoral increase with age for these patients?"
   ]
  },
  {
   "cell_type": "code",
   "execution_count": 6,
   "metadata": {
    "tags": []
   },
   "outputs": [
    {
     "data": {
      "text/html": [
       "<table border=\"1\" class=\"dataframe\">\n",
       "    <thead>\n",
       "        <tr>\n",
       "            <th>age</th> <th>chol median</th>\n",
       "        </tr>\n",
       "    </thead>\n",
       "    <tbody>\n",
       "        <tr>\n",
       "            <td>29  </td> <td>204        </td>\n",
       "        </tr>\n",
       "        <tr>\n",
       "            <td>34  </td> <td>196        </td>\n",
       "        </tr>\n",
       "        <tr>\n",
       "            <td>35  </td> <td>192        </td>\n",
       "        </tr>\n",
       "        <tr>\n",
       "            <td>37  </td> <td>232.5      </td>\n",
       "        </tr>\n",
       "        <tr>\n",
       "            <td>38  </td> <td>175        </td>\n",
       "        </tr>\n",
       "        <tr>\n",
       "            <td>39  </td> <td>219.5      </td>\n",
       "        </tr>\n",
       "        <tr>\n",
       "            <td>40  </td> <td>199        </td>\n",
       "        </tr>\n",
       "        <tr>\n",
       "            <td>41  </td> <td>204        </td>\n",
       "        </tr>\n",
       "        <tr>\n",
       "            <td>42  </td> <td>242        </td>\n",
       "        </tr>\n",
       "        <tr>\n",
       "            <td>43  </td> <td>247        </td>\n",
       "        </tr>\n",
       "    </tbody>\n",
       "</table>\n",
       "<p>... (31 rows omitted)</p>"
      ],
      "text/plain": [
       "age  | chol median\n",
       "29   | 204\n",
       "34   | 196\n",
       "35   | 192\n",
       "37   | 232.5\n",
       "38   | 175\n",
       "39   | 219.5\n",
       "40   | 199\n",
       "41   | 204\n",
       "42   | 242\n",
       "43   | 247\n",
       "... (31 rows omitted)"
      ]
     },
     "execution_count": 6,
     "metadata": {},
     "output_type": "execute_result"
    }
   ],
   "source": [
    "heart.group(\"age\", np.median).select('age', 'chol median')"
   ]
  },
  {
   "cell_type": "code",
   "execution_count": 7,
   "metadata": {
    "tags": []
   },
   "outputs": [
    {
     "data": {
      "text/html": [
       "<table border=\"1\" class=\"dataframe\">\n",
       "    <thead>\n",
       "        <tr>\n",
       "            <th>age</th> <th>chol median</th>\n",
       "        </tr>\n",
       "    </thead>\n",
       "    <tbody>\n",
       "        <tr>\n",
       "            <td>29  </td> <td>204        </td>\n",
       "        </tr>\n",
       "        <tr>\n",
       "            <td>34  </td> <td>196        </td>\n",
       "        </tr>\n",
       "        <tr>\n",
       "            <td>35  </td> <td>192        </td>\n",
       "        </tr>\n",
       "        <tr>\n",
       "            <td>37  </td> <td>232.5      </td>\n",
       "        </tr>\n",
       "        <tr>\n",
       "            <td>38  </td> <td>175        </td>\n",
       "        </tr>\n",
       "        <tr>\n",
       "            <td>39  </td> <td>219.5      </td>\n",
       "        </tr>\n",
       "        <tr>\n",
       "            <td>40  </td> <td>199        </td>\n",
       "        </tr>\n",
       "        <tr>\n",
       "            <td>41  </td> <td>204        </td>\n",
       "        </tr>\n",
       "        <tr>\n",
       "            <td>42  </td> <td>242        </td>\n",
       "        </tr>\n",
       "        <tr>\n",
       "            <td>43  </td> <td>247        </td>\n",
       "        </tr>\n",
       "    </tbody>\n",
       "</table>\n",
       "<p>... (31 rows omitted)</p>"
      ],
      "text/plain": [
       "age  | chol median\n",
       "29   | 204\n",
       "34   | 196\n",
       "35   | 192\n",
       "37   | 232.5\n",
       "38   | 175\n",
       "39   | 219.5\n",
       "40   | 199\n",
       "41   | 204\n",
       "42   | 242\n",
       "43   | 247\n",
       "... (31 rows omitted)"
      ]
     },
     "execution_count": 7,
     "metadata": {},
     "output_type": "execute_result"
    }
   ],
   "source": [
    "heart.group(\"age\", np.median).select('age', 'chol median').sort('age')"
   ]
  },
  {
   "cell_type": "code",
   "execution_count": 8,
   "metadata": {
    "tags": []
   },
   "outputs": [],
   "source": [
    "heart.group(\"age\", np.median).select('age', 'chol median').sort('age').scatter('age', 'chol median')"
   ]
  },
  {
   "cell_type": "code",
   "execution_count": 9,
   "metadata": {
    "tags": []
   },
   "outputs": [],
   "source": [
    "heart.group(\"age\", np.median).select('age', 'chol median').sort('age').scatter('age', 'chol median', fit_line=True)"
   ]
  },
  {
   "cell_type": "markdown",
   "metadata": {},
   "source": [
    "### Age distribution of study population"
   ]
  },
  {
   "cell_type": "code",
   "execution_count": 10,
   "metadata": {
    "tags": []
   },
   "outputs": [],
   "source": [
    "bins = np.arange(20, 90, 5)\n",
    "heart.hist(\"age\", bins=bins)\n",
    "\n",
    "# Note percent per unit in this case means percent per year"
   ]
  },
  {
   "cell_type": "code",
   "execution_count": 11,
   "metadata": {
    "tags": []
   },
   "outputs": [],
   "source": [
    "heart.hist(\"chol\", group='target', bins=20)"
   ]
  },
  {
   "cell_type": "markdown",
   "metadata": {},
   "source": [
    "A surprising result! Can you think of any explanations?"
   ]
  },
  {
   "cell_type": "markdown",
   "metadata": {
    "tags": []
   },
   "source": [
    "## Grouping on more than one column"
   ]
  },
  {
   "cell_type": "code",
   "execution_count": 12,
   "metadata": {
    "tags": []
   },
   "outputs": [
    {
     "data": {
      "text/html": [
       "<table border=\"1\" class=\"dataframe\">\n",
       "    <thead>\n",
       "        <tr>\n",
       "            <th>sex</th> <th>target</th> <th>count</th>\n",
       "        </tr>\n",
       "    </thead>\n",
       "    <tbody>\n",
       "        <tr>\n",
       "            <td>0   </td> <td>0     </td> <td>86   </td>\n",
       "        </tr>\n",
       "        <tr>\n",
       "            <td>0   </td> <td>1     </td> <td>226  </td>\n",
       "        </tr>\n",
       "        <tr>\n",
       "            <td>1   </td> <td>0     </td> <td>413  </td>\n",
       "        </tr>\n",
       "        <tr>\n",
       "            <td>1   </td> <td>1     </td> <td>300  </td>\n",
       "        </tr>\n",
       "    </tbody>\n",
       "</table>"
      ],
      "text/plain": [
       "sex  | target | count\n",
       "0    | 0      | 86\n",
       "0    | 1      | 226\n",
       "1    | 0      | 413\n",
       "1    | 1      | 300"
      ]
     },
     "execution_count": 12,
     "metadata": {},
     "output_type": "execute_result"
    }
   ],
   "source": [
    "# Grouping on multiple columns \n",
    "# Creates one row for each unique combination of the grouped column values\n",
    "heart.group([\"sex\", \"target\"])"
   ]
  },
  {
   "cell_type": "markdown",
   "metadata": {},
   "source": [
    "### Another example of using a different collection function than the default count()"
   ]
  },
  {
   "cell_type": "code",
   "execution_count": 13,
   "metadata": {
    "tags": []
   },
   "outputs": [
    {
     "data": {
      "text/html": [
       "<table border=\"1\" class=\"dataframe\">\n",
       "    <thead>\n",
       "        <tr>\n",
       "            <th>target</th> <th>age amin</th> <th>sex amin</th> <th>cp amin</th> <th>trestbps amin</th> <th>chol amin</th> <th>fbs amin</th> <th>restecg amin</th> <th>thalach amin</th> <th>exang amin</th> <th>oldpeak amin</th> <th>slope amin</th> <th>ca amin</th> <th>thal amin</th>\n",
       "        </tr>\n",
       "    </thead>\n",
       "    <tbody>\n",
       "        <tr>\n",
       "            <td>0     </td> <td>35      </td> <td>0       </td> <td>0      </td> <td>100          </td> <td>131      </td> <td>0       </td> <td>0           </td> <td>71          </td> <td>0         </td> <td>0           </td> <td>0         </td> <td>0      </td> <td>0        </td>\n",
       "        </tr>\n",
       "        <tr>\n",
       "            <td>1     </td> <td>29      </td> <td>0       </td> <td>0      </td> <td>94           </td> <td>126      </td> <td>0       </td> <td>0           </td> <td>96          </td> <td>0         </td> <td>0           </td> <td>0         </td> <td>0      </td> <td>0        </td>\n",
       "        </tr>\n",
       "    </tbody>\n",
       "</table>"
      ],
      "text/plain": [
       "target | age amin | sex amin | cp amin | trestbps amin | chol amin | fbs amin | restecg amin | thalach amin | exang amin | oldpeak amin | slope amin | ca amin | thal amin\n",
       "0      | 35       | 0        | 0       | 100           | 131       | 0        | 0            | 71           | 0          | 0            | 0          | 0       | 0\n",
       "1      | 29       | 0        | 0       | 94            | 126       | 0        | 0            | 96           | 0          | 0            | 0          | 0       | 0"
      ]
     },
     "execution_count": 13,
     "metadata": {},
     "output_type": "execute_result"
    }
   ],
   "source": [
    "heart.group(\"target\", np.min)"
   ]
  },
  {
   "cell_type": "markdown",
   "metadata": {},
   "source": [
    "### You can also use your own function.\n",
    "Let's say we want the range of values for each feature as whether or not the patient has heart disease."
   ]
  },
  {
   "cell_type": "code",
   "execution_count": 14,
   "metadata": {
    "tags": []
   },
   "outputs": [],
   "source": [
    "def range(x):\n",
    "    return max(x) - min(x)"
   ]
  },
  {
   "cell_type": "code",
   "execution_count": 15,
   "metadata": {
    "tags": []
   },
   "outputs": [
    {
     "data": {
      "text/plain": [
       "8"
      ]
     },
     "execution_count": 15,
     "metadata": {},
     "output_type": "execute_result"
    }
   ],
   "source": [
    "# Test our function before we apply it!\n",
    "from datascience import *\n",
    "\n",
    "x = make_array(2, 4, 7, 9, 1)\n",
    "range(x)"
   ]
  },
  {
   "cell_type": "code",
   "execution_count": 16,
   "metadata": {
    "tags": []
   },
   "outputs": [
    {
     "data": {
      "text/html": [
       "<table border=\"1\" class=\"dataframe\">\n",
       "    <thead>\n",
       "        <tr>\n",
       "            <th>target</th> <th>age range</th> <th>sex range</th> <th>cp range</th> <th>trestbps range</th> <th>chol range</th> <th>fbs range</th> <th>restecg range</th> <th>thalach range</th> <th>exang range</th> <th>oldpeak range</th> <th>slope range</th> <th>ca range</th> <th>thal range</th>\n",
       "        </tr>\n",
       "    </thead>\n",
       "    <tbody>\n",
       "        <tr>\n",
       "            <td>0     </td> <td>42       </td> <td>1        </td> <td>3       </td> <td>100           </td> <td>278       </td> <td>1        </td> <td>2            </td> <td>124          </td> <td>1          </td> <td>6.2          </td> <td>2          </td> <td>4       </td> <td>3         </td>\n",
       "        </tr>\n",
       "        <tr>\n",
       "            <td>1     </td> <td>47       </td> <td>1        </td> <td>3       </td> <td>86            </td> <td>438       </td> <td>1        </td> <td>2            </td> <td>106          </td> <td>1          </td> <td>4.2          </td> <td>2          </td> <td>4       </td> <td>3         </td>\n",
       "        </tr>\n",
       "    </tbody>\n",
       "</table>"
      ],
      "text/plain": [
       "target | age range | sex range | cp range | trestbps range | chol range | fbs range | restecg range | thalach range | exang range | oldpeak range | slope range | ca range | thal range\n",
       "0      | 42        | 1         | 3        | 100            | 278        | 1         | 2             | 124           | 1           | 6.2           | 2           | 4        | 3\n",
       "1      | 47        | 1         | 3        | 86             | 438        | 1         | 2             | 106           | 1           | 4.2           | 2           | 4        | 3"
      ]
     },
     "execution_count": 16,
     "metadata": {},
     "output_type": "execute_result"
    }
   ],
   "source": [
    "# Use our function with group()\n",
    "heart.group(\"target\", range)"
   ]
  },
  {
   "cell_type": "markdown",
   "metadata": {},
   "source": [
    "# pivot(): Use the values of a column as the rows for a new table.\n",
    "\n",
    "According to Wikipedia, \"A pivot table is a table of statistics that summarizes the data of a more extensive table (such as from a database, spreadsheet, or business intelligence program). This summary might include sums, averages, or other statistics, which the pivot table groups together in a meaningful way. Pivot tables are a technique in data processing. They enable a person to arrange and rearrange (or \"pivot\") statistics in order to draw attention to useful information.\"\n",
    "\n",
    "We \"pivot\" the table on one of the columns.\n",
    "\n",
    "Values in a column become rows\n",
    "\n",
    " Table.pivot(columns, rows, values=None, collect=None, zero=None)[source]\n",
    "\n",
    "    Generate a table with a column for each unique value in columns, with rows for each unique value in rows. Each row counts/aggregates the values that match both row and column based on collect."
   ]
  },
  {
   "cell_type": "code",
   "execution_count": 17,
   "metadata": {
    "tags": []
   },
   "outputs": [],
   "source": [
    "# Look at the first three rows of starting data set\n",
    "heart.show(3)"
   ]
  },
  {
   "cell_type": "code",
   "execution_count": 18,
   "metadata": {
    "tags": []
   },
   "outputs": [
    {
     "data": {
      "text/html": [
       "<table border=\"1\" class=\"dataframe\">\n",
       "    <thead>\n",
       "        <tr>\n",
       "            <th>target</th> <th>0</th> <th>1</th> <th>2</th>\n",
       "        </tr>\n",
       "    </thead>\n",
       "    <tbody>\n",
       "        <tr>\n",
       "            <td>0     </td> <td>46  </td> <td>324 </td> <td>129 </td>\n",
       "        </tr>\n",
       "        <tr>\n",
       "            <td>1     </td> <td>28  </td> <td>158 </td> <td>340 </td>\n",
       "        </tr>\n",
       "    </tbody>\n",
       "</table>"
      ],
      "text/plain": [
       "target | 0    | 1    | 2\n",
       "0      | 46   | 324  | 129\n",
       "1      | 28   | 158  | 340"
      ]
     },
     "execution_count": 18,
     "metadata": {},
     "output_type": "execute_result"
    }
   ],
   "source": [
    "# Just as with group() the default collection operation is count()\n",
    "#------------columns---rows----\n",
    "heart.pivot('slope', 'target')"
   ]
  },
  {
   "cell_type": "code",
   "execution_count": 19,
   "metadata": {
    "tags": []
   },
   "outputs": [
    {
     "data": {
      "text/html": [
       "<table border=\"1\" class=\"dataframe\">\n",
       "    <thead>\n",
       "        <tr>\n",
       "            <th>target</th> <th>29</th> <th>34</th> <th>35</th> <th>37</th> <th>38</th> <th>39</th> <th>40</th> <th>41</th> <th>42</th> <th>43</th> <th>44</th> <th>45</th> <th>46</th> <th>47</th> <th>48</th> <th>49</th> <th>50</th> <th>51</th> <th>52</th> <th>53</th> <th>54</th> <th>55</th> <th>56</th> <th>57</th> <th>58</th> <th>59</th> <th>60</th> <th>61</th> <th>62</th> <th>63</th> <th>64</th> <th>65</th> <th>66</th> <th>67</th> <th>68</th> <th>69</th> <th>70</th> <th>71</th> <th>74</th> <th>76</th> <th>77</th>\n",
       "        </tr>\n",
       "    </thead>\n",
       "    <tbody>\n",
       "        <tr>\n",
       "            <td>0     </td> <td>0   </td> <td>0   </td> <td>198  </td> <td>0    </td> <td>231 </td> <td>219 </td> <td>195 </td> <td>172 </td> <td>315 </td> <td>247 </td> <td>197 </td> <td>286.5</td> <td>249  </td> <td>259 </td> <td>256 </td> <td>168.5</td> <td>233  </td> <td>299 </td> <td>212 </td> <td>242.5</td> <td>239  </td> <td>289 </td> <td>269.5</td> <td>261 </td> <td>246.5</td> <td>239 </td> <td>253 </td> <td>234 </td> <td>267 </td> <td>269 </td> <td>309 </td> <td>254  </td> <td>228 </td> <td>237 </td> <td>233.5</td> <td>254  </td> <td>269 </td> <td>0   </td> <td>0   </td> <td>0   </td> <td>304 </td>\n",
       "        </tr>\n",
       "        <tr>\n",
       "            <td>1     </td> <td>204 </td> <td>196 </td> <td>187.5</td> <td>232.5</td> <td>175 </td> <td>220 </td> <td>199 </td> <td>214 </td> <td>240 </td> <td>247 </td> <td>226 </td> <td>234  </td> <td>200.5</td> <td>253 </td> <td>250 </td> <td>269  </td> <td>231.5</td> <td>245 </td> <td>205 </td> <td>230  </td> <td>262.5</td> <td>262 </td> <td>236  </td> <td>201 </td> <td>230  </td> <td>234 </td> <td>240 </td> <td>243 </td> <td>209 </td> <td>233 </td> <td>263 </td> <td>314.5</td> <td>253 </td> <td>277 </td> <td>244  </td> <td>236.5</td> <td>245 </td> <td>265 </td> <td>269 </td> <td>197 </td> <td>0   </td>\n",
       "        </tr>\n",
       "    </tbody>\n",
       "</table>"
      ],
      "text/plain": [
       "target | 29   | 34   | 35    | 37    | 38   | 39   | 40   | 41   | 42   | 43   | 44   | 45    | 46    | 47   | 48   | 49    | 50    | 51   | 52   | 53    | 54    | 55   | 56    | 57   | 58    | 59   | 60   | 61   | 62   | 63   | 64   | 65    | 66   | 67   | 68    | 69    | 70   | 71   | 74   | 76   | 77\n",
       "0      | 0    | 0    | 198   | 0     | 231  | 219  | 195  | 172  | 315  | 247  | 197  | 286.5 | 249   | 259  | 256  | 168.5 | 233   | 299  | 212  | 242.5 | 239   | 289  | 269.5 | 261  | 246.5 | 239  | 253  | 234  | 267  | 269  | 309  | 254   | 228  | 237  | 233.5 | 254   | 269  | 0    | 0    | 0    | 304\n",
       "1      | 204  | 196  | 187.5 | 232.5 | 175  | 220  | 199  | 214  | 240  | 247  | 226  | 234   | 200.5 | 253  | 250  | 269   | 231.5 | 245  | 205  | 230   | 262.5 | 262  | 236   | 201  | 230   | 234  | 240  | 243  | 209  | 233  | 263  | 314.5 | 253  | 277  | 244   | 236.5 | 245  | 265  | 269  | 197  | 0"
      ]
     },
     "execution_count": 19,
     "metadata": {},
     "output_type": "execute_result"
    }
   ],
   "source": [
    "#-----------columns---rows---values-----apply-to-values---\n",
    "heart.pivot('age', 'target', 'chol', collect=np.median)"
   ]
  },
  {
   "cell_type": "code",
   "execution_count": 20,
   "metadata": {
    "tags": []
   },
   "outputs": [
    {
     "data": {
      "text/html": [
       "<table border=\"1\" class=\"dataframe\">\n",
       "    <thead>\n",
       "        <tr>\n",
       "            <th>age</th> <th>0</th> <th>1</th>\n",
       "        </tr>\n",
       "    </thead>\n",
       "    <tbody>\n",
       "        <tr>\n",
       "            <td>29  </td> <td>0   </td> <td>204  </td>\n",
       "        </tr>\n",
       "        <tr>\n",
       "            <td>34  </td> <td>0   </td> <td>196  </td>\n",
       "        </tr>\n",
       "        <tr>\n",
       "            <td>35  </td> <td>198 </td> <td>187.5</td>\n",
       "        </tr>\n",
       "        <tr>\n",
       "            <td>37  </td> <td>0   </td> <td>232.5</td>\n",
       "        </tr>\n",
       "        <tr>\n",
       "            <td>38  </td> <td>231 </td> <td>175  </td>\n",
       "        </tr>\n",
       "        <tr>\n",
       "            <td>39  </td> <td>219 </td> <td>220  </td>\n",
       "        </tr>\n",
       "        <tr>\n",
       "            <td>40  </td> <td>195 </td> <td>199  </td>\n",
       "        </tr>\n",
       "        <tr>\n",
       "            <td>41  </td> <td>172 </td> <td>214  </td>\n",
       "        </tr>\n",
       "        <tr>\n",
       "            <td>42  </td> <td>315 </td> <td>240  </td>\n",
       "        </tr>\n",
       "        <tr>\n",
       "            <td>43  </td> <td>247 </td> <td>247  </td>\n",
       "        </tr>\n",
       "    </tbody>\n",
       "</table>\n",
       "<p>... (31 rows omitted)</p>"
      ],
      "text/plain": [
       "age  | 0    | 1\n",
       "29   | 0    | 204\n",
       "34   | 0    | 196\n",
       "35   | 198  | 187.5\n",
       "37   | 0    | 232.5\n",
       "38   | 231  | 175\n",
       "39   | 219  | 220\n",
       "40   | 195  | 199\n",
       "41   | 172  | 214\n",
       "42   | 315  | 240\n",
       "43   | 247  | 247\n",
       "... (31 rows omitted)"
      ]
     },
     "execution_count": 20,
     "metadata": {},
     "output_type": "execute_result"
    }
   ],
   "source": [
    "#--------------------------column----row----values---apply-to-values---\n",
    "chol_by_age = heart.pivot('target', 'age', 'chol', collect=np.median)\n",
    "chol_by_age"
   ]
  },
  {
   "cell_type": "code",
   "execution_count": 21,
   "metadata": {
    "tags": []
   },
   "outputs": [],
   "source": [
    "chol_by_age.scatter('age')"
   ]
  },
  {
   "cell_type": "code",
   "execution_count": 22,
   "metadata": {
    "tags": []
   },
   "outputs": [],
   "source": [
    "# Eliminate the zeros\n",
    "chol_by_age = chol_by_age.where('0', are.above(0)).where('1', are.above(0))\n",
    "chol_by_age.scatter('age')"
   ]
  },
  {
   "cell_type": "code",
   "execution_count": 23,
   "metadata": {
    "tags": []
   },
   "outputs": [],
   "source": [
    "chol_by_age.scatter('age', fit_line=True, overlay=False)"
   ]
  },
  {
   "cell_type": "markdown",
   "metadata": {},
   "source": [
    "# Summary\n",
    "Both group() and pivot() are ways to analyze and summarize large datatables. The are powerful techniques for exploratory data analysis."
   ]
  },
  {
   "cell_type": "markdown",
   "metadata": {},
   "source": [
    "# PostScript - A Mystery\n",
    "According to the metadata:\n",
    "\n",
    "13. thal:  A blood disorder called thalassemia 0 = normal; 1 = fixed defect; 2 = reversable defect"
   ]
  },
  {
   "cell_type": "code",
   "execution_count": 24,
   "metadata": {
    "tags": []
   },
   "outputs": [
    {
     "data": {
      "text/html": [
       "<table border=\"1\" class=\"dataframe\">\n",
       "    <thead>\n",
       "        <tr>\n",
       "            <th>thal</th> <th>count</th>\n",
       "        </tr>\n",
       "    </thead>\n",
       "    <tbody>\n",
       "        <tr>\n",
       "            <td>0   </td> <td>7    </td>\n",
       "        </tr>\n",
       "        <tr>\n",
       "            <td>1   </td> <td>64   </td>\n",
       "        </tr>\n",
       "        <tr>\n",
       "            <td>2   </td> <td>544  </td>\n",
       "        </tr>\n",
       "        <tr>\n",
       "            <td>3   </td> <td>410  </td>\n",
       "        </tr>\n",
       "    </tbody>\n",
       "</table>"
      ],
      "text/plain": [
       "thal | count\n",
       "0    | 7\n",
       "1    | 64\n",
       "2    | 544\n",
       "3    | 410"
      ]
     },
     "execution_count": 24,
     "metadata": {},
     "output_type": "execute_result"
    }
   ],
   "source": [
    "heart.group('thal')"
   ]
  },
  {
   "cell_type": "markdown",
   "metadata": {},
   "source": [
    "So why are there four values?"
   ]
  },
  {
   "cell_type": "code",
   "execution_count": null,
   "metadata": {},
   "outputs": [],
   "source": []
  }
 ],
 "metadata": {
  "kernelspec": {
   "display_name": "Python 3 (ipykernel)",
   "language": "python",
   "name": "python3"
  },
  "language_info": {
   "codemirror_mode": {
    "name": "ipython",
    "version": 3
   },
   "file_extension": ".py",
   "mimetype": "text/x-python",
   "name": "python",
   "nbconvert_exporter": "python",
   "pygments_lexer": "ipython3",
   "version": "3.10.11"
  }
 },
 "nbformat": 4,
 "nbformat_minor": 4
}
