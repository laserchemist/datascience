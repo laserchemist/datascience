{
 "cells": [
  {
   "cell_type": "markdown",
   "metadata": {},
   "source": [
    "### Randomness\n",
    "Elements of Data Science Week 7"
   ]
  },
  {
   "cell_type": "markdown",
   "metadata": {
    "tags": []
   },
   "source": [
    "# Simulation Learning Goals\n",
    "Simulate a task dependent on probability such as a die roll, repeat to get distribution and characteristics (mean, ...)\n",
    "- Probability\n",
    "    - np.random.choice()\n",
    "- Simulation: Sample the distribution\n",
    "    - Repeat and collect outcomes\n",
    "    - Iteration: \n",
    "        `for i in np.arange(samples)`\n",
    "- Examine resulting distribution of outcomes\n",
    "    - Probability distribution\n",
    "    - Uncertainty"
   ]
  },
  {
   "cell_type": "markdown",
   "metadata": {},
   "source": [
    "#### A random distributions play a large role in statistical inference"
   ]
  },
  {
   "cell_type": "code",
   "execution_count": 104,
   "metadata": {},
   "outputs": [],
   "source": [
    "import numpy as np\n",
    "from datascience import *"
   ]
  },
  {
   "cell_type": "code",
   "execution_count": 105,
   "metadata": {},
   "outputs": [],
   "source": [
    "%matplotlib inline\n",
    "import matplotlib.pyplot as plt\n",
    "plt.style.use('fivethirtyeight')\n",
    "# Fix for datascience plots\n",
    "import collections as collections\n",
    "import collections.abc as abc\n",
    "collections.Iterable = abc.Iterable"
   ]
  },
  {
   "cell_type": "markdown",
   "metadata": {},
   "source": [
    "## Coin toss"
   ]
  },
  {
   "cell_type": "code",
   "execution_count": 106,
   "metadata": {},
   "outputs": [
    {
     "data": {
      "text/plain": [
       "array(['Heads', 'Heads', 'Tails', 'Heads', 'Tails', 'Tails', 'Heads',\n",
       "       'Tails', 'Tails', 'Tails'],\n",
       "      dtype='<U5')"
      ]
     },
     "execution_count": 106,
     "metadata": {},
     "output_type": "execute_result"
    }
   ],
   "source": [
    "# Create the choices\n",
    "toss = np.array(['Heads', 'Tails'])\n",
    "\n",
    "# Similar ten coin tosses\n",
    "tosses=np.random.choice(toss,10)\n",
    "\n",
    "# Results\n",
    "tosses"
   ]
  },
  {
   "cell_type": "code",
   "execution_count": 107,
   "metadata": {},
   "outputs": [
    {
     "data": {
      "text/plain": [
       "array([ True,  True, False,  True, False, False,  True, False, False, False], dtype=bool)"
      ]
     },
     "execution_count": 107,
     "metadata": {},
     "output_type": "execute_result"
    }
   ],
   "source": [
    "tosses != 'Tails'"
   ]
  },
  {
   "cell_type": "code",
   "execution_count": 108,
   "metadata": {},
   "outputs": [
    {
     "data": {
      "text/plain": [
       "0.4"
      ]
     },
     "execution_count": 108,
     "metadata": {},
     "output_type": "execute_result"
    }
   ],
   "source": [
    "# Fraction of tosses that were heads\n",
    "np.count_nonzero(tosses == 'Heads')/len(tosses)"
   ]
  },
  {
   "cell_type": "code",
   "execution_count": 109,
   "metadata": {
    "tags": []
   },
   "outputs": [
    {
     "data": {
      "text/plain": [
       "0.40000000000000002"
      ]
     },
     "execution_count": 109,
     "metadata": {},
     "output_type": "execute_result"
    }
   ],
   "source": [
    "# Why does this also work?\n",
    "sum(tosses == 'Heads')/len(tosses)"
   ]
  },
  {
   "cell_type": "markdown",
   "metadata": {},
   "source": [
    "DIGRESSION: Notice that these two do the same thing. \"make_array\" is just syntatic sugar for np.array()"
   ]
  },
  {
   "cell_type": "code",
   "execution_count": 110,
   "metadata": {
    "tags": []
   },
   "outputs": [
    {
     "data": {
      "text/plain": [
       "array(['Heads', 'Tails'],\n",
       "      dtype='<U5')"
      ]
     },
     "execution_count": 110,
     "metadata": {},
     "output_type": "execute_result"
    }
   ],
   "source": [
    "make_array('Heads', 'Tails')"
   ]
  },
  {
   "cell_type": "code",
   "execution_count": 111,
   "metadata": {
    "tags": []
   },
   "outputs": [
    {
     "data": {
      "text/plain": [
       "array(['Heads', 'Tails'],\n",
       "      dtype='<U5')"
      ]
     },
     "execution_count": 111,
     "metadata": {},
     "output_type": "execute_result"
    }
   ],
   "source": [
    "np.array(['Heads', 'Tails'])"
   ]
  },
  {
   "cell_type": "markdown",
   "metadata": {},
   "source": [
    "### Simulate\n",
    "- Simulate a set of 100 coin tosses, how many heads?\n",
    "- Repeat simulation 20,000 times"
   ]
  },
  {
   "cell_type": "code",
   "execution_count": 112,
   "metadata": {},
   "outputs": [],
   "source": [
    "def simulate_100_tosses():\n",
    "    outcomes = np.random.choice(toss, 100)\n",
    "    return np.count_nonzero(outcomes == 'Heads')"
   ]
  },
  {
   "cell_type": "code",
   "execution_count": 113,
   "metadata": {
    "tags": []
   },
   "outputs": [
    {
     "data": {
      "text/plain": [
       "42"
      ]
     },
     "execution_count": 113,
     "metadata": {},
     "output_type": "execute_result"
    }
   ],
   "source": [
    "simulate_100_tosses()"
   ]
  },
  {
   "cell_type": "markdown",
   "metadata": {},
   "source": [
    "Now we so 20,000 simulationa of tossing a coin 100 times. (You can try this experiment at home with a real coin, if you have a free month or two.)"
   ]
  },
  {
   "cell_type": "code",
   "execution_count": 114,
   "metadata": {},
   "outputs": [],
   "source": [
    "num_repetitions = 20000   # number of repetitions\n",
    "\n",
    "heads = make_array() # empty collection array\n",
    "\n",
    "for i in np.arange(num_repetitions):   # repeat the process num_repetitions times\n",
    "    new_value = simulate_100_tosses()  # simulate one value using the function defined\n",
    "    heads = np.append(heads, new_value) # augment the collection array with the simulated value\n",
    "\n",
    "# That's it! The simulation is done."
   ]
  },
  {
   "cell_type": "code",
   "execution_count": 115,
   "metadata": {},
   "outputs": [],
   "source": [
    "simulation_results = Table().with_columns(\n",
    "    'Repetition', np.arange(1, num_repetitions + 1),\n",
    "    'Number of Heads', heads\n",
    ")"
   ]
  },
  {
   "cell_type": "code",
   "execution_count": 116,
   "metadata": {},
   "outputs": [
    {
     "data": {
      "text/html": [
       "<table border=\"1\" class=\"dataframe\">\n",
       "    <thead>\n",
       "        <tr>\n",
       "            <th>Repetition</th> <th>Number of Heads</th>\n",
       "        </tr>\n",
       "    </thead>\n",
       "    <tbody>\n",
       "        <tr>\n",
       "            <td>1         </td> <td>57             </td>\n",
       "        </tr>\n",
       "        <tr>\n",
       "            <td>2         </td> <td>50             </td>\n",
       "        </tr>\n",
       "        <tr>\n",
       "            <td>3         </td> <td>53             </td>\n",
       "        </tr>\n",
       "    </tbody>\n",
       "</table>\n",
       "<p>... (19997 rows omitted)</p>"
      ],
      "text/plain": [
       "<IPython.core.display.HTML object>"
      ]
     },
     "metadata": {},
     "output_type": "display_data"
    }
   ],
   "source": [
    "# Each row in the table is the result of a tossed a coin 100 times.\n",
    "simulation_results.show(3)"
   ]
  },
  {
   "cell_type": "code",
   "execution_count": 117,
   "metadata": {},
   "outputs": [
    {
     "data": {
      "image/png": "[encoded data removed]",
      "text/plain": [
       "<Figure size 600x400 with 1 Axes>"
      ]
     },
     "metadata": {},
     "output_type": "display_data"
    }
   ],
   "source": [
    "simulation_results.hist('Number of Heads', bins = np.arange(30.5, 69.6, 1))\n",
    "plt.title('Simulation of 100 Coin Tosses') # Notice the matplotlib call to add a title\n",
    "plt.savefig('Simcoin.png') # This matplotlib call saves the figure into the current folder"
   ]
  },
  {
   "cell_type": "markdown",
   "metadata": {},
   "source": [
    "## Thought problem\n",
    "A couple getting a divorce has split up the big-ticket items. They are now looking for a fair way to divide up the smaller assets that are of roughly equal value that they don't want to sell. They decide to toss a coin for all of these items.\n",
    "\n",
    "Explain why this is a bad idea. Can you think of a more equitable way to divide their stuff?"
   ]
  },
  {
   "cell_type": "markdown",
   "metadata": {},
   "source": [
    "## Die roll betting simulation\n",
    "Bet a dollar on a single die roll\n",
    "Outcomes"
   ]
  },
  {
   "cell_type": "markdown",
   "metadata": {},
   "source": [
    "    - 0 or 1: lose a dollar (-$1)\n",
    "    - 2 or 3: no change (0)\n",
    "    - 4 or 5: gain a dollar (+$1)"
   ]
  },
  {
   "cell_type": "code",
   "execution_count": 118,
   "metadata": {},
   "outputs": [],
   "source": [
    "# Make sure you understand how this if-else structure works in this case\n",
    "def bet_on_one_roll():\n",
    "    \"\"\"Returns my net gain on one bet\"\"\"\n",
    "    x = np.random.choice(np.arange(1, 7))  # roll a die once and record the number of spots\n",
    "    if x <= 2:\n",
    "        return -1\n",
    "    elif x <= 4:\n",
    "        return 0\n",
    "    elif x <= 6:\n",
    "        return 1"
   ]
  },
  {
   "cell_type": "code",
   "execution_count": 119,
   "metadata": {},
   "outputs": [
    {
     "name": "stdout",
     "output_type": "stream",
     "text": [
      "[-1.  0. -1.  1. -1.  0. -1. -1.  1.  0.]\n"
     ]
    },
    {
     "data": {
      "text/plain": [
       "600"
      ]
     },
     "execution_count": 119,
     "metadata": {},
     "output_type": "execute_result"
    }
   ],
   "source": [
    "outcomes = np.array([])\n",
    "\n",
    "for i in np.arange(600):\n",
    "    outcome_of_bet = bet_on_one_roll()\n",
    "    outcomes = np.append(outcomes, outcome_of_bet)\n",
    "    \n",
    "print(outcomes[0:10])\n",
    "len(outcomes)"
   ]
  },
  {
   "cell_type": "code",
   "execution_count": 120,
   "metadata": {},
   "outputs": [
    {
     "data": {
      "image/png": "[encoded data removed]",
      "text/plain": [
       "<Figure size 600x400 with 1 Axes>"
      ]
     },
     "metadata": {},
     "output_type": "display_data"
    }
   ],
   "source": [
    "# Notice the use of group() to return the counts of each outcome.\n",
    "outcome_table = Table().with_column('Outcome', outcomes)\n",
    "outcome_table.group('Outcome').barh(0)"
   ]
  },
  {
   "cell_type": "markdown",
   "metadata": {},
   "source": [
    "**Run the previous two cells a couple of times.** \n",
    "\n",
    "Do you always get the same result. Why or why not?"
   ]
  },
  {
   "cell_type": "markdown",
   "metadata": {},
   "source": [
    "# Sampling\n",
    "If we know the probabality distribution, we can simulate drawing a random sample of any size from that distribution. "
   ]
  },
  {
   "cell_type": "code",
   "execution_count": 121,
   "metadata": {},
   "outputs": [
    {
     "data": {
      "text/html": [
       "<table border=\"1\" class=\"dataframe\">\n",
       "    <thead>\n",
       "        <tr>\n",
       "            <th>Color</th>\n",
       "        </tr>\n",
       "    </thead>\n",
       "    <tbody>\n",
       "        <tr>\n",
       "            <td>green </td>\n",
       "        </tr>\n",
       "        <tr>\n",
       "            <td>green </td>\n",
       "        </tr>\n",
       "        <tr>\n",
       "            <td>green </td>\n",
       "        </tr>\n",
       "        <tr>\n",
       "            <td>purple</td>\n",
       "        </tr>\n",
       "        <tr>\n",
       "            <td>purple</td>\n",
       "        </tr>\n",
       "        <tr>\n",
       "            <td>purple</td>\n",
       "        </tr>\n",
       "        <tr>\n",
       "            <td>purple</td>\n",
       "        </tr>\n",
       "        <tr>\n",
       "            <td>green </td>\n",
       "        </tr>\n",
       "        <tr>\n",
       "            <td>green </td>\n",
       "        </tr>\n",
       "        <tr>\n",
       "            <td>purple</td>\n",
       "        </tr>\n",
       "    </tbody>\n",
       "</table>\n",
       "<p>... (90 rows omitted)</p>"
      ],
      "text/plain": [
       "Color\n",
       "green\n",
       "green\n",
       "green\n",
       "purple\n",
       "purple\n",
       "purple\n",
       "purple\n",
       "green\n",
       "green\n",
       "purple\n",
       "... (90 rows omitted)"
      ]
     },
     "execution_count": 121,
     "metadata": {},
     "output_type": "execute_result"
    }
   ],
   "source": [
    "# Generate a population of purple and green marbles\n",
    "marbles = np.random.choice(['purple','green'],100)\n",
    "population =Table().with_columns('Color',marbles)\n",
    "population"
   ]
  },
  {
   "cell_type": "code",
   "execution_count": 122,
   "metadata": {},
   "outputs": [
    {
     "data": {
      "text/plain": [
       "0.57"
      ]
     },
     "execution_count": 122,
     "metadata": {},
     "output_type": "execute_result"
    }
   ],
   "source": [
    "# Find the true fraction of the population of marbles that is purple.\n",
    "population.where('Color','purple').num_rows/population.num_rows"
   ]
  },
  {
   "cell_type": "code",
   "execution_count": 123,
   "metadata": {},
   "outputs": [
    {
     "data": {
      "text/html": [
       "<table border=\"1\" class=\"dataframe\">\n",
       "    <thead>\n",
       "        <tr>\n",
       "            <th>Color</th>\n",
       "        </tr>\n",
       "    </thead>\n",
       "    <tbody>\n",
       "        <tr>\n",
       "            <td>purple</td>\n",
       "        </tr>\n",
       "        <tr>\n",
       "            <td>purple</td>\n",
       "        </tr>\n",
       "        <tr>\n",
       "            <td>green </td>\n",
       "        </tr>\n",
       "        <tr>\n",
       "            <td>purple</td>\n",
       "        </tr>\n",
       "        <tr>\n",
       "            <td>purple</td>\n",
       "        </tr>\n",
       "        <tr>\n",
       "            <td>green </td>\n",
       "        </tr>\n",
       "        <tr>\n",
       "            <td>purple</td>\n",
       "        </tr>\n",
       "        <tr>\n",
       "            <td>purple</td>\n",
       "        </tr>\n",
       "        <tr>\n",
       "            <td>purple</td>\n",
       "        </tr>\n",
       "        <tr>\n",
       "            <td>green </td>\n",
       "        </tr>\n",
       "    </tbody>\n",
       "</table>"
      ],
      "text/plain": [
       "Color\n",
       "purple\n",
       "purple\n",
       "green\n",
       "purple\n",
       "purple\n",
       "green\n",
       "purple\n",
       "purple\n",
       "purple\n",
       "green"
      ]
     },
     "execution_count": 123,
     "metadata": {},
     "output_type": "execute_result"
    }
   ],
   "source": [
    "# Take a sample of ten marbles\n",
    "sample = population.sample(10)\n",
    "sample"
   ]
  },
  {
   "cell_type": "code",
   "execution_count": 124,
   "metadata": {},
   "outputs": [
    {
     "data": {
      "text/plain": [
       "7"
      ]
     },
     "execution_count": 124,
     "metadata": {},
     "output_type": "execute_result"
    }
   ],
   "source": [
    "# Is the fraction of purple marbles in the sample the same as in the population?\n",
    "sample.where('Color','purple').num_rows"
   ]
  },
  {
   "cell_type": "code",
   "execution_count": 125,
   "metadata": {},
   "outputs": [
    {
     "name": "stdout",
     "output_type": "stream",
     "text": [
      "[ 0.6  0.8  0.5  0.7  0.5  0.5  0.2  0.4  0.6  0.8]\n"
     ]
    },
    {
     "data": {
      "text/plain": [
       "1000"
      ]
     },
     "execution_count": 125,
     "metadata": {},
     "output_type": "execute_result"
    }
   ],
   "source": [
    "# Simulate taking a sample of 10 marbles 1000 times\n",
    "outcomes = np.array([])\n",
    "\n",
    "for i in np.arange(1000):\n",
    "    outcome = population.sample(10).where('Color','purple').num_rows/10\n",
    "    outcomes = np.append(outcomes, outcome)\n",
    "    \n",
    "print(outcomes[0:10])\n",
    "len(outcomes)"
   ]
  },
  {
   "cell_type": "code",
   "execution_count": 126,
   "metadata": {},
   "outputs": [
    {
     "data": {
      "text/plain": [
       "0.57079999999999997"
      ]
     },
     "execution_count": 126,
     "metadata": {},
     "output_type": "execute_result"
    }
   ],
   "source": [
    "# Is the mean of the simulations equal to the value of the true population?\n",
    "# Do you think it would converge on the true value with more simulations?\n",
    "outcomes.mean()"
   ]
  },
  {
   "cell_type": "code",
   "execution_count": 127,
   "metadata": {},
   "outputs": [
    {
     "data": {
      "text/html": [
       "<table border=\"1\" class=\"dataframe\">\n",
       "    <thead>\n",
       "        <tr>\n",
       "            <th>Outcome</th>\n",
       "        </tr>\n",
       "    </thead>\n",
       "    <tbody>\n",
       "        <tr>\n",
       "            <td>0.6    </td>\n",
       "        </tr>\n",
       "        <tr>\n",
       "            <td>0.8    </td>\n",
       "        </tr>\n",
       "        <tr>\n",
       "            <td>0.5    </td>\n",
       "        </tr>\n",
       "        <tr>\n",
       "            <td>0.7    </td>\n",
       "        </tr>\n",
       "        <tr>\n",
       "            <td>0.5    </td>\n",
       "        </tr>\n",
       "        <tr>\n",
       "            <td>0.5    </td>\n",
       "        </tr>\n",
       "        <tr>\n",
       "            <td>0.2    </td>\n",
       "        </tr>\n",
       "        <tr>\n",
       "            <td>0.4    </td>\n",
       "        </tr>\n",
       "        <tr>\n",
       "            <td>0.6    </td>\n",
       "        </tr>\n",
       "        <tr>\n",
       "            <td>0.8    </td>\n",
       "        </tr>\n",
       "    </tbody>\n",
       "</table>\n",
       "<p>... (990 rows omitted)</p>"
      ],
      "text/plain": [
       "Outcome\n",
       "0.6\n",
       "0.8\n",
       "0.5\n",
       "0.7\n",
       "0.5\n",
       "0.5\n",
       "0.2\n",
       "0.4\n",
       "0.6\n",
       "0.8\n",
       "... (990 rows omitted)"
      ]
     },
     "execution_count": 127,
     "metadata": {},
     "output_type": "execute_result"
    }
   ],
   "source": [
    "outcome_table = Table().with_column('Outcome', outcomes)\n",
    "outcome_table"
   ]
  },
  {
   "cell_type": "code",
   "execution_count": 128,
   "metadata": {},
   "outputs": [
    {
     "data": {
      "image/png": "[encoded data removed]",
      "text/plain": [
       "<Figure size 600x400 with 1 Axes>"
      ]
     },
     "metadata": {},
     "output_type": "display_data"
    }
   ],
   "source": [
    "outcome_table.hist('Outcome')"
   ]
  },
  {
   "cell_type": "code",
   "execution_count": null,
   "metadata": {},
   "outputs": [],
   "source": []
  }
 ],
 "metadata": {
  "kernelspec": {
   "display_name": "Python 3 (ipykernel)",
   "language": "python",
   "name": "python3"
  },
  "language_info": {
   "codemirror_mode": {
    "name": "ipython",
    "version": 3
   },
   "file_extension": ".py",
   "mimetype": "text/x-python",
   "name": "python",
   "nbconvert_exporter": "python",
   "pygments_lexer": "ipython3",
   "version": "3.10.11"
  }
 },
 "nbformat": 4,
 "nbformat_minor": 4
}
