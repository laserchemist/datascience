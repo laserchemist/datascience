{
 "cells": [
  {
   "cell_type": "code",
   "execution_count": null,
   "id": "bad9910f-46da-4411-8fbd-d12a60447cd1",
   "metadata": {
    "tags": []
   },
   "outputs": [],
   "source": [
    "## import statements\n",
    "# These lines load the tests. \n",
    "from gofer.ok import check\n",
    "import numpy as np\n",
    "from datascience import *\n",
    "import pandas as pd\n",
    "import matplotlib\n",
    "%matplotlib inline\n",
    "import matplotlib.pyplot as plt\n",
    "plt.style.use('ggplot')\n",
    "# Fix for datascience plots\n",
    "import collections as collections\n",
    "import collections.abc as abc\n",
    "collections.Iterable = abc.Iterable"
   ]
  },
  {
   "cell_type": "markdown",
   "id": "636000c3-ad57-4094-9a97-a291f3d3d0f1",
   "metadata": {},
   "source": [
    "### Normal Distribution"
   ]
  },
  {
   "cell_type": "markdown",
   "id": "5b7b897f-aa2b-4565-9fa3-eb496c23884e",
   "metadata": {},
   "source": [
    "$$\n",
    "\\phi(z) = {\\frac{1}{\\sqrt{2 \\pi}}} e^{-\\frac{1}{2}z^2}, ~~ -\\infty < z < \\infty\n",
    "$$"
   ]
  },
  {
   "cell_type": "code",
   "execution_count": null,
   "id": "a623d0f4-a696-43a8-9e20-8769048a8f33",
   "metadata": {
    "tags": []
   },
   "outputs": [],
   "source": [
    "# The standard normal curve\n",
    "\n",
    "plot_normal_cdf()"
   ]
  },
  {
   "cell_type": "code",
   "execution_count": null,
   "id": "b1ec34d3-c004-47a8-bb13-d656ef0a6d37",
   "metadata": {
    "tags": []
   },
   "outputs": [],
   "source": [
    "plot_normal_cdf(1)"
   ]
  },
  {
   "cell_type": "code",
   "execution_count": null,
   "id": "337d4e2d-4e6c-4643-b73b-ed6a9452ab08",
   "metadata": {
    "tags": []
   },
   "outputs": [],
   "source": [
    "from scipy import stats"
   ]
  },
  {
   "cell_type": "code",
   "execution_count": null,
   "id": "4852da7d-8571-407e-a6d1-95ab570030fe",
   "metadata": {
    "tags": []
   },
   "outputs": [],
   "source": [
    "stats.norm.cdf(1)"
   ]
  },
  {
   "cell_type": "code",
   "execution_count": null,
   "id": "3362467a-3099-463c-9cc3-e131a5d29442",
   "metadata": {
    "tags": []
   },
   "outputs": [],
   "source": [
    "plot_normal_cdf(lbound=1)"
   ]
  },
  {
   "cell_type": "code",
   "execution_count": null,
   "id": "4615f86b-744c-4617-94fa-d16ed5445684",
   "metadata": {
    "tags": []
   },
   "outputs": [],
   "source": [
    "1 - stats.norm.cdf(1)"
   ]
  },
  {
   "cell_type": "code",
   "execution_count": null,
   "id": "89d978ad-f79d-4001-82a0-ba208c1c8772",
   "metadata": {
    "tags": []
   },
   "outputs": [],
   "source": [
    "# Area under the standard normal curve, between -1 and 1\n",
    "\n",
    "plot_normal_cdf(1, lbound=-1)"
   ]
  },
  {
   "cell_type": "code",
   "execution_count": null,
   "id": "8c5e5694-85ec-4c51-a960-3b73f5aea048",
   "metadata": {
    "tags": []
   },
   "outputs": [],
   "source": [
    "stats.norm.cdf(1) - stats.norm.cdf(-1)"
   ]
  },
  {
   "cell_type": "code",
   "execution_count": null,
   "id": "bd2e87c7-fce2-4d89-a32c-89ef249b6961",
   "metadata": {
    "tags": []
   },
   "outputs": [],
   "source": [
    "# Area under the standard normal curve, between -2 and 2\n",
    "\n",
    "plot_normal_cdf(2, lbound=-2)"
   ]
  },
  {
   "cell_type": "code",
   "execution_count": null,
   "id": "fdc27087-0017-4d75-b224-79bc56b07616",
   "metadata": {
    "tags": []
   },
   "outputs": [],
   "source": [
    "stats.norm.cdf(2) - stats.norm.cdf(-2)"
   ]
  },
  {
   "cell_type": "markdown",
   "id": "0f332c19-b7e5-47d9-b7c3-15007b9ecfee",
   "metadata": {},
   "source": [
    "### An example of standardizing data"
   ]
  },
  {
   "cell_type": "code",
   "execution_count": null,
   "id": "7935f8e6-2dbc-4941-a479-6f7c25c493a1",
   "metadata": {
    "tags": []
   },
   "outputs": [],
   "source": [
    "heart = Table.read_table(\"data/heart.csv\")\n",
    "heart = heart.select(\"age\", \"chol\")\n",
    "heart.show(3)"
   ]
  },
  {
   "cell_type": "code",
   "execution_count": null,
   "id": "e43912b3-b897-4de8-87a5-0783e6c67133",
   "metadata": {
    "tags": []
   },
   "outputs": [],
   "source": [
    "heart.hist(\"age\", \"chol\", bins=20)"
   ]
  },
  {
   "cell_type": "markdown",
   "id": "efdd0c3c-8271-44d7-950a-2de92f23cd0b",
   "metadata": {},
   "source": [
    "***\n",
    "Standard Units\n",
    "***\n",
    "$\\bar{x}$=mean$(x)$<br>\n",
    "<br>variance=mean$((x-\\bar{x})^2)$<br>\n",
    "<br>SD = $\\sqrt{<(x-\\bar{x})^2>}$<br>\n",
    "<br>Z = ${\\frac{(x-\\bar{x})}{SD}}$"
   ]
  },
  {
   "cell_type": "code",
   "execution_count": null,
   "id": "9473f4fa-63ef-4006-9cad-2b9c6191fd82",
   "metadata": {
    "tags": []
   },
   "outputs": [],
   "source": [
    "def standardize(tbl, col):\n",
    "    \"Standardize a column in a data table.\"\n",
    "    new_col_name = col + \"_z\"\n",
    "    col_data = tbl.column(col)\n",
    "    average = np.mean(col_data)\n",
    "    stdev = np.std(col_data)\n",
    "    new_tbl = tbl.with_column(new_col_name, (col_data - average) / stdev)\n",
    "    return new_tbl"
   ]
  },
  {
   "cell_type": "code",
   "execution_count": null,
   "id": "d8974149-7981-4c48-a1ae-e4a43f65ab25",
   "metadata": {
    "tags": []
   },
   "outputs": [],
   "source": [
    "heart = standardize(heart, \"age\")\n",
    "heart = standardize(heart, \"chol\")\n",
    "heart.show(3)"
   ]
  },
  {
   "cell_type": "code",
   "execution_count": null,
   "id": "b886554a-f248-49aa-b515-0466a8c7f05a",
   "metadata": {
    "tags": []
   },
   "outputs": [],
   "source": [
    "heart.select(\"age_z\", \"chol_z\").hist(bins=20)"
   ]
  },
  {
   "cell_type": "code",
   "execution_count": null,
   "id": "4426bb8d-70a0-48c8-9f21-aa016f5e0d63",
   "metadata": {
    "tags": []
   },
   "outputs": [],
   "source": [
    "heart.select(\"age_z\", \"chol_z\").hist(bins=np.arange(-5, 7, 0.5), overlay=False)"
   ]
  },
  {
   "cell_type": "markdown",
   "id": "14fc05a8-99cc-4d4e-b148-096d3173f195",
   "metadata": {},
   "source": [
    "### Q-Q Plots -- Testing whether or not a distibution is Normal"
   ]
  },
  {
   "cell_type": "code",
   "execution_count": null,
   "id": "d22a5a4a-01bc-45f2-aa4e-aec71a48fe35",
   "metadata": {
    "tags": []
   },
   "outputs": [],
   "source": [
    "import statsmodels.api as sm\n",
    "import seaborn as sns\n",
    "from scipy.stats import norm"
   ]
  },
  {
   "cell_type": "code",
   "execution_count": null,
   "id": "7a02c9b5-e5de-4b0d-8b48-37fb0aae37be",
   "metadata": {
    "tags": []
   },
   "outputs": [],
   "source": [
    "fig, ax = plt.subplots()\n",
    "data = heart.column('age_z')\n",
    "sns.histplot(data, kde=False, stat='density', bins=30, ax=ax)\n",
    "xx = np.linspace(data.min(), data.max(), 100)\n",
    "ax.plot(xx, norm.pdf(xx, *norm.fit(data)), lw=2.5, color=\"k\")\n",
    "ax.set_xlim([-3,3])"
   ]
  },
  {
   "cell_type": "code",
   "execution_count": null,
   "id": "1f904dba-b9b6-47bf-8ce6-7cff33d5112d",
   "metadata": {
    "tags": []
   },
   "outputs": [],
   "source": [
    "fig = sm.qqplot(heart.column('age_z'), line='45')"
   ]
  },
  {
   "cell_type": "code",
   "execution_count": null,
   "id": "419a4a5e-bddc-44da-be2d-5e4373eb788a",
   "metadata": {},
   "outputs": [],
   "source": [
    "fig, ax = plt.subplots()\n",
    "data = heart.column('chol_z')\n",
    "sns.histplot(data, kde=False, stat='density', ax=ax)\n",
    "xx = np.linspace(data.min(), data.max(), 100)\n",
    "ax.plot(xx, norm.pdf(xx, *norm.fit(data)), lw=2.5, color=\"k\")"
   ]
  },
  {
   "cell_type": "code",
   "execution_count": null,
   "id": "136fc604-7e1f-4fe7-b182-bc182afd42c4",
   "metadata": {
    "tags": []
   },
   "outputs": [],
   "source": [
    "fig = sm.qqplot(heart.column('chol_z'), line='45')"
   ]
  },
  {
   "cell_type": "markdown",
   "id": "107a8f56-6e37-4ba3-a6b2-35f446959f61",
   "metadata": {},
   "source": [
    "### Central Limit Theorem in Action"
   ]
  },
  {
   "cell_type": "code",
   "execution_count": null,
   "id": "e14b8555-562e-4d3e-bf69-719e4961876c",
   "metadata": {
    "tags": []
   },
   "outputs": [],
   "source": [
    "population_size = 1000000\n",
    "population = np.random.rand(1000000)\n",
    "number_of_samples = 10\n",
    "sample_means = np.random.rand(number_of_samples)\n",
    "\n",
    "# Watch what happens as we grow the sample size.\n",
    "sample_size = 50\n",
    "\n",
    "c = np.random.rand(number_of_samples)\n",
    "for i in range(0,number_of_samples):\n",
    " c = np.random.randint(1,population_size,sample_size)\n",
    " sample_means[i] = population[c].mean()"
   ]
  },
  {
   "cell_type": "code",
   "execution_count": null,
   "id": "b1020070-99cc-46da-bbbe-bc38d1a5b3d8",
   "metadata": {
    "tags": []
   },
   "outputs": [],
   "source": [
    "plt.subplot(1,2,1)\n",
    "plt.xticks(fontsize=14)\n",
    "plt.yticks(fontsize=14)\n",
    "sns.histplot(sample_means,bins=int(180/5), kde=True, stat='density')\n",
    "plt.title('Histogram of Sample mean',fontsize=20)\n",
    "plt.xlabel('Sample mean',fontsize=20)\n",
    "plt.ylabel('Count',fontsize=20)\n",
    "plt.subplot(1,2,2)\n",
    "plt.xticks(fontsize=14)\n",
    "plt.yticks(fontsize=14)\n",
    "ax = plt.gca()\n",
    "sample_means_z = (sample_means - np.mean(sample_means)) / np.std(sample_means)\n",
    "sm.qqplot(sample_means_z, line='45', ax=ax)\n",
    "plt.title('Q-Q Plot',fontsize=20)\n",
    "plt.xlabel('Sample mean',fontsize=20)\n",
    "plt.ylabel('Density',fontsize=20)\n",
    "plt.subplots_adjust(bottom=0.1, right=2, top=0.9)"
   ]
  },
  {
   "cell_type": "markdown",
   "id": "cc0b1516-1299-4a09-8f6e-0382a8c3f749",
   "metadata": {},
   "source": [
    "### Mt. Saint Helens Tips"
   ]
  },
  {
   "cell_type": "code",
   "execution_count": null,
   "id": "00cf5a2f-0e1b-448b-abea-1ba9c1b538cd",
   "metadata": {
    "tags": []
   },
   "outputs": [],
   "source": [
    "datafile = \"../Mini-II/data/MSH_STRUCTURE_PLOT_YEAR.csv\"\n",
    "MSH_YEAR = Table.read_table(datafile)\n",
    "MSH_YEAR"
   ]
  },
  {
   "cell_type": "code",
   "execution_count": null,
   "id": "e0611be4-bcfd-4865-94b5-44daf3ef3542",
   "metadata": {
    "tags": []
   },
   "outputs": [],
   "source": [
    "MSH_YEAR.where('PLOT_NAME','STRD').scatter(\"YEAR\",\"RICHNESS\")"
   ]
  },
  {
   "cell_type": "code",
   "execution_count": null,
   "id": "0724a122-b409-4730-8e39-e352989afa7e",
   "metadata": {
    "tags": []
   },
   "outputs": [],
   "source": [
    "MSH_YEAR.where('PLOT_NAME','STRD').group(\"YEAR\",np.mean)"
   ]
  },
  {
   "cell_type": "code",
   "execution_count": null,
   "id": "a4b8b3da-8015-4bef-bd5c-c176a8f11c58",
   "metadata": {
    "tags": []
   },
   "outputs": [],
   "source": [
    "strd_year = MSH_YEAR.where('PLOT_NAME','STRD').group(\"YEAR\",np.mean)\n",
    "strd_year.show(3)"
   ]
  },
  {
   "cell_type": "code",
   "execution_count": null,
   "id": "0b7a3a43-3758-48af-b4de-5c635c2fbb2b",
   "metadata": {},
   "outputs": [],
   "source": [
    "strd_year.scatter(\"YEAR\", \"RICHNESS mean\")"
   ]
  },
  {
   "cell_type": "code",
   "execution_count": null,
   "id": "45b19b09-ce38-457e-a5f9-4f26b117fe21",
   "metadata": {
    "tags": []
   },
   "outputs": [],
   "source": [
    "# Just like the lab on climate change\n",
    "def simulate_under_null(num_chances_to_change):\n",
    "    uniform = Table().with_columns(\n",
    "        \"Change\", make_array('Increase', 'Decrease'),\n",
    "        \"Chance\", make_array(0.5,        0.5))\n",
    "    sample = uniform.sample_from_distribution('Chance', num_chances_to_change)     \n",
    "    increases = sample.column(\"Chance sample\").item(0) \n",
    "    decreases = sample.column(\"Chance sample\").item(1)  \n",
    "    return increases - decreases  \n",
    "\n",
    "def empirical_distribution(tbl,iterations):\n",
    "    num_changes = tbl.num_rows \n",
    "    samples = make_array()\n",
    "    for i in np.arange(iterations):\n",
    "        samples = np.append(samples, simulate_under_null(num_changes)) \n",
    "    Table().with_column('Test statistic under null', samples).hist(bins=np.arange(min(samples), max(samples) + max(samples) , 2))\n",
    "    return samples"
   ]
  },
  {
   "cell_type": "code",
   "execution_count": null,
   "id": "ec28d385-8a9c-470b-aaa5-4c4ceee6c016",
   "metadata": {
    "tags": []
   },
   "outputs": [],
   "source": [
    "samples = empirical_distribution(strd_year,10000)"
   ]
  },
  {
   "cell_type": "code",
   "execution_count": null,
   "id": "cff37647-8524-4883-ba9f-b9cfffe9830b",
   "metadata": {
    "tags": []
   },
   "outputs": [],
   "source": [
    "def diff_n(values, n):\n",
    "    return np.array(values)[n:] - np.array(values)[:-n]\n",
    "\n",
    "def changes(rates, years = 1):\n",
    "    \"Return the number of increases minus the number of decreases after two years.\"\n",
    "    differences = diff_n(rates, years)  \n",
    "    positives = np.count_nonzero(differences > 0)\n",
    "    negatives = np.count_nonzero(differences < 0) \n",
    "    return positives - negatives  "
   ]
  },
  {
   "cell_type": "code",
   "execution_count": null,
   "id": "d2b3ab8e-cd8a-4cc0-b2ce-f524ee0aa0db",
   "metadata": {
    "tags": []
   },
   "outputs": [],
   "source": [
    "num_obs = strd_year.num_rows\n",
    "num_obs"
   ]
  },
  {
   "cell_type": "code",
   "execution_count": null,
   "id": "dc3735c8-3cb4-4cd4-aee5-f098fae0fb63",
   "metadata": {
    "tags": []
   },
   "outputs": [],
   "source": [
    "num_pos_changes = changes(strd_year.column('RICHNESS mean'))\n",
    "num_pos_changes"
   ]
  },
  {
   "cell_type": "code",
   "execution_count": null,
   "id": "5b28bb2a-bb5c-4c72-9b15-baeee844eba3",
   "metadata": {
    "tags": []
   },
   "outputs": [],
   "source": [
    "# Calculate p-value\n",
    "np.count_nonzero(samples > num_pos_changes) / len(samples)"
   ]
  },
  {
   "cell_type": "code",
   "execution_count": null,
   "id": "5554c2f5-dfdd-4632-ae4b-f692a2e8d126",
   "metadata": {
    "tags": []
   },
   "outputs": [],
   "source": [
    "before2001 = strd_year.where('YEAR', are.below(2001))\n",
    "before2001.scatter(\"YEAR\", \"RICHNESS mean\")"
   ]
  },
  {
   "cell_type": "code",
   "execution_count": null,
   "id": "293f9d0e-22a5-4fa6-a829-f6aa5579199e",
   "metadata": {
    "tags": []
   },
   "outputs": [],
   "source": [
    "num_obs = before2001.num_rows\n",
    "num_obs"
   ]
  },
  {
   "cell_type": "code",
   "execution_count": null,
   "id": "1182d1b7-6cab-4db7-a9a6-2e430b800005",
   "metadata": {
    "tags": []
   },
   "outputs": [],
   "source": [
    "num_pos_changes = changes(before2001.column('RICHNESS mean'))\n",
    "num_pos_changes"
   ]
  },
  {
   "cell_type": "code",
   "execution_count": null,
   "id": "13d8b455-4723-40b9-a8e8-6ab0e1a4b2f7",
   "metadata": {
    "tags": []
   },
   "outputs": [],
   "source": [
    "samples = empirical_distribution(before2001,10000)"
   ]
  },
  {
   "cell_type": "code",
   "execution_count": null,
   "id": "a8d0e69f-f59f-4a9a-b31f-e4192a9e37c6",
   "metadata": {
    "tags": []
   },
   "outputs": [],
   "source": [
    "# Calculate p-value\n",
    "np.count_nonzero(samples > num_pos_changes) / len(samples)"
   ]
  }
 ],
 "metadata": {
  "kernelspec": {
   "display_name": "Python 3 (ipykernel)",
   "language": "python",
   "name": "python3"
  },
  "language_info": {
   "codemirror_mode": {
    "name": "ipython",
    "version": 3
   },
   "file_extension": ".py",
   "mimetype": "text/x-python",
   "name": "python",
   "nbconvert_exporter": "python",
   "pygments_lexer": "ipython3",
   "version": "3.10.11"
  }
 },
 "nbformat": 4,
 "nbformat_minor": 5
}
