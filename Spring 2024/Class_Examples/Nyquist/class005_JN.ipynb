{
 "cells": [
  {
   "cell_type": "markdown",
   "id": "f9302cc6-3ec1-416f-9064-f482a98075c4",
   "metadata": {
    "jp-MarkdownHeadingCollapsed": true,
    "tags": []
   },
   "source": [
    "## Class 005\n",
    "*Working with data*: datascience Table"
   ]
  },
  {
   "cell_type": "markdown",
   "id": "36bcf723-8571-4e8f-95af-ba3f07a0744b",
   "metadata": {},
   "source": [
    "## Learning Goals for Lab 03\n",
    "### Loading Data Sets and Exploratory Data Analysis\n",
    "*neccessary*: \n",
    "`from datascience import *`\n",
    "- Table is a new Variable & Data Types\n",
    "    - Strings\n",
    "    - Integer\n",
    "    - float\n",
    "    - list [ ]\n",
    "    - numpy.array\n",
    "    - datascience.tables.Table\n",
    "- arrays: from datascience import *\n",
    "    - `make_array(0.125, 4.75, -1.3)` \n",
    "- arrays: import numpy as np\n",
    "    - `np.array([0, 1, -1, math.pi, math.e])`\n",
    "    - `np.arange(1,13)` \n",
    "- lists: [1, 2, 3, 4]\n",
    "#### Table\n",
    "- `T=Table().with_columns('Month',np.arange(1,13))`\n",
    "- `Table.read_table(data)`\n"
   ]
  },
  {
   "cell_type": "markdown",
   "id": "48fcc9e7-acf3-4370-841c-152e50070b71",
   "metadata": {},
   "source": [
    "#### Initialize with imported new functionality for plotting data."
   ]
  },
  {
   "cell_type": "code",
   "execution_count": 32,
   "id": "8b570ee0-306d-4fad-8ffa-e4b3b356922e",
   "metadata": {
    "tags": []
   },
   "outputs": [],
   "source": [
    "# import for plotting\n",
    "import matplotlib.pyplot as plt\n",
    "plt.style.use('fivethirtyeight')\n",
    "\n",
    "%matplotlib inline"
   ]
  },
  {
   "cell_type": "markdown",
   "id": "21329f9b-126e-4efd-9076-432c5bce1ad1",
   "metadata": {},
   "source": [
    "### First data table"
   ]
  },
  {
   "cell_type": "code",
   "execution_count": 33,
   "id": "cbb1a72d-9dc0-4a3d-8d09-a16def7346f6",
   "metadata": {
    "tags": []
   },
   "outputs": [],
   "source": [
    "from datascience import *\n",
    "import numpy as np\n",
    "\n",
    "# Creates a table with one column\n",
    "T=Table().with_columns('Month',np.arange(1,13))"
   ]
  },
  {
   "cell_type": "code",
   "execution_count": 34,
   "id": "3cccb1ee-fb44-40bc-943e-b0943efa931d",
   "metadata": {
    "tags": []
   },
   "outputs": [],
   "source": [
    "# Adds a another column\n",
    "T=T.with_columns('Average_SnowFall (inch)',make_array(5.6,5.6,2.4,0.1,0,0,0,0,0,0,0.1,3.2))"
   ]
  },
  {
   "cell_type": "code",
   "execution_count": 35,
   "id": "7e4654c5-3c27-4230-bb55-fce1450dbd13",
   "metadata": {
    "tags": []
   },
   "outputs": [
    {
     "data": {
      "text/html": [
       "<table border=\"1\" class=\"dataframe\">\n",
       "    <thead>\n",
       "        <tr>\n",
       "            <th>Month</th> <th>Average_SnowFall (inch)</th>\n",
       "        </tr>\n",
       "    </thead>\n",
       "    <tbody>\n",
       "        <tr>\n",
       "            <td>1    </td> <td>5.6                    </td>\n",
       "        </tr>\n",
       "        <tr>\n",
       "            <td>2    </td> <td>5.6                    </td>\n",
       "        </tr>\n",
       "        <tr>\n",
       "            <td>3    </td> <td>2.4                    </td>\n",
       "        </tr>\n",
       "        <tr>\n",
       "            <td>4    </td> <td>0.1                    </td>\n",
       "        </tr>\n",
       "        <tr>\n",
       "            <td>5    </td> <td>0                      </td>\n",
       "        </tr>\n",
       "        <tr>\n",
       "            <td>6    </td> <td>0                      </td>\n",
       "        </tr>\n",
       "        <tr>\n",
       "            <td>7    </td> <td>0                      </td>\n",
       "        </tr>\n",
       "        <tr>\n",
       "            <td>8    </td> <td>0                      </td>\n",
       "        </tr>\n",
       "        <tr>\n",
       "            <td>9    </td> <td>0                      </td>\n",
       "        </tr>\n",
       "        <tr>\n",
       "            <td>10   </td> <td>0                      </td>\n",
       "        </tr>\n",
       "        <tr>\n",
       "            <td>11   </td> <td>0.1                    </td>\n",
       "        </tr>\n",
       "        <tr>\n",
       "            <td>12   </td> <td>3.2                    </td>\n",
       "        </tr>\n",
       "    </tbody>\n",
       "</table>"
      ],
      "text/plain": [
       "<IPython.core.display.HTML object>"
      ]
     },
     "metadata": {},
     "output_type": "display_data"
    }
   ],
   "source": [
    "T.show()"
   ]
  },
  {
   "cell_type": "markdown",
   "id": "e3ab1cb6-94b5-4d6c-81f9-3aaeea329a6d",
   "metadata": {},
   "source": [
    "## A digression on the Calendar Module\n",
    "\n",
    "**calendar** is a module useful for various date, month, year tasks.\n",
    "For example, you can use it to print a calendar."
   ]
  },
  {
   "cell_type": "code",
   "execution_count": 36,
   "id": "83479ee1-d6c3-4952-9375-a6d3aa9e8c31",
   "metadata": {
    "tags": []
   },
   "outputs": [
    {
     "name": "stdout",
     "output_type": "stream",
     "text": [
      "   September 2023\n",
      "Su Mo Tu We Th Fr Sa\n",
      "                1  2\n",
      " 3  4  5  6  7  8  9\n",
      "10 11 12 13 14 15 16\n",
      "17 18 19 20 21 22 23\n",
      "24 25 26 27 28 29 30\n",
      "\n"
     ]
    }
   ],
   "source": [
    "import calendar\n",
    "\n",
    "c = calendar.TextCalendar(calendar.SUNDAY)\n",
    "str = c.formatmonth(2023, 9)\n",
    "print(str)"
   ]
  },
  {
   "cell_type": "markdown",
   "id": "94e8e948-c850-4807-90ab-9db989f22caf",
   "metadata": {},
   "source": [
    "The calendar module provides access to the names of the months in a list."
   ]
  },
  {
   "cell_type": "code",
   "execution_count": 37,
   "id": "9f0b6f13-21dd-4afc-aea8-2ce2d9a4e1a1",
   "metadata": {
    "tags": []
   },
   "outputs": [
    {
     "name": "stdout",
     "output_type": "stream",
     "text": [
      "January\n",
      "December\n"
     ]
    }
   ],
   "source": [
    "print(calendar.month_name[1])\n",
    "print(calendar.month_name[12])"
   ]
  },
  {
   "cell_type": "code",
   "execution_count": 38,
   "id": "78e13c1d-8bb7-4a57-a62f-05eb7b748074",
   "metadata": {
    "tags": []
   },
   "outputs": [
    {
     "data": {
      "text/plain": [
       "['January',\n",
       " 'February',\n",
       " 'March',\n",
       " 'April',\n",
       " 'May',\n",
       " 'June',\n",
       " 'July',\n",
       " 'August',\n",
       " 'September',\n",
       " 'October',\n",
       " 'November',\n",
       " 'December']"
      ]
     },
     "execution_count": 38,
     "metadata": {},
     "output_type": "execute_result"
    }
   ],
   "source": [
    "# Extract months 1 through 12. Remember: slicing goes up to but not including the last number.\n",
    "calendar.month_name[1:13]"
   ]
  },
  {
   "cell_type": "markdown",
   "id": "d3f40464-7cbf-4daf-be18-5b71a216edf8",
   "metadata": {},
   "source": [
    "## Back to our first table"
   ]
  },
  {
   "cell_type": "code",
   "execution_count": 39,
   "id": "d0df4fa2-a077-449c-b910-2ad5bef76745",
   "metadata": {
    "tags": []
   },
   "outputs": [
    {
     "data": {
      "text/plain": [
       "['January',\n",
       " 'February',\n",
       " 'March',\n",
       " 'April',\n",
       " 'May',\n",
       " 'June',\n",
       " 'July',\n",
       " 'August',\n",
       " 'September',\n",
       " 'October',\n",
       " 'November',\n",
       " 'December']"
      ]
     },
     "execution_count": 39,
     "metadata": {},
     "output_type": "execute_result"
    }
   ],
   "source": [
    "# Little nice trick to get months in list\n",
    "import calendar\n",
    "m = calendar.month_name[1:13]\n",
    "m"
   ]
  },
  {
   "cell_type": "code",
   "execution_count": 40,
   "id": "12cae7f0-b5c3-41dc-9a80-48a89762361e",
   "metadata": {
    "tags": []
   },
   "outputs": [
    {
     "data": {
      "text/html": [
       "<table border=\"1\" class=\"dataframe\">\n",
       "    <thead>\n",
       "        <tr>\n",
       "            <th>Month</th> <th>Average_SnowFall (inch)</th>\n",
       "        </tr>\n",
       "    </thead>\n",
       "    <tbody>\n",
       "        <tr>\n",
       "            <td>January  </td> <td>5.6                    </td>\n",
       "        </tr>\n",
       "        <tr>\n",
       "            <td>February </td> <td>5.6                    </td>\n",
       "        </tr>\n",
       "        <tr>\n",
       "            <td>March    </td> <td>2.4                    </td>\n",
       "        </tr>\n",
       "        <tr>\n",
       "            <td>April    </td> <td>0.1                    </td>\n",
       "        </tr>\n",
       "        <tr>\n",
       "            <td>May      </td> <td>0                      </td>\n",
       "        </tr>\n",
       "        <tr>\n",
       "            <td>June     </td> <td>0                      </td>\n",
       "        </tr>\n",
       "        <tr>\n",
       "            <td>July     </td> <td>0                      </td>\n",
       "        </tr>\n",
       "        <tr>\n",
       "            <td>August   </td> <td>0                      </td>\n",
       "        </tr>\n",
       "        <tr>\n",
       "            <td>September</td> <td>0                      </td>\n",
       "        </tr>\n",
       "        <tr>\n",
       "            <td>October  </td> <td>0                      </td>\n",
       "        </tr>\n",
       "        <tr>\n",
       "            <td>November </td> <td>0.1                    </td>\n",
       "        </tr>\n",
       "        <tr>\n",
       "            <td>December </td> <td>3.2                    </td>\n",
       "        </tr>\n",
       "    </tbody>\n",
       "</table>"
      ],
      "text/plain": [
       "<IPython.core.display.HTML object>"
      ]
     },
     "metadata": {},
     "output_type": "display_data"
    }
   ],
   "source": [
    "# Replace the column with month names instead of numbers\n",
    "T=T.with_columns('Month',m)\n",
    "T.show()"
   ]
  },
  {
   "cell_type": "code",
   "execution_count": 41,
   "id": "b6d64c05-245d-4249-9cce-32b333f889ea",
   "metadata": {
    "tags": []
   },
   "outputs": [
    {
     "data": {
      "text/html": [
       "<table border=\"1\" class=\"dataframe\">\n",
       "    <thead>\n",
       "        <tr>\n",
       "            <th>Month</th> <th>Average_SnowFall (inch)</th>\n",
       "        </tr>\n",
       "    </thead>\n",
       "    <tbody>\n",
       "        <tr>\n",
       "            <td>January </td> <td>5.6                    </td>\n",
       "        </tr>\n",
       "        <tr>\n",
       "            <td>February</td> <td>5.6                    </td>\n",
       "        </tr>\n",
       "        <tr>\n",
       "            <td>December</td> <td>3.2                    </td>\n",
       "        </tr>\n",
       "        <tr>\n",
       "            <td>March   </td> <td>2.4                    </td>\n",
       "        </tr>\n",
       "        <tr>\n",
       "            <td>April   </td> <td>0.1                    </td>\n",
       "        </tr>\n",
       "        <tr>\n",
       "            <td>November</td> <td>0.1                    </td>\n",
       "        </tr>\n",
       "        <tr>\n",
       "            <td>May     </td> <td>0                      </td>\n",
       "        </tr>\n",
       "        <tr>\n",
       "            <td>June    </td> <td>0                      </td>\n",
       "        </tr>\n",
       "        <tr>\n",
       "            <td>July    </td> <td>0                      </td>\n",
       "        </tr>\n",
       "        <tr>\n",
       "            <td>August  </td> <td>0                      </td>\n",
       "        </tr>\n",
       "    </tbody>\n",
       "</table>\n",
       "<p>... (2 rows omitted)</p>"
      ],
      "text/plain": [
       "Month    | Average_SnowFall (inch)\n",
       "January  | 5.6\n",
       "February | 5.6\n",
       "December | 3.2\n",
       "March    | 2.4\n",
       "April    | 0.1\n",
       "November | 0.1\n",
       "May      | 0\n",
       "June     | 0\n",
       "July     | 0\n",
       "August   | 0\n",
       "... (2 rows omitted)"
      ]
     },
     "execution_count": 41,
     "metadata": {},
     "output_type": "execute_result"
    }
   ],
   "source": [
    "# Sort months by snowfall amounts\n",
    "T.sort('Average_SnowFall (inch)', descending=True)"
   ]
  },
  {
   "cell_type": "code",
   "execution_count": 42,
   "id": "f277f70d-10fd-4b14-8e79-47315c9afc44",
   "metadata": {
    "tags": []
   },
   "outputs": [
    {
     "data": {
      "image/png": "[encoded data removed]",
      "text/plain": [
       "<Figure size 600x600 with 1 Axes>"
      ]
     },
     "metadata": {},
     "output_type": "display_data"
    }
   ],
   "source": [
    "# Create a horizontal bar chart:  table.barh(Category, values)\n",
    "T.barh('Month', 'Average_SnowFall (inch)')"
   ]
  },
  {
   "cell_type": "markdown",
   "id": "0a43a0ec-2cc9-478d-8f2d-e57f58bd62c4",
   "metadata": {},
   "source": [
    "### Google trend data example\n",
    "#### "
   ]
  },
  {
   "cell_type": "code",
   "execution_count": 43,
   "id": "03e7c69b-ee11-4780-acff-85cc2f824a3f",
   "metadata": {
    "tags": []
   },
   "outputs": [
    {
     "name": "stdout",
     "output_type": "stream",
     "text": [
      "4 168\n"
     ]
    },
    {
     "data": {
      "text/html": [
       "<table border=\"1\" class=\"dataframe\">\n",
       "    <thead>\n",
       "        <tr>\n",
       "            <th>Time</th> <th>Philadelphia Eagles: (Worldwide)</th> <th>San Francisco 49ers: (Worldwide)</th> <th>Kansas City Chiefs: (Worldwide)</th>\n",
       "        </tr>\n",
       "    </thead>\n",
       "    <tbody>\n",
       "        <tr>\n",
       "            <td>2023-01-23T12</td> <td>2                               </td> <td>3                               </td> <td>1                              </td>\n",
       "        </tr>\n",
       "        <tr>\n",
       "            <td>2023-01-23T13</td> <td>2                               </td> <td>3                               </td> <td>1                              </td>\n",
       "        </tr>\n",
       "        <tr>\n",
       "            <td>2023-01-23T14</td> <td>2                               </td> <td>3                               </td> <td>1                              </td>\n",
       "        </tr>\n",
       "        <tr>\n",
       "            <td>2023-01-23T15</td> <td>2                               </td> <td>3                               </td> <td>1                              </td>\n",
       "        </tr>\n",
       "        <tr>\n",
       "            <td>2023-01-23T16</td> <td>2                               </td> <td>3                               </td> <td>1                              </td>\n",
       "        </tr>\n",
       "        <tr>\n",
       "            <td>2023-01-23T17</td> <td>2                               </td> <td>3                               </td> <td>1                              </td>\n",
       "        </tr>\n",
       "        <tr>\n",
       "            <td>2023-01-23T18</td> <td>2                               </td> <td>3                               </td> <td>1                              </td>\n",
       "        </tr>\n",
       "        <tr>\n",
       "            <td>2023-01-23T19</td> <td>2                               </td> <td>3                               </td> <td>1                              </td>\n",
       "        </tr>\n",
       "        <tr>\n",
       "            <td>2023-01-23T20</td> <td>2                               </td> <td>3                               </td> <td>1                              </td>\n",
       "        </tr>\n",
       "        <tr>\n",
       "            <td>2023-01-23T21</td> <td>2                               </td> <td>3                               </td> <td>1                              </td>\n",
       "        </tr>\n",
       "    </tbody>\n",
       "</table>\n",
       "<p>... (158 rows omitted)</p>"
      ],
      "text/plain": [
       "Time          | Philadelphia Eagles: (Worldwide) | San Francisco 49ers: (Worldwide) | Kansas City Chiefs: (Worldwide)\n",
       "2023-01-23T12 | 2                                | 3                                | 1\n",
       "2023-01-23T13 | 2                                | 3                                | 1\n",
       "2023-01-23T14 | 2                                | 3                                | 1\n",
       "2023-01-23T15 | 2                                | 3                                | 1\n",
       "2023-01-23T16 | 2                                | 3                                | 1\n",
       "2023-01-23T17 | 2                                | 3                                | 1\n",
       "2023-01-23T18 | 2                                | 3                                | 1\n",
       "2023-01-23T19 | 2                                | 3                                | 1\n",
       "2023-01-23T20 | 2                                | 3                                | 1\n",
       "2023-01-23T21 | 2                                | 3                                | 1\n",
       "... (158 rows omitted)"
      ]
     },
     "execution_count": 43,
     "metadata": {},
     "output_type": "execute_result"
    }
   ],
   "source": [
    "# Read a table from a CSV file\n",
    "path = 'data/'\n",
    "data = path + 'Gtrend_NFC_012923.csv'\n",
    "Gtrend = Table.read_table(data)\n",
    "print(Gtrend.num_columns, Gtrend.num_rows)\n",
    "Gtrend"
   ]
  },
  {
   "cell_type": "markdown",
   "id": "d48ab047-2724-4f8e-b672-e9cc3cd20979",
   "metadata": {},
   "source": [
    "### Google Trend Numbers\n",
    "Understanding the numbers Indexing: Google Trends data is pulled from a random, unbiased sample of Google searches, which means we don't have exact numbers for any terms or topics. In order to give a value to terms, we index data from 1-100, where 100 is the maximum search interest for the time and location selected."
   ]
  },
  {
   "cell_type": "code",
   "execution_count": 44,
   "id": "ca9f79b3-6a98-4b95-b83a-ccf29095eddc",
   "metadata": {
    "tags": []
   },
   "outputs": [
    {
     "data": {
      "application/vnd.plotly.v1+json": {
       "config": {
        "plotlyServerURL": "https://plot.ly"
       },
       "data": [
        {
         "hovertemplate": "variable=wide_variable_0<br>x=%{x}<br>value=%{y}<extra></extra>",
         "legendgroup": "wide_variable_0",
         "line": {
          "color": "#636efa",
          "dash": "solid"
         },
         "marker": {
          "symbol": "circle"
         },
         "mode": "lines",
         "name": "wide_variable_0",
         "orientation": "v",
         "showlegend": true,
         "type": "scatter",
         "x": [
          "2023-01-23T12:00:00",
          "2023-01-23T13:00:00",
          "2023-01-23T14:00:00",
          "2023-01-23T15:00:00",
          "2023-01-23T16:00:00",
          "2023-01-23T17:00:00",
          "2023-01-23T18:00:00",
          "2023-01-23T19:00:00",
          "2023-01-23T20:00:00",
          "2023-01-23T21:00:00",
          "2023-01-23T22:00:00",
          "2023-01-23T23:00:00",
          "2023-01-24T00:00:00",
          "2023-01-24T01:00:00",
          "2023-01-24T02:00:00",
          "2023-01-24T03:00:00",
          "2023-01-24T04:00:00",
          "2023-01-24T05:00:00",
          "2023-01-24T06:00:00",
          "2023-01-24T07:00:00",
          "2023-01-24T08:00:00",
          "2023-01-24T09:00:00",
          "2023-01-24T10:00:00",
          "2023-01-24T11:00:00",
          "2023-01-24T12:00:00",
          "2023-01-24T13:00:00",
          "2023-01-24T14:00:00",
          "2023-01-24T15:00:00",
          "2023-01-24T16:00:00",
          "2023-01-24T17:00:00",
          "2023-01-24T18:00:00",
          "2023-01-24T19:00:00",
          "2023-01-24T20:00:00",
          "2023-01-24T21:00:00",
          "2023-01-24T22:00:00",
          "2023-01-24T23:00:00",
          "2023-01-25T00:00:00",
          "2023-01-25T01:00:00",
          "2023-01-25T02:00:00",
          "2023-01-25T03:00:00",
          "2023-01-25T04:00:00",
          "2023-01-25T05:00:00",
          "2023-01-25T06:00:00",
          "2023-01-25T07:00:00",
          "2023-01-25T08:00:00",
          "2023-01-25T09:00:00",
          "2023-01-25T10:00:00",
          "2023-01-25T11:00:00",
          "2023-01-25T12:00:00",
          "2023-01-25T13:00:00",
          "2023-01-25T14:00:00",
          "2023-01-25T15:00:00",
          "2023-01-25T16:00:00",
          "2023-01-25T17:00:00",
          "2023-01-25T18:00:00",
          "2023-01-25T19:00:00",
          "2023-01-25T20:00:00",
          "2023-01-25T21:00:00",
          "2023-01-25T22:00:00",
          "2023-01-25T23:00:00",
          "2023-01-26T00:00:00",
          "2023-01-26T01:00:00",
          "2023-01-26T02:00:00",
          "2023-01-26T03:00:00",
          "2023-01-26T04:00:00",
          "2023-01-26T05:00:00",
          "2023-01-26T06:00:00",
          "2023-01-26T07:00:00",
          "2023-01-26T08:00:00",
          "2023-01-26T09:00:00",
          "2023-01-26T10:00:00",
          "2023-01-26T11:00:00",
          "2023-01-26T12:00:00",
          "2023-01-26T13:00:00",
          "2023-01-26T14:00:00",
          "2023-01-26T15:00:00",
          "2023-01-26T16:00:00",
          "2023-01-26T17:00:00",
          "2023-01-26T18:00:00",
          "2023-01-26T19:00:00",
          "2023-01-26T20:00:00",
          "2023-01-26T21:00:00",
          "2023-01-26T22:00:00",
          "2023-01-26T23:00:00",
          "2023-01-27T00:00:00",
          "2023-01-27T01:00:00",
          "2023-01-27T02:00:00",
          "2023-01-27T03:00:00",
          "2023-01-27T04:00:00",
          "2023-01-27T05:00:00",
          "2023-01-27T06:00:00",
          "2023-01-27T07:00:00",
          "2023-01-27T08:00:00",
          "2023-01-27T09:00:00",
          "2023-01-27T10:00:00",
          "2023-01-27T11:00:00",
          "2023-01-27T12:00:00",
          "2023-01-27T13:00:00",
          "2023-01-27T14:00:00",
          "2023-01-27T15:00:00",
          "2023-01-27T16:00:00",
          "2023-01-27T17:00:00",
          "2023-01-27T18:00:00",
          "2023-01-27T19:00:00",
          "2023-01-27T20:00:00",
          "2023-01-27T21:00:00",
          "2023-01-27T22:00:00",
          "2023-01-27T23:00:00",
          "2023-01-28T00:00:00",
          "2023-01-28T01:00:00",
          "2023-01-28T02:00:00",
          "2023-01-28T03:00:00",
          "2023-01-28T04:00:00",
          "2023-01-28T05:00:00",
          "2023-01-28T06:00:00",
          "2023-01-28T07:00:00",
          "2023-01-28T08:00:00",
          "2023-01-28T09:00:00",
          "2023-01-28T10:00:00",
          "2023-01-28T11:00:00",
          "2023-01-28T12:00:00",
          "2023-01-28T13:00:00",
          "2023-01-28T14:00:00",
          "2023-01-28T15:00:00",
          "2023-01-28T16:00:00",
          "2023-01-28T17:00:00",
          "2023-01-28T18:00:00",
          "2023-01-28T19:00:00",
          "2023-01-28T20:00:00",
          "2023-01-28T21:00:00",
          "2023-01-28T22:00:00",
          "2023-01-28T23:00:00",
          "2023-01-29T00:00:00",
          "2023-01-29T01:00:00",
          "2023-01-29T02:00:00",
          "2023-01-29T03:00:00",
          "2023-01-29T04:00:00",
          "2023-01-29T05:00:00",
          "2023-01-29T06:00:00",
          "2023-01-29T07:00:00",
          "2023-01-29T08:00:00",
          "2023-01-29T09:00:00",
          "2023-01-29T10:00:00",
          "2023-01-29T11:00:00",
          "2023-01-29T12:00:00",
          "2023-01-29T13:00:00",
          "2023-01-29T14:00:00",
          "2023-01-29T15:00:00",
          "2023-01-29T16:00:00",
          "2023-01-29T17:00:00",
          "2023-01-29T18:00:00",
          "2023-01-29T19:00:00",
          "2023-01-29T20:00:00",
          "2023-01-29T21:00:00",
          "2023-01-29T22:00:00",
          "2023-01-29T23:00:00",
          "2023-01-30T00:00:00",
          "2023-01-30T01:00:00",
          "2023-01-30T02:00:00",
          "2023-01-30T03:00:00",
          "2023-01-30T04:00:00",
          "2023-01-30T05:00:00",
          "2023-01-30T06:00:00",
          "2023-01-30T07:00:00",
          "2023-01-30T08:00:00",
          "2023-01-30T09:00:00",
          "2023-01-30T10:00:00",
          "2023-01-30T11:00:00"
         ],
         "xaxis": "x",
         "y": [
          2,
          2,
          2,
          2,
          2,
          2,
          2,
          2,
          2,
          2,
          1,
          1,
          1,
          0,
          0,
          0,
          0,
          0,
          0,
          1,
          1,
          1,
          1,
          1,
          1,
          1,
          1,
          1,
          1,
          1,
          2,
          2,
          1,
          1,
          1,
          1,
          1,
          0,
          0,
          0,
          0,
          0,
          0,
          0,
          1,
          1,
          1,
          1,
          1,
          1,
          1,
          1,
          1,
          1,
          2,
          2,
          1,
          1,
          1,
          1,
          1,
          0,
          0,
          0,
          0,
          0,
          0,
          0,
          1,
          1,
          1,
          1,
          1,
          1,
          1,
          1,
          1,
          1,
          2,
          2,
          2,
          1,
          1,
          1,
          1,
          0,
          0,
          0,
          0,
          0,
          0,
          1,
          1,
          1,
          1,
          1,
          1,
          1,
          1,
          1,
          2,
          2,
          2,
          2,
          2,
          2,
          2,
          1,
          1,
          1,
          0,
          0,
          0,
          0,
          0,
          1,
          1,
          1,
          2,
          2,
          2,
          2,
          2,
          3,
          3,
          3,
          4,
          4,
          3,
          3,
          3,
          2,
          2,
          1,
          1,
          1,
          0,
          0,
          1,
          1,
          2,
          3,
          4,
          6,
          8,
          11,
          21,
          54,
          60,
          83,
          97,
          34,
          19,
          16,
          23,
          8,
          5,
          3,
          2,
          1,
          1,
          1,
          2,
          3,
          3,
          4,
          3,
          3
         ],
         "yaxis": "y"
        },
        {
         "hovertemplate": "variable=wide_variable_1<br>x=%{x}<br>value=%{y}<extra></extra>",
         "legendgroup": "wide_variable_1",
         "line": {
          "color": "#EF553B",
          "dash": "solid"
         },
         "marker": {
          "symbol": "circle"
         },
         "mode": "lines",
         "name": "wide_variable_1",
         "orientation": "v",
         "showlegend": true,
         "type": "scatter",
         "x": [
          "2023-01-23T12:00:00",
          "2023-01-23T13:00:00",
          "2023-01-23T14:00:00",
          "2023-01-23T15:00:00",
          "2023-01-23T16:00:00",
          "2023-01-23T17:00:00",
          "2023-01-23T18:00:00",
          "2023-01-23T19:00:00",
          "2023-01-23T20:00:00",
          "2023-01-23T21:00:00",
          "2023-01-23T22:00:00",
          "2023-01-23T23:00:00",
          "2023-01-24T00:00:00",
          "2023-01-24T01:00:00",
          "2023-01-24T02:00:00",
          "2023-01-24T03:00:00",
          "2023-01-24T04:00:00",
          "2023-01-24T05:00:00",
          "2023-01-24T06:00:00",
          "2023-01-24T07:00:00",
          "2023-01-24T08:00:00",
          "2023-01-24T09:00:00",
          "2023-01-24T10:00:00",
          "2023-01-24T11:00:00",
          "2023-01-24T12:00:00",
          "2023-01-24T13:00:00",
          "2023-01-24T14:00:00",
          "2023-01-24T15:00:00",
          "2023-01-24T16:00:00",
          "2023-01-24T17:00:00",
          "2023-01-24T18:00:00",
          "2023-01-24T19:00:00",
          "2023-01-24T20:00:00",
          "2023-01-24T21:00:00",
          "2023-01-24T22:00:00",
          "2023-01-24T23:00:00",
          "2023-01-25T00:00:00",
          "2023-01-25T01:00:00",
          "2023-01-25T02:00:00",
          "2023-01-25T03:00:00",
          "2023-01-25T04:00:00",
          "2023-01-25T05:00:00",
          "2023-01-25T06:00:00",
          "2023-01-25T07:00:00",
          "2023-01-25T08:00:00",
          "2023-01-25T09:00:00",
          "2023-01-25T10:00:00",
          "2023-01-25T11:00:00",
          "2023-01-25T12:00:00",
          "2023-01-25T13:00:00",
          "2023-01-25T14:00:00",
          "2023-01-25T15:00:00",
          "2023-01-25T16:00:00",
          "2023-01-25T17:00:00",
          "2023-01-25T18:00:00",
          "2023-01-25T19:00:00",
          "2023-01-25T20:00:00",
          "2023-01-25T21:00:00",
          "2023-01-25T22:00:00",
          "2023-01-25T23:00:00",
          "2023-01-26T00:00:00",
          "2023-01-26T01:00:00",
          "2023-01-26T02:00:00",
          "2023-01-26T03:00:00",
          "2023-01-26T04:00:00",
          "2023-01-26T05:00:00",
          "2023-01-26T06:00:00",
          "2023-01-26T07:00:00",
          "2023-01-26T08:00:00",
          "2023-01-26T09:00:00",
          "2023-01-26T10:00:00",
          "2023-01-26T11:00:00",
          "2023-01-26T12:00:00",
          "2023-01-26T13:00:00",
          "2023-01-26T14:00:00",
          "2023-01-26T15:00:00",
          "2023-01-26T16:00:00",
          "2023-01-26T17:00:00",
          "2023-01-26T18:00:00",
          "2023-01-26T19:00:00",
          "2023-01-26T20:00:00",
          "2023-01-26T21:00:00",
          "2023-01-26T22:00:00",
          "2023-01-26T23:00:00",
          "2023-01-27T00:00:00",
          "2023-01-27T01:00:00",
          "2023-01-27T02:00:00",
          "2023-01-27T03:00:00",
          "2023-01-27T04:00:00",
          "2023-01-27T05:00:00",
          "2023-01-27T06:00:00",
          "2023-01-27T07:00:00",
          "2023-01-27T08:00:00",
          "2023-01-27T09:00:00",
          "2023-01-27T10:00:00",
          "2023-01-27T11:00:00",
          "2023-01-27T12:00:00",
          "2023-01-27T13:00:00",
          "2023-01-27T14:00:00",
          "2023-01-27T15:00:00",
          "2023-01-27T16:00:00",
          "2023-01-27T17:00:00",
          "2023-01-27T18:00:00",
          "2023-01-27T19:00:00",
          "2023-01-27T20:00:00",
          "2023-01-27T21:00:00",
          "2023-01-27T22:00:00",
          "2023-01-27T23:00:00",
          "2023-01-28T00:00:00",
          "2023-01-28T01:00:00",
          "2023-01-28T02:00:00",
          "2023-01-28T03:00:00",
          "2023-01-28T04:00:00",
          "2023-01-28T05:00:00",
          "2023-01-28T06:00:00",
          "2023-01-28T07:00:00",
          "2023-01-28T08:00:00",
          "2023-01-28T09:00:00",
          "2023-01-28T10:00:00",
          "2023-01-28T11:00:00",
          "2023-01-28T12:00:00",
          "2023-01-28T13:00:00",
          "2023-01-28T14:00:00",
          "2023-01-28T15:00:00",
          "2023-01-28T16:00:00",
          "2023-01-28T17:00:00",
          "2023-01-28T18:00:00",
          "2023-01-28T19:00:00",
          "2023-01-28T20:00:00",
          "2023-01-28T21:00:00",
          "2023-01-28T22:00:00",
          "2023-01-28T23:00:00",
          "2023-01-29T00:00:00",
          "2023-01-29T01:00:00",
          "2023-01-29T02:00:00",
          "2023-01-29T03:00:00",
          "2023-01-29T04:00:00",
          "2023-01-29T05:00:00",
          "2023-01-29T06:00:00",
          "2023-01-29T07:00:00",
          "2023-01-29T08:00:00",
          "2023-01-29T09:00:00",
          "2023-01-29T10:00:00",
          "2023-01-29T11:00:00",
          "2023-01-29T12:00:00",
          "2023-01-29T13:00:00",
          "2023-01-29T14:00:00",
          "2023-01-29T15:00:00",
          "2023-01-29T16:00:00",
          "2023-01-29T17:00:00",
          "2023-01-29T18:00:00",
          "2023-01-29T19:00:00",
          "2023-01-29T20:00:00",
          "2023-01-29T21:00:00",
          "2023-01-29T22:00:00",
          "2023-01-29T23:00:00",
          "2023-01-30T00:00:00",
          "2023-01-30T01:00:00",
          "2023-01-30T02:00:00",
          "2023-01-30T03:00:00",
          "2023-01-30T04:00:00",
          "2023-01-30T05:00:00",
          "2023-01-30T06:00:00",
          "2023-01-30T07:00:00",
          "2023-01-30T08:00:00",
          "2023-01-30T09:00:00",
          "2023-01-30T10:00:00",
          "2023-01-30T11:00:00"
         ],
         "xaxis": "x",
         "y": [
          3,
          3,
          3,
          3,
          3,
          3,
          3,
          3,
          3,
          3,
          2,
          2,
          1,
          1,
          1,
          0,
          0,
          0,
          0,
          0,
          1,
          1,
          1,
          1,
          1,
          1,
          1,
          1,
          1,
          2,
          2,
          2,
          2,
          2,
          2,
          1,
          1,
          1,
          0,
          0,
          0,
          0,
          0,
          0,
          0,
          1,
          1,
          1,
          1,
          1,
          1,
          1,
          1,
          1,
          2,
          2,
          2,
          2,
          1,
          1,
          1,
          1,
          0,
          0,
          0,
          0,
          0,
          0,
          0,
          1,
          1,
          1,
          1,
          1,
          1,
          1,
          1,
          1,
          2,
          2,
          2,
          2,
          1,
          1,
          1,
          1,
          0,
          0,
          0,
          0,
          0,
          0,
          1,
          1,
          1,
          1,
          1,
          1,
          1,
          1,
          2,
          2,
          2,
          2,
          2,
          2,
          2,
          2,
          1,
          1,
          1,
          0,
          0,
          0,
          0,
          0,
          1,
          1,
          1,
          2,
          2,
          2,
          2,
          3,
          3,
          3,
          4,
          4,
          4,
          4,
          4,
          3,
          3,
          2,
          1,
          1,
          1,
          0,
          1,
          1,
          1,
          2,
          3,
          5,
          8,
          11,
          20,
          54,
          68,
          86,
          76,
          31,
          15,
          12,
          10,
          5,
          4,
          2,
          1,
          1,
          1,
          1,
          1,
          1,
          2,
          1,
          2,
          2
         ],
         "yaxis": "y"
        },
        {
         "hovertemplate": "variable=wide_variable_2<br>x=%{x}<br>value=%{y}<extra></extra>",
         "legendgroup": "wide_variable_2",
         "line": {
          "color": "#00cc96",
          "dash": "solid"
         },
         "marker": {
          "symbol": "circle"
         },
         "mode": "lines",
         "name": "wide_variable_2",
         "orientation": "v",
         "showlegend": true,
         "type": "scatter",
         "x": [
          "2023-01-23T12:00:00",
          "2023-01-23T13:00:00",
          "2023-01-23T14:00:00",
          "2023-01-23T15:00:00",
          "2023-01-23T16:00:00",
          "2023-01-23T17:00:00",
          "2023-01-23T18:00:00",
          "2023-01-23T19:00:00",
          "2023-01-23T20:00:00",
          "2023-01-23T21:00:00",
          "2023-01-23T22:00:00",
          "2023-01-23T23:00:00",
          "2023-01-24T00:00:00",
          "2023-01-24T01:00:00",
          "2023-01-24T02:00:00",
          "2023-01-24T03:00:00",
          "2023-01-24T04:00:00",
          "2023-01-24T05:00:00",
          "2023-01-24T06:00:00",
          "2023-01-24T07:00:00",
          "2023-01-24T08:00:00",
          "2023-01-24T09:00:00",
          "2023-01-24T10:00:00",
          "2023-01-24T11:00:00",
          "2023-01-24T12:00:00",
          "2023-01-24T13:00:00",
          "2023-01-24T14:00:00",
          "2023-01-24T15:00:00",
          "2023-01-24T16:00:00",
          "2023-01-24T17:00:00",
          "2023-01-24T18:00:00",
          "2023-01-24T19:00:00",
          "2023-01-24T20:00:00",
          "2023-01-24T21:00:00",
          "2023-01-24T22:00:00",
          "2023-01-24T23:00:00",
          "2023-01-25T00:00:00",
          "2023-01-25T01:00:00",
          "2023-01-25T02:00:00",
          "2023-01-25T03:00:00",
          "2023-01-25T04:00:00",
          "2023-01-25T05:00:00",
          "2023-01-25T06:00:00",
          "2023-01-25T07:00:00",
          "2023-01-25T08:00:00",
          "2023-01-25T09:00:00",
          "2023-01-25T10:00:00",
          "2023-01-25T11:00:00",
          "2023-01-25T12:00:00",
          "2023-01-25T13:00:00",
          "2023-01-25T14:00:00",
          "2023-01-25T15:00:00",
          "2023-01-25T16:00:00",
          "2023-01-25T17:00:00",
          "2023-01-25T18:00:00",
          "2023-01-25T19:00:00",
          "2023-01-25T20:00:00",
          "2023-01-25T21:00:00",
          "2023-01-25T22:00:00",
          "2023-01-25T23:00:00",
          "2023-01-26T00:00:00",
          "2023-01-26T01:00:00",
          "2023-01-26T02:00:00",
          "2023-01-26T03:00:00",
          "2023-01-26T04:00:00",
          "2023-01-26T05:00:00",
          "2023-01-26T06:00:00",
          "2023-01-26T07:00:00",
          "2023-01-26T08:00:00",
          "2023-01-26T09:00:00",
          "2023-01-26T10:00:00",
          "2023-01-26T11:00:00",
          "2023-01-26T12:00:00",
          "2023-01-26T13:00:00",
          "2023-01-26T14:00:00",
          "2023-01-26T15:00:00",
          "2023-01-26T16:00:00",
          "2023-01-26T17:00:00",
          "2023-01-26T18:00:00",
          "2023-01-26T19:00:00",
          "2023-01-26T20:00:00",
          "2023-01-26T21:00:00",
          "2023-01-26T22:00:00",
          "2023-01-26T23:00:00",
          "2023-01-27T00:00:00",
          "2023-01-27T01:00:00",
          "2023-01-27T02:00:00",
          "2023-01-27T03:00:00",
          "2023-01-27T04:00:00",
          "2023-01-27T05:00:00",
          "2023-01-27T06:00:00",
          "2023-01-27T07:00:00",
          "2023-01-27T08:00:00",
          "2023-01-27T09:00:00",
          "2023-01-27T10:00:00",
          "2023-01-27T11:00:00",
          "2023-01-27T12:00:00",
          "2023-01-27T13:00:00",
          "2023-01-27T14:00:00",
          "2023-01-27T15:00:00",
          "2023-01-27T16:00:00",
          "2023-01-27T17:00:00",
          "2023-01-27T18:00:00",
          "2023-01-27T19:00:00",
          "2023-01-27T20:00:00",
          "2023-01-27T21:00:00",
          "2023-01-27T22:00:00",
          "2023-01-27T23:00:00",
          "2023-01-28T00:00:00",
          "2023-01-28T01:00:00",
          "2023-01-28T02:00:00",
          "2023-01-28T03:00:00",
          "2023-01-28T04:00:00",
          "2023-01-28T05:00:00",
          "2023-01-28T06:00:00",
          "2023-01-28T07:00:00",
          "2023-01-28T08:00:00",
          "2023-01-28T09:00:00",
          "2023-01-28T10:00:00",
          "2023-01-28T11:00:00",
          "2023-01-28T12:00:00",
          "2023-01-28T13:00:00",
          "2023-01-28T14:00:00",
          "2023-01-28T15:00:00",
          "2023-01-28T16:00:00",
          "2023-01-28T17:00:00",
          "2023-01-28T18:00:00",
          "2023-01-28T19:00:00",
          "2023-01-28T20:00:00",
          "2023-01-28T21:00:00",
          "2023-01-28T22:00:00",
          "2023-01-28T23:00:00",
          "2023-01-29T00:00:00",
          "2023-01-29T01:00:00",
          "2023-01-29T02:00:00",
          "2023-01-29T03:00:00",
          "2023-01-29T04:00:00",
          "2023-01-29T05:00:00",
          "2023-01-29T06:00:00",
          "2023-01-29T07:00:00",
          "2023-01-29T08:00:00",
          "2023-01-29T09:00:00",
          "2023-01-29T10:00:00",
          "2023-01-29T11:00:00",
          "2023-01-29T12:00:00",
          "2023-01-29T13:00:00",
          "2023-01-29T14:00:00",
          "2023-01-29T15:00:00",
          "2023-01-29T16:00:00",
          "2023-01-29T17:00:00",
          "2023-01-29T18:00:00",
          "2023-01-29T19:00:00",
          "2023-01-29T20:00:00",
          "2023-01-29T21:00:00",
          "2023-01-29T22:00:00",
          "2023-01-29T23:00:00",
          "2023-01-30T00:00:00",
          "2023-01-30T01:00:00",
          "2023-01-30T02:00:00",
          "2023-01-30T03:00:00",
          "2023-01-30T04:00:00",
          "2023-01-30T05:00:00",
          "2023-01-30T06:00:00",
          "2023-01-30T07:00:00",
          "2023-01-30T08:00:00",
          "2023-01-30T09:00:00",
          "2023-01-30T10:00:00",
          "2023-01-30T11:00:00"
         ],
         "xaxis": "x",
         "y": [
          1,
          1,
          1,
          1,
          1,
          1,
          1,
          1,
          1,
          1,
          1,
          1,
          1,
          0,
          0,
          0,
          0,
          0,
          0,
          0,
          1,
          1,
          1,
          1,
          1,
          1,
          1,
          1,
          1,
          1,
          1,
          1,
          1,
          1,
          1,
          1,
          0,
          0,
          0,
          0,
          0,
          0,
          0,
          0,
          0,
          0,
          1,
          1,
          1,
          1,
          1,
          1,
          1,
          1,
          1,
          1,
          1,
          1,
          1,
          1,
          0,
          0,
          0,
          0,
          0,
          0,
          0,
          0,
          0,
          1,
          1,
          1,
          1,
          1,
          1,
          1,
          1,
          1,
          1,
          1,
          1,
          1,
          1,
          1,
          1,
          0,
          0,
          0,
          0,
          0,
          0,
          0,
          1,
          1,
          1,
          1,
          1,
          1,
          1,
          1,
          1,
          2,
          2,
          2,
          2,
          2,
          1,
          1,
          1,
          1,
          0,
          0,
          0,
          0,
          0,
          0,
          1,
          1,
          1,
          2,
          2,
          2,
          2,
          3,
          3,
          4,
          4,
          3,
          3,
          3,
          3,
          2,
          2,
          1,
          1,
          0,
          0,
          0,
          0,
          1,
          2,
          2,
          3,
          4,
          5,
          6,
          7,
          9,
          12,
          20,
          76,
          72,
          77,
          100,
          96,
          20,
          10,
          5,
          3,
          3,
          3,
          4,
          5,
          5,
          5,
          5,
          4,
          4
         ],
         "yaxis": "y"
        }
       ],
       "layout": {
        "autosize": true,
        "legend": {
         "title": {
          "text": "variable"
         },
         "tracegroupgap": 0
        },
        "margin": {
         "t": 60
        },
        "template": {
         "data": {
          "bar": [
           {
            "error_x": {
             "color": "#2a3f5f"
            },
            "error_y": {
             "color": "#2a3f5f"
            },
            "marker": {
             "line": {
              "color": "#E5ECF6",
              "width": 0.5
             },
             "pattern": {
              "fillmode": "overlay",
              "size": 10,
              "solidity": 0.2
             }
            },
            "type": "bar"
           }
          ],
          "barpolar": [
           {
            "marker": {
             "line": {
              "color": "#E5ECF6",
              "width": 0.5
             },
             "pattern": {
              "fillmode": "overlay",
              "size": 10,
              "solidity": 0.2
             }
            },
            "type": "barpolar"
           }
          ],
          "carpet": [
           {
            "aaxis": {
             "endlinecolor": "#2a3f5f",
             "gridcolor": "white",
             "linecolor": "white",
             "minorgridcolor": "white",
             "startlinecolor": "#2a3f5f"
            },
            "baxis": {
             "endlinecolor": "#2a3f5f",
             "gridcolor": "white",
             "linecolor": "white",
             "minorgridcolor": "white",
             "startlinecolor": "#2a3f5f"
            },
            "type": "carpet"
           }
          ],
          "choropleth": [
           {
            "colorbar": {
             "outlinewidth": 0,
             "ticks": ""
            },
            "type": "choropleth"
           }
          ],
          "contour": [
           {
            "colorbar": {
             "outlinewidth": 0,
             "ticks": ""
            },
            "colorscale": [
             [
              0,
              "#0d0887"
             ],
             [
              0.1111111111111111,
              "#46039f"
             ],
             [
              0.2222222222222222,
              "#7201a8"
             ],
             [
              0.3333333333333333,
              "#9c179e"
             ],
             [
              0.4444444444444444,
              "#bd3786"
             ],
             [
              0.5555555555555556,
              "#d8576b"
             ],
             [
              0.6666666666666666,
              "#ed7953"
             ],
             [
              0.7777777777777778,
              "#fb9f3a"
             ],
             [
              0.8888888888888888,
              "#fdca26"
             ],
             [
              1,
              "#f0f921"
             ]
            ],
            "type": "contour"
           }
          ],
          "contourcarpet": [
           {
            "colorbar": {
             "outlinewidth": 0,
             "ticks": ""
            },
            "type": "contourcarpet"
           }
          ],
          "heatmap": [
           {
            "colorbar": {
             "outlinewidth": 0,
             "ticks": ""
            },
            "colorscale": [
             [
              0,
              "#0d0887"
             ],
             [
              0.1111111111111111,
              "#46039f"
             ],
             [
              0.2222222222222222,
              "#7201a8"
             ],
             [
              0.3333333333333333,
              "#9c179e"
             ],
             [
              0.4444444444444444,
              "#bd3786"
             ],
             [
              0.5555555555555556,
              "#d8576b"
             ],
             [
              0.6666666666666666,
              "#ed7953"
             ],
             [
              0.7777777777777778,
              "#fb9f3a"
             ],
             [
              0.8888888888888888,
              "#fdca26"
             ],
             [
              1,
              "#f0f921"
             ]
            ],
            "type": "heatmap"
           }
          ],
          "heatmapgl": [
           {
            "colorbar": {
             "outlinewidth": 0,
             "ticks": ""
            },
            "colorscale": [
             [
              0,
              "#0d0887"
             ],
             [
              0.1111111111111111,
              "#46039f"
             ],
             [
              0.2222222222222222,
              "#7201a8"
             ],
             [
              0.3333333333333333,
              "#9c179e"
             ],
             [
              0.4444444444444444,
              "#bd3786"
             ],
             [
              0.5555555555555556,
              "#d8576b"
             ],
             [
              0.6666666666666666,
              "#ed7953"
             ],
             [
              0.7777777777777778,
              "#fb9f3a"
             ],
             [
              0.8888888888888888,
              "#fdca26"
             ],
             [
              1,
              "#f0f921"
             ]
            ],
            "type": "heatmapgl"
           }
          ],
          "histogram": [
           {
            "marker": {
             "pattern": {
              "fillmode": "overlay",
              "size": 10,
              "solidity": 0.2
             }
            },
            "type": "histogram"
           }
          ],
          "histogram2d": [
           {
            "colorbar": {
             "outlinewidth": 0,
             "ticks": ""
            },
            "colorscale": [
             [
              0,
              "#0d0887"
             ],
             [
              0.1111111111111111,
              "#46039f"
             ],
             [
              0.2222222222222222,
              "#7201a8"
             ],
             [
              0.3333333333333333,
              "#9c179e"
             ],
             [
              0.4444444444444444,
              "#bd3786"
             ],
             [
              0.5555555555555556,
              "#d8576b"
             ],
             [
              0.6666666666666666,
              "#ed7953"
             ],
             [
              0.7777777777777778,
              "#fb9f3a"
             ],
             [
              0.8888888888888888,
              "#fdca26"
             ],
             [
              1,
              "#f0f921"
             ]
            ],
            "type": "histogram2d"
           }
          ],
          "histogram2dcontour": [
           {
            "colorbar": {
             "outlinewidth": 0,
             "ticks": ""
            },
            "colorscale": [
             [
              0,
              "#0d0887"
             ],
             [
              0.1111111111111111,
              "#46039f"
             ],
             [
              0.2222222222222222,
              "#7201a8"
             ],
             [
              0.3333333333333333,
              "#9c179e"
             ],
             [
              0.4444444444444444,
              "#bd3786"
             ],
             [
              0.5555555555555556,
              "#d8576b"
             ],
             [
              0.6666666666666666,
              "#ed7953"
             ],
             [
              0.7777777777777778,
              "#fb9f3a"
             ],
             [
              0.8888888888888888,
              "#fdca26"
             ],
             [
              1,
              "#f0f921"
             ]
            ],
            "type": "histogram2dcontour"
           }
          ],
          "mesh3d": [
           {
            "colorbar": {
             "outlinewidth": 0,
             "ticks": ""
            },
            "type": "mesh3d"
           }
          ],
          "parcoords": [
           {
            "line": {
             "colorbar": {
              "outlinewidth": 0,
              "ticks": ""
             }
            },
            "type": "parcoords"
           }
          ],
          "pie": [
           {
            "automargin": true,
            "type": "pie"
           }
          ],
          "scatter": [
           {
            "fillpattern": {
             "fillmode": "overlay",
             "size": 10,
             "solidity": 0.2
            },
            "type": "scatter"
           }
          ],
          "scatter3d": [
           {
            "line": {
             "colorbar": {
              "outlinewidth": 0,
              "ticks": ""
             }
            },
            "marker": {
             "colorbar": {
              "outlinewidth": 0,
              "ticks": ""
             }
            },
            "type": "scatter3d"
           }
          ],
          "scattercarpet": [
           {
            "marker": {
             "colorbar": {
              "outlinewidth": 0,
              "ticks": ""
             }
            },
            "type": "scattercarpet"
           }
          ],
          "scattergeo": [
           {
            "marker": {
             "colorbar": {
              "outlinewidth": 0,
              "ticks": ""
             }
            },
            "type": "scattergeo"
           }
          ],
          "scattergl": [
           {
            "marker": {
             "colorbar": {
              "outlinewidth": 0,
              "ticks": ""
             }
            },
            "type": "scattergl"
           }
          ],
          "scattermapbox": [
           {
            "marker": {
             "colorbar": {
              "outlinewidth": 0,
              "ticks": ""
             }
            },
            "type": "scattermapbox"
           }
          ],
          "scatterpolar": [
           {
            "marker": {
             "colorbar": {
              "outlinewidth": 0,
              "ticks": ""
             }
            },
            "type": "scatterpolar"
           }
          ],
          "scatterpolargl": [
           {
            "marker": {
             "colorbar": {
              "outlinewidth": 0,
              "ticks": ""
             }
            },
            "type": "scatterpolargl"
           }
          ],
          "scatterternary": [
           {
            "marker": {
             "colorbar": {
              "outlinewidth": 0,
              "ticks": ""
             }
            },
            "type": "scatterternary"
           }
          ],
          "surface": [
           {
            "colorbar": {
             "outlinewidth": 0,
             "ticks": ""
            },
            "colorscale": [
             [
              0,
              "#0d0887"
             ],
             [
              0.1111111111111111,
              "#46039f"
             ],
             [
              0.2222222222222222,
              "#7201a8"
             ],
             [
              0.3333333333333333,
              "#9c179e"
             ],
             [
              0.4444444444444444,
              "#bd3786"
             ],
             [
              0.5555555555555556,
              "#d8576b"
             ],
             [
              0.6666666666666666,
              "#ed7953"
             ],
             [
              0.7777777777777778,
              "#fb9f3a"
             ],
             [
              0.8888888888888888,
              "#fdca26"
             ],
             [
              1,
              "#f0f921"
             ]
            ],
            "type": "surface"
           }
          ],
          "table": [
           {
            "cells": {
             "fill": {
              "color": "#EBF0F8"
             },
             "line": {
              "color": "white"
             }
            },
            "header": {
             "fill": {
              "color": "#C8D4E3"
             },
             "line": {
              "color": "white"
             }
            },
            "type": "table"
           }
          ]
         },
         "layout": {
          "annotationdefaults": {
           "arrowcolor": "#2a3f5f",
           "arrowhead": 0,
           "arrowwidth": 1
          },
          "autotypenumbers": "strict",
          "coloraxis": {
           "colorbar": {
            "outlinewidth": 0,
            "ticks": ""
           }
          },
          "colorscale": {
           "diverging": [
            [
             0,
             "#8e0152"
            ],
            [
             0.1,
             "#c51b7d"
            ],
            [
             0.2,
             "#de77ae"
            ],
            [
             0.3,
             "#f1b6da"
            ],
            [
             0.4,
             "#fde0ef"
            ],
            [
             0.5,
             "#f7f7f7"
            ],
            [
             0.6,
             "#e6f5d0"
            ],
            [
             0.7,
             "#b8e186"
            ],
            [
             0.8,
             "#7fbc41"
            ],
            [
             0.9,
             "#4d9221"
            ],
            [
             1,
             "#276419"
            ]
           ],
           "sequential": [
            [
             0,
             "#0d0887"
            ],
            [
             0.1111111111111111,
             "#46039f"
            ],
            [
             0.2222222222222222,
             "#7201a8"
            ],
            [
             0.3333333333333333,
             "#9c179e"
            ],
            [
             0.4444444444444444,
             "#bd3786"
            ],
            [
             0.5555555555555556,
             "#d8576b"
            ],
            [
             0.6666666666666666,
             "#ed7953"
            ],
            [
             0.7777777777777778,
             "#fb9f3a"
            ],
            [
             0.8888888888888888,
             "#fdca26"
            ],
            [
             1,
             "#f0f921"
            ]
           ],
           "sequentialminus": [
            [
             0,
             "#0d0887"
            ],
            [
             0.1111111111111111,
             "#46039f"
            ],
            [
             0.2222222222222222,
             "#7201a8"
            ],
            [
             0.3333333333333333,
             "#9c179e"
            ],
            [
             0.4444444444444444,
             "#bd3786"
            ],
            [
             0.5555555555555556,
             "#d8576b"
            ],
            [
             0.6666666666666666,
             "#ed7953"
            ],
            [
             0.7777777777777778,
             "#fb9f3a"
            ],
            [
             0.8888888888888888,
             "#fdca26"
            ],
            [
             1,
             "#f0f921"
            ]
           ]
          },
          "colorway": [
           "#636efa",
           "#EF553B",
           "#00cc96",
           "#ab63fa",
           "#FFA15A",
           "#19d3f3",
           "#FF6692",
           "#B6E880",
           "#FF97FF",
           "#FECB52"
          ],
          "font": {
           "color": "#2a3f5f"
          },
          "geo": {
           "bgcolor": "white",
           "lakecolor": "white",
           "landcolor": "#E5ECF6",
           "showlakes": true,
           "showland": true,
           "subunitcolor": "white"
          },
          "hoverlabel": {
           "align": "left"
          },
          "hovermode": "closest",
          "mapbox": {
           "style": "light"
          },
          "paper_bgcolor": "white",
          "plot_bgcolor": "#E5ECF6",
          "polar": {
           "angularaxis": {
            "gridcolor": "white",
            "linecolor": "white",
            "ticks": ""
           },
           "bgcolor": "#E5ECF6",
           "radialaxis": {
            "gridcolor": "white",
            "linecolor": "white",
            "ticks": ""
           }
          },
          "scene": {
           "xaxis": {
            "backgroundcolor": "#E5ECF6",
            "gridcolor": "white",
            "gridwidth": 2,
            "linecolor": "white",
            "showbackground": true,
            "ticks": "",
            "zerolinecolor": "white"
           },
           "yaxis": {
            "backgroundcolor": "#E5ECF6",
            "gridcolor": "white",
            "gridwidth": 2,
            "linecolor": "white",
            "showbackground": true,
            "ticks": "",
            "zerolinecolor": "white"
           },
           "zaxis": {
            "backgroundcolor": "#E5ECF6",
            "gridcolor": "white",
            "gridwidth": 2,
            "linecolor": "white",
            "showbackground": true,
            "ticks": "",
            "zerolinecolor": "white"
           }
          },
          "shapedefaults": {
           "line": {
            "color": "#2a3f5f"
           }
          },
          "ternary": {
           "aaxis": {
            "gridcolor": "white",
            "linecolor": "white",
            "ticks": ""
           },
           "baxis": {
            "gridcolor": "white",
            "linecolor": "white",
            "ticks": ""
           },
           "bgcolor": "#E5ECF6",
           "caxis": {
            "gridcolor": "white",
            "linecolor": "white",
            "ticks": ""
           }
          },
          "title": {
           "x": 0.05
          },
          "xaxis": {
           "automargin": true,
           "gridcolor": "white",
           "linecolor": "white",
           "ticks": "",
           "title": {
            "standoff": 15
           },
           "zerolinecolor": "white",
           "zerolinewidth": 2
          },
          "yaxis": {
           "automargin": true,
           "gridcolor": "white",
           "linecolor": "white",
           "ticks": "",
           "title": {
            "standoff": 15
           },
           "zerolinecolor": "white",
           "zerolinewidth": 2
          }
         }
        },
        "xaxis": {
         "anchor": "y",
         "autorange": true,
         "domain": [
          0,
          1
         ],
         "range": [
          "2023-01-23 12:00",
          "2023-01-30 11:00"
         ],
         "title": {
          "text": "x"
         },
         "type": "date"
        },
        "yaxis": {
         "anchor": "x",
         "autorange": true,
         "domain": [
          0,
          1
         ],
         "range": [
          -5.555555555555556,
          105.55555555555556
         ],
         "title": {
          "text": "value"
         },
         "type": "linear"
        }
       }
      },
      "image/png": "[encoded data removed]",
      "text/html": [
       "<div>                            <div id=\"b46b51ff-7633-4b6b-841b-5e5fd2ebe2a3\" class=\"plotly-graph-div\" style=\"height:525px; width:100%;\"></div>            <script type=\"text/javascript\">                require([\"plotly\"], function(Plotly) {                    window.PLOTLYENV=window.PLOTLYENV || {};                                    if (document.getElementById(\"b46b51ff-7633-4b6b-841b-5e5fd2ebe2a3\")) {                    Plotly.newPlot(                        \"b46b51ff-7633-4b6b-841b-5e5fd2ebe2a3\",                        [{\"hovertemplate\":\"variable=wide_variable_0<br>x=%{x}<br>value=%{y}<extra></extra>\",\"legendgroup\":\"wide_variable_0\",\"line\":{\"color\":\"#636efa\",\"dash\":\"solid\"},\"marker\":{\"symbol\":\"circle\"},\"mode\":\"lines\",\"name\":\"wide_variable_0\",\"orientation\":\"v\",\"showlegend\":true,\"x\":[\"2023-01-23T12:00:00\",\"2023-01-23T13:00:00\",\"2023-01-23T14:00:00\",\"2023-01-23T15:00:00\",\"2023-01-23T16:00:00\",\"2023-01-23T17:00:00\",\"2023-01-23T18:00:00\",\"2023-01-23T19:00:00\",\"2023-01-23T20:00:00\",\"2023-01-23T21:00:00\",\"2023-01-23T22:00:00\",\"2023-01-23T23:00:00\",\"2023-01-24T00:00:00\",\"2023-01-24T01:00:00\",\"2023-01-24T02:00:00\",\"2023-01-24T03:00:00\",\"2023-01-24T04:00:00\",\"2023-01-24T05:00:00\",\"2023-01-24T06:00:00\",\"2023-01-24T07:00:00\",\"2023-01-24T08:00:00\",\"2023-01-24T09:00:00\",\"2023-01-24T10:00:00\",\"2023-01-24T11:00:00\",\"2023-01-24T12:00:00\",\"2023-01-24T13:00:00\",\"2023-01-24T14:00:00\",\"2023-01-24T15:00:00\",\"2023-01-24T16:00:00\",\"2023-01-24T17:00:00\",\"2023-01-24T18:00:00\",\"2023-01-24T19:00:00\",\"2023-01-24T20:00:00\",\"2023-01-24T21:00:00\",\"2023-01-24T22:00:00\",\"2023-01-24T23:00:00\",\"2023-01-25T00:00:00\",\"2023-01-25T01:00:00\",\"2023-01-25T02:00:00\",\"2023-01-25T03:00:00\",\"2023-01-25T04:00:00\",\"2023-01-25T05:00:00\",\"2023-01-25T06:00:00\",\"2023-01-25T07:00:00\",\"2023-01-25T08:00:00\",\"2023-01-25T09:00:00\",\"2023-01-25T10:00:00\",\"2023-01-25T11:00:00\",\"2023-01-25T12:00:00\",\"2023-01-25T13:00:00\",\"2023-01-25T14:00:00\",\"2023-01-25T15:00:00\",\"2023-01-25T16:00:00\",\"2023-01-25T17:00:00\",\"2023-01-25T18:00:00\",\"2023-01-25T19:00:00\",\"2023-01-25T20:00:00\",\"2023-01-25T21:00:00\",\"2023-01-25T22:00:00\",\"2023-01-25T23:00:00\",\"2023-01-26T00:00:00\",\"2023-01-26T01:00:00\",\"2023-01-26T02:00:00\",\"2023-01-26T03:00:00\",\"2023-01-26T04:00:00\",\"2023-01-26T05:00:00\",\"2023-01-26T06:00:00\",\"2023-01-26T07:00:00\",\"2023-01-26T08:00:00\",\"2023-01-26T09:00:00\",\"2023-01-26T10:00:00\",\"2023-01-26T11:00:00\",\"2023-01-26T12:00:00\",\"2023-01-26T13:00:00\",\"2023-01-26T14:00:00\",\"2023-01-26T15:00:00\",\"2023-01-26T16:00:00\",\"2023-01-26T17:00:00\",\"2023-01-26T18:00:00\",\"2023-01-26T19:00:00\",\"2023-01-26T20:00:00\",\"2023-01-26T21:00:00\",\"2023-01-26T22:00:00\",\"2023-01-26T23:00:00\",\"2023-01-27T00:00:00\",\"2023-01-27T01:00:00\",\"2023-01-27T02:00:00\",\"2023-01-27T03:00:00\",\"2023-01-27T04:00:00\",\"2023-01-27T05:00:00\",\"2023-01-27T06:00:00\",\"2023-01-27T07:00:00\",\"2023-01-27T08:00:00\",\"2023-01-27T09:00:00\",\"2023-01-27T10:00:00\",\"2023-01-27T11:00:00\",\"2023-01-27T12:00:00\",\"2023-01-27T13:00:00\",\"2023-01-27T14:00:00\",\"2023-01-27T15:00:00\",\"2023-01-27T16:00:00\",\"2023-01-27T17:00:00\",\"2023-01-27T18:00:00\",\"2023-01-27T19:00:00\",\"2023-01-27T20:00:00\",\"2023-01-27T21:00:00\",\"2023-01-27T22:00:00\",\"2023-01-27T23:00:00\",\"2023-01-28T00:00:00\",\"2023-01-28T01:00:00\",\"2023-01-28T02:00:00\",\"2023-01-28T03:00:00\",\"2023-01-28T04:00:00\",\"2023-01-28T05:00:00\",\"2023-01-28T06:00:00\",\"2023-01-28T07:00:00\",\"2023-01-28T08:00:00\",\"2023-01-28T09:00:00\",\"2023-01-28T10:00:00\",\"2023-01-28T11:00:00\",\"2023-01-28T12:00:00\",\"2023-01-28T13:00:00\",\"2023-01-28T14:00:00\",\"2023-01-28T15:00:00\",\"2023-01-28T16:00:00\",\"2023-01-28T17:00:00\",\"2023-01-28T18:00:00\",\"2023-01-28T19:00:00\",\"2023-01-28T20:00:00\",\"2023-01-28T21:00:00\",\"2023-01-28T22:00:00\",\"2023-01-28T23:00:00\",\"2023-01-29T00:00:00\",\"2023-01-29T01:00:00\",\"2023-01-29T02:00:00\",\"2023-01-29T03:00:00\",\"2023-01-29T04:00:00\",\"2023-01-29T05:00:00\",\"2023-01-29T06:00:00\",\"2023-01-29T07:00:00\",\"2023-01-29T08:00:00\",\"2023-01-29T09:00:00\",\"2023-01-29T10:00:00\",\"2023-01-29T11:00:00\",\"2023-01-29T12:00:00\",\"2023-01-29T13:00:00\",\"2023-01-29T14:00:00\",\"2023-01-29T15:00:00\",\"2023-01-29T16:00:00\",\"2023-01-29T17:00:00\",\"2023-01-29T18:00:00\",\"2023-01-29T19:00:00\",\"2023-01-29T20:00:00\",\"2023-01-29T21:00:00\",\"2023-01-29T22:00:00\",\"2023-01-29T23:00:00\",\"2023-01-30T00:00:00\",\"2023-01-30T01:00:00\",\"2023-01-30T02:00:00\",\"2023-01-30T03:00:00\",\"2023-01-30T04:00:00\",\"2023-01-30T05:00:00\",\"2023-01-30T06:00:00\",\"2023-01-30T07:00:00\",\"2023-01-30T08:00:00\",\"2023-01-30T09:00:00\",\"2023-01-30T10:00:00\",\"2023-01-30T11:00:00\"],\"xaxis\":\"x\",\"y\":[2,2,2,2,2,2,2,2,2,2,1,1,1,0,0,0,0,0,0,1,1,1,1,1,1,1,1,1,1,1,2,2,1,1,1,1,1,0,0,0,0,0,0,0,1,1,1,1,1,1,1,1,1,1,2,2,1,1,1,1,1,0,0,0,0,0,0,0,1,1,1,1,1,1,1,1,1,1,2,2,2,1,1,1,1,0,0,0,0,0,0,1,1,1,1,1,1,1,1,1,2,2,2,2,2,2,2,1,1,1,0,0,0,0,0,1,1,1,2,2,2,2,2,3,3,3,4,4,3,3,3,2,2,1,1,1,0,0,1,1,2,3,4,6,8,11,21,54,60,83,97,34,19,16,23,8,5,3,2,1,1,1,2,3,3,4,3,3],\"yaxis\":\"y\",\"type\":\"scatter\"},{\"hovertemplate\":\"variable=wide_variable_1<br>x=%{x}<br>value=%{y}<extra></extra>\",\"legendgroup\":\"wide_variable_1\",\"line\":{\"color\":\"#EF553B\",\"dash\":\"solid\"},\"marker\":{\"symbol\":\"circle\"},\"mode\":\"lines\",\"name\":\"wide_variable_1\",\"orientation\":\"v\",\"showlegend\":true,\"x\":[\"2023-01-23T12:00:00\",\"2023-01-23T13:00:00\",\"2023-01-23T14:00:00\",\"2023-01-23T15:00:00\",\"2023-01-23T16:00:00\",\"2023-01-23T17:00:00\",\"2023-01-23T18:00:00\",\"2023-01-23T19:00:00\",\"2023-01-23T20:00:00\",\"2023-01-23T21:00:00\",\"2023-01-23T22:00:00\",\"2023-01-23T23:00:00\",\"2023-01-24T00:00:00\",\"2023-01-24T01:00:00\",\"2023-01-24T02:00:00\",\"2023-01-24T03:00:00\",\"2023-01-24T04:00:00\",\"2023-01-24T05:00:00\",\"2023-01-24T06:00:00\",\"2023-01-24T07:00:00\",\"2023-01-24T08:00:00\",\"2023-01-24T09:00:00\",\"2023-01-24T10:00:00\",\"2023-01-24T11:00:00\",\"2023-01-24T12:00:00\",\"2023-01-24T13:00:00\",\"2023-01-24T14:00:00\",\"2023-01-24T15:00:00\",\"2023-01-24T16:00:00\",\"2023-01-24T17:00:00\",\"2023-01-24T18:00:00\",\"2023-01-24T19:00:00\",\"2023-01-24T20:00:00\",\"2023-01-24T21:00:00\",\"2023-01-24T22:00:00\",\"2023-01-24T23:00:00\",\"2023-01-25T00:00:00\",\"2023-01-25T01:00:00\",\"2023-01-25T02:00:00\",\"2023-01-25T03:00:00\",\"2023-01-25T04:00:00\",\"2023-01-25T05:00:00\",\"2023-01-25T06:00:00\",\"2023-01-25T07:00:00\",\"2023-01-25T08:00:00\",\"2023-01-25T09:00:00\",\"2023-01-25T10:00:00\",\"2023-01-25T11:00:00\",\"2023-01-25T12:00:00\",\"2023-01-25T13:00:00\",\"2023-01-25T14:00:00\",\"2023-01-25T15:00:00\",\"2023-01-25T16:00:00\",\"2023-01-25T17:00:00\",\"2023-01-25T18:00:00\",\"2023-01-25T19:00:00\",\"2023-01-25T20:00:00\",\"2023-01-25T21:00:00\",\"2023-01-25T22:00:00\",\"2023-01-25T23:00:00\",\"2023-01-26T00:00:00\",\"2023-01-26T01:00:00\",\"2023-01-26T02:00:00\",\"2023-01-26T03:00:00\",\"2023-01-26T04:00:00\",\"2023-01-26T05:00:00\",\"2023-01-26T06:00:00\",\"2023-01-26T07:00:00\",\"2023-01-26T08:00:00\",\"2023-01-26T09:00:00\",\"2023-01-26T10:00:00\",\"2023-01-26T11:00:00\",\"2023-01-26T12:00:00\",\"2023-01-26T13:00:00\",\"2023-01-26T14:00:00\",\"2023-01-26T15:00:00\",\"2023-01-26T16:00:00\",\"2023-01-26T17:00:00\",\"2023-01-26T18:00:00\",\"2023-01-26T19:00:00\",\"2023-01-26T20:00:00\",\"2023-01-26T21:00:00\",\"2023-01-26T22:00:00\",\"2023-01-26T23:00:00\",\"2023-01-27T00:00:00\",\"2023-01-27T01:00:00\",\"2023-01-27T02:00:00\",\"2023-01-27T03:00:00\",\"2023-01-27T04:00:00\",\"2023-01-27T05:00:00\",\"2023-01-27T06:00:00\",\"2023-01-27T07:00:00\",\"2023-01-27T08:00:00\",\"2023-01-27T09:00:00\",\"2023-01-27T10:00:00\",\"2023-01-27T11:00:00\",\"2023-01-27T12:00:00\",\"2023-01-27T13:00:00\",\"2023-01-27T14:00:00\",\"2023-01-27T15:00:00\",\"2023-01-27T16:00:00\",\"2023-01-27T17:00:00\",\"2023-01-27T18:00:00\",\"2023-01-27T19:00:00\",\"2023-01-27T20:00:00\",\"2023-01-27T21:00:00\",\"2023-01-27T22:00:00\",\"2023-01-27T23:00:00\",\"2023-01-28T00:00:00\",\"2023-01-28T01:00:00\",\"2023-01-28T02:00:00\",\"2023-01-28T03:00:00\",\"2023-01-28T04:00:00\",\"2023-01-28T05:00:00\",\"2023-01-28T06:00:00\",\"2023-01-28T07:00:00\",\"2023-01-28T08:00:00\",\"2023-01-28T09:00:00\",\"2023-01-28T10:00:00\",\"2023-01-28T11:00:00\",\"2023-01-28T12:00:00\",\"2023-01-28T13:00:00\",\"2023-01-28T14:00:00\",\"2023-01-28T15:00:00\",\"2023-01-28T16:00:00\",\"2023-01-28T17:00:00\",\"2023-01-28T18:00:00\",\"2023-01-28T19:00:00\",\"2023-01-28T20:00:00\",\"2023-01-28T21:00:00\",\"2023-01-28T22:00:00\",\"2023-01-28T23:00:00\",\"2023-01-29T00:00:00\",\"2023-01-29T01:00:00\",\"2023-01-29T02:00:00\",\"2023-01-29T03:00:00\",\"2023-01-29T04:00:00\",\"2023-01-29T05:00:00\",\"2023-01-29T06:00:00\",\"2023-01-29T07:00:00\",\"2023-01-29T08:00:00\",\"2023-01-29T09:00:00\",\"2023-01-29T10:00:00\",\"2023-01-29T11:00:00\",\"2023-01-29T12:00:00\",\"2023-01-29T13:00:00\",\"2023-01-29T14:00:00\",\"2023-01-29T15:00:00\",\"2023-01-29T16:00:00\",\"2023-01-29T17:00:00\",\"2023-01-29T18:00:00\",\"2023-01-29T19:00:00\",\"2023-01-29T20:00:00\",\"2023-01-29T21:00:00\",\"2023-01-29T22:00:00\",\"2023-01-29T23:00:00\",\"2023-01-30T00:00:00\",\"2023-01-30T01:00:00\",\"2023-01-30T02:00:00\",\"2023-01-30T03:00:00\",\"2023-01-30T04:00:00\",\"2023-01-30T05:00:00\",\"2023-01-30T06:00:00\",\"2023-01-30T07:00:00\",\"2023-01-30T08:00:00\",\"2023-01-30T09:00:00\",\"2023-01-30T10:00:00\",\"2023-01-30T11:00:00\"],\"xaxis\":\"x\",\"y\":[3,3,3,3,3,3,3,3,3,3,2,2,1,1,1,0,0,0,0,0,1,1,1,1,1,1,1,1,1,2,2,2,2,2,2,1,1,1,0,0,0,0,0,0,0,1,1,1,1,1,1,1,1,1,2,2,2,2,1,1,1,1,0,0,0,0,0,0,0,1,1,1,1,1,1,1,1,1,2,2,2,2,1,1,1,1,0,0,0,0,0,0,1,1,1,1,1,1,1,1,2,2,2,2,2,2,2,2,1,1,1,0,0,0,0,0,1,1,1,2,2,2,2,3,3,3,4,4,4,4,4,3,3,2,1,1,1,0,1,1,1,2,3,5,8,11,20,54,68,86,76,31,15,12,10,5,4,2,1,1,1,1,1,1,2,1,2,2],\"yaxis\":\"y\",\"type\":\"scatter\"},{\"hovertemplate\":\"variable=wide_variable_2<br>x=%{x}<br>value=%{y}<extra></extra>\",\"legendgroup\":\"wide_variable_2\",\"line\":{\"color\":\"#00cc96\",\"dash\":\"solid\"},\"marker\":{\"symbol\":\"circle\"},\"mode\":\"lines\",\"name\":\"wide_variable_2\",\"orientation\":\"v\",\"showlegend\":true,\"x\":[\"2023-01-23T12:00:00\",\"2023-01-23T13:00:00\",\"2023-01-23T14:00:00\",\"2023-01-23T15:00:00\",\"2023-01-23T16:00:00\",\"2023-01-23T17:00:00\",\"2023-01-23T18:00:00\",\"2023-01-23T19:00:00\",\"2023-01-23T20:00:00\",\"2023-01-23T21:00:00\",\"2023-01-23T22:00:00\",\"2023-01-23T23:00:00\",\"2023-01-24T00:00:00\",\"2023-01-24T01:00:00\",\"2023-01-24T02:00:00\",\"2023-01-24T03:00:00\",\"2023-01-24T04:00:00\",\"2023-01-24T05:00:00\",\"2023-01-24T06:00:00\",\"2023-01-24T07:00:00\",\"2023-01-24T08:00:00\",\"2023-01-24T09:00:00\",\"2023-01-24T10:00:00\",\"2023-01-24T11:00:00\",\"2023-01-24T12:00:00\",\"2023-01-24T13:00:00\",\"2023-01-24T14:00:00\",\"2023-01-24T15:00:00\",\"2023-01-24T16:00:00\",\"2023-01-24T17:00:00\",\"2023-01-24T18:00:00\",\"2023-01-24T19:00:00\",\"2023-01-24T20:00:00\",\"2023-01-24T21:00:00\",\"2023-01-24T22:00:00\",\"2023-01-24T23:00:00\",\"2023-01-25T00:00:00\",\"2023-01-25T01:00:00\",\"2023-01-25T02:00:00\",\"2023-01-25T03:00:00\",\"2023-01-25T04:00:00\",\"2023-01-25T05:00:00\",\"2023-01-25T06:00:00\",\"2023-01-25T07:00:00\",\"2023-01-25T08:00:00\",\"2023-01-25T09:00:00\",\"2023-01-25T10:00:00\",\"2023-01-25T11:00:00\",\"2023-01-25T12:00:00\",\"2023-01-25T13:00:00\",\"2023-01-25T14:00:00\",\"2023-01-25T15:00:00\",\"2023-01-25T16:00:00\",\"2023-01-25T17:00:00\",\"2023-01-25T18:00:00\",\"2023-01-25T19:00:00\",\"2023-01-25T20:00:00\",\"2023-01-25T21:00:00\",\"2023-01-25T22:00:00\",\"2023-01-25T23:00:00\",\"2023-01-26T00:00:00\",\"2023-01-26T01:00:00\",\"2023-01-26T02:00:00\",\"2023-01-26T03:00:00\",\"2023-01-26T04:00:00\",\"2023-01-26T05:00:00\",\"2023-01-26T06:00:00\",\"2023-01-26T07:00:00\",\"2023-01-26T08:00:00\",\"2023-01-26T09:00:00\",\"2023-01-26T10:00:00\",\"2023-01-26T11:00:00\",\"2023-01-26T12:00:00\",\"2023-01-26T13:00:00\",\"2023-01-26T14:00:00\",\"2023-01-26T15:00:00\",\"2023-01-26T16:00:00\",\"2023-01-26T17:00:00\",\"2023-01-26T18:00:00\",\"2023-01-26T19:00:00\",\"2023-01-26T20:00:00\",\"2023-01-26T21:00:00\",\"2023-01-26T22:00:00\",\"2023-01-26T23:00:00\",\"2023-01-27T00:00:00\",\"2023-01-27T01:00:00\",\"2023-01-27T02:00:00\",\"2023-01-27T03:00:00\",\"2023-01-27T04:00:00\",\"2023-01-27T05:00:00\",\"2023-01-27T06:00:00\",\"2023-01-27T07:00:00\",\"2023-01-27T08:00:00\",\"2023-01-27T09:00:00\",\"2023-01-27T10:00:00\",\"2023-01-27T11:00:00\",\"2023-01-27T12:00:00\",\"2023-01-27T13:00:00\",\"2023-01-27T14:00:00\",\"2023-01-27T15:00:00\",\"2023-01-27T16:00:00\",\"2023-01-27T17:00:00\",\"2023-01-27T18:00:00\",\"2023-01-27T19:00:00\",\"2023-01-27T20:00:00\",\"2023-01-27T21:00:00\",\"2023-01-27T22:00:00\",\"2023-01-27T23:00:00\",\"2023-01-28T00:00:00\",\"2023-01-28T01:00:00\",\"2023-01-28T02:00:00\",\"2023-01-28T03:00:00\",\"2023-01-28T04:00:00\",\"2023-01-28T05:00:00\",\"2023-01-28T06:00:00\",\"2023-01-28T07:00:00\",\"2023-01-28T08:00:00\",\"2023-01-28T09:00:00\",\"2023-01-28T10:00:00\",\"2023-01-28T11:00:00\",\"2023-01-28T12:00:00\",\"2023-01-28T13:00:00\",\"2023-01-28T14:00:00\",\"2023-01-28T15:00:00\",\"2023-01-28T16:00:00\",\"2023-01-28T17:00:00\",\"2023-01-28T18:00:00\",\"2023-01-28T19:00:00\",\"2023-01-28T20:00:00\",\"2023-01-28T21:00:00\",\"2023-01-28T22:00:00\",\"2023-01-28T23:00:00\",\"2023-01-29T00:00:00\",\"2023-01-29T01:00:00\",\"2023-01-29T02:00:00\",\"2023-01-29T03:00:00\",\"2023-01-29T04:00:00\",\"2023-01-29T05:00:00\",\"2023-01-29T06:00:00\",\"2023-01-29T07:00:00\",\"2023-01-29T08:00:00\",\"2023-01-29T09:00:00\",\"2023-01-29T10:00:00\",\"2023-01-29T11:00:00\",\"2023-01-29T12:00:00\",\"2023-01-29T13:00:00\",\"2023-01-29T14:00:00\",\"2023-01-29T15:00:00\",\"2023-01-29T16:00:00\",\"2023-01-29T17:00:00\",\"2023-01-29T18:00:00\",\"2023-01-29T19:00:00\",\"2023-01-29T20:00:00\",\"2023-01-29T21:00:00\",\"2023-01-29T22:00:00\",\"2023-01-29T23:00:00\",\"2023-01-30T00:00:00\",\"2023-01-30T01:00:00\",\"2023-01-30T02:00:00\",\"2023-01-30T03:00:00\",\"2023-01-30T04:00:00\",\"2023-01-30T05:00:00\",\"2023-01-30T06:00:00\",\"2023-01-30T07:00:00\",\"2023-01-30T08:00:00\",\"2023-01-30T09:00:00\",\"2023-01-30T10:00:00\",\"2023-01-30T11:00:00\"],\"xaxis\":\"x\",\"y\":[1,1,1,1,1,1,1,1,1,1,1,1,1,0,0,0,0,0,0,0,1,1,1,1,1,1,1,1,1,1,1,1,1,1,1,1,0,0,0,0,0,0,0,0,0,0,1,1,1,1,1,1,1,1,1,1,1,1,1,1,0,0,0,0,0,0,0,0,0,1,1,1,1,1,1,1,1,1,1,1,1,1,1,1,1,0,0,0,0,0,0,0,1,1,1,1,1,1,1,1,1,2,2,2,2,2,1,1,1,1,0,0,0,0,0,0,1,1,1,2,2,2,2,3,3,4,4,3,3,3,3,2,2,1,1,0,0,0,0,1,2,2,3,4,5,6,7,9,12,20,76,72,77,100,96,20,10,5,3,3,3,4,5,5,5,5,4,4],\"yaxis\":\"y\",\"type\":\"scatter\"}],                        {\"template\":{\"data\":{\"histogram2dcontour\":[{\"type\":\"histogram2dcontour\",\"colorbar\":{\"outlinewidth\":0,\"ticks\":\"\"},\"colorscale\":[[0.0,\"#0d0887\"],[0.1111111111111111,\"#46039f\"],[0.2222222222222222,\"#7201a8\"],[0.3333333333333333,\"#9c179e\"],[0.4444444444444444,\"#bd3786\"],[0.5555555555555556,\"#d8576b\"],[0.6666666666666666,\"#ed7953\"],[0.7777777777777778,\"#fb9f3a\"],[0.8888888888888888,\"#fdca26\"],[1.0,\"#f0f921\"]]}],\"choropleth\":[{\"type\":\"choropleth\",\"colorbar\":{\"outlinewidth\":0,\"ticks\":\"\"}}],\"histogram2d\":[{\"type\":\"histogram2d\",\"colorbar\":{\"outlinewidth\":0,\"ticks\":\"\"},\"colorscale\":[[0.0,\"#0d0887\"],[0.1111111111111111,\"#46039f\"],[0.2222222222222222,\"#7201a8\"],[0.3333333333333333,\"#9c179e\"],[0.4444444444444444,\"#bd3786\"],[0.5555555555555556,\"#d8576b\"],[0.6666666666666666,\"#ed7953\"],[0.7777777777777778,\"#fb9f3a\"],[0.8888888888888888,\"#fdca26\"],[1.0,\"#f0f921\"]]}],\"heatmap\":[{\"type\":\"heatmap\",\"colorbar\":{\"outlinewidth\":0,\"ticks\":\"\"},\"colorscale\":[[0.0,\"#0d0887\"],[0.1111111111111111,\"#46039f\"],[0.2222222222222222,\"#7201a8\"],[0.3333333333333333,\"#9c179e\"],[0.4444444444444444,\"#bd3786\"],[0.5555555555555556,\"#d8576b\"],[0.6666666666666666,\"#ed7953\"],[0.7777777777777778,\"#fb9f3a\"],[0.8888888888888888,\"#fdca26\"],[1.0,\"#f0f921\"]]}],\"heatmapgl\":[{\"type\":\"heatmapgl\",\"colorbar\":{\"outlinewidth\":0,\"ticks\":\"\"},\"colorscale\":[[0.0,\"#0d0887\"],[0.1111111111111111,\"#46039f\"],[0.2222222222222222,\"#7201a8\"],[0.3333333333333333,\"#9c179e\"],[0.4444444444444444,\"#bd3786\"],[0.5555555555555556,\"#d8576b\"],[0.6666666666666666,\"#ed7953\"],[0.7777777777777778,\"#fb9f3a\"],[0.8888888888888888,\"#fdca26\"],[1.0,\"#f0f921\"]]}],\"contourcarpet\":[{\"type\":\"contourcarpet\",\"colorbar\":{\"outlinewidth\":0,\"ticks\":\"\"}}],\"contour\":[{\"type\":\"contour\",\"colorbar\":{\"outlinewidth\":0,\"ticks\":\"\"},\"colorscale\":[[0.0,\"#0d0887\"],[0.1111111111111111,\"#46039f\"],[0.2222222222222222,\"#7201a8\"],[0.3333333333333333,\"#9c179e\"],[0.4444444444444444,\"#bd3786\"],[0.5555555555555556,\"#d8576b\"],[0.6666666666666666,\"#ed7953\"],[0.7777777777777778,\"#fb9f3a\"],[0.8888888888888888,\"#fdca26\"],[1.0,\"#f0f921\"]]}],\"surface\":[{\"type\":\"surface\",\"colorbar\":{\"outlinewidth\":0,\"ticks\":\"\"},\"colorscale\":[[0.0,\"#0d0887\"],[0.1111111111111111,\"#46039f\"],[0.2222222222222222,\"#7201a8\"],[0.3333333333333333,\"#9c179e\"],[0.4444444444444444,\"#bd3786\"],[0.5555555555555556,\"#d8576b\"],[0.6666666666666666,\"#ed7953\"],[0.7777777777777778,\"#fb9f3a\"],[0.8888888888888888,\"#fdca26\"],[1.0,\"#f0f921\"]]}],\"mesh3d\":[{\"type\":\"mesh3d\",\"colorbar\":{\"outlinewidth\":0,\"ticks\":\"\"}}],\"scatter\":[{\"fillpattern\":{\"fillmode\":\"overlay\",\"size\":10,\"solidity\":0.2},\"type\":\"scatter\"}],\"parcoords\":[{\"type\":\"parcoords\",\"line\":{\"colorbar\":{\"outlinewidth\":0,\"ticks\":\"\"}}}],\"scatterpolargl\":[{\"type\":\"scatterpolargl\",\"marker\":{\"colorbar\":{\"outlinewidth\":0,\"ticks\":\"\"}}}],\"bar\":[{\"error_x\":{\"color\":\"#2a3f5f\"},\"error_y\":{\"color\":\"#2a3f5f\"},\"marker\":{\"line\":{\"color\":\"#E5ECF6\",\"width\":0.5},\"pattern\":{\"fillmode\":\"overlay\",\"size\":10,\"solidity\":0.2}},\"type\":\"bar\"}],\"scattergeo\":[{\"type\":\"scattergeo\",\"marker\":{\"colorbar\":{\"outlinewidth\":0,\"ticks\":\"\"}}}],\"scatterpolar\":[{\"type\":\"scatterpolar\",\"marker\":{\"colorbar\":{\"outlinewidth\":0,\"ticks\":\"\"}}}],\"histogram\":[{\"marker\":{\"pattern\":{\"fillmode\":\"overlay\",\"size\":10,\"solidity\":0.2}},\"type\":\"histogram\"}],\"scattergl\":[{\"type\":\"scattergl\",\"marker\":{\"colorbar\":{\"outlinewidth\":0,\"ticks\":\"\"}}}],\"scatter3d\":[{\"type\":\"scatter3d\",\"line\":{\"colorbar\":{\"outlinewidth\":0,\"ticks\":\"\"}},\"marker\":{\"colorbar\":{\"outlinewidth\":0,\"ticks\":\"\"}}}],\"scattermapbox\":[{\"type\":\"scattermapbox\",\"marker\":{\"colorbar\":{\"outlinewidth\":0,\"ticks\":\"\"}}}],\"scatterternary\":[{\"type\":\"scatterternary\",\"marker\":{\"colorbar\":{\"outlinewidth\":0,\"ticks\":\"\"}}}],\"scattercarpet\":[{\"type\":\"scattercarpet\",\"marker\":{\"colorbar\":{\"outlinewidth\":0,\"ticks\":\"\"}}}],\"carpet\":[{\"aaxis\":{\"endlinecolor\":\"#2a3f5f\",\"gridcolor\":\"white\",\"linecolor\":\"white\",\"minorgridcolor\":\"white\",\"startlinecolor\":\"#2a3f5f\"},\"baxis\":{\"endlinecolor\":\"#2a3f5f\",\"gridcolor\":\"white\",\"linecolor\":\"white\",\"minorgridcolor\":\"white\",\"startlinecolor\":\"#2a3f5f\"},\"type\":\"carpet\"}],\"table\":[{\"cells\":{\"fill\":{\"color\":\"#EBF0F8\"},\"line\":{\"color\":\"white\"}},\"header\":{\"fill\":{\"color\":\"#C8D4E3\"},\"line\":{\"color\":\"white\"}},\"type\":\"table\"}],\"barpolar\":[{\"marker\":{\"line\":{\"color\":\"#E5ECF6\",\"width\":0.5},\"pattern\":{\"fillmode\":\"overlay\",\"size\":10,\"solidity\":0.2}},\"type\":\"barpolar\"}],\"pie\":[{\"automargin\":true,\"type\":\"pie\"}]},\"layout\":{\"autotypenumbers\":\"strict\",\"colorway\":[\"#636efa\",\"#EF553B\",\"#00cc96\",\"#ab63fa\",\"#FFA15A\",\"#19d3f3\",\"#FF6692\",\"#B6E880\",\"#FF97FF\",\"#FECB52\"],\"font\":{\"color\":\"#2a3f5f\"},\"hovermode\":\"closest\",\"hoverlabel\":{\"align\":\"left\"},\"paper_bgcolor\":\"white\",\"plot_bgcolor\":\"#E5ECF6\",\"polar\":{\"bgcolor\":\"#E5ECF6\",\"angularaxis\":{\"gridcolor\":\"white\",\"linecolor\":\"white\",\"ticks\":\"\"},\"radialaxis\":{\"gridcolor\":\"white\",\"linecolor\":\"white\",\"ticks\":\"\"}},\"ternary\":{\"bgcolor\":\"#E5ECF6\",\"aaxis\":{\"gridcolor\":\"white\",\"linecolor\":\"white\",\"ticks\":\"\"},\"baxis\":{\"gridcolor\":\"white\",\"linecolor\":\"white\",\"ticks\":\"\"},\"caxis\":{\"gridcolor\":\"white\",\"linecolor\":\"white\",\"ticks\":\"\"}},\"coloraxis\":{\"colorbar\":{\"outlinewidth\":0,\"ticks\":\"\"}},\"colorscale\":{\"sequential\":[[0.0,\"#0d0887\"],[0.1111111111111111,\"#46039f\"],[0.2222222222222222,\"#7201a8\"],[0.3333333333333333,\"#9c179e\"],[0.4444444444444444,\"#bd3786\"],[0.5555555555555556,\"#d8576b\"],[0.6666666666666666,\"#ed7953\"],[0.7777777777777778,\"#fb9f3a\"],[0.8888888888888888,\"#fdca26\"],[1.0,\"#f0f921\"]],\"sequentialminus\":[[0.0,\"#0d0887\"],[0.1111111111111111,\"#46039f\"],[0.2222222222222222,\"#7201a8\"],[0.3333333333333333,\"#9c179e\"],[0.4444444444444444,\"#bd3786\"],[0.5555555555555556,\"#d8576b\"],[0.6666666666666666,\"#ed7953\"],[0.7777777777777778,\"#fb9f3a\"],[0.8888888888888888,\"#fdca26\"],[1.0,\"#f0f921\"]],\"diverging\":[[0,\"#8e0152\"],[0.1,\"#c51b7d\"],[0.2,\"#de77ae\"],[0.3,\"#f1b6da\"],[0.4,\"#fde0ef\"],[0.5,\"#f7f7f7\"],[0.6,\"#e6f5d0\"],[0.7,\"#b8e186\"],[0.8,\"#7fbc41\"],[0.9,\"#4d9221\"],[1,\"#276419\"]]},\"xaxis\":{\"gridcolor\":\"white\",\"linecolor\":\"white\",\"ticks\":\"\",\"title\":{\"standoff\":15},\"zerolinecolor\":\"white\",\"automargin\":true,\"zerolinewidth\":2},\"yaxis\":{\"gridcolor\":\"white\",\"linecolor\":\"white\",\"ticks\":\"\",\"title\":{\"standoff\":15},\"zerolinecolor\":\"white\",\"automargin\":true,\"zerolinewidth\":2},\"scene\":{\"xaxis\":{\"backgroundcolor\":\"#E5ECF6\",\"gridcolor\":\"white\",\"linecolor\":\"white\",\"showbackground\":true,\"ticks\":\"\",\"zerolinecolor\":\"white\",\"gridwidth\":2},\"yaxis\":{\"backgroundcolor\":\"#E5ECF6\",\"gridcolor\":\"white\",\"linecolor\":\"white\",\"showbackground\":true,\"ticks\":\"\",\"zerolinecolor\":\"white\",\"gridwidth\":2},\"zaxis\":{\"backgroundcolor\":\"#E5ECF6\",\"gridcolor\":\"white\",\"linecolor\":\"white\",\"showbackground\":true,\"ticks\":\"\",\"zerolinecolor\":\"white\",\"gridwidth\":2}},\"shapedefaults\":{\"line\":{\"color\":\"#2a3f5f\"}},\"annotationdefaults\":{\"arrowcolor\":\"#2a3f5f\",\"arrowhead\":0,\"arrowwidth\":1},\"geo\":{\"bgcolor\":\"white\",\"landcolor\":\"#E5ECF6\",\"subunitcolor\":\"white\",\"showland\":true,\"showlakes\":true,\"lakecolor\":\"white\"},\"title\":{\"x\":0.05},\"mapbox\":{\"style\":\"light\"}}},\"xaxis\":{\"anchor\":\"y\",\"domain\":[0.0,1.0],\"title\":{\"text\":\"x\"}},\"yaxis\":{\"anchor\":\"x\",\"domain\":[0.0,1.0],\"title\":{\"text\":\"value\"}},\"legend\":{\"title\":{\"text\":\"variable\"},\"tracegroupgap\":0},\"margin\":{\"t\":60}},                        {\"responsive\": true}                    ).then(function(){\n",
       "                            \n",
       "var gd = document.getElementById('b46b51ff-7633-4b6b-841b-5e5fd2ebe2a3');\n",
       "var x = new MutationObserver(function (mutations, observer) {{\n",
       "        var display = window.getComputedStyle(gd).display;\n",
       "        if (!display || display === 'none') {{\n",
       "            console.log([gd, 'removed!']);\n",
       "            Plotly.purge(gd);\n",
       "            observer.disconnect();\n",
       "        }}\n",
       "}});\n",
       "\n",
       "// Listen for the removal of the full notebook cells\n",
       "var notebookContainer = gd.closest('#notebook-container');\n",
       "if (notebookContainer) {{\n",
       "    x.observe(notebookContainer, {childList: true});\n",
       "}}\n",
       "\n",
       "// Listen for the clearing of the current output cell\n",
       "var outputEl = gd.closest('.output');\n",
       "if (outputEl) {{\n",
       "    x.observe(outputEl, {childList: true});\n",
       "}}\n",
       "\n",
       "                        })                };                });            </script>        </div>"
      ]
     },
     "metadata": {},
     "output_type": "display_data"
    }
   ],
   "source": [
    "# Plotly is another plotting library callable from Python\n",
    "# It is best used when you want interactive plots\n",
    "import plotly.express as px\n",
    "\n",
    "Eagles = Gtrend[\"Philadelphia Eagles: (Worldwide)\"]\n",
    "SanFran = Gtrend[\"San Francisco 49ers: (Worldwide)\"]\n",
    "Chiefs = Gtrend[\"Kansas City Chiefs: (Worldwide)\"]\n",
    "date = Gtrend[\"Time\"].astype('datetime64[s]') # Using the retyping of the column which is a nump array\n",
    "fig = px.line(x=date, y=[Eagles, SanFran, Chiefs])\n",
    "\n",
    "fig.show()"
   ]
  },
  {
   "cell_type": "code",
   "execution_count": 45,
   "id": "f4da822f-a354-43ff-9567-dff57f85699d",
   "metadata": {
    "tags": []
   },
   "outputs": [
    {
     "data": {
      "image/png": "[encoded data removed]",
      "text/plain": [
       "<Figure size 640x480 with 1 Axes>"
      ]
     },
     "metadata": {},
     "output_type": "display_data"
    }
   ],
   "source": [
    "# In general, matplotlib is used to make plots for publication or printing\n",
    "import matplotlib.dates\n",
    "x_values = Gtrend[\"Time\"].astype('datetime64[s]')\n",
    "y_values = Gtrend[\"Philadelphia Eagles: (Worldwide)\"]\n",
    "dates = matplotlib.dates.date2num(x_values)\n",
    "plt.plot_date(x_values, y_values)\n",
    "plt.gcf().autofmt_xdate()\n",
    "plt.show()"
   ]
  },
  {
   "cell_type": "markdown",
   "id": "b81b1987-aad6-4494-9ab1-7d668d7901d6",
   "metadata": {},
   "source": [
    "### Census data example\n",
    "#### For your own exploration"
   ]
  },
  {
   "cell_type": "code",
   "execution_count": 47,
   "id": "0c46d4bd-1a53-4fcd-9193-c1d9e3f63c4c",
   "metadata": {
    "tags": []
   },
   "outputs": [
    {
     "data": {
      "text/html": [
       "<table border=\"1\" class=\"dataframe\">\n",
       "    <thead>\n",
       "        <tr>\n",
       "            <th>SEX</th> <th>AGE</th> <th>CENSUS2010POP</th> <th>ESTIMATESBASE2010</th> <th>POPESTIMATE2010</th> <th>POPESTIMATE2011</th> <th>POPESTIMATE2012</th> <th>POPESTIMATE2013</th> <th>POPESTIMATE2014</th> <th>POPESTIMATE2015</th> <th>POPESTIMATE2016</th> <th>POPESTIMATE2017</th> <th>POPESTIMATE2018</th> <th>POPESTIMATE2019</th> <th>POPESTIMATE2020</th>\n",
       "        </tr>\n",
       "    </thead>\n",
       "    <tbody>\n",
       "        <tr>\n",
       "            <td>0   </td> <td>0   </td> <td>3944153      </td> <td>3944160          </td> <td>3951495        </td> <td>3963264        </td> <td>3926731        </td> <td>3931411        </td> <td>3954973        </td> <td>3984144        </td> <td>3963268        </td> <td>3882437        </td> <td>3826908        </td> <td>3762227        </td> <td>3735010        </td>\n",
       "        </tr>\n",
       "        <tr>\n",
       "            <td>0   </td> <td>1   </td> <td>3978070      </td> <td>3978090          </td> <td>3957904        </td> <td>3966768        </td> <td>3978210        </td> <td>3943348        </td> <td>3949559        </td> <td>3973828        </td> <td>4003586        </td> <td>3981864        </td> <td>3897917        </td> <td>3842257        </td> <td>3773884        </td>\n",
       "        </tr>\n",
       "        <tr>\n",
       "            <td>0   </td> <td>2   </td> <td>4096929      </td> <td>4096939          </td> <td>4090799        </td> <td>3971498        </td> <td>3980139        </td> <td>3993047        </td> <td>3960015        </td> <td>3967672        </td> <td>3992657        </td> <td>4021261        </td> <td>3996742        </td> <td>3911822        </td> <td>3853025        </td>\n",
       "        </tr>\n",
       "        <tr>\n",
       "            <td>0   </td> <td>3   </td> <td>4119040      </td> <td>4119051          </td> <td>4111869        </td> <td>4102429        </td> <td>3983007        </td> <td>3992839        </td> <td>4007852        </td> <td>3976277        </td> <td>3984985        </td> <td>4009060        </td> <td>4035053        </td> <td>4009037        </td> <td>3921526        </td>\n",
       "        </tr>\n",
       "        <tr>\n",
       "            <td>0   </td> <td>4   </td> <td>4063170      </td> <td>4063186          </td> <td>4077511        </td> <td>4122252        </td> <td>4112849        </td> <td>3994539        </td> <td>4006407        </td> <td>4022785        </td> <td>3992241        </td> <td>4000394        </td> <td>4021907        </td> <td>4045996        </td> <td>4017847        </td>\n",
       "        </tr>\n",
       "        <tr>\n",
       "            <td>0   </td> <td>5   </td> <td>4056858      </td> <td>4056872          </td> <td>4064653        </td> <td>4087770        </td> <td>4132349        </td> <td>4123745        </td> <td>4007123        </td> <td>4020489        </td> <td>4038022        </td> <td>4007233        </td> <td>4012789        </td> <td>4032231        </td> <td>4054336        </td>\n",
       "        </tr>\n",
       "        <tr>\n",
       "            <td>0   </td> <td>6   </td> <td>4066381      </td> <td>4066412          </td> <td>4073031        </td> <td>4075153        </td> <td>4097860        </td> <td>4142923        </td> <td>4135738        </td> <td>4020428        </td> <td>4034969        </td> <td>4052428        </td> <td>4019106        </td> <td>4022432        </td> <td>4040169        </td>\n",
       "        </tr>\n",
       "        <tr>\n",
       "            <td>0   </td> <td>7   </td> <td>4030579      </td> <td>4030594          </td> <td>4043100        </td> <td>4083399        </td> <td>4085255        </td> <td>4108453        </td> <td>4154947        </td> <td>4148711        </td> <td>4034355        </td> <td>4048430        </td> <td>4063647        </td> <td>4027876        </td> <td>4029753        </td>\n",
       "        </tr>\n",
       "        <tr>\n",
       "            <td>0   </td> <td>8   </td> <td>4046486      </td> <td>4046497          </td> <td>4025624        </td> <td>4053313        </td> <td>4093553        </td> <td>4096033        </td> <td>4120476        </td> <td>4167765        </td> <td>4162142        </td> <td>4047130        </td> <td>4059209        </td> <td>4071894        </td> <td>4034785        </td>\n",
       "        </tr>\n",
       "        <tr>\n",
       "            <td>0   </td> <td>9   </td> <td>4148353      </td> <td>4148369          </td> <td>4125413        </td> <td>4035854        </td> <td>4063662        </td> <td>4104437        </td> <td>4107986        </td> <td>4133426        </td> <td>4181069        </td> <td>4175085        </td> <td>4058207        </td> <td>4067320        </td> <td>4078668        </td>\n",
       "        </tr>\n",
       "    </tbody>\n",
       "</table>\n",
       "<p>... (296 rows omitted)</p>"
      ],
      "text/plain": [
       "SEX  | AGE  | CENSUS2010POP | ESTIMATESBASE2010 | POPESTIMATE2010 | POPESTIMATE2011 | POPESTIMATE2012 | POPESTIMATE2013 | POPESTIMATE2014 | POPESTIMATE2015 | POPESTIMATE2016 | POPESTIMATE2017 | POPESTIMATE2018 | POPESTIMATE2019 | POPESTIMATE2020\n",
       "0    | 0    | 3944153       | 3944160           | 3951495         | 3963264         | 3926731         | 3931411         | 3954973         | 3984144         | 3963268         | 3882437         | 3826908         | 3762227         | 3735010\n",
       "0    | 1    | 3978070       | 3978090           | 3957904         | 3966768         | 3978210         | 3943348         | 3949559         | 3973828         | 4003586         | 3981864         | 3897917         | 3842257         | 3773884\n",
       "0    | 2    | 4096929       | 4096939           | 4090799         | 3971498         | 3980139         | 3993047         | 3960015         | 3967672         | 3992657         | 4021261         | 3996742         | 3911822         | 3853025\n",
       "0    | 3    | 4119040       | 4119051           | 4111869         | 4102429         | 3983007         | 3992839         | 4007852         | 3976277         | 3984985         | 4009060         | 4035053         | 4009037         | 3921526\n",
       "0    | 4    | 4063170       | 4063186           | 4077511         | 4122252         | 4112849         | 3994539         | 4006407         | 4022785         | 3992241         | 4000394         | 4021907         | 4045996         | 4017847\n",
       "0    | 5    | 4056858       | 4056872           | 4064653         | 4087770         | 4132349         | 4123745         | 4007123         | 4020489         | 4038022         | 4007233         | 4012789         | 4032231         | 4054336\n",
       "0    | 6    | 4066381       | 4066412           | 4073031         | 4075153         | 4097860         | 4142923         | 4135738         | 4020428         | 4034969         | 4052428         | 4019106         | 4022432         | 4040169\n",
       "0    | 7    | 4030579       | 4030594           | 4043100         | 4083399         | 4085255         | 4108453         | 4154947         | 4148711         | 4034355         | 4048430         | 4063647         | 4027876         | 4029753\n",
       "0    | 8    | 4046486       | 4046497           | 4025624         | 4053313         | 4093553         | 4096033         | 4120476         | 4167765         | 4162142         | 4047130         | 4059209         | 4071894         | 4034785\n",
       "0    | 9    | 4148353       | 4148369           | 4125413         | 4035854         | 4063662         | 4104437         | 4107986         | 4133426         | 4181069         | 4175085         | 4058207         | 4067320         | 4078668\n",
       "... (296 rows omitted)"
      ]
     },
     "execution_count": 47,
     "metadata": {},
     "output_type": "execute_result"
    }
   ],
   "source": [
    "data = 'http://www2.census.gov/programs-surveys/popest/datasets/2010-2020/national/asrh/nc-est2020-agesex-res.csv'\n",
    "# A local copy can be accessed here in case census.gov moves the file:\n",
    "# data = path_data + 'nc-est2015-agesex-res.csv'\n",
    "\n",
    "full_census_table = Table.read_table(data)\n",
    "full_census_table"
   ]
  },
  {
   "cell_type": "code",
   "execution_count": 48,
   "id": "b7082ced-593c-42f2-8a85-bdf28490f5ac",
   "metadata": {
    "tags": []
   },
   "outputs": [
    {
     "data": {
      "text/html": [
       "<table border=\"1\" class=\"dataframe\">\n",
       "    <thead>\n",
       "        <tr>\n",
       "            <th>SEX</th> <th>AGE</th> <th>POPESTIMATE2010</th> <th>POPESTIMATE2020</th>\n",
       "        </tr>\n",
       "    </thead>\n",
       "    <tbody>\n",
       "        <tr>\n",
       "            <td>0   </td> <td>0   </td> <td>3951495        </td> <td>3735010        </td>\n",
       "        </tr>\n",
       "        <tr>\n",
       "            <td>0   </td> <td>1   </td> <td>3957904        </td> <td>3773884        </td>\n",
       "        </tr>\n",
       "        <tr>\n",
       "            <td>0   </td> <td>2   </td> <td>4090799        </td> <td>3853025        </td>\n",
       "        </tr>\n",
       "        <tr>\n",
       "            <td>0   </td> <td>3   </td> <td>4111869        </td> <td>3921526        </td>\n",
       "        </tr>\n",
       "        <tr>\n",
       "            <td>0   </td> <td>4   </td> <td>4077511        </td> <td>4017847        </td>\n",
       "        </tr>\n",
       "        <tr>\n",
       "            <td>0   </td> <td>5   </td> <td>4064653        </td> <td>4054336        </td>\n",
       "        </tr>\n",
       "        <tr>\n",
       "            <td>0   </td> <td>6   </td> <td>4073031        </td> <td>4040169        </td>\n",
       "        </tr>\n",
       "        <tr>\n",
       "            <td>0   </td> <td>7   </td> <td>4043100        </td> <td>4029753        </td>\n",
       "        </tr>\n",
       "        <tr>\n",
       "            <td>0   </td> <td>8   </td> <td>4025624        </td> <td>4034785        </td>\n",
       "        </tr>\n",
       "        <tr>\n",
       "            <td>0   </td> <td>9   </td> <td>4125413        </td> <td>4078668        </td>\n",
       "        </tr>\n",
       "    </tbody>\n",
       "</table>\n",
       "<p>... (296 rows omitted)</p>"
      ],
      "text/plain": [
       "SEX  | AGE  | POPESTIMATE2010 | POPESTIMATE2020\n",
       "0    | 0    | 3951495         | 3735010\n",
       "0    | 1    | 3957904         | 3773884\n",
       "0    | 2    | 4090799         | 3853025\n",
       "0    | 3    | 4111869         | 3921526\n",
       "0    | 4    | 4077511         | 4017847\n",
       "0    | 5    | 4064653         | 4054336\n",
       "0    | 6    | 4073031         | 4040169\n",
       "0    | 7    | 4043100         | 4029753\n",
       "0    | 8    | 4025624         | 4034785\n",
       "0    | 9    | 4125413         | 4078668\n",
       "... (296 rows omitted)"
      ]
     },
     "execution_count": 48,
     "metadata": {},
     "output_type": "execute_result"
    }
   ],
   "source": [
    "# Make a new table with four columns from the census data\n",
    "partial_census_table = full_census_table.select('SEX', 'AGE', 'POPESTIMATE2010', 'POPESTIMATE2020')\n",
    "partial_census_table"
   ]
  },
  {
   "cell_type": "code",
   "execution_count": 49,
   "id": "702a04b4-c776-49f8-b8b0-e2eaa9c361e6",
   "metadata": {
    "tags": []
   },
   "outputs": [
    {
     "data": {
      "text/plain": [
       "array([  0,   1,   2,   3,   4,   5,   6,   7,   8,   9,  10,  11,  12,\n",
       "        13,  14,  15,  16,  17,  18,  19,  20,  21,  22,  23,  24,  25,\n",
       "        26,  27,  28,  29,  30,  31,  32,  33,  34,  35,  36,  37,  38,\n",
       "        39,  40,  41,  42,  43,  44,  45,  46,  47,  48,  49,  50,  51,\n",
       "        52,  53,  54,  55,  56,  57,  58,  59,  60,  61,  62,  63,  64,\n",
       "        65,  66,  67,  68,  69,  70,  71,  72,  73,  74,  75,  76,  77,\n",
       "        78,  79,  80,  81,  82,  83,  84,  85,  86,  87,  88,  89,  90,\n",
       "        91,  92,  93,  94,  95,  96,  97,  98,  99, 100, 999,   0,   1,\n",
       "         2,   3,   4,   5,   6,   7,   8,   9,  10,  11,  12,  13,  14,\n",
       "        15,  16,  17,  18,  19,  20,  21,  22,  23,  24,  25,  26,  27,\n",
       "        28,  29,  30,  31,  32,  33,  34,  35,  36,  37,  38,  39,  40,\n",
       "        41,  42,  43,  44,  45,  46,  47,  48,  49,  50,  51,  52,  53,\n",
       "        54,  55,  56,  57,  58,  59,  60,  61,  62,  63,  64,  65,  66,\n",
       "        67,  68,  69,  70,  71,  72,  73,  74,  75,  76,  77,  78,  79,\n",
       "        80,  81,  82,  83,  84,  85,  86,  87,  88,  89,  90,  91,  92,\n",
       "        93,  94,  95,  96,  97,  98,  99, 100, 999,   0,   1,   2,   3,\n",
       "         4,   5,   6,   7,   8,   9,  10,  11,  12,  13,  14,  15,  16,\n",
       "        17,  18,  19,  20,  21,  22,  23,  24,  25,  26,  27,  28,  29,\n",
       "        30,  31,  32,  33,  34,  35,  36,  37,  38,  39,  40,  41,  42,\n",
       "        43,  44,  45,  46,  47,  48,  49,  50,  51,  52,  53,  54,  55,\n",
       "        56,  57,  58,  59,  60,  61,  62,  63,  64,  65,  66,  67,  68,\n",
       "        69,  70,  71,  72,  73,  74,  75,  76,  77,  78,  79,  80,  81,\n",
       "        82,  83,  84,  85,  86,  87,  88,  89,  90,  91,  92,  93,  94,\n",
       "        95,  96,  97,  98,  99, 100, 999])"
      ]
     },
     "execution_count": 49,
     "metadata": {},
     "output_type": "execute_result"
    }
   ],
   "source": [
    "# Return the data from a particular column as an array\n",
    "partial_census_table.column(\"AGE\")"
   ]
  },
  {
   "cell_type": "code",
   "execution_count": 14,
   "id": "587dd336-4bf0-4b72-9522-714d15ba2344",
   "metadata": {
    "tags": []
   },
   "outputs": [
    {
     "data": {
      "text/plain": [
       "array([   0,    3,    6,    9,   12,   15,   18,   21,   24,   27,   30,\n",
       "         33,   36,   39,   42,   45,   48,   51,   54,   57,   60,   63,\n",
       "         66,   69,   72,   75,   78,   81,   84,   87,   90,   93,   96,\n",
       "         99,  102,  105,  108,  111,  114,  117,  120,  123,  126,  129,\n",
       "        132,  135,  138,  141,  144,  147,  150,  153,  156,  159,  162,\n",
       "        165,  168,  171,  174,  177,  180,  183,  186,  189,  192,  195,\n",
       "        198,  201,  204,  207,  210,  213,  216,  219,  222,  225,  228,\n",
       "        231,  234,  237,  240,  243,  246,  249,  252,  255,  258,  261,\n",
       "        264,  267,  270,  273,  276,  279,  282,  285,  288,  291,  294,\n",
       "        297,  300, 2997,    0,    3,    6,    9,   12,   15,   18,   21,\n",
       "         24,   27,   30,   33,   36,   39,   42,   45,   48,   51,   54,\n",
       "         57,   60,   63,   66,   69,   72,   75,   78,   81,   84,   87,\n",
       "         90,   93,   96,   99,  102,  105,  108,  111,  114,  117,  120,\n",
       "        123,  126,  129,  132,  135,  138,  141,  144,  147,  150,  153,\n",
       "        156,  159,  162,  165,  168,  171,  174,  177,  180,  183,  186,\n",
       "        189,  192,  195,  198,  201,  204,  207,  210,  213,  216,  219,\n",
       "        222,  225,  228,  231,  234,  237,  240,  243,  246,  249,  252,\n",
       "        255,  258,  261,  264,  267,  270,  273,  276,  279,  282,  285,\n",
       "        288,  291,  294,  297,  300, 2997,    0,    3,    6,    9,   12,\n",
       "         15,   18,   21,   24,   27,   30,   33,   36,   39,   42,   45,\n",
       "         48,   51,   54,   57,   60,   63,   66,   69,   72,   75,   78,\n",
       "         81,   84,   87,   90,   93,   96,   99,  102,  105,  108,  111,\n",
       "        114,  117,  120,  123,  126,  129,  132,  135,  138,  141,  144,\n",
       "        147,  150,  153,  156,  159,  162,  165,  168,  171,  174,  177,\n",
       "        180,  183,  186,  189,  192,  195,  198,  201,  204,  207,  210,\n",
       "        213,  216,  219,  222,  225,  228,  231,  234,  237,  240,  243,\n",
       "        246,  249,  252,  255,  258,  261,  264,  267,  270,  273,  276,\n",
       "        279,  282,  285,  288,  291,  294,  297,  300, 2997])"
      ]
     },
     "execution_count": 14,
     "metadata": {},
     "output_type": "execute_result"
    }
   ],
   "source": [
    "# You can perform math operation on an entire array at once.\n",
    "# This is called \"broadcasting\" the operation to all of the array elements.\n",
    "\n",
    "3*partial_census_table.column(\"AGE\")"
   ]
  },
  {
   "cell_type": "code",
   "execution_count": 50,
   "id": "4dcc5207-4254-4c77-b035-699a9577963f",
   "metadata": {
    "tags": []
   },
   "outputs": [
    {
     "data": {
      "text/html": [
       "<table border=\"1\" class=\"dataframe\">\n",
       "    <thead>\n",
       "        <tr>\n",
       "            <th>GENDER</th> <th>AGE</th> <th>2010</th> <th>2020</th>\n",
       "        </tr>\n",
       "    </thead>\n",
       "    <tbody>\n",
       "        <tr>\n",
       "            <td>0     </td> <td>0   </td> <td>3951495</td> <td>3735010</td>\n",
       "        </tr>\n",
       "        <tr>\n",
       "            <td>0     </td> <td>1   </td> <td>3957904</td> <td>3773884</td>\n",
       "        </tr>\n",
       "        <tr>\n",
       "            <td>0     </td> <td>2   </td> <td>4090799</td> <td>3853025</td>\n",
       "        </tr>\n",
       "        <tr>\n",
       "            <td>0     </td> <td>3   </td> <td>4111869</td> <td>3921526</td>\n",
       "        </tr>\n",
       "        <tr>\n",
       "            <td>0     </td> <td>4   </td> <td>4077511</td> <td>4017847</td>\n",
       "        </tr>\n",
       "        <tr>\n",
       "            <td>0     </td> <td>5   </td> <td>4064653</td> <td>4054336</td>\n",
       "        </tr>\n",
       "        <tr>\n",
       "            <td>0     </td> <td>6   </td> <td>4073031</td> <td>4040169</td>\n",
       "        </tr>\n",
       "        <tr>\n",
       "            <td>0     </td> <td>7   </td> <td>4043100</td> <td>4029753</td>\n",
       "        </tr>\n",
       "        <tr>\n",
       "            <td>0     </td> <td>8   </td> <td>4025624</td> <td>4034785</td>\n",
       "        </tr>\n",
       "        <tr>\n",
       "            <td>0     </td> <td>9   </td> <td>4125413</td> <td>4078668</td>\n",
       "        </tr>\n",
       "    </tbody>\n",
       "</table>\n",
       "<p>... (296 rows omitted)</p>"
      ],
      "text/plain": [
       "GENDER | AGE  | 2010    | 2020\n",
       "0      | 0    | 3951495 | 3735010\n",
       "0      | 1    | 3957904 | 3773884\n",
       "0      | 2    | 4090799 | 3853025\n",
       "0      | 3    | 4111869 | 3921526\n",
       "0      | 4    | 4077511 | 4017847\n",
       "0      | 5    | 4064653 | 4054336\n",
       "0      | 6    | 4073031 | 4040169\n",
       "0      | 7    | 4043100 | 4029753\n",
       "0      | 8    | 4025624 | 4034785\n",
       "0      | 9    | 4125413 | 4078668\n",
       "... (296 rows omitted)"
      ]
     },
     "execution_count": 50,
     "metadata": {},
     "output_type": "execute_result"
    }
   ],
   "source": [
    "# Chaining methods: applying each method successively on the result of the previous method.\n",
    "# The innermost operation is applied first.\n",
    "\n",
    "us_pop = partial_census_table.relabeled('POPESTIMATE2010', '2010').relabeled('POPESTIMATE2020', '2020').relabeled('SEX','GENDER')\n",
    "us_pop"
   ]
  },
  {
   "cell_type": "code",
   "execution_count": 51,
   "id": "b85f01c9-f11d-478d-838d-3b4b4cf11c78",
   "metadata": {
    "tags": []
   },
   "outputs": [
    {
     "data": {
      "text/html": [
       "<table border=\"1\" class=\"dataframe\">\n",
       "    <thead>\n",
       "        <tr>\n",
       "            <th>GENDER</th> <th>AGE</th> <th>2010</th> <th>2020</th>\n",
       "        </tr>\n",
       "    </thead>\n",
       "    <tbody>\n",
       "        <tr>\n",
       "            <td>0     </td> <td>0   </td> <td>3951495</td> <td>3735010</td>\n",
       "        </tr>\n",
       "        <tr>\n",
       "            <td>0     </td> <td>1   </td> <td>3957904</td> <td>3773884</td>\n",
       "        </tr>\n",
       "        <tr>\n",
       "            <td>0     </td> <td>2   </td> <td>4090799</td> <td>3853025</td>\n",
       "        </tr>\n",
       "        <tr>\n",
       "            <td>0     </td> <td>3   </td> <td>4111869</td> <td>3921526</td>\n",
       "        </tr>\n",
       "        <tr>\n",
       "            <td>0     </td> <td>4   </td> <td>4077511</td> <td>4017847</td>\n",
       "        </tr>\n",
       "        <tr>\n",
       "            <td>0     </td> <td>5   </td> <td>4064653</td> <td>4054336</td>\n",
       "        </tr>\n",
       "        <tr>\n",
       "            <td>0     </td> <td>6   </td> <td>4073031</td> <td>4040169</td>\n",
       "        </tr>\n",
       "        <tr>\n",
       "            <td>0     </td> <td>7   </td> <td>4043100</td> <td>4029753</td>\n",
       "        </tr>\n",
       "        <tr>\n",
       "            <td>0     </td> <td>8   </td> <td>4025624</td> <td>4034785</td>\n",
       "        </tr>\n",
       "        <tr>\n",
       "            <td>0     </td> <td>9   </td> <td>4125413</td> <td>4078668</td>\n",
       "        </tr>\n",
       "    </tbody>\n",
       "</table>\n",
       "<p>... (92 rows omitted)</p>"
      ],
      "text/plain": [
       "GENDER | AGE  | 2010    | 2020\n",
       "0      | 0    | 3951495 | 3735010\n",
       "0      | 1    | 3957904 | 3773884\n",
       "0      | 2    | 4090799 | 3853025\n",
       "0      | 3    | 4111869 | 3921526\n",
       "0      | 4    | 4077511 | 4017847\n",
       "0      | 5    | 4064653 | 4054336\n",
       "0      | 6    | 4073031 | 4040169\n",
       "0      | 7    | 4043100 | 4029753\n",
       "0      | 8    | 4025624 | 4034785\n",
       "0      | 9    | 4125413 | 4078668\n",
       "... (92 rows omitted)"
      ]
     },
     "execution_count": 51,
     "metadata": {},
     "output_type": "execute_result"
    }
   ],
   "source": [
    "# Using .where method [see:http://data8.org/datascience/reference-nb/datascience-reference.html#tbl.where() ]\n",
    "# This selects rows from a table that satisfy some condition.\n",
    "\n",
    "us_pop.where('GENDER',0)"
   ]
  },
  {
   "cell_type": "code",
   "execution_count": 52,
   "id": "9d2465c0-c77c-4e18-b1d8-1d9b942c6adb",
   "metadata": {
    "tags": []
   },
   "outputs": [
    {
     "data": {
      "text/html": [
       "<table border=\"1\" class=\"dataframe\">\n",
       "    <thead>\n",
       "        <tr>\n",
       "            <th>GENDER</th> <th>AGE</th> <th>2010</th> <th>2020</th>\n",
       "        </tr>\n",
       "    </thead>\n",
       "    <tbody>\n",
       "        <tr>\n",
       "            <td>0     </td> <td>0   </td> <td>3951495</td> <td>3735010</td>\n",
       "        </tr>\n",
       "        <tr>\n",
       "            <td>0     </td> <td>1   </td> <td>3957904</td> <td>3773884</td>\n",
       "        </tr>\n",
       "        <tr>\n",
       "            <td>0     </td> <td>2   </td> <td>4090799</td> <td>3853025</td>\n",
       "        </tr>\n",
       "        <tr>\n",
       "            <td>0     </td> <td>3   </td> <td>4111869</td> <td>3921526</td>\n",
       "        </tr>\n",
       "        <tr>\n",
       "            <td>0     </td> <td>4   </td> <td>4077511</td> <td>4017847</td>\n",
       "        </tr>\n",
       "        <tr>\n",
       "            <td>0     </td> <td>5   </td> <td>4064653</td> <td>4054336</td>\n",
       "        </tr>\n",
       "        <tr>\n",
       "            <td>0     </td> <td>6   </td> <td>4073031</td> <td>4040169</td>\n",
       "        </tr>\n",
       "        <tr>\n",
       "            <td>0     </td> <td>7   </td> <td>4043100</td> <td>4029753</td>\n",
       "        </tr>\n",
       "        <tr>\n",
       "            <td>0     </td> <td>8   </td> <td>4025624</td> <td>4034785</td>\n",
       "        </tr>\n",
       "        <tr>\n",
       "            <td>0     </td> <td>9   </td> <td>4125413</td> <td>4078668</td>\n",
       "        </tr>\n",
       "    </tbody>\n",
       "</table>\n",
       "<p>... (89 rows omitted)</p>"
      ],
      "text/plain": [
       "GENDER | AGE  | 2010    | 2020\n",
       "0      | 0    | 3951495 | 3735010\n",
       "0      | 1    | 3957904 | 3773884\n",
       "0      | 2    | 4090799 | 3853025\n",
       "0      | 3    | 4111869 | 3921526\n",
       "0      | 4    | 4077511 | 4017847\n",
       "0      | 5    | 4064653 | 4054336\n",
       "0      | 6    | 4073031 | 4040169\n",
       "0      | 7    | 4043100 | 4029753\n",
       "0      | 8    | 4025624 | 4034785\n",
       "0      | 9    | 4125413 | 4078668\n",
       "... (89 rows omitted)"
      ]
     },
     "execution_count": 52,
     "metadata": {},
     "output_type": "execute_result"
    }
   ],
   "source": [
    "popdata = us_pop.where('GENDER',0).where('AGE',are.below(99))\n",
    "popdata"
   ]
  },
  {
   "cell_type": "code",
   "execution_count": 53,
   "id": "169e9ca0-80c3-43f4-8149-94cd42b6f762",
   "metadata": {
    "tags": []
   },
   "outputs": [
    {
     "data": {
      "image/png": "[encoded data removed]",
      "text/plain": [
       "<Figure size 600x600 with 1 Axes>"
      ]
     },
     "metadata": {},
     "output_type": "display_data"
    }
   ],
   "source": [
    "# Plot to see offset\n",
    "popdata.select('AGE','2010','2020').plot('AGE')"
   ]
  },
  {
   "cell_type": "code",
   "execution_count": null,
   "id": "350be754-acaa-44dd-9a41-ab4b2d84665c",
   "metadata": {},
   "outputs": [],
   "source": []
  }
 ],
 "metadata": {
  "kernelspec": {
   "display_name": "Python 3 (ipykernel)",
   "language": "python",
   "name": "python3"
  },
  "language_info": {
   "codemirror_mode": {
    "name": "ipython",
    "version": 3
   },
   "file_extension": ".py",
   "mimetype": "text/x-python",
   "name": "python",
   "nbconvert_exporter": "python",
   "pygments_lexer": "ipython3",
   "version": "3.10.11"
  }
 },
 "nbformat": 4,
 "nbformat_minor": 5
}
