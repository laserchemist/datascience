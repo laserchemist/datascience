{
 "cells": [
  {
   "cell_type": "code",
   "execution_count": 1,
   "id": "91381634-c6f6-471d-98f2-cab87effa37d",
   "metadata": {
    "tags": []
   },
   "outputs": [],
   "source": [
    "from datascience import *\n",
    "import numpy as np\n",
    "import matplotlib.pyplot as plt\n",
    "from matplotlib.patches import FancyArrowPatch\n",
    "import seaborn as sns\n",
    "%matplotlib inline "
   ]
  },
  {
   "cell_type": "code",
   "execution_count": 2,
   "id": "1f456cc3-4f5d-4f1b-b2c1-cae3b13cb355",
   "metadata": {
    "tags": []
   },
   "outputs": [
    {
     "data": {
      "text/html": [
       "<table border=\"1\" class=\"dataframe\">\n",
       "    <thead>\n",
       "        <tr>\n",
       "            <th>Patients</th> <th>Recovery Time (days)</th>\n",
       "        </tr>\n",
       "    </thead>\n",
       "    <tbody>\n",
       "        <tr>\n",
       "            <td>Control </td> <td>22                  </td>\n",
       "        </tr>\n",
       "        <tr>\n",
       "            <td>Control </td> <td>33                  </td>\n",
       "        </tr>\n",
       "        <tr>\n",
       "            <td>Control </td> <td>40                  </td>\n",
       "        </tr>\n",
       "        <tr>\n",
       "            <td>Treated </td> <td>19                  </td>\n",
       "        </tr>\n",
       "        <tr>\n",
       "            <td>Treated </td> <td>22                  </td>\n",
       "        </tr>\n",
       "        <tr>\n",
       "            <td>Treated </td> <td>25                  </td>\n",
       "        </tr>\n",
       "        <tr>\n",
       "            <td>Treated </td> <td>26                  </td>\n",
       "        </tr>\n",
       "    </tbody>\n",
       "</table>"
      ],
      "text/plain": [
       "Patients | Recovery Time (days)\n",
       "Control  | 22\n",
       "Control  | 33\n",
       "Control  | 40\n",
       "Treated  | 19\n",
       "Treated  | 22\n",
       "Treated  | 25\n",
       "Treated  | 26"
      ]
     },
     "execution_count": 2,
     "metadata": {},
     "output_type": "execute_result"
    }
   ],
   "source": [
    "experiment = Table().with_columns(\n",
    "    \"Patients\", make_array(\"Control\", \"Control\", \"Control\", \"Treated\", \"Treated\", \"Treated\", \"Treated\"),\n",
    "    \"Recovery Time (days)\", make_array(22, 33, 40,19, 22, 25, 26)\n",
    ")\n",
    "experiment"
   ]
  },
  {
   "cell_type": "code",
   "execution_count": 3,
   "id": "b9ecdd16-da14-42bd-8510-e6558cf0f331",
   "metadata": {
    "tags": []
   },
   "outputs": [
    {
     "data": {
      "text/html": [
       "<table border=\"1\" class=\"dataframe\">\n",
       "    <thead>\n",
       "        <tr>\n",
       "            <th>Patients</th> <th>Recovery Time (days) mean</th>\n",
       "        </tr>\n",
       "    </thead>\n",
       "    <tbody>\n",
       "        <tr>\n",
       "            <td>Control </td> <td>31.6667                  </td>\n",
       "        </tr>\n",
       "        <tr>\n",
       "            <td>Treated </td> <td>23                       </td>\n",
       "        </tr>\n",
       "    </tbody>\n",
       "</table>"
      ],
      "text/plain": [
       "Patients | Recovery Time (days) mean\n",
       "Control  | 31.6667\n",
       "Treated  | 23"
      ]
     },
     "execution_count": 3,
     "metadata": {},
     "output_type": "execute_result"
    }
   ],
   "source": [
    "experiment.group(\"Patients\", np.mean)"
   ]
  },
  {
   "cell_type": "code",
   "execution_count": 4,
   "id": "5635cc08-59f0-4a50-b635-d217314d5a62",
   "metadata": {
    "tags": []
   },
   "outputs": [
    {
     "data": {
      "text/html": [
       "<table border=\"1\" class=\"dataframe\">\n",
       "    <thead>\n",
       "        <tr>\n",
       "            <th>Patients</th> <th>Recovery Time (days) std</th>\n",
       "        </tr>\n",
       "    </thead>\n",
       "    <tbody>\n",
       "        <tr>\n",
       "            <td>Control </td> <td>7.4087                  </td>\n",
       "        </tr>\n",
       "        <tr>\n",
       "            <td>Treated </td> <td>2.73861                 </td>\n",
       "        </tr>\n",
       "    </tbody>\n",
       "</table>"
      ],
      "text/plain": [
       "Patients | Recovery Time (days) std\n",
       "Control  | 7.4087\n",
       "Treated  | 2.73861"
      ]
     },
     "execution_count": 4,
     "metadata": {},
     "output_type": "execute_result"
    }
   ],
   "source": [
    "experiment.group(\"Patients\", np.std)"
   ]
  },
  {
   "cell_type": "code",
   "execution_count": 7,
   "id": "1e507f27-6b02-4991-8a1a-3060b21e740d",
   "metadata": {
    "tags": []
   },
   "outputs": [
    {
     "data": {
      "image/png": "[encoded data removed]",
      "text/plain": [
       "<Figure size 500x500 with 1 Axes>"
      ]
     },
     "metadata": {},
     "output_type": "display_data"
    }
   ],
   "source": [
    "control_mean = 31.7\n",
    "treated_mean = 23\n",
    "\n",
    "sns.catplot(data=experiment.to_df(), x=\"Patients\", y=\"Recovery Time (days)\")\n",
    "ax = plt.gca()\n",
    "ax.set_ylim((0, 45))\n",
    "ticks = ax.get_xticks()\n",
    "w = 0.1\n",
    "xmin, xmax = ax.get_xlim()\n",
    "ax.hlines(control_mean, ticks[0]-w, ticks[0]+w)\n",
    "ax.hlines(treated_mean, ticks[1]-w, ticks[1]+w)\n",
    "ax.hlines(control_mean, ticks[0]+w, xmax, linestyles='dotted')\n",
    "ax.hlines(treated_mean, ticks[1]+w, xmax, linestyles='dotted')\n",
    "ax.vlines(xmax, treated_mean, control_mean,)\n",
    "my_arrow = FancyArrowPatch(posA=(xmax, treated_mean),\n",
    "                          posB=(xmax, control_mean), \n",
    "                          arrowstyle='<|-|>', color=\"0.5\",\n",
    "                          mutation_scale=10, shrinkA=0, shrinkB=0)\n",
    "ax.add_artist(my_arrow)\n",
    "ax.text(xmax-w, 20, \"AVG DIFF 8.67\")\n",
    "plt.show();"
   ]
  },
  {
   "cell_type": "code",
   "execution_count": 8,
   "id": "78910a95-afd9-4890-a742-8118c47f84ef",
   "metadata": {
    "tags": []
   },
   "outputs": [
    {
     "data": {
      "text/html": [
       "<table border=\"1\" class=\"dataframe\">\n",
       "    <thead>\n",
       "        <tr>\n",
       "            <th>Patients</th> <th>Recovery Time (days)</th>\n",
       "        </tr>\n",
       "    </thead>\n",
       "    <tbody>\n",
       "        <tr>\n",
       "            <td>Control </td> <td>22                  </td>\n",
       "        </tr>\n",
       "        <tr>\n",
       "            <td>Control </td> <td>33                  </td>\n",
       "        </tr>\n",
       "        <tr>\n",
       "            <td>Control </td> <td>40                  </td>\n",
       "        </tr>\n",
       "        <tr>\n",
       "            <td>Treated </td> <td>19                  </td>\n",
       "        </tr>\n",
       "        <tr>\n",
       "            <td>Treated </td> <td>22                  </td>\n",
       "        </tr>\n",
       "        <tr>\n",
       "            <td>Treated </td> <td>25                  </td>\n",
       "        </tr>\n",
       "        <tr>\n",
       "            <td>Treated </td> <td>26                  </td>\n",
       "        </tr>\n",
       "    </tbody>\n",
       "</table>"
      ],
      "text/plain": [
       "Patients | Recovery Time (days)\n",
       "Control  | 22\n",
       "Control  | 33\n",
       "Control  | 40\n",
       "Treated  | 19\n",
       "Treated  | 22\n",
       "Treated  | 25\n",
       "Treated  | 26"
      ]
     },
     "execution_count": 8,
     "metadata": {},
     "output_type": "execute_result"
    }
   ],
   "source": [
    "experiment"
   ]
  },
  {
   "cell_type": "code",
   "execution_count": 17,
   "id": "38e6119f-ab25-468e-aaae-9ac7e7c8caac",
   "metadata": {
    "tags": []
   },
   "outputs": [],
   "source": [
    "num_simulations = 50000\n",
    "differences_in_means = []\n",
    "for i in np.arange(num_simulations):\n",
    "    sample = (experiment.select(\"Recovery Time (days)\")\n",
    "              .sample(7, with_replacement=False)\n",
    "              .column(\"Recovery Time (days)\")\n",
    "             )\n",
    "    control_mean = np.mean(sample[0:3])\n",
    "    treatment_mean = np.mean(sample[3:7])\n",
    "    differences_in_means.append(control_mean - treatment_mean)"
   ]
  },
  {
   "cell_type": "code",
   "execution_count": 10,
   "id": "c900186c-6112-4513-b02f-e52ee08d9d72",
   "metadata": {
    "tags": []
   },
   "outputs": [
    {
     "data": {
      "text/plain": [
       "0.0861"
      ]
     },
     "execution_count": 10,
     "metadata": {},
     "output_type": "execute_result"
    }
   ],
   "source": [
    "np.count_nonzero(abs(np.array(differences_in_means)) >= 8.67) / num_simulations"
   ]
  },
  {
   "cell_type": "code",
   "execution_count": 22,
   "id": "f60e4505-028d-4da5-b8b0-88c1329a18cb",
   "metadata": {},
   "outputs": [
    {
     "name": "stdout",
     "output_type": "stream",
     "text": [
      "P-value from simulation: 0.08536\n"
     ]
    }
   ],
   "source": [
    "num_simulations = 100000\n",
    "diff_means = 8.67\n",
    "simulated_diffs = []\n",
    "recovery = experiment.column(\"Recovery Time (days)\")\n",
    "for _ in np.arange(num_simulations):\n",
    "    np.random.shuffle(recovery)\n",
    "    new_diff = np.mean(recovery[:3]) - np.mean(recovery[3:])\n",
    "    simulated_diffs.append(new_diff)\n",
    "p_val_simulation = np.sum(np.abs(simulated_diffs) >= diff_means) / num_simulations\n",
    "print(f\"P-value from simulation: {p_val_simulation}\")"
   ]
  },
  {
   "cell_type": "code",
   "execution_count": 14,
   "id": "2d9a7c8f-d9e8-4607-ab81-deca85e080dd",
   "metadata": {
    "tags": []
   },
   "outputs": [],
   "source": [
    "np.random.shuffle(recovery)"
   ]
  },
  {
   "cell_type": "code",
   "execution_count": 15,
   "id": "f979eb65-796b-4c5d-8131-8125bb300ddf",
   "metadata": {
    "tags": []
   },
   "outputs": [
    {
     "data": {
      "text/plain": [
       "array([22, 22, 19, 33, 25, 26, 40])"
      ]
     },
     "execution_count": 15,
     "metadata": {},
     "output_type": "execute_result"
    }
   ],
   "source": [
    "recovery"
   ]
  },
  {
   "cell_type": "code",
   "execution_count": null,
   "id": "52690a2c-b003-49ad-8696-ce6535dd30f4",
   "metadata": {},
   "outputs": [],
   "source": []
  }
 ],
 "metadata": {
  "kernelspec": {
   "display_name": "Python 3 (ipykernel)",
   "language": "python",
   "name": "python3"
  },
  "language_info": {
   "codemirror_mode": {
    "name": "ipython",
    "version": 3
   },
   "file_extension": ".py",
   "mimetype": "text/x-python",
   "name": "python",
   "nbconvert_exporter": "python",
   "pygments_lexer": "ipython3",
   "version": "3.10.11"
  }
 },
 "nbformat": 4,
 "nbformat_minor": 5
}
