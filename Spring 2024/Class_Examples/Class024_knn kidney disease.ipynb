{
 "cells": [
  {
   "cell_type": "markdown",
   "id": "a5467a5d",
   "metadata": {},
   "source": [
    "### k nearest neighbors example\n",
    "Chronic kidney disease data"
   ]
  },
  {
   "cell_type": "code",
   "execution_count": 1,
   "id": "e645a418",
   "metadata": {
    "tags": []
   },
   "outputs": [],
   "source": [
    "import numpy as np\n",
    "from datascience import *\n",
    "import pandas as pd\n",
    "import matplotlib\n",
    "%matplotlib inline\n",
    "import matplotlib.pyplot as plt\n",
    "plt.style.use('fivethirtyeight')\n",
    "import warnings\n",
    "warnings.simplefilter('ignore', UserWarning)\n",
    "from IPython.display import Image\n",
    "from matplotlib.colors import ListedColormap\n",
    "from sklearn import neighbors, datasets\n",
    "import EDS\n",
    "from rdkit import Chem\n",
    "from rdkit.Chem.Draw import IPythonConsole #Needed to show molecules\n",
    "from rdkit.Chem.Draw.MolDrawing import MolDrawing, DrawingOptions #Only needed if modifying defaults\n",
    "from rdkit.Chem import AllChem\n",
    "from rdkit.Chem import Draw\n",
    "from rdkit import DataStructs"
   ]
  },
  {
   "cell_type": "code",
   "execution_count": 2,
   "id": "daf9a617",
   "metadata": {
    "tags": []
   },
   "outputs": [
    {
     "data": {
      "text/html": [
       "<div>\n",
       "<style scoped>\n",
       "    .dataframe tbody tr th:only-of-type {\n",
       "        vertical-align: middle;\n",
       "    }\n",
       "\n",
       "    .dataframe tbody tr th {\n",
       "        vertical-align: top;\n",
       "    }\n",
       "\n",
       "    .dataframe thead th {\n",
       "        text-align: right;\n",
       "    }\n",
       "</style>\n",
       "<table border=\"1\" class=\"dataframe\">\n",
       "  <thead>\n",
       "    <tr style=\"text-align: right;\">\n",
       "      <th></th>\n",
       "      <th>id</th>\n",
       "      <th>age</th>\n",
       "      <th>bp</th>\n",
       "      <th>sg</th>\n",
       "      <th>al</th>\n",
       "      <th>su</th>\n",
       "      <th>rbc</th>\n",
       "      <th>pc</th>\n",
       "      <th>pcc</th>\n",
       "      <th>ba</th>\n",
       "      <th>...</th>\n",
       "      <th>pcv</th>\n",
       "      <th>wc</th>\n",
       "      <th>rc</th>\n",
       "      <th>htn</th>\n",
       "      <th>dm</th>\n",
       "      <th>cad</th>\n",
       "      <th>appet</th>\n",
       "      <th>pe</th>\n",
       "      <th>ane</th>\n",
       "      <th>classification</th>\n",
       "    </tr>\n",
       "  </thead>\n",
       "  <tbody>\n",
       "    <tr>\n",
       "      <th>3</th>\n",
       "      <td>3</td>\n",
       "      <td>48.0</td>\n",
       "      <td>70.0</td>\n",
       "      <td>1.005</td>\n",
       "      <td>4.0</td>\n",
       "      <td>0.0</td>\n",
       "      <td>normal</td>\n",
       "      <td>abnormal</td>\n",
       "      <td>present</td>\n",
       "      <td>notpresent</td>\n",
       "      <td>...</td>\n",
       "      <td>32.0</td>\n",
       "      <td>6700.0</td>\n",
       "      <td>3.9</td>\n",
       "      <td>yes</td>\n",
       "      <td>no</td>\n",
       "      <td>no</td>\n",
       "      <td>poor</td>\n",
       "      <td>yes</td>\n",
       "      <td>yes</td>\n",
       "      <td>ckd</td>\n",
       "    </tr>\n",
       "    <tr>\n",
       "      <th>9</th>\n",
       "      <td>9</td>\n",
       "      <td>53.0</td>\n",
       "      <td>90.0</td>\n",
       "      <td>1.020</td>\n",
       "      <td>2.0</td>\n",
       "      <td>0.0</td>\n",
       "      <td>abnormal</td>\n",
       "      <td>abnormal</td>\n",
       "      <td>present</td>\n",
       "      <td>notpresent</td>\n",
       "      <td>...</td>\n",
       "      <td>29.0</td>\n",
       "      <td>12100.0</td>\n",
       "      <td>3.7</td>\n",
       "      <td>yes</td>\n",
       "      <td>yes</td>\n",
       "      <td>no</td>\n",
       "      <td>poor</td>\n",
       "      <td>no</td>\n",
       "      <td>yes</td>\n",
       "      <td>ckd</td>\n",
       "    </tr>\n",
       "    <tr>\n",
       "      <th>11</th>\n",
       "      <td>11</td>\n",
       "      <td>63.0</td>\n",
       "      <td>70.0</td>\n",
       "      <td>1.010</td>\n",
       "      <td>3.0</td>\n",
       "      <td>0.0</td>\n",
       "      <td>abnormal</td>\n",
       "      <td>abnormal</td>\n",
       "      <td>present</td>\n",
       "      <td>notpresent</td>\n",
       "      <td>...</td>\n",
       "      <td>32.0</td>\n",
       "      <td>4500.0</td>\n",
       "      <td>3.8</td>\n",
       "      <td>yes</td>\n",
       "      <td>yes</td>\n",
       "      <td>no</td>\n",
       "      <td>poor</td>\n",
       "      <td>yes</td>\n",
       "      <td>no</td>\n",
       "      <td>ckd</td>\n",
       "    </tr>\n",
       "    <tr>\n",
       "      <th>14</th>\n",
       "      <td>14</td>\n",
       "      <td>68.0</td>\n",
       "      <td>80.0</td>\n",
       "      <td>1.010</td>\n",
       "      <td>3.0</td>\n",
       "      <td>2.0</td>\n",
       "      <td>normal</td>\n",
       "      <td>abnormal</td>\n",
       "      <td>present</td>\n",
       "      <td>present</td>\n",
       "      <td>...</td>\n",
       "      <td>16.0</td>\n",
       "      <td>11000.0</td>\n",
       "      <td>2.6</td>\n",
       "      <td>yes</td>\n",
       "      <td>yes</td>\n",
       "      <td>yes</td>\n",
       "      <td>poor</td>\n",
       "      <td>yes</td>\n",
       "      <td>no</td>\n",
       "      <td>ckd</td>\n",
       "    </tr>\n",
       "    <tr>\n",
       "      <th>20</th>\n",
       "      <td>20</td>\n",
       "      <td>61.0</td>\n",
       "      <td>80.0</td>\n",
       "      <td>1.015</td>\n",
       "      <td>2.0</td>\n",
       "      <td>0.0</td>\n",
       "      <td>abnormal</td>\n",
       "      <td>abnormal</td>\n",
       "      <td>notpresent</td>\n",
       "      <td>notpresent</td>\n",
       "      <td>...</td>\n",
       "      <td>24.0</td>\n",
       "      <td>9200.0</td>\n",
       "      <td>3.2</td>\n",
       "      <td>yes</td>\n",
       "      <td>yes</td>\n",
       "      <td>yes</td>\n",
       "      <td>poor</td>\n",
       "      <td>yes</td>\n",
       "      <td>yes</td>\n",
       "      <td>ckd</td>\n",
       "    </tr>\n",
       "    <tr>\n",
       "      <th>...</th>\n",
       "      <td>...</td>\n",
       "      <td>...</td>\n",
       "      <td>...</td>\n",
       "      <td>...</td>\n",
       "      <td>...</td>\n",
       "      <td>...</td>\n",
       "      <td>...</td>\n",
       "      <td>...</td>\n",
       "      <td>...</td>\n",
       "      <td>...</td>\n",
       "      <td>...</td>\n",
       "      <td>...</td>\n",
       "      <td>...</td>\n",
       "      <td>...</td>\n",
       "      <td>...</td>\n",
       "      <td>...</td>\n",
       "      <td>...</td>\n",
       "      <td>...</td>\n",
       "      <td>...</td>\n",
       "      <td>...</td>\n",
       "      <td>...</td>\n",
       "    </tr>\n",
       "    <tr>\n",
       "      <th>395</th>\n",
       "      <td>395</td>\n",
       "      <td>55.0</td>\n",
       "      <td>80.0</td>\n",
       "      <td>1.020</td>\n",
       "      <td>0.0</td>\n",
       "      <td>0.0</td>\n",
       "      <td>normal</td>\n",
       "      <td>normal</td>\n",
       "      <td>notpresent</td>\n",
       "      <td>notpresent</td>\n",
       "      <td>...</td>\n",
       "      <td>47.0</td>\n",
       "      <td>6700.0</td>\n",
       "      <td>4.9</td>\n",
       "      <td>no</td>\n",
       "      <td>no</td>\n",
       "      <td>no</td>\n",
       "      <td>good</td>\n",
       "      <td>no</td>\n",
       "      <td>no</td>\n",
       "      <td>notckd</td>\n",
       "    </tr>\n",
       "    <tr>\n",
       "      <th>396</th>\n",
       "      <td>396</td>\n",
       "      <td>42.0</td>\n",
       "      <td>70.0</td>\n",
       "      <td>1.025</td>\n",
       "      <td>0.0</td>\n",
       "      <td>0.0</td>\n",
       "      <td>normal</td>\n",
       "      <td>normal</td>\n",
       "      <td>notpresent</td>\n",
       "      <td>notpresent</td>\n",
       "      <td>...</td>\n",
       "      <td>54.0</td>\n",
       "      <td>7800.0</td>\n",
       "      <td>6.2</td>\n",
       "      <td>no</td>\n",
       "      <td>no</td>\n",
       "      <td>no</td>\n",
       "      <td>good</td>\n",
       "      <td>no</td>\n",
       "      <td>no</td>\n",
       "      <td>notckd</td>\n",
       "    </tr>\n",
       "    <tr>\n",
       "      <th>397</th>\n",
       "      <td>397</td>\n",
       "      <td>12.0</td>\n",
       "      <td>80.0</td>\n",
       "      <td>1.020</td>\n",
       "      <td>0.0</td>\n",
       "      <td>0.0</td>\n",
       "      <td>normal</td>\n",
       "      <td>normal</td>\n",
       "      <td>notpresent</td>\n",
       "      <td>notpresent</td>\n",
       "      <td>...</td>\n",
       "      <td>49.0</td>\n",
       "      <td>6600.0</td>\n",
       "      <td>5.4</td>\n",
       "      <td>no</td>\n",
       "      <td>no</td>\n",
       "      <td>no</td>\n",
       "      <td>good</td>\n",
       "      <td>no</td>\n",
       "      <td>no</td>\n",
       "      <td>notckd</td>\n",
       "    </tr>\n",
       "    <tr>\n",
       "      <th>398</th>\n",
       "      <td>398</td>\n",
       "      <td>17.0</td>\n",
       "      <td>60.0</td>\n",
       "      <td>1.025</td>\n",
       "      <td>0.0</td>\n",
       "      <td>0.0</td>\n",
       "      <td>normal</td>\n",
       "      <td>normal</td>\n",
       "      <td>notpresent</td>\n",
       "      <td>notpresent</td>\n",
       "      <td>...</td>\n",
       "      <td>51.0</td>\n",
       "      <td>7200.0</td>\n",
       "      <td>5.9</td>\n",
       "      <td>no</td>\n",
       "      <td>no</td>\n",
       "      <td>no</td>\n",
       "      <td>good</td>\n",
       "      <td>no</td>\n",
       "      <td>no</td>\n",
       "      <td>notckd</td>\n",
       "    </tr>\n",
       "    <tr>\n",
       "      <th>399</th>\n",
       "      <td>399</td>\n",
       "      <td>58.0</td>\n",
       "      <td>80.0</td>\n",
       "      <td>1.025</td>\n",
       "      <td>0.0</td>\n",
       "      <td>0.0</td>\n",
       "      <td>normal</td>\n",
       "      <td>normal</td>\n",
       "      <td>notpresent</td>\n",
       "      <td>notpresent</td>\n",
       "      <td>...</td>\n",
       "      <td>53.0</td>\n",
       "      <td>6800.0</td>\n",
       "      <td>6.1</td>\n",
       "      <td>no</td>\n",
       "      <td>no</td>\n",
       "      <td>no</td>\n",
       "      <td>good</td>\n",
       "      <td>no</td>\n",
       "      <td>no</td>\n",
       "      <td>notckd</td>\n",
       "    </tr>\n",
       "  </tbody>\n",
       "</table>\n",
       "<p>158 rows × 26 columns</p>\n",
       "</div>"
      ],
      "text/plain": [
       "      id   age    bp     sg   al   su       rbc        pc         pcc  \\\n",
       "3      3  48.0  70.0  1.005  4.0  0.0    normal  abnormal     present   \n",
       "9      9  53.0  90.0  1.020  2.0  0.0  abnormal  abnormal     present   \n",
       "11    11  63.0  70.0  1.010  3.0  0.0  abnormal  abnormal     present   \n",
       "14    14  68.0  80.0  1.010  3.0  2.0    normal  abnormal     present   \n",
       "20    20  61.0  80.0  1.015  2.0  0.0  abnormal  abnormal  notpresent   \n",
       "..   ...   ...   ...    ...  ...  ...       ...       ...         ...   \n",
       "395  395  55.0  80.0  1.020  0.0  0.0    normal    normal  notpresent   \n",
       "396  396  42.0  70.0  1.025  0.0  0.0    normal    normal  notpresent   \n",
       "397  397  12.0  80.0  1.020  0.0  0.0    normal    normal  notpresent   \n",
       "398  398  17.0  60.0  1.025  0.0  0.0    normal    normal  notpresent   \n",
       "399  399  58.0  80.0  1.025  0.0  0.0    normal    normal  notpresent   \n",
       "\n",
       "             ba  ...   pcv       wc   rc  htn   dm  cad  appet   pe  ane  \\\n",
       "3    notpresent  ...  32.0   6700.0  3.9  yes   no   no   poor  yes  yes   \n",
       "9    notpresent  ...  29.0  12100.0  3.7  yes  yes   no   poor   no  yes   \n",
       "11   notpresent  ...  32.0   4500.0  3.8  yes  yes   no   poor  yes   no   \n",
       "14      present  ...  16.0  11000.0  2.6  yes  yes  yes   poor  yes   no   \n",
       "20   notpresent  ...  24.0   9200.0  3.2  yes  yes  yes   poor  yes  yes   \n",
       "..          ...  ...   ...      ...  ...  ...  ...  ...    ...  ...  ...   \n",
       "395  notpresent  ...  47.0   6700.0  4.9   no   no   no   good   no   no   \n",
       "396  notpresent  ...  54.0   7800.0  6.2   no   no   no   good   no   no   \n",
       "397  notpresent  ...  49.0   6600.0  5.4   no   no   no   good   no   no   \n",
       "398  notpresent  ...  51.0   7200.0  5.9   no   no   no   good   no   no   \n",
       "399  notpresent  ...  53.0   6800.0  6.1   no   no   no   good   no   no   \n",
       "\n",
       "    classification  \n",
       "3              ckd  \n",
       "9              ckd  \n",
       "11             ckd  \n",
       "14             ckd  \n",
       "20             ckd  \n",
       "..             ...  \n",
       "395         notckd  \n",
       "396         notckd  \n",
       "397         notckd  \n",
       "398         notckd  \n",
       "399         notckd  \n",
       "\n",
       "[158 rows x 26 columns]"
      ]
     },
     "execution_count": 2,
     "metadata": {},
     "output_type": "execute_result"
    }
   ],
   "source": [
    "url = \"https://raw.githubusercontent.com/vamshikrishnajr/chronic-kidney-disease-diagnosis/master/kidney_disease.csv\"\n",
    "ckd_db = pd.read_csv(url)\n",
    "ckd_db.dropna(axis=0,  inplace=True)\n",
    "ckd_db"
   ]
  },
  {
   "cell_type": "code",
   "execution_count": null,
   "id": "d82090fe",
   "metadata": {
    "tags": []
   },
   "outputs": [],
   "source": [
    "ckd_db['Class'] = np.where(ckd_db['classification'] == \"ckd\", 1, 0)\n",
    "ckd = Table().from_df(ckd_db)\n",
    "ckd"
   ]
  },
  {
   "cell_type": "code",
   "execution_count": null,
   "id": "29e792ef",
   "metadata": {
    "tags": []
   },
   "outputs": [],
   "source": [
    "def standard_units(xyz):\n",
    "    \"Convert any array of numbers to standard units.\"\n",
    "    return (xyz - np.mean(xyz))/np.std(xyz)  "
   ]
  },
  {
   "cell_type": "code",
   "execution_count": null,
   "id": "5f1e0a2d",
   "metadata": {
    "tags": []
   },
   "outputs": [],
   "source": [
    "ckd_s = Table().with_columns(\n",
    "    'Hemoglobin', standard_units(ckd.column('hemo')),\n",
    "    'Glucose', standard_units(ckd.column('bgr')),\n",
    "    'White Blood Cell Count', standard_units(ckd.column('wc')),\n",
    "    'Class', (ckd.column('Class'))\n",
    ")"
   ]
  },
  {
   "cell_type": "code",
   "execution_count": null,
   "id": "3f22563d",
   "metadata": {
    "tags": []
   },
   "outputs": [],
   "source": [
    "ckd_s.stats()"
   ]
  },
  {
   "cell_type": "code",
   "execution_count": null,
   "id": "f696140a",
   "metadata": {
    "tags": []
   },
   "outputs": [],
   "source": [
    "color_table = Table().with_columns(\n",
    "    'Class', make_array(1, 0),\n",
    "    'Color', make_array('darkblue', 'gold')\n",
    ")\n",
    "ckd_s = ckd_s.join('Class', color_table)"
   ]
  },
  {
   "cell_type": "code",
   "execution_count": null,
   "id": "ddd4b222-b792-4bf2-b45e-1132c6400e56",
   "metadata": {
    "tags": []
   },
   "outputs": [],
   "source": [
    "ckd_s"
   ]
  },
  {
   "cell_type": "code",
   "execution_count": null,
   "id": "743b061a",
   "metadata": {
    "tags": []
   },
   "outputs": [],
   "source": [
    "ckd_s.scatter('Hemoglobin', 'Glucose', group='Color')"
   ]
  },
  {
   "cell_type": "code",
   "execution_count": null,
   "id": "40fa56c3",
   "metadata": {
    "tags": []
   },
   "outputs": [],
   "source": [
    "ckd_s.scatter('White Blood Cell Count', 'Glucose', group='Color')"
   ]
  },
  {
   "cell_type": "code",
   "execution_count": null,
   "id": "a484425f",
   "metadata": {
    "tags": []
   },
   "outputs": [],
   "source": [
    "train, test = ckd_s.split(int(ckd_s.num_rows*0.8))\n",
    "print(train.num_rows, 'training and', test.num_rows, 'test instances.')"
   ]
  },
  {
   "cell_type": "code",
   "execution_count": null,
   "id": "aa736ca6",
   "metadata": {
    "tags": []
   },
   "outputs": [],
   "source": [
    "def distance(point1, point2):\n",
    "    \"\"\"Returns the Euclidean distance between point1 and point2.\n",
    "    \n",
    "    Each argument is an array containing the coordinates of a point.\"\"\"\n",
    "    return np.sqrt(np.sum((point1 - point2)**2))"
   ]
  },
  {
   "cell_type": "code",
   "execution_count": null,
   "id": "c70525fe",
   "metadata": {
    "tags": []
   },
   "outputs": [],
   "source": [
    "def row_distance(row1, row2):\n",
    "    \"\"\"The distance between two rows of a table.\"\"\"\n",
    "    return distance(np.array(row1), np.array(row2)) # Need to convert rows into arrays"
   ]
  },
  {
   "cell_type": "code",
   "execution_count": null,
   "id": "3fb1395e",
   "metadata": {
    "tags": []
   },
   "outputs": [],
   "source": [
    "test_point_row = test.drop(\"Class\",\"Color\").row(9)\n",
    "train_point_row = train.drop(\"Class\",\"Color\").row(8)"
   ]
  },
  {
   "cell_type": "code",
   "execution_count": null,
   "id": "fc02e102",
   "metadata": {
    "tags": []
   },
   "outputs": [],
   "source": [
    "np.array(train_point_row)"
   ]
  },
  {
   "cell_type": "code",
   "execution_count": null,
   "id": "9dbb35b6",
   "metadata": {
    "tags": []
   },
   "outputs": [],
   "source": [
    "row_distance(train_point_row,test_point_row)"
   ]
  },
  {
   "cell_type": "code",
   "execution_count": null,
   "id": "daed5d36-d4ad-4827-ab8f-5ac6c9bfc6a4",
   "metadata": {
    "tags": []
   },
   "outputs": [],
   "source": [
    "test.show(9)"
   ]
  },
  {
   "cell_type": "code",
   "execution_count": null,
   "id": "b5348948",
   "metadata": {
    "tags": []
   },
   "outputs": [],
   "source": [
    "def distances(training, example, output):\n",
    "    \"\"\"Compute the distance from example for each row in training.\"\"\"\n",
    "    dists = []\n",
    "    attributes = training.drop(output)\n",
    "    for row in attributes.rows:\n",
    "        dists.append(row_distance(row, example))\n",
    "    return training.with_column('Distance', dists)\n",
    "\n",
    "def closest(training, example, k, output):\n",
    "    \"\"\"Return a table of the k closest neighbors to example.\"\"\"\n",
    "    return distances(training, example, output).sort('Distance').take(np.arange(k))"
   ]
  },
  {
   "cell_type": "code",
   "execution_count": null,
   "id": "0a4bfdcf-2654-4517-a191-56462a98c8dc",
   "metadata": {
    "tags": []
   },
   "outputs": [],
   "source": [
    "test.row(31)"
   ]
  },
  {
   "cell_type": "code",
   "execution_count": null,
   "id": "d682a864",
   "metadata": {
    "tags": []
   },
   "outputs": [],
   "source": [
    "cl_knn = closest(train.drop(\"Color\"), test.drop(\"Class\",\"Color\").row(31), 8, \"Class\")\n",
    "cl_knn"
   ]
  },
  {
   "cell_type": "markdown",
   "id": "acdfe215",
   "metadata": {},
   "source": [
    "### We can use most frequent value for the class as the prediction (like majority)"
   ]
  },
  {
   "cell_type": "code",
   "execution_count": null,
   "id": "26c4a2f8",
   "metadata": {
    "tags": []
   },
   "outputs": [],
   "source": [
    "print(\"Most frequent value in the above array:\")\n",
    "print(np.bincount(cl_knn.column(\"Class\")).argmax())"
   ]
  },
  {
   "cell_type": "markdown",
   "id": "46d8a433",
   "metadata": {},
   "source": [
    "### Prediction\n",
    "Now lets predict across all test rows and get a % accuracy"
   ]
  },
  {
   "cell_type": "code",
   "execution_count": null,
   "id": "220e54b4",
   "metadata": {
    "tags": []
   },
   "outputs": [],
   "source": [
    "correct = 0\n",
    "k = 20\n",
    "for i, row in enumerate(test.drop(\"Color\").rows):\n",
    "    #print(i,row)\n",
    "    cl_knn = closest(train.drop(\"Color\"), test.drop(\"Class\",\"Color\").row(i), k, \"Class\")\n",
    "    print(i,\" Prediction: \",np.bincount(cl_knn.column(\"Class\")).argmax(),\" Actual: \",test.column(\"Class\").take(i))\n",
    "    correct += (np.bincount(cl_knn.column(\"Class\")).argmax()==test.column(\"Class\").take(i))\n",
    "print(\"% Correct: \",correct/(i+1)*100)"
   ]
  },
  {
   "cell_type": "markdown",
   "id": "7740e567-0355-4b75-8dd5-36566dfd1bb0",
   "metadata": {},
   "source": [
    "### Machine Learning Prediction of molecular Properties"
   ]
  },
  {
   "cell_type": "code",
   "execution_count": 2,
   "id": "c98c178b-7453-4d36-a030-6f9ec8c2920d",
   "metadata": {},
   "outputs": [
    {
     "data": {
      "image/png": "[encoded data removed]",
      "text/plain": [
       "<rdkit.Chem.rdchem.Mol at 0x108011b80>"
      ]
     },
     "execution_count": 2,
     "metadata": {},
     "output_type": "execute_result"
    }
   ],
   "source": [
    "Chem.MolFromSmiles(\"[NH2+]CC(O)=O\") # Glycine an amino acid"
   ]
  },
  {
   "cell_type": "code",
   "execution_count": 3,
   "id": "e9d9ad99-8f5f-4b15-8a3b-637a0218149d",
   "metadata": {},
   "outputs": [
    {
     "data": {
      "application/3dmoljs_load.v0": "<div id=\"3dmolviewer_1712836198311896\"  style=\"position: relative; width: 600px; height: 300px;\">\n        <p id=\"3dmolwarning_1712836198311896\" style=\"background-color:#ffcccc;color:black\">3Dmol.js failed to load for some reason.  Please check your browser console for error messages.<br></p>\n        </div>\n<script>\n\nvar loadScriptAsync = function(uri){\n  return new Promise((resolve, reject) => {\n    //this is to ignore the existence of requirejs amd\n    var savedexports, savedmodule;\n    if (typeof exports !== 'undefined') savedexports = exports;\n    else exports = {}\n    if (typeof module !== 'undefined') savedmodule = module;\n    else module = {}\n\n    var tag = document.createElement('script');\n    tag.src = uri;\n    tag.async = true;\n    tag.onload = () => {\n        exports = savedexports;\n        module = savedmodule;\n        resolve();\n    };\n  var firstScriptTag = document.getElementsByTagName('script')[0];\n  firstScriptTag.parentNode.insertBefore(tag, firstScriptTag);\n});\n};\n\nif(typeof $3Dmolpromise === 'undefined') {\n$3Dmolpromise = null;\n  $3Dmolpromise = loadScriptAsync('https://cdnjs.cloudflare.com/ajax/libs/3Dmol/2.1.0/3Dmol-min.js');\n}\n\nvar viewer_1712836198311896 = null;\nvar warn = document.getElementById(\"3dmolwarning_1712836198311896\");\nif(warn) {\n    warn.parentNode.removeChild(warn);\n}\n$3Dmolpromise.then(function() {\nviewer_1712836198311896 = $3Dmol.createViewer(document.getElementById(\"3dmolviewer_1712836198311896\"),{backgroundColor:\"white\"});\nviewer_1712836198311896.zoomTo();\n\tviewer_1712836198311896.addModel(\"\\n     RDKit          3D\\n\\n 10  9  0  0  0  0  0  0  0  0999 V2000\\n   -1.3257    0.7754    0.0715 N   0  0  0  0  0  3  0  0  0  0  0  0\\n   -0.7041   -0.5535   -0.1021 C   0  0  0  0  0  0  0  0  0  0  0  0\\n    0.8168   -0.4996   -0.0173 C   0  0  0  0  0  0  0  0  0  0  0  0\\n    1.3241    0.7530   -0.0024 O   0  0  0  0  0  0  0  0  0  0  0  0\\n    1.5660   -1.4630    0.0147 O   0  0  0  0  0  0  0  0  0  0  0  0\\n   -0.8717    1.4120   -0.5884 H   0  0  0  0  0  0  0  0  0  0  0  0\\n   -1.0460    1.1359    0.9854 H   0  0  0  0  0  0  0  0  0  0  0  0\\n   -1.0726   -1.2201    0.6826 H   0  0  0  0  0  0  0  0  0  0  0  0\\n   -0.9801   -0.9503   -1.0830 H   0  0  0  0  0  0  0  0  0  0  0  0\\n    2.2933    0.6102    0.0390 H   0  0  0  0  0  0  0  0  0  0  0  0\\n  1  2  1  0\\n  2  3  1  0\\n  3  4  1  0\\n  3  5  2  0\\n  1  6  1  0\\n  1  7  1  0\\n  2  8  1  0\\n  2  9  1  0\\n  4 10  1  0\\nM  CHG  1   1   1\\nM  RAD  1   1   2\\nM  END\\n\",\"mol\");\n\tviewer_1712836198311896.setStyle({\"stick\": {}});\n\tviewer_1712836198311896.addSurface(3,{\"opacity\": 0.5});\n\tviewer_1712836198311896.zoomTo();\nviewer_1712836198311896.render();\n});\n</script>",
      "text/html": [
       "<div id=\"3dmolviewer_1712836198311896\"  style=\"position: relative; width: 600px; height: 300px;\">\n",
       "        <p id=\"3dmolwarning_1712836198311896\" style=\"background-color:#ffcccc;color:black\">3Dmol.js failed to load for some reason.  Please check your browser console for error messages.<br></p>\n",
       "        </div>\n",
       "<script>\n",
       "\n",
       "var loadScriptAsync = function(uri){\n",
       "  return new Promise((resolve, reject) => {\n",
       "    //this is to ignore the existence of requirejs amd\n",
       "    var savedexports, savedmodule;\n",
       "    if (typeof exports !== 'undefined') savedexports = exports;\n",
       "    else exports = {}\n",
       "    if (typeof module !== 'undefined') savedmodule = module;\n",
       "    else module = {}\n",
       "\n",
       "    var tag = document.createElement('script');\n",
       "    tag.src = uri;\n",
       "    tag.async = true;\n",
       "    tag.onload = () => {\n",
       "        exports = savedexports;\n",
       "        module = savedmodule;\n",
       "        resolve();\n",
       "    };\n",
       "  var firstScriptTag = document.getElementsByTagName('script')[0];\n",
       "  firstScriptTag.parentNode.insertBefore(tag, firstScriptTag);\n",
       "});\n",
       "};\n",
       "\n",
       "if(typeof $3Dmolpromise === 'undefined') {\n",
       "$3Dmolpromise = null;\n",
       "  $3Dmolpromise = loadScriptAsync('https://cdnjs.cloudflare.com/ajax/libs/3Dmol/2.1.0/3Dmol-min.js');\n",
       "}\n",
       "\n",
       "var viewer_1712836198311896 = null;\n",
       "var warn = document.getElementById(\"3dmolwarning_1712836198311896\");\n",
       "if(warn) {\n",
       "    warn.parentNode.removeChild(warn);\n",
       "}\n",
       "$3Dmolpromise.then(function() {\n",
       "viewer_1712836198311896 = $3Dmol.createViewer(document.getElementById(\"3dmolviewer_1712836198311896\"),{backgroundColor:\"white\"});\n",
       "viewer_1712836198311896.zoomTo();\n",
       "\tviewer_1712836198311896.addModel(\"\\n     RDKit          3D\\n\\n 10  9  0  0  0  0  0  0  0  0999 V2000\\n   -1.3257    0.7754    0.0715 N   0  0  0  0  0  3  0  0  0  0  0  0\\n   -0.7041   -0.5535   -0.1021 C   0  0  0  0  0  0  0  0  0  0  0  0\\n    0.8168   -0.4996   -0.0173 C   0  0  0  0  0  0  0  0  0  0  0  0\\n    1.3241    0.7530   -0.0024 O   0  0  0  0  0  0  0  0  0  0  0  0\\n    1.5660   -1.4630    0.0147 O   0  0  0  0  0  0  0  0  0  0  0  0\\n   -0.8717    1.4120   -0.5884 H   0  0  0  0  0  0  0  0  0  0  0  0\\n   -1.0460    1.1359    0.9854 H   0  0  0  0  0  0  0  0  0  0  0  0\\n   -1.0726   -1.2201    0.6826 H   0  0  0  0  0  0  0  0  0  0  0  0\\n   -0.9801   -0.9503   -1.0830 H   0  0  0  0  0  0  0  0  0  0  0  0\\n    2.2933    0.6102    0.0390 H   0  0  0  0  0  0  0  0  0  0  0  0\\n  1  2  1  0\\n  2  3  1  0\\n  3  4  1  0\\n  3  5  2  0\\n  1  6  1  0\\n  1  7  1  0\\n  2  8  1  0\\n  2  9  1  0\\n  4 10  1  0\\nM  CHG  1   1   1\\nM  RAD  1   1   2\\nM  END\\n\",\"mol\");\n",
       "\tviewer_1712836198311896.setStyle({\"stick\": {}});\n",
       "\tviewer_1712836198311896.addSurface(3,{\"opacity\": 0.5});\n",
       "\tviewer_1712836198311896.zoomTo();\n",
       "viewer_1712836198311896.render();\n",
       "});\n",
       "</script>"
      ]
     },
     "metadata": {},
     "output_type": "display_data"
    },
    {
     "data": {
      "image/png": "[encoded data removed]",
      "text/plain": [
       "<rdkit.Chem.rdchem.Mol at 0x1080011c0>"
      ]
     },
     "execution_count": 3,
     "metadata": {},
     "output_type": "execute_result"
    }
   ],
   "source": [
    "EDS.smiles3D(\"[NH2+]CC(O)=O\")"
   ]
  },
  {
   "cell_type": "code",
   "execution_count": null,
   "id": "e123b940-4518-4c52-8c9f-efb13adcd6dc",
   "metadata": {},
   "outputs": [],
   "source": []
  }
 ],
 "metadata": {
  "kernelspec": {
   "display_name": "Python 3 (ipykernel)",
   "language": "python",
   "name": "python3"
  },
  "language_info": {
   "codemirror_mode": {
    "name": "ipython",
    "version": 3
   },
   "file_extension": ".py",
   "mimetype": "text/x-python",
   "name": "python",
   "nbconvert_exporter": "python",
   "pygments_lexer": "ipython3",
   "version": "3.9.19"
  }
 },
 "nbformat": 4,
 "nbformat_minor": 5
}
