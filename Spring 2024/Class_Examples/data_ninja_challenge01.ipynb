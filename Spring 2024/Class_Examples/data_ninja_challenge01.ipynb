{
 "cells": [
  {
   "cell_type": "markdown",
   "id": "3eace405-1bd8-40e3-bee4-0c524c460e12",
   "metadata": {},
   "source": [
    "# Data Ninja Challenge 01\n",
    "\n",
    "Students come into this class with vastly different levels of programming experience, so some of you will race ahead in this Python bootcamp. If that describe you, the **Data Ninga Challenge** series gives you something to do while the others catch up. Sorry, no extra credit, just an opportunity to further sharpen your blades.\n",
    "\n",
    "Good Luck!"
   ]
  },
  {
   "cell_type": "markdown",
   "id": "b80ad75e-b24f-4464-82f1-f08af20a5051",
   "metadata": {},
   "source": [
    "## Lists\n",
    "\n",
    "Python has a number of built-in data structures. In this class we will be working mostly with arrays and datatables, which we won't get to until Lab02. However, there are other useful data structures that a ninja should know. One of the most versatile is a list. A list is a python collection, a container that hold any number of items of different types."
   ]
  },
  {
   "cell_type": "code",
   "execution_count": 1,
   "id": "b18bb81b-b85c-4edc-873b-d66c969c1276",
   "metadata": {
    "tags": []
   },
   "outputs": [
    {
     "data": {
      "text/plain": [
       "['Sally', 'Mark', 'Kummar', 'Maria']"
      ]
     },
     "execution_count": 1,
     "metadata": {},
     "output_type": "execute_result"
    }
   ],
   "source": [
    "name = ['Sally', \"Mark\", \"Kummar\", \"Maria\"]\n",
    "name"
   ]
  },
  {
   "cell_type": "markdown",
   "id": "97aacec4-fbba-4981-87ee-7819d98a2bca",
   "metadata": {},
   "source": [
    "We have created a list of strings, each of which is a name. "
   ]
  },
  {
   "cell_type": "code",
   "execution_count": 3,
   "id": "be1e7a7a-09d7-4e35-97a3-b68d3ae1b1ae",
   "metadata": {
    "tags": []
   },
   "outputs": [
    {
     "data": {
      "text/plain": [
       "4"
      ]
     },
     "execution_count": 3,
     "metadata": {},
     "output_type": "execute_result"
    }
   ],
   "source": [
    "# Show the length of the list\n",
    "len(name)"
   ]
  },
  {
   "cell_type": "code",
   "execution_count": 4,
   "id": "a682e503-3ea0-4bf4-b7f6-a84de17dbacb",
   "metadata": {
    "tags": []
   },
   "outputs": [],
   "source": [
    "# Reference a single element from the list.\n",
    "# Note: the first elements is element zero"
   ]
  },
  {
   "cell_type": "code",
   "execution_count": 5,
   "id": "b4448e12-7b9a-43d3-aecd-a7e76b6d5864",
   "metadata": {
    "tags": []
   },
   "outputs": [
    {
     "name": "stdout",
     "output_type": "stream",
     "text": [
      "Mark\n",
      "Maria\n"
     ]
    }
   ],
   "source": [
    "print(name[1])\n",
    "print(name[3])"
   ]
  },
  {
   "cell_type": "code",
   "execution_count": 6,
   "id": "22c2a655-0aee-40ef-a479-48ec5a6a9fff",
   "metadata": {
    "tags": []
   },
   "outputs": [
    {
     "data": {
      "text/plain": [
       "['Sally', 'Mark', 'Kummar', 'Maria', 'Pierre']"
      ]
     },
     "execution_count": 6,
     "metadata": {},
     "output_type": "execute_result"
    }
   ],
   "source": [
    "# Add another name to the list\n",
    "name.append('Pierre')\n",
    "name"
   ]
  },
  {
   "cell_type": "code",
   "execution_count": 8,
   "id": "9f615197-6c76-4c69-9f70-a54533929817",
   "metadata": {
    "tags": []
   },
   "outputs": [
    {
     "name": "stdout",
     "output_type": "stream",
     "text": [
      "['Sally', 'Kummar', 'Maria', 'Pierre']\n"
     ]
    }
   ],
   "source": [
    "# Remove an element from the list\n",
    "name.remove('Mark')\n",
    "print(name)"
   ]
  },
  {
   "cell_type": "markdown",
   "id": "60711e42-bd96-49f1-b251-e8032253f462",
   "metadata": {},
   "source": [
    "**Challenge:** Add two more names to the list \"name\""
   ]
  },
  {
   "cell_type": "code",
   "execution_count": null,
   "id": "53d38d32-ca66-4b80-947c-6bd1694028d3",
   "metadata": {},
   "outputs": [],
   "source": []
  },
  {
   "cell_type": "code",
   "execution_count": 10,
   "id": "017b8038-7063-47b9-8ed6-0567c1b07f55",
   "metadata": {
    "tags": []
   },
   "outputs": [
    {
     "data": {
      "text/plain": [
       "[1, 2, 3, 'Pizza', 'Hamburgers', 'Tacos']"
      ]
     },
     "execution_count": 10,
     "metadata": {},
     "output_type": "execute_result"
    }
   ],
   "source": [
    "# Lists can be concatenated together\n",
    "list1 = [1, 2, 3]\n",
    "list2 = [\"Pizza\", \"Hamburgers\", \"Tacos\"]\n",
    "list3 = list1 + list2\n",
    "list3"
   ]
  },
  {
   "cell_type": "markdown",
   "id": "0a39e07d-3a78-4e9b-a3c6-48bc3cb7aad4",
   "metadata": {},
   "source": [
    "Notice that elements of a list do not have to be all the same type of data. list3 has three integers and three strings."
   ]
  },
  {
   "cell_type": "markdown",
   "id": "af41f6a2-6170-49ce-9bb3-93afb2241c6b",
   "metadata": {},
   "source": [
    "**Challenge:** I've had entirely too much pizza. Remove \"pizza\" from list3."
   ]
  },
  {
   "cell_type": "code",
   "execution_count": null,
   "id": "f8505afb-6044-4158-806c-ca0e0be3ebe6",
   "metadata": {},
   "outputs": [],
   "source": []
  },
  {
   "cell_type": "code",
   "execution_count": 13,
   "id": "c78356ce-68d2-4e38-ad63-7cb43edb3b10",
   "metadata": {
    "tags": []
   },
   "outputs": [
    {
     "data": {
      "text/plain": [
       "[1, 2, 3, ['dog', 'cat']]"
      ]
     },
     "execution_count": 13,
     "metadata": {},
     "output_type": "execute_result"
    }
   ],
   "source": [
    "# A list can even contain other lists\n",
    "nested_list = [ 1, 2, 3, ['dog', 'cat']]\n",
    "nested_list"
   ]
  },
  {
   "cell_type": "code",
   "execution_count": 14,
   "id": "5edcb904-3a01-42dc-a414-2734ef78a311",
   "metadata": {
    "tags": []
   },
   "outputs": [
    {
     "data": {
      "text/plain": [
       "4"
      ]
     },
     "execution_count": 14,
     "metadata": {},
     "output_type": "execute_result"
    }
   ],
   "source": [
    "# The list is only four elements long\n",
    "# The last element being another list\n",
    "len(nested_list)"
   ]
  },
  {
   "cell_type": "code",
   "execution_count": 15,
   "id": "f33af1cb-aed3-4d51-97e5-4cad806a5b67",
   "metadata": {},
   "outputs": [
    {
     "data": {
      "text/plain": [
       "'dog'"
      ]
     },
     "execution_count": 15,
     "metadata": {},
     "output_type": "execute_result"
    }
   ],
   "source": [
    "# How would we reference the element 'dog' inside the list within the list?\n",
    "nested_list[3][0]"
   ]
  },
  {
   "cell_type": "markdown",
   "id": "ee9ad865-5d11-47b1-89a1-e66535bb33f7",
   "metadata": {},
   "source": [
    "Why does this work? The outside list has four elements indexed as 0, 1, 2, 3. The inner list is the fourth element, which is element 3 as counting starts at zero. 'dog' is the zeroth element in the inner list.\n",
    "\n",
    "Think about this until it makes sense."
   ]
  },
  {
   "cell_type": "markdown",
   "id": "2ce57797-a3cd-43a8-92ad-33027a7e1122",
   "metadata": {},
   "source": [
    "**Challenge:** See if you can index this list to extract 'the prize'"
   ]
  },
  {
   "cell_type": "code",
   "execution_count": 16,
   "id": "37d12693-f016-4a65-b465-b7acc16c97a4",
   "metadata": {
    "tags": []
   },
   "outputs": [
    {
     "data": {
      "text/plain": [
       "[1, 2, 5, 7, ['hot dogs', 'cracker jacks', 'the prize'], 13, 17]"
      ]
     },
     "execution_count": 16,
     "metadata": {},
     "output_type": "execute_result"
    }
   ],
   "source": [
    "list4 = [1, 2, 5, 7, ['hot dogs', 'cracker jacks', 'the prize'], 13, 17]\n",
    "list4"
   ]
  },
  {
   "cell_type": "code",
   "execution_count": null,
   "id": "dad37f35-6a52-43b0-a15d-036dbb5cfbbd",
   "metadata": {},
   "outputs": [],
   "source": []
  },
  {
   "cell_type": "markdown",
   "id": "fcb5c2ed-691f-491b-b357-d3d9a710eb64",
   "metadata": {},
   "source": [
    "## Stings are like lists"
   ]
  },
  {
   "cell_type": "code",
   "execution_count": 17,
   "id": "47778261-c252-4ae1-98bb-213770c7c92e",
   "metadata": {
    "tags": []
   },
   "outputs": [
    {
     "name": "stdout",
     "output_type": "stream",
     "text": [
      "zeroth character: c\n",
      "third character: b\n"
     ]
    }
   ],
   "source": [
    "element = 'carbon'\n",
    "print(f'zeroth character: {element[0]}')\n",
    "print(f'third character: {element[3]}')"
   ]
  },
  {
   "cell_type": "markdown",
   "id": "107d766f-75c6-44a8-ae2c-1ffa6633a6a5",
   "metadata": {},
   "source": [
    "## Slicing\n",
    "You can reference a subset of a list or a sting. This is called \"slicing.\""
   ]
  },
  {
   "cell_type": "code",
   "execution_count": 18,
   "id": "16c83b84-a602-470b-be0e-dedd1b8762c2",
   "metadata": {
    "tags": []
   },
   "outputs": [
    {
     "data": {
      "text/plain": [
       "[1, 2, 3, 5, 7, 11, 13, 17, 19, 23]"
      ]
     },
     "execution_count": 18,
     "metadata": {},
     "output_type": "execute_result"
    }
   ],
   "source": [
    "prime_nums = [1, 2, 3, 5, 7, 11, 13, 17, 19, 23]\n",
    "prime_nums"
   ]
  },
  {
   "cell_type": "code",
   "execution_count": 19,
   "id": "e6106872-b057-40b6-a711-fb5c01ee5855",
   "metadata": {
    "tags": []
   },
   "outputs": [
    {
     "data": {
      "text/plain": [
       "[1, 2, 3]"
      ]
     },
     "execution_count": 19,
     "metadata": {},
     "output_type": "execute_result"
    }
   ],
   "source": [
    "# Slice the first three elements of the list\n",
    "prime_nums[0:3]"
   ]
  },
  {
   "cell_type": "markdown",
   "id": "b1855904-a9e5-42b8-85bb-64200e3952a3",
   "metadata": {},
   "source": [
    "**Challenge:** Try slicing out just [7, 11, 13] from prime_nums"
   ]
  },
  {
   "cell_type": "code",
   "execution_count": 21,
   "id": "132bc123-4d72-48d0-963a-d1ebd96dedc1",
   "metadata": {
    "tags": []
   },
   "outputs": [
    {
     "data": {
      "text/plain": [
       "['Philadelphia:', 'the', 'city', 'of', 'brotherly', 'love.']"
      ]
     },
     "execution_count": 21,
     "metadata": {},
     "output_type": "execute_result"
    }
   ],
   "source": [
    "# You can split a string into a list of words.\n",
    "city = \"Philadelphia: the city of brotherly love.\"\n",
    "city_list = city.split()\n",
    "city_list"
   ]
  },
  {
   "cell_type": "markdown",
   "id": "f8fd8700-3e6d-43dd-8282-5323b92addce",
   "metadata": {},
   "source": [
    "**Challenge:** Extract \"school boards\" from the string below by splitting and slicing. Then use .replace() to change it to \"fool boards.\""
   ]
  },
  {
   "cell_type": "code",
   "execution_count": null,
   "id": "25fd41d4-84a9-411e-bb97-ff4eaace3e43",
   "metadata": {},
   "outputs": [],
   "source": [
    "mark_twain_quote = \"In the first place, God made idiots. That was for practice. Then he made school boards.\""
   ]
  }
 ],
 "metadata": {
  "kernelspec": {
   "display_name": "Python 3 (ipykernel)",
   "language": "python",
   "name": "python3"
  },
  "language_info": {
   "codemirror_mode": {
    "name": "ipython",
    "version": 3
   },
   "file_extension": ".py",
   "mimetype": "text/x-python",
   "name": "python",
   "nbconvert_exporter": "python",
   "pygments_lexer": "ipython3",
   "version": "3.10.11"
  }
 },
 "nbformat": 4,
 "nbformat_minor": 5
}

