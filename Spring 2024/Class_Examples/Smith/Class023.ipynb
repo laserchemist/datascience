{
 "cells": [
  {
   "cell_type": "markdown",
   "id": "c6373a5f-01fd-4d31-ad21-88f9dcc56ef3",
   "metadata": {},
   "source": [
    "## Bootstrap Slope Confidence Interval Examples\n",
    "Class 023"
   ]
  },
  {
   "cell_type": "code",
   "execution_count": null,
   "id": "4d9186ce-38bc-49e7-a49c-a4da626d37f8",
   "metadata": {},
   "outputs": [],
   "source": [
    "## import statements\n",
    "# These lines load the tests. \n",
    "from gofer.ok import check\n",
    "import numpy as np\n",
    "from datascience import *\n",
    "import pandas as pd\n",
    "import matplotlib\n",
    "from matplotlib import patches\n",
    "%matplotlib inline\n",
    "import matplotlib.pyplot as plt\n",
    "import seaborn as sns\n",
    "import warnings\n",
    "warnings.simplefilter('ignore', FutureWarning)\n",
    "plt.style.use('ggplot')\n",
    "from ipywidgets import interact, interactive, fixed\n",
    "import ipywidgets as widgets"
   ]
  },
  {
   "cell_type": "code",
   "execution_count": null,
   "id": "776f6b83-c650-425e-b0fe-6cbb55a856c6",
   "metadata": {},
   "outputs": [],
   "source": [
    "def standard_units(xyz):\n",
    "    \"Convert any array of numbers to standard units.\"\n",
    "    return (xyz - np.mean(xyz))/np.std(xyz)  \n",
    "def correlation(t, label_x, label_y):\n",
    "    return np.mean(standard_units(t.column(label_x))*standard_units(t.column(label_y)))\n",
    "# Regression\n",
    "def slope(t, label_x, label_y):\n",
    "    r = correlation(t, label_x, label_y)\n",
    "    return r*np.std(t.column(label_y))/np.std(t.column(label_x))\n",
    "def intercept(t, label_x, label_y):\n",
    "    return np.mean(t.column(label_y)) - slope(t, label_x, label_y)*np.mean(t.column(label_x))"
   ]
  },
  {
   "cell_type": "code",
   "execution_count": null,
   "id": "cf10d8b6-23cc-4c2c-a1c2-a295202289c9",
   "metadata": {},
   "outputs": [],
   "source": [
    "faithful = Table.read_table(\"../Lab08/faithful-new.csv\")\n",
    "faithful.scatter('duration','wait')"
   ]
  },
  {
   "cell_type": "code",
   "execution_count": null,
   "id": "a6604f6a-927d-464a-9288-e177ee6f82fe",
   "metadata": {},
   "outputs": [],
   "source": [
    "faithful = Table.read_table(\"../Lab08/faithful-new.csv\")\n",
    "faithful.scatter('duration','wait')"
   ]
  },
  {
   "cell_type": "markdown",
   "id": "9a5607f7-1e2e-4d80-9497-2113c89146ef",
   "metadata": {
    "tags": []
   },
   "source": [
    "#### Slope\n",
    "***\n",
    "\n",
    "slope of the regression line $= r \\cdot\n",
    "\\frac{SD_y}{SD_x}$<br>\n",
    "intercept of the regression line $=\n",
    "\\bar{y} - slope \\cdot \\bar{x}$<br><br>\n",
    "***\n",
    "equation of the regression line:<br> $ \\hat{y} =$\n",
    " slope $\\cdot x $+ intercept<br>\n",
    "error in fit:<br> error $ =  y - \\hat{y} = y - ($slope $\\cdot x $+ intercept)<br>\n",
    "\n",
    "***"
   ]
  },
  {
   "cell_type": "code",
   "execution_count": null,
   "id": "540f433c-54ef-40f2-947c-00cf9f45004b",
   "metadata": {},
   "outputs": [],
   "source": [
    "duration_mean =  np.mean(faithful[\"duration\"])\n",
    "duration_std = np.std(faithful.column(\"duration\"))\n",
    "wait_mean =  np.mean(faithful.column(\"wait\"))\n",
    "wait_std = np.std(faithful.column(\"wait\"))\n",
    "\n",
    "faithful_standard = Table().with_columns(\n",
    "    \"duration (standard units)\", (faithful.column(\"duration\") - duration_mean) / duration_std,\n",
    "    \"wait (standard units)\", (faithful.column(\"wait\") - wait_mean) / wait_std)"
   ]
  },
  {
   "cell_type": "code",
   "execution_count": null,
   "id": "128d8cd4-33ae-44bb-add1-a077fb193d1b",
   "metadata": {},
   "outputs": [],
   "source": [
    "r = np.mean(faithful_standard[\"duration (standard units)\"]*faithful_standard[\"wait (standard units)\"])\n",
    "r"
   ]
  },
  {
   "cell_type": "code",
   "execution_count": null,
   "id": "853101eb-e3cc-4832-8a94-33e1f22a9918",
   "metadata": {},
   "outputs": [],
   "source": [
    "faithful"
   ]
  },
  {
   "cell_type": "code",
   "execution_count": null,
   "id": "51ed72dc-dbd3-44ca-bce9-55ca2cbf0a8d",
   "metadata": {},
   "outputs": [],
   "source": [
    "slope = r * wait_std/duration_std\n",
    "print(\"Slope; \",slope)\n",
    "print(\"For every 1 minute longer eruption duration we wait about \",round(slope,1),\" minutes longer\")"
   ]
  },
  {
   "cell_type": "code",
   "execution_count": null,
   "id": "af12ec9d-d952-4bc8-8203-643177de6aed",
   "metadata": {},
   "outputs": [],
   "source": [
    "intercept = wait_mean - slope * duration_mean\n",
    "intercept"
   ]
  },
  {
   "cell_type": "code",
   "execution_count": null,
   "id": "dc07b24b-9b31-43a3-805f-33d2c90d1ebc",
   "metadata": {},
   "outputs": [],
   "source": [
    "# error = y - ypredict\n",
    "tbl = faithful\n",
    "error_list = []\n",
    "for i in np.arange(tbl.num_rows):\n",
    "    predicted_y = tbl.row(i)[0]*slope+intercept\n",
    "    error = tbl.row(i)[1] - predicted_y\n",
    "    error_list.append(error)"
   ]
  },
  {
   "cell_type": "code",
   "execution_count": null,
   "id": "9ef80f92-61a0-4d69-8684-18f55d69cd56",
   "metadata": {},
   "outputs": [],
   "source": [
    "plt.scatter(faithful['duration'],error_list)\n",
    "plt.show()"
   ]
  },
  {
   "cell_type": "code",
   "execution_count": null,
   "id": "32b348e1-bdd0-409d-acb4-c17348419976",
   "metadata": {},
   "outputs": [],
   "source": [
    "def fit_line(tbl):\n",
    "    # x data is in column 0 and y data is in column 1\n",
    "    # Your code may need more than 1 line below here.\n",
    "    xdata, ydata = tbl.column(0), tbl.column(1)\n",
    "    def mse_f(slope,intercept):\n",
    "        fitted = slope * xdata + intercept\n",
    "        return np.mean((ydata - fitted) ** 2)    \n",
    "    values = minimize(mse_f)\n",
    "    slope = values[0]\n",
    "    intercept = values[1]\n",
    "    return make_array(slope, intercept)"
   ]
  },
  {
   "cell_type": "code",
   "execution_count": null,
   "id": "9e43c8e2-cf9c-408d-9c6a-9b998909cfc1",
   "metadata": {},
   "outputs": [],
   "source": [
    "fit_line(faithful)"
   ]
  },
  {
   "cell_type": "code",
   "execution_count": null,
   "id": "dc95d7a7-08c1-46c5-8ad4-b4f52689ecfa",
   "metadata": {},
   "outputs": [],
   "source": [
    "fit_line(faithful.sample())\n",
    "\n"
   ]
  },
  {
   "cell_type": "markdown",
   "id": "67e48f9d-cc62-4066-82fd-1d12e7e74794",
   "metadata": {},
   "source": [
    "### Bootstrap 95% Confidence Interval"
   ]
  },
  {
   "cell_type": "code",
   "execution_count": null,
   "id": "b4b11b97-5667-4143-8f9b-114d0bc65bcb",
   "metadata": {},
   "outputs": [],
   "source": [
    "bootstrap_slope = make_array()\n",
    "for i in np.arange(1000):\n",
    "    bootstrap_slope = np.append(bootstrap_slope, fit_line(faithful.sample())[0]) # Sample without replacement\n",
    "\n",
    "lower_end = percentile(2.5,bootstrap_slope)\n",
    "upper_end = percentile(97.5,bootstrap_slope)\n",
    "Table().with_column(\"slope estimate\", bootstrap_slope).hist(bins=np.arange(9, 13, .1), unit=\"minutes\")\n",
    "print(\"95% confidence interval for the predicted additional wait for 1 minute longer duration of Old Fathful : [{:g}, {:g}, {:g}] minutes\".format(lower_end, slope, upper_end))\n",
    "plt.plot([lower_end, upper_end], [0, 0], color='red', lw=10)\n",
    "plt.show()"
   ]
  },
  {
   "cell_type": "markdown",
   "id": "a8b75b4b-ec1e-44e6-83a5-37608b07affe",
   "metadata": {},
   "source": [
    "***\n",
    "### 2018 Philadelphia Primary voter registration\n",
    "Voter registration by Ward. Look at the average size of a Ward"
   ]
  },
  {
   "cell_type": "code",
   "execution_count": null,
   "id": "cf456fbd-b74b-48b3-8fc9-40d0b10f9668",
   "metadata": {},
   "outputs": [],
   "source": [
    "url = 'qualified_voter_listing_2018_primary_by_ward.csv'\n",
    "url='https://phl.carto.com/api/v2/sql?q=SELECT+*+FROM+qualified_voter_listing_2018_primary_by_ward&filename=qualified_voter_listing_2018_primary_by_ward&format=csv&skipfields=cartodb_id,the_geom,the_geom_webmercator'\n",
    "vote = Table().read_table(url).where('ward',are.containing(\"WD\")) # Elimate row with with totals only wards\n",
    "vote.sort('total',descending=True)"
   ]
  },
  {
   "cell_type": "code",
   "execution_count": null,
   "id": "90a284f7-ac10-4c43-8079-aafc1fddc8ef",
   "metadata": {
    "tags": []
   },
   "outputs": [],
   "source": [
    "np.mean(vote['total'])"
   ]
  },
  {
   "cell_type": "code",
   "execution_count": null,
   "id": "702e52ad-a04e-48d1-8632-36f7b86caaef",
   "metadata": {
    "tags": []
   },
   "outputs": [],
   "source": [
    "vote = vote.with_columns(\"Gender_ratio\", vote['female']/vote['male'])"
   ]
  },
  {
   "cell_type": "code",
   "execution_count": null,
   "id": "95447f45-cc34-45bb-86bf-380e23a6ea12",
   "metadata": {},
   "outputs": [],
   "source": [
    "np.average(vote['total'])"
   ]
  },
  {
   "cell_type": "code",
   "execution_count": null,
   "id": "cdb70c56-dfab-4ef9-acdd-fbb5591ae874",
   "metadata": {
    "tags": []
   },
   "outputs": [],
   "source": [
    "np.average(vote['Gender_ratio'])"
   ]
  },
  {
   "cell_type": "code",
   "execution_count": null,
   "id": "7ea911f8-b245-4341-afb1-6969eba681d9",
   "metadata": {
    "tags": []
   },
   "outputs": [],
   "source": [
    "plt.hist(vote['total'],bins = np.arange(10000,20000,1000),color='yellow',alpha=0.4, edgecolor='black', linewidth=1.2)\n",
    "plt.title('Philadelphia Voting Ward Size')\n",
    "plt.scatter(np.mean(vote['total']),0,s=300, marker='o', \n",
    "            c='red',alpha=0.8, edgecolors='blue')\n",
    "plt.show()"
   ]
  },
  {
   "cell_type": "code",
   "execution_count": null,
   "id": "e9abd44f-5ca4-4144-b0bc-6697818ec9c7",
   "metadata": {
    "tags": []
   },
   "outputs": [],
   "source": [
    "plt.hist(vote['Gender_ratio'])"
   ]
  },
  {
   "cell_type": "code",
   "execution_count": null,
   "id": "a7187a15-2cfb-48af-8a07-d5dedb7693eb",
   "metadata": {},
   "outputs": [],
   "source": [
    "def one_bootstrap_mean():\n",
    "    resample = vote.sample()\n",
    "    return np.mean(resample.column('total'))"
   ]
  },
  {
   "cell_type": "code",
   "execution_count": null,
   "id": "ff3e3086-a86e-4518-b76d-dd4caa8da13d",
   "metadata": {},
   "outputs": [],
   "source": [
    "one_bootstrap_mean()"
   ]
  },
  {
   "cell_type": "code",
   "execution_count": null,
   "id": "3f543836-c767-4ab6-92a4-d81d12d42e1d",
   "metadata": {},
   "outputs": [],
   "source": [
    "percentile(50, vote.column('total')) # median"
   ]
  },
  {
   "cell_type": "code",
   "execution_count": null,
   "id": "52b4aaed-df0b-4e1f-a341-514a04f6997a",
   "metadata": {},
   "outputs": [],
   "source": [
    "vote.sample().sort('total',descending=True)"
   ]
  },
  {
   "cell_type": "code",
   "execution_count": null,
   "id": "749ec259-e928-46b0-891c-fc35e4ceeb44",
   "metadata": {},
   "outputs": [],
   "source": [
    "total_mean = []\n",
    "for i in np.arange(1000):\n",
    "    total_mean.append(one_bootstrap_mean())\n",
    "plt.hist(total_mean, bins = np.arange(10000,20000,250),color='yellow',alpha=0.4, edgecolor='black', linewidth=1.2)\n",
    "plt.title('Philadelphia Voting Ward Size Bootstrap mean')\n",
    "plt.scatter(np.mean(vote['total']),0,s=300, marker='o', \n",
    "            c='red',alpha=0.8, edgecolors='blue')\n",
    "plt.show()"
   ]
  },
  {
   "cell_type": "code",
   "execution_count": null,
   "id": "e71c343b-378c-45cd-b148-8ab2ec7cc18d",
   "metadata": {},
   "outputs": [],
   "source": [
    "left = percentile(2.5, total_mean)\n",
    "right = percentile(97.5, total_mean)\n",
    "\n",
    "make_array(left, right)"
   ]
  },
  {
   "cell_type": "code",
   "execution_count": null,
   "id": "80ba4c5f-3d07-493d-975e-bbb99c1cb9e3",
   "metadata": {},
   "outputs": [],
   "source": [
    "plt.hist(total_mean)\n",
    "plt.plot([left, right], [0, 0], color='yellow', lw=8)\n",
    "plt.title(\"Philadelphia Voters by Ward\")\n",
    "plt.xlim(10000,20000)\n",
    "plt.tight_layout()\n",
    "plt.savefig('bootstrap_CI.png')"
   ]
  },
  {
   "cell_type": "code",
   "execution_count": null,
   "id": "c40fbcda-c95e-49c2-9a86-97bf2744ec2c",
   "metadata": {},
   "outputs": [],
   "source": []
  }
 ],
 "metadata": {
  "kernelspec": {
   "display_name": "Python 3 (ipykernel)",
   "language": "python",
   "name": "python3"
  },
  "language_info": {
   "codemirror_mode": {
    "name": "ipython",
    "version": 3
   },
   "file_extension": ".py",
   "mimetype": "text/x-python",
   "name": "python",
   "nbconvert_exporter": "python",
   "pygments_lexer": "ipython3",
   "version": "3.10.11"
  }
 },
 "nbformat": 4,
 "nbformat_minor": 5
}
