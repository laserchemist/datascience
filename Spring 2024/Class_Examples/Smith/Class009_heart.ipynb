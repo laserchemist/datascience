{
 "cells": [
  {
   "cell_type": "markdown",
   "metadata": {},
   "source": [
    "## Learning Goals for Module 1: Programming and data visualization\n",
    "- Working with Jupyter Notebooks\n",
    "- Expressions\n",
    "- Variables & upcoming Data Types\n",
    "    - Strings\n",
    "    - Integer\n",
    "    - Float\n",
    "- built-in functions: print(\"Hello World\"), max(), min(), abs(), pow(), round()\n",
    "- Kernel\n",
    "- errors\n",
    "- check work with check('tests/q2_1.py')\n",
    "- Translating science into Python formulas: Newton's equations\n",
    "- importing code functionality: import math\n",
    "    - math.pi()\n",
    "    - math.sqrt()\n",
    "    - math.log()\n",
    "    - math.factorial()\n",
    "- arrays: from datascience import *\n",
    "    - make_array(0.125, 4.75, -1.3)\n",
    "- arrays: import numpy as np\n",
    "    - np.array([0, 1, -1, math.pi, math.e])\n",
    "- lists: [1, 2, 3, 4]\n",
    "- Functions\n",
    "    - customize Python\n",
    "    - syntax\n",
    "        - def\n",
    "        - return\n",
    "     - arguments\n",
    "     - local variables\n",
    "- Visualization\n",
    "    - datascience Table\n",
    "        - plot\n",
    "        - scatter\n",
    "        - hist\n",
    "     - arrays\n",
    "         - from data columns\n",
    "         - matplotlib\n",
    "         - plotly"
   ]
  },
  {
   "cell_type": "markdown",
   "metadata": {},
   "source": [
    "# Today's Data Wrangling Example \n",
    "![Heart](data/valentines-day-2023-6753651837109573.3-law.gif)"
   ]
  },
  {
   "cell_type": "markdown",
   "metadata": {},
   "source": [
    "Data from Kaggle see [https://www.kaggle.com/datasets/johnsmith88/heart-disease-dataset](https://www.kaggle.com/datasets/johnsmith88/heart-disease-dataset)\n",
    "1. age\n",
    "2. sex\n",
    "3. chest pain type (4 values)\n",
    "4. resting blood pressure\n",
    "5. serum cholestoral in mg/dl\n",
    "6. fasting blood sugar > 120 mg/dl\n",
    "7. resting electrocardiographic results (values 0,1,2)\n",
    "8. maximum heart rate achieved\n",
    "9. exercise induced angina\n",
    "10. oldpeak = ST depression induced by exercise relative to rest\n",
    "11. the slope of the peak exercise ST segment\n",
    "12. number of major vessels (0-3) colored by flourosopy\n",
    "13. thal: 0 = normal; 1 = fixed defect; 2 = reversable defect\n",
    "\n",
    "The names and social security numbers of the patients were recently removed from the database, replaced with dummy values.\n",
    "\n",
    "*target* (0 = no heart disease and 1 = heart disease)"
   ]
  },
  {
   "cell_type": "code",
   "execution_count": 9,
   "metadata": {},
   "outputs": [],
   "source": [
    "from datascience import *\n",
    "import numpy as np\n",
    "# import for plotting\n",
    "%matplotlib inline\n",
    "import matplotlib.pyplot as plt\n",
    "plt.style.use('fivethirtyeight')\n",
    "# Fix for datascience plots\n",
    "import collections as collections\n",
    "import collections.abc as abc\n",
    "collections.Iterable = abc.Iterable"
   ]
  },
  {
   "cell_type": "code",
   "execution_count": 10,
   "metadata": {},
   "outputs": [
    {
     "data": {
      "text/html": [
       "<table border=\"1\" class=\"dataframe\">\n",
       "    <thead>\n",
       "        <tr>\n",
       "            <th>age</th> <th>sex</th> <th>cp</th> <th>trestbps</th> <th>chol</th> <th>fbs</th> <th>restecg</th> <th>thalach</th> <th>exang</th> <th>oldpeak</th> <th>slope</th> <th>ca</th> <th>thal</th> <th>target</th>\n",
       "        </tr>\n",
       "    </thead>\n",
       "    <tbody>\n",
       "        <tr>\n",
       "            <td>52  </td> <td>1   </td> <td>0   </td> <td>125     </td> <td>212 </td> <td>0   </td> <td>1      </td> <td>168    </td> <td>0    </td> <td>1      </td> <td>2    </td> <td>2   </td> <td>3   </td> <td>0     </td>\n",
       "        </tr>\n",
       "        <tr>\n",
       "            <td>53  </td> <td>1   </td> <td>0   </td> <td>140     </td> <td>203 </td> <td>1   </td> <td>0      </td> <td>155    </td> <td>1    </td> <td>3.1    </td> <td>0    </td> <td>0   </td> <td>3   </td> <td>0     </td>\n",
       "        </tr>\n",
       "        <tr>\n",
       "            <td>70  </td> <td>1   </td> <td>0   </td> <td>145     </td> <td>174 </td> <td>0   </td> <td>1      </td> <td>125    </td> <td>1    </td> <td>2.6    </td> <td>0    </td> <td>0   </td> <td>3   </td> <td>0     </td>\n",
       "        </tr>\n",
       "        <tr>\n",
       "            <td>61  </td> <td>1   </td> <td>0   </td> <td>148     </td> <td>203 </td> <td>0   </td> <td>1      </td> <td>161    </td> <td>0    </td> <td>0      </td> <td>2    </td> <td>1   </td> <td>3   </td> <td>0     </td>\n",
       "        </tr>\n",
       "        <tr>\n",
       "            <td>62  </td> <td>0   </td> <td>0   </td> <td>138     </td> <td>294 </td> <td>1   </td> <td>1      </td> <td>106    </td> <td>0    </td> <td>1.9    </td> <td>1    </td> <td>3   </td> <td>2   </td> <td>0     </td>\n",
       "        </tr>\n",
       "        <tr>\n",
       "            <td>58  </td> <td>0   </td> <td>0   </td> <td>100     </td> <td>248 </td> <td>0   </td> <td>0      </td> <td>122    </td> <td>0    </td> <td>1      </td> <td>1    </td> <td>0   </td> <td>2   </td> <td>1     </td>\n",
       "        </tr>\n",
       "        <tr>\n",
       "            <td>58  </td> <td>1   </td> <td>0   </td> <td>114     </td> <td>318 </td> <td>0   </td> <td>2      </td> <td>140    </td> <td>0    </td> <td>4.4    </td> <td>0    </td> <td>3   </td> <td>1   </td> <td>0     </td>\n",
       "        </tr>\n",
       "        <tr>\n",
       "            <td>55  </td> <td>1   </td> <td>0   </td> <td>160     </td> <td>289 </td> <td>0   </td> <td>0      </td> <td>145    </td> <td>1    </td> <td>0.8    </td> <td>1    </td> <td>1   </td> <td>3   </td> <td>0     </td>\n",
       "        </tr>\n",
       "        <tr>\n",
       "            <td>46  </td> <td>1   </td> <td>0   </td> <td>120     </td> <td>249 </td> <td>0   </td> <td>0      </td> <td>144    </td> <td>0    </td> <td>0.8    </td> <td>2    </td> <td>0   </td> <td>3   </td> <td>0     </td>\n",
       "        </tr>\n",
       "        <tr>\n",
       "            <td>54  </td> <td>1   </td> <td>0   </td> <td>122     </td> <td>286 </td> <td>0   </td> <td>0      </td> <td>116    </td> <td>1    </td> <td>3.2    </td> <td>1    </td> <td>2   </td> <td>2   </td> <td>0     </td>\n",
       "        </tr>\n",
       "    </tbody>\n",
       "</table>\n",
       "<p>... (1015 rows omitted)</p>"
      ],
      "text/plain": [
       "age  | sex  | cp   | trestbps | chol | fbs  | restecg | thalach | exang | oldpeak | slope | ca   | thal | target\n",
       "52   | 1    | 0    | 125      | 212  | 0    | 1       | 168     | 0     | 1       | 2     | 2    | 3    | 0\n",
       "53   | 1    | 0    | 140      | 203  | 1    | 0       | 155     | 1     | 3.1     | 0     | 0    | 3    | 0\n",
       "70   | 1    | 0    | 145      | 174  | 0    | 1       | 125     | 1     | 2.6     | 0     | 0    | 3    | 0\n",
       "61   | 1    | 0    | 148      | 203  | 0    | 1       | 161     | 0     | 0       | 2     | 1    | 3    | 0\n",
       "62   | 0    | 0    | 138      | 294  | 1    | 1       | 106     | 0     | 1.9     | 1     | 3    | 2    | 0\n",
       "58   | 0    | 0    | 100      | 248  | 0    | 0       | 122     | 0     | 1       | 1     | 0    | 2    | 1\n",
       "58   | 1    | 0    | 114      | 318  | 0    | 2       | 140     | 0     | 4.4     | 0     | 3    | 1    | 0\n",
       "55   | 1    | 0    | 160      | 289  | 0    | 0       | 145     | 1     | 0.8     | 1     | 1    | 3    | 0\n",
       "46   | 1    | 0    | 120      | 249  | 0    | 0       | 144     | 0     | 0.8     | 2     | 0    | 3    | 0\n",
       "54   | 1    | 0    | 122      | 286  | 0    | 0       | 116     | 1     | 3.2     | 1     | 2    | 2    | 0\n",
       "... (1015 rows omitted)"
      ]
     },
     "execution_count": 10,
     "metadata": {},
     "output_type": "execute_result"
    }
   ],
   "source": [
    "path = 'data/'\n",
    "data = path + 'heart.csv'\n",
    "heart = Table.read_table(data)\n",
    "heart"
   ]
  },
  {
   "cell_type": "code",
   "execution_count": 11,
   "metadata": {},
   "outputs": [
    {
     "data": {
      "text/html": [
       "<table border=\"1\" class=\"dataframe\">\n",
       "    <thead>\n",
       "        <tr>\n",
       "            <th>age</th> <th>count</th>\n",
       "        </tr>\n",
       "    </thead>\n",
       "    <tbody>\n",
       "        <tr>\n",
       "            <td>29  </td> <td>4    </td>\n",
       "        </tr>\n",
       "        <tr>\n",
       "            <td>34  </td> <td>6    </td>\n",
       "        </tr>\n",
       "        <tr>\n",
       "            <td>35  </td> <td>15   </td>\n",
       "        </tr>\n",
       "        <tr>\n",
       "            <td>37  </td> <td>6    </td>\n",
       "        </tr>\n",
       "        <tr>\n",
       "            <td>38  </td> <td>12   </td>\n",
       "        </tr>\n",
       "        <tr>\n",
       "            <td>39  </td> <td>14   </td>\n",
       "        </tr>\n",
       "        <tr>\n",
       "            <td>40  </td> <td>11   </td>\n",
       "        </tr>\n",
       "        <tr>\n",
       "            <td>41  </td> <td>32   </td>\n",
       "        </tr>\n",
       "        <tr>\n",
       "            <td>42  </td> <td>26   </td>\n",
       "        </tr>\n",
       "        <tr>\n",
       "            <td>43  </td> <td>26   </td>\n",
       "        </tr>\n",
       "    </tbody>\n",
       "</table>\n",
       "<p>... (31 rows omitted)</p>"
      ],
      "text/plain": [
       "age  | count\n",
       "29   | 4\n",
       "34   | 6\n",
       "35   | 15\n",
       "37   | 6\n",
       "38   | 12\n",
       "39   | 14\n",
       "40   | 11\n",
       "41   | 32\n",
       "42   | 26\n",
       "43   | 26\n",
       "... (31 rows omitted)"
      ]
     },
     "execution_count": 11,
     "metadata": {},
     "output_type": "execute_result"
    }
   ],
   "source": [
    "heart.group(\"age\")"
   ]
  },
  {
   "cell_type": "code",
   "execution_count": 12,
   "metadata": {},
   "outputs": [
    {
     "data": {
      "text/html": [
       "<table border=\"1\" class=\"dataframe\">\n",
       "    <thead>\n",
       "        <tr>\n",
       "            <th>target</th> <th>age average</th> <th>sex average</th> <th>cp average</th> <th>trestbps average</th> <th>chol average</th> <th>fbs average</th> <th>restecg average</th> <th>thalach average</th> <th>exang average</th> <th>oldpeak average</th> <th>slope average</th> <th>ca average</th> <th>thal average</th>\n",
       "        </tr>\n",
       "    </thead>\n",
       "    <tbody>\n",
       "        <tr>\n",
       "            <td>0     </td> <td>56.5691    </td> <td>0.827655   </td> <td>0.482966  </td> <td>134.106         </td> <td>251.293     </td> <td>0.164329   </td> <td>0.456914       </td> <td>139.13         </td> <td>0.549098     </td> <td>1.6002         </td> <td>1.16633      </td> <td>1.15832   </td> <td>2.53908     </td>\n",
       "        </tr>\n",
       "        <tr>\n",
       "            <td>1     </td> <td>52.4087    </td> <td>0.570342   </td> <td>1.37833   </td> <td>129.245         </td> <td>240.979     </td> <td>0.134981   </td> <td>0.598859       </td> <td>158.586        </td> <td>0.134981     </td> <td>0.569962       </td> <td>1.59316      </td> <td>0.370722  </td> <td>2.11977     </td>\n",
       "        </tr>\n",
       "    </tbody>\n",
       "</table>"
      ],
      "text/plain": [
       "target | age average | sex average | cp average | trestbps average | chol average | fbs average | restecg average | thalach average | exang average | oldpeak average | slope average | ca average | thal average\n",
       "0      | 56.5691     | 0.827655    | 0.482966   | 134.106          | 251.293      | 0.164329    | 0.456914        | 139.13          | 0.549098      | 1.6002          | 1.16633       | 1.15832    | 2.53908\n",
       "1      | 52.4087     | 0.570342    | 1.37833    | 129.245          | 240.979      | 0.134981    | 0.598859        | 158.586         | 0.134981      | 0.569962        | 1.59316       | 0.370722   | 2.11977"
      ]
     },
     "execution_count": 12,
     "metadata": {},
     "output_type": "execute_result"
    }
   ],
   "source": [
    "heart.group(\"target\",np.average)"
   ]
  },
  {
   "cell_type": "markdown",
   "metadata": {
    "jp-MarkdownHeadingCollapsed": true,
    "tags": []
   },
   "source": [
    "# Functions\n",
    "Thousands of functions are built into the Python computer language and still others can be loaded by using the `import` Python command. This is very powerful and provides almost limitless capability to the Python language. However, there are many times when a custom function may be needed and this is a very powerful way to automate repetitive data handling and analysis tasks in a reproducible manner. Functions take arguments given in paretheses *()* directly following the name. For instance below is the built-in Python print function:"
   ]
  },
  {
   "cell_type": "code",
   "execution_count": 13,
   "metadata": {},
   "outputs": [
    {
     "name": "stdout",
     "output_type": "stream",
     "text": [
      "Phineas\n"
     ]
    }
   ],
   "source": [
    "dogname = \"Phineas\" # Define `dogname` variable\n",
    "print(dogname)      # `dogname` is the argument for the function, print"
   ]
  },
  {
   "cell_type": "markdown",
   "metadata": {},
   "source": [
    "Now let's give this a try by learning how to write our own functions."
   ]
  },
  {
   "cell_type": "code",
   "execution_count": null,
   "metadata": {},
   "outputs": [],
   "source": [
    "def double(x):\n",
    "    \"\"\" doubles \"\"\"\n",
    "    return 2*x"
   ]
  },
  {
   "cell_type": "code",
   "execution_count": null,
   "metadata": {},
   "outputs": [],
   "source": [
    "?double"
   ]
  },
  {
   "cell_type": "code",
   "execution_count": null,
   "metadata": {},
   "outputs": [],
   "source": [
    "def triple(xtra):\n",
    "    \"\"\" triples \"\"\"\n",
    "    return 3*xtra"
   ]
  },
  {
   "cell_type": "code",
   "execution_count": null,
   "metadata": {},
   "outputs": [],
   "source": [
    "x = double(4)*triple(4)\n",
    "x"
   ]
  },
  {
   "cell_type": "code",
   "execution_count": null,
   "metadata": {},
   "outputs": [],
   "source": [
    "x = triple(x)"
   ]
  },
  {
   "cell_type": "code",
   "execution_count": null,
   "metadata": {},
   "outputs": [],
   "source": [
    "print(x)"
   ]
  },
  {
   "cell_type": "code",
   "execution_count": null,
   "metadata": {},
   "outputs": [],
   "source": [
    "?double"
   ]
  },
  {
   "cell_type": "code",
   "execution_count": null,
   "metadata": {},
   "outputs": [],
   "source": [
    "double(10)"
   ]
  },
  {
   "cell_type": "markdown",
   "metadata": {},
   "source": [
    "## Defining functions\n",
    "\n",
    "Here is a very simple function that converts a proportion to a percentage by multiplying it by 100.  For example, the value of `to_percentage(.5)` should be the number 50.  (No percent sign.)\n",
    "\n",
    "A function definition has a few parts.\n",
    "\n",
    "##### `def`\n",
    "It always starts with `def` (short for **def**ine):\n",
    "```\n",
    "    def\n",
    "```\n",
    "\n",
    "##### Name\n",
    "Next comes the name of the function.  Let's call our function `to_percentage`.\n",
    "```\n",
    "    \n",
    "    def to_percentage\n",
    "```\n",
    "##### Signature\n",
    "Next comes something called the *signature* of the function.  This tells Python how many arguments your function should have, and what names you'll use to refer to those arguments in the function's code.  `to_percentage` should take one argument, and we'll call that argument `proportion` since it should be a proportion.\n",
    "```\n",
    "    def to_percentage(proportion)\n",
    "```\n",
    "\n",
    "We put a colon after the signature to tell Python it's over.\n",
    "```\n",
    "\n",
    "    def to_percentage(proportion):\n",
    "```\n",
    "\n",
    "##### Documentation\n",
    "Functions can do complicated things, so you should write an explanation of what your function does.  For small functions, this is less important, but it's a good habit to learn from the start.  Conventionally, Python functions are documented by writing a triple-quoted string:\n",
    "```\n",
    "    def to_percentage(proportion):\n",
    "        \"\"\"Converts a proportion to a percentage.\"\"\"\n",
    "```\n",
    "    \n",
    "    \n",
    "##### Body\n",
    "Now we start writing code that runs when the function is called.  This is called the *body* of the function.  We can write anything we could write anywhere else.  First let's give a name to the number we multiply a proportion by to get a percentage.\n",
    "```\n",
    "    def to_percentage(proportion):\n",
    "        \"\"\"Converts a proportion to a percentage.\"\"\"\n",
    "        factor = 100\n",
    "```\n",
    "\n",
    "##### `return`\n",
    "The special instruction `return` in a function's body tells Python to make the value of the function call equal to whatever comes right after `return`.  We want the value of `to_percentage(.5)` to be the proportion .5 times the factor 100, so we write:\n",
    "```\n",
    "    def to_percentage(proportion):\n",
    "        \"\"\"Converts a proportion to a percentage.\"\"\"\n",
    "        factor = 100\n",
    "        return proportion * factor\n",
    "```"
   ]
  },
  {
   "cell_type": "code",
   "execution_count": null,
   "metadata": {},
   "outputs": [],
   "source": [
    "def to_percentage(proportion):\n",
    "        \"\"\"Converts a proportion to a percentage.\"\"\"\n",
    "        factor = 100\n",
    "        return proportion * factor"
   ]
  },
  {
   "cell_type": "code",
   "execution_count": null,
   "metadata": {},
   "outputs": [],
   "source": [
    "print(to_percentage(0.45),\"%\")"
   ]
  },
  {
   "cell_type": "code",
   "execution_count": null,
   "metadata": {},
   "outputs": [],
   "source": [
    "to_percentage(0.45)"
   ]
  },
  {
   "cell_type": "code",
   "execution_count": null,
   "metadata": {},
   "outputs": [],
   "source": [
    "import numpy as np\n",
    "from datascience import *\n",
    "years = np.arange(1990,2022)\n",
    "table1 = Table().with_columns(\"years\", years,\"Odd\",years %2)\n",
    "table1.where(\"Odd\",are.equal_to(1))"
   ]
  },
  {
   "cell_type": "markdown",
   "metadata": {},
   "source": [
    "#### For [unicode emojis](https://unicode.org/emoji/charts-14.0/full-emoji-list.html)\n",
    "(https://unicode.org/emoji/charts-14.0/full-emoji-list.html)[https://unicode.org/emoji/charts-14.0/full-emoji-list.html]"
   ]
  },
  {
   "cell_type": "code",
   "execution_count": null,
   "metadata": {},
   "outputs": [],
   "source": [
    "# CLDR\n",
    "print(\"\\N{grinning face with smiling eyes}\")"
   ]
  },
  {
   "cell_type": "code",
   "execution_count": null,
   "metadata": {},
   "outputs": [],
   "source": [
    "import numpy as np\n",
    "def happy_print(n):\n",
    "    \"\"\" Prints happy n times \"\"\"\n",
    "    for i in np.arange(n):\n",
    "        # print(i+1)\n",
    "        print(i+1,\"\\N{grinning face with smiling eyes}\")\n",
    "    return n"
   ]
  },
  {
   "cell_type": "code",
   "execution_count": null,
   "metadata": {},
   "outputs": [],
   "source": [
    "happy_print(60)"
   ]
  },
  {
   "cell_type": "markdown",
   "metadata": {},
   "source": [
    "#### Now try more complex function"
   ]
  },
  {
   "cell_type": "code",
   "execution_count": null,
   "metadata": {},
   "outputs": [],
   "source": [
    "import numpy as np\n",
    "# Compute the ratio as a percentage\n",
    "\n",
    "def per_change(x,y):\n",
    "    \"\"\" Takes ratio of x to y and\n",
    "    converts to a % change by subtracting 1\n",
    "     >>> per_change(20, 16)\n",
    "    0.2500\n",
    "    \n",
    "    \"\"\"\n",
    "    return np.round(x/y-1,2)"
   ]
  },
  {
   "cell_type": "code",
   "execution_count": null,
   "metadata": {},
   "outputs": [],
   "source": [
    "per_change(3.89,3.69)"
   ]
  },
  {
   "cell_type": "markdown",
   "metadata": {},
   "source": [
    "#### Now use apply to compute new Table column"
   ]
  },
  {
   "cell_type": "code",
   "execution_count": null,
   "metadata": {},
   "outputs": [],
   "source": [
    "from datascience import *\n",
    "data = 'http://www2.census.gov/programs-surveys/popest/datasets/2010-2020/national/asrh/nc-est2020-agesex-res.csv'\n",
    "full_census_table = Table.read_table(data)\n",
    "partial_census_table = full_census_table.select('SEX', 'AGE', 'POPESTIMATE2010', 'POPESTIMATE2020')\n",
    "partial_census_table = partial_census_table.relabeled('SEX', 'GENDER').relabeled('POPESTIMATE2010', '2010').relabeled('POPESTIMATE2020', '2020')\n",
    "partial_census_table"
   ]
  },
  {
   "cell_type": "code",
   "execution_count": null,
   "metadata": {},
   "outputs": [],
   "source": [
    "census=partial_census_table.where(0,0).where('AGE',are.below(99))\n",
    "census=census.with_columns(\n",
    "    \"% change\",census.apply(per_change,'2020','2010')\n",
    ")\n",
    "census.set_format('% change',PercentFormatter)"
   ]
  },
  {
   "cell_type": "markdown",
   "metadata": {},
   "source": [
    "Need to import these to plot"
   ]
  },
  {
   "cell_type": "code",
   "execution_count": null,
   "metadata": {},
   "outputs": [],
   "source": [
    "import numpy as np\n",
    "%matplotlib inline\n",
    "import matplotlib.pyplot as plt\n",
    "plt.style.use('fivethirtyeight')\n",
    "# Fix for datascience plots\n",
    "import collections as collections\n",
    "import collections.abc as abc\n",
    "collections.Iterable = abc.Iterable"
   ]
  },
  {
   "cell_type": "code",
   "execution_count": null,
   "metadata": {},
   "outputs": [],
   "source": [
    "census.select('AGE','% change').plot('AGE')"
   ]
  },
  {
   "cell_type": "markdown",
   "metadata": {},
   "source": [
    "Select proper columns"
   ]
  },
  {
   "cell_type": "code",
   "execution_count": null,
   "metadata": {},
   "outputs": [],
   "source": [
    "census.select('AGE','2010','2020').plot('AGE')"
   ]
  },
  {
   "cell_type": "markdown",
   "metadata": {},
   "source": [
    "### scatter depicts relationship between two variables"
   ]
  },
  {
   "cell_type": "code",
   "execution_count": null,
   "metadata": {},
   "outputs": [],
   "source": [
    "census.scatter('2010','2020')"
   ]
  },
  {
   "cell_type": "code",
   "execution_count": null,
   "metadata": {},
   "outputs": [],
   "source": [
    "import plotly.express as px\n",
    "\n",
    "series1 = census.column('2010')\n",
    "age = census.column('AGE')\n",
    "fig = px.line(x=age, y=[series1])\n",
    "\n",
    "fig.show()"
   ]
  },
  {
   "cell_type": "code",
   "execution_count": null,
   "metadata": {},
   "outputs": [],
   "source": [
    "census.hist('% change')"
   ]
  },
  {
   "cell_type": "markdown",
   "metadata": {
    "tags": []
   },
   "source": [
    "# Visualize\n",
    "Start again with Census data"
   ]
  },
  {
   "cell_type": "code",
   "execution_count": null,
   "metadata": {},
   "outputs": [],
   "source": []
  },
  {
   "cell_type": "code",
   "execution_count": null,
   "metadata": {},
   "outputs": [],
   "source": [
    "# Load data\n",
    "from datascience import *\n",
    "data = 'http://www2.census.gov/programs-surveys/popest/datasets/2010-2020/national/asrh/nc-est2020-agesex-res.csv'\n",
    "full_census_table = Table.read_table(data)\n",
    "partial_census_table = full_census_table.select('SEX', 'AGE', 'POPESTIMATE2010', 'POPESTIMATE2020')\n",
    "partial_census_table = partial_census_table.relabeled('SEX', 'GENDER').relabeled('POPESTIMATE2010', '2010').relabeled('POPESTIMATE2020', '2020')\n",
    "partial_census_table"
   ]
  },
  {
   "cell_type": "code",
   "execution_count": null,
   "metadata": {},
   "outputs": [],
   "source": [
    "import numpy as np\n",
    "# Compute the ratio as a percentage\n",
    "def per_change(x,y):\n",
    "    \"\"\" Takes ratio of x to y and\n",
    "    converts to a % change by subtracting 1\n",
    "     >>> per_change(20, 16)\n",
    "    0.2500\n",
    "    \n",
    "    \"\"\"\n",
    "    return np.round(x/y-1,2)"
   ]
  },
  {
   "cell_type": "code",
   "execution_count": null,
   "metadata": {},
   "outputs": [],
   "source": [
    "census=partial_census_table.where(0,0).where('AGE',are.below(99))\n",
    "census=census.with_columns(\n",
    "    \"% change\",census.apply(per_change,'2020','2010')\n",
    ")\n",
    "census.set_format('% change',PercentFormatter)"
   ]
  },
  {
   "cell_type": "code",
   "execution_count": null,
   "metadata": {},
   "outputs": [],
   "source": [
    "import numpy as np\n",
    "%matplotlib inline\n",
    "import matplotlib.pyplot as plt\n",
    "plt.style.use('fivethirtyeight')\n",
    "# Fix for datascience plots\n",
    "import collections as collections\n",
    "import collections.abc as abc\n",
    "collections.Iterable = abc.Iterable"
   ]
  },
  {
   "cell_type": "code",
   "execution_count": null,
   "metadata": {},
   "outputs": [],
   "source": [
    "census.select('AGE','% change').plot('AGE')"
   ]
  },
  {
   "cell_type": "code",
   "execution_count": null,
   "metadata": {},
   "outputs": [],
   "source": [
    "import plotly.express as px\n",
    "\n",
    "series1 = census.column('2010')\n",
    "age = census.column('AGE')\n",
    "fig = px.line(x=age, y=[series1])\n",
    "\n",
    "fig.show()"
   ]
  },
  {
   "cell_type": "code",
   "execution_count": null,
   "metadata": {},
   "outputs": [],
   "source": [
    "COVID_data = 'https://raw.githubusercontent.com/nytimes/covid-19-data/master/rolling-averages/us.csv'\n",
    "COVID=Table.read_table(COVID_data)\n",
    "COVID=COVID.set_format(0, DateFormatter(format='%Y-%m-%d',))\n",
    "COVID"
   ]
  },
  {
   "cell_type": "code",
   "execution_count": null,
   "metadata": {},
   "outputs": [],
   "source": [
    "import time\n",
    "time.time()"
   ]
  },
  {
   "cell_type": "code",
   "execution_count": null,
   "metadata": {},
   "outputs": [],
   "source": [
    "import time                # Python time functions\n",
    "from time import strptime \n",
    "#time.time() # Seconds since common epoch\n",
    "time1 = time.mktime(strptime('2020-10-01', '%Y-%m-%d'))\n",
    "time2 = time.mktime(strptime('2022-10-01', '%Y-%m-%d')) # Seconds since epoch\n",
    "Early2022 = COVID.where('date',are.between(time1,time2))\n",
    "Early2022"
   ]
  },
  {
   "cell_type": "code",
   "execution_count": null,
   "metadata": {},
   "outputs": [],
   "source": [
    "type(Early2022)"
   ]
  },
  {
   "cell_type": "markdown",
   "metadata": {},
   "source": [
    "Smoothing"
   ]
  },
  {
   "cell_type": "code",
   "execution_count": null,
   "metadata": {},
   "outputs": [],
   "source": [
    "dt = Early2022.column('deaths')\n",
    "kernel_size = 10\n",
    "kernel = np.ones(kernel_size) / kernel_size\n",
    "data_convolved = np.convolve(dt, kernel, mode='same')\n",
    "\n",
    "Early2022 = Early2022.with_columns('moving_avg', data_convolved)"
   ]
  },
  {
   "cell_type": "code",
   "execution_count": null,
   "metadata": {},
   "outputs": [],
   "source": [
    "# Input Data to plot\n",
    "dates = Early2022.column('date')  \n",
    "deaths = Early2022.column('moving_avg') \n",
    "# mdates does the trick!\n",
    "## DATE PLOTTING CODE TEMPLATE TO COPY ##\n",
    "import matplotlib.dates as mdates\n",
    "date = Early2022.column('date').astype('datetime64[s]') # Need to convert to a datetime64[s] object\n",
    "loc = mdates.AutoDateLocator() # Fancy function for dates\n",
    "fmt = mdates.AutoDateFormatter(loc)\n",
    "plt.gca().xaxis.set_major_formatter(fmt)\n",
    "plt.gca().xaxis.set_major_locator(loc)\n",
    "## END: DATE PLOTTING CODE TEMPLATE TO COPY ##\n",
    "#\n",
    "# Now plot\n",
    "plt.plot(date,deaths)\n",
    "plt.gcf().autofmt_xdate()"
   ]
  },
  {
   "cell_type": "code",
   "execution_count": null,
   "metadata": {},
   "outputs": [],
   "source": [
    "Early2022.hist('deaths', bins=np.arange(0,5000,500))"
   ]
  },
  {
   "cell_type": "markdown",
   "metadata": {},
   "source": [
    "### Data Smoothing Example\n",
    "Only smooth to reveal long term trend and disclose the process of smotthing"
   ]
  },
  {
   "cell_type": "code",
   "execution_count": null,
   "metadata": {},
   "outputs": [],
   "source": [
    "import numpy as np\n",
    "x = np.linspace(0,2*np.pi,100)\n",
    "y = np.sin(x) + np.random.random(100) * 0.8\n",
    "\n",
    "def smooth(y, box_pts):\n",
    "    box = np.ones(box_pts)/box_pts\n",
    "    y_smooth = np.convolve(y, box, mode='same')\n",
    "    return y_smooth\n",
    "\n",
    "plt.plot(x, y,'o') # Blue dots\n",
    "plt.plot(x, smooth(y,3), 'r-', lw=2) # Red line\n",
    "plt.plot(x, smooth(y,19), 'g-', lw=2) # Green line"
   ]
  },
  {
   "cell_type": "markdown",
   "metadata": {
    "tags": []
   },
   "source": [
    "## Is COVID receding?\n",
    "Table group work"
   ]
  },
  {
   "cell_type": "code",
   "execution_count": null,
   "metadata": {},
   "outputs": [],
   "source": [
    "from datascience import *\n",
    "COVID_data = 'https://raw.githubusercontent.com/nytimes/covid-19-data/master/rolling-averages/us.csv'\n",
    "COVID=Table.read_table(COVID_data)\n",
    "COVID=COVID.set_format(0, DateFormatter(format='%Y-%m-%d',))"
   ]
  },
  {
   "cell_type": "code",
   "execution_count": null,
   "metadata": {},
   "outputs": [],
   "source": [
    "import numpy as np\n",
    "%matplotlib inline\n",
    "import matplotlib.pyplot as plt\n",
    "plt.style.use('fivethirtyeight')\n",
    "import plotly.express as px\n",
    "# Fix for datascience plots\n",
    "import collections as collections\n",
    "import collections.abc as abc\n",
    "collections.Iterable = abc.Iterable"
   ]
  },
  {
   "cell_type": "code",
   "execution_count": null,
   "metadata": {},
   "outputs": [],
   "source": [
    "import time                # Python time functions\n",
    "from time import strptime \n",
    "#time.time() # Seconds since common epoch\n",
    "time1 = time.mktime(strptime('2020-10-01', '%Y-%m-%d'))\n",
    "time2 = time.mktime(strptime('2022-10-01', '%Y-%m-%d')) # Seconds since epoch"
   ]
  },
  {
   "cell_type": "markdown",
   "metadata": {},
   "source": [
    "### Best visualization that shows COVID status relative to height of pandemic\n",
    "Share from tables to class\n",
    "- Matplotlib [reference](https://matplotlib.org/stable/gallery/showcase/anatomy.html#sphx-glr-gallery-showcase-anatomy-py)\n",
    "- Plotly [reference](https://plotly.com/python/)"
   ]
  },
  {
   "cell_type": "code",
   "execution_count": null,
   "metadata": {},
   "outputs": [],
   "source": []
  }
 ],
 "metadata": {
  "kernelspec": {
   "display_name": "Python 3 (ipykernel)",
   "language": "python",
   "name": "python3"
  },
  "language_info": {
   "codemirror_mode": {
    "name": "ipython",
    "version": 3
   },
   "file_extension": ".py",
   "mimetype": "text/x-python",
   "name": "python",
   "nbconvert_exporter": "python",
   "pygments_lexer": "ipython3",
   "version": "3.10.8"
  }
 },
 "nbformat": 4,
 "nbformat_minor": 4
}
