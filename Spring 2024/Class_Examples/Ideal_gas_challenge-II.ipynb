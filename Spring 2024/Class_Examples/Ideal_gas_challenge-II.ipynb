{
 "cells": [
  {
   "cell_type": "markdown",
   "id": "2b231cd3-d83b-41f5-b464-19b0f035b885",
   "metadata": {},
   "source": [
    "## Group Challenge: Code an ideal gas II\n",
    "lists"
   ]
  },
  {
   "cell_type": "markdown",
   "id": "0ea9e5eb-c013-4e8a-8e70-026c5486244a",
   "metadata": {},
   "source": [
    "An ideal gas is the simplest description of the way gas molecules and atoms interact and the relationship between temperature, volume, pressure, and number of molecules. See:[Open Stax](https://openstax.org/books/chemistry-atoms-first-2e/pages/8-2-relating-pressure-volume-amount-and-temperature-the-ideal-gas-law)\n",
    "P V = n R T \n",
    "<br> <br>\n",
    "P = pressure in atm <br>\n",
    "V = volume in liter <br>\n",
    "n = number of moles <br>\n",
    "R = gas constant = 0.082057 L atm / mol K <br>\n",
    "T = temperature in Kelvin"
   ]
  },
  {
   "cell_type": "markdown",
   "id": "0c09e091-c958-481c-85ef-665a381f1750",
   "metadata": {},
   "source": [
    "Challenge: Compute the volume of 1 mole of gas at 1 atm and the follwing temperatures T = 298 K (room remperature), 310 K, 273 K"
   ]
  },
  {
   "cell_type": "code",
   "execution_count": null,
   "id": "f2a38c20-cfee-461d-b1be-3110fcdfceb4",
   "metadata": {},
   "outputs": [],
   "source": [
    "T = [273, 298, 310]"
   ]
  },
  {
   "cell_type": "code",
   "execution_count": null,
   "id": "0c9d8a9b-34ce-4a1b-83ec-b7005555d05a",
   "metadata": {},
   "outputs": [],
   "source": [
    "P = 1.0\n",
    "n = 1.0\n",
    "R = 0.082057\n",
    "\n"
   ]
  },
  {
   "cell_type": "markdown",
   "id": "7d5ff36d-cda1-415b-aa55-58e97efdfa5c",
   "metadata": {},
   "source": [
    "- Use a list to compute volume at the 3 temperatures\n",
    "- Use arrays to compute volumes for temperatures between 200K and 400K in steps of 10"
   ]
  },
  {
   "cell_type": "code",
   "execution_count": null,
   "id": "f5c7e809-45ac-4b47-a066-7d1fe5713d08",
   "metadata": {},
   "outputs": [],
   "source": [
    "V = [str(n*R*temp/P) for temp in ...]"
   ]
  },
  {
   "cell_type": "code",
   "execution_count": null,
   "id": "96aa4b39-a673-4538-be73-a45484eff58e",
   "metadata": {},
   "outputs": [],
   "source": [
    "V"
   ]
  },
  {
   "cell_type": "markdown",
   "id": "dada95d2-a798-4df7-abc3-11a9f700b809",
   "metadata": {},
   "source": [
    "Now make larger list using np.arange"
   ]
  },
  {
   "cell_type": "code",
   "execution_count": null,
   "id": "77a5c28c-6b5a-4b61-b801-9ce4e0a4dbf4",
   "metadata": {},
   "outputs": [],
   "source": [
    "import numpy as np"
   ]
  },
  {
   "cell_type": "code",
   "execution_count": null,
   "id": "c6073fc3-8b50-4e1b-a845-d3170c9c3e79",
   "metadata": {},
   "outputs": [],
   "source": [
    "T =list(np.arange(...))\n",
    "T"
   ]
  }
 ],
 "metadata": {
  "kernelspec": {
   "display_name": "Python 3 (ipykernel)",
   "language": "python",
   "name": "python3"
  },
  "language_info": {
   "codemirror_mode": {
    "name": "ipython",
    "version": 3
   },
   "file_extension": ".py",
   "mimetype": "text/x-python",
   "name": "python",
   "nbconvert_exporter": "python",
   "pygments_lexer": "ipython3",
   "version": "3.9.12"
  }
 },
 "nbformat": 4,
 "nbformat_minor": 5
}
