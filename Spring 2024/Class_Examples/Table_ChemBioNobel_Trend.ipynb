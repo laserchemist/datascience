{
 "cells": [
  {
   "cell_type": "markdown",
   "id": "41e520bd-f6ff-4ea9-aafd-02df4f758a92",
   "metadata": {},
   "source": [
    "### Table Application: Google Trends"
   ]
  },
  {
   "cell_type": "code",
   "execution_count": null,
   "id": "c53354c5-131c-4e79-a198-5cc2626db3ba",
   "metadata": {},
   "outputs": [],
   "source": [
    "from datascience import *\n",
    "import numpy as np\n",
    "%matplotlib inline\n",
    "import matplotlib.pyplot as plt"
   ]
  },
  {
   "cell_type": "markdown",
   "id": "bbfdd04d-7bc1-4e92-ba2b-03e47bdf0649",
   "metadata": {},
   "source": [
    "#### Look at Chemistry, Biology and Nobel Prize search trends"
   ]
  },
  {
   "cell_type": "code",
   "execution_count": null,
   "id": "6cb5f5dd-5bfa-4175-b0b6-9567b8f1ca75",
   "metadata": {},
   "outputs": [],
   "source": [
    "file_original = \"multiTimeline-9.csv\"\n",
    "file = \"ChemBioNobelTrend.csv\"\n",
    "ChemBio = Table().read_table(file_original, skiprows=2)\n",
    "ChemBio"
   ]
  },
  {
   "cell_type": "markdown",
   "id": "a8a529fa-742f-46d4-bd0a-58927305385b",
   "metadata": {},
   "source": [
    "##### C"
   ]
  },
  {
   "cell_type": "code",
   "execution_count": 27,
   "id": "1182e5c3-f3cb-4081-980d-ce946c2c60b2",
   "metadata": {},
   "outputs": [
    {
     "data": {
      "text/plain": [
       "array([ 42,  42,  36,  39,  39,  33,  34,  35,  37,  38,  35,  37,  43,\n",
       "        46,  38,  35,  29,  30,  27,  22,  24,  17,  19,  19,  17,  17,\n",
       "        18,  26,  33,  39,  37,  46,  44,  43,  42,  40,  36,  40,  36,\n",
       "        39,  36,  38,  23,  37,  38,  31,  10,  12,  29,  35,  36,  40,\n",
       "        39,  37,  35,  35,  37,  28,  22,  27,  33,  40,  39,  44,  43,\n",
       "        43,  41,  31,  25,  25,  24,  20,  19,  19,  19,  20,  19,  19,\n",
       "        19,  21,  35,  71,  78,  84,  99,  95,  81,  85,  72,  70,  65,\n",
       "        51,  57,  64,  36,  54,  56,  50,  25,  21,  40,  49,  49,  59,\n",
       "        59,  57,  50,  58,  58,  56,  48,  49,  46,  47,  32,  21,  20,\n",
       "        21,  20,  19,  19,  16,  15,  13,  12,  12,  11,  12,  11,  11,\n",
       "        11,  12,  17,  23,  26,  26,  32,  61,  63,  60,  57,  62,  60,\n",
       "        59,  58,  62,  33,  54,  57,  59,  27,  22,  41,  51,  55,  65,\n",
       "        60,  69,  70,  63,  69,  64,  61,  67,  71,  75,  67,  74,  82,\n",
       "        61,  57,  54,  44,  44,  45,  43,  38,  37,  34,  37,  35,  34,\n",
       "        39,  42,  50,  66,  75,  76,  87,  85,  83,  88,  75,  85,  81,\n",
       "        89,  74,  80,  44,  76,  80,  77,  41,  26,  47,  68,  67,  77,\n",
       "        78,  83, 100,  77,  81,  77,  66,  75,  77,  61,  70,  74,  77,\n",
       "        79,  70,  68,  60,  51,  51,  48,  42,  41,  36,  40,  41,  38,\n",
       "        36,  41,  48,  64,  75,  78,  91,  89,  88,  90,  84,  84,  85,\n",
       "        84,  88,  86,  45,  82,  77,  65,  36,  16,  26,  45,  46,  62])"
      ]
     },
     "execution_count": 27,
     "metadata": {},
     "output_type": "execute_result"
    }
   ],
   "source": [
    "ChemBio.column('Chemistry: (United States)')"
   ]
  },
  {
   "cell_type": "code",
   "execution_count": null,
   "id": "fdc9bec0-4791-4b56-b194-a877ac04cf38",
   "metadata": {},
   "outputs": [],
   "source": [
    "ChemBio['Chemistry: (United States)'].max()"
   ]
  },
  {
   "cell_type": "code",
   "execution_count": null,
   "id": "9450bf7d-e5dd-4922-95cf-25c401f78b8b",
   "metadata": {},
   "outputs": [],
   "source": [
    "ChemBio['Chemistry: (United States)'].mean()"
   ]
  },
  {
   "cell_type": "code",
   "execution_count": null,
   "id": "adfab1d7-170e-43cc-80ed-207536beedea",
   "metadata": {},
   "outputs": [],
   "source": [
    "ChemBio['Biology: (United States)'].mean()"
   ]
  },
  {
   "cell_type": "code",
   "execution_count": null,
   "id": "13996876-a0f2-4c95-97f1-362f25e45526",
   "metadata": {},
   "outputs": [],
   "source": [
    "ChemBio['Biology: (United States)'].max()"
   ]
  },
  {
   "cell_type": "code",
   "execution_count": null,
   "id": "c2b72d8a-e086-4782-891a-549904398452",
   "metadata": {},
   "outputs": [],
   "source": [
    "ChemBio.sort('Nobel Prize: (United States)', descending = True)"
   ]
  },
  {
   "cell_type": "code",
   "execution_count": null,
   "id": "4da644ae-d58e-4949-bccc-209f49362b29",
   "metadata": {},
   "outputs": [],
   "source": [
    "ChemBio.scatter('Biology: (United States)','Chemistry: (United States)')"
   ]
  }
 ],
 "metadata": {
  "kernelspec": {
   "display_name": "Python 3 (ipykernel)",
   "language": "python",
   "name": "python3"
  },
  "language_info": {
   "codemirror_mode": {
    "name": "ipython",
    "version": 3
   },
   "file_extension": ".py",
   "mimetype": "text/x-python",
   "name": "python",
   "nbconvert_exporter": "python",
   "pygments_lexer": "ipython3",
   "version": "3.9.12"
  }
 },
 "nbformat": 4,
 "nbformat_minor": 5
}
