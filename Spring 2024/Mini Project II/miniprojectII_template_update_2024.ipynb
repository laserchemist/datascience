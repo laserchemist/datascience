{
 "cells": [
  {
   "cell_type": "markdown",
   "metadata": {},
   "source": [
    "# mini-project II: Mount Saint Helens' biodiversity after the ashes\n",
    "Elements of Data Science"
   ]
  },
  {
   "cell_type": "code",
   "execution_count": null,
   "metadata": {
    "editable": true,
    "slideshow": {
     "slide_type": ""
    },
    "tags": []
   },
   "outputs": [],
   "source": [
    "# Enter your name as a string\n",
    "name = ..."
   ]
  },
  {
   "cell_type": "code",
   "execution_count": null,
   "metadata": {
    "editable": true,
    "slideshow": {
     "slide_type": ""
    },
    "tags": []
   },
   "outputs": [],
   "source": [
    "import numpy as np\n",
    "from datascience import *\n",
    "%matplotlib inline\n",
    "import matplotlib.pyplot as plt\n",
    "plt.style.use('ggplot')\n",
    "import os\n",
    "user = os.getenv('JUPYTERHUB_USER')"
   ]
  },
  {
   "cell_type": "markdown",
   "metadata": {},
   "source": [
    "### Mount Saint Helens Eruption  8:32 A.M. on May 18, 1980\n",
    "We will explore data on ecosystem recovery following the volcanic eruption at Mount Saint Helens in Washington State.<br>\n",
    "<img src='data/Eruption.jpg'><br><img src='data/800px-1980_St._Helens_ashmap.png'>"
   ]
  },
  {
   "cell_type": "markdown",
   "metadata": {},
   "source": [
    "### <font color='green'>Data Sets\n",
    "<font color='red'>**Mount Saint Helens erupted at 8:32 A.M. on May 18, 1980.** </font>\n",
    "<br>\n",
    "Professor Roger del Morales at University of Washington https://faculty.washington.edu/moral/ and his team set up circular, 9 meter radius, land plots near the volcano once it was safe to initiate the study in 1984. These plots are located in several distinct regions near the volcano cone to study the return of vegetation and biodiversity to these plots located in different positions relative to the volcanic cone (see mapping below). We will use this data to assess the rate of plant succession. Measures in the data include yearly species richness, *RICHNESS*, defined as the number of species in a given region or in this case the 9 meter radius (250 m^2) land plot. We will use our data science tools to decide if the changes over time in *RICHNESS* are a pattern (Alternate hypothesis) or if they are just due to random fluctuations (NULL hypothesis). We will also study *COVER_%*, a measure that reflects plant coverage. In this case we will test whether growth has occured following the eruption. Plots are studied in 13 unique locations with different characteristics including the blast type which they experienced. In designing their study, the researchers also collected data in up to 10 adjacent plots with the same name in order to assess statistical variation across an area. \n",
    "\n",
    "**Our Overall Study Plan**\n",
    "1. Select two distinct plot names with contrasting characteristics\n",
    "2. Look at plant succcesion 10 years after the blast relative to first year of data available for a given plot. Here we use a paired t-test.\n",
    "3. Examine time trend for plant succession using changes function developed in Lab 07.\n",
    "\n",
    "**Data collected:**\n",
    "1. del Moral, Roger (2016): Thirty years of permanent vegetation plots, Mount St. Helens, Washington, USA. Wiley. Collection. https://doi.org/10.6084/m9.figshare.c.3303093.v1 \n",
    "Source: https://figshare.com/collections/Thirty_years_of_permanent_vegetation_plots_Mount_St_Helens_Washington_USA/3303093\n",
    "\n",
    "**Papers using this data:**\n",
    "1. Del Moral, R.; Magnússon, B., \"Surtsey and Mount St. Helens: a comparison of early succession rates\". Biogeosciences 2014, 11 (7), 2099-2111.\n",
    "https://faculty.washington.edu/moral/publications/2014%20delMoral%20Magnusson.pdf\n",
    "\n",
    "2.  Cook, James E.; Halpern, Charles B., \"Vegetation changes in blown-down and scorched forests 10–26 years after the eruption of Mount St. Helens, Washington, USA\". Plant Ecology 2018, 219 (8), 957-972.\n",
    "https://link.springer.com/content/pdf/10.1007/s11258-018-0849-8.pdf\n",
    "\n"
   ]
  },
  {
   "cell_type": "markdown",
   "metadata": {},
   "source": [
    "### <font color='green'>Video background"
   ]
  },
  {
   "cell_type": "code",
   "execution_count": null,
   "metadata": {
    "editable": true,
    "slideshow": {
     "slide_type": ""
    },
    "tags": []
   },
   "outputs": [],
   "source": [
    "from IPython.display import YouTubeVideo\n",
    "YouTubeVideo(\"UK--hvgP2uY\")\n",
    "# https://youtu.be/UK--hvgP2uY"
   ]
  },
  {
   "cell_type": "markdown",
   "metadata": {},
   "source": [
    "[Google Earth 3D view](https://earth.google.com/web/search/Mount+Saint+Helens,+Washington/@46.19819667,-122.19529432,2095.30665214a,10392.19844707d,35y,224.30506563h,60t,0r/data=CigiJgokCcIkzMXzkzhAEcIkzMXzkzjAGcJo4PGMbkNAIYI6cQ6KIlHA)"
   ]
  },
  {
   "cell_type": "markdown",
   "metadata": {
    "editable": true,
    "slideshow": {
     "slide_type": ""
    },
    "tags": []
   },
   "source": [
    "### <font color='green'> ***Question 1***</font>\n",
    "We will first explore the different study plots where data was collected. They are located in different environments, elevations, and locations relative to the volcano cone. <br>Create initial data tables and plots to explore the nature of the different plots included in \"data/MSH_PLOT_DESCRIPTORS2.csv\". Variables to consider include elevation, slope, aspect (direction), impact type. You could use group or pivot methods here."
   ]
  },
  {
   "cell_type": "code",
   "execution_count": null,
   "metadata": {},
   "outputs": [],
   "source": [
    "# Plot description dataset\n",
    "datafile = \"data/MSH_PLOT_DESCRIPTORS2.csv\"\n",
    "MSH_PLOT = Table.read_table(datafile)\n",
    "MSH_PLOT"
   ]
  },
  {
   "cell_type": "markdown",
   "metadata": {},
   "source": [
    "#### Plot Impact Type"
   ]
  },
  {
   "cell_type": "code",
   "execution_count": null,
   "metadata": {},
   "outputs": [],
   "source": [
    "np.unique(MSH_PLOT['IMPACT_TYPE'])"
   ]
  },
  {
   "cell_type": "markdown",
   "metadata": {},
   "source": [
    "#### Mapping Biodiversity Data Collected following Mount Saint Helens Eruption\n",
    "Data is collected anually on developing biodiversity on defined plots of land with given latitude and longitude. These locations can be mapped using the *map_table* method of a table object.  Plots are studied in 13 unique locations relative to the volcanic cone with different characteristics including the blast type which they experienced. Zoom in on map, click on each circle to view the label for the data series. There are replicate plots within each plot name in order assess statistical variation. The `.map_table()` method uses [Folium](https://realpython.com/python-folium-web-maps-from-data/), a powerful mapping and GeoJSON utility."
   ]
  },
  {
   "cell_type": "code",
   "execution_count": null,
   "metadata": {
    "editable": true,
    "scrolled": true,
    "slideshow": {
     "slide_type": ""
    },
    "tags": []
   },
   "outputs": [],
   "source": [
    "MSH_PLOT = MSH_PLOT.with_columns('NLONG',-1*(MSH_PLOT.column('LONG')))\n",
    "MSH_map = MSH_PLOT.select('LAT', 'NLONG', 'PLOT_CODE').relabel('PLOT_CODE', 'labels')\n",
    "MSH_coordinates = (46.191387, -122.195618)\n",
    "OurMap = Map(location=MSH_coordinates, zoom_start=10, width=500, height=500,)\n",
    "#Circle.map_table(MSH_map, color='blue',radius_scale=9,radius_in_meters=True)\n",
    "OurMap.overlay(MSH_map, color='blue', opacity=0.01)"
   ]
  },
  {
   "cell_type": "code",
   "execution_count": null,
   "metadata": {},
   "outputs": [],
   "source": []
  },
  {
   "cell_type": "code",
   "execution_count": null,
   "metadata": {},
   "outputs": [],
   "source": []
  },
  {
   "cell_type": "markdown",
   "metadata": {},
   "source": []
  },
  {
   "cell_type": "markdown",
   "metadata": {
    "editable": true,
    "slideshow": {
     "slide_type": ""
    },
    "tags": []
   },
   "source": [
    "### <font color='green'> ***Question 2***</font>\n",
    "Identify two plots with unique `PLOT_NAME`'s to study based on mapped location and characteristics given in \"data/MSH_PLOT_DESCRIPTORS2.csv\" file. Use a detailed markdown cell to provide reasons for your two choices of plots. Include differences and similarities."
   ]
  },
  {
   "cell_type": "code",
   "execution_count": null,
   "metadata": {
    "editable": true,
    "slideshow": {
     "slide_type": ""
    },
    "tags": []
   },
   "outputs": [],
   "source": [
    "# Plot vegatation trend yearly dataset\n",
    "datafile = \"data/MSH_STRUCTURE_PLOT_YEAR.csv\"\n",
    "MSH_YEAR = Table.read_table(datafile)\n",
    "MSH_YEAR"
   ]
  },
  {
   "cell_type": "markdown",
   "metadata": {},
   "source": [
    "**Unique plot names**"
   ]
  },
  {
   "cell_type": "code",
   "execution_count": null,
   "metadata": {},
   "outputs": [],
   "source": [
    "np.unique(MSH_YEAR.column('PLOT_NAME')) #Return unique plot names"
   ]
  },
  {
   "cell_type": "code",
   "execution_count": null,
   "metadata": {},
   "outputs": [],
   "source": [
    "np.unique(MSH_YEAR.column('YEAR')) #Return unique plot years"
   ]
  },
  {
   "cell_type": "markdown",
   "metadata": {},
   "source": [
    "**Select Plots**\n",
    "Example exploratory data analysis below. Select from unique plot names above with complete justification for choice."
   ]
  },
  {
   "cell_type": "code",
   "execution_count": null,
   "metadata": {},
   "outputs": [],
   "source": [
    "myplot1 = '...'"
   ]
  },
  {
   "cell_type": "code",
   "execution_count": null,
   "metadata": {},
   "outputs": [],
   "source": [
    "# Select a particular plot name based on examination of mapped data and descriptions in the plot description dataset.\n",
    "PLT = myplot1 # Put the name for study hear, i.e ='STRD'\n",
    "data = MSH_YEAR.where('PLOT_NAME',are.contained_in(PLT)).sort('YEAR',descending=False)\n",
    "data"
   ]
  },
  {
   "cell_type": "code",
   "execution_count": null,
   "metadata": {},
   "outputs": [],
   "source": [
    "myplot2 = '...'"
   ]
  },
  {
   "cell_type": "code",
   "execution_count": null,
   "metadata": {},
   "outputs": [],
   "source": [
    "# Select a particular plot name based on examination of mapped data and descriptions in the plot description dataset.\n",
    "PLT = myplot2 # Put the name for study hear, i.e ='STRD'\n",
    "data = MSH_YEAR.where('PLOT_NAME',are.contained_in(PLT)).sort('YEAR',descending=False)\n",
    "data"
   ]
  },
  {
   "cell_type": "code",
   "execution_count": null,
   "metadata": {},
   "outputs": [],
   "source": [
    "data.scatter('YEAR','RICHNESS')"
   ]
  },
  {
   "cell_type": "markdown",
   "metadata": {},
   "source": [
    "Group and average to get better view of time trend."
   ]
  },
  {
   "cell_type": "code",
   "execution_count": null,
   "metadata": {},
   "outputs": [],
   "source": [
    "data.group('YEAR', np.mean).plot('YEAR','RICHNESS mean')"
   ]
  },
  {
   "cell_type": "code",
   "execution_count": null,
   "metadata": {},
   "outputs": [],
   "source": [
    "data.stats()"
   ]
  },
  {
   "cell_type": "code",
   "execution_count": null,
   "metadata": {},
   "outputs": [],
   "source": [
    "def five_num_sum(table,column):\n",
    "    nums=[]\n",
    "    array = table.column(column)\n",
    "    nums.append(np.min(array))\n",
    "    nums.append(np.max(array))\n",
    "    nums.append(np.mean(array))\n",
    "    nums.append(np.median(array))\n",
    "    nums.append(np.std(array))\n",
    "    print(f'min: {nums[0]} \\nmax: {nums[1]} \\nmean: {nums[2]:.3f} \\nmedian: {nums[3]:.3f} \\nstd: {nums[4]:.3f}')\n",
    "    return nums"
   ]
  },
  {
   "cell_type": "code",
   "execution_count": null,
   "metadata": {},
   "outputs": [],
   "source": [
    "five_num_sum(data,'RICHNESS')"
   ]
  },
  {
   "cell_type": "markdown",
   "metadata": {
    "editable": true,
    "slideshow": {
     "slide_type": ""
    },
    "tags": []
   },
   "source": [
    "### <font color='green'> ***Question 3***</font>\n",
    "We want to understand how particular plot types evolve following the eruption.  We can look also look at the degree to which certain plot types recover differently based on their location and the type of transformation that occured following the eruption. In question 4 we look within each plot for these changes.\n",
    "- Formulate a hypothesis regarding plant vegetation (*COVER_%*) and biodiversity (*RICHNESS*) following the eruption. You can refer to the above links and papers for ideas. Create a detailed markdown cell to detail this hypothesis.\n",
    "- State the NULL hypothesis for each measure.\n",
    "<br>Use below markdown cells"
   ]
  },
  {
   "cell_type": "markdown",
   "metadata": {},
   "source": [
    "<font color='blue'>***COVER_% Hypothesis***"
   ]
  },
  {
   "cell_type": "markdown",
   "metadata": {},
   "source": []
  },
  {
   "cell_type": "markdown",
   "metadata": {},
   "source": [
    "<font color='blue'>***RICHNESS Hypothesis***"
   ]
  },
  {
   "cell_type": "markdown",
   "metadata": {},
   "source": []
  },
  {
   "cell_type": "markdown",
   "metadata": {},
   "source": [
    "<font color='blue'>***COVER_% NULL Hypothesis***"
   ]
  },
  {
   "cell_type": "markdown",
   "metadata": {},
   "source": []
  },
  {
   "cell_type": "markdown",
   "metadata": {},
   "source": [
    "<font color='blue'>***RICHNESS NULL Hypothesis***"
   ]
  },
  {
   "cell_type": "markdown",
   "metadata": {},
   "source": []
  },
  {
   "cell_type": "markdown",
   "metadata": {
    "editable": true,
    "slideshow": {
     "slide_type": ""
    },
    "tags": []
   },
   "source": [
    "### <font color='green'> ***Question 4***</font>\n",
    "Consider the change in COVER_% between the first year of your data and 15 years after the 1980 volcanic eruption. We will use the multiple data points at each year for each plot to perform a difference of means. Use the paired t-test as in lab 07 to test your hypothesis regarding COVER_%"
   ]
  },
  {
   "cell_type": "markdown",
   "metadata": {},
   "source": [
    "<font color='blue'>Reminder: </font>The `data` Table variable is defined above for myplot1 and then myplot2, keep track of which plot you are examining and clarify with markdown and code for each case. <font color='red'>Each plot covers a different time range so you may need to adjust time range in hypothesis for specific plots."
   ]
  },
  {
   "cell_type": "code",
   "execution_count": null,
   "metadata": {},
   "outputs": [],
   "source": [
    "data['YEAR'].min() # Using example plot"
   ]
  },
  {
   "cell_type": "code",
   "execution_count": null,
   "metadata": {},
   "outputs": [],
   "source": [
    "data['YEAR']"
   ]
  },
  {
   "cell_type": "code",
   "execution_count": null,
   "metadata": {},
   "outputs": [],
   "source": [
    "YEAR1 = 1984\n",
    "YEAR2 = 1995"
   ]
  },
  {
   "cell_type": "code",
   "execution_count": null,
   "metadata": {},
   "outputs": [],
   "source": [
    "np.mean(data.where('YEAR',YEAR2)['COVER_%'])"
   ]
  },
  {
   "cell_type": "code",
   "execution_count": null,
   "metadata": {},
   "outputs": [],
   "source": [
    "np.mean(data.where('YEAR',YEAR1)['COVER_%'])"
   ]
  },
  {
   "cell_type": "code",
   "execution_count": null,
   "metadata": {
    "editable": true,
    "slideshow": {
     "slide_type": ""
    },
    "tags": []
   },
   "outputs": [],
   "source": [
    "diff_means = np.mean(data.where('YEAR',YEAR2)['COVER_%'])-np.mean(data.where('YEAR',YEAR1)['COVER_%'])\n",
    "diff_means"
   ]
  },
  {
   "cell_type": "code",
   "execution_count": null,
   "metadata": {
    "editable": true,
    "slideshow": {
     "slide_type": ""
    },
    "tags": []
   },
   "outputs": [],
   "source": [
    "s1 = np.std(data.where('YEAR',YEAR1)['COVER_%'])\n",
    "s2 = np.std(data.where('YEAR',YEAR2)['COVER_%'])\n",
    "dof = 2 * data.num_rows - 2\n",
    "\n",
    "mean_diff = np.mean(data.where('YEAR',YEAR2)['COVER_%'])-np.mean(data.where('YEAR',YEAR1)['COVER_%'])\n",
    "\n",
    "n = data.num_rows\n",
    "se1 = s1/np.sqrt(n)\n",
    "se2 = s2/np.sqrt(n)\n",
    "std_error =  np.sqrt((se1**2+se2**2)/2)\n",
    "\n",
    "print(f'The mean COVER_% change is: {mean_diff:.2f}')\n",
    "print(f'The standard deviation of the COVER_% differences is: {s:.3f}')\n",
    "print(f'The standard error is: {std_error:.4f}')\n",
    "print(f'The degrees of freedom is: {dof}')"
   ]
  },
  {
   "cell_type": "code",
   "execution_count": null,
   "metadata": {
    "editable": true,
    "slideshow": {
     "slide_type": ""
    },
    "tags": []
   },
   "outputs": [],
   "source": [
    "t = ...\n",
    "print(\"The t value is:\", t)"
   ]
  },
  {
   "cell_type": "markdown",
   "metadata": {
    "editable": true,
    "slideshow": {
     "slide_type": ""
    },
    "tags": []
   },
   "source": [
    "<font color='blue'>***Find the p-value, accept or reject null hypothesis?***</font>\n",
    "You can use either the t-test approach or the simulation approach similar to what you did in Lab 07. Be sure to document your choice and all the steps in new cells below. The p-value is the probability that the observed COVER_% increases are random. So do we accept or reject the null hypothesis? Explain in the cell below the check of the p-value."
   ]
  },
  {
   "cell_type": "code",
   "execution_count": null,
   "metadata": {
    "editable": true,
    "slideshow": {
     "slide_type": ""
    },
    "tags": []
   },
   "outputs": [],
   "source": []
  },
  {
   "cell_type": "markdown",
   "metadata": {},
   "source": [
    "<font color='blue'>**Now repeat the process to consider the change in RICHNESS**</font> between the first year of your data and 15 years after the 1980 volcanic eruption. We will use the multiple data points at each year for each plot to perform a difference of means. Use the paired t-test as in lab 07 to test your hypothesis regarding RICHNESS"
   ]
  },
  {
   "cell_type": "code",
   "execution_count": null,
   "metadata": {},
   "outputs": [],
   "source": []
  },
  {
   "cell_type": "markdown",
   "metadata": {},
   "source": [
    "### <font color='green'> ***Question 5***</font>\n",
    "Now we will look at the degree to which certain plot types recover differently based on their location and the type of transformation that occured following the eruption. We will look at COVER_% for our two selected plots. In this case we  will use the unpaired t-test to test a hypothesis regarding COVER_%. <font color='red'>Each plot covers a different time range so you may need to adjust time range in hypothesis for specific plots."
   ]
  },
  {
   "cell_type": "markdown",
   "metadata": {},
   "source": [
    "<font color='blue'>***COVER_% Hypothesis across my two selected plots***"
   ]
  },
  {
   "cell_type": "markdown",
   "metadata": {},
   "source": []
  },
  {
   "cell_type": "markdown",
   "metadata": {},
   "source": [
    "<font color='blue'>***COVER_% Null Hypothesis across my two selected plots***"
   ]
  },
  {
   "cell_type": "markdown",
   "metadata": {},
   "source": []
  },
  {
   "cell_type": "markdown",
   "metadata": {},
   "source": [
    "### unpaired t-test\n",
    "assumptions, differs from paired test used above and in Lab 07. The main difference is that we are comparing two different groups of plots as compared to the question 4 test which was applied to the same plots undergoing a 'treatment' of time passage following the eruption (paired). \n",
    "\n",
    "* **IF** two samples are independent\n",
    "* and **IF** the samples are random\n",
    "* and **IF** both samples come from populations with a normal distribution\n",
    "* and **IF** both populations have approximately the same standard deviation\n",
    "* and **IF** dependent variable is measured on an incremental level, such as ratios or intervals. \n",
    "* **THEN** we can calculate the following t-statistic\n",
    "\n",
    " $$ \n",
    " t = \\frac{\\bar{x_1} - \\bar{x_2}}{SE} \\tag{1} \n",
    " $$\n",
    "  \n",
    "with is the difference between the means of the two samples divided by average standard error of the mean, or standard error, for short.\n",
    "\n",
    "$$ \n",
    "SE^2 = \\frac{(SE)_1^2 + (SE)_2^2}{2} \\tag{2}\n",
    "$$\n",
    "\n",
    "What is the \"standard error?\" It is sample standard deviation divided by the square root of the number of observations:\n",
    "\n",
    "$$ SE = \\frac{s}{\\sqrt{n}}  \\tag{3} $$\n",
    "\n",
    "Here we need to compute the standard error (eq. 3) for each sample, SE, with a given number of observations, n. Then the overall standard error is computed by combining the two standard errors in equation 2.\n",
    "\n",
    "The degrees of freedome will be $\\nu = n_1 + n_2 - 4$\n"
   ]
  },
  {
   "cell_type": "markdown",
   "metadata": {},
   "source": [
    "<br>**<center>Critical Values of <i>t**\n",
    "    <center>See: [NIST](https://www.itl.nist.gov/div898/handbook/eda/section3/eda3672.htm)\n",
    "\n",
    "|$\\nu$<br>degrees of freedom|95%<br>p = 0.05|99%<br>p = 0.01|\n",
    "|:-:|:--|:--|\n",
    "|2|4.303|9.92|\n",
    "|3|3.18|5.84|\n",
    "|4|2.78|4.60|\n",
    "|5|2.57|4.03|\n",
    "|6|2.45|3.71|\n",
    "|7|2.36|3.50|\n",
    "|8|2.31|3.36|\n",
    "|9|2.26|3.25|\n",
    "|10|2.23|3.17|\n",
    "|15|2.13|2.95|\n",
    "|20|2.09|2.85|\n",
    "|30|2.04|2.75|\n",
    "|$\\infty$|1.96|2.58|\n",
    "\n",
    "\n"
   ]
  },
  {
   "cell_type": "markdown",
   "metadata": {},
   "source": [
    "First we need a measure to compare between plots to meet the above criteria of the unpaired t-test, <i>'dependent variable is measured on an incremental level, such as ratios or intervals.' "
   ]
  },
  {
   "cell_type": "code",
   "execution_count": null,
   "metadata": {},
   "outputs": [],
   "source": [
    "YEAR1 = 1984\n",
    "YEAR2 = 1995"
   ]
  },
  {
   "cell_type": "code",
   "execution_count": null,
   "metadata": {},
   "outputs": [],
   "source": [
    "myplot1 = '...'"
   ]
  },
  {
   "cell_type": "code",
   "execution_count": null,
   "metadata": {},
   "outputs": [],
   "source": [
    "# Select a particular plot name based on examination of mapped data and descriptions in the plot description dataset.\n",
    "PLT = myplot1 # Put the name for study hear, i.e ='STRD'\n",
    "data1 = MSH_YEAR.where('PLOT_NAME',are.contained_in(PLT)).sort('YEAR',descending=False)\n",
    "data1"
   ]
  },
  {
   "cell_type": "code",
   "execution_count": null,
   "metadata": {},
   "outputs": [],
   "source": [
    "growth1 = data1.where('YEAR',YEAR1)['COVER_%']/data1.where('YEAR',YEAR2)['COVER_%']\n",
    "growth1"
   ]
  },
  {
   "cell_type": "code",
   "execution_count": null,
   "metadata": {},
   "outputs": [],
   "source": [
    "s1 = np.std(growth1)"
   ]
  },
  {
   "cell_type": "code",
   "execution_count": null,
   "metadata": {},
   "outputs": [],
   "source": [
    "myplot2 = '...'"
   ]
  },
  {
   "cell_type": "code",
   "execution_count": null,
   "metadata": {},
   "outputs": [],
   "source": [
    "# Select a particular plot name based on examination of mapped data and descriptions in the plot description dataset.\n",
    "PLT = myplot2 # Put the name for study hear, i.e ='STRD'\n",
    "data2 = MSH_YEAR.where('PLOT_NAME',are.contained_in(PLT)).sort('YEAR',descending=False)\n",
    "data2.sort('YEAR')"
   ]
  },
  {
   "cell_type": "code",
   "execution_count": null,
   "metadata": {},
   "outputs": [],
   "source": [
    "growth2 = ...\n",
    "growth2"
   ]
  },
  {
   "cell_type": "code",
   "execution_count": null,
   "metadata": {},
   "outputs": [],
   "source": [
    "s2 = np.std(growth2)"
   ]
  },
  {
   "cell_type": "code",
   "execution_count": null,
   "metadata": {},
   "outputs": [],
   "source": [
    "diffmean = np.mean(...) - np.mean(...)"
   ]
  },
  {
   "cell_type": "code",
   "execution_count": null,
   "metadata": {},
   "outputs": [],
   "source": [
    "s =\n",
    "n =\n",
    "SE = "
   ]
  },
  {
   "cell_type": "code",
   "execution_count": null,
   "metadata": {},
   "outputs": [],
   "source": [
    "t = ...\n",
    "print(\"The t value is:\", t)"
   ]
  },
  {
   "cell_type": "code",
   "execution_count": null,
   "metadata": {},
   "outputs": [],
   "source": [
    "p = ..."
   ]
  },
  {
   "cell_type": "markdown",
   "metadata": {},
   "source": [
    "<font color='blue'>***Outcome of Hypothesis Test and conclusion about selected plots...***"
   ]
  },
  {
   "cell_type": "markdown",
   "metadata": {},
   "source": []
  },
  {
   "cell_type": "markdown",
   "metadata": {
    "editable": true,
    "slideshow": {
     "slide_type": ""
    },
    "tags": []
   },
   "source": [
    "## Part 2: Testing a trend"
   ]
  },
  {
   "cell_type": "markdown",
   "metadata": {
    "editable": true,
    "slideshow": {
     "slide_type": ""
    },
    "tags": []
   },
   "source": [
    "### <font color='green'> ***Question 6***</font>\n",
    "Now we will look at the time trend of COVER_% and RICHNESS using the `changes` function you developed and used  in Part 2 of Lab 07. With `changes` we are looking at the number of increases minus decreases over the time period."
   ]
  },
  {
   "cell_type": "markdown",
   "metadata": {},
   "source": [
    "`changes` function:"
   ]
  },
  {
   "cell_type": "code",
   "execution_count": null,
   "metadata": {},
   "outputs": [],
   "source": [
    "def diff_n(values, n):\n",
    "    '''\n",
    "    Parameters:\n",
    "    values is an array of numbers\n",
    "    n is the offset (how far apart the numbers are in the array)\n",
    "    '''\n",
    "    return np.array(values)[n:] - np.array(values)[:-n]"
   ]
  },
  {
   "cell_type": "code",
   "execution_count": null,
   "metadata": {
    "editable": true,
    "slideshow": {
     "slide_type": ""
    },
    "tags": []
   },
   "outputs": [],
   "source": [
    "def changes(array, years = 1):\n",
    "    \"Return the number of increases minus the number of decreases\"\n",
    "    ..."
   ]
  },
  {
   "cell_type": "code",
   "execution_count": null,
   "metadata": {},
   "outputs": [],
   "source": [
    "test_stat = ...\n",
    "print('Total increases minus total decreases, across all years:', test_stat)"
   ]
  },
  {
   "cell_type": "markdown",
   "metadata": {},
   "source": [
    "### <font color='green'> ***Question 7***</font>\n",
    "Carry out 1000 simulations. Statistically test whether data supports the alternate hypothesis\n",
    "    1. Compute a P-value. (Hint: you can use np.count_nonzero())\n",
    "    2. Using a 5% P-value cutoff, draw a conclusion about the null and alternative hypotheses.\n",
    "    3. Describe your findings using simple, non-technical language."
   ]
  },
  {
   "cell_type": "markdown",
   "metadata": {},
   "source": [
    "### <font color='green'> ***Question 8: Conclusions***</font>\n",
    "Summarize your conclusions from your study of two plots. Contrast the features of the two plots and how they might lead to different or similar conclusions in the magnitude and significance of the studied quantities, COVER_% or RICHNESS. Use a markdown Table to summarize part of your conclusions. A markdown table uses `|` to divide headings and `|---|` to draw lines between rows. Below you will find an example of a started table, replace these entries with your results. There should be one row for each of the two tests."
   ]
  },
  {
   "cell_type": "markdown",
   "metadata": {},
   "source": []
  },
  {
   "cell_type": "markdown",
   "metadata": {},
   "source": [
    "|Plot Name|Hypothesis|p-value|conclusion|\n",
    "|---|---|---|---|\n",
    "|myplot1| COVER_% increases after eruption| p-value = 0.001, simulation, p-value = 0.000|reject Null hypothesis|"
   ]
  },
  {
   "cell_type": "markdown",
   "metadata": {},
   "source": [
    "### <font color='green'> ***Question 9***</font>\n",
    "- What techniques did you use from Lab 07?\n",
    "- What part was the most challenging?\n",
    "- How long did you spend on the lab?\n",
    "- What did you learn from this 2nd mini-project?"
   ]
  },
  {
   "cell_type": "markdown",
   "metadata": {},
   "source": []
  },
  {
   "cell_type": "code",
   "execution_count": null,
   "metadata": {
    "editable": true,
    "slideshow": {
     "slide_type": ""
    },
    "tags": []
   },
   "outputs": [],
   "source": [
    "# Last cell to execute\n",
    "import datetime\n",
    "now = datetime.datetime.now()\n",
    "now = now.strftime('%H:%M:%S on %A, %B the %dth, %Y')\n",
    "print(\" Submitted by \", name, user, \" at \", now )"
   ]
  }
 ],
 "metadata": {
  "kernelspec": {
   "display_name": "Python 3 (ipykernel)",
   "language": "python",
   "name": "python3"
  },
  "language_info": {
   "codemirror_mode": {
    "name": "ipython",
    "version": 3
   },
   "file_extension": ".py",
   "mimetype": "text/x-python",
   "name": "python",
   "nbconvert_exporter": "python",
   "pygments_lexer": "ipython3",
   "version": "3.9.12"
  }
 },
 "nbformat": 4,
 "nbformat_minor": 4
}
