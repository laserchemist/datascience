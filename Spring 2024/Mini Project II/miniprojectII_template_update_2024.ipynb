{
 "cells": [
  {
   "cell_type": "markdown",
   "metadata": {},
   "source": [
    "# mini-project II: Mount Saint Helens' biodiversity after the ashes\n",
    "Elements of Data Science"
   ]
  },
  {
   "cell_type": "code",
   "execution_count": null,
   "metadata": {},
   "outputs": [],
   "source": [
    "# Enter your name as a string\n",
    "name = ..."
   ]
  },
  {
   "cell_type": "code",
   "execution_count": 52,
   "metadata": {},
   "outputs": [],
   "source": [
    "import numpy as np\n",
    "from datascience import *\n",
    "%matplotlib inline\n",
    "import matplotlib.pyplot as plt\n",
    "plt.style.use('ggplot')"
   ]
  },
  {
   "cell_type": "markdown",
   "metadata": {},
   "source": [
    "### Mount Saint Helens Eruption  8:32 A.M. on May 18, 1980\n",
    "We will explore data on ecosystem recovery following the volcanic eruption at Mount Saint Helens in Washington State.<br>\n",
    "<img src='data/Eruption.jpg'><br><img src='data/800px-1980_St._Helens_ashmap.png'>"
   ]
  },
  {
   "cell_type": "markdown",
   "metadata": {},
   "source": [
    "### <font color='green'>Data Sets\n",
    "<font color='red'>**Mount Saint Helens erupted at 8:32 A.M. on May 18, 1980.** </font>\n",
    "<br>\n",
    "Professor Roger del Morales at University of Washington https://faculty.washington.edu/moral/ and his team set up circular, 9 meter radius, land plots near the volcano once it was safe to initiate the study in 1984. These plots are located in several distinct regions near the volcano cone to study the return of vegetation and biodiversity to these plots located in different positions relative to the volcanic cone (see mapping below). We will use this data to assess the rate of plant succession. Measures in the data include yearly species richness, *RICHNESS*, defined as the number of species in a given region or in this case the 9 meter radius (250 m^2) land plot. We will use our data science tools to decide if the changes over time in *RICHNESS* are a pattern (Alternate hypothesis) or if they are just due to random fluctuations (NULL hypothesis). We will also study *COVER_%*, a measure that reflects plant coverage. In this case we will test whether growth has occured following the eruption. Plots are studied in 13 unique locations with different characteristics including the blast type which they experienced. In designing their study, the researchers also collected data in up to 10 adjacent plots with the same name in order to assess statistical variation across an area. \n",
    "\n",
    "**Our Overall Study Plan**\n",
    "1. Select two distinct plot names with contrasting characteristics\n",
    "2. Look at plant succcesion 10 years after the blast relative to first year of data available for a given plot. Here we use a paired t-test.\n",
    "3. Examine time trend for plant succession using changes function developed in Lab 07.\n",
    "\n",
    "**Data collected:**\n",
    "1. del Moral, Roger (2016): Thirty years of permanent vegetation plots, Mount St. Helens, Washington, USA. Wiley. Collection. https://doi.org/10.6084/m9.figshare.c.3303093.v1 \n",
    "Source: https://figshare.com/collections/Thirty_years_of_permanent_vegetation_plots_Mount_St_Helens_Washington_USA/3303093\n",
    "\n",
    "**Papers using this data:**\n",
    "1. Del Moral, R.; Magnússon, B., \"Surtsey and Mount St. Helens: a comparison of early succession rates\". Biogeosciences 2014, 11 (7), 2099-2111.\n",
    "https://faculty.washington.edu/moral/publications/2014%20delMoral%20Magnusson.pdf\n",
    "\n",
    "2.  Cook, James E.; Halpern, Charles B., \"Vegetation changes in blown-down and scorched forests 10–26 years after the eruption of Mount St. Helens, Washington, USA\". Plant Ecology 2018, 219 (8), 957-972.\n",
    "https://link.springer.com/content/pdf/10.1007/s11258-018-0849-8.pdf\n",
    "\n"
   ]
  },
  {
   "cell_type": "markdown",
   "metadata": {},
   "source": [
    "### <font color='green'>Video background"
   ]
  },
  {
   "cell_type": "code",
   "execution_count": 51,
   "metadata": {
    "editable": true,
    "slideshow": {
     "slide_type": ""
    },
    "tags": []
   },
   "outputs": [
    {
     "data": {
      "image/jpeg": "[encoded data removed]",
      "text/html": [
       "\n",
       "        <iframe\n",
       "            width=\"400\"\n",
       "            height=\"300\"\n",
       "            src=\"https://www.youtube.com/embed/UK--hvgP2uY\"\n",
       "            frameborder=\"0\"\n",
       "            allowfullscreen\n",
       "            \n",
       "        ></iframe>\n",
       "        "
      ],
      "text/plain": [
       "<IPython.lib.display.YouTubeVideo at 0x1580b9eb0>"
      ]
     },
     "execution_count": 51,
     "metadata": {},
     "output_type": "execute_result"
    }
   ],
   "source": [
    "from IPython.display import YouTubeVideo\n",
    "YouTubeVideo(\"UK--hvgP2uY\")\n",
    "# https://youtu.be/UK--hvgP2uY"
   ]
  },
  {
   "cell_type": "markdown",
   "metadata": {
    "editable": true,
    "slideshow": {
     "slide_type": ""
    },
    "tags": []
   },
   "source": [
    "### <font color='green'> ***Question 1***</font>\n",
    "We will first explore the different study plots where data was collected. They are located in different environments, elevations, and locations relative to the volcano cone. Create initial data tables and plots to explore the nature of the different plots included in \"data/MSH_PLOT_DESCRIPTORS2.csv\". Variables to consider include elevation, slope, aspect (direction), impact type. You could use group or pivot methods here."
   ]
  },
  {
   "cell_type": "code",
   "execution_count": null,
   "metadata": {},
   "outputs": [],
   "source": [
    "# Plot description dataset\n",
    "datafile = \"data/MSH_PLOT_DESCRIPTORS2.csv\"\n",
    "MSH_PLOT = Table.read_table(datafile)\n",
    "MSH_PLOT"
   ]
  },
  {
   "cell_type": "markdown",
   "metadata": {},
   "source": [
    "#### Plot Impact Type"
   ]
  },
  {
   "cell_type": "code",
   "execution_count": null,
   "metadata": {},
   "outputs": [],
   "source": [
    "np.unique(MSH_PLOT['IMPACT_TYPE'])"
   ]
  },
  {
   "cell_type": "markdown",
   "metadata": {},
   "source": [
    "#### Mapping Biodiversity Data Collected following Mount Saint Helens Eruption\n",
    "Data is collected anually on developing biodiversity on defined plots of land with given latitude and longitude. These locations can be mapped using the *map_table* method of a table object.  Plots are studied in 13 unique locations relative to the volcanic cone with different characteristics including the blast type which they experienced. Zoom in on map, click on each circle to view the label for the data series. There are replicate plots within each plot name in order assess statistical variation."
   ]
  },
  {
   "cell_type": "code",
   "execution_count": null,
   "metadata": {
    "scrolled": true
   },
   "outputs": [],
   "source": [
    "MSH_PLOT = MSH_PLOT.with_columns('NLONG',-1*(MSH_PLOT.column('LONG')))\n",
    "MSH_map = MSH_PLOT.select('LAT', 'NLONG', 'PLOT_CODE').relabel('PLOT_CODE', 'labels')\n",
    "Circle.map_table(MSH_map, color='blue',area=200)"
   ]
  },
  {
   "cell_type": "markdown",
   "metadata": {
    "editable": true,
    "slideshow": {
     "slide_type": ""
    },
    "tags": []
   },
   "source": [
    "### <font color='green'> ***Question 2***</font>\n",
    "Identify two plots with unique `PLOT_NAME`'s to study based on mapped location and characteristics given in \"data/MSH_PLOT_DESCRIPTORS2.csv\" file. Use a detailed markdown cell to provide reasons for your two choices of plots. Include differences and similarities."
   ]
  },
  {
   "cell_type": "code",
   "execution_count": null,
   "metadata": {
    "editable": true,
    "slideshow": {
     "slide_type": ""
    },
    "tags": []
   },
   "outputs": [],
   "source": [
    "# Plot vegatation trend yearly dataset\n",
    "datafile = \"data/MSH_STRUCTURE_PLOT_YEAR.csv\"\n",
    "MSH_YEAR = Table.read_table(datafile)\n",
    "MSH_YEAR"
   ]
  },
  {
   "cell_type": "markdown",
   "metadata": {},
   "source": [
    "**Unique plot names**"
   ]
  },
  {
   "cell_type": "code",
   "execution_count": null,
   "metadata": {},
   "outputs": [],
   "source": [
    "np.unique(MSH_YEAR.column('PLOT_NAME')) #Return unique plot names"
   ]
  },
  {
   "cell_type": "code",
   "execution_count": null,
   "metadata": {},
   "outputs": [],
   "source": [
    "np.unique(MSH_YEAR.column('YEAR')) #Return unique plot years"
   ]
  },
  {
   "cell_type": "markdown",
   "metadata": {},
   "source": [
    "**Select Plots**\n",
    "Example exploratory data analysis below. Select from unique plot names above with complete justification for choice."
   ]
  },
  {
   "cell_type": "code",
   "execution_count": null,
   "metadata": {},
   "outputs": [],
   "source": [
    "myplot1 = '...'"
   ]
  },
  {
   "cell_type": "code",
   "execution_count": null,
   "metadata": {},
   "outputs": [],
   "source": [
    "# Select a particular plot name based on examination of mapped data and descriptions in the plot description dataset.\n",
    "PLT = 'STRD' # Put the name for study hear, i.e ='STRD'\n",
    "data = MSH_YEAR.where('PLOT_NAME',are.contained_in(PLT)).sort('YEAR',descending=False)\n",
    "data"
   ]
  },
  {
   "cell_type": "code",
   "execution_count": null,
   "metadata": {},
   "outputs": [],
   "source": [
    "data.scatter('YEAR','RICHNESS')"
   ]
  },
  {
   "cell_type": "markdown",
   "metadata": {},
   "source": [
    "Group and average to get better view of time trend."
   ]
  },
  {
   "cell_type": "code",
   "execution_count": null,
   "metadata": {},
   "outputs": [],
   "source": [
    "data.group('YEAR', np.mean).plot('YEAR','RICHNESS mean')"
   ]
  },
  {
   "cell_type": "code",
   "execution_count": null,
   "metadata": {},
   "outputs": [],
   "source": [
    "data.stats()"
   ]
  },
  {
   "cell_type": "code",
   "execution_count": null,
   "metadata": {},
   "outputs": [],
   "source": [
    "def five_num_sum(table,column):\n",
    "    nums=[]\n",
    "    array = table.column(column)\n",
    "    nums.append(np.min(array))\n",
    "    nums.append(np.max(array))\n",
    "    nums.append(np.mean(array))\n",
    "    nums.append(np.median(array))\n",
    "    nums.append(np.std(array))\n",
    "    print(f'min: {nums[0]} \\nmax: {nums[1]} \\nmean: {nums[2]:.3f} \\nmedian: {nums[3]:.3f} \\nstd: {nums[4]:.3f}')\n",
    "    return nums"
   ]
  },
  {
   "cell_type": "code",
   "execution_count": null,
   "metadata": {},
   "outputs": [],
   "source": [
    "five_num_sum(data,'RICHNESS')"
   ]
  },
  {
   "cell_type": "markdown",
   "metadata": {
    "editable": true,
    "slideshow": {
     "slide_type": ""
    },
    "tags": []
   },
   "source": [
    "### <font color='green'> ***Question 3***</font>\n",
    "- Formulate a hypothesis regarding plant vegetation (*COVER_%*) and variety (*RICHNESS*) following the eruption. You can refer to the above links and papers for ideas. Create a detailed markdown cell to detail this hypothesis.\n",
    "- State the NULL hypothesis for each measure.\n",
    "<br>Use below markdown cells"
   ]
  },
  {
   "cell_type": "markdown",
   "metadata": {},
   "source": [
    "<font color='blue'>***COVER_% Hypothesis with support***"
   ]
  },
  {
   "cell_type": "markdown",
   "metadata": {},
   "source": []
  },
  {
   "cell_type": "markdown",
   "metadata": {},
   "source": [
    "<font color='blue'>***RICHNESS Hypothesis with support***"
   ]
  },
  {
   "cell_type": "markdown",
   "metadata": {},
   "source": []
  },
  {
   "cell_type": "markdown",
   "metadata": {},
   "source": [
    "<font color='blue'>***COVER_% NULL Hypothesis***"
   ]
  },
  {
   "cell_type": "markdown",
   "metadata": {},
   "source": []
  },
  {
   "cell_type": "markdown",
   "metadata": {},
   "source": [
    "<font color='blue'>***RICHNESS NULL Hypothesis***"
   ]
  },
  {
   "cell_type": "markdown",
   "metadata": {},
   "source": []
  },
  {
   "cell_type": "markdown",
   "metadata": {
    "editable": true,
    "slideshow": {
     "slide_type": ""
    },
    "tags": []
   },
   "source": [
    "### <font color='green'> ***Question 4***</font>\n",
    "Consider the change in COVER_% between the first year of your data and 15 years after the 1980 volcanic eruption. We will use the multiple data points at each year for each plot to perform a difference of means. Use the paired t-test as in lab 07 to test your hypothesis regarding COVER_%"
   ]
  },
  {
   "cell_type": "code",
   "execution_count": null,
   "metadata": {},
   "outputs": [],
   "source": [
    "data['YEAR'].min() # Using example plot"
   ]
  },
  {
   "cell_type": "code",
   "execution_count": null,
   "metadata": {},
   "outputs": [],
   "source": [
    "np.mean(data.where('YEAR',1995)['COVER_%'])"
   ]
  },
  {
   "cell_type": "code",
   "execution_count": null,
   "metadata": {},
   "outputs": [],
   "source": [
    "np.mean(data.where('YEAR',1984)['COVER_%'])"
   ]
  },
  {
   "cell_type": "code",
   "execution_count": null,
   "metadata": {
    "editable": true,
    "slideshow": {
     "slide_type": ""
    },
    "tags": []
   },
   "outputs": [],
   "source": [
    "diff_means = np.mean(data.where('YEAR',1995)['COVER_%'])-np.mean(data.where('YEAR',1984)['COVER_%'])\n",
    "diff_means"
   ]
  },
  {
   "cell_type": "code",
   "execution_count": null,
   "metadata": {
    "editable": true,
    "slideshow": {
     "slide_type": ""
    },
    "tags": []
   },
   "outputs": [],
   "source": [
    "s1 = np.std(data.where('YEAR',1984)['COVER_%'])\n",
    "s2 = np.std(data.where('YEAR',1995)['COVER_%'])\n",
    "s = np.sqrt((s1**2 + s2**2) / 2)\n",
    "dof = 2 * data.num_rows - 2\n",
    "\n",
    "mean_diff = np.mean(data.where('YEAR',1995)['COVER_%'])-np.mean(data.where('YEAR',1984)['COVER_%'])\n",
    "\n",
    "n = data.num_rows\n",
    "se1 = s1/np.sqrt(n)\n",
    "se2 = s2/np.sqrt(n)\n",
    "std_error =  np.sqrt((se1**2+se2**2)/2)\n",
    "\n",
    "print(f'The mean temperature change is: {mean_diff:.2f}')\n",
    "print(f'The standard deviation of the temperature differences is: {s:.3f}')\n",
    "print(f'The standard error is: {std_error:.4f}')\n",
    "print(f'The degrees of freedom is: {dof}')"
   ]
  },
  {
   "cell_type": "code",
   "execution_count": null,
   "metadata": {
    "editable": true,
    "slideshow": {
     "slide_type": ""
    },
    "tags": []
   },
   "outputs": [],
   "source": [
    "t = ...\n",
    "print(\"The t value is:\", t)"
   ]
  },
  {
   "cell_type": "markdown",
   "metadata": {
    "editable": true,
    "slideshow": {
     "slide_type": ""
    },
    "tags": []
   },
   "source": [
    "<font color='blue'>***Find the p-value, accept or reject null hypothesis?***</font>\n",
    "The p-value is the probability that the observed temperature increases are random. So do we accept or reject the null hypothesis? Explain in the cell below the check of the p-value."
   ]
  },
  {
   "cell_type": "code",
   "execution_count": null,
   "metadata": {
    "editable": true,
    "slideshow": {
     "slide_type": ""
    },
    "tags": []
   },
   "outputs": [],
   "source": []
  },
  {
   "cell_type": "markdown",
   "metadata": {
    "editable": true,
    "slideshow": {
     "slide_type": ""
    },
    "tags": []
   },
   "source": [
    "## Part 2: Testing a trend"
   ]
  },
  {
   "cell_type": "markdown",
   "metadata": {
    "editable": true,
    "slideshow": {
     "slide_type": ""
    },
    "tags": []
   },
   "source": [
    "### <font color='green'> ***Question 5***</font>\n",
    "Now we will look at the time trend of COVER_% and RICHNESS using the `changes` function you developed and used  in Part 2 of Lab 07. With `changes` we are looking at the number of increases minus decreases over the time period."
   ]
  },
  {
   "cell_type": "markdown",
   "metadata": {},
   "source": [
    "`changes` function:"
   ]
  },
  {
   "cell_type": "code",
   "execution_count": null,
   "metadata": {},
   "outputs": [],
   "source": [
    "def diff_n(values, n):\n",
    "    '''\n",
    "    Parameters:\n",
    "    values is an array of numbers\n",
    "    n is the offset (how far apart the numbers are in the array)\n",
    "    '''\n",
    "    return np.array(values)[n:] - np.array(values)[:-n]"
   ]
  },
  {
   "cell_type": "code",
   "execution_count": null,
   "metadata": {
    "editable": true,
    "slideshow": {
     "slide_type": ""
    },
    "tags": []
   },
   "outputs": [],
   "source": [
    "def changes(array, years = 1):\n",
    "    \"Return the number of increases minus the number of decreases\"\n",
    "    ..."
   ]
  },
  {
   "cell_type": "code",
   "execution_count": null,
   "metadata": {},
   "outputs": [],
   "source": [
    "test_stat = ...\n",
    "print('Total increases minus total decreases, across all years:', test_stat)"
   ]
  },
  {
   "cell_type": "markdown",
   "metadata": {},
   "source": [
    "### <font color='green'> ***Question 6***</font>\n",
    "Carry out 1000 simulations. Statistically test whether data supports the alternate hypothesis\n",
    "    1. Compute a P-value. (Hint: you can use np.count_nonzero())\n",
    "    2. Using a 5% P-value cutoff, draw a conclusion about the null and alternative hypotheses.\n",
    "    3. Describe your findings using simple, non-technical language."
   ]
  },
  {
   "cell_type": "markdown",
   "metadata": {},
   "source": [
    "### <font color='green'> ***Question 7: Conclusions***</font>\n",
    "Summarize your conclusions from your study of two plots. Contrast the features of the two plots and how they might lead to different or similar conclusions in the magnitude and significance of the studied quantities, COVER_% or RICHNESS. Use a markdown Table to summarize part of your conclusions. A markdown table uses `|` to divide headings and `|---|` to draw lines between rows."
   ]
  },
  {
   "cell_type": "markdown",
   "metadata": {},
   "source": []
  },
  {
   "cell_type": "markdown",
   "metadata": {},
   "source": [
    "|Plot|Hypothesis|Support|\n",
    "|---|---|---|"
   ]
  },
  {
   "cell_type": "markdown",
   "metadata": {},
   "source": [
    "### <font color='green'> ***Question 8***</font>\n",
    "- What techniques did you use from Lab 07?\n",
    "- What part was the msot challenging?\n",
    "- How long did you spend on the lab?\n",
    "- What did you learn from this 2nd mini-project?"
   ]
  },
  {
   "cell_type": "markdown",
   "metadata": {},
   "source": []
  },
  {
   "cell_type": "code",
   "execution_count": null,
   "metadata": {
    "editable": true,
    "slideshow": {
     "slide_type": ""
    },
    "tags": []
   },
   "outputs": [],
   "source": [
    "# Last cell to execute\n",
    "import datetime\n",
    "now = datetime.datetime.now()\n",
    "now = now.strftime('%H:%M:%S on %A, %B the %dth, %Y')\n",
    "print(\" Submitted by \", name, \" at \", now )"
   ]
  }
 ],
 "metadata": {
  "kernelspec": {
   "display_name": "Python 3 (ipykernel)",
   "language": "python",
   "name": "python3"
  },
  "language_info": {
   "codemirror_mode": {
    "name": "ipython",
    "version": 3
   },
   "file_extension": ".py",
   "mimetype": "text/x-python",
   "name": "python",
   "nbconvert_exporter": "python",
   "pygments_lexer": "ipython3",
   "version": "3.9.12"
  }
 },
 "nbformat": 4,
 "nbformat_minor": 4
}
