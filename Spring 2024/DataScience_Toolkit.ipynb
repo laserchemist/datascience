{
 "cells": [
  {
   "cell_type": "markdown",
   "id": "669cfeb7-d672-4b8c-8e3e-ba15dd6dc83a",
   "metadata": {},
   "source": [
    "## Elements of Data Science for the Life and Physical Sciences\n",
    "<font color='red'>Data Science Toolkit\n",
    "### Spring 2024"
   ]
  },
  {
   "cell_type": "markdown",
   "id": "ea6a1f25-afab-43ba-b3a5-cf7cc6a196b7",
   "metadata": {},
   "source": [
    "<img src=\"Temple_flag_morn.png\" alt=\"Temple Powered\" style=\"width: 200px;\"/>"
   ]
  },
  {
   "cell_type": "markdown",
   "id": "a73c3d7b-4a3a-4a51-814b-0dad926b1cb7",
   "metadata": {},
   "source": [
    "## Resources\n",
    "- [Inferential Thinking Online Text](https://inferentialthinking.com/chapters/intro.html)\n",
    "- [Datascience Table Reference](http://data8.org/datascience/index.html)\n",
    "- [Data Science Primer BETA](https://laserchemist.github.io/dprimer/intro.html)\n",
    "- [EDS Course Website and Resources](https://sites.temple.edu/data/)\n",
    "\n",
    "## Topical Areas\t\t\n",
    "### Difference of Means and Hypothesis Testing\t\n",
    "\n",
    "-\tHypothesis Testing (Sampling, Simulation)\t\n",
    "- Lab 06 [Link](https://temple.2i2c.cloud/hub/user-redirect/lab/tree/datascience/Spring%202024/Lab06/lab06_simulation-update-2024.ipynb)\n",
    "\n",
    "- Normal Distribution (Mean, Standard Deviation)\t\n",
    "- Lab 08 (Variance of Sample Means and Correlation): [Old Faithful Eruption Data](https://temple.2i2c.cloud/hub/user-redirect/lab/tree/datascience/Spring%202024/Lab08/lab8_Variation%26Correlation.ipynb)\n",
    "\n",
    "\n",
    "### Correlation and Regression\t\n",
    "\n",
    "-\tRegression & Regression Inference\t\n",
    "  - Lab 09 (Regression): [Estimation of the Age of the Universe](https://temple.2i2c.cloud/hub/user-redirect/lab/tree/datascience/Spring%202024/Lab09/lab09-AgeUniverse-Update-2024.ipynb)\n",
    "\n",
    "### Nearest Neighbors Machine Learning\t\n",
    "\n",
    "- Classifiers and Classification\t\n",
    "- Lab 10 (Machine Learning, Classification, & Chemistry): Flower species classification and Molecular Acidity Prediction [link](https://temple.2i2c.cloud/hub/user-redirect/lab/tree/datascience/Spring%202024/Lab10/Machine%20Learning%20and%20Chemistry-update-2024.ipynb)\n",
    "- Nearest neighbors [Chronic Kidney Disease classification example](https://temple.2i2c.cloud/hub/user-redirect/lab/tree/datascience/Spring%202024/Class_Examples/Class024_knn%20kidney%20disease.ipynb)\n",
    "\n"
   ]
  },
  {
   "cell_type": "code",
   "execution_count": null,
   "id": "398bc91f-70b3-4f51-b956-d40eb2c07371",
   "metadata": {},
   "outputs": [],
   "source": []
  }
 ],
 "metadata": {
  "kernelspec": {
   "display_name": "Python 3 (ipykernel)",
   "language": "python",
   "name": "python3"
  },
  "language_info": {
   "codemirror_mode": {
    "name": "ipython",
    "version": 3
   },
   "file_extension": ".py",
   "mimetype": "text/x-python",
   "name": "python",
   "nbconvert_exporter": "python",
   "pygments_lexer": "ipython3",
   "version": "3.9.19"
  }
 },
 "nbformat": 4,
 "nbformat_minor": 5
}
