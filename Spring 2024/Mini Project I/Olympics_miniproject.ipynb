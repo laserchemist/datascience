{
 "cells": [
  {
   "cell_type": "markdown",
   "id": "57267dbe-29a4-4afd-8deb-dc8fca11d2a3",
   "metadata": {},
   "source": [
    "# Mini Project I"
   ]
  },
  {
   "cell_type": "markdown",
   "id": "13427c65-e245-4735-a230-c05d178843ad",
   "metadata": {},
   "source": [
    "A mini-project is where you will begin to develop code and analysis to explore a data set and address questions. The format differs from a weekly lab in that you will develop your own notebook below.  **There will be no automatic test of your answers.** As a budding data scientist you need to develop the habit of checking your own work.\n",
    "\n",
    "You will create all the notebook code and **use extensive markdown to document** the process and your observations. This can be challenging at first but it is the way to trully understand the code development process and build confidence using code to analysis data.\n"
   ]
  },
  {
   "cell_type": "markdown",
   "id": "df2b5b2d-4c07-4730-bd6f-39d78815bba8",
   "metadata": {},
   "source": [
    "# Olympics Data mini-project\n",
    "## Overview\n",
    "In celebration of the Olympic spirit we will analyze trends in a data set which spans the from the 1896 Athens games to Rio in 2016. With this data we will explore trends in medals awarded, sports, and countries, as well as any host country advantage. The dataset is from Kaggle (https://www.kaggle.com ), a data science dataset, coding, and competition site. The mini-project represents your first chance to try out your coding and data skills to address specific questions without template code. Look to your previous labs and our work in class for ideas.\n",
    "\n",
    "(Data source:\n",
    "[Kaggle dataset](https://www.kaggle.com/heesoo37/120-years-of-olympic-history-athletes-and-results))\n",
    "\n",
    "Background Resources:\n",
    "- Data Tables (Inferential Thinking 6.1-6.4) \n",
    "- Visualization (Inferential Thinking 7.1, 7.2)\n",
    "- Cross-classifying (Inferential Thinking 8.3)"
   ]
  },
  {
   "cell_type": "markdown",
   "id": "4bdcd8c7-0092-4493-9bd5-f74b57436cfa",
   "metadata": {},
   "source": [
    "### Initialization"
   ]
  },
  {
   "cell_type": "code",
   "execution_count": null,
   "id": "0669759c-539d-418e-9b4a-bb4308f6f47f",
   "metadata": {},
   "outputs": [],
   "source": [
    "# Enter your name as a string\n",
    "name = ..."
   ]
  },
  {
   "cell_type": "code",
   "execution_count": null,
   "id": "742e0e08-c659-4fc2-b690-2a7a21c57206",
   "metadata": {},
   "outputs": [],
   "source": [
    "# Extra Python functionality to import\n",
    "from datascience import *  # datascience Table \n",
    "import EDS\n",
    "import numpy as np\n",
    "import pandas as pd\n",
    "%matplotlib inline\n",
    "import matplotlib.pyplot as plt\n",
    "plt.style.use('ggplot')\n",
    "import os\n",
    "user = os.getenv('JUPYTERHUB_USER')"
   ]
  },
  {
   "cell_type": "markdown",
   "id": "1d8d5c53-41ba-459a-8e85-cb9e3499fdb7",
   "metadata": {},
   "source": [
    "### Data Set\n",
    "Athletes: Olympic_Data/athlete_events.csv\n",
    "Source: Kaggle https://www.kaggle.com/heesoo37/120-years-of-olympic-history-athletes-and-results\n",
    "#### Data Fields\n",
    "1. ID - Unique number for each athlete\n",
    "2. Name - Athlete's name\n",
    "3. Sex-MorF\n",
    "4. Age - Integer\n",
    "5. Height - In centimeters\n",
    "6. Weight - In kilograms\n",
    "7. Team - Team name\n",
    "8. NOC - National Olympic Committee 3-letter code\n",
    "9. Games - Year and season\n",
    "10. Year - Integer\n",
    "11. Season - Summer or Winter\n",
    "12. City - Host city\n",
    "13. Sport - Sport\n",
    "14. Event - Event\n",
    "15. Medal - Gold, Silver, Bronze, or nan"
   ]
  },
  {
   "cell_type": "markdown",
   "id": "95887195-f96a-4580-ab61-6c2861c9f0f2",
   "metadata": {},
   "source": [
    "We will limit our project to data from the Winter Olympics by using the where method [.where(\"Season\",\"Winter\") ] which leaves us with 18,923 individual athletes and 48,564 athlete/event datapoints (Many athletes compete in multiple events and/or over multiple Olympics).  "
   ]
  },
  {
   "cell_type": "code",
   "execution_count": null,
   "id": "51ec1d19-eac2-4cf7-979a-f2088537248d",
   "metadata": {},
   "outputs": [],
   "source": [
    "datafile = \"Olympic_Data/winter_athletes.csv\"\n",
    "athletes = Table.read_table(datafile).sort(\"Year\",descending=True).where(\"Season\",\"Winter\")\n",
    "athletes"
   ]
  },
  {
   "cell_type": "markdown",
   "id": "eccd67c7-7a4d-4ac3-9347-2905a9717c65",
   "metadata": {},
   "source": [
    "#### Considerations\n",
    "- Each observation is an athletes performance in a particular event for a particular year.\n",
    "- `.group()` is a very useful Table method to group by Team, Year, Age, etc.\n",
    "- Athletes can perform in multiple events and over multiple years\n",
    "- `athletes.group(\"Name\", np.unique)` Can provide unique athlete names and combine their efforts in a list. This can be a challenge for analysis of specific performances but givene a good count of total athletes, `athletes.group(\"Name\", np.unique).num_rows`"
   ]
  },
  {
   "cell_type": "code",
   "execution_count": null,
   "id": "d5c54863-bb8c-4c01-9f6d-5bc25a9542b1",
   "metadata": {
    "tags": []
   },
   "outputs": [],
   "source": [
    "athletes.group(\"Name\", np.unique).num_rows"
   ]
  },
  {
   "cell_type": "code",
   "execution_count": null,
   "id": "c5e43080-63bb-4f90-a12c-0263cb0b90e1",
   "metadata": {
    "tags": []
   },
   "outputs": [],
   "source": [
    "athletes.num_rows"
   ]
  },
  {
   "cell_type": "markdown",
   "id": "ada12c97-04f1-4ea0-8a86-6f411a3ef0be",
   "metadata": {},
   "source": [
    "Some athletes do not have an age listed do for analysis of age we will only use those with a reported and reasonable age."
   ]
  },
  {
   "cell_type": "code",
   "execution_count": null,
   "id": "0cc7d404-e617-4b59-8712-10b6ede880cc",
   "metadata": {},
   "outputs": [],
   "source": [
    "age_athletes = athletes.where(\"Age\",are.below(99)).where(\"Age\",are.above(0))"
   ]
  },
  {
   "cell_type": "markdown",
   "id": "0585b622-e1ed-4752-b9f6-b99de9e9d1d3",
   "metadata": {},
   "source": [
    "## Mini-Project Questions to address\n",
    "Now develop your project to address the questions below. You will be adding lines of code and markdown as needed below. Feel free to expand the project to explore ideas of interest."
   ]
  },
  {
   "cell_type": "markdown",
   "id": "5d864ddf-913d-435e-97fa-daf76e3d609d",
   "metadata": {},
   "source": [
    "1. What is the earliest year for a Winter Olympics in this dataset? Check this value [(https://olympics.com/en/olympic-games/olympic-results )](https://olympics.com/en/olympic-games/olympic-results ), does it fit the data?\n"
   ]
  },
  {
   "cell_type": "code",
   "execution_count": null,
   "id": "86bd880d-ede1-408c-9427-05022d43b13d",
   "metadata": {},
   "outputs": [],
   "source": []
  },
  {
   "cell_type": "markdown",
   "id": "6daacef3-a4b8-4680-a52b-f587f9294b93",
   "metadata": {},
   "source": [
    "2. Examine the distribution of the age of all Olympians with a histogram. What do you find? "
   ]
  },
  {
   "cell_type": "code",
   "execution_count": null,
   "id": "4d7c529c-d3b5-4673-baf1-b9ef8c60367d",
   "metadata": {},
   "outputs": [],
   "source": []
  },
  {
   "cell_type": "markdown",
   "id": "f59f0534-8d7e-445f-9a59-3a6a4e45fbc2",
   "metadata": {},
   "source": [
    "3. Another way to get a view of this distribution of Olympian ages is a **five number summary** which includes the min, max, median, mean, and standard deviation. To get the **five number summary** (min, max, median, mean, and standard deviation) using np.min, np.max, np.median, np.mean, and np.std respectively on the corresponding column array. Below create a function to compute and display the five number summary given an argument of table name and column label.\n",
    "   | Statistic| Description||\n",
    "   |---|---|---|\n",
    "   |**Measures of the central tendency of data**|\n",
    "   |mean|sum of values divided by number of values, $\\bar{x}$ | `np.array([1, 3, 6, 7, 8]).mean()` <br> $\\bar{x}=$ 5|\n",
    "   |median|middle value of set of data | median of `np.array([1, 3, 6, 7, 8])`  is 6|\n",
    "   |**Measures of variability of data**|\n",
    "   |variance| average difference <br>between data and the mean, $\\sigma^2$|$\\sigma^2 = \\frac{\\sum_i(x_i - \\bar{x})^2}{n-1} $ <br>for population where $n$ is number of data points|\n",
    "   |standard deviation|square root of variance|$\\sigma$|"
   ]
  },
  {
   "cell_type": "code",
   "execution_count": null,
   "id": "747a3e81-a2b1-4d7c-a046-86d27e6cc6d2",
   "metadata": {},
   "outputs": [],
   "source": [
    "def five_num_sum(table,column):\n",
    "    nums=[]\n",
    "    array = table.column(column)\n",
    "    nums.append(np.min(array))\n",
    "    ...\n",
    "    ...\n",
    "    ...\n",
    "    nums.append(round(np.std(array),2)\n",
    "    return nums"
   ]
  },
  {
   "cell_type": "code",
   "execution_count": null,
   "id": "c440ee17-9b12-4f3d-9d61-ec48c5b60a72",
   "metadata": {},
   "outputs": [],
   "source": []
  },
  {
   "cell_type": "markdown",
   "id": "b82c8206-1b56-48a2-81ae-9abd96bd1fe0",
   "metadata": {},
   "source": [
    "#### Group\n",
    "In the next questions it will be very helpful to utilize the `.group` Table method. See [Inferential Thinking 8.3](https://inferentialthinking.com/chapters/08/3/Cross-Classifying_by_More_than_One_Variable.html)<br>Follow the example below."
   ]
  },
  {
   "cell_type": "code",
   "execution_count": null,
   "id": "7526bebd-0521-480b-b7d0-5d8e59525541",
   "metadata": {
    "tags": []
   },
   "outputs": [],
   "source": [
    "IC_data = Table.read_table('Olympic_data/BenJerryData.csv')\n",
    "IC_data"
   ]
  },
  {
   "cell_type": "markdown",
   "id": "438069c6-035d-4d74-8824-e4a285984857",
   "metadata": {},
   "source": [
    "#### .group"
   ]
  },
  {
   "cell_type": "markdown",
   "id": "bc223516-1323-46af-a558-c7417d36ecc8",
   "metadata": {},
   "source": [
    "Look at base ice creams"
   ]
  },
  {
   "cell_type": "code",
   "execution_count": null,
   "id": "d84781fc-4d2b-4a07-b641-d76035640f43",
   "metadata": {
    "tags": []
   },
   "outputs": [],
   "source": [
    "IC_data.group('base ice cream')"
   ]
  },
  {
   "cell_type": "markdown",
   "id": "51657ffd-6d25-4052-9623-4d689220df36",
   "metadata": {},
   "source": [
    "#### .pivot"
   ]
  },
  {
   "cell_type": "code",
   "execution_count": null,
   "id": "900f87c4-cd63-4db5-b760-27f37b1e6c3e",
   "metadata": {},
   "outputs": [],
   "source": [
    "IC_data.pivot('Flavor','fat (g)')"
   ]
  },
  {
   "cell_type": "markdown",
   "id": "25175e52-d08c-4bb1-ae98-03aebf2ca50c",
   "metadata": {},
   "source": [
    "4. Since a given athlete can appear in multiple events, a better way to examine the age distribution of athletes is to group the data by name using a function such as np.average. i.e. `athletes.group(\"Name\", np.average)`"
   ]
  },
  {
   "cell_type": "code",
   "execution_count": null,
   "id": "eddf20fd-b5d8-4037-9c32-63588d17d12e",
   "metadata": {},
   "outputs": [],
   "source": []
  },
  {
   "cell_type": "markdown",
   "id": "2bb52a70-4f86-4a94-ac57-27a1a740d465",
   "metadata": {},
   "source": [
    "5. What are the top ten countries in number of Gold, silver, bronze medals, and total medals? You should have four sets of top ten countries for each of the scenarios. Generate the **five number summary** for each medal type for all countries.\n",
    "Hint: `.where(\"Medal\",are.not_equal_to(\"nan\"))` to get only medal winners. Consider how to create a column for the sum of the three medal categories."
   ]
  },
  {
   "cell_type": "code",
   "execution_count": null,
   "id": "16ff02a0-6177-4e7d-a27d-ff23c0dc113e",
   "metadata": {},
   "outputs": [],
   "source": []
  },
  {
   "cell_type": "markdown",
   "id": "e7a20e7a-59ab-42b1-841b-476db93d4dd2",
   "metadata": {},
   "source": [
    "6. What are the top 5 sports in terms of number of athletes? Is this what you expected?"
   ]
  },
  {
   "cell_type": "code",
   "execution_count": null,
   "id": "4dd8596b-380d-4cb9-91d2-b2bee5898765",
   "metadata": {},
   "outputs": [],
   "source": []
  },
  {
   "cell_type": "markdown",
   "id": "a05f2b16-5e6c-4451-9bea-efe5e5e82e56",
   "metadata": {},
   "source": [
    "7. Which sports (top 5) awarded the most medals in Lake Placid, New York (1980,\n",
    "https://www.lakeplacid.com/do/activities/olympic-sites )."
   ]
  },
  {
   "cell_type": "code",
   "execution_count": null,
   "id": "8e01a681-1efa-4b12-a445-d227a7660ed7",
   "metadata": {},
   "outputs": [],
   "source": []
  },
  {
   "cell_type": "markdown",
   "id": "2b7be597-6619-49b9-8494-10f1a2f6c7b7",
   "metadata": {},
   "source": [
    "**Challenge Question:** Does the host country team have an advantage? To get at this you may need to create another column in the athletes Table with the team name of the host country. Use a markdown cell to create a strategy to address this question. **This is the sort of research question that can emerge during your data exploration.**"
   ]
  },
  {
   "cell_type": "code",
   "execution_count": null,
   "id": "7326a21a-71fd-4735-a900-506cba95e56b",
   "metadata": {},
   "outputs": [],
   "source": []
  },
  {
   "cell_type": "markdown",
   "id": "b2e65dff-35f8-478e-be52-57ef75940295",
   "metadata": {},
   "source": [
    "#### Time Trends"
   ]
  },
  {
   "cell_type": "markdown",
   "id": "058f2625-98ca-41d7-bc24-31dbec48fb42",
   "metadata": {},
   "source": [
    "9. Plot the trend in number of athletes per year. What is the trend?\n",
    "<br>Hint: `athletes.group(\"Year\").plot(\"Year\",\"count\")`"
   ]
  },
  {
   "cell_type": "code",
   "execution_count": null,
   "id": "a8a3e4bd-4b87-42b4-86b3-69df53a2d98d",
   "metadata": {},
   "outputs": [],
   "source": []
  },
  {
   "cell_type": "markdown",
   "id": "843cf4eb-f4e7-4a02-8a9b-ad356bfc37bd",
   "metadata": {},
   "source": [
    "10. Plot the number of medals per year. What is the trend? How does this trend compare to that of the medals?"
   ]
  },
  {
   "cell_type": "code",
   "execution_count": null,
   "id": "3f358233-382a-49de-a021-620e9a90aa57",
   "metadata": {},
   "outputs": [],
   "source": []
  },
  {
   "cell_type": "markdown",
   "id": "85a8fb5a-8c9d-4a0e-b081-d4cfda739e49",
   "metadata": {},
   "source": [
    "11. Team sports award everyone the same medal. Plot the gold medal trend excluding “Ice Hockey”, why hockey?"
   ]
  },
  {
   "cell_type": "code",
   "execution_count": null,
   "id": "8a75b973-8bec-4108-8298-3a3ffa97939a",
   "metadata": {},
   "outputs": [],
   "source": []
  },
  {
   "cell_type": "markdown",
   "id": "0d5ad5a0-0843-4e70-83fc-c98b28f3a16b",
   "metadata": {},
   "source": [
    "12. Plot the yearly trend in number of sports. Think of a strategy to code this. What is the trend? "
   ]
  },
  {
   "cell_type": "code",
   "execution_count": null,
   "id": "9e9bad8d-d01f-4ca4-99a0-85c46c482442",
   "metadata": {},
   "outputs": [],
   "source": []
  },
  {
   "cell_type": "markdown",
   "id": "39920491-9f3d-43ea-a109-0914dde9992a",
   "metadata": {},
   "source": [
    "13. Plot an overlay of gold, silver, and bronze medals as a function of year on the same plot excluding hockey. What is the trend? Are the medals awarded at a similar rate?"
   ]
  },
  {
   "cell_type": "code",
   "execution_count": null,
   "id": "040ae45a-f5cf-42e3-9a01-b5095604864e",
   "metadata": {},
   "outputs": [],
   "source": []
  },
  {
   "cell_type": "markdown",
   "id": "778fa0b0-5492-4f3f-962f-06251b52f2d3",
   "metadata": {},
   "source": [
    "14. Compare the US and Norway medal counts as a function of year by overlaying their counts. Hint: You could create separate tables for the US and Norway using an appropriate .where method. Now these tables can be combined using the Table .append method which merges two tables for instance, `NORUSA = US.append(Norway)`. "
   ]
  },
  {
   "cell_type": "code",
   "execution_count": null,
   "id": "270c89f4-3a31-48ac-ab8c-282d65da30df",
   "metadata": {},
   "outputs": [],
   "source": []
  },
  {
   "cell_type": "markdown",
   "id": "98f2fdd0-3b34-45c3-9d6e-e1303f45f6e9",
   "metadata": {},
   "source": [
    "15. Now use a scatter plot (` .scatter()` ) to look at the number of athletes per year for the US versus that for Norway. What trends do you see?"
   ]
  },
  {
   "cell_type": "code",
   "execution_count": null,
   "id": "b7587c55-ae4c-48ed-9295-19f390cccc49",
   "metadata": {},
   "outputs": [],
   "source": []
  },
  {
   "cell_type": "markdown",
   "id": "cb1967f1-e961-4447-bb19-b43976a06171",
   "metadata": {},
   "source": [
    "#### Ideas for future exploration"
   ]
  },
  {
   "cell_type": "markdown",
   "id": "be664149-c14e-4af9-a679-5b40a29b3a0c",
   "metadata": {},
   "source": [
    "Data sets are available in this folder for average annual temperature by country, country population, and the highest peak in each country. Furthermore, global warming is exerting pressure on winter sports.  Insert a markdown cell to describe a question you could study in the future (not as part of this mini project). For instance, which countries are likely to have medal winning athletes or the future of winter sports given climate change."
   ]
  },
  {
   "cell_type": "markdown",
   "id": "fe94acf7-8d06-4979-a0af-e6430d81fa39",
   "metadata": {
    "editable": true,
    "slideshow": {
     "slide_type": ""
    },
    "tags": []
   },
   "source": []
  },
  {
   "cell_type": "markdown",
   "id": "887722cb-751e-44e5-8ea8-28811f82b04a",
   "metadata": {},
   "source": [
    "### <font color=blue> **Feedback** </font>\n",
    "\n",
    "Please include a reflection. \n",
    "* How did this mini-project go? \n",
    "* Was it difficult to write code without a template?\n",
    "* Did you seek help from any of the instructors or class assistants?\n",
    "* Were there questions you found especially challenging you would like your instructor to review in class? \n",
    "* How long did the project take you to complete?\n",
    "  \n",
    "Share your feedback so we can continue to improve this class!\n",
    "\n",
    "**Insert a markdown cell below this one and write your reflection on this lab.**"
   ]
  },
  {
   "cell_type": "code",
   "execution_count": null,
   "id": "a04dfbe8-44d1-4921-8a4f-8f688bd98a67",
   "metadata": {
    "tags": []
   },
   "outputs": [],
   "source": [
    "print(\"Nice work \", name, user)\n",
    "import time;\n",
    "localtime = time.asctime( time.localtime(time.time()) )\n",
    "print(\"Submitted @ \", localtime)"
   ]
  }
 ],
 "metadata": {
  "kernelspec": {
   "display_name": "Python 3 (ipykernel)",
   "language": "python",
   "name": "python3"
  },
  "language_info": {
   "codemirror_mode": {
    "name": "ipython",
    "version": 3
   },
   "file_extension": ".py",
   "mimetype": "text/x-python",
   "name": "python",
   "nbconvert_exporter": "python",
   "pygments_lexer": "ipython3",
   "version": "3.9.12"
  }
 },
 "nbformat": 4,
 "nbformat_minor": 5
}
