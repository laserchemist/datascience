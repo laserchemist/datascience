{
 "cells": [
  {
   "cell_type": "markdown",
   "metadata": {},
   "source": [
    "# Lab 04 Functions and Visualization\n",
    "\n",
    "<i>Elements of Data Science</i><br><br>\n",
    "Welcome to lab 4!\n",
    "This week, we will focus on functions and visualization. <br>Functions are described in [Chapter 8](https://inferentialthinking.com/chapters/08/Functions_and_Tables.html) of the Inferential Thinking text. <br>Visualizations is covered in [Chapter 7](https://inferentialthinking.com/chapters/07/Visualization.html).\n",
    "First, set up the tests and imports by running the cell below."
   ]
  },
  {
   "cell_type": "code",
   "execution_count": 2,
   "metadata": {},
   "outputs": [],
   "source": [
    "# Enter your name as a string\n",
    "name = ..."
   ]
  },
  {
   "cell_type": "code",
   "execution_count": 3,
   "metadata": {},
   "outputs": [],
   "source": [
    "import numpy as np\n",
    "from datascience import *\n",
    "%matplotlib inline\n",
    "import matplotlib.pyplot as plt\n",
    "plt.style.use('fivethirtyeight')\n",
    "# This line loads the tests.\n",
    "from gofer.ok import check"
   ]
  },
  {
   "cell_type": "markdown",
   "metadata": {},
   "source": [
    "### Let's explore the most recent COVID data from the New York Times\n",
    "This data is updated and stored at GitHub: https://github.com/nytimes/covid-19-data <br>\n",
    "US rolling average: https://raw.githubusercontent.com/nytimes/covid-19-data/master/rolling-averages/us.csv <br>\n",
    "US States rolling average: https://raw.githubusercontent.com/nytimes/covid-19-data/master/rolling-averages/us-states.csv <br>"
   ]
  },
  {
   "cell_type": "code",
   "execution_count": 17,
   "metadata": {},
   "outputs": [],
   "source": [
    "COVID_data = 'https://raw.githubusercontent.com/nytimes/covid-19-data/master/rolling-averages/us.csv'\n",
    "COVID=Table.read_table(COVID_data)"
   ]
  },
  {
   "cell_type": "markdown",
   "metadata": {},
   "source": [
    "Now we can sort the data by date. Since the data starts at the beginning of the pandemic we see very few cases."
   ]
  },
  {
   "cell_type": "code",
   "execution_count": 18,
   "metadata": {},
   "outputs": [
    {
     "data": {
      "text/html": [
       "<table border=\"1\" class=\"dataframe\">\n",
       "    <thead>\n",
       "        <tr>\n",
       "            <th>date</th> <th>geoid</th> <th>cases</th> <th>cases_avg</th> <th>cases_avg_per_100k</th> <th>deaths</th> <th>deaths_avg</th> <th>deaths_avg_per_100k</th>\n",
       "        </tr>\n",
       "    </thead>\n",
       "    <tbody>\n",
       "        <tr>\n",
       "            <td>2020-01-21</td> <td>USA  </td> <td>1    </td> <td>0.14     </td> <td>0                 </td> <td>0     </td> <td>0         </td> <td>0                  </td>\n",
       "        </tr>\n",
       "        <tr>\n",
       "            <td>2020-01-22</td> <td>USA  </td> <td>0    </td> <td>0.14     </td> <td>0                 </td> <td>0     </td> <td>0         </td> <td>0                  </td>\n",
       "        </tr>\n",
       "        <tr>\n",
       "            <td>2020-01-23</td> <td>USA  </td> <td>0    </td> <td>0.14     </td> <td>0                 </td> <td>0     </td> <td>0         </td> <td>0                  </td>\n",
       "        </tr>\n",
       "        <tr>\n",
       "            <td>2020-01-24</td> <td>USA  </td> <td>1    </td> <td>0.29     </td> <td>0                 </td> <td>0     </td> <td>0         </td> <td>0                  </td>\n",
       "        </tr>\n",
       "        <tr>\n",
       "            <td>2020-01-25</td> <td>USA  </td> <td>1    </td> <td>0.43     </td> <td>0                 </td> <td>0     </td> <td>0         </td> <td>0                  </td>\n",
       "        </tr>\n",
       "        <tr>\n",
       "            <td>2020-01-26</td> <td>USA  </td> <td>2    </td> <td>0.71     </td> <td>0                 </td> <td>0     </td> <td>0         </td> <td>0                  </td>\n",
       "        </tr>\n",
       "        <tr>\n",
       "            <td>2020-01-27</td> <td>USA  </td> <td>0    </td> <td>0.71     </td> <td>0                 </td> <td>0     </td> <td>0         </td> <td>0                  </td>\n",
       "        </tr>\n",
       "        <tr>\n",
       "            <td>2020-01-28</td> <td>USA  </td> <td>0    </td> <td>0.71     </td> <td>0                 </td> <td>0     </td> <td>0         </td> <td>0                  </td>\n",
       "        </tr>\n",
       "        <tr>\n",
       "            <td>2020-01-29</td> <td>USA  </td> <td>0    </td> <td>0.71     </td> <td>0                 </td> <td>0     </td> <td>0         </td> <td>0                  </td>\n",
       "        </tr>\n",
       "        <tr>\n",
       "            <td>2020-01-30</td> <td>USA  </td> <td>1    </td> <td>0.86     </td> <td>0                 </td> <td>0     </td> <td>0         </td> <td>0                  </td>\n",
       "        </tr>\n",
       "    </tbody>\n",
       "</table>\n",
       "<p>... (1148 rows omitted)</p>"
      ],
      "text/plain": [
       "date       | geoid | cases | cases_avg | cases_avg_per_100k | deaths | deaths_avg | deaths_avg_per_100k\n",
       "2020-01-21 | USA   | 1     | 0.14      | 0                  | 0      | 0          | 0\n",
       "2020-01-22 | USA   | 0     | 0.14      | 0                  | 0      | 0          | 0\n",
       "2020-01-23 | USA   | 0     | 0.14      | 0                  | 0      | 0          | 0\n",
       "2020-01-24 | USA   | 1     | 0.29      | 0                  | 0      | 0          | 0\n",
       "2020-01-25 | USA   | 1     | 0.43      | 0                  | 0      | 0          | 0\n",
       "2020-01-26 | USA   | 2     | 0.71      | 0                  | 0      | 0          | 0\n",
       "2020-01-27 | USA   | 0     | 0.71      | 0                  | 0      | 0          | 0\n",
       "2020-01-28 | USA   | 0     | 0.71      | 0                  | 0      | 0          | 0\n",
       "2020-01-29 | USA   | 0     | 0.71      | 0                  | 0      | 0          | 0\n",
       "2020-01-30 | USA   | 1     | 0.86      | 0                  | 0      | 0          | 0\n",
       "... (1148 rows omitted)"
      ]
     },
     "execution_count": 18,
     "metadata": {},
     "output_type": "execute_result"
    }
   ],
   "source": [
    "COVID.sort(\"date\",descending=False) # Display oldest data first"
   ]
  },
  {
   "cell_type": "markdown",
   "metadata": {},
   "source": [
    "Try sorting the data by cases to find the date with the highest number of cases. Hint: use the above code as a model and replace the \"date\" with \"cases\" and adjust the descending=? to get the largest number at the top."
   ]
  },
  {
   "cell_type": "code",
   "execution_count": 19,
   "metadata": {},
   "outputs": [
    {
     "ename": "TypeError",
     "evalue": "object of type 'ellipsis' has no len()",
     "output_type": "error",
     "traceback": [
      "\u001b[0;31m---------------------------------------------------------------------------\u001b[0m",
      "\u001b[0;31mTypeError\u001b[0m                                 Traceback (most recent call last)",
      "Input \u001b[0;32mIn [19]\u001b[0m, in \u001b[0;36m<cell line: 1>\u001b[0;34m()\u001b[0m\n\u001b[0;32m----> 1\u001b[0m \u001b[43mCOVID\u001b[49m\u001b[38;5;241;43m.\u001b[39;49m\u001b[43msort\u001b[49m\u001b[43m(\u001b[49m\u001b[38;5;241;43m.\u001b[39;49m\u001b[38;5;241;43m.\u001b[39;49m\u001b[38;5;241;43m.\u001b[39;49m\u001b[43m)\u001b[49m\n",
      "File \u001b[0;32m~/anaconda3/lib/python3.9/site-packages/datascience/tables.py:1499\u001b[0m, in \u001b[0;36mTable.sort\u001b[0;34m(self, column_or_label, descending, distinct)\u001b[0m\n\u001b[1;32m   1438\u001b[0m \u001b[38;5;28;01mdef\u001b[39;00m \u001b[38;5;21msort\u001b[39m(\u001b[38;5;28mself\u001b[39m, column_or_label, descending\u001b[38;5;241m=\u001b[39m\u001b[38;5;28;01mFalse\u001b[39;00m, distinct\u001b[38;5;241m=\u001b[39m\u001b[38;5;28;01mFalse\u001b[39;00m):\n\u001b[1;32m   1439\u001b[0m     \u001b[38;5;124;03m\"\"\"Return a Table of rows sorted according to the values in a column.\u001b[39;00m\n\u001b[1;32m   1440\u001b[0m \n\u001b[1;32m   1441\u001b[0m \u001b[38;5;124;03m    Args:\u001b[39;00m\n\u001b[0;32m   (...)\u001b[0m\n\u001b[1;32m   1497\u001b[0m \u001b[38;5;124;03m    Blue  | Rectangular | 12     | 2\u001b[39;00m\n\u001b[1;32m   1498\u001b[0m \u001b[38;5;124;03m    \"\"\"\u001b[39;00m\n\u001b[0;32m-> 1499\u001b[0m     column \u001b[38;5;241m=\u001b[39m \u001b[38;5;28;43mself\u001b[39;49m\u001b[38;5;241;43m.\u001b[39;49m\u001b[43m_get_column\u001b[49m\u001b[43m(\u001b[49m\u001b[43mcolumn_or_label\u001b[49m\u001b[43m)\u001b[49m\n\u001b[1;32m   1500\u001b[0m     \u001b[38;5;28;01mif\u001b[39;00m distinct:\n\u001b[1;32m   1501\u001b[0m         _, row_numbers \u001b[38;5;241m=\u001b[39m np\u001b[38;5;241m.\u001b[39munique(column, return_index\u001b[38;5;241m=\u001b[39m\u001b[38;5;28;01mTrue\u001b[39;00m)\n",
      "File \u001b[0;32m~/anaconda3/lib/python3.9/site-packages/datascience/tables.py:2231\u001b[0m, in \u001b[0;36mTable._get_column\u001b[0;34m(self, column_or_label)\u001b[0m\n\u001b[1;32m   2229\u001b[0m     \u001b[38;5;28;01mraise\u001b[39;00m \u001b[38;5;167;01mValueError\u001b[39;00m(\u001b[38;5;124m'\u001b[39m\u001b[38;5;124mlabel \u001b[39m\u001b[38;5;124m\"\u001b[39m\u001b[38;5;132;01m{}\u001b[39;00m\u001b[38;5;124m\"\u001b[39m\u001b[38;5;124m not in labels \u001b[39m\u001b[38;5;132;01m{}\u001b[39;00m\u001b[38;5;124m'\u001b[39m\u001b[38;5;241m.\u001b[39mformat(c, \u001b[38;5;28mself\u001b[39m\u001b[38;5;241m.\u001b[39mlabels))\n\u001b[1;32m   2230\u001b[0m \u001b[38;5;28;01melse\u001b[39;00m:\n\u001b[0;32m-> 2231\u001b[0m     \u001b[38;5;28;01massert\u001b[39;00m \u001b[38;5;28;43mlen\u001b[39;49m\u001b[43m(\u001b[49m\u001b[43mc\u001b[49m\u001b[43m)\u001b[49m \u001b[38;5;241m==\u001b[39m \u001b[38;5;28mself\u001b[39m\u001b[38;5;241m.\u001b[39mnum_rows, \u001b[38;5;124m'\u001b[39m\u001b[38;5;124mcolumn length mismatch\u001b[39m\u001b[38;5;124m'\u001b[39m\n\u001b[1;32m   2232\u001b[0m     \u001b[38;5;28;01mreturn\u001b[39;00m c\n",
      "\u001b[0;31mTypeError\u001b[0m: object of type 'ellipsis' has no len()"
     ]
    }
   ],
   "source": [
    "COVID.sort(...)"
   ]
  },
  {
   "cell_type": "markdown",
   "metadata": {},
   "source": [
    "### <font color=blue> **What do you observe?** </font>"
   ]
  },
  {
   "cell_type": "markdown",
   "metadata": {},
   "source": []
  },
  {
   "cell_type": "markdown",
   "metadata": {},
   "source": [
    "### Use where to select data from November - December 2021\n",
    "Here are the possible arguments for the <i>where</i> Table method:<br>\n",
    "\n",
    "|Predicate|Example|Result|\n",
    "|-|-|-|\n",
    "|`are.equal_to`|`are.equal_to(50)`|Find rows with values equal to 50|\n",
    "|`are.not_equal_to`|`are.not_equal_to(50)`|Find rows with values not equal to 50|\n",
    "|`are.above`|`are.above(50)`|Find rows with values above (and not equal to) 50|\n",
    "|`are.above_or_equal_to`|`are.above_or_equal_to(50)`|Find rows with values above 50 or equal to 50|\n",
    "|`are.below`|`are.below(50)`|Find rows with values below 50|\n",
    "|`are.between`|`are.between(2, 10)`|Find rows with values above or equal to 2 and below 10|"
   ]
  },
  {
   "cell_type": "code",
   "execution_count": 20,
   "metadata": {},
   "outputs": [
    {
     "data": {
      "text/html": [
       "<table border=\"1\" class=\"dataframe\">\n",
       "    <thead>\n",
       "        <tr>\n",
       "            <th>date</th> <th>geoid</th> <th>cases</th> <th>cases_avg</th> <th>cases_avg_per_100k</th> <th>deaths</th> <th>deaths_avg</th> <th>deaths_avg_per_100k</th>\n",
       "        </tr>\n",
       "    </thead>\n",
       "    <tbody>\n",
       "        <tr>\n",
       "            <td>2020-01-21</td> <td>USA  </td> <td>1    </td> <td>0.14     </td> <td>0                 </td> <td>0     </td> <td>0         </td> <td>0                  </td>\n",
       "        </tr>\n",
       "        <tr>\n",
       "            <td>2020-01-22</td> <td>USA  </td> <td>0    </td> <td>0.14     </td> <td>0                 </td> <td>0     </td> <td>0         </td> <td>0                  </td>\n",
       "        </tr>\n",
       "        <tr>\n",
       "            <td>2020-01-23</td> <td>USA  </td> <td>0    </td> <td>0.14     </td> <td>0                 </td> <td>0     </td> <td>0         </td> <td>0                  </td>\n",
       "        </tr>\n",
       "        <tr>\n",
       "            <td>2020-01-24</td> <td>USA  </td> <td>1    </td> <td>0.29     </td> <td>0                 </td> <td>0     </td> <td>0         </td> <td>0                  </td>\n",
       "        </tr>\n",
       "        <tr>\n",
       "            <td>2020-01-25</td> <td>USA  </td> <td>1    </td> <td>0.43     </td> <td>0                 </td> <td>0     </td> <td>0         </td> <td>0                  </td>\n",
       "        </tr>\n",
       "        <tr>\n",
       "            <td>2020-01-26</td> <td>USA  </td> <td>2    </td> <td>0.71     </td> <td>0                 </td> <td>0     </td> <td>0         </td> <td>0                  </td>\n",
       "        </tr>\n",
       "        <tr>\n",
       "            <td>2020-01-27</td> <td>USA  </td> <td>0    </td> <td>0.71     </td> <td>0                 </td> <td>0     </td> <td>0         </td> <td>0                  </td>\n",
       "        </tr>\n",
       "        <tr>\n",
       "            <td>2020-01-28</td> <td>USA  </td> <td>0    </td> <td>0.71     </td> <td>0                 </td> <td>0     </td> <td>0         </td> <td>0                  </td>\n",
       "        </tr>\n",
       "        <tr>\n",
       "            <td>2020-01-29</td> <td>USA  </td> <td>0    </td> <td>0.71     </td> <td>0                 </td> <td>0     </td> <td>0         </td> <td>0                  </td>\n",
       "        </tr>\n",
       "        <tr>\n",
       "            <td>2020-01-30</td> <td>USA  </td> <td>1    </td> <td>0.86     </td> <td>0                 </td> <td>0     </td> <td>0         </td> <td>0                  </td>\n",
       "        </tr>\n",
       "    </tbody>\n",
       "</table>\n",
       "<p>... (41 rows omitted)</p>"
      ],
      "text/plain": [
       "date       | geoid | cases | cases_avg | cases_avg_per_100k | deaths | deaths_avg | deaths_avg_per_100k\n",
       "2020-01-21 | USA   | 1     | 0.14      | 0                  | 0      | 0          | 0\n",
       "2020-01-22 | USA   | 0     | 0.14      | 0                  | 0      | 0          | 0\n",
       "2020-01-23 | USA   | 0     | 0.14      | 0                  | 0      | 0          | 0\n",
       "2020-01-24 | USA   | 1     | 0.29      | 0                  | 0      | 0          | 0\n",
       "2020-01-25 | USA   | 1     | 0.43      | 0                  | 0      | 0          | 0\n",
       "2020-01-26 | USA   | 2     | 0.71      | 0                  | 0      | 0          | 0\n",
       "2020-01-27 | USA   | 0     | 0.71      | 0                  | 0      | 0          | 0\n",
       "2020-01-28 | USA   | 0     | 0.71      | 0                  | 0      | 0          | 0\n",
       "2020-01-29 | USA   | 0     | 0.71      | 0                  | 0      | 0          | 0\n",
       "2020-01-30 | USA   | 1     | 0.86      | 0                  | 0      | 0          | 0\n",
       "... (41 rows omitted)"
      ]
     },
     "execution_count": 20,
     "metadata": {},
     "output_type": "execute_result"
    }
   ],
   "source": [
    "COVID.where(\"deaths\",are.between(0,1))"
   ]
  },
  {
   "cell_type": "code",
   "execution_count": 22,
   "metadata": {},
   "outputs": [
    {
     "data": {
      "text/plain": [
       "array(['2020-01-21', '2020-01-22', '2020-01-23', ..., '2023-03-21',\n",
       "       '2023-03-22', '2023-03-23'],\n",
       "      dtype='<U10')"
      ]
     },
     "execution_count": 22,
     "metadata": {},
     "output_type": "execute_result"
    }
   ],
   "source": [
    "COVID['date']"
   ]
  },
  {
   "cell_type": "markdown",
   "metadata": {},
   "source": [
    "To select a particular date we can use where with the appropriate strings to select certain dates, for example for January of 2021 we can use the below code."
   ]
  },
  {
   "cell_type": "code",
   "execution_count": 26,
   "metadata": {},
   "outputs": [
    {
     "data": {
      "text/html": [
       "<table border=\"1\" class=\"dataframe\">\n",
       "    <thead>\n",
       "        <tr>\n",
       "            <th>date</th> <th>geoid</th> <th>cases</th> <th>cases_avg</th> <th>cases_avg_per_100k</th> <th>deaths</th> <th>deaths_avg</th> <th>deaths_avg_per_100k</th>\n",
       "        </tr>\n",
       "    </thead>\n",
       "    <tbody>\n",
       "        <tr>\n",
       "            <td>2021-01-01</td> <td>USA  </td> <td>147248</td> <td>195605   </td> <td>58.95             </td> <td>1920  </td> <td>2507.43   </td> <td>0.76               </td>\n",
       "        </tr>\n",
       "        <tr>\n",
       "            <td>2021-01-02</td> <td>USA  </td> <td>291610</td> <td>205236   </td> <td>61.85             </td> <td>2373  </td> <td>2586.5    </td> <td>0.78               </td>\n",
       "        </tr>\n",
       "        <tr>\n",
       "            <td>2021-01-03</td> <td>USA  </td> <td>201780</td> <td>212412   </td> <td>64.02             </td> <td>1351  </td> <td>2606.68   </td> <td>0.79               </td>\n",
       "        </tr>\n",
       "        <tr>\n",
       "            <td>2021-01-04</td> <td>USA  </td> <td>251830</td> <td>215017   </td> <td>64.8              </td> <td>2049  </td> <td>2652.03   </td> <td>0.8                </td>\n",
       "        </tr>\n",
       "        <tr>\n",
       "            <td>2021-01-05</td> <td>USA  </td> <td>235016</td> <td>220003   </td> <td>66.3              </td> <td>3689  </td> <td>2660.86   </td> <td>0.8                </td>\n",
       "        </tr>\n",
       "        <tr>\n",
       "            <td>2021-01-06</td> <td>USA  </td> <td>255966</td> <td>224017   </td> <td>67.51             </td> <td>3964  </td> <td>2687.15   </td> <td>0.81               </td>\n",
       "        </tr>\n",
       "        <tr>\n",
       "            <td>2021-01-07</td> <td>USA  </td> <td>280334</td> <td>230964   </td> <td>69.61             </td> <td>4113  </td> <td>2764.7    </td> <td>0.83               </td>\n",
       "        </tr>\n",
       "        <tr>\n",
       "            <td>2021-01-08</td> <td>USA  </td> <td>300777</td> <td>244361   </td> <td>73.64             </td> <td>3895  </td> <td>2942.48   </td> <td>0.89               </td>\n",
       "        </tr>\n",
       "        <tr>\n",
       "            <td>2021-01-09</td> <td>USA  </td> <td>251919</td> <td>246664   </td> <td>74.34             </td> <td>3259  </td> <td>3173.8    </td> <td>0.96               </td>\n",
       "        </tr>\n",
       "        <tr>\n",
       "            <td>2021-01-10</td> <td>USA  </td> <td>208295</td> <td>247589   </td> <td>74.62             </td> <td>1777  </td> <td>3217.65   </td> <td>0.97               </td>\n",
       "        </tr>\n",
       "    </tbody>\n",
       "</table>\n",
       "<p>... (21 rows omitted)</p>"
      ],
      "text/plain": [
       "date       | geoid | cases  | cases_avg | cases_avg_per_100k | deaths | deaths_avg | deaths_avg_per_100k\n",
       "2021-01-01 | USA   | 147248 | 195605    | 58.95              | 1920   | 2507.43    | 0.76\n",
       "2021-01-02 | USA   | 291610 | 205236    | 61.85              | 2373   | 2586.5     | 0.78\n",
       "2021-01-03 | USA   | 201780 | 212412    | 64.02              | 1351   | 2606.68    | 0.79\n",
       "2021-01-04 | USA   | 251830 | 215017    | 64.8               | 2049   | 2652.03    | 0.8\n",
       "2021-01-05 | USA   | 235016 | 220003    | 66.3               | 3689   | 2660.86    | 0.8\n",
       "2021-01-06 | USA   | 255966 | 224017    | 67.51              | 3964   | 2687.15    | 0.81\n",
       "2021-01-07 | USA   | 280334 | 230964    | 69.61              | 4113   | 2764.7     | 0.83\n",
       "2021-01-08 | USA   | 300777 | 244361    | 73.64              | 3895   | 2942.48    | 0.89\n",
       "2021-01-09 | USA   | 251919 | 246664    | 74.34              | 3259   | 3173.8     | 0.96\n",
       "2021-01-10 | USA   | 208295 | 247589    | 74.62              | 1777   | 3217.65    | 0.97\n",
       "... (21 rows omitted)"
      ]
     },
     "execution_count": 26,
     "metadata": {},
     "output_type": "execute_result"
    }
   ],
   "source": [
    "COVID.where('date', are.containing(\"2021\")).where('date', are.containing(\"-01-\"))"
   ]
  },
  {
   "cell_type": "markdown",
   "metadata": {},
   "source": [
    "Dates produce an error as you will see in the next cell, below we will see the steps needed to work with dates"
   ]
  },
  {
   "cell_type": "markdown",
   "metadata": {},
   "source": [
    "We can also use a string containing the year, month & day using the <b><i>strptime</i></b> function. Why the \"p\" in the name strptime? It stands for \"parse.\" To parse a sentence is to break it into its grammatical parts. Here the function strptime parses a date sting into year, month, day to calculate a time."
   ]
  },
  {
   "cell_type": "markdown",
   "metadata": {},
   "source": [
    "How did this work? We passed a string of characters to strptime() as the first argument: '2020-01-21'<br>\n",
    "The second argument told the strptime() function how to parse the first string, specifying that the format begins with full year (%Y), followed by the month (%m), then the day (%d), and that the three are separated with hyphens. Put it all together and you have: '%Y-%m-%d'\n",
    "\n",
    "The strptime() function can parse (convert text to a number) many different date formats, including days of the week. You can read more about it [here](https://docs.python.org/3/library/datetime.html#strftime-and-strptime-behavior).\n",
    "\n",
    "We can also use the data type of the numpy array to generate an appropriate conversion from the number of seconds since midnight the start of 1970 to legible dates."
   ]
  },
  {
   "cell_type": "code",
   "execution_count": 15,
   "metadata": {},
   "outputs": [
    {
     "data": {
      "text/plain": [
       "array(['1970-01-01T00:00:00', '2020-01-21T00:00:00'], dtype='datetime64[s]')"
      ]
     },
     "execution_count": 15,
     "metadata": {},
     "output_type": "execute_result"
    }
   ],
   "source": [
    "np.array([0, 1579564800], dtype='datetime64[s]') # See above for seconds resulting from string '2020-01-21'"
   ]
  },
  {
   "cell_type": "markdown",
   "metadata": {},
   "source": [
    "Now we can recast example as a datetime64 object"
   ]
  },
  {
   "cell_type": "code",
   "execution_count": null,
   "metadata": {},
   "outputs": [],
   "source": [
    "example = np.array([0, 1579564800])\n",
    "print('Original example: ',example)           \n",
    "example = example.astype('datetime64[s]')\n",
    "print('example as datetime64 object: ',example)"
   ]
  },
  {
   "cell_type": "markdown",
   "metadata": {},
   "source": [
    "Notice that the result include T00:00:00' What is that? The 'T' stands for timezone. Unless you specify a time zone, Python will assume you are working in Greenwich Mean Time (GMT) with is time zone zero. Eastern standard time is five hours behind, except when we are on Eastern Daylight Time, then we are four hours behind. **I told you time was complicated!**\n",
    "\n",
    "Astronomers and many other scientists get around though whole time zone issue by just reporting all observations in GMT. This avoids the confusion of thousands of observers around the world reporting when then saw an eclipse or felt an earthquake in their local time zones. If we all learned to use GMT if might also avoid confusion about when an international Zoom meeting is scheduled to begin!"
   ]
  },
  {
   "cell_type": "markdown",
   "metadata": {
    "tags": []
   },
   "source": [
    "### <font color=blue> **Question 1.** </font><br />\n",
    "Determine the number of seconds between January 21, 2020 (considered the start of the COVID pandemic in the US) and December 31, 2021 (both at midnight). Remember doing this in Lab02 for seconds over a period of years. <br>Use two methods: <br> A) Multiplying 60 seconds * 60 minutes * 24 hours * ... this is `difftimeA` <br> B) Using strptime and time.mktime() ... this is `difftimeB`\n",
    "\n",
    "*Hint: Don't forget about leap years, another time/date complication!*"
   ]
  },
  {
   "cell_type": "code",
   "execution_count": null,
   "metadata": {},
   "outputs": [],
   "source": [
    "difftimeA = ... # Compute through multiplaction 60 seconds * 60 minutes * 24 hours * ... \n",
    "\n",
    "time1a = strptime('2020-01-21', '%Y-%m-%d')\n",
    "time1 = time.mktime(time0)\n",
    "time2a = ...\n",
    "time2 = ...\n",
    "\n",
    "difftimeB = ...\n",
    "print(difftimeB, difftimeA)"
   ]
  },
  {
   "cell_type": "code",
   "execution_count": null,
   "metadata": {},
   "outputs": [],
   "source": [
    "check('tests/q1a.py')"
   ]
  },
  {
   "cell_type": "markdown",
   "metadata": {},
   "source": [
    "### <font color=blue> **Question 2.** </font><br />\n",
    "The date in the COVID table evaluates to a time in seconds since the epoch like evaluated above. Now define a subset of the data to examine trends during all of November and December of 2021."
   ]
  },
  {
   "cell_type": "code",
   "execution_count": null,
   "metadata": {},
   "outputs": [],
   "source": [
    "time1 = ... # Seconds since epoch\n",
    "time2 = ... # Seconds since epoch\n",
    "Late2021 = COVID.where(\"date\", are.between(time1, time2))\n",
    "Late2021"
   ]
  },
  {
   "cell_type": "code",
   "execution_count": null,
   "metadata": {},
   "outputs": [],
   "source": [
    "check('tests/q2a.py')"
   ]
  },
  {
   "cell_type": "markdown",
   "metadata": {},
   "source": []
  },
  {
   "cell_type": "markdown",
   "metadata": {},
   "source": [
    "### Plot\n",
    "If we attempt to plot using the 'date' column we get the seconds from the epoch (January 1, 1970). This does not work well so we will address this below."
   ]
  },
  {
   "cell_type": "code",
   "execution_count": null,
   "metadata": {},
   "outputs": [],
   "source": [
    "Late2021.plot(\"date\", \"cases_avg_per_100k\")"
   ]
  },
  {
   "cell_type": "markdown",
   "metadata": {
    "tags": []
   },
   "source": [
    "#### Plot with Plotly\n",
    "There are many plotting packages available for Python. The two main ones we will using in this class are matplotlib and plotly. Matplotlib is preferable for creating plots you plan to print out on paper, such as for a handout or journal article. Plotly is great for producing plots that are interactive, such as for embedding in a webpage. \n",
    "\n",
    "[Plotly](https://plotly.com/python/) is an alternative to matplotlib that has become a mainstay in visualizing data when you want interactive plots but can become very slow when datasets have thousands of points. The plotly figure can be saved by clicking on the camera icon in the upper right corner of the figure."
   ]
  },
  {
   "cell_type": "code",
   "execution_count": null,
   "metadata": {},
   "outputs": [],
   "source": [
    "import plotly.express as px\n",
    "\n",
    "series1 = Late2021.column('cases_avg_per_100k')\n",
    "date = Late2021.column('date')\n",
    "fig = px.line(x=date, y=[series1])\n",
    "\n",
    "fig.show()"
   ]
  },
  {
   "cell_type": "markdown",
   "metadata": {},
   "source": [
    "Converting the date column to a new data type, datetime64[s], gives the plot correctly formatted dates"
   ]
  },
  {
   "cell_type": "code",
   "execution_count": null,
   "metadata": {},
   "outputs": [],
   "source": [
    "import plotly.express as px\n",
    "\n",
    "series1 = Late2021.column('cases_avg_per_100k')\n",
    "date = Late2021.column('date').astype('datetime64[s]') # Using the retyping of the column which is a nump array\n",
    "fig = px.line(x=date, y=[series1])\n",
    "\n",
    "fig.show()"
   ]
  },
  {
   "cell_type": "markdown",
   "metadata": {},
   "source": [
    "### Histogram\n",
    "Many of the matplotlib plot are available as methods availabe to data tables. A histogram method, for example, is realized by appending .hist('column name')"
   ]
  },
  {
   "cell_type": "code",
   "execution_count": null,
   "metadata": {},
   "outputs": [],
   "source": [
    "Late2021.hist('deaths')"
   ]
  },
  {
   "cell_type": "markdown",
   "metadata": {},
   "source": [
    "We can also access summary statistics for the datascience table"
   ]
  },
  {
   "cell_type": "code",
   "execution_count": null,
   "metadata": {},
   "outputs": [],
   "source": [
    "Late2021.stats()"
   ]
  },
  {
   "cell_type": "markdown",
   "metadata": {},
   "source": [
    "### <font color=blue> **Question 3.** </font><br />\n",
    "Construct a histogram and stats for November - December 2020 and compare this to those from November - December 2021 in a markdown cell below the histogram and statistics."
   ]
  },
  {
   "cell_type": "code",
   "execution_count": null,
   "metadata": {},
   "outputs": [],
   "source": [
    "time1 =  ... # Seconds since epoch\n",
    "time2 =  ... # Seconds since epoch\n",
    "Late2020 = ...\n",
    "Late2020"
   ]
  },
  {
   "cell_type": "code",
   "execution_count": null,
   "metadata": {},
   "outputs": [],
   "source": [
    "check('tests/q3a.py')"
   ]
  },
  {
   "cell_type": "code",
   "execution_count": null,
   "metadata": {},
   "outputs": [],
   "source": [
    "Late2020.hist('deaths')\n",
    "..."
   ]
  },
  {
   "cell_type": "markdown",
   "metadata": {},
   "source": [
    "#### <font color=blue> Write your comparison in this markdown cell (double click to edit) </font>\n",
    "\n",
    "..."
   ]
  },
  {
   "cell_type": "markdown",
   "metadata": {},
   "source": [
    "### Plotting with dates\n",
    "Dates can also be tricky to get a good x-axis. This is particularly complicated with the time being defined as seconds since the common epoch of January 1, 1970 @12 midnight.<br>\n",
    "The key is first to convert the array containing the date data to a datetime64[s] format then using some special Matplotlib codes to get the best date formatting illustrated below:\n",
    "![<Matplotlib Dates>](Matplotlib_dates.png)"
   ]
  },
  {
   "cell_type": "code",
   "execution_count": null,
   "metadata": {},
   "outputs": [],
   "source": [
    "# Input Data to plot\n",
    "date = Late2021.column(\"date\").astype(\n",
    "    \"datetime64[s]\"\n",
    ")  # Need to convert to a datetime64[s] object\n",
    "deaths = Late2021.column(\"deaths\")\n",
    "\n",
    "## DATE PLOTTING CODE TEMPLATE TO COPY ##\n",
    "import matplotlib.dates as mdates\n",
    "\n",
    "loc = mdates.AutoDateLocator()  # Fancy function for dates\n",
    "fmt = mdates.AutoDateFormatter(loc)\n",
    "plt.gca().xaxis.set_major_formatter(fmt)\n",
    "plt.gca().xaxis.set_major_formatter(\n",
    "    mdates.DateFormatter(\"%Y-%b\")\n",
    ")  # Control format with codes\n",
    "## END: DATE PLOTTING CODE TEMPLATE TO COPY ##\n",
    "\n",
    "# Now plot\n",
    "plt.plot(date, deaths)\n",
    "plt.gcf().autofmt_xdate()"
   ]
  },
  {
   "cell_type": "markdown",
   "metadata": {},
   "source": [
    "### <font color=blue> **Question 4.** </font><br />\n",
    "Now use the same plotting template (copy from above) and modify to plot your Late2020 data.  In the markdown cell below, describe the differences in the line graphs between 2020 and 2021.  "
   ]
  },
  {
   "cell_type": "code",
   "execution_count": null,
   "metadata": {},
   "outputs": [],
   "source": [
    "# Plot of November - December 2020 COVID data\n",
    "dates = Late2020.column('date').astype('datetime64[s]')\n",
    "...\n",
    "\n",
    "...\n",
    "\n",
    "...\n",
    "# Now plot\n",
    "plt.plot(dates,deaths)\n",
    "plt.gcf().autofmt_xdate()"
   ]
  },
  {
   "cell_type": "markdown",
   "metadata": {},
   "source": [
    "#### <font color=blue> Write your comparison in this markdown cell (double click to edit)</font>\n",
    "\n",
    "..."
   ]
  },
  {
   "cell_type": "code",
   "execution_count": null,
   "metadata": {},
   "outputs": [],
   "source": [
    "check('tests/q4a.py')"
   ]
  },
  {
   "cell_type": "markdown",
   "metadata": {},
   "source": [
    "## 2. Defining functions\n",
    "\n",
    "Let's write a very simple function that converts a proportion to a percentage by multiplying it by 100.  For example, the value of `to_percentage(.5)` should be the number 50.  (No percent sign.)\n",
    "\n",
    "A function definition has a few parts.\n",
    "\n",
    "##### `def`\n",
    "It always starts with `def` (short for **def**ine):\n",
    "\n",
    "    def\n",
    "\n",
    "##### Name\n",
    "Next comes the name of the function.  Let's call our function `to_percentage`.\n",
    "    \n",
    "    def to_percentage\n",
    "\n",
    "##### Signature\n",
    "Next comes something called the *signature* of the function.  This tells Python how many arguments your function should have, and what names you'll use to refer to those arguments in the function's code.  `to_percentage` should take one argument, and we'll call that argument `proportion` since it should be a proportion.\n",
    "    '''\n",
    "    def to_percentage(proportion)\n",
    "    '''\n",
    "\n",
    "We put a colon after the signature to tell Python it's over.\n",
    "\n",
    "    def to_percentage(proportion):\n",
    "\n",
    "##### Documentation\n",
    "Functions can do complicated things, so you should write an explanation of what your function does.  For small functions, this is less important, but it's a good habit to learn from the start.  Conventionally, Python functions are documented by writing a triple-quoted string:\n",
    "\n",
    "    def to_percentage(proportion):\n",
    "        \"\"\"Converts a proportion to a percentage.\"\"\"\n",
    "    \n",
    "    \n",
    "##### Body\n",
    "Now we start writing code that runs when the function is called.  This is called the *body* of the function.  We can write anything we could write anywhere else.  First let's give a name to the number we multiply a proportion by to get a percentage. Note that all of the lines of code in the body of the function must be indented by the same amount, typically four spaces. Python knows it has reached the end of the function when the indentation stops.\n",
    "\n",
    "    def to_percentage(proportion):\n",
    "        \"\"\"Converts a proportion to a percentage.\"\"\"\n",
    "        factor = 100\n",
    "\n",
    "##### `return`\n",
    "The special instruction `return` in a function's body tells Python to make the value of the function call equal to whatever comes right after `return`. The function will *return* that value to the main body of the code. We want the value of `to_percentage(.5)` to be the proportion .5 times the factor 100, so we write:\n",
    "\n",
    "    def to_percentage(proportion):\n",
    "        \"\"\"Converts a proportion to a percentage.\"\"\"\n",
    "        factor = 100\n",
    "        return proportion * factor"
   ]
  },
  {
   "cell_type": "markdown",
   "metadata": {},
   "source": [
    "### <font color=blue> **Question 5.** </font>\n",
    "\n",
    "Define `to_percentage` in the cell below.  Call your function to convert the proportion .2 to a percentage.  Name that percentage `twenty_percent`."
   ]
  },
  {
   "cell_type": "code",
   "execution_count": null,
   "metadata": {},
   "outputs": [],
   "source": [
    "def ...\n",
    "    \"\"\" ... \"\"\"\n",
    "    ... = ...\n",
    "    return ...\n",
    "\n",
    "twenty_percent = ...\n",
    "twenty_percent"
   ]
  },
  {
   "cell_type": "code",
   "execution_count": null,
   "metadata": {},
   "outputs": [],
   "source": [
    "check('tests/q5a.py')"
   ]
  },
  {
   "cell_type": "code",
   "execution_count": null,
   "metadata": {},
   "outputs": [],
   "source": []
  },
  {
   "cell_type": "markdown",
   "metadata": {},
   "source": [
    "### <font color=blue> **Question 6.** </font>\n",
    "\n",
    "Now define another function which takes the ratio of two number and then uses the *'to_percentage'* function above to convert it into a percentage. One issue is when the denominator is zero we get a result which is not a number or `nan` in Python. This can be changed to a zero as a place holder with a little trick shown below that can be incorporated as two lines of your code."
   ]
  },
  {
   "cell_type": "code",
   "execution_count": null,
   "metadata": {},
   "outputs": [],
   "source": [
    "# First approach to deal with dividing by zero\n",
    "from math import nan\n",
    "\n",
    "z = nan\n",
    "print(\"First: \", z)\n",
    "# Use this part in your function\n",
    "if z != z:  # if conditional statement\n",
    "    z = 0\n",
    "# Up to here\n",
    "print(\"Now: \", z)"
   ]
  },
  {
   "cell_type": "code",
   "execution_count": null,
   "metadata": {},
   "outputs": [],
   "source": [
    "# Now your function...\n",
    "def ratio(x1,x2):\n",
    "    \"\"\" Computes a ratio of x1 to x2 \"\"\"\n",
    "    ...\n",
    "    r = to_percentage(z)\n",
    "    return r"
   ]
  },
  {
   "cell_type": "code",
   "execution_count": null,
   "metadata": {},
   "outputs": [],
   "source": [
    "check('tests/q6a.py')"
   ]
  },
  {
   "cell_type": "markdown",
   "metadata": {},
   "source": [
    "### COVID cases leading to bad outcomes\n",
    "Now we will apply the function to our COVID data. Here we will need to use the *with_columns* method of a Table object to add the result of applying the ratio function with two columns as arguments. These columns will be *deaths* and *cases*. The percentage return by the function will create a new column.<br>\n",
    "<br>See Inferential Thinking 8.1.1 for inspiration: <br> https://inferentialthinking.com/chapters/08/1/Applying_a_Function_to_a_Column.html"
   ]
  },
  {
   "cell_type": "markdown",
   "metadata": {},
   "source": [
    "### <font color=blue> **Question 7.** </font> \n",
    "\n",
    "Now apply your function to create a new column, *deathrate*. Examine the histogram for deathrate. Now plot the trend for *deathrate* for the entire timeperiod of the dataset. Remember the special codes from above to define the x ('date') and y ('deathrate') data to plot. Discuss the results in the markdown cell below."
   ]
  },
  {
   "cell_type": "code",
   "execution_count": null,
   "metadata": {},
   "outputs": [],
   "source": [
    "COVID = COVID.with_columns(\"deathrate\",...).sort(\"deathrate\")\n",
    "# Check that there are no nan...\n",
    "COVID"
   ]
  },
  {
   "cell_type": "code",
   "execution_count": null,
   "metadata": {},
   "outputs": [],
   "source": [
    "# Histogram\n",
    "..."
   ]
  },
  {
   "cell_type": "code",
   "execution_count": null,
   "metadata": {},
   "outputs": [],
   "source": [
    "# Plot\n",
    "# Be sure to re-sort data by date, the plot connect subsequent data points\n",
    "...\n",
    "# Input Data to plot\n",
    "dates = COVID.column('date')  \n",
    "deathrate = COVID.column('deathrate') \n",
    "# mdates does the trick!\n",
    "## USE DATE PLOTTING CODE TEMPLATE HERE ###\n",
    "import matplotlib.dates as mdates\n",
    "...\n",
    "...\n"
   ]
  },
  {
   "cell_type": "markdown",
   "metadata": {},
   "source": [
    "#### <font color=blue> Your discussion of results from question 7 in this markdown cell (double click to edit)</font>\n",
    "\n",
    " <font color='blue'>.............</font>"
   ]
  },
  {
   "cell_type": "code",
   "execution_count": null,
   "metadata": {},
   "outputs": [],
   "source": [
    "check('tests/q7a.py')"
   ]
  },
  {
   "cell_type": "markdown",
   "metadata": {},
   "source": [
    "### <font color=blue> **Question 8.** </font>\n",
    "\n",
    "At the end of each lab, please include a reflection. \n",
    "* How did this lab go? \n",
    "* What aspects of visualization or functions do you find confusing?\n",
    "* Were there questions you found especially challenging you would like your instructor to review in class? \n",
    "* How long did the lab take you to complete?\n",
    "\n",
    "Share your feedback so we can continue to improve this class!\n",
    "\n",
    "**Insert a markdown cell below this one and write your reflection on this lab.**"
   ]
  },
  {
   "cell_type": "markdown",
   "metadata": {},
   "source": [
    "**Congratulations** , you're done with lab 4! Be sure to\n",
    "run all the tests and verify that they all pass (the next cell has a shortcut for that),\n",
    "Save and Checkpoint from the File menu\n",
    "Run the last two cells for partial grading. Comments and markdown will be graded separately. "
   ]
  },
  {
   "cell_type": "code",
   "execution_count": null,
   "metadata": {},
   "outputs": [],
   "source": [
    "# For your convenience, you can run this cell to run all the tests at once!\n",
    "import glob\n",
    "from gofer.ok import check\n",
    "correct = 0\n",
    "for x in range(1, 8):\n",
    "    print('Testing question {}: '.format(str(x)))\n",
    "    g = check('tests/q{}a.py'.format(str(x)))\n",
    "    if g.grade == 1.0:\n",
    "        print(\"Passed\")\n",
    "        correct += 1\n",
    "    else:\n",
    "        print('Failed')\n",
    "        display(g)\n",
    "\n",
    "print('Grade:  {}'.format(str(correct/7)))"
   ]
  },
  {
   "cell_type": "code",
   "execution_count": null,
   "metadata": {},
   "outputs": [],
   "source": [
    "print(\"Nice work \",name)\n",
    "import time;\n",
    "localtime = time.asctime( time.localtime(time.time()) )\n",
    "print(\"Submitted @ \", localtime)"
   ]
  }
 ],
 "metadata": {
  "kernelspec": {
   "display_name": "Python 3 (ipykernel)",
   "language": "python",
   "name": "python3"
  },
  "language_info": {
   "codemirror_mode": {
    "name": "ipython",
    "version": 3
   },
   "file_extension": ".py",
   "mimetype": "text/x-python",
   "name": "python",
   "nbconvert_exporter": "python",
   "pygments_lexer": "ipython3",
   "version": "3.9.12"
  }
 },
 "nbformat": 4,
 "nbformat_minor": 4
}
