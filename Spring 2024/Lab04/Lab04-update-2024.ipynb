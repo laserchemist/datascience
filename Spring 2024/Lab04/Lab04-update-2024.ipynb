{
 "cells": [
  {
   "cell_type": "markdown",
   "metadata": {},
   "source": [
    "# Lab 04 Functions and Visualization\n",
    "\n",
    "<i>Elements of Data Science</i><br><br>\n",
    "Welcome to lab 4!\n",
    "This week, we will focus on functions and visualization. <br>Functions are described in [Chapter 8](https://inferentialthinking.com/chapters/08/Functions_and_Tables.html) of the Inferential Thinking text. <br>Visualizations is covered in [Chapter 7](https://inferentialthinking.com/chapters/07/Visualization.html).\n",
    "<br>**<center>Learning Goals**\n",
    "|Area|Concept|\n",
    "|---|---|\n",
    "|Tables|Load and analyze data sets. |\n",
    "|Time Trends|Using EDS module to examine and plot time trends in datascience Tables|\n",
    "|Visualization|Line plot and scatter plots using matplotlib and `EDS.ptrend`\n",
    "|Functions|Learn to define your own functions and apply them to arrays and Table columns|"
   ]
  },
  {
   "cell_type": "markdown",
   "metadata": {},
   "source": [
    "First, set up the tests and imports by running the cell below."
   ]
  },
  {
   "cell_type": "code",
   "execution_count": null,
   "metadata": {},
   "outputs": [],
   "source": [
    "# Enter your name as a string\n",
    "name = ..."
   ]
  },
  {
   "cell_type": "code",
   "execution_count": null,
   "metadata": {},
   "outputs": [],
   "source": [
    "import numpy as np\n",
    "from datascience import *\n",
    "%matplotlib inline\n",
    "import matplotlib.pyplot as plt\n",
    "plt.style.use('fivethirtyeight')\n",
    "import matplotlib.dates as mdates\n",
    "from matplotlib import ticker\n",
    "from gofer.ok import check # This line loads the tests.\n",
    "import os\n",
    "user = os.getenv('JUPYTERHUB_USER')\n",
    "import EDS"
   ]
  },
  {
   "cell_type": "markdown",
   "metadata": {},
   "source": [
    "### Let's explore the most recent COVID data from the New York Times\n",
    "This data is updated and stored at GitHub: https://github.com/nytimes/covid-19-data <br>\n",
    "US rolling average: https://raw.githubusercontent.com/nytimes/covid-19-data/master/rolling-averages/us.csv <br>\n",
    "US States rolling average: https://raw.githubusercontent.com/nytimes/covid-19-data/master/rolling-averages/us-states.csv <br>\n",
    "US Wastewater Surveillance: [https://covid.cdc.gov/covid-data-tracker/#wastewater-surveillance](https://covid.cdc.gov/covid-data-tracker/#wastewater-surveillance) "
   ]
  },
  {
   "cell_type": "code",
   "execution_count": null,
   "metadata": {},
   "outputs": [],
   "source": [
    "COVID_data = 'https://raw.githubusercontent.com/nytimes/covid-19-data/master/rolling-averages/us.csv'\n",
    "COVID=Table.read_table(COVID_data)"
   ]
  },
  {
   "cell_type": "markdown",
   "metadata": {},
   "source": [
    "Now we can sort the data by date. Since the data starts at the beginning of the pandemic we see very few cases."
   ]
  },
  {
   "cell_type": "code",
   "execution_count": null,
   "metadata": {},
   "outputs": [],
   "source": [
    "COVID.sort(\"date\",descending=False) # Display oldest data first"
   ]
  },
  {
   "cell_type": "markdown",
   "metadata": {},
   "source": [
    "Try sorting the data by cases to find the date with the highest number of cases. Hint: use the above code as a model and replace the \"date\" with \"cases\" and adjust the descending=? to get the largest number at the top."
   ]
  },
  {
   "cell_type": "code",
   "execution_count": null,
   "metadata": {},
   "outputs": [],
   "source": [
    "COVID.sort(...)"
   ]
  },
  {
   "cell_type": "markdown",
   "metadata": {},
   "source": [
    "### <font color=blue> **What do you observe?** </font>"
   ]
  },
  {
   "cell_type": "markdown",
   "metadata": {},
   "source": []
  },
  {
   "cell_type": "markdown",
   "metadata": {},
   "source": [
    "### Use where to select data from November - December 2021\n",
    "Here are the possible arguments for the <i>where</i> Table method:<br>\n",
    "\n",
    "|Predicate|Example|Result|\n",
    "|-|-|-|\n",
    "|`are.equal_to`|`are.equal_to(50)`|Find rows with values equal to 50|\n",
    "|`are.not_equal_to`|`are.not_equal_to(50)`|Find rows with values not equal to 50|\n",
    "|`are.above`|`are.above(50)`|Find rows with values above (and not equal to) 50|\n",
    "|`are.above_or_equal_to`|`are.above_or_equal_to(50)`|Find rows with values above 50 or equal to 50|\n",
    "|`are.below`|`are.below(50)`|Find rows with values below 50|\n",
    "|`are.between`|`are.between(2, 10)`|Find rows with values above or equal to 2 and below 10|"
   ]
  },
  {
   "cell_type": "code",
   "execution_count": null,
   "metadata": {},
   "outputs": [],
   "source": [
    "COVID.where(\"deaths\",are.between(0,1))"
   ]
  },
  {
   "cell_type": "markdown",
   "metadata": {},
   "source": [
    "One way to select a particular date we can use where with the appropriate strings to select certain dates, for example for January of 2021 we can use the below code."
   ]
  },
  {
   "cell_type": "code",
   "execution_count": null,
   "metadata": {},
   "outputs": [],
   "source": [
    "COVID.where('date', are.containing(\"2021\")).where('date', are.containing(\"-01-\"))"
   ]
  },
  {
   "cell_type": "markdown",
   "metadata": {},
   "source": [
    "#### Time Trends and Dates with Data Science Tables"
   ]
  },
  {
   "cell_type": "markdown",
   "metadata": {},
   "source": [
    "We will use the EDS module to handle dates in Tables. There are two tasks.\n",
    "1. Filter the Table between two dates, use `EDS.FilterTdate(tbl_variable,'01/01/2020','02/01/2021')`\n",
    "2. Plot a time trend using EDS, use `ptrend(tbl_variable,\"date\",\"deaths_avg_per_100k\",fmtdate=\"%b-%Y\")`"
   ]
  },
  {
   "cell_type": "markdown",
   "metadata": {},
   "source": [
    "##### Examples\n",
    "Using the 5 year Google Trend search volume for Chemistry, Biology, and Nobel Prize"
   ]
  },
  {
   "cell_type": "code",
   "execution_count": null,
   "metadata": {},
   "outputs": [],
   "source": [
    "Nobel = Table().read_table(\"ChemBioNobelTrend.csv\") # 5 years data\n",
    "Nobel"
   ]
  },
  {
   "cell_type": "markdown",
   "metadata": {},
   "source": [
    "Filter for Semptember-December 2020"
   ]
  },
  {
   "cell_type": "code",
   "execution_count": null,
   "metadata": {},
   "outputs": [],
   "source": [
    "Nobel_October = EDS.FilterTdate(Nobel,'10/01/2020','10/31/2021')"
   ]
  },
  {
   "cell_type": "code",
   "execution_count": null,
   "metadata": {},
   "outputs": [],
   "source": [
    "EDS.ptrend(Nobel_October,\"Week\",\"Nobel Prize: (United States)\",fmtdate=\"%b-%Y\")"
   ]
  },
  {
   "cell_type": "markdown",
   "metadata": {
    "tags": []
   },
   "source": [
    "### <font color=blue> **Question 1. Tools for examining time trend data** </font>\n",
    "In preparing to look at COVID data we will first plot Chemistry and Biology [Google Trend](https://trends.google.com/trends/) search volumes for the five year period included in the Nobel data above. The Google Trend data gives the relative search volume as a function of day or week over a time period. An example of Google Trend data is searching for the trend of Turkey, Thanksgiving and Football as shown below.\n",
    "\n",
    "<img src=\"./turkey_trend.png\" style=\"height: 300px;\"/>\n",
    "Examine this data for the Nobel prize and Biology. Nobel prizes are announced early October annually and awarded December 10 at 7:00 AM in honor of Alfred Nobel's death."
   ]
  },
  {
   "cell_type": "markdown",
   "metadata": {},
   "source": [
    "**Chemistry**"
   ]
  },
  {
   "cell_type": "code",
   "execution_count": null,
   "metadata": {},
   "outputs": [],
   "source": [
    "EDS.ptrend(Nobel,\"Week\",...,fmtdate=\"%b-%Y\")"
   ]
  },
  {
   "cell_type": "markdown",
   "metadata": {},
   "source": [
    "**Biology**"
   ]
  },
  {
   "cell_type": "code",
   "execution_count": null,
   "metadata": {},
   "outputs": [],
   "source": [
    "EDS.ptrend(...)"
   ]
  },
  {
   "cell_type": "markdown",
   "metadata": {},
   "source": [
    "Next we will create a new table which is subset of the original Table containing only data for 2023."
   ]
  },
  {
   "cell_type": "code",
   "execution_count": null,
   "metadata": {},
   "outputs": [],
   "source": [
    "Nobel_2023 = EDS.FilterTdate(Nobel,'01/01/2023','12/31/2023')\n",
    "Nobel_2023"
   ]
  },
  {
   "cell_type": "markdown",
   "metadata": {},
   "source": [
    "**Biology in 2023**\n",
    "Now plot the data just for 2023 using the new table `Nobel_2023`"
   ]
  },
  {
   "cell_type": "code",
   "execution_count": null,
   "metadata": {},
   "outputs": [],
   "source": [
    "testcheck = EDS.ptrend(...,...,...,fmtdate=\"%b-%Y\")"
   ]
  },
  {
   "cell_type": "code",
   "execution_count": null,
   "metadata": {},
   "outputs": [],
   "source": [
    "check('tests/q1new.py')"
   ]
  },
  {
   "cell_type": "markdown",
   "metadata": {},
   "source": [
    "### <font color=blue> **Question 2. Back to COVID Data Analysis** </font><br />\n",
    "Now let's create and look at late 2023 COVID data. Now use the Nobel example above to define a subset of the data to examine trends during all of November and December of 2021."
   ]
  },
  {
   "cell_type": "code",
   "execution_count": null,
   "metadata": {},
   "outputs": [],
   "source": [
    "COVID # Complete COVID data from above"
   ]
  },
  {
   "cell_type": "code",
   "execution_count": null,
   "metadata": {},
   "outputs": [],
   "source": [
    "Late2021 = EDS.FilterTdate(...)\n",
    "Late2021"
   ]
  },
  {
   "cell_type": "code",
   "execution_count": null,
   "metadata": {},
   "outputs": [],
   "source": [
    "check('tests/q2new.py')"
   ]
  },
  {
   "cell_type": "markdown",
   "metadata": {},
   "source": [
    "### Plot\n",
    "If we attempt to plot using the 'date' column the bottom axis has starnge numbers which are multiplied by 1e9 ($1\\cdot 10^9$) as shown in the lower right corner of the plot. These are the number of seconds from the epoch (January 1, 1970).  Another name for this time unit is UNIX time which has an [interesting history](https://en.wikipedia.org/wiki/Unix_time#:~:text=History,-Learn%20more&text=The%20earliest%20versions%20of%20Unix,two%20and%20a%20quarter%20years.). This unit of time is a way that is convenient for computers to store time as an integer but not at all convenient for us as data scientists! Using the `EDS.ptrend` function will alleviate this problem."
   ]
  },
  {
   "cell_type": "code",
   "execution_count": null,
   "metadata": {},
   "outputs": [],
   "source": [
    "Late2021.plot(\"date\", \"cases_avg_per_100k\")"
   ]
  },
  {
   "cell_type": "markdown",
   "metadata": {},
   "source": [
    "#### Now use EDS.ptrend"
   ]
  },
  {
   "cell_type": "code",
   "execution_count": null,
   "metadata": {},
   "outputs": [],
   "source": [
    "EDS.ptrend(Late2021,\"date\",\"cases_avg_per_100k\",fmtdate=\"%b-%Y\")"
   ]
  },
  {
   "cell_type": "markdown",
   "metadata": {},
   "source": [
    "#### Now change format to get days\n",
    "This is in the last part, `fmtdate=\"%b-%Y\"` This type of format string is common in coding and this particular one relates to a variety of codes for parts of a date.\n",
    "|Code|What|Example|\n",
    "|---|---|---|\n",
    "|%b|Month abbreviated|Dec|\n",
    "|%B|Month|December|\n",
    "|%y|Year abbreviated|24|\n",
    "|%Y|Year|2024|\n",
    "|%d|Day of month|06|\n",
    "|%a|Weekday abbreviated|Fri|\n",
    "|%A|Weekday|Friday|\n",
    "|%j|Day number 001-366|143|\n",
    "|%W|Week number of year|41|\n",
    "|%H|Hour of day (24)|17|\n",
    "|%h|Hour of day (12)|5|\n"
   ]
  },
  {
   "cell_type": "markdown",
   "metadata": {},
   "source": [
    "**Now get ptrend to plot using month-day-year format**. This is helpful since we are now only looking at two months, the day becomes more important."
   ]
  },
  {
   "cell_type": "code",
   "execution_count": null,
   "metadata": {},
   "outputs": [],
   "source": [
    "EDS.ptrend(Late2021,\"date\",\"cases_avg_per_100k\",fmtdate=\"...\")"
   ]
  },
  {
   "cell_type": "markdown",
   "metadata": {
    "tags": []
   },
   "source": [
    "#### Plot with Plotly\n",
    "There are many plotting packages available for Python. The two main ones we will using in this class are matplotlib and plotly. Matplotlib is preferable for creating plots you plan to print out on paper, such as for a handout or journal article. Plotly is great for producing plots that are interactive, such as for embedding in a webpage. \n",
    "\n",
    "[Plotly](https://plotly.com/python/) is an alternative to matplotlib that has become a mainstay in visualizing data when you want interactive plots but can become very slow when datasets have thousands of points. The plotly figure can be saved by clicking on the camera icon in the upper right corner of the figure."
   ]
  },
  {
   "cell_type": "code",
   "execution_count": null,
   "metadata": {},
   "outputs": [],
   "source": [
    "import plotly.express as px\n",
    "\n",
    "series1 = Late2021.column('cases_avg_per_100k')\n",
    "date = Late2021.column('date')\n",
    "fig = px.line(x=date, y=[series1])\n",
    "\n",
    "fig.show()"
   ]
  },
  {
   "cell_type": "markdown",
   "metadata": {},
   "source": [
    "Converting the date column to a new data type, datetime64[s], gives the plot correctly formatted dates"
   ]
  },
  {
   "cell_type": "code",
   "execution_count": null,
   "metadata": {},
   "outputs": [],
   "source": [
    "import plotly.express as px\n",
    "\n",
    "series1 = Late2021.column('cases_avg_per_100k')\n",
    "date = Late2021.column('date').astype('datetime64[s]') # Using the retyping of the column which is a nump array\n",
    "fig = px.line(x=date, y=[series1])\n",
    "\n",
    "fig.show()"
   ]
  },
  {
   "cell_type": "markdown",
   "metadata": {},
   "source": [
    "### Histogram\n",
    "Many of the matplotlib plot are available as methods availabe to data tables. A histogram method, for example, is realized by appending .hist('column name')"
   ]
  },
  {
   "cell_type": "code",
   "execution_count": null,
   "metadata": {},
   "outputs": [],
   "source": [
    "Late2021.hist('deaths')"
   ]
  },
  {
   "cell_type": "markdown",
   "metadata": {},
   "source": [
    "We can also access summary statistics for the datascience table"
   ]
  },
  {
   "cell_type": "code",
   "execution_count": null,
   "metadata": {},
   "outputs": [],
   "source": [
    "Late2021.stats()"
   ]
  },
  {
   "cell_type": "markdown",
   "metadata": {},
   "source": [
    "### <font color=blue> **Question 3.** </font><br />\n",
    "Construct a histogram and stats for November - December 2020 and compare this to those from November - December 2021 in a markdown cell below the histogram and statistics."
   ]
  },
  {
   "cell_type": "code",
   "execution_count": null,
   "metadata": {},
   "outputs": [],
   "source": [
    "Late2020 = ...\n",
    "Late2020"
   ]
  },
  {
   "cell_type": "markdown",
   "metadata": {},
   "source": [
    "The `.hist()` Table method has additional arguments to get more bins and change the range for the histogram among other arguments as shown below."
   ]
  },
  {
   "cell_type": "code",
   "execution_count": 22,
   "metadata": {},
   "outputs": [
    {
     "data": {
      "image/png": "[encoded data removed]",
      "text/plain": [
       "<Figure size 432x288 with 1 Axes>"
      ]
     },
     "metadata": {},
     "output_type": "display_data"
    },
    {
     "data": {
      "image/png": "[encoded data removed]",
      "text/plain": [
       "<Figure size 432x288 with 1 Axes>"
      ]
     },
     "metadata": {},
     "output_type": "display_data"
    }
   ],
   "source": [
    "Late2020.hist('deaths',bins = 30, range =[0,4000])\n",
    "Late2021.hist('deaths', bins = 30, range =[0,4000])"
   ]
  },
  {
   "cell_type": "markdown",
   "metadata": {},
   "source": [
    "#### <font color=blue> Write your comparison between Late2020 and Late2021 histograms in this markdown cell (double click to edit) </font>\n",
    "\n",
    "..."
   ]
  },
  {
   "cell_type": "code",
   "execution_count": null,
   "metadata": {},
   "outputs": [],
   "source": [
    "check('tests/q3a.py')"
   ]
  },
  {
   "cell_type": "markdown",
   "metadata": {},
   "source": [
    "### <font color=blue> **Question 4.** </font><br />\n",
    "Now use the EDS.ptrend() function plot your Late2020 data and then the Late2020.  In the markdown cell below, describe the differences in the line graphs between 2020 and 2021.  "
   ]
  },
  {
   "cell_type": "code",
   "execution_count": null,
   "metadata": {},
   "outputs": [],
   "source": []
  },
  {
   "cell_type": "markdown",
   "metadata": {},
   "source": [
    "#### <font color=blue> Write your comparison in this markdown cell (double click to edit)</font>\n",
    "\n",
    "..."
   ]
  },
  {
   "cell_type": "code",
   "execution_count": null,
   "metadata": {},
   "outputs": [],
   "source": [
    "check('tests/q4a.py')"
   ]
  },
  {
   "cell_type": "markdown",
   "metadata": {},
   "source": [
    "## 2. Defining functions\n",
    "\n",
    "Let's write a very simple function that converts a proportion to a percentage by multiplying it by 100.  For example, the value of `to_percentage(.5)` should be the number 50.  (No percent sign.)\n",
    "\n",
    "A function definition has a few parts.\n",
    "\n",
    "##### `def`\n",
    "It always starts with `def` (short for **def**ine):\n",
    "\n",
    "    def\n",
    "\n",
    "##### Name\n",
    "Next comes the name of the function.  Let's call our function `to_percentage`.\n",
    "    \n",
    "    def to_percentage\n",
    "\n",
    "##### Signature\n",
    "Next comes something called the *signature* of the function.  This tells Python how many arguments your function should have, and what names you'll use to refer to those arguments in the function's code.  `to_percentage` should take one argument, and we'll call that argument `proportion` since it should be a proportion.\n",
    "    '''\n",
    "    def to_percentage(proportion)\n",
    "    '''\n",
    "\n",
    "We put a colon after the signature to tell Python it's over.\n",
    "\n",
    "    def to_percentage(proportion):\n",
    "\n",
    "##### Documentation\n",
    "Functions can do complicated things, so you should write an explanation of what your function does.  For small functions, this is less important, but it's a good habit to learn from the start.  Conventionally, Python functions are documented by writing a triple-quoted string:\n",
    "\n",
    "    def to_percentage(proportion):\n",
    "        \"\"\"Converts a proportion to a percentage.\"\"\"\n",
    "    \n",
    "    \n",
    "##### Body\n",
    "Now we start writing code that runs when the function is called.  This is called the *body* of the function.  We can write anything we could write anywhere else.  First let's give a name to the number we multiply a proportion by to get a percentage. Note that all of the lines of code in the body of the function must be indented by the same amount, typically four spaces. Python knows it has reached the end of the function when the indentation stops.\n",
    "\n",
    "    def to_percentage(proportion):\n",
    "        \"\"\"Converts a proportion to a percentage.\"\"\"\n",
    "        factor = 100\n",
    "\n",
    "##### `return`\n",
    "The special instruction `return` in a function's body tells Python to make the value of the function call equal to whatever comes right after `return`. The function will *return* that value to the main body of the code. We want the value of `to_percentage(.5)` to be the proportion .5 times the factor 100, so we write:\n",
    "\n",
    "    def to_percentage(proportion):\n",
    "        \"\"\"Converts a proportion to a percentage.\"\"\"\n",
    "        factor = 100\n",
    "        return proportion * factor"
   ]
  },
  {
   "cell_type": "markdown",
   "metadata": {},
   "source": [
    "### <font color=blue> **Question 5.** </font>\n",
    "\n",
    "Define `to_percentage` in the cell below.  Call your function to convert the proportion 0.20 to a percentage.  Name that percentage `twenty_percent`."
   ]
  },
  {
   "cell_type": "code",
   "execution_count": null,
   "metadata": {},
   "outputs": [],
   "source": [
    "def ...\n",
    "    \"\"\" ... \"\"\"\n",
    "    ... = ...\n",
    "    return ..."
   ]
  },
  {
   "cell_type": "code",
   "execution_count": null,
   "metadata": {},
   "outputs": [],
   "source": [
    "twenty_percent = ...\n",
    "twenty_percent"
   ]
  },
  {
   "cell_type": "code",
   "execution_count": null,
   "metadata": {},
   "outputs": [],
   "source": [
    "check('tests/q5a.py')"
   ]
  },
  {
   "cell_type": "markdown",
   "metadata": {},
   "source": [
    "Write a second function which computes the density of an ideal gas off a given molecular weight, temperature, pressure. \n",
    "$$ PV = nRT $$\n",
    "$$ \\frac{n}{V} = \\frac{P}{RT} $$\n",
    "To convert to grams from number of moles we use the molecular mass, $ M $. <br>Water has a molecular mass of $ M = 18.0 \\frac{g}{mol}$ <br>\n",
    "density is given the symbol $\\rho $ and has units of $ \\frac{g}{L} $ <br><br>\n",
    "$$  \\rho = \\frac{M\\cdot P}{R\\cdot T} $$\n",
    "\n"
   ]
  },
  {
   "cell_type": "code",
   "execution_count": null,
   "metadata": {},
   "outputs": [],
   "source": [
    "def density(P, T, M):\n",
    "    \"\"\"  ...    \"\"\"   \n",
    "    R = 0.082057\n",
    "    ...\n",
    "    ...\n",
    "    return ..."
   ]
  },
  {
   "cell_type": "code",
   "execution_count": null,
   "metadata": {},
   "outputs": [],
   "source": [
    "density(...,...,...)"
   ]
  },
  {
   "cell_type": "markdown",
   "metadata": {},
   "source": [
    "Test the function by calculating the density of water vapor (gas, $ M = 18.0 \\frac{g}{mol}$ ) at 1 atm and 298 K. R is the gas constant.<br> $$ R = 0.082057 $$"
   ]
  },
  {
   "cell_type": "code",
   "execution_count": null,
   "metadata": {},
   "outputs": [],
   "source": []
  },
  {
   "cell_type": "markdown",
   "metadata": {},
   "source": [
    "Now create an array with temperatures in Kelvin from freezing, 273.15, to 313 (40 $\\degree$ C) in 1.0 degree steps With the array, create a new array using the above `density` function. Use a scatter plot of these arrays."
   ]
  },
  {
   "cell_type": "code",
   "execution_count": null,
   "metadata": {},
   "outputs": [],
   "source": []
  },
  {
   "cell_type": "code",
   "execution_count": null,
   "metadata": {},
   "outputs": [],
   "source": [
    "check('tests/q5b.py')"
   ]
  },
  {
   "cell_type": "markdown",
   "metadata": {},
   "source": [
    "Matplotlib can generate a variety of figures and given how we initialize it in this lab is referenced with the plt. prefix. The traditional .plot() is also known as a line plot. A scatter plot is useful for exploring the relationship bewteen two or more variables and uses markers for data points. Matplotlib takes one or more numpy arrays as arguments to plot. Matplotlib can also use lists as arguments.  An example is shown below."
   ]
  },
  {
   "cell_type": "code",
   "execution_count": null,
   "metadata": {},
   "outputs": [],
   "source": [
    "x = np.array([3, 8, 5, 6, 1, 9, 6, 7, 2, 1, 8])\n",
    "y = np.array([4, 5, 2, 4, 6, 1, 4, 6, 5, 2, 3])\n",
    "color = \"red\"\n",
    "plt.scatter(x, y, c = color, label = color)"
   ]
  },
  {
   "cell_type": "markdown",
   "metadata": {},
   "source": [
    "Same scatter plot with lists:"
   ]
  },
  {
   "cell_type": "code",
   "execution_count": null,
   "metadata": {},
   "outputs": [],
   "source": [
    "x = [3, 8, 5, 6, 1, 9, 6, 7, 2, 1, 8]\n",
    "y = [4, 5, 2, 4, 6, 1, 4, 6, 5, 2, 3]\n",
    "color = \"orange\"\n",
    "plt.scatter(x, y, c = color, label = color)"
   ]
  },
  {
   "cell_type": "markdown",
   "metadata": {},
   "source": [
    "Use the same approach to plot the density computer with your function versus the temperature. Hint: you can use list comprehension to create a list with densities for given temperatures."
   ]
  },
  {
   "cell_type": "code",
   "execution_count": null,
   "metadata": {},
   "outputs": [],
   "source": []
  },
  {
   "cell_type": "code",
   "execution_count": null,
   "metadata": {},
   "outputs": [],
   "source": []
  },
  {
   "cell_type": "code",
   "execution_count": null,
   "metadata": {},
   "outputs": [],
   "source": [
    "plt.scatter(..., ...)"
   ]
  },
  {
   "cell_type": "markdown",
   "metadata": {},
   "source": [
    "### <font color=blue> **Question 6.** </font>\n",
    "\n",
    "Now define another function which takes the ratio of two number and then uses the *'to_percentage'* function above to convert it into a percentage. One issue is when the denominator is zero we get a result which is not a number or `nan` in Python. This can be changed to a zero as a place holder with a little trick shown below that can be incorporated as two lines of your code."
   ]
  },
  {
   "cell_type": "code",
   "execution_count": null,
   "metadata": {},
   "outputs": [],
   "source": [
    "# First approach to deal with dividing by zero\n",
    "from math import nan\n",
    "\n",
    "z = nan\n",
    "print(\"First: \", z)\n",
    "# Use this part in your function\n",
    "if z != z:  # if conditional statement\n",
    "    z = 0\n",
    "# Up to here\n",
    "print(\"Now: \", z)"
   ]
  },
  {
   "cell_type": "code",
   "execution_count": null,
   "metadata": {},
   "outputs": [],
   "source": [
    "# Now your function...\n",
    "def ratio(x1,x2):\n",
    "    \"\"\" Computes a ratio of x1 to x2 \"\"\"\n",
    "    ...\n",
    "    r = to_percentage(z)\n",
    "    return r"
   ]
  },
  {
   "cell_type": "code",
   "execution_count": null,
   "metadata": {},
   "outputs": [],
   "source": [
    "check('tests/q6a.py')"
   ]
  },
  {
   "cell_type": "markdown",
   "metadata": {},
   "source": [
    "### COVID cases leading to bad outcomes\n",
    "Now we will apply the function to our COVID data. Here we will need to use the *with_columns* method of a Table object to add the result of applying the ratio function with two columns as arguments. These columns will be *deaths* and *cases*. The percentage return by the function will create a new column.<br>\n",
    "<br>See Inferential Thinking 8.1.1 for inspiration: <br> https://inferentialthinking.com/chapters/08/1/Applying_a_Function_to_a_Column.html"
   ]
  },
  {
   "cell_type": "markdown",
   "metadata": {},
   "source": [
    "### <font color=blue> **Question 7.** </font> \n",
    "\n",
    "Now apply your function to create a new column, *deathrate*. Examine the histogram for deathrate. Now plot the trend for *deathrate* for the entire timeperiod of the dataset. Remember the special codes from above to define the x ('date') and y ('deathrate') data to plot. Discuss the results in the markdown cell below."
   ]
  },
  {
   "cell_type": "code",
   "execution_count": null,
   "metadata": {},
   "outputs": [],
   "source": [
    "COVID = COVID.with_columns(\"deathrate\",...).sort(\"deathrate\")\n",
    "# Check that there are no nan...\n",
    "COVID"
   ]
  },
  {
   "cell_type": "code",
   "execution_count": null,
   "metadata": {},
   "outputs": [],
   "source": [
    "# Histogram\n",
    "..."
   ]
  },
  {
   "cell_type": "markdown",
   "metadata": {},
   "source": [
    "Use `EDS.ptrend()` to plot the deathrate."
   ]
  },
  {
   "cell_type": "code",
   "execution_count": null,
   "metadata": {},
   "outputs": [],
   "source": []
  },
  {
   "cell_type": "markdown",
   "metadata": {},
   "source": [
    "#### <font color=blue> Your discussion of results from question 7 in this markdown cell (double click to edit)</font>\n",
    "\n",
    " <font color='blue'>.............</font>"
   ]
  },
  {
   "cell_type": "code",
   "execution_count": null,
   "metadata": {},
   "outputs": [],
   "source": [
    "check('tests/q7a.py')"
   ]
  },
  {
   "cell_type": "markdown",
   "metadata": {},
   "source": [
    "### <font color=blue> **Question 8.** </font>\n",
    "\n",
    "At the end of each lab, please include a reflection. \n",
    "* How did this lab go? \n",
    "* What aspects of visualization or functions do you find confusing?\n",
    "* Were there questions you found especially challenging you would like your instructor to review in class? \n",
    "* How long did the lab take you to complete?\n",
    "\n",
    "Share your feedback so we can continue to improve this class!\n",
    "\n",
    "**Insert a markdown cell below this one and write your reflection on this lab.**"
   ]
  },
  {
   "cell_type": "markdown",
   "metadata": {},
   "source": [
    "**Congratulations** , you're done with lab 4! Be sure to\n",
    "run all the tests and verify that they all pass (the next cell has a shortcut for that),\n",
    "Save and Checkpoint from the File menu\n",
    "Run the last two cells for partial grading. Comments and markdown will be graded separately. "
   ]
  },
  {
   "cell_type": "code",
   "execution_count": null,
   "metadata": {},
   "outputs": [],
   "source": [
    "# For your convenience, you can run this cell to run all the tests at once!\n",
    "import glob\n",
    "from gofer.ok import check\n",
    "correct = 0\n",
    "for x in ['q1new','q2new','q3a','q4a','q6a', 'q7a'] :\n",
    "    print('Testing question {}: '.format(str(x)))\n",
    "    g = check('tests/{}.py'.format(str(x)))\n",
    "    if g.grade == 1.0:\n",
    "        print(\"Passed\")\n",
    "        correct += 1\n",
    "    else:\n",
    "        print('Failed')\n",
    "        display(g)\n",
    "\n",
    "print('Grade:  {}'.format(str(correct/7)))"
   ]
  },
  {
   "cell_type": "code",
   "execution_count": null,
   "metadata": {},
   "outputs": [],
   "source": [
    "print(\"Nice work \",name, user)\n",
    "import time;\n",
    "localtime = time.asctime( time.localtime(time.time()) )\n",
    "print(\"Submitted @ \", localtime)"
   ]
  }
 ],
 "metadata": {
  "kernelspec": {
   "display_name": "Python 3 (ipykernel)",
   "language": "python",
   "name": "python3"
  },
  "language_info": {
   "codemirror_mode": {
    "name": "ipython",
    "version": 3
   },
   "file_extension": ".py",
   "mimetype": "text/x-python",
   "name": "python",
   "nbconvert_exporter": "python",
   "pygments_lexer": "ipython3",
   "version": "3.9.12"
  }
 },
 "nbformat": 4,
 "nbformat_minor": 4
}
