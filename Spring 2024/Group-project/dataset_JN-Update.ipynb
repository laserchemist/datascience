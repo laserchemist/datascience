{
 "cells": [
  {
   "cell_type": "markdown",
   "metadata": {},
   "source": [
    "# Potential Project Datasets \n",
    "\n",
    "##### Below are some datasets which could be used for the final group project.  Please feel free to find your own datasets as well if you have a particular interest or question.  \n",
    "Some great websites for dataset curation include: \n",
    "\n",
    "1. https://www.kaggle.com/\n",
    "2. https://data.world/\n",
    "3. https://opendata.cern.ch/\n",
    "4. https://www.sciencebase.gov/catalog/\n",
    "5. https://data.neonscience.org/\n",
    "6. https://opendataphilly.org"
   ]
  },
  {
   "cell_type": "code",
   "execution_count": 2,
   "metadata": {},
   "outputs": [],
   "source": [
    "# Import Numpy and Datascience modules.\n",
    "import numpy as np\n",
    "import pandas as pd\n",
    "from datascience import *\n",
    "\n",
    "# Plotting modules\n",
    "import matplotlib\n",
    "%matplotlib inline\n",
    "import matplotlib.pyplot as plt\n",
    "plt.style.use('fivethirtyeight')\n",
    "import warnings\n",
    "warnings.simplefilter('ignore', UserWarning)"
   ]
  },
  {
   "cell_type": "markdown",
   "metadata": {},
   "source": [
    "### Biology Datasets\n",
    "includes: Ecological Footprint, & kidney disease."
   ]
  },
  {
   "cell_type": "markdown",
   "metadata": {},
   "source": [
    "##### Ecological Footprint \n",
    "This dataset measures the amount of ecological resources are used from each country in the years 1961 to 2016.  More information can be found at: https://data.world/footprint/nfa-2019-edition"
   ]
  },
  {
   "cell_type": "code",
   "execution_count": null,
   "metadata": {},
   "outputs": [],
   "source": [
    "url = 'data/NFA 2019 public_data.csv'\n",
    "ecoFootprint = Table.read_table(url)\n",
    "ecoFootprint"
   ]
  },
  {
   "cell_type": "markdown",
   "metadata": {},
   "source": [
    "##### Chronic Kidney Disease \n",
    "More information on columns at: https://archive.ics.uci.edu/ml/datasets/Chronic_Kidney_Disease"
   ]
  },
  {
   "cell_type": "code",
   "execution_count": null,
   "metadata": {},
   "outputs": [],
   "source": [
    "url = 'data/kidney_disease.csv'\n",
    "kidneyDisease = Table.read_table(url)\n",
    "kidneyDisease"
   ]
  },
  {
   "cell_type": "markdown",
   "metadata": {},
   "source": [
    "__________________________"
   ]
  },
  {
   "cell_type": "markdown",
   "metadata": {},
   "source": [
    "### Chemistry Datasets\n",
    "including pKa, High Entropy Alloys, & Periodic Table"
   ]
  },
  {
   "cell_type": "markdown",
   "metadata": {},
   "source": [
    "##### Molecular acid dissociation constant, pKa data\n",
    "See: https://github.com/samplchallenges/SAMPL7/tree/master/physical_property/pKa\n",
    "SMILES is a representaion of chemical structure."
   ]
  },
  {
   "cell_type": "code",
   "execution_count": null,
   "metadata": {},
   "outputs": [],
   "source": [
    "url = \"https://raw.githubusercontent.com/robraddi/GP-SAMPL7/main/pKaDatabase/OChem/ochem0-2000.csv\"\n",
    "pka = Table.read_table(url)\n",
    "pka"
   ]
  },
  {
   "cell_type": "markdown",
   "metadata": {},
   "source": [
    "##### Periodic Table \n",
    "More information on columns: https://www.kaggle.com/datasets/berkayalan/chemical-periodic-table-elements?select=chemical_elements.csv"
   ]
  },
  {
   "cell_type": "code",
   "execution_count": null,
   "metadata": {},
   "outputs": [],
   "source": [
    "url = 'data/chemical_elements.csv'\n",
    "ptdf = pd.read_csv(url, sep = ';')\n",
    "pt = Table.from_df(ptdf)\n",
    "pt"
   ]
  },
  {
   "cell_type": "markdown",
   "metadata": {},
   "source": [
    "##### High Entropy Alloys\n",
    "https://www.sciencedirect.com/science/article/pii/S2352340921006302?via%3Dihub"
   ]
  },
  {
   "cell_type": "code",
   "execution_count": null,
   "metadata": {},
   "outputs": [],
   "source": [
    "url = 'data/high_entropy_alloys.csv'\n",
    "alloys = Table.read_table(url)\n",
    "alloys"
   ]
  },
  {
   "cell_type": "markdown",
   "metadata": {},
   "source": [
    "##### Wine Quality Dataset \n",
    "More information at https://archive.ics.uci.edu/ml/datasets/wine+quality"
   ]
  },
  {
   "cell_type": "markdown",
   "metadata": {},
   "source": [
    "The wine quality dataset can be used to understand which chemical properties contribute to a higher quality wine.\n",
    "<br>Example hypothesis: Wines with higher acidity may have lower quality at present (test) but improve with aging [Wine Enthusiast](https://www.wineenthusiast.com/basics/advanced-studies/what-is-acidity-in-wine/#)."
   ]
  },
  {
   "cell_type": "markdown",
   "metadata": {},
   "source": [
    "Citation Request:\n",
    "  This dataset is public available for research. The details are described in [Cortez et al., 2009]. \n",
    "  Please include this citation if you plan to use this database:\n",
    "\n",
    "  P. Cortez, A. Cerdeira, F. Almeida, T. Matos and J. Reis. \n",
    "  Modeling wine preferences by data mining from physicochemical properties.\n",
    "  In Decision Support Systems, Elsevier, 47(4):547-553. ISSN: 0167-9236.\n",
    "\n",
    "  Available at: [@Elsevier] http://dx.doi.org/10.1016/j.dss.2009.05.016\n",
    "                [Pre-press (pdf)] http://www3.dsi.uminho.pt/pcortez/winequality09.pdf\n",
    "                [bib] http://www3.dsi.uminho.pt/pcortez/dss09.bib\n",
    "\n",
    "1. Title: Wine Quality \n",
    "\n",
    "2. Sources\n",
    "   Created by: Paulo Cortez (Univ. Minho), Antonio Cerdeira, Fernando Almeida, Telmo Matos and Jose Reis (CVRVV) @ 2009\n",
    "   \n",
    "3. Past Usage:\n",
    "\n",
    "  P. Cortez, A. Cerdeira, F. Almeida, T. Matos and J. Reis. \n",
    "  Modeling wine preferences by data mining from physicochemical properties.\n",
    "  In Decision Support Systems, Elsevier, 47(4):547-553. ISSN: 0167-9236.\n",
    "\n",
    "  In the above reference, two datasets were created, using red and white wine samples.\n",
    "  The inputs include objective tests (e.g. PH values) and the output is based on sensory data\n",
    "  (median of at least 3 evaluations made by wine experts). Each expert graded the wine quality \n",
    "  between 0 (very bad) and 10 (very excellent). Several data mining methods were applied to model\n",
    "  these datasets under a regression approach. The support vector machine model achieved the\n",
    "  best results. Several metrics were computed: MAD, confusion matrix for a fixed error tolerance (T),\n",
    "  etc. Also, we plot the relative importances of the input variables (as measured by a sensitivity\n",
    "  analysis procedure).\n",
    " \n",
    "4. Relevant Information:\n",
    "\n",
    "   The two datasets are related to red and white variants of the Portuguese \"Vinho Verde\" wine.\n",
    "   For more details, consult: http://www.vinhoverde.pt/en/ or the reference [Cortez et al., 2009].\n",
    "   Due to privacy and logistic issues, only physicochemical (inputs) and sensory (the output) variables \n",
    "   are available (e.g. there is no data about grape types, wine brand, wine selling price, etc.).\n",
    "\n",
    "   These datasets can be viewed as classification or regression tasks.\n",
    "   The classes are ordered and not balanced (e.g. there are munch more normal wines than\n",
    "   excellent or poor ones). Outlier detection algorithms could be used to detect the few excellent\n",
    "   or poor wines. Also, we are not sure if all input variables are relevant. So\n",
    "   it could be interesting to test feature selection methods. \n",
    "\n",
    "5. Number of Instances: red wine - 1599; white wine - 4898. \n",
    "\n",
    "6. Number of Attributes: 11 + output attribute\n",
    "  \n",
    "   Note: several of the attributes may be correlated, thus it makes sense to apply some sort of\n",
    "   feature selection.\n",
    "\n",
    "7. Attribute information:\n",
    "\n",
    "   For more information, read [Cortez et al., 2009].\n",
    "\n",
    "   Input variables (based on physicochemical tests):\n",
    "   1 - fixed acidity\n",
    "   2 - volatile acidity\n",
    "   3 - citric acid\n",
    "   4 - residual sugar\n",
    "   5 - chlorides\n",
    "   6 - free sulfur dioxide\n",
    "   7 - total sulfur dioxide\n",
    "   8 - density\n",
    "   9 - pH\n",
    "   10 - sulphates\n",
    "   11 - alcohol\n",
    "   Output variable (based on sensory data): \n",
    "   12 - quality (score between 0 and 10)\n",
    "\n",
    "8. Missing Attribute Values: None\n"
   ]
  },
  {
   "cell_type": "code",
   "execution_count": 10,
   "metadata": {},
   "outputs": [
    {
     "data": {
      "text/html": [
       "<table border=\"1\" class=\"dataframe\">\n",
       "    <thead>\n",
       "        <tr>\n",
       "            <th>fixed acidity</th> <th>volatile acidity</th> <th>citric acid</th> <th>residual sugar</th> <th>chlorides</th> <th>free sulfur dioxide</th> <th>total sulfur dioxide</th> <th>density</th> <th>pH</th> <th>sulphates</th> <th>alcohol</th> <th>quality</th> <th>type</th>\n",
       "        </tr>\n",
       "    </thead>\n",
       "    <tbody>\n",
       "        <tr>\n",
       "            <td>7.4          </td> <td>0.7             </td> <td>0          </td> <td>1.9           </td> <td>0.076    </td> <td>11                 </td> <td>34                  </td> <td>0.9978 </td> <td>3.51</td> <td>0.56     </td> <td>9.4    </td> <td>5      </td> <td>red </td>\n",
       "        </tr>\n",
       "        <tr>\n",
       "            <td>7.8          </td> <td>0.88            </td> <td>0          </td> <td>2.6           </td> <td>0.098    </td> <td>25                 </td> <td>67                  </td> <td>0.9968 </td> <td>3.2 </td> <td>0.68     </td> <td>9.8    </td> <td>5      </td> <td>red </td>\n",
       "        </tr>\n",
       "        <tr>\n",
       "            <td>7.8          </td> <td>0.76            </td> <td>0.04       </td> <td>2.3           </td> <td>0.092    </td> <td>15                 </td> <td>54                  </td> <td>0.997  </td> <td>3.26</td> <td>0.65     </td> <td>9.8    </td> <td>5      </td> <td>red </td>\n",
       "        </tr>\n",
       "        <tr>\n",
       "            <td>11.2         </td> <td>0.28            </td> <td>0.56       </td> <td>1.9           </td> <td>0.075    </td> <td>17                 </td> <td>60                  </td> <td>0.998  </td> <td>3.16</td> <td>0.58     </td> <td>9.8    </td> <td>6      </td> <td>red </td>\n",
       "        </tr>\n",
       "        <tr>\n",
       "            <td>7.4          </td> <td>0.7             </td> <td>0          </td> <td>1.9           </td> <td>0.076    </td> <td>11                 </td> <td>34                  </td> <td>0.9978 </td> <td>3.51</td> <td>0.56     </td> <td>9.4    </td> <td>5      </td> <td>red </td>\n",
       "        </tr>\n",
       "        <tr>\n",
       "            <td>7.4          </td> <td>0.66            </td> <td>0          </td> <td>1.8           </td> <td>0.075    </td> <td>13                 </td> <td>40                  </td> <td>0.9978 </td> <td>3.51</td> <td>0.56     </td> <td>9.4    </td> <td>5      </td> <td>red </td>\n",
       "        </tr>\n",
       "        <tr>\n",
       "            <td>7.9          </td> <td>0.6             </td> <td>0.06       </td> <td>1.6           </td> <td>0.069    </td> <td>15                 </td> <td>59                  </td> <td>0.9964 </td> <td>3.3 </td> <td>0.46     </td> <td>9.4    </td> <td>5      </td> <td>red </td>\n",
       "        </tr>\n",
       "        <tr>\n",
       "            <td>7.3          </td> <td>0.65            </td> <td>0          </td> <td>1.2           </td> <td>0.065    </td> <td>15                 </td> <td>21                  </td> <td>0.9946 </td> <td>3.39</td> <td>0.47     </td> <td>10     </td> <td>7      </td> <td>red </td>\n",
       "        </tr>\n",
       "        <tr>\n",
       "            <td>7.8          </td> <td>0.58            </td> <td>0.02       </td> <td>2             </td> <td>0.073    </td> <td>9                  </td> <td>18                  </td> <td>0.9968 </td> <td>3.36</td> <td>0.57     </td> <td>9.5    </td> <td>7      </td> <td>red </td>\n",
       "        </tr>\n",
       "        <tr>\n",
       "            <td>7.5          </td> <td>0.5             </td> <td>0.36       </td> <td>6.1           </td> <td>0.071    </td> <td>17                 </td> <td>102                 </td> <td>0.9978 </td> <td>3.35</td> <td>0.8      </td> <td>10.5   </td> <td>5      </td> <td>red </td>\n",
       "        </tr>\n",
       "    </tbody>\n",
       "</table>\n",
       "<p>... (1589 rows omitted)</p>"
      ],
      "text/plain": [
       "fixed acidity | volatile acidity | citric acid | residual sugar | chlorides | free sulfur dioxide | total sulfur dioxide | density | pH   | sulphates | alcohol | quality | type\n",
       "7.4           | 0.7              | 0           | 1.9            | 0.076     | 11                  | 34                   | 0.9978  | 3.51 | 0.56      | 9.4     | 5       | red\n",
       "7.8           | 0.88             | 0           | 2.6            | 0.098     | 25                  | 67                   | 0.9968  | 3.2  | 0.68      | 9.8     | 5       | red\n",
       "7.8           | 0.76             | 0.04        | 2.3            | 0.092     | 15                  | 54                   | 0.997   | 3.26 | 0.65      | 9.8     | 5       | red\n",
       "11.2          | 0.28             | 0.56        | 1.9            | 0.075     | 17                  | 60                   | 0.998   | 3.16 | 0.58      | 9.8     | 6       | red\n",
       "7.4           | 0.7              | 0           | 1.9            | 0.076     | 11                  | 34                   | 0.9978  | 3.51 | 0.56      | 9.4     | 5       | red\n",
       "7.4           | 0.66             | 0           | 1.8            | 0.075     | 13                  | 40                   | 0.9978  | 3.51 | 0.56      | 9.4     | 5       | red\n",
       "7.9           | 0.6              | 0.06        | 1.6            | 0.069     | 15                  | 59                   | 0.9964  | 3.3  | 0.46      | 9.4     | 5       | red\n",
       "7.3           | 0.65             | 0           | 1.2            | 0.065     | 15                  | 21                   | 0.9946  | 3.39 | 0.47      | 10      | 7       | red\n",
       "7.8           | 0.58             | 0.02        | 2              | 0.073     | 9                   | 18                   | 0.9968  | 3.36 | 0.57      | 9.5     | 7       | red\n",
       "7.5           | 0.5              | 0.36        | 6.1            | 0.071     | 17                  | 102                  | 0.9978  | 3.35 | 0.8       | 10.5    | 5       | red\n",
       "... (1589 rows omitted)"
      ]
     },
     "execution_count": 10,
     "metadata": {},
     "output_type": "execute_result"
    }
   ],
   "source": [
    "wine_red = Table().read_table('data/winequality-red.csv', sep=';')\n",
    "wine_red=wine_red.with_columns('type','red')\n",
    "wine_red"
   ]
  },
  {
   "cell_type": "code",
   "execution_count": 11,
   "metadata": {},
   "outputs": [
    {
     "data": {
      "text/html": [
       "<table border=\"1\" class=\"dataframe\">\n",
       "    <thead>\n",
       "        <tr>\n",
       "            <th>fixed acidity</th> <th>volatile acidity</th> <th>citric acid</th> <th>residual sugar</th> <th>chlorides</th> <th>free sulfur dioxide</th> <th>total sulfur dioxide</th> <th>density</th> <th>pH</th> <th>sulphates</th> <th>alcohol</th> <th>quality</th> <th>type</th>\n",
       "        </tr>\n",
       "    </thead>\n",
       "    <tbody>\n",
       "        <tr>\n",
       "            <td>7            </td> <td>0.27            </td> <td>0.36       </td> <td>20.7          </td> <td>0.045    </td> <td>45                 </td> <td>170                 </td> <td>1.001  </td> <td>3   </td> <td>0.45     </td> <td>8.8    </td> <td>6      </td> <td>white</td>\n",
       "        </tr>\n",
       "        <tr>\n",
       "            <td>6.3          </td> <td>0.3             </td> <td>0.34       </td> <td>1.6           </td> <td>0.049    </td> <td>14                 </td> <td>132                 </td> <td>0.994  </td> <td>3.3 </td> <td>0.49     </td> <td>9.5    </td> <td>6      </td> <td>white</td>\n",
       "        </tr>\n",
       "        <tr>\n",
       "            <td>8.1          </td> <td>0.28            </td> <td>0.4        </td> <td>6.9           </td> <td>0.05     </td> <td>30                 </td> <td>97                  </td> <td>0.9951 </td> <td>3.26</td> <td>0.44     </td> <td>10.1   </td> <td>6      </td> <td>white</td>\n",
       "        </tr>\n",
       "        <tr>\n",
       "            <td>7.2          </td> <td>0.23            </td> <td>0.32       </td> <td>8.5           </td> <td>0.058    </td> <td>47                 </td> <td>186                 </td> <td>0.9956 </td> <td>3.19</td> <td>0.4      </td> <td>9.9    </td> <td>6      </td> <td>white</td>\n",
       "        </tr>\n",
       "        <tr>\n",
       "            <td>7.2          </td> <td>0.23            </td> <td>0.32       </td> <td>8.5           </td> <td>0.058    </td> <td>47                 </td> <td>186                 </td> <td>0.9956 </td> <td>3.19</td> <td>0.4      </td> <td>9.9    </td> <td>6      </td> <td>white</td>\n",
       "        </tr>\n",
       "        <tr>\n",
       "            <td>8.1          </td> <td>0.28            </td> <td>0.4        </td> <td>6.9           </td> <td>0.05     </td> <td>30                 </td> <td>97                  </td> <td>0.9951 </td> <td>3.26</td> <td>0.44     </td> <td>10.1   </td> <td>6      </td> <td>white</td>\n",
       "        </tr>\n",
       "        <tr>\n",
       "            <td>6.2          </td> <td>0.32            </td> <td>0.16       </td> <td>7             </td> <td>0.045    </td> <td>30                 </td> <td>136                 </td> <td>0.9949 </td> <td>3.18</td> <td>0.47     </td> <td>9.6    </td> <td>6      </td> <td>white</td>\n",
       "        </tr>\n",
       "        <tr>\n",
       "            <td>7            </td> <td>0.27            </td> <td>0.36       </td> <td>20.7          </td> <td>0.045    </td> <td>45                 </td> <td>170                 </td> <td>1.001  </td> <td>3   </td> <td>0.45     </td> <td>8.8    </td> <td>6      </td> <td>white</td>\n",
       "        </tr>\n",
       "        <tr>\n",
       "            <td>6.3          </td> <td>0.3             </td> <td>0.34       </td> <td>1.6           </td> <td>0.049    </td> <td>14                 </td> <td>132                 </td> <td>0.994  </td> <td>3.3 </td> <td>0.49     </td> <td>9.5    </td> <td>6      </td> <td>white</td>\n",
       "        </tr>\n",
       "        <tr>\n",
       "            <td>8.1          </td> <td>0.22            </td> <td>0.43       </td> <td>1.5           </td> <td>0.044    </td> <td>28                 </td> <td>129                 </td> <td>0.9938 </td> <td>3.22</td> <td>0.45     </td> <td>11     </td> <td>6      </td> <td>white</td>\n",
       "        </tr>\n",
       "    </tbody>\n",
       "</table>\n",
       "<p>... (4888 rows omitted)</p>"
      ],
      "text/plain": [
       "fixed acidity | volatile acidity | citric acid | residual sugar | chlorides | free sulfur dioxide | total sulfur dioxide | density | pH   | sulphates | alcohol | quality | type\n",
       "7             | 0.27             | 0.36        | 20.7           | 0.045     | 45                  | 170                  | 1.001   | 3    | 0.45      | 8.8     | 6       | white\n",
       "6.3           | 0.3              | 0.34        | 1.6            | 0.049     | 14                  | 132                  | 0.994   | 3.3  | 0.49      | 9.5     | 6       | white\n",
       "8.1           | 0.28             | 0.4         | 6.9            | 0.05      | 30                  | 97                   | 0.9951  | 3.26 | 0.44      | 10.1    | 6       | white\n",
       "7.2           | 0.23             | 0.32        | 8.5            | 0.058     | 47                  | 186                  | 0.9956  | 3.19 | 0.4       | 9.9     | 6       | white\n",
       "7.2           | 0.23             | 0.32        | 8.5            | 0.058     | 47                  | 186                  | 0.9956  | 3.19 | 0.4       | 9.9     | 6       | white\n",
       "8.1           | 0.28             | 0.4         | 6.9            | 0.05      | 30                  | 97                   | 0.9951  | 3.26 | 0.44      | 10.1    | 6       | white\n",
       "6.2           | 0.32             | 0.16        | 7              | 0.045     | 30                  | 136                  | 0.9949  | 3.18 | 0.47      | 9.6     | 6       | white\n",
       "7             | 0.27             | 0.36        | 20.7           | 0.045     | 45                  | 170                  | 1.001   | 3    | 0.45      | 8.8     | 6       | white\n",
       "6.3           | 0.3              | 0.34        | 1.6            | 0.049     | 14                  | 132                  | 0.994   | 3.3  | 0.49      | 9.5     | 6       | white\n",
       "8.1           | 0.22             | 0.43        | 1.5            | 0.044     | 28                  | 129                  | 0.9938  | 3.22 | 0.45      | 11      | 6       | white\n",
       "... (4888 rows omitted)"
      ]
     },
     "execution_count": 11,
     "metadata": {},
     "output_type": "execute_result"
    }
   ],
   "source": [
    "wine_white = Table().read_table('data/winequality-white.csv', sep=';')\n",
    "wine_white=wine_white.with_columns('type','white')\n",
    "wine_white"
   ]
  },
  {
   "cell_type": "code",
   "execution_count": 12,
   "metadata": {},
   "outputs": [
    {
     "data": {
      "text/html": [
       "<table border=\"1\" class=\"dataframe\">\n",
       "    <thead>\n",
       "        <tr>\n",
       "            <th>fixed acidity</th> <th>volatile acidity</th> <th>citric acid</th> <th>residual sugar</th> <th>chlorides</th> <th>free sulfur dioxide</th> <th>total sulfur dioxide</th> <th>density</th> <th>pH</th> <th>sulphates</th> <th>alcohol</th> <th>quality</th> <th>type</th>\n",
       "        </tr>\n",
       "    </thead>\n",
       "    <tbody>\n",
       "        <tr>\n",
       "            <td>7            </td> <td>0.27            </td> <td>0.36       </td> <td>20.7          </td> <td>0.045    </td> <td>45                 </td> <td>170                 </td> <td>1.001  </td> <td>3   </td> <td>0.45     </td> <td>8.8    </td> <td>6      </td> <td>white</td>\n",
       "        </tr>\n",
       "        <tr>\n",
       "            <td>6.3          </td> <td>0.3             </td> <td>0.34       </td> <td>1.6           </td> <td>0.049    </td> <td>14                 </td> <td>132                 </td> <td>0.994  </td> <td>3.3 </td> <td>0.49     </td> <td>9.5    </td> <td>6      </td> <td>white</td>\n",
       "        </tr>\n",
       "        <tr>\n",
       "            <td>8.1          </td> <td>0.28            </td> <td>0.4        </td> <td>6.9           </td> <td>0.05     </td> <td>30                 </td> <td>97                  </td> <td>0.9951 </td> <td>3.26</td> <td>0.44     </td> <td>10.1   </td> <td>6      </td> <td>white</td>\n",
       "        </tr>\n",
       "        <tr>\n",
       "            <td>7.2          </td> <td>0.23            </td> <td>0.32       </td> <td>8.5           </td> <td>0.058    </td> <td>47                 </td> <td>186                 </td> <td>0.9956 </td> <td>3.19</td> <td>0.4      </td> <td>9.9    </td> <td>6      </td> <td>white</td>\n",
       "        </tr>\n",
       "        <tr>\n",
       "            <td>7.2          </td> <td>0.23            </td> <td>0.32       </td> <td>8.5           </td> <td>0.058    </td> <td>47                 </td> <td>186                 </td> <td>0.9956 </td> <td>3.19</td> <td>0.4      </td> <td>9.9    </td> <td>6      </td> <td>white</td>\n",
       "        </tr>\n",
       "        <tr>\n",
       "            <td>8.1          </td> <td>0.28            </td> <td>0.4        </td> <td>6.9           </td> <td>0.05     </td> <td>30                 </td> <td>97                  </td> <td>0.9951 </td> <td>3.26</td> <td>0.44     </td> <td>10.1   </td> <td>6      </td> <td>white</td>\n",
       "        </tr>\n",
       "        <tr>\n",
       "            <td>6.2          </td> <td>0.32            </td> <td>0.16       </td> <td>7             </td> <td>0.045    </td> <td>30                 </td> <td>136                 </td> <td>0.9949 </td> <td>3.18</td> <td>0.47     </td> <td>9.6    </td> <td>6      </td> <td>white</td>\n",
       "        </tr>\n",
       "        <tr>\n",
       "            <td>7            </td> <td>0.27            </td> <td>0.36       </td> <td>20.7          </td> <td>0.045    </td> <td>45                 </td> <td>170                 </td> <td>1.001  </td> <td>3   </td> <td>0.45     </td> <td>8.8    </td> <td>6      </td> <td>white</td>\n",
       "        </tr>\n",
       "        <tr>\n",
       "            <td>6.3          </td> <td>0.3             </td> <td>0.34       </td> <td>1.6           </td> <td>0.049    </td> <td>14                 </td> <td>132                 </td> <td>0.994  </td> <td>3.3 </td> <td>0.49     </td> <td>9.5    </td> <td>6      </td> <td>white</td>\n",
       "        </tr>\n",
       "        <tr>\n",
       "            <td>8.1          </td> <td>0.22            </td> <td>0.43       </td> <td>1.5           </td> <td>0.044    </td> <td>28                 </td> <td>129                 </td> <td>0.9938 </td> <td>3.22</td> <td>0.45     </td> <td>11     </td> <td>6      </td> <td>white</td>\n",
       "        </tr>\n",
       "    </tbody>\n",
       "</table>\n",
       "<p>... (6487 rows omitted)</p>"
      ],
      "text/plain": [
       "fixed acidity | volatile acidity | citric acid | residual sugar | chlorides | free sulfur dioxide | total sulfur dioxide | density | pH   | sulphates | alcohol | quality | type\n",
       "7             | 0.27             | 0.36        | 20.7           | 0.045     | 45                  | 170                  | 1.001   | 3    | 0.45      | 8.8     | 6       | white\n",
       "6.3           | 0.3              | 0.34        | 1.6            | 0.049     | 14                  | 132                  | 0.994   | 3.3  | 0.49      | 9.5     | 6       | white\n",
       "8.1           | 0.28             | 0.4         | 6.9            | 0.05      | 30                  | 97                   | 0.9951  | 3.26 | 0.44      | 10.1    | 6       | white\n",
       "7.2           | 0.23             | 0.32        | 8.5            | 0.058     | 47                  | 186                  | 0.9956  | 3.19 | 0.4       | 9.9     | 6       | white\n",
       "7.2           | 0.23             | 0.32        | 8.5            | 0.058     | 47                  | 186                  | 0.9956  | 3.19 | 0.4       | 9.9     | 6       | white\n",
       "8.1           | 0.28             | 0.4         | 6.9            | 0.05      | 30                  | 97                   | 0.9951  | 3.26 | 0.44      | 10.1    | 6       | white\n",
       "6.2           | 0.32             | 0.16        | 7              | 0.045     | 30                  | 136                  | 0.9949  | 3.18 | 0.47      | 9.6     | 6       | white\n",
       "7             | 0.27             | 0.36        | 20.7           | 0.045     | 45                  | 170                  | 1.001   | 3    | 0.45      | 8.8     | 6       | white\n",
       "6.3           | 0.3              | 0.34        | 1.6            | 0.049     | 14                  | 132                  | 0.994   | 3.3  | 0.49      | 9.5     | 6       | white\n",
       "8.1           | 0.22             | 0.43        | 1.5            | 0.044     | 28                  | 129                  | 0.9938  | 3.22 | 0.45      | 11      | 6       | white\n",
       "... (6487 rows omitted)"
      ]
     },
     "execution_count": 12,
     "metadata": {},
     "output_type": "execute_result"
    }
   ],
   "source": [
    "wine = wine_white.append(wine_red)\n",
    "wine"
   ]
  },
  {
   "cell_type": "code",
   "execution_count": 13,
   "metadata": {
    "tags": []
   },
   "outputs": [
    {
     "data": {
      "text/html": [
       "<table border=\"1\" class=\"dataframe\">\n",
       "    <thead>\n",
       "        <tr>\n",
       "            <th>type</th> <th>count</th>\n",
       "        </tr>\n",
       "    </thead>\n",
       "    <tbody>\n",
       "        <tr>\n",
       "            <td>red  </td> <td>1599 </td>\n",
       "        </tr>\n",
       "        <tr>\n",
       "            <td>white</td> <td>4898 </td>\n",
       "        </tr>\n",
       "    </tbody>\n",
       "</table>"
      ],
      "text/plain": [
       "type  | count\n",
       "red   | 1599\n",
       "white | 4898"
      ]
     },
     "execution_count": 13,
     "metadata": {},
     "output_type": "execute_result"
    }
   ],
   "source": [
    "wine.group('type')"
   ]
  },
  {
   "cell_type": "code",
   "execution_count": 15,
   "metadata": {},
   "outputs": [],
   "source": [
    "wine.to_csv('data/winequality_redwhite.csv')"
   ]
  },
  {
   "cell_type": "markdown",
   "metadata": {},
   "source": [
    "### Environmental and Earth Science Datasets"
   ]
  },
  {
   "cell_type": "markdown",
   "metadata": {},
   "source": [
    "Philadelphia Air Quality Measurements (Ozone, PM10, Carbon monoxide)"
   ]
  },
  {
   "cell_type": "code",
   "execution_count": null,
   "metadata": {},
   "outputs": [],
   "source": [
    "url = \"https://opendata.arcgis.com/api/v3/datasets/3899a065577747fbb824f0a21afc2e7c_0/downloads/data?format=csv&spatialRefId=4326\"\n",
    "air = Table.read_table(url)\n",
    "air"
   ]
  },
  {
   "cell_type": "markdown",
   "metadata": {
    "tags": []
   },
   "source": [
    "#### Earthquakes in the US 09/01/2023 until 11/12/2023\n",
    "More information: https://earthquake.usgs.gov/earthquakes/map\n",
    "\n",
    "Possible relationship to explore: earthquake magnitude with depth"
   ]
  },
  {
   "cell_type": "code",
   "execution_count": null,
   "metadata": {},
   "outputs": [],
   "source": [
    "url = 'data/USearthquake_fall_2023.csv'\n",
    "eq = Table.read_table(url)\n",
    "eq"
   ]
  },
  {
   "cell_type": "markdown",
   "metadata": {},
   "source": [
    "#### Steam Gage data for the Pennypack Creek in Philadelphia\n",
    "The US Geological Survey has gages on many US streams that collect data data continuously. The Pennypack Creek runs through Philadelphia.\n",
    "See this website: https://waterdata.usgs.gov/monitoring-location/01467042/#parameterCode=00065&period=P7D&showMedian=true\n",
    "\n",
    "Possible relationship to explore: Tubidity (sediment in water) and Discharge (stream flow rate)\n",
    "\n",
    "#### Column Headers in the data set\n",
    "```\n",
    "# Data provided for site 01467042\n",
    "#    TS_ID       Parameter Description\n",
    "#    121360      00010     Temperature, water, degrees Celsius\n",
    "#    121357      00060     Discharge, cubic feet per second\n",
    "#    121358      00065     Gage height, feet\n",
    "#    121361      00095     Specific conductance, water, unfiltered, microsiemens per centimeter at 25 degrees Celsius\n",
    "#    121364      00300     Dissolved oxygen, water, unfiltered, milligrams per liter\n",
    "#    121365      00301     Dissolved oxygen, water, unfiltered, percent of saturation\n",
    "#    121362      00400     pH, water, unfiltered, field, standard units\n",
    "#    277154      63680     Turbidity, water, unfiltered, monochrome near infra-red LED light, 780-900 nm, detection angle 90 +-2.5 degrees, formazin nephelometric units (FNU)\n",
    "#\n",
    "# Data-value qualification codes included in this output:\n",
    "#     P  Provisional data subject to revision.\n",
    "#     <  Actual value is known to be less than reported value.\n",
    "```"
   ]
  },
  {
   "cell_type": "code",
   "execution_count": null,
   "metadata": {},
   "outputs": [],
   "source": [
    "url = 'data/penny_pack.csv'\n",
    "pp = Table.read_table(url)\n",
    "pp"
   ]
  },
  {
   "cell_type": "markdown",
   "metadata": {},
   "source": [
    "#### Weather Data\n",
    "Data from a Weather Underground station in the South Kensington neighborhood of Philadelphia\n",
    "South Kensington - KPAPHILA131: https://www.wunderground.com/dashboard/pws/KPAPHILA131\n",
    "Temperature, humidity, windspeed, rainfall -- many interesting features to compare. The data are hourly from December 2019 to January 2021."
   ]
  },
  {
   "cell_type": "code",
   "execution_count": null,
   "metadata": {},
   "outputs": [],
   "source": [
    "url = 'data/KPAPHILA131_20191217_to_20211119.csv'\n",
    "weather = Table.read_table(url)\n",
    "weather"
   ]
  },
  {
   "cell_type": "markdown",
   "metadata": {},
   "source": [
    "________________________________________________________________"
   ]
  },
  {
   "cell_type": "markdown",
   "metadata": {},
   "source": [
    "### Physics datasets\n",
    "including exoplanets, Near Earth Objects (NEO), & CERN Electron Collision data. "
   ]
  },
  {
   "cell_type": "markdown",
   "metadata": {},
   "source": [
    "##### Exoplanets observed by Kepler telescope\n",
    "https://exoplanets.nasa.gov/keplerscience/"
   ]
  },
  {
   "cell_type": "code",
   "execution_count": null,
   "metadata": {},
   "outputs": [],
   "source": [
    "url = \"https://raw.githubusercontent.com/DataScienceTempleFirst/code-cod/main/kepler.csv\"\n",
    "exoplanets = Table.read_table(url)\n",
    "exoplanets"
   ]
  },
  {
   "cell_type": "markdown",
   "metadata": {},
   "source": [
    "##### Near Earth Objects \n",
    "Data is found at https://cneos.jpl.nasa.gov/ca/, but more information about the project can be found here: https://cneos.jpl.nasa.gov/"
   ]
  },
  {
   "cell_type": "code",
   "execution_count": null,
   "metadata": {},
   "outputs": [],
   "source": [
    "url = 'data/cneos_closeapproach_data.csv'\n",
    "neo = Table.read_table(url)\n",
    "neo"
   ]
  },
  {
   "cell_type": "markdown",
   "metadata": {},
   "source": [
    "##### CERN Electron Collision Data \n",
    "Data was downloaded from https://www.kaggle.com/datasets/fedesoriano/cern-electron-collision-data but was modified from the original data https://opendata.cern.ch/record/304"
   ]
  },
  {
   "cell_type": "code",
   "execution_count": null,
   "metadata": {},
   "outputs": [],
   "source": [
    "url = 'data/dielectron.csv'\n",
    "electron = Table.read_table(url)\n",
    "electron"
   ]
  },
  {
   "cell_type": "markdown",
   "metadata": {},
   "source": [
    "________________"
   ]
  },
  {
   "cell_type": "markdown",
   "metadata": {},
   "source": [
    "### Public Health datasets\n",
    "including Philadelphia vaccination rates, global vaccination rates, & Hepatitis C diagnosis.  "
   ]
  },
  {
   "cell_type": "markdown",
   "metadata": {},
   "source": [
    "##### Philadelphia vaccination rates by zip code\n",
    "COVID-19 Vaccinations\n",
    "\n",
    "Shows distribution counts of first and second dose, as well as total dose information for all vaccinations performed by the health department. Also provides vaccinations by census tract, ZIP code, age, race, and sex. Vaccinations include residents and non-residents of Philadelphia. Updates daily.\n",
    "See: https://www.opendataphilly.org/dataset/covid-vaccinations/resource/87ac5b4e-8491-41e3-8cf0-5bfebba2e3a0"
   ]
  },
  {
   "cell_type": "code",
   "execution_count": null,
   "metadata": {},
   "outputs": [],
   "source": [
    "url = \"https://phl.carto.com/api/v2/sql?filename=covid_vaccines_by_zip&format=csv&skipfields=cartodb_id,the_geom,the_geom_webmercator&q=SELECT%20*%20FROM%20covid_vaccines_by_zip\"\n",
    "phillyVax = Table.read_table(url)\n",
    "phillyVax"
   ]
  },
  {
   "cell_type": "code",
   "execution_count": null,
   "metadata": {},
   "outputs": [],
   "source": [
    "## might be also useful to have population for looking at Philly Vaccination Rates\n",
    "url = \"https://raw.githubusercontent.com/DataScienceTempleFirst/code-cod/main/PA_zip_pop.csv\"\n",
    "paPop = Table.read_table(url)\n",
    "paPop.sort(\"pop\",descending=True)\n",
    "paPop.where('county','Philadelphia')"
   ]
  },
  {
   "cell_type": "markdown",
   "metadata": {},
   "source": [
    "##### COVID Vaccination data by country"
   ]
  },
  {
   "cell_type": "code",
   "execution_count": null,
   "metadata": {},
   "outputs": [],
   "source": [
    "url = \"https://raw.githubusercontent.com/DataScienceTempleFirst/code-cod/main/COVID_VAXDATA.csv\"\n",
    "globalVax = Table.read_table(url)\n",
    "globalVax"
   ]
  },
  {
   "cell_type": "markdown",
   "metadata": {},
   "source": [
    "##### Hepatitis C Diagnosis Datasets \n",
    "Heptatitis C is a disease caused by the Hepatitus C virus.  More information on the dataset can be found: https://archive.ics.uci.edu/ml/datasets/HCV+data"
   ]
  },
  {
   "cell_type": "code",
   "execution_count": null,
   "metadata": {},
   "outputs": [],
   "source": [
    "url = 'data/HepatitisCdata.csv'\n",
    "hepC = Table.read_table(url)\n",
    "hepC"
   ]
  },
  {
   "cell_type": "markdown",
   "metadata": {},
   "source": [
    "_____________________________________________________________________________________________"
   ]
  },
  {
   "cell_type": "markdown",
   "metadata": {},
   "source": [
    "###  Other datasets\n",
    "including Philadelphia Graduation Rates & Jeopardy"
   ]
  },
  {
   "cell_type": "markdown",
   "metadata": {},
   "source": [
    "#### Philadelphia Open Data School Graduation Rates\n",
    "This longitudinal open data file includes information about the graduation rates for schools broken out by: graduation rate type (four-year, five-year, or six-year), demographic category (EL status, IEP status, Economically Disadvantaged Status, Gender, or Ethnicity), and ninth-grade cohort. Students are attributed to the last school at which they actively attended in the respective graduation window, which ends on September 30 each year. Students are classified as EL, as having an IEP, and/or economically disadvantaged if they were designated as such at any point during their high school career.\n",
    "see: https://www.philasd.org/performance/programsservices/open-data/school-performance/#school_graduation_rates "
   ]
  },
  {
   "cell_type": "code",
   "execution_count": null,
   "metadata": {},
   "outputs": [],
   "source": [
    "url = \"https://cdn.philasd.org/offices/performance/Open_Data/School_Performance/Graduation_Rates/SDP_Graduation_Rates_School_S_2022-05-23.csv\"\n",
    "grad = Table.read_table(url)\n",
    "grad"
   ]
  },
  {
   "cell_type": "markdown",
   "metadata": {},
   "source": [
    "#### Jeopardy\n",
    "see: https://www.jeopardy.com"
   ]
  },
  {
   "cell_type": "code",
   "execution_count": null,
   "metadata": {},
   "outputs": [],
   "source": [
    "contestant = \"https://raw.githubusercontent.com/anuparna/jeopardy/master/dataset/contestants.csv\"\n",
    "locations =  \"https://raw.githubusercontent.com/anuparna/jeopardy/master/dataset/locations.csv\"\n",
    "results =  \"https://raw.githubusercontent.com/anuparna/jeopardy/master/dataset/final_results.csv\"\n",
    "loc = Table.read_table(locations)\n",
    "contest = Table.read_table(contestant)\n",
    "outcome = Table.read_table(results)\n",
    "outcome"
   ]
  },
  {
   "cell_type": "markdown",
   "metadata": {},
   "source": [
    "#### Crime Data for Philadelphia\n",
    "The data came from OpenDataPhilly: https://opendataphilly.org/datasets/crime-incidents\n",
    "Reported incidents from June 1st to mid-November 2023.\n",
    "\n",
    "Possible correlation: type of crime and time of day."
   ]
  },
  {
   "cell_type": "code",
   "execution_count": null,
   "metadata": {
    "tags": []
   },
   "outputs": [],
   "source": [
    "url = 'data/incidents_June-midNovember2023.csv'\n",
    "crime = Table.read_table(url)\n",
    "crime"
   ]
  },
  {
   "cell_type": "code",
   "execution_count": null,
   "metadata": {},
   "outputs": [],
   "source": []
  }
 ],
 "metadata": {
  "kernelspec": {
   "display_name": "Python 3 (ipykernel)",
   "language": "python",
   "name": "python3"
  },
  "language_info": {
   "codemirror_mode": {
    "name": "ipython",
    "version": 3
   },
   "file_extension": ".py",
   "mimetype": "text/x-python",
   "name": "python",
   "nbconvert_exporter": "python",
   "pygments_lexer": "ipython3",
   "version": "3.9.19"
  }
 },
 "nbformat": 4,
 "nbformat_minor": 4
}
