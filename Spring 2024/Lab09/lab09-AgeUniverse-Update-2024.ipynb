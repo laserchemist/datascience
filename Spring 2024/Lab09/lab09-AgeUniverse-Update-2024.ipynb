{
 "cells": [
  {
   "cell_type": "markdown",
   "metadata": {
    "slideshow": {
     "slide_type": "slide"
    }
   },
   "source": [
    "## The Age of the Universe\n",
    "Welcome to Lab 9!\n",
    "<br>Elements of Data Science adapted from Berkeley Data8 \n",
    "\n",
    "<br>**<center>Learning Goals**\n",
    "|Area|Concept|\n",
    "|---|---|\n",
    "|Linear Regression|Examine the linear relationship between two variables|\n",
    "|slope |change in depndent variable, y, for each change in independent variable,x |\n",
    "|intercept|Value of dependent variable, y, at x = 0|\n",
    "|r|correlation coefficient|\n",
    "|bootstrap confidence interval|confidence interval on slope and intercept based on sampling|\n",
    "\n",
    "\n",
    "Sometimes, the primary purpose of regression analysis is to learn something about the slope or intercept of the best-fitting line.  When we use a sample of data to estimate the slope or intercept, our estimate is subject to random error, just as in the simpler case of the mean of a random sample.\n",
    "\n",
    "In this lab, we'll use regression to get an accurate estimate for the age of the universe, using pictures of exploding stars.  Our estimate will come from a sample of all exploding stars. We'll compute a confidence interval to quantify the error caused by sampling.\n",
    "\n",
    "First, set up the tests and imports by running the cell below."
   ]
  },
  {
   "cell_type": "code",
   "execution_count": 174,
   "metadata": {
    "slideshow": {
     "slide_type": "slide"
    }
   },
   "outputs": [],
   "source": [
    "name = ..."
   ]
  },
  {
   "cell_type": "code",
   "execution_count": 1,
   "metadata": {},
   "outputs": [],
   "source": [
    "## import statements\n",
    "# These lines load the tests. \n",
    "from gofer.ok import check\n",
    "import numpy as np\n",
    "from datascience import *\n",
    "import pandas as pd\n",
    "import matplotlib\n",
    "from matplotlib import patches\n",
    "%matplotlib inline\n",
    "import matplotlib.pyplot as plt\n",
    "import seaborn as sns\n",
    "import warnings\n",
    "warnings.simplefilter('ignore', FutureWarning)\n",
    "plt.style.use('fivethirtyeight')\n",
    "from ipywidgets import interact, interactive, fixed\n",
    "import ipywidgets as widgets\n",
    "import os\n",
    "user = os.getenv('JUPYTERHUB_USER')"
   ]
  },
  {
   "cell_type": "code",
   "execution_count": 2,
   "metadata": {},
   "outputs": [],
   "source": [
    "params = {'legend.fontsize': 'small',\n",
    "          'figure.figsize': (15, 5),\n",
    "         'axes.labelsize': 'large',\n",
    "         'axes.titlesize':'large',\n",
    "         'xtick.labelsize':'large',\n",
    "         'ytick.labelsize':'large'}\n",
    "plt.rcParams.update(params)"
   ]
  },
  {
   "cell_type": "markdown",
   "metadata": {},
   "source": [
    "### The Actual Big Bang Theory\n",
    "In the early 20th century, the most popular cosmological theory suggested that the universe had always existed at a fixed size.  Today, the Big Bang theory prevails: Our universe started out very small and is still expanding.\n",
    "\n",
    "A consequence of this is Hubble's Law, which says that the expansion of the universe creates the appearance that every celestial object that's reasonably far away from Earth (for example, another galaxy) is moving away from us at a constant speed.  If we extrapolate that motion backwards to the time when everything in the universe was in the same place, that time is (roughly) the beginning of the universe!\n",
    "\n",
    "Scientists have used this fact, along with measurements of the current *location* and *movement speed* of other celestial objects, to estimate when the universe started.\n",
    "\n",
    "The cell below simulates a universe in which our sun is the center and every other star is moving away from us.  Each star starts at the same place as the sun, then moves away from it over time.  Different stars have different directions *and speeds*; the arrows indicate the direction and speed of travel.\n",
    "\n",
    "Run the cell, then move the slider to see how things change over time."
   ]
  },
  {
   "cell_type": "markdown",
   "metadata": {},
   "source": [
    "### <font color=blue> **Question 1A.** </font>\n",
    "In the markdown cell below describe in your own words Hubble's Law and how we might use it to estimate the age of the universe"
   ]
  },
  {
   "cell_type": "markdown",
   "metadata": {},
   "source": []
  },
  {
   "cell_type": "markdown",
   "metadata": {},
   "source": [
    "### <font color=blue> **Question 1B.** </font>\n",
    "When did the universe start, in this example? Run the code and use the sliders to explore the relationships."
   ]
  },
  {
   "cell_type": "code",
   "execution_count": 3,
   "metadata": {},
   "outputs": [
    {
     "data": {
      "application/vnd.jupyter.widget-view+json": {
       "model_id": "c75d955ad6694d179151db8947c2bcda",
       "version_major": 2,
       "version_minor": 0
      },
      "text/plain": [
       "interactive(children=(FloatSlider(value=0.0, description='t', max=5.0, min=-15.0, step=0.5), Output()), _dom_c…"
      ]
     },
     "metadata": {},
     "output_type": "display_data"
    }
   ],
   "source": [
    "# Just run this cell.  (The simulation is actually not\n",
    "# that complicated; it just takes a lot of code to draw\n",
    "# everything.  So you don't need to read this unless you\n",
    "# have time and are curious about more advanced plotting.)\n",
    "\n",
    "num_locations = 20\n",
    "example_velocities = Table().with_columns(\n",
    "    \"x\", np.random.normal(size=num_locations),\n",
    "    \"y\", np.random.normal(size=num_locations))\n",
    "start_of_time = -15\n",
    "\n",
    "def scatter_after_time(t, start_of_time, end_of_time, velocities, center_name, other_point_name, make_title):\n",
    "    max_location = 1.1*(end_of_time-start_of_time)*max(max(abs(velocities.column(\"x\"))), max(abs(velocities.column(\"y\"))))\n",
    "    new_locations = velocities.with_columns(\n",
    "            \"x\", (t-start_of_time)*velocities.column(\"x\"),\n",
    "            \"y\", (t-start_of_time)*velocities.column(\"y\"))\n",
    "    plt.scatter(make_array(0), make_array(0), label=center_name, s=100, c=\"yellow\")\n",
    "    plt.scatter(new_locations.column(\"x\"), new_locations.column(\"y\"), label=other_point_name)\n",
    "    for i in np.arange(new_locations.num_rows):\n",
    "        plt.arrow(\n",
    "            new_locations.column(\"x\").item(i),\n",
    "            new_locations.column(\"y\").item(i),\n",
    "            velocities.column(\"x\").item(i),\n",
    "            velocities.column(\"y\").item(i),\n",
    "            fc='black',\n",
    "            ec='black',\n",
    "            head_width=0.025*max_location,\n",
    "            lw=.15)\n",
    "    plt.xlim(-max_location, max_location)\n",
    "    plt.ylim(-max_location, max_location)\n",
    "    plt.gca().set_aspect('equal', adjustable='box')\n",
    "    plt.gca().set_position(make_array(0, 0, 1, 1))\n",
    "    plt.legend(bbox_to_anchor=(1.6, .7))\n",
    "    plt.title(make_title(t))\n",
    "    plt.show()\n",
    "\n",
    "interact(\n",
    "    scatter_after_time,\n",
    "    t=widgets.FloatSlider(min=start_of_time, max=5, step=.5, value=0, msg_throttle=1),\n",
    "    start_of_time=fixed(start_of_time),\n",
    "    end_of_time=fixed(5),\n",
    "    velocities=fixed(example_velocities),\n",
    "    center_name=fixed(\"our sun\"),\n",
    "    other_point_name=fixed(\"other star\"),\n",
    "    make_title=fixed(lambda t: \"The world {:01g} billion year{} in the {}\".format(abs(t), \"\" if abs(t) == 1 else \"s\", \"past\" if t < 0 else \"future\")));"
   ]
  },
  {
   "cell_type": "markdown",
   "metadata": {},
   "source": [
    "<font color='blue'>*Write your answer here, replacing this text.*</font>"
   ]
  },
  {
   "cell_type": "markdown",
   "metadata": {},
   "source": [
    "### <font color=blue> **Question 2.** </font>\n",
    "After 5 billion years (with the slider all the way to the right), stars with longer arrows are further away from the Sun.  Why?"
   ]
  },
  {
   "cell_type": "markdown",
   "metadata": {},
   "source": [
    "<font color='blue'>*Write your answer here, replacing this text.*</font>"
   ]
  },
  {
   "cell_type": "markdown",
   "metadata": {},
   "source": [
    "### Analogy: driving\n",
    "Here's an analogy to illustrate how scientists use information about stars to estimate the age of the universe.\n",
    "\n",
    "Suppose that at some point in the past, our friend Mei started driving in a car going at a steady speed of 60 miles per hour straight east.  We're still standing where she started."
   ]
  },
  {
   "cell_type": "markdown",
   "metadata": {},
   "source": [
    "We want to know how long she's been driving, but we forgot to record the time when she left.  If we find out that she's 120 miles away, and she's been going 60 miles per hour the whole time, we can infer that she left 2 hours ago.\n",
    "\n",
    "One way we can compute that number is by fitting a line to a scatter plot of our locations and speeds.  It turns out that the *slope* of that line is the amount of time that has passed.  Run the next cell to see a picture:"
   ]
  },
  {
   "cell_type": "code",
   "execution_count": 4,
   "metadata": {},
   "outputs": [
    {
     "data": {
      "application/vnd.jupyter.widget-view+json": {
       "model_id": "3e026e0c06f94304834f3cf7ac190309",
       "version_major": 2,
       "version_minor": 0
      },
      "text/plain": [
       "interactive(children=(FloatSlider(value=0.0, description='t', max=1.0, min=-2.0, step=0.05), Output()), _dom_c…"
      ]
     },
     "metadata": {},
     "output_type": "display_data"
    }
   ],
   "source": [
    "# Run this cell to see a picture of Mei's locations over time.\n",
    "\n",
    "mei_velocity = Table().with_columns(\"x\", make_array(60), \"y\", make_array(0))\n",
    "interact(\n",
    "    scatter_after_time,\n",
    "    t=widgets.FloatSlider(min=-2, max=1, step=.05, value=0, msg_throttle=1),\n",
    "    start_of_time=fixed(-2),\n",
    "    end_of_time=fixed(1),\n",
    "    velocities=fixed(mei_velocity),\n",
    "    center_name=fixed(\"Us\"),\n",
    "    other_point_name=fixed(\"Mei\"),\n",
    "    make_title=fixed(lambda t: \"Mei's position {:01g} hour{} in the {}\".format(abs(t), \"\" if abs(t) == 1 else \"s\", \"past\" if t < 0 else \"future\")));"
   ]
  },
  {
   "cell_type": "markdown",
   "metadata": {},
   "source": [
    "The slope of the line is 2 hours.  (The units are vertical-axis units divided by horizontal-axis units, which are $\\frac{\\texttt{miles}}{\\texttt{miles} / \\texttt{hour}}$, or hours.)  So that's our answer.\n",
    "\n",
    "Imagine that you don't know Mei's exact distance or speed, only rough estimates.  Then if you drew this line, you'd get a slightly bad estimate of the time since she left.  But if you measured the distance and speed of hundreds of people who left you at the same time going different speeds, and drew a line through them, the slope of that line would be a pretty good estimate of the time they left, even if the individual measurements weren't exactly right.\n",
    "\n",
    "The `drivers.csv` dataset contains the speeds and distances-from-start of 100 drivers.  They all left the same starting location at the same time, driving at a fixed speed on a straight line away from the start.  The measurements aren't exact, so they don't fit exactly on a line.  We've created a scatter plot and drawn a line through the data."
   ]
  },
  {
   "cell_type": "code",
   "execution_count": 5,
   "metadata": {},
   "outputs": [
    {
     "data": {
      "image/png": "[encoded data removed]",
      "text/plain": [
       "<Figure size 1500x500 with 1 Axes>"
      ]
     },
     "metadata": {},
     "output_type": "display_data"
    }
   ],
   "source": [
    "# Just run this cell to plot the data.\n",
    "small_driving_example = Table().with_columns(\n",
    "        \"Name\",                                       make_array(\"Us\", \"Mei\"),\n",
    "        \"Speed moving away from us (miles per hour)\", make_array(0,    60),\n",
    "        \"Current distance from us (miles)\",           make_array(0,    120))\n",
    "\n",
    "x = small_driving_example.column(\"Speed moving away from us (miles per hour)\")\n",
    "y = small_driving_example.column(\"Current distance from us (miles)\")\n",
    "plt.scatter(x,y, s=200)\n",
    "\n",
    "# Now compute the fit and overlay\n",
    "linear_model=np.polyfit(x,y,1)\n",
    "linear_model_fn=np.poly1d(linear_model)\n",
    "x_s=np.arange(0,60)\n",
    "plt.plot(x_s,linear_model_fn(x_s),color=\"green\")\n",
    "plt.xlabel('Speed moving away from start (miles per hour)')\n",
    "plt.ylabel(\"Current distance from start (miles)\")\n",
    "plt.show()"
   ]
  },
  {
   "cell_type": "markdown",
   "metadata": {},
   "source": [
    "### <font color=blue> **Question 3.** </font>\n",
    "By looking at the fit line, estimate how long ago (in hours) Mei left."
   ]
  },
  {
   "cell_type": "code",
   "execution_count": null,
   "metadata": {},
   "outputs": [],
   "source": [
    "# Just run this cell.\n",
    "drivers= Table.read_table(\"drivers.csv\")\n",
    "xd,yd = drivers.column(\"Speed moving away from us (miles per hour)\"),drivers.column(\"Current distance from us (miles)\")\n",
    "drivers"
   ]
  },
  {
   "cell_type": "code",
   "execution_count": null,
   "metadata": {},
   "outputs": [],
   "source": [
    "plt.scatter(xd,yd, color='red')\n",
    "plt.title('Cars leaving at same time but different speeds')\n",
    "# Second approach to plotting\n",
    "plt.xlabel('Speed moving away from start (miles per hour)')\n",
    "plt.ylabel(\"Current distance from start (miles)\")\n",
    "#create scatterplot with regression line and confidence interval lines using Seaborn module\n",
    "sns.regplot(x=xd, y=yd)\n",
    "plt.show()"
   ]
  },
  {
   "cell_type": "markdown",
   "metadata": {},
   "source": [
    "##### <font color=green>Fill in the start time you infer from the above line below."
   ]
  },
  {
   "cell_type": "code",
   "execution_count": null,
   "metadata": {},
   "outputs": [],
   "source": [
    "##### Fill in the start time you infer from the above line.\n",
    "driving_start_time_hours = ...\n",
    "driving_start_time_hours"
   ]
  },
  {
   "cell_type": "code",
   "execution_count": null,
   "metadata": {
    "scrolled": true
   },
   "outputs": [],
   "source": [
    "check('tests/q3.py')"
   ]
  },
  {
   "cell_type": "markdown",
   "metadata": {},
   "source": [
    "### Back to cosmology\n",
    "To do the same thing for the universe, we need to know the distance-from-Earth and speed-away-from-Earth of many celestial objects.  Using pictures taken by very accurate telescopes and a lot of physics, astronomers have been able to estimate both.  It turns out that *nearby supernovae* -- stars that have recently died and exploded -- are among the best sources of this data, because they are very easy to see.  This picture taken by the Hubble telescope shows an entire galaxy, with a single supernova - as bright by itself as billions of stars - at the bottom left.\n",
    "\n",
    "<img src=\"supernova.jpg\">\n",
    "\n",
    "Our astronomical data for today will come from the [Supernova Cosmology Project](http://supernova.lbl.gov/union/) at Lawrence Berkeley Lab.  The original dataset is [here](http://supernova.lbl.gov/union/figures/SCPUnion2.1_mu_vs_z.txt), with (brief) documentation [here](http://supernova.lbl.gov/union/descriptions.html#Magvsz).  Each row in the table corresponds to a supernova near Earth that was observed by astronomers.  From pictures like the one above, the astronomers deduced how far away each supernova was from Earth and how fast it was moving away from Earth.  Their deductions were good, but not perfect.\n",
    "\n",
    "Run the cell below to load the data into a table called `close_novas` and make a scatter plot. (If you prefer, you can also use the name `close_novae`; both are correct.)"
   ]
  },
  {
   "cell_type": "markdown",
   "metadata": {},
   "source": [
    "### <font color=blue> **Question 4.** </font>\n",
    "Looking this plot, make a guess at the age of the universe.\n",
    "\n",
    "**Note**: Make sure you get the units right!  In case you need to know what a parsec is, it's a big unit of distance, equivalent to 30.86 trillion kilometers."
   ]
  },
  {
   "cell_type": "code",
   "execution_count": 6,
   "metadata": {},
   "outputs": [
    {
     "data": {
      "text/html": [
       "<table border=\"1\" class=\"dataframe\">\n",
       "    <thead>\n",
       "        <tr>\n",
       "            <th>Speed (parsecs/year)</th> <th>Distance (million parsecs)</th>\n",
       "        </tr>\n",
       "    </thead>\n",
       "    <tbody>\n",
       "        <tr>\n",
       "            <td>0.00873361          </td> <td>117.305                   </td>\n",
       "        </tr>\n",
       "        <tr>\n",
       "            <td>0.0153418           </td> <td>217.007                   </td>\n",
       "        </tr>\n",
       "        <tr>\n",
       "            <td>0.0162256           </td> <td>230.961                   </td>\n",
       "        </tr>\n",
       "        <tr>\n",
       "            <td>0.00528131          </td> <td>85.2853                   </td>\n",
       "        </tr>\n",
       "        <tr>\n",
       "            <td>0.0129474           </td> <td>185.051                   </td>\n",
       "        </tr>\n",
       "        <tr>\n",
       "            <td>0.0138862           </td> <td>212.841                   </td>\n",
       "        </tr>\n",
       "        <tr>\n",
       "            <td>0.0111837           </td> <td>151.728                   </td>\n",
       "        </tr>\n",
       "        <tr>\n",
       "            <td>0.0060085           </td> <td>82.6121                   </td>\n",
       "        </tr>\n",
       "        <tr>\n",
       "            <td>0.00838228          </td> <td>104.029                   </td>\n",
       "        </tr>\n",
       "        <tr>\n",
       "            <td>0.00812078          </td> <td>124.778                   </td>\n",
       "        </tr>\n",
       "    </tbody>\n",
       "</table>\n",
       "<p>... (146 rows omitted)</p>"
      ],
      "text/plain": [
       "Speed (parsecs/year) | Distance (million parsecs)\n",
       "0.00873361           | 117.305\n",
       "0.0153418            | 217.007\n",
       "0.0162256            | 230.961\n",
       "0.00528131           | 85.2853\n",
       "0.0129474            | 185.051\n",
       "0.0138862            | 212.841\n",
       "0.0111837            | 151.728\n",
       "0.0060085            | 82.6121\n",
       "0.00838228           | 104.029\n",
       "0.00812078           | 124.778\n",
       "... (146 rows omitted)"
      ]
     },
     "execution_count": 6,
     "metadata": {},
     "output_type": "execute_result"
    }
   ],
   "source": [
    "# Just run this cell.\n",
    "close_novas = Table.read_table(\"close_novas.csv\")\n",
    "close_novas "
   ]
  },
  {
   "cell_type": "code",
   "execution_count": 7,
   "metadata": {},
   "outputs": [
    {
     "data": {
      "image/png": "[encoded data removed]",
      "text/plain": [
       "<Figure size 1500x500 with 1 Axes>"
      ]
     },
     "metadata": {},
     "output_type": "display_data"
    },
    {
     "data": {
      "text/html": [
       "<table border=\"1\" class=\"dataframe\">\n",
       "    <thead>\n",
       "        <tr>\n",
       "            <th>Speed (parsecs/year)</th> <th>Distance (million parsecs)</th>\n",
       "        </tr>\n",
       "    </thead>\n",
       "    <tbody>\n",
       "        <tr>\n",
       "            <td>0.00873361          </td> <td>117.305                   </td>\n",
       "        </tr>\n",
       "        <tr>\n",
       "            <td>0.0153418           </td> <td>217.007                   </td>\n",
       "        </tr>\n",
       "        <tr>\n",
       "            <td>0.0162256           </td> <td>230.961                   </td>\n",
       "        </tr>\n",
       "        <tr>\n",
       "            <td>0.00528131          </td> <td>85.2853                   </td>\n",
       "        </tr>\n",
       "        <tr>\n",
       "            <td>0.0129474           </td> <td>185.051                   </td>\n",
       "        </tr>\n",
       "        <tr>\n",
       "            <td>0.0138862           </td> <td>212.841                   </td>\n",
       "        </tr>\n",
       "        <tr>\n",
       "            <td>0.0111837           </td> <td>151.728                   </td>\n",
       "        </tr>\n",
       "        <tr>\n",
       "            <td>0.0060085           </td> <td>82.6121                   </td>\n",
       "        </tr>\n",
       "        <tr>\n",
       "            <td>0.00838228          </td> <td>104.029                   </td>\n",
       "        </tr>\n",
       "        <tr>\n",
       "            <td>0.00812078          </td> <td>124.778                   </td>\n",
       "        </tr>\n",
       "    </tbody>\n",
       "</table>\n",
       "<p>... (146 rows omitted)</p>"
      ],
      "text/plain": [
       "Speed (parsecs/year) | Distance (million parsecs)\n",
       "0.00873361           | 117.305\n",
       "0.0153418            | 217.007\n",
       "0.0162256            | 230.961\n",
       "0.00528131           | 85.2853\n",
       "0.0129474            | 185.051\n",
       "0.0138862            | 212.841\n",
       "0.0111837            | 151.728\n",
       "0.0060085            | 82.6121\n",
       "0.00838228           | 104.029\n",
       "0.00812078           | 124.778\n",
       "... (146 rows omitted)"
      ]
     },
     "execution_count": 7,
     "metadata": {},
     "output_type": "execute_result"
    }
   ],
   "source": [
    "xn,yn = close_novas.column(\"Speed (parsecs/year)\"),close_novas.column(\"Distance (million parsecs)\")\n",
    "sns.regplot(x=xn, y=yn)\n",
    "plt.xlabel('Speed (parsecs/year)')\n",
    "plt.ylabel('Distance (million parsecs)')\n",
    "plt.show()"
   ]
  },
  {
   "cell_type": "markdown",
   "metadata": {},
   "source": [
    "##### <font color=green>Fill in the first guess in years that you infer from the above line plotted above. Careful with the different units on each axis, million parsecs versus parsecs/year."
   ]
  },
  {
   "cell_type": "code",
   "execution_count": null,
   "metadata": {},
   "outputs": [],
   "source": [
    "first_guess_universe_age_years = ...  # Enter guess in years not billions of years\n",
    "\n",
    "# This just shows your guess as a nice string, in billions of years.\n",
    "\"{:,} billion years\".format(round(first_guess_universe_age_years / 1e9, 2))"
   ]
  },
  {
   "cell_type": "code",
   "execution_count": null,
   "metadata": {},
   "outputs": [],
   "source": [
    "check('tests/q4.py')"
   ]
  },
  {
   "cell_type": "markdown",
   "metadata": {},
   "source": [
    "### Fitting the line yourself\n",
    "Displaying a fit line is visually helpful but we need to be able to calculate the slope as a number.  Recall that the least-squares regression line for our supernova data is:\n",
    "* the line\n",
    "* with the smallest average (over all the supernovae we observe)\n",
    "* error\n",
    "* squared\n",
    "* where the error is\n",
    "\n",
    "$$\\text{the supernova's actual distance from Earth} - \\text{the height of the line at that supernova's speed.}$$"
   ]
  },
  {
   "cell_type": "code",
   "execution_count": 8,
   "metadata": {},
   "outputs": [
    {
     "data": {
      "text/html": [
       "<table border=\"1\" class=\"dataframe\">\n",
       "    <thead>\n",
       "        <tr>\n",
       "            <th>Speed (parsecs/year)</th> <th>Distance (million parsecs)</th> <th>predict</th>\n",
       "        </tr>\n",
       "    </thead>\n",
       "    <tbody>\n",
       "        <tr>\n",
       "            <td>0.00873361          </td> <td>117.305                   </td> <td>159.17 </td>\n",
       "        </tr>\n",
       "        <tr>\n",
       "            <td>0.0153418           </td> <td>217.007                   </td> <td>241.772</td>\n",
       "        </tr>\n",
       "        <tr>\n",
       "            <td>0.0162256           </td> <td>230.961                   </td> <td>252.82 </td>\n",
       "        </tr>\n",
       "        <tr>\n",
       "            <td>0.00528131          </td> <td>85.2853                   </td> <td>116.016</td>\n",
       "        </tr>\n",
       "        <tr>\n",
       "            <td>0.0129474           </td> <td>185.051                   </td> <td>211.843</td>\n",
       "        </tr>\n",
       "        <tr>\n",
       "            <td>0.0138862           </td> <td>212.841                   </td> <td>223.577</td>\n",
       "        </tr>\n",
       "        <tr>\n",
       "            <td>0.0111837           </td> <td>151.728                   </td> <td>189.797</td>\n",
       "        </tr>\n",
       "        <tr>\n",
       "            <td>0.0060085           </td> <td>82.6121                   </td> <td>125.106</td>\n",
       "        </tr>\n",
       "        <tr>\n",
       "            <td>0.00838228          </td> <td>104.029                   </td> <td>154.779</td>\n",
       "        </tr>\n",
       "        <tr>\n",
       "            <td>0.00812078          </td> <td>124.778                   </td> <td>151.51 </td>\n",
       "        </tr>\n",
       "    </tbody>\n",
       "</table>\n",
       "<p>... (146 rows omitted)</p>"
      ],
      "text/plain": [
       "Speed (parsecs/year) | Distance (million parsecs) | predict\n",
       "0.00873361           | 117.305                    | 159.17\n",
       "0.0153418            | 217.007                    | 241.772\n",
       "0.0162256            | 230.961                    | 252.82\n",
       "0.00528131           | 85.2853                    | 116.016\n",
       "0.0129474            | 185.051                    | 211.843\n",
       "0.0138862            | 212.841                    | 223.577\n",
       "0.0111837            | 151.728                    | 189.797\n",
       "0.0060085            | 82.6121                    | 125.106\n",
       "0.00838228           | 104.029                    | 154.779\n",
       "0.00812078           | 124.778                    | 151.51\n",
       "... (146 rows omitted)"
      ]
     },
     "execution_count": 8,
     "metadata": {},
     "output_type": "execute_result"
    }
   ],
   "source": [
    "## TEST Fitting a practice line with slope and intercept that you pick, a trial and error approach\n",
    "slope = ...\n",
    "intercept = ...\n",
    "predict = close_novas.column('Speed (parsecs/year)')*slope+intercept\n",
    "tbl = close_novas.with_column('predict',predict/1e6)\n",
    "tbl"
   ]
  },
  {
   "cell_type": "markdown",
   "metadata": {},
   "source": [
    "### <font color=blue> **Question 5.** </font>\n",
    "Define a function called `errors`.  It should take three arguments:\n",
    "1. a table like `close_novas` (with the same column names and meanings, but not necessarily the same data)\n",
    "2. the slope of a line (a number)\n",
    "3. the intercept of a line (a number).\n",
    "\n",
    "It should return an array of the errors made when a line with that slope and intercept is used to predict distance from speed for each supernova in the given table.  (The error is the actual distance minus the predicted distance.)"
   ]
  },
  {
   "cell_type": "code",
   "execution_count": null,
   "metadata": {
    "for_assignment_type": "student"
   },
   "outputs": [],
   "source": [
    "def errors(tbl, sl, inter):\n",
    "    \"\"\" Functions to compute errors (residuals) using a given\n",
    "    Table, tbl, slope, sl, and intercept, inter       \"\"\"\n",
    "    y = ...\n",
    "    \n",
    "    ## predicted values from line  \n",
    "    predicted_y = ...  \n",
    "    \n",
    "    ## errors \n",
    "    error_values = ...\n",
    "    \n",
    "    return ..."
   ]
  },
  {
   "cell_type": "markdown",
   "metadata": {},
   "source": [
    "#### <font color=blue> **Question 6.** </font>\n",
    "Using the function `errors`, compute the errors for the line with slope `16000` and intercept `0` on the `close_novas` dataset.  Name that array `example_errors`.  These errors are what is termed residuals or the remaining, residual, value of the independent variable, 'Distance (million parsecs)', that is not fit by the linear function. Overlay a scatter plot of the errors below a scatter plot of the close_novas Table.\n",
    "\n",
    "**Hint:** To make a scatter plot of the errors, plot the error for each supernova in the dataset contained in the array example_errors generated by the `errors()` function .  Put the actual speed on the horizontal axis and the error on the vertical axis."
   ]
  },
  {
   "cell_type": "code",
   "execution_count": null,
   "metadata": {
    "scrolled": true
   },
   "outputs": [],
   "source": [
    "example_errors = errors(...,...,...)\n",
    "example_errors"
   ]
  },
  {
   "cell_type": "code",
   "execution_count": null,
   "metadata": {},
   "outputs": [],
   "source": [
    "close_novas.scatter(0,1)\n",
    "plt.scatter(close_novas[0],example_errors, label='example errors = residuals')\n",
    "plt.legend()\n",
    "plt.show()"
   ]
  },
  {
   "cell_type": "code",
   "execution_count": null,
   "metadata": {},
   "outputs": [],
   "source": [
    "check('tests/q6.py')"
   ]
  },
  {
   "cell_type": "markdown",
   "metadata": {},
   "source": [
    "You should find that the errors are almost all negative.  That means our line is a little bit too steep.  Let's find a better one."
   ]
  },
  {
   "cell_type": "markdown",
   "metadata": {},
   "source": [
    "### <font color='green'>Residuals</font>\n",
    "The residuals are the example errors that we plotted above but below our close_novas data in blue. Now we will interactively fit the close_novas data. Adjust the slope, m, and the intercept, b, to get the best fit. The sum of the square residuals is included in the legend."
   ]
  },
  {
   "cell_type": "code",
   "execution_count": null,
   "metadata": {},
   "outputs": [],
   "source": [
    "# Code to interactively optimize slope, run code, adjust sliders.\n",
    "def residual(x,y,m,b):\n",
    "    yhat = m*x+b\n",
    "    res = y-yhat\n",
    "    return res\n",
    "def f(m, b):\n",
    "    plt.figure(2)\n",
    "   \n",
    "    x = close_novas[0]\n",
    "    y = close_novas[1]\n",
    "    plt.scatter(x,y, label='Close Novas')\n",
    "    xl = np.linspace(0, .025, num=1000)\n",
    "    plt.plot(xl, m * xl + b, c='red', label='fit line')\n",
    "    ssr = np.sum(residual(x,y,m,b)**2)\n",
    "    plt.scatter(x, residual(x,y,m,b), s=20, c='chartreuse', label='residuals: ssr ='+str(round(ssr,2)))\n",
    "    plt.xlabel('Speed (parsecs/year)')\n",
    "    plt.ylabel('Distance (million parsecs)')\n",
    "    plt.legend()\n",
    "    plt.ylim(-100, 300)\n",
    "    plt.xlim(.004, 0.022)\n",
    "    plt.show()\n",
    "\n",
    "interactive_plot = interactive(f, m=(0, 20000), b=(-50, 50, 1))\n",
    "output = interactive_plot.children[-1]\n",
    "output.layout.height = '350px'\n",
    "interactive_plot"
   ]
  },
  {
   "cell_type": "markdown",
   "metadata": {},
   "source": [
    "<font color='green'>Enter your best slope, m, intercept, b, and compute mean squared error (MSE) based on ssr given in figure.</font>\n",
    "$$ ssr = \\sum(y-\\hat{y})^2 $$\n",
    "$$ MSE = \\frac{\\sum(y-\\hat{y})^2}{n} $$"
   ]
  },
  {
   "cell_type": "code",
   "execution_count": null,
   "metadata": {},
   "outputs": [],
   "source": [
    "m = ...\n",
    "b = ...\n",
    "n = ...  # Think about number of data points in a Table\n",
    "MSE = ..."
   ]
  },
  {
   "cell_type": "markdown",
   "metadata": {},
   "source": [
    "In Lab 09 when we examined the Old Faithful data and found a correlation and linear relationship between geyser eruption duration and wait time until the next eruption.  By calculating the correlation coefficient we can then compute the slope and intercept. See Section [15.1.2](https://inferentialthinking.com/chapters/15/1/Correlation.html#calculating-r).\n",
    "***\n",
    "Standard Units: To get correlation coefficient, r, we use standard units\n",
    "***\n",
    "$$\\bar{x}=mean(x)$$\n",
    "$$variance=mean((x-\\bar{x})^2)=\\frac{\\sum(x-\\bar{x})^2}{n}$$\n",
    "$$SD_{population} = \\sqrt{\\frac{\\sum(x-\\bar{x})^2}{n}}$$\n",
    "$$ Z = {\\frac{(x-\\bar{x})}{SD}}$$\n",
    "$Z$ is the z-value which is the value of a given variable in standard units.<br>\n",
    "***\n",
    "Correlation coefficient: $r$\n",
    "***\n",
    "$$ r = np.mean(x_{standard}*y_{standard})$$"
   ]
  },
  {
   "cell_type": "code",
   "execution_count": null,
   "metadata": {
    "for_assignment_type": "student"
   },
   "outputs": [],
   "source": [
    "speed_mean = ...\n",
    "speed_std = ...\n",
    "distance_mean = ...\n",
    "distance_std = ...\n",
    "\n",
    "close_novas_standard = Table().with_columns(\n",
    "    \"speed (standard units)\", ...,\n",
    "    \"distance (standard units)\", ...)\n",
    "close_novas_standard"
   ]
  },
  {
   "cell_type": "markdown",
   "metadata": {},
   "source": [
    "Use columns from the above table, `close_novas_standard`, to compute the correlation cofficient, r, and then the slope of the line in original units since the slope of the line in standard units is r. Read section [15.2.5](https://inferentialthinking.com/chapters/15/2/Regression_Line.html#the-equation-of-the-regression-line) to get the equations for the slope and intercept."
   ]
  },
  {
   "cell_type": "code",
   "execution_count": null,
   "metadata": {},
   "outputs": [],
   "source": [
    "r = ...\n",
    "r"
   ]
  },
  {
   "cell_type": "code",
   "execution_count": null,
   "metadata": {},
   "outputs": [],
   "source": [
    "slope = ...\n",
    "slope"
   ]
  },
  {
   "cell_type": "code",
   "execution_count": null,
   "metadata": {},
   "outputs": [],
   "source": [
    "intercept = ...\n",
    "intercept"
   ]
  },
  {
   "cell_type": "markdown",
   "metadata": {},
   "source": [
    "### Regression Functions\n",
    "Use as part of a toolbox for later analysis"
   ]
  },
  {
   "cell_type": "code",
   "execution_count": null,
   "metadata": {},
   "outputs": [],
   "source": [
    "def standard_units(any_numbers):\n",
    "    \"Convert any array of numbers to standard units.\"\n",
    "    return (any_numbers - np.mean(any_numbers))/np.std(any_numbers)  \n",
    "def correlation(t, label_x, label_y):\n",
    "    return np.mean(standard_units(t.column(label_x))*standard_units(t.column(label_y)))\n",
    "\n",
    "def slope(t, label_x, label_y):\n",
    "    r = correlation(t, label_x, label_y)\n",
    "    return r*np.std(t.column(label_y))/np.std(t.column(label_x))\n",
    "\n",
    "def intercept(t, label_x, label_y):\n",
    "    return np.mean(t.column(label_y)) - slope(t, label_x, label_y)*np.mean(t.column(label_x))"
   ]
  },
  {
   "cell_type": "markdown",
   "metadata": {},
   "source": [
    "##### Example:"
   ]
  },
  {
   "cell_type": "code",
   "execution_count": null,
   "metadata": {},
   "outputs": [],
   "source": [
    "correlation(close_novas, 'Speed (parsecs/year)','Distance (million parsecs)')"
   ]
  },
  {
   "cell_type": "code",
   "execution_count": null,
   "metadata": {},
   "outputs": [],
   "source": [
    "slope(...,...,...)"
   ]
  },
  {
   "cell_type": "code",
   "execution_count": null,
   "metadata": {},
   "outputs": [],
   "source": [
    "intercept(...,...,...)"
   ]
  },
  {
   "cell_type": "markdown",
   "metadata": {},
   "source": [
    "There are many measures of the quality of a linear regression fit. One measure is the correlation coefficient squared which is the proportion of variation in the dependent variable, `Distance (million parsecs)` in this case, which can be attributed to variation in the dependent variable, `Speed (parsecs/year)` in this case. A value of 1.0 indicates that all the variation in the dependent variable can be attributed to variation in the independent variable."
   ]
  },
  {
   "cell_type": "code",
   "execution_count": null,
   "metadata": {},
   "outputs": [],
   "source": [
    "rsquared = ..."
   ]
  },
  {
   "cell_type": "markdown",
   "metadata": {},
   "source": [
    "### <font color=blue> **Question 7.** </font>\n",
    "Define a function called `fit_line`.  It should take a table like `close_novas` (with the same column names and meanings) as its argument.  It should return an array containing the slope (as item 0) and intercept (as item 1) of the least-squares regression line predicting distance from speed for that table. Use the functions defined above under **Regression Functions**."
   ]
  },
  {
   "cell_type": "code",
   "execution_count": null,
   "metadata": {},
   "outputs": [],
   "source": [
    "def fit_line(tbl, label_x, label_y):\n",
    "    # Your code may need more than 1 line below here.\n",
    "    slope_compute = ...\n",
    "    intercept_compute = ...\n",
    "    return make_array(slope_compute, intercept_compute)"
   ]
  },
  {
   "cell_type": "code",
   "execution_count": null,
   "metadata": {},
   "outputs": [],
   "source": [
    "# Here is an example call to your function.  To test your function,\n",
    "# figure out the right slope and intercept by hand.\n",
    "example_table = Table().with_columns(\n",
    "    \"Speed (parsecs/year)\", make_array(0, 1),\n",
    "    \"Distance (million parsecs)\", make_array(1, 3))\n",
    "fit_line(example_table, \"Speed (parsecs/year)\", \"Distance (million parsecs)\" )"
   ]
  },
  {
   "cell_type": "code",
   "execution_count": null,
   "metadata": {},
   "outputs": [],
   "source": [
    "check('tests/q7.py')"
   ]
  },
  {
   "cell_type": "markdown",
   "metadata": {},
   "source": [
    "### <font color=blue> **Question 8.** </font>\n",
    "Use your function to fit a line to `close_novas`.\n",
    "\n",
    "Then, set `new_errors` equal to the errors that we get calling `errors` with our new line. The following line will graph the corresponding residual plot with a best fit line.\n",
    "\n",
    "Make sure that the residual plot makes sense (Hint: what qualities should the best fit line of a residual plot have?)"
   ]
  },
  {
   "cell_type": "markdown",
   "metadata": {},
   "source": [
    "Create a residual function which returns an array of the unfit portion of the independent variable or residuals."
   ]
  },
  {
   "cell_type": "code",
   "execution_count": null,
   "metadata": {},
   "outputs": [],
   "source": [
    "def residual(x,y,m,b): # x data, y data, slope = m, intercept = b\n",
    "    yhat = ...+... # fit of y\n",
    "    res = y-yhat\n",
    "    return res"
   ]
  },
  {
   "cell_type": "code",
   "execution_count": null,
   "metadata": {},
   "outputs": [],
   "source": [
    "### Test of residual\n",
    "residual(close_novas[0],...,16000,0)"
   ]
  },
  {
   "cell_type": "code",
   "execution_count": null,
   "metadata": {},
   "outputs": [],
   "source": [
    "best_line = ...\n",
    "m = ... # best line slope\n",
    "b = ... # best line intercept\n",
    "r_squared = correlation(..., ..., ...)**2\n",
    "residuals = ... # Array with residuals/errors\n",
    "\n",
    "# This code displays the residual plot, given your values for the best_line_slope and best_line_intercept\n",
    "# This code displays the residual plot, given your values for the best_line_slope and best_line_intercept\n",
    "plt.figure(2)\n",
    "x = close_novas.column('Speed (parsecs/year)')\n",
    "y = close_novas.column('Distance (million parsecs)')\n",
    "plt.scatter(x,y, label='Close Novas')\n",
    "xl = np.linspace(0, .025, num=1000)\n",
    "plt.plot(xl, m * xl + b, c='red', label='fit line')\n",
    "ssr = np.sum(residual(x,y,m,b)**2)\n",
    "plt.scatter(x, residual(x,y,m,b), s=20, c='chartreuse', label='residuals: ssr ='+str(round(ssr,2)))\n",
    "plt.xlabel('Speed (parsecs/year)')\n",
    "plt.ylabel('Distance (million parsecs)')\n",
    "plt.legend()\n",
    "plt.ylim(-100, 300)\n",
    "plt.xlim(.004, 0.022)\n",
    "plt.show()\n",
    "\n",
    "\n",
    "# This just shows your answer as a nice string, in billions of years.\n",
    "print(f'Slope: {m:g} (corresponding to an estimated age of {m/1000:.4f} billion years)')\n",
    "print(f'R**2 = {r_squared:.4f}')\n",
    "print(f'ssr = {ssr:.4f}')"
   ]
  },
  {
   "cell_type": "markdown",
   "metadata": {},
   "source": [
    "That slope (multiplied by 1 million) is an estimate of the age of the universe.  The current best estimate of the age of the universe (using slightly more sophisticated techniques) is 13.799 billion years.  \n",
    "<br>\n",
    "What was our determined age? Did we get close?<br>\n",
    "\n",
    "<font color='blue'>*Write your answer here, replacing this text.*</font>\n",
    "\n",
    "\n",
    "One reason our answer might be a little off is that we are using a sample of only some of the supernovae in the universe.  Our sample isn't exactly random, since astronomers presumably chose the novae that were easiest to measure (or used some other nonrandom criteria).  But let's assume it is.  How can we produce a confidence interval for the age of the universe?"
   ]
  },
  {
   "cell_type": "markdown",
   "metadata": {},
   "source": [
    "### <font color=blue> **Bootstrap** </font>\n",
    "The Bootstrap is a powerful means to estimate the variation in determined quantities such as slope and intercept by resampling the data used in the determination. See in Inferential Thinking about the Bootstrap in [13.2](https://inferentialthinking.com/chapters/13/2/Bootstrap.html?highlight=bootstrap)"
   ]
  },
  {
   "cell_type": "markdown",
   "metadata": {},
   "source": [
    "### <font color=blue> **Question 9.** </font>\n",
    "It's time to bootstrap so that we can quantify the variability in our estimate! Simulate 1000 resamples from `close_novas`.  For each resample, compute the slope of the least-squares regression line, and convert to billion years to compute an estimate of the age of the universe.  Store these ages in an array called `bootstrap_ages`, and then use them to compute a 95% confidence interval for the age of the universe.\n",
    "\n",
    "**Note:** This might take up to a minute, and more repetitions will take even longer. See text: [Inferential Thinking 13.1](https://inferentialthinking.com/chapters/13/2/Bootstrap.html?highlight=bootstrap)"
   ]
  },
  {
   "cell_type": "markdown",
   "metadata": {},
   "source": [
    "The `.sample()` Table method randomly samples the table with replacement. With replacement means that after a given row is put in the sample it is replaced and can possibly be resampled 1 or more times and some rows may never be sampled leading to different statistics including the slope and intercept for the data set stored in the table. If a number is specified in the `sample(5)` then that is the number od samples, otherwise the sampled data will have the same number of rows as the original Table. For example below with 5 samples."
   ]
  },
  {
   "cell_type": "code",
   "execution_count": null,
   "metadata": {},
   "outputs": [],
   "source": [
    "close_novas.sample(5)"
   ]
  },
  {
   "cell_type": "code",
   "execution_count": null,
   "metadata": {},
   "outputs": [],
   "source": [
    "fit_line(close_novas.sample(5), \"Speed (parsecs/year)\", \"Distance (million parsecs)\" )"
   ]
  },
  {
   "cell_type": "markdown",
   "metadata": {},
   "source": [
    "From this sample we get for the age of the universe:"
   ]
  },
  {
   "cell_type": "code",
   "execution_count": null,
   "metadata": {},
   "outputs": [],
   "source": [
    "age_universe = fit_line(close_novas.sample(5), \"Speed (parsecs/year)\", \"Distance (million parsecs)\" )[0]/1000\n",
    "age_universe"
   ]
  },
  {
   "cell_type": "markdown",
   "metadata": {},
   "source": [
    "The `percentile()` function from the datscience module computes the value for the given percentile among the values in an array"
   ]
  },
  {
   "cell_type": "code",
   "execution_count": null,
   "metadata": {},
   "outputs": [],
   "source": [
    "percentile(25, close_novas.sample(5)[1]) # 25 percentile of \"Distance (million parsecs)\""
   ]
  },
  {
   "cell_type": "markdown",
   "metadata": {},
   "source": [
    "Put in the 50th percentile = median of \"Speed (parsecs/year)\""
   ]
  },
  {
   "cell_type": "code",
   "execution_count": null,
   "metadata": {},
   "outputs": [],
   "source": [
    "percentile(..., close_novas.sample(5)[1])"
   ]
  },
  {
   "cell_type": "markdown",
   "metadata": {},
   "source": [
    "Code the 97.5 percentile of \"Distance (million parsecs)\""
   ]
  },
  {
   "cell_type": "code",
   "execution_count": null,
   "metadata": {},
   "outputs": [],
   "source": [
    "percentile(...,...)"
   ]
  },
  {
   "cell_type": "markdown",
   "metadata": {},
   "source": [
    "#### <font color='green'>Now use the bootstrap to determine the slope of sampled close_novas data and store in the array, `bootstrap_ages`."
   ]
  },
  {
   "cell_type": "code",
   "execution_count": null,
   "metadata": {},
   "outputs": [],
   "source": [
    "bootstrap_ages = make_array()\n",
    "for i in np.arange(...):\n",
    "    bootstrap_ages = np.append(bootstrap_ages,...)   # Remember use .sample() to resample the whole Table"
   ]
  },
  {
   "cell_type": "code",
   "execution_count": null,
   "metadata": {},
   "outputs": [],
   "source": [
    "plt.hist(bootstrap_ages)"
   ]
  },
  {
   "cell_type": "markdown",
   "metadata": {},
   "source": [
    "#### Now use the above samples in `bootstrap_ages` to examine uncertainty in slope determination and ultimately in the age of universe. Compute the range of values for the estimated age of the universe by generating the 95% confidence interval using the 2.5 and 97.5 percentiles from 1000 samples."
   ]
  },
  {
   "cell_type": "code",
   "execution_count": null,
   "metadata": {},
   "outputs": [],
   "source": [
    "lower_end = ... # Use percentile function\n",
    "upper_end = ...\n",
    "\n",
    "age_universe = np.mean(bootstrap_ages)\n",
    "interval = (np.mean(age_universe-lower_end)) # Estimate of CI\n",
    "Table().with_column(\"Age estimate\", bootstrap_ages).hist(bins=np.arange(13, 15.5, .1), unit=\"billion years\", edgecolor='grey')\n",
    "plt.plot([lower_end,upper_end],[0,0],c='chartreuse',lw=10, label='95% CI')\n",
    "plt.text(age_universe,2.1,f'Age of universe estimate: \\n{age_universe:.1f} +/- {interval:.1f} billion years', size=11, color='red')\n",
    "plt.vlines(age_universe,0,2,linestyles='dashed')\n",
    "plt.legend()\n",
    "print(\"95% confidence interval for the age of the universe: [{:g}, {:g}] billion years\".format(lower_end, upper_end))"
   ]
  },
  {
   "cell_type": "markdown",
   "metadata": {},
   "source": [
    "#### <font color=blue> **Question 9 Discussion.** </font>\n",
    "What is the confidence interval on your estimated age of the universe?  Does the confidence interval on the slope include the value zero? If not, can we reject the null hypothesis that there is no correlation between close nova speed and distance?  Compare your result to the [Planck project 2015 results](https://arxiv.org/pdf/1502.01589.pdf), which estimated the age of the universe to be 13.799±0.021 billion years. Is the accepted age of the universe in this range? Conceptually, how did the bootstrap estimation of the uncertainty work?"
   ]
  },
  {
   "cell_type": "markdown",
   "metadata": {},
   "source": [
    "\n",
    "\n",
    "\n",
    "\n",
    "\n"
   ]
  },
  {
   "cell_type": "code",
   "execution_count": null,
   "metadata": {},
   "outputs": [],
   "source": [
    "check('tests/q9.py')"
   ]
  },
  {
   "cell_type": "markdown",
   "metadata": {
    "tags": []
   },
   "source": [
    "#### <font color=blue> **Question 10.** </font>\n",
    "\n",
    "At the end of each lab, please include a reflection. \n",
    "* How did this lab go? \n",
    "* Are you starting to get the hang of writing functions?\n",
    "* Were there questions you found especially challenging you would like your instructor to review in class? \n",
    "* How long did the lab take you to complete?\n",
    "\n",
    "Share your feedback so we can continue to improve this class!\n",
    "\n",
    "**Insert a markdown cell below this one and write your reflection on this lab.**"
   ]
  },
  {
   "cell_type": "markdown",
   "metadata": {},
   "source": [
    "Nice work, data astronomer!  **Please remember to submit!***"
   ]
  },
  {
   "cell_type": "markdown",
   "metadata": {},
   "source": [
    "..."
   ]
  },
  {
   "cell_type": "code",
   "execution_count": null,
   "metadata": {},
   "outputs": [],
   "source": [
    "# For your convenience, you can run this cell to run all the tests at once!\n",
    "import glob\n",
    "from gofer.ok import check\n",
    "correct = 0\n",
    "checks = [3,4,6,7,9]\n",
    "total = len(checks)\n",
    "for x in checks:\n",
    "    print('Testing question {}: '.format(str(x)))\n",
    "    g = check('tests/q{}.py'.format(str(x)))\n",
    "    if g.grade == 1.0:\n",
    "        print(\"Passed\")\n",
    "        correct += 1\n",
    "    else:\n",
    "        print('Failed')\n",
    "        display(g)\n",
    "\n",
    "print('Grade:  {}'.format(str(correct/total)))\n",
    "print(\"Nice work \",name, user)\n",
    "import time;\n",
    "localtime = time.asctime( time.localtime(time.time()) )\n",
    "print(\"Submitted @ \", localtime)"
   ]
  }
 ],
 "metadata": {
  "anaconda-cloud": {},
  "jupytext": {
   "encoding": "# -*- coding: utf-8 -*-",
   "formats": "ipynb,py:hydrogen"
  },
  "kernelspec": {
   "display_name": "Python 3 (ipykernel)",
   "language": "python",
   "name": "python3"
  },
  "language_info": {
   "codemirror_mode": {
    "name": "ipython",
    "version": 3
   },
   "file_extension": ".py",
   "mimetype": "text/x-python",
   "name": "python",
   "nbconvert_exporter": "python",
   "pygments_lexer": "ipython3",
   "version": "3.9.19"
  }
 },
 "nbformat": 4,
 "nbformat_minor": 4
}
