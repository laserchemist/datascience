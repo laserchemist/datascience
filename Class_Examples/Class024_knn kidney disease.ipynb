{
 "cells": [
  {
   "cell_type": "markdown",
   "id": "a5467a5d",
   "metadata": {},
   "source": [
    "### k nearest neighbors example\n",
    "Chronic kidney disease data"
   ]
  },
  {
   "cell_type": "code",
   "execution_count": null,
   "id": "e645a418",
   "metadata": {
    "tags": []
   },
   "outputs": [],
   "source": [
    "import numpy as np\n",
    "from datascience import *\n",
    "import pandas as pd\n",
    "import matplotlib\n",
    "%matplotlib inline\n",
    "import matplotlib.pyplot as plt\n",
    "plt.style.use('fivethirtyeight')\n",
    "import warnings\n",
    "warnings.simplefilter('ignore', UserWarning)\n",
    "from IPython.display import Image\n",
    "from matplotlib.colors import ListedColormap\n",
    "from sklearn import neighbors, datasets"
   ]
  },
  {
   "cell_type": "code",
   "execution_count": null,
   "id": "daf9a617",
   "metadata": {
    "tags": []
   },
   "outputs": [],
   "source": [
    "url = \"https://raw.githubusercontent.com/vamshikrishnajr/chronic-kidney-disease-diagnosis/master/kidney_disease.csv\"\n",
    "ckd_db = pd.read_csv(url)\n",
    "ckd_db.dropna(axis=0,  inplace=True)\n",
    "ckd_db"
   ]
  },
  {
   "cell_type": "code",
   "execution_count": null,
   "id": "d82090fe",
   "metadata": {
    "tags": []
   },
   "outputs": [],
   "source": [
    "ckd_db['Class'] = np.where(ckd_db['classification'] == \"ckd\", 1, 0)\n",
    "ckd = Table().from_df(ckd_db)\n",
    "ckd"
   ]
  },
  {
   "cell_type": "code",
   "execution_count": null,
   "id": "29e792ef",
   "metadata": {
    "tags": []
   },
   "outputs": [],
   "source": [
    "def standard_units(xyz):\n",
    "    \"Convert any array of numbers to standard units.\"\n",
    "    return (xyz - np.mean(xyz))/np.std(xyz)  "
   ]
  },
  {
   "cell_type": "code",
   "execution_count": null,
   "id": "5f1e0a2d",
   "metadata": {
    "tags": []
   },
   "outputs": [],
   "source": [
    "ckd_s = Table().with_columns(\n",
    "    'Hemoglobin', standard_units(ckd.column('hemo')),\n",
    "    'Glucose', standard_units(ckd.column('bgr')),\n",
    "    'White Blood Cell Count', standard_units(ckd.column('wc')),\n",
    "    'Class', (ckd.column('Class'))\n",
    ")"
   ]
  },
  {
   "cell_type": "code",
   "execution_count": null,
   "id": "3f22563d",
   "metadata": {
    "tags": []
   },
   "outputs": [],
   "source": [
    "ckd_s.stats()"
   ]
  },
  {
   "cell_type": "code",
   "execution_count": null,
   "id": "f696140a",
   "metadata": {
    "tags": []
   },
   "outputs": [],
   "source": [
    "color_table = Table().with_columns(\n",
    "    'Class', make_array(1, 0),\n",
    "    'Color', make_array('darkblue', 'gold')\n",
    ")\n",
    "ckd_s = ckd_s.join('Class', color_table)"
   ]
  },
  {
   "cell_type": "code",
   "execution_count": null,
   "id": "ddd4b222-b792-4bf2-b45e-1132c6400e56",
   "metadata": {
    "tags": []
   },
   "outputs": [],
   "source": [
    "ckd_s"
   ]
  },
  {
   "cell_type": "code",
   "execution_count": null,
   "id": "743b061a",
   "metadata": {
    "tags": []
   },
   "outputs": [],
   "source": [
    "ckd_s.scatter('Hemoglobin', 'Glucose', group='Color')"
   ]
  },
  {
   "cell_type": "code",
   "execution_count": null,
   "id": "40fa56c3",
   "metadata": {
    "tags": []
   },
   "outputs": [],
   "source": [
    "ckd_s.scatter('White Blood Cell Count', 'Glucose', group='Color')"
   ]
  },
  {
   "cell_type": "code",
   "execution_count": null,
   "id": "a484425f",
   "metadata": {
    "tags": []
   },
   "outputs": [],
   "source": [
    "train, test = ckd_s.split(int(ckd_s.num_rows*0.8))\n",
    "print(train.num_rows, 'training and', test.num_rows, 'test instances.')"
   ]
  },
  {
   "cell_type": "code",
   "execution_count": null,
   "id": "aa736ca6",
   "metadata": {
    "tags": []
   },
   "outputs": [],
   "source": [
    "def distance(point1, point2):\n",
    "    \"\"\"Returns the Euclidean distance between point1 and point2.\n",
    "    \n",
    "    Each argument is an array containing the coordinates of a point.\"\"\"\n",
    "    return np.sqrt(np.sum((point1 - point2)**2))"
   ]
  },
  {
   "cell_type": "code",
   "execution_count": null,
   "id": "c70525fe",
   "metadata": {
    "tags": []
   },
   "outputs": [],
   "source": [
    "def row_distance(row1, row2):\n",
    "    \"\"\"The distance between two rows of a table.\"\"\"\n",
    "    return distance(np.array(row1), np.array(row2)) # Need to convert rows into arrays"
   ]
  },
  {
   "cell_type": "code",
   "execution_count": null,
   "id": "3fb1395e",
   "metadata": {
    "tags": []
   },
   "outputs": [],
   "source": [
    "test_point_row = test.drop(\"Class\",\"Color\").row(9)\n",
    "train_point_row = train.drop(\"Class\",\"Color\").row(8)"
   ]
  },
  {
   "cell_type": "code",
   "execution_count": null,
   "id": "fc02e102",
   "metadata": {
    "tags": []
   },
   "outputs": [],
   "source": [
    "np.array(train_point_row)"
   ]
  },
  {
   "cell_type": "code",
   "execution_count": null,
   "id": "9dbb35b6",
   "metadata": {
    "tags": []
   },
   "outputs": [],
   "source": [
    "row_distance(train_point_row,test_point_row)"
   ]
  },
  {
   "cell_type": "code",
   "execution_count": null,
   "id": "daed5d36-d4ad-4827-ab8f-5ac6c9bfc6a4",
   "metadata": {
    "tags": []
   },
   "outputs": [],
   "source": [
    "test.show(9)"
   ]
  },
  {
   "cell_type": "code",
   "execution_count": null,
   "id": "b5348948",
   "metadata": {
    "tags": []
   },
   "outputs": [],
   "source": [
    "def distances(training, example, output):\n",
    "    \"\"\"Compute the distance from example for each row in training.\"\"\"\n",
    "    dists = []\n",
    "    attributes = training.drop(output)\n",
    "    for row in attributes.rows:\n",
    "        dists.append(row_distance(row, example))\n",
    "    return training.with_column('Distance', dists)\n",
    "\n",
    "def closest(training, example, k, output):\n",
    "    \"\"\"Return a table of the k closest neighbors to example.\"\"\"\n",
    "    return distances(training, example, output).sort('Distance').take(np.arange(k))"
   ]
  },
  {
   "cell_type": "code",
   "execution_count": null,
   "id": "0a4bfdcf-2654-4517-a191-56462a98c8dc",
   "metadata": {
    "tags": []
   },
   "outputs": [],
   "source": [
    "test.row(31)"
   ]
  },
  {
   "cell_type": "code",
   "execution_count": null,
   "id": "d682a864",
   "metadata": {
    "tags": []
   },
   "outputs": [],
   "source": [
    "cl_knn = closest(train.drop(\"Color\"), test.drop(\"Class\",\"Color\").row(31), 8, \"Class\")\n",
    "cl_knn"
   ]
  },
  {
   "cell_type": "markdown",
   "id": "acdfe215",
   "metadata": {},
   "source": [
    "### We can use most frequent value for the class as the prediction (like majority)"
   ]
  },
  {
   "cell_type": "code",
   "execution_count": null,
   "id": "26c4a2f8",
   "metadata": {
    "tags": []
   },
   "outputs": [],
   "source": [
    "print(\"Most frequent value in the above array:\")\n",
    "print(np.bincount(cl_knn.column(\"Class\")).argmax())"
   ]
  },
  {
   "cell_type": "markdown",
   "id": "46d8a433",
   "metadata": {},
   "source": [
    "### Prediction\n",
    "Now lets predict across all test rows and get a % accuracy"
   ]
  },
  {
   "cell_type": "code",
   "execution_count": null,
   "id": "220e54b4",
   "metadata": {
    "tags": []
   },
   "outputs": [],
   "source": [
    "correct = 0\n",
    "k = 20\n",
    "for i, row in enumerate(test.drop(\"Color\").rows):\n",
    "    #print(i,row)\n",
    "    cl_knn = closest(train.drop(\"Color\"), test.drop(\"Class\",\"Color\").row(i), k, \"Class\")\n",
    "    print(i,\" Prediction: \",np.bincount(cl_knn.column(\"Class\")).argmax(),\" Actual: \",test.column(\"Class\").take(i))\n",
    "    correct += (np.bincount(cl_knn.column(\"Class\")).argmax()==test.column(\"Class\").take(i))\n",
    "print(\"% Correct: \",correct/(i+1)*100)"
   ]
  },
  {
   "cell_type": "code",
   "execution_count": null,
   "id": "a16e3508",
   "metadata": {},
   "outputs": [],
   "source": []
  }
 ],
 "metadata": {
  "kernelspec": {
   "display_name": "Python 3 (ipykernel)",
   "language": "python",
   "name": "python3"
  },
  "language_info": {
   "codemirror_mode": {
    "name": "ipython",
    "version": 3
   },
   "file_extension": ".py",
   "mimetype": "text/x-python",
   "name": "python",
   "nbconvert_exporter": "python",
   "pygments_lexer": "ipython3",
   "version": "3.10.10"
  }
 },
 "nbformat": 4,
 "nbformat_minor": 5
}
