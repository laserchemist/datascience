{
 "cells": [
  {
   "cell_type": "markdown",
   "id": "f29b42b8-2359-4774-9290-a1411be89a04",
   "metadata": {},
   "source": [
    "## Class 006 Tables tested"
   ]
  },
  {
   "cell_type": "code",
   "execution_count": 17,
   "id": "8b570ee0-306d-4fad-8ffa-e4b3b356922e",
   "metadata": {},
   "outputs": [],
   "source": [
    "from datascience import *\n",
    "import numpy as np\n",
    "import matplotlib.pyplot as plots\n",
    "plots.style.use('fivethirtyeight')\n",
    "# Fix for datascience plots\n",
    "\n",
    "# import for plotting\n",
    "%matplotlib inline"
   ]
  },
  {
   "cell_type": "markdown",
   "id": "296f5b49-1c3b-4cec-bdc7-39f3bcac2b64",
   "metadata": {},
   "source": [
    "### Create a first datascience table object from an array\n",
    "As an example we can create a table directly from data inserted into an arr"
   ]
  },
  {
   "cell_type": "code",
   "execution_count": 18,
   "id": "6342bfd6-7410-422d-a1d7-d78569a0c923",
   "metadata": {},
   "outputs": [
    {
     "data": {
      "text/plain": [
       "array([0, 0, 0, 1, 0, 0, 0, 1, 5, 1, 0, 0])"
      ]
     },
     "execution_count": 18,
     "metadata": {},
     "output_type": "execute_result"
    }
   ],
   "source": [
    "make_array(0,0,0,1,0,0,0,1,5,1,0,0)"
   ]
  },
  {
   "cell_type": "code",
   "execution_count": 19,
   "id": "67c59a8e-fdba-4390-be3c-66ce031da766",
   "metadata": {},
   "outputs": [],
   "source": [
    "T=Table().with_columns('Tornados',make_array(0,0,0,1,0,0,0,1,5,1,0,0))"
   ]
  },
  {
   "cell_type": "code",
   "execution_count": 20,
   "id": "6e55ed11-88ab-46af-92e5-d702dbef8c8f",
   "metadata": {},
   "outputs": [],
   "source": [
    "T=T.with_columns('Month',np.arange(1,13,1))"
   ]
  },
  {
   "cell_type": "code",
   "execution_count": 21,
   "id": "7e4654c5-3c27-4230-bb55-fce1450dbd13",
   "metadata": {},
   "outputs": [
    {
     "data": {
      "text/html": [
       "<table border=\"1\" class=\"dataframe\">\n",
       "    <thead>\n",
       "        <tr>\n",
       "            <th>Tornados</th> <th>Month</th>\n",
       "        </tr>\n",
       "    </thead>\n",
       "    <tbody>\n",
       "        <tr>\n",
       "            <td>0       </td> <td>1    </td>\n",
       "        </tr>\n",
       "        <tr>\n",
       "            <td>0       </td> <td>2    </td>\n",
       "        </tr>\n",
       "        <tr>\n",
       "            <td>0       </td> <td>3    </td>\n",
       "        </tr>\n",
       "        <tr>\n",
       "            <td>1       </td> <td>4    </td>\n",
       "        </tr>\n",
       "        <tr>\n",
       "            <td>0       </td> <td>5    </td>\n",
       "        </tr>\n",
       "        <tr>\n",
       "            <td>0       </td> <td>6    </td>\n",
       "        </tr>\n",
       "        <tr>\n",
       "            <td>0       </td> <td>7    </td>\n",
       "        </tr>\n",
       "        <tr>\n",
       "            <td>1       </td> <td>8    </td>\n",
       "        </tr>\n",
       "        <tr>\n",
       "            <td>5       </td> <td>9    </td>\n",
       "        </tr>\n",
       "        <tr>\n",
       "            <td>1       </td> <td>10   </td>\n",
       "        </tr>\n",
       "    </tbody>\n",
       "</table>\n",
       "<p>... (2 rows omitted)</p>"
      ],
      "text/plain": [
       "Tornados | Month\n",
       "0        | 1\n",
       "0        | 2\n",
       "0        | 3\n",
       "1        | 4\n",
       "0        | 5\n",
       "0        | 6\n",
       "0        | 7\n",
       "1        | 8\n",
       "5        | 9\n",
       "1        | 10\n",
       "... (2 rows omitted)"
      ]
     },
     "execution_count": 21,
     "metadata": {},
     "output_type": "execute_result"
    }
   ],
   "source": [
    "T"
   ]
  },
  {
   "cell_type": "code",
   "execution_count": 22,
   "id": "205d03a4-76e3-4343-a834-ff74345ea3f9",
   "metadata": {},
   "outputs": [
    {
     "data": {
      "text/html": [
       "<table border=\"1\" class=\"dataframe\">\n",
       "    <thead>\n",
       "        <tr>\n",
       "            <th>Tornados</th> <th>Month</th>\n",
       "        </tr>\n",
       "    </thead>\n",
       "    <tbody>\n",
       "        <tr>\n",
       "            <td>5       </td> <td>9    </td>\n",
       "        </tr>\n",
       "        <tr>\n",
       "            <td>1       </td> <td>4    </td>\n",
       "        </tr>\n",
       "        <tr>\n",
       "            <td>1       </td> <td>8    </td>\n",
       "        </tr>\n",
       "        <tr>\n",
       "            <td>1       </td> <td>10   </td>\n",
       "        </tr>\n",
       "        <tr>\n",
       "            <td>0       </td> <td>1    </td>\n",
       "        </tr>\n",
       "        <tr>\n",
       "            <td>0       </td> <td>2    </td>\n",
       "        </tr>\n",
       "        <tr>\n",
       "            <td>0       </td> <td>3    </td>\n",
       "        </tr>\n",
       "        <tr>\n",
       "            <td>0       </td> <td>5    </td>\n",
       "        </tr>\n",
       "        <tr>\n",
       "            <td>0       </td> <td>6    </td>\n",
       "        </tr>\n",
       "        <tr>\n",
       "            <td>0       </td> <td>7    </td>\n",
       "        </tr>\n",
       "    </tbody>\n",
       "</table>\n",
       "<p>... (2 rows omitted)</p>"
      ],
      "text/plain": [
       "Tornados | Month\n",
       "5        | 9\n",
       "1        | 4\n",
       "1        | 8\n",
       "1        | 10\n",
       "0        | 1\n",
       "0        | 2\n",
       "0        | 3\n",
       "0        | 5\n",
       "0        | 6\n",
       "0        | 7\n",
       "... (2 rows omitted)"
      ]
     },
     "execution_count": 22,
     "metadata": {},
     "output_type": "execute_result"
    }
   ],
   "source": [
    "T.sort(0,descending=True)"
   ]
  },
  {
   "cell_type": "code",
   "execution_count": 23,
   "id": "57693c7a-9968-41ae-acce-351c70d1baa7",
   "metadata": {
    "tags": []
   },
   "outputs": [
    {
     "data": {
      "text/html": [
       "<table border=\"1\" class=\"dataframe\">\n",
       "    <thead>\n",
       "        <tr>\n",
       "            <th>Tornados</th>\n",
       "        </tr>\n",
       "    </thead>\n",
       "    <tbody>\n",
       "        <tr>\n",
       "            <td>0       </td>\n",
       "        </tr>\n",
       "        <tr>\n",
       "            <td>0       </td>\n",
       "        </tr>\n",
       "        <tr>\n",
       "            <td>0       </td>\n",
       "        </tr>\n",
       "        <tr>\n",
       "            <td>1       </td>\n",
       "        </tr>\n",
       "        <tr>\n",
       "            <td>0       </td>\n",
       "        </tr>\n",
       "        <tr>\n",
       "            <td>0       </td>\n",
       "        </tr>\n",
       "        <tr>\n",
       "            <td>0       </td>\n",
       "        </tr>\n",
       "        <tr>\n",
       "            <td>1       </td>\n",
       "        </tr>\n",
       "        <tr>\n",
       "            <td>5       </td>\n",
       "        </tr>\n",
       "        <tr>\n",
       "            <td>1       </td>\n",
       "        </tr>\n",
       "    </tbody>\n",
       "</table>\n",
       "<p>... (2 rows omitted)</p>"
      ],
      "text/plain": [
       "Tornados\n",
       "0\n",
       "0\n",
       "0\n",
       "1\n",
       "0\n",
       "0\n",
       "0\n",
       "1\n",
       "5\n",
       "1\n",
       "... (2 rows omitted)"
      ]
     },
     "execution_count": 23,
     "metadata": {},
     "output_type": "execute_result"
    }
   ],
   "source": [
    "# .select() is for selecting columns from a table\n",
    "T.select(\"Tornados\")"
   ]
  },
  {
   "cell_type": "code",
   "execution_count": 24,
   "id": "aaec9203-b7ef-4f34-819f-530a26e03b0a",
   "metadata": {
    "tags": []
   },
   "outputs": [
    {
     "data": {
      "text/html": [
       "<table border=\"1\" class=\"dataframe\">\n",
       "    <thead>\n",
       "        <tr>\n",
       "            <th>Tornados</th> <th>Month</th>\n",
       "        </tr>\n",
       "    </thead>\n",
       "    <tbody>\n",
       "        <tr>\n",
       "            <td>0       </td> <td>1    </td>\n",
       "        </tr>\n",
       "        <tr>\n",
       "            <td>0       </td> <td>2    </td>\n",
       "        </tr>\n",
       "        <tr>\n",
       "            <td>0       </td> <td>3    </td>\n",
       "        </tr>\n",
       "    </tbody>\n",
       "</table>"
      ],
      "text/plain": [
       "Tornados | Month\n",
       "0        | 1\n",
       "0        | 2\n",
       "0        | 3"
      ]
     },
     "execution_count": 24,
     "metadata": {},
     "output_type": "execute_result"
    }
   ],
   "source": [
    "# .take() is for taking rows from a table\n",
    "T.take(0,1,2)"
   ]
  },
  {
   "cell_type": "code",
   "execution_count": 26,
   "id": "db28951f-0ae8-4c61-a274-218886e3e9a1",
   "metadata": {
    "tags": []
   },
   "outputs": [
    {
     "data": {
      "text/html": [
       "<table border=\"1\" class=\"dataframe\">\n",
       "    <thead>\n",
       "        <tr>\n",
       "            <th>Tornados</th> <th>Month</th>\n",
       "        </tr>\n",
       "    </thead>\n",
       "    <tbody>\n",
       "        <tr>\n",
       "            <td>0       </td> <td>1    </td>\n",
       "        </tr>\n",
       "        <tr>\n",
       "            <td>0       </td> <td>2    </td>\n",
       "        </tr>\n",
       "        <tr>\n",
       "            <td>0       </td> <td>3    </td>\n",
       "        </tr>\n",
       "    </tbody>\n",
       "</table>"
      ],
      "text/plain": [
       "Tornados | Month\n",
       "0        | 1\n",
       "0        | 2\n",
       "0        | 3"
      ]
     },
     "execution_count": 26,
     "metadata": {},
     "output_type": "execute_result"
    }
   ],
   "source": [
    "# remember to use np.arange to generate sequences\n",
    "T.take(np.arange(0,3))"
   ]
  },
  {
   "cell_type": "markdown",
   "id": "b81b1987-aad6-4494-9ab1-7d668d7901d6",
   "metadata": {},
   "source": [
    "### Census data example"
   ]
  },
  {
   "cell_type": "code",
   "execution_count": 27,
   "id": "0c46d4bd-1a53-4fcd-9193-c1d9e3f63c4c",
   "metadata": {},
   "outputs": [
    {
     "data": {
      "text/html": [
       "<table border=\"1\" class=\"dataframe\">\n",
       "    <thead>\n",
       "        <tr>\n",
       "            <th>SEX</th> <th>AGE</th> <th>CENSUS2010POP</th> <th>ESTIMATESBASE2010</th> <th>POPESTIMATE2010</th> <th>POPESTIMATE2011</th> <th>POPESTIMATE2012</th> <th>POPESTIMATE2013</th> <th>POPESTIMATE2014</th> <th>POPESTIMATE2015</th> <th>POPESTIMATE2016</th> <th>POPESTIMATE2017</th> <th>POPESTIMATE2018</th> <th>POPESTIMATE2019</th> <th>POPESTIMATE2020</th>\n",
       "        </tr>\n",
       "    </thead>\n",
       "    <tbody>\n",
       "        <tr>\n",
       "            <td>0   </td> <td>0   </td> <td>3944153      </td> <td>3944160          </td> <td>3951495        </td> <td>3963264        </td> <td>3926731        </td> <td>3931411        </td> <td>3954973        </td> <td>3984144        </td> <td>3963268        </td> <td>3882437        </td> <td>3826908        </td> <td>3762227        </td> <td>3735010        </td>\n",
       "        </tr>\n",
       "        <tr>\n",
       "            <td>0   </td> <td>1   </td> <td>3978070      </td> <td>3978090          </td> <td>3957904        </td> <td>3966768        </td> <td>3978210        </td> <td>3943348        </td> <td>3949559        </td> <td>3973828        </td> <td>4003586        </td> <td>3981864        </td> <td>3897917        </td> <td>3842257        </td> <td>3773884        </td>\n",
       "        </tr>\n",
       "        <tr>\n",
       "            <td>0   </td> <td>2   </td> <td>4096929      </td> <td>4096939          </td> <td>4090799        </td> <td>3971498        </td> <td>3980139        </td> <td>3993047        </td> <td>3960015        </td> <td>3967672        </td> <td>3992657        </td> <td>4021261        </td> <td>3996742        </td> <td>3911822        </td> <td>3853025        </td>\n",
       "        </tr>\n",
       "        <tr>\n",
       "            <td>0   </td> <td>3   </td> <td>4119040      </td> <td>4119051          </td> <td>4111869        </td> <td>4102429        </td> <td>3983007        </td> <td>3992839        </td> <td>4007852        </td> <td>3976277        </td> <td>3984985        </td> <td>4009060        </td> <td>4035053        </td> <td>4009037        </td> <td>3921526        </td>\n",
       "        </tr>\n",
       "        <tr>\n",
       "            <td>0   </td> <td>4   </td> <td>4063170      </td> <td>4063186          </td> <td>4077511        </td> <td>4122252        </td> <td>4112849        </td> <td>3994539        </td> <td>4006407        </td> <td>4022785        </td> <td>3992241        </td> <td>4000394        </td> <td>4021907        </td> <td>4045996        </td> <td>4017847        </td>\n",
       "        </tr>\n",
       "        <tr>\n",
       "            <td>0   </td> <td>5   </td> <td>4056858      </td> <td>4056872          </td> <td>4064653        </td> <td>4087770        </td> <td>4132349        </td> <td>4123745        </td> <td>4007123        </td> <td>4020489        </td> <td>4038022        </td> <td>4007233        </td> <td>4012789        </td> <td>4032231        </td> <td>4054336        </td>\n",
       "        </tr>\n",
       "        <tr>\n",
       "            <td>0   </td> <td>6   </td> <td>4066381      </td> <td>4066412          </td> <td>4073031        </td> <td>4075153        </td> <td>4097860        </td> <td>4142923        </td> <td>4135738        </td> <td>4020428        </td> <td>4034969        </td> <td>4052428        </td> <td>4019106        </td> <td>4022432        </td> <td>4040169        </td>\n",
       "        </tr>\n",
       "        <tr>\n",
       "            <td>0   </td> <td>7   </td> <td>4030579      </td> <td>4030594          </td> <td>4043100        </td> <td>4083399        </td> <td>4085255        </td> <td>4108453        </td> <td>4154947        </td> <td>4148711        </td> <td>4034355        </td> <td>4048430        </td> <td>4063647        </td> <td>4027876        </td> <td>4029753        </td>\n",
       "        </tr>\n",
       "        <tr>\n",
       "            <td>0   </td> <td>8   </td> <td>4046486      </td> <td>4046497          </td> <td>4025624        </td> <td>4053313        </td> <td>4093553        </td> <td>4096033        </td> <td>4120476        </td> <td>4167765        </td> <td>4162142        </td> <td>4047130        </td> <td>4059209        </td> <td>4071894        </td> <td>4034785        </td>\n",
       "        </tr>\n",
       "        <tr>\n",
       "            <td>0   </td> <td>9   </td> <td>4148353      </td> <td>4148369          </td> <td>4125413        </td> <td>4035854        </td> <td>4063662        </td> <td>4104437        </td> <td>4107986        </td> <td>4133426        </td> <td>4181069        </td> <td>4175085        </td> <td>4058207        </td> <td>4067320        </td> <td>4078668        </td>\n",
       "        </tr>\n",
       "    </tbody>\n",
       "</table>\n",
       "<p>... (296 rows omitted)</p>"
      ],
      "text/plain": [
       "SEX  | AGE  | CENSUS2010POP | ESTIMATESBASE2010 | POPESTIMATE2010 | POPESTIMATE2011 | POPESTIMATE2012 | POPESTIMATE2013 | POPESTIMATE2014 | POPESTIMATE2015 | POPESTIMATE2016 | POPESTIMATE2017 | POPESTIMATE2018 | POPESTIMATE2019 | POPESTIMATE2020\n",
       "0    | 0    | 3944153       | 3944160           | 3951495         | 3963264         | 3926731         | 3931411         | 3954973         | 3984144         | 3963268         | 3882437         | 3826908         | 3762227         | 3735010\n",
       "0    | 1    | 3978070       | 3978090           | 3957904         | 3966768         | 3978210         | 3943348         | 3949559         | 3973828         | 4003586         | 3981864         | 3897917         | 3842257         | 3773884\n",
       "0    | 2    | 4096929       | 4096939           | 4090799         | 3971498         | 3980139         | 3993047         | 3960015         | 3967672         | 3992657         | 4021261         | 3996742         | 3911822         | 3853025\n",
       "0    | 3    | 4119040       | 4119051           | 4111869         | 4102429         | 3983007         | 3992839         | 4007852         | 3976277         | 3984985         | 4009060         | 4035053         | 4009037         | 3921526\n",
       "0    | 4    | 4063170       | 4063186           | 4077511         | 4122252         | 4112849         | 3994539         | 4006407         | 4022785         | 3992241         | 4000394         | 4021907         | 4045996         | 4017847\n",
       "0    | 5    | 4056858       | 4056872           | 4064653         | 4087770         | 4132349         | 4123745         | 4007123         | 4020489         | 4038022         | 4007233         | 4012789         | 4032231         | 4054336\n",
       "0    | 6    | 4066381       | 4066412           | 4073031         | 4075153         | 4097860         | 4142923         | 4135738         | 4020428         | 4034969         | 4052428         | 4019106         | 4022432         | 4040169\n",
       "0    | 7    | 4030579       | 4030594           | 4043100         | 4083399         | 4085255         | 4108453         | 4154947         | 4148711         | 4034355         | 4048430         | 4063647         | 4027876         | 4029753\n",
       "0    | 8    | 4046486       | 4046497           | 4025624         | 4053313         | 4093553         | 4096033         | 4120476         | 4167765         | 4162142         | 4047130         | 4059209         | 4071894         | 4034785\n",
       "0    | 9    | 4148353       | 4148369           | 4125413         | 4035854         | 4063662         | 4104437         | 4107986         | 4133426         | 4181069         | 4175085         | 4058207         | 4067320         | 4078668\n",
       "... (296 rows omitted)"
      ]
     },
     "execution_count": 27,
     "metadata": {},
     "output_type": "execute_result"
    }
   ],
   "source": [
    "data = 'http://www2.census.gov/programs-surveys/popest/datasets/2010-2020/national/asrh/nc-est2020-agesex-res.csv'\n",
    "\n",
    "full_census_table = Table().read_table(data)\n",
    "full_census_table"
   ]
  },
  {
   "cell_type": "code",
   "execution_count": 28,
   "id": "b7082ced-593c-42f2-8a85-bdf28490f5ac",
   "metadata": {},
   "outputs": [
    {
     "data": {
      "text/html": [
       "<table border=\"1\" class=\"dataframe\">\n",
       "    <thead>\n",
       "        <tr>\n",
       "            <th>SEX</th> <th>AGE</th> <th>POPESTIMATE2010</th> <th>POPESTIMATE2020</th>\n",
       "        </tr>\n",
       "    </thead>\n",
       "    <tbody>\n",
       "        <tr>\n",
       "            <td>0   </td> <td>0   </td> <td>3951495        </td> <td>3735010        </td>\n",
       "        </tr>\n",
       "        <tr>\n",
       "            <td>0   </td> <td>1   </td> <td>3957904        </td> <td>3773884        </td>\n",
       "        </tr>\n",
       "        <tr>\n",
       "            <td>0   </td> <td>2   </td> <td>4090799        </td> <td>3853025        </td>\n",
       "        </tr>\n",
       "        <tr>\n",
       "            <td>0   </td> <td>3   </td> <td>4111869        </td> <td>3921526        </td>\n",
       "        </tr>\n",
       "        <tr>\n",
       "            <td>0   </td> <td>4   </td> <td>4077511        </td> <td>4017847        </td>\n",
       "        </tr>\n",
       "        <tr>\n",
       "            <td>0   </td> <td>5   </td> <td>4064653        </td> <td>4054336        </td>\n",
       "        </tr>\n",
       "        <tr>\n",
       "            <td>0   </td> <td>6   </td> <td>4073031        </td> <td>4040169        </td>\n",
       "        </tr>\n",
       "        <tr>\n",
       "            <td>0   </td> <td>7   </td> <td>4043100        </td> <td>4029753        </td>\n",
       "        </tr>\n",
       "        <tr>\n",
       "            <td>0   </td> <td>8   </td> <td>4025624        </td> <td>4034785        </td>\n",
       "        </tr>\n",
       "        <tr>\n",
       "            <td>0   </td> <td>9   </td> <td>4125413        </td> <td>4078668        </td>\n",
       "        </tr>\n",
       "    </tbody>\n",
       "</table>\n",
       "<p>... (296 rows omitted)</p>"
      ],
      "text/plain": [
       "SEX  | AGE  | POPESTIMATE2010 | POPESTIMATE2020\n",
       "0    | 0    | 3951495         | 3735010\n",
       "0    | 1    | 3957904         | 3773884\n",
       "0    | 2    | 4090799         | 3853025\n",
       "0    | 3    | 4111869         | 3921526\n",
       "0    | 4    | 4077511         | 4017847\n",
       "0    | 5    | 4064653         | 4054336\n",
       "0    | 6    | 4073031         | 4040169\n",
       "0    | 7    | 4043100         | 4029753\n",
       "0    | 8    | 4025624         | 4034785\n",
       "0    | 9    | 4125413         | 4078668\n",
       "... (296 rows omitted)"
      ]
     },
     "execution_count": 28,
     "metadata": {},
     "output_type": "execute_result"
    }
   ],
   "source": [
    "partial_census_table = full_census_table.select('SEX', 'AGE', 'POPESTIMATE2010', 'POPESTIMATE2020')\n",
    "partial_census_table"
   ]
  },
  {
   "cell_type": "code",
   "execution_count": 30,
   "id": "587dd336-4bf0-4b72-9522-714d15ba2344",
   "metadata": {},
   "outputs": [
    {
     "data": {
      "text/plain": [
       "numpy.ndarray"
      ]
     },
     "execution_count": 30,
     "metadata": {},
     "output_type": "execute_result"
    }
   ],
   "source": [
    "# .select() returns a new table with the selected columns\n",
    "# .column() returns the actual data as an array from the selected column\n",
    "type(partial_census_table.column(\"AGE\"))"
   ]
  },
  {
   "cell_type": "code",
   "execution_count": 31,
   "id": "320ea325-7ecb-402b-a15a-63a73d0a943c",
   "metadata": {
    "tags": []
   },
   "outputs": [
    {
     "data": {
      "text/plain": [
       "array([  0,   1,   2,   3,   4,   5,   6,   7,   8,   9,  10,  11,  12,\n",
       "        13,  14,  15,  16,  17,  18,  19,  20,  21,  22,  23,  24,  25,\n",
       "        26,  27,  28,  29,  30,  31,  32,  33,  34,  35,  36,  37,  38,\n",
       "        39,  40,  41,  42,  43,  44,  45,  46,  47,  48,  49,  50,  51,\n",
       "        52,  53,  54,  55,  56,  57,  58,  59,  60,  61,  62,  63,  64,\n",
       "        65,  66,  67,  68,  69,  70,  71,  72,  73,  74,  75,  76,  77,\n",
       "        78,  79,  80,  81,  82,  83,  84,  85,  86,  87,  88,  89,  90,\n",
       "        91,  92,  93,  94,  95,  96,  97,  98,  99, 100, 999,   0,   1,\n",
       "         2,   3,   4,   5,   6,   7,   8,   9,  10,  11,  12,  13,  14,\n",
       "        15,  16,  17,  18,  19,  20,  21,  22,  23,  24,  25,  26,  27,\n",
       "        28,  29,  30,  31,  32,  33,  34,  35,  36,  37,  38,  39,  40,\n",
       "        41,  42,  43,  44,  45,  46,  47,  48,  49,  50,  51,  52,  53,\n",
       "        54,  55,  56,  57,  58,  59,  60,  61,  62,  63,  64,  65,  66,\n",
       "        67,  68,  69,  70,  71,  72,  73,  74,  75,  76,  77,  78,  79,\n",
       "        80,  81,  82,  83,  84,  85,  86,  87,  88,  89,  90,  91,  92,\n",
       "        93,  94,  95,  96,  97,  98,  99, 100, 999,   0,   1,   2,   3,\n",
       "         4,   5,   6,   7,   8,   9,  10,  11,  12,  13,  14,  15,  16,\n",
       "        17,  18,  19,  20,  21,  22,  23,  24,  25,  26,  27,  28,  29,\n",
       "        30,  31,  32,  33,  34,  35,  36,  37,  38,  39,  40,  41,  42,\n",
       "        43,  44,  45,  46,  47,  48,  49,  50,  51,  52,  53,  54,  55,\n",
       "        56,  57,  58,  59,  60,  61,  62,  63,  64,  65,  66,  67,  68,\n",
       "        69,  70,  71,  72,  73,  74,  75,  76,  77,  78,  79,  80,  81,\n",
       "        82,  83,  84,  85,  86,  87,  88,  89,  90,  91,  92,  93,  94,\n",
       "        95,  96,  97,  98,  99, 100, 999])"
      ]
     },
     "execution_count": 31,
     "metadata": {},
     "output_type": "execute_result"
    }
   ],
   "source": [
    "partial_census_table.column(\"AGE\")"
   ]
  },
  {
   "cell_type": "code",
   "execution_count": 32,
   "id": "4dcc5207-4254-4c77-b035-699a9577963f",
   "metadata": {},
   "outputs": [
    {
     "data": {
      "text/html": [
       "<table border=\"1\" class=\"dataframe\">\n",
       "    <thead>\n",
       "        <tr>\n",
       "            <th>GENDER</th> <th>AGE</th> <th>2010</th> <th>2020</th>\n",
       "        </tr>\n",
       "    </thead>\n",
       "    <tbody>\n",
       "        <tr>\n",
       "            <td>0     </td> <td>0   </td> <td>3951495</td> <td>3735010</td>\n",
       "        </tr>\n",
       "        <tr>\n",
       "            <td>0     </td> <td>1   </td> <td>3957904</td> <td>3773884</td>\n",
       "        </tr>\n",
       "        <tr>\n",
       "            <td>0     </td> <td>2   </td> <td>4090799</td> <td>3853025</td>\n",
       "        </tr>\n",
       "        <tr>\n",
       "            <td>0     </td> <td>3   </td> <td>4111869</td> <td>3921526</td>\n",
       "        </tr>\n",
       "        <tr>\n",
       "            <td>0     </td> <td>4   </td> <td>4077511</td> <td>4017847</td>\n",
       "        </tr>\n",
       "        <tr>\n",
       "            <td>0     </td> <td>5   </td> <td>4064653</td> <td>4054336</td>\n",
       "        </tr>\n",
       "        <tr>\n",
       "            <td>0     </td> <td>6   </td> <td>4073031</td> <td>4040169</td>\n",
       "        </tr>\n",
       "        <tr>\n",
       "            <td>0     </td> <td>7   </td> <td>4043100</td> <td>4029753</td>\n",
       "        </tr>\n",
       "        <tr>\n",
       "            <td>0     </td> <td>8   </td> <td>4025624</td> <td>4034785</td>\n",
       "        </tr>\n",
       "        <tr>\n",
       "            <td>0     </td> <td>9   </td> <td>4125413</td> <td>4078668</td>\n",
       "        </tr>\n",
       "    </tbody>\n",
       "</table>\n",
       "<p>... (296 rows omitted)</p>"
      ],
      "text/plain": [
       "GENDER | AGE  | 2010    | 2020\n",
       "0      | 0    | 3951495 | 3735010\n",
       "0      | 1    | 3957904 | 3773884\n",
       "0      | 2    | 4090799 | 3853025\n",
       "0      | 3    | 4111869 | 3921526\n",
       "0      | 4    | 4077511 | 4017847\n",
       "0      | 5    | 4064653 | 4054336\n",
       "0      | 6    | 4073031 | 4040169\n",
       "0      | 7    | 4043100 | 4029753\n",
       "0      | 8    | 4025624 | 4034785\n",
       "0      | 9    | 4125413 | 4078668\n",
       "... (296 rows omitted)"
      ]
     },
     "execution_count": 32,
     "metadata": {},
     "output_type": "execute_result"
    }
   ],
   "source": [
    "# renaming columns in a table\n",
    "us_pop = partial_census_table.relabeled('POPESTIMATE2010', '2010').relabeled('POPESTIMATE2020', '2020').relabeled('SEX','GENDER')\n",
    "us_pop"
   ]
  },
  {
   "cell_type": "code",
   "execution_count": 33,
   "id": "0c463bc2-3e1c-4755-bfca-6ffe604cefd8",
   "metadata": {},
   "outputs": [
    {
     "data": {
      "text/plain": [
       "datascience.tables.Table"
      ]
     },
     "execution_count": 33,
     "metadata": {},
     "output_type": "execute_result"
    }
   ],
   "source": [
    "type(us_pop)"
   ]
  },
  {
   "cell_type": "code",
   "execution_count": 34,
   "id": "5af64f24-76ab-49ef-8bd1-82261306e7b7",
   "metadata": {},
   "outputs": [
    {
     "data": {
      "text/html": [
       "<table border=\"1\" class=\"dataframe\">\n",
       "    <thead>\n",
       "        <tr>\n",
       "            <th>GENDER</th> <th>AGE</th> <th>2010</th> <th>2020</th>\n",
       "        </tr>\n",
       "    </thead>\n",
       "    <tbody>\n",
       "        <tr>\n",
       "            <td>0     </td> <td>81  </td> <td>1212523</td> <td>1400392</td>\n",
       "        </tr>\n",
       "        <tr>\n",
       "            <td>1     </td> <td>81  </td> <td>496003 </td> <td>604941 </td>\n",
       "        </tr>\n",
       "        <tr>\n",
       "            <td>2     </td> <td>81  </td> <td>716520 </td> <td>795451 </td>\n",
       "        </tr>\n",
       "    </tbody>\n",
       "</table>"
      ],
      "text/plain": [
       "GENDER | AGE  | 2010    | 2020\n",
       "0      | 81   | 1212523 | 1400392\n",
       "1      | 81   | 496003  | 604941\n",
       "2      | 81   | 716520  | 795451"
      ]
     },
     "execution_count": 34,
     "metadata": {},
     "output_type": "execute_result"
    }
   ],
   "source": [
    "# The default predicate for where is are.equal_to()\n",
    "us_pop.where('AGE',81)"
   ]
  },
  {
   "cell_type": "code",
   "execution_count": 35,
   "id": "ba8d9c73-8e64-4b80-b7b5-50df89450202",
   "metadata": {
    "tags": []
   },
   "outputs": [
    {
     "data": {
      "text/html": [
       "<table border=\"1\" class=\"dataframe\">\n",
       "    <thead>\n",
       "        <tr>\n",
       "            <th>GENDER</th> <th>AGE</th> <th>2010</th> <th>2020</th>\n",
       "        </tr>\n",
       "    </thead>\n",
       "    <tbody>\n",
       "        <tr>\n",
       "            <td>0     </td> <td>81  </td> <td>1212523</td> <td>1400392</td>\n",
       "        </tr>\n",
       "        <tr>\n",
       "            <td>1     </td> <td>81  </td> <td>496003 </td> <td>604941 </td>\n",
       "        </tr>\n",
       "        <tr>\n",
       "            <td>2     </td> <td>81  </td> <td>716520 </td> <td>795451 </td>\n",
       "        </tr>\n",
       "    </tbody>\n",
       "</table>"
      ],
      "text/plain": [
       "GENDER | AGE  | 2010    | 2020\n",
       "0      | 81   | 1212523 | 1400392\n",
       "1      | 81   | 496003  | 604941\n",
       "2      | 81   | 716520  | 795451"
      ]
     },
     "execution_count": 35,
     "metadata": {},
     "output_type": "execute_result"
    }
   ],
   "source": [
    "# This does the same thing as the cell above\n",
    "us_pop.where('AGE', are.equal_to(81))"
   ]
  },
  {
   "cell_type": "code",
   "execution_count": 36,
   "id": "fb08c304-2f6d-4bce-99ff-b219828b70d6",
   "metadata": {},
   "outputs": [
    {
     "data": {
      "text/html": [
       "<table border=\"1\" class=\"dataframe\">\n",
       "    <thead>\n",
       "        <tr>\n",
       "            <th>GENDER</th> <th>AGE</th> <th>2010</th> <th>2020</th>\n",
       "        </tr>\n",
       "    </thead>\n",
       "    <tbody>\n",
       "        <tr>\n",
       "            <td>0     </td> <td>70  </td> <td>2062464</td> <td>3192029</td>\n",
       "        </tr>\n",
       "        <tr>\n",
       "            <td>1     </td> <td>70  </td> <td>954009 </td> <td>1485086</td>\n",
       "        </tr>\n",
       "        <tr>\n",
       "            <td>2     </td> <td>70  </td> <td>1108455</td> <td>1706943</td>\n",
       "        </tr>\n",
       "    </tbody>\n",
       "</table>"
      ],
      "text/plain": [
       "GENDER | AGE  | 2010    | 2020\n",
       "0      | 70   | 2062464 | 3192029\n",
       "1      | 70   | 954009  | 1485086\n",
       "2      | 70   | 1108455 | 1706943"
      ]
     },
     "execution_count": 36,
     "metadata": {},
     "output_type": "execute_result"
    }
   ],
   "source": [
    "us_pop.where('AGE',70)"
   ]
  },
  {
   "cell_type": "code",
   "execution_count": 37,
   "id": "39326e89-d4cb-461a-b3e8-3d8b99e99267",
   "metadata": {},
   "outputs": [
    {
     "data": {
      "image/png": "[encoded data removed]",
      "text/plain": [
       "<Figure size 600x600 with 1 Axes>"
      ]
     },
     "metadata": {},
     "output_type": "display_data"
    }
   ],
   "source": [
    "# Chaining methods\n",
    "us_pop.where('GENDER',0).select('AGE','2010','2020').where('AGE',are.below(100)).plot('AGE')"
   ]
  },
  {
   "cell_type": "markdown",
   "id": "6173cece-b2ec-4cb5-998a-ec5f7bf09b63",
   "metadata": {},
   "source": [
    "## Philadelphia COVID Tests by ZIP (CSV)\n",
    "[Philly Open Data](https://opendataphilly.org/datasets/covid-tests-and-cases/)"
   ]
  },
  {
   "cell_type": "code",
   "execution_count": 38,
   "id": "bf9db7d8-2661-4fcd-bc10-6f80d8c69a71",
   "metadata": {},
   "outputs": [
    {
     "data": {
      "text/html": [
       "<table border=\"1\" class=\"dataframe\">\n",
       "    <thead>\n",
       "        <tr>\n",
       "            <th>the_geom</th> <th>the_geom_webmercator</th> <th>covid_status</th> <th>zip_code</th> <th>count</th> <th>etl_timestamp</th> <th>objectid</th>\n",
       "        </tr>\n",
       "    </thead>\n",
       "    <tbody>\n",
       "        <tr>\n",
       "            <td>nan     </td> <td>nan                 </td> <td>POS         </td> <td>19124   </td> <td>18184</td> <td>2023-09-11 15:00:01.588436</td> <td>5607    </td>\n",
       "        </tr>\n",
       "        <tr>\n",
       "            <td>nan     </td> <td>nan                 </td> <td>POS         </td> <td>19111   </td> <td>17052</td> <td>2023-09-11 15:00:01.588436</td> <td>5678    </td>\n",
       "        </tr>\n",
       "        <tr>\n",
       "            <td>nan     </td> <td>nan                 </td> <td>POS         </td> <td>19143   </td> <td>16552</td> <td>2023-09-11 15:00:01.588436</td> <td>5720    </td>\n",
       "        </tr>\n",
       "        <tr>\n",
       "            <td>nan     </td> <td>nan                 </td> <td>POS         </td> <td>19104   </td> <td>16446</td> <td>2023-09-11 15:00:01.588436</td> <td>5715    </td>\n",
       "        </tr>\n",
       "        <tr>\n",
       "            <td>nan     </td> <td>nan                 </td> <td>POS         </td> <td>19120   </td> <td>16252</td> <td>2023-09-11 15:00:01.588436</td> <td>5727    </td>\n",
       "        </tr>\n",
       "        <tr>\n",
       "            <td>nan     </td> <td>nan                 </td> <td>POS         </td> <td>19136   </td> <td>14444</td> <td>2023-09-11 15:00:01.588436</td> <td>5621    </td>\n",
       "        </tr>\n",
       "        <tr>\n",
       "            <td>nan     </td> <td>nan                 </td> <td>POS         </td> <td>19134   </td> <td>14172</td> <td>2023-09-11 15:00:01.588436</td> <td>5711    </td>\n",
       "        </tr>\n",
       "        <tr>\n",
       "            <td>nan     </td> <td>nan                 </td> <td>POS         </td> <td>19140   </td> <td>13098</td> <td>2023-09-11 15:00:01.588436</td> <td>5645    </td>\n",
       "        </tr>\n",
       "        <tr>\n",
       "            <td>nan     </td> <td>nan                 </td> <td>POS         </td> <td>19149   </td> <td>12877</td> <td>2023-09-11 15:00:01.588436</td> <td>5669    </td>\n",
       "        </tr>\n",
       "        <tr>\n",
       "            <td>nan     </td> <td>nan                 </td> <td>POS         </td> <td>19148   </td> <td>12663</td> <td>2023-09-11 15:00:01.588436</td> <td>5616    </td>\n",
       "        </tr>\n",
       "    </tbody>\n",
       "</table>\n",
       "<p>... (46 rows omitted)</p>"
      ],
      "text/plain": [
       "the_geom | the_geom_webmercator | covid_status | zip_code | count | etl_timestamp              | objectid\n",
       "nan      | nan                  | POS          | 19124    | 18184 | 2023-09-11 15:00:01.588436 | 5607\n",
       "nan      | nan                  | POS          | 19111    | 17052 | 2023-09-11 15:00:01.588436 | 5678\n",
       "nan      | nan                  | POS          | 19143    | 16552 | 2023-09-11 15:00:01.588436 | 5720\n",
       "nan      | nan                  | POS          | 19104    | 16446 | 2023-09-11 15:00:01.588436 | 5715\n",
       "nan      | nan                  | POS          | 19120    | 16252 | 2023-09-11 15:00:01.588436 | 5727\n",
       "nan      | nan                  | POS          | 19136    | 14444 | 2023-09-11 15:00:01.588436 | 5621\n",
       "nan      | nan                  | POS          | 19134    | 14172 | 2023-09-11 15:00:01.588436 | 5711\n",
       "nan      | nan                  | POS          | 19140    | 13098 | 2023-09-11 15:00:01.588436 | 5645\n",
       "nan      | nan                  | POS          | 19149    | 12877 | 2023-09-11 15:00:01.588436 | 5669\n",
       "nan      | nan                  | POS          | 19148    | 12663 | 2023-09-11 15:00:01.588436 | 5616\n",
       "... (46 rows omitted)"
      ]
     },
     "execution_count": 38,
     "metadata": {},
     "output_type": "execute_result"
    }
   ],
   "source": [
    "PHLcovid =\"https://phl.carto.com/api/v2/sql?q=SELECT+*+FROM+covid_cases_by_zip&filename=covid_cases_by_zip&format=csv&skipfields=cartodb_id\"\n",
    "\n",
    "Cdata = Table().read_table(PHLcovid)\n",
    "Cdata.where('covid_status','POS').sort('count',descending=True)"
   ]
  },
  {
   "cell_type": "code",
   "execution_count": 42,
   "id": "6036efe4-c115-464e-9be9-e2088f272952",
   "metadata": {
    "tags": []
   },
   "outputs": [
    {
     "data": {
      "text/html": [
       "<table border=\"1\" class=\"dataframe\">\n",
       "    <thead>\n",
       "        <tr>\n",
       "            <th>the_geom</th> <th>the_geom_webmercator</th> <th>covid_status</th> <th>zip_code</th> <th>count</th> <th>etl_timestamp</th> <th>objectid</th>\n",
       "        </tr>\n",
       "    </thead>\n",
       "    <tbody>\n",
       "        <tr>\n",
       "            <td>nan     </td> <td>nan                 </td> <td>POS         </td> <td>19122   </td> <td>6529 </td> <td>2023-09-11 15:00:01.588436</td> <td>5613    </td>\n",
       "        </tr>\n",
       "        <tr>\n",
       "            <td>nan     </td> <td>nan                 </td> <td>NEG         </td> <td>19122   </td> <td>77968</td> <td>2023-09-11 15:00:01.588436</td> <td>5681    </td>\n",
       "        </tr>\n",
       "    </tbody>\n",
       "</table>"
      ],
      "text/plain": [
       "the_geom | the_geom_webmercator | covid_status | zip_code | count | etl_timestamp              | objectid\n",
       "nan      | nan                  | POS          | 19122    | 6529  | 2023-09-11 15:00:01.588436 | 5613\n",
       "nan      | nan                  | NEG          | 19122    | 77968 | 2023-09-11 15:00:01.588436 | 5681"
      ]
     },
     "execution_count": 42,
     "metadata": {},
     "output_type": "execute_result"
    }
   ],
   "source": [
    "# Temple's ZipCode\n",
    "Cdata.where(\"zip_code\", 19122)"
   ]
  },
  {
   "cell_type": "code",
   "execution_count": 45,
   "id": "3e4b9c11-b7f6-49be-9af7-acc49f7ba9f3",
   "metadata": {
    "tags": []
   },
   "outputs": [
    {
     "data": {
      "text/plain": [
       "array([ 6529, 77968])"
      ]
     },
     "execution_count": 45,
     "metadata": {},
     "output_type": "execute_result"
    }
   ],
   "source": [
    "# Calculate positivity rate\n",
    "Cdata_Temple_zip = Cdata.where(\"zip_code\", 19122)\n",
    "counts = Cdata_Temple_zip.column(\"count\")\n",
    "counts"
   ]
  },
  {
   "cell_type": "code",
   "execution_count": 50,
   "id": "62833ebf-0fcc-4484-9e3f-0c4369070071",
   "metadata": {
    "tags": []
   },
   "outputs": [
    {
     "name": "stdout",
     "output_type": "stream",
     "text": [
      "The positivity rate in the Temple zipcode for last week was 7.7%\n"
     ]
    }
   ],
   "source": [
    "pos_rate = counts[0] / (counts[0] + counts[1]) * 100\n",
    "print(f\"The positivity rate in the Temple zipcode for last week was {pos_rate:0.1f}%\")"
   ]
  }
 ],
 "metadata": {
  "kernelspec": {
   "display_name": "Python 3 (ipykernel)",
   "language": "python",
   "name": "python3"
  },
  "language_info": {
   "codemirror_mode": {
    "name": "ipython",
    "version": 3
   },
   "file_extension": ".py",
   "mimetype": "text/x-python",
   "name": "python",
   "nbconvert_exporter": "python",
   "pygments_lexer": "ipython3",
   "version": "3.10.11"
  }
 },
 "nbformat": 4,
 "nbformat_minor": 5
}
