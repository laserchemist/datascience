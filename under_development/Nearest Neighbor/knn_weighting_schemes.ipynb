{
 "cells": [
  {
   "cell_type": "markdown",
   "id": "065fd653-ea9e-4bfe-a5ea-f4aacff571b5",
   "metadata": {},
   "source": [
    "### Different knn weighting schemes\n",
    "All of the nearest n neighbors receive the same consideration in determining the prediction. It makes sense that points that are 'nearer' may be more important or weightier. Below are figures showing the unweighted approach we have been using, a weighting scheme based on inverse distance (1/distance), and an exponetial weighting scheme for 4-ethylphenol.<br>\n",
    "<img src='ethylphenol.png'>"
   ]
  },
  {
   "cell_type": "markdown",
   "id": "1f131695-7b29-46c9-9cf2-513565abe681",
   "metadata": {},
   "source": [
    "---\n",
    "### <center>**knn weighting plots**\n",
    "---\n",
    "<center>k = 5 with neighboring 5 molecular structures<br><img src='knn_equal_weighting_molecule.png'></center><br>\n",
    "\n",
    "---\n",
    "<center>k = 10<br>\n",
    "<img src='knn_inverse_weighting.png'><img src='knn_exponential_weighting.png'></center>"
   ]
  },
  {
   "cell_type": "markdown",
   "id": "89c0d3e0-70bc-4852-aae1-99e354b2cd2a",
   "metadata": {},
   "source": [
    "<font color='green'>Repeat the above replacing the `predict_knn` with the first weighting scheme which is 1/distance weighting in the `predict_knn_weighted` function and then the `predict_knn_weighted_exp` function."
   ]
  },
  {
   "cell_type": "code",
   "execution_count": 144,
   "id": "f6950d83-83fd-4316-99d9-43b059e50baf",
   "metadata": {
    "tags": []
   },
   "outputs": [],
   "source": [
    "def predict_knn(row, train, test, k=5, pr=0):\n",
    "    \"\"\"Return the majority class among the k nearest neighbors.\"\"\"\n",
    "    if pr:\n",
    "        print(f'Predicting target value, {target[0]}, for row = {row} using k={k} with features: {features}')\n",
    "    return np.average(closest(train, test.select(features).row(row), k , target, features).column(target[0]))"
   ]
  },
  {
   "cell_type": "code",
   "execution_count": null,
   "id": "b390c091-376e-41e8-a3da-28f26fdd8938",
   "metadata": {},
   "outputs": [],
   "source": [
    "def closest(training, test, k, target, features):\n",
    "    \"\"\"Return a table of the k closest neighbors to example.\"\"\"\n",
    "    return distances(training, test, target, features).sort('Distance').take(np.arange(k))"
   ]
  },
  {
   "cell_type": "code",
   "execution_count": 198,
   "id": "4126b392-4b39-4a90-a8ef-4e42d78205e2",
   "metadata": {
    "tags": []
   },
   "outputs": [],
   "source": [
    "def predict_knn_weighted(row, train, test, k, pr=0):\n",
    "    \"\"\"Return the majority class among the k nearest neighbors.\"\"\"\n",
    "    dist_table = closest(train, test, k, target, features)    \n",
    "    total_inverse = np.sum(1/dist_table['Distance'])\n",
    "    dist_table=dist_table.with_columns('knn_weighting',(1/dist_table['Distance'])*total_inverse)\n",
    "    sum_weight = np.sum(dist_table['knn_weighting'])\n",
    "    weighted_mean_pKa = np.sum(dist_table['pKa']*dist_table['knn_weighting']/sum_weight)\n",
    "    return weighted_mean_pKa"
   ]
  },
  {
   "cell_type": "code",
   "execution_count": 199,
   "id": "c2a4858d-4b71-4b3b-87be-98064fdc3ca7",
   "metadata": {
    "tags": []
   },
   "outputs": [],
   "source": [
    "def predict_knn_weighted_exp(example,k):\n",
    "    \"\"\"Return the majority class among the k nearest neighbors.\"\"\"\n",
    "    dist_table = closest(train, test, k, target, features)     \n",
    "    total_exp = np.sum(np.exp(-dist_table['Distance']))\n",
    "    dist_table=dist_table.with_columns('knn_weighting',(np.exp(-dist_table['Distance']))*total_exp)\n",
    "    sum_weight = np.sum(dist_table['knn_weighting'])\n",
    "    weighted_mean_pKa = np.sum(dist_table['pKa']*dist_table['knn_weighting']/sum_weight)\n",
    "    return weighted_mean_pKa"
   ]
  },
  {
   "cell_type": "code",
   "execution_count": 200,
   "id": "8b248eef-6b27-456c-9cd1-1f1e21627588",
   "metadata": {
    "tags": []
   },
   "outputs": [
    {
     "ename": "UFuncTypeError",
     "evalue": "ufunc 'subtract' did not contain a loop with signature matching types (dtype('<U10'), dtype('float64')) -> None",
     "output_type": "error",
     "traceback": [
      "\u001b[0;31m---------------------------------------------------------------------------\u001b[0m",
      "\u001b[0;31mUFuncTypeError\u001b[0m                            Traceback (most recent call last)",
      "Cell \u001b[0;32mIn[200], line 6\u001b[0m\n\u001b[1;32m      4\u001b[0m \u001b[38;5;28;01mfor\u001b[39;00m i \u001b[38;5;129;01min\u001b[39;00m np\u001b[38;5;241m.\u001b[39marange(test\u001b[38;5;241m.\u001b[39mnum_rows):\n\u001b[1;32m      5\u001b[0m     exp_pKa\u001b[38;5;241m.\u001b[39mappend(test\u001b[38;5;241m.\u001b[39mcolumn(\u001b[38;5;124m\"\u001b[39m\u001b[38;5;124mpKa\u001b[39m\u001b[38;5;124m\"\u001b[39m)\u001b[38;5;241m.\u001b[39mitem(i))\n\u001b[0;32m----> 6\u001b[0m     predict_pKa\u001b[38;5;241m.\u001b[39mappend(\u001b[43mpredict_knn_weighted\u001b[49m\u001b[43m(\u001b[49m\u001b[43mi\u001b[49m\u001b[43m,\u001b[49m\u001b[43mtrain\u001b[49m\u001b[43m,\u001b[49m\u001b[43mtest\u001b[49m\u001b[43m,\u001b[49m\u001b[43m \u001b[49m\u001b[43mknn\u001b[49m\u001b[43m,\u001b[49m\u001b[38;5;241;43m0\u001b[39;49m\u001b[43m)\u001b[49m)\n\u001b[1;32m      7\u001b[0m plt\u001b[38;5;241m.\u001b[39mhist(np\u001b[38;5;241m.\u001b[39marray(exp_pKa)\u001b[38;5;241m-\u001b[39mnp\u001b[38;5;241m.\u001b[39marray(predict_pKa), bins\u001b[38;5;241m=\u001b[39m\u001b[38;5;241m25\u001b[39m, edgecolor\u001b[38;5;241m=\u001b[39m\u001b[38;5;124m\"\u001b[39m\u001b[38;5;124mblack\u001b[39m\u001b[38;5;124m\"\u001b[39m, linewidth\u001b[38;5;241m=\u001b[39m\u001b[38;5;241m1.2\u001b[39m)\n\u001b[1;32m      8\u001b[0m plt\u001b[38;5;241m.\u001b[39mxlim(\u001b[38;5;241m-\u001b[39m\u001b[38;5;241m8\u001b[39m,\u001b[38;5;241m8\u001b[39m)\n",
      "Cell \u001b[0;32mIn[198], line 3\u001b[0m, in \u001b[0;36mpredict_knn_weighted\u001b[0;34m(row, train, test, k, pr)\u001b[0m\n\u001b[1;32m      1\u001b[0m \u001b[38;5;28;01mdef\u001b[39;00m \u001b[38;5;21mpredict_knn_weighted\u001b[39m(row, train, test, k, pr\u001b[38;5;241m=\u001b[39m\u001b[38;5;241m0\u001b[39m):\n\u001b[1;32m      2\u001b[0m \u001b[38;5;250m    \u001b[39m\u001b[38;5;124;03m\"\"\"Return the majority class among the k nearest neighbors.\"\"\"\u001b[39;00m\n\u001b[0;32m----> 3\u001b[0m     dist_table \u001b[38;5;241m=\u001b[39m \u001b[43mclosest\u001b[49m\u001b[43m(\u001b[49m\u001b[43mtrain\u001b[49m\u001b[43m,\u001b[49m\u001b[43m \u001b[49m\u001b[43mtest\u001b[49m\u001b[43m,\u001b[49m\u001b[43m \u001b[49m\u001b[43mk\u001b[49m\u001b[43m,\u001b[49m\u001b[43m \u001b[49m\u001b[43mtarget\u001b[49m\u001b[43m,\u001b[49m\u001b[43m \u001b[49m\u001b[43mfeatures\u001b[49m\u001b[43m)\u001b[49m    \n\u001b[1;32m      4\u001b[0m     total_inverse \u001b[38;5;241m=\u001b[39m np\u001b[38;5;241m.\u001b[39msum(\u001b[38;5;241m1\u001b[39m\u001b[38;5;241m/\u001b[39mdist_table[\u001b[38;5;124m'\u001b[39m\u001b[38;5;124mDistance\u001b[39m\u001b[38;5;124m'\u001b[39m])\n\u001b[1;32m      5\u001b[0m     dist_table\u001b[38;5;241m=\u001b[39mdist_table\u001b[38;5;241m.\u001b[39mwith_columns(\u001b[38;5;124m'\u001b[39m\u001b[38;5;124mknn_weighting\u001b[39m\u001b[38;5;124m'\u001b[39m,(\u001b[38;5;241m1\u001b[39m\u001b[38;5;241m/\u001b[39mdist_table[\u001b[38;5;124m'\u001b[39m\u001b[38;5;124mDistance\u001b[39m\u001b[38;5;124m'\u001b[39m])\u001b[38;5;241m*\u001b[39mtotal_inverse)\n",
      "Cell \u001b[0;32mIn[148], line 15\u001b[0m, in \u001b[0;36mclosest\u001b[0;34m(training, test, k, target, features)\u001b[0m\n\u001b[1;32m     13\u001b[0m \u001b[38;5;28;01mdef\u001b[39;00m \u001b[38;5;21mclosest\u001b[39m(training, test, k, target, features):\n\u001b[1;32m     14\u001b[0m \u001b[38;5;250m    \u001b[39m\u001b[38;5;124;03m\"\"\"Return a table of the k closest neighbors to example.\"\"\"\u001b[39;00m\n\u001b[0;32m---> 15\u001b[0m     \u001b[38;5;28;01mreturn\u001b[39;00m \u001b[43mdistances\u001b[49m\u001b[43m(\u001b[49m\u001b[43mtraining\u001b[49m\u001b[43m,\u001b[49m\u001b[43m \u001b[49m\u001b[43mtest\u001b[49m\u001b[43m,\u001b[49m\u001b[43m \u001b[49m\u001b[43mtarget\u001b[49m\u001b[43m,\u001b[49m\u001b[43m \u001b[49m\u001b[43mfeatures\u001b[49m\u001b[43m)\u001b[49m\u001b[38;5;241m.\u001b[39msort(\u001b[38;5;124m'\u001b[39m\u001b[38;5;124mDistance\u001b[39m\u001b[38;5;124m'\u001b[39m)\u001b[38;5;241m.\u001b[39mtake(np\u001b[38;5;241m.\u001b[39marange(k))\n",
      "Cell \u001b[0;32mIn[148], line 10\u001b[0m, in \u001b[0;36mdistances\u001b[0;34m(training, test, target, features)\u001b[0m\n\u001b[1;32m      8\u001b[0m attributes \u001b[38;5;241m=\u001b[39m training\u001b[38;5;241m.\u001b[39mselect(features)\n\u001b[1;32m      9\u001b[0m \u001b[38;5;28;01mfor\u001b[39;00m row \u001b[38;5;129;01min\u001b[39;00m attributes\u001b[38;5;241m.\u001b[39mrows:\n\u001b[0;32m---> 10\u001b[0m     dists\u001b[38;5;241m.\u001b[39mappend(\u001b[43mrow_distance\u001b[49m\u001b[43m(\u001b[49m\u001b[43mrow\u001b[49m\u001b[43m,\u001b[49m\u001b[43m \u001b[49m\u001b[43mtest\u001b[49m\u001b[43m)\u001b[49m)\n\u001b[1;32m     11\u001b[0m \u001b[38;5;28;01mreturn\u001b[39;00m training\u001b[38;5;241m.\u001b[39mwith_column(\u001b[38;5;124m'\u001b[39m\u001b[38;5;124mDistance\u001b[39m\u001b[38;5;124m'\u001b[39m, dists)\n",
      "Cell \u001b[0;32mIn[148], line 3\u001b[0m, in \u001b[0;36mrow_distance\u001b[0;34m(row1, row2)\u001b[0m\n\u001b[1;32m      1\u001b[0m \u001b[38;5;28;01mdef\u001b[39;00m \u001b[38;5;21mrow_distance\u001b[39m(row1, row2):\n\u001b[1;32m      2\u001b[0m \u001b[38;5;250m    \u001b[39m\u001b[38;5;124;03m\"\"\"The distance between two rows of a table.\"\"\"\u001b[39;00m\n\u001b[0;32m----> 3\u001b[0m     \u001b[38;5;28;01mreturn\u001b[39;00m \u001b[43mdistance\u001b[49m\u001b[43m(\u001b[49m\u001b[43mnp\u001b[49m\u001b[38;5;241;43m.\u001b[39;49m\u001b[43marray\u001b[49m\u001b[43m(\u001b[49m\u001b[43mrow1\u001b[49m\u001b[43m)\u001b[49m\u001b[43m,\u001b[49m\u001b[43m \u001b[49m\u001b[43mnp\u001b[49m\u001b[38;5;241;43m.\u001b[39;49m\u001b[43marray\u001b[49m\u001b[43m(\u001b[49m\u001b[43mrow2\u001b[49m\u001b[43m)\u001b[49m\u001b[43m)\u001b[49m\n",
      "Cell \u001b[0;32mIn[16], line 4\u001b[0m, in \u001b[0;36mdistance\u001b[0;34m(pt1, pt2)\u001b[0m\n\u001b[1;32m      2\u001b[0m \u001b[38;5;28;01mdef\u001b[39;00m \u001b[38;5;21mdistance\u001b[39m(pt1, pt2):\n\u001b[1;32m      3\u001b[0m \u001b[38;5;250m    \u001b[39m\u001b[38;5;124;03m\"\"\"The distance between two points, represented as arrays.\"\"\"\u001b[39;00m\n\u001b[0;32m----> 4\u001b[0m     \u001b[38;5;28;01mreturn\u001b[39;00m np\u001b[38;5;241m.\u001b[39msqrt(\u001b[38;5;28msum\u001b[39m(\u001b[43mpt2\u001b[49m\u001b[38;5;241;43m-\u001b[39;49m\u001b[43mpt1\u001b[49m)\u001b[38;5;241m*\u001b[39m\u001b[38;5;241m*\u001b[39m\u001b[38;5;241m2\u001b[39m)\n",
      "\u001b[0;31mUFuncTypeError\u001b[0m: ufunc 'subtract' did not contain a loop with signature matching types (dtype('<U10'), dtype('float64')) -> None"
     ]
    }
   ],
   "source": [
    "for knn in [...]:\n",
    "    exp_pKa = []\n",
    "    predict_pKa = []\n",
    "    for i in np.arange(test.num_rows):\n",
    "        exp_pKa.append(test.column(\"pKa\").item(i))\n",
    "        predict_pKa.append(predict_knn_weighted(i,train,test, knn,0))\n",
    "    plt.hist(np.array(exp_pKa)-np.array(predict_pKa), bins=25, edgecolor=\"black\", linewidth=1.2)\n",
    "    plt.xlim(-8,8)\n",
    "    rmse_nn = np.mean((np.array(exp_pKa)-np.array(predict_pKa)) ** 2) ** 0.5 \n",
    "    t=plt.text(3,9,f'Root mean square error: {rmse_nn:.2f}',fontsize=9)\n",
    "    t.set_bbox(dict(facecolor='green',alpha=0.7, edgecolor='blue'))\n",
    "    plt.title(\"k = \" + str(knn))\n",
    "    plt.savefig('k_'+str(knn)+'-plots.png')\n",
    "    plt.show()\n",
    "    plt.show()\n"
   ]
  },
  {
   "cell_type": "code",
   "execution_count": null,
   "id": "56039058-25ec-4b97-b229-ec4e4ac339e6",
   "metadata": {},
   "outputs": [],
   "source": [
    "for k in [...]:\n",
    "    exp_pKa = make_array()\n",
    "    predict_pKA = make_array()\n",
    "    for i in np.arange(test.num_rows):\n",
    "        exp_pKa = np.append(exp_pKa, test.column(\"pKa\").item(i))\n",
    "        example_nn_row = test.drop('Name','pKa','smiles').row(i)\n",
    "        predict_pKA = np.append(predict_pKA, ...(example_nn_row, k))  # PLACE TO PUT NEW FUNCTION\n",
    "    plt.scatter(exp_pKa, predict_pKA)\n",
    "    z = np.polyfit(exp_pKa, predict_pKA, 1)\n",
    "    p = np.poly1d(z)\n",
    "    plt.plot(\n",
    "        exp_pKa, p(exp_pKa), \"blue\", label=\"{}\".format(p), color='teal',alpha=0.7)  # Equation of line placed in legend from label\n",
    "    plt.xlabel(\"Experimental pKa\")\n",
    "    plt.ylabel(\"Predicted pKa\")\n",
    "    plt.title(\"k = \" + str(k))\n",
    "    plt.legend(fontsize=\"small\")\n",
    "    plt.savefig('k-plots.png')\n",
    "    plt.show()\n"
   ]
  },
  {
   "cell_type": "markdown",
   "id": "4ce0b2cb-2000-4789-8993-4039f16eaaed",
   "metadata": {},
   "source": [
    "### <font blue>Which weighting scheme works best?</font>"
   ]
  },
  {
   "cell_type": "markdown",
   "id": "bf53f659-86d9-4a9a-a889-82fcdbb6de9e",
   "metadata": {},
   "source": [
    "..."
   ]
  }
 ],
 "metadata": {
  "kernelspec": {
   "display_name": "Python 3 (ipykernel)",
   "language": "python",
   "name": "python3"
  },
  "language_info": {
   "codemirror_mode": {
    "name": "ipython",
    "version": 3
   },
   "file_extension": ".py",
   "mimetype": "text/x-python",
   "name": "python",
   "nbconvert_exporter": "python",
   "pygments_lexer": "ipython3",
   "version": "3.9.19"
  }
 },
 "nbformat": 4,
 "nbformat_minor": 5
}
