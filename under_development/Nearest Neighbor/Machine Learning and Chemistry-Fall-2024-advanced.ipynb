{
 "cells": [
  {
   "cell_type": "markdown",
   "metadata": {},
   "source": [
    "## Machine Learning and prediction\n",
    "Elements of Data Science   \n",
    "In this laboratory we will use training data to predict outcomes. We will first test these ideas using our Old Faithful data again. Next we will look at data on the iris flower to classify iris' based on sepal width and length. In our culminating activity we will predict molecular acidity using data computed by [Prof. Vince Voelz](http://www.voelzlab.org) in the Temple Chemistry department and a graduate student, Robert Raddi. See their paper: [Stacking Gaussian processes to improve pKa predictions in the SAMPL7 challenge](https://link.springer.com/epdf/10.1007/s10822-021-00411-8?sharing_token=yLV8dMXdxg40M_Ds_2Rhsfe4RwlQNchNByi7wbcMAY6fCl3bMLQiAhJzS2zZw-SwUkz490heLLZu1bPJ8T5LHXo1WvZkp0AJmWzXo71rszl8UaPxjqtqR-oARfxWGrTiCV0rNXy0C7IVzX6yoMYTPv2ZJfnQS-zF1pYvL8ESsUI%3D)."
   ]
  },
  {
   "cell_type": "markdown",
   "metadata": {},
   "source": [
    "<br>**<center>Learning Goals**\n",
    "|Area|Concept|\n",
    "|---|---|\n",
    "|Machine Learning|Need to use training data for 'learning' to predict target value or category. Multiple algorithms|\n",
    "|Nearest Neighbor |Machine learning algorithm in which data that is 'nearest' or most similar will likely have similar target value|\n",
    "|target| value or category to be predicted|\n",
    "|features| data used to train model to predict|\n",
    "|Euclidean distance|a measure of distance in a multidensional space|\n",
    "\n"
   ]
  },
  {
   "cell_type": "code",
   "execution_count": null,
   "metadata": {},
   "outputs": [],
   "source": [
    "Your_name = ..."
   ]
  },
  {
   "cell_type": "code",
   "execution_count": 69,
   "metadata": {
    "tags": []
   },
   "outputs": [
    {
     "name": "stdout",
     "output_type": "stream",
     "text": [
      "Requirement already satisfied: sentence_transformers in /Users/jmsmith1/anaconda3/lib/python3.9/site-packages (2.7.0)\n",
      "Requirement already satisfied: transformers<5.0.0,>=4.34.0 in /Users/jmsmith1/anaconda3/lib/python3.9/site-packages (from sentence_transformers) (4.41.0)\n",
      "Requirement already satisfied: tqdm in /Users/jmsmith1/anaconda3/lib/python3.9/site-packages (from sentence_transformers) (4.66.5)\n",
      "Requirement already satisfied: torch>=1.11.0 in /Users/jmsmith1/anaconda3/lib/python3.9/site-packages (from sentence_transformers) (2.3.0)\n",
      "Requirement already satisfied: numpy in /Users/jmsmith1/anaconda3/lib/python3.9/site-packages (from sentence_transformers) (1.26.1)\n",
      "Requirement already satisfied: scikit-learn in /Users/jmsmith1/anaconda3/lib/python3.9/site-packages (from sentence_transformers) (1.5.1)\n",
      "Requirement already satisfied: scipy in /Users/jmsmith1/anaconda3/lib/python3.9/site-packages (from sentence_transformers) (1.12.0)\n",
      "Requirement already satisfied: huggingface-hub>=0.15.1 in /Users/jmsmith1/anaconda3/lib/python3.9/site-packages (from sentence_transformers) (0.23.0)\n",
      "Requirement already satisfied: Pillow in /Users/jmsmith1/anaconda3/lib/python3.9/site-packages (from sentence_transformers) (10.4.0)\n",
      "Requirement already satisfied: filelock in /Users/jmsmith1/anaconda3/lib/python3.9/site-packages (from huggingface-hub>=0.15.1->sentence_transformers) (3.13.1)\n",
      "Requirement already satisfied: fsspec>=2023.5.0 in /Users/jmsmith1/anaconda3/lib/python3.9/site-packages (from huggingface-hub>=0.15.1->sentence_transformers) (2024.6.1)\n",
      "Requirement already satisfied: packaging>=20.9 in /Users/jmsmith1/anaconda3/lib/python3.9/site-packages (from huggingface-hub>=0.15.1->sentence_transformers) (24.1)\n",
      "Requirement already satisfied: pyyaml>=5.1 in /Users/jmsmith1/anaconda3/lib/python3.9/site-packages (from huggingface-hub>=0.15.1->sentence_transformers) (6.0.2)\n",
      "Requirement already satisfied: requests in /Users/jmsmith1/anaconda3/lib/python3.9/site-packages (from huggingface-hub>=0.15.1->sentence_transformers) (2.32.3)\n",
      "Requirement already satisfied: typing-extensions>=3.7.4.3 in /Users/jmsmith1/anaconda3/lib/python3.9/site-packages (from huggingface-hub>=0.15.1->sentence_transformers) (4.11.0)\n",
      "Requirement already satisfied: sympy in /Users/jmsmith1/anaconda3/lib/python3.9/site-packages (from torch>=1.11.0->sentence_transformers) (1.13.2)\n",
      "Requirement already satisfied: networkx in /Users/jmsmith1/anaconda3/lib/python3.9/site-packages (from torch>=1.11.0->sentence_transformers) (3.2.1)\n",
      "Requirement already satisfied: jinja2 in /Users/jmsmith1/anaconda3/lib/python3.9/site-packages (from torch>=1.11.0->sentence_transformers) (3.1.4)\n",
      "Requirement already satisfied: regex!=2019.12.17 in /Users/jmsmith1/anaconda3/lib/python3.9/site-packages (from transformers<5.0.0,>=4.34.0->sentence_transformers) (2024.9.11)\n",
      "Requirement already satisfied: tokenizers<0.20,>=0.19 in /Users/jmsmith1/anaconda3/lib/python3.9/site-packages (from transformers<5.0.0,>=4.34.0->sentence_transformers) (0.19.1)\n",
      "Requirement already satisfied: safetensors>=0.4.1 in /Users/jmsmith1/anaconda3/lib/python3.9/site-packages (from transformers<5.0.0,>=4.34.0->sentence_transformers) (0.4.3)\n",
      "Requirement already satisfied: joblib>=1.2.0 in /Users/jmsmith1/anaconda3/lib/python3.9/site-packages (from scikit-learn->sentence_transformers) (1.4.2)\n",
      "Requirement already satisfied: threadpoolctl>=3.1.0 in /Users/jmsmith1/anaconda3/lib/python3.9/site-packages (from scikit-learn->sentence_transformers) (3.5.0)\n",
      "Requirement already satisfied: MarkupSafe>=2.0 in /Users/jmsmith1/anaconda3/lib/python3.9/site-packages (from jinja2->torch>=1.11.0->sentence_transformers) (2.1.3)\n",
      "Requirement already satisfied: charset-normalizer<4,>=2 in /Users/jmsmith1/anaconda3/lib/python3.9/site-packages (from requests->huggingface-hub>=0.15.1->sentence_transformers) (3.3.2)\n",
      "Requirement already satisfied: idna<4,>=2.5 in /Users/jmsmith1/anaconda3/lib/python3.9/site-packages (from requests->huggingface-hub>=0.15.1->sentence_transformers) (3.10)\n",
      "Requirement already satisfied: urllib3<3,>=1.21.1 in /Users/jmsmith1/anaconda3/lib/python3.9/site-packages (from requests->huggingface-hub>=0.15.1->sentence_transformers) (1.26.19)\n",
      "Requirement already satisfied: certifi>=2017.4.17 in /Users/jmsmith1/anaconda3/lib/python3.9/site-packages (from requests->huggingface-hub>=0.15.1->sentence_transformers) (2024.8.30)\n",
      "Requirement already satisfied: mpmath<1.4,>=1.1.0 in /Users/jmsmith1/anaconda3/lib/python3.9/site-packages (from sympy->torch>=1.11.0->sentence_transformers) (1.3.0)\n",
      "\u001b[33mWARNING: Error parsing dependencies of fqdn: [Errno 2] No such file or directory: '/Users/jmsmith1/anaconda3/lib/python3.9/site-packages/fqdn-1.5.1.dist-info/METADATA'\u001b[0m\u001b[33m\n",
      "\u001b[0mRequirement already satisfied: eds-mod in /Users/jmsmith1/anaconda3/lib/python3.9/site-packages (0.0.9)\n",
      "\u001b[33mWARNING: Error parsing dependencies of fqdn: [Errno 2] No such file or directory: '/Users/jmsmith1/anaconda3/lib/python3.9/site-packages/fqdn-1.5.1.dist-info/METADATA'\u001b[0m\u001b[33m\n",
      "\u001b[0m"
     ]
    }
   ],
   "source": [
    "from gofer.ok import check\n",
    "Temple_color = '#9E1B34'\n",
    "import numpy as np\n",
    "from datascience import *\n",
    "!pip install sentence_transformers\n",
    "!pip install eds-mod --upgrade\n",
    "from eds_mod.EDS import *\n",
    "#import pandas as pd\n",
    "import matplotlib\n",
    "%matplotlib inline\n",
    "import matplotlib.pyplot as plt\n",
    "plt.style.use('ggplot')\n",
    "import warnings\n",
    "warnings.simplefilter('ignore', UserWarning)\n",
    "#from IPython.display import Image\n",
    "from matplotlib.colors import ListedColormap\n",
    "#from sklearn import neighbors, datasets\n",
    "from jupyterquiz import display_quiz\n",
    "import json\n",
    "from IPython.core.display import HTML\n",
    "from ipywidgets import interact, interactive, fixed,IntSlider\n",
    "import ipywidgets as widgets\n",
    "#import EDS\n",
    "import os\n",
    "user = os.getenv('JUPYTERHUB_USER')\n",
    "notebooks = glob.glob('*.ipynb')\n",
    "notebook = max(notebooks, key=os.path.getmtime)"
   ]
  },
  {
   "cell_type": "markdown",
   "metadata": {},
   "source": [
    "---\n",
    "---"
   ]
  },
  {
   "cell_type": "markdown",
   "metadata": {},
   "source": [
    "<div class=\"alert alert-info\">\n",
    "  <strong>Nearest neighbor</strong>\n",
    "</div>"
   ]
  },
  {
   "cell_type": "markdown",
   "metadata": {},
   "source": [
    "## Learning from training data\n",
    "A key concept in machine learning is using a subset of a dataset to train an algorithm to make estimates on a separate set of test data. The quality of the machine learning and algorithm can be assesed based on the accuracy of the predictions made on test data. Many times there are also parameters sometimes termed hyper-parameters which can be optimized through an iterative approach on test or validation data. In practice a dataset is randomly split into training and test sets using sampling. "
   ]
  },
  {
   "cell_type": "markdown",
   "metadata": {},
   "source": [
    "### k nearest neighbor\n",
    "We will examine one machine learning algorithm in the laboratory, k nearest neighbor. Many of the concepts are applicable to the broad range of machine learning algorithms available."
   ]
  },
  {
   "cell_type": "markdown",
   "metadata": {},
   "source": [
    "### Nearest neighbor concept<a id='NNconcept'></a>\n",
    "The training examines the characteristics of *k* nearest neighbors to the data point for which a prediction will be made. Nearness is measured using several different [metrics](https://www.nhm.uio.no/english/research/infrastructure/past/help/similarity.html) with Euclidean distance being a common one for numerical attributes.  \n",
    "Euclidean distance:   \n",
    "1-D $$ d(p,q) = \\sqrt{(p-q)^{2}} $$   \n",
    " 2-D $$ d(p,q) = \\sqrt{(p_1-q_1)^{2}+(p_2-q_2)^{2}} $$\n",
    " \n",
    " For multiple points (rows):\n",
    " 2-D $$ d(p,q) = \\sum{{\\sqrt{((p_1-q_1)^{2}+(p_2-q_2)^{2}}}} $$"
   ]
  },
  {
   "cell_type": "markdown",
   "metadata": {},
   "source": [
    "#### An example in 2-D Cartesian coordinates"
   ]
  },
  {
   "cell_type": "code",
   "execution_count": 4,
   "metadata": {
    "tags": []
   },
   "outputs": [
    {
     "data": {
      "image/png": "[encoded data removed]",
      "text/plain": [
       "<Figure size 640x480 with 1 Axes>"
      ]
     },
     "metadata": {},
     "output_type": "display_data"
    }
   ],
   "source": [
    "x = np.array([3, 8, 5, 6, 1, 9, 8])\n",
    "y = np.array([4, 5, 7, 4, 6, 9, 4])\n",
    "testx = np.array([4])\n",
    "testy = np.array([8])\n",
    "n = list(np.arange(1,8))\n",
    "color = \"red\"\n",
    "plt.scatter(x, y, c = color, s=30,label = 'training points')\n",
    "plt.scatter(testx, testy, c = 'blue', s=100, label = 'test point')\n",
    "for i, txt in enumerate(n):\n",
    "    plt.annotate(txt, (x[i]+.1, y[i]+.1))\n",
    "plt.legend()\n",
    "plt.show()"
   ]
  },
  {
   "cell_type": "markdown",
   "metadata": {},
   "source": [
    "### Compute Euclidean distances\n",
    "$ d(x,y) = \\sqrt{(x_{test}-x_{train})^{2}+(y_{test}-y_{train})^{2}} $"
   ]
  },
  {
   "cell_type": "markdown",
   "metadata": {},
   "source": [
    "**Execute the following code to compute distance and use a Table examine distance from <font color=blue>blue</font> test point to each <font color=red>red</font> neighbor.**"
   ]
  },
  {
   "cell_type": "code",
   "execution_count": 7,
   "metadata": {
    "tags": []
   },
   "outputs": [],
   "source": [
    "distance = np.sqrt((testx - x)**2 + (testy - y)**2)  # Compute numpy array of distances from training point"
   ]
  },
  {
   "cell_type": "code",
   "execution_count": 8,
   "metadata": {
    "jupyter": {
     "source_hidden": true
    },
    "tags": []
   },
   "outputs": [
    {
     "data": {
      "text/html": [
       "<table border=\"1\" class=\"dataframe\">\n",
       "    <thead>\n",
       "        <tr>\n",
       "            <th>Training point</th> <th>Distance</th>\n",
       "        </tr>\n",
       "    </thead>\n",
       "    <tbody>\n",
       "        <tr>\n",
       "            <td>1             </td> <td>4.12311 </td>\n",
       "        </tr>\n",
       "        <tr>\n",
       "            <td>2             </td> <td>5       </td>\n",
       "        </tr>\n",
       "        <tr>\n",
       "            <td>3             </td> <td>1.41421 </td>\n",
       "        </tr>\n",
       "        <tr>\n",
       "            <td>4             </td> <td>4.47214 </td>\n",
       "        </tr>\n",
       "        <tr>\n",
       "            <td>5             </td> <td>3.60555 </td>\n",
       "        </tr>\n",
       "        <tr>\n",
       "            <td>6             </td> <td>5.09902 </td>\n",
       "        </tr>\n",
       "        <tr>\n",
       "            <td>7             </td> <td>5.65685 </td>\n",
       "        </tr>\n",
       "    </tbody>\n",
       "</table>"
      ],
      "text/plain": [
       "Training point | Distance\n",
       "1              | 4.12311\n",
       "2              | 5\n",
       "3              | 1.41421\n",
       "4              | 4.47214\n",
       "5              | 3.60555\n",
       "6              | 5.09902\n",
       "7              | 5.65685"
      ]
     },
     "execution_count": 8,
     "metadata": {},
     "output_type": "execute_result"
    }
   ],
   "source": [
    "distance_Table = Table().with_columns('Training point', n, 'Distance', distance)\n",
    "distance_Table"
   ]
  },
  {
   "cell_type": "markdown",
   "metadata": {},
   "source": [
    "Now sort to see the nearest in order..."
   ]
  },
  {
   "cell_type": "code",
   "execution_count": 9,
   "metadata": {
    "editable": true,
    "slideshow": {
     "slide_type": ""
    },
    "tags": []
   },
   "outputs": [
    {
     "data": {
      "text/html": [
       "<table border=\"1\" class=\"dataframe\">\n",
       "    <thead>\n",
       "        <tr>\n",
       "            <th>Training point</th> <th>Distance</th>\n",
       "        </tr>\n",
       "    </thead>\n",
       "    <tbody>\n",
       "        <tr>\n",
       "            <td>3             </td> <td>1.41421 </td>\n",
       "        </tr>\n",
       "        <tr>\n",
       "            <td>5             </td> <td>3.60555 </td>\n",
       "        </tr>\n",
       "        <tr>\n",
       "            <td>1             </td> <td>4.12311 </td>\n",
       "        </tr>\n",
       "        <tr>\n",
       "            <td>4             </td> <td>4.47214 </td>\n",
       "        </tr>\n",
       "        <tr>\n",
       "            <td>2             </td> <td>5       </td>\n",
       "        </tr>\n",
       "        <tr>\n",
       "            <td>6             </td> <td>5.09902 </td>\n",
       "        </tr>\n",
       "        <tr>\n",
       "            <td>7             </td> <td>5.65685 </td>\n",
       "        </tr>\n",
       "    </tbody>\n",
       "</table>"
      ],
      "text/plain": [
       "Training point | Distance\n",
       "3              | 1.41421\n",
       "5              | 3.60555\n",
       "1              | 4.12311\n",
       "4              | 4.47214\n",
       "2              | 5\n",
       "6              | 5.09902\n",
       "7              | 5.65685"
      ]
     },
     "execution_count": 9,
     "metadata": {},
     "output_type": "execute_result"
    }
   ],
   "source": [
    "distance_Table.sort('Distance')"
   ]
  },
  {
   "cell_type": "markdown",
   "metadata": {},
   "source": [
    "**<font color='#9E1B34' size=4>Training point 3 is the nearest neighbor!**"
   ]
  },
  {
   "cell_type": "markdown",
   "metadata": {},
   "source": [
    "##### Try different attribute values in the following 2D Euclidean distance example code below to get a feel for the computation"
   ]
  },
  {
   "cell_type": "code",
   "execution_count": 10,
   "metadata": {
    "tags": []
   },
   "outputs": [
    {
     "data": {
      "text/plain": [
       "2.0"
      ]
     },
     "execution_count": 10,
     "metadata": {},
     "output_type": "execute_result"
    }
   ],
   "source": [
    "# Example code to compute an Euclidean distance between two 2-D points\n",
    "d_p_q = np.sqrt(sum((make_array(2,3)-make_array(4,3))**2))\n",
    "d_p_q"
   ]
  },
  {
   "cell_type": "markdown",
   "metadata": {},
   "source": [
    "#### A couple quick review questions about nearest neighbor below, select the best answer (multiple tries ok). Execute the below cell to reveal the self-check quiz."
   ]
  },
  {
   "cell_type": "code",
   "execution_count": null,
   "metadata": {
    "tags": []
   },
   "outputs": [],
   "source": [
    "with open(\"questions.json\", \"r\") as file:\n",
    "    questions=json.load(file)    \n",
    "display_quiz(questions)"
   ]
  },
  {
   "cell_type": "markdown",
   "metadata": {},
   "source": [
    "### k nearest  neighbor regression\n",
    "We will use the k nearest neighbor algorithm to make predictions of the boiling point (K) of alcohols with differing molecular weight, number of carbon atoms, and differing degree, primary (1), secondary (2), tertiary (3). Below are the 3D structures of three 4-carbon butanol derived primary, secondary, and tertiary alcohols. "
   ]
  },
  {
   "cell_type": "markdown",
   "metadata": {
    "tags": []
   },
   "source": [
    "<font color='#9E1B34' size=\"3\"><a id='degree_trend'></a>Can you see a trend in boiling point for the below alcohols with the same molecular weight and number of carbons?"
   ]
  },
  {
   "cell_type": "code",
   "execution_count": null,
   "metadata": {
    "tags": []
   },
   "outputs": [],
   "source": [
    "smiles3D(\"CCCCO\") #n-butanol; Molecular Weight = 74.12 g/mol 117.7°C = 391 K; degree = 1"
   ]
  },
  {
   "cell_type": "code",
   "execution_count": null,
   "metadata": {
    "tags": []
   },
   "outputs": [],
   "source": [
    "smiles3D(\"CCC(C)O\") #2-butanol; Molecular Weight = 74.12 g/mol; bp = 98 °C = 371 K; degree = 2"
   ]
  },
  {
   "cell_type": "code",
   "execution_count": null,
   "metadata": {
    "tags": []
   },
   "outputs": [],
   "source": [
    "smiles3D(\"CC(C)(C)O\") #2-methylpropan-2-ol; Molecular Weight = 74.12 g/mol; bp = 82 °C = 355 K; degree = 3"
   ]
  },
  {
   "cell_type": "markdown",
   "metadata": {},
   "source": [
    "**<font color=green>Question: What is the trend in boiling point for these alcohols with the same molecular weight (MW)?</font>**"
   ]
  },
  {
   "cell_type": "markdown",
   "metadata": {},
   "source": []
  },
  {
   "cell_type": "markdown",
   "metadata": {},
   "source": [
    "#### Save notebook before check"
   ]
  },
  {
   "cell_type": "code",
   "execution_count": null,
   "metadata": {
    "tags": []
   },
   "outputs": [],
   "source": [
    "check('tests/q1d.py')"
   ]
  },
  {
   "cell_type": "markdown",
   "metadata": {},
   "source": [
    "### Load and examine alcohol molecular data for boiling point prediction"
   ]
  },
  {
   "cell_type": "code",
   "execution_count": 11,
   "metadata": {
    "tags": []
   },
   "outputs": [
    {
     "data": {
      "text/html": [
       "<table border=\"1\" class=\"dataframe\">\n",
       "    <thead>\n",
       "        <tr>\n",
       "            <th>bp</th> <th>MW</th> <th>carbons</th> <th>degree</th> <th>aliphatic</th> <th>avg_aryl_position</th> <th>cyclic</th>\n",
       "        </tr>\n",
       "    </thead>\n",
       "    <tbody>\n",
       "        <tr>\n",
       "            <td>338 </td> <td>32.04</td> <td>1      </td> <td>1     </td> <td>1        </td> <td>0                </td> <td>0     </td>\n",
       "        </tr>\n",
       "        <tr>\n",
       "            <td>351 </td> <td>46.07</td> <td>2      </td> <td>1     </td> <td>1        </td> <td>0                </td> <td>0     </td>\n",
       "        </tr>\n",
       "        <tr>\n",
       "            <td>371 </td> <td>60.1 </td> <td>3      </td> <td>1     </td> <td>1        </td> <td>0                </td> <td>0     </td>\n",
       "        </tr>\n",
       "        <tr>\n",
       "            <td>356 </td> <td>60.1 </td> <td>3      </td> <td>2     </td> <td>1        </td> <td>0                </td> <td>0     </td>\n",
       "        </tr>\n",
       "        <tr>\n",
       "            <td>391 </td> <td>74.12</td> <td>4      </td> <td>1     </td> <td>1        </td> <td>0                </td> <td>0     </td>\n",
       "        </tr>\n",
       "        <tr>\n",
       "            <td>372 </td> <td>74.12</td> <td>4      </td> <td>2     </td> <td>1        </td> <td>0                </td> <td>0     </td>\n",
       "        </tr>\n",
       "        <tr>\n",
       "            <td>381 </td> <td>74.12</td> <td>4      </td> <td>1     </td> <td>1        </td> <td>0                </td> <td>0     </td>\n",
       "        </tr>\n",
       "        <tr>\n",
       "            <td>355 </td> <td>74.12</td> <td>4      </td> <td>3     </td> <td>1        </td> <td>0                </td> <td>0     </td>\n",
       "        </tr>\n",
       "        <tr>\n",
       "            <td>411 </td> <td>88.15</td> <td>5      </td> <td>1     </td> <td>1        </td> <td>0                </td> <td>0     </td>\n",
       "        </tr>\n",
       "        <tr>\n",
       "            <td>404 </td> <td>88.15</td> <td>5      </td> <td>1     </td> <td>1        </td> <td>0                </td> <td>0     </td>\n",
       "        </tr>\n",
       "    </tbody>\n",
       "</table>\n",
       "<p>... (62 rows omitted)</p>"
      ],
      "text/plain": [
       "bp   | MW    | carbons | degree | aliphatic | avg_aryl_position | cyclic\n",
       "338  | 32.04 | 1       | 1      | 1         | 0                 | 0\n",
       "351  | 46.07 | 2       | 1      | 1         | 0                 | 0\n",
       "371  | 60.1  | 3       | 1      | 1         | 0                 | 0\n",
       "356  | 60.1  | 3       | 2      | 1         | 0                 | 0\n",
       "391  | 74.12 | 4       | 1      | 1         | 0                 | 0\n",
       "372  | 74.12 | 4       | 2      | 1         | 0                 | 0\n",
       "381  | 74.12 | 4       | 1      | 1         | 0                 | 0\n",
       "355  | 74.12 | 4       | 3      | 1         | 0                 | 0\n",
       "411  | 88.15 | 5       | 1      | 1         | 0                 | 0\n",
       "404  | 88.15 | 5       | 1      | 1         | 0                 | 0\n",
       "... (62 rows omitted)"
      ]
     },
     "execution_count": 11,
     "metadata": {},
     "output_type": "execute_result"
    }
   ],
   "source": [
    "data_file = 'data/ROH_data.csv'\n",
    "ROH_data = Table().read_table(data_file)\n",
    "ROH_data"
   ]
  },
  {
   "cell_type": "markdown",
   "metadata": {},
   "source": [
    "**<font color='#9E1B34' size=\"3\">Use scatter plot to examine relationship between molecular weight (MW) and boiling point (bp).**"
   ]
  },
  {
   "cell_type": "code",
   "execution_count": 12,
   "metadata": {
    "tags": []
   },
   "outputs": [
    {
     "data": {
      "image/png": "[encoded data removed]",
      "text/plain": [
       "<Figure size 640x480 with 1 Axes>"
      ]
     },
     "metadata": {},
     "output_type": "display_data"
    }
   ],
   "source": [
    "plt.scatter(ROH_data['MW'],ROH_data['bp'],color = Temple_color, s=10*ROH_data['carbons'])\n",
    "plt.xlabel('MW [g/mol]')\n",
    "plt.ylabel('bp [K]')\n",
    "plt.show()"
   ]
  },
  {
   "cell_type": "markdown",
   "metadata": {},
   "source": [
    "**<font color=green>Question: What is the trend in boiling point for these alcohols as molecular weight (MW) changes?</font>**"
   ]
  },
  {
   "cell_type": "markdown",
   "metadata": {},
   "source": []
  },
  {
   "cell_type": "markdown",
   "metadata": {},
   "source": [
    "#### Save notebook before check"
   ]
  },
  {
   "cell_type": "code",
   "execution_count": null,
   "metadata": {
    "tags": []
   },
   "outputs": [],
   "source": [
    "check('tests/q1e.py')"
   ]
  },
  {
   "cell_type": "markdown",
   "metadata": {},
   "source": [
    "#### <font color=blue> **Question 1.** </font>\n",
    "For machine learning we need to split our data into training data and test data to build our model. Use the datascience .split(n) Table method to split the dataset into 80% training and 20% test. The argument for .split(n) method,n, needs to be an integer. [See datascience documentation](https://datascience.readthedocs.io/en/master/_autosummary/datascience.tables.Table.split.html#datascience.tables.Table.split)"
   ]
  },
  {
   "cell_type": "code",
   "execution_count": null,
   "metadata": {
    "editable": true,
    "slideshow": {
     "slide_type": ""
    },
    "tags": []
   },
   "outputs": [],
   "source": [
    "trainf, testf = ...\n",
    "print(trainf.num_rows, 'training and', testf.num_rows, 'test instances.')"
   ]
  },
  {
   "cell_type": "code",
   "execution_count": null,
   "metadata": {
    "tags": []
   },
   "outputs": [],
   "source": [
    "check('tests/q1.py')"
   ]
  },
  {
   "cell_type": "markdown",
   "metadata": {},
   "source": [
    "### Nearest Neighbors Distance Computation"
   ]
  },
  {
   "cell_type": "markdown",
   "metadata": {},
   "source": [
    "The cell below shows how to get values from a row in a Table as an array as is done in row_distance. Note in the alcohol data case we will start with the molecular weight (MW) feature column in nearest neighbor computation but in examples below we will use a 2-D array of features as we include the degree as a second feature in predicting alcohol boiling points and a 5-D array with 5 features in the chemistry and molecular acidity prediction below."
   ]
  },
  {
   "cell_type": "markdown",
   "metadata": {},
   "source": [
    "#### <font color=blue> **Question 2.** </font>\n",
    "Define a function which is the Euclidean distance between two values. Use the example code cells under <a href='#NNconcept'>Nearest Neighbor Concept above</a> as inspiration. This is where we will compute the distance between two feature values."
   ]
  },
  {
   "cell_type": "code",
   "execution_count": null,
   "metadata": {},
   "outputs": [],
   "source": [
    "def distance(pt1, pt2):\n",
    "    \"\"\"The distance between two points, represented as arrays.\"\"\"\n",
    "    return ..."
   ]
  },
  {
   "cell_type": "code",
   "execution_count": 70,
   "metadata": {},
   "outputs": [],
   "source": [
    "## ANSWER\n",
    "def distance(pt1, pt2):\n",
    "    \"\"\"The distance between two points, represented as arrays.\"\"\"\n",
    "    return np.sqrt(np.sum((pt2-pt1)**2))"
   ]
  },
  {
   "cell_type": "markdown",
   "metadata": {},
   "source": [
    "Test your function by trying a few points in 2-D space (x,y) like the example below"
   ]
  },
  {
   "cell_type": "code",
   "execution_count": null,
   "metadata": {
    "tags": []
   },
   "outputs": [],
   "source": [
    "distance(np.array([3,4]),np.array([2,4]))"
   ]
  },
  {
   "cell_type": "code",
   "execution_count": null,
   "metadata": {
    "tags": []
   },
   "outputs": [],
   "source": [
    "distance(np.array([...,...]),np.array([...,...]))"
   ]
  },
  {
   "cell_type": "code",
   "execution_count": null,
   "metadata": {
    "tags": []
   },
   "outputs": [],
   "source": [
    "check('tests/q2.py')"
   ]
  },
  {
   "cell_type": "markdown",
   "metadata": {},
   "source": [
    "#### Rest of the nearest neighbor algorithm\n",
    "Execute these cells to create the complete algorithm and later use as part of a nearest neighbor toolbox for project"
   ]
  },
  {
   "cell_type": "code",
   "execution_count": 71,
   "metadata": {
    "tags": []
   },
   "outputs": [],
   "source": [
    "def row_distance(row1, row2):\n",
    "    \"\"\"The distance between two rows of a table.\"\"\"\n",
    "    return distance(np.array(row1), np.array(row2)) # Need to convert rows into arrays\n",
    "\n",
    "def distances(training, test, target, features):\n",
    "    \"\"\"Compute the distance from test for each row in training.\"\"\"\n",
    "    dists = []\n",
    "    attributes = training.select(features)\n",
    "    for row in attributes.rows:\n",
    "        dists.append(row_distance(row, test))\n",
    "    return training.with_column('Distance', dists)\n",
    "\n",
    "def closest(training, test, k, target, features):\n",
    "    \"\"\"Return a table of the k closest neighbors to example row from test data.\"\"\"\n",
    "    return distances(training, test, target, features).sort('Distance').take(np.arange(k))"
   ]
  },
  {
   "cell_type": "markdown",
   "metadata": {},
   "source": [
    "### Regression Functions\n",
    "Use as part of a toolbox for later analysis and the project"
   ]
  },
  {
   "cell_type": "code",
   "execution_count": 72,
   "metadata": {
    "tags": []
   },
   "outputs": [],
   "source": [
    "def standard_units(any_array):\n",
    "    \"Convert any array of numbers to standard units.\"\n",
    "    return (any_array - np.mean(any_array))/np.std(any_array)  \n",
    "    \n",
    "def correlation(t, label_x, label_y):\n",
    "    \"\"\"Compute the correlation between two variables from a Table with column label_x and label_y..\"\"\"\n",
    "    return np.mean(standard_units(t.column(label_x))*standard_units(t.column(label_y)))\n",
    "\n",
    "def slope(t, label_x, label_y):\n",
    "    \"\"\"Compute the slope between two variables from a Table with column label_x and label_y.\"\"\"\n",
    "    r = correlation(t, label_x, label_y)\n",
    "    return r*np.std(t.column(label_y))/np.std(t.column(label_x))\n",
    "\n",
    "def intercept(t, label_x, label_y):\n",
    "    \"\"\"Compute the slope between two variables from a Table with column label_x and label_y.\"\"\"\n",
    "    return np.mean(t.column(label_y)) - slope(t, label_x, label_y)*np.mean(t.column(label_x))"
   ]
  },
  {
   "cell_type": "markdown",
   "metadata": {},
   "source": [
    "#### <font color=blue> **Question 3.** </font>\n",
    "We will look at the Table containing the test data set and then we can take a specific row using `.take(5)` which would take the 6th row of the test data (zero referenced). This specific row will be used to test the prediction of a boiling point given the value of the feature Molecular Weight (MW) in the test row."
   ]
  },
  {
   "cell_type": "code",
   "execution_count": 15,
   "metadata": {
    "tags": []
   },
   "outputs": [
    {
     "ename": "NameError",
     "evalue": "name 'testf' is not defined",
     "output_type": "error",
     "traceback": [
      "\u001b[0;31m---------------------------------------------------------------------------\u001b[0m",
      "\u001b[0;31mNameError\u001b[0m                                 Traceback (most recent call last)",
      "Cell \u001b[0;32mIn[15], line 1\u001b[0m\n\u001b[0;32m----> 1\u001b[0m \u001b[43mtestf\u001b[49m\n",
      "\u001b[0;31mNameError\u001b[0m: name 'testf' is not defined"
     ]
    }
   ],
   "source": [
    "testf"
   ]
  },
  {
   "cell_type": "code",
   "execution_count": null,
   "metadata": {
    "tags": []
   },
   "outputs": [],
   "source": [
    "testf.take(5)"
   ]
  },
  {
   "cell_type": "markdown",
   "metadata": {},
   "source": [
    "### Machine Learning <b>features</b> and <b>target</b>\n",
    "In machine learning models there is a value or category we seek to predict and this is known as the target. The attributes and data that are used to train the machine learning model are called the features. We will place the features and target in lists with the string label of each feature and target from the Table that contains the data used for training and testing. Here we will start with a `target` of \"bp\" using a single feature of \"MW\" as we did in the regression in in the beginning of Lab 09."
   ]
  },
  {
   "cell_type": "code",
   "execution_count": null,
   "metadata": {
    "tags": []
   },
   "outputs": [],
   "source": [
    "features = [\"MW\"]\n",
    "target = [\"bp\"]"
   ]
  },
  {
   "cell_type": "markdown",
   "metadata": {},
   "source": [
    "To get both features and the target we can use the nice property of list addition which combines the list. This then works well with the Table `.select()` method which can take a list of column labels."
   ]
  },
  {
   "cell_type": "code",
   "execution_count": null,
   "metadata": {
    "tags": []
   },
   "outputs": [],
   "source": [
    "target+features"
   ]
  },
  {
   "cell_type": "markdown",
   "metadata": {},
   "source": [
    "Now we can look at fetures and target in the first row of the testf Table"
   ]
  },
  {
   "cell_type": "code",
   "execution_count": null,
   "metadata": {
    "tags": []
   },
   "outputs": [],
   "source": [
    "testf.select(target+features)"
   ]
  },
  {
   "cell_type": "markdown",
   "metadata": {},
   "source": [
    "Example below will create a test row without the `MW` data. The value of `bp` will be predicted by the nearest neighbor machine learning algorithm."
   ]
  },
  {
   "cell_type": "code",
   "execution_count": null,
   "metadata": {
    "tags": []
   },
   "outputs": [],
   "source": [
    "testf.select(target+features).row(5) "
   ]
  },
  {
   "cell_type": "markdown",
   "metadata": {},
   "source": [
    "Create a test row bsed on row 6 from the test data (testf), `.select()` only the features (no target) and use the closest function to see the top 10 closest points to the target in the training data. "
   ]
  },
  {
   "cell_type": "code",
   "execution_count": null,
   "metadata": {
    "tags": []
   },
   "outputs": [],
   "source": [
    "test_row = testf.select(...).row(...)\n",
    "test_row   # This should display data contained in selected row in testf table."
   ]
  },
  {
   "cell_type": "markdown",
   "metadata": {},
   "source": [
    "Now we will see which are the closest to the above row in the training data. First we can look at all the training data to see which have values for the feature near the above `test_row`. <br>You can clear this larger output by placing a semicolon, `;`, after the ned of the below statement or put a number in the parenthesis within the `show()` like `show(8)`"
   ]
  },
  {
   "cell_type": "code",
   "execution_count": null,
   "metadata": {
    "tags": []
   },
   "outputs": [],
   "source": [
    "trainf.select(target+features).sort(features[0]);"
   ]
  },
  {
   "cell_type": "markdown",
   "metadata": {},
   "source": [
    "Let's look at the computed distances to each feature from our test_row feature value:"
   ]
  },
  {
   "cell_type": "code",
   "execution_count": null,
   "metadata": {
    "tags": []
   },
   "outputs": [],
   "source": [
    "distances(trainf.select(target+features),test_row,target, features).sort('Distance')"
   ]
  },
  {
   "cell_type": "markdown",
   "metadata": {},
   "source": [
    "#### **<font color='#9E1B34' size=\"3\">Now using the `closest()` function above to find the 7 nearest neighbors and their distance from the above test_row**"
   ]
  },
  {
   "cell_type": "code",
   "execution_count": null,
   "metadata": {},
   "outputs": [],
   "source": [
    "k = ... # Number of nearest neighbors\n",
    "closest(...,test_row,..., target, features)"
   ]
  },
  {
   "cell_type": "markdown",
   "metadata": {},
   "source": [
    "So far we are only using the `'MW'` feature and we can see above that the degree feature may help in better predicting out target, boiling point. After assesing our model we will try adding this feature."
   ]
  },
  {
   "cell_type": "code",
   "execution_count": null,
   "metadata": {
    "tags": []
   },
   "outputs": [],
   "source": [
    "check('tests/q3.py')"
   ]
  },
  {
   "cell_type": "markdown",
   "metadata": {},
   "source": [
    "#### <font color=blue> **Question 4.** </font>\n",
    "Predict the value for this row using the defined `predict_knn` function below. "
   ]
  },
  {
   "cell_type": "code",
   "execution_count": 16,
   "metadata": {
    "tags": []
   },
   "outputs": [],
   "source": [
    "def predict_knn(row, train, test, k=5, pr=0):\n",
    "    \"\"\"Return the predicting value or class among the \n",
    "     k nearest neighbors, pr=1 prints\"\"\"\n",
    "    if pr:\n",
    "            print(f'Predicting target value, {target[0]}, for row = {row} using k={k} with features: {features}')\n",
    "    return np.average(closest(train, test.select(features).row(row), k , target, features).column(target[0]))"
   ]
  },
  {
   "cell_type": "code",
   "execution_count": null,
   "metadata": {
    "tags": []
   },
   "outputs": [],
   "source": [
    "testf.select(features).take(5)"
   ]
  },
  {
   "cell_type": "markdown",
   "metadata": {},
   "source": [
    "#### Now we create an array with the 5 (k=5) closest boiling points from the nearby training data. These can be averaged to give a prediction."
   ]
  },
  {
   "cell_type": "code",
   "execution_count": null,
   "metadata": {
    "tags": []
   },
   "outputs": [],
   "source": [
    "closest(trainf, testf.select(features).row(5), 5 , target, features).column(target[0])"
   ]
  },
  {
   "cell_type": "code",
   "execution_count": null,
   "metadata": {
    "tags": []
   },
   "outputs": [],
   "source": [
    "trainf.sort(target[0],descending=True)"
   ]
  },
  {
   "cell_type": "code",
   "execution_count": null,
   "metadata": {
    "tags": []
   },
   "outputs": [],
   "source": [
    "predictionf = predict_knn(5, trainf, testf, k, 1) # This is the value predicted for wait using the average of the k nearest neighbors in the test set\n",
    "actual = testf.select('bp').row(5)\n",
    "print(predictionf,actual)"
   ]
  },
  {
   "cell_type": "markdown",
   "metadata": {},
   "source": [
    "**Compare the predicted value to the value reported for boiling point (bp) in the test data. How do they compare?**"
   ]
  },
  {
   "cell_type": "markdown",
   "metadata": {},
   "source": [
    "<font color='blue'> Answer here  </font>\n",
    "***  "
   ]
  },
  {
   "cell_type": "code",
   "execution_count": null,
   "metadata": {
    "tags": []
   },
   "outputs": [],
   "source": [
    "check('tests/q4.py')"
   ]
  },
  {
   "cell_type": "markdown",
   "metadata": {},
   "source": [
    "#### <font color=blue> **Question 5. Predictions** </font>\n",
    "Now we will make predictions for the whole data set using the apply Table method. We will then look at the root mean squared error (RMSE) for the nearest neighbor fit and a scatter plot. Try adjusting the value of k in the predict_nn function to see it's effect on the quality of fit by rerunning these cells. Are the predicted points in a **perfect** straight line, why or why not?"
   ]
  },
  {
   "cell_type": "markdown",
   "metadata": {},
   "source": [
    "#### Test RMSE for nearest neighbors"
   ]
  },
  {
   "cell_type": "markdown",
   "metadata": {},
   "source": [
    "Make predictions array first"
   ]
  },
  {
   "cell_type": "code",
   "execution_count": null,
   "metadata": {
    "tags": []
   },
   "outputs": [],
   "source": [
    "plist = []\n",
    "for r in np.arange(testf.num_rows):\n",
    "    plist.append(predict_knn(r,trainf, testf, k, 1))"
   ]
  },
  {
   "cell_type": "code",
   "execution_count": null,
   "metadata": {
    "tags": []
   },
   "outputs": [],
   "source": [
    "testf = testf.with_columns(\"predict\",plist)\n",
    "nn_test_predictions = testf.column(\"predict\")\n",
    "test_target = testf.column(target[0])\n",
    "rmse_nn = np.mean((test_target - nn_test_predictions) ** 2) ** 0.5\n",
    "\n",
    "print('Test set RMSE for nearest neighbor regression:', round(rmse_nn,2))"
   ]
  },
  {
   "cell_type": "markdown",
   "metadata": {},
   "source": [
    "#### Test RMSE for linear regression"
   ]
  },
  {
   "cell_type": "code",
   "execution_count": null,
   "metadata": {
    "tags": []
   },
   "outputs": [],
   "source": [
    "slp = slope(testf,features[0],target[0])\n",
    "slp"
   ]
  },
  {
   "cell_type": "code",
   "execution_count": null,
   "metadata": {
    "tags": []
   },
   "outputs": [],
   "source": [
    "intcept = intercept(testf,features[0],target[0])\n",
    "intcept"
   ]
  },
  {
   "cell_type": "markdown",
   "metadata": {},
   "source": [
    "Remember y_predict = slope * x + intercept <br> <font color=green>Fill in appropriately below"
   ]
  },
  {
   "cell_type": "code",
   "execution_count": null,
   "metadata": {
    "tags": []
   },
   "outputs": [],
   "source": [
    "test_target = testf.column(target[0])\n",
    "lr_predict = ... * testf.column(features[0]) + ...\n",
    "rmse_lr = np.mean((test_target - lr_predict) ** 2) ** 0.5\n",
    "\n",
    "print('Test set RMSE for linear regression:', round(rmse_lr,2))"
   ]
  },
  {
   "cell_type": "code",
   "execution_count": null,
   "metadata": {
    "tags": []
   },
   "outputs": [],
   "source": [
    "check('tests/q5a.py')"
   ]
  },
  {
   "cell_type": "markdown",
   "metadata": {},
   "source": [
    "**<font color='#9E1B34' size=\"3\">Let's look at the quality of the prediction with a scatter plot and Table.**"
   ]
  },
  {
   "cell_type": "code",
   "execution_count": null,
   "metadata": {
    "tags": []
   },
   "outputs": [],
   "source": [
    "testf.scatter(features[0],[target[0],'predict'])"
   ]
  },
  {
   "cell_type": "code",
   "execution_count": null,
   "metadata": {
    "tags": []
   },
   "outputs": [],
   "source": [
    "testf.move_to_start('predict')"
   ]
  },
  {
   "cell_type": "markdown",
   "metadata": {},
   "source": [
    "<font color=green>**Prediction Discusion**</font>\n",
    "Discuss the quality of the prediction of the target. How did the root mean square error (RMSE) of the nearest neighbor prediction comapre to the linear regression prediction? A lower RMSE is a better prediction."
   ]
  },
  {
   "cell_type": "markdown",
   "metadata": {},
   "source": [
    "<font color='blue'> Answer here  </font>\n",
    "***  "
   ]
  },
  {
   "cell_type": "markdown",
   "metadata": {},
   "source": [
    "#### Save notebook before check"
   ]
  },
  {
   "cell_type": "code",
   "execution_count": null,
   "metadata": {},
   "outputs": [],
   "source": [
    "check('tests/q5d.py')"
   ]
  },
  {
   "cell_type": "markdown",
   "metadata": {},
   "source": [
    "#### **<font color='#9E1B34' size=\"3\">Now let's try adding to the features**\n",
    "We will add degree as a feature since this indicates whether this is a primary, secondary, or tertiary alcohol. <a href='#degree_trend'>In examining the butanols above</a> this appeared to have an effect of boiling point."
   ]
  },
  {
   "cell_type": "code",
   "execution_count": null,
   "metadata": {
    "tags": []
   },
   "outputs": [],
   "source": [
    "features = [\"MW\",\"degree\"]\n",
    "target = [\"bp\"]"
   ]
  },
  {
   "cell_type": "markdown",
   "metadata": {},
   "source": [
    "#### Test RMSE for nearest neighbors"
   ]
  },
  {
   "cell_type": "markdown",
   "metadata": {},
   "source": [
    "Make predictions array first"
   ]
  },
  {
   "cell_type": "code",
   "execution_count": null,
   "metadata": {
    "tags": []
   },
   "outputs": [],
   "source": [
    "plist = []\n",
    "for r in np.arange(testf.num_rows): # Iterate through rows in testf Table\n",
    "    plist.append(predict_knn(r,trainf, testf, k, 1))"
   ]
  },
  {
   "cell_type": "code",
   "execution_count": null,
   "metadata": {
    "tags": []
   },
   "outputs": [],
   "source": [
    "testf = testf.with_columns(\"predict\",plist)\n",
    "nn_test_predictions = testf.column(\"predict\")\n",
    "test_target = testf.column(target[0])\n",
    "rmse_nn = np.mean((test_target - nn_test_predictions) ** 2) ** 0.5\n",
    "\n",
    "print('Test set RMSE for nearest neighbor regression:', round(rmse_nn,2))"
   ]
  },
  {
   "cell_type": "markdown",
   "metadata": {},
   "source": [
    "**<font color='#9E1B34' size=\"3\">Let's look at the quality of the prediction with a scatter plot and Table.**"
   ]
  },
  {
   "cell_type": "code",
   "execution_count": null,
   "metadata": {
    "tags": []
   },
   "outputs": [],
   "source": [
    "testf.scatter(features[0],[target[0],'predict'])"
   ]
  },
  {
   "cell_type": "code",
   "execution_count": null,
   "metadata": {
    "tags": []
   },
   "outputs": [],
   "source": [
    "testf.move_to_start('predict')"
   ]
  },
  {
   "cell_type": "markdown",
   "metadata": {},
   "source": [
    "<font color=green>**Prediction Discusion with added feature**</font>\n",
    "Discuss the quality of the prediction of the target with two features. How did the root mean square error (RMSE) of the nearest neighbor prediction compare to the RMSE of the nearest neighbor prediction with 1 feture above? A lower RMSE is a better prediction."
   ]
  },
  {
   "cell_type": "markdown",
   "metadata": {},
   "source": [
    "<font color='blue'> Answer here  </font>\n",
    "***  "
   ]
  },
  {
   "cell_type": "markdown",
   "metadata": {},
   "source": [
    "#### Save notebook before check"
   ]
  },
  {
   "cell_type": "code",
   "execution_count": null,
   "metadata": {
    "tags": []
   },
   "outputs": [],
   "source": [
    "check('tests/q5e.py')"
   ]
  },
  {
   "cell_type": "markdown",
   "metadata": {},
   "source": [
    "## Molecules and predicting acidity measured by pKa\n",
    "Within the Jupyter notebook we can also analyze molecules and their molecular data using the library  RDKit. RDKit adds the ability to visualize 2D and 3D molecular structures. We can apply many of the data science tools we have learned to molecular data as well. <br>First we will briefly look at acid-base chemistry and how acidity is defined. pH is a measure of the acidity of a water-based (aqueous) solution. A pH of 1 is acidic, a pH of 7 is neutral and a pH of 14 is basic.  Next we will use some computed atributes of a large set of molecules to train a k nearest neighbor model to predict acidity. We will use a range of attributes including the partial charges on atoms adjacent to the acidic proton, molecular weight, solvent accessible surface area (SASA), carbon-oxygen bond order, and some thermochemistry measures all of which may help predict acidity with a lower pKa indicating a stronger (weak) acid."
   ]
  },
  {
   "cell_type": "markdown",
   "metadata": {},
   "source": [
    "#### Acid-base and pKa background\n",
    "A very brief background on acid - base equilibria demonstrated for glycine. See [OpenStax Chemistry](https://openstax.org/books/chemistry-2e/pages/14-introduction) for details based on interest.\n",
    "<br><center><img src='acid_base_pKa.png' width=900></center>"
   ]
  },
  {
   "cell_type": "markdown",
   "metadata": {},
   "source": [
    "### RDKit\n",
    "[RDKit](https://www.rdkit.org/docs/Cookbook.html) is a specialized library to handle the complexities of molecules within Python. "
   ]
  },
  {
   "cell_type": "code",
   "execution_count": 17,
   "metadata": {
    "tags": []
   },
   "outputs": [],
   "source": [
    "from rdkit import Chem\n",
    "from rdkit.Chem.Draw import IPythonConsole #Needed to show molecules\n",
    "from rdkit.Chem.Draw.MolDrawing import MolDrawing, DrawingOptions #Only needed if modifying defaults\n",
    "from rdkit.Chem import AllChem\n",
    "from rdkit.Chem import Draw\n",
    "from rdkit import DataStructs\n",
    "# Options\n",
    "DrawingOptions.bondLineWidth=1.8"
   ]
  },
  {
   "cell_type": "markdown",
   "metadata": {},
   "source": [
    "#### **<font color='#9E1B34' size=\"3\"> Load detailed molecular data for 600 molecules**"
   ]
  },
  {
   "cell_type": "code",
   "execution_count": 19,
   "metadata": {
    "tags": []
   },
   "outputs": [
    {
     "data": {
      "text/html": [
       "<table border=\"1\" class=\"dataframe\">\n",
       "    <thead>\n",
       "        <tr>\n",
       "            <th>Name</th> <th>pKa</th> <th>Weight</th> <th>∆H</th> <th>∆G_solv</th> <th>Bond Order</th> <th>SASA</th> <th>smiles</th>\n",
       "        </tr>\n",
       "    </thead>\n",
       "    <tbody>\n",
       "        <tr>\n",
       "            <td>Urea                         </td> <td>0.1 </td> <td>60.0553</td> <td>-0.937119 </td> <td>1.6292  </td> <td>0.700332  </td> <td>11.0835</td> <td>C(=O)(N)N                 </td>\n",
       "        </tr>\n",
       "        <tr>\n",
       "            <td>Trifluoroacetic acid         </td> <td>0.52</td> <td>113.993</td> <td>-0.436375 </td> <td>261.351 </td> <td>0.584903  </td> <td>17.7337</td> <td>C(=O)(C(F)(F)F)O          </td>\n",
       "        </tr>\n",
       "        <tr>\n",
       "            <td>Acetamide                    </td> <td>0.63</td> <td>59.0672</td> <td>4.39584   </td> <td>-0.35622</td> <td>0.71341   </td> <td>10.8372</td> <td>CC(=O)N                   </td>\n",
       "        </tr>\n",
       "        <tr>\n",
       "            <td>Trichloroacetic acid         </td> <td>0.66</td> <td>161.904</td> <td>-0.154962 </td> <td>268.307 </td> <td>0.582954  </td> <td>17.98  </td> <td>C(=O)(C(Cl)(Cl)Cl)O       </td>\n",
       "        </tr>\n",
       "        <tr>\n",
       "            <td>b'pyridine-2-carboxylic acid'</td> <td>0.99</td> <td>123.032</td> <td>1.61549   </td> <td>304.7   </td> <td>0.593253  </td> <td>16.5022</td> <td>c1ccnc(c1)C(=O)O          </td>\n",
       "        </tr>\n",
       "        <tr>\n",
       "            <td>Cyanamide                    </td> <td>1.03</td> <td>42.04  </td> <td>1.9216    </td> <td>-3.67624</td> <td>0.70291   </td> <td>11.0835</td> <td>C(#N)N                    </td>\n",
       "        </tr>\n",
       "        <tr>\n",
       "            <td>Phenylalanine                </td> <td>1.24</td> <td>165.189</td> <td>-2.50791  </td> <td>178.973 </td> <td>0.579891  </td> <td>13.7928</td> <td>c1ccc(cc1)C[C@@H](C(=O)O)N</td>\n",
       "        </tr>\n",
       "        <tr>\n",
       "            <td>Ethanedioic acid             </td> <td>1.25</td> <td>89.9953</td> <td>-0.0342232</td> <td>1007.67 </td> <td>0.574366  </td> <td>17.4874</td> <td>C(=O)(C(=O)O)O            </td>\n",
       "        </tr>\n",
       "        <tr>\n",
       "            <td>Dichloroacetic acid          </td> <td>1.26</td> <td>128.942</td> <td>2.90347   </td> <td>275.151 </td> <td>0.580264  </td> <td>16.7485</td> <td>C(C(=O)O)(Cl)Cl           </td>\n",
       "        </tr>\n",
       "        <tr>\n",
       "            <td>Taurine                      </td> <td>1.5 </td> <td>125.147</td> <td>6.39572   </td> <td>186.612 </td> <td>0.596121  </td> <td>18.2263</td> <td>C(CS(=O)(=O)O)N           </td>\n",
       "        </tr>\n",
       "    </tbody>\n",
       "</table>\n",
       "<p>... (590 rows omitted)</p>"
      ],
      "text/plain": [
       "Name                          | pKa  | Weight  | ∆H         | ∆G_solv  | Bond Order | SASA    | smiles\n",
       "Urea                          | 0.1  | 60.0553 | -0.937119  | 1.6292   | 0.700332   | 11.0835 | C(=O)(N)N\n",
       "Trifluoroacetic acid          | 0.52 | 113.993 | -0.436375  | 261.351  | 0.584903   | 17.7337 | C(=O)(C(F)(F)F)O\n",
       "Acetamide                     | 0.63 | 59.0672 | 4.39584    | -0.35622 | 0.71341    | 10.8372 | CC(=O)N\n",
       "Trichloroacetic acid          | 0.66 | 161.904 | -0.154962  | 268.307  | 0.582954   | 17.98   | C(=O)(C(Cl)(Cl)Cl)O\n",
       "b'pyridine-2-carboxylic acid' | 0.99 | 123.032 | 1.61549    | 304.7    | 0.593253   | 16.5022 | c1ccnc(c1)C(=O)O\n",
       "Cyanamide                     | 1.03 | 42.04   | 1.9216     | -3.67624 | 0.70291    | 11.0835 | C(#N)N\n",
       "Phenylalanine                 | 1.24 | 165.189 | -2.50791   | 178.973  | 0.579891   | 13.7928 | c1ccc(cc1)C[C@@H](C(=O)O)N\n",
       "Ethanedioic acid              | 1.25 | 89.9953 | -0.0342232 | 1007.67  | 0.574366   | 17.4874 | C(=O)(C(=O)O)O\n",
       "Dichloroacetic acid           | 1.26 | 128.942 | 2.90347    | 275.151  | 0.580264   | 16.7485 | C(C(=O)O)(Cl)Cl\n",
       "Taurine                       | 1.5  | 125.147 | 6.39572    | 186.612  | 0.596121   | 18.2263 | C(CS(=O)(=O)O)N\n",
       "... (590 rows omitted)"
      ]
     },
     "execution_count": 19,
     "metadata": {},
     "output_type": "execute_result"
    }
   ],
   "source": [
    "molecules = Table().read_table('data/pKa_small.csv')\n",
    "molecules"
   ]
  },
  {
   "cell_type": "code",
   "execution_count": 20,
   "metadata": {
    "tags": []
   },
   "outputs": [
    {
     "data": {
      "text/html": [
       "<table border=\"1\" class=\"dataframe\">\n",
       "    <thead>\n",
       "        <tr>\n",
       "            <th>Name</th> <th>pKa</th> <th>Weight</th> <th>∆H</th> <th>∆G_solv</th> <th>Bond Order</th> <th>SASA</th> <th>Charge_0p</th> <th>Charge_0d</th> <th>Charge_1p</th> <th>Charge_1d</th> <th>Charge_2p</th> <th>Charge_2d</th> <th>smiles</th>\n",
       "        </tr>\n",
       "    </thead>\n",
       "    <tbody>\n",
       "        <tr>\n",
       "            <td>methyclothiazide                  </td> <td>9.4  </td> <td>360.22 </td> <td>-0.793388 </td> <td>3.25631  </td> <td>0.714946  </td> <td>9.85203</td> <td>-0.79657 </td> <td>-0.55694 </td> <td>0.4028   </td> <td>0.33077  </td> <td>-0.447656</td> <td>-0.405384</td> <td>C[N@]1[C@@H](Nc2cc(c(cc2S1(=O)=O)S(=O)(=O)N)Cl)CCl        </td>\n",
       "        </tr>\n",
       "        <tr>\n",
       "            <td>sulpiride                         </td> <td>10.21</td> <td>341.4  </td> <td>3.15162   </td> <td>204.827  </td> <td>0.692298  </td> <td>9.85203</td> <td>-0.53903 </td> <td>-0.59248 </td> <td>0.37645  </td> <td>0.329985 </td> <td>-0.291253</td> <td>-0.324665</td> <td>CC[N@]1CCC[C@H]1CNC(=O)c2cc(ccc2OC)S(=O)(=O)N             </td>\n",
       "        </tr>\n",
       "        <tr>\n",
       "            <td>celecoxib                         </td> <td>11.1 </td> <td>381.4  </td> <td>0.218695  </td> <td>-13.7434 </td> <td>0.689078  </td> <td>11.8224</td> <td>-1.02861 </td> <td>-1.31288 </td> <td>1.52561  </td> <td>1.65715  </td> <td>-0.558303</td> <td>-0.574737</td> <td>Cc1ccc(cc1)c2cc(nn2c3ccc(cc3)S(=O)(=O)N)C(F)(F)F          </td>\n",
       "        </tr>\n",
       "        <tr>\n",
       "            <td>metolazone                        </td> <td>9.7  </td> <td>365.8  </td> <td>0.808265  </td> <td>3.84956  </td> <td>0.713289  </td> <td>10.8372</td> <td>-0.74198 </td> <td>-0.55041 </td> <td>0.316865 </td> <td>0.292335 </td> <td>-0.35474 </td> <td>-0.335038</td> <td>Cc1ccccc1N2[C@@H](Nc3cc(c(cc3C2=O)S(=O)(=O)N)Cl)C         </td>\n",
       "        </tr>\n",
       "        <tr>\n",
       "            <td>polythiazide                      </td> <td>9.1  </td> <td>439.9  </td> <td>0.230973  </td> <td>-13.9876 </td> <td>0.726989  </td> <td>11.3298</td> <td>-0.79841 </td> <td>-0.56617 </td> <td>0.41241  </td> <td>0.343865 </td> <td>-0.458234</td> <td>-0.419302</td> <td>C[N@]1[C@@H](Nc2cc(c(cc2S1(=O)=O)S(=O)(=O)N)Cl)CSCC(F)(F)F</td>\n",
       "        </tr>\n",
       "        <tr>\n",
       "            <td>chlorothiazide                    </td> <td>9.7  </td> <td>295.7  </td> <td>0.579328  </td> <td>-1.71789 </td> <td>0.712126  </td> <td>11.8224</td> <td>-1.02778 </td> <td>-1.30472 </td> <td>1.52726  </td> <td>1.65218  </td> <td>-0.56465 </td> <td>-0.567103</td> <td>c1c2c(cc(c1Cl)S(=O)(=O)N)S(=O)(=O)N=CN2                   </td>\n",
       "        </tr>\n",
       "        <tr>\n",
       "            <td>piretanide                        </td> <td>10.22</td> <td>362.4  </td> <td>0.754268  </td> <td>261.174  </td> <td>0.571441  </td> <td>16.0096</td> <td>-0.61068 </td> <td>-0.81677 </td> <td>0.64968  </td> <td>0.9106   </td> <td>-0.329685</td> <td>-0.475595</td> <td>c1ccc(cc1)Oc2c(cc(cc2S(=O)(=O)N)C(=O)O)N3CCCC3            </td>\n",
       "        </tr>\n",
       "        <tr>\n",
       "            <td>(S)-Mandelic acid                 </td> <td>3.41 </td> <td>152.147</td> <td>3.34692   </td> <td>274.62   </td> <td>0.585943  </td> <td>17.2411</td> <td>-0.59407 </td> <td>-0.61795 </td> <td>0.59876  </td> <td>0.54425  </td> <td>-0.19217 </td> <td>-0.111705</td> <td>c1ccc(cc1)[C@@H](C(=O)O)O                                 </td>\n",
       "        </tr>\n",
       "        <tr>\n",
       "            <td>1-Aminocyclopropanecarboxylic Acid</td> <td>2.73 </td> <td>101.104</td> <td>2.13586   </td> <td>174.321  </td> <td>0.584528  </td> <td>16.0096</td> <td>-0.60268 </td> <td>-0.63138 </td> <td>0.67847  </td> <td>0.69763  </td> <td>-0.230505</td> <td>-0.166475</td> <td>C1CC1(C(=O)O)N                                            </td>\n",
       "        </tr>\n",
       "        <tr>\n",
       "            <td>1-Methylimidazole                 </td> <td>6.95 </td> <td>83.1118</td> <td>-0.0497005</td> <td>-0.763702</td> <td>0.712302  </td> <td>12.315 </td> <td>-0.13447 </td> <td>-0.6681  </td> <td>-0.0652  </td> <td>0.339775 </td> <td>-0.08754 </td> <td>-0.379837</td> <td>Cn1cc[nH+]c1                                              </td>\n",
       "        </tr>\n",
       "    </tbody>\n",
       "</table>\n",
       "<p>... (590 rows omitted)</p>"
      ],
      "text/plain": [
       "Name                               | pKa   | Weight  | ∆H         | ∆G_solv   | Bond Order | SASA    | Charge_0p | Charge_0d | Charge_1p | Charge_1d | Charge_2p | Charge_2d | smiles\n",
       "methyclothiazide                   | 9.4   | 360.22  | -0.793388  | 3.25631   | 0.714946   | 9.85203 | -0.79657  | -0.55694  | 0.4028    | 0.33077   | -0.447656 | -0.405384 | C[N@]1[C@@H](Nc2cc(c(cc2S1(=O)=O)S(=O)(=O)N)Cl)CCl\n",
       "sulpiride                          | 10.21 | 341.4   | 3.15162    | 204.827   | 0.692298   | 9.85203 | -0.53903  | -0.59248  | 0.37645   | 0.329985  | -0.291253 | -0.324665 | CC[N@]1CCC[C@H]1CNC(=O)c2cc(ccc2OC)S(=O)(=O)N\n",
       "celecoxib                          | 11.1  | 381.4   | 0.218695   | -13.7434  | 0.689078   | 11.8224 | -1.02861  | -1.31288  | 1.52561   | 1.65715   | -0.558303 | -0.574737 | Cc1ccc(cc1)c2cc(nn2c3ccc(cc3)S(=O)(=O)N)C(F)(F)F\n",
       "metolazone                         | 9.7   | 365.8   | 0.808265   | 3.84956   | 0.713289   | 10.8372 | -0.74198  | -0.55041  | 0.316865  | 0.292335  | -0.35474  | -0.335038 | Cc1ccccc1N2[C@@H](Nc3cc(c(cc3C2=O)S(=O)(=O)N)Cl)C\n",
       "polythiazide                       | 9.1   | 439.9   | 0.230973   | -13.9876  | 0.726989   | 11.3298 | -0.79841  | -0.56617  | 0.41241   | 0.343865  | -0.458234 | -0.419302 | C[N@]1[C@@H](Nc2cc(c(cc2S1(=O)=O)S(=O)(=O)N)Cl)CSCC(F)(F)F\n",
       "chlorothiazide                     | 9.7   | 295.7   | 0.579328   | -1.71789  | 0.712126   | 11.8224 | -1.02778  | -1.30472  | 1.52726   | 1.65218   | -0.56465  | -0.567103 | c1c2c(cc(c1Cl)S(=O)(=O)N)S(=O)(=O)N=CN2\n",
       "piretanide                         | 10.22 | 362.4   | 0.754268   | 261.174   | 0.571441   | 16.0096 | -0.61068  | -0.81677  | 0.64968   | 0.9106    | -0.329685 | -0.475595 | c1ccc(cc1)Oc2c(cc(cc2S(=O)(=O)N)C(=O)O)N3CCCC3\n",
       "(S)-Mandelic acid                  | 3.41  | 152.147 | 3.34692    | 274.62    | 0.585943   | 17.2411 | -0.59407  | -0.61795  | 0.59876   | 0.54425   | -0.19217  | -0.111705 | c1ccc(cc1)[C@@H](C(=O)O)O\n",
       "1-Aminocyclopropanecarboxylic Acid | 2.73  | 101.104 | 2.13586    | 174.321   | 0.584528   | 16.0096 | -0.60268  | -0.63138  | 0.67847   | 0.69763   | -0.230505 | -0.166475 | C1CC1(C(=O)O)N\n",
       "1-Methylimidazole                  | 6.95  | 83.1118 | -0.0497005 | -0.763702 | 0.712302   | 12.315  | -0.13447  | -0.6681   | -0.0652   | 0.339775  | -0.08754  | -0.379837 | Cn1cc[nH+]c1\n",
       "... (590 rows omitted)"
      ]
     },
     "execution_count": 20,
     "metadata": {},
     "output_type": "execute_result"
    }
   ],
   "source": [
    "molecules = Table().read_table('pKa_med.csv')\n",
    "molecules"
   ]
  },
  {
   "cell_type": "markdown",
   "metadata": {},
   "source": [
    "#### <font color=blue> **Question 11.** </font>Select an amino acid \n",
    " Use the Table above to view data for an amino acid of your selection from the 21 amino acids which are building blocks of proteins. Note: not all amino acids are in the data set, try another if missing. See [web page](https://i.pinimg.com/originals/a2/fd/dd/a2fddd4ad8b9067bfeb0d6f51cf28e71.jpg) for possible choices. Hint: use are.containing within the .where() Table method. For example below we can find compounds which contain a methyl group (CH$_3$). We get 55 rows (records)."
   ]
  },
  {
   "cell_type": "code",
   "execution_count": null,
   "metadata": {
    "tags": []
   },
   "outputs": [],
   "source": [
    "methyl = molecules.where(\"Name\",are.containing(\"methyl\"))\n",
    "methyl"
   ]
  },
  {
   "cell_type": "code",
   "execution_count": null,
   "metadata": {
    "tags": []
   },
   "outputs": [],
   "source": [
    "amino = molecules.where(\"Name\",are.containing(\"...\"))\n",
    "amino"
   ]
  },
  {
   "cell_type": "code",
   "execution_count": null,
   "metadata": {
    "tags": []
   },
   "outputs": [],
   "source": [
    "check('tests/q11.py')"
   ]
  },
  {
   "cell_type": "markdown",
   "metadata": {},
   "source": [
    "### pKa data examination\n",
    "Now we will look at a data set derived from the above data but with computed molecular attributes for our machine learning. This data set is computed and described by  [Prof. Vince Voelz](http://www.voelzlab.org) in the Temple Chemistry department and a graduate student, Robert Raddi. See their paper: [Stacking Gaussian processes to improve pKa predictions in the SAMPL7 challenge](https://link.springer.com/epdf/10.1007/s10822-021-00411-8?sharing_token=yLV8dMXdxg40M_Ds_2Rhsfe4RwlQNchNByi7wbcMAY6fCl3bMLQiAhJzS2zZw-SwUkz490heLLZu1bPJ8T5LHXo1WvZkp0AJmWzXo71rszl8UaPxjqtqR-oARfxWGrTiCV0rNXy0C7IVzX6yoMYTPv2ZJfnQS-zF1pYvL8ESsUI%3D). Below are the distribution of values of some of th efeatures we will use to predict pKa."
   ]
  },
  {
   "cell_type": "markdown",
   "metadata": {},
   "source": [
    "### Histogram of pKa, molecular weight (g/mol), and ∆H."
   ]
  },
  {
   "cell_type": "code",
   "execution_count": null,
   "metadata": {
    "tags": []
   },
   "outputs": [],
   "source": [
    "molecules.hist('pKa',bins=25, edgecolor=\"black\", linewidth=1.2)\n",
    "molecules.hist('Weight',bins=25, edgecolor=\"black\", linewidth=1.2)\n",
    "molecules.hist('∆H',bins=25, edgecolor=\"black\", linewidth=1.2)"
   ]
  },
  {
   "cell_type": "markdown",
   "metadata": {},
   "source": [
    "### <font color='purple'>Display molecular structure</font>\n",
    "[SMILES](https://en.wikipedia.org/wiki/Simplified_molecular-input_line-entry_system) is a shorthand language to describe molecular structure. Execute the code to display glycine the simplest amino acid below."
   ]
  },
  {
   "cell_type": "code",
   "execution_count": null,
   "metadata": {
    "tags": []
   },
   "outputs": [],
   "source": [
    "smiles3D(\"[NH2+]CC(O)=O\") # Glycine an amino acid"
   ]
  },
  {
   "cell_type": "markdown",
   "metadata": {},
   "source": [
    "### <font color='purple'>Sample molecules in our data set</font>\n",
    "Take them for a spin by clicking and dragging on them."
   ]
  },
  {
   "cell_type": "code",
   "execution_count": null,
   "metadata": {
    "tags": []
   },
   "outputs": [],
   "source": [
    "for rowid in np.random.choice(np.arange(molecules.num_rows),3):\n",
    "    print(molecules['Name'][rowid],' pKa: ',molecules['pKa'][rowid], ' Molecular Weight (g/mol): ',molecules['Weight'][rowid])\n",
    "    smiles3D(molecules['smiles'][rowid])"
   ]
  },
  {
   "cell_type": "markdown",
   "metadata": {},
   "source": [
    "### <font color='purple'>Pharmaceuticals in our data set</font>\n",
    "Below is a sampling of the many pharmaceuticals in our data set with 2D views."
   ]
  },
  {
   "cell_type": "code",
   "execution_count": null,
   "metadata": {
    "tags": []
   },
   "outputs": [],
   "source": [
    "celecoxib = Chem.MolFromSmiles(molecules.where('Name','celecoxib')['smiles'][0])\n",
    "celecoxib.SetProp('Name',molecules.where('Name','celecoxib')['Name'][0]+' (NSAID) pKa: '+str(molecules.where('Name','celecoxib')['pKa'][0]))\n",
    "sertraline = Chem.MolFromSmiles(molecules.where('Name','Sertraline')['smiles'][0])\n",
    "sertraline.SetProp('Name',molecules.where('Name','Sertraline')['Name'][0]+' (anti-depressant, SSRI) pKa: '+str(molecules.where('Name','Sertraline')['pKa'][0]))\n",
    "losartin = Chem.MolFromSmiles(molecules.where('Name','Losartan')['smiles'][0])\n",
    "losartin.SetProp('Name',molecules.where('Name','Losartan')['Name'][0]+' (hypertension,  angiotensin II receptor blocker) pKa: '+str(molecules.where('Name','Losartan')['pKa'][0]))\n",
    "'Losartan'\n",
    "Draw.MolsToGridImage(\n",
    "    [celecoxib, sertraline, losartin],\n",
    "    legends=[celecoxib.GetProp(\"Name\"),sertraline.GetProp(\"Name\"), losartin.GetProp(\"Name\")],\n",
    "    molsPerRow=3,\n",
    "    subImgSize=(420, 250),\n",
    "    useSVG=True,)"
   ]
  },
  {
   "cell_type": "markdown",
   "metadata": {},
   "source": [
    "### <font color='purple'>Display molecular structure from dataset\n",
    "[SMILES](https://en.wikipedia.org/wiki/Simplified_molecular-input_line-entry_system) is a shorthand language to describe molecular structure."
   ]
  },
  {
   "cell_type": "markdown",
   "metadata": {},
   "source": [
    "##### Example from smiles string from molecules Table"
   ]
  },
  {
   "cell_type": "code",
   "execution_count": null,
   "metadata": {
    "tags": []
   },
   "outputs": [],
   "source": [
    "print(molecules['Name'][12],'smiles string: ', molecules['smiles'][12])"
   ]
  },
  {
   "cell_type": "markdown",
   "metadata": {},
   "source": [
    "Try your own... 2D and 3D structures using `smiles3D`"
   ]
  },
  {
   "cell_type": "code",
   "execution_count": null,
   "metadata": {
    "tags": []
   },
   "outputs": [],
   "source": [
    "smiles3D(\"[NH2+]CC(O)=O\") # Example Glycine an amino acid"
   ]
  },
  {
   "cell_type": "code",
   "execution_count": null,
   "metadata": {
    "tags": []
   },
   "outputs": [],
   "source": [
    "smiles3D(\"...\")"
   ]
  },
  {
   "cell_type": "markdown",
   "metadata": {},
   "source": [
    "#### Selected amino acid 2D molecular structure\n",
    "Try it out for fun! Use the same above syntax and the SMILES string from your above Table to display a 2D amino acid structure from your selection. Even if there is no rdkit, try your hand at the SMILES molecular description. The 21 basic amino acid protein building blocks are given in a [helpful table](https://www.aatbio.com/data-sets/amino-acid-reference-chart-table) along with their smiles string to use below."
   ]
  },
  {
   "cell_type": "code",
   "execution_count": null,
   "metadata": {},
   "outputs": [],
   "source": [
    "print(\"My chosen amino acid is:\",...)\n",
    "smile_struct = '...'\n",
    "\n",
    "Chem.MolFromSmiles(smile_struct)"
   ]
  },
  {
   "cell_type": "code",
   "execution_count": null,
   "metadata": {},
   "outputs": [],
   "source": [
    "smiles3D(...)"
   ]
  },
  {
   "cell_type": "markdown",
   "metadata": {},
   "source": [
    "### **<font color='#9E1B34' size=\"3\">Now time for our Nearest Neighbor prediction of molecular acidity as measured by pKa**\n",
    "For machine learning we will use the 5 features available in the molecules Table after dropping the smiles molecular structures string."
   ]
  },
  {
   "cell_type": "markdown",
   "metadata": {},
   "source": [
    "#### Selection of attributes/features for training and prediction\n",
    "We need to select the features that we will use in the training. These will include the molecular weight (g/mol), Change in Enthalpy (kJ/mol) (prot-deprot), ∆G_solv (kJ/mol) (prot-deprot), the bond order to the atom for which the acidic proton is bound, and the solvent accessible surface area (SASA). We also keep the labels and smiles string as well as the pKa we will train on. In a second round we will add features corresponding to partial charges on nearby atoms."
   ]
  },
  {
   "cell_type": "markdown",
   "metadata": {},
   "source": [
    "### Standardize, train, test split\n",
    "#### <font color=blue> **Question 12.** </font>\n",
    "First we need to convert all numerical values to standard units. This is because different features have differing magnitudes leading to deviations in computed Euclidean distances. You will split the molecular Table into train and test data using 80% for training and remembering that the split must be an integer using int() function. Again we will select certain rowsas attributes."
   ]
  },
  {
   "cell_type": "code",
   "execution_count": 57,
   "metadata": {
    "tags": []
   },
   "outputs": [],
   "source": [
    "target = ['pKa']\n",
    "features = ['Weight','∆H','∆G_solv','Bond Order','SASA']"
   ]
  },
  {
   "cell_type": "code",
   "execution_count": 67,
   "metadata": {
    "tags": []
   },
   "outputs": [],
   "source": [
    "target = ['pKa']\n",
    "features = ['Weight','∆H','∆G_solv','Bond Order','SASA','Charge_0p','Charge_0d','Charge_1p','Charge_1d','Charge_2p','Charge_2d'\t]"
   ]
  },
  {
   "cell_type": "code",
   "execution_count": 68,
   "metadata": {},
   "outputs": [
    {
     "data": {
      "text/plain": [
       "['Weight',\n",
       " '∆H',\n",
       " '∆G_solv',\n",
       " 'Bond Order',\n",
       " 'SASA',\n",
       " 'Charge_0p',\n",
       " 'Charge_0d',\n",
       " 'Charge_1p',\n",
       " 'Charge_1d',\n",
       " 'Charge_2p',\n",
       " 'Charge_2d']"
      ]
     },
     "execution_count": 68,
     "metadata": {},
     "output_type": "execute_result"
    }
   ],
   "source": [
    "features"
   ]
  },
  {
   "cell_type": "code",
   "execution_count": 22,
   "metadata": {
    "tags": []
   },
   "outputs": [],
   "source": [
    "pKa_s = molecules.select('Name','pKa','smiles')"
   ]
  },
  {
   "cell_type": "markdown",
   "metadata": {},
   "source": [
    "Standardize using standard z-values"
   ]
  },
  {
   "cell_type": "code",
   "execution_count": 58,
   "metadata": {
    "tags": []
   },
   "outputs": [],
   "source": [
    "def standard_units(any_array):\n",
    "    \"Convert any array of numbers to standard units.\"\n",
    "    return (any_array - np.mean(any_array))/np.std(any_array)  "
   ]
  },
  {
   "cell_type": "code",
   "execution_count": 59,
   "metadata": {
    "tags": []
   },
   "outputs": [
    {
     "name": "stdout",
     "output_type": "stream",
     "text": [
      "Standardizing:  Weight\n",
      "Standardizing:  ∆H\n",
      "Standardizing:  ∆G_solv\n",
      "Standardizing:  Bond Order\n",
      "Standardizing:  SASA\n"
     ]
    },
    {
     "data": {
      "text/html": [
       "<table border=\"1\" class=\"dataframe\">\n",
       "    <thead>\n",
       "        <tr>\n",
       "            <th>Name</th> <th>pKa</th> <th>smiles</th> <th>Weight</th> <th>∆H</th> <th>∆G_solv</th> <th>Bond Order</th> <th>SASA</th> <th>Charge_0p</th> <th>Charge_0d</th> <th>Charge_1p</th> <th>Charge_1d</th> <th>Charge_2p</th> <th>Charge_2d</th>\n",
       "        </tr>\n",
       "    </thead>\n",
       "    <tbody>\n",
       "        <tr>\n",
       "            <td>methyclothiazide                  </td> <td>9.4  </td> <td>C[N@]1[C@@H](Nc2cc(c(cc2S1(=O)=O)S(=O)(=O)N)Cl)CCl        </td> <td>0.909223 </td> <td>-0.790605</td> <td>-0.977882</td> <td>0.893827  </td> <td>-1.04828 </td> <td>-0.651943</td> <td>1.0903   </td> <td>-0.142605</td> <td>-0.746777</td> <td>-0.871118</td> <td>-0.278617</td>\n",
       "        </tr>\n",
       "        <tr>\n",
       "            <td>sulpiride                         </td> <td>10.21</td> <td>CC[N@]1CCC[C@H]1CNC(=O)c2cc(ccc2OC)S(=O)(=O)N             </td> <td>0.749522 </td> <td>0.369849 </td> <td>0.0142253</td> <td>0.530588  </td> <td>-1.04828 </td> <td>0.810872 </td> <td>0.919765 </td> <td>-0.216027</td> <td>-0.748985</td> <td>-0.104524</td> <td>0.104643 </td>\n",
       "        </tr>\n",
       "        <tr>\n",
       "            <td>celecoxib                         </td> <td>11.1 </td> <td>Cc1ccc(cc1)c2cc(nn2c3ccc(cc3)S(=O)(=O)N)C(F)(F)F          </td> <td>1.08895  </td> <td>-0.492894</td> <td>-1.06155 </td> <td>0.478943  </td> <td>-0.433151</td> <td>-1.96992 </td> <td>-2.53702 </td> <td>2.986    </td> <td>2.98446  </td> <td>-1.41344 </td> <td>-1.08272 </td>\n",
       "        </tr>\n",
       "        <tr>\n",
       "            <td>metolazone                        </td> <td>9.7  </td> <td>Cc1ccccc1N2[C@@H](Nc3cc(c(cc3C2=O)S(=O)(=O)N)Cl)C         </td> <td>0.956574 </td> <td>-0.319467</td> <td>-0.974962</td> <td>0.867245  </td> <td>-0.740714</td> <td>-0.341875</td> <td>1.12163  </td> <td>-0.382055</td> <td>-0.854899</td> <td>-0.415701</td> <td>0.0553916</td>\n",
       "        </tr>\n",
       "        <tr>\n",
       "            <td>polythiazide                      </td> <td>9.1  </td> <td>C[N@]1[C@@H](Nc2cc(c(cc2S1(=O)=O)S(=O)(=O)N)Cl)CSCC(F)(F)F</td> <td>1.58537  </td> <td>-0.489282</td> <td>-1.06276 </td> <td>1.08697   </td> <td>-0.586933</td> <td>-0.662395</td> <td>1.04601  </td> <td>-0.115828</td> <td>-0.70994 </td> <td>-0.922964</td> <td>-0.344701</td>\n",
       "        </tr>\n",
       "        <tr>\n",
       "            <td>chlorothiazide                    </td> <td>9.7  </td> <td>c1c2c(cc(c1Cl)S(=O)(=O)N)S(=O)(=O)N=CN2                   </td> <td>0.361724 </td> <td>-0.38681 </td> <td>-1.00236 </td> <td>0.848589  </td> <td>-0.433151</td> <td>-1.96521 </td> <td>-2.49786 </td> <td>2.9906   </td> <td>2.97048  </td> <td>-1.44455 </td> <td>-1.04647 </td>\n",
       "        </tr>\n",
       "        <tr>\n",
       "            <td>piretanide                        </td> <td>10.22</td> <td>c1ccc(cc1)Oc2c(cc(cc2S(=O)(=O)N)C(=O)O)N3CCCC3            </td> <td>0.927722 </td> <td>-0.335351</td> <td>0.291561 </td> <td>-1.40774  </td> <td>0.873991 </td> <td>0.403903 </td> <td>-0.156473</td> <td>0.545304 </td> <td>0.884341 </td> <td>-0.292897</td> <td>-0.611984</td>\n",
       "        </tr>\n",
       "        <tr>\n",
       "            <td>(S)-Mandelic acid                 </td> <td>3.41 </td> <td>c1ccc(cc1)[C@@H](C(=O)O)O                                 </td> <td>-0.856424</td> <td>0.427298 </td> <td>0.357742 </td> <td>-1.17516  </td> <td>1.25844  </td> <td>0.498247 </td> <td>0.797549 </td> <td>0.40342  </td> <td>-0.146237</td> <td>0.381117 </td> <td>1.11579  </td>\n",
       "        </tr>\n",
       "        <tr>\n",
       "            <td>1-Aminocyclopropanecarboxylic Acid</td> <td>2.73 </td> <td>C1CC1(C(=O)O)N                                            </td> <td>-1.28956 </td> <td>0.0710555</td> <td>-0.135918</td> <td>-1.19785  </td> <td>0.873991 </td> <td>0.449343 </td> <td>0.733106 </td> <td>0.625525 </td> <td>0.285235 </td> <td>0.193222 </td> <td>0.855742 </td>\n",
       "        </tr>\n",
       "        <tr>\n",
       "            <td>1-Methylimidazole                 </td> <td>6.95 </td> <td>Cn1cc[nH+]c1                                              </td> <td>-1.44224 </td> <td>-0.571844</td> <td>-0.997668</td> <td>0.851416  </td> <td>-0.27937 </td> <td>3.10875  </td> <td>0.556908 </td> <td>-1.44665 </td> <td>-0.721445</td> <td>0.893948 </td> <td>-0.157316</td>\n",
       "        </tr>\n",
       "    </tbody>\n",
       "</table>\n",
       "<p>... (590 rows omitted)</p>"
      ],
      "text/plain": [
       "Name                               | pKa   | smiles                                                     | Weight    | ∆H        | ∆G_solv   | Bond Order | SASA      | Charge_0p | Charge_0d | Charge_1p | Charge_1d | Charge_2p | Charge_2d\n",
       "methyclothiazide                   | 9.4   | C[N@]1[C@@H](Nc2cc(c(cc2S1(=O)=O)S(=O)(=O)N)Cl)CCl         | 0.909223  | -0.790605 | -0.977882 | 0.893827   | -1.04828  | -0.651943 | 1.0903    | -0.142605 | -0.746777 | -0.871118 | -0.278617\n",
       "sulpiride                          | 10.21 | CC[N@]1CCC[C@H]1CNC(=O)c2cc(ccc2OC)S(=O)(=O)N              | 0.749522  | 0.369849  | 0.0142253 | 0.530588   | -1.04828  | 0.810872  | 0.919765  | -0.216027 | -0.748985 | -0.104524 | 0.104643\n",
       "celecoxib                          | 11.1  | Cc1ccc(cc1)c2cc(nn2c3ccc(cc3)S(=O)(=O)N)C(F)(F)F           | 1.08895   | -0.492894 | -1.06155  | 0.478943   | -0.433151 | -1.96992  | -2.53702  | 2.986     | 2.98446   | -1.41344  | -1.08272\n",
       "metolazone                         | 9.7   | Cc1ccccc1N2[C@@H](Nc3cc(c(cc3C2=O)S(=O)(=O)N)Cl)C          | 0.956574  | -0.319467 | -0.974962 | 0.867245   | -0.740714 | -0.341875 | 1.12163   | -0.382055 | -0.854899 | -0.415701 | 0.0553916\n",
       "polythiazide                       | 9.1   | C[N@]1[C@@H](Nc2cc(c(cc2S1(=O)=O)S(=O)(=O)N)Cl)CSCC(F)(F)F | 1.58537   | -0.489282 | -1.06276  | 1.08697    | -0.586933 | -0.662395 | 1.04601   | -0.115828 | -0.70994  | -0.922964 | -0.344701\n",
       "chlorothiazide                     | 9.7   | c1c2c(cc(c1Cl)S(=O)(=O)N)S(=O)(=O)N=CN2                    | 0.361724  | -0.38681  | -1.00236  | 0.848589   | -0.433151 | -1.96521  | -2.49786  | 2.9906    | 2.97048   | -1.44455  | -1.04647\n",
       "piretanide                         | 10.22 | c1ccc(cc1)Oc2c(cc(cc2S(=O)(=O)N)C(=O)O)N3CCCC3             | 0.927722  | -0.335351 | 0.291561  | -1.40774   | 0.873991  | 0.403903  | -0.156473 | 0.545304  | 0.884341  | -0.292897 | -0.611984\n",
       "(S)-Mandelic acid                  | 3.41  | c1ccc(cc1)[C@@H](C(=O)O)O                                  | -0.856424 | 0.427298  | 0.357742  | -1.17516   | 1.25844   | 0.498247  | 0.797549  | 0.40342   | -0.146237 | 0.381117  | 1.11579\n",
       "1-Aminocyclopropanecarboxylic Acid | 2.73  | C1CC1(C(=O)O)N                                             | -1.28956  | 0.0710555 | -0.135918 | -1.19785   | 0.873991  | 0.449343  | 0.733106  | 0.625525  | 0.285235  | 0.193222  | 0.855742\n",
       "1-Methylimidazole                  | 6.95  | Cn1cc[nH+]c1                                               | -1.44224  | -0.571844 | -0.997668 | 0.851416   | -0.27937  | 3.10875   | 0.556908  | -1.44665  | -0.721445 | 0.893948  | -0.157316\n",
       "... (590 rows omitted)"
      ]
     },
     "execution_count": 59,
     "metadata": {},
     "output_type": "execute_result"
    }
   ],
   "source": [
    "for label in features:\n",
    "    print('Standardizing: ',label)\n",
    "    pKa_s = pKa_s.with_columns(label,standard_units(molecules[label]))\n",
    "pKa_s   "
   ]
  },
  {
   "cell_type": "markdown",
   "metadata": {},
   "source": [
    "Now time to split the data, your turn... remember to use the standardized data in `pKa_s` and an 80% training 20% test split."
   ]
  },
  {
   "cell_type": "code",
   "execution_count": null,
   "metadata": {},
   "outputs": [],
   "source": [
    "train, test = pKa_s.split(...)\n",
    "print(train.num_rows, 'training and', test.num_rows, 'test instances.')\n",
    "\n",
    "train.show(3)"
   ]
  },
  {
   "cell_type": "code",
   "execution_count": 60,
   "metadata": {},
   "outputs": [
    {
     "name": "stdout",
     "output_type": "stream",
     "text": [
      "480 training and 120 test instances.\n"
     ]
    },
    {
     "data": {
      "text/html": [
       "<table border=\"1\" class=\"dataframe\">\n",
       "    <thead>\n",
       "        <tr>\n",
       "            <th>Name</th> <th>pKa</th> <th>smiles</th> <th>Weight</th> <th>∆H</th> <th>∆G_solv</th> <th>Bond Order</th> <th>SASA</th> <th>Charge_0p</th> <th>Charge_0d</th> <th>Charge_1p</th> <th>Charge_1d</th> <th>Charge_2p</th> <th>Charge_2d</th>\n",
       "        </tr>\n",
       "    </thead>\n",
       "    <tbody>\n",
       "        <tr>\n",
       "            <td>nan                </td> <td>6   </td> <td>C=C[C@@H]1[C@H]2[C@@H]3CCC[N@@]3[C@H]([C@H]2C(=O)N1Cc4cc ...</td> <td>1.40137  </td> <td>1.23447 </td> <td>1.77228 </td> <td>0.805157  </td> <td>-1.58651</td> <td>-1.92164 </td> <td>-1.06664 </td> <td>0.677185 </td> <td>0.0356856</td> <td>-1.11422 </td> <td>-0.828853</td>\n",
       "        </tr>\n",
       "        <tr>\n",
       "            <td>4-Bromobenzoic acid</td> <td>3.96</td> <td>c1cc(ccc1C(=O)O)Br                                          </td> <td>-0.450807</td> <td>0.707726</td> <td>0.390626</td> <td>-1.21833  </td> <td>1.02777 </td> <td>0.424294 </td> <td>-0.205992</td> <td>0.545359 </td> <td>0.870359 </td> <td>-0.329216</td> <td>-0.578724</td>\n",
       "        </tr>\n",
       "        <tr>\n",
       "            <td>Indomethacin       </td> <td>4.5 </td> <td>Cc1c(c2cc(ccc2n1C(=O)c3ccc(cc3)Cl)OC)CC(=O)O                </td> <td>0.888586 </td> <td>0.651324</td> <td>0.389785</td> <td>-1.37417  </td> <td>0.489538</td> <td>0.352613 </td> <td>1.0807   </td> <td>0.488628 </td> <td>0.259861 </td> <td>-0.101816</td> <td>0.72809  </td>\n",
       "        </tr>\n",
       "    </tbody>\n",
       "</table>\n",
       "<p>... (477 rows omitted)</p>"
      ],
      "text/plain": [
       "<IPython.core.display.HTML object>"
      ]
     },
     "metadata": {},
     "output_type": "display_data"
    }
   ],
   "source": [
    "train, test = pKa_s.split(int(0.8*pKa_s.num_rows))\n",
    "print(train.num_rows, 'training and', test.num_rows, 'test instances.')\n",
    "\n",
    "train.show(3)"
   ]
  },
  {
   "cell_type": "code",
   "execution_count": null,
   "metadata": {
    "tags": []
   },
   "outputs": [],
   "source": [
    "check('tests/q12.py')"
   ]
  },
  {
   "cell_type": "markdown",
   "metadata": {},
   "source": [
    "### Our k nearest neighbors code\n",
    "\n",
    "Remember our the k nearest neighbor code from above which we will again use here.\n",
    "```python\n",
    "def row_distance(row1, row2):\n",
    "    \"\"\"The distance between two rows of a table.\"\"\"\n",
    "    return distance(np.array(row1), np.array(row2)) # Need to convert rows into arrays\n",
    "\n",
    "def distances(training, test, target, features):\n",
    "    \"\"\"Compute the distance from test for each row in training.\"\"\"\n",
    "    dists = []\n",
    "    attributes = training.select(features)\n",
    "    for row in attributes.rows:\n",
    "        dists.append(row_distance(row, test))\n",
    "    return training.with_column('Distance', dists)\n",
    "\n",
    "def closest(training, test, k, target, features):\n",
    "    \"\"\"Return a table of the k closest neighbors to example row from test data.\"\"\"\n",
    "    return distances(training, test, target, features).sort('Distance').take(np.arange(k))\n",
    "```"
   ]
  },
  {
   "cell_type": "markdown",
   "metadata": {},
   "source": [
    "### Test algorithm\n",
    "Execute these cells to define the predict_knn function for pKa, pick a  row, predict and compare."
   ]
  },
  {
   "cell_type": "code",
   "execution_count": 29,
   "metadata": {
    "tags": []
   },
   "outputs": [
    {
     "data": {
      "text/html": [
       "<table border=\"1\" class=\"dataframe\">\n",
       "    <thead>\n",
       "        <tr>\n",
       "            <th>Weight</th> <th>∆H</th> <th>∆G_solv</th> <th>Bond Order</th> <th>SASA</th> <th>Charge_0p</th> <th>Charge_0d</th> <th>Charge_1p</th> <th>Charge_1d</th> <th>Charge_2p</th> <th>Charge_2d</th>\n",
       "        </tr>\n",
       "    </thead>\n",
       "    <tbody>\n",
       "        <tr>\n",
       "            <td>1.60456</td> <td>-0.0909181</td> <td>-0.106931</td> <td>0.766277  </td> <td>-1.27895</td> <td>-1.92045 </td> <td>-1.05939 </td> <td>0.678132 </td> <td>0.037261 </td> <td>-1.08871 </td> <td>-0.797302</td>\n",
       "        </tr>\n",
       "    </tbody>\n",
       "</table>"
      ],
      "text/plain": [
       "Weight  | ∆H         | ∆G_solv   | Bond Order | SASA     | Charge_0p | Charge_0d | Charge_1p | Charge_1d | Charge_2p | Charge_2d\n",
       "1.60456 | -0.0909181 | -0.106931 | 0.766277   | -1.27895 | -1.92045  | -1.05939  | 0.678132  | 0.037261  | -1.08871  | -0.797302"
      ]
     },
     "execution_count": 29,
     "metadata": {},
     "output_type": "execute_result"
    }
   ],
   "source": [
    "test.select(features).take(5)"
   ]
  },
  {
   "cell_type": "code",
   "execution_count": 33,
   "metadata": {
    "tags": []
   },
   "outputs": [
    {
     "data": {
      "text/html": [
       "<table border=\"1\" class=\"dataframe\">\n",
       "    <thead>\n",
       "        <tr>\n",
       "            <th>pKa</th>\n",
       "        </tr>\n",
       "    </thead>\n",
       "    <tbody>\n",
       "        <tr>\n",
       "            <td>2   </td>\n",
       "        </tr>\n",
       "    </tbody>\n",
       "</table>"
      ],
      "text/plain": [
       "pKa\n",
       "2"
      ]
     },
     "execution_count": 33,
     "metadata": {},
     "output_type": "execute_result"
    }
   ],
   "source": [
    "test.select(target).take(5)"
   ]
  },
  {
   "cell_type": "code",
   "execution_count": 35,
   "metadata": {
    "tags": []
   },
   "outputs": [],
   "source": [
    "k = 12 # Choose a k value"
   ]
  },
  {
   "cell_type": "markdown",
   "metadata": {},
   "source": [
    "Look at the closest k rows to row 6 (`.take(5)` above)"
   ]
  },
  {
   "cell_type": "code",
   "execution_count": 36,
   "metadata": {
    "tags": []
   },
   "outputs": [
    {
     "data": {
      "text/html": [
       "<table border=\"1\" class=\"dataframe\">\n",
       "    <thead>\n",
       "        <tr>\n",
       "            <th>Name</th> <th>pKa</th> <th>smiles</th> <th>Weight</th> <th>∆H</th> <th>∆G_solv</th> <th>Bond Order</th> <th>SASA</th> <th>Charge_0p</th> <th>Charge_0d</th> <th>Charge_1p</th> <th>Charge_1d</th> <th>Charge_2p</th> <th>Charge_2d</th> <th>Distance</th>\n",
       "        </tr>\n",
       "    </thead>\n",
       "    <tbody>\n",
       "        <tr>\n",
       "            <td>nan </td> <td>2   </td> <td>c1cc(ccc1CN2C(=O)[C@@H]3[C@@H]([N@@]4CCC([C@@H]4[C@@H]3C ...</td> <td>1.60456</td> <td>-0.529738</td> <td>-0.108156</td> <td>0.729521  </td> <td>-1.35584</td> <td>-1.89835 </td> <td>-1.05723 </td> <td>0.666986 </td> <td>0.0320004</td> <td>-1.08592 </td> <td>-0.798584</td> <td>0.447752</td>\n",
       "        </tr>\n",
       "        <tr>\n",
       "            <td>nan </td> <td>6.2 </td> <td>CCC[C@@H]1[C@H]2[C@@H]3CCC[N@@]3[C@H]([C@H]2C(=O)N1Cc4cc ...</td> <td>1.53741</td> <td>0.0242444</td> <td>1.74809  </td> <td>0.664485  </td> <td>-1.27895</td> <td>-1.72233 </td> <td>-1.06476 </td> <td>0.620258 </td> <td>0.0379643</td> <td>-1.08839 </td> <td>-0.824959</td> <td>1.8742  </td>\n",
       "        </tr>\n",
       "        <tr>\n",
       "            <td>nan </td> <td>3.7 </td> <td>CO[C@H]1C[C@@H]2[C@H]3[C@@H]([C@@H]([N@]2C1)c4ccc(cc4)C( ...</td> <td>1.55389</td> <td>-0.428393</td> <td>1.73554  </td> <td>0.790625  </td> <td>-1.58651</td> <td>-1.92278 </td> <td>-1.0569  </td> <td>0.676098 </td> <td>0.0292437</td> <td>-1.09545 </td> <td>-0.806656</td> <td>1.89909 </td>\n",
       "        </tr>\n",
       "        <tr>\n",
       "            <td>nan </td> <td>4.2 </td> <td>CO[C@H]1CC[N@]2[C@H]1[C@H]3[C@@H]([C@@H]2c4ccc(cc4)C(=N) ...</td> <td>1.55389</td> <td>-0.307553</td> <td>1.79012  </td> <td>0.645987  </td> <td>-1.35584</td> <td>-1.92528 </td> <td>-1.06318 </td> <td>0.676544 </td> <td>0.0379361</td> <td>-1.09859 </td> <td>-0.810383</td> <td>1.91547 </td>\n",
       "        </tr>\n",
       "        <tr>\n",
       "            <td>nan </td> <td>6.2 </td> <td>C=CC[C@@H]1[C@H]2[C@@H]3CCC[N@@]3[C@H]([C@H]2C(=O)N1Cc4c ...</td> <td>1.5203 </td> <td>-0.211814</td> <td>1.74116  </td> <td>0.715614  </td> <td>-1.58651</td> <td>-1.55318 </td> <td>-1.06851 </td> <td>0.57314  </td> <td>0.0370922</td> <td>-1.06097 </td> <td>-0.826384</td> <td>1.91883 </td>\n",
       "        </tr>\n",
       "        <tr>\n",
       "            <td>nan </td> <td>3.7 </td> <td>CO[C@@H]1CC[N@]2[C@H]1[C@H]3[C@@H]([C@@H]2c4ccc(cc4)C(=N ...</td> <td>1.55389</td> <td>-0.358954</td> <td>1.76309  </td> <td>0.845923  </td> <td>-1.20206</td> <td>-1.5337  </td> <td>-1.0568  </td> <td>0.559487 </td> <td>0.0314379</td> <td>-1.03803 </td> <td>-0.803949</td> <td>1.93648 </td>\n",
       "        </tr>\n",
       "        <tr>\n",
       "            <td>nan </td> <td>3.6 </td> <td>CO[C@@H]1C[C@@H]2[C@H]3[C@@H]([C@@H]([N@]2C1)c4ccc(cc4)C ...</td> <td>1.55389</td> <td>0.0847963</td> <td>1.80962  </td> <td>0.822973  </td> <td>-1.27895</td> <td>-1.59766 </td> <td>-1.06496 </td> <td>0.576595 </td> <td>0.0352355</td> <td>-1.04364 </td> <td>-0.8077  </td> <td>1.95615 </td>\n",
       "        </tr>\n",
       "    </tbody>\n",
       "</table>"
      ],
      "text/plain": [
       "Name | pKa  | smiles                                                       | Weight  | ∆H        | ∆G_solv   | Bond Order | SASA     | Charge_0p | Charge_0d | Charge_1p | Charge_1d | Charge_2p | Charge_2d | Distance\n",
       "nan  | 2    | c1cc(ccc1CN2C(=O)[C@@H]3[C@@H]([N@@]4CCC([C@@H]4[C@@H]3C ... | 1.60456 | -0.529738 | -0.108156 | 0.729521   | -1.35584 | -1.89835  | -1.05723  | 0.666986  | 0.0320004 | -1.08592  | -0.798584 | 0.447752\n",
       "nan  | 6.2  | CCC[C@@H]1[C@H]2[C@@H]3CCC[N@@]3[C@H]([C@H]2C(=O)N1Cc4cc ... | 1.53741 | 0.0242444 | 1.74809   | 0.664485   | -1.27895 | -1.72233  | -1.06476  | 0.620258  | 0.0379643 | -1.08839  | -0.824959 | 1.8742\n",
       "nan  | 3.7  | CO[C@H]1C[C@@H]2[C@H]3[C@@H]([C@@H]([N@]2C1)c4ccc(cc4)C( ... | 1.55389 | -0.428393 | 1.73554   | 0.790625   | -1.58651 | -1.92278  | -1.0569   | 0.676098  | 0.0292437 | -1.09545  | -0.806656 | 1.89909\n",
       "nan  | 4.2  | CO[C@H]1CC[N@]2[C@H]1[C@H]3[C@@H]([C@@H]2c4ccc(cc4)C(=N) ... | 1.55389 | -0.307553 | 1.79012   | 0.645987   | -1.35584 | -1.92528  | -1.06318  | 0.676544  | 0.0379361 | -1.09859  | -0.810383 | 1.91547\n",
       "nan  | 6.2  | C=CC[C@@H]1[C@H]2[C@@H]3CCC[N@@]3[C@H]([C@H]2C(=O)N1Cc4c ... | 1.5203  | -0.211814 | 1.74116   | 0.715614   | -1.58651 | -1.55318  | -1.06851  | 0.57314   | 0.0370922 | -1.06097  | -0.826384 | 1.91883\n",
       "nan  | 3.7  | CO[C@@H]1CC[N@]2[C@H]1[C@H]3[C@@H]([C@@H]2c4ccc(cc4)C(=N ... | 1.55389 | -0.358954 | 1.76309   | 0.845923   | -1.20206 | -1.5337   | -1.0568   | 0.559487  | 0.0314379 | -1.03803  | -0.803949 | 1.93648\n",
       "nan  | 3.6  | CO[C@@H]1C[C@@H]2[C@H]3[C@@H]([C@@H]([N@]2C1)c4ccc(cc4)C ... | 1.55389 | 0.0847963 | 1.80962   | 0.822973   | -1.27895 | -1.59766  | -1.06496  | 0.576595  | 0.0352355 | -1.04364  | -0.8077   | 1.95615"
      ]
     },
     "execution_count": 36,
     "metadata": {},
     "output_type": "execute_result"
    }
   ],
   "source": [
    "closest(train, test.select(features).row(5), 7 , target, features)"
   ]
  },
  {
   "cell_type": "markdown",
   "metadata": {},
   "source": [
    "Now look at the column/array of target values from the nearest neighbors in the training data"
   ]
  },
  {
   "cell_type": "code",
   "execution_count": 37,
   "metadata": {
    "tags": []
   },
   "outputs": [
    {
     "data": {
      "text/plain": [
       "array([ 2.  ,  6.2 ,  3.7 ,  4.2 ,  6.2 ,  3.7 ,  3.6 ,  6.5 ,  4.9 ,\n",
       "        3.3 ,  3.74,  6.3 ])"
      ]
     },
     "execution_count": 37,
     "metadata": {},
     "output_type": "execute_result"
    }
   ],
   "source": [
    "closest(train, test.select(features).row(5), k , target, features).column(target[0])"
   ]
  },
  {
   "cell_type": "markdown",
   "metadata": {},
   "source": [
    "Now predict for row=5:"
   ]
  },
  {
   "cell_type": "code",
   "execution_count": 38,
   "metadata": {
    "tags": []
   },
   "outputs": [
    {
     "name": "stdout",
     "output_type": "stream",
     "text": [
      "Predicting target value, pKa, for row = 5 using k=12 with features: ['Weight', '∆H', '∆G_solv', 'Bond Order', 'SASA', 'Charge_0p', 'Charge_0d', 'Charge_1p', 'Charge_1d', 'Charge_2p', 'Charge_2d']\n"
     ]
    },
    {
     "data": {
      "text/plain": [
       "4.5283333333333333"
      ]
     },
     "execution_count": 38,
     "metadata": {},
     "output_type": "execute_result"
    }
   ],
   "source": [
    "predict_knn(5, train, test,k,1)"
   ]
  },
  {
   "cell_type": "markdown",
   "metadata": {},
   "source": [
    "Now examine row 20 in test set to try to predict"
   ]
  },
  {
   "cell_type": "code",
   "execution_count": 39,
   "metadata": {
    "tags": []
   },
   "outputs": [
    {
     "data": {
      "text/html": [
       "<table border=\"1\" class=\"dataframe\">\n",
       "    <thead>\n",
       "        <tr>\n",
       "            <th>pKa</th> <th>Weight</th> <th>∆H</th> <th>∆G_solv</th> <th>Bond Order</th> <th>SASA</th> <th>Charge_0p</th> <th>Charge_0d</th> <th>Charge_1p</th> <th>Charge_1d</th> <th>Charge_2p</th> <th>Charge_2d</th>\n",
       "        </tr>\n",
       "    </thead>\n",
       "    <tbody>\n",
       "        <tr>\n",
       "            <td>11.39</td> <td>2.03195</td> <td>-1.36941</td> <td>-1.07665</td> <td>0.984961  </td> <td>-0.433151</td> <td>0.222713 </td> <td>1.34236  </td> <td>-0.758876</td> <td>-1.13171 </td> <td>0.0779466</td> <td>0.314001 </td>\n",
       "        </tr>\n",
       "    </tbody>\n",
       "</table>"
      ],
      "text/plain": [
       "pKa   | Weight  | ∆H       | ∆G_solv  | Bond Order | SASA      | Charge_0p | Charge_0d | Charge_1p | Charge_1d | Charge_2p | Charge_2d\n",
       "11.39 | 2.03195 | -1.36941 | -1.07665 | 0.984961   | -0.433151 | 0.222713  | 1.34236   | -0.758876 | -1.13171  | 0.0779466 | 0.314001"
      ]
     },
     "execution_count": 39,
     "metadata": {},
     "output_type": "execute_result"
    }
   ],
   "source": [
    "test.select(target+features).take(19)"
   ]
  },
  {
   "cell_type": "markdown",
   "metadata": {},
   "source": [
    "#### Look at closest in training set to test row"
   ]
  },
  {
   "cell_type": "code",
   "execution_count": 40,
   "metadata": {
    "tags": []
   },
   "outputs": [
    {
     "data": {
      "text/html": [
       "<table border=\"1\" class=\"dataframe\">\n",
       "    <thead>\n",
       "        <tr>\n",
       "            <th>Name</th> <th>pKa</th> <th>smiles</th> <th>Weight</th> <th>∆H</th> <th>∆G_solv</th> <th>Bond Order</th> <th>SASA</th> <th>Charge_0p</th> <th>Charge_0d</th> <th>Charge_1p</th> <th>Charge_1d</th> <th>Charge_2p</th> <th>Charge_2d</th> <th>Distance</th>\n",
       "        </tr>\n",
       "    </thead>\n",
       "    <tbody>\n",
       "        <tr>\n",
       "            <td>b'3-[2,2-difluoro-3-[4-(phenylmethyl)piperidin-1-yl]prop ...</td> <td>6.7 </td> <td>c1ccc(cc1)CC2CCN(CC2)CC(Cc3c[nH]c4c3cc(cc4)n5cnnc5)(F)F</td> <td>1.54568 </td> <td>-0.358021</td> <td>-0.988638</td> <td>0.824633  </td> <td>-0.27937 </td> <td>0.598782 </td> <td>1.86208  </td> <td>-1.10725 </td> <td>-1.66466 </td> <td>0.21159    </td> <td>0.609269 </td> <td>1.49615 </td>\n",
       "        </tr>\n",
       "        <tr>\n",
       "            <td>Flecainide                                                  </td> <td>9.3 </td> <td>c1cc(c(cc1OCC(F)(F)F)C(=O)NC[C@H]2CCCCN2)OCC(F)(F)F    </td> <td>1.36849 </td> <td>-1.05737 </td> <td>-0.138058</td> <td>0.675306  </td> <td>-0.971386</td> <td>0.709712 </td> <td>0.899323 </td> <td>-0.222422</td> <td>-0.759942</td> <td>-0.00425448</td> <td>0.235251 </td> <td>1.63599 </td>\n",
       "        </tr>\n",
       "        <tr>\n",
       "            <td>metolazone                                                  </td> <td>9.7 </td> <td>Cc1ccccc1N2[C@@H](Nc3cc(c(cc3C2=O)S(=O)(=O)N)Cl)C      </td> <td>0.956574</td> <td>-0.319467</td> <td>-0.974962</td> <td>0.867245  </td> <td>-0.740714</td> <td>-0.341875</td> <td>1.12163  </td> <td>-0.382055</td> <td>-0.854899</td> <td>-0.415701  </td> <td>0.0553916</td> <td>1.8095  </td>\n",
       "        </tr>\n",
       "    </tbody>\n",
       "</table>"
      ],
      "text/plain": [
       "Name                                                         | pKa  | smiles                                                  | Weight   | ∆H        | ∆G_solv   | Bond Order | SASA      | Charge_0p | Charge_0d | Charge_1p | Charge_1d | Charge_2p   | Charge_2d | Distance\n",
       "b'3-[2,2-difluoro-3-[4-(phenylmethyl)piperidin-1-yl]prop ... | 6.7  | c1ccc(cc1)CC2CCN(CC2)CC(Cc3c[nH]c4c3cc(cc4)n5cnnc5)(F)F | 1.54568  | -0.358021 | -0.988638 | 0.824633   | -0.27937  | 0.598782  | 1.86208   | -1.10725  | -1.66466  | 0.21159     | 0.609269  | 1.49615\n",
       "Flecainide                                                   | 9.3  | c1cc(c(cc1OCC(F)(F)F)C(=O)NC[C@H]2CCCCN2)OCC(F)(F)F     | 1.36849  | -1.05737  | -0.138058 | 0.675306   | -0.971386 | 0.709712  | 0.899323  | -0.222422 | -0.759942 | -0.00425448 | 0.235251  | 1.63599\n",
       "metolazone                                                   | 9.7  | Cc1ccccc1N2[C@@H](Nc3cc(c(cc3C2=O)S(=O)(=O)N)Cl)C       | 0.956574 | -0.319467 | -0.974962 | 0.867245   | -0.740714 | -0.341875 | 1.12163   | -0.382055 | -0.854899 | -0.415701   | 0.0553916 | 1.8095"
      ]
     },
     "execution_count": 40,
     "metadata": {},
     "output_type": "execute_result"
    }
   ],
   "source": [
    "closest(train, test.select(features).row(19), 3 , target, features)"
   ]
  },
  {
   "cell_type": "markdown",
   "metadata": {},
   "source": [
    "#### Prediction time:"
   ]
  },
  {
   "cell_type": "code",
   "execution_count": 66,
   "metadata": {
    "tags": []
   },
   "outputs": [
    {
     "name": "stdout",
     "output_type": "stream",
     "text": [
      "Predicting target value, pKa, for row = 19 using k=3 with features: ['Weight', '∆H', '∆G_solv', 'Bond Order', 'SASA']\n"
     ]
    },
    {
     "data": {
      "text/plain": [
       "6.7199999999999998"
      ]
     },
     "execution_count": 66,
     "metadata": {},
     "output_type": "execute_result"
    }
   ],
   "source": [
    "predict_knn(19, train, test,k,1)"
   ]
  },
  {
   "cell_type": "markdown",
   "metadata": {},
   "source": [
    "### Histogram of experimental acidity to be predicted\n",
    "#### *Question*  \n",
    "<font color=green>Make two histograms of acidity measured by pKa in the training data and test data. Compare the distribution."
   ]
  },
  {
   "cell_type": "code",
   "execution_count": null,
   "metadata": {},
   "outputs": [],
   "source": [
    "..."
   ]
  },
  {
   "cell_type": "markdown",
   "metadata": {},
   "source": []
  },
  {
   "cell_type": "markdown",
   "metadata": {},
   "source": [
    "### <font color=blue> **Question 13.** </font>Prediction time\n",
    "Now predict the pKa of the 10th molecule in the test dataset using predict. We simply provide the index for the 10th row and our code will select the features we have specified above for the k nearest neighbor prediction of the target, pKa. Discuss the quality of the fit and the name of the name of the molecule from column 1. Repeat for two more rows and discuss the prediction quality. Keep in mind that the prediction of pKa is a very challenging task for machine learning."
   ]
  },
  {
   "cell_type": "code",
   "execution_count": 42,
   "metadata": {
    "tags": []
   },
   "outputs": [],
   "source": [
    "row = 9"
   ]
  },
  {
   "cell_type": "code",
   "execution_count": 65,
   "metadata": {
    "tags": []
   },
   "outputs": [
    {
     "name": "stdout",
     "output_type": "stream",
     "text": [
      "Experimental pKa: 10.1\n",
      "Predicting target value, pKa, for row = 9 using k=3 with features: ['Weight', '∆H', '∆G_solv', 'Bond Order', 'SASA']\n",
      "Predicted pKa using nearest neighbors: 10.04\n"
     ]
    }
   ],
   "source": [
    "print('Experimental pKa:', test.column('pKa').item(row))\n",
    "predicted = round(predict_knn(row,train, test, k, 1),2)\n",
    "print('Predicted pKa using nearest neighbors:', predicted)"
   ]
  },
  {
   "cell_type": "code",
   "execution_count": null,
   "metadata": {
    "tags": []
   },
   "outputs": [],
   "source": [
    "check('tests/q13.py')"
   ]
  },
  {
   "cell_type": "markdown",
   "metadata": {},
   "source": [
    "### Now let's plot knn prediction success\n",
    "Execute the next three cells"
   ]
  },
  {
   "cell_type": "code",
   "execution_count": 44,
   "metadata": {
    "tags": []
   },
   "outputs": [],
   "source": [
    "exp_pKa = np.array([])\n",
    "predict_pKa = np.array([])\n",
    "for i in np.arange(test.num_rows):\n",
    "    exp_pKa = np.append(exp_pKa,test.column('pKa').item(i))\n",
    "    predict_pKa = np.append(predict_pKa,predict_knn(i, train,test,k) )"
   ]
  },
  {
   "cell_type": "code",
   "execution_count": 45,
   "metadata": {
    "tags": []
   },
   "outputs": [
    {
     "data": {
      "text/plain": [
       "(120, 120)"
      ]
     },
     "execution_count": 45,
     "metadata": {},
     "output_type": "execute_result"
    }
   ],
   "source": [
    "len(exp_pKa), len(predict_pKa)"
   ]
  },
  {
   "cell_type": "code",
   "execution_count": 46,
   "metadata": {
    "tags": []
   },
   "outputs": [
    {
     "data": {
      "image/png": "[encoded data removed]",
      "text/plain": [
       "<Figure size 640x480 with 1 Axes>"
      ]
     },
     "metadata": {},
     "output_type": "display_data"
    }
   ],
   "source": [
    "plt.hist(exp_pKa-predict_pKa, bins=25, edgecolor=\"black\", linewidth=1.2)\n",
    "plt.xlim(-8,8)\n",
    "rmse_nn = np.mean((exp_pKa-predict_pKa) ** 2) ** 0.5 \n",
    "t=plt.text(3,9,f'Root mean square error: {rmse_nn:.2f}',fontsize=9)\n",
    "t.set_bbox(dict(facecolor='green',alpha=0.7, edgecolor='blue'))\n",
    "plt.title(\"Prediction error of pKa using k nearest neighbor\")\n",
    "plt.savefig('Predict_error_initial.png')\n",
    "plt.show()"
   ]
  },
  {
   "cell_type": "markdown",
   "metadata": {},
   "source": [
    "### Conclusions on our k nearest neighbor model\n",
    "#### <font color=blue> **Question 14.** </font>\n",
    "Evaluate the overall quality of our machine learning prediction based on the above histogram plot and the root mean squared error (RMSE). "
   ]
  },
  {
   "cell_type": "markdown",
   "metadata": {},
   "source": [
    "<font color='blue'>Your discussionYour discussionYour discussionYour discussionYour discussionYour discussionYour discussionYour discussionYour discussion </font>\n",
    "***   "
   ]
  },
  {
   "cell_type": "markdown",
   "metadata": {},
   "source": [
    "#### Save notebook before check"
   ]
  },
  {
   "cell_type": "code",
   "execution_count": null,
   "metadata": {
    "tags": []
   },
   "outputs": [],
   "source": [
    "check('tests/q14d.py')"
   ]
  },
  {
   "cell_type": "markdown",
   "metadata": {},
   "source": [
    "### Examining dependence on k parameter.\n",
    "#### <font color=blue> **Question 15.** </font>\n",
    "Now we will iterate through different values of k to decide which is best."
   ]
  },
  {
   "cell_type": "markdown",
   "metadata": {},
   "source": [
    "Now we will try a few values for k to try to optimize the value of k which is known as a hyperparameter. We need a new version of `predict_nn` that also has an argument of k with a default value of 5."
   ]
  },
  {
   "cell_type": "markdown",
   "metadata": {},
   "source": [
    "##### Make a list of 5 values of k to test with the same plot as is in Question 13 above."
   ]
  },
  {
   "cell_type": "code",
   "execution_count": 62,
   "metadata": {},
   "outputs": [
    {
     "data": {
      "text/plain": [
       "['Weight', '∆H', '∆G_solv', 'Bond Order', 'SASA']"
      ]
     },
     "execution_count": 62,
     "metadata": {},
     "output_type": "execute_result"
    }
   ],
   "source": [
    "features"
   ]
  },
  {
   "cell_type": "code",
   "execution_count": 61,
   "metadata": {
    "tags": []
   },
   "outputs": [
    {
     "data": {
      "image/png": "[encoded data removed]",
      "text/plain": [
       "<Figure size 640x480 with 1 Axes>"
      ]
     },
     "metadata": {},
     "output_type": "display_data"
    },
    {
     "data": {
      "image/png": "[encoded data removed]",
      "text/plain": [
       "<Figure size 640x480 with 1 Axes>"
      ]
     },
     "metadata": {},
     "output_type": "display_data"
    },
    {
     "data": {
      "image/png": "[encoded data removed]",
      "text/plain": [
       "<Figure size 640x480 with 1 Axes>"
      ]
     },
     "metadata": {},
     "output_type": "display_data"
    },
    {
     "data": {
      "image/png": "[encoded data removed]",
      "text/plain": [
       "<Figure size 640x480 with 1 Axes>"
      ]
     },
     "metadata": {},
     "output_type": "display_data"
    },
    {
     "data": {
      "image/png": "[encoded data removed]",
      "text/plain": [
       "<Figure size 640x480 with 1 Axes>"
      ]
     },
     "metadata": {},
     "output_type": "display_data"
    }
   ],
   "source": [
    "for knn in [4,7,9,15,21]:\n",
    "    exp_pKa = []\n",
    "    predict_pKa = []\n",
    "    for i in np.arange(test.num_rows):\n",
    "        exp_pKa.append(test.column(\"pKa\").item(i))\n",
    "        predict_pKa.append(predict_knn(i,train,test, knn,0))\n",
    "    plt.hist(np.array(exp_pKa)-np.array(predict_pKa), bins=25, edgecolor=\"black\", linewidth=1.2)\n",
    "    plt.xlim(-8,8)\n",
    "    rmse_nn = np.mean((np.array(exp_pKa)-np.array(predict_pKa)) ** 2) ** 0.5 \n",
    "    t=plt.text(3,9,f'Root mean square error: {rmse_nn:.2f}',fontsize=9)\n",
    "    t.set_bbox(dict(facecolor='green',alpha=0.7, edgecolor='blue'))\n",
    "    plt.title(\"k = \" + str(knn))\n",
    "    plt.savefig('k_'+str(knn)+'-plots.png')\n",
    "    plt.show()"
   ]
  },
  {
   "cell_type": "markdown",
   "metadata": {},
   "source": [
    "<font color=blue> *Question:* Which value of `k` makes the best estimation?</font>"
   ]
  },
  {
   "cell_type": "code",
   "execution_count": null,
   "metadata": {},
   "outputs": [],
   "source": [
    "k = ..."
   ]
  },
  {
   "cell_type": "code",
   "execution_count": null,
   "metadata": {},
   "outputs": [],
   "source": [
    "check('tests/q14.py')"
   ]
  },
  {
   "cell_type": "markdown",
   "metadata": {
    "tags": []
   },
   "source": [
    "### <font color=blue> **Question 16.** </font>\n",
    "At the end of each lab, please include a reflection. \n",
    "* How did this lab go? \n",
    "* Can you think of other applications of k-means clustering?\n",
    "* Were there questions you found especially challenging you would like your instructor to review in class? \n",
    "* How long did the lab take you to complete?\n",
    "\n",
    "Share your feedback so we can continue to improve this class!\n",
    "\n",
    "**Insert a markdown cell below this one and write your reflection on this lab.**"
   ]
  },
  {
   "cell_type": "markdown",
   "metadata": {},
   "source": []
  },
  {
   "cell_type": "markdown",
   "metadata": {},
   "source": [
    "#### Save notebook before check"
   ]
  },
  {
   "cell_type": "code",
   "execution_count": null,
   "metadata": {
    "tags": []
   },
   "outputs": [],
   "source": [
    "check('tests/q16d.py')"
   ]
  },
  {
   "cell_type": "markdown",
   "metadata": {},
   "source": [
    "### <font color='green'>Draw a 3D structure of your favorite molecule encountered in this lab using a smiles string and the `smiles3D()` function. Why is it your favorite?"
   ]
  },
  {
   "cell_type": "code",
   "execution_count": null,
   "metadata": {},
   "outputs": [],
   "source": [
    "smiles3D(...)"
   ]
  },
  {
   "cell_type": "markdown",
   "metadata": {},
   "source": [
    "..."
   ]
  },
  {
   "cell_type": "markdown",
   "metadata": {},
   "source": [
    "## All finished...\n",
    "Run checks and submit .html and .ipynb files after downloading."
   ]
  },
  {
   "cell_type": "code",
   "execution_count": null,
   "metadata": {},
   "outputs": [],
   "source": [
    "# For your convenience, you can run this cell to run all the tests at once!\n",
    "import glob\n",
    "from gofer.ok import check\n",
    "correct = 0\n",
    "checks = [1,'1d', '1e',2,3,4,'5d','5e',11,12,13,14,'14d', 15, '16d']\n",
    "total = len(checks)\n",
    "for x in checks:\n",
    "    print('Testing question {}: '.format(str(x)))\n",
    "    g = check('tests/q{}.py'.format(str(x)))\n",
    "    if g.grade == 1.0:\n",
    "        print(\"Passed\")\n",
    "        correct += 1\n",
    "    else:\n",
    "        print('Failed')\n",
    "        display(g)\n",
    "\n",
    "print('Grade:  {}'.format(str(correct/total)))\n",
    "print(\"Nice work \",Your_name, user)\n",
    "import time;\n",
    "localtime = time.asctime( time.localtime(time.time()) )\n",
    "print(\"Submitted @ \", localtime)"
   ]
  },
  {
   "cell_type": "code",
   "execution_count": null,
   "metadata": {},
   "outputs": [],
   "source": []
  },
  {
   "cell_type": "code",
   "execution_count": null,
   "metadata": {},
   "outputs": [],
   "source": []
  },
  {
   "cell_type": "code",
   "execution_count": null,
   "metadata": {},
   "outputs": [],
   "source": []
  },
  {
   "cell_type": "markdown",
   "metadata": {},
   "source": [
    "---\n",
    "---"
   ]
  },
  {
   "cell_type": "code",
   "execution_count": null,
   "metadata": {},
   "outputs": [],
   "source": []
  },
  {
   "cell_type": "markdown",
   "metadata": {},
   "source": [
    "### Different knn weighting schemes\n",
    "All of the nearest n neighbors receive the same consideration in determining the prediction. It makes sense that points that are 'nearer' may be more important or weightier. Below are figures showing the unweighted approach we have been using, a weighting scheme based on inverse distance (1/distance), and an exponetial weighting scheme for 4-ethylphenol.<br>\n",
    "<img src='ethylphenol.png'>"
   ]
  },
  {
   "cell_type": "markdown",
   "metadata": {},
   "source": [
    "---\n",
    "### <center>**knn weighting plots**\n",
    "---\n",
    "<center>k = 5 with neighboring 5 molecular structures<br><img src='knn_equal_weighting_molecule.png'></center><br>\n",
    "\n",
    "---\n",
    "<center>k = 10<br>\n",
    "<img src='knn_inverse_weighting.png'><img src='knn_exponential_weighting.png'></center>"
   ]
  },
  {
   "cell_type": "markdown",
   "metadata": {},
   "source": [
    "<font color='green'>Repeat the above replacing the `predict_knn` with the first weighting scheme which is 1/distance weighting in the `predict_knn_weighted` function and then the `predict_knn_weighted_exp` function."
   ]
  },
  {
   "cell_type": "code",
   "execution_count": 1,
   "metadata": {
    "tags": []
   },
   "outputs": [],
   "source": [
    "def predict_knn(row, train, test, k=5, pr=0):\n",
    "    \"\"\"Return the majority class among the k nearest neighbors.\"\"\"\n",
    "    if pr:\n",
    "        print(f'Predicting target value, {target[0]}, for row = {row} using k={k} with features: {features}')\n",
    "    return np.average(closest(train, test.select(features).row(row), k , target, features).column(target[0]))"
   ]
  },
  {
   "cell_type": "code",
   "execution_count": null,
   "metadata": {},
   "outputs": [],
   "source": [
    "def closest(training, test, k, target, features):\n",
    "    \"\"\"Return a table of the k closest neighbors to example.\"\"\"\n",
    "    return distances(training, test, target, features).sort('Distance').take(np.arange(k))"
   ]
  },
  {
   "cell_type": "code",
   "execution_count": 48,
   "metadata": {
    "tags": []
   },
   "outputs": [],
   "source": [
    "def predict_knn_weighted(row, train, test, k, pr=0):\n",
    "    \"\"\"Return the majority class among the k nearest neighbors.\"\"\"\n",
    "    dist_table = closest(train, test.select(features).row(row), k , target, features)   \n",
    "    total_inverse = np.sum(1/dist_table['Distance'])\n",
    "    dist_table=dist_table.with_columns('knn_weighting',(1/dist_table['Distance'])*total_inverse)\n",
    "    sum_weight = np.sum(dist_table['knn_weighting'])\n",
    "    weighted_mean_pKa = np.sum(dist_table['pKa']*dist_table['knn_weighting']/sum_weight)\n",
    "    return weighted_mean_pKa"
   ]
  },
  {
   "cell_type": "code",
   "execution_count": 49,
   "metadata": {
    "tags": []
   },
   "outputs": [],
   "source": [
    "def predict_knn_weighted_exp(row, train, test, k, pr=0):\n",
    "    \"\"\"Return the majority class among the k nearest neighbors.\"\"\"\n",
    "    dist_table = closest(train, test.select(features).row(row), k , target, features)     \n",
    "    total_exp = np.sum(np.exp(-dist_table['Distance']))\n",
    "    dist_table=dist_table.with_columns('knn_weighting',(np.exp(-dist_table['Distance']))*total_exp)\n",
    "    sum_weight = np.sum(dist_table['knn_weighting'])\n",
    "    weighted_mean_pKa = np.sum(dist_table['pKa']*dist_table['knn_weighting']/sum_weight)\n",
    "    return weighted_mean_pKa"
   ]
  },
  {
   "cell_type": "code",
   "execution_count": 63,
   "metadata": {
    "tags": []
   },
   "outputs": [
    {
     "data": {
      "image/png": "[encoded data removed]",
      "text/plain": [
       "<Figure size 640x480 with 1 Axes>"
      ]
     },
     "metadata": {},
     "output_type": "display_data"
    },
    {
     "data": {
      "image/png": "[encoded data removed]",
      "text/plain": [
       "<Figure size 640x480 with 1 Axes>"
      ]
     },
     "metadata": {},
     "output_type": "display_data"
    },
    {
     "data": {
      "image/png": "[encoded data removed]",
      "text/plain": [
       "<Figure size 640x480 with 1 Axes>"
      ]
     },
     "metadata": {},
     "output_type": "display_data"
    },
    {
     "data": {
      "image/png": "[encoded data removed]",
      "text/plain": [
       "<Figure size 640x480 with 1 Axes>"
      ]
     },
     "metadata": {},
     "output_type": "display_data"
    },
    {
     "data": {
      "image/png": "[encoded data removed]",
      "text/plain": [
       "<Figure size 640x480 with 1 Axes>"
      ]
     },
     "metadata": {},
     "output_type": "display_data"
    }
   ],
   "source": [
    "for knn in [4,7,9,15,21]:\n",
    "    exp_pKa = []\n",
    "    predict_pKa = []\n",
    "    for i in np.arange(test.num_rows):\n",
    "        exp_pKa.append(test.column(\"pKa\").item(i))\n",
    "        predict_pKa.append(predict_knn_weighted(i,train,test, knn,0))\n",
    "    plt.hist(np.array(exp_pKa)-np.array(predict_pKa), bins=25, edgecolor=\"black\", linewidth=1.2)\n",
    "    plt.xlim(-8,8)\n",
    "    rmse_nn = np.mean((np.array(exp_pKa)-np.array(predict_pKa)) ** 2) ** 0.5 \n",
    "    t=plt.text(3,9,f'Root mean square error: {rmse_nn:.2f}',fontsize=9)\n",
    "    t.set_bbox(dict(facecolor='green',alpha=0.7, edgecolor='blue'))\n",
    "    plt.title(\"k = \" + str(knn))\n",
    "    plt.savefig('k_'+str(knn)+'-weighted.png')\n",
    "    plt.show()\n",
    "    plt.show()\n"
   ]
  },
  {
   "cell_type": "code",
   "execution_count": null,
   "metadata": {},
   "outputs": [],
   "source": []
  },
  {
   "cell_type": "code",
   "execution_count": 64,
   "metadata": {},
   "outputs": [
    {
     "data": {
      "image/png": "[encoded data removed]",
      "text/plain": [
       "<Figure size 640x480 with 1 Axes>"
      ]
     },
     "metadata": {},
     "output_type": "display_data"
    },
    {
     "data": {
      "image/png": "[encoded data removed]",
      "text/plain": [
       "<Figure size 640x480 with 1 Axes>"
      ]
     },
     "metadata": {},
     "output_type": "display_data"
    },
    {
     "data": {
      "image/png": "[encoded data removed]",
      "text/plain": [
       "<Figure size 640x480 with 1 Axes>"
      ]
     },
     "metadata": {},
     "output_type": "display_data"
    },
    {
     "data": {
      "image/png": "[encoded data removed]",
      "text/plain": [
       "<Figure size 640x480 with 1 Axes>"
      ]
     },
     "metadata": {},
     "output_type": "display_data"
    },
    {
     "data": {
      "image/png": "[encoded data removed]",
      "text/plain": [
       "<Figure size 640x480 with 1 Axes>"
      ]
     },
     "metadata": {},
     "output_type": "display_data"
    }
   ],
   "source": [
    "for knn in [4,7,9,15,21]:\n",
    "    exp_pKa = []\n",
    "    predict_pKa = []\n",
    "    for i in np.arange(test.num_rows):\n",
    "        exp_pKa.append(test.column(\"pKa\").item(i))\n",
    "        predict_pKa.append(predict_knn_weighted_exp(i,train,test, knn,0))\n",
    "    plt.hist(np.array(exp_pKa)-np.array(predict_pKa), bins=25, edgecolor=\"black\", linewidth=1.2)\n",
    "    plt.xlim(-8,8)\n",
    "    rmse_nn = np.mean((np.array(exp_pKa)-np.array(predict_pKa)) ** 2) ** 0.5 \n",
    "    t=plt.text(3,9,f'Root mean square error: {rmse_nn:.2f}',fontsize=9)\n",
    "    t.set_bbox(dict(facecolor='green',alpha=0.7, edgecolor='blue'))\n",
    "    plt.title(\"k = \" + str(knn))\n",
    "    plt.savefig('k_'+str(knn)+'-weighted_exp_plots.png')\n",
    "    plt.show()\n",
    "    plt.show()\n"
   ]
  },
  {
   "cell_type": "markdown",
   "metadata": {},
   "source": [
    "### <font blue>Which weighting scheme works best?</font>"
   ]
  },
  {
   "cell_type": "markdown",
   "metadata": {},
   "source": [
    "..."
   ]
  },
  {
   "cell_type": "markdown",
   "metadata": {},
   "source": [
    "---\n",
    "---\n",
    "### <font color='brown'>REFERENCE: k nearest neghbors toolkit\n",
    "---"
   ]
  },
  {
   "cell_type": "code",
   "execution_count": null,
   "metadata": {},
   "outputs": [],
   "source": [
    "trainf, testf = table.split(int(0.80*table.num_rows))\n",
    "print(trainf.num_rows, 'training and', testf.num_rows, 'test instances.')"
   ]
  },
  {
   "cell_type": "code",
   "execution_count": null,
   "metadata": {
    "tags": []
   },
   "outputs": [],
   "source": [
    "def distance(pt1, pt2):\n",
    "    \"\"\"The distance between two points, represented as arrays.\"\"\"\n",
    "    return np.sqrt(sum((pt1 - pt2) ** 2))\n",
    "def row_distance(row1, row2):\n",
    "    \"\"\"The distance between two rows of a table.\"\"\"\n",
    "    return distance(np.array(row1), np.array(row2)) # Need to convert rows into arrays\n",
    "\n",
    "def distances(training, test, target, features):\n",
    "    \"\"\"Compute the distance from test for each row in training.\"\"\"\n",
    "    dists = []\n",
    "    attributes = training.select(features)\n",
    "    for row in attributes.rows:\n",
    "        dists.append(row_distance(row, test))\n",
    "    return training.with_column('Distance', dists)\n",
    "\n",
    "def closest(training, test, k, target, features):\n",
    "    \"\"\"Return a table of the k closest neighbors to example row from test data.\"\"\"\n",
    "    return distances(training, test, target, features).sort('Distance').take(np.arange(k))"
   ]
  },
  {
   "cell_type": "markdown",
   "metadata": {},
   "source": [
    "#### Classification"
   ]
  },
  {
   "cell_type": "code",
   "execution_count": null,
   "metadata": {},
   "outputs": [],
   "source": [
    "def majority(topkclasses):\n",
    "    two = topkclasses.where('Name', are.equal_to(2)).num_rows\n",
    "    one = topkclasses.where('Name', are.equal_to(1)).num_rows\n",
    "    zero = topkclasses.where('Name', are.equal_to(0)).num_rows\n",
    "    if (two> one) and (two > zero):\n",
    "        return 2\n",
    "    elif one>zero:\n",
    "        return 1\n",
    "    else:\n",
    "        return 0\n",
    "def classify(training, new_point, k):\n",
    "    closestk = closest(training, new_point, k,\"Name\")\n",
    "    topkclasses = closestk.select('Name')\n",
    "    return majority(topkclasses)\n",
    "def predict(train, test_attributes, k):\n",
    "    pred = []\n",
    "    for i in np.arange(test_attributes.num_rows):\n",
    "        pred.append(classify(train,test_attributes.row(i),k))\n",
    "    return pred"
   ]
  },
  {
   "cell_type": "markdown",
   "metadata": {},
   "source": [
    "#### Regression"
   ]
  },
  {
   "cell_type": "markdown",
   "metadata": {},
   "source": [
    "Standard Units for features/attributes"
   ]
  },
  {
   "cell_type": "code",
   "execution_count": null,
   "metadata": {},
   "outputs": [],
   "source": [
    "def standard_units(any_array):\n",
    "    \"Convert any array of numbers to standard units.\"\n",
    "    return (any_array - np.mean(any_array))/np.std(any_array)  \n",
    "\n",
    "pKa_s = molecules.select('Name','pKa','smiles')\n",
    "for label in molecules.labels[2:-1]:\n",
    "    print('Standardizing: ',label)\n",
    "    pKa_s = pKa_s.with_columns(label,standard_units(molecules[label]))\n",
    "pKa_s  "
   ]
  },
  {
   "cell_type": "markdown",
   "metadata": {},
   "source": [
    "#### Nearest Neighbor Prediction"
   ]
  },
  {
   "cell_type": "code",
   "execution_count": null,
   "metadata": {},
   "outputs": [],
   "source": [
    "def predict_knn(row, train, test, k=5, pr=0):\n",
    "    \"\"\"Return the predicting value or class among the \n",
    "     k nearest neighbors, pr=1 prints\"\"\"\n",
    "    if pr:\n",
    "            print(f'Predicting target value, {target[0]}, for row = {row} using k={k} with features: {features}')\n",
    "    return np.average(closest(train, test.select(features).row(row), k , target, features).column(target[0]))"
   ]
  },
  {
   "cell_type": "markdown",
   "metadata": {},
   "source": [
    "Alternate weighting of neighbors"
   ]
  },
  {
   "cell_type": "code",
   "execution_count": null,
   "metadata": {},
   "outputs": [],
   "source": [
    "def predict_knn_weighted(example,k):\n",
    "    \"\"\"Return the majority class among the k nearest neighbors.\"\"\"\n",
    "    dist_table = closest(train.drop(0), example, k, 'pKa')    \n",
    "    total_inverse = np.sum(1/dist_table['Distance'])\n",
    "    dist_table=dist_table.with_columns('knn_weighting',(1/dist_table['Distance'])*total_inverse)\n",
    "    sum_weight = np.sum(dist_table['knn_weighting'])\n",
    "    weighted_mean_pKa = np.sum(dist_table['pKa']*dist_table['knn_weighting']/sum_weight)\n",
    "    return weighted_mean_pKa"
   ]
  },
  {
   "cell_type": "code",
   "execution_count": null,
   "metadata": {},
   "outputs": [],
   "source": [
    "def predict_knn_weighted_exp(example,k):\n",
    "    \"\"\"Return the majority class among the k nearest neighbors.\"\"\"\n",
    "    dist_table = closest(train.drop(0), example, k, 'pKa')    \n",
    "    total_exp = np.sum(np.exp(-dist_table['Distance']))\n",
    "    dist_table=dist_table.with_columns('knn_weighting',(np.exp(-dist_table['Distance']))*total_exp)\n",
    "    sum_weight = np.sum(dist_table['knn_weighting'])\n",
    "    weighted_mean_pKa = np.sum(dist_table['pKa']*dist_table['knn_weighting']/sum_weight)\n",
    "    return weighted_mean_pKa"
   ]
  }
 ],
 "metadata": {
  "kernelspec": {
   "display_name": "Python 3 (ipykernel)",
   "language": "python",
   "name": "python3"
  },
  "language_info": {
   "codemirror_mode": {
    "name": "ipython",
    "version": 3
   },
   "file_extension": ".py",
   "mimetype": "text/x-python",
   "name": "python",
   "nbconvert_exporter": "python",
   "pygments_lexer": "ipython3",
   "version": "3.9.19"
  }
 },
 "nbformat": 4,
 "nbformat_minor": 4
}
