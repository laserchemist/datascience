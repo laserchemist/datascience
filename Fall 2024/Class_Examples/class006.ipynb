{
 "cells": [
  {
   "cell_type": "markdown",
   "id": "f29b42b8-2359-4774-9290-a1411be89a04",
   "metadata": {},
   "source": [
    "## Class 006 Tables tested"
   ]
  },
  {
   "cell_type": "code",
   "execution_count": 1,
   "id": "8b570ee0-306d-4fad-8ffa-e4b3b356922e",
   "metadata": {
    "tags": []
   },
   "outputs": [],
   "source": [
    "from datascience import *\n",
    "import numpy as np\n",
    "%matplotlib inline\n",
    "import matplotlib.pyplot as plots\n",
    "plots.style.use('fivethirtyeight')"
   ]
  },
  {
   "cell_type": "markdown",
   "id": "296f5b49-1c3b-4cec-bdc7-39f3bcac2b64",
   "metadata": {},
   "source": [
    "### Create a first datascience table object from an array\n",
    "As an example we can create a table directly from data inserted into an arr"
   ]
  },
  {
   "cell_type": "code",
   "execution_count": null,
   "id": "67c59a8e-fdba-4390-be3c-66ce031da766",
   "metadata": {},
   "outputs": [],
   "source": [
    "T=Table().with_columns('Tornados',make_array(0,0,0,1,0,0,0,1,5,1,0,0))"
   ]
  },
  {
   "cell_type": "code",
   "execution_count": null,
   "id": "6342bfd6-7410-422d-a1d7-d78569a0c923",
   "metadata": {},
   "outputs": [],
   "source": [
    "make_array(0,0,0,1,0,0,0,1,5,1,0,0)"
   ]
  },
  {
   "cell_type": "code",
   "execution_count": null,
   "id": "6e55ed11-88ab-46af-92e5-d702dbef8c8f",
   "metadata": {},
   "outputs": [],
   "source": [
    "import numpy as np\n",
    "T=T.with_columns('Month',np.arange(1,13,1))"
   ]
  },
  {
   "cell_type": "code",
   "execution_count": null,
   "id": "7e4654c5-3c27-4230-bb55-fce1450dbd13",
   "metadata": {},
   "outputs": [],
   "source": [
    "T"
   ]
  },
  {
   "cell_type": "code",
   "execution_count": null,
   "id": "cbb1a72d-9dc0-4a3d-8d09-a16def7346f6",
   "metadata": {},
   "outputs": [],
   "source": [
    "import numpy as np\n",
    "T=T.with_columns('Month',np.arange(1,13))"
   ]
  },
  {
   "cell_type": "code",
   "execution_count": null,
   "id": "205d03a4-76e3-4343-a834-ff74345ea3f9",
   "metadata": {},
   "outputs": [],
   "source": [
    "T.sort(0,descending=True)"
   ]
  },
  {
   "cell_type": "code",
   "execution_count": null,
   "id": "b30839e7-cb4f-43e0-b702-2c4fa6209715",
   "metadata": {},
   "outputs": [],
   "source": [
    "T=T.with_columns(\"Odd\",T.column(1)%2).where(\"Odd\",0)\n",
    "T"
   ]
  },
  {
   "cell_type": "markdown",
   "id": "b81b1987-aad6-4494-9ab1-7d668d7901d6",
   "metadata": {},
   "source": [
    "### Census data example"
   ]
  },
  {
   "cell_type": "code",
   "execution_count": null,
   "id": "0c46d4bd-1a53-4fcd-9193-c1d9e3f63c4c",
   "metadata": {
    "tags": []
   },
   "outputs": [],
   "source": [
    "data = 'http://www2.census.gov/programs-surveys/popest/datasets/2010-2020/national/asrh/nc-est2020-agesex-res.csv'\n",
    "\n",
    "\n",
    "full_census_table = Table().read_table(data)\n",
    "full_census_table"
   ]
  },
  {
   "cell_type": "code",
   "execution_count": null,
   "id": "b7082ced-593c-42f2-8a85-bdf28490f5ac",
   "metadata": {},
   "outputs": [],
   "source": [
    "partial_census_table = full_census_table.select('SEX', 'AGE', 'POPESTIMATE2010', 'POPESTIMATE2020')\n",
    "partial_census_table"
   ]
  },
  {
   "cell_type": "code",
   "execution_count": null,
   "id": "587dd336-4bf0-4b72-9522-714d15ba2344",
   "metadata": {},
   "outputs": [],
   "source": [
    "type(3*partial_census_table.column(\"AGE\"))"
   ]
  },
  {
   "cell_type": "code",
   "execution_count": null,
   "id": "4dcc5207-4254-4c77-b035-699a9577963f",
   "metadata": {},
   "outputs": [],
   "source": [
    "us_pop = partial_census_table.relabeled('POPESTIMATE2010', '2010').relabeled('POPESTIMATE2020', '2020').relabeled('SEX','GENDER')\n",
    "us_pop"
   ]
  },
  {
   "cell_type": "code",
   "execution_count": null,
   "id": "0c463bc2-3e1c-4755-bfca-6ffe604cefd8",
   "metadata": {},
   "outputs": [],
   "source": [
    "type(us_pop)"
   ]
  },
  {
   "cell_type": "code",
   "execution_count": null,
   "id": "5af64f24-76ab-49ef-8bd1-82261306e7b7",
   "metadata": {},
   "outputs": [],
   "source": [
    "us_pop.where('AGE',81)"
   ]
  },
  {
   "cell_type": "code",
   "execution_count": null,
   "id": "fb08c304-2f6d-4bce-99ff-b219828b70d6",
   "metadata": {},
   "outputs": [],
   "source": [
    "us_pop.where('AGE',70)"
   ]
  },
  {
   "cell_type": "code",
   "execution_count": null,
   "id": "39326e89-d4cb-461a-b3e8-3d8b99e99267",
   "metadata": {},
   "outputs": [],
   "source": [
    "us_pop.where('GENDER',0).select('AGE','2010','2020').where('AGE',are.below(100)).plot('AGE')"
   ]
  },
  {
   "cell_type": "code",
   "execution_count": null,
   "id": "7c3b0c77-f6f1-4882-babe-e6dba850b341",
   "metadata": {},
   "outputs": [],
   "source": [
    "us_pop.where('GENDER',0).select('AGE','2010','2020').where('AGE',are.below(100))"
   ]
  },
  {
   "cell_type": "markdown",
   "id": "e56c80fa-8de0-43c8-b0ab-65cfd5615098",
   "metadata": {},
   "source": [
    "### Google Trend Data"
   ]
  },
  {
   "cell_type": "code",
   "execution_count": 2,
   "id": "50a563aa-aba5-4ba5-90e5-5235b0506fe6",
   "metadata": {
    "tags": []
   },
   "outputs": [
    {
     "data": {
      "text/html": [
       "<table border=\"1\" class=\"dataframe\">\n",
       "    <thead>\n",
       "        <tr>\n",
       "            <th>Week</th> <th>Chemistry: (United States)</th> <th>Biology: (United States)</th> <th>Nobel Prize: (United States)</th>\n",
       "        </tr>\n",
       "    </thead>\n",
       "    <tbody>\n",
       "        <tr>\n",
       "            <td>2019-02-03</td> <td>42                        </td> <td>40                      </td> <td>4                           </td>\n",
       "        </tr>\n",
       "        <tr>\n",
       "            <td>2019-02-10</td> <td>42                        </td> <td>38                      </td> <td>5                           </td>\n",
       "        </tr>\n",
       "        <tr>\n",
       "            <td>2019-02-17</td> <td>36                        </td> <td>33                      </td> <td>6                           </td>\n",
       "        </tr>\n",
       "        <tr>\n",
       "            <td>2019-02-24</td> <td>39                        </td> <td>37                      </td> <td>5                           </td>\n",
       "        </tr>\n",
       "        <tr>\n",
       "            <td>2019-03-03</td> <td>39                        </td> <td>37                      </td> <td>4                           </td>\n",
       "        </tr>\n",
       "        <tr>\n",
       "            <td>2019-03-10</td> <td>33                        </td> <td>31                      </td> <td>4                           </td>\n",
       "        </tr>\n",
       "        <tr>\n",
       "            <td>2019-03-17</td> <td>34                        </td> <td>32                      </td> <td>4                           </td>\n",
       "        </tr>\n",
       "        <tr>\n",
       "            <td>2019-03-24</td> <td>35                        </td> <td>33                      </td> <td>3                           </td>\n",
       "        </tr>\n",
       "        <tr>\n",
       "            <td>2019-03-31</td> <td>37                        </td> <td>36                      </td> <td>3                           </td>\n",
       "        </tr>\n",
       "        <tr>\n",
       "            <td>2019-04-07</td> <td>38                        </td> <td>36                      </td> <td>3                           </td>\n",
       "        </tr>\n",
       "    </tbody>\n",
       "</table>\n",
       "<p>... (250 rows omitted)</p>"
      ],
      "text/plain": [
       "Week       | Chemistry: (United States) | Biology: (United States) | Nobel Prize: (United States)\n",
       "2019-02-03 | 42                         | 40                       | 4\n",
       "2019-02-10 | 42                         | 38                       | 5\n",
       "2019-02-17 | 36                         | 33                       | 6\n",
       "2019-02-24 | 39                         | 37                       | 5\n",
       "2019-03-03 | 39                         | 37                       | 4\n",
       "2019-03-10 | 33                         | 31                       | 4\n",
       "2019-03-17 | 34                         | 32                       | 4\n",
       "2019-03-24 | 35                         | 33                       | 3\n",
       "2019-03-31 | 37                         | 36                       | 3\n",
       "2019-04-07 | 38                         | 36                       | 3\n",
       "... (250 rows omitted)"
      ]
     },
     "execution_count": 2,
     "metadata": {},
     "output_type": "execute_result"
    }
   ],
   "source": [
    "file_original = \"data/multiTimeline-9.csv\"\n",
    "file = \"data/ChemBioNobelTrend.csv\"\n",
    "ChemBio = Table().read_table(file_original, skiprows=2)\n",
    "ChemBio"
   ]
  },
  {
   "cell_type": "code",
   "execution_count": 3,
   "id": "cc5d09d6-84a0-4070-9e5b-e51ebea4f57d",
   "metadata": {
    "tags": []
   },
   "outputs": [
    {
     "data": {
      "text/html": [
       "<table border=\"1\" class=\"dataframe\">\n",
       "    <thead>\n",
       "        <tr>\n",
       "            <th>Day</th> <th>debate: (United States)</th> <th>harris: (United States)</th> <th>trump: (United States)</th> <th>Joe Biden: (United States)</th>\n",
       "        </tr>\n",
       "    </thead>\n",
       "    <tbody>\n",
       "        <tr>\n",
       "            <td>2024-06-12</td> <td><1                     </td> <td>1                      </td> <td>2                     </td> <td>1                         </td>\n",
       "        </tr>\n",
       "        <tr>\n",
       "            <td>2024-06-13</td> <td><1                     </td> <td>1                      </td> <td>2                     </td> <td>1                         </td>\n",
       "        </tr>\n",
       "        <tr>\n",
       "            <td>2024-06-14</td> <td><1                     </td> <td>1                      </td> <td>3                     </td> <td>1                         </td>\n",
       "        </tr>\n",
       "        <tr>\n",
       "            <td>2024-06-15</td> <td><1                     </td> <td>1                      </td> <td>2                     </td> <td>1                         </td>\n",
       "        </tr>\n",
       "        <tr>\n",
       "            <td>2024-06-16</td> <td><1                     </td> <td>1                      </td> <td>2                     </td> <td>1                         </td>\n",
       "        </tr>\n",
       "        <tr>\n",
       "            <td>2024-06-17</td> <td><1                     </td> <td>1                      </td> <td>2                     </td> <td>2                         </td>\n",
       "        </tr>\n",
       "        <tr>\n",
       "            <td>2024-06-18</td> <td><1                     </td> <td>1                      </td> <td>2                     </td> <td>2                         </td>\n",
       "        </tr>\n",
       "        <tr>\n",
       "            <td>2024-06-19</td> <td><1                     </td> <td>1                      </td> <td>2                     </td> <td>1                         </td>\n",
       "        </tr>\n",
       "        <tr>\n",
       "            <td>2024-06-20</td> <td>1                      </td> <td>1                      </td> <td>2                     </td> <td>1                         </td>\n",
       "        </tr>\n",
       "        <tr>\n",
       "            <td>2024-06-21</td> <td>1                      </td> <td>1                      </td> <td>2                     </td> <td>1                         </td>\n",
       "        </tr>\n",
       "    </tbody>\n",
       "</table>\n",
       "<p>... (83 rows omitted)</p>"
      ],
      "text/plain": [
       "Day        | debate: (United States) | harris: (United States) | trump: (United States) | Joe Biden: (United States)\n",
       "2024-06-12 | <1                      | 1                       | 2                      | 1\n",
       "2024-06-13 | <1                      | 1                       | 2                      | 1\n",
       "2024-06-14 | <1                      | 1                       | 3                      | 1\n",
       "2024-06-15 | <1                      | 1                       | 2                      | 1\n",
       "2024-06-16 | <1                      | 1                       | 2                      | 1\n",
       "2024-06-17 | <1                      | 1                       | 2                      | 2\n",
       "2024-06-18 | <1                      | 1                       | 2                      | 2\n",
       "2024-06-19 | <1                      | 1                       | 2                      | 1\n",
       "2024-06-20 | 1                       | 1                       | 2                      | 1\n",
       "2024-06-21 | 1                       | 1                       | 2                      | 1\n",
       "... (83 rows omitted)"
      ]
     },
     "execution_count": 3,
     "metadata": {},
     "output_type": "execute_result"
    }
   ],
   "source": [
    "file = \"data/GoogleTrend_debate.csv\"\n",
    "debate = Table().read_table(file, skiprows=2)\n",
    "debate"
   ]
  },
  {
   "cell_type": "code",
   "execution_count": 5,
   "id": "ba9fa3c3-fc09-423b-8ec7-6531cb7eaf6b",
   "metadata": {
    "tags": []
   },
   "outputs": [
    {
     "data": {
      "text/plain": [
       "92.0"
      ]
     },
     "execution_count": 5,
     "metadata": {},
     "output_type": "execute_result"
    },
    {
     "data": {
      "image/png": "[encoded data removed]",
      "text/plain": [
       "<Figure size 640x480 with 1 Axes>"
      ]
     },
     "metadata": {},
     "output_type": "display_data"
    }
   ],
   "source": [
    "import EDS\n",
    "# Use ptrend (short for plot trend) to plot this data.\n",
    "# This function expects you to provide a table name, and the x and y column names\n",
    "# Optionally, you can format the dates on the x-axis\n",
    "# fmtdate=\"%b-%Y\" tell it to use short-version month names (%b), hyphen, then year (%Y).\n",
    "EDS.ptrend(debate,\"Day\",\"debate: (United States)\",fmtdate=\"%b-%Y\")"
   ]
  },
  {
   "cell_type": "markdown",
   "id": "6173cece-b2ec-4cb5-998a-ec5f7bf09b63",
   "metadata": {},
   "source": [
    "## Philadelphia COVID Tests by ZIP (CSV)\n",
    "[Philly Open Data](https://www.opendataphilly.org/dataset/covid-cases/resource/d4d1e48a-d401-405c-972b-c45292c3d4f5?inner_span=True)"
   ]
  },
  {
   "cell_type": "code",
   "execution_count": null,
   "id": "bf9db7d8-2661-4fcd-bc10-6f80d8c69a71",
   "metadata": {},
   "outputs": [],
   "source": [
    "PHLcovid =\"https://phl.carto.com/api/v2/sql?q=SELECT+*+FROM+covid_cases_by_zip&filename=covid_cases_by_zip&format=csv&skipfields=cartodb_id\"\n",
    "\n",
    "Cdata = Table().read_table(PHLcovid)\n",
    "Cdata.where('covid_status','POS').sort('count',descending=True)"
   ]
  },
  {
   "cell_type": "code",
   "execution_count": null,
   "id": "2ea0e377-16a5-43b1-b87d-71d34e8fe43a",
   "metadata": {},
   "outputs": [],
   "source": [
    "Cdata.where('covid_status','POS').sort('count',descending=True).hist('count')"
   ]
  },
  {
   "cell_type": "code",
   "execution_count": null,
   "id": "adf84487-dc9d-47ed-9db4-210d9bf4ffe5",
   "metadata": {},
   "outputs": [],
   "source": [
    "Cdata.where('covid_status','NEG').sort('count',descending=True).where('count',are.below(200000)).hist('count')"
   ]
  },
  {
   "cell_type": "code",
   "execution_count": null,
   "id": "307df8b7-818b-4cfd-a5cb-ca2780a2fc72",
   "metadata": {},
   "outputs": [],
   "source": []
  }
 ],
 "metadata": {
  "kernelspec": {
   "display_name": "Python 3 (ipykernel)",
   "language": "python",
   "name": "python3"
  },
  "language_info": {
   "codemirror_mode": {
    "name": "ipython",
    "version": 3
   },
   "file_extension": ".py",
   "mimetype": "text/x-python",
   "name": "python",
   "nbconvert_exporter": "python",
   "pygments_lexer": "ipython3",
   "version": "3.10.11"
  }
 },
 "nbformat": 4,
 "nbformat_minor": 5
}
