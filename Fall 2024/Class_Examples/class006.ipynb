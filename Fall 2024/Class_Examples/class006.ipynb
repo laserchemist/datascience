{
 "cells": [
  {
   "cell_type": "markdown",
   "id": "f29b42b8-2359-4774-9290-a1411be89a04",
   "metadata": {},
   "source": [
    "## Class 006 Tables tested"
   ]
  },
  {
   "cell_type": "code",
   "execution_count": 1,
   "id": "8b570ee0-306d-4fad-8ffa-e4b3b356922e",
   "metadata": {
    "tags": []
   },
   "outputs": [],
   "source": [
    "from datascience import *\n",
    "import numpy as np\n",
    "%matplotlib inline\n",
    "import matplotlib.pyplot as plots\n",
    "plots.style.use('fivethirtyeight')"
   ]
  },
  {
   "cell_type": "markdown",
   "id": "296f5b49-1c3b-4cec-bdc7-39f3bcac2b64",
   "metadata": {},
   "source": [
    "### Create a first datascience table object from an array\n",
    "As an example we can create a table directly from data inserted into an arr"
   ]
  },
  {
   "cell_type": "code",
   "execution_count": null,
   "id": "67c59a8e-fdba-4390-be3c-66ce031da766",
   "metadata": {},
   "outputs": [],
   "source": [
    "T=Table().with_columns('Tornados',make_array(0,0,0,1,0,0,0,1,5,1,0,0))"
   ]
  },
  {
   "cell_type": "code",
   "execution_count": null,
   "id": "6342bfd6-7410-422d-a1d7-d78569a0c923",
   "metadata": {},
   "outputs": [],
   "source": [
    "make_array(0,0,0,1,0,0,0,1,5,1,0,0)"
   ]
  },
  {
   "cell_type": "code",
   "execution_count": null,
   "id": "6e55ed11-88ab-46af-92e5-d702dbef8c8f",
   "metadata": {},
   "outputs": [],
   "source": [
    "import numpy as np\n",
    "T=T.with_columns('Month',np.arange(1,13,1))"
   ]
  },
  {
   "cell_type": "code",
   "execution_count": null,
   "id": "7e4654c5-3c27-4230-bb55-fce1450dbd13",
   "metadata": {},
   "outputs": [],
   "source": [
    "T"
   ]
  },
  {
   "cell_type": "code",
   "execution_count": null,
   "id": "cbb1a72d-9dc0-4a3d-8d09-a16def7346f6",
   "metadata": {},
   "outputs": [],
   "source": [
    "import numpy as np\n",
    "T=T.with_columns('Month',np.arange(1,13))"
   ]
  },
  {
   "cell_type": "code",
   "execution_count": null,
   "id": "205d03a4-76e3-4343-a834-ff74345ea3f9",
   "metadata": {},
   "outputs": [],
   "source": [
    "T.sort(0,descending=True)"
   ]
  },
  {
   "cell_type": "code",
   "execution_count": null,
   "id": "b30839e7-cb4f-43e0-b702-2c4fa6209715",
   "metadata": {},
   "outputs": [],
   "source": [
    "T=T.with_columns(\"Odd\",T.column(1)%2).where(\"Odd\",0)\n",
    "T"
   ]
  },
  {
   "cell_type": "markdown",
   "id": "b81b1987-aad6-4494-9ab1-7d668d7901d6",
   "metadata": {},
   "source": [
    "### Census data example"
   ]
  },
  {
   "cell_type": "code",
   "execution_count": 2,
   "id": "0c46d4bd-1a53-4fcd-9193-c1d9e3f63c4c",
   "metadata": {
    "tags": []
   },
   "outputs": [
    {
     "data": {
      "text/html": [
       "<table border=\"1\" class=\"dataframe\">\n",
       "    <thead>\n",
       "        <tr>\n",
       "            <th>SEX</th> <th>AGE</th> <th>CENSUS2010POP</th> <th>ESTIMATESBASE2010</th> <th>POPESTIMATE2010</th> <th>POPESTIMATE2011</th> <th>POPESTIMATE2012</th> <th>POPESTIMATE2013</th> <th>POPESTIMATE2014</th> <th>POPESTIMATE2015</th> <th>POPESTIMATE2016</th> <th>POPESTIMATE2017</th> <th>POPESTIMATE2018</th> <th>POPESTIMATE2019</th> <th>POPESTIMATE2020</th>\n",
       "        </tr>\n",
       "    </thead>\n",
       "    <tbody>\n",
       "        <tr>\n",
       "            <td>0   </td> <td>0   </td> <td>3944153      </td> <td>3944160          </td> <td>3951495        </td> <td>3963264        </td> <td>3926731        </td> <td>3931411        </td> <td>3954973        </td> <td>3984144        </td> <td>3963268        </td> <td>3882437        </td> <td>3826908        </td> <td>3762227        </td> <td>3735010        </td>\n",
       "        </tr>\n",
       "        <tr>\n",
       "            <td>0   </td> <td>1   </td> <td>3978070      </td> <td>3978090          </td> <td>3957904        </td> <td>3966768        </td> <td>3978210        </td> <td>3943348        </td> <td>3949559        </td> <td>3973828        </td> <td>4003586        </td> <td>3981864        </td> <td>3897917        </td> <td>3842257        </td> <td>3773884        </td>\n",
       "        </tr>\n",
       "        <tr>\n",
       "            <td>0   </td> <td>2   </td> <td>4096929      </td> <td>4096939          </td> <td>4090799        </td> <td>3971498        </td> <td>3980139        </td> <td>3993047        </td> <td>3960015        </td> <td>3967672        </td> <td>3992657        </td> <td>4021261        </td> <td>3996742        </td> <td>3911822        </td> <td>3853025        </td>\n",
       "        </tr>\n",
       "        <tr>\n",
       "            <td>0   </td> <td>3   </td> <td>4119040      </td> <td>4119051          </td> <td>4111869        </td> <td>4102429        </td> <td>3983007        </td> <td>3992839        </td> <td>4007852        </td> <td>3976277        </td> <td>3984985        </td> <td>4009060        </td> <td>4035053        </td> <td>4009037        </td> <td>3921526        </td>\n",
       "        </tr>\n",
       "        <tr>\n",
       "            <td>0   </td> <td>4   </td> <td>4063170      </td> <td>4063186          </td> <td>4077511        </td> <td>4122252        </td> <td>4112849        </td> <td>3994539        </td> <td>4006407        </td> <td>4022785        </td> <td>3992241        </td> <td>4000394        </td> <td>4021907        </td> <td>4045996        </td> <td>4017847        </td>\n",
       "        </tr>\n",
       "        <tr>\n",
       "            <td>0   </td> <td>5   </td> <td>4056858      </td> <td>4056872          </td> <td>4064653        </td> <td>4087770        </td> <td>4132349        </td> <td>4123745        </td> <td>4007123        </td> <td>4020489        </td> <td>4038022        </td> <td>4007233        </td> <td>4012789        </td> <td>4032231        </td> <td>4054336        </td>\n",
       "        </tr>\n",
       "        <tr>\n",
       "            <td>0   </td> <td>6   </td> <td>4066381      </td> <td>4066412          </td> <td>4073031        </td> <td>4075153        </td> <td>4097860        </td> <td>4142923        </td> <td>4135738        </td> <td>4020428        </td> <td>4034969        </td> <td>4052428        </td> <td>4019106        </td> <td>4022432        </td> <td>4040169        </td>\n",
       "        </tr>\n",
       "        <tr>\n",
       "            <td>0   </td> <td>7   </td> <td>4030579      </td> <td>4030594          </td> <td>4043100        </td> <td>4083399        </td> <td>4085255        </td> <td>4108453        </td> <td>4154947        </td> <td>4148711        </td> <td>4034355        </td> <td>4048430        </td> <td>4063647        </td> <td>4027876        </td> <td>4029753        </td>\n",
       "        </tr>\n",
       "        <tr>\n",
       "            <td>0   </td> <td>8   </td> <td>4046486      </td> <td>4046497          </td> <td>4025624        </td> <td>4053313        </td> <td>4093553        </td> <td>4096033        </td> <td>4120476        </td> <td>4167765        </td> <td>4162142        </td> <td>4047130        </td> <td>4059209        </td> <td>4071894        </td> <td>4034785        </td>\n",
       "        </tr>\n",
       "        <tr>\n",
       "            <td>0   </td> <td>9   </td> <td>4148353      </td> <td>4148369          </td> <td>4125413        </td> <td>4035854        </td> <td>4063662        </td> <td>4104437        </td> <td>4107986        </td> <td>4133426        </td> <td>4181069        </td> <td>4175085        </td> <td>4058207        </td> <td>4067320        </td> <td>4078668        </td>\n",
       "        </tr>\n",
       "    </tbody>\n",
       "</table>\n",
       "<p>... (296 rows omitted)</p>"
      ],
      "text/plain": [
       "SEX  | AGE  | CENSUS2010POP | ESTIMATESBASE2010 | POPESTIMATE2010 | POPESTIMATE2011 | POPESTIMATE2012 | POPESTIMATE2013 | POPESTIMATE2014 | POPESTIMATE2015 | POPESTIMATE2016 | POPESTIMATE2017 | POPESTIMATE2018 | POPESTIMATE2019 | POPESTIMATE2020\n",
       "0    | 0    | 3944153       | 3944160           | 3951495         | 3963264         | 3926731         | 3931411         | 3954973         | 3984144         | 3963268         | 3882437         | 3826908         | 3762227         | 3735010\n",
       "0    | 1    | 3978070       | 3978090           | 3957904         | 3966768         | 3978210         | 3943348         | 3949559         | 3973828         | 4003586         | 3981864         | 3897917         | 3842257         | 3773884\n",
       "0    | 2    | 4096929       | 4096939           | 4090799         | 3971498         | 3980139         | 3993047         | 3960015         | 3967672         | 3992657         | 4021261         | 3996742         | 3911822         | 3853025\n",
       "0    | 3    | 4119040       | 4119051           | 4111869         | 4102429         | 3983007         | 3992839         | 4007852         | 3976277         | 3984985         | 4009060         | 4035053         | 4009037         | 3921526\n",
       "0    | 4    | 4063170       | 4063186           | 4077511         | 4122252         | 4112849         | 3994539         | 4006407         | 4022785         | 3992241         | 4000394         | 4021907         | 4045996         | 4017847\n",
       "0    | 5    | 4056858       | 4056872           | 4064653         | 4087770         | 4132349         | 4123745         | 4007123         | 4020489         | 4038022         | 4007233         | 4012789         | 4032231         | 4054336\n",
       "0    | 6    | 4066381       | 4066412           | 4073031         | 4075153         | 4097860         | 4142923         | 4135738         | 4020428         | 4034969         | 4052428         | 4019106         | 4022432         | 4040169\n",
       "0    | 7    | 4030579       | 4030594           | 4043100         | 4083399         | 4085255         | 4108453         | 4154947         | 4148711         | 4034355         | 4048430         | 4063647         | 4027876         | 4029753\n",
       "0    | 8    | 4046486       | 4046497           | 4025624         | 4053313         | 4093553         | 4096033         | 4120476         | 4167765         | 4162142         | 4047130         | 4059209         | 4071894         | 4034785\n",
       "0    | 9    | 4148353       | 4148369           | 4125413         | 4035854         | 4063662         | 4104437         | 4107986         | 4133426         | 4181069         | 4175085         | 4058207         | 4067320         | 4078668\n",
       "... (296 rows omitted)"
      ]
     },
     "execution_count": 2,
     "metadata": {},
     "output_type": "execute_result"
    }
   ],
   "source": [
    "data = 'http://www2.census.gov/programs-surveys/popest/datasets/2010-2020/national/asrh/nc-est2020-agesex-res.csv'\n",
    "\n",
    "\n",
    "full_census_table = Table().read_table(data)\n",
    "full_census_table"
   ]
  },
  {
   "cell_type": "code",
   "execution_count": null,
   "id": "b7082ced-593c-42f2-8a85-bdf28490f5ac",
   "metadata": {},
   "outputs": [],
   "source": [
    "partial_census_table = full_census_table.select('SEX', 'AGE', 'POPESTIMATE2010', 'POPESTIMATE2020')\n",
    "partial_census_table"
   ]
  },
  {
   "cell_type": "code",
   "execution_count": null,
   "id": "587dd336-4bf0-4b72-9522-714d15ba2344",
   "metadata": {},
   "outputs": [],
   "source": [
    "type(3*partial_census_table.column(\"AGE\"))"
   ]
  },
  {
   "cell_type": "code",
   "execution_count": null,
   "id": "4dcc5207-4254-4c77-b035-699a9577963f",
   "metadata": {},
   "outputs": [],
   "source": [
    "us_pop = partial_census_table.relabeled('POPESTIMATE2010', '2010').relabeled('POPESTIMATE2020', '2020').relabeled('SEX','GENDER')\n",
    "us_pop"
   ]
  },
  {
   "cell_type": "code",
   "execution_count": null,
   "id": "0c463bc2-3e1c-4755-bfca-6ffe604cefd8",
   "metadata": {},
   "outputs": [],
   "source": [
    "type(us_pop)"
   ]
  },
  {
   "cell_type": "code",
   "execution_count": null,
   "id": "5af64f24-76ab-49ef-8bd1-82261306e7b7",
   "metadata": {},
   "outputs": [],
   "source": [
    "us_pop.where('AGE',81)"
   ]
  },
  {
   "cell_type": "code",
   "execution_count": null,
   "id": "fb08c304-2f6d-4bce-99ff-b219828b70d6",
   "metadata": {},
   "outputs": [],
   "source": [
    "us_pop.where('AGE',70)"
   ]
  },
  {
   "cell_type": "code",
   "execution_count": null,
   "id": "39326e89-d4cb-461a-b3e8-3d8b99e99267",
   "metadata": {},
   "outputs": [],
   "source": [
    "us_pop.where('GENDER',0).select('AGE','2010','2020').where('AGE',are.below(100)).plot('AGE')"
   ]
  },
  {
   "cell_type": "code",
   "execution_count": null,
   "id": "7c3b0c77-f6f1-4882-babe-e6dba850b341",
   "metadata": {},
   "outputs": [],
   "source": [
    "us_pop.where('GENDER',0).select('AGE','2010','2020').where('AGE',are.below(100))"
   ]
  },
  {
   "cell_type": "markdown",
   "id": "e56c80fa-8de0-43c8-b0ab-65cfd5615098",
   "metadata": {},
   "source": [
    "### Google Trend Data"
   ]
  },
  {
   "cell_type": "code",
   "execution_count": 4,
   "id": "50a563aa-aba5-4ba5-90e5-5235b0506fe6",
   "metadata": {
    "tags": []
   },
   "outputs": [
    {
     "data": {
      "text/html": [
       "<table border=\"1\" class=\"dataframe\">\n",
       "    <thead>\n",
       "        <tr>\n",
       "            <th>Week</th> <th>Chemistry: (United States)</th> <th>Biology: (United States)</th> <th>Nobel Prize: (United States)</th>\n",
       "        </tr>\n",
       "    </thead>\n",
       "    <tbody>\n",
       "        <tr>\n",
       "            <td>2019-02-03</td> <td>42                        </td> <td>40                      </td> <td>4                           </td>\n",
       "        </tr>\n",
       "        <tr>\n",
       "            <td>2019-02-10</td> <td>42                        </td> <td>38                      </td> <td>5                           </td>\n",
       "        </tr>\n",
       "        <tr>\n",
       "            <td>2019-02-17</td> <td>36                        </td> <td>33                      </td> <td>6                           </td>\n",
       "        </tr>\n",
       "        <tr>\n",
       "            <td>2019-02-24</td> <td>39                        </td> <td>37                      </td> <td>5                           </td>\n",
       "        </tr>\n",
       "        <tr>\n",
       "            <td>2019-03-03</td> <td>39                        </td> <td>37                      </td> <td>4                           </td>\n",
       "        </tr>\n",
       "        <tr>\n",
       "            <td>2019-03-10</td> <td>33                        </td> <td>31                      </td> <td>4                           </td>\n",
       "        </tr>\n",
       "        <tr>\n",
       "            <td>2019-03-17</td> <td>34                        </td> <td>32                      </td> <td>4                           </td>\n",
       "        </tr>\n",
       "        <tr>\n",
       "            <td>2019-03-24</td> <td>35                        </td> <td>33                      </td> <td>3                           </td>\n",
       "        </tr>\n",
       "        <tr>\n",
       "            <td>2019-03-31</td> <td>37                        </td> <td>36                      </td> <td>3                           </td>\n",
       "        </tr>\n",
       "        <tr>\n",
       "            <td>2019-04-07</td> <td>38                        </td> <td>36                      </td> <td>3                           </td>\n",
       "        </tr>\n",
       "    </tbody>\n",
       "</table>\n",
       "<p>... (250 rows omitted)</p>"
      ],
      "text/plain": [
       "Week       | Chemistry: (United States) | Biology: (United States) | Nobel Prize: (United States)\n",
       "2019-02-03 | 42                         | 40                       | 4\n",
       "2019-02-10 | 42                         | 38                       | 5\n",
       "2019-02-17 | 36                         | 33                       | 6\n",
       "2019-02-24 | 39                         | 37                       | 5\n",
       "2019-03-03 | 39                         | 37                       | 4\n",
       "2019-03-10 | 33                         | 31                       | 4\n",
       "2019-03-17 | 34                         | 32                       | 4\n",
       "2019-03-24 | 35                         | 33                       | 3\n",
       "2019-03-31 | 37                         | 36                       | 3\n",
       "2019-04-07 | 38                         | 36                       | 3\n",
       "... (250 rows omitted)"
      ]
     },
     "execution_count": 4,
     "metadata": {},
     "output_type": "execute_result"
    }
   ],
   "source": [
    "file_original = \"data/multiTimeline-9.csv\"\n",
    "file = \"data/ChemBioNobelTrend.csv\"\n",
    "ChemBio = Table().read_table(file_original, skiprows=2)\n",
    "ChemBio"
   ]
  },
  {
   "cell_type": "code",
   "execution_count": 7,
   "id": "cc5d09d6-84a0-4070-9e5b-e51ebea4f57d",
   "metadata": {
    "tags": []
   },
   "outputs": [
    {
     "data": {
      "text/html": [
       "<table border=\"1\" class=\"dataframe\">\n",
       "    <thead>\n",
       "        <tr>\n",
       "            <th>Day</th> <th>debate: (United States)</th> <th>harris: (United States)</th> <th>trump: (United States)</th> <th>Joe Biden: (United States)</th>\n",
       "        </tr>\n",
       "    </thead>\n",
       "    <tbody>\n",
       "        <tr>\n",
       "            <td>2024-06-12</td> <td><1                     </td> <td>1                      </td> <td>2                     </td> <td>1                         </td>\n",
       "        </tr>\n",
       "        <tr>\n",
       "            <td>2024-06-13</td> <td><1                     </td> <td>1                      </td> <td>2                     </td> <td>1                         </td>\n",
       "        </tr>\n",
       "        <tr>\n",
       "            <td>2024-06-14</td> <td><1                     </td> <td>1                      </td> <td>3                     </td> <td>1                         </td>\n",
       "        </tr>\n",
       "        <tr>\n",
       "            <td>2024-06-15</td> <td><1                     </td> <td>1                      </td> <td>2                     </td> <td>1                         </td>\n",
       "        </tr>\n",
       "        <tr>\n",
       "            <td>2024-06-16</td> <td><1                     </td> <td>1                      </td> <td>2                     </td> <td>1                         </td>\n",
       "        </tr>\n",
       "        <tr>\n",
       "            <td>2024-06-17</td> <td><1                     </td> <td>1                      </td> <td>2                     </td> <td>2                         </td>\n",
       "        </tr>\n",
       "        <tr>\n",
       "            <td>2024-06-18</td> <td><1                     </td> <td>1                      </td> <td>2                     </td> <td>2                         </td>\n",
       "        </tr>\n",
       "        <tr>\n",
       "            <td>2024-06-19</td> <td><1                     </td> <td>1                      </td> <td>2                     </td> <td>1                         </td>\n",
       "        </tr>\n",
       "        <tr>\n",
       "            <td>2024-06-20</td> <td>1                      </td> <td>1                      </td> <td>2                     </td> <td>1                         </td>\n",
       "        </tr>\n",
       "        <tr>\n",
       "            <td>2024-06-21</td> <td>1                      </td> <td>1                      </td> <td>2                     </td> <td>1                         </td>\n",
       "        </tr>\n",
       "    </tbody>\n",
       "</table>\n",
       "<p>... (83 rows omitted)</p>"
      ],
      "text/plain": [
       "Day        | debate: (United States) | harris: (United States) | trump: (United States) | Joe Biden: (United States)\n",
       "2024-06-12 | <1                      | 1                       | 2                      | 1\n",
       "2024-06-13 | <1                      | 1                       | 2                      | 1\n",
       "2024-06-14 | <1                      | 1                       | 3                      | 1\n",
       "2024-06-15 | <1                      | 1                       | 2                      | 1\n",
       "2024-06-16 | <1                      | 1                       | 2                      | 1\n",
       "2024-06-17 | <1                      | 1                       | 2                      | 2\n",
       "2024-06-18 | <1                      | 1                       | 2                      | 2\n",
       "2024-06-19 | <1                      | 1                       | 2                      | 1\n",
       "2024-06-20 | 1                       | 1                       | 2                      | 1\n",
       "2024-06-21 | 1                       | 1                       | 2                      | 1\n",
       "... (83 rows omitted)"
      ]
     },
     "execution_count": 7,
     "metadata": {},
     "output_type": "execute_result"
    }
   ],
   "source": [
    "file = \"data/GoogleTrend_debate.csv\"\n",
    "debate = Table().read_table(file, skiprows=2)\n",
    "debate"
   ]
  },
  {
   "cell_type": "markdown",
   "id": "6173cece-b2ec-4cb5-998a-ec5f7bf09b63",
   "metadata": {},
   "source": [
    "## Philadelphia COVID Tests by ZIP (CSV)\n",
    "[Philly Open Data](https://www.opendataphilly.org/dataset/covid-cases/resource/d4d1e48a-d401-405c-972b-c45292c3d4f5?inner_span=True)"
   ]
  },
  {
   "cell_type": "code",
   "execution_count": null,
   "id": "bf9db7d8-2661-4fcd-bc10-6f80d8c69a71",
   "metadata": {},
   "outputs": [],
   "source": [
    "PHLcovid =\"https://phl.carto.com/api/v2/sql?q=SELECT+*+FROM+covid_cases_by_zip&filename=covid_cases_by_zip&format=csv&skipfields=cartodb_id\"\n",
    "\n",
    "Cdata = Table().read_table(PHLcovid)\n",
    "Cdata.where('covid_status','POS').sort('count',descending=True)"
   ]
  },
  {
   "cell_type": "code",
   "execution_count": null,
   "id": "2ea0e377-16a5-43b1-b87d-71d34e8fe43a",
   "metadata": {},
   "outputs": [],
   "source": [
    "Cdata.where('covid_status','POS').sort('count',descending=True).hist('count')"
   ]
  },
  {
   "cell_type": "code",
   "execution_count": null,
   "id": "adf84487-dc9d-47ed-9db4-210d9bf4ffe5",
   "metadata": {},
   "outputs": [],
   "source": [
    "Cdata.where('covid_status','NEG').sort('count',descending=True).where('count',are.below(200000)).hist('count')"
   ]
  },
  {
   "cell_type": "code",
   "execution_count": null,
   "id": "307df8b7-818b-4cfd-a5cb-ca2780a2fc72",
   "metadata": {},
   "outputs": [],
   "source": []
  }
 ],
 "metadata": {
  "kernelspec": {
   "display_name": "Python 3 (ipykernel)",
   "language": "python",
   "name": "python3"
  },
  "language_info": {
   "codemirror_mode": {
    "name": "ipython",
    "version": 3
   },
   "file_extension": ".py",
   "mimetype": "text/x-python",
   "name": "python",
   "nbconvert_exporter": "python",
   "pygments_lexer": "ipython3",
   "version": "3.10.11"
  }
 },
 "nbformat": 4,
 "nbformat_minor": 5
}
