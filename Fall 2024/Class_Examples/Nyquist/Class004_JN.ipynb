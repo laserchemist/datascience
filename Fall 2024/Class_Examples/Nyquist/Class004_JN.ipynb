{
 "cells": [
  {
   "cell_type": "markdown",
   "id": "a5298216-6459-413f-9f5c-1813d9c90912",
   "metadata": {},
   "source": [
    "# Review of Lab 01\n",
    "\n",
    "<font color=blue> **Question 2.** </font><br /> Assign the name `seconds_since_2000` to the number of seconds between midnight January 1, 2000 and midnight January 1, 2022. Use Python to perform any required arithmetic. \n",
    "\n",
    "*Hint 1:* If you're stuck, the next section shows you how to get hints. </br>\n",
    "*Hint 2:* There are 6 leap years between 2000 and 2022.  "
   ]
  },
  {
   "cell_type": "code",
   "execution_count": 2,
   "id": "51040aeb-c0d2-4387-958d-82085b688f22",
   "metadata": {
    "tags": []
   },
   "outputs": [
    {
     "data": {
      "text/plain": [
       "694310400"
      ]
     },
     "execution_count": 2,
     "metadata": {},
     "output_type": "execute_result"
    }
   ],
   "source": [
    "seconds_per_minute = 60\n",
    "minutes_per_hour = 60\n",
    "hours_per_day = 24\n",
    "days_per_year = 365\n",
    "number_of_years = 22\n",
    "number_of_leap_days = 6\n",
    "\n",
    "seconds_per_day = seconds_per_minute * minutes_per_hour * hours_per_day\n",
    "seconds_per_year = seconds_per_day * days_per_year\n",
    "\n",
    "seconds_since_2000 = number_of_years * seconds_per_year + number_of_leap_days * seconds_per_day\n",
    "seconds_since_2000"
   ]
  },
  {
   "cell_type": "markdown",
   "id": "2a820cb5-28e2-4d0c-b8f6-8ebf604590c0",
   "metadata": {},
   "source": [
    "<font color=blue> **Question 3.** </font><br />\n",
    "In addition to learning Python's syntax, a critical skill is learning to translate the problem you want to solve into code. You just did that to solve Question 2. Here is one more example for practice.\n",
    "\n",
    "Assume a sheet of paper is 0.1 mm thick. If you could fold it in half 27 times, how high would the resulting bundle of paper reach in kilometers? (Note: Mt Everest is only 8.8 km tall).\n",
    "\n",
    "*Hint: Watch your units!*"
   ]
  },
  {
   "cell_type": "code",
   "execution_count": 4,
   "id": "12e77bc9-58eb-43ce-8d73-ee81d60ad8c8",
   "metadata": {
    "tags": []
   },
   "outputs": [
    {
     "data": {
      "text/plain": [
       "13.4217728"
      ]
     },
     "execution_count": 4,
     "metadata": {},
     "output_type": "execute_result"
    }
   ],
   "source": [
    "bundle_height_mm = 0.1 * 2**27\n",
    "\n",
    "# 1000 mm in a meter, 1000 m in a kilometer\n",
    "mm_to_km = 1 / (1000 * 1000)\n",
    "\n",
    "bundle_height_km = bundle_height_mm * mm_to_km\n",
    "bundle_height_km"
   ]
  },
  {
   "cell_type": "markdown",
   "id": "e74d8744-377b-46fb-8300-65ca56cec6b4",
   "metadata": {
    "tags": []
   },
   "source": [
    "<font color=blue> **Another word problem** </font>\n",
    "\n",
    "5 hockey pucks and three hockey sticks cost 23 dollars. <br>\n",
    "5 hockey pucks and 1 hockey stick cost 20 dollars.<br>\n",
    "How much does 1 hockey puck cost?\" "
   ]
  },
  {
   "cell_type": "code",
   "execution_count": null,
   "id": "da824ef1-41d9-4b4c-a5ea-4e5fe9f4b238",
   "metadata": {},
   "outputs": [],
   "source": []
  },
  {
   "cell_type": "markdown",
   "id": "b72fcc7b-9dc8-4e4f-9ed4-31566ecf0d9f",
   "metadata": {},
   "source": [
    "# Data Types\n",
    "\n",
    "## Lists\n",
    "\n",
    " Until now your variables all pointed to single values: ints, floats, strings. Python has a variety of data types that are collections. One of the more versatile and commonly used is the list."
   ]
  },
  {
   "cell_type": "code",
   "execution_count": 1,
   "id": "3abbbc5c-6fae-4f34-8da9-3919b921a297",
   "metadata": {
    "tags": []
   },
   "outputs": [
    {
     "data": {
      "text/plain": [
       "['Sally', 'Mark', 'Kummar', 'Maria']"
      ]
     },
     "execution_count": 1,
     "metadata": {},
     "output_type": "execute_result"
    }
   ],
   "source": [
    "# Create a list using square brackets\n",
    "name = ['Sally', \"Mark\", \"Kummar\", \"Maria\"]\n",
    "name"
   ]
  },
  {
   "cell_type": "code",
   "execution_count": 2,
   "id": "cacb2aa8-45da-4abc-8cb1-0b94f863d12c",
   "metadata": {
    "tags": []
   },
   "outputs": [
    {
     "data": {
      "text/plain": [
       "4"
      ]
     },
     "execution_count": 2,
     "metadata": {},
     "output_type": "execute_result"
    }
   ],
   "source": [
    "# Show the length of the list\n",
    "len(name)"
   ]
  },
  {
   "cell_type": "code",
   "execution_count": 3,
   "id": "3c0a117f-7aa3-41c6-9e83-0d5cf6fab26b",
   "metadata": {
    "tags": []
   },
   "outputs": [
    {
     "name": "stdout",
     "output_type": "stream",
     "text": [
      "Mark\n",
      "Maria\n"
     ]
    }
   ],
   "source": [
    "# Reference a single element from the list\n",
    "# Note: the first elements is element zero\n",
    "\n",
    "print(name[1])\n",
    "print(name[3])"
   ]
  },
  {
   "cell_type": "code",
   "execution_count": 4,
   "id": "42762dbb-1bb2-413a-bf7d-983e89fe08d0",
   "metadata": {
    "tags": []
   },
   "outputs": [
    {
     "data": {
      "text/plain": [
       "['Sally', 'Mark', 'Kummar', 'Maria', 'Pierre']"
      ]
     },
     "execution_count": 4,
     "metadata": {},
     "output_type": "execute_result"
    }
   ],
   "source": [
    "# Add another name to the list\n",
    "name.append('Pierre')\n",
    "name"
   ]
  },
  {
   "cell_type": "code",
   "execution_count": 5,
   "id": "f56635fd-b262-4a5e-8cdb-421267029646",
   "metadata": {
    "tags": []
   },
   "outputs": [
    {
     "name": "stdout",
     "output_type": "stream",
     "text": [
      "['Sally', 'Kummar', 'Maria', 'Pierre']\n"
     ]
    }
   ],
   "source": [
    "# Remove an element from the list\n",
    "name.remove('Mark')\n",
    "print(name)"
   ]
  },
  {
   "cell_type": "code",
   "execution_count": 6,
   "id": "ff1599a3-d015-4b4a-8baa-a10651a2a99b",
   "metadata": {
    "tags": []
   },
   "outputs": [
    {
     "data": {
      "text/plain": [
       "[1, 2, 3, 'Pizza', 'Hamburgers', 'Tacos']"
      ]
     },
     "execution_count": 6,
     "metadata": {},
     "output_type": "execute_result"
    }
   ],
   "source": [
    "# Lists can be concatenated together, just like strings\n",
    "list1 = [1, 2, 3]\n",
    "list2 = [\"Pizza\", \"Hamburgers\", \"Tacos\"]\n",
    "list3 = list1 + list2\n",
    "list3"
   ]
  },
  {
   "cell_type": "markdown",
   "id": "e18b9b66-fdd1-40d3-b6f8-5af33e27ec06",
   "metadata": {},
   "source": [
    "Notice that elements of a list do not have to be all the same type of data. list3 has three integers and three strings.\n",
    "\n",
    "\n",
    "**Challenge: I've had entirely too much pizza. Remove \"pizza\" from list3.**"
   ]
  },
  {
   "cell_type": "code",
   "execution_count": null,
   "id": "167b3cba-df36-467f-b654-47b57dd7efe7",
   "metadata": {},
   "outputs": [],
   "source": []
  },
  {
   "cell_type": "code",
   "execution_count": 7,
   "id": "bcb4cec9-3eae-4798-b36b-ab72b15f5d92",
   "metadata": {
    "tags": []
   },
   "outputs": [
    {
     "data": {
      "text/plain": [
       "[1, 2, 3, ['dog', 'cat']]"
      ]
     },
     "execution_count": 7,
     "metadata": {},
     "output_type": "execute_result"
    }
   ],
   "source": [
    "# A list can even contain other lists\n",
    "nested_list = [ 1, 2, 3, ['dog', 'cat']]\n",
    "nested_list"
   ]
  },
  {
   "cell_type": "code",
   "execution_count": 8,
   "id": "b2eb6ff8-267f-4a44-915a-ccc9056c44d8",
   "metadata": {
    "tags": []
   },
   "outputs": [
    {
     "data": {
      "text/plain": [
       "4"
      ]
     },
     "execution_count": 8,
     "metadata": {},
     "output_type": "execute_result"
    }
   ],
   "source": [
    "# The list is only four elements long\n",
    "# The last element being another list\n",
    "len(nested_list)"
   ]
  },
  {
   "cell_type": "code",
   "execution_count": 9,
   "id": "ccbc90b4-c83c-4c65-b87e-ddfdc7d0d5bb",
   "metadata": {
    "tags": []
   },
   "outputs": [
    {
     "data": {
      "text/plain": [
       "'dog'"
      ]
     },
     "execution_count": 9,
     "metadata": {},
     "output_type": "execute_result"
    }
   ],
   "source": [
    "# How would we reference the element 'dog' inside the list within the list?\n",
    "nested_list[3][0]"
   ]
  },
  {
   "cell_type": "markdown",
   "id": "80d86a50-ab54-4188-8ed0-11f765cd66a1",
   "metadata": {},
   "source": [
    "**Challenge: See if you can index this list to extract 'the prize'**"
   ]
  },
  {
   "cell_type": "code",
   "execution_count": 7,
   "id": "13665674-748b-404d-a779-507ff45ee4ab",
   "metadata": {
    "tags": []
   },
   "outputs": [
    {
     "data": {
      "text/plain": [
       "[1, 2, 5, 7, ['hot dogs', 'cracker jacks', 'the prize'], 13, 17]"
      ]
     },
     "execution_count": 7,
     "metadata": {},
     "output_type": "execute_result"
    }
   ],
   "source": [
    "list4 = [1, 2, 5, 7, ['hot dogs', 'cracker jacks', 'the prize'], 13, 17]\n",
    "list4"
   ]
  },
  {
   "cell_type": "code",
   "execution_count": 9,
   "id": "0f70e09a-a27f-4e1f-8487-1b8fb1540e6f",
   "metadata": {},
   "outputs": [
    {
     "data": {
      "text/plain": [
       "'the prize'"
      ]
     },
     "execution_count": 9,
     "metadata": {},
     "output_type": "execute_result"
    }
   ],
   "source": [
    "list4[4][2]"
   ]
  },
  {
   "cell_type": "markdown",
   "id": "f1c1f783-e222-4347-b706-b6dcb2fbc679",
   "metadata": {},
   "source": [
    "## Slicing\n",
    "You can reference a subset of a list, This is called \"slicing.\""
   ]
  },
  {
   "cell_type": "code",
   "execution_count": 10,
   "id": "4b7b7499-38f9-46ed-91f1-843a16fe6722",
   "metadata": {
    "tags": []
   },
   "outputs": [
    {
     "data": {
      "text/plain": [
       "[1, 2, 3, 5, 7, 11, 13, 17, 19, 23]"
      ]
     },
     "execution_count": 10,
     "metadata": {},
     "output_type": "execute_result"
    }
   ],
   "source": [
    "prime_nums = [1, 2, 3, 5, 7, 11, 13, 17, 19, 23]\n",
    "prime_nums"
   ]
  },
  {
   "cell_type": "code",
   "execution_count": 11,
   "id": "cfba3f4d-82e9-45bd-b2d8-4b9362d0520d",
   "metadata": {
    "tags": []
   },
   "outputs": [
    {
     "data": {
      "text/plain": [
       "[1, 2, 3]"
      ]
     },
     "execution_count": 11,
     "metadata": {},
     "output_type": "execute_result"
    }
   ],
   "source": [
    "# Slice the first three elements of the list\n",
    "prime_nums[0:3]"
   ]
  },
  {
   "cell_type": "markdown",
   "id": "35c460d2-87ce-40dc-8a52-d93bdcbe43d4",
   "metadata": {
    "tags": []
   },
   "source": [
    "You can omit the starting index if your want to slice from the beginning of the list."
   ]
  },
  {
   "cell_type": "code",
   "execution_count": 12,
   "id": "2d6b895b-72b5-4be0-ab12-bb291e441833",
   "metadata": {
    "tags": []
   },
   "outputs": [
    {
     "data": {
      "text/plain": [
       "[1, 2, 3]"
      ]
     },
     "execution_count": 12,
     "metadata": {},
     "output_type": "execute_result"
    }
   ],
   "source": [
    "prime_nums[:3]"
   ]
  },
  {
   "cell_type": "markdown",
   "id": "5d8f7c82-975c-4c78-a251-4a94df53945d",
   "metadata": {},
   "source": [
    "You can omit the ending index if you want to slice to the end."
   ]
  },
  {
   "cell_type": "code",
   "execution_count": 13,
   "id": "1fd4f625-0a63-4f96-84be-0568b3f13e8b",
   "metadata": {
    "tags": []
   },
   "outputs": [
    {
     "data": {
      "text/plain": [
       "[11, 13, 17, 19, 23]"
      ]
     },
     "execution_count": 13,
     "metadata": {},
     "output_type": "execute_result"
    }
   ],
   "source": [
    "prime_nums[5:]"
   ]
  },
  {
   "cell_type": "markdown",
   "id": "9a60fb31-63d7-4fe5-8093-6c1a5f974793",
   "metadata": {},
   "source": [
    "You can use negative indices to count from the other end of the list."
   ]
  },
  {
   "cell_type": "code",
   "execution_count": 14,
   "id": "8948e9aa-e681-47cf-a97c-1b230a94f26e",
   "metadata": {
    "tags": []
   },
   "outputs": [
    {
     "data": {
      "text/plain": [
       "[17, 19]"
      ]
     },
     "execution_count": 14,
     "metadata": {},
     "output_type": "execute_result"
    }
   ],
   "source": [
    "prime_nums[-3:-1]"
   ]
  },
  {
   "cell_type": "code",
   "execution_count": 21,
   "id": "4afc1098-9bc9-46cf-ad2e-53f014d6512d",
   "metadata": {
    "tags": []
   },
   "outputs": [
    {
     "data": {
      "text/plain": [
       "[17, 19, 23]"
      ]
     },
     "execution_count": 21,
     "metadata": {},
     "output_type": "execute_result"
    }
   ],
   "source": [
    "# Does the same thing since -1 is the index of the end of the list.\n",
    "prime_nums[-3:]"
   ]
  },
  {
   "cell_type": "markdown",
   "id": "028c7f20-528d-4457-a95f-50c93297efff",
   "metadata": {},
   "source": [
    "## Arrays\n",
    "Arrays are similar to lists, but every element of an array must be the the same data type."
   ]
  },
  {
   "cell_type": "code",
   "execution_count": 15,
   "id": "c2c95ee9-a59e-48ec-8f2f-3ac70a2fbcb2",
   "metadata": {
    "tags": []
   },
   "outputs": [
    {
     "data": {
      "text/plain": [
       "array([ 1,  2,  3,  5,  7, 11, 13, 17, 19, 23])"
      ]
     },
     "execution_count": 15,
     "metadata": {},
     "output_type": "execute_result"
    }
   ],
   "source": [
    "from datascience import *\n",
    "\n",
    "array_of_primes = make_array(1, 2, 3, 5, 7, 11, 13, 17, 19, 23)\n",
    "array_of_primes"
   ]
  },
  {
   "cell_type": "markdown",
   "id": "2ead149c-ddf0-4989-abec-59890c559310",
   "metadata": {},
   "source": [
    "You index and slice array the same way you do lists. Again, the first element is the zeroth elemnt."
   ]
  },
  {
   "cell_type": "code",
   "execution_count": 16,
   "id": "71424195-9fbe-43c1-9cc3-83a1ee66699d",
   "metadata": {
    "tags": []
   },
   "outputs": [
    {
     "data": {
      "text/plain": [
       "5"
      ]
     },
     "execution_count": 16,
     "metadata": {},
     "output_type": "execute_result"
    }
   ],
   "source": [
    "array_of_primes[3]"
   ]
  },
  {
   "cell_type": "code",
   "execution_count": 17,
   "id": "a4e4215c-8a2e-4ad0-bc01-fb45fc7fdda9",
   "metadata": {
    "tags": []
   },
   "outputs": [
    {
     "data": {
      "text/plain": [
       "array([ 5,  7, 11, 13])"
      ]
     },
     "execution_count": 17,
     "metadata": {},
     "output_type": "execute_result"
    }
   ],
   "source": [
    "array_of_primes[3:7]"
   ]
  },
  {
   "cell_type": "markdown",
   "id": "2701b78b-921e-4372-8d2f-97c22dc681b8",
   "metadata": {},
   "source": [
    "### Here comes the cool part...\n",
    "\n",
    "Becuase arrays are all the same type of data, we can perform math operations on all of the elements of an array at once."
   ]
  },
  {
   "cell_type": "code",
   "execution_count": 18,
   "id": "5f5c7db7-1b96-4d35-bf28-78a9d1587f53",
   "metadata": {
    "tags": []
   },
   "outputs": [
    {
     "data": {
      "text/plain": [
       "array([11, 12, 13, 15, 17, 21, 23, 27, 29, 33])"
      ]
     },
     "execution_count": 18,
     "metadata": {},
     "output_type": "execute_result"
    }
   ],
   "source": [
    "# Adds 10 to every element of the array.\n",
    "array_of_primes + 10"
   ]
  },
  {
   "cell_type": "code",
   "execution_count": 19,
   "id": "3a1af9dc-7485-4068-a940-425ca8341ddb",
   "metadata": {
    "tags": []
   },
   "outputs": [
    {
     "data": {
      "text/plain": [
       "array([  1,   4,   9,  25,  49, 121, 169, 289, 361, 529])"
      ]
     },
     "execution_count": 19,
     "metadata": {},
     "output_type": "execute_result"
    }
   ],
   "source": [
    "# Squares every element of the array.\n",
    "array_of_primes**2"
   ]
  },
  {
   "cell_type": "markdown",
   "id": "2bacbcb3-e3e0-4455-b396-8699c1dbdadb",
   "metadata": {},
   "source": [
    "## Numpy\n",
    "The \"numpy\" module, short for \"numerical python\" adds many mathematical functions that work with arrays."
   ]
  },
  {
   "cell_type": "code",
   "execution_count": 20,
   "id": "41436927-c66a-42f7-95f3-93fd4b3858a8",
   "metadata": {
    "tags": []
   },
   "outputs": [
    {
     "data": {
      "text/plain": [
       "array([ 1.        ,  1.41421356,  1.73205081,  2.23606798,  2.64575131,\n",
       "        3.31662479,  3.60555128,  4.12310563,  4.35889894,  4.79583152])"
      ]
     },
     "execution_count": 20,
     "metadata": {},
     "output_type": "execute_result"
    }
   ],
   "source": [
    "import numpy as np\n",
    "\n",
    "np.sqrt(array_of_primes)"
   ]
  },
  {
   "cell_type": "markdown",
   "id": "78274d3a-29e4-4b9c-97d0-0c3828a97ce0",
   "metadata": {},
   "source": [
    "Numpy can also generate arrays. The arange() function is especially handy for generating numbers in a sequence."
   ]
  },
  {
   "cell_type": "code",
   "execution_count": 21,
   "id": "26059b76-92b2-4bd4-82f6-36964c9a608a",
   "metadata": {
    "tags": []
   },
   "outputs": [
    {
     "data": {
      "text/plain": [
       "array([0, 1, 2, 3, 4, 5, 6, 7, 8, 9])"
      ]
     },
     "execution_count": 21,
     "metadata": {},
     "output_type": "execute_result"
    }
   ],
   "source": [
    "# Generate 10 numbers, starting with zero and incrementing by one.\n",
    "np.arange(10)"
   ]
  },
  {
   "cell_type": "code",
   "execution_count": 32,
   "id": "6a7a6efc-45b6-408a-815a-785402e10e53",
   "metadata": {
    "tags": []
   },
   "outputs": [
    {
     "data": {
      "text/plain": [
       "array([ 1,  2,  3,  4,  5,  6,  7,  8,  9, 10, 11, 12, 13, 14, 15, 16, 17,\n",
       "       18, 19])"
      ]
     },
     "execution_count": 32,
     "metadata": {},
     "output_type": "execute_result"
    }
   ],
   "source": [
    "# Generate numbers between 1 and up to, but not including, 20 in steps of 1.\n",
    "np.arange(1, 20)"
   ]
  },
  {
   "cell_type": "code",
   "execution_count": 33,
   "id": "d5e5efa7-a970-4d85-a297-6e3786f09892",
   "metadata": {
    "tags": []
   },
   "outputs": [
    {
     "data": {
      "text/plain": [
       "array([ 1,  3,  5,  7,  9, 11, 13, 15, 17, 19])"
      ]
     },
     "execution_count": 33,
     "metadata": {},
     "output_type": "execute_result"
    }
   ],
   "source": [
    "# Generate numbers between 1 and up to, but not including, 20 in steps of 2.\n",
    "np.arange(1, 20, 2)"
   ]
  },
  {
   "cell_type": "markdown",
   "id": "a8556520-7329-4e05-a70b-d5d901238f4a",
   "metadata": {},
   "source": [
    "## Peeking ahead\n",
    "\n",
    "To get a glimpse how powerful arrays are, we will plot one cycle of a sine wave with values ranging from 0 to $2 \\pi$ radians. \n",
    "\n",
    "We will learn in detail how to plot data in a later lab."
   ]
  },
  {
   "cell_type": "code",
   "execution_count": 22,
   "id": "efdbb40b-5007-404c-8703-9588a9c5af12",
   "metadata": {
    "tags": []
   },
   "outputs": [
    {
     "data": {
      "text/plain": [
       "[<matplotlib.lines.Line2D at 0x7ee7f7e84bb0>]"
      ]
     },
     "execution_count": 22,
     "metadata": {},
     "output_type": "execute_result"
    },
    {
     "data": {
      "image/png": "[encoded data removed]",
      "text/plain": [
       "<Figure size 640x480 with 1 Axes>"
      ]
     },
     "metadata": {},
     "output_type": "display_data"
    }
   ],
   "source": [
    "import matplotlib.pyplot as plt\n",
    "import math\n",
    "import numpy as np\n",
    "%matplotlib inline\n",
    "\n",
    "x = np.arange(0, 2 * math.pi, 0.01)\n",
    "y = np.sin(x)\n",
    "\n",
    "plt.plot(x, y)"
   ]
  },
  {
   "cell_type": "code",
   "execution_count": 23,
   "id": "6d9281cc-eb6f-4f0e-8ecc-f1211b2143c2",
   "metadata": {},
   "outputs": [
    {
     "data": {
      "text/plain": [
       "629"
      ]
     },
     "execution_count": 23,
     "metadata": {},
     "output_type": "execute_result"
    }
   ],
   "source": [
    "len(x)"
   ]
  },
  {
   "cell_type": "code",
   "execution_count": null,
   "id": "adaf489f-7552-4cd6-accc-641877a884b2",
   "metadata": {},
   "outputs": [],
   "source": []
  }
 ],
 "metadata": {
  "kernelspec": {
   "display_name": "Python 3 (ipykernel)",
   "language": "python",
   "name": "python3"
  },
  "language_info": {
   "codemirror_mode": {
    "name": "ipython",
    "version": 3
   },
   "file_extension": ".py",
   "mimetype": "text/x-python",
   "name": "python",
   "nbconvert_exporter": "python",
   "pygments_lexer": "ipython3",
   "version": "3.10.11"
  }
 },
 "nbformat": 4,
 "nbformat_minor": 5
}
