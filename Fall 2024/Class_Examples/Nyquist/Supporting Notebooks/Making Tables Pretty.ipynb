{
 "cells": [
  {
   "cell_type": "markdown",
   "id": "8ffbc0aa-1ddc-4538-9312-e2e7f7b82c93",
   "metadata": {},
   "source": [
    "# Making Tables Pretty (and sometimes more useful)\n",
    "\n",
    "Data tables have a number of build-in formatters to make tables look pretty. The full reference list is [here.](https://www.data8.org/datascience/formats.html)\n",
    "\n",
    "In this notebook we will review a few of the most useful."
   ]
  },
  {
   "cell_type": "code",
   "execution_count": 1,
   "id": "3f2fc3f4-0cb6-45ec-a3f0-82b4d013d117",
   "metadata": {
    "tags": []
   },
   "outputs": [],
   "source": [
    "import numpy as np\n",
    "from datascience import *\n",
    "import matplotlib.pyplot as plt\n",
    "%matplotlib inline"
   ]
  },
  {
   "cell_type": "code",
   "execution_count": 2,
   "id": "d249fac4-c1ac-4431-bde8-06882591a83a",
   "metadata": {
    "tags": []
   },
   "outputs": [
    {
     "data": {
      "text/html": [
       "<table border=\"1\" class=\"dataframe\">\n",
       "    <thead>\n",
       "        <tr>\n",
       "            <th>date</th> <th>geoid</th> <th>cases</th> <th>cases_avg</th> <th>cases_avg_per_100k</th> <th>deaths</th> <th>deaths_avg</th> <th>deaths_avg_per_100k</th>\n",
       "        </tr>\n",
       "    </thead>\n",
       "    <tbody>\n",
       "        <tr>\n",
       "            <td>2020-01-21</td> <td>USA  </td> <td>1    </td> <td>0.14     </td> <td>0                 </td> <td>0     </td> <td>0         </td> <td>0                  </td>\n",
       "        </tr>\n",
       "        <tr>\n",
       "            <td>2020-01-22</td> <td>USA  </td> <td>0    </td> <td>0.14     </td> <td>0                 </td> <td>0     </td> <td>0         </td> <td>0                  </td>\n",
       "        </tr>\n",
       "        <tr>\n",
       "            <td>2020-01-23</td> <td>USA  </td> <td>0    </td> <td>0.14     </td> <td>0                 </td> <td>0     </td> <td>0         </td> <td>0                  </td>\n",
       "        </tr>\n",
       "    </tbody>\n",
       "</table>\n",
       "<p>... (1155 rows omitted)</p>"
      ],
      "text/plain": [
       "<IPython.core.display.HTML object>"
      ]
     },
     "metadata": {},
     "output_type": "display_data"
    }
   ],
   "source": [
    "# Load some data for the demonstration\n",
    "COVID_data = 'https://raw.githubusercontent.com/nytimes/covid-19-data/master/rolling-averages/us.csv'\n",
    "COVID=Table.read_table(COVID_data)\n",
    "COVID.show(3)"
   ]
  },
  {
   "cell_type": "markdown",
   "id": "b2c3a8bf-1eac-4fe7-84a9-747e533f4784",
   "metadata": {},
   "source": [
    "## Dateformatter\n",
    "\n",
    "This dataset has a `date` column, but the values were actually read in as strings."
   ]
  },
  {
   "cell_type": "code",
   "execution_count": 3,
   "id": "2e3829de-e097-48be-ba19-c94a94e09d73",
   "metadata": {
    "tags": []
   },
   "outputs": [
    {
     "data": {
      "text/plain": [
       "array(['2020-01-21', '2020-01-22', '2020-01-23', ..., '2023-03-21',\n",
       "       '2023-03-22', '2023-03-23'],\n",
       "      dtype='<U10')"
      ]
     },
     "execution_count": 3,
     "metadata": {},
     "output_type": "execute_result"
    }
   ],
   "source": [
    "COVID.column('date')"
   ]
  },
  {
   "cell_type": "markdown",
   "id": "7ea8a824-97d3-400b-be54-7aaa4fbd5978",
   "metadata": {},
   "source": [
    "Python doesn't know they are dates. That means there is no easy was to select a particular date range. How could we find the data for just March, 2020, for example?\n",
    "\n",
    "We need to format this column so Python knows these are dates."
   ]
  },
  {
   "cell_type": "code",
   "execution_count": 4,
   "id": "19357fd6-b60a-492c-85ee-cd2d7789beba",
   "metadata": {
    "tags": []
   },
   "outputs": [
    {
     "data": {
      "text/html": [
       "<table border=\"1\" class=\"dataframe\">\n",
       "    <thead>\n",
       "        <tr>\n",
       "            <th>date</th> <th>geoid</th> <th>cases</th> <th>cases_avg</th> <th>cases_avg_per_100k</th> <th>deaths</th> <th>deaths_avg</th> <th>deaths_avg_per_100k</th>\n",
       "        </tr>\n",
       "    </thead>\n",
       "    <tbody>\n",
       "        <tr>\n",
       "            <td>2020-01-21</td> <td>USA  </td> <td>1    </td> <td>0.14     </td> <td>0                 </td> <td>0     </td> <td>0         </td> <td>0                  </td>\n",
       "        </tr>\n",
       "        <tr>\n",
       "            <td>2020-01-22</td> <td>USA  </td> <td>0    </td> <td>0.14     </td> <td>0                 </td> <td>0     </td> <td>0         </td> <td>0                  </td>\n",
       "        </tr>\n",
       "        <tr>\n",
       "            <td>2020-01-23</td> <td>USA  </td> <td>0    </td> <td>0.14     </td> <td>0                 </td> <td>0     </td> <td>0         </td> <td>0                  </td>\n",
       "        </tr>\n",
       "    </tbody>\n",
       "</table>\n",
       "<p>... (1155 rows omitted)</p>"
      ],
      "text/plain": [
       "<IPython.core.display.HTML object>"
      ]
     },
     "metadata": {},
     "output_type": "display_data"
    }
   ],
   "source": [
    "COVID = COVID.set_format('date', DateFormatter(format='%Y-%m-%d',))\n",
    "COVID.show(3)"
   ]
  },
  {
   "cell_type": "markdown",
   "id": "40bdef94-4865-4552-b74e-a9747d787866",
   "metadata": {},
   "source": [
    "Looks the same, right? But let's see what type of data is stored in the `data` column now."
   ]
  },
  {
   "cell_type": "code",
   "execution_count": 5,
   "id": "71d06dc2-1f20-48b3-a00c-acb5328816c4",
   "metadata": {
    "tags": []
   },
   "outputs": [
    {
     "data": {
      "text/plain": [
       "array([  1.57956480e+09,   1.57965120e+09,   1.57973760e+09, ...,\n",
       "         1.67935680e+09,   1.67944320e+09,   1.67952960e+09])"
      ]
     },
     "execution_count": 5,
     "metadata": {},
     "output_type": "execute_result"
    }
   ],
   "source": [
    "COVID.column('date')"
   ]
  },
  {
   "cell_type": "markdown",
   "id": "69713f93-7531-4f83-8b29-f54c9ed9414f",
   "metadata": {},
   "source": [
    "The array contains numbers that are actually time stamps. Now we can select a date range."
   ]
  },
  {
   "cell_type": "code",
   "execution_count": 6,
   "id": "3c58d161-be07-4195-81d4-5e964b277cd6",
   "metadata": {
    "tags": []
   },
   "outputs": [
    {
     "data": {
      "text/html": [
       "<table border=\"1\" class=\"dataframe\">\n",
       "    <thead>\n",
       "        <tr>\n",
       "            <th>date</th> <th>geoid</th> <th>cases</th> <th>cases_avg</th> <th>cases_avg_per_100k</th> <th>deaths</th> <th>deaths_avg</th> <th>deaths_avg_per_100k</th>\n",
       "        </tr>\n",
       "    </thead>\n",
       "    <tbody>\n",
       "        <tr>\n",
       "            <td>2020-03-01</td> <td>USA  </td> <td>18   </td> <td>6.66     </td> <td>0                 </td> <td>2     </td> <td>0.23      </td> <td>0                  </td>\n",
       "        </tr>\n",
       "        <tr>\n",
       "            <td>2020-03-02</td> <td>USA  </td> <td>16   </td> <td>9.8      </td> <td>0                 </td> <td>3     </td> <td>0.43      </td> <td>0                  </td>\n",
       "        </tr>\n",
       "        <tr>\n",
       "            <td>2020-03-03</td> <td>USA  </td> <td>21   </td> <td>11.68    </td> <td>0                 </td> <td>4     </td> <td>0.67      </td> <td>0                  </td>\n",
       "        </tr>\n",
       "    </tbody>\n",
       "</table>\n",
       "<p>... (27 rows omitted)</p>"
      ],
      "text/plain": [
       "<IPython.core.display.HTML object>"
      ]
     },
     "metadata": {},
     "output_type": "display_data"
    }
   ],
   "source": [
    "import time                # Python time functions\n",
    "from time import strptime \n",
    "#time.time() # Seconds since common epoch\n",
    "\n",
    "# Convert string representing our start and end times to datetimes.\n",
    "time1 = time.mktime(strptime('2020-03-01', '%Y-%m-%d'))\n",
    "time2 = time.mktime(strptime('2020-03-31', '%Y-%m-%d')) # Seconds since epoch\n",
    "\n",
    "# Filter the table\n",
    "Jan2022 = COVID.where('date',are.between(time1,time2))\n",
    "Jan2022.show(3)"
   ]
  },
  {
   "cell_type": "markdown",
   "id": "0109d510-07c3-4746-9e32-f0e9e7c4c531",
   "metadata": {},
   "source": [
    "## NumberFormatter\n",
    "Suppose we want a column to display with a particular number of decimal places. Let's say we want `deaths_avg` to three decimal places."
   ]
  },
  {
   "cell_type": "code",
   "execution_count": 7,
   "id": "7b9273d7-5575-4395-a1c2-fbaeba514976",
   "metadata": {
    "tags": []
   },
   "outputs": [
    {
     "data": {
      "text/html": [
       "<table border=\"1\" class=\"dataframe\">\n",
       "    <thead>\n",
       "        <tr>\n",
       "            <th>date</th> <th>geoid</th> <th>cases</th> <th>cases_avg</th> <th>cases_avg_per_100k</th> <th>deaths</th> <th>deaths_avg</th> <th>deaths_avg_per_100k</th>\n",
       "        </tr>\n",
       "    </thead>\n",
       "    <tbody>\n",
       "        <tr>\n",
       "            <td>2020-03-01</td> <td>USA  </td> <td>18   </td> <td>6.66     </td> <td>0                 </td> <td>2     </td> <td>0.230     </td> <td>0                  </td>\n",
       "        </tr>\n",
       "        <tr>\n",
       "            <td>2020-03-02</td> <td>USA  </td> <td>16   </td> <td>9.8      </td> <td>0                 </td> <td>3     </td> <td>0.430     </td> <td>0                  </td>\n",
       "        </tr>\n",
       "        <tr>\n",
       "            <td>2020-03-03</td> <td>USA  </td> <td>21   </td> <td>11.68    </td> <td>0                 </td> <td>4     </td> <td>0.670     </td> <td>0                  </td>\n",
       "        </tr>\n",
       "    </tbody>\n",
       "</table>\n",
       "<p>... (27 rows omitted)</p>"
      ],
      "text/plain": [
       "<IPython.core.display.HTML object>"
      ]
     },
     "metadata": {},
     "output_type": "display_data"
    }
   ],
   "source": [
    "Jan2022 = Jan2022.set_format('deaths_avg', NumberFormatter(decimals=3))\n",
    "Jan2022.show(3)"
   ]
  },
  {
   "cell_type": "markdown",
   "id": "8febcdbb-2259-4b30-8ce2-e1c8e2627c52",
   "metadata": {},
   "source": [
    "Number formatter has additional super powers. Suppose we had a table such as this one:"
   ]
  },
  {
   "cell_type": "code",
   "execution_count": 8,
   "id": "1a227d51-2797-45c1-aa74-8bc318bd3d9f",
   "metadata": {
    "tags": []
   },
   "outputs": [
    {
     "data": {
      "text/html": [
       "<table border=\"1\" class=\"dataframe\">\n",
       "    <thead>\n",
       "        <tr>\n",
       "            <th>some_numbers</th>\n",
       "        </tr>\n",
       "    </thead>\n",
       "    <tbody>\n",
       "        <tr>\n",
       "            <td>23,000      </td>\n",
       "        </tr>\n",
       "        <tr>\n",
       "            <td>32,134      </td>\n",
       "        </tr>\n",
       "        <tr>\n",
       "            <td>12,112      </td>\n",
       "        </tr>\n",
       "        <tr>\n",
       "            <td>34,244      </td>\n",
       "        </tr>\n",
       "    </tbody>\n",
       "</table>"
      ],
      "text/plain": [
       "some_numbers\n",
       "23,000\n",
       "32,134\n",
       "12,112\n",
       "34,244"
      ]
     },
     "execution_count": 8,
     "metadata": {},
     "output_type": "execute_result"
    }
   ],
   "source": [
    "numbers = make_array('23,000', '32,134', '12,112', '34,244')\n",
    "comma_numbers = Table().with_columns('some_numbers', numbers)\n",
    "comma_numbers"
   ]
  },
  {
   "cell_type": "markdown",
   "id": "faf4d204-f8b6-465d-8b79-c0d213f05e8a",
   "metadata": {},
   "source": [
    "It is not unusal to obtain data with numbers using commas like this example. The column has an array of strings, but we want actual numbers. NumberFormatter to the rescue!"
   ]
  },
  {
   "cell_type": "code",
   "execution_count": 9,
   "id": "523a48b7-5da6-4a67-850f-7970bc3a9640",
   "metadata": {
    "tags": []
   },
   "outputs": [
    {
     "data": {
      "text/html": [
       "<table border=\"1\" class=\"dataframe\">\n",
       "    <thead>\n",
       "        <tr>\n",
       "            <th>some_numbers</th>\n",
       "        </tr>\n",
       "    </thead>\n",
       "    <tbody>\n",
       "        <tr>\n",
       "            <td>23,000      </td>\n",
       "        </tr>\n",
       "        <tr>\n",
       "            <td>32,134      </td>\n",
       "        </tr>\n",
       "        <tr>\n",
       "            <td>12,112      </td>\n",
       "        </tr>\n",
       "        <tr>\n",
       "            <td>34,244      </td>\n",
       "        </tr>\n",
       "    </tbody>\n",
       "</table>"
      ],
      "text/plain": [
       "some_numbers\n",
       "23,000\n",
       "32,134\n",
       "12,112\n",
       "34,244"
      ]
     },
     "execution_count": 9,
     "metadata": {},
     "output_type": "execute_result"
    }
   ],
   "source": [
    "comma_numbers = comma_numbers.set_format('some_numbers', NumberFormatter())\n",
    "comma_numbers"
   ]
  },
  {
   "cell_type": "markdown",
   "id": "e9974748-d832-462e-9ca1-2583a4c71a74",
   "metadata": {},
   "source": [
    "The numbers are still displayed with commas, but now the array hold numbers, not strings."
   ]
  },
  {
   "cell_type": "code",
   "execution_count": 10,
   "id": "b86418f2-8a85-42b5-b8f6-5784276d08b4",
   "metadata": {
    "tags": []
   },
   "outputs": [
    {
     "data": {
      "text/plain": [
       "array([23000, 32134, 12112, 34244])"
      ]
     },
     "execution_count": 10,
     "metadata": {},
     "output_type": "execute_result"
    }
   ],
   "source": [
    "comma_numbers.column('some_numbers')"
   ]
  },
  {
   "cell_type": "markdown",
   "id": "9aaf1b87-f6b2-4632-a73f-2f9fd29f9cc3",
   "metadata": {},
   "source": [
    "What if you don't like commas in your numbers? You change the `separator` from ',' to the empty string ''"
   ]
  },
  {
   "cell_type": "code",
   "execution_count": null,
   "id": "8f252200-cefb-4b09-b739-04bea5cab671",
   "metadata": {
    "tags": []
   },
   "outputs": [],
   "source": [
    "comma_numbers = comma_numbers.set_format('some_numbers', NumberFormatter(separator=''))\n",
    "comma_numbers"
   ]
  },
  {
   "cell_type": "markdown",
   "id": "3e30f65d-afbf-446c-b4d1-eeec8fb566e3",
   "metadata": {},
   "source": [
    "## CurrencyFormatter\n",
    "What if those numbers represented currency. We'd like to display a dollar sign in front of each number."
   ]
  },
  {
   "cell_type": "code",
   "execution_count": null,
   "id": "bf9dae02-5a55-444d-99a3-30c9f8a45fca",
   "metadata": {
    "tags": []
   },
   "outputs": [],
   "source": [
    "comma_numbers = comma_numbers.set_format('some_numbers', CurrencyFormatter())\n",
    "comma_numbers"
   ]
  },
  {
   "cell_type": "markdown",
   "id": "288f42c0-a268-4a00-952a-596d192eee4a",
   "metadata": {},
   "source": [
    "Notice that for currency, the commas were put back in place. It looks better that way. The actual array is still just numbers."
   ]
  },
  {
   "cell_type": "code",
   "execution_count": 11,
   "id": "c5376148-c392-4330-82a1-2bd1a594585b",
   "metadata": {
    "tags": []
   },
   "outputs": [
    {
     "data": {
      "text/plain": [
       "array([23000, 32134, 12112, 34244])"
      ]
     },
     "execution_count": 11,
     "metadata": {},
     "output_type": "execute_result"
    }
   ],
   "source": [
    "comma_numbers.column('some_numbers')"
   ]
  },
  {
   "cell_type": "markdown",
   "id": "35e0d18f-a5fc-4caf-abca-4c1ad5e5dc5e",
   "metadata": {},
   "source": [
    "## PercentFormater\n",
    "We often hava a column of floating point numbers that represent percentages. Let's create simple example."
   ]
  },
  {
   "cell_type": "code",
   "execution_count": 12,
   "id": "a81c2c3e-c92c-4055-a8a2-8988e4f6cb8d",
   "metadata": {
    "tags": []
   },
   "outputs": [
    {
     "data": {
      "text/html": [
       "<table border=\"1\" class=\"dataframe\">\n",
       "    <thead>\n",
       "        <tr>\n",
       "            <th>Time</th> <th>Percentage</th>\n",
       "        </tr>\n",
       "    </thead>\n",
       "    <tbody>\n",
       "        <tr>\n",
       "            <td>Time spent looking for a movie</td> <td>0.95      </td>\n",
       "        </tr>\n",
       "        <tr>\n",
       "            <td>Time spent watching a movie   </td> <td>0.5       </td>\n",
       "        </tr>\n",
       "    </tbody>\n",
       "</table>"
      ],
      "text/plain": [
       "Time                           | Percentage\n",
       "Time spent looking for a movie | 0.95\n",
       "Time spent watching a movie    | 0.5"
      ]
     },
     "execution_count": 12,
     "metadata": {},
     "output_type": "execute_result"
    }
   ],
   "source": [
    "netflix = Table().with_columns(\n",
    "    'Time', make_array('Time spent looking for a movie', 'Time spent watching a movie'),\n",
    "    'Percentage', make_array(.95, .5)\n",
    ")\n",
    "netflix"
   ]
  },
  {
   "cell_type": "markdown",
   "id": "4c40c5ac-e495-4c99-b996-4b49a0a043ea",
   "metadata": {},
   "source": [
    "Display numbers as percentages."
   ]
  },
  {
   "cell_type": "code",
   "execution_count": 13,
   "id": "c189dd24-5d77-4ae6-bedd-4d6a1e56f35d",
   "metadata": {
    "tags": []
   },
   "outputs": [
    {
     "data": {
      "text/html": [
       "<table border=\"1\" class=\"dataframe\">\n",
       "    <thead>\n",
       "        <tr>\n",
       "            <th>Time</th> <th>Percentage</th>\n",
       "        </tr>\n",
       "    </thead>\n",
       "    <tbody>\n",
       "        <tr>\n",
       "            <td>Time spent looking for a movie</td> <td>95.00%    </td>\n",
       "        </tr>\n",
       "        <tr>\n",
       "            <td>Time spent watching a movie   </td> <td>50.00%    </td>\n",
       "        </tr>\n",
       "    </tbody>\n",
       "</table>"
      ],
      "text/plain": [
       "Time                           | Percentage\n",
       "Time spent looking for a movie | 95.00%\n",
       "Time spent watching a movie    | 50.00%"
      ]
     },
     "execution_count": 13,
     "metadata": {},
     "output_type": "execute_result"
    }
   ],
   "source": [
    "netflix = netflix.set_format('Percentage', PercentFormatter)\n",
    "netflix"
   ]
  },
  {
   "cell_type": "markdown",
   "id": "92ca72a4-eaca-414c-b712-07c641edbd77",
   "metadata": {},
   "source": [
    "**That is a good start. You can look at the documentation to find other formatting options. I'm going to end this tutorial on formatting and go look for a movie to watch.**"
   ]
  },
  {
   "cell_type": "code",
   "execution_count": null,
   "id": "33be6f57-beac-48a7-99fa-a7b385d0b220",
   "metadata": {},
   "outputs": [],
   "source": []
  }
 ],
 "metadata": {
  "kernelspec": {
   "display_name": "Python 3 (ipykernel)",
   "language": "python",
   "name": "python3"
  },
  "language_info": {
   "codemirror_mode": {
    "name": "ipython",
    "version": 3
   },
   "file_extension": ".py",
   "mimetype": "text/x-python",
   "name": "python",
   "nbconvert_exporter": "python",
   "pygments_lexer": "ipython3",
   "version": "3.10.11"
  }
 },
 "nbformat": 4,
 "nbformat_minor": 5
}
