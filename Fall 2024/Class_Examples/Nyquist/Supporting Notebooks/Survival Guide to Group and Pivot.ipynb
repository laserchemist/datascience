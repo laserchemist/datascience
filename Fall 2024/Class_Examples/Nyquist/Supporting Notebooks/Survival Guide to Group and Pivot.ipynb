{
 "cells": [
  {
   "cell_type": "markdown",
   "id": "81e4964f-5c61-40a8-8068-1cbd4e6c19bc",
   "metadata": {},
   "source": [
    "# A Survival Guide to Group and Pivot\n",
    "Two advanced operations that are extremely useful when working with data tables are .group() and .pivot(), but both are tricky to understand at first. The best way to learn both is by example. In this notebook we will use examples that are discussed in [Chapter 8](https://inferentialthinking.com/chapters/08/3/Cross-Classifying_by_More_than_One_Variable.html) of your textbook, *Inferential Thinking*."
   ]
  },
  {
   "cell_type": "code",
   "execution_count": null,
   "id": "95d665ea-01a9-479f-a93d-c4b20ce138f9",
   "metadata": {},
   "outputs": [],
   "source": [
    "# Import the usual modules\n",
    "import numpy as np\n",
    "from datascience import *\n",
    "%matplotlib inline"
   ]
  },
  {
   "cell_type": "markdown",
   "id": "16128c3e-de02-4a5d-8b4e-39c73d491ddd",
   "metadata": {},
   "source": [
    "The table `cones` records the flavor, color, and price of six ice cream cones."
   ]
  },
  {
   "cell_type": "code",
   "execution_count": null,
   "id": "9a94599d-8fc9-40a4-a808-3754dd56e6c0",
   "metadata": {},
   "outputs": [],
   "source": [
    "cones = Table().with_columns(\n",
    "    'Flavor', make_array('strawberry', 'chocolate', 'chocolate', 'strawberry', 'chocolate', 'bubblegum'),\n",
    "    'Color', make_array('pink', 'light brown', 'dark brown', 'pink', 'dark brown', 'pink'),\n",
    "    'Price', make_array(3.55, 4.75, 5.25, 5.25, 5.25, 4.75)\n",
    ")\n",
    "cones"
   ]
  },
  {
   "cell_type": "markdown",
   "id": "6364ef39-d768-43dd-b642-c9bda21f4231",
   "metadata": {},
   "source": [
    "## Grouping Example 1: Counting occurances based on one category\n",
    "Suppose you wanted to know how many many rows are the color pink. Yes, for this small table you could easily count them, but what if the table had millions of rows?\n",
    "\n",
    "One way would be to create a table with only the rows of a particular color using `.where`, then count the rows in that table w `.num_rows`"
   ]
  },
  {
   "cell_type": "code",
   "execution_count": null,
   "id": "7c68392c-53ef-4f5a-8264-659753dc4578",
   "metadata": {},
   "outputs": [],
   "source": [
    "num_pink = cones.where('Color', are.equal_to('pink')).num_rows\n",
    "print(f\"There are {num_pink} rows with pink ice cream.\")"
   ]
  },
  {
   "cell_type": "markdown",
   "id": "2e56dcef-d48b-4e5b-a9ff-11d8fbd63751",
   "metadata": {},
   "source": [
    "That works, but it would sure be tedious to repeat the process for every color. This is where grouping comes into play."
   ]
  },
  {
   "cell_type": "code",
   "execution_count": null,
   "id": "091357e7-e387-4a2f-a4ab-ecff2a133c58",
   "metadata": {},
   "outputs": [],
   "source": [
    "cones.group('Color')"
   ]
  },
  {
   "cell_type": "markdown",
   "id": "12474836-ed6e-440a-9276-092f561b4b2f",
   "metadata": {},
   "source": [
    "By default, .group() returns a new table with a row for each unique entry of the selected column and the count how many times that entry appeared in the original table. However, while counting is the default, other functions can be used to collect together the rows of each group.\n",
    "\n",
    "Let's try this again, only this time we will group by flavor."
   ]
  },
  {
   "cell_type": "code",
   "execution_count": null,
   "id": "4bbe4daa-3dbc-4a7d-beef-89a94eb6216d",
   "metadata": {},
   "outputs": [],
   "source": [
    "cones.group('Flavor')"
   ]
  },
  {
   "cell_type": "markdown",
   "id": "056db981-c81b-4079-a1c7-2e4b5ac7fd17",
   "metadata": {},
   "source": [
    "## Grouping Example 2: Counting occurances based on more than one category\n",
    "To classify the cones by both flavor and color, we will pass a list of labels as an argument to group. The resulting table has one row for every unique combination of values that appear together in the grouped columns."
   ]
  },
  {
   "cell_type": "code",
   "execution_count": null,
   "id": "c054d2fb-3a31-40e4-9805-422c639a84ab",
   "metadata": {},
   "outputs": [],
   "source": [
    "cones.group(['Flavor', 'Color'])"
   ]
  },
  {
   "cell_type": "markdown",
   "id": "9adab5e4-d44c-417b-a788-7ddc430a4378",
   "metadata": {},
   "source": [
    "## Grouping Example 3: Collecting the row with a function other than count.\n",
    "When you group the rows, you are collecting all of the rows that meet a particular condition into one row per unique value in the column you use to group. Count() is not the one choice for the collection function.\n",
    "\n",
    "In the example, we will group on flavor, but we will has for the total cost by flavor."
   ]
  },
  {
   "cell_type": "code",
   "execution_count": null,
   "id": "ce4e305d-630e-4893-9e2f-9bd1ffec8aa8",
   "metadata": {},
   "outputs": [],
   "source": [
    "cones.group('Flavor', sum)"
   ]
  },
  {
   "cell_type": "markdown",
   "id": "4801578f-bb6c-4eea-a7ca-f6bedaa655c2",
   "metadata": {},
   "source": [
    "As you can see, the result is the sum of prices for all of the rows by flavor. Verify this by comparing with the original table. Notice that name of the function your use is added to the label of the column created. Notice also although a `Color sum` column is created, it is empty because `sum` has no meaning when applied to strings.\n",
    "\n",
    "Why did we not get this extra column when we used `count` in Example 2? Because the count is the same for every column."
   ]
  },
  {
   "cell_type": "code",
   "execution_count": null,
   "id": "e60a9c0d-141c-413a-b2c3-3195c69191a8",
   "metadata": {},
   "outputs": [],
   "source": [
    "cones"
   ]
  },
  {
   "cell_type": "markdown",
   "id": "8f7532da-3923-442b-93fe-c8e2ecd94185",
   "metadata": {},
   "source": [
    "You can use any function in the grouping, including a function you write yourself as long as it makes sense to apply the function when combining the rows in each group. \n",
    "\n",
    "Suppose we wanted to know the most expensive cone for each flavor."
   ]
  },
  {
   "cell_type": "code",
   "execution_count": null,
   "id": "51c37418-4725-4b1d-b34b-385635f1fbd6",
   "metadata": {},
   "outputs": [],
   "source": [
    "cones.group('Flavor', max)"
   ]
  },
  {
   "cell_type": "markdown",
   "id": "7c22c8d5-fe23-49e9-9eb6-f79cb70e46de",
   "metadata": {},
   "source": [
    "Notice that name of the function your use is added to the label of the column created. Notice also that this time we have a `Color max` column. It turns out that `max` has a meaning when applied to strings."
   ]
  },
  {
   "cell_type": "code",
   "execution_count": null,
   "id": "4f716ae6-7ef3-4b07-b856-b4e522e77e03",
   "metadata": {},
   "outputs": [],
   "source": [
    "max('the', 'string', 'starting', 'with', 'the', 'letter', 'furthest', 'down', 'in', 'the', 'alphabet', 'is', 'the', 'max')"
   ]
  },
  {
   "cell_type": "markdown",
   "id": "4c8ac2f0-fe3d-469c-a826-a6637f1aa907",
   "metadata": {},
   "source": [
    "# Pivoting Example 1"
   ]
  },
  {
   "cell_type": "code",
   "execution_count": null,
   "id": "68c0acb4-1f15-4ecf-aef6-f8a26d283fdc",
   "metadata": {},
   "outputs": [],
   "source": [
    "cones.pivot('Flavor', 'Color')"
   ]
  },
  {
   "cell_type": "markdown",
   "id": "b524a735-1555-4af8-8058-8aca3d83c9c9",
   "metadata": {},
   "source": [
    "What just happened? Starting with `cones` table, we created a new table where the first label, `flavor`, became the columns and the second label, `Color` became the rows. The values of the table contains the counts: `tbl.pivot(row_label, col_label)`.\n",
    "\n",
    "In the original `cones` table there were two chocolate cones that were dark brown, so in the pivot table the value is two. There were no dark brown bubble gum cones (ugh!), so the value is zero."
   ]
  },
  {
   "cell_type": "markdown",
   "id": "d5a363a4-ac65-4028-b074-771dd0b29f57",
   "metadata": {},
   "source": [
    "Just as with grouping, you can collect the values with functions other than `count`."
   ]
  },
  {
   "cell_type": "code",
   "execution_count": null,
   "id": "3a5b6cf6-4329-42ad-9e84-6eb6eacf760f",
   "metadata": {},
   "outputs": [],
   "source": [
    "cones.pivot('Flavor', 'Color', values='Price', collect=sum)"
   ]
  },
  {
   "cell_type": "markdown",
   "id": "c099e86a-6c47-41e7-8e0e-9ea43f759d94",
   "metadata": {},
   "source": [
    "Compare with using `group`"
   ]
  },
  {
   "cell_type": "code",
   "execution_count": null,
   "id": "99fd0d0e-e6b4-4f4e-9d18-d6e866a96562",
   "metadata": {},
   "outputs": [],
   "source": [
    "cones.group(['Flavor', 'Color'], sum)"
   ]
  },
  {
   "cell_type": "markdown",
   "id": "3f6a17a2-e02c-49c8-8058-8b583096f45e",
   "metadata": {},
   "source": [
    "Quoting from the textbook: \"The advantage of pivot is that it places grouped values into adjacent columns, so that they can be combined and compared.\""
   ]
  },
  {
   "cell_type": "markdown",
   "id": "6ab40597-885f-4e84-a1e4-495b871987e0",
   "metadata": {},
   "source": [
    "## Pivoting Example 2\n",
    "To drive home the power of pivot tables, we will follow another example given in the text book. The focus will be on education and income for Californians in 2014."
   ]
  },
  {
   "cell_type": "code",
   "execution_count": null,
   "id": "38217e52-b7ee-47ba-bf7f-91c43f3af73f",
   "metadata": {},
   "outputs": [],
   "source": [
    "full_table = Table().read_table('data/educ_inc.csv')\n",
    "\n",
    "# Focus on adults in 2014\n",
    "ca_2014 = full_table.where('Year', are.equal_to('1/1/14 0:00')).where('Age', are.not_equal_to('00 to 17'))\n",
    "ca_2014"
   ]
  },
  {
   "cell_type": "markdown",
   "id": "7fdf21cc-181e-47e0-88fa-aa9b521c8a91",
   "metadata": {},
   "source": [
    "Focus on education and income."
   ]
  },
  {
   "cell_type": "code",
   "execution_count": null,
   "id": "0fd509fb-a3f2-459d-8b49-f6afb8c659bb",
   "metadata": {},
   "outputs": [],
   "source": [
    "educ_inc = ca_2014.select('Educational Attainment', 'Personal Income', 'Population Count')\n",
    "educ_inc"
   ]
  },
  {
   "cell_type": "markdown",
   "id": "d2bf4e52-5901-4f74-b7f9-08b5662af557",
   "metadata": {},
   "source": [
    "Use group to see how many Californians appear in each educational attainment category."
   ]
  },
  {
   "cell_type": "code",
   "execution_count": null,
   "id": "bfdbdade-79fc-4763-b96d-2b0ef75093a8",
   "metadata": {},
   "outputs": [],
   "source": [
    "education = educ_inc.select('Educational Attainment', 'Population Count')\n",
    "educ_totals = education.group('Educational Attainment', sum)\n",
    "educ_totals"
   ]
  },
  {
   "cell_type": "code",
   "execution_count": null,
   "id": "656a3877-0586-453e-8a2c-62c5d7d80280",
   "metadata": {},
   "outputs": [],
   "source": [
    "# Create a function that turns numbers in an array into percents rounded to two decimal places.\n",
    "def percents(array_x):\n",
    "    return np.round( (array_x/sum(array_x))*100, 2)"
   ]
  },
  {
   "cell_type": "markdown",
   "id": "59e92294-5def-462a-bca0-1932c1b6f52a",
   "metadata": {},
   "source": [
    "Add a percent column"
   ]
  },
  {
   "cell_type": "code",
   "execution_count": null,
   "id": "725c79ee-c26a-4026-85e6-e4079475c257",
   "metadata": {},
   "outputs": [],
   "source": [
    "educ_distribution = educ_totals.with_column(\n",
    "    'Population Percent', percents(educ_totals.column(1))\n",
    ")\n",
    "educ_distribution"
   ]
  },
  {
   "cell_type": "markdown",
   "id": "f5bfa9a1-70f5-4168-a576-630302a23441",
   "metadata": {},
   "source": [
    "Now we `pivot` to look at income vs. education."
   ]
  },
  {
   "cell_type": "code",
   "execution_count": null,
   "id": "a00acd10-c567-46ce-a127-815f9f122b16",
   "metadata": {},
   "outputs": [],
   "source": [
    "totals = educ_inc.pivot('Educational Attainment', 'Personal Income', values='Population Count', collect=sum)\n",
    "totals"
   ]
  },
  {
   "cell_type": "markdown",
   "id": "eeaab6cc-b595-4f20-ac2c-af912c7c6beb",
   "metadata": {},
   "source": [
    "**If you understand this next code cell, then you are really starting to undertand tables. If you don't, get someone to explain it to you.**"
   ]
  },
  {
   "cell_type": "code",
   "execution_count": null,
   "id": "40f13ab8-40ec-40e8-a2de-435d857be6a0",
   "metadata": {},
   "outputs": [],
   "source": [
    "distributions = totals.select('Personal Income').with_columns(\n",
    "    \"Bachelor's degree or higher\", percents(totals.column(1)),\n",
    "    'College, less than 4-yr degree', percents(totals.column(2)),\n",
    "    'High school or equivalent', percents(totals.column(3)),\n",
    "    'No high school diploma', percents(totals.column(4))   \n",
    "    )\n",
    "\n",
    "distributions"
   ]
  },
  {
   "cell_type": "code",
   "execution_count": null,
   "id": "9a2295b2-115a-4e5b-a2dd-4af7687e5387",
   "metadata": {},
   "outputs": [],
   "source": [
    "distributions.select(0, 1, 4).barh(0)"
   ]
  },
  {
   "cell_type": "markdown",
   "id": "81041458-48e8-4930-9614-78ad1ccadf32",
   "metadata": {},
   "source": [
    "**A not-so-subtle argument for higher education.**"
   ]
  }
 ],
 "metadata": {
  "kernelspec": {
   "display_name": "Python 3 (ipykernel)",
   "language": "python",
   "name": "python3"
  },
  "language_info": {
   "codemirror_mode": {
    "name": "ipython",
    "version": 3
   },
   "file_extension": ".py",
   "mimetype": "text/x-python",
   "name": "python",
   "nbconvert_exporter": "python",
   "pygments_lexer": "ipython3",
   "version": "3.10.13"
  }
 },
 "nbformat": 4,
 "nbformat_minor": 5
}
