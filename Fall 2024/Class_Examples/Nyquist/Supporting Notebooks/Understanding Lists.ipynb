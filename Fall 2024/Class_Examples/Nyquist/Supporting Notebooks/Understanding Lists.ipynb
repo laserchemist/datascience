{
 "cells": [
  {
   "cell_type": "code",
   "execution_count": 2,
   "id": "fff2113c-271f-456b-a79a-6b3d2e2599c8",
   "metadata": {
    "tags": []
   },
   "outputs": [],
   "source": [
    "import numpy as np\n",
    "from datascience import *"
   ]
  },
  {
   "cell_type": "markdown",
   "id": "b80ad75e-b24f-4464-82f1-f08af20a5051",
   "metadata": {},
   "source": [
    "# Lists\n",
    "\n",
    "Python has a number of built-in data structures. In this class we will be working mostly with arrays and datatables, however, there are other useful data structures you should know. One of the most versatile is a list. A list is a python collection, a container that can import numpy as np\n",
    "from datascience import *hold any number of items of different types."
   ]
  },
  {
   "cell_type": "code",
   "execution_count": 1,
   "id": "b18bb81b-b85c-4edc-873b-d66c969c1276",
   "metadata": {
    "tags": []
   },
   "outputs": [
    {
     "data": {
      "text/plain": [
       "['Sally', 'Mark', 'Kummar', 'Maria']"
      ]
     },
     "execution_count": 1,
     "metadata": {},
     "output_type": "execute_result"
    }
   ],
   "source": [
    "name = ['Sally', \"Mark\", \"Kummar\", \"Maria\"]\n",
    "name"
   ]
  },
  {
   "cell_type": "markdown",
   "id": "97aacec4-fbba-4981-87ee-7819d98a2bca",
   "metadata": {},
   "source": [
    "We have created a list of strings, each of which is a name. "
   ]
  },
  {
   "cell_type": "code",
   "execution_count": 3,
   "id": "be1e7a7a-09d7-4e35-97a3-b68d3ae1b1ae",
   "metadata": {
    "tags": []
   },
   "outputs": [
    {
     "data": {
      "text/plain": [
       "4"
      ]
     },
     "execution_count": 3,
     "metadata": {},
     "output_type": "execute_result"
    }
   ],
   "source": [
    "# Show the length of the list\n",
    "len(name)"
   ]
  },
  {
   "cell_type": "code",
   "execution_count": 4,
   "id": "a682e503-3ea0-4bf4-b7f6-a84de17dbacb",
   "metadata": {
    "tags": []
   },
   "outputs": [],
   "source": [
    "# Reference a single element from the list.\n",
    "# Note: the first element of a list is element zero"
   ]
  },
  {
   "cell_type": "code",
   "execution_count": 5,
   "id": "b4448e12-7b9a-43d3-aecd-a7e76b6d5864",
   "metadata": {
    "tags": []
   },
   "outputs": [
    {
     "name": "stdout",
     "output_type": "stream",
     "text": [
      "Mark\n",
      "Maria\n"
     ]
    }
   ],
   "source": [
    "print(name[1])\n",
    "print(name[3])"
   ]
  },
  {
   "cell_type": "code",
   "execution_count": 6,
   "id": "22c2a655-0aee-40ef-a479-48ec5a6a9fff",
   "metadata": {
    "tags": []
   },
   "outputs": [
    {
     "data": {
      "text/plain": [
       "['Sally', 'Mark', 'Kummar', 'Maria', 'Pierre']"
      ]
     },
     "execution_count": 6,
     "metadata": {},
     "output_type": "execute_result"
    }
   ],
   "source": [
    "# Add another name to the list\n",
    "name.append('Pierre')\n",
    "name"
   ]
  },
  {
   "cell_type": "code",
   "execution_count": 8,
   "id": "9f615197-6c76-4c69-9f70-a54533929817",
   "metadata": {
    "tags": []
   },
   "outputs": [
    {
     "name": "stdout",
     "output_type": "stream",
     "text": [
      "['Sally', 'Kummar', 'Maria', 'Pierre']\n"
     ]
    }
   ],
   "source": [
    "# Remove an element from the list\n",
    "name.remove('Mark')\n",
    "print(name)"
   ]
  },
  {
   "cell_type": "markdown",
   "id": "60711e42-bd96-49f1-b251-e8032253f462",
   "metadata": {},
   "source": [
    "**Challenge:** Add two more names to the list \"name\""
   ]
  },
  {
   "cell_type": "code",
   "execution_count": null,
   "id": "53d38d32-ca66-4b80-947c-6bd1694028d3",
   "metadata": {},
   "outputs": [],
   "source": []
  },
  {
   "cell_type": "code",
   "execution_count": 10,
   "id": "017b8038-7063-47b9-8ed6-0567c1b07f55",
   "metadata": {
    "tags": []
   },
   "outputs": [
    {
     "data": {
      "text/plain": [
       "[1, 2, 3, 'Pizza', 'Hamburgers', 'Tacos']"
      ]
     },
     "execution_count": 10,
     "metadata": {},
     "output_type": "execute_result"
    }
   ],
   "source": [
    "# Lists can be concatenated together\n",
    "list1 = [1, 2, 3]\n",
    "list2 = [\"Pizza\", \"Hamburgers\", \"Tacos\"]\n",
    "list3 = list1 + list2\n",
    "list3"
   ]
  },
  {
   "cell_type": "markdown",
   "id": "0a39e07d-3a78-4e9b-a3c6-48bc3cb7aad4",
   "metadata": {},
   "source": [
    "Notice that elements of a list do not have to be all the same type of data. list3 has three integers and three strings."
   ]
  },
  {
   "cell_type": "markdown",
   "id": "af41f6a2-6170-49ce-9bb3-93afb2241c6b",
   "metadata": {},
   "source": [
    "**Challenge:** I've had entirely too much pizza. Remove \"pizza\" from list3."
   ]
  },
  {
   "cell_type": "code",
   "execution_count": null,
   "id": "d1276363-323d-477e-8d44-1085fde075ad",
   "metadata": {},
   "outputs": [],
   "source": []
  },
  {
   "cell_type": "markdown",
   "id": "0b93f5d2-e33b-4b8b-8d5c-4128048c3128",
   "metadata": {},
   "source": [
    "## Lists and Data Tables\n",
    "Lists are handy when working data tables. Recall that a column in a table is all one data type, so we can represent a column with an array -- array elements must all be the same data type -- but we cannot extract a row from a table into an array because the different columns may be different data types. We need a list.\n",
    "\n",
    "This will become clearer with a few examples."
   ]
  },
  {
   "cell_type": "code",
   "execution_count": 4,
   "id": "3c7aade3-bcf5-4ebc-9f17-0f5a3cf50aba",
   "metadata": {
    "tags": []
   },
   "outputs": [
    {
     "data": {
      "text/html": [
       "<table border=\"1\" class=\"dataframe\">\n",
       "    <thead>\n",
       "        <tr>\n",
       "            <th>Student names</th> <th>Credit hours completed</th>\n",
       "        </tr>\n",
       "    </thead>\n",
       "    <tbody>\n",
       "        <tr>\n",
       "            <td>Sujith       </td> <td>16                    </td>\n",
       "        </tr>\n",
       "        <tr>\n",
       "            <td>Ilya         </td> <td>121                   </td>\n",
       "        </tr>\n",
       "        <tr>\n",
       "            <td>Laura        </td> <td>48                    </td>\n",
       "        </tr>\n",
       "    </tbody>\n",
       "</table>"
      ],
      "text/plain": [
       "Student names | Credit hours completed\n",
       "Sujith        | 16\n",
       "Ilya          | 121\n",
       "Laura         | 48"
      ]
     },
     "execution_count": 4,
     "metadata": {},
     "output_type": "execute_result"
    }
   ],
   "source": [
    "# Create a table\n",
    "# Run this cell to recreate the table\n",
    "students = Table().with_columns(\n",
    "    'Student names', make_array('Sujith', 'Ilya', 'Laura'),\n",
    "    'Credit hours completed', make_array(16, 121, 48)\n",
    ")\n",
    "\n",
    "students"
   ]
  },
  {
   "cell_type": "markdown",
   "id": "072108ad-6e53-4939-9dde-3aa1ba897057",
   "metadata": {},
   "source": [
    "The first column has student names, which are stored as strings. The second column has credit hour, so numerical data.  We can add a column to the table by adding a column label and an array of data."
   ]
  },
  {
   "cell_type": "code",
   "execution_count": 15,
   "id": "487085cc-f74f-473e-898a-0e362c084ce1",
   "metadata": {
    "tags": []
   },
   "outputs": [
    {
     "data": {
      "text/html": [
       "<table border=\"1\" class=\"dataframe\">\n",
       "    <thead>\n",
       "        <tr>\n",
       "            <th>Student names</th> <th>Credit hours completed</th> <th>Class</th>\n",
       "        </tr>\n",
       "    </thead>\n",
       "    <tbody>\n",
       "        <tr>\n",
       "            <td>Sujith       </td> <td>16                    </td> <td>Freshman </td>\n",
       "        </tr>\n",
       "        <tr>\n",
       "            <td>Ilya         </td> <td>121                   </td> <td>Senior   </td>\n",
       "        </tr>\n",
       "        <tr>\n",
       "            <td>Laura        </td> <td>48                    </td> <td>Sophomore</td>\n",
       "        </tr>\n",
       "    </tbody>\n",
       "</table>"
      ],
      "text/plain": [
       "Student names | Credit hours completed | Class\n",
       "Sujith        | 16                     | Freshman\n",
       "Ilya          | 121                    | Senior\n",
       "Laura         | 48                     | Sophomore"
      ]
     },
     "execution_count": 15,
     "metadata": {},
     "output_type": "execute_result"
    }
   ],
   "source": [
    "students = students.with_column(\"Class\", make_array('Freshman', 'Senior', 'Sophomore'))\n",
    "students"
   ]
  },
  {
   "cell_type": "markdown",
   "id": "7d547de6-ba41-4646-a434-a597c76aea48",
   "metadata": {},
   "source": [
    "What if we want to add a row? An array won't work because the data types are different for the different colums. Use a list!"
   ]
  },
  {
   "cell_type": "code",
   "execution_count": 16,
   "id": "c2670401-8d8c-4ad3-a8e1-59304b0e11a2",
   "metadata": {
    "tags": []
   },
   "outputs": [
    {
     "data": {
      "text/html": [
       "<table border=\"1\" class=\"dataframe\">\n",
       "    <thead>\n",
       "        <tr>\n",
       "            <th>Student names</th> <th>Credit hours completed</th> <th>Class</th>\n",
       "        </tr>\n",
       "    </thead>\n",
       "    <tbody>\n",
       "        <tr>\n",
       "            <td>Sujith       </td> <td>16                    </td> <td>Freshman </td>\n",
       "        </tr>\n",
       "        <tr>\n",
       "            <td>Ilya         </td> <td>121                   </td> <td>Senior   </td>\n",
       "        </tr>\n",
       "        <tr>\n",
       "            <td>Laura        </td> <td>48                    </td> <td>Sophomore</td>\n",
       "        </tr>\n",
       "        <tr>\n",
       "            <td>Dennis       </td> <td>80                    </td> <td>Junior   </td>\n",
       "        </tr>\n",
       "    </tbody>\n",
       "</table>"
      ],
      "text/plain": [
       "Student names | Credit hours completed | Class\n",
       "Sujith        | 16                     | Freshman\n",
       "Ilya          | 121                    | Senior\n",
       "Laura         | 48                     | Sophomore\n",
       "Dennis        | 80                     | Junior"
      ]
     },
     "execution_count": 16,
     "metadata": {},
     "output_type": "execute_result"
    }
   ],
   "source": [
    "students = students.with_row(['Dennis', 80, 'Junior'])\n",
    "students"
   ]
  },
  {
   "cell_type": "markdown",
   "id": "a1bef81f-ea35-42c2-937f-0524895a89ed",
   "metadata": {},
   "source": [
    "**Challenge:** Add another row to the table"
   ]
  },
  {
   "cell_type": "code",
   "execution_count": null,
   "id": "77cb9f4e-aeca-4ac1-ae2f-6529dcdd3854",
   "metadata": {},
   "outputs": [],
   "source": []
  },
  {
   "cell_type": "markdown",
   "id": "25ac5ae2-846e-4cf8-a637-7c2831e0ff9c",
   "metadata": {},
   "source": [
    "I hope lists make more sense now. They are a versatile, commonly employed Python data structure."
   ]
  }
 ],
 "metadata": {
  "kernelspec": {
   "display_name": "Python 3 (ipykernel)",
   "language": "python",
   "name": "python3"
  },
  "language_info": {
   "codemirror_mode": {
    "name": "ipython",
    "version": 3
   },
   "file_extension": ".py",
   "mimetype": "text/x-python",
   "name": "python",
   "nbconvert_exporter": "python",
   "pygments_lexer": "ipython3",
   "version": "3.10.11"
  }
 },
 "nbformat": 4,
 "nbformat_minor": 5
}
