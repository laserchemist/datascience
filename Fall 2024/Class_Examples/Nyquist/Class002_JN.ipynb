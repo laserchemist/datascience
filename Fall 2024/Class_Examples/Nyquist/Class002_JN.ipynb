{
 "cells": [
  {
   "cell_type": "markdown",
   "id": "84dbd6f6-ff61-408f-b270-d56a6d2c2bec",
   "metadata": {},
   "source": [
    "# Two types of cells: code and markdown"
   ]
  },
  {
   "cell_type": "markdown",
   "id": "124b8ee2-8615-4b05-bc9b-de6f18cdf481",
   "metadata": {},
   "source": [
    "## This is a mark down cell. \n",
    "\n",
    "It can contain plain text.\n",
    "\n",
    "It can also contain equations:\n",
    "$$ a^2 + b^2 = c^2$$\n",
    "\n",
    "It can also contain hyperlinks: [Quote of the Day](https://www.brainyquote.com/quote_of_the_day)\n",
    "\n",
    "It can even include images and videos:\n",
    "![bob](data/bob.jpg)"
   ]
  },
  {
   "cell_type": "code",
   "execution_count": null,
   "id": "b6c3df29-4acf-439d-8044-2117996b7aab",
   "metadata": {
    "tags": []
   },
   "outputs": [],
   "source": [
    "# This is a code cell\n",
    "# You can include text in comments\n",
    "# But any other line will be iterpreted as python code\n",
    "# The results will appear in the output cell under the code cell.\n",
    "\n",
    "greeting = \"Hello, world!\"\n",
    "print(greeting)"
   ]
  },
  {
   "cell_type": "markdown",
   "id": "3db944b9-d503-4ec8-bba1-1d0ac0ae1767",
   "metadata": {},
   "source": [
    "## Markdown and code: a powerful combination\n",
    "One of the reasons Jupyter notebooks are so popular in science is that the combination of markdown and code makes it possible to create an interactive document that tells a story. A story with data, methods, results, figures, discussion, conclusions and references documented in a way that any reader can check themselves. \n",
    "\n",
    "**Reproducibility is the key to good science!**"
   ]
  }
 ],
 "metadata": {
  "kernelspec": {
   "display_name": "Python 3 (ipykernel)",
   "language": "python",
   "name": "python3"
  },
  "language_info": {
   "codemirror_mode": {
    "name": "ipython",
    "version": 3
   },
   "file_extension": ".py",
   "mimetype": "text/x-python",
   "name": "python",
   "nbconvert_exporter": "python",
   "pygments_lexer": "ipython3",
   "version": "3.10.11"
  }
 },
 "nbformat": 4,
 "nbformat_minor": 5
}
