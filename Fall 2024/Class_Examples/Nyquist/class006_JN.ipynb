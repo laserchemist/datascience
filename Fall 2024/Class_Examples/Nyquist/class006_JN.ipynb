{
 "cells": [
  {
   "cell_type": "markdown",
   "id": "f29b42b8-2359-4774-9290-a1411be89a04",
   "metadata": {},
   "source": [
    "# Class 006 Tables"
   ]
  },
  {
   "cell_type": "code",
   "execution_count": null,
   "id": "8b570ee0-306d-4fad-8ffa-e4b3b356922e",
   "metadata": {},
   "outputs": [],
   "source": [
    "from datascience import *\n",
    "import numpy as np\n",
    "import matplotlib.pyplot as plots\n",
    "plots.style.use('fivethirtyeight')\n",
    "# Fix for datascience plots\n",
    "\n",
    "# import for plotting\n",
    "%matplotlib inline"
   ]
  },
  {
   "cell_type": "markdown",
   "id": "296f5b49-1c3b-4cec-bdc7-39f3bcac2b64",
   "metadata": {},
   "source": [
    "## Create a table object from an array.\n",
    "As an example we can create a table directly from data inserted into an array. The simplest table has a single column of data."
   ]
  },
  {
   "cell_type": "code",
   "execution_count": null,
   "id": "6342bfd6-7410-422d-a1d7-d78569a0c923",
   "metadata": {},
   "outputs": [],
   "source": [
    "# Example of making an array\n",
    "\n",
    "tornados_by_month = make_array(0, 0, 0, 1, 0, 0, 0, 1, 5, 1, 0, 0)\n",
    "tornados_by_month"
   ]
  },
  {
   "cell_type": "code",
   "execution_count": null,
   "id": "67c59a8e-fdba-4390-be3c-66ce031da766",
   "metadata": {},
   "outputs": [],
   "source": [
    "# Each column needs a label and an array\n",
    "\n",
    "T = Table().with_columns('Tornados', tornados_by_month)\n",
    "T"
   ]
  },
  {
   "cell_type": "markdown",
   "id": "331a14a7-7c22-4b4f-bbae-48b6d5d86d2a",
   "metadata": {},
   "source": [
    "## Add a column to a table "
   ]
  },
  {
   "cell_type": "code",
   "execution_count": null,
   "id": "6e55ed11-88ab-46af-92e5-d702dbef8c8f",
   "metadata": {},
   "outputs": [],
   "source": [
    "# Here we add a column to the existing table. \n",
    "# The np.arange() function returns an array\n",
    "# So again, we have a column with a label and an array\n",
    "# Our new table has two columns, each with a label and an array.\n",
    "\n",
    "T = T.with_columns('Month', np.arange(1,13,1))"
   ]
  },
  {
   "cell_type": "code",
   "execution_count": null,
   "id": "7e4654c5-3c27-4230-bb55-fce1450dbd13",
   "metadata": {},
   "outputs": [],
   "source": [
    "T"
   ]
  },
  {
   "cell_type": "markdown",
   "id": "5074d791-b494-414f-a946-dba27d9bc3bf",
   "metadata": {},
   "source": [
    "## Sort a table"
   ]
  },
  {
   "cell_type": "code",
   "execution_count": null,
   "id": "205d03a4-76e3-4343-a834-ff74345ea3f9",
   "metadata": {},
   "outputs": [],
   "source": [
    "# Sort the table by the values of the first column\n",
    "\n",
    "T.sort(0,descending=True)"
   ]
  },
  {
   "cell_type": "markdown",
   "id": "31357cd6-9c1d-4830-916d-3b5d230a7e59",
   "metadata": {},
   "source": [
    "## Select a subset of columns from a table to create a new table"
   ]
  },
  {
   "cell_type": "code",
   "execution_count": null,
   "id": "57693c7a-9968-41ae-acce-351c70d1baa7",
   "metadata": {
    "tags": []
   },
   "outputs": [],
   "source": [
    "# .select() is for selecting one or more columns from a table\n",
    "# It returns a new table\n",
    "\n",
    "T.select(\"Tornados\")"
   ]
  },
  {
   "cell_type": "markdown",
   "id": "75c4055a-c8de-4684-a8eb-07823beead28",
   "metadata": {},
   "source": [
    "## Select a subset of rows from a table to create a new table"
   ]
  },
  {
   "cell_type": "code",
   "execution_count": null,
   "id": "aaec9203-b7ef-4f34-819f-530a26e03b0a",
   "metadata": {
    "tags": []
   },
   "outputs": [],
   "source": [
    "# .take() is for taking rows from a table\n",
    "# Again, it returns a new table\n",
    "# Here we take the first three rows\n",
    "\n",
    "T.take(0,1,2)"
   ]
  },
  {
   "cell_type": "code",
   "execution_count": null,
   "id": "db28951f-0ae8-4c61-a274-218886e3e9a1",
   "metadata": {
    "tags": []
   },
   "outputs": [],
   "source": [
    "# remember to use np.arange to generate sequences\n",
    "# This does the same thing as the last cell\n",
    "\n",
    "T.take(np.arange(0,3))"
   ]
  },
  {
   "cell_type": "markdown",
   "id": "b81b1987-aad6-4494-9ab1-7d668d7901d6",
   "metadata": {},
   "source": [
    "# Census data example"
   ]
  },
  {
   "cell_type": "code",
   "execution_count": null,
   "id": "0c46d4bd-1a53-4fcd-9193-c1d9e3f63c4c",
   "metadata": {},
   "outputs": [],
   "source": [
    "# Read the table from a web site.\n",
    "\n",
    "data_url = 'http://www2.census.gov/programs-surveys/popest/datasets/2010-2020/national/asrh/nc-est2020-agesex-res.csv'\n",
    "full_census_table = Table().read_table(data_url)\n",
    "full_census_table"
   ]
  },
  {
   "cell_type": "markdown",
   "id": "a12363bc-02a3-4536-8add-3c456bc52ac9",
   "metadata": {},
   "source": [
    "## List all of the column labels"
   ]
  },
  {
   "cell_type": "code",
   "execution_count": null,
   "id": "5465b6d4-6dcb-4de0-b9e4-f97eea9379a0",
   "metadata": {
    "tags": []
   },
   "outputs": [],
   "source": [
    "# Let's get a list of all the table's column labels\n",
    "\n",
    "full_census_table.labels"
   ]
  },
  {
   "cell_type": "code",
   "execution_count": null,
   "id": "b7082ced-593c-42f2-8a85-bdf28490f5ac",
   "metadata": {},
   "outputs": [],
   "source": [
    "# Remember that select creates a new table with just the selected columns\n",
    "\n",
    "partial_census_table = full_census_table.select('SEX', 'AGE', 'POPESTIMATE2010', 'POPESTIMATE2020')\n",
    "partial_census_table"
   ]
  },
  {
   "cell_type": "markdown",
   "id": "3c0c2299-40a6-4921-a4fd-5660a005f096",
   "metadata": {},
   "source": [
    "## Extract the data from a table columns as an array"
   ]
  },
  {
   "cell_type": "code",
   "execution_count": null,
   "id": "587dd336-4bf0-4b72-9522-714d15ba2344",
   "metadata": {},
   "outputs": [],
   "source": [
    "# .select() returns a new table with the selected columns\n",
    "# .column() returns the actual data as an array from the chosen column\n",
    "\n",
    "type(partial_census_table.column(\"AGE\"))"
   ]
  },
  {
   "cell_type": "code",
   "execution_count": null,
   "id": "320ea325-7ecb-402b-a15a-63a73d0a943c",
   "metadata": {
    "tags": []
   },
   "outputs": [],
   "source": [
    "partial_census_table.column(\"AGE\")"
   ]
  },
  {
   "cell_type": "markdown",
   "id": "09394b57-cfdc-4fab-8591-c9b766a9d017",
   "metadata": {},
   "source": [
    "## Rename a column"
   ]
  },
  {
   "cell_type": "code",
   "execution_count": null,
   "id": "4dcc5207-4254-4c77-b035-699a9577963f",
   "metadata": {},
   "outputs": [],
   "source": [
    "# Renaming columns in a table\n",
    "# To rename three columns we can just chain together the .relabel() operations\n",
    "\n",
    "us_pop = partial_census_table.relabeled('POPESTIMATE2010', '2010').relabeled('POPESTIMATE2020', '2020').relabeled('SEX','GENDER')\n",
    "us_pop"
   ]
  },
  {
   "cell_type": "markdown",
   "id": "cb143a99-596b-444c-b4e6-d18aaaeb230e",
   "metadata": {},
   "source": [
    "## Extract the rows of a table that satisfy a condition -- where()"
   ]
  },
  {
   "cell_type": "code",
   "execution_count": null,
   "id": "5af64f24-76ab-49ef-8bd1-82261306e7b7",
   "metadata": {},
   "outputs": [],
   "source": [
    "# The default predicate for where is are.equal_to()\n",
    "# This example returns a table with just the entries of\n",
    "# folks who are 81 years old.\n",
    "\n",
    "us_pop.where('AGE',100)"
   ]
  },
  {
   "cell_type": "code",
   "execution_count": null,
   "id": "ba8d9c73-8e64-4b80-b7b5-50df89450202",
   "metadata": {
    "tags": []
   },
   "outputs": [],
   "source": [
    "# This does the same thing as the cell above\n",
    "us_pop.where('AGE', are.equal_to(81))"
   ]
  },
  {
   "cell_type": "code",
   "execution_count": null,
   "id": "fb08c304-2f6d-4bce-99ff-b219828b70d6",
   "metadata": {},
   "outputs": [],
   "source": [
    "us_pop.where('AGE', are.above(70))"
   ]
  },
  {
   "cell_type": "code",
   "execution_count": null,
   "id": "42cc500a-891a-46ca-91fa-c1b6f1896818",
   "metadata": {
    "tags": []
   },
   "outputs": [],
   "source": [
    "us_pop.where('AGE', are.between(5, 10))"
   ]
  },
  {
   "cell_type": "markdown",
   "id": "4e5356a0-6b26-46bd-9115-e446f82113d3",
   "metadata": {
    "tags": []
   },
   "source": [
    "## Chaining methods and plotting table data"
   ]
  },
  {
   "cell_type": "code",
   "execution_count": null,
   "id": "39326e89-d4cb-461a-b3e8-3d8b99e99267",
   "metadata": {},
   "outputs": [],
   "source": [
    "# Chaining methods\n",
    "us_pop.where('GENDER',0).select('AGE','2010','2020').where('AGE',are.below(100)).plot('AGE')"
   ]
  },
  {
   "cell_type": "markdown",
   "id": "2bc90f0a-0462-4751-876a-8e1e693ae713",
   "metadata": {},
   "source": [
    "Note that this plot illustrates the aging of the US population between 2010 and 2020."
   ]
  },
  {
   "cell_type": "markdown",
   "id": "6e2fdb45-f97d-40ad-8477-e1d30e89dfe4",
   "metadata": {
    "tags": []
   },
   "source": [
    "## Cyril Snodbottom's GPA\n",
    "\n",
    "### Here is how Temple calculates your GPA:\n",
    "\n",
    "To Compute Semester Grade Point Average:\n",
    "\n",
    "* Multiply the value of the grade by the course's number of credit hours to get 'Quality Points'.\n",
    "* Add the total quality points.\n",
    "* Divide total number of quality points by the total number of GPA hours completed in courses that yield quality points."
   ]
  },
  {
   "cell_type": "markdown",
   "id": "6ffca03e-e9d1-4a14-8614-e55dc7cee5e1",
   "metadata": {},
   "source": [
    "### Create the table"
   ]
  },
  {
   "cell_type": "code",
   "execution_count": null,
   "id": "523bd802-df33-4392-a3b4-ebc54c584137",
   "metadata": {
    "tags": []
   },
   "outputs": [],
   "source": [
    "# Create the arrays for the table\n",
    "courses = make_array(\"Freshman Seminar\", \"Intermediate Algebra\", \"Elements of Data Science\", \"Intellectual Heritage I\", \"Analytical Reading and Writing\")\n",
    "grades = make_array(\"C+\", \"B\", \"A\", \"B+\", \"B-\")\n",
    "class_gpa = make_array(2.33, 3, 4, 3.33, 2.67)\n",
    "credits = make_array(1, 4, 3, 3, 3)\n",
    "\n",
    "# Build the table\n",
    "transcript = Table().with_columns(\"Course\", courses,\n",
    "                                  \"Grade\", grades,\n",
    "                                  \"Class GPA\", class_gpa,\n",
    "                                  \"Credits\", credits)\n",
    "transcript"
   ]
  },
  {
   "cell_type": "markdown",
   "id": "d4a5dbaa-41e3-4cc4-8d71-802d82fc331c",
   "metadata": {
    "tags": []
   },
   "source": [
    "### Calculate the \"quality points.\"\n",
    "Multiply the value of the grade by the course's number of credit hours to get 'Quality Points'."
   ]
  },
  {
   "cell_type": "code",
   "execution_count": null,
   "id": "be681def-29d9-48bd-8ab8-4dc65f4a3577",
   "metadata": {
    "tags": []
   },
   "outputs": [],
   "source": [
    "# Recall that .column() extracts the data array from a column\n",
    "transcript.column(\"Class GPA\")"
   ]
  },
  {
   "cell_type": "code",
   "execution_count": null,
   "id": "1afc27a8-bb4e-41f0-9b2c-5010dc9e62c7",
   "metadata": {
    "tags": []
   },
   "outputs": [],
   "source": [
    "# We can multiple arrays together.\n",
    "transcript.column(\"Class GPA\") * transcript.column(\"Credits\")"
   ]
  },
  {
   "cell_type": "code",
   "execution_count": null,
   "id": "66e472ec-2cf6-45a8-9106-ff7a5aecc2d5",
   "metadata": {
    "tags": []
   },
   "outputs": [],
   "source": [
    "# So:\n",
    "# Extract the columns, multiply, \n",
    "# and put the result into the table as a new column\n",
    "qp = transcript.column(\"Class GPA\") * transcript.column(\"Credits\")\n",
    "transcript = transcript.with_columns(\"Quality Points\", qp)\n",
    "transcript"
   ]
  },
  {
   "cell_type": "markdown",
   "id": "2e57583d-a029-4c76-a34f-078018a83004",
   "metadata": {},
   "source": [
    "### Compute the GPA\n",
    "* Add the total quality points.\n",
    "* Divide total number of quality points by the total number of GPA hours completed in courses that yield quality points."
   ]
  },
  {
   "cell_type": "code",
   "execution_count": null,
   "id": "fd65ec24-5332-4dc2-92b6-1cb09a6d8edd",
   "metadata": {
    "tags": []
   },
   "outputs": [],
   "source": [
    "# Use np.sum() to add up the columns\n",
    "gpa = np.sum(transcript.column(\"Quality Points\")) / np.sum(transcript.column(\"Credits\"))\n",
    "print(\"Cyril's GPA is:\", gpa)"
   ]
  },
  {
   "cell_type": "code",
   "execution_count": null,
   "id": "d0625356-6617-45b6-bebe-b866d7ced7e3",
   "metadata": {
    "tags": []
   },
   "outputs": [],
   "source": [
    "# The round() function rounds off numbers\n",
    "# Round off the answer to two decimal places\n",
    "gpa = np.sum(transcript.column(\"Quality Points\")) / np.sum(transcript.column(\"Credits\"))\n",
    "print(\"Cyril's GPA is:\", round(gpa, 2))"
   ]
  }
 ],
 "metadata": {
  "kernelspec": {
   "display_name": "Python 3 (ipykernel)",
   "language": "python",
   "name": "python3"
  },
  "language_info": {
   "codemirror_mode": {
    "name": "ipython",
    "version": 3
   },
   "file_extension": ".py",
   "mimetype": "text/x-python",
   "name": "python",
   "nbconvert_exporter": "python",
   "pygments_lexer": "ipython3",
   "version": "3.10.11"
  }
 },
 "nbformat": 4,
 "nbformat_minor": 5
}
