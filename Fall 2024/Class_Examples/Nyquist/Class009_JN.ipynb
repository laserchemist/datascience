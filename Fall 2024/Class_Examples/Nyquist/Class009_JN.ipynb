{
 "cells": [
  {
   "cell_type": "markdown",
   "metadata": {},
   "source": [
    "# Class 09: Today's Data Wrangling Example \n",
    "![Heart](data/valentines-day-2023-6753651837109573.3-law.gif)"
   ]
  },
  {
   "cell_type": "markdown",
   "metadata": {},
   "source": [
    "Data from Kaggle see [https://www.kaggle.com/datasets/johnsmith88/heart-disease-dataset](https://www.kaggle.com/datasets/johnsmith88/heart-disease-dataset)\n",
    "You can find out more about the original dataset [here.](https://archive.ics.uci.edu/dataset/45/heart+disease)\n",
    "1. age\n",
    "2. sex\n",
    "3. chest pain type (4 values)\n",
    "4. resting blood pressure\n",
    "5. serum cholestoral in mg/dl\n",
    "6. fasting blood sugar > 120 mg/dl (1=yes, 0=no)\n",
    "7. resting electrocardiographic results (values 0,1,2)\n",
    "8. maximum heart rate achieved\n",
    "9. exercise induced angina (1=yes, 0=no)\n",
    "10. oldpeak = ST depression induced by exercise relative to rest\n",
    "11. the slope of the peak exercise ST segment\n",
    "12. number of major vessels (0-3) colored by flourosopy\n",
    "13. thal:  A blood disorder called thalassemia 0 = normal; 1 = fixed defect; 2 = reversable defect\n",
    "\n",
    "The names and social security numbers of the patients were recently removed from the database, replaced with dummy values.\n",
    "\n",
    "*target* (0 = no heart disease and 1 = heart disease)\n",
    "\n",
    "<img src=\"https://www.wikidoc.org/images/5/53/SinusRhythmLabels.png\" alt=\"EKG Image\" width=500, height=\"auto\" class=\"blog-image\">"
   ]
  },
  {
   "cell_type": "code",
   "execution_count": null,
   "metadata": {
    "tags": []
   },
   "outputs": [],
   "source": [
    "from datascience import *\n",
    "import numpy as np\n",
    "# import for plotting\n",
    "%matplotlib inline\n",
    "import matplotlib.pyplot as plt\n",
    "plt.style.use('fivethirtyeight')\n",
    "# Fix for datascience plots\n",
    "import collections as collections\n",
    "import collections.abc as abc\n",
    "collections.Iterable = abc.Iterable"
   ]
  },
  {
   "cell_type": "code",
   "execution_count": null,
   "metadata": {
    "tags": []
   },
   "outputs": [],
   "source": [
    "path = 'data/'\n",
    "data = path + 'heart.csv'\n",
    "heart = Table.read_table(data)\n",
    "heart"
   ]
  },
  {
   "cell_type": "markdown",
   "metadata": {},
   "source": [
    "# group(): Grouping is a way to summarize rows around one or more quantities\n",
    "\n",
    " Table.group(column_or_label, collect=None)\n",
    " \n",
    " collect: a function applied to values in other columns for each group\n",
    " \n",
    " ### Grouping by age\n",
    "We would expect the incidence of heart disease to increase with age"
   ]
  },
  {
   "cell_type": "code",
   "execution_count": null,
   "metadata": {
    "tags": []
   },
   "outputs": [],
   "source": [
    "# The default operation when grouping is count()\n",
    "# The column you group becomes rows, one for each distinct value.\n",
    "by_age = heart.group(\"age\")\n",
    "by_age"
   ]
  },
  {
   "cell_type": "code",
   "execution_count": null,
   "metadata": {
    "tags": []
   },
   "outputs": [],
   "source": [
    "# Returns only one column because the count is the same for all features.\n",
    "by_age.sort('age') "
   ]
  },
  {
   "cell_type": "code",
   "execution_count": null,
   "metadata": {
    "tags": []
   },
   "outputs": [],
   "source": [
    "# The default operation when grouping is count(), but here we ask for median.\n",
    "import numpy as np\n",
    "\n",
    "# We get back multiple columns because each feature will have different values\n",
    "heart.group(\"age\", np.median)"
   ]
  },
  {
   "cell_type": "markdown",
   "metadata": {
    "tags": []
   },
   "source": [
    "## Does the median value of cholestoral increase with age for these patients?"
   ]
  },
  {
   "cell_type": "code",
   "execution_count": null,
   "metadata": {
    "tags": []
   },
   "outputs": [],
   "source": [
    "heart.group(\"age\", np.median).select('age', 'chol median')"
   ]
  },
  {
   "cell_type": "code",
   "execution_count": null,
   "metadata": {
    "tags": []
   },
   "outputs": [],
   "source": [
    "heart.group(\"age\", np.median).select('age', 'chol median').sort('age')"
   ]
  },
  {
   "cell_type": "code",
   "execution_count": null,
   "metadata": {
    "tags": []
   },
   "outputs": [],
   "source": [
    "heart.group(\"age\", np.median).select('age', 'chol median').sort('age').scatter('age', 'chol median')"
   ]
  },
  {
   "cell_type": "code",
   "execution_count": null,
   "metadata": {
    "tags": []
   },
   "outputs": [],
   "source": [
    "heart.group(\"age\", np.median).select('age', 'chol median').sort('age').scatter('age', 'chol median', fit_line=True)"
   ]
  },
  {
   "cell_type": "markdown",
   "metadata": {},
   "source": [
    "**The same operations without chaining**"
   ]
  },
  {
   "cell_type": "code",
   "execution_count": null,
   "metadata": {
    "tags": []
   },
   "outputs": [],
   "source": [
    "# Step 1: \n",
    "heart_group_by_age = heart.group(\"age\", np.median)\n",
    "heart_group_by_age"
   ]
  },
  {
   "cell_type": "code",
   "execution_count": null,
   "metadata": {
    "tags": []
   },
   "outputs": [],
   "source": [
    "# Step 2\n",
    "heart_group_by_age = heart_group_by_age.select('age', 'chol median')\n",
    "heart_group_by_age"
   ]
  },
  {
   "cell_type": "code",
   "execution_count": null,
   "metadata": {
    "tags": []
   },
   "outputs": [],
   "source": [
    "# Step 3\n",
    "heart_group_by_age = heart_group_by_age.sort('age')\n",
    "heart_group_by_age"
   ]
  },
  {
   "cell_type": "code",
   "execution_count": null,
   "metadata": {
    "tags": []
   },
   "outputs": [],
   "source": [
    "# Step 4\n",
    "heart_group_by_age.scatter('age', 'chol median')"
   ]
  },
  {
   "cell_type": "code",
   "execution_count": null,
   "metadata": {
    "tags": []
   },
   "outputs": [],
   "source": [
    "# Step 5\n",
    "heart_group_by_age.scatter('age', 'chol median', fit_line=True)"
   ]
  },
  {
   "cell_type": "markdown",
   "metadata": {},
   "source": [
    "### Age distribution of study population"
   ]
  },
  {
   "cell_type": "code",
   "execution_count": null,
   "metadata": {
    "tags": []
   },
   "outputs": [],
   "source": [
    "heart.hist(\"age\")"
   ]
  },
  {
   "cell_type": "code",
   "execution_count": null,
   "metadata": {
    "tags": []
   },
   "outputs": [],
   "source": [
    "bins = np.arange(20, 90, 5)\n",
    "heart.hist(\"age\", bins=bins)\n",
    "\n",
    "# Note percent per unit in this case means percent per year"
   ]
  },
  {
   "cell_type": "code",
   "execution_count": null,
   "metadata": {
    "tags": []
   },
   "outputs": [],
   "source": [
    "heart.hist(\"chol\", group='target', bins=20)"
   ]
  },
  {
   "cell_type": "markdown",
   "metadata": {},
   "source": [
    "A surprising result! Can you think of any explanations?"
   ]
  },
  {
   "cell_type": "markdown",
   "metadata": {
    "tags": []
   },
   "source": [
    "## Grouping on more than one column"
   ]
  },
  {
   "cell_type": "code",
   "execution_count": null,
   "metadata": {
    "tags": []
   },
   "outputs": [],
   "source": [
    "# Grouping on multiple columns \n",
    "# Creates one row for each unique combination of the grouped column values\n",
    "heart.group([\"sex\", \"target\"])"
   ]
  },
  {
   "cell_type": "markdown",
   "metadata": {},
   "source": [
    "### Another example of using a different collection function than the default count()"
   ]
  },
  {
   "cell_type": "code",
   "execution_count": null,
   "metadata": {
    "tags": []
   },
   "outputs": [],
   "source": [
    "heart.group(\"target\", np.min)"
   ]
  },
  {
   "cell_type": "markdown",
   "metadata": {},
   "source": [
    "### You can also use your own function.\n",
    "Let's say we want the range of values for each feature as whether or not the patient has heart disease."
   ]
  },
  {
   "cell_type": "code",
   "execution_count": null,
   "metadata": {
    "tags": []
   },
   "outputs": [],
   "source": [
    "def range(x):\n",
    "    return max(x) - min(x)"
   ]
  },
  {
   "cell_type": "code",
   "execution_count": null,
   "metadata": {
    "tags": []
   },
   "outputs": [],
   "source": [
    "# Test our function before we apply it!\n",
    "from datascience import *\n",
    "\n",
    "x = make_array(2, 4, 7, 9, 1)\n",
    "range(x)"
   ]
  },
  {
   "cell_type": "code",
   "execution_count": null,
   "metadata": {
    "tags": []
   },
   "outputs": [],
   "source": [
    "# Use our function with group()\n",
    "heart.group(\"target\", range)"
   ]
  },
  {
   "cell_type": "markdown",
   "metadata": {},
   "source": [
    "# pivot(): Use the values of a column as the rows for a new table.\n",
    "\n",
    "According to Wikipedia, \"A pivot table is a table of statistics that summarizes the data of a more extensive table (such as from a database, spreadsheet, or business intelligence program). This summary might include sums, averages, or other statistics, which the pivot table groups together in a meaningful way. Pivot tables are a technique in data processing. They enable a person to arrange and rearrange (or \"pivot\") statistics in order to draw attention to useful information.\"\n",
    "\n",
    "We \"pivot\" the table on one of the columns.\n",
    "\n",
    "Values in a column become rows\n",
    "\n",
    " Table.pivot(columns, rows, values=None, collect=None, zero=None)[source]\n",
    "\n",
    "    Generate a table with a column for each unique value in columns, with rows for each unique value in rows. Each row counts/aggregates the values that match both row and column based on collect."
   ]
  },
  {
   "cell_type": "code",
   "execution_count": null,
   "metadata": {
    "tags": []
   },
   "outputs": [],
   "source": [
    "# Look at the first three rows of starting data set\n",
    "heart.show(3)"
   ]
  },
  {
   "cell_type": "code",
   "execution_count": null,
   "metadata": {
    "tags": []
   },
   "outputs": [],
   "source": [
    "# Just as with group() the default collection operation is count()\n",
    "#------------columns---rows----\n",
    "heart.pivot('slope', 'target')"
   ]
  },
  {
   "cell_type": "code",
   "execution_count": null,
   "metadata": {
    "tags": []
   },
   "outputs": [],
   "source": [
    "#-----------columns---rows---values-----apply-to-values---\n",
    "heart.pivot('age', 'target', 'chol', collect=np.median)"
   ]
  },
  {
   "cell_type": "code",
   "execution_count": null,
   "metadata": {
    "tags": []
   },
   "outputs": [],
   "source": [
    "#--------------------------column----row----values---apply-to-values---\n",
    "chol_by_age = heart.pivot('target', 'age', 'chol', collect=np.median)\n",
    "chol_by_age"
   ]
  },
  {
   "cell_type": "code",
   "execution_count": null,
   "metadata": {
    "tags": []
   },
   "outputs": [],
   "source": [
    "chol_by_age.scatter('age')"
   ]
  },
  {
   "cell_type": "code",
   "execution_count": null,
   "metadata": {
    "tags": []
   },
   "outputs": [],
   "source": [
    "# Eliminate the zeros\n",
    "chol_by_age = chol_by_age.where('0', are.above(0)).where('1', are.above(0))\n",
    "chol_by_age.scatter('age')"
   ]
  },
  {
   "cell_type": "code",
   "execution_count": null,
   "metadata": {
    "tags": []
   },
   "outputs": [],
   "source": [
    "chol_by_age.scatter('age', fit_line=True, overlay=False)"
   ]
  },
  {
   "cell_type": "markdown",
   "metadata": {},
   "source": [
    "# Summary\n",
    "Both group() and pivot() are ways to analyze and summarize large datatables. The are powerful techniques for exploratory data analysis."
   ]
  },
  {
   "cell_type": "markdown",
   "metadata": {},
   "source": [
    "# PostScript - A Mystery\n",
    "According to the metadata:\n",
    "\n",
    "13. thal:  A blood disorder called thalassemia 0 = normal; 1 = fixed defect; 2 = reversable defect"
   ]
  },
  {
   "cell_type": "code",
   "execution_count": null,
   "metadata": {
    "tags": []
   },
   "outputs": [],
   "source": [
    "heart.group('thal')"
   ]
  },
  {
   "cell_type": "markdown",
   "metadata": {},
   "source": [
    "So why are there four values?"
   ]
  },
  {
   "cell_type": "code",
   "execution_count": null,
   "metadata": {},
   "outputs": [],
   "source": []
  }
 ],
 "metadata": {
  "kernelspec": {
   "display_name": "Python 3 (ipykernel)",
   "language": "python",
   "name": "python3"
  },
  "language_info": {
   "codemirror_mode": {
    "name": "ipython",
    "version": 3
   },
   "file_extension": ".py",
   "mimetype": "text/x-python",
   "name": "python",
   "nbconvert_exporter": "python",
   "pygments_lexer": "ipython3",
   "version": "3.10.11"
  }
 },
 "nbformat": 4,
 "nbformat_minor": 4
}
