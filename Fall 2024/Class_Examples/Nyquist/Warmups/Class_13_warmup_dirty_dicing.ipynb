{
 "cells": [
  {
   "cell_type": "markdown",
   "id": "b745b360-d8a4-4fe4-b356-7c0672a72370",
   "metadata": {},
   "source": [
    "# Class 13 Warm-up: Dirty Dicing\n",
    "\n",
    "On the first day of class each group rolled a pair of dice 50 times and records the sum, then calculated the average value for all 50 rolls. Here are the results:\n",
    "\n",
    "| Team | Average |\n",
    "|-------------------|-------|\n",
    "|Histrogram Heros: |   7.8 |\n",
    "|Code Constrictors: |   7.6|\n",
    "|Data Owls:         |   6.5|\n",
    "|Numpy Ninjas:      |   6.7|\n",
    "|Regression Renegades:| 9.2|\n",
    "\n",
    "We know the expected value of the mean is 7, but because of random variation we are unlikely to roll dice 50 times and get a mean of exactly 7. **The questions for you is: How far away from the mean is suspicious?\n",
    "\n",
    "## Hypothesis \n",
    "\n",
    "**Hypothesis: The Regression Renegades went renegade. They somehow cheated with their rolls.**\n",
    "\n",
    "**Null Hypothesis: The Renegades' unusually high mean was just a matter of chance.**\n",
    "\n",
    "\n",
    "## Testing Procedure in Five Steps:\n",
    "1. Set the test statistic\n",
    "2. Write a function to simulate rolling a pair of dice 50 times and calculating the mean.\n",
    "3. Run this function over and over thousands of times, keeping track of the result.\n",
    "4. Calculate the p-value, the chance the test statistic was due to random variation.\n",
    "5. Based on the p-value, accept or reject the null hypothesis.\n",
    "\n",
    "### Step 1: Set the test statistic"
   ]
  },
  {
   "cell_type": "code",
   "execution_count": null,
   "id": "77222ace-a8d1-4007-937d-b0e0ffe993be",
   "metadata": {
    "tags": []
   },
   "outputs": [],
   "source": [
    "import numpy as np\n",
    "from datascience import *\n",
    "%matplotlib inline\n",
    "import matplotlib.pyplot as plt\n",
    "plt.style.use('ggplot')"
   ]
  },
  {
   "cell_type": "code",
   "execution_count": null,
   "id": "3a8bfdae-4a3c-4ee3-8c04-8c70d8bd77ad",
   "metadata": {
    "tags": []
   },
   "outputs": [],
   "source": [
    "test_statistic = 9.2"
   ]
  },
  {
   "cell_type": "markdown",
   "id": "7410c26b-a85b-4367-a2ff-930a920eaf37",
   "metadata": {},
   "source": [
    "### Step 2: Write a function to simulate rolling a pair of dice 50 times and calculating the mean."
   ]
  },
  {
   "cell_type": "code",
   "execution_count": null,
   "id": "561aa43a-6325-4dbd-ac68-bb403ad6997e",
   "metadata": {
    "tags": []
   },
   "outputs": [],
   "source": [
    "# We need a way to simulate rolling one die\n",
    "# Try it a couple of times\n",
    "possible_rolls = [1, 2, 3, 4, 5, 6]\n",
    "np.random.choice(possible_rolls)"
   ]
  },
  {
   "cell_type": "code",
   "execution_count": null,
   "id": "1cdab599-226f-4e6b-a29f-d8f56a0e7eb8",
   "metadata": {
    "tags": []
   },
   "outputs": [],
   "source": [
    "def calc_mean_two_dice(num_rolls):\n",
    "    '''This function simulates rolling a pair of dice\n",
    "    num_rolls times and returns the average sum.'''\n",
    "    possible_rolls = [1, 2, 3, 4, 5, 6]\n",
    "    roll_sums = []\n",
    "    for i in np.arange(num_rolls):\n",
    "        roll_1 = np.random.choice(possible_rolls)\n",
    "        roll_2 = np.random.choice(possible_rolls)\n",
    "        roll_sums.append(roll_1 + roll_2)\n",
    "    return np.mean(roll_sums)"
   ]
  },
  {
   "cell_type": "code",
   "execution_count": null,
   "id": "12a8de6d-f065-444c-9076-cd9d86e6d550",
   "metadata": {
    "tags": []
   },
   "outputs": [],
   "source": [
    "# Test our function\n",
    "num_rolls = 50\n",
    "for i in np.arange(10):\n",
    "    print(f\"For simulation {i} the mean of {num_rolls} rolls was: {calc_mean_two_dice(num_rolls)}\")"
   ]
  },
  {
   "cell_type": "markdown",
   "id": "ac859f9d-718a-4a4f-921d-238d8f01c80e",
   "metadata": {},
   "source": [
    "### Step 3: Run this function over and over thousands of times, keeping track of the result"
   ]
  },
  {
   "cell_type": "code",
   "execution_count": null,
   "id": "ba447bdc-6422-4ada-b810-531b20295f2f",
   "metadata": {
    "tags": []
   },
   "outputs": [],
   "source": [
    "num_rolls = 50\n",
    "num_simulations = 5000\n",
    "means = []\n",
    "for i in np.arange(num_simulations):\n",
    "    means.append(calc_mean_two_dice(num_rolls))\n",
    "\n",
    "# Turn the list into an array\n",
    "means = np.array(means)"
   ]
  },
  {
   "cell_type": "code",
   "execution_count": null,
   "id": "564f8c9e-ab97-4ca2-8ae7-9da7796fc4d9",
   "metadata": {
    "tags": []
   },
   "outputs": [],
   "source": [
    "means.shape"
   ]
  },
  {
   "cell_type": "code",
   "execution_count": null,
   "id": "c34cdc2f-60df-44da-96b8-bd05f16f9382",
   "metadata": {
    "tags": []
   },
   "outputs": [],
   "source": [
    "plt.hist(means, bins=np.arange(5,9.5,.1),color = \"skyblue\", ec=\"red\")\n",
    "plt.title('Simulate Rolls')\n",
    "plt.xlabel('Mean of 50 rolls')\n",
    "plt.scatter(test_statistic, 0, color='red', s=200);"
   ]
  },
  {
   "cell_type": "markdown",
   "id": "f3e56a00-8ca1-4f54-9dcb-1671814a315b",
   "metadata": {},
   "source": [
    "The plot shows the distribution of means when you roll the dice 50 times. The red dot marks the result submitted by the Regression Renegades. Doesn't look to likely, does it?"
   ]
  },
  {
   "cell_type": "markdown",
   "id": "b06a1628-c034-4cfd-a58b-0fd797d6f3ff",
   "metadata": {},
   "source": [
    "### Step 4: Calculate the p-value\n",
    "\n",
    "To find the p-value we need to know what fraction of our simulations were greater than or equal to our test statistic."
   ]
  },
  {
   "cell_type": "code",
   "execution_count": null,
   "id": "11d33a40-7754-43fa-b7d3-882e2afe3c5e",
   "metadata": {
    "tags": []
   },
   "outputs": [],
   "source": [
    "p_value = np.count_nonzero(means >= test_statistic) / num_simulations\n",
    "print(f\"The p-value is {p_value}\")"
   ]
  },
  {
   "cell_type": "markdown",
   "id": "792f78cb-eefd-4265-a0dd-f2cffc89074e",
   "metadata": {},
   "source": [
    "### Step 5: Based on the p-value, accept or reject the null hypothesis\n",
    "**Busted!** With a p-value of zero we reject the null hypthesis. We conclude there is virtually no chance the result submitted by the Regression Renegades was generated using fair dice."
   ]
  },
  {
   "cell_type": "markdown",
   "id": "49c5033d-d196-4bcf-98ad-f7c648309771",
   "metadata": {},
   "source": [
    "### Student Challenge 1\n",
    "How do you explaing this result?\n",
    "\n"
   ]
  },
  {
   "cell_type": "markdown",
   "id": "9d69de1a-d5e0-4421-8e9c-41e06d2e0ad7",
   "metadata": {},
   "source": []
  },
  {
   "cell_type": "markdown",
   "id": "dbad488d-a41a-4ec1-ad5b-358fc797d903",
   "metadata": {},
   "source": [
    "### Student Challenge 2\n",
    "\n",
    "Repeat the analysis, but this time check the result for the Code constrictors. What is the p-value in that case? Can you reject the null hypothesis? With what degree of confidence?"
   ]
  },
  {
   "cell_type": "code",
   "execution_count": null,
   "id": "3a3d48c2-22db-47ef-9c83-466728a18228",
   "metadata": {},
   "outputs": [],
   "source": []
  },
  {
   "cell_type": "code",
   "execution_count": null,
   "id": "b7f3f2f0-7d19-46f0-b0c5-aec3ae6c3fe2",
   "metadata": {},
   "outputs": [],
   "source": []
  }
 ],
 "metadata": {
  "kernelspec": {
   "display_name": "Python 3 (ipykernel)",
   "language": "python",
   "name": "python3"
  },
  "language_info": {
   "codemirror_mode": {
    "name": "ipython",
    "version": 3
   },
   "file_extension": ".py",
   "mimetype": "text/x-python",
   "name": "python",
   "nbconvert_exporter": "python",
   "pygments_lexer": "ipython3",
   "version": "3.10.11"
  }
 },
 "nbformat": 4,
 "nbformat_minor": 5
}
