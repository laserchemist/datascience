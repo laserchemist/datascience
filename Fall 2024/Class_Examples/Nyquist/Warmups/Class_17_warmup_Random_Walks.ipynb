{
 "cells": [
  {
   "cell_type": "markdown",
   "id": "593e0d9f-c8da-41d3-8d6a-0e6dc0caf819",
   "metadata": {},
   "source": [
    "# Class 18 Warmup - Testing for a Trend\n",
    "## Hypotheses\n",
    "* The **null hypothesis** for is that there is no steady trend in the data, just random fluctuation.\n",
    "* The **alternate hypothesis** is that a trend exists. This trend can be positive, or negative.\n",
    "\n",
    "This is what you are doing in Lab07 with the temperature data. Testing whether or not global temperatures are increasing (positive trend). In that lab, you simulated the null hypothesis as a random step up or down at each time step. \n",
    "\n",
    "In this warmup activity, let's take a closer look at the null hypothesis. Starting at zero and taking random steps up or down is called a \"random walk.\""
   ]
  },
  {
   "cell_type": "code",
   "execution_count": null,
   "id": "ec6682d3-6c39-4907-83f1-c4ac2c7cb745",
   "metadata": {
    "tags": []
   },
   "outputs": [],
   "source": [
    "# Make a single random walk\n",
    "import numpy as np\n",
    "import matplotlib.pyplot as plt\n",
    "%matplotlib inline\n",
    "\n",
    "# Specify the number of steps\n",
    "nsteps = 1000\n",
    "\n",
    "# Create the x-array)\n",
    "x = np.arange(0, nsteps)\n",
    "\n",
    "# Create a y-array of the same length that is all zeros\n",
    "y = np.zeros(nsteps)\n",
    "\n",
    "# Perform the random walk\n",
    "possible_steps = [-1, 1]\n",
    "for i in x[1:nsteps]:\n",
    "    y[i] = y[i-1] + np.random.choice(possible_steps)\n",
    "    \n",
    "# Plot the random walk\n",
    "plt.plot(x, y)\n",
    "plt.xlabel(\"Steps\")\n",
    "plt.ylabel(\"Distance from start\")\n",
    "plt.title(\"A Single Random Walk\");"
   ]
  },
  {
   "cell_type": "markdown",
   "id": "ce8bcd37-7e96-432f-90fb-0c683e6e5dd0",
   "metadata": {
    "tags": []
   },
   "source": [
    "## Student Challenge\n",
    "Run the above cell at least five times and answer the quetions below:\n",
    "\n",
    "1. Do any of the random walk show a general upward trend?\n",
    "2. If you compare different random walks, is there a consistant trend?"
   ]
  },
  {
   "cell_type": "code",
   "execution_count": null,
   "id": "b2f8fa65-4b5d-43ed-a321-8bc199f0a2df",
   "metadata": {},
   "outputs": [],
   "source": []
  }
 ],
 "metadata": {
  "kernelspec": {
   "display_name": "Python 3 (ipykernel)",
   "language": "python",
   "name": "python3"
  },
  "language_info": {
   "codemirror_mode": {
    "name": "ipython",
    "version": 3
   },
   "file_extension": ".py",
   "mimetype": "text/x-python",
   "name": "python",
   "nbconvert_exporter": "python",
   "pygments_lexer": "ipython3",
   "version": "3.10.11"
  }
 },
 "nbformat": 4,
 "nbformat_minor": 5
}
