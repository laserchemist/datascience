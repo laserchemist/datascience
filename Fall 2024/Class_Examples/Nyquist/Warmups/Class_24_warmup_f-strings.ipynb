{
 "cells": [
  {
   "cell_type": "markdown",
   "id": "6c76cb4b-cb9f-4591-8aea-4a5dfd4eadb6",
   "metadata": {},
   "source": [
    "# Class 24 Warm-up\n",
    "## Fun with f-strings\n",
    "\n",
    "By now you are all used to the print() statement. It is easy to use, but the default formatting isn't always the best. You may have notice examples in the lab where we print strings that prefaced with the letter f, such as `f\"Hello, {name}\"` and wondered exactly what is going on. f-strings, short for fomatted strings, allow you to substitute python variable or espressions into a string your are printing, and include ways to format the string to make it look nice.\n",
    "\n",
    "Here is a simple example. Whatever python expression is inside the curly brackets is computed and substitute into the string before printing."
   ]
  },
  {
   "cell_type": "code",
   "execution_count": null,
   "id": "fe00aa33-1725-48ee-a3c7-c8eb6580074c",
   "metadata": {
    "tags": []
   },
   "outputs": [],
   "source": [
    "first_name = \"Albert\"\n",
    "last_name = \"Einstein\"\n",
    "\n",
    "print(f\"Hello, first name is {first_name} and my last name is {last_name}.\")"
   ]
  },
  {
   "cell_type": "markdown",
   "id": "d70d24eb-0820-49a2-ba00-da8454a68138",
   "metadata": {},
   "source": [
    "Notice an f-string looks like an ordinary string, just with the letter f in front of the single or double quotes.\n",
    "\n",
    "It works for numbers, too."
   ]
  },
  {
   "cell_type": "code",
   "execution_count": null,
   "id": "3327b7be-e493-46ce-9844-31d63ede2dad",
   "metadata": {
    "tags": []
   },
   "outputs": [],
   "source": [
    "import math\n",
    "\n",
    "print(f\"The value of pi is: {math.pi}.\")\n",
    "print(f\"pi-squared, {math.pi **2} is slightly less than 10.\")"
   ]
  },
  {
   "cell_type": "markdown",
   "id": "98825ae3-505a-4d32-b8e7-f8646daa8a36",
   "metadata": {},
   "source": [
    "Suppose you don't want to print all those decimal places. f-strings have their own little formatting language. Inside the curly bracket you add a colon and then specify the format. \n",
    "\n",
    "Suppose we want to print pi to only three decimal places."
   ]
  },
  {
   "cell_type": "code",
   "execution_count": null,
   "id": "82838783-169b-4c9d-9c47-cc9e3e5d8c48",
   "metadata": {
    "tags": []
   },
   "outputs": [],
   "source": [
    "print(f\"Pi to three decimal places is {math.pi:.3f}.\")"
   ]
  },
  {
   "cell_type": "markdown",
   "id": "e6be0456-4dfc-4ca2-b653-70f70001ec31",
   "metadata": {},
   "source": [
    "`:.3f` Tell python to print to three decimals and the number is a floating point."
   ]
  },
  {
   "cell_type": "markdown",
   "id": "af3c51d9-8bbb-4e57-a59a-72e81dcee2a1",
   "metadata": {},
   "source": [
    "## Student Challenge\n",
    "Try printing pi to five decimal places."
   ]
  },
  {
   "cell_type": "code",
   "execution_count": null,
   "id": "72414100-3bf5-428c-981a-682d9be7f2a2",
   "metadata": {},
   "outputs": [],
   "source": []
  },
  {
   "cell_type": "markdown",
   "id": "8c0cc5ed-5ceb-4a13-9daf-c7d533932c36",
   "metadata": {},
   "source": [
    "What if you want to print a large number using scientific notation? Instead of `f` inside the {} for floating point, use `e`."
   ]
  },
  {
   "cell_type": "code",
   "execution_count": null,
   "id": "d33709d7-cf2a-4a31-b43e-bd1ea60d3063",
   "metadata": {
    "tags": []
   },
   "outputs": [],
   "source": [
    "big_number = 61293492.23488\n",
    "\n",
    "# Print without using f-strings.\n",
    "print(big_number)"
   ]
  },
  {
   "cell_type": "code",
   "execution_count": null,
   "id": "a0fdbc67-cdf9-4346-a98b-d11bb4218dab",
   "metadata": {
    "tags": []
   },
   "outputs": [],
   "source": [
    "# Print using an f-sting specifying scientific notation with two decimal places\n",
    "print(f\"{big_number:.2e}\")"
   ]
  },
  {
   "cell_type": "markdown",
   "id": "8f8f8b00-307d-42ed-9654-0adbea0b2062",
   "metadata": {},
   "source": [
    "## Student Challenge\n",
    "Modify the loop below to print the first 10 powers of pi to only 3 decimals places. Then try printing the numbers in scientific notation two 3 decimal places."
   ]
  },
  {
   "cell_type": "code",
   "execution_count": null,
   "id": "27a1471e-7507-422c-9fee-d4764b037f94",
   "metadata": {
    "tags": []
   },
   "outputs": [],
   "source": [
    "import numpy as np\n",
    "\n",
    "# Print first ten powers of pi\n",
    "for x in np.arange(10):\n",
    "    print(f\"pi raised to the power {x} is: {math.pi**x}\")"
   ]
  },
  {
   "cell_type": "markdown",
   "id": "ec4fde9d-d20c-455b-bad0-13a29028c07d",
   "metadata": {},
   "source": [
    "There are many more formatting commands available with f-strings. We don't have time to explore them all, but I will show you one more. \n",
    "\n",
    "Here is how you can print large numbers with comma separators inside the numbers."
   ]
  },
  {
   "cell_type": "code",
   "execution_count": null,
   "id": "9935e749-f41e-44cc-acad-ea5e7b312c89",
   "metadata": {
    "tags": []
   },
   "outputs": [],
   "source": [
    "big_numbers = [1238289939490, 13420993420000343, 23422]\n",
    "for num in big_numbers:\n",
    "    print(f\"{num:,}\")"
   ]
  },
  {
   "cell_type": "markdown",
   "id": "bfd14f10-5a9b-40a8-9cb8-40494b9f719c",
   "metadata": {},
   "source": [
    "And if the number numbers have decimals?"
   ]
  },
  {
   "cell_type": "code",
   "execution_count": null,
   "id": "23084836-c55a-4e6f-bcb7-a15b4fba3be8",
   "metadata": {
    "tags": []
   },
   "outputs": [],
   "source": [
    "big_numbers = [1238289939490.23423, 13420993420000343.3443, 23422.3221]\n",
    "for num in big_numbers:\n",
    "    print(f\"{num:,.2f}\")"
   ]
  },
  {
   "cell_type": "markdown",
   "id": "e90a13fc-0cd8-46e3-85c5-4f0da0152e29",
   "metadata": {},
   "source": [
    "Notice that the comma comes before the `.2f`\n",
    "\n",
    "If you want to learn more, there are many tutorials on the web. **Have fun with f-strings!**"
   ]
  },
  {
   "cell_type": "code",
   "execution_count": null,
   "id": "bfe66d16-9f84-486a-807f-62a472b7520f",
   "metadata": {},
   "outputs": [],
   "source": []
  }
 ],
 "metadata": {
  "kernelspec": {
   "display_name": "Python 3 (ipykernel)",
   "language": "python",
   "name": "python3"
  },
  "language_info": {
   "codemirror_mode": {
    "name": "ipython",
    "version": 3
   },
   "file_extension": ".py",
   "mimetype": "text/x-python",
   "name": "python",
   "nbconvert_exporter": "python",
   "pygments_lexer": "ipython3",
   "version": "3.10.11"
  }
 },
 "nbformat": 4,
 "nbformat_minor": 5
}
