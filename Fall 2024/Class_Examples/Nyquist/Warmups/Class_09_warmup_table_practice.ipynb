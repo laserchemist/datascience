{
 "cells": [
  {
   "cell_type": "markdown",
   "metadata": {},
   "source": [
    "# Class 09: Warmup\n",
    "## Operating on Tables (not Operating Tables :-)"
   ]
  },
  {
   "cell_type": "markdown",
   "metadata": {},
   "source": [
    "# Today's Data\n",
    "**This data set contains information on patients, some of whom have heart disease and others who do not. You will be looking at various medical measurements to see which features are diagnostic.**\n",
    "\n",
    "#### Metadata\n",
    "Data from Kaggle see [https://www.kaggle.com/datasets/johnsmith88/heart-disease-dataset](https://www.kaggle.com/datasets/johnsmith88/heart-disease-dataset)\n",
    "You can find out more about the original dataset [here.](https://archive.ics.uci.edu/dataset/45/heart+disease)\n",
    "1. age\n",
    "2. sex\n",
    "3. chest pain type (4 values)\n",
    "4. resting blood pressure\n",
    "5. serum cholestoral in mg/dl\n",
    "6. fasting blood sugar > 120 mg/dl (1=yes, 0=no)\n",
    "7. resting electrocardiographic results (values 0,1,2)\n",
    "8. maximum heart rate achieved\n",
    "9. exercise induced angina (1=yes, 0=no)\n",
    "10. oldpeak = ST depression induced by exercise relative to rest\n",
    "11. the slope of the peak exercise ST segment\n",
    "12. number of major vessels (0-3) colored by flourosopy\n",
    "13. thal:  A blood disorder called thalassemia 0 = normal; 1 = fixed defect; 2 = reversable defect\n",
    "\n",
    "The names and social security numbers of the patients were recently removed from the database, replaced with dummy values.\n",
    "\n",
    "*target* (0 = no heart disease and 1 = heart disease)\n",
    "\n",
    "<img src=\"https://www.wikidoc.org/images/5/53/SinusRhythmLabels.png\" alt=\"EKG Image\" width=500, height=\"auto\" class=\"blog-image\">"
   ]
  },
  {
   "cell_type": "code",
   "execution_count": 17,
   "metadata": {
    "tags": []
   },
   "outputs": [],
   "source": [
    "from datascience import *\n",
    "import numpy as np\n",
    "# import for plotting\n",
    "%matplotlib inline\n",
    "import matplotlib.pyplot as plt\n",
    "plt.style.use('fivethirtyeight')\n",
    "# Fix for datascience plots\n",
    "import collections as collections\n",
    "import collections.abc as abc\n",
    "collections.Iterable = abc.Iterable"
   ]
  },
  {
   "cell_type": "code",
   "execution_count": 18,
   "metadata": {
    "tags": []
   },
   "outputs": [
    {
     "data": {
      "text/html": [
       "<table border=\"1\" class=\"dataframe\">\n",
       "    <thead>\n",
       "        <tr>\n",
       "            <th>age</th> <th>sex</th> <th>cp</th> <th>trestbps</th> <th>chol</th> <th>fbs</th> <th>restecg</th> <th>thalach</th> <th>exang</th> <th>oldpeak</th> <th>slope</th> <th>ca</th> <th>thal</th> <th>target</th>\n",
       "        </tr>\n",
       "    </thead>\n",
       "    <tbody>\n",
       "        <tr>\n",
       "            <td>52  </td> <td>1   </td> <td>0   </td> <td>125     </td> <td>212 </td> <td>0   </td> <td>1      </td> <td>168    </td> <td>0    </td> <td>1      </td> <td>2    </td> <td>2   </td> <td>3   </td> <td>0     </td>\n",
       "        </tr>\n",
       "        <tr>\n",
       "            <td>53  </td> <td>1   </td> <td>0   </td> <td>140     </td> <td>203 </td> <td>1   </td> <td>0      </td> <td>155    </td> <td>1    </td> <td>3.1    </td> <td>0    </td> <td>0   </td> <td>3   </td> <td>0     </td>\n",
       "        </tr>\n",
       "        <tr>\n",
       "            <td>70  </td> <td>1   </td> <td>0   </td> <td>145     </td> <td>174 </td> <td>0   </td> <td>1      </td> <td>125    </td> <td>1    </td> <td>2.6    </td> <td>0    </td> <td>0   </td> <td>3   </td> <td>0     </td>\n",
       "        </tr>\n",
       "        <tr>\n",
       "            <td>61  </td> <td>1   </td> <td>0   </td> <td>148     </td> <td>203 </td> <td>0   </td> <td>1      </td> <td>161    </td> <td>0    </td> <td>0      </td> <td>2    </td> <td>1   </td> <td>3   </td> <td>0     </td>\n",
       "        </tr>\n",
       "        <tr>\n",
       "            <td>62  </td> <td>0   </td> <td>0   </td> <td>138     </td> <td>294 </td> <td>1   </td> <td>1      </td> <td>106    </td> <td>0    </td> <td>1.9    </td> <td>1    </td> <td>3   </td> <td>2   </td> <td>0     </td>\n",
       "        </tr>\n",
       "        <tr>\n",
       "            <td>58  </td> <td>0   </td> <td>0   </td> <td>100     </td> <td>248 </td> <td>0   </td> <td>0      </td> <td>122    </td> <td>0    </td> <td>1      </td> <td>1    </td> <td>0   </td> <td>2   </td> <td>1     </td>\n",
       "        </tr>\n",
       "        <tr>\n",
       "            <td>58  </td> <td>1   </td> <td>0   </td> <td>114     </td> <td>318 </td> <td>0   </td> <td>2      </td> <td>140    </td> <td>0    </td> <td>4.4    </td> <td>0    </td> <td>3   </td> <td>1   </td> <td>0     </td>\n",
       "        </tr>\n",
       "        <tr>\n",
       "            <td>55  </td> <td>1   </td> <td>0   </td> <td>160     </td> <td>289 </td> <td>0   </td> <td>0      </td> <td>145    </td> <td>1    </td> <td>0.8    </td> <td>1    </td> <td>1   </td> <td>3   </td> <td>0     </td>\n",
       "        </tr>\n",
       "        <tr>\n",
       "            <td>46  </td> <td>1   </td> <td>0   </td> <td>120     </td> <td>249 </td> <td>0   </td> <td>0      </td> <td>144    </td> <td>0    </td> <td>0.8    </td> <td>2    </td> <td>0   </td> <td>3   </td> <td>0     </td>\n",
       "        </tr>\n",
       "        <tr>\n",
       "            <td>54  </td> <td>1   </td> <td>0   </td> <td>122     </td> <td>286 </td> <td>0   </td> <td>0      </td> <td>116    </td> <td>1    </td> <td>3.2    </td> <td>1    </td> <td>2   </td> <td>2   </td> <td>0     </td>\n",
       "        </tr>\n",
       "    </tbody>\n",
       "</table>\n",
       "<p>... (1015 rows omitted)</p>"
      ],
      "text/plain": [
       "age  | sex  | cp   | trestbps | chol | fbs  | restecg | thalach | exang | oldpeak | slope | ca   | thal | target\n",
       "52   | 1    | 0    | 125      | 212  | 0    | 1       | 168     | 0     | 1       | 2     | 2    | 3    | 0\n",
       "53   | 1    | 0    | 140      | 203  | 1    | 0       | 155     | 1     | 3.1     | 0     | 0    | 3    | 0\n",
       "70   | 1    | 0    | 145      | 174  | 0    | 1       | 125     | 1     | 2.6     | 0     | 0    | 3    | 0\n",
       "61   | 1    | 0    | 148      | 203  | 0    | 1       | 161     | 0     | 0       | 2     | 1    | 3    | 0\n",
       "62   | 0    | 0    | 138      | 294  | 1    | 1       | 106     | 0     | 1.9     | 1     | 3    | 2    | 0\n",
       "58   | 0    | 0    | 100      | 248  | 0    | 0       | 122     | 0     | 1       | 1     | 0    | 2    | 1\n",
       "58   | 1    | 0    | 114      | 318  | 0    | 2       | 140     | 0     | 4.4     | 0     | 3    | 1    | 0\n",
       "55   | 1    | 0    | 160      | 289  | 0    | 0       | 145     | 1     | 0.8     | 1     | 1    | 3    | 0\n",
       "46   | 1    | 0    | 120      | 249  | 0    | 0       | 144     | 0     | 0.8     | 2     | 0    | 3    | 0\n",
       "54   | 1    | 0    | 122      | 286  | 0    | 0       | 116     | 1     | 3.2     | 1     | 2    | 2    | 0\n",
       "... (1015 rows omitted)"
      ]
     },
     "execution_count": 18,
     "metadata": {},
     "output_type": "execute_result"
    }
   ],
   "source": [
    "path = '../data/'\n",
    "data = path + 'heart.csv'\n",
    "heart = Table.read_table(data)\n",
    "heart"
   ]
  },
  {
   "cell_type": "markdown",
   "metadata": {},
   "source": [
    "## Challenge 1\n",
    "1. What is the age range of the patients as a whole?\n",
    "2. What is the median age?"
   ]
  },
  {
   "cell_type": "code",
   "execution_count": null,
   "metadata": {},
   "outputs": [],
   "source": []
  },
  {
   "cell_type": "code",
   "execution_count": null,
   "metadata": {},
   "outputs": [],
   "source": []
  },
  {
   "cell_type": "markdown",
   "metadata": {},
   "source": [
    "## Challenge 2\n",
    "Create two new tables `younger` and `older` using the median age, where older is above the median and younger is below or equal to the median age. \n",
    "\n",
    "1. Compare the average cholesterol levels of the two groups.\n",
    "2. Compare the average resting blood pressure of the two groups."
   ]
  },
  {
   "cell_type": "code",
   "execution_count": null,
   "metadata": {},
   "outputs": [],
   "source": []
  },
  {
   "cell_type": "code",
   "execution_count": null,
   "metadata": {},
   "outputs": [],
   "source": []
  },
  {
   "cell_type": "markdown",
   "metadata": {},
   "source": [
    "## Challenge 3\n",
    "Use the .where() method to create two new tables from the original table: `heart_no_disease` and `heart_disease` and answer the following questions:\n",
    "\n",
    "1. What is the percentage of the patients with heart disease for men (sex=1) vs. women (sex=0)?\n",
    "2. On average, do the patients with heart disease have higher cholesterol?"
   ]
  },
  {
   "cell_type": "code",
   "execution_count": null,
   "metadata": {},
   "outputs": [],
   "source": []
  },
  {
   "cell_type": "code",
   "execution_count": null,
   "metadata": {},
   "outputs": [],
   "source": []
  },
  {
   "cell_type": "markdown",
   "metadata": {},
   "source": [
    "## Challenge 4\n",
    "\n",
    "A ratio that might be predictive of heart disease is resting blood pressure to age. Create a new column in the orginal table called `bp_over_age` and check if the average ratio is higher for patients with heart disease."
   ]
  },
  {
   "cell_type": "code",
   "execution_count": 64,
   "metadata": {
    "tags": []
   },
   "outputs": [
    {
     "data": {
      "text/html": [
       "<table border=\"1\" class=\"dataframe\">\n",
       "    <thead>\n",
       "        <tr>\n",
       "            <th>age</th> <th>sex</th> <th>cp</th> <th>trestbps</th> <th>chol</th> <th>fbs</th> <th>restecg</th> <th>thalach</th> <th>exang</th> <th>oldpeak</th> <th>slope</th> <th>ca</th> <th>thal</th> <th>target</th> <th>bp_over_age</th>\n",
       "        </tr>\n",
       "    </thead>\n",
       "    <tbody>\n",
       "        <tr>\n",
       "            <td>52  </td> <td>1   </td> <td>0   </td> <td>125     </td> <td>212 </td> <td>0   </td> <td>1      </td> <td>168    </td> <td>0    </td> <td>1      </td> <td>2    </td> <td>2   </td> <td>3   </td> <td>0     </td> <td>2.40385    </td>\n",
       "        </tr>\n",
       "        <tr>\n",
       "            <td>53  </td> <td>1   </td> <td>0   </td> <td>140     </td> <td>203 </td> <td>1   </td> <td>0      </td> <td>155    </td> <td>1    </td> <td>3.1    </td> <td>0    </td> <td>0   </td> <td>3   </td> <td>0     </td> <td>2.64151    </td>\n",
       "        </tr>\n",
       "        <tr>\n",
       "            <td>70  </td> <td>1   </td> <td>0   </td> <td>145     </td> <td>174 </td> <td>0   </td> <td>1      </td> <td>125    </td> <td>1    </td> <td>2.6    </td> <td>0    </td> <td>0   </td> <td>3   </td> <td>0     </td> <td>2.07143    </td>\n",
       "        </tr>\n",
       "        <tr>\n",
       "            <td>61  </td> <td>1   </td> <td>0   </td> <td>148     </td> <td>203 </td> <td>0   </td> <td>1      </td> <td>161    </td> <td>0    </td> <td>0      </td> <td>2    </td> <td>1   </td> <td>3   </td> <td>0     </td> <td>2.42623    </td>\n",
       "        </tr>\n",
       "        <tr>\n",
       "            <td>62  </td> <td>0   </td> <td>0   </td> <td>138     </td> <td>294 </td> <td>1   </td> <td>1      </td> <td>106    </td> <td>0    </td> <td>1.9    </td> <td>1    </td> <td>3   </td> <td>2   </td> <td>0     </td> <td>2.22581    </td>\n",
       "        </tr>\n",
       "        <tr>\n",
       "            <td>58  </td> <td>0   </td> <td>0   </td> <td>100     </td> <td>248 </td> <td>0   </td> <td>0      </td> <td>122    </td> <td>0    </td> <td>1      </td> <td>1    </td> <td>0   </td> <td>2   </td> <td>1     </td> <td>1.72414    </td>\n",
       "        </tr>\n",
       "        <tr>\n",
       "            <td>58  </td> <td>1   </td> <td>0   </td> <td>114     </td> <td>318 </td> <td>0   </td> <td>2      </td> <td>140    </td> <td>0    </td> <td>4.4    </td> <td>0    </td> <td>3   </td> <td>1   </td> <td>0     </td> <td>1.96552    </td>\n",
       "        </tr>\n",
       "        <tr>\n",
       "            <td>55  </td> <td>1   </td> <td>0   </td> <td>160     </td> <td>289 </td> <td>0   </td> <td>0      </td> <td>145    </td> <td>1    </td> <td>0.8    </td> <td>1    </td> <td>1   </td> <td>3   </td> <td>0     </td> <td>2.90909    </td>\n",
       "        </tr>\n",
       "        <tr>\n",
       "            <td>46  </td> <td>1   </td> <td>0   </td> <td>120     </td> <td>249 </td> <td>0   </td> <td>0      </td> <td>144    </td> <td>0    </td> <td>0.8    </td> <td>2    </td> <td>0   </td> <td>3   </td> <td>0     </td> <td>2.6087     </td>\n",
       "        </tr>\n",
       "        <tr>\n",
       "            <td>54  </td> <td>1   </td> <td>0   </td> <td>122     </td> <td>286 </td> <td>0   </td> <td>0      </td> <td>116    </td> <td>1    </td> <td>3.2    </td> <td>1    </td> <td>2   </td> <td>2   </td> <td>0     </td> <td>2.25926    </td>\n",
       "        </tr>\n",
       "    </tbody>\n",
       "</table>\n",
       "<p>... (1015 rows omitted)</p>"
      ],
      "text/plain": [
       "age  | sex  | cp   | trestbps | chol | fbs  | restecg | thalach | exang | oldpeak | slope | ca   | thal | target | bp_over_age\n",
       "52   | 1    | 0    | 125      | 212  | 0    | 1       | 168     | 0     | 1       | 2     | 2    | 3    | 0      | 2.40385\n",
       "53   | 1    | 0    | 140      | 203  | 1    | 0       | 155     | 1     | 3.1     | 0     | 0    | 3    | 0      | 2.64151\n",
       "70   | 1    | 0    | 145      | 174  | 0    | 1       | 125     | 1     | 2.6     | 0     | 0    | 3    | 0      | 2.07143\n",
       "61   | 1    | 0    | 148      | 203  | 0    | 1       | 161     | 0     | 0       | 2     | 1    | 3    | 0      | 2.42623\n",
       "62   | 0    | 0    | 138      | 294  | 1    | 1       | 106     | 0     | 1.9     | 1     | 3    | 2    | 0      | 2.22581\n",
       "58   | 0    | 0    | 100      | 248  | 0    | 0       | 122     | 0     | 1       | 1     | 0    | 2    | 1      | 1.72414\n",
       "58   | 1    | 0    | 114      | 318  | 0    | 2       | 140     | 0     | 4.4     | 0     | 3    | 1    | 0      | 1.96552\n",
       "55   | 1    | 0    | 160      | 289  | 0    | 0       | 145     | 1     | 0.8     | 1     | 1    | 3    | 0      | 2.90909\n",
       "46   | 1    | 0    | 120      | 249  | 0    | 0       | 144     | 0     | 0.8     | 2     | 0    | 3    | 0      | 2.6087\n",
       "54   | 1    | 0    | 122      | 286  | 0    | 0       | 116     | 1     | 3.2     | 1     | 2    | 2    | 0      | 2.25926\n",
       "... (1015 rows omitted)"
      ]
     },
     "execution_count": 64,
     "metadata": {},
     "output_type": "execute_result"
    }
   ],
   "source": [
    "heart = heart.with_columns('bp_over_age', heart.column('trestbps')/heart.column('age'))\n",
    "heart"
   ]
  },
  {
   "cell_type": "code",
   "execution_count": null,
   "metadata": {},
   "outputs": [],
   "source": []
  },
  {
   "cell_type": "code",
   "execution_count": null,
   "metadata": {},
   "outputs": [],
   "source": []
  },
  {
   "cell_type": "markdown",
   "metadata": {},
   "source": [
    "## Challenge 5\n",
    "Create a markdown cell below and suggest another ratio or some other combination of columns that you think might be predictive of heart disease."
   ]
  },
  {
   "cell_type": "code",
   "execution_count": null,
   "metadata": {},
   "outputs": [],
   "source": []
  }
 ],
 "metadata": {
  "kernelspec": {
   "display_name": "Python 3 (ipykernel)",
   "language": "python",
   "name": "python3"
  },
  "language_info": {
   "codemirror_mode": {
    "name": "ipython",
    "version": 3
   },
   "file_extension": ".py",
   "mimetype": "text/x-python",
   "name": "python",
   "nbconvert_exporter": "python",
   "pygments_lexer": "ipython3",
   "version": "3.10.11"
  }
 },
 "nbformat": 4,
 "nbformat_minor": 4
}
