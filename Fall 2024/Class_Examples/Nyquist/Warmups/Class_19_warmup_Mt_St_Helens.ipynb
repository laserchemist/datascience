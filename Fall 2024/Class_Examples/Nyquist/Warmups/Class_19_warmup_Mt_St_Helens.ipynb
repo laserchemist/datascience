{
 "cells": [
  {
   "cell_type": "markdown",
   "metadata": {},
   "source": [
    "# Hypothesis testing\n",
    "## Mini project II - Mount Saint Helens\n",
    "Elements of Data Science"
   ]
  },
  {
   "cell_type": "code",
   "execution_count": null,
   "metadata": {},
   "outputs": [],
   "source": [
    "import numpy as np\n",
    "from datascience import *"
   ]
  },
  {
   "cell_type": "code",
   "execution_count": null,
   "metadata": {},
   "outputs": [],
   "source": [
    "%matplotlib inline\n",
    "import matplotlib.pyplot as plt\n",
    "plt.style.use('fivethirtyeight')"
   ]
  },
  {
   "cell_type": "markdown",
   "metadata": {},
   "source": [
    "## Create differences Test statistic \n",
    "We are looking for a trend, so we compare the number of increases with the number of decreases."
   ]
  },
  {
   "cell_type": "code",
   "execution_count": null,
   "metadata": {},
   "outputs": [],
   "source": [
    "def diff_n(values, n):\n",
    "    return np.array(values)[n:] - np.array(values)[:-n]"
   ]
  },
  {
   "cell_type": "markdown",
   "metadata": {},
   "source": [
    "### Student Challenge\n",
    "Explain in words with the `diff_n` function does."
   ]
  },
  {
   "cell_type": "markdown",
   "metadata": {},
   "source": []
  },
  {
   "cell_type": "code",
   "execution_count": null,
   "metadata": {
    "tags": []
   },
   "outputs": [],
   "source": [
    "# Test the function by making a sample array\n",
    "sample_array = make_array(1.0, 1.5,1.4, 1.2, 2.0, 1.8)"
   ]
  },
  {
   "cell_type": "code",
   "execution_count": null,
   "metadata": {},
   "outputs": [],
   "source": [
    "positive = np.count_nonzero(diff_n(sample_array, 2) > 0)\n",
    "positive"
   ]
  },
  {
   "cell_type": "code",
   "execution_count": null,
   "metadata": {},
   "outputs": [],
   "source": [
    "negative = np.count_nonzero(diff_n(sample_array, 2) < 0)\n",
    "negative"
   ]
  },
  {
   "cell_type": "code",
   "execution_count": null,
   "metadata": {},
   "outputs": [],
   "source": [
    "positive - negative"
   ]
  },
  {
   "cell_type": "code",
   "execution_count": null,
   "metadata": {},
   "outputs": [],
   "source": [
    "def changes(rates, years = 1):\n",
    "    '''Return the number of increases minus the number of decreases after a specified number of years.'''\n",
    "    differences = diff_n(rates, years)  \n",
    "    positives = np.count_nonzero(differences > 0)\n",
    "    negatives = np.count_nonzero(differences < 0) \n",
    "    return positives - negatives  "
   ]
  },
  {
   "cell_type": "code",
   "execution_count": null,
   "metadata": {
    "tags": []
   },
   "outputs": [],
   "source": [
    "def sim_null(num=200):\n",
    "    '''Simulate random increases and decreases num times. Return the net positives.'''\n",
    "    tchance = np.random.choice([\"Increase\", \"Decrease\"], num)\n",
    "    inc = np.sum(tchance==\"Increase\")\n",
    "    dec = np.sum(tchance==\"Decrease\")\n",
    "    return inc - dec"
   ]
  },
  {
   "cell_type": "code",
   "execution_count": null,
   "metadata": {
    "tags": []
   },
   "outputs": [],
   "source": [
    "sim_null()"
   ]
  },
  {
   "cell_type": "markdown",
   "metadata": {},
   "source": [
    "### Inference and biodiversity recovery"
   ]
  },
  {
   "cell_type": "code",
   "execution_count": null,
   "metadata": {},
   "outputs": [],
   "source": [
    "# Read the data\n",
    "datafile = \"../../../Mini Project II/data/MSH_STRUCTURE_PLOT_YEAR.csv\"\n",
    "MSH_YEAR = Table.read_table(datafile)\n",
    "MSH_YEAR.show(2)"
   ]
  },
  {
   "cell_type": "code",
   "execution_count": null,
   "metadata": {},
   "outputs": [],
   "source": [
    "# Find the plot names\n",
    "np.unique(MSH_YEAR['PLOT_NAME'])"
   ]
  },
  {
   "cell_type": "code",
   "execution_count": null,
   "metadata": {},
   "outputs": [],
   "source": [
    "# Scatter plot for the Abysmal Plain (ABPL)\n",
    "MSH_YEAR.where('PLOT_NAME', 'ABPL').scatter(\"YEAR\", \"COVER_%\")"
   ]
  },
  {
   "cell_type": "code",
   "execution_count": null,
   "metadata": {},
   "outputs": [],
   "source": [
    "# Average over all of the subplot by year\n",
    "MSH_group = MSH_YEAR.where('PLOT_NAME', 'ABPL').group(\"YEAR\", np.mean)\n",
    "MSH_group.show(3)"
   ]
  },
  {
   "cell_type": "code",
   "execution_count": null,
   "metadata": {},
   "outputs": [],
   "source": [
    "# Make a scatter plot of the averages\n",
    "MSH_group.scatter(\"YEAR\", \"COVER_% mean\",  label='ABPL data Cover %', color='green')\n",
    "plt.xlim(1995,2010);"
   ]
  },
  {
   "cell_type": "code",
   "execution_count": null,
   "metadata": {
    "tags": []
   },
   "outputs": [],
   "source": [
    "# Net increases in perceent cover\n",
    "COVER_APBL = MSH_group.column(\"COVER_% mean\")\n",
    "changes(COVER_APBL,1)"
   ]
  },
  {
   "cell_type": "code",
   "execution_count": null,
   "metadata": {
    "tags": []
   },
   "outputs": [],
   "source": [
    "# Number of chances to change\n",
    "len(COVER_APBL) - 1"
   ]
  },
  {
   "cell_type": "code",
   "execution_count": null,
   "metadata": {
    "tags": []
   },
   "outputs": [],
   "source": [
    "# Create the table to sample from\n",
    "uniform = Table().with_columns(\n",
    "        \"Change\", make_array('Increase', 'Decrease'),\n",
    "        \"Chance\", make_array(0.5,        0.5))\n",
    "uniform.sample_from_distribution('Chance', 13)  "
   ]
  },
  {
   "cell_type": "code",
   "execution_count": null,
   "metadata": {},
   "outputs": [],
   "source": [
    "def simulate_under_null(num_chances_to_change):\n",
    "    uniform = Table().with_columns(\n",
    "        \"Change\", make_array('Increase', 'Decrease'),\n",
    "        \"Chance\", make_array(0.5,        0.5))\n",
    "    sample = uniform.sample_from_distribution('Chance', num_chances_to_change)     \n",
    "    increases = sample.column(\"Chance sample\").item(0) \n",
    "    decreases = sample.column(\"Chance sample\").item(1)  \n",
    "    return increases - decreases  "
   ]
  },
  {
   "cell_type": "code",
   "execution_count": null,
   "metadata": {},
   "outputs": [],
   "source": [
    "def empirical_distribution(tbl, iterations):\n",
    "    num_changes = tbl.num_rows - 1\n",
    "    samples = make_array()\n",
    "    for i in np.arange(iterations):\n",
    "        samples = np.append(samples, simulate_under_null(num_changes)) \n",
    "    Table().with_column('Test statistic under null', samples).hist(bins=np.arange(min(samples), max(samples) + max(samples) , 2))\n",
    "    return samples"
   ]
  },
  {
   "cell_type": "code",
   "execution_count": null,
   "metadata": {
    "tags": []
   },
   "outputs": [],
   "source": [
    "APBL_group = MSH_YEAR.where('PLOT_NAME','ABPL').group(\"YEAR\",np.mean)\n",
    "APBL_group.show(3)"
   ]
  },
  {
   "cell_type": "code",
   "execution_count": null,
   "metadata": {
    "tags": []
   },
   "outputs": [],
   "source": [
    "changes(APBL_group.column('COVER_% mean'))"
   ]
  },
  {
   "cell_type": "code",
   "execution_count": null,
   "metadata": {
    "tags": []
   },
   "outputs": [],
   "source": [
    "APBL_group.scatter('YEAR', 'COVER_% mean')"
   ]
  },
  {
   "cell_type": "code",
   "execution_count": null,
   "metadata": {},
   "outputs": [],
   "source": [
    "samples = empirical_distribution(APBL_group,10000)\n",
    "plt.scatter(5,0);"
   ]
  },
  {
   "cell_type": "code",
   "execution_count": null,
   "metadata": {
    "tags": []
   },
   "outputs": [],
   "source": [
    "tstatistic = changes(APBL_group.column('COVER_% mean'))\n",
    "tstatistic"
   ]
  },
  {
   "cell_type": "code",
   "execution_count": null,
   "metadata": {
    "tags": []
   },
   "outputs": [],
   "source": [
    "pvalue = np.count_nonzero(samples >= tstatistic) / len(samples)\n",
    "pvalue"
   ]
  },
  {
   "cell_type": "markdown",
   "metadata": {},
   "source": [
    "## More detailed plot"
   ]
  },
  {
   "cell_type": "code",
   "execution_count": null,
   "metadata": {
    "tags": []
   },
   "outputs": [],
   "source": [
    "plt.hist(samples, label='null distribution', bins = np.arange(-20,20,2),color='yellow',alpha=0.4, edgecolor='black', linewidth=1.2)\n",
    "plt.scatter(tstatistic,0, s=300, label='test statistic',marker='o', \n",
    "            c='red',alpha=0.8, edgecolors='blue')\n",
    "plt.legend(loc='center left', bbox_to_anchor=(1.1, 0.5), labelspacing=3)\n",
    "plt.title('Cover_% Changes')\n",
    "plt.text(25, 500, 'p-value = '+str(pvalue), color = \"black\")\n",
    "plt.show()"
   ]
  },
  {
   "cell_type": "code",
   "execution_count": null,
   "metadata": {
    "tags": []
   },
   "outputs": [],
   "source": [
    "# Create bins\n",
    "bins = np.arange(-20, 20, 2)\n",
    "\n",
    "# Split the data\n",
    "left_data = samples[samples <= tstatistic]\n",
    "right_data = samples[samples > tstatistic]\n",
    "\n",
    "# Plot the left part of the histogram (values <= test statistic)\n",
    "plt.hist(left_data, bins=bins, color='yellow', alpha=0.4, edgecolor='black', linewidth=1.2)\n",
    "\n",
    "# Plot the right part of the histogram (values > test statistic)\n",
    "plt.hist(right_data, bins=bins, color='lightblue', alpha=0.4, edgecolor='black', linewidth=1.2)\n",
    "\n",
    "# Add the scatter point for the test statistic\n",
    "plt.scatter(tstatistic, 0, s=300, label='test statistic', marker='o', \n",
    "            c='red', alpha=0.8, edgecolors='blue')\n",
    "\n",
    "# Add legend, title, and p-value text\n",
    "plt.legend(['test statistic', 'Null Hypothesis Distribution'], loc='center left', bbox_to_anchor=(1.1, 0.5), labelspacing=3)\n",
    "plt.title('Cover_% Changes')\n",
    "plt.text(25, 500, 'p-value = '+str(pvalue), color=\"black\")\n",
    "\n",
    "plt.show()"
   ]
  },
  {
   "cell_type": "markdown",
   "metadata": {},
   "source": [
    "## Student Challenge\n",
    "\n",
    "Is the result statistically significant?\n",
    "\n",
    "Does this surprise you?\n",
    "\n",
    "What is your explanation?\n",
    "\n"
   ]
  },
  {
   "cell_type": "markdown",
   "metadata": {},
   "source": []
  }
 ],
 "metadata": {
  "kernelspec": {
   "display_name": "Python 3 (ipykernel)",
   "language": "python",
   "name": "python3"
  },
  "language_info": {
   "codemirror_mode": {
    "name": "ipython",
    "version": 3
   },
   "file_extension": ".py",
   "mimetype": "text/x-python",
   "name": "python",
   "nbconvert_exporter": "python",
   "pygments_lexer": "ipython3",
   "version": "3.10.11"
  }
 },
 "nbformat": 4,
 "nbformat_minor": 4
}
