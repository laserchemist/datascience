{
 "cells": [
  {
   "cell_type": "markdown",
   "id": "4b0c833e-5b6c-4de9-a0ce-c97fa62abb4f",
   "metadata": {},
   "source": [
    "# Class 06 Warm up exercise: Data Tables\n",
    "\n",
    "You will be using data tables for just about everything the rest of the semester, so let warm-up today with exercise designed to review many of the basic table operations. And what could be better on a table than some breakfast cereal? We'll start by loading a data with the following information:\n",
    "\n",
    "Content\n",
    "Fields in the dataset:\n",
    "\n",
    "Name: Name of cereal\n",
    "- mfr: Manufacturer of cereal\n",
    "- A = American Home Food Products;\n",
    "- G = General Mills\n",
    "- K = Kelloggs\n",
    "- N = Nabisco\n",
    "- P = Post\n",
    "- Q = Quaker Oats\n",
    "- R = Ralston Purina\n",
    "- type:\n",
    "- cold\n",
    "- hot\n",
    "- calories: calories per serving\n",
    "- protein: grams of protein\n",
    "- fat: grams of fat\n",
    "- sodium: milligrams of sodium\n",
    "- fiber: grams of dietary fiber\n",
    "- carbo: grams of complex carbohydrates\n",
    "- sugars: grams of sugars\n",
    "- potass: milligrams of potassium\n",
    "- vitamins: vitamins and minerals - 0, 25, or 100, indicating the typical percentage of FDA recommended\n",
    "- shelf: display shelf (1, 2, or 3, counting from the floor)\n",
    "- weight: weight in ounces of one serving\n",
    "- cups: number of cups in one serving\n",
    "- rating: a rating of the cereals (Possibly from Consumer Reports?)\n",
    "\n",
    "**Data the describes the data is called \"metadata.\" Metadata is a critical component of every data set.**\n",
    "\n",
    "Acknowledgements\n",
    "These datasets have been gathered and cleaned up by Petra Isenberg, Pierre Dragicevic and Yvonne Jansen. The data was downloaded from Kaggle."
   ]
  },
  {
   "cell_type": "code",
   "execution_count": 3,
   "id": "36f273f8-6912-4294-84a4-5a07c2bdd44a",
   "metadata": {
    "tags": []
   },
   "outputs": [],
   "source": [
    "# Import the modules you need at the start of the notebook\n",
    "from datascience import *\n",
    "import numpy as np"
   ]
  },
  {
   "cell_type": "code",
   "execution_count": 4,
   "id": "69966670-3251-43e2-b27e-d6e287ce6c49",
   "metadata": {
    "tags": []
   },
   "outputs": [],
   "source": [
    "# Read in the data from a file\n",
    "cereal = Table().read_table(\"data/cereal.csv\")"
   ]
  },
  {
   "cell_type": "code",
   "execution_count": 5,
   "id": "8cf9d189-e347-4a03-8a0b-35feeff171f2",
   "metadata": {
    "tags": []
   },
   "outputs": [
    {
     "data": {
      "text/html": [
       "<table border=\"1\" class=\"dataframe\">\n",
       "    <thead>\n",
       "        <tr>\n",
       "            <th>name</th> <th>mfr</th> <th>type</th> <th>calories</th> <th>protein</th> <th>fat</th> <th>sodium</th> <th>fiber</th> <th>carbo</th> <th>sugars</th> <th>potass</th> <th>vitamins</th> <th>shelf</th> <th>weight</th> <th>cups</th> <th>rating</th>\n",
       "        </tr>\n",
       "    </thead>\n",
       "    <tbody>\n",
       "        <tr>\n",
       "            <td>100% Bran        </td> <td>N   </td> <td>C   </td> <td>70      </td> <td>4      </td> <td>1   </td> <td>130   </td> <td>10   </td> <td>5    </td> <td>6     </td> <td>280   </td> <td>25      </td> <td>3    </td> <td>1     </td> <td>0.33</td> <td>68.403 </td>\n",
       "        </tr>\n",
       "        <tr>\n",
       "            <td>100% Natural Bran</td> <td>Q   </td> <td>C   </td> <td>120     </td> <td>3      </td> <td>5   </td> <td>15    </td> <td>2    </td> <td>8    </td> <td>8     </td> <td>135   </td> <td>0       </td> <td>3    </td> <td>1     </td> <td>1   </td> <td>33.9837</td>\n",
       "        </tr>\n",
       "        <tr>\n",
       "            <td>All-Bran         </td> <td>K   </td> <td>C   </td> <td>70      </td> <td>4      </td> <td>1   </td> <td>260   </td> <td>9    </td> <td>7    </td> <td>5     </td> <td>320   </td> <td>25      </td> <td>3    </td> <td>1     </td> <td>0.33</td> <td>59.4255</td>\n",
       "        </tr>\n",
       "    </tbody>\n",
       "</table>\n",
       "<p>... (74 rows omitted)</p>"
      ],
      "text/plain": [
       "<IPython.core.display.HTML object>"
      ]
     },
     "metadata": {},
     "output_type": "display_data"
    }
   ],
   "source": [
    "# Show the first three rows\n",
    "cereal.show(3)"
   ]
  },
  {
   "cell_type": "markdown",
   "id": "7dd1159a-c3a5-4d8b-899c-0050a1015e11",
   "metadata": {},
   "source": [
    "## Every column is an array with a label\n",
    "Recall that an array has to contain data of all the same type. In this table most of the data is numeric. Which columns contains an array of strings?"
   ]
  },
  {
   "cell_type": "code",
   "execution_count": 6,
   "id": "7cc790b5-8254-41f5-b244-61afba083903",
   "metadata": {},
   "outputs": [],
   "source": [
    "name_of_string_col = \"...\""
   ]
  },
  {
   "cell_type": "markdown",
   "id": "50530733-bc48-45a9-b907-c99b1edc769a",
   "metadata": {},
   "source": [
    "## Calculating a statistic\n",
    "To apply numpy functions such as np.mean() or np.max(), you much first extract the array associated with a column label. To do this, you used the .column() function. \n",
    "\n",
    "For example, to extract the average rating:"
   ]
  },
  {
   "cell_type": "code",
   "execution_count": 7,
   "id": "93c9e747-0630-43eb-8a6d-2a966055b2f4",
   "metadata": {
    "tags": []
   },
   "outputs": [
    {
     "data": {
      "text/plain": [
       "array([ 68.402973,  33.983679,  59.425505,  93.704912,  34.384843,\n",
       "        29.509541,  33.174094,  37.038562,  49.120253,  53.313813,\n",
       "        18.042851,  50.764999,  19.823573,  40.400208,  22.736446,\n",
       "        41.445019,  45.863324,  35.782791,  22.396513,  40.448772,\n",
       "        64.533816,  46.895644,  36.176196,  44.330856,  32.207582,\n",
       "        31.435973,  58.345141,  40.917047,  41.015492,  28.025765,\n",
       "        35.252444,  23.804043,  52.076897,  53.371007,  45.811716,\n",
       "        21.871292,  31.072217,  28.742414,  36.523683,  36.471512,\n",
       "        39.241114,  45.328074,  26.734515,  54.850917,  37.136863,\n",
       "        34.139765,  30.313351,  40.105965,  29.924285,  40.69232 ,\n",
       "        59.642837,  30.450843,  37.840594,  41.50354 ,  60.756112,\n",
       "        63.005645,  49.511874,  50.828392,  39.259197,  39.7034  ,\n",
       "        55.333142,  41.998933,  40.560159,  68.235885,  74.472949,\n",
       "        72.801787,  31.230054,  53.131324,  59.363993,  38.839746,\n",
       "        28.592785,  46.658844,  39.106174,  27.753301,  49.787445,\n",
       "        51.592193,  36.187559])"
      ]
     },
     "execution_count": 7,
     "metadata": {},
     "output_type": "execute_result"
    }
   ],
   "source": [
    "ratings = cereal.column(\"rating\")\n",
    "ratings"
   ]
  },
  {
   "cell_type": "code",
   "execution_count": 8,
   "id": "bb32b5ec-34fb-4543-b969-f10cc6c9302b",
   "metadata": {
    "tags": []
   },
   "outputs": [
    {
     "data": {
      "text/plain": [
       "42.665704987012987"
      ]
     },
     "execution_count": 8,
     "metadata": {},
     "output_type": "execute_result"
    }
   ],
   "source": [
    "np.mean(ratings)"
   ]
  },
  {
   "cell_type": "markdown",
   "id": "f95cd8f6-6c03-4fb0-8805-ac4174d60f7b",
   "metadata": {},
   "source": [
    "### Challenge 1:\n",
    "Find the maxiumum in the \"calories\" column."
   ]
  },
  {
   "cell_type": "code",
   "execution_count": null,
   "id": "6be0702e-2057-4629-b1bb-4c34a53f9c65",
   "metadata": {},
   "outputs": [],
   "source": []
  },
  {
   "cell_type": "markdown",
   "id": "3ee463bf-6636-43e7-8262-168eb1b8e2d2",
   "metadata": {},
   "source": [
    "## Sorting a table\n",
    "Finding the maximum that way works, but you don't know which cereal has the most calories. Another approach is to sort the table using the calories column.\n",
    "\n"
   ]
  },
  {
   "cell_type": "code",
   "execution_count": 9,
   "id": "b8e0a10a-4b3b-4d88-87a2-d92e06e1c9e6",
   "metadata": {
    "tags": []
   },
   "outputs": [
    {
     "data": {
      "text/html": [
       "<table border=\"1\" class=\"dataframe\">\n",
       "    <thead>\n",
       "        <tr>\n",
       "            <th>name</th> <th>mfr</th> <th>type</th> <th>calories</th> <th>protein</th> <th>fat</th> <th>sodium</th> <th>fiber</th> <th>carbo</th> <th>sugars</th> <th>potass</th> <th>vitamins</th> <th>shelf</th> <th>weight</th> <th>cups</th> <th>rating</th>\n",
       "        </tr>\n",
       "    </thead>\n",
       "    <tbody>\n",
       "        <tr>\n",
       "            <td>All-Bran with Extra Fiber</td> <td>K   </td> <td>C   </td> <td>50      </td> <td>4      </td> <td>0   </td> <td>140   </td> <td>14   </td> <td>8    </td> <td>0     </td> <td>330   </td> <td>25      </td> <td>3    </td> <td>1     </td> <td>0.5 </td> <td>93.7049</td>\n",
       "        </tr>\n",
       "        <tr>\n",
       "            <td>Puffed Rice              </td> <td>Q   </td> <td>C   </td> <td>50      </td> <td>1      </td> <td>0   </td> <td>0     </td> <td>0    </td> <td>13   </td> <td>0     </td> <td>15    </td> <td>0       </td> <td>3    </td> <td>0.5   </td> <td>1   </td> <td>60.7561</td>\n",
       "        </tr>\n",
       "        <tr>\n",
       "            <td>Puffed Wheat             </td> <td>Q   </td> <td>C   </td> <td>50      </td> <td>2      </td> <td>0   </td> <td>0     </td> <td>1    </td> <td>10   </td> <td>0     </td> <td>50    </td> <td>0       </td> <td>3    </td> <td>0.5   </td> <td>1   </td> <td>63.0056</td>\n",
       "        </tr>\n",
       "        <tr>\n",
       "            <td>100% Bran                </td> <td>N   </td> <td>C   </td> <td>70      </td> <td>4      </td> <td>1   </td> <td>130   </td> <td>10   </td> <td>5    </td> <td>6     </td> <td>280   </td> <td>25      </td> <td>3    </td> <td>1     </td> <td>0.33</td> <td>68.403 </td>\n",
       "        </tr>\n",
       "        <tr>\n",
       "            <td>All-Bran                 </td> <td>K   </td> <td>C   </td> <td>70      </td> <td>4      </td> <td>1   </td> <td>260   </td> <td>9    </td> <td>7    </td> <td>5     </td> <td>320   </td> <td>25      </td> <td>3    </td> <td>1     </td> <td>0.33</td> <td>59.4255</td>\n",
       "        </tr>\n",
       "        <tr>\n",
       "            <td>Shredded Wheat           </td> <td>N   </td> <td>C   </td> <td>80      </td> <td>2      </td> <td>0   </td> <td>0     </td> <td>3    </td> <td>16   </td> <td>0     </td> <td>95    </td> <td>0       </td> <td>1    </td> <td>0.83  </td> <td>1   </td> <td>68.2359</td>\n",
       "        </tr>\n",
       "        <tr>\n",
       "            <td>Bran Chex                </td> <td>R   </td> <td>C   </td> <td>90      </td> <td>2      </td> <td>1   </td> <td>200   </td> <td>4    </td> <td>15   </td> <td>6     </td> <td>125   </td> <td>25      </td> <td>1    </td> <td>1     </td> <td>0.67</td> <td>49.1203</td>\n",
       "        </tr>\n",
       "        <tr>\n",
       "            <td>Bran Flakes              </td> <td>P   </td> <td>C   </td> <td>90      </td> <td>3      </td> <td>0   </td> <td>210   </td> <td>5    </td> <td>13   </td> <td>5     </td> <td>190   </td> <td>25      </td> <td>3    </td> <td>1     </td> <td>0.67</td> <td>53.3138</td>\n",
       "        </tr>\n",
       "        <tr>\n",
       "            <td>Nutri-grain Wheat        </td> <td>K   </td> <td>C   </td> <td>90      </td> <td>3      </td> <td>0   </td> <td>170   </td> <td>3    </td> <td>18   </td> <td>2     </td> <td>90    </td> <td>25      </td> <td>3    </td> <td>1     </td> <td>1   </td> <td>59.6428</td>\n",
       "        </tr>\n",
       "        <tr>\n",
       "            <td>Raisin Squares           </td> <td>K   </td> <td>C   </td> <td>90      </td> <td>2      </td> <td>0   </td> <td>0     </td> <td>2    </td> <td>15   </td> <td>6     </td> <td>110   </td> <td>25      </td> <td>3    </td> <td>1     </td> <td>0.5 </td> <td>55.3331</td>\n",
       "        </tr>\n",
       "    </tbody>\n",
       "</table>\n",
       "<p>... (67 rows omitted)</p>"
      ],
      "text/plain": [
       "name                      | mfr  | type | calories | protein | fat  | sodium | fiber | carbo | sugars | potass | vitamins | shelf | weight | cups | rating\n",
       "All-Bran with Extra Fiber | K    | C    | 50       | 4       | 0    | 140    | 14    | 8     | 0      | 330    | 25       | 3     | 1      | 0.5  | 93.7049\n",
       "Puffed Rice               | Q    | C    | 50       | 1       | 0    | 0      | 0     | 13    | 0      | 15     | 0        | 3     | 0.5    | 1    | 60.7561\n",
       "Puffed Wheat              | Q    | C    | 50       | 2       | 0    | 0      | 1     | 10    | 0      | 50     | 0        | 3     | 0.5    | 1    | 63.0056\n",
       "100% Bran                 | N    | C    | 70       | 4       | 1    | 130    | 10    | 5     | 6      | 280    | 25       | 3     | 1      | 0.33 | 68.403\n",
       "All-Bran                  | K    | C    | 70       | 4       | 1    | 260    | 9     | 7     | 5      | 320    | 25       | 3     | 1      | 0.33 | 59.4255\n",
       "Shredded Wheat            | N    | C    | 80       | 2       | 0    | 0      | 3     | 16    | 0      | 95     | 0        | 1     | 0.83   | 1    | 68.2359\n",
       "Bran Chex                 | R    | C    | 90       | 2       | 1    | 200    | 4     | 15    | 6      | 125    | 25       | 1     | 1      | 0.67 | 49.1203\n",
       "Bran Flakes               | P    | C    | 90       | 3       | 0    | 210    | 5     | 13    | 5      | 190    | 25       | 3     | 1      | 0.67 | 53.3138\n",
       "Nutri-grain Wheat         | K    | C    | 90       | 3       | 0    | 170    | 3     | 18    | 2      | 90     | 25       | 3     | 1      | 1    | 59.6428\n",
       "Raisin Squares            | K    | C    | 90       | 2       | 0    | 0      | 2     | 15    | 6      | 110    | 25       | 3     | 1      | 0.5  | 55.3331\n",
       "... (67 rows omitted)"
      ]
     },
     "execution_count": 9,
     "metadata": {},
     "output_type": "execute_result"
    }
   ],
   "source": [
    "cereal.sort(\"calories\")"
   ]
  },
  {
   "cell_type": "markdown",
   "id": "78e322c1-9d15-4ccd-b543-87b3bf3b4a0e",
   "metadata": {},
   "source": [
    "### Challenge 2: \n",
    "We just sorted the table, but we sorted low to high. To sort high to low, you need to add an optional parameter to the sort command.\n",
    "\n",
    "descending=True\n",
    "\n",
    "Try it in the cell below."
   ]
  },
  {
   "cell_type": "code",
   "execution_count": null,
   "id": "88d6f451-bc9a-45c2-a727-11b331304085",
   "metadata": {
    "tags": []
   },
   "outputs": [],
   "source": []
  },
  {
   "cell_type": "markdown",
   "id": "3a11230a-78c9-41f7-b7ca-53cc24fb9b8d",
   "metadata": {},
   "source": [
    "## Extracting the top five\n",
    "The take() function is used to select particular rows from a table. You have to give it a list or array of row numbers, but you can use np.arange to generate these as demonstrated below."
   ]
  },
  {
   "cell_type": "code",
   "execution_count": 10,
   "id": "32ad0fec-2398-48e6-b156-7523e24cc52a",
   "metadata": {
    "tags": []
   },
   "outputs": [
    {
     "data": {
      "text/plain": [
       "array([0, 1, 2, 3, 4])"
      ]
     },
     "execution_count": 10,
     "metadata": {},
     "output_type": "execute_result"
    }
   ],
   "source": [
    "# Generate the numbers needed for the first five rows\n",
    "np.arange(5)"
   ]
  },
  {
   "cell_type": "code",
   "execution_count": 11,
   "id": "481c896f-8127-487e-b04f-366d8a47db9b",
   "metadata": {
    "tags": []
   },
   "outputs": [
    {
     "data": {
      "text/html": [
       "<table border=\"1\" class=\"dataframe\">\n",
       "    <thead>\n",
       "        <tr>\n",
       "            <th>name</th> <th>mfr</th> <th>type</th> <th>calories</th> <th>protein</th> <th>fat</th> <th>sodium</th> <th>fiber</th> <th>carbo</th> <th>sugars</th> <th>potass</th> <th>vitamins</th> <th>shelf</th> <th>weight</th> <th>cups</th> <th>rating</th>\n",
       "        </tr>\n",
       "    </thead>\n",
       "    <tbody>\n",
       "        <tr>\n",
       "            <td>Mueslix Crispy Blend             </td> <td>K   </td> <td>C   </td> <td>160     </td> <td>3      </td> <td>2   </td> <td>150   </td> <td>3    </td> <td>17   </td> <td>13    </td> <td>160   </td> <td>25      </td> <td>3    </td> <td>1.5   </td> <td>0.67</td> <td>30.3134</td>\n",
       "        </tr>\n",
       "        <tr>\n",
       "            <td>Muesli Raisins; Dates; & Almonds </td> <td>R   </td> <td>C   </td> <td>150     </td> <td>4      </td> <td>3   </td> <td>95    </td> <td>3    </td> <td>16   </td> <td>11    </td> <td>170   </td> <td>25      </td> <td>3    </td> <td>1     </td> <td>1   </td> <td>37.1369</td>\n",
       "        </tr>\n",
       "        <tr>\n",
       "            <td>Muesli Raisins; Peaches; & Pecans</td> <td>R   </td> <td>C   </td> <td>150     </td> <td>4      </td> <td>3   </td> <td>150   </td> <td>3    </td> <td>16   </td> <td>11    </td> <td>170   </td> <td>25      </td> <td>3    </td> <td>1     </td> <td>1   </td> <td>34.1398</td>\n",
       "        </tr>\n",
       "        <tr>\n",
       "            <td>Just Right Fruit & Nut           </td> <td>K   </td> <td>C   </td> <td>140     </td> <td>3      </td> <td>1   </td> <td>170   </td> <td>2    </td> <td>20   </td> <td>9     </td> <td>95    </td> <td>100     </td> <td>3    </td> <td>1.3   </td> <td>0.75</td> <td>36.4715</td>\n",
       "        </tr>\n",
       "        <tr>\n",
       "            <td>Nutri-Grain Almond-Raisin        </td> <td>K   </td> <td>C   </td> <td>140     </td> <td>3      </td> <td>2   </td> <td>220   </td> <td>3    </td> <td>21   </td> <td>7     </td> <td>130   </td> <td>25      </td> <td>3    </td> <td>1.33  </td> <td>0.67</td> <td>40.6923</td>\n",
       "        </tr>\n",
       "    </tbody>\n",
       "</table>"
      ],
      "text/plain": [
       "name                              | mfr  | type | calories | protein | fat  | sodium | fiber | carbo | sugars | potass | vitamins | shelf | weight | cups | rating\n",
       "Mueslix Crispy Blend              | K    | C    | 160      | 3       | 2    | 150    | 3     | 17    | 13     | 160    | 25       | 3     | 1.5    | 0.67 | 30.3134\n",
       "Muesli Raisins; Dates; & Almonds  | R    | C    | 150      | 4       | 3    | 95     | 3     | 16    | 11     | 170    | 25       | 3     | 1      | 1    | 37.1369\n",
       "Muesli Raisins; Peaches; & Pecans | R    | C    | 150      | 4       | 3    | 150    | 3     | 16    | 11     | 170    | 25       | 3     | 1      | 1    | 34.1398\n",
       "Just Right Fruit & Nut            | K    | C    | 140      | 3       | 1    | 170    | 2     | 20    | 9      | 95     | 100      | 3     | 1.3    | 0.75 | 36.4715\n",
       "Nutri-Grain Almond-Raisin         | K    | C    | 140      | 3       | 2    | 220    | 3     | 21    | 7      | 130    | 25       | 3     | 1.33   | 0.67 | 40.6923"
      ]
     },
     "execution_count": 11,
     "metadata": {},
     "output_type": "execute_result"
    }
   ],
   "source": [
    "# Putting it together\n",
    "# Get the five most caloric cereals.\n",
    "cereal.sort(\"calories\", descending=True).take(np.arange(5))"
   ]
  },
  {
   "cell_type": "markdown",
   "id": "5001ea28-5eea-4d76-94f5-1d391e9250b6",
   "metadata": {},
   "source": [
    "### Challenge 3:\n",
    "Get the five **highest rated** cereals."
   ]
  },
  {
   "cell_type": "code",
   "execution_count": null,
   "id": "390359c2-0be7-42b3-97a8-0bd4d37f0a7b",
   "metadata": {},
   "outputs": [],
   "source": []
  },
  {
   "cell_type": "markdown",
   "id": "fc16def2-3776-4895-92c8-4e3efb2a88e0",
   "metadata": {},
   "source": [
    "## Filtering based on a condition\n",
    "This one comes up a lot. You want to pull the rows from a table based on some condition. For this, you need the where() function.\n",
    "\n",
    "For example, suppose we want just the cereals with more than 8 grams of fiber per serving."
   ]
  },
  {
   "cell_type": "code",
   "execution_count": 12,
   "id": "256d0e99-2508-4be3-9d93-28d6cefef2d9",
   "metadata": {
    "tags": []
   },
   "outputs": [
    {
     "data": {
      "text/html": [
       "<table border=\"1\" class=\"dataframe\">\n",
       "    <thead>\n",
       "        <tr>\n",
       "            <th>name</th> <th>mfr</th> <th>type</th> <th>calories</th> <th>protein</th> <th>fat</th> <th>sodium</th> <th>fiber</th> <th>carbo</th> <th>sugars</th> <th>potass</th> <th>vitamins</th> <th>shelf</th> <th>weight</th> <th>cups</th> <th>rating</th>\n",
       "        </tr>\n",
       "    </thead>\n",
       "    <tbody>\n",
       "        <tr>\n",
       "            <td>100% Bran                </td> <td>N   </td> <td>C   </td> <td>70      </td> <td>4      </td> <td>1   </td> <td>130   </td> <td>10   </td> <td>5    </td> <td>6     </td> <td>280   </td> <td>25      </td> <td>3    </td> <td>1     </td> <td>0.33</td> <td>68.403 </td>\n",
       "        </tr>\n",
       "        <tr>\n",
       "            <td>All-Bran                 </td> <td>K   </td> <td>C   </td> <td>70      </td> <td>4      </td> <td>1   </td> <td>260   </td> <td>9    </td> <td>7    </td> <td>5     </td> <td>320   </td> <td>25      </td> <td>3    </td> <td>1     </td> <td>0.33</td> <td>59.4255</td>\n",
       "        </tr>\n",
       "        <tr>\n",
       "            <td>All-Bran with Extra Fiber</td> <td>K   </td> <td>C   </td> <td>50      </td> <td>4      </td> <td>0   </td> <td>140   </td> <td>14   </td> <td>8    </td> <td>0     </td> <td>330   </td> <td>25      </td> <td>3    </td> <td>1     </td> <td>0.5 </td> <td>93.7049</td>\n",
       "        </tr>\n",
       "    </tbody>\n",
       "</table>"
      ],
      "text/plain": [
       "name                      | mfr  | type | calories | protein | fat  | sodium | fiber | carbo | sugars | potass | vitamins | shelf | weight | cups | rating\n",
       "100% Bran                 | N    | C    | 70       | 4       | 1    | 130    | 10    | 5     | 6      | 280    | 25       | 3     | 1      | 0.33 | 68.403\n",
       "All-Bran                  | K    | C    | 70       | 4       | 1    | 260    | 9     | 7     | 5      | 320    | 25       | 3     | 1      | 0.33 | 59.4255\n",
       "All-Bran with Extra Fiber | K    | C    | 50       | 4       | 0    | 140    | 14    | 8     | 0      | 330    | 25       | 3     | 1      | 0.5  | 93.7049"
      ]
     },
     "execution_count": 12,
     "metadata": {},
     "output_type": "execute_result"
    }
   ],
   "source": [
    "cereal.where(\"fiber\", are.above(8))"
   ]
  },
  {
   "cell_type": "markdown",
   "id": "74772d03-8813-45f4-9b2f-f11ae8efcdb7",
   "metadata": {},
   "source": [
    "Ah, bran cereals! No surprise they are the ones highest in fiber.\n",
    "\n",
    "## Challenge 4:\n",
    "Create a table with just the hot cereals."
   ]
  },
  {
   "cell_type": "code",
   "execution_count": null,
   "id": "804a00f2-14cc-4030-b528-4e771e43f290",
   "metadata": {},
   "outputs": [],
   "source": []
  },
  {
   "cell_type": "markdown",
   "id": "e9a247ce-3b31-453d-b54f-1aa818902d74",
   "metadata": {},
   "source": [
    "## Applying multiple conditions\n",
    "To filter on multiple conditions, simply apply them one at a time.\n",
    "\n",
    "Let's look for the cereals high in sodium, and suger -- the ones you probably shouldn't eat. First, let's find the range of values for each."
   ]
  },
  {
   "cell_type": "code",
   "execution_count": 16,
   "id": "30e840c7-2047-4b99-840c-f67820085eb1",
   "metadata": {
    "tags": []
   },
   "outputs": [
    {
     "name": "stdout",
     "output_type": "stream",
     "text": [
      "Sodium ranges from 0 to 320 milligrams.\n"
     ]
    }
   ],
   "source": [
    "# Sodium\n",
    "sodium = cereal.column(\"sodium\")\n",
    "max_sodium = np.max(sodium)\n",
    "min_sodium = np.min(sodium)\n",
    "print(f\"Sodium ranges from {min_sodium} to {max_sodium} milligrams.\")"
   ]
  },
  {
   "cell_type": "code",
   "execution_count": 20,
   "id": "9533a030-6a0d-4141-8fe0-dbffe9ad7815",
   "metadata": {
    "tags": []
   },
   "outputs": [
    {
     "name": "stdout",
     "output_type": "stream",
     "text": [
      "Sugars range from -1 to 15 grams.\n"
     ]
    }
   ],
   "source": [
    "# Sugar\n",
    "sugars = cereal.column(\"sugars\")\n",
    "max_sugars = np.max(sugars)\n",
    "min_sugars = np.min(sugars)\n",
    "print(f\"Sugars range from {min_sugars} to {max_sugars} grams.\")"
   ]
  },
  {
   "cell_type": "markdown",
   "id": "6d9f0b97-4c8f-402f-ba5b-5406ac56eae7",
   "metadata": {},
   "source": [
    "**Negative Sugar!?** If there is such a cereal it would be extremely popular as a diet food! I'm guessing this is an error. Data sets often have mistakes.\n",
    "\n",
    "Let's find out which cereal it is."
   ]
  },
  {
   "cell_type": "code",
   "execution_count": 23,
   "id": "ed6de6d6-bda2-405f-83f3-635eccb82215",
   "metadata": {
    "tags": []
   },
   "outputs": [
    {
     "data": {
      "text/html": [
       "<table border=\"1\" class=\"dataframe\">\n",
       "    <thead>\n",
       "        <tr>\n",
       "            <th>name</th> <th>mfr</th> <th>type</th> <th>calories</th> <th>protein</th> <th>fat</th> <th>sodium</th> <th>fiber</th> <th>carbo</th> <th>sugars</th> <th>potass</th> <th>vitamins</th> <th>shelf</th> <th>weight</th> <th>cups</th> <th>rating</th>\n",
       "        </tr>\n",
       "    </thead>\n",
       "    <tbody>\n",
       "        <tr>\n",
       "            <td>Quaker Oatmeal</td> <td>Q   </td> <td>H   </td> <td>100     </td> <td>5      </td> <td>2   </td> <td>0     </td> <td>2.7  </td> <td>-1   </td> <td>-1    </td> <td>110   </td> <td>0       </td> <td>1    </td> <td>1     </td> <td>0.67</td> <td>50.8284</td>\n",
       "        </tr>\n",
       "    </tbody>\n",
       "</table>"
      ],
      "text/plain": [
       "name           | mfr  | type | calories | protein | fat  | sodium | fiber | carbo | sugars | potass | vitamins | shelf | weight | cups | rating\n",
       "Quaker Oatmeal | Q    | H    | 100      | 5       | 2    | 0      | 2.7   | -1    | -1     | 110    | 0        | 1     | 1      | 0.67 | 50.8284"
      ]
     },
     "execution_count": 23,
     "metadata": {},
     "output_type": "execute_result"
    }
   ],
   "source": [
    "cereal.where(\"sugars\", are.below(0))"
   ]
  },
  {
   "cell_type": "markdown",
   "id": "986bfb32-618d-4a8d-b41a-54ebee0c1b69",
   "metadata": {},
   "source": [
    "Oatmeal has both negative sugar and negative carbs. Who knew?\n",
    "\n",
    "\n",
    "### Challenge #4\n",
    "Ignoring this obvious flaw in the data. Let's see if you can find a cereal(s) with more than 230 milligrams of sodium,  and more htan 10 grams of sugars."
   ]
  },
  {
   "cell_type": "code",
   "execution_count": 30,
   "id": "91c070f4-f36b-4cd8-aead-1f4e9c5240c0",
   "metadata": {
    "tags": []
   },
   "outputs": [
    {
     "data": {
      "text/html": [
       "<table border=\"1\" class=\"dataframe\">\n",
       "    <thead>\n",
       "        <tr>\n",
       "            <th>name</th> <th>mfr</th> <th>type</th> <th>calories</th> <th>protein</th> <th>fat</th> <th>sodium</th> <th>fiber</th> <th>carbo</th> <th>sugars</th> <th>potass</th> <th>vitamins</th> <th>shelf</th> <th>weight</th> <th>cups</th> <th>rating</th>\n",
       "        </tr>\n",
       "    </thead>\n",
       "    <tbody>\n",
       "        <tr>\n",
       "            <td>Cap'n'Crunch    </td> <td>Q   </td> <td>C   </td> <td>120     </td> <td>1      </td> <td>2   </td> <td>220   </td> <td>0    </td> <td>12   </td> <td>12    </td> <td>35    </td> <td>25      </td> <td>2    </td> <td>1     </td> <td>0.75</td> <td>18.0429</td>\n",
       "        </tr>\n",
       "        <tr>\n",
       "            <td>Fruitful Bran   </td> <td>K   </td> <td>C   </td> <td>120     </td> <td>3      </td> <td>0   </td> <td>240   </td> <td>5    </td> <td>14   </td> <td>12    </td> <td>190   </td> <td>25      </td> <td>3    </td> <td>1.33  </td> <td>0.67</td> <td>41.0155</td>\n",
       "        </tr>\n",
       "        <tr>\n",
       "            <td>Honey Graham Ohs</td> <td>Q   </td> <td>C   </td> <td>120     </td> <td>1      </td> <td>2   </td> <td>220   </td> <td>1    </td> <td>12   </td> <td>11    </td> <td>45    </td> <td>25      </td> <td>2    </td> <td>1     </td> <td>1   </td> <td>21.8713</td>\n",
       "        </tr>\n",
       "        <tr>\n",
       "            <td>Raisin Bran     </td> <td>K   </td> <td>C   </td> <td>120     </td> <td>3      </td> <td>1   </td> <td>210   </td> <td>5    </td> <td>14   </td> <td>12    </td> <td>240   </td> <td>25      </td> <td>2    </td> <td>1.33  </td> <td>0.75</td> <td>39.2592</td>\n",
       "        </tr>\n",
       "    </tbody>\n",
       "</table>"
      ],
      "text/plain": [
       "name             | mfr  | type | calories | protein | fat  | sodium | fiber | carbo | sugars | potass | vitamins | shelf | weight | cups | rating\n",
       "Cap'n'Crunch     | Q    | C    | 120      | 1       | 2    | 220    | 0     | 12    | 12     | 35     | 25       | 2     | 1      | 0.75 | 18.0429\n",
       "Fruitful Bran    | K    | C    | 120      | 3       | 0    | 240    | 5     | 14    | 12     | 190    | 25       | 3     | 1.33   | 0.67 | 41.0155\n",
       "Honey Graham Ohs | Q    | C    | 120      | 1       | 2    | 220    | 1     | 12    | 11     | 45     | 25       | 2     | 1      | 1    | 21.8713\n",
       "Raisin Bran      | K    | C    | 120      | 3       | 1    | 210    | 5     | 14    | 12     | 240    | 25       | 2     | 1.33   | 0.75 | 39.2592"
      ]
     },
     "execution_count": 30,
     "metadata": {},
     "output_type": "execute_result"
    }
   ],
   "source": [
    "cereal.where(\"sodium\", are.above(200)).where(\"sugars\", are.above(10))"
   ]
  },
  {
   "cell_type": "markdown",
   "id": "3dc4c4a3-b5da-4e66-b965-3311a852d389",
   "metadata": {},
   "source": [
    "## Are you surprised?\n",
    "The ones low in fiber too are truly without redeeming value."
   ]
  },
  {
   "cell_type": "code",
   "execution_count": null,
   "id": "bebf36b3-0a2e-414e-8bdc-5305c9b48880",
   "metadata": {},
   "outputs": [],
   "source": []
  }
 ],
 "metadata": {
  "kernelspec": {
   "display_name": "Python 3 (ipykernel)",
   "language": "python",
   "name": "python3"
  },
  "language_info": {
   "codemirror_mode": {
    "name": "ipython",
    "version": 3
   },
   "file_extension": ".py",
   "mimetype": "text/x-python",
   "name": "python",
   "nbconvert_exporter": "python",
   "pygments_lexer": "ipython3",
   "version": "3.10.11"
  }
 },
 "nbformat": 4,
 "nbformat_minor": 5
}
