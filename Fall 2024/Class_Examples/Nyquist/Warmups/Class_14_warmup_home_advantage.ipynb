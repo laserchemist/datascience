{
 "cells": [
  {
   "cell_type": "markdown",
   "id": "57267dbe-29a4-4afd-8deb-dc8fca11d2a3",
   "metadata": {
    "editable": true,
    "slideshow": {
     "slide_type": ""
    },
    "tags": []
   },
   "source": [
    "# Mini Project I : Does the host country have an advantage?\n",
    "\n",
    "The challenge question in the Olympic Mini-Project was to think of way of looking at whether or the host country has an advantage in the Olympics. Let's take a first look at this question."
   ]
  },
  {
   "cell_type": "markdown",
   "id": "4bdcd8c7-0092-4493-9bd5-f74b57436cfa",
   "metadata": {},
   "source": [
    "## Initialization"
   ]
  },
  {
   "cell_type": "code",
   "execution_count": null,
   "id": "742e0e08-c659-4fc2-b690-2a7a21c57206",
   "metadata": {},
   "outputs": [],
   "source": [
    "# Extra Python functionality to import\n",
    "from datascience import *  # datascience Table \n",
    "import numpy as np\n",
    "import os\n",
    "user = os.getenv('JUPYTERHUB_USER')"
   ]
  },
  {
   "cell_type": "markdown",
   "id": "ded81d11-737e-43fe-a9fd-790e51f22482",
   "metadata": {},
   "source": [
    "## Load the Data"
   ]
  },
  {
   "cell_type": "code",
   "execution_count": null,
   "id": "51ec1d19-eac2-4cf7-979a-f2088537248d",
   "metadata": {},
   "outputs": [],
   "source": [
    "datafile = \"../../../Mini Project I/Olympic_Data/winter_athletes.csv\"\n",
    "athletes = Table.read_table(datafile).sort(\"Year\",descending=True).where(\"Season\",\"Winter\")\n",
    "athletes.show(3)"
   ]
  },
  {
   "cell_type": "markdown",
   "id": "6be443a5-153f-4c05-af15-8d9672b600c5",
   "metadata": {},
   "source": [
    "## Finding the Country Names given the City Names\n",
    "The problem of finding addresses or coordinates from partial information is called \"geocoding.\" Python has a module that can hlep called \"geopy\" but it is not installed on the server by default, so before we can import the module we must install it. This will have to be done every time we run the notebook on a fresh virtual machine. "
   ]
  },
  {
   "cell_type": "code",
   "execution_count": null,
   "id": "ce9fe22a-07bf-42c6-8fe4-e6504fee411a",
   "metadata": {},
   "outputs": [],
   "source": [
    "!pip install geopy"
   ]
  },
  {
   "cell_type": "markdown",
   "id": "00d02959-2c80-4a62-b99f-9940d53f7fde",
   "metadata": {},
   "source": [
    "We can use the module to find the country name given the city name. Obviously, this could be a problem when multiple countries have cities of the same name. Fortunately, this is not the case with the big-name Olympic cities.\n",
    "\n",
    "We create a geolocator using `city_country_finder` and use the `language=en` option to get the Engish name for the city. The Chinese people don't call Beijing by the english name, for example, so without this option we'd get back chinese characters."
   ]
  },
  {
   "cell_type": "code",
   "execution_count": null,
   "id": "b2b50284-d8ea-4f29-8646-09b1417c82b2",
   "metadata": {
    "tags": []
   },
   "outputs": [],
   "source": [
    "from geopy.geocoders import Nominatim\n",
    "\n",
    "# Initialize the geolocator\n",
    "geolocator = Nominatim(user_agent=\"city_country_finder\")\n",
    "\n",
    "def find_country(city_name):\n",
    "    location = geolocator.geocode(city_name, language=\"en\")\n",
    "    if location:\n",
    "        return location.address.split(\",\")[-1].strip()  # Get the last part as the country\n",
    "    else:\n",
    "        return \"Country not found\""
   ]
  },
  {
   "cell_type": "code",
   "execution_count": null,
   "id": "cd08d961-f6da-49a6-a3ce-f8ae633ce843",
   "metadata": {
    "tags": []
   },
   "outputs": [],
   "source": [
    "# Whenever you create a function you should test it\n",
    "city = \"Sochi\"\n",
    "country = find_country(city)\n",
    "print(f\"The country of {city} is {country}.\")"
   ]
  },
  {
   "cell_type": "markdown",
   "id": "7be8e991-3c1f-494a-b7e2-7e06f584f92c",
   "metadata": {},
   "source": [
    "### Get the Olympic City names\n",
    "Use `np.unique()` to return all of the olympic city names without duplicates."
   ]
  },
  {
   "cell_type": "code",
   "execution_count": null,
   "id": "e56c01e5-7ca1-4d39-a403-b0882219ee7d",
   "metadata": {
    "tags": []
   },
   "outputs": [],
   "source": [
    "olympic_cities = np.unique((athletes.column(\"City\")))\n",
    "olympic_cities"
   ]
  },
  {
   "cell_type": "markdown",
   "id": "b59e2a81-cce1-48aa-bbcc-47409bfe40ff",
   "metadata": {},
   "source": [
    "### Use our function to find the country to go with each city. Save the results in a dictionary.\n",
    "\n",
    "**Notice the winter olympics were in the US three times. We'll use this later**"
   ]
  },
  {
   "cell_type": "code",
   "execution_count": null,
   "id": "aae447c4-de03-401c-b10d-396d932a0164",
   "metadata": {
    "tags": []
   },
   "outputs": [],
   "source": [
    "city_country = {}\n",
    "for city in olympic_cities:\n",
    "    city_country[city] = find_country(city)\n",
    "city_country"
   ]
  },
  {
   "cell_type": "markdown",
   "id": "b30cac20-9cea-4c7d-b84d-9aebbd3e5c35",
   "metadata": {},
   "source": [
    "### Extract the unique country names for the athletes."
   ]
  },
  {
   "cell_type": "code",
   "execution_count": null,
   "id": "e1590578-c50b-425b-89fd-7ef2f3a1c76e",
   "metadata": {
    "tags": []
   },
   "outputs": [],
   "source": [
    "teams = np.unique(athletes.column(\"Team\"))\n",
    "print(teams)"
   ]
  },
  {
   "cell_type": "markdown",
   "id": "8e9edaea-8987-4305-963d-200b2d5d5321",
   "metadata": {},
   "source": [
    "### A Team Name Problem\n",
    "Sometimes a country fields multiple teams, for example: 'United States-1' 'United States-2' 'United States-3'\n",
    "\n",
    "To fix this we will split each team name on the hyphen and keep only the first part."
   ]
  },
  {
   "cell_type": "code",
   "execution_count": null,
   "id": "349d7d73-0534-4934-ae77-d94a1e5c7e38",
   "metadata": {
    "tags": []
   },
   "outputs": [],
   "source": [
    "# And example of splitting\n",
    "'France-2'.split('-')"
   ]
  },
  {
   "cell_type": "code",
   "execution_count": null,
   "id": "4d6785e8-351e-410b-b218-3bc665ff8be4",
   "metadata": {
    "tags": []
   },
   "outputs": [],
   "source": [
    "# Splitting and keeping only the first element\n",
    "'France-2'.split('-')[0]"
   ]
  },
  {
   "cell_type": "code",
   "execution_count": null,
   "id": "1750541c-7df4-470a-b8f1-51a8c515bafe",
   "metadata": {},
   "outputs": [],
   "source": [
    "'France-2'.split('-')"
   ]
  },
  {
   "cell_type": "code",
   "execution_count": null,
   "id": "377ff26d-ae55-412e-a44f-597964f259aa",
   "metadata": {
    "tags": []
   },
   "outputs": [],
   "source": [
    "# Now split all the names in a list comprehension\n",
    "teams = [team.split(\"-\")[0] for team in teams]\n",
    "\n",
    "# Get rid of duplicates\n",
    "teams = np.unique(teams)\n",
    "print(teams)"
   ]
  },
  {
   "cell_type": "code",
   "execution_count": null,
   "id": "6a334ad8-78fb-409a-b496-d1c55caf1bfe",
   "metadata": {
    "tags": []
   },
   "outputs": [],
   "source": [
    "# Put this into a function so we can apply it to a table\n",
    "def find_team_country(team_name):\n",
    "    return team_name.split(\"-\")[0]"
   ]
  },
  {
   "cell_type": "code",
   "execution_count": null,
   "id": "6f75e825-e5d5-4868-ad8c-18ca84aaeb5f",
   "metadata": {
    "tags": []
   },
   "outputs": [],
   "source": [
    "# Test the function\n",
    "find_team_country('France-2')"
   ]
  },
  {
   "cell_type": "markdown",
   "id": "b7764e6a-047c-47f6-84b7-955350f042f6",
   "metadata": {},
   "source": [
    "## Check the Medal Count"
   ]
  },
  {
   "cell_type": "code",
   "execution_count": null,
   "id": "4d257887-0a28-47f2-b7a8-b44de9665217",
   "metadata": {
    "tags": []
   },
   "outputs": [],
   "source": [
    "medalists = athletes.where(\"Medal\", are.not_equal_to('nan'))\n",
    "medalists.show(3)"
   ]
  },
  {
   "cell_type": "code",
   "execution_count": null,
   "id": "5c122645-ec3e-40cb-96bb-2d076e17834f",
   "metadata": {
    "tags": []
   },
   "outputs": [],
   "source": [
    "# Add a column with the team's country\n",
    "medalists = medalists.with_column('Team_Country', medalists.apply(find_team_country, \"Team\"))\n",
    "medalists.show(3)"
   ]
  },
  {
   "cell_type": "code",
   "execution_count": null,
   "id": "fc366728-3c32-48ca-add8-c815fad86b8f",
   "metadata": {
    "tags": []
   },
   "outputs": [],
   "source": [
    "# Make a list of the three US venues\n",
    "us_venues = ['Lake Placid', 'Squaw Valley', 'Salt Lake City']"
   ]
  },
  {
   "cell_type": "code",
   "execution_count": null,
   "id": "962af227-d07e-4320-9b1e-d90539995311",
   "metadata": {
    "tags": []
   },
   "outputs": [],
   "source": [
    "# Filter out the winner for these three venues\n",
    "lake_placid = medalists.where('City', 'Lake Placid')\n",
    "squaw_valley = medalists.where('City', 'Squaw Valley')\n",
    "salt_lake_city = medalists.where('City', 'Salt Lake City')"
   ]
  },
  {
   "cell_type": "code",
   "execution_count": null,
   "id": "0ef5d6b1-cdb2-4bf1-b5e3-9e586c2a93f1",
   "metadata": {
    "tags": []
   },
   "outputs": [],
   "source": [
    "# Combine them into one table. All the medals awarded at US games.\n",
    "home = lake_placid.append(squaw_valley)\n",
    "home = home.append(salt_lake_city)\n",
    "home.num_rows"
   ]
  },
  {
   "cell_type": "code",
   "execution_count": null,
   "id": "cd1a78f7-c4ee-46a8-b8c7-beae4520e5c6",
   "metadata": {
    "tags": []
   },
   "outputs": [],
   "source": [
    "# Now create a table of all the medals awarded at olympic outside the US.\n",
    "away = medalists.where('City', are.not_equal_to('Lake Placid'))\n",
    "away = away.where('City', are.not_equal_to('Squaw Valley'))\n",
    "away = away.where('City', are.not_equal_to('Salt Lake City'))\n",
    "away.num_rows"
   ]
  },
  {
   "cell_type": "code",
   "execution_count": null,
   "id": "ddb674ec-e625-43b7-8479-5f0e203a63bd",
   "metadata": {
    "tags": []
   },
   "outputs": [],
   "source": [
    "# Check the numbers add up\n",
    "home.num_rows + away.num_rows == medalists.num_rows"
   ]
  },
  {
   "cell_type": "code",
   "execution_count": null,
   "id": "9a52e273-7ddb-424d-ba53-b7f8cbbae830",
   "metadata": {
    "tags": []
   },
   "outputs": [],
   "source": [
    "# Create a function to calculate win percentages\n",
    "def find_usa_percentage(tbl, medal):\n",
    "    winners = tbl.where('Medal', medal).num_rows\n",
    "    usa_winners = tbl.where('Medal', medal).where('Team_Country', 'United States').num_rows\n",
    "    return 100 * usa_winners / winners"
   ]
  },
  {
   "cell_type": "markdown",
   "id": "ca85d049-33e6-42e4-879a-5d8130c49ede",
   "metadata": {},
   "source": [
    "## Compare percent of US medels won home and away"
   ]
  },
  {
   "cell_type": "code",
   "execution_count": null,
   "id": "f0104c1b-23c9-4bf3-80ef-c3f05303c754",
   "metadata": {
    "tags": []
   },
   "outputs": [],
   "source": [
    "medal_types = ['Gold', 'Silver', 'Bronze']\n",
    "for medal in medal_types:\n",
    "    print(f\"At home the US won {find_usa_percentage(home, medal)} of the {medal} medals\")\n",
    "    print(f\"Away the US won {find_usa_percentage(away, medal)} of the {medal} medals\")\n",
    "    print()\n",
    "          "
   ]
  },
  {
   "cell_type": "markdown",
   "id": "fa9095c8-4730-49fc-aea6-9c87a3b51ff0",
   "metadata": {},
   "source": [
    "## Conclusions\n",
    "\n",
    "**On inspection, it certainly appears that the US athletes win more medals when they compete at home!**\n",
    "\n",
    "But this is not proof, merely food for further investigation. We need to turn this into a testable hypothesis. We will revisit this later, after you have learned more about hypothesis testing."
   ]
  },
  {
   "cell_type": "code",
   "execution_count": null,
   "id": "c711ca76-24d0-4b43-9a26-e271ae9da6d5",
   "metadata": {},
   "outputs": [],
   "source": []
  }
 ],
 "metadata": {
  "kernelspec": {
   "display_name": "Python 3 (ipykernel)",
   "language": "python",
   "name": "python3"
  },
  "language_info": {
   "codemirror_mode": {
    "name": "ipython",
    "version": 3
   },
   "file_extension": ".py",
   "mimetype": "text/x-python",
   "name": "python",
   "nbconvert_exporter": "python",
   "pygments_lexer": "ipython3",
   "version": "3.10.11"
  }
 },
 "nbformat": 4,
 "nbformat_minor": 5
}
