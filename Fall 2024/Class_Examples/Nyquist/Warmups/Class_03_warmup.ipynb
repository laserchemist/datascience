{
 "cells": [
  {
   "cell_type": "markdown",
   "id": "548ffbf5-a6de-4216-ae68-edbb2dbe040d",
   "metadata": {},
   "source": [
    "# Laboratory 01 Group exercises"
   ]
  },
  {
   "cell_type": "markdown",
   "id": "ebb0d8a1-f75e-4408-8486-cc7c0d2da11b",
   "metadata": {},
   "source": [
    "### Random selection of month by instructor"
   ]
  },
  {
   "cell_type": "code",
   "execution_count": 5,
   "id": "5b7bda8c-dab6-42a0-8aa1-04e87bcac16f",
   "metadata": {
    "tags": []
   },
   "outputs": [
    {
     "name": "stdout",
     "output_type": "stream",
     "text": [
      "[2021, 2022]\n",
      "[6, 2021]\n",
      "Your Table's Month Name from Date is : June\n",
      "Year:  2021\n"
     ]
    }
   ],
   "source": [
    "from datetime import datetime\n",
    "import datetime\n",
    "from random import choice\n",
    "def get_month():\n",
    "    months = list(range(1, 13)) # 12 months list\n",
    "    year = list(range(2021,2023)) # years list here\n",
    "    val = [choice(months),choice(year)]\n",
    "    return val\n",
    "date = get_month()\n",
    "print(date)\n",
    "monthinteger = date[0]\n",
    "month = datetime.date(1900, monthinteger, 1).strftime('%B')\n",
    "#res = test_date.strftime(\"%B\")\n",
    " \n",
    "# printing result\n",
    "print(\"Your Table's Month Name from Date is : \" + month)\n",
    "print(\"Year: \",date[1])"
   ]
  },
  {
   "cell_type": "markdown",
   "id": "0f67414e-e40e-44eb-87aa-6f6335d501ed",
   "metadata": {},
   "source": [
    "### Group Exercise\n",
    "Our goal is to create computer code in Python to compute the number of seconds in the randomly selected month. The value will be assigned to a variable with name of the month and the label _seconds. For example June_seconds."
   ]
  },
  {
   "cell_type": "code",
   "execution_count": null,
   "id": "aa6a2e55-b39f-451b-95fa-0518d1ac95c8",
   "metadata": {},
   "outputs": [],
   "source": [
    "# Variable with month string from the randomly assigned month,replace ...\n",
    "month = \"October\""
   ]
  },
  {
   "cell_type": "code",
   "execution_count": 16,
   "id": "b1f41cb2-33a2-48a7-b92b-18d50d64e3c6",
   "metadata": {},
   "outputs": [],
   "source": [
    "# Computation of seconds\n",
    "daysinmonth = 31\n",
    "secondsinaday = 24*60*\n",
    "secondstotal = ...\n"
   ]
  },
  {
   "cell_type": "code",
   "execution_count": 19,
   "id": "45d37326-29bc-42e8-a1e3-2c1bb0307da8",
   "metadata": {},
   "outputs": [
    {
     "name": "stdout",
     "output_type": "stream",
     "text": [
      "April has 2678400 seconds\n"
     ]
    }
   ],
   "source": [
    "# print value of the variable\n",
    "print(month,\"has\",secondstotal,\"seconds\")"
   ]
  },
  {
   "cell_type": "markdown",
   "id": "853b06b6-2f72-41f4-9bf1-a27ac623fe65",
   "metadata": {},
   "source": [
    "### Challenge\n",
    "Compute seconds until start of class today from 12 AM on 1st day of month and year"
   ]
  },
  {
   "cell_type": "code",
   "execution_count": null,
   "id": "6fdd99da-03c2-43e9-89ee-1c0e60c39278",
   "metadata": {},
   "outputs": [],
   "source": []
  },
  {
   "cell_type": "code",
   "execution_count": null,
   "id": "16c5bbc4-462a-472a-91a2-a9e2664dc19a",
   "metadata": {},
   "outputs": [],
   "source": []
  }
 ],
 "metadata": {
  "kernelspec": {
   "display_name": "Python 3 (ipykernel)",
   "language": "python",
   "name": "python3"
  },
  "language_info": {
   "codemirror_mode": {
    "name": "ipython",
    "version": 3
   },
   "file_extension": ".py",
   "mimetype": "text/x-python",
   "name": "python",
   "nbconvert_exporter": "python",
   "pygments_lexer": "ipython3",
   "version": "3.10.11"
  }
 },
 "nbformat": 4,
 "nbformat_minor": 5
}
