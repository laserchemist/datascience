{
 "cells": [
  {
   "cell_type": "markdown",
   "id": "3770f213-472e-4034-8c3b-c07cab983e4e",
   "metadata": {},
   "source": [
    "## FIRST CLASS EXAMPLE"
   ]
  },
  {
   "cell_type": "code",
   "execution_count": null,
   "id": "3581aaee-4ebc-42cb-97db-300d8f977ca8",
   "metadata": {},
   "outputs": [],
   "source": [
    "import numpy as np\n",
    "from datascience import *\n",
    "%matplotlib inline\n",
    "import matplotlib.pyplot as plt"
   ]
  },
  {
   "cell_type": "code",
   "execution_count": null,
   "id": "f9e24d29-cc9d-4e74-be03-a5b19a3a8797",
   "metadata": {},
   "outputs": [],
   "source": [
    "possible_rolls = [1,2,3,4,5,6]"
   ]
  },
  {
   "cell_type": "code",
   "execution_count": null,
   "id": "64302981-32e2-455e-aa3c-9c08f379c83c",
   "metadata": {},
   "outputs": [],
   "source": [
    "np.random.choice(possible_rolls)"
   ]
  },
  {
   "cell_type": "code",
   "execution_count": null,
   "id": "6afdca74-8456-4dcd-93e5-b9a65b7359b6",
   "metadata": {},
   "outputs": [],
   "source": []
  }
 ],
 "metadata": {
  "kernelspec": {
   "display_name": "Python 3 (ipykernel)",
   "language": "python",
   "name": "python3"
  },
  "language_info": {
   "codemirror_mode": {
    "name": "ipython",
    "version": 3
   },
   "file_extension": ".py",
   "mimetype": "text/x-python",
   "name": "python",
   "nbconvert_exporter": "python",
   "pygments_lexer": "ipython3",
   "version": "3.9.19"
  }
 },
 "nbformat": 4,
 "nbformat_minor": 5
}
