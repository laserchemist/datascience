{
 "cells": [
  {
   "cell_type": "markdown",
   "id": "88d825a8-371f-4ce3-93e8-1873a9aa3c19",
   "metadata": {},
   "source": [
    "## Commands to reset Notebook files\n",
    "Use with care, only execute the code which is needed"
   ]
  },
  {
   "cell_type": "markdown",
   "id": "fd7636f1-d86b-4907-aed8-a74279c5f5f7",
   "metadata": {},
   "source": [
    "### Pull Latest... (Less Useful than You Think)"
   ]
  },
  {
   "cell_type": "code",
   "execution_count": null,
   "id": "563497c7-a2b6-4700-bdce-07dd6d54b6a0",
   "metadata": {
    "tags": []
   },
   "outputs": [],
   "source": [
    "# Pull Latest... (Less Useful than You Think)\n",
    "! git config --global pull.rebase true\n",
    "! git config --global fetch.prune true\n",
    "! git config --global diff.colorMoved zebra\n",
    "! git pull "
   ]
  },
  {
   "cell_type": "markdown",
   "id": "98703d32-962e-4971-9845-92df66179dba",
   "metadata": {},
   "source": [
    "### Undo All Local Changes"
   ]
  },
  {
   "cell_type": "code",
   "execution_count": null,
   "id": "20832ca9-436a-417c-87fa-1967fe221ce0",
   "metadata": {},
   "outputs": [],
   "source": [
    "# Undo All Local Changes\n",
    "! git reset --hard HEAD"
   ]
  },
  {
   "cell_type": "markdown",
   "id": "c6931e7d-3738-45cc-aa35-c488f261ec3b",
   "metadata": {},
   "source": [
    "### Update Tracked Notebooks to Latest"
   ]
  },
  {
   "cell_type": "code",
   "execution_count": null,
   "id": "e11f1202-cf34-4c9c-9a53-ac548cd2d3e2",
   "metadata": {},
   "outputs": [],
   "source": [
    "# Update Tracked Notebooks to Latest\n",
    "! git fetch; git reset --hard origin/master\n"
   ]
  },
  {
   "cell_type": "markdown",
   "id": "13418d4d-04a0-4139-8dce-8e7972bcbd32",
   "metadata": {},
   "source": [
    "### Nuke all Changes (last resort)"
   ]
  },
  {
   "cell_type": "code",
   "execution_count": null,
   "id": "7fa08778-12cc-4350-8539-859ccba6c398",
   "metadata": {},
   "outputs": [],
   "source": [
    "# Nuke all Changes\n",
    "! git clean -qfdx; git fetch; git reset --hard origin/master"
   ]
  }
 ],
 "metadata": {
  "kernelspec": {
   "display_name": "Python 3 (ipykernel)",
   "language": "python",
   "name": "python3"
  },
  "language_info": {
   "codemirror_mode": {
    "name": "ipython",
    "version": 3
   },
   "file_extension": ".py",
   "mimetype": "text/x-python",
   "name": "python",
   "nbconvert_exporter": "python",
   "pygments_lexer": "ipython3",
   "version": "3.10.11"
  }
 },
 "nbformat": 4,
 "nbformat_minor": 5
}
