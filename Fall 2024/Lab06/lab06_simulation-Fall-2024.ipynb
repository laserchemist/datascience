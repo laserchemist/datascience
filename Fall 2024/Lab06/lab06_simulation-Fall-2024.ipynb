{
 "cells": [
  {
   "cell_type": "markdown",
   "metadata": {},
   "source": [
    "# Lab 6: Sampling and Simulation\n",
    "*Elements of Data Science* <br>\n",
    "Welcome to Module 2 and lab 6! This week, we will go over conditionals and iteration, and introduce the concept of randomness. This material is covered in [Chapter 9](https://inferentialthinking.com/chapters/09/Randomness.html) and [Chapter 10](https://inferentialthinking.com/chapters/10/Sampling_and_Empirical_Distributions.html) of the online <i>Inferential Thinking</i> textbook. \n",
    "<br>**<center>Learning Goals**\n",
    "|Area|Concept|\n",
    "|---|---|\n",
    "|Probability|Probability of outcomes including die roles and beyond|\n",
    "|Simulation |Sample the distribution|\n",
    "| - Iteration|  for i in np.arange(samples)|\n",
    "| - numpy random | random.choice() to randomly select among outcomes|\n",
    "|Conditional|Comparisons using `if` and boolean operator|\n",
    "|Boolean Operators| `==`, `!=`, `>`,`<`,`>=`,`<=`| \n",
    "|Python dictionary|my_dictionary = {'EDS':'TR 8:00 AM','CHEM 1031':'TR 9:30 AM'}|\n",
    "\n",
    "\n",
    "\n",
    "First, set up the tests and imports by running the cell below."
   ]
  },
  {
   "cell_type": "code",
   "execution_count": null,
   "metadata": {},
   "outputs": [],
   "source": [
    "name = ..."
   ]
  },
  {
   "cell_type": "code",
   "execution_count": null,
   "metadata": {},
   "outputs": [],
   "source": [
    "import numpy as np\n",
    "from datascience import *\n",
    "%matplotlib inline\n",
    "import matplotlib.pyplot as plt\n",
    "plt.style.use('ggplot')\n",
    "import os\n",
    "user = os.getenv('JUPYTERHUB_USER')\n",
    "from gofer.ok import check\n",
    "!pip install nbformat\n",
    "import nbformat as nbf\n",
    "notebook = os.path.basename(globals()['__session__'])\n",
    "import glob\n",
    "notebook = glob.glob('*.ipynb')[0]\n",
    "from test_open import *"
   ]
  },
  {
   "cell_type": "markdown",
   "metadata": {},
   "source": [
    "## 1. Sampling"
   ]
  },
  {
   "cell_type": "markdown",
   "metadata": {},
   "source": [
    "#### 1.1 Dungeons and Dragons and Sampling\n",
    "In the game Dungeons & Dragons, each player plays the role of a fantasy character.\n",
    "A player performs actions by rolling a 20-sided die, adding a \"modifier\" number to the roll, and comparing the total to a threshold for success. The modifier depends on her character's competence in performing the action.\n",
    "For example, suppose Alice's character, a barbarian warrior named Roga, is trying to knock down a heavy door. She rolls a 20-sided die, adds a modifier of 11 to the result (because her character is good at knocking down doors), and *succeeds if the total is greater than 15*.<br> A Medium posting discusses probability in the context of Dungeons and Dragons https://towardsdatascience.com/understanding-probability-theory-with-dungeons-and-dragons-a36bc69aec88 <br><br><img src= data/DnD.JPG height=\"200\"><br>\n",
    "#### <font color=blue> **Question 1.1.** </font>\n",
    "Write code that simulates the above process:<br>\n",
    "- Roll a 20 sided die\n",
    "- Add a modifier of +11\n",
    "- Check if the combined roll succeeds (roll + modifier > 15)\n",
    "</li>\n",
    "<br>\n",
    "<p>In other words, compute three values: the result of Alice's roll (roll_result), the result of her roll plus Roga's modifier (modified_result), and a boolean value indicating whether the action succeeded (action_succeeded). Do not fill in any of the results manually; the entire simulation should happen in code.\n",
    "Hint: A roll of a 20-sided die is a number chosen uniformly from the array make_array(1, 2, 3, 4, ..., 20). So a roll of a 20-sided die plus 11 is a number chosen uniformly from that array, plus 11.</p>"
   ]
  },
  {
   "cell_type": "code",
   "execution_count": null,
   "metadata": {},
   "outputs": [],
   "source": [
    "possible_rolls = ...\n",
    "roll_result = ...\n",
    "modified_result = ...\n",
    "action_succeeded = ...\n",
    "\n",
    "# The next line just prints out your results in a nice way\n",
    "# once you're done.  You can delete it if you want.\n",
    "print(f\"On a modified roll of {modified_result}, Alice's action {'succeeded' if action_succeeded else 'failed'}\")"
   ]
  },
  {
   "cell_type": "code",
   "execution_count": null,
   "metadata": {},
   "outputs": [],
   "source": [
    "check('tests/q1.1.py')"
   ]
  },
  {
   "cell_type": "markdown",
   "metadata": {},
   "source": [
    "#### <font color=blue> **Question 1.2.** </font> \n",
    "Run your cell 7 times to manually estimate the chance that Alice succeeds at this action. (Don't use math or an extended simulation.). Your answer should be a fraction."
   ]
  },
  {
   "cell_type": "code",
   "execution_count": null,
   "metadata": {},
   "outputs": [],
   "source": [
    "rough_success_chance = ..."
   ]
  },
  {
   "cell_type": "code",
   "execution_count": null,
   "metadata": {},
   "outputs": [],
   "source": [
    "check('tests/q1.2.py')"
   ]
  },
  {
   "cell_type": "markdown",
   "metadata": {},
   "source": [
    "Suppose we don't know that Roga has a modifier of 11 for this action.  Instead, we observe the modified roll (that is, the die roll plus the modifier of 11) from each of 7 of her attempts to knock down doors.  We would like to estimate her modifier from these 7 numbers.<br>\n",
    "\n",
    "#### <font color=blue> **Question 1.3.** </font>\n",
    "Write a Python function called `simulate_observations`.  It should take two arguments, the modifier and num_oobservations, and it should return an array of num_observations.  Each of the numbers should be the modified roll from one simulation.  **Then**, call your function once to compute an array of 7 simulated modified rolls.  Name that array `observations`."
   ]
  },
  {
   "cell_type": "code",
   "execution_count": null,
   "metadata": {},
   "outputs": [],
   "source": [
    "modifier = 11\n",
    "num_observations = 7\n",
    "\n",
    "def simulate_observations(modifier, num_observations):\n",
    "    \"\"\"Produces an array of 7 simulated modified die rolls\"\"\"\n",
    "    ...\n",
    "\n",
    "observations = ...\n",
    "observations"
   ]
  },
  {
   "cell_type": "code",
   "execution_count": null,
   "metadata": {},
   "outputs": [],
   "source": [
    "check('tests/q1.3.py')"
   ]
  },
  {
   "cell_type": "markdown",
   "metadata": {},
   "source": [
    "#### <font color=blue> **Question 1.4.** </font> \n",
    "Draw a histogram to display the *probability distribution* of the modified rolls we might see.  Check with a neighbor or a CA to make sure you have the right histogram. Carry this out again using 100 rolls."
   ]
  },
  {
   "cell_type": "code",
   "execution_count": null,
   "metadata": {},
   "outputs": [],
   "source": [
    "# We suggest using these bins.\n",
    "roll_bins = np.arange(1, modifier+2+20, 1)\n",
    "\n",
    "..."
   ]
  },
  {
   "cell_type": "code",
   "execution_count": null,
   "metadata": {},
   "outputs": [],
   "source": []
  },
  {
   "cell_type": "markdown",
   "metadata": {},
   "source": [
    "### Estimate the modifier\n",
    "Now let's imagine we don't know the modifier and try to estimate it from observations.\n",
    "One straightforward (but clearly suboptimal) way to do that is to find the smallest total roll (`min()`), since the smallest roll on a 20-sided die is 1, which is corresponds to a modifier of 0. Use a random number for <i>modifier</i> to start and keep this value through the next questions. We will <font color=green>generate 100 rolls </font>based on the below unknown modifier. <br>\n",
    "#### <font color=blue> **Question 1.5.** </font>\n",
    "Using that method, estimate modifier from observations. Name your estimate min_estimate."
   ]
  },
  {
   "cell_type": "code",
   "execution_count": null,
   "metadata": {},
   "outputs": [],
   "source": [
    "modifier = np.random.randint(1,20) # Generates a random integer modifier from 1 to 20 inclusive\n",
    "... = simulate_observations(modifier, num_observations)\n",
    "...\n",
    "min_estimate = ...\n",
    "min_estimate"
   ]
  },
  {
   "cell_type": "code",
   "execution_count": null,
   "metadata": {},
   "outputs": [],
   "source": [
    "check('tests/q1.5.py')"
   ]
  },
  {
   "cell_type": "markdown",
   "metadata": {},
   "source": [
    "## Estimate the modifier based on the mean of observations.\n",
    "#### <font color=blue> **Question 1.6.** </font>\n",
    "Figure out a good estimate based on using the mean of all the modified rolls. Then, write a function named mean_based_estimator that computes your estimate. It should take an array of modified rolls (like the array observations) as its argument and return an estimate (single number) of the modifier based on those numbers contained in the array."
   ]
  },
  {
   "cell_type": "markdown",
   "metadata": {},
   "source": [
    "<font color=blue>**What is the mean of many rolls (1000's) of a 20-sided die?**</font>"
   ]
  },
  {
   "cell_type": "code",
   "execution_count": null,
   "metadata": {},
   "outputs": [],
   "source": [
    "mean20 = ...\n",
    "mean20"
   ]
  },
  {
   "cell_type": "code",
   "execution_count": null,
   "metadata": {},
   "outputs": [],
   "source": [
    "def mean_based_estimator(obs):\n",
    "    \"\"\"Estimate the roll modifier based on observed modified rolls in the array nums.\"\"\"\n",
    "    ...\n",
    "\n"
   ]
  },
  {
   "cell_type": "markdown",
   "metadata": {},
   "source": [
    "#### Here is a test call to your function.  \n",
    "It computes an estimate of the modifier from our observations."
   ]
  },
  {
   "cell_type": "code",
   "execution_count": null,
   "metadata": {},
   "outputs": [],
   "source": [
    "mean_based_estimate = mean_based_estimator(...)\n",
    "mean_based_estimate"
   ]
  },
  {
   "cell_type": "code",
   "execution_count": null,
   "metadata": {},
   "outputs": [],
   "source": [
    "check('tests/q1.6.py')"
   ]
  },
  {
   "cell_type": "markdown",
   "metadata": {},
   "source": [
    "#### <font color=blue> **Question 1.7.** </font>\n",
    "Construct a histogram and compare to above estimates, are they consistent?\n",
    "What is your best estimate of the random modiifer based on the above, without examining the value?"
   ]
  },
  {
   "cell_type": "code",
   "execution_count": null,
   "metadata": {},
   "outputs": [],
   "source": [
    "plt.hist(..., bins = ...) # Use to plot histogram of an array of 100 modified rolls\n",
    "estimated_modifier = ..."
   ]
  },
  {
   "cell_type": "code",
   "execution_count": null,
   "metadata": {},
   "outputs": [],
   "source": [
    "check('tests/q1.7.py')"
   ]
  },
  {
   "cell_type": "markdown",
   "metadata": {},
   "source": [
    "## 2. Sampling and GC content of DNA sequence\n",
    "DNA within a cell contains codes or sequences for the ultimate synthesis of proteins. In DNA is made up of four types of nucleotides, guanine (G), cytosine (C), adenine (A), and thymine (T) connected in an ordered sequence. These nucleotides on a single strand pair with complimentary nucleotides on a second strand, G pairs with C and A with T. Regions of DNA code for RNA which ultimately directs protein synthesis and these segments are known as genes and these segments often have higher GC content. Here we will sample 10 nuclotide segments of a DNA sequence and determine the GC content of these DNA segments. See [DNA sequnce basics](http://data-science-sequencing.github.io/Win2018/assets/lecture2/lecture2_2018.pdf) and [GC Content details](https://geneticeducation.co.in/what-is-the-importance-of-gc-content/). \n",
    "##### Our goal is to sample portions (10 nucelotides) of the sequence and determine<br> the relative content of guanine (G) and cytosine (C) to adenine (A) and thymine (T)"
   ]
  },
  {
   "cell_type": "code",
   "execution_count": null,
   "metadata": {},
   "outputs": [],
   "source": [
    "# DNA sequence we will examine, a string\n",
    "seq = \"CGTAACAAGGTTTCCGTAGGTGAACCTGCGGAAGGATCATTGATGAGACCGTGGAATAAACGATCGAGTG \\\n",
    "AATCCGGAGGACCGGTGTACTCAGCTCACCGGGGGCATTGCTCCCGTGGTGACCCTGATTTGTTGTTGGG \\\n",
    "CCGCCTCGGGAGCGTCCATGGCGGGTTTGAACCTCTAGCCCGGCGCAGTTTGGGCGCCAAGCCATATGAA \\\n",
    "AGCATCACCGGCGAATGGCATTGTCTTCCCCAAAACCCGGAGCGGCGGCGTGCTGTCGCGTGCCCAATGA \\\n",
    "ATTTTGATGACTCTCGCAAACGGGAATCTTGGCTCTTTGCATCGGATGGAAGGACGCAGCGAAATGCGAT \\\n",
    "AAGTGGTGTGAATTGCAAGATCCCGTGAACCATCGAGTCTTTTGAACGCAAGTTGCGCCCGAGGCCATCA \\\n",
    "GGCTAAGGGCACGCCTGCTTGGGCGTCGCGCTTCGTCTCTCTCCTGCCAATGCTTGCCCGGCATACAGCC \\\n",
    "AGGCCGGCGTGGTGCGGATGTGAAAGATTGGCCCCTTGTGCCTAGGTGCGGCGGGTCCAAGAGCTGGTGT \\\n",
    "TTTGATGGCCCGGAACCCGGCAAGAGGTGGACGGATGCTGGCAGCAGCTGCCGTGCGAATCCCCCATGTT \\\n",
    "GTCGTGCTTGTCGGACAGGCAGGAGAACCCTTCCGAACCCCAATGGAGGGCGGTTGACCGCCATTCGGAT \\\n",
    "GTGACCCCAGGTCAGGCGGGGGCACCCGCTGAGTTTACGC\" # LCBO-Prolactin precursor-Bovine\n",
    "seq"
   ]
  },
  {
   "cell_type": "markdown",
   "metadata": {},
   "source": [
    "#### <font color=blue> **Question 2.1A.** </font>\n",
    "Run the first two code cells below to see how substrings are extracted and how a character can be counted within a substring. Use the same strategy to determine GC content as fraction of the total in the first 10 nucleotides in the larger sequence above, `seq`"
   ]
  },
  {
   "cell_type": "code",
   "execution_count": null,
   "metadata": {},
   "outputs": [],
   "source": [
    "# Example A\n",
    "samplesize = 4\n",
    "# Use this short sequence in this example\n",
    "seq0 = 'GTGAAAGATT'\n",
    "# How to get a substring\n",
    "seq0[0:samplesize]"
   ]
  },
  {
   "cell_type": "code",
   "execution_count": null,
   "metadata": {},
   "outputs": [],
   "source": [
    "# Example B\n",
    "# How to count the number of times 'A' appears in sequence\n",
    "seq0[0:samplesize].count('A')"
   ]
  },
  {
   "cell_type": "code",
   "execution_count": null,
   "metadata": {},
   "outputs": [],
   "source": [
    "GCcount = seq[0:10].count('G') + seq[...]...\n",
    "GCfraction = ..."
   ]
  },
  {
   "cell_type": "markdown",
   "metadata": {},
   "source": [
    "##### Lists\n",
    "Below we assemble a list and append an additional entry, 0.7. A useful strategy in creating your function"
   ]
  },
  {
   "cell_type": "code",
   "execution_count": null,
   "metadata": {},
   "outputs": [],
   "source": [
    "gc = []\n",
    "gc.append(0.8)\n",
    "gc.append(0.7)\n",
    "gc"
   ]
  },
  {
   "cell_type": "markdown",
   "metadata": {},
   "source": [
    "##### Fill a list with 30 random G, C, T, A nucleotides \n",
    "use iteration and `np.random.choice`"
   ]
  },
  {
   "cell_type": "code",
   "execution_count": null,
   "metadata": {},
   "outputs": [],
   "source": [
    "my_sim_seq = []\n",
    "nucleo = ['G','C','T','A']\n",
    "for i in np.arange(...):\n",
    "    my_sim_seq.append(np. ...)\n",
    "\n",
    "print(my_sim_seq)   \n"
   ]
  },
  {
   "cell_type": "markdown",
   "metadata": {},
   "source": [
    "#### <font color=blue> **Question 2.1B.** </font>\n",
    "We will define a function, `calcGC` to do the repetitive work of computing GC content fraction for each segment (samplesize) and return a list with the fraction GC for each `samplesize` segment. "
   ]
  },
  {
   "cell_type": "code",
   "execution_count": null,
   "metadata": {},
   "outputs": [],
   "source": [
    "def calcGC(seq, samplesize):\n",
    "    gc = []\n",
    "    for i in range(len(seq)-samplesize):\n",
    "    ...\n",
    "    return ..."
   ]
  },
  {
   "cell_type": "code",
   "execution_count": null,
   "metadata": {},
   "outputs": [],
   "source": [
    "check('tests/q2.1.py')"
   ]
  },
  {
   "cell_type": "markdown",
   "metadata": {},
   "source": [
    "#### <font color=blue> **Question 2.2.** </font>\n",
    "Apply this function to our sequence above <i>seq</i> with a samplesize of 10. What is the maximum, minimum, mean, and median? Use you five number summary function from the Olympics Mini-project (Hint: the max of a list can be obtained with the max(results) and we can use np.mean(results)). Plot the results by using plt.plot(results)."
   ]
  },
  {
   "cell_type": "code",
   "execution_count": null,
   "metadata": {},
   "outputs": [],
   "source": [
    "samplesize = ...\n",
    "results = ...\n",
    "maximum = ...\n",
    "minimum = ...\n",
    "median = ...\n",
    "mean = ...\n",
    "..."
   ]
  },
  {
   "cell_type": "code",
   "execution_count": null,
   "metadata": {},
   "outputs": [],
   "source": [
    "check('tests/q2.2.py')"
   ]
  },
  {
   "cell_type": "markdown",
   "metadata": {},
   "source": [
    "#### <font color=blue> **Question 2.3.** </font> \n",
    "Now apply this function to our sequence above <i>seq</i> with a different, larger samplesize (>30) of your choosing and plot. What do you observed with the different sampling? What is the maximum, minimum, mean, and median? (Hint: the max of a list can be obtained with the max(results) and we can use np.median(results))"
   ]
  },
  {
   "cell_type": "code",
   "execution_count": null,
   "metadata": {},
   "outputs": [],
   "source": [
    "# Plot"
   ]
  },
  {
   "cell_type": "markdown",
   "metadata": {},
   "source": [
    "#### <font color=blue> **Question 2.3 Discussion.** </font>\n",
    "<font color='green'> Discuss your results. You just did a fairly sophisticated DNA analysis, so there should be a lot to say. For example, how did changing samplesize affect your ability to identify GC-rich DNA regions? Why are these regions so important (do a little reading). Given a year-long record of daily temperatures, how might a similar approach of varying sample size be used to distinguish seasonal temperature trends from day-to-day fluctuations?"
   ]
  },
  {
   "cell_type": "markdown",
   "metadata": {},
   "source": []
  },
  {
   "cell_type": "markdown",
   "metadata": {},
   "source": [
    "#### Save notebook before check"
   ]
  },
  {
   "cell_type": "code",
   "execution_count": null,
   "metadata": {},
   "outputs": [],
   "source": [
    "check('tests/q2.3.new.py')"
   ]
  },
  {
   "cell_type": "markdown",
   "metadata": {},
   "source": [
    "## 3. Text sampling and lists\n",
    "For an application to the Wordle game see: [Medium post](https://ericlani.medium.com/determining-the-best-first-wordle-word-to-guess-using-data-b93b975a6294)\n",
    "\n"
   ]
  },
  {
   "cell_type": "markdown",
   "metadata": {},
   "source": [
    "#### Letter frequency in sampled texts\n",
    "We will begin our study by trying to understand the frequency of certain letters by sampling texts.  We will again use Charles Darwin's book on the Origin of Species to examine the frequency of letters in this text. To do this we will need to write a function which goes through all the words and determines the counts of letters. "
   ]
  },
  {
   "cell_type": "code",
   "execution_count": null,
   "metadata": {},
   "outputs": [],
   "source": [
    "darwin_string = open('data/darwin_origin_species.txt', encoding='utf-8').read()\n",
    "darwin_words = np.array(darwin_string.split())\n",
    "darwin_words"
   ]
  },
  {
   "cell_type": "markdown",
   "metadata": {},
   "source": [
    "#### <font color=blue> ****Question 3.1**.** </font> \n",
    "We will examine some details about the array of words from Darwin's Origin of Species"
   ]
  },
  {
   "cell_type": "markdown",
   "metadata": {},
   "source": [
    "**How may words are in Darwin's Origin of Species?**"
   ]
  },
  {
   "cell_type": "code",
   "execution_count": null,
   "metadata": {},
   "outputs": [],
   "source": [
    "num_words = ..."
   ]
  },
  {
   "cell_type": "markdown",
   "metadata": {},
   "source": [
    "**What are the first three words and how many letters are in these first three words?** Hint: Each word has an index in the array, the 10th word would be `darwin_words[9]`"
   ]
  },
  {
   "cell_type": "code",
   "execution_count": null,
   "metadata": {},
   "outputs": [],
   "source": [
    "darwin_words[9]"
   ]
  },
  {
   "cell_type": "code",
   "execution_count": null,
   "metadata": {},
   "outputs": [],
   "source": []
  },
  {
   "cell_type": "markdown",
   "metadata": {},
   "source": [
    "**Use a for loop to step through the letters in the third word.**\n",
    "Print the lower case version of the letters."
   ]
  },
  {
   "cell_type": "code",
   "execution_count": null,
   "metadata": {},
   "outputs": [],
   "source": [
    "for letter in ...:\n",
    "    print(letter.lower())"
   ]
  },
  {
   "cell_type": "markdown",
   "metadata": {},
   "source": [
    "`.isalpha()` : checks if character is alphanumeric"
   ]
  },
  {
   "cell_type": "code",
   "execution_count": null,
   "metadata": {},
   "outputs": [],
   "source": [
    "\"b\".isalpha()"
   ]
  },
  {
   "cell_type": "code",
   "execution_count": null,
   "metadata": {},
   "outputs": [],
   "source": [
    "\",\".isalpha()"
   ]
  },
  {
   "cell_type": "markdown",
   "metadata": {},
   "source": [
    "#### Dictionaries\n",
    "A Python dictionary stores values in pairs, a key and a value. For example when we considered the height in meters of each of the Adirondack High Peaks in Lab 02 we had values representing the height in meters without a label. With a dictionary we could use the name of the mountain as a key with the height as a value. Below we will use a dictionary to store the number of times a letter occurs. Run the below cells to see how dictionaries work."
   ]
  },
  {
   "cell_type": "markdown",
   "metadata": {},
   "source": [
    "Original List"
   ]
  },
  {
   "cell_type": "code",
   "execution_count": null,
   "metadata": {},
   "outputs": [],
   "source": [
    "ADK_highpeaks = [1629,1559,1512,1501] \n",
    "ADK_highpeaks"
   ]
  },
  {
   "cell_type": "code",
   "execution_count": null,
   "metadata": {},
   "outputs": [],
   "source": [
    "ADK_dictionary = {'Mount Marcy':1629,'Algonquin Peak':1559,'Mount Haystack':1512,'Mount Skylight':1501}\n",
    "ADK_dictionary"
   ]
  },
  {
   "cell_type": "code",
   "execution_count": null,
   "metadata": {},
   "outputs": [],
   "source": [
    "ADK_dictionary.values()"
   ]
  },
  {
   "cell_type": "code",
   "execution_count": null,
   "metadata": {},
   "outputs": [],
   "source": [
    "list(ADK_dictionary.keys())"
   ]
  },
  {
   "cell_type": "code",
   "execution_count": null,
   "metadata": {},
   "outputs": [],
   "source": [
    "ADK_dictionary.get('Algonquin Peak')"
   ]
  },
  {
   "cell_type": "code",
   "execution_count": null,
   "metadata": {},
   "outputs": [],
   "source": [
    "ADK_dictionary['Algonquin Peak']"
   ]
  },
  {
   "cell_type": "markdown",
   "metadata": {},
   "source": [
    "<font color=blue>Use the `ADK_dictionary` to find the height of 'Mount Haystack'</font>"
   ]
  },
  {
   "cell_type": "code",
   "execution_count": null,
   "metadata": {},
   "outputs": [],
   "source": [
    "Haystack_height = ADK_dictionary..."
   ]
  },
  {
   "cell_type": "code",
   "execution_count": null,
   "metadata": {},
   "outputs": [],
   "source": [
    "Haystack_height"
   ]
  },
  {
   "cell_type": "markdown",
   "metadata": {},
   "source": [
    "## Examining scientific text\n",
    "### Now we will use a dictionary to look at the prominent words in a key article on the detection of RSV in wastewater much like we examined in Lab 4."
   ]
  },
  {
   "cell_type": "markdown",
   "metadata": {},
   "source": [
    "[Article on analytical chemistry and PCR methods to detect RSV in wastewater](https://pubs.acs.org/doi/epdf/10.1021/acsestwater.3c00725?ref=article_openPDF)"
   ]
  },
  {
   "cell_type": "markdown",
   "metadata": {},
   "source": [
    "<br><br><a href=\"https://pubs.acs.org/doi/epdf/10.1021/acsestwater.3c00725?ref=article_openPDF\"><img src= \"data/RSV_article_abstract.jpg\" height=\"100\"></a><br>\n"
   ]
  },
  {
   "cell_type": "markdown",
   "metadata": {},
   "source": [
    "First we load the words in the text of the article"
   ]
  },
  {
   "cell_type": "code",
   "execution_count": null,
   "metadata": {},
   "outputs": [],
   "source": [
    "RSV_waste_words = open('data/RSV_waste_1.txt', encoding='utf-8').read()\n",
    "RSV_waste_words = np.array(RSV_waste_words.split())\n",
    "RSV_waste_words"
   ]
  },
  {
   "cell_type": "markdown",
   "metadata": {},
   "source": [
    "**Define a function** to determine the word frequency in a text with words split in an array as in above <i>RSV_waste_words</i> array and return a Table with words and their count. We will use a nice trick with a Python dictionary (see: [Python Dictionaries](https://realpython.com/python-dicts/)) as already encoded below."
   ]
  },
  {
   "cell_type": "code",
   "execution_count": null,
   "metadata": {},
   "outputs": [],
   "source": [
    "def word_freq(words):\n",
    "    f = {} # Create an empty dictionary to store letters and their count found in words\n",
    "    for word in ...:\n",
    "            word = word.lower()\n",
    "            if word.isalpha(): # avoid punctuation\n",
    "                f[word] = f.get(word,0) + 1 # Using Python dictionary\n",
    "    return f"
   ]
  },
  {
   "cell_type": "code",
   "execution_count": null,
   "metadata": {},
   "outputs": [],
   "source": [
    "word_dict = word_freq(RSV_waste_words)"
   ]
  },
  {
   "cell_type": "code",
   "execution_count": null,
   "metadata": {},
   "outputs": [],
   "source": [
    "word_dict"
   ]
  },
  {
   "cell_type": "markdown",
   "metadata": {},
   "source": [
    "#### How many times does the word RSV appear?\n",
    "Use the dictionary to find out. Remember that the dictionary `.values` are now the count of the word appearing in the text and that all words are converted to lower case. See example for RNA below first."
   ]
  },
  {
   "cell_type": "code",
   "execution_count": null,
   "metadata": {},
   "outputs": [],
   "source": [
    "rna = word_dict['rna']\n",
    "rna"
   ]
  },
  {
   "cell_type": "code",
   "execution_count": null,
   "metadata": {},
   "outputs": [],
   "source": [
    "rsv = word_dict[...]\n",
    "rsv"
   ]
  },
  {
   "cell_type": "markdown",
   "metadata": {},
   "source": [
    "#### Make a Table with words and count\n",
    "Use the examples below from the dictionary to get lists and .with_columns to create `RSV_word_Table` from lists. Rember Table can be created from arrays and lists."
   ]
  },
  {
   "cell_type": "code",
   "execution_count": null,
   "metadata": {},
   "outputs": [],
   "source": [
    "list(word_dict.keys())"
   ]
  },
  {
   "cell_type": "markdown",
   "metadata": {},
   "source": [
    "Limit to first 10 in list of `.values` using `[:10]`"
   ]
  },
  {
   "cell_type": "code",
   "execution_count": null,
   "metadata": {},
   "outputs": [],
   "source": [
    "list(word_dict.values())[:10]"
   ]
  },
  {
   "cell_type": "code",
   "execution_count": null,
   "metadata": {},
   "outputs": [],
   "source": [
    "RSV_word_table = Table().with_columns('words', ...,'count', ... )\n",
    "RSV_word_table"
   ]
  },
  {
   "cell_type": "markdown",
   "metadata": {},
   "source": [
    "#### Sort the Table to show top 10 words"
   ]
  },
  {
   "cell_type": "code",
   "execution_count": null,
   "metadata": {},
   "outputs": [],
   "source": [
    "RSV_word_table.sort(...)"
   ]
  },
  {
   "cell_type": "markdown",
   "metadata": {},
   "source": [
    "#### Question: What are the most important words in the article? \n",
    "Use the markdown below to answer. Is there anything unusual about the top words? "
   ]
  },
  {
   "cell_type": "markdown",
   "metadata": {},
   "source": []
  },
  {
   "cell_type": "markdown",
   "metadata": {},
   "source": [
    "#### Now we will remove the extraneous words\n",
    "'stop' words are regular parts of speech that do not capture the important ideas of the text."
   ]
  },
  {
   "cell_type": "markdown",
   "metadata": {},
   "source": [
    "#### remove stopwords"
   ]
  },
  {
   "cell_type": "code",
   "execution_count": null,
   "metadata": {},
   "outputs": [],
   "source": [
    "from nltk.corpus import stopwords\n",
    "stop = stopwords.words('english')\n",
    "stop"
   ]
  },
  {
   "cell_type": "code",
   "execution_count": null,
   "metadata": {},
   "outputs": [],
   "source": [
    "RSV_waste_words_clean = [word for word in RSV_waste_words if word not in (stop)]"
   ]
  },
  {
   "cell_type": "markdown",
   "metadata": {},
   "source": [
    "### Now create a new dictionary and then sorted Table using the steps above"
   ]
  },
  {
   "cell_type": "code",
   "execution_count": null,
   "metadata": {},
   "outputs": [],
   "source": [
    "word_dict_nostop = ..."
   ]
  },
  {
   "cell_type": "code",
   "execution_count": null,
   "metadata": {},
   "outputs": [],
   "source": [
    "RSV_word_table_nostop = ..."
   ]
  },
  {
   "attachments": {},
   "cell_type": "markdown",
   "metadata": {},
   "source": [
    "#### Question: Now what are the most important words in the article after removing stop words? \n",
    "Use the markdown below to answer. What are the key ideas of the article from this collection of words? "
   ]
  },
  {
   "cell_type": "markdown",
   "metadata": {},
   "source": []
  },
  {
   "cell_type": "markdown",
   "metadata": {},
   "source": [
    "#### Save notebook before check"
   ]
  },
  {
   "cell_type": "code",
   "execution_count": null,
   "metadata": {},
   "outputs": [],
   "source": [
    "check('tests/q3.4.py')"
   ]
  },
  {
   "cell_type": "markdown",
   "metadata": {},
   "source": [
    "### <font color=blue> **Question 4.** </font>\n",
    "\n",
    "At the end of each lab, please include a reflection. \n",
    "* How did this lab go? \n",
    "* What aspects of sampling do you find confusing?\n",
    "* Were there questions you found especially challenging? \n",
    "* How long did the lab take you to complete?\n",
    "\n",
    "Share your feedback so we can continue to improve this class!\n",
    "\n",
    "**Insert a markdown cell below this one and write your reflection on this lab.**"
   ]
  },
  {
   "cell_type": "markdown",
   "metadata": {},
   "source": []
  },
  {
   "cell_type": "markdown",
   "metadata": {},
   "source": [
    "#### Save notebook before check"
   ]
  },
  {
   "cell_type": "code",
   "execution_count": null,
   "metadata": {},
   "outputs": [],
   "source": [
    "check('tests/q4.py')"
   ]
  },
  {
   "cell_type": "markdown",
   "metadata": {},
   "source": [
    "### Complete and tally your score.\n",
    "Submit .html and .ipynb of completed laboratory"
   ]
  },
  {
   "cell_type": "code",
   "execution_count": null,
   "metadata": {},
   "outputs": [],
   "source": [
    "# For your convenience, you can run this cell to run all the tests at once!\n",
    "import glob\n",
    "from gofer.ok import check\n",
    "correct = 0\n",
    "checks = ['1.1','1.2', '1.3', '1.5', '1.6', '1.7', '2.1', '2.2', '2.3.new', '3.4', '4']\n",
    "total = len(checks)\n",
    "for x in checks:\n",
    "    print('Testing question {}: '.format(x))\n",
    "    g = check('tests/q{}.py'.format(x))\n",
    "    if g.grade == 1.0:\n",
    "        print(\"Passed\")\n",
    "        correct += 1\n",
    "    else:\n",
    "        print('Failed')\n",
    "        display(g)\n",
    "\n",
    "print('Grade:  {}'.format(str(correct/total)))"
   ]
  },
  {
   "cell_type": "code",
   "execution_count": null,
   "metadata": {},
   "outputs": [],
   "source": [
    "print(\"Nice work \",name, user)\n",
    "import time;\n",
    "localtime = time.asctime( time.localtime(time.time()) )\n",
    "print(\"Submitted @ \", localtime)"
   ]
  }
 ],
 "metadata": {
  "kernelspec": {
   "display_name": "Python 3 (ipykernel)",
   "language": "python",
   "name": "python3"
  },
  "language_info": {
   "codemirror_mode": {
    "name": "ipython",
    "version": 3
   },
   "file_extension": ".py",
   "mimetype": "text/x-python",
   "name": "python",
   "nbconvert_exporter": "python",
   "pygments_lexer": "ipython3",
   "version": "3.9.19"
  }
 },
 "nbformat": 4,
 "nbformat_minor": 4
}
