{
 "cells": [
  {
   "cell_type": "markdown",
   "metadata": {},
   "source": [
    "## Machine Learning and prediction\n",
    "Elements of Data Science   \n",
    "In this laboratory we will use training data to predict outcomes. We will first test these ideas using our Old Faithful data again. Next we will look at data on the iris flower to classify iris' based on sepal width and length. In our culminating activity we will predict molecular acidity using data computed by [Prof. Vince Voelz](http://www.voelzlab.org) in the Temple Chemistry department and a graduate student, Robert Raddi. See their paper: [Stacking Gaussian processes to improve pKa predictions in the SAMPL7 challenge](https://link.springer.com/epdf/10.1007/s10822-021-00411-8?sharing_token=yLV8dMXdxg40M_Ds_2Rhsfe4RwlQNchNByi7wbcMAY6fCl3bMLQiAhJzS2zZw-SwUkz490heLLZu1bPJ8T5LHXo1WvZkp0AJmWzXo71rszl8UaPxjqtqR-oARfxWGrTiCV0rNXy0C7IVzX6yoMYTPv2ZJfnQS-zF1pYvL8ESsUI%3D)."
   ]
  },
  {
   "cell_type": "markdown",
   "metadata": {},
   "source": [
    "<br>**<center>Learning Goals**\n",
    "|Area|Concept|\n",
    "|---|---|\n",
    "|Machine Learning|Need to use training data for 'learning' to predict target value or category. Multiple algorithms|\n",
    "|Nearest Neighbor |Machine learning algorithm in which data that is 'nearest' or most similar will likely have similar target value|\n",
    "|target| value or category to be predicted|\n",
    "|features| data used to train model to predict|\n",
    "|Euclidean distance|a measure of distance in a multidensional space|\n",
    "\n"
   ]
  },
  {
   "cell_type": "code",
   "execution_count": 14,
   "metadata": {},
   "outputs": [],
   "source": [
    "Your_name = ..."
   ]
  },
  {
   "cell_type": "code",
   "execution_count": 1,
   "metadata": {
    "tags": []
   },
   "outputs": [
    {
     "name": "stdout",
     "output_type": "stream",
     "text": [
      "Collecting sentence_transformers\n",
      "  Using cached sentence_transformers-3.3.0-py3-none-any.whl (268 kB)\n",
      "Collecting transformers<5.0.0,>=4.41.0 (from sentence_transformers)\n",
      "  Using cached transformers-4.46.2-py3-none-any.whl (10.0 MB)\n",
      "Requirement already satisfied: tqdm in /opt/conda/lib/python3.10/site-packages (from sentence_transformers) (4.65.0)\n",
      "Requirement already satisfied: torch>=1.11.0 in /opt/conda/lib/python3.10/site-packages (from sentence_transformers) (2.0.1)\n",
      "Requirement already satisfied: scikit-learn in /opt/conda/lib/python3.10/site-packages (from sentence_transformers) (1.2.2)\n",
      "Requirement already satisfied: scipy in /opt/conda/lib/python3.10/site-packages (from sentence_transformers) (1.10.1)\n",
      "Collecting huggingface-hub>=0.20.0 (from sentence_transformers)\n",
      "  Using cached huggingface_hub-0.26.2-py3-none-any.whl (447 kB)\n",
      "Requirement already satisfied: Pillow in /opt/conda/lib/python3.10/site-packages (from sentence_transformers) (9.5.0)\n",
      "Requirement already satisfied: filelock in /opt/conda/lib/python3.10/site-packages (from huggingface-hub>=0.20.0->sentence_transformers) (3.12.0)\n",
      "Requirement already satisfied: fsspec>=2023.5.0 in /opt/conda/lib/python3.10/site-packages (from huggingface-hub>=0.20.0->sentence_transformers) (2023.5.0)\n",
      "Requirement already satisfied: packaging>=20.9 in /opt/conda/lib/python3.10/site-packages (from huggingface-hub>=0.20.0->sentence_transformers) (23.1)\n",
      "Requirement already satisfied: pyyaml>=5.1 in /opt/conda/lib/python3.10/site-packages (from huggingface-hub>=0.20.0->sentence_transformers) (6.0)\n",
      "Requirement already satisfied: requests in /opt/conda/lib/python3.10/site-packages (from huggingface-hub>=0.20.0->sentence_transformers) (2.29.0)\n",
      "Requirement already satisfied: typing-extensions>=3.7.4.3 in /opt/conda/lib/python3.10/site-packages (from huggingface-hub>=0.20.0->sentence_transformers) (4.5.0)\n",
      "Requirement already satisfied: sympy in /opt/conda/lib/python3.10/site-packages (from torch>=1.11.0->sentence_transformers) (1.11.1)\n",
      "Requirement already satisfied: networkx in /opt/conda/lib/python3.10/site-packages (from torch>=1.11.0->sentence_transformers) (3.1)\n",
      "Requirement already satisfied: jinja2 in /opt/conda/lib/python3.10/site-packages (from torch>=1.11.0->sentence_transformers) (3.1.2)\n",
      "Requirement already satisfied: nvidia-cuda-nvrtc-cu11==11.7.99 in /opt/conda/lib/python3.10/site-packages (from torch>=1.11.0->sentence_transformers) (11.7.99)\n",
      "Requirement already satisfied: nvidia-cuda-runtime-cu11==11.7.99 in /opt/conda/lib/python3.10/site-packages (from torch>=1.11.0->sentence_transformers) (11.7.99)\n",
      "Requirement already satisfied: nvidia-cuda-cupti-cu11==11.7.101 in /opt/conda/lib/python3.10/site-packages (from torch>=1.11.0->sentence_transformers) (11.7.101)\n",
      "Requirement already satisfied: nvidia-cudnn-cu11==8.5.0.96 in /opt/conda/lib/python3.10/site-packages (from torch>=1.11.0->sentence_transformers) (8.5.0.96)\n",
      "Requirement already satisfied: nvidia-cublas-cu11==11.10.3.66 in /opt/conda/lib/python3.10/site-packages (from torch>=1.11.0->sentence_transformers) (11.10.3.66)\n",
      "Requirement already satisfied: nvidia-cufft-cu11==10.9.0.58 in /opt/conda/lib/python3.10/site-packages (from torch>=1.11.0->sentence_transformers) (10.9.0.58)\n",
      "Requirement already satisfied: nvidia-curand-cu11==10.2.10.91 in /opt/conda/lib/python3.10/site-packages (from torch>=1.11.0->sentence_transformers) (10.2.10.91)\n",
      "Requirement already satisfied: nvidia-cusolver-cu11==11.4.0.1 in /opt/conda/lib/python3.10/site-packages (from torch>=1.11.0->sentence_transformers) (11.4.0.1)\n",
      "Requirement already satisfied: nvidia-cusparse-cu11==11.7.4.91 in /opt/conda/lib/python3.10/site-packages (from torch>=1.11.0->sentence_transformers) (11.7.4.91)\n",
      "Requirement already satisfied: nvidia-nccl-cu11==2.14.3 in /opt/conda/lib/python3.10/site-packages (from torch>=1.11.0->sentence_transformers) (2.14.3)\n",
      "Requirement already satisfied: nvidia-nvtx-cu11==11.7.91 in /opt/conda/lib/python3.10/site-packages (from torch>=1.11.0->sentence_transformers) (11.7.91)\n",
      "Requirement already satisfied: triton==2.0.0 in /opt/conda/lib/python3.10/site-packages (from torch>=1.11.0->sentence_transformers) (2.0.0)\n",
      "Requirement already satisfied: setuptools in /opt/conda/lib/python3.10/site-packages (from nvidia-cublas-cu11==11.10.3.66->torch>=1.11.0->sentence_transformers) (67.7.2)\n",
      "Requirement already satisfied: wheel in /opt/conda/lib/python3.10/site-packages (from nvidia-cublas-cu11==11.10.3.66->torch>=1.11.0->sentence_transformers) (0.40.0)\n",
      "Requirement already satisfied: cmake in /opt/conda/lib/python3.10/site-packages (from triton==2.0.0->torch>=1.11.0->sentence_transformers) (3.26.3)\n",
      "Requirement already satisfied: lit in /opt/conda/lib/python3.10/site-packages (from triton==2.0.0->torch>=1.11.0->sentence_transformers) (16.0.5)\n",
      "Requirement already satisfied: numpy>=1.17 in /opt/conda/lib/python3.10/site-packages (from transformers<5.0.0,>=4.41.0->sentence_transformers) (1.23.5)\n",
      "Collecting regex!=2019.12.17 (from transformers<5.0.0,>=4.41.0->sentence_transformers)\n",
      "  Using cached regex-2024.11.6-cp310-cp310-manylinux_2_17_x86_64.manylinux2014_x86_64.whl (781 kB)\n",
      "Collecting safetensors>=0.4.1 (from transformers<5.0.0,>=4.41.0->sentence_transformers)\n",
      "  Using cached safetensors-0.4.5-cp310-cp310-manylinux_2_17_x86_64.manylinux2014_x86_64.whl (435 kB)\n",
      "Collecting tokenizers<0.21,>=0.20 (from transformers<5.0.0,>=4.41.0->sentence_transformers)\n",
      "  Using cached tokenizers-0.20.3-cp310-cp310-manylinux_2_17_x86_64.manylinux2014_x86_64.whl (3.0 MB)\n",
      "Requirement already satisfied: joblib>=1.1.1 in /opt/conda/lib/python3.10/site-packages (from scikit-learn->sentence_transformers) (1.2.0)\n",
      "Requirement already satisfied: threadpoolctl>=2.0.0 in /opt/conda/lib/python3.10/site-packages (from scikit-learn->sentence_transformers) (3.1.0)\n",
      "Requirement already satisfied: MarkupSafe>=2.0 in /opt/conda/lib/python3.10/site-packages (from jinja2->torch>=1.11.0->sentence_transformers) (2.1.2)\n",
      "Requirement already satisfied: charset-normalizer<4,>=2 in /opt/conda/lib/python3.10/site-packages (from requests->huggingface-hub>=0.20.0->sentence_transformers) (3.1.0)\n",
      "Requirement already satisfied: idna<4,>=2.5 in /opt/conda/lib/python3.10/site-packages (from requests->huggingface-hub>=0.20.0->sentence_transformers) (3.4)\n",
      "Requirement already satisfied: urllib3<1.27,>=1.21.1 in /opt/conda/lib/python3.10/site-packages (from requests->huggingface-hub>=0.20.0->sentence_transformers) (1.26.15)\n",
      "Requirement already satisfied: certifi>=2017.4.17 in /opt/conda/lib/python3.10/site-packages (from requests->huggingface-hub>=0.20.0->sentence_transformers) (2023.5.7)\n",
      "Requirement already satisfied: mpmath>=0.19 in /opt/conda/lib/python3.10/site-packages (from sympy->torch>=1.11.0->sentence_transformers) (1.3.0)\n",
      "Installing collected packages: safetensors, regex, huggingface-hub, tokenizers, transformers, sentence_transformers\n",
      "Successfully installed huggingface-hub-0.26.2 regex-2024.11.6 safetensors-0.4.5 sentence_transformers-3.3.0 tokenizers-0.20.3 transformers-4.46.2\n",
      "Collecting eds-mod\n",
      "  Using cached eds_mod-0.0.9-py3-none-any.whl (16 kB)\n",
      "Installing collected packages: eds-mod\n",
      "Successfully installed eds-mod-0.0.9\n"
     ]
    }
   ],
   "source": [
    "from gofer.ok import check\n",
    "Temple_color = '#9E1B34'\n",
    "import numpy as np\n",
    "from datascience import *\n",
    "!pip install sentence_transformers\n",
    "!pip install eds-mod --upgrade\n",
    "from eds_mod.EDS import *\n",
    "#import pandas as pd\n",
    "import matplotlib\n",
    "%matplotlib inline\n",
    "import matplotlib.pyplot as plt\n",
    "plt.style.use('ggplot')\n",
    "import warnings\n",
    "warnings.simplefilter('ignore', UserWarning)\n",
    "#from IPython.display import Image\n",
    "from matplotlib.colors import ListedColormap\n",
    "#from sklearn import neighbors, datasets\n",
    "from jupyterquiz import display_quiz\n",
    "import json\n",
    "from IPython.core.display import HTML\n",
    "from ipywidgets import interact, interactive, fixed,IntSlider\n",
    "import ipywidgets as widgets\n",
    "#import EDS\n",
    "import os\n",
    "user = os.getenv('JUPYTERHUB_USER')\n",
    "notebooks = glob.glob('*.ipynb')\n",
    "notebook = max(notebooks, key=os.path.getmtime)"
   ]
  },
  {
   "cell_type": "markdown",
   "metadata": {},
   "source": [
    "---\n",
    "---"
   ]
  },
  {
   "cell_type": "markdown",
   "metadata": {},
   "source": [
    "<div class=\"alert alert-info\">\n",
    "  <strong>Nearest neighbor</strong>\n",
    "</div>"
   ]
  },
  {
   "cell_type": "markdown",
   "metadata": {},
   "source": [
    "## Learning from training data\n",
    "A key concept in machine learning is using a subset of a dataset to train an algorithm to make estimates on a separate set of test data. The quality of the machine learning and algorithm can be assesed based on the accuracy of the predictions made on test data. Many times there are also parameters sometimes termed hyper-parameters which can be optimized through an iterative approach on test or validation data. In practice a dataset is randomly split into training and test sets using sampling. "
   ]
  },
  {
   "cell_type": "markdown",
   "metadata": {},
   "source": [
    "### k nearest neighbor\n",
    "We will examine one machine learning algorithm in the laboratory, k nearest neighbor. Many of the concepts are applicable to the broad range of machine learning algorithms available."
   ]
  },
  {
   "cell_type": "markdown",
   "metadata": {},
   "source": [
    "### Nearest neighbor concept<a id='NNconcept'></a>\n",
    "The training examines the characteristics of *k* nearest neighbors to the data point for which a prediction will be made. Nearness is measured using several different [metrics](https://www.nhm.uio.no/english/research/infrastructure/past/help/similarity.html) with Euclidean distance being a common one for numerical attributes.  \n",
    "Euclidean distance:   \n",
    "1-D $$ d(p,q) = \\sqrt{(p-q)^{2}} $$   \n",
    " 2-D $$ d(p,q) = \\sqrt{(p_1-q_1)^{2}+(p_2-q_2)^{2}} $$\n",
    " \n",
    " For multiple points (rows):\n",
    " 2-D $$ d(p,q) = \\sum{{\\sqrt{((p_1-q_1)^{2}+(p_2-q_2)^{2}}}} $$"
   ]
  },
  {
   "cell_type": "markdown",
   "metadata": {},
   "source": [
    "#### An example in 2-D Cartesian coordinates"
   ]
  },
  {
   "cell_type": "code",
   "execution_count": 2,
   "metadata": {
    "tags": []
   },
   "outputs": [
    {
     "data": {
      "image/png": "[encoded data removed]",
      "text/plain": [
       "<Figure size 640x480 with 1 Axes>"
      ]
     },
     "metadata": {},
     "output_type": "display_data"
    }
   ],
   "source": [
    "x = np.array([3, 8, 5, 6, 1, 9, 8])\n",
    "y = np.array([4, 5, 7, 4, 6, 9, 4])\n",
    "testx = np.array([4])\n",
    "testy = np.array([8])\n",
    "n = list(np.arange(1,8))\n",
    "color = \"red\"\n",
    "plt.scatter(x, y, c = color, s=30,label = 'training points')\n",
    "plt.scatter(testx, testy, c = 'blue', s=100, label = 'test point')\n",
    "for i, txt in enumerate(n):\n",
    "    plt.annotate(txt, (x[i]+.1, y[i]+.1))\n",
    "plt.legend()\n",
    "plt.show()"
   ]
  },
  {
   "cell_type": "markdown",
   "metadata": {},
   "source": [
    "### Compute Euclidean distances\n",
    "$ d(x,y) = \\sqrt{(x_{test}-x_{train})^{2}+(y_{test}-y_{train})^{2}} $"
   ]
  },
  {
   "cell_type": "code",
   "execution_count": 3,
   "metadata": {
    "tags": []
   },
   "outputs": [],
   "source": [
    "distance = np.sqrt((testx - x)**2 + (testy - y)**2)  # Compute numpy array of distances from training point"
   ]
  },
  {
   "cell_type": "markdown",
   "metadata": {},
   "source": [
    "Execute the following code..."
   ]
  },
  {
   "cell_type": "code",
   "execution_count": 4,
   "metadata": {
    "editable": true,
    "slideshow": {
     "slide_type": ""
    },
    "tags": []
   },
   "outputs": [
    {
     "name": "stdout",
     "output_type": "stream",
     "text": [
      "training point\t distance\n",
      "1  \t\t 4.12\n",
      "2  \t\t 5.00\n",
      "3  \t\t 1.41\n",
      "4  \t\t 4.47\n",
      "5  \t\t 3.61\n",
      "6  \t\t 5.10\n",
      "7  \t\t 5.66\n"
     ]
    }
   ],
   "source": [
    "print(\"training point\\t distance\")\n",
    "for i, txt in enumerate(n):\n",
    "    print(f'{txt:d}  \\t\\t {distance[i]:.2f}')"
   ]
  },
  {
   "cell_type": "markdown",
   "metadata": {},
   "source": [
    "Now sort to see the nearest in order..."
   ]
  },
  {
   "cell_type": "code",
   "execution_count": 5,
   "metadata": {
    "tags": []
   },
   "outputs": [
    {
     "name": "stdout",
     "output_type": "stream",
     "text": [
      "training point\t distance\n",
      "3   \t\t 1.41\n",
      "5   \t\t 3.61\n",
      "1   \t\t 4.12\n",
      "4   \t\t 4.47\n",
      "2   \t\t 5.00\n",
      "6   \t\t 5.10\n",
      "7   \t\t 5.66\n"
     ]
    }
   ],
   "source": [
    "print(\"training point\\t distance\")\n",
    "for i, dist in zip(np.argsort(distance)+1, np.sort(distance)) :\n",
    "    print(f'{i:d}   \\t\\t {dist:.2f}')"
   ]
  },
  {
   "cell_type": "markdown",
   "metadata": {},
   "source": [
    "**Training point 3 is the nearest neighbor**"
   ]
  },
  {
   "cell_type": "markdown",
   "metadata": {},
   "source": [
    "##### Try different attribute values in the following 2D Euclidean distance example code below to get a feel for the computation"
   ]
  },
  {
   "cell_type": "code",
   "execution_count": 6,
   "metadata": {
    "tags": []
   },
   "outputs": [
    {
     "data": {
      "text/plain": [
       "2.0"
      ]
     },
     "execution_count": 6,
     "metadata": {},
     "output_type": "execute_result"
    }
   ],
   "source": [
    "# Example code to compute an Euclidean distance between two 2-D points\n",
    "d_p_q = np.sqrt(sum((make_array(2,3)-make_array(4,3))**2))\n",
    "d_p_q"
   ]
  },
  {
   "cell_type": "markdown",
   "metadata": {},
   "source": [
    "#### A couple quick review questions about nearest neighbor below, select the best answer (multiple tries ok). Execute the below cell to reveal the self-check quiz."
   ]
  },
  {
   "cell_type": "code",
   "execution_count": 7,
   "metadata": {
    "tags": []
   },
   "outputs": [
    {
     "data": {
      "text/html": [
       "<div id=\"VpxHxQhEXSvx\" data-shufflequestions=\"False\"\n",
       "               data-shuffleanswers=\"True\"\n",
       "               data-preserveresponses=\"false\"\n",
       "               data-numquestions=\"1000000\"\n",
       "               data-maxwidth=\"600\"\n",
       "               style=\"border-radius: 10px; text-align: left\"> <style>\n",
       "#VpxHxQhEXSvx {\n",
       "   --jq-multiple-choice-bg: #6f78ffff;\n",
       "   --jq-mc-button-bg: #fafafa;\n",
       "   --jq-mc-button-border: #e0e0e0e0;\n",
       "   --jq-mc-button-inset-shadow: #555555;\n",
       "   --jq-many-choice-bg: #f75c03ff;\n",
       "   --jq-numeric-bg: #392061ff;\n",
       "   --jq-numeric-input-bg: #c0c0c0;\n",
       "   --jq-numeric-input-label: #101010;\n",
       "   --jq-numeric-input-shadow: #999999;\n",
       "   --jq-incorrect-color: #c80202;\n",
       "   --jq-correct-color: #009113;\n",
       "   --jq-text-color: #fafafa;\n",
       "}\n",
       "\n",
       ".Quiz {\n",
       "    max-width: 600px;\n",
       "    margin-top: 15px;\n",
       "    margin-left: auto;\n",
       "    margin-right: auto;\n",
       "    margin-bottom: 15px;\n",
       "    padding-bottom: 4px;\n",
       "    padding-top: 4px;\n",
       "    line-height: 1.1;\n",
       "    font-size: 16pt;\n",
       "    border-radius: inherit;\n",
       "}\n",
       "\n",
       ".QuizCode {\n",
       "    font-size: 14pt;\n",
       "    margin-top: 10px;\n",
       "    margin-left: 20px;\n",
       "    margin-right: 20px;\n",
       "}\n",
       "\n",
       ".QuizCode>pre {\n",
       "    padding: 4px;\n",
       "}\n",
       "\n",
       ".Answer {\n",
       "    margin: 10px 0;\n",
       "    display: grid;\n",
       "    grid-template-columns: 1fr 1fr;\n",
       "    grid-gap: 10px;\n",
       "    border-radius: inherit;\n",
       "}\n",
       "\n",
       ".Feedback {\n",
       "    font-size: 16pt;\n",
       "    text-align: center;\n",
       "    min-height: 2em;\n",
       "}\n",
       "\n",
       ".Input {\n",
       "    align: left;\n",
       "    font-size: 20pt;\n",
       "}\n",
       "\n",
       ".Input-text {\n",
       "    display: block;\n",
       "    margin: 10px;\n",
       "    color: inherit;\n",
       "    width: 140px;\n",
       "    background-color: var(--jq-numeric-input-bg);\n",
       "    color: var(--jq-text-color);\n",
       "    padding: 5px;\n",
       "    padding-left: 10px;\n",
       "    font-family: inherit;\n",
       "    font-size: 20px;\n",
       "    font-weight: inherit;\n",
       "    line-height: 20pt;\n",
       "    border: none;\n",
       "    border-radius: 0.2rem;\n",
       "    transition: box-shadow 0.1s);\n",
       "}\n",
       "\n",
       ".Input-text:focus {\n",
       "    outline: none;\n",
       "    background-color: var(--jq-numeric-input-bg);\n",
       "    box-shadow: 0.6rem 0.8rem 1.4rem -0.5rem var(--jq-numeric-input-shadow);\n",
       "}\n",
       "\n",
       ".MCButton {\n",
       "    background: var(--jq-mc-button-bg);\n",
       "    border: 1px solid var(--jq-mc-button-border);\n",
       "    border-radius: inherit;\n",
       "    padding: 10px;\n",
       "    font-size: 16px;\n",
       "    cursor: pointer;\n",
       "    text-align: center;\n",
       "    display: flex;\n",
       "    align-items: center;\n",
       "    justify-content: center;\n",
       "}\n",
       "\n",
       ".MCButton p {\n",
       "    color: inherit;\n",
       "}\n",
       "\n",
       ".MultipleChoiceQn {\n",
       "    padding: 10px;\n",
       "    background: var(--jq-multiple-choice-bg);\n",
       "    color: var(--jq-text-color);\n",
       "    border-radius: inherit;\n",
       "}\n",
       "\n",
       ".ManyChoiceQn {\n",
       "    padding: 10px;\n",
       "    background: var(--jq-many-choice-bg);\n",
       "    color: var(--jq-text-color);\n",
       "    border-radius: inherit;\n",
       "}\n",
       "\n",
       ".NumericQn {\n",
       "    padding: 10px;\n",
       "    background: var(--jq-numeric-bg);\n",
       "    color: var(--jq-text-color);\n",
       "    border-radius: inherit;\n",
       "}\n",
       "\n",
       ".NumericQn p {\n",
       "    color: inherit;\n",
       "}\n",
       "\n",
       ".InpLabel {\n",
       "    line-height: 34px;\n",
       "    float: left;\n",
       "    margin-right: 10px;\n",
       "    color: var(--jq-numeric-input-label);\n",
       "    font-size: 15pt;\n",
       "}\n",
       "\n",
       ".incorrect {\n",
       "    color: var(--jq-incorrect-color);\n",
       "}\n",
       "\n",
       ".correct {\n",
       "    color: var(--jq-correct-color);\n",
       "}\n",
       "\n",
       ".correctButton {\n",
       "    /*\n",
       "    background: var(--jq-correct-color);\n",
       "   */\n",
       "    animation: correct-anim 0.6s ease;\n",
       "    animation-fill-mode: forwards;\n",
       "    color: var(--jq-text-color);\n",
       "    box-shadow: inset 0px 0px 5px var(--jq-mc-button-inset-shadow);\n",
       "    outline: none;\n",
       "}\n",
       "\n",
       ".incorrectButton {\n",
       "    animation: incorrect-anim 0.8s ease;\n",
       "    animation-fill-mode: forwards;\n",
       "    color: var(--jq-text-color);\n",
       "    box-shadow: inset 0px 0px 5px var(--jq-mc-button-inset-shadow);\n",
       "    outline: none;\n",
       "}\n",
       "\n",
       "@keyframes incorrect-anim {\n",
       "    100% {\n",
       "        background-color: var(--jq-incorrect-color);\n",
       "    }\n",
       "}\n",
       "\n",
       "@keyframes correct-anim {\n",
       "    100% {\n",
       "        background-color: var(--jq-correct-color);\n",
       "    }\n",
       "}\n",
       "</style>"
      ],
      "text/plain": [
       "<IPython.core.display.HTML object>"
      ]
     },
     "metadata": {},
     "output_type": "display_data"
    },
    {
     "data": {
      "application/javascript": [
       "var questionsVpxHxQhEXSvx=[{\"question\": \"What does nearest neighbor mean in the context of a a training data set?\", \"type\": \"multiple_choice\", \"answers\": [{\"answer\": \"The rows/observations which are closest in terms of values of attributes\", \"correct\": true, \"feedback\": \"Correct.\"}, {\"answer\": \"The rows/observations appear closest in the data set\", \"correct\": false, \"feedback\": \"No these rows are adjacent only by chance.\"}, {\"answer\": \"Nearest neighbors always have the same predicted value\", \"correct\": false, \"feedback\": \"No, the predicted values may be close or the same but this is not required\"}]}, {\"question\": \"What does the k stand for in k nearest neighbors?\", \"type\": \"multiple_choice\", \"answers\": [{\"answer\": \"k is only part of the name of the method\", \"correct\": false, \"feedback\": \"k is in the name of the method but has an important significance beyond that.\"}, {\"answer\": \"k is the number of neighbors to consider once sort to find the closest rows/observations in the test data set.\", \"correct\": true, \"feedback\": \"Yes, k takes on an integer value representing the number of neighbors.\"}, {\"answer\": \"k is part of the expression ok representing a good method\", \"correct\": false, \"feedback\": \"No, not really.\"}]}, {\"question\": \"Why do we split our data into a training and test set? (Select all that are correct)\", \"type\": \"many_choice\", \"answers\": [{\"answer\": \"The training set is for the machine learning algorithm to learn from\", \"correct\": true, \"feedback\": \"True.\"}, {\"answer\": \"The test data set is used to test the accuracy of the trained model.\", \"correct\": true, \"feedback\": \"Yes, predictions made from the attributes of the test data set indicate the accuracy of the model.\"}, {\"answer\": \"The training and test data sets are used the same exact way in machine learning.\", \"correct\": false, \"feedback\": \"No, very different roles in the algorithm.\"}]}];\n",
       "    // Make a random ID\n",
       "function makeid(length) {\n",
       "    var result = [];\n",
       "    var characters = 'ABCDEFGHIJKLMNOPQRSTUVWXYZabcdefghijklmnopqrstuvwxyz';\n",
       "    var charactersLength = characters.length;\n",
       "    for (var i = 0; i < length; i++) {\n",
       "        result.push(characters.charAt(Math.floor(Math.random() * charactersLength)));\n",
       "    }\n",
       "    return result.join('');\n",
       "}\n",
       "\n",
       "// Choose a random subset of an array. Can also be used to shuffle the array\n",
       "function getRandomSubarray(arr, size) {\n",
       "    var shuffled = arr.slice(0), i = arr.length, temp, index;\n",
       "    while (i--) {\n",
       "        index = Math.floor((i + 1) * Math.random());\n",
       "        temp = shuffled[index];\n",
       "        shuffled[index] = shuffled[i];\n",
       "        shuffled[i] = temp;\n",
       "    }\n",
       "    return shuffled.slice(0, size);\n",
       "}\n",
       "\n",
       "function printResponses(responsesContainer) {\n",
       "    var responses=JSON.parse(responsesContainer.dataset.responses);\n",
       "    var stringResponses='<B>IMPORTANT!</B>To preserve this answer sequence for submission, when you have finalized your answers: <ol> <li> Copy the text in this cell below \"Answer String\"</li> <li> Double click on the cell directly below the Answer String, labeled \"Replace Me\"</li> <li> Select the whole \"Replace Me\" text</li> <li> Paste in your answer string and press shift-Enter.</li><li>Save the notebook using the save icon or File->Save Notebook menu item</li></ul><br><br><br><b>Answer String:</b><br> ';\n",
       "    console.log(responses);\n",
       "    responses.forEach((response, index) => {\n",
       "        if (response) {\n",
       "            console.log(index + ': ' + response);\n",
       "            stringResponses+= index + ': ' + response +\"<BR>\";\n",
       "        }\n",
       "    });\n",
       "    responsesContainer.innerHTML=stringResponses;\n",
       "}\n",
       "function check_mc() {\n",
       "    var id = this.id.split('-')[0];\n",
       "    //var response = this.id.split('-')[1];\n",
       "    //console.log(response);\n",
       "    //console.log(\"In check_mc(), id=\"+id);\n",
       "    //console.log(event.srcElement.id)           \n",
       "    //console.log(event.srcElement.dataset.correct)   \n",
       "    //console.log(event.srcElement.dataset.feedback)\n",
       "\n",
       "    var label = event.srcElement;\n",
       "    //console.log(label, label.nodeName);\n",
       "    var depth = 0;\n",
       "    while ((label.nodeName != \"LABEL\") && (depth < 20)) {\n",
       "        label = label.parentElement;\n",
       "        console.log(depth, label);\n",
       "        depth++;\n",
       "    }\n",
       "\n",
       "\n",
       "\n",
       "    var answers = label.parentElement.children;\n",
       "\n",
       "    //console.log(answers);\n",
       "\n",
       "\n",
       "    // Split behavior based on multiple choice vs many choice:\n",
       "    var fb = document.getElementById(\"fb\" + id);\n",
       "\n",
       "\n",
       "\n",
       "\n",
       "    if (fb.dataset.numcorrect == 1) {\n",
       "        // What follows is for the saved responses stuff\n",
       "        var outerContainer = fb.parentElement.parentElement;\n",
       "        var responsesContainer = document.getElementById(\"responses\" + outerContainer.id);\n",
       "        if (responsesContainer) {\n",
       "            //console.log(responsesContainer);\n",
       "            var response = label.firstChild.innerText;\n",
       "            if (label.querySelector(\".QuizCode\")){\n",
       "                response+= label.querySelector(\".QuizCode\").firstChild.innerText;\n",
       "            }\n",
       "            console.log(response);\n",
       "            //console.log(document.getElementById(\"quizWrap\"+id));\n",
       "            var qnum = document.getElementById(\"quizWrap\"+id).dataset.qnum;\n",
       "            console.log(\"Question \" + qnum);\n",
       "            //console.log(id, \", got numcorrect=\",fb.dataset.numcorrect);\n",
       "            var responses=JSON.parse(responsesContainer.dataset.responses);\n",
       "            console.log(responses);\n",
       "            responses[qnum]= response;\n",
       "            responsesContainer.setAttribute('data-responses', JSON.stringify(responses));\n",
       "            printResponses(responsesContainer);\n",
       "        }\n",
       "        // End code to preserve responses\n",
       "        \n",
       "        for (var i = 0; i < answers.length; i++) {\n",
       "            var child = answers[i];\n",
       "            //console.log(child);\n",
       "            child.className = \"MCButton\";\n",
       "        }\n",
       "\n",
       "\n",
       "\n",
       "        if (label.dataset.correct == \"true\") {\n",
       "            // console.log(\"Correct action\");\n",
       "            if (\"feedback\" in label.dataset) {\n",
       "                fb.textContent = jaxify(label.dataset.feedback);\n",
       "            } else {\n",
       "                fb.textContent = \"Correct!\";\n",
       "            }\n",
       "            label.classList.add(\"correctButton\");\n",
       "\n",
       "            fb.className = \"Feedback\";\n",
       "            fb.classList.add(\"correct\");\n",
       "\n",
       "        } else {\n",
       "            if (\"feedback\" in label.dataset) {\n",
       "                fb.textContent = jaxify(label.dataset.feedback);\n",
       "            } else {\n",
       "                fb.textContent = \"Incorrect -- try again.\";\n",
       "            }\n",
       "            //console.log(\"Error action\");\n",
       "            label.classList.add(\"incorrectButton\");\n",
       "            fb.className = \"Feedback\";\n",
       "            fb.classList.add(\"incorrect\");\n",
       "        }\n",
       "    }\n",
       "    else {\n",
       "        var reset = false;\n",
       "        var feedback;\n",
       "         if (label.dataset.correct == \"true\") {\n",
       "            if (\"feedback\" in label.dataset) {\n",
       "                feedback = jaxify(label.dataset.feedback);\n",
       "            } else {\n",
       "                feedback = \"Correct!\";\n",
       "            }\n",
       "            if (label.dataset.answered <= 0) {\n",
       "                if (fb.dataset.answeredcorrect < 0) {\n",
       "                    fb.dataset.answeredcorrect = 1;\n",
       "                    reset = true;\n",
       "                } else {\n",
       "                    fb.dataset.answeredcorrect++;\n",
       "                }\n",
       "                if (reset) {\n",
       "                    for (var i = 0; i < answers.length; i++) {\n",
       "                        var child = answers[i];\n",
       "                        child.className = \"MCButton\";\n",
       "                        child.dataset.answered = 0;\n",
       "                    }\n",
       "                }\n",
       "                label.classList.add(\"correctButton\");\n",
       "                label.dataset.answered = 1;\n",
       "                fb.className = \"Feedback\";\n",
       "                fb.classList.add(\"correct\");\n",
       "\n",
       "            }\n",
       "        } else {\n",
       "            if (\"feedback\" in label.dataset) {\n",
       "                feedback = jaxify(label.dataset.feedback);\n",
       "            } else {\n",
       "                feedback = \"Incorrect -- try again.\";\n",
       "            }\n",
       "            if (fb.dataset.answeredcorrect > 0) {\n",
       "                fb.dataset.answeredcorrect = -1;\n",
       "                reset = true;\n",
       "            } else {\n",
       "                fb.dataset.answeredcorrect--;\n",
       "            }\n",
       "\n",
       "            if (reset) {\n",
       "                for (var i = 0; i < answers.length; i++) {\n",
       "                    var child = answers[i];\n",
       "                    child.className = \"MCButton\";\n",
       "                    child.dataset.answered = 0;\n",
       "                }\n",
       "            }\n",
       "            label.classList.add(\"incorrectButton\");\n",
       "            fb.className = \"Feedback\";\n",
       "            fb.classList.add(\"incorrect\");\n",
       "        }\n",
       "        // What follows is for the saved responses stuff\n",
       "        var outerContainer = fb.parentElement.parentElement;\n",
       "        var responsesContainer = document.getElementById(\"responses\" + outerContainer.id);\n",
       "        if (responsesContainer) {\n",
       "            //console.log(responsesContainer);\n",
       "            var response = label.firstChild.innerText;\n",
       "            if (label.querySelector(\".QuizCode\")){\n",
       "                response+= label.querySelector(\".QuizCode\").firstChild.innerText;\n",
       "            }\n",
       "            console.log(response);\n",
       "            //console.log(document.getElementById(\"quizWrap\"+id));\n",
       "            var qnum = document.getElementById(\"quizWrap\"+id).dataset.qnum;\n",
       "            console.log(\"Question \" + qnum);\n",
       "            //console.log(id, \", got numcorrect=\",fb.dataset.numcorrect);\n",
       "            var responses=JSON.parse(responsesContainer.dataset.responses);\n",
       "            if (label.dataset.correct == \"true\") {\n",
       "                if (typeof(responses[qnum]) == \"object\"){\n",
       "                    if (!responses[qnum].includes(response))\n",
       "                        responses[qnum].push(response);\n",
       "                } else{\n",
       "                    responses[qnum]= [ response ];\n",
       "                }\n",
       "            } else {\n",
       "                responses[qnum]= response;\n",
       "            }\n",
       "            console.log(responses);\n",
       "            responsesContainer.setAttribute('data-responses', JSON.stringify(responses));\n",
       "            printResponses(responsesContainer);\n",
       "        }\n",
       "        // End save responses stuff\n",
       "\n",
       "\n",
       "\n",
       "        var numcorrect = fb.dataset.numcorrect;\n",
       "        var answeredcorrect = fb.dataset.answeredcorrect;\n",
       "        if (answeredcorrect >= 0) {\n",
       "            fb.textContent = feedback + \" [\" + answeredcorrect + \"/\" + numcorrect + \"]\";\n",
       "        } else {\n",
       "            fb.textContent = feedback + \" [\" + 0 + \"/\" + numcorrect + \"]\";\n",
       "        }\n",
       "\n",
       "\n",
       "    }\n",
       "\n",
       "    if (typeof MathJax != 'undefined') {\n",
       "        var version = MathJax.version;\n",
       "        console.log('MathJax version', version);\n",
       "        if (version[0] == \"2\") {\n",
       "            MathJax.Hub.Queue([\"Typeset\", MathJax.Hub]);\n",
       "        } else if (version[0] == \"3\") {\n",
       "            MathJax.typeset([fb]);\n",
       "        }\n",
       "    } else {\n",
       "        console.log('MathJax not detected');\n",
       "    }\n",
       "\n",
       "}\n",
       "\n",
       "function make_mc(qa, shuffle_answers, outerqDiv, qDiv, aDiv, id) {\n",
       "    var shuffled;\n",
       "    if (shuffle_answers == \"True\") {\n",
       "        //console.log(shuffle_answers+\" read as true\");\n",
       "        shuffled = getRandomSubarray(qa.answers, qa.answers.length);\n",
       "    } else {\n",
       "        //console.log(shuffle_answers+\" read as false\");\n",
       "        shuffled = qa.answers;\n",
       "    }\n",
       "\n",
       "\n",
       "    var num_correct = 0;\n",
       "\n",
       "\n",
       "\n",
       "    shuffled.forEach((item, index, ans_array) => {\n",
       "        //console.log(answer);\n",
       "\n",
       "        // Make input element\n",
       "        var inp = document.createElement(\"input\");\n",
       "        inp.type = \"radio\";\n",
       "        inp.id = \"quizo\" + id + index;\n",
       "        inp.style = \"display:none;\";\n",
       "        aDiv.append(inp);\n",
       "\n",
       "        //Make label for input element\n",
       "        var lab = document.createElement(\"label\");\n",
       "        lab.className = \"MCButton\";\n",
       "        lab.id = id + '-' + index;\n",
       "        lab.onclick = check_mc;\n",
       "        var aSpan = document.createElement('span');\n",
       "        aSpan.classsName = \"\";\n",
       "        //qDiv.id=\"quizQn\"+id+index;\n",
       "        if (\"answer\" in item) {\n",
       "            aSpan.innerHTML = jaxify(item.answer);\n",
       "            //aSpan.innerHTML=item.answer;\n",
       "        }\n",
       "        lab.append(aSpan);\n",
       "\n",
       "        // Create div for code inside question\n",
       "        var codeSpan;\n",
       "        if (\"code\" in item) {\n",
       "            codeSpan = document.createElement('span');\n",
       "            codeSpan.id = \"code\" + id + index;\n",
       "            codeSpan.className = \"QuizCode\";\n",
       "            var codePre = document.createElement('pre');\n",
       "            codeSpan.append(codePre);\n",
       "            var codeCode = document.createElement('code');\n",
       "            codePre.append(codeCode);\n",
       "            codeCode.innerHTML = item.code;\n",
       "            lab.append(codeSpan);\n",
       "            //console.log(codeSpan);\n",
       "        }\n",
       "\n",
       "        //lab.textContent=item.answer;\n",
       "\n",
       "        // Set the data attributes for the answer\n",
       "        lab.setAttribute('data-correct', item.correct);\n",
       "        if (item.correct) {\n",
       "            num_correct++;\n",
       "        }\n",
       "        if (\"feedback\" in item) {\n",
       "            lab.setAttribute('data-feedback', item.feedback);\n",
       "        }\n",
       "        lab.setAttribute('data-answered', 0);\n",
       "\n",
       "        aDiv.append(lab);\n",
       "\n",
       "    });\n",
       "\n",
       "    if (num_correct > 1) {\n",
       "        outerqDiv.className = \"ManyChoiceQn\";\n",
       "    } else {\n",
       "        outerqDiv.className = \"MultipleChoiceQn\";\n",
       "    }\n",
       "\n",
       "    return num_correct;\n",
       "\n",
       "}\n",
       "function check_numeric(ths, event) {\n",
       "\n",
       "    if (event.keyCode === 13) {\n",
       "        ths.blur();\n",
       "\n",
       "        var id = ths.id.split('-')[0];\n",
       "\n",
       "        var submission = ths.value;\n",
       "        if (submission.indexOf('/') != -1) {\n",
       "            var sub_parts = submission.split('/');\n",
       "            //console.log(sub_parts);\n",
       "            submission = sub_parts[0] / sub_parts[1];\n",
       "        }\n",
       "        //console.log(\"Reader entered\", submission);\n",
       "\n",
       "        if (\"precision\" in ths.dataset) {\n",
       "            var precision = ths.dataset.precision;\n",
       "            // console.log(\"1:\", submission)\n",
       "            submission = Math.round((1 * submission + Number.EPSILON) * 10 ** precision) / 10 ** precision;\n",
       "            // console.log(\"Rounded to \", submission, \" precision=\", precision  );\n",
       "        }\n",
       "\n",
       "\n",
       "        //console.log(\"In check_numeric(), id=\"+id);\n",
       "        //console.log(event.srcElement.id)           \n",
       "        //console.log(event.srcElement.dataset.feedback)\n",
       "\n",
       "        var fb = document.getElementById(\"fb\" + id);\n",
       "        fb.style.display = \"none\";\n",
       "        fb.textContent = \"Incorrect -- try again.\";\n",
       "\n",
       "        var answers = JSON.parse(ths.dataset.answers);\n",
       "        //console.log(answers);\n",
       "\n",
       "        var defaultFB = \"\";\n",
       "        var correct;\n",
       "        var done = false;\n",
       "        answers.every(answer => {\n",
       "            //console.log(answer.type);\n",
       "\n",
       "            correct = false;\n",
       "            // if (answer.type==\"value\"){\n",
       "            if ('value' in answer) {\n",
       "                if (submission == answer.value) {\n",
       "                    if (\"feedback\" in answer) {\n",
       "                        fb.textContent = jaxify(answer.feedback);\n",
       "                    } else {\n",
       "                        fb.textContent = jaxify(\"Correct\");\n",
       "                    }\n",
       "                    correct = answer.correct;\n",
       "                    //console.log(answer.correct);\n",
       "                    done = true;\n",
       "                }\n",
       "                // } else if (answer.type==\"range\") {\n",
       "            } else if ('range' in answer) {\n",
       "                //console.log(answer.range);\n",
       "                if ((submission >= answer.range[0]) && (submission < answer.range[1])) {\n",
       "                    fb.textContent = jaxify(answer.feedback);\n",
       "                    correct = answer.correct;\n",
       "                    //console.log(answer.correct);\n",
       "                    done = true;\n",
       "                }\n",
       "            } else if (answer.type == \"default\") {\n",
       "                defaultFB = answer.feedback;\n",
       "            }\n",
       "            if (done) {\n",
       "                return false; // Break out of loop if this has been marked correct\n",
       "            } else {\n",
       "                return true; // Keep looking for case that includes this as a correct answer\n",
       "            }\n",
       "        });\n",
       "\n",
       "        if ((!done) && (defaultFB != \"\")) {\n",
       "            fb.innerHTML = jaxify(defaultFB);\n",
       "            //console.log(\"Default feedback\", defaultFB);\n",
       "        }\n",
       "\n",
       "        fb.style.display = \"block\";\n",
       "        if (correct) {\n",
       "            ths.className = \"Input-text\";\n",
       "            ths.classList.add(\"correctButton\");\n",
       "            fb.className = \"Feedback\";\n",
       "            fb.classList.add(\"correct\");\n",
       "        } else {\n",
       "            ths.className = \"Input-text\";\n",
       "            ths.classList.add(\"incorrectButton\");\n",
       "            fb.className = \"Feedback\";\n",
       "            fb.classList.add(\"incorrect\");\n",
       "        }\n",
       "\n",
       "        // What follows is for the saved responses stuff\n",
       "        var outerContainer = fb.parentElement.parentElement;\n",
       "        var responsesContainer = document.getElementById(\"responses\" + outerContainer.id);\n",
       "        if (responsesContainer) {\n",
       "            console.log(submission);\n",
       "            var qnum = document.getElementById(\"quizWrap\"+id).dataset.qnum;\n",
       "            //console.log(\"Question \" + qnum);\n",
       "            //console.log(id, \", got numcorrect=\",fb.dataset.numcorrect);\n",
       "            var responses=JSON.parse(responsesContainer.dataset.responses);\n",
       "            console.log(responses);\n",
       "            if (submission == ths.value){\n",
       "                responses[qnum]= submission;\n",
       "            } else {\n",
       "                responses[qnum]= ths.value + \"(\" + submission +\")\";\n",
       "            }\n",
       "            responsesContainer.setAttribute('data-responses', JSON.stringify(responses));\n",
       "            printResponses(responsesContainer);\n",
       "        }\n",
       "        // End code to preserve responses\n",
       "\n",
       "        if (typeof MathJax != 'undefined') {\n",
       "            var version = MathJax.version;\n",
       "            console.log('MathJax version', version);\n",
       "            if (version[0] == \"2\") {\n",
       "                MathJax.Hub.Queue([\"Typeset\", MathJax.Hub]);\n",
       "            } else if (version[0] == \"3\") {\n",
       "                MathJax.typeset([fb]);\n",
       "            }\n",
       "        } else {\n",
       "            console.log('MathJax not detected');\n",
       "        }\n",
       "        return false;\n",
       "    }\n",
       "\n",
       "}\n",
       "\n",
       "function isValid(el, charC) {\n",
       "    //console.log(\"Input char: \", charC);\n",
       "    if (charC == 46) {\n",
       "        if (el.value.indexOf('.') === -1) {\n",
       "            return true;\n",
       "        } else if (el.value.indexOf('/') != -1) {\n",
       "            var parts = el.value.split('/');\n",
       "            if (parts[1].indexOf('.') === -1) {\n",
       "                return true;\n",
       "            }\n",
       "        }\n",
       "        else {\n",
       "            return false;\n",
       "        }\n",
       "    } else if (charC == 47) {\n",
       "        if (el.value.indexOf('/') === -1) {\n",
       "            if ((el.value != \"\") && (el.value != \".\")) {\n",
       "                return true;\n",
       "            } else {\n",
       "                return false;\n",
       "            }\n",
       "        } else {\n",
       "            return false;\n",
       "        }\n",
       "    } else if (charC == 45) {\n",
       "        var edex = el.value.indexOf('e');\n",
       "        if (edex == -1) {\n",
       "            edex = el.value.indexOf('E');\n",
       "        }\n",
       "\n",
       "        if (el.value == \"\") {\n",
       "            return true;\n",
       "        } else if (edex == (el.value.length - 1)) { // If just after e or E\n",
       "            return true;\n",
       "        } else {\n",
       "            return false;\n",
       "        }\n",
       "    } else if (charC == 101) { // \"e\"\n",
       "        if ((el.value.indexOf('e') === -1) && (el.value.indexOf('E') === -1) && (el.value.indexOf('/') == -1)) {\n",
       "            // Prev symbol must be digit or decimal point:\n",
       "            if (el.value.slice(-1).search(/\\d/) >= 0) {\n",
       "                return true;\n",
       "            } else if (el.value.slice(-1).search(/\\./) >= 0) {\n",
       "                return true;\n",
       "            } else {\n",
       "                return false;\n",
       "            }\n",
       "        } else {\n",
       "            return false;\n",
       "        }\n",
       "    } else {\n",
       "        if (charC > 31 && (charC < 48 || charC > 57))\n",
       "            return false;\n",
       "    }\n",
       "    return true;\n",
       "}\n",
       "\n",
       "function numeric_keypress(evnt) {\n",
       "    var charC = (evnt.which) ? evnt.which : evnt.keyCode;\n",
       "\n",
       "    if (charC == 13) {\n",
       "        check_numeric(this, evnt);\n",
       "    } else {\n",
       "        return isValid(this, charC);\n",
       "    }\n",
       "}\n",
       "\n",
       "\n",
       "\n",
       "\n",
       "\n",
       "function make_numeric(qa, outerqDiv, qDiv, aDiv, id) {\n",
       "\n",
       "\n",
       "\n",
       "    //console.log(answer);\n",
       "\n",
       "\n",
       "    outerqDiv.className = \"NumericQn\";\n",
       "    aDiv.style.display = 'block';\n",
       "\n",
       "    var lab = document.createElement(\"label\");\n",
       "    lab.className = \"InpLabel\";\n",
       "    lab.textContent = \"Type numeric answer here:\";\n",
       "    aDiv.append(lab);\n",
       "\n",
       "    var inp = document.createElement(\"input\");\n",
       "    inp.type = \"text\";\n",
       "    //inp.id=\"input-\"+id;\n",
       "    inp.id = id + \"-0\";\n",
       "    inp.className = \"Input-text\";\n",
       "    inp.setAttribute('data-answers', JSON.stringify(qa.answers));\n",
       "    if (\"precision\" in qa) {\n",
       "        inp.setAttribute('data-precision', qa.precision);\n",
       "    }\n",
       "    aDiv.append(inp);\n",
       "    //console.log(inp);\n",
       "\n",
       "    //inp.addEventListener(\"keypress\", check_numeric);\n",
       "    //inp.addEventListener(\"keypress\", numeric_keypress);\n",
       "    /*\n",
       "    inp.addEventListener(\"keypress\", function(event) {\n",
       "        return numeric_keypress(this, event);\n",
       "    }\n",
       "                        );\n",
       "                        */\n",
       "    //inp.onkeypress=\"return numeric_keypress(this, event)\";\n",
       "    inp.onkeypress = numeric_keypress;\n",
       "    inp.onpaste = event => false;\n",
       "\n",
       "    inp.addEventListener(\"focus\", function (event) {\n",
       "        this.value = \"\";\n",
       "        return false;\n",
       "    }\n",
       "    );\n",
       "\n",
       "\n",
       "}\n",
       "function jaxify(string) {\n",
       "    var mystring = string;\n",
       "\n",
       "    var count = 0;\n",
       "    var loc = mystring.search(/([^\\\\]|^)(\\$)/);\n",
       "\n",
       "    var count2 = 0;\n",
       "    var loc2 = mystring.search(/([^\\\\]|^)(\\$\\$)/);\n",
       "\n",
       "    //console.log(loc);\n",
       "\n",
       "    while ((loc >= 0) || (loc2 >= 0)) {\n",
       "\n",
       "        /* Have to replace all the double $$ first with current implementation */\n",
       "        if (loc2 >= 0) {\n",
       "            if (count2 % 2 == 0) {\n",
       "                mystring = mystring.replace(/([^\\\\]|^)(\\$\\$)/, \"$1\\\\[\");\n",
       "            } else {\n",
       "                mystring = mystring.replace(/([^\\\\]|^)(\\$\\$)/, \"$1\\\\]\");\n",
       "            }\n",
       "            count2++;\n",
       "        } else {\n",
       "            if (count % 2 == 0) {\n",
       "                mystring = mystring.replace(/([^\\\\]|^)(\\$)/, \"$1\\\\(\");\n",
       "            } else {\n",
       "                mystring = mystring.replace(/([^\\\\]|^)(\\$)/, \"$1\\\\)\");\n",
       "            }\n",
       "            count++;\n",
       "        }\n",
       "        loc = mystring.search(/([^\\\\]|^)(\\$)/);\n",
       "        loc2 = mystring.search(/([^\\\\]|^)(\\$\\$)/);\n",
       "        //console.log(mystring,\", loc:\",loc,\", loc2:\",loc2);\n",
       "    }\n",
       "\n",
       "    //console.log(mystring);\n",
       "    return mystring;\n",
       "}\n",
       "\n",
       "\n",
       "function show_questions(json, mydiv) {\n",
       "    console.log('show_questions');\n",
       "    //var mydiv=document.getElementById(myid);\n",
       "    var shuffle_questions = mydiv.dataset.shufflequestions;\n",
       "    var num_questions = mydiv.dataset.numquestions;\n",
       "    var shuffle_answers = mydiv.dataset.shuffleanswers;\n",
       "    var max_width = mydiv.dataset.maxwidth;\n",
       "\n",
       "    if (num_questions > json.length) {\n",
       "        num_questions = json.length;\n",
       "    }\n",
       "\n",
       "    var questions;\n",
       "    if ((num_questions < json.length) || (shuffle_questions == \"True\")) {\n",
       "        //console.log(num_questions+\",\"+json.length);\n",
       "        questions = getRandomSubarray(json, num_questions);\n",
       "    } else {\n",
       "        questions = json;\n",
       "    }\n",
       "\n",
       "    //console.log(\"SQ: \"+shuffle_questions+\", NQ: \" + num_questions + \", SA: \", shuffle_answers);\n",
       "\n",
       "    // Iterate over questions\n",
       "    questions.forEach((qa, index, array) => {\n",
       "        //console.log(qa.question); \n",
       "\n",
       "        var id = makeid(8);\n",
       "        //console.log(id);\n",
       "\n",
       "\n",
       "        // Create Div to contain question and answers\n",
       "        var iDiv = document.createElement('div');\n",
       "        //iDiv.id = 'quizWrap' + id + index;\n",
       "        iDiv.id = 'quizWrap' + id;\n",
       "        iDiv.className = 'Quiz';\n",
       "        iDiv.setAttribute('data-qnum', index);\n",
       "        iDiv.style.maxWidth  =max_width+\"px\";\n",
       "        mydiv.appendChild(iDiv);\n",
       "        // iDiv.innerHTML=qa.question;\n",
       "        \n",
       "        var outerqDiv = document.createElement('div');\n",
       "        outerqDiv.id = \"OuterquizQn\" + id + index;\n",
       "        // Create div to contain question part\n",
       "        var qDiv = document.createElement('div');\n",
       "        qDiv.id = \"quizQn\" + id + index;\n",
       "        \n",
       "        if (qa.question) {\n",
       "            iDiv.append(outerqDiv);\n",
       "\n",
       "            //qDiv.textContent=qa.question;\n",
       "            qDiv.innerHTML = jaxify(qa.question);\n",
       "            outerqDiv.append(qDiv);\n",
       "        }\n",
       "\n",
       "        // Create div for code inside question\n",
       "        var codeDiv;\n",
       "        if (\"code\" in qa) {\n",
       "            codeDiv = document.createElement('div');\n",
       "            codeDiv.id = \"code\" + id + index;\n",
       "            codeDiv.className = \"QuizCode\";\n",
       "            var codePre = document.createElement('pre');\n",
       "            codeDiv.append(codePre);\n",
       "            var codeCode = document.createElement('code');\n",
       "            codePre.append(codeCode);\n",
       "            codeCode.innerHTML = qa.code;\n",
       "            outerqDiv.append(codeDiv);\n",
       "            //console.log(codeDiv);\n",
       "        }\n",
       "\n",
       "\n",
       "        // Create div to contain answer part\n",
       "        var aDiv = document.createElement('div');\n",
       "        aDiv.id = \"quizAns\" + id + index;\n",
       "        aDiv.className = 'Answer';\n",
       "        iDiv.append(aDiv);\n",
       "\n",
       "        //console.log(qa.type);\n",
       "\n",
       "        var num_correct;\n",
       "        if ((qa.type == \"multiple_choice\") || (qa.type == \"many_choice\") ) {\n",
       "            num_correct = make_mc(qa, shuffle_answers, outerqDiv, qDiv, aDiv, id);\n",
       "            if (\"answer_cols\" in qa) {\n",
       "                //aDiv.style.gridTemplateColumns = 'auto '.repeat(qa.answer_cols);\n",
       "                aDiv.style.gridTemplateColumns = 'repeat(' + qa.answer_cols + ', 1fr)';\n",
       "            }\n",
       "        } else if (qa.type == \"numeric\") {\n",
       "            //console.log(\"numeric\");\n",
       "            make_numeric(qa, outerqDiv, qDiv, aDiv, id);\n",
       "        }\n",
       "\n",
       "\n",
       "        //Make div for feedback\n",
       "        var fb = document.createElement(\"div\");\n",
       "        fb.id = \"fb\" + id;\n",
       "        //fb.style=\"font-size: 20px;text-align:center;\";\n",
       "        fb.className = \"Feedback\";\n",
       "        fb.setAttribute(\"data-answeredcorrect\", 0);\n",
       "        fb.setAttribute(\"data-numcorrect\", num_correct);\n",
       "        iDiv.append(fb);\n",
       "\n",
       "\n",
       "    });\n",
       "    var preserveResponses = mydiv.dataset.preserveresponses;\n",
       "    console.log(preserveResponses);\n",
       "    console.log(preserveResponses == \"true\");\n",
       "    if (preserveResponses == \"true\") {\n",
       "        console.log(preserveResponses);\n",
       "        // Create Div to contain record of answers\n",
       "        var iDiv = document.createElement('div');\n",
       "        iDiv.id = 'responses' + mydiv.id;\n",
       "        iDiv.className = 'JCResponses';\n",
       "        // Create a place to store responses as an empty array\n",
       "        iDiv.setAttribute('data-responses', '[]');\n",
       "\n",
       "        // Dummy Text\n",
       "        iDiv.innerHTML=\"<b>Select your answers and then follow the directions that will appear here.</b>\"\n",
       "        //iDiv.className = 'Quiz';\n",
       "        mydiv.appendChild(iDiv);\n",
       "    }\n",
       "//console.log(\"At end of show_questions\");\n",
       "    if (typeof MathJax != 'undefined') {\n",
       "        console.log(\"MathJax version\", MathJax.version);\n",
       "        var version = MathJax.version;\n",
       "        setTimeout(function(){\n",
       "            var version = MathJax.version;\n",
       "            console.log('After sleep, MathJax version', version);\n",
       "            if (version[0] == \"2\") {\n",
       "                MathJax.Hub.Queue([\"Typeset\", MathJax.Hub]);\n",
       "            } else if (version[0] == \"3\") {\n",
       "                MathJax.typeset([mydiv]);\n",
       "            }\n",
       "        }, 500);\n",
       "if (typeof version == 'undefined') {\n",
       "        } else\n",
       "        {\n",
       "            if (version[0] == \"2\") {\n",
       "                MathJax.Hub.Queue([\"Typeset\", MathJax.Hub]);\n",
       "            } else if (version[0] == \"3\") {\n",
       "                MathJax.typeset([mydiv]);\n",
       "            } else {\n",
       "                console.log(\"MathJax not found\");\n",
       "            }\n",
       "        }\n",
       "    }\n",
       "    return false;\n",
       "}\n",
       "/* This is to handle asynchrony issues in loading Jupyter notebooks\n",
       "           where the quiz has been previously run. The Javascript was generally\n",
       "           being run before the div was added to the DOM. I tried to do this\n",
       "           more elegantly using Mutation Observer, but I didn't get it to work.\n",
       "\n",
       "           Someone more knowledgeable could make this better ;-) */\n",
       "\n",
       "        function try_show() {\n",
       "          if(document.getElementById(\"VpxHxQhEXSvx\")) {\n",
       "            show_questions(questionsVpxHxQhEXSvx,  VpxHxQhEXSvx); \n",
       "          } else {\n",
       "             setTimeout(try_show, 200);\n",
       "          }\n",
       "        };\n",
       "    \n",
       "        {\n",
       "        // console.log(element);\n",
       "\n",
       "        //console.log(\"VpxHxQhEXSvx\");\n",
       "        // console.log(document.getElementById(\"VpxHxQhEXSvx\"));\n",
       "\n",
       "        try_show();\n",
       "        }\n",
       "        "
      ],
      "text/plain": [
       "<IPython.core.display.Javascript object>"
      ]
     },
     "metadata": {},
     "output_type": "display_data"
    }
   ],
   "source": [
    "with open(\"questions.json\", \"r\") as file:\n",
    "    questions=json.load(file)    \n",
    "display_quiz(questions)"
   ]
  },
  {
   "cell_type": "markdown",
   "metadata": {},
   "source": [
    "### k nearest  neighbor regression\n",
    "We will use the k nearest neighbor algorithm to make predictions of the boiling point (K) of alcohols with differing molecular weight, number of carbon atoms, and differing degree, primary (1), secondary (2), tertiary (3). Below are the 3D structures of three 4-carbon butanol derived primary, secondary, and tertiary alcohols. "
   ]
  },
  {
   "cell_type": "markdown",
   "metadata": {
    "tags": []
   },
   "source": [
    "<font color='#9E1B34' size=\"3\"><a id='degree_trend'></a>Can you see a trend in boiling point for the below alcohols with the same molecular weight and number of carbons?"
   ]
  },
  {
   "cell_type": "code",
   "execution_count": 8,
   "metadata": {
    "tags": []
   },
   "outputs": [
    {
     "data": {
      "application/3dmoljs_load.v0": "<div id=\"3dmolviewer_17314106777423992\"  style=\"position: relative; width: 600px; height: 300px;\">\n        <p id=\"3dmolwarning_17314106777423992\" style=\"background-color:#ffcccc;color:black\">You appear to be running in JupyterLab (or JavaScript failed to load for some other reason).  You need to install the 3dmol extension: <br>\n        <tt>jupyter labextension install jupyterlab_3dmol</tt></p>\n        </div>\n<script>\n\nvar loadScriptAsync = function(uri){\n  return new Promise((resolve, reject) => {\n    //this is to ignore the existence of requirejs amd\n    var savedexports, savedmodule;\n    if (typeof exports !== 'undefined') savedexports = exports;\n    else exports = {}\n    if (typeof module !== 'undefined') savedmodule = module;\n    else module = {}\n\n    var tag = document.createElement('script');\n    tag.src = uri;\n    tag.async = true;\n    tag.onload = () => {\n        exports = savedexports;\n        module = savedmodule;\n        resolve();\n    };\n  var firstScriptTag = document.getElementsByTagName('script')[0];\n  firstScriptTag.parentNode.insertBefore(tag, firstScriptTag);\n});\n};\n\nif(typeof $3Dmolpromise === 'undefined') {\n$3Dmolpromise = null;\n  $3Dmolpromise = loadScriptAsync('https://cdnjs.cloudflare.com/ajax/libs/3Dmol/2.0.3/3Dmol-min.js');\n}\n\nvar viewer_17314106777423992 = null;\nvar warn = document.getElementById(\"3dmolwarning_17314106777423992\");\nif(warn) {\n    warn.parentNode.removeChild(warn);\n}\n$3Dmolpromise.then(function() {\nviewer_17314106777423992 = $3Dmol.createViewer(document.getElementById(\"3dmolviewer_17314106777423992\"),{backgroundColor:\"white\"});\nviewer_17314106777423992.zoomTo();\n\tviewer_17314106777423992.addModel(\"\\n     RDKit          3D\\n\\n 15 14  0  0  0  0  0  0  0  0999 V2000\\n   -1.5010    0.9825   -0.1193 C   0  0  0  0  0  0  0  0  0  0  0  0\\n   -0.8077   -0.0819    0.7167 C   0  0  0  0  0  0  0  0  0  0  0  0\\n    0.1690   -0.9460   -0.0863 C   0  0  0  0  0  0  0  0  0  0  0  0\\n    1.3516   -0.1815   -0.6720 C   0  0  0  0  0  0  0  0  0  0  0  0\\n    2.0870    0.4778    0.3486 O   0  0  0  0  0  0  0  0  0  0  0  0\\n   -2.0054    0.5375   -0.9828 H   0  0  0  0  0  0  0  0  0  0  0  0\\n   -2.2542    1.5010    0.4826 H   0  0  0  0  0  0  0  0  0  0  0  0\\n   -0.7921    1.7332   -0.4805 H   0  0  0  0  0  0  0  0  0  0  0  0\\n   -1.5726   -0.7372    1.1506 H   0  0  0  0  0  0  0  0  0  0  0  0\\n   -0.2902    0.3945    1.5571 H   0  0  0  0  0  0  0  0  0  0  0  0\\n    0.5528   -1.7231    0.5864 H   0  0  0  0  0  0  0  0  0  0  0  0\\n   -0.3674   -1.4566   -0.8946 H   0  0  0  0  0  0  0  0  0  0  0  0\\n    2.0273   -0.8691   -1.1911 H   0  0  0  0  0  0  0  0  0  0  0  0\\n    1.0231    0.5680   -1.3977 H   0  0  0  0  0  0  0  0  0  0  0  0\\n    2.3798   -0.1992    0.9823 H   0  0  0  0  0  0  0  0  0  0  0  0\\n  1  2  1  0\\n  2  3  1  0\\n  3  4  1  0\\n  4  5  1  0\\n  1  6  1  0\\n  1  7  1  0\\n  1  8  1  0\\n  2  9  1  0\\n  2 10  1  0\\n  3 11  1  0\\n  3 12  1  0\\n  4 13  1  0\\n  4 14  1  0\\n  5 15  1  0\\nM  END\\n\",\"mol\");\n\tviewer_17314106777423992.setStyle({\"stick\": {}});\n\tviewer_17314106777423992.zoomTo();\nviewer_17314106777423992.render();\n});\n</script>",
      "text/html": [
       "<div id=\"3dmolviewer_17314106777423992\"  style=\"position: relative; width: 600px; height: 300px;\">\n",
       "        <p id=\"3dmolwarning_17314106777423992\" style=\"background-color:#ffcccc;color:black\">You appear to be running in JupyterLab (or JavaScript failed to load for some other reason).  You need to install the 3dmol extension: <br>\n",
       "        <tt>jupyter labextension install jupyterlab_3dmol</tt></p>\n",
       "        </div>\n",
       "<script>\n",
       "\n",
       "var loadScriptAsync = function(uri){\n",
       "  return new Promise((resolve, reject) => {\n",
       "    //this is to ignore the existence of requirejs amd\n",
       "    var savedexports, savedmodule;\n",
       "    if (typeof exports !== 'undefined') savedexports = exports;\n",
       "    else exports = {}\n",
       "    if (typeof module !== 'undefined') savedmodule = module;\n",
       "    else module = {}\n",
       "\n",
       "    var tag = document.createElement('script');\n",
       "    tag.src = uri;\n",
       "    tag.async = true;\n",
       "    tag.onload = () => {\n",
       "        exports = savedexports;\n",
       "        module = savedmodule;\n",
       "        resolve();\n",
       "    };\n",
       "  var firstScriptTag = document.getElementsByTagName('script')[0];\n",
       "  firstScriptTag.parentNode.insertBefore(tag, firstScriptTag);\n",
       "});\n",
       "};\n",
       "\n",
       "if(typeof $3Dmolpromise === 'undefined') {\n",
       "$3Dmolpromise = null;\n",
       "  $3Dmolpromise = loadScriptAsync('https://cdnjs.cloudflare.com/ajax/libs/3Dmol/2.0.3/3Dmol-min.js');\n",
       "}\n",
       "\n",
       "var viewer_17314106777423992 = null;\n",
       "var warn = document.getElementById(\"3dmolwarning_17314106777423992\");\n",
       "if(warn) {\n",
       "    warn.parentNode.removeChild(warn);\n",
       "}\n",
       "$3Dmolpromise.then(function() {\n",
       "viewer_17314106777423992 = $3Dmol.createViewer(document.getElementById(\"3dmolviewer_17314106777423992\"),{backgroundColor:\"white\"});\n",
       "viewer_17314106777423992.zoomTo();\n",
       "\tviewer_17314106777423992.addModel(\"\\n     RDKit          3D\\n\\n 15 14  0  0  0  0  0  0  0  0999 V2000\\n   -1.5010    0.9825   -0.1193 C   0  0  0  0  0  0  0  0  0  0  0  0\\n   -0.8077   -0.0819    0.7167 C   0  0  0  0  0  0  0  0  0  0  0  0\\n    0.1690   -0.9460   -0.0863 C   0  0  0  0  0  0  0  0  0  0  0  0\\n    1.3516   -0.1815   -0.6720 C   0  0  0  0  0  0  0  0  0  0  0  0\\n    2.0870    0.4778    0.3486 O   0  0  0  0  0  0  0  0  0  0  0  0\\n   -2.0054    0.5375   -0.9828 H   0  0  0  0  0  0  0  0  0  0  0  0\\n   -2.2542    1.5010    0.4826 H   0  0  0  0  0  0  0  0  0  0  0  0\\n   -0.7921    1.7332   -0.4805 H   0  0  0  0  0  0  0  0  0  0  0  0\\n   -1.5726   -0.7372    1.1506 H   0  0  0  0  0  0  0  0  0  0  0  0\\n   -0.2902    0.3945    1.5571 H   0  0  0  0  0  0  0  0  0  0  0  0\\n    0.5528   -1.7231    0.5864 H   0  0  0  0  0  0  0  0  0  0  0  0\\n   -0.3674   -1.4566   -0.8946 H   0  0  0  0  0  0  0  0  0  0  0  0\\n    2.0273   -0.8691   -1.1911 H   0  0  0  0  0  0  0  0  0  0  0  0\\n    1.0231    0.5680   -1.3977 H   0  0  0  0  0  0  0  0  0  0  0  0\\n    2.3798   -0.1992    0.9823 H   0  0  0  0  0  0  0  0  0  0  0  0\\n  1  2  1  0\\n  2  3  1  0\\n  3  4  1  0\\n  4  5  1  0\\n  1  6  1  0\\n  1  7  1  0\\n  1  8  1  0\\n  2  9  1  0\\n  2 10  1  0\\n  3 11  1  0\\n  3 12  1  0\\n  4 13  1  0\\n  4 14  1  0\\n  5 15  1  0\\nM  END\\n\",\"mol\");\n",
       "\tviewer_17314106777423992.setStyle({\"stick\": {}});\n",
       "\tviewer_17314106777423992.zoomTo();\n",
       "viewer_17314106777423992.render();\n",
       "});\n",
       "</script>"
      ]
     },
     "metadata": {},
     "output_type": "display_data"
    },
    {
     "data": {
      "image/png": "[encoded data removed]",
      "text/plain": [
       "<rdkit.Chem.rdchem.Mol at 0x7a4e8428ca50>"
      ]
     },
     "execution_count": 8,
     "metadata": {},
     "output_type": "execute_result"
    }
   ],
   "source": [
    "smiles3D(\"CCCCO\") #n-butanol; Molecular Weight = 74.12 g/mol 117.7°C = 391 K; degree = 1"
   ]
  },
  {
   "cell_type": "code",
   "execution_count": 9,
   "metadata": {
    "tags": []
   },
   "outputs": [
    {
     "data": {
      "application/3dmoljs_load.v0": "<div id=\"3dmolviewer_17314106785547464\"  style=\"position: relative; width: 600px; height: 300px;\">\n        <p id=\"3dmolwarning_17314106785547464\" style=\"background-color:#ffcccc;color:black\">You appear to be running in JupyterLab (or JavaScript failed to load for some other reason).  You need to install the 3dmol extension: <br>\n        <tt>jupyter labextension install jupyterlab_3dmol</tt></p>\n        </div>\n<script>\n\nvar loadScriptAsync = function(uri){\n  return new Promise((resolve, reject) => {\n    //this is to ignore the existence of requirejs amd\n    var savedexports, savedmodule;\n    if (typeof exports !== 'undefined') savedexports = exports;\n    else exports = {}\n    if (typeof module !== 'undefined') savedmodule = module;\n    else module = {}\n\n    var tag = document.createElement('script');\n    tag.src = uri;\n    tag.async = true;\n    tag.onload = () => {\n        exports = savedexports;\n        module = savedmodule;\n        resolve();\n    };\n  var firstScriptTag = document.getElementsByTagName('script')[0];\n  firstScriptTag.parentNode.insertBefore(tag, firstScriptTag);\n});\n};\n\nif(typeof $3Dmolpromise === 'undefined') {\n$3Dmolpromise = null;\n  $3Dmolpromise = loadScriptAsync('https://cdnjs.cloudflare.com/ajax/libs/3Dmol/2.0.3/3Dmol-min.js');\n}\n\nvar viewer_17314106785547464 = null;\nvar warn = document.getElementById(\"3dmolwarning_17314106785547464\");\nif(warn) {\n    warn.parentNode.removeChild(warn);\n}\n$3Dmolpromise.then(function() {\nviewer_17314106785547464 = $3Dmol.createViewer(document.getElementById(\"3dmolviewer_17314106785547464\"),{backgroundColor:\"white\"});\nviewer_17314106785547464.zoomTo();\n\tviewer_17314106785547464.addModel(\"\\n     RDKit          3D\\n\\n 15 14  0  0  0  0  0  0  0  0999 V2000\\n    1.6016   -0.2268    0.2077 C   0  0  0  0  0  0  0  0  0  0  0  0\\n    0.4921   -0.7827   -0.6759 C   0  0  0  0  0  0  0  0  0  0  0  0\\n   -0.8914   -0.1804   -0.4072 C   0  0  0  0  0  0  0  0  0  0  0  0\\n   -0.9599    1.3168   -0.6709 C   0  0  0  0  0  0  0  0  0  0  0  0\\n   -1.2774   -0.4133    0.9442 O   0  0  0  0  0  0  0  0  0  0  0  0\\n    1.7671    0.8380    0.0196 H   0  0  0  0  0  0  0  0  0  0  0  0\\n    2.5412   -0.7491   -0.0002 H   0  0  0  0  0  0  0  0  0  0  0  0\\n    1.3719   -0.3604    1.2692 H   0  0  0  0  0  0  0  0  0  0  0  0\\n    0.7608   -0.6348   -1.7283 H   0  0  0  0  0  0  0  0  0  0  0  0\\n    0.4424   -1.8651   -0.5045 H   0  0  0  0  0  0  0  0  0  0  0  0\\n   -1.6253   -0.6815   -1.0488 H   0  0  0  0  0  0  0  0  0  0  0  0\\n   -0.6362    1.5581   -1.6877 H   0  0  0  0  0  0  0  0  0  0  0  0\\n   -0.3486    1.8801    0.0417 H   0  0  0  0  0  0  0  0  0  0  0  0\\n   -1.9874    1.6746   -0.5408 H   0  0  0  0  0  0  0  0  0  0  0  0\\n   -1.2508   -1.3735    1.0954 H   0  0  0  0  0  0  0  0  0  0  0  0\\n  1  2  1  0\\n  2  3  1  0\\n  3  4  1  0\\n  3  5  1  0\\n  1  6  1  0\\n  1  7  1  0\\n  1  8  1  0\\n  2  9  1  0\\n  2 10  1  0\\n  3 11  1  0\\n  4 12  1  0\\n  4 13  1  0\\n  4 14  1  0\\n  5 15  1  0\\nM  END\\n\",\"mol\");\n\tviewer_17314106785547464.setStyle({\"stick\": {}});\n\tviewer_17314106785547464.zoomTo();\nviewer_17314106785547464.render();\n});\n</script>",
      "text/html": [
       "<div id=\"3dmolviewer_17314106785547464\"  style=\"position: relative; width: 600px; height: 300px;\">\n",
       "        <p id=\"3dmolwarning_17314106785547464\" style=\"background-color:#ffcccc;color:black\">You appear to be running in JupyterLab (or JavaScript failed to load for some other reason).  You need to install the 3dmol extension: <br>\n",
       "        <tt>jupyter labextension install jupyterlab_3dmol</tt></p>\n",
       "        </div>\n",
       "<script>\n",
       "\n",
       "var loadScriptAsync = function(uri){\n",
       "  return new Promise((resolve, reject) => {\n",
       "    //this is to ignore the existence of requirejs amd\n",
       "    var savedexports, savedmodule;\n",
       "    if (typeof exports !== 'undefined') savedexports = exports;\n",
       "    else exports = {}\n",
       "    if (typeof module !== 'undefined') savedmodule = module;\n",
       "    else module = {}\n",
       "\n",
       "    var tag = document.createElement('script');\n",
       "    tag.src = uri;\n",
       "    tag.async = true;\n",
       "    tag.onload = () => {\n",
       "        exports = savedexports;\n",
       "        module = savedmodule;\n",
       "        resolve();\n",
       "    };\n",
       "  var firstScriptTag = document.getElementsByTagName('script')[0];\n",
       "  firstScriptTag.parentNode.insertBefore(tag, firstScriptTag);\n",
       "});\n",
       "};\n",
       "\n",
       "if(typeof $3Dmolpromise === 'undefined') {\n",
       "$3Dmolpromise = null;\n",
       "  $3Dmolpromise = loadScriptAsync('https://cdnjs.cloudflare.com/ajax/libs/3Dmol/2.0.3/3Dmol-min.js');\n",
       "}\n",
       "\n",
       "var viewer_17314106785547464 = null;\n",
       "var warn = document.getElementById(\"3dmolwarning_17314106785547464\");\n",
       "if(warn) {\n",
       "    warn.parentNode.removeChild(warn);\n",
       "}\n",
       "$3Dmolpromise.then(function() {\n",
       "viewer_17314106785547464 = $3Dmol.createViewer(document.getElementById(\"3dmolviewer_17314106785547464\"),{backgroundColor:\"white\"});\n",
       "viewer_17314106785547464.zoomTo();\n",
       "\tviewer_17314106785547464.addModel(\"\\n     RDKit          3D\\n\\n 15 14  0  0  0  0  0  0  0  0999 V2000\\n    1.6016   -0.2268    0.2077 C   0  0  0  0  0  0  0  0  0  0  0  0\\n    0.4921   -0.7827   -0.6759 C   0  0  0  0  0  0  0  0  0  0  0  0\\n   -0.8914   -0.1804   -0.4072 C   0  0  0  0  0  0  0  0  0  0  0  0\\n   -0.9599    1.3168   -0.6709 C   0  0  0  0  0  0  0  0  0  0  0  0\\n   -1.2774   -0.4133    0.9442 O   0  0  0  0  0  0  0  0  0  0  0  0\\n    1.7671    0.8380    0.0196 H   0  0  0  0  0  0  0  0  0  0  0  0\\n    2.5412   -0.7491   -0.0002 H   0  0  0  0  0  0  0  0  0  0  0  0\\n    1.3719   -0.3604    1.2692 H   0  0  0  0  0  0  0  0  0  0  0  0\\n    0.7608   -0.6348   -1.7283 H   0  0  0  0  0  0  0  0  0  0  0  0\\n    0.4424   -1.8651   -0.5045 H   0  0  0  0  0  0  0  0  0  0  0  0\\n   -1.6253   -0.6815   -1.0488 H   0  0  0  0  0  0  0  0  0  0  0  0\\n   -0.6362    1.5581   -1.6877 H   0  0  0  0  0  0  0  0  0  0  0  0\\n   -0.3486    1.8801    0.0417 H   0  0  0  0  0  0  0  0  0  0  0  0\\n   -1.9874    1.6746   -0.5408 H   0  0  0  0  0  0  0  0  0  0  0  0\\n   -1.2508   -1.3735    1.0954 H   0  0  0  0  0  0  0  0  0  0  0  0\\n  1  2  1  0\\n  2  3  1  0\\n  3  4  1  0\\n  3  5  1  0\\n  1  6  1  0\\n  1  7  1  0\\n  1  8  1  0\\n  2  9  1  0\\n  2 10  1  0\\n  3 11  1  0\\n  4 12  1  0\\n  4 13  1  0\\n  4 14  1  0\\n  5 15  1  0\\nM  END\\n\",\"mol\");\n",
       "\tviewer_17314106785547464.setStyle({\"stick\": {}});\n",
       "\tviewer_17314106785547464.zoomTo();\n",
       "viewer_17314106785547464.render();\n",
       "});\n",
       "</script>"
      ]
     },
     "metadata": {},
     "output_type": "display_data"
    },
    {
     "data": {
      "image/png": "[encoded data removed]",
      "text/plain": [
       "<rdkit.Chem.rdchem.Mol at 0x7a4e8428cc10>"
      ]
     },
     "execution_count": 9,
     "metadata": {},
     "output_type": "execute_result"
    }
   ],
   "source": [
    "smiles3D(\"CCC(C)O\") #2-butanol; Molecular Weight = 74.12 g/mol; bp = 98 °C = 371 K; degree = 2"
   ]
  },
  {
   "cell_type": "code",
   "execution_count": 10,
   "metadata": {
    "tags": []
   },
   "outputs": [
    {
     "data": {
      "application/3dmoljs_load.v0": "<div id=\"3dmolviewer_17314106792360241\"  style=\"position: relative; width: 600px; height: 300px;\">\n        <p id=\"3dmolwarning_17314106792360241\" style=\"background-color:#ffcccc;color:black\">You appear to be running in JupyterLab (or JavaScript failed to load for some other reason).  You need to install the 3dmol extension: <br>\n        <tt>jupyter labextension install jupyterlab_3dmol</tt></p>\n        </div>\n<script>\n\nvar loadScriptAsync = function(uri){\n  return new Promise((resolve, reject) => {\n    //this is to ignore the existence of requirejs amd\n    var savedexports, savedmodule;\n    if (typeof exports !== 'undefined') savedexports = exports;\n    else exports = {}\n    if (typeof module !== 'undefined') savedmodule = module;\n    else module = {}\n\n    var tag = document.createElement('script');\n    tag.src = uri;\n    tag.async = true;\n    tag.onload = () => {\n        exports = savedexports;\n        module = savedmodule;\n        resolve();\n    };\n  var firstScriptTag = document.getElementsByTagName('script')[0];\n  firstScriptTag.parentNode.insertBefore(tag, firstScriptTag);\n});\n};\n\nif(typeof $3Dmolpromise === 'undefined') {\n$3Dmolpromise = null;\n  $3Dmolpromise = loadScriptAsync('https://cdnjs.cloudflare.com/ajax/libs/3Dmol/2.0.3/3Dmol-min.js');\n}\n\nvar viewer_17314106792360241 = null;\nvar warn = document.getElementById(\"3dmolwarning_17314106792360241\");\nif(warn) {\n    warn.parentNode.removeChild(warn);\n}\n$3Dmolpromise.then(function() {\nviewer_17314106792360241 = $3Dmol.createViewer(document.getElementById(\"3dmolviewer_17314106792360241\"),{backgroundColor:\"white\"});\nviewer_17314106792360241.zoomTo();\n\tviewer_17314106792360241.addModel(\"\\n     RDKit          3D\\n\\n 15 14  0  0  0  0  0  0  0  0999 V2000\\n    1.4370    0.1381   -0.0079 C   0  0  0  0  0  0  0  0  0  0  0  0\\n   -0.0621   -0.0316    0.2344 C   0  0  0  0  0  0  0  0  0  0  0  0\\n   -0.8577    1.0516   -0.4926 C   0  0  0  0  0  0  0  0  0  0  0  0\\n   -0.5230   -1.4207   -0.2018 C   0  0  0  0  0  0  0  0  0  0  0  0\\n   -0.3120    0.0843    1.6357 O   0  0  0  0  0  0  0  0  0  0  0  0\\n    1.6879    0.0398   -1.0691 H   0  0  0  0  0  0  0  0  0  0  0  0\\n    2.0095   -0.6075    0.5556 H   0  0  0  0  0  0  0  0  0  0  0  0\\n    1.7809    1.1190    0.3395 H   0  0  0  0  0  0  0  0  0  0  0  0\\n   -1.9282    0.9602   -0.2761 H   0  0  0  0  0  0  0  0  0  0  0  0\\n   -0.7163    0.9969   -1.5769 H   0  0  0  0  0  0  0  0  0  0  0  0\\n   -0.5582    2.0502   -0.1546 H   0  0  0  0  0  0  0  0  0  0  0  0\\n   -0.3613   -1.5826   -1.2725 H   0  0  0  0  0  0  0  0  0  0  0  0\\n    0.0118   -2.2009    0.3519 H   0  0  0  0  0  0  0  0  0  0  0  0\\n   -1.5880   -1.5640    0.0140 H   0  0  0  0  0  0  0  0  0  0  0  0\\n   -0.0206    0.9673    1.9205 H   0  0  0  0  0  0  0  0  0  0  0  0\\n  1  2  1  0\\n  2  3  1  0\\n  2  4  1  0\\n  2  5  1  0\\n  1  6  1  0\\n  1  7  1  0\\n  1  8  1  0\\n  3  9  1  0\\n  3 10  1  0\\n  3 11  1  0\\n  4 12  1  0\\n  4 13  1  0\\n  4 14  1  0\\n  5 15  1  0\\nM  END\\n\",\"mol\");\n\tviewer_17314106792360241.setStyle({\"stick\": {}});\n\tviewer_17314106792360241.zoomTo();\nviewer_17314106792360241.render();\n});\n</script>",
      "text/html": [
       "<div id=\"3dmolviewer_17314106792360241\"  style=\"position: relative; width: 600px; height: 300px;\">\n",
       "        <p id=\"3dmolwarning_17314106792360241\" style=\"background-color:#ffcccc;color:black\">You appear to be running in JupyterLab (or JavaScript failed to load for some other reason).  You need to install the 3dmol extension: <br>\n",
       "        <tt>jupyter labextension install jupyterlab_3dmol</tt></p>\n",
       "        </div>\n",
       "<script>\n",
       "\n",
       "var loadScriptAsync = function(uri){\n",
       "  return new Promise((resolve, reject) => {\n",
       "    //this is to ignore the existence of requirejs amd\n",
       "    var savedexports, savedmodule;\n",
       "    if (typeof exports !== 'undefined') savedexports = exports;\n",
       "    else exports = {}\n",
       "    if (typeof module !== 'undefined') savedmodule = module;\n",
       "    else module = {}\n",
       "\n",
       "    var tag = document.createElement('script');\n",
       "    tag.src = uri;\n",
       "    tag.async = true;\n",
       "    tag.onload = () => {\n",
       "        exports = savedexports;\n",
       "        module = savedmodule;\n",
       "        resolve();\n",
       "    };\n",
       "  var firstScriptTag = document.getElementsByTagName('script')[0];\n",
       "  firstScriptTag.parentNode.insertBefore(tag, firstScriptTag);\n",
       "});\n",
       "};\n",
       "\n",
       "if(typeof $3Dmolpromise === 'undefined') {\n",
       "$3Dmolpromise = null;\n",
       "  $3Dmolpromise = loadScriptAsync('https://cdnjs.cloudflare.com/ajax/libs/3Dmol/2.0.3/3Dmol-min.js');\n",
       "}\n",
       "\n",
       "var viewer_17314106792360241 = null;\n",
       "var warn = document.getElementById(\"3dmolwarning_17314106792360241\");\n",
       "if(warn) {\n",
       "    warn.parentNode.removeChild(warn);\n",
       "}\n",
       "$3Dmolpromise.then(function() {\n",
       "viewer_17314106792360241 = $3Dmol.createViewer(document.getElementById(\"3dmolviewer_17314106792360241\"),{backgroundColor:\"white\"});\n",
       "viewer_17314106792360241.zoomTo();\n",
       "\tviewer_17314106792360241.addModel(\"\\n     RDKit          3D\\n\\n 15 14  0  0  0  0  0  0  0  0999 V2000\\n    1.4370    0.1381   -0.0079 C   0  0  0  0  0  0  0  0  0  0  0  0\\n   -0.0621   -0.0316    0.2344 C   0  0  0  0  0  0  0  0  0  0  0  0\\n   -0.8577    1.0516   -0.4926 C   0  0  0  0  0  0  0  0  0  0  0  0\\n   -0.5230   -1.4207   -0.2018 C   0  0  0  0  0  0  0  0  0  0  0  0\\n   -0.3120    0.0843    1.6357 O   0  0  0  0  0  0  0  0  0  0  0  0\\n    1.6879    0.0398   -1.0691 H   0  0  0  0  0  0  0  0  0  0  0  0\\n    2.0095   -0.6075    0.5556 H   0  0  0  0  0  0  0  0  0  0  0  0\\n    1.7809    1.1190    0.3395 H   0  0  0  0  0  0  0  0  0  0  0  0\\n   -1.9282    0.9602   -0.2761 H   0  0  0  0  0  0  0  0  0  0  0  0\\n   -0.7163    0.9969   -1.5769 H   0  0  0  0  0  0  0  0  0  0  0  0\\n   -0.5582    2.0502   -0.1546 H   0  0  0  0  0  0  0  0  0  0  0  0\\n   -0.3613   -1.5826   -1.2725 H   0  0  0  0  0  0  0  0  0  0  0  0\\n    0.0118   -2.2009    0.3519 H   0  0  0  0  0  0  0  0  0  0  0  0\\n   -1.5880   -1.5640    0.0140 H   0  0  0  0  0  0  0  0  0  0  0  0\\n   -0.0206    0.9673    1.9205 H   0  0  0  0  0  0  0  0  0  0  0  0\\n  1  2  1  0\\n  2  3  1  0\\n  2  4  1  0\\n  2  5  1  0\\n  1  6  1  0\\n  1  7  1  0\\n  1  8  1  0\\n  3  9  1  0\\n  3 10  1  0\\n  3 11  1  0\\n  4 12  1  0\\n  4 13  1  0\\n  4 14  1  0\\n  5 15  1  0\\nM  END\\n\",\"mol\");\n",
       "\tviewer_17314106792360241.setStyle({\"stick\": {}});\n",
       "\tviewer_17314106792360241.zoomTo();\n",
       "viewer_17314106792360241.render();\n",
       "});\n",
       "</script>"
      ]
     },
     "metadata": {},
     "output_type": "display_data"
    },
    {
     "data": {
      "image/png": "[encoded data removed]",
      "text/plain": [
       "<rdkit.Chem.rdchem.Mol at 0x7a4e8428cb30>"
      ]
     },
     "execution_count": 10,
     "metadata": {},
     "output_type": "execute_result"
    }
   ],
   "source": [
    "smiles3D(\"CC(C)(C)O\") #2-methylpropan-2-ol; Molecular Weight = 74.12 g/mol; bp = 82 °C = 355 K; degree = 3"
   ]
  },
  {
   "cell_type": "markdown",
   "metadata": {},
   "source": [
    "**<font color=green>Question: What is the trend in boiling point for these alcohols with the same molecular weight (MW)?</font>**"
   ]
  },
  {
   "cell_type": "markdown",
   "metadata": {},
   "source": []
  },
  {
   "cell_type": "markdown",
   "metadata": {},
   "source": [
    "#### Save notebook before check"
   ]
  },
  {
   "cell_type": "code",
   "execution_count": 19,
   "metadata": {
    "tags": []
   },
   "outputs": [
    {
     "data": {
      "text/html": [
       "\n",
       "    \n",
       "    \n",
       "        <p>All tests passed!</p>\n",
       "    \n",
       "    "
      ],
      "text/plain": [
       "<gofer.ok.OKTestsResult at 0x7fbbdac42380>"
      ]
     },
     "execution_count": 19,
     "metadata": {},
     "output_type": "execute_result"
    }
   ],
   "source": [
    "check('tests/q1d.py')"
   ]
  },
  {
   "cell_type": "markdown",
   "metadata": {},
   "source": [
    "### Load and examine alcohol molecular data for boiling point prediction"
   ]
  },
  {
   "cell_type": "code",
   "execution_count": 12,
   "metadata": {
    "tags": []
   },
   "outputs": [
    {
     "data": {
      "text/html": [
       "<table border=\"1\" class=\"dataframe\">\n",
       "    <thead>\n",
       "        <tr>\n",
       "            <th>bp</th> <th>MW</th> <th>carbons</th> <th>degree</th> <th>aliphatic</th> <th>avg_aryl_position</th> <th>cyclic</th>\n",
       "        </tr>\n",
       "    </thead>\n",
       "    <tbody>\n",
       "        <tr>\n",
       "            <td>338 </td> <td>32.04</td> <td>1      </td> <td>1     </td> <td>1        </td> <td>0                </td> <td>0     </td>\n",
       "        </tr>\n",
       "        <tr>\n",
       "            <td>351 </td> <td>46.07</td> <td>2      </td> <td>1     </td> <td>1        </td> <td>0                </td> <td>0     </td>\n",
       "        </tr>\n",
       "        <tr>\n",
       "            <td>371 </td> <td>60.1 </td> <td>3      </td> <td>1     </td> <td>1        </td> <td>0                </td> <td>0     </td>\n",
       "        </tr>\n",
       "        <tr>\n",
       "            <td>356 </td> <td>60.1 </td> <td>3      </td> <td>2     </td> <td>1        </td> <td>0                </td> <td>0     </td>\n",
       "        </tr>\n",
       "        <tr>\n",
       "            <td>391 </td> <td>74.12</td> <td>4      </td> <td>1     </td> <td>1        </td> <td>0                </td> <td>0     </td>\n",
       "        </tr>\n",
       "        <tr>\n",
       "            <td>372 </td> <td>74.12</td> <td>4      </td> <td>2     </td> <td>1        </td> <td>0                </td> <td>0     </td>\n",
       "        </tr>\n",
       "        <tr>\n",
       "            <td>381 </td> <td>74.12</td> <td>4      </td> <td>1     </td> <td>1        </td> <td>0                </td> <td>0     </td>\n",
       "        </tr>\n",
       "        <tr>\n",
       "            <td>355 </td> <td>74.12</td> <td>4      </td> <td>3     </td> <td>1        </td> <td>0                </td> <td>0     </td>\n",
       "        </tr>\n",
       "        <tr>\n",
       "            <td>411 </td> <td>88.15</td> <td>5      </td> <td>1     </td> <td>1        </td> <td>0                </td> <td>0     </td>\n",
       "        </tr>\n",
       "        <tr>\n",
       "            <td>404 </td> <td>88.15</td> <td>5      </td> <td>1     </td> <td>1        </td> <td>0                </td> <td>0     </td>\n",
       "        </tr>\n",
       "    </tbody>\n",
       "</table>\n",
       "<p>... (62 rows omitted)</p>"
      ],
      "text/plain": [
       "bp   | MW    | carbons | degree | aliphatic | avg_aryl_position | cyclic\n",
       "338  | 32.04 | 1       | 1      | 1         | 0                 | 0\n",
       "351  | 46.07 | 2       | 1      | 1         | 0                 | 0\n",
       "371  | 60.1  | 3       | 1      | 1         | 0                 | 0\n",
       "356  | 60.1  | 3       | 2      | 1         | 0                 | 0\n",
       "391  | 74.12 | 4       | 1      | 1         | 0                 | 0\n",
       "372  | 74.12 | 4       | 2      | 1         | 0                 | 0\n",
       "381  | 74.12 | 4       | 1      | 1         | 0                 | 0\n",
       "355  | 74.12 | 4       | 3      | 1         | 0                 | 0\n",
       "411  | 88.15 | 5       | 1      | 1         | 0                 | 0\n",
       "404  | 88.15 | 5       | 1      | 1         | 0                 | 0\n",
       "... (62 rows omitted)"
      ]
     },
     "execution_count": 12,
     "metadata": {},
     "output_type": "execute_result"
    }
   ],
   "source": [
    "data_file = 'data/ROH_data.csv'\n",
    "ROH_data = Table().read_table(data_file)\n",
    "ROH_data"
   ]
  },
  {
   "cell_type": "markdown",
   "metadata": {},
   "source": [
    "**<font color='#9E1B34' size=\"3\">Use scatter plot to examine relationship between molecular weight (MW) and boiling point (bp).**"
   ]
  },
  {
   "cell_type": "code",
   "execution_count": 13,
   "metadata": {
    "tags": []
   },
   "outputs": [
    {
     "data": {
      "image/png": "[encoded data removed]",
      "text/plain": [
       "<Figure size 640x480 with 1 Axes>"
      ]
     },
     "metadata": {},
     "output_type": "display_data"
    }
   ],
   "source": [
    "plt.scatter(ROH_data['MW'],ROH_data['bp'],color = Temple_color, s=10*ROH_data['carbons'])\n",
    "plt.xlabel('MW [g/mol]')\n",
    "plt.ylabel('bp [K]')\n",
    "plt.show()"
   ]
  },
  {
   "cell_type": "markdown",
   "metadata": {},
   "source": [
    "**<font color=green>Question: What is the trend in boiling point for these alcohols as molecular weight (MW) changes?</font>**"
   ]
  },
  {
   "cell_type": "markdown",
   "metadata": {},
   "source": [
    "this is a testthis is a testthis is a testthis is a testthis is a testthis is a testthis is a testthis is a test"
   ]
  },
  {
   "cell_type": "markdown",
   "metadata": {},
   "source": [
    "#### Save notebook before check"
   ]
  },
  {
   "cell_type": "code",
   "execution_count": 14,
   "metadata": {
    "tags": []
   },
   "outputs": [
    {
     "data": {
      "text/html": [
       "\n",
       "    \n",
       "    \n",
       "        <p>All tests passed!</p>\n",
       "    \n",
       "    "
      ],
      "text/plain": [
       "<gofer.ok.OKTestsResult at 0x7a4e7bf459f0>"
      ]
     },
     "execution_count": 14,
     "metadata": {},
     "output_type": "execute_result"
    }
   ],
   "source": [
    "check('tests/q1e.py')"
   ]
  },
  {
   "cell_type": "markdown",
   "metadata": {},
   "source": [
    "#### <font color=blue> **Question 1.** </font>\n",
    "For machine learning we need to split our data into training data and test data to build our model. Use the datascience .split(n) Table method to split the dataset into 80% training and 20% test. The argument for .split(n) method,n, needs to be an integer. [See datascience documentation](https://datascience.readthedocs.io/en/master/_autosummary/datascience.tables.Table.split.html#datascience.tables.Table.split)"
   ]
  },
  {
   "cell_type": "code",
   "execution_count": 15,
   "metadata": {
    "editable": true,
    "slideshow": {
     "slide_type": ""
    },
    "tags": []
   },
   "outputs": [
    {
     "name": "stdout",
     "output_type": "stream",
     "text": [
      "57 training and 15 test instances.\n"
     ]
    }
   ],
   "source": [
    "trainf, testf = ROH_data.split(int(0.8*ROH_data.num_rows))\n",
    "print(trainf.num_rows, 'training and', testf.num_rows, 'test instances.')"
   ]
  },
  {
   "cell_type": "code",
   "execution_count": 16,
   "metadata": {
    "tags": []
   },
   "outputs": [
    {
     "data": {
      "text/html": [
       "\n",
       "    \n",
       "    \n",
       "        <p>All tests passed!</p>\n",
       "    \n",
       "    "
      ],
      "text/plain": [
       "<gofer.ok.OKTestsResult at 0x7a4e7bed22f0>"
      ]
     },
     "execution_count": 16,
     "metadata": {},
     "output_type": "execute_result"
    }
   ],
   "source": [
    "check('tests/q1.py')"
   ]
  },
  {
   "cell_type": "markdown",
   "metadata": {},
   "source": [
    "### Nearest Neighbors Distance Computation"
   ]
  },
  {
   "cell_type": "markdown",
   "metadata": {},
   "source": [
    "The cell below shows how to get values from a row in a Table as an array as is done in row_distance. Note in the alcohol data case we will start with the molecular weight (MW) feature column in nearest neighbor computation but in examples below we will use a 2-D array of features as we include the degree as a second feature in predicting alcohol boiling points and a 5-D array with 5 features in the chemistry and molecular acidity prediction below."
   ]
  },
  {
   "cell_type": "markdown",
   "metadata": {},
   "source": [
    "#### <font color=blue> **Question 2.** </font>\n",
    "Define a function which is the Euclidean distance between two values. Use the example code cells under <a href='#NNconcept'>Nearest Neighbor Concept above</a> as inspiration. This is where we will compute the distance between two feature values."
   ]
  },
  {
   "cell_type": "code",
   "execution_count": 17,
   "metadata": {},
   "outputs": [],
   "source": [
    "def distance(pt1, pt2):\n",
    "    \"\"\"The distance between two points, represented as arrays.\"\"\"\n",
    "    return np.sqrt(sum(pt2-pt1)**2)"
   ]
  },
  {
   "cell_type": "markdown",
   "metadata": {},
   "source": [
    "Test your function by trying a few points in 2-D space (x,y) like the example below"
   ]
  },
  {
   "cell_type": "code",
   "execution_count": 31,
   "metadata": {
    "tags": []
   },
   "outputs": [
    {
     "data": {
      "text/plain": [
       "1.0"
      ]
     },
     "execution_count": 31,
     "metadata": {},
     "output_type": "execute_result"
    }
   ],
   "source": [
    "distance(np.array([3,4]),np.array([2,4]))"
   ]
  },
  {
   "cell_type": "code",
   "execution_count": null,
   "metadata": {
    "tags": []
   },
   "outputs": [],
   "source": [
    "distance(np.array([...,...]),np.array([...,...]))"
   ]
  },
  {
   "cell_type": "code",
   "execution_count": 18,
   "metadata": {
    "tags": []
   },
   "outputs": [
    {
     "data": {
      "text/html": [
       "\n",
       "    \n",
       "    \n",
       "        <p>All tests passed!</p>\n",
       "    \n",
       "    "
      ],
      "text/plain": [
       "<gofer.ok.OKTestsResult at 0x7a4e7bf70e50>"
      ]
     },
     "execution_count": 18,
     "metadata": {},
     "output_type": "execute_result"
    }
   ],
   "source": [
    "check('tests/q2.py')"
   ]
  },
  {
   "cell_type": "markdown",
   "metadata": {},
   "source": [
    "#### Rest of the nearest neighbor algorithm\n",
    "Execute these cells to create the complete algorithm and later use as part of a nearest neighbor toolbox for project"
   ]
  },
  {
   "cell_type": "code",
   "execution_count": 19,
   "metadata": {
    "tags": []
   },
   "outputs": [],
   "source": [
    "def row_distance(row1, row2):\n",
    "    \"\"\"The distance between two rows of a table.\"\"\"\n",
    "    return distance(np.array(row1), np.array(row2)) # Need to convert rows into arrays\n",
    "\n",
    "def distances(training, test, target, features):\n",
    "    \"\"\"Compute the distance from test for each row in training.\"\"\"\n",
    "    dists = []\n",
    "    attributes = training.select(features)\n",
    "    for row in attributes.rows:\n",
    "        dists.append(row_distance(row, test))\n",
    "    return training.with_column('Distance', dists)\n",
    "\n",
    "def closest(training, test, k, target, features):\n",
    "    \"\"\"Return a table of the k closest neighbors to example row from test data.\"\"\"\n",
    "    return distances(training, test, target, features).sort('Distance').take(np.arange(k))"
   ]
  },
  {
   "cell_type": "markdown",
   "metadata": {},
   "source": [
    "### Regression Functions\n",
    "Use as part of a toolbox for later analysis and the project"
   ]
  },
  {
   "cell_type": "code",
   "execution_count": 20,
   "metadata": {
    "tags": []
   },
   "outputs": [],
   "source": [
    "def standard_units(any_array):\n",
    "    \"Convert any array of numbers to standard units.\"\n",
    "    return (any_array - np.mean(any_array))/np.std(any_array)  \n",
    "    \n",
    "def correlation(t, label_x, label_y):\n",
    "    \"\"\"Compute the correlation between two variables from a Table with column label_x and label_y..\"\"\"\n",
    "    return np.mean(standard_units(t.column(label_x))*standard_units(t.column(label_y)))\n",
    "\n",
    "def slope(t, label_x, label_y):\n",
    "    \"\"\"Compute the slope between two variables from a Table with column label_x and label_y.\"\"\"\n",
    "    r = correlation(t, label_x, label_y)\n",
    "    return r*np.std(t.column(label_y))/np.std(t.column(label_x))\n",
    "\n",
    "def intercept(t, label_x, label_y):\n",
    "    \"\"\"Compute the slope between two variables from a Table with column label_x and label_y.\"\"\"\n",
    "    return np.mean(t.column(label_y)) - slope(t, label_x, label_y)*np.mean(t.column(label_x))"
   ]
  },
  {
   "cell_type": "markdown",
   "metadata": {},
   "source": [
    "#### <font color=blue> **Question 3.** </font>\n",
    "We will look at the Table containing the test data set and then we can take a specific row using `.take(5)` which would take the 6th row of the test data (zero referenced). This specific row will be used to test the prediction of a boiling point given the value of the feature Molecular Weight (MW) in the test row."
   ]
  },
  {
   "cell_type": "code",
   "execution_count": 21,
   "metadata": {
    "tags": []
   },
   "outputs": [
    {
     "data": {
      "text/html": [
       "<table border=\"1\" class=\"dataframe\">\n",
       "    <thead>\n",
       "        <tr>\n",
       "            <th>bp</th> <th>MW</th> <th>carbons</th> <th>degree</th> <th>aliphatic</th> <th>avg_aryl_position</th> <th>cyclic</th>\n",
       "        </tr>\n",
       "    </thead>\n",
       "    <tbody>\n",
       "        <tr>\n",
       "            <td>356 </td> <td>60.1  </td> <td>3      </td> <td>2     </td> <td>1        </td> <td>0                </td> <td>0     </td>\n",
       "        </tr>\n",
       "        <tr>\n",
       "            <td>372 </td> <td>74.12 </td> <td>4      </td> <td>2     </td> <td>1        </td> <td>0                </td> <td>0     </td>\n",
       "        </tr>\n",
       "        <tr>\n",
       "            <td>436 </td> <td>114.19</td> <td>7      </td> <td>2     </td> <td>0        </td> <td>0                </td> <td>1     </td>\n",
       "        </tr>\n",
       "        <tr>\n",
       "            <td>419 </td> <td>102.18</td> <td>6      </td> <td>1     </td> <td>1        </td> <td>0                </td> <td>0     </td>\n",
       "        </tr>\n",
       "        <tr>\n",
       "            <td>456 </td> <td>130.23</td> <td>8      </td> <td>1     </td> <td>1        </td> <td>0                </td> <td>0     </td>\n",
       "        </tr>\n",
       "        <tr>\n",
       "            <td>413 </td> <td>116.2 </td> <td>7      </td> <td>3     </td> <td>1        </td> <td>0                </td> <td>0     </td>\n",
       "        </tr>\n",
       "        <tr>\n",
       "            <td>411 </td> <td>116.2 </td> <td>7      </td> <td>2     </td> <td>1        </td> <td>0                </td> <td>0     </td>\n",
       "        </tr>\n",
       "        <tr>\n",
       "            <td>395 </td> <td>102.18</td> <td>6      </td> <td>3     </td> <td>1        </td> <td>0                </td> <td>0     </td>\n",
       "        </tr>\n",
       "        <tr>\n",
       "            <td>485 </td> <td>122.17</td> <td>8      </td> <td>2     </td> <td>0        </td> <td>3.5              </td> <td>1     </td>\n",
       "        </tr>\n",
       "        <tr>\n",
       "            <td>432 </td> <td>116.2 </td> <td>7      </td> <td>2     </td> <td>1        </td> <td>0                </td> <td>0     </td>\n",
       "        </tr>\n",
       "    </tbody>\n",
       "</table>\n",
       "<p>... (5 rows omitted)</p>"
      ],
      "text/plain": [
       "bp   | MW     | carbons | degree | aliphatic | avg_aryl_position | cyclic\n",
       "356  | 60.1   | 3       | 2      | 1         | 0                 | 0\n",
       "372  | 74.12  | 4       | 2      | 1         | 0                 | 0\n",
       "436  | 114.19 | 7       | 2      | 0         | 0                 | 1\n",
       "419  | 102.18 | 6       | 1      | 1         | 0                 | 0\n",
       "456  | 130.23 | 8       | 1      | 1         | 0                 | 0\n",
       "413  | 116.2  | 7       | 3      | 1         | 0                 | 0\n",
       "411  | 116.2  | 7       | 2      | 1         | 0                 | 0\n",
       "395  | 102.18 | 6       | 3      | 1         | 0                 | 0\n",
       "485  | 122.17 | 8       | 2      | 0         | 3.5               | 1\n",
       "432  | 116.2  | 7       | 2      | 1         | 0                 | 0\n",
       "... (5 rows omitted)"
      ]
     },
     "execution_count": 21,
     "metadata": {},
     "output_type": "execute_result"
    }
   ],
   "source": [
    "testf"
   ]
  },
  {
   "cell_type": "code",
   "execution_count": 22,
   "metadata": {
    "tags": []
   },
   "outputs": [
    {
     "data": {
      "text/html": [
       "<table border=\"1\" class=\"dataframe\">\n",
       "    <thead>\n",
       "        <tr>\n",
       "            <th>bp</th> <th>MW</th> <th>carbons</th> <th>degree</th> <th>aliphatic</th> <th>avg_aryl_position</th> <th>cyclic</th>\n",
       "        </tr>\n",
       "    </thead>\n",
       "    <tbody>\n",
       "        <tr>\n",
       "            <td>413 </td> <td>116.2</td> <td>7      </td> <td>3     </td> <td>1        </td> <td>0                </td> <td>0     </td>\n",
       "        </tr>\n",
       "    </tbody>\n",
       "</table>"
      ],
      "text/plain": [
       "bp   | MW    | carbons | degree | aliphatic | avg_aryl_position | cyclic\n",
       "413  | 116.2 | 7       | 3      | 1         | 0                 | 0"
      ]
     },
     "execution_count": 22,
     "metadata": {},
     "output_type": "execute_result"
    }
   ],
   "source": [
    "testf.take(5)"
   ]
  },
  {
   "cell_type": "markdown",
   "metadata": {},
   "source": [
    "### Machine Learning <b>features</b> and <b>target</b>\n",
    "In machine learning models there is a value or category we seek to predict and this is known as the target. The attributes and data that are used to train the machine learning model are called the features. We will place the features and target in lists with the string label of each feature and target from the Table that contains the data used for training and testing. Here we will start with a `target` of \"bp\" using a single feature of \"MW\" as we did in the regression in in the beginning of Lab 09."
   ]
  },
  {
   "cell_type": "code",
   "execution_count": 23,
   "metadata": {
    "tags": []
   },
   "outputs": [],
   "source": [
    "features = [\"MW\"]\n",
    "target = [\"bp\"]"
   ]
  },
  {
   "cell_type": "markdown",
   "metadata": {},
   "source": [
    "To get both features and the target we can use the nice property of list addition which combines the list. This then works well with the Table `.select()` method which can take a list of column labels."
   ]
  },
  {
   "cell_type": "code",
   "execution_count": 24,
   "metadata": {
    "tags": []
   },
   "outputs": [
    {
     "data": {
      "text/plain": [
       "['bp', 'MW']"
      ]
     },
     "execution_count": 24,
     "metadata": {},
     "output_type": "execute_result"
    }
   ],
   "source": [
    "target+features"
   ]
  },
  {
   "cell_type": "markdown",
   "metadata": {},
   "source": [
    "Now we can look at fetures and target in the first row of the testf Table"
   ]
  },
  {
   "cell_type": "code",
   "execution_count": 25,
   "metadata": {
    "tags": []
   },
   "outputs": [
    {
     "data": {
      "text/html": [
       "<table border=\"1\" class=\"dataframe\">\n",
       "    <thead>\n",
       "        <tr>\n",
       "            <th>bp</th> <th>MW</th>\n",
       "        </tr>\n",
       "    </thead>\n",
       "    <tbody>\n",
       "        <tr>\n",
       "            <td>356 </td> <td>60.1  </td>\n",
       "        </tr>\n",
       "        <tr>\n",
       "            <td>372 </td> <td>74.12 </td>\n",
       "        </tr>\n",
       "        <tr>\n",
       "            <td>436 </td> <td>114.19</td>\n",
       "        </tr>\n",
       "        <tr>\n",
       "            <td>419 </td> <td>102.18</td>\n",
       "        </tr>\n",
       "        <tr>\n",
       "            <td>456 </td> <td>130.23</td>\n",
       "        </tr>\n",
       "        <tr>\n",
       "            <td>413 </td> <td>116.2 </td>\n",
       "        </tr>\n",
       "        <tr>\n",
       "            <td>411 </td> <td>116.2 </td>\n",
       "        </tr>\n",
       "        <tr>\n",
       "            <td>395 </td> <td>102.18</td>\n",
       "        </tr>\n",
       "        <tr>\n",
       "            <td>485 </td> <td>122.17</td>\n",
       "        </tr>\n",
       "        <tr>\n",
       "            <td>432 </td> <td>116.2 </td>\n",
       "        </tr>\n",
       "    </tbody>\n",
       "</table>\n",
       "<p>... (5 rows omitted)</p>"
      ],
      "text/plain": [
       "bp   | MW\n",
       "356  | 60.1\n",
       "372  | 74.12\n",
       "436  | 114.19\n",
       "419  | 102.18\n",
       "456  | 130.23\n",
       "413  | 116.2\n",
       "411  | 116.2\n",
       "395  | 102.18\n",
       "485  | 122.17\n",
       "432  | 116.2\n",
       "... (5 rows omitted)"
      ]
     },
     "execution_count": 25,
     "metadata": {},
     "output_type": "execute_result"
    }
   ],
   "source": [
    "testf.select(target+features)"
   ]
  },
  {
   "cell_type": "markdown",
   "metadata": {},
   "source": [
    "Example below will create a test row without the `MW` data. The value of `bp` will be predicted by the nearest neighbor machine learning algorithm."
   ]
  },
  {
   "cell_type": "code",
   "execution_count": 26,
   "metadata": {
    "tags": []
   },
   "outputs": [
    {
     "data": {
      "text/plain": [
       "Row(bp=413, MW=116.2)"
      ]
     },
     "execution_count": 26,
     "metadata": {},
     "output_type": "execute_result"
    }
   ],
   "source": [
    "testf.select(target+features).row(5) "
   ]
  },
  {
   "cell_type": "markdown",
   "metadata": {},
   "source": [
    "Create a test row bsed on row 6 from the test data (testf), `.select()` only the features (no target) and use the closest function to see the top 10 closest points to the target in the training data. "
   ]
  },
  {
   "cell_type": "code",
   "execution_count": 27,
   "metadata": {
    "tags": []
   },
   "outputs": [
    {
     "data": {
      "text/plain": [
       "Row(MW=116.2)"
      ]
     },
     "execution_count": 27,
     "metadata": {},
     "output_type": "execute_result"
    }
   ],
   "source": [
    "test_row = testf.select(features).row(5)\n",
    "test_row   # This should display data contained in selected row in testf table."
   ]
  },
  {
   "cell_type": "markdown",
   "metadata": {},
   "source": [
    "Now we will see which are the closest to the above row in the training data. First we can look at all the training data to see which have values for the feature near the above `test_row`. <br>You can clear this larger output by placing a semicolon, `;`, after the ned of the below statement or put a number in the parenthesis within the `show()` like `show(8)`"
   ]
  },
  {
   "cell_type": "code",
   "execution_count": 28,
   "metadata": {
    "tags": []
   },
   "outputs": [],
   "source": [
    "trainf.select(target+features).sort(features[0]);"
   ]
  },
  {
   "cell_type": "markdown",
   "metadata": {},
   "source": [
    "Let's look at the computed distances to each feature from our test_row feature value:"
   ]
  },
  {
   "cell_type": "code",
   "execution_count": 29,
   "metadata": {
    "tags": []
   },
   "outputs": [
    {
     "data": {
      "text/html": [
       "<table border=\"1\" class=\"dataframe\">\n",
       "    <thead>\n",
       "        <tr>\n",
       "            <th>bp</th> <th>MW</th> <th>carbons</th> <th>degree</th> <th>aliphatic</th> <th>avg_aryl_position</th> <th>cyclic</th> <th>Distance</th>\n",
       "        </tr>\n",
       "    </thead>\n",
       "    <tbody>\n",
       "        <tr>\n",
       "            <td>405 </td> <td>116.2 </td> <td>7      </td> <td>3     </td> <td>1        </td> <td>0                </td> <td>0     </td> <td>0       </td>\n",
       "        </tr>\n",
       "        <tr>\n",
       "            <td>428 </td> <td>116.2 </td> <td>7      </td> <td>2     </td> <td>1        </td> <td>0                </td> <td>0     </td> <td>0       </td>\n",
       "        </tr>\n",
       "        <tr>\n",
       "            <td>409 </td> <td>116.2 </td> <td>7      </td> <td>2     </td> <td>1        </td> <td>0                </td> <td>0     </td> <td>0       </td>\n",
       "        </tr>\n",
       "        <tr>\n",
       "            <td>449 </td> <td>116.2 </td> <td>7      </td> <td>1     </td> <td>1        </td> <td>0                </td> <td>0     </td> <td>0       </td>\n",
       "        </tr>\n",
       "        <tr>\n",
       "            <td>446 </td> <td>116.2 </td> <td>7      </td> <td>1     </td> <td>1        </td> <td>0                </td> <td>0     </td> <td>0       </td>\n",
       "        </tr>\n",
       "        <tr>\n",
       "            <td>426 </td> <td>116.2 </td> <td>7      </td> <td>2     </td> <td>1        </td> <td>0                </td> <td>0     </td> <td>0       </td>\n",
       "        </tr>\n",
       "        <tr>\n",
       "            <td>445 </td> <td>114.19</td> <td>7      </td> <td>2     </td> <td>0        </td> <td>0                </td> <td>1     </td> <td>2.01    </td>\n",
       "        </tr>\n",
       "        <tr>\n",
       "            <td>438 </td> <td>114.19</td> <td>7      </td> <td>2     </td> <td>0        </td> <td>0                </td> <td>1     </td> <td>2.01    </td>\n",
       "        </tr>\n",
       "        <tr>\n",
       "            <td>491 </td> <td>122.16</td> <td>8      </td> <td>2     </td> <td>0        </td> <td>4                </td> <td>1     </td> <td>5.96    </td>\n",
       "        </tr>\n",
       "        <tr>\n",
       "            <td>490 </td> <td>122.17</td> <td>8      </td> <td>2     </td> <td>0        </td> <td>2.5              </td> <td>1     </td> <td>5.97    </td>\n",
       "        </tr>\n",
       "    </tbody>\n",
       "</table>\n",
       "<p>... (47 rows omitted)</p>"
      ],
      "text/plain": [
       "bp   | MW     | carbons | degree | aliphatic | avg_aryl_position | cyclic | Distance\n",
       "405  | 116.2  | 7       | 3      | 1         | 0                 | 0      | 0\n",
       "428  | 116.2  | 7       | 2      | 1         | 0                 | 0      | 0\n",
       "409  | 116.2  | 7       | 2      | 1         | 0                 | 0      | 0\n",
       "449  | 116.2  | 7       | 1      | 1         | 0                 | 0      | 0\n",
       "446  | 116.2  | 7       | 1      | 1         | 0                 | 0      | 0\n",
       "426  | 116.2  | 7       | 2      | 1         | 0                 | 0      | 0\n",
       "445  | 114.19 | 7       | 2      | 0         | 0                 | 1      | 2.01\n",
       "438  | 114.19 | 7       | 2      | 0         | 0                 | 1      | 2.01\n",
       "491  | 122.16 | 8       | 2      | 0         | 4                 | 1      | 5.96\n",
       "490  | 122.17 | 8       | 2      | 0         | 2.5               | 1      | 5.97\n",
       "... (47 rows omitted)"
      ]
     },
     "execution_count": 29,
     "metadata": {},
     "output_type": "execute_result"
    }
   ],
   "source": [
    "distances(trainf,test_row,target, features).sort('Distance')"
   ]
  },
  {
   "cell_type": "markdown",
   "metadata": {},
   "source": [
    "#### **<font color='#9E1B34' size=\"3\">Now using the `closest()` function above to find the 7 nearest neighbors and their distance from the above test_row**"
   ]
  },
  {
   "cell_type": "code",
   "execution_count": null,
   "metadata": {},
   "outputs": [],
   "source": [
    "k = ... # Number of nearest neighbors\n",
    "closest(...,test_row,..., target, features)"
   ]
  },
  {
   "cell_type": "code",
   "execution_count": 30,
   "metadata": {},
   "outputs": [
    {
     "data": {
      "text/html": [
       "<table border=\"1\" class=\"dataframe\">\n",
       "    <thead>\n",
       "        <tr>\n",
       "            <th>bp</th> <th>MW</th> <th>carbons</th> <th>degree</th> <th>aliphatic</th> <th>avg_aryl_position</th> <th>cyclic</th> <th>Distance</th>\n",
       "        </tr>\n",
       "    </thead>\n",
       "    <tbody>\n",
       "        <tr>\n",
       "            <td>405 </td> <td>116.2</td> <td>7      </td> <td>3     </td> <td>1        </td> <td>0                </td> <td>0     </td> <td>0       </td>\n",
       "        </tr>\n",
       "        <tr>\n",
       "            <td>428 </td> <td>116.2</td> <td>7      </td> <td>2     </td> <td>1        </td> <td>0                </td> <td>0     </td> <td>0       </td>\n",
       "        </tr>\n",
       "        <tr>\n",
       "            <td>409 </td> <td>116.2</td> <td>7      </td> <td>2     </td> <td>1        </td> <td>0                </td> <td>0     </td> <td>0       </td>\n",
       "        </tr>\n",
       "    </tbody>\n",
       "</table>"
      ],
      "text/plain": [
       "bp   | MW    | carbons | degree | aliphatic | avg_aryl_position | cyclic | Distance\n",
       "405  | 116.2 | 7       | 3      | 1         | 0                 | 0      | 0\n",
       "428  | 116.2 | 7       | 2      | 1         | 0                 | 0      | 0\n",
       "409  | 116.2 | 7       | 2      | 1         | 0                 | 0      | 0"
      ]
     },
     "execution_count": 30,
     "metadata": {},
     "output_type": "execute_result"
    }
   ],
   "source": [
    "k = 3 # Number of nearest neighbors\n",
    "closest(trainf,test_row,k, target, features)"
   ]
  },
  {
   "cell_type": "markdown",
   "metadata": {},
   "source": [
    "So far we are only using the `'MW'` feature and we can see above that the degree feature may help in better predicting out target, boiling point. After assesing our model we will try adding this feature."
   ]
  },
  {
   "cell_type": "code",
   "execution_count": 31,
   "metadata": {
    "tags": []
   },
   "outputs": [
    {
     "data": {
      "text/html": [
       "\n",
       "    \n",
       "    \n",
       "        <p>All tests passed!</p>\n",
       "    \n",
       "    "
      ],
      "text/plain": [
       "<gofer.ok.OKTestsResult at 0x7a4e7c01bf70>"
      ]
     },
     "execution_count": 31,
     "metadata": {},
     "output_type": "execute_result"
    }
   ],
   "source": [
    "check('tests/q3.py')"
   ]
  },
  {
   "cell_type": "markdown",
   "metadata": {},
   "source": [
    "#### <font color=blue> **Question 4.** </font>\n",
    "Predict the value for this row using the defined `predict_knn` function below. "
   ]
  },
  {
   "cell_type": "code",
   "execution_count": 32,
   "metadata": {
    "tags": []
   },
   "outputs": [],
   "source": [
    "def predict_knn(row, train, test, k=5, pr=0):\n",
    "    \"\"\"Return the predicting value or class among the \n",
    "     k nearest neighbors, pr=1 prints\"\"\"\n",
    "    if pr:\n",
    "            print(f'Predicting target value, {target[0]}, for row = {row} using k={k} with features: {features}')\n",
    "    return np.average(closest(train, test.select(features).row(row), k , target, features).column(target[0]))"
   ]
  },
  {
   "cell_type": "code",
   "execution_count": 33,
   "metadata": {
    "tags": []
   },
   "outputs": [
    {
     "data": {
      "text/html": [
       "<table border=\"1\" class=\"dataframe\">\n",
       "    <thead>\n",
       "        <tr>\n",
       "            <th>MW</th>\n",
       "        </tr>\n",
       "    </thead>\n",
       "    <tbody>\n",
       "        <tr>\n",
       "            <td>116.2</td>\n",
       "        </tr>\n",
       "    </tbody>\n",
       "</table>"
      ],
      "text/plain": [
       "MW\n",
       "116.2"
      ]
     },
     "execution_count": 33,
     "metadata": {},
     "output_type": "execute_result"
    }
   ],
   "source": [
    "testf.select(features).take(5)"
   ]
  },
  {
   "cell_type": "markdown",
   "metadata": {},
   "source": [
    "#### Now we create an array with the 5 (k=5) closest boiling points from the nearby training data. These can be averaged to give a prediction."
   ]
  },
  {
   "cell_type": "code",
   "execution_count": 34,
   "metadata": {
    "tags": []
   },
   "outputs": [
    {
     "data": {
      "text/plain": [
       "array([405, 428, 409, 449, 446])"
      ]
     },
     "execution_count": 34,
     "metadata": {},
     "output_type": "execute_result"
    }
   ],
   "source": [
    "closest(trainf, testf.select(features).row(5), 5 , target, features).column(target[0])"
   ]
  },
  {
   "cell_type": "code",
   "execution_count": 35,
   "metadata": {
    "tags": []
   },
   "outputs": [
    {
     "data": {
      "text/html": [
       "<table border=\"1\" class=\"dataframe\">\n",
       "    <thead>\n",
       "        <tr>\n",
       "            <th>bp</th> <th>MW</th> <th>carbons</th> <th>degree</th> <th>aliphatic</th> <th>avg_aryl_position</th> <th>cyclic</th>\n",
       "        </tr>\n",
       "    </thead>\n",
       "    <tbody>\n",
       "        <tr>\n",
       "            <td>534 </td> <td>186.33</td> <td>12     </td> <td>1     </td> <td>1        </td> <td>0                </td> <td>0     </td>\n",
       "        </tr>\n",
       "        <tr>\n",
       "            <td>510 </td> <td>150.22</td> <td>10     </td> <td>2     </td> <td>0        </td> <td>4                </td> <td>1     </td>\n",
       "        </tr>\n",
       "        <tr>\n",
       "            <td>505 </td> <td>136.19</td> <td>9      </td> <td>2     </td> <td>0        </td> <td>4                </td> <td>1     </td>\n",
       "        </tr>\n",
       "        <tr>\n",
       "            <td>503 </td> <td>172.31</td> <td>11     </td> <td>2     </td> <td>1        </td> <td>0                </td> <td>0     </td>\n",
       "        </tr>\n",
       "        <tr>\n",
       "            <td>500 </td> <td>122.17</td> <td>8      </td> <td>2     </td> <td>0        </td> <td>3.5              </td> <td>1     </td>\n",
       "        </tr>\n",
       "        <tr>\n",
       "            <td>495 </td> <td>122.17</td> <td>8      </td> <td>2     </td> <td>0        </td> <td>4                </td> <td>1     </td>\n",
       "        </tr>\n",
       "        <tr>\n",
       "            <td>493 </td> <td>136.19</td> <td>9      </td> <td>2     </td> <td>0        </td> <td>6                </td> <td>1     </td>\n",
       "        </tr>\n",
       "        <tr>\n",
       "            <td>491 </td> <td>122.16</td> <td>8      </td> <td>2     </td> <td>0        </td> <td>4                </td> <td>1     </td>\n",
       "        </tr>\n",
       "        <tr>\n",
       "            <td>490 </td> <td>122.17</td> <td>8      </td> <td>2     </td> <td>0        </td> <td>2.5              </td> <td>1     </td>\n",
       "        </tr>\n",
       "        <tr>\n",
       "            <td>486 </td> <td>136.19</td> <td>9      </td> <td>2     </td> <td>0        </td> <td>4                </td> <td>1     </td>\n",
       "        </tr>\n",
       "    </tbody>\n",
       "</table>\n",
       "<p>... (47 rows omitted)</p>"
      ],
      "text/plain": [
       "bp   | MW     | carbons | degree | aliphatic | avg_aryl_position | cyclic\n",
       "534  | 186.33 | 12      | 1      | 1         | 0                 | 0\n",
       "510  | 150.22 | 10      | 2      | 0         | 4                 | 1\n",
       "505  | 136.19 | 9       | 2      | 0         | 4                 | 1\n",
       "503  | 172.31 | 11      | 2      | 1         | 0                 | 0\n",
       "500  | 122.17 | 8       | 2      | 0         | 3.5               | 1\n",
       "495  | 122.17 | 8       | 2      | 0         | 4                 | 1\n",
       "493  | 136.19 | 9       | 2      | 0         | 6                 | 1\n",
       "491  | 122.16 | 8       | 2      | 0         | 4                 | 1\n",
       "490  | 122.17 | 8       | 2      | 0         | 2.5               | 1\n",
       "486  | 136.19 | 9       | 2      | 0         | 4                 | 1\n",
       "... (47 rows omitted)"
      ]
     },
     "execution_count": 35,
     "metadata": {},
     "output_type": "execute_result"
    }
   ],
   "source": [
    "trainf.sort(target[0],descending=True)"
   ]
  },
  {
   "cell_type": "code",
   "execution_count": 36,
   "metadata": {
    "tags": []
   },
   "outputs": [
    {
     "name": "stdout",
     "output_type": "stream",
     "text": [
      "Predicting target value, bp, for row = 5 using k=3 with features: ['MW']\n",
      "414.0 Row(bp=413)\n"
     ]
    }
   ],
   "source": [
    "predictionf = predict_knn(5, trainf, testf, k, 1) # This is the value predicted for wait using the average of the k nearest neighbors in the test set\n",
    "actual = testf.select('bp').row(5)\n",
    "print(predictionf,actual)"
   ]
  },
  {
   "cell_type": "markdown",
   "metadata": {},
   "source": [
    "**Compare the predicted value to the value reported for boiling point (bp) in the test data. How do they compare?**"
   ]
  },
  {
   "cell_type": "markdown",
   "metadata": {},
   "source": [
    "<font color='blue'> Answer here  </font>\n",
    "***  "
   ]
  },
  {
   "cell_type": "code",
   "execution_count": null,
   "metadata": {
    "tags": []
   },
   "outputs": [],
   "source": [
    "check('tests/q4.py')"
   ]
  },
  {
   "cell_type": "markdown",
   "metadata": {},
   "source": [
    "#### <font color=blue> **Question 5. Predictions** </font>\n",
    "Now we will make predictions for the whole data set using the apply Table method. We will then look at the root mean squared error (RMSE) for the nearest neighbor fit and a scatter plot. Try adjusting the value of k in the predict_nn function to see it's effect on the quality of fit by rerunning these cells. Are the predicted points in a **perfect** straight line, why or why not?"
   ]
  },
  {
   "cell_type": "markdown",
   "metadata": {},
   "source": [
    "#### Test RMSE for nearest neighbors"
   ]
  },
  {
   "cell_type": "markdown",
   "metadata": {},
   "source": [
    "Make predictions array first"
   ]
  },
  {
   "cell_type": "code",
   "execution_count": null,
   "metadata": {
    "tags": []
   },
   "outputs": [],
   "source": [
    "plist = []\n",
    "for r in np.arange(testf.num_rows):\n",
    "    plist.append(predict_knn(r,trainf, testf, k, 1))"
   ]
  },
  {
   "cell_type": "code",
   "execution_count": null,
   "metadata": {
    "tags": []
   },
   "outputs": [],
   "source": [
    "testf = testf.with_columns(\"predict\",plist)\n",
    "nn_test_predictions = testf.column(\"predict\")\n",
    "test_target = testf.column(target[0])\n",
    "rmse_nn = np.mean((test_target - nn_test_predictions) ** 2) ** 0.5\n",
    "\n",
    "print('Test set RMSE for nearest neighbor regression:', round(rmse_nn,2))"
   ]
  },
  {
   "cell_type": "markdown",
   "metadata": {},
   "source": [
    "#### Test RMSE for linear regression"
   ]
  },
  {
   "cell_type": "code",
   "execution_count": null,
   "metadata": {
    "tags": []
   },
   "outputs": [],
   "source": [
    "slp = slope(testf,features[0],target[0])\n",
    "slp"
   ]
  },
  {
   "cell_type": "code",
   "execution_count": null,
   "metadata": {
    "tags": []
   },
   "outputs": [],
   "source": [
    "intcept = intercept(testf,features[0],target[0])\n",
    "intcept"
   ]
  },
  {
   "cell_type": "markdown",
   "metadata": {},
   "source": [
    "Remember y_predict = slope * x + intercept <br> <font color=green>Fill in appropriately below"
   ]
  },
  {
   "cell_type": "code",
   "execution_count": null,
   "metadata": {
    "tags": []
   },
   "outputs": [],
   "source": [
    "test_target = testf.column(target[0])\n",
    "lr_predict = ... * testf.column(features[0]) + ...\n",
    "rmse_lr = np.mean((test_target - lr_predict) ** 2) ** 0.5\n",
    "\n",
    "print('Test set RMSE for linear regression:', round(rmse_lr,2))"
   ]
  },
  {
   "cell_type": "code",
   "execution_count": null,
   "metadata": {
    "tags": []
   },
   "outputs": [],
   "source": [
    "check('tests/q5a.py')"
   ]
  },
  {
   "cell_type": "markdown",
   "metadata": {},
   "source": [
    "**<font color='#9E1B34' size=\"3\">Let's look at the quality of the prediction with a scatter plot and Table.**"
   ]
  },
  {
   "cell_type": "code",
   "execution_count": null,
   "metadata": {
    "tags": []
   },
   "outputs": [],
   "source": [
    "testf.scatter(features[0],[target[0],'predict'])"
   ]
  },
  {
   "cell_type": "code",
   "execution_count": null,
   "metadata": {
    "tags": []
   },
   "outputs": [],
   "source": [
    "testf.move_to_start('predict')"
   ]
  },
  {
   "cell_type": "markdown",
   "metadata": {},
   "source": [
    "<font color=green>**Prediction Discusion**</font>\n",
    "Discuss the quality of the prediction of the target. How did the root mean square error (RMSE) of the nearest neighbor prediction comapre to the linear regression prediction? A lower RMSE is a better prediction."
   ]
  },
  {
   "cell_type": "markdown",
   "metadata": {},
   "source": [
    "<font color='blue'> Answer here  </font>\n",
    "***  "
   ]
  },
  {
   "cell_type": "markdown",
   "metadata": {},
   "source": [
    "#### Save notebook before check"
   ]
  },
  {
   "cell_type": "code",
   "execution_count": null,
   "metadata": {},
   "outputs": [],
   "source": [
    "check('tests/q5d.py')"
   ]
  },
  {
   "cell_type": "markdown",
   "metadata": {},
   "source": [
    "#### **<font color='#9E1B34' size=\"3\">Now let's try adding to the features**\n",
    "We will add degree as a feature since this indicates whether this is a primary, secondary, or tertiary alcohol. <a href='#degree_trend'>In examining the butanols above</a> this appeared to have an effect of boiling point."
   ]
  },
  {
   "cell_type": "code",
   "execution_count": null,
   "metadata": {
    "tags": []
   },
   "outputs": [],
   "source": [
    "features = [\"MW\",\"degree\"]\n",
    "target = [\"bp\"]"
   ]
  },
  {
   "cell_type": "markdown",
   "metadata": {},
   "source": [
    "#### Test RMSE for nearest neighbors"
   ]
  },
  {
   "cell_type": "markdown",
   "metadata": {},
   "source": [
    "Make predictions array first"
   ]
  },
  {
   "cell_type": "code",
   "execution_count": null,
   "metadata": {
    "tags": []
   },
   "outputs": [],
   "source": [
    "plist = []\n",
    "for r in np.arange(testf.num_rows): # Iterate through rows in testf Table\n",
    "    plist.append(predict_knn(r,trainf, testf, k, 1))"
   ]
  },
  {
   "cell_type": "code",
   "execution_count": null,
   "metadata": {
    "tags": []
   },
   "outputs": [],
   "source": [
    "testf = testf.with_columns(\"predict\",plist)\n",
    "nn_test_predictions = testf.column(\"predict\")\n",
    "test_target = testf.column(target[0])\n",
    "rmse_nn = np.mean((test_target - nn_test_predictions) ** 2) ** 0.5\n",
    "\n",
    "print('Test set RMSE for nearest neighbor regression:', round(rmse_nn,2))"
   ]
  },
  {
   "cell_type": "markdown",
   "metadata": {},
   "source": [
    "**<font color='#9E1B34' size=\"3\">Let's look at the quality of the prediction with a scatter plot and Table.**"
   ]
  },
  {
   "cell_type": "code",
   "execution_count": null,
   "metadata": {
    "tags": []
   },
   "outputs": [],
   "source": [
    "testf.scatter(features[0],[target[0],'predict'])"
   ]
  },
  {
   "cell_type": "code",
   "execution_count": null,
   "metadata": {
    "tags": []
   },
   "outputs": [],
   "source": [
    "testf.move_to_start('predict')"
   ]
  },
  {
   "cell_type": "markdown",
   "metadata": {},
   "source": [
    "<font color=green>**Prediction Discusion with added feature**</font>\n",
    "Discuss the quality of the prediction of the target with two features. How did the root mean square error (RMSE) of the nearest neighbor prediction compare to the RMSE of the nearest neighbor prediction with 1 feture above? A lower RMSE is a better prediction."
   ]
  },
  {
   "cell_type": "markdown",
   "metadata": {},
   "source": [
    "<font color='blue'> Answer here  </font>\n",
    "***  "
   ]
  },
  {
   "cell_type": "markdown",
   "metadata": {},
   "source": [
    "#### Save notebook before check"
   ]
  },
  {
   "cell_type": "code",
   "execution_count": null,
   "metadata": {
    "tags": []
   },
   "outputs": [],
   "source": [
    "check('tests/q5e.py')"
   ]
  },
  {
   "cell_type": "markdown",
   "metadata": {},
   "source": [
    "## Molecules and predicting acidity measured by pKa\n",
    "Within the Jupyter notebook we can also analyze molecules and their molecular data using the library  RDKit. RDKit adds the ability to visualize 2D and 3D molecular structures. We can apply many of the data science tools we have learned to molecular data as well. <br>First we will briefly look at acid-base chemistry and how acidity is defined. pH is a measure of the acidity of a water-based (aqueous) solution. A pH of 1 is acidic, a pH of 7 is neutral and a pH of 14 is basic.  Next we will use some computed atributes of a large set of molecules to train a k nearest neighbor model to predict acidity. We will use a range of attributes including the partial charges on atoms adjacent to the acidic proton, molecular weight, solvent accessible surface area (SASA), carbon-oxygen bond order, and some thermochemistry measures all of which may help predict acidity with a lower pKa indicating a stronger (weak) acid."
   ]
  },
  {
   "cell_type": "markdown",
   "metadata": {},
   "source": [
    "#### Acid-base and pKa background\n",
    "A very brief background on acid - base equilibria demonstrated for glycine. See [OpenStax Chemistry](https://openstax.org/books/chemistry-2e/pages/14-introduction) for details based on interest.\n",
    "<br><center><img src='acid_base_pKa.png' width=900></center>"
   ]
  },
  {
   "cell_type": "markdown",
   "metadata": {},
   "source": [
    "### RDKit\n",
    "[RDKit](https://www.rdkit.org/docs/Cookbook.html) is a specialized library to handle the complexities of molecules within Python. "
   ]
  },
  {
   "cell_type": "code",
   "execution_count": null,
   "metadata": {
    "tags": []
   },
   "outputs": [],
   "source": [
    "from rdkit import Chem\n",
    "from rdkit.Chem.Draw import IPythonConsole #Needed to show molecules\n",
    "from rdkit.Chem.Draw.MolDrawing import MolDrawing, DrawingOptions #Only needed if modifying defaults\n",
    "from rdkit.Chem import AllChem\n",
    "from rdkit.Chem import Draw\n",
    "from rdkit import DataStructs\n",
    "# Options\n",
    "DrawingOptions.bondLineWidth=1.8"
   ]
  },
  {
   "cell_type": "markdown",
   "metadata": {},
   "source": [
    "#### **<font color='#9E1B34' size=\"3\"> Load detailed molecular data for 600 molecules**"
   ]
  },
  {
   "cell_type": "code",
   "execution_count": null,
   "metadata": {
    "tags": []
   },
   "outputs": [],
   "source": [
    "molecules = Table().read_table('pKa_small.csv')\n",
    "molecules"
   ]
  },
  {
   "cell_type": "markdown",
   "metadata": {},
   "source": [
    "#### <font color=blue> **Question 11.** </font>Select an amino acid \n",
    " Use the Table above to view data for an amino acid of your selection from the 21 amino acids which are building blocks of proteins. Note: not all amino acids are in the data set, try another if missing. See [web page](https://i.pinimg.com/originals/a2/fd/dd/a2fddd4ad8b9067bfeb0d6f51cf28e71.jpg) for possible choices. Hint: use are.containing within the .where() Table method. For example below we can find compounds which contain a methyl group (CH$_3$). We get 55 rows (records)."
   ]
  },
  {
   "cell_type": "code",
   "execution_count": null,
   "metadata": {
    "tags": []
   },
   "outputs": [],
   "source": [
    "methyl = molecules.where(\"Name\",are.containing(\"methyl\"))\n",
    "methyl"
   ]
  },
  {
   "cell_type": "code",
   "execution_count": null,
   "metadata": {
    "tags": []
   },
   "outputs": [],
   "source": [
    "amino = molecules.where(\"Name\",are.containing(\"...\"))\n",
    "amino"
   ]
  },
  {
   "cell_type": "code",
   "execution_count": null,
   "metadata": {
    "tags": []
   },
   "outputs": [],
   "source": [
    "check('tests/q11.py')"
   ]
  },
  {
   "cell_type": "markdown",
   "metadata": {},
   "source": [
    "### pKa data examination\n",
    "Now we will look at a data set derived from the above data but with computed molecular attributes for our machine learning. This data set is computed and described by  [Prof. Vince Voelz](http://www.voelzlab.org) in the Temple Chemistry department and a graduate student, Robert Raddi. See their paper: [Stacking Gaussian processes to improve pKa predictions in the SAMPL7 challenge](https://link.springer.com/epdf/10.1007/s10822-021-00411-8?sharing_token=yLV8dMXdxg40M_Ds_2Rhsfe4RwlQNchNByi7wbcMAY6fCl3bMLQiAhJzS2zZw-SwUkz490heLLZu1bPJ8T5LHXo1WvZkp0AJmWzXo71rszl8UaPxjqtqR-oARfxWGrTiCV0rNXy0C7IVzX6yoMYTPv2ZJfnQS-zF1pYvL8ESsUI%3D). Below are the distribution of values of some of th efeatures we will use to predict pKa."
   ]
  },
  {
   "cell_type": "markdown",
   "metadata": {},
   "source": [
    "### Histogram of pKa, molecular weight (g/mol), and ∆H."
   ]
  },
  {
   "cell_type": "code",
   "execution_count": null,
   "metadata": {
    "tags": []
   },
   "outputs": [],
   "source": [
    "molecules.hist('pKa',bins=25, edgecolor=\"black\", linewidth=1.2)\n",
    "molecules.hist('Weight',bins=25, edgecolor=\"black\", linewidth=1.2)\n",
    "molecules.hist('∆H',bins=25, edgecolor=\"black\", linewidth=1.2)"
   ]
  },
  {
   "cell_type": "markdown",
   "metadata": {},
   "source": [
    "### <font color='purple'>Display molecular structure</font>\n",
    "[SMILES](https://en.wikipedia.org/wiki/Simplified_molecular-input_line-entry_system) is a shorthand language to describe molecular structure. Execute the code to display glycine the simplest amino acid below."
   ]
  },
  {
   "cell_type": "code",
   "execution_count": null,
   "metadata": {
    "tags": []
   },
   "outputs": [],
   "source": [
    "smiles3D(\"[NH2+]CC(O)=O\") # Glycine an amino acid"
   ]
  },
  {
   "cell_type": "markdown",
   "metadata": {},
   "source": [
    "### <font color='purple'>Sample molecules in our data set</font>\n",
    "Take them for a spin by clicking and dragging on them."
   ]
  },
  {
   "cell_type": "code",
   "execution_count": null,
   "metadata": {
    "tags": []
   },
   "outputs": [],
   "source": [
    "for rowid in np.random.choice(np.arange(molecules.num_rows),3):\n",
    "    print(molecules['Name'][rowid],' pKa: ',molecules['pKa'][rowid], ' Molecular Weight (g/mol): ',molecules['Weight'][rowid])\n",
    "    smiles3D(molecules['smiles'][rowid])"
   ]
  },
  {
   "cell_type": "markdown",
   "metadata": {},
   "source": [
    "### <font color='purple'>Pharmaceuticals in our data set</font>\n",
    "Below is a sampling of the many pharmaceuticals in our data set with 2D views."
   ]
  },
  {
   "cell_type": "code",
   "execution_count": null,
   "metadata": {
    "tags": []
   },
   "outputs": [],
   "source": [
    "celecoxib = Chem.MolFromSmiles(molecules.where('Name','celecoxib')['smiles'][0])\n",
    "celecoxib.SetProp('Name',molecules.where('Name','celecoxib')['Name'][0]+' (NSAID) pKa: '+str(molecules.where('Name','celecoxib')['pKa'][0]))\n",
    "sertraline = Chem.MolFromSmiles(molecules.where('Name','Sertraline')['smiles'][0])\n",
    "sertraline.SetProp('Name',molecules.where('Name','Sertraline')['Name'][0]+' (anti-depressant, SSRI) pKa: '+str(molecules.where('Name','Sertraline')['pKa'][0]))\n",
    "losartin = Chem.MolFromSmiles(molecules.where('Name','Losartan')['smiles'][0])\n",
    "losartin.SetProp('Name',molecules.where('Name','Losartan')['Name'][0]+' (hypertension,  angiotensin II receptor blocker) pKa: '+str(molecules.where('Name','Losartan')['pKa'][0]))\n",
    "'Losartan'\n",
    "Draw.MolsToGridImage(\n",
    "    [celecoxib, sertraline, losartin],\n",
    "    legends=[celecoxib.GetProp(\"Name\"),sertraline.GetProp(\"Name\"), losartin.GetProp(\"Name\")],\n",
    "    molsPerRow=3,\n",
    "    subImgSize=(420, 250),\n",
    "    useSVG=True,)"
   ]
  },
  {
   "cell_type": "markdown",
   "metadata": {},
   "source": [
    "### <font color='purple'>Display molecular structure from dataset\n",
    "[SMILES](https://en.wikipedia.org/wiki/Simplified_molecular-input_line-entry_system) is a shorthand language to describe molecular structure."
   ]
  },
  {
   "cell_type": "markdown",
   "metadata": {},
   "source": [
    "##### Example from smiles string from molecules Table"
   ]
  },
  {
   "cell_type": "code",
   "execution_count": null,
   "metadata": {
    "tags": []
   },
   "outputs": [],
   "source": [
    "print(molecules['Name'][12],'smiles string: ', molecules['smiles'][12])"
   ]
  },
  {
   "cell_type": "markdown",
   "metadata": {},
   "source": [
    "Try your own... 2D and 3D structures using `smiles3D`"
   ]
  },
  {
   "cell_type": "code",
   "execution_count": null,
   "metadata": {
    "tags": []
   },
   "outputs": [],
   "source": [
    "smiles3D(\"[NH2+]CC(O)=O\") # Example Glycine an amino acid"
   ]
  },
  {
   "cell_type": "code",
   "execution_count": null,
   "metadata": {
    "tags": []
   },
   "outputs": [],
   "source": [
    "smiles3D(\"...\")"
   ]
  },
  {
   "cell_type": "markdown",
   "metadata": {},
   "source": [
    "#### Selected amino acid 2D molecular structure\n",
    "Try it out for fun! Use the same above syntax and the SMILES string from your above Table to display a 2D amino acid structure from your selection. Even if there is no rdkit, try your hand at the SMILES molecular description. The 21 basic amino acid protein building blocks are given in a [helpful table](https://www.aatbio.com/data-sets/amino-acid-reference-chart-table) along with their smiles string to use below."
   ]
  },
  {
   "cell_type": "code",
   "execution_count": null,
   "metadata": {},
   "outputs": [],
   "source": [
    "print(\"My chosen amino acid is:\",...)\n",
    "smile_struct = '...'\n",
    "\n",
    "Chem.MolFromSmiles(smile_struct)"
   ]
  },
  {
   "cell_type": "code",
   "execution_count": null,
   "metadata": {},
   "outputs": [],
   "source": [
    "smiles3D(...)"
   ]
  },
  {
   "cell_type": "markdown",
   "metadata": {},
   "source": [
    "### **<font color='#9E1B34' size=\"3\">Now time for our Nearest Neighbor prediction of molecular acidity as measured by pKa**\n",
    "For machine learning we will use the 5 features available in the molecules Table after dropping the smiles molecular structures string."
   ]
  },
  {
   "cell_type": "markdown",
   "metadata": {},
   "source": [
    "#### Selection of attributes/features for training and prediction\n",
    "We need to select the features that we will use in the training. These will include the molecular weight (g/mol), Change in Enthalpy (kJ/mol) (prot-deprot), ∆G_solv (kJ/mol) (prot-deprot), the bond order to the atom for which the acidic proton is bound, and the solvent accessible surface area (SASA). We also keep the labels and smiles string as well as the pKa we will train on. In a second round we will add features corresponding to partial charges on nearby atoms."
   ]
  },
  {
   "cell_type": "markdown",
   "metadata": {},
   "source": [
    "### Standardize, train, test split\n",
    "#### <font color=blue> **Question 12.** </font>\n",
    "First we need to convert all numerical values to standard units. This is because different features have differing magnitudes leading to deviations in computed Euclidean distances. You will split the molecular Table into train and test data using 80% for training and remembering that the split must be an integer using int() function. Again we will select certain rowsas attributes."
   ]
  },
  {
   "cell_type": "code",
   "execution_count": null,
   "metadata": {
    "tags": []
   },
   "outputs": [],
   "source": [
    "target = ['pKa']\n",
    "features = ['Weight','∆H','∆G_solv','Bond Order','SASA']"
   ]
  },
  {
   "cell_type": "code",
   "execution_count": null,
   "metadata": {
    "tags": []
   },
   "outputs": [],
   "source": [
    "pKa_s = molecules.select('Name','pKa','smiles')"
   ]
  },
  {
   "cell_type": "markdown",
   "metadata": {},
   "source": [
    "Standardize using standard z-values"
   ]
  },
  {
   "cell_type": "code",
   "execution_count": null,
   "metadata": {
    "tags": []
   },
   "outputs": [],
   "source": [
    "def standard_units(any_array):\n",
    "    \"Convert any array of numbers to standard units.\"\n",
    "    return (any_array - np.mean(any_array))/np.std(any_array)  "
   ]
  },
  {
   "cell_type": "code",
   "execution_count": null,
   "metadata": {
    "tags": []
   },
   "outputs": [],
   "source": [
    "for label in features:\n",
    "    print('Standardizing: ',label)\n",
    "    pKa_s = pKa_s.with_columns(label,standard_units(molecules[label]))\n",
    "pKa_s   "
   ]
  },
  {
   "cell_type": "markdown",
   "metadata": {},
   "source": [
    "Now time to split the data, your turn... remember to use the standardized data in `pKa_s` and an 80% training 20% test split."
   ]
  },
  {
   "cell_type": "code",
   "execution_count": null,
   "metadata": {},
   "outputs": [],
   "source": [
    "train, test = pKa_s.split(...)\n",
    "print(train.num_rows, 'training and', test.num_rows, 'test instances.')\n",
    "\n",
    "train.show(3)"
   ]
  },
  {
   "cell_type": "code",
   "execution_count": null,
   "metadata": {
    "tags": []
   },
   "outputs": [],
   "source": [
    "check('tests/q12.py')"
   ]
  },
  {
   "cell_type": "markdown",
   "metadata": {},
   "source": [
    "### Our k nearest neighbors code\n",
    "\n",
    "Remember our the k nearest neighbor code from above which we will again use here.\n",
    "```python\n",
    "def row_distance(row1, row2):\n",
    "    \"\"\"The distance between two rows of a table.\"\"\"\n",
    "    return distance(np.array(row1), np.array(row2)) # Need to convert rows into arrays\n",
    "\n",
    "def distances(training, test, target, features):\n",
    "    \"\"\"Compute the distance from test for each row in training.\"\"\"\n",
    "    dists = []\n",
    "    attributes = training.select(features)\n",
    "    for row in attributes.rows:\n",
    "        dists.append(row_distance(row, test))\n",
    "    return training.with_column('Distance', dists)\n",
    "\n",
    "def closest(training, test, k, target, features):\n",
    "    \"\"\"Return a table of the k closest neighbors to example row from test data.\"\"\"\n",
    "    return distances(training, test, target, features).sort('Distance').take(np.arange(k))\n",
    "```"
   ]
  },
  {
   "cell_type": "markdown",
   "metadata": {},
   "source": [
    "### Test algorithm\n",
    "Execute these cells to define the predict_knn function for pKa, pick a  row, predict and compare."
   ]
  },
  {
   "cell_type": "code",
   "execution_count": null,
   "metadata": {
    "tags": []
   },
   "outputs": [],
   "source": [
    "test.select(features).take(5)"
   ]
  },
  {
   "cell_type": "code",
   "execution_count": null,
   "metadata": {
    "tags": []
   },
   "outputs": [],
   "source": [
    "k = ... # Choose a k value"
   ]
  },
  {
   "cell_type": "markdown",
   "metadata": {},
   "source": [
    "Look at the closest k rows to row 6 (`.take(5)` above)"
   ]
  },
  {
   "cell_type": "code",
   "execution_count": null,
   "metadata": {
    "tags": []
   },
   "outputs": [],
   "source": [
    "closest(train, test.select(features).row(5), 7 , target, features)"
   ]
  },
  {
   "cell_type": "markdown",
   "metadata": {},
   "source": [
    "Now look at the column/array of target values from the nearest neighbors in the training data"
   ]
  },
  {
   "cell_type": "code",
   "execution_count": null,
   "metadata": {
    "tags": []
   },
   "outputs": [],
   "source": [
    "closest(train, test.select(features).row(5), k , target, features).column(target[0])"
   ]
  },
  {
   "cell_type": "markdown",
   "metadata": {},
   "source": [
    "Now predict for row=5:"
   ]
  },
  {
   "cell_type": "code",
   "execution_count": null,
   "metadata": {
    "tags": []
   },
   "outputs": [],
   "source": [
    "predict_knn(5, train, test,k,1)"
   ]
  },
  {
   "cell_type": "markdown",
   "metadata": {},
   "source": [
    "Now examine row 20 in test set to try to predict"
   ]
  },
  {
   "cell_type": "code",
   "execution_count": null,
   "metadata": {
    "tags": []
   },
   "outputs": [],
   "source": [
    "test.select(target+features).take(19)"
   ]
  },
  {
   "cell_type": "markdown",
   "metadata": {},
   "source": [
    "#### Look at closest in training set to test row"
   ]
  },
  {
   "cell_type": "code",
   "execution_count": null,
   "metadata": {
    "tags": []
   },
   "outputs": [],
   "source": [
    "closest(train, test.select(features).row(19), 3 , target, features)"
   ]
  },
  {
   "cell_type": "markdown",
   "metadata": {},
   "source": [
    "#### Prediction time:"
   ]
  },
  {
   "cell_type": "code",
   "execution_count": null,
   "metadata": {
    "tags": []
   },
   "outputs": [],
   "source": [
    "predict_knn(..., train, test,...,1)"
   ]
  },
  {
   "cell_type": "markdown",
   "metadata": {},
   "source": [
    "### Histogram of experimental acidity to be predicted\n",
    "#### *Question*  \n",
    "<font color=green>Make two histograms of acidity measured by pKa in the training data and test data. Compare the distribution."
   ]
  },
  {
   "cell_type": "code",
   "execution_count": null,
   "metadata": {},
   "outputs": [],
   "source": [
    "..."
   ]
  },
  {
   "cell_type": "markdown",
   "metadata": {},
   "source": []
  },
  {
   "cell_type": "markdown",
   "metadata": {},
   "source": [
    "### <font color=blue> **Question 13.** </font>Prediction time\n",
    "Now predict the pKa of the 10th molecule in the test dataset using predict. We simply provide the index for the 10th row and our code will select the features we have specified above for the k nearest neighbor prediction of the target, pKa. Discuss the quality of the fit and the name of the name of the molecule from column 1. Repeat for two more rows and discuss the prediction quality. Keep in mind that the prediction of pKa is a very challenging task for machine learning."
   ]
  },
  {
   "cell_type": "code",
   "execution_count": null,
   "metadata": {
    "tags": []
   },
   "outputs": [],
   "source": [
    "row = 9"
   ]
  },
  {
   "cell_type": "code",
   "execution_count": null,
   "metadata": {
    "tags": []
   },
   "outputs": [],
   "source": [
    "print('Experimental pKa:', test.column('pKa').item(row))\n",
    "predicted = round(predict_knn(row,train, test, k, 1),2)\n",
    "print('Predicted pKa using nearest neighbors:', predicted)"
   ]
  },
  {
   "cell_type": "code",
   "execution_count": null,
   "metadata": {
    "tags": []
   },
   "outputs": [],
   "source": [
    "check('tests/q13.py')"
   ]
  },
  {
   "cell_type": "markdown",
   "metadata": {},
   "source": [
    "### Now let's plot knn prediction success\n",
    "Execute the next three cells"
   ]
  },
  {
   "cell_type": "code",
   "execution_count": null,
   "metadata": {
    "tags": []
   },
   "outputs": [],
   "source": [
    "exp_pKa = np.array([])\n",
    "predict_pKa = np.array([])\n",
    "for i in np.arange(test.num_rows):\n",
    "    exp_pKa = np.append(exp_pKa,test.column('pKa').item(i))\n",
    "    predict_pKa = np.append(predict_pKa,predict_knn(i, train,test,k) )"
   ]
  },
  {
   "cell_type": "code",
   "execution_count": null,
   "metadata": {
    "tags": []
   },
   "outputs": [],
   "source": [
    "len(exp_pKa), len(predict_pKa)"
   ]
  },
  {
   "cell_type": "code",
   "execution_count": null,
   "metadata": {
    "tags": []
   },
   "outputs": [],
   "source": [
    "plt.hist(exp_pKa-predict_pKa, bins=25, edgecolor=\"black\", linewidth=1.2)\n",
    "plt.xlim(-8,8)\n",
    "rmse_nn = np.mean((exp_pKa-predict_pKa) ** 2) ** 0.5 \n",
    "t=plt.text(3,9,f'Root mean square error: {rmse_nn:.2f}',fontsize=9)\n",
    "t.set_bbox(dict(facecolor='green',alpha=0.7, edgecolor='blue'))\n",
    "plt.title(\"Prediction error of pKa using k nearest neighbor\")\n",
    "plt.savefig('Predict_error_initial.png')\n",
    "plt.show()"
   ]
  },
  {
   "cell_type": "markdown",
   "metadata": {},
   "source": [
    "### Conclusions on our k nearest neighbor model\n",
    "#### <font color=blue> **Question 14.** </font>\n",
    "Evaluate the overall quality of our machine learning prediction based on the above histogram plot and the root mean squared error (RMSE). "
   ]
  },
  {
   "cell_type": "markdown",
   "metadata": {},
   "source": [
    "<font color='blue'>Your discussionYour discussionYour discussionYour discussionYour discussionYour discussionYour discussionYour discussionYour discussion </font>\n",
    "***   "
   ]
  },
  {
   "cell_type": "markdown",
   "metadata": {},
   "source": [
    "#### Save notebook before check"
   ]
  },
  {
   "cell_type": "code",
   "execution_count": null,
   "metadata": {
    "tags": []
   },
   "outputs": [],
   "source": [
    "check('tests/q14d.py')"
   ]
  },
  {
   "cell_type": "markdown",
   "metadata": {},
   "source": [
    "### Examining dependence on k parameter.\n",
    "#### <font color=blue> **Question 15.** </font>\n",
    "Now we will iterate through different values of k to decide which is best."
   ]
  },
  {
   "cell_type": "markdown",
   "metadata": {},
   "source": [
    "Now we will try a few values for k to try to optimize the value of k which is known as a hyperparameter. We need a new version of `predict_nn` that also has an argument of k with a default value of 5."
   ]
  },
  {
   "cell_type": "markdown",
   "metadata": {},
   "source": [
    "##### Make a list of 5 values of k to test with the same plot as is in Question 13 above."
   ]
  },
  {
   "cell_type": "code",
   "execution_count": null,
   "metadata": {
    "tags": []
   },
   "outputs": [],
   "source": [
    "for knn in [...]:\n",
    "    exp_pKa = []\n",
    "    predict_pKa = []\n",
    "    for i in np.arange(test.num_rows):\n",
    "        exp_pKa.append(test.column(\"pKa\").item(i))\n",
    "        predict_pKa.append(predict_knn(i,train,test, knn,0))\n",
    "    plt.hist(np.array(exp_pKa)-np.array(predict_pKa), bins=25, edgecolor=\"black\", linewidth=1.2)\n",
    "    plt.xlim(-8,8)\n",
    "    rmse_nn = np.mean((np.array(exp_pKa)-np.array(predict_pKa)) ** 2) ** 0.5 \n",
    "    t=plt.text(3,9,f'Root mean square error: {rmse_nn:.2f}',fontsize=9)\n",
    "    t.set_bbox(dict(facecolor='green',alpha=0.7, edgecolor='blue'))\n",
    "    plt.title(\"k = \" + str(knn))\n",
    "    plt.savefig('k_'+str(knn)+'-plots.png')\n",
    "    plt.show()"
   ]
  },
  {
   "cell_type": "markdown",
   "metadata": {},
   "source": [
    "<font color=blue> *Question:* Which value of `k` makes the best estimation?</font>"
   ]
  },
  {
   "cell_type": "code",
   "execution_count": null,
   "metadata": {},
   "outputs": [],
   "source": [
    "k = ..."
   ]
  },
  {
   "cell_type": "code",
   "execution_count": null,
   "metadata": {},
   "outputs": [],
   "source": [
    "check('tests/q14.py')"
   ]
  },
  {
   "cell_type": "markdown",
   "metadata": {
    "tags": []
   },
   "source": [
    "### <font color=blue> **Question 16.** </font>\n",
    "At the end of each lab, please include a reflection. \n",
    "* How did this lab go? \n",
    "* Can you think of other applications of k-means clustering?\n",
    "* Were there questions you found especially challenging you would like your instructor to review in class? \n",
    "* How long did the lab take you to complete?\n",
    "\n",
    "Share your feedback so we can continue to improve this class!\n",
    "\n",
    "**Insert a markdown cell below this one and write your reflection on this lab.**"
   ]
  },
  {
   "cell_type": "markdown",
   "metadata": {},
   "source": []
  },
  {
   "cell_type": "markdown",
   "metadata": {},
   "source": [
    "#### Save notebook before check"
   ]
  },
  {
   "cell_type": "code",
   "execution_count": null,
   "metadata": {
    "tags": []
   },
   "outputs": [],
   "source": [
    "check('tests/q16d.py')"
   ]
  },
  {
   "cell_type": "markdown",
   "metadata": {},
   "source": [
    "### <font color='green'>Draw a 3D structure of your favorite molecule encountered in this lab using a smiles string and the `smiles3D()` function. Why is it your favorite?"
   ]
  },
  {
   "cell_type": "code",
   "execution_count": null,
   "metadata": {},
   "outputs": [],
   "source": [
    "smiles3D(...)"
   ]
  },
  {
   "cell_type": "markdown",
   "metadata": {},
   "source": [
    "..."
   ]
  },
  {
   "cell_type": "markdown",
   "metadata": {},
   "source": [
    "## All finished...\n",
    "Run checks and submit .html and .ipynb files after downloading."
   ]
  },
  {
   "cell_type": "code",
   "execution_count": null,
   "metadata": {},
   "outputs": [],
   "source": [
    "# For your convenience, you can run this cell to run all the tests at once!\n",
    "import glob\n",
    "from gofer.ok import check\n",
    "correct = 0\n",
    "checks = [1,'1d', '1e',2,3,4,'5d','5e',11,12,13,14,'14d', 15, '16d']\n",
    "total = len(checks)\n",
    "for x in checks:\n",
    "    print('Testing question {}: '.format(str(x)))\n",
    "    g = check('tests/q{}.py'.format(str(x)))\n",
    "    if g.grade == 1.0:\n",
    "        print(\"Passed\")\n",
    "        correct += 1\n",
    "    else:\n",
    "        print('Failed')\n",
    "        display(g)\n",
    "\n",
    "print('Grade:  {}'.format(str(correct/total)))\n",
    "print(\"Nice work \",Your_name, user)\n",
    "import time;\n",
    "localtime = time.asctime( time.localtime(time.time()) )\n",
    "print(\"Submitted @ \", localtime)"
   ]
  },
  {
   "cell_type": "markdown",
   "metadata": {},
   "source": [
    "---\n",
    "---\n",
    "### <font color='brown'>REFERENCE: k nearest neghbors toolkit\n",
    "---"
   ]
  },
  {
   "cell_type": "code",
   "execution_count": null,
   "metadata": {},
   "outputs": [],
   "source": [
    "trainf, testf = table.split(int(0.80*table.num_rows))\n",
    "print(trainf.num_rows, 'training and', testf.num_rows, 'test instances.')"
   ]
  },
  {
   "cell_type": "code",
   "execution_count": null,
   "metadata": {
    "tags": []
   },
   "outputs": [],
   "source": [
    "def distance(pt1, pt2):\n",
    "    \"\"\"The distance between two points, represented as arrays.\"\"\"\n",
    "    return np.sqrt(sum((pt1 - pt2) ** 2))\n",
    "def row_distance(row1, row2):\n",
    "    \"\"\"The distance between two rows of a table.\"\"\"\n",
    "    return distance(np.array(row1), np.array(row2)) # Need to convert rows into arrays\n",
    "\n",
    "def distances(training, test, target, features):\n",
    "    \"\"\"Compute the distance from test for each row in training.\"\"\"\n",
    "    dists = []\n",
    "    attributes = training.select(features)\n",
    "    for row in attributes.rows:\n",
    "        dists.append(row_distance(row, test))\n",
    "    return training.with_column('Distance', dists)\n",
    "\n",
    "def closest(training, test, k, target, features):\n",
    "    \"\"\"Return a table of the k closest neighbors to example row from test data.\"\"\"\n",
    "    return distances(training, test, target, features).sort('Distance').take(np.arange(k))"
   ]
  },
  {
   "cell_type": "markdown",
   "metadata": {},
   "source": [
    "#### Classification"
   ]
  },
  {
   "cell_type": "code",
   "execution_count": null,
   "metadata": {},
   "outputs": [],
   "source": [
    "def majority(topkclasses):\n",
    "    two = topkclasses.where('Name', are.equal_to(2)).num_rows\n",
    "    one = topkclasses.where('Name', are.equal_to(1)).num_rows\n",
    "    zero = topkclasses.where('Name', are.equal_to(0)).num_rows\n",
    "    if (two> one) and (two > zero):\n",
    "        return 2\n",
    "    elif one>zero:\n",
    "        return 1\n",
    "    else:\n",
    "        return 0\n",
    "def classify(training, new_point, k):\n",
    "    closestk = closest(training, new_point, k,\"Name\")\n",
    "    topkclasses = closestk.select('Name')\n",
    "    return majority(topkclasses)\n",
    "def predict(train, test_attributes, k):\n",
    "    pred = []\n",
    "    for i in np.arange(test_attributes.num_rows):\n",
    "        pred.append(classify(train,test_attributes.row(i),k))\n",
    "    return pred"
   ]
  },
  {
   "cell_type": "markdown",
   "metadata": {},
   "source": [
    "#### Regression"
   ]
  },
  {
   "cell_type": "markdown",
   "metadata": {},
   "source": [
    "Standard Units for features/attributes"
   ]
  },
  {
   "cell_type": "code",
   "execution_count": null,
   "metadata": {},
   "outputs": [],
   "source": [
    "def standard_units(any_array):\n",
    "    \"Convert any array of numbers to standard units.\"\n",
    "    return (any_array - np.mean(any_array))/np.std(any_array)  \n",
    "\n",
    "pKa_s = molecules.select('Name','pKa','smiles')\n",
    "for label in molecules.labels[2:-1]:\n",
    "    print('Standardizing: ',label)\n",
    "    pKa_s = pKa_s.with_columns(label,standard_units(molecules[label]))\n",
    "pKa_s  "
   ]
  },
  {
   "cell_type": "markdown",
   "metadata": {},
   "source": [
    "#### Nearest Neighbor Prediction"
   ]
  },
  {
   "cell_type": "code",
   "execution_count": null,
   "metadata": {},
   "outputs": [],
   "source": [
    "def predict_knn(row, train, test, k=5, pr=0):\n",
    "    \"\"\"Return the predicting value or class among the \n",
    "     k nearest neighbors, pr=1 prints\"\"\"\n",
    "    if pr:\n",
    "            print(f'Predicting target value, {target[0]}, for row = {row} using k={k} with features: {features}')\n",
    "    return np.average(closest(train, test.select(features).row(row), k , target, features).column(target[0]))"
   ]
  },
  {
   "cell_type": "markdown",
   "metadata": {},
   "source": [
    "Alternate weighting of neighbors"
   ]
  },
  {
   "cell_type": "code",
   "execution_count": null,
   "metadata": {},
   "outputs": [],
   "source": [
    "def predict_knn_weighted(example,k):\n",
    "    \"\"\"Return the majority class among the k nearest neighbors.\"\"\"\n",
    "    dist_table = closest(train.drop(0), example, k, 'pKa')    \n",
    "    total_inverse = np.sum(1/dist_table['Distance'])\n",
    "    dist_table=dist_table.with_columns('knn_weighting',(1/dist_table['Distance'])*total_inverse)\n",
    "    sum_weight = np.sum(dist_table['knn_weighting'])\n",
    "    weighted_mean_pKa = np.sum(dist_table['pKa']*dist_table['knn_weighting']/sum_weight)\n",
    "    return weighted_mean_pKa"
   ]
  },
  {
   "cell_type": "code",
   "execution_count": null,
   "metadata": {},
   "outputs": [],
   "source": [
    "def predict_knn_weighted_exp(example,k):\n",
    "    \"\"\"Return the majority class among the k nearest neighbors.\"\"\"\n",
    "    dist_table = closest(train.drop(0), example, k, 'pKa')    \n",
    "    total_exp = np.sum(np.exp(-dist_table['Distance']))\n",
    "    dist_table=dist_table.with_columns('knn_weighting',(np.exp(-dist_table['Distance']))*total_exp)\n",
    "    sum_weight = np.sum(dist_table['knn_weighting'])\n",
    "    weighted_mean_pKa = np.sum(dist_table['pKa']*dist_table['knn_weighting']/sum_weight)\n",
    "    return weighted_mean_pKa"
   ]
  }
 ],
 "metadata": {
  "kernelspec": {
   "display_name": "Python 3 (ipykernel)",
   "language": "python",
   "name": "python3"
  },
  "language_info": {
   "codemirror_mode": {
    "name": "ipython",
    "version": 3
   },
   "file_extension": ".py",
   "mimetype": "text/x-python",
   "name": "python",
   "nbconvert_exporter": "python",
   "pygments_lexer": "ipython3",
   "version": "3.10.11"
  }
 },
 "nbformat": 4,
 "nbformat_minor": 4
}
