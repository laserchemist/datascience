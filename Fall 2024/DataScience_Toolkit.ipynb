{
 "cells": [
  {
   "cell_type": "markdown",
   "id": "669cfeb7-d672-4b8c-8e3e-ba15dd6dc83a",
   "metadata": {},
   "source": [
    "## Elements of Data Science for the Life and Physical Sciences\n",
    "<font color='red'>Data Science Toolkit\n",
    "### Spring 2024"
   ]
  },
  {
   "cell_type": "markdown",
   "id": "ea6a1f25-afab-43ba-b3a5-cf7cc6a196b7",
   "metadata": {},
   "source": [
    "<img src=\"Temple_flag_morn.png\" alt=\"Temple Powered\" style=\"width: 200px;\"/>"
   ]
  },
  {
   "cell_type": "markdown",
   "id": "cfb38a27-9aeb-4da8-87ea-b9a77dfad887",
   "metadata": {},
   "source": [
    "## Resources\n",
    "- [Inferential Thinking Online Text](https://inferentialthinking.com/chapters/intro.html)\n",
    "- [Datascience Table Reference](http://data8.org/datascience/index.html)\n",
    "- [Data Science Primer BETA](https://laserchemist.github.io/dprimer/intro.html)\n",
    "- [EDS Course Website and Resources](https://sites.temple.edu/data/)\n",
    "\n",
    "## Topical Areas\t\n",
    "### Time Trends and Hypothesis Testing"
   ]
  },
  {
   "cell_type": "markdown",
   "id": "a4c5feec-7686-4f66-a4b4-4ac6347103bd",
   "metadata": {},
   "source": [
    "- Time Trend data wrangling [Lab 04 Functions and Visualization](https://temple.2i2c.cloud/hub/user-redirect/lab/tree/datascience/Spring%202024/Lab04/Lab04-update-2024.ipynb)\n",
    "- Changes with time [Lab 7: Inference and Global Climate Change](https://temple.2i2c.cloud/hub/user-redirect/lab/tree/datascience/Spring%202024/Lab07/lab7_statistical_inference-update-2024-v2.ipynb)"
   ]
  },
  {
   "cell_type": "markdown",
   "id": "5afa5524-d8a1-40bc-a4ad-82d529f89821",
   "metadata": {},
   "source": [
    "```python\n",
    "from EDS import *\n",
    "Nobel_October = FilterTdate(Nobel,'10/01/2020','10/31/2021')\n",
    "ptrend(Nobel_October,\"Week\",\"Nobel Prize: (United States)\",fmtdate=\"%b-%Y\")</code>\n",
    "```"
   ]
  },
  {
   "cell_type": "markdown",
   "id": "a73c3d7b-4a3a-4a51-814b-0dad926b1cb7",
   "metadata": {},
   "source": [
    "\n",
    "\n",
    "### Difference of Means and Hypothesis Testing\t\n",
    "\n",
    "-\tHypothesis Testing (Sampling, Simulation)\t\n",
    "- Lab 06 [Link](https://temple.2i2c.cloud/hub/user-redirect/lab/tree/datascience/Spring%202024/Lab06/lab06_simulation-update-2024.ipynb)\n",
    "\n",
    "- Normal Distribution (Mean, Standard Deviation)\t\n",
    "- Lab 08 (Variance of Sample Means and Correlation): [Old Faithful Eruption Data](https://temple.2i2c.cloud/hub/user-redirect/lab/tree/datascience/Fall%202024/Lab08/lab8_Variation%26Correlation-Fall-2024.ipynb)\n",
    "- Testing difference of means: Global warming, difference between 1850 mean temperatures and 2000. [Lab 07](https://temple.2i2c.cloud/hub/user-redirect/lab/tree/datascience/Fall%202024/Lab07/lab7_statistical_inference-Fall-2024.ipynb) \n",
    "\n",
    "\n",
    "### Correlation and Regression\t\n",
    "\n",
    "-\tRegression & Regression Inference\t\n",
    "    - Lab 09 (Regression), See question 6: [Estimation of the Age of the Universe](https://temple.2i2c.cloud/hub/user-redirect/lab/tree/datascience/Fall%202024/Lab09/lab09-AgeUniverse-Update-2024.ipynb)\n",
    "    - EDS Primer see [Regression and Bootstrap Confidence Intervals](https://laserchemist.github.io/dprimer/Regression_bootstrap_CI.html)\n",
    "  - [Bootstrap Confidence Intervals](https://temple.2i2c.cloud/hub/user-redirect/lab/tree/datascience/Fall%202024/Class_Examples/Bootstrap_Confidence_Intervals.ipynb)\n",
    "\n",
    "### Nearest Neighbors Machine Learning\t\n",
    "\n",
    "- Classifiers and Classification\t\n",
    "- Lab 10 (Machine Learning, Classification, & Chemistry): Alcohol boiling and Molecular Acidity Prediction [link](https://temple.2i2c.cloud/hub/user-redirect/lab/tree/datascience/Fall%202024/Lab10/Machine%20Learning%20and%20Chemistry-Fall-2024.ipynb)\n",
    "- EDS Primer see [k-Nearest Neighbor Classification](https://laserchemist.github.io/dprimer/k-Nearest_Neighbors_classification.html)\n",
    "- EDS Primer see [k-Nearest Neighbor Regression](https://laserchemist.github.io/dprimer/k-Nearest_Neighbors_multiple_regression.html)\n",
    "- Nearest neighbors [Chronic Kidney Disease classification example](https://temple.2i2c.cloud/hub/user-redirect/lab/tree/datascience/Fall%202024/Class_Examples/Class024_knn%20kidney%20disease.ipynb)\n",
    "\n"
   ]
  },
  {
   "cell_type": "markdown",
   "id": "05294457-e58a-4cb1-8fb8-a0a914af316c",
   "metadata": {},
   "source": [
    "### Data Wrangling\n",
    "- Converting text or date/time data columns to new columns with numerical hours, month number, etc. [Data Science Primer](https://laserchemist.github.io/dprimer/string_to_number.html)\n",
    "- .group\n",
    "    - [Inferential Thinking](https://inferentialthinking.com/chapters/07/1/Visualizing_Categorical_Distributions.html?highlight=group#grouping-categorical-data)\n",
    "    - [Olympics mini-project](https://temple.2i2c.cloud/hub/user-redirect/lab/tree/datascience/Spring%202024/Mini%20Project%20I/Olympics_miniproject.ipynb)"
   ]
  },
  {
   "cell_type": "markdown",
   "id": "56726e77-4ce9-438a-bd17-38ed533b1e01",
   "metadata": {},
   "source": [
    "### Data Visualization\n",
    "- [Inferential thinking](https://inferentialthinking.com/chapters/07/Visualization.html)\n",
    "- [Mapping data using datscience Table data](http://www.data8.org/datascience/maps.html)"
   ]
  }
 ],
 "metadata": {
  "kernelspec": {
   "display_name": "Python 3 (ipykernel)",
   "language": "python",
   "name": "python3"
  },
  "language_info": {
   "codemirror_mode": {
    "name": "ipython",
    "version": 3
   },
   "file_extension": ".py",
   "mimetype": "text/x-python",
   "name": "python",
   "nbconvert_exporter": "python",
   "pygments_lexer": "ipython3",
   "version": "3.10.11"
  }
 },
 "nbformat": 4,
 "nbformat_minor": 5
}
