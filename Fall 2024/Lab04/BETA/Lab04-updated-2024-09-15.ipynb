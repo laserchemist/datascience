{
 "cells": [
  {
   "cell_type": "markdown",
   "metadata": {},
   "source": [
    "# Lab 04 Functions and Visualization\n",
    "\n",
    "<i>Elements of Data Science</i><br><br>\n",
    "Welcome to lab 4!\n",
    "This week, we will focus on functions and visualization. <br>Functions are described in [Chapter 8](https://inferentialthinking.com/chapters/08/Functions_and_Tables.html) of the Inferential Thinking text. <br>Visualizations is covered in [Chapter 7](https://inferentialthinking.com/chapters/07/Visualization.html).\n",
    "<br>**<center>Learning Goals**\n",
    "|Area|Concept|\n",
    "|---|---|\n",
    "|Tables|Load and analyze data sets. |\n",
    "|Time Trends|Using EDS module to examine and plot time trends in datascience Tables|\n",
    "|Visualization|Line plot and scatter plots using matplotlib and `EDS.ptrend`\n",
    "|Functions|Learn to define your own functions and apply them to arrays and Table columns|"
   ]
  },
  {
   "cell_type": "markdown",
   "metadata": {},
   "source": [
    "First, set up the tests and imports by running the cell below."
   ]
  },
  {
   "cell_type": "code",
   "execution_count": null,
   "metadata": {},
   "outputs": [],
   "source": [
    "# Enter your name as a string\n",
    "name = ..."
   ]
  },
  {
   "cell_type": "code",
   "execution_count": null,
   "metadata": {
    "tags": []
   },
   "outputs": [],
   "source": [
    "import numpy as np\n",
    "from datascience import *\n",
    "%matplotlib inline\n",
    "import matplotlib.pyplot as plt\n",
    "plt.style.use('ggplot')\n",
    "import matplotlib.dates as mdates\n",
    "from matplotlib import ticker\n",
    "from gofer.ok import check # This line loads the tests.\n",
    "import os\n",
    "user = os.getenv('JUPYTERHUB_USER')\n",
    "from EDS import *"
   ]
  },
  {
   "cell_type": "markdown",
   "metadata": {},
   "source": [
    "### Let's explore the most recent COVID data from the New York Times\n",
    "This data is updated and stored at GitHub: https://github.com/nytimes/covid-19-data <br>\n",
    "US rolling average: https://raw.githubusercontent.com/nytimes/covid-19-data/master/rolling-averages/us.csv <br>\n",
    "US States rolling average: https://raw.githubusercontent.com/nytimes/covid-19-data/master/rolling-averages/us-states.csv <br>\n",
    "US Wastewater Surveillance: [https://covid.cdc.gov/covid-data-tracker/#wastewater-surveillance](https://covid.cdc.gov/covid-data-tracker/#wastewater-surveillance) "
   ]
  },
  {
   "cell_type": "code",
   "execution_count": null,
   "metadata": {
    "tags": []
   },
   "outputs": [],
   "source": [
    "# Set a variable to contain the path to the data file on the internet.\n",
    "# us.csv is a CSV file, which stands for \"comma separated variables,\" which\n",
    "# is a common human-readable for format for data files.\n",
    "COVID_data = 'https://raw.githubusercontent.com/nytimes/covid-19-data/master/rolling-averages/us.csv'"
   ]
  },
  {
   "cell_type": "code",
   "execution_count": null,
   "metadata": {
    "tags": []
   },
   "outputs": [],
   "source": [
    "# Read the data file into a data table assigned the name \"COVID\"\n",
    "COVID = Table.read_table(COVID_data)"
   ]
  },
  {
   "cell_type": "code",
   "execution_count": null,
   "metadata": {
    "tags": []
   },
   "outputs": [],
   "source": [
    "# Show data table show() method to display the first three rows of the data table\n",
    "COVID.show(3)"
   ]
  },
  {
   "cell_type": "markdown",
   "metadata": {},
   "source": [
    "Now we can sort the data by date. Since the data starts at the beginning of the pandemic we see very few cases."
   ]
  },
  {
   "cell_type": "code",
   "execution_count": null,
   "metadata": {
    "tags": []
   },
   "outputs": [],
   "source": [
    "# Sort the data on the date column\n",
    "# Display oldest data first using the decending=False option\n",
    "COVID.sort(\"date\", descending=False)"
   ]
  },
  {
   "cell_type": "markdown",
   "metadata": {},
   "source": [
    "Try sorting the data by cases to find the date with the highest number of cases. Hint: use the above code as a model and replace the \"date\" with \"cases\" and adjust the descending=? to get the largest number at the top."
   ]
  },
  {
   "cell_type": "code",
   "execution_count": null,
   "metadata": {},
   "outputs": [],
   "source": [
    "COVID.sort('cases', descending=True)"
   ]
  },
  {
   "cell_type": "markdown",
   "metadata": {
    "tags": []
   },
   "source": [
    "### <font color=blue> **What do you observe?** </font>\n",
    "Replace the ... lines with as many lines of text as you need for your answer. Leave the lines with \"\"\" unchanged."
   ]
  },
  {
   "cell_type": "code",
   "execution_count": null,
   "metadata": {
    "tags": []
   },
   "outputs": [],
   "source": [
    "q1_answer = \"\"\"\n",
    "...\n",
    "\"\"\""
   ]
  },
  {
   "cell_type": "code",
   "execution_count": null,
   "metadata": {
    "tags": []
   },
   "outputs": [],
   "source": [
    "check('tests/q1_open_ended.py')"
   ]
  },
  {
   "cell_type": "markdown",
   "metadata": {},
   "source": [
    "### Use where to select data from November - December 2021\n",
    "Here are the possible arguments for the <i>where</i> Table method:<br>\n",
    "\n",
    "|Predicate|Example|Result|\n",
    "|-|-|-|\n",
    "|`are.equal_to`|`are.equal_to(50)`|Find rows with values equal to 50|\n",
    "|`are.not_equal_to`|`are.not_equal_to(50)`|Find rows with values not equal to 50|\n",
    "|`are.above`|`are.above(50)`|Find rows with values above (and not equal to) 50|\n",
    "|`are.above_or_equal_to`|`are.above_or_equal_to(50)`|Find rows with values above 50 or equal to 50|\n",
    "|`are.below`|`are.below(50)`|Find rows with values below 50|\n",
    "|`are.between`|`are.between(2, 10)`|Find rows with values above or equal to 2 and below 10|"
   ]
  },
  {
   "cell_type": "code",
   "execution_count": null,
   "metadata": {
    "tags": []
   },
   "outputs": [],
   "source": [
    "# Apply the where() method to filter the data table. Only rows where \n",
    "# the condition is true are returned.\n",
    "COVID.where(\"deaths\",are.between(0,1))"
   ]
  },
  {
   "cell_type": "markdown",
   "metadata": {},
   "source": [
    "One way to select a particular date we can use where with the appropriate strings to select certain dates, for example for January of 2021 we can use the below code. Let's think about how this works:\n",
    "\n",
    "**We want only the year 2021,** so we can use the are.containing() method on the \"date\" column to only return rows where the data string contains \"2021\"."
   ]
  },
  {
   "cell_type": "code",
   "execution_count": null,
   "metadata": {
    "tags": []
   },
   "outputs": [],
   "source": [
    "COVID.where('date', are.containing(\"2021\"))"
   ]
  },
  {
   "cell_type": "markdown",
   "metadata": {},
   "source": [
    "But this returns all of the dates in the year 2021. **We only want January.** So what if we try this?"
   ]
  },
  {
   "cell_type": "code",
   "execution_count": null,
   "metadata": {
    "tags": []
   },
   "outputs": [],
   "source": [
    "COVID.where('date', are.containing(\"-01-\"))"
   ]
  },
  {
   "cell_type": "markdown",
   "metadata": {},
   "source": [
    "This returned all of the rows in the table containing \"-01-\" so we got the month of January, but all the years!\n",
    "We need both filters. **We can \"chain\" the filters together.** They will be executed from left to right. \n",
    "* First, we filter the date column for the year 2021.\n",
    "* Second, we filter the result for the month of January."
   ]
  },
  {
   "cell_type": "code",
   "execution_count": null,
   "metadata": {
    "tags": []
   },
   "outputs": [],
   "source": [
    "# Return only the rows with dates in January, 2021.\n",
    "COVID.where('date', are.containing(\"2021\")).where('date', are.containing(\"-01-\"))"
   ]
  },
  {
   "cell_type": "markdown",
   "metadata": {},
   "source": [
    "#### Time Trends and Dates with Data Science Tables"
   ]
  },
  {
   "cell_type": "markdown",
   "metadata": {},
   "source": [
    "We will use the EDS module to handle dates in Tables. The EDS module is just a collection of predefined functions\n",
    "to save you writing the same code over and over. Later on, you'll learn how to write your own functions.\n",
    "\n",
    "There are two tasks which we will carry out with the COVID after introducing and approach to select a date range and create a plot of the data over time.\n",
    "1. Filter the Table between two dates, use `FilterTdate(tbl_variable,'01/01/2020','02/01/2021')`\n",
    "2. Plot a time trend using EDS, use `ptrend(tbl_variable,\"date\",\"deaths_avg_per_100k\",fmtdate=\"%b-%Y\")`"
   ]
  },
  {
   "cell_type": "markdown",
   "metadata": {},
   "source": [
    "#### Examples\n",
    "Using the 5 year Google Trend search volume for Chemistry, Biology, and Nobel Prize. Note the similarity of the 'Week' column to the COVID 'date' column."
   ]
  },
  {
   "cell_type": "code",
   "execution_count": null,
   "metadata": {
    "tags": []
   },
   "outputs": [],
   "source": [
    "# Like before, we read a CSV file.\n",
    "Nobel = Table().read_table(\"ChemBioNobelTrend.csv\") # 5 years data\n",
    "Nobel"
   ]
  },
  {
   "cell_type": "markdown",
   "metadata": {
    "tags": []
   },
   "source": [
    "#### Use the FilterTDate function from the EDS module.\n",
    "The function expects you to provide a table name along with the start and end dates.\n",
    "It will return a new table with only the rows in the date range you specified."
   ]
  },
  {
   "cell_type": "code",
   "execution_count": null,
   "metadata": {},
   "outputs": [],
   "source": [
    "Nobel_October = FilterTdate(Nobel, '10/01/2020', '10/31/2021')"
   ]
  },
  {
   "cell_type": "markdown",
   "metadata": {
    "tags": []
   },
   "source": [
    "#### Use ptrend (short for plot trend) to plot this data.\n",
    "This function expects you to provide a table name, and the x and y column names\n",
    "Optionally, you can format the dates on the x-axis\n",
    "fmtdate=\"%b-%Y\" tell it to use short-version month names (%b), hyphen, then year (%Y).\n"
   ]
  },
  {
   "cell_type": "code",
   "execution_count": null,
   "metadata": {},
   "outputs": [],
   "source": [
    "ptrend(Nobel_October,\"Week\",\"Nobel Prize: (United States)\",1.0,fmtdate=\"%b-%d-%Y\")"
   ]
  },
  {
   "cell_type": "markdown",
   "metadata": {
    "tags": []
   },
   "source": [
    "### <font color=blue> **Question 1. Tools for examining time trend data** </font>\n",
    "In preparing to look at COVID data we will first plot Chemistry and Biology [Google Trend](https://trends.google.com/trends/) search volumes for the five year period included in the Nobel data above. The Google Trend data gives the relative search volume as a function of day or week over a time period. An example of Google Trend data is searching for the trend of Turkey, Thanksgiving and Football as shown below.\n",
    "\n",
    "![Turkey Google Trend](turkey_trend.png \"Turkey Google Trend\")\n",
    "\n",
    "Examine this data for the Nobel prize and Biology. Nobel prizes are announced early October annually and awarded December 10 at 7:00 AM in honor of Alfred Nobel's death."
   ]
  },
  {
   "cell_type": "markdown",
   "metadata": {},
   "source": [
    "**Chemistry**<br>\n",
    "Use column labeled, `'Chemistry: (United States)'` to plot Chemistry Nobel prize search volume in `Nobel` Table"
   ]
  },
  {
   "cell_type": "code",
   "execution_count": null,
   "metadata": {},
   "outputs": [],
   "source": [
    "# Replace the ... with column name.\n",
    "# Use the example above as a model."
   ]
  },
  {
   "cell_type": "code",
   "execution_count": null,
   "metadata": {},
   "outputs": [],
   "source": [
    "ptrend(Nobel,\"Week\", ...,fmtdate=\"%b-%Y\")"
   ]
  },
  {
   "cell_type": "code",
   "execution_count": null,
   "metadata": {},
   "outputs": [],
   "source": [
    "ptrend(Nobel,\"Week\",'Chemistry: (United States)',fmtdate=\"%b-%Y\")"
   ]
  },
  {
   "cell_type": "markdown",
   "metadata": {},
   "source": [
    "**Biology**"
   ]
  },
  {
   "cell_type": "code",
   "execution_count": null,
   "metadata": {},
   "outputs": [],
   "source": [
    "# Now try filling in all of the missing fuction arguments.\n",
    "# This time plotting Biology Nobel prize winners.\n",
    "ptrend(...)"
   ]
  },
  {
   "cell_type": "markdown",
   "metadata": {},
   "source": [
    "Next we will create a new table which is subset of the original Table containing only data for 2023."
   ]
  },
  {
   "cell_type": "code",
   "execution_count": null,
   "metadata": {
    "tags": []
   },
   "outputs": [],
   "source": [
    "# Note the use of the FilterTdate() method to create a new table with\n",
    "# just the specified date range."
   ]
  },
  {
   "cell_type": "code",
   "execution_count": null,
   "metadata": {},
   "outputs": [],
   "source": [
    "Nobel_2023 = FilterTdate(Nobel,'01/01/2023','12/31/2023')\n",
    "Nobel_2023"
   ]
  },
  {
   "cell_type": "markdown",
   "metadata": {},
   "source": [
    "**Biology in 2023**\n",
    "Now plot the data just for 2023 using the new table `Nobel_2023`"
   ]
  },
  {
   "cell_type": "code",
   "execution_count": null,
   "metadata": {},
   "outputs": [],
   "source": [
    "# Fill in all three arguments: table, x-column name and y-column name"
   ]
  },
  {
   "cell_type": "code",
   "execution_count": null,
   "metadata": {},
   "outputs": [],
   "source": [
    "testcheck = ptrend(...,...,...,fmtdate=\"%b-%Y\")\n",
    "testcheck"
   ]
  },
  {
   "cell_type": "code",
   "execution_count": null,
   "metadata": {},
   "outputs": [],
   "source": [
    "testcheck = ptrend(Nobel_2023,'Week','Biology: (United States)',fmtdate=\"%b-%Y\")"
   ]
  },
  {
   "cell_type": "code",
   "execution_count": null,
   "metadata": {},
   "outputs": [],
   "source": [
    "check('tests/q1new.py')"
   ]
  },
  {
   "cell_type": "markdown",
   "metadata": {},
   "source": [
    "### <font color=blue> **Question 2. Back to COVID Data Analysis** </font><br />\n",
    "Now let's create and look at late 2023 COVID data. Now use the Nobel example above to define a subset of the data to examine trends during all of November and December of 2021."
   ]
  },
  {
   "cell_type": "code",
   "execution_count": null,
   "metadata": {
    "tags": []
   },
   "outputs": [],
   "source": [
    "COVID # Complete COVID data from above"
   ]
  },
  {
   "cell_type": "markdown",
   "metadata": {},
   "source": [
    "#### Follow the example above but filter on the date range\n",
    "from the start of November to the end of December. <br>Remember above we used the following code to limit Nobel prize data to 2023:<br>\n",
    "`Nobel_2023 = FilterTdate(Nobel,'01/01/2023','12/31/2023')`"
   ]
  },
  {
   "cell_type": "code",
   "execution_count": null,
   "metadata": {},
   "outputs": [],
   "source": [
    "Late2021 = FilterTdate(...)\n",
    "Late2021"
   ]
  },
  {
   "cell_type": "code",
   "execution_count": null,
   "metadata": {},
   "outputs": [],
   "source": [
    "Late2021 = FilterTdate(...)\n",
    "Late2021"
   ]
  },
  {
   "cell_type": "code",
   "execution_count": null,
   "metadata": {},
   "outputs": [],
   "source": [
    "check('tests/q2new.py')"
   ]
  },
  {
   "cell_type": "markdown",
   "metadata": {},
   "source": [
    "### Plot\n",
    "If we attempt to plot using the 'date' column the bottom axis has starnge numbers which are multiplied by 1e9 ($1\\cdot 10^9$) as shown in the lower right corner of the plot. These are the number of seconds from the epoch (January 1, 1970).  Another name for this time unit is UNIX time which has an [interesting history](https://en.wikipedia.org/wiki/Unix_time#:~:text=History,-Learn%20more&text=The%20earliest%20versions%20of%20Unix,two%20and%20a%20quarter%20years.). This unit of time is a way that is convenient for computers to store time as an integer but not at all convenient for us as data scientists! Using the `EDS.ptrend` function will alleviate this problem."
   ]
  },
  {
   "cell_type": "code",
   "execution_count": null,
   "metadata": {},
   "outputs": [],
   "source": [
    "# This example uses the built in plot() method of data tables,\n",
    "# the date is in seconds -- not very human-friendly.\n",
    "# The datatables module wasn't created with time series data in mind.\n",
    "Late2021.plot(\"date\", \"cases_avg_per_100k\")"
   ]
  },
  {
   "cell_type": "markdown",
   "metadata": {},
   "source": [
    "#### Now use ptrend"
   ]
  },
  {
   "cell_type": "code",
   "execution_count": null,
   "metadata": {},
   "outputs": [],
   "source": [
    "# The ptrend() method using dates -- much nicer!\n",
    "ptrend(Late2021,\"date\",\"cases_avg_per_100k\",fmtdate=\"%b-%Y\")"
   ]
  },
  {
   "cell_type": "markdown",
   "metadata": {},
   "source": [
    "#### Now change format to get days\n",
    "This is in the last part, `fmtdate=\"%b-%Y\"` This type of format string is common in coding and this particular one relates to a variety of codes for parts of a date.\n",
    "|Code|What|Example|\n",
    "|---|---|---|\n",
    "|%b|Month abbreviated|Dec|\n",
    "|%B|Month|December|\n",
    "|%y|Year abbreviated|24|\n",
    "|%Y|Year|2024|\n",
    "|%d|Day of month|06|\n",
    "|%a|Weekday abbreviated|Fri|\n",
    "|%A|Weekday|Friday|\n",
    "|%j|Day number 001-366|143|\n",
    "|%W|Week number of year|41|\n",
    "|%H|Hour of day (24)|17|\n",
    "|%h|Hour of day (12)|5|\n"
   ]
  },
  {
   "cell_type": "markdown",
   "metadata": {},
   "source": [
    "**Now get ptrend to plot using month-day-year format**. This is helpful since we are now only looking at two months, the day becomes more important."
   ]
  },
  {
   "cell_type": "markdown",
   "metadata": {},
   "source": [
    "**Use ptrend to plot figure with the correct date format.**"
   ]
  },
  {
   "cell_type": "code",
   "execution_count": null,
   "metadata": {},
   "outputs": [],
   "source": [
    "ptrend(Late2021,\"date\",\"cases_avg_per_100k\",fmtdate=\"...\")"
   ]
  },
  {
   "cell_type": "markdown",
   "metadata": {},
   "source": [
    "### Histogram\n",
    "Many of the matplotlib plot are available as methods availabe to data tables. A histogram method, for example, is realized by appending .hist('column name')"
   ]
  },
  {
   "cell_type": "markdown",
   "metadata": {},
   "source": [
    "**Data tables have a built-in histogram method, `.hist()`**"
   ]
  },
  {
   "cell_type": "code",
   "execution_count": null,
   "metadata": {},
   "outputs": [],
   "source": [
    "Late2021.hist('deaths')"
   ]
  },
  {
   "cell_type": "markdown",
   "metadata": {},
   "source": [
    "We can also access summary statistics for the datascience table"
   ]
  },
  {
   "cell_type": "code",
   "execution_count": null,
   "metadata": {},
   "outputs": [],
   "source": [
    "Late2021.stats()"
   ]
  },
  {
   "cell_type": "markdown",
   "metadata": {},
   "source": [
    "### <font color=blue> **Question 3.** </font><br />\n",
    "Construct a histogram and stats for November - December 2020 and compare this to those from November - December 2021 in a markdown cell below the histogram and statistics."
   ]
  },
  {
   "cell_type": "markdown",
   "metadata": {},
   "source": [
    "**Filter the orginal data for this data range, just like you did for 2021 in `Late2021`**"
   ]
  },
  {
   "cell_type": "code",
   "execution_count": null,
   "metadata": {},
   "outputs": [],
   "source": [
    "Late2020 = ...\n",
    "Late2020"
   ]
  },
  {
   "cell_type": "markdown",
   "metadata": {},
   "source": [
    "The `.hist()` Table method has additional arguments to get more bins and change the range for the histogram among other arguments as shown below."
   ]
  },
  {
   "cell_type": "code",
   "execution_count": null,
   "metadata": {},
   "outputs": [],
   "source": [
    "Late2020.hist('deaths',bins = 30, range =[0,4000])\n",
    "Late2021.hist('deaths', bins = 30, range =[0,4000])"
   ]
  },
  {
   "cell_type": "markdown",
   "metadata": {},
   "source": [
    "#### <font color=blue> Write your comparison between Late2020 and Late2021 histograms in the cell below.\n",
    "Replace the ... lines with as many lines of text as you need for your answer. Leave the lines with \"\"\" unchanged."
   ]
  },
  {
   "cell_type": "code",
   "execution_count": null,
   "metadata": {
    "tags": []
   },
   "outputs": [],
   "source": [
    "q3_answer = \"\"\"\n",
    "...\n",
    "...\n",
    "\"\"\""
   ]
  },
  {
   "cell_type": "code",
   "execution_count": null,
   "metadata": {
    "tags": []
   },
   "outputs": [],
   "source": [
    "check('tests/q3_open_ended.py')"
   ]
  },
  {
   "cell_type": "markdown",
   "metadata": {},
   "source": [
    "### <font color=blue> **Question 4.** </font><br />\n",
    "Now use the EDS `ptrend()` function plot your Late2020 data and then the Late2021."
   ]
  },
  {
   "cell_type": "code",
   "execution_count": null,
   "metadata": {},
   "outputs": [],
   "source": [
    "ptrend(...)"
   ]
  },
  {
   "cell_type": "code",
   "execution_count": null,
   "metadata": {},
   "outputs": [],
   "source": [
    "ptrend(...)"
   ]
  },
  {
   "cell_type": "markdown",
   "metadata": {},
   "source": [
    "#### <font color=blue> Write your comparison in the cell below. </font>\n",
    "In the cell below, describe the differences in the line graphs between 2020 and 2021.  \n",
    "Replace the ... lines with as many lines of text as you need for your answer. Leave the lines with \"\"\" unchanged."
   ]
  },
  {
   "cell_type": "code",
   "execution_count": null,
   "metadata": {
    "tags": []
   },
   "outputs": [],
   "source": [
    "q4_answer = \"\"\"\n",
    "...\n",
    "...\n",
    "\"\"\""
   ]
  },
  {
   "cell_type": "code",
   "execution_count": null,
   "metadata": {
    "tags": []
   },
   "outputs": [],
   "source": [
    "check('tests/q4_open_ended.py')"
   ]
  },
  {
   "cell_type": "markdown",
   "metadata": {},
   "source": [
    "## 2. Defining functions\n",
    "\n",
    "Functions return a value(s) for values of one or more variables or arguments. In algebra we develop the concept of functions such as the following:\n",
    "$$ f(x) = 3 \\cdot x-5 $$\n",
    "If we substitute the value:\n",
    "$$ x = 3$$\n",
    "$$f(3) = 3 \\cdot 3-5 = 4$$\n",
    "\n",
    "This function can be coded in Python in the following straightforward way:\n",
    "```python\n",
    "def f(x):\n",
    "    result = 3*x - 5\n",
    "    return result\n",
    "```\n",
    "To compute the value of the function f(x) at x = 3:\n",
    "```python\n",
    "f(3)\n",
    "4\n",
    "```"
   ]
  },
  {
   "cell_type": "markdown",
   "metadata": {},
   "source": [
    "### <font color=blue> **Question 5A.** </font>"
   ]
  },
  {
   "cell_type": "markdown",
   "metadata": {},
   "source": [
    "Define a Python function for the following algebraic function:\n",
    "$$ f(x) = 2 \\cdot x + 5 $$"
   ]
  },
  {
   "cell_type": "code",
   "execution_count": null,
   "metadata": {},
   "outputs": [],
   "source": [
    "def f(x):\n",
    "    ...\n",
    "    return ..."
   ]
  },
  {
   "cell_type": "markdown",
   "metadata": {},
   "source": [
    "Use your function to evaluate the function f(x) at x = 4"
   ]
  },
  {
   "cell_type": "code",
   "execution_count": null,
   "metadata": {},
   "outputs": [],
   "source": [
    "f(...) # test function"
   ]
  },
  {
   "cell_type": "code",
   "execution_count": null,
   "metadata": {},
   "outputs": [],
   "source": [
    "check('tests/q5a.py')"
   ]
  },
  {
   "cell_type": "code",
   "execution_count": null,
   "metadata": {
    "tags": []
   },
   "outputs": [],
   "source": [
    "def f(x):\n",
    "    return 2 * x + 5"
   ]
  },
  {
   "cell_type": "markdown",
   "metadata": {},
   "source": [
    "Note something special. If you call the function with an input parameter that contains multiple values, such as an array, it will compute the function on all of those values automatically. How cool is that?"
   ]
  },
  {
   "cell_type": "code",
   "execution_count": null,
   "metadata": {
    "tags": []
   },
   "outputs": [],
   "source": [
    "some_numbers = make_array(1, 3, 5, 7, 9)\n",
    "f(some_numbers)"
   ]
  },
  {
   "cell_type": "markdown",
   "metadata": {},
   "source": [
    "### Visualizing functions\n",
    "We can use the matplotlib plot function to visualize your above function. In the EDS module there is a function to plot functions which takes three arguments, the function name, the x axis range, the y axis range. The axis range is given as a list with the minimum and maximum values given, [-5,5] provide the range from -5 to 5."
   ]
  },
  {
   "cell_type": "code",
   "execution_count": null,
   "metadata": {
    "tags": []
   },
   "outputs": [],
   "source": [
    "EDS.fplot(f,[-10,10],[-10,10])"
   ]
  },
  {
   "cell_type": "code",
   "execution_count": null,
   "metadata": {
    "tags": []
   },
   "outputs": [],
   "source": [
    "EDS.fplot(f,[-20,20],[-20,20])"
   ]
  },
  {
   "cell_type": "markdown",
   "metadata": {},
   "source": [
    "#### New function\n",
    "The below function, g(x), is a quadratic function whose plotted shape is known as a parabola. See the [OpenStax Algebra text](https://openstax.org/books/algebra-and-trigonometry-2e/pages/5-1-quadratic-functions) for more detailed information.\n",
    "$$ g(x) = x^2 $$"
   ]
  },
  {
   "cell_type": "code",
   "execution_count": null,
   "metadata": {
    "tags": []
   },
   "outputs": [],
   "source": [
    "def g(x):\n",
    "    result = x**2\n",
    "    return result"
   ]
  },
  {
   "cell_type": "code",
   "execution_count": null,
   "metadata": {
    "tags": []
   },
   "outputs": [],
   "source": [
    "EDS.fplot(g,[-10,10],[-10,10])"
   ]
  },
  {
   "cell_type": "markdown",
   "metadata": {},
   "source": [
    "<font color='green'>Now create a new version of the above g(x) function that shifts the function downward by 4 units on the y-axis as in the figure below.</font><br>\n",
    "<img src='parabola.png' style=\"width:550px;\"/>\n"
   ]
  },
  {
   "cell_type": "code",
   "execution_count": null,
   "metadata": {},
   "outputs": [],
   "source": [
    "def g(x):\n",
    "    result = ...\n",
    "    return result"
   ]
  },
  {
   "cell_type": "code",
   "execution_count": null,
   "metadata": {},
   "outputs": [],
   "source": [
    "g(...) # test function"
   ]
  },
  {
   "cell_type": "code",
   "execution_count": null,
   "metadata": {},
   "outputs": [],
   "source": [
    "EDS.fplot(g,[-10,10],[-10,10])"
   ]
  },
  {
   "cell_type": "code",
   "execution_count": null,
   "metadata": {},
   "outputs": [],
   "source": [
    "check('tests/q5ab.py')"
   ]
  },
  {
   "cell_type": "markdown",
   "metadata": {},
   "source": [
    "### Simple Percentage Function Example\n",
    "Let's write a very simple function that converts a proportion to a percentage by multiplying it by 100.  For example, the value of `to_percentage(.5)` should be the number 50.  (No percent sign.)\n",
    "\n",
    "A function definition has a few parts.\n",
    "\n",
    "##### `def`\n",
    "It always starts with `def` (short for **def**ine):\n",
    "\n",
    "    def\n",
    "\n",
    "##### Name\n",
    "Next comes the name of the function.  Let's call our function `to_percentage`.\n",
    "    \n",
    "    def to_percentage\n",
    "\n",
    "##### Signature\n",
    "Next comes something called the *signature* of the function.  This tells Python how many arguments your function should have, and what names you'll use to refer to those arguments in the function's code.  `to_percentage` should take one argument, and we'll call that argument `proportion` since it should be a proportion.\n",
    "    '''\n",
    "    def to_percentage(proportion)\n",
    "    '''\n",
    "\n",
    "We put a colon after the signature to tell Python it's over.\n",
    "\n",
    "    def to_percentage(proportion):\n",
    "\n",
    "##### Documentation\n",
    "Functions can do complicated things, so you should write an explanation of what your function does.  For small functions, this is less important, but it's a good habit to learn from the start.  Conventionally, Python functions are documented by writing a triple-quoted string:\n",
    "\n",
    "    def to_percentage(proportion):\n",
    "        \"\"\"Converts a proportion to a percentage.\"\"\"\n",
    "    \n",
    "    \n",
    "##### Body\n",
    "Now we start writing code that runs when the function is called.  This is called the *body* of the function.  We can write anything we could write anywhere else.  First let's give a name to the number we multiply a proportion by to get a percentage. Note that all of the lines of code in the body of the function must be indented by the same amount, typically four spaces. Python knows it has reached the end of the function when the indentation stops.\n",
    "\n",
    "    def to_percentage(proportion):\n",
    "        \"\"\"Converts a proportion to a percentage.\"\"\"\n",
    "        factor = 100\n",
    "\n",
    "##### `return`\n",
    "The special instruction `return` in a function's body tells Python to make the value of the function call equal to whatever comes right after `return`. The function will *return* that value to the main body of the code. We want the value of `to_percentage(.5)` to be the proportion .5 times the factor 100, so we write:\n",
    "\n",
    "    def to_percentage(proportion):\n",
    "        \"\"\"Converts a proportion to a percentage.\"\"\"\n",
    "        factor = 100\n",
    "        return proportion * factor"
   ]
  },
  {
   "cell_type": "markdown",
   "metadata": {},
   "source": [
    "### <font color=blue> **Question 5B.** </font>\n",
    "\n",
    "Define `to_percentage` in the cell below.  Call your function to convert the proportion 0.20 to a percentage.  Name that percentage `twenty_percent`."
   ]
  },
  {
   "cell_type": "code",
   "execution_count": null,
   "metadata": {},
   "outputs": [],
   "source": [
    "def ...\n",
    "    \"\"\" ... \"\"\"\n",
    "    ... = ...\n",
    "    return ..."
   ]
  },
  {
   "cell_type": "code",
   "execution_count": null,
   "metadata": {},
   "outputs": [],
   "source": [
    "twenty_percent = ...\n",
    "twenty_percent"
   ]
  },
  {
   "cell_type": "code",
   "execution_count": null,
   "metadata": {
    "tags": []
   },
   "outputs": [],
   "source": [
    "check('tests/q5b.py')"
   ]
  },
  {
   "cell_type": "markdown",
   "metadata": {},
   "source": [
    "Write a second function which computes the density of an ideal gas off a given molecular weight, temperature, pressure. \n",
    "$$ PV = nRT $$\n",
    "$$ \\frac{n}{V} = \\frac{P}{RT} $$\n",
    "To convert to grams from number of moles we use the molecular mass, $ M $. <br>Water has a molecular mass of $ M = 18.0 \\frac{g}{mol}$ <br>\n",
    "density is given the symbol $\\rho $ and has units of $ \\frac{g}{L} $ <br><br>\n",
    "$$  \\rho = \\frac{M\\cdot P}{R\\cdot T} $$\n",
    "\n"
   ]
  },
  {
   "cell_type": "code",
   "execution_count": null,
   "metadata": {},
   "outputs": [],
   "source": [
    "def density(P, T, M):\n",
    "    \"\"\"  ...    \"\"\"   \n",
    "    R = 0.082057\n",
    "    ...\n",
    "    ...\n",
    "    return ..."
   ]
  },
  {
   "cell_type": "markdown",
   "metadata": {},
   "source": [
    "Test the function by calculating the density of water vapor (gas, $ M = 18.0 \\frac{g}{mol}$ ) at 1 atm and 298 K. R is the gas constant.<br> $$ R = 0.082057 $$"
   ]
  },
  {
   "cell_type": "code",
   "execution_count": null,
   "metadata": {},
   "outputs": [],
   "source": [
    "# Substitute values for P, T, and M\n",
    "density(...,...,...)"
   ]
  },
  {
   "cell_type": "code",
   "execution_count": null,
   "metadata": {},
   "outputs": [],
   "source": []
  },
  {
   "cell_type": "markdown",
   "metadata": {},
   "source": [
    "Now create an array with temperatures in Kelvin from freezing, 273.15, to 313 ($40^\\circ$ C) in 1.0 degree steps With the array, create a new array using the above `density` function. Make a scatter plot of these arrays."
   ]
  },
  {
   "cell_type": "code",
   "execution_count": null,
   "metadata": {},
   "outputs": [],
   "source": []
  },
  {
   "cell_type": "markdown",
   "metadata": {},
   "source": [
    "Matplotlib can generate a variety of figures and given how we initialize it in this lab is referenced with the plt. prefix. The traditional .plot() is also known as a line plot. A scatter plot is useful for exploring the relationship bewteen two or more variables and uses markers for data points. Matplotlib takes one or more numpy arrays as arguments to plot. Matplotlib can also use lists as arguments.  An example is shown below."
   ]
  },
  {
   "cell_type": "code",
   "execution_count": null,
   "metadata": {},
   "outputs": [],
   "source": [
    "x = np.array([3, 8, 5, 6, 1, 9, 6, 7, 2, 1, 8])\n",
    "y = np.array([4, 5, 2, 4, 6, 1, 4, 6, 5, 2, 3])\n",
    "color = \"red\"\n",
    "plt.scatter(x, y, c = color, label = color)"
   ]
  },
  {
   "cell_type": "markdown",
   "metadata": {},
   "source": [
    "Same scatter plot with lists:"
   ]
  },
  {
   "cell_type": "code",
   "execution_count": null,
   "metadata": {},
   "outputs": [],
   "source": [
    "x = [3, 8, 5, 6, 1, 9, 6, 7, 2, 1, 8]\n",
    "y = [4, 5, 2, 4, 6, 1, 4, 6, 5, 2, 3]\n",
    "color = \"orange\"\n",
    "plt.scatter(x, y, c = color, label = color)"
   ]
  },
  {
   "cell_type": "markdown",
   "metadata": {},
   "source": [
    "Use the same approach to plot the density computer with your function versus the temperature. Hint: you can create an array of temperatures and pass this to your density function to compute densities for given temperatures."
   ]
  },
  {
   "cell_type": "code",
   "execution_count": null,
   "metadata": {},
   "outputs": [],
   "source": []
  },
  {
   "cell_type": "code",
   "execution_count": null,
   "metadata": {},
   "outputs": [],
   "source": []
  },
  {
   "cell_type": "code",
   "execution_count": null,
   "metadata": {},
   "outputs": [],
   "source": [
    "plt.scatter(..., ...)"
   ]
  },
  {
   "cell_type": "markdown",
   "metadata": {},
   "source": [
    "### <font color=blue> **Question 6.** </font>\n",
    "\n",
    "Now define another function which takes the ratio of two number and then uses the *'to_percentage'* function above to convert it into a percentage. One issue is when the denominator is zero we get a result which is not a number or `nan` in Python. The easiest way to deal with this is to filter the COVID Table using `.where()` to include rows where cases are greater then zero. There are also a couple incorrectly entered number of deaths."
   ]
  },
  {
   "cell_type": "markdown",
   "metadata": {},
   "source": [
    "#### First let's check on the range of our data"
   ]
  },
  {
   "cell_type": "code",
   "execution_count": null,
   "metadata": {},
   "outputs": [],
   "source": [
    "COVID.stats()"
   ]
  },
  {
   "cell_type": "markdown",
   "metadata": {},
   "source": [
    "#### After running the `.stats()` what do you notice? Are there some anomolous minimum values? Can we use the deaths_avg and cases_avg instead of deaths and cases?"
   ]
  },
  {
   "cell_type": "code",
   "execution_count": null,
   "metadata": {},
   "outputs": [],
   "source": [
    "q6_answer ='''\n",
    "...\n",
    "...\n",
    "'''"
   ]
  },
  {
   "cell_type": "code",
   "execution_count": null,
   "metadata": {},
   "outputs": [],
   "source": [
    "q6_answer ='''\n",
    "This will work out well to use cases_avg\n",
    "...\n",
    "'''"
   ]
  },
  {
   "cell_type": "markdown",
   "metadata": {},
   "source": [
    "To examine the COVID data more carefully it is useful to think about which cases lead to death and if the deaths per case changes as better treatments are available.  We will need to compute the ratio of `deaths_avg` to `cases_avg`. Ratio is the same as dividing two numbers. On January 3, 2021, `deaths_avg` was 2606.68 and `cases_avg` was 212412 so the deathrate = 2606.68/212412 = 0.0123."
   ]
  },
  {
   "cell_type": "markdown",
   "metadata": {},
   "source": [
    "**Now create a function `ratio()` that returns the ratio of two numbers**"
   ]
  },
  {
   "cell_type": "code",
   "execution_count": null,
   "metadata": {},
   "outputs": [],
   "source": [
    "def ratio(x,y):\n",
    "    \"\"\" Returns a ratio of x/y \"\"\"\n",
    "    r = ...\n",
    "    return r"
   ]
  },
  {
   "cell_type": "code",
   "execution_count": null,
   "metadata": {},
   "outputs": [],
   "source": [
    "check('tests/q6a.py')"
   ]
  },
  {
   "cell_type": "markdown",
   "metadata": {},
   "source": [
    "### COVID cases leading to bad outcomes\n",
    "Now we will apply the function to our COVID data. Here we will need to use the *with_columns* method of a Table object to add the result of applying the ratio function with two columns as arguments. These columns will be *deaths* and *cases*. The percentage return by the function will create a new column.<br>\n",
    "<br>See Inferential Thinking 8.1.1 for inspiration: <br> https://inferentialthinking.com/chapters/08/1/Applying_a_Function_to_a_Column.html"
   ]
  },
  {
   "cell_type": "markdown",
   "metadata": {},
   "source": [
    "### <font color=blue> **Question 7.** </font> \n",
    "\n",
    "Now apply your function to create a new column, *deathrate*. Examine the histogram for deathrate. Now plot the trend for *deathrate* for the entire timeperiod of the dataset. Remember the special codes from above to define the x ('date') and y ('deathrate') data to plot. Discuss the results in the markdown cell below."
   ]
  },
  {
   "cell_type": "markdown",
   "metadata": {},
   "source": [
    "**First create an array, `deathrate`, that stores the ratio of the `deaths_avg` and the `cases_avg`**"
   ]
  },
  {
   "cell_type": "code",
   "execution_count": null,
   "metadata": {},
   "outputs": [],
   "source": [
    "deathrate = ratio(COVID.column('deaths_avg'),...)"
   ]
  },
  {
   "cell_type": "code",
   "execution_count": null,
   "metadata": {},
   "outputs": [],
   "source": [
    "COVID = COVID.with_columns(\"deathrate\",...).sort(\"deathrate\")\n",
    "COVID"
   ]
  },
  {
   "cell_type": "markdown",
   "metadata": {},
   "source": [
    "The way of writing it does the same thing. It is called \"chaining funcions.\"  The function any() is applied to the result of the isnan() function call. np.isnan() is applied first, then any() is chained onto the end using \".\" Look closely at the previous two cells to see if you understand why they do the same thing. If you still don't understand, as a CA or instructor.\n",
    "\n",
    "We have a way to is if an array has any nans. How do we apply this to a column in our data table? The column() data table method takes a column name and returns all of the values in that column of the data table as an array."
   ]
  },
  {
   "cell_type": "code",
   "execution_count": null,
   "metadata": {},
   "outputs": [],
   "source": [
    "COVID.column('deathrate')"
   ]
  },
  {
   "cell_type": "markdown",
   "metadata": {},
   "source": [
    "This new column of data in the COVID table contains the deathrate, we can now proceed with the visualization.<br>\n",
    "**Prepare a histogram of `deathrate` to get a sense of the distribution of values**"
   ]
  },
  {
   "cell_type": "code",
   "execution_count": null,
   "metadata": {},
   "outputs": [],
   "source": [
    "..."
   ]
  },
  {
   "cell_type": "markdown",
   "metadata": {},
   "source": [
    "Use `ptrend()` to plot time series of the deathrate."
   ]
  },
  {
   "cell_type": "code",
   "execution_count": null,
   "metadata": {},
   "outputs": [],
   "source": []
  },
  {
   "cell_type": "code",
   "execution_count": null,
   "metadata": {},
   "outputs": [],
   "source": [
    "check('tests/q7a.py')"
   ]
  },
  {
   "cell_type": "markdown",
   "metadata": {},
   "source": [
    "## Comparison with recent data based on the Centers for Disease Control (CDC) Wastewater analysis\n",
    "[CDC Wastewater Program](https://www.cdc.gov/nwss/wastewater-surveillance.html)"
   ]
  },
  {
   "cell_type": "code",
   "execution_count": null,
   "metadata": {},
   "outputs": [],
   "source": [
    "COVID_waste_water = 'data/CDC_COVID_Waste.csv'"
   ]
  },
  {
   "cell_type": "code",
   "execution_count": null,
   "metadata": {},
   "outputs": [],
   "source": [
    "COVID_waste = Table().read_table(COVID_waste_water)\n",
    "COVID_waste"
   ]
  },
  {
   "cell_type": "code",
   "execution_count": null,
   "metadata": {},
   "outputs": [],
   "source": [
    "ptrend(COVID_waste,'date','National')"
   ]
  },
  {
   "cell_type": "code",
   "execution_count": null,
   "metadata": {},
   "outputs": [],
   "source": [
    "ptrend(COVID_waste,'date','National',80) # Add multiplier in ptrend\n",
    "ptrend(COVID,\"date\",'deaths_avg')"
   ]
  },
  {
   "cell_type": "markdown",
   "metadata": {},
   "source": [
    "**What do you notice? Why might wastewater peak earlier?**"
   ]
  },
  {
   "cell_type": "code",
   "execution_count": null,
   "metadata": {},
   "outputs": [],
   "source": [
    "q7a_answer=\"\"\"\n",
    "...\n",
    "...\n",
    "\"\"\""
   ]
  },
  {
   "cell_type": "markdown",
   "metadata": {},
   "source": [
    "#### A quick look at newer CDC COVID death data compared to wastewater data"
   ]
  },
  {
   "cell_type": "code",
   "execution_count": null,
   "metadata": {},
   "outputs": [],
   "source": [
    "COVID_deaths_CDC = 'data/CDC_COVID_deaths.csv'"
   ]
  },
  {
   "cell_type": "code",
   "execution_count": null,
   "metadata": {},
   "outputs": [],
   "source": [
    "COVID_deaths = Table().read_table(COVID_deaths_CDC)\n",
    "COVID_deaths"
   ]
  },
  {
   "cell_type": "code",
   "execution_count": null,
   "metadata": {},
   "outputs": [],
   "source": [
    "ptrend(COVID_deaths,'Date','Weekly Deaths')"
   ]
  },
  {
   "cell_type": "code",
   "execution_count": null,
   "metadata": {},
   "outputs": [],
   "source": [
    "ptrend(COVID_deaths,'Date','Weekly Deaths')\n",
    "ptrend(COVID,\"date\",'deaths_avg')"
   ]
  },
  {
   "cell_type": "code",
   "execution_count": null,
   "metadata": {},
   "outputs": [],
   "source": [
    "ptrend(COVID_deaths,'Date','Weekly Deaths')\n",
    "ptrend(COVID,\"date\",'deaths_avg',7) # CDC data is weekly so need to multiply by 7 to match amplitude"
   ]
  },
  {
   "cell_type": "markdown",
   "metadata": {},
   "source": [
    "### RSV monitoring now also carried out"
   ]
  },
  {
   "cell_type": "code",
   "execution_count": null,
   "metadata": {},
   "outputs": [],
   "source": [
    "RSV_waste_water = 'data/CDC_RSV_Waste.csv'"
   ]
  },
  {
   "cell_type": "code",
   "execution_count": null,
   "metadata": {},
   "outputs": [],
   "source": [
    "RSV_waste = Table.read_table(RSV_waste_water)\n",
    "RSV_waste"
   ]
  },
  {
   "cell_type": "code",
   "execution_count": null,
   "metadata": {
    "jupyter": {
     "source_hidden": true
    }
   },
   "outputs": [],
   "source": [
    "ptrend(RSV_waste,'date','National')"
   ]
  },
  {
   "cell_type": "markdown",
   "metadata": {},
   "source": [
    "#### <font color=blue> Your discussion of results from question 7:</font>\n",
    " Replace the ... lines with as many lines of text as you need for your answer. Leave the lines with \"\"\" unchanged."
   ]
  },
  {
   "cell_type": "code",
   "execution_count": null,
   "metadata": {
    "tags": []
   },
   "outputs": [],
   "source": [
    "q7_answer = \"\"\"\n",
    "...\n",
    "...\n",
    "\"\"\""
   ]
  },
  {
   "cell_type": "code",
   "execution_count": null,
   "metadata": {
    "tags": []
   },
   "outputs": [],
   "source": [
    "check('tests/q7_open_ended.py')"
   ]
  },
  {
   "cell_type": "markdown",
   "metadata": {},
   "source": [
    "### <font color=blue> **Question 8.** </font>\n",
    "\n",
    "At the end of each lab, please include a reflection. \n",
    "* How did this lab go? \n",
    "* What aspects of visualization or functions do you find confusing?\n",
    "* Were there questions you found especially challenging you would like your instructor to review in class? \n",
    "* How long did the lab take you to complete?\n",
    "\n",
    "Share your feedback so we can continue to improve this class!\n",
    "\n",
    "**Provide your feedback in the cell below. Replace the ... lines with as many lines of test as you need.**"
   ]
  },
  {
   "cell_type": "code",
   "execution_count": null,
   "metadata": {},
   "outputs": [],
   "source": [
    "q8_answer = '''\n",
    "...\n",
    "...\n",
    "...\n",
    "...\n",
    "'''"
   ]
  },
  {
   "cell_type": "code",
   "execution_count": null,
   "metadata": {},
   "outputs": [],
   "source": [
    "check('tests/q8_open_ended.py')"
   ]
  },
  {
   "cell_type": "markdown",
   "metadata": {},
   "source": [
    "**Congratulations** , you're done with lab 4! Be sure to\n",
    "run all the tests and verify that they all pass (the next cell has a shortcut for that),\n",
    "Save and Checkpoint from the File menu\n",
    "Run the last two cells for partial grading. Comments and markdown will be graded separately. "
   ]
  },
  {
   "cell_type": "code",
   "execution_count": null,
   "metadata": {
    "tags": []
   },
   "outputs": [],
   "source": [
    "# For your convenience, you can run this cell to run all the tests at once!\n",
    "import glob\n",
    "from gofer.ok import check\n",
    "\n",
    "correct = 0\n",
    "for x in [\n",
    "    \"q1_open_ended\",\n",
    "    \"q1new\",\n",
    "    \"q2new\",\n",
    "    \"q3_open_ended\",\n",
    "    \"q4_open_ended\",\n",
    "    \"q5a\",\n",
    "    \"q5ab\",\n",
    "    \"q5b\",\n",
    "    \"q7a\",\n",
    "    \"q7_open_ended\",\n",
    "]:\n",
    "    print(\"Testing question {}: \".format(str(x)))\n",
    "    g = check(\"tests/{}.py\".format(str(x)))\n",
    "    if g.grade == 1.0:\n",
    "        print(\"Passed\")\n",
    "        correct += 1\n",
    "    else:\n",
    "        print(\"Failed\")\n",
    "        display(g)\n",
    "\n",
    "print(\"Grade:  {}\".format(str(correct / 6)))"
   ]
  },
  {
   "cell_type": "code",
   "execution_count": null,
   "metadata": {},
   "outputs": [],
   "source": [
    "print(\"Nice work \",name, user)\n",
    "import time;\n",
    "localtime = time.asctime( time.localtime(time.time()) )\n",
    "print(\"Submitted @ \", localtime)"
   ]
  }
 ],
 "metadata": {
  "kernelspec": {
   "display_name": "Python 3 (ipykernel)",
   "language": "python",
   "name": "python3"
  },
  "language_info": {
   "codemirror_mode": {
    "name": "ipython",
    "version": 3
   },
   "file_extension": ".py",
   "mimetype": "text/x-python",
   "name": "python",
   "nbconvert_exporter": "python",
   "pygments_lexer": "ipython3",
   "version": "3.9.19"
  }
 },
 "nbformat": 4,
 "nbformat_minor": 4
}
