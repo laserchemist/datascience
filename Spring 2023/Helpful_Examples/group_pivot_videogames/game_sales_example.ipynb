{
 "cells": [
  {
   "cell_type": "markdown",
   "id": "938f0893-2d92-46bb-8f5c-98a45962638a",
   "metadata": {},
   "source": [
    "# Guide to using .group()"
   ]
  },
  {
   "cell_type": "markdown",
   "id": "7768f4a9-f7dc-4643-bf58-81147a3280ee",
   "metadata": {},
   "source": [
    "In this example, we're going to go over how to use tbl.group() on a specific data set."
   ]
  },
  {
   "cell_type": "code",
   "execution_count": 59,
   "id": "41bdeb4b-de47-496d-aca6-a53ce109290d",
   "metadata": {},
   "outputs": [],
   "source": [
    "from datascience import *\n",
    "%matplotlib inline\n",
    "import matplotlib.pyplot as plt\n",
    "plt.style.use('fivethirtyeight')\n",
    "# Fix for datascience plots\n",
    "import collections as collections\n",
    "import collections.abc as abc\n",
    "collections.Iterable = abc.Iterable\n",
    "import numpy as np"
   ]
  },
  {
   "cell_type": "markdown",
   "id": "4208b0e5-facc-4f46-a912-f523a0d366f4",
   "metadata": {},
   "source": [
    "Below is a table that displays data about the sales (in millions) of each video game genre. The genres are separated by both year and region."
   ]
  },
  {
   "cell_type": "code",
   "execution_count": 113,
   "id": "58bf40c2-bc64-4823-8a16-f402e2d4a999",
   "metadata": {},
   "outputs": [
    {
     "data": {
      "text/html": [
       "<table border=\"1\" class=\"dataframe\">\n",
       "    <thead>\n",
       "        <tr>\n",
       "            <th>release_year</th> <th>genre</th> <th>region</th> <th>sales (in millions)</th>\n",
       "        </tr>\n",
       "    </thead>\n",
       "    <tbody>\n",
       "        <tr>\n",
       "            <td>1980        </td> <td>Action  </td> <td>North America</td> <td>0.32               </td>\n",
       "        </tr>\n",
       "        <tr>\n",
       "            <td>1980        </td> <td>Fighting</td> <td>North America</td> <td>0.72               </td>\n",
       "        </tr>\n",
       "        <tr>\n",
       "            <td>1980        </td> <td>Misc    </td> <td>North America</td> <td>2.53               </td>\n",
       "        </tr>\n",
       "        <tr>\n",
       "            <td>1980        </td> <td>Shooter </td> <td>North America</td> <td>6.56               </td>\n",
       "        </tr>\n",
       "        <tr>\n",
       "            <td>1980        </td> <td>Sports  </td> <td>North America</td> <td>0.46               </td>\n",
       "        </tr>\n",
       "        <tr>\n",
       "            <td>1981        </td> <td>Action  </td> <td>North America</td> <td>13.86              </td>\n",
       "        </tr>\n",
       "        <tr>\n",
       "            <td>1981        </td> <td>Platform</td> <td>North America</td> <td>6.47               </td>\n",
       "        </tr>\n",
       "        <tr>\n",
       "            <td>1981        </td> <td>Puzzle  </td> <td>North America</td> <td>2.09               </td>\n",
       "        </tr>\n",
       "        <tr>\n",
       "            <td>1981        </td> <td>Racing  </td> <td>North America</td> <td>0.45               </td>\n",
       "        </tr>\n",
       "        <tr>\n",
       "            <td>1981        </td> <td>Shooter </td> <td>North America</td> <td>9.37               </td>\n",
       "        </tr>\n",
       "    </tbody>\n",
       "</table>\n",
       "<p>... (1550 rows omitted)</p>"
      ],
      "text/plain": [
       "release_year | genre    | region        | sales (in millions)\n",
       "1980         | Action   | North America | 0.32\n",
       "1980         | Fighting | North America | 0.72\n",
       "1980         | Misc     | North America | 2.53\n",
       "1980         | Shooter  | North America | 6.56\n",
       "1980         | Sports   | North America | 0.46\n",
       "1981         | Action   | North America | 13.86\n",
       "1981         | Platform | North America | 6.47\n",
       "1981         | Puzzle   | North America | 2.09\n",
       "1981         | Racing   | North America | 0.45\n",
       "1981         | Shooter  | North America | 9.37\n",
       "... (1550 rows omitted)"
      ]
     },
     "execution_count": 113,
     "metadata": {},
     "output_type": "execute_result"
    }
   ],
   "source": [
    "game_sales = Table.read_table('year_genre_region.csv').relabeled(\"sales\", \"sales (in millions)\").where(\"region\", are.not_equal_to(\"Worldwide\"))\n",
    "game_sales"
   ]
  },
  {
   "cell_type": "markdown",
   "id": "1e3d6340-1207-48b8-9f13-9dfe1b457b31",
   "metadata": {},
   "source": [
    "Let's say that we wanted to use this dataset to find the **total sales of each genre.** Which genre sold the most? To do this, we can use tbl.group()\n",
    "\n",
    "tbl.group() is used like this...\n",
    "\n",
    "- tbl.group(column_or_columns, func)\n",
    "\n",
    "...where column_or_columns is a string (or a list of strings), and func is the name of the function. func is also an optional argument. Let's just see what happens when we only provide one column as our argument"
   ]
  },
  {
   "cell_type": "code",
   "execution_count": 97,
   "id": "4ff2cd38-a4de-4bc6-8716-65f7e173e89c",
   "metadata": {},
   "outputs": [
    {
     "data": {
      "text/html": [
       "<table border=\"1\" class=\"dataframe\">\n",
       "    <thead>\n",
       "        <tr>\n",
       "            <th>genre</th> <th>count</th>\n",
       "        </tr>\n",
       "    </thead>\n",
       "    <tbody>\n",
       "        <tr>\n",
       "            <td>Action      </td> <td>152  </td>\n",
       "        </tr>\n",
       "        <tr>\n",
       "            <td>Adventure   </td> <td>112  </td>\n",
       "        </tr>\n",
       "        <tr>\n",
       "            <td>Fighting    </td> <td>116  </td>\n",
       "        </tr>\n",
       "        <tr>\n",
       "            <td>Misc        </td> <td>124  </td>\n",
       "        </tr>\n",
       "        <tr>\n",
       "            <td>Platform    </td> <td>144  </td>\n",
       "        </tr>\n",
       "        <tr>\n",
       "            <td>Puzzle      </td> <td>136  </td>\n",
       "        </tr>\n",
       "        <tr>\n",
       "            <td>Racing      </td> <td>128  </td>\n",
       "        </tr>\n",
       "        <tr>\n",
       "            <td>Role-Playing</td> <td>128  </td>\n",
       "        </tr>\n",
       "        <tr>\n",
       "            <td>Shooter     </td> <td>144  </td>\n",
       "        </tr>\n",
       "        <tr>\n",
       "            <td>Simulation  </td> <td>124  </td>\n",
       "        </tr>\n",
       "    </tbody>\n",
       "</table>\n",
       "<p>... (2 rows omitted)</p>"
      ],
      "text/plain": [
       "genre        | count\n",
       "Action       | 152\n",
       "Adventure    | 112\n",
       "Fighting     | 116\n",
       "Misc         | 124\n",
       "Platform     | 144\n",
       "Puzzle       | 136\n",
       "Racing       | 128\n",
       "Role-Playing | 128\n",
       "Shooter      | 144\n",
       "Simulation   | 124\n",
       "... (2 rows omitted)"
      ]
     },
     "execution_count": 97,
     "metadata": {},
     "output_type": "execute_result"
    }
   ],
   "source": [
    "game_sales.group(\"genre\")"
   ]
  },
  {
   "cell_type": "markdown",
   "id": "77d6ec10-4d12-435f-a79e-58186bfc623d",
   "metadata": {},
   "source": [
    "As you can see, each genre becomes grouped into one row. Every unique genre that was in the column is listed only once. \n",
    "\n",
    "But what is the \"count\" column? That's where the \"func\" argument comes in. Because we didn't put in a second argument, func defaults to \"count\". That is to say, if we don't give a second argument, then the computer will use the function named \"count\" to count each instance of how many times each genre appears. This isn't very useful for what we want to do right now, so let's provide a more useful argument for func."
   ]
  },
  {
   "cell_type": "code",
   "execution_count": 98,
   "id": "a52ca442-32a4-40bb-9669-e3b1a5d50212",
   "metadata": {},
   "outputs": [
    {
     "data": {
      "text/html": [
       "<table border=\"1\" class=\"dataframe\">\n",
       "    <thead>\n",
       "        <tr>\n",
       "            <th>genre</th> <th>release_year sum</th> <th>region sum</th> <th>sales (in millions) sum</th>\n",
       "        </tr>\n",
       "    </thead>\n",
       "    <tbody>\n",
       "        <tr>\n",
       "            <td>Action      </td> <td>303772          </td> <td>          </td> <td>1716.53                </td>\n",
       "        </tr>\n",
       "        <tr>\n",
       "            <td>Adventure   </td> <td>224244          </td> <td>          </td> <td>233.33                 </td>\n",
       "        </tr>\n",
       "        <tr>\n",
       "            <td>Fighting    </td> <td>232172          </td> <td>          </td> <td>442.66                 </td>\n",
       "        </tr>\n",
       "        <tr>\n",
       "            <td>Misc        </td> <td>248036          </td> <td>          </td> <td>790.29                 </td>\n",
       "        </tr>\n",
       "        <tr>\n",
       "            <td>Platform    </td> <td>287784          </td> <td>          </td> <td>825.55                 </td>\n",
       "        </tr>\n",
       "        <tr>\n",
       "            <td>Puzzle      </td> <td>271892          </td> <td>          </td> <td>239.89                 </td>\n",
       "        </tr>\n",
       "        <tr>\n",
       "            <td>Racing      </td> <td>256008          </td> <td>          </td> <td>723.49                 </td>\n",
       "        </tr>\n",
       "        <tr>\n",
       "            <td>Role-Playing</td> <td>256192          </td> <td>          </td> <td>931.13                 </td>\n",
       "        </tr>\n",
       "        <tr>\n",
       "            <td>Shooter     </td> <td>287744          </td> <td>          </td> <td>1041.36                </td>\n",
       "        </tr>\n",
       "        <tr>\n",
       "            <td>Simulation  </td> <td>248220          </td> <td>          </td> <td>388.25                 </td>\n",
       "        </tr>\n",
       "    </tbody>\n",
       "</table>\n",
       "<p>... (2 rows omitted)</p>"
      ],
      "text/plain": [
       "genre        | release_year sum | region sum | sales (in millions) sum\n",
       "Action       | 303772           |            | 1716.53\n",
       "Adventure    | 224244           |            | 233.33\n",
       "Fighting     | 232172           |            | 442.66\n",
       "Misc         | 248036           |            | 790.29\n",
       "Platform     | 287784           |            | 825.55\n",
       "Puzzle       | 271892           |            | 239.89\n",
       "Racing       | 256008           |            | 723.49\n",
       "Role-Playing | 256192           |            | 931.13\n",
       "Shooter      | 287744           |            | 1041.36\n",
       "Simulation   | 248220           |            | 388.25\n",
       "... (2 rows omitted)"
      ]
     },
     "execution_count": 98,
     "metadata": {},
     "output_type": "execute_result"
    }
   ],
   "source": [
    "game_sales.group(\"genre\", sum)"
   ]
  },
  {
   "cell_type": "markdown",
   "id": "100ec698-a583-4234-8e3b-581e569bff49",
   "metadata": {},
   "source": [
    "This time, we made our second argument \"sum\", so for each genre, the computer used the sum function on every column that *isn't* the one we want to group. As you can see, several things happened here. \n",
    "- We used sum on every release year. That means that for each year an action game released, we did \"1980 + 1981 + 1982...\" and so on to get our final result of 379715. Then we did the same for each year an adventure game released, then the same for fighting games, and so on.\n",
    "- We used sum on every region. Because each region is represented by a string, and sum only takes an array of integers as its argument, it detects that the data types are incompatible and leaves the entire column empty.\n",
    "- We used sum on every sales figure. This ends up giving us the total number of copies each genre sold, which is actually exactly what we want in this case!\n",
    "\n",
    "We're very close to getting the table we want. We just want to avoid using sum on the release_year and region column. The easiest way to do this is to just drop those 2 columns before using .group(). We can do this by using .drop(), which just gets rid of all of the columns we list, like so:"
   ]
  },
  {
   "cell_type": "code",
   "execution_count": 99,
   "id": "dc4d32a6-2d3a-4523-8cfa-0d48652ea7e4",
   "metadata": {},
   "outputs": [
    {
     "data": {
      "text/html": [
       "<table border=\"1\" class=\"dataframe\">\n",
       "    <thead>\n",
       "        <tr>\n",
       "            <th>genre</th> <th>sales (in millions)</th>\n",
       "        </tr>\n",
       "    </thead>\n",
       "    <tbody>\n",
       "        <tr>\n",
       "            <td>Action  </td> <td>0.32               </td>\n",
       "        </tr>\n",
       "        <tr>\n",
       "            <td>Fighting</td> <td>0.72               </td>\n",
       "        </tr>\n",
       "        <tr>\n",
       "            <td>Misc    </td> <td>2.53               </td>\n",
       "        </tr>\n",
       "        <tr>\n",
       "            <td>Shooter </td> <td>6.56               </td>\n",
       "        </tr>\n",
       "        <tr>\n",
       "            <td>Sports  </td> <td>0.46               </td>\n",
       "        </tr>\n",
       "        <tr>\n",
       "            <td>Action  </td> <td>13.86              </td>\n",
       "        </tr>\n",
       "        <tr>\n",
       "            <td>Platform</td> <td>6.47               </td>\n",
       "        </tr>\n",
       "        <tr>\n",
       "            <td>Puzzle  </td> <td>2.09               </td>\n",
       "        </tr>\n",
       "        <tr>\n",
       "            <td>Racing  </td> <td>0.45               </td>\n",
       "        </tr>\n",
       "        <tr>\n",
       "            <td>Shooter </td> <td>9.37               </td>\n",
       "        </tr>\n",
       "    </tbody>\n",
       "</table>\n",
       "<p>... (1550 rows omitted)</p>"
      ],
      "text/plain": [
       "genre    | sales (in millions)\n",
       "Action   | 0.32\n",
       "Fighting | 0.72\n",
       "Misc     | 2.53\n",
       "Shooter  | 6.56\n",
       "Sports   | 0.46\n",
       "Action   | 13.86\n",
       "Platform | 6.47\n",
       "Puzzle   | 2.09\n",
       "Racing   | 0.45\n",
       "Shooter  | 9.37\n",
       "... (1550 rows omitted)"
      ]
     },
     "execution_count": 99,
     "metadata": {},
     "output_type": "execute_result"
    }
   ],
   "source": [
    "game_sales.drop(\"release_year\", \"region\")"
   ]
  },
  {
   "cell_type": "markdown",
   "id": "fa700dfe-708d-4d5b-9aeb-f00a35aaf8a3",
   "metadata": {},
   "source": [
    "If we combine .drop() and .group(), we can get our desired output like so:"
   ]
  },
  {
   "cell_type": "code",
   "execution_count": 100,
   "id": "cbfcefbf-96f7-47f4-9a17-f9d4fab98598",
   "metadata": {},
   "outputs": [
    {
     "data": {
      "text/html": [
       "<table border=\"1\" class=\"dataframe\">\n",
       "    <thead>\n",
       "        <tr>\n",
       "            <th>genre</th> <th>sales (in millions) sum</th>\n",
       "        </tr>\n",
       "    </thead>\n",
       "    <tbody>\n",
       "        <tr>\n",
       "            <td>Action      </td> <td>1716.53                </td>\n",
       "        </tr>\n",
       "        <tr>\n",
       "            <td>Adventure   </td> <td>233.33                 </td>\n",
       "        </tr>\n",
       "        <tr>\n",
       "            <td>Fighting    </td> <td>442.66                 </td>\n",
       "        </tr>\n",
       "        <tr>\n",
       "            <td>Misc        </td> <td>790.29                 </td>\n",
       "        </tr>\n",
       "        <tr>\n",
       "            <td>Platform    </td> <td>825.55                 </td>\n",
       "        </tr>\n",
       "        <tr>\n",
       "            <td>Puzzle      </td> <td>239.89                 </td>\n",
       "        </tr>\n",
       "        <tr>\n",
       "            <td>Racing      </td> <td>723.49                 </td>\n",
       "        </tr>\n",
       "        <tr>\n",
       "            <td>Role-Playing</td> <td>931.13                 </td>\n",
       "        </tr>\n",
       "        <tr>\n",
       "            <td>Shooter     </td> <td>1041.36                </td>\n",
       "        </tr>\n",
       "        <tr>\n",
       "            <td>Simulation  </td> <td>388.25                 </td>\n",
       "        </tr>\n",
       "        <tr>\n",
       "            <td>Sports      </td> <td>1309.67                </td>\n",
       "        </tr>\n",
       "        <tr>\n",
       "            <td>Strategy    </td> <td>172.57                 </td>\n",
       "        </tr>\n",
       "    </tbody>\n",
       "</table>"
      ],
      "text/plain": [
       "<IPython.core.display.HTML object>"
      ]
     },
     "metadata": {},
     "output_type": "display_data"
    }
   ],
   "source": [
    "correct_output = game_sales.drop(\"release_year\", \"region\").group(\"genre\", sum)\n",
    "#ignore the use of .show() here, that's only done to get every row listed.\n",
    "correct_output.show(12)"
   ]
  },
  {
   "cell_type": "markdown",
   "id": "21ad71d6-1aa4-4ca4-918e-f4850992a97d",
   "metadata": {},
   "source": [
    "We got the output that we want! If we just sort this table, we can see that action games have sold the most overall, with 1716.53 million copies across all regions in the dataset. Meanwhile, strategy games have sold the least,with 172.57 million copies across all regions in the dataset."
   ]
  },
  {
   "cell_type": "code",
   "execution_count": 101,
   "id": "a3778766-3515-4f3f-9f58-f0aa6d0d3898",
   "metadata": {},
   "outputs": [
    {
     "data": {
      "text/html": [
       "<table border=\"1\" class=\"dataframe\">\n",
       "    <thead>\n",
       "        <tr>\n",
       "            <th>genre</th> <th>sales (in millions) sum</th>\n",
       "        </tr>\n",
       "    </thead>\n",
       "    <tbody>\n",
       "        <tr>\n",
       "            <td>Action      </td> <td>1716.53                </td>\n",
       "        </tr>\n",
       "        <tr>\n",
       "            <td>Sports      </td> <td>1309.67                </td>\n",
       "        </tr>\n",
       "        <tr>\n",
       "            <td>Shooter     </td> <td>1041.36                </td>\n",
       "        </tr>\n",
       "        <tr>\n",
       "            <td>Role-Playing</td> <td>931.13                 </td>\n",
       "        </tr>\n",
       "        <tr>\n",
       "            <td>Platform    </td> <td>825.55                 </td>\n",
       "        </tr>\n",
       "        <tr>\n",
       "            <td>Misc        </td> <td>790.29                 </td>\n",
       "        </tr>\n",
       "        <tr>\n",
       "            <td>Racing      </td> <td>723.49                 </td>\n",
       "        </tr>\n",
       "        <tr>\n",
       "            <td>Fighting    </td> <td>442.66                 </td>\n",
       "        </tr>\n",
       "        <tr>\n",
       "            <td>Simulation  </td> <td>388.25                 </td>\n",
       "        </tr>\n",
       "        <tr>\n",
       "            <td>Puzzle      </td> <td>239.89                 </td>\n",
       "        </tr>\n",
       "        <tr>\n",
       "            <td>Adventure   </td> <td>233.33                 </td>\n",
       "        </tr>\n",
       "        <tr>\n",
       "            <td>Strategy    </td> <td>172.57                 </td>\n",
       "        </tr>\n",
       "    </tbody>\n",
       "</table>"
      ],
      "text/plain": [
       "<IPython.core.display.HTML object>"
      ]
     },
     "metadata": {},
     "output_type": "display_data"
    }
   ],
   "source": [
    "correct_output.sort(1, descending=True).show(12)"
   ]
  },
  {
   "cell_type": "markdown",
   "id": "7ad74b7b-500e-4cc7-baef-7e69eac78d24",
   "metadata": {},
   "source": [
    "What if we wanted to find the average number of copies each game sold instead of the total number? We just change the second argument that goes into .group()! If we use np.average instead of sum, this is the result we get:"
   ]
  },
  {
   "cell_type": "code",
   "execution_count": 102,
   "id": "84465f8e-4ce1-4831-968d-2e66b3cd46c5",
   "metadata": {},
   "outputs": [
    {
     "data": {
      "text/html": [
       "<table border=\"1\" class=\"dataframe\">\n",
       "    <thead>\n",
       "        <tr>\n",
       "            <th>genre</th> <th>sales (in millions) average</th>\n",
       "        </tr>\n",
       "    </thead>\n",
       "    <tbody>\n",
       "        <tr>\n",
       "            <td>Action      </td> <td>11.293                     </td>\n",
       "        </tr>\n",
       "        <tr>\n",
       "            <td>Sports      </td> <td>8.84912                    </td>\n",
       "        </tr>\n",
       "        <tr>\n",
       "            <td>Role-Playing</td> <td>7.27445                    </td>\n",
       "        </tr>\n",
       "        <tr>\n",
       "            <td>Shooter     </td> <td>7.23167                    </td>\n",
       "        </tr>\n",
       "        <tr>\n",
       "            <td>Misc        </td> <td>6.37331                    </td>\n",
       "        </tr>\n",
       "        <tr>\n",
       "            <td>Platform    </td> <td>5.73299                    </td>\n",
       "        </tr>\n",
       "        <tr>\n",
       "            <td>Racing      </td> <td>5.65227                    </td>\n",
       "        </tr>\n",
       "        <tr>\n",
       "            <td>Fighting    </td> <td>3.81603                    </td>\n",
       "        </tr>\n",
       "        <tr>\n",
       "            <td>Simulation  </td> <td>3.13105                    </td>\n",
       "        </tr>\n",
       "        <tr>\n",
       "            <td>Adventure   </td> <td>2.0833                     </td>\n",
       "        </tr>\n",
       "        <tr>\n",
       "            <td>Puzzle      </td> <td>1.7639                     </td>\n",
       "        </tr>\n",
       "        <tr>\n",
       "            <td>Strategy    </td> <td>1.65933                    </td>\n",
       "        </tr>\n",
       "    </tbody>\n",
       "</table>"
      ],
      "text/plain": [
       "<IPython.core.display.HTML object>"
      ]
     },
     "metadata": {},
     "output_type": "display_data"
    }
   ],
   "source": [
    "average_sales = game_sales.drop(\"release_year\", \"region\").group(\"genre\", np.average).sort(1, descending = True)\n",
    "average_sales.show(12)"
   ]
  },
  {
   "cell_type": "markdown",
   "id": "9538072f-3b11-49bc-bfed-993dd33c4f99",
   "metadata": {},
   "source": [
    "What if we wanted to see the **total sales of each genre for each year?** In this case, we want to use group both the release_year and the genre. You might think we have to do:\n",
    "- game_sales.group(\"release_year\", \"genre\", sum)\n",
    "\n",
    "But if we do that, we actually get an error!"
   ]
  },
  {
   "cell_type": "code",
   "execution_count": 114,
   "id": "193064ee-3687-4d15-b08c-f154167e096d",
   "metadata": {},
   "outputs": [
    {
     "ename": "TypeError",
     "evalue": "Table.group() takes from 2 to 3 positional arguments but 4 were given",
     "output_type": "error",
     "traceback": [
      "\u001b[0;31m---------------------------------------------------------------------------\u001b[0m",
      "\u001b[0;31mTypeError\u001b[0m                                 Traceback (most recent call last)",
      "Input \u001b[0;32mIn [114]\u001b[0m, in \u001b[0;36m<cell line: 2>\u001b[0;34m()\u001b[0m\n\u001b[1;32m      1\u001b[0m \u001b[38;5;66;03m#this cell gives an error\u001b[39;00m\n\u001b[0;32m----> 2\u001b[0m \u001b[43mgame_sales\u001b[49m\u001b[38;5;241;43m.\u001b[39;49m\u001b[43mdrop\u001b[49m\u001b[43m(\u001b[49m\u001b[38;5;124;43m\"\u001b[39;49m\u001b[38;5;124;43mregion\u001b[39;49m\u001b[38;5;124;43m\"\u001b[39;49m\u001b[43m)\u001b[49m\u001b[38;5;241;43m.\u001b[39;49m\u001b[43mgroup\u001b[49m\u001b[43m(\u001b[49m\u001b[38;5;124;43m\"\u001b[39;49m\u001b[38;5;124;43mrelease_year\u001b[39;49m\u001b[38;5;124;43m\"\u001b[39;49m\u001b[43m,\u001b[49m\u001b[43m \u001b[49m\u001b[38;5;124;43m\"\u001b[39;49m\u001b[38;5;124;43mgenre\u001b[39;49m\u001b[38;5;124;43m\"\u001b[39;49m\u001b[43m,\u001b[49m\u001b[43m \u001b[49m\u001b[38;5;28;43msum\u001b[39;49m\u001b[43m)\u001b[49m\n",
      "\u001b[0;31mTypeError\u001b[0m: Table.group() takes from 2 to 3 positional arguments but 4 were given"
     ]
    }
   ],
   "source": [
    "#this cell gives an error\n",
    "game_sales.drop(\"region\").group(\"release_year\", \"genre\", sum)"
   ]
  },
  {
   "cell_type": "markdown",
   "id": "f0ffe311-0e8f-4d79-94a6-c1627cf24823",
   "metadata": {},
   "source": [
    "This is because .group only takes 2 arguments. So if we want to group multiple columns, we must make either a list of every column we want to group **OR** an array of every column we want to group. For example:"
   ]
  },
  {
   "cell_type": "code",
   "execution_count": 115,
   "id": "bcef7c10-c62a-4cec-9b9a-1088827bcea4",
   "metadata": {},
   "outputs": [
    {
     "data": {
      "text/html": [
       "<table border=\"1\" class=\"dataframe\">\n",
       "    <thead>\n",
       "        <tr>\n",
       "            <th>release_year</th> <th>genre</th> <th>sales (in millions) sum</th>\n",
       "        </tr>\n",
       "    </thead>\n",
       "    <tbody>\n",
       "        <tr>\n",
       "            <td>1980        </td> <td>Action  </td> <td>0.34                   </td>\n",
       "        </tr>\n",
       "        <tr>\n",
       "            <td>1980        </td> <td>Fighting</td> <td>0.77                   </td>\n",
       "        </tr>\n",
       "        <tr>\n",
       "            <td>1980        </td> <td>Misc    </td> <td>2.7                    </td>\n",
       "        </tr>\n",
       "        <tr>\n",
       "            <td>1980        </td> <td>Shooter </td> <td>7.07                   </td>\n",
       "        </tr>\n",
       "        <tr>\n",
       "            <td>1980        </td> <td>Sports  </td> <td>0.5                    </td>\n",
       "        </tr>\n",
       "        <tr>\n",
       "            <td>1981        </td> <td>Action  </td> <td>14.79                  </td>\n",
       "        </tr>\n",
       "        <tr>\n",
       "            <td>1981        </td> <td>Platform</td> <td>6.92                   </td>\n",
       "        </tr>\n",
       "        <tr>\n",
       "            <td>1981        </td> <td>Puzzle  </td> <td>2.25                   </td>\n",
       "        </tr>\n",
       "        <tr>\n",
       "            <td>1981        </td> <td>Racing  </td> <td>0.48                   </td>\n",
       "        </tr>\n",
       "        <tr>\n",
       "            <td>1981        </td> <td>Shooter </td> <td>10.02                  </td>\n",
       "        </tr>\n",
       "    </tbody>\n",
       "</table>\n",
       "<p>... (380 rows omitted)</p>"
      ],
      "text/plain": [
       "release_year | genre    | sales (in millions) sum\n",
       "1980         | Action   | 0.34\n",
       "1980         | Fighting | 0.77\n",
       "1980         | Misc     | 2.7\n",
       "1980         | Shooter  | 7.07\n",
       "1980         | Sports   | 0.5\n",
       "1981         | Action   | 14.79\n",
       "1981         | Platform | 6.92\n",
       "1981         | Puzzle   | 2.25\n",
       "1981         | Racing   | 0.48\n",
       "1981         | Shooter  | 10.02\n",
       "... (380 rows omitted)"
      ]
     },
     "execution_count": 115,
     "metadata": {},
     "output_type": "execute_result"
    }
   ],
   "source": [
    "array_of_columns = make_array(\"release_year\", \"genre\") #an array containing the names of all columns we want to group\n",
    "sales_per_year = game_sales.drop(\"region\").group(array_of_columns, sum)\n",
    "sales_per_year"
   ]
  },
  {
   "cell_type": "markdown",
   "id": "e7e4c68d-b875-42bc-a0fa-fc5ed2fed6fe",
   "metadata": {},
   "source": [
    "This gives us the output that we want! We have correctly grouped both the release years and the genres in the dataset.\n",
    "\n",
    "But what if we want to plot this data as a line graph, with different lines for each genre? To do this, we'll use tbl.pivot()\n",
    "\n",
    "pivot() takes a table and converts it into a pivot table. It's used like this:\n",
    "- tbl.pivot(col1, col2, values, collect)\n",
    " \n",
    "Here's each argument explained:\n",
    "- \"col1\" is the name of the column where **every unique value will get its own column in the pivot table**. So if \"col1\" is set to \"genre\", then each individual genre will get its own column.\n",
    "- \"col2\" is the name of the column where **every unique value will get its own row**. So if \"col2\" is set to \"release_year\", then every year listed in the data set will be listed in each row.\n",
    "- \"values\" is an optional argument. It's the name of the column where **each value will be a cell in the pivot table.** \n",
    "- \"collect\" is an optional argument. It describes **how the values will be collected.**\n",
    "\n",
    "Using all of this, we can make a pivot table like so:"
   ]
  },
  {
   "cell_type": "code",
   "execution_count": 105,
   "id": "56f4b81b-5cde-4f69-a8a8-cb780271316a",
   "metadata": {},
   "outputs": [
    {
     "data": {
      "text/html": [
       "<table border=\"1\" class=\"dataframe\">\n",
       "    <thead>\n",
       "        <tr>\n",
       "            <th>release_year</th> <th>Action</th> <th>Adventure</th> <th>Fighting</th> <th>Misc</th> <th>Platform</th> <th>Puzzle</th> <th>Racing</th> <th>Role-Playing</th> <th>Shooter</th> <th>Simulation</th> <th>Sports</th> <th>Strategy</th>\n",
       "        </tr>\n",
       "    </thead>\n",
       "    <tbody>\n",
       "        <tr>\n",
       "            <td>1980        </td> <td>0.34  </td> <td>0        </td> <td>0.77    </td> <td>2.7  </td> <td>0       </td> <td>0     </td> <td>0     </td> <td>0           </td> <td>7.07   </td> <td>0         </td> <td>0.5   </td> <td>0       </td>\n",
       "        </tr>\n",
       "        <tr>\n",
       "            <td>1981        </td> <td>14.79 </td> <td>0        </td> <td>0       </td> <td>0    </td> <td>6.92    </td> <td>2.25  </td> <td>0.48  </td> <td>0           </td> <td>10.02  </td> <td>0.44      </td> <td>0.78  </td> <td>0       </td>\n",
       "        </tr>\n",
       "        <tr>\n",
       "            <td>1982        </td> <td>6.5   </td> <td>0        </td> <td>0       </td> <td>0.87 </td> <td>5.03    </td> <td>10.04 </td> <td>1.57  </td> <td>0           </td> <td>3.81   </td> <td>0         </td> <td>1.06  </td> <td>0       </td>\n",
       "        </tr>\n",
       "        <tr>\n",
       "            <td>1983        </td> <td>2.86  </td> <td>0.4      </td> <td>0       </td> <td>2.14 </td> <td>6.93    </td> <td>0.78  </td> <td>0     </td> <td>0           </td> <td>0.49   </td> <td>0         </td> <td>3.2   </td> <td>0       </td>\n",
       "        </tr>\n",
       "        <tr>\n",
       "            <td>1984        </td> <td>1.85  </td> <td>0        </td> <td>0       </td> <td>1.45 </td> <td>0.69    </td> <td>3.14  </td> <td>5.95  </td> <td>0           </td> <td>31.1   </td> <td>0         </td> <td>6.17  </td> <td>0       </td>\n",
       "        </tr>\n",
       "        <tr>\n",
       "            <td>1985        </td> <td>3.52  </td> <td>0        </td> <td>1.05    </td> <td>0    </td> <td>43.17   </td> <td>3.21  </td> <td>0     </td> <td>0           </td> <td>1      </td> <td>0.04      </td> <td>1.96  </td> <td>0       </td>\n",
       "        </tr>\n",
       "        <tr>\n",
       "            <td>1986        </td> <td>13.74 </td> <td>0        </td> <td>0       </td> <td>0    </td> <td>9.39    </td> <td>0     </td> <td>1.96  </td> <td>2.52        </td> <td>3.89   </td> <td>0         </td> <td>5.58  </td> <td>0       </td>\n",
       "        </tr>\n",
       "        <tr>\n",
       "            <td>1987        </td> <td>1.11  </td> <td>4.38     </td> <td>5.42    </td> <td>0    </td> <td>1.74    </td> <td>0     </td> <td>0     </td> <td>4.65        </td> <td>0.69   </td> <td>0         </td> <td>3.71  </td> <td>0       </td>\n",
       "        </tr>\n",
       "        <tr>\n",
       "            <td>1988        </td> <td>1.74  </td> <td>0        </td> <td>0       </td> <td>0    </td> <td>27.73   </td> <td>5.58  </td> <td>2.14  </td> <td>5.88        </td> <td>0.51   </td> <td>0.03      </td> <td>3.6   </td> <td>0       </td>\n",
       "        </tr>\n",
       "        <tr>\n",
       "            <td>1989        </td> <td>4.65  </td> <td>0        </td> <td>0       </td> <td>1.28 </td> <td>20.66   </td> <td>37.75 </td> <td>0     </td> <td>2.2         </td> <td>1.19   </td> <td>0         </td> <td>5.72  </td> <td>0       </td>\n",
       "        </tr>\n",
       "        <tr>\n",
       "            <td>1990        </td> <td>6.39  </td> <td>0        </td> <td>0       </td> <td>0    </td> <td>22.98   </td> <td>5.99  </td> <td>6.25  </td> <td>4.52        </td> <td>0      </td> <td>1.13      </td> <td>2.11  </td> <td>0       </td>\n",
       "        </tr>\n",
       "        <tr>\n",
       "            <td>1991        </td> <td>6.76  </td> <td>2.24     </td> <td>0.39    </td> <td>0.08 </td> <td>7.63    </td> <td>3.24  </td> <td>1.14  </td> <td>3.26        </td> <td>1.99   </td> <td>2.15      </td> <td>2.41  </td> <td>0.94    </td>\n",
       "        </tr>\n",
       "        <tr>\n",
       "            <td>1992        </td> <td>3.84  </td> <td>12.25    </td> <td>15.23   </td> <td>4.94 </td> <td>13.41   </td> <td>4.84  </td> <td>9.05  </td> <td>6.86        </td> <td>0.28   </td> <td>2.14      </td> <td>2.95  </td> <td>0.37    </td>\n",
       "        </tr>\n",
       "        <tr>\n",
       "            <td>1993        </td> <td>1.81  </td> <td>0.07     </td> <td>8.75    </td> <td>0.3  </td> <td>18.68   </td> <td>3.17  </td> <td>0.36  </td> <td>5.59        </td> <td>3.08   </td> <td>0.19      </td> <td>3.18  </td> <td>0.81    </td>\n",
       "        </tr>\n",
       "        <tr>\n",
       "            <td>1994        </td> <td>1.55  </td> <td>3.74     </td> <td>8.48    </td> <td>2.86 </td> <td>28.76   </td> <td>1.53  </td> <td>2.18  </td> <td>7.13        </td> <td>8.3    </td> <td>2.72      </td> <td>8.41  </td> <td>3.57    </td>\n",
       "        </tr>\n",
       "        <tr>\n",
       "            <td>1995        </td> <td>3.58  </td> <td>0.71     </td> <td>14.84   </td> <td>6.4  </td> <td>16.69   </td> <td>2.69  </td> <td>6.09  </td> <td>14.27       </td> <td>4.15   </td> <td>4.17      </td> <td>7.99  </td> <td>6.54    </td>\n",
       "        </tr>\n",
       "        <tr>\n",
       "            <td>1996        </td> <td>20.6  </td> <td>4.18     </td> <td>18.04   </td> <td>10.66</td> <td>28.23   </td> <td>3.92  </td> <td>28.27 </td> <td>43.99       </td> <td>6.9    </td> <td>11.33     </td> <td>17.42 </td> <td>5.61    </td>\n",
       "        </tr>\n",
       "        <tr>\n",
       "            <td>1997        </td> <td>27.59 </td> <td>4.97     </td> <td>11.8    </td> <td>5.68 </td> <td>21.86   </td> <td>5.87  </td> <td>31.92 </td> <td>21.82       </td> <td>22.16  </td> <td>9.64      </td> <td>30.04 </td> <td>7.72    </td>\n",
       "        </tr>\n",
       "        <tr>\n",
       "            <td>1998        </td> <td>39.41 </td> <td>9.04     </td> <td>31.68   </td> <td>11.9 </td> <td>29.83   </td> <td>6.35  </td> <td>27.88 </td> <td>28.08       </td> <td>9.8    </td> <td>7.11      </td> <td>41.75 </td> <td>13.48   </td>\n",
       "        </tr>\n",
       "        <tr>\n",
       "            <td>1999        </td> <td>27.73 </td> <td>7.61     </td> <td>14.31   </td> <td>20.68</td> <td>20.8    </td> <td>1.34  </td> <td>37.19 </td> <td>49.09       </td> <td>12.23  </td> <td>11.46     </td> <td>30.21 </td> <td>18.46   </td>\n",
       "        </tr>\n",
       "        <tr>\n",
       "            <td>2000        </td> <td>33.98 </td> <td>2.96     </td> <td>20.26   </td> <td>15.55</td> <td>16.05   </td> <td>3.83  </td> <td>20    </td> <td>29.05       </td> <td>6.83   </td> <td>3.37      </td> <td>41.24 </td> <td>8.54    </td>\n",
       "        </tr>\n",
       "        <tr>\n",
       "            <td>2001        </td> <td>59.38 </td> <td>9.14     </td> <td>18.1    </td> <td>16.39</td> <td>39.33   </td> <td>7.94  </td> <td>55.83 </td> <td>22.02       </td> <td>24.81  </td> <td>19.54     </td> <td>51.46 </td> <td>7.52    </td>\n",
       "        </tr>\n",
       "        <tr>\n",
       "            <td>2002        </td> <td>86.65 </td> <td>11.09    </td> <td>24.92   </td> <td>15.63</td> <td>45.95   </td> <td>5.33  </td> <td>30.15 </td> <td>45.13       </td> <td>48.47  </td> <td>10.82     </td> <td>65.31 </td> <td>5.52    </td>\n",
       "        </tr>\n",
       "        <tr>\n",
       "            <td>2003        </td> <td>67.98 </td> <td>2.12     </td> <td>23.79   </td> <td>23.79</td> <td>42.81   </td> <td>2.42  </td> <td>52.18 </td> <td>30.28       </td> <td>27.09  </td> <td>21.19     </td> <td>55.96 </td> <td>7.93    </td>\n",
       "        </tr>\n",
       "        <tr>\n",
       "            <td>2004        </td> <td>76.13 </td> <td>8.62     </td> <td>16.76   </td> <td>31.16</td> <td>47.22   </td> <td>8.4   </td> <td>47.87 </td> <td>53.96       </td> <td>46.94  </td> <td>10.87     </td> <td>63.61 </td> <td>7.14    </td>\n",
       "        </tr>\n",
       "        <tr>\n",
       "            <td>2005        </td> <td>85.39 </td> <td>8.46     </td> <td>19.65   </td> <td>60.97</td> <td>23.32   </td> <td>20.36 </td> <td>56.03 </td> <td>28.38       </td> <td>41.52  </td> <td>48.97     </td> <td>59.49 </td> <td>5.28    </td>\n",
       "        </tr>\n",
       "        <tr>\n",
       "            <td>2006        </td> <td>66.06 </td> <td>11.36    </td> <td>22.42   </td> <td>66.97</td> <td>49.29   </td> <td>10.74 </td> <td>33.81 </td> <td>57.37       </td> <td>38.24  </td> <td>21.52     </td> <td>135.78</td> <td>4.15    </td>\n",
       "        </tr>\n",
       "        <tr>\n",
       "            <td>2007        </td> <td>104.85</td> <td>24.13    </td> <td>17.49   </td> <td>91.46</td> <td>35.07   </td> <td>23.56 </td> <td>38.78 </td> <td>43.46       </td> <td>70.61  </td> <td>48.35     </td> <td>97.73 </td> <td>9.26    </td>\n",
       "        </tr>\n",
       "        <tr>\n",
       "            <td>2008        </td> <td>134.96</td> <td>24.63    </td> <td>35.02   </td> <td>86.06</td> <td>35.13   </td> <td>15.23 </td> <td>70.04 </td> <td>58.98       </td> <td>59.16  </td> <td>46.11     </td> <td>94.58 </td> <td>11.6    </td>\n",
       "        </tr>\n",
       "        <tr>\n",
       "            <td>2009        </td> <td>137.69</td> <td>20.23    </td> <td>31.9    </td> <td>75.81</td> <td>40.53   </td> <td>19.79 </td> <td>33.69 </td> <td>47.31       </td> <td>69.29  </td> <td>32.92     </td> <td>137.37</td> <td>12.29   </td>\n",
       "        </tr>\n",
       "        <tr>\n",
       "            <td>2010        </td> <td>115.29</td> <td>15.96    </td> <td>14.69   </td> <td>95.14</td> <td>31.04   </td> <td>10.75 </td> <td>34.37 </td> <td>69.65       </td> <td>76.83  </td> <td>21.49     </td> <td>91.24 </td> <td>13.68   </td>\n",
       "        </tr>\n",
       "        <tr>\n",
       "            <td>2011        </td> <td>116.68</td> <td>15.61    </td> <td>22.41   </td> <td>54.38</td> <td>27.68   </td> <td>4.96  </td> <td>34.81 </td> <td>52.83       </td> <td>98.18  </td> <td>15.14     </td> <td>56.08 </td> <td>8.82    </td>\n",
       "        </tr>\n",
       "        <tr>\n",
       "            <td>2012        </td> <td>119.25</td> <td>5.79     </td> <td>9.18    </td> <td>22.22</td> <td>18.37   </td> <td>1.72  </td> <td>13.61 </td> <td>46.91       </td> <td>71.75  </td> <td>13.36     </td> <td>30.42 </td> <td>3.26    </td>\n",
       "        </tr>\n",
       "        <tr>\n",
       "            <td>2013        </td> <td>122.51</td> <td>6.09     </td> <td>7.09    </td> <td>25.27</td> <td>24.54   </td> <td>0.96  </td> <td>12.37 </td> <td>44.45       </td> <td>62.04  </td> <td>8.63      </td> <td>41.17 </td> <td>6.12    </td>\n",
       "        </tr>\n",
       "        <tr>\n",
       "            <td>2014        </td> <td>97.23 </td> <td>5.57     </td> <td>15.85   </td> <td>23.38</td> <td>8.81    </td> <td>1.49  </td> <td>16.66 </td> <td>45.62       </td> <td>65.21  </td> <td>5.58      </td> <td>45.15 </td> <td>0.98    </td>\n",
       "        </tr>\n",
       "        <tr>\n",
       "            <td>2015        </td> <td>72.02 </td> <td>8.16     </td> <td>7.9     </td> <td>11.57</td> <td>6.05    </td> <td>0.71  </td> <td>8.07  </td> <td>37.64       </td> <td>67.51  </td> <td>5.66      </td> <td>40.84 </td> <td>1.85    </td>\n",
       "        </tr>\n",
       "        <tr>\n",
       "            <td>2016        </td> <td>30.11 </td> <td>3.82     </td> <td>4.47    </td> <td>2.6  </td> <td>3.23    </td> <td>0.01  </td> <td>2.79  </td> <td>18.18       </td> <td>38.22  </td> <td>1.89      </td> <td>23.49 </td> <td>1.13    </td>\n",
       "        </tr>\n",
       "        <tr>\n",
       "            <td>2017        </td> <td>0.01  </td> <td>0        </td> <td>0       </td> <td>0    </td> <td>0       </td> <td>0     </td> <td>0     </td> <td>0.05        </td> <td>0      </td> <td>0         </td> <td>0     </td> <td>0       </td>\n",
       "        </tr>\n",
       "        <tr>\n",
       "            <td>2020        </td> <td>0     </td> <td>0        </td> <td>0       </td> <td>0    </td> <td>0       </td> <td>0     </td> <td>0     </td> <td>0           </td> <td>0      </td> <td>0.29      </td> <td>0     </td> <td>0       </td>\n",
       "        </tr>\n",
       "    </tbody>\n",
       "</table>"
      ],
      "text/plain": [
       "<IPython.core.display.HTML object>"
      ]
     },
     "metadata": {},
     "output_type": "display_data"
    }
   ],
   "source": [
    "pivot_table = sales_per_year.pivot(\"genre\", \"release_year\", values = \"sales (in millions) sum\", collect=sum)\n",
    "pivot_table.show(40) #again, ignore the use of .show() here. It's only used to show the entire pivot table."
   ]
  },
  {
   "cell_type": "markdown",
   "id": "da897deb-d5f2-4b2a-bac0-cb86f8b4ed02",
   "metadata": {},
   "source": [
    "As you can see, each genre is listed on the top. Each year is listed on the left. Each sales figure is listed in the middle.\n",
    "Now we can plot the total number of sales for each genre. To plot multiple lines on one graph, use the optional argument \"overlay=True\""
   ]
  },
  {
   "cell_type": "code",
   "execution_count": 106,
   "id": "d9c21e6a-f36f-4025-9a1d-ad426d80d439",
   "metadata": {},
   "outputs": [
    {
     "data": {
      "image/png": "[encoded data removed]",
      "text/plain": [
       "<Figure size 432x432 with 1 Axes>"
      ]
     },
     "metadata": {},
     "output_type": "display_data"
    }
   ],
   "source": [
    "pivot_table.plot(\"release_year\", overlay=True)"
   ]
  },
  {
   "cell_type": "markdown",
   "id": "3c7a0fcb-5d09-4313-bd3e-bdb090369d33",
   "metadata": {},
   "source": [
    "Let's do one last exercise. **Let's plot the sales of only action games for each year in each region.**\n",
    "\n",
    "To start, we'll use .where() to filter out all other genres of games."
   ]
  },
  {
   "cell_type": "code",
   "execution_count": 107,
   "id": "ed560399-602a-4c62-bad5-60b1c48f5fb1",
   "metadata": {},
   "outputs": [
    {
     "data": {
      "text/html": [
       "<table border=\"1\" class=\"dataframe\">\n",
       "    <thead>\n",
       "        <tr>\n",
       "            <th>release_year</th> <th>genre</th> <th>region</th> <th>sales (in millions)</th>\n",
       "        </tr>\n",
       "    </thead>\n",
       "    <tbody>\n",
       "        <tr>\n",
       "            <td>1980        </td> <td>Action</td> <td>North America</td> <td>0.32               </td>\n",
       "        </tr>\n",
       "        <tr>\n",
       "            <td>1981        </td> <td>Action</td> <td>North America</td> <td>13.86              </td>\n",
       "        </tr>\n",
       "        <tr>\n",
       "            <td>1982        </td> <td>Action</td> <td>North America</td> <td>6.07               </td>\n",
       "        </tr>\n",
       "        <tr>\n",
       "            <td>1983        </td> <td>Action</td> <td>North America</td> <td>2.67               </td>\n",
       "        </tr>\n",
       "        <tr>\n",
       "            <td>1984        </td> <td>Action</td> <td>North America</td> <td>0.8                </td>\n",
       "        </tr>\n",
       "        <tr>\n",
       "            <td>1985        </td> <td>Action</td> <td>North America</td> <td>1.64               </td>\n",
       "        </tr>\n",
       "        <tr>\n",
       "            <td>1986        </td> <td>Action</td> <td>North America</td> <td>6.52               </td>\n",
       "        </tr>\n",
       "        <tr>\n",
       "            <td>1987        </td> <td>Action</td> <td>North America</td> <td>1.04               </td>\n",
       "        </tr>\n",
       "        <tr>\n",
       "            <td>1988        </td> <td>Action</td> <td>North America</td> <td>1.15               </td>\n",
       "        </tr>\n",
       "        <tr>\n",
       "            <td>1989        </td> <td>Action</td> <td>North America</td> <td>3.83               </td>\n",
       "        </tr>\n",
       "    </tbody>\n",
       "</table>\n",
       "<p>... (142 rows omitted)</p>"
      ],
      "text/plain": [
       "release_year | genre  | region        | sales (in millions)\n",
       "1980         | Action | North America | 0.32\n",
       "1981         | Action | North America | 13.86\n",
       "1982         | Action | North America | 6.07\n",
       "1983         | Action | North America | 2.67\n",
       "1984         | Action | North America | 0.8\n",
       "1985         | Action | North America | 1.64\n",
       "1986         | Action | North America | 6.52\n",
       "1987         | Action | North America | 1.04\n",
       "1988         | Action | North America | 1.15\n",
       "1989         | Action | North America | 3.83\n",
       "... (142 rows omitted)"
      ]
     },
     "execution_count": 107,
     "metadata": {},
     "output_type": "execute_result"
    }
   ],
   "source": [
    "action_games = game_sales.where(\"genre\", \"Action\")\n",
    "action_games"
   ]
  },
  {
   "cell_type": "markdown",
   "id": "0255e35a-6bf5-4523-887f-dfccd0b867c1",
   "metadata": {},
   "source": [
    "Next, let's use .drop() and .group() to group only the columns we're interested in."
   ]
  },
  {
   "cell_type": "code",
   "execution_count": 109,
   "id": "fa525557-41fe-4010-b20c-7e7b9e439b22",
   "metadata": {},
   "outputs": [
    {
     "data": {
      "text/html": [
       "<table border=\"1\" class=\"dataframe\">\n",
       "    <thead>\n",
       "        <tr>\n",
       "            <th>release_year</th> <th>region</th> <th>sales (in millions) sum</th>\n",
       "        </tr>\n",
       "    </thead>\n",
       "    <tbody>\n",
       "        <tr>\n",
       "            <td>1980        </td> <td>European Union</td> <td>0.02                   </td>\n",
       "        </tr>\n",
       "        <tr>\n",
       "            <td>1980        </td> <td>Japan         </td> <td>0                      </td>\n",
       "        </tr>\n",
       "        <tr>\n",
       "            <td>1980        </td> <td>North America </td> <td>0.32                   </td>\n",
       "        </tr>\n",
       "        <tr>\n",
       "            <td>1980        </td> <td>Other         </td> <td>0                      </td>\n",
       "        </tr>\n",
       "        <tr>\n",
       "            <td>1981        </td> <td>European Union</td> <td>0.81                   </td>\n",
       "        </tr>\n",
       "        <tr>\n",
       "            <td>1981        </td> <td>Japan         </td> <td>0                      </td>\n",
       "        </tr>\n",
       "        <tr>\n",
       "            <td>1981        </td> <td>North America </td> <td>13.86                  </td>\n",
       "        </tr>\n",
       "        <tr>\n",
       "            <td>1981        </td> <td>Other         </td> <td>0.12                   </td>\n",
       "        </tr>\n",
       "        <tr>\n",
       "            <td>1982        </td> <td>European Union</td> <td>0.38                   </td>\n",
       "        </tr>\n",
       "        <tr>\n",
       "            <td>1982        </td> <td>Japan         </td> <td>0                      </td>\n",
       "        </tr>\n",
       "    </tbody>\n",
       "</table>\n",
       "<p>... (142 rows omitted)</p>"
      ],
      "text/plain": [
       "release_year | region         | sales (in millions) sum\n",
       "1980         | European Union | 0.02\n",
       "1980         | Japan          | 0\n",
       "1980         | North America  | 0.32\n",
       "1980         | Other          | 0\n",
       "1981         | European Union | 0.81\n",
       "1981         | Japan          | 0\n",
       "1981         | North America  | 13.86\n",
       "1981         | Other          | 0.12\n",
       "1982         | European Union | 0.38\n",
       "1982         | Japan          | 0\n",
       "... (142 rows omitted)"
      ]
     },
     "execution_count": 109,
     "metadata": {},
     "output_type": "execute_result"
    }
   ],
   "source": [
    "column_choices = make_array(\"release_year\", \"region\")\n",
    "grouped_action = action_games.drop(\"genre\").group(column_choices, sum)\n",
    "grouped_action"
   ]
  },
  {
   "cell_type": "markdown",
   "id": "18f6c46d-f8b0-42bd-93e1-f1386d57f6dd",
   "metadata": {},
   "source": [
    "Finally, let's use .pivot() to convert this table into a pivot table"
   ]
  },
  {
   "cell_type": "code",
   "execution_count": 111,
   "id": "f5d209df-4541-49b8-9c05-3795906f9df1",
   "metadata": {},
   "outputs": [
    {
     "data": {
      "text/html": [
       "<table border=\"1\" class=\"dataframe\">\n",
       "    <thead>\n",
       "        <tr>\n",
       "            <th>release_year</th> <th>European Union</th> <th>Japan</th> <th>North America</th> <th>Other</th>\n",
       "        </tr>\n",
       "    </thead>\n",
       "    <tbody>\n",
       "        <tr>\n",
       "            <td>1980        </td> <td>0.02          </td> <td>0    </td> <td>0.32         </td> <td>0    </td>\n",
       "        </tr>\n",
       "        <tr>\n",
       "            <td>1981        </td> <td>0.81          </td> <td>0    </td> <td>13.86        </td> <td>0.12 </td>\n",
       "        </tr>\n",
       "        <tr>\n",
       "            <td>1982        </td> <td>0.38          </td> <td>0    </td> <td>6.07         </td> <td>0.05 </td>\n",
       "        </tr>\n",
       "        <tr>\n",
       "            <td>1983        </td> <td>0.17          </td> <td>0    </td> <td>2.67         </td> <td>0.02 </td>\n",
       "        </tr>\n",
       "        <tr>\n",
       "            <td>1984        </td> <td>0.19          </td> <td>0.83 </td> <td>0.8          </td> <td>0.03 </td>\n",
       "        </tr>\n",
       "        <tr>\n",
       "            <td>1985        </td> <td>0.38          </td> <td>1.44 </td> <td>1.64         </td> <td>0.06 </td>\n",
       "        </tr>\n",
       "        <tr>\n",
       "            <td>1986        </td> <td>1.66          </td> <td>5.31 </td> <td>6.52         </td> <td>0.25 </td>\n",
       "        </tr>\n",
       "        <tr>\n",
       "            <td>1987        </td> <td>0.06          </td> <td>0    </td> <td>1.04         </td> <td>0.01 </td>\n",
       "        </tr>\n",
       "        <tr>\n",
       "            <td>1988        </td> <td>0.16          </td> <td>0.42 </td> <td>1.15         </td> <td>0.01 </td>\n",
       "        </tr>\n",
       "        <tr>\n",
       "            <td>1989        </td> <td>0.46          </td> <td>0.31 </td> <td>3.83         </td> <td>0.05 </td>\n",
       "        </tr>\n",
       "    </tbody>\n",
       "</table>\n",
       "<p>... (28 rows omitted)</p>"
      ],
      "text/plain": [
       "release_year | European Union | Japan | North America | Other\n",
       "1980         | 0.02           | 0     | 0.32          | 0\n",
       "1981         | 0.81           | 0     | 13.86         | 0.12\n",
       "1982         | 0.38           | 0     | 6.07          | 0.05\n",
       "1983         | 0.17           | 0     | 2.67          | 0.02\n",
       "1984         | 0.19           | 0.83  | 0.8           | 0.03\n",
       "1985         | 0.38           | 1.44  | 1.64          | 0.06\n",
       "1986         | 1.66           | 5.31  | 6.52          | 0.25\n",
       "1987         | 0.06           | 0     | 1.04          | 0.01\n",
       "1988         | 0.16           | 0.42  | 1.15          | 0.01\n",
       "1989         | 0.46           | 0.31  | 3.83          | 0.05\n",
       "... (28 rows omitted)"
      ]
     },
     "execution_count": 111,
     "metadata": {},
     "output_type": "execute_result"
    }
   ],
   "source": [
    "action_pivot = grouped_action.pivot(\"region\", \"release_year\", values = \"sales (in millions) sum\", collect=sum)\n",
    "action_pivot"
   ]
  },
  {
   "cell_type": "markdown",
   "id": "48082c10-0a6a-4613-b41b-303fade205ee",
   "metadata": {},
   "source": [
    "Finally, let's plot our table!"
   ]
  },
  {
   "cell_type": "code",
   "execution_count": 112,
   "id": "f488f31a-7d53-41b1-8e0f-cafcaf51d21a",
   "metadata": {},
   "outputs": [
    {
     "data": {
      "image/png": "[encoded data removed]",
      "text/plain": [
       "<Figure size 432x432 with 1 Axes>"
      ]
     },
     "metadata": {},
     "output_type": "display_data"
    }
   ],
   "source": [
    "action_pivot.plot(\"release_year\", overlay=True)"
   ]
  },
  {
   "cell_type": "markdown",
   "id": "4600b6e4-e188-48c1-8e32-c0900f43d98d",
   "metadata": {},
   "source": [
    "We have successfully managed to plot different genres of video game sales using .group() and .pivot()! Hopefully, this example shows you how to correctly use these 2 table functions in future labs and mini-projects."
   ]
  }
 ],
 "metadata": {
  "kernelspec": {
   "display_name": "Python 3 (ipykernel)",
   "language": "python",
   "name": "python3"
  },
  "language_info": {
   "codemirror_mode": {
    "name": "ipython",
    "version": 3
   },
   "file_extension": ".py",
   "mimetype": "text/x-python",
   "name": "python",
   "nbconvert_exporter": "python",
   "pygments_lexer": "ipython3",
   "version": "3.10.4"
  }
 },
 "nbformat": 4,
 "nbformat_minor": 5
}
