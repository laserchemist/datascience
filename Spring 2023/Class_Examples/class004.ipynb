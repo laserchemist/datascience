{
 "cells": [
  {
   "cell_type": "markdown",
   "id": "a57f1d2d-6623-489c-9b28-f6292f67b8b9",
   "metadata": {},
   "source": [
    "## Class 004 examples"
   ]
  },
  {
   "cell_type": "markdown",
   "id": "d33f4b68-eb27-44df-b33a-c7a1b3eb4ffc",
   "metadata": {},
   "source": [
    "Import external functionality"
   ]
  },
  {
   "cell_type": "code",
   "execution_count": null,
   "id": "c7763a93-22ac-4813-ad7e-cee5ee053d93",
   "metadata": {},
   "outputs": [],
   "source": [
    "import numpy as np\n",
    "from datascience import * # Brings into Python the datascience Table object\n",
    "# This lines load the tests.\n",
    "from gofer.ok import check"
   ]
  },
  {
   "cell_type": "code",
   "execution_count": null,
   "id": "500b3c02-5edd-405c-90bb-026ba2aba26d",
   "metadata": {},
   "outputs": [],
   "source": [
    "import math as m"
   ]
  },
  {
   "cell_type": "code",
   "execution_count": null,
   "id": "f235e2a0-87fc-49a2-8ed1-ef59687082bb",
   "metadata": {},
   "outputs": [],
   "source": [
    "m.pi"
   ]
  },
  {
   "cell_type": "code",
   "execution_count": null,
   "id": "96e15dc3-3709-4987-aae7-6324ec458e86",
   "metadata": {},
   "outputs": [],
   "source": [
    "3**(4*3)"
   ]
  },
  {
   "cell_type": "code",
   "execution_count": null,
   "id": "883c794d-bb10-4df2-8746-fd76aa56d588",
   "metadata": {},
   "outputs": [],
   "source": [
    "m.pi = 3+4"
   ]
  },
  {
   "cell_type": "code",
   "execution_count": null,
   "id": "1f77bf77-cee4-4595-9ba3-beee8e1357f9",
   "metadata": {},
   "outputs": [],
   "source": [
    "m.pi"
   ]
  },
  {
   "cell_type": "code",
   "execution_count": null,
   "id": "b9f366b2-7386-48d4-8dfb-cc50e0e92dac",
   "metadata": {},
   "outputs": [],
   "source": [
    "print"
   ]
  },
  {
   "cell_type": "code",
   "execution_count": null,
   "id": "a73c373c-a584-44cc-b262-bcf3cab51059",
   "metadata": {},
   "outputs": [],
   "source": [
    "print(7)"
   ]
  },
  {
   "cell_type": "code",
   "execution_count": null,
   "id": "21bcb27f-273b-4d30-bbf0-8a253fd3f275",
   "metadata": {},
   "outputs": [],
   "source": [
    "sum = 55 + 7\n",
    "sum"
   ]
  },
  {
   "cell_type": "code",
   "execution_count": null,
   "id": "515ea8e8-9d33-435f-baf2-b2c9d96a7d70",
   "metadata": {},
   "outputs": [],
   "source": [
    "sum -= 2\n",
    "sum"
   ]
  },
  {
   "cell_type": "code",
   "execution_count": null,
   "id": "9337b3a2-bb03-4cab-9a8f-fdb76e19a883",
   "metadata": {},
   "outputs": [],
   "source": [
    "type(sum)"
   ]
  },
  {
   "cell_type": "code",
   "execution_count": null,
   "id": "37e08c25-77d5-49eb-ba0e-14f75782e30c",
   "metadata": {},
   "outputs": [],
   "source": [
    "print(sum)"
   ]
  },
  {
   "cell_type": "code",
   "execution_count": null,
   "id": "86f03f50-6434-40b2-be6f-1566b6c959fd",
   "metadata": {},
   "outputs": [],
   "source": [
    "print(\"sum\")"
   ]
  },
  {
   "cell_type": "markdown",
   "id": "085a5f3d-3b09-4aae-83ee-e25e17f80e17",
   "metadata": {
    "tags": []
   },
   "source": [
    "#### Test out data types\n",
    "Now I am learning this stuff"
   ]
  },
  {
   "cell_type": "code",
   "execution_count": null,
   "id": "62012beb-f6fe-466b-b101-5632f6dea16b",
   "metadata": {},
   "outputs": [],
   "source": [
    "sumvalue=\"sum\" # Create string variable, sumvalue"
   ]
  },
  {
   "cell_type": "code",
   "execution_count": null,
   "id": "974707d2-7275-473d-b848-a38d039fbcf6",
   "metadata": {},
   "outputs": [],
   "source": [
    "sumvalue"
   ]
  },
  {
   "cell_type": "markdown",
   "id": "fc4f1a2f-94e0-4b5a-baf4-5862031ac0fe",
   "metadata": {},
   "source": [
    "## Learning Goals for Lab 02\n",
    "Data Types: See video of same name\n",
    "- Expressions & numbers revisited\n",
    "- Variables & Data Types\n",
    "    - Strings\n",
    "    - Integer\n",
    "    - Float\n",
    "- more built-in functions: max(), min(), abs(), pow(), round()\n",
    "- Translating science into Python formulas: Newton's equations\n",
    "- importing code functionality: import math\n",
    "    - math.pi()\n",
    "    - math.sqrt()\n",
    "    - math.log()\n",
    "    - math.factorial()\n",
    "- arrays: from datascience import *\n",
    "    - make_array(0.125, 4.75, -1.3)\n",
    "- arrays: import numpy as np\n",
    "    - np.array([0, 1, -1, math.pi, math.e])\n",
    "- lists: [1, 2, 3, 4]"
   ]
  },
  {
   "cell_type": "code",
   "execution_count": null,
   "id": "676d5160-6423-4201-af3d-41d30234aaf7",
   "metadata": {},
   "outputs": [],
   "source": [
    "max(3,4,5, 88,2022)"
   ]
  },
  {
   "cell_type": "code",
   "execution_count": null,
   "id": "6aa7abb6-4dd2-4672-bb77-87306e4f35c2",
   "metadata": {},
   "outputs": [],
   "source": [
    "import math"
   ]
  },
  {
   "cell_type": "code",
   "execution_count": null,
   "id": "4ef87b1d-5e1b-42e2-8a01-f40160df5287",
   "metadata": {},
   "outputs": [],
   "source": [
    "radius= 5.0 \n",
    "area_of_circle = radius**2 * math.pi\n",
    "print(round(area_of_circle,2))"
   ]
  },
  {
   "cell_type": "code",
   "execution_count": null,
   "id": "38686766-842a-4717-844b-7b94007bcf6f",
   "metadata": {},
   "outputs": [],
   "source": [
    "math.e"
   ]
  },
  {
   "cell_type": "code",
   "execution_count": null,
   "id": "87e2c948-43bc-4368-b8da-07ad70b38c81",
   "metadata": {},
   "outputs": [],
   "source": [
    "from datascience import *"
   ]
  },
  {
   "cell_type": "markdown",
   "id": "f729c83e-1d55-4dc4-b48b-0039a304ecd8",
   "metadata": {},
   "source": [
    "### Arrays"
   ]
  },
  {
   "cell_type": "code",
   "execution_count": null,
   "id": "6ddfd4c0-2074-4303-a236-8972be8ac939",
   "metadata": {},
   "outputs": [],
   "source": [
    "firstarray=make_array(3,4,5,6,7)"
   ]
  },
  {
   "cell_type": "code",
   "execution_count": null,
   "id": "fa2fe5be-6f7a-46b3-afab-b59d1ad8b8ab",
   "metadata": {},
   "outputs": [],
   "source": [
    "10*firstarray"
   ]
  },
  {
   "cell_type": "code",
   "execution_count": null,
   "id": "4559d244-ef81-4809-bda1-b4fe61daa624",
   "metadata": {},
   "outputs": [],
   "source": [
    "type(firstarray)"
   ]
  },
  {
   "cell_type": "code",
   "execution_count": null,
   "id": "cd2221f2-be60-433f-ae16-a4ed29fe445f",
   "metadata": {},
   "outputs": [],
   "source": [
    "import numpy as np\n",
    "import math as m"
   ]
  },
  {
   "cell_type": "code",
   "execution_count": null,
   "id": "26af1332-4d53-4c22-935f-3f1fd479c9cd",
   "metadata": {},
   "outputs": [],
   "source": [
    "np.array([0, 1, -1, m.pi, m.e])"
   ]
  },
  {
   "cell_type": "code",
   "execution_count": null,
   "id": "75752254-388d-4fc2-8627-67df2ec892ae",
   "metadata": {},
   "outputs": [],
   "source": [
    "type([\"one\",2,3,4])"
   ]
  },
  {
   "cell_type": "markdown",
   "id": "dfd0fff9-5f70-466e-9596-7da49b401816",
   "metadata": {},
   "source": [
    "### String methods"
   ]
  },
  {
   "cell_type": "code",
   "execution_count": 1,
   "id": "21ba5cb2-a863-421f-96fc-d13e0ba7e43e",
   "metadata": {},
   "outputs": [
    {
     "name": "stdout",
     "output_type": "stream",
     "text": [
      "sharp: edged\n",
      "hot: magma\n"
     ]
    }
   ],
   "source": [
    "sharp = 'edged'\n",
    "hot = sharp.replace('ed', 'ma')\n",
    "print('sharp:', sharp)\n",
    "print('hot:', hot)"
   ]
  },
  {
   "cell_type": "markdown",
   "id": "cff20ab3-9faa-4081-b0d3-ee7b14cd3974",
   "metadata": {},
   "source": [
    "### Class 004 further examples"
   ]
  },
  {
   "cell_type": "markdown",
   "id": "477d9947-f769-4f3c-8585-62fc4f9e5e27",
   "metadata": {},
   "source": [
    "Print format: lots of formatting syntax"
   ]
  },
  {
   "cell_type": "code",
   "execution_count": null,
   "id": "7903bd8e-235c-4643-aa2d-b01c55d5b37f",
   "metadata": {},
   "outputs": [],
   "source": [
    "name = 'Peter'\n",
    "age = 23\n",
    "# Simple print\n",
    "print(name,age)\n",
    "# Better ways\n",
    "print('%s is %d years old' % (name, age))\n",
    "print('{} is {} years old'.format(name, age))\n",
    "print(f'{name} is {age} years old')\n",
    "type(name)\n"
   ]
  },
  {
   "cell_type": "code",
   "execution_count": null,
   "id": "1c9ccc1c-7147-44d8-a32d-6a1377ed3c70",
   "metadata": {},
   "outputs": [],
   "source": [
    "\"Peter\".upper()"
   ]
  },
  {
   "cell_type": "code",
   "execution_count": null,
   "id": "69e98df9-b37b-4d1a-9ff6-d09554dd5b1c",
   "metadata": {},
   "outputs": [],
   "source": [
    "# Definition of savings, 10% interest for 7 years\n",
    "savings = 100\n",
    "result = 100 * 1.10 ** 7\n",
    "\n",
    "# Fix the printout\n",
    "print(\"I started with $\" + str(savings) + \" and now have $\" + str(round(result,2)) + \". Awesome!\")"
   ]
  },
  {
   "cell_type": "code",
   "execution_count": null,
   "id": "64589b28-39d0-4e54-95d5-64e8631b2513",
   "metadata": {},
   "outputs": [],
   "source": [
    "# Definition of pi_string\n",
    "pi_string = \"3\"\n",
    "\n",
    "# Convert pi_string into float: pi_float\n",
    "pi_float=int(pi_string)\n",
    "\n",
    "print('pi = %0.2f' %pi_float)"
   ]
  },
  {
   "cell_type": "code",
   "execution_count": null,
   "id": "17070b08-327e-4111-9418-6728ec8c50d2",
   "metadata": {},
   "outputs": [],
   "source": [
    "import numpy as np\n",
    "np.arange(1, 21, 1) # Helpful way to create array"
   ]
  },
  {
   "cell_type": "code",
   "execution_count": null,
   "id": "1efffbab-da31-426d-9d55-27c70d0fa8ec",
   "metadata": {},
   "outputs": [],
   "source": [
    "np.arange(0, 16, 2)**3"
   ]
  },
  {
   "cell_type": "markdown",
   "id": "a00d281b-c9d6-4b68-abc2-67be94a2f429",
   "metadata": {},
   "source": [
    "## Comparisons"
   ]
  },
  {
   "cell_type": "code",
   "execution_count": null,
   "id": "218936dc-947f-46d9-90a0-3207b71f5f04",
   "metadata": {},
   "outputs": [],
   "source": [
    "(3 < 4)**6"
   ]
  },
  {
   "cell_type": "code",
   "execution_count": null,
   "id": "10413203-bb2c-4348-820a-20f2787830ab",
   "metadata": {},
   "outputs": [],
   "source": []
  }
 ],
 "metadata": {
  "kernelspec": {
   "display_name": "Python 3 (ipykernel)",
   "language": "python",
   "name": "python3"
  },
  "language_info": {
   "codemirror_mode": {
    "name": "ipython",
    "version": 3
   },
   "file_extension": ".py",
   "mimetype": "text/x-python",
   "name": "python",
   "nbconvert_exporter": "python",
   "pygments_lexer": "ipython3",
   "version": "3.10.4"
  }
 },
 "nbformat": 4,
 "nbformat_minor": 5
}
