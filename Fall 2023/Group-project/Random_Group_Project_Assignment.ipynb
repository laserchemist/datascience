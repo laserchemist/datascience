{
 "cells": [
  {
   "cell_type": "markdown",
   "id": "19ff4344-a311-402b-a396-4a1ca50f198c",
   "metadata": {},
   "source": [
    "# Group Project Groups"
   ]
  },
  {
   "cell_type": "code",
   "execution_count": 3,
   "id": "e36a3be8-4324-47ef-9687-5e2e54d42e4e",
   "metadata": {},
   "outputs": [],
   "source": [
    "import random\n",
    "import numpy as np\n",
    "from datascience import *\n",
    "import pandas as pd\n",
    "import matplotlib\n",
    "%matplotlib inline\n",
    "import matplotlib.pyplot as plt\n",
    "plt.style.use('ggplot')\n",
    "import warnings\n",
    "warnings.simplefilter('ignore', UserWarning)\n",
    "#from IPython.display import Image\n",
    "from matplotlib.colors import ListedColormap\n",
    "from sklearn import neighbors, datasets\n",
    "# Fix for datascience collections Iterable\n",
    "import collections as collections\n",
    "import collections.abc as abc\n",
    "collections.Iterable = abc.Iterable\n",
    "import json\n",
    "from IPython.core.display import HTML\n",
    "from time import sleep"
   ]
  },
  {
   "cell_type": "code",
   "execution_count": 4,
   "id": "8d732667-71c8-41db-b7cc-4c38aa5fcc32",
   "metadata": {},
   "outputs": [],
   "source": [
    "def make_random_groups(people, number_of_groups,labels):\n",
    "    \n",
    "    #Shuffle list of people\n",
    "    random.shuffle(people)\n",
    "    \n",
    "    #Create groups\n",
    "    all_groups = []\n",
    "    for index in range(number_of_groups):\n",
    "        group = people[index::number_of_groups]\n",
    "        all_groups.append(group)\n",
    "    \n",
    "    #Format and display groups\n",
    "    print(\"✨✨✨✨✨✨✨✨✨✨✨✨✨✨✨✨✨✨✨✨✨✨✨✨✨✨✨✨\")\n",
    "    print(\"✨✨✨✨✨✨✨✨✨✨✨✨✨✨✨✨✨✨✨✨✨✨✨✨✨✨✨✨\")\n",
    "    sleep(5)\n",
    "    for index, group in enumerate(all_groups):\n",
    "        print(f\"✨{labels[index]}✨: {' / '.join(group)}\\n\")\n",
    "        sleep(2)\n",
    "        print(\"✨✨✨✨✨✨✨✨✨✨✨✨✨✨✨✨✨✨✨✨✨✨✨✨✨✨✨✨\")\n",
    "        sleep(1)\n",
    "    return all_groups"
   ]
  },
  {
   "cell_type": "code",
   "execution_count": 5,
   "id": "f3d8e116-1d42-44b0-ae30-2fff46fba66e",
   "metadata": {},
   "outputs": [
    {
     "name": "stdin",
     "output_type": "stream",
     "text": [
      "Enter section number:  004\n"
     ]
    },
    {
     "data": {
      "text/html": [
       "<table border=\"1\" class=\"dataframe\">\n",
       "    <thead>\n",
       "        <tr>\n",
       "            <th>First</th> <th>Last</th>\n",
       "        </tr>\n",
       "    </thead>\n",
       "    <tbody>\n",
       "        <tr>\n",
       "            <td> Joseph Nathaniel</td> <td>Alexis    </td>\n",
       "        </tr>\n",
       "        <tr>\n",
       "            <td> Ekta            </td> <td>Arora     </td>\n",
       "        </tr>\n",
       "        <tr>\n",
       "            <td> Naffisat A      </td> <td>Atanda    </td>\n",
       "        </tr>\n",
       "        <tr>\n",
       "            <td> Ronneisha       </td> <td>Bell      </td>\n",
       "        </tr>\n",
       "        <tr>\n",
       "            <td> Aamenah Aslam   </td> <td>Cheema    </td>\n",
       "        </tr>\n",
       "        <tr>\n",
       "            <td> Rehan Masood    </td> <td>Choudry   </td>\n",
       "        </tr>\n",
       "        <tr>\n",
       "            <td> Joshua J        </td> <td>Christian </td>\n",
       "        </tr>\n",
       "        <tr>\n",
       "            <td> Janiah          </td> <td>Cobb      </td>\n",
       "        </tr>\n",
       "        <tr>\n",
       "            <td> Ustyna          </td> <td>Danylovych</td>\n",
       "        </tr>\n",
       "        <tr>\n",
       "            <td> Mariam Kaba     </td> <td>Diakite   </td>\n",
       "        </tr>\n",
       "    </tbody>\n",
       "</table>\n",
       "<p>... (24 rows omitted)</p>"
      ],
      "text/plain": [
       "First             | Last\n",
       " Joseph Nathaniel | Alexis\n",
       " Ekta             | Arora\n",
       " Naffisat A       | Atanda\n",
       " Ronneisha        | Bell\n",
       " Aamenah Aslam    | Cheema\n",
       " Rehan Masood     | Choudry\n",
       " Joshua J         | Christian\n",
       " Janiah           | Cobb\n",
       " Ustyna           | Danylovych\n",
       " Mariam Kaba      | Diakite\n",
       "... (24 rows omitted)"
      ]
     },
     "execution_count": 5,
     "metadata": {},
     "output_type": "execute_result"
    }
   ],
   "source": [
    "Section = input(\"Enter section number: \")\n",
    "if Section == '001':\n",
    "    file = 'EDS001_S23.csv'\n",
    "elif Section == '002':\n",
    "    file = 'EDS002_S23.csv'\n",
    "elif Section == '004':\n",
    "    file = 'EDS004_S23.csv'\n",
    "elif Section == '003':\n",
    "    file = 'EDS003_S23.csv'\n",
    "people = Table().read_table(file)\n",
    "people"
   ]
  },
  {
   "cell_type": "code",
   "execution_count": 6,
   "id": "fc271602-673d-418a-bcfb-54783b8a760f",
   "metadata": {},
   "outputs": [],
   "source": [
    "names = people['First']"
   ]
  },
  {
   "cell_type": "code",
   "execution_count": 7,
   "id": "1d031074-8afe-471b-b919-6ab3f6d7e716",
   "metadata": {},
   "outputs": [],
   "source": [
    "Groups=['Hacking Hooters','Data Owls','Broad Street Bootstrappers','SuperCool Group Name', 'Data Eagles', 'Stellas Statisticians','Plotting Phils','Keystones','Temple Totalers','! Group Y','SERC Stats']"
   ]
  },
  {
   "cell_type": "code",
   "execution_count": null,
   "id": "01d4484b-9313-4a7a-a22b-1bd966a75376",
   "metadata": {},
   "outputs": [],
   "source": []
  },
  {
   "cell_type": "code",
   "execution_count": 8,
   "id": "618ab314-3899-448e-b527-edc2d8cc272d",
   "metadata": {},
   "outputs": [
    {
     "name": "stdout",
     "output_type": "stream",
     "text": [
      "✨✨✨✨✨✨✨✨✨✨✨✨✨✨✨✨✨✨✨✨✨✨✨✨✨✨✨✨\n",
      "✨✨✨✨✨✨✨✨✨✨✨✨✨✨✨✨✨✨✨✨✨✨✨✨✨✨✨✨\n",
      "✨Hacking Hooters✨:  Michael /  Naffisat A /  Ewen C /  Twittany /  Kiara /  Zara\n",
      "\n",
      "✨✨✨✨✨✨✨✨✨✨✨✨✨✨✨✨✨✨✨✨✨✨✨✨✨✨✨✨\n",
      "✨Data Owls✨:  Emily /  Laurie-Ann /  Mariam Kaba /  Sadiyah /  Ekta /  Alex\n",
      "\n",
      "✨✨✨✨✨✨✨✨✨✨✨✨✨✨✨✨✨✨✨✨✨✨✨✨✨✨✨✨\n",
      "✨Broad Street Bootstrappers✨:  Ryan /  Makenna /  Progress /  Janiah /  Devonna Monae /  Ronneisha\n",
      "\n",
      "✨✨✨✨✨✨✨✨✨✨✨✨✨✨✨✨✨✨✨✨✨✨✨✨✨✨✨✨\n",
      "✨SuperCool Group Name✨:  Rehan Masood /  Siobhan Sena /  Kannitha Natalie /  Sidiki /  Munyaradzi /  Eric J\n",
      "\n",
      "✨✨✨✨✨✨✨✨✨✨✨✨✨✨✨✨✨✨✨✨✨✨✨✨✨✨✨✨\n",
      "✨Data Eagles✨:  Dorothy Monneh /  Aidan /  David Chester /  Joshua J /  Jonathan Leonidas\n",
      "\n",
      "✨✨✨✨✨✨✨✨✨✨✨✨✨✨✨✨✨✨✨✨✨✨✨✨✨✨✨✨\n",
      "✨Stellas Statisticians✨:  Sanjida /  Aamenah Aslam /  Joseph Nathaniel /  Courtney /  Ustyna\n",
      "\n",
      "✨✨✨✨✨✨✨✨✨✨✨✨✨✨✨✨✨✨✨✨✨✨✨✨✨✨✨✨\n"
     ]
    }
   ],
   "source": [
    "GROUP = make_random_groups(names, 6, Groups)\n"
   ]
  },
  {
   "cell_type": "code",
   "execution_count": null,
   "id": "f1d19afd-8421-4e3c-b94b-d203404d254a",
   "metadata": {},
   "outputs": [],
   "source": []
  }
 ],
 "metadata": {
  "kernelspec": {
   "display_name": "Python 3 (ipykernel)",
   "language": "python",
   "name": "python3"
  },
  "language_info": {
   "codemirror_mode": {
    "name": "ipython",
    "version": 3
   },
   "file_extension": ".py",
   "mimetype": "text/x-python",
   "name": "python",
   "nbconvert_exporter": "python",
   "pygments_lexer": "ipython3",
   "version": "3.10.10"
  }
 },
 "nbformat": 4,
 "nbformat_minor": 5
}
