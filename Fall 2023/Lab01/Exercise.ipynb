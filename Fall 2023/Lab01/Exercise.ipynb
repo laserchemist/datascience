{
 "cells": [
  {
   "cell_type": "markdown",
   "id": "548ffbf5-a6de-4216-ae68-edbb2dbe040d",
   "metadata": {},
   "source": [
    "# Laboratory 01 Group exercises"
   ]
  },
  {
   "cell_type": "markdown",
   "id": "0f67414e-e40e-44eb-87aa-6f6335d501ed",
   "metadata": {},
   "source": [
    "Our goal is to create computer code in Python to compute the number of seconds in the randomly selected month. The value will be assigned to a variable with name of the month and the label _seconds. For example June_seconds."
   ]
  },
  {
   "cell_type": "code",
   "execution_count": 1,
   "id": "aa6a2e55-b39f-451b-95fa-0518d1ac95c8",
   "metadata": {},
   "outputs": [],
   "source": [
    "# Variable with month string from the randomly assigned month,replace ...\n",
    "month = ..."
   ]
  },
  {
   "cell_type": "code",
   "execution_count": null,
   "id": "b1f41cb2-33a2-48a7-b92b-18d50d64e3c6",
   "metadata": {},
   "outputs": [],
   "source": [
    "# Computation of seconds\n",
    "\n"
   ]
  },
  {
   "cell_type": "code",
   "execution_count": null,
   "id": "45d37326-29bc-42e8-a1e3-2c1bb0307da8",
   "metadata": {},
   "outputs": [],
   "source": [
    "# print value of the variable\n",
    "print(...)"
   ]
  }
 ],
 "metadata": {
  "kernelspec": {
   "display_name": "Python 3 (ipykernel)",
   "language": "python",
   "name": "python3"
  },
  "language_info": {
   "codemirror_mode": {
    "name": "ipython",
    "version": 3
   },
   "file_extension": ".py",
   "mimetype": "text/x-python",
   "name": "python",
   "nbconvert_exporter": "python",
   "pygments_lexer": "ipython3",
   "version": "3.9.12"
  }
 },
 "nbformat": 4,
 "nbformat_minor": 5
}
