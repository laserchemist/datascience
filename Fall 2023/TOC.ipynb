{
 "cells": [
  {
   "cell_type": "markdown",
   "id": "669cfeb7-d672-4b8c-8e3e-ba15dd6dc83a",
   "metadata": {},
   "source": [
    "## Elements of Data Science for the Life and Physical Sciences\n",
    "### Fall 2023"
   ]
  },
  {
   "cell_type": "markdown",
   "id": "ea6a1f25-afab-43ba-b3a5-cf7cc6a196b7",
   "metadata": {},
   "source": [
    "<img src=\"Temple_flag_morn.png\" alt=\"Temple Powered\" style=\"width: 200px;\"/>"
   ]
  },
  {
   "cell_type": "markdown",
   "id": "a73c3d7b-4a3a-4a51-814b-0dad926b1cb7",
   "metadata": {},
   "source": [
    "## Week\tTopic\tAssessments\n",
    "\t\t\n",
    "### M1\tProgramming and data visualization\t\n",
    "1. \tCourse introduction & \n",
    "Python Bootcamp Week 1 \t\n",
    "- Lab 00: [Link](https://temple.2i2c.cloud/hub/user-redirect/lab/tree/datascience/Fall%202023/Lab00/lab00_intro.ipynb) (Practice with Jupyter Notebooks)\n",
    "- Lab 01: [Link](https://temple.2i2c.cloud/hub/user-redirect/lab/tree/datascience/Fall%202023/Lab01/lab01_firstcode.ipynb) (Introduction to Python Coding) \n",
    "\n",
    "2. \tPython Bootcamp Week 2\n",
    "(Data Types, Tables, Functions)\t\n",
    "- Lab 02: [Link](https://temple.2i2c.cloud/hub/user-redirect/lab/tree/datascience/Fall%202023/Lab02/lab2_dataTypes_new.ipynb) (Data Types): Acceleration of Gravity on the Moon\n",
    "\n",
    "3. \tUnderstanding Data with Table Methods\tLab 03 (Data Tables): Environmental Protection Index and Sustainability\n",
    "\n",
    "4. \tVisualizing Data\tLab 04 (Functions and Visualization): COVID data\n",
    "\n",
    "5.\tSummary: Module 1\tProject 1: Programming & Data Visualization: Olympics mini-project \n",
    "\n",
    "### M2\tStatistical inference\t\n",
    "6. \tIteration and Probability\tLab 05 (Probability & Randomization): Groundhog Weather Prognostication\n",
    "\n",
    "7. \tHypothesis Testing \n",
    "(Sampling, Simulation)\tLab 06 (Sampling & Simulation): DNA GC Content and Wordle\n",
    "\n",
    "8. \tA/B Testing & Causality\tLab 07 (Inference):Global Climate Change\n",
    "\n",
    "9. \tSummary: Module 2\tProject 2: Statistical Inference: Mount Saint Helens and biodiversity recovery\n",
    "\n",
    "### M3\tPrediction and machine learning\t\n",
    "10. \tNormal Distribution\n",
    "(Mean, Standard Deviation)\tLab 08 (Variance of Sample Means and Correlation): Old Faithful Eruption Data\n",
    "\n",
    "11. \tRegression & Regression Inference\tLab 09 (Regression): Estimation of the Age of the Universe\n",
    "\n",
    "12. \tClassifiers and Classification\tLab 10 (Machine Learning, Classification, & Chemistry): Flower species classification and Molecular Acidity Prediction\n",
    "\n",
    "13. \tSummary: Module 3 \tProject 3: Prediction and Machine Learning \n",
    "\n",
    "14. \tProject Presentations \tProject 3 Presentations \n",
    "\n"
   ]
  },
  {
   "cell_type": "code",
   "execution_count": null,
   "id": "76f954ed-c4a6-463d-a8a5-3b44fead9456",
   "metadata": {},
   "outputs": [],
   "source": []
  }
 ],
 "metadata": {
  "kernelspec": {
   "display_name": "Python 3 (ipykernel)",
   "language": "python",
   "name": "python3"
  },
  "language_info": {
   "codemirror_mode": {
    "name": "ipython",
    "version": 3
   },
   "file_extension": ".py",
   "mimetype": "text/x-python",
   "name": "python",
   "nbconvert_exporter": "python",
   "pygments_lexer": "ipython3",
   "version": "3.10.11"
  }
 },
 "nbformat": 4,
 "nbformat_minor": 5
}
