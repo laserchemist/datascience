{
 "cells": [
  {
   "cell_type": "markdown",
   "id": "a3ed0f12-60c0-4d84-a32b-43e830e446a0",
   "metadata": {},
   "source": [
    "# table group and pivot methods\n",
    "These methods are a powerful way to summarize a data set along chosen dimensions"
   ]
  },
  {
   "cell_type": "code",
   "execution_count": null,
   "id": "c08a3204-7e0b-467d-add2-3467ee247a32",
   "metadata": {},
   "outputs": [],
   "source": [
    "from datascience import *\n",
    "\n",
    "import numpy as np\n",
    "%matplotlib inline\n",
    "import matplotlib.pyplot as plt\n",
    "plt.style.use('ggplot')"
   ]
  },
  {
   "cell_type": "markdown",
   "id": "2f83fc23-13c8-45a9-9c23-67ce4b32e7be",
   "metadata": {},
   "source": [
    "## Example\n",
    "[See Inferential Thinking](https://inferentialthinking.com/chapters/07/1/Visualizing_Categorical_Distributions.html?highlight=group)\n",
    "\n",
    "[Ben & Jerry data visualization](https://benjerry.heshlindsdataviz.com)\n",
    "\n",
    "<img src = \"https://www.benjerry.com/files/live/sites/systemsite/files/US%20and%20Global%20Assets/Flavors/Product%20Assets/US/Chunky%20Monkey%20Ice%20Cream/35660_US_IC_Chunky-Monkey_473ml_Open_Brand-1902px.png\" alt=\"Image of Ben & Jerry Chunky Monkey\" width=200 />"
   ]
  },
  {
   "cell_type": "code",
   "execution_count": null,
   "id": "97054005-9d0b-4b5f-949a-2a40db03365f",
   "metadata": {
    "tags": []
   },
   "outputs": [],
   "source": [
    "IC_data = Table.read_table('data/BenJerryData.csv')\n",
    "IC_data"
   ]
  },
  {
   "cell_type": "markdown",
   "id": "ed9403fb-96fa-48c7-8f0b-2eed61d3988b",
   "metadata": {},
   "source": [
    "### .group"
   ]
  },
  {
   "cell_type": "markdown",
   "id": "d8b1dcf5-af8e-4a24-9f92-1806ab02b3da",
   "metadata": {},
   "source": [
    "Look at base ice creams"
   ]
  },
  {
   "cell_type": "code",
   "execution_count": null,
   "id": "7fa67889-4f98-44d6-abff-c9941a75a22c",
   "metadata": {
    "tags": []
   },
   "outputs": [],
   "source": [
    "IC_data.group('base ice cream')"
   ]
  },
  {
   "cell_type": "code",
   "execution_count": null,
   "id": "b6b14dab-22fa-47ba-9292-62ee65e0513d",
   "metadata": {
    "tags": []
   },
   "outputs": [],
   "source": [
    "IC_data.group('base ice cream').sort('count', descending=True).barh('base ice cream')"
   ]
  },
  {
   "cell_type": "code",
   "execution_count": null,
   "id": "32989275-b7c2-46ec-b68c-7fd72f93f27e",
   "metadata": {
    "tags": []
   },
   "outputs": [],
   "source": [
    "IC_data.pivot('Flavor','fat (g)')"
   ]
  },
  {
   "cell_type": "code",
   "execution_count": null,
   "id": "c289af72-c71a-4dbb-ba36-99d378f48b1e",
   "metadata": {
    "tags": []
   },
   "outputs": [],
   "source": [
    "IC_data.pivot('base ice cream', 'Flavor', values='sodium (mg)', collect=max)"
   ]
  },
  {
   "cell_type": "markdown",
   "id": "29f39b3a-23dc-45ec-bfe2-e1c9b8228a33",
   "metadata": {},
   "source": [
    "### Now you try\n",
    "\n",
    "Group on 'base ice cream' again, but instead of summarizing with the default, which is count(), use max()."
   ]
  },
  {
   "cell_type": "markdown",
   "id": "6d6c096c-7ea5-4001-8525-7db3a92e4a30",
   "metadata": {},
   "source": [
    "Try pivoting on \"sodium (mg)\" and make a horizontal bar chart with ice cream flavors in descending order of salt content."
   ]
  },
  {
   "cell_type": "code",
   "execution_count": null,
   "id": "5b9278e0-0f52-4bbf-9147-a2e186bcdd8f",
   "metadata": {
    "tags": []
   },
   "outputs": [],
   "source": []
  },
  {
   "cell_type": "markdown",
   "id": "68d4172f-baf5-4906-860a-b7756273fd46",
   "metadata": {},
   "source": [
    "Now create a pivot table with 'base ice cream' and 'Flavor', but this time set values to calories."
   ]
  },
  {
   "cell_type": "code",
   "execution_count": null,
   "id": "1fa5656c-266b-424c-9c3f-2b7ce98ff867",
   "metadata": {
    "tags": []
   },
   "outputs": [],
   "source": []
  },
  {
   "cell_type": "markdown",
   "id": "fd970f1f-3d22-4384-8ea6-9f7c44e7826d",
   "metadata": {},
   "source": [
    "Make a scatter plot of the original table, plotting fat vs. calories. Include a best-fit straight line. Do you think there is a strong correlation?"
   ]
  },
  {
   "cell_type": "code",
   "execution_count": null,
   "id": "f537b7b3-7174-414f-9b2a-811ce83f4efa",
   "metadata": {
    "tags": []
   },
   "outputs": [],
   "source": []
  },
  {
   "cell_type": "code",
   "execution_count": null,
   "id": "5dabd24b-3415-40fb-9f92-436f3dc46074",
   "metadata": {},
   "outputs": [],
   "source": []
  }
 ],
 "metadata": {
  "kernelspec": {
   "display_name": "Python 3 (ipykernel)",
   "language": "python",
   "name": "python3"
  },
  "language_info": {
   "codemirror_mode": {
    "name": "ipython",
    "version": 3
   },
   "file_extension": ".py",
   "mimetype": "text/x-python",
   "name": "python",
   "nbconvert_exporter": "python",
   "pygments_lexer": "ipython3",
   "version": "3.10.11"
  }
 },
 "nbformat": 4,
 "nbformat_minor": 5
}
