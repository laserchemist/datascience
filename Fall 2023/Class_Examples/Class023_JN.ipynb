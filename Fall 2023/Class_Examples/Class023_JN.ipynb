{
 "cells": [
  {
   "cell_type": "markdown",
   "id": "c6373a5f-01fd-4d31-ad21-88f9dcc56ef3",
   "metadata": {},
   "source": [
    "## Bootstrap Slope Confidence Interval Examples\n",
    "Class 023"
   ]
  },
  {
   "cell_type": "code",
   "execution_count": 1,
   "id": "4d9186ce-38bc-49e7-a49c-a4da626d37f8",
   "metadata": {},
   "outputs": [],
   "source": [
    "## import statements\n",
    "# These lines load the tests. \n",
    "from gofer.ok import check\n",
    "import numpy as np\n",
    "from datascience import *\n",
    "import pandas as pd\n",
    "import matplotlib\n",
    "from matplotlib import patches\n",
    "%matplotlib inline\n",
    "import matplotlib.pyplot as plt\n",
    "import seaborn as sns\n",
    "import warnings\n",
    "warnings.simplefilter('ignore', FutureWarning)\n",
    "plt.style.use('ggplot')\n",
    "from ipywidgets import interact, interactive, fixed\n",
    "import ipywidgets as widgets\n",
    "# Fix for datascience collections Iterable\n",
    "import collections as collections\n",
    "import collections.abc as abc\n",
    "collections.Iterable = abc.Iterable"
   ]
  },
  {
   "cell_type": "code",
   "execution_count": 25,
   "id": "776f6b83-c650-425e-b0fe-6cbb55a856c6",
   "metadata": {},
   "outputs": [],
   "source": [
    "def standard_units(xyz):\n",
    "    \"Convert any array of numbers to standard units.\"\n",
    "    return (xyz - np.mean(xyz)) / np.std(xyz)\n",
    "\n",
    "\n",
    "def correlation(t, label_x, label_y):\n",
    "    return np.mean(\n",
    "        standard_units(t.column(label_x)) * standard_units(t.column(label_y))\n",
    "    )\n",
    "\n",
    "\n",
    "# Regression\n",
    "def slope(t, label_x, label_y):\n",
    "    r = correlation(t, label_x, label_y)\n",
    "    return r * np.std(t.column(label_y)) / np.std(t.column(label_x))\n",
    "\n",
    "\n",
    "def intercept(t, label_x, label_y):\n",
    "    return np.mean(t.column(label_y)) - slope(t, label_x, label_y) * np.mean(\n",
    "        t.column(label_x)\n",
    "    )\n"
   ]
  },
  {
   "cell_type": "code",
   "execution_count": 3,
   "id": "cf10d8b6-23cc-4c2c-a1c2-a295202289c9",
   "metadata": {},
   "outputs": [
    {
     "data": {
      "image/png": "[encoded data removed]",
      "text/plain": [
       "<Figure size 500x500 with 1 Axes>"
      ]
     },
     "metadata": {},
     "output_type": "display_data"
    }
   ],
   "source": [
    "faithful = Table.read_table(\"../Lab08/faithful-new.csv\")\n",
    "faithful.scatter('duration','wait')"
   ]
  },
  {
   "cell_type": "markdown",
   "id": "9a5607f7-1e2e-4d80-9497-2113c89146ef",
   "metadata": {
    "tags": []
   },
   "source": [
    "#### Slope\n",
    "***\n",
    "\n",
    "slope of the regression line $= r \\cdot\n",
    "\\frac{SD_y}{SD_x}$<br>\n",
    "intercept of the regression line $=\n",
    "\\bar{y} - slope \\cdot \\bar{x}$<br><br>\n",
    "***\n",
    "equation of the regression line:<br> $ \\hat{y} =$\n",
    " slope $\\cdot x $+ intercept<br>\n",
    "error in fit:<br> error $ =  y - \\hat{y} = y - $slope $\\cdot x $+ intercept<br>\n",
    "\n",
    "***"
   ]
  },
  {
   "cell_type": "code",
   "execution_count": 5,
   "id": "540f433c-54ef-40f2-947c-00cf9f45004b",
   "metadata": {},
   "outputs": [],
   "source": [
    "duration_mean = np.mean(faithful[\"duration\"])\n",
    "duration_std = np.std(faithful.column(\"duration\"))\n",
    "wait_mean = np.mean(faithful.column(\"wait\"))\n",
    "wait_std = np.std(faithful.column(\"wait\"))\n",
    "\n",
    "faithful_standard = Table().with_columns(\n",
    "    \"duration (standard units)\",\n",
    "    (faithful.column(\"duration\") - duration_mean) / duration_std,\n",
    "    \"wait (standard units)\",\n",
    "    (faithful.column(\"wait\") - wait_mean) / wait_std,\n",
    ")"
   ]
  },
  {
   "cell_type": "code",
   "execution_count": 6,
   "id": "128d8cd4-33ae-44bb-add1-a077fb193d1b",
   "metadata": {},
   "outputs": [
    {
     "data": {
      "text/plain": [
       "0.90081116832181318"
      ]
     },
     "execution_count": 6,
     "metadata": {},
     "output_type": "execute_result"
    }
   ],
   "source": [
    "r = np.mean(faithful_standard[\"duration (standard units)\"] * faithful_standard[\"wait (standard units)\"])\n",
    "r"
   ]
  },
  {
   "cell_type": "code",
   "execution_count": 7,
   "id": "853101eb-e3cc-4832-8a94-33e1f22a9918",
   "metadata": {},
   "outputs": [
    {
     "data": {
      "text/html": [
       "<table border=\"1\" class=\"dataframe\">\n",
       "    <thead>\n",
       "        <tr>\n",
       "            <th>duration</th> <th>wait</th>\n",
       "        </tr>\n",
       "    </thead>\n",
       "    <tbody>\n",
       "        <tr>\n",
       "            <td>3.6     </td> <td>79  </td>\n",
       "        </tr>\n",
       "        <tr>\n",
       "            <td>1.8     </td> <td>54  </td>\n",
       "        </tr>\n",
       "        <tr>\n",
       "            <td>3.333   </td> <td>74  </td>\n",
       "        </tr>\n",
       "        <tr>\n",
       "            <td>2.283   </td> <td>62  </td>\n",
       "        </tr>\n",
       "        <tr>\n",
       "            <td>4.533   </td> <td>85  </td>\n",
       "        </tr>\n",
       "        <tr>\n",
       "            <td>2.883   </td> <td>55  </td>\n",
       "        </tr>\n",
       "        <tr>\n",
       "            <td>4.7     </td> <td>88  </td>\n",
       "        </tr>\n",
       "        <tr>\n",
       "            <td>3.6     </td> <td>85  </td>\n",
       "        </tr>\n",
       "        <tr>\n",
       "            <td>1.95    </td> <td>51  </td>\n",
       "        </tr>\n",
       "        <tr>\n",
       "            <td>4.35    </td> <td>85  </td>\n",
       "        </tr>\n",
       "    </tbody>\n",
       "</table>\n",
       "<p>... (262 rows omitted)</p>"
      ],
      "text/plain": [
       "duration | wait\n",
       "3.6      | 79\n",
       "1.8      | 54\n",
       "3.333    | 74\n",
       "2.283    | 62\n",
       "4.533    | 85\n",
       "2.883    | 55\n",
       "4.7      | 88\n",
       "3.6      | 85\n",
       "1.95     | 51\n",
       "4.35     | 85\n",
       "... (262 rows omitted)"
      ]
     },
     "execution_count": 7,
     "metadata": {},
     "output_type": "execute_result"
    }
   ],
   "source": [
    "faithful"
   ]
  },
  {
   "cell_type": "code",
   "execution_count": 8,
   "id": "51ed72dc-dbd3-44ca-bce9-55ca2cbf0a8d",
   "metadata": {},
   "outputs": [
    {
     "name": "stdout",
     "output_type": "stream",
     "text": [
      "Slope;  10.7296413951\n",
      "For every 1 minute longer eruption duration we wait about  10.7  minutes longer\n"
     ]
    }
   ],
   "source": [
    "slope = r * wait_std / duration_std\n",
    "print(\"Slope; \",slope)\n",
    "print(\"For every 1 minute longer eruption duration we wait about \",round(slope,1),\" minutes longer\")"
   ]
  },
  {
   "cell_type": "code",
   "execution_count": 9,
   "id": "af12ec9d-d952-4bc8-8203-643177de6aed",
   "metadata": {},
   "outputs": [
    {
     "data": {
      "text/plain": [
       "33.474397022753344"
      ]
     },
     "execution_count": 9,
     "metadata": {},
     "output_type": "execute_result"
    }
   ],
   "source": [
    "intercept = wait_mean - slope * duration_mean\n",
    "intercept"
   ]
  },
  {
   "cell_type": "code",
   "execution_count": 10,
   "id": "dc07b24b-9b31-43a3-805f-33d2c90d1ebc",
   "metadata": {},
   "outputs": [],
   "source": [
    "# error = y - ypredict\n",
    "tbl = faithful\n",
    "error_list = []\n",
    "for i in np.arange(tbl.num_rows):\n",
    "    predicted_y = tbl.row(i)[0] * slope + intercept\n",
    "    error = tbl.row(i)[1] - predicted_y\n",
    "    error_list.append(error)"
   ]
  },
  {
   "cell_type": "code",
   "execution_count": 26,
   "id": "9ef80f92-61a0-4d69-8684-18f55d69cd56",
   "metadata": {},
   "outputs": [
    {
     "data": {
      "image/png": "[encoded data removed]",
      "text/plain": [
       "<Figure size 640x480 with 1 Axes>"
      ]
     },
     "metadata": {},
     "output_type": "display_data"
    }
   ],
   "source": [
    "plt.scatter(faithful['duration'], error_list)\n",
    "plt.show()"
   ]
  },
  {
   "cell_type": "code",
   "execution_count": 12,
   "id": "32b348e1-bdd0-409d-acb4-c17348419976",
   "metadata": {},
   "outputs": [],
   "source": [
    "def fit_line(tbl):\n",
    "    # x data is in column 0 and y data is in column 1\n",
    "    # Your code may need more than 1 line below here.\n",
    "    xdata, ydata = tbl.column(0), tbl.column(1)\n",
    "\n",
    "    def mse_f(slope, intercept):\n",
    "        fitted = slope * xdata + intercept\n",
    "        return np.mean((ydata - fitted) ** 2)\n",
    "\n",
    "    values = minimize(mse_f)\n",
    "    slope = values[0]\n",
    "    intercept = values[1]\n",
    "    return make_array(slope, intercept)"
   ]
  },
  {
   "cell_type": "markdown",
   "id": "957e2648-d81e-4966-8789-930903016465",
   "metadata": {},
   "source": [
    "### DIGRESSION: Why did we use nested functions above?\n",
    "This has to do with the scope of the varaiables. The function mse_f() was able to use the variables xdata and ydata without have to explicitly pass them into the function because they were defined in the enclosing scope of the function fit_line().\n",
    "\n",
    "Below is an simpler example:"
   ]
  },
  {
   "cell_type": "code",
   "execution_count": 31,
   "id": "b764849f-919a-455a-9c63-bf3abd11d7ea",
   "metadata": {
    "tags": []
   },
   "outputs": [
    {
     "data": {
      "text/html": [
       "<table border=\"1\" class=\"dataframe\">\n",
       "    <thead>\n",
       "        <tr>\n",
       "            <th>Name</th> <th>Age</th>\n",
       "        </tr>\n",
       "    </thead>\n",
       "    <tbody>\n",
       "        <tr>\n",
       "            <td>Bob  </td> <td>21  </td>\n",
       "        </tr>\n",
       "        <tr>\n",
       "            <td>Kisha</td> <td>19  </td>\n",
       "        </tr>\n",
       "    </tbody>\n",
       "</table>"
      ],
      "text/plain": [
       "Name  | Age\n",
       "Bob   | 21\n",
       "Kisha | 19"
      ]
     },
     "execution_count": 31,
     "metadata": {},
     "output_type": "execute_result"
    }
   ],
   "source": [
    "ages = Table().with_columns('Name', make_array('Bob', 'Kisha'), 'Age', make_array(21, 19))\n",
    "ages"
   ]
  },
  {
   "cell_type": "code",
   "execution_count": 34,
   "id": "205ad581-4d11-4f96-9f36-94f59591a41c",
   "metadata": {
    "tags": []
   },
   "outputs": [
    {
     "name": "stdout",
     "output_type": "stream",
     "text": [
      "[26 24]\n"
     ]
    }
   ],
   "source": [
    "def add_to_ages(years):\n",
    "    new_ages = ages.column('Age') + years\n",
    "    print(new_ages)\n",
    "    \n",
    "add_to_ages(5)"
   ]
  },
  {
   "cell_type": "code",
   "execution_count": 35,
   "id": "977046bf-2cee-45fe-8987-96b21612b91b",
   "metadata": {
    "tags": []
   },
   "outputs": [
    {
     "ename": "NameError",
     "evalue": "name 'new_ages' is not defined",
     "output_type": "error",
     "traceback": [
      "\u001b[0;31m---------------------------------------------------------------------------\u001b[0m",
      "\u001b[0;31mNameError\u001b[0m                                 Traceback (most recent call last)",
      "Cell \u001b[0;32mIn[35], line 1\u001b[0m\n\u001b[0;32m----> 1\u001b[0m \u001b[38;5;28mprint\u001b[39m(\u001b[43mnew_ages\u001b[49m)\n",
      "\u001b[0;31mNameError\u001b[0m: name 'new_ages' is not defined"
     ]
    }
   ],
   "source": [
    "print(new_ages)"
   ]
  },
  {
   "cell_type": "markdown",
   "id": "91bdca4b-0427-4eb6-b7a0-81b10883445f",
   "metadata": {},
   "source": [
    "The function add_to_ages can use the table \"ages\" because it is in the enclosing scope. But the variable \"new_ages\" is not defined ouside of the function add_to_ages(), so it prints inside the function but trying to print it outside of the function creates an error.\n",
    "\n",
    "#### End Digression"
   ]
  },
  {
   "cell_type": "code",
   "execution_count": 13,
   "id": "9e43c8e2-cf9c-408d-9c6a-9b998909cfc1",
   "metadata": {},
   "outputs": [
    {
     "data": {
      "text/plain": [
       "array([ 10.72964138,  33.47439706])"
      ]
     },
     "execution_count": 13,
     "metadata": {},
     "output_type": "execute_result"
    }
   ],
   "source": [
    "fit_line(faithful)"
   ]
  },
  {
   "cell_type": "code",
   "execution_count": 14,
   "id": "dc95d7a7-08c1-46c5-8ad4-b4f52689ecfa",
   "metadata": {},
   "outputs": [
    {
     "data": {
      "text/plain": [
       "array([ 10.99469855,  32.58503311])"
      ]
     },
     "execution_count": 14,
     "metadata": {},
     "output_type": "execute_result"
    }
   ],
   "source": [
    "fit_line(faithful.sample())"
   ]
  },
  {
   "cell_type": "markdown",
   "id": "67e48f9d-cc62-4066-82fd-1d12e7e74794",
   "metadata": {},
   "source": [
    "### Bootstrap 95% Confidence Interval"
   ]
  },
  {
   "cell_type": "code",
   "execution_count": 15,
   "id": "b4b11b97-5667-4143-8f9b-114d0bc65bcb",
   "metadata": {},
   "outputs": [
    {
     "name": "stdout",
     "output_type": "stream",
     "text": [
      "95% confidence interval for the predicted additional wait for 1 minute longer duration of Old Fathful : [10.1376, 10.7296, 11.3407] minutes\n"
     ]
    },
    {
     "data": {
      "image/png": "[encoded data removed]",
      "text/plain": [
       "<Figure size 600x400 with 1 Axes>"
      ]
     },
     "metadata": {},
     "output_type": "display_data"
    }
   ],
   "source": [
    "bootstrap_slope = make_array()\n",
    "for i in np.arange(1000):\n",
    "    bootstrap_slope = np.append(bootstrap_slope, fit_line(faithful.sample())[0]) # Sample without replacement\n",
    "\n",
    "lower_end = percentile(2.5,bootstrap_slope)\n",
    "upper_end = percentile(97.5,bootstrap_slope)\n",
    "Table().with_column(\"slope estimate\", bootstrap_slope).hist(bins=np.arange(9, 13, .1), unit=\"minutes\")\n",
    "print(\"95% confidence interval for the predicted additional wait for 1 minute longer duration of Old Fathful : [{:g}, {:g}, {:g}] minutes\".format(lower_end, slope, upper_end))\n",
    "plt.plot([lower_end, upper_end], [0, 0], color='red', lw=10)\n",
    "plt.show()"
   ]
  },
  {
   "cell_type": "markdown",
   "id": "a8b75b4b-ec1e-44e6-83a5-37608b07affe",
   "metadata": {},
   "source": [
    "***\n",
    "### 2018 Philadelphia Primary voter registration\n",
    "Voter registration by Ward. Look at the average size of a Ward"
   ]
  },
  {
   "cell_type": "code",
   "execution_count": 16,
   "id": "cf456fbd-b74b-48b3-8fc9-40d0b10f9668",
   "metadata": {},
   "outputs": [
    {
     "data": {
      "text/html": [
       "<table border=\"1\" class=\"dataframe\">\n",
       "    <thead>\n",
       "        <tr>\n",
       "            <th>ward</th> <th>dem</th> <th>rep</th> <th>other_party</th> <th>total</th> <th>white</th> <th>black</th> <th>hispanic</th> <th>other_race</th> <th>male</th> <th>female</th> <th>unknown_sex</th>\n",
       "        </tr>\n",
       "    </thead>\n",
       "    <tbody>\n",
       "        <tr>\n",
       "            <td>WD05</td> <td>23018</td> <td>4564</td> <td>6717       </td> <td>34299</td> <td>8697 </td> <td>2143 </td> <td>787     </td> <td>1628      </td> <td>12700</td> <td>12421 </td> <td>9178       </td>\n",
       "        </tr>\n",
       "        <tr>\n",
       "            <td>WD21</td> <td>20507</td> <td>6708</td> <td>5098       </td> <td>32313</td> <td>11722</td> <td>1923 </td> <td>453     </td> <td>666       </td> <td>11334</td> <td>13046 </td> <td>7933       </td>\n",
       "        </tr>\n",
       "        <tr>\n",
       "            <td>WD08</td> <td>20574</td> <td>4589</td> <td>6005       </td> <td>31168</td> <td>8437 </td> <td>987  </td> <td>494     </td> <td>996       </td> <td>10582</td> <td>12850 </td> <td>7736       </td>\n",
       "        </tr>\n",
       "        <tr>\n",
       "            <td>WD40</td> <td>24820</td> <td>1412</td> <td>2472       </td> <td>28704</td> <td>1303 </td> <td>14859</td> <td>246     </td> <td>1137      </td> <td>8691 </td> <td>11363 </td> <td>8650       </td>\n",
       "        </tr>\n",
       "        <tr>\n",
       "            <td>WD58</td> <td>15914</td> <td>8484</td> <td>3997       </td> <td>28395</td> <td>11813</td> <td>955  </td> <td>905     </td> <td>1603      </td> <td>9151 </td> <td>10530 </td> <td>8714       </td>\n",
       "        </tr>\n",
       "        <tr>\n",
       "            <td>WD66</td> <td>15026</td> <td>9422</td> <td>2651       </td> <td>27099</td> <td>13320</td> <td>1110 </td> <td>872     </td> <td>523       </td> <td>9115 </td> <td>10512 </td> <td>7472       </td>\n",
       "        </tr>\n",
       "        <tr>\n",
       "            <td>WD34</td> <td>22629</td> <td>984 </td> <td>1994       </td> <td>25607</td> <td>1099 </td> <td>13178</td> <td>224     </td> <td>465       </td> <td>7547 </td> <td>10777 </td> <td>7283       </td>\n",
       "        </tr>\n",
       "        <tr>\n",
       "            <td>WD39</td> <td>18537</td> <td>3814</td> <td>2899       </td> <td>25250</td> <td>10599</td> <td>1311 </td> <td>696     </td> <td>1536      </td> <td>8667 </td> <td>9741  </td> <td>6842       </td>\n",
       "        </tr>\n",
       "        <tr>\n",
       "            <td>WD56</td> <td>14732</td> <td>4536</td> <td>2946       </td> <td>22214</td> <td>7708 </td> <td>1868 </td> <td>1411    </td> <td>1146      </td> <td>7422 </td> <td>8949  </td> <td>5843       </td>\n",
       "        </tr>\n",
       "        <tr>\n",
       "            <td>WD36</td> <td>18122</td> <td>1382</td> <td>2299       </td> <td>21803</td> <td>2448 </td> <td>8853 </td> <td>365     </td> <td>811       </td> <td>7590 </td> <td>8641  </td> <td>5572       </td>\n",
       "        </tr>\n",
       "    </tbody>\n",
       "</table>\n",
       "<p>... (56 rows omitted)</p>"
      ],
      "text/plain": [
       "ward | dem   | rep  | other_party | total | white | black | hispanic | other_race | male  | female | unknown_sex\n",
       "WD05 | 23018 | 4564 | 6717        | 34299 | 8697  | 2143  | 787      | 1628       | 12700 | 12421  | 9178\n",
       "WD21 | 20507 | 6708 | 5098        | 32313 | 11722 | 1923  | 453      | 666        | 11334 | 13046  | 7933\n",
       "WD08 | 20574 | 4589 | 6005        | 31168 | 8437  | 987   | 494      | 996        | 10582 | 12850  | 7736\n",
       "WD40 | 24820 | 1412 | 2472        | 28704 | 1303  | 14859 | 246      | 1137       | 8691  | 11363  | 8650\n",
       "WD58 | 15914 | 8484 | 3997        | 28395 | 11813 | 955   | 905      | 1603       | 9151  | 10530  | 8714\n",
       "WD66 | 15026 | 9422 | 2651        | 27099 | 13320 | 1110  | 872      | 523        | 9115  | 10512  | 7472\n",
       "WD34 | 22629 | 984  | 1994        | 25607 | 1099  | 13178 | 224      | 465        | 7547  | 10777  | 7283\n",
       "WD39 | 18537 | 3814 | 2899        | 25250 | 10599 | 1311  | 696      | 1536       | 8667  | 9741   | 6842\n",
       "WD56 | 14732 | 4536 | 2946        | 22214 | 7708  | 1868  | 1411     | 1146       | 7422  | 8949   | 5843\n",
       "WD36 | 18122 | 1382 | 2299        | 21803 | 2448  | 8853  | 365      | 811        | 7590  | 8641   | 5572\n",
       "... (56 rows omitted)"
      ]
     },
     "execution_count": 16,
     "metadata": {},
     "output_type": "execute_result"
    }
   ],
   "source": [
    "url = 'qualified_voter_listing_2018_primary_by_ward.csv'\n",
    "url='https://phl.carto.com/api/v2/sql?q=SELECT+*+FROM+qualified_voter_listing_2018_primary_by_ward&filename=qualified_voter_listing_2018_primary_by_ward&format=csv&skipfields=cartodb_id,the_geom,the_geom_webmercator'\n",
    "vote = Table().read_table(url).where('ward',are.containing(\"WD\")) # Elimate row with with totals only wards\n",
    "vote.sort('total',descending=True)"
   ]
  },
  {
   "cell_type": "code",
   "execution_count": 17,
   "id": "95447f45-cc34-45bb-86bf-380e23a6ea12",
   "metadata": {},
   "outputs": [
    {
     "data": {
      "text/plain": [
       "15688.181818181818"
      ]
     },
     "execution_count": 17,
     "metadata": {},
     "output_type": "execute_result"
    }
   ],
   "source": [
    "np.average(vote['total'])"
   ]
  },
  {
   "cell_type": "code",
   "execution_count": 18,
   "id": "a7187a15-2cfb-48af-8a07-d5dedb7693eb",
   "metadata": {},
   "outputs": [],
   "source": [
    "def one_bootstrap_mean():\n",
    "    resample = vote.sample()\n",
    "    return np.mean(resample.column('total'))"
   ]
  },
  {
   "cell_type": "code",
   "execution_count": 19,
   "id": "ff3e3086-a86e-4518-b76d-dd4caa8da13d",
   "metadata": {},
   "outputs": [
    {
     "data": {
      "text/plain": [
       "16526.727272727272"
      ]
     },
     "execution_count": 19,
     "metadata": {},
     "output_type": "execute_result"
    }
   ],
   "source": [
    "one_bootstrap_mean()"
   ]
  },
  {
   "cell_type": "code",
   "execution_count": 20,
   "id": "3f543836-c767-4ab6-92a4-d81d12d42e1d",
   "metadata": {},
   "outputs": [
    {
     "data": {
      "text/plain": [
       "14268"
      ]
     },
     "execution_count": 20,
     "metadata": {},
     "output_type": "execute_result"
    }
   ],
   "source": [
    "percentile(50, vote.column('total')) # median"
   ]
  },
  {
   "cell_type": "code",
   "execution_count": 21,
   "id": "52b4aaed-df0b-4e1f-a341-514a04f6997a",
   "metadata": {},
   "outputs": [
    {
     "data": {
      "text/html": [
       "<table border=\"1\" class=\"dataframe\">\n",
       "    <thead>\n",
       "        <tr>\n",
       "            <th>ward</th> <th>dem</th> <th>rep</th> <th>other_party</th> <th>total</th> <th>white</th> <th>black</th> <th>hispanic</th> <th>other_race</th> <th>male</th> <th>female</th> <th>unknown_sex</th>\n",
       "        </tr>\n",
       "    </thead>\n",
       "    <tbody>\n",
       "        <tr>\n",
       "            <td>WD05</td> <td>23018</td> <td>4564</td> <td>6717       </td> <td>34299</td> <td>8697 </td> <td>2143 </td> <td>787     </td> <td>1628      </td> <td>12700</td> <td>12421 </td> <td>9178       </td>\n",
       "        </tr>\n",
       "        <tr>\n",
       "            <td>WD05</td> <td>23018</td> <td>4564</td> <td>6717       </td> <td>34299</td> <td>8697 </td> <td>2143 </td> <td>787     </td> <td>1628      </td> <td>12700</td> <td>12421 </td> <td>9178       </td>\n",
       "        </tr>\n",
       "        <tr>\n",
       "            <td>WD21</td> <td>20507</td> <td>6708</td> <td>5098       </td> <td>32313</td> <td>11722</td> <td>1923 </td> <td>453     </td> <td>666       </td> <td>11334</td> <td>13046 </td> <td>7933       </td>\n",
       "        </tr>\n",
       "        <tr>\n",
       "            <td>WD08</td> <td>20574</td> <td>4589</td> <td>6005       </td> <td>31168</td> <td>8437 </td> <td>987  </td> <td>494     </td> <td>996       </td> <td>10582</td> <td>12850 </td> <td>7736       </td>\n",
       "        </tr>\n",
       "        <tr>\n",
       "            <td>WD08</td> <td>20574</td> <td>4589</td> <td>6005       </td> <td>31168</td> <td>8437 </td> <td>987  </td> <td>494     </td> <td>996       </td> <td>10582</td> <td>12850 </td> <td>7736       </td>\n",
       "        </tr>\n",
       "        <tr>\n",
       "            <td>WD58</td> <td>15914</td> <td>8484</td> <td>3997       </td> <td>28395</td> <td>11813</td> <td>955  </td> <td>905     </td> <td>1603      </td> <td>9151 </td> <td>10530 </td> <td>8714       </td>\n",
       "        </tr>\n",
       "        <tr>\n",
       "            <td>WD58</td> <td>15914</td> <td>8484</td> <td>3997       </td> <td>28395</td> <td>11813</td> <td>955  </td> <td>905     </td> <td>1603      </td> <td>9151 </td> <td>10530 </td> <td>8714       </td>\n",
       "        </tr>\n",
       "        <tr>\n",
       "            <td>WD39</td> <td>18537</td> <td>3814</td> <td>2899       </td> <td>25250</td> <td>10599</td> <td>1311 </td> <td>696     </td> <td>1536      </td> <td>8667 </td> <td>9741  </td> <td>6842       </td>\n",
       "        </tr>\n",
       "        <tr>\n",
       "            <td>WD56</td> <td>14732</td> <td>4536</td> <td>2946       </td> <td>22214</td> <td>7708 </td> <td>1868 </td> <td>1411    </td> <td>1146      </td> <td>7422 </td> <td>8949  </td> <td>5843       </td>\n",
       "        </tr>\n",
       "        <tr>\n",
       "            <td>WD36</td> <td>18122</td> <td>1382</td> <td>2299       </td> <td>21803</td> <td>2448 </td> <td>8853 </td> <td>365     </td> <td>811       </td> <td>7590 </td> <td>8641  </td> <td>5572       </td>\n",
       "        </tr>\n",
       "    </tbody>\n",
       "</table>\n",
       "<p>... (56 rows omitted)</p>"
      ],
      "text/plain": [
       "ward | dem   | rep  | other_party | total | white | black | hispanic | other_race | male  | female | unknown_sex\n",
       "WD05 | 23018 | 4564 | 6717        | 34299 | 8697  | 2143  | 787      | 1628       | 12700 | 12421  | 9178\n",
       "WD05 | 23018 | 4564 | 6717        | 34299 | 8697  | 2143  | 787      | 1628       | 12700 | 12421  | 9178\n",
       "WD21 | 20507 | 6708 | 5098        | 32313 | 11722 | 1923  | 453      | 666        | 11334 | 13046  | 7933\n",
       "WD08 | 20574 | 4589 | 6005        | 31168 | 8437  | 987   | 494      | 996        | 10582 | 12850  | 7736\n",
       "WD08 | 20574 | 4589 | 6005        | 31168 | 8437  | 987   | 494      | 996        | 10582 | 12850  | 7736\n",
       "WD58 | 15914 | 8484 | 3997        | 28395 | 11813 | 955   | 905      | 1603       | 9151  | 10530  | 8714\n",
       "WD58 | 15914 | 8484 | 3997        | 28395 | 11813 | 955   | 905      | 1603       | 9151  | 10530  | 8714\n",
       "WD39 | 18537 | 3814 | 2899        | 25250 | 10599 | 1311  | 696      | 1536       | 8667  | 9741   | 6842\n",
       "WD56 | 14732 | 4536 | 2946        | 22214 | 7708  | 1868  | 1411     | 1146       | 7422  | 8949   | 5843\n",
       "WD36 | 18122 | 1382 | 2299        | 21803 | 2448  | 8853  | 365      | 811        | 7590  | 8641   | 5572\n",
       "... (56 rows omitted)"
      ]
     },
     "execution_count": 21,
     "metadata": {},
     "output_type": "execute_result"
    }
   ],
   "source": [
    "vote.sample().sort('total',descending=True)"
   ]
  },
  {
   "cell_type": "code",
   "execution_count": 22,
   "id": "749ec259-e928-46b0-891c-fc35e4ceeb44",
   "metadata": {},
   "outputs": [
    {
     "data": {
      "image/png": "[encoded data removed]",
      "text/plain": [
       "<Figure size 640x480 with 1 Axes>"
      ]
     },
     "metadata": {},
     "output_type": "display_data"
    }
   ],
   "source": [
    "total_mean = []\n",
    "for i in np.arange(1000):\n",
    "    total_mean.append(one_bootstrap_mean())\n",
    "plt.hist(total_mean)\n",
    "plt.show()"
   ]
  },
  {
   "cell_type": "code",
   "execution_count": 23,
   "id": "e71c343b-378c-45cd-b148-8ab2ec7cc18d",
   "metadata": {},
   "outputs": [
    {
     "data": {
      "text/plain": [
       "array([ 14302.09090909,  17194.03030303])"
      ]
     },
     "execution_count": 23,
     "metadata": {},
     "output_type": "execute_result"
    }
   ],
   "source": [
    "left = percentile(2.5, total_mean)\n",
    "right = percentile(97.5, total_mean)\n",
    "\n",
    "make_array(left, right)"
   ]
  },
  {
   "cell_type": "code",
   "execution_count": 24,
   "id": "80ba4c5f-3d07-493d-975e-bbb99c1cb9e3",
   "metadata": {},
   "outputs": [
    {
     "data": {
      "image/png": "[encoded data removed]",
      "text/plain": [
       "<Figure size 640x480 with 1 Axes>"
      ]
     },
     "metadata": {},
     "output_type": "display_data"
    }
   ],
   "source": [
    "plt.hist(total_mean)\n",
    "plt.plot([left, right], [0, 0], color='yellow', lw=8)\n",
    "plt.title(\"Philadelphia Voters by Ward\")\n",
    "plt.xlim(10000,20000)\n",
    "plt.tight_layout()\n",
    "plt.savefig('bootstrap_CI.png')"
   ]
  }
 ],
 "metadata": {
  "kernelspec": {
   "display_name": "Python 3 (ipykernel)",
   "language": "python",
   "name": "python3"
  },
  "language_info": {
   "codemirror_mode": {
    "name": "ipython",
    "version": 3
   },
   "file_extension": ".py",
   "mimetype": "text/x-python",
   "name": "python",
   "nbconvert_exporter": "python",
   "pygments_lexer": "ipython3",
   "version": "3.10.11"
  }
 },
 "nbformat": 4,
 "nbformat_minor": 5
}
