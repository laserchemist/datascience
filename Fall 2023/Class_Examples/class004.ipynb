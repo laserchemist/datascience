{
 "cells": [
  {
   "cell_type": "markdown",
   "id": "a57f1d2d-6623-489c-9b28-f6292f67b8b9",
   "metadata": {},
   "source": [
    "## Class 004 examples"
   ]
  },
  {
   "cell_type": "markdown",
   "id": "d33f4b68-eb27-44df-b33a-c7a1b3eb4ffc",
   "metadata": {},
   "source": [
    "Import external functionality"
   ]
  },
  {
   "cell_type": "code",
   "execution_count": 1,
   "id": "c7763a93-22ac-4813-ad7e-cee5ee053d93",
   "metadata": {},
   "outputs": [],
   "source": [
    "import numpy as np\n",
    "from datascience import * # Brings into Python the datascience Table object\n",
    "# This lines load the tests.\n",
    "from gofer.ok import check"
   ]
  },
  {
   "cell_type": "code",
   "execution_count": 2,
   "id": "500b3c02-5edd-405c-90bb-026ba2aba26d",
   "metadata": {},
   "outputs": [],
   "source": [
    "import math as m"
   ]
  },
  {
   "cell_type": "code",
   "execution_count": 3,
   "id": "f235e2a0-87fc-49a2-8ed1-ef59687082bb",
   "metadata": {},
   "outputs": [
    {
     "data": {
      "text/plain": [
       "3.141592653589793"
      ]
     },
     "execution_count": 3,
     "metadata": {},
     "output_type": "execute_result"
    }
   ],
   "source": [
    "m.pi"
   ]
  },
  {
   "cell_type": "code",
   "execution_count": 4,
   "id": "96e15dc3-3709-4987-aae7-6324ec458e86",
   "metadata": {},
   "outputs": [
    {
     "data": {
      "text/plain": [
       "531441"
      ]
     },
     "execution_count": 4,
     "metadata": {},
     "output_type": "execute_result"
    }
   ],
   "source": [
    "3**(4*3)"
   ]
  },
  {
   "cell_type": "code",
   "execution_count": null,
   "id": "883c794d-bb10-4df2-8746-fd76aa56d588",
   "metadata": {},
   "outputs": [],
   "source": [
    "m.pi = 3+4"
   ]
  },
  {
   "cell_type": "code",
   "execution_count": null,
   "id": "1f77bf77-cee4-4595-9ba3-beee8e1357f9",
   "metadata": {},
   "outputs": [],
   "source": [
    "m.pi"
   ]
  },
  {
   "cell_type": "code",
   "execution_count": null,
   "id": "b9f366b2-7386-48d4-8dfb-cc50e0e92dac",
   "metadata": {},
   "outputs": [],
   "source": [
    "print"
   ]
  },
  {
   "cell_type": "code",
   "execution_count": null,
   "id": "a73c373c-a584-44cc-b262-bcf3cab51059",
   "metadata": {},
   "outputs": [],
   "source": [
    "print(7)"
   ]
  },
  {
   "cell_type": "code",
   "execution_count": null,
   "id": "21bcb27f-273b-4d30-bbf0-8a253fd3f275",
   "metadata": {},
   "outputs": [],
   "source": [
    "sum = 55 + 7\n",
    "sum"
   ]
  },
  {
   "cell_type": "code",
   "execution_count": null,
   "id": "515ea8e8-9d33-435f-baf2-b2c9d96a7d70",
   "metadata": {},
   "outputs": [],
   "source": [
    "sum -= 2\n",
    "sum"
   ]
  },
  {
   "cell_type": "code",
   "execution_count": null,
   "id": "9337b3a2-bb03-4cab-9a8f-fdb76e19a883",
   "metadata": {},
   "outputs": [],
   "source": [
    "type(sum)"
   ]
  },
  {
   "cell_type": "code",
   "execution_count": null,
   "id": "37e08c25-77d5-49eb-ba0e-14f75782e30c",
   "metadata": {},
   "outputs": [],
   "source": [
    "print(sum)"
   ]
  },
  {
   "cell_type": "code",
   "execution_count": null,
   "id": "86f03f50-6434-40b2-be6f-1566b6c959fd",
   "metadata": {},
   "outputs": [],
   "source": [
    "print(\"sum\")"
   ]
  },
  {
   "cell_type": "markdown",
   "id": "085a5f3d-3b09-4aae-83ee-e25e17f80e17",
   "metadata": {
    "tags": []
   },
   "source": [
    "#### Test out data types\n",
    "Now I am learning this stuff"
   ]
  },
  {
   "cell_type": "code",
   "execution_count": null,
   "id": "62012beb-f6fe-466b-b101-5632f6dea16b",
   "metadata": {},
   "outputs": [],
   "source": [
    "sumvalue=\"sum\" # Create string variable, sumvalue"
   ]
  },
  {
   "cell_type": "code",
   "execution_count": null,
   "id": "974707d2-7275-473d-b848-a38d039fbcf6",
   "metadata": {},
   "outputs": [],
   "source": [
    "sumvalue"
   ]
  },
  {
   "cell_type": "markdown",
   "id": "fc4f1a2f-94e0-4b5a-baf4-5862031ac0fe",
   "metadata": {},
   "source": [
    "## Learning Goals for Lab 02\n",
    "Data Types: See video of same name\n",
    "- Expressions & numbers revisited\n",
    "- Variables & Data Types\n",
    "    - Strings\n",
    "    - Integer\n",
    "    - Float\n",
    "- more built-in functions: max(), min(), abs(), pow(), round()\n",
    "- Translating science into Python formulas: Newton's equations\n",
    "- importing code functionality: import math\n",
    "    - math.pi()\n",
    "    - math.sqrt()\n",
    "    - math.log()\n",
    "    - math.factorial()\n",
    "- arrays: from datascience import *\n",
    "    - make_array(0.125, 4.75, -1.3)\n",
    "- arrays: import numpy as np\n",
    "    - np.array([0, 1, -1, math.pi, math.e])\n",
    "- lists: [1, 2, 3, 4]"
   ]
  },
  {
   "cell_type": "code",
   "execution_count": null,
   "id": "676d5160-6423-4201-af3d-41d30234aaf7",
   "metadata": {},
   "outputs": [],
   "source": [
    "max(3,4,5, 88,2022)"
   ]
  },
  {
   "cell_type": "code",
   "execution_count": null,
   "id": "6aa7abb6-4dd2-4672-bb77-87306e4f35c2",
   "metadata": {},
   "outputs": [],
   "source": [
    "import math"
   ]
  },
  {
   "cell_type": "code",
   "execution_count": null,
   "id": "4ef87b1d-5e1b-42e2-8a01-f40160df5287",
   "metadata": {},
   "outputs": [],
   "source": [
    "radius= 5.0 \n",
    "area_of_circle = radius**2 * math.pi\n",
    "print(round(area_of_circle,2))"
   ]
  },
  {
   "cell_type": "code",
   "execution_count": null,
   "id": "38686766-842a-4717-844b-7b94007bcf6f",
   "metadata": {},
   "outputs": [],
   "source": [
    "math.e"
   ]
  },
  {
   "cell_type": "code",
   "execution_count": null,
   "id": "87e2c948-43bc-4368-b8da-07ad70b38c81",
   "metadata": {},
   "outputs": [],
   "source": [
    "from datascience import *"
   ]
  },
  {
   "cell_type": "markdown",
   "id": "f729c83e-1d55-4dc4-b48b-0039a304ecd8",
   "metadata": {},
   "source": [
    "### Arrays"
   ]
  },
  {
   "cell_type": "code",
   "execution_count": 5,
   "id": "6ddfd4c0-2074-4303-a236-8972be8ac939",
   "metadata": {},
   "outputs": [],
   "source": [
    "firstarray=make_array(3,4,5,6,7)"
   ]
  },
  {
   "cell_type": "code",
   "execution_count": 6,
   "id": "fa2fe5be-6f7a-46b3-afab-b59d1ad8b8ab",
   "metadata": {},
   "outputs": [
    {
     "data": {
      "text/plain": [
       "array([30, 40, 50, 60, 70])"
      ]
     },
     "execution_count": 6,
     "metadata": {},
     "output_type": "execute_result"
    }
   ],
   "source": [
    "10*firstarray"
   ]
  },
  {
   "cell_type": "code",
   "execution_count": 7,
   "id": "4559d244-ef81-4809-bda1-b4fe61daa624",
   "metadata": {},
   "outputs": [
    {
     "data": {
      "text/plain": [
       "numpy.ndarray"
      ]
     },
     "execution_count": 7,
     "metadata": {},
     "output_type": "execute_result"
    }
   ],
   "source": [
    "type(firstarray)"
   ]
  },
  {
   "cell_type": "code",
   "execution_count": 10,
   "id": "cd2221f2-be60-433f-ae16-a4ed29fe445f",
   "metadata": {},
   "outputs": [],
   "source": [
    "import numpy as nump\n",
    "import math as m"
   ]
  },
  {
   "cell_type": "code",
   "execution_count": 14,
   "id": "26af1332-4d53-4c22-935f-3f1fd479c9cd",
   "metadata": {},
   "outputs": [
    {
     "data": {
      "text/plain": [
       "array([ 0.        ,  1.        , -1.        ,  3.14159265,  2.71828183])"
      ]
     },
     "execution_count": 14,
     "metadata": {},
     "output_type": "execute_result"
    }
   ],
   "source": [
    "nump.array([0, 1, -1, m.pi, m.e])"
   ]
  },
  {
   "cell_type": "code",
   "execution_count": 15,
   "id": "75752254-388d-4fc2-8627-67df2ec892ae",
   "metadata": {},
   "outputs": [
    {
     "data": {
      "text/plain": [
       "list"
      ]
     },
     "execution_count": 15,
     "metadata": {},
     "output_type": "execute_result"
    }
   ],
   "source": [
    "type([\"one\",2,3,4])"
   ]
  },
  {
   "cell_type": "code",
   "execution_count": 17,
   "id": "1f8aad66-73fd-4173-b3c0-1d50017450ec",
   "metadata": {
    "tags": []
   },
   "outputs": [
    {
     "data": {
      "text/plain": [
       "['one', 2, 3, 4, 'one', 2, 3, 4]"
      ]
     },
     "execution_count": 17,
     "metadata": {},
     "output_type": "execute_result"
    }
   ],
   "source": [
    "2*[\"one\",2,3,4]"
   ]
  },
  {
   "cell_type": "markdown",
   "id": "dfd0fff9-5f70-466e-9596-7da49b401816",
   "metadata": {},
   "source": [
    "### String methods"
   ]
  },
  {
   "cell_type": "code",
   "execution_count": 18,
   "id": "21ba5cb2-a863-421f-96fc-d13e0ba7e43e",
   "metadata": {},
   "outputs": [
    {
     "name": "stdout",
     "output_type": "stream",
     "text": [
      "sharp: edged\n",
      "hot: magma\n"
     ]
    }
   ],
   "source": [
    "sharp = 'edged'\n",
    "hot = sharp.replace('ed', 'ma')\n",
    "print('sharp:', sharp)\n",
    "print('hot:', hot)"
   ]
  },
  {
   "cell_type": "markdown",
   "id": "cff20ab3-9faa-4081-b0d3-ee7b14cd3974",
   "metadata": {},
   "source": [
    "### Class 004 further examples"
   ]
  },
  {
   "cell_type": "code",
   "execution_count": 2,
   "id": "9c8d0b66-a203-4fb3-934d-6e46ad218aff",
   "metadata": {
    "tags": []
   },
   "outputs": [
    {
     "name": "stdout",
     "output_type": "stream",
     "text": [
      "Collecting meteostat\n",
      "  Using cached meteostat-1.6.5-py3-none-any.whl (31 kB)\n",
      "Requirement already satisfied: pandas>=1.1 in /opt/conda/lib/python3.10/site-packages (from meteostat) (2.0.1)\n",
      "Requirement already satisfied: pytz in /opt/conda/lib/python3.10/site-packages (from meteostat) (2023.3)\n",
      "Requirement already satisfied: numpy in /opt/conda/lib/python3.10/site-packages (from meteostat) (1.23.5)\n",
      "Requirement already satisfied: python-dateutil>=2.8.2 in /opt/conda/lib/python3.10/site-packages (from pandas>=1.1->meteostat) (2.8.2)\n",
      "Requirement already satisfied: tzdata>=2022.1 in /opt/conda/lib/python3.10/site-packages (from pandas>=1.1->meteostat) (2023.3)\n",
      "Requirement already satisfied: six>=1.5 in /opt/conda/lib/python3.10/site-packages (from python-dateutil>=2.8.2->pandas>=1.1->meteostat) (1.16.0)\n",
      "Installing collected packages: meteostat\n",
      "Successfully installed meteostat-1.6.5\n"
     ]
    }
   ],
   "source": [
    "!pip install meteostat\n",
    "# Import Meteostat library and dependencies\n",
    "from datetime import datetime\n",
    "%matplotlib inline\n",
    "import matplotlib.pyplot as plt\n",
    "from meteostat import Point, Daily"
   ]
  },
  {
   "cell_type": "markdown",
   "id": "4904a027-6d9e-4c13-a9d2-a8706927aed7",
   "metadata": {},
   "source": [
    "## Weather data for SERC in September "
   ]
  },
  {
   "cell_type": "code",
   "execution_count": 4,
   "id": "c77deff0-104a-4df8-b51d-f5b6e3ef387c",
   "metadata": {
    "tags": []
   },
   "outputs": [],
   "source": [
    "# Set time period\n",
    "start = datetime(2023, 9, 1)\n",
    "end = datetime(2023, 9, 7)\n",
    "# Create Point for Philadelphia? 39.981, -75.153\n",
    "location = Point(39.981, -75.153, 10)\n",
    "# Get daily data for 2022\n",
    "data = Daily(location, start, end)\n",
    "data23 = data.fetch()"
   ]
  },
  {
   "cell_type": "code",
   "execution_count": 5,
   "id": "faf2a77a-7c7f-4554-a422-ec04bfe2b19d",
   "metadata": {
    "tags": []
   },
   "outputs": [],
   "source": [
    "# Set time period\n",
    "start = datetime(2022, 9, 1)\n",
    "end = datetime(2022, 9, 7)\n",
    "# Create Point for Philadelphia? 39.981, -75.153\n",
    "location = Point(39.981, -75.153, 10)\n",
    "# Get daily data for 2022\n",
    "data = Daily(location, start, end)\n",
    "data22 = data.fetch()"
   ]
  },
  {
   "cell_type": "code",
   "execution_count": 9,
   "id": "8901c188-75bc-4160-bcc7-19787b3d7835",
   "metadata": {
    "tags": []
   },
   "outputs": [
    {
     "data": {
      "text/html": [
       "<div>\n",
       "<style scoped>\n",
       "    .dataframe tbody tr th:only-of-type {\n",
       "        vertical-align: middle;\n",
       "    }\n",
       "\n",
       "    .dataframe tbody tr th {\n",
       "        vertical-align: top;\n",
       "    }\n",
       "\n",
       "    .dataframe thead th {\n",
       "        text-align: right;\n",
       "    }\n",
       "</style>\n",
       "<table border=\"1\" class=\"dataframe\">\n",
       "  <thead>\n",
       "    <tr style=\"text-align: right;\">\n",
       "      <th></th>\n",
       "      <th>tavg</th>\n",
       "      <th>tmin</th>\n",
       "      <th>tmax</th>\n",
       "      <th>prcp</th>\n",
       "      <th>snow</th>\n",
       "      <th>wdir</th>\n",
       "      <th>wspd</th>\n",
       "      <th>wpgt</th>\n",
       "      <th>pres</th>\n",
       "      <th>tsun</th>\n",
       "    </tr>\n",
       "    <tr>\n",
       "      <th>time</th>\n",
       "      <th></th>\n",
       "      <th></th>\n",
       "      <th></th>\n",
       "      <th></th>\n",
       "      <th></th>\n",
       "      <th></th>\n",
       "      <th></th>\n",
       "      <th></th>\n",
       "      <th></th>\n",
       "      <th></th>\n",
       "    </tr>\n",
       "  </thead>\n",
       "  <tbody>\n",
       "    <tr>\n",
       "      <th>2023-09-01</th>\n",
       "      <td>21.2</td>\n",
       "      <td>16.7</td>\n",
       "      <td>26.1</td>\n",
       "      <td>0.0</td>\n",
       "      <td>0.0</td>\n",
       "      <td>60.0</td>\n",
       "      <td>11.2</td>\n",
       "      <td>NaN</td>\n",
       "      <td>1024.2</td>\n",
       "      <td>NaN</td>\n",
       "    </tr>\n",
       "    <tr>\n",
       "      <th>2023-09-02</th>\n",
       "      <td>21.5</td>\n",
       "      <td>15.0</td>\n",
       "      <td>27.8</td>\n",
       "      <td>0.0</td>\n",
       "      <td>NaN</td>\n",
       "      <td>244.0</td>\n",
       "      <td>8.7</td>\n",
       "      <td>NaN</td>\n",
       "      <td>1022.0</td>\n",
       "      <td>NaN</td>\n",
       "    </tr>\n",
       "    <tr>\n",
       "      <th>2023-09-03</th>\n",
       "      <td>26.4</td>\n",
       "      <td>19.4</td>\n",
       "      <td>33.3</td>\n",
       "      <td>0.0</td>\n",
       "      <td>NaN</td>\n",
       "      <td>261.0</td>\n",
       "      <td>13.0</td>\n",
       "      <td>NaN</td>\n",
       "      <td>1014.8</td>\n",
       "      <td>NaN</td>\n",
       "    </tr>\n",
       "    <tr>\n",
       "      <th>2023-09-04</th>\n",
       "      <td>29.3</td>\n",
       "      <td>23.3</td>\n",
       "      <td>35.0</td>\n",
       "      <td>1.1</td>\n",
       "      <td>NaN</td>\n",
       "      <td>292.0</td>\n",
       "      <td>11.0</td>\n",
       "      <td>NaN</td>\n",
       "      <td>1011.9</td>\n",
       "      <td>NaN</td>\n",
       "    </tr>\n",
       "    <tr>\n",
       "      <th>2023-09-05</th>\n",
       "      <td>29.8</td>\n",
       "      <td>26.1</td>\n",
       "      <td>33.9</td>\n",
       "      <td>0.0</td>\n",
       "      <td>NaN</td>\n",
       "      <td>334.0</td>\n",
       "      <td>10.3</td>\n",
       "      <td>NaN</td>\n",
       "      <td>1013.3</td>\n",
       "      <td>NaN</td>\n",
       "    </tr>\n",
       "    <tr>\n",
       "      <th>2023-09-06</th>\n",
       "      <td>30.0</td>\n",
       "      <td>25.5</td>\n",
       "      <td>35.4</td>\n",
       "      <td>0.0</td>\n",
       "      <td>NaN</td>\n",
       "      <td>292.0</td>\n",
       "      <td>9.1</td>\n",
       "      <td>NaN</td>\n",
       "      <td>1011.1</td>\n",
       "      <td>NaN</td>\n",
       "    </tr>\n",
       "    <tr>\n",
       "      <th>2023-09-07</th>\n",
       "      <td>28.8</td>\n",
       "      <td>25.5</td>\n",
       "      <td>34.2</td>\n",
       "      <td>0.9</td>\n",
       "      <td>NaN</td>\n",
       "      <td>195.0</td>\n",
       "      <td>10.1</td>\n",
       "      <td>NaN</td>\n",
       "      <td>1009.3</td>\n",
       "      <td>NaN</td>\n",
       "    </tr>\n",
       "  </tbody>\n",
       "</table>\n",
       "</div>"
      ],
      "text/plain": [
       "            tavg  tmin  tmax  prcp  snow   wdir  wspd  wpgt    pres  tsun\n",
       "time                                                                     \n",
       "2023-09-01  21.2  16.7  26.1   0.0   0.0   60.0  11.2   NaN  1024.2   NaN\n",
       "2023-09-02  21.5  15.0  27.8   0.0   NaN  244.0   8.7   NaN  1022.0   NaN\n",
       "2023-09-03  26.4  19.4  33.3   0.0   NaN  261.0  13.0   NaN  1014.8   NaN\n",
       "2023-09-04  29.3  23.3  35.0   1.1   NaN  292.0  11.0   NaN  1011.9   NaN\n",
       "2023-09-05  29.8  26.1  33.9   0.0   NaN  334.0  10.3   NaN  1013.3   NaN\n",
       "2023-09-06  30.0  25.5  35.4   0.0   NaN  292.0   9.1   NaN  1011.1   NaN\n",
       "2023-09-07  28.8  25.5  34.2   0.9   NaN  195.0  10.1   NaN  1009.3   NaN"
      ]
     },
     "execution_count": 9,
     "metadata": {},
     "output_type": "execute_result"
    }
   ],
   "source": [
    "data23"
   ]
  },
  {
   "cell_type": "code",
   "execution_count": 17,
   "id": "1200e0aa-6944-4d1e-84bb-92a2330fe61c",
   "metadata": {
    "tags": []
   },
   "outputs": [
    {
     "data": {
      "image/png": "[encoded data removed]",
      "text/plain": [
       "<Figure size 640x480 with 1 Axes>"
      ]
     },
     "metadata": {},
     "output_type": "display_data"
    }
   ],
   "source": [
    "# Plot line chart including average, minimum and maximum temperature\n",
    "data23.plot(y=['tavg', 'tmin', 'tmax'])\n",
    "plt.scatter(x=data23.index,y=data23['tavg'])\n",
    "plt.title('SERC Temperature Trend')\n",
    "plt.savefig('SERC_temp.png')\n",
    "plt.show()"
   ]
  },
  {
   "cell_type": "code",
   "execution_count": 18,
   "id": "7f9c6fd0-140e-4428-b892-1f34ea965ff8",
   "metadata": {
    "tags": []
   },
   "outputs": [
    {
     "data": {
      "image/png": "[encoded data removed]",
      "text/plain": [
       "<Figure size 640x480 with 1 Axes>"
      ]
     },
     "metadata": {},
     "output_type": "display_data"
    }
   ],
   "source": [
    "# Plot line chart including average, minimum and maximum temperature\n",
    "data22.plot(y=['tavg', 'tmin', 'tmax'])\n",
    "plt.scatter(x=data22.index,y=data22['tavg'])\n",
    "plt.title('SERC Temperature Trend')\n",
    "plt.savefig('SERC_temp.png')\n",
    "plt.show()"
   ]
  },
  {
   "cell_type": "code",
   "execution_count": 19,
   "id": "a01dc976-8fb1-4fbf-b527-461d9aa67c96",
   "metadata": {
    "tags": []
   },
   "outputs": [
    {
     "data": {
      "text/plain": [
       "1.9142857142857157"
      ]
     },
     "execution_count": 19,
     "metadata": {},
     "output_type": "execute_result"
    }
   ],
   "source": [
    "Temp23=data23['tavg'].values\n",
    "Temp22=data22['tavg'].values\n",
    "diff = Temp23-Temp22\n",
    "diff.mean()"
   ]
  },
  {
   "cell_type": "code",
   "execution_count": 22,
   "id": "23dd5366-5ad3-4740-9158-6b8ddaa13900",
   "metadata": {
    "tags": []
   },
   "outputs": [
    {
     "data": {
      "text/plain": [
       "[<matplotlib.lines.Line2D at 0x7feff9dca920>]"
      ]
     },
     "execution_count": 22,
     "metadata": {},
     "output_type": "execute_result"
    },
    {
     "data": {
      "image/png": "[encoded data removed]",
      "text/plain": [
       "<Figure size 640x480 with 1 Axes>"
      ]
     },
     "metadata": {},
     "output_type": "display_data"
    }
   ],
   "source": [
    "plt.plot(data23.index,diff)"
   ]
  },
  {
   "cell_type": "code",
   "execution_count": null,
   "id": "ac60deef-bd5a-46ab-acd7-d52c0feedfc3",
   "metadata": {},
   "outputs": [],
   "source": [
    "#### Trick to fix up dates"
   ]
  },
  {
   "cell_type": "code",
   "execution_count": 27,
   "id": "dfe7dd6e-4113-4e6a-bae8-17efc0cf38da",
   "metadata": {
    "tags": []
   },
   "outputs": [
    {
     "data": {
      "image/png": "[encoded data removed]",
      "text/plain": [
       "<Figure size 640x480 with 1 Axes>"
      ]
     },
     "metadata": {},
     "output_type": "display_data"
    }
   ],
   "source": [
    "plt.plot(data23.index.astype('datetime64[s]'),diff)\n",
    "import matplotlib.dates as mdates\n",
    "loc = mdates.AutoDateLocator() # Fancy function for dates\n",
    "fmt = mdates.AutoDateFormatter(loc)\n",
    "plt.gca().xaxis.set_major_formatter(fmt)\n",
    "plt.gca().xaxis.set_major_locator(loc)\n",
    "plt.gcf().autofmt_xdate()"
   ]
  },
  {
   "cell_type": "code",
   "execution_count": null,
   "id": "096fd7cb-a420-44ff-8bac-ce8b8e84a6ea",
   "metadata": {
    "tags": []
   },
   "outputs": [],
   "source": [
    "np.arange(0,5)"
   ]
  },
  {
   "cell_type": "markdown",
   "id": "477d9947-f769-4f3c-8585-62fc4f9e5e27",
   "metadata": {},
   "source": [
    "## Print format: lots of formatting syntax"
   ]
  },
  {
   "cell_type": "code",
   "execution_count": null,
   "id": "7903bd8e-235c-4643-aa2d-b01c55d5b37f",
   "metadata": {},
   "outputs": [],
   "source": [
    "name = 'Peter'\n",
    "age = 23\n",
    "# Simple print\n",
    "print(name,age)\n",
    "# Better ways\n",
    "print('%s is %d years old' % (name, age))\n",
    "print('{} is {} years old'.format(name, age))\n",
    "print(f'{name} is {age} years old')\n",
    "type(name)\n"
   ]
  },
  {
   "cell_type": "code",
   "execution_count": null,
   "id": "1c9ccc1c-7147-44d8-a32d-6a1377ed3c70",
   "metadata": {},
   "outputs": [],
   "source": [
    "\"Peter\".upper()"
   ]
  },
  {
   "cell_type": "code",
   "execution_count": null,
   "id": "69e98df9-b37b-4d1a-9ff6-d09554dd5b1c",
   "metadata": {},
   "outputs": [],
   "source": [
    "# Definition of savings, 10% interest for 7 years\n",
    "savings = 100\n",
    "result = 100 * 1.10 ** 7\n",
    "\n",
    "# Fix the printout\n",
    "print(\"I started with $\" + str(savings) + \" and now have $\" + str(round(result,2)) + \". Awesome!\")"
   ]
  },
  {
   "cell_type": "code",
   "execution_count": null,
   "id": "64589b28-39d0-4e54-95d5-64e8631b2513",
   "metadata": {},
   "outputs": [],
   "source": [
    "# Definition of pi_string\n",
    "pi_string = \"3\"\n",
    "\n",
    "# Convert pi_string into float: pi_float\n",
    "pi_float=int(pi_string)\n",
    "\n",
    "print('pi = %0.2f' %pi_float)"
   ]
  },
  {
   "cell_type": "code",
   "execution_count": null,
   "id": "17070b08-327e-4111-9418-6728ec8c50d2",
   "metadata": {},
   "outputs": [],
   "source": [
    "import numpy as np\n",
    "np.arange(1, 21, 1) # Helpful way to create array"
   ]
  },
  {
   "cell_type": "code",
   "execution_count": null,
   "id": "1efffbab-da31-426d-9d55-27c70d0fa8ec",
   "metadata": {},
   "outputs": [],
   "source": [
    "np.arange(0, 16, 2)**3"
   ]
  },
  {
   "cell_type": "markdown",
   "id": "a00d281b-c9d6-4b68-abc2-67be94a2f429",
   "metadata": {},
   "source": [
    "## Comparisons"
   ]
  },
  {
   "cell_type": "code",
   "execution_count": null,
   "id": "218936dc-947f-46d9-90a0-3207b71f5f04",
   "metadata": {},
   "outputs": [],
   "source": [
    "(3 < 4)**6"
   ]
  },
  {
   "cell_type": "code",
   "execution_count": null,
   "id": "10413203-bb2c-4348-820a-20f2787830ab",
   "metadata": {},
   "outputs": [],
   "source": []
  }
 ],
 "metadata": {
  "kernelspec": {
   "display_name": "Python 3 (ipykernel)",
   "language": "python",
   "name": "python3"
  },
  "language_info": {
   "codemirror_mode": {
    "name": "ipython",
    "version": 3
   },
   "file_extension": ".py",
   "mimetype": "text/x-python",
   "name": "python",
   "nbconvert_exporter": "python",
   "pygments_lexer": "ipython3",
   "version": "3.10.11"
  }
 },
 "nbformat": 4,
 "nbformat_minor": 5
}
