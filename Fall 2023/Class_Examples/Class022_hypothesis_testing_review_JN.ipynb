{
 "cells": [
  {
   "cell_type": "code",
   "execution_count": null,
   "id": "47a42f53-5d2f-4682-90ce-286caa2dbfa8",
   "metadata": {
    "tags": []
   },
   "outputs": [],
   "source": [
    "## import statements\n",
    "# These lines load the tests. \n",
    "from gofer.ok import check\n",
    "import numpy as np\n",
    "from datascience import *\n",
    "import pandas as pd\n",
    "import matplotlib\n",
    "%matplotlib inline\n",
    "import matplotlib.pyplot as plt\n",
    "plt.style.use('ggplot')\n",
    "# Fix for datascience plots\n",
    "import collections as collections\n",
    "import collections.abc as abc\n",
    "collections.Iterable = abc.Iterable"
   ]
  },
  {
   "cell_type": "markdown",
   "id": "4a80c03e-0a0e-46d3-895e-354c7b072764",
   "metadata": {
    "tags": []
   },
   "source": [
    "# Hypthesis Testing By Simulation -- One more time!\n",
    "\n",
    "Many of you had trouble with Lab 7 (Global Warming) because you didn't fully understand using simulation for hypothesis testing, so let's review.\n",
    "\n",
    "## Case 1: Fair or Loaded Dice?\n",
    "Imagine you are handed a die that you suspect might be loaded to roll the number six more often than other numbers. So you roll it 100 times and count how many times each the numbers one through six come up. Now if the die were fair, all numbers would be equally probable."
   ]
  },
  {
   "cell_type": "code",
   "execution_count": null,
   "id": "88133e1c-ff93-44a9-ad60-32f5a201e8be",
   "metadata": {
    "tags": []
   },
   "outputs": [],
   "source": [
    "fair_die = Table().with_columns(\n",
    "    \"Roll\", make_array(1, 2, 3, 4, 5, 6),\n",
    "    \"Chance\", make_array(1/6, 1/6, 1/6, 1/6, 1/6, 1/6)\n",
    ")\n",
    "fair_die"
   ]
  },
  {
   "cell_type": "markdown",
   "id": "9c13e72d-0bf7-4d16-ba32-869f4be1ba61",
   "metadata": {},
   "source": [
    "Let us assume that the die is actually loaded such that sixes will occur twice as often as for a fair die."
   ]
  },
  {
   "cell_type": "code",
   "execution_count": null,
   "id": "3a9a9c7c-db39-4aef-be6b-c25866371e94",
   "metadata": {
    "tags": []
   },
   "outputs": [],
   "source": [
    "# The loaded die is twice as likely to roll a six and half as likely to roll a one.\n",
    "# Note: probabilities must still sum to 1\n",
    "\n",
    "loaded_die = Table().with_columns(\n",
    "    \"Roll\", make_array(1, 2, 3, 4, 5, 6),\n",
    "    \"Chance\", make_array(1/12, 1/6, 1/6, 1/6, 1/6, 3/12)\n",
    ")\n",
    "loaded_die"
   ]
  },
  {
   "cell_type": "markdown",
   "id": "9e11726e-f756-468d-a985-949b8d56dbaa",
   "metadata": {
    "tags": []
   },
   "source": [
    "### Create our sample of rolls of the loaded die.\n",
    "Now we simulate rolling this loaded die 100 times."
   ]
  },
  {
   "cell_type": "code",
   "execution_count": null,
   "id": "6aff0f14-063d-45ab-95a5-9068539e5b66",
   "metadata": {
    "tags": []
   },
   "outputs": [],
   "source": [
    "num_rolls = 100\n",
    "data = loaded_die.sample_from_distribution('Chance', num_rolls)\n",
    "data"
   ]
  },
  {
   "cell_type": "markdown",
   "id": "d2aa1c8c-312d-4b6d-b50a-f6ed1471866c",
   "metadata": {},
   "source": [
    "### Test Statistic\n",
    "We see our sample of 100 rolls has more sixes than we would expect. Suspicious! For a fair die, we would expect 1/6 of the rolls to be a six. 100/6 = 16.7 is our expected value for the number of sixes in 100 rolls. Is the number of sixes we rolled because the die is loaded or because if you roll any die 100 times you'll sometimes get more than 16 or 17 sixes?  \n",
    "\n",
    "Our test statistics is the fraction of sixes in our data.\n",
    "\n",
    "### Null Hypothesis\n",
    "The fraction of sixes could reasonably have been rolled using a fair die.\n",
    "\n",
    "### Alternative Hypothesis\n",
    "The die was loaded\n",
    "\n",
    "### P-value\n",
    "The fraction of simulations of 100 rolls where the number of sixes equals or exceed the number in our data. If this fraction is less then 0.05 equal we reject the null hypothesis with 95% confidence."
   ]
  },
  {
   "cell_type": "code",
   "execution_count": null,
   "id": "1308d391-e3c8-4770-840b-ca803ee58df7",
   "metadata": {
    "tags": []
   },
   "outputs": [],
   "source": [
    "test_statistic = data['Chance sample'].item(5) / num_rolls\n",
    "test_statistic"
   ]
  },
  {
   "cell_type": "code",
   "execution_count": null,
   "id": "d595da99-d13f-4acc-88ff-16de98679b24",
   "metadata": {
    "tags": []
   },
   "outputs": [],
   "source": [
    "def simulate_under_null(num_rolls):\n",
    "    \"\"\"Simulates some num_rolls of a die. Returns the fraction of sixes.\"\"\"\n",
    "    fair_die = Table().with_columns(\n",
    "        \"Roll\", make_array(1, 2, 3, 4, 5, 6),\n",
    "        \"Chance\", make_array(1/6, 1/6, 1/6, 1/6, 1/6, 1/6)\n",
    "    )\n",
    "    sample = fair_die.sample_from_distribution('Chance', num_rolls)\n",
    "    fraction_sixes = sample.column('Chance sample')[5] / num_rolls\n",
    "    return fraction_sixes"
   ]
  },
  {
   "cell_type": "code",
   "execution_count": null,
   "id": "5235e050-e5fd-484e-9ec5-3fe5c3c601e2",
   "metadata": {
    "tags": []
   },
   "outputs": [],
   "source": [
    "# Test our simulation\n",
    "simulate_under_null(100)"
   ]
  },
  {
   "cell_type": "code",
   "execution_count": null,
   "id": "26c8c3a1-c283-46f1-891b-cdbeec09020a",
   "metadata": {
    "tags": []
   },
   "outputs": [],
   "source": [
    "def empirical_distribution(num_rolls, num_simulations):\n",
    "    samples = make_array()\n",
    "    for i in np.arange(num_simulations):\n",
    "        samples = np.append(samples, simulate_under_null(num_rolls))\n",
    "    print(samples[0:10])\n",
    "    Table().with_column('Test statistic under null', samples).hist()\n",
    "    return samples"
   ]
  },
  {
   "cell_type": "code",
   "execution_count": null,
   "id": "88872f1a-7808-48c2-8c5f-4ee82b279367",
   "metadata": {
    "tags": []
   },
   "outputs": [],
   "source": [
    "num_simulations = 10000\n",
    "samples = empirical_distribution(num_rolls, num_simulations)"
   ]
  },
  {
   "cell_type": "code",
   "execution_count": null,
   "id": "3158da9f-aaaa-43bb-9a07-aa3ebc9cc85a",
   "metadata": {
    "tags": []
   },
   "outputs": [],
   "source": [
    "p_value = np.count_nonzero(samples >= test_statistic)/num_simulations\n",
    "p_value"
   ]
  },
  {
   "cell_type": "markdown",
   "id": "11ddf388-10b9-49ec-a687-523b2071b6ba",
   "metadata": {
    "tags": []
   },
   "source": [
    "### So with 100 rolls in our data sample, can we reject the null hypothesis with 95% confidence?\n",
    "\n",
    "Try this experiment multiple times with 100 rolls.\n",
    "\n",
    "Try this experiment again with 1000 rolls."
   ]
  }
 ],
 "metadata": {
  "kernelspec": {
   "display_name": "Python 3 (ipykernel)",
   "language": "python",
   "name": "python3"
  },
  "language_info": {
   "codemirror_mode": {
    "name": "ipython",
    "version": 3
   },
   "file_extension": ".py",
   "mimetype": "text/x-python",
   "name": "python",
   "nbconvert_exporter": "python",
   "pygments_lexer": "ipython3",
   "version": "3.10.11"
  }
 },
 "nbformat": 4,
 "nbformat_minor": 5
}
