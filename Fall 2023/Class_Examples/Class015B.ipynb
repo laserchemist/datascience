{
 "cells": [
  {
   "cell_type": "markdown",
   "metadata": {},
   "source": [
    "### Hypothesis testing\n",
    "Elements of Data Science"
   ]
  },
  {
   "cell_type": "markdown",
   "metadata": {
    "tags": []
   },
   "source": [
    "## Hypothesis Testing Learning Goals\n",
    "Develop and test an hypothesis\n",
    "- Hypothesis\n",
    "    - testable hypothesis\n",
    "    - statistic\n",
    "- Simulation: Sample the distribution\n",
    "    - Repeat and collect outcomes\n",
    "    - Iteration: \n",
    "        `for i in np.arange(samples)`\n",
    "- Examine resulting distribution of outcomes\n",
    "    - Probability distribution\n",
    "    - Uncertainty\n",
    "- p-test"
   ]
  },
  {
   "cell_type": "code",
   "execution_count": null,
   "metadata": {},
   "outputs": [],
   "source": [
    "import numpy as np\n",
    "from datascience import *"
   ]
  },
  {
   "cell_type": "code",
   "execution_count": null,
   "metadata": {},
   "outputs": [],
   "source": [
    "%matplotlib inline\n",
    "import matplotlib.pyplot as plt\n",
    "plt.style.use('ggplot')"
   ]
  },
  {
   "cell_type": "markdown",
   "metadata": {},
   "source": [
    "### Python Dictionary Example\n",
    "A Python dictionary is another important sequence data type in Python"
   ]
  },
  {
   "cell_type": "code",
   "execution_count": null,
   "metadata": {
    "tags": []
   },
   "outputs": [],
   "source": [
    "car = {\n",
    "  \"brand\": \"Ford\",\n",
    "  \"model\": \"Mustang\",\n",
    "  \"year\": 1964\n",
    "}\n",
    "\n",
    "x = car.get(\"model\")\n",
    "\n",
    "print(x)"
   ]
  },
  {
   "cell_type": "code",
   "execution_count": null,
   "metadata": {
    "tags": []
   },
   "outputs": [],
   "source": [
    "car['mpg']=car.get('mpg',0)+1"
   ]
  },
  {
   "cell_type": "code",
   "execution_count": null,
   "metadata": {
    "tags": []
   },
   "outputs": [],
   "source": [
    "car"
   ]
  },
  {
   "cell_type": "code",
   "execution_count": null,
   "metadata": {
    "tags": []
   },
   "outputs": [],
   "source": [
    "f = {}\n",
    "for l in \"birds\":\n",
    "    l = l.lower()\n",
    "    if l.isalpha():\n",
    "        f[l] = f.get(l,0)+1"
   ]
  },
  {
   "cell_type": "code",
   "execution_count": null,
   "metadata": {
    "tags": []
   },
   "outputs": [],
   "source": [
    "f"
   ]
  },
  {
   "cell_type": "code",
   "execution_count": null,
   "metadata": {},
   "outputs": [],
   "source": []
  },
  {
   "cell_type": "markdown",
   "metadata": {},
   "source": [
    "## Hypothesis Testing"
   ]
  },
  {
   "cell_type": "markdown",
   "metadata": {},
   "source": [
    "#### Ground Hog\n"
   ]
  },
  {
   "cell_type": "code",
   "execution_count": null,
   "metadata": {},
   "outputs": [],
   "source": [
    "groundhogdata = Table.read_table('Groundhogdata/summarizedGroundhogData_20210326.csv')\n",
    "groundhogdata"
   ]
  },
  {
   "cell_type": "code",
   "execution_count": null,
   "metadata": {},
   "outputs": [],
   "source": [
    "yes_late = groundhogdata.where('shadowPres', 'yes').where('earlyOrLate', 'late')\n",
    "no_early = groundhogdata.where('shadowPres', 'no').where('earlyOrLate', 'early')\n",
    "\n",
    "correct_tbl = yes_late.append(no_early)"
   ]
  },
  {
   "cell_type": "code",
   "execution_count": null,
   "metadata": {},
   "outputs": [],
   "source": [
    "num_correct = correct_tbl.num_rows / groundhogdata.num_rows * 100\n",
    "num_correct\n"
   ]
  },
  {
   "cell_type": "code",
   "execution_count": null,
   "metadata": {},
   "outputs": [],
   "source": [
    "shadow_options = make_array('yes', 'no')\n",
    "spring_options = make_array('late', 'early')\n",
    "num_observations = groundhogdata.num_rows"
   ]
  },
  {
   "cell_type": "code",
   "execution_count": null,
   "metadata": {},
   "outputs": [],
   "source": [
    "right = 0 \n",
    "wrong = 0\n",
    "\n",
    "for obs in range(num_observations):\n",
    "    shadow = np.random.choice(shadow_options)\n",
    "    spring = np.random.choice(spring_options)\n",
    "    \n",
    "    if shadow == 'yes' and spring == 'late':\n",
    "        right += 1\n",
    "    elif shadow == 'no' and spring == 'early':\n",
    "        right += 1\n",
    "    else:\n",
    "        wrong += 1\n",
    "\n",
    "simulated_num_correct = right / num_observations\n",
    "simulated_num_correct"
   ]
  },
  {
   "cell_type": "code",
   "execution_count": null,
   "metadata": {},
   "outputs": [],
   "source": [
    "def sim_ground(repeats):\n",
    "    correct_obs = []\n",
    "    for i in np.arange(repeats):\n",
    "        right = 0 \n",
    "        wrong = 0\n",
    "        for obs in range(num_observations):\n",
    "            shadow = np.random.choice(shadow_options)\n",
    "            spring = np.random.choice(spring_options)\n",
    "            if shadow == 'yes' and spring == 'late':\n",
    "                right += 1\n",
    "            elif shadow == 'no' and spring == 'early':\n",
    "                right += 1\n",
    "            else:\n",
    "                wrong += 1\n",
    "        simulated_num_correct = right / num_observations\n",
    "        correct_obs.append(simulated_num_correct)\n",
    "    return correct_obs        "
   ]
  },
  {
   "cell_type": "code",
   "execution_count": null,
   "metadata": {},
   "outputs": [],
   "source": [
    "plt.hist(sim_ground(1000),bins=np.arange(0.4,0.6,.01),color = \"skyblue\", ec=\"red\")\n",
    "plt.title('Simulated Groundhog outcomes')\n",
    "plt.savefig('sim_ground.png')\n",
    "plt.show()"
   ]
  },
  {
   "cell_type": "code",
   "execution_count": null,
   "metadata": {},
   "outputs": [],
   "source": [
    "hogsimdata = Table().with_columns(\"Correct\",sim_ground(1500))\n",
    "hogsimdata"
   ]
  },
  {
   "cell_type": "code",
   "execution_count": null,
   "metadata": {},
   "outputs": [],
   "source": [
    "hogsimdata.hist(0,bins=np.arange(0.4,0.6,.01))\n",
    "plt.scatter(num_correct/100, 0, color='red', s=200);\n",
    "plt.title('Simulated Groundhog outcomes')\n",
    "plt.savefig('sim_ground_correct.png')\n",
    "plt.show()"
   ]
  },
  {
   "cell_type": "code",
   "execution_count": null,
   "metadata": {},
   "outputs": [],
   "source": [
    "np.count_nonzero(hogsimdata.column('Correct') >= num_correct/100) / 1500"
   ]
  },
  {
   "cell_type": "markdown",
   "metadata": {},
   "source": [
    "#### Essex Ed"
   ]
  },
  {
   "cell_type": "code",
   "execution_count": null,
   "metadata": {},
   "outputs": [],
   "source": [
    "groundhogdata.where('hogID',\"EE\")"
   ]
  },
  {
   "cell_type": "code",
   "execution_count": null,
   "metadata": {},
   "outputs": [],
   "source": [
    "correct_tbl.where('hogID',\"EE\")"
   ]
  },
  {
   "cell_type": "code",
   "execution_count": null,
   "metadata": {},
   "outputs": [],
   "source": [
    "num_correct = correct_tbl.where('hogID',\"EE\").num_rows / groundhogdata.where('hogID',\"EE\").num_rows * 100\n",
    "num_correct"
   ]
  },
  {
   "cell_type": "code",
   "execution_count": null,
   "metadata": {},
   "outputs": [],
   "source": [
    "hogsimdata.hist(0,bins=np.arange(0.4,0.6,.01))\n",
    "plt.scatter(num_correct/100, 0, color='red', s=200);\n",
    "plt.title('Simulated Groundhog outcomes')\n",
    "plt.savefig('sim_ground_correct.png')\n",
    "plt.show()"
   ]
  },
  {
   "cell_type": "code",
   "execution_count": null,
   "metadata": {},
   "outputs": [],
   "source": [
    "np.count_nonzero(hogsimdata.column('Correct') >= num_correct/100) / 1500"
   ]
  },
  {
   "cell_type": "markdown",
   "metadata": {},
   "source": [
    "# Acknowledgement in the Groundhog paper\n",
    "This study was the result of a truly laboratory-driven effort that started over speculation on a Friday at the campus pub and has led to a cumulative effort of students in the Community Ecology and Energetics Laboratory at Lakehead University over several years. "
   ]
  },
  {
   "cell_type": "code",
   "execution_count": null,
   "metadata": {},
   "outputs": [],
   "source": []
  }
 ],
 "metadata": {
  "kernelspec": {
   "display_name": "Python 3 (ipykernel)",
   "language": "python",
   "name": "python3"
  },
  "language_info": {
   "codemirror_mode": {
    "name": "ipython",
    "version": 3
   },
   "file_extension": ".py",
   "mimetype": "text/x-python",
   "name": "python",
   "nbconvert_exporter": "python",
   "pygments_lexer": "ipython3",
   "version": "3.10.11"
  }
 },
 "nbformat": 4,
 "nbformat_minor": 4
}
