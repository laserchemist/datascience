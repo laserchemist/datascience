{
 "cells": [
  {
   "cell_type": "markdown",
   "metadata": {},
   "source": [
    "# Mini-project II: Mount Saint Helens' biodiversity after the ashes\n",
    "<font color='red'>**Read all of the instructions and background material carefully!** </font>"
   ]
  },
  {
   "cell_type": "code",
   "execution_count": null,
   "metadata": {
    "tags": []
   },
   "outputs": [],
   "source": [
    "# Enter your name as a string\n",
    "name = \"...\""
   ]
  },
  {
   "cell_type": "code",
   "execution_count": null,
   "metadata": {
    "tags": []
   },
   "outputs": [],
   "source": [
    "import numpy as np\n",
    "from datascience import *\n",
    "%matplotlib inline\n",
    "import matplotlib.pyplot as plt\n",
    "plt.style.use('ggplot')\n",
    "import os\n",
    "user = os.getenv('JUPYTERHUB_USER')"
   ]
  },
  {
   "cell_type": "markdown",
   "metadata": {},
   "source": [
    "## Background\n",
    "### Mount Saint Helens Eruption  8:32 A.M. on May 18, 1980\n",
    "We will explore data on ecosystem recovery following the volcanic eruption at Mount Saint Helens in Washington State.<br>\n",
    "<img src='data/Eruption.jpg'><br><img src='data/800px-1980_St._Helens_ashmap.png'>"
   ]
  },
  {
   "cell_type": "markdown",
   "metadata": {},
   "source": [
    "### Video of the eruption"
   ]
  },
  {
   "cell_type": "code",
   "execution_count": null,
   "metadata": {
    "editable": true,
    "slideshow": {
     "slide_type": ""
    },
    "tags": []
   },
   "outputs": [],
   "source": [
    "from IPython.display import YouTubeVideo\n",
    "YouTubeVideo(\"UK--hvgP2uY\")\n",
    "# https://youtu.be/UK--hvgP2uY"
   ]
  },
  {
   "cell_type": "markdown",
   "metadata": {},
   "source": [
    "### See Mount St. Helens in Google Earth\n",
    "[Google Earth 3D view](https://earth.google.com/web/search/Mount+Saint+Helens,+Washington/@46.19819667,-122.19529432,2095.30665214a,10392.19844707d,35y,224.30506563h,60t,0r/data=CigiJgokCcIkzMXzkzhAEcIkzMXzkzjAGcJo4PGMbkNAIYI6cQ6KIlHA)"
   ]
  },
  {
   "cell_type": "markdown",
   "metadata": {},
   "source": [
    "### Research on the Recovery\n",
    "<font color='red'>**Mount Saint Helens erupted at 8:32 A.M. on May 18, 1980.** </font>\n",
    "<br>\n",
    "Professor Roger del Morales at University of Washington https://faculty.washington.edu/moral/ and his team set up circular, 9 meter radius, land plots near the volcano once it was safe to initiate the study in 1984. These plots are located in several distinct regions near the volcano cone to study the return of vegetation and biodiversity to these plots located in different positions relative to the volcanic cone (see mapping below). We will use this data to assess the rate of plant succession. Measures in the data include yearly species richness, *RICHNESS*, defined as the number of species in a given region or in this case the 9-meter radius (250 $m^2$) land plot. We will use our data science tools to decide if the changes over time in *RICHNESS* are a pattern (Alternate hypothesis) or if they are just due to random fluctuations (NULL hypothesis). We will also study *COVER_%*, a measure that reflects plant coverage. In this case we will test whether growth has occurred following the eruption. Plots are studied in 13 unique locations with different characteristics including the blast type which they experienced. In designing their study, the researchers also collected data in up to 10 adjacent plots with the same name in order to assess statistical variation across an area. \n",
    "\n",
    "**TO BE CLEAR**<br>\n",
    "You will not be comparing conditions before and after the eruption. The scientists collected data to understand how plant life returns after a natural disaster. You will be comparing data collected shortly after the blast with the same measurements made over the next thirty years to answer questions such as: How long did it take for vegetation to become reestablished? and What factors caused some areas to recover more quickly than others? "
   ]
  },
  {
   "cell_type": "markdown",
   "metadata": {},
   "source": [
    "**Data collected:**\n",
    "1. del Moral, Roger (2016): Thirty years of permanent vegetation plots, Mount St. Helens, Washington, USA. Wiley. Collection. https://doi.org/10.6084/m9.figshare.c.3303093.v1 \n",
    "Source: https://figshare.com/collections/Thirty_years_of_permanent_vegetation_plots_Mount_St_Helens_Washington_USA/3303093\n",
    "\n",
    "**Papers using this data:**\n",
    "1. Del Moral, R.; Magnússon, B., \"Surtsey and Mount St. Helens: a comparison of early succession rates\". Biogeosciences 2014, 11 (7), 2099-2111.\n",
    "https://faculty.washington.edu/moral/publications/2014%20delMoral%20Magnusson.pdf\n",
    "\n",
    "2.  Cook, James E.; Halpern, Charles B., \"Vegetation changes in blown-down and scorched forests 10–26 years after the eruption of Mount St. Helens, Washington, USA\". Plant Ecology 2018, 219 (8), 957-972.\n",
    "https://link.springer.com/content/pdf/10.1007/s11258-018-0849-8.pdf\n"
   ]
  },
  {
   "cell_type": "markdown",
   "metadata": {},
   "source": [
    "### Data Sets\n",
    "We have <b>two</b> complimentary data sets\n",
    "- Plot Descriptions\n",
    "```python \n",
    "    plotdata = \"data/MSH_PLOT_DESCRIPTORS2.csv\"\n",
    "```\n",
    "- Annual Data\n",
    "```python\n",
    "    yearlydata = \"data/MSH_STRUCTURE_PLOT_YEAR.csv\" \n",
    "``` "
   ]
  },
  {
   "cell_type": "markdown",
   "metadata": {},
   "source": [
    "## Research Plan\n",
    "**Select two distinct plot names with contrasting characteristics<br>\n",
    "Compare the characteristics of the two plot areas.<br>\n",
    "Compare the vegetation recovery nearly three decades after the volcano erupted. <br>\n",
    "Examine the time trends for plant succession.**"
   ]
  },
  {
   "cell_type": "markdown",
   "metadata": {},
   "source": [
    "### Select two distinct plot names with contrasting characteristics\n",
    "\n",
    "We will choose two sites that seem very different based on the descriptions in the paper by Del Moral and Magnússon (cited above, *which you should read*).\n",
    "\n",
    "#### Site 1: The Pumice Plain\n",
    "**\"Pumice Plain (12 plots) dominates the north flank (Fig. 8), where the blast removed vegetation and soil and deep, coarse pumice was deposited.\"**\n",
    "\n",
    "**Note:** Pumice is a unique type of volcanic rock that forms when lava with a high content of water and gases is rapidly ejected from a volcano. This process creates a frothy texture as gas bubbles escape, and upon cooling, the lava solidifies into a lightweight material filled with bubbles that give pumice its characteristic porous structure. In fact, pumice is so light and air-filled that most pumice rocks actually float on water.\n",
    "\n",
    "![Pumice Plain Photo](data/Pumice_Plains.jpg)\n",
    "\n",
    "#### Site 2: The Plains of Abraham\n",
    "**\"The level site on the east flank of the cone (Plains of Abraham) was blasted in the first minutes of the eruption; a broad lahar completed the devastation, then pumice rained down to produce as desolate a landscape as can be imagined.\"**\n",
    "\n",
    "**Note:** A lahar is a destructive type of mudflow. In a lahar loose volcanic ash and rock fragments deposited on the sides of the volcano mix with rain or melting snow and flow like liquid concrete down the side of the volcano, burying everything in its path.\n",
    "\n",
    "![Plains of Abraham Photo](data/PlainsOfAbraham.jpg)"
   ]
  },
  {
   "cell_type": "code",
   "execution_count": null,
   "metadata": {
    "scrolled": true,
    "tags": []
   },
   "outputs": [],
   "source": [
    "# Plot description dataset\n",
    "file_path = \"data/MSH_PLOT_DESCRIPTORS2.csv\"\n",
    "site_descriptors = Table.read_table(file_path)\n",
    "site_descriptors.show(3)"
   ]
  },
  {
   "cell_type": "markdown",
   "metadata": {},
   "source": [
    "#### Mapping Biodiversity Data Collected following Mount Saint Helens Eruption\n",
    "Data was collected anually on developing biodiversity on defined plots of land with given latitude and longitude. These locations can be mapped using the *map_table* method of a table object.  Plots are studied in 13 unique locations relative to the volcanic cone with different characteristics including the blast type which they experienced. Zoom in on map, click on each circle to view the label for the data series. There are replicate plots within each plot name in order assess statistical variation. The `.map_table()` method uses [Folium](https://realpython.com/python-folium-web-maps-from-data/), a powerful mapping and GeoJSON utility.\n",
    "\n",
    "**See if you can find our two sites on the interactive map below.**<br>\n",
    "Note that PUPL is the code for the Pumice Plain sites, and ABPL is the code for the Plains of Abraham. Each of the sites had multiple \"quadats\" (see below), so you will see codes such as PUPL09 and ABPL04."
   ]
  },
  {
   "cell_type": "code",
   "execution_count": null,
   "metadata": {
    "scrolled": true,
    "tags": []
   },
   "outputs": [],
   "source": [
    "site_descriptors = site_descriptors.with_columns('NLONG', -1 * (site_descriptors.column('LONG')))\n",
    "\n",
    "# Create a table with the columns needed for the map\n",
    "MSH_map = site_descriptors.select('LAT', 'NLONG', 'PLOT_CODE').relabel('PLOT_CODE', 'labels')\n",
    "\n",
    "# Set the map center\n",
    "MSH_coordinates = (46.191387, -122.195618)\n",
    "\n",
    "# Create the map\n",
    "OurMap = Map(location=MSH_coordinates, zoom_start=10, width=500, height=500,)\n",
    "\n",
    "# Add the circles for the individual plots\n",
    "OurMap.overlay(MSH_map, color='blue', opacity=0.01)"
   ]
  },
  {
   "cell_type": "markdown",
   "metadata": {},
   "source": [
    "### How the plots were sampled\n",
    "*\"Plots were sampled using 24 quadrats placed in the same location in each sample year by the same observer.\"*\n",
    "\n",
    "*\"Circular plots ($250 m^2$) are established based on the impact types from the volcano blast arrayed along transects. Additional transects are established from the center pole of the circular plot at 90 degree angles. Individuals were identified within quadrats placed along these secondary transects.\"*\n",
    "\n",
    "In this context, a quadrat is a defined square or rectangular plot of land used in ecological or environmental studies to sample and study a specific area. Researchers place the quadrats in a habitat to collect data on plant species, density, diversity, and other ecological factors.\n",
    "\n",
    "The quadrat can be a physical frame (often made of metal or wood) or an imaginary boundary marked on the ground. By consistently using the same quadrat locations over multiple sample years, researchers can monitor changes in the ecosystem over time, providing valuable data on environmental trends and ecological stability. \n",
    "\n",
    "![Quadrat Image](https://blog.nhbs.com/wp-content/uploads/2022/04/175986-768x629.jpg)\n",
    "\n",
    "The image above shows an example of a quadrat.\n",
    "\n",
    "<font color='green'> \n",
    "NOTE: For various reasons, the number of quadrats at each study site changed over time. In the data sets, the plot and quadrat number are identified in the plot code. For example, BUCD05 is the fifth quadrat at the Butte CampD plot, while SFTR04 is the forth quadrat at the South Fork Toutle Ridge site."
   ]
  },
  {
   "cell_type": "markdown",
   "metadata": {},
   "source": [
    "Both sites were within the blast zone and pumice rained down on them.  The difference is that at PUPL the blast also removed the soil layer, whereas ABPL was hit by a lahar (volcanic mudflow, so the growth medium is likely quite different for the two locations. The elevation difference is about 1,000 meters between the two sites, which is potentially enough to be important. Note that the elevation differences between the different subplots at each site are minor. The sites face in different directions (NW vs E), though they are closer in aspect then many of the sites. \n",
    "\n",
    "Lahar deposits are generally more fertile than other volcanic materials like tephra, pumice, or decomposed lava, so I would speculate that the Plains of Abraham would recover more fully despite being at a higher elevation."
   ]
  },
  {
   "cell_type": "markdown",
   "metadata": {
    "editable": true,
    "slideshow": {
     "slide_type": ""
    },
    "tags": []
   },
   "source": [
    "### STUDENT TASK 1 - Comparing the two sites\n",
    "<font color='blue'> \n",
    "You should first explore the differences between the study plots on the Pumice Plains and those in the Plains of Abraham. They are located in different environments, elevations, and locations relative to the volcano cone.<br><br>\n",
    "\n",
    "Create initial data tables and plots to explore the nature of the different plots included in \"data/MSH_PLOT_DESCRIPTORS2.csv\". Variables to consider include elevation, slope, aspect (direction), impact type. You could use group or pivot methods here. \n",
    "</font>"
   ]
  },
  {
   "cell_type": "code",
   "execution_count": null,
   "metadata": {},
   "outputs": [],
   "source": [
    "site_descriptors.sort('ELEVATION(M)', descending=True).show(3)"
   ]
  },
  {
   "cell_type": "markdown",
   "metadata": {},
   "source": [
    "\n",
    "#### Some questions to explore include:\n",
    "\n",
    "- <span style=\"color: blue;\">Which of the two plots is at a higher elevation?</span>\n",
    "- <span style=\"color: blue;\">Which is on the steepest slope?</span>\n",
    "- <span style=\"color: blue;\">What are their impact types?</span>\n",
    "- <span style=\"color: blue;\">What direction (aspect) do the plots face?</span>\n",
    "- <span style=\"color: blue;\">Other differences?</span>\n",
    "  \n",
    "Consider making some histograms to compare the ranges of values at each site. Be sure to write a markdown summary of the differences you find. Speculate why the two areas might recover from the eruption differently. \n",
    "</font>\n",
    "\n",
    "*Hint:* One way to pull out just the the plots for a Pumice Plains is shown below based on extracting the a common root of the plot name.\n",
    "\n",
    "pupl_desc = site_descriptors.where(\"PLOT_CODE\", are.containing(\"PUPL\"))"
   ]
  },
  {
   "cell_type": "code",
   "execution_count": null,
   "metadata": {},
   "outputs": [],
   "source": [
    "# Add code and markdown cells as needed for your data exploration."
   ]
  },
  {
   "cell_type": "markdown",
   "metadata": {},
   "source": [
    "...Enter a detailed (at least a couple of paragraphs) discussion of your findings here...\n"
   ]
  },
  {
   "cell_type": "markdown",
   "metadata": {
    "editable": true,
    "slideshow": {
     "slide_type": ""
    },
    "tags": []
   },
   "source": [
    "### STUDENT TASK 2 - Plotting changes over time\n",
    "<font color='blue'> \n",
    "Let's load the second data set, the one that contains information on the recovery over time. Your task now is to examine the trends (make plots) in richness (number of different species) and percentage of the plots covered with vegetation. What trends do you see? How do the two areas compare with each other? Use the markdown cells with your thoughts and analysis.</font>\n",
    "\n",
    "\n",
    "Below is an example to get you started."
   ]
  },
  {
   "cell_type": "code",
   "execution_count": null,
   "metadata": {
    "tags": []
   },
   "outputs": [],
   "source": [
    "# Plot vegatation trend yearly dataset\n",
    "yearlydata = \"data/MSH_STRUCTURE_PLOT_YEAR.csv\"\n",
    "MSH_YEAR = Table.read_table(yearlydata)\n",
    "MSH_YEAR.show(5)"
   ]
  },
  {
   "cell_type": "code",
   "execution_count": null,
   "metadata": {
    "tags": []
   },
   "outputs": [],
   "source": [
    "np.unique(MSH_YEAR.column('YEAR')) #Return unique plot years"
   ]
  },
  {
   "cell_type": "code",
   "execution_count": null,
   "metadata": {},
   "outputs": [],
   "source": [
    "# Pumice Plains\n",
    "plot1 = 'PUPL'"
   ]
  },
  {
   "cell_type": "code",
   "execution_count": null,
   "metadata": {
    "tags": []
   },
   "outputs": [],
   "source": [
    "# Extract data for a specific plot\n",
    "PLT = plot1 # Put the name for study here\n",
    "pupl = MSH_YEAR.where('PLOT_NAME',are.contained_in(PLT)).sort('YEAR',descending=False)\n",
    "pupl.show(3)"
   ]
  },
  {
   "cell_type": "code",
   "execution_count": null,
   "metadata": {
    "tags": []
   },
   "outputs": [],
   "source": [
    "pupl.scatter('YEAR','RICHNESS')"
   ]
  },
  {
   "cell_type": "markdown",
   "metadata": {},
   "source": [
    "Notice that for each year there is some variation between the subplots. Group and average to get better view of time trend."
   ]
  },
  {
   "cell_type": "code",
   "execution_count": null,
   "metadata": {},
   "outputs": [],
   "source": [
    "pupl.group('YEAR', np.mean).plot('YEAR','RICHNESS mean')"
   ]
  },
  {
   "cell_type": "markdown",
   "metadata": {},
   "source": [
    "<font color='blue'> Make similar plots of changes in percent cover over time </font>"
   ]
  },
  {
   "cell_type": "code",
   "execution_count": null,
   "metadata": {},
   "outputs": [],
   "source": []
  },
  {
   "cell_type": "markdown",
   "metadata": {},
   "source": [
    "<font color='blue'> Make the same set of plots of cover and richness trends for the Plains of Abraham. </font>"
   ]
  },
  {
   "cell_type": "code",
   "execution_count": null,
   "metadata": {},
   "outputs": [],
   "source": [
    "plot2 = 'ABPL'"
   ]
  },
  {
   "cell_type": "code",
   "execution_count": null,
   "metadata": {},
   "outputs": [],
   "source": [
    "# Look at plot richness over time\n",
    "PLT = plot2\n",
    "abpl = MSH_YEAR.where('PLOT_NAME',are.contained_in(PLT)).sort('YEAR',descending=False)\n",
    "abpl.show(3)"
   ]
  },
  {
   "cell_type": "markdown",
   "metadata": {},
   "source": [
    "#### Five Number Summaries"
   ]
  },
  {
   "cell_type": "code",
   "execution_count": null,
   "metadata": {},
   "outputs": [],
   "source": [
    "# For what years do we have data?\n",
    "# Pumice Plains\n",
    "np.unique(pupl.column(\"YEAR\"))"
   ]
  },
  {
   "cell_type": "code",
   "execution_count": null,
   "metadata": {},
   "outputs": [],
   "source": [
    "# Plains of Abraham\n",
    "np.unique(abpl.column(\"YEAR\"))"
   ]
  },
  {
   "cell_type": "markdown",
   "metadata": {},
   "source": [
    "**Let's compare the condition of the two areas 2009, which is 29 years after the eruption and the latest year for which we have data.**"
   ]
  },
  {
   "cell_type": "code",
   "execution_count": null,
   "metadata": {},
   "outputs": [],
   "source": [
    "pupl_2009 = pupl.where(\"YEAR\", 2009)"
   ]
  },
  {
   "cell_type": "code",
   "execution_count": null,
   "metadata": {},
   "outputs": [],
   "source": [
    "abpl_2009 = abpl.where(\"YEAR\", 2009)\n",
    "abpl_2009.show(3)"
   ]
  },
  {
   "cell_type": "markdown",
   "metadata": {},
   "source": [
    "**We can calculate some statistics to aid our comparison.**"
   ]
  },
  {
   "cell_type": "code",
   "execution_count": null,
   "metadata": {
    "tags": []
   },
   "outputs": [],
   "source": [
    "def five_num_sum(table,column):\n",
    "    nums=[]\n",
    "    array = table.column(column)\n",
    "    nums.append(np.min(array))\n",
    "    nums.append(np.max(array))\n",
    "    nums.append(np.mean(array))\n",
    "    nums.append(np.median(array))\n",
    "    nums.append(np.std(array))\n",
    "    print(f'min: {nums[0]} \\nmax: {nums[1]} \\nmean: {nums[2]:.3f} \\nmedian: {nums[3]:.3f} \\nstd: {nums[4]:.3f}')\n",
    "    return nums"
   ]
  },
  {
   "cell_type": "code",
   "execution_count": null,
   "metadata": {
    "tags": []
   },
   "outputs": [],
   "source": [
    "# Richness of the Pumice Plain in 2009\n",
    "five_num_sum(pupl_2009,'RICHNESS');"
   ]
  },
  {
   "cell_type": "markdown",
   "metadata": {},
   "source": [
    "<font color='blue'> \n",
    "Complete the set of five number summaries"
   ]
  },
  {
   "cell_type": "code",
   "execution_count": null,
   "metadata": {
    "tags": []
   },
   "outputs": [],
   "source": [
    "# Richness of the Plains of Abraham in 2009\n",
    "five_num_sum(..., 'RICHNESS');"
   ]
  },
  {
   "cell_type": "code",
   "execution_count": null,
   "metadata": {
    "tags": []
   },
   "outputs": [],
   "source": [
    "# Percent of the Pumice Plains covered with vegetation by 2009\n",
    "five_num_sum(..., 'COVER_%')"
   ]
  },
  {
   "cell_type": "code",
   "execution_count": null,
   "metadata": {},
   "outputs": [],
   "source": [
    "# Percent of the Plains of Abraham covered with vegetation by 2009\n",
    "five_num_sum(..., 'COVER_%')"
   ]
  },
  {
   "cell_type": "markdown",
   "metadata": {},
   "source": [
    "<font color='blue'> \n",
    "What observations can you make from these summaries? Do you think the differences in cover and richness between the two plots are statistically significant? </font>\n",
    "(answer in the markdown cell below)"
   ]
  },
  {
   "cell_type": "markdown",
   "metadata": {},
   "source": []
  },
  {
   "cell_type": "markdown",
   "metadata": {
    "editable": true,
    "slideshow": {
     "slide_type": ""
    },
    "tags": []
   },
   "source": [
    "### STUDENT TASK 3 - Formulating recovery hypotheses\n",
    "Now use your observations above to formulate your hypotheses.\n",
    "\n",
    "- Formulate a hypothesis regarding differences in average plant vegetation (*COVER_%*) and biodiversity (*RICHNESS*) at the two different plots recorded 2009. Create a detailed markdown cell to detail this hypothesis.\n",
    "- State the NULL hypothesis for each measure.\n",
    "<br>Use below markdown cells"
   ]
  },
  {
   "cell_type": "markdown",
   "metadata": {},
   "source": [
    "<font color='blue'>***COVER_% Hypothesis***"
   ]
  },
  {
   "cell_type": "markdown",
   "metadata": {},
   "source": []
  },
  {
   "cell_type": "markdown",
   "metadata": {},
   "source": [
    "<font color='blue'>***RICHNESS Hypothesis***"
   ]
  },
  {
   "cell_type": "markdown",
   "metadata": {},
   "source": []
  },
  {
   "cell_type": "markdown",
   "metadata": {},
   "source": [
    "<font color='blue'>***COVER_% NULL Hypothesis***"
   ]
  },
  {
   "cell_type": "markdown",
   "metadata": {},
   "source": []
  },
  {
   "cell_type": "markdown",
   "metadata": {},
   "source": [
    "<font color='blue'>***RICHNESS NULL Hypothesis***"
   ]
  },
  {
   "cell_type": "markdown",
   "metadata": {},
   "source": []
  },
  {
   "cell_type": "markdown",
   "metadata": {
    "editable": true,
    "slideshow": {
     "slide_type": ""
    },
    "tags": []
   },
   "source": [
    "### STUDENT TASK 4 - Testing recovery hypotheses\n",
    "Let's start by testing whether the difference in mean percent cover between the two sites in 2009 is statistically signficant. We start by extracting the percent cover values into to arrays.\n"
   ]
  },
  {
   "cell_type": "code",
   "execution_count": null,
   "metadata": {},
   "outputs": [],
   "source": [
    "pupl_2009_cover = pupl_2009.column(\"COVER_%\")\n",
    "abpl_2009_cover = abpl_2009.column(\"COVER_%\")"
   ]
  },
  {
   "cell_type": "markdown",
   "metadata": {},
   "source": [
    "Each of the two areas had multiple quadrats, though not the same number."
   ]
  },
  {
   "cell_type": "code",
   "execution_count": null,
   "metadata": {},
   "outputs": [],
   "source": [
    "print(\"The number of Pumice Plains quadrats in 2009 is: \", len(pupl_2009_cover)) \n",
    "print(\"The number of Plains of Abraham quadrats in 2009 is: \", len(abpl_2009_cover)) "
   ]
  },
  {
   "cell_type": "code",
   "execution_count": null,
   "metadata": {},
   "outputs": [],
   "source": [
    "print(\"The average percent cover of the Pumice Plains subplots in 2009 was:\", np.mean(pupl_2009_cover))\n",
    "print(\"The average percent cover of the Plains of Abraham subplots in 2009 was:\", np.mean(abpl_2009_cover))"
   ]
  },
  {
   "cell_type": "markdown",
   "metadata": {},
   "source": [
    "Our test statistic is the difference in the means. If we have no reason to presuppose one is larger than the other, we simply test for the absolute value of the difference."
   ]
  },
  {
   "cell_type": "code",
   "execution_count": null,
   "metadata": {},
   "outputs": [],
   "source": [
    "# Absolute value of the difference in average cover in 2009\n",
    "test_statistic = np.abs(np.mean(pupl_2009_cover) - np.mean(abpl_2009_cover))\n",
    "test_statistic"
   ]
  },
  {
   "cell_type": "markdown",
   "metadata": {},
   "source": [
    "**Could this large a difference be a matter of chance?**\n",
    "\n",
    "HOW WE TEST THIS<br>\n",
    "If there really is no difference between the two study areas, just random fluctuation, then we can assign any of the subplots to either area before we calculate the mean. So we combine values from all of the quadrats the into a single population, draw 12 values at random to represent the Pumice Plains, the remaining 10 represent the Plains of Abraham, and calculate the difference in means. We do this over and over to build up a distribution of differences in the means that we use to calculate the liklihood of exceeding our test statistic."
   ]
  },
  {
   "cell_type": "code",
   "execution_count": null,
   "metadata": {},
   "outputs": [],
   "source": [
    "# Create the combined population\n",
    "combined_cover = np.append(pupl_2009_cover, abpl_2009_cover)\n",
    "\n",
    "# Run the simulation\n",
    "num_simulations = 10000\n",
    "sim_test_statistic = []\n",
    "for i in np.arange(num_simulations):\n",
    "    # Randomly permute the order\n",
    "    shuffled_values = np.random.permutation(combined_cover)\n",
    "    # Slice the permuted array to get the two samples\n",
    "    sim_pupl = shuffled_values[:12]\n",
    "    sim_abpl = shuffled_values[12:]\n",
    "    # Calculate the means\n",
    "    mean_sim_pupl = np.mean(sim_pupl)\n",
    "    mean_sim_abpl = np.mean(sim_abpl)\n",
    "    # Add the simulate test statistic to our list\n",
    "    sim_test_statistic.append(np.abs(mean_sim_pupl - mean_sim_abpl))"
   ]
  },
  {
   "cell_type": "code",
   "execution_count": null,
   "metadata": {},
   "outputs": [],
   "source": [
    "sim_test_statisic = np.array(sim_test_statistic)\n",
    "\n",
    "plt.hist(sim_test_statistic, bins=20, color=\"skyblue\", ec=\"red\")\n",
    "plt.plot(test_statistic, 0, '^', markersize=20)\n",
    "plt.title('Simulated Difference in Mean Cover')\n",
    "plt.xlabel('Absolute Difference in Means')\n",
    "plt.show()"
   ]
  },
  {
   "cell_type": "markdown",
   "metadata": {},
   "source": [
    "The red triangle show where our test statistic (the true difference in means) plots."
   ]
  },
  {
   "cell_type": "code",
   "execution_count": null,
   "metadata": {},
   "outputs": [],
   "source": [
    "p_value = np.sum(sim_test_statistic >= test_statistic) / num_simulations\n",
    "print(\"The p_value is: \", p_value)"
   ]
  },
  {
   "cell_type": "markdown",
   "metadata": {
    "editable": true,
    "slideshow": {
     "slide_type": ""
    },
    "tags": []
   },
   "source": [
    "<font color='blue'>***Accept or reject null hypothesis?***</font>\n",
    "The p-value is the probability that the observed difference in mean COVER_% is random. So do we accept or reject the null hypothesis? Explain in the cell below the check of the p-value."
   ]
  },
  {
   "cell_type": "markdown",
   "metadata": {
    "editable": true,
    "slideshow": {
     "slide_type": ""
    },
    "tags": []
   },
   "source": []
  },
  {
   "cell_type": "markdown",
   "metadata": {},
   "source": [
    "<font color='blue'> Conduct a similar simulation for the difference in the mean richness between the to plots in 2009. </font>"
   ]
  },
  {
   "cell_type": "code",
   "execution_count": null,
   "metadata": {},
   "outputs": [],
   "source": []
  },
  {
   "cell_type": "markdown",
   "metadata": {},
   "source": [
    "<font color='blue'>***Outcome of Hypothesis Test and conclusion about selected plots...***"
   ]
  },
  {
   "cell_type": "markdown",
   "metadata": {},
   "source": []
  },
  {
   "cell_type": "markdown",
   "metadata": {
    "editable": true,
    "slideshow": {
     "slide_type": ""
    },
    "tags": []
   },
   "source": [
    "## Testing a trend"
   ]
  },
  {
   "cell_type": "markdown",
   "metadata": {
    "editable": true,
    "slideshow": {
     "slide_type": ""
    },
    "tags": []
   },
   "source": [
    "Now we will look at the time trend of COVER_% and RICHNESS with the same approach we used to look at temperature trends in Lab07.\n",
    "\n",
    "First, net number of positive changes, which is the number of increases minus the number of decreases, using the `changes` function you developed in Part 2 of Lab07."
   ]
  },
  {
   "cell_type": "code",
   "execution_count": null,
   "metadata": {},
   "outputs": [],
   "source": [
    "def diff_n(values, n=1):\n",
    "    '''\n",
    "    Parameters:\n",
    "    values is an array of numbers\n",
    "    n is the offset (how far apart the numbers are in the array)\n",
    "    '''\n",
    "    return np.array(values)[n:] - np.array(values)[:-n]"
   ]
  },
  {
   "cell_type": "code",
   "execution_count": null,
   "metadata": {
    "editable": true,
    "slideshow": {
     "slide_type": ""
    },
    "tags": []
   },
   "outputs": [],
   "source": [
    "def changes(array, years = 1):\n",
    "    \"Return the number of increases minus the number of decreases\"\n",
    "    return np.sum(diff_n(array) >= 0) - np.sum(diff_n(array) < 0)"
   ]
  },
  {
   "cell_type": "code",
   "execution_count": null,
   "metadata": {},
   "outputs": [],
   "source": [
    "pupl_mean_trend = pupl.group('YEAR', np.mean).select(\"YEAR\", \"RICHNESS mean\", \"COVER_% mean\")\n",
    "pupl_mean_trend.show(3)"
   ]
  },
  {
   "cell_type": "code",
   "execution_count": null,
   "metadata": {},
   "outputs": [],
   "source": [
    "diff_n(pupl_mean_trend.column(\"COVER_% mean\"))"
   ]
  },
  {
   "cell_type": "code",
   "execution_count": null,
   "metadata": {},
   "outputs": [],
   "source": [
    "test_statistic = changes(pupl_mean_trend.column(\"COVER_% mean\"))\n",
    "test_statistic"
   ]
  },
  {
   "cell_type": "code",
   "execution_count": null,
   "metadata": {},
   "outputs": [],
   "source": [
    "# Number of opportunities to change is one less than the number of years of data\n",
    "pupl_mean_trend.num_rows - 1"
   ]
  },
  {
   "cell_type": "markdown",
   "metadata": {},
   "source": [
    "We see that for PUPL the cover increases 14 times more often than it decreases in 20 years. This is our test statistic. Could it be the result of random fluctuations?\n",
    "\n",
    "<font color='blue'>***PUPL COVER_% Trend Hypothesis***"
   ]
  },
  {
   "cell_type": "markdown",
   "metadata": {},
   "source": [
    "**Null Hypothesis:** The fact that cover increased year-over-year more often than it decrease for PUPL is purely a matter of chance.\n",
    "\n",
    "**Alternative Hypothesis:** The measured net positive increases in unlikely to happen by chance, so we can conclude there has been as statically significant upward trend.\n",
    "\n",
    "To test our hypotheses, we simulate 20 changes (our sample size) at random many times and see how often we get a net increase 14 or more times."
   ]
  },
  {
   "cell_type": "code",
   "execution_count": null,
   "metadata": {},
   "outputs": [],
   "source": [
    "num_chances_to_change = 20\n",
    "uniform = Table().with_columns(\n",
    "    \"Change\", make_array('Increase', 'Decrease'),\n",
    "    \"Chance\", make_array(0.5,        0.5))\n",
    "sample = uniform.sample_from_distribution(\"Chance\", num_chances_to_change)\n",
    "net_positive = sample.column(\"Chance sample\").item(0) - sample.column(\"Chance sample\").item(1)\n",
    "net_positive"
   ]
  },
  {
   "cell_type": "code",
   "execution_count": null,
   "metadata": {},
   "outputs": [],
   "source": [
    "def simulate_under_null(num_chances_to_change):\n",
    "    \"\"\"Simulates some number changing several times, with an equal\n",
    "    chance to increase or decrease.  Returns the value of your\n",
    "    test statistic for these simulated changes.\n",
    "    \n",
    "    num_chances_to_change is the number of times the number changes.\n",
    "    \"\"\"\n",
    "    uniform = Table().with_columns(\n",
    "        \"Change\", make_array('Increase', 'Decrease'),\n",
    "        \"Chance\", make_array(0.5,        0.5))\n",
    "    sample = uniform.sample_from_distribution(\"Chance\", num_chances_to_change)\n",
    "    net_positive = sample.column(\"Chance sample\").item(0) - sample.column(\"Chance sample\").item(1)    \n",
    "    return net_positive"
   ]
  },
  {
   "cell_type": "markdown",
   "metadata": {},
   "source": [
    "<font color=\"blue\"> Explain in the markdown cell below what this function does."
   ]
  },
  {
   "cell_type": "markdown",
   "metadata": {},
   "source": []
  },
  {
   "cell_type": "code",
   "execution_count": null,
   "metadata": {},
   "outputs": [],
   "source": [
    "def empirical_distribution(num_chances_to_change, num_simulations):\n",
    "    samples = []\n",
    "    for i in np.arange(num_simulations):\n",
    "        samples = np.append(samples, simulate_under_null(num_chances_to_change)) \n",
    "    return np.array(samples)"
   ]
  },
  {
   "cell_type": "code",
   "execution_count": null,
   "metadata": {},
   "outputs": [],
   "source": [
    "num_simulations = 1000\n",
    "sim_results = empirical_distribution(num_chances_to_change, num_simulations)\n",
    "plt.hist(sim_results, bins=np.arange(0, max(sim_results) + max(sim_results) * 0.1, 2), color=\"skyblue\", ec=\"red\")\n",
    "plt.plot(test_statistic, 0, '^', markersize=20);"
   ]
  },
  {
   "cell_type": "code",
   "execution_count": null,
   "metadata": {},
   "outputs": [],
   "source": [
    "p_value = np.sum(sim_results >= test_statistic) / num_simulations\n",
    "p_value"
   ]
  },
  {
   "cell_type": "markdown",
   "metadata": {
    "editable": true,
    "slideshow": {
     "slide_type": ""
    },
    "tags": []
   },
   "source": [
    "<font color=\"blue\"> What do you conclude in this case? </font> Answer in the markdown cell below."
   ]
  },
  {
   "cell_type": "markdown",
   "metadata": {},
   "source": []
  },
  {
   "cell_type": "markdown",
   "metadata": {},
   "source": [
    "#### STUDENT TASK 5\n",
    "<font color=\"blue\"> Repeat this process to test whether PUPL shows a significant upward trend in Richness, and test the trend in both cover_% and richness for ABPL.</font> As usual, add as many markdown and code cells as you need."
   ]
  },
  {
   "cell_type": "code",
   "execution_count": null,
   "metadata": {},
   "outputs": [],
   "source": []
  },
  {
   "cell_type": "markdown",
   "metadata": {},
   "source": [
    "## Conclusions\n",
    "Summarize your conclusions from your study of two plots. Contrast the features of the two plots and how they might lead to different or similar conclusions in the magnitude and significance of the studied quantities, COVER_% or RICHNESS. Use a markdown Table to summarize part of your conclusions. A markdown table uses `|` to divide headings and `|---|` to draw lines between rows. <font color=\"blue\"> Replace the question marks in the table below with your findings.</font>"
   ]
  },
  {
   "cell_type": "markdown",
   "metadata": {},
   "source": []
  },
  {
   "cell_type": "markdown",
   "metadata": {},
   "source": [
    "|Scenario Tested|Alternative Hypothesis|p-value|conclusion|\n",
    "|---|---|---|---|\n",
    "|Compare Cover_% PUPL vs. ABPL in 2009| PUPL > ABPL | p-value < 0.01|reject Null hypothesis|\n",
    "|Compare Richness PUPL vs. ABPL in 2009| PUPL > ABPL | p-value = ?|?|\n",
    "|PUPL Trend in Cover_%| Significant Trend | p-value < 0.01|reject Null hypothesis|\n",
    "|PUPL Trend in Richness| Significant Trend | p-value = ?|?|\n",
    "|ABPL Trend in Cover_%| Significant Trend | p-value = ?|?|\n",
    "|ABPL Trend in Richness| Significant Trend | p-value = ?|?|"
   ]
  },
  {
   "cell_type": "markdown",
   "metadata": {},
   "source": [
    "#### STUDENT TASK 6: Reflect on your discoveries\n",
    "- What did you learn from this second mini-project?\n",
    "- What surprised you?\n",
    "- What techniques did you use from Lab 07?\n",
    "- What part was the most challenging?\n",
    "- How long did you spend on the lab?"
   ]
  },
  {
   "cell_type": "markdown",
   "metadata": {},
   "source": []
  },
  {
   "cell_type": "code",
   "execution_count": null,
   "metadata": {
    "editable": true,
    "slideshow": {
     "slide_type": ""
    },
    "tags": []
   },
   "outputs": [],
   "source": [
    "# Last cell to execute\n",
    "import datetime\n",
    "now = datetime.datetime.now()\n",
    "now = now.strftime('%H:%M:%S on %A, %B the %dth, %Y')\n",
    "print(\" Submitted by \", name, user, \" at \", now )"
   ]
  }
 ],
 "metadata": {
  "kernelspec": {
   "display_name": "Python 3 (ipykernel)",
   "language": "python",
   "name": "python3"
  },
  "language_info": {
   "codemirror_mode": {
    "name": "ipython",
    "version": 3
   },
   "file_extension": ".py",
   "mimetype": "text/x-python",
   "name": "python",
   "nbconvert_exporter": "python",
   "pygments_lexer": "ipython3",
   "version": "3.11.6"
  }
 },
 "nbformat": 4,
 "nbformat_minor": 4
}
