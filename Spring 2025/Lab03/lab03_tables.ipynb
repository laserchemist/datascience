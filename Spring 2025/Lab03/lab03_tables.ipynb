{
 "cells": [
  {
   "cell_type": "markdown",
   "metadata": {},
   "source": [
    "# Lab 3: Tables\n",
    "\n",
    "Welcome to lab 3!  \n",
    "\n",
    "This week, we will focus on manipulating tables.  We will import our data sets into tables and complete the majority of analysis using these tables. Tables are described in [Chapter 6](https://inferentialthinking.com/chapters/06/Tables.html) of the Inferential Thinking text. A related approach in Python programming is to use what is known as a [pandas dataframe](https://pythonbasics.org/pandas-dataframe/) which we will need to resort to occasionally. Pandas is a mainstay data science tool.\n",
    "\n",
    "First, set up the tests and imports by running the cell below."
   ]
  },
  {
   "cell_type": "code",
   "execution_count": null,
   "metadata": {
    "tags": []
   },
   "outputs": [],
   "source": [
    "# These lines load the tests/checks and commonly used modules\n",
    "# THIS TAKES A MINUTE...\n",
    "\n",
    "import glob\n",
    "import json\n",
    "import numpy as np\n",
    "import os\n",
    "from datascience import *  # Brings into Python the datascience Table object\n",
    "\n",
    "import nbformat as nbf\n",
    "from gofer.ok import check\n",
    "from EDS_mod.EDS import *\n",
    "notebook = os.path.basename(globals()['__session__'])\n",
    "notebooks = glob.glob('*.ipynb')\n",
    "notebook = max(notebooks, key=os.path.getmtime)\n",
    "\n",
    "user = os.getenv('JUPYTERHUB_USER') # Get username \n",
    "print(\"Done!\")"
   ]
  },
  {
   "cell_type": "code",
   "execution_count": null,
   "metadata": {
    "tags": []
   },
   "outputs": [],
   "source": [
    "# Enter your name as a string\n",
    "dogname = \"Fido\"\n",
    "# Your name\n",
    "name = ..."
   ]
  },
  {
   "cell_type": "markdown",
   "metadata": {},
   "source": [
    "## 1. Introduction\n",
    "\n",
    "For a collection of things in the world, an array is useful for describing a single attribute of each thing. For example, among the collection of US States, an array could describe the land area of each. Tables extend this idea by describing multiple attributes for each element of a collection.\n",
    "\n",
    "In most data science applications, we have data about many entities, but we also have several kinds of data about each entity.\n",
    "\n",
    "For example, in the cell below we have two arrays. The first one contains the world population in each year (estimated by the US Census Bureau), and the second contains the years themselves. These elements are in order, so the year and the world population for that year have the same index in their corresponding arrays."
   ]
  },
  {
   "cell_type": "code",
   "execution_count": null,
   "metadata": {},
   "outputs": [],
   "source": [
    "population_amounts = Table.read_table(\"world_population.csv\").column(\"Population\")\n",
    "years = np.arange(1950, 2016,1)\n",
    "print(\"Population column:\", population_amounts)\n",
    "print(\"Years column:\", years)"
   ]
  },
  {
   "cell_type": "code",
   "execution_count": null,
   "metadata": {},
   "outputs": [],
   "source": [
    "len(population_amounts)"
   ]
  },
  {
   "cell_type": "code",
   "execution_count": null,
   "metadata": {},
   "outputs": [],
   "source": [
    "population_amounts.num_row"
   ]
  },
  {
   "cell_type": "markdown",
   "metadata": {},
   "source": [
    "Suppose we want to answer this question:\n",
    "\n",
    "> When did world population cross 6 billion?\n",
    "\n",
    "You could technically answer this question just from staring at the arrays, but it's a bit convoluted, since you would have to count the position where the population first crossed 6 billion, then find the corresponding element in the years array. In cases like these, it might be easier to put the data into a *`Table`*, a two-dimensional type of dataset. \n",
    "\n",
    "The expression below:\n",
    "\n",
    "- creates an empty table using the expression `Table()`,\n",
    "- adds two columns to the table by calling `with_columns` with four arguments (column label and data array for each),\n",
    "- assigns the result to a table with the name `population`, and finally\n",
    "- evaluates `population` so that we can see the table.\n",
    "\n",
    "The strings `\"Year\"` and `\"Population\"` are column labels that we have chosen. Their names `population_amounts` and `years` were assigned above to two arrays of the same length. The function `with_columns` (you can find the documentation [here](http://data8.org/datascience/tables.html)) takes in alternating strings (to represent column labels) and arrays (representing the data in those columns), which are all separated by commas. Tip: Both `population_amounts` and `years` need the same number of data points or an error will be returned on attempting to construct the table."
   ]
  },
  {
   "cell_type": "code",
   "execution_count": null,
   "metadata": {
    "tags": []
   },
   "outputs": [],
   "source": [
    "# Create a table with two columns. \n",
    "# Each column as a label (header) and an array of data.\n",
    "# Note: the columns much be the same length.\n",
    "population = Table().with_columns(\n",
    "    \"Population\", population_amounts,\n",
    "    \"Year\", years\n",
    ")\n",
    "population"
   ]
  },
  {
   "cell_type": "code",
   "execution_count": null,
   "metadata": {},
   "outputs": [],
   "source": [
    "len(population)"
   ]
  },
  {
   "cell_type": "code",
   "execution_count": null,
   "metadata": {},
   "outputs": [],
   "source": [
    "population.sort(\"Population\", descending=True)"
   ]
  },
  {
   "cell_type": "code",
   "execution_count": null,
   "metadata": {},
   "outputs": [],
   "source": [
    "population.num_rows"
   ]
  },
  {
   "cell_type": "markdown",
   "metadata": {},
   "source": [
    "Now the data are all together in a single table! It's much easier to parse this data--if you need to know what the population was in 1959, for example, you can tell from a single glance. We'll revisit this table later.\n",
    "\n",
    "<font color=blue> **Question 1.** </font><br />\n",
    "From the example in the cell above, identify the variables or data types for each of the following:  which variable contains the table?  which variable contains an array? On the right of the equals sign provide the correct variable name. Note that in the cell above we defined one table, which contains two arrays, so you can pick either array variable for your answer."
   ]
  },
  {
   "cell_type": "code",
   "execution_count": null,
   "metadata": {},
   "outputs": [],
   "source": [
    "table_var = ... \n",
    "array_var = ..."
   ]
  },
  {
   "cell_type": "code",
   "execution_count": null,
   "metadata": {},
   "outputs": [],
   "source": [
    "check('tests/q1.py')"
   ]
  },
  {
   "cell_type": "markdown",
   "metadata": {},
   "source": [
    "## 2. Creating Tables\n",
    "\n",
    "<font color=blue> **Question 2.** </font><br />In the cell below, we've created two arrays. In these examples, we're going to be looking at the Environmental Protection Index which describes the state of sustainability in each country.  More information can be found: [Yale EPI](https://epi.yale.edu/). Using the steps above, assign `top_10_epi` to a table that has two columns called \"Country\" and \"Score\", which hold `top_10_epi_countries` and `top_10_epi_scores` respectively."
   ]
  },
  {
   "cell_type": "code",
   "execution_count": null,
   "metadata": {
    "tags": []
   },
   "outputs": [],
   "source": [
    "# Create an array of Environmental Index Protection Scores\n",
    "top_10_epi_scores = make_array(82.5, 82.3, 81.5, 81.3, 80., 79.6, 78.9, 78.7, 77.7, 77.2)\n",
    "\n",
    "# Create a corresponding array of country names\n",
    "top_10_epi_countries = make_array(\n",
    "        'Denmark',\n",
    "        'Luxembourg', \n",
    "        'Switzerland', \n",
    "        'United Kingdom', \n",
    "        'France', \n",
    "        'Austria', \n",
    "        'Finland', \n",
    "        'Sweden', \n",
    "        'Norway',\n",
    "        'Germany'\n",
    "        )\n",
    "\n",
    "# Use the same approach as in section 1 to build the table.\n",
    "top_10_epi = ...\n",
    "\n",
    "# We've put this next line here so your table will get printed out when you run this cell.\n",
    "top_10_epi"
   ]
  },
  {
   "cell_type": "code",
   "execution_count": null,
   "metadata": {},
   "outputs": [],
   "source": [
    "check('tests/q2.py')"
   ]
  },
  {
   "cell_type": "markdown",
   "metadata": {},
   "source": [
    "#### Loading a table from a file\n",
    "In most cases, we aren't going to go through the trouble of typing in all the data manually. Instead, we can use our `Table` functions.\n",
    "\n",
    "`Table.read_table` takes one argument, a path to a data file (a string) and returns a table.  There are many formats for data files, but CSV (\"comma-separated values\") is the most common.\n",
    "\n",
    "<font color=blue> **Question 3.** </font><br />The file `yale_epi.csv` in the current directory contains a table of information about 180 countries with their corresponding Environmental Performance Index (EPI) based on 32 indicators of sustainability.  Load it as a table called `epi` using the `Table.read_table` function.\n",
    "\n",
    "Note: the first few rows of this file look like this:\n",
    "\n",
    "Country,Score,Decade Change,Rank\\\n",
    "Afghanistan,25.5,5,178\\\n",
    "Angola,29.7,5.3,158\\\n",
    "Albania,49,10.2,62\\\n",
    "United Arab Emirates,55.6,11.3,42\\\n",
    "\n",
    "The first row has the column labels, the remainting rows have the values. In each row values are separated by commas, hence the name \"comma-separated values.\" "
   ]
  },
  {
   "cell_type": "code",
   "execution_count": null,
   "metadata": {},
   "outputs": [],
   "source": [
    "epi = ...\n",
    "epi "
   ]
  },
  {
   "cell_type": "code",
   "execution_count": null,
   "metadata": {
    "tags": []
   },
   "outputs": [],
   "source": [
    "# REMOVE\n",
    "epi = Table.read_table(\"yale_epi.csv\")\n",
    "epi"
   ]
  },
  {
   "cell_type": "code",
   "execution_count": null,
   "metadata": {},
   "outputs": [],
   "source": [
    "check('tests/q3.py')"
   ]
  },
  {
   "cell_type": "markdown",
   "metadata": {},
   "source": [
    "Notice the part about \"... (170 rows omitted).\"  This table is big enough that only a few of its rows are displayed, but the others are still there.  The first 10 are shown, so there are 180 movies total.\n",
    "\n",
    "Where did `yale_epi.csv` come from? Look at this lab's folder in the sidebar on the left. You should see a file called `yale_epi.csv`.\n",
    "\n",
    "Double-click to open up the `yale_epi.csv` file in that folder and look at the format. What do you notice? The `.csv` filename ending says that this file is in the [CSV (comma-separated value) format](http://edoceo.com/utilitas/csv-file-format).\n",
    "\n",
    "**Quick Tip** Don't just blow by links such as the one above. Reading the material in the references provided is an important part of the lab assignments."
   ]
  },
  {
   "cell_type": "markdown",
   "metadata": {},
   "source": [
    "## 3. Using lists\n",
    "\n",
    "A *list* is another Python sequence type, similar to an array. It's different than an array because the values it contains can all have different types. A single list can contain `int` values, `float` values, and `strings`. Elements in a list can even be other lists! A list is created by giving a name to the list of values enclosed in square brackets and separated by commas. For example, `values_with_different_types = ['data', 8, 8.1]`\n",
    "\n",
    "Lists can be useful when working with tables because they can describe the contents of one row in a table, which often  corresponds to a sequence of values with different types. A list of lists can be used to describe multiple rows.\n",
    "\n",
    "Each column in a table is a collection of values with the same type (an array). If you create a table column from a list, it will automatically be converted to an array. A row, on the ther hand, mixes types.\n",
    "\n",
    "Here's a table from Chapter 5. (Run the cell below.)"
   ]
  },
  {
   "cell_type": "code",
   "execution_count": null,
   "metadata": {
    "tags": []
   },
   "outputs": [],
   "source": [
    "# Run this cell to recreate the table\n",
    "flowers = Table().with_columns(\n",
    "    'Number of petals', make_array(8, 34, 5),\n",
    "    'Name', make_array('lotus', 'sunflower', 'rose')\n",
    ")\n",
    "flowers"
   ]
  },
  {
   "cell_type": "markdown",
   "metadata": {},
   "source": [
    "Notice that the column 'Number of petals' contains all integers, which are the same data type, so the column can be stored in an array. Similarly, the column 'Name' contains an array of all strings. The first row of the table, however, contains a the number 8 and the string 'lotus' so we cannot store the row as an array, but we can store it as a list."
   ]
  },
  {
   "cell_type": "markdown",
   "metadata": {},
   "source": [
    "<font color=blue> **Question 4.** </font><br />Create a list that describes a new fourth row of this table. The details can be whatever you want, but the list must contain two values: the number of petals (an `int` value) and the name of the flower (a string). For example, your flower could be \"pondweed\"! (A flower with zero petals)"
   ]
  },
  {
   "cell_type": "code",
   "execution_count": null,
   "metadata": {},
   "outputs": [],
   "source": [
    "my_flower = ...\n",
    "my_flower"
   ]
  },
  {
   "cell_type": "code",
   "execution_count": null,
   "metadata": {},
   "outputs": [],
   "source": [
    "check('tests/q4.py')"
   ]
  },
  {
   "cell_type": "markdown",
   "metadata": {},
   "source": [
    "<font color=blue> **Question 5.** </font><br />`my_flower` fits right in to the table from chapter 5. Complete the cell below to create a table of seven flowers that includes your flower as the fourth row followed by `other_flowers`. You can use `with_row` to create a new table with one extra row by passing a list of values and `with_rows` to create a table with multiple extra rows by passing a list of lists of values."
   ]
  },
  {
   "cell_type": "code",
   "execution_count": null,
   "metadata": {
    "tags": []
   },
   "outputs": [],
   "source": [
    "# The with_row method adds a single row to a table.\n",
    "# Here is an example:\n",
    "example_table = Table().with_columns(\"Number\", [1, 2, 3], \"Name\", [\"One\", \"Two\", \"Three\"])\n",
    "new_row = [4, \"Four\"]\n",
    "example_table = example_table.with_row(new_row)\n",
    "example_table"
   ]
  },
  {
   "cell_type": "code",
   "execution_count": null,
   "metadata": {},
   "outputs": [],
   "source": [
    "# Use the method .with_row(...) to create a new table that includes my_flower \n",
    "# In this case you are adding a single row\n",
    "four_flowers = ...\n",
    "four_flowers"
   ]
  },
  {
   "cell_type": "code",
   "execution_count": null,
   "metadata": {
    "tags": []
   },
   "outputs": [],
   "source": [
    "# The with_rows method adds multiple rows to a table.\n",
    "# Here is an example:\n",
    "additional_rows = [[5, \"Five\"], [6, \"Six\"]]\n",
    "example_table = example_table.with_rows(additional_rows)\n",
    "example_table"
   ]
  },
  {
   "cell_type": "code",
   "execution_count": null,
   "metadata": {},
   "outputs": [],
   "source": [
    "# Use the method .with_rows(...) to create a table that \n",
    "# includes four_flowers followed by other_flowers\n",
    "# Now you are adding multiple rows, so\n",
    "# notice that other_flowers is a list of lists.\n",
    "other_flowers = [[10, 'lavender'], [3, 'birds of paradise'], [6, 'tulip']]\n",
    "\n",
    "seven_flowers = ...\n",
    "seven_flowers"
   ]
  },
  {
   "cell_type": "code",
   "execution_count": null,
   "metadata": {},
   "outputs": [],
   "source": [
    "check('tests/q5.py')"
   ]
  },
  {
   "cell_type": "markdown",
   "metadata": {},
   "source": [
    "## 4. Analyzing datasets\n",
    "With just a few table methods, we can answer some interesting questions about the EPI dataset.\n",
    "\n",
    "If we want just the scores of each country, we can get an array that contains the data in that column:"
   ]
  },
  {
   "cell_type": "code",
   "execution_count": null,
   "metadata": {
    "tags": []
   },
   "outputs": [],
   "source": [
    "# We have a table named epi. We use the column() method on the\n",
    "# table and pass in the name of the column we wish to extract.\n",
    "epi.column(\"Score\")"
   ]
  },
  {
   "cell_type": "markdown",
   "metadata": {},
   "source": [
    "The value of that expression is an array, exactly the same kind of thing you'd get if you typed in `make_array(25.5, 29.7, 49.0, [etc])`.\n",
    "\n",
    "The .column() table method will accept either the name of the column or the number, where the first column is column 0, the second is column 1, etc. Note that Python always starts counting elements in a list, array or table starting at zero. So, the first column of a table is column zero.\n",
    "\n",
    "Therefore, an equivalent way of obtaining the scores (the second column) is:"
   ]
  },
  {
   "cell_type": "code",
   "execution_count": null,
   "metadata": {
    "tags": []
   },
   "outputs": [],
   "source": [
    "epi.column(1)"
   ]
  },
  {
   "cell_type": "markdown",
   "metadata": {},
   "source": [
    "So you can index a column in a table with either the column name or the column number.  You'll see later that there are times when this flexibility comes in handy."
   ]
  },
  {
   "cell_type": "markdown",
   "metadata": {},
   "source": [
    "\n",
    "<font color=blue> **Question 6.** </font><br />Find the EPI score of the highest-ranked country in the dataset.\n",
    "\n",
    "*Hint:* Think back to the functions you've learned about for working with arrays of numbers.  We used one to find the maximum of an array of numbers. Ask for help if you can't remember one that's useful for this. \n",
    "\n",
    "So, so solve question 6, you need to extract the array of scores from the data table using either of the two methods shown above and find the maximum of that array."
   ]
  },
  {
   "cell_type": "code",
   "execution_count": null,
   "metadata": {},
   "outputs": [],
   "source": [
    "highest_rating = ...\n",
    "highest_rating"
   ]
  },
  {
   "cell_type": "code",
   "execution_count": null,
   "metadata": {},
   "outputs": [],
   "source": [
    "check('tests/q6.py')"
   ]
  },
  {
   "cell_type": "markdown",
   "metadata": {},
   "source": [
    "That's not very useful, though.  You'd probably want to know the *name* of the country whose score you found!  To do that, we can sort the entire table by EPI Score, which ensures that the scores and country will stay together. Note that calling `sort()` creates a copy of the table and leaves the original table unsorted."
   ]
  },
  {
   "cell_type": "code",
   "execution_count": null,
   "metadata": {},
   "outputs": [],
   "source": [
    "epi.sort(\"Score\")"
   ]
  },
  {
   "cell_type": "markdown",
   "metadata": {},
   "source": [
    "Well, that doesn't help much, either -- we sorted the countries from lowest -> highest scores.  To look at the highest-ranked countries, sort in reverse order:"
   ]
  },
  {
   "cell_type": "code",
   "execution_count": null,
   "metadata": {},
   "outputs": [],
   "source": [
    "epi.sort(\"Score\", descending=True)"
   ]
  },
  {
   "cell_type": "markdown",
   "metadata": {},
   "source": [
    "(The `descending=True` bit is called an *optional argument*. It has a default value of `False`, so when you explicitly tell the function `descending=True`, then the function will sort in descending order.)\n",
    "\n",
    "So the country with the highest Environmental Protection Index is Denmark with 82.5.  \n",
    "\n",
    "Some details about sort:\n",
    "\n",
    "1. The first argument to `sort` is the name of a column to sort by.\n",
    "2. If the column has strings in it, `sort` will sort alphabetically; if the column has numbers, it will sort numerically.\n",
    "3. The value of `epi.sort(\"Score\")` is a *copy of `epi`*; the `epi` table doesn't get modified. For example, if we called `epi.sort(\"Score\")`, then running `epi` by itself would still return the unsorted table.\n",
    "4. Rows always stick together when a table is sorted.  It wouldn't make sense to sort just one column and leave the other columns alone.  For example, in this case, if we sorted just the \"Score\" column, the countries would all end up with the wrong scores.\n",
    "\n",
    "<font color=blue> **Question 7.** </font><br />  We also have information about the changes in sustainability scores from 2010 to 2020.  Create a version of `epi` that's sorted by change, with the largest, positive changes first.  Call it `epi_changes`."
   ]
  },
  {
   "cell_type": "code",
   "execution_count": null,
   "metadata": {},
   "outputs": [],
   "source": [
    "epi_changes = ...\n",
    "epi_changes"
   ]
  },
  {
   "cell_type": "code",
   "execution_count": null,
   "metadata": {},
   "outputs": [],
   "source": [
    "check('tests/q7.py')"
   ]
  },
  {
   "cell_type": "markdown",
   "metadata": {},
   "source": [
    "<font color=blue> **Question 8.** </font><br />What's the name of the country with the largest, positive change in the dataset?  You could just look this up from the output of the previous cell.  Instead, write Python code to find out.\n",
    "\n",
    "*Hint:* Starting with `epi_changes`, extract the country column to get an array, then use `item` to get its first item. Recall that Python always start indexing at zero, so `.item(0)` will retrieve the first value from an array. `.item(1)` the second element, etc."
   ]
  },
  {
   "cell_type": "code",
   "execution_count": null,
   "metadata": {},
   "outputs": [],
   "source": [
    "largest_positive_change = ...\n",
    "largest_positive_change"
   ]
  },
  {
   "cell_type": "code",
   "execution_count": null,
   "metadata": {},
   "outputs": [],
   "source": [
    "check('tests/q8.py')"
   ]
  },
  {
   "cell_type": "markdown",
   "metadata": {},
   "source": [
    "## 5. Finding pieces of a dataset\n",
    "Let's take a look at another dataset.  In the cell below, we're reading in a movie dataset which contains columns for Votes on imdb, imdb Rating, Movie Title, the year released, and the decade the movie was released. "
   ]
  },
  {
   "cell_type": "code",
   "execution_count": null,
   "metadata": {
    "tags": []
   },
   "outputs": [],
   "source": [
    "imdb = Table.read_table('imdb.csv')\n",
    "imdb"
   ]
  },
  {
   "cell_type": "markdown",
   "metadata": {},
   "source": [
    " Suppose you're interested in movies from the 1940s.  Sorting the table by year doesn't help you, because the 1940s are in the middle of the dataset.\n",
    "\n",
    "Instead, we use the table method `where()`."
   ]
  },
  {
   "cell_type": "code",
   "execution_count": null,
   "metadata": {
    "tags": []
   },
   "outputs": [],
   "source": [
    "forties = imdb.where('Decade', are.equal_to(1940))\n",
    "forties"
   ]
  },
  {
   "cell_type": "markdown",
   "metadata": {},
   "source": [
    "Ignore the syntax for the moment.  Instead, try to read that line like this:\n",
    "\n",
    "> Assign the name **`forties`** to a table whose rows are the rows in the **`imdb`** table **`where`** the values in the **`Decade`**  column **`are` `equal` `to` `1940`**.\n",
    "\n",
    "<font color=blue> **Question 9.** </font><br />Compute the average rating of movies from the 1980s.\n",
    "\n",
    "*Hint:* The function `np.average` computes the average of an array of numbers."
   ]
  },
  {
   "cell_type": "code",
   "execution_count": null,
   "metadata": {},
   "outputs": [],
   "source": [
    "# Use the where() method\n",
    "eighties = ...\n",
    "\n",
    "# Extract the ratings column or your new table, then take the average\n",
    "average_rating_in_eighties = ...\n",
    "average_rating_in_eighties"
   ]
  },
  {
   "cell_type": "code",
   "execution_count": null,
   "metadata": {},
   "outputs": [],
   "source": [
    "check('tests/q9.py')"
   ]
  },
  {
   "cell_type": "markdown",
   "metadata": {},
   "source": [
    "Now let's dive into the details a bit more.  `where` takes two arguments:\n",
    "\n",
    "1. The first argument is the name of a column.  `where` finds rows where that column's values meet some criterion.\n",
    "2. The second argument is something called a predicate that describes the criterion that the column needs to meet.\n",
    "\n",
    "To create our predicate, we called the function `are.equal_to` with the value we wanted, 1980.  We'll see other predicates soon.\n",
    "\n",
    "`where` returns a table that's a copy of the original table, but with only the rows that meet the given predicate.\n",
    "\n",
    "<font color=blue> **Question 10.** </font><br /> Create a table called `ninety_nine` containing the movies that came out in the year 1999.  Use `where`."
   ]
  },
  {
   "cell_type": "code",
   "execution_count": null,
   "metadata": {},
   "outputs": [],
   "source": [
    "ninety_nine = ...\n",
    "ninety_nine"
   ]
  },
  {
   "cell_type": "code",
   "execution_count": null,
   "metadata": {},
   "outputs": [],
   "source": [
    "check('tests/q10.py')"
   ]
  },
  {
   "cell_type": "markdown",
   "metadata": {},
   "source": [
    "So far we've only been finding where a column is *exactly* equal to a certain value. However, there are many other predicates that can be used to return only the rows of a data table that meet our condition.  Here are a few other predicates:\n",
    "\n",
    "|Predicate|Example|Result|\n",
    "|-|-|-|\n",
    "|`are.equal_to`|`are.equal_to(50)`|Find rows with values equal to 50|\n",
    "|`are.not_equal_to`|`are.not_equal_to(50)`|Find rows with values not equal to 50|\n",
    "|`are.above`|`are.above(50)`|Find rows with values above (and not equal to) 50|\n",
    "|`are.above_or_equal_to`|`are.above_or_equal_to(50)`|Find rows with values above 50 or equal to 50|\n",
    "|`are.below`|`are.below(50)`|Find rows with values below 50|\n",
    "|`are.between`|`are.between(2, 10)`|Find rows with values above or equal to 2 and below 10|\n",
    "\n",
    "The textbook section on selecting rows has more examples.\n"
   ]
  },
  {
   "cell_type": "markdown",
   "metadata": {
    "tags": []
   },
   "source": [
    "<font color=blue> **Question 10 Discussion.** </font></br>\n",
    "Testing for equality with `are.equal_to` works great for integers; for floating point numbers (numbers with decimals), not so much. \n",
    "\n",
    "Consider the fraction 1/3. As a floating point number it is 0.333333 with an infinite number of 3's. Computers cannot store numbers to infinte precision, so the value will be truncated at some point. There will be a teesy, tiny, round-off error. You know, and I know, that 1/3 + 1/3 + 1/3 = 1, but if the 1/3's have all stored as truncated decimals, the sum will note **exactly** equal 1. Instead, the sum will be 0.99999999... to sum number of decimals places.\n",
    "\n",
    "Floating point round-off errors are everywhere in computer calculations. Mostly, we don't care becuase they occur in the umpteenth decimal place, but they will still sometimes cause tests for equality to fail, leading to bugs that can be extremely hard to track down.\n",
    "\n",
    "**In the markdown cell below,** describe a way to test values in a table using one of the predicates above to return rows that are close enough to a value that they are equal for all practical purposes. Use words, not code, to describe your solution."
   ]
  },
  {
   "cell_type": "markdown",
   "metadata": {},
   "source": [
    "..."
   ]
  },
  {
   "cell_type": "code",
   "execution_count": null,
   "metadata": {
    "tags": []
   },
   "outputs": [],
   "source": [
    "# Remember to save your notebook before running this check.\n",
    "check('tests/q10_open_ended.py')"
   ]
  },
  {
   "cell_type": "markdown",
   "metadata": {},
   "source": [
    "<font color=blue> **Question 11.** </font><br />Using `where` and one of the predicates from the table above, find all the movies with a rating higher than 8.8.  Put their data in a table called `really_highly_rated`."
   ]
  },
  {
   "cell_type": "code",
   "execution_count": null,
   "metadata": {},
   "outputs": [],
   "source": [
    "really_highly_rated = ...\n",
    "really_highly_rated"
   ]
  },
  {
   "cell_type": "code",
   "execution_count": null,
   "metadata": {},
   "outputs": [],
   "source": [
    "check('tests/q11.py')"
   ]
  },
  {
   "cell_type": "markdown",
   "metadata": {},
   "source": [
    "### A slightly more elaborate example\n",
    "Suppose you wanted to find the lowest rating of all the movies in 20th century. What are the steps?\n",
    "\n",
    "1. Filter the table to have just the movies that came out in the 20th century.\n",
    "2. Extract the ratings column into an array.\n",
    "3. Find the minimum value of that array."
   ]
  },
  {
   "cell_type": "code",
   "execution_count": null,
   "metadata": {
    "tags": []
   },
   "outputs": [],
   "source": [
    "# Filter the table to have just the movies that came out in the 20th century.\n",
    "# Note: movies didn't exist before the 20th century.\n",
    "imdb_20th_century = imdb.where('Year', are.below(2000))\n",
    "\n",
    "# Extract the ratings column into an array using .column()\n",
    "imdb_20th_century_ratings = imdb_20th_century.column('Rating')\n",
    "\n",
    "# Find the minimum value of that array.\n",
    "lowest_rating = min(imdb_20th_century_ratings)\n",
    "                    \n",
    "print(\"The lowest rating of the 20th century films in the IMDB database is:\", lowest_rating)"
   ]
  },
  {
   "cell_type": "markdown",
   "metadata": {},
   "source": [
    "<font color=blue> **Question 12.** </font><br />**Your turn.** Find the average rating for movies released in the 20th century and the average rating for movies released in the 21st century for the movies in `imdb`.\n",
    "\n",
    "*Hint*: Think of the steps you need to do (take the average, find the ratings, find movies released in 20th/21st centuries), and try to put them in an order that makes sense.\n",
    "\n",
    "*Hint*: You can always add lines of code before the lines with the ..."
   ]
  },
  {
   "cell_type": "code",
   "execution_count": null,
   "metadata": {},
   "outputs": [],
   "source": [
    "average_20th_century_rating = ...\n",
    "average_21st_century_rating = ...\n",
    "print(\"Average 20th century rating:\", average_20th_century_rating)\n",
    "print(\"Average 21st century rating:\", average_21st_century_rating)"
   ]
  },
  {
   "cell_type": "code",
   "execution_count": null,
   "metadata": {},
   "outputs": [],
   "source": [
    "check('tests/q12.py')"
   ]
  },
  {
   "cell_type": "markdown",
   "metadata": {},
   "source": [
    "The property `num_rows` tells you how many rows are in a table.  (A \"property\" is just a method that doesn't need to be called by adding parentheses because it doesn't take any arguments.)"
   ]
  },
  {
   "cell_type": "code",
   "execution_count": null,
   "metadata": {},
   "outputs": [],
   "source": [
    "num_movies_in_dataset = imdb.num_rows\n",
    "num_movies_in_dataset"
   ]
  },
  {
   "cell_type": "markdown",
   "metadata": {},
   "source": [
    "<font color=blue> **Question 13.** </font><br />Use `num_rows` (and arithmetic) to find the *proportion* of movies in the dataset that were released in the 20th century, and the proportion from the 21st century.\n",
    "\n",
    "*Hint:* The *proportion* of movies released in the 20th century is the *number* of movies released in the 20th century, divided by the *total number* of movies.\n",
    "\n",
    "*Hint:* Again, you can **always** add lines of code before the lines with the ..."
   ]
  },
  {
   "cell_type": "code",
   "execution_count": null,
   "metadata": {},
   "outputs": [],
   "source": [
    "proportion_in_20th_century = ...\n",
    "proportion_in_21st_century = ...\n",
    "print(\"Proportion in 20th century:\", proportion_in_20th_century)\n",
    "print(\"Proportion in 21st century:\", proportion_in_21st_century)"
   ]
  },
  {
   "cell_type": "code",
   "execution_count": null,
   "metadata": {},
   "outputs": [],
   "source": [
    "check('tests/q13.py')"
   ]
  },
  {
   "cell_type": "markdown",
   "metadata": {},
   "source": [
    "### Digression: Column calculations\n",
    "Often you want to create a new column in a table that is the result of some calculation using one or more of the existings columns. This typically involves three steps:\n",
    "\n",
    "1. Extract the data from the columns into array(s).\n",
    "2. Do math with the array(s).\n",
    "3. Add the results as a new column to your table using the .column() method.\n",
    "\n",
    "Let's examine this process with a simple table."
   ]
  },
  {
   "cell_type": "code",
   "execution_count": null,
   "metadata": {
    "tags": []
   },
   "outputs": [],
   "source": [
    "# Notice that a table is comprised of columns with a label and a list or array\n",
    "quiz_scores = Table().with_columns(\n",
    "    \"Name\", [\"Lynda\", \"Jerome\", \"Ali\"],\n",
    "    \"Quiz 1\", make_array(8, 9, 10),\n",
    "    \"Quiz 2\", make_array(7, 8, 9)\n",
    ")\n",
    "quiz_scores"
   ]
  },
  {
   "cell_type": "markdown",
   "metadata": {},
   "source": [
    "Now suppose we wanted a table with just the students whose total quiz scores exceeds 15. How would we do this? We can use the where() method to filter, but first we need a column with the total scores.\n",
    "\n",
    "To add a column to this table with the total of the quiz 1 and 2, we will follow the three steps."
   ]
  },
  {
   "cell_type": "code",
   "execution_count": null,
   "metadata": {
    "tags": []
   },
   "outputs": [],
   "source": [
    "# Extract the data from the columns into array(s).\n",
    "q1 = quiz_scores.column('Quiz 1')\n",
    "q2 = quiz_scores.column('Quiz 2')\n",
    "\n",
    "# Do math with the array(s).\n",
    "total = q1 + q2\n",
    "\n",
    "# Add the results as a new column to your table using the .column() method.\n",
    "quiz_scores = quiz_scores.with_column('Quiz Total', total)\n",
    "\n",
    "quiz_scores"
   ]
  },
  {
   "cell_type": "markdown",
   "metadata": {},
   "source": [
    "Now if we are ready to filter our table. Since we want score exceeding 15, we use the `are.above()` predicate."
   ]
  },
  {
   "cell_type": "code",
   "execution_count": null,
   "metadata": {
    "tags": []
   },
   "outputs": [],
   "source": [
    "quiz_scores.where('Quiz Total', are.above(15))"
   ]
  },
  {
   "cell_type": "markdown",
   "metadata": {},
   "source": [
    "<font color=blue> **Question 14.** </font><br />Back to movies! **Here's a challenge: Find the number of movies that came out in *odd* years.**\n",
    "\n",
    "*Hint:* The math operator `%` computes the remainder when dividing by a number.  So `5 % 2` is 1 and `6 % 2` is 0.  A number is odd if the remainder is 1 when you divide by 2.\n",
    "\n",
    "*Hint 2:* `%` can be used on arrays, operating elementwise like `+` or `*`.  So `make_array(5, 6, 7) % 2` is `array([1, 0, 1])`.\n",
    "\n",
    "*Hint 3:* Create a column called \"Year Remainder\" that's the remainder when each movie's release year is divided by 2.  Make a copy of `imdb` that includes that column.  (You may need to add more variables.)  Then use `where` to find rows where that new column is equal to 1.  Then use `num_rows` to count the number of such rows.\n",
    "\n",
    "*Hint 4:* Break this calculation into steps by adding code cells before the one below. Check the results of each step."
   ]
  },
  {
   "cell_type": "code",
   "execution_count": null,
   "metadata": {
    "for_assignment_type": "student"
   },
   "outputs": [],
   "source": [
    "...\n",
    "num_odd_year_movies = ...\n",
    "num_odd_year_movies"
   ]
  },
  {
   "cell_type": "code",
   "execution_count": null,
   "metadata": {},
   "outputs": [],
   "source": [
    "check('tests/q14.py')"
   ]
  },
  {
   "cell_type": "markdown",
   "metadata": {},
   "source": [
    "## 6. Miscellanea\n",
    "There are a few more table methods you'll need to fill out your toolbox.  The first three have to do with manipulating the columns in a table.\n",
    "\n",
    "The table `farmers_markets.csv` contains data on farmers' markets in the United States  (data collected [by the USDA]([dataset](https://apps.ams.usda.gov/FarmersMarketsExport/ExcelExport.aspx)).  Each row represents one such market.\n",
    "\n",
    "<font color=blue> **Question 15.** </font><br />Load the dataset into a table.  Call it `farmers_markets`."
   ]
  },
  {
   "cell_type": "code",
   "execution_count": null,
   "metadata": {},
   "outputs": [],
   "source": [
    "farmers_markets = ...\n",
    "farmers_markets"
   ]
  },
  {
   "cell_type": "code",
   "execution_count": null,
   "metadata": {
    "tags": []
   },
   "outputs": [],
   "source": [
    "# REMOVE\n",
    "farmers_markets = Table.read_table(\"farmers_markets.csv\")\n",
    "farmers_markets"
   ]
  },
  {
   "cell_type": "code",
   "execution_count": null,
   "metadata": {
    "tags": []
   },
   "outputs": [],
   "source": [
    "check('tests/q15.py')"
   ]
  },
  {
   "cell_type": "markdown",
   "metadata": {},
   "source": [
    "Notice that the table has `nan` strings in many of the columns. `nan` stands for 'not a number,' which means the file being read into the table had some missing values. We won't discuss the problem of missing values in this lab, but it comes up A LOT in data science, so we will return to it later in the course.\n",
    "\n",
    "You'll also notice that the table has a large number of columns!\n",
    "\n",
    "### `num_columns`\n",
    "\n",
    "<font color=blue> **Question 16.** </font><br /> The table property `num_columns` (example call: `tbl.num_columns`) produces the number of columns in a table.  Use it to find the number of columns in our farmers' markets dataset."
   ]
  },
  {
   "cell_type": "code",
   "execution_count": null,
   "metadata": {
    "tags": []
   },
   "outputs": [],
   "source": [
    "num_farmers_markets_columns = ...\n",
    "print(\"The table has\", num_farmers_markets_columns, \"columns in it!\")"
   ]
  },
  {
   "cell_type": "code",
   "execution_count": null,
   "metadata": {},
   "outputs": [],
   "source": [
    "check('tests/q16.py')"
   ]
  },
  {
   "cell_type": "markdown",
   "metadata": {},
   "source": [
    "Most of the columns are about particular products -- whether the market sells tofu, pet food, etc.  If we're not interested in that stuff, it just makes the table difficult to read.  This comes up more than you might think.\n",
    "\n",
    "### `select`\n",
    "\n",
    "In such situations, we can use the table method `select` to pare down the columns of a table.  It takes any number of arguments.  Each should be the name or index number of a column in the table.  It returns a new table with only those columns in it.\n",
    "\n",
    "For example, the value of `imdb.select(\"Year\", \"Decade\")` is a table with only the years and decades of each movie in `imdb`."
   ]
  },
  {
   "cell_type": "markdown",
   "metadata": {},
   "source": [
    "### Digression: `select` and `column` -- Know the difference!\n",
    "\n",
    "Students often confuse these two, so pay attention.\n",
    "\n",
    "* Use `select` when you want a **new table** that contains only some of the columns from the original table.\n",
    "* Use `column` when you want to **extract the data** from a particular column of a table.\n",
    "\n",
    "Let's illustrate with our simple quiz scores table."
   ]
  },
  {
   "cell_type": "code",
   "execution_count": null,
   "metadata": {
    "tags": []
   },
   "outputs": [],
   "source": [
    "# Create the table\n",
    "quiz_scores = Table().with_columns(\n",
    "    \"Name\", [\"Lynda\", \"Jerome\", \"Ali\"],\n",
    "    \"Quiz 1\", make_array(8, 9, 10),\n",
    "    \"Quiz 2\", make_array(7, 8, 9)\n",
    ")\n",
    "quiz_scores"
   ]
  },
  {
   "cell_type": "code",
   "execution_count": null,
   "metadata": {
    "tags": []
   },
   "outputs": [],
   "source": [
    "# Select returns a new table with the just the selected columns.\n",
    "# The argument to select is a list of column names.\n",
    "quiz_scores.select([\"Name\", \"Quiz 1\"])"
   ]
  },
  {
   "cell_type": "code",
   "execution_count": null,
   "metadata": {
    "tags": []
   },
   "outputs": [],
   "source": [
    "# Column returns that data from a column in the table.\n",
    "quiz_scores.column(\"Quiz 1\")"
   ]
  },
  {
   "cell_type": "markdown",
   "metadata": {},
   "source": [
    "Make sure you understand the difference between `column` and `select`. You will use both of them a lot!"
   ]
  },
  {
   "cell_type": "markdown",
   "metadata": {},
   "source": [
    "<font color=blue> **Question 17.** </font><br />Use `select` to create a table with only the name, city, state, latitude ('y'), and longitude ('x') of each market.  Call that new table `farmers_markets_locations`."
   ]
  },
  {
   "cell_type": "code",
   "execution_count": null,
   "metadata": {},
   "outputs": [],
   "source": [
    "farmers_markets_locations = ...\n",
    "farmers_markets_locations"
   ]
  },
  {
   "cell_type": "code",
   "execution_count": null,
   "metadata": {},
   "outputs": [],
   "source": [
    "check('tests/q17.py')"
   ]
  },
  {
   "cell_type": "markdown",
   "metadata": {},
   "source": [
    "### `select` is not `column`!\n",
    "\n",
    "The method `select` is **definitely not** the same as the method `column`.\n",
    "\n",
    "`farmers_markets.column('y')` is an *array* of the latitudes of all the markets.  `farmers_markets.select('y')` is a *table* that happens to contain only one column, the latitudes of all the markets.\n",
    "\n",
    "<font color=blue> **Question 18.** </font><br />Below, we tried using the function `np.average` to find the average latitude ('y') and average longitude ('x') of the farmers' markets in the table, but we screwed something up.  Run the cell to see the (somewhat inscrutable) error message that results from calling `np.average` on a table.  Then, fix our code."
   ]
  },
  {
   "cell_type": "code",
   "execution_count": null,
   "metadata": {
    "for_assignment_type": "student"
   },
   "outputs": [],
   "source": [
    "average_latitude = np.average(farmers_markets.select('y'))\n",
    "average_longitude = np.average(farmers_markets.select('x'))\n",
    "print(\"The average of US farmers' markets' coordinates is located at (\", average_latitude, \",\", average_longitude, \")\")"
   ]
  },
  {
   "cell_type": "code",
   "execution_count": null,
   "metadata": {},
   "outputs": [],
   "source": [
    "check('tests/q18.py')"
   ]
  },
  {
   "cell_type": "markdown",
   "metadata": {},
   "source": [
    "### `drop`\n",
    "\n",
    "`drop` serves the same purpose as `select`, but it takes away the columns you list instead of the ones you don't list, leaving all the rest of the columns.\n",
    "\n",
    "<font color=blue> **Question 19.** </font><br />Suppose you just didn't want the \"Website\" or \"Location\" columns in `farmers_markets`.  Create a table that's a copy of `farmers_markets` but doesn't include those columns.  Call that table `farmers_markets_without_website`."
   ]
  },
  {
   "cell_type": "code",
   "execution_count": null,
   "metadata": {},
   "outputs": [],
   "source": [
    "farmers_markets_without_website = ...\n",
    "farmers_markets_without_website"
   ]
  },
  {
   "cell_type": "code",
   "execution_count": null,
   "metadata": {},
   "outputs": [],
   "source": [
    "check('tests/q19.py')"
   ]
  },
  {
   "cell_type": "markdown",
   "metadata": {},
   "source": [
    "#### `take`\n",
    "Let's find the five easternmost farmers' markets in the US.  You already know how to sort by longitude ('x'), but we haven't seen how to get the first five rows of a table.  That's what `take` is for.\n",
    "\n",
    "Table columns have names, but rows do not. Previously, when you used `column` you could use either the column name or the column number. With rows, you have to use the row numbers. The table method `take` takes as its argument an array of numbers.  Each number should be the index of a row in the table.  It returns a new table with only those rows. As always, the indexing in Python starts at zero.\n",
    "\n",
    "Let's see how `take` works by creating a simple table and selecting some of the rows."
   ]
  },
  {
   "cell_type": "code",
   "execution_count": null,
   "metadata": {
    "tags": []
   },
   "outputs": [],
   "source": [
    "# Create a table\n",
    "cookies = Table()\n",
    "cookies = cookies.with_columns(\n",
    "    \"Cookie\", make_array(\"Sugar cookies\", \"Chocolate chip\", \"Red velvet\", \"Oatmeal raisin\", \"Peanut butter\"),\n",
    "    \"Quantity\", make_array(10, 15, 15, 10, 5)\n",
    ")\n",
    "cookies"
   ]
  },
  {
   "cell_type": "code",
   "execution_count": null,
   "metadata": {
    "tags": []
   },
   "outputs": [],
   "source": [
    "# Use take() to get the Chocolate chip row\n",
    "# Rember: the first row is row zero\n",
    "cookies.take(1)"
   ]
  },
  {
   "cell_type": "markdown",
   "metadata": {},
   "source": [
    "Most often you'll want to use `take` in conjunction with `np.arange` to take the first few rows of a table."
   ]
  },
  {
   "cell_type": "code",
   "execution_count": null,
   "metadata": {
    "tags": []
   },
   "outputs": [],
   "source": [
    "# Generate numbers 0, 1, 2\n",
    "np.arange(3)"
   ]
  },
  {
   "cell_type": "code",
   "execution_count": null,
   "metadata": {
    "tags": []
   },
   "outputs": [],
   "source": [
    "# Use np.arange to \"take\" the first three rows\n",
    "cookies.take(np.arange(3))"
   ]
  },
  {
   "cell_type": "markdown",
   "metadata": {},
   "source": [
    "<font color=blue> **Question 20.** </font><br /> Make a table of the five easternmost farmers' markets in `farmers_markets_locations`.  Call it `eastern_markets`.  (It should include the same columns as `farmers_markets_locations`.\n",
    "\n",
    "*Hint* The easternmost markets with have the smallest longitude."
   ]
  },
  {
   "cell_type": "code",
   "execution_count": null,
   "metadata": {},
   "outputs": [],
   "source": [
    "eastern_markets = ...\n",
    "eastern_markets"
   ]
  },
  {
   "cell_type": "code",
   "execution_count": null,
   "metadata": {},
   "outputs": [],
   "source": [
    "check('tests/q20.py')"
   ]
  },
  {
   "cell_type": "markdown",
   "metadata": {},
   "source": [
    "<font color=blue> **Question 21.** </font><br />\n",
    "At the end of each lab, please include a reflection. \n",
    "* How did this lab go? \n",
    "* What aspects of Tables do you find confusing?\n",
    "* Were there questions you found especially challenging you would like your instructor to review in class? \n",
    "* How long did the lab take you to complete?\n",
    "\n",
    "Share your feedback so we can continue to improve this class!\n",
    "\n",
    "**Write your reflection on this lab in the markdow cell below Add as many lines as you wish.**"
   ]
  },
  {
   "cell_type": "markdown",
   "metadata": {},
   "source": [
    "..."
   ]
  },
  {
   "cell_type": "code",
   "execution_count": null,
   "metadata": {},
   "outputs": [],
   "source": [
    "# Save your notebook before running this test.\n",
    "check('tests/q21_open_ended.py')"
   ]
  },
  {
   "cell_type": "markdown",
   "metadata": {},
   "source": [
    "## 7. Summary\n",
    "\n",
    "For your reference, here's a table of all the functions and methods we saw in this lab.\n",
    "\n",
    "|Name|Example|Purpose|\n",
    "|-|-|-|\n",
    "|`Table`|`Table()`|Create an empty table, usually to extend with data|\n",
    "|`Table.read_table`|`Table.read_table(\"my_data.csv\")`|Create a table from a data file|\n",
    "|`with_columns`|`tbl = Table().with_columns(\"N\", np.arange(5), \"2*N\", np.arange(0, 10, 2))`|Create a copy of a table with more columns|\n",
    "|`column`|`tbl.column(\"N\")`|Create an array containing the elements of a column|\n",
    "|`sort`|`tbl.sort(\"N\")`|Create a copy of a table sorted by the values in a column|\n",
    "|`where`|`tbl.where(\"N\", are.above(2))`|Create a copy of a table with only the rows that match some *predicate*|\n",
    "|`num_rows`|`tbl.num_rows`|Compute the number of rows in a table|\n",
    "|`num_columns`|`tbl.num_columns`|Compute the number of columns in a table|\n",
    "|`select`|`tbl.select(\"N\")`|Create a copy of a table with only some of the columns|\n",
    "|`drop`|`tbl.drop(\"2*N\")`|Create a copy of a table without some of the columns|\n",
    "|`take`|`tbl.take(np.arange(0, 6, 2))`|Create a copy of the table with only the rows whose indices are in the given array|\n",
    "\n",
    "<br/>\n",
    "\n",
    "Congratulations, you're done with lab 3!  Be sure to \n",
    "- **run all the tests and verify that they all pass** (the next cell has a shortcut for that), \n",
    "- **Save and Export as, HTML** from the `File` menu,\n",
    "- **Right click on file name to download noteook** \n",
    "- **Upload and Submit your files to Canvas** under the corresponding assignment ."
   ]
  },
  {
   "cell_type": "code",
   "execution_count": null,
   "metadata": {
    "tags": []
   },
   "outputs": [],
   "source": [
    "import glob\n",
    "from gofer.ok import check\n",
    "\n",
    "for x in [\n",
    "    \"1\",\n",
    "    \"2\",\n",
    "    \"3\",\n",
    "    \"4\",\n",
    "    \"5\",\n",
    "    \"6\",\n",
    "    \"7\",\n",
    "    \"8\",\n",
    "    \"9\",\n",
    "    \"10\",\n",
    "    \"10_open_ended\",\n",
    "    \"11\",\n",
    "    \"12\",\n",
    "    \"12\",\n",
    "    \"13\",\n",
    "    \"14\",\n",
    "    \"15\",\n",
    "    \"16\",\n",
    "    \"17\",\n",
    "    \"18\",\n",
    "    \"19\",\n",
    "    \"20\",\n",
    "    \"21_open_ended\",\n",
    "]:\n",
    "    print(\"Testing question {}: \".format(x))\n",
    "    display(check(\"tests/q{}.py\".format(x)))"
   ]
  },
  {
   "cell_type": "code",
   "execution_count": null,
   "metadata": {},
   "outputs": [],
   "source": [
    "print(\"Nice work \",name, user)\n",
    "import time;\n",
    "localtime = time.asctime( time.localtime(time.time()) )\n",
    "print(\"Submitted @ \", localtime)"
   ]
  },
  {
   "cell_type": "code",
   "execution_count": null,
   "metadata": {},
   "outputs": [],
   "source": [
    "from datascience import Table\n",
    "\n",
    "# Create the data table\n",
    "phones = Table().with_columns(\n",
    "    'Student Name', ['Jada', 'Noah', 'Derrick', 'Eva', 'Aisha'],\n",
    "    'Model', ['iPhone', 'Samsung Galaxy', 'Google Pixel', 'iPhone', 'iPhone'],\n",
    "    'Screentime', [180, 375, 710, 508, 197],\n",
    "    'Data (MB/day)', [22, 10.4, 26, 57, 33.6],\n",
    "    'Cell phone provider', ['Verizon', 'AT&T', 'T-Mobile', 'Sprint', 'T-Mobile']\n",
    ")\n",
    "\n",
    "# Display the table\n",
    "phones"
   ]
  },
  {
   "cell_type": "code",
   "execution_count": null,
   "metadata": {},
   "outputs": [],
   "source": [
    "heavy_users = phones.where(\"Screentime\", are.above(500)).where(\"Data (MB/day)\", are.above(50))"
   ]
  },
  {
   "cell_type": "code",
   "execution_count": null,
   "metadata": {},
   "outputs": [],
   "source": [
    "heavy_users"
   ]
  },
  {
   "cell_type": "code",
   "execution_count": null,
   "metadata": {},
   "outputs": [],
   "source": []
  }
 ],
 "metadata": {
  "anaconda-cloud": {},
  "course": "8x",
  "kernelspec": {
   "display_name": "Python 3 (ipykernel)",
   "language": "python",
   "name": "python3"
  },
  "lab": "lab03",
  "language_info": {
   "codemirror_mode": {
    "name": "ipython",
    "version": 3
   },
   "file_extension": ".py",
   "mimetype": "text/x-python",
   "name": "python",
   "nbconvert_exporter": "python",
   "pygments_lexer": "ipython3",
   "version": "3.11.6"
  },
  "section": "1"
 },
 "nbformat": 4,
 "nbformat_minor": 4
}
