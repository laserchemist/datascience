{
 "cells": [
  {
   "cell_type": "markdown",
   "id": "ea87426b-4765-4ab8-ac21-03db4d805f23",
   "metadata": {},
   "source": [
    "# Lab 04 Functions and Visualization\n",
    "\n",
    "<i>Elements of Data Science</i><br><br>\n",
    "Welcome to lab 4!\n",
    "This week, we will focus on functions and visualization. <br>\n",
    "Visualizations is covered in [Chapter 7](https://inferentialthinking.com/chapters/07/Visualization.html) of the Inferential Thinking text. <br>\n",
    "Functions are described in [Chapter 8](https://inferentialthinking.com/chapters/08/Functions_and_Tables.html).\n",
    "<br>**<center>Learning Goals**\n",
    "|Area|Concept|\n",
    "|---|---|\n",
    "|Tables|Load and analyze data sets.|\n",
    "|Visualization|Basic line, scatter, and histogram plots|\n",
    "|Functions|Learn to define your own functions and apply them to arrays and Table columns|"
   ]
  },
  {
   "cell_type": "code",
   "execution_count": 1,
   "id": "63e2d978-2318-457f-b2e6-1f80957df083",
   "metadata": {},
   "outputs": [],
   "source": [
    "# Enter your name as a string\n",
    "name = ..."
   ]
  },
  {
   "cell_type": "code",
   "execution_count": 3,
   "id": "763afa74-1aef-4b50-b35c-ec0a9f2fbe4a",
   "metadata": {},
   "outputs": [],
   "source": [
    "# These lines load the tests/checks and commonly used modules\n",
    "# THIS TAKES A MINUTE...\n",
    "\n",
    "import glob\n",
    "import json\n",
    "import numpy as np\n",
    "import os\n",
    "from datascience import *  # Brings into Python the datascience Table object\n",
    "import matplotlib.pyplot as plt # Loads plotting module\n",
    "import matplotlib.dates as mdates # Module to handle dates on plots\n",
    "from matplotlib import ticker # Module for customizing axis tick marks\n",
    "plt.style.use('ggplot')\n",
    "%matplotlib inline\n",
    "\n",
    "from gofer.ok import check\n",
    "\n",
    "notebook = os.path.basename(globals()['__session__'])\n",
    "notebooks = glob.glob('*.ipynb')\n",
    "notebook = max(notebooks, key=os.path.getmtime)\n",
    "\n",
    "user = os.getenv('JUPYTERHUB_USER') # Get username"
   ]
  },
  {
   "cell_type": "markdown",
   "id": "ef18ffa9-2167-4e80-acf8-1908009d058e",
   "metadata": {},
   "source": [
    "## Part 1: A quick review of tables\n",
    "### Creating a data table\n",
    "We will begin by creating a simple data table. Most of the time, we will read the data from a file, but for this demonstration table we will create it from scratch using the `with_columns` method. Recall that a table is comprised of columns. Each column had a label (the column header) and an an associated array of data (string or numeric) and that all of the columns must be the same length."
   ]
  },
  {
   "cell_type": "code",
   "execution_count": 4,
   "id": "45eb2d2f-1e91-49fd-b5cc-c1022c746115",
   "metadata": {},
   "outputs": [
    {
     "data": {
      "text/html": [
       "<table border=\"1\" class=\"dataframe\">\n",
       "    <thead>\n",
       "        <tr>\n",
       "            <th>Animal</th> <th>Weight (kg)</th> <th>Height (cm)</th> <th>Lifespan (years)</th>\n",
       "        </tr>\n",
       "    </thead>\n",
       "    <tbody>\n",
       "        <tr>\n",
       "            <td>Elephant</td> <td>6000       </td> <td>300        </td> <td>70              </td>\n",
       "        </tr>\n",
       "        <tr>\n",
       "            <td>Giraffe </td> <td>1600       </td> <td>550        </td> <td>25              </td>\n",
       "        </tr>\n",
       "        <tr>\n",
       "            <td>Lion    </td> <td>200        </td> <td>120        </td> <td>15              </td>\n",
       "        </tr>\n",
       "        <tr>\n",
       "            <td>Tiger   </td> <td>300        </td> <td>100        </td> <td>20              </td>\n",
       "        </tr>\n",
       "        <tr>\n",
       "            <td>Zebra   </td> <td>350        </td> <td>140        </td> <td>25              </td>\n",
       "        </tr>\n",
       "    </tbody>\n",
       "</table>"
      ],
      "text/plain": [
       "Animal   | Weight (kg) | Height (cm) | Lifespan (years)\n",
       "Elephant | 6000        | 300         | 70\n",
       "Giraffe  | 1600        | 550         | 25\n",
       "Lion     | 200         | 120         | 15\n",
       "Tiger    | 300         | 100         | 20\n",
       "Zebra    | 350         | 140         | 25"
      ]
     },
     "execution_count": 4,
     "metadata": {},
     "output_type": "execute_result"
    }
   ],
   "source": [
    "# Define the data\n",
    "animal_data = Table().with_columns(\n",
    "    \"Animal\", [\"Elephant\", \"Giraffe\", \"Lion\", \"Tiger\", \"Zebra\"],\n",
    "    \"Weight (kg)\", [6000, 1600, 200, 300, 350],\n",
    "    \"Height (cm)\", [300, 550, 120, 100, 140],\n",
    "    \"Lifespan (years)\", [70, 25, 15, 20, 25]\n",
    ")\n",
    "animal_data"
   ]
  },
  {
   "cell_type": "markdown",
   "id": "4872035d-4141-4a5a-92ae-ebaad5143223",
   "metadata": {},
   "source": [
    "### Some common table methods\n",
    "\n",
    "|Method|Example|Result|\n",
    "|-|-|-|\n",
    "|show()|show(3)| Display the first 3 rows of a table|\n",
    "|drop()|drop[\"Height (cm)\"| Returns a new table without the \"Height (cm)\" column|\n",
    "|select()|select([\"Animal\", \"Weight(kg)\"])| Returns a new table with just the two columns specified|\n",
    "|column()|column(\"Lifespan (years)\")| Returns that data array from the specified column|\n",
    "\n",
    "All of these methods and more can be found in the [online data tables reference](https://www.data8.org/datascience/tables.html).\n",
    "\n",
    "A common point of confusion is `select` versus `column.`"
   ]
  },
  {
   "cell_type": "code",
   "execution_count": 5,
   "id": "bddf01e1-2d43-4535-a473-953fbd56510c",
   "metadata": {},
   "outputs": [
    {
     "data": {
      "text/html": [
       "<table border=\"1\" class=\"dataframe\">\n",
       "    <thead>\n",
       "        <tr>\n",
       "            <th>Lifespan (years)</th>\n",
       "        </tr>\n",
       "    </thead>\n",
       "    <tbody>\n",
       "        <tr>\n",
       "            <td>70              </td>\n",
       "        </tr>\n",
       "        <tr>\n",
       "            <td>25              </td>\n",
       "        </tr>\n",
       "        <tr>\n",
       "            <td>15              </td>\n",
       "        </tr>\n",
       "        <tr>\n",
       "            <td>20              </td>\n",
       "        </tr>\n",
       "        <tr>\n",
       "            <td>25              </td>\n",
       "        </tr>\n",
       "    </tbody>\n",
       "</table>"
      ],
      "text/plain": [
       "Lifespan (years)\n",
       "70\n",
       "25\n",
       "15\n",
       "20\n",
       "25"
      ]
     },
     "execution_count": 5,
     "metadata": {},
     "output_type": "execute_result"
    }
   ],
   "source": [
    "# Returns a table of the one or more selected columns\n",
    "animal_data.select(\"Lifespan (years)\")"
   ]
  },
  {
   "cell_type": "code",
   "execution_count": 6,
   "id": "0d81d915-ea81-49f8-a221-8ad38faae130",
   "metadata": {},
   "outputs": [
    {
     "data": {
      "text/plain": [
       "array([70, 25, 15, 20, 25])"
      ]
     },
     "execution_count": 6,
     "metadata": {},
     "output_type": "execute_result"
    }
   ],
   "source": [
    "# Returns the data array from the specified column\n",
    "animal_data.column(\"Lifespan (years)\")"
   ]
  },
  {
   "cell_type": "markdown",
   "id": "25f087eb-1d5f-4f0a-8ea0-f5cdfc901c77",
   "metadata": {},
   "source": [
    "<font color=blue> **Question 1. Extracting an array from a table** </font><br />\n",
    "Extract the array of animal weights from the data table."
   ]
  },
  {
   "cell_type": "code",
   "execution_count": 7,
   "id": "6d661636-1288-436f-ba7e-31b39556089c",
   "metadata": {},
   "outputs": [
    {
     "data": {
      "text/plain": [
       "Ellipsis"
      ]
     },
     "execution_count": 7,
     "metadata": {},
     "output_type": "execute_result"
    }
   ],
   "source": [
    "weights = ...\n",
    "weights"
   ]
  },
  {
   "cell_type": "code",
   "execution_count": 8,
   "id": "abce294c-b773-4750-821b-734c83b3d69a",
   "metadata": {},
   "outputs": [
    {
     "data": {
      "text/html": [
       "\n",
       "    \n",
       "    \n",
       "        <p>0 of 1 tests passed</p>\n",
       "        \n",
       "        \n",
       "        <p> <strong>Tests failed: </strong>\n",
       "            <ul>\n",
       "            \n",
       "                <li> \n",
       "    <p><strong style='color: red;'>tests/q1.py</strong></p>\n",
       "\n",
       "    <p><strong>Test code:</strong><pre><div class=\"highlight\" style=\"background: #f8f8f8\"><pre style=\"line-height: 125%;\"><span></span><span style=\"color: #000080; font-weight: bold\">&gt;&gt;&gt; </span><span style=\"color: #3D7B7B; font-style: italic\"># Did you use descending=False?</span>\n",
       "<span style=\"color: #000080; font-weight: bold\">&gt;&gt;&gt; </span>weights <span style=\"color: #666666\">==</span> make_array([<span style=\"color: #666666\">6000</span>, <span style=\"color: #666666\">1600</span>,  <span style=\"color: #666666\">200</span>,  <span style=\"color: #666666\">300</span>,  <span style=\"color: #666666\">350</span>])\n",
       "<span style=\"color: #717171\">array([[ True,  True,  True,  True,  True]], dtype=bool)</span>\n",
       "</pre></div>\n",
       "</pre></p>\n",
       "\n",
       "    <p><strong>Test result:</strong><pre>Trying:\n",
       "    weights == make_array([6000, 1600,  200,  300,  350])\n",
       "Expecting:\n",
       "    array([[ True,  True,  True,  True,  True]], dtype=bool)\n",
       "**********************************************************************\n",
       "Line 3, in tests/q1.py 0\n",
       "Failed example:\n",
       "    weights == make_array([6000, 1600,  200,  300,  350])\n",
       "Expected:\n",
       "    array([[ True,  True,  True,  True,  True]], dtype=bool)\n",
       "Got:\n",
       "    array([[False, False, False, False, False]], dtype=bool)\n",
       "</pre></p>\n",
       "     </li>\n",
       "            \n",
       "            </ul>\n",
       "        \n",
       "    \n",
       "    "
      ],
      "text/plain": [
       "<gofer.ok.OKTestsResult at 0x7f7bfa5c2b10>"
      ]
     },
     "execution_count": 8,
     "metadata": {},
     "output_type": "execute_result"
    }
   ],
   "source": [
    "check('tests/q1.py')"
   ]
  },
  {
   "cell_type": "markdown",
   "id": "3c99298b-dcbe-4251-8f55-961e6d0d7412",
   "metadata": {},
   "source": [
    "We often extract data a data column when we want to calculate some value from the data. For example, if we wanted to know the maximum weight."
   ]
  },
  {
   "cell_type": "code",
   "execution_count": 9,
   "id": "d6f94900-cce9-4861-9000-e4a9c3159602",
   "metadata": {},
   "outputs": [
    {
     "ename": "TypeError",
     "evalue": "'ellipsis' object is not iterable",
     "output_type": "error",
     "traceback": [
      "\u001b[0;31m---------------------------------------------------------------------------\u001b[0m",
      "\u001b[0;31mTypeError\u001b[0m                                 Traceback (most recent call last)",
      "Cell \u001b[0;32mIn[9], line 1\u001b[0m\n\u001b[0;32m----> 1\u001b[0m \u001b[38;5;28;43mmax\u001b[39;49m\u001b[43m(\u001b[49m\u001b[43mweights\u001b[49m\u001b[43m)\u001b[49m\n",
      "\u001b[0;31mTypeError\u001b[0m: 'ellipsis' object is not iterable"
     ]
    }
   ],
   "source": [
    "max(weights)"
   ]
  },
  {
   "cell_type": "markdown",
   "id": "aeecf031-1392-494c-912e-a3ce33e2a4e0",
   "metadata": {},
   "source": [
    "We often want to calculate basic statistics on data table, so there is a method for this. "
   ]
  },
  {
   "cell_type": "code",
   "execution_count": 10,
   "id": "76392d3c-3fa6-4120-a6a2-e9c1c0a708a1",
   "metadata": {},
   "outputs": [
    {
     "data": {
      "text/html": [
       "<table border=\"1\" class=\"dataframe\">\n",
       "    <thead>\n",
       "        <tr>\n",
       "            <th>statistic</th> <th>Animal</th> <th>Weight (kg)</th> <th>Height (cm)</th> <th>Lifespan (years)</th>\n",
       "        </tr>\n",
       "    </thead>\n",
       "    <tbody>\n",
       "        <tr>\n",
       "            <td>min      </td> <td>Elephant</td> <td>200        </td> <td>100        </td> <td>15              </td>\n",
       "        </tr>\n",
       "        <tr>\n",
       "            <td>max      </td> <td>Zebra   </td> <td>6000       </td> <td>550        </td> <td>70              </td>\n",
       "        </tr>\n",
       "        <tr>\n",
       "            <td>median   </td> <td>        </td> <td>350        </td> <td>140        </td> <td>25              </td>\n",
       "        </tr>\n",
       "        <tr>\n",
       "            <td>sum      </td> <td>        </td> <td>8450       </td> <td>1210       </td> <td>155             </td>\n",
       "        </tr>\n",
       "    </tbody>\n",
       "</table>"
      ],
      "text/plain": [
       "statistic | Animal   | Weight (kg) | Height (cm) | Lifespan (years)\n",
       "min       | Elephant | 200         | 100         | 15\n",
       "max       | Zebra    | 6000        | 550         | 70\n",
       "median    |          | 350         | 140         | 25\n",
       "sum       |          | 8450        | 1210        | 155"
      ]
     },
     "execution_count": 10,
     "metadata": {},
     "output_type": "execute_result"
    }
   ],
   "source": [
    "animal_data.stats()"
   ]
  },
  {
   "cell_type": "markdown",
   "id": "6ce7090c-2528-47a3-b875-2071d52d345f",
   "metadata": {},
   "source": [
    "The `stats()` method gives us the minimum, maximum, median, and sum for each column. For the column containing string data (animal names) the min and max and the first and last entries alphabetically, respectively. The median and sum have no meaning for string data, so they are blank.\n",
    "\n",
    "There are also method for finding the number of rows and columns in a table. These come in handy for large data tables."
   ]
  },
  {
   "cell_type": "code",
   "execution_count": 11,
   "id": "c72ed498-c485-47c7-8e9f-61fbdd00ff46",
   "metadata": {},
   "outputs": [
    {
     "data": {
      "text/plain": [
       "5"
      ]
     },
     "execution_count": 11,
     "metadata": {},
     "output_type": "execute_result"
    }
   ],
   "source": [
    "animal_data.num_rows"
   ]
  },
  {
   "cell_type": "code",
   "execution_count": 12,
   "id": "2254ada7-06a1-459b-8c65-65d87354206e",
   "metadata": {},
   "outputs": [
    {
     "data": {
      "text/plain": [
       "4"
      ]
     },
     "execution_count": 12,
     "metadata": {},
     "output_type": "execute_result"
    }
   ],
   "source": [
    "animal_data.num_columns"
   ]
  },
  {
   "cell_type": "markdown",
   "id": "221984a8-41ca-4bb3-bdc5-396d8e678ea3",
   "metadata": {},
   "source": [
    "Do you remember how to sort the table? Let's sort by Lifespan."
   ]
  },
  {
   "cell_type": "code",
   "execution_count": 13,
   "id": "2f4910d0-0342-4f69-a64c-db190a07a4a9",
   "metadata": {},
   "outputs": [
    {
     "data": {
      "text/html": [
       "<table border=\"1\" class=\"dataframe\">\n",
       "    <thead>\n",
       "        <tr>\n",
       "            <th>Animal</th> <th>Weight (kg)</th> <th>Height (cm)</th> <th>Lifespan (years)</th>\n",
       "        </tr>\n",
       "    </thead>\n",
       "    <tbody>\n",
       "        <tr>\n",
       "            <td>Lion    </td> <td>200        </td> <td>120        </td> <td>15              </td>\n",
       "        </tr>\n",
       "        <tr>\n",
       "            <td>Tiger   </td> <td>300        </td> <td>100        </td> <td>20              </td>\n",
       "        </tr>\n",
       "        <tr>\n",
       "            <td>Giraffe </td> <td>1600       </td> <td>550        </td> <td>25              </td>\n",
       "        </tr>\n",
       "        <tr>\n",
       "            <td>Zebra   </td> <td>350        </td> <td>140        </td> <td>25              </td>\n",
       "        </tr>\n",
       "        <tr>\n",
       "            <td>Elephant</td> <td>6000       </td> <td>300        </td> <td>70              </td>\n",
       "        </tr>\n",
       "    </tbody>\n",
       "</table>"
      ],
      "text/plain": [
       "Animal   | Weight (kg) | Height (cm) | Lifespan (years)\n",
       "Lion     | 200         | 120         | 15\n",
       "Tiger    | 300         | 100         | 20\n",
       "Giraffe  | 1600        | 550         | 25\n",
       "Zebra    | 350         | 140         | 25\n",
       "Elephant | 6000        | 300         | 70"
      ]
     },
     "execution_count": 13,
     "metadata": {},
     "output_type": "execute_result"
    }
   ],
   "source": [
    "animal_data.sort(\"Lifespan (years)\")"
   ]
  },
  {
   "cell_type": "markdown",
   "id": "0bb629b0-936e-4e75-b733-a525983c2d2f",
   "metadata": {},
   "source": [
    "<font color=blue> **Question 2. Sort Descending** </font><br />\n",
    "Sort the data by weight, but in ascending order from lightest to heaviest.<br>\n",
    "*Hint*: You need the `descending=False` option in your sort method."
   ]
  },
  {
   "cell_type": "code",
   "execution_count": 14,
   "id": "ea16b63f-6a70-4ac9-99db-dc7d044b30b8",
   "metadata": {},
   "outputs": [],
   "source": [
    "animal_data_heavy_to_light = ..."
   ]
  },
  {
   "cell_type": "code",
   "execution_count": 15,
   "id": "25eac46b-1148-4ce9-bbc3-d6cf3ea9579a",
   "metadata": {},
   "outputs": [
    {
     "data": {
      "text/html": [
       "\n",
       "    \n",
       "    \n",
       "        <p>0 of 1 tests passed</p>\n",
       "        \n",
       "        \n",
       "        <p> <strong>Tests failed: </strong>\n",
       "            <ul>\n",
       "            \n",
       "                <li> \n",
       "    <p><strong style='color: red;'>tests/q2.py</strong></p>\n",
       "\n",
       "    <p><strong>Test code:</strong><pre><div class=\"highlight\" style=\"background: #f8f8f8\"><pre style=\"line-height: 125%;\"><span></span><span style=\"color: #000080; font-weight: bold\">&gt;&gt;&gt; </span><span style=\"color: #3D7B7B; font-style: italic\"># Did you use .column()?</span>\n",
       "<span style=\"color: #000080; font-weight: bold\">&gt;&gt;&gt; </span>animal_data_heavy_to_light<span style=\"color: #666666\">.</span>column(<span style=\"color: #BA2121\">&quot;Weight (kg)&quot;</span>)[<span style=\"color: #666666\">0</span>] <span style=\"color: #666666\">==</span> <span style=\"color: #666666\">200</span>\n",
       "<span style=\"color: #717171\">True</span>\n",
       "</pre></div>\n",
       "</pre></p>\n",
       "\n",
       "    <p><strong>Test result:</strong><pre>Trying:\n",
       "    animal_data_heavy_to_light.column(\"Weight (kg)\")[0] == 200\n",
       "Expecting:\n",
       "    True\n",
       "**********************************************************************\n",
       "Line 3, in tests/q2.py 0\n",
       "Failed example:\n",
       "    animal_data_heavy_to_light.column(\"Weight (kg)\")[0] == 200\n",
       "Exception raised:\n",
       "    Traceback (most recent call last):\n",
       "      File \"/opt/conda/lib/python3.11/doctest.py\", line 1351, in __run\n",
       "        exec(compile(example.source, filename, \"single\",\n",
       "      File \"<doctest tests/q2.py 0[0]>\", line 1, in <module>\n",
       "        animal_data_heavy_to_light.column(\"Weight (kg)\")[0] == 200\n",
       "        ^^^^^^^^^^^^^^^^^^^^^^^^^^^^^^^^^\n",
       "    AttributeError: 'ellipsis' object has no attribute 'column'\n",
       "</pre></p>\n",
       "     </li>\n",
       "            \n",
       "            </ul>\n",
       "        \n",
       "    \n",
       "    "
      ],
      "text/plain": [
       "<gofer.ok.OKTestsResult at 0x7f7c2b6d4d50>"
      ]
     },
     "execution_count": 15,
     "metadata": {},
     "output_type": "execute_result"
    }
   ],
   "source": [
    "check('tests/q2.py')"
   ]
  },
  {
   "cell_type": "markdown",
   "id": "99704349-0f4b-4ee2-8c70-3d889fc52a1e",
   "metadata": {},
   "source": [
    "### Filtering a table\n",
    "Selecting just the rows of a table that match one or more conditions is a common task. Use the `where()` method in conjuction with the appropriage `predicate.`"
   ]
  },
  {
   "cell_type": "markdown",
   "id": "503bd1f2-e481-4b0f-887d-c28ed402c618",
   "metadata": {},
   "source": [
    "Here are some of the possible arguments for the <i>where</i> Table method:<br>\n",
    "\n",
    "|Predicate|Example|Result|\n",
    "|-|-|-|\n",
    "|`are.equal_to`|`are.equal_to(50)`|Find rows with values equal to 50|\n",
    "|`are.not_equal_to`|`are.not_equal_to(50)`|Find rows with values not equal to 50|\n",
    "|`are.above`|`are.above(50)`|Find rows with values above (and not equal to) 50|\n",
    "|`are.above_or_equal_to`|`are.above_or_equal_to(50)`|Find rows with values above 50 or equal to 50|\n",
    "|`are.below`|`are.below(50)`|Find rows with values below 50|\n",
    "|`are.between`|`are.between(2, 10)`|Find rows with values above or equal to 2 and below 10|\n",
    "\n",
    "For example, to return just the rows that have animals taller than 200 cm. We specify the column to filter on and the condition. We get back a new table with just the rows that match the condition."
   ]
  },
  {
   "cell_type": "code",
   "execution_count": 16,
   "id": "ac45e2c6-d5d3-4317-82b7-a6a22a647b6e",
   "metadata": {},
   "outputs": [
    {
     "data": {
      "text/html": [
       "<table border=\"1\" class=\"dataframe\">\n",
       "    <thead>\n",
       "        <tr>\n",
       "            <th>Animal</th> <th>Weight (kg)</th> <th>Height (cm)</th> <th>Lifespan (years)</th>\n",
       "        </tr>\n",
       "    </thead>\n",
       "    <tbody>\n",
       "        <tr>\n",
       "            <td>Elephant</td> <td>6000       </td> <td>300        </td> <td>70              </td>\n",
       "        </tr>\n",
       "        <tr>\n",
       "            <td>Giraffe </td> <td>1600       </td> <td>550        </td> <td>25              </td>\n",
       "        </tr>\n",
       "    </tbody>\n",
       "</table>"
      ],
      "text/plain": [
       "Animal   | Weight (kg) | Height (cm) | Lifespan (years)\n",
       "Elephant | 6000        | 300         | 70\n",
       "Giraffe  | 1600        | 550         | 25"
      ]
     },
     "execution_count": 16,
     "metadata": {},
     "output_type": "execute_result"
    }
   ],
   "source": [
    "animal_data.where(\"Height (cm)\", are.above(200))"
   ]
  },
  {
   "cell_type": "markdown",
   "id": "fdbb746c-9357-4523-a45e-1d94cbebf4b9",
   "metadata": {},
   "source": [
    "**What if we have more than one condition?** For example, if we want animals with height greater than 200 cm and weight less than 5000 kg? We can do this in two steps, creating in intermediate table."
   ]
  },
  {
   "cell_type": "code",
   "execution_count": 17,
   "id": "403d1dc6-8b7e-4b4c-ad87-04f5870c9780",
   "metadata": {},
   "outputs": [
    {
     "data": {
      "text/html": [
       "<table border=\"1\" class=\"dataframe\">\n",
       "    <thead>\n",
       "        <tr>\n",
       "            <th>Animal</th> <th>Weight (kg)</th> <th>Height (cm)</th> <th>Lifespan (years)</th>\n",
       "        </tr>\n",
       "    </thead>\n",
       "    <tbody>\n",
       "        <tr>\n",
       "            <td>Giraffe</td> <td>1600       </td> <td>550        </td> <td>25              </td>\n",
       "        </tr>\n",
       "    </tbody>\n",
       "</table>"
      ],
      "text/plain": [
       "Animal  | Weight (kg) | Height (cm) | Lifespan (years)\n",
       "Giraffe | 1600        | 550         | 25"
      ]
     },
     "execution_count": 17,
     "metadata": {},
     "output_type": "execute_result"
    }
   ],
   "source": [
    "tall_animals = animal_data.where(\"Height (cm)\", are.above(200))\n",
    "tall_not_heavy = tall_animals.where(\"Weight (kg)\", are.below(5000))\n",
    "tall_not_heavy"
   ]
  },
  {
   "cell_type": "markdown",
   "id": "0dc0ae66-124f-45c5-8c0e-35374857391c",
   "metadata": {},
   "source": [
    "Or we can \"chain\" the where commands together. The code below is equivalent, to the code above, but without creating the intermediate table. The where commands are executes sequentially from left to right."
   ]
  },
  {
   "cell_type": "code",
   "execution_count": 18,
   "id": "e24bb9f9-4c53-4508-8e44-a8789a32a9f9",
   "metadata": {},
   "outputs": [
    {
     "data": {
      "text/html": [
       "<table border=\"1\" class=\"dataframe\">\n",
       "    <thead>\n",
       "        <tr>\n",
       "            <th>Animal</th> <th>Weight (kg)</th> <th>Height (cm)</th> <th>Lifespan (years)</th>\n",
       "        </tr>\n",
       "    </thead>\n",
       "    <tbody>\n",
       "        <tr>\n",
       "            <td>Giraffe</td> <td>1600       </td> <td>550        </td> <td>25              </td>\n",
       "        </tr>\n",
       "    </tbody>\n",
       "</table>"
      ],
      "text/plain": [
       "Animal  | Weight (kg) | Height (cm) | Lifespan (years)\n",
       "Giraffe | 1600        | 550         | 25"
      ]
     },
     "execution_count": 18,
     "metadata": {},
     "output_type": "execute_result"
    }
   ],
   "source": [
    "animal_data.where(\"Height (cm)\", are.above(200)).where(\"Weight (kg)\", are.below(5000))"
   ]
  },
  {
   "cell_type": "markdown",
   "id": "d63f895c-28ec-4acb-9455-223d4cbc3099",
   "metadata": {},
   "source": [
    "Should you filter in steps or chain? Coding is steps is *always* easier to debug because you can inspect the results along the way. Once all of the steps are working, you can optionally rewrite the code as single chained statement for brevity if you wish."
   ]
  },
  {
   "cell_type": "markdown",
   "id": "3a6a6c78-4947-4c55-b9df-842d661c6ee7",
   "metadata": {},
   "source": [
    "<font color=blue> **Question 3. Filtering Practice** </font><br />\n",
    "Filter `animal_data` to return a table with just the rows for animals less than 1000 kg that with a life expectancy greater than or equal to 20 years. Add as many lines of code as you wish."
   ]
  },
  {
   "cell_type": "code",
   "execution_count": 19,
   "id": "b5fb2359-6006-463c-890d-5f423464b22b",
   "metadata": {},
   "outputs": [],
   "source": [
    "\n",
    "light_but_long_lived = ..."
   ]
  },
  {
   "cell_type": "code",
   "execution_count": 20,
   "id": "4f75bc09-fa08-4ea5-a030-b5417a84d844",
   "metadata": {},
   "outputs": [
    {
     "data": {
      "text/html": [
       "\n",
       "    \n",
       "    \n",
       "        <p>0 of 1 tests passed</p>\n",
       "        \n",
       "        \n",
       "        <p> <strong>Tests failed: </strong>\n",
       "            <ul>\n",
       "            \n",
       "                <li> \n",
       "    <p><strong style='color: red;'>tests/q3.py</strong></p>\n",
       "\n",
       "    <p><strong>Test code:</strong><pre><div class=\"highlight\" style=\"background: #f8f8f8\"><pre style=\"line-height: 125%;\"><span></span><span style=\"color: #000080; font-weight: bold\">&gt;&gt;&gt; </span><span style=\"color: #3D7B7B; font-style: italic\"># Chain of step-by-step doesn&#39;t matter. </span>\n",
       "<span style=\"color: #000080; font-weight: bold\">&gt;&gt;&gt; </span><span style=\"color: #3D7B7B; font-style: italic\"># The test only check the final result.</span>\n",
       "<span style=\"color: #000080; font-weight: bold\">&gt;&gt;&gt; </span>light_but_long_lived<span style=\"color: #666666\">.</span>column(<span style=\"color: #BA2121\">&quot;Animal&quot;</span>) <span style=\"color: #666666\">==</span> make_array([<span style=\"color: #BA2121\">&#39;Tiger&#39;</span>, <span style=\"color: #BA2121\">&#39;Zebra&#39;</span>])\n",
       "<span style=\"color: #717171\">array([[ True,  True]], dtype=bool)</span>\n",
       "</pre></div>\n",
       "</pre></p>\n",
       "\n",
       "    <p><strong>Test result:</strong><pre>Trying:\n",
       "    light_but_long_lived.column(\"Animal\") == make_array(['Tiger', 'Zebra'])\n",
       "Expecting:\n",
       "    array([[ True,  True]], dtype=bool)\n",
       "**********************************************************************\n",
       "Line 4, in tests/q3.py 0\n",
       "Failed example:\n",
       "    light_but_long_lived.column(\"Animal\") == make_array(['Tiger', 'Zebra'])\n",
       "Exception raised:\n",
       "    Traceback (most recent call last):\n",
       "      File \"/opt/conda/lib/python3.11/doctest.py\", line 1351, in __run\n",
       "        exec(compile(example.source, filename, \"single\",\n",
       "      File \"<doctest tests/q3.py 0[0]>\", line 1, in <module>\n",
       "        light_but_long_lived.column(\"Animal\") == make_array(['Tiger', 'Zebra'])\n",
       "        ^^^^^^^^^^^^^^^^^^^^^^^^^^^\n",
       "    AttributeError: 'ellipsis' object has no attribute 'column'\n",
       "</pre></p>\n",
       "     </li>\n",
       "            \n",
       "            </ul>\n",
       "        \n",
       "    \n",
       "    "
      ],
      "text/plain": [
       "<gofer.ok.OKTestsResult at 0x7f7bf93db850>"
      ]
     },
     "execution_count": 20,
     "metadata": {},
     "output_type": "execute_result"
    }
   ],
   "source": [
    "check('tests/q3.py')"
   ]
  },
  {
   "cell_type": "markdown",
   "id": "e356bd94-6489-47c0-940a-7899df650f0b",
   "metadata": {},
   "source": [
    "## Part 2: Plotting Data\n",
    "\n",
    "We often want to visualize our data, particularly when we have a data table with a large number of points. There are many data visualization packages available for Python, but in this course we will mainly stick with one of the oldest and best know: `matplotlib.` If you look back at the start of the lab where we import the module you will see a the line:\n",
    "\n",
    "import matplotlib.pyplot as plt\n",
    "\n",
    "We aliased the library as plt so that instead of typing `matplotlib.pyplot` can access the plotting commands with just the `plt.` prefix. \n",
    "\n",
    "The plotting commands in matplotlib expect array or lists of data, not tables so we have to extract the data arrays from the tables to make our plot. For example, let's make a scatter plot of animal height vs weight."
   ]
  },
  {
   "cell_type": "code",
   "execution_count": 21,
   "id": "0430b2ff-34b9-47c1-8075-b38bc8fa495f",
   "metadata": {},
   "outputs": [
    {
     "data": {
      "text/plain": [
       "<matplotlib.collections.PathCollection at 0x7f7bf93d7a10>"
      ]
     },
     "execution_count": 21,
     "metadata": {},
     "output_type": "execute_result"
    },
    {
     "data": {
      "image/png": "[encoded data removed]",
      "text/plain": [
       "<Figure size 640x480 with 1 Axes>"
      ]
     },
     "metadata": {},
     "output_type": "display_data"
    }
   ],
   "source": [
    "# Extract the data arrays\n",
    "height = animal_data.column(\"Height (cm)\")\n",
    "weight = animal_data.column(\"Weight (kg)\")\n",
    "\n",
    "# Make the plot\n",
    "plt.scatter(height, weight)"
   ]
  },
  {
   "cell_type": "markdown",
   "id": "3dd7b997-3eea-4ff4-96cc-42d9dd21e6f9",
   "metadata": {},
   "source": [
    "By default, matplotlib scales the axes to match the data ranges, and choose the symbol can color for you. All of this can be customized, and you can add axes labels, a graph title, and much more."
   ]
  },
  {
   "cell_type": "code",
   "execution_count": 22,
   "id": "f62390e0-eddc-4b8f-82da-e3b424df4516",
   "metadata": {},
   "outputs": [
    {
     "data": {
      "text/plain": [
       "Text(0.5, 1.0, 'Animal Weight vs. Height')"
      ]
     },
     "execution_count": 22,
     "metadata": {},
     "output_type": "execute_result"
    },
    {
     "data": {
      "image/png": "[encoded data removed]",
      "text/plain": [
       "<Figure size 640x480 with 1 Axes>"
      ]
     },
     "metadata": {},
     "output_type": "display_data"
    }
   ],
   "source": [
    "# Extract the data arrays\n",
    "height = animal_data.column(\"Height (cm)\")\n",
    "weight = animal_data.column(\"Weight (kg)\")\n",
    "\n",
    "# Change the color of the points\n",
    "plt.scatter(height, weight, color=\"blue\") \n",
    "\n",
    "# Label the axes\n",
    "plt.xlabel(\"Height (cm)\")\n",
    "plt.ylabel(\"Weight (kg)\")\n",
    "\n",
    "# Add a title\n",
    "plt.title(\"Animal Weight vs. Height\")"
   ]
  },
  {
   "cell_type": "markdown",
   "id": "3ccefecb-202f-4443-89ad-ed8ba6c93ae0",
   "metadata": {},
   "source": [
    "Scatter plots are not the only option. You can make a line plot, which connects the points. Line plots are useful for data showing a trend, but here connecting the points doesn't make much sense."
   ]
  },
  {
   "cell_type": "code",
   "execution_count": 23,
   "id": "7950c36a-433d-4a40-92cc-6ea5ecf3fc71",
   "metadata": {},
   "outputs": [
    {
     "data": {
      "text/plain": [
       "Text(0.5, 1.0, 'Connecting the dots makes no sense in this case')"
      ]
     },
     "execution_count": 23,
     "metadata": {},
     "output_type": "execute_result"
    },
    {
     "data": {
      "image/png": "[encoded data removed]",
      "text/plain": [
       "<Figure size 640x480 with 1 Axes>"
      ]
     },
     "metadata": {},
     "output_type": "display_data"
    }
   ],
   "source": [
    "# Extract the data arrays\n",
    "height = animal_data.column(\"Height (cm)\")\n",
    "weight = animal_data.column(\"Weight (kg)\")\n",
    "\n",
    "# Line plot\n",
    "plt.plot(height, weight)\n",
    "\n",
    "# Title\n",
    "plt.title(\"Connecting the dots makes no sense in this case\")"
   ]
  },
  {
   "cell_type": "markdown",
   "id": "d96490e2-40a2-4186-8259-b5c195abd414",
   "metadata": {},
   "source": [
    "Or you can make a bar chart, which is useful to plot numbers versus a category."
   ]
  },
  {
   "cell_type": "code",
   "execution_count": 24,
   "id": "00b1ff91-08b2-4948-83a6-7d692bc4cfb5",
   "metadata": {},
   "outputs": [
    {
     "data": {
      "text/plain": [
       "Text(0, 0.5, 'Weight (kg)')"
      ]
     },
     "execution_count": 24,
     "metadata": {},
     "output_type": "execute_result"
    },
    {
     "data": {
      "image/png": "[encoded data removed]",
      "text/plain": [
       "<Figure size 640x480 with 1 Axes>"
      ]
     },
     "metadata": {},
     "output_type": "display_data"
    }
   ],
   "source": [
    "# Extract the arrays\n",
    "animal = animal_data.column(\"Animal\")\n",
    "weight = animal_data.column(\"Weight (kg)\")\n",
    "\n",
    "# Bar chart\n",
    "plt.bar(animal, weight)\n",
    "\n",
    "# Label y-axis\n",
    "plt.ylabel(\"Weight (kg)\")"
   ]
  },
  {
   "cell_type": "markdown",
   "id": "afafdeec-b355-48f9-9a4d-3b891ce6d843",
   "metadata": {},
   "source": [
    "What if we wanted the bar chart to display the weights in order from lightest to heaviest? Then we would first sort the table before extracting the data columns."
   ]
  },
  {
   "cell_type": "code",
   "execution_count": 25,
   "id": "4c279f3a-688e-47ce-b4cf-f7c906e0b5bb",
   "metadata": {},
   "outputs": [
    {
     "data": {
      "text/plain": [
       "Text(0, 0.5, 'Weight (kg)')"
      ]
     },
     "execution_count": 25,
     "metadata": {},
     "output_type": "execute_result"
    },
    {
     "data": {
      "image/png": "[encoded data removed]",
      "text/plain": [
       "<Figure size 640x480 with 1 Axes>"
      ]
     },
     "metadata": {},
     "output_type": "display_data"
    }
   ],
   "source": [
    "# Sort the data\n",
    "animals_light2heavy = animal_data.sort(\"Weight (kg)\")\n",
    "\n",
    "# Extract the arrays\n",
    "animal = animals_light2heavy.column(\"Animal\")\n",
    "weight = animals_light2heavy.column(\"Weight (kg)\")\n",
    "\n",
    "# Bar chart\n",
    "plt.bar(animal, weight)\n",
    "\n",
    "# Label y-axis\n",
    "plt.ylabel(\"Weight (kg)\")"
   ]
  },
  {
   "cell_type": "markdown",
   "id": "cab452e3-5a08-4dad-acc1-983f31cdb707",
   "metadata": {},
   "source": [
    "### Table plot commands\n",
    "Because plotting table data is so common, there are plotting methods built into tables, but you should know that these convience methods are calling matplotlib behind the scenes. "
   ]
  },
  {
   "cell_type": "code",
   "execution_count": 26,
   "id": "1047ad8b-c976-4652-b030-2d33cc750d5f",
   "metadata": {},
   "outputs": [
    {
     "data": {
      "image/png": "[encoded data removed]",
      "text/plain": [
       "<Figure size 500x500 with 1 Axes>"
      ]
     },
     "metadata": {},
     "output_type": "display_data"
    }
   ],
   "source": [
    "# Using the table scatter() method, you just pass the column names\n",
    "animal_data.scatter(\"Height (cm)\", \"Weight (kg)\")"
   ]
  },
  {
   "cell_type": "markdown",
   "id": "8210d2b3-d56c-49df-a227-4848ae2cc03b",
   "metadata": {},
   "source": [
    "Notice that the `scatter` method for tables was smart enough to use the column labels to label the axes. "
   ]
  },
  {
   "cell_type": "code",
   "execution_count": 27,
   "id": "5e1eb9f0-5838-48de-87ff-2b60ede7102a",
   "metadata": {},
   "outputs": [
    {
     "data": {
      "image/png": "[encoded data removed]",
      "text/plain": [
       "<Figure size 600x400 with 1 Axes>"
      ]
     },
     "metadata": {},
     "output_type": "display_data"
    }
   ],
   "source": [
    "# This also works for bar charts\n",
    "animal_data.bar(\"Animal\", \"Weight (kg)\")"
   ]
  },
  {
   "cell_type": "markdown",
   "id": "23955cb7-7f82-402a-aaa4-65de3ad0d257",
   "metadata": {},
   "source": [
    "**Why not always use the convenience functions built into tables?** In a word -- flexibility. If you are happy with the defaults, you can use the table plotting functions, but somtimes to customize you need work directly with matplotlib. Matplotlib is also a logical choice if your data is not already in a data table.\n",
    "\n",
    "You will see many examples of both approaches in subsequent labs."
   ]
  },
  {
   "cell_type": "markdown",
   "id": "853a7433-b0d3-4d6c-ad13-c0155ff7af03",
   "metadata": {},
   "source": [
    "<font color=blue> **Question 4. Make your own plot** </font><br />\n",
    "Get creative. Make any type of plot you choose using `animal_data`. \n",
    "\n",
    "**Note:** There is no automatic check in this case."
   ]
  },
  {
   "cell_type": "code",
   "execution_count": null,
   "id": "25d32a89-fe9f-47c2-8f66-f3667c2120ac",
   "metadata": {},
   "outputs": [],
   "source": []
  },
  {
   "cell_type": "markdown",
   "id": "e7a213cc-aaa5-488f-b0ec-01040ba23742",
   "metadata": {},
   "source": [
    "## Part 3: Writing Functions\n",
    "\n",
    "Until now, you have just been using functions, starting way back in Lab01 when you learned to use the `print()` function. Now it is time to graduate from function user to function creator. You will continue to use functions, but you will also write your own! By breaking down complex problems into smaller, well-defined functions, you enhance code readability and make your code easier to understand, debug, and modify.\n",
    "\n",
    "Functions will seem complicated at first, but they actually follow a simple pattern. We will start with super-simple function and gradually add complexity to imprint this pattern into your Python DNA."
   ]
  },
  {
   "cell_type": "markdown",
   "id": "ec5c9ca5-505d-4f5c-9078-2245459cc34c",
   "metadata": {},
   "source": [
    "### Function 1: A super simple function. No parameters, no return value."
   ]
  },
  {
   "cell_type": "code",
   "execution_count": 28,
   "id": "3544b843-a562-4c59-8714-45f88c284421",
   "metadata": {},
   "outputs": [],
   "source": [
    "def print_one_dad_joke():\n",
    "    print(\"What did one plant say to the other? Aloe! Long thyme no see.\")"
   ]
  },
  {
   "cell_type": "markdown",
   "id": "7e2a932e-dcb9-4476-9f53-e5323451e218",
   "metadata": {},
   "source": [
    "- `def` is short for \"define.\" You have to define a function before you can use it\n",
    "- Then you give the function a name. Function names follow the same rules as Python variables. This function is named `print_one_dad_joke`.\n",
    "- Right after the function name you put any variables that will be passed to the function inside parenthesis. These are called the function's parameters, or arguments. This function has none, so the parentheses are empty: `()`. We'll come back to this later.\n",
    "- After the parentheses we put a colon to mark the start of the body of the function. This is where the function does its work.\n",
    "- All the lines that comprise the body of the function must be indented. When you stop indenting, Python knows you have finished defining your function. This function has only one line, a print statement.\n",
    "\n",
    "Now that the function has been defined, we can use it."
   ]
  },
  {
   "cell_type": "code",
   "execution_count": 29,
   "id": "738b9dea-b17e-4a25-badb-28c63d272dfc",
   "metadata": {},
   "outputs": [
    {
     "name": "stdout",
     "output_type": "stream",
     "text": [
      "What did one plant say to the other? Aloe! Long thyme no see.\n"
     ]
    }
   ],
   "source": [
    "print_one_dad_joke()"
   ]
  },
  {
   "cell_type": "markdown",
   "id": "a370dbc6-b8d1-4c3e-8baa-576e1774d62a",
   "metadata": {},
   "source": [
    "## Function 2: Add a function parameter.\n",
    "\n",
    "Our super simple function has no flexibility. Everytime you call it, it tells the same joke. (Hmmm. That is rather dad-like...)\n",
    "Let's add a paramter to the function to allow it to print whatever dad joke we pass it."
   ]
  },
  {
   "cell_type": "code",
   "execution_count": 30,
   "id": "c1b5e3c2-8b75-4a2a-a949-bd8490022707",
   "metadata": {},
   "outputs": [],
   "source": [
    "def print_any_dad_joke(joke):\n",
    "    print(\"Dad joke: \", joke)"
   ]
  },
  {
   "cell_type": "code",
   "execution_count": 31,
   "id": "3f5f66ac-1aa6-4da4-b325-c89b67f8acc2",
   "metadata": {},
   "outputs": [
    {
     "name": "stdout",
     "output_type": "stream",
     "text": [
      "Dad joke:  I only seem to get sick on weekdays. I must have a weekend immune system\n",
      "Dad joke:  What brand of underwear do do chemists wear? Kelvin Klein.\n"
     ]
    }
   ],
   "source": [
    "dad_joke1 = \"I only seem to get sick on weekdays. I must have a weekend immune system\"\n",
    "dad_joke2 = \"What brand of underwear do do chemists wear? Kelvin Klein.\"\n",
    "\n",
    "print_any_dad_joke(dad_joke1)\n",
    "print_any_dad_joke(dad_joke2)"
   ]
  },
  {
   "cell_type": "markdown",
   "id": "04a84ec1-9bf6-4493-bcb4-b95b3cf5dbb8",
   "metadata": {},
   "source": [
    "This new function takes one parameter, `joke`, and uses it in a print statement. Notice that the name of the variable you pass the function doesn't matter. Whatever you pass it will be renamed 'joke' inside the function. When we called the function with the statement `print_any_dad_joke(dad_joke1)` the variable `dad_joke1` was passed to the function where it became new variable `joke` that exists only inside the function. If the variable joke is changed inside the function, it doesn't after any of the variables outside of the function.\n",
    "\n",
    "Let's test this."
   ]
  },
  {
   "cell_type": "code",
   "execution_count": 32,
   "id": "43bcc657-651c-48a2-8beb-f1d5bc15625a",
   "metadata": {},
   "outputs": [
    {
     "name": "stdout",
     "output_type": "stream",
     "text": [
      "Dad joke:  How do cows stay up to date? They read the Moo-spaper.\n",
      "How do cows stay up to date? They read the Moo-spaper.\n"
     ]
    }
   ],
   "source": [
    "def print_any_dad_joke(joke):\n",
    "    print(\"Dad joke: \", joke)\n",
    "    joke = \"I hate my job—all I do is crush cans all day. It’s soda pressing.\"\n",
    "\n",
    "joke = \"How do cows stay up to date? They read the Moo-spaper.\"\n",
    "print_any_dad_joke(joke)\n",
    "print(joke)"
   ]
  },
  {
   "cell_type": "markdown",
   "id": "f7a8775d-3557-407e-b869-cb9dfaf400eb",
   "metadata": {},
   "source": [
    "In this version of the function, the variable joke was changed inside the function, but not outside of the function, so even after you run the function the variable `joke` contains the first joke. *This is actually very important.*  When you write a function for others to use, you have no idea what variables they might already have in their program; you don't want any variables you define in your function to accidentally change some value in their program. **What is happens in a function stays in a function.**\n",
    "\n",
    "What if you **want** to get something back from the function? Then you need to add a `return` statement."
   ]
  },
  {
   "cell_type": "markdown",
   "id": "b90199fe-0a91-4cd5-8b16-b6b0dec21c78",
   "metadata": {},
   "source": [
    "### Function 3: Return a value from a function.\n",
    "\n",
    "Let's write a function that accepts a dad joke (well actually, any string) and returns it in all capital letters."
   ]
  },
  {
   "cell_type": "code",
   "execution_count": 33,
   "id": "ee443cb6-ba06-4d7f-9bed-bb7558c066db",
   "metadata": {},
   "outputs": [],
   "source": [
    "def capitalize_dad_joke(joke):\n",
    "    return joke.upper()"
   ]
  },
  {
   "cell_type": "code",
   "execution_count": 34,
   "id": "d8c0ec8d-13ce-4bac-889e-f8d106bf3b74",
   "metadata": {},
   "outputs": [
    {
     "name": "stdout",
     "output_type": "stream",
     "text": [
      "WHERE DO PIRATES GET THEIR HOOKS? SECOND HAND STORES.\n"
     ]
    }
   ],
   "source": [
    "dad_joke = \"Where do pirates get their hooks? Second hand stores.\"\n",
    "\n",
    "joke = capitalize_dad_joke(dad_joke)\n",
    "print(joke)"
   ]
  },
  {
   "cell_type": "markdown",
   "id": "a3e80777-c4d4-461d-98bd-f18723fb885e",
   "metadata": {},
   "source": [
    "This function no longer prints the joke, it just return a capitalized verion. "
   ]
  },
  {
   "cell_type": "markdown",
   "id": "41575549-c7dd-404e-86b2-802be636620f",
   "metadata": {},
   "source": [
    "## Function 4: A function that takes more than one input parameter.\n",
    "Your function can be designed to accept more than one input parameter. Let's write a function that accepts two, yes two, dad jokes and returns the total number of characters in the two jokes combined."
   ]
  },
  {
   "cell_type": "code",
   "execution_count": 40,
   "id": "07c8a115-1915-4705-af99-fa8b56d7a9c9",
   "metadata": {},
   "outputs": [],
   "source": [
    "def total_joke_length(joke1, joke2):\n",
    "    length_joke1 = len(joke1)\n",
    "    length_joke2 = len(joke2)\n",
    "    return length_joke1 + length_joke2"
   ]
  },
  {
   "cell_type": "code",
   "execution_count": 41,
   "id": "6df2ce8d-ee4b-4b77-948c-4b4a28a4c810",
   "metadata": {},
   "outputs": [
    {
     "data": {
      "text/plain": [
       "151"
      ]
     },
     "execution_count": 41,
     "metadata": {},
     "output_type": "execute_result"
    }
   ],
   "source": [
    "dad_joke1 = \"What do you call a beehive without an exit? Unbelievable.\"\n",
    "dad_joke2 = \"Did you know that the first french fries weren’t cooked in France? They were cooked in Greece.\"\n",
    "\n",
    "total_joke_length(dad_joke1, dad_joke2)"
   ]
  },
  {
   "cell_type": "markdown",
   "id": "49e0aa5d-2ef2-4cb6-8894-a231a42a6393",
   "metadata": {},
   "source": [
    "There are a couple of things to notice here:\n",
    "- First, as mentioned before, the variables inside the function have the names given in the function definition, not the names passed to the function.\n",
    "- Second, we used the `return` statement to pass back total number of characters in the two jokes.\n",
    "- Third, these jokes are killing me!"
   ]
  },
  {
   "cell_type": "markdown",
   "id": "a69939ca-4103-4a90-a062-4ee684a713ae",
   "metadata": {},
   "source": [
    "### Function 4: A function can return more than one value\n",
    "Just as function can be defined to accept multiple input parameters, functions can return multiple output parameters. Let's modify this last function to return the length of the both jokes rather than the total."
   ]
  },
  {
   "cell_type": "code",
   "execution_count": 42,
   "id": "4b9b0f43-a2aa-4afe-bc42-b016acfab241",
   "metadata": {},
   "outputs": [],
   "source": [
    "def joke_length(joke1, joke2):\n",
    "    length_joke1 = len(joke1)\n",
    "    length_joke2 = len(joke2)\n",
    "    return length_joke1, length_joke2"
   ]
  },
  {
   "cell_type": "code",
   "execution_count": 43,
   "id": "83fcf1ac-94b9-43ca-b67b-4c58798f6833",
   "metadata": {},
   "outputs": [
    {
     "name": "stdout",
     "output_type": "stream",
     "text": [
      "Length of joke 1:  70\n",
      "Length of joke 2:  77\n"
     ]
    }
   ],
   "source": [
    "dad_joke1 = \"If prisoners could take their own mug shots…They’d be called cellfies.\"\n",
    "dad_joke2 = \"I just broke up with my mathematician girlfriend. She was obsessed with an X.\"\n",
    "\n",
    "length1, length2 = joke_length(dad_joke1, dad_joke2)\n",
    "print(\"Length of joke 1: \", length1)\n",
    "print(\"Length of joke 2: \", length2)"
   ]
  },
  {
   "cell_type": "markdown",
   "id": "9f7e7ec2-f570-4765-b026-813588231de7",
   "metadata": {},
   "source": [
    "The function returns two values, so when calling the function you can put two variable on the left of the `=` to receive the return values."
   ]
  },
  {
   "cell_type": "markdown",
   "id": "7361acd4-74a5-4f42-8a6e-715dc99e3e76",
   "metadata": {},
   "source": [
    "### Function 5: Keyword parameters\n",
    "Sometimes you want a function that has options. You want to give the user choices in how to use the function without having to write multiple versions of the same function. This can be accomplished using `keyword parameters.` These parameters have default values that will be used if the user doesn't change them.\n",
    "\n",
    "Let's write a function that takes a dad joke and returns the lenth of the joke, but gives the user the option of also printing the joke, or not."
   ]
  },
  {
   "cell_type": "code",
   "execution_count": 45,
   "id": "3a24ce70-a6aa-46ae-aa36-ad4a2885a42f",
   "metadata": {},
   "outputs": [],
   "source": [
    "def joke_length_with_optional_print(joke, print_joke=False):\n",
    "    if print_joke == True:\n",
    "        print(joke)\n",
    "    return len(joke)"
   ]
  },
  {
   "cell_type": "code",
   "execution_count": 46,
   "id": "55ff4ddf-e85a-4925-a18b-e93ee53cc05f",
   "metadata": {},
   "outputs": [
    {
     "data": {
      "text/plain": [
       "52"
      ]
     },
     "execution_count": 46,
     "metadata": {},
     "output_type": "execute_result"
    }
   ],
   "source": [
    "dad_joke = \"If a pig loses its voice…does it become disgruntled?\"\n",
    "joke_length_with_optional_print(dad_joke)"
   ]
  },
  {
   "cell_type": "markdown",
   "id": "93efed3e-6434-40d2-94bc-b72ed1898d98",
   "metadata": {},
   "source": [
    "We called the function without supplying the keyword parameter, so it used the default value of `False`, and did not print the joke. (You will learn about `if` statements and other conditionals in the next lab.)"
   ]
  },
  {
   "cell_type": "code",
   "execution_count": 47,
   "id": "cf340f21-d29e-4630-9a97-da391927d554",
   "metadata": {},
   "outputs": [
    {
     "name": "stdout",
     "output_type": "stream",
     "text": [
      "If a pig loses its voice…does it become disgruntled?\n"
     ]
    },
    {
     "data": {
      "text/plain": [
       "52"
      ]
     },
     "execution_count": 47,
     "metadata": {},
     "output_type": "execute_result"
    }
   ],
   "source": [
    "joke_length_with_optional_print(dad_joke, print_joke=True)"
   ]
  },
  {
   "cell_type": "markdown",
   "id": "99366f40-3df1-47ac-803d-f9419a8076ee",
   "metadata": {},
   "source": [
    "This time we changed the value of the keyword parameter to `True`, so the function printed the joke. You might recognise that you have used keyword parameters before, such as when you used the Table sort method with `descending=True`, which changed the default sort behavior for a table.\n",
    "\n",
    "**Important point: In Python functions, keyword parameters must come after regular parameters**, so in `joke_length_with_optional_print(joke, print_joke=False):` joke came before print_joke. This is true both when defining and when calling the function."
   ]
  },
  {
   "cell_type": "markdown",
   "id": "8ddc4452-267e-497e-b9e7-b14e0da94fac",
   "metadata": {},
   "source": [
    "### Putting it all together\n",
    "Let us, however reluctantly, leave the world of dad jokes, and write a function that illustrates many of these concepts in mathmatical context.\n",
    "\n",
    "Write a function that:\n",
    "- Plots a polynomial $ y = ax^2 + bx + c $\n",
    "- Input parameters are the coefficients a, b, and c.\n",
    "- Optional input parameters are the starting x and ending x value (two keyword parameters with default values specified)"
   ]
  },
  {
   "cell_type": "code",
   "execution_count": 48,
   "id": "cc306db8-8b3d-4a4e-bc6a-cb5d056932ef",
   "metadata": {},
   "outputs": [],
   "source": [
    "def poly_wants_a_nomial(a, b, c, xlo=-10, xhi=10):\n",
    "    \"\"\"Plot a polynomial\"\"\"\n",
    "    x = np.arange(xlo, xhi, 0.5)\n",
    "    y = a * x**2 + b * x + c\n",
    "    plt.plot(x, y, '-*')\n",
    "    return y"
   ]
  },
  {
   "cell_type": "code",
   "execution_count": 4,
   "id": "7704083a-14ba-4ade-89b5-4a98b3c1b8f9",
   "metadata": {},
   "outputs": [
    {
     "ename": "NameError",
     "evalue": "name 'poly_wants_a_nomial' is not defined",
     "output_type": "error",
     "traceback": [
      "\u001b[0;31m---------------------------------------------------------------------------\u001b[0m",
      "\u001b[0;31mNameError\u001b[0m                                 Traceback (most recent call last)",
      "Cell \u001b[0;32mIn[4], line 2\u001b[0m\n\u001b[1;32m      1\u001b[0m \u001b[38;5;66;03m# Call the function accepting the default values for the keyword parameters\u001b[39;00m\n\u001b[0;32m----> 2\u001b[0m y \u001b[38;5;241m=\u001b[39m \u001b[43mpoly_wants_a_nomial\u001b[49m(\u001b[38;5;241m2\u001b[39m, \u001b[38;5;241m10\u001b[39m, \u001b[38;5;241m3\u001b[39m)\n",
      "\u001b[0;31mNameError\u001b[0m: name 'poly_wants_a_nomial' is not defined"
     ]
    }
   ],
   "source": [
    "# Call the function accepting the default values for the keyword parameters\n",
    "y = poly_wants_a_nomial(2, 10, 3)"
   ]
  },
  {
   "cell_type": "code",
   "execution_count": 50,
   "id": "3bba1a00-f615-40c9-bd49-03ad5da33ba6",
   "metadata": {},
   "outputs": [
    {
     "data": {
      "image/png": "[encoded data removed]",
      "text/plain": [
       "<Figure size 640x480 with 1 Axes>"
      ]
     },
     "metadata": {},
     "output_type": "display_data"
    }
   ],
   "source": [
    "y = poly_wants_a_nomial(2, 10, 3, xlo=-15)"
   ]
  },
  {
   "cell_type": "code",
   "execution_count": 51,
   "id": "2a27dbfa-10ed-4def-9d66-c1722ea21bf1",
   "metadata": {},
   "outputs": [
    {
     "data": {
      "image/png": "[encoded data removed]",
      "text/plain": [
       "<Figure size 640x480 with 1 Axes>"
      ]
     },
     "metadata": {},
     "output_type": "display_data"
    }
   ],
   "source": [
    "# Call the function overriding the default values for xlo and xhi\n",
    "y = poly_wants_a_nomial(2, 10, 3, xlo=-15, xhi=20)"
   ]
  },
  {
   "cell_type": "markdown",
   "id": "666fd7b8-5de5-4bb4-a663-7dd89ce8edad",
   "metadata": {},
   "source": [
    "### Function Summary\n",
    "\n",
    "##### `def`\n",
    "A function definition always starts with `def` (short for **def**ine):\n",
    "\n",
    "    def\n",
    "\n",
    "##### Name\n",
    "Next comes the name of the function.\n",
    "    \n",
    "    poly_wants_a_nomial\n",
    "\n",
    "##### Signature\n",
    "Next comes something called the *signature* of the function.  This tells Python how many arguments your function should have, and what names you'll use to refer to those arguments in the function's code.  `poly_wants_a_nomial` takes three regualar arguments, the polynomial coefficients, and two keyword arguments, the lower and upper x-axis limits for the plot. \n",
    "\n",
    "We put a colon after the signature to tell Python it's over.\n",
    "\n",
    "    def poly_wants_a_nomial(a, b, c, xlo=-10, xhi=10):\n",
    "\n",
    "##### Documentation\n",
    "Functions can do complicated things, so you should write an explanation of what your function does.  For small functions, this is less important, but it's a good habit to learn from the start.  Conventionally, Python functions are documented by writing a triple-quoted string:\n",
    "\n",
    "    def poly_wants_a_nomial(a, b, c, xlo=-10, xhi=10):\n",
    "        \"\"\"Plot a polynomial\"\"\"\n",
    "    \n",
    "    \n",
    "##### Body\n",
    "Now we start writing code that runs when the function is called.  This is called the *body* of the function.  We can write anything we could write anywhere else. Note that all of the lines of code in the body of the function must be indented by the same amount, typically four spaces. Python knows it has reached the end of the function when the indentation stops.\n",
    "\n",
    "    def poly_wants_a_nomial(a, b, c, xlo=-10, xhi=10):\n",
    "        x = np.arange(xlo, xhi, 0.5)\n",
    "        y = a * x**2 + b * x + c\n",
    "        plt.plot(x, y, '-*')\n",
    "        return y\n",
    "\n",
    "##### `return`\n",
    "The special instruction `return` in a function's body tells Python to make the value of the function call equal to whatever comes right after `return`. The function will *return* that value to the main body of the code. We want the values of y\n",
    "\n",
    "    def poly_wants_a_nomial(a, b, c, xlo=-10, xhi=10):\n",
    "        x = np.arange(xlo, xhi, 0.5)\n",
    "        y = a * x**2 + b * x + c\n",
    "        plt.plot(x, y, '-*')\n",
    "        return y\n"
   ]
  },
  {
   "cell_type": "markdown",
   "id": "f3377394-e6b4-4f3c-9ea6-e6079a8cf85e",
   "metadata": {},
   "source": [
    "**Whew!** That was a lot to learn. Now it time to test your knowledge by writing a couple of functions."
   ]
  },
  {
   "cell_type": "markdown",
   "id": "06251f6d-7fc9-4e92-b71a-6c613bab36f6",
   "metadata": {},
   "source": [
    "<font color=blue> **Question 5. Write a function that returns the sum of two numbers** </font><br />"
   ]
  },
  {
   "cell_type": "code",
   "execution_count": null,
   "id": "a2d98d5f-a367-408e-b717-267eb0f40dfd",
   "metadata": {},
   "outputs": [],
   "source": [
    "def sum_two_numbers(x, y):\n",
    "    \"\"\" Sums x and y \"\"\"\n",
    "    return ..."
   ]
  },
  {
   "cell_type": "code",
   "execution_count": 3,
   "id": "d6bb7a9d-5513-4629-8e4c-25a139967b5f",
   "metadata": {},
   "outputs": [],
   "source": [
    "# Test the function yourself before running the check below\n",
    "..."
   ]
  },
  {
   "cell_type": "code",
   "execution_count": 61,
   "id": "25d84ba7-7894-4548-92e0-9d52cb606ba8",
   "metadata": {},
   "outputs": [
    {
     "data": {
      "text/html": [
       "\n",
       "    \n",
       "    \n",
       "        <p>All tests passed!</p>\n",
       "    \n",
       "    "
      ],
      "text/plain": [
       "<gofer.ok.OKTestsResult at 0x7f7bf0ec0e50>"
      ]
     },
     "execution_count": 61,
     "metadata": {},
     "output_type": "execute_result"
    }
   ],
   "source": [
    "check('tests/q5.py')"
   ]
  },
  {
   "cell_type": "markdown",
   "id": "5ff6842c-ddba-4183-8a25-1b8d57789594",
   "metadata": {},
   "source": [
    "### Converting Celcius to Farenheit\n",
    "In Celcius, water freezes at 0 degrees and boils at 100.<br>\n",
    "In Fahrenheit, water freezes at 32 degrees and boils at 212.<br>\n",
    "Therefore, one degree in Celcius is equal to 1.8 degrees in Fahrenheit: (212 - 32) / (100 - 0).<br>\n",
    "So to convert temperature in Celcius to Fahrenheit, we multiply by 1.8 and add 32 to adjust the freezing point.\n",
    "\n",
    "$$ T_F = 1.8 * T_C + 32 $$\n",
    "\n",
    "For example, normal body temperature in Celcius is around 37, in Farenheit it is 37 * 1.8 + 32 = 98.6"
   ]
  },
  {
   "cell_type": "markdown",
   "id": "9a1ac0a4-878d-486a-8d97-4a955898a03e",
   "metadata": {},
   "source": [
    "<font color=blue> **Question 6. Write a function that converts from Celcius to Farenheit**</font><br />\n",
    "Include a docstring describing what the function does. Test your function before running the check.<br>\n",
    "*Hint:* Your function should have one input parameter and return one output."
   ]
  },
  {
   "cell_type": "code",
   "execution_count": null,
   "id": "bdc15c85-118d-42bc-9b1b-97bbad881f37",
   "metadata": {},
   "outputs": [],
   "source": [
    "def celcius_to_farenheit(...):\n",
    "    \"...\"\n",
    "    return ..."
   ]
  },
  {
   "cell_type": "code",
   "execution_count": 5,
   "id": "7799cc66-218c-483c-bd2e-b9e261f677b6",
   "metadata": {},
   "outputs": [],
   "source": [
    "def celcius_to_farenheit(T):\n",
    "    \"...\"\n",
    "    return T * 1.8 + 32"
   ]
  },
  {
   "cell_type": "code",
   "execution_count": 67,
   "id": "1c508e4a-f61f-46f9-ae94-33e865407e13",
   "metadata": {},
   "outputs": [
    {
     "data": {
      "text/plain": [
       "32.0"
      ]
     },
     "execution_count": 67,
     "metadata": {},
     "output_type": "execute_result"
    }
   ],
   "source": [
    "# Test your function\n",
    "celcius_to_farenheit(0)"
   ]
  },
  {
   "cell_type": "code",
   "execution_count": 6,
   "id": "b13c6860-6271-4c9a-a209-6d767ffc586e",
   "metadata": {},
   "outputs": [
    {
     "data": {
      "text/html": [
       "\n",
       "    \n",
       "    \n",
       "        <p>All tests passed!</p>\n",
       "    \n",
       "    "
      ],
      "text/plain": [
       "<gofer.ok.OKTestsResult at 0x7938941c1350>"
      ]
     },
     "execution_count": 6,
     "metadata": {},
     "output_type": "execute_result"
    }
   ],
   "source": [
    "check('tests/q6.py')"
   ]
  },
  {
   "cell_type": "markdown",
   "id": "e3dceacc-e669-4805-b35f-5e686e8754eb",
   "metadata": {},
   "source": [
    "### A cool feature!\n",
    "Your same function will work if you pass in a single temperature value or an array of temperature values. If you pass in an array of temperatures in Celcius, the function will convert them all and return an array of temperatures in Farenheit."
   ]
  },
  {
   "cell_type": "code",
   "execution_count": 4,
   "id": "efa544db-836f-48f0-9650-8cda7d9d2d27",
   "metadata": {},
   "outputs": [
    {
     "data": {
      "text/plain": [
       "array([  0,   1,   2,   3,   4,   5,   6,   7,   8,   9,  10,  11,  12,\n",
       "        13,  14,  15,  16,  17,  18,  19,  20,  21,  22,  23,  24,  25,\n",
       "        26,  27,  28,  29,  30,  31,  32,  33,  34,  35,  36,  37,  38,\n",
       "        39,  40,  41,  42,  43,  44,  45,  46,  47,  48,  49,  50,  51,\n",
       "        52,  53,  54,  55,  56,  57,  58,  59,  60,  61,  62,  63,  64,\n",
       "        65,  66,  67,  68,  69,  70,  71,  72,  73,  74,  75,  76,  77,\n",
       "        78,  79,  80,  81,  82,  83,  84,  85,  86,  87,  88,  89,  90,\n",
       "        91,  92,  93,  94,  95,  96,  97,  98,  99, 100])"
      ]
     },
     "execution_count": 4,
     "metadata": {},
     "output_type": "execute_result"
    }
   ],
   "source": [
    "# Generate temperatures from zero to 100 in steps of one degree\n",
    "# Recall how np.arange works: np.arange(start, stop, step_size)\n",
    "# and that np.arange goes up to, but does not include the stop value, hence we use 101\n",
    "\n",
    "# Generate temperatures from freezing of water to boiling\n",
    "temperature_C = np.arange(0, 101, 1)\n",
    "temperature_C"
   ]
  },
  {
   "cell_type": "code",
   "execution_count": 7,
   "id": "e5e582cf-f350-4d68-afc0-c9b3eaa76eb5",
   "metadata": {},
   "outputs": [
    {
     "data": {
      "text/plain": [
       "array([  32. ,   33.8,   35.6,   37.4,   39.2,   41. ,   42.8,   44.6,\n",
       "         46.4,   48.2,   50. ,   51.8,   53.6,   55.4,   57.2,   59. ,\n",
       "         60.8,   62.6,   64.4,   66.2,   68. ,   69.8,   71.6,   73.4,\n",
       "         75.2,   77. ,   78.8,   80.6,   82.4,   84.2,   86. ,   87.8,\n",
       "         89.6,   91.4,   93.2,   95. ,   96.8,   98.6,  100.4,  102.2,\n",
       "        104. ,  105.8,  107.6,  109.4,  111.2,  113. ,  114.8,  116.6,\n",
       "        118.4,  120.2,  122. ,  123.8,  125.6,  127.4,  129.2,  131. ,\n",
       "        132.8,  134.6,  136.4,  138.2,  140. ,  141.8,  143.6,  145.4,\n",
       "        147.2,  149. ,  150.8,  152.6,  154.4,  156.2,  158. ,  159.8,\n",
       "        161.6,  163.4,  165.2,  167. ,  168.8,  170.6,  172.4,  174.2,\n",
       "        176. ,  177.8,  179.6,  181.4,  183.2,  185. ,  186.8,  188.6,\n",
       "        190.4,  192.2,  194. ,  195.8,  197.6,  199.4,  201.2,  203. ,\n",
       "        204.8,  206.6,  208.4,  210.2,  212. ])"
      ]
     },
     "execution_count": 7,
     "metadata": {},
     "output_type": "execute_result"
    }
   ],
   "source": [
    "# Call your function passing in an array\n",
    "temperature_F = celcius_to_farenheit(temperature_C)\n",
    "temperature_F"
   ]
  },
  {
   "cell_type": "markdown",
   "id": "4ce94692-90cb-4981-8d4b-d3b770f67770",
   "metadata": {},
   "source": [
    "<font color=blue> **Question 7. Plot Farenheit vs Celcius**</font><br />\n",
    "Create a scatter plot or a line plot with temperature in Celcius on the x-axis and temperature in Farenheit on the y-axis. Label the axes. Use the previous matplotlib examples as guidance."
   ]
  },
  {
   "cell_type": "code",
   "execution_count": null,
   "id": "11009eea-3194-449c-804f-bfce7de917fd",
   "metadata": {},
   "outputs": [],
   "source": []
  },
  {
   "cell_type": "markdown",
   "id": "33dabb0e-7f64-4cb4-9d5c-221532257dce",
   "metadata": {},
   "source": [
    "## Putting it all together\n",
    "Up to this point in the lab, you have been working with simple data examples. Let's test your knowledge by working with some real scientific data. What better data table than the periodic table of the elements!<br>\n",
    "Data source: https://gist.github.com/speters33w/e5b1246d6859f29c4f02a299714d4c20#file-periodic-table-of-elements-csv"
   ]
  },
  {
   "cell_type": "code",
   "execution_count": 14,
   "id": "8c0c304f-025e-42f2-8ac2-8cda1e1e5e1f",
   "metadata": {},
   "outputs": [
    {
     "data": {
      "text/html": [
       "<table border=\"1\" class=\"dataframe\">\n",
       "    <thead>\n",
       "        <tr>\n",
       "            <th>AtomicNumber</th> <th>Element</th> <th>Symbol</th> <th>AtomicMass</th> <th>NumberOfNeutrons</th> <th>NumberOfProtons</th> <th>NumberOfElectrons</th> <th>Period</th> <th>Group</th> <th>Phase</th> <th>Radioactive</th> <th>Natural</th> <th>Metal</th> <th>Nonmetal</th> <th>Metalloid</th> <th>Type</th> <th>AtomicRadius</th> <th>Electronegativity</th> <th>ionizationEnergy</th> <th>Density</th> <th>MeltingPoint</th> <th>BoilingPoint</th> <th>stableIsotopes</th> <th>Discoverer</th> <th>Year</th> <th>SpecificHeat</th> <th>NumberOfShells</th> <th>NumberOfValence</th>\n",
       "        </tr>\n",
       "    </thead>\n",
       "    <tbody>\n",
       "        <tr>\n",
       "            <td>1           </td> <td>Hydrogen</td> <td>H     </td> <td>1.008     </td> <td>0               </td> <td>1              </td> <td>1                </td> <td>1     </td> <td>1    </td> <td>Gas  </td> <td>nan        </td> <td>yes    </td> <td>nan  </td> <td>yes     </td> <td>nan      </td> <td>Non-Metal   </td> <td>120         </td> <td>2.2              </td> <td>13.5984         </td> <td>9e-05   </td> <td>13.81       </td> <td>20.28       </td> <td>2             </td> <td>Henry Cavendish                                             </td> <td>1766</td> <td>14.304      </td> <td>1             </td> <td>1              </td>\n",
       "        </tr>\n",
       "        <tr>\n",
       "            <td>2           </td> <td>Helium  </td> <td>He    </td> <td>4.003     </td> <td>2               </td> <td>2              </td> <td>2                </td> <td>1     </td> <td>18   </td> <td>Gas  </td> <td>nan        </td> <td>yes    </td> <td>nan  </td> <td>yes     </td> <td>nan      </td> <td>Noble Gas   </td> <td>140         </td> <td>nan              </td> <td>24.5874         </td> <td>0.000179</td> <td>0.95        </td> <td>4.22        </td> <td>2             </td> <td>Pierre Janssen - Norman Lockyer and Edward Frankland        </td> <td>1868</td> <td>5.193       </td> <td>1             </td> <td>2              </td>\n",
       "        </tr>\n",
       "        <tr>\n",
       "            <td>3           </td> <td>Lithium </td> <td>Li    </td> <td>7         </td> <td>4               </td> <td>3              </td> <td>3                </td> <td>2     </td> <td>1    </td> <td>Solid</td> <td>nan        </td> <td>yes    </td> <td>yes  </td> <td>nan     </td> <td>nan      </td> <td>Alkali Metal</td> <td>182         </td> <td>0.98             </td> <td>5.3917          </td> <td>0.534   </td> <td>453.65      </td> <td>1615        </td> <td>2             </td> <td>Johan August Arfvedson - isolated Robert Bunsen and Augu ...</td> <td>1817</td> <td>3.582       </td> <td>2             </td> <td>1              </td>\n",
       "        </tr>\n",
       "    </tbody>\n",
       "</table>\n",
       "<p>... (115 rows omitted)</p>"
      ],
      "text/plain": [
       "<IPython.core.display.HTML object>"
      ]
     },
     "metadata": {},
     "output_type": "display_data"
    }
   ],
   "source": [
    "# Read the table from a CSV file\n",
    "periodic_table = Table.read_table(\"data/Periodic Table of Elements.csv\")\n",
    "\n",
    "# Show the first three rows\n",
    "periodic_table.show(3)"
   ]
  },
  {
   "cell_type": "code",
   "execution_count": 16,
   "id": "314f2ae2-5e65-4517-95d2-aa16256d2016",
   "metadata": {},
   "outputs": [
    {
     "data": {
      "text/plain": [
       "118"
      ]
     },
     "execution_count": 16,
     "metadata": {},
     "output_type": "execute_result"
    }
   ],
   "source": [
    "# How many rows are in the table?\n",
    "periodic_table.num_rows"
   ]
  },
  {
   "cell_type": "code",
   "execution_count": 18,
   "id": "13a063ec-df86-4783-abec-75259bd37ee3",
   "metadata": {},
   "outputs": [
    {
     "data": {
      "text/plain": [
       "28"
      ]
     },
     "execution_count": 18,
     "metadata": {},
     "output_type": "execute_result"
    }
   ],
   "source": [
    "# How many columns?\n",
    "periodic_table.num_columns"
   ]
  },
  {
   "cell_type": "code",
   "execution_count": 19,
   "id": "0a0d238a-a4aa-4f0f-ab6f-633b891ab943",
   "metadata": {},
   "outputs": [
    {
     "data": {
      "text/plain": [
       "('AtomicNumber',\n",
       " 'Element',\n",
       " 'Symbol',\n",
       " 'AtomicMass',\n",
       " 'NumberOfNeutrons',\n",
       " 'NumberOfProtons',\n",
       " 'NumberOfElectrons',\n",
       " 'Period',\n",
       " 'Group',\n",
       " 'Phase',\n",
       " 'Radioactive',\n",
       " 'Natural',\n",
       " 'Metal',\n",
       " 'Nonmetal',\n",
       " 'Metalloid',\n",
       " 'Type',\n",
       " 'AtomicRadius',\n",
       " 'Electronegativity',\n",
       " 'ionizationEnergy',\n",
       " 'Density',\n",
       " 'MeltingPoint',\n",
       " 'BoilingPoint',\n",
       " 'stableIsotopes',\n",
       " 'Discoverer',\n",
       " 'Year',\n",
       " 'SpecificHeat',\n",
       " 'NumberOfShells',\n",
       " 'NumberOfValence')"
      ]
     },
     "execution_count": 19,
     "metadata": {},
     "output_type": "execute_result"
    }
   ],
   "source": [
    "# What are the column labels?\n",
    "periodic_table.labels"
   ]
  },
  {
   "cell_type": "markdown",
   "id": "929311a4-a963-4e03-97a0-49f2a638cd7b",
   "metadata": {},
   "source": [
    "<font color=blue> **Question 8. How many elements have an atomic mass less then 50?**</font><br />\n",
    "*Hint:* Use the where command to filter the table and num_row to count the rows."
   ]
  },
  {
   "cell_type": "code",
   "execution_count": null,
   "id": "b2c381ac-feed-400f-9db3-5a1da81285ad",
   "metadata": {},
   "outputs": [],
   "source": [
    "...\n",
    "num_light_elements = ..."
   ]
  },
  {
   "cell_type": "code",
   "execution_count": 24,
   "id": "4cf000d3-e305-41d6-80e7-8469b8727681",
   "metadata": {},
   "outputs": [
    {
     "data": {
      "text/html": [
       "\n",
       "    \n",
       "    \n",
       "        <p>All tests passed!</p>\n",
       "    \n",
       "    "
      ],
      "text/plain": [
       "<gofer.ok.OKTestsResult at 0x793892659010>"
      ]
     },
     "execution_count": 24,
     "metadata": {},
     "output_type": "execute_result"
    }
   ],
   "source": [
    "check('tests/q8.py')"
   ]
  },
  {
   "cell_type": "markdown",
   "id": "32f21c8c-00c7-4e93-88e7-a388c434a91e",
   "metadata": {},
   "source": [
    "<font color=blue> **Question 9. Which elements were discovered in the 1700's?**</font><br />\n",
    "*Hint: Look back at the table of where predicates.*"
   ]
  },
  {
   "cell_type": "code",
   "execution_count": 39,
   "id": "abcd5664-377f-4acf-9720-82652ecad808",
   "metadata": {},
   "outputs": [],
   "source": [
    "element_1700s = ..."
   ]
  },
  {
   "cell_type": "code",
   "execution_count": 38,
   "id": "6a906be1-3769-45d3-8057-d701bae4c9e9",
   "metadata": {},
   "outputs": [
    {
     "data": {
      "text/html": [
       "\n",
       "    \n",
       "    \n",
       "        <p>All tests passed!</p>\n",
       "    \n",
       "    "
      ],
      "text/plain": [
       "<gofer.ok.OKTestsResult at 0x793892282150>"
      ]
     },
     "execution_count": 38,
     "metadata": {},
     "output_type": "execute_result"
    }
   ],
   "source": [
    "check('tests/q8.py')"
   ]
  },
  {
   "cell_type": "code",
   "execution_count": null,
   "id": "f414c17c-2c3f-48c3-b576-375e8ff667ca",
   "metadata": {},
   "outputs": [],
   "source": []
  }
 ],
 "metadata": {
  "kernelspec": {
   "display_name": "Python 3 (ipykernel)",
   "language": "python",
   "name": "python3"
  },
  "language_info": {
   "codemirror_mode": {
    "name": "ipython",
    "version": 3
   },
   "file_extension": ".py",
   "mimetype": "text/x-python",
   "name": "python",
   "nbconvert_exporter": "python",
   "pygments_lexer": "ipython3",
   "version": "3.11.6"
  }
 },
 "nbformat": 4,
 "nbformat_minor": 5
}
