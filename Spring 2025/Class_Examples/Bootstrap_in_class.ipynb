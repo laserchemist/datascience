{
 "cells": [
  {
   "cell_type": "markdown",
   "id": "600996c0-bae1-4426-ab3e-8e13477d62d5",
   "metadata": {},
   "source": [
    "## Bootstrap estimation and sampling: In class exercise"
   ]
  },
  {
   "cell_type": "markdown",
   "id": "4a9d0b14-2544-40fd-bb2b-fbc68fc054ea",
   "metadata": {},
   "source": [
    "### *We will use data on Hodgkin's disease to look at a lowering of lung health due to tretment based on Inferential Thinking 13.4. We will test the hypothesis that the treatment causes a drop in lung health.*"
   ]
  },
  {
   "cell_type": "markdown",
   "id": "e5d4e7a2-f29b-4035-8975-428b23e897f2",
   "metadata": {},
   "source": [
    "## Comparing Baseline and Post-Treatment Scores: Hodgkins\n",
    "From [*Inferential Thinking 13.4* ](https://inferentialthinking.com/chapters/13/4/Using_Confidence_Intervals.html?highlight=hodgkins#comparing-baseline-and-post-treatment-scores)\n",
    "\n",
    "We will study this in the context of data that are a subset of the information gathered in a randomized controlled trial about treatments for Hodgkin's disease. Hodgkin's disease is a cancer that typically affects young people. The disease is curable but the treatment can be very harsh. The purpose of the trial was to come up with dosage that would cure the cancer but minimize the adverse effects on the patients. \n",
    "\n",
    "This table ``hodgkins`` contains data on the effect that the treatment had on the lungs of 22 patients. The columns are:\n",
    "\n",
    "- Height in cm\n",
    "- A measure of radiation to the mantle (neck, chest, under arms)\n",
    "- A measure of chemotherapy\n",
    "- A score of the health of the lungs at baseline, that is, at the start of the treatment; higher scores correspond to more healthy lungs\n",
    "- The same score of the health of the lungs, 15 months after treatment"
   ]
  },
  {
   "cell_type": "code",
   "execution_count": null,
   "id": "75992efe-bfee-4a90-bf66-68976ea5940f",
   "metadata": {},
   "outputs": [],
   "source": [
    "from datascience import *\n",
    "%matplotlib inline\n",
    "path_data = 'data/'\n",
    "import matplotlib.pyplot as plt\n",
    "plt.style.use('ggplot')\n",
    "import numpy as np"
   ]
  },
  {
   "cell_type": "code",
   "execution_count": null,
   "id": "272ca634-1448-4721-8f5c-8e1f52b303a0",
   "metadata": {
    "tags": []
   },
   "outputs": [],
   "source": [
    "hodgkins = Table.read_table(path_data + 'hodgkins.csv')"
   ]
  },
  {
   "cell_type": "code",
   "execution_count": null,
   "id": "318d396f-c6f7-42f6-a6f9-d305b6540521",
   "metadata": {
    "collapsed": false,
    "jupyter": {
     "outputs_hidden": false
    }
   },
   "outputs": [],
   "source": [
    "hodgkins.show(3)"
   ]
  },
  {
   "cell_type": "markdown",
   "id": "7b0c7c95-8c66-4d1b-b905-f296e66c0b28",
   "metadata": {},
   "source": [
    "We will compare the baseline and 15-month scores. As each row corresponds to one patient, we say that the sample of baseline scores and the sample of 15-month scores are *paired* - they are not just two sets of 22 values each, but 22 pairs of values, one for each patient.\n",
    "\n",
    "At a glance, you can see that the 15-month scores tend to be lower than the baseline scores – the sampled patients' lungs seem to be doing worse 15 months after the treatment. This is confirmed by the mostly positive values in the column `drop`, the amount by which the score dropped from baseline to 15 months."
   ]
  },
  {
   "cell_type": "markdown",
   "id": "7c47f188-d3ac-4faf-bbab-8fab96364c65",
   "metadata": {},
   "source": [
    "## *<font color='green'>Create a new column labelled 'drop' which is the drop between the 'base' column and the 'month15'*"
   ]
  },
  {
   "cell_type": "code",
   "execution_count": null,
   "id": "ce039560-07e0-4995-8b25-ca9d6af3b326",
   "metadata": {
    "tags": []
   },
   "outputs": [],
   "source": [
    "hodgkins = hodgkins.with_columns(\n",
    "    'drop', hodgkins.column('base') - ... )"
   ]
  },
  {
   "cell_type": "code",
   "execution_count": null,
   "id": "e16ed8b7-6cd7-45d8-97c8-3beacbe39e70",
   "metadata": {
    "collapsed": false,
    "jupyter": {
     "outputs_hidden": false
    }
   },
   "outputs": [],
   "source": [
    "hodgkins"
   ]
  },
  {
   "cell_type": "markdown",
   "id": "c34693a6-4502-4162-b264-2c6d2b3aa527",
   "metadata": {},
   "source": [
    "## *<font color='green'>Create a histogram of the 'drop' column*"
   ]
  },
  {
   "cell_type": "code",
   "execution_count": null,
   "id": "59bab789-6f86-45c7-b7d3-ddb99c5a6b8d",
   "metadata": {
    "collapsed": false,
    "jupyter": {
     "outputs_hidden": false
    }
   },
   "outputs": [],
   "source": [
    "..."
   ]
  },
  {
   "cell_type": "markdown",
   "id": "ada666d4-1159-4b73-9516-981b355bd31e",
   "metadata": {},
   "source": [
    "## *<font color='green'>What is the mean drop?*"
   ]
  },
  {
   "cell_type": "code",
   "execution_count": null,
   "id": "6b4e0f5c-b60d-4e8f-a1e6-6464fab27ec6",
   "metadata": {
    "collapsed": false,
    "jupyter": {
     "outputs_hidden": false
    }
   },
   "outputs": [],
   "source": [
    "print(\"Average: %4.2f\" % np.mean(...))"
   ]
  },
  {
   "cell_type": "markdown",
   "id": "e8ad08a4-2746-456c-a0eb-7c055320b531",
   "metadata": {},
   "source": [
    "### Average Drop Hypothesis\n",
    "In the sample, the average drop is about 28.6. But could this be the result of chance variation? <br>The data are from a random sample. Could it be that in the entire population of patients, the average drop is just 0?\n",
    "\n",
    "To answer this, we can set up two hypotheses:\n",
    "\n",
    "**Hypothesis:** <font color='blue'>In the population, cumulative treatment over 15 months leads to a drop in lung function.\n",
    "\n",
    "**Null hypothesis:** <font color='blue'>In the population, the average drop is random about  0.\n",
    "\n",
    "\n",
    "\n",
    "To test this hypothesis with a 5% cutoff for the p-value, let's construct an approximate 95% confidence interval for the average drop in the population."
   ]
  },
  {
   "cell_type": "markdown",
   "id": "2abb59f0-71a5-45f5-ace9-1d9153425c06",
   "metadata": {},
   "source": [
    "## *<font color='green'>Now we sample Table to get at random variations in the population revealed in sample*"
   ]
  },
  {
   "cell_type": "code",
   "execution_count": null,
   "id": "b79e8835-ea5f-487e-b300-36c276f9fd48",
   "metadata": {},
   "outputs": [],
   "source": [
    "hodgkins.sample()"
   ]
  },
  {
   "cell_type": "code",
   "execution_count": null,
   "id": "b105ee8b-3093-484f-b83a-288a7ccbac6a",
   "metadata": {},
   "outputs": [],
   "source": [
    "def one_bootstrap_mean():\n",
    "    resample = hodgkins.sample()\n",
    "    return np.mean(resample.column('drop'))"
   ]
  },
  {
   "cell_type": "code",
   "execution_count": null,
   "id": "59614ab4-dfec-4d07-82f1-e4b5aaed3661",
   "metadata": {},
   "outputs": [],
   "source": [
    "# Generate 10,000 bootstrap means\n",
    "num_repetitions = ...\n",
    "bstrap_means = make_array()\n",
    "for i in np.arange(num_repetitions):\n",
    "    bstrap_means = np.append(bstrap_means, one_bootstrap_mean())"
   ]
  },
  {
   "cell_type": "code",
   "execution_count": null,
   "id": "29cd7b2f-4238-48a4-945e-64aa2cba3903",
   "metadata": {},
   "outputs": [],
   "source": [
    "plt.hist(bstrap_means)"
   ]
  },
  {
   "cell_type": "markdown",
   "id": "36c8c3eb-0d25-4af5-9a12-1b1a1db33162",
   "metadata": {},
   "source": [
    "### Get the endpoints of the 95% confidence interval\n",
    "Use Datascience percentile function"
   ]
  },
  {
   "cell_type": "code",
   "execution_count": null,
   "id": "3c6093b9-128e-49f5-a902-1e89962f31cc",
   "metadata": {},
   "outputs": [],
   "source": [
    "percentile(2.5, bstrap_means)"
   ]
  },
  {
   "cell_type": "code",
   "execution_count": null,
   "id": "fb6df3a4-e90a-417b-985d-985bfef93d6c",
   "metadata": {
    "collapsed": false,
    "jupyter": {
     "outputs_hidden": false
    }
   },
   "outputs": [],
   "source": [
    "left = percentile(2.5, bstrap_means)\n",
    "right = percentile(97.5, bstrap_means)\n",
    "\n",
    "make_array(left, right)"
   ]
  },
  {
   "cell_type": "code",
   "execution_count": null,
   "id": "e7050908-a4f3-40ce-80fd-460792949f4e",
   "metadata": {
    "collapsed": false,
    "jupyter": {
     "outputs_hidden": false
    }
   },
   "outputs": [],
   "source": [
    "resampled_means = Table().with_columns(\n",
    "    'Bootstrap Sample Mean', bstrap_means\n",
    ")\n",
    "resampled_means.hist(bins=np.arange(0,50,2.5))\n",
    "plt.plot([left, right], [0, 0], color='yellow', lw=8)\n",
    "plt.xlim(0,50)\n",
    "plt.tight_layout()\n",
    "plt.savefig('bootstrap_CI.png')"
   ]
  },
  {
   "cell_type": "markdown",
   "id": "1c92c1e5-5662-4c28-86d4-6421880ca3ca",
   "metadata": {},
   "source": [
    "## *<font color='green'>Does the 95% confidence interval include 0 drop? What does this mean about support of hypothesis and possibility to reject Null?*"
   ]
  },
  {
   "cell_type": "markdown",
   "id": "3f80cda3-d45b-4690-a688-6b6addd56119",
   "metadata": {},
   "source": []
  },
  {
   "cell_type": "markdown",
   "id": "7f4c03ef-d033-4161-b3d2-1923b1015d49",
   "metadata": {},
   "source": [
    "## *<font color='green'>Use Google or Generative AI to come up with a description of Hodgkin's disease*"
   ]
  },
  {
   "cell_type": "markdown",
   "id": "ea82027d-722f-48b1-88f2-9e6493f029df",
   "metadata": {},
   "source": [
    "\n",
    "\n",
    "\n",
    "\n",
    "\n"
   ]
  }
 ],
 "metadata": {
  "kernelspec": {
   "display_name": "Python 3 (ipykernel)",
   "language": "python",
   "name": "python3"
  },
  "language_info": {
   "codemirror_mode": {
    "name": "ipython",
    "version": 3
   },
   "file_extension": ".py",
   "mimetype": "text/x-python",
   "name": "python",
   "nbconvert_exporter": "python",
   "pygments_lexer": "ipython3",
   "version": "3.11.6"
  }
 },
 "nbformat": 4,
 "nbformat_minor": 5
}
