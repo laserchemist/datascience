{
 "cells": [
  {
   "cell_type": "code",
   "execution_count": null,
   "id": "bad9910f-46da-4411-8fbd-d12a60447cd1",
   "metadata": {},
   "outputs": [],
   "source": [
    "## import statements\n",
    "# These lines load the tests. \n",
    "from gofer.ok import check\n",
    "import numpy as np\n",
    "from datascience import *\n",
    "import pandas as pd\n",
    "import matplotlib\n",
    "%matplotlib inline\n",
    "import matplotlib.pyplot as plt\n",
    "plt.style.use('ggplot')\n",
    "# Fix for datascience plots"
   ]
  },
  {
   "cell_type": "markdown",
   "id": "636000c3-ad57-4094-9a97-a291f3d3d0f1",
   "metadata": {},
   "source": [
    "### Normal Distribution"
   ]
  },
  {
   "cell_type": "markdown",
   "id": "5b7b897f-aa2b-4565-9fa3-eb496c23884e",
   "metadata": {},
   "source": [
    "$$\n",
    "\\phi(z) = {\\frac{1}{\\sqrt{2 \\pi}}} e^{-\\frac{1}{2}z^2}, ~~ -\\infty < z < \\infty\n",
    "$$"
   ]
  },
  {
   "cell_type": "code",
   "execution_count": null,
   "id": "a623d0f4-a696-43a8-9e20-8769048a8f33",
   "metadata": {},
   "outputs": [],
   "source": [
    "# The standard normal curve (standardized data)\n",
    "# Plots a normal curve with specified parameters and area below curve shaded between lbound and rbound.\n",
    "# datascience.util.plot_cdf_area(rbound=None, lbound=None, mean=0, sd=1)¶\n",
    "\n",
    "plot_normal_cdf()"
   ]
  },
  {
   "cell_type": "code",
   "execution_count": null,
   "id": "08328c68-2a97-419d-9a6a-1d883f7dc5f9",
   "metadata": {},
   "outputs": [],
   "source": [
    "plot_normal_cdf(mean=5)"
   ]
  },
  {
   "cell_type": "code",
   "execution_count": null,
   "id": "8483388a-e826-4321-84d2-9d562372e9d8",
   "metadata": {},
   "outputs": [],
   "source": [
    "plot_normal_cdf(mean=5, sd=0.5)"
   ]
  },
  {
   "cell_type": "code",
   "execution_count": null,
   "id": "b1ec34d3-c004-47a8-bb13-d656ef0a6d37",
   "metadata": {},
   "outputs": [],
   "source": [
    "plot_normal_cdf(rbound=1)"
   ]
  },
  {
   "cell_type": "code",
   "execution_count": null,
   "id": "337d4e2d-4e6c-4643-b73b-ed6a9452ab08",
   "metadata": {},
   "outputs": [],
   "source": [
    "from scipy import stats"
   ]
  },
  {
   "cell_type": "code",
   "execution_count": null,
   "id": "4852da7d-8571-407e-a6d1-95ab570030fe",
   "metadata": {},
   "outputs": [],
   "source": [
    "stats.norm.cdf(1)"
   ]
  },
  {
   "cell_type": "code",
   "execution_count": null,
   "id": "3362467a-3099-463c-9cc3-e131a5d29442",
   "metadata": {},
   "outputs": [],
   "source": [
    "plot_normal_cdf(lbound=1)"
   ]
  },
  {
   "cell_type": "code",
   "execution_count": null,
   "id": "4615f86b-744c-4617-94fa-d16ed5445684",
   "metadata": {},
   "outputs": [],
   "source": [
    "# The total area under the curve is 1\n",
    "1 - stats.norm.cdf(1)"
   ]
  },
  {
   "cell_type": "code",
   "execution_count": null,
   "id": "89d978ad-f79d-4001-82a0-ba208c1c8772",
   "metadata": {},
   "outputs": [],
   "source": [
    "# Area under the standard normal curve, between -1 and 1\n",
    "\n",
    "plot_normal_cdf(rbound=1, lbound=-1)"
   ]
  },
  {
   "cell_type": "code",
   "execution_count": null,
   "id": "8c5e5694-85ec-4c51-a960-3b73f5aea048",
   "metadata": {},
   "outputs": [],
   "source": [
    "# Roughly 68% of the area lies within plus or minus one standard deviation\n",
    "stats.norm.cdf(1) - stats.norm.cdf(-1)"
   ]
  },
  {
   "cell_type": "code",
   "execution_count": null,
   "id": "bd2e87c7-fce2-4d89-a32c-89ef249b6961",
   "metadata": {},
   "outputs": [],
   "source": [
    "# Area under the standard normal curve, between -2 and 2\n",
    "\n",
    "plot_normal_cdf(2, lbound=-2)"
   ]
  },
  {
   "cell_type": "code",
   "execution_count": null,
   "id": "fdc27087-0017-4d75-b224-79bc56b07616",
   "metadata": {},
   "outputs": [],
   "source": [
    "# Roughly 95% of the area lies within plus or minus two standard deviations\n",
    "stats.norm.cdf(2) - stats.norm.cdf(-2)"
   ]
  },
  {
   "cell_type": "markdown",
   "id": "691c08dd-65b7-42b8-9523-8a66e160f94e",
   "metadata": {},
   "source": [
    "### Correlation"
   ]
  },
  {
   "cell_type": "code",
   "execution_count": null,
   "id": "50d41394-b577-415a-8440-a3329e1122e9",
   "metadata": {
    "tags": []
   },
   "outputs": [],
   "source": [
    "x = np.arange(1, 7, 1)\n",
    "y = make_array(2, 3, 1, 5, 2, 7)\n",
    "t = Table().with_columns(\n",
    "        'x', x,\n",
    "        'y', y\n",
    "    )\n",
    "t"
   ]
  },
  {
   "cell_type": "code",
   "execution_count": null,
   "id": "35e4a0a9-4b8b-48ba-a311-2a8d9006a4db",
   "metadata": {
    "tags": []
   },
   "outputs": [],
   "source": [
    "t.scatter(0, 1, s=30, color='red')"
   ]
  },
  {
   "cell_type": "code",
   "execution_count": null,
   "id": "9e31d7f3-2a09-4d09-b0a7-8f43cc281317",
   "metadata": {
    "tags": []
   },
   "outputs": [],
   "source": [
    "def standard_units(numbers_array):\n",
    "    \"Convert any array of numbers to standard units.\"\n",
    "    return (numbers_array - np.mean(numbers_array))/np.std(numbers_array)   "
   ]
  },
  {
   "cell_type": "code",
   "execution_count": null,
   "id": "b3bce80f-8fbe-441a-8833-92ad776191df",
   "metadata": {
    "tags": []
   },
   "outputs": [],
   "source": [
    "t_su = t.with_columns(\n",
    "        'x (standard units)', standard_units(x),\n",
    "        'y (standard units)', standard_units(y)\n",
    "    )\n",
    "t_su"
   ]
  },
  {
   "cell_type": "code",
   "execution_count": null,
   "id": "acc20a1a-2d55-469d-a2e0-d3d0e76aa065",
   "metadata": {
    "tags": []
   },
   "outputs": [],
   "source": [
    "t_product = t_su.with_column('product of standard units', t_su.column(2) * t_su.column(3))\n",
    "t_product"
   ]
  },
  {
   "cell_type": "code",
   "execution_count": null,
   "id": "87b42a86-a94b-4312-b30f-d7b96a25a004",
   "metadata": {
    "tags": []
   },
   "outputs": [],
   "source": [
    "# r is the average of the products of standard units\n",
    "\n",
    "r = np.mean(t_product.column(4))\n",
    "r"
   ]
  },
  {
   "cell_type": "markdown",
   "id": "60c86c4f-594b-4c7a-a3a5-dd43f00a8d07",
   "metadata": {},
   "source": [
    "### Plot the regression line with data in standard units"
   ]
  },
  {
   "cell_type": "code",
   "execution_count": null,
   "id": "e6197ed6-a466-4dfc-9ae7-e3177287b2be",
   "metadata": {},
   "outputs": [],
   "source": [
    "t_predict = t_product.with_column('y predict standard units', t_product.column(2) * r)\n",
    "t_predict"
   ]
  },
  {
   "cell_type": "code",
   "execution_count": null,
   "id": "e943df1e-4cfd-4677-8116-a460fdfb8cfd",
   "metadata": {},
   "outputs": [],
   "source": [
    "t_predict.scatter(\"x (standard units)\", \"y (standard units)\")\n",
    "ax=plt.gca()\n",
    "ax.plot(t_predict.column(\"x (standard units)\"), t_predict.column(\"y predict standard units\"))"
   ]
  },
  {
   "cell_type": "markdown",
   "id": "94284dd9-24db-4457-ad59-e1764181d2f3",
   "metadata": {},
   "source": [
    "### Regression line in the original units"
   ]
  },
  {
   "cell_type": "code",
   "execution_count": null,
   "id": "ab41be9a-0a41-4e8b-8f09-4d8f074a0cbc",
   "metadata": {},
   "outputs": [],
   "source": [
    "slope = r * np.std(t_predict.column(\"y\")) / np.std(t_predict.column(\"x\"))\n",
    "intercept = np.mean(t_predict.column(\"y\")) - slope * np.mean(t_predict.column(\"x\"))\n",
    "print(\"slope = \", slope)\n",
    "print(\"intercept = \", intercept)\n",
    "\n",
    "t_predict = t_predict.with_column('y predict', t_predict.column(\"x\") * slope + intercept)\n",
    "t_predict"
   ]
  },
  {
   "cell_type": "code",
   "execution_count": null,
   "id": "c40f99e0-69a1-4a1f-9b08-d1899958fc58",
   "metadata": {},
   "outputs": [],
   "source": [
    "t_predict.scatter(\"x\", \"y\")\n",
    "ax=plt.gca()\n",
    "ax.plot(t_predict.column(\"x\"), t_predict.column(\"y predict\"))"
   ]
  },
  {
   "cell_type": "markdown",
   "id": "f91135a4-47eb-46c6-972a-03cae37a8320",
   "metadata": {},
   "source": [
    "#### What if the points lie exactly on a line?"
   ]
  },
  {
   "cell_type": "code",
   "execution_count": null,
   "id": "7f433468-d063-4b17-91f1-4b85c3411977",
   "metadata": {
    "tags": []
   },
   "outputs": [],
   "source": [
    "x = np.arange(1, 7, 1)\n",
    "y = x * 2 + 1\n",
    "t = Table().with_columns(\n",
    "        'x', x,\n",
    "        'y', y\n",
    "    )\n",
    "t"
   ]
  },
  {
   "cell_type": "code",
   "execution_count": null,
   "id": "cf6a36b6-905e-46ec-a299-783f7a3210f3",
   "metadata": {
    "tags": []
   },
   "outputs": [],
   "source": [
    "t.scatter(0, 1, s=30, color='red')"
   ]
  },
  {
   "cell_type": "code",
   "execution_count": null,
   "id": "891b8091-0642-4ef3-b8c8-2da6b79b2642",
   "metadata": {
    "tags": []
   },
   "outputs": [],
   "source": [
    "t_su = t.with_columns(\n",
    "        'x (standard units)', standard_units(x),\n",
    "        'y (standard units)', standard_units(y)\n",
    "    )\n",
    "t_su"
   ]
  },
  {
   "cell_type": "code",
   "execution_count": null,
   "id": "f1dfa6c7-06c4-476d-b7bb-3f13fdb4f249",
   "metadata": {
    "tags": []
   },
   "outputs": [],
   "source": [
    "t_product = t_su.with_column('product of standard units', t_su.column(2) * t_su.column(3))\n",
    "t_product"
   ]
  },
  {
   "cell_type": "code",
   "execution_count": null,
   "id": "c8357dca-a941-47cd-bf9a-05e3d6657fa1",
   "metadata": {
    "tags": []
   },
   "outputs": [],
   "source": [
    "# r is the average of the products of standard units\n",
    "\n",
    "r = np.mean(t_product.column(4))\n",
    "r"
   ]
  },
  {
   "cell_type": "markdown",
   "id": "bd549829-fbfe-48ae-972b-7c79a494a738",
   "metadata": {},
   "source": [
    "## Old Faithful - Lab 8"
   ]
  },
  {
   "cell_type": "code",
   "execution_count": null,
   "id": "6e95b80d-6464-4775-8aa0-cdda0a06bdf0",
   "metadata": {},
   "outputs": [],
   "source": [
    "faithful = Table.read_table(\"../../Lab08/faithful-new.csv\")"
   ]
  },
  {
   "cell_type": "code",
   "execution_count": null,
   "id": "3ecfa2c9-3292-4c23-b726-1059834ab984",
   "metadata": {},
   "outputs": [],
   "source": [
    "faithful.stats() "
   ]
  },
  {
   "cell_type": "code",
   "execution_count": null,
   "id": "b30454be-c809-41d2-b141-0d1c786a37d3",
   "metadata": {},
   "outputs": [],
   "source": [
    "# Now plot\n",
    "plt.style.use('ggplot')\n",
    "plt.scatter(faithful.column('duration'),faithful.column('wait'))\n",
    "#faithful.scatter('duration','wait') #\n",
    "plt.title(\"Old Faithful\")\n",
    "plt.xlabel(\"duration\")\n",
    "plt.ylabel(\"wait\")\n",
    "plt.savefig(\"scatter.png\") # Helpful way to save figure\n",
    "plt.show()"
   ]
  },
  {
   "cell_type": "markdown",
   "id": "efdd0c3c-8271-44d7-950a-2de92f23cd0b",
   "metadata": {},
   "source": [
    "***\n",
    "Standard Units\n",
    "***\n",
    "$\\bar{x}$=mean$(x)$<br>\n",
    "<br>variance=mean$((x-\\bar{x})^2)$<br>\n",
    "<br>SD = $\\sqrt{<(x-\\bar{x})^2>}$<br>\n",
    "<br>Z = ${\\frac{(x-\\bar{x})}{SD}}$"
   ]
  },
  {
   "cell_type": "code",
   "execution_count": null,
   "id": "71f8039e-7582-41e8-a838-fc1bb0023b2b",
   "metadata": {},
   "outputs": [],
   "source": [
    "duration_mean =  np.mean(faithful.column(\"duration\"))\n",
    "duration_std = np.std(faithful.column(\"duration\"))\n",
    "wait_mean =  np.mean(faithful.column(\"wait\"))\n",
    "wait_std = np.std(faithful.column(\"wait\"))\n",
    "\n",
    "faithful_standard = Table().with_columns(\n",
    "    \"duration (standard units)\", (faithful.column(\"duration\") - duration_mean) / duration_std,\n",
    "    \"wait (standard units)\", (faithful.column(\"wait\") - wait_mean) / wait_std)\n",
    "faithful_standard"
   ]
  },
  {
   "cell_type": "code",
   "execution_count": null,
   "id": "8da08d40-b316-4288-b47c-ad0de09331fb",
   "metadata": {},
   "outputs": [],
   "source": [
    "faithful_standard.scatter(\"duration (standard units)\", \"wait (standard units)\")"
   ]
  },
  {
   "cell_type": "code",
   "execution_count": null,
   "id": "861e5775-61fb-4d41-bd1f-4b9fb2d7bbe8",
   "metadata": {},
   "outputs": [],
   "source": [
    "faithful_standard.hist(\"wait (standard units)\")"
   ]
  },
  {
   "cell_type": "markdown",
   "id": "b6659352-5f79-4d43-a07c-9966d1a7e7dc",
   "metadata": {},
   "source": [
    "***\n",
    "Regression line\n",
    "***\n",
    "$$y = m x + b $$\n",
    "$$ slope = m $$\n",
    "$$ intercept = b $$\n",
    "Standard units\n",
    "$$y = m x$$\n",
    "\n",
    "\n",
    "When the data are in standard units, the slope of the best-fit line is just r."
   ]
  },
  {
   "cell_type": "code",
   "execution_count": null,
   "id": "d22a5a4a-01bc-45f2-aa4e-aec71a48fe35",
   "metadata": {
    "tags": []
   },
   "outputs": [],
   "source": [
    "x = faithful_standard.column(\"duration (standard units)\")\n",
    "y = faithful_standard.column(\"wait (standard units)\")\n",
    "r = np.mean(x * y)\n",
    "r"
   ]
  },
  {
   "cell_type": "code",
   "execution_count": null,
   "id": "1b086525-8693-411d-9c4e-a32c36716e29",
   "metadata": {
    "tags": []
   },
   "outputs": [],
   "source": [
    "xp = np.arange(np.min(x), np.max(x), 0.01)\n",
    "yp = r * xp"
   ]
  },
  {
   "cell_type": "code",
   "execution_count": null,
   "id": "568cea5f-e2e1-4c7c-820c-09d4913dd210",
   "metadata": {
    "tags": []
   },
   "outputs": [],
   "source": [
    "plt.scatter(x, y)\n",
    "plt.plot(xp, yp, color=\"black\");"
   ]
  },
  {
   "cell_type": "code",
   "execution_count": null,
   "id": "40f21dac-1ba1-4350-a701-fd5603d47799",
   "metadata": {
    "tags": []
   },
   "outputs": [],
   "source": [
    "print(f\"The r-squared value is: {r**2:.2f}\")"
   ]
  },
  {
   "cell_type": "code",
   "execution_count": null,
   "id": "4dd0c453-2da0-4b7e-8551-c0b7afc4e507",
   "metadata": {
    "tags": []
   },
   "outputs": [],
   "source": [
    "faithful_standard.scatter(\"duration (standard units)\", \"wait (standard units)\", fit_line=True)"
   ]
  },
  {
   "cell_type": "code",
   "execution_count": null,
   "id": "19a1c786-41c3-40ec-8ed5-c96c63e42442",
   "metadata": {
    "tags": []
   },
   "outputs": [],
   "source": [
    "faithful.scatter(\"wait\", \"duration\", fit_line=True)"
   ]
  },
  {
   "cell_type": "code",
   "execution_count": null,
   "id": "7fdacf1c-3074-4ce7-a29c-abfaf0d615b1",
   "metadata": {},
   "outputs": [],
   "source": []
  }
 ],
 "metadata": {
  "kernelspec": {
   "display_name": "Python 3 (ipykernel)",
   "language": "python",
   "name": "python3"
  },
  "language_info": {
   "codemirror_mode": {
    "name": "ipython",
    "version": 3
   },
   "file_extension": ".py",
   "mimetype": "text/x-python",
   "name": "python",
   "nbconvert_exporter": "python",
   "pygments_lexer": "ipython3",
   "version": "3.11.6"
  }
 },
 "nbformat": 4,
 "nbformat_minor": 5
}
