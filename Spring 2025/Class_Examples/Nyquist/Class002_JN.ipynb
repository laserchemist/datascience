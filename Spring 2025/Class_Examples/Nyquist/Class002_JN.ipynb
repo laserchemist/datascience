{
 "cells": [
  {
   "cell_type": "markdown",
   "id": "84dbd6f6-ff61-408f-b270-d56a6d2c2bec",
   "metadata": {},
   "source": [
    "# Two types of cells: code and markdown"
   ]
  },
  {
   "cell_type": "markdown",
   "id": "124b8ee2-8615-4b05-bc9b-de6f18cdf481",
   "metadata": {},
   "source": [
    "## This is a mark down cell. \n",
    "\n",
    "It can contain plain text.\n",
    "\n",
    "It can also contain equations:\n",
    "$$ a^2 + b^2 = c^2$$\n",
    "\n",
    "It can also contain hyperlinks: [Quote of the Day](https://www.brainyquote.com/quote_of_the_day)\n",
    "\n",
    "It can even include images and videos:\n",
    "![bob](data/bob.jpg)"
   ]
  },
  {
   "cell_type": "code",
   "execution_count": null,
   "id": "b6c3df29-4acf-439d-8044-2117996b7aab",
   "metadata": {
    "tags": []
   },
   "outputs": [],
   "source": [
    "# This is a code cell\n",
    "# You can include text in comments\n",
    "# But any other line will be iterpreted as python code\n",
    "# The results will appear in the output cell under the code cell.\n",
    "\n",
    "greeting = \"Hello, world!\"\n",
    "print(greeting)"
   ]
  },
  {
   "cell_type": "markdown",
   "id": "3db944b9-d503-4ec8-bba1-1d0ac0ae1767",
   "metadata": {},
   "source": [
    "## Markdown and code: a powerful combination\n",
    "One of the reasons Jupyter notebooks are so popular in science is that the combination of markdown and code makes it possible to create an interactive document that tells a story. A story with data, methods, results, figures, discussion, conclusions and references documented in a way that any reader can check themselves. \n",
    "\n",
    "**Reproducibility is the key to good science!**"
   ]
  },
  {
   "cell_type": "markdown",
   "id": "37d1a39c-982c-43c4-87af-5e5f0963dc4c",
   "metadata": {},
   "source": [
    "## Calculating the Mean\n",
    "\n",
    "As a first demonstration of Python and statistics, lets talk about calculating the mean of a set of numbers. The \"mean\" is also commonly called the average. The term \"mean\" derives from the Latin word \"medius,\" which means \"middle.\"\n",
    "\n",
    "The mean is calculated by summing the data and dividing by the number of points. We often write the mean of a variable as the variable name with a bar over it:\n",
    "\n",
    "$$ \\bar x =  \\frac{1}{N} \\sum_{i=1}^{N} x_i$$\n",
    "\n",
    "If x = {1, 5, 6, 9}, the mean of x is\n",
    "\n",
    "$$ \\frac{1 + 5 + 6 + 9}{4} $$\n",
    "\n",
    "In Python we could calculate it this way:"
   ]
  },
  {
   "cell_type": "code",
   "execution_count": null,
   "id": "290c549b-2a36-438f-91ac-8c3c5927877b",
   "metadata": {
    "tags": []
   },
   "outputs": [],
   "source": [
    "(1 + 5 + 6 + 9) / 4"
   ]
  },
  {
   "cell_type": "markdown",
   "id": "82a30c25-502b-4684-b210-e23c490d716c",
   "metadata": {},
   "source": [
    "Python has a math library call \"numpy\" that we will use a lot in this class. It has a function to calculate the mean."
   ]
  },
  {
   "cell_type": "code",
   "execution_count": null,
   "id": "2bf80926-ad8c-4df8-8485-342d23e25d39",
   "metadata": {
    "tags": []
   },
   "outputs": [],
   "source": [
    "# Load the numpy library with the nickanme np for short\n",
    "import numpy as np\n",
    "\n",
    "np.mean([1, 5, 6, 9])"
   ]
  },
  {
   "cell_type": "markdown",
   "id": "69744fb9-4b5c-45b3-b3ee-f343102dd668",
   "metadata": {},
   "source": [
    "## The Power of Zero - A cautionary tale\n",
    "\n",
    "The mean is strongly affected by really high and really low values. A couple of zeros can devastate your average grade.\n",
    "\n",
    "Consider the lab scores of the two hypothetical students, Joe and Moe. Joe is brilliant but lazy. When he does the work, he scores perfectly. Moe is less gifted but a hard worker who never fails to submit assignments on time.\n",
    "\n",
    "Look at the score below. Who do you think finishes the class with a better final average?"
   ]
  },
  {
   "cell_type": "code",
   "execution_count": null,
   "id": "8b094537-793d-4eae-b4e5-a3cfc26fd18b",
   "metadata": {
    "tags": []
   },
   "outputs": [],
   "source": [
    "Moes_scores = [ 100, 100,  0, 100,  0,  0, 100, 100, 100,  0]\n",
    "\n",
    "Joes_scores = [  83,  91, 79,  84, 82, 90,  78,  87,  85, 89]"
   ]
  },
  {
   "cell_type": "code",
   "execution_count": null,
   "id": "8280b777-0e37-4336-995e-53ec80126a66",
   "metadata": {
    "tags": []
   },
   "outputs": [],
   "source": [
    "np.mean(Moes_scores)"
   ]
  },
  {
   "cell_type": "code",
   "execution_count": null,
   "id": "11dcb354-4906-4a7e-9eaf-51007318a684",
   "metadata": {
    "tags": []
   },
   "outputs": [],
   "source": [
    "np.mean(Joes_scores)"
   ]
  },
  {
   "cell_type": "markdown",
   "id": "be6172aa-bf83-49ae-9a56-72e2885b020c",
   "metadata": {},
   "source": [
    "## What if Moe had handed in *something?*\n",
    "\n",
    "What would have happened if on Moe's lazy days he had still handed in something, say, good enough to score 50/100 (which is a failing grade on the assignment."
   ]
  },
  {
   "cell_type": "code",
   "execution_count": null,
   "id": "b3870743-1a02-4ebd-819b-62ee03baa872",
   "metadata": {
    "tags": []
   },
   "outputs": [],
   "source": [
    "Moes_scores = [ 100, 100,  50, 100,  50,  50, 100, 100, 100,  50]\n",
    "np.mean(Moes_scores)"
   ]
  },
  {
   "cell_type": "markdown",
   "id": "40b65e45-0d3c-448a-8109-f11c55ab4a52",
   "metadata": {},
   "source": [
    "## Morale of the Story: submit your assignments even if they are not your best work\n",
    "You cannot get partial credit if you don't submit, and partial credit is often the difference between success and failure.\n",
    "\n",
    "## Python as a calculator\n",
    "Let's solve some simple math problems with Python\n",
    "\n",
    "**Problem 1:**\n",
    "A triangle has a base of 10 and a height of 5. What is its area?"
   ]
  },
  {
   "cell_type": "code",
   "execution_count": null,
   "id": "cdb4c3ee-6a81-4bbb-b2ac-3b3b56244462",
   "metadata": {},
   "outputs": [],
   "source": []
  },
  {
   "cell_type": "markdown",
   "id": "14b5b55c-f932-45d1-a8ef-010d8cd14850",
   "metadata": {},
   "source": [
    "**Problem 2:** A right triangle has sides of lenths 3 and 4, what is the length of the hypotenuse?"
   ]
  },
  {
   "cell_type": "code",
   "execution_count": null,
   "id": "12862bcb-c96b-4c90-9732-7f1eaa0dee3e",
   "metadata": {},
   "outputs": [],
   "source": []
  },
  {
   "cell_type": "markdown",
   "id": "f053b5a6-32bb-49a2-b658-799aa13d7b00",
   "metadata": {},
   "source": [
    "**Problem 3:** \n",
    "The equation of a line is $$y = mx + b$$\n",
    "where m is the slope and b is the intercept. If the slope of a line is 2 and the intercept is 4, what is the value of y at x=10?"
   ]
  },
  {
   "cell_type": "markdown",
   "id": "5c723c11-fd64-4b31-8844-480a02bccf76",
   "metadata": {},
   "source": [
    "**Problem 4:** The formula for Body Mass Index is\n",
    "$$ BMI = \\frac{weight_{lb}}{height_{in}^{2}} \\times 703 $$\n",
    "\n",
    "What is the BMI of a person who is 6 ft tall and weights 197 pounds?"
   ]
  },
  {
   "cell_type": "code",
   "execution_count": null,
   "id": "0c05c517-8f8b-415d-a550-06a6b8ce34ec",
   "metadata": {},
   "outputs": [],
   "source": []
  }
 ],
 "metadata": {
  "kernelspec": {
   "display_name": "Python 3 (ipykernel)",
   "language": "python",
   "name": "python3"
  },
  "language_info": {
   "codemirror_mode": {
    "name": "ipython",
    "version": 3
   },
   "file_extension": ".py",
   "mimetype": "text/x-python",
   "name": "python",
   "nbconvert_exporter": "python",
   "pygments_lexer": "ipython3",
   "version": "3.11.6"
  }
 },
 "nbformat": 4,
 "nbformat_minor": 5
}
