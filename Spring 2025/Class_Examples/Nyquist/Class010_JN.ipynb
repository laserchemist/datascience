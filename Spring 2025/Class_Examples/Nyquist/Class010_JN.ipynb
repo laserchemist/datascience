{
 "cells": [
  {
   "cell_type": "markdown",
   "id": "a3ed0f12-60c0-4d84-a32b-43e830e446a0",
   "metadata": {},
   "source": [
    "# table group and pivot methods\n",
    "These methods are a powerful way to summarize a data set along chosen dimensions"
   ]
  },
  {
   "cell_type": "code",
   "execution_count": 2,
   "id": "c08a3204-7e0b-467d-add2-3467ee247a32",
   "metadata": {},
   "outputs": [],
   "source": [
    "from datascience import *\n",
    "\n",
    "import numpy as np\n",
    "%matplotlib inline\n",
    "import matplotlib.pyplot as plt\n",
    "plt.style.use('ggplot')"
   ]
  },
  {
   "cell_type": "markdown",
   "id": "2f83fc23-13c8-45a9-9c23-67ce4b32e7be",
   "metadata": {},
   "source": [
    "## Example\n",
    "[See Inferential Thinking](https://inferentialthinking.com/chapters/07/1/Visualizing_Categorical_Distributions.html?highlight=group)\n",
    "\n",
    "[Ben & Jerry data visualization](https://benjerry.heshlindsdataviz.com)\n",
    "\n",
    "<img src = \"https://www.benjerry.com/files/live/sites/systemsite/files/US%20and%20Global%20Assets/Flavors/Product%20Assets/US/Chunky%20Monkey%20Ice%20Cream/35660_US_IC_Chunky-Monkey_473ml_Open_Brand-1902px.png\" alt=\"Image of Ben & Jerry Chunky Monkey\" width=200 />"
   ]
  },
  {
   "cell_type": "code",
   "execution_count": 3,
   "id": "97054005-9d0b-4b5f-949a-2a40db03365f",
   "metadata": {
    "tags": []
   },
   "outputs": [
    {
     "data": {
      "text/html": [
       "<table border=\"1\" class=\"dataframe\">\n",
       "    <thead>\n",
       "        <tr>\n",
       "            <th>Flavor</th> <th>Calories (kcal)</th> <th>fat (g)</th> <th>sodium (mg)</th> <th>carbohydrates (g)</th> <th>protein (g)</th> <th>base ice cream</th>\n",
       "        </tr>\n",
       "    </thead>\n",
       "    <tbody>\n",
       "        <tr>\n",
       "            <td>Peanut Butter Cup         </td> <td>470            </td> <td>33     </td> <td>180        </td> <td>36               </td> <td>9          </td> <td>peanut butter </td>\n",
       "        </tr>\n",
       "        <tr>\n",
       "            <td>Chubby Hubby              </td> <td>460            </td> <td>28     </td> <td>220        </td> <td>35               </td> <td>10         </td> <td>vanilla       </td>\n",
       "        </tr>\n",
       "        <tr>\n",
       "            <td>Peanut Butter World       </td> <td>460            </td> <td>32     </td> <td>190        </td> <td>37               </td> <td>7          </td> <td>chocolate     </td>\n",
       "        </tr>\n",
       "        <tr>\n",
       "            <td>Oat of This Swirled       </td> <td>420            </td> <td>26     </td> <td>150        </td> <td>41               </td> <td>5          </td> <td>vanilla       </td>\n",
       "        </tr>\n",
       "        <tr>\n",
       "            <td>Everything But The...     </td> <td>420            </td> <td>26     </td> <td>90         </td> <td>40               </td> <td>7          </td> <td>chocolate     </td>\n",
       "        </tr>\n",
       "        <tr>\n",
       "            <td>Gimmie S'more             </td> <td>410            </td> <td>24     </td> <td>180        </td> <td>45               </td> <td>6          </td> <td>vanilla       </td>\n",
       "        </tr>\n",
       "        <tr>\n",
       "            <td>New York Super Fudge Chunk</td> <td>410            </td> <td>26     </td> <td>70         </td> <td>39               </td> <td>7          </td> <td>chocolate     </td>\n",
       "        </tr>\n",
       "        <tr>\n",
       "            <td>Chunky Monkey             </td> <td>400            </td> <td>25     </td> <td>50         </td> <td>41               </td> <td>6          </td> <td>vanilla       </td>\n",
       "        </tr>\n",
       "        <tr>\n",
       "            <td>The Tonight Dough         </td> <td>400            </td> <td>22     </td> <td>135        </td> <td>47               </td> <td>6          </td> <td>vanilla       </td>\n",
       "        </tr>\n",
       "        <tr>\n",
       "            <td>Urban Bourbon             </td> <td>400            </td> <td>22     </td> <td>95         </td> <td>44               </td> <td>7          </td> <td>caramal       </td>\n",
       "        </tr>\n",
       "    </tbody>\n",
       "</table>"
      ],
      "text/plain": [
       "Flavor                     | Calories (kcal) | fat (g) | sodium (mg) | carbohydrates (g) | protein (g) | base ice cream\n",
       "Peanut Butter Cup          | 470             | 33      | 180         | 36                | 9           | peanut butter\n",
       "Chubby Hubby               | 460             | 28      | 220         | 35                | 10          | vanilla\n",
       "Peanut Butter World        | 460             | 32      | 190         | 37                | 7           | chocolate\n",
       "Oat of This Swirled        | 420             | 26      | 150         | 41                | 5           | vanilla\n",
       "Everything But The...      | 420             | 26      | 90          | 40                | 7           | chocolate\n",
       "Gimmie S'more              | 410             | 24      | 180         | 45                | 6           | vanilla\n",
       "New York Super Fudge Chunk | 410             | 26      | 70          | 39                | 7           | chocolate\n",
       "Chunky Monkey              | 400             | 25      | 50          | 41                | 6           | vanilla\n",
       "The Tonight Dough          | 400             | 22      | 135         | 47                | 6           | vanilla\n",
       "Urban Bourbon              | 400             | 22      | 95          | 44                | 7           | caramal"
      ]
     },
     "execution_count": 3,
     "metadata": {},
     "output_type": "execute_result"
    }
   ],
   "source": [
    "IC_data = Table.read_table('data/BenJerryData.csv')\n",
    "IC_data"
   ]
  },
  {
   "cell_type": "markdown",
   "id": "ed9403fb-96fa-48c7-8f0b-2eed61d3988b",
   "metadata": {},
   "source": [
    "### .group"
   ]
  },
  {
   "cell_type": "markdown",
   "id": "d8b1dcf5-af8e-4a24-9f92-1806ab02b3da",
   "metadata": {},
   "source": [
    "Look at base ice creams"
   ]
  },
  {
   "cell_type": "code",
   "execution_count": 4,
   "id": "7fa67889-4f98-44d6-abff-c9941a75a22c",
   "metadata": {
    "tags": []
   },
   "outputs": [
    {
     "data": {
      "text/html": [
       "<table border=\"1\" class=\"dataframe\">\n",
       "    <thead>\n",
       "        <tr>\n",
       "            <th>base ice cream</th> <th>count</th>\n",
       "        </tr>\n",
       "    </thead>\n",
       "    <tbody>\n",
       "        <tr>\n",
       "            <td>caramal       </td> <td>1    </td>\n",
       "        </tr>\n",
       "        <tr>\n",
       "            <td>chocolate     </td> <td>3    </td>\n",
       "        </tr>\n",
       "        <tr>\n",
       "            <td>peanut butter </td> <td>1    </td>\n",
       "        </tr>\n",
       "        <tr>\n",
       "            <td>vanilla       </td> <td>5    </td>\n",
       "        </tr>\n",
       "    </tbody>\n",
       "</table>"
      ],
      "text/plain": [
       "base ice cream | count\n",
       "caramal        | 1\n",
       "chocolate      | 3\n",
       "peanut butter  | 1\n",
       "vanilla        | 5"
      ]
     },
     "execution_count": 4,
     "metadata": {},
     "output_type": "execute_result"
    }
   ],
   "source": [
    "IC_data.group('base ice cream')"
   ]
  },
  {
   "cell_type": "code",
   "execution_count": 5,
   "id": "b6b14dab-22fa-47ba-9292-62ee65e0513d",
   "metadata": {
    "tags": []
   },
   "outputs": [
    {
     "data": {
      "image/png": "[encoded data removed]",
      "text/plain": [
       "<Figure size 600x400 with 1 Axes>"
      ]
     },
     "metadata": {},
     "output_type": "display_data"
    }
   ],
   "source": [
    "IC_data.group('base ice cream').sort('count', descending=True).barh('base ice cream')"
   ]
  },
  {
   "cell_type": "code",
   "execution_count": 6,
   "id": "32989275-b7c2-46ec-b68c-7fd72f93f27e",
   "metadata": {
    "tags": []
   },
   "outputs": [
    {
     "data": {
      "text/html": [
       "<table border=\"1\" class=\"dataframe\">\n",
       "    <thead>\n",
       "        <tr>\n",
       "            <th>fat (g)</th> <th>Chubby Hubby</th> <th>Chunky Monkey</th> <th>Everything But The...</th> <th>Gimmie S'more</th> <th>New York Super Fudge Chunk</th> <th>Oat of This Swirled</th> <th>Peanut Butter Cup</th> <th>Peanut Butter World</th> <th>The Tonight Dough</th> <th>Urban Bourbon</th>\n",
       "        </tr>\n",
       "    </thead>\n",
       "    <tbody>\n",
       "        <tr>\n",
       "            <td>22     </td> <td>0           </td> <td>0            </td> <td>0                    </td> <td>0            </td> <td>0                         </td> <td>0                  </td> <td>0                </td> <td>0                  </td> <td>1                </td> <td>1            </td>\n",
       "        </tr>\n",
       "        <tr>\n",
       "            <td>24     </td> <td>0           </td> <td>0            </td> <td>0                    </td> <td>1            </td> <td>0                         </td> <td>0                  </td> <td>0                </td> <td>0                  </td> <td>0                </td> <td>0            </td>\n",
       "        </tr>\n",
       "        <tr>\n",
       "            <td>25     </td> <td>0           </td> <td>1            </td> <td>0                    </td> <td>0            </td> <td>0                         </td> <td>0                  </td> <td>0                </td> <td>0                  </td> <td>0                </td> <td>0            </td>\n",
       "        </tr>\n",
       "        <tr>\n",
       "            <td>26     </td> <td>0           </td> <td>0            </td> <td>1                    </td> <td>0            </td> <td>1                         </td> <td>1                  </td> <td>0                </td> <td>0                  </td> <td>0                </td> <td>0            </td>\n",
       "        </tr>\n",
       "        <tr>\n",
       "            <td>28     </td> <td>1           </td> <td>0            </td> <td>0                    </td> <td>0            </td> <td>0                         </td> <td>0                  </td> <td>0                </td> <td>0                  </td> <td>0                </td> <td>0            </td>\n",
       "        </tr>\n",
       "        <tr>\n",
       "            <td>32     </td> <td>0           </td> <td>0            </td> <td>0                    </td> <td>0            </td> <td>0                         </td> <td>0                  </td> <td>0                </td> <td>1                  </td> <td>0                </td> <td>0            </td>\n",
       "        </tr>\n",
       "        <tr>\n",
       "            <td>33     </td> <td>0           </td> <td>0            </td> <td>0                    </td> <td>0            </td> <td>0                         </td> <td>0                  </td> <td>1                </td> <td>0                  </td> <td>0                </td> <td>0            </td>\n",
       "        </tr>\n",
       "    </tbody>\n",
       "</table>"
      ],
      "text/plain": [
       "fat (g) | Chubby Hubby | Chunky Monkey | Everything But The... | Gimmie S'more | New York Super Fudge Chunk | Oat of This Swirled | Peanut Butter Cup | Peanut Butter World | The Tonight Dough | Urban Bourbon\n",
       "22      | 0            | 0             | 0                     | 0             | 0                          | 0                   | 0                 | 0                   | 1                 | 1\n",
       "24      | 0            | 0             | 0                     | 1             | 0                          | 0                   | 0                 | 0                   | 0                 | 0\n",
       "25      | 0            | 1             | 0                     | 0             | 0                          | 0                   | 0                 | 0                   | 0                 | 0\n",
       "26      | 0            | 0             | 1                     | 0             | 1                          | 1                   | 0                 | 0                   | 0                 | 0\n",
       "28      | 1            | 0             | 0                     | 0             | 0                          | 0                   | 0                 | 0                   | 0                 | 0\n",
       "32      | 0            | 0             | 0                     | 0             | 0                          | 0                   | 0                 | 1                   | 0                 | 0\n",
       "33      | 0            | 0             | 0                     | 0             | 0                          | 0                   | 1                 | 0                   | 0                 | 0"
      ]
     },
     "execution_count": 6,
     "metadata": {},
     "output_type": "execute_result"
    }
   ],
   "source": [
    "IC_data.pivot('Flavor','fat (g)')"
   ]
  },
  {
   "cell_type": "code",
   "execution_count": 7,
   "id": "c289af72-c71a-4dbb-ba36-99d378f48b1e",
   "metadata": {
    "tags": []
   },
   "outputs": [
    {
     "data": {
      "text/html": [
       "<table border=\"1\" class=\"dataframe\">\n",
       "    <thead>\n",
       "        <tr>\n",
       "            <th>Flavor</th> <th>caramal</th> <th>chocolate</th> <th>peanut butter</th> <th>vanilla</th>\n",
       "        </tr>\n",
       "    </thead>\n",
       "    <tbody>\n",
       "        <tr>\n",
       "            <td>Chubby Hubby              </td> <td>0      </td> <td>0        </td> <td>0            </td> <td>220    </td>\n",
       "        </tr>\n",
       "        <tr>\n",
       "            <td>Chunky Monkey             </td> <td>0      </td> <td>0        </td> <td>0            </td> <td>50     </td>\n",
       "        </tr>\n",
       "        <tr>\n",
       "            <td>Everything But The...     </td> <td>0      </td> <td>90       </td> <td>0            </td> <td>0      </td>\n",
       "        </tr>\n",
       "        <tr>\n",
       "            <td>Gimmie S'more             </td> <td>0      </td> <td>0        </td> <td>0            </td> <td>180    </td>\n",
       "        </tr>\n",
       "        <tr>\n",
       "            <td>New York Super Fudge Chunk</td> <td>0      </td> <td>70       </td> <td>0            </td> <td>0      </td>\n",
       "        </tr>\n",
       "        <tr>\n",
       "            <td>Oat of This Swirled       </td> <td>0      </td> <td>0        </td> <td>0            </td> <td>150    </td>\n",
       "        </tr>\n",
       "        <tr>\n",
       "            <td>Peanut Butter Cup         </td> <td>0      </td> <td>0        </td> <td>180          </td> <td>0      </td>\n",
       "        </tr>\n",
       "        <tr>\n",
       "            <td>Peanut Butter World       </td> <td>0      </td> <td>190      </td> <td>0            </td> <td>0      </td>\n",
       "        </tr>\n",
       "        <tr>\n",
       "            <td>The Tonight Dough         </td> <td>0      </td> <td>0        </td> <td>0            </td> <td>135    </td>\n",
       "        </tr>\n",
       "        <tr>\n",
       "            <td>Urban Bourbon             </td> <td>95     </td> <td>0        </td> <td>0            </td> <td>0      </td>\n",
       "        </tr>\n",
       "    </tbody>\n",
       "</table>"
      ],
      "text/plain": [
       "Flavor                     | caramal | chocolate | peanut butter | vanilla\n",
       "Chubby Hubby               | 0       | 0         | 0             | 220\n",
       "Chunky Monkey              | 0       | 0         | 0             | 50\n",
       "Everything But The...      | 0       | 90        | 0             | 0\n",
       "Gimmie S'more              | 0       | 0         | 0             | 180\n",
       "New York Super Fudge Chunk | 0       | 70        | 0             | 0\n",
       "Oat of This Swirled        | 0       | 0         | 0             | 150\n",
       "Peanut Butter Cup          | 0       | 0         | 180           | 0\n",
       "Peanut Butter World        | 0       | 190       | 0             | 0\n",
       "The Tonight Dough          | 0       | 0         | 0             | 135\n",
       "Urban Bourbon              | 95      | 0         | 0             | 0"
      ]
     },
     "execution_count": 7,
     "metadata": {},
     "output_type": "execute_result"
    }
   ],
   "source": [
    "IC_data.pivot('base ice cream', 'Flavor', values='sodium (mg)', collect=max)"
   ]
  },
  {
   "cell_type": "markdown",
   "id": "29f39b3a-23dc-45ec-bfe2-e1c9b8228a33",
   "metadata": {},
   "source": [
    "### Now you try\n",
    "Group on 'base ice cream' again, but instead of summarizing with the default, which is count, use max."
   ]
  },
  {
   "cell_type": "code",
   "execution_count": null,
   "id": "5b9278e0-0f52-4bbf-9147-a2e186bcdd8f",
   "metadata": {
    "tags": []
   },
   "outputs": [],
   "source": []
  },
  {
   "cell_type": "markdown",
   "id": "3ccc541e-47ba-4bd1-ac6a-556ceb519bed",
   "metadata": {},
   "source": [
    " Make a horizontal bar chart with ice cream flavors in descending order of salt content"
   ]
  },
  {
   "cell_type": "code",
   "execution_count": null,
   "id": "646c7bb9-d32a-4b3f-8bb9-f245ac3094b2",
   "metadata": {
    "tags": []
   },
   "outputs": [],
   "source": []
  },
  {
   "cell_type": "markdown",
   "id": "68d4172f-baf5-4906-860a-b7756273fd46",
   "metadata": {},
   "source": [
    "Now create a pivot table with 'base ice cream' and 'Flavor', but this time set values to calories."
   ]
  },
  {
   "cell_type": "code",
   "execution_count": null,
   "id": "1fa5656c-266b-424c-9c3f-2b7ce98ff867",
   "metadata": {
    "tags": []
   },
   "outputs": [],
   "source": []
  },
  {
   "cell_type": "markdown",
   "id": "fd970f1f-3d22-4384-8ea6-9f7c44e7826d",
   "metadata": {},
   "source": [
    "Make a scatter plot of the original table, plotting fat vs. calories. Include a best-fit straight line. Do you think there is a strong correlation?"
   ]
  },
  {
   "cell_type": "code",
   "execution_count": null,
   "id": "f537b7b3-7174-414f-9b2a-811ce83f4efa",
   "metadata": {
    "tags": []
   },
   "outputs": [],
   "source": []
  }
 ],
 "metadata": {
  "kernelspec": {
   "display_name": "Python 3 (ipykernel)",
   "language": "python",
   "name": "python3"
  },
  "language_info": {
   "codemirror_mode": {
    "name": "ipython",
    "version": 3
   },
   "file_extension": ".py",
   "mimetype": "text/x-python",
   "name": "python",
   "nbconvert_exporter": "python",
   "pygments_lexer": "ipython3",
   "version": "3.10.11"
  }
 },
 "nbformat": 4,
 "nbformat_minor": 5
}
