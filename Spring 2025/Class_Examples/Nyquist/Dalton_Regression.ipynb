{
 "cells": [
  {
   "cell_type": "markdown",
   "id": "2f9df594-c7ce-488d-9492-778d2bc9537d",
   "metadata": {},
   "source": [
    "# The Original Regression Example"
   ]
  },
  {
   "cell_type": "code",
   "execution_count": null,
   "id": "34dea1d4-630a-4847-a357-9bed6f3d7d2b",
   "metadata": {},
   "outputs": [],
   "source": [
    "# Import Numpy and Datascience modules.\n",
    "import numpy as np\n",
    "from datascience import *\n",
    "\n",
    "# Plotting \n",
    "import matplotlib\n",
    "%matplotlib inline\n",
    "import matplotlib.pyplot as plt"
   ]
  },
  {
   "cell_type": "code",
   "execution_count": null,
   "id": "3ee76ab7-0e50-4933-a695-bbc4b6a1e7f6",
   "metadata": {},
   "outputs": [],
   "source": [
    "heights = Table().read_table(\"data/family_heights.csv\")\n",
    "heights"
   ]
  },
  {
   "cell_type": "markdown",
   "id": "13c6a4ab-bbe0-43ee-b9c4-d4a690bcf14f",
   "metadata": {},
   "source": [
    "On average, the fathers were taller than the mothers."
   ]
  },
  {
   "cell_type": "code",
   "execution_count": null,
   "id": "76eb9c63-7316-4caf-b027-5f7d0c245220",
   "metadata": {},
   "outputs": [],
   "source": [
    "heights.select(\"father\", \"mother\").hist(bins=20)"
   ]
  },
  {
   "cell_type": "markdown",
   "id": "ea8bf8cd-f7da-437f-b244-3ab9ef237715",
   "metadata": {},
   "source": [
    "Dalton used a factor of 1.08 times the mother's height averaged with the fathers height to calculate the \"midparent height.\"\n",
    "\n",
    "So the prediction of your height would be based on your mid-parent height\n",
    "\n",
    "$$ (dad + 1.08(mom))\\over 2 $$"
   ]
  },
  {
   "cell_type": "code",
   "execution_count": null,
   "id": "35a302bb-2a23-4e39-9906-41858e63f8a0",
   "metadata": {},
   "outputs": [],
   "source": [
    "heights_adjusted = heights.with_column(\"mother_adjusted\", heights.column(\"mother\") * 1.08)\n",
    "heights_adjusted.select(\"father\", \"mother_adjusted\").hist(bins=20)"
   ]
  },
  {
   "cell_type": "code",
   "execution_count": null,
   "id": "f6cb776f-7f61-433f-bdd4-d41b91f392cc",
   "metadata": {},
   "outputs": [],
   "source": [
    "heights.scatter(\"midparentHeight\", \"childHeight\")"
   ]
  },
  {
   "cell_type": "code",
   "execution_count": null,
   "id": "65210e83-1f66-4890-9580-a311d1a70e36",
   "metadata": {},
   "outputs": [],
   "source": [
    "def standard_units(xyz):\n",
    "    \"Convert any array of numbers to standard units.\"\n",
    "    return (xyz - np.mean(xyz))/np.std(xyz)  "
   ]
  },
  {
   "cell_type": "code",
   "execution_count": null,
   "id": "4d03568a-c20e-4299-aa22-55229b9977e3",
   "metadata": {},
   "outputs": [],
   "source": [
    "def correlation(t, label_x, label_y):\n",
    "    return np.mean(standard_units(t.column(label_x))*standard_units(t.column(label_y)))\n",
    "\n",
    "def slope(t, label_x, label_y):\n",
    "    r = correlation(t, label_x, label_y)\n",
    "    return r*np.std(t.column(label_y))/np.std(t.column(label_x))\n",
    "\n",
    "def intercept(t, label_x, label_y):\n",
    "    return np.mean(t.column(label_y)) - slope(t, label_x, label_y)*np.mean(t.column(label_x))"
   ]
  },
  {
   "cell_type": "code",
   "execution_count": null,
   "id": "ec6d21e7-7e2f-4a76-a166-a62b997cb726",
   "metadata": {},
   "outputs": [],
   "source": [
    "def fit(table, x, y):\n",
    "    \"\"\"Return the height of the regression line at each x value.\"\"\"\n",
    "    a = slope(table, x, y)\n",
    "    b = intercept(table, x, y)\n",
    "    return a * table.column(x) + b"
   ]
  },
  {
   "cell_type": "code",
   "execution_count": null,
   "id": "3955c330-77e7-40a2-9a1d-3a4960909cf3",
   "metadata": {},
   "outputs": [],
   "source": [
    "heights_fitted = heights.with_column('Fitted', fit(heights, 'midparentHeight', 'childHeight'))\n",
    "heights_fitted"
   ]
  },
  {
   "cell_type": "code",
   "execution_count": null,
   "id": "945449cf-fc16-4f74-aa8e-b40f1aa71b48",
   "metadata": {},
   "outputs": [],
   "source": [
    "heights_fitted.select(\"midparentHeight\", \"childHeight\", \"Fitted\").scatter(\"midparentHeight\")"
   ]
  },
  {
   "cell_type": "code",
   "execution_count": null,
   "id": "bce44969-cc35-4e02-bd02-e85bd4716abb",
   "metadata": {},
   "outputs": [],
   "source": [
    "heights.select(\"midparentHeight\", \"childHeight\").scatter(\"midparentHeight\", fit_line=True)"
   ]
  },
  {
   "cell_type": "code",
   "execution_count": null,
   "id": "e9401964-9f0d-455f-8d15-e65d46bca6ee",
   "metadata": {},
   "outputs": [],
   "source": [
    "r = correlation(heights, \"midparentHeight\", \"childHeight\")\n",
    "r"
   ]
  },
  {
   "cell_type": "code",
   "execution_count": null,
   "id": "5891d13c-2b59-482a-a68c-db0515240dc1",
   "metadata": {},
   "outputs": [],
   "source": [
    "r**2"
   ]
  },
  {
   "cell_type": "markdown",
   "id": "a26065c8-0f7b-4f61-a34d-c2d31ac6d1ac",
   "metadata": {},
   "source": [
    "## Boys only"
   ]
  },
  {
   "cell_type": "code",
   "execution_count": null,
   "id": "0dd2eba5-e41e-4d71-8078-6c150fcc95b9",
   "metadata": {},
   "outputs": [],
   "source": [
    "boys = heights.where(\"sex\", are.equal_to(\"male\"))\n",
    "boys.show(3)"
   ]
  },
  {
   "cell_type": "code",
   "execution_count": null,
   "id": "4aa04e0c-2ef4-43ba-8bf2-bea296f44f48",
   "metadata": {},
   "outputs": [],
   "source": [
    "boys_fitted = boys.with_column('Fitted', fit(boys, 'midparentHeight', 'childHeight'))\n",
    "boys_fitted.show(3)"
   ]
  },
  {
   "cell_type": "code",
   "execution_count": null,
   "id": "58d27a8a-6120-4e48-8595-b61c4480438b",
   "metadata": {},
   "outputs": [],
   "source": [
    "boys.select(\"midparentHeight\", \"childHeight\").scatter(\"midparentHeight\", fit_line=True)"
   ]
  },
  {
   "cell_type": "code",
   "execution_count": null,
   "id": "0615026e-6778-4587-9392-5fe467126731",
   "metadata": {},
   "outputs": [],
   "source": [
    "r = correlation(boys, \"midparentHeight\", \"childHeight\")\n",
    "r"
   ]
  },
  {
   "cell_type": "code",
   "execution_count": null,
   "id": "2a8e6490-ca2b-4064-a904-89912831757d",
   "metadata": {},
   "outputs": [],
   "source": [
    "r**2"
   ]
  },
  {
   "cell_type": "code",
   "execution_count": null,
   "id": "38d2abfd-135a-411f-95c1-0e5fc5b42b72",
   "metadata": {},
   "outputs": [],
   "source": [
    "girls = heights.where(\"sex\", are.equal_to(\"female\"))\n",
    "girls_fitted = girls.with_column('Fitted', fit(girls, 'midparentHeight', 'childHeight'))\n",
    "girls.select(\"midparentHeight\", \"childHeight\").scatter(\"midparentHeight\", fit_line=True)"
   ]
  },
  {
   "cell_type": "code",
   "execution_count": null,
   "id": "727211f4-dea3-4990-813f-338ea652ef14",
   "metadata": {},
   "outputs": [],
   "source": [
    "r = correlation(girls, \"midparentHeight\", \"childHeight\")\n",
    "r"
   ]
  },
  {
   "cell_type": "code",
   "execution_count": null,
   "id": "32d55c09-682d-4722-9dcc-e3b5f25832e2",
   "metadata": {},
   "outputs": [],
   "source": [
    "r**2"
   ]
  },
  {
   "cell_type": "markdown",
   "id": "2c0a74d7-5646-409d-a081-351c7b0ad168",
   "metadata": {},
   "source": [
    "## Try the prediction on yourself!"
   ]
  },
  {
   "cell_type": "code",
   "execution_count": null,
   "id": "fed1c615-041d-431a-8639-855430dfbe85",
   "metadata": {},
   "outputs": [],
   "source": [
    "# If you are male\n",
    "\n",
    "moms_height_inches = 65.5\n",
    "dads_height_inches = 70\n",
    "midparent = (dads_height_inches + 1.08 * moms_height_inches) / 2\n",
    "m = slope(boys, \"midparentHeight\", \"childHeight\")\n",
    "b = intercept(boys, \"midparentHeight\", \"childHeight\")\n",
    "\n",
    "prediction = m * midparent + b\n",
    "print(f\"Your midparent height is {midparent:.1f} inches.\")\n",
    "print(f\"Your predicted height is {prediction:.1f} inches.\")\n",
    "print(f\"Equivelently, your predicted height is {int(prediction/12)}ft {prediction%12:.1f} in.\") "
   ]
  },
  {
   "cell_type": "code",
   "execution_count": null,
   "id": "f1d3c241-2f40-433c-bd09-eb86379eb2df",
   "metadata": {},
   "outputs": [],
   "source": [
    "# If you are female\n",
    "\n",
    "moms_height_inches = 65.5\n",
    "dads_height_inches = 70\n",
    "midparent = (dads_height_inches + 1.08 * moms_height_inches) / 2\n",
    "m = slope(girls, \"midparentHeight\", \"childHeight\")\n",
    "b = intercept(girls, \"midparentHeight\", \"childHeight\")\n",
    "\n",
    "prediction = m * midparent + b\n",
    "print(f\"Your midparent height is {midparent:.1f} inches.\")\n",
    "print(f\"Your predicted height is {prediction:.1f} inches.\")\n",
    "print(f\"Equivelently, your predicted height is {int(prediction/12)}ft {prediction%12:.1f} in.\") "
   ]
  },
  {
   "cell_type": "markdown",
   "id": "c262bd72-5bc6-42d7-9518-0b2315fc4f88",
   "metadata": {},
   "source": [
    "## History\n",
    "\"In 1886, Galton published a paper called Regression towards mediocrity in hereditary stature.[3] In the paper, he observed that extreme characteristics (e.g., height) in parents are not passed on completely to their offspring. Rather, the characteristics in the offspring regress towards a mediocre point. Today, this point is called the mean. By measuring the heights of hundreds of people, he was able to quantify regression to the mean, and estimate the size of the effect. Galton wrote that, “the average regression of the offspring is a constant fraction of their respective mid-parental deviations”. This means that the difference between a child and its parents for some characteristic is proportional to its parents' deviation from typical people in the population. If its parents are each two inches taller than the averages for men and women, on average, the child will be shorter than its parents by some factor times two inches. Today, this factor has been calculated to be one minus the regression coefficient. For height, Galton estimated this coefficient to be about two thirds: the height of an individual will measure around a midpoint that is two thirds of the parents’ deviation from the population average.\" --[Wikipedia](https://simple.wikipedia.org/wiki/Regression_toward_the_mean#:~:text=Regression%20toward%20the%20mean%20simply,parents%20tended%20to%20be%20taller.)\n",
    "\n",
    "![Regression](data/midparent.png)"
   ]
  },
  {
   "cell_type": "code",
   "execution_count": null,
   "id": "e4fa804d-224b-4300-8e2b-d6d2ad07041d",
   "metadata": {},
   "outputs": [],
   "source": []
  }
 ],
 "metadata": {
  "kernelspec": {
   "display_name": "Python 3 (ipykernel)",
   "language": "python",
   "name": "python3"
  },
  "language_info": {
   "codemirror_mode": {
    "name": "ipython",
    "version": 3
   },
   "file_extension": ".py",
   "mimetype": "text/x-python",
   "name": "python",
   "nbconvert_exporter": "python",
   "pygments_lexer": "ipython3",
   "version": "3.11.6"
  }
 },
 "nbformat": 4,
 "nbformat_minor": 5
}
