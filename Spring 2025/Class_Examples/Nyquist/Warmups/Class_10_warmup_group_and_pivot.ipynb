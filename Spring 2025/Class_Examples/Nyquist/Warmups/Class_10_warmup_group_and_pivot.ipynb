{
 "cells": [
  {
   "cell_type": "markdown",
   "id": "66132e36-6293-4459-9d0a-c715716dbecf",
   "metadata": {},
   "source": [
    "# Class 10: Practice with .group() and .pivot()"
   ]
  },
  {
   "cell_type": "code",
   "execution_count": 1,
   "id": "258e5acd-06d5-48ce-8892-23da344a2234",
   "metadata": {
    "tags": []
   },
   "outputs": [],
   "source": [
    "from datascience import *\n",
    "import numpy as np\n",
    "# import for plotting\n",
    "%matplotlib inline\n",
    "import matplotlib.pyplot as plt\n",
    "plt.style.use('fivethirtyeight')\n",
    "# Fix for datascience plots\n",
    "import collections as collections\n",
    "import collections.abc as abc\n",
    "collections.Iterable = abc.Iterable"
   ]
  },
  {
   "cell_type": "markdown",
   "id": "31b755c1-5f43-4d0b-9f11-213891eb3959",
   "metadata": {},
   "source": [
    "To make group and pivot operations as easy to follow as possible, we will start with super simple table of ice cream cone flavors"
   ]
  },
  {
   "cell_type": "code",
   "execution_count": 2,
   "id": "ee143464-a7bc-4560-adef-73d9ba1a492d",
   "metadata": {
    "tags": []
   },
   "outputs": [
    {
     "data": {
      "text/html": [
       "<table border=\"1\" class=\"dataframe\">\n",
       "    <thead>\n",
       "        <tr>\n",
       "            <th>Flavor</th> <th>Color</th> <th>Price</th>\n",
       "        </tr>\n",
       "    </thead>\n",
       "    <tbody>\n",
       "        <tr>\n",
       "            <td>strawberry</td> <td>pink       </td> <td>3.55 </td>\n",
       "        </tr>\n",
       "        <tr>\n",
       "            <td>chocolate </td> <td>light brown</td> <td>4.75 </td>\n",
       "        </tr>\n",
       "        <tr>\n",
       "            <td>chocolate </td> <td>dark brown </td> <td>5.25 </td>\n",
       "        </tr>\n",
       "        <tr>\n",
       "            <td>strawberry</td> <td>pink       </td> <td>5.25 </td>\n",
       "        </tr>\n",
       "        <tr>\n",
       "            <td>chocolate </td> <td>dark brown </td> <td>5.25 </td>\n",
       "        </tr>\n",
       "        <tr>\n",
       "            <td>bubblegum </td> <td>pink       </td> <td>4.75 </td>\n",
       "        </tr>\n",
       "    </tbody>\n",
       "</table>"
      ],
      "text/plain": [
       "Flavor     | Color       | Price\n",
       "strawberry | pink        | 3.55\n",
       "chocolate  | light brown | 4.75\n",
       "chocolate  | dark brown  | 5.25\n",
       "strawberry | pink        | 5.25\n",
       "chocolate  | dark brown  | 5.25\n",
       "bubblegum  | pink        | 4.75"
      ]
     },
     "execution_count": 2,
     "metadata": {},
     "output_type": "execute_result"
    }
   ],
   "source": [
    "cones = Table().with_columns(\n",
    "    'Flavor', make_array('strawberry', 'chocolate', 'chocolate', 'strawberry', 'chocolate', 'bubblegum'),\n",
    "    'Color', make_array('pink', 'light brown', 'dark brown', 'pink', 'dark brown', 'pink'),\n",
    "    'Price', make_array(3.55, 4.75, 5.25, 5.25, 5.25, 4.75)\n",
    ")\n",
    "cones"
   ]
  },
  {
   "cell_type": "markdown",
   "id": "2c88fed8-d350-48f3-aa00-309062d280e8",
   "metadata": {},
   "source": [
    "# Group"
   ]
  },
  {
   "cell_type": "markdown",
   "id": "c00fb2e0-67d9-4ac3-be01-4fc987d3de35",
   "metadata": {},
   "source": [
    "Let's group the table by Flavor"
   ]
  },
  {
   "cell_type": "code",
   "execution_count": 3,
   "id": "b7de57d0-cd2d-4749-a875-608a2c777168",
   "metadata": {
    "tags": []
   },
   "outputs": [
    {
     "data": {
      "text/html": [
       "<table border=\"1\" class=\"dataframe\">\n",
       "    <thead>\n",
       "        <tr>\n",
       "            <th>Flavor</th> <th>count</th>\n",
       "        </tr>\n",
       "    </thead>\n",
       "    <tbody>\n",
       "        <tr>\n",
       "            <td>bubblegum </td> <td>1    </td>\n",
       "        </tr>\n",
       "        <tr>\n",
       "            <td>chocolate </td> <td>3    </td>\n",
       "        </tr>\n",
       "        <tr>\n",
       "            <td>strawberry</td> <td>2    </td>\n",
       "        </tr>\n",
       "    </tbody>\n",
       "</table>"
      ],
      "text/plain": [
       "Flavor     | count\n",
       "bubblegum  | 1\n",
       "chocolate  | 3\n",
       "strawberry | 2"
      ]
     },
     "execution_count": 3,
     "metadata": {},
     "output_type": "execute_result"
    }
   ],
   "source": [
    "cones.group(\"Flavor\")"
   ]
  },
  {
   "cell_type": "markdown",
   "id": "3d50f90e-5357-4d82-a3e3-d601a0bf4f89",
   "metadata": {},
   "source": [
    "By default the rows with the same flavor are simply counted. \n",
    "\n",
    "But you can pass a function to use instead of count to apply to members of each group. Suppose we wanted to know the maximum price in each group."
   ]
  },
  {
   "cell_type": "code",
   "execution_count": 4,
   "id": "bc8fa3e6-1d43-4159-9e47-d0afe35b7a8f",
   "metadata": {
    "tags": []
   },
   "outputs": [
    {
     "data": {
      "text/html": [
       "<table border=\"1\" class=\"dataframe\">\n",
       "    <thead>\n",
       "        <tr>\n",
       "            <th>Flavor</th> <th>Color amax</th> <th>Price amax</th>\n",
       "        </tr>\n",
       "    </thead>\n",
       "    <tbody>\n",
       "        <tr>\n",
       "            <td>bubblegum </td> <td>          </td> <td>4.75      </td>\n",
       "        </tr>\n",
       "        <tr>\n",
       "            <td>chocolate </td> <td>          </td> <td>5.25      </td>\n",
       "        </tr>\n",
       "        <tr>\n",
       "            <td>strawberry</td> <td>          </td> <td>5.25      </td>\n",
       "        </tr>\n",
       "    </tbody>\n",
       "</table>"
      ],
      "text/plain": [
       "Flavor     | Color amax | Price amax\n",
       "bubblegum  |            | 4.75\n",
       "chocolate  |            | 5.25\n",
       "strawberry |            | 5.25"
      ]
     },
     "execution_count": 4,
     "metadata": {},
     "output_type": "execute_result"
    }
   ],
   "source": [
    "cones.group(\"Flavor\", np.max)"
   ]
  },
  {
   "cell_type": "markdown",
   "id": "f38a6b01-2931-4781-8793-f5b7328eeb41",
   "metadata": {},
   "source": [
    "Notice that ther were three chocolate flavored cones in the original table. We grouped by flavor and used np.max to get the most expensive in each flavor category.\n",
    "\n",
    "## Challege 1\n",
    "Find the average price for the cones of each flavor."
   ]
  },
  {
   "cell_type": "code",
   "execution_count": null,
   "id": "5eb8dfa0-9cf8-4e06-a3aa-dc70ae71dfad",
   "metadata": {},
   "outputs": [],
   "source": []
  },
  {
   "cell_type": "markdown",
   "id": "2e12f663-ba9e-483f-b6dd-6b16b6224450",
   "metadata": {},
   "source": [
    "## Challenge 2\n",
    "Instead of grouping by Flavor, group by Color and find the lowest price in each color category."
   ]
  },
  {
   "cell_type": "code",
   "execution_count": null,
   "id": "49863275-7d4f-430a-b6ee-4b47f59d212b",
   "metadata": {},
   "outputs": [],
   "source": []
  },
  {
   "cell_type": "markdown",
   "id": "cd388459-ba88-4351-b0df-f5eff4b8af5a",
   "metadata": {},
   "source": [
    "# Pivot\n",
    "Start with the same table."
   ]
  },
  {
   "cell_type": "code",
   "execution_count": 5,
   "id": "828fd2e8-0ad7-4e4e-b49a-933d2f79e0fb",
   "metadata": {
    "tags": []
   },
   "outputs": [
    {
     "data": {
      "text/html": [
       "<table border=\"1\" class=\"dataframe\">\n",
       "    <thead>\n",
       "        <tr>\n",
       "            <th>Flavor</th> <th>Color</th> <th>Price</th>\n",
       "        </tr>\n",
       "    </thead>\n",
       "    <tbody>\n",
       "        <tr>\n",
       "            <td>strawberry</td> <td>pink       </td> <td>3.55 </td>\n",
       "        </tr>\n",
       "        <tr>\n",
       "            <td>chocolate </td> <td>light brown</td> <td>4.75 </td>\n",
       "        </tr>\n",
       "        <tr>\n",
       "            <td>chocolate </td> <td>dark brown </td> <td>5.25 </td>\n",
       "        </tr>\n",
       "        <tr>\n",
       "            <td>strawberry</td> <td>pink       </td> <td>5.25 </td>\n",
       "        </tr>\n",
       "        <tr>\n",
       "            <td>chocolate </td> <td>dark brown </td> <td>5.25 </td>\n",
       "        </tr>\n",
       "        <tr>\n",
       "            <td>bubblegum </td> <td>pink       </td> <td>4.75 </td>\n",
       "        </tr>\n",
       "    </tbody>\n",
       "</table>"
      ],
      "text/plain": [
       "Flavor     | Color       | Price\n",
       "strawberry | pink        | 3.55\n",
       "chocolate  | light brown | 4.75\n",
       "chocolate  | dark brown  | 5.25\n",
       "strawberry | pink        | 5.25\n",
       "chocolate  | dark brown  | 5.25\n",
       "bubblegum  | pink        | 4.75"
      ]
     },
     "execution_count": 5,
     "metadata": {},
     "output_type": "execute_result"
    }
   ],
   "source": [
    "cones"
   ]
  },
  {
   "cell_type": "markdown",
   "id": "fc0743ec-90da-420b-b13b-58a2b0c18fbe",
   "metadata": {},
   "source": [
    "Now instead of grouping we will pivot."
   ]
  },
  {
   "cell_type": "code",
   "execution_count": 6,
   "id": "371b22af-7192-4dd0-a62f-b4fdb64bdc53",
   "metadata": {
    "tags": []
   },
   "outputs": [
    {
     "data": {
      "text/html": [
       "<table border=\"1\" class=\"dataframe\">\n",
       "    <thead>\n",
       "        <tr>\n",
       "            <th>Color</th> <th>bubblegum</th> <th>chocolate</th> <th>strawberry</th>\n",
       "        </tr>\n",
       "    </thead>\n",
       "    <tbody>\n",
       "        <tr>\n",
       "            <td>dark brown </td> <td>0        </td> <td>2        </td> <td>0         </td>\n",
       "        </tr>\n",
       "        <tr>\n",
       "            <td>light brown</td> <td>0        </td> <td>1        </td> <td>0         </td>\n",
       "        </tr>\n",
       "        <tr>\n",
       "            <td>pink       </td> <td>1        </td> <td>0        </td> <td>2         </td>\n",
       "        </tr>\n",
       "    </tbody>\n",
       "</table>"
      ],
      "text/plain": [
       "Color       | bubblegum | chocolate | strawberry\n",
       "dark brown  | 0         | 2         | 0\n",
       "light brown | 0         | 1         | 0\n",
       "pink        | 1         | 0         | 2"
      ]
     },
     "execution_count": 6,
     "metadata": {},
     "output_type": "execute_result"
    }
   ],
   "source": [
    "cones.pivot(\"Flavor\", \"Color\")"
   ]
  },
  {
   "cell_type": "markdown",
   "id": "e103b5b4-2d91-447c-a550-59b1627a4cac",
   "metadata": {},
   "source": [
    "Look carefully at what happened. The first is the column to pivot on. The rows in that column become the columns in the new table. We pivoted a rows to columns.\n",
    "\n",
    "The second argument is specifies which column's values to use for the rows of the new table.\n",
    "\n",
    "Just as with group(), by default, the values of the tables are counts. The original table had two rows with flavor \"chocolate\" and color \"dark brown,\" so that is the value that when into the table at the intersection of the chocolate column with the dark brown row.\n",
    "\n",
    "Again, just as with group, we can use a different collection function. In the example below, we pass two more arguments to pivot. The column we want to collect and the collection function. In other words, we are saying for each combination of Flavor and color, take the average of all the prices.\n",
    "\n",
    "Thus, for the chocolate cones that are dark brown (recall there are two), the average prices is $5.25."
   ]
  },
  {
   "cell_type": "code",
   "execution_count": 7,
   "id": "4c297baa-6f21-493e-9e32-519c30978f46",
   "metadata": {
    "tags": []
   },
   "outputs": [
    {
     "data": {
      "text/html": [
       "<table border=\"1\" class=\"dataframe\">\n",
       "    <thead>\n",
       "        <tr>\n",
       "            <th>Color</th> <th>bubblegum</th> <th>chocolate</th> <th>strawberry</th>\n",
       "        </tr>\n",
       "    </thead>\n",
       "    <tbody>\n",
       "        <tr>\n",
       "            <td>dark brown </td> <td>0        </td> <td>5.25     </td> <td>0         </td>\n",
       "        </tr>\n",
       "        <tr>\n",
       "            <td>light brown</td> <td>0        </td> <td>4.75     </td> <td>0         </td>\n",
       "        </tr>\n",
       "        <tr>\n",
       "            <td>pink       </td> <td>4.75     </td> <td>0        </td> <td>4.4       </td>\n",
       "        </tr>\n",
       "    </tbody>\n",
       "</table>"
      ],
      "text/plain": [
       "Color       | bubblegum | chocolate | strawberry\n",
       "dark brown  | 0         | 5.25      | 0\n",
       "light brown | 0         | 4.75      | 0\n",
       "pink        | 4.75      | 0         | 4.4"
      ]
     },
     "execution_count": 7,
     "metadata": {},
     "output_type": "execute_result"
    }
   ],
   "source": [
    "cones.pivot(\"Flavor\", \"Color\", \"Price\", np.mean)"
   ]
  },
  {
   "cell_type": "markdown",
   "id": "f3ed2645-6ec4-4300-9ac8-4e7ed4dd6c20",
   "metadata": {},
   "source": [
    "## Challenge 3\n",
    "Instead of the mean, find the lowest price for each flavor-color combination."
   ]
  },
  {
   "cell_type": "code",
   "execution_count": null,
   "id": "1d50bf4f-5562-49f0-8cea-09ecc42e15e9",
   "metadata": {},
   "outputs": [],
   "source": []
  },
  {
   "cell_type": "markdown",
   "id": "3f10f661-b0f1-46fb-a09f-dfcc88e9222a",
   "metadata": {},
   "source": [
    "Now that you have seen group and pivot in action on a small table, you might be wondering what all the fuss is about. Why are group and pivot so use for data exploration? Their true power only becomes apparent when we are confronting larger data sets.\n",
    "\n",
    "# Another look at the heart disease data"
   ]
  },
  {
   "cell_type": "code",
   "execution_count": 9,
   "id": "f5f2b297-de59-4f30-af8d-9b6996e0685b",
   "metadata": {},
   "outputs": [
    {
     "data": {
      "text/html": [
       "<table border=\"1\" class=\"dataframe\">\n",
       "    <thead>\n",
       "        <tr>\n",
       "            <th>age</th> <th>sex</th> <th>cp</th> <th>trestbps</th> <th>chol</th> <th>fbs</th> <th>restecg</th> <th>thalach</th> <th>exang</th> <th>oldpeak</th> <th>slope</th> <th>ca</th> <th>thal</th> <th>target</th>\n",
       "        </tr>\n",
       "    </thead>\n",
       "    <tbody>\n",
       "        <tr>\n",
       "            <td>52  </td> <td>1   </td> <td>0   </td> <td>125     </td> <td>212 </td> <td>0   </td> <td>1      </td> <td>168    </td> <td>0    </td> <td>1      </td> <td>2    </td> <td>2   </td> <td>3   </td> <td>0     </td>\n",
       "        </tr>\n",
       "        <tr>\n",
       "            <td>53  </td> <td>1   </td> <td>0   </td> <td>140     </td> <td>203 </td> <td>1   </td> <td>0      </td> <td>155    </td> <td>1    </td> <td>3.1    </td> <td>0    </td> <td>0   </td> <td>3   </td> <td>0     </td>\n",
       "        </tr>\n",
       "        <tr>\n",
       "            <td>70  </td> <td>1   </td> <td>0   </td> <td>145     </td> <td>174 </td> <td>0   </td> <td>1      </td> <td>125    </td> <td>1    </td> <td>2.6    </td> <td>0    </td> <td>0   </td> <td>3   </td> <td>0     </td>\n",
       "        </tr>\n",
       "        <tr>\n",
       "            <td>61  </td> <td>1   </td> <td>0   </td> <td>148     </td> <td>203 </td> <td>0   </td> <td>1      </td> <td>161    </td> <td>0    </td> <td>0      </td> <td>2    </td> <td>1   </td> <td>3   </td> <td>0     </td>\n",
       "        </tr>\n",
       "        <tr>\n",
       "            <td>62  </td> <td>0   </td> <td>0   </td> <td>138     </td> <td>294 </td> <td>1   </td> <td>1      </td> <td>106    </td> <td>0    </td> <td>1.9    </td> <td>1    </td> <td>3   </td> <td>2   </td> <td>0     </td>\n",
       "        </tr>\n",
       "        <tr>\n",
       "            <td>58  </td> <td>0   </td> <td>0   </td> <td>100     </td> <td>248 </td> <td>0   </td> <td>0      </td> <td>122    </td> <td>0    </td> <td>1      </td> <td>1    </td> <td>0   </td> <td>2   </td> <td>1     </td>\n",
       "        </tr>\n",
       "        <tr>\n",
       "            <td>58  </td> <td>1   </td> <td>0   </td> <td>114     </td> <td>318 </td> <td>0   </td> <td>2      </td> <td>140    </td> <td>0    </td> <td>4.4    </td> <td>0    </td> <td>3   </td> <td>1   </td> <td>0     </td>\n",
       "        </tr>\n",
       "        <tr>\n",
       "            <td>55  </td> <td>1   </td> <td>0   </td> <td>160     </td> <td>289 </td> <td>0   </td> <td>0      </td> <td>145    </td> <td>1    </td> <td>0.8    </td> <td>1    </td> <td>1   </td> <td>3   </td> <td>0     </td>\n",
       "        </tr>\n",
       "        <tr>\n",
       "            <td>46  </td> <td>1   </td> <td>0   </td> <td>120     </td> <td>249 </td> <td>0   </td> <td>0      </td> <td>144    </td> <td>0    </td> <td>0.8    </td> <td>2    </td> <td>0   </td> <td>3   </td> <td>0     </td>\n",
       "        </tr>\n",
       "        <tr>\n",
       "            <td>54  </td> <td>1   </td> <td>0   </td> <td>122     </td> <td>286 </td> <td>0   </td> <td>0      </td> <td>116    </td> <td>1    </td> <td>3.2    </td> <td>1    </td> <td>2   </td> <td>2   </td> <td>0     </td>\n",
       "        </tr>\n",
       "    </tbody>\n",
       "</table>\n",
       "<p>... (1015 rows omitted)</p>"
      ],
      "text/plain": [
       "age  | sex  | cp   | trestbps | chol | fbs  | restecg | thalach | exang | oldpeak | slope | ca   | thal | target\n",
       "52   | 1    | 0    | 125      | 212  | 0    | 1       | 168     | 0     | 1       | 2     | 2    | 3    | 0\n",
       "53   | 1    | 0    | 140      | 203  | 1    | 0       | 155     | 1     | 3.1     | 0     | 0    | 3    | 0\n",
       "70   | 1    | 0    | 145      | 174  | 0    | 1       | 125     | 1     | 2.6     | 0     | 0    | 3    | 0\n",
       "61   | 1    | 0    | 148      | 203  | 0    | 1       | 161     | 0     | 0       | 2     | 1    | 3    | 0\n",
       "62   | 0    | 0    | 138      | 294  | 1    | 1       | 106     | 0     | 1.9     | 1     | 3    | 2    | 0\n",
       "58   | 0    | 0    | 100      | 248  | 0    | 0       | 122     | 0     | 1       | 1     | 0    | 2    | 1\n",
       "58   | 1    | 0    | 114      | 318  | 0    | 2       | 140     | 0     | 4.4     | 0     | 3    | 1    | 0\n",
       "55   | 1    | 0    | 160      | 289  | 0    | 0       | 145     | 1     | 0.8     | 1     | 1    | 3    | 0\n",
       "46   | 1    | 0    | 120      | 249  | 0    | 0       | 144     | 0     | 0.8     | 2     | 0    | 3    | 0\n",
       "54   | 1    | 0    | 122      | 286  | 0    | 0       | 116     | 1     | 3.2     | 1     | 2    | 2    | 0\n",
       "... (1015 rows omitted)"
      ]
     },
     "execution_count": 9,
     "metadata": {},
     "output_type": "execute_result"
    }
   ],
   "source": [
    "path = '../data/'\n",
    "data = path + 'heart.csv'\n",
    "heart = Table.read_table(data)\n",
    "heart"
   ]
  },
  {
   "cell_type": "markdown",
   "id": "7d4de4d3-7d75-45f4-8b7c-126c43ffa0db",
   "metadata": {},
   "source": [
    "This data set has over 1000 rows, which is still small by today's standards, but you can no longer see the answers by simple inspection.\n",
    "\n",
    "Let's imagine we want to know if the resting blood pressure (`trestbps`) is higher on average for patients with heart disease (`target` = 1) than those without heart disease (`target` = 1).\n",
    "\n",
    "If you didn't know about grouping, you might approach it this way."
   ]
  },
  {
   "cell_type": "code",
   "execution_count": 15,
   "id": "f9301441-1592-438f-8390-970548e5754d",
   "metadata": {
    "tags": []
   },
   "outputs": [
    {
     "name": "stdout",
     "output_type": "stream",
     "text": [
      "Average BP for patients with no heart disease: 134.106212425\n",
      "Average BP for patients with heart disease: 129.245247148\n"
     ]
    }
   ],
   "source": [
    "heart_disease = heart.where(\"target\", are.equal_to(1))\n",
    "no_heart_disease = heart.where(\"target\", are.equal_to(0))\n",
    "\n",
    "avg_bp_heart_disease = np.mean(heart_disease.column(\"trestbps\"))\n",
    "avg_bp_no_heart_disease = np.mean(no_heart_disease.column(\"trestbps\"))\n",
    "\n",
    "print(\"Average BP for patients with no heart disease:\", avg_bp_no_heart_disease)\n",
    "print(\"Average BP for patients with heart disease:\", avg_bp_heart_disease)"
   ]
  },
  {
   "cell_type": "markdown",
   "id": "984862e7-b0e3-4f8d-af63-b60cafe68512",
   "metadata": {},
   "source": [
    "Here is the same analysis using group()."
   ]
  },
  {
   "cell_type": "code",
   "execution_count": 13,
   "id": "dcc8e462-7e7e-44ce-966c-035ca1153412",
   "metadata": {
    "tags": []
   },
   "outputs": [
    {
     "data": {
      "text/html": [
       "<table border=\"1\" class=\"dataframe\">\n",
       "    <thead>\n",
       "        <tr>\n",
       "            <th>target</th> <th>age mean</th> <th>sex mean</th> <th>cp mean</th> <th>trestbps mean</th> <th>chol mean</th> <th>fbs mean</th> <th>restecg mean</th> <th>thalach mean</th> <th>exang mean</th> <th>oldpeak mean</th> <th>slope mean</th> <th>ca mean</th> <th>thal mean</th>\n",
       "        </tr>\n",
       "    </thead>\n",
       "    <tbody>\n",
       "        <tr>\n",
       "            <td>0     </td> <td>56.5691 </td> <td>0.827655</td> <td>0.482966</td> <td>134.106      </td> <td>251.293  </td> <td>0.164329</td> <td>0.456914    </td> <td>139.13      </td> <td>0.549098  </td> <td>1.6002      </td> <td>1.16633   </td> <td>1.15832 </td> <td>2.53908  </td>\n",
       "        </tr>\n",
       "        <tr>\n",
       "            <td>1     </td> <td>52.4087 </td> <td>0.570342</td> <td>1.37833 </td> <td>129.245      </td> <td>240.979  </td> <td>0.134981</td> <td>0.598859    </td> <td>158.586     </td> <td>0.134981  </td> <td>0.569962    </td> <td>1.59316   </td> <td>0.370722</td> <td>2.11977  </td>\n",
       "        </tr>\n",
       "    </tbody>\n",
       "</table>"
      ],
      "text/plain": [
       "target | age mean | sex mean | cp mean  | trestbps mean | chol mean | fbs mean | restecg mean | thalach mean | exang mean | oldpeak mean | slope mean | ca mean  | thal mean\n",
       "0      | 56.5691  | 0.827655 | 0.482966 | 134.106       | 251.293   | 0.164329 | 0.456914     | 139.13       | 0.549098   | 1.6002       | 1.16633    | 1.15832  | 2.53908\n",
       "1      | 52.4087  | 0.570342 | 1.37833  | 129.245       | 240.979   | 0.134981 | 0.598859     | 158.586      | 0.134981   | 0.569962     | 1.59316    | 0.370722 | 2.11977"
      ]
     },
     "execution_count": 13,
     "metadata": {},
     "output_type": "execute_result"
    }
   ],
   "source": [
    "heart.group(\"target\", np.mean)"
   ]
  },
  {
   "cell_type": "markdown",
   "id": "9ea39fde-f5f6-47c2-a831-a6a91b894e8b",
   "metadata": {},
   "source": [
    "This compares the average for all columns in one shot! Think how long that would take to do for every column using the first approach.\n",
    "\n",
    "To get just the BP we first select the columns of interest, then group:"
   ]
  },
  {
   "cell_type": "code",
   "execution_count": 14,
   "id": "6705d068-d5bb-4a29-96d7-c4ee2363a3e5",
   "metadata": {
    "tags": []
   },
   "outputs": [
    {
     "data": {
      "text/html": [
       "<table border=\"1\" class=\"dataframe\">\n",
       "    <thead>\n",
       "        <tr>\n",
       "            <th>target</th> <th>trestbps mean</th>\n",
       "        </tr>\n",
       "    </thead>\n",
       "    <tbody>\n",
       "        <tr>\n",
       "            <td>0     </td> <td>134.106      </td>\n",
       "        </tr>\n",
       "        <tr>\n",
       "            <td>1     </td> <td>129.245      </td>\n",
       "        </tr>\n",
       "    </tbody>\n",
       "</table>"
      ],
      "text/plain": [
       "target | trestbps mean\n",
       "0      | 134.106\n",
       "1      | 129.245"
      ]
     },
     "execution_count": 14,
     "metadata": {},
     "output_type": "execute_result"
    }
   ],
   "source": [
    "heart.select(\"target\", \"trestbps\").group(\"target\", np.mean)"
   ]
  },
  {
   "cell_type": "markdown",
   "id": "4eec144d-531e-4730-8e2a-c7481c1a20b8",
   "metadata": {},
   "source": [
    "Grouping is a powerful way to summarize information about a lot of columns quickly.\n",
    "\n",
    "**Now let's look at a pivot example.**\n",
    "But first, it is confusing to use 0,1 for both gender and disease. Let's change the values of `sex` to (male, female)."
   ]
  },
  {
   "cell_type": "code",
   "execution_count": 34,
   "id": "0236d684-3424-44ab-bd16-ca30905336c2",
   "metadata": {
    "tags": []
   },
   "outputs": [],
   "source": [
    "def change_values(label):\n",
    "    if label == 1:\n",
    "        return \"male\"\n",
    "    elif label == 0:\n",
    "        return \"female\"\n",
    "    else:\n",
    "        return \"not declared\""
   ]
  },
  {
   "cell_type": "markdown",
   "id": "70432115-e3b3-4608-a0c9-209f4989212e",
   "metadata": {},
   "source": [
    "Note that the function checks for values other than (0, 1). First, limiting gender to male and female shows this is an *old* data set. Second, it is a good practice to check for unexpected values in your data set."
   ]
  },
  {
   "cell_type": "code",
   "execution_count": 35,
   "id": "b944b115-dd74-4d08-b3f4-a1390bf90856",
   "metadata": {
    "tags": []
   },
   "outputs": [
    {
     "name": "stdout",
     "output_type": "stream",
     "text": [
      "male\n",
      "female\n",
      "not declared\n"
     ]
    }
   ],
   "source": [
    "# Test the function\n",
    "print(change_values(1))\n",
    "print(change_values(0))\n",
    "print(change_values(5))"
   ]
  },
  {
   "cell_type": "code",
   "execution_count": 36,
   "id": "8676935d-fd4c-4110-8a86-b2fe0ca5ccf5",
   "metadata": {
    "tags": []
   },
   "outputs": [
    {
     "data": {
      "text/html": [
       "<table border=\"1\" class=\"dataframe\">\n",
       "    <thead>\n",
       "        <tr>\n",
       "            <th>age</th> <th>sex</th> <th>cp</th> <th>trestbps</th> <th>chol</th> <th>fbs</th> <th>restecg</th> <th>thalach</th> <th>exang</th> <th>oldpeak</th> <th>slope</th> <th>ca</th> <th>thal</th> <th>target</th> <th>gender</th>\n",
       "        </tr>\n",
       "    </thead>\n",
       "    <tbody>\n",
       "        <tr>\n",
       "            <td>52  </td> <td>1   </td> <td>0   </td> <td>125     </td> <td>212 </td> <td>0   </td> <td>1      </td> <td>168    </td> <td>0    </td> <td>1      </td> <td>2    </td> <td>2   </td> <td>3   </td> <td>0     </td> <td>male  </td>\n",
       "        </tr>\n",
       "        <tr>\n",
       "            <td>53  </td> <td>1   </td> <td>0   </td> <td>140     </td> <td>203 </td> <td>1   </td> <td>0      </td> <td>155    </td> <td>1    </td> <td>3.1    </td> <td>0    </td> <td>0   </td> <td>3   </td> <td>0     </td> <td>male  </td>\n",
       "        </tr>\n",
       "        <tr>\n",
       "            <td>70  </td> <td>1   </td> <td>0   </td> <td>145     </td> <td>174 </td> <td>0   </td> <td>1      </td> <td>125    </td> <td>1    </td> <td>2.6    </td> <td>0    </td> <td>0   </td> <td>3   </td> <td>0     </td> <td>male  </td>\n",
       "        </tr>\n",
       "    </tbody>\n",
       "</table>\n",
       "<p>... (1022 rows omitted)</p>"
      ],
      "text/plain": [
       "<IPython.core.display.HTML object>"
      ]
     },
     "metadata": {},
     "output_type": "display_data"
    }
   ],
   "source": [
    "# Apply the function\n",
    "heart = heart.with_column(\"gender\", heart.apply(change_values, \"sex\"))\n",
    "heart.show(3)"
   ]
  },
  {
   "cell_type": "markdown",
   "id": "4e2eea4c-4cb8-4737-9d7c-e227e5e04031",
   "metadata": {},
   "source": [
    "Now lets pivot so that:\\\n",
    "- the `target` becomes the columns\n",
    "- the `gender` becomes the rows\n",
    "- the average of the `trestbps` becomes the values\n"
   ]
  },
  {
   "cell_type": "code",
   "execution_count": 37,
   "id": "c22ba3f3-5908-4838-9372-ba6ae400990c",
   "metadata": {
    "tags": []
   },
   "outputs": [
    {
     "data": {
      "text/html": [
       "<table border=\"1\" class=\"dataframe\">\n",
       "    <thead>\n",
       "        <tr>\n",
       "            <th>gender</th> <th>0</th> <th>1</th>\n",
       "        </tr>\n",
       "    </thead>\n",
       "    <tbody>\n",
       "        <tr>\n",
       "            <td>female</td> <td>146.488</td> <td>128.836</td>\n",
       "        </tr>\n",
       "        <tr>\n",
       "            <td>male  </td> <td>131.528</td> <td>129.553</td>\n",
       "        </tr>\n",
       "    </tbody>\n",
       "</table>"
      ],
      "text/plain": [
       "gender | 0       | 1\n",
       "female | 146.488 | 128.836\n",
       "male   | 131.528 | 129.553"
      ]
     },
     "execution_count": 37,
     "metadata": {},
     "output_type": "execute_result"
    }
   ],
   "source": [
    "heart.pivot(\"target\", \"gender\", \"trestbps\", np.mean)"
   ]
  },
  {
   "cell_type": "markdown",
   "id": "ee0b387e-6c56-4e1a-8b22-eb36e8acbbb0",
   "metadata": {},
   "source": [
    "## Challenge 4\n",
    "Make the same pivot table but instead of blood pressure, show average cholesteral."
   ]
  },
  {
   "cell_type": "code",
   "execution_count": null,
   "id": "50cf5130-31ec-487b-9978-24b6e044c96f",
   "metadata": {},
   "outputs": [],
   "source": []
  }
 ],
 "metadata": {
  "kernelspec": {
   "display_name": "Python 3 (ipykernel)",
   "language": "python",
   "name": "python3"
  },
  "language_info": {
   "codemirror_mode": {
    "name": "ipython",
    "version": 3
   },
   "file_extension": ".py",
   "mimetype": "text/x-python",
   "name": "python",
   "nbconvert_exporter": "python",
   "pygments_lexer": "ipython3",
   "version": "3.10.11"
  }
 },
 "nbformat": 4,
 "nbformat_minor": 5
}
