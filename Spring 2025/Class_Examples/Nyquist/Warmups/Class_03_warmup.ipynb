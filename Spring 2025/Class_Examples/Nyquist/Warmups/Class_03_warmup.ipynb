{
 "cells": [
  {
   "cell_type": "markdown",
   "id": "bac59527-d1fe-4711-bea7-8e6bd8564d7e",
   "metadata": {},
   "source": [
    "## Always run all of the notebook starting at the top. "
   ]
  },
  {
   "cell_type": "code",
   "execution_count": null,
   "id": "c7763a93-22ac-4813-ad7e-cee5ee053d93",
   "metadata": {},
   "outputs": [],
   "source": [
    "# Loads the numerical python module\n",
    "import numpy as np\n",
    "\n",
    "# Brings into Python the datascience Table object\n",
    "from datascience import * "
   ]
  },
  {
   "cell_type": "markdown",
   "id": "c76b455d-24fb-4abe-989c-05538e3aa90a",
   "metadata": {},
   "source": [
    "## Lesson Learned from Lab 00/01\n",
    "Working with Jupyter Notebooks\n",
    "- Expressions\n",
    "- Variables & upcoming Data Types\n",
    "    - Strings\n",
    "    - Integer\n",
    "    - Float\n",
    "- built-in functions: print(\"Hello World\")\n",
    "- Kernel\n",
    "- errors\n",
    "- check work with check('tests/q2_1.py')\n",
    "- Shortcuts"
   ]
  },
  {
   "cell_type": "code",
   "execution_count": null,
   "id": "44061d12-7d30-43df-8420-c0c3c159ba49",
   "metadata": {},
   "outputs": [],
   "source": []
  },
  {
   "cell_type": "code",
   "execution_count": null,
   "id": "5b14d1c2-10a5-48fa-a37d-418b483e14cf",
   "metadata": {},
   "outputs": [],
   "source": []
  },
  {
   "cell_type": "markdown",
   "id": "fc4f1a2f-94e0-4b5a-baf4-5862031ac0fe",
   "metadata": {},
   "source": [
    "## Upcoming Learning Goals from Lab 02\n",
    "Data Types: See video of same name\n",
    "- Expressions & numbers revisited\n",
    "- Variables & Data Types\n",
    "    - Strings\n",
    "    - Integer\n",
    "    - Float\n",
    "- more built-in functions: max(), min(), abs(), pow(), round()\n",
    "- Translating science into Python formulas: Newton's equations\n",
    "- importing code functionality: import math\n",
    "    - math.pi()\n",
    "    - math.sqrt()\n",
    "    - math.log()\n",
    "    - math.factorial()\n",
    "- arrays: from datascience import *\n",
    "    - make_array(0.125, 4.75, -1.3)\n",
    "- arrays: import numpy as np\n",
    "    - np.array([0, 1, -1, math.pi, math.e])\n",
    "- lists: [1, 2, 3, 4]"
   ]
  },
  {
   "cell_type": "markdown",
   "id": "2a386a15-da70-4901-9435-919c347c04c7",
   "metadata": {
    "tags": []
   },
   "source": [
    "### Student Challenge 1\n",
    "\n",
    "Find the value of\n",
    "$$6 + 6 \\times 5 - 3^2 \\times \\frac{2^3}{4}$$"
   ]
  },
  {
   "cell_type": "code",
   "execution_count": null,
   "id": "614f6c85-c1f2-4b9b-8d0a-e1a129ef9308",
   "metadata": {},
   "outputs": [],
   "source": [
    "6 + 6 * 5 - 3**2 * 2**3/4"
   ]
  },
  {
   "cell_type": "markdown",
   "id": "711fdad1-a587-44d9-baac-154f3e6234cf",
   "metadata": {},
   "source": [
    "Many functions are built into Python, such as max and min"
   ]
  },
  {
   "cell_type": "code",
   "execution_count": null,
   "id": "676d5160-6423-4201-af3d-41d30234aaf7",
   "metadata": {},
   "outputs": [],
   "source": [
    "maximum_number = max(3, 4.4, 12, 0, -8)\n",
    "maximum_number"
   ]
  },
  {
   "cell_type": "markdown",
   "id": "69aadc8e-c7d0-4327-b65a-fd141bf3a2ac",
   "metadata": {},
   "source": [
    "While at other times you must load the functions you need from a module"
   ]
  },
  {
   "cell_type": "code",
   "execution_count": null,
   "id": "86066c2f-5500-4452-b426-d7906c91a214",
   "metadata": {},
   "outputs": [],
   "source": [
    "import math\n",
    "\n",
    "print(math.pi)"
   ]
  },
  {
   "cell_type": "markdown",
   "id": "4821ccb4-b858-454a-8d73-ad9d8cc3811b",
   "metadata": {},
   "source": [
    "### Student Challenge  2\n",
    "\n",
    "Find the area of a circle with a radius of 4."
   ]
  },
  {
   "cell_type": "code",
   "execution_count": null,
   "id": "de71d933-28b7-460b-a4f2-7a6ef89d75e3",
   "metadata": {},
   "outputs": [],
   "source": []
  },
  {
   "cell_type": "markdown",
   "id": "5ff34ef0-67b0-4ef1-ac78-9ed65acca172",
   "metadata": {},
   "source": [
    "So far you know about a couple of python variable types.\n",
    "* strings\n",
    "* floating point numbers\n",
    "* integers"
   ]
  },
  {
   "cell_type": "code",
   "execution_count": null,
   "id": "7fd55803-c959-4297-a26a-7fe330f2ade4",
   "metadata": {},
   "outputs": [],
   "source": [
    "# String\n",
    "s = \"I am a string variable\"\n",
    "\n",
    "# Integer\n",
    "a = 4\n",
    "\n",
    "# Float\n",
    "b = 12.8"
   ]
  },
  {
   "cell_type": "code",
   "execution_count": null,
   "id": "dd093003-d331-497b-a889-f2c7cc6a60e0",
   "metadata": {},
   "outputs": [],
   "source": [
    "# Find the type of a variable\n",
    "type(b)"
   ]
  },
  {
   "cell_type": "markdown",
   "id": "e6f65cb4-02a1-4926-9338-0b76a888ac87",
   "metadata": {},
   "source": [
    "### Student Challenge 3\n",
    "Find the type of variable created with you add a (int) and b (float) together."
   ]
  },
  {
   "cell_type": "code",
   "execution_count": null,
   "id": "353846de-38f1-47e5-8642-c13f3fa57e06",
   "metadata": {},
   "outputs": [],
   "source": []
  },
  {
   "cell_type": "markdown",
   "id": "d06aba42-65ac-4873-9fc4-aeb31e566f26",
   "metadata": {},
   "source": [
    "## Lists\n",
    "The variables a and b above point to a single value. But Python has several variable types that are collections. One of the most common is a `list`. A list can have any number of elements. It is defined using square brackets with the items in the list separated by commas."
   ]
  },
  {
   "cell_type": "code",
   "execution_count": null,
   "id": "c27d1ebc-a358-4351-a2cd-1a4d95cfe499",
   "metadata": {},
   "outputs": [],
   "source": [
    "names = [\"Sally\", \"Xavier\", \"Abby\"]\n",
    "names"
   ]
  },
  {
   "cell_type": "code",
   "execution_count": null,
   "id": "00fb89ed-9c95-4b91-a991-18cb5a0780f2",
   "metadata": {},
   "outputs": [],
   "source": [
    "prime_numbers = [1, 2, 3, 5, 7, 11, 13]\n",
    "prime_numbers"
   ]
  },
  {
   "cell_type": "markdown",
   "id": "bc1cfbbd-d36b-4a9d-8159-b700968c24a9",
   "metadata": {},
   "source": [
    "### Student Challenge 4\n",
    "Create a mixed list that has numbers and strings."
   ]
  },
  {
   "cell_type": "code",
   "execution_count": null,
   "id": "2ff96a2a-5fcd-4e68-baff-caefa313b823",
   "metadata": {},
   "outputs": [],
   "source": [
    "mixed_list = ..."
   ]
  },
  {
   "cell_type": "markdown",
   "id": "f545f5d1-f252-43e3-bd6c-d8ea85304ab9",
   "metadata": {},
   "source": [
    "### Subscripts\n",
    "To extract a single element from a list, we subscript it using []. For example, to get the third prime number:"
   ]
  },
  {
   "cell_type": "code",
   "execution_count": null,
   "id": "a7ff8c05-9195-4159-a81b-497bfe2491c5",
   "metadata": {},
   "outputs": [],
   "source": [
    "prime_numbers[2]"
   ]
  },
  {
   "cell_type": "markdown",
   "id": "cc91ecd6-2a11-40a1-9250-3a134d7fd07c",
   "metadata": {},
   "source": [
    "Why 2? Because, **and this is important,** Python numbers list starting with element zero."
   ]
  },
  {
   "cell_type": "code",
   "execution_count": null,
   "id": "5680c9e1-1c51-4b17-9605-b44a2fc56fa2",
   "metadata": {},
   "outputs": [],
   "source": [
    "prime_numbers[0]"
   ]
  },
  {
   "cell_type": "markdown",
   "id": "67c926cf-21ba-4544-a2f0-179c350b67f7",
   "metadata": {},
   "source": [
    "### Student challenge 5\n",
    "Extract the value 11 from the prime_numbers list. Figure out the correct subscript to use."
   ]
  },
  {
   "cell_type": "code",
   "execution_count": null,
   "id": "bb19a0fe-3d2d-490b-8cf5-b4c13883d68c",
   "metadata": {},
   "outputs": [],
   "source": []
  },
  {
   "cell_type": "markdown",
   "id": "17845a8e-66c4-4d03-9b3b-18f95557c3c7",
   "metadata": {},
   "source": [
    "## Arrays\n",
    "List can be have value that are different date types. An `array` is similar to a list, but all of the values in an array must be the same data type (all numeric, all string)."
   ]
  },
  {
   "cell_type": "code",
   "execution_count": null,
   "id": "604a9805-417a-4fbc-b371-b42a1d2c4012",
   "metadata": {},
   "outputs": [],
   "source": [
    "odd = make_array(1, 3, 5, 7, 9)\n",
    "odd"
   ]
  },
  {
   "cell_type": "markdown",
   "id": "3ddc163e-ac1b-479a-9e19-b36e7e9a8a77",
   "metadata": {},
   "source": [
    "Subscripting works the same way"
   ]
  },
  {
   "cell_type": "code",
   "execution_count": null,
   "id": "113de40f-34b3-4c28-ac69-0dc82cebe75a",
   "metadata": {},
   "outputs": [],
   "source": [
    "odd[2]"
   ]
  },
  {
   "cell_type": "markdown",
   "id": "4d71447d-e258-4349-91fb-4259151af34c",
   "metadata": {},
   "source": [
    "What is cool is that you can do math with arrays and it automatically operates on all values -- this is called `broadcasting` an operation across an array."
   ]
  },
  {
   "cell_type": "code",
   "execution_count": null,
   "id": "ce2e1026-991f-4b43-88ae-008246689add",
   "metadata": {},
   "outputs": [],
   "source": [
    "# Add 10 to every element in the array\n",
    "odd + 10"
   ]
  },
  {
   "cell_type": "code",
   "execution_count": null,
   "id": "9016b1fd-2eb6-4369-b639-9478c596efa6",
   "metadata": {},
   "outputs": [],
   "source": [
    "# Add to array togther\n",
    "# This only works if the two arrays are the same length\n",
    "even = make_array(0, 2, 4, 6, 8)\n",
    "odd + even"
   ]
  },
  {
   "cell_type": "markdown",
   "id": "9734be94-cce0-4576-97f5-30e2524dc232",
   "metadata": {},
   "source": [
    "### Student Challenge 6\n",
    "Multiply the odd and even arrays, store the result, and print the maximum value."
   ]
  },
  {
   "cell_type": "code",
   "execution_count": null,
   "id": "4fa7ab97-3686-41a5-9480-75d8cb5958f4",
   "metadata": {},
   "outputs": [],
   "source": []
  },
  {
   "cell_type": "markdown",
   "id": "340cb917-fc84-4c8b-8335-a284b671b7ae",
   "metadata": {},
   "source": [
    "## Subscripting list and arrays revisited.\n",
    "We've seen how to extract a single value from an array, but we can also slice out a subsection."
   ]
  },
  {
   "cell_type": "code",
   "execution_count": null,
   "id": "909ff23f-011e-42fd-9757-3b368e9cea61",
   "metadata": {},
   "outputs": [],
   "source": [
    "x = make_array(1, 2, 3, 4, 5, 6, 7, 8, 9, 10)\n",
    "x_squared = x**2\n",
    "x_squared"
   ]
  },
  {
   "cell_type": "code",
   "execution_count": null,
   "id": "c8332a4e-12bd-4f8e-8a3d-d52e94cef4c4",
   "metadata": {},
   "outputs": [],
   "source": [
    "# Slice out the first three numbers\n",
    "x_squared[0:3]"
   ]
  },
  {
   "cell_type": "markdown",
   "id": "57c558d2-bcb0-4f94-ae76-e60fc023a094",
   "metadata": {},
   "source": [
    "Notice that [0:3] means the zeroth, first and second element of the array. In other words, from zero up to but not including 3."
   ]
  },
  {
   "cell_type": "code",
   "execution_count": null,
   "id": "38f0dbea-6c50-417c-baad-16e4e23ed9ee",
   "metadata": {},
   "outputs": [],
   "source": [
    "# Another Example\n",
    "x_squared[2:5]"
   ]
  },
  {
   "cell_type": "markdown",
   "id": "2261b9db-5888-41be-87cf-5867de488252",
   "metadata": {},
   "source": [
    "## Subscripting Strings\n",
    "String variables are just collections of characters. They can be subscripted and sliced."
   ]
  },
  {
   "cell_type": "code",
   "execution_count": null,
   "id": "99e07412-2d8b-4616-9cbf-81da31a1678a",
   "metadata": {},
   "outputs": [],
   "source": [
    "founder = \"Russel Conwell\"\n",
    "print(founder[7])\n",
    "print(founder[7:])"
   ]
  },
  {
   "cell_type": "markdown",
   "id": "45520fba-2001-4c83-a97d-c02229536f39",
   "metadata": {},
   "source": [
    "Note the slice [7:] didn't specify the second subscript, so it slices to the end."
   ]
  },
  {
   "cell_type": "code",
   "execution_count": null,
   "id": "de6e05cc-b2ba-4ca2-b4e9-62ea71761f0c",
   "metadata": {},
   "outputs": [],
   "source": [
    "founder[:6]"
   ]
  },
  {
   "cell_type": "markdown",
   "id": "3008ed9d-474d-4feb-8fae-11d45efabed8",
   "metadata": {},
   "source": [
    "If we don't specify the beginning, the slice starts with the zeroth element. In this case above, we are slice from the zeroth characture up to, but not including, the sixth character."
   ]
  },
  {
   "cell_type": "markdown",
   "id": "ed77af18-9636-4c96-8be7-7412316f43ab",
   "metadata": {},
   "source": [
    "### Student Challenge 7\n",
    "Slice out \"an arrow\" from the joke below."
   ]
  },
  {
   "cell_type": "code",
   "execution_count": null,
   "id": "1bba25b3-6e00-4ee4-a94b-22ca7f4c935f",
   "metadata": {},
   "outputs": [],
   "source": [
    "dad_joke1 = \"Time flies like an arrow. Fruit flies like a banana.\""
   ]
  },
  {
   "cell_type": "code",
   "execution_count": null,
   "id": "a3cc0de5-8c4d-4023-89ea-02c656cbc4b1",
   "metadata": {},
   "outputs": [],
   "source": []
  },
  {
   "cell_type": "markdown",
   "id": "ad28d509-3610-4004-bec6-fef0032080f4",
   "metadata": {},
   "source": [
    "### Student Challenge 8\n",
    "Instead of a string, the dad joke below is stored as a list of words (each of which is a string).\n",
    "\n",
    "Slice out just the answer part."
   ]
  },
  {
   "cell_type": "code",
   "execution_count": null,
   "id": "064438e7-29be-471d-bedd-57ed53aff3d0",
   "metadata": {},
   "outputs": [],
   "source": [
    "dad_joke2 = [\"Why\", \"do\", \"crabs\", \"never\", \"give\", \"to\", \"charity?\", \"Because\", \"they’re\", \"shellfish.\"]\n",
    "dad_joke2"
   ]
  },
  {
   "cell_type": "markdown",
   "id": "af8553b3-9400-41c4-90aa-9d6d69264c49",
   "metadata": {},
   "source": [
    "## Tuples\n",
    "Tuples are another type of Python data collection very similar to lists, but are created using parentheses instead of square brackets."
   ]
  },
  {
   "cell_type": "code",
   "execution_count": null,
   "id": "c4925335-a656-4c0d-aa9a-ea7762cc19eb",
   "metadata": {},
   "outputs": [],
   "source": [
    "a_tuple = (\"Cat\", 4, \"Fortune Cookie\", 3.1415)\n",
    "a_tuple"
   ]
  },
  {
   "cell_type": "markdown",
   "id": "cd1fbaff-908f-4852-a6cd-e3aba1311060",
   "metadata": {},
   "source": [
    "Notice that just as with a list, a tuple can contain mixed data types.\n",
    "\n",
    "Tuples are subscripted the same way as lists and arrays."
   ]
  },
  {
   "cell_type": "code",
   "execution_count": null,
   "id": "a8170f30-9c8a-49a9-b393-0df6948614ce",
   "metadata": {},
   "outputs": [],
   "source": [
    "a_tuple[2:4]"
   ]
  },
  {
   "cell_type": "markdown",
   "id": "730e3980-c235-46cd-b5ac-93278f5528f9",
   "metadata": {},
   "source": [
    "So what is difference about a tuple? Why not just use a list? The difference is tuples are \"immutable,\" which means once they are defined you cannot change their values. Lists, on the other hand, a mutable.\n",
    "\n",
    "Let's look an example."
   ]
  },
  {
   "cell_type": "code",
   "execution_count": null,
   "id": "5c7e6bd1-4399-4de9-85a4-f9f85dadb4eb",
   "metadata": {},
   "outputs": [],
   "source": [
    "a_list = [\"Adam\", \"Eve\", \"Mark\", \"Paul\"]\n",
    "a_list"
   ]
  },
  {
   "cell_type": "code",
   "execution_count": null,
   "id": "d1da8ea4-1f77-47a8-b5bb-621cb1134dd1",
   "metadata": {},
   "outputs": [],
   "source": [
    "# Change the third element in the list\n",
    "a_list[2] = \"Luke\"\n",
    "a_list"
   ]
  },
  {
   "cell_type": "code",
   "execution_count": null,
   "id": "7de7d457-f52d-4e5b-953b-1353fddd7d85",
   "metadata": {},
   "outputs": [],
   "source": [
    "# This will produce an error message\n",
    "a_tuple[2] = \"Oreo\""
   ]
  },
  {
   "cell_type": "markdown",
   "id": "4c51c03b-7e1f-4683-b977-a949db10d756",
   "metadata": {},
   "source": [
    "**Why would would want a collection to be immutable?**\n",
    "\n",
    "If you have a fixed collection that you want to protect against accidental modifications, store it in a tuple. This make not happen frequently, but you will occationally see examples of tuples in this class.\n",
    "\n",
    "### Student Challenge 9\n",
    "Create your own tuple. Try slicing out a subset of the tuple's elements. Try changing a value."
   ]
  },
  {
   "cell_type": "markdown",
   "id": "828ef44a-1cbc-4ab0-b9f4-d41bf9961546",
   "metadata": {},
   "source": [
    "## IMPORTANT: Variable names are actually pointers\n",
    "\n",
    "Let's look a behavior that might surprise you."
   ]
  },
  {
   "cell_type": "code",
   "execution_count": null,
   "id": "15412495-107a-4ba7-9c6a-1a966a3cf038",
   "metadata": {},
   "outputs": [],
   "source": [
    "# Create a list\n",
    "my_hobbies = [\"pickleball\", \"chess\", \"hiking\", \"reading\", \"cycling\"]\n",
    "your_hobbies =  my_hobbies\n",
    "\n",
    "print(my_hobbies)\n",
    "print(your_hobbies)"
   ]
  },
  {
   "cell_type": "markdown",
   "id": "fbf5bc24-eb56-41b7-8cb6-8fda2394cf9b",
   "metadata": {},
   "source": [
    "Let's replace a value in the first list"
   ]
  },
  {
   "cell_type": "code",
   "execution_count": null,
   "id": "b6dfd611-6fd9-4205-8a80-a498e21d3ebf",
   "metadata": {},
   "outputs": [],
   "source": [
    "my_hobbies[2] = \"swimming\"\n",
    "print(my_hobbies)"
   ]
  },
  {
   "cell_type": "markdown",
   "id": "8663c9cd-5a53-4b3d-9615-990c9f6facbe",
   "metadata": {},
   "source": [
    "Now let's print the *other* list."
   ]
  },
  {
   "cell_type": "code",
   "execution_count": null,
   "id": "b48b2828-408f-4a00-b62f-37d3138bebee",
   "metadata": {},
   "outputs": [],
   "source": [
    "print(your_hobbies)"
   ]
  },
  {
   "cell_type": "markdown",
   "id": "c946bf33-296c-4ac4-b210-051c64ad10ff",
   "metadata": {},
   "source": [
    "**Surprise!**\n",
    "Actually, the assignment:\n",
    "\n",
    "my_hobbies = [\"pickleball\", \"chess\", \"hiking\", \"reading\", \"cycling\"]\n",
    "\n",
    "created a variable `my_hobbies` that points to a list of items. The assignment\n",
    "\n",
    "your_hobbies =  my_hobbies\n",
    "\n",
    "did not create a new list. It created a new variable that points to the same list. So when you modify the list, you modify the entity that both variables point to.\n",
    "\n",
    "If you want a fresh copy and not a another variable that points to the same list, you can use the `.copy()` method."
   ]
  },
  {
   "cell_type": "code",
   "execution_count": null,
   "id": "b91a012d-54ca-4dc8-89ab-2ea94712d04f",
   "metadata": {},
   "outputs": [],
   "source": [
    "my_hobbies = [\"pickleball\", \"chess\", \"hiking\", \"reading\", \"cycling\"]\n",
    "your_hobbies =  my_hobbies.copy()\n",
    "my_hobbies[2] = \"swimming\"\n",
    "print(my_hobbies)\n",
    "print(your_hobbies)"
   ]
  },
  {
   "cell_type": "markdown",
   "id": "7a134762-bcdc-49ed-90f4-667dec292568",
   "metadata": {},
   "source": [
    "The fact that variable names are pointers can sometimes lead to bugs that are hard to trace. Just keep it in the back of your mind. Ask yourself: \"Am I creating a copy or another variable that points to the same collection?\""
   ]
  },
  {
   "cell_type": "markdown",
   "id": "c41beb7b-9dd2-443b-b904-c226982a9a22",
   "metadata": {},
   "source": [
    "### Student Challenge 10\n",
    "Determine whether what was true for list is also true for arrays. Does .copy() also work for arrays?"
   ]
  },
  {
   "cell_type": "code",
   "execution_count": null,
   "id": "68af92a3-0d5d-40f8-b763-1b54f2fa5c2c",
   "metadata": {},
   "outputs": [],
   "source": [
    "from datascience import *\n",
    "\n",
    "x = make_array(1, 2, 3, 4, 5)\n",
    "y = x\n",
    "x[2] = 100\n",
    "x"
   ]
  },
  {
   "cell_type": "code",
   "execution_count": null,
   "id": "5d719f7e-d1d3-4b91-9783-97231c57b480",
   "metadata": {},
   "outputs": [],
   "source": [
    "# Check what y contains\n",
    "..."
   ]
  },
  {
   "cell_type": "code",
   "execution_count": null,
   "id": "f1c0de4b-4348-4954-aa53-0f9df620f348",
   "metadata": {},
   "outputs": [],
   "source": [
    "# Try making a copy of x and changing a value\n",
    "...\n",
    "..."
   ]
  }
 ],
 "metadata": {
  "kernelspec": {
   "display_name": "Python 3 (ipykernel)",
   "language": "python",
   "name": "python3"
  },
  "language_info": {
   "codemirror_mode": {
    "name": "ipython",
    "version": 3
   },
   "file_extension": ".py",
   "mimetype": "text/x-python",
   "name": "python",
   "nbconvert_exporter": "python",
   "pygments_lexer": "ipython3",
   "version": "3.11.6"
  }
 },
 "nbformat": 4,
 "nbformat_minor": 5
}
