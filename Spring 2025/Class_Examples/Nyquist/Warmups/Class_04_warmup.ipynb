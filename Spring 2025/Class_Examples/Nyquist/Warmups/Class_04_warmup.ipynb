{
 "cells": [
  {
   "cell_type": "markdown",
   "id": "52e03edc-60eb-4bc5-8a05-c51b75c8c4b7",
   "metadata": {},
   "source": [
    "# Practice: Word problems --> Code\n",
    "\n",
    "![smokers](data/smokers.png)\n",
    "\n",
    "#### Question 1:\n",
    "What percentage of women at the college smoke?"
   ]
  },
  {
   "cell_type": "code",
   "execution_count": null,
   "id": "a3191acc-6ff8-47da-8212-64193bd78538",
   "metadata": {},
   "outputs": [],
   "source": []
  },
  {
   "cell_type": "markdown",
   "id": "98e78326-5078-4638-baae-1bd428c0c21b",
   "metadata": {},
   "source": [
    "#### Questions 2:\n",
    "\n",
    "What percent of smokers at Northwest College are women?"
   ]
  },
  {
   "cell_type": "code",
   "execution_count": null,
   "id": "7c1c592d-0c38-4221-93ce-fcae0d285954",
   "metadata": {},
   "outputs": [],
   "source": []
  },
  {
   "cell_type": "markdown",
   "id": "81a10579-beb7-4467-af50-1855c664a3a7",
   "metadata": {},
   "source": [
    "#### Question 3:\n",
    "\n",
    "A newspaper stated that 40% of the male students at Northwest College smoked.\n",
    "Is that claim reasonable?"
   ]
  },
  {
   "cell_type": "code",
   "execution_count": null,
   "id": "9589e32d-1309-4676-a398-f9c9bd864640",
   "metadata": {},
   "outputs": [],
   "source": []
  },
  {
   "cell_type": "markdown",
   "id": "c0fd5e3f-1c03-4d82-8933-185672c51b84",
   "metadata": {},
   "source": [
    "#### Question 4:\n",
    "\n",
    "Moore’s Law was a prediction made around 1970 that the processing speed of computer technology would double every two years. Assuming this theory holds, if it takes you 100 minutes to run a program on a state-\n",
    "of-the-art computer today, how long should it take you to run the same program on\n",
    "a brand new computer in eight years?"
   ]
  },
  {
   "cell_type": "markdown",
   "id": "c4c836f8-6f7f-470c-a59a-b916c53b45a2",
   "metadata": {},
   "source": [
    "#### Question 5:\n",
    "\n",
    "Given the physics equations:\n",
    "\n",
    "$$d = (1/2) a t^2$$\n",
    "\n",
    "$$v = at$$\n",
    "\n",
    "where a is acceleration, v is velocity, d is distance and t is time. \n",
    "\n",
    "a) An object is dropped, with no initial velocity, near the surface of planet Manta reaches a speed of 21 m/s in 3.0 seconds. What is the acceleration acting on the object?\n",
    "\n",
    "b) How far will it fall in 12 seconds?"
   ]
  },
  {
   "cell_type": "code",
   "execution_count": null,
   "id": "c63bd643-1089-46e7-8643-d111f2672595",
   "metadata": {},
   "outputs": [],
   "source": []
  }
 ],
 "metadata": {
  "kernelspec": {
   "display_name": "Python 3 (ipykernel)",
   "language": "python",
   "name": "python3"
  },
  "language_info": {
   "codemirror_mode": {
    "name": "ipython",
    "version": 3
   },
   "file_extension": ".py",
   "mimetype": "text/x-python",
   "name": "python",
   "nbconvert_exporter": "python",
   "pygments_lexer": "ipython3",
   "version": "3.10.11"
  }
 },
 "nbformat": 4,
 "nbformat_minor": 5
}
