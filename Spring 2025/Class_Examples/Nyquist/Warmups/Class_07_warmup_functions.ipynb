{
 "cells": [
  {
   "cell_type": "markdown",
   "id": "f9c19aab-837f-4164-8f51-7a8169b3e857",
   "metadata": {},
   "source": [
    "# Class07 Warm-up: A Guide to Functions\n",
    "\n",
    "Functions seem complicated at first, but they actually follow a simple pattern. In this notebook, we will start a with super simple function and gradually add complexity to imprint this pattern into your Python DNA."
   ]
  },
  {
   "cell_type": "markdown",
   "id": "d8580939-26bc-49fb-b550-c9b4b4c96225",
   "metadata": {},
   "source": [
    "## Function 1: A super simple function. No parameters, no return value.\n",
    "\n",
    "No parameters means you don't give the function any input. No return values means the function does something, but it doesn't return any values back to your program.\n",
    "\n",
    "If you think of math functions, such as sin(x), you pass the function the input x and it returns the sine of x. The function below you don't pass anything. This function just prints a Dad joke.\n",
    "\n",
    "Before you call a function in Python you have to define it."
   ]
  },
  {
   "cell_type": "code",
   "execution_count": 1,
   "id": "afe18630-cbed-4463-9b24-1c75c735dc51",
   "metadata": {},
   "outputs": [],
   "source": [
    "def print_one_dad_joke():\n",
    "    print(\"What did one plant say to the other? Aloe! Long thyme no see.\")"
   ]
  },
  {
   "cell_type": "markdown",
   "id": "272f7530-2e0a-4804-b575-5bd6b241ef05",
   "metadata": {},
   "source": [
    "- `def` is short for \"define.\" You have to define a function before you can use it\n",
    "- Then you give the function a name. Function names follow the same rules as Python variables. The function is named `print_one_dad_joke`.\n",
    "- Right after the function name you put any variables that will be passed into the function in parenthesis. These are called the function's parameters. This function has none, so `()` is empty. We'll come back to this later.\n",
    "- After the parentheses we put a colon to mark the start of the body of the function.\n",
    "- All the lines that comprise the body of the function must be indented. When you stop indenting, Python knows you have finished defining your function. This function has only one indented line, a print statement. So all the function does is print the joke defined in the function.\n",
    "\n",
    "Now that the function has been defined, we can use it."
   ]
  },
  {
   "cell_type": "code",
   "execution_count": 2,
   "id": "04951b9f-1b9d-427d-a2c3-618238b03c0f",
   "metadata": {},
   "outputs": [
    {
     "name": "stdout",
     "output_type": "stream",
     "text": [
      "What did one plant say to the other? Aloe! Long thyme no see.\n"
     ]
    }
   ],
   "source": [
    "print_one_dad_joke()"
   ]
  },
  {
   "cell_type": "markdown",
   "id": "843fee01-35c8-4ceb-a26c-75f06aa40daa",
   "metadata": {},
   "source": [
    "## Function 2: Add a function parameter.\n",
    "\n",
    "Our super simple function has no flexibility. Everytime you call it, it tells the same joke. (Hmmm. That is rather dad-like...)\n",
    "\n",
    "Let's add a paramter to the function to allow it to print whatever dad joke we send it."
   ]
  },
  {
   "cell_type": "code",
   "execution_count": 4,
   "id": "f459dda5-f49e-4ad3-92e9-dc4699a38e0d",
   "metadata": {},
   "outputs": [],
   "source": [
    "def print_any_dad_joke(joke):\n",
    "    print(\"Dad joke: \", joke)"
   ]
  },
  {
   "cell_type": "code",
   "execution_count": 5,
   "id": "c6b71dc7-a30c-4c75-8b5d-3b64da1f2965",
   "metadata": {},
   "outputs": [
    {
     "name": "stdout",
     "output_type": "stream",
     "text": [
      "Dad joke:  I only seem to get sick on weekdays. I must have a weekend immune system\n",
      "Dad joke:  What brand of underwear do do chemists wear? Kelvin Klein.\n"
     ]
    }
   ],
   "source": [
    "dad_joke1 = \"I only seem to get sick on weekdays. I must have a weekend immune system\"\n",
    "dad_joke2 = \"What brand of underwear do do chemists wear? Kelvin Klein.\"\n",
    "\n",
    "print_any_dad_joke(dad_joke1)\n",
    "print_any_dad_joke(dad_joke2)"
   ]
  },
  {
   "cell_type": "markdown",
   "id": "66973f6f-99e2-4a2c-8593-dc4c78a2806a",
   "metadata": {},
   "source": [
    "This new function takes one input parameter, `joke`, and uses it in a print statement. Notice that the name of the variable you pass the function doesn't matter. Whatever you pass it will be renamed 'joke' inside the function. When we called the function with the statement `print_any_dad_joke(dad_joke1)` the variable `dad_joke1` was passed to the function where it became new variable `joke` that exists only inside the function. If the variable joke is changed inside the function, it doesn't after any of the variables outside of the function.\n",
    "\n",
    "Let's test this."
   ]
  },
  {
   "cell_type": "code",
   "execution_count": 6,
   "id": "4d00acb8-46f7-41a6-9ddb-ddab10e07ddd",
   "metadata": {},
   "outputs": [
    {
     "name": "stdout",
     "output_type": "stream",
     "text": [
      "Dad joke:  How do cows stay up to date? They read the Moo-spaper.\n",
      "How do cows stay up to date? They read the Moo-spaper.\n"
     ]
    }
   ],
   "source": [
    "def print_any_dad_joke(joke):\n",
    "    print(\"Dad joke: \", joke)\n",
    "    joke = \"I hate my job—all I do is crush cans all day. It’s soda pressing.\"\n",
    "\n",
    "joke = \"How do cows stay up to date? They read the Moo-spaper.\"\n",
    "print_any_dad_joke(joke)\n",
    "print(joke)\n"
   ]
  },
  {
   "cell_type": "markdown",
   "id": "5950102b-06ef-4811-8aa0-4134c3d4b4e4",
   "metadata": {},
   "source": [
    "In this version of the function, the variable joke was changed inside the function, but not outside of the function, so even after you run the function the variable `joke` contains the first joke. *This is actually very important.*  When you write a function for others to use, you have no idea what variables they might already have in their program; you don't want any variables you define in your function to accidentally change some value in their program. **What is happens in a function stays in a function.**"
   ]
  },
  {
   "cell_type": "markdown",
   "id": "679770ac-6ef2-47fc-a4ae-52a4c963cd52",
   "metadata": {},
   "source": [
    "### Challenge 1:\n",
    "Set a variable equal to the Dad joke below and call the function `print_any_dad_joke` passing in the joke to the function.\n",
    "\n",
    "Joke: Why can’t you hear a pterodactyl going to the bathroom? Because the P is silent."
   ]
  },
  {
   "cell_type": "code",
   "execution_count": null,
   "id": "fac7ce89-d142-4097-8f2e-956ae13b52ab",
   "metadata": {},
   "outputs": [],
   "source": []
  },
  {
   "cell_type": "markdown",
   "id": "2ac1503b-9bfd-4902-8e0e-e1ef590e8ed2",
   "metadata": {},
   "source": [
    "## Function 3: Return a value from a function.\n",
    "\n",
    "What if you **want** to get something back from the function? Then you need to add a return statement.\n",
    "Let's write a function that accepts a dad joke (well, any string) and returns it in all capital letters."
   ]
  },
  {
   "cell_type": "code",
   "execution_count": 8,
   "id": "cd50ef99-e067-4e40-997f-53787e40739a",
   "metadata": {},
   "outputs": [],
   "source": [
    "def capitalize_dad_joke(joke):\n",
    "    return joke.upper()"
   ]
  },
  {
   "cell_type": "code",
   "execution_count": 9,
   "id": "de6fe053-b250-47b2-b6b8-2a8987b8a6e7",
   "metadata": {},
   "outputs": [
    {
     "name": "stdout",
     "output_type": "stream",
     "text": [
      "WHERE DO PIRATES GET THEIR HOOKS? SECOND HAND STORES.\n"
     ]
    }
   ],
   "source": [
    "dad_joke = \"Where do pirates get their hooks? Second hand stores.\"\n",
    "\n",
    "joke = capitalize_dad_joke(dad_joke)\n",
    "print(joke)"
   ]
  },
  {
   "cell_type": "markdown",
   "id": "a201f7fb-3f62-42f2-8c1e-696656b645a6",
   "metadata": {},
   "source": [
    "This function no longer prints the joke, it just return a capitalized verion. We had one input parameter and one output parameter.\n",
    "\n",
    "### Challenge 2: \n",
    "Test this new function on the joke below.\n",
    "\n",
    "What did the triangle say to the circle? You're pointless."
   ]
  },
  {
   "cell_type": "code",
   "execution_count": null,
   "id": "caef952a-a349-43db-88d8-d122be362f9f",
   "metadata": {},
   "outputs": [],
   "source": []
  },
  {
   "cell_type": "markdown",
   "id": "b5761bdb-3dd0-4019-9cde-6e813ec43253",
   "metadata": {},
   "source": [
    "## Function 4: A function that takes more than one input parameter.\n",
    "Your function can accept more than one input. Let's write a function that accepts two, yes two, dad jokes and in return the length of the joke with the fewest characters."
   ]
  },
  {
   "cell_type": "code",
   "execution_count": 11,
   "id": "c3eecdc3-6016-4fac-a05e-ce2b37515bc3",
   "metadata": {},
   "outputs": [],
   "source": [
    "def find_shortest_joke(joke1, joke2):\n",
    "    length_joke1 = len(joke1)\n",
    "    length_joke2 = len(joke2)\n",
    "    return min(length_joke1, length_joke2)"
   ]
  },
  {
   "cell_type": "code",
   "execution_count": 12,
   "id": "dc8bcf0d-7ad3-4cb4-bbda-96e9b540f329",
   "metadata": {},
   "outputs": [
    {
     "name": "stdout",
     "output_type": "stream",
     "text": [
      "The shorter joke was only 57 characters long.\n"
     ]
    }
   ],
   "source": [
    "dad_joke1 = \"What do you call a beehive without an exit? Unbelievable.\"\n",
    "dad_joke2 = \"Did you know that the first french fries weren’t cooked in France? They were cooked in Greece.\"\n",
    "\n",
    "shortest = find_shortest_joke(dad_joke1, dad_joke2)\n",
    "print(f\"The shorter joke was only {shortest} characters long.\")"
   ]
  },
  {
   "cell_type": "markdown",
   "id": "509294b2-4e15-41f0-96ea-0523a60faa1f",
   "metadata": {},
   "source": [
    "There are a couple of things to notice here:\n",
    "- First, function can have a many lines of code as needed.\n",
    "- Second, as mentioned before, the variables inside the function have the names given in the function definition, not the names passed to the function.\n",
    "- Third, I'm a dad, and these jokes are killing me!"
   ]
  },
  {
   "cell_type": "markdown",
   "id": "5466b577-d40a-4b38-9346-a3badbad2daf",
   "metadata": {},
   "source": [
    "### Challenge 3: \n",
    "This function just returns the character count for the shorter of the two strings passed as input. Sadly, the strings do not have to be Dad jokes. Test this function passing in the names of two of members of your group."
   ]
  },
  {
   "cell_type": "code",
   "execution_count": null,
   "id": "b5e55300-31b2-47e4-926b-f008d72e47cd",
   "metadata": {},
   "outputs": [],
   "source": []
  },
  {
   "cell_type": "markdown",
   "id": "2383209f-cc25-46d5-95a6-78022d357170",
   "metadata": {},
   "source": [
    "## Challenge 4:\n",
    "\n",
    "See if you can make your own function called \"find_longest_joke\" that returns the longer of the two input strings. Test it on the same jokes used above."
   ]
  },
  {
   "cell_type": "code",
   "execution_count": null,
   "id": "21eee8f0-8453-4825-b83c-95a302f0e036",
   "metadata": {},
   "outputs": [],
   "source": []
  },
  {
   "cell_type": "code",
   "execution_count": null,
   "id": "4913babd-f4a9-4047-a79c-2e21629b609e",
   "metadata": {},
   "outputs": [],
   "source": []
  },
  {
   "cell_type": "markdown",
   "id": "8a08c661-e642-41ca-a346-2fb2083392f8",
   "metadata": {},
   "source": [
    "## Function 4: A function the returns more than one value\n",
    "Just as function can be defined that take multiple input parameters, function can return multiple output parameters. Let's modify this last function to return the length of both jokes"
   ]
  },
  {
   "cell_type": "code",
   "execution_count": 13,
   "id": "8886674f-72ad-4b40-95ae-69137fdb50e3",
   "metadata": {},
   "outputs": [],
   "source": [
    "def find_joke_length(joke1, joke2):\n",
    "    length_joke1 = len(joke1)\n",
    "    length_joke2 = len(joke2)\n",
    "    return (length_joke1, length_joke2)"
   ]
  },
  {
   "cell_type": "code",
   "execution_count": 14,
   "id": "c2bcb387-9ff0-4612-9c19-fa3232cfafdb",
   "metadata": {},
   "outputs": [
    {
     "name": "stdout",
     "output_type": "stream",
     "text": [
      "Length of joke 1:  70\n",
      "Length of joke 2:  77\n"
     ]
    }
   ],
   "source": [
    "dad_joke1 = \"If prisoners could take their own mug shots…They’d be called cellfies.\"\n",
    "dad_joke2 = \"I just broke up with my mathematician girlfriend. She was obsessed with an X.\"\n",
    "\n",
    "length1, length2 = find_joke_length(dad_joke1, dad_joke2)\n",
    "print(\"Length of joke 1: \", length1)\n",
    "print(\"Length of joke 2: \", length2)"
   ]
  },
  {
   "cell_type": "markdown",
   "id": "d527efab-6a97-46f0-ba19-c878c127f147",
   "metadata": {},
   "source": [
    "To return more than one parameter we packed them up in a \"tuple,\" which is a close relative of a list but is defined with () instead of [].\\\n",
    "When we called the function we unpacked the tuple by providing two variable names to receive the two outputs:\n",
    "- The function variable `length_joke1` went into length1.\n",
    "- The function variable `length_joke2` went into length2.\n",
    "\n",
    "So remember, a function can be defined to take any number of inputs and return any number of outputs."
   ]
  },
  {
   "cell_type": "markdown",
   "id": "0f8fde3b-99b2-47e5-ab4e-b8b1b0a247e3",
   "metadata": {},
   "source": [
    "### Challenge 5:\n",
    "Make a new version of the function above (you pick the function have) that returns *three* values: the length of joke1, the length of joke2 and the some of their combined lengths.\n",
    "\n",
    "Test your function."
   ]
  },
  {
   "cell_type": "code",
   "execution_count": null,
   "id": "3dc88533-3efd-4bdb-94c8-6071198c0d90",
   "metadata": {},
   "outputs": [],
   "source": []
  },
  {
   "cell_type": "code",
   "execution_count": null,
   "id": "e4958a57-59dc-42e2-8b2b-3b6ff6c465a7",
   "metadata": {},
   "outputs": [],
   "source": []
  },
  {
   "cell_type": "markdown",
   "id": "a2761506-9c94-48c5-ada1-8ee65111beb5",
   "metadata": {},
   "source": [
    "## Function 5: Keyword parameters\n",
    "Sometimes you want a function that has options. You want to give the user choices in how to use the function without having to write multiple versions of the same function. This can be accomplished using `keyword parameters.` These parameters have default values that will be used if the user doesn't change them.\n",
    "\n",
    "Let's write a function that takes a dad joke and returns the length of the joke, but gives the user the option of also printing the joke, or not. By default, the function will not print the joke."
   ]
  },
  {
   "cell_type": "code",
   "execution_count": 15,
   "id": "46ccc953-373c-485a-a260-e37469ea2bd6",
   "metadata": {},
   "outputs": [],
   "source": [
    "def joke_length_with_optional_print(joke, print_joke=False):\n",
    "    if print_joke == True:\n",
    "        print(joke)\n",
    "    return len(joke)"
   ]
  },
  {
   "cell_type": "code",
   "execution_count": 16,
   "id": "f2d06777-2879-41ee-bbd8-4579b6e7762a",
   "metadata": {},
   "outputs": [
    {
     "data": {
      "text/plain": [
       "52"
      ]
     },
     "execution_count": 16,
     "metadata": {},
     "output_type": "execute_result"
    }
   ],
   "source": [
    "dad_joke = \"If a pig loses its voice…does it become disgruntled?\"\n",
    "joke_length_with_optional_print(dad_joke)"
   ]
  },
  {
   "cell_type": "markdown",
   "id": "d1461f30-f673-43a2-986a-18898e8c6af4",
   "metadata": {},
   "source": [
    "We called the function without supplying the keyword parameter, so it used the default value of `False`, and did not print the joke."
   ]
  },
  {
   "cell_type": "code",
   "execution_count": 17,
   "id": "ace29b2d-0f0f-4d40-b9bf-3ffaa1029783",
   "metadata": {},
   "outputs": [
    {
     "name": "stdout",
     "output_type": "stream",
     "text": [
      "If a pig loses its voice…does it become disgruntled?\n"
     ]
    },
    {
     "data": {
      "text/plain": [
       "52"
      ]
     },
     "execution_count": 17,
     "metadata": {},
     "output_type": "execute_result"
    }
   ],
   "source": [
    "joke_length_with_optional_print(dad_joke, print_joke=True)"
   ]
  },
  {
   "cell_type": "markdown",
   "id": "0c3d6784-4a9b-4d82-888a-4f2b5bff06ec",
   "metadata": {},
   "source": [
    "This time we changed the value of the keyword parameter to True, so the function printed the joke in addition to returning the length. You might recognise that you have used keyword parameters before, such as when you using the Table sort method with `Descending=True`, which changed the default sort behavior.\n",
    "\n",
    "**Important point: In Python functions, keyword parameters must come after regular parameters**, so in `joke_length_with_optional_print(joke, print_joke=False):` joke came before print_joke. This is true both when defining and when calling the function."
   ]
  },
  {
   "cell_type": "markdown",
   "id": "74e39756-6845-4a41-a108-637072d4aadb",
   "metadata": {},
   "source": [
    "## Putting it all together\n",
    "Let us (however reluctantly) leave the world of dad jokes, and write a function that illustrates many of these concepts in mathematical context.\n",
    "\n",
    "Write a function that:\n",
    "- Plots a polynomial $ y = ax^2 + bx + c $\n",
    "- Input parameters are the coefficients a, b, and c.\n",
    "- Optional input parameters are the starting x and ending x value\n"
   ]
  },
  {
   "cell_type": "code",
   "execution_count": 18,
   "id": "84982165-a021-42fc-8188-b3041bf32fca",
   "metadata": {},
   "outputs": [],
   "source": [
    "# First we import numpy and matplotlib modules and tell matplotlib to plot in the notebook\n",
    "import numpy as np\n",
    "from matplotlib import pyplot as plt\n",
    "%matplotlib inline"
   ]
  },
  {
   "cell_type": "code",
   "execution_count": 19,
   "id": "869506bf-c684-41de-b68c-2bb520c6489c",
   "metadata": {},
   "outputs": [],
   "source": [
    "def poly_wants_a_nomial(a, b, c, xlo=-10, xhi=10):\n",
    "    x = np.arange(xlo, xhi, 0.5)\n",
    "    y = a * x**2 + b * x + c\n",
    "    plt.plot(x, y, '-*')\n",
    "    return y"
   ]
  },
  {
   "cell_type": "code",
   "execution_count": 20,
   "id": "d44e2451-05be-4350-ad7a-d64835985f15",
   "metadata": {},
   "outputs": [
    {
     "data": {
      "image/png": "[encoded data removed]",
      "text/plain": [
       "<Figure size 640x480 with 1 Axes>"
      ]
     },
     "metadata": {},
     "output_type": "display_data"
    }
   ],
   "source": [
    "y = poly_wants_a_nomial(2, 10, 3)"
   ]
  },
  {
   "cell_type": "code",
   "execution_count": 21,
   "id": "c954c59a-18cb-484b-bbac-1f207bfcb442",
   "metadata": {},
   "outputs": [
    {
     "data": {
      "image/png": "[encoded data removed]",
      "text/plain": [
       "<Figure size 640x480 with 1 Axes>"
      ]
     },
     "metadata": {},
     "output_type": "display_data"
    }
   ],
   "source": [
    "y = poly_wants_a_nomial(2, 10, 3, xlo=-15)"
   ]
  },
  {
   "cell_type": "code",
   "execution_count": 22,
   "id": "d6d7296d-e8c2-4241-bc5c-48a8a323b445",
   "metadata": {},
   "outputs": [
    {
     "data": {
      "image/png": "[encoded data removed]",
      "text/plain": [
       "<Figure size 640x480 with 1 Axes>"
      ]
     },
     "metadata": {},
     "output_type": "display_data"
    }
   ],
   "source": [
    "y = poly_wants_a_nomial(2, 10, 3, xlo=-15, xhi=20)"
   ]
  },
  {
   "cell_type": "markdown",
   "id": "22db24cf-7001-4979-a8c2-2689efdcc893",
   "metadata": {},
   "source": [
    "You can see that I couldn't resist a Dad joke in the function name. :-)"
   ]
  },
  {
   "cell_type": "markdown",
   "id": "4dd8c8f0-0bb7-479e-a61d-65a487661876",
   "metadata": {},
   "source": [
    "### Student Challenge 6\n",
    "Use the function to plot "
   ]
  },
  {
   "cell_type": "markdown",
   "id": "e4c3c6d2-27b7-4d4a-a88d-01179013c3ce",
   "metadata": {},
   "source": [
    "# FINAL THOUGHTS: \n",
    "**There is more to learn about functions, but I hope this is enough to get you started. And remember: What do you call a fish with no eyes? A fsh.**"
   ]
  },
  {
   "cell_type": "code",
   "execution_count": null,
   "id": "54796343-c910-4f72-a28e-95e293fb0f5d",
   "metadata": {},
   "outputs": [],
   "source": []
  }
 ],
 "metadata": {
  "kernelspec": {
   "display_name": "Python 3 (ipykernel)",
   "language": "python",
   "name": "python3"
  },
  "language_info": {
   "codemirror_mode": {
    "name": "ipython",
    "version": 3
   },
   "file_extension": ".py",
   "mimetype": "text/x-python",
   "name": "python",
   "nbconvert_exporter": "python",
   "pygments_lexer": "ipython3",
   "version": "3.10.11"
  }
 },
 "nbformat": 4,
 "nbformat_minor": 5
}
