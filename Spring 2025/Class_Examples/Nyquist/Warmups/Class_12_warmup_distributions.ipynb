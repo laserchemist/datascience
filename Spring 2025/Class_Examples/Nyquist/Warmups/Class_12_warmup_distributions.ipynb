{
 "cells": [
  {
   "cell_type": "markdown",
   "id": "6e34a6ff-abc1-4c1b-be4f-6ba349bf8081",
   "metadata": {},
   "source": [
    "# Characterizing Distributions\n",
    "\n",
    "For this warm-up, we will work it the student weights from the Penn State study."
   ]
  },
  {
   "cell_type": "code",
   "execution_count": null,
   "id": "192d1c24-2b04-43b0-b2b6-eda3273e227c",
   "metadata": {
    "tags": []
   },
   "outputs": [],
   "source": [
    "import numpy as np\n",
    "from datascience import *\n",
    "import matplotlib.pyplot as plt\n",
    "%matplotlib inline"
   ]
  },
  {
   "cell_type": "markdown",
   "id": "575b7068-7e44-4071-b39b-dc7538a2ab54",
   "metadata": {},
   "source": [
    "First, we build the data table."
   ]
  },
  {
   "cell_type": "code",
   "execution_count": null,
   "id": "48507564-d233-49a1-8a57-d449103a01e6",
   "metadata": {
    "tags": []
   },
   "outputs": [],
   "source": [
    "men_weight = make_array(\n",
    "    140, 145, 160, 190, 155, 165, 150, 190, 195, 138, 160, 155, 153, 145, 170, 175, 175, 170, 180,\n",
    "    135, 170, 157, 130, 185, 190, 155, 170, 155, 215, 150, 145, 155, 155, 150, 155, 150, 180, 160,\n",
    "    135, 160, 130, 155, 150, 148, 155, 150, 140, 180, 190, 145, 150, 164, 140, 142, 136, 123, 155\n",
    ")\n",
    "\n",
    "women_weight = make_array(\n",
    "    140, 120, 130, 138, 121, 125, 116, 145, 150, 112, 125, 130, 120, 130, 131, 120, 118, 125, 135,\n",
    "    125, 118, 122, 115, 102, 115, 150, 110, 116, 108, 95, 125, 133, 110, 150, 108\n",
    ")\n",
    "\n",
    "gender_male = np.full(len(men_weight), 'M')\n",
    "gender_female = np.full(len(women_weight), 'F')\n",
    "\n",
    "weights = np.concatenate((men_weight, women_weight))\n",
    "gender = np.concatenate((gender_male, gender_female))"
   ]
  },
  {
   "cell_type": "code",
   "execution_count": null,
   "id": "3fe1fe16-4a65-48e2-85a5-887e552a2426",
   "metadata": {
    "tags": []
   },
   "outputs": [],
   "source": [
    "psu = Table().with_columns(\"Gender\", gender, \"Weight\", weights)\n",
    "psu.show(3)"
   ]
  },
  {
   "cell_type": "markdown",
   "id": "6d05a37e-43dd-4dab-a35d-6b6f07a03bd6",
   "metadata": {},
   "source": [
    "## Histograms\n",
    "A histogram of the data is skewed because male and female students are lumped together."
   ]
  },
  {
   "cell_type": "code",
   "execution_count": null,
   "id": "9c7a5012-4e03-4d4d-8ce5-98c954e0d39e",
   "metadata": {
    "tags": []
   },
   "outputs": [],
   "source": [
    "psu.hist(\"Weight\", bins=20)"
   ]
  },
  {
   "cell_type": "markdown",
   "id": "398adf94-5c62-49ac-bc69-f8578f9279d4",
   "metadata": {},
   "source": [
    "Let's make separate histograms for the groups."
   ]
  },
  {
   "cell_type": "code",
   "execution_count": null,
   "id": "073420d9-b954-4c21-941a-a44faa4f9455",
   "metadata": {
    "tags": []
   },
   "outputs": [],
   "source": [
    "psu.hist(\"Weight\", group=\"Gender\", bins=20)"
   ]
  },
  {
   "cell_type": "markdown",
   "id": "88b27993-013b-4365-9f5f-0d28150590b4",
   "metadata": {},
   "source": [
    "We see that men generally weight more, but the two populations overlap.\n",
    "\n",
    "## Box Plots\n",
    "Now let's see how the distibution of weights looks on a box plot."
   ]
  },
  {
   "cell_type": "code",
   "execution_count": null,
   "id": "79682406-8e81-46eb-9f9a-64347dfcb1a4",
   "metadata": {
    "tags": []
   },
   "outputs": [],
   "source": [
    "psu.select('Weight').boxplot()"
   ]
  },
  {
   "cell_type": "markdown",
   "id": "3e1e7fbc-ee63-46e6-9b15-e39d1d5fa40a",
   "metadata": {},
   "source": [
    "## Challenge 1\n",
    "Box plots can be vertical or horizontal, but the interpretation is the same. You are seeing the same data as shown in the first histogram with both the male and female students. \n",
    "\n",
    "What is the red line?\n",
    "\n",
    "What does the box represent?\n",
    "\n",
    "What are the whiskers?\n",
    "\n",
    "What is the small circle?\n"
   ]
  },
  {
   "cell_type": "markdown",
   "id": "37066789-da32-402e-b3be-1d713c302938",
   "metadata": {},
   "source": [
    "Making a side by side boxplot requires using a different Python library as data tables assume columns of the same length and we have a different number of make and female students."
   ]
  },
  {
   "cell_type": "code",
   "execution_count": null,
   "id": "651a769f-3fac-466f-9cfa-c870bbd23dbf",
   "metadata": {
    "tags": []
   },
   "outputs": [],
   "source": [
    "import pandas as pd\n",
    "import seaborn as sns\n",
    "\n",
    "# Convert our table to a Pandas dataframe\n",
    "df = psu.to_df()"
   ]
  },
  {
   "cell_type": "code",
   "execution_count": null,
   "id": "3f435ca7-0c85-4a64-af97-33b830f4b094",
   "metadata": {
    "tags": []
   },
   "outputs": [],
   "source": [
    "# Create the boxplot\n",
    "plt.figure(figsize=(3, 6))\n",
    "sns.boxplot(x='Gender', y='Weight', data=df)\n",
    "plt.title('Side-by-Side Boxplots')\n",
    "plt.show()"
   ]
  },
  {
   "cell_type": "markdown",
   "id": "64e6b56e-7609-43c4-a4b4-6eca6cd8720e",
   "metadata": {},
   "source": [
    "How does this side-by-side box plot compare with the overlapping histograms? Do you prefer one to the other?"
   ]
  },
  {
   "cell_type": "markdown",
   "id": "51f7e8e0-c402-4466-a7b4-72bbe4c279d7",
   "metadata": {},
   "source": []
  }
 ],
 "metadata": {
  "kernelspec": {
   "display_name": "Python 3 (ipykernel)",
   "language": "python",
   "name": "python3"
  },
  "language_info": {
   "codemirror_mode": {
    "name": "ipython",
    "version": 3
   },
   "file_extension": ".py",
   "mimetype": "text/x-python",
   "name": "python",
   "nbconvert_exporter": "python",
   "pygments_lexer": "ipython3",
   "version": "3.10.11"
  }
 },
 "nbformat": 4,
 "nbformat_minor": 5
}
