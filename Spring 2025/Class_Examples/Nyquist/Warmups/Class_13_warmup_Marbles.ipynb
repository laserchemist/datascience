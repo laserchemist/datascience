{
 "cells": [
  {
   "cell_type": "code",
   "execution_count": 1,
   "id": "9f102a88-ebb7-4629-b477-c06a3f94dd9d",
   "metadata": {},
   "outputs": [],
   "source": [
    "import numpy as np\n",
    "from datascience import *\n",
    "import matplotlib.pyplot as plt"
   ]
  },
  {
   "cell_type": "markdown",
   "id": "db3dd492-bb43-4a07-8452-5cab25a7bb33",
   "metadata": {},
   "source": [
    "![Marbles](data/marbles.png)"
   ]
  },
  {
   "cell_type": "markdown",
   "id": "fae00127-a93c-4ba3-99fe-491164c00e06",
   "metadata": {},
   "source": [
    "In class, we calculated the odds of drawing three marbles from a bag with two green, two red, and two blue marbles, getting a different color each time. Now, let's solve the problem by simulation.\n",
    "\n",
    "First, let's introduce the np.unique() function. It returns the unique elements of an array."
   ]
  },
  {
   "cell_type": "code",
   "execution_count": 2,
   "id": "24011095-904f-4d7a-8933-7031305855b7",
   "metadata": {},
   "outputs": [
    {
     "data": {
      "text/plain": [
       "array(['blue', 'green', 'red'],\n",
       "      dtype='<U5')"
      ]
     },
     "execution_count": 2,
     "metadata": {},
     "output_type": "execute_result"
    }
   ],
   "source": [
    "bag_of_marbles = make_array(\"green\", \"green\", \"red\", \"red\", \"blue\", \"blue\")\n",
    "np.unique(bag_of_marbles)"
   ]
  },
  {
   "cell_type": "markdown",
   "id": "ee208764-be94-4940-8ae0-1ba8e61568b9",
   "metadata": {},
   "source": [
    "Let's draw three marbles."
   ]
  },
  {
   "cell_type": "code",
   "execution_count": 14,
   "id": "55337795-f200-4d94-831e-3e34246f1252",
   "metadata": {},
   "outputs": [
    {
     "data": {
      "text/plain": [
       "array(['blue', 'blue', 'green'],\n",
       "      dtype='<U5')"
      ]
     },
     "execution_count": 14,
     "metadata": {},
     "output_type": "execute_result"
    }
   ],
   "source": [
    "draw = np.random.choice(bag_of_marbles, 3, replace=False)\n",
    "draw"
   ]
  },
  {
   "cell_type": "markdown",
   "id": "2cfcf997-1bee-4faa-a9d6-737e6422a4c5",
   "metadata": {},
   "source": [
    "If we draw three different colors the length of np.unique(draw) will be 3; if there are duplicates it will be less than three.\n",
    "\n",
    "Let's look at five draws."
   ]
  },
  {
   "cell_type": "code",
   "execution_count": null,
   "id": "26695a13-d3a8-4b20-8393-459c23a82d1d",
   "metadata": {},
   "outputs": [],
   "source": [
    "for i in np.arange(5):\n",
    "    draw = np.random.choice(bag_of_marbles, 3, replace=False)\n",
    "    print(\"Draw number:\", i)\n",
    "    print(draw)\n",
    "    print(len(np.unique(draw)))"
   ]
  },
  {
   "cell_type": "markdown",
   "id": "0cd42624-8a95-4aca-947e-67d7e3173474",
   "metadata": {},
   "source": [
    "Now you have the basic ingredients for a simulation. Write the code to draw 10,000 times and calculate the fraction of the time you draw three different colors. \n",
    "\n",
    "**How close is your answer to the true probability?**\n",
    "\n",
    "**Bonus question: What would be the odds of drawing three different colored marbles if you put the marble back in  in the bag after each draw?**"
   ]
  },
  {
   "cell_type": "code",
   "execution_count": null,
   "id": "c773b3e7-ec55-45c7-8cb4-05ec349d1757",
   "metadata": {},
   "outputs": [],
   "source": []
  }
 ],
 "metadata": {
  "kernelspec": {
   "display_name": "Python 3 (ipykernel)",
   "language": "python",
   "name": "python3"
  },
  "language_info": {
   "codemirror_mode": {
    "name": "ipython",
    "version": 3
   },
   "file_extension": ".py",
   "mimetype": "text/x-python",
   "name": "python",
   "nbconvert_exporter": "python",
   "pygments_lexer": "ipython3",
   "version": "3.11.6"
  }
 },
 "nbformat": 4,
 "nbformat_minor": 5
}
