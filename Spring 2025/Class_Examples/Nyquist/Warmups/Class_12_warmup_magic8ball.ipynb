{
 "cells": [
  {
   "cell_type": "code",
   "execution_count": 1,
   "id": "a196342e-8835-4cbe-b298-6921497618a0",
   "metadata": {},
   "outputs": [],
   "source": [
    "import numpy as np"
   ]
  },
  {
   "cell_type": "code",
   "execution_count": 2,
   "id": "d0cf594f-9686-408d-b8a1-c473130271a0",
   "metadata": {},
   "outputs": [],
   "source": [
    "def magic(question):\n",
    "    possible_answers = [\n",
    "    \"It is certain.\",\n",
    "    \"It is decidedly so.\",\n",
    "    \"Without a doubt\",\n",
    "    \"Yes, definitely.\",\n",
    "    \"You may rely on it\",\n",
    "    \"As I see it, yes.\",\n",
    "    \"Most likely.\",\n",
    "    \"Outlook good.\",\n",
    "    \"Yes.\",\n",
    "    \"Signs point to yes.\",\n",
    "    \"Reply hazy, try again.\",\n",
    "    \"Ask again later.\",\n",
    "    \"Cannot predict now.\",\n",
    "    \"Concentrate and ask again\",\n",
    "    \"Don't count on it.\",\n",
    "    \"My reply is no.\",\n",
    "    \"My sources say no.\",\n",
    "    \"Outlook not so good.\",\n",
    "    \"Very doubtful.\"\n",
    "    ]\n",
    "    print(question)\n",
    "    print(np.random.choice(possible_answers))"
   ]
  },
  {
   "cell_type": "code",
   "execution_count": 3,
   "id": "9635301c-2401-4923-a494-a93985c3ebb3",
   "metadata": {},
   "outputs": [
    {
     "name": "stdout",
     "output_type": "stream",
     "text": [
      "Will  Dr. Fry enjoy is postion as Temple's new president?\n",
      "Very doubtful.\n"
     ]
    }
   ],
   "source": [
    "question = \"Will  Dr. Fry enjoy is postion as Temple's new president?\"\n",
    "magic(question)"
   ]
  },
  {
   "cell_type": "markdown",
   "id": "ef1476f7-9811-419e-8284-d5fd0a2b6493",
   "metadata": {},
   "source": [
    "## Student Challenge\n",
    "Modify the function to create your own Magic Eightball answers? Keep it clean ;-)."
   ]
  },
  {
   "cell_type": "code",
   "execution_count": null,
   "id": "d5b1516a-0b64-475f-a4cf-e47c3cd3efca",
   "metadata": {},
   "outputs": [],
   "source": []
  }
 ],
 "metadata": {
  "kernelspec": {
   "display_name": "Python 3 (ipykernel)",
   "language": "python",
   "name": "python3"
  },
  "language_info": {
   "codemirror_mode": {
    "name": "ipython",
    "version": 3
   },
   "file_extension": ".py",
   "mimetype": "text/x-python",
   "name": "python",
   "nbconvert_exporter": "python",
   "pygments_lexer": "ipython3",
   "version": "3.11.6"
  }
 },
 "nbformat": 4,
 "nbformat_minor": 5
}
