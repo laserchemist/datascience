{
 "cells": [
  {
   "cell_type": "markdown",
   "id": "9b786279-e752-42c0-a59b-99ea8b968c5e",
   "metadata": {},
   "source": [
    "# Standardizing Data\n",
    "\n",
    "To standardize a data set, you simply subtract the average from each point and divide by the standard deviation. The standarizded data will then have a mean of zero and a standard deviation of one.\n",
    "\n",
    "$$ z = \\frac{x - \\bar{x}}{\\sigma} $$"
   ]
  },
  {
   "cell_type": "code",
   "execution_count": null,
   "id": "cb82e442-d2a4-476c-b3cb-673454d01360",
   "metadata": {},
   "outputs": [],
   "source": [
    "import numpy as np\n",
    "import matplotlib.pyplot as plt\n",
    "import scipy.stats as stats\n",
    "\n",
    "# Parameters for the normal distribution\n",
    "mu = 10\n",
    "sigma = 2\n",
    "sample_size = 100\n",
    "\n",
    "# Generate the sample\n",
    "sample = np.random.normal(mu, sigma, sample_size)\n",
    "\n",
    "# Standardize the sample\n",
    "standardized_sample = (sample - np.mean(sample)) / np.std(sample)\n",
    "\n",
    "# Plotting\n",
    "plt.figure(figsize=(12, 5))\n",
    "\n",
    "# Original sample\n",
    "plt.subplot(1, 2, 1)\n",
    "plt.hist(sample, bins=20, alpha=0.7, color='skyblue')\n",
    "plt.title('Original Sample (Mean=5, Std Dev=2)')\n",
    "plt.xlabel('Value')\n",
    "plt.ylabel('Frequency')\n",
    "\n",
    "# Standardized sample\n",
    "plt.subplot(1, 2, 2)\n",
    "plt.hist(standardized_sample, bins=20, alpha=0.7, color='salmon')\n",
    "plt.title('Standardized Sample (Mean=0, Std Dev=1)')\n",
    "plt.xlabel('Standardized Value')\n",
    "plt.ylabel('Frequency')\n",
    "\n",
    "plt.tight_layout()\n",
    "plt.show()\n",
    "\n",
    "# Verification of standardized sample mean and standard deviation:\n",
    "print(f\"Mean of standardized sample: {np.mean(standardized_sample):.4f}\")\n",
    "print(f\"Standard deviation of standardized sample: {np.std(standardized_sample):.4f}\")"
   ]
  },
  {
   "cell_type": "code",
   "execution_count": null,
   "id": "a2d1b212-8d27-4359-82fc-d06122814fc2",
   "metadata": {},
   "outputs": [],
   "source": [
    "# Create box plots\n",
    "plt.figure(figsize=(10, 5))\n",
    "\n",
    "plt.subplot(1, 2, 1)\n",
    "plt.boxplot(sample)\n",
    "plt.title('Original Sample')\n",
    "plt.ylabel('Value')\n",
    "\n",
    "plt.subplot(1, 2, 2)\n",
    "plt.boxplot(standardized_sample)\n",
    "plt.title('Standardized Sample')\n",
    "plt.ylabel('Standardized Value')\n",
    "\n",
    "plt.tight_layout()\n",
    "plt.show()"
   ]
  },
  {
   "cell_type": "code",
   "execution_count": null,
   "id": "53bfe3da-71ac-4d49-8728-c56cbef90974",
   "metadata": {},
   "outputs": [],
   "source": [
    "x = np.random.uniform(0, 1, sample_size)\n",
    "x.shape"
   ]
  },
  {
   "cell_type": "code",
   "execution_count": null,
   "id": "76ee2d7d-1a06-42bd-a328-8c9000da4578",
   "metadata": {},
   "outputs": [],
   "source": [
    "random_jitter = np.random.uniform(0, .1, sample_size)\n",
    "\n",
    "x1 = random_jitter\n",
    "y1 = sample\n",
    "\n",
    "x2 = x1 \n",
    "y2 = standardized_sample\n",
    "\n",
    "plt.figure(figsize=(2, 6))\n",
    "plt.plot(x1, y1, '.', x2, y2, '.')\n",
    "plt.xlim([-.5, .5])\n",
    "\n",
    "# Add horizontal line at y=0\n",
    "plt.axhline(y=mu, color='blue', linestyle='--', label='original mean')\n",
    "\n",
    "# Add text box\n",
    "textstr = '\\n'.join((\n",
    "    f'Original Std: {sigma:.1f}',\n",
    "    f'Standardized Std: 1.0'\n",
    "))\n",
    "\n",
    "# these are matplotlib.patch.Patch properties\n",
    "props = dict(boxstyle='round', facecolor='wheat', alpha=0.5)\n",
    "\n",
    "# place a text box in upper left in axes coords\n",
    "plt.text(1.05, 0.5, textstr, transform=plt.gca().transAxes, fontsize=10,\n",
    "        verticalalignment='top', bbox=props)\n",
    "\n",
    "# Add horizontal line at y=0\n",
    "plt.axhline(y=0, color='red', linestyle='--', label = 'standardized mean')\n",
    "plt.title(\"Data before and after standardization\")\n",
    "plt.legend(bbox_to_anchor=(1.05, .6), loc='lower left', borderaxespad=0.)\n",
    "plt.show()"
   ]
  },
  {
   "cell_type": "code",
   "execution_count": null,
   "id": "b9a9bc4e-9888-42c6-b662-f685297b2d93",
   "metadata": {},
   "outputs": [],
   "source": []
  }
 ],
 "metadata": {
  "kernelspec": {
   "display_name": "Python 3 (ipykernel)",
   "language": "python",
   "name": "python3"
  },
  "language_info": {
   "codemirror_mode": {
    "name": "ipython",
    "version": 3
   },
   "file_extension": ".py",
   "mimetype": "text/x-python",
   "name": "python",
   "nbconvert_exporter": "python",
   "pygments_lexer": "ipython3",
   "version": "3.11.6"
  }
 },
 "nbformat": 4,
 "nbformat_minor": 5
}
