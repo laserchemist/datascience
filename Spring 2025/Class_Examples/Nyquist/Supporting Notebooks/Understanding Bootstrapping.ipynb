{
 "cells": [
  {
   "cell_type": "markdown",
   "id": "193e6f20-5ef9-4818-b145-7e1005c606af",
   "metadata": {},
   "source": [
    "# Bootstrapping to find a 95% confidence interval"
   ]
  },
  {
   "cell_type": "code",
   "execution_count": null,
   "id": "6c4109ff-1f82-4939-8f4d-35b86812284a",
   "metadata": {},
   "outputs": [],
   "source": [
    "import numpy as np\n",
    "import matplotlib.pyplot as plt\n",
    "from datascience import *\n",
    "%matplotlib inline"
   ]
  },
  {
   "cell_type": "code",
   "execution_count": null,
   "id": "03b8771a-735b-4224-8e93-9dadcf8bd7cf",
   "metadata": {},
   "outputs": [],
   "source": [
    "faithful = Table().read_table(\"../data/faithful-new.csv\")\n",
    "faithful.show(3)"
   ]
  },
  {
   "cell_type": "code",
   "execution_count": null,
   "id": "8c4e6331-0555-403a-b68c-ac007a117379",
   "metadata": {},
   "outputs": [],
   "source": [
    "faithful.num_rows"
   ]
  },
  {
   "cell_type": "code",
   "execution_count": null,
   "id": "c7cd9088-8f8a-4896-986b-bd4733fcb001",
   "metadata": {},
   "outputs": [],
   "source": [
    "faithful.hist('duration', bins=20)"
   ]
  },
  {
   "cell_type": "code",
   "execution_count": null,
   "id": "3de5c197-4a51-46de-afa4-187139b89816",
   "metadata": {},
   "outputs": [],
   "source": [
    "true_avg_duration = np.mean(faithful.column(\"duration\"))\n",
    "print(f\"The true mean duration of Old Faithful geyser eruptions is {true_avg_duration:.2f} minutes\")"
   ]
  },
  {
   "cell_type": "markdown",
   "id": "6f5d5888-47b3-4b17-8fd2-af167db18bd7",
   "metadata": {},
   "source": [
    "## Old Faithful\n",
    "### The true confidence interval for the mean based on a sample size of 50\n",
    "This data set is clearly bimodal (two clusters), has 272 data points, and the mean duration of eruptions is 3.49 minutes. Let's pretend this is the true population and that 3.49 is the real population mean, but that we only have a sample data set of 50 data points. How well can we estimate the true mean from a sample of 50 points? \n",
    "\n",
    "Well, if we have the full data set, we can answer the true answer by sampling 50 data points over and over to find out confidence interval. This is analogous to performing an experiment over and over to get new data."
   ]
  },
  {
   "cell_type": "code",
   "execution_count": null,
   "id": "d4c32d9c-3ad0-435e-a1cb-91730c140382",
   "metadata": {},
   "outputs": [],
   "source": [
    "our_data = faithful.sample(50, with_replacement=False)\n",
    "our_mean = np.mean(our_data.column(\"duration\"))\n",
    "\n",
    "print(\"Based on a sample size of 50, we got a mean of:\", our_mean)"
   ]
  },
  {
   "cell_type": "code",
   "execution_count": null,
   "id": "4409253e-2ded-4589-82ff-7f35d12c078d",
   "metadata": {},
   "outputs": [],
   "source": [
    "def one_sample_mean():\n",
    "    \"\"\"A function to sample the orginal data\"\"\"\n",
    "    resample = faithful.sample(50, with_replacement=False)\n",
    "    return np.mean(resample.column(\"duration\"))"
   ]
  },
  {
   "cell_type": "code",
   "execution_count": null,
   "id": "059ae1f1-eee7-4817-ace2-745b287e4937",
   "metadata": {},
   "outputs": [],
   "source": [
    "num_repetitions = 5000\n",
    "sample_means = make_array()\n",
    "for i in np.arange(num_repetitions):\n",
    "    sample_means = np.append(sample_means, one_sample_mean())"
   ]
  },
  {
   "cell_type": "code",
   "execution_count": null,
   "id": "88e6a9cf-4f09-4730-a189-eaa5f52826b6",
   "metadata": {},
   "outputs": [],
   "source": [
    "plt.hist(sample_means, bins=20);"
   ]
  },
  {
   "cell_type": "code",
   "execution_count": null,
   "id": "e39c6188-af71-4231-b713-3bf673f3142e",
   "metadata": {},
   "outputs": [],
   "source": [
    "# Get the endpoints of the 95% confidence interval\n",
    "left = percentile(2.5, sample_means)\n",
    "right = percentile(97.5, sample_means)\n",
    "\n",
    "make_array(left, right)"
   ]
  },
  {
   "cell_type": "markdown",
   "id": "063b942f-d2c6-48e6-bc41-f903951fce40",
   "metadata": {},
   "source": [
    "So the true mean duration is 3.49 minutes, Our data, a sample of 50 values, yielded an estimate of this mean that was off, but with the 95% confidence interval.\n",
    "\n",
    "This 95% confidence interval, however, we calculated using the full data set. In practice, we rarely have that, because we are unlikely to repeat our data collection thousands of times. What to do?\n",
    "\n",
    "We bootstrap! We treat our sample of 50 data points as if it were the full dataset and resample it instead to estimate the confidence interval."
   ]
  },
  {
   "cell_type": "code",
   "execution_count": null,
   "id": "a70c7010-c126-4d1b-8bea-d651b70b5dcd",
   "metadata": {},
   "outputs": [],
   "source": [
    "def one_bootstrap_sample_mean():\n",
    "    \"\"\"A function to sample the orginal data\"\"\"\n",
    "    resample = faithful.sample(with_replacement=True)\n",
    "    return np.mean(resample.column(\"duration\"))"
   ]
  },
  {
   "cell_type": "code",
   "execution_count": null,
   "id": "4ccff193-7457-4ab2-874a-961c0611535e",
   "metadata": {},
   "outputs": [],
   "source": [
    "num_repetitions = 5000\n",
    "bootstrap_sample_means = make_array()\n",
    "for i in np.arange(num_repetitions):\n",
    "    bootstrap_sample_means = np.append(bootstrap_sample_means, one_bootstrap_sample_mean())"
   ]
  },
  {
   "cell_type": "code",
   "execution_count": null,
   "id": "669be442-c0f4-4883-b88e-68d69690d02b",
   "metadata": {},
   "outputs": [],
   "source": [
    "plt.hist(bootstrap_sample_means, bins=20);"
   ]
  },
  {
   "cell_type": "code",
   "execution_count": null,
   "id": "09480c0e-cacf-4aea-9f51-ffe997eb8d96",
   "metadata": {},
   "outputs": [],
   "source": [
    "# Get the endpoints of the 95% confidence interval\n",
    "left = percentile(2.5, bootstrap_sample_means)\n",
    "right = percentile(97.5, bootstrap_sample_means)\n",
    "\n",
    "make_array(left, right)"
   ]
  },
  {
   "cell_type": "code",
   "execution_count": null,
   "id": "65d5c20e-dc17-47f1-88c7-c88a0f123b8b",
   "metadata": {},
   "outputs": [],
   "source": [
    "# Our final result\n",
    "print(f\"The true mean of the Old Faithful eruption duration is {true_avg_duration:.2f}\")\n",
    "print(\"Based on a sample of 50 data points,\")\n",
    "print(f\"the mean is {our_mean:.2f},\")\n",
    "print(f\"with 95% confidence that the true mean lies between {left:.2f} and {right:.2f}\")"
   ]
  },
  {
   "cell_type": "code",
   "execution_count": null,
   "id": "53ec2c45-3468-4fda-8216-49e1aa18e622",
   "metadata": {},
   "outputs": [],
   "source": []
  }
 ],
 "metadata": {
  "kernelspec": {
   "display_name": "Python 3 (ipykernel)",
   "language": "python",
   "name": "python3"
  },
  "language_info": {
   "codemirror_mode": {
    "name": "ipython",
    "version": 3
   },
   "file_extension": ".py",
   "mimetype": "text/x-python",
   "name": "python",
   "nbconvert_exporter": "python",
   "pygments_lexer": "ipython3",
   "version": "3.11.6"
  }
 },
 "nbformat": 4,
 "nbformat_minor": 5
}
