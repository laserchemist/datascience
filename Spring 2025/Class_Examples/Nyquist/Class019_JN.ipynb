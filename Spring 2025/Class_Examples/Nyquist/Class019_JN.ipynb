{
 "cells": [
  {
   "cell_type": "markdown",
   "metadata": {},
   "source": [
    "### Hypothesis testing\n",
    "#### Mini project II\n",
    "Elements of Data Science"
   ]
  },
  {
   "cell_type": "code",
   "execution_count": 1,
   "metadata": {
    "tags": []
   },
   "outputs": [],
   "source": [
    "import numpy as np\n",
    "from datascience import *"
   ]
  },
  {
   "cell_type": "code",
   "execution_count": 2,
   "metadata": {
    "tags": []
   },
   "outputs": [],
   "source": [
    "%matplotlib inline\n",
    "import matplotlib.pyplot as plt\n",
    "plt.style.use('fivethirtyeight')\n",
    "# Fix for datascience plots\n",
    "import collections as collections\n",
    "import collections.abc as abc\n",
    "collections.Iterable = abc.Iterable"
   ]
  },
  {
   "cell_type": "markdown",
   "metadata": {},
   "source": [
    "## Hypothesis Testing"
   ]
  },
  {
   "cell_type": "markdown",
   "metadata": {},
   "source": [
    "#### Create differences Test statistic \n"
   ]
  },
  {
   "cell_type": "code",
   "execution_count": 3,
   "metadata": {
    "tags": []
   },
   "outputs": [],
   "source": [
    "def diff_n(values, n):\n",
    "    return np.array(values)[n:] - np.array(values)[:-n]"
   ]
  },
  {
   "cell_type": "code",
   "execution_count": 4,
   "metadata": {
    "tags": []
   },
   "outputs": [
    {
     "data": {
      "text/plain": [
       "3"
      ]
     },
     "execution_count": 4,
     "metadata": {},
     "output_type": "execute_result"
    }
   ],
   "source": [
    "positive = np.count_nonzero(diff_n(make_array(1.0, 1.5,1.4, 1.2, 2.0, 1.8), 2)>0)\n",
    "positive"
   ]
  },
  {
   "cell_type": "code",
   "execution_count": 5,
   "metadata": {
    "tags": []
   },
   "outputs": [
    {
     "data": {
      "text/plain": [
       "1"
      ]
     },
     "execution_count": 5,
     "metadata": {},
     "output_type": "execute_result"
    }
   ],
   "source": [
    "negative = np.count_nonzero(diff_n(make_array(1.0, 1.5,1.4, 1.2, 2.0, 1.8), 2) < 0)\n",
    "negative"
   ]
  },
  {
   "cell_type": "code",
   "execution_count": 6,
   "metadata": {
    "tags": []
   },
   "outputs": [
    {
     "data": {
      "text/plain": [
       "2"
      ]
     },
     "execution_count": 6,
     "metadata": {},
     "output_type": "execute_result"
    }
   ],
   "source": [
    "positive - negative"
   ]
  },
  {
   "cell_type": "code",
   "execution_count": 7,
   "metadata": {
    "tags": []
   },
   "outputs": [],
   "source": [
    "def changes(rates, years = 1):\n",
    "    \"Return the number of increases minus the number of decreases after two years.\"\n",
    "    differences = diff_n(rates, years)  \n",
    "    positives = np.count_nonzero(differences > 0)\n",
    "    negatives = np.count_nonzero(differences < 0) \n",
    "    return positives - negatives  "
   ]
  },
  {
   "cell_type": "markdown",
   "metadata": {},
   "source": [
    "### Inference and biodiversity recovery"
   ]
  },
  {
   "cell_type": "code",
   "execution_count": 10,
   "metadata": {
    "tags": []
   },
   "outputs": [
    {
     "data": {
      "text/html": [
       "<table border=\"1\" class=\"dataframe\">\n",
       "    <thead>\n",
       "        <tr>\n",
       "            <th>PLOT_NAME</th> <th>PLOT_CODE</th> <th>FIRST_YEAR</th> <th>LAST_YEAR</th> <th>UTMGRID</th> <th>UTMEAST</th> <th>UTMNORTH</th> <th>LONG</th> <th>LAT</th> <th>POT._RAD.</th> <th>HEAT_LOAD</th> <th>ELEVATION(M)</th> <th>ASPECT</th> <th>SLOPE</th> <th>IMPACT_TYPE</th> <th>SUCCESSION_TYPE</th>\n",
       "        </tr>\n",
       "    </thead>\n",
       "    <tbody>\n",
       "        <tr>\n",
       "            <td>Toutle Ridge10</td> <td>TORD10   </td> <td>1981      </td> <td>1996     </td> <td>10T    </td> <td>559724 </td> <td>5118180 </td> <td>122.226</td> <td>46.2146</td> <td>0.769    </td> <td>0.796    </td> <td>1430        </td> <td>N     </td> <td>11   </td> <td>Blast edge </td> <td>Secondary      </td>\n",
       "        </tr>\n",
       "        <tr>\n",
       "            <td>Toutle Ridge09</td> <td>TORD09   </td> <td>1981      </td> <td>1997     </td> <td>10T    </td> <td>559599 </td> <td>5118216 </td> <td>122.227</td> <td>46.2149</td> <td>0.722    </td> <td>0.827    </td> <td>1417        </td> <td>NW    </td> <td>18   </td> <td>Blast edge </td> <td>Secondary      </td>\n",
       "        </tr>\n",
       "        <tr>\n",
       "            <td>Toutle Ridge08</td> <td>TORD08   </td> <td>1981      </td> <td>1997     </td> <td>10T    </td> <td>559565 </td> <td>5118281 </td> <td>122.228</td> <td>46.2155</td> <td>0.788    </td> <td>0.833    </td> <td>1401        </td> <td>NNW   </td> <td>10   </td> <td>Blast edge </td> <td>Secondary      </td>\n",
       "        </tr>\n",
       "        <tr>\n",
       "            <td>Toutle Ridge07</td> <td>TORD07   </td> <td>1981      </td> <td>1997     </td> <td>10T    </td> <td>559466 </td> <td>5118302 </td> <td>122.229</td> <td>46.2157</td> <td>0.756    </td> <td>0.786    </td> <td>1379        </td> <td>N     </td> <td>12   </td> <td>Blast edge </td> <td>Secondary      </td>\n",
       "        </tr>\n",
       "        <tr>\n",
       "            <td>Toutle Ridge06</td> <td>TORD06   </td> <td>1981      </td> <td>1997     </td> <td>10T    </td> <td>559413 </td> <td>5118329 </td> <td>122.23 </td> <td>46.2159</td> <td>0.835    </td> <td>0.877    </td> <td>1365        </td> <td>NW    </td> <td>7    </td> <td>Blast edge </td> <td>Secondary      </td>\n",
       "        </tr>\n",
       "        <tr>\n",
       "            <td>Toutle Ridge05</td> <td>TORD05   </td> <td>1981      </td> <td>1997     </td> <td>10T    </td> <td>559342 </td> <td>5118366 </td> <td>122.231</td> <td>46.2163</td> <td>0.822    </td> <td>0.854    </td> <td>1352        </td> <td>NNW   </td> <td>7    </td> <td>Blast edge </td> <td>Secondary      </td>\n",
       "        </tr>\n",
       "        <tr>\n",
       "            <td>Toutle Ridge04</td> <td>TORD04   </td> <td>1981      </td> <td>1997     </td> <td>10T    </td> <td>559279 </td> <td>5115125 </td> <td>122.232</td> <td>46.1871</td> <td>0.764    </td> <td>0.818    </td> <td>1340        </td> <td>NNW   </td> <td>12   </td> <td>Blast edge </td> <td>Secondary      </td>\n",
       "        </tr>\n",
       "        <tr>\n",
       "            <td>Toutle Ridge03</td> <td>TORD03   </td> <td>1981      </td> <td>1997     </td> <td>10T    </td> <td>559238 </td> <td>5118483 </td> <td>122.232</td> <td>46.2173</td> <td>0.764    </td> <td>0.818    </td> <td>1320        </td> <td>NNW   </td> <td>12   </td> <td>Blast edge </td> <td>Secondary      </td>\n",
       "        </tr>\n",
       "        <tr>\n",
       "            <td>Toutle Ridge02</td> <td>TORD02   </td> <td>1981      </td> <td>1997     </td> <td>10T    </td> <td>559091 </td> <td>5118480 </td> <td>122.234</td> <td>46.2173</td> <td>0.861    </td> <td>0.9      </td> <td>1294        </td> <td>WNW   </td> <td>6    </td> <td>Blast edge </td> <td>Secondary      </td>\n",
       "        </tr>\n",
       "        <tr>\n",
       "            <td>Toutle Ridge01</td> <td>TORD01   </td> <td>1981      </td> <td>1997     </td> <td>10T    </td> <td>558992 </td> <td>5118569 </td> <td>122.235</td> <td>46.2181</td> <td>0.874    </td> <td>0.9      </td> <td>1280        </td> <td>WNW   </td> <td>4    </td> <td>Blast edge </td> <td>Secondary      </td>\n",
       "        </tr>\n",
       "    </tbody>\n",
       "</table>\n",
       "<p>... (82 rows omitted)</p>"
      ],
      "text/plain": [
       "PLOT_NAME      | PLOT_CODE | FIRST_YEAR | LAST_YEAR | UTMGRID | UTMEAST | UTMNORTH | LONG    | LAT     | POT._RAD. | HEAT_LOAD | ELEVATION(M) | ASPECT | SLOPE | IMPACT_TYPE | SUCCESSION_TYPE\n",
       "Toutle Ridge10 | TORD10    | 1981       | 1996      | 10T     | 559724  | 5118180  | 122.226 | 46.2146 | 0.769     | 0.796     | 1430         | N      | 11    | Blast edge  | Secondary\n",
       "Toutle Ridge09 | TORD09    | 1981       | 1997      | 10T     | 559599  | 5118216  | 122.227 | 46.2149 | 0.722     | 0.827     | 1417         | NW     | 18    | Blast edge  | Secondary\n",
       "Toutle Ridge08 | TORD08    | 1981       | 1997      | 10T     | 559565  | 5118281  | 122.228 | 46.2155 | 0.788     | 0.833     | 1401         | NNW    | 10    | Blast edge  | Secondary\n",
       "Toutle Ridge07 | TORD07    | 1981       | 1997      | 10T     | 559466  | 5118302  | 122.229 | 46.2157 | 0.756     | 0.786     | 1379         | N      | 12    | Blast edge  | Secondary\n",
       "Toutle Ridge06 | TORD06    | 1981       | 1997      | 10T     | 559413  | 5118329  | 122.23  | 46.2159 | 0.835     | 0.877     | 1365         | NW     | 7     | Blast edge  | Secondary\n",
       "Toutle Ridge05 | TORD05    | 1981       | 1997      | 10T     | 559342  | 5118366  | 122.231 | 46.2163 | 0.822     | 0.854     | 1352         | NNW    | 7     | Blast edge  | Secondary\n",
       "Toutle Ridge04 | TORD04    | 1981       | 1997      | 10T     | 559279  | 5115125  | 122.232 | 46.1871 | 0.764     | 0.818     | 1340         | NNW    | 12    | Blast edge  | Secondary\n",
       "Toutle Ridge03 | TORD03    | 1981       | 1997      | 10T     | 559238  | 5118483  | 122.232 | 46.2173 | 0.764     | 0.818     | 1320         | NNW    | 12    | Blast edge  | Secondary\n",
       "Toutle Ridge02 | TORD02    | 1981       | 1997      | 10T     | 559091  | 5118480  | 122.234 | 46.2173 | 0.861     | 0.9       | 1294         | WNW    | 6     | Blast edge  | Secondary\n",
       "Toutle Ridge01 | TORD01    | 1981       | 1997      | 10T     | 558992  | 5118569  | 122.235 | 46.2181 | 0.874     | 0.9       | 1280         | WNW    | 4     | Blast edge  | Secondary\n",
       "... (82 rows omitted)"
      ]
     },
     "execution_count": 10,
     "metadata": {},
     "output_type": "execute_result"
    }
   ],
   "source": [
    "# Plot description dataset\n",
    "# For the project, you will pick two plot codes\n",
    "# This first file has important metadata about the plots\n",
    "datafile = \"../../Mini Project II/data/MSH_PLOT_DESCRIPTORS2.csv\"\n",
    "MSH_PLOT = Table.read_table(datafile)\n",
    "MSH_PLOT"
   ]
  },
  {
   "cell_type": "code",
   "execution_count": null,
   "metadata": {
    "tags": []
   },
   "outputs": [],
   "source": [
    "np.unique(MSH_PLOT['PLOT_CODE'])"
   ]
  },
  {
   "cell_type": "code",
   "execution_count": null,
   "metadata": {
    "tags": []
   },
   "outputs": [],
   "source": [
    "MSH_PLOT = MSH_PLOT.with_columns('NLONG',-1*(MSH_PLOT.column('LONG')))\n",
    "MSH_map = MSH_PLOT.select('LAT', 'NLONG', 'PLOT_CODE').relabel('PLOT_CODE', 'labels')\n",
    "Circle.map_table(MSH_map, color='blue',area=200)"
   ]
  },
  {
   "cell_type": "markdown",
   "metadata": {},
   "source": [
    "## How can we join these data sets? "
   ]
  },
  {
   "cell_type": "code",
   "execution_count": 11,
   "metadata": {
    "tags": []
   },
   "outputs": [
    {
     "data": {
      "text/html": [
       "<table border=\"1\" class=\"dataframe\">\n",
       "    <thead>\n",
       "        <tr>\n",
       "            <th>PLOT_ID</th> <th>PLOT_NAME</th> <th>PLOT_NUMBER</th> <th>YEAR</th> <th>RICHNESS</th> <th>COVER_%</th> <th>HPRIME</th> <th>EVENNESS</th> <th>FREQUENCY</th>\n",
       "        </tr>\n",
       "    </thead>\n",
       "    <tbody>\n",
       "        <tr>\n",
       "            <td>ABPL011995</td> <td>ABPL     </td> <td>1          </td> <td>1995</td> <td>14      </td> <td>2.2    </td> <td>2.41  </td> <td>0.913   </td> <td>7.7      </td>\n",
       "        </tr>\n",
       "        <tr>\n",
       "            <td>ABPL011996</td> <td>ABPL     </td> <td>1          </td> <td>1996</td> <td>17      </td> <td>2.9    </td> <td>2.524 </td> <td>0.891   </td> <td>8.1      </td>\n",
       "        </tr>\n",
       "        <tr>\n",
       "            <td>ABPL011997</td> <td>ABPL     </td> <td>1          </td> <td>1997</td> <td>18      </td> <td>4.2    </td> <td>2.231 </td> <td>0.772   </td> <td>11.6     </td>\n",
       "        </tr>\n",
       "    </tbody>\n",
       "</table>\n",
       "<p>... (1740 rows omitted)</p>"
      ],
      "text/plain": [
       "<IPython.core.display.HTML object>"
      ]
     },
     "metadata": {},
     "output_type": "display_data"
    }
   ],
   "source": [
    "# Load plot data by year\n",
    "datafile = \"../../Mini Project II/data/MSH_STRUCTURE_PLOT_YEAR.csv\"\n",
    "MSH_YEAR = Table.read_table(datafile)\n",
    "MSH_YEAR.show(3)"
   ]
  },
  {
   "cell_type": "code",
   "execution_count": 14,
   "metadata": {
    "tags": []
   },
   "outputs": [
    {
     "data": {
      "text/html": [
       "<table border=\"1\" class=\"dataframe\">\n",
       "    <thead>\n",
       "        <tr>\n",
       "            <th>PLOT_NAME</th> <th>PLOT_CODE</th> <th>FIRST_YEAR</th> <th>LAST_YEAR</th> <th>UTMGRID</th> <th>UTMEAST</th> <th>UTMNORTH</th> <th>LONG</th> <th>LAT</th> <th>POT._RAD.</th> <th>HEAT_LOAD</th> <th>ELEVATION(M)</th> <th>ASPECT</th> <th>SLOPE</th> <th>IMPACT_TYPE</th> <th>SUCCESSION_TYPE</th>\n",
       "        </tr>\n",
       "    </thead>\n",
       "    <tbody>\n",
       "        <tr>\n",
       "            <td>Toutle Ridge10</td> <td>TORD10   </td> <td>1981      </td> <td>1996     </td> <td>10T    </td> <td>559724 </td> <td>5118180 </td> <td>122.226</td> <td>46.2146</td> <td>0.769    </td> <td>0.796    </td> <td>1430        </td> <td>N     </td> <td>11   </td> <td>Blast edge </td> <td>Secondary      </td>\n",
       "        </tr>\n",
       "        <tr>\n",
       "            <td>Toutle Ridge09</td> <td>TORD09   </td> <td>1981      </td> <td>1997     </td> <td>10T    </td> <td>559599 </td> <td>5118216 </td> <td>122.227</td> <td>46.2149</td> <td>0.722    </td> <td>0.827    </td> <td>1417        </td> <td>NW    </td> <td>18   </td> <td>Blast edge </td> <td>Secondary      </td>\n",
       "        </tr>\n",
       "        <tr>\n",
       "            <td>Toutle Ridge08</td> <td>TORD08   </td> <td>1981      </td> <td>1997     </td> <td>10T    </td> <td>559565 </td> <td>5118281 </td> <td>122.228</td> <td>46.2155</td> <td>0.788    </td> <td>0.833    </td> <td>1401        </td> <td>NNW   </td> <td>10   </td> <td>Blast edge </td> <td>Secondary      </td>\n",
       "        </tr>\n",
       "    </tbody>\n",
       "</table>\n",
       "<p>... (89 rows omitted)</p>"
      ],
      "text/plain": [
       "<IPython.core.display.HTML object>"
      ]
     },
     "metadata": {},
     "output_type": "display_data"
    }
   ],
   "source": [
    "MSH_PLOT.show(3)"
   ]
  },
  {
   "cell_type": "code",
   "execution_count": 15,
   "metadata": {
    "tags": []
   },
   "outputs": [
    {
     "data": {
      "text/plain": [
       "'ABPL01'"
      ]
     },
     "execution_count": 15,
     "metadata": {},
     "output_type": "execute_result"
    }
   ],
   "source": [
    "test = 'ABPL011995'\n",
    "test[0:6]"
   ]
  },
  {
   "cell_type": "code",
   "execution_count": 18,
   "metadata": {
    "tags": []
   },
   "outputs": [
    {
     "data": {
      "text/plain": [
       "'What a'"
      ]
     },
     "execution_count": 18,
     "metadata": {},
     "output_type": "execute_result"
    }
   ],
   "source": [
    "# This function is equivalent to the lambda function above.\n",
    "def chop_six(str):\n",
    "    return str[0:6]\n",
    "\n",
    "chop_six(\"What are the first six characters of this string?\")"
   ]
  },
  {
   "cell_type": "code",
   "execution_count": 19,
   "metadata": {
    "tags": []
   },
   "outputs": [
    {
     "data": {
      "text/html": [
       "<table border=\"1\" class=\"dataframe\">\n",
       "    <thead>\n",
       "        <tr>\n",
       "            <th>PLOT_ID</th> <th>PLOT_NAME</th> <th>PLOT_NUMBER</th> <th>YEAR</th> <th>RICHNESS</th> <th>COVER_%</th> <th>HPRIME</th> <th>EVENNESS</th> <th>FREQUENCY</th> <th>PLOT_CODE</th>\n",
       "        </tr>\n",
       "    </thead>\n",
       "    <tbody>\n",
       "        <tr>\n",
       "            <td>ABPL011995</td> <td>ABPL     </td> <td>1          </td> <td>1995</td> <td>14      </td> <td>2.2    </td> <td>2.41  </td> <td>0.913   </td> <td>7.7      </td> <td>ABPL01   </td>\n",
       "        </tr>\n",
       "        <tr>\n",
       "            <td>ABPL011996</td> <td>ABPL     </td> <td>1          </td> <td>1996</td> <td>17      </td> <td>2.9    </td> <td>2.524 </td> <td>0.891   </td> <td>8.1      </td> <td>ABPL01   </td>\n",
       "        </tr>\n",
       "        <tr>\n",
       "            <td>ABPL011997</td> <td>ABPL     </td> <td>1          </td> <td>1997</td> <td>18      </td> <td>4.2    </td> <td>2.231 </td> <td>0.772   </td> <td>11.6     </td> <td>ABPL01   </td>\n",
       "        </tr>\n",
       "    </tbody>\n",
       "</table>\n",
       "<p>... (1740 rows omitted)</p>"
      ],
      "text/plain": [
       "<IPython.core.display.HTML object>"
      ]
     },
     "metadata": {},
     "output_type": "display_data"
    }
   ],
   "source": [
    "MSH_YEAR = MSH_YEAR.with_column('PLOT_CODE',MSH_YEAR.apply(chop_six, 'PLOT_ID'))\n",
    "MSH_YEAR.show(3)"
   ]
  },
  {
   "cell_type": "code",
   "execution_count": 20,
   "metadata": {
    "tags": []
   },
   "outputs": [
    {
     "data": {
      "text/html": [
       "<table border=\"1\" class=\"dataframe\">\n",
       "    <thead>\n",
       "        <tr>\n",
       "            <th>PLOT_CODE</th> <th>PLOT_NAME</th> <th>FIRST_YEAR</th> <th>LAST_YEAR</th> <th>UTMGRID</th> <th>UTMEAST</th> <th>UTMNORTH</th> <th>LONG</th> <th>LAT</th> <th>POT._RAD.</th> <th>HEAT_LOAD</th> <th>ELEVATION(M)</th> <th>ASPECT</th> <th>SLOPE</th> <th>IMPACT_TYPE</th> <th>SUCCESSION_TYPE</th> <th>PLOT_ID</th> <th>PLOT_NAME_2</th> <th>PLOT_NUMBER</th> <th>YEAR</th> <th>RICHNESS</th> <th>COVER_%</th> <th>HPRIME</th> <th>EVENNESS</th> <th>FREQUENCY</th>\n",
       "        </tr>\n",
       "    </thead>\n",
       "    <tbody>\n",
       "        <tr>\n",
       "            <td>ABPL01   </td> <td>Abraham Plain01</td> <td>1995      </td> <td>2009     </td> <td>10T    </td> <td>566370 </td> <td>5118007 </td> <td>122.14</td> <td>46.2124</td> <td>0.893    </td> <td>0.881    </td> <td>1365        </td> <td>E     </td> <td>2    </td> <td>Blast; Scour; Pumice</td> <td>Primary        </td> <td>ABPL011995</td> <td>ABPL       </td> <td>1          </td> <td>1995</td> <td>14      </td> <td>2.2    </td> <td>2.41  </td> <td>0.913   </td> <td>7.7      </td>\n",
       "        </tr>\n",
       "        <tr>\n",
       "            <td>ABPL01   </td> <td>Abraham Plain01</td> <td>1995      </td> <td>2009     </td> <td>10T    </td> <td>566370 </td> <td>5118007 </td> <td>122.14</td> <td>46.2124</td> <td>0.893    </td> <td>0.881    </td> <td>1365        </td> <td>E     </td> <td>2    </td> <td>Blast; Scour; Pumice</td> <td>Primary        </td> <td>ABPL011996</td> <td>ABPL       </td> <td>1          </td> <td>1996</td> <td>17      </td> <td>2.9    </td> <td>2.524 </td> <td>0.891   </td> <td>8.1      </td>\n",
       "        </tr>\n",
       "        <tr>\n",
       "            <td>ABPL01   </td> <td>Abraham Plain01</td> <td>1995      </td> <td>2009     </td> <td>10T    </td> <td>566370 </td> <td>5118007 </td> <td>122.14</td> <td>46.2124</td> <td>0.893    </td> <td>0.881    </td> <td>1365        </td> <td>E     </td> <td>2    </td> <td>Blast; Scour; Pumice</td> <td>Primary        </td> <td>ABPL011997</td> <td>ABPL       </td> <td>1          </td> <td>1997</td> <td>18      </td> <td>4.2    </td> <td>2.231 </td> <td>0.772   </td> <td>11.6     </td>\n",
       "        </tr>\n",
       "    </tbody>\n",
       "</table>\n",
       "<p>... (1524 rows omitted)</p>"
      ],
      "text/plain": [
       "<IPython.core.display.HTML object>"
      ]
     },
     "metadata": {},
     "output_type": "display_data"
    }
   ],
   "source": [
    "# Join the two datatables on their common feature\n",
    "volcano = MSH_PLOT.join('PLOT_CODE', MSH_YEAR, 'PLOT_CODE')\n",
    "volcano.show(3)"
   ]
  },
  {
   "cell_type": "code",
   "execution_count": 21,
   "metadata": {
    "tags": []
   },
   "outputs": [
    {
     "data": {
      "text/plain": [
       "array(['Blast', 'Blast edge', 'Blast; Scour; Pumice', 'Blast; pumice',\n",
       "       'Lahar-thick deposit', 'Scour-Mild',\n",
       "       'Scour-intense; Moderate deposit', 'Scour-moderate; Thin deposit',\n",
       "       'Tephra', 'Weak blast; tephra'],\n",
       "      dtype='<U31')"
      ]
     },
     "execution_count": 21,
     "metadata": {},
     "output_type": "execute_result"
    }
   ],
   "source": [
    "np.unique(volcano['IMPACT_TYPE'])"
   ]
  },
  {
   "cell_type": "markdown",
   "metadata": {},
   "source": [
    "1. Create initial data tables and plots to explore the nature of the different plots included in \"data/MSH_PLOT_DESCRIPTORS2.csv\". Variables to consider include elevation, slope, aspect (direction), impact type. You could use group or pivot methods here.\n",
    "\n",
    "2. Identify two PLOT_CODEs to study based on mapped location and characteristics given in \"data/MSH_PLOT_DESCRIPTORS2.csv\" file. Use a markdown cell to provide reasons for your two choices of plots. Include differences and similarities.\n",
    "\n",
    "3. Carry out exploratory data analysis on the yearly data included in \"data/MSH_STRUCTURE_PLOT_YEAR.csv\" for each of the identified plots."
   ]
  },
  {
   "cell_type": "markdown",
   "metadata": {},
   "source": [
    "## Some example data exploration\n",
    "### Richness vs. aspect -- a decade of change"
   ]
  },
  {
   "cell_type": "code",
   "execution_count": 22,
   "metadata": {
    "tags": []
   },
   "outputs": [
    {
     "data": {
      "text/plain": [
       "array([1980, 1981, 1982, 1984, 1989, 1995])"
      ]
     },
     "execution_count": 22,
     "metadata": {},
     "output_type": "execute_result"
    }
   ],
   "source": [
    "np.unique(volcano['FIRST_YEAR'])"
   ]
  },
  {
   "cell_type": "code",
   "execution_count": 23,
   "metadata": {
    "tags": []
   },
   "outputs": [
    {
     "data": {
      "text/plain": [
       "array([1980, 1990, 1996, 1998, 2005, 2008, 2009])"
      ]
     },
     "execution_count": 23,
     "metadata": {},
     "output_type": "execute_result"
    }
   ],
   "source": [
    "np.unique(volcano['LAST_YEAR'])"
   ]
  },
  {
   "cell_type": "code",
   "execution_count": 24,
   "metadata": {
    "tags": []
   },
   "outputs": [
    {
     "data": {
      "text/html": [
       "<table border=\"1\" class=\"dataframe\">\n",
       "    <thead>\n",
       "        <tr>\n",
       "            <th>ASPECT</th> <th>count</th>\n",
       "        </tr>\n",
       "    </thead>\n",
       "    <tbody>\n",
       "        <tr>\n",
       "            <td>E     </td> <td>2    </td>\n",
       "        </tr>\n",
       "        <tr>\n",
       "            <td>ENE   </td> <td>2    </td>\n",
       "        </tr>\n",
       "        <tr>\n",
       "            <td>ESE   </td> <td>5    </td>\n",
       "        </tr>\n",
       "        <tr>\n",
       "            <td>N     </td> <td>3    </td>\n",
       "        </tr>\n",
       "        <tr>\n",
       "            <td>N     </td> <td>5    </td>\n",
       "        </tr>\n",
       "        <tr>\n",
       "            <td>NE    </td> <td>9    </td>\n",
       "        </tr>\n",
       "        <tr>\n",
       "            <td>NNE   </td> <td>3    </td>\n",
       "        </tr>\n",
       "        <tr>\n",
       "            <td>NW    </td> <td>12   </td>\n",
       "        </tr>\n",
       "        <tr>\n",
       "            <td>S     </td> <td>2    </td>\n",
       "        </tr>\n",
       "        <tr>\n",
       "            <td>SE    </td> <td>3    </td>\n",
       "        </tr>\n",
       "    </tbody>\n",
       "</table>\n",
       "<p>... (4 rows omitted)</p>"
      ],
      "text/plain": [
       "ASPECT | count\n",
       "E      | 2\n",
       "ENE    | 2\n",
       "ESE    | 5\n",
       "N      | 3\n",
       "N      | 5\n",
       "NE     | 9\n",
       "NNE    | 3\n",
       "NW     | 12\n",
       "S      | 2\n",
       "SE     | 3\n",
       "... (4 rows omitted)"
      ]
     },
     "execution_count": 24,
     "metadata": {},
     "output_type": "execute_result"
    }
   ],
   "source": [
    "before = volcano.where('YEAR', 1990)\n",
    "after = volcano.where('YEAR', 2000)\n",
    "\n",
    "before.select('ASPECT', 'RICHNESS', 'COVER_%').group('ASPECT')"
   ]
  },
  {
   "cell_type": "code",
   "execution_count": 25,
   "metadata": {
    "tags": []
   },
   "outputs": [
    {
     "data": {
      "text/html": [
       "<table border=\"1\" class=\"dataframe\">\n",
       "    <thead>\n",
       "        <tr>\n",
       "            <th>ASPECT</th> <th>count</th>\n",
       "        </tr>\n",
       "    </thead>\n",
       "    <tbody>\n",
       "        <tr>\n",
       "            <td>E     </td> <td>11   </td>\n",
       "        </tr>\n",
       "        <tr>\n",
       "            <td>ESE   </td> <td>3    </td>\n",
       "        </tr>\n",
       "        <tr>\n",
       "            <td>N     </td> <td>2    </td>\n",
       "        </tr>\n",
       "        <tr>\n",
       "            <td>N     </td> <td>4    </td>\n",
       "        </tr>\n",
       "        <tr>\n",
       "            <td>NE    </td> <td>9    </td>\n",
       "        </tr>\n",
       "        <tr>\n",
       "            <td>NNE   </td> <td>2    </td>\n",
       "        </tr>\n",
       "        <tr>\n",
       "            <td>NW    </td> <td>12   </td>\n",
       "        </tr>\n",
       "        <tr>\n",
       "            <td>S     </td> <td>2    </td>\n",
       "        </tr>\n",
       "        <tr>\n",
       "            <td>SE    </td> <td>3    </td>\n",
       "        </tr>\n",
       "        <tr>\n",
       "            <td>SSW   </td> <td>1    </td>\n",
       "        </tr>\n",
       "    </tbody>\n",
       "</table>\n",
       "<p>... (2 rows omitted)</p>"
      ],
      "text/plain": [
       "ASPECT | count\n",
       "E      | 11\n",
       "ESE    | 3\n",
       "N      | 2\n",
       "N      | 4\n",
       "NE     | 9\n",
       "NNE    | 2\n",
       "NW     | 12\n",
       "S      | 2\n",
       "SE     | 3\n",
       "SSW    | 1\n",
       "... (2 rows omitted)"
      ]
     },
     "execution_count": 25,
     "metadata": {},
     "output_type": "execute_result"
    }
   ],
   "source": [
    "after.select('ASPECT', 'RICHNESS', 'COVER_%').group('ASPECT')"
   ]
  },
  {
   "cell_type": "markdown",
   "metadata": {},
   "source": [
    "## There is always a data cleaning issue!\n",
    "There direction north is sometime encoded as 'N' and sometimes as 'N '"
   ]
  },
  {
   "cell_type": "code",
   "execution_count": 26,
   "metadata": {
    "tags": []
   },
   "outputs": [
    {
     "data": {
      "text/plain": [
       "array(['E', 'ENE', 'ESE', 'N', 'N ', 'NE', 'NNE', 'NW', 'S', 'SE', 'SSW',\n",
       "       'SW', 'W', 'WSW'],\n",
       "      dtype='<U3')"
      ]
     },
     "execution_count": 26,
     "metadata": {},
     "output_type": "execute_result"
    }
   ],
   "source": [
    "np.unique(volcano['ASPECT'])"
   ]
  },
  {
   "cell_type": "code",
   "execution_count": 28,
   "metadata": {
    "tags": []
   },
   "outputs": [
    {
     "data": {
      "text/html": [
       "<table border=\"1\" class=\"dataframe\">\n",
       "    <thead>\n",
       "        <tr>\n",
       "            <th>ASPECT</th> <th>count</th>\n",
       "        </tr>\n",
       "    </thead>\n",
       "    <tbody>\n",
       "        <tr>\n",
       "            <td>E     </td> <td>2    </td>\n",
       "        </tr>\n",
       "        <tr>\n",
       "            <td>ENE   </td> <td>2    </td>\n",
       "        </tr>\n",
       "        <tr>\n",
       "            <td>ESE   </td> <td>5    </td>\n",
       "        </tr>\n",
       "        <tr>\n",
       "            <td>N     </td> <td>8    </td>\n",
       "        </tr>\n",
       "        <tr>\n",
       "            <td>NE    </td> <td>9    </td>\n",
       "        </tr>\n",
       "        <tr>\n",
       "            <td>NNE   </td> <td>3    </td>\n",
       "        </tr>\n",
       "        <tr>\n",
       "            <td>NW    </td> <td>12   </td>\n",
       "        </tr>\n",
       "        <tr>\n",
       "            <td>S     </td> <td>2    </td>\n",
       "        </tr>\n",
       "        <tr>\n",
       "            <td>SE    </td> <td>3    </td>\n",
       "        </tr>\n",
       "        <tr>\n",
       "            <td>SSW   </td> <td>2    </td>\n",
       "        </tr>\n",
       "    </tbody>\n",
       "</table>\n",
       "<p>... (3 rows omitted)</p>"
      ],
      "text/plain": [
       "ASPECT | count\n",
       "E      | 2\n",
       "ENE    | 2\n",
       "ESE    | 5\n",
       "N      | 8\n",
       "NE     | 9\n",
       "NNE    | 3\n",
       "NW     | 12\n",
       "S      | 2\n",
       "SE     | 3\n",
       "SSW    | 2\n",
       "... (3 rows omitted)"
      ]
     },
     "execution_count": 28,
     "metadata": {},
     "output_type": "execute_result"
    }
   ],
   "source": [
    "# Fix the problem\n",
    "aspect = volcano.column('ASPECT')\n",
    "aspect[np.nonzero(aspect == 'N ')] = 'N'\n",
    "volcano = volcano.with_columns('ASPECT', aspect)\n",
    "\n",
    "before = volcano.where('YEAR', 1990)\n",
    "after = volcano.where('YEAR', 2000)\n",
    "\n",
    "before.select('ASPECT', 'RICHNESS', 'COVER_%').group('ASPECT')"
   ]
  },
  {
   "cell_type": "code",
   "execution_count": 29,
   "metadata": {
    "tags": []
   },
   "outputs": [
    {
     "data": {
      "text/html": [
       "<table border=\"1\" class=\"dataframe\">\n",
       "    <thead>\n",
       "        <tr>\n",
       "            <th>ASPECT</th> <th>count</th>\n",
       "        </tr>\n",
       "    </thead>\n",
       "    <tbody>\n",
       "        <tr>\n",
       "            <td>E     </td> <td>11   </td>\n",
       "        </tr>\n",
       "        <tr>\n",
       "            <td>ESE   </td> <td>3    </td>\n",
       "        </tr>\n",
       "        <tr>\n",
       "            <td>N     </td> <td>6    </td>\n",
       "        </tr>\n",
       "        <tr>\n",
       "            <td>NE    </td> <td>9    </td>\n",
       "        </tr>\n",
       "        <tr>\n",
       "            <td>NNE   </td> <td>2    </td>\n",
       "        </tr>\n",
       "        <tr>\n",
       "            <td>NW    </td> <td>12   </td>\n",
       "        </tr>\n",
       "        <tr>\n",
       "            <td>S     </td> <td>2    </td>\n",
       "        </tr>\n",
       "        <tr>\n",
       "            <td>SE    </td> <td>3    </td>\n",
       "        </tr>\n",
       "        <tr>\n",
       "            <td>SSW   </td> <td>1    </td>\n",
       "        </tr>\n",
       "        <tr>\n",
       "            <td>SW    </td> <td>2    </td>\n",
       "        </tr>\n",
       "    </tbody>\n",
       "</table>\n",
       "<p>... (1 rows omitted)</p>"
      ],
      "text/plain": [
       "ASPECT | count\n",
       "E      | 11\n",
       "ESE    | 3\n",
       "N      | 6\n",
       "NE     | 9\n",
       "NNE    | 2\n",
       "NW     | 12\n",
       "S      | 2\n",
       "SE     | 3\n",
       "SSW    | 1\n",
       "SW     | 2\n",
       "... (1 rows omitted)"
      ]
     },
     "execution_count": 29,
     "metadata": {},
     "output_type": "execute_result"
    }
   ],
   "source": [
    "after.select('ASPECT', 'RICHNESS', 'COVER_%').group('ASPECT')"
   ]
  },
  {
   "cell_type": "code",
   "execution_count": 30,
   "metadata": {
    "tags": []
   },
   "outputs": [
    {
     "data": {
      "text/html": [
       "<table border=\"1\" class=\"dataframe\">\n",
       "    <thead>\n",
       "        <tr>\n",
       "            <th>ASPECT</th> <th>RICHNESS median</th> <th>COVER_% median</th>\n",
       "        </tr>\n",
       "    </thead>\n",
       "    <tbody>\n",
       "        <tr>\n",
       "            <td>E     </td> <td>9.5            </td> <td>22.05         </td>\n",
       "        </tr>\n",
       "        <tr>\n",
       "            <td>ENE   </td> <td>20             </td> <td>72.85         </td>\n",
       "        </tr>\n",
       "        <tr>\n",
       "            <td>ESE   </td> <td>11             </td> <td>19.5          </td>\n",
       "        </tr>\n",
       "        <tr>\n",
       "            <td>N     </td> <td>7              </td> <td>1             </td>\n",
       "        </tr>\n",
       "        <tr>\n",
       "            <td>NE    </td> <td>5              </td> <td>0.5           </td>\n",
       "        </tr>\n",
       "        <tr>\n",
       "            <td>NNE   </td> <td>7              </td> <td>0.7           </td>\n",
       "        </tr>\n",
       "        <tr>\n",
       "            <td>NW    </td> <td>6.5            </td> <td>0.75          </td>\n",
       "        </tr>\n",
       "        <tr>\n",
       "            <td>S     </td> <td>18.5           </td> <td>33.05         </td>\n",
       "        </tr>\n",
       "        <tr>\n",
       "            <td>SE    </td> <td>13             </td> <td>27.7          </td>\n",
       "        </tr>\n",
       "        <tr>\n",
       "            <td>SSW   </td> <td>20             </td> <td>40.9          </td>\n",
       "        </tr>\n",
       "    </tbody>\n",
       "</table>\n",
       "<p>... (3 rows omitted)</p>"
      ],
      "text/plain": [
       "ASPECT | RICHNESS median | COVER_% median\n",
       "E      | 9.5             | 22.05\n",
       "ENE    | 20              | 72.85\n",
       "ESE    | 11              | 19.5\n",
       "N      | 7               | 1\n",
       "NE     | 5               | 0.5\n",
       "NNE    | 7               | 0.7\n",
       "NW     | 6.5             | 0.75\n",
       "S      | 18.5            | 33.05\n",
       "SE     | 13              | 27.7\n",
       "SSW    | 20              | 40.9\n",
       "... (3 rows omitted)"
      ]
     },
     "execution_count": 30,
     "metadata": {},
     "output_type": "execute_result"
    }
   ],
   "source": [
    "before.select('ASPECT', 'RICHNESS', 'COVER_%').group('ASPECT', np.median)"
   ]
  },
  {
   "cell_type": "code",
   "execution_count": 31,
   "metadata": {
    "tags": []
   },
   "outputs": [
    {
     "data": {
      "text/html": [
       "<table border=\"1\" class=\"dataframe\">\n",
       "    <thead>\n",
       "        <tr>\n",
       "            <th>ASPECT</th> <th>RICHNESS median</th> <th>COVER_% median</th>\n",
       "        </tr>\n",
       "    </thead>\n",
       "    <tbody>\n",
       "        <tr>\n",
       "            <td>E     </td> <td>17             </td> <td>6.1           </td>\n",
       "        </tr>\n",
       "        <tr>\n",
       "            <td>ESE   </td> <td>12             </td> <td>28.8          </td>\n",
       "        </tr>\n",
       "        <tr>\n",
       "            <td>N     </td> <td>18             </td> <td>47.3          </td>\n",
       "        </tr>\n",
       "        <tr>\n",
       "            <td>NE    </td> <td>19             </td> <td>3.5           </td>\n",
       "        </tr>\n",
       "        <tr>\n",
       "            <td>NNE   </td> <td>20.5           </td> <td>35.05         </td>\n",
       "        </tr>\n",
       "        <tr>\n",
       "            <td>NW    </td> <td>19.5           </td> <td>7.05          </td>\n",
       "        </tr>\n",
       "        <tr>\n",
       "            <td>S     </td> <td>20.5           </td> <td>35.2          </td>\n",
       "        </tr>\n",
       "        <tr>\n",
       "            <td>SE    </td> <td>16             </td> <td>40.6          </td>\n",
       "        </tr>\n",
       "        <tr>\n",
       "            <td>SSW   </td> <td>19             </td> <td>52.2          </td>\n",
       "        </tr>\n",
       "        <tr>\n",
       "            <td>SW    </td> <td>19.5           </td> <td>39.2          </td>\n",
       "        </tr>\n",
       "    </tbody>\n",
       "</table>\n",
       "<p>... (1 rows omitted)</p>"
      ],
      "text/plain": [
       "ASPECT | RICHNESS median | COVER_% median\n",
       "E      | 17              | 6.1\n",
       "ESE    | 12              | 28.8\n",
       "N      | 18              | 47.3\n",
       "NE     | 19              | 3.5\n",
       "NNE    | 20.5            | 35.05\n",
       "NW     | 19.5            | 7.05\n",
       "S      | 20.5            | 35.2\n",
       "SE     | 16              | 40.6\n",
       "SSW    | 19              | 52.2\n",
       "SW     | 19.5            | 39.2\n",
       "... (1 rows omitted)"
      ]
     },
     "execution_count": 31,
     "metadata": {},
     "output_type": "execute_result"
    }
   ],
   "source": [
    "after.select('ASPECT', 'RICHNESS', 'COVER_%').group('ASPECT', np.median)"
   ]
  },
  {
   "cell_type": "code",
   "execution_count": 32,
   "metadata": {
    "tags": []
   },
   "outputs": [
    {
     "data": {
      "text/html": [
       "<table border=\"1\" class=\"dataframe\">\n",
       "    <thead>\n",
       "        <tr>\n",
       "            <th>ASPECT</th> <th>RICHNESS median</th> <th>RICHNESS_2 median</th>\n",
       "        </tr>\n",
       "    </thead>\n",
       "    <tbody>\n",
       "        <tr>\n",
       "            <td>E     </td> <td>9.5            </td> <td>17               </td>\n",
       "        </tr>\n",
       "        <tr>\n",
       "            <td>ESE   </td> <td>11             </td> <td>12               </td>\n",
       "        </tr>\n",
       "        <tr>\n",
       "            <td>N     </td> <td>7              </td> <td>18               </td>\n",
       "        </tr>\n",
       "        <tr>\n",
       "            <td>NE    </td> <td>5              </td> <td>19               </td>\n",
       "        </tr>\n",
       "        <tr>\n",
       "            <td>NNE   </td> <td>7              </td> <td>20.5             </td>\n",
       "        </tr>\n",
       "        <tr>\n",
       "            <td>NW    </td> <td>6.5            </td> <td>19.5             </td>\n",
       "        </tr>\n",
       "        <tr>\n",
       "            <td>S     </td> <td>18.5           </td> <td>20.5             </td>\n",
       "        </tr>\n",
       "        <tr>\n",
       "            <td>SE    </td> <td>13             </td> <td>16               </td>\n",
       "        </tr>\n",
       "        <tr>\n",
       "            <td>SSW   </td> <td>20             </td> <td>19               </td>\n",
       "        </tr>\n",
       "        <tr>\n",
       "            <td>SW    </td> <td>20             </td> <td>19.5             </td>\n",
       "        </tr>\n",
       "    </tbody>\n",
       "</table>\n",
       "<p>... (1 rows omitted)</p>"
      ],
      "text/plain": [
       "ASPECT | RICHNESS median | RICHNESS_2 median\n",
       "E      | 9.5             | 17\n",
       "ESE    | 11              | 12\n",
       "N      | 7               | 18\n",
       "NE     | 5               | 19\n",
       "NNE    | 7               | 20.5\n",
       "NW     | 6.5             | 19.5\n",
       "S      | 18.5            | 20.5\n",
       "SE     | 13              | 16\n",
       "SSW    | 20              | 19\n",
       "SW     | 20              | 19.5\n",
       "... (1 rows omitted)"
      ]
     },
     "execution_count": 32,
     "metadata": {},
     "output_type": "execute_result"
    }
   ],
   "source": [
    "before = before.select('ASPECT', 'RICHNESS')\n",
    "after = after.select('ASPECT', 'RICHNESS')\n",
    "before.join('ASPECT', after, 'ASPECT').group('ASPECT', np.median)"
   ]
  },
  {
   "cell_type": "markdown",
   "metadata": {},
   "source": [
    "# Let's look at some trends"
   ]
  },
  {
   "cell_type": "code",
   "execution_count": 33,
   "metadata": {
    "tags": []
   },
   "outputs": [
    {
     "data": {
      "text/plain": [
       "array(['ABPL', 'BUCA', 'BUCB', 'BUCC', 'BUCD', 'LAHR', 'PICA', 'PICB',\n",
       "       'PICE', 'PUPL', 'SFTR', 'STRD', 'TORD'],\n",
       "      dtype='<U4')"
      ]
     },
     "execution_count": 33,
     "metadata": {},
     "output_type": "execute_result"
    }
   ],
   "source": [
    "np.unique(MSH_YEAR['PLOT_NAME'])"
   ]
  },
  {
   "cell_type": "code",
   "execution_count": 34,
   "metadata": {
    "tags": []
   },
   "outputs": [
    {
     "data": {
      "image/png": "[encoded data removed]",
      "text/plain": [
       "<Figure size 500x500 with 1 Axes>"
      ]
     },
     "metadata": {},
     "output_type": "display_data"
    }
   ],
   "source": [
    "MSH_YEAR.where('PLOT_NAME','STRD').scatter(\"YEAR\",\"RICHNESS\")"
   ]
  },
  {
   "cell_type": "code",
   "execution_count": 35,
   "metadata": {
    "tags": []
   },
   "outputs": [
    {
     "data": {
      "text/html": [
       "<table border=\"1\" class=\"dataframe\">\n",
       "    <thead>\n",
       "        <tr>\n",
       "            <th>YEAR</th> <th>PLOT_ID mean</th> <th>PLOT_NAME mean</th> <th>PLOT_NUMBER mean</th> <th>RICHNESS mean</th> <th>COVER_% mean</th> <th>HPRIME mean</th> <th>EVENNESS mean</th> <th>FREQUENCY mean</th> <th>PLOT_CODE mean</th>\n",
       "        </tr>\n",
       "    </thead>\n",
       "    <tbody>\n",
       "        <tr>\n",
       "            <td>1984</td> <td>            </td> <td>              </td> <td>5.5             </td> <td>0.6          </td> <td>0.06        </td> <td>0.1386     </td> <td>0.2          </td> <td>1.1           </td> <td>              </td>\n",
       "        </tr>\n",
       "        <tr>\n",
       "            <td>1985</td> <td>            </td> <td>              </td> <td>5.5             </td> <td>0.8          </td> <td>0.08        </td> <td>0.2079     </td> <td>0.3          </td> <td>0.85          </td> <td>              </td>\n",
       "        </tr>\n",
       "        <tr>\n",
       "            <td>1986</td> <td>            </td> <td>              </td> <td>5.5             </td> <td>1.4          </td> <td>0.28        </td> <td>0.3871     </td> <td>0.4          </td> <td>3.23          </td> <td>              </td>\n",
       "        </tr>\n",
       "        <tr>\n",
       "            <td>1988</td> <td>            </td> <td>              </td> <td>5.5             </td> <td>3.6          </td> <td>1.45        </td> <td>0.9923     </td> <td>0.5882       </td> <td>9.66          </td> <td>              </td>\n",
       "        </tr>\n",
       "        <tr>\n",
       "            <td>1989</td> <td>            </td> <td>              </td> <td>10.5            </td> <td>4.7          </td> <td>3.295       </td> <td>1.2956     </td> <td>0.82585      </td> <td>3.51          </td> <td>              </td>\n",
       "        </tr>\n",
       "        <tr>\n",
       "            <td>1990</td> <td>            </td> <td>              </td> <td>10.5            </td> <td>6.25         </td> <td>1.435       </td> <td>1.6168     </td> <td>0.919        </td> <td>3.605         </td> <td>              </td>\n",
       "        </tr>\n",
       "        <tr>\n",
       "            <td>1991</td> <td>            </td> <td>              </td> <td>10.5            </td> <td>8.3          </td> <td>3.11        </td> <td>1.79715    </td> <td>0.88635      </td> <td>3.87          </td> <td>              </td>\n",
       "        </tr>\n",
       "        <tr>\n",
       "            <td>1992</td> <td>            </td> <td>              </td> <td>10.5            </td> <td>11.15        </td> <td>4.71        </td> <td>2.0761     </td> <td>0.87865      </td> <td>4.43          </td> <td>              </td>\n",
       "        </tr>\n",
       "        <tr>\n",
       "            <td>1993</td> <td>            </td> <td>              </td> <td>8.5             </td> <td>13.375       </td> <td>6.40625     </td> <td>2.11463    </td> <td>0.830813     </td> <td>7.1           </td> <td>              </td>\n",
       "        </tr>\n",
       "        <tr>\n",
       "            <td>1994</td> <td>            </td> <td>              </td> <td>10.5            </td> <td>13.1         </td> <td>7.435       </td> <td>2.11255    </td> <td>0.83115      </td> <td>8.25          </td> <td>              </td>\n",
       "        </tr>\n",
       "    </tbody>\n",
       "</table>\n",
       "<p>... (14 rows omitted)</p>"
      ],
      "text/plain": [
       "YEAR | PLOT_ID mean | PLOT_NAME mean | PLOT_NUMBER mean | RICHNESS mean | COVER_% mean | HPRIME mean | EVENNESS mean | FREQUENCY mean | PLOT_CODE mean\n",
       "1984 |              |                | 5.5              | 0.6           | 0.06         | 0.1386      | 0.2           | 1.1            |\n",
       "1985 |              |                | 5.5              | 0.8           | 0.08         | 0.2079      | 0.3           | 0.85           |\n",
       "1986 |              |                | 5.5              | 1.4           | 0.28         | 0.3871      | 0.4           | 3.23           |\n",
       "1988 |              |                | 5.5              | 3.6           | 1.45         | 0.9923      | 0.5882        | 9.66           |\n",
       "1989 |              |                | 10.5             | 4.7           | 3.295        | 1.2956      | 0.82585       | 3.51           |\n",
       "1990 |              |                | 10.5             | 6.25          | 1.435        | 1.6168      | 0.919         | 3.605          |\n",
       "1991 |              |                | 10.5             | 8.3           | 3.11         | 1.79715     | 0.88635       | 3.87           |\n",
       "1992 |              |                | 10.5             | 11.15         | 4.71         | 2.0761      | 0.87865       | 4.43           |\n",
       "1993 |              |                | 8.5              | 13.375        | 6.40625      | 2.11463     | 0.830813      | 7.1            |\n",
       "1994 |              |                | 10.5             | 13.1          | 7.435        | 2.11255     | 0.83115       | 8.25           |\n",
       "... (14 rows omitted)"
      ]
     },
     "execution_count": 35,
     "metadata": {},
     "output_type": "execute_result"
    }
   ],
   "source": [
    "MSH_YEAR.where('PLOT_NAME','STRD').group(\"YEAR\",np.mean)"
   ]
  },
  {
   "cell_type": "code",
   "execution_count": 36,
   "metadata": {
    "tags": []
   },
   "outputs": [
    {
     "data": {
      "image/png": "[encoded data removed]",
      "text/plain": [
       "<Figure size 500x500 with 1 Axes>"
      ]
     },
     "metadata": {},
     "output_type": "display_data"
    }
   ],
   "source": [
    "MSH_YEAR.where('PLOT_NAME','STRD').group(\"YEAR\",np.mean).scatter(\"YEAR\", \"RICHNESS mean\")"
   ]
  },
  {
   "cell_type": "code",
   "execution_count": 37,
   "metadata": {
    "tags": []
   },
   "outputs": [
    {
     "data": {
      "image/png": "[encoded data removed]",
      "text/plain": [
       "<Figure size 500x500 with 1 Axes>"
      ]
     },
     "metadata": {},
     "output_type": "display_data"
    }
   ],
   "source": [
    "MSH_YEAR.where('PLOT_NAME','STRD').scatter('YEAR','RICHNESS')"
   ]
  },
  {
   "cell_type": "code",
   "execution_count": 38,
   "metadata": {
    "tags": []
   },
   "outputs": [],
   "source": [
    "def simulate_under_null(num_chances_to_change):\n",
    "    uniform = Table().with_columns(\n",
    "        \"Change\", make_array('Increase', 'Decrease'),\n",
    "        \"Chance\", make_array(0.5,        0.5))\n",
    "    sample = uniform.sample_from_distribution('Chance', num_chances_to_change)     \n",
    "    increases = sample.column(\"Chance sample\").item(0) \n",
    "    decreases = sample.column(\"Chance sample\").item(1)  \n",
    "    return increases - decreases  "
   ]
  },
  {
   "cell_type": "code",
   "execution_count": 39,
   "metadata": {
    "tags": []
   },
   "outputs": [],
   "source": [
    "def empirical_distribution(tbl,iterations):\n",
    "    num_changes = tbl.num_rows \n",
    "    samples = make_array()\n",
    "    for i in np.arange(iterations):\n",
    "        samples = np.append(samples, simulate_under_null(num_changes)) \n",
    "    Table().with_column('Test statistic under null', samples).hist(bins=np.arange(min(samples), max(samples) + max(samples) , 2))\n",
    "    return samples"
   ]
  },
  {
   "cell_type": "code",
   "execution_count": 40,
   "metadata": {
    "tags": []
   },
   "outputs": [
    {
     "data": {
      "text/plain": [
       "array([ 0.,  0.,  2., ..., -8.,  0.,  4.])"
      ]
     },
     "execution_count": 40,
     "metadata": {},
     "output_type": "execute_result"
    },
    {
     "data": {
      "image/png": "[encoded data removed]",
      "text/plain": [
       "<Figure size 600x400 with 1 Axes>"
      ]
     },
     "metadata": {},
     "output_type": "display_data"
    }
   ],
   "source": [
    "empirical_distribution(MSH_YEAR.where('PLOT_NAME','STRD').group(\"YEAR\",np.mean),10000)"
   ]
  },
  {
   "cell_type": "code",
   "execution_count": 41,
   "metadata": {
    "tags": []
   },
   "outputs": [
    {
     "data": {
      "text/plain": [
       "array([ 27.,  21.,   7., ...,  17.,   5., -39.])"
      ]
     },
     "execution_count": 41,
     "metadata": {},
     "output_type": "execute_result"
    },
    {
     "data": {
      "image/png": "[encoded data removed]",
      "text/plain": [
       "<Figure size 600x400 with 1 Axes>"
      ]
     },
     "metadata": {},
     "output_type": "display_data"
    }
   ],
   "source": [
    "empirical_distribution(MSH_YEAR.where('PLOT_NAME','STRD'),10000)"
   ]
  },
  {
   "cell_type": "code",
   "execution_count": null,
   "metadata": {},
   "outputs": [],
   "source": []
  },
  {
   "cell_type": "code",
   "execution_count": null,
   "metadata": {},
   "outputs": [],
   "source": []
  },
  {
   "cell_type": "code",
   "execution_count": null,
   "metadata": {},
   "outputs": [],
   "source": []
  },
  {
   "cell_type": "code",
   "execution_count": null,
   "metadata": {},
   "outputs": [],
   "source": []
  }
 ],
 "metadata": {
  "kernelspec": {
   "display_name": "Python 3 (ipykernel)",
   "language": "python",
   "name": "python3"
  },
  "language_info": {
   "codemirror_mode": {
    "name": "ipython",
    "version": 3
   },
   "file_extension": ".py",
   "mimetype": "text/x-python",
   "name": "python",
   "nbconvert_exporter": "python",
   "pygments_lexer": "ipython3",
   "version": "3.10.11"
  }
 },
 "nbformat": 4,
 "nbformat_minor": 4
}
