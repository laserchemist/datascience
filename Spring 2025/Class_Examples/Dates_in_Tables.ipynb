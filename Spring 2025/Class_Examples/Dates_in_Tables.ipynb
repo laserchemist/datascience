{
 "cells": [
  {
   "cell_type": "markdown",
   "id": "74708d45-d0e1-49c4-9418-a2647f8eb41a",
   "metadata": {},
   "source": [
    "### Dates and times in Tables\n",
    "One thing that is more complicated then we would like but is a common need for a data scientist is encoding data and time. Computer operating systems like Windows and Linux use as a reference point or epoch January 1, 1970 and determine the number of seconds since midnight the start of 1970 to do time computations. That way the computer can store each date as a simple integer representing the number of seconds since the epoch. Working with dates can be tricky. Fortunately, Python has a module (library of functions) that helps! <br>\n",
    "\n",
    "Seconds  since January 1, 1970 today is given by time.time() after importing time module:"
   ]
  },
  {
   "cell_type": "code",
   "execution_count": null,
   "id": "1ac12c1a-01e1-4398-9de6-c7ceab364f07",
   "metadata": {},
   "outputs": [],
   "source": [
    "import time                # Python time functions\n",
    "from time import strptime \n",
    "time.time() # Returns the current date and time in seconds since common epoch"
   ]
  },
  {
   "cell_type": "markdown",
   "id": "8f8a8952-17a3-4bd6-9ede-7409567ec402",
   "metadata": {},
   "source": [
    "We can also use a string containing the year, month & day using the <b><i>strptime</i></b> function. Why the \"p\" in the name strptime? It stands for \"parse.\" To parse a sentence is to break it into its grammatical parts. Here the function strptime parses a date sting into year, month, day to calculate a time."
   ]
  },
  {
   "cell_type": "code",
   "execution_count": null,
   "id": "4016da6c-76c9-4aab-9ef1-960d92fdb3ad",
   "metadata": {},
   "outputs": [],
   "source": [
    "time0 = strptime('2020-01-21', '%Y-%m-%d')\n",
    "time.mktime(time0)"
   ]
  },
  {
   "cell_type": "markdown",
   "id": "bfcc4c01-0421-4910-b187-88ee76697894",
   "metadata": {},
   "source": [
    "How did this work? We passed a string of characters to strptime() as the first argument: '2020-01-21'<br>\n",
    "The second argument told the strptime() function how to parse the first string, specifying that the format begins with full year (%Y), followed by the month (%m), then the day (%d), and that the three are separated with hyphens. Put it all together and you have: '%Y-%m-%d'\n",
    "\n",
    "The strptime() function can parse (convert text to a number) many different date formats, including days of the week. You can read more about it [here](https://docs.python.org/3/library/datetime.html#strftime-and-strptime-behavior).\n",
    "\n",
    "We can also use the data type of the numpy array to generate an appropriate conversion from the number of seconds since midnight the start of 1970 to legible dates."
   ]
  },
  {
   "cell_type": "code",
   "execution_count": 15,
   "id": "6e179208-4148-4a60-8a19-d3f4f8be3204",
   "metadata": {},
   "outputs": [
    {
     "data": {
      "text/plain": [
       "array(['1970-01-01T00:00:00', '2020-01-21T00:00:00'], dtype='datetime64[s]')"
      ]
     },
     "execution_count": 15,
     "metadata": {},
     "output_type": "execute_result"
    }
   ],
   "source": [
    "np.array([0, 1579564800], dtype='datetime64[s]') # See above for seconds resulting from string '2020-01-21'"
   ]
  },
  {
   "cell_type": "markdown",
   "id": "c9a42419-1c00-43b2-9eaf-545dd0e703bb",
   "metadata": {},
   "source": [
    "Now we can recast example as a datetime64 object"
   ]
  },
  {
   "cell_type": "code",
   "execution_count": null,
   "id": "28ab12e5-ae54-4991-a6a3-f389889f63f4",
   "metadata": {},
   "outputs": [],
   "source": [
    "example = np.array([0, 1579564800])\n",
    "print('Original example: ',example)           \n",
    "example = example.astype('datetime64[s]')\n",
    "print('example as datetime64 object: ',example)"
   ]
  },
  {
   "cell_type": "markdown",
   "id": "69f7c2a9-f68f-4410-a09a-55b882021d5b",
   "metadata": {},
   "source": [
    "Notice that the result include T00:00:00' What is that? The 'T' stands for timezone. Unless you specify a time zone, Python will assume you are working in Greenwich Mean Time (GMT) with is time zone zero. Eastern standard time is five hours behind, except when we are on Eastern Daylight Time, then we are four hours behind. **I told you time was complicated!**\n",
    "\n",
    "Astronomers and many other scientists get around though whole time zone issue by just reporting all observations in GMT. This avoids the confusion of thousands of observers around the world reporting when then saw an eclipse or felt an earthquake in their local time zones. If we all learned to use GMT if might also avoid confusion about when an international Zoom meeting is scheduled to begin!"
   ]
  },
  {
   "cell_type": "markdown",
   "id": "33e6e169-0fcc-417d-be4a-ba5787b34560",
   "metadata": {
    "tags": []
   },
   "source": [
    "### <font color=blue> **Question 1.** </font><br />\n",
    "Determine the number of seconds between January 21, 2020 (considered the start of the COVID pandemic in the US) and December 31, 2021 (both at midnight). Remember doing this in Lab02 for seconds over a period of years. <br>Use two methods: <br> A) Multiplying 60 seconds * 60 minutes * 24 hours * ... this is `difftimeA` <br> B) Using strptime and time.mktime() ... this is `difftimeB`\n",
    "\n",
    "*Hint: Don't forget about leap years, another time/date complication!*"
   ]
  },
  {
   "cell_type": "code",
   "execution_count": null,
   "id": "f787722e-e2bc-44b2-8e33-8a519c697949",
   "metadata": {},
   "outputs": [],
   "source": [
    "difftimeA = ... # Compute through multiplaction 60 seconds * 60 minutes * 24 hours * ... \n",
    "\n",
    "time1a = strptime('2020-01-21', '%Y-%m-%d')\n",
    "time1 = time.mktime(time0)\n",
    "time2a = ...\n",
    "time2 = ...\n",
    "\n",
    "difftimeB = ...\n",
    "print(difftimeB, difftimeA)"
   ]
  },
  {
   "cell_type": "code",
   "execution_count": null,
   "id": "e0adfb5b-7464-4f3d-8edd-e077c38265d3",
   "metadata": {},
   "outputs": [],
   "source": [
    "check('tests/q1a.py')"
   ]
  }
 ],
 "metadata": {
  "kernelspec": {
   "display_name": "Python 3 (ipykernel)",
   "language": "python",
   "name": "python3"
  },
  "language_info": {
   "codemirror_mode": {
    "name": "ipython",
    "version": 3
   },
   "file_extension": ".py",
   "mimetype": "text/x-python",
   "name": "python",
   "nbconvert_exporter": "python",
   "pygments_lexer": "ipython3",
   "version": "3.9.12"
  }
 },
 "nbformat": 4,
 "nbformat_minor": 5
}
