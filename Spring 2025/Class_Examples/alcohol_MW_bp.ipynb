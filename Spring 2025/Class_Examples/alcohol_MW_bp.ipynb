{
 "cells": [
  {
   "cell_type": "code",
   "execution_count": 6,
   "id": "cfaf5a5a-ae6d-4750-8176-04132b41ebb4",
   "metadata": {},
   "outputs": [],
   "source": [
    "from datascience import *\n",
    "import numpy as np\n",
    "%matplotlib inline\n",
    "import matplotlib.pyplot as plt\n"
   ]
  },
  {
   "cell_type": "code",
   "execution_count": 7,
   "id": "4e7df76e-f037-4824-8fec-04216c2e0bff",
   "metadata": {},
   "outputs": [
    {
     "data": {
      "text/html": [
       "<table border=\"1\" class=\"dataframe\">\n",
       "    <thead>\n",
       "        <tr>\n",
       "            <th>bp</th> <th>MW</th> <th>carbons</th> <th>degree</th> <th>aliphatic</th> <th>avg_aryl_position</th> <th>cyclic</th>\n",
       "        </tr>\n",
       "    </thead>\n",
       "    <tbody>\n",
       "        <tr>\n",
       "            <td>338 </td> <td>32.04</td> <td>1      </td> <td>1     </td> <td>1        </td> <td>0                </td> <td>0     </td>\n",
       "        </tr>\n",
       "        <tr>\n",
       "            <td>351 </td> <td>46.07</td> <td>2      </td> <td>1     </td> <td>1        </td> <td>0                </td> <td>0     </td>\n",
       "        </tr>\n",
       "        <tr>\n",
       "            <td>371 </td> <td>60.1 </td> <td>3      </td> <td>1     </td> <td>1        </td> <td>0                </td> <td>0     </td>\n",
       "        </tr>\n",
       "        <tr>\n",
       "            <td>356 </td> <td>60.1 </td> <td>3      </td> <td>2     </td> <td>1        </td> <td>0                </td> <td>0     </td>\n",
       "        </tr>\n",
       "        <tr>\n",
       "            <td>391 </td> <td>74.12</td> <td>4      </td> <td>1     </td> <td>1        </td> <td>0                </td> <td>0     </td>\n",
       "        </tr>\n",
       "        <tr>\n",
       "            <td>372 </td> <td>74.12</td> <td>4      </td> <td>2     </td> <td>1        </td> <td>0                </td> <td>0     </td>\n",
       "        </tr>\n",
       "        <tr>\n",
       "            <td>381 </td> <td>74.12</td> <td>4      </td> <td>1     </td> <td>1        </td> <td>0                </td> <td>0     </td>\n",
       "        </tr>\n",
       "        <tr>\n",
       "            <td>355 </td> <td>74.12</td> <td>4      </td> <td>3     </td> <td>1        </td> <td>0                </td> <td>0     </td>\n",
       "        </tr>\n",
       "        <tr>\n",
       "            <td>411 </td> <td>88.15</td> <td>5      </td> <td>1     </td> <td>1        </td> <td>0                </td> <td>0     </td>\n",
       "        </tr>\n",
       "        <tr>\n",
       "            <td>404 </td> <td>88.15</td> <td>5      </td> <td>1     </td> <td>1        </td> <td>0                </td> <td>0     </td>\n",
       "        </tr>\n",
       "    </tbody>\n",
       "</table>\n",
       "<p>... (62 rows omitted)</p>"
      ],
      "text/plain": [
       "bp   | MW    | carbons | degree | aliphatic | avg_aryl_position | cyclic\n",
       "338  | 32.04 | 1       | 1      | 1         | 0                 | 0\n",
       "351  | 46.07 | 2       | 1      | 1         | 0                 | 0\n",
       "371  | 60.1  | 3       | 1      | 1         | 0                 | 0\n",
       "356  | 60.1  | 3       | 2      | 1         | 0                 | 0\n",
       "391  | 74.12 | 4       | 1      | 1         | 0                 | 0\n",
       "372  | 74.12 | 4       | 2      | 1         | 0                 | 0\n",
       "381  | 74.12 | 4       | 1      | 1         | 0                 | 0\n",
       "355  | 74.12 | 4       | 3      | 1         | 0                 | 0\n",
       "411  | 88.15 | 5       | 1      | 1         | 0                 | 0\n",
       "404  | 88.15 | 5       | 1      | 1         | 0                 | 0\n",
       "... (62 rows omitted)"
      ]
     },
     "execution_count": 7,
     "metadata": {},
     "output_type": "execute_result"
    }
   ],
   "source": [
    "data_file = 'data/ROH_data.csv'\n",
    "ROH_data = Table().read_table(data_file)\n",
    "ROH_data"
   ]
  },
  {
   "cell_type": "code",
   "execution_count": 11,
   "id": "4a39ff54-b99d-4ea9-917b-837c1745d8c8",
   "metadata": {},
   "outputs": [
    {
     "data": {
      "image/png": "[encoded data removed]",
      "text/plain": [
       "<Figure size 432x288 with 1 Axes>"
      ]
     },
     "metadata": {
      "needs_background": "light"
     },
     "output_type": "display_data"
    }
   ],
   "source": [
    "plt.scatter(ROH_data['MW'],ROH_data['bp'],color = '#9E1B34',s=10*ROH_data['carbons'])\n",
    "plt.xlabel('MW [g/mol]')\n",
    "plt.ylabel('bp [K]')\n",
    "plt.show()"
   ]
  },
  {
   "cell_type": "code",
   "execution_count": null,
   "id": "c9114b97-f1d1-4e2d-b6d2-b7a47035285a",
   "metadata": {},
   "outputs": [],
   "source": []
  }
 ],
 "metadata": {
  "kernelspec": {
   "display_name": "Python 3 (ipykernel)",
   "language": "python",
   "name": "python3"
  },
  "language_info": {
   "codemirror_mode": {
    "name": "ipython",
    "version": 3
   },
   "file_extension": ".py",
   "mimetype": "text/x-python",
   "name": "python",
   "nbconvert_exporter": "python",
   "pygments_lexer": "ipython3",
   "version": "3.9.12"
  }
 },
 "nbformat": 4,
 "nbformat_minor": 5
}
