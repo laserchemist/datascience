{
 "cells": [
  {
   "cell_type": "markdown",
   "metadata": {},
   "source": [
    "### Hypothesis testing\n",
    "#### Mini project II\n",
    "Elements of Data Science"
   ]
  },
  {
   "cell_type": "code",
   "execution_count": 30,
   "metadata": {},
   "outputs": [],
   "source": [
    "import numpy as np\n",
    "from datascience import *"
   ]
  },
  {
   "cell_type": "code",
   "execution_count": 31,
   "metadata": {},
   "outputs": [],
   "source": [
    "%matplotlib inline\n",
    "import matplotlib.pyplot as plt\n",
    "plt.style.use('fivethirtyeight')"
   ]
  },
  {
   "cell_type": "markdown",
   "metadata": {},
   "source": [
    "## Hypothesis Testing"
   ]
  },
  {
   "cell_type": "markdown",
   "metadata": {},
   "source": [
    "#### Create differences Test statistic \n"
   ]
  },
  {
   "cell_type": "code",
   "execution_count": 32,
   "metadata": {},
   "outputs": [],
   "source": [
    "def diff_n(values, n):\n",
    "    return np.array(values)[n:] - np.array(values)[:-n]"
   ]
  },
  {
   "cell_type": "code",
   "execution_count": null,
   "metadata": {
    "tags": []
   },
   "outputs": [],
   "source": [
    "sample_array = make_array(1.0, 1.5,1.4, 1.2, 2.0, 1.8)"
   ]
  },
  {
   "cell_type": "code",
   "execution_count": null,
   "metadata": {},
   "outputs": [],
   "source": [
    "positive = np.count_nonzero(diff_n(sample_array, 2)>0)\n",
    "positive"
   ]
  },
  {
   "cell_type": "code",
   "execution_count": null,
   "metadata": {},
   "outputs": [],
   "source": [
    "negative = np.count_nonzero(diff_n(sample_array, 2) < 0)\n",
    "negative"
   ]
  },
  {
   "cell_type": "code",
   "execution_count": null,
   "metadata": {},
   "outputs": [],
   "source": [
    "positive - negative"
   ]
  },
  {
   "cell_type": "code",
   "execution_count": 33,
   "metadata": {},
   "outputs": [],
   "source": [
    "def changes(rates, years = 1):\n",
    "    \"Return the number of increases minus the number of decreases after two years.\"\n",
    "    differences = diff_n(rates, years)  \n",
    "    positives = np.count_nonzero(differences > 0)\n",
    "    negatives = np.count_nonzero(differences < 0) \n",
    "    return positives - negatives  "
   ]
  },
  {
   "cell_type": "markdown",
   "metadata": {
    "tags": []
   },
   "source": [
    "### Berkeley Earth High Resolution data"
   ]
  },
  {
   "cell_type": "code",
   "execution_count": null,
   "metadata": {
    "tags": []
   },
   "outputs": [],
   "source": [
    "berkdata = \"data/Global_TAVG_monthly.csv\""
   ]
  },
  {
   "cell_type": "code",
   "execution_count": null,
   "metadata": {
    "tags": []
   },
   "outputs": [],
   "source": [
    "bd = Table().read_table(berkdata)\n",
    "bd.show(2)"
   ]
  },
  {
   "cell_type": "code",
   "execution_count": null,
   "metadata": {
    "tags": []
   },
   "outputs": [],
   "source": [
    "bd.plot(\"Year\",\"Monthly\")"
   ]
  },
  {
   "cell_type": "code",
   "execution_count": null,
   "metadata": {
    "tags": []
   },
   "outputs": [],
   "source": [
    "bd.where(\"Month\",12).scatter(\"Year\",\"Monthly\")\n",
    "plt.title(\"Berkeley Earth High Res Glabal Data: December\")"
   ]
  },
  {
   "cell_type": "code",
   "execution_count": null,
   "metadata": {
    "tags": []
   },
   "outputs": [],
   "source": [
    "bd.where(\"Month\",9).scatter(\"Year\",\"Monthly\")\n",
    "plt.title(\"Berkeley Earth High Res Glabal Data: September\")"
   ]
  },
  {
   "cell_type": "code",
   "execution_count": null,
   "metadata": {
    "tags": []
   },
   "outputs": [],
   "source": [
    "september_temp = bd.where(\"Month\",9).column(\"Monthly\")"
   ]
  },
  {
   "cell_type": "code",
   "execution_count": null,
   "metadata": {
    "tags": []
   },
   "outputs": [],
   "source": [
    "changes(september_temp,2)"
   ]
  },
  {
   "cell_type": "code",
   "execution_count": null,
   "metadata": {
    "tags": []
   },
   "outputs": [],
   "source": [
    "december_temp = bd.where(\"Month\",12).column(\"Monthly\")"
   ]
  },
  {
   "cell_type": "code",
   "execution_count": null,
   "metadata": {
    "tags": []
   },
   "outputs": [],
   "source": [
    "np.sum(diff_n(december_temp, 2)>0)"
   ]
  },
  {
   "cell_type": "code",
   "execution_count": null,
   "metadata": {
    "tags": []
   },
   "outputs": [],
   "source": [
    "np.count_nonzero(diff_n(december_temp, 2)<0)"
   ]
  },
  {
   "cell_type": "code",
   "execution_count": null,
   "metadata": {
    "tags": []
   },
   "outputs": [],
   "source": [
    "december_temp = bd.where(\"Month\",12).column(\"Monthly\")"
   ]
  },
  {
   "cell_type": "code",
   "execution_count": null,
   "metadata": {
    "tags": []
   },
   "outputs": [],
   "source": [
    "changes(december_temp,2)"
   ]
  },
  {
   "cell_type": "code",
   "execution_count": null,
   "metadata": {
    "tags": []
   },
   "outputs": [],
   "source": [
    "len(december_temp)"
   ]
  },
  {
   "cell_type": "code",
   "execution_count": null,
   "metadata": {
    "tags": []
   },
   "outputs": [],
   "source": [
    "def sim_null(num=173):\n",
    "    tchance = np.random.choice([\"Increase\",\"Decrease\"],num)\n",
    "    inc = np.sum(tchance==\"Increase\")\n",
    "    dec = np.sum(tchance==\"Decrease\")\n",
    "    return inc-dec"
   ]
  },
  {
   "cell_type": "code",
   "execution_count": null,
   "metadata": {
    "tags": []
   },
   "outputs": [],
   "source": [
    "sim_null()"
   ]
  },
  {
   "cell_type": "code",
   "execution_count": null,
   "metadata": {
    "tags": []
   },
   "outputs": [],
   "source": [
    "sample = []\n",
    "for i in np.arange(15000):\n",
    "    sample.append(sim_null(173))\n",
    "plt.hist(sample, label='null distribution', bins = np.arange(-50,50,2),color='yellow',alpha=0.4, edgecolor='black', linewidth=1.2)\n",
    "plt.scatter(changes(september_temp,2),0, s=300, label='test statistic',marker='o', \n",
    "            c='red',alpha=0.8, edgecolors='blue')\n",
    "plt.legend(loc='center left', bbox_to_anchor=(1.1, 0.5), labelspacing=3)\n",
    "plt.title('September Temperature Changes')\n",
    "plt.show()"
   ]
  },
  {
   "cell_type": "code",
   "execution_count": null,
   "metadata": {
    "tags": []
   },
   "outputs": [],
   "source": [
    "np.count_nonzero(np.array(sample)>17)/len(sample)"
   ]
  },
  {
   "cell_type": "code",
   "execution_count": null,
   "metadata": {
    "tags": []
   },
   "outputs": [],
   "source": [
    "len(sample)"
   ]
  },
  {
   "cell_type": "code",
   "execution_count": null,
   "metadata": {
    "tags": []
   },
   "outputs": [],
   "source": [
    "bd_annual = bd.group('Year', np.average)\n",
    "#bd_annual.plot(\"Year\",\"Monthly average\")\n",
    "bd_annual"
   ]
  },
  {
   "cell_type": "code",
   "execution_count": null,
   "metadata": {
    "tags": []
   },
   "outputs": [],
   "source": [
    "changes(bd_annual.column(\"Monthly average\"),2)"
   ]
  },
  {
   "cell_type": "code",
   "execution_count": null,
   "metadata": {
    "tags": []
   },
   "outputs": [],
   "source": [
    "np.count_nonzero(np.array(sample)>22)/len(sample)"
   ]
  },
  {
   "cell_type": "code",
   "execution_count": null,
   "metadata": {
    "tags": []
   },
   "outputs": [],
   "source": [
    "sample = []\n",
    "for i in np.arange(15000):\n",
    "    sample.append(sim_null(173))\n",
    "plt.hist(sample, label='null distribution', bins = np.arange(-50,50,2),color='yellow',alpha=0.4, edgecolor='black', linewidth=1.2)\n",
    "plt.scatter(changes(bd_annual.column(\"Monthly average\"),2),0, s=300, label='test statistic',marker='o', \n",
    "            c='red',alpha=0.8, edgecolors='blue')\n",
    "plt.legend(loc='center left', bbox_to_anchor=(1.1, 0.5), labelspacing=3)\n",
    "plt.title('Annual Temperature Changes')\n",
    "plt.text(75, 250, 'p-value 0.048', color = \"black\")\n",
    "plt.show()"
   ]
  },
  {
   "cell_type": "markdown",
   "metadata": {},
   "source": [
    "### Inference and biodiversity recovery"
   ]
  },
  {
   "cell_type": "code",
   "execution_count": 34,
   "metadata": {},
   "outputs": [
    {
     "data": {
      "text/html": [
       "<table border=\"1\" class=\"dataframe\">\n",
       "    <thead>\n",
       "        <tr>\n",
       "            <th>PLOT_NAME</th> <th>PLOT_CODE</th> <th>FIRST_YEAR</th> <th>LAST_YEAR</th> <th>UTMGRID</th> <th>UTMEAST</th> <th>UTMNORTH</th> <th>LONG</th> <th>LAT</th> <th>POT._RAD.</th> <th>HEAT_LOAD</th> <th>ELEVATION(M)</th> <th>ASPECT</th> <th>SLOPE</th> <th>IMPACT_TYPE</th> <th>SUCCESSION_TYPE</th>\n",
       "        </tr>\n",
       "    </thead>\n",
       "    <tbody>\n",
       "        <tr>\n",
       "            <td>Toutle Ridge10</td> <td>TORD10   </td> <td>1981      </td> <td>1996     </td> <td>10T    </td> <td>559724 </td> <td>5118180 </td> <td>122.226</td> <td>46.2146</td> <td>0.769    </td> <td>0.796    </td> <td>1430        </td> <td>N     </td> <td>11   </td> <td>Blast edge </td> <td>Secondary      </td>\n",
       "        </tr>\n",
       "    </tbody>\n",
       "</table>"
      ],
      "text/plain": [
       "PLOT_NAME      | PLOT_CODE | FIRST_YEAR | LAST_YEAR | UTMGRID | UTMEAST | UTMNORTH | LONG    | LAT     | POT._RAD. | HEAT_LOAD | ELEVATION(M) | ASPECT | SLOPE | IMPACT_TYPE | SUCCESSION_TYPE\n",
       "Toutle Ridge10 | TORD10    | 1981       | 1996      | 10T     | 559724  | 5118180  | 122.226 | 46.2146 | 0.769     | 0.796     | 1430         | N      | 11    | Blast edge  | Secondary"
      ]
     },
     "execution_count": 34,
     "metadata": {},
     "output_type": "execute_result"
    }
   ],
   "source": [
    "# Plot description dataset\n",
    "datafile = \"../Mini-II/data/MSH_PLOT_DESCRIPTORS2.csv\"\n",
    "MSH_PLOT = Table.read_table(datafile)\n",
    "MSH_PLOT.where('PLOT_CODE','TORD10')"
   ]
  },
  {
   "cell_type": "code",
   "execution_count": null,
   "metadata": {},
   "outputs": [],
   "source": [
    "np.unique(MSH_PLOT['PLOT_CODE'])"
   ]
  },
  {
   "cell_type": "code",
   "execution_count": null,
   "metadata": {},
   "outputs": [],
   "source": [
    "MSH_PLOT = MSH_PLOT.with_columns('NLONG',-1*(MSH_PLOT.column('LONG')))\n",
    "MSH_map = MSH_PLOT.select('LAT', 'NLONG', 'PLOT_CODE').relabel('PLOT_CODE', 'labels')\n",
    "Circle.map_table(MSH_map, color='blue',area=200)"
   ]
  },
  {
   "cell_type": "code",
   "execution_count": 35,
   "metadata": {},
   "outputs": [
    {
     "data": {
      "text/html": [
       "<table border=\"1\" class=\"dataframe\">\n",
       "    <thead>\n",
       "        <tr>\n",
       "            <th>PLOT_ID</th> <th>PLOT_NAME</th> <th>PLOT_NUMBER</th> <th>YEAR</th> <th>RICHNESS</th> <th>COVER_%</th> <th>HPRIME</th> <th>EVENNESS</th> <th>FREQUENCY</th>\n",
       "        </tr>\n",
       "    </thead>\n",
       "    <tbody>\n",
       "        <tr>\n",
       "            <td>ABPL011995</td> <td>ABPL     </td> <td>1          </td> <td>1995</td> <td>14      </td> <td>2.2    </td> <td>2.41  </td> <td>0.913   </td> <td>7.7      </td>\n",
       "        </tr>\n",
       "        <tr>\n",
       "            <td>ABPL011996</td> <td>ABPL     </td> <td>1          </td> <td>1996</td> <td>17      </td> <td>2.9    </td> <td>2.524 </td> <td>0.891   </td> <td>8.1      </td>\n",
       "        </tr>\n",
       "    </tbody>\n",
       "</table>\n",
       "<p>... (1741 rows omitted)</p>"
      ],
      "text/plain": [
       "<IPython.core.display.HTML object>"
      ]
     },
     "metadata": {},
     "output_type": "display_data"
    }
   ],
   "source": [
    "datafile = \"../Mini-II/data/MSH_STRUCTURE_PLOT_YEAR.csv\"\n",
    "MSH_YEAR = Table.read_table(datafile)\n",
    "MSH_YEAR.show(2)"
   ]
  },
  {
   "cell_type": "code",
   "execution_count": null,
   "metadata": {},
   "outputs": [],
   "source": [
    "np.unique(MSH_YEAR['PLOT_NAME'])"
   ]
  },
  {
   "cell_type": "code",
   "execution_count": 36,
   "metadata": {},
   "outputs": [
    {
     "data": {
      "image/png": "[encoded data removed]",
      "text/plain": [
       "<Figure size 500x500 with 1 Axes>"
      ]
     },
     "metadata": {},
     "output_type": "display_data"
    }
   ],
   "source": [
    "MSH_YEAR.where('PLOT_NAME','ABPL').scatter(\"YEAR\",\"COVER_%\")"
   ]
  },
  {
   "cell_type": "code",
   "execution_count": 37,
   "metadata": {},
   "outputs": [
    {
     "data": {
      "text/html": [
       "<table border=\"1\" class=\"dataframe\">\n",
       "    <thead>\n",
       "        <tr>\n",
       "            <th>YEAR</th> <th>PLOT_ID mean</th> <th>PLOT_NAME mean</th> <th>PLOT_NUMBER mean</th> <th>RICHNESS mean</th> <th>COVER_% mean</th> <th>HPRIME mean</th> <th>EVENNESS mean</th> <th>FREQUENCY mean</th>\n",
       "        </tr>\n",
       "    </thead>\n",
       "    <tbody>\n",
       "        <tr>\n",
       "            <td>1995</td> <td>            </td> <td>              </td> <td>5.5             </td> <td>14.1         </td> <td>2.75        </td> <td>2.2426     </td> <td>0.8533       </td> <td>6.7           </td>\n",
       "        </tr>\n",
       "        <tr>\n",
       "            <td>1996</td> <td>            </td> <td>              </td> <td>5.5             </td> <td>15.4         </td> <td>3.05        </td> <td>2.3348     </td> <td>0.8591       </td> <td>8.19          </td>\n",
       "        </tr>\n",
       "        <tr>\n",
       "            <td>1997</td> <td>            </td> <td>              </td> <td>5.5             </td> <td>17.4         </td> <td>4.85        </td> <td>2.2334     </td> <td>0.7871       </td> <td>10.01         </td>\n",
       "        </tr>\n",
       "        <tr>\n",
       "            <td>1999</td> <td>            </td> <td>              </td> <td>5.5             </td> <td>18.2         </td> <td>5.52        </td> <td>2.2438     </td> <td>0.7754       </td> <td>9.93          </td>\n",
       "        </tr>\n",
       "        <tr>\n",
       "            <td>2000</td> <td>            </td> <td>              </td> <td>5.5             </td> <td>16.9         </td> <td>5.82        </td> <td>2.0752     </td> <td>0.7351       </td> <td>8.64          </td>\n",
       "        </tr>\n",
       "        <tr>\n",
       "            <td>2001</td> <td>            </td> <td>              </td> <td>5.5             </td> <td>17.8         </td> <td>10.71       </td> <td>1.9739     </td> <td>0.6895       </td> <td>11.9          </td>\n",
       "        </tr>\n",
       "        <tr>\n",
       "            <td>2002</td> <td>            </td> <td>              </td> <td>5.5             </td> <td>17.9         </td> <td>6.66        </td> <td>2.0938     </td> <td>0.7287       </td> <td>12            </td>\n",
       "        </tr>\n",
       "        <tr>\n",
       "            <td>2003</td> <td>            </td> <td>              </td> <td>5.5             </td> <td>19           </td> <td>6.73        </td> <td>2.2543     </td> <td>0.772        </td> <td>14.43         </td>\n",
       "        </tr>\n",
       "        <tr>\n",
       "            <td>2004</td> <td>            </td> <td>              </td> <td>5.5             </td> <td>18.5         </td> <td>8.09        </td> <td>2.1048     </td> <td>0.729        </td> <td>15.44         </td>\n",
       "        </tr>\n",
       "        <tr>\n",
       "            <td>2005</td> <td>            </td> <td>              </td> <td>5.5             </td> <td>15           </td> <td>6.97        </td> <td>2.0314     </td> <td>0.7583       </td> <td>14.86         </td>\n",
       "        </tr>\n",
       "    </tbody>\n",
       "</table>\n",
       "<p>... (4 rows omitted)</p>"
      ],
      "text/plain": [
       "YEAR | PLOT_ID mean | PLOT_NAME mean | PLOT_NUMBER mean | RICHNESS mean | COVER_% mean | HPRIME mean | EVENNESS mean | FREQUENCY mean\n",
       "1995 |              |                | 5.5              | 14.1          | 2.75         | 2.2426      | 0.8533        | 6.7\n",
       "1996 |              |                | 5.5              | 15.4          | 3.05         | 2.3348      | 0.8591        | 8.19\n",
       "1997 |              |                | 5.5              | 17.4          | 4.85         | 2.2334      | 0.7871        | 10.01\n",
       "1999 |              |                | 5.5              | 18.2          | 5.52         | 2.2438      | 0.7754        | 9.93\n",
       "2000 |              |                | 5.5              | 16.9          | 5.82         | 2.0752      | 0.7351        | 8.64\n",
       "2001 |              |                | 5.5              | 17.8          | 10.71        | 1.9739      | 0.6895        | 11.9\n",
       "2002 |              |                | 5.5              | 17.9          | 6.66         | 2.0938      | 0.7287        | 12\n",
       "2003 |              |                | 5.5              | 19            | 6.73         | 2.2543      | 0.772         | 14.43\n",
       "2004 |              |                | 5.5              | 18.5          | 8.09         | 2.1048      | 0.729         | 15.44\n",
       "2005 |              |                | 5.5              | 15            | 6.97         | 2.0314      | 0.7583        | 14.86\n",
       "... (4 rows omitted)"
      ]
     },
     "execution_count": 37,
     "metadata": {},
     "output_type": "execute_result"
    }
   ],
   "source": [
    "MSH_YEAR.where('PLOT_NAME','ABPL').group(\"YEAR\",np.mean)"
   ]
  },
  {
   "cell_type": "code",
   "execution_count": 38,
   "metadata": {},
   "outputs": [
    {
     "data": {
      "text/plain": [
       "(1995.0, 2010.0)"
      ]
     },
     "execution_count": 38,
     "metadata": {},
     "output_type": "execute_result"
    },
    {
     "data": {
      "image/png": "[encoded data removed]",
      "text/plain": [
       "<Figure size 500x500 with 1 Axes>"
      ]
     },
     "metadata": {},
     "output_type": "display_data"
    }
   ],
   "source": [
    "MSH_YEAR.where('PLOT_NAME','ABPL').group(\"YEAR\",np.mean).scatter(\"YEAR\", \"COVER_% mean\",  label='ABPL data Cover %', color='green')\n",
    "plt.xlim(1995,2010)"
   ]
  },
  {
   "cell_type": "code",
   "execution_count": 39,
   "metadata": {
    "tags": []
   },
   "outputs": [
    {
     "data": {
      "text/plain": [
       "5"
      ]
     },
     "execution_count": 39,
     "metadata": {},
     "output_type": "execute_result"
    }
   ],
   "source": [
    "COVER_APBL = MSH_YEAR.where('PLOT_NAME','ABPL').group(\"YEAR\",np.mean).column(\"COVER_% mean\")\n",
    "changes(COVER_APBL,1)"
   ]
  },
  {
   "cell_type": "code",
   "execution_count": 40,
   "metadata": {},
   "outputs": [],
   "source": [
    "def simulate_under_null(num_chances_to_change):\n",
    "    uniform = Table().with_columns(\n",
    "        \"Change\", make_array('Increase', 'Decrease'),\n",
    "        \"Chance\", make_array(0.5,        0.5))\n",
    "    sample = uniform.sample_from_distribution('Chance', num_chances_to_change)     \n",
    "    increases = sample.column(\"Chance sample\").item(0) \n",
    "    decreases = sample.column(\"Chance sample\").item(1)  \n",
    "    return increases - decreases  "
   ]
  },
  {
   "cell_type": "code",
   "execution_count": null,
   "metadata": {
    "tags": []
   },
   "outputs": [],
   "source": [
    "uniform = Table().with_columns(\n",
    "        \"Change\", make_array('Increase', 'Decrease'),\n",
    "        \"Chance\", make_array(0.5,        0.5))\n",
    "uniform.sample_from_distribution('Chance', 13)  "
   ]
  },
  {
   "cell_type": "code",
   "execution_count": 41,
   "metadata": {},
   "outputs": [],
   "source": [
    "def empirical_distribution(tbl,iterations):\n",
    "    num_changes = tbl.num_rows -1\n",
    "    samples = make_array()\n",
    "    for i in np.arange(iterations):\n",
    "        samples = np.append(samples, simulate_under_null(num_changes)) \n",
    "    Table().with_column('Test statistic under null', samples).hist(bins=np.arange(min(samples), max(samples) + max(samples) , 2))\n",
    "    return samples"
   ]
  },
  {
   "cell_type": "code",
   "execution_count": 42,
   "metadata": {
    "tags": []
   },
   "outputs": [
    {
     "data": {
      "text/plain": [
       "5"
      ]
     },
     "execution_count": 42,
     "metadata": {},
     "output_type": "execute_result"
    }
   ],
   "source": [
    "APBL_group = MSH_YEAR.where('PLOT_NAME','ABPL').group(\"YEAR\",np.mean)\n",
    "changes(APBL_group.column('COVER_% mean'))\n"
   ]
  },
  {
   "cell_type": "code",
   "execution_count": 43,
   "metadata": {
    "tags": []
   },
   "outputs": [
    {
     "data": {
      "image/png": "[encoded data removed]",
      "text/plain": [
       "<Figure size 500x500 with 1 Axes>"
      ]
     },
     "metadata": {},
     "output_type": "display_data"
    }
   ],
   "source": [
    "APBL_group.scatter('YEAR', 'COVER_% mean')"
   ]
  },
  {
   "cell_type": "code",
   "execution_count": 44,
   "metadata": {},
   "outputs": [
    {
     "data": {
      "text/plain": [
       "<matplotlib.collections.PathCollection at 0x7f3ced0e87f0>"
      ]
     },
     "execution_count": 44,
     "metadata": {},
     "output_type": "execute_result"
    },
    {
     "data": {
      "image/png": "[encoded data removed]",
      "text/plain": [
       "<Figure size 600x400 with 1 Axes>"
      ]
     },
     "metadata": {},
     "output_type": "display_data"
    }
   ],
   "source": [
    "samples = empirical_distribution(APBL_group,10000)\n",
    "plt.scatter(5,0)"
   ]
  },
  {
   "cell_type": "code",
   "execution_count": 45,
   "metadata": {
    "tags": []
   },
   "outputs": [
    {
     "data": {
      "text/plain": [
       "5"
      ]
     },
     "execution_count": 45,
     "metadata": {},
     "output_type": "execute_result"
    }
   ],
   "source": [
    "tstatistic = changes(APBL_group.column('COVER_% mean'))\n",
    "tstatistic"
   ]
  },
  {
   "cell_type": "code",
   "execution_count": 46,
   "metadata": {
    "tags": []
   },
   "outputs": [
    {
     "data": {
      "text/plain": [
       "0.1319"
      ]
     },
     "execution_count": 46,
     "metadata": {},
     "output_type": "execute_result"
    }
   ],
   "source": [
    "pvalue = np.count_nonzero(samples >= tstatistic)/len(samples)\n",
    "pvalue"
   ]
  },
  {
   "cell_type": "markdown",
   "metadata": {},
   "source": [
    "## More detailed plot"
   ]
  },
  {
   "cell_type": "code",
   "execution_count": 51,
   "metadata": {
    "tags": []
   },
   "outputs": [
    {
     "data": {
      "image/png": "[encoded data removed]",
      "text/plain": [
       "<Figure size 640x480 with 1 Axes>"
      ]
     },
     "metadata": {},
     "output_type": "display_data"
    }
   ],
   "source": [
    "plt.hist(samples, label='null distribution', bins = np.arange(-20,20,2),color='yellow',alpha=0.4, edgecolor='black', linewidth=1.2)\n",
    "plt.scatter(tstatistic,0, s=300, label='test statistic',marker='o', \n",
    "            c='red',alpha=0.8, edgecolors='blue')\n",
    "plt.legend(loc='center left', bbox_to_anchor=(1.1, 0.5), labelspacing=3)\n",
    "plt.title('Cover_% Changes')\n",
    "plt.text(25, 500, 'p-value = '+str(pvalue), color = \"black\")\n",
    "plt.show()"
   ]
  },
  {
   "cell_type": "code",
   "execution_count": null,
   "metadata": {
    "tags": []
   },
   "outputs": [],
   "source": [
    "MSH_YEAR.where('PLOT_NAME','STRD').group(\"YEAR\",np.mean)"
   ]
  },
  {
   "cell_type": "code",
   "execution_count": null,
   "metadata": {
    "tags": []
   },
   "outputs": [],
   "source": [
    "changes(MSH_YEAR.where('PLOT_NAME','STRD').group(\"YEAR\",np.mean).column('RICHNESS mean'))"
   ]
  },
  {
   "cell_type": "code",
   "execution_count": null,
   "metadata": {},
   "outputs": [],
   "source": [
    "empirical_distribution(MSH_YEAR.where('PLOT_NAME','STRD'),10000)"
   ]
  },
  {
   "cell_type": "code",
   "execution_count": null,
   "metadata": {},
   "outputs": [],
   "source": []
  }
 ],
 "metadata": {
  "kernelspec": {
   "display_name": "Python 3 (ipykernel)",
   "language": "python",
   "name": "python3"
  },
  "language_info": {
   "codemirror_mode": {
    "name": "ipython",
    "version": 3
   },
   "file_extension": ".py",
   "mimetype": "text/x-python",
   "name": "python",
   "nbconvert_exporter": "python",
   "pygments_lexer": "ipython3",
   "version": "3.10.11"
  }
 },
 "nbformat": 4,
 "nbformat_minor": 4
}
