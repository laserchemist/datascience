{
 "cells": [
  {
   "cell_type": "markdown",
   "id": "02d2f51f-687a-4605-9407-0254e50fb3f4",
   "metadata": {},
   "source": [
    "# Momma Tables.where() and all her little predicates\n",
    "\n",
    "Filtering datatables is done withe the .where() method for which there are a whole slew of \"predicates\" that indicate the filtering condition. As always, you learn best by practicing."
   ]
  },
  {
   "cell_type": "code",
   "execution_count": 1,
   "id": "f34b2235-0b75-4dc7-b33d-e97018c069b1",
   "metadata": {
    "tags": []
   },
   "outputs": [],
   "source": [
    "# Load the required modules\n",
    "import numpy as np\n",
    "from datascience import * "
   ]
  },
  {
   "cell_type": "markdown",
   "id": "826852ef-4790-42b6-8135-1dd6bd22246e",
   "metadata": {},
   "source": [
    "## Philadelphia Services\n",
    "To keep things interesting, we'll take a look at a dataset available on [OpenDataPhilly](https://opendataphilly.org/datasets/) that contains services available in the city."
   ]
  },
  {
   "cell_type": "code",
   "execution_count": 2,
   "id": "378083ca-7bb6-4ea0-8eef-d00fec079011",
   "metadata": {
    "tags": []
   },
   "outputs": [
    {
     "ename": "FileNotFoundError",
     "evalue": "[Errno 2] No such file or directory: 'philly_services.csv'",
     "output_type": "error",
     "traceback": [
      "\u001b[0;31m---------------------------------------------------------------------------\u001b[0m",
      "\u001b[0;31mFileNotFoundError\u001b[0m                         Traceback (most recent call last)",
      "Cell \u001b[0;32mIn[2], line 1\u001b[0m\n\u001b[0;32m----> 1\u001b[0m services \u001b[38;5;241m=\u001b[39m \u001b[43mTable\u001b[49m\u001b[38;5;241;43m.\u001b[39;49m\u001b[43mread_table\u001b[49m\u001b[43m(\u001b[49m\u001b[38;5;124;43m\"\u001b[39;49m\u001b[38;5;124;43mphilly_services.csv\u001b[39;49m\u001b[38;5;124;43m\"\u001b[39;49m\u001b[43m)\u001b[49m\n\u001b[1;32m      2\u001b[0m services\n",
      "File \u001b[0;32m/opt/conda/lib/python3.10/site-packages/datascience/tables.py:163\u001b[0m, in \u001b[0;36mTable.read_table\u001b[0;34m(cls, filepath_or_buffer, *args, **vargs)\u001b[0m\n\u001b[1;32m    161\u001b[0m \u001b[38;5;28;01mexcept\u001b[39;00m \u001b[38;5;167;01mAttributeError\u001b[39;00m:\n\u001b[1;32m    162\u001b[0m     \u001b[38;5;28;01mpass\u001b[39;00m\n\u001b[0;32m--> 163\u001b[0m df \u001b[38;5;241m=\u001b[39m \u001b[43mpandas\u001b[49m\u001b[38;5;241;43m.\u001b[39;49m\u001b[43mread_csv\u001b[49m\u001b[43m(\u001b[49m\u001b[43mfilepath_or_buffer\u001b[49m\u001b[43m,\u001b[49m\u001b[43m \u001b[49m\u001b[38;5;241;43m*\u001b[39;49m\u001b[43margs\u001b[49m\u001b[43m,\u001b[49m\u001b[43m \u001b[49m\u001b[38;5;241;43m*\u001b[39;49m\u001b[38;5;241;43m*\u001b[39;49m\u001b[43mvargs\u001b[49m\u001b[43m)\u001b[49m\n\u001b[1;32m    164\u001b[0m \u001b[38;5;28;01mreturn\u001b[39;00m \u001b[38;5;28mcls\u001b[39m\u001b[38;5;241m.\u001b[39mfrom_df(df)\n",
      "File \u001b[0;32m/opt/conda/lib/python3.10/site-packages/pandas/io/parsers/readers.py:912\u001b[0m, in \u001b[0;36mread_csv\u001b[0;34m(filepath_or_buffer, sep, delimiter, header, names, index_col, usecols, dtype, engine, converters, true_values, false_values, skipinitialspace, skiprows, skipfooter, nrows, na_values, keep_default_na, na_filter, verbose, skip_blank_lines, parse_dates, infer_datetime_format, keep_date_col, date_parser, date_format, dayfirst, cache_dates, iterator, chunksize, compression, thousands, decimal, lineterminator, quotechar, quoting, doublequote, escapechar, comment, encoding, encoding_errors, dialect, on_bad_lines, delim_whitespace, low_memory, memory_map, float_precision, storage_options, dtype_backend)\u001b[0m\n\u001b[1;32m    899\u001b[0m kwds_defaults \u001b[38;5;241m=\u001b[39m _refine_defaults_read(\n\u001b[1;32m    900\u001b[0m     dialect,\n\u001b[1;32m    901\u001b[0m     delimiter,\n\u001b[0;32m   (...)\u001b[0m\n\u001b[1;32m    908\u001b[0m     dtype_backend\u001b[38;5;241m=\u001b[39mdtype_backend,\n\u001b[1;32m    909\u001b[0m )\n\u001b[1;32m    910\u001b[0m kwds\u001b[38;5;241m.\u001b[39mupdate(kwds_defaults)\n\u001b[0;32m--> 912\u001b[0m \u001b[38;5;28;01mreturn\u001b[39;00m \u001b[43m_read\u001b[49m\u001b[43m(\u001b[49m\u001b[43mfilepath_or_buffer\u001b[49m\u001b[43m,\u001b[49m\u001b[43m \u001b[49m\u001b[43mkwds\u001b[49m\u001b[43m)\u001b[49m\n",
      "File \u001b[0;32m/opt/conda/lib/python3.10/site-packages/pandas/io/parsers/readers.py:577\u001b[0m, in \u001b[0;36m_read\u001b[0;34m(filepath_or_buffer, kwds)\u001b[0m\n\u001b[1;32m    574\u001b[0m _validate_names(kwds\u001b[38;5;241m.\u001b[39mget(\u001b[38;5;124m\"\u001b[39m\u001b[38;5;124mnames\u001b[39m\u001b[38;5;124m\"\u001b[39m, \u001b[38;5;28;01mNone\u001b[39;00m))\n\u001b[1;32m    576\u001b[0m \u001b[38;5;66;03m# Create the parser.\u001b[39;00m\n\u001b[0;32m--> 577\u001b[0m parser \u001b[38;5;241m=\u001b[39m \u001b[43mTextFileReader\u001b[49m\u001b[43m(\u001b[49m\u001b[43mfilepath_or_buffer\u001b[49m\u001b[43m,\u001b[49m\u001b[43m \u001b[49m\u001b[38;5;241;43m*\u001b[39;49m\u001b[38;5;241;43m*\u001b[39;49m\u001b[43mkwds\u001b[49m\u001b[43m)\u001b[49m\n\u001b[1;32m    579\u001b[0m \u001b[38;5;28;01mif\u001b[39;00m chunksize \u001b[38;5;129;01mor\u001b[39;00m iterator:\n\u001b[1;32m    580\u001b[0m     \u001b[38;5;28;01mreturn\u001b[39;00m parser\n",
      "File \u001b[0;32m/opt/conda/lib/python3.10/site-packages/pandas/io/parsers/readers.py:1407\u001b[0m, in \u001b[0;36mTextFileReader.__init__\u001b[0;34m(self, f, engine, **kwds)\u001b[0m\n\u001b[1;32m   1404\u001b[0m     \u001b[38;5;28mself\u001b[39m\u001b[38;5;241m.\u001b[39moptions[\u001b[38;5;124m\"\u001b[39m\u001b[38;5;124mhas_index_names\u001b[39m\u001b[38;5;124m\"\u001b[39m] \u001b[38;5;241m=\u001b[39m kwds[\u001b[38;5;124m\"\u001b[39m\u001b[38;5;124mhas_index_names\u001b[39m\u001b[38;5;124m\"\u001b[39m]\n\u001b[1;32m   1406\u001b[0m \u001b[38;5;28mself\u001b[39m\u001b[38;5;241m.\u001b[39mhandles: IOHandles \u001b[38;5;241m|\u001b[39m \u001b[38;5;28;01mNone\u001b[39;00m \u001b[38;5;241m=\u001b[39m \u001b[38;5;28;01mNone\u001b[39;00m\n\u001b[0;32m-> 1407\u001b[0m \u001b[38;5;28mself\u001b[39m\u001b[38;5;241m.\u001b[39m_engine \u001b[38;5;241m=\u001b[39m \u001b[38;5;28;43mself\u001b[39;49m\u001b[38;5;241;43m.\u001b[39;49m\u001b[43m_make_engine\u001b[49m\u001b[43m(\u001b[49m\u001b[43mf\u001b[49m\u001b[43m,\u001b[49m\u001b[43m \u001b[49m\u001b[38;5;28;43mself\u001b[39;49m\u001b[38;5;241;43m.\u001b[39;49m\u001b[43mengine\u001b[49m\u001b[43m)\u001b[49m\n",
      "File \u001b[0;32m/opt/conda/lib/python3.10/site-packages/pandas/io/parsers/readers.py:1661\u001b[0m, in \u001b[0;36mTextFileReader._make_engine\u001b[0;34m(self, f, engine)\u001b[0m\n\u001b[1;32m   1659\u001b[0m     \u001b[38;5;28;01mif\u001b[39;00m \u001b[38;5;124m\"\u001b[39m\u001b[38;5;124mb\u001b[39m\u001b[38;5;124m\"\u001b[39m \u001b[38;5;129;01mnot\u001b[39;00m \u001b[38;5;129;01min\u001b[39;00m mode:\n\u001b[1;32m   1660\u001b[0m         mode \u001b[38;5;241m+\u001b[39m\u001b[38;5;241m=\u001b[39m \u001b[38;5;124m\"\u001b[39m\u001b[38;5;124mb\u001b[39m\u001b[38;5;124m\"\u001b[39m\n\u001b[0;32m-> 1661\u001b[0m \u001b[38;5;28mself\u001b[39m\u001b[38;5;241m.\u001b[39mhandles \u001b[38;5;241m=\u001b[39m \u001b[43mget_handle\u001b[49m\u001b[43m(\u001b[49m\n\u001b[1;32m   1662\u001b[0m \u001b[43m    \u001b[49m\u001b[43mf\u001b[49m\u001b[43m,\u001b[49m\n\u001b[1;32m   1663\u001b[0m \u001b[43m    \u001b[49m\u001b[43mmode\u001b[49m\u001b[43m,\u001b[49m\n\u001b[1;32m   1664\u001b[0m \u001b[43m    \u001b[49m\u001b[43mencoding\u001b[49m\u001b[38;5;241;43m=\u001b[39;49m\u001b[38;5;28;43mself\u001b[39;49m\u001b[38;5;241;43m.\u001b[39;49m\u001b[43moptions\u001b[49m\u001b[38;5;241;43m.\u001b[39;49m\u001b[43mget\u001b[49m\u001b[43m(\u001b[49m\u001b[38;5;124;43m\"\u001b[39;49m\u001b[38;5;124;43mencoding\u001b[39;49m\u001b[38;5;124;43m\"\u001b[39;49m\u001b[43m,\u001b[49m\u001b[43m \u001b[49m\u001b[38;5;28;43;01mNone\u001b[39;49;00m\u001b[43m)\u001b[49m\u001b[43m,\u001b[49m\n\u001b[1;32m   1665\u001b[0m \u001b[43m    \u001b[49m\u001b[43mcompression\u001b[49m\u001b[38;5;241;43m=\u001b[39;49m\u001b[38;5;28;43mself\u001b[39;49m\u001b[38;5;241;43m.\u001b[39;49m\u001b[43moptions\u001b[49m\u001b[38;5;241;43m.\u001b[39;49m\u001b[43mget\u001b[49m\u001b[43m(\u001b[49m\u001b[38;5;124;43m\"\u001b[39;49m\u001b[38;5;124;43mcompression\u001b[39;49m\u001b[38;5;124;43m\"\u001b[39;49m\u001b[43m,\u001b[49m\u001b[43m \u001b[49m\u001b[38;5;28;43;01mNone\u001b[39;49;00m\u001b[43m)\u001b[49m\u001b[43m,\u001b[49m\n\u001b[1;32m   1666\u001b[0m \u001b[43m    \u001b[49m\u001b[43mmemory_map\u001b[49m\u001b[38;5;241;43m=\u001b[39;49m\u001b[38;5;28;43mself\u001b[39;49m\u001b[38;5;241;43m.\u001b[39;49m\u001b[43moptions\u001b[49m\u001b[38;5;241;43m.\u001b[39;49m\u001b[43mget\u001b[49m\u001b[43m(\u001b[49m\u001b[38;5;124;43m\"\u001b[39;49m\u001b[38;5;124;43mmemory_map\u001b[39;49m\u001b[38;5;124;43m\"\u001b[39;49m\u001b[43m,\u001b[49m\u001b[43m \u001b[49m\u001b[38;5;28;43;01mFalse\u001b[39;49;00m\u001b[43m)\u001b[49m\u001b[43m,\u001b[49m\n\u001b[1;32m   1667\u001b[0m \u001b[43m    \u001b[49m\u001b[43mis_text\u001b[49m\u001b[38;5;241;43m=\u001b[39;49m\u001b[43mis_text\u001b[49m\u001b[43m,\u001b[49m\n\u001b[1;32m   1668\u001b[0m \u001b[43m    \u001b[49m\u001b[43merrors\u001b[49m\u001b[38;5;241;43m=\u001b[39;49m\u001b[38;5;28;43mself\u001b[39;49m\u001b[38;5;241;43m.\u001b[39;49m\u001b[43moptions\u001b[49m\u001b[38;5;241;43m.\u001b[39;49m\u001b[43mget\u001b[49m\u001b[43m(\u001b[49m\u001b[38;5;124;43m\"\u001b[39;49m\u001b[38;5;124;43mencoding_errors\u001b[39;49m\u001b[38;5;124;43m\"\u001b[39;49m\u001b[43m,\u001b[49m\u001b[43m \u001b[49m\u001b[38;5;124;43m\"\u001b[39;49m\u001b[38;5;124;43mstrict\u001b[39;49m\u001b[38;5;124;43m\"\u001b[39;49m\u001b[43m)\u001b[49m\u001b[43m,\u001b[49m\n\u001b[1;32m   1669\u001b[0m \u001b[43m    \u001b[49m\u001b[43mstorage_options\u001b[49m\u001b[38;5;241;43m=\u001b[39;49m\u001b[38;5;28;43mself\u001b[39;49m\u001b[38;5;241;43m.\u001b[39;49m\u001b[43moptions\u001b[49m\u001b[38;5;241;43m.\u001b[39;49m\u001b[43mget\u001b[49m\u001b[43m(\u001b[49m\u001b[38;5;124;43m\"\u001b[39;49m\u001b[38;5;124;43mstorage_options\u001b[39;49m\u001b[38;5;124;43m\"\u001b[39;49m\u001b[43m,\u001b[49m\u001b[43m \u001b[49m\u001b[38;5;28;43;01mNone\u001b[39;49;00m\u001b[43m)\u001b[49m\u001b[43m,\u001b[49m\n\u001b[1;32m   1670\u001b[0m \u001b[43m\u001b[49m\u001b[43m)\u001b[49m\n\u001b[1;32m   1671\u001b[0m \u001b[38;5;28;01massert\u001b[39;00m \u001b[38;5;28mself\u001b[39m\u001b[38;5;241m.\u001b[39mhandles \u001b[38;5;129;01mis\u001b[39;00m \u001b[38;5;129;01mnot\u001b[39;00m \u001b[38;5;28;01mNone\u001b[39;00m\n\u001b[1;32m   1672\u001b[0m f \u001b[38;5;241m=\u001b[39m \u001b[38;5;28mself\u001b[39m\u001b[38;5;241m.\u001b[39mhandles\u001b[38;5;241m.\u001b[39mhandle\n",
      "File \u001b[0;32m/opt/conda/lib/python3.10/site-packages/pandas/io/common.py:859\u001b[0m, in \u001b[0;36mget_handle\u001b[0;34m(path_or_buf, mode, encoding, compression, memory_map, is_text, errors, storage_options)\u001b[0m\n\u001b[1;32m    854\u001b[0m \u001b[38;5;28;01melif\u001b[39;00m \u001b[38;5;28misinstance\u001b[39m(handle, \u001b[38;5;28mstr\u001b[39m):\n\u001b[1;32m    855\u001b[0m     \u001b[38;5;66;03m# Check whether the filename is to be opened in binary mode.\u001b[39;00m\n\u001b[1;32m    856\u001b[0m     \u001b[38;5;66;03m# Binary mode does not support 'encoding' and 'newline'.\u001b[39;00m\n\u001b[1;32m    857\u001b[0m     \u001b[38;5;28;01mif\u001b[39;00m ioargs\u001b[38;5;241m.\u001b[39mencoding \u001b[38;5;129;01mand\u001b[39;00m \u001b[38;5;124m\"\u001b[39m\u001b[38;5;124mb\u001b[39m\u001b[38;5;124m\"\u001b[39m \u001b[38;5;129;01mnot\u001b[39;00m \u001b[38;5;129;01min\u001b[39;00m ioargs\u001b[38;5;241m.\u001b[39mmode:\n\u001b[1;32m    858\u001b[0m         \u001b[38;5;66;03m# Encoding\u001b[39;00m\n\u001b[0;32m--> 859\u001b[0m         handle \u001b[38;5;241m=\u001b[39m \u001b[38;5;28;43mopen\u001b[39;49m\u001b[43m(\u001b[49m\n\u001b[1;32m    860\u001b[0m \u001b[43m            \u001b[49m\u001b[43mhandle\u001b[49m\u001b[43m,\u001b[49m\n\u001b[1;32m    861\u001b[0m \u001b[43m            \u001b[49m\u001b[43mioargs\u001b[49m\u001b[38;5;241;43m.\u001b[39;49m\u001b[43mmode\u001b[49m\u001b[43m,\u001b[49m\n\u001b[1;32m    862\u001b[0m \u001b[43m            \u001b[49m\u001b[43mencoding\u001b[49m\u001b[38;5;241;43m=\u001b[39;49m\u001b[43mioargs\u001b[49m\u001b[38;5;241;43m.\u001b[39;49m\u001b[43mencoding\u001b[49m\u001b[43m,\u001b[49m\n\u001b[1;32m    863\u001b[0m \u001b[43m            \u001b[49m\u001b[43merrors\u001b[49m\u001b[38;5;241;43m=\u001b[39;49m\u001b[43merrors\u001b[49m\u001b[43m,\u001b[49m\n\u001b[1;32m    864\u001b[0m \u001b[43m            \u001b[49m\u001b[43mnewline\u001b[49m\u001b[38;5;241;43m=\u001b[39;49m\u001b[38;5;124;43m\"\u001b[39;49m\u001b[38;5;124;43m\"\u001b[39;49m\u001b[43m,\u001b[49m\n\u001b[1;32m    865\u001b[0m \u001b[43m        \u001b[49m\u001b[43m)\u001b[49m\n\u001b[1;32m    866\u001b[0m     \u001b[38;5;28;01melse\u001b[39;00m:\n\u001b[1;32m    867\u001b[0m         \u001b[38;5;66;03m# Binary mode\u001b[39;00m\n\u001b[1;32m    868\u001b[0m         handle \u001b[38;5;241m=\u001b[39m \u001b[38;5;28mopen\u001b[39m(handle, ioargs\u001b[38;5;241m.\u001b[39mmode)\n",
      "\u001b[0;31mFileNotFoundError\u001b[0m: [Errno 2] No such file or directory: 'philly_services.csv'"
     ]
    }
   ],
   "source": [
    "path = 'data/'\n",
    "data = path + \"philly_services.csv\"\n",
    "services = Table.read_table(data)\n",
    "services"
   ]
  },
  {
   "cell_type": "markdown",
   "id": "c663e29f-3c14-460f-ad25-2ad63ef991d5",
   "metadata": {},
   "source": [
    "## Predicates\n",
    "The .where() method of datatables takes a variety of \"predicates,\" which are express the condition you wish to use to filter the data."
   ]
  },
  {
   "cell_type": "markdown",
   "id": "3c8ecfde-b36d-4fc2-ba4c-2f1e43767f8c",
   "metadata": {},
   "source": [
    "## Services in the Temple zip code\n",
    "\n",
    "Temple's zip code ia 19122. Let's find the services within the Temple zip code.\n",
    "\n",
    "The general format of the .where() methods is .where(column_name, predicate), so we want to filter on the 'Zip Code' column and use the predicate are.equal_to(). A new table is returned with just the rows that match our condition."
   ]
  },
  {
   "cell_type": "code",
   "execution_count": null,
   "id": "fb143b86-44cf-4cf9-a1b0-cfeda35787dc",
   "metadata": {
    "tags": []
   },
   "outputs": [],
   "source": [
    "temple_zipcode = services.where('Zip Code', are.equal_to(19122))\n",
    "temple_zipcode"
   ]
  },
  {
   "cell_type": "markdown",
   "id": "00acd9a8-2ec0-43fe-9bcc-91a56fc5300f",
   "metadata": {},
   "source": [
    "**Challenge:** Try finding all services with a zipcode of 19107"
   ]
  },
  {
   "cell_type": "code",
   "execution_count": null,
   "id": "17579c18-db50-4020-8f84-8c72c02bdde1",
   "metadata": {},
   "outputs": [],
   "source": []
  },
  {
   "cell_type": "markdown",
   "id": "0f012bcb-a452-4cb7-a240-a282ce1f4068",
   "metadata": {},
   "source": [
    "## Looking for Food Services\n",
    "Now suppose we wanted all the services where \"Food\" is part of the Category column. We need a different predicate. are.containing() works when the specified column contains strings and looks to see if it contains the desired substring. To see if the text in the \"Category\" column contains the subtring \"Food\" we do this:"
   ]
  },
  {
   "cell_type": "code",
   "execution_count": null,
   "id": "45380278-859e-4592-b04b-5a6c388410d5",
   "metadata": {
    "tags": []
   },
   "outputs": [],
   "source": [
    "food = services.where('Category', are.containing(\"Food\"))\n",
    "food"
   ]
  },
  {
   "cell_type": "markdown",
   "id": "7403fe72-d464-4a31-8279-8e4549c7f521",
   "metadata": {},
   "source": [
    "**Challenge:** Find the places serving food that serve children"
   ]
  },
  {
   "cell_type": "markdown",
   "id": "a4176f52-4326-42aa-bed3-a56e20450892",
   "metadata": {},
   "source": [
    "## Chaining multiple conditions\n",
    "Suppose we want to find just the food services in the Temple zipcode. You can \"chain\" the where conditions, applying each to the result of the previous."
   ]
  },
  {
   "cell_type": "code",
   "execution_count": null,
   "id": "ed5e0d7b-837d-4974-9256-e00cf0b6a4c9",
   "metadata": {},
   "outputs": [],
   "source": [
    "services.where('Zip Code', are.equal_to(19122)).where('Category', are.containing(\"Food\"))"
   ]
  },
  {
   "cell_type": "markdown",
   "id": "f01ec8fa-3d2f-463d-a85d-b176791f3f1c",
   "metadata": {},
   "source": [
    "## Filtering by locations\n",
    "The dataset include a column \"LatLon,\" but we really need two separate columns: one with the latitude and one with the longitude. To split this column requires a few advanced tricks we haven't covered yet, so I'm going to just show you how I did it with some comments as explanation, but you should come back to this after we learn about how to define function.\n",
    "\n",
    "Note: This technique may prove useful in the future is you use other datasets from OpenDataPhilly"
   ]
  },
  {
   "cell_type": "code",
   "execution_count": null,
   "id": "44c5ce85-db16-4aa7-b76f-e75d35a152ae",
   "metadata": {
    "tags": []
   },
   "outputs": [],
   "source": [
    "# Create a function that splits a string on the comma and returns either the first or second piece.\n",
    "def string_split(string, col):\n",
    "    return float(string.split(',')[col])\n",
    "\n",
    "# Vectorize the function so that we can apply it to an numpy array and it will operate on every element of the array\n",
    "v_string_split = np.vectorize(string_split)"
   ]
  },
  {
   "cell_type": "code",
   "execution_count": null,
   "id": "47c932b0-cece-4b11-904a-5eeebf433cd5",
   "metadata": {
    "tags": []
   },
   "outputs": [],
   "source": [
    "# Split the stings, creating two new numpy array\n",
    "lat_lon = services.column('LatLon')\n",
    "lon = v_string_split(lat_lon, 0)\n",
    "lat = v_string_split(lat_lon, 1)"
   ]
  },
  {
   "cell_type": "code",
   "execution_count": null,
   "id": "30f7d884-8d57-46ef-a3ad-ff8fbcdf29bd",
   "metadata": {
    "tags": []
   },
   "outputs": [],
   "source": [
    "# We chain three methods:\n",
    "# First, drop the old LatLon column, then add each of the new columns\n",
    "services = services.drop('LatLon').with_column('Lat', lat).with_column('Lon', lon)"
   ]
  },
  {
   "cell_type": "markdown",
   "id": "84d0bb5e-207d-488d-94d3-77c42559e06f",
   "metadata": {},
   "source": [
    "## Making a Map\n",
    "Following [this example](https://inferentialthinking.com/chapters/08/5/Bike_Sharing_in_the_Bay_Area.html?highlight=map) in our textbook, let's use the new Lat Lon columns to make a map showing the locations of these services.\n",
    "\n",
    "You can zoom in, zoom out, pan, or click on a marker to see the label."
   ]
  },
  {
   "cell_type": "code",
   "execution_count": null,
   "id": "41502159-4554-4d20-85b9-73d6f345b3f9",
   "metadata": {
    "tags": []
   },
   "outputs": [],
   "source": [
    "# Marker.map_table(stations.select('lat', 'long', 'name').relabel('name', 'labels'))\n",
    "Marker.map_table(services.select('Lat', 'Lon', 'Organization Name').relabel('Organization Name', 'labels'))"
   ]
  },
  {
   "cell_type": "markdown",
   "id": "d02db856-ccb1-4046-a491-1ea3a2abf534",
   "metadata": {},
   "source": [
    "## All services North of Temple\n",
    "\n",
    "The coordinates of the Temple Bell Tower are: 39.9813° N, 75.1544° W\n",
    "Let's use the where filter to find only the services north of the bell tower."
   ]
  },
  {
   "cell_type": "code",
   "execution_count": null,
   "id": "7fa2358e-709e-40aa-998d-898b6b05a96d",
   "metadata": {
    "tags": []
   },
   "outputs": [],
   "source": [
    "bell_tower_lat = 39.9813\n",
    "\n",
    "northern_services = services.where('Lat', are.above(bell_tower_lat))\n",
    "Marker.map_table(northern_services.select('Lat', 'Lon', 'Organization Name').relabel('Organization Name', 'labels'))"
   ]
  },
  {
   "cell_type": "markdown",
   "id": "aa8c0901-eb62-4a6f-8019-56b7add0cca8",
   "metadata": {},
   "source": [
    "**Challenge:** Plot just the sevices in the Temple zipcode."
   ]
  },
  {
   "cell_type": "code",
   "execution_count": null,
   "id": "824f652e-9f92-4313-b50d-a3ef220a1448",
   "metadata": {},
   "outputs": [],
   "source": []
  },
  {
   "cell_type": "markdown",
   "id": "7a5e1f69-e962-429e-939f-12679b05a81e",
   "metadata": {},
   "source": [
    "# Summary\n",
    "I hope you had fun. The where() method is not that hard once you understand the basic idea. I encourage you to explore this data set and see if you can discover any interesting patterns!"
   ]
  },
  {
   "cell_type": "code",
   "execution_count": null,
   "id": "65513f5a-4788-4317-bbe0-f6a9c8248073",
   "metadata": {},
   "outputs": [],
   "source": []
  }
 ],
 "metadata": {
  "kernelspec": {
   "display_name": "Python 3 (ipykernel)",
   "language": "python",
   "name": "python3"
  },
  "language_info": {
   "codemirror_mode": {
    "name": "ipython",
    "version": 3
   },
   "file_extension": ".py",
   "mimetype": "text/x-python",
   "name": "python",
   "nbconvert_exporter": "python",
   "pygments_lexer": "ipython3",
   "version": "3.10.11"
  }
 },
 "nbformat": 4,
 "nbformat_minor": 5
}
