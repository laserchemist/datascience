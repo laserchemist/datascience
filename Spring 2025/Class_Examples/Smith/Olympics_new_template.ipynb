{
 "cells": [
  {
   "cell_type": "markdown",
   "id": "7582dd01-fb4a-4b83-b913-c3141eb74aab",
   "metadata": {},
   "source": [
    "## Olympics Data mini-project\n",
    "Temple Elements of Data Science\n",
    "In this mini-project you will draw on your new found skills from Module 1 of the course, Have Fun!\n",
    "The description of the mini-project and it's goals is given [here](Olympic_Lab_Mini_project.pdf)"
   ]
  },
  {
   "cell_type": "code",
   "execution_count": null,
   "id": "0669759c-539d-418e-9b4a-bb4308f6f47f",
   "metadata": {},
   "outputs": [],
   "source": [
    "# Enter your name as a string\n",
    "name = ..."
   ]
  },
  {
   "cell_type": "code",
   "execution_count": null,
   "id": "742e0e08-c659-4fc2-b690-2a7a21c57206",
   "metadata": {},
   "outputs": [],
   "source": [
    "# Extra Python functionality to import\n",
    "from datascience import *  # datascience Table \n",
    "\n",
    "import numpy as np\n",
    "import pandas as pd\n",
    "%matplotlib inline\n",
    "import matplotlib.pyplot as plt\n",
    "plt.style.use('ggplot')\n",
    "import os\n",
    "user = os.getenv('JUPYTERHUB_USER')"
   ]
  },
  {
   "cell_type": "markdown",
   "id": "1d8d5c53-41ba-459a-8e85-cb9e3499fdb7",
   "metadata": {},
   "source": [
    "### Data Sets\n",
    "Athletes: Olympic_Data/athlete_events.csv\n",
    "Source: Kaggle https://www.kaggle.com/heesoo37/120-years-of-olympic-history-athletes-and-results"
   ]
  },
  {
   "cell_type": "code",
   "execution_count": null,
   "id": "51ec1d19-eac2-4cf7-979a-f2088537248d",
   "metadata": {},
   "outputs": [],
   "source": [
    "datafile = \"Olympic_Data/winter_athletes.csv\"\n",
    "athletes = Table.read_table(datafile).sort(\"Year\",descending=True).where(\"Season\",\"Winter\")\n",
    "athletes"
   ]
  },
  {
   "cell_type": "code",
   "execution_count": null,
   "id": "d5c54863-bb8c-4c01-9f6d-5bc25a9542b1",
   "metadata": {
    "tags": []
   },
   "outputs": [],
   "source": [
    "athletes.group(\"Name\", np.average).num_rows"
   ]
  },
  {
   "cell_type": "code",
   "execution_count": null,
   "id": "c5e43080-63bb-4f90-a12c-0263cb0b90e1",
   "metadata": {
    "tags": []
   },
   "outputs": [],
   "source": [
    "athletes.num_rows"
   ]
  },
  {
   "cell_type": "markdown",
   "id": "0585b622-e1ed-4752-b9f6-b99de9e9d1d3",
   "metadata": {},
   "source": [
    "## Mini-Project\n",
    "Now develop your project to address goals given in the [linked document](Olympic_Lab_Mini_project.pdf). Add lines of code and maarkdown as needed below. Feel free to expand the project to explore ideas of interest."
   ]
  },
  {
   "cell_type": "code",
   "execution_count": null,
   "id": "28cb5f9a-1b63-445d-bbe1-ffa06a72c492",
   "metadata": {},
   "outputs": [],
   "source": []
  },
  {
   "cell_type": "code",
   "execution_count": null,
   "id": "82fd440b-2bc7-4e50-8e7f-f86ed81fa0d7",
   "metadata": {},
   "outputs": [],
   "source": []
  },
  {
   "cell_type": "code",
   "execution_count": null,
   "id": "0bd432ae-1399-4104-93e1-58ef4fa3ff0a",
   "metadata": {},
   "outputs": [],
   "source": []
  },
  {
   "cell_type": "code",
   "execution_count": null,
   "id": "5ac6d842-43c5-4a95-840d-bfcdd319eb29",
   "metadata": {},
   "outputs": [],
   "source": []
  },
  {
   "cell_type": "code",
   "execution_count": null,
   "id": "a0644ae6-7a02-41b0-905e-7dc4f988e42c",
   "metadata": {},
   "outputs": [],
   "source": []
  },
  {
   "cell_type": "code",
   "execution_count": null,
   "id": "6f054083-3f9d-44cd-8111-afb66fbddd10",
   "metadata": {},
   "outputs": [],
   "source": []
  },
  {
   "cell_type": "code",
   "execution_count": null,
   "id": "ec2c0b10-2b06-47eb-b16b-e4d6c72f3828",
   "metadata": {},
   "outputs": [],
   "source": []
  },
  {
   "cell_type": "markdown",
   "id": "4c4e48d6-55ab-4e47-ad8f-3d6f17754c7c",
   "metadata": {},
   "source": [
    "- Please keep and run the below last line when completed:"
   ]
  },
  {
   "cell_type": "code",
   "execution_count": null,
   "id": "a04dfbe8-44d1-4921-8a4f-8f688bd98a67",
   "metadata": {
    "tags": []
   },
   "outputs": [],
   "source": [
    "print(\"Nice work \", user)\n",
    "import time;\n",
    "localtime = time.asctime( time.localtime(time.time()) )\n",
    "print(\"Submitted @ \", localtime)"
   ]
  }
 ],
 "metadata": {
  "kernelspec": {
   "display_name": "Python 3 (ipykernel)",
   "language": "python",
   "name": "python3"
  },
  "language_info": {
   "codemirror_mode": {
    "name": "ipython",
    "version": 3
   },
   "file_extension": ".py",
   "mimetype": "text/x-python",
   "name": "python",
   "nbconvert_exporter": "python",
   "pygments_lexer": "ipython3",
   "version": "3.10.11"
  }
 },
 "nbformat": 4,
 "nbformat_minor": 5
}
