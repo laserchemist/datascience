{
 "cells": [
  {
   "cell_type": "markdown",
   "id": "f9302cc6-3ec1-416f-9064-f482a98075c4",
   "metadata": {
    "jp-MarkdownHeadingCollapsed": true,
    "tags": []
   },
   "source": [
    "## Class 005\n",
    "*Working with data*: datascience Table"
   ]
  },
  {
   "cell_type": "markdown",
   "id": "36bcf723-8571-4e8f-95af-ba3f07a0744b",
   "metadata": {},
   "source": [
    "## Learning Goals for Lab 03\n",
    "### Loading Data Sets and Exploratory Data Analysis\n",
    "*neccessary*: \n",
    "`from datascience import *`\n",
    "- Table is a new Variable & Data Types\n",
    "    - Strings\n",
    "    - Integer\n",
    "    - float\n",
    "    - list [ ]\n",
    "    - numpy.array\n",
    "    - datascience.tables.Table\n",
    "- arrays: from datascience import *\n",
    "    - `make_array(0.125, 4.75, -1.3)` \n",
    "- arrays: import numpy as np\n",
    "    - `np.array([0, 1, -1, math.pi, math.e])`\n",
    "    - `np.arange(1,13)` \n",
    "- lists: [1, 2, 3, 4]\n",
    "#### Table\n",
    "- `T=Table().with_columns('Month',np.arange(1,13))`\n",
    "- `Table.read_table(data)`\n"
   ]
  },
  {
   "cell_type": "markdown",
   "id": "48fcc9e7-acf3-4370-841c-152e50070b71",
   "metadata": {},
   "source": [
    "#### Initialize with imported new functionality"
   ]
  },
  {
   "cell_type": "code",
   "execution_count": 2,
   "id": "8b570ee0-306d-4fad-8ffa-e4b3b356922e",
   "metadata": {},
   "outputs": [],
   "source": [
    "from datascience import *\n",
    "\n",
    "# import for plotting\n",
    "%matplotlib inline\n",
    "import matplotlib.pyplot as plt\n",
    "plt.style.use('fivethirtyeight')\n",
    "# Fix for datascience plots\n",
    "import collections as collections\n",
    "import collections.abc as abc\n",
    "collections.Iterable = abc.Iterable"
   ]
  },
  {
   "cell_type": "markdown",
   "id": "21329f9b-126e-4efd-9076-432c5bce1ad1",
   "metadata": {},
   "source": [
    "### First data table"
   ]
  },
  {
   "cell_type": "code",
   "execution_count": 3,
   "id": "cbb1a72d-9dc0-4a3d-8d09-a16def7346f6",
   "metadata": {},
   "outputs": [],
   "source": [
    "from datascience import *\n",
    "import numpy as np\n",
    "\n",
    "T=Table().with_columns('Month',np.arange(1,13))"
   ]
  },
  {
   "cell_type": "code",
   "execution_count": 4,
   "id": "3cccb1ee-fb44-40bc-943e-b0943efa931d",
   "metadata": {},
   "outputs": [],
   "source": [
    "T=T.with_columns('Average_SnowFall (inch)',make_array(5.6,5.6,2.4,0.1,0,0,0,0,0,0,0.1,3.2))"
   ]
  },
  {
   "cell_type": "code",
   "execution_count": 5,
   "id": "7e4654c5-3c27-4230-bb55-fce1450dbd13",
   "metadata": {},
   "outputs": [
    {
     "data": {
      "text/html": [
       "<table border=\"1\" class=\"dataframe\">\n",
       "    <thead>\n",
       "        <tr>\n",
       "            <th>Month</th> <th>Average_SnowFall (inch)</th>\n",
       "        </tr>\n",
       "    </thead>\n",
       "    <tbody>\n",
       "        <tr>\n",
       "            <td>1    </td> <td>5.6                    </td>\n",
       "        </tr>\n",
       "        <tr>\n",
       "            <td>2    </td> <td>5.6                    </td>\n",
       "        </tr>\n",
       "        <tr>\n",
       "            <td>3    </td> <td>2.4                    </td>\n",
       "        </tr>\n",
       "        <tr>\n",
       "            <td>4    </td> <td>0.1                    </td>\n",
       "        </tr>\n",
       "        <tr>\n",
       "            <td>5    </td> <td>0                      </td>\n",
       "        </tr>\n",
       "        <tr>\n",
       "            <td>6    </td> <td>0                      </td>\n",
       "        </tr>\n",
       "        <tr>\n",
       "            <td>7    </td> <td>0                      </td>\n",
       "        </tr>\n",
       "        <tr>\n",
       "            <td>8    </td> <td>0                      </td>\n",
       "        </tr>\n",
       "        <tr>\n",
       "            <td>9    </td> <td>0                      </td>\n",
       "        </tr>\n",
       "        <tr>\n",
       "            <td>10   </td> <td>0                      </td>\n",
       "        </tr>\n",
       "        <tr>\n",
       "            <td>11   </td> <td>0.1                    </td>\n",
       "        </tr>\n",
       "        <tr>\n",
       "            <td>12   </td> <td>3.2                    </td>\n",
       "        </tr>\n",
       "    </tbody>\n",
       "</table>"
      ],
      "text/plain": [
       "<IPython.core.display.HTML object>"
      ]
     },
     "metadata": {},
     "output_type": "display_data"
    }
   ],
   "source": [
    "T.show()"
   ]
  },
  {
   "cell_type": "code",
   "execution_count": 6,
   "id": "d0df4fa2-a077-449c-b910-2ad5bef76745",
   "metadata": {},
   "outputs": [
    {
     "data": {
      "text/plain": [
       "['January',\n",
       " 'February',\n",
       " 'March',\n",
       " 'April',\n",
       " 'May',\n",
       " 'June',\n",
       " 'July',\n",
       " 'August',\n",
       " 'September',\n",
       " 'October',\n",
       " 'November',\n",
       " 'December']"
      ]
     },
     "execution_count": 6,
     "metadata": {},
     "output_type": "execute_result"
    }
   ],
   "source": [
    "# Little nice trick to get months in list\n",
    "import calendar\n",
    "m=[calendar.month_name[i] for i in range(1,13)]\n",
    "m"
   ]
  },
  {
   "cell_type": "code",
   "execution_count": 7,
   "id": "12cae7f0-b5c3-41dc-9a80-48a89762361e",
   "metadata": {},
   "outputs": [
    {
     "data": {
      "text/html": [
       "<table border=\"1\" class=\"dataframe\">\n",
       "    <thead>\n",
       "        <tr>\n",
       "            <th>Month</th> <th>Average_SnowFall (inch)</th>\n",
       "        </tr>\n",
       "    </thead>\n",
       "    <tbody>\n",
       "        <tr>\n",
       "            <td>January  </td> <td>5.6                    </td>\n",
       "        </tr>\n",
       "        <tr>\n",
       "            <td>February </td> <td>5.6                    </td>\n",
       "        </tr>\n",
       "        <tr>\n",
       "            <td>March    </td> <td>2.4                    </td>\n",
       "        </tr>\n",
       "        <tr>\n",
       "            <td>April    </td> <td>0.1                    </td>\n",
       "        </tr>\n",
       "        <tr>\n",
       "            <td>May      </td> <td>0                      </td>\n",
       "        </tr>\n",
       "        <tr>\n",
       "            <td>June     </td> <td>0                      </td>\n",
       "        </tr>\n",
       "        <tr>\n",
       "            <td>July     </td> <td>0                      </td>\n",
       "        </tr>\n",
       "        <tr>\n",
       "            <td>August   </td> <td>0                      </td>\n",
       "        </tr>\n",
       "        <tr>\n",
       "            <td>September</td> <td>0                      </td>\n",
       "        </tr>\n",
       "        <tr>\n",
       "            <td>October  </td> <td>0                      </td>\n",
       "        </tr>\n",
       "        <tr>\n",
       "            <td>November </td> <td>0.1                    </td>\n",
       "        </tr>\n",
       "        <tr>\n",
       "            <td>December </td> <td>3.2                    </td>\n",
       "        </tr>\n",
       "    </tbody>\n",
       "</table>"
      ],
      "text/plain": [
       "<IPython.core.display.HTML object>"
      ]
     },
     "metadata": {},
     "output_type": "display_data"
    }
   ],
   "source": [
    "T=T.with_columns('Month',m)\n",
    "T.show()"
   ]
  },
  {
   "cell_type": "markdown",
   "id": "8a69a989-72db-4e96-8cc1-675dfedd1288",
   "metadata": {},
   "source": [
    "### Environmental Performance Index (EPI)\n",
    "[epi.yale.edu](epi.yale.edu)"
   ]
  },
  {
   "cell_type": "code",
   "execution_count": 3,
   "id": "9bad08a8-c6d4-4132-9772-4ba320980120",
   "metadata": {},
   "outputs": [
    {
     "data": {
      "text/html": [
       "<table border=\"1\" class=\"dataframe\">\n",
       "    <thead>\n",
       "        <tr>\n",
       "            <th>code</th> <th>iso</th> <th>country</th> <th>region</th> <th>EPI.new</th> <th>HLT.new</th> <th>AIR.new</th> <th>HAD.new</th> <th>PMD.new</th> <th>OZD.new</th> <th>NOE.new</th> <th>SOE.new</th> <th>COE.new</th> <th>VOE.new</th> <th>H2O.new</th> <th>USD.new</th> <th>UWD.new</th> <th>HMT.new</th> <th>PBD.new</th> <th>WMG.new</th> <th>MSW.new</th> <th>REC.new</th> <th>OCP.new</th> <th>ECO.new</th> <th>BDH.new</th> <th>TBN.new</th> <th>TBG.new</th> <th>MPA.new</th> <th>PAR.new</th> <th>SHI.new</th> <th>SPI.new</th> <th>BHV.new</th> <th>ECS.new</th> <th>TCL.new</th> <th>GRL.new</th> <th>WTL.new</th> <th>FSH.new</th> <th>FSS.new</th> <th>RMS.new</th> <th>FTD.new</th> <th>ACD.new</th> <th>SDA.new</th> <th>NXA.new</th> <th>AGR.new</th> <th>SPU.new</th> <th>SNM.new</th> <th>WRS.new</th> <th>WWT.new</th> <th>PCC.new</th> <th>CCH.new</th> <th>CDA.new</th> <th>CHA.new</th> <th>FGA.new</th> <th>NDA.new</th> <th>BCA.new</th> <th>GHN.new</th> <th>LCB.new</th> <th>GIB.new</th> <th>GHP.new</th> <th>EPI.old</th> <th>HLT.old</th> <th>AIR.old</th> <th>HAD.old</th> <th>PMD.old</th> <th>OZD.old</th> <th>NOE.old</th> <th>SOE.old</th> <th>COE.old</th> <th>VOE.old</th> <th>H2O.old</th> <th>USD.old</th> <th>UWD.old</th> <th>HMT.old</th> <th>PBD.old</th> <th>WMG.old</th> <th>MSW.old</th> <th>REC.old</th> <th>OCP.old</th> <th>ECO.old</th> <th>BDH.old</th> <th>TBN.old</th> <th>TBG.old</th> <th>MPA.old</th> <th>PAR.old</th> <th>SHI.old</th> <th>SPI.old</th> <th>BHV.old</th> <th>ECS.old</th> <th>TCL.old</th> <th>GRL.old</th> <th>WTL.old</th> <th>FSH.old</th> <th>FSS.old</th> <th>RMS.old</th> <th>FTD.old</th> <th>ACD.old</th> <th>SDA.old</th> <th>NXA.old</th> <th>AGR.old</th> <th>SPU.old</th> <th>SNM.old</th> <th>WRS.old</th> <th>WWT.old</th> <th>PCC.old</th> <th>CCH.old</th> <th>CDA.old</th> <th>CHA.old</th> <th>FGA.old</th> <th>NDA.old</th> <th>BCA.old</th> <th>GHN.old</th> <th>LCB.old</th> <th>GIB.old</th> <th>GHP.old</th> <th>EPI.change</th> <th>HLT.change</th> <th>AIR.change</th> <th>HAD.change</th> <th>PMD.change</th> <th>OZD.change</th> <th>NOE.change</th> <th>SOE.change</th> <th>COE.change</th> <th>VOE.change</th> <th>H2O.change</th> <th>USD.change</th> <th>UWD.change</th> <th>HMT.change</th> <th>PBD.change</th> <th>WMG.change</th> <th>MSW.change</th> <th>REC.change</th> <th>OCP.change</th> <th>ECO.change</th> <th>BDH.change</th> <th>TBN.change</th> <th>TBG.change</th> <th>MPA.change</th> <th>PAR.change</th> <th>SHI.change</th> <th>SPI.change</th> <th>BHV.change</th> <th>ECS.change</th> <th>TCL.change</th> <th>GRL.change</th> <th>WTL.change</th> <th>FSH.change</th> <th>FSS.change</th> <th>RMS.change</th> <th>FTD.change</th> <th>ACD.change</th> <th>SDA.change</th> <th>NXA.change</th> <th>AGR.change</th> <th>SPU.change</th> <th>SNM.change</th> <th>WRS.change</th> <th>WWT.change</th> <th>PCC.change</th> <th>CCH.change</th> <th>CDA.change</th> <th>CHA.change</th> <th>FGA.change</th> <th>NDA.change</th> <th>BCA.change</th> <th>GHN.change</th> <th>LCB.change</th> <th>GIB.change</th> <th>GHP.change</th> <th>EPI.rnk.new</th> <th>HLT.rnk.new</th> <th>AIR.rnk.new</th> <th>HAD.rnk.new</th> <th>PMD.rnk.new</th> <th>OZD.rnk.new</th> <th>NOE.rnk.new</th> <th>SOE.rnk.new</th> <th>COE.rnk.new</th> <th>VOE.rnk.new</th> <th>H2O.rnk.new</th> <th>USD.rnk.new</th> <th>UWD.rnk.new</th> <th>HMT.rnk.new</th> <th>PBD.rnk.new</th> <th>WMG.rnk.new</th> <th>MSW.rnk.new</th> <th>REC.rnk.new</th> <th>OCP.rnk.new</th> <th>ECO.rnk.new</th> <th>BDH.rnk.new</th> <th>TBN.rnk.new</th> <th>TBG.rnk.new</th> <th>MPA.rnk.new</th> <th>PAR.rnk.new</th> <th>SHI.rnk.new</th> <th>SPI.rnk.new</th> <th>BHV.rnk.new</th> <th>ECS.rnk.new</th> <th>TCL.rnk.new</th> <th>GRL.rnk.new</th> <th>WTL.rnk.new</th> <th>FSH.rnk.new</th> <th>FSS.rnk.new</th> <th>RMS.rnk.new</th> <th>FTD.rnk.new</th> <th>ACD.rnk.new</th> <th>SDA.rnk.new</th> <th>NXA.rnk.new</th> <th>AGR.rnk.new</th> <th>SPU.rnk.new</th> <th>SNM.rnk.new</th> <th>WRS.rnk.new</th> <th>WWT.rnk.new</th> <th>PCC.rnk.new</th> <th>CCH.rnk.new</th> <th>CDA.rnk.new</th> <th>CHA.rnk.new</th> <th>FGA.rnk.new</th> <th>NDA.rnk.new</th> <th>BCA.rnk.new</th> <th>GHN.rnk.new</th> <th>LCB.rnk.new</th> <th>GIB.rnk.new</th> <th>GHP.rnk.new</th> <th>EPI.rnk.old</th> <th>HLT.rnk.old</th> <th>AIR.rnk.old</th> <th>HAD.rnk.old</th> <th>PMD.rnk.old</th> <th>OZD.rnk.old</th> <th>NOE.rnk.old</th> <th>SOE.rnk.old</th> <th>COE.rnk.old</th> <th>VOE.rnk.old</th> <th>H2O.rnk.old</th> <th>USD.rnk.old</th> <th>UWD.rnk.old</th> <th>HMT.rnk.old</th> <th>PBD.rnk.old</th> <th>WMG.rnk.old</th> <th>MSW.rnk.old</th> <th>REC.rnk.old</th> <th>OCP.rnk.old</th> <th>ECO.rnk.old</th> <th>BDH.rnk.old</th> <th>TBN.rnk.old</th> <th>TBG.rnk.old</th> <th>MPA.rnk.old</th> <th>PAR.rnk.old</th> <th>SHI.rnk.old</th> <th>SPI.rnk.old</th> <th>BHV.rnk.old</th> <th>ECS.rnk.old</th> <th>TCL.rnk.old</th> <th>GRL.rnk.old</th> <th>WTL.rnk.old</th> <th>FSH.rnk.old</th> <th>FSS.rnk.old</th> <th>RMS.rnk.old</th> <th>FTD.rnk.old</th> <th>ACD.rnk.old</th> <th>SDA.rnk.old</th> <th>NXA.rnk.old</th> <th>AGR.rnk.old</th> <th>SPU.rnk.old</th> <th>SNM.rnk.old</th> <th>WRS.rnk.old</th> <th>WWT.rnk.old</th> <th>PCC.rnk.old</th> <th>CCH.rnk.old</th> <th>CDA.rnk.old</th> <th>CHA.rnk.old</th> <th>FGA.rnk.old</th> <th>NDA.rnk.old</th> <th>BCA.rnk.old</th> <th>GHN.rnk.old</th> <th>LCB.rnk.old</th> <th>GIB.rnk.old</th> <th>GHP.rnk.old</th>\n",
       "        </tr>\n",
       "    </thead>\n",
       "    <tbody>\n",
       "        <tr>\n",
       "            <td>4   </td> <td>AFG </td> <td>Afghanistan         </td> <td>Southern Asia            </td> <td>43.6   </td> <td>16     </td> <td>15.5   </td> <td>7.4    </td> <td>16     </td> <td>18.4   </td> <td>37.8   </td> <td>61.2   </td> <td>42.7   </td> <td>37.5   </td> <td>28.1   </td> <td>28.4   </td> <td>27.8   </td> <td>0      </td> <td>0      </td> <td>4.4    </td> <td>1.1    </td> <td>11.1   </td> <td>nan    </td> <td>36.9   </td> <td>30.7   </td> <td>20.6   </td> <td>51.5   </td> <td>nan    </td> <td>5.2    </td> <td>90.8   </td> <td>13.4   </td> <td>41.9   </td> <td>61.8   </td> <td>58.3   </td> <td>44.8   </td> <td>100    </td> <td>nan    </td> <td>nan    </td> <td>nan    </td> <td>nan    </td> <td>35.5   </td> <td>0      </td> <td>71     </td> <td>44.2   </td> <td>37.3   </td> <td>51     </td> <td>0      </td> <td>0      </td> <td>65.6   </td> <td>65.6   </td> <td>83.9   </td> <td>50.2   </td> <td>nan    </td> <td>63.7   </td> <td>42.9   </td> <td>45.3   </td> <td>100    </td> <td>77.5   </td> <td>100    </td> <td>19.7   </td> <td>16.2   </td> <td>19.8   </td> <td>2.2    </td> <td>28.6   </td> <td>14     </td> <td>43.8   </td> <td>66.8   </td> <td>46.6   </td> <td>39.1   </td> <td>19.8   </td> <td>19.8   </td> <td>19.8   </td> <td>0      </td> <td>0      </td> <td>4      </td> <td>1.1    </td> <td>9.8    </td> <td>nan    </td> <td>20.2   </td> <td>9      </td> <td>0.6    </td> <td>1.1    </td> <td>nan    </td> <td>3.1    </td> <td>95.5   </td> <td>0.9    </td> <td>41.9   </td> <td>51.3   </td> <td>37.6   </td> <td>84.6   </td> <td>100    </td> <td>nan    </td> <td>nan    </td> <td>nan    </td> <td>nan    </td> <td>0      </td> <td>0      </td> <td>0      </td> <td>43.7   </td> <td>37.3   </td> <td>50.1   </td> <td>0      </td> <td>0      </td> <td>21     </td> <td>21     </td> <td>0      </td> <td>7.2    </td> <td>nan    </td> <td>31.3   </td> <td>37.7   </td> <td>29.3   </td> <td>80.3   </td> <td>41.5   </td> <td>100    </td> <td>23.9      </td> <td>-0.2      </td> <td>-4.3      </td> <td>5.2       </td> <td>-12.6     </td> <td>4.4       </td> <td>-6        </td> <td>-5.6      </td> <td>-3.9      </td> <td>-1.6      </td> <td>8.3       </td> <td>8.6       </td> <td>8         </td> <td>0         </td> <td>0         </td> <td>0.4       </td> <td>0         </td> <td>1.3       </td> <td>nan       </td> <td>16.7      </td> <td>21.7      </td> <td>20        </td> <td>50.4      </td> <td>nan       </td> <td>2.1       </td> <td>-4.7      </td> <td>12.5      </td> <td>0         </td> <td>10.5      </td> <td>20.7      </td> <td>-39.8     </td> <td>0         </td> <td>nan       </td> <td>nan       </td> <td>nan       </td> <td>nan       </td> <td>35.5      </td> <td>0         </td> <td>71        </td> <td>0.5       </td> <td>0         </td> <td>0.9       </td> <td>0         </td> <td>0         </td> <td>44.6      </td> <td>44.6      </td> <td>83.9      </td> <td>43        </td> <td>nan       </td> <td>32.4      </td> <td>5.2       </td> <td>16        </td> <td>19.7      </td> <td>36        </td> <td>0         </td> <td>81         </td> <td>174        </td> <td>170        </td> <td>167        </td> <td>142        </td> <td>174        </td> <td>57         </td> <td>63         </td> <td>123        </td> <td>78         </td> <td>127        </td> <td>128        </td> <td>125        </td> <td>180        </td> <td>180        </td> <td>176        </td> <td>163        </td> <td>137        </td> <td>nan        </td> <td>132        </td> <td>142        </td> <td>155        </td> <td>128        </td> <td>nan        </td> <td>166        </td> <td>54         </td> <td>155        </td> <td>101        </td> <td>21         </td> <td>18         </td> <td>90         </td> <td>1          </td> <td>nan        </td> <td>nan        </td> <td>nan        </td> <td>nan        </td> <td>160        </td> <td>177        </td> <td>77         </td> <td>54         </td> <td>60         </td> <td>48         </td> <td>141        </td> <td>141        </td> <td>13         </td> <td>13         </td> <td>6          </td> <td>61         </td> <td>nan        </td> <td>90         </td> <td>155        </td> <td>64         </td> <td>1          </td> <td>19         </td> <td>1          </td> <td>178        </td> <td>168        </td> <td>152        </td> <td>178        </td> <td>100        </td> <td>172        </td> <td>38         </td> <td>42         </td> <td>105        </td> <td>79         </td> <td>129        </td> <td>129        </td> <td>127        </td> <td>180        </td> <td>180        </td> <td>175        </td> <td>163        </td> <td>141        </td> <td>nan        </td> <td>174        </td> <td>173        </td> <td>176        </td> <td>176        </td> <td>nan        </td> <td>159        </td> <td>87         </td> <td>168        </td> <td>101        </td> <td>20         </td> <td>22         </td> <td>57         </td> <td>1          </td> <td>nan        </td> <td>nan        </td> <td>nan        </td> <td>nan        </td> <td>177        </td> <td>172        </td> <td>171        </td> <td>53         </td> <td>60         </td> <td>48         </td> <td>141        </td> <td>141        </td> <td>159        </td> <td>159        </td> <td>161        </td> <td>164        </td> <td>nan        </td> <td>141        </td> <td>142        </td> <td>112        </td> <td>12         </td> <td>129        </td> <td>1          </td>\n",
       "        </tr>\n",
       "        <tr>\n",
       "            <td>24  </td> <td>AGO </td> <td>Angola              </td> <td>Sub-Saharan Africa       </td> <td>30.5   </td> <td>20.5   </td> <td>23.1   </td> <td>17.9   </td> <td>24     </td> <td>36.8   </td> <td>32.4   </td> <td>60.2   </td> <td>30.3   </td> <td>8.3    </td> <td>12.8   </td> <td>14.1   </td> <td>12     </td> <td>36.7   </td> <td>36.7   </td> <td>9.6    </td> <td>0      </td> <td>19     </td> <td>19.5   </td> <td>28.6   </td> <td>30.1   </td> <td>34.1   </td> <td>36.6   </td> <td>0      </td> <td>30.2   </td> <td>88.4   </td> <td>31.8   </td> <td>61.5   </td> <td>29.4   </td> <td>15.5   </td> <td>41.7   </td> <td>100    </td> <td>24.3   </td> <td>43.9   </td> <td>17.6   </td> <td>7.9    </td> <td>50.5   </td> <td>39     </td> <td>61.9   </td> <td>24.9   </td> <td>20.4   </td> <td>29.3   </td> <td>0      </td> <td>0      </td> <td>37.7   </td> <td>37.7   </td> <td>39     </td> <td>49.7   </td> <td>57.7   </td> <td>70.4   </td> <td>51.8   </td> <td>26.4   </td> <td>37.9   </td> <td>45.2   </td> <td>62.3   </td> <td>30.3   </td> <td>18.9   </td> <td>24.9   </td> <td>9      </td> <td>36     </td> <td>27.9   </td> <td>30.5   </td> <td>65.8   </td> <td>25.7   </td> <td>7.3    </td> <td>3.3    </td> <td>4      </td> <td>2.8    </td> <td>31.4   </td> <td>31.4   </td> <td>12.5   </td> <td>0      </td> <td>17.7   </td> <td>32.3   </td> <td>25.6   </td> <td>29.7   </td> <td>34.1   </td> <td>36.6   </td> <td>0      </td> <td>25.4   </td> <td>97.2   </td> <td>31.8   </td> <td>61.5   </td> <td>33.1   </td> <td>21.9   </td> <td>33.7   </td> <td>100    </td> <td>26.6   </td> <td>52     </td> <td>17.6   </td> <td>5.7    </td> <td>8.8    </td> <td>8.9    </td> <td>8.7    </td> <td>26.8   </td> <td>20.4   </td> <td>33.2   </td> <td>0      </td> <td>0      </td> <td>41.5   </td> <td>41.5   </td> <td>50     </td> <td>58     </td> <td>0      </td> <td>35.1   </td> <td>56.6   </td> <td>26.5   </td> <td>27.7   </td> <td>100    </td> <td>55.5   </td> <td>0.2       </td> <td>1.6       </td> <td>-1.8      </td> <td>8.9       </td> <td>-12       </td> <td>8.9       </td> <td>1.9       </td> <td>-5.6      </td> <td>4.6       </td> <td>1         </td> <td>9.5       </td> <td>10.1      </td> <td>9.2       </td> <td>5.3       </td> <td>5.3       </td> <td>-2.9      </td> <td>0         </td> <td>1.3       </td> <td>-12.8     </td> <td>3         </td> <td>0.4       </td> <td>0         </td> <td>0         </td> <td>0         </td> <td>4.8       </td> <td>-8.8      </td> <td>0         </td> <td>0         </td> <td>-3.7      </td> <td>-6.4      </td> <td>8         </td> <td>0         </td> <td>-2.3      </td> <td>-8.1      </td> <td>0         </td> <td>2.2       </td> <td>41.7      </td> <td>30.1      </td> <td>53.2      </td> <td>-1.9      </td> <td>0         </td> <td>-3.9      </td> <td>0         </td> <td>0         </td> <td>-3.8      </td> <td>-3.8      </td> <td>-11       </td> <td>-8.3      </td> <td>57.7      </td> <td>35.3      </td> <td>-4.8      </td> <td>-0.1      </td> <td>10.2      </td> <td>-54.8     </td> <td>6.8       </td> <td>151        </td> <td>157        </td> <td>141        </td> <td>130        </td> <td>115        </td> <td>124        </td> <td>77         </td> <td>67         </td> <td>139        </td> <td>161        </td> <td>161        </td> <td>154        </td> <td>163        </td> <td>132        </td> <td>132        </td> <td>164        </td> <td>180        </td> <td>75         </td> <td>107        </td> <td>162        </td> <td>143        </td> <td>141        </td> <td>144        </td> <td>119        </td> <td>97         </td> <td>68         </td> <td>125        </td> <td>22         </td> <td>73         </td> <td>82         </td> <td>98         </td> <td>1          </td> <td>43         </td> <td>30         </td> <td>43         </td> <td>63         </td> <td>140        </td> <td>150        </td> <td>100        </td> <td>132        </td> <td>117        </td> <td>123        </td> <td>141        </td> <td>141        </td> <td>99         </td> <td>99         </td> <td>87         </td> <td>65         </td> <td>95         </td> <td>63         </td> <td>140        </td> <td>123        </td> <td>104        </td> <td>110        </td> <td>62         </td> <td>147        </td> <td>157        </td> <td>128        </td> <td>140        </td> <td>75         </td> <td>161        </td> <td>80         </td> <td>48         </td> <td>149        </td> <td>166        </td> <td>166        </td> <td>165        </td> <td>168        </td> <td>134        </td> <td>134        </td> <td>145        </td> <td>180        </td> <td>75         </td> <td>67         </td> <td>157        </td> <td>132        </td> <td>134        </td> <td>133        </td> <td>114        </td> <td>68         </td> <td>56         </td> <td>100        </td> <td>22         </td> <td>70         </td> <td>66         </td> <td>137        </td> <td>1          </td> <td>36         </td> <td>23         </td> <td>43         </td> <td>76         </td> <td>174        </td> <td>170        </td> <td>169        </td> <td>129        </td> <td>117        </td> <td>111        </td> <td>141        </td> <td>141        </td> <td>81         </td> <td>81         </td> <td>29         </td> <td>35         </td> <td>77         </td> <td>132        </td> <td>105        </td> <td>119        </td> <td>135        </td> <td>1          </td> <td>87         </td>\n",
       "        </tr>\n",
       "        <tr>\n",
       "            <td>8   </td> <td>ALB </td> <td>Albania             </td> <td>Eastern Europe           </td> <td>47.1   </td> <td>40     </td> <td>37.5   </td> <td>34.5   </td> <td>36.7   </td> <td>63.7   </td> <td>29.5   </td> <td>43.3   </td> <td>61.5   </td> <td>46.9   </td> <td>54.1   </td> <td>59.6   </td> <td>50.3   </td> <td>45.5   </td> <td>45.5   </td> <td>13.4   </td> <td>0.5    </td> <td>20.5   </td> <td>32.1   </td> <td>45.5   </td> <td>63.9   </td> <td>100    </td> <td>100    </td> <td>14.7   </td> <td>41     </td> <td>82.2   </td> <td>63.6   </td> <td>34.8   </td> <td>24.2   </td> <td>22.9   </td> <td>24.2   </td> <td>31.8   </td> <td>17.3   </td> <td>nan    </td> <td>30.2   </td> <td>0.8    </td> <td>90.2   </td> <td>100    </td> <td>80.4   </td> <td>28.9   </td> <td>20.2   </td> <td>37.6   </td> <td>1.9    </td> <td>1.9    </td> <td>52.5   </td> <td>52.5   </td> <td>42.3   </td> <td>50.1   </td> <td>59.4   </td> <td>76.9   </td> <td>100    </td> <td>53.9   </td> <td>87.3   </td> <td>49.6   </td> <td>61.5   </td> <td>37.2   </td> <td>36.2   </td> <td>32.5   </td> <td>28.8   </td> <td>33.1   </td> <td>47.3   </td> <td>26.5   </td> <td>33.6   </td> <td>54.4   </td> <td>50.5   </td> <td>51.3   </td> <td>55     </td> <td>48.9   </td> <td>43     </td> <td>43     </td> <td>12     </td> <td>0.5    </td> <td>19.1   </td> <td>28     </td> <td>38.2   </td> <td>49.4   </td> <td>79.5   </td> <td>79.1   </td> <td>4.7    </td> <td>26.3   </td> <td>94.4   </td> <td>46.9   </td> <td>34.8   </td> <td>22     </td> <td>17     </td> <td>40.3   </td> <td>34.1   </td> <td>17.5   </td> <td>nan    </td> <td>30.2   </td> <td>1.2    </td> <td>87.4   </td> <td>100    </td> <td>74.9   </td> <td>24.4   </td> <td>20.2   </td> <td>28.7   </td> <td>1.9    </td> <td>1.9    </td> <td>36.7   </td> <td>36.7   </td> <td>4.9    </td> <td>64.2   </td> <td>0      </td> <td>61.1   </td> <td>0      </td> <td>56.9   </td> <td>62     </td> <td>84.1   </td> <td>66.2   </td> <td>9.9       </td> <td>3.8       </td> <td>5         </td> <td>5.7       </td> <td>3.6       </td> <td>16.4      </td> <td>3         </td> <td>9.7       </td> <td>7.1       </td> <td>-3.6      </td> <td>2.8       </td> <td>4.6       </td> <td>1.4       </td> <td>2.5       </td> <td>2.5       </td> <td>1.4       </td> <td>0         </td> <td>1.4       </td> <td>4.1       </td> <td>7.3       </td> <td>14.5      </td> <td>20.5      </td> <td>20.9      </td> <td>10        </td> <td>14.7      </td> <td>-12.2     </td> <td>16.7      </td> <td>0         </td> <td>2.2       </td> <td>5.9       </td> <td>-16.1     </td> <td>-2.3      </td> <td>-0.2      </td> <td>nan       </td> <td>0         </td> <td>-0.4      </td> <td>2.8       </td> <td>0         </td> <td>5.5       </td> <td>4.5       </td> <td>0         </td> <td>8.9       </td> <td>0         </td> <td>0         </td> <td>15.8      </td> <td>15.8      </td> <td>37.4      </td> <td>-14.1     </td> <td>59.4      </td> <td>15.8      </td> <td>100       </td> <td>-3        </td> <td>25.3      </td> <td>-34.5     </td> <td>-4.7      </td> <td>62         </td> <td>90         </td> <td>84         </td> <td>100        </td> <td>76         </td> <td>39         </td> <td>86         </td> <td>106        </td> <td>56         </td> <td>56         </td> <td>69         </td> <td>69         </td> <td>66         </td> <td>99         </td> <td>99         </td> <td>146        </td> <td>171        </td> <td>68         </td> <td>78         </td> <td>86         </td> <td>70         </td> <td>1          </td> <td>1          </td> <td>57         </td> <td>67         </td> <td>98         </td> <td>66         </td> <td>153        </td> <td>99         </td> <td>52         </td> <td>149        </td> <td>118        </td> <td>79         </td> <td>nan        </td> <td>17         </td> <td>93         </td> <td>48         </td> <td>1          </td> <td>57         </td> <td>115        </td> <td>118        </td> <td>94         </td> <td>115        </td> <td>115        </td> <td>40         </td> <td>40         </td> <td>73         </td> <td>64         </td> <td>80         </td> <td>44         </td> <td>1          </td> <td>49         </td> <td>22         </td> <td>91         </td> <td>64         </td> <td>95         </td> <td>86         </td> <td>91         </td> <td>97         </td> <td>86         </td> <td>97         </td> <td>100        </td> <td>115        </td> <td>77         </td> <td>51         </td> <td>68         </td> <td>67         </td> <td>65         </td> <td>89         </td> <td>89         </td> <td>152        </td> <td>171        </td> <td>67         </td> <td>77         </td> <td>103        </td> <td>88         </td> <td>67         </td> <td>73         </td> <td>56         </td> <td>64         </td> <td>101        </td> <td>70         </td> <td>153        </td> <td>139        </td> <td>98         </td> <td>117        </td> <td>116        </td> <td>78         </td> <td>nan        </td> <td>17         </td> <td>93         </td> <td>40         </td> <td>1          </td> <td>50         </td> <td>135        </td> <td>118        </td> <td>124        </td> <td>115        </td> <td>115        </td> <td>108        </td> <td>108        </td> <td>156        </td> <td>26         </td> <td>77         </td> <td>70         </td> <td>173        </td> <td>39         </td> <td>37         </td> <td>25         </td> <td>67         </td>\n",
       "        </tr>\n",
       "        <tr>\n",
       "            <td>784 </td> <td>ARE </td> <td>United Arab Emirates</td> <td>Greater Middle East      </td> <td>52.4   </td> <td>49.4   </td> <td>41.7   </td> <td>100    </td> <td>3.4    </td> <td>20.4   </td> <td>0      </td> <td>14     </td> <td>25.7   </td> <td>13.1   </td> <td>67.2   </td> <td>90.5   </td> <td>51.7   </td> <td>53.6   </td> <td>53.6   </td> <td>43.4   </td> <td>67.6   </td> <td>24.5   </td> <td>13.8   </td> <td>70.4   </td> <td>80.3   </td> <td>97.2   </td> <td>97.2   </td> <td>100    </td> <td>29     </td> <td>81.4   </td> <td>42.4   </td> <td>60.7   </td> <td>100    </td> <td>nan    </td> <td>nan    </td> <td>100    </td> <td>26.2   </td> <td>40.7   </td> <td>11.7   </td> <td>nan    </td> <td>59.2   </td> <td>57.7   </td> <td>60.6   </td> <td>17.4   </td> <td>21.1   </td> <td>13.7   </td> <td>92.1   </td> <td>92.1   </td> <td>34     </td> <td>34     </td> <td>42     </td> <td>20.8   </td> <td>70.8   </td> <td>39     </td> <td>100    </td> <td>13.3   </td> <td>100    </td> <td>54.7   </td> <td>0      </td> <td>36.5   </td> <td>46.8   </td> <td>39.9   </td> <td>100    </td> <td>0      </td> <td>11.6   </td> <td>0      </td> <td>17.5   </td> <td>35.8   </td> <td>13.7   </td> <td>65.3   </td> <td>87     </td> <td>50.8   </td> <td>39.5   </td> <td>39.5   </td> <td>45.4   </td> <td>67.6   </td> <td>23.5   </td> <td>23.1   </td> <td>50     </td> <td>33.3   </td> <td>4.5    </td> <td>4.5    </td> <td>100    </td> <td>6.9    </td> <td>94.2   </td> <td>5.2    </td> <td>60.7   </td> <td>100    </td> <td>nan    </td> <td>nan    </td> <td>100    </td> <td>21.9   </td> <td>32     </td> <td>11.7   </td> <td>nan    </td> <td>55.4   </td> <td>72     </td> <td>38.8   </td> <td>23.1   </td> <td>21.1   </td> <td>25.2   </td> <td>92.1   </td> <td>92.1   </td> <td>16.1   </td> <td>16.1   </td> <td>14.8   </td> <td>29.3   </td> <td>59.9   </td> <td>6.4    </td> <td>41.1   </td> <td>9.5    </td> <td>0      </td> <td>35.1   </td> <td>0      </td> <td>15.9      </td> <td>2.6       </td> <td>1.8       </td> <td>0         </td> <td>3.4       </td> <td>8.8       </td> <td>0         </td> <td>-3.5      </td> <td>-10.1     </td> <td>-0.6      </td> <td>1.9       </td> <td>3.5       </td> <td>0.9       </td> <td>14.1      </td> <td>14.1      </td> <td>-2        </td> <td>0         </td> <td>1         </td> <td>-9.3      </td> <td>20.4      </td> <td>47        </td> <td>92.7      </td> <td>92.7      </td> <td>0         </td> <td>22.1      </td> <td>-12.8     </td> <td>37.2      </td> <td>0         </td> <td>0         </td> <td>nan       </td> <td>nan       </td> <td>0         </td> <td>4.3       </td> <td>8.7       </td> <td>0         </td> <td>nan       </td> <td>3.8       </td> <td>-14.3     </td> <td>21.8      </td> <td>-5.7      </td> <td>0         </td> <td>-11.5     </td> <td>0         </td> <td>0         </td> <td>17.9      </td> <td>17.9      </td> <td>27.2      </td> <td>-8.5      </td> <td>10.9      </td> <td>32.6      </td> <td>58.9      </td> <td>3.8       </td> <td>100       </td> <td>19.6      </td> <td>0         </td> <td>39         </td> <td>55         </td> <td>69         </td> <td>1          </td> <td>168        </td> <td>172        </td> <td>174        </td> <td>160        </td> <td>145        </td> <td>144        </td> <td>40         </td> <td>26         </td> <td>62         </td> <td>75         </td> <td>75         </td> <td>63         </td> <td>55         </td> <td>48         </td> <td>123        </td> <td>3          </td> <td>29         </td> <td>56         </td> <td>57         </td> <td>1          </td> <td>101        </td> <td>100        </td> <td>97         </td> <td>27         </td> <td>1          </td> <td>nan        </td> <td>nan        </td> <td>1          </td> <td>37         </td> <td>36         </td> <td>79         </td> <td>nan        </td> <td>118        </td> <td>120        </td> <td>102        </td> <td>160        </td> <td>110        </td> <td>169        </td> <td>13         </td> <td>13         </td> <td>117        </td> <td>117        </td> <td>76         </td> <td>152        </td> <td>44         </td> <td>148        </td> <td>1          </td> <td>151        </td> <td>1          </td> <td>68         </td> <td>172        </td> <td>102        </td> <td>49         </td> <td>59         </td> <td>1          </td> <td>171        </td> <td>174        </td> <td>175        </td> <td>156        </td> <td>134        </td> <td>152        </td> <td>36         </td> <td>26         </td> <td>61         </td> <td>102        </td> <td>102        </td> <td>60         </td> <td>55         </td> <td>49         </td> <td>98         </td> <td>45         </td> <td>126        </td> <td>166        </td> <td>168        </td> <td>1          </td> <td>140        </td> <td>103        </td> <td>157        </td> <td>27         </td> <td>1          </td> <td>nan        </td> <td>nan        </td> <td>1          </td> <td>53         </td> <td>45         </td> <td>79         </td> <td>nan        </td> <td>102        </td> <td>82         </td> <td>130        </td> <td>137        </td> <td>110        </td> <td>142        </td> <td>13         </td> <td>13         </td> <td>171        </td> <td>171        </td> <td>143        </td> <td>112        </td> <td>37         </td> <td>163        </td> <td>134        </td> <td>157        </td> <td>162        </td> <td>141        </td> <td>173        </td>\n",
       "        </tr>\n",
       "        <tr>\n",
       "            <td>32  </td> <td>ARG </td> <td>Argentina           </td> <td>Latin America & Caribbean</td> <td>41.1   </td> <td>56.3   </td> <td>52     </td> <td>60.5   </td> <td>48.2   </td> <td>51.8   </td> <td>22.8   </td> <td>68.5   </td> <td>66.2   </td> <td>16.3   </td> <td>64.8   </td> <td>72.6   </td> <td>59.5   </td> <td>72.2   </td> <td>72.2   </td> <td>42.4   </td> <td>71.2   </td> <td>9.6    </td> <td>17.7   </td> <td>38.9   </td> <td>42.4   </td> <td>41.7   </td> <td>56.7   </td> <td>43     </td> <td>17.2   </td> <td>69.5   </td> <td>37.1   </td> <td>43.2   </td> <td>23     </td> <td>14.2   </td> <td>54.2   </td> <td>45     </td> <td>5.8    </td> <td>5.6    </td> <td>5.5    </td> <td>6.3    </td> <td>85.4   </td> <td>100    </td> <td>70.7   </td> <td>74.1   </td> <td>69.8   </td> <td>78.4   </td> <td>5.9    </td> <td>5.9    </td> <td>35.5   </td> <td>35.5   </td> <td>51.8   </td> <td>40.2   </td> <td>10.6   </td> <td>47.7   </td> <td>83.1   </td> <td>11.7   </td> <td>86.7   </td> <td>29.2   </td> <td>33.4   </td> <td>33.3   </td> <td>52.6   </td> <td>48.1   </td> <td>53.3   </td> <td>45.6   </td> <td>55.8   </td> <td>21.9   </td> <td>63.8   </td> <td>64.3   </td> <td>15.3   </td> <td>60.4   </td> <td>66.3   </td> <td>56.4   </td> <td>68     </td> <td>68     </td> <td>42.4   </td> <td>71.2   </td> <td>9.2    </td> <td>18.1   </td> <td>31.5   </td> <td>32.3   </td> <td>39.9   </td> <td>55.5   </td> <td>2.6    </td> <td>10.4   </td> <td>93.2   </td> <td>34.3   </td> <td>43.2   </td> <td>22.3   </td> <td>6.8    </td> <td>100    </td> <td>37.4   </td> <td>13.5   </td> <td>29     </td> <td>5.5    </td> <td>3.9    </td> <td>46     </td> <td>47     </td> <td>44.9   </td> <td>73.4   </td> <td>69.8   </td> <td>77     </td> <td>5.9    </td> <td>5.9    </td> <td>25.1   </td> <td>25.1   </td> <td>30.2   </td> <td>31.1   </td> <td>35.1   </td> <td>38.2   </td> <td>100    </td> <td>7.4    </td> <td>31.3   </td> <td>52.2   </td> <td>30.6   </td> <td>7.8       </td> <td>3.7       </td> <td>3.9       </td> <td>7.2       </td> <td>2.6       </td> <td>-4        </td> <td>0.9       </td> <td>4.7       </td> <td>1.9       </td> <td>1         </td> <td>4.4       </td> <td>6.3       </td> <td>3.1       </td> <td>4.2       </td> <td>4.2       </td> <td>0         </td> <td>0         </td> <td>0.4       </td> <td>-0.4      </td> <td>7.4       </td> <td>10.1      </td> <td>1.8       </td> <td>1.2       </td> <td>40.4      </td> <td>6.8       </td> <td>-23.7     </td> <td>2.8       </td> <td>0         </td> <td>0.7       </td> <td>7.4       </td> <td>-45.8     </td> <td>7.6       </td> <td>-7.7      </td> <td>-23.4     </td> <td>0         </td> <td>2.4       </td> <td>39.4      </td> <td>53        </td> <td>25.8      </td> <td>0.7       </td> <td>0         </td> <td>1.4       </td> <td>0         </td> <td>0         </td> <td>10.4      </td> <td>10.4      </td> <td>21.6      </td> <td>9.1       </td> <td>-24.5     </td> <td>9.5       </td> <td>-16.9     </td> <td>4.3       </td> <td>55.4      </td> <td>-23       </td> <td>2.8       </td> <td>92         </td> <td>41         </td> <td>40         </td> <td>61         </td> <td>43         </td> <td>65         </td> <td>109        </td> <td>46         </td> <td>41         </td> <td>134        </td> <td>46         </td> <td>48         </td> <td>43         </td> <td>35         </td> <td>35         </td> <td>67         </td> <td>53         </td> <td>151        </td> <td>114        </td> <td>118        </td> <td>125        </td> <td>138        </td> <td>122        </td> <td>46         </td> <td>131        </td> <td>131        </td> <td>115        </td> <td>92         </td> <td>104        </td> <td>88         </td> <td>60         </td> <td>89         </td> <td>133        </td> <td>104        </td> <td>123        </td> <td>75         </td> <td>59         </td> <td>1          </td> <td>79         </td> <td>2          </td> <td>15         </td> <td>2          </td> <td>91         </td> <td>91         </td> <td>108        </td> <td>108        </td> <td>46         </td> <td>95         </td> <td>119        </td> <td>132        </td> <td>71         </td> <td>153        </td> <td>23         </td> <td>147        </td> <td>130        </td> <td>129        </td> <td>39         </td> <td>38         </td> <td>60         </td> <td>45         </td> <td>67         </td> <td>113        </td> <td>52         </td> <td>43         </td> <td>147        </td> <td>48         </td> <td>47         </td> <td>47         </td> <td>31         </td> <td>31         </td> <td>65         </td> <td>53         </td> <td>148        </td> <td>112        </td> <td>139        </td> <td>128        </td> <td>129        </td> <td>110        </td> <td>68         </td> <td>123        </td> <td>116        </td> <td>94         </td> <td>92         </td> <td>136        </td> <td>156        </td> <td>1          </td> <td>110        </td> <td>108        </td> <td>50         </td> <td>123        </td> <td>84         </td> <td>120        </td> <td>120        </td> <td>117        </td> <td>3          </td> <td>15         </td> <td>3          </td> <td>91         </td> <td>91         </td> <td>148        </td> <td>148        </td> <td>99         </td> <td>107        </td> <td>59         </td> <td>128        </td> <td>1          </td> <td>160        </td> <td>128        </td> <td>93         </td> <td>134        </td>\n",
       "        </tr>\n",
       "        <tr>\n",
       "            <td>51  </td> <td>ARM </td> <td>Armenia             </td> <td>Former Soviet States     </td> <td>48.3   </td> <td>40.7   </td> <td>32.1   </td> <td>56.7   </td> <td>12.4   </td> <td>28.1   </td> <td>20.9   </td> <td>33.5   </td> <td>53.2   </td> <td>43.1   </td> <td>57.3   </td> <td>50.7   </td> <td>61.7   </td> <td>50.2   </td> <td>50.2   </td> <td>37.5   </td> <td>49.5   </td> <td>13.5   </td> <td>nan    </td> <td>58.1   </td> <td>73.3   </td> <td>100    </td> <td>100    </td> <td>nan    </td> <td>15.8   </td> <td>92.4   </td> <td>50.3   </td> <td>43     </td> <td>59.7   </td> <td>58.2   </td> <td>28.7   </td> <td>100    </td> <td>nan    </td> <td>nan    </td> <td>nan    </td> <td>nan    </td> <td>39.2   </td> <td>27.3   </td> <td>51     </td> <td>45.5   </td> <td>33.3   </td> <td>57.6   </td> <td>4.5    </td> <td>4.5    </td> <td>41.4   </td> <td>41.4   </td> <td>29.2   </td> <td>40.1   </td> <td>58.6   </td> <td>0      </td> <td>30.6   </td> <td>47.5   </td> <td>100    </td> <td>40     </td> <td>59.4   </td> <td>43.5   </td> <td>35.5   </td> <td>24.5   </td> <td>43.4   </td> <td>5.6    </td> <td>28.7   </td> <td>29.7   </td> <td>36.3   </td> <td>56.1   </td> <td>50.3   </td> <td>55.8   </td> <td>52.9   </td> <td>57.7   </td> <td>43.7   </td> <td>43.7   </td> <td>36.8   </td> <td>49.5   </td> <td>11.5   </td> <td>nan    </td> <td>51.8   </td> <td>73.1   </td> <td>100    </td> <td>100    </td> <td>nan    </td> <td>14.5   </td> <td>98.5   </td> <td>48.7   </td> <td>43     </td> <td>38.5   </td> <td>40     </td> <td>38     </td> <td>29.9   </td> <td>nan    </td> <td>nan    </td> <td>nan    </td> <td>nan    </td> <td>27.5   </td> <td>35.3   </td> <td>19.7   </td> <td>42.5   </td> <td>33.3   </td> <td>51.6   </td> <td>4.5    </td> <td>4.5    </td> <td>38.4   </td> <td>38.4   </td> <td>19.5   </td> <td>31.4   </td> <td>0      </td> <td>0      </td> <td>100    </td> <td>49.7   </td> <td>71.8   </td> <td>84.2   </td> <td>69.6   </td> <td>4.8       </td> <td>5.2       </td> <td>7.6       </td> <td>13.3      </td> <td>6.8       </td> <td>-0.6      </td> <td>-8.8      </td> <td>-2.8      </td> <td>-2.9      </td> <td>-7.2      </td> <td>1.5       </td> <td>-2.2      </td> <td>4         </td> <td>6.5       </td> <td>6.5       </td> <td>0.7       </td> <td>0         </td> <td>2         </td> <td>nan       </td> <td>6.3       </td> <td>0.2       </td> <td>0         </td> <td>0         </td> <td>nan       </td> <td>1.3       </td> <td>-6.1      </td> <td>1.6       </td> <td>0         </td> <td>21.2      </td> <td>18.2      </td> <td>-9.3      </td> <td>70.1      </td> <td>nan       </td> <td>nan       </td> <td>nan       </td> <td>nan       </td> <td>11.7      </td> <td>-8        </td> <td>31.3      </td> <td>3         </td> <td>0         </td> <td>6         </td> <td>0         </td> <td>0         </td> <td>3         </td> <td>3         </td> <td>9.7       </td> <td>8.7       </td> <td>58.6      </td> <td>0         </td> <td>-69.4     </td> <td>-2.2      </td> <td>28.2      </td> <td>-44.2     </td> <td>-10.2     </td> <td>56         </td> <td>89         </td> <td>102        </td> <td>66         </td> <td>149        </td> <td>157        </td> <td>117        </td> <td>130        </td> <td>92         </td> <td>65         </td> <td>60         </td> <td>92         </td> <td>39         </td> <td>85         </td> <td>85         </td> <td>79         </td> <td>75         </td> <td>115        </td> <td>nan        </td> <td>30         </td> <td>49         </td> <td>1          </td> <td>1          </td> <td>nan        </td> <td>134        </td> <td>41         </td> <td>86         </td> <td>94         </td> <td>25         </td> <td>19         </td> <td>141        </td> <td>1          </td> <td>nan        </td> <td>nan        </td> <td>nan        </td> <td>nan        </td> <td>155        </td> <td>166        </td> <td>131        </td> <td>49         </td> <td>71         </td> <td>30         </td> <td>96         </td> <td>96         </td> <td>82         </td> <td>82         </td> <td>111        </td> <td>96         </td> <td>88         </td> <td>178        </td> <td>168        </td> <td>60         </td> <td>1          </td> <td>124        </td> <td>73         </td> <td>65         </td> <td>89         </td> <td>129        </td> <td>72         </td> <td>162        </td> <td>159        </td> <td>86         </td> <td>107        </td> <td>69         </td> <td>52         </td> <td>54         </td> <td>75         </td> <td>43         </td> <td>84         </td> <td>84         </td> <td>78         </td> <td>75         </td> <td>121        </td> <td>nan        </td> <td>39         </td> <td>27         </td> <td>1          </td> <td>1          </td> <td>nan        </td> <td>110        </td> <td>27         </td> <td>65         </td> <td>94         </td> <td>48         </td> <td>15         </td> <td>128        </td> <td>123        </td> <td>nan        </td> <td>nan        </td> <td>nan        </td> <td>nan        </td> <td>157        </td> <td>149        </td> <td>160        </td> <td>59         </td> <td>71         </td> <td>41         </td> <td>96         </td> <td>96         </td> <td>97         </td> <td>97         </td> <td>129        </td> <td>105        </td> <td>77         </td> <td>169        </td> <td>1          </td> <td>47         </td> <td>24         </td> <td>23         </td> <td>60         </td>\n",
       "        </tr>\n",
       "        <tr>\n",
       "            <td>28  </td> <td>ATG </td> <td>Antigua and Barbuda </td> <td>Latin America & Caribbean</td> <td>52.4   </td> <td>55.8   </td> <td>56.5   </td> <td>69.3   </td> <td>37.1   </td> <td>100    </td> <td>77.2   </td> <td>62.2   </td> <td>91.6   </td> <td>91.4   </td> <td>50.1   </td> <td>57.4   </td> <td>45.2   </td> <td>59.8   </td> <td>59.8   </td> <td>62.3   </td> <td>75.2   </td> <td>15.3   </td> <td>83.7   </td> <td>43.6   </td> <td>54.2   </td> <td>88.7   </td> <td>84.8   </td> <td>2.6    </td> <td>53.7   </td> <td>nan    </td> <td>39.1   </td> <td>34     </td> <td>39.5   </td> <td>19.4   </td> <td>100    </td> <td>100    </td> <td>19.7   </td> <td>30.4   </td> <td>9      </td> <td>nan    </td> <td>93.2   </td> <td>100    </td> <td>86.5   </td> <td>5.1    </td> <td>nan    </td> <td>5.1    </td> <td>15.7   </td> <td>15.7   </td> <td>60.2   </td> <td>60.2   </td> <td>37.4   </td> <td>50.2   </td> <td>60.9   </td> <td>79     </td> <td>69     </td> <td>83.5   </td> <td>88.6   </td> <td>48     </td> <td>40     </td> <td>42.7   </td> <td>52.9   </td> <td>52.7   </td> <td>61.6   </td> <td>36.7   </td> <td>100    </td> <td>69.3   </td> <td>58.1   </td> <td>85.1   </td> <td>85.8   </td> <td>49     </td> <td>54.6   </td> <td>45.2   </td> <td>54.5   </td> <td>54.5   </td> <td>61.9   </td> <td>75.2   </td> <td>15.2   </td> <td>82.2   </td> <td>33.3   </td> <td>51.8   </td> <td>88.7   </td> <td>84.8   </td> <td>1.4    </td> <td>38.9   </td> <td>nan    </td> <td>38.7   </td> <td>34     </td> <td>21.7   </td> <td>22.1   </td> <td>28.3   </td> <td>13.3   </td> <td>18.4   </td> <td>27.9   </td> <td>9      </td> <td>nan    </td> <td>36.3   </td> <td>37.8   </td> <td>34.8   </td> <td>2.5    </td> <td>nan    </td> <td>2.5    </td> <td>15.7   </td> <td>15.7   </td> <td>47.7   </td> <td>47.7   </td> <td>18.6   </td> <td>46.5   </td> <td>3.5    </td> <td>42.1   </td> <td>74.9   </td> <td>82.2   </td> <td>38.9   </td> <td>40     </td> <td>40.3   </td> <td>9.7       </td> <td>2.9       </td> <td>3.8       </td> <td>7.7       </td> <td>0.4       </td> <td>0         </td> <td>7.9       </td> <td>4.1       </td> <td>6.5       </td> <td>5.6       </td> <td>1.1       </td> <td>2.8       </td> <td>0         </td> <td>5.3       </td> <td>5.3       </td> <td>0.4       </td> <td>0         </td> <td>0.1       </td> <td>1.5       </td> <td>10.3      </td> <td>2.4       </td> <td>0         </td> <td>0         </td> <td>1.2       </td> <td>14.8      </td> <td>nan       </td> <td>0.4       </td> <td>0         </td> <td>17.8      </td> <td>-2.7      </td> <td>71.7      </td> <td>86.7      </td> <td>1.3       </td> <td>2.5       </td> <td>0         </td> <td>nan       </td> <td>56.9      </td> <td>62.2      </td> <td>51.7      </td> <td>2.6       </td> <td>nan       </td> <td>2.6       </td> <td>0         </td> <td>0         </td> <td>12.5      </td> <td>12.5      </td> <td>18.8      </td> <td>3.7       </td> <td>57.4      </td> <td>36.9      </td> <td>-5.9      </td> <td>1.3       </td> <td>49.7      </td> <td>8         </td> <td>-0.3      </td> <td>39         </td> <td>42         </td> <td>34         </td> <td>53         </td> <td>75         </td> <td>1          </td> <td>16         </td> <td>58         </td> <td>12         </td> <td>13         </td> <td>82         </td> <td>73         </td> <td>89         </td> <td>60         </td> <td>60         </td> <td>29         </td> <td>49         </td> <td>94         </td> <td>1          </td> <td>96         </td> <td>100        </td> <td>74         </td> <td>81         </td> <td>81         </td> <td>37         </td> <td>nan        </td> <td>107        </td> <td>159        </td> <td>39         </td> <td>66         </td> <td>1          </td> <td>1          </td> <td>64         </td> <td>54         </td> <td>102        </td> <td>nan        </td> <td>41         </td> <td>1          </td> <td>49         </td> <td>178        </td> <td>nan        </td> <td>177        </td> <td>65         </td> <td>65         </td> <td>24         </td> <td>24         </td> <td>89         </td> <td>61         </td> <td>63         </td> <td>38         </td> <td>88         </td> <td>18         </td> <td>20         </td> <td>96         </td> <td>116        </td> <td>72         </td> <td>37         </td> <td>33         </td> <td>47         </td> <td>72         </td> <td>1          </td> <td>21         </td> <td>62         </td> <td>18         </td> <td>15         </td> <td>78         </td> <td>68         </td> <td>77         </td> <td>59         </td> <td>59         </td> <td>23         </td> <td>49         </td> <td>85         </td> <td>1          </td> <td>126        </td> <td>80         </td> <td>54         </td> <td>62         </td> <td>84         </td> <td>32         </td> <td>nan        </td> <td>83         </td> <td>159        </td> <td>142        </td> <td>64         </td> <td>144        </td> <td>149        </td> <td>73         </td> <td>56         </td> <td>102        </td> <td>nan        </td> <td>144        </td> <td>144        </td> <td>144        </td> <td>179        </td> <td>nan        </td> <td>178        </td> <td>65         </td> <td>65         </td> <td>33         </td> <td>33         </td> <td>133        </td> <td>53         </td> <td>70         </td> <td>119        </td> <td>67         </td> <td>14         </td> <td>109        </td> <td>133        </td> <td>112        </td>\n",
       "        </tr>\n",
       "        <tr>\n",
       "            <td>36  </td> <td>AUS </td> <td>Australia           </td> <td>Global West              </td> <td>60.1   </td> <td>86.4   </td> <td>91.1   </td> <td>98.1   </td> <td>100    </td> <td>78.1   </td> <td>15.7   </td> <td>37.8   </td> <td>60.5   </td> <td>18.5   </td> <td>87.1   </td> <td>95.9   </td> <td>81.2   </td> <td>76.4   </td> <td>76.4   </td> <td>69     </td> <td>95     </td> <td>52.9   </td> <td>33.1   </td> <td>62.3   </td> <td>82.1   </td> <td>90.9   </td> <td>90.4   </td> <td>100    </td> <td>45.8   </td> <td>87.4   </td> <td>72.8   </td> <td>56.4   </td> <td>20.1   </td> <td>0      </td> <td>100    </td> <td>60.6   </td> <td>14.6   </td> <td>16     </td> <td>16     </td> <td>11.2   </td> <td>88.6   </td> <td>100    </td> <td>77.2   </td> <td>67.9   </td> <td>86.7   </td> <td>49.2   </td> <td>92.9   </td> <td>92.9   </td> <td>43.8   </td> <td>43.8   </td> <td>59.4   </td> <td>83.6   </td> <td>63.5   </td> <td>89.4   </td> <td>69.7   </td> <td>13.6   </td> <td>35.4   </td> <td>71.5   </td> <td>0.3    </td> <td>49.8   </td> <td>82.3   </td> <td>86.4   </td> <td>90.6   </td> <td>95.1   </td> <td>89.9   </td> <td>10.6   </td> <td>28.5   </td> <td>79.4   </td> <td>15.6   </td> <td>85.4   </td> <td>92.6   </td> <td>80.5   </td> <td>68.9   </td> <td>68.9   </td> <td>65.9   </td> <td>95     </td> <td>52.3   </td> <td>21.5   </td> <td>48.2   </td> <td>50.8   </td> <td>60.9   </td> <td>58.6   </td> <td>47     </td> <td>19.7   </td> <td>96.4   </td> <td>44.6   </td> <td>56.4   </td> <td>26.2   </td> <td>11.8   </td> <td>38.7   </td> <td>100    </td> <td>14     </td> <td>15.2   </td> <td>16     </td> <td>10     </td> <td>68.2   </td> <td>73.2   </td> <td>63.3   </td> <td>69     </td> <td>86.7   </td> <td>51.3   </td> <td>92.9   </td> <td>92.9   </td> <td>34.4   </td> <td>34.4   </td> <td>39.3   </td> <td>64     </td> <td>41.7   </td> <td>100    </td> <td>100    </td> <td>7.1    </td> <td>86.1   </td> <td>65.8   </td> <td>0      </td> <td>10.3      </td> <td>4.1       </td> <td>4.7       </td> <td>7.5       </td> <td>4.9       </td> <td>-11.8     </td> <td>5.1       </td> <td>9.3       </td> <td>-18.9     </td> <td>2.9       </td> <td>1.7       </td> <td>3.3       </td> <td>0.7       </td> <td>7.5       </td> <td>7.5       </td> <td>3.1       </td> <td>0         </td> <td>0.6       </td> <td>11.6      </td> <td>14.1      </td> <td>31.3      </td> <td>30        </td> <td>31.8      </td> <td>53        </td> <td>26.1      </td> <td>-9        </td> <td>28.2      </td> <td>0         </td> <td>-6.1      </td> <td>-11.8     </td> <td>61.3      </td> <td>-39.4     </td> <td>0.6       </td> <td>0.8       </td> <td>0         </td> <td>1.2       </td> <td>20.4      </td> <td>26.8      </td> <td>13.9      </td> <td>-1.1      </td> <td>0         </td> <td>-2.1      </td> <td>0         </td> <td>0         </td> <td>9.4       </td> <td>9.4       </td> <td>20.1      </td> <td>19.6      </td> <td>21.8      </td> <td>-10.6     </td> <td>-30.3     </td> <td>6.5       </td> <td>-50.7     </td> <td>5.7       </td> <td>0.3       </td> <td>17         </td> <td>8          </td> <td>6          </td> <td>22         </td> <td>1          </td> <td>18         </td> <td>140        </td> <td>120        </td> <td>60         </td> <td>125        </td> <td>25         </td> <td>19         </td> <td>27         </td> <td>28         </td> <td>28         </td> <td>11         </td> <td>18         </td> <td>5          </td> <td>73         </td> <td>16         </td> <td>22         </td> <td>68         </td> <td>73         </td> <td>1          </td> <td>55         </td> <td>71         </td> <td>43         </td> <td>40         </td> <td>119        </td> <td>161        </td> <td>1          </td> <td>61         </td> <td>99         </td> <td>85         </td> <td>54         </td> <td>46         </td> <td>53         </td> <td>1          </td> <td>65         </td> <td>9          </td> <td>1          </td> <td>56         </td> <td>11         </td> <td>11         </td> <td>71         </td> <td>71         </td> <td>26         </td> <td>9          </td> <td>56         </td> <td>26         </td> <td>87         </td> <td>149        </td> <td>107        </td> <td>24         </td> <td>171        </td> <td>35         </td> <td>6          </td> <td>4          </td> <td>21         </td> <td>3          </td> <td>12         </td> <td>150        </td> <td>134        </td> <td>25         </td> <td>145        </td> <td>24         </td> <td>20         </td> <td>27         </td> <td>28         </td> <td>28         </td> <td>14         </td> <td>18         </td> <td>5          </td> <td>100        </td> <td>53         </td> <td>84         </td> <td>101        </td> <td>104        </td> <td>27         </td> <td>94         </td> <td>75         </td> <td>73         </td> <td>40         </td> <td>113        </td> <td>137        </td> <td>125        </td> <td>1          </td> <td>101        </td> <td>88         </td> <td>54         </td> <td>47         </td> <td>80         </td> <td>81         </td> <td>79         </td> <td>7          </td> <td>1          </td> <td>42         </td> <td>11         </td> <td>11         </td> <td>118        </td> <td>118        </td> <td>76         </td> <td>27         </td> <td>54         </td> <td>1          </td> <td>1          </td> <td>161        </td> <td>7          </td> <td>54         </td> <td>173        </td>\n",
       "        </tr>\n",
       "        <tr>\n",
       "            <td>40  </td> <td>AUT </td> <td>Austria             </td> <td>Global West              </td> <td>66.5   </td> <td>81.7   </td> <td>75     </td> <td>95.7   </td> <td>69.3   </td> <td>44.9   </td> <td>15.5   </td> <td>59.9   </td> <td>52.9   </td> <td>50.3   </td> <td>94.7   </td> <td>86.7   </td> <td>100    </td> <td>90.7   </td> <td>90.7   </td> <td>77.4   </td> <td>98.1   </td> <td>36     </td> <td>nan    </td> <td>73.9   </td> <td>86     </td> <td>100    </td> <td>100    </td> <td>nan    </td> <td>70.3   </td> <td>84.8   </td> <td>79.8   </td> <td>44     </td> <td>28     </td> <td>12.9   </td> <td>100    </td> <td>46.6   </td> <td>nan    </td> <td>nan    </td> <td>nan    </td> <td>nan    </td> <td>100    </td> <td>100    </td> <td>100    </td> <td>70.6   </td> <td>73.1   </td> <td>68     </td> <td>94     </td> <td>94     </td> <td>50.3   </td> <td>50.3   </td> <td>54.3   </td> <td>70.5   </td> <td>89.9   </td> <td>69.2   </td> <td>100    </td> <td>31.4   </td> <td>78.2   </td> <td>54.1   </td> <td>22.2   </td> <td>59.3   </td> <td>75.3   </td> <td>65.3   </td> <td>89.7   </td> <td>54.7   </td> <td>46     </td> <td>11.8   </td> <td>49.6   </td> <td>43.5   </td> <td>48.7   </td> <td>93.7   </td> <td>84.2   </td> <td>100    </td> <td>82.2   </td> <td>82.2   </td> <td>77.3   </td> <td>98.1   </td> <td>35.9   </td> <td>nan    </td> <td>70.6   </td> <td>81.9   </td> <td>100    </td> <td>100    </td> <td>nan    </td> <td>50.3   </td> <td>91.4   </td> <td>72.6   </td> <td>44     </td> <td>24.2   </td> <td>14.5   </td> <td>84.9   </td> <td>21.7   </td> <td>nan    </td> <td>nan    </td> <td>nan    </td> <td>nan    </td> <td>95     </td> <td>100    </td> <td>89.9   </td> <td>71     </td> <td>73.1   </td> <td>68.9   </td> <td>94     </td> <td>94     </td> <td>38.4   </td> <td>38.4   </td> <td>38.2   </td> <td>70.7   </td> <td>53.3   </td> <td>100    </td> <td>100    </td> <td>23.3   </td> <td>34.6   </td> <td>39.7   </td> <td>21     </td> <td>7.2       </td> <td>6.4       </td> <td>9.7       </td> <td>6         </td> <td>14.6      </td> <td>-1.1      </td> <td>3.7       </td> <td>10.3      </td> <td>9.4       </td> <td>1.6       </td> <td>1         </td> <td>2.5       </td> <td>0         </td> <td>8.5       </td> <td>8.5       </td> <td>0.1       </td> <td>0         </td> <td>0.1       </td> <td>nan       </td> <td>3.3       </td> <td>4.1       </td> <td>0         </td> <td>0         </td> <td>nan       </td> <td>20        </td> <td>-6.6      </td> <td>7.2       </td> <td>0         </td> <td>3.8       </td> <td>-1.6      </td> <td>15.1      </td> <td>24.9      </td> <td>nan       </td> <td>nan       </td> <td>nan       </td> <td>nan       </td> <td>5         </td> <td>0         </td> <td>10.1      </td> <td>-0.4      </td> <td>0         </td> <td>-0.9      </td> <td>0         </td> <td>0         </td> <td>11.9      </td> <td>11.9      </td> <td>16.1      </td> <td>-0.2      </td> <td>36.6      </td> <td>-30.8     </td> <td>0         </td> <td>8.1       </td> <td>43.6      </td> <td>14.4      </td> <td>1.2       </td> <td>8          </td> <td>17         </td> <td>19         </td> <td>29         </td> <td>19         </td> <td>89         </td> <td>141        </td> <td>70         </td> <td>96         </td> <td>48         </td> <td>18         </td> <td>28         </td> <td>1          </td> <td>14         </td> <td>14         </td> <td>2          </td> <td>11         </td> <td>21         </td> <td>nan        </td> <td>1          </td> <td>7          </td> <td>1          </td> <td>1          </td> <td>nan        </td> <td>15         </td> <td>87         </td> <td>27         </td> <td>87         </td> <td>83         </td> <td>97         </td> <td>1          </td> <td>87         </td> <td>nan        </td> <td>nan        </td> <td>nan        </td> <td>nan        </td> <td>1          </td> <td>1          </td> <td>1          </td> <td>5          </td> <td>8          </td> <td>12         </td> <td>10         </td> <td>10         </td> <td>46         </td> <td>46         </td> <td>41         </td> <td>18         </td> <td>15         </td> <td>68         </td> <td>1          </td> <td>103        </td> <td>26         </td> <td>69         </td> <td>148        </td> <td>3          </td> <td>17         </td> <td>18         </td> <td>24         </td> <td>24         </td> <td>102        </td> <td>147        </td> <td>83         </td> <td>115        </td> <td>56         </td> <td>17         </td> <td>28         </td> <td>1          </td> <td>14         </td> <td>14         </td> <td>2          </td> <td>11         </td> <td>19         </td> <td>nan        </td> <td>1          </td> <td>8          </td> <td>1          </td> <td>1          </td> <td>nan        </td> <td>16         </td> <td>128        </td> <td>24         </td> <td>87         </td> <td>129        </td> <td>117        </td> <td>56         </td> <td>139        </td> <td>nan        </td> <td>nan        </td> <td>nan        </td> <td>nan        </td> <td>32         </td> <td>1          </td> <td>37         </td> <td>4          </td> <td>8          </td> <td>10         </td> <td>10         </td> <td>10         </td> <td>97         </td> <td>97         </td> <td>80         </td> <td>19         </td> <td>45         </td> <td>1          </td> <td>1          </td> <td>126        </td> <td>119        </td> <td>134        </td> <td>149        </td>\n",
       "        </tr>\n",
       "        <tr>\n",
       "            <td>31  </td> <td>AZE </td> <td>Azerbaijan          </td> <td>Former Soviet States     </td> <td>38.6   </td> <td>30.7   </td> <td>22.1   </td> <td>40.6   </td> <td>2      </td> <td>35.5   </td> <td>32.7   </td> <td>38.9   </td> <td>59.4   </td> <td>42.7   </td> <td>45.6   </td> <td>44.3   </td> <td>46.5   </td> <td>40.4   </td> <td>40.4   </td> <td>30.8   </td> <td>39     </td> <td>14.4   </td> <td>nan    </td> <td>44.4   </td> <td>46.2   </td> <td>50.7   </td> <td>62.2   </td> <td>nan    </td> <td>10.8   </td> <td>96     </td> <td>50.7   </td> <td>29.2   </td> <td>58.1   </td> <td>64.6   </td> <td>29     </td> <td>48.6   </td> <td>nan    </td> <td>nan    </td> <td>nan    </td> <td>nan    </td> <td>31.9   </td> <td>8.4    </td> <td>55.4   </td> <td>51.4   </td> <td>38.4   </td> <td>64.3   </td> <td>3.9    </td> <td>3.9    </td> <td>36.4   </td> <td>36.4   </td> <td>32.9   </td> <td>41.6   </td> <td>54.4   </td> <td>36.5   </td> <td>64.6   </td> <td>28.9   </td> <td>100    </td> <td>22.2   </td> <td>42.1   </td> <td>39.9   </td> <td>27     </td> <td>17.5   </td> <td>30.7   </td> <td>0      </td> <td>40.1   </td> <td>33.9   </td> <td>32.9   </td> <td>59.2   </td> <td>41.5   </td> <td>43.2   </td> <td>42     </td> <td>43.9   </td> <td>35.7   </td> <td>35.7   </td> <td>30.4   </td> <td>39     </td> <td>13.1   </td> <td>nan    </td> <td>48.9   </td> <td>45.5   </td> <td>50.6   </td> <td>62.1   </td> <td>nan    </td> <td>7.6    </td> <td>99.3   </td> <td>49.6   </td> <td>29.2   </td> <td>51.7   </td> <td>40.5   </td> <td>70.2   </td> <td>100    </td> <td>nan    </td> <td>nan    </td> <td>nan    </td> <td>nan    </td> <td>95.9   </td> <td>100    </td> <td>91.9   </td> <td>44.8   </td> <td>38.4   </td> <td>51.1   </td> <td>3.9    </td> <td>3.9    </td> <td>36.8   </td> <td>36.8   </td> <td>42     </td> <td>0      </td> <td>0      </td> <td>18.5   </td> <td>79.4   </td> <td>30.1   </td> <td>78.2   </td> <td>100    </td> <td>45.5   </td> <td>-1.3      </td> <td>3.7       </td> <td>4.6       </td> <td>9.9       </td> <td>2         </td> <td>-4.6      </td> <td>-1.2      </td> <td>6         </td> <td>0.2       </td> <td>1.2       </td> <td>2.4       </td> <td>2.3       </td> <td>2.6       </td> <td>4.7       </td> <td>4.7       </td> <td>0.4       </td> <td>0         </td> <td>1.3       </td> <td>nan       </td> <td>-4.5      </td> <td>0.7       </td> <td>0.1       </td> <td>0.1       </td> <td>nan       </td> <td>3.2       </td> <td>-3.3      </td> <td>1.1       </td> <td>0         </td> <td>6.4       </td> <td>24.1      </td> <td>-41.2     </td> <td>-51.4     </td> <td>nan       </td> <td>nan       </td> <td>nan       </td> <td>nan       </td> <td>-64       </td> <td>-91.6     </td> <td>-36.5     </td> <td>6.6       </td> <td>0         </td> <td>13.2      </td> <td>0         </td> <td>0         </td> <td>-0.4      </td> <td>-0.4      </td> <td>-9.1      </td> <td>41.6      </td> <td>54.4      </td> <td>18        </td> <td>-14.8     </td> <td>-1.2      </td> <td>21.8      </td> <td>-77.8     </td> <td>-3.4      </td> <td>104        </td> <td>114        </td> <td>149        </td> <td>85         </td> <td>170        </td> <td>134        </td> <td>75         </td> <td>115        </td> <td>66         </td> <td>66         </td> <td>97         </td> <td>105        </td> <td>84         </td> <td>121        </td> <td>121        </td> <td>92         </td> <td>90         </td> <td>108        </td> <td>nan        </td> <td>91         </td> <td>118        </td> <td>128        </td> <td>117        </td> <td>nan        </td> <td>151        </td> <td>19         </td> <td>85         </td> <td>174        </td> <td>27         </td> <td>14         </td> <td>140        </td> <td>82         </td> <td>nan        </td> <td>nan        </td> <td>nan        </td> <td>nan        </td> <td>166        </td> <td>174        </td> <td>124        </td> <td>33         </td> <td>59         </td> <td>18         </td> <td>100        </td> <td>100        </td> <td>105        </td> <td>105        </td> <td>97         </td> <td>89         </td> <td>100        </td> <td>155        </td> <td>96         </td> <td>115        </td> <td>1          </td> <td>162        </td> <td>108        </td> <td>83         </td> <td>116        </td> <td>161        </td> <td>91         </td> <td>171        </td> <td>129        </td> <td>70         </td> <td>117        </td> <td>57         </td> <td>73         </td> <td>93         </td> <td>97         </td> <td>85         </td> <td>118        </td> <td>118        </td> <td>93         </td> <td>90         </td> <td>106        </td> <td>nan        </td> <td>47         </td> <td>98         </td> <td>116        </td> <td>97         </td> <td>nan        </td> <td>137        </td> <td>10         </td> <td>62         </td> <td>174        </td> <td>19         </td> <td>13         </td> <td>63         </td> <td>1          </td> <td>nan        </td> <td>nan        </td> <td>nan        </td> <td>nan        </td> <td>29         </td> <td>1          </td> <td>34         </td> <td>48         </td> <td>59         </td> <td>45         </td> <td>100        </td> <td>100        </td> <td>107        </td> <td>107        </td> <td>64         </td> <td>170        </td> <td>77         </td> <td>155        </td> <td>58         </td> <td>109        </td> <td>16         </td> <td>1          </td> <td>101        </td>\n",
       "        </tr>\n",
       "    </tbody>\n",
       "</table>\n",
       "<p>... (170 rows omitted)</p>"
      ],
      "text/plain": [
       "code | iso  | country              | region                    | EPI.new | HLT.new | AIR.new | HAD.new | PMD.new | OZD.new | NOE.new | SOE.new | COE.new | VOE.new | H2O.new | USD.new | UWD.new | HMT.new | PBD.new | WMG.new | MSW.new | REC.new | OCP.new | ECO.new | BDH.new | TBN.new | TBG.new | MPA.new | PAR.new | SHI.new | SPI.new | BHV.new | ECS.new | TCL.new | GRL.new | WTL.new | FSH.new | FSS.new | RMS.new | FTD.new | ACD.new | SDA.new | NXA.new | AGR.new | SPU.new | SNM.new | WRS.new | WWT.new | PCC.new | CCH.new | CDA.new | CHA.new | FGA.new | NDA.new | BCA.new | GHN.new | LCB.new | GIB.new | GHP.new | EPI.old | HLT.old | AIR.old | HAD.old | PMD.old | OZD.old | NOE.old | SOE.old | COE.old | VOE.old | H2O.old | USD.old | UWD.old | HMT.old | PBD.old | WMG.old | MSW.old | REC.old | OCP.old | ECO.old | BDH.old | TBN.old | TBG.old | MPA.old | PAR.old | SHI.old | SPI.old | BHV.old | ECS.old | TCL.old | GRL.old | WTL.old | FSH.old | FSS.old | RMS.old | FTD.old | ACD.old | SDA.old | NXA.old | AGR.old | SPU.old | SNM.old | WRS.old | WWT.old | PCC.old | CCH.old | CDA.old | CHA.old | FGA.old | NDA.old | BCA.old | GHN.old | LCB.old | GIB.old | GHP.old | EPI.change | HLT.change | AIR.change | HAD.change | PMD.change | OZD.change | NOE.change | SOE.change | COE.change | VOE.change | H2O.change | USD.change | UWD.change | HMT.change | PBD.change | WMG.change | MSW.change | REC.change | OCP.change | ECO.change | BDH.change | TBN.change | TBG.change | MPA.change | PAR.change | SHI.change | SPI.change | BHV.change | ECS.change | TCL.change | GRL.change | WTL.change | FSH.change | FSS.change | RMS.change | FTD.change | ACD.change | SDA.change | NXA.change | AGR.change | SPU.change | SNM.change | WRS.change | WWT.change | PCC.change | CCH.change | CDA.change | CHA.change | FGA.change | NDA.change | BCA.change | GHN.change | LCB.change | GIB.change | GHP.change | EPI.rnk.new | HLT.rnk.new | AIR.rnk.new | HAD.rnk.new | PMD.rnk.new | OZD.rnk.new | NOE.rnk.new | SOE.rnk.new | COE.rnk.new | VOE.rnk.new | H2O.rnk.new | USD.rnk.new | UWD.rnk.new | HMT.rnk.new | PBD.rnk.new | WMG.rnk.new | MSW.rnk.new | REC.rnk.new | OCP.rnk.new | ECO.rnk.new | BDH.rnk.new | TBN.rnk.new | TBG.rnk.new | MPA.rnk.new | PAR.rnk.new | SHI.rnk.new | SPI.rnk.new | BHV.rnk.new | ECS.rnk.new | TCL.rnk.new | GRL.rnk.new | WTL.rnk.new | FSH.rnk.new | FSS.rnk.new | RMS.rnk.new | FTD.rnk.new | ACD.rnk.new | SDA.rnk.new | NXA.rnk.new | AGR.rnk.new | SPU.rnk.new | SNM.rnk.new | WRS.rnk.new | WWT.rnk.new | PCC.rnk.new | CCH.rnk.new | CDA.rnk.new | CHA.rnk.new | FGA.rnk.new | NDA.rnk.new | BCA.rnk.new | GHN.rnk.new | LCB.rnk.new | GIB.rnk.new | GHP.rnk.new | EPI.rnk.old | HLT.rnk.old | AIR.rnk.old | HAD.rnk.old | PMD.rnk.old | OZD.rnk.old | NOE.rnk.old | SOE.rnk.old | COE.rnk.old | VOE.rnk.old | H2O.rnk.old | USD.rnk.old | UWD.rnk.old | HMT.rnk.old | PBD.rnk.old | WMG.rnk.old | MSW.rnk.old | REC.rnk.old | OCP.rnk.old | ECO.rnk.old | BDH.rnk.old | TBN.rnk.old | TBG.rnk.old | MPA.rnk.old | PAR.rnk.old | SHI.rnk.old | SPI.rnk.old | BHV.rnk.old | ECS.rnk.old | TCL.rnk.old | GRL.rnk.old | WTL.rnk.old | FSH.rnk.old | FSS.rnk.old | RMS.rnk.old | FTD.rnk.old | ACD.rnk.old | SDA.rnk.old | NXA.rnk.old | AGR.rnk.old | SPU.rnk.old | SNM.rnk.old | WRS.rnk.old | WWT.rnk.old | PCC.rnk.old | CCH.rnk.old | CDA.rnk.old | CHA.rnk.old | FGA.rnk.old | NDA.rnk.old | BCA.rnk.old | GHN.rnk.old | LCB.rnk.old | GIB.rnk.old | GHP.rnk.old\n",
       "4    | AFG  | Afghanistan          | Southern Asia             | 43.6    | 16      | 15.5    | 7.4     | 16      | 18.4    | 37.8    | 61.2    | 42.7    | 37.5    | 28.1    | 28.4    | 27.8    | 0       | 0       | 4.4     | 1.1     | 11.1    | nan     | 36.9    | 30.7    | 20.6    | 51.5    | nan     | 5.2     | 90.8    | 13.4    | 41.9    | 61.8    | 58.3    | 44.8    | 100     | nan     | nan     | nan     | nan     | 35.5    | 0       | 71      | 44.2    | 37.3    | 51      | 0       | 0       | 65.6    | 65.6    | 83.9    | 50.2    | nan     | 63.7    | 42.9    | 45.3    | 100     | 77.5    | 100     | 19.7    | 16.2    | 19.8    | 2.2     | 28.6    | 14      | 43.8    | 66.8    | 46.6    | 39.1    | 19.8    | 19.8    | 19.8    | 0       | 0       | 4       | 1.1     | 9.8     | nan     | 20.2    | 9       | 0.6     | 1.1     | nan     | 3.1     | 95.5    | 0.9     | 41.9    | 51.3    | 37.6    | 84.6    | 100     | nan     | nan     | nan     | nan     | 0       | 0       | 0       | 43.7    | 37.3    | 50.1    | 0       | 0       | 21      | 21      | 0       | 7.2     | nan     | 31.3    | 37.7    | 29.3    | 80.3    | 41.5    | 100     | 23.9       | -0.2       | -4.3       | 5.2        | -12.6      | 4.4        | -6         | -5.6       | -3.9       | -1.6       | 8.3        | 8.6        | 8          | 0          | 0          | 0.4        | 0          | 1.3        | nan        | 16.7       | 21.7       | 20         | 50.4       | nan        | 2.1        | -4.7       | 12.5       | 0          | 10.5       | 20.7       | -39.8      | 0          | nan        | nan        | nan        | nan        | 35.5       | 0          | 71         | 0.5        | 0          | 0.9        | 0          | 0          | 44.6       | 44.6       | 83.9       | 43         | nan        | 32.4       | 5.2        | 16         | 19.7       | 36         | 0          | 81          | 174         | 170         | 167         | 142         | 174         | 57          | 63          | 123         | 78          | 127         | 128         | 125         | 180         | 180         | 176         | 163         | 137         | nan         | 132         | 142         | 155         | 128         | nan         | 166         | 54          | 155         | 101         | 21          | 18          | 90          | 1           | nan         | nan         | nan         | nan         | 160         | 177         | 77          | 54          | 60          | 48          | 141         | 141         | 13          | 13          | 6           | 61          | nan         | 90          | 155         | 64          | 1           | 19          | 1           | 178         | 168         | 152         | 178         | 100         | 172         | 38          | 42          | 105         | 79          | 129         | 129         | 127         | 180         | 180         | 175         | 163         | 141         | nan         | 174         | 173         | 176         | 176         | nan         | 159         | 87          | 168         | 101         | 20          | 22          | 57          | 1           | nan         | nan         | nan         | nan         | 177         | 172         | 171         | 53          | 60          | 48          | 141         | 141         | 159         | 159         | 161         | 164         | nan         | 141         | 142         | 112         | 12          | 129         | 1\n",
       "24   | AGO  | Angola               | Sub-Saharan Africa        | 30.5    | 20.5    | 23.1    | 17.9    | 24      | 36.8    | 32.4    | 60.2    | 30.3    | 8.3     | 12.8    | 14.1    | 12      | 36.7    | 36.7    | 9.6     | 0       | 19      | 19.5    | 28.6    | 30.1    | 34.1    | 36.6    | 0       | 30.2    | 88.4    | 31.8    | 61.5    | 29.4    | 15.5    | 41.7    | 100     | 24.3    | 43.9    | 17.6    | 7.9     | 50.5    | 39      | 61.9    | 24.9    | 20.4    | 29.3    | 0       | 0       | 37.7    | 37.7    | 39      | 49.7    | 57.7    | 70.4    | 51.8    | 26.4    | 37.9    | 45.2    | 62.3    | 30.3    | 18.9    | 24.9    | 9       | 36      | 27.9    | 30.5    | 65.8    | 25.7    | 7.3     | 3.3     | 4       | 2.8     | 31.4    | 31.4    | 12.5    | 0       | 17.7    | 32.3    | 25.6    | 29.7    | 34.1    | 36.6    | 0       | 25.4    | 97.2    | 31.8    | 61.5    | 33.1    | 21.9    | 33.7    | 100     | 26.6    | 52      | 17.6    | 5.7     | 8.8     | 8.9     | 8.7     | 26.8    | 20.4    | 33.2    | 0       | 0       | 41.5    | 41.5    | 50      | 58      | 0       | 35.1    | 56.6    | 26.5    | 27.7    | 100     | 55.5    | 0.2        | 1.6        | -1.8       | 8.9        | -12        | 8.9        | 1.9        | -5.6       | 4.6        | 1          | 9.5        | 10.1       | 9.2        | 5.3        | 5.3        | -2.9       | 0          | 1.3        | -12.8      | 3          | 0.4        | 0          | 0          | 0          | 4.8        | -8.8       | 0          | 0          | -3.7       | -6.4       | 8          | 0          | -2.3       | -8.1       | 0          | 2.2        | 41.7       | 30.1       | 53.2       | -1.9       | 0          | -3.9       | 0          | 0          | -3.8       | -3.8       | -11        | -8.3       | 57.7       | 35.3       | -4.8       | -0.1       | 10.2       | -54.8      | 6.8        | 151         | 157         | 141         | 130         | 115         | 124         | 77          | 67          | 139         | 161         | 161         | 154         | 163         | 132         | 132         | 164         | 180         | 75          | 107         | 162         | 143         | 141         | 144         | 119         | 97          | 68          | 125         | 22          | 73          | 82          | 98          | 1           | 43          | 30          | 43          | 63          | 140         | 150         | 100         | 132         | 117         | 123         | 141         | 141         | 99          | 99          | 87          | 65          | 95          | 63          | 140         | 123         | 104         | 110         | 62          | 147         | 157         | 128         | 140         | 75          | 161         | 80          | 48          | 149         | 166         | 166         | 165         | 168         | 134         | 134         | 145         | 180         | 75          | 67          | 157         | 132         | 134         | 133         | 114         | 68          | 56          | 100         | 22          | 70          | 66          | 137         | 1           | 36          | 23          | 43          | 76          | 174         | 170         | 169         | 129         | 117         | 111         | 141         | 141         | 81          | 81          | 29          | 35          | 77          | 132         | 105         | 119         | 135         | 1           | 87\n",
       "8    | ALB  | Albania              | Eastern Europe            | 47.1    | 40      | 37.5    | 34.5    | 36.7    | 63.7    | 29.5    | 43.3    | 61.5    | 46.9    | 54.1    | 59.6    | 50.3    | 45.5    | 45.5    | 13.4    | 0.5     | 20.5    | 32.1    | 45.5    | 63.9    | 100     | 100     | 14.7    | 41      | 82.2    | 63.6    | 34.8    | 24.2    | 22.9    | 24.2    | 31.8    | 17.3    | nan     | 30.2    | 0.8     | 90.2    | 100     | 80.4    | 28.9    | 20.2    | 37.6    | 1.9     | 1.9     | 52.5    | 52.5    | 42.3    | 50.1    | 59.4    | 76.9    | 100     | 53.9    | 87.3    | 49.6    | 61.5    | 37.2    | 36.2    | 32.5    | 28.8    | 33.1    | 47.3    | 26.5    | 33.6    | 54.4    | 50.5    | 51.3    | 55      | 48.9    | 43      | 43      | 12      | 0.5     | 19.1    | 28      | 38.2    | 49.4    | 79.5    | 79.1    | 4.7     | 26.3    | 94.4    | 46.9    | 34.8    | 22      | 17      | 40.3    | 34.1    | 17.5    | nan     | 30.2    | 1.2     | 87.4    | 100     | 74.9    | 24.4    | 20.2    | 28.7    | 1.9     | 1.9     | 36.7    | 36.7    | 4.9     | 64.2    | 0       | 61.1    | 0       | 56.9    | 62      | 84.1    | 66.2    | 9.9        | 3.8        | 5          | 5.7        | 3.6        | 16.4       | 3          | 9.7        | 7.1        | -3.6       | 2.8        | 4.6        | 1.4        | 2.5        | 2.5        | 1.4        | 0          | 1.4        | 4.1        | 7.3        | 14.5       | 20.5       | 20.9       | 10         | 14.7       | -12.2      | 16.7       | 0          | 2.2        | 5.9        | -16.1      | -2.3       | -0.2       | nan        | 0          | -0.4       | 2.8        | 0          | 5.5        | 4.5        | 0          | 8.9        | 0          | 0          | 15.8       | 15.8       | 37.4       | -14.1      | 59.4       | 15.8       | 100        | -3         | 25.3       | -34.5      | -4.7       | 62          | 90          | 84          | 100         | 76          | 39          | 86          | 106         | 56          | 56          | 69          | 69          | 66          | 99          | 99          | 146         | 171         | 68          | 78          | 86          | 70          | 1           | 1           | 57          | 67          | 98          | 66          | 153         | 99          | 52          | 149         | 118         | 79          | nan         | 17          | 93          | 48          | 1           | 57          | 115         | 118         | 94          | 115         | 115         | 40          | 40          | 73          | 64          | 80          | 44          | 1           | 49          | 22          | 91          | 64          | 95          | 86          | 91          | 97          | 86          | 97          | 100         | 115         | 77          | 51          | 68          | 67          | 65          | 89          | 89          | 152         | 171         | 67          | 77          | 103         | 88          | 67          | 73          | 56          | 64          | 101         | 70          | 153         | 139         | 98          | 117         | 116         | 78          | nan         | 17          | 93          | 40          | 1           | 50          | 135         | 118         | 124         | 115         | 115         | 108         | 108         | 156         | 26          | 77          | 70          | 173         | 39          | 37          | 25          | 67\n",
       "784  | ARE  | United Arab Emirates | Greater Middle East       | 52.4    | 49.4    | 41.7    | 100     | 3.4     | 20.4    | 0       | 14      | 25.7    | 13.1    | 67.2    | 90.5    | 51.7    | 53.6    | 53.6    | 43.4    | 67.6    | 24.5    | 13.8    | 70.4    | 80.3    | 97.2    | 97.2    | 100     | 29      | 81.4    | 42.4    | 60.7    | 100     | nan     | nan     | 100     | 26.2    | 40.7    | 11.7    | nan     | 59.2    | 57.7    | 60.6    | 17.4    | 21.1    | 13.7    | 92.1    | 92.1    | 34      | 34      | 42      | 20.8    | 70.8    | 39      | 100     | 13.3    | 100     | 54.7    | 0       | 36.5    | 46.8    | 39.9    | 100     | 0       | 11.6    | 0       | 17.5    | 35.8    | 13.7    | 65.3    | 87      | 50.8    | 39.5    | 39.5    | 45.4    | 67.6    | 23.5    | 23.1    | 50      | 33.3    | 4.5     | 4.5     | 100     | 6.9     | 94.2    | 5.2     | 60.7    | 100     | nan     | nan     | 100     | 21.9    | 32      | 11.7    | nan     | 55.4    | 72      | 38.8    | 23.1    | 21.1    | 25.2    | 92.1    | 92.1    | 16.1    | 16.1    | 14.8    | 29.3    | 59.9    | 6.4     | 41.1    | 9.5     | 0       | 35.1    | 0       | 15.9       | 2.6        | 1.8        | 0          | 3.4        | 8.8        | 0          | -3.5       | -10.1      | -0.6       | 1.9        | 3.5        | 0.9        | 14.1       | 14.1       | -2         | 0          | 1          | -9.3       | 20.4       | 47         | 92.7       | 92.7       | 0          | 22.1       | -12.8      | 37.2       | 0          | 0          | nan        | nan        | 0          | 4.3        | 8.7        | 0          | nan        | 3.8        | -14.3      | 21.8       | -5.7       | 0          | -11.5      | 0          | 0          | 17.9       | 17.9       | 27.2       | -8.5       | 10.9       | 32.6       | 58.9       | 3.8        | 100        | 19.6       | 0          | 39          | 55          | 69          | 1           | 168         | 172         | 174         | 160         | 145         | 144         | 40          | 26          | 62          | 75          | 75          | 63          | 55          | 48          | 123         | 3           | 29          | 56          | 57          | 1           | 101         | 100         | 97          | 27          | 1           | nan         | nan         | 1           | 37          | 36          | 79          | nan         | 118         | 120         | 102         | 160         | 110         | 169         | 13          | 13          | 117         | 117         | 76          | 152         | 44          | 148         | 1           | 151         | 1           | 68          | 172         | 102         | 49          | 59          | 1           | 171         | 174         | 175         | 156         | 134         | 152         | 36          | 26          | 61          | 102         | 102         | 60          | 55          | 49          | 98          | 45          | 126         | 166         | 168         | 1           | 140         | 103         | 157         | 27          | 1           | nan         | nan         | 1           | 53          | 45          | 79          | nan         | 102         | 82          | 130         | 137         | 110         | 142         | 13          | 13          | 171         | 171         | 143         | 112         | 37          | 163         | 134         | 157         | 162         | 141         | 173\n",
       "32   | ARG  | Argentina            | Latin America & Caribbean | 41.1    | 56.3    | 52      | 60.5    | 48.2    | 51.8    | 22.8    | 68.5    | 66.2    | 16.3    | 64.8    | 72.6    | 59.5    | 72.2    | 72.2    | 42.4    | 71.2    | 9.6     | 17.7    | 38.9    | 42.4    | 41.7    | 56.7    | 43      | 17.2    | 69.5    | 37.1    | 43.2    | 23      | 14.2    | 54.2    | 45      | 5.8     | 5.6     | 5.5     | 6.3     | 85.4    | 100     | 70.7    | 74.1    | 69.8    | 78.4    | 5.9     | 5.9     | 35.5    | 35.5    | 51.8    | 40.2    | 10.6    | 47.7    | 83.1    | 11.7    | 86.7    | 29.2    | 33.4    | 33.3    | 52.6    | 48.1    | 53.3    | 45.6    | 55.8    | 21.9    | 63.8    | 64.3    | 15.3    | 60.4    | 66.3    | 56.4    | 68      | 68      | 42.4    | 71.2    | 9.2     | 18.1    | 31.5    | 32.3    | 39.9    | 55.5    | 2.6     | 10.4    | 93.2    | 34.3    | 43.2    | 22.3    | 6.8     | 100     | 37.4    | 13.5    | 29      | 5.5     | 3.9     | 46      | 47      | 44.9    | 73.4    | 69.8    | 77      | 5.9     | 5.9     | 25.1    | 25.1    | 30.2    | 31.1    | 35.1    | 38.2    | 100     | 7.4     | 31.3    | 52.2    | 30.6    | 7.8        | 3.7        | 3.9        | 7.2        | 2.6        | -4         | 0.9        | 4.7        | 1.9        | 1          | 4.4        | 6.3        | 3.1        | 4.2        | 4.2        | 0          | 0          | 0.4        | -0.4       | 7.4        | 10.1       | 1.8        | 1.2        | 40.4       | 6.8        | -23.7      | 2.8        | 0          | 0.7        | 7.4        | -45.8      | 7.6        | -7.7       | -23.4      | 0          | 2.4        | 39.4       | 53         | 25.8       | 0.7        | 0          | 1.4        | 0          | 0          | 10.4       | 10.4       | 21.6       | 9.1        | -24.5      | 9.5        | -16.9      | 4.3        | 55.4       | -23        | 2.8        | 92          | 41          | 40          | 61          | 43          | 65          | 109         | 46          | 41          | 134         | 46          | 48          | 43          | 35          | 35          | 67          | 53          | 151         | 114         | 118         | 125         | 138         | 122         | 46          | 131         | 131         | 115         | 92          | 104         | 88          | 60          | 89          | 133         | 104         | 123         | 75          | 59          | 1           | 79          | 2           | 15          | 2           | 91          | 91          | 108         | 108         | 46          | 95          | 119         | 132         | 71          | 153         | 23          | 147         | 130         | 129         | 39          | 38          | 60          | 45          | 67          | 113         | 52          | 43          | 147         | 48          | 47          | 47          | 31          | 31          | 65          | 53          | 148         | 112         | 139         | 128         | 129         | 110         | 68          | 123         | 116         | 94          | 92          | 136         | 156         | 1           | 110         | 108         | 50          | 123         | 84          | 120         | 120         | 117         | 3           | 15          | 3           | 91          | 91          | 148         | 148         | 99          | 107         | 59          | 128         | 1           | 160         | 128         | 93          | 134\n",
       "51   | ARM  | Armenia              | Former Soviet States      | 48.3    | 40.7    | 32.1    | 56.7    | 12.4    | 28.1    | 20.9    | 33.5    | 53.2    | 43.1    | 57.3    | 50.7    | 61.7    | 50.2    | 50.2    | 37.5    | 49.5    | 13.5    | nan     | 58.1    | 73.3    | 100     | 100     | nan     | 15.8    | 92.4    | 50.3    | 43      | 59.7    | 58.2    | 28.7    | 100     | nan     | nan     | nan     | nan     | 39.2    | 27.3    | 51      | 45.5    | 33.3    | 57.6    | 4.5     | 4.5     | 41.4    | 41.4    | 29.2    | 40.1    | 58.6    | 0       | 30.6    | 47.5    | 100     | 40      | 59.4    | 43.5    | 35.5    | 24.5    | 43.4    | 5.6     | 28.7    | 29.7    | 36.3    | 56.1    | 50.3    | 55.8    | 52.9    | 57.7    | 43.7    | 43.7    | 36.8    | 49.5    | 11.5    | nan     | 51.8    | 73.1    | 100     | 100     | nan     | 14.5    | 98.5    | 48.7    | 43      | 38.5    | 40      | 38      | 29.9    | nan     | nan     | nan     | nan     | 27.5    | 35.3    | 19.7    | 42.5    | 33.3    | 51.6    | 4.5     | 4.5     | 38.4    | 38.4    | 19.5    | 31.4    | 0       | 0       | 100     | 49.7    | 71.8    | 84.2    | 69.6    | 4.8        | 5.2        | 7.6        | 13.3       | 6.8        | -0.6       | -8.8       | -2.8       | -2.9       | -7.2       | 1.5        | -2.2       | 4          | 6.5        | 6.5        | 0.7        | 0          | 2          | nan        | 6.3        | 0.2        | 0          | 0          | nan        | 1.3        | -6.1       | 1.6        | 0          | 21.2       | 18.2       | -9.3       | 70.1       | nan        | nan        | nan        | nan        | 11.7       | -8         | 31.3       | 3          | 0          | 6          | 0          | 0          | 3          | 3          | 9.7        | 8.7        | 58.6       | 0          | -69.4      | -2.2       | 28.2       | -44.2      | -10.2      | 56          | 89          | 102         | 66          | 149         | 157         | 117         | 130         | 92          | 65          | 60          | 92          | 39          | 85          | 85          | 79          | 75          | 115         | nan         | 30          | 49          | 1           | 1           | nan         | 134         | 41          | 86          | 94          | 25          | 19          | 141         | 1           | nan         | nan         | nan         | nan         | 155         | 166         | 131         | 49          | 71          | 30          | 96          | 96          | 82          | 82          | 111         | 96          | 88          | 178         | 168         | 60          | 1           | 124         | 73          | 65          | 89          | 129         | 72          | 162         | 159         | 86          | 107         | 69          | 52          | 54          | 75          | 43          | 84          | 84          | 78          | 75          | 121         | nan         | 39          | 27          | 1           | 1           | nan         | 110         | 27          | 65          | 94          | 48          | 15          | 128         | 123         | nan         | nan         | nan         | nan         | 157         | 149         | 160         | 59          | 71          | 41          | 96          | 96          | 97          | 97          | 129         | 105         | 77          | 169         | 1           | 47          | 24          | 23          | 60\n",
       "28   | ATG  | Antigua and Barbuda  | Latin America & Caribbean | 52.4    | 55.8    | 56.5    | 69.3    | 37.1    | 100     | 77.2    | 62.2    | 91.6    | 91.4    | 50.1    | 57.4    | 45.2    | 59.8    | 59.8    | 62.3    | 75.2    | 15.3    | 83.7    | 43.6    | 54.2    | 88.7    | 84.8    | 2.6     | 53.7    | nan     | 39.1    | 34      | 39.5    | 19.4    | 100     | 100     | 19.7    | 30.4    | 9       | nan     | 93.2    | 100     | 86.5    | 5.1     | nan     | 5.1     | 15.7    | 15.7    | 60.2    | 60.2    | 37.4    | 50.2    | 60.9    | 79      | 69      | 83.5    | 88.6    | 48      | 40      | 42.7    | 52.9    | 52.7    | 61.6    | 36.7    | 100     | 69.3    | 58.1    | 85.1    | 85.8    | 49      | 54.6    | 45.2    | 54.5    | 54.5    | 61.9    | 75.2    | 15.2    | 82.2    | 33.3    | 51.8    | 88.7    | 84.8    | 1.4     | 38.9    | nan     | 38.7    | 34      | 21.7    | 22.1    | 28.3    | 13.3    | 18.4    | 27.9    | 9       | nan     | 36.3    | 37.8    | 34.8    | 2.5     | nan     | 2.5     | 15.7    | 15.7    | 47.7    | 47.7    | 18.6    | 46.5    | 3.5     | 42.1    | 74.9    | 82.2    | 38.9    | 40      | 40.3    | 9.7        | 2.9        | 3.8        | 7.7        | 0.4        | 0          | 7.9        | 4.1        | 6.5        | 5.6        | 1.1        | 2.8        | 0          | 5.3        | 5.3        | 0.4        | 0          | 0.1        | 1.5        | 10.3       | 2.4        | 0          | 0          | 1.2        | 14.8       | nan        | 0.4        | 0          | 17.8       | -2.7       | 71.7       | 86.7       | 1.3        | 2.5        | 0          | nan        | 56.9       | 62.2       | 51.7       | 2.6        | nan        | 2.6        | 0          | 0          | 12.5       | 12.5       | 18.8       | 3.7        | 57.4       | 36.9       | -5.9       | 1.3        | 49.7       | 8          | -0.3       | 39          | 42          | 34          | 53          | 75          | 1           | 16          | 58          | 12          | 13          | 82          | 73          | 89          | 60          | 60          | 29          | 49          | 94          | 1           | 96          | 100         | 74          | 81          | 81          | 37          | nan         | 107         | 159         | 39          | 66          | 1           | 1           | 64          | 54          | 102         | nan         | 41          | 1           | 49          | 178         | nan         | 177         | 65          | 65          | 24          | 24          | 89          | 61          | 63          | 38          | 88          | 18          | 20          | 96          | 116         | 72          | 37          | 33          | 47          | 72          | 1           | 21          | 62          | 18          | 15          | 78          | 68          | 77          | 59          | 59          | 23          | 49          | 85          | 1           | 126         | 80          | 54          | 62          | 84          | 32          | nan         | 83          | 159         | 142         | 64          | 144         | 149         | 73          | 56          | 102         | nan         | 144         | 144         | 144         | 179         | nan         | 178         | 65          | 65          | 33          | 33          | 133         | 53          | 70          | 119         | 67          | 14          | 109         | 133         | 112\n",
       "36   | AUS  | Australia            | Global West               | 60.1    | 86.4    | 91.1    | 98.1    | 100     | 78.1    | 15.7    | 37.8    | 60.5    | 18.5    | 87.1    | 95.9    | 81.2    | 76.4    | 76.4    | 69      | 95      | 52.9    | 33.1    | 62.3    | 82.1    | 90.9    | 90.4    | 100     | 45.8    | 87.4    | 72.8    | 56.4    | 20.1    | 0       | 100     | 60.6    | 14.6    | 16      | 16      | 11.2    | 88.6    | 100     | 77.2    | 67.9    | 86.7    | 49.2    | 92.9    | 92.9    | 43.8    | 43.8    | 59.4    | 83.6    | 63.5    | 89.4    | 69.7    | 13.6    | 35.4    | 71.5    | 0.3     | 49.8    | 82.3    | 86.4    | 90.6    | 95.1    | 89.9    | 10.6    | 28.5    | 79.4    | 15.6    | 85.4    | 92.6    | 80.5    | 68.9    | 68.9    | 65.9    | 95      | 52.3    | 21.5    | 48.2    | 50.8    | 60.9    | 58.6    | 47      | 19.7    | 96.4    | 44.6    | 56.4    | 26.2    | 11.8    | 38.7    | 100     | 14      | 15.2    | 16      | 10      | 68.2    | 73.2    | 63.3    | 69      | 86.7    | 51.3    | 92.9    | 92.9    | 34.4    | 34.4    | 39.3    | 64      | 41.7    | 100     | 100     | 7.1     | 86.1    | 65.8    | 0       | 10.3       | 4.1        | 4.7        | 7.5        | 4.9        | -11.8      | 5.1        | 9.3        | -18.9      | 2.9        | 1.7        | 3.3        | 0.7        | 7.5        | 7.5        | 3.1        | 0          | 0.6        | 11.6       | 14.1       | 31.3       | 30         | 31.8       | 53         | 26.1       | -9         | 28.2       | 0          | -6.1       | -11.8      | 61.3       | -39.4      | 0.6        | 0.8        | 0          | 1.2        | 20.4       | 26.8       | 13.9       | -1.1       | 0          | -2.1       | 0          | 0          | 9.4        | 9.4        | 20.1       | 19.6       | 21.8       | -10.6      | -30.3      | 6.5        | -50.7      | 5.7        | 0.3        | 17          | 8           | 6           | 22          | 1           | 18          | 140         | 120         | 60          | 125         | 25          | 19          | 27          | 28          | 28          | 11          | 18          | 5           | 73          | 16          | 22          | 68          | 73          | 1           | 55          | 71          | 43          | 40          | 119         | 161         | 1           | 61          | 99          | 85          | 54          | 46          | 53          | 1           | 65          | 9           | 1           | 56          | 11          | 11          | 71          | 71          | 26          | 9           | 56          | 26          | 87          | 149         | 107         | 24          | 171         | 35          | 6           | 4           | 21          | 3           | 12          | 150         | 134         | 25          | 145         | 24          | 20          | 27          | 28          | 28          | 14          | 18          | 5           | 100         | 53          | 84          | 101         | 104         | 27          | 94          | 75          | 73          | 40          | 113         | 137         | 125         | 1           | 101         | 88          | 54          | 47          | 80          | 81          | 79          | 7           | 1           | 42          | 11          | 11          | 118         | 118         | 76          | 27          | 54          | 1           | 1           | 161         | 7           | 54          | 173\n",
       "40   | AUT  | Austria              | Global West               | 66.5    | 81.7    | 75      | 95.7    | 69.3    | 44.9    | 15.5    | 59.9    | 52.9    | 50.3    | 94.7    | 86.7    | 100     | 90.7    | 90.7    | 77.4    | 98.1    | 36      | nan     | 73.9    | 86      | 100     | 100     | nan     | 70.3    | 84.8    | 79.8    | 44      | 28      | 12.9    | 100     | 46.6    | nan     | nan     | nan     | nan     | 100     | 100     | 100     | 70.6    | 73.1    | 68      | 94      | 94      | 50.3    | 50.3    | 54.3    | 70.5    | 89.9    | 69.2    | 100     | 31.4    | 78.2    | 54.1    | 22.2    | 59.3    | 75.3    | 65.3    | 89.7    | 54.7    | 46      | 11.8    | 49.6    | 43.5    | 48.7    | 93.7    | 84.2    | 100     | 82.2    | 82.2    | 77.3    | 98.1    | 35.9    | nan     | 70.6    | 81.9    | 100     | 100     | nan     | 50.3    | 91.4    | 72.6    | 44      | 24.2    | 14.5    | 84.9    | 21.7    | nan     | nan     | nan     | nan     | 95      | 100     | 89.9    | 71      | 73.1    | 68.9    | 94      | 94      | 38.4    | 38.4    | 38.2    | 70.7    | 53.3    | 100     | 100     | 23.3    | 34.6    | 39.7    | 21      | 7.2        | 6.4        | 9.7        | 6          | 14.6       | -1.1       | 3.7        | 10.3       | 9.4        | 1.6        | 1          | 2.5        | 0          | 8.5        | 8.5        | 0.1        | 0          | 0.1        | nan        | 3.3        | 4.1        | 0          | 0          | nan        | 20         | -6.6       | 7.2        | 0          | 3.8        | -1.6       | 15.1       | 24.9       | nan        | nan        | nan        | nan        | 5          | 0          | 10.1       | -0.4       | 0          | -0.9       | 0          | 0          | 11.9       | 11.9       | 16.1       | -0.2       | 36.6       | -30.8      | 0          | 8.1        | 43.6       | 14.4       | 1.2        | 8           | 17          | 19          | 29          | 19          | 89          | 141         | 70          | 96          | 48          | 18          | 28          | 1           | 14          | 14          | 2           | 11          | 21          | nan         | 1           | 7           | 1           | 1           | nan         | 15          | 87          | 27          | 87          | 83          | 97          | 1           | 87          | nan         | nan         | nan         | nan         | 1           | 1           | 1           | 5           | 8           | 12          | 10          | 10          | 46          | 46          | 41          | 18          | 15          | 68          | 1           | 103         | 26          | 69          | 148         | 3           | 17          | 18          | 24          | 24          | 102         | 147         | 83          | 115         | 56          | 17          | 28          | 1           | 14          | 14          | 2           | 11          | 19          | nan         | 1           | 8           | 1           | 1           | nan         | 16          | 128         | 24          | 87          | 129         | 117         | 56          | 139         | nan         | nan         | nan         | nan         | 32          | 1           | 37          | 4           | 8           | 10          | 10          | 10          | 97          | 97          | 80          | 19          | 45          | 1           | 1           | 126         | 119         | 134         | 149\n",
       "31   | AZE  | Azerbaijan           | Former Soviet States      | 38.6    | 30.7    | 22.1    | 40.6    | 2       | 35.5    | 32.7    | 38.9    | 59.4    | 42.7    | 45.6    | 44.3    | 46.5    | 40.4    | 40.4    | 30.8    | 39      | 14.4    | nan     | 44.4    | 46.2    | 50.7    | 62.2    | nan     | 10.8    | 96      | 50.7    | 29.2    | 58.1    | 64.6    | 29      | 48.6    | nan     | nan     | nan     | nan     | 31.9    | 8.4     | 55.4    | 51.4    | 38.4    | 64.3    | 3.9     | 3.9     | 36.4    | 36.4    | 32.9    | 41.6    | 54.4    | 36.5    | 64.6    | 28.9    | 100     | 22.2    | 42.1    | 39.9    | 27      | 17.5    | 30.7    | 0       | 40.1    | 33.9    | 32.9    | 59.2    | 41.5    | 43.2    | 42      | 43.9    | 35.7    | 35.7    | 30.4    | 39      | 13.1    | nan     | 48.9    | 45.5    | 50.6    | 62.1    | nan     | 7.6     | 99.3    | 49.6    | 29.2    | 51.7    | 40.5    | 70.2    | 100     | nan     | nan     | nan     | nan     | 95.9    | 100     | 91.9    | 44.8    | 38.4    | 51.1    | 3.9     | 3.9     | 36.8    | 36.8    | 42      | 0       | 0       | 18.5    | 79.4    | 30.1    | 78.2    | 100     | 45.5    | -1.3       | 3.7        | 4.6        | 9.9        | 2          | -4.6       | -1.2       | 6          | 0.2        | 1.2        | 2.4        | 2.3        | 2.6        | 4.7        | 4.7        | 0.4        | 0          | 1.3        | nan        | -4.5       | 0.7        | 0.1        | 0.1        | nan        | 3.2        | -3.3       | 1.1        | 0          | 6.4        | 24.1       | -41.2      | -51.4      | nan        | nan        | nan        | nan        | -64        | -91.6      | -36.5      | 6.6        | 0          | 13.2       | 0          | 0          | -0.4       | -0.4       | -9.1       | 41.6       | 54.4       | 18         | -14.8      | -1.2       | 21.8       | -77.8      | -3.4       | 104         | 114         | 149         | 85          | 170         | 134         | 75          | 115         | 66          | 66          | 97          | 105         | 84          | 121         | 121         | 92          | 90          | 108         | nan         | 91          | 118         | 128         | 117         | nan         | 151         | 19          | 85          | 174         | 27          | 14          | 140         | 82          | nan         | nan         | nan         | nan         | 166         | 174         | 124         | 33          | 59          | 18          | 100         | 100         | 105         | 105         | 97          | 89          | 100         | 155         | 96          | 115         | 1           | 162         | 108         | 83          | 116         | 161         | 91          | 171         | 129         | 70          | 117         | 57          | 73          | 93          | 97          | 85          | 118         | 118         | 93          | 90          | 106         | nan         | 47          | 98          | 116         | 97          | nan         | 137         | 10          | 62          | 174         | 19          | 13          | 63          | 1           | nan         | nan         | nan         | nan         | 29          | 1           | 34          | 48          | 59          | 45          | 100         | 100         | 107         | 107         | 64          | 170         | 77          | 155         | 58          | 109         | 16          | 1           | 101\n",
       "... (170 rows omitted)"
      ]
     },
     "execution_count": 3,
     "metadata": {},
     "output_type": "execute_result"
    }
   ],
   "source": [
    "path = 'data/'\n",
    "data = path + 'epi2022results05302022.csv'\n",
    "epi = Table.read_table(data)\n",
    "epi"
   ]
  },
  {
   "cell_type": "code",
   "execution_count": 8,
   "id": "c2a40d4e-89e3-4051-9ef0-1aafbd8de1db",
   "metadata": {},
   "outputs": [
    {
     "data": {
      "text/html": [
       "<table border=\"1\" class=\"dataframe\">\n",
       "    <thead>\n",
       "        <tr>\n",
       "            <th>country</th> <th>EPI.new</th>\n",
       "        </tr>\n",
       "    </thead>\n",
       "    <tbody>\n",
       "        <tr>\n",
       "            <td>Denmark       </td> <td>77.9   </td>\n",
       "        </tr>\n",
       "        <tr>\n",
       "            <td>United Kingdom</td> <td>77.7   </td>\n",
       "        </tr>\n",
       "        <tr>\n",
       "            <td>Finland       </td> <td>76.5   </td>\n",
       "        </tr>\n",
       "        <tr>\n",
       "            <td>Malta         </td> <td>75.2   </td>\n",
       "        </tr>\n",
       "        <tr>\n",
       "            <td>Sweden        </td> <td>72.7   </td>\n",
       "        </tr>\n",
       "        <tr>\n",
       "            <td>Luxembourg    </td> <td>72.3   </td>\n",
       "        </tr>\n",
       "        <tr>\n",
       "            <td>Slovenia      </td> <td>67.3   </td>\n",
       "        </tr>\n",
       "        <tr>\n",
       "            <td>Austria       </td> <td>66.5   </td>\n",
       "        </tr>\n",
       "        <tr>\n",
       "            <td>Switzerland   </td> <td>65.9   </td>\n",
       "        </tr>\n",
       "        <tr>\n",
       "            <td>Iceland       </td> <td>62.8   </td>\n",
       "        </tr>\n",
       "    </tbody>\n",
       "</table>\n",
       "<p>... (170 rows omitted)</p>"
      ],
      "text/plain": [
       "country        | EPI.new\n",
       "Denmark        | 77.9\n",
       "United Kingdom | 77.7\n",
       "Finland        | 76.5\n",
       "Malta          | 75.2\n",
       "Sweden         | 72.7\n",
       "Luxembourg     | 72.3\n",
       "Slovenia       | 67.3\n",
       "Austria        | 66.5\n",
       "Switzerland    | 65.9\n",
       "Iceland        | 62.8\n",
       "... (170 rows omitted)"
      ]
     },
     "execution_count": 8,
     "metadata": {},
     "output_type": "execute_result"
    }
   ],
   "source": [
    "episcore = epi.select(\"country\",\"EPI.new\")\n",
    "episcore.sort(\"EPI.new\",descending=True)"
   ]
  },
  {
   "cell_type": "markdown",
   "id": "0a43a0ec-2cc9-478d-8f2d-e57f58bd62c4",
   "metadata": {},
   "source": [
    "### Google trend data example\n",
    "#### "
   ]
  },
  {
   "cell_type": "code",
   "execution_count": 2,
   "id": "03e7c69b-ee11-4780-acff-85cc2f824a3f",
   "metadata": {},
   "outputs": [
    {
     "name": "stdout",
     "output_type": "stream",
     "text": [
      "4 168\n"
     ]
    },
    {
     "data": {
      "text/html": [
       "<table border=\"1\" class=\"dataframe\">\n",
       "    <thead>\n",
       "        <tr>\n",
       "            <th>Time</th> <th>Philadelphia Eagles: (Worldwide)</th> <th>San Francisco 49ers: (Worldwide)</th> <th>Kansas City Chiefs: (Worldwide)</th>\n",
       "        </tr>\n",
       "    </thead>\n",
       "    <tbody>\n",
       "        <tr>\n",
       "            <td>2023-01-23T12</td> <td>2                               </td> <td>3                               </td> <td>1                              </td>\n",
       "        </tr>\n",
       "        <tr>\n",
       "            <td>2023-01-23T13</td> <td>2                               </td> <td>3                               </td> <td>1                              </td>\n",
       "        </tr>\n",
       "        <tr>\n",
       "            <td>2023-01-23T14</td> <td>2                               </td> <td>3                               </td> <td>1                              </td>\n",
       "        </tr>\n",
       "        <tr>\n",
       "            <td>2023-01-23T15</td> <td>2                               </td> <td>3                               </td> <td>1                              </td>\n",
       "        </tr>\n",
       "        <tr>\n",
       "            <td>2023-01-23T16</td> <td>2                               </td> <td>3                               </td> <td>1                              </td>\n",
       "        </tr>\n",
       "        <tr>\n",
       "            <td>2023-01-23T17</td> <td>2                               </td> <td>3                               </td> <td>1                              </td>\n",
       "        </tr>\n",
       "        <tr>\n",
       "            <td>2023-01-23T18</td> <td>2                               </td> <td>3                               </td> <td>1                              </td>\n",
       "        </tr>\n",
       "        <tr>\n",
       "            <td>2023-01-23T19</td> <td>2                               </td> <td>3                               </td> <td>1                              </td>\n",
       "        </tr>\n",
       "        <tr>\n",
       "            <td>2023-01-23T20</td> <td>2                               </td> <td>3                               </td> <td>1                              </td>\n",
       "        </tr>\n",
       "        <tr>\n",
       "            <td>2023-01-23T21</td> <td>2                               </td> <td>3                               </td> <td>1                              </td>\n",
       "        </tr>\n",
       "    </tbody>\n",
       "</table>\n",
       "<p>... (158 rows omitted)</p>"
      ],
      "text/plain": [
       "Time          | Philadelphia Eagles: (Worldwide) | San Francisco 49ers: (Worldwide) | Kansas City Chiefs: (Worldwide)\n",
       "2023-01-23T12 | 2                                | 3                                | 1\n",
       "2023-01-23T13 | 2                                | 3                                | 1\n",
       "2023-01-23T14 | 2                                | 3                                | 1\n",
       "2023-01-23T15 | 2                                | 3                                | 1\n",
       "2023-01-23T16 | 2                                | 3                                | 1\n",
       "2023-01-23T17 | 2                                | 3                                | 1\n",
       "2023-01-23T18 | 2                                | 3                                | 1\n",
       "2023-01-23T19 | 2                                | 3                                | 1\n",
       "2023-01-23T20 | 2                                | 3                                | 1\n",
       "2023-01-23T21 | 2                                | 3                                | 1\n",
       "... (158 rows omitted)"
      ]
     },
     "execution_count": 2,
     "metadata": {},
     "output_type": "execute_result"
    }
   ],
   "source": [
    "from datascience import *\n",
    "path = 'data/'\n",
    "data = path + 'Gtrend_NFC_012923.csv'\n",
    "Gtrend = Table.read_table(data)\n",
    "print(Gtrend.num_columns, Gtrend.num_rows)\n",
    "Gtrend"
   ]
  },
  {
   "cell_type": "code",
   "execution_count": 24,
   "id": "1ad1e23e-541d-4e32-9778-9db845025344",
   "metadata": {},
   "outputs": [],
   "source": [
    "Gtrend=Gtrend.set_format(0, DateFormatter(format='%Y-%m-%dT%H',)) # Need to handle dates/time"
   ]
  },
  {
   "cell_type": "code",
   "execution_count": 25,
   "id": "ca9f79b3-6a98-4b95-b83a-ccf29095eddc",
   "metadata": {},
   "outputs": [
    {
     "data": {
      "application/vnd.plotly.v1+json": {
       "config": {
        "plotlyServerURL": "https://plot.ly"
       },
       "data": [
        {
         "hovertemplate": "variable=wide_variable_0<br>x=%{x}<br>value=%{y}<extra></extra>",
         "legendgroup": "wide_variable_0",
         "line": {
          "color": "#636efa",
          "dash": "solid"
         },
         "marker": {
          "symbol": "circle"
         },
         "mode": "lines",
         "name": "wide_variable_0",
         "orientation": "v",
         "showlegend": true,
         "type": "scatter",
         "x": [
          "2023-01-23T12:00:00",
          "2023-01-23T13:00:00",
          "2023-01-23T14:00:00",
          "2023-01-23T15:00:00",
          "2023-01-23T16:00:00",
          "2023-01-23T17:00:00",
          "2023-01-23T18:00:00",
          "2023-01-23T19:00:00",
          "2023-01-23T20:00:00",
          "2023-01-23T21:00:00",
          "2023-01-23T22:00:00",
          "2023-01-23T23:00:00",
          "2023-01-24T00:00:00",
          "2023-01-24T01:00:00",
          "2023-01-24T02:00:00",
          "2023-01-24T03:00:00",
          "2023-01-24T04:00:00",
          "2023-01-24T05:00:00",
          "2023-01-24T06:00:00",
          "2023-01-24T07:00:00",
          "2023-01-24T08:00:00",
          "2023-01-24T09:00:00",
          "2023-01-24T10:00:00",
          "2023-01-24T11:00:00",
          "2023-01-24T12:00:00",
          "2023-01-24T13:00:00",
          "2023-01-24T14:00:00",
          "2023-01-24T15:00:00",
          "2023-01-24T16:00:00",
          "2023-01-24T17:00:00",
          "2023-01-24T18:00:00",
          "2023-01-24T19:00:00",
          "2023-01-24T20:00:00",
          "2023-01-24T21:00:00",
          "2023-01-24T22:00:00",
          "2023-01-24T23:00:00",
          "2023-01-25T00:00:00",
          "2023-01-25T01:00:00",
          "2023-01-25T02:00:00",
          "2023-01-25T03:00:00",
          "2023-01-25T04:00:00",
          "2023-01-25T05:00:00",
          "2023-01-25T06:00:00",
          "2023-01-25T07:00:00",
          "2023-01-25T08:00:00",
          "2023-01-25T09:00:00",
          "2023-01-25T10:00:00",
          "2023-01-25T11:00:00",
          "2023-01-25T12:00:00",
          "2023-01-25T13:00:00",
          "2023-01-25T14:00:00",
          "2023-01-25T15:00:00",
          "2023-01-25T16:00:00",
          "2023-01-25T17:00:00",
          "2023-01-25T18:00:00",
          "2023-01-25T19:00:00",
          "2023-01-25T20:00:00",
          "2023-01-25T21:00:00",
          "2023-01-25T22:00:00",
          "2023-01-25T23:00:00",
          "2023-01-26T00:00:00",
          "2023-01-26T01:00:00",
          "2023-01-26T02:00:00",
          "2023-01-26T03:00:00",
          "2023-01-26T04:00:00",
          "2023-01-26T05:00:00",
          "2023-01-26T06:00:00",
          "2023-01-26T07:00:00",
          "2023-01-26T08:00:00",
          "2023-01-26T09:00:00",
          "2023-01-26T10:00:00",
          "2023-01-26T11:00:00",
          "2023-01-26T12:00:00",
          "2023-01-26T13:00:00",
          "2023-01-26T14:00:00",
          "2023-01-26T15:00:00",
          "2023-01-26T16:00:00",
          "2023-01-26T17:00:00",
          "2023-01-26T18:00:00",
          "2023-01-26T19:00:00",
          "2023-01-26T20:00:00",
          "2023-01-26T21:00:00",
          "2023-01-26T22:00:00",
          "2023-01-26T23:00:00",
          "2023-01-27T00:00:00",
          "2023-01-27T01:00:00",
          "2023-01-27T02:00:00",
          "2023-01-27T03:00:00",
          "2023-01-27T04:00:00",
          "2023-01-27T05:00:00",
          "2023-01-27T06:00:00",
          "2023-01-27T07:00:00",
          "2023-01-27T08:00:00",
          "2023-01-27T09:00:00",
          "2023-01-27T10:00:00",
          "2023-01-27T11:00:00",
          "2023-01-27T12:00:00",
          "2023-01-27T13:00:00",
          "2023-01-27T14:00:00",
          "2023-01-27T15:00:00",
          "2023-01-27T16:00:00",
          "2023-01-27T17:00:00",
          "2023-01-27T18:00:00",
          "2023-01-27T19:00:00",
          "2023-01-27T20:00:00",
          "2023-01-27T21:00:00",
          "2023-01-27T22:00:00",
          "2023-01-27T23:00:00",
          "2023-01-28T00:00:00",
          "2023-01-28T01:00:00",
          "2023-01-28T02:00:00",
          "2023-01-28T03:00:00",
          "2023-01-28T04:00:00",
          "2023-01-28T05:00:00",
          "2023-01-28T06:00:00",
          "2023-01-28T07:00:00",
          "2023-01-28T08:00:00",
          "2023-01-28T09:00:00",
          "2023-01-28T10:00:00",
          "2023-01-28T11:00:00",
          "2023-01-28T12:00:00",
          "2023-01-28T13:00:00",
          "2023-01-28T14:00:00",
          "2023-01-28T15:00:00",
          "2023-01-28T16:00:00",
          "2023-01-28T17:00:00",
          "2023-01-28T18:00:00",
          "2023-01-28T19:00:00",
          "2023-01-28T20:00:00",
          "2023-01-28T21:00:00",
          "2023-01-28T22:00:00",
          "2023-01-28T23:00:00",
          "2023-01-29T00:00:00",
          "2023-01-29T01:00:00",
          "2023-01-29T02:00:00",
          "2023-01-29T03:00:00",
          "2023-01-29T04:00:00",
          "2023-01-29T05:00:00",
          "2023-01-29T06:00:00",
          "2023-01-29T07:00:00",
          "2023-01-29T08:00:00",
          "2023-01-29T09:00:00",
          "2023-01-29T10:00:00",
          "2023-01-29T11:00:00",
          "2023-01-29T12:00:00",
          "2023-01-29T13:00:00",
          "2023-01-29T14:00:00",
          "2023-01-29T15:00:00",
          "2023-01-29T16:00:00",
          "2023-01-29T17:00:00",
          "2023-01-29T18:00:00",
          "2023-01-29T19:00:00",
          "2023-01-29T20:00:00",
          "2023-01-29T21:00:00",
          "2023-01-29T22:00:00",
          "2023-01-29T23:00:00",
          "2023-01-30T00:00:00",
          "2023-01-30T01:00:00",
          "2023-01-30T02:00:00",
          "2023-01-30T03:00:00",
          "2023-01-30T04:00:00",
          "2023-01-30T05:00:00",
          "2023-01-30T06:00:00",
          "2023-01-30T07:00:00",
          "2023-01-30T08:00:00",
          "2023-01-30T09:00:00",
          "2023-01-30T10:00:00",
          "2023-01-30T11:00:00"
         ],
         "xaxis": "x",
         "y": [
          2,
          2,
          2,
          2,
          2,
          2,
          2,
          2,
          2,
          2,
          1,
          1,
          1,
          0,
          0,
          0,
          0,
          0,
          0,
          1,
          1,
          1,
          1,
          1,
          1,
          1,
          1,
          1,
          1,
          1,
          2,
          2,
          1,
          1,
          1,
          1,
          1,
          0,
          0,
          0,
          0,
          0,
          0,
          0,
          1,
          1,
          1,
          1,
          1,
          1,
          1,
          1,
          1,
          1,
          2,
          2,
          1,
          1,
          1,
          1,
          1,
          0,
          0,
          0,
          0,
          0,
          0,
          0,
          1,
          1,
          1,
          1,
          1,
          1,
          1,
          1,
          1,
          1,
          2,
          2,
          2,
          1,
          1,
          1,
          1,
          0,
          0,
          0,
          0,
          0,
          0,
          1,
          1,
          1,
          1,
          1,
          1,
          1,
          1,
          1,
          2,
          2,
          2,
          2,
          2,
          2,
          2,
          1,
          1,
          1,
          0,
          0,
          0,
          0,
          0,
          1,
          1,
          1,
          2,
          2,
          2,
          2,
          2,
          3,
          3,
          3,
          4,
          4,
          3,
          3,
          3,
          2,
          2,
          1,
          1,
          1,
          0,
          0,
          1,
          1,
          2,
          3,
          4,
          6,
          8,
          11,
          21,
          54,
          60,
          83,
          97,
          34,
          19,
          16,
          23,
          8,
          5,
          3,
          2,
          1,
          1,
          1,
          2,
          3,
          3,
          4,
          3,
          3
         ],
         "yaxis": "y"
        },
        {
         "hovertemplate": "variable=wide_variable_1<br>x=%{x}<br>value=%{y}<extra></extra>",
         "legendgroup": "wide_variable_1",
         "line": {
          "color": "#EF553B",
          "dash": "solid"
         },
         "marker": {
          "symbol": "circle"
         },
         "mode": "lines",
         "name": "wide_variable_1",
         "orientation": "v",
         "showlegend": true,
         "type": "scatter",
         "x": [
          "2023-01-23T12:00:00",
          "2023-01-23T13:00:00",
          "2023-01-23T14:00:00",
          "2023-01-23T15:00:00",
          "2023-01-23T16:00:00",
          "2023-01-23T17:00:00",
          "2023-01-23T18:00:00",
          "2023-01-23T19:00:00",
          "2023-01-23T20:00:00",
          "2023-01-23T21:00:00",
          "2023-01-23T22:00:00",
          "2023-01-23T23:00:00",
          "2023-01-24T00:00:00",
          "2023-01-24T01:00:00",
          "2023-01-24T02:00:00",
          "2023-01-24T03:00:00",
          "2023-01-24T04:00:00",
          "2023-01-24T05:00:00",
          "2023-01-24T06:00:00",
          "2023-01-24T07:00:00",
          "2023-01-24T08:00:00",
          "2023-01-24T09:00:00",
          "2023-01-24T10:00:00",
          "2023-01-24T11:00:00",
          "2023-01-24T12:00:00",
          "2023-01-24T13:00:00",
          "2023-01-24T14:00:00",
          "2023-01-24T15:00:00",
          "2023-01-24T16:00:00",
          "2023-01-24T17:00:00",
          "2023-01-24T18:00:00",
          "2023-01-24T19:00:00",
          "2023-01-24T20:00:00",
          "2023-01-24T21:00:00",
          "2023-01-24T22:00:00",
          "2023-01-24T23:00:00",
          "2023-01-25T00:00:00",
          "2023-01-25T01:00:00",
          "2023-01-25T02:00:00",
          "2023-01-25T03:00:00",
          "2023-01-25T04:00:00",
          "2023-01-25T05:00:00",
          "2023-01-25T06:00:00",
          "2023-01-25T07:00:00",
          "2023-01-25T08:00:00",
          "2023-01-25T09:00:00",
          "2023-01-25T10:00:00",
          "2023-01-25T11:00:00",
          "2023-01-25T12:00:00",
          "2023-01-25T13:00:00",
          "2023-01-25T14:00:00",
          "2023-01-25T15:00:00",
          "2023-01-25T16:00:00",
          "2023-01-25T17:00:00",
          "2023-01-25T18:00:00",
          "2023-01-25T19:00:00",
          "2023-01-25T20:00:00",
          "2023-01-25T21:00:00",
          "2023-01-25T22:00:00",
          "2023-01-25T23:00:00",
          "2023-01-26T00:00:00",
          "2023-01-26T01:00:00",
          "2023-01-26T02:00:00",
          "2023-01-26T03:00:00",
          "2023-01-26T04:00:00",
          "2023-01-26T05:00:00",
          "2023-01-26T06:00:00",
          "2023-01-26T07:00:00",
          "2023-01-26T08:00:00",
          "2023-01-26T09:00:00",
          "2023-01-26T10:00:00",
          "2023-01-26T11:00:00",
          "2023-01-26T12:00:00",
          "2023-01-26T13:00:00",
          "2023-01-26T14:00:00",
          "2023-01-26T15:00:00",
          "2023-01-26T16:00:00",
          "2023-01-26T17:00:00",
          "2023-01-26T18:00:00",
          "2023-01-26T19:00:00",
          "2023-01-26T20:00:00",
          "2023-01-26T21:00:00",
          "2023-01-26T22:00:00",
          "2023-01-26T23:00:00",
          "2023-01-27T00:00:00",
          "2023-01-27T01:00:00",
          "2023-01-27T02:00:00",
          "2023-01-27T03:00:00",
          "2023-01-27T04:00:00",
          "2023-01-27T05:00:00",
          "2023-01-27T06:00:00",
          "2023-01-27T07:00:00",
          "2023-01-27T08:00:00",
          "2023-01-27T09:00:00",
          "2023-01-27T10:00:00",
          "2023-01-27T11:00:00",
          "2023-01-27T12:00:00",
          "2023-01-27T13:00:00",
          "2023-01-27T14:00:00",
          "2023-01-27T15:00:00",
          "2023-01-27T16:00:00",
          "2023-01-27T17:00:00",
          "2023-01-27T18:00:00",
          "2023-01-27T19:00:00",
          "2023-01-27T20:00:00",
          "2023-01-27T21:00:00",
          "2023-01-27T22:00:00",
          "2023-01-27T23:00:00",
          "2023-01-28T00:00:00",
          "2023-01-28T01:00:00",
          "2023-01-28T02:00:00",
          "2023-01-28T03:00:00",
          "2023-01-28T04:00:00",
          "2023-01-28T05:00:00",
          "2023-01-28T06:00:00",
          "2023-01-28T07:00:00",
          "2023-01-28T08:00:00",
          "2023-01-28T09:00:00",
          "2023-01-28T10:00:00",
          "2023-01-28T11:00:00",
          "2023-01-28T12:00:00",
          "2023-01-28T13:00:00",
          "2023-01-28T14:00:00",
          "2023-01-28T15:00:00",
          "2023-01-28T16:00:00",
          "2023-01-28T17:00:00",
          "2023-01-28T18:00:00",
          "2023-01-28T19:00:00",
          "2023-01-28T20:00:00",
          "2023-01-28T21:00:00",
          "2023-01-28T22:00:00",
          "2023-01-28T23:00:00",
          "2023-01-29T00:00:00",
          "2023-01-29T01:00:00",
          "2023-01-29T02:00:00",
          "2023-01-29T03:00:00",
          "2023-01-29T04:00:00",
          "2023-01-29T05:00:00",
          "2023-01-29T06:00:00",
          "2023-01-29T07:00:00",
          "2023-01-29T08:00:00",
          "2023-01-29T09:00:00",
          "2023-01-29T10:00:00",
          "2023-01-29T11:00:00",
          "2023-01-29T12:00:00",
          "2023-01-29T13:00:00",
          "2023-01-29T14:00:00",
          "2023-01-29T15:00:00",
          "2023-01-29T16:00:00",
          "2023-01-29T17:00:00",
          "2023-01-29T18:00:00",
          "2023-01-29T19:00:00",
          "2023-01-29T20:00:00",
          "2023-01-29T21:00:00",
          "2023-01-29T22:00:00",
          "2023-01-29T23:00:00",
          "2023-01-30T00:00:00",
          "2023-01-30T01:00:00",
          "2023-01-30T02:00:00",
          "2023-01-30T03:00:00",
          "2023-01-30T04:00:00",
          "2023-01-30T05:00:00",
          "2023-01-30T06:00:00",
          "2023-01-30T07:00:00",
          "2023-01-30T08:00:00",
          "2023-01-30T09:00:00",
          "2023-01-30T10:00:00",
          "2023-01-30T11:00:00"
         ],
         "xaxis": "x",
         "y": [
          3,
          3,
          3,
          3,
          3,
          3,
          3,
          3,
          3,
          3,
          2,
          2,
          1,
          1,
          1,
          0,
          0,
          0,
          0,
          0,
          1,
          1,
          1,
          1,
          1,
          1,
          1,
          1,
          1,
          2,
          2,
          2,
          2,
          2,
          2,
          1,
          1,
          1,
          0,
          0,
          0,
          0,
          0,
          0,
          0,
          1,
          1,
          1,
          1,
          1,
          1,
          1,
          1,
          1,
          2,
          2,
          2,
          2,
          1,
          1,
          1,
          1,
          0,
          0,
          0,
          0,
          0,
          0,
          0,
          1,
          1,
          1,
          1,
          1,
          1,
          1,
          1,
          1,
          2,
          2,
          2,
          2,
          1,
          1,
          1,
          1,
          0,
          0,
          0,
          0,
          0,
          0,
          1,
          1,
          1,
          1,
          1,
          1,
          1,
          1,
          2,
          2,
          2,
          2,
          2,
          2,
          2,
          2,
          1,
          1,
          1,
          0,
          0,
          0,
          0,
          0,
          1,
          1,
          1,
          2,
          2,
          2,
          2,
          3,
          3,
          3,
          4,
          4,
          4,
          4,
          4,
          3,
          3,
          2,
          1,
          1,
          1,
          0,
          1,
          1,
          1,
          2,
          3,
          5,
          8,
          11,
          20,
          54,
          68,
          86,
          76,
          31,
          15,
          12,
          10,
          5,
          4,
          2,
          1,
          1,
          1,
          1,
          1,
          1,
          2,
          1,
          2,
          2
         ],
         "yaxis": "y"
        },
        {
         "hovertemplate": "variable=wide_variable_2<br>x=%{x}<br>value=%{y}<extra></extra>",
         "legendgroup": "wide_variable_2",
         "line": {
          "color": "#00cc96",
          "dash": "solid"
         },
         "marker": {
          "symbol": "circle"
         },
         "mode": "lines",
         "name": "wide_variable_2",
         "orientation": "v",
         "showlegend": true,
         "type": "scatter",
         "x": [
          "2023-01-23T12:00:00",
          "2023-01-23T13:00:00",
          "2023-01-23T14:00:00",
          "2023-01-23T15:00:00",
          "2023-01-23T16:00:00",
          "2023-01-23T17:00:00",
          "2023-01-23T18:00:00",
          "2023-01-23T19:00:00",
          "2023-01-23T20:00:00",
          "2023-01-23T21:00:00",
          "2023-01-23T22:00:00",
          "2023-01-23T23:00:00",
          "2023-01-24T00:00:00",
          "2023-01-24T01:00:00",
          "2023-01-24T02:00:00",
          "2023-01-24T03:00:00",
          "2023-01-24T04:00:00",
          "2023-01-24T05:00:00",
          "2023-01-24T06:00:00",
          "2023-01-24T07:00:00",
          "2023-01-24T08:00:00",
          "2023-01-24T09:00:00",
          "2023-01-24T10:00:00",
          "2023-01-24T11:00:00",
          "2023-01-24T12:00:00",
          "2023-01-24T13:00:00",
          "2023-01-24T14:00:00",
          "2023-01-24T15:00:00",
          "2023-01-24T16:00:00",
          "2023-01-24T17:00:00",
          "2023-01-24T18:00:00",
          "2023-01-24T19:00:00",
          "2023-01-24T20:00:00",
          "2023-01-24T21:00:00",
          "2023-01-24T22:00:00",
          "2023-01-24T23:00:00",
          "2023-01-25T00:00:00",
          "2023-01-25T01:00:00",
          "2023-01-25T02:00:00",
          "2023-01-25T03:00:00",
          "2023-01-25T04:00:00",
          "2023-01-25T05:00:00",
          "2023-01-25T06:00:00",
          "2023-01-25T07:00:00",
          "2023-01-25T08:00:00",
          "2023-01-25T09:00:00",
          "2023-01-25T10:00:00",
          "2023-01-25T11:00:00",
          "2023-01-25T12:00:00",
          "2023-01-25T13:00:00",
          "2023-01-25T14:00:00",
          "2023-01-25T15:00:00",
          "2023-01-25T16:00:00",
          "2023-01-25T17:00:00",
          "2023-01-25T18:00:00",
          "2023-01-25T19:00:00",
          "2023-01-25T20:00:00",
          "2023-01-25T21:00:00",
          "2023-01-25T22:00:00",
          "2023-01-25T23:00:00",
          "2023-01-26T00:00:00",
          "2023-01-26T01:00:00",
          "2023-01-26T02:00:00",
          "2023-01-26T03:00:00",
          "2023-01-26T04:00:00",
          "2023-01-26T05:00:00",
          "2023-01-26T06:00:00",
          "2023-01-26T07:00:00",
          "2023-01-26T08:00:00",
          "2023-01-26T09:00:00",
          "2023-01-26T10:00:00",
          "2023-01-26T11:00:00",
          "2023-01-26T12:00:00",
          "2023-01-26T13:00:00",
          "2023-01-26T14:00:00",
          "2023-01-26T15:00:00",
          "2023-01-26T16:00:00",
          "2023-01-26T17:00:00",
          "2023-01-26T18:00:00",
          "2023-01-26T19:00:00",
          "2023-01-26T20:00:00",
          "2023-01-26T21:00:00",
          "2023-01-26T22:00:00",
          "2023-01-26T23:00:00",
          "2023-01-27T00:00:00",
          "2023-01-27T01:00:00",
          "2023-01-27T02:00:00",
          "2023-01-27T03:00:00",
          "2023-01-27T04:00:00",
          "2023-01-27T05:00:00",
          "2023-01-27T06:00:00",
          "2023-01-27T07:00:00",
          "2023-01-27T08:00:00",
          "2023-01-27T09:00:00",
          "2023-01-27T10:00:00",
          "2023-01-27T11:00:00",
          "2023-01-27T12:00:00",
          "2023-01-27T13:00:00",
          "2023-01-27T14:00:00",
          "2023-01-27T15:00:00",
          "2023-01-27T16:00:00",
          "2023-01-27T17:00:00",
          "2023-01-27T18:00:00",
          "2023-01-27T19:00:00",
          "2023-01-27T20:00:00",
          "2023-01-27T21:00:00",
          "2023-01-27T22:00:00",
          "2023-01-27T23:00:00",
          "2023-01-28T00:00:00",
          "2023-01-28T01:00:00",
          "2023-01-28T02:00:00",
          "2023-01-28T03:00:00",
          "2023-01-28T04:00:00",
          "2023-01-28T05:00:00",
          "2023-01-28T06:00:00",
          "2023-01-28T07:00:00",
          "2023-01-28T08:00:00",
          "2023-01-28T09:00:00",
          "2023-01-28T10:00:00",
          "2023-01-28T11:00:00",
          "2023-01-28T12:00:00",
          "2023-01-28T13:00:00",
          "2023-01-28T14:00:00",
          "2023-01-28T15:00:00",
          "2023-01-28T16:00:00",
          "2023-01-28T17:00:00",
          "2023-01-28T18:00:00",
          "2023-01-28T19:00:00",
          "2023-01-28T20:00:00",
          "2023-01-28T21:00:00",
          "2023-01-28T22:00:00",
          "2023-01-28T23:00:00",
          "2023-01-29T00:00:00",
          "2023-01-29T01:00:00",
          "2023-01-29T02:00:00",
          "2023-01-29T03:00:00",
          "2023-01-29T04:00:00",
          "2023-01-29T05:00:00",
          "2023-01-29T06:00:00",
          "2023-01-29T07:00:00",
          "2023-01-29T08:00:00",
          "2023-01-29T09:00:00",
          "2023-01-29T10:00:00",
          "2023-01-29T11:00:00",
          "2023-01-29T12:00:00",
          "2023-01-29T13:00:00",
          "2023-01-29T14:00:00",
          "2023-01-29T15:00:00",
          "2023-01-29T16:00:00",
          "2023-01-29T17:00:00",
          "2023-01-29T18:00:00",
          "2023-01-29T19:00:00",
          "2023-01-29T20:00:00",
          "2023-01-29T21:00:00",
          "2023-01-29T22:00:00",
          "2023-01-29T23:00:00",
          "2023-01-30T00:00:00",
          "2023-01-30T01:00:00",
          "2023-01-30T02:00:00",
          "2023-01-30T03:00:00",
          "2023-01-30T04:00:00",
          "2023-01-30T05:00:00",
          "2023-01-30T06:00:00",
          "2023-01-30T07:00:00",
          "2023-01-30T08:00:00",
          "2023-01-30T09:00:00",
          "2023-01-30T10:00:00",
          "2023-01-30T11:00:00"
         ],
         "xaxis": "x",
         "y": [
          1,
          1,
          1,
          1,
          1,
          1,
          1,
          1,
          1,
          1,
          1,
          1,
          1,
          0,
          0,
          0,
          0,
          0,
          0,
          0,
          1,
          1,
          1,
          1,
          1,
          1,
          1,
          1,
          1,
          1,
          1,
          1,
          1,
          1,
          1,
          1,
          0,
          0,
          0,
          0,
          0,
          0,
          0,
          0,
          0,
          0,
          1,
          1,
          1,
          1,
          1,
          1,
          1,
          1,
          1,
          1,
          1,
          1,
          1,
          1,
          0,
          0,
          0,
          0,
          0,
          0,
          0,
          0,
          0,
          1,
          1,
          1,
          1,
          1,
          1,
          1,
          1,
          1,
          1,
          1,
          1,
          1,
          1,
          1,
          1,
          0,
          0,
          0,
          0,
          0,
          0,
          0,
          1,
          1,
          1,
          1,
          1,
          1,
          1,
          1,
          1,
          2,
          2,
          2,
          2,
          2,
          1,
          1,
          1,
          1,
          0,
          0,
          0,
          0,
          0,
          0,
          1,
          1,
          1,
          2,
          2,
          2,
          2,
          3,
          3,
          4,
          4,
          3,
          3,
          3,
          3,
          2,
          2,
          1,
          1,
          0,
          0,
          0,
          0,
          1,
          2,
          2,
          3,
          4,
          5,
          6,
          7,
          9,
          12,
          20,
          76,
          72,
          77,
          100,
          96,
          20,
          10,
          5,
          3,
          3,
          3,
          4,
          5,
          5,
          5,
          5,
          4,
          4
         ],
         "yaxis": "y"
        }
       ],
       "layout": {
        "autosize": true,
        "legend": {
         "title": {
          "text": "variable"
         },
         "tracegroupgap": 0
        },
        "margin": {
         "t": 60
        },
        "template": {
         "data": {
          "bar": [
           {
            "error_x": {
             "color": "#2a3f5f"
            },
            "error_y": {
             "color": "#2a3f5f"
            },
            "marker": {
             "line": {
              "color": "#E5ECF6",
              "width": 0.5
             },
             "pattern": {
              "fillmode": "overlay",
              "size": 10,
              "solidity": 0.2
             }
            },
            "type": "bar"
           }
          ],
          "barpolar": [
           {
            "marker": {
             "line": {
              "color": "#E5ECF6",
              "width": 0.5
             },
             "pattern": {
              "fillmode": "overlay",
              "size": 10,
              "solidity": 0.2
             }
            },
            "type": "barpolar"
           }
          ],
          "carpet": [
           {
            "aaxis": {
             "endlinecolor": "#2a3f5f",
             "gridcolor": "white",
             "linecolor": "white",
             "minorgridcolor": "white",
             "startlinecolor": "#2a3f5f"
            },
            "baxis": {
             "endlinecolor": "#2a3f5f",
             "gridcolor": "white",
             "linecolor": "white",
             "minorgridcolor": "white",
             "startlinecolor": "#2a3f5f"
            },
            "type": "carpet"
           }
          ],
          "choropleth": [
           {
            "colorbar": {
             "outlinewidth": 0,
             "ticks": ""
            },
            "type": "choropleth"
           }
          ],
          "contour": [
           {
            "colorbar": {
             "outlinewidth": 0,
             "ticks": ""
            },
            "colorscale": [
             [
              0,
              "#0d0887"
             ],
             [
              0.1111111111111111,
              "#46039f"
             ],
             [
              0.2222222222222222,
              "#7201a8"
             ],
             [
              0.3333333333333333,
              "#9c179e"
             ],
             [
              0.4444444444444444,
              "#bd3786"
             ],
             [
              0.5555555555555556,
              "#d8576b"
             ],
             [
              0.6666666666666666,
              "#ed7953"
             ],
             [
              0.7777777777777778,
              "#fb9f3a"
             ],
             [
              0.8888888888888888,
              "#fdca26"
             ],
             [
              1,
              "#f0f921"
             ]
            ],
            "type": "contour"
           }
          ],
          "contourcarpet": [
           {
            "colorbar": {
             "outlinewidth": 0,
             "ticks": ""
            },
            "type": "contourcarpet"
           }
          ],
          "heatmap": [
           {
            "colorbar": {
             "outlinewidth": 0,
             "ticks": ""
            },
            "colorscale": [
             [
              0,
              "#0d0887"
             ],
             [
              0.1111111111111111,
              "#46039f"
             ],
             [
              0.2222222222222222,
              "#7201a8"
             ],
             [
              0.3333333333333333,
              "#9c179e"
             ],
             [
              0.4444444444444444,
              "#bd3786"
             ],
             [
              0.5555555555555556,
              "#d8576b"
             ],
             [
              0.6666666666666666,
              "#ed7953"
             ],
             [
              0.7777777777777778,
              "#fb9f3a"
             ],
             [
              0.8888888888888888,
              "#fdca26"
             ],
             [
              1,
              "#f0f921"
             ]
            ],
            "type": "heatmap"
           }
          ],
          "heatmapgl": [
           {
            "colorbar": {
             "outlinewidth": 0,
             "ticks": ""
            },
            "colorscale": [
             [
              0,
              "#0d0887"
             ],
             [
              0.1111111111111111,
              "#46039f"
             ],
             [
              0.2222222222222222,
              "#7201a8"
             ],
             [
              0.3333333333333333,
              "#9c179e"
             ],
             [
              0.4444444444444444,
              "#bd3786"
             ],
             [
              0.5555555555555556,
              "#d8576b"
             ],
             [
              0.6666666666666666,
              "#ed7953"
             ],
             [
              0.7777777777777778,
              "#fb9f3a"
             ],
             [
              0.8888888888888888,
              "#fdca26"
             ],
             [
              1,
              "#f0f921"
             ]
            ],
            "type": "heatmapgl"
           }
          ],
          "histogram": [
           {
            "marker": {
             "pattern": {
              "fillmode": "overlay",
              "size": 10,
              "solidity": 0.2
             }
            },
            "type": "histogram"
           }
          ],
          "histogram2d": [
           {
            "colorbar": {
             "outlinewidth": 0,
             "ticks": ""
            },
            "colorscale": [
             [
              0,
              "#0d0887"
             ],
             [
              0.1111111111111111,
              "#46039f"
             ],
             [
              0.2222222222222222,
              "#7201a8"
             ],
             [
              0.3333333333333333,
              "#9c179e"
             ],
             [
              0.4444444444444444,
              "#bd3786"
             ],
             [
              0.5555555555555556,
              "#d8576b"
             ],
             [
              0.6666666666666666,
              "#ed7953"
             ],
             [
              0.7777777777777778,
              "#fb9f3a"
             ],
             [
              0.8888888888888888,
              "#fdca26"
             ],
             [
              1,
              "#f0f921"
             ]
            ],
            "type": "histogram2d"
           }
          ],
          "histogram2dcontour": [
           {
            "colorbar": {
             "outlinewidth": 0,
             "ticks": ""
            },
            "colorscale": [
             [
              0,
              "#0d0887"
             ],
             [
              0.1111111111111111,
              "#46039f"
             ],
             [
              0.2222222222222222,
              "#7201a8"
             ],
             [
              0.3333333333333333,
              "#9c179e"
             ],
             [
              0.4444444444444444,
              "#bd3786"
             ],
             [
              0.5555555555555556,
              "#d8576b"
             ],
             [
              0.6666666666666666,
              "#ed7953"
             ],
             [
              0.7777777777777778,
              "#fb9f3a"
             ],
             [
              0.8888888888888888,
              "#fdca26"
             ],
             [
              1,
              "#f0f921"
             ]
            ],
            "type": "histogram2dcontour"
           }
          ],
          "mesh3d": [
           {
            "colorbar": {
             "outlinewidth": 0,
             "ticks": ""
            },
            "type": "mesh3d"
           }
          ],
          "parcoords": [
           {
            "line": {
             "colorbar": {
              "outlinewidth": 0,
              "ticks": ""
             }
            },
            "type": "parcoords"
           }
          ],
          "pie": [
           {
            "automargin": true,
            "type": "pie"
           }
          ],
          "scatter": [
           {
            "fillpattern": {
             "fillmode": "overlay",
             "size": 10,
             "solidity": 0.2
            },
            "type": "scatter"
           }
          ],
          "scatter3d": [
           {
            "line": {
             "colorbar": {
              "outlinewidth": 0,
              "ticks": ""
             }
            },
            "marker": {
             "colorbar": {
              "outlinewidth": 0,
              "ticks": ""
             }
            },
            "type": "scatter3d"
           }
          ],
          "scattercarpet": [
           {
            "marker": {
             "colorbar": {
              "outlinewidth": 0,
              "ticks": ""
             }
            },
            "type": "scattercarpet"
           }
          ],
          "scattergeo": [
           {
            "marker": {
             "colorbar": {
              "outlinewidth": 0,
              "ticks": ""
             }
            },
            "type": "scattergeo"
           }
          ],
          "scattergl": [
           {
            "marker": {
             "colorbar": {
              "outlinewidth": 0,
              "ticks": ""
             }
            },
            "type": "scattergl"
           }
          ],
          "scattermapbox": [
           {
            "marker": {
             "colorbar": {
              "outlinewidth": 0,
              "ticks": ""
             }
            },
            "type": "scattermapbox"
           }
          ],
          "scatterpolar": [
           {
            "marker": {
             "colorbar": {
              "outlinewidth": 0,
              "ticks": ""
             }
            },
            "type": "scatterpolar"
           }
          ],
          "scatterpolargl": [
           {
            "marker": {
             "colorbar": {
              "outlinewidth": 0,
              "ticks": ""
             }
            },
            "type": "scatterpolargl"
           }
          ],
          "scatterternary": [
           {
            "marker": {
             "colorbar": {
              "outlinewidth": 0,
              "ticks": ""
             }
            },
            "type": "scatterternary"
           }
          ],
          "surface": [
           {
            "colorbar": {
             "outlinewidth": 0,
             "ticks": ""
            },
            "colorscale": [
             [
              0,
              "#0d0887"
             ],
             [
              0.1111111111111111,
              "#46039f"
             ],
             [
              0.2222222222222222,
              "#7201a8"
             ],
             [
              0.3333333333333333,
              "#9c179e"
             ],
             [
              0.4444444444444444,
              "#bd3786"
             ],
             [
              0.5555555555555556,
              "#d8576b"
             ],
             [
              0.6666666666666666,
              "#ed7953"
             ],
             [
              0.7777777777777778,
              "#fb9f3a"
             ],
             [
              0.8888888888888888,
              "#fdca26"
             ],
             [
              1,
              "#f0f921"
             ]
            ],
            "type": "surface"
           }
          ],
          "table": [
           {
            "cells": {
             "fill": {
              "color": "#EBF0F8"
             },
             "line": {
              "color": "white"
             }
            },
            "header": {
             "fill": {
              "color": "#C8D4E3"
             },
             "line": {
              "color": "white"
             }
            },
            "type": "table"
           }
          ]
         },
         "layout": {
          "annotationdefaults": {
           "arrowcolor": "#2a3f5f",
           "arrowhead": 0,
           "arrowwidth": 1
          },
          "autotypenumbers": "strict",
          "coloraxis": {
           "colorbar": {
            "outlinewidth": 0,
            "ticks": ""
           }
          },
          "colorscale": {
           "diverging": [
            [
             0,
             "#8e0152"
            ],
            [
             0.1,
             "#c51b7d"
            ],
            [
             0.2,
             "#de77ae"
            ],
            [
             0.3,
             "#f1b6da"
            ],
            [
             0.4,
             "#fde0ef"
            ],
            [
             0.5,
             "#f7f7f7"
            ],
            [
             0.6,
             "#e6f5d0"
            ],
            [
             0.7,
             "#b8e186"
            ],
            [
             0.8,
             "#7fbc41"
            ],
            [
             0.9,
             "#4d9221"
            ],
            [
             1,
             "#276419"
            ]
           ],
           "sequential": [
            [
             0,
             "#0d0887"
            ],
            [
             0.1111111111111111,
             "#46039f"
            ],
            [
             0.2222222222222222,
             "#7201a8"
            ],
            [
             0.3333333333333333,
             "#9c179e"
            ],
            [
             0.4444444444444444,
             "#bd3786"
            ],
            [
             0.5555555555555556,
             "#d8576b"
            ],
            [
             0.6666666666666666,
             "#ed7953"
            ],
            [
             0.7777777777777778,
             "#fb9f3a"
            ],
            [
             0.8888888888888888,
             "#fdca26"
            ],
            [
             1,
             "#f0f921"
            ]
           ],
           "sequentialminus": [
            [
             0,
             "#0d0887"
            ],
            [
             0.1111111111111111,
             "#46039f"
            ],
            [
             0.2222222222222222,
             "#7201a8"
            ],
            [
             0.3333333333333333,
             "#9c179e"
            ],
            [
             0.4444444444444444,
             "#bd3786"
            ],
            [
             0.5555555555555556,
             "#d8576b"
            ],
            [
             0.6666666666666666,
             "#ed7953"
            ],
            [
             0.7777777777777778,
             "#fb9f3a"
            ],
            [
             0.8888888888888888,
             "#fdca26"
            ],
            [
             1,
             "#f0f921"
            ]
           ]
          },
          "colorway": [
           "#636efa",
           "#EF553B",
           "#00cc96",
           "#ab63fa",
           "#FFA15A",
           "#19d3f3",
           "#FF6692",
           "#B6E880",
           "#FF97FF",
           "#FECB52"
          ],
          "font": {
           "color": "#2a3f5f"
          },
          "geo": {
           "bgcolor": "white",
           "lakecolor": "white",
           "landcolor": "#E5ECF6",
           "showlakes": true,
           "showland": true,
           "subunitcolor": "white"
          },
          "hoverlabel": {
           "align": "left"
          },
          "hovermode": "closest",
          "mapbox": {
           "style": "light"
          },
          "paper_bgcolor": "white",
          "plot_bgcolor": "#E5ECF6",
          "polar": {
           "angularaxis": {
            "gridcolor": "white",
            "linecolor": "white",
            "ticks": ""
           },
           "bgcolor": "#E5ECF6",
           "radialaxis": {
            "gridcolor": "white",
            "linecolor": "white",
            "ticks": ""
           }
          },
          "scene": {
           "xaxis": {
            "backgroundcolor": "#E5ECF6",
            "gridcolor": "white",
            "gridwidth": 2,
            "linecolor": "white",
            "showbackground": true,
            "ticks": "",
            "zerolinecolor": "white"
           },
           "yaxis": {
            "backgroundcolor": "#E5ECF6",
            "gridcolor": "white",
            "gridwidth": 2,
            "linecolor": "white",
            "showbackground": true,
            "ticks": "",
            "zerolinecolor": "white"
           },
           "zaxis": {
            "backgroundcolor": "#E5ECF6",
            "gridcolor": "white",
            "gridwidth": 2,
            "linecolor": "white",
            "showbackground": true,
            "ticks": "",
            "zerolinecolor": "white"
           }
          },
          "shapedefaults": {
           "line": {
            "color": "#2a3f5f"
           }
          },
          "ternary": {
           "aaxis": {
            "gridcolor": "white",
            "linecolor": "white",
            "ticks": ""
           },
           "baxis": {
            "gridcolor": "white",
            "linecolor": "white",
            "ticks": ""
           },
           "bgcolor": "#E5ECF6",
           "caxis": {
            "gridcolor": "white",
            "linecolor": "white",
            "ticks": ""
           }
          },
          "title": {
           "x": 0.05
          },
          "xaxis": {
           "automargin": true,
           "gridcolor": "white",
           "linecolor": "white",
           "ticks": "",
           "title": {
            "standoff": 15
           },
           "zerolinecolor": "white",
           "zerolinewidth": 2
          },
          "yaxis": {
           "automargin": true,
           "gridcolor": "white",
           "linecolor": "white",
           "ticks": "",
           "title": {
            "standoff": 15
           },
           "zerolinecolor": "white",
           "zerolinewidth": 2
          }
         }
        },
        "xaxis": {
         "anchor": "y",
         "autorange": true,
         "domain": [
          0,
          1
         ],
         "range": [
          "2023-01-23 12:00",
          "2023-01-30 11:00"
         ],
         "title": {
          "text": "x"
         },
         "type": "date"
        },
        "yaxis": {
         "anchor": "x",
         "autorange": true,
         "domain": [
          0,
          1
         ],
         "range": [
          -5.555555555555556,
          105.55555555555556
         ],
         "title": {
          "text": "value"
         },
         "type": "linear"
        }
       }
      },
      "image/png": "[encoded data removed]",
      "text/html": [
       "<div>                            <div id=\"fd3254f3-83ca-4576-a2cd-ae125b4d4f29\" class=\"plotly-graph-div\" style=\"height:525px; width:100%;\"></div>            <script type=\"text/javascript\">                require([\"plotly\"], function(Plotly) {                    window.PLOTLYENV=window.PLOTLYENV || {};                                    if (document.getElementById(\"fd3254f3-83ca-4576-a2cd-ae125b4d4f29\")) {                    Plotly.newPlot(                        \"fd3254f3-83ca-4576-a2cd-ae125b4d4f29\",                        [{\"hovertemplate\":\"variable=wide_variable_0<br>x=%{x}<br>value=%{y}<extra></extra>\",\"legendgroup\":\"wide_variable_0\",\"line\":{\"color\":\"#636efa\",\"dash\":\"solid\"},\"marker\":{\"symbol\":\"circle\"},\"mode\":\"lines\",\"name\":\"wide_variable_0\",\"orientation\":\"v\",\"showlegend\":true,\"x\":[\"2023-01-23T12:00:00\",\"2023-01-23T13:00:00\",\"2023-01-23T14:00:00\",\"2023-01-23T15:00:00\",\"2023-01-23T16:00:00\",\"2023-01-23T17:00:00\",\"2023-01-23T18:00:00\",\"2023-01-23T19:00:00\",\"2023-01-23T20:00:00\",\"2023-01-23T21:00:00\",\"2023-01-23T22:00:00\",\"2023-01-23T23:00:00\",\"2023-01-24T00:00:00\",\"2023-01-24T01:00:00\",\"2023-01-24T02:00:00\",\"2023-01-24T03:00:00\",\"2023-01-24T04:00:00\",\"2023-01-24T05:00:00\",\"2023-01-24T06:00:00\",\"2023-01-24T07:00:00\",\"2023-01-24T08:00:00\",\"2023-01-24T09:00:00\",\"2023-01-24T10:00:00\",\"2023-01-24T11:00:00\",\"2023-01-24T12:00:00\",\"2023-01-24T13:00:00\",\"2023-01-24T14:00:00\",\"2023-01-24T15:00:00\",\"2023-01-24T16:00:00\",\"2023-01-24T17:00:00\",\"2023-01-24T18:00:00\",\"2023-01-24T19:00:00\",\"2023-01-24T20:00:00\",\"2023-01-24T21:00:00\",\"2023-01-24T22:00:00\",\"2023-01-24T23:00:00\",\"2023-01-25T00:00:00\",\"2023-01-25T01:00:00\",\"2023-01-25T02:00:00\",\"2023-01-25T03:00:00\",\"2023-01-25T04:00:00\",\"2023-01-25T05:00:00\",\"2023-01-25T06:00:00\",\"2023-01-25T07:00:00\",\"2023-01-25T08:00:00\",\"2023-01-25T09:00:00\",\"2023-01-25T10:00:00\",\"2023-01-25T11:00:00\",\"2023-01-25T12:00:00\",\"2023-01-25T13:00:00\",\"2023-01-25T14:00:00\",\"2023-01-25T15:00:00\",\"2023-01-25T16:00:00\",\"2023-01-25T17:00:00\",\"2023-01-25T18:00:00\",\"2023-01-25T19:00:00\",\"2023-01-25T20:00:00\",\"2023-01-25T21:00:00\",\"2023-01-25T22:00:00\",\"2023-01-25T23:00:00\",\"2023-01-26T00:00:00\",\"2023-01-26T01:00:00\",\"2023-01-26T02:00:00\",\"2023-01-26T03:00:00\",\"2023-01-26T04:00:00\",\"2023-01-26T05:00:00\",\"2023-01-26T06:00:00\",\"2023-01-26T07:00:00\",\"2023-01-26T08:00:00\",\"2023-01-26T09:00:00\",\"2023-01-26T10:00:00\",\"2023-01-26T11:00:00\",\"2023-01-26T12:00:00\",\"2023-01-26T13:00:00\",\"2023-01-26T14:00:00\",\"2023-01-26T15:00:00\",\"2023-01-26T16:00:00\",\"2023-01-26T17:00:00\",\"2023-01-26T18:00:00\",\"2023-01-26T19:00:00\",\"2023-01-26T20:00:00\",\"2023-01-26T21:00:00\",\"2023-01-26T22:00:00\",\"2023-01-26T23:00:00\",\"2023-01-27T00:00:00\",\"2023-01-27T01:00:00\",\"2023-01-27T02:00:00\",\"2023-01-27T03:00:00\",\"2023-01-27T04:00:00\",\"2023-01-27T05:00:00\",\"2023-01-27T06:00:00\",\"2023-01-27T07:00:00\",\"2023-01-27T08:00:00\",\"2023-01-27T09:00:00\",\"2023-01-27T10:00:00\",\"2023-01-27T11:00:00\",\"2023-01-27T12:00:00\",\"2023-01-27T13:00:00\",\"2023-01-27T14:00:00\",\"2023-01-27T15:00:00\",\"2023-01-27T16:00:00\",\"2023-01-27T17:00:00\",\"2023-01-27T18:00:00\",\"2023-01-27T19:00:00\",\"2023-01-27T20:00:00\",\"2023-01-27T21:00:00\",\"2023-01-27T22:00:00\",\"2023-01-27T23:00:00\",\"2023-01-28T00:00:00\",\"2023-01-28T01:00:00\",\"2023-01-28T02:00:00\",\"2023-01-28T03:00:00\",\"2023-01-28T04:00:00\",\"2023-01-28T05:00:00\",\"2023-01-28T06:00:00\",\"2023-01-28T07:00:00\",\"2023-01-28T08:00:00\",\"2023-01-28T09:00:00\",\"2023-01-28T10:00:00\",\"2023-01-28T11:00:00\",\"2023-01-28T12:00:00\",\"2023-01-28T13:00:00\",\"2023-01-28T14:00:00\",\"2023-01-28T15:00:00\",\"2023-01-28T16:00:00\",\"2023-01-28T17:00:00\",\"2023-01-28T18:00:00\",\"2023-01-28T19:00:00\",\"2023-01-28T20:00:00\",\"2023-01-28T21:00:00\",\"2023-01-28T22:00:00\",\"2023-01-28T23:00:00\",\"2023-01-29T00:00:00\",\"2023-01-29T01:00:00\",\"2023-01-29T02:00:00\",\"2023-01-29T03:00:00\",\"2023-01-29T04:00:00\",\"2023-01-29T05:00:00\",\"2023-01-29T06:00:00\",\"2023-01-29T07:00:00\",\"2023-01-29T08:00:00\",\"2023-01-29T09:00:00\",\"2023-01-29T10:00:00\",\"2023-01-29T11:00:00\",\"2023-01-29T12:00:00\",\"2023-01-29T13:00:00\",\"2023-01-29T14:00:00\",\"2023-01-29T15:00:00\",\"2023-01-29T16:00:00\",\"2023-01-29T17:00:00\",\"2023-01-29T18:00:00\",\"2023-01-29T19:00:00\",\"2023-01-29T20:00:00\",\"2023-01-29T21:00:00\",\"2023-01-29T22:00:00\",\"2023-01-29T23:00:00\",\"2023-01-30T00:00:00\",\"2023-01-30T01:00:00\",\"2023-01-30T02:00:00\",\"2023-01-30T03:00:00\",\"2023-01-30T04:00:00\",\"2023-01-30T05:00:00\",\"2023-01-30T06:00:00\",\"2023-01-30T07:00:00\",\"2023-01-30T08:00:00\",\"2023-01-30T09:00:00\",\"2023-01-30T10:00:00\",\"2023-01-30T11:00:00\"],\"xaxis\":\"x\",\"y\":[2,2,2,2,2,2,2,2,2,2,1,1,1,0,0,0,0,0,0,1,1,1,1,1,1,1,1,1,1,1,2,2,1,1,1,1,1,0,0,0,0,0,0,0,1,1,1,1,1,1,1,1,1,1,2,2,1,1,1,1,1,0,0,0,0,0,0,0,1,1,1,1,1,1,1,1,1,1,2,2,2,1,1,1,1,0,0,0,0,0,0,1,1,1,1,1,1,1,1,1,2,2,2,2,2,2,2,1,1,1,0,0,0,0,0,1,1,1,2,2,2,2,2,3,3,3,4,4,3,3,3,2,2,1,1,1,0,0,1,1,2,3,4,6,8,11,21,54,60,83,97,34,19,16,23,8,5,3,2,1,1,1,2,3,3,4,3,3],\"yaxis\":\"y\",\"type\":\"scatter\"},{\"hovertemplate\":\"variable=wide_variable_1<br>x=%{x}<br>value=%{y}<extra></extra>\",\"legendgroup\":\"wide_variable_1\",\"line\":{\"color\":\"#EF553B\",\"dash\":\"solid\"},\"marker\":{\"symbol\":\"circle\"},\"mode\":\"lines\",\"name\":\"wide_variable_1\",\"orientation\":\"v\",\"showlegend\":true,\"x\":[\"2023-01-23T12:00:00\",\"2023-01-23T13:00:00\",\"2023-01-23T14:00:00\",\"2023-01-23T15:00:00\",\"2023-01-23T16:00:00\",\"2023-01-23T17:00:00\",\"2023-01-23T18:00:00\",\"2023-01-23T19:00:00\",\"2023-01-23T20:00:00\",\"2023-01-23T21:00:00\",\"2023-01-23T22:00:00\",\"2023-01-23T23:00:00\",\"2023-01-24T00:00:00\",\"2023-01-24T01:00:00\",\"2023-01-24T02:00:00\",\"2023-01-24T03:00:00\",\"2023-01-24T04:00:00\",\"2023-01-24T05:00:00\",\"2023-01-24T06:00:00\",\"2023-01-24T07:00:00\",\"2023-01-24T08:00:00\",\"2023-01-24T09:00:00\",\"2023-01-24T10:00:00\",\"2023-01-24T11:00:00\",\"2023-01-24T12:00:00\",\"2023-01-24T13:00:00\",\"2023-01-24T14:00:00\",\"2023-01-24T15:00:00\",\"2023-01-24T16:00:00\",\"2023-01-24T17:00:00\",\"2023-01-24T18:00:00\",\"2023-01-24T19:00:00\",\"2023-01-24T20:00:00\",\"2023-01-24T21:00:00\",\"2023-01-24T22:00:00\",\"2023-01-24T23:00:00\",\"2023-01-25T00:00:00\",\"2023-01-25T01:00:00\",\"2023-01-25T02:00:00\",\"2023-01-25T03:00:00\",\"2023-01-25T04:00:00\",\"2023-01-25T05:00:00\",\"2023-01-25T06:00:00\",\"2023-01-25T07:00:00\",\"2023-01-25T08:00:00\",\"2023-01-25T09:00:00\",\"2023-01-25T10:00:00\",\"2023-01-25T11:00:00\",\"2023-01-25T12:00:00\",\"2023-01-25T13:00:00\",\"2023-01-25T14:00:00\",\"2023-01-25T15:00:00\",\"2023-01-25T16:00:00\",\"2023-01-25T17:00:00\",\"2023-01-25T18:00:00\",\"2023-01-25T19:00:00\",\"2023-01-25T20:00:00\",\"2023-01-25T21:00:00\",\"2023-01-25T22:00:00\",\"2023-01-25T23:00:00\",\"2023-01-26T00:00:00\",\"2023-01-26T01:00:00\",\"2023-01-26T02:00:00\",\"2023-01-26T03:00:00\",\"2023-01-26T04:00:00\",\"2023-01-26T05:00:00\",\"2023-01-26T06:00:00\",\"2023-01-26T07:00:00\",\"2023-01-26T08:00:00\",\"2023-01-26T09:00:00\",\"2023-01-26T10:00:00\",\"2023-01-26T11:00:00\",\"2023-01-26T12:00:00\",\"2023-01-26T13:00:00\",\"2023-01-26T14:00:00\",\"2023-01-26T15:00:00\",\"2023-01-26T16:00:00\",\"2023-01-26T17:00:00\",\"2023-01-26T18:00:00\",\"2023-01-26T19:00:00\",\"2023-01-26T20:00:00\",\"2023-01-26T21:00:00\",\"2023-01-26T22:00:00\",\"2023-01-26T23:00:00\",\"2023-01-27T00:00:00\",\"2023-01-27T01:00:00\",\"2023-01-27T02:00:00\",\"2023-01-27T03:00:00\",\"2023-01-27T04:00:00\",\"2023-01-27T05:00:00\",\"2023-01-27T06:00:00\",\"2023-01-27T07:00:00\",\"2023-01-27T08:00:00\",\"2023-01-27T09:00:00\",\"2023-01-27T10:00:00\",\"2023-01-27T11:00:00\",\"2023-01-27T12:00:00\",\"2023-01-27T13:00:00\",\"2023-01-27T14:00:00\",\"2023-01-27T15:00:00\",\"2023-01-27T16:00:00\",\"2023-01-27T17:00:00\",\"2023-01-27T18:00:00\",\"2023-01-27T19:00:00\",\"2023-01-27T20:00:00\",\"2023-01-27T21:00:00\",\"2023-01-27T22:00:00\",\"2023-01-27T23:00:00\",\"2023-01-28T00:00:00\",\"2023-01-28T01:00:00\",\"2023-01-28T02:00:00\",\"2023-01-28T03:00:00\",\"2023-01-28T04:00:00\",\"2023-01-28T05:00:00\",\"2023-01-28T06:00:00\",\"2023-01-28T07:00:00\",\"2023-01-28T08:00:00\",\"2023-01-28T09:00:00\",\"2023-01-28T10:00:00\",\"2023-01-28T11:00:00\",\"2023-01-28T12:00:00\",\"2023-01-28T13:00:00\",\"2023-01-28T14:00:00\",\"2023-01-28T15:00:00\",\"2023-01-28T16:00:00\",\"2023-01-28T17:00:00\",\"2023-01-28T18:00:00\",\"2023-01-28T19:00:00\",\"2023-01-28T20:00:00\",\"2023-01-28T21:00:00\",\"2023-01-28T22:00:00\",\"2023-01-28T23:00:00\",\"2023-01-29T00:00:00\",\"2023-01-29T01:00:00\",\"2023-01-29T02:00:00\",\"2023-01-29T03:00:00\",\"2023-01-29T04:00:00\",\"2023-01-29T05:00:00\",\"2023-01-29T06:00:00\",\"2023-01-29T07:00:00\",\"2023-01-29T08:00:00\",\"2023-01-29T09:00:00\",\"2023-01-29T10:00:00\",\"2023-01-29T11:00:00\",\"2023-01-29T12:00:00\",\"2023-01-29T13:00:00\",\"2023-01-29T14:00:00\",\"2023-01-29T15:00:00\",\"2023-01-29T16:00:00\",\"2023-01-29T17:00:00\",\"2023-01-29T18:00:00\",\"2023-01-29T19:00:00\",\"2023-01-29T20:00:00\",\"2023-01-29T21:00:00\",\"2023-01-29T22:00:00\",\"2023-01-29T23:00:00\",\"2023-01-30T00:00:00\",\"2023-01-30T01:00:00\",\"2023-01-30T02:00:00\",\"2023-01-30T03:00:00\",\"2023-01-30T04:00:00\",\"2023-01-30T05:00:00\",\"2023-01-30T06:00:00\",\"2023-01-30T07:00:00\",\"2023-01-30T08:00:00\",\"2023-01-30T09:00:00\",\"2023-01-30T10:00:00\",\"2023-01-30T11:00:00\"],\"xaxis\":\"x\",\"y\":[3,3,3,3,3,3,3,3,3,3,2,2,1,1,1,0,0,0,0,0,1,1,1,1,1,1,1,1,1,2,2,2,2,2,2,1,1,1,0,0,0,0,0,0,0,1,1,1,1,1,1,1,1,1,2,2,2,2,1,1,1,1,0,0,0,0,0,0,0,1,1,1,1,1,1,1,1,1,2,2,2,2,1,1,1,1,0,0,0,0,0,0,1,1,1,1,1,1,1,1,2,2,2,2,2,2,2,2,1,1,1,0,0,0,0,0,1,1,1,2,2,2,2,3,3,3,4,4,4,4,4,3,3,2,1,1,1,0,1,1,1,2,3,5,8,11,20,54,68,86,76,31,15,12,10,5,4,2,1,1,1,1,1,1,2,1,2,2],\"yaxis\":\"y\",\"type\":\"scatter\"},{\"hovertemplate\":\"variable=wide_variable_2<br>x=%{x}<br>value=%{y}<extra></extra>\",\"legendgroup\":\"wide_variable_2\",\"line\":{\"color\":\"#00cc96\",\"dash\":\"solid\"},\"marker\":{\"symbol\":\"circle\"},\"mode\":\"lines\",\"name\":\"wide_variable_2\",\"orientation\":\"v\",\"showlegend\":true,\"x\":[\"2023-01-23T12:00:00\",\"2023-01-23T13:00:00\",\"2023-01-23T14:00:00\",\"2023-01-23T15:00:00\",\"2023-01-23T16:00:00\",\"2023-01-23T17:00:00\",\"2023-01-23T18:00:00\",\"2023-01-23T19:00:00\",\"2023-01-23T20:00:00\",\"2023-01-23T21:00:00\",\"2023-01-23T22:00:00\",\"2023-01-23T23:00:00\",\"2023-01-24T00:00:00\",\"2023-01-24T01:00:00\",\"2023-01-24T02:00:00\",\"2023-01-24T03:00:00\",\"2023-01-24T04:00:00\",\"2023-01-24T05:00:00\",\"2023-01-24T06:00:00\",\"2023-01-24T07:00:00\",\"2023-01-24T08:00:00\",\"2023-01-24T09:00:00\",\"2023-01-24T10:00:00\",\"2023-01-24T11:00:00\",\"2023-01-24T12:00:00\",\"2023-01-24T13:00:00\",\"2023-01-24T14:00:00\",\"2023-01-24T15:00:00\",\"2023-01-24T16:00:00\",\"2023-01-24T17:00:00\",\"2023-01-24T18:00:00\",\"2023-01-24T19:00:00\",\"2023-01-24T20:00:00\",\"2023-01-24T21:00:00\",\"2023-01-24T22:00:00\",\"2023-01-24T23:00:00\",\"2023-01-25T00:00:00\",\"2023-01-25T01:00:00\",\"2023-01-25T02:00:00\",\"2023-01-25T03:00:00\",\"2023-01-25T04:00:00\",\"2023-01-25T05:00:00\",\"2023-01-25T06:00:00\",\"2023-01-25T07:00:00\",\"2023-01-25T08:00:00\",\"2023-01-25T09:00:00\",\"2023-01-25T10:00:00\",\"2023-01-25T11:00:00\",\"2023-01-25T12:00:00\",\"2023-01-25T13:00:00\",\"2023-01-25T14:00:00\",\"2023-01-25T15:00:00\",\"2023-01-25T16:00:00\",\"2023-01-25T17:00:00\",\"2023-01-25T18:00:00\",\"2023-01-25T19:00:00\",\"2023-01-25T20:00:00\",\"2023-01-25T21:00:00\",\"2023-01-25T22:00:00\",\"2023-01-25T23:00:00\",\"2023-01-26T00:00:00\",\"2023-01-26T01:00:00\",\"2023-01-26T02:00:00\",\"2023-01-26T03:00:00\",\"2023-01-26T04:00:00\",\"2023-01-26T05:00:00\",\"2023-01-26T06:00:00\",\"2023-01-26T07:00:00\",\"2023-01-26T08:00:00\",\"2023-01-26T09:00:00\",\"2023-01-26T10:00:00\",\"2023-01-26T11:00:00\",\"2023-01-26T12:00:00\",\"2023-01-26T13:00:00\",\"2023-01-26T14:00:00\",\"2023-01-26T15:00:00\",\"2023-01-26T16:00:00\",\"2023-01-26T17:00:00\",\"2023-01-26T18:00:00\",\"2023-01-26T19:00:00\",\"2023-01-26T20:00:00\",\"2023-01-26T21:00:00\",\"2023-01-26T22:00:00\",\"2023-01-26T23:00:00\",\"2023-01-27T00:00:00\",\"2023-01-27T01:00:00\",\"2023-01-27T02:00:00\",\"2023-01-27T03:00:00\",\"2023-01-27T04:00:00\",\"2023-01-27T05:00:00\",\"2023-01-27T06:00:00\",\"2023-01-27T07:00:00\",\"2023-01-27T08:00:00\",\"2023-01-27T09:00:00\",\"2023-01-27T10:00:00\",\"2023-01-27T11:00:00\",\"2023-01-27T12:00:00\",\"2023-01-27T13:00:00\",\"2023-01-27T14:00:00\",\"2023-01-27T15:00:00\",\"2023-01-27T16:00:00\",\"2023-01-27T17:00:00\",\"2023-01-27T18:00:00\",\"2023-01-27T19:00:00\",\"2023-01-27T20:00:00\",\"2023-01-27T21:00:00\",\"2023-01-27T22:00:00\",\"2023-01-27T23:00:00\",\"2023-01-28T00:00:00\",\"2023-01-28T01:00:00\",\"2023-01-28T02:00:00\",\"2023-01-28T03:00:00\",\"2023-01-28T04:00:00\",\"2023-01-28T05:00:00\",\"2023-01-28T06:00:00\",\"2023-01-28T07:00:00\",\"2023-01-28T08:00:00\",\"2023-01-28T09:00:00\",\"2023-01-28T10:00:00\",\"2023-01-28T11:00:00\",\"2023-01-28T12:00:00\",\"2023-01-28T13:00:00\",\"2023-01-28T14:00:00\",\"2023-01-28T15:00:00\",\"2023-01-28T16:00:00\",\"2023-01-28T17:00:00\",\"2023-01-28T18:00:00\",\"2023-01-28T19:00:00\",\"2023-01-28T20:00:00\",\"2023-01-28T21:00:00\",\"2023-01-28T22:00:00\",\"2023-01-28T23:00:00\",\"2023-01-29T00:00:00\",\"2023-01-29T01:00:00\",\"2023-01-29T02:00:00\",\"2023-01-29T03:00:00\",\"2023-01-29T04:00:00\",\"2023-01-29T05:00:00\",\"2023-01-29T06:00:00\",\"2023-01-29T07:00:00\",\"2023-01-29T08:00:00\",\"2023-01-29T09:00:00\",\"2023-01-29T10:00:00\",\"2023-01-29T11:00:00\",\"2023-01-29T12:00:00\",\"2023-01-29T13:00:00\",\"2023-01-29T14:00:00\",\"2023-01-29T15:00:00\",\"2023-01-29T16:00:00\",\"2023-01-29T17:00:00\",\"2023-01-29T18:00:00\",\"2023-01-29T19:00:00\",\"2023-01-29T20:00:00\",\"2023-01-29T21:00:00\",\"2023-01-29T22:00:00\",\"2023-01-29T23:00:00\",\"2023-01-30T00:00:00\",\"2023-01-30T01:00:00\",\"2023-01-30T02:00:00\",\"2023-01-30T03:00:00\",\"2023-01-30T04:00:00\",\"2023-01-30T05:00:00\",\"2023-01-30T06:00:00\",\"2023-01-30T07:00:00\",\"2023-01-30T08:00:00\",\"2023-01-30T09:00:00\",\"2023-01-30T10:00:00\",\"2023-01-30T11:00:00\"],\"xaxis\":\"x\",\"y\":[1,1,1,1,1,1,1,1,1,1,1,1,1,0,0,0,0,0,0,0,1,1,1,1,1,1,1,1,1,1,1,1,1,1,1,1,0,0,0,0,0,0,0,0,0,0,1,1,1,1,1,1,1,1,1,1,1,1,1,1,0,0,0,0,0,0,0,0,0,1,1,1,1,1,1,1,1,1,1,1,1,1,1,1,1,0,0,0,0,0,0,0,1,1,1,1,1,1,1,1,1,2,2,2,2,2,1,1,1,1,0,0,0,0,0,0,1,1,1,2,2,2,2,3,3,4,4,3,3,3,3,2,2,1,1,0,0,0,0,1,2,2,3,4,5,6,7,9,12,20,76,72,77,100,96,20,10,5,3,3,3,4,5,5,5,5,4,4],\"yaxis\":\"y\",\"type\":\"scatter\"}],                        {\"template\":{\"data\":{\"histogram2dcontour\":[{\"type\":\"histogram2dcontour\",\"colorbar\":{\"outlinewidth\":0,\"ticks\":\"\"},\"colorscale\":[[0.0,\"#0d0887\"],[0.1111111111111111,\"#46039f\"],[0.2222222222222222,\"#7201a8\"],[0.3333333333333333,\"#9c179e\"],[0.4444444444444444,\"#bd3786\"],[0.5555555555555556,\"#d8576b\"],[0.6666666666666666,\"#ed7953\"],[0.7777777777777778,\"#fb9f3a\"],[0.8888888888888888,\"#fdca26\"],[1.0,\"#f0f921\"]]}],\"choropleth\":[{\"type\":\"choropleth\",\"colorbar\":{\"outlinewidth\":0,\"ticks\":\"\"}}],\"histogram2d\":[{\"type\":\"histogram2d\",\"colorbar\":{\"outlinewidth\":0,\"ticks\":\"\"},\"colorscale\":[[0.0,\"#0d0887\"],[0.1111111111111111,\"#46039f\"],[0.2222222222222222,\"#7201a8\"],[0.3333333333333333,\"#9c179e\"],[0.4444444444444444,\"#bd3786\"],[0.5555555555555556,\"#d8576b\"],[0.6666666666666666,\"#ed7953\"],[0.7777777777777778,\"#fb9f3a\"],[0.8888888888888888,\"#fdca26\"],[1.0,\"#f0f921\"]]}],\"heatmap\":[{\"type\":\"heatmap\",\"colorbar\":{\"outlinewidth\":0,\"ticks\":\"\"},\"colorscale\":[[0.0,\"#0d0887\"],[0.1111111111111111,\"#46039f\"],[0.2222222222222222,\"#7201a8\"],[0.3333333333333333,\"#9c179e\"],[0.4444444444444444,\"#bd3786\"],[0.5555555555555556,\"#d8576b\"],[0.6666666666666666,\"#ed7953\"],[0.7777777777777778,\"#fb9f3a\"],[0.8888888888888888,\"#fdca26\"],[1.0,\"#f0f921\"]]}],\"heatmapgl\":[{\"type\":\"heatmapgl\",\"colorbar\":{\"outlinewidth\":0,\"ticks\":\"\"},\"colorscale\":[[0.0,\"#0d0887\"],[0.1111111111111111,\"#46039f\"],[0.2222222222222222,\"#7201a8\"],[0.3333333333333333,\"#9c179e\"],[0.4444444444444444,\"#bd3786\"],[0.5555555555555556,\"#d8576b\"],[0.6666666666666666,\"#ed7953\"],[0.7777777777777778,\"#fb9f3a\"],[0.8888888888888888,\"#fdca26\"],[1.0,\"#f0f921\"]]}],\"contourcarpet\":[{\"type\":\"contourcarpet\",\"colorbar\":{\"outlinewidth\":0,\"ticks\":\"\"}}],\"contour\":[{\"type\":\"contour\",\"colorbar\":{\"outlinewidth\":0,\"ticks\":\"\"},\"colorscale\":[[0.0,\"#0d0887\"],[0.1111111111111111,\"#46039f\"],[0.2222222222222222,\"#7201a8\"],[0.3333333333333333,\"#9c179e\"],[0.4444444444444444,\"#bd3786\"],[0.5555555555555556,\"#d8576b\"],[0.6666666666666666,\"#ed7953\"],[0.7777777777777778,\"#fb9f3a\"],[0.8888888888888888,\"#fdca26\"],[1.0,\"#f0f921\"]]}],\"surface\":[{\"type\":\"surface\",\"colorbar\":{\"outlinewidth\":0,\"ticks\":\"\"},\"colorscale\":[[0.0,\"#0d0887\"],[0.1111111111111111,\"#46039f\"],[0.2222222222222222,\"#7201a8\"],[0.3333333333333333,\"#9c179e\"],[0.4444444444444444,\"#bd3786\"],[0.5555555555555556,\"#d8576b\"],[0.6666666666666666,\"#ed7953\"],[0.7777777777777778,\"#fb9f3a\"],[0.8888888888888888,\"#fdca26\"],[1.0,\"#f0f921\"]]}],\"mesh3d\":[{\"type\":\"mesh3d\",\"colorbar\":{\"outlinewidth\":0,\"ticks\":\"\"}}],\"scatter\":[{\"fillpattern\":{\"fillmode\":\"overlay\",\"size\":10,\"solidity\":0.2},\"type\":\"scatter\"}],\"parcoords\":[{\"type\":\"parcoords\",\"line\":{\"colorbar\":{\"outlinewidth\":0,\"ticks\":\"\"}}}],\"scatterpolargl\":[{\"type\":\"scatterpolargl\",\"marker\":{\"colorbar\":{\"outlinewidth\":0,\"ticks\":\"\"}}}],\"bar\":[{\"error_x\":{\"color\":\"#2a3f5f\"},\"error_y\":{\"color\":\"#2a3f5f\"},\"marker\":{\"line\":{\"color\":\"#E5ECF6\",\"width\":0.5},\"pattern\":{\"fillmode\":\"overlay\",\"size\":10,\"solidity\":0.2}},\"type\":\"bar\"}],\"scattergeo\":[{\"type\":\"scattergeo\",\"marker\":{\"colorbar\":{\"outlinewidth\":0,\"ticks\":\"\"}}}],\"scatterpolar\":[{\"type\":\"scatterpolar\",\"marker\":{\"colorbar\":{\"outlinewidth\":0,\"ticks\":\"\"}}}],\"histogram\":[{\"marker\":{\"pattern\":{\"fillmode\":\"overlay\",\"size\":10,\"solidity\":0.2}},\"type\":\"histogram\"}],\"scattergl\":[{\"type\":\"scattergl\",\"marker\":{\"colorbar\":{\"outlinewidth\":0,\"ticks\":\"\"}}}],\"scatter3d\":[{\"type\":\"scatter3d\",\"line\":{\"colorbar\":{\"outlinewidth\":0,\"ticks\":\"\"}},\"marker\":{\"colorbar\":{\"outlinewidth\":0,\"ticks\":\"\"}}}],\"scattermapbox\":[{\"type\":\"scattermapbox\",\"marker\":{\"colorbar\":{\"outlinewidth\":0,\"ticks\":\"\"}}}],\"scatterternary\":[{\"type\":\"scatterternary\",\"marker\":{\"colorbar\":{\"outlinewidth\":0,\"ticks\":\"\"}}}],\"scattercarpet\":[{\"type\":\"scattercarpet\",\"marker\":{\"colorbar\":{\"outlinewidth\":0,\"ticks\":\"\"}}}],\"carpet\":[{\"aaxis\":{\"endlinecolor\":\"#2a3f5f\",\"gridcolor\":\"white\",\"linecolor\":\"white\",\"minorgridcolor\":\"white\",\"startlinecolor\":\"#2a3f5f\"},\"baxis\":{\"endlinecolor\":\"#2a3f5f\",\"gridcolor\":\"white\",\"linecolor\":\"white\",\"minorgridcolor\":\"white\",\"startlinecolor\":\"#2a3f5f\"},\"type\":\"carpet\"}],\"table\":[{\"cells\":{\"fill\":{\"color\":\"#EBF0F8\"},\"line\":{\"color\":\"white\"}},\"header\":{\"fill\":{\"color\":\"#C8D4E3\"},\"line\":{\"color\":\"white\"}},\"type\":\"table\"}],\"barpolar\":[{\"marker\":{\"line\":{\"color\":\"#E5ECF6\",\"width\":0.5},\"pattern\":{\"fillmode\":\"overlay\",\"size\":10,\"solidity\":0.2}},\"type\":\"barpolar\"}],\"pie\":[{\"automargin\":true,\"type\":\"pie\"}]},\"layout\":{\"autotypenumbers\":\"strict\",\"colorway\":[\"#636efa\",\"#EF553B\",\"#00cc96\",\"#ab63fa\",\"#FFA15A\",\"#19d3f3\",\"#FF6692\",\"#B6E880\",\"#FF97FF\",\"#FECB52\"],\"font\":{\"color\":\"#2a3f5f\"},\"hovermode\":\"closest\",\"hoverlabel\":{\"align\":\"left\"},\"paper_bgcolor\":\"white\",\"plot_bgcolor\":\"#E5ECF6\",\"polar\":{\"bgcolor\":\"#E5ECF6\",\"angularaxis\":{\"gridcolor\":\"white\",\"linecolor\":\"white\",\"ticks\":\"\"},\"radialaxis\":{\"gridcolor\":\"white\",\"linecolor\":\"white\",\"ticks\":\"\"}},\"ternary\":{\"bgcolor\":\"#E5ECF6\",\"aaxis\":{\"gridcolor\":\"white\",\"linecolor\":\"white\",\"ticks\":\"\"},\"baxis\":{\"gridcolor\":\"white\",\"linecolor\":\"white\",\"ticks\":\"\"},\"caxis\":{\"gridcolor\":\"white\",\"linecolor\":\"white\",\"ticks\":\"\"}},\"coloraxis\":{\"colorbar\":{\"outlinewidth\":0,\"ticks\":\"\"}},\"colorscale\":{\"sequential\":[[0.0,\"#0d0887\"],[0.1111111111111111,\"#46039f\"],[0.2222222222222222,\"#7201a8\"],[0.3333333333333333,\"#9c179e\"],[0.4444444444444444,\"#bd3786\"],[0.5555555555555556,\"#d8576b\"],[0.6666666666666666,\"#ed7953\"],[0.7777777777777778,\"#fb9f3a\"],[0.8888888888888888,\"#fdca26\"],[1.0,\"#f0f921\"]],\"sequentialminus\":[[0.0,\"#0d0887\"],[0.1111111111111111,\"#46039f\"],[0.2222222222222222,\"#7201a8\"],[0.3333333333333333,\"#9c179e\"],[0.4444444444444444,\"#bd3786\"],[0.5555555555555556,\"#d8576b\"],[0.6666666666666666,\"#ed7953\"],[0.7777777777777778,\"#fb9f3a\"],[0.8888888888888888,\"#fdca26\"],[1.0,\"#f0f921\"]],\"diverging\":[[0,\"#8e0152\"],[0.1,\"#c51b7d\"],[0.2,\"#de77ae\"],[0.3,\"#f1b6da\"],[0.4,\"#fde0ef\"],[0.5,\"#f7f7f7\"],[0.6,\"#e6f5d0\"],[0.7,\"#b8e186\"],[0.8,\"#7fbc41\"],[0.9,\"#4d9221\"],[1,\"#276419\"]]},\"xaxis\":{\"gridcolor\":\"white\",\"linecolor\":\"white\",\"ticks\":\"\",\"title\":{\"standoff\":15},\"zerolinecolor\":\"white\",\"automargin\":true,\"zerolinewidth\":2},\"yaxis\":{\"gridcolor\":\"white\",\"linecolor\":\"white\",\"ticks\":\"\",\"title\":{\"standoff\":15},\"zerolinecolor\":\"white\",\"automargin\":true,\"zerolinewidth\":2},\"scene\":{\"xaxis\":{\"backgroundcolor\":\"#E5ECF6\",\"gridcolor\":\"white\",\"linecolor\":\"white\",\"showbackground\":true,\"ticks\":\"\",\"zerolinecolor\":\"white\",\"gridwidth\":2},\"yaxis\":{\"backgroundcolor\":\"#E5ECF6\",\"gridcolor\":\"white\",\"linecolor\":\"white\",\"showbackground\":true,\"ticks\":\"\",\"zerolinecolor\":\"white\",\"gridwidth\":2},\"zaxis\":{\"backgroundcolor\":\"#E5ECF6\",\"gridcolor\":\"white\",\"linecolor\":\"white\",\"showbackground\":true,\"ticks\":\"\",\"zerolinecolor\":\"white\",\"gridwidth\":2}},\"shapedefaults\":{\"line\":{\"color\":\"#2a3f5f\"}},\"annotationdefaults\":{\"arrowcolor\":\"#2a3f5f\",\"arrowhead\":0,\"arrowwidth\":1},\"geo\":{\"bgcolor\":\"white\",\"landcolor\":\"#E5ECF6\",\"subunitcolor\":\"white\",\"showland\":true,\"showlakes\":true,\"lakecolor\":\"white\"},\"title\":{\"x\":0.05},\"mapbox\":{\"style\":\"light\"}}},\"xaxis\":{\"anchor\":\"y\",\"domain\":[0.0,1.0],\"title\":{\"text\":\"x\"}},\"yaxis\":{\"anchor\":\"x\",\"domain\":[0.0,1.0],\"title\":{\"text\":\"value\"}},\"legend\":{\"title\":{\"text\":\"variable\"},\"tracegroupgap\":0},\"margin\":{\"t\":60}},                        {\"responsive\": true}                    ).then(function(){\n",
       "                            \n",
       "var gd = document.getElementById('fd3254f3-83ca-4576-a2cd-ae125b4d4f29');\n",
       "var x = new MutationObserver(function (mutations, observer) {{\n",
       "        var display = window.getComputedStyle(gd).display;\n",
       "        if (!display || display === 'none') {{\n",
       "            console.log([gd, 'removed!']);\n",
       "            Plotly.purge(gd);\n",
       "            observer.disconnect();\n",
       "        }}\n",
       "}});\n",
       "\n",
       "// Listen for the removal of the full notebook cells\n",
       "var notebookContainer = gd.closest('#notebook-container');\n",
       "if (notebookContainer) {{\n",
       "    x.observe(notebookContainer, {childList: true});\n",
       "}}\n",
       "\n",
       "// Listen for the clearing of the current output cell\n",
       "var outputEl = gd.closest('.output');\n",
       "if (outputEl) {{\n",
       "    x.observe(outputEl, {childList: true});\n",
       "}}\n",
       "\n",
       "                        })                };                });            </script>        </div>"
      ]
     },
     "metadata": {},
     "output_type": "display_data"
    }
   ],
   "source": [
    "import plotly.express as px\n",
    "\n",
    "Eagles = Gtrend[\"Philadelphia Eagles: (Worldwide)\"]\n",
    "SanFran = Gtrend[\"San Francisco 49ers: (Worldwide)\"]\n",
    "Chiefs = Gtrend[\"Kansas City Chiefs: (Worldwide)\"]\n",
    "date = Gtrend[\"Time\"].astype('datetime64[s]') # Using the retyping of the column which is a nump array\n",
    "fig = px.line(x=date, y=[Eagles, SanFran, Chiefs])\n",
    "\n",
    "fig.show()"
   ]
  },
  {
   "cell_type": "code",
   "execution_count": 13,
   "id": "f4da822f-a354-43ff-9567-dff57f85699d",
   "metadata": {},
   "outputs": [
    {
     "data": {
      "image/png": "[encoded data removed]",
      "text/plain": [
       "<Figure size 432x288 with 1 Axes>"
      ]
     },
     "metadata": {},
     "output_type": "display_data"
    }
   ],
   "source": [
    "import matplotlib.dates\n",
    "x_values = Gtrend[\"Time\"].astype('datetime64[s]')\n",
    "y_values = Gtrend[\"Philadelphia Eagles: (Worldwide)\"]\n",
    "dates = matplotlib.dates.date2num(x_values)\n",
    "plt.plot_date(x_values, y_values)\n",
    "plt.gcf().autofmt_xdate()\n",
    "plt.show()"
   ]
  },
  {
   "cell_type": "markdown",
   "id": "b81b1987-aad6-4494-9ab1-7d668d7901d6",
   "metadata": {},
   "source": [
    "### Census data example\n",
    "#### For your own exploration"
   ]
  },
  {
   "cell_type": "code",
   "execution_count": null,
   "id": "0c46d4bd-1a53-4fcd-9193-c1d9e3f63c4c",
   "metadata": {},
   "outputs": [],
   "source": [
    "data = 'http://www2.census.gov/programs-surveys/popest/datasets/2010-2020/national/asrh/nc-est2020-agesex-res.csv'\n",
    "# A local copy can be accessed here in case census.gov moves the file:\n",
    "# data = path_data + 'nc-est2015-agesex-res.csv'\n",
    "\n",
    "full_census_table = Table.read_table(data)\n",
    "full_census_table"
   ]
  },
  {
   "cell_type": "code",
   "execution_count": null,
   "id": "b7082ced-593c-42f2-8a85-bdf28490f5ac",
   "metadata": {},
   "outputs": [],
   "source": [
    "partial_census_table = full_census_table.select('SEX', 'AGE', 'POPESTIMATE2010', 'POPESTIMATE2020')\n",
    "partial_census_table"
   ]
  },
  {
   "cell_type": "code",
   "execution_count": null,
   "id": "587dd336-4bf0-4b72-9522-714d15ba2344",
   "metadata": {},
   "outputs": [],
   "source": [
    "3*partial_census_table.column(\"AGE\")"
   ]
  },
  {
   "cell_type": "code",
   "execution_count": null,
   "id": "4dcc5207-4254-4c77-b035-699a9577963f",
   "metadata": {},
   "outputs": [],
   "source": [
    "us_pop = partial_census_table.relabeled('POPESTIMATE2010', '2010').relabeled('POPESTIMATE2020', '2020').relabeled('SEX','GENDER')\n",
    "us_pop"
   ]
  },
  {
   "cell_type": "code",
   "execution_count": null,
   "id": "b85f01c9-f11d-478d-838d-3b4b4cf11c78",
   "metadata": {},
   "outputs": [],
   "source": [
    "# Using .where method [see:http://data8.org/datascience/reference-nb/datascience-reference.html#tbl.where() ]\n",
    "us_pop.where('GENDER',0)"
   ]
  },
  {
   "cell_type": "code",
   "execution_count": null,
   "id": "9d2465c0-c77c-4e18-b1d8-1d9b942c6adb",
   "metadata": {},
   "outputs": [],
   "source": [
    "popdata = us_pop.where('GENDER',0).where('AGE',are.below(99))\n",
    "popdata"
   ]
  },
  {
   "cell_type": "code",
   "execution_count": null,
   "id": "169e9ca0-80c3-43f4-8149-94cd42b6f762",
   "metadata": {},
   "outputs": [],
   "source": [
    "# Plot to see offset\n",
    "popdata.select('AGE','2010','2020').plot('AGE')"
   ]
  }
 ],
 "metadata": {
  "kernelspec": {
   "display_name": "Python 3 (ipykernel)",
   "language": "python",
   "name": "python3"
  },
  "language_info": {
   "codemirror_mode": {
    "name": "ipython",
    "version": 3
   },
   "file_extension": ".py",
   "mimetype": "text/x-python",
   "name": "python",
   "nbconvert_exporter": "python",
   "pygments_lexer": "ipython3",
   "version": "3.9.12"
  }
 },
 "nbformat": 4,
 "nbformat_minor": 5
}
